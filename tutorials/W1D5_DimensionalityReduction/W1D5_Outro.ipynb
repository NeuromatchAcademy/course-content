{
  "nbformat": 4,
  "nbformat_minor": 0,
  "metadata": {
    "colab": {
      "name": "W1D5_Outro",
      "provenance": [],
      "collapsed_sections": [],
      "toc_visible": true,
      "include_colab_link": true
    },
    "kernel": {
      "display_name": "Python 3",
      "language": "python",
      "name": "python3"
    },
    "kernelspec": {
      "display_name": "Python 3",
      "language": "python",
      "name": "python3"
    },
    "language_info": {
      "codemirror_mode": {
        "name": "ipython",
        "version": 3
      },
      "file_extension": ".py",
      "mimetype": "text/x-python",
      "name": "python",
      "nbconvert_exporter": "python",
      "pygments_lexer": "ipython3",
      "version": "3.7.10"
    }
  },
  "cells": [
    {
      "cell_type": "markdown",
      "metadata": {
        "id": "view-in-github",
        "colab_type": "text"
      },
      "source": [
        "<a href=\"https://colab.research.google.com/github/NeuromatchAcademy/course-content/blob/W1D5_wax/tutorials/W1D5_DimensionalityReduction/W1D5_Outro.ipynb\" target=\"_parent\"><img src=\"https://colab.research.google.com/assets/colab-badge.svg\" alt=\"Open In Colab\"/></a>"
      ]
    },
    {
      "cell_type": "markdown",
      "metadata": {
        "pycharm": {
          "name": "#%% md\n"
        },
        "id": "z6hxq1wHIxtp"
      },
      "source": [
        "# Outro\n"
      ]
    },
    {
      "cell_type": "markdown",
      "metadata": {
        "id": "mZbWR7McIxtq"
      },
      "source": [
        "**Our 2021 Sponsors, including Presenting Sponsor Facebook Reality Labs**\n",
        "\n",
        "<p align='center'><img src='https://github.com/NeuromatchAcademy/widgets/blob/master/sponsors.png?raw=True'/></p>"
      ]
    },
    {
      "cell_type": "markdown",
      "metadata": {
        "pycharm": {
          "name": "#%% md\n"
        },
        "id": "4NTkiPMNIxtq"
      },
      "source": [
        "## Video"
      ]
    },
    {
      "cell_type": "code",
      "metadata": {
        "cellView": "form",
        "execution": {
          "iopub.execute_input": "2021-06-25T15:08:58.369337Z",
          "iopub.status.busy": "2021-06-25T15:08:58.368444Z",
          "iopub.status.idle": "2021-06-25T15:08:58.500712Z",
          "shell.execute_reply": "2021-06-25T15:08:58.500027Z"
        },
        "pycharm": {
          "name": "#%%\n"
        },
        "id": "1_rRzzEYIxtq"
      },
      "source": [
        "# @markdown\n",
        "from ipywidgets import widgets\n",
        "\n",
        "out2 = widgets.Output()\n",
        "with out2:\n",
        "  from IPython.display import IFrame\n",
        "  class BiliVideo(IFrame):\n",
        "      def __init__(self, id, page=1, width=400, height=300, **kwargs):\n",
        "          self.id=id\n",
        "          src = \"https://player.bilibili.com/player.html?bvid={0}&page={1}\".format(id, page)\n",
        "          super(BiliVideo, self).__init__(src, width, height, **kwargs)\n",
        "\n",
        "  video = BiliVideo(id=f\"BV1pi4y1V7tK\", width=854, height=480, fs=1)\n",
        "  print(\"Video available at https://www.bilibili.com/video/{0}\".format(video.id))\n",
        "  display(video)\n",
        "\n",
        "out1 = widgets.Output()\n",
        "with out1:\n",
        "  from IPython.display import YouTubeVideo\n",
        "  video = YouTubeVideo(id=f\"Vaut2BJlv10\", width=854, height=480, fs=1, rel=0)\n",
        "  print(\"Video available at https://youtube.com/watch?v=\" + video.id)\n",
        "  display(video)\n",
        "\n",
        "out = widgets.Tab([out1, out2])\n",
        "out.set_title(0, 'Youtube')\n",
        "out.set_title(1, 'Bilibili')\n",
        "\n",
        "display(out)"
      ],
      "execution_count": null,
      "outputs": []
    },
    {
      "cell_type": "markdown",
      "metadata": {
        "id": "Pr2yTPfPIxtr"
      },
      "source": [
        "## Daily survey\n",
        "\n",
        "Don't forget to complete your reflections and content check in the daily survey! Please be patient after logging in as there is\n",
        "a small delay before you will be redirected to the survey.\n",
        "\n",
        "<a href=\"https://portal.neuromatchacademy.org/api/redirect/to/ec7e7e11-36cb-4ea1-b948-94332692674f\"><img src=\"https://github.com/NeuromatchAcademy/course-content/blob/master/tutorials/static/button.png?raw=1\" alt=\"button link to survey\" style=\"width:410px\"></a>"
      ]
    },
    {
      "cell_type": "markdown",
      "metadata": {
        "pycharm": {
          "name": "#%% md\n"
        },
        "id": "u9EkoMTAIxtr"
      },
      "source": [
        "## Slides"
      ]
    },
    {
      "cell_type": "code",
      "metadata": {
        "cellView": "form",
        "execution": {
          "iopub.execute_input": "2021-06-25T15:08:58.513212Z",
          "iopub.status.busy": "2021-06-25T15:08:58.511668Z",
          "iopub.status.idle": "2021-06-25T15:08:58.515080Z",
          "shell.execute_reply": "2021-06-25T15:08:58.513735Z"
        },
        "pycharm": {
          "name": "#%%\n"
        },
        "id": "U9ux5QBJIxtr"
      },
      "source": [
        "# @markdown\n",
        "from IPython.display import IFrame\n",
        "IFrame(src=f\"https://mfr.ca-1.osf.io/render?url=https://osf.io/763p2/?direct%26mode=render%26action=download%26mode=render\", width=854, height=480)"
      ],
      "execution_count": null,
      "outputs": []
    }
  ]
}