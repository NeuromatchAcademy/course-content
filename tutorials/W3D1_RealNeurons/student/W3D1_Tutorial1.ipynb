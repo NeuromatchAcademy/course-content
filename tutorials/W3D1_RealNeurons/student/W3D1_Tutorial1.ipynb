{
 "cells": [
  {
   "cell_type": "markdown",
   "metadata": {
    "colab_type": "text",
    "id": "view-in-github"
   },
   "source": [
    "<a href=\"https://colab.research.google.com/github/NeuromatchAcademy/course-content/blob/master/tutorials/W3D1_RealNeurons/student/W3D1_Tutorial1.ipynb\" target=\"_parent\"><img src=\"https://colab.research.google.com/assets/colab-badge.svg\" alt=\"Open In Colab\"/></a>"
   ]
  },
  {
   "cell_type": "markdown",
   "metadata": {
    "colab_type": "text",
    "id": "GWwMJ-Wpdz_q"
   },
   "source": [
    "# Neuromatch Academy: Week 3, Day 1, Tutorial 1\n",
    "# Real Neurons: The Leaky Integrate-and-Fire (LIF) Neuron Model"
   ]
  },
  {
   "cell_type": "markdown",
   "metadata": {
    "colab_type": "text",
    "id": "5lOeT1R1d8OE"
   },
   "source": [
    "## Tutorial Objectives\n",
    "\n",
    "This is Tutorial 1 of a series on implementing realistic neuron models. In this tutorial, we will build up a leaky integrate-and-fire (LIF) neuron model and study its dynamics in response to various types of inputs. In particular, we are going to write a few lines of code to:  \n",
    "\n",
    "- simulate the LIF neuron model\n",
    "\n",
    "- drive the LIF neuron with external inputs, such as DC current, Gaussian white noise, and Poisson spike trains, etc.\n",
    "\n",
    "- study how different inputs affect the  LIF neuron's output (firing rate and spike time irregularity)\n",
    "\n",
    "Here we will especially emphasize on identifying conditions (input statistics) under which a neuron can spike at low firing rates and in a irregular manner. The reason for focusing on this is that in most cases neocortical neurons spike in an irregular manner."
   ]
  },
  {
   "cell_type": "markdown",
   "metadata": {
    "colab_type": "text",
    "id": "n8VtgZsOyjJC"
   },
   "source": [
    "# Leaky Integrate-and-Fire (LIF)"
   ]
  },
  {
   "cell_type": "code",
   "execution_count": 1,
   "metadata": {
    "cellView": "form",
    "colab": {
     "base_uri": "https://localhost:8080/",
     "height": 519
    },
    "colab_type": "code",
    "id": "JlHLeA7rCgv6",
    "outputId": "372d98c7-1494-4eba-f463-c40764c4a221"
   },
   "outputs": [
    {
     "name": "stdout",
     "output_type": "stream",
     "text": [
      "Video available at https://youtube.com/watch?v=3cZjjU_HKJs\n"
     ]
    },
    {
     "data": {
      "image/jpeg": "[encoded data removed]",
      "text/html": [
       "\n",
       "        <iframe\n",
       "            width=\"854\"\n",
       "            height=\"480\"\n",
       "            src=\"https://www.youtube.com/embed/3cZjjU_HKJs?fs=1\"\n",
       "            frameborder=\"0\"\n",
       "            allowfullscreen\n",
       "        ></iframe>\n",
       "        "
      ],
      "text/plain": [
       "<IPython.lib.display.YouTubeVideo at 0x7f1ec943c910>"
      ]
     },
     "execution_count": 1,
     "metadata": {},
     "output_type": "execute_result"
    }
   ],
   "source": [
    "#@title Video: LIF neuron\n",
    "from IPython.display import YouTubeVideo\n",
    "video = YouTubeVideo(id='3cZjjU_HKJs', width=854, height=480, fs=1)\n",
    "print(\"Video available at https://youtube.com/watch?v=\" + video.id)\n",
    "video"
   ]
  },
  {
   "cell_type": "markdown",
   "metadata": {
    "colab_type": "text",
    "id": "aeLO8mtpeGQw"
   },
   "source": [
    "# Setup"
   ]
  },
  {
   "cell_type": "code",
   "execution_count": 2,
   "metadata": {
    "cellView": "both",
    "colab": {},
    "colab_type": "code",
    "id": "bQ1Ue4PZd6ur"
   },
   "outputs": [],
   "source": [
    "# Imports\n",
    "import matplotlib.pyplot as plt    # import matplotlib\n",
    "import numpy as np                 # import numpy\n",
    "import time                        # import time\n",
    "import ipywidgets as widgets       # interactive display\n",
    "from scipy.stats import pearsonr   # import pearson correlation"
   ]
  },
  {
   "cell_type": "code",
   "execution_count": 3,
   "metadata": {
    "cellView": "form",
    "colab": {},
    "colab_type": "code",
    "id": "CbZRD2V525mB"
   },
   "outputs": [],
   "source": [
    "#@title Figure Settings\n",
    "%matplotlib inline\n",
    "fig_w, fig_h = 8, 6\n",
    "my_fontsize = 18\n",
    "my_params = {'axes.labelsize': my_fontsize,\n",
    "          'axes.titlesize': my_fontsize,\n",
    "          'figure.figsize': (fig_w, fig_h),\n",
    "          'font.size': my_fontsize,\n",
    "          'legend.fontsize': my_fontsize-4,\n",
    "          'lines.markersize': 8.,\n",
    "          'lines.linewidth': 2.,\n",
    "          'xtick.labelsize': my_fontsize-2,\n",
    "          'ytick.labelsize': my_fontsize-2}\n",
    "\n",
    "plt.rcParams.update(my_params)\n",
    "my_layout = widgets.Layout()"
   ]
  },
  {
   "cell_type": "code",
   "execution_count": 4,
   "metadata": {
    "cellView": "form",
    "colab": {},
    "colab_type": "code",
    "id": "10Lw2LMoDPbR"
   },
   "outputs": [],
   "source": [
    "#@title Helper functions\n",
    "def plot_volt_trace(pars, v, sp):\n",
    "  \"\"\"\n",
    "  Plot trajetory of membrane potential for a single neuron\n",
    "\n",
    "  Expects:\n",
    "  pars   : parameter dictionary\n",
    "  v      : volt trajetory\n",
    "  sp     : spike train\n",
    "\n",
    "  Returns:\n",
    "  figure of the membrane potential trajetory for a single neuron\n",
    "  \"\"\"\n",
    "\n",
    "  V_th = pars['V_th']\n",
    "  dt, range_t = pars['dt'], pars['range_t']\n",
    "  if sp.size:\n",
    "      sp_num = (sp/dt).astype(int)-1\n",
    "      v[sp_num] += 10 # draw nicer spikes\n",
    "\n",
    "  plt.plot(pars['range_t'], v, 'b')\n",
    "  plt.axhline(V_th, 0, 1, color='k', ls='--')\n",
    "  plt.xlabel('Time (ms)')\n",
    "  plt.ylabel('V (mV)')\n",
    "  plt.legend(['Membrane\\npotential', r'Threshold V$_{\\mathrm{th}}$'], loc=[1.05, 0.75])\n",
    "\n",
    "def plot_GWN(pars, I_GWN):\n",
    "  \"\"\"\n",
    "  Args:\n",
    "    pars  : parameter dictionary\n",
    "    I_GWN : Gaussian white noise input\n",
    "\n",
    "  Returns:\n",
    "    figure of the gaussian white noise input\n",
    "  \"\"\" \n",
    "\n",
    "  plt.figure(figsize=(12, 4))\n",
    "  plt.subplot(1,2,1)\n",
    "  plt.plot(pars['range_t'][::3], I_GWN[::3], 'b')\n",
    "  plt.xlabel('Time (ms)')\n",
    "  plt.ylabel(r'$I_{GWN}$ (pA)')\n",
    "  plt.subplot(1,2,2)\n",
    "  plot_volt_trace(pars, v, sp)\n",
    "  plt.tight_layout()\n",
    "\n",
    "def my_hists(isi1, isi2, cv1, cv2):\n",
    "  \"\"\"\n",
    "  Args:\n",
    "    isi1 : vector with inter-spike intervals \n",
    "    isi2 : vector with inter-spike intervals\n",
    "    cv1  : coefficient of variation for isi1\n",
    "    cv2  : coefficient of variation for isi2\n",
    "\n",
    "  Returns:\n",
    "    figure with two histograms, isi1, isi2\n",
    "\n",
    "  \"\"\"\n",
    "  plt.figure(figsize=(11, 4))\n",
    "  my_bins = np.linspace(10, 30, 20)\n",
    "  plt.subplot(1, 2, 1)\n",
    "  plt.hist(isi1, bins=my_bins, color='b', alpha=0.5);\n",
    "  plt.xlabel('ISI (ms)')\n",
    "  plt.ylabel('number')\n",
    "  plt.title(r'$\\sigma=$%.1f, CV$_{\\mathrm{isi}}$=%.3f' % (sig_gwn1, cv1))\n",
    "\n",
    "  plt.subplot(1, 2, 2)\n",
    "  plt.hist(isi2, bins=my_bins, color='b', alpha=0.5);\n",
    "  plt.xlabel('ISI (ms)')\n",
    "  plt.ylabel('number')\n",
    "  plt.title(r'$\\sigma=$%.1f, CV$_{\\mathrm{isi}}$=%.3f' % (sig_gwn2, cv2))\n",
    "  plt.tight_layout()\n",
    "  plt.show()"
   ]
  },
  {
   "cell_type": "markdown",
   "metadata": {
    "colab_type": "text",
    "id": "BoL7Mub0eMzT"
   },
   "source": [
    "# Implementation of an LIF neuron model\n",
    "\n",
    "Now, it's your turn to implement one of the simplest mathematical model of a neuron: the leaky integrate-and-fire (LIF) model. The basic idea of LIF neuron was proposed in 1907 by Louis Édouard Lapicque, long before we understood the electrophysiology of a neuron (see a translation of [Lapicque's paper](https://pubmed.ncbi.nlm.nih.gov/17968583/) ). More details of the model can be found in the book [**Theoretical neuroscience**](http://www.gatsby.ucl.ac.uk/~dayan/book/) by Peter Dayan and Laurence F. Abbott.\n",
    "\n",
    "The subthreshold membrane potential dynamics of a LIF neuron is described by\n",
    "\n",
    "\\begin{eqnarray}\n",
    "C_m\\frac{dV}{dt} = -g_L(V-E_L) + I,\\quad (1)\n",
    "\\end{eqnarray}\n",
    "\n",
    "where $C_m$ is the membrane capacitance, $V$ is the membrane potential, $g_L$ is the leak conductance ($g_L = 1/R$, the inverse of the leak resistence $R$ mentioned in previous tutorials), $E_L$ is the resting potential, and $I$ is the external input current. \n",
    "\n",
    "Dividing both sides of the above equation by $g_L$ gives\n",
    "\n",
    "\\begin{align}\n",
    "\\tau_m\\frac{dV}{dt} = -(V-E_L) + \\frac{I}{g_L}\\,,\\quad (2)\n",
    "\\end{align}\n",
    "\n",
    "where the $\\tau_m$ is membrane time constant and is defined as $\\tau_m=C_m/g_L$. \n",
    "\n",
    "You might wonder how come dividing capacitance by conductance gives units of time! Find out yourself why it is so.\n",
    "\n",
    "Below we will use Eqn.(1) to simulate the LIF neuron dynamics. \n",
    "\n",
    "If $I$ is sufficiently strong such that $V$ reaches a certain threshold value $V_{\\rm th}$, $V$ is reset to a reset potential $V_{\\rm reset}< V_{\\rm th}$ and voltage is clamped to $V_{\\rm reset}$ for $\\tau_{\\rm ref}$ ms mimicking the refractoriness of the neuron during an action potential, _i.e._,\n",
    "\n",
    "\\begin{eqnarray}\n",
    "\\mathrm{if}\\quad V(t_{\\text{sp}})\\geq V_{\\rm th}&:& V(t)=V_{\\rm reset} \\text{  for } t\\in(t_{\\text{sp}}, t_{\\text{sp}} + \\tau_{\\text{ref}}]\n",
    "\\end{eqnarray}\n",
    "where $t_{\\rm sp}$ is the spike time when $V(t)$ just exceeded $V_{\\rm th}$.\n",
    "\n",
    "---\n",
    "Note: in the lecture slides, $\\theta$ corresponds to the threshold voltage $V_{th}$, and $\\Delta$ corresponds to the refractory time $\\tau_{\\rm ref}$.\n",
    "\n",
    "---\n",
    "\n",
    "Thus, the LIF model captures the facts that a neuron\n",
    "- performs spatial and temporal integration of synaptic inputs \n",
    "- generates a spike when the voltage reaches a certain threshold\n",
    "- goes refractory during the action potential\n",
    "- membrane is leaky\n",
    "\n",
    "The LIF model assumes that spatial and temporal integration of inputs is linear. Also, membrane potential dynamics close to the spike threshold is much slower in LIF neurons than in real neurons. \n"
   ]
  },
  {
   "cell_type": "markdown",
   "metadata": {
    "colab_type": "text",
    "id": "fjIvCaXQeQLu"
   },
   "source": [
    "## Python code to simulate the LIF neuron\n",
    "\n",
    "We now **write** Python code to calculate Eqn.(2) and simulate the LIF neuron dynamics.\n",
    "\n",
    "The cell below initializes a dictionary that stores parameters of the LIF neuron model and the simulation scheme. You can use `pars=default_pars(T=simulation_time, dt=time_step)` to get the parameters (you can try to print the dictionary `pars`). Note that, `simulation_time` and `time_step` have the unit `ms`. In addition, you can add the value to a new parameter by `pars['New_param'] = value`."
   ]
  },
  {
   "cell_type": "code",
   "execution_count": 5,
   "metadata": {
    "cellView": "form",
    "colab": {},
    "colab_type": "code",
    "id": "0FILOnWKdvZg"
   },
   "outputs": [],
   "source": [
    "#@title Default value function: `default_pars( **kwargs)` \n",
    "def default_pars(**kwargs):\n",
    "    pars = {}\n",
    "    \n",
    "    ### typical neuron parameters###\n",
    "    pars['V_th']    = -55. # spike threshold [mV]\n",
    "    pars['V_reset'] = -75. #reset potential [mV]\n",
    "    pars['tau_m']   = 10. # membrane time constant [ms]\n",
    "    pars['g_L']     = 10. #leak conductance [nS]\n",
    "    pars['V_init']  = -65. # initial potential [mV]\n",
    "    pars['E_L']     = -75. #leak reversal potential [mV]\n",
    "    pars['tref']    = 2. # refractory time (ms)\n",
    "\n",
    "    ### simulation parameters ###\n",
    "    pars['T'] = 400. # Total duration of simulation [ms]\n",
    "    pars['dt'] = .1  # Simulation time step [ms]\n",
    "    \n",
    "    ### external parameters if any ###\n",
    "    for k in kwargs:\n",
    "        pars[k] = kwargs[k]\n",
    "    \n",
    "    pars['range_t'] = np.arange(0, pars['T'], pars['dt']) # Vector of discretized time points [ms]\n",
    "        \n",
    "    return pars"
   ]
  },
  {
   "cell_type": "markdown",
   "metadata": {
    "colab_type": "text",
    "id": "jhUj07dveXRK"
   },
   "source": [
    "The cell below defines the function to simulate the LIF neuron when receiving external current inputs. You can use `v, sp = run_LIF(pars, I)` to get the membrane potential and spike train with give `pars` and input current `I`."
   ]
  },
  {
   "cell_type": "code",
   "execution_count": 6,
   "metadata": {
    "cellView": "form",
    "colab": {
     "base_uri": "https://localhost:8080/",
     "height": 260
    },
    "colab_type": "code",
    "id": "Hhk7e-QreVSh",
    "outputId": "78539edc-afc4-4c9f-bacf-efce77fa1490"
   },
   "outputs": [
    {
     "name": "stdout",
     "output_type": "stream",
     "text": [
      "Help on function run_LIF in module __main__:\n",
      "\n",
      "run_LIF(pars, I)\n",
      "    Simulate the LIF dynamics with external input current \n",
      "    \n",
      "    Expects:\n",
      "    pars       : parameter dictionary\n",
      "    I          : input current [pA]. The injected current here can be a value or an array\n",
      "    \n",
      "    Returns:\n",
      "    rec_v      : mebrane potential\n",
      "    rec_sp     : spike times\n",
      "\n",
      "None\n"
     ]
    }
   ],
   "source": [
    "#@title Function `run_LIF(pars, I)` \n",
    "\n",
    "def run_LIF(pars, I):\n",
    "    '''\n",
    "    Simulate the LIF dynamics with external input current \n",
    "    \n",
    "    Expects:\n",
    "    pars       : parameter dictionary\n",
    "    I          : input current [pA]. The injected current here can be a value or an array\n",
    "    \n",
    "    Returns:\n",
    "    rec_v      : mebrane potential\n",
    "    rec_sp     : spike times\n",
    "    '''\n",
    "    \n",
    "    # Set parameters\n",
    "    V_th, V_reset = pars['V_th'], pars['V_reset']   \n",
    "    tau_m, g_L = pars['tau_m'], pars['g_L']        \n",
    "    V_init, E_L = pars['V_init'], pars['E_L']       \n",
    "    dt, range_t = pars['dt'], pars['range_t'] \n",
    "    Lt = range_t.size \n",
    "    tref = pars['tref']\n",
    "    # Initialize voltage and current \n",
    "    v = np.zeros(Lt)\n",
    "    v[0] = V_init\n",
    "    I = I * np.ones(Lt) \n",
    "    tr = 0. # the count for refractory duration\n",
    "    # simulate the LIF dynamics \n",
    "    rec_spikes = []               # record spike times\n",
    "    for it in range(Lt-1):\n",
    "      if tr >0: # check for refractoriness\n",
    "            v[it] = V_reset\n",
    "            tr = tr-1\n",
    "      elif v[it] >= V_th:         #reset voltage and record spike event\n",
    "            rec_spikes.append(it)\n",
    "            v[it] = V_reset\n",
    "            tr = tref/dt\n",
    "      #calculate the increment of the membrane potential\n",
    "      dv = (-(v[it]-E_L) + I[it]/g_L) * (dt/tau_m)\n",
    "        \n",
    "      #update the membrane potential\n",
    "      v[it+1] = v[it] + dv\n",
    "        \n",
    "    rec_spikes = np.array(rec_spikes) * dt\n",
    "        \n",
    "    return v, rec_spikes\n",
    "\n",
    "print(help(run_LIF))"
   ]
  },
  {
   "cell_type": "markdown",
   "metadata": {
    "colab_type": "text",
    "id": "Ym8nTzhTP2Eh"
   },
   "source": [
    "## Response of an LIF model to different types of input currents\n",
    "In the following we will learn how to inject direct current and white noise to study the response of an LIF neuron."
   ]
  },
  {
   "cell_type": "code",
   "execution_count": 7,
   "metadata": {
    "cellView": "form",
    "colab": {
     "base_uri": "https://localhost:8080/",
     "height": 519
    },
    "colab_type": "code",
    "id": "nZXVk-ssyL3N",
    "outputId": "f2d3b3a8-f702-4873-ddc2-3f05428ee4fd"
   },
   "outputs": [
    {
     "name": "stdout",
     "output_type": "stream",
     "text": [
      "Video available at https://youtube.com/watch?v=VNAQbj6uNWo\n"
     ]
    },
    {
     "data": {
      "image/jpeg": "[encoded data removed]",
      "text/html": [
       "\n",
       "        <iframe\n",
       "            width=\"854\"\n",
       "            height=\"480\"\n",
       "            src=\"https://www.youtube.com/embed/VNAQbj6uNWo?fs=1\"\n",
       "            frameborder=\"0\"\n",
       "            allowfullscreen\n",
       "        ></iframe>\n",
       "        "
      ],
      "text/plain": [
       "<IPython.lib.display.YouTubeVideo at 0x7f1e9816ba90>"
      ]
     },
     "execution_count": 7,
     "metadata": {},
     "output_type": "execute_result"
    }
   ],
   "source": [
    "#@title Video: Response of the LIF neuron to different inputs\n",
    "from IPython.display import YouTubeVideo\n",
    "video = YouTubeVideo(id='VNAQbj6uNWo', width=854, height=480, fs=1)\n",
    "print(\"Video available at https://youtube.com/watch?v=\" + video.id)\n",
    "video"
   ]
  },
  {
   "cell_type": "markdown",
   "metadata": {
    "colab_type": "text",
    "id": "KhKy4OKhecO9"
   },
   "source": [
    "### Exercise 1: LIF neuron driven by Constant current\n",
    "Investigate the voltage response of the LIF neuron when receiving a DC current of 300 pA by `run_LIF` function."
   ]
  },
  {
   "cell_type": "code",
   "execution_count": 8,
   "metadata": {
    "colab": {},
    "colab_type": "code",
    "id": "zLsDv73J--xW"
   },
   "outputs": [],
   "source": [
    "# Exercise 1\n",
    "pars = default_pars(T=100.) # get the parameters\n",
    "  \n",
    "########################################################################\n",
    "## TODO for students: compute the membrane potential v, spike train sp #\n",
    "########################################################################\n",
    "\n",
    "# Uncomment these lines after obtaining v and sp\n",
    "# plot_volt_trace(pars, v, sp)\n",
    "# plt.show()"
   ]
  },
  {
   "cell_type": "markdown",
   "metadata": {
    "colab": {
     "base_uri": "https://localhost:8080/",
     "height": 399
    },
    "colab_type": "text",
    "id": "6wBTrRy4ea19",
    "outputId": "0d6c2ec3-a1d3-40db-ebfb-76f51f081ab4"
   },
   "source": [
    "[*Click for solution*](https://github.com/NeuromatchAcademy/course-content/tree/master//tutorials/W3D1_RealNeurons/solutions/W3D1_Tutorial1_Solution_5615b9d9.py)\n",
    "\n",
    "*Example output:*\n",
    "\n",
    "<img alt='Solution hint' align='left' width=685 height=391 src=https://raw.githubusercontent.com/NeuromatchAcademy/course-content/master/tutorials/W3D1_RealNeurons/static/W3D1_Tutorial1_Solution_5615b9d9_0.png>\n",
    "\n"
   ]
  },
  {
   "cell_type": "markdown",
   "metadata": {
    "colab_type": "text",
    "id": "EH43tvU_HwG_"
   },
   "source": [
    "In the plot above you see the membrane potential of an LIF neuron. You may notice that the neuron generates a spike. But this is just a cosmetic spike only for illustration purpose. In LIF neuron we only need to keep track of times when the neuron hit the threshold so the postsynaptic neurons can be informed of the spike. "
   ]
  },
  {
   "cell_type": "markdown",
   "metadata": {
    "colab_type": "text",
    "id": "tuxT1fC2mo8c"
   },
   "source": [
    "### Parameter Exploration\n",
    "Here's an interactive demo that shows how the LIF neuron behavior changes for  DC input with different amplitudes.\n",
    "\n",
    "**Remember to enable the demo by running the cell.**\n"
   ]
  },
  {
   "cell_type": "code",
   "execution_count": 10,
   "metadata": {
    "cellView": "form",
    "colab": {
     "base_uri": "https://localhost:8080/",
     "height": 509,
     "referenced_widgets": [
      "9959af25a1714547a487458de3febb43",
      "e93c5d10970440a993897f3661dc73ab",
      "92b3d3e29bf745b5bc509315fd967b56",
      "aa88794bb7eb42c992b2aae43339f324",
      "c61acf5e7b2e4c3b8fa251e7189e7a58",
      "2c7e9da787174e3dbcb0be4d63c3c51b",
      "8a9f0d31d9de47f2bd390c3f0285e130",
      "2b36867f3514484a8208a6f255e0f0c0",
      "011e99dee02b40838d921fb2b769940d"
     ]
    },
    "colab_type": "code",
    "id": "aFqJZUNGotb5",
    "outputId": "d86967ae-c89d-4449-f4a4-def08b85e7ad"
   },
   "outputs": [
    {
     "data": {
      "image/png": "[encoded data removed]",
      "text/plain": [
       "<Figure size 576x432 with 1 Axes>"
      ]
     },
     "metadata": {},
     "output_type": "display_data"
    }
   ],
   "source": [
    "#@title LIF neuron explorer for DC input\n",
    "my_layout.width = '450px'\n",
    "@widgets.interact(\n",
    "    I_dc  = widgets.FloatSlider(200., min=100., max=300., step=5., layout=my_layout),\n",
    "    tau_m = widgets.FloatSlider(10., min=2., max=20., step=2., layout=my_layout)\n",
    ")\n",
    "\n",
    "def diff_DC(I_dc=200., tau_m=10.):\n",
    "  pars = default_pars(T=100.)\n",
    "  pars['tau_m'] = tau_m\n",
    "  v, sp = run_LIF(pars, I = I_dc)\n",
    "  with plt.xkcd():\n",
    "    plot_volt_trace(pars, v, sp)"
   ]
  },
  {
   "cell_type": "markdown",
   "metadata": {
    "colab_type": "text",
    "id": "gLoch3guefQG"
   },
   "source": [
    "## Gaussian white noise (GWN) current \n",
    "\n",
    "Given the noisy nature of neuronal activity _in vivo_, neurons usually receive complex, time-varying inputs.\n",
    "\n",
    "To mimic this, we will now investigate the neuronal response when the LIF neuron receives Gaussian white noise $\\xi(t)$ with mean \n",
    "\n",
    "\\begin{eqnarray}\n",
    "E[\\xi(t)]=\\mu=0,\n",
    "\\end{eqnarray}\n",
    "\n",
    "and autocovariance \n",
    "\\begin{eqnarray}\n",
    "E[\\xi(t)\\xi(t+\\tau)]=\\sigma_\\xi^2 \\delta(\\tau)\n",
    "\\end{eqnarray}\n",
    "\n",
    "Note that the GWN has the zero mean, that is, it describes the fluctuations of the input received by a neuron. Thus, at the same time, we can use the DC current as the average input into the cell, which allows us to modify the definition of GWN by having a nonzero mean value $\\mu$. The cell below defines the modified gaussian white noise currents with nonzero mean $\\mu$."
   ]
  },
  {
   "cell_type": "code",
   "execution_count": 11,
   "metadata": {
    "cellView": "form",
    "colab": {},
    "colab_type": "code",
    "id": "qBWHhnNnehYX"
   },
   "outputs": [],
   "source": [
    "#@title Function to generate GWN: `my_GWN(pars, mu, sig, myseed=False)`\n",
    "def my_GWN(pars, mu, sig, myseed=False):\n",
    "  \"\"\"\n",
    "  Function that generates Gaussian white noise input\n",
    "\n",
    "  Args:\n",
    "    pars       : parameter dictionary\n",
    "    mu         : noise baseline (mean)\n",
    "    sig        : noise amplitute (standard deviation)\n",
    "    myseed     : random seed. int or boolean\n",
    "                 the same seed will give the same \n",
    "                 random number sequence\n",
    "    \n",
    "  Returns:\n",
    "    I          : Gaussian white noise input\n",
    "  \"\"\"\n",
    "  \n",
    "  # Retrieve simulation parameters\n",
    "  dt, range_t = pars['dt'], pars['range_t']\n",
    "  Lt = range_t.size\n",
    "  \n",
    "  # set random seed  \n",
    "  # you can fix the seed of the random number generator so that the results are reliable \n",
    "  # however, when you want to generate multiple realization make sure that you change \n",
    "  # the seed for each new realization\n",
    "  if myseed:\n",
    "      np.random.seed(seed=myseed) \n",
    "  else:\n",
    "      np.random.seed()\n",
    "      \n",
    "  # generate GWN\n",
    "  # we divide here by 1000 to convert units to sec.\n",
    "  I =  mu + sig * np.random.randn(Lt) / np.sqrt(dt/1000.) \n",
    "  \n",
    "  return I"
   ]
  },
  {
   "cell_type": "markdown",
   "metadata": {
    "colab_type": "text",
    "id": "vcSTEVMoemrf"
   },
   "source": [
    "#### Exercise 2: LIF neuron driven by GWN\n",
    "\n",
    "You can gnerate a noisy input with `my_GWN(pars, mu, sig, myseed=False)`. Here, $\\mu=250$ and $\\sigma=5$. Note that fixing the value of the random seed (e.g., `myseed=2020`) will allow you to obtain the same result every time you run this. "
   ]
  },
  {
   "cell_type": "code",
   "execution_count": 12,
   "metadata": {
    "colab": {},
    "colab_type": "code",
    "id": "vOoaaocSelHW"
   },
   "outputs": [],
   "source": [
    "# Exercise\n",
    "pars = default_pars(T=100.)\n",
    "sig_gwn = 5.\n",
    "mu_gwn  = 250.\n",
    "#######################################################\n",
    "## TODO for students: compute the noisy input I_GWN   # \n",
    "## and then compute v, sp with inject I_GWN into LIF  #\n",
    "#######################################################\n",
    "#I_GWN = ...\n",
    "#v, sp = ...\n",
    "\n",
    "# Uncomment these lines after obtianing v, sp\n",
    "# plot_GWN(pars, I_GWN)\n",
    "# plt.show()\n"
   ]
  },
  {
   "cell_type": "markdown",
   "metadata": {
    "colab": {
     "base_uri": "https://localhost:8080/",
     "height": 289
    },
    "colab_type": "text",
    "id": "AnaKutpEKSPM",
    "outputId": "26c6430c-02c4-426d-ce2f-c561d91ae83b"
   },
   "source": [
    "[*Click for solution*](https://github.com/NeuromatchAcademy/course-content/tree/master//tutorials/W3D1_RealNeurons/solutions/W3D1_Tutorial1_Solution_7d86d7ff.py)\n",
    "\n",
    "*Example output:*\n",
    "\n",
    "<img alt='Solution hint' align='left' width=845 height=278 src=https://raw.githubusercontent.com/NeuromatchAcademy/course-content/master/tutorials/W3D1_RealNeurons/static/W3D1_Tutorial1_Solution_7d86d7ff_0.png>\n",
    "\n"
   ]
  },
  {
   "cell_type": "markdown",
   "metadata": {
    "colab_type": "text",
    "id": "oxCp93MLfFyj"
   },
   "source": [
    "#### Parameter Exploration\n",
    "Here's an interactive demo that shows how the LIF neuron behavior changes for  noisy input with different amplitude and the mean $\\mu$ and fluctuation $\\sigma$.\n",
    "\n",
    "**Remember to enable the demo by running the cell.**\n"
   ]
  },
  {
   "cell_type": "code",
   "execution_count": 14,
   "metadata": {
    "cellView": "form",
    "colab": {
     "base_uri": "https://localhost:8080/",
     "height": 353,
     "referenced_widgets": [
      "3143bb71c00345c88b0530d7ffe708b9",
      "8c89edda36bf436a8fe1cf4a3bb754f8",
      "707b01d5ced045f791dbe556bad21dd7",
      "9dd1ad9ffd53481799f213de260c1296",
      "1ba177068a49486793bac0c7a18e36a9",
      "1c89ff3bbff847dd845def06a5278b8d",
      "8a9f0d31d9de47f2bd390c3f0285e130",
      "17d1d51488634a99baef8b60d745407f",
      "4383bb5e829c4e098d29ef739fa66d01"
     ]
    },
    "colab_type": "code",
    "id": "Gp-7ip0yfHHi",
    "outputId": "70214160-7423-4dab-f36c-0d1bcbf14892"
   },
   "outputs": [
    {
     "data": {
      "image/png": "[encoded data removed]",
      "text/plain": [
       "<Figure size 864x288 with 2 Axes>"
      ]
     },
     "metadata": {},
     "output_type": "display_data"
    }
   ],
   "source": [
    "#@title LIF neuron Explorer for noisy input\n",
    "\n",
    "my_layout.width = '450px'\n",
    "@widgets.interact(\n",
    "    mu_gwn  = widgets.FloatSlider(200., min=100., max=300., step=5., layout=my_layout),\n",
    "    sig_gwn = widgets.FloatSlider(2.5, min=0., max=5., step=.5, layout=my_layout)\n",
    ")\n",
    "\n",
    "\n",
    "def diff_GWN_to_LIF(mu_gwn,sig_gwn):\n",
    "    pars = default_pars(T=100.)\n",
    "    I_GWN = my_GWN(pars, mu = mu_gwn, sig=sig_gwn)\n",
    "    v, sp = run_LIF(pars, I =I_GWN)\n",
    "    with plt.xkcd():\n",
    "        plt.figure(figsize=(12, 4))\n",
    "        plt.subplot(1,2,1)\n",
    "        plt.plot(pars['range_t'][::3], I_GWN[::3], 'b')\n",
    "        plt.xlabel('Time (ms)')\n",
    "        plt.ylabel(r'$I_{GWN}$ (pA)')\n",
    "        plt.subplot(1,2,2)\n",
    "        plot_volt_trace(pars, v, sp)\n",
    "        plt.tight_layout()\n",
    "        plt.show()\n",
    "\n",
    "#_ = widgets.interact(diff_GWN_to_LIF, mu_gwn = (-100., 400., 5.),sig_gwn = (0, 5., 0.5))   "
   ]
  },
  {
   "cell_type": "markdown",
   "metadata": {
    "colab_type": "text",
    "id": "BMdtWouUS5XP"
   },
   "source": [
    "#### Think\n",
    "- As we increase the input average ($\\mu$) or the input fluctuation ($\\sigma$), the spike count changes. How much can we increase the spike count and what might be the relationship between GWN mean/std or DC value and spike count? \n",
    "\n",
    "- We have seen above that when we inject DC the neuron spikes in a regular manner (clock like) and this regularity is reduced when GWN is injected. The question is how much irregular can we make the neurons spiking by changing the parameters of the GWN? \n"
   ]
  },
  {
   "cell_type": "markdown",
   "metadata": {
    "colab_type": "text",
    "id": "FtOGDzgqVruw"
   },
   "source": [
    "## Firing rate and spike time irregularity\n",
    "When we plot the output firing rate as a function of GWN mean or DC value, it is called the input-output transfer function of the neuron (so simply F-I curve).\n",
    "\n",
    "Spike regularity can be quanitfied as **coefficient of variance (CV) of the inter-spike-interval (ISI)**:\n",
    "\\begin{align}\n",
    "\\text{CV}_{\\text{ISI}} = \\frac{std(\\text{ISI})}{mean(\\text{ISI})}\n",
    "\\end{align}\n",
    "\n",
    "A Poisson train is an example of high irregularity, in which $\\textbf{CV}_{\\textbf{ISI}} \\textbf{= 1}$. And for a clock like process (regular) we have $\\textbf{CV}_{\\textbf{ISI}} \\textbf{= 0}$ because of **std(ISI)=0**."
   ]
  },
  {
   "cell_type": "markdown",
   "metadata": {
    "colab_type": "text",
    "id": "MVoP1FikcVbZ"
   },
   "source": [
    "#### Parameter Exploration\n",
    "Here's an interactive demo that shows how the F-I curve of a LIF neuron changes for different level of fluctuation $\\sigma$."
   ]
  },
  {
   "cell_type": "code",
   "execution_count": 15,
   "metadata": {
    "cellView": "form",
    "colab": {
     "base_uri": "https://localhost:8080/",
     "height": 431,
     "referenced_widgets": [
      "2ee8b1f461bf4b3baacb57cc864b12b4",
      "6efa6296939946d197552559f55351e8",
      "5058d348db094495bf8a32eeb4488340",
      "b5262b80c4da45deaf5e8b8e850a44d0",
      "10e9cd8a45b64718ac04a63f8be47957",
      "8a9f0d31d9de47f2bd390c3f0285e130",
      "e78795c6087844f98ab2fab79d86f2a1"
     ]
    },
    "colab_type": "code",
    "id": "1F4SYTYFUkzJ",
    "outputId": "44fe2ca2-9633-447c-8984-ecdb57995565"
   },
   "outputs": [
    {
     "data": {
      "image/png": "[encoded data removed]",
      "text/plain": [
       "<Figure size 576x432 with 1 Axes>"
      ]
     },
     "metadata": {},
     "output_type": "display_data"
    }
   ],
   "source": [
    "#@title F-I Explorer for different `sig_gwn`\n",
    "\n",
    "my_layout.width = '450px'\n",
    "@widgets.interact(\n",
    "    sig_gwn = widgets.FloatSlider(3.0, min=0., max=6., step=0.5, layout=my_layout)\n",
    ")\n",
    "\n",
    "def diff_std_affect_fI(sig_gwn):\n",
    "  pars = default_pars(T=1000.)\n",
    "  I_mean = np.arange(100.,400., 10.)\n",
    "  spk_count = np.zeros(len(I_mean))\n",
    "  spk_count_dc = np.zeros(len(I_mean))\n",
    "\n",
    "  for idx in range(len(I_mean)):\n",
    "      I_GWN = my_GWN(pars, mu=I_mean[idx], sig=sig_gwn, myseed=2020)\n",
    "      v, rec_spikes = run_LIF(pars, I =I_GWN)\n",
    "      v_dc, rec_sp_dc = run_LIF(pars, I =I_mean[idx])\n",
    "      spk_count[idx] = len(rec_spikes)\n",
    "      spk_count_dc[idx] = len(rec_sp_dc)\n",
    "  \n",
    "  # Plot the F-I curve i.e. Output firing rate as a function of input mean.\n",
    "  with plt.xkcd():\n",
    "    plt.figure()\n",
    "    plt.plot(I_mean, spk_count, 'k', label=r'$\\sigma_{\\mathrm{GWN}}=%.2f$' % sig_gwn)\n",
    "    plt.plot(I_mean, spk_count_dc, 'k--', alpha=0.5, lw=4, dashes=(2,2), label='DC input')\n",
    "    plt.ylabel('Spike count')\n",
    "    plt.xlabel('Average injected current (pA)')\n",
    "    plt.legend(loc='best')\n",
    "    plt.show()"
   ]
  },
  {
   "cell_type": "markdown",
   "metadata": {
    "colab_type": "text",
    "id": "tSPwhEXUVn4J"
   },
   "source": [
    "#### Exercise 3: Compute $CV_{ISI}$ values\n",
    "\n",
    "As shown above, the F-I curve becomes smoother while increasing the amplitude of the fluctuation ($\\sigma$). In addition, the fluctuation can also change the irregularity of the spikes. Let's investigate the effect of $\\mu=250$, $\\sigma=0.5$ and $\\sigma=3$. \n",
    "\n",
    "Fill in the code below to compute ISI, then plot the histogram of the ISI and compute the CV(ISI). Note that, you can use `np.diff(spike_time)` to calculate ISI."
   ]
  },
  {
   "cell_type": "code",
   "execution_count": 16,
   "metadata": {
    "colab": {},
    "colab_type": "code",
    "id": "AmsfQFpIaP9a"
   },
   "outputs": [],
   "source": [
    "# Exercise\n",
    "\n",
    "pars = default_pars(T=1000.) # run a little bit long time for sufficient data\n",
    "mu_gwn  = 250.\n",
    "\n",
    "sig_gwn1 = 0.5\n",
    "I_GWN = my_GWN(pars, mu = mu_gwn, sig=sig_gwn1, myseed=2020)\n",
    "v, sp1 = run_LIF(pars, I=I_GWN)\n",
    "\n",
    "sig_gwn2 = 3.0\n",
    "I_GWN = my_GWN(pars, mu = mu_gwn, sig=sig_gwn2, myseed=2020)\n",
    "v, sp2 = run_LIF(pars, I=I_GWN)\n",
    "\n",
    "##################################################################\n",
    "## TODO for students: compute isi for sp1 and sp2,               #\n",
    "##                    then compute their corresponding cv value  #\n",
    "##################################################################\n",
    "#isi = ...\n",
    "#cv  = ...\n",
    "\n",
    "\n",
    "# Uncomment these lines below after you have isi/cv\n",
    "# hists(isi1, isi2, cv1, cv2)\n"
   ]
  },
  {
   "cell_type": "markdown",
   "metadata": {
    "colab": {
     "base_uri": "https://localhost:8080/",
     "height": 289
    },
    "colab_type": "text",
    "id": "C-ejnNfKdVSF",
    "outputId": "b6c27fa4-c4bb-4a78-d76b-b183a352bf80"
   },
   "source": [
    "[*Click for solution*](https://github.com/NeuromatchAcademy/course-content/tree/master//tutorials/W3D1_RealNeurons/solutions/W3D1_Tutorial1_Solution_68d62a48.py)\n",
    "\n",
    "*Example output:*\n",
    "\n",
    "<img alt='Solution hint' align='left' width=776 height=272 src=https://raw.githubusercontent.com/NeuromatchAcademy/course-content/master/tutorials/W3D1_RealNeurons/static/W3D1_Tutorial1_Solution_68d62a48_0.png>\n",
    "\n"
   ]
  },
  {
   "cell_type": "markdown",
   "metadata": {
    "colab_type": "text",
    "id": "Jv5_Me1gSYYk"
   },
   "source": [
    "#### Parameter Exploration\n",
    "Here's an interactive demo that shows how the function of CVs on the mean current $\\mu$ changes for different level of fluctuation $\\sigma$.\n"
   ]
  },
  {
   "cell_type": "code",
   "execution_count": 18,
   "metadata": {
    "cellView": "form",
    "colab": {
     "base_uri": "https://localhost:8080/",
     "height": 432,
     "referenced_widgets": [
      "e57e8d62e0e8480a9b2520afaaaaee61",
      "0ce8697d62424bcea9c879c2ba7e47cd",
      "c82d42edc7564f9eaa5cda8f931996a4",
      "fb4e7e2d928d4fc1b20dea9b18056b2f",
      "8c8d4df360a54554a044d5b963327e56",
      "8a9f0d31d9de47f2bd390c3f0285e130",
      "280526a4d69b45afbfa897315406e7a2"
     ]
    },
    "colab_type": "code",
    "id": "8i4WJLm7SSLQ",
    "outputId": "b9f76f90-5889-4155-c8bd-d21eb978c12e"
   },
   "outputs": [
    {
     "data": {
      "image/png": "[encoded data removed]",
      "text/plain": [
       "<Figure size 576x432 with 1 Axes>"
      ]
     },
     "metadata": {},
     "output_type": "display_data"
    }
   ],
   "source": [
    "#@title Spike irregularity Explorer for different `sig_gwn`\n",
    "\n",
    "my_layout.width = '450px'\n",
    "@widgets.interact(\n",
    "    sig_gwn = widgets.FloatSlider(0.0, min=0., max=5., step=0.5, layout=my_layout)\n",
    ")\n",
    "\n",
    "\n",
    "def diff_std_affect_fI(sig_gwn):\n",
    "  pars = default_pars(T=1000.)\n",
    "  I_mean = np.arange(100.,400.,20)\n",
    "  spk_count = np.zeros(len(I_mean))\n",
    "  cv_isi = np.empty(len(I_mean))\n",
    "\n",
    "  for idx in range(len(I_mean)):\n",
    "    I_GWN = my_GWN(pars, mu=I_mean[idx], sig=sig_gwn)\n",
    "    v, rec_spikes = run_LIF(pars, I =I_GWN)\n",
    "    spk_count[idx] = len(rec_spikes)\n",
    "    if len(rec_spikes)>3:\n",
    "      isi = np.diff(rec_spikes)\n",
    "      cv_isi[idx] = np.std(isi)/np.mean(isi)\n",
    "  \n",
    "  # Plot the F-I curve i.e. Output firing rate as a function of input mean.\n",
    "  with plt.xkcd():\n",
    "    plt.plot(I_mean[spk_count>5],cv_isi[spk_count>5], 'bo', alpha=0.5)\n",
    "    plt.xlabel('Average injected current (pA)')\n",
    "    plt.ylabel(r'Spike irregularity ($\\mathrm{CV}_\\mathrm{ISI}$)');\n",
    "    plt.ylim(-0.1, 1.5)\n",
    "    plt.show()"
   ]
  },
  {
   "cell_type": "markdown",
   "metadata": {
    "colab_type": "text",
    "id": "7vdviimqRdXl"
   },
   "source": [
    "#### Try to answer the following\n",
    "- Does standard deviation of the injected current affects the F-I curve in any qualitative manner?\n",
    "- Why does increasing the mean of GWN reduce the $CV_{ISI}$?\n",
    "- If you plot spike count (or rate) vs. $CV_{ISI}$, should there be a relationship between the two? Try out yourself.\n"
   ]
  },
  {
   "cell_type": "markdown",
   "metadata": {
    "colab_type": "text",
    "id": "CgO7mhM_fbk1"
   },
   "source": [
    "## Generation of Poisson type spike trains\n",
    "\n",
    "*In the next tutorials we will often use Poisson type spike train to explore properties of neurons and synapses. Therefore, it is good to know how to generate Poisson type spike trains.*\n",
    "\n",
    "Mathematically a spike train is a Point Process. One of the simplest model of a sequence of presynaptic pulse inputs is the Poisson process. We know that given temporal integration and refractoriness, neurons cannot behave as a Poisson Process, and Gamma Process (*find out what might be the difference in the two processes*) gives a better approximation. \n",
    "Here, however, we will assume that the incoming spike are following Poisson statistics. Question arises how to simulate a Poisson Process. The generation of the Poisson process can be realized by at least the following two ways:\n",
    "\n",
    "- By definition, for a Poisson process with rate $\\lambda$, the probability of finding one event in the time window with a sufficiently small length $\\Delta t$ is $P(N = 1) = \\lambda \\Delta t$. Therefore, in each time window, we generate a uniformly distributed random variable $r \\in [0,1]$ and generate a Poisson event when $r <\\lambda \\Delta t$. This method allows us to generate Poisson distributed spikes in an online manner.\n",
    "\n",
    "\n",
    "- The interval $t_{k+1}-t_{k}$ between two Poisson events with rate $\\lambda$ follows the exponential distribution, i.e., $P(t_{k+1}-t_{k}<t) = 1 - e^{\\lambda t}$. Therefore, we only need to generate a set of exponentially distributed variables $\\{s_k\\}$ to obtain the timing of Poisson events $t_{k+1}=t_{k}+s_{k}$. In this method we need to generate all future spikes at once. \n",
    "\n",
    "Below we use the first method and check the statistical property of the time interval between two Poisson events."
   ]
  },
  {
   "cell_type": "code",
   "execution_count": 19,
   "metadata": {
    "cellView": "form",
    "colab": {},
    "colab_type": "code",
    "id": "sGeDeA4-fWI6"
   },
   "outputs": [],
   "source": [
    "#@title `Poisson_generator(pars, rate, n, myseed=False)`\n",
    "def Poisson_generator(pars, rate, n, myseed=False):\n",
    "  \"\"\"\n",
    "  Generates poisson trains\n",
    "  \n",
    "  Args:\n",
    "    pars            : parameter dictionary\n",
    "    rate            : noise amplitute [Hz]\n",
    "    n               : number of Poisson trains\n",
    "    myseed          : random seed. int or boolean\n",
    "  \n",
    "  Returns:\n",
    "    pre_spike_train : spike train matrix, ith row represents whether\n",
    "                      there is a spike in ith spike train over time\n",
    "                      (1 if spike, 0 otherwise)\n",
    "  \"\"\"\n",
    "  \n",
    "  # Retrieve simulation parameters\n",
    "  dt, range_t = pars['dt'], pars['range_t']\n",
    "  Lt = range_t.size\n",
    "  \n",
    "  # set random seed\n",
    "  if myseed:\n",
    "      np.random.seed(seed=myseed) \n",
    "  else:\n",
    "      np.random.seed()\n",
    "  \n",
    "  # generate uniformly distributed random variables\n",
    "  u_rand = np.random.rand(n, Lt)\n",
    "  \n",
    "  # generate Poisson train\n",
    "  poisson_train = 1. * (u_rand<rate*dt/1000.)\n",
    "  \n",
    "  return poisson_train\n",
    "\n",
    "# the function plot the raster of the Poisson spike train\n",
    "def my_raster_Poisson(range_t, spike_train, n):\n",
    "  \"\"\"\n",
    "  Generates poisson trains\n",
    "\n",
    "  Args:\n",
    "    range_t     : time sequence \n",
    "    spike_train : binary spike trains, with shape (N, Lt)\n",
    "    n           : number of Poisson trains plot\n",
    "  \n",
    "  Returns:\n",
    "    Raster plot of the spike train\n",
    "  \"\"\"\n",
    "\n",
    "  #find the number of all the spike trains\n",
    "  N = spike_train.shape[0]\n",
    "\n",
    "  # n should smaller than N:\n",
    "  if n > N:\n",
    "    print('The number n exceeds the size of spike trains')\n",
    "    print('The number n is set to be the size of spike trains')\n",
    "    n = N\n",
    "\n",
    "  #plot rater\n",
    "  i = 0\n",
    "  while i< n:\n",
    "    if spike_train[i, :].sum()>0.:\n",
    "      t_sp = range_t[spike_train[i, :]>0.5] #spike times \n",
    "      plt.plot(t_sp, i*np.ones(len(t_sp)), 'k|', ms=10, markeredgewidth=2)\n",
    "    i += 1\n",
    "  plt.xlim([range_t[0], range_t[-1]])\n",
    "  plt.ylim([-0.5, n+0.5])    \n",
    "  plt.xlabel('Time (ms)', fontsize=12)\n",
    "  plt.ylabel('Neuron ID', fontsize=12)"
   ]
  },
  {
   "cell_type": "code",
   "execution_count": 20,
   "metadata": {
    "colab": {
     "base_uri": "https://localhost:8080/",
     "height": 642
    },
    "colab_type": "code",
    "id": "LMglHH_bxKzM",
    "outputId": "ad115c39-531e-4bfc-894f-d9cf45b9cfb6"
   },
   "outputs": [
    {
     "name": "stdout",
     "output_type": "stream",
     "text": [
      "Help on function my_raster_Poisson in module __main__:\n",
      "\n",
      "my_raster_Poisson(range_t, spike_train, n)\n",
      "    Generates poisson trains\n",
      "    \n",
      "    Args:\n",
      "      range_t     : time sequence \n",
      "      spike_train : binary spike trains, with shape (N, Lt)\n",
      "      n           : number of Poisson trains plot\n",
      "    \n",
      "    Returns:\n",
      "      Raster plot of the spike train\n",
      "\n",
      "None\n"
     ]
    },
    {
     "data": {
      "image/png": "[encoded data removed]",
      "text/plain": [
       "<Figure size 576x432 with 1 Axes>"
      ]
     },
     "metadata": {},
     "output_type": "display_data"
    }
   ],
   "source": [
    "# we can use Poisson_generator to mimic presynaptic spike trains\n",
    "pars = default_pars()\n",
    "pre_spike_train = Poisson_generator(pars, rate=10, n=100)\n",
    "with plt.xkcd():\n",
    "  my_raster_Poisson(pars['range_t'], pre_spike_train, 100) \n",
    "\n",
    "print(help(my_raster_Poisson)) # use `help` to learn about the function"
   ]
  },
  {
   "cell_type": "markdown",
   "metadata": {
    "colab_type": "text",
    "id": "1mB3EmYNteiH"
   },
   "source": [
    "How do we make sure that the above spike trains are following Poisson statistics?\n",
    "A Poisson process must have the following properties:\n",
    "- The ratio of the mean and variance of spike count is 1.\n",
    "- Inter-spike-invervals are exponentially distributed\n",
    "- Spike times are irregular i.e. CV$_{\\rm ISI} = 1$\n",
    "- Adjacent spike interval are independent of each other. \n"
   ]
  },
  {
   "cell_type": "markdown",
   "metadata": {
    "colab_type": "text",
    "id": "L79pNHqnF2Do"
   },
   "source": [
    "# Summary\n",
    "\n",
    "Congratulations! You've just built a leaky integrate-and-fire (LIF) neuron model from scratch, and studied its dynamics in response to various types of inputs, having:\n",
    "\n",
    "- simulated the LIF neuron model\n",
    "\n",
    "- driven the LIF neuron with external inputs, such as DC current, Gaussian white noise, and Poisson spike trains, etc.\n",
    "\n",
    "- studied how different inputs affect the  LIF neuron's output (firing rate and spike time irregularity),\n",
    "\n",
    "with a special focus on low rate and irregular firing regime to mimc real cortical neurons. The next tutorial will look at how spiking statistics may be influenced by a neuron's input statistics.\n",
    "\n",
    "However, if you have extra time, follow the section below to explore a different type of noise input.\n"
   ]
  },
  {
   "cell_type": "markdown",
   "metadata": {
    "colab_type": "text",
    "id": "LySLyT48dodF"
   },
   "source": [
    "# Bonus 1 - Orenstein-Uhlenbeck Process\n",
    "\n",
    "When a neuron received spiking input the synaptic current is Shot Noise -- which is a kind of colored noise and the spectrum of the noise determined by the synaptic kernel time constant. That is, a neuron is driven by **colored noise** and not GWN.\n",
    "\n",
    "We can model colored noise using the Ohrenstein-Uhlenbeck process - filtered white noise. "
   ]
  },
  {
   "cell_type": "markdown",
   "metadata": {
    "colab_type": "text",
    "id": "AOO8jOgtfJFV"
   },
   "source": [
    "#### Ornstein-Uhlenbeck (OU) current\n",
    "\n",
    "We next study if the input current is temporally correlated and is modeled as an Ornstein-Uhlenbeck process $\\eta(t)$, i.e., low-pass filtered GWN with a time constant $\\tau_{\\eta}$: \n",
    "\n",
    "$$\\tau_\\eta \\frac{d}{dt}\\eta(t) = \\mu-\\eta(t) + \\sigma_\\eta\\sqrt{2\\tau_\\eta}\\xi(t).$$\n",
    "\n",
    "**Hint:** An OU process as defined above has\n",
    "\n",
    "$$E[\\eta(t)]=\\mu$$ \n",
    "\n",
    "and autocovariance \n",
    "\n",
    "$$[\\eta(t)\\eta(t+\\tau)]=\\sigma_\\eta^2e^{-|t-\\tau|/\\tau_\\eta},$$\n",
    "\n",
    "which can be used to check your code. "
   ]
  },
  {
   "cell_type": "code",
   "execution_count": 21,
   "metadata": {
    "cellView": "form",
    "colab": {},
    "colab_type": "code",
    "id": "vn-Nt8GzfIWP"
   },
   "outputs": [],
   "source": [
    "#@title 'my_OU(pars, mu, sig, myseed=False)'\n",
    "def my_OU(pars, mu, sig, myseed=False):\n",
    "  \"\"\"\n",
    "  Function that produces Ornstein-Uhlenbeck input\n",
    "\n",
    "  Args:\n",
    "    pars       : parameter dictionary\n",
    "    sig        : noise amplitute\n",
    "    myseed     : random seed. int or boolean\n",
    "  \n",
    "  Returns:\n",
    "    I          : Ornstein-Uhlenbeck input current\n",
    "  \"\"\"\n",
    "  \n",
    "  # Retrieve simulation parameters\n",
    "  dt, range_t = pars['dt'], pars['range_t']\n",
    "  Lt = range_t.size\n",
    "  tau_ou = pars['tau_ou'] # [ms]\n",
    "  \n",
    "  # set random seed\n",
    "  if myseed:\n",
    "    np.random.seed(seed=myseed) \n",
    "  else:\n",
    "    np.random.seed()\n",
    "      \n",
    "  # Initialize\n",
    "  noise =  np.random.randn(Lt)\n",
    "  I = np.zeros(Lt)\n",
    "  I[0] = noise[0] * sig\n",
    "  \n",
    "  #generate OU\n",
    "  for it in range(Lt-1):\n",
    "    I[it+1] = I[it] + dt/tau_ou*(mu-I[it]) + np.sqrt(2.*dt/tau_ou) * sig * noise[it+1]\n",
    "  \n",
    "  return I"
   ]
  },
  {
   "cell_type": "markdown",
   "metadata": {
    "colab_type": "text",
    "id": "rKVL4KsnfNzq"
   },
   "source": [
    "In the following we will check how a neuron responds to noisly current that follows the statistics of an OU process. "
   ]
  },
  {
   "cell_type": "code",
   "execution_count": 22,
   "metadata": {
    "cellView": "form",
    "colab": {
     "base_uri": "https://localhost:8080/",
     "height": 385,
     "referenced_widgets": [
      "4201ae66d278464cb2618a3cd6a2201c",
      "d8b3bc7be28549c29ce6039334379697",
      "869acb0a2f0c44fa8786a1c720e4a1a5",
      "abdb1112e1464075aa349540439a415c",
      "23c57f0cf4e04696bf0c1f25c04a4aa8",
      "a81759c123eb4b8d979d0b82456099f3",
      "b24154d16fe74f948dac9061b4fc07bb",
      "8a9f0d31d9de47f2bd390c3f0285e130",
      "8fc48369167543e3888a88d0b70fa7fb",
      "fdb9af364c1b4bcba5cde8bf97458ac3",
      "f6cd0e9e08894704934775954171c267"
     ]
    },
    "colab_type": "code",
    "id": "4CbNDDUzfQaa",
    "outputId": "c967a243-c1d4-40a3-ed23-a9ceb2f87562"
   },
   "outputs": [
    {
     "data": {
      "image/png": "[encoded data removed]",
      "text/plain": [
       "<Figure size 864x288 with 2 Axes>"
      ]
     },
     "metadata": {},
     "output_type": "display_data"
    }
   ],
   "source": [
    "#@title LIF Explorer with OU input\n",
    "\n",
    "my_layout.width = '450px'\n",
    "@widgets.interact(\n",
    "  tau_ou = widgets.FloatSlider(10.0, min=5., max=20., step=2.5, layout=my_layout),\n",
    "  sig_ou = widgets.FloatSlider(10.0, min=5., max=40., step=2.5, layout=my_layout),\n",
    "  mu_ou  = widgets.FloatSlider(190.0, min=180., max=220., step=2.5, layout=my_layout)\n",
    ")\n",
    "\n",
    "def LIF_with_OU(tau_ou=10., sig_ou=40., mu_ou=200.):\n",
    "  pars = default_pars(T = 1000.)\n",
    "  pars['tau_ou'] = tau_ou #[ms]\n",
    "\n",
    "  I_ou = my_OU(pars, mu_ou, sig_ou)\n",
    "\n",
    "  v, sp = run_LIF(pars, I=I_ou)\n",
    "  \n",
    "  with plt.xkcd():\n",
    "    plt.figure(figsize=(12, 4))\n",
    "    plt.subplot(1,2,1)\n",
    "    plt.plot(pars['range_t'], I_ou, 'b', lw=1.0)\n",
    "    plt.xlabel('Time (ms)')\n",
    "    plt.ylabel(r'$I_{\\mathrm{OU}}$ (pA)')\n",
    "    plt.subplot(1,2,2)\n",
    "    plot_volt_trace(pars, v, sp)\n",
    "    plt.tight_layout()\n",
    "    plt.show()\n"
   ]
  },
  {
   "cell_type": "markdown",
   "metadata": {
    "colab_type": "text",
    "id": "3-Cfd14NgUqV"
   },
   "source": [
    "### Think!\n",
    "- How does the OU type input change neuron responsiveness? \n",
    "- What do you think will happen to the spike pattern and rate if you increased or decreased the time constant of the OU process?"
   ]
  },
  {
   "cell_type": "markdown",
   "metadata": {
    "colab_type": "text",
    "id": "fXoVtF_ry1t9"
   },
   "source": [
    "# Bonus 2 - Generalized Integrate-and-Fire models\n",
    "\n",
    "LIF model is not the only abstraction of real neurons. If you want to learn about more realistic types of neuronal models, watch the Bonus Video!"
   ]
  },
  {
   "cell_type": "code",
   "execution_count": 23,
   "metadata": {
    "cellView": "form",
    "colab": {
     "base_uri": "https://localhost:8080/",
     "height": 519
    },
    "colab_type": "code",
    "id": "pICQW5c_y1GB",
    "outputId": "df608302-7f6a-4c15-87a8-053935783dc0"
   },
   "outputs": [
    {
     "name": "stdout",
     "output_type": "stream",
     "text": [
      "Video available at https://youtube.com/watch?v=zwi6gc8Cbzc\n"
     ]
    },
    {
     "data": {
      "image/jpeg": "[encoded data removed]",
      "text/html": [
       "\n",
       "        <iframe\n",
       "            width=\"854\"\n",
       "            height=\"480\"\n",
       "            src=\"https://www.youtube.com/embed/zwi6gc8Cbzc?fs=1\"\n",
       "            frameborder=\"0\"\n",
       "            allowfullscreen\n",
       "        ></iframe>\n",
       "        "
      ],
      "text/plain": [
       "<IPython.lib.display.YouTubeVideo at 0x7f1e93e2b890>"
      ]
     },
     "execution_count": 23,
     "metadata": {},
     "output_type": "execute_result"
    }
   ],
   "source": [
    "#@title Video: Response of LIF neuron to different inputs\n",
    "from IPython.display import YouTubeVideo\n",
    "video = YouTubeVideo(id='zwi6gc8Cbzc', width=854, height=480, fs=1)\n",
    "print(\"Video available at https://youtube.com/watch?v=\" + video.id)\n",
    "video"
   ]
  }
 ],
 "metadata": {
  "colab": {
   "collapsed_sections": [],
   "include_colab_link": true,
   "name": "NeuromatchAcademy_W3D1_Tutorial1",
   "provenance": [],
   "toc_visible": true
  },
  "kernelspec": {
   "display_name": "Python 3",
   "name": "python3"
  },
  "language_info": {
   "codemirror_mode": {
    "name": "ipython",
    "version": 3
   },
   "file_extension": ".py",
   "mimetype": "text/x-python",
   "name": "python",
   "nbconvert_exporter": "python",
   "pygments_lexer": "ipython3",
   "version": "3.7.7"
  },
  "widgets": {
   "application/vnd.jupyter.widget-state+json": {
    "state": {
     "01dd246acc2c4b07af53146b22bb026a": {
      "model_module": "@jupyter-widgets/controls",
      "model_module_version": "1.5.0",
      "model_name": "FloatSliderModel",
      "state": {
       "_dom_classes": [],
       "_model_module": "@jupyter-widgets/controls",
       "_model_module_version": "1.5.0",
       "_model_name": "FloatSliderModel",
       "_view_count": null,
       "_view_module": "@jupyter-widgets/controls",
       "_view_module_version": "1.5.0",
       "_view_name": "FloatSliderView",
       "continuous_update": true,
       "description": "sig_gwn",
       "description_tooltip": null,
       "disabled": false,
       "layout": "IPY_MODEL_cc716f2e9c244283868b5abbde6af05d",
       "max": 5.0,
       "min": 0.0,
       "orientation": "horizontal",
       "readout": true,
       "readout_format": ".2f",
       "step": 0.5,
       "style": "IPY_MODEL_cb53981b9f38444b8aa90d236b8766f6",
       "value": 0.0
      }
     },
     "1230d92bb0284db9aec5bfaeaf56ffaa": {
      "model_module": "@jupyter-widgets/output",
      "model_module_version": "1.0.0",
      "model_name": "OutputModel",
      "state": {
       "_dom_classes": [],
       "_model_module": "@jupyter-widgets/output",
       "_model_module_version": "1.0.0",
       "_model_name": "OutputModel",
       "_view_count": null,
       "_view_module": "@jupyter-widgets/output",
       "_view_module_version": "1.0.0",
       "_view_name": "OutputView",
       "layout": "IPY_MODEL_8841beb0da56492dba54721069ae5b04",
       "msg_id": "",
       "outputs": []
      }
     },
     "123c7d42f9e1487da7ff909b32b9abc1": {
      "model_module": "@jupyter-widgets/controls",
      "model_module_version": "1.5.0",
      "model_name": "FloatSliderModel",
      "state": {
       "_dom_classes": [],
       "_model_module": "@jupyter-widgets/controls",
       "_model_module_version": "1.5.0",
       "_model_name": "FloatSliderModel",
       "_view_count": null,
       "_view_module": "@jupyter-widgets/controls",
       "_view_module_version": "1.5.0",
       "_view_name": "FloatSliderView",
       "continuous_update": true,
       "description": "tau_m",
       "description_tooltip": null,
       "disabled": false,
       "layout": "IPY_MODEL_cc716f2e9c244283868b5abbde6af05d",
       "max": 20.0,
       "min": 2.0,
       "orientation": "horizontal",
       "readout": true,
       "readout_format": ".2f",
       "step": 2.0,
       "style": "IPY_MODEL_e6d964d7741143e7aa6db4123a03a809",
       "value": 10.0
      }
     },
     "12e4297460e846c48380fadb264d217e": {
      "model_module": "@jupyter-widgets/base",
      "model_module_version": "1.2.0",
      "model_name": "LayoutModel",
      "state": {
       "_model_module": "@jupyter-widgets/base",
       "_model_module_version": "1.2.0",
       "_model_name": "LayoutModel",
       "_view_count": null,
       "_view_module": "@jupyter-widgets/base",
       "_view_module_version": "1.2.0",
       "_view_name": "LayoutView",
       "align_content": null,
       "align_items": null,
       "align_self": null,
       "border": null,
       "bottom": null,
       "display": null,
       "flex": null,
       "flex_flow": null,
       "grid_area": null,
       "grid_auto_columns": null,
       "grid_auto_flow": null,
       "grid_auto_rows": null,
       "grid_column": null,
       "grid_gap": null,
       "grid_row": null,
       "grid_template_areas": null,
       "grid_template_columns": null,
       "grid_template_rows": null,
       "height": null,
       "justify_content": null,
       "justify_items": null,
       "left": null,
       "margin": null,
       "max_height": null,
       "max_width": null,
       "min_height": null,
       "min_width": null,
       "object_fit": null,
       "object_position": null,
       "order": null,
       "overflow": null,
       "overflow_x": null,
       "overflow_y": null,
       "padding": null,
       "right": null,
       "top": null,
       "visibility": null,
       "width": null
      }
     },
     "33142eac884e41c698923b878525e68c": {
      "model_module": "@jupyter-widgets/base",
      "model_module_version": "1.2.0",
      "model_name": "LayoutModel",
      "state": {
       "_model_module": "@jupyter-widgets/base",
       "_model_module_version": "1.2.0",
       "_model_name": "LayoutModel",
       "_view_count": null,
       "_view_module": "@jupyter-widgets/base",
       "_view_module_version": "1.2.0",
       "_view_name": "LayoutView",
       "align_content": null,
       "align_items": null,
       "align_self": null,
       "border": null,
       "bottom": null,
       "display": null,
       "flex": null,
       "flex_flow": null,
       "grid_area": null,
       "grid_auto_columns": null,
       "grid_auto_flow": null,
       "grid_auto_rows": null,
       "grid_column": null,
       "grid_gap": null,
       "grid_row": null,
       "grid_template_areas": null,
       "grid_template_columns": null,
       "grid_template_rows": null,
       "height": null,
       "justify_content": null,
       "justify_items": null,
       "left": null,
       "margin": null,
       "max_height": null,
       "max_width": null,
       "min_height": null,
       "min_width": null,
       "object_fit": null,
       "object_position": null,
       "order": null,
       "overflow": null,
       "overflow_x": null,
       "overflow_y": null,
       "padding": null,
       "right": null,
       "top": null,
       "visibility": null,
       "width": null
      }
     },
     "382099b29d1f4e6b84c4edbfa771cb3b": {
      "model_module": "@jupyter-widgets/base",
      "model_module_version": "1.2.0",
      "model_name": "LayoutModel",
      "state": {
       "_model_module": "@jupyter-widgets/base",
       "_model_module_version": "1.2.0",
       "_model_name": "LayoutModel",
       "_view_count": null,
       "_view_module": "@jupyter-widgets/base",
       "_view_module_version": "1.2.0",
       "_view_name": "LayoutView",
       "align_content": null,
       "align_items": null,
       "align_self": null,
       "border": null,
       "bottom": null,
       "display": null,
       "flex": null,
       "flex_flow": null,
       "grid_area": null,
       "grid_auto_columns": null,
       "grid_auto_flow": null,
       "grid_auto_rows": null,
       "grid_column": null,
       "grid_gap": null,
       "grid_row": null,
       "grid_template_areas": null,
       "grid_template_columns": null,
       "grid_template_rows": null,
       "height": null,
       "justify_content": null,
       "justify_items": null,
       "left": null,
       "margin": null,
       "max_height": null,
       "max_width": null,
       "min_height": null,
       "min_width": null,
       "object_fit": null,
       "object_position": null,
       "order": null,
       "overflow": null,
       "overflow_x": null,
       "overflow_y": null,
       "padding": null,
       "right": null,
       "top": null,
       "visibility": null,
       "width": null
      }
     },
     "3d2103c5efa74ce6aadcc368e4fa2230": {
      "model_module": "@jupyter-widgets/controls",
      "model_module_version": "1.5.0",
      "model_name": "SliderStyleModel",
      "state": {
       "_model_module": "@jupyter-widgets/controls",
       "_model_module_version": "1.5.0",
       "_model_name": "SliderStyleModel",
       "_view_count": null,
       "_view_module": "@jupyter-widgets/base",
       "_view_module_version": "1.2.0",
       "_view_name": "StyleView",
       "description_width": "",
       "handle_color": null
      }
     },
     "4c8bd2dd7d5e4e738f217c1b9f6e9044": {
      "model_module": "@jupyter-widgets/base",
      "model_module_version": "1.2.0",
      "model_name": "LayoutModel",
      "state": {
       "_model_module": "@jupyter-widgets/base",
       "_model_module_version": "1.2.0",
       "_model_name": "LayoutModel",
       "_view_count": null,
       "_view_module": "@jupyter-widgets/base",
       "_view_module_version": "1.2.0",
       "_view_name": "LayoutView",
       "align_content": null,
       "align_items": null,
       "align_self": null,
       "border": null,
       "bottom": null,
       "display": null,
       "flex": null,
       "flex_flow": null,
       "grid_area": null,
       "grid_auto_columns": null,
       "grid_auto_flow": null,
       "grid_auto_rows": null,
       "grid_column": null,
       "grid_gap": null,
       "grid_row": null,
       "grid_template_areas": null,
       "grid_template_columns": null,
       "grid_template_rows": null,
       "height": null,
       "justify_content": null,
       "justify_items": null,
       "left": null,
       "margin": null,
       "max_height": null,
       "max_width": null,
       "min_height": null,
       "min_width": null,
       "object_fit": null,
       "object_position": null,
       "order": null,
       "overflow": null,
       "overflow_x": null,
       "overflow_y": null,
       "padding": null,
       "right": null,
       "top": null,
       "visibility": null,
       "width": null
      }
     },
     "4cd9fe315d9b48e78e9c9b4558eb4f9b": {
      "model_module": "@jupyter-widgets/controls",
      "model_module_version": "1.5.0",
      "model_name": "FloatSliderModel",
      "state": {
       "_dom_classes": [],
       "_model_module": "@jupyter-widgets/controls",
       "_model_module_version": "1.5.0",
       "_model_name": "FloatSliderModel",
       "_view_count": null,
       "_view_module": "@jupyter-widgets/controls",
       "_view_module_version": "1.5.0",
       "_view_name": "FloatSliderView",
       "continuous_update": true,
       "description": "mu_ou",
       "description_tooltip": null,
       "disabled": false,
       "layout": "IPY_MODEL_cc716f2e9c244283868b5abbde6af05d",
       "max": 220.0,
       "min": 180.0,
       "orientation": "horizontal",
       "readout": true,
       "readout_format": ".2f",
       "step": 2.5,
       "style": "IPY_MODEL_3d2103c5efa74ce6aadcc368e4fa2230",
       "value": 190.0
      }
     },
     "5c3aca1b145c40448019cf8f23158e1b": {
      "model_module": "@jupyter-widgets/controls",
      "model_module_version": "1.5.0",
      "model_name": "SliderStyleModel",
      "state": {
       "_model_module": "@jupyter-widgets/controls",
       "_model_module_version": "1.5.0",
       "_model_name": "SliderStyleModel",
       "_view_count": null,
       "_view_module": "@jupyter-widgets/base",
       "_view_module_version": "1.2.0",
       "_view_name": "StyleView",
       "description_width": "",
       "handle_color": null
      }
     },
     "61ff6f5fc49d4619affac3c013dd8d6d": {
      "model_module": "@jupyter-widgets/controls",
      "model_module_version": "1.5.0",
      "model_name": "FloatSliderModel",
      "state": {
       "_dom_classes": [],
       "_model_module": "@jupyter-widgets/controls",
       "_model_module_version": "1.5.0",
       "_model_name": "FloatSliderModel",
       "_view_count": null,
       "_view_module": "@jupyter-widgets/controls",
       "_view_module_version": "1.5.0",
       "_view_name": "FloatSliderView",
       "continuous_update": true,
       "description": "sig_gwn",
       "description_tooltip": null,
       "disabled": false,
       "layout": "IPY_MODEL_cc716f2e9c244283868b5abbde6af05d",
       "max": 6.0,
       "min": 0.0,
       "orientation": "horizontal",
       "readout": true,
       "readout_format": ".2f",
       "step": 0.5,
       "style": "IPY_MODEL_ac9f34cdbf00462285edb3fd9a4aa3db",
       "value": 3.0
      }
     },
     "68781196747c4b0cbb1f86f54240b7f5": {
      "model_module": "@jupyter-widgets/controls",
      "model_module_version": "1.5.0",
      "model_name": "FloatSliderModel",
      "state": {
       "_dom_classes": [],
       "_model_module": "@jupyter-widgets/controls",
       "_model_module_version": "1.5.0",
       "_model_name": "FloatSliderModel",
       "_view_count": null,
       "_view_module": "@jupyter-widgets/controls",
       "_view_module_version": "1.5.0",
       "_view_name": "FloatSliderView",
       "continuous_update": true,
       "description": "sig_ou",
       "description_tooltip": null,
       "disabled": false,
       "layout": "IPY_MODEL_cc716f2e9c244283868b5abbde6af05d",
       "max": 40.0,
       "min": 5.0,
       "orientation": "horizontal",
       "readout": true,
       "readout_format": ".2f",
       "step": 2.5,
       "style": "IPY_MODEL_fe2c1b9438874a57882d1198281c19a2",
       "value": 10.0
      }
     },
     "7f0c242f63f148ec961d6bb87b696ac4": {
      "model_module": "@jupyter-widgets/controls",
      "model_module_version": "1.5.0",
      "model_name": "FloatSliderModel",
      "state": {
       "_dom_classes": [],
       "_model_module": "@jupyter-widgets/controls",
       "_model_module_version": "1.5.0",
       "_model_name": "FloatSliderModel",
       "_view_count": null,
       "_view_module": "@jupyter-widgets/controls",
       "_view_module_version": "1.5.0",
       "_view_name": "FloatSliderView",
       "continuous_update": true,
       "description": "sig_gwn",
       "description_tooltip": null,
       "disabled": false,
       "layout": "IPY_MODEL_cc716f2e9c244283868b5abbde6af05d",
       "max": 5.0,
       "min": 0.0,
       "orientation": "horizontal",
       "readout": true,
       "readout_format": ".2f",
       "step": 0.5,
       "style": "IPY_MODEL_93ef37badb964ea9a077d8c50591fc63",
       "value": 2.5
      }
     },
     "8115a635b6114e2b9841954399f55869": {
      "model_module": "@jupyter-widgets/output",
      "model_module_version": "1.0.0",
      "model_name": "OutputModel",
      "state": {
       "_dom_classes": [],
       "_model_module": "@jupyter-widgets/output",
       "_model_module_version": "1.0.0",
       "_model_name": "OutputModel",
       "_view_count": null,
       "_view_module": "@jupyter-widgets/output",
       "_view_module_version": "1.0.0",
       "_view_name": "OutputView",
       "layout": "IPY_MODEL_ff6ac81f827c4ba79fef818c60fddaee",
       "msg_id": "",
       "outputs": []
      }
     },
     "8841beb0da56492dba54721069ae5b04": {
      "model_module": "@jupyter-widgets/base",
      "model_module_version": "1.2.0",
      "model_name": "LayoutModel",
      "state": {
       "_model_module": "@jupyter-widgets/base",
       "_model_module_version": "1.2.0",
       "_model_name": "LayoutModel",
       "_view_count": null,
       "_view_module": "@jupyter-widgets/base",
       "_view_module_version": "1.2.0",
       "_view_name": "LayoutView",
       "align_content": null,
       "align_items": null,
       "align_self": null,
       "border": null,
       "bottom": null,
       "display": null,
       "flex": null,
       "flex_flow": null,
       "grid_area": null,
       "grid_auto_columns": null,
       "grid_auto_flow": null,
       "grid_auto_rows": null,
       "grid_column": null,
       "grid_gap": null,
       "grid_row": null,
       "grid_template_areas": null,
       "grid_template_columns": null,
       "grid_template_rows": null,
       "height": null,
       "justify_content": null,
       "justify_items": null,
       "left": null,
       "margin": null,
       "max_height": null,
       "max_width": null,
       "min_height": null,
       "min_width": null,
       "object_fit": null,
       "object_position": null,
       "order": null,
       "overflow": null,
       "overflow_x": null,
       "overflow_y": null,
       "padding": null,
       "right": null,
       "top": null,
       "visibility": null,
       "width": null
      }
     },
     "91a1122848d44d75b5f1de88b6ac1674": {
      "model_module": "@jupyter-widgets/controls",
      "model_module_version": "1.5.0",
      "model_name": "SliderStyleModel",
      "state": {
       "_model_module": "@jupyter-widgets/controls",
       "_model_module_version": "1.5.0",
       "_model_name": "SliderStyleModel",
       "_view_count": null,
       "_view_module": "@jupyter-widgets/base",
       "_view_module_version": "1.2.0",
       "_view_name": "StyleView",
       "description_width": "",
       "handle_color": null
      }
     },
     "93ef37badb964ea9a077d8c50591fc63": {
      "model_module": "@jupyter-widgets/controls",
      "model_module_version": "1.5.0",
      "model_name": "SliderStyleModel",
      "state": {
       "_model_module": "@jupyter-widgets/controls",
       "_model_module_version": "1.5.0",
       "_model_name": "SliderStyleModel",
       "_view_count": null,
       "_view_module": "@jupyter-widgets/base",
       "_view_module_version": "1.2.0",
       "_view_name": "StyleView",
       "description_width": "",
       "handle_color": null
      }
     },
     "947c3f59172548d09871a8ae15b3b8fc": {
      "model_module": "@jupyter-widgets/controls",
      "model_module_version": "1.5.0",
      "model_name": "VBoxModel",
      "state": {
       "_dom_classes": [
        "widget-interact"
       ],
       "_model_module": "@jupyter-widgets/controls",
       "_model_module_version": "1.5.0",
       "_model_name": "VBoxModel",
       "_view_count": null,
       "_view_module": "@jupyter-widgets/controls",
       "_view_module_version": "1.5.0",
       "_view_name": "VBoxView",
       "box_style": "",
       "children": [
        "IPY_MODEL_c8b513a84b3548cca5f06496e652021b",
        "IPY_MODEL_123c7d42f9e1487da7ff909b32b9abc1",
        "IPY_MODEL_ce72f085e2f64c24a37b4d36f96ddc7f"
       ],
       "layout": "IPY_MODEL_dd709d69c2144f8bb57c2daaa3fac0b5"
      }
     },
     "9901b17473724231a40ffb4394fadc01": {
      "model_module": "@jupyter-widgets/base",
      "model_module_version": "1.2.0",
      "model_name": "LayoutModel",
      "state": {
       "_model_module": "@jupyter-widgets/base",
       "_model_module_version": "1.2.0",
       "_model_name": "LayoutModel",
       "_view_count": null,
       "_view_module": "@jupyter-widgets/base",
       "_view_module_version": "1.2.0",
       "_view_name": "LayoutView",
       "align_content": null,
       "align_items": null,
       "align_self": null,
       "border": null,
       "bottom": null,
       "display": null,
       "flex": null,
       "flex_flow": null,
       "grid_area": null,
       "grid_auto_columns": null,
       "grid_auto_flow": null,
       "grid_auto_rows": null,
       "grid_column": null,
       "grid_gap": null,
       "grid_row": null,
       "grid_template_areas": null,
       "grid_template_columns": null,
       "grid_template_rows": null,
       "height": null,
       "justify_content": null,
       "justify_items": null,
       "left": null,
       "margin": null,
       "max_height": null,
       "max_width": null,
       "min_height": null,
       "min_width": null,
       "object_fit": null,
       "object_position": null,
       "order": null,
       "overflow": null,
       "overflow_x": null,
       "overflow_y": null,
       "padding": null,
       "right": null,
       "top": null,
       "visibility": null,
       "width": null
      }
     },
     "9a1a3c7a602d4dac84489038fa9287d6": {
      "model_module": "@jupyter-widgets/controls",
      "model_module_version": "1.5.0",
      "model_name": "FloatSliderModel",
      "state": {
       "_dom_classes": [],
       "_model_module": "@jupyter-widgets/controls",
       "_model_module_version": "1.5.0",
       "_model_name": "FloatSliderModel",
       "_view_count": null,
       "_view_module": "@jupyter-widgets/controls",
       "_view_module_version": "1.5.0",
       "_view_name": "FloatSliderView",
       "continuous_update": true,
       "description": "tau_ou",
       "description_tooltip": null,
       "disabled": false,
       "layout": "IPY_MODEL_cc716f2e9c244283868b5abbde6af05d",
       "max": 20.0,
       "min": 5.0,
       "orientation": "horizontal",
       "readout": true,
       "readout_format": ".2f",
       "step": 2.5,
       "style": "IPY_MODEL_91a1122848d44d75b5f1de88b6ac1674",
       "value": 10.0
      }
     },
     "a2fcef7f80d84530887a29b5351e3e8c": {
      "model_module": "@jupyter-widgets/base",
      "model_module_version": "1.2.0",
      "model_name": "LayoutModel",
      "state": {
       "_model_module": "@jupyter-widgets/base",
       "_model_module_version": "1.2.0",
       "_model_name": "LayoutModel",
       "_view_count": null,
       "_view_module": "@jupyter-widgets/base",
       "_view_module_version": "1.2.0",
       "_view_name": "LayoutView",
       "align_content": null,
       "align_items": null,
       "align_self": null,
       "border": null,
       "bottom": null,
       "display": null,
       "flex": null,
       "flex_flow": null,
       "grid_area": null,
       "grid_auto_columns": null,
       "grid_auto_flow": null,
       "grid_auto_rows": null,
       "grid_column": null,
       "grid_gap": null,
       "grid_row": null,
       "grid_template_areas": null,
       "grid_template_columns": null,
       "grid_template_rows": null,
       "height": null,
       "justify_content": null,
       "justify_items": null,
       "left": null,
       "margin": null,
       "max_height": null,
       "max_width": null,
       "min_height": null,
       "min_width": null,
       "object_fit": null,
       "object_position": null,
       "order": null,
       "overflow": null,
       "overflow_x": null,
       "overflow_y": null,
       "padding": null,
       "right": null,
       "top": null,
       "visibility": null,
       "width": null
      }
     },
     "ac9f34cdbf00462285edb3fd9a4aa3db": {
      "model_module": "@jupyter-widgets/controls",
      "model_module_version": "1.5.0",
      "model_name": "SliderStyleModel",
      "state": {
       "_model_module": "@jupyter-widgets/controls",
       "_model_module_version": "1.5.0",
       "_model_name": "SliderStyleModel",
       "_view_count": null,
       "_view_module": "@jupyter-widgets/base",
       "_view_module_version": "1.2.0",
       "_view_name": "StyleView",
       "description_width": "",
       "handle_color": null
      }
     },
     "b715c4133d3e41aca2421b4d77dbcf9b": {
      "model_module": "@jupyter-widgets/output",
      "model_module_version": "1.0.0",
      "model_name": "OutputModel",
      "state": {
       "_dom_classes": [],
       "_model_module": "@jupyter-widgets/output",
       "_model_module_version": "1.0.0",
       "_model_name": "OutputModel",
       "_view_count": null,
       "_view_module": "@jupyter-widgets/output",
       "_view_module_version": "1.0.0",
       "_view_name": "OutputView",
       "layout": "IPY_MODEL_9901b17473724231a40ffb4394fadc01",
       "msg_id": "",
       "outputs": []
      }
     },
     "babc7dcaca5945f7be69a72c9de4b553": {
      "model_module": "@jupyter-widgets/output",
      "model_module_version": "1.0.0",
      "model_name": "OutputModel",
      "state": {
       "_dom_classes": [],
       "_model_module": "@jupyter-widgets/output",
       "_model_module_version": "1.0.0",
       "_model_name": "OutputModel",
       "_view_count": null,
       "_view_module": "@jupyter-widgets/output",
       "_view_module_version": "1.0.0",
       "_view_name": "OutputView",
       "layout": "IPY_MODEL_382099b29d1f4e6b84c4edbfa771cb3b",
       "msg_id": "",
       "outputs": []
      }
     },
     "c8b513a84b3548cca5f06496e652021b": {
      "model_module": "@jupyter-widgets/controls",
      "model_module_version": "1.5.0",
      "model_name": "FloatSliderModel",
      "state": {
       "_dom_classes": [],
       "_model_module": "@jupyter-widgets/controls",
       "_model_module_version": "1.5.0",
       "_model_name": "FloatSliderModel",
       "_view_count": null,
       "_view_module": "@jupyter-widgets/controls",
       "_view_module_version": "1.5.0",
       "_view_name": "FloatSliderView",
       "continuous_update": true,
       "description": "I_dc",
       "description_tooltip": null,
       "disabled": false,
       "layout": "IPY_MODEL_cc716f2e9c244283868b5abbde6af05d",
       "max": 300.0,
       "min": 100.0,
       "orientation": "horizontal",
       "readout": true,
       "readout_format": ".2f",
       "step": 5.0,
       "style": "IPY_MODEL_e6236eafc0c5462bb6e8b248aa3567c3",
       "value": 200.0
      }
     },
     "cb53981b9f38444b8aa90d236b8766f6": {
      "model_module": "@jupyter-widgets/controls",
      "model_module_version": "1.5.0",
      "model_name": "SliderStyleModel",
      "state": {
       "_model_module": "@jupyter-widgets/controls",
       "_model_module_version": "1.5.0",
       "_model_name": "SliderStyleModel",
       "_view_count": null,
       "_view_module": "@jupyter-widgets/base",
       "_view_module_version": "1.2.0",
       "_view_name": "StyleView",
       "description_width": "",
       "handle_color": null
      }
     },
     "cc716f2e9c244283868b5abbde6af05d": {
      "model_module": "@jupyter-widgets/base",
      "model_module_version": "1.2.0",
      "model_name": "LayoutModel",
      "state": {
       "_model_module": "@jupyter-widgets/base",
       "_model_module_version": "1.2.0",
       "_model_name": "LayoutModel",
       "_view_count": null,
       "_view_module": "@jupyter-widgets/base",
       "_view_module_version": "1.2.0",
       "_view_name": "LayoutView",
       "align_content": null,
       "align_items": null,
       "align_self": null,
       "border": null,
       "bottom": null,
       "display": null,
       "flex": null,
       "flex_flow": null,
       "grid_area": null,
       "grid_auto_columns": null,
       "grid_auto_flow": null,
       "grid_auto_rows": null,
       "grid_column": null,
       "grid_gap": null,
       "grid_row": null,
       "grid_template_areas": null,
       "grid_template_columns": null,
       "grid_template_rows": null,
       "height": null,
       "justify_content": null,
       "justify_items": null,
       "left": null,
       "margin": null,
       "max_height": null,
       "max_width": null,
       "min_height": null,
       "min_width": null,
       "object_fit": null,
       "object_position": null,
       "order": null,
       "overflow": null,
       "overflow_x": null,
       "overflow_y": null,
       "padding": null,
       "right": null,
       "top": null,
       "visibility": null,
       "width": "450px"
      }
     },
     "ce64b1f72983470f904a16046d2e1072": {
      "model_module": "@jupyter-widgets/controls",
      "model_module_version": "1.5.0",
      "model_name": "FloatSliderModel",
      "state": {
       "_dom_classes": [],
       "_model_module": "@jupyter-widgets/controls",
       "_model_module_version": "1.5.0",
       "_model_name": "FloatSliderModel",
       "_view_count": null,
       "_view_module": "@jupyter-widgets/controls",
       "_view_module_version": "1.5.0",
       "_view_name": "FloatSliderView",
       "continuous_update": true,
       "description": "mu_gwn",
       "description_tooltip": null,
       "disabled": false,
       "layout": "IPY_MODEL_cc716f2e9c244283868b5abbde6af05d",
       "max": 300.0,
       "min": 100.0,
       "orientation": "horizontal",
       "readout": true,
       "readout_format": ".2f",
       "step": 5.0,
       "style": "IPY_MODEL_5c3aca1b145c40448019cf8f23158e1b",
       "value": 200.0
      }
     },
     "ce72f085e2f64c24a37b4d36f96ddc7f": {
      "model_module": "@jupyter-widgets/output",
      "model_module_version": "1.0.0",
      "model_name": "OutputModel",
      "state": {
       "_dom_classes": [],
       "_model_module": "@jupyter-widgets/output",
       "_model_module_version": "1.0.0",
       "_model_name": "OutputModel",
       "_view_count": null,
       "_view_module": "@jupyter-widgets/output",
       "_view_module_version": "1.0.0",
       "_view_name": "OutputView",
       "layout": "IPY_MODEL_a2fcef7f80d84530887a29b5351e3e8c",
       "msg_id": "",
       "outputs": []
      }
     },
     "dd5a167f0adc4c0bad9fddf0934e6b76": {
      "model_module": "@jupyter-widgets/controls",
      "model_module_version": "1.5.0",
      "model_name": "VBoxModel",
      "state": {
       "_dom_classes": [
        "widget-interact"
       ],
       "_model_module": "@jupyter-widgets/controls",
       "_model_module_version": "1.5.0",
       "_model_name": "VBoxModel",
       "_view_count": null,
       "_view_module": "@jupyter-widgets/controls",
       "_view_module_version": "1.5.0",
       "_view_name": "VBoxView",
       "box_style": "",
       "children": [
        "IPY_MODEL_61ff6f5fc49d4619affac3c013dd8d6d",
        "IPY_MODEL_babc7dcaca5945f7be69a72c9de4b553"
       ],
       "layout": "IPY_MODEL_12e4297460e846c48380fadb264d217e"
      }
     },
     "dd709d69c2144f8bb57c2daaa3fac0b5": {
      "model_module": "@jupyter-widgets/base",
      "model_module_version": "1.2.0",
      "model_name": "LayoutModel",
      "state": {
       "_model_module": "@jupyter-widgets/base",
       "_model_module_version": "1.2.0",
       "_model_name": "LayoutModel",
       "_view_count": null,
       "_view_module": "@jupyter-widgets/base",
       "_view_module_version": "1.2.0",
       "_view_name": "LayoutView",
       "align_content": null,
       "align_items": null,
       "align_self": null,
       "border": null,
       "bottom": null,
       "display": null,
       "flex": null,
       "flex_flow": null,
       "grid_area": null,
       "grid_auto_columns": null,
       "grid_auto_flow": null,
       "grid_auto_rows": null,
       "grid_column": null,
       "grid_gap": null,
       "grid_row": null,
       "grid_template_areas": null,
       "grid_template_columns": null,
       "grid_template_rows": null,
       "height": null,
       "justify_content": null,
       "justify_items": null,
       "left": null,
       "margin": null,
       "max_height": null,
       "max_width": null,
       "min_height": null,
       "min_width": null,
       "object_fit": null,
       "object_position": null,
       "order": null,
       "overflow": null,
       "overflow_x": null,
       "overflow_y": null,
       "padding": null,
       "right": null,
       "top": null,
       "visibility": null,
       "width": null
      }
     },
     "e6236eafc0c5462bb6e8b248aa3567c3": {
      "model_module": "@jupyter-widgets/controls",
      "model_module_version": "1.5.0",
      "model_name": "SliderStyleModel",
      "state": {
       "_model_module": "@jupyter-widgets/controls",
       "_model_module_version": "1.5.0",
       "_model_name": "SliderStyleModel",
       "_view_count": null,
       "_view_module": "@jupyter-widgets/base",
       "_view_module_version": "1.2.0",
       "_view_name": "StyleView",
       "description_width": "",
       "handle_color": null
      }
     },
     "e6d964d7741143e7aa6db4123a03a809": {
      "model_module": "@jupyter-widgets/controls",
      "model_module_version": "1.5.0",
      "model_name": "SliderStyleModel",
      "state": {
       "_model_module": "@jupyter-widgets/controls",
       "_model_module_version": "1.5.0",
       "_model_name": "SliderStyleModel",
       "_view_count": null,
       "_view_module": "@jupyter-widgets/base",
       "_view_module_version": "1.2.0",
       "_view_name": "StyleView",
       "description_width": "",
       "handle_color": null
      }
     },
     "e782ce667ad44dea9e2a1a2d40192ecf": {
      "model_module": "@jupyter-widgets/controls",
      "model_module_version": "1.5.0",
      "model_name": "VBoxModel",
      "state": {
       "_dom_classes": [
        "widget-interact"
       ],
       "_model_module": "@jupyter-widgets/controls",
       "_model_module_version": "1.5.0",
       "_model_name": "VBoxModel",
       "_view_count": null,
       "_view_module": "@jupyter-widgets/controls",
       "_view_module_version": "1.5.0",
       "_view_name": "VBoxView",
       "box_style": "",
       "children": [
        "IPY_MODEL_01dd246acc2c4b07af53146b22bb026a",
        "IPY_MODEL_b715c4133d3e41aca2421b4d77dbcf9b"
       ],
       "layout": "IPY_MODEL_33142eac884e41c698923b878525e68c"
      }
     },
     "ed17cbec9bf14466900aba338133c725": {
      "model_module": "@jupyter-widgets/controls",
      "model_module_version": "1.5.0",
      "model_name": "VBoxModel",
      "state": {
       "_dom_classes": [
        "widget-interact"
       ],
       "_model_module": "@jupyter-widgets/controls",
       "_model_module_version": "1.5.0",
       "_model_name": "VBoxModel",
       "_view_count": null,
       "_view_module": "@jupyter-widgets/controls",
       "_view_module_version": "1.5.0",
       "_view_name": "VBoxView",
       "box_style": "",
       "children": [
        "IPY_MODEL_ce64b1f72983470f904a16046d2e1072",
        "IPY_MODEL_7f0c242f63f148ec961d6bb87b696ac4",
        "IPY_MODEL_8115a635b6114e2b9841954399f55869"
       ],
       "layout": "IPY_MODEL_fe45f8516ef34ba09cc5f8a8c61b8ac3"
      }
     },
     "f96fd4c1b35e4c66b6b905a58ea2a755": {
      "model_module": "@jupyter-widgets/controls",
      "model_module_version": "1.5.0",
      "model_name": "VBoxModel",
      "state": {
       "_dom_classes": [
        "widget-interact"
       ],
       "_model_module": "@jupyter-widgets/controls",
       "_model_module_version": "1.5.0",
       "_model_name": "VBoxModel",
       "_view_count": null,
       "_view_module": "@jupyter-widgets/controls",
       "_view_module_version": "1.5.0",
       "_view_name": "VBoxView",
       "box_style": "",
       "children": [
        "IPY_MODEL_9a1a3c7a602d4dac84489038fa9287d6",
        "IPY_MODEL_68781196747c4b0cbb1f86f54240b7f5",
        "IPY_MODEL_4cd9fe315d9b48e78e9c9b4558eb4f9b",
        "IPY_MODEL_1230d92bb0284db9aec5bfaeaf56ffaa"
       ],
       "layout": "IPY_MODEL_4c8bd2dd7d5e4e738f217c1b9f6e9044"
      }
     },
     "fe2c1b9438874a57882d1198281c19a2": {
      "model_module": "@jupyter-widgets/controls",
      "model_module_version": "1.5.0",
      "model_name": "SliderStyleModel",
      "state": {
       "_model_module": "@jupyter-widgets/controls",
       "_model_module_version": "1.5.0",
       "_model_name": "SliderStyleModel",
       "_view_count": null,
       "_view_module": "@jupyter-widgets/base",
       "_view_module_version": "1.2.0",
       "_view_name": "StyleView",
       "description_width": "",
       "handle_color": null
      }
     },
     "fe45f8516ef34ba09cc5f8a8c61b8ac3": {
      "model_module": "@jupyter-widgets/base",
      "model_module_version": "1.2.0",
      "model_name": "LayoutModel",
      "state": {
       "_model_module": "@jupyter-widgets/base",
       "_model_module_version": "1.2.0",
       "_model_name": "LayoutModel",
       "_view_count": null,
       "_view_module": "@jupyter-widgets/base",
       "_view_module_version": "1.2.0",
       "_view_name": "LayoutView",
       "align_content": null,
       "align_items": null,
       "align_self": null,
       "border": null,
       "bottom": null,
       "display": null,
       "flex": null,
       "flex_flow": null,
       "grid_area": null,
       "grid_auto_columns": null,
       "grid_auto_flow": null,
       "grid_auto_rows": null,
       "grid_column": null,
       "grid_gap": null,
       "grid_row": null,
       "grid_template_areas": null,
       "grid_template_columns": null,
       "grid_template_rows": null,
       "height": null,
       "justify_content": null,
       "justify_items": null,
       "left": null,
       "margin": null,
       "max_height": null,
       "max_width": null,
       "min_height": null,
       "min_width": null,
       "object_fit": null,
       "object_position": null,
       "order": null,
       "overflow": null,
       "overflow_x": null,
       "overflow_y": null,
       "padding": null,
       "right": null,
       "top": null,
       "visibility": null,
       "width": null
      }
     },
     "ff6ac81f827c4ba79fef818c60fddaee": {
      "model_module": "@jupyter-widgets/base",
      "model_module_version": "1.2.0",
      "model_name": "LayoutModel",
      "state": {
       "_model_module": "@jupyter-widgets/base",
       "_model_module_version": "1.2.0",
       "_model_name": "LayoutModel",
       "_view_count": null,
       "_view_module": "@jupyter-widgets/base",
       "_view_module_version": "1.2.0",
       "_view_name": "LayoutView",
       "align_content": null,
       "align_items": null,
       "align_self": null,
       "border": null,
       "bottom": null,
       "display": null,
       "flex": null,
       "flex_flow": null,
       "grid_area": null,
       "grid_auto_columns": null,
       "grid_auto_flow": null,
       "grid_auto_rows": null,
       "grid_column": null,
       "grid_gap": null,
       "grid_row": null,
       "grid_template_areas": null,
       "grid_template_columns": null,
       "grid_template_rows": null,
       "height": null,
       "justify_content": null,
       "justify_items": null,
       "left": null,
       "margin": null,
       "max_height": null,
       "max_width": null,
       "min_height": null,
       "min_width": null,
       "object_fit": null,
       "object_position": null,
       "order": null,
       "overflow": null,
       "overflow_x": null,
       "overflow_y": null,
       "padding": null,
       "right": null,
       "top": null,
       "visibility": null,
       "width": null
      }
     }
    },
    "version_major": 2,
    "version_minor": 0
   }
  }
 },
 "nbformat": 4,
 "nbformat_minor": 0
}
