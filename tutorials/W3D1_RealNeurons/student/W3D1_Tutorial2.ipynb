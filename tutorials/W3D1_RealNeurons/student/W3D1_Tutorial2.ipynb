{
 "cells": [
  {
   "cell_type": "markdown",
   "metadata": {
    "colab_type": "text",
    "id": "view-in-github"
   },
   "source": [
    "<a href=\"https://colab.research.google.com/github/NeuromatchAcademy/course-content/blob/master/tutorials/W3D1_RealNeurons/student/W3D1_Tutorial2.ipynb\" target=\"_parent\"><img src=\"https://colab.research.google.com/assets/colab-badge.svg\" alt=\"Open In Colab\"/></a>"
   ]
  },
  {
   "cell_type": "markdown",
   "metadata": {
    "colab_type": "text",
    "id": "GWwMJ-Wpdz_q"
   },
   "source": [
    "# Neuromatch Academy: Week 3, Day 1, Tutorial 2\n",
    "# Real Neurons: Effects of Input Correlation"
   ]
  },
  {
   "cell_type": "markdown",
   "metadata": {
    "colab_type": "text",
    "id": "foBnMV3PS9tN"
   },
   "source": [
    "## Tutorial Objectives\n",
    "In this tutorial, we will use the leaky integrate-and-fire (LIF) neuron model (see Tutorial 1) to study how they transform input correlations to output properties (transfer of correlations). In particular, we are going to write a few lines of code to:\n",
    "\n",
    "- inject correlated GWN in a pair of neurons,\n",
    "\n",
    "- measure correlations between the spiking activity of the two neurons, and\n",
    "\n",
    "- study how transfer of correlation depends on the statistics of the input, i.e., mean and standard deviation."
   ]
  },
  {
   "cell_type": "markdown",
   "metadata": {
    "colab_type": "text",
    "id": "aeLO8mtpeGQw"
   },
   "source": [
    "# Setup"
   ]
  },
  {
   "cell_type": "code",
   "execution_count": 1,
   "metadata": {
    "cellView": "both",
    "colab": {},
    "colab_type": "code",
    "id": "bQ1Ue4PZd6ur"
   },
   "outputs": [],
   "source": [
    "# Imports\n",
    "import matplotlib.pyplot as plt    # import matplotlib\n",
    "import numpy as np                 # import numpy\n",
    "import time                        # import time\n",
    "import ipywidgets as widgets       # interactive display\n",
    "from scipy.stats import pearsonr   # import pearson correlation coefficient"
   ]
  },
  {
   "cell_type": "code",
   "execution_count": 2,
   "metadata": {
    "cellView": "form",
    "colab": {},
    "colab_type": "code",
    "id": "_tDBYa7uTn0c"
   },
   "outputs": [],
   "source": [
    "#@title Figure Settings\n",
    "fig_w, fig_h = (8, 6)\n",
    "my_fontsize = 18\n",
    "my_params = {'axes.labelsize': my_fontsize,\n",
    "          'axes.titlesize': my_fontsize,\n",
    "          'figure.figsize': [fig_w, fig_h],\n",
    "          'font.size': my_fontsize,\n",
    "          'legend.fontsize': my_fontsize-3,\n",
    "          'lines.markersize': 8.,\n",
    "          'lines.linewidth': 2.,\n",
    "          'xtick.labelsize': my_fontsize-2,\n",
    "          'ytick.labelsize': my_fontsize-2}\n",
    "\n",
    "plt.rcParams.update(my_params)\n",
    "my_layout = widgets.Layout()\n",
    "%matplotlib inline"
   ]
  },
  {
   "cell_type": "code",
   "execution_count": 3,
   "metadata": {
    "cellView": "form",
    "colab": {},
    "colab_type": "code",
    "id": "nktgc1MmQocS"
   },
   "outputs": [],
   "source": [
    "# @title Helper functions\n",
    "def default_pars( **kwargs):\n",
    "  pars = {}\n",
    "\n",
    "  ### typical neuron parameters###\n",
    "  pars['V_th']    = -55. # spike threshold [mV]\n",
    "  pars['V_reset'] = -75. #reset potential [mV]\n",
    "  pars['tau_m']   = 10. # membrane time constant [ms]\n",
    "  pars['g_L']     = 10. #leak conductance [nS]\n",
    "  pars['V_init']  = -65. # initial potential [mV]\n",
    "  pars['V_L']     = -75. #leak reversal potential [mV]\n",
    "  pars['tref']    = 2. # refractory time (ms)\n",
    "\n",
    "  ### simulation parameters ###\n",
    "  pars['T'] = 400. # Total duration of simulation [ms]\n",
    "  pars['dt'] = .1  # Simulation time step [ms]\n",
    "\n",
    "  ### external parameters if any ###\n",
    "  for k in kwargs:\n",
    "    pars[k] = kwargs[k]\n",
    "\n",
    "  pars['range_t'] = np.arange(0, pars['T'], pars['dt']) # Vector of discretized time points [ms]\n",
    "      \n",
    "  return pars\n",
    "\n",
    "def run_LIF(pars, I):\n",
    "  \"\"\"\n",
    "  Simulate the LIF dynamics with external input current \n",
    "  \n",
    "  Args:\n",
    "    pars       : parameter dictionary\n",
    "    I          : input current [pA]. The injected current here can be a value or an array\n",
    "  \n",
    "  Returns:\n",
    "    rec_spikes : spike times\n",
    "    rec_v      : mebrane potential\n",
    "  \"\"\"\n",
    "  \n",
    "  # Set parameters\n",
    "  V_th, V_reset = pars['V_th'], pars['V_reset']   \n",
    "  tau_m, g_L = pars['tau_m'], pars['g_L']        \n",
    "  V_init, V_L = pars['V_init'], pars['V_L']       \n",
    "  dt, range_t = pars['dt'], pars['range_t'] \n",
    "  Lt = range_t.size \n",
    "  tref = pars['tref']\n",
    "  # Initialize voltage and current \n",
    "  v = np.zeros(Lt)\n",
    "  v[0] = V_init\n",
    "  I = I * np.ones(Lt) \n",
    "  tr = 0.\n",
    "  # simulate the LIF dynamics \n",
    "  rec_spikes = []               # record spike times\n",
    "  for it in range(Lt-1):\n",
    "    if tr >0:\n",
    "      v[it] = V_reset\n",
    "      tr = tr-1\n",
    "    elif v[it] >= V_th:         #reset voltage and record spike event\n",
    "      rec_spikes.append(it)\n",
    "      v[it] = V_reset\n",
    "      tr = tref/dt\n",
    "    #calculate the increment of the membrane potential\n",
    "    dv = (-(v[it]-V_L) + I[it]/g_L) * (dt/tau_m)\n",
    "      \n",
    "    #update the membrane potential\n",
    "    v[it+1] = v[it] + dv\n",
    "      \n",
    "  rec_spikes = np.array(rec_spikes) * dt\n",
    "      \n",
    "  return v, rec_spikes\n",
    "\n",
    "def my_GWN(pars, sig, myseed=False):\n",
    "  \"\"\"\n",
    "  Function that calculates Gaussian white noise inputs\n",
    "\n",
    "  Args:\n",
    "    pars       : parameter dictionary\n",
    "    mu         : noise baseline (mean)\n",
    "    sig        : noise amplitute (standard deviation)\n",
    "    myseed     : random seed. int or boolean\n",
    "                 the same seed will give the same random number sequence\n",
    "  \n",
    "  Returns:\n",
    "    I          : Gaussian white noise input\n",
    "  \"\"\"\n",
    "  \n",
    "  # Retrieve simulation parameters\n",
    "  dt, range_t = pars['dt'], pars['range_t']\n",
    "  Lt = range_t.size\n",
    "  \n",
    "  # set random seed  \n",
    "  # you can fix the seed of the random number generator so that the results are reliable \n",
    "  # however, when you want to generate multiple realization make sure that you change \n",
    "  # the seed for each new realization\n",
    "  if myseed:\n",
    "      np.random.seed(seed=myseed) \n",
    "  else:\n",
    "      np.random.seed()\n",
    "      \n",
    "  #generate GWN\n",
    "  # we divide here by 1000 to convert units to sec.\n",
    "  I =  sig * np.random.randn(Lt) * np.sqrt(pars['tau_m']/dt) \n",
    "  \n",
    "  return I\n",
    "\n",
    "def Poisson_generator(pars, rate, n, myseed=False):\n",
    "  \"\"\"\n",
    "  Generates poisson trains\n",
    "  \n",
    "  Args:\n",
    "    pars       : parameter dictionary\n",
    "    rate       : noise amplitute [Hz]\n",
    "    n          : number of Poisson trains\n",
    "    myseed     : random seed. int or boolean\n",
    "  \n",
    "  Returns:\n",
    "    pre_spike_train : spike train matrix, ith row represents whether\n",
    "                      there is a spike in ith spike train over time\n",
    "                      (1 if spike, 0 otherwise)\n",
    "  \"\"\"\n",
    "  \n",
    "  # Retrieve simulation parameters\n",
    "  dt, range_t = pars['dt'], pars['range_t']\n",
    "  Lt = range_t.size\n",
    "  \n",
    "  # set random seed\n",
    "  if myseed:\n",
    "      np.random.seed(seed=myseed) \n",
    "  else:\n",
    "      np.random.seed()\n",
    "  \n",
    "  # generate uniformly distributed random variables\n",
    "  u_rand = np.random.rand(n, Lt)\n",
    "  \n",
    "  # generate Poisson train\n",
    "  poisson_train = 1. * (u_rand<rate*dt/1000.)\n",
    "  \n",
    "  return poisson_train"
   ]
  },
  {
   "cell_type": "markdown",
   "metadata": {
    "colab_type": "text",
    "id": "ZjA3lyb3REcK"
   },
   "source": [
    "The helper function contains a:\n",
    "\n",
    "- Parameter dictionary: `default_pars( **kwargs)`\n",
    "- LIF simulator: `run_LIF`\n",
    "- Gaussian white noise generator: `my_GWN(pars, sig, myseed=False)`\n",
    "- Poisson type spike train genertor: `Poisson_generator(pars, rate, n, myseed=False)`"
   ]
  },
  {
   "cell_type": "markdown",
   "metadata": {
    "colab_type": "text",
    "id": "L66i6gE6Tdll"
   },
   "source": [
    "---\n",
    "# Correlations (Synchrony)\n",
    "Correlation, or synchrony, in neuronal activity can be described for any readout of brain activity. Here, we are concerned with the spiking activity of neurons. \n",
    "\n",
    "In the simplest way, correlation/synchrony refers to coincident spiking of neurons, i.e., when two neurons spike together, they are firing in synchrony or are correlated. Neurons can be synchronous in their instantaneous activity, i.e., they spike together with some probability. However, it is also possible that spiking of a neuron at time $t$ is correlated with the spikes of another neuron with a delay (time-delayed synchrony). \n",
    "\n",
    "### Origin of synchronous neuronal activity:\n",
    "- Common inputs, i.e., two neurons are receiving input from the same sources. The degree of correlation of the shared inputs is proportional to their output correlation.\n",
    "- Neurons do not share the same input neurons, but are receiving inputs from neurons which themselves are correlated.\n",
    "- Neurons are connected to each other (uni- or bi-directionally). This will only give rise to time-delayed synchrony. Neurons could also be connected via gap-junctions.\n",
    "- Neurons have similar parameters and initial conditions.\n",
    "\n",
    "### Implications of synchrony\n",
    "When neurons spike together, they can have a stronger impact on downstream neurons. Synapses in the brain are sensitive to the temporal correlations (i.e., delay) between pre- and postsynaptic activity, and this, in turm, can lead to the formation of functional neuronal networks - the basis of unsupervised learning (we will study some of these concepts in a forthcoming tutorial).\n",
    "\n",
    "Synchrony implies a reduction in the dimensionality of the system. In addition, correlations in many cases can impair the decoding of neuronal activity."
   ]
  },
  {
   "cell_type": "code",
   "execution_count": 4,
   "metadata": {
    "cellView": "form",
    "colab": {
     "base_uri": "https://localhost:8080/",
     "height": 516
    },
    "colab_type": "code",
    "id": "T-2sPjeZTTmY",
    "outputId": "db4add19-7fcd-4240-f684-440de1860678"
   },
   "outputs": [
    {
     "name": "stdout",
     "output_type": "stream",
     "text": [
      "Video available at https://youtube.com/watch?v=3Sd9WlvNegM\n"
     ]
    },
    {
     "data": {
      "image/jpeg": "[encoded data removed]",
      "text/html": [
       "\n",
       "        <iframe\n",
       "            width=\"854\"\n",
       "            height=\"480\"\n",
       "            src=\"https://www.youtube.com/embed/3Sd9WlvNegM?fs=1\"\n",
       "            frameborder=\"0\"\n",
       "            allowfullscreen\n",
       "        ></iframe>\n",
       "        "
      ],
      "text/plain": [
       "<IPython.lib.display.YouTubeVideo at 0x7f61dc4438d0>"
      ]
     },
     "execution_count": 4,
     "metadata": {},
     "output_type": "execute_result"
    }
   ],
   "source": [
    "#@title Video: Correlations\n",
    "from IPython.display import YouTubeVideo\n",
    "video = YouTubeVideo(id=\"3Sd9WlvNegM\", width=854, height=480, fs=1)\n",
    "print(\"Video available at https://youtube.com/watch?v=\" + video.id)\n",
    "video"
   ]
  },
  {
   "cell_type": "markdown",
   "metadata": {
    "colab_type": "text",
    "id": "Is8piETq2_J0"
   },
   "source": [
    "## Correlated Input\n",
    "\n",
    "Correlated firing is often observed in neuronal circuits, and has been linked to stimulus encoding, attention, stimulus discrimination, and\n",
    "motor behaviour. The origin of correlation in neuronal activity is usually attributed to common inputs. Correlation may arise when neurons sample their activity from the same source of correlated spike train, even though they are not directly connected to the same inputs.\n",
    "\n",
    "A simple model to study the emergence of correlation is to inject common inputs to a pair of neurons and measure the output correlation as a function of the fraction of common inputs. \n",
    "\n",
    "Here, we are going to investigate the transfer of correlations by computing the spike train correlation coefficient of unconnected pairs of LIF neurons receiving correlated inputs\n",
    "\n",
    "\n",
    "The input current to LIF neuron $i$ $(i=1,2)$ is:\n",
    "\n",
    "\\begin{equation}\n",
    "\\frac{I_i}{g_L} =\\mu_i + \\sigma_i (\\sqrt{1-c}\\xi_i + \\sqrt{c}\\xi_c) \\quad (1)\n",
    "\\end{equation}\n",
    "\n",
    "where $\\mu_i$ is the temporal average of the current. The Gaussian white noise $\\xi_i$ is independent for each neuron, while $\\xi_c$ is common to all the neurons. The variable $c$ ($0\\le c\\le1$) controls the fraction of common and independent inputs. $\\sigma_i$ shows the variance of the total input."
   ]
  },
  {
   "cell_type": "code",
   "execution_count": 5,
   "metadata": {
    "cellView": "both",
    "colab": {
     "base_uri": "https://localhost:8080/",
     "height": 233
    },
    "colab_type": "code",
    "id": "ZLLRFa2YJOQD",
    "outputId": "67a87259-857a-4b12-919b-557fa08e6086"
   },
   "outputs": [
    {
     "name": "stdout",
     "output_type": "stream",
     "text": [
      "Help on function correlate_input in module __main__:\n",
      "\n",
      "correlate_input(pars, mu=20.0, sig=7.5, c=0.3)\n",
      "    Expects:\n",
      "    pars       : parameter dictionary\n",
      "    mu         : noise baseline (mean)\n",
      "    sig        : noise amplitute (standard deviation)\n",
      "    c.         : correlation coefficient ~[0, 1]\n",
      "    \n",
      "    Returns:\n",
      "    I1gL, I2gL : two correlated inputs with corr. coe. c\n",
      "\n",
      "None\n"
     ]
    }
   ],
   "source": [
    "#@title Correlated inputs generator\n",
    "def correlate_input(pars, mu=20., sig=7.5, c=0.3):\n",
    "    '''\n",
    "    Expects:\n",
    "    pars       : parameter dictionary\n",
    "    mu         : noise baseline (mean)\n",
    "    sig        : noise amplitute (standard deviation)\n",
    "    c.         : correlation coefficient ~[0, 1]\n",
    "    \n",
    "    Returns:\n",
    "    I1gL, I2gL : two correlated inputs with corr. coe. c \n",
    "    '''\n",
    "    # generate Gaussian whute noise xi_1, xi_2, xi_c\n",
    "    xi_1 = my_GWN(pars, sig)\n",
    "    xi_2 = my_GWN(pars, sig)\n",
    "    xi_c = my_GWN(pars, sig)\n",
    "\n",
    "    # Generate two correlated inputs by Equation. (1)\n",
    "    I1gL = mu + np.sqrt(1.-c)*xi_1 + np.sqrt(c)*xi_c\n",
    "    I2gL = mu + np.sqrt(1.-c)*xi_2 + np.sqrt(c)*xi_c\n",
    "\n",
    "    return I1gL, I2gL\n",
    "\n",
    "print(help(correlate_input))\n",
    "\n",
    "\n",
    "def example_plot_myCC():\n",
    "  pars = default_pars(T=50000, dt=.1)  \n",
    "\n",
    "  c = np.arange(10) * 0.1\n",
    "  r12 = np.zeros(10)\n",
    "  for i in range(10):\n",
    "    I1gL, I2gL = correlate_input(pars, mu=20.0, sig=7.5, c=c[i]) \n",
    "    r12[i] = my_CC(I1gL, I2gL)\n",
    "\n",
    "  plt.figure()\n",
    "  plt.plot(c, r12, 'bo', alpha=0.7, label='Simulation', zorder=2)\n",
    "  plt.plot([-0.05,0.95], [-0.05,0.95], 'k--', label='y=x', dashes=(2, 2), zorder=1)\n",
    "  plt.xlabel('True CC')\n",
    "  plt.ylabel('Sample CC')\n",
    "  plt.legend(loc='best')"
   ]
  },
  {
   "cell_type": "markdown",
   "metadata": {
    "colab_type": "text",
    "id": "q8CfqV7g4XAG"
   },
   "source": [
    "### Exercise 1: Compute the correlation\n",
    "\n",
    "From the inputs $I_i(t)$ ($i=1,\\ 2$), we can obtain $\\{ I_i^1, ..., I_i^L \\}$ on the time-grid of of stepsize $dt$, where $I_i^k = I_i(k\\cdot dt)$. The _sample correlation coefficient_:  \n",
    "\n",
    "$$r_{ij} = \\frac{\\displaystyle{\\sum_{k=1}^L{(I_i^k-\\bar{I}_i)}{(I^k_j-\\bar{I}_j)}}}{\\sqrt{\\displaystyle{\\sum_{k=1}^L{(I_i^k-\\bar{I}_i)^2}}} \\sqrt{\\displaystyle{\\sum_{k=1}^L{(I_j^k-\\bar{I}_j)^2}}}} \\quad (2)$$\n",
    "where $\\bar{I}_i$ is the sample mean. The _sample correlation coefficient_ may also be referred as the _sample Pearson correlation coefficient_.\n",
    "\n",
    "Here is a beautiful paper that explains multiple ways to calculate and understand correlations [Rodgers and Nicewander 1988](https://www.stat.berkeley.edu/~rabbee/correlation.pdf)"
   ]
  },
  {
   "cell_type": "code",
   "execution_count": 6,
   "metadata": {
    "colab": {},
    "colab_type": "code",
    "id": "cNRakP99Hlqr"
   },
   "outputs": [],
   "source": [
    "# Exercise\n",
    "def my_CC(x, y):\n",
    "  \"\"\"\n",
    "  Args:\n",
    "    x, y  : two time serieses with same length\n",
    "\n",
    "  Returns:\n",
    "    rxy   : correlation coefficient\n",
    "  \"\"\"\n",
    "  ########################################################################\n",
    "  ## TODO for students: compute rxy, then remove the NotImplementedError #\n",
    "  ########################################################################\n",
    "  # xy  = ... \n",
    "  # xx  = ... #Tip1: array([a1, a2, a3])*array([b1, b2, b3]) = array([a1*b1, a2*b2, a3*b3])\n",
    "  # yy  = ... #Tip2: np.sum(array([a1, a2, a3])) = a1+a2+a3\n",
    "  # rxy = ... #Tip3: square root, np.sqrt()\n",
    "  \n",
    "  raise NotImplementedError(\"Student excercise: compute the sample correlation coefficient\")\n",
    "\n",
    "  return rxy\n",
    "\n",
    "\n",
    "# Uncomment the line after completing the my_CC function\n",
    "# example_plot_myCC()"
   ]
  },
  {
   "cell_type": "markdown",
   "metadata": {
    "colab": {
     "base_uri": "https://localhost:8080/",
     "height": 294
    },
    "colab_type": "text",
    "id": "oFsWkq0P4WHg",
    "outputId": "e2d1dbc2-cbf7-40f8-8009-8dd7249e3311"
   },
   "source": [
    "[*Click for solution*](https://github.com/NeuromatchAcademy/course-content/tree/master//tutorials/W3D1_RealNeurons/solutions/W3D1_Tutorial2_Solution_64c2de3e.py)\n",
    "\n",
    "*Example output:*\n",
    "\n",
    "<img alt='Solution hint' align='left' width=417 height=288 src=https://raw.githubusercontent.com/NeuromatchAcademy/course-content/master/tutorials/W3D1_RealNeurons/static/W3D1_Tutorial2_Solution_64c2de3e_0.png>\n",
    "\n"
   ]
  },
  {
   "cell_type": "markdown",
   "metadata": {
    "colab_type": "text",
    "id": "SgKLPRqwM5_z"
   },
   "source": [
    "### Exercise 2: Measure the correlation of spike trains\n",
    "\n",
    "After recording the spike times of the two neurons, how can we estimate their correlation coefficient? \n",
    "\n",
    "In order to find this, we need to bin the spike times and obtain two time series. Each data point in the time series is the number of spikes in the corresponding time bin. You can use `numpy.histogram()` to bin the spike times.\n",
    "\n",
    "Complete the code below to bin the spike times and calculate the correlation coefficient for two Poisson spike trains. Note that `c` here is the ground-truth correlation coefficient that we define.\n",
    "\n",
    "Note: please execute the below cell first."
   ]
  },
  {
   "cell_type": "code",
   "execution_count": 8,
   "metadata": {
    "cellView": "form",
    "colab": {},
    "colab_type": "code",
    "id": "U9MU6wgtPpuU"
   },
   "outputs": [],
   "source": [
    "#@title Helper function for generating poisson spike trains.\n",
    "def generate_corr_Poisson(pars, poi_rate, c):\n",
    "  \"\"\"\n",
    "  function to generate correlated Poisson type spike trains\n",
    "  Args:\n",
    "    pars       : parameter dictionary\n",
    "    poi_rate   : rate of the Poisson train\n",
    "    c.         : correlation coefficient ~[0, 1]\n",
    "    \n",
    "  Returns:\n",
    "    sp1, sp2   : two correlated spike time trains with corr. coe. c\n",
    "  \"\"\"\n",
    "\n",
    "  dt, range_t = pars['dt'], pars['range_t']\n",
    "  Lt = len(range_t)\n",
    "\n",
    "  mother_rate = poi_rate/c\n",
    "  mother_spike_train = Poisson_generator(pars, rate=mother_rate, n=1)[0]\n",
    "  sp_mother = range_t[mother_spike_train>0]\n",
    "\n",
    "  L_sp_mother = len(sp_mother)\n",
    "  sp_mother_id = np.arange(L_sp_mother)\n",
    "  L_sp_corr = int(L_sp_mother*c)\n",
    "\n",
    "  np.random.shuffle(sp_mother_id)\n",
    "  sp1 = np.sort(sp_mother[sp_mother_id[:L_sp_corr]])\n",
    "\n",
    "  np.random.shuffle(sp_mother_id)\n",
    "  sp2 = np.sort(sp_mother[sp_mother_id[:L_sp_corr]])\n",
    "\n",
    "  return sp1, sp2"
   ]
  },
  {
   "cell_type": "code",
   "execution_count": 9,
   "metadata": {
    "colab": {},
    "colab_type": "code",
    "id": "oEPDC5YGSXPc"
   },
   "outputs": [],
   "source": [
    "# Exercise\n",
    "# generate correlated Poisson spike time\n",
    "poi_rate = 20.\n",
    "c = 0.2 # set true correlation \n",
    "pars = default_pars(T=10000)\n",
    "sp1, sp2 = generate_corr_Poisson(pars, poi_rate, c)\n",
    "\n",
    "#bin the spike time\n",
    "bin_size = 20 # [ms]\n",
    "my_bin = np.arange(0, pars['T'], bin_size)\n",
    "##############################################################\n",
    "## TODO for students: Use np.histogram to bin the spike time #\n",
    "## Use my_CC() compute corr coe, compare with c              #\n",
    "##############################################################\n",
    "# e.g., sp1_count, _= np.histogram(...)\n",
    "\n",
    "\n",
    "# Note that you can run multiple realizations and compute their r_12(diff_trials) \n",
    "# with the defined function above. The average r_12 over trials can get close to c. "
   ]
  },
  {
   "cell_type": "markdown",
   "metadata": {
    "colab": {
     "base_uri": "https://localhost:8080/",
     "height": 50
    },
    "colab_type": "text",
    "id": "Mim54TJNSk9x",
    "outputId": "441e4148-0abf-47f9-b44e-9190d9d9b282"
   },
   "source": [
    "[*Click for solution*](https://github.com/NeuromatchAcademy/course-content/tree/master//tutorials/W3D1_RealNeurons/solutions/W3D1_Tutorial2_Solution_703c3a41.py)\n",
    "\n"
   ]
  },
  {
   "cell_type": "markdown",
   "metadata": {
    "colab_type": "text",
    "id": "6_PutaGqPC9_"
   },
   "source": [
    "## Investigate the effect of input correlation on the output correlation\n",
    "\n",
    "Now let's combine the aforementioned two precudures. We first generate the correlated inputs by Equation (1) (i.e., Exercise 1). Then we inject the correlated inputs $I_1, I_2$ into a pair of neurons and record their output spike times. We continue meansuring the correlation between the output, and \n",
    "investigate the relationship between the input correlation and the output correlation."
   ]
  },
  {
   "cell_type": "code",
   "execution_count": 11,
   "metadata": {
    "cellView": "form",
    "colab": {},
    "colab_type": "code",
    "id": "vaoCgDptcV-G"
   },
   "outputs": [],
   "source": [
    "#@title Helper function for LIF neurons with correlated input\n",
    "\n",
    "def LIF_output_cc(pars, mu, sig, c, bin_size, n_trials=20):\n",
    "      '''\n",
    "      Expects:\n",
    "      pars       : parameter dictionary\n",
    "      mu         : noise baseline (mean)\n",
    "      sig        : noise amplitute (standard deviation)\n",
    "      c          : correlation coefficient ~[0, 1]\n",
    "      bin_size   : bin size used for time series\n",
    "      n_trials   : total simulation trials\n",
    "      \n",
    "      Returns:\n",
    "      r          : output corr. coe.\n",
    "      sp_rate    : spike rate\n",
    "      sp1        : spike times of neuron 1 in the last trial\n",
    "      sp2        : spike times of neuron 2 in the last trial\n",
    "      '''\n",
    "\n",
    "      r12 = np.zeros(n_trials)\n",
    "      sp_rate = np.zeros(n_trials)\n",
    "      for i_trial in range(n_trials):\n",
    "          I1gL, I2gL = correlate_input(pars, mu, sig, c)\n",
    "          _, sp1 = run_LIF(pars, pars['g_L']*I1gL)\n",
    "          _, sp2 = run_LIF(pars, pars['g_L']*I2gL)\n",
    "\n",
    "          #bin_size = bin_size #int(pars['T']/len(sp1))\n",
    "          my_bin = np.arange(0, pars['T'], bin_size) \n",
    " \n",
    "          sp1_count, _ = np.histogram(sp1, bins=my_bin)\n",
    "          sp2_count, _ = np.histogram(sp2, bins=my_bin)\n",
    "\n",
    "          r12[i_trial] = my_CC(sp1_count[::20], sp2_count[::20])\n",
    "          sp_rate[i_trial] = len(sp1) / pars['T'] * 1000.\n",
    "\n",
    "      return  r12.mean(), sp_rate.mean(), sp1, sp2\n",
    "\n",
    "def plot_c_r_LIF(c, r, mycolor, mylabel):\n",
    "    z = np.polyfit(c, r, deg=1)\n",
    "    c_range = np.array([ c.min()-0.05, c.max()+0.05])\n",
    "    plt.plot(c, r, 'o', color=mycolor, alpha=0.7, label=mylabel, zorder=2)\n",
    "    plt.plot(c_range, z[0]*c_range+z[1], color=mycolor, zorder=1)"
   ]
  },
  {
   "cell_type": "markdown",
   "metadata": {
    "colab_type": "text",
    "id": "VpDGQSuQmUR0"
   },
   "source": [
    "### Drive a neuron with correlated inputs and visualize its output\n",
    "In the following, you will inject correlated GWN in two neurons. You need to define the mean (`gwn_mean`), standard deviation (`gwn_std`) and input correlations (`c_in`).\n",
    "\n",
    "We will simulate $10$ trials to get a better estimate of the output correlation. Change the values for the above variables to explore how they impact the output correlation."
   ]
  },
  {
   "cell_type": "code",
   "execution_count": 12,
   "metadata": {
    "colab": {
     "base_uri": "https://localhost:8080/",
     "height": 33
    },
    "colab_type": "code",
    "id": "TzWrUz1tmUmc",
    "outputId": "cb7ad835-39b4-4c58-f491-13937ec3c1a7"
   },
   "outputs": [
    {
     "name": "stdout",
     "output_type": "stream",
     "text": [
      "Simulation time = 0.04 min\n"
     ]
    }
   ],
   "source": [
    "pars = default_pars(T=80000, dt=1.) # get the parameters\n",
    "c_in = 0.3 # set input correlation value\n",
    "gwn_mean = 10. \n",
    "gwn_std = 10.\n",
    "\n",
    "bin_size = 10. # ms \n",
    "\n",
    "starttime = time.perf_counter() # time clock\n",
    "\n",
    "r12_ss, sp_ss, sp1, sp2 = LIF_output_cc(pars, mu=gwn_mean, sig=gwn_std, c=c_in, bin_size = bin_size, n_trials=10)\n",
    "\n",
    "# just the time counter\n",
    "endtime = time.perf_counter()\n",
    "timecost = (endtime - starttime)/60.\n",
    "print('Simulation time = %.2f min' % timecost)"
   ]
  },
  {
   "cell_type": "code",
   "execution_count": 13,
   "metadata": {
    "colab": {
     "base_uri": "https://localhost:8080/",
     "height": 456
    },
    "colab_type": "code",
    "id": "gotuAyQ0nqm2",
    "outputId": "1f94f924-c18c-409c-f21f-bfc3a6e829c4"
   },
   "outputs": [
    {
     "name": "stdout",
     "output_type": "stream",
     "text": [
      "Input correlation = 0.3\n",
      "Output correlation = 0.10166016045629309\n"
     ]
    },
    {
     "data": {
      "text/plain": [
       "(1000.0, 8000.0)"
      ]
     },
     "execution_count": 13,
     "metadata": {},
     "output_type": "execute_result"
    },
    {
     "data": {
      "image/png": "[encoded data removed]",
      "text/plain": [
       "<Figure size 864x432 with 1 Axes>"
      ]
     },
     "metadata": {
      "needs_background": "light"
     },
     "output_type": "display_data"
    }
   ],
   "source": [
    "print('Input correlation = '+str(c_in))\n",
    "print('Output correlation = '+str(r12_ss))\n",
    "\n",
    "plt.figure(figsize=(12, 6))\n",
    "plt.plot(sp1,np.ones(len(sp1))*1,'|',ms = 20,label = 'neuron 1')\n",
    "plt.plot(sp2,np.ones(len(sp2))*1.1,'|',ms = 20,label = 'neuron 2')\n",
    "plt.ylim(0.9, 1.2)\n",
    "plt.legend()\n",
    "plt.xlabel('time (ms)')\n",
    "plt.ylabel('neuron id.')\n",
    "plt.xlim(1000,8000)"
   ]
  },
  {
   "cell_type": "markdown",
   "metadata": {
    "colab_type": "text",
    "id": "nKQVWR60qqdi"
   },
   "source": [
    "### Think!\n",
    "- Is the output correlation always smaller than the input correlation? If yes, why?\n",
    "- Should there be a systematic relationship between input and output correlations? "
   ]
  },
  {
   "cell_type": "markdown",
   "metadata": {
    "colab_type": "text",
    "id": "3zpGLfwgqXgq"
   },
   "source": [
    "Lets vary `c_in` and plot the relationship between the `c_in` and output correlation. This might take some time depending on the number of trials. "
   ]
  },
  {
   "cell_type": "code",
   "execution_count": 14,
   "metadata": {
    "colab": {
     "base_uri": "https://localhost:8080/",
     "height": 33
    },
    "colab_type": "code",
    "id": "-27REsp8rGy5",
    "outputId": "086cd358-9ba3-4362-b708-2f0ab2c8bdfc"
   },
   "outputs": [
    {
     "name": "stdout",
     "output_type": "stream",
     "text": [
      "Simulation time = 0.45 min\n"
     ]
    }
   ],
   "source": [
    "pars = default_pars(T=80000, dt=1.) # get the parameters\n",
    "bin_size = 10.\n",
    "c_in = np.arange(0,1.0,0.1) # set the range for input CC\n",
    "r12_ss = np.zeros(len(c_in)) # small mu, small sigma\n",
    "\n",
    "starttime = time.perf_counter() # time clock\n",
    "for ic in range(len(c_in)):\n",
    "  r12_ss[ic], sp_ss, sp1, sp2 = LIF_output_cc(pars, mu=10.0, sig=10., c=c_in[ic], bin_size = bin_size, n_trials=10)\n",
    "endtime = time.perf_counter()\n",
    "timecost = (endtime - starttime)/60.\n",
    "print('Simulation time = %.2f min' % timecost)"
   ]
  },
  {
   "cell_type": "code",
   "execution_count": 15,
   "metadata": {
    "colab": {
     "base_uri": "https://localhost:8080/",
     "height": 422
    },
    "colab_type": "code",
    "id": "euPp-isurfNk",
    "outputId": "839e268b-23d6-42a1-d8e4-8ee606bac5d6"
   },
   "outputs": [
    {
     "data": {
      "text/plain": [
       "<matplotlib.legend.Legend at 0x7f61dbad2d50>"
      ]
     },
     "execution_count": 15,
     "metadata": {},
     "output_type": "execute_result"
    },
    {
     "data": {
      "image/png": "[encoded data removed]",
      "text/plain": [
       "<Figure size 504x432 with 1 Axes>"
      ]
     },
     "metadata": {
      "needs_background": "light"
     },
     "output_type": "display_data"
    }
   ],
   "source": [
    "plt.figure(figsize=(7, 6))\n",
    "plot_c_r_LIF(c_in, r12_ss, mycolor='b',mylabel='Output CC')\n",
    "plt.plot([ c_in.min()-0.05, c_in.max()+0.05], [ c_in.min()-0.05, c_in.max()+0.05], 'k--', dashes=(2,2), label='y=x')\n",
    "plt.xlabel('Input CC')\n",
    "plt.ylabel('Output CC')\n",
    "plt.legend(loc='best', fontsize=16) "
   ]
  },
  {
   "cell_type": "markdown",
   "metadata": {
    "colab_type": "text",
    "id": "i4CqOWkIMAJ-"
   },
   "source": [
    "## Correlation transfer function\n",
    "The above plot of input correlation vs. output correlation is called the __correlation transfer function__ of the neurons. "
   ]
  },
  {
   "cell_type": "markdown",
   "metadata": {
    "colab_type": "text",
    "id": "YEB9LWD0smps"
   },
   "source": [
    "### How do mean and standard deviation of the GWN affect the correlation transfer function?\n",
    "The correlations transfer function appears to be linear. The above can be taken as the input/output transfer function of LIF neurons for correlations, instead of the transfer function for input/output firing rates as we had discussed in the previous tutorial (i.e., F-I curve).\n",
    "\n",
    "What would you expect to happen to the slope of the correlation transfer function if you vary the mean and/or the standard deviation of the GWN?"
   ]
  },
  {
   "cell_type": "code",
   "execution_count": 16,
   "metadata": {
    "colab": {
     "base_uri": "https://localhost:8080/",
     "height": 33
    },
    "colab_type": "code",
    "id": "kH9WSUy9dvUf",
    "outputId": "5f52a489-8ab0-4156-cdb0-0ba123989b9d"
   },
   "outputs": [
    {
     "name": "stdout",
     "output_type": "stream",
     "text": [
      "Simulation time = 0.68 min\n"
     ]
    }
   ],
   "source": [
    "pars = default_pars(T=80000, dt=1.) # get the parameters\n",
    "no_trial = 10\n",
    "bin_size = 10.\n",
    "c_in = np.arange(0.,1., 0.2) # set the range for input CC\n",
    "r12_ss = np.zeros(len(c_in)) # small mu, small sigma\n",
    "r12_ls = np.zeros(len(c_in)) # large mu, small sigma\n",
    "r12_sl = np.zeros(len(c_in)) # small mu, large sigma\n",
    "\n",
    "starttime = time.perf_counter() # time clock\n",
    "for ic in range(len(c_in)):\n",
    "  r12_ss[ic], sp_ss, sp1, sp2 = LIF_output_cc(pars, mu=10.0, sig=10., c=c_in[ic], bin_size = bin_size, n_trials=no_trial)\n",
    "  r12_ls[ic], sp_ls, sp1, sp2 = LIF_output_cc(pars, mu=18.0, sig=10., c=c_in[ic], bin_size = bin_size, n_trials=no_trial)\n",
    "  r12_sl[ic], sp_sl, sp1, sp2 = LIF_output_cc(pars, mu=10.0, sig=20., c=c_in[ic], bin_size = bin_size, n_trials=no_trial)\n",
    "endtime = time.perf_counter()\n",
    "timecost = (endtime - starttime)/60.\n",
    "print('Simulation time = %.2f min' % timecost)"
   ]
  },
  {
   "cell_type": "code",
   "execution_count": 17,
   "metadata": {
    "colab": {
     "base_uri": "https://localhost:8080/",
     "height": 417
    },
    "colab_type": "code",
    "id": "ythEWLZewBFK",
    "outputId": "c6e097a1-483e-4466-bf34-7f78f2121b68"
   },
   "outputs": [
    {
     "data": {
      "text/plain": [
       "<matplotlib.legend.Legend at 0x7f61dc46ef50>"
      ]
     },
     "execution_count": 17,
     "metadata": {},
     "output_type": "execute_result"
    },
    {
     "data": {
      "image/png": "[encoded data removed]",
      "text/plain": [
       "<Figure size 504x432 with 1 Axes>"
      ]
     },
     "metadata": {
      "needs_background": "light"
     },
     "output_type": "display_data"
    }
   ],
   "source": [
    "plt.figure(figsize=(7, 6))\n",
    "plot_c_r_LIF(c_in, r12_ss, mycolor='b', mylabel=r'Small $\\mu$, small $\\sigma$')\n",
    "plot_c_r_LIF(c_in, r12_ls, mycolor='y', mylabel=r'Large $\\mu$, small $\\sigma$')\n",
    "plot_c_r_LIF(c_in, r12_sl, mycolor='r', mylabel=r'Small $\\mu$, large $\\sigma$')\n",
    "plt.plot([ c_in.min()-0.05, c_in.max()+0.05], [ c_in.min()-0.05, c_in.max()+0.05], 'k--', dashes=(2,2), label='y=x')\n",
    "plt.xlabel('Input CC')\n",
    "plt.ylabel('Output CC')\n",
    "plt.legend(loc='best', fontsize=14) "
   ]
  },
  {
   "cell_type": "markdown",
   "metadata": {
    "colab_type": "text",
    "id": "jrzxU3RULDDI"
   },
   "source": [
    "### Think!\n",
    "Why do both the mean and the standard deviation of the GWN affect the slope of correlation transfer function? "
   ]
  },
  {
   "cell_type": "markdown",
   "metadata": {
    "colab_type": "text",
    "id": "67gsO37w-8Qj"
   },
   "source": [
    "### What is the rationale behind varying $\\mu$ and $\\sigma$?\n",
    "The mean and the variance of the synaptic current depends on the spike rate of a Poisson process. We can use the [Campbell's theorem](https://en.wikipedia.org/wiki/Campbell%27s_theorem_(probability)) to estimate the mean and the variance of the synaptic current:\n",
    "\n",
    "\\begin{align}\n",
    "\\mu_{\\rm syn} = \\lambda J \\int P(t) \\\\\n",
    "\\sigma_{\\rm syn} = \\lambda J \\int P(t)^2 dt\\\\\n",
    "\\end{align}\n",
    "\n",
    "where $\\lambda$ is the firing rate of the Poisson input, $J$ the amplitude of the postsynaptic current, and $P(t)$ is the shape of the postsynaptic current as a function of time. \n",
    "\n",
    "Therefore, when we varied $\\mu$ and/or $\\sigma$ of the GWN, we mimicked a change in the input firing rate. Note that, if we changed the firing rate, both $\\mu$ and $\\sigma$ will change simultaneously, not independently. \n",
    "\n",
    "Here, since we observe an effect of $\\mu$ and $\\sigma$ on correlation transfer, this implies that the input rate has an impact on the correlation transfer function.\n"
   ]
  },
  {
   "cell_type": "markdown",
   "metadata": {
    "colab_type": "text",
    "id": "3_dyceUAEzh8"
   },
   "source": [
    "### Think!\n",
    "- What are factors that would make output correlations smaller than input correlations? (Notice that the colored lines are below the black dashed line)\n",
    "- What does it mean for the correlation in the network?\n",
    "- What do you think will happen if you use a wider range of input correlations?\n",
    "- Here we have studied the transfer of correlations by injecting GWN. But in the previous tutorial we mentioned that GWN is unphysiological. Indeed, neurons receive colored noise (i.e., Shot noise or OU process). How do these results obtained from injection of GWN apply to the case where correlated spiking inputs are injected in the two LIFs? Will the results be the same or different? \n",
    "\n",
    "_Here is a reference [De La Rocha, Jaime, et al. \"Correlation between neural spike trains increases with firing rate.\" Nature  (2007)](https://www.nature.com/articles/nature06028/)_"
   ]
  },
  {
   "cell_type": "markdown",
   "metadata": {
    "colab_type": "text",
    "id": "6IdP4bt2NpB2"
   },
   "source": [
    "## Example of a conductance-based LIF model\n",
    "Above, we have written code to generate correlated Poisson spike trains. You can write code to stimulate the LIF neuron with such correlated spike trains and study the correlation transfer function for spiking input and compare it to the correlation transfer function obtained by injecting correlated GWNs."
   ]
  },
  {
   "cell_type": "code",
   "execution_count": 18,
   "metadata": {
    "cellView": "form",
    "colab": {},
    "colab_type": "code",
    "id": "z7-8LaIWnAKY"
   },
   "outputs": [],
   "source": [
    "#@title Conductance-based LIF: `run_LIF_cond`\n",
    "\n",
    "def run_LIF_cond(pars, I_inj, pre_spike_train_ex, pre_spike_train_in):\n",
    "    '''\n",
    "    conductance-based LIF dynamics\n",
    "    \n",
    "    Expects:\n",
    "    pars               : parameter dictionary\n",
    "    I_inj              : injected current [pA]. The injected current here can be a value or an array\n",
    "    pre_spike_train_ex : spike train input from presynaptic excitatory neuron\n",
    "    pre_spike_train_in : spike train input from presynaptic inhibitory neuron\n",
    "    \n",
    "    Returns:\n",
    "    rec_spikes : spike times\n",
    "    rec_v      : mebrane potential\n",
    "    gE         : postsynaptic excitatory conductance\n",
    "    gI         : postsynaptic inhibitory conductance\n",
    "    '''\n",
    "    \n",
    "    # Retrieve parameters\n",
    "    V_th, V_reset = pars['V_th'], pars['V_reset']\n",
    "    tau_m, g_L = pars['tau_m'], pars['g_L']\n",
    "    V_init, E_L = pars['V_init'], pars['E_L']\n",
    "    gE_bar, gI_bar = pars['gE_bar'], pars['gI_bar']\n",
    "    VE, VI = pars['VE'], pars['VI']\n",
    "    tau_syn_E, tau_syn_I = pars['tau_syn_E'], pars['tau_syn_I']\n",
    "    tref = pars['tref'] \n",
    "    dt, range_t = pars['dt'], pars['range_t']\n",
    "    Lt = range_t.size\n",
    "    \n",
    "    # Initialize\n",
    "    tr = 0.\n",
    "    v = np.zeros(Lt)\n",
    "    v[0] = V_init\n",
    "    gE = np.zeros(Lt)\n",
    "    gI = np.zeros(Lt)\n",
    "    I = I_inj * np.ones(Lt) #ensure I has length Lt\n",
    "\n",
    "    if pre_spike_train_ex.max() == 0:\n",
    "      pre_spike_train_ex_total = np.zeros(Lt)\n",
    "    else:\n",
    "      pre_spike_train_ex_total = pre_spike_train_ex * np.ones(Lt)\n",
    "\n",
    "    if pre_spike_train_in.max() == 0:\n",
    "      pre_spike_train_in_total = np.zeros(Lt)\n",
    "    else:\n",
    "      pre_spike_train_in_total = pre_spike_train_in * np.ones(Lt)\n",
    "    \n",
    "    # simulation\n",
    "    rec_spikes = [] # recording spike times\n",
    "    for it in range(Lt-1):\n",
    "      if tr >0:\n",
    "            v[it] = V_reset\n",
    "            tr = tr-1\n",
    "      elif v[it] >= V_th:         #reset voltage and record spike event\n",
    "            rec_spikes.append(it)\n",
    "            v[it] = V_reset\n",
    "            tr = tref/dt\n",
    "      #update the synaptic conductance\n",
    "      gE[it+1] = gE[it] - (dt/tau_syn_E)*gE[it] + gE_bar*pre_spike_train_ex_total[it+1]\n",
    "      gI[it+1] = gI[it] - (dt/tau_syn_I)*gI[it] + gI_bar*pre_spike_train_in_total[it+1]\n",
    "        \n",
    "      #calculate the increment of the membrane potential\n",
    "      dv = (-(v[it]-E_L) - (gE[it+1]/g_L)*(v[it]-VE) - \\\n",
    "              (gI[it+1]/g_L)*(v[it]-VI) + I[it]/g_L) * (dt/tau_m)\n",
    "        \n",
    "      #update membrane potential\n",
    "      v[it+1] = v[it] + dv\n",
    "        \n",
    "    rec_spikes = np.array(rec_spikes) * dt\n",
    "        \n",
    "    return v, rec_spikes, gE, gI"
   ]
  },
  {
   "cell_type": "code",
   "execution_count": 19,
   "metadata": {
    "cellView": "both",
    "colab": {
     "base_uri": "https://localhost:8080/",
     "height": 562,
     "referenced_widgets": [
      "ea7d1ebd4f0845fda151fb91c33b7d56",
      "a2937c8adc85412294e28c373185cf10",
      "b1f3e8a3d3b9442ea0444cb4f2168bf4",
      "999f444be7fd479f81b9bef594111204",
      "10554c3898c948238196844bd22ec51c",
      "f8a6b28b848443a486b84368174d2b78",
      "f1a1128670044ebaae8c5041341d9595",
      "b8e01fb3d98b4b95a8f7b594d5c8ffcf",
      "3563c015a551427fb23c6c23ef28fe7f",
      "7a85f1257d6a42688a215be15b2e558c",
      "af0a961d00dd443c9007cea9356e405f"
     ]
    },
    "colab_type": "code",
    "id": "bksg7PSWnGWV",
    "outputId": "e92d239a-e775-497e-f78b-cce39100c585"
   },
   "outputs": [
    {
     "name": "stdout",
     "output_type": "stream",
     "text": [
      "Input correlation = 0.3\n",
      "Output correlation = 0.047607780381845835\n"
     ]
    },
    {
     "data": {
      "image/png": "[encoded data removed]",
      "text/plain": [
       "<Figure size 1008x504 with 2 Axes>"
      ]
     },
     "metadata": {
      "needs_background": "light"
     },
     "output_type": "display_data"
    }
   ],
   "source": [
    "#@title Interactive Demo: Correlated spike input to an LIF neuron \n",
    "\n",
    "my_layout.width = '450px'\n",
    "@widgets.interact(\n",
    "  pwc_ee = widgets.FloatSlider(0.3, min=0.05, max=0.99, step=0.01, layout=my_layout),\n",
    "  exc_rate = widgets.FloatSlider(1e3, min=500., max=5e3, step=50., layout=my_layout),\n",
    "  inh_rate = widgets.FloatSlider(500., min=300., max=5e3, step=5., layout=my_layout),\n",
    ")\n",
    "\n",
    "def EI_isi_regularity(pwc_ee, exc_rate, inh_rate):\n",
    "\n",
    "  pars = default_pars(T=1000.)\n",
    "  #Add parameters\n",
    "  pars['V_th']    = -55. # spike threshold [mV]\n",
    "  pars['V_reset'] = -75. #reset potential [mV]\n",
    "  pars['tau_m']   = 10. # membrane time constant [ms]\n",
    "  pars['g_L']     = 10. #leak conductance [nS]\n",
    "  pars['V_init']  = -65. # initial potential [mV]\n",
    "  pars['E_L']     = -75. #leak reversal potential [mV]\n",
    "  pars['tref']    = 2. # refractory time (ms)\n",
    "\n",
    "  pars['gE_bar']    = 4.0  # [nS]\n",
    "  pars['VE']        = 0.   # [mV] excitatory reversal potential\n",
    "  pars['tau_syn_E'] = 2.   # [ms]\n",
    "  pars['gI_bar']    = 2.4  # [nS]\n",
    "  pars['VI']        = -80. # [mV] inhibitory reversal potential\n",
    "  pars['tau_syn_I'] = 5.   # [ms]\n",
    "\n",
    "  my_bin = np.arange(0, pars['T']+pars['dt'], .1) # 20 [ms] bin-size\n",
    "\n",
    "  exc_rate = 1e3;\n",
    "  inh_rate = 0.4e3\n",
    "  pwc_ee = 0.3\n",
    "  pwc_ii = 0.01\n",
    "  # generate two correlated spike trains for excitatory input\n",
    "  sp1e, sp2e = generate_corr_Poisson(pars, exc_rate, pwc_ee)\n",
    "\n",
    "  sp1_spike_train_ex, _ = np.histogram(sp1e, bins=my_bin)\n",
    "  sp2_spike_train_ex, _ = np.histogram(sp2e, bins=my_bin)\n",
    "\n",
    "  # generate two uncorrelated spike trains for inhibitory input\n",
    "  sp1i, sp2i = generate_corr_Poisson(pars, inh_rate, pwc_ii)\n",
    "  sp1_spike_train_in, _ = np.histogram(sp1e, bins=my_bin)\n",
    "  sp2_spike_train_in, _ = np.histogram(sp2e, bins=my_bin)\n",
    "\n",
    "  v1, rec_spikes1, gE, gI = run_LIF_cond(pars, 0, sp1_spike_train_ex, sp1_spike_train_in)\n",
    "  v2, rec_spikes2, gE, gI = run_LIF_cond(pars, 0, sp2_spike_train_ex, sp2_spike_train_in)\n",
    "\n",
    "\n",
    "  #bin the spike time\n",
    "  bin_size = 20 # [ms]\n",
    "  my_bin = np.arange(0, pars['T'], bin_size)\n",
    "  spk_1, _ = np.histogram(rec_spikes1, bins=my_bin)\n",
    "  spk_2, _ = np.histogram(rec_spikes2, bins=my_bin)\n",
    "\n",
    "  r12 = my_CC(spk_1, spk_2)\n",
    "  print('Input correlation = '+str(pwc_ee))\n",
    "  print('Output correlation = '+str(r12))\n",
    "\n",
    "\n",
    "  plt.figure(figsize=(14, 7))\n",
    "  plt.subplot(2,1,1)\n",
    "  plt.plot(sp1e,np.ones(len(sp1e))*1,'|',ms = 20,label = 'Exc. input 1')\n",
    "  plt.plot(sp2e,np.ones(len(sp2e))*1.1,'|',ms = 20,label = 'Exc. input 2')\n",
    "  plt.plot(sp1e,np.ones(len(sp1e))*1.3,'|k',ms = 20,label = 'Inh. input 1')\n",
    "  plt.plot(sp2e,np.ones(len(sp2e))*1.4,'|k',ms = 20,label = 'Inh. input 2')\n",
    "\n",
    "  plt.ylim(0.9, 1.5)\n",
    "  plt.legend()\n",
    "  plt.xlabel('time (ms)')\n",
    "  plt.ylabel('neuron id.')\n",
    "\n",
    "\n",
    "  plt.subplot(2,1,2)\n",
    "  plt.plot(pars['range_t'],v1,label = 'neuron 1')\n",
    "  plt.plot(pars['range_t'],v2,label = 'neuron 2')"
   ]
  },
  {
   "cell_type": "markdown",
   "metadata": {
    "colab_type": "text",
    "id": "z7TXjCQa7CR7"
   },
   "source": [
    "In the above, we are estimating output correlation for one trial. You can modify the code to get a trial average of output correlations."
   ]
  },
  {
   "cell_type": "markdown",
   "metadata": {
    "colab_type": "text",
    "id": "LJfdR6Xu7Vyi"
   },
   "source": [
    "---\n",
    "# Summary\n",
    "\n",
    "In this tutorial, we studied how the input correlation of two LIF neurons is mapped to their output correlation. Specifically, we:\n",
    "\n",
    "- injected correlated GWN in a pair of neurons,\n",
    "\n",
    "- measured correlations between the spiking activity of the two neurons, and\n",
    "\n",
    "- studied how transfer of correlation depends on the statistics of the input, i.e., mean and standard deviation.\n",
    "\n",
    "Here, we were concerned with zero-time lag correlation. For this reason we restricted estimation of correlation to instanteneous correlations. If you are interested in time-lagged correlation, then we should estimate the cross-correlogram of the spike trains and find out the dominant peak and area under the peak to get an estimate of output correlations. \n",
    "\n",
    "We leave this as a future to-do for you, if you are interested."
   ]
  },
  {
   "cell_type": "markdown",
   "metadata": {
    "colab_type": "text",
    "id": "tbhWzUDm5hiY"
   },
   "source": [
    "# Bonus\n",
    "\n",
    "Finally, there is a short BONUS lecture video on the firing response of an ensemble of neurons to time-varying input. There is no associated coding exercises - just enjoy."
   ]
  },
  {
   "cell_type": "code",
   "execution_count": 20,
   "metadata": {
    "cellView": "form",
    "colab": {
     "base_uri": "https://localhost:8080/",
     "height": 516
    },
    "colab_type": "code",
    "id": "xkrEq6Jzn-lc",
    "outputId": "1bfa87bd-91a6-41e5-e2f9-bdaf716743bd"
   },
   "outputs": [
    {
     "name": "stdout",
     "output_type": "stream",
     "text": [
      "Video available at https://youtube.com/watch?v=4DDWrmVy_0o\n"
     ]
    },
    {
     "data": {
      "image/jpeg": "[encoded data removed]",
      "text/html": [
       "\n",
       "        <iframe\n",
       "            width=\"854\"\n",
       "            height=\"480\"\n",
       "            src=\"https://www.youtube.com/embed/4DDWrmVy_0o?fs=1\"\n",
       "            frameborder=\"0\"\n",
       "            allowfullscreen\n",
       "        ></iframe>\n",
       "        "
      ],
      "text/plain": [
       "<IPython.lib.display.YouTubeVideo at 0x7f61dba37c90>"
      ]
     },
     "execution_count": 20,
     "metadata": {},
     "output_type": "execute_result"
    }
   ],
   "source": [
    "#@title Video: Response of ensemble of neurons to time-varying input\n",
    "from IPython.display import YouTubeVideo\n",
    "video = YouTubeVideo(id=\"4DDWrmVy_0o\", width=854, height=480, fs=1)\n",
    "print(\"Video available at https://youtube.com/watch?v=\" + video.id)\n",
    "video"
   ]
  }
 ],
 "metadata": {
  "colab": {
   "collapsed_sections": [],
   "include_colab_link": true,
   "name": "NeuromatchAcademy_W3D1_Tutorial2",
   "provenance": [],
   "toc_visible": true
  },
  "kernelspec": {
   "display_name": "Python 3",
   "name": "python3"
  },
  "language_info": {
   "codemirror_mode": {
    "name": "ipython",
    "version": 3
   },
   "file_extension": ".py",
   "mimetype": "text/x-python",
   "name": "python",
   "nbconvert_exporter": "python",
   "pygments_lexer": "ipython3",
   "version": "3.7.7"
  },
  "widgets": {
   "application/vnd.jupyter.widget-state+json": {
    "state": {
     "073b2cfee91549c6ae29fd153c37e6e8": {
      "model_module": "@jupyter-widgets/controls",
      "model_module_version": "1.5.0",
      "model_name": "SliderStyleModel",
      "state": {
       "_model_module": "@jupyter-widgets/controls",
       "_model_module_version": "1.5.0",
       "_model_name": "SliderStyleModel",
       "_view_count": null,
       "_view_module": "@jupyter-widgets/base",
       "_view_module_version": "1.2.0",
       "_view_name": "StyleView",
       "description_width": "",
       "handle_color": null
      }
     },
     "1688bdb162844e6780e6503d6ea27a55": {
      "model_module": "@jupyter-widgets/output",
      "model_module_version": "1.0.0",
      "model_name": "OutputModel",
      "state": {
       "_dom_classes": [],
       "_model_module": "@jupyter-widgets/output",
       "_model_module_version": "1.0.0",
       "_model_name": "OutputModel",
       "_view_count": null,
       "_view_module": "@jupyter-widgets/output",
       "_view_module_version": "1.0.0",
       "_view_name": "OutputView",
       "layout": "IPY_MODEL_a360abebd3284e51bcf840f3e9ad99ea",
       "msg_id": "",
       "outputs": []
      }
     },
     "4600439e2afe4fe597f10b5c95c98b19": {
      "model_module": "@jupyter-widgets/controls",
      "model_module_version": "1.5.0",
      "model_name": "SliderStyleModel",
      "state": {
       "_model_module": "@jupyter-widgets/controls",
       "_model_module_version": "1.5.0",
       "_model_name": "SliderStyleModel",
       "_view_count": null,
       "_view_module": "@jupyter-widgets/base",
       "_view_module_version": "1.2.0",
       "_view_name": "StyleView",
       "description_width": "",
       "handle_color": null
      }
     },
     "4eb0d54f6b654eddb6a26a8aaa04f8a7": {
      "model_module": "@jupyter-widgets/controls",
      "model_module_version": "1.5.0",
      "model_name": "FloatSliderModel",
      "state": {
       "_dom_classes": [],
       "_model_module": "@jupyter-widgets/controls",
       "_model_module_version": "1.5.0",
       "_model_name": "FloatSliderModel",
       "_view_count": null,
       "_view_module": "@jupyter-widgets/controls",
       "_view_module_version": "1.5.0",
       "_view_name": "FloatSliderView",
       "continuous_update": true,
       "description": "exc_rate",
       "description_tooltip": null,
       "disabled": false,
       "layout": "IPY_MODEL_bc59f7d2f97445bd9f144cbc30db59a5",
       "max": 5000.0,
       "min": 500.0,
       "orientation": "horizontal",
       "readout": true,
       "readout_format": ".2f",
       "step": 50.0,
       "style": "IPY_MODEL_ea8bba7ca5ec46f9883b8c010f2b5fad",
       "value": 1000.0
      }
     },
     "51dd6910f7de4d79af866e8952acf39a": {
      "model_module": "@jupyter-widgets/controls",
      "model_module_version": "1.5.0",
      "model_name": "VBoxModel",
      "state": {
       "_dom_classes": [
        "widget-interact"
       ],
       "_model_module": "@jupyter-widgets/controls",
       "_model_module_version": "1.5.0",
       "_model_name": "VBoxModel",
       "_view_count": null,
       "_view_module": "@jupyter-widgets/controls",
       "_view_module_version": "1.5.0",
       "_view_name": "VBoxView",
       "box_style": "",
       "children": [
        "IPY_MODEL_e2c1ba68c38f4bc78274366ff2436995",
        "IPY_MODEL_4eb0d54f6b654eddb6a26a8aaa04f8a7",
        "IPY_MODEL_8b123cb7c3354f9e81029377becdcb5b",
        "IPY_MODEL_1688bdb162844e6780e6503d6ea27a55"
       ],
       "layout": "IPY_MODEL_e2a47d87fb674ae7a3b25dcb10b53783"
      }
     },
     "8b123cb7c3354f9e81029377becdcb5b": {
      "model_module": "@jupyter-widgets/controls",
      "model_module_version": "1.5.0",
      "model_name": "FloatSliderModel",
      "state": {
       "_dom_classes": [],
       "_model_module": "@jupyter-widgets/controls",
       "_model_module_version": "1.5.0",
       "_model_name": "FloatSliderModel",
       "_view_count": null,
       "_view_module": "@jupyter-widgets/controls",
       "_view_module_version": "1.5.0",
       "_view_name": "FloatSliderView",
       "continuous_update": true,
       "description": "inh_rate",
       "description_tooltip": null,
       "disabled": false,
       "layout": "IPY_MODEL_bc59f7d2f97445bd9f144cbc30db59a5",
       "max": 5000.0,
       "min": 300.0,
       "orientation": "horizontal",
       "readout": true,
       "readout_format": ".2f",
       "step": 5.0,
       "style": "IPY_MODEL_073b2cfee91549c6ae29fd153c37e6e8",
       "value": 500.0
      }
     },
     "a360abebd3284e51bcf840f3e9ad99ea": {
      "model_module": "@jupyter-widgets/base",
      "model_module_version": "1.2.0",
      "model_name": "LayoutModel",
      "state": {
       "_model_module": "@jupyter-widgets/base",
       "_model_module_version": "1.2.0",
       "_model_name": "LayoutModel",
       "_view_count": null,
       "_view_module": "@jupyter-widgets/base",
       "_view_module_version": "1.2.0",
       "_view_name": "LayoutView",
       "align_content": null,
       "align_items": null,
       "align_self": null,
       "border": null,
       "bottom": null,
       "display": null,
       "flex": null,
       "flex_flow": null,
       "grid_area": null,
       "grid_auto_columns": null,
       "grid_auto_flow": null,
       "grid_auto_rows": null,
       "grid_column": null,
       "grid_gap": null,
       "grid_row": null,
       "grid_template_areas": null,
       "grid_template_columns": null,
       "grid_template_rows": null,
       "height": null,
       "justify_content": null,
       "justify_items": null,
       "left": null,
       "margin": null,
       "max_height": null,
       "max_width": null,
       "min_height": null,
       "min_width": null,
       "object_fit": null,
       "object_position": null,
       "order": null,
       "overflow": null,
       "overflow_x": null,
       "overflow_y": null,
       "padding": null,
       "right": null,
       "top": null,
       "visibility": null,
       "width": null
      }
     },
     "bc59f7d2f97445bd9f144cbc30db59a5": {
      "model_module": "@jupyter-widgets/base",
      "model_module_version": "1.2.0",
      "model_name": "LayoutModel",
      "state": {
       "_model_module": "@jupyter-widgets/base",
       "_model_module_version": "1.2.0",
       "_model_name": "LayoutModel",
       "_view_count": null,
       "_view_module": "@jupyter-widgets/base",
       "_view_module_version": "1.2.0",
       "_view_name": "LayoutView",
       "align_content": null,
       "align_items": null,
       "align_self": null,
       "border": null,
       "bottom": null,
       "display": null,
       "flex": null,
       "flex_flow": null,
       "grid_area": null,
       "grid_auto_columns": null,
       "grid_auto_flow": null,
       "grid_auto_rows": null,
       "grid_column": null,
       "grid_gap": null,
       "grid_row": null,
       "grid_template_areas": null,
       "grid_template_columns": null,
       "grid_template_rows": null,
       "height": null,
       "justify_content": null,
       "justify_items": null,
       "left": null,
       "margin": null,
       "max_height": null,
       "max_width": null,
       "min_height": null,
       "min_width": null,
       "object_fit": null,
       "object_position": null,
       "order": null,
       "overflow": null,
       "overflow_x": null,
       "overflow_y": null,
       "padding": null,
       "right": null,
       "top": null,
       "visibility": null,
       "width": "450px"
      }
     },
     "e2a47d87fb674ae7a3b25dcb10b53783": {
      "model_module": "@jupyter-widgets/base",
      "model_module_version": "1.2.0",
      "model_name": "LayoutModel",
      "state": {
       "_model_module": "@jupyter-widgets/base",
       "_model_module_version": "1.2.0",
       "_model_name": "LayoutModel",
       "_view_count": null,
       "_view_module": "@jupyter-widgets/base",
       "_view_module_version": "1.2.0",
       "_view_name": "LayoutView",
       "align_content": null,
       "align_items": null,
       "align_self": null,
       "border": null,
       "bottom": null,
       "display": null,
       "flex": null,
       "flex_flow": null,
       "grid_area": null,
       "grid_auto_columns": null,
       "grid_auto_flow": null,
       "grid_auto_rows": null,
       "grid_column": null,
       "grid_gap": null,
       "grid_row": null,
       "grid_template_areas": null,
       "grid_template_columns": null,
       "grid_template_rows": null,
       "height": null,
       "justify_content": null,
       "justify_items": null,
       "left": null,
       "margin": null,
       "max_height": null,
       "max_width": null,
       "min_height": null,
       "min_width": null,
       "object_fit": null,
       "object_position": null,
       "order": null,
       "overflow": null,
       "overflow_x": null,
       "overflow_y": null,
       "padding": null,
       "right": null,
       "top": null,
       "visibility": null,
       "width": null
      }
     },
     "e2c1ba68c38f4bc78274366ff2436995": {
      "model_module": "@jupyter-widgets/controls",
      "model_module_version": "1.5.0",
      "model_name": "FloatSliderModel",
      "state": {
       "_dom_classes": [],
       "_model_module": "@jupyter-widgets/controls",
       "_model_module_version": "1.5.0",
       "_model_name": "FloatSliderModel",
       "_view_count": null,
       "_view_module": "@jupyter-widgets/controls",
       "_view_module_version": "1.5.0",
       "_view_name": "FloatSliderView",
       "continuous_update": true,
       "description": "pwc_ee",
       "description_tooltip": null,
       "disabled": false,
       "layout": "IPY_MODEL_bc59f7d2f97445bd9f144cbc30db59a5",
       "max": 0.99,
       "min": 0.05,
       "orientation": "horizontal",
       "readout": true,
       "readout_format": ".2f",
       "step": 0.01,
       "style": "IPY_MODEL_4600439e2afe4fe597f10b5c95c98b19",
       "value": 0.3
      }
     },
     "ea8bba7ca5ec46f9883b8c010f2b5fad": {
      "model_module": "@jupyter-widgets/controls",
      "model_module_version": "1.5.0",
      "model_name": "SliderStyleModel",
      "state": {
       "_model_module": "@jupyter-widgets/controls",
       "_model_module_version": "1.5.0",
       "_model_name": "SliderStyleModel",
       "_view_count": null,
       "_view_module": "@jupyter-widgets/base",
       "_view_module_version": "1.2.0",
       "_view_name": "StyleView",
       "description_width": "",
       "handle_color": null
      }
     }
    },
    "version_major": 2,
    "version_minor": 0
   }
  }
 },
 "nbformat": 4,
 "nbformat_minor": 0
}
