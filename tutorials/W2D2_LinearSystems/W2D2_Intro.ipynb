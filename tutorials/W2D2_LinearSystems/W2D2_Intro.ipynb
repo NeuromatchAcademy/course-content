{
  "cells": [
    {
      "cell_type": "markdown",
      "metadata": {
        "id": "view-in-github",
        "colab_type": "text"
      },
      "source": [
        "<a href=\"https://colab.research.google.com/github/NeuromatchAcademy/course-content/blob/update-links-w2h/tutorials/W2D2_LinearSystems/W2D2_Intro.ipynb\" target=\"_parent\"><img src=\"https://colab.research.google.com/assets/colab-badge.svg\" alt=\"Open In Colab\"/></a>"
      ]
    },
    {
      "cell_type": "markdown",
      "metadata": {
        "execution": {},
        "pycharm": {
          "name": "#%% md\n"
        },
        "id": "NIYaJ6Bs4di9"
      },
      "source": [
        "# Intro"
      ]
    },
    {
      "cell_type": "markdown",
      "metadata": {
        "execution": {},
        "id": "4ZlpQePL4djD"
      },
      "source": [
        "**Our 2021 Sponsors, including Presenting Sponsor Facebook Reality Labs**\n",
        "\n",
        "<p align='center'><img src='https://github.com/NeuromatchAcademy/widgets/blob/master/sponsors.png?raw=True'/></p>"
      ]
    },
    {
      "cell_type": "markdown",
      "metadata": {
        "execution": {},
        "pycharm": {
          "name": "#%% md\n"
        },
        "id": "CiQBusyP4djE"
      },
      "source": [
        "## Overview\n",
        "Today, we'll be discussing linear systems."
      ]
    },
    {
      "cell_type": "markdown",
      "metadata": {
        "execution": {},
        "pycharm": {
          "name": "#%% md\n"
        },
        "id": "sFyZNobf4djF"
      },
      "source": [
        "## Video"
      ]
    },
    {
      "cell_type": "code",
      "execution_count": 1,
      "metadata": {
        "cellView": "form",
        "execution": {},
        "pycharm": {
          "name": "#%%\n"
        },
        "id": "j5jzcNgy4djF",
        "outputId": "4f65e8b0-f737-4366-f4c6-f450a7a95280",
        "colab": {
          "base_uri": "https://localhost:8080/",
          "height": 582,
          "referenced_widgets": [
            "4e05fa742002416a8ae9a8ffc7bcbd38",
            "33d06dc1407f43808d6c0bb8a4608f1f",
            "661ff950bb964458ad36b767157ed8dd",
            "2fa101b1842943d7989e6f33b9e67c65",
            "098795e1eb704cabac9ac34770b2353b",
            "a26915f663ee47b8bec6c7244efc362f"
          ]
        }
      },
      "outputs": [
        {
          "output_type": "display_data",
          "data": {
            "text/plain": [
              "Tab(children=(Output(), Output()), _titles={'0': 'Youtube', '1': 'Bilibili'})"
            ],
            "application/vnd.jupyter.widget-view+json": {
              "version_major": 2,
              "version_minor": 0,
              "model_id": "4e05fa742002416a8ae9a8ffc7bcbd38"
            }
          },
          "metadata": {}
        }
      ],
      "source": [
        "# @markdown\n",
        "from ipywidgets import widgets\n",
        "\n",
        "out2 = widgets.Output()\n",
        "with out2:\n",
        "  from IPython.display import IFrame\n",
        "  class BiliVideo(IFrame):\n",
        "    def __init__(self, id, page=1, width=400, height=300, **kwargs):\n",
        "      self.id=id\n",
        "      src = \"https://player.bilibili.com/player.html?bvid={0}&page={1}\".format(id, page)\n",
        "      super(BiliVideo, self).__init__(src, width, height, **kwargs)\n",
        "\n",
        "  video = BiliVideo(id=\"BV1Ra4y1h71r\", width=854, height=480, fs=1)\n",
        "  print(\"Video available at https://www.bilibili.com/video/{0}\".format(video.id))\n",
        "  display(video)\n",
        "\n",
        "out1 = widgets.Output()\n",
        "with out1:\n",
        "  from IPython.display import YouTubeVideo\n",
        "  video = YouTubeVideo(id=\"8NsLc0KoeYg\", width=854, height=480, fs=1, rel=0)\n",
        "  print(\"Video available at https://youtube.com/watch?v=\" + video.id)\n",
        "  display(video)\n",
        "\n",
        "out = widgets.Tab([out1, out2])\n",
        "out.set_title(0, 'Youtube')\n",
        "out.set_title(1, 'Bilibili')\n",
        "\n",
        "display(out)"
      ]
    },
    {
      "cell_type": "markdown",
      "metadata": {
        "execution": {},
        "pycharm": {
          "name": "#%% md\n"
        },
        "id": "Nm7-OYPi4djH"
      },
      "source": [
        "## Slides"
      ]
    },
    {
      "cell_type": "code",
      "execution_count": 2,
      "metadata": {
        "cellView": "form",
        "execution": {},
        "pycharm": {
          "name": "#%%\n"
        },
        "id": "1WqoV-lH4djH",
        "outputId": "51ce187d-94ed-4e77-f575-100ca552bfc7",
        "colab": {
          "base_uri": "https://localhost:8080/",
          "height": 503
        }
      },
      "outputs": [
        {
          "output_type": "execute_result",
          "data": {
            "text/plain": [
              "<IPython.lib.display.IFrame at 0x7f659d1d1ad0>"
            ],
            "text/html": [
              "\n",
              "        <iframe\n",
              "            width=\"854\"\n",
              "            height=\"480\"\n",
              "            src=\"https://mfr.ca-1.osf.io/render?url=https://osf.io/vx5ny/?direct%26mode=render%26action=download%26mode=render\"\n",
              "            frameborder=\"0\"\n",
              "            allowfullscreen\n",
              "        ></iframe>\n",
              "        "
            ]
          },
          "metadata": {},
          "execution_count": 2
        }
      ],
      "source": [
        "# @markdown\n",
        "from IPython.display import IFrame\n",
        "IFrame(src=f\"https://mfr.ca-1.osf.io/render?url=https://osf.io/vx5ny/?direct%26mode=render%26action=download%26mode=render\", width=854, height=480)"
      ]
    }
  ],
  "metadata": {
    "colab": {
      "collapsed_sections": [],
      "name": "W2D2_Intro",
      "provenance": [],
      "toc_visible": true,
      "include_colab_link": true
    },
    "kernel": {
      "display_name": "Python 3",
      "language": "python",
      "name": "python3"
    },
    "kernelspec": {
      "display_name": "Python 3",
      "language": "python",
      "name": "python3"
    },
    "language_info": {
      "codemirror_mode": {
        "name": "ipython",
        "version": 3
      },
      "file_extension": ".py",
      "mimetype": "text/x-python",
      "name": "python",
      "nbconvert_exporter": "python",
      "pygments_lexer": "ipython3",
      "version": "3.7.12"
    },
    "widgets": {
      "application/vnd.jupyter.widget-state+json": {
        "4e05fa742002416a8ae9a8ffc7bcbd38": {
          "model_module": "@jupyter-widgets/controls",
          "model_name": "TabModel",
          "model_module_version": "1.5.0",
          "state": {
            "_dom_classes": [],
            "_model_module": "@jupyter-widgets/controls",
            "_model_module_version": "1.5.0",
            "_model_name": "TabModel",
            "_titles": {
              "0": "Youtube",
              "1": "Bilibili"
            },
            "_view_count": null,
            "_view_module": "@jupyter-widgets/controls",
            "_view_module_version": "1.5.0",
            "_view_name": "TabView",
            "box_style": "",
            "children": [
              "IPY_MODEL_33d06dc1407f43808d6c0bb8a4608f1f",
              "IPY_MODEL_661ff950bb964458ad36b767157ed8dd"
            ],
            "layout": "IPY_MODEL_2fa101b1842943d7989e6f33b9e67c65",
            "selected_index": 0
          }
        },
        "33d06dc1407f43808d6c0bb8a4608f1f": {
          "model_module": "@jupyter-widgets/output",
          "model_name": "OutputModel",
          "model_module_version": "1.0.0",
          "state": {
            "_dom_classes": [],
            "_model_module": "@jupyter-widgets/output",
            "_model_module_version": "1.0.0",
            "_model_name": "OutputModel",
            "_view_count": null,
            "_view_module": "@jupyter-widgets/output",
            "_view_module_version": "1.0.0",
            "_view_name": "OutputView",
            "layout": "IPY_MODEL_098795e1eb704cabac9ac34770b2353b",
            "msg_id": "",
            "outputs": [
              {
                "output_type": "stream",
                "name": "stdout",
                "text": [
                  "Video available at https://youtube.com/watch?v=8NsLc0KoeYg\n"
                ]
              },
              {
                "output_type": "display_data",
                "data": {
                  "text/plain": "<IPython.lib.display.YouTubeVideo at 0x7f659d1d1e50>",
                  "text/html": "\n        <iframe\n            width=\"854\"\n            height=\"480\"\n            src=\"https://www.youtube.com/embed/8NsLc0KoeYg?fs=1&rel=0\"\n            frameborder=\"0\"\n            allowfullscreen\n        ></iframe>\n        ",
                  "image/jpeg": "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\n"
                },
                "metadata": {}
              }
            ]
          }
        },
        "661ff950bb964458ad36b767157ed8dd": {
          "model_module": "@jupyter-widgets/output",
          "model_name": "OutputModel",
          "model_module_version": "1.0.0",
          "state": {
            "_dom_classes": [],
            "_model_module": "@jupyter-widgets/output",
            "_model_module_version": "1.0.0",
            "_model_name": "OutputModel",
            "_view_count": null,
            "_view_module": "@jupyter-widgets/output",
            "_view_module_version": "1.0.0",
            "_view_name": "OutputView",
            "layout": "IPY_MODEL_a26915f663ee47b8bec6c7244efc362f",
            "msg_id": "",
            "outputs": [
              {
                "output_type": "stream",
                "name": "stdout",
                "text": [
                  "Video available at https://www.bilibili.com/video/BV1Ra4y1h71r\n"
                ]
              },
              {
                "output_type": "display_data",
                "data": {
                  "text/plain": "<__main__.BiliVideo at 0x7f65a8d886d0>",
                  "text/html": "\n        <iframe\n            width=\"854\"\n            height=\"480\"\n            src=\"https://player.bilibili.com/player.html?bvid=BV1Ra4y1h71r&page=1?fs=1\"\n            frameborder=\"0\"\n            allowfullscreen\n        ></iframe>\n        "
                },
                "metadata": {}
              }
            ]
          }
        },
        "2fa101b1842943d7989e6f33b9e67c65": {
          "model_module": "@jupyter-widgets/base",
          "model_name": "LayoutModel",
          "model_module_version": "1.2.0",
          "state": {
            "_model_module": "@jupyter-widgets/base",
            "_model_module_version": "1.2.0",
            "_model_name": "LayoutModel",
            "_view_count": null,
            "_view_module": "@jupyter-widgets/base",
            "_view_module_version": "1.2.0",
            "_view_name": "LayoutView",
            "align_content": null,
            "align_items": null,
            "align_self": null,
            "border": null,
            "bottom": null,
            "display": null,
            "flex": null,
            "flex_flow": null,
            "grid_area": null,
            "grid_auto_columns": null,
            "grid_auto_flow": null,
            "grid_auto_rows": null,
            "grid_column": null,
            "grid_gap": null,
            "grid_row": null,
            "grid_template_areas": null,
            "grid_template_columns": null,
            "grid_template_rows": null,
            "height": null,
            "justify_content": null,
            "justify_items": null,
            "left": null,
            "margin": null,
            "max_height": null,
            "max_width": null,
            "min_height": null,
            "min_width": null,
            "object_fit": null,
            "object_position": null,
            "order": null,
            "overflow": null,
            "overflow_x": null,
            "overflow_y": null,
            "padding": null,
            "right": null,
            "top": null,
            "visibility": null,
            "width": null
          }
        },
        "098795e1eb704cabac9ac34770b2353b": {
          "model_module": "@jupyter-widgets/base",
          "model_name": "LayoutModel",
          "model_module_version": "1.2.0",
          "state": {
            "_model_module": "@jupyter-widgets/base",
            "_model_module_version": "1.2.0",
            "_model_name": "LayoutModel",
            "_view_count": null,
            "_view_module": "@jupyter-widgets/base",
            "_view_module_version": "1.2.0",
            "_view_name": "LayoutView",
            "align_content": null,
            "align_items": null,
            "align_self": null,
            "border": null,
            "bottom": null,
            "display": null,
            "flex": null,
            "flex_flow": null,
            "grid_area": null,
            "grid_auto_columns": null,
            "grid_auto_flow": null,
            "grid_auto_rows": null,
            "grid_column": null,
            "grid_gap": null,
            "grid_row": null,
            "grid_template_areas": null,
            "grid_template_columns": null,
            "grid_template_rows": null,
            "height": null,
            "justify_content": null,
            "justify_items": null,
            "left": null,
            "margin": null,
            "max_height": null,
            "max_width": null,
            "min_height": null,
            "min_width": null,
            "object_fit": null,
            "object_position": null,
            "order": null,
            "overflow": null,
            "overflow_x": null,
            "overflow_y": null,
            "padding": null,
            "right": null,
            "top": null,
            "visibility": null,
            "width": null
          }
        },
        "a26915f663ee47b8bec6c7244efc362f": {
          "model_module": "@jupyter-widgets/base",
          "model_name": "LayoutModel",
          "model_module_version": "1.2.0",
          "state": {
            "_model_module": "@jupyter-widgets/base",
            "_model_module_version": "1.2.0",
            "_model_name": "LayoutModel",
            "_view_count": null,
            "_view_module": "@jupyter-widgets/base",
            "_view_module_version": "1.2.0",
            "_view_name": "LayoutView",
            "align_content": null,
            "align_items": null,
            "align_self": null,
            "border": null,
            "bottom": null,
            "display": null,
            "flex": null,
            "flex_flow": null,
            "grid_area": null,
            "grid_auto_columns": null,
            "grid_auto_flow": null,
            "grid_auto_rows": null,
            "grid_column": null,
            "grid_gap": null,
            "grid_row": null,
            "grid_template_areas": null,
            "grid_template_columns": null,
            "grid_template_rows": null,
            "height": null,
            "justify_content": null,
            "justify_items": null,
            "left": null,
            "margin": null,
            "max_height": null,
            "max_width": null,
            "min_height": null,
            "min_width": null,
            "object_fit": null,
            "object_position": null,
            "order": null,
            "overflow": null,
            "overflow_x": null,
            "overflow_y": null,
            "padding": null,
            "right": null,
            "top": null,
            "visibility": null,
            "width": null
          }
        }
      }
    }
  },
  "nbformat": 4,
  "nbformat_minor": 0
}