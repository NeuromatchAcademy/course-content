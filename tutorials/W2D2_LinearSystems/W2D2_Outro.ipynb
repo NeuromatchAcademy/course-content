{
  "cells": [
    {
      "cell_type": "markdown",
      "metadata": {
        "id": "view-in-github",
        "colab_type": "text"
      },
      "source": [
        "<a href=\"https://colab.research.google.com/github/NeuromatchAcademy/course-content/blob/updates-w2/tutorials/W2D2_LinearSystems/W2D2_Outro.ipynb\" target=\"_parent\"><img src=\"https://colab.research.google.com/assets/colab-badge.svg\" alt=\"Open In Colab\"/></a>"
      ]
    },
    {
      "cell_type": "markdown",
      "metadata": {
        "execution": {},
        "pycharm": {
          "name": "#%% md\n"
        },
        "id": "CYrr9meT4dx7"
      },
      "source": [
        "# Outro\n"
      ]
    },
    {
      "cell_type": "markdown",
      "metadata": {
        "execution": {},
        "id": "p0mKnEjX4dx-"
      },
      "source": [
        "**Our 2021 Sponsors, including Presenting Sponsor Facebook Reality Labs**\n",
        "\n",
        "<p align='center'><img src='https://github.com/NeuromatchAcademy/widgets/blob/master/sponsors.png?raw=True'/></p>"
      ]
    },
    {
      "cell_type": "markdown",
      "metadata": {
        "execution": {},
        "pycharm": {
          "name": "#%% md\n"
        },
        "id": "wOzzYBQ14dx_"
      },
      "source": [
        "## Video"
      ]
    },
    {
      "cell_type": "code",
      "execution_count": 1,
      "metadata": {
        "cellView": "form",
        "execution": {},
        "pycharm": {
          "name": "#%%\n"
        },
        "id": "DFYTe3vm4dx_",
        "colab": {
          "base_uri": "https://localhost:8080/",
          "height": 582,
          "referenced_widgets": [
            "33be32b7d97649f682243d9377cd745d",
            "aac3b01b8d5c458faa42a04a2c9f5948",
            "fd139a16d1824eb9990b892c7a2eabe3",
            "a7ea99f24cca4f78812cb88d60264cde",
            "f8c83048a8aa4c33b10f7c7f6f32b34c",
            "a266ea8441954c71b6f3c6c57f5c3786"
          ]
        },
        "outputId": "e052ea6c-b8b4-468c-f366-5f1d35cdcef9"
      },
      "outputs": [
        {
          "output_type": "display_data",
          "data": {
            "text/plain": [
              "Tab(children=(Output(), Output()), _titles={'0': 'Youtube', '1': 'Bilibili'})"
            ],
            "application/vnd.jupyter.widget-view+json": {
              "version_major": 2,
              "version_minor": 0,
              "model_id": "33be32b7d97649f682243d9377cd745d"
            }
          },
          "metadata": {}
        }
      ],
      "source": [
        "# @markdown\n",
        "from ipywidgets import widgets\n",
        "\n",
        "out2 = widgets.Output()\n",
        "with out2:\n",
        "  from IPython.display import IFrame\n",
        "  class BiliVideo(IFrame):\n",
        "    def __init__(self, id, page=1, width=400, height=300, **kwargs):\n",
        "      self.id=id\n",
        "      src = \"https://player.bilibili.com/player.html?bvid={0}&page={1}\".format(id, page)\n",
        "      super(BiliVideo, self).__init__(src, width, height, **kwargs)\n",
        "\n",
        "  video = BiliVideo(id=f\"BV1hz4y1D7us\", width=854, height=480, fs=1)\n",
        "  print(\"Video available at https://www.bilibili.com/video/{0}\".format(video.id))\n",
        "  display(video)\n",
        "\n",
        "out1 = widgets.Output()\n",
        "with out1:\n",
        "  from IPython.display import YouTubeVideo\n",
        "  video = YouTubeVideo(id=f\"r8Jj81r7vK8\", width=854, height=480, fs=1, rel=0)\n",
        "  print(\"Video available at https://youtube.com/watch?v=\" + video.id)\n",
        "  display(video)\n",
        "\n",
        "out = widgets.Tab([out1, out2])\n",
        "out.set_title(0, 'Youtube')\n",
        "out.set_title(1, 'Bilibili')\n",
        "\n",
        "display(out)"
      ]
    },
    {
      "cell_type": "markdown",
      "metadata": {
        "execution": {},
        "id": "suo_TUYh4dyB"
      },
      "source": [
        "## Daily survey\n",
        "\n",
        "Don't forget to complete your reflections and content check in the daily survey! Please be patient after logging in as there is a small delay before you will be redirected to the survey.\n",
        "\n",
        "<a href=\"https://portal.neuromatchacademy.org/api/redirect/to/ea8ab97d-c348-4ef6-bf59-e8811e8f5e0d\"><img src=\"https://github.com/NeuromatchAcademy/course-content/blob/master/tutorials/static/button.png?raw=1\" alt=\"button link to survey\" style=\"width:410px\"></a>"
      ]
    },
    {
      "cell_type": "markdown",
      "metadata": {
        "execution": {},
        "pycharm": {
          "name": "#%% md\n"
        },
        "id": "MCIHhkWo4dyB"
      },
      "source": [
        "## Slides"
      ]
    },
    {
      "cell_type": "code",
      "execution_count": 2,
      "metadata": {
        "cellView": "form",
        "execution": {},
        "pycharm": {
          "name": "#%%\n"
        },
        "id": "e23KRgVO4dyC",
        "colab": {
          "base_uri": "https://localhost:8080/",
          "height": 503
        },
        "outputId": "c5602eb9-12fd-4047-8677-aa8a12ce3df2"
      },
      "outputs": [
        {
          "output_type": "execute_result",
          "data": {
            "text/plain": [
              "<IPython.lib.display.IFrame at 0x7f5c6c774790>"
            ],
            "text/html": [
              "\n",
              "        <iframe\n",
              "            width=\"854\"\n",
              "            height=\"480\"\n",
              "            src=\"https://mfr.ca-1.osf.io/render?url=https://osf.io/dx6je/?direct%26mode=render%26action=download%26mode=render\"\n",
              "            frameborder=\"0\"\n",
              "            allowfullscreen\n",
              "        ></iframe>\n",
              "        "
            ]
          },
          "metadata": {},
          "execution_count": 2
        }
      ],
      "source": [
        "# @markdown\n",
        "from IPython.display import IFrame\n",
        "IFrame(src=f\"https://mfr.ca-1.osf.io/render?url=https://osf.io/dx6je/?direct%26mode=render%26action=download%26mode=render\", width=854, height=480)"
      ]
    }
  ],
  "metadata": {
    "colab": {
      "collapsed_sections": [],
      "name": "W2D2_Outro",
      "provenance": [],
      "toc_visible": true,
      "include_colab_link": true
    },
    "kernel": {
      "display_name": "Python 3",
      "language": "python",
      "name": "python3"
    },
    "kernelspec": {
      "display_name": "Python 3",
      "language": "python",
      "name": "python3"
    },
    "language_info": {
      "codemirror_mode": {
        "name": "ipython",
        "version": 3
      },
      "file_extension": ".py",
      "mimetype": "text/x-python",
      "name": "python",
      "nbconvert_exporter": "python",
      "pygments_lexer": "ipython3",
      "version": "3.7.12"
    },
    "widgets": {
      "application/vnd.jupyter.widget-state+json": {
        "33be32b7d97649f682243d9377cd745d": {
          "model_module": "@jupyter-widgets/controls",
          "model_name": "TabModel",
          "model_module_version": "1.5.0",
          "state": {
            "_dom_classes": [],
            "_model_module": "@jupyter-widgets/controls",
            "_model_module_version": "1.5.0",
            "_model_name": "TabModel",
            "_titles": {
              "0": "Youtube",
              "1": "Bilibili"
            },
            "_view_count": null,
            "_view_module": "@jupyter-widgets/controls",
            "_view_module_version": "1.5.0",
            "_view_name": "TabView",
            "box_style": "",
            "children": [
              "IPY_MODEL_aac3b01b8d5c458faa42a04a2c9f5948",
              "IPY_MODEL_fd139a16d1824eb9990b892c7a2eabe3"
            ],
            "layout": "IPY_MODEL_a7ea99f24cca4f78812cb88d60264cde",
            "selected_index": 0
          }
        },
        "aac3b01b8d5c458faa42a04a2c9f5948": {
          "model_module": "@jupyter-widgets/output",
          "model_name": "OutputModel",
          "model_module_version": "1.0.0",
          "state": {
            "_dom_classes": [],
            "_model_module": "@jupyter-widgets/output",
            "_model_module_version": "1.0.0",
            "_model_name": "OutputModel",
            "_view_count": null,
            "_view_module": "@jupyter-widgets/output",
            "_view_module_version": "1.0.0",
            "_view_name": "OutputView",
            "layout": "IPY_MODEL_f8c83048a8aa4c33b10f7c7f6f32b34c",
            "msg_id": "",
            "outputs": [
              {
                "output_type": "stream",
                "name": "stdout",
                "text": [
                  "Video available at https://youtube.com/watch?v=r8Jj81r7vK8\n"
                ]
              },
              {
                "output_type": "display_data",
                "data": {
                  "text/plain": "<IPython.lib.display.YouTubeVideo at 0x7f5c6c774f50>",
                  "text/html": "\n        <iframe\n            width=\"854\"\n            height=\"480\"\n            src=\"https://www.youtube.com/embed/r8Jj81r7vK8?fs=1&rel=0\"\n            frameborder=\"0\"\n            allowfullscreen\n        ></iframe>\n        ",
                  "image/jpeg": "/9j/4AAQSkZJRgABAQAAAQABAAD/2wCEAAUDBAkICAgICAgICAgICgoKCAgICggKCAoICAoICggKCAoKChALCAgOCggIDRUNDhERExMTCAsWGBYSGBASExIBBQUFCAcIDwkJDxIPDw4SEhISEhISEhISEhISEhISEhISEhISEhISEhISEhISEhISEhISEhISEhISEhISEhISEv/AABEIAWgB4AMBIgACEQEDEQH/xAAdAAEAAwADAQEBAAAAAAAAAAAABQYHAwQIAgEJ/8QAXBAAAgEDAgIECAcKCgYHCAMAAQIDAAQRBRIGIQcTMUEUFiJRUmGS0ggYMlVxgdQjNFRzkZOUpLLiCRUzQmJyobG00SQ2N3WCwTVjdHaz8PElQ1ODorXCwxdk4f/EABkBAQEBAQEBAAAAAAAAAAAAAAABAgMEBf/EACoRAQACAQQBAwMDBQAAAAAAAAABEQIDEiExQQQTYRRRoXGRwSIyUoGx/9oADAMBAAIRAxEAPwDxlSlKBSlKBSlKBSlKBSlKBSlKBSlKBSlKBSlKBSlKBSlKBSlKBSlKBSlKBSlKBSlKBSlKBSlKBSlKBSlKBSlKBSlKBSlKBSlKBSlKBSlKBSlKBSlKBSlKBSlKBSlKBSlKBSlKBSlKBSlKBSlKBSlKBSlKBSlKBSlKBSlKBSlKBSlKBSlKBSlKBSlKBSlKBSlKBSlKBSlKBSlKBSlKBSlKBSlKBSlKBSlKBSlKBSlKBSlKBSlKBSp/xUn9OH2n9ynipP6cPtP7lBAUqf8AFSf04faf3KeKk/pw+0/uUEBSp/xUn9OH2n9ynipP6cPtP7lBAUqf8VJ/Th9p/cp4qT+nD7T+5QQFKn/FSf04faf3KeKk/pw+0/uUEBSp/wAVJ/Th9p/cp4qT+nD7T+5QQFKn/FSf04faf3KeKk/pw+0/uUEBSp/xUn9OH2n9ynipP6cPtP7lBAUqf8VJ/Th9p/cp4qT+nD7T+5QQFKn/ABUn9OH2n9ynipP6cPtP7lBAUqf8VJ/Th9p/cp4qT+nD7T+5QQFKn/FSf04faf3KeKk/pw+0/uUEBSp/xUn9OH2n9ynipP6cPtP7lBAUqf8AFSf04faf3KeKk/pw+0/uUEBSp/xUn9OH2n9ynipP6cPtP7lBAUqf8VJ/Th9p/cp4qT+nD7T+5QQFKn/FSf04faf3KeKk/pw+0/uUEBSp/wAVJ/Th9p/cp4qT+nD7T+5QQFKn/FSf04faf3KeKk/pw+0/uUEBSp/xUn9OH2n9ynipP6cPtP7lBAUqf8VJ/Th9p/cp4qT+nD7T+5QQFKn/ABUn9OH2n9ynipP6cPtP7lBAUqf8VJ/Th9p/cp4qT+nD7T+5QQFKn/FSf04faf3KeKk/pw+0/uUEBSp/xUn9OH2n9ynipP6cPtP7lBAUqf8AFSf04faf3KeKk/pw+0/uUEBSp/xUn9OH2n9ynipP6cPtP7lBAUqf8VJ/Th9p/cp4qT+nD7T+5QQFKn/FSf04faf3KeKk/pw+0/uUEBSp/wAVJ/Th9p/cp4qT+nD7T+5QXOlKVpkpSlApSlApSlApSlApSlApSlApSlApSlApSlApSlApSlApSlApSlApSlApSlApSlApSlApSlApSlApSlApSlApSlApSlApSlApSlApSlApSlApSlApSlApSlApUNrmu+CyLH1W/cgbO/b2lhjG0+j/AG10PG4fg5/OfuVFpaKVV/G4fg5/OfuU8bh+Dn85+5QpaKVV/G4fg5/OfuU8bh+Dn85+5QpaKVV/G4fg5/OfuU8bh+Dn85+5QpaKVV/G4fg5/OfuU8bh+Dn85+5QpaKVV/G4fg5/OfuU8bh+Dn85+5QpaKVV/G4fg5/OfuU8bh+Dn85+5QpaKVV/G4fg5/OfuU8bh+Dn85+5QpaKVV/G4fg5/OfuU8bh+Dn85+5QpaKVV/G4fg5/OfuU8bh+Dn85+5QpaKVV/G4fg5/OfuU8bh+Dn85+5QpaKVV/G4fg5/OfuU8bh+Dn85+5QpaKVV/G4fg5/OfuU8bh+Dn85+5QpaKVV/G4fg5/OfuU8bh+Dn85+5QpaKVV/G4fg5/OfuU8bh+Dn85+5QpaKVV/G4fg5/OfuU8bh+Dn85+5QpaKVV/G4fg5/OfuU8bh+Dn85+5QpaKVXLPigSSRx9QRvdVz1mcbiBnGzn21Y6BSlKqFKUoFKUoFKUoFKUoFKUoFKUoFKUoFKUoFKUoFKUoFKUoKZxz98J+KX9uWoCp/jn74T8Uv7ctcnBXAuq62ZxpOnXV+bbZ1/gyb+r67f1W/zbuqkx/UNZaVylfrKQSDyI5EesdtflApVj4z4G1XRhbnVdOubAXW82xuE2daIer63Z59vXRZ/riq5QKUpQKUpQKUpQKUpQKUpQKVfOj/AKHeItfh8I0rSLi5t8kC4ZoLe3cqSrCKW5kjSUqykHYTgjBxX1x50NcR6Fbtd6po9zbWqFRJcK0E8EZdgidbJbyOsQZ2VQWIBZ1HaQCFBpSlApSlApSlApSlApSlApSlApSlApSlB29H++bf8bH+2taPWcaP982/42P9ta0erCSUpSqhSlKBSlKBSlfUaFjgAknlyBPP6qD5pXZbT5gMmJwCCQcdoUZYr6WBz5eY1wiFuXknys7fXjIOPyGor4pSlVClKUClKUClKUClKUClKUClKUFM45++E/FL+3LXqn+DN/lOJv6umf36nXlbjn74T8Uv7cteqf4M3+U4m/q6Z/fqdZaePb3+Vk/rt/ea4a5r3+Vk/rt/ea4aDcvhU3/F06aKOLrK1s1Rbv8Aiw2zWjdYpFj4Vv8AB7mXGAtrjdt+WcZ54z/hfow1nU9KvdbsbHr9M07rheXPhFnH1XgsKXE/3KWZZpNsMiN5CNnOBkgivSf8JJ/I8I/1NT/Z0epr4E2rxafwBxJfXEAuoLK9v7iW2O3EyW+m6fI0R3Arhgm3mCOfYeygwbgz4MnFWqWi3sWnx20Mih4RfTRwTSoeYKxHLxg9oMgTIII5HNZhxhwze6PeTafqVtJaXluQJYZNpIyAVZWUlJI2BBDqSpByCa0yLp74l1DiGy1CXVruEG8g22NtLLDpywmZfuHgytsljKkoTJuZh8otWn/wlFnGuq6HOFAllsp43fvZIJw0QP0GeX2qDzz0Z9HOrcSXD22j2Ul28QVp5MpHBCjkhTPNIyxx52uQudzdW+0Ng1cekb4OXE2hWj391Yxz2kK7riaymSfqEGMtNGMSiMDJLhSqhSSQK9RaRwBrFn0caVp3CaCHVNVjtrrUbrro7a4Vb6E3Fyyy+SeuH+jWox5QjXtyM18/BR6POL9Ev7yHiB/CNHvLZw0U16l4q3YePYyxs7FFeJrhX2jDZTdnauA8E2FpJcSxQQRvNNM6RwxRqWkklkYLGkajmzsxAAHaSK23QvgocXXUfWPY21nnmqXd3biRhgEeTC0hTzYfaeXZWd8c2zaDxNqMVgWhbR9WuBYuwWRk8Bu3No5EgYSYEcbeWCD35rRtN4T6SNfZdSjXiGUu3WRTz3jWSjOGVrVJ54lSLmCDEAvmoMz6S+jzVeHLpbTWLN7WWRS8Lbo5IZowcFoZY2ZHA5ZXO5dw3AZrn6N+jHWeI1vG0ax8MWwERuz19nB1YnExiP8ApEyb8i3m+TnGznjIz6m+HTa3J4N4Wn1SNRq8cttHen7mzJdTadI1+gaMlCpuIBnYSp6sYyAKjv4NhlEXFpddyBNMLLyOVA1jcMHkcjIoMJ0HoG4hu9FuNfFmlvpkFpLeiW6kWKSa1gjeV5LeHnIymNCyswVXDKVJBzVH4H06K71TTbS4bZBdXltBO4OCsM80ccjA9xCsxz6qunSh0469rtzcyPqF3ZWUyvDHpdnPLDZR2cgZDBJHGVW5BjYqzSA7gxGAuFGZ0Ht34c3GOt8PJo+naG8ukaI1sYxPp/3EmeI7EtFljUNapFAkbKsbLu61+3qxjzVrPTjxFfaTd6JqGpPf2N2sIcXaRyXCG3nhuEaO4wJSxeBAd7MMFuQJzW89DXwnNP1GxXQOObaO5gZUiGpSxCeCVUx1Z1GEgskysqkXEYPlbWIQqXMP8Ir4M1taWEvEfClwLrSliNzNZiUTiO0ALPcWNyGPhNqqeUVclgqs29+wBhkHRTrkmhtxHHp5k0ZQzNdxz2bFVSbwdy1usxuQFlBBzHyALHyfKqk16/8AgBcRQ6hZ69wffnrLe7gkuYYyTkw3CLa6jGrHkvJ7ZlUd5lbzmsS6O+iee84zi4XuVci3vpYr9gsiA2dizvcSKe2NJYY8I+cEzxYJ3DIV7i3ox1nSdOsdW1Cy8GsNR6s2UrT2bSSiaIzxnqEmaeMdUMkui7cqDgkA2ro3+DpxNr1ql9aWKQWcw3QXF7MkCzKexoozmVoyMEPsCsDyJq2fD042XUeI10uAjwTQYvB1C7dnhc4jkuym3sChbeEryw1q1b7078M6jxnw/ot/wXqgW1t4nJ02C5a1WcMkAji3IwjS7t2iaPqpioXrH8pCCGDxr0t9E2scLPbJrFvHEt51vgssU8MyS+D9T12Ajb029fF8tVzv5Zwcb18E34OsWpWF9qHEmkma3uoLSbQZBelBKsi3hnYpaXQdOfgnKYL28v51eeOkptehmj07iGTVOust5gt9TkuJDEsxVZGtutYjqXMCeVGSrdWCCa9S/wAHlrd3cWXE8M95dTQ2cGnrZxSzSvHbqyatuW2RmKwKerTkgHyF8woPNnSP0NcQcO2sd7rOm+B20sy28cnhVhNmd0lkVNlvcO48iGQ5Ix5PbkjPV6LuizWuJZHTSLF7hIiBPcOyRWsRbGBJNIQpfBzsXLkZIBqG1/jDVNQjWG/1TUb6FHEixXl3czxrIAyh1SWRlDhXcbgM4Y+evd3HPRprtpwVo3D3COLeciJ9WuorhbSWQmLrLrEjMJB11y4J2nISIRk7Tgh5J6UegDiPh22N7f2SyWSbRLd2cqTxRFzheuAxJEucDeyhcsozkgVnvC+hXOp3lvp9jF193dyCK3i3xx75G+Su+VlRPpYgV72+C10d8TaYmraZxSBd6PfW+2OKa7S8VZH3R3EQUsWSKWGVtw+T9yHeTnyj0GaZ4F0gaXZbi3gmsG33HtbweWSPJ9Z2ZoOnZdAfE8uqvoy6S4voYop7gdfaNbwQXBYRPPcpM0CFurkITdvbq3wpwa/OljoL4g4ZhW61KzQ2bFUN5aypNAkj52pLjEkROAAzKFJYAEnlW+fDn6X9T07Uv4h0qV9Njkhhur68tHaK8uXkyscfXJh4olSFAdpy3YTt8k2j4M/HtxN0d6xqWrg6y2iXN28KXzmVpRYQWWoWqyyyh2JS5kBVjkoI48fJAoPPXDHwXOLL+zF4unxWyuoeKC8nihupFIyv3I5MJPZtm6s+cAc6yTiXQ7rTbuewv7eS1u7VzHPBKMOjDBHqZCpVlZSVZWVgSCDWxdHXTVxHqXGOi3Nzq95tu9UsoZbOKV0sBa3NzFFLAlrkxCLqnK5ILZAYsXG6p7+ESgVOLLdlUAy6VbPIQObOLi/jBPnOyNB9Cigzjoq6DuIOJYjc6bYjwMMU8MuZEgt2deTLGXO+bByCY1YAggkHlX70t9B2u8L28d3qtvAtpLMtulxBcQyqbh0lkRCmRKCUglO7Zt8jtyQD6o0jSbji3o30ex4V1VLC909LaO+hSaS36ya2hkju7a5eHy4eslfwhSwKuQhOA29fJPSlY8TaWE0niFtViiDiaG2vbiWezaWJWTrbVuse3lZVnZS0THHWEGgpuj/fNv8AjY/21rR6zjR/vm3/ABsf7a1o9WEkpSlVClKUClK+4Ii7KqgksQAACTk9gGO00V3NG0a4u5Ort4XkbtOAQoHnZjyUfTitx6PeFYNPj+7iOSZgC+FV+fohyPk/RkdtQXCWimyt4VYkzzls4PyUAwyn0VGTn6/UKulnKihY0UM2Cd3aVUcxg9oPmHrrhlqxE1L1afp8pxuEvNqsIjMUdsA3PuXY3I5ypHLln8hHqNP4j0JJ0aSXTCpByHgGGPmZVB8rljlgVbOD7ISusjq/MEMX5HtB5jHM8q1C0aJIQCqFVGMEAgDlnt+irvsnSiPDx7fcFzStK1tDJKgO7cBhhnm25e0Hvx21VdS0ma3JEq7SP5p7f8u7sr07xVpSQ3j3tsSpkUK6RthXxzC47n7cHzjHfWf8WadFqO5Q6iZRujkPLvyy3AAyFwD58dua3hlcXDjqYbZqWKUrnv7cwyyRN8pGKnByMjzHvHr764K25FKUoFKUoFKUoFKUoFKUoKZxz98J+KX9uWvVP8Gb/KcTf1dM/v1OvK3HP3wn4pf25ak+jLpQ1rho3R0W+8CN4Ihc/cLOfeLfrep++YZNm3rpPk4zu55wMZactz0U8SM7kcNcQYLMR/7L1HsJOP8A3FQvEvB2q6Ysb6lpWpaekpKxPfWl1bK7KMssZmjUOwBzgVpPxo+NPn39Q0f7FVS6SulvXeJI4Ida1Dw2O2dngXweyg2O4Csc20EZbIAGGyKD0Z/CSfyPCP8AU1P9nR6fBi/2Wca/1tY/+z2Vea+knpP1niMWi6zfeGCwEotB1FnB1YuOpEv3vCm/Pg8Pys42csZOf3hjpP1nTNKvdEsb7qNM1HrvDLbqLOTrfCYUt5/uskLTR7oY0XyGXGMjByaCB4S/6Qsf+1W//ipXqb+Er+/9A/7Nd/8AiwV5KtLhopI5YztkiZXRsA4dCGU4IwcEDkatXSX0laxxJJby61e+Gvaq6QN1FpBsSQqzjFtDGGyVX5Weyg9eWb3XGfRtp0fD17PDrehpbRSwW9w8E8sunwtbSQyurjlPAROhJwzKgJGGx5jgsuOHm8HWPi8zZwYsayHB/pA81HrOMVUOA+NdT0K6F5pF9PY3GNrNEQUkTn5E8TgxXEeTnbIrAEA4yAa1S++FjxfJF1a6hbQt3zRWVp1p8/8AKRsg+pR6sUH38FHh9bjj+C114F7y0lvXkhu2WVpNUs1lyszMW62WORJZc5OWtwckdt2+FHZ8c6lxRdWNrBrb6dvjXTItPW5TTjbsiYkklixCZC5cu8zZQkjKqFA8zPxDeG/bVPCpl1F7hrs3iMUn8LeQytMrJjbIZGLZGOZrVNX+FDxfc2ngjaqItylJLm2t7aG8dSCD92SMGFued8QRgQMEUG8fDD4bvo+j/hi2khluLnTX06LUDDun6uWDTLiCd5HTOY+uUqZDyyy88sKgv4OH734v/Fab+xrNYbwf0+8R6VpkukWt8htJOux4RBDPLH4Uzvc9XJKpJ3vLI537vKdjyyar/Rv0nazw6t4ujX3ga34jF2Oos5usEAmEX3xC/V4FxN8jGd/POBgKdXf4c0mW/vLSwtwpuL24htoA5CoZrmRIogzHkq73XJ7q6FdrSNRmtLiC7tpDFcWssc8Eq43RzQuskTrkEEq6qeY7qC18VdE3EOlymG90PUomBxvSCSeBj/1c8AeGT/hY168+Cfa3vDnBGt3fEUc1lYBrie1tb4NHKIOoVJNsUmGjWebCJGQC7HIB6xS2F6P8Lni2CPZJcWN4w/8Ae3NnEJPV97mJDjs+T3d9UHpU6Ydd4m2rqt+8lvG2+OzhVILRW7AxijA61xzw8hdhuYAgEig6XQnxm3D+v6XqwJEdrcL4SACS1nNmK8UAHmxgkk2+Zgp54r+hfGGlabw5dcQ8fExPJNpVvGByAeWEuE2ybsN4URpUIAAwYM5O/l/M/QtMmvbq2srZOsuLuaK3gjyBvmuHWOJcnkMu6j669afDg13+JtC4d4LguGmaG2t5L2RmO97ewjFvZhx2FJJknkx/NNrHQeR9Vv5bqee6uJDLcXMsk08rY3PNMzPK7YGMs7MeXnrU9H0Pjjg+8Is7PXNOnLDcLaGS5s52Awu4RrLZ3uM8s78ZrI63DRfhV8X20fVtqUN0ByV7q0tWkUD+miIXPrfcaDbvhkSG84D0PUNdtIrPiBprbZEFxLHLPDI15EAcvDC0cayNGx8l44lJ3AZg/wCDbKuvFdvuUSzRadsUnmVA1VWbHbtUyx5/rivMnSL0garxDcLdaxfS3ssYKxBgiRRK2CwhhiVYos4XJVQTtGc4rrcC8Yajod4l/pN3LZXaKydbHsYNG+N0cscitHNESFOx1YZRTjKggPjifhHUtLZ01DTryzMcphZriGVI+uG47FkK7JCQjEbSQQCRkc69r9Is1/xtwNpWrcMXdyNV0/YL2zsbmSGZpFhSPULYhZF3TI4inRX5vHgqCZFB8r9LPTfrvFFtBZ6rcQPbW8onSKC3hizOqPGrswG8kJLINoIXy+YOBiudHnSBq3D073GjX81jJKAsoTq3ilC7tnXQyq0M23c2CynbubGMmgtNhYcczzC3ij4uaYsFKf8AtdSpJx90LYESg9rMQB3kV9fB6gmi450WO63+Ex6qqXHWNuk69HcTb2yd77w2Tk5OasGq/Cu4vnjEa6jb23pSW9naCRhgjBMsbhe3tUA8hzrJtG4nvbPUY9Wt7gpqMU5uUuWWORvCWYs0jJIrRuSzE4ZSOfZQbZ/CBf64t/2C0/8A3VfPg3/7KOM/x2qf/a9Nry/0gca6jr95/GGrXPhd2Y0i63qreH7nHu2LsgjROW488Z513+G+k3WdO0m90Ozvep0vUDK15a9RaP1rXEUcMx62SFpo90UMa+Q6425GCSaB0If6z8Of740z/G29bL/CL/612f8Aui2/xepV520PU5rK6tr21fqrm0miuLeTaj7J7d1kifa4KPtdFOGBBxzBFTXSNx5qfEV2l9rF14ZdRwrbpL1NtDiBHlkRNlvEiHDzSHJGfK7eQwFk0PhXi7QfA9V0+z1m0W8ghuba909ZZYZba4VJoBK9tvjKsrKxhl59zL2ivU/SDqF3q/RXdXvGFotvqUah7V5oRDcPcxzpFY3AgKg2s8wdkYKFBSSQgKj4Hm7gj4SnFOkW0Flb6hHLaW0SQ28FzbW0gihhUJGqOEWUqqKqgMxAAFVfpR6WNb4laP8Aje/e4ihYtDbIscNrGxBG5YolVWkAZgHfc2GIzg0FS0f75t/xsf7a1o9Zxo/3zb/jY/21rR6sJJSlKqFKUoFXHo0KobmbaGaNBgHsG48iPMeR59vd31Tqs/CMwitb6TyixMSKMjZz6wnI7W5qPyCs5dN4dtY0CLrA8jMTySOMYACgIjSBVHIeWxX/AOXVp0K1C5YgsTy5A/2kd9VPowbrLRmldY1RivWOwAL58ognv3A1cdM4mskPVLLFIR2hJAT5vor5WVzqTL72nMY6UR5WKwlCAYjbvzy5D+yutq2qOTsHJe4YI7vP5q6tzxjawIznC7ee48zj1Y5moSPpH0i4bbJebH71wc/2nArrlcxUOcTGM3Ls6uwkicMSOR5r2g9xHnOf76zW6uCJlbl5Y3bwoB3ZxICVxtbPn5eUKv8Aq0sNwjNaTJJGynayHnkelg8j2Vi93rZ8LkjZgE3DeOQkR08liuTjJwfpGPVXT0mVXE9vJ67G5jKOn10p6YqvFdBdrTIocqfIaSPyGOCMq+1VyMnsP01RqufFOsdfp0UZ8rZOwjYkk7NqnnknBB7uXbjuqmV7YfOKUpVQpSlApSlApSlApSlBTOOfvhPxS/ty1AVP8c/fCfil/blqArLRSlKBSlKBSlKBSlKBSlKBSrD0c8H3mvanaaTp6K9zdvtUudsUaKC0s0zAErFHGrOcAnC4AYkA+gOL+H+jzhCX+KdTttU4n1aEL4dLBM9tbwylQTGoiuYgjeUG6vMpXOGfIIoPL1K9M6t0P8P8UaLea1wK95Bd6cCb7QL5usmCAOw6k73cSOiOyHrJFk2FfIYMK8zUClKUHe0DWLmwuYryynktrqAkwzwsVlRipUlGHNTtZh9dc3FHEV7qlw13qN3cXtyyqpnuZGkk2IMIu5jyUDuHnPnqxdMfRnf8K30On6m1s1xPbJdL4LI8iCKSW4hUMzxp903W0hwARgrz7hSaBSlKBSlKBSlKBSlKBSlKBSlKBSlKDt6P982/42P9ta0es40f75t/xsf7a1o9WEkpSlVClKUCpfSLmXwe5hjK+VsYBtoJbJXAduS5Deeoiu5o0qpPGXOEY7XPcFfySx+jO7/hrGp/bNOmlW+IniLWe2tnn0+BLg3C7JpI5Uh8lRKzCQ7c5UgCVF3kY8liMjBMBb6VPDNvtYrq3w+wR3TRvG+N3lCRVV0Q4GGAYeWOWOY3fg/SrRdOSC+BJIJlkVirmXOGZGUhk5qDjJ7/AKuKx0jS2ufBdPiaeTAluZZ5GYiGJlYIrykkFn2DaO3n9NeGM4qX1/Znj4dXpK4cZ4bOO2EizGIlllIXcFALbcbsnPq/5kZXp3D0isAYNPfJcXJuJLjr0YE4EZMwwTy7AoHmr09rgjnjtirW6zQqNks7EqpX5YYKwJUjljI9RGKp9px7ZeEvFcWkRnhcqJF2vFIAcB4ywBwfpOOznTGYiZMtOcvurHBOiXNuhkWERgxq215G6rBZtmW2sx+Se3bnvxWZcSaBLcaxPFuCkSB3ZEB3g9yBy2AeYzntHdmvRt1qcVxmQHBYDCkj5K52gebBJ/KaoN5woL28uZ0do5iIuqxgBWiLMxfsyhAUeYYzXOM9uU1/pqdLdUT9+YUDpE0UWkduu0IUd0Kgsd6vHFIr5P8APGCrfSnKqbV66Z9S6y8itg/WLaRKGkxjfLKke5ufPBjSHFUWvfoXsi3y/VbfdnbFR1+0c/kpSldnmKUpQKUpQKUpQKUpQUzjn74T8Uv7ctQFT/HP3wn4pf25agKy0UpSgUpSgUpSgUpSgUpSg9U/wblhG+uavcNgywaescee5Z7iIyEev7ggz5mPnNeYtc1KW9urm8nbdPdzSzzNz8qWd2kkPMk82YmtO+Cj0lxcL8RQ3l2WFhdxNZ3zKGYxQzPG6ThF5t1csUTHALbOsCgkgG79NnwbNWk1KfUuGoI9Z0XU5Gu7SWyntm6pbkmTqiGkAkiDMwSSMupQJkg5FA/g8b6SPiueFWbqrjTbgSpk7T1ctq8bEZxuBBAPcJGHeatfwRtKgj6SeLLVYozb28WrxwxlVKKkOsWKR7QRgYUYHqrudCPCK9GmnajxPxO0MGq3Vu1rpekrLG9wwLLIysY2ZGklkit8lMiKNGLHLlVp3wCeIlbjS9mvZlFzqtheKjOQpmvJbqyu5FX+mUgnbH9E0GK9DChuJeHlYBlOraaCCAQQby3BBB5EVsXwneJ5eHuki51KwhtWmtIbfqobiLfbHwjTVgffGrLu8mZiOY5gGpPon+Dbqek6/Z3/ABDLb6Zpunajam1uOvt5JNRuxcoLCG0ijd3QTSrFnrArBXPLIbbT/h1f676l+Jsf8HBQbT8OPpc1DR9R/iS2t9OktNR0bM8tzbtJdL4ZLqNtJ1MokATEcalcg4Yk884qv/BtudLtOjPiG/1ixW/tLTWOsa2wuZ5Yl0F7KB3Knbbvd9Qr5BGx3yGGQex8OTo/1HXLqx4m0iFL/R49FDTXUEsOI4bZ729aZgzgvC1vcBgU3Z6thgHbmq9Hn+xriz/fMH/jcNUED4433SZxBw7ouoQ2NhaQz3Cwpp0ckTR2ciRTXaAySOpcQafhCFADMSQRgC8dMnT5c8KaxPw7wtp+lafpekmOBlNv1j3MwjR5zM28HaHcoTkuxRnZyXwuEfB+4wi0HibSNVuM+D205FwVDEpb3MUttPIFUFnKRzu+0DJ2Y762X4RnQLreq8QXWsaBax6vpesmO7trq0ubQxhpo06xXMkyjaXDOJBlCsieVkMAHB8JXh/T9Z4W0TjvTrGHT7i+k8H1a2tlVIGn3XMbzhBgbhc2si7sbnWeMtnbmvMteqfhJTw8NcE6DwObiK41VJfDNTWFg6wKz3Nw0bEYILT3ahMjJS2YkDcufK1ApSlApSlApSlApSlApSlB29H++bf8bH+2taPWcaP982/42P8AbWtHqwklKUqoUpSgUpSg1yDWpH0i2lQ7n6rY4GNzSRFo8E9xOwH6xVd0O+U71a8SG9fmY1k2y4HPAXO5k+rFRnA+oAdZZv8AJmIePPZ1qjDL9LKB9aDz1oNhokEkYkeIPIrEhsDdzGORx5sfkr52WOzKYfY0tT3MY5/VU0a7uZQlw7vChO4RrIzOMH5QVf6Pf5jXd4meCULFDBc9dGOTRxuBGAdoMj42IM9zHnzxnFWqwvZA/Vx2aEAjcGUMvLvZW3Ln1kVZntswuWjRN45hcYz9FMuHSYvz/wBUjhi5kVI43fe4xk+bz589TbcT2dpJK11C8jDaYiOxnALFPV8leZ5fkqFnxC+xOZHkL2ZxXS6UrAW9lbTgAyGTaWPpPG/P6sGuGnG7Ol1M9uE5eYhmer373VxPcynMk8jyN6i5JwPUBgD1AV1aUr674ZSlKqFKUoFKUoFKUoFKUoKZxz98J+KX9uWoCp/jn74T8Uv7ctQFZaKUpQKUpQKUpQKUpQKUpQKneHuMdV05DHp+q6lYxscslnd3VuhY8iSsUign11BUoO7rOrXN7KZ7y5uLudgAZrmWSaUgZwC8jFiOZ7++urBKyMrozI6EMjqSrKynKspHNWBAII81fFKCX1jijUbx4ZLzUb66ktzm3kubm4meI5U5haRyYjlVPk4+SPNXQv72W4kMtxLLPK2A0kzvJIQoAXLMSTgAD6q69KCXtOKNRhtXsYdRvorKQMslnHc3CWrrJnrA8KuI2DZOQRzyc10otSnWB7ZZ5ltpG3SW6yOIHcbCGeMHYzZjTmR/MXzCurSgVNaLxbqdjGYbLU9Qs4WJLRWt1cwxkntJSOQKSfoqFpQfc8rOzO7M7uSzuxLMzMcszE82YkkkmvilKBSlKBSlKBSlKBSlKBSlKDt6P982/wCNj/bWtHrONG++bf8AGx/trWj1YSSlKVUKUpQKUpQfqkgggkEcwRyII7CD3GtV6NuLw4aGdd0iLlsDk6Agb/U4JGR68jzDKal+DrsQ31uzHCM3Vv5tso2jPqDFT9VcdbG8b+zv6fPbnH2lup42t4sBQCe4es/V2VD8QcamRCEGC35B/mapPFEcqybVBVfSUcye/JqPsLVnfyydueYOf+deDLPdD6cY1K38KqZ7gSP5RHMebNaFfaKl6IrWflbSpcCcbQebx7IWXPyHSVkkVh3xDuqocJQiMjHI9w9XP/litA0qYscgHGML6wuf72LfVinp4/rY9Vlt06+7zXxbwnfaXLJHd28qxo+1boRv4LKCfIaKXGwhhg4zkZwQCCKg69r2N0DE8MwBjIwQ6q6MGIBV0byXQ55qeVZvxp0MafekyacTp87Z8hVL2TPy5GLJe2B88ZKj0DX1Xx7ecKVK8VcPXWl3T2d9CYZ0547UeM/JkhccpImwcMPMQcEECKopSlKBSlKBSlKBSlKD5aNTzKg/SAa+epT0F9kf5VyUqK4+pT0F9kf5U6lPQX2R/lXJSg1H4LXBmna3rstlqdol1bLp1xOse+aLE0dxYIj7oXR+STSjGceV2chj0/8AF14S+ZU/S9S+1VgHwIv9Z5/903f+L0uvatRWU/F14S+ZU/S9S+1U+Lrwl8yp+l6l9qrQdc4jsrGS0hvLy3tpb6UQWcc8io1xcMVVYoQx+6SFnQbRz8oV9cT8Q2Wl25utRu7eytgyoZ7mRIo97nCLucgFjz5eo+agzz4uvCXzKn6XqX2qnxdeEvmVP0vUvtVapFIGVWXmrAEHmORGRyPMcq4dTvorWCa5uJUht7eN5Z5pCFjjhiUvI7seSoqqSSe4GgzH4uvCXzKn6XqX2qnxdeEvmVP0vUvtVaXo+pQXkEV1azR3FtOoeGeJg0ckbdjIw5Mp84rt0GU/F14S+ZU/S9S+1U+Lrwl8yp+l6l9qq4zccWKa3Hw8Xk/jKWzN+qdW3VeCiR4txk+SG3xsNvb2VZaDKfi68JfMqfpepfaqfF14S+ZU/S9S+1Vq1KDKfi68JfMqfpepfaqfF14S+ZU/S9S+1Vq1KDKfi68JfMqfpepfaqfF14S+ZU/S9S+1VdOOeOdK0ONJdW1G1sElJEQncCSQpt39VGMyS7dy52g43DOMiuPgXj/SNcEp0jUrW/6nb1ywPmSMPu2GSNgHQNsbBI57TQU/4uvCXzKn6XqX2qnxdeEvmVP0vUvtVXHgjjex1iTUorJ5GfSbyWwvOsjZAt1bkrIqE/yiAj5Q5VZaDKfi68JfMqfpepfaqfF14S+ZU/S9S+1Vq1KDKfi68JfMqfpepfaqfF14S+ZU/S9S+1Vq1KDKfi68JfMqfpepfaqfF14S+ZU/S9S+1Vq1KDKfi68JfMqfpepfaqfF14S+ZU/S9S+1Vq1KDyR8LHoq0PQtJsbnStOS1nm1FIJJOuupd0DWl/KU2zzOo8uGI5Az5PbgnPmzqU9BfZH+Vex/h2/9BaZ/vaP/AAGqV48qo4+pT0F9kf5U6lPQX2R/lXJSg+BEo5hV/IK+6UqhSlKIUpSgUpWhdDXBkOoTNdXwZrK3YBYFzm5nxu6skeUIUG0sR27lGRzqKr/BfBOoau+LO3JiBw91LlLVMduZCPLYeggZvVWy8P8AR1p+jhp3Dale28ZkMkwVbVJBzUQwkHysgDc5Y88gLV5n1BxbhIOqtYk8hIY0UKijsChSFQDzDNQ96pitbiWRy6RqCDyG6R+49pJOK55ZcOuGPLOS4vLcTYUMSwkUH5EyEpIOXdkfkIqOgswDnAGPy12ejexnu471LZI3eO5leSNpFjkZZlhaN4y+EcbhODlgRtTkc8rHFwDfsd0721nEObHeZ5h6wkf3M/XIK8X02d1Ecfd9D6nDbczy4NATeyoveCWbzIO38pwPrq9WG4BRjAHYO7FRei6QkAKpuYE83fAdvNuA5DzY7ufbkmrBAvZyr06Olth4PUau+fiHYAd02x4Dk8g2eYQFiOXZzC/lrjuNUPkja6y/J3ldqg94XuLchzB7672nY6wZ5AK5yf6RQD9lq57exQzNKpJVhzTOULZUhsHvGOWK9DzOPWeELTV7FbXUw05GWiuAcXFuzAc7eTBx2DKnKtjmDisP40+D7qloGm0549VtxzCx4ivAvriY7JcD0Gye5e6vREMKoclsjtKbsHPeR3Z9RqWtpwAGjbyW85/84Na7S5h4EureSGR4po5IpYztkilVkkRvM6MAyN6iK469r9K3Allr9qUmCQ3qL/ol+qjrI37kkxzltyeRQ+fIwQDXjjiPRrjTrqeyu06u4t22yKDlT3qyNjy42BBDd4NRuJR9KUoFKUoFKUoFKUoFKUoNx+BF/rPP/um7/wAXpde1a8VfAi/1nn/3Td/4vS69q1lp56+F1exW2qcBXNxKkFvb64ks80rBY44YjbPI7seSqqqST6q+ujy0l471aPijUFKcNaZK68Maa4++rmF2jl1W9XsLLJGyxofklewbGab7+FbGr6z0fo6qyPr8aujAFWR3tVdWB5MpBIIPaDUBc9f0Yas0qiWfgTWJ8yIoeSTRL6XvVRlpLRsd3lFVx5Txr1waj8ITpSbhS30u68E8LjvdRhs51BfrUhkSV5JIEUfdpgIzhOWSQM10JOKtbfQ+I9R1/QbC0sYdMuLiy0ySfwieeKO3u3nt9VwOrUPGkIKqvISuDzGKr/wr7qOdeBp4ZElhm4n0mSKWNleOSKQSNG8bqSroykEEciCK0np5/wBVeJf9zan/AIK4oKlH0n2+kcBWvEo02OGFLK2kg0uzIjhR7qSOGCGNtuIoQ8q5bacKGwpOFMx0d6xxXcT20mr6doUOnXMRk36fd3Mt1Buj3wrIJE6qbLYUtGxHPIyOdVvo6bSD0daNFxC1uuk3OnWkFyboskGZiqxbpFIMDCXYVlypRlVgykA1nPB12vDXFmgaNwvxG2vaJrPXi60hrmC/TToYkEqTQTxMRBEVkd1UBcrbNuMm4EBJ9LnFMmk9JtlNb2Fxqd7Pw2Law0+22q9xdzX16UV5G8m2t1SOSR5myESN2PZV24J6VdZTiWDhriXSrKxn1C0ku9NuNPuJJon6kSNJBLvXypAkM5LArjql8khwwj9T/wBrVn/3Wb/HXVcHSX/tS4K/7Bqn+E1Ggk+Oumu+seJ5+GrHRG1S5axjnsFhl6tpLqV48rdO69Xa2iRdfI0p740X+dmu50ZdJ+rTcQ3PDPEWmWljfrZDULSewnaa1mtesWNlO/y1kDMwycZMMnIeSWg9A/2t6r/3YT/GabXJff7Wrb/usf8AHXFBceMtY4t8MuotG0fR/A7fZ1N3ql9MHvN0UcknUQW8RNvtkd4vurDJi3dhFc/QB0keNGktfSWhsbu2uprK+tdxkWO7thGzCNyo3IY5om7ORZly23Jxqy45t9X1ziVeJeK7rh620S+ktbDRrS+OkmW2g61PCZJoytzqLy7N3VxsdpIOCHjAmPgGX1v/ABZr9qk+Zk16+l6iZ28NFs8NgkUs8cv3YbmjdSzjO5HB5g0EZ04X6cPce2XEmuabLf8AD82mpYwXqwrcR6bedcWLsh+RIAXPcWS6lMe9o2St64Ck0W9RtX0UafKt8qrLe2KQq83VZKpcMihzJHvbyJPKXcQQK62v8daB4Vc6LqOo6alwEUXFhqLxRrLFcRhwoW5xHdIyNzC7h2g9hrCfg/Wtjb9IOuw8KTCbhxtOjlvltpDLpkWpPJF1KW0gJRjjryuGIAa4VfJTChG9C3GGp22r8a6XoOkjUtSm4k1K4mmupDb6ZZWnXyRpJdTAFpJpJEdUgTyiI5G7ENbP0DdJ9xrv8cWeqWUenatoN0LbUIYZDJblXEnVTRMwyqMYJxjLDEatu8rArHwTPv3jz/vTqP8A4j1FdBdmbjijpTt1bYZ7iyiD+iZYtWQN9RbP1UEradLfEOsQXurcNaJp9zodlJMkMmoXM8N/qa2ueuk0+JIikKFlZV605O3uOVW0XvS7FJwZJxdYQCVFtTOtrMxXEscvUzwyOozlJVkXcBg7ARyNee/g86DoS6dLpPEGuatw/rel3FxBe6dLrcmnW5Uu8yS2kRlELxGNyGKE5MbOfJdWbUePtG0jT+jTWrXh+5W70uO3uOonWdblC7XQM4SZfJkUSlxyyKDrXXTfxLcaMOItO4Ztv4ntrWK4u5L66aK4uAsaNftp8QAZbWF+tCyyZ6xY9yqc7a0XirphsNO4Vg4pmjlNvdW1vNbWmUE8k94itDbZ+SHBLbmGQFikYBsYNbvf9lQ/7nx//aErNOk7S7iXow4QvreFrhNFbSdSu4VyWNnb280crBQDkKZ0LE8lQSMThTQX/X+k3i7R7Ea3q/DemnSU6t7y0sL2Z9Ys7eVlDSyq8XUTtHuG5UPnJKKGZZ7i7phWx1DhTq4Y59C4o2xxamDKskNxOiNZq8ZXASUzwDytpULMT8mobp16X9An4R1M2mq2V7Lq1hNa2NpbzRyXsk99EYY1NsD10bIZlLhlBXbg4OAYrjHouurnoxs9LkR01fSrC2vrdeZmhv7NDM8KbTyn6p7i3BB5M4PPHMNF6YOkKXR7jQtPsraO81HXb9bWGGV3RY7VF3Xl22xSWSENESvLk5OeWDodeYfgz6zPxpr8vFt7CUh0bTrbS7BWx1f8ZzxCTV7iEBiEcGSRAeRMV3EDzUgenqDz58O3/oLTP97R/wCA1SvHlew/h2/9BaZ/vaP/AAGqV48qoUpSqhSlKBSlKBSlKAoJIAGSeQHnJ5Aflr09wlbR2dtb2MYwLZCrN2dZLn7vJjztIZO3zVh/RBpnhWrQZUMtsr3JU9hMAHVZ/wDmtEfqrbLomDweUnI3OkjDOCXY4Occxu3c/X66xm3i7mqSbYmxn+UH5D/6V88SxObCKFcAEvJcSHGFIB2pg82bIVcDs2tzFfF/OFjkZl3EMrIp+SSvZv8A+rzjPeRyHM1BPHNcuLVbhmt1USyxNjezzSyvJIDjPlux3YOBkYAzWG78u10K6ckN7OrbSs6B1buPUmQMe3kfug7++pLjHpP0qOOZIBLciBwJJI1AiJAyUR3kBYnyfKVSMA+eutxKTZWUk0fkGOCdFxyO2aJ4zzHZjcp/4RWNcK8OPdxHcNsIfce0bn2hQPoGCT9Vdc9SajGHPHGLuW68G8Q2OrRdZYzh2QAy2zjZdRZ5DrIj/Nzkb1yp7jVlhtvP/bXmq+4antJ0urOSSCWM/cpImZHGOXIjngjtHYQedaXwt0mzwIsesQSSLyHhtsiiQeYzxDCuP6SYPqNYjKEnGZ5hedbuOrKoO2Tq4wPpLOx/ISfqr60e6lECoG8tyxLeZSxxj/hxVf1bUIryaS4t5Gkh2IsDbWUmSZI4s7WAZcFn7u41J6rqaadaGXAL4CQp3lsYQf3VZlIjhMNfLbukKAz3TcypPJR6Tn/lXbtNbMk22Mb8jLdgUYwFIyRyPPn/AEapOiSGztpbu5Je6uB5WflFpf5NEHm25P0CpjR7c9RJd3bFUAz1aEpjGCqgpgmQnaORx3YqRMkwst3qzCUx9XhQud4OW3fR3CobpN4JtuIrIDKR38KE2l1yyCM5ilI5tbswII7V+UOwgxmn2p8qXrJY3OD5DHAJ54AfKkDOOzsUVKcK6kz4OcHcwcdmHGQxXzDcI3HqerGXJteRNQtJLeaWCdGjmhdo5Y2+UskZKup+gg864K2L4T+hLHd22pIADeK0VyBgZnt1Tq5PpaIhT+JHnrHa2FKUoFKUoFKUoFKUoNx+BF/rPP8A7pu/8Xpde1a8HfBZ4tsNE12W91O48Ftm064gWTq55czSXFg6Jthjd+aQynOMeT28xn0/8YThX53/AFPVPstRqGh6polpdvby3Vpa3MlpIJbSS4hile3mGMS27OpMMvkjykweQrl1bTYLyGS2u7eG6t5htlt7iNJYZFyDiSOQFHXIBwR3Cs3+MJwr87/qeqfZafGE4V+d/wBT1T7LUF48UtM6m1tv4s0/wewkWaxt/BbbqbWdCzJLax9Xst5QzMQ6AEFjz51KX9pFcRSwTxRzwTI0c0MyLJFJFIpWSOVGBWSNlJBUgggkGsz+MJwr87/qeqfZafGE4V+d/wBT1T7LQX9+HrFrMac1jZnTwgjFiYITZiIdkYtynVCMejtxXU4X4L0rS2kfTNK07T3mAEr2Vrb27uoOQrtEilkB5hTyFUv4wnCvzv8AqeqfZafGE4V+d/1PVPstBobaLaG7GoG0tjfrF1C3phiN2LfcX6kT7esEO5mbZnGSTilzolpLdQ30lpayXtsrJb3jwxNdQpIGEiwzFesiRgzAhSAQxz21nnxhOFfnf9T1T7LT4wnCvzv+p6p9loNCj0S0W7fUFs7Vb+SLqHvRDELtrcFWELzhesaHciHYTjKKccq/W0W0N2NQNpam/WLqBemGLwsW+4t1In29YIdxLbM4yScVnnxhOFfnf9T1T7LT4wnCvzv+p6p9loLpqPBmlXN4moXGladPfxbervZrW2e6Xq/5PbMyGQFe7ny7sV2NP4Y0+3vJ9QgsLKG/uhtub2K3hS6mUlSVmmVRJIpKISCTkovmFUP4wnCvzv8AqeqfZafGE4V+d/1PVPstBbeKOj/RtUk67UtH02+mwF6+6tbeWbavyV61kL7R5s4qU4d0Gz06AW2n2drY26ksILSGKCLc3ym2RqF3nHM9prPvjCcK/O/6nqn2WnxhOFfnf9T1T7LQaHpOi2lm1w1paW1q11K0901vDFE09xIcvNcGNQZpmPa7ZJ89fmm6HZ201zc21na29xesrXk8EMUc1y8e7q2uZEUNOy73wXJxvbzms9+MJwr87/qeqfZafGE4V+d/1PVPstBcuJuCNI1ORJdS0nTb+WMbUkvLS2nkVe3arSxlgmf5vZXcHDlgLI6cLCyGnlOrNgLeDwIx5zsNvs6rZnnt24qg/GE4V+d/1PVPstPjCcK/O/6nqn2Wg0U6Ram08ANrbmx6kW/gRii8E8FCdWIOo29X1HVjZ1eNu3ljFcunWENtDHbW8MUFvCgjighRI4Y41GFSONAFRAOQUDFZr8YThX53/U9U+y0+MJwr87/qeqfZaC2aX0e6Ja3Phttomk294GLC6gsrSOcO2dzLIkYZWOTkg5OTXb49kvk0y+OkxLNqRgdbFHdEjFy42RPIzkL1aMwkIzzEZA5kVSPjCcK/O/6nqn2WnxhOFfnf9T1T7LQSfweuAvFvh3TtLYL4SiGW+ZdpDXtwTJONygB1QsIlbvSFKv8AWW/GE4V+d/1PVPstPjCcK/O/6nqn2Wgp3w7f+gtM/wB7R/4DVK8eV6S+Fj0n6Nruk2NtpV94VPDqKTyR9ReRbYFtL+IvunhRT5c0QwDnyuzAOPNtVClKVUKUpQKUpQKUpQah8HeL/StQk70tAo+mSRT/APqrWuI7RWtDAD91Mfkkn+eRuXHnwwB5Vk/weJALm9UnHWJCv9s//Mr+Wtb1i5CyyF87FUcxknBHPs7ewVzy7bjhAqzXViWQlWkhVj59y4DA+vJIqFtJZbTqbvGWiba6j+fCwG9D9IyR5iAe6pzhdxmeLBUbpGRT29XOetHLu8syj/hrj1u3zaSYGdpB/Jn1VhqJfPSixuNOdrclldARjsKtj/l3fTX1o+kJDFHCuNsSgE97OMZP9lcOh3Be0mtcKTtZot3mYYcDzcyD9Zqd0VVe3hkXn1iKwz2+UoJ/vrV2zVI24sBIRy5L/fXbstHVw6FAcjkD6wcVLi3wK/bKcQySO58lV5n6AKk9kdIy30tbd4YF7c9Yw7gIxgf/AFSA/VUHqV0t5qRMrAWenDdIx+SZAOw+fJ2pgczk12fGDrbqZlKiS4KWtjH3lgGknc+ZQGiye7Fcllw2rqELYtYmLM7cjPOf5SV/OM5CjuAA9dE6cmkiTU7kS7ClvET1Knzntd+7eQBy7gAPOTK6jcC4mW3jP+jWp8sjskmHb9IX+/6K4766W2hCW5w82Uhx3Jy6yTHqHIeuvqw2W0PIE7R9ZJ8/nNPhPl3o0O2QnGFzj6AOX11E6S5jmYc8PzOO515q3qyAyn/h81TBcraOzgqZOwHt8on/AJComyI60E96/wDPIo1HUqb8Jm932umoflGaR/pCRKp/tkFYbWvfCLmDrppAwQ10PVgC15D6zWQ11jpgpSlUKUpQKUpQKUpQKUpQKUpQKUpQKUpQKUpQKUpQKUpQKUpQKUpQKUpQKUpQKUpQKUpQKUpQKUpQKUpQKUpQKUr7ghaR0jQbnkZURfO7kKo+skUGt9FmkPDo9zeoMT3Mm6A887LLJQf8UgmHrwK0CW7S5tLe7T5MqDI7xntB9YOR9Vcl/pfglhZWUHIwCIA+cQ4Z2P8AWIOfW9RXC6JEtzZuwWN5XktAx/mSqH2L6xJ1ox6q4xPLpMcU4tNcRX0I3A9eGQjdufIBKFhjKj+Ux29tTlxbbo5E9LcPr7qqOqXHVNDNnlBKrMdwAwhDN5OMsdiyfkq93K4BI+mkmKiWMvUurHsQ4Yf0ex/7CatfCMn+jgdgheaP6o5XVP8A6QKrmvwbZXx8mQb183POa/eANQLSXNq3adk0Z84I6qUDzkNGjH8eKRwstDVQy5HPPmquawwZJgexgx+nB5VwrqEqTpCp5bvK9Y81c+pWzFEQD7pIQoB874Az6hmkpCrcL2SxzDUZeUcMBhtge3fcMHuZAPOseyMH+m47qm01Pw5uWYbG3G5z2Fgv/qAB664dbRQ0NjEcrCiqx5dgHMn+kxyfrrtS2oCpbr5KLhpQP57/AMxT6lBzjzn1UZfenq1xK07rtGNsSd0cS/JX6e8+s1OQRAsBjIXyiPoHIflr4so1VAOeTj/lUxZWiopkb5I8pifMvPArUQzMojjK7y0VuuOQDPjzns/s3flqNRe/n5OPyYrotcme4eU/zmOPUo5D+zFdyaXYj5Pav9vdXO7m3WqilS6Y9P67RBcfz7W6WTP/AFc/3Fh9bGE/8NYbXpXjCy67RNSj/wD6zyqo587cdcv9sYrzVXbHpjLspSlaZKUpQKUpQKUpQKUpQKUpQKUpQKUpQKUpQKUpQKUpQKUpQKUpQKUpQKUpQKUpQKUpQKUpQKUpQKUpQKUpQKunQppPhes2wYZS2DXL5/6nAj+vrXiP1VS60LoS1I2k17MqbysUe/HyhCZD1hUd/ldTyrOc1DWMXL0FNb9Y7uewDYo+nm//AC/JVC464emLWskDtGYbmJ2wcK0RdOtU/VzH1jvq8W/EFoLXwpnURAZ3Z7c/8yaz/jHjCLVILizhGxHTBk7ycjAX1d/5K4zy6RxboXbps+7KTHuHXJnblfkuTjmRhicDt5Vc5ZsRxopOCVUYJPkjlzJ5nkO+sH/jqexkMN4XeFTt60kkor42s2flxHHaeYOc57a2TgybwqwtDGQ+xAkh7ecXkEnzkhQfrq7rlJxqHZ1q06yIso8qMtgDzE5NVXTwIb2CcHaysVI9KKYbZFz3YdYH+iE1dox1chiPyXHL6e+qlxDZMJWC5HIsD5iuCD/dV8Hn9Vh1k7HWVMb8ZXzAgHH0ioy14hknAnmwGhByFGAZBlUwPp5/8Nc3Xma2ikPIgeV6mHJvqHOqi8/V+QTzlld8erki/l2sf+IUmUiFp4dTczzSduOsfP0+QvPznH1A1ZdDtTJmdxyOcevPf9JqF0226uNYG5yMQ8/nB7k/4Ry+ktV30M7gqrGSB2ebOKsMS+tP09mYO/IfzV5flNdbjjUBFA0S9rDHL11LaheLApyRv8w7qzbXtQM84HPCk5Hdgf8A+0zyqFwi5fWmRkDPmxzpq7+VGvc2M/RzrtWY8gflP+VdG7s5p5x1Y8lEA+vJLf3j+2ucOl8rDbaeWtLlSd3XQyRhe3HWIwOfy4ryhGeQ+gV6v0/TWt4zJJIQcYVc8st2cu/tryhH2D6BXbFynt9UpStoUpSgUqf4H4dTU5buE3kdpJb2N3eQK8UkrXUljG0z20SoQVkaKOdt3lECFsK3YOtoPDGo6gnWWOm6hex8/utpa3M8WV5EdZFGU3A92c8qCJpXY1GxmtpTDcwT206gFobmKSGYA5ALRyKHAJB5kdxrr0ClKUClKUClKUClKUClKUClK/M0H7Sldi1sJ5kmkignljt1D3EkUcjxwxscK87KpWFCeQZiBmg69KUoFKUoFKUoFKUoFKUoFKUoFKUoFKUoFKUoFKUoFW7ojlA1NIm+TcwzwsPP9zMq/wD1QrVRqxdGUoTWNOJ7DOqfnVaP/wDOpPSw0C7c2UkkUsTzWMh3SRr8tGH/ALyLJxnnzU9v01Hvo6XoeTRZ+vaPm8fVzK6Z7BJ5G1T9JrV9bsYYoZZpESVYgHmiLMjGHI3hWEb/AHTbnauPKOBkZzXW1ia6ggt7XTjHa3M2XFhp0EE8NlAGO7+NLuZxF4a+D5EcZwwYbnADNwqu3et0cdsG4m0rUJWjaaJw9urrJGjRSxyI+3csiIxZXwuQSORqyfB9uZbKS6tHZzDLJ1kCvu8jYqLIvPsJzGduP5hPfWxDQ9TeDN/Jp9/gEhJYPB5x/RjnRigfHLmgBPeoNZBxqV03bqNr1mxJF62GTPWQtuKMsq5OztZG8wyeeAasTE9JlhOPbWtbGV6xe1MN9Q7ajdWhEqdaoyDDJ6+eBj+2u5w5qUV7bRSocpLHuBPmOMg+YipDTOHZkHUsY235ZACxKxtz8s7do+omtOfhUdEXtgYgBhuUnszjyhn6Of5a+tI4Mn6x7tossrbYDIwEcaoABK2e1gMbR3Hn5qseo8JJBbvLcPIzx8wYSEAjxjaNyncTkjPLu+vN9W12GNztfUmOMFJ7smBuWPKRYwT2DsYGs5TTpjFtW4f0WC3jFxPcxybxuDA8iPpPb9NdXV+P7aHdHBgY5Egf3eeskOvTXGEMhI5BETkoUcgFA7AAMYq1cOcI706+6IihHMvJ5Ix6s9v1UjJica7WW31eG6hefrMsnap7s9lVi2Jd2fz8h9HdX5rmo2pPg9hGBEvKSbsMjeYD0Bzr70tDyz9FYnmWsYqEzZSZ7eWB/wClS+iTKqk5BOTkDtDDP+VVDiLU2tIG8Hj666cYhjyAN3pMT2KM+fnVL4Y4vvtLcDU7W4jiY5Nw8b9Vknt6wDqzz8xrVwzXDYLqV5ZELsTGjcl85b5P9ma8z8TaabO9urUjHUTOi+uMMTEfrjKH669NaRJFfItzayK8ZCl1zkggg+T/AG1kfwh9Aa2vorwKeru02uccuugAAyf6UXV4/FNXXFmWYUpStslKUoN76IOPfArax1XW5dPvbWwCaPpFlb2llLr1u+EBmV9qSxWS2pkVsuxkJQbdzAv0un3itHvNWtZhr+m6pZXEcGn20d+G0U2cT/fC26pG1sZrYrIoXfkyR+UAGFUzgW2jvdE1+xjtLaXUoBa6laTdUGv2tbWTZqcVvJ8oBImjlEa82DXHI8sVHrLnULpN0k97eXckUSPNI8s800pSGBTJKxLsSY0G49m0cgKKu3BXFj6i8Gia9PLe6fdusNtd3DGa90u7nOy3ubS4fMvUdY0ayQuxQpnAGCGoutWElncXNrOAJ7SaWCZRnAlt3eOQKSMldyHB7xitQ4c6LtRNleKmi36cR6XqVk8bXBRLB7KUSckMn+jXQjnt9zsrEbJkIJAZaqPTHcJPrN/PHqNpqxuCkkl7YwNbWkkzRIHEEZkkyilQN4dg/Nskk0Fu17op07SjZNrHEkVnFf2kFxAsVhc3FxvlUmbrI4pCIbWMmPEzHMhLgKuwkx150P3qcQNoK3Fu4WAXrai2Utl0zGXu5F3FkAbyNgJ8sgbtp3jm+E3fQ3N9pLW80U6rw9pyFoXSRRJvv2KEqSA+10O3tw6+etS1LjawteKgJb21jtdS4XtrDw/7jcW1tcyPPLC1yDuiMO0jcrgr90j3YUk0Rj97wJp89lf3eh65/Gr6VELi+tpbGexkNpuKyXVo0sjCaJO1kOGVcEnJVWiekLg46RBo8xuBcfxtpsGobRH1fUmcbjDne3WhQV8vyc8/JFaTxFFrtlYag97rPClpbz2dxBt0+PRzdajHMmHtbPwWyWYpKOW8lNvksQMZX54y4fXiTSOG7qx1PSIE0zSorDUxf3aW72k1ssas8iMpZoziQjsJAQqGDZBULa9DLSa7YaINRG690lNT8I8GJCGQTjqBH143+XB/Kbl5P8nlz6um9FkF5dxadYa7a3d7EssusMttcpp2nW1uq9fKt65CX4WVhGOrC7iwJ2AMRrlvrdgvHejzRX9q9mnDMcSXRliWMlfD3UOS2I5TEVfYeYDDlWM/B51u0t31LTtQuEsrfW9Jn0/w2TlHbTypiNpieSRENICxIAITOBkgOxJ0bWF5a3s2ga8ur3GmwtcXVlJYXNlNJbR/ys9kZXbr1X0AM8155ZQ31D0ZWUOlaTrOqa8lhZ6mkrdWllcXV0JUfEccEcLkzIYwzvKQoQhFw5cYs3R7oXie2oavq1/pTu2nXFrp9lYXaXU15cXLQlWVVUFbVeqXLsOQkyQu3nWelK8hfhngiGKaKSS3tdSWZEdGeNjNZKolUHMZJjfG7GdjeaiO9r3RJp+lzRfxtxNbW1lfKj6XcQWVzcS3MEioxnniR9tjboZEG9nYNzI24OI9Ohy8/j+80OS5gijsITdXWqSKwtY9PCI4uCm7IY7wvVlhhkk8rapenwir2Ke24ZEE0Uxj4cskkETq5SQI4KOFJ2SZB8k8+VarxfxLp03E3EOmzahbQW+v6HBYw6j1iPaw3XUymJZ5FbYiMtwSSSB5KD+eKDOeH+ijTtWN42j8SJdx2NrNPOs2n3Ntc741zD1ccsgEttIwcGQHMZCAq28ETtpwtoT8FRu+txRI2sKz6t/E948yXDWYDWHUq/XvGqkt1obqzjszXb6GuERw/d6rLquqaOlxLo97FbWttexTM8bdVJNNIcKIox1EYQN5T75DtHVmq30f2qaxwfPoVvd2UGqQast8lve3Edv19q1rHCTA0nJ2Vy+R3bBnG5chDaZ0d2cOn22p65rS6Vbag0n8WQx2U95eXMMRANy0Mbg29vgq3PPKSPmCyg3jon4ZgjteNbC21ewu7WbSrJ11Vd8VrHDKdQMjXaNl7eSJVZnjyxAC95wOlr2jLxRpGgJp99psWoaFaHTdQsLy6igfFv1UcdzbPkpPA/UFt6kqRIvPKkV1+DrG30nTuNrFtU028lfSLTElnMGga5Z71Zbe3d9vhTxs8SlkGMyqORyAFc1bo8sn0i81bRdbGrJpjQrqMElhcWMsaXDBY5oRM5Z4sk8iByjk55UrWdVp/RPfQxcO8bRyzRRyT2unCFHdFeRhPeAiJScyEF0yFzjevnrMKBSlKBSlKBSlKBSlKBSlKBSlKBSlKBXJawPK6xxI8sj8kjjVnkY+ZVUEsfoqe4A4Vk1W6EQbqbaMg3V0w8iKM9w5YaZuxV+k9gNel+DbGytVEGneDwKo5iJF6+TaMFppC5kcnGSSD9Vcs9WMePLvpaE589Qynoq6GLm4uFm1m2eKyVSRb9aq3EznkoYRtvijHMnmrZAHnqd48+D8CTNos+wd9lesTj8TcAE4/oyAn+lWu2coGcNuIPnPIn+76K7i3e0ZycDl5R7/AFZ7K5e7Pbv7GMcPGmucG6nZSGO5sLlGHesZkQ/1Xi3Ify1JdGug3L6pas0DR9Q4mzcrLDETFhkVnKHGW29gJODXq7UMOjbyCO/OMntJwPoroaVZ287B2SN40wQhVDk8whfIyexuRPdWo1ZmaZy0McY3WyjpV1a8sbS4MM5vblkI8HUmGyj8pGDxR7y89wrKuGlZznG0LmtL4BaE2Vl1QGwwxuDjbucxqXLDGd+ck555JzzqT4o0uyvIWhubaGWN+TKyJggY5Hl2dn5BUPwlBFBDDEuIoo+tSBe4Rh22BfVtArnrY036abtdUZWQNjKnuI58u3Hmql9IfAtrqUMjRFVm2neqhcTJjJjcEgbu4MezJHYakNB1qRpXhYqVjztx2tjz+vmD+WuppuoiS9ukzsaJlVwe7euVOPMef9tYxmunbPC7iUBovDaQRokMENvE1pCGWHIiEo3idRuO523AEseZLcya6dreXMMzxddI235DMzFQo+SPUMVb7qPYoLDCFm3eYMpw30Arhv8A5Z89VLiy7t7Yq6yIznlsDAnHnPmAr0X5eOYq8ZSEfGEsQKuC5HaSPJ/Ie6oXWOJtPl5zadbSt3nZtz7OM1X7vUkm7GA9X+fnqOe33H1VZcohKNxbBB946ZZwt3SbA7D6C2SKitR1C6vzuuJ2IHMLnCgeoDlXJBpq9uRXxOoU7V+v/IVjJvF96bAMgDs/89tStzfx2sbyOcKgJP0+of8AKuojrDGZHIUAEkkgch5/MKhdIibV5wzbltUOYwcjrGH88j0fMPr+iR8GXKFjvtUnum1CxeOVuQ8AmwjdWvYsbHyWJ5kg97Hn3Vb+GelG0Mngt4k2kXvY8F2hFu55D6Ap7iOXPvq46dwpAoXAGe4455+la7mqcHWt5F1N1BFcR9wl8or60bG6NvWpBrpjjLnMxLo2r2kEqTRQi0kfn1tmwWKXznYAYZs8zzXdjvqZ6QNNh4h0ea2jePwyLE1qcBD4REDhWBzsEil0Jzjy891Z7e9Gd5pu5tJnE9q3N9Ou2Jxj/wCBJ/mAfOTXXsNRv7dxIbaa3MfysjeV5+Vnvlj+nn66sZUlMgv7OW3kaG4hlglTk8UyMkin1qwBFcFaD04ax4bc2MpUo62m1x2rnrZTlD3qQaz6uiFKUqo7ejanPZXEN3aTPb3Vu4kgnjIDo4BGRkEMCCylWBVlZlIIJBuUvFOiXr9fqGhz2t4SHkuNBvFtYZpc5L+B3EEsVqxOCTCwBJJwKoVKK9AdFPS44uTpFgttpFndRXzLf61f3V9NHqPg0jWlxNcXLrBHEZoog0CxbSZGIJYndj3FvEa38dmg03SrGW1WZZp9Mto7UXbSuhV50iAjygTC7QB90fGAQogKUR+AUAr9pQfgUDsAFCo7cDNftKD8wPNX7SlB+BQOwAfRTFftKCa0rhPULq3N1b2cssH3Qh16sNJ1C7pzBGzCS62D5RiVtuDnGK414YvvAzqAtJfAghkM3kfyCv1bTCPd1rWwk8kzBdgIILcjV66O+JtLsl0mSaWOGS1F0l6JNPa8vGkuXuljls7p2KWNmsM8BZIAku6GfyZDLuqE1K/06a3t5mvr1J7bSLfSzY2sbRPM9pCtoWa5YGIaZNEpleJhvJkdNvPdQQmqcHahaQrNcWE0UbPGnYjOss4LQJNEjGW3lcA7UkVWbHIGpDVOj+/trPwi5t5Y5mvrawhtAiSyTTXUV7IVVopG23KNaJGbcrvzcpnbyDXoccaVayXU9tJDKp1HS9QtLWPTXhnaDTL4ztb319Kzz3moGKQfdJXaLdC7BsybRF8NcTaXo7QtDd3OpY1mK/kBtniK2fgGsWbtiZ8SagjahG7DkjFEAc8yoU244J1JZ4bVrCZp7hZXt44+rl61bZWe5ETRMySSRqpLICWXkCASAeW/4E1WCKSeWwlWGGJp2lDQMhgjXdLLCUkPhESLzdotwQA7tuKtI4us7aOO1hmt3jWHWGL6bp38X2q3OoaTNp9oFjbM8k7OU6yQ7UVREBv2lqjNG4mtYm0guzhbLRdWsZsITtutQ8YOoCekh/jG1yw5DLZ+SaKq91oF3FJdRyW0iSWMay3att+4xSGBY3c5xtY3NuBgnPWrjNR1aPxtqPV6FpqSRzQ6lqkFsl+sysjPp+gvdQaXKVfD7bhZIDvI8r+KlIJBGc4ohSlKBSlKBSlKBSlKBSlKBSlKBXY0yBJZ4Y5JBDHJIiSTN2Ro7KHc+pVJP1V16VFhv9lxPpGnwxWliYZBAcoS8bRk98r5PVySk89zEkcsYwMSdr0jW2Css1vGG7Gj6lcDzZBOBXm2lef6f5l7PrJ/xh6VHHlsD9xu4mAPPEiHt7fq/wA67UXGdtIjM9xD5J8kF1OPOTz7forzBX5ip9P8/g+r+Py3/X+kO1iVmN0gx2YbOT6gDzr54A6Sbd4rlnmXd1o7SFxGI1Ccjghch/rzWB0q4en2zds6nqpzjbXD0dqHH8LDyJ4z6twz/fUtaXZl02K/ifeluYzJGoyerLiNyMc8q2W9YDd9eW61foj4rK2b6YWVFYSBm7H2TEkMh5YKsx+jlV1MJpfT6kXXTVdUvlttTsmj2lL+3k3FGV0W5typWNypISVo2lypwfuPZUTxXfHTddgvpGAsNVs+ok7MLf2jF4u3tL27y/mKraa9NcWZsVVFurFlaMjl/pEHygPMJVLYPmkz31wWk41O1aKdjK2RNBGzOrrcQElRuByj53qR6yCCOR4xw9dNIs+LLWbZFMRHHckrGzfJ61APJb1MD/Y1ZTrfBN3bXEqgtLEGJic+Uxibyk8r+cQDjPeVNdvhee31TqbO6E6BJNwaFhG6TIjrtLFWXHlNyI7x2YzVq41uJdL08PZSyidJgoW6MMwkt9reUoAGASUPyVIIPMjFbjPxLjrYxHMds9GmzL8pHGPMDmuxaaj1fkuG5d5HZVcsunK9kzutbRirFX3JjmpI5bSOXL1V2/8A+Xnb+UsrP64nP/5munTx9rKdRRgdgJ857vy+euo91FCrT3DrHGnMljy9Q59pqo33SM9yxVYlQJ2KirEgJweQGSRz76hTbvqM6C7l+5g+Si8kXPLIGfles86xlPLUcPrjLjG4uJFKQH+LwwG45xK4wQHI/k/Urcz2/Rf+C+IluLceDqAyjyo2wHB/894qX4I4Ysoo5YCqSxXChJI5PKUgZ7R5+fbUNqvRrdWE3hejyblBz1D4LAej5XKQDznnWqpm7TdnxpJC+yXchz2Nkqfr7RVzteIS8Ykj5nHNCe/+ie8VmkuswXMXU6mktjeqMbnjIhY+dWUHl9VdGA3IjMTdc8aN9xvLDbOgzy+7Rq4dPrAq7qTbbVbXj6EOIrlDCx5Bj8k/XU65t7lcqynP0cxWAcSQahFAJph4RBnHXdXJHKhPZ1sbjO0+kCRnzcqhdI4rlVJIFndC6HqgC3Jhz2kjmmcHnV3WmxYenOx8HvbdAAFMG5cE4wZZPP2Gs/rt6jq816IpJndyqbUMhOdmSeWeeMk9tdSumPTJSqZ41z+hD7L+/Txrn9CH2X9+qUudKpnjXP6EPsv79PGuf0IfZf36FLnSqZ41z+hD7L+/Txrn9CH2X9+hS50qmeNc/oQ+y/v08a5/Qh9l/foUudKpnjXP6EPsv79PGuf0IfZf36FLnSqZ41z+hD7L+/Txrn9CH2X9+hS50qmeNc/oQ+y/v08a5/Qh9l/foUudKpnjXP6EPsv79PGuf0IfZf36FLnSqZ41z+hD7L+/Txrn9CH2X9+hS50qmeNc/oQ+y/v08a5/Qh9l/foUujEk5JJPIZPM4AAA+gAAfQBX5VM8a5/Qh9l/fp41z+hD7L+/Qpc6VTPGuf0IfZf36eNc/oQ+y/v0KXOlUzxrn9CH2X9+njXP6EPsv79ClzpVM8a5/Qh9l/fp41z+hD7L+/Qpc6VTPGuf0IfZf36eNc/oQ+y/v0KXOlUzxrn9CH2X9+njXP6EPsv79ClzpVM8a5/Qh9l/fp41z+hD7L+/Qpc6VTPGuf0IfZf36eNc/oQ+y/v0KXOlUzxrn9CH2X9+njXP6EPsv79ClzpVM8a5/Qh9l/fp41z+hD7L+/Qpc6VTPGuf0IfZf36eNc/oQ+y/v0KXOuW0uHidZIyVZew/3g+o1R/Guf0IfZf36eNc/oQ+y/v0WOGuW3EKF45cyRz42ysTlGUc4zkcwynOCe5jUk96Q/hUcsSFmUyqGG7rDgdag85GNw9QPnziPjXP6EPsv79fnjVP6EHsv79cp0ol3x9RlHfLfrziiOwlWe3w9zJhp2G3YpIA3Bc4aU47uXfXNpd/4dDd3U8iiTCFtx+WZGGBHubyVVV5gZ5mvPnjVP6EPsv79fnjVP6EHsv79PaiqYy1ZyyuUpp0RSafKtgyyDmDjG9ipHnHPtqW6n1VVvGuf0IfZf36eNc/oQ+y/v1Zw+UjOloit260bRyYDPcAQe/6iPyVZtPttmNzD2hWY+Nc/oQ+y/v08ap/Qg9l/fqe3CbnofTGARJkuEUkeWhdR5S9vLPfjNSD8bC3PKbee/DAjI+vzf3V5n8aZ/8A4cHsv79fvjXP6EPsv79a2s29H3XSkSMNBDL5t+01FHpPuXJ8Ht7WE9m8RAZ9QbIyO44zWC+Nc/oQ+y/v08ap/Qh9l/fqxjHkn4b140apMR10tvJEflInUDCHt3biFAxnmazni3WYobibwCy2mYgtOzO6FVOSkKJtURM2d2ORGAOVUrxqn9CD2X9+v3xruPQh9l/frpM41UR+/LEY5eZ/heJRC0dvcwKY/CoVeaE7vuVwhaKZV3EkITHuAPcwPfXFVM8a5/Qh9l/fp41z+hD7L+/UmViKQFKUrLRSlKBSlKBSlKBSlKBSlKBSlKBSlKBSlKBSlKBSlKBSlKBSlKBSlKBSlKBSlKBSlKBSlKBSlKBSlKBSlKBSlKBSlKBSlKBSlKBSlKBSlKBSlKBSlKBSlKBSlKBSlKBSlKBSlKBSlKBSlKBSlKBSlKBSlKBSlKBSlKBSlKBSlKBSlKBSlKBSlKBSlKBSlKBSlKBSlKBSlKBSlKBSlKBSlKBSlKBSlKBSlKBSlKBSlKBSlKBSlKBSlKBSlKBSlKBSlKBSlKBSlKBSlKBSlKBSlKBSlKBSlKBSlKBSlKBSlKBSlKBSlKBSlKBSlKBSlKBSlKBSlKBSlKBSlKBSlKBSlKBSlKBSlKBSlKBSlKD/2Q==\n"
                },
                "metadata": {}
              }
            ]
          }
        },
        "fd139a16d1824eb9990b892c7a2eabe3": {
          "model_module": "@jupyter-widgets/output",
          "model_name": "OutputModel",
          "model_module_version": "1.0.0",
          "state": {
            "_dom_classes": [],
            "_model_module": "@jupyter-widgets/output",
            "_model_module_version": "1.0.0",
            "_model_name": "OutputModel",
            "_view_count": null,
            "_view_module": "@jupyter-widgets/output",
            "_view_module_version": "1.0.0",
            "_view_name": "OutputView",
            "layout": "IPY_MODEL_a266ea8441954c71b6f3c6c57f5c3786",
            "msg_id": "",
            "outputs": [
              {
                "output_type": "stream",
                "name": "stdout",
                "text": [
                  "Video available at https://www.bilibili.com/video/BV1hz4y1D7us\n"
                ]
              },
              {
                "output_type": "display_data",
                "data": {
                  "text/plain": "<__main__.BiliVideo at 0x7f5c6e5e5b50>",
                  "text/html": "\n        <iframe\n            width=\"854\"\n            height=\"480\"\n            src=\"https://player.bilibili.com/player.html?bvid=BV1hz4y1D7us&page=1?fs=1\"\n            frameborder=\"0\"\n            allowfullscreen\n        ></iframe>\n        "
                },
                "metadata": {}
              }
            ]
          }
        },
        "a7ea99f24cca4f78812cb88d60264cde": {
          "model_module": "@jupyter-widgets/base",
          "model_name": "LayoutModel",
          "model_module_version": "1.2.0",
          "state": {
            "_model_module": "@jupyter-widgets/base",
            "_model_module_version": "1.2.0",
            "_model_name": "LayoutModel",
            "_view_count": null,
            "_view_module": "@jupyter-widgets/base",
            "_view_module_version": "1.2.0",
            "_view_name": "LayoutView",
            "align_content": null,
            "align_items": null,
            "align_self": null,
            "border": null,
            "bottom": null,
            "display": null,
            "flex": null,
            "flex_flow": null,
            "grid_area": null,
            "grid_auto_columns": null,
            "grid_auto_flow": null,
            "grid_auto_rows": null,
            "grid_column": null,
            "grid_gap": null,
            "grid_row": null,
            "grid_template_areas": null,
            "grid_template_columns": null,
            "grid_template_rows": null,
            "height": null,
            "justify_content": null,
            "justify_items": null,
            "left": null,
            "margin": null,
            "max_height": null,
            "max_width": null,
            "min_height": null,
            "min_width": null,
            "object_fit": null,
            "object_position": null,
            "order": null,
            "overflow": null,
            "overflow_x": null,
            "overflow_y": null,
            "padding": null,
            "right": null,
            "top": null,
            "visibility": null,
            "width": null
          }
        },
        "f8c83048a8aa4c33b10f7c7f6f32b34c": {
          "model_module": "@jupyter-widgets/base",
          "model_name": "LayoutModel",
          "model_module_version": "1.2.0",
          "state": {
            "_model_module": "@jupyter-widgets/base",
            "_model_module_version": "1.2.0",
            "_model_name": "LayoutModel",
            "_view_count": null,
            "_view_module": "@jupyter-widgets/base",
            "_view_module_version": "1.2.0",
            "_view_name": "LayoutView",
            "align_content": null,
            "align_items": null,
            "align_self": null,
            "border": null,
            "bottom": null,
            "display": null,
            "flex": null,
            "flex_flow": null,
            "grid_area": null,
            "grid_auto_columns": null,
            "grid_auto_flow": null,
            "grid_auto_rows": null,
            "grid_column": null,
            "grid_gap": null,
            "grid_row": null,
            "grid_template_areas": null,
            "grid_template_columns": null,
            "grid_template_rows": null,
            "height": null,
            "justify_content": null,
            "justify_items": null,
            "left": null,
            "margin": null,
            "max_height": null,
            "max_width": null,
            "min_height": null,
            "min_width": null,
            "object_fit": null,
            "object_position": null,
            "order": null,
            "overflow": null,
            "overflow_x": null,
            "overflow_y": null,
            "padding": null,
            "right": null,
            "top": null,
            "visibility": null,
            "width": null
          }
        },
        "a266ea8441954c71b6f3c6c57f5c3786": {
          "model_module": "@jupyter-widgets/base",
          "model_name": "LayoutModel",
          "model_module_version": "1.2.0",
          "state": {
            "_model_module": "@jupyter-widgets/base",
            "_model_module_version": "1.2.0",
            "_model_name": "LayoutModel",
            "_view_count": null,
            "_view_module": "@jupyter-widgets/base",
            "_view_module_version": "1.2.0",
            "_view_name": "LayoutView",
            "align_content": null,
            "align_items": null,
            "align_self": null,
            "border": null,
            "bottom": null,
            "display": null,
            "flex": null,
            "flex_flow": null,
            "grid_area": null,
            "grid_auto_columns": null,
            "grid_auto_flow": null,
            "grid_auto_rows": null,
            "grid_column": null,
            "grid_gap": null,
            "grid_row": null,
            "grid_template_areas": null,
            "grid_template_columns": null,
            "grid_template_rows": null,
            "height": null,
            "justify_content": null,
            "justify_items": null,
            "left": null,
            "margin": null,
            "max_height": null,
            "max_width": null,
            "min_height": null,
            "min_width": null,
            "object_fit": null,
            "object_position": null,
            "order": null,
            "overflow": null,
            "overflow_x": null,
            "overflow_y": null,
            "padding": null,
            "right": null,
            "top": null,
            "visibility": null,
            "width": null
          }
        }
      }
    }
  },
  "nbformat": 4,
  "nbformat_minor": 0
}