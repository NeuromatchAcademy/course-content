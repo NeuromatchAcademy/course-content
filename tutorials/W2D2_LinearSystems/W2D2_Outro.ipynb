{
  "nbformat": 4,
  "nbformat_minor": 0,
  "metadata": {
    "colab": {
      "name": "W2D2_Outro",
      "provenance": [],
      "collapsed_sections": [],
      "toc_visible": true,
      "include_colab_link": true
    },
    "kernel": {
      "display_name": "Python 3",
      "language": "python",
      "name": "python3"
    },
    "kernelspec": {
      "display_name": "Python 3",
      "language": "python",
      "name": "python3"
    },
    "language_info": {
      "codemirror_mode": {
        "name": "ipython",
        "version": 3
      },
      "file_extension": ".py",
      "mimetype": "text/x-python",
      "name": "python",
      "nbconvert_exporter": "python",
      "pygments_lexer": "ipython3",
      "version": "3.7.10"
    }
  },
  "cells": [
    {
      "cell_type": "markdown",
      "metadata": {
        "id": "view-in-github",
        "colab_type": "text"
      },
      "source": [
        "<a href=\"https://colab.research.google.com/github/NeuromatchAcademy/course-content/blob/W2D2_2021/tutorials/W2D2_LinearSystems/W2D2_Outro.ipynb\" target=\"_parent\"><img src=\"https://colab.research.google.com/assets/colab-badge.svg\" alt=\"Open In Colab\"/></a>"
      ]
    },
    {
      "cell_type": "markdown",
      "metadata": {
        "pycharm": {
          "name": "#%% md\n"
        },
        "id": "I5NoYEDlCx-m"
      },
      "source": [
        "# Outro\n"
      ]
    },
    {
      "cell_type": "markdown",
      "metadata": {
        "id": "e6Q-X8sxCx-n"
      },
      "source": [
        "**Our 2021 Sponsors, including Presenting Sponsor Facebook Reality Labs**\n",
        "\n",
        "<p align='center'><img src='https://github.com/NeuromatchAcademy/widgets/blob/master/sponsors.png?raw=True'/></p>"
      ]
    },
    {
      "cell_type": "markdown",
      "metadata": {
        "pycharm": {
          "name": "#%% md\n"
        },
        "id": "hFtGpgYuCx-n"
      },
      "source": [
        "## Video"
      ]
    },
    {
      "cell_type": "code",
      "metadata": {
        "cellView": "form",
        "execution": {
          "iopub.execute_input": "2021-06-25T15:13:13.982305Z",
          "iopub.status.busy": "2021-06-25T15:13:13.981316Z",
          "iopub.status.idle": "2021-06-25T15:13:14.129749Z",
          "shell.execute_reply": "2021-06-25T15:13:14.129167Z"
        },
        "pycharm": {
          "name": "#%%\n"
        },
        "id": "dBUC9wABCx-n"
      },
      "source": [
        "# @markdown\n",
        "from ipywidgets import widgets\n",
        "\n",
        "out2 = widgets.Output()\n",
        "with out2:\n",
        "  from IPython.display import IFrame\n",
        "  class BiliVideo(IFrame):\n",
        "      def __init__(self, id, page=1, width=400, height=300, **kwargs):\n",
        "          self.id=id\n",
        "          src = \"https://player.bilibili.com/player.html?bvid={0}&page={1}\".format(id, page)\n",
        "          super(BiliVideo, self).__init__(src, width, height, **kwargs)\n",
        "\n",
        "  video = BiliVideo(id=f\"BV1hz4y1D7us\", width=854, height=480, fs=1)\n",
        "  print(\"Video available at https://www.bilibili.com/video/{0}\".format(video.id))\n",
        "  display(video)\n",
        "\n",
        "out1 = widgets.Output()\n",
        "with out1:\n",
        "  from IPython.display import YouTubeVideo\n",
        "  video = YouTubeVideo(id=f\"r8Jj81r7vK8\", width=854, height=480, fs=1, rel=0)\n",
        "  print(\"Video available at https://youtube.com/watch?v=\" + video.id)\n",
        "  display(video)\n",
        "\n",
        "out = widgets.Tab([out1, out2])\n",
        "out.set_title(0, 'Youtube')\n",
        "out.set_title(1, 'Bilibili')\n",
        "\n",
        "display(out)"
      ],
      "execution_count": null,
      "outputs": []
    },
    {
      "cell_type": "markdown",
      "metadata": {
        "id": "mXXAQAZqCx-o"
      },
      "source": [
        "## Daily survey\n",
        "\n",
        "Don't forget to complete your reflections and content check in the daily survey! Please be patient after logging in as there is\n",
        "a small delay before you will be redirected to the survey.\n",
        "\n",
        "<a href=\"https://portal.neuromatchacademy.org/api/redirect/to/ea8ab97d-c348-4ef6-bf59-e8811e8f5e0d\"><img src=\"https://github.com/NeuromatchAcademy/course-content/blob/master/tutorials/static/button.png?raw=1\" alt=\"button link to survey\" style=\"width:410px\"></a>"
      ]
    },
    {
      "cell_type": "markdown",
      "metadata": {
        "pycharm": {
          "name": "#%% md\n"
        },
        "id": "cWjwR5uhCx-o"
      },
      "source": [
        "## Slides"
      ]
    },
    {
      "cell_type": "code",
      "metadata": {
        "cellView": "form",
        "execution": {
          "iopub.execute_input": "2021-06-25T15:13:14.141887Z",
          "iopub.status.busy": "2021-06-25T15:13:14.141390Z",
          "iopub.status.idle": "2021-06-25T15:13:14.146369Z",
          "shell.execute_reply": "2021-06-25T15:13:14.146800Z"
        },
        "pycharm": {
          "name": "#%%\n"
        },
        "id": "PB3LS84NCx-o"
      },
      "source": [
        "# @markdown\n",
        "from IPython.display import IFrame\n",
        "IFrame(src=f\"https://mfr.ca-1.osf.io/render?url=https://osf.io/dx6je/?direct%26mode=render%26action=download%26mode=render\", width=854, height=480)"
      ],
      "execution_count": null,
      "outputs": []
    }
  ]
}