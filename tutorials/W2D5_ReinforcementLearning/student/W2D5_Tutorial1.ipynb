{
 "cells": [
  {
   "cell_type": "markdown",
   "metadata": {
    "colab_type": "text",
    "id": "view-in-github"
   },
   "source": [
    "<a href=\"https://colab.research.google.com/github/NeuromatchAcademy/course-content/blob/master/tutorials/W2D5_ReinforcementLearning/student/W2D5_Tutorial1.ipynb\" target=\"_parent\"><img src=\"https://colab.research.google.com/assets/colab-badge.svg\" alt=\"Open In Colab\"/></a>"
   ]
  },
  {
   "cell_type": "markdown",
   "metadata": {
    "colab_type": "text",
    "id": "YL2_mjdRyaSg"
   },
   "source": [
    "# Neuromatch Academy: Week 2, Day 5, Tutorial 1\n",
    "# Learning to Predict\n",
    "\n",
    "__Content creators:__ Marcelo Mattar and Eric DeWitt with help from Matt Krause\n",
    "\n",
    "__Content reviewers:__ Byron Galbraith and Michael Waskom\n"
   ]
  },
  {
   "cell_type": "markdown",
   "metadata": {
    "colab_type": "text",
    "id": "JTnwS5ZOyaSm"
   },
   "source": [
    "---\n",
    "\n",
    "# Tutorial objectives\n",
    "  \n",
    "In this tutorial, we will learn how to estimate state-value functions in a classical conditioning paradigm using Temporal Difference (TD) learning and examine TD-errors at the presentation of the conditioned and unconditioned stimulus (CS and US) under different CS-US contingencies. These exercises will provide you with an understanding of both how reward prediction errors (RPEs) behave in classical conditioning and what we should expect if Dopamine represents a \"canonical\" model-free RPE.\n",
    "    \n",
    "* You will learn to use the standard tapped delay line conditioning model\n",
    "* You will understand how RPEs move to CS\n",
    "* You will understand how variability in reward size effects RPEs\n",
    "* You will understand how differences in US-CS timing effect RPEs"
   ]
  },
  {
   "cell_type": "code",
   "execution_count": 1,
   "metadata": {
    "cellView": "code",
    "colab": {},
    "colab_type": "code",
    "id": "Tr8AjcsFyaSh"
   },
   "outputs": [
    {
     "name": "stderr",
     "output_type": "stream",
     "text": [
      "Matplotlib is building the font cache; this may take a moment.\n"
     ]
    }
   ],
   "source": [
    "# Imports\n",
    "import numpy as np                 \n",
    "import matplotlib.pyplot as plt"
   ]
  },
  {
   "cell_type": "code",
   "execution_count": 2,
   "metadata": {
    "cellView": "form",
    "colab": {},
    "colab_type": "code",
    "id": "OjLe4R9uumHw"
   },
   "outputs": [],
   "source": [
    "#@title Figure settings\n",
    "import ipywidgets as widgets       # interactive display\n",
    "%config InlineBackend.figure_format = 'retina'\n",
    "plt.style.use(\"https://raw.githubusercontent.com/NeuromatchAcademy/course-content/master/nma.mplstyle\")"
   ]
  },
  {
   "cell_type": "code",
   "execution_count": 3,
   "metadata": {
    "cellView": "form",
    "colab": {},
    "colab_type": "code",
    "id": "UBN49ga4u7_n"
   },
   "outputs": [],
   "source": [
    "# @title Helper functions\n",
    "from matplotlib import ticker\n",
    "def plot_value_function(V, ax=None, show=True):\n",
    "  \"\"\"Plot V(s), the value function\"\"\"\n",
    "  if not ax:\n",
    "    fig, ax = plt.subplots()\n",
    "\n",
    "  ax.stem(V, use_line_collection=True)\n",
    "  ax.set_ylabel('Value')\n",
    "  ax.set_xlabel('State')\n",
    "  ax.set_title(\"Value function: $V(s)$\")\n",
    "  \n",
    "  if show:\n",
    "    plt.show()\n",
    "\n",
    "def plot_tde_trace(TDE, ax=None, show=True, skip=400):\n",
    "  \"\"\"Plot the TD Error across trials\"\"\"\n",
    "  if not ax:\n",
    "    fig, ax = plt.subplots()\n",
    "\n",
    "  indx = np.arange(0, TDE.shape[1], skip)\n",
    "  im = ax.imshow(TDE[:,indx])\n",
    "  positions = ax.get_xticks()\n",
    "  # Avoid warning when setting string tick labels\n",
    "  ax.xaxis.set_major_locator(ticker.FixedLocator(positions))\n",
    "  ax.set_xticklabels([f\"{int(skip * x)}\" for x in positions])\n",
    "  ax.set_title('TD-error over learning')\n",
    "  ax.set_ylabel('State')\n",
    "  ax.set_xlabel('Iterations')\n",
    "  ax.figure.colorbar(im)\n",
    "  if show:\n",
    "    plt.show()\n",
    "\n",
    "def learning_summary_plot(V, TDE):\n",
    "  \"\"\"Summary plot for Ex1\"\"\"\n",
    "  fig, (ax1, ax2) = plt.subplots(nrows = 2, gridspec_kw={'height_ratios': [1, 2]})\n",
    "  \n",
    "  plot_value_function(V, ax=ax1, show=False)\n",
    "  plot_tde_trace(TDE, ax=ax2, show=False)\n",
    "  plt.tight_layout()\n",
    "\n",
    "def reward_guesser_title_hint(r1, r2):\n",
    "  \"\"\"\"Provide a mildly obfuscated hint for a demo.\"\"\"\n",
    "  if (r1==14 and r2==6) or (r1==6 and r2==14):\n",
    "    return \"Technically correct....\"\n",
    "  \n",
    "  if not (((r1+r2) & 5) & 7) - 4: # Don't spoil the fun :-)\n",
    "    return \"Congratulations! You solved it!\"\n",
    "\n",
    "  return \"Keep trying....\"\n",
    "\n",
    "#@title Default title text\n",
    "class ClassicalConditioning:\n",
    "    \n",
    "    def __init__(self, n_steps, reward_magnitude, reward_time):\n",
    "        \n",
    "        # Task variables\n",
    "        self.n_steps = n_steps \n",
    "        self.n_actions = 0\n",
    "        self.cs_time = int(n_steps/4) - 1\n",
    "\n",
    "        # Reward variables\n",
    "        self.reward_state = [0,0]\n",
    "        self.reward_magnitude = None\n",
    "        self.reward_probability = None\n",
    "        self.reward_time = None\n",
    "        \n",
    "        self.set_reward(reward_magnitude, reward_time)\n",
    "        \n",
    "        # Time step at which the conditioned stimulus is presented\n",
    "\n",
    "        # Create a state dictionary\n",
    "        self._create_state_dictionary()\n",
    "    \n",
    "    def set_reward(self, reward_magnitude, reward_time):\n",
    "        \n",
    "        \"\"\"\n",
    "        Determine reward state and magnitude of reward\n",
    "        \"\"\"\n",
    "        if reward_time >= self.n_steps - self.cs_time:\n",
    "            self.reward_magnitude = 0\n",
    "        \n",
    "        else:\n",
    "            self.reward_magnitude = reward_magnitude\n",
    "            self.reward_state = [1, reward_time]\n",
    "            \n",
    "    def get_outcome(self, current_state):\n",
    "    \n",
    "        \"\"\"\n",
    "        Determine next state and reward\n",
    "        \"\"\"\n",
    "        # Update state\n",
    "        if current_state < self.n_steps - 1: \n",
    "            next_state = current_state + 1\n",
    "        else:\n",
    "            next_state = 0\n",
    "            \n",
    "        # Check for reward\n",
    "        if self.reward_state == self.state_dict[current_state]:\n",
    "            reward = self.reward_magnitude\n",
    "        else:\n",
    "            reward = 0\n",
    "        \n",
    "        return next_state, reward\n",
    "    \n",
    "    def _create_state_dictionary(self):\n",
    "        \n",
    "        \"\"\"\n",
    "        This dictionary maps number of time steps/ state identities\n",
    "        in each episode to some useful state attributes:\n",
    "        \n",
    "        state      - 0 1 2 3 4 5 (cs) 6 7 8 9 10 11 12 ...\n",
    "        is_delay   - 0 0 0 0 0 0 (cs) 1 1 1 1  1  1  1 ...\n",
    "        t_in_delay - 0 0 0 0 0 0 (cs) 1 2 3 4  5  6  7 ...\n",
    "        \"\"\"\n",
    "        d = 0\n",
    "\n",
    "        self.state_dict = {}\n",
    "        for s in range(self.n_steps):\n",
    "            if s <= self.cs_time:\n",
    "                self.state_dict[s] = [0,0]\n",
    "            else: \n",
    "                d += 1 # Time in delay           \n",
    "                self.state_dict[s] = [1,d]\n",
    "  \n",
    "class MultiRewardCC(ClassicalConditioning):\n",
    "  \"\"\"Classical conditioning paradigm, except that one randomly selected reward, \n",
    "    magnitude, from a list, is delivered of a single fixed reward.\"\"\"\n",
    "  def __init__(self, n_steps, reward_magnitudes, reward_time=None):\n",
    "    \"\"\"\"Build a multi-reward classical conditioning environment\n",
    "      Args:\n",
    "        - nsteps: Maximum number of steps\n",
    "        - reward_magnitudes: LIST of possible reward magnitudes.\n",
    "        - reward_time: Single fixed reward time\n",
    "      Uses numpy global random state.\n",
    "      \"\"\"\n",
    "    super().__init__(n_steps, 1, reward_time)\n",
    "    self.reward_magnitudes = reward_magnitudes\n",
    "  \n",
    "  def get_outcome(self, current_state):\n",
    "    next_state, reward = super().get_outcome(current_state)\n",
    "    if reward:\n",
    "      reward=np.random.choice(self.reward_magnitudes)\n",
    "    return next_state, reward\n",
    "  \n",
    "\n",
    "class ProbabilisticCC(ClassicalConditioning):\n",
    "  \"\"\"Classical conditioning paradigm, except that rewards are stochastically omitted.\"\"\"\n",
    "  def __init__(self, n_steps, reward_magnitude, reward_time=None, p_reward=0.75):\n",
    "    \"\"\"\"Build a multi-reward classical conditioning environment\n",
    "      Args:\n",
    "        - nsteps: Maximum number of steps\n",
    "        - reward_magnitudes: Reward magnitudes.\n",
    "        - reward_time: Single fixed reward time.\n",
    "        - p_reward: probability that reward is actually delivered in rewarding state\n",
    "      Uses numpy global random state.\n",
    "      \"\"\"\n",
    "    super().__init__(n_steps, reward_magnitude, reward_time)\n",
    "    self.p_reward = p_reward\n",
    "  \n",
    "  def get_outcome(self, current_state):\n",
    "    next_state, reward = super().get_outcome(current_state)\n",
    "    if reward:\n",
    "      reward*= int(np.random.uniform(size=1)[0] < self.p_reward)\n",
    "    return next_state, reward\n"
   ]
  },
  {
   "cell_type": "markdown",
   "metadata": {
    "colab_type": "text",
    "id": "0q72Sto0S2F5"
   },
   "source": [
    "---\n",
    "# Section 1: TD-learning"
   ]
  },
  {
   "cell_type": "code",
   "execution_count": 4,
   "metadata": {
    "cellView": "form",
    "colab": {
     "base_uri": "https://localhost:8080/",
     "height": 520
    },
    "colab_type": "code",
    "id": "3-im6zneSRW7",
    "outputId": "e1d1ed2d-b531-4db7-fd6a-60005f07b31e"
   },
   "outputs": [
    {
     "name": "stdout",
     "output_type": "stream",
     "text": [
      "Video available at https://youtu.be/YoNbc9M92YY\n"
     ]
    },
    {
     "data": {
      "image/jpeg": "[encoded data removed]",
      "text/html": [
       "\n",
       "        <iframe\n",
       "            width=\"854\"\n",
       "            height=\"480\"\n",
       "            src=\"https://www.youtube.com/embed/YoNbc9M92YY?fs=1\"\n",
       "            frameborder=\"0\"\n",
       "            allowfullscreen\n",
       "        ></iframe>\n",
       "        "
      ],
      "text/plain": [
       "<IPython.lib.display.YouTubeVideo at 0x7fd7b729dad0>"
      ]
     },
     "execution_count": 4,
     "metadata": {},
     "output_type": "execute_result"
    }
   ],
   "source": [
    "#@title Video 1: Introduction\n",
    "from IPython.display import YouTubeVideo\n",
    "video = YouTubeVideo(id=\"YoNbc9M92YY\", width=854, height=480, fs=1)\n",
    "print(\"Video available at https://youtu.be/\" + video.id)\n",
    "video"
   ]
  },
  {
   "cell_type": "markdown",
   "metadata": {
    "colab_type": "text",
    "id": "HB2U9wCNyaSo"
   },
   "source": [
    "__Environment:__\n",
    "\n",
    "- The agent experiences the environment in episodes or trials. \n",
    "- Episodes terminate by transitioning to the inter-trial-interval (ITI) state and they are initiated from the ITI state as well. We clamp the value of the terminal/ITI states to zero. \n",
    "- The classical conditioning environment is composed of a sequence of states that the agent deterministically transitions through. Starting at State 0, the agent moves to State 1 in the first step, from State 1 to State 2 in the second, and so on.  These states represent time in the tapped delay line representation\n",
    "- Within each episode, the agent is presented a CS and US (reward). \n",
    "- For each exercise, we use a different CS-US contingency. \n",
    "- The agent's goal is to learn to predict expected rewards from each state in the trial. \n",
    "\n",
    "\n",
    "__Definitions:__\n",
    "\n",
    "1. Returns: \n",
    "\\begin{align}\n",
    "G_{t} = r_{t+1} + \\gamma r_{t+2} + \\gamma^2 r_{t+3} + ... = \\sum \\limits_{k = 1}^{\\infty} \\gamma^{k-1} r_{t+k}\n",
    "\\end{align}\n",
    "\n",
    "2. Value: \n",
    "\\begin{align}\n",
    "V(s_{t}) = \\mathbb{E} [ G_{t} | s_{t}] = \\mathbb{E} [r_{t+1} + \\gamma V_{t+1} | s_{t}] \n",
    "\\end{align}\n",
    "\n",
    "3. TD-error:\n",
    "\\begin{align}\n",
    "\\delta_{t} = r_{t+1} + \\gamma V(s_{t+1}) - V(s_{t})\n",
    "\\end{align}\n",
    "\n",
    "4. Value updates:\n",
    "\\begin{align}\n",
    "V(s_{t}) \\leftarrow V(s_{t}) + \\alpha \\delta_{t}\n",
    "\\end{align}\n"
   ]
  },
  {
   "cell_type": "markdown",
   "metadata": {
    "colab_type": "text",
    "id": "jMwFbZ-GvLhc"
   },
   "source": [
    "## Exercise 1: TD-learning with guaranteed rewards\n",
    "   \n",
    "Implement TD-learning to estimate the state-value function in the classical-conditioning world with guaranteed rewards, with a fixed magnitude, at a fixed delay after the CS. Save TD-errors over learning so we can visualize them -- you're going to need to compute them anyway. \n",
    "\n",
    "Use the provided code to estimate the value function."
   ]
  },
  {
   "cell_type": "code",
   "execution_count": 5,
   "metadata": {
    "colab": {},
    "colab_type": "code",
    "id": "mr6FG_wFu0RD"
   },
   "outputs": [],
   "source": [
    "def td_learner(env, n_trials, gamma=0.98, alpha=0.001):\n",
    "  \"\"\" Temporal Difference learning\n",
    "\n",
    "  Args:\n",
    "    env (object): the environment to be learned\n",
    "    n_trials (int): the number of trials to run\n",
    "    gamma (float): temporal discount factor\n",
    "    alpha (float): learning rate\n",
    "  \n",
    "  Returns:\n",
    "    ndarray, ndarray: the value function and temporal difference error arrays\n",
    "  \"\"\"\n",
    "  V = np.zeros(env.n_steps) # Array to store values over states (time)\n",
    "  TDE = np.zeros((env.n_steps, n_trials)) # Array to store TD errors\n",
    "\n",
    "  for n in range(n_trials):\n",
    "    state = 0 # Initial state\n",
    "    for t in range(env.n_steps):\n",
    "      # Get next state and next reward\n",
    "      next_state, reward = env.get_outcome(state)\n",
    "      # Is the current state in the delay period (after CS)?\n",
    "      is_delay = env.state_dict[state][0]\n",
    "      \n",
    "      ########################################################################\n",
    "      ## TODO for students: implement TD error and value function update    \n",
    "      # Fill out function and remove\n",
    "      raise NotImplementedError(\"Student excercise: implement TD error and value function update\")\n",
    "      #################################################################################\n",
    "      # Write an expression to compute the TD-error\n",
    "      TDE[state, n] = ...\n",
    "\n",
    "      # Write an expression to update the value function\n",
    "      V[state] += ...\n",
    "\n",
    "      # Update state\n",
    "      state = next_state\n",
    "\n",
    "  return V, TDE\n",
    "\n",
    "\n",
    "# Uncomment once the td_learner function is complete\n",
    "# env = ClassicalConditioning(n_steps=40, reward_magnitude=10, reward_time=10)\n",
    "# V, TDE = td_learner(env, n_trials=20000)\n",
    "# learning_summary_plot(V, TDE)"
   ]
  },
  {
   "cell_type": "markdown",
   "metadata": {
    "colab": {
     "base_uri": "https://localhost:8080/",
     "height": 430
    },
    "colab_type": "text",
    "id": "byxMuD1LxTVc",
    "outputId": "53321aa6-9fb1-41d5-a25b-e01760a022f2"
   },
   "source": [
    "[*Click for solution*](https://github.com/NeuromatchAcademy/course-content/tree/master//tutorials/W2D5_ReinforcementLearning/solutions/W2D5_Tutorial1_Solution_0d9c50de.py)\n",
    "\n",
    "*Example output:*\n",
    "\n",
    "<img alt='Solution hint' align='left' width=558 height=414 src=https://raw.githubusercontent.com/NeuromatchAcademy/course-content/master/tutorials/W2D5_ReinforcementLearning/static/W2D5_Tutorial1_Solution_0d9c50de_0.png>\n",
    "\n"
   ]
  },
  {
   "cell_type": "markdown",
   "metadata": {
    "colab_type": "text",
    "id": "ROKwAo1FKAqe"
   },
   "source": [
    "## Interactive Demo: US to CS Transfer \n",
    "\n",
    "During classical conditioning, the subject's behavioral response (e.g., salivating) transfers from the unconditioned stimulus (US) (e.g., the smell of tasty food) to the conditioned stimulus (CS) that predicts it. Reward prediction errors play an important role in this process by adjusting the value of states according to their expected, discounted return.\n",
    "\n",
    "Use the widget below to examine how reward prediction errors change over time. Before training (orange line), only the reward state has high reward prediction error. As training progresses (blue line, slider), the reward prediction errors shift to the conditioned stimulus, where they end up when the trial is complete (green line). \n",
    "\n",
    "Dopamine neurons, which are thought to carry reward prediction errors _in vivo_, show exactly the same behavior!\n"
   ]
  },
  {
   "cell_type": "code",
   "execution_count": 7,
   "metadata": {
    "cellView": "form",
    "colab": {
     "base_uri": "https://localhost:8080/",
     "height": 462,
     "referenced_widgets": [
      "5c8b7436613b4c30827a65ea0ab609a4",
      "504ca90431c84a97a54eeb8c2479a8e8",
      "9954166929f34deaa1cbde59a9830197",
      "47e54f77a84540c2bd6fb6a80c56ceac",
      "2f2cc6561555449cb1b779bac7971873",
      "05b98f3cf2014ad6be0b14fdce121e78",
      "ee69ebc9a1564843b9fc65e38bf3f7a6"
     ]
    },
    "colab_type": "code",
    "id": "2UwSevZG82-M",
    "outputId": "cfbf4fd5-2099-4f36-fa34-76677ddabe29"
   },
   "outputs": [
    {
     "data": {
      "image/png": "[encoded data removed]",
      "text/plain": [
       "<Figure size 576x432 with 1 Axes>"
      ]
     },
     "metadata": {
      "image/png": {
       "height": 413,
       "width": 558
      },
      "needs_background": "light"
     },
     "output_type": "display_data"
    }
   ],
   "source": [
    "#@title \n",
    "\n",
    "#@markdown Make sure you execute this cell to enable the widget!\n",
    "\n",
    "n_trials = 20000\n",
    "\n",
    "@widgets.interact\n",
    "def plot_tde_by_trial(trial = widgets.IntSlider(value=5000, min=0, max=n_trials-1 , step=1, description=\"Trial #\")):\n",
    "  if 'TDE' not in globals():\n",
    "    print(\"Complete Exercise 1 to enable this interactive demo!\")\n",
    "  else:\n",
    "\n",
    "    fig, ax = plt.subplots()\n",
    "    ax.axhline(0, color='k') # Use this + basefmt=' ' to keep the legend clean.\n",
    "    ax.stem(TDE[:, 0], linefmt='C1-', markerfmt='C1d', basefmt=' ', \n",
    "            label=\"Before Learning (Trial 0)\",\n",
    "            use_line_collection=True)\n",
    "    ax.stem(TDE[:, -1], linefmt='C2-', markerfmt='C2s', basefmt=' ', \n",
    "            label=\"After Learning (Trial $\\infty$)\",\n",
    "            use_line_collection=True)\n",
    "    ax.stem(TDE[:, trial], linefmt='C0-', markerfmt='C0o', basefmt=' ', \n",
    "            label=f\"Trial {trial}\",\n",
    "            use_line_collection=True)\n",
    "    \n",
    "    ax.set_xlabel(\"State in trial\")\n",
    "    ax.set_ylabel(\"TD Error\")\n",
    "    ax.set_title(\"Temporal Difference Error by Trial\")\n",
    "    ax.legend()"
   ]
  },
  {
   "cell_type": "markdown",
   "metadata": {
    "colab_type": "text",
    "id": "XZd8QkhKcHBQ"
   },
   "source": [
    "## Interactive Demo: Learning Rates and Discount Factors\n",
    "\n",
    "Our TD-learning agent has two parameters that control how it learns: $\\alpha$, the learning rate, and $\\gamma$, the discount factor. In Exercise 1, we set these parameters to $\\alpha=0.001$ and $\\gamma=0.98$ for you. Here, you'll investigate how changing these parameters alters the model that TD-learning learns.\n",
    "\n",
    "Before enabling the interactive demo below, take a moment to think about the functions of these two parameters. $\\alpha$ controls the size of the Value function updates produced by each TD-error. In our simple, deterministic world, will this affect the final model we learn? Is a larger $\\alpha$ necessarily better in more complex, realistic environments?\n",
    "\n",
    "The discount rate $\\gamma$ applies an exponentially-decaying weight to returns occuring in the future, rather than the present timestep. How does this affect the model we learn? What happens when $\\gamma=0$ or $\\gamma \\geq 1$?\n",
    "\n",
    "\n"
   ]
  },
  {
   "cell_type": "code",
   "execution_count": 8,
   "metadata": {
    "cellView": "form",
    "colab": {
     "base_uri": "https://localhost:8080/",
     "height": 495,
     "referenced_widgets": [
      "2d6c1e7addf5431bbaea3f8c4baf051f",
      "2819127624a04f9f81ad0c462ffb49bf",
      "e3c9c9f36dbb4163a831888760a37f78",
      "32c1bf4e32354a0399781a24b77c4ede",
      "7b2c5fe1d7694da3967afabf3333000c",
      "8f86ec238df44b88bdd821aa481ddcfb",
      "0ecb8018857644e2a05ebf5ce176b16b",
      "c9f135bf16964d9c82cff1e652285dfc",
      "ed8c91b281654fb6a2b8bc9e144df1e1",
      "0afbe12f96d34cd68d1290c2e9fe4b05"
     ]
    },
    "colab_type": "code",
    "id": "C_9pB-UhkfHy",
    "outputId": "b08d436c-d276-406c-88d4-bd3e333fd95f"
   },
   "outputs": [
    {
     "data": {
      "image/png": "[encoded data removed]",
      "text/plain": [
       "<Figure size 576x432 with 3 Axes>"
      ]
     },
     "metadata": {
      "image/png": {
       "height": 414,
       "width": 558
      },
      "needs_background": "light"
     },
     "output_type": "display_data"
    }
   ],
   "source": [
    "#@title \n",
    "\n",
    "#@markdown Make sure you execute this cell to enable the widget!\n",
    "\n",
    "@widgets.interact\n",
    "def plot_summary_alpha_gamma(alpha = widgets.FloatSlider(value=0.0001, min=0.001, max=0.1, step=0.0001, description=\"alpha\"),\n",
    "                             gamma = widgets.FloatSlider(value=0.980, min=0, max=1.1, step=0.010, description=\"gamma\")):\n",
    "  env = ClassicalConditioning(n_steps=40, reward_magnitude=10, reward_time=10) \n",
    "  try:\n",
    "    V_params, TDE_params = td_learner(env, n_trials=20000, gamma=gamma, alpha=alpha)\n",
    "  except NotImplementedError:\n",
    "    print(\"Finish Exercise 1 to enable this interactive demo\")\n",
    "  \n",
    "  learning_summary_plot(V_params,TDE_params)\n",
    "\n"
   ]
  },
  {
   "cell_type": "markdown",
   "metadata": {
    "colab": {},
    "colab_type": "text",
    "id": "fSoRYk0DiAQA"
   },
   "source": [
    "[*Click for solution*](https://github.com/NeuromatchAcademy/course-content/tree/master//tutorials/W2D5_ReinforcementLearning/solutions/W2D5_Tutorial1_Solution_12ce49be.py)\n",
    "\n"
   ]
  },
  {
   "cell_type": "markdown",
   "metadata": {
    "colab_type": "text",
    "id": "Eruos0VKGaG1"
   },
   "source": [
    "---\n",
    "# Section 2: TD-learning with varying reward magnitudes\n",
    "\n",
    "In the previous exercise, the environment was as simple as possible. On every trial, the CS predicted the same reward, at the same time, with 100% certainty. In the next few exercises, we will make the environment more progressively more complicated and examine the TD-learner's behavior. \n"
   ]
  },
  {
   "cell_type": "markdown",
   "metadata": {
    "colab_type": "text",
    "id": "d7jLqcoQtnLW"
   },
   "source": [
    "## Interactive Demo: Match the Value Functions\n",
    "\n",
    "First, will replace the environment with one that dispenses multiple rewards. Shown below is the final value function $V$ for a TD learner that was trained in an enviroment where the CS predicted rewards of 6 or 14 units (both equally likely). Can you find another pair of rewards, both equally likely, that exactly match this value function? \n",
    "\n",
    "Hints:\n",
    "* Carefully consider the definition of the value function $V$. This can be solved analytically.\n",
    "* There is no need to change $\\alpha$ or $\\gamma$. \n",
    "* Due to the randomness, there may be a small amount of variation."
   ]
  },
  {
   "cell_type": "code",
   "execution_count": 10,
   "metadata": {
    "cellView": "form",
    "colab": {
     "base_uri": "https://localhost:8080/",
     "height": 497,
     "referenced_widgets": [
      "6f23d691d41b4bc297b1e01744ba1d81",
      "3de4c528abee40baa1697897c9032b72",
      "f3ae553f5930410b879f205b24dede48",
      "16b856ce3e724325a1298df041b370f2",
      "1740ef37b7044490a3184a0a0651f93d",
      "41f3c71db34c4284a92a5263d464f1fc",
      "e6bd0676ec65445ab722eab09fece981",
      "53b1cf60abdd4e40bf502785c93a27bd",
      "0e41665b23e8480a8429b8852d54c6cb",
      "852d011bdaf2463f8c777b31d3a5566a"
     ]
    },
    "colab_type": "code",
    "id": "ebkTe4kbHImq",
    "outputId": "241d61e7-bdf2-4e71-8a99-d981f3e4864b"
   },
   "outputs": [
    {
     "data": {
      "image/png": "[encoded data removed]",
      "text/plain": [
       "<Figure size 576x432 with 1 Axes>"
      ]
     },
     "metadata": {
      "image/png": {
       "height": 413,
       "width": 558
      },
      "needs_background": "light"
     },
     "output_type": "display_data"
    }
   ],
   "source": [
    "#@title \n",
    "\n",
    "#@markdown Make sure you execute this cell to enable the widget!\n",
    "\n",
    "n_trials = 20000\n",
    "rng_state = np.random.get_state()\n",
    "env = MultiRewardCC(40, [6, 14], reward_time=10)\n",
    "V_multi, TDE_multi = td_learner(env, n_trials, gamma=0.98, alpha=0.001)\n",
    "\n",
    "@widgets.interact\n",
    "def reward_guesser_interaction(r1 = widgets.IntText(value=0,  description=\"Reward 1\"),\n",
    "                               r2 = widgets.IntText(value=0, description=\"Reward 2\")):                   \n",
    "  try:\n",
    "    env2 = MultiRewardCC(40, [r1, r2], reward_time=10)\n",
    "    V_guess, _ = td_learner(env2, n_trials, gamma=0.98, alpha=0.001)\n",
    "    fig, ax = plt.subplots()\n",
    "    m, l, _ = ax.stem(V_multi, linefmt='y-', markerfmt='yo', basefmt=' ', label=\"Target\", \n",
    "            use_line_collection=True)\n",
    "    m.set_markersize(15)\n",
    "    m.set_markerfacecolor('none')\n",
    "    l.set_linewidth(4)\n",
    "    m, _, _ = ax.stem(V_guess, linefmt='r', markerfmt='rx', basefmt=' ', label=\"Guess\",\n",
    "                      use_line_collection=True)\n",
    "    m.set_markersize(15)\n",
    "\n",
    "    ax.set_xlabel(\"State\")\n",
    "    ax.set_ylabel(\"Value\")\n",
    "    ax.set_title(\"Guess V(s)\\n\" + reward_guesser_title_hint(r1, r2))\n",
    "    ax.legend()\n",
    "  except NotImplementedError:\n",
    "    print(\"Please finish Exercise 1 first!\")"
   ]
  },
  {
   "cell_type": "markdown",
   "metadata": {
    "colab_type": "text",
    "id": "MYPXCECE2w1G"
   },
   "source": [
    "## Section 2.1 Examining the TD Error\n",
    "\n",
    "Run the cell below to plot the TD errors from our multi-reward environment. A new feature appears in this plot? What is it? Why does it happen?"
   ]
  },
  {
   "cell_type": "code",
   "execution_count": 11,
   "metadata": {
    "colab": {
     "base_uri": "https://localhost:8080/",
     "height": 421
    },
    "colab_type": "code",
    "id": "TlCisR8rHK43",
    "outputId": "f3c0de88-65c5-4229-940d-bfee0be0b551"
   },
   "outputs": [
    {
     "data": {
      "image/png": "[encoded data removed]",
      "text/plain": [
       "<Figure size 576x432 with 2 Axes>"
      ]
     },
     "metadata": {
      "image/png": {
       "height": 404,
       "width": 540
      },
      "needs_background": "light"
     },
     "output_type": "display_data"
    }
   ],
   "source": [
    "plot_tde_trace(TDE_multi)"
   ]
  },
  {
   "cell_type": "markdown",
   "metadata": {
    "colab": {},
    "colab_type": "text",
    "id": "cgKx5wTk3hy-"
   },
   "source": [
    "[*Click for solution*](https://github.com/NeuromatchAcademy/course-content/tree/master//tutorials/W2D5_ReinforcementLearning/solutions/W2D5_Tutorial1_Solution_dea47c05.py)\n",
    "\n"
   ]
  },
  {
   "cell_type": "markdown",
   "metadata": {
    "colab_type": "text",
    "id": "4Gi7Q1AFGeTU"
   },
   "source": [
    "---\n",
    "# Section 3: TD-learning with probabilistic rewards\n",
    "\n",
    "In this environment, we'll return to delivering a single reward of ten units. However, it will be delivered intermittently: on 20 percent of trials, the CS will be shown but the agent will not receive the usual reward; the remaining 80% will proceed as usual.\n",
    "\n",
    " Run the cell below to simulate. How does this compare with the previous experiment?\n",
    "\n",
    "Earlier in the notebook, we saw that changing $\\alpha$ had little effect on learning in a deterministic environment. What happens if you set it to an large value, like 1, in this noisier scenario? Does it seem like it will _ever_ converge?"
   ]
  },
  {
   "cell_type": "code",
   "execution_count": 13,
   "metadata": {
    "colab": {
     "base_uri": "https://localhost:8080/",
     "height": 430
    },
    "colab_type": "code",
    "id": "LSn9SKRzLZ1t",
    "outputId": "073c2fcf-68a0-4dad-baea-a5709f7d2baa"
   },
   "outputs": [
    {
     "data": {
      "image/png": "[encoded data removed]",
      "text/plain": [
       "<Figure size 576x432 with 3 Axes>"
      ]
     },
     "metadata": {
      "image/png": {
       "height": 414,
       "width": 558
      },
      "needs_background": "light"
     },
     "output_type": "display_data"
    }
   ],
   "source": [
    "np.random.set_state(rng_state) # Resynchronize everyone's notebooks\n",
    "n_trials = 20000\n",
    "try:\n",
    "  env = ProbabilisticCC(n_steps=40, reward_magnitude=10, reward_time=10, \n",
    "                        p_reward=0.8)\n",
    "  V_stochastic, TDE_stochastic = td_learner(env, n_trials*2, alpha=1)\n",
    "  learning_summary_plot(V_stochastic, TDE_stochastic)\n",
    "except NotImplementedError: \n",
    "  print(\"Please finish Exercise 1 first\")"
   ]
  },
  {
   "cell_type": "markdown",
   "metadata": {
    "colab": {},
    "colab_type": "text",
    "id": "Q6gf1HdZ9rFw"
   },
   "source": [
    "[*Click for solution*](https://github.com/NeuromatchAcademy/course-content/tree/master//tutorials/W2D5_ReinforcementLearning/solutions/W2D5_Tutorial1_Solution_7e8f30a0.py)\n",
    "\n"
   ]
  },
  {
   "cell_type": "markdown",
   "metadata": {
    "colab_type": "text",
    "id": "CTABhuUPuoEW"
   },
   "source": [
    "---\n",
    "# Summary\n",
    "\n",
    "In this notebook, we have developed a simple TD Learner and examined how its state representations and reward prediction errors evolve during training. By manipualting its environment and parameters ($\\alpha$, $\\gamma$), you developed an intuition for how it behaves.\n",
    "\n",
    "This simple model closely resembles the behavior of subjects undergoing classical conditioning tasks and the dopamine neurons that may underlie that behavior. You may have implemented TD-reset or used the model to recreate a common experimental error. The update rule used here has been extensively studied for [more than 70 years](https://www.pnas.org/content/108/Supplement_3/15647) as a possible explanation for artificial and biological learning. \n",
    "\n",
    "However, you may have noticed that something is missing from this notebook. We carefully calculated the value of each state, but did not use it to actually do anything. Using values to plan _**Actions**_ is coming up next!"
   ]
  },
  {
   "cell_type": "markdown",
   "metadata": {
    "colab_type": "text",
    "id": "vk8qckyuTK0O"
   },
   "source": [
    "# Bonus"
   ]
  },
  {
   "cell_type": "markdown",
   "metadata": {
    "colab_type": "text",
    "id": "s0IQkuPayaS5"
   },
   "source": [
    "## Exercise 2: TD-reset \n",
    "\n",
    "In this exercise we will implement a commonly used heuristic used in modeling activity of dopamine neurons, TD-reset. \n",
    "Implement TD-learning as in previous exercises, but set TD-error to zero on all steps after reward (US). \n",
    "\n",
    "1. Plot value function and TD-errors. \n",
    "2. Can you explain how the reset is changing the TD-errors and value function?"
   ]
  },
  {
   "cell_type": "code",
   "execution_count": 15,
   "metadata": {
    "colab": {},
    "colab_type": "code",
    "id": "Ni9r7_csLwQr"
   },
   "outputs": [],
   "source": [
    "def td_reset_learner(env, n_trials, alpha=0.25, gamma=0.98):\n",
    "  \"\"\" Temporal Difference learning with the TD-reset update rule\n",
    "\n",
    "  Args:\n",
    "    env (object): the environment to be learned\n",
    "    n_trials (int): the number of trials to run\n",
    "    gamma (float): temporal discount factor\n",
    "    alpha (float): learning rate\n",
    "  \n",
    "  Returns:\n",
    "    ndarray, ndarray: the value function and temporal difference error arrays\n",
    "  \"\"\"\n",
    "  V = np.zeros(env.n_steps)\n",
    "  TDE_reset = np.zeros((env.n_steps, n_trials))\n",
    "\n",
    "  for n in range(n_trials):\n",
    "    state = 0\n",
    "    reset = False\n",
    "    \n",
    "    for t in range(env.n_steps):\n",
    "      next_state, reward = env.get_outcome(state)\n",
    "      is_delay  = env.state_dict[state][0]\n",
    "      \n",
    "      ########################################################################\n",
    "      ## TODO for students: implement TD learning with the TD-reset update rule\n",
    "      # Fill out function and remove\n",
    "      raise NotImplementedError(\"Student excercise: implement TD learning with the TD-reset update rule\")\n",
    "      ########################################################################\n",
    "      # Write an expression to compute the TD-error using the TD-reset rule\n",
    "      if reset:\n",
    "        TDE_reset[state] = ...\n",
    "      else:\n",
    "        TDE_reset[state] = ...\n",
    "      \n",
    "      # Set reset flag if we receive a reward > 0\n",
    "      if reward > 0:\n",
    "        reset = True\n",
    "\n",
    "      # Write an expression to update the value function\n",
    "      V[state] += ...\n",
    "      \n",
    "      # Update state\n",
    "      state = next_state\n",
    "\n",
    "  return V, TDE_reset\n",
    "\n",
    "# Uncomment these two lines to visualize your results\n",
    "# env = ProbabilisticCC(n_steps=40, reward_magnitude=10, reward_time=10, \n",
    "#                       p_reward=0.8)\n",
    "# V_reset, TDE_reset = td_reset_learner(env, n_trials=20000)\n",
    "# learning_summary_plot(V_reset, TDE_reset)"
   ]
  },
  {
   "cell_type": "markdown",
   "metadata": {
    "colab": {
     "base_uri": "https://localhost:8080/",
     "height": 430
    },
    "colab_type": "text",
    "id": "gjtFVHslLyMb",
    "outputId": "e0add78d-18d2-4ccc-da64-91b1b8d4677e"
   },
   "source": [
    "[*Click for solution*](https://github.com/NeuromatchAcademy/course-content/tree/master//tutorials/W2D5_ReinforcementLearning/solutions/W2D5_Tutorial1_Solution_8259b30c.py)\n",
    "\n",
    "*Example output:*\n",
    "\n",
    "<img alt='Solution hint' align='left' width=558 height=414 src=https://raw.githubusercontent.com/NeuromatchAcademy/course-content/master/tutorials/W2D5_ReinforcementLearning/static/W2D5_Tutorial1_Solution_8259b30c_0.png>\n",
    "\n"
   ]
  },
  {
   "cell_type": "markdown",
   "metadata": {
    "colab_type": "text",
    "id": "4KpOTPk_JT1l"
   },
   "source": [
    "## Exercise 3: Removing the CS\n",
    "\n",
    "In Exercise 1, you (should have) included a term that depends on the conditioned stimulus. Remove it and see what happens. Do you understand why?\n",
    "This phenomena often fools people attempting to train animals--beware!"
   ]
  },
  {
   "cell_type": "markdown",
   "metadata": {
    "colab": {},
    "colab_type": "text",
    "id": "gFQBlEkAJzOx"
   },
   "source": [
    "[*Click for solution*](https://github.com/NeuromatchAcademy/course-content/tree/master//tutorials/W2D5_ReinforcementLearning/solutions/W2D5_Tutorial1_Solution_848b4860.py)\n",
    "\n"
   ]
  }
 ],
 "metadata": {
  "colab": {
   "collapsed_sections": [],
   "name": "NeuromatchAcademy_W2D5_Tutorial1",
   "provenance": [],
   "toc_visible": true
  },
  "kernelspec": {
   "display_name": "Python 3",
   "language": "python",
   "name": "python3"
  },
  "language_info": {
   "codemirror_mode": {
    "name": "ipython",
    "version": 3
   },
   "file_extension": ".py",
   "mimetype": "text/x-python",
   "name": "python",
   "nbconvert_exporter": "python",
   "pygments_lexer": "ipython3",
   "version": "3.7.8"
  },
  "widgets": {
   "application/vnd.jupyter.widget-state+json": {
    "state": {
     "00038984602b45a1b49301b0075eb29d": {
      "model_module": "@jupyter-widgets/base",
      "model_module_version": "1.2.0",
      "model_name": "LayoutModel",
      "state": {
       "_model_module": "@jupyter-widgets/base",
       "_model_module_version": "1.2.0",
       "_model_name": "LayoutModel",
       "_view_count": null,
       "_view_module": "@jupyter-widgets/base",
       "_view_module_version": "1.2.0",
       "_view_name": "LayoutView",
       "align_content": null,
       "align_items": null,
       "align_self": null,
       "border": null,
       "bottom": null,
       "display": null,
       "flex": null,
       "flex_flow": null,
       "grid_area": null,
       "grid_auto_columns": null,
       "grid_auto_flow": null,
       "grid_auto_rows": null,
       "grid_column": null,
       "grid_gap": null,
       "grid_row": null,
       "grid_template_areas": null,
       "grid_template_columns": null,
       "grid_template_rows": null,
       "height": null,
       "justify_content": null,
       "justify_items": null,
       "left": null,
       "margin": null,
       "max_height": null,
       "max_width": null,
       "min_height": null,
       "min_width": null,
       "object_fit": null,
       "object_position": null,
       "order": null,
       "overflow": null,
       "overflow_x": null,
       "overflow_y": null,
       "padding": null,
       "right": null,
       "top": null,
       "visibility": null,
       "width": null
      }
     },
     "07c563fbed434600ab27fe5942f9de80": {
      "model_module": "@jupyter-widgets/base",
      "model_module_version": "1.2.0",
      "model_name": "LayoutModel",
      "state": {
       "_model_module": "@jupyter-widgets/base",
       "_model_module_version": "1.2.0",
       "_model_name": "LayoutModel",
       "_view_count": null,
       "_view_module": "@jupyter-widgets/base",
       "_view_module_version": "1.2.0",
       "_view_name": "LayoutView",
       "align_content": null,
       "align_items": null,
       "align_self": null,
       "border": null,
       "bottom": null,
       "display": null,
       "flex": null,
       "flex_flow": null,
       "grid_area": null,
       "grid_auto_columns": null,
       "grid_auto_flow": null,
       "grid_auto_rows": null,
       "grid_column": null,
       "grid_gap": null,
       "grid_row": null,
       "grid_template_areas": null,
       "grid_template_columns": null,
       "grid_template_rows": null,
       "height": null,
       "justify_content": null,
       "justify_items": null,
       "left": null,
       "margin": null,
       "max_height": null,
       "max_width": null,
       "min_height": null,
       "min_width": null,
       "object_fit": null,
       "object_position": null,
       "order": null,
       "overflow": null,
       "overflow_x": null,
       "overflow_y": null,
       "padding": null,
       "right": null,
       "top": null,
       "visibility": null,
       "width": null
      }
     },
     "1bf423a59568491b894b885f0bc8b25f": {
      "model_module": "@jupyter-widgets/base",
      "model_module_version": "1.2.0",
      "model_name": "LayoutModel",
      "state": {
       "_model_module": "@jupyter-widgets/base",
       "_model_module_version": "1.2.0",
       "_model_name": "LayoutModel",
       "_view_count": null,
       "_view_module": "@jupyter-widgets/base",
       "_view_module_version": "1.2.0",
       "_view_name": "LayoutView",
       "align_content": null,
       "align_items": null,
       "align_self": null,
       "border": null,
       "bottom": null,
       "display": null,
       "flex": null,
       "flex_flow": null,
       "grid_area": null,
       "grid_auto_columns": null,
       "grid_auto_flow": null,
       "grid_auto_rows": null,
       "grid_column": null,
       "grid_gap": null,
       "grid_row": null,
       "grid_template_areas": null,
       "grid_template_columns": null,
       "grid_template_rows": null,
       "height": null,
       "justify_content": null,
       "justify_items": null,
       "left": null,
       "margin": null,
       "max_height": null,
       "max_width": null,
       "min_height": null,
       "min_width": null,
       "object_fit": null,
       "object_position": null,
       "order": null,
       "overflow": null,
       "overflow_x": null,
       "overflow_y": null,
       "padding": null,
       "right": null,
       "top": null,
       "visibility": null,
       "width": null
      }
     },
     "1c8e0a341ead41dd90c59db55b6c20d3": {
      "model_module": "@jupyter-widgets/controls",
      "model_module_version": "1.5.0",
      "model_name": "DescriptionStyleModel",
      "state": {
       "_model_module": "@jupyter-widgets/controls",
       "_model_module_version": "1.5.0",
       "_model_name": "DescriptionStyleModel",
       "_view_count": null,
       "_view_module": "@jupyter-widgets/base",
       "_view_module_version": "1.2.0",
       "_view_name": "StyleView",
       "description_width": ""
      }
     },
     "1cac97ea9c334d19a2041d117d989d93": {
      "model_module": "@jupyter-widgets/controls",
      "model_module_version": "1.5.0",
      "model_name": "FloatSliderModel",
      "state": {
       "_dom_classes": [],
       "_model_module": "@jupyter-widgets/controls",
       "_model_module_version": "1.5.0",
       "_model_name": "FloatSliderModel",
       "_view_count": null,
       "_view_module": "@jupyter-widgets/controls",
       "_view_module_version": "1.5.0",
       "_view_name": "FloatSliderView",
       "continuous_update": true,
       "description": "gamma",
       "description_tooltip": null,
       "disabled": false,
       "layout": "IPY_MODEL_1bf423a59568491b894b885f0bc8b25f",
       "max": 1.1,
       "min": 0.0,
       "orientation": "horizontal",
       "readout": true,
       "readout_format": ".2f",
       "step": 0.01,
       "style": "IPY_MODEL_a002b17d34a74d68873806182ab81bcf",
       "value": 0.98
      }
     },
     "1f0e8202743140a7854eb9a9b84962ff": {
      "model_module": "@jupyter-widgets/controls",
      "model_module_version": "1.5.0",
      "model_name": "SliderStyleModel",
      "state": {
       "_model_module": "@jupyter-widgets/controls",
       "_model_module_version": "1.5.0",
       "_model_name": "SliderStyleModel",
       "_view_count": null,
       "_view_module": "@jupyter-widgets/base",
       "_view_module_version": "1.2.0",
       "_view_name": "StyleView",
       "description_width": "",
       "handle_color": null
      }
     },
     "23ea779a511a403082563e3dfc0fcd96": {
      "model_module": "@jupyter-widgets/base",
      "model_module_version": "1.2.0",
      "model_name": "LayoutModel",
      "state": {
       "_model_module": "@jupyter-widgets/base",
       "_model_module_version": "1.2.0",
       "_model_name": "LayoutModel",
       "_view_count": null,
       "_view_module": "@jupyter-widgets/base",
       "_view_module_version": "1.2.0",
       "_view_name": "LayoutView",
       "align_content": null,
       "align_items": null,
       "align_self": null,
       "border": null,
       "bottom": null,
       "display": null,
       "flex": null,
       "flex_flow": null,
       "grid_area": null,
       "grid_auto_columns": null,
       "grid_auto_flow": null,
       "grid_auto_rows": null,
       "grid_column": null,
       "grid_gap": null,
       "grid_row": null,
       "grid_template_areas": null,
       "grid_template_columns": null,
       "grid_template_rows": null,
       "height": null,
       "justify_content": null,
       "justify_items": null,
       "left": null,
       "margin": null,
       "max_height": null,
       "max_width": null,
       "min_height": null,
       "min_width": null,
       "object_fit": null,
       "object_position": null,
       "order": null,
       "overflow": null,
       "overflow_x": null,
       "overflow_y": null,
       "padding": null,
       "right": null,
       "top": null,
       "visibility": null,
       "width": null
      }
     },
     "30f045cbdfa64553ac384463d0a95f74": {
      "model_module": "@jupyter-widgets/controls",
      "model_module_version": "1.5.0",
      "model_name": "VBoxModel",
      "state": {
       "_dom_classes": [
        "widget-interact"
       ],
       "_model_module": "@jupyter-widgets/controls",
       "_model_module_version": "1.5.0",
       "_model_name": "VBoxModel",
       "_view_count": null,
       "_view_module": "@jupyter-widgets/controls",
       "_view_module_version": "1.5.0",
       "_view_name": "VBoxView",
       "box_style": "",
       "children": [
        "IPY_MODEL_6b2f34c1c09e4547b575f1a94750e720",
        "IPY_MODEL_1cac97ea9c334d19a2041d117d989d93",
        "IPY_MODEL_41411e82cd4a40bdbde7d8973a4d0cf8"
       ],
       "layout": "IPY_MODEL_cd189b3da3b840ad967aa46e6fb0c8f0"
      }
     },
     "3df283363a6f4d01b7fa21cbf0468002": {
      "model_module": "@jupyter-widgets/base",
      "model_module_version": "1.2.0",
      "model_name": "LayoutModel",
      "state": {
       "_model_module": "@jupyter-widgets/base",
       "_model_module_version": "1.2.0",
       "_model_name": "LayoutModel",
       "_view_count": null,
       "_view_module": "@jupyter-widgets/base",
       "_view_module_version": "1.2.0",
       "_view_name": "LayoutView",
       "align_content": null,
       "align_items": null,
       "align_self": null,
       "border": null,
       "bottom": null,
       "display": null,
       "flex": null,
       "flex_flow": null,
       "grid_area": null,
       "grid_auto_columns": null,
       "grid_auto_flow": null,
       "grid_auto_rows": null,
       "grid_column": null,
       "grid_gap": null,
       "grid_row": null,
       "grid_template_areas": null,
       "grid_template_columns": null,
       "grid_template_rows": null,
       "height": null,
       "justify_content": null,
       "justify_items": null,
       "left": null,
       "margin": null,
       "max_height": null,
       "max_width": null,
       "min_height": null,
       "min_width": null,
       "object_fit": null,
       "object_position": null,
       "order": null,
       "overflow": null,
       "overflow_x": null,
       "overflow_y": null,
       "padding": null,
       "right": null,
       "top": null,
       "visibility": null,
       "width": null
      }
     },
     "41411e82cd4a40bdbde7d8973a4d0cf8": {
      "model_module": "@jupyter-widgets/output",
      "model_module_version": "1.0.0",
      "model_name": "OutputModel",
      "state": {
       "_dom_classes": [],
       "_model_module": "@jupyter-widgets/output",
       "_model_module_version": "1.0.0",
       "_model_name": "OutputModel",
       "_view_count": null,
       "_view_module": "@jupyter-widgets/output",
       "_view_module_version": "1.0.0",
       "_view_name": "OutputView",
       "layout": "IPY_MODEL_00038984602b45a1b49301b0075eb29d",
       "msg_id": "",
       "outputs": []
      }
     },
     "472c6fdf287348118ea695a5388bb3c0": {
      "model_module": "@jupyter-widgets/controls",
      "model_module_version": "1.5.0",
      "model_name": "IntSliderModel",
      "state": {
       "_dom_classes": [],
       "_model_module": "@jupyter-widgets/controls",
       "_model_module_version": "1.5.0",
       "_model_name": "IntSliderModel",
       "_view_count": null,
       "_view_module": "@jupyter-widgets/controls",
       "_view_module_version": "1.5.0",
       "_view_name": "IntSliderView",
       "continuous_update": true,
       "description": "Trial #",
       "description_tooltip": null,
       "disabled": false,
       "layout": "IPY_MODEL_3df283363a6f4d01b7fa21cbf0468002",
       "max": 19999,
       "min": 0,
       "orientation": "horizontal",
       "readout": true,
       "readout_format": "d",
       "step": 1,
       "style": "IPY_MODEL_1f0e8202743140a7854eb9a9b84962ff",
       "value": 5000
      }
     },
     "502f2ccc05854c5ebe4a7992bae643c0": {
      "model_module": "@jupyter-widgets/controls",
      "model_module_version": "1.5.0",
      "model_name": "VBoxModel",
      "state": {
       "_dom_classes": [
        "widget-interact"
       ],
       "_model_module": "@jupyter-widgets/controls",
       "_model_module_version": "1.5.0",
       "_model_name": "VBoxModel",
       "_view_count": null,
       "_view_module": "@jupyter-widgets/controls",
       "_view_module_version": "1.5.0",
       "_view_name": "VBoxView",
       "box_style": "",
       "children": [
        "IPY_MODEL_472c6fdf287348118ea695a5388bb3c0",
        "IPY_MODEL_919ce3a39f1e4d929c08c4eddbede0b5"
       ],
       "layout": "IPY_MODEL_6fd70efd0f644893bb661ed3142499a5"
      }
     },
     "51fb1ff84f2f4aedb227d548440a240a": {
      "model_module": "@jupyter-widgets/base",
      "model_module_version": "1.2.0",
      "model_name": "LayoutModel",
      "state": {
       "_model_module": "@jupyter-widgets/base",
       "_model_module_version": "1.2.0",
       "_model_name": "LayoutModel",
       "_view_count": null,
       "_view_module": "@jupyter-widgets/base",
       "_view_module_version": "1.2.0",
       "_view_name": "LayoutView",
       "align_content": null,
       "align_items": null,
       "align_self": null,
       "border": null,
       "bottom": null,
       "display": null,
       "flex": null,
       "flex_flow": null,
       "grid_area": null,
       "grid_auto_columns": null,
       "grid_auto_flow": null,
       "grid_auto_rows": null,
       "grid_column": null,
       "grid_gap": null,
       "grid_row": null,
       "grid_template_areas": null,
       "grid_template_columns": null,
       "grid_template_rows": null,
       "height": null,
       "justify_content": null,
       "justify_items": null,
       "left": null,
       "margin": null,
       "max_height": null,
       "max_width": null,
       "min_height": null,
       "min_width": null,
       "object_fit": null,
       "object_position": null,
       "order": null,
       "overflow": null,
       "overflow_x": null,
       "overflow_y": null,
       "padding": null,
       "right": null,
       "top": null,
       "visibility": null,
       "width": null
      }
     },
     "57f3726c2e3446698404255e29856f3d": {
      "model_module": "@jupyter-widgets/controls",
      "model_module_version": "1.5.0",
      "model_name": "SliderStyleModel",
      "state": {
       "_model_module": "@jupyter-widgets/controls",
       "_model_module_version": "1.5.0",
       "_model_name": "SliderStyleModel",
       "_view_count": null,
       "_view_module": "@jupyter-widgets/base",
       "_view_module_version": "1.2.0",
       "_view_name": "StyleView",
       "description_width": "",
       "handle_color": null
      }
     },
     "6b2f34c1c09e4547b575f1a94750e720": {
      "model_module": "@jupyter-widgets/controls",
      "model_module_version": "1.5.0",
      "model_name": "FloatSliderModel",
      "state": {
       "_dom_classes": [],
       "_model_module": "@jupyter-widgets/controls",
       "_model_module_version": "1.5.0",
       "_model_name": "FloatSliderModel",
       "_view_count": null,
       "_view_module": "@jupyter-widgets/controls",
       "_view_module_version": "1.5.0",
       "_view_name": "FloatSliderView",
       "continuous_update": true,
       "description": "alpha",
       "description_tooltip": null,
       "disabled": false,
       "layout": "IPY_MODEL_23ea779a511a403082563e3dfc0fcd96",
       "max": 0.1,
       "min": 0.001,
       "orientation": "horizontal",
       "readout": true,
       "readout_format": ".2f",
       "step": 0.0001,
       "style": "IPY_MODEL_57f3726c2e3446698404255e29856f3d",
       "value": 0.001
      }
     },
     "6fd70efd0f644893bb661ed3142499a5": {
      "model_module": "@jupyter-widgets/base",
      "model_module_version": "1.2.0",
      "model_name": "LayoutModel",
      "state": {
       "_model_module": "@jupyter-widgets/base",
       "_model_module_version": "1.2.0",
       "_model_name": "LayoutModel",
       "_view_count": null,
       "_view_module": "@jupyter-widgets/base",
       "_view_module_version": "1.2.0",
       "_view_name": "LayoutView",
       "align_content": null,
       "align_items": null,
       "align_self": null,
       "border": null,
       "bottom": null,
       "display": null,
       "flex": null,
       "flex_flow": null,
       "grid_area": null,
       "grid_auto_columns": null,
       "grid_auto_flow": null,
       "grid_auto_rows": null,
       "grid_column": null,
       "grid_gap": null,
       "grid_row": null,
       "grid_template_areas": null,
       "grid_template_columns": null,
       "grid_template_rows": null,
       "height": null,
       "justify_content": null,
       "justify_items": null,
       "left": null,
       "margin": null,
       "max_height": null,
       "max_width": null,
       "min_height": null,
       "min_width": null,
       "object_fit": null,
       "object_position": null,
       "order": null,
       "overflow": null,
       "overflow_x": null,
       "overflow_y": null,
       "padding": null,
       "right": null,
       "top": null,
       "visibility": null,
       "width": null
      }
     },
     "7582069f0f6843f39ec9c42e3249f037": {
      "model_module": "@jupyter-widgets/controls",
      "model_module_version": "1.5.0",
      "model_name": "DescriptionStyleModel",
      "state": {
       "_model_module": "@jupyter-widgets/controls",
       "_model_module_version": "1.5.0",
       "_model_name": "DescriptionStyleModel",
       "_view_count": null,
       "_view_module": "@jupyter-widgets/base",
       "_view_module_version": "1.2.0",
       "_view_name": "StyleView",
       "description_width": ""
      }
     },
     "7a168a23f0c94810bee1938f98ab88ce": {
      "model_module": "@jupyter-widgets/controls",
      "model_module_version": "1.5.0",
      "model_name": "VBoxModel",
      "state": {
       "_dom_classes": [
        "widget-interact"
       ],
       "_model_module": "@jupyter-widgets/controls",
       "_model_module_version": "1.5.0",
       "_model_name": "VBoxModel",
       "_view_count": null,
       "_view_module": "@jupyter-widgets/controls",
       "_view_module_version": "1.5.0",
       "_view_name": "VBoxView",
       "box_style": "",
       "children": [
        "IPY_MODEL_dee0820d63014d2584b6068a2a86e22f",
        "IPY_MODEL_bd3b68c0161b45c98420a11e429a362b",
        "IPY_MODEL_8badfcab3d284e20841b018b0639ae50"
       ],
       "layout": "IPY_MODEL_51fb1ff84f2f4aedb227d548440a240a"
      }
     },
     "8badfcab3d284e20841b018b0639ae50": {
      "model_module": "@jupyter-widgets/output",
      "model_module_version": "1.0.0",
      "model_name": "OutputModel",
      "state": {
       "_dom_classes": [],
       "_model_module": "@jupyter-widgets/output",
       "_model_module_version": "1.0.0",
       "_model_name": "OutputModel",
       "_view_count": null,
       "_view_module": "@jupyter-widgets/output",
       "_view_module_version": "1.0.0",
       "_view_name": "OutputView",
       "layout": "IPY_MODEL_a425db0398b1439e88026b1ffd20ac54",
       "msg_id": "",
       "outputs": []
      }
     },
     "919ce3a39f1e4d929c08c4eddbede0b5": {
      "model_module": "@jupyter-widgets/output",
      "model_module_version": "1.0.0",
      "model_name": "OutputModel",
      "state": {
       "_dom_classes": [],
       "_model_module": "@jupyter-widgets/output",
       "_model_module_version": "1.0.0",
       "_model_name": "OutputModel",
       "_view_count": null,
       "_view_module": "@jupyter-widgets/output",
       "_view_module_version": "1.0.0",
       "_view_name": "OutputView",
       "layout": "IPY_MODEL_a9e0c762ea4d4555a6cbda734b62eef7",
       "msg_id": "",
       "outputs": []
      }
     },
     "a002b17d34a74d68873806182ab81bcf": {
      "model_module": "@jupyter-widgets/controls",
      "model_module_version": "1.5.0",
      "model_name": "SliderStyleModel",
      "state": {
       "_model_module": "@jupyter-widgets/controls",
       "_model_module_version": "1.5.0",
       "_model_name": "SliderStyleModel",
       "_view_count": null,
       "_view_module": "@jupyter-widgets/base",
       "_view_module_version": "1.2.0",
       "_view_name": "StyleView",
       "description_width": "",
       "handle_color": null
      }
     },
     "a425db0398b1439e88026b1ffd20ac54": {
      "model_module": "@jupyter-widgets/base",
      "model_module_version": "1.2.0",
      "model_name": "LayoutModel",
      "state": {
       "_model_module": "@jupyter-widgets/base",
       "_model_module_version": "1.2.0",
       "_model_name": "LayoutModel",
       "_view_count": null,
       "_view_module": "@jupyter-widgets/base",
       "_view_module_version": "1.2.0",
       "_view_name": "LayoutView",
       "align_content": null,
       "align_items": null,
       "align_self": null,
       "border": null,
       "bottom": null,
       "display": null,
       "flex": null,
       "flex_flow": null,
       "grid_area": null,
       "grid_auto_columns": null,
       "grid_auto_flow": null,
       "grid_auto_rows": null,
       "grid_column": null,
       "grid_gap": null,
       "grid_row": null,
       "grid_template_areas": null,
       "grid_template_columns": null,
       "grid_template_rows": null,
       "height": null,
       "justify_content": null,
       "justify_items": null,
       "left": null,
       "margin": null,
       "max_height": null,
       "max_width": null,
       "min_height": null,
       "min_width": null,
       "object_fit": null,
       "object_position": null,
       "order": null,
       "overflow": null,
       "overflow_x": null,
       "overflow_y": null,
       "padding": null,
       "right": null,
       "top": null,
       "visibility": null,
       "width": null
      }
     },
     "a9e0c762ea4d4555a6cbda734b62eef7": {
      "model_module": "@jupyter-widgets/base",
      "model_module_version": "1.2.0",
      "model_name": "LayoutModel",
      "state": {
       "_model_module": "@jupyter-widgets/base",
       "_model_module_version": "1.2.0",
       "_model_name": "LayoutModel",
       "_view_count": null,
       "_view_module": "@jupyter-widgets/base",
       "_view_module_version": "1.2.0",
       "_view_name": "LayoutView",
       "align_content": null,
       "align_items": null,
       "align_self": null,
       "border": null,
       "bottom": null,
       "display": null,
       "flex": null,
       "flex_flow": null,
       "grid_area": null,
       "grid_auto_columns": null,
       "grid_auto_flow": null,
       "grid_auto_rows": null,
       "grid_column": null,
       "grid_gap": null,
       "grid_row": null,
       "grid_template_areas": null,
       "grid_template_columns": null,
       "grid_template_rows": null,
       "height": null,
       "justify_content": null,
       "justify_items": null,
       "left": null,
       "margin": null,
       "max_height": null,
       "max_width": null,
       "min_height": null,
       "min_width": null,
       "object_fit": null,
       "object_position": null,
       "order": null,
       "overflow": null,
       "overflow_x": null,
       "overflow_y": null,
       "padding": null,
       "right": null,
       "top": null,
       "visibility": null,
       "width": null
      }
     },
     "bd3b68c0161b45c98420a11e429a362b": {
      "model_module": "@jupyter-widgets/controls",
      "model_module_version": "1.5.0",
      "model_name": "IntTextModel",
      "state": {
       "_dom_classes": [],
       "_model_module": "@jupyter-widgets/controls",
       "_model_module_version": "1.5.0",
       "_model_name": "IntTextModel",
       "_view_count": null,
       "_view_module": "@jupyter-widgets/controls",
       "_view_module_version": "1.5.0",
       "_view_name": "IntTextView",
       "continuous_update": false,
       "description": "Reward 2",
       "description_tooltip": null,
       "disabled": false,
       "layout": "IPY_MODEL_07c563fbed434600ab27fe5942f9de80",
       "step": 1,
       "style": "IPY_MODEL_1c8e0a341ead41dd90c59db55b6c20d3",
       "value": 0
      }
     },
     "cd189b3da3b840ad967aa46e6fb0c8f0": {
      "model_module": "@jupyter-widgets/base",
      "model_module_version": "1.2.0",
      "model_name": "LayoutModel",
      "state": {
       "_model_module": "@jupyter-widgets/base",
       "_model_module_version": "1.2.0",
       "_model_name": "LayoutModel",
       "_view_count": null,
       "_view_module": "@jupyter-widgets/base",
       "_view_module_version": "1.2.0",
       "_view_name": "LayoutView",
       "align_content": null,
       "align_items": null,
       "align_self": null,
       "border": null,
       "bottom": null,
       "display": null,
       "flex": null,
       "flex_flow": null,
       "grid_area": null,
       "grid_auto_columns": null,
       "grid_auto_flow": null,
       "grid_auto_rows": null,
       "grid_column": null,
       "grid_gap": null,
       "grid_row": null,
       "grid_template_areas": null,
       "grid_template_columns": null,
       "grid_template_rows": null,
       "height": null,
       "justify_content": null,
       "justify_items": null,
       "left": null,
       "margin": null,
       "max_height": null,
       "max_width": null,
       "min_height": null,
       "min_width": null,
       "object_fit": null,
       "object_position": null,
       "order": null,
       "overflow": null,
       "overflow_x": null,
       "overflow_y": null,
       "padding": null,
       "right": null,
       "top": null,
       "visibility": null,
       "width": null
      }
     },
     "d854f25e22fa48ff8dfc9f32d851fe1d": {
      "model_module": "@jupyter-widgets/base",
      "model_module_version": "1.2.0",
      "model_name": "LayoutModel",
      "state": {
       "_model_module": "@jupyter-widgets/base",
       "_model_module_version": "1.2.0",
       "_model_name": "LayoutModel",
       "_view_count": null,
       "_view_module": "@jupyter-widgets/base",
       "_view_module_version": "1.2.0",
       "_view_name": "LayoutView",
       "align_content": null,
       "align_items": null,
       "align_self": null,
       "border": null,
       "bottom": null,
       "display": null,
       "flex": null,
       "flex_flow": null,
       "grid_area": null,
       "grid_auto_columns": null,
       "grid_auto_flow": null,
       "grid_auto_rows": null,
       "grid_column": null,
       "grid_gap": null,
       "grid_row": null,
       "grid_template_areas": null,
       "grid_template_columns": null,
       "grid_template_rows": null,
       "height": null,
       "justify_content": null,
       "justify_items": null,
       "left": null,
       "margin": null,
       "max_height": null,
       "max_width": null,
       "min_height": null,
       "min_width": null,
       "object_fit": null,
       "object_position": null,
       "order": null,
       "overflow": null,
       "overflow_x": null,
       "overflow_y": null,
       "padding": null,
       "right": null,
       "top": null,
       "visibility": null,
       "width": null
      }
     },
     "dee0820d63014d2584b6068a2a86e22f": {
      "model_module": "@jupyter-widgets/controls",
      "model_module_version": "1.5.0",
      "model_name": "IntTextModel",
      "state": {
       "_dom_classes": [],
       "_model_module": "@jupyter-widgets/controls",
       "_model_module_version": "1.5.0",
       "_model_name": "IntTextModel",
       "_view_count": null,
       "_view_module": "@jupyter-widgets/controls",
       "_view_module_version": "1.5.0",
       "_view_name": "IntTextView",
       "continuous_update": false,
       "description": "Reward 1",
       "description_tooltip": null,
       "disabled": false,
       "layout": "IPY_MODEL_d854f25e22fa48ff8dfc9f32d851fe1d",
       "step": 1,
       "style": "IPY_MODEL_7582069f0f6843f39ec9c42e3249f037",
       "value": 0
      }
     }
    },
    "version_major": 2,
    "version_minor": 0
   }
  }
 },
 "nbformat": 4,
 "nbformat_minor": 0
}
