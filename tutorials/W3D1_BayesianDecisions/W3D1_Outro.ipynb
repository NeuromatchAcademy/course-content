{
  "nbformat": 4,
  "nbformat_minor": 0,
  "metadata": {
    "colab": {
      "name": "W3D1_Outro",
      "provenance": [],
      "collapsed_sections": [],
      "toc_visible": true,
      "include_colab_link": true
    },
    "kernel": {
      "display_name": "Python 3",
      "language": "python",
      "name": "python3"
    },
    "kernelspec": {
      "display_name": "Python 3",
      "language": "python",
      "name": "python3"
    },
    "language_info": {
      "codemirror_mode": {
        "name": "ipython",
        "version": 3
      },
      "file_extension": ".py",
      "mimetype": "text/x-python",
      "name": "python",
      "nbconvert_exporter": "python",
      "pygments_lexer": "ipython3",
      "version": "3.7.10"
    },
    "widgets": {
      "application/vnd.jupyter.widget-state+json": {
        "a4313ad79f4d43e38c03e0b27a3a2412": {
          "model_module": "@jupyter-widgets/controls",
          "model_name": "TabModel",
          "state": {
            "_view_name": "TabView",
            "_dom_classes": [],
            "_titles": {
              "0": "Youtube",
              "1": "Bilibili"
            },
            "_model_name": "TabModel",
            "_view_module": "@jupyter-widgets/controls",
            "selected_index": 0,
            "_model_module_version": "1.5.0",
            "_view_count": null,
            "_view_module_version": "1.5.0",
            "box_style": "",
            "layout": "IPY_MODEL_e7f449f766344818836b0ecc53ee1832",
            "_model_module": "@jupyter-widgets/controls",
            "children": [
              "IPY_MODEL_e96df139cd2745e4b87281d3f7fd6ebb",
              "IPY_MODEL_f0f103ae0272465687060c2ea4c90156"
            ]
          }
        },
        "e7f449f766344818836b0ecc53ee1832": {
          "model_module": "@jupyter-widgets/base",
          "model_name": "LayoutModel",
          "state": {
            "_view_name": "LayoutView",
            "grid_template_rows": null,
            "right": null,
            "justify_content": null,
            "_view_module": "@jupyter-widgets/base",
            "overflow": null,
            "_model_module_version": "1.2.0",
            "_view_count": null,
            "flex_flow": null,
            "width": null,
            "min_width": null,
            "border": null,
            "align_items": null,
            "bottom": null,
            "_model_module": "@jupyter-widgets/base",
            "top": null,
            "grid_column": null,
            "overflow_y": null,
            "overflow_x": null,
            "grid_auto_flow": null,
            "grid_area": null,
            "grid_template_columns": null,
            "flex": null,
            "_model_name": "LayoutModel",
            "justify_items": null,
            "grid_row": null,
            "max_height": null,
            "align_content": null,
            "visibility": null,
            "align_self": null,
            "height": null,
            "min_height": null,
            "padding": null,
            "grid_auto_rows": null,
            "grid_gap": null,
            "max_width": null,
            "order": null,
            "_view_module_version": "1.2.0",
            "grid_template_areas": null,
            "object_position": null,
            "object_fit": null,
            "grid_auto_columns": null,
            "margin": null,
            "display": null,
            "left": null
          }
        },
        "e96df139cd2745e4b87281d3f7fd6ebb": {
          "model_module": "@jupyter-widgets/output",
          "model_name": "OutputModel",
          "state": {
            "_view_name": "OutputView",
            "msg_id": "",
            "_dom_classes": [],
            "_model_name": "OutputModel",
            "outputs": [
              {
                "output_type": "stream",
                "metadata": {
                  "tags": []
                },
                "text": "Video available at https://youtube.com/watch?v=eOEyDjhlHwA\n",
                "stream": "stdout"
              },
              {
                "output_type": "display_data",
                "metadata": {
                  "tags": []
                },
                "text/html": "\n        <iframe\n            width=\"854\"\n            height=\"480\"\n            src=\"https://www.youtube.com/embed/eOEyDjhlHwA?fs=1&rel=0\"\n            frameborder=\"0\"\n            allowfullscreen\n        ></iframe>\n        ",
                "text/plain": "<IPython.lib.display.YouTubeVideo at 0x7feea5f7f810>",
                "image/jpeg": "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\n"
              }
            ],
            "_view_module": "@jupyter-widgets/output",
            "_model_module_version": "1.0.0",
            "_view_count": null,
            "_view_module_version": "1.0.0",
            "layout": "IPY_MODEL_51491ef9bbf04fe5b038b7626f2366ee",
            "_model_module": "@jupyter-widgets/output"
          }
        },
        "f0f103ae0272465687060c2ea4c90156": {
          "model_module": "@jupyter-widgets/output",
          "model_name": "OutputModel",
          "state": {
            "_view_name": "OutputView",
            "msg_id": "",
            "_dom_classes": [],
            "_model_name": "OutputModel",
            "outputs": [
              {
                "output_type": "stream",
                "metadata": {
                  "tags": []
                },
                "text": "Video available at https://www.bilibili.com/video/BV16b4y167Xb\n",
                "stream": "stdout"
              },
              {
                "output_type": "display_data",
                "metadata": {
                  "tags": []
                },
                "text/html": "\n        <iframe\n            width=\"854\"\n            height=\"480\"\n            src=\"https://player.bilibili.com/player.html?bvid=BV16b4y167Xb&page=1?fs=1\"\n            frameborder=\"0\"\n            allowfullscreen\n        ></iframe>\n        ",
                "text/plain": "<__main__.BiliVideo at 0x7feea5f7fbd0>"
              }
            ],
            "_view_module": "@jupyter-widgets/output",
            "_model_module_version": "1.0.0",
            "_view_count": null,
            "_view_module_version": "1.0.0",
            "layout": "IPY_MODEL_77d264a818be4b199cc743be63b770e4",
            "_model_module": "@jupyter-widgets/output"
          }
        },
        "51491ef9bbf04fe5b038b7626f2366ee": {
          "model_module": "@jupyter-widgets/base",
          "model_name": "LayoutModel",
          "state": {
            "_view_name": "LayoutView",
            "grid_template_rows": null,
            "right": null,
            "justify_content": null,
            "_view_module": "@jupyter-widgets/base",
            "overflow": null,
            "_model_module_version": "1.2.0",
            "_view_count": null,
            "flex_flow": null,
            "width": null,
            "min_width": null,
            "border": null,
            "align_items": null,
            "bottom": null,
            "_model_module": "@jupyter-widgets/base",
            "top": null,
            "grid_column": null,
            "overflow_y": null,
            "overflow_x": null,
            "grid_auto_flow": null,
            "grid_area": null,
            "grid_template_columns": null,
            "flex": null,
            "_model_name": "LayoutModel",
            "justify_items": null,
            "grid_row": null,
            "max_height": null,
            "align_content": null,
            "visibility": null,
            "align_self": null,
            "height": null,
            "min_height": null,
            "padding": null,
            "grid_auto_rows": null,
            "grid_gap": null,
            "max_width": null,
            "order": null,
            "_view_module_version": "1.2.0",
            "grid_template_areas": null,
            "object_position": null,
            "object_fit": null,
            "grid_auto_columns": null,
            "margin": null,
            "display": null,
            "left": null
          }
        },
        "77d264a818be4b199cc743be63b770e4": {
          "model_module": "@jupyter-widgets/base",
          "model_name": "LayoutModel",
          "state": {
            "_view_name": "LayoutView",
            "grid_template_rows": null,
            "right": null,
            "justify_content": null,
            "_view_module": "@jupyter-widgets/base",
            "overflow": null,
            "_model_module_version": "1.2.0",
            "_view_count": null,
            "flex_flow": null,
            "width": null,
            "min_width": null,
            "border": null,
            "align_items": null,
            "bottom": null,
            "_model_module": "@jupyter-widgets/base",
            "top": null,
            "grid_column": null,
            "overflow_y": null,
            "overflow_x": null,
            "grid_auto_flow": null,
            "grid_area": null,
            "grid_template_columns": null,
            "flex": null,
            "_model_name": "LayoutModel",
            "justify_items": null,
            "grid_row": null,
            "max_height": null,
            "align_content": null,
            "visibility": null,
            "align_self": null,
            "height": null,
            "min_height": null,
            "padding": null,
            "grid_auto_rows": null,
            "grid_gap": null,
            "max_width": null,
            "order": null,
            "_view_module_version": "1.2.0",
            "grid_template_areas": null,
            "object_position": null,
            "object_fit": null,
            "grid_auto_columns": null,
            "margin": null,
            "display": null,
            "left": null
          }
        }
      }
    }
  },
  "cells": [
    {
      "cell_type": "markdown",
      "metadata": {
        "id": "view-in-github",
        "colab_type": "text"
      },
      "source": [
        "<a href=\"https://colab.research.google.com/github/NeuromatchAcademy/course-content/blob/W3D1_updates/tutorials/W3D1_BayesianDecisions/W3D1_Outro.ipynb\" target=\"_parent\"><img src=\"https://colab.research.google.com/assets/colab-badge.svg\" alt=\"Open In Colab\"/></a>"
      ]
    },
    {
      "cell_type": "markdown",
      "metadata": {
        "pycharm": {
          "name": "#%% md\n"
        },
        "id": "ARM6-RzdxNCG"
      },
      "source": [
        "# Outro\n"
      ]
    },
    {
      "cell_type": "markdown",
      "metadata": {
        "id": "n_MVWNyHxNCH"
      },
      "source": [
        "**Our 2021 Sponsors, including Presenting Sponsor Facebook Reality Labs**\n",
        "\n",
        "<p align='center'><img src='https://github.com/NeuromatchAcademy/widgets/blob/master/sponsors.png?raw=True'/></p>"
      ]
    },
    {
      "cell_type": "markdown",
      "metadata": {
        "pycharm": {
          "name": "#%% md\n"
        },
        "id": "AOy-_cr1xNCI"
      },
      "source": [
        "## Video"
      ]
    },
    {
      "cell_type": "code",
      "metadata": {
        "execution": {
          "iopub.execute_input": "2021-06-25T15:15:25.246767Z",
          "iopub.status.busy": "2021-06-25T15:15:25.246134Z",
          "iopub.status.idle": "2021-06-25T15:15:25.377206Z",
          "shell.execute_reply": "2021-06-25T15:15:25.373310Z"
        },
        "pycharm": {
          "name": "#%%\n"
        },
        "cellView": "form",
        "id": "zsR3rP8vxNCI",
        "outputId": "2ddd0f9b-1d72-4708-a593-f5051e73db9f",
        "colab": {
          "base_uri": "https://localhost:8080/",
          "height": 580,
          "referenced_widgets": [
            "a4313ad79f4d43e38c03e0b27a3a2412",
            "e7f449f766344818836b0ecc53ee1832",
            "e96df139cd2745e4b87281d3f7fd6ebb",
            "f0f103ae0272465687060c2ea4c90156",
            "51491ef9bbf04fe5b038b7626f2366ee",
            "77d264a818be4b199cc743be63b770e4"
          ]
        }
      },
      "source": [
        "# @markdown\n",
        "from ipywidgets import widgets\n",
        "\n",
        "out2 = widgets.Output()\n",
        "with out2:\n",
        "  from IPython.display import IFrame\n",
        "  class BiliVideo(IFrame):\n",
        "      def __init__(self, id, page=1, width=400, height=300, **kwargs):\n",
        "          self.id=id\n",
        "          src = \"https://player.bilibili.com/player.html?bvid={0}&page={1}\".format(id, page)\n",
        "          super(BiliVideo, self).__init__(src, width, height, **kwargs)\n",
        "\n",
        "  video = BiliVideo(id=f\"BV16b4y167Xb\", width=854, height=480, fs=1)\n",
        "  print(\"Video available at https://www.bilibili.com/video/{0}\".format(video.id))\n",
        "  display(video)\n",
        "\n",
        "out1 = widgets.Output()\n",
        "with out1:\n",
        "  from IPython.display import YouTubeVideo\n",
        "  video = YouTubeVideo(id=f\"eOEyDjhlHwA\", width=854, height=480, fs=1, rel=0)\n",
        "  print(\"Video available at https://youtube.com/watch?v=\" + video.id)\n",
        "  display(video)\n",
        "\n",
        "out = widgets.Tab([out1, out2])\n",
        "out.set_title(0, 'Youtube')\n",
        "out.set_title(1, 'Bilibili')\n",
        "\n",
        "display(out)"
      ],
      "execution_count": 1,
      "outputs": [
        {
          "output_type": "display_data",
          "data": {
            "application/vnd.jupyter.widget-view+json": {
              "model_id": "a4313ad79f4d43e38c03e0b27a3a2412",
              "version_minor": 0,
              "version_major": 2
            },
            "text/plain": [
              "Tab(children=(Output(), Output()), _titles={'0': 'Youtube', '1': 'Bilibili'})"
            ]
          },
          "metadata": {
            "tags": []
          }
        }
      ]
    },
    {
      "cell_type": "markdown",
      "metadata": {
        "id": "IJE8S6b3xNCK"
      },
      "source": [
        "## Daily survey\n",
        "\n",
        "Don't forget to complete your reflections and content check in the daily survey! Please be patient after logging in as there is\n",
        "a small delay before you will be redirected to the survey.\n",
        "\n",
        "<a href=\"https://portal.neuromatchacademy.org/api/redirect/to/fdf8cd0b-3b43-4dc6-8b19-2bac6ff9a2ad\"><img src=\"https://github.com/NeuromatchAcademy/course-content/blob/master/tutorials/static/button.png?raw=1\" alt=\"button link to survey\" style=\"width:410px\"></a>"
      ]
    },
    {
      "cell_type": "markdown",
      "metadata": {
        "pycharm": {
          "name": "#%% md\n"
        },
        "id": "4rfzKNzbxNCL"
      },
      "source": [
        "## Slides"
      ]
    },
    {
      "cell_type": "code",
      "metadata": {
        "cellView": "form",
        "execution": {
          "iopub.execute_input": "2021-06-25T15:15:25.387032Z",
          "iopub.status.busy": "2021-06-25T15:15:25.385883Z",
          "iopub.status.idle": "2021-06-25T15:15:25.388914Z",
          "shell.execute_reply": "2021-06-25T15:15:25.387553Z"
        },
        "pycharm": {
          "name": "#%%\n"
        },
        "id": "8oZp4Iu4xNCL"
      },
      "source": [
        "# @markdown\n",
        "from IPython.display import IFrame\n",
        "IFrame(src=f\"https://mfr.ca-1.osf.io/render?url=https://osf.io/cvbu7/?direct%26mode=render%26action=download%26mode=render\", width=854, height=480)"
      ],
      "execution_count": null,
      "outputs": []
    }
  ]
}