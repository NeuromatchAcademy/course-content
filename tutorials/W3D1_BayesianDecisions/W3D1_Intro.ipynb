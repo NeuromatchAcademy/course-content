{
  "nbformat": 4,
  "nbformat_minor": 0,
  "metadata": {
    "colab": {
      "name": "W3D1_Intro",
      "provenance": [],
      "collapsed_sections": [],
      "toc_visible": true,
      "include_colab_link": true
    },
    "kernel": {
      "display_name": "Python 3",
      "language": "python",
      "name": "python3"
    },
    "kernelspec": {
      "display_name": "Python 3",
      "language": "python",
      "name": "python3"
    },
    "language_info": {
      "codemirror_mode": {
        "name": "ipython",
        "version": 3
      },
      "file_extension": ".py",
      "mimetype": "text/x-python",
      "name": "python",
      "nbconvert_exporter": "python",
      "pygments_lexer": "ipython3",
      "version": "3.7.11"
    },
    "widgets": {
      "application/vnd.jupyter.widget-state+json": {
        "125763b262314d50af48b8738ac33323": {
          "model_module": "@jupyter-widgets/controls",
          "model_name": "TabModel",
          "state": {
            "_view_name": "TabView",
            "_dom_classes": [],
            "_titles": {
              "0": "Youtube",
              "1": "Bilibili"
            },
            "_model_name": "TabModel",
            "_view_module": "@jupyter-widgets/controls",
            "selected_index": 0,
            "_model_module_version": "1.5.0",
            "_view_count": null,
            "_view_module_version": "1.5.0",
            "box_style": "",
            "layout": "IPY_MODEL_31d3728f5d2445a7bfaf3a6b4d944384",
            "_model_module": "@jupyter-widgets/controls",
            "children": [
              "IPY_MODEL_a062cd2c913e4615881adb8363da5ca7",
              "IPY_MODEL_259ab166596243fd8263390c19dd67c7"
            ]
          }
        },
        "31d3728f5d2445a7bfaf3a6b4d944384": {
          "model_module": "@jupyter-widgets/base",
          "model_name": "LayoutModel",
          "state": {
            "_view_name": "LayoutView",
            "grid_template_rows": null,
            "right": null,
            "justify_content": null,
            "_view_module": "@jupyter-widgets/base",
            "overflow": null,
            "_model_module_version": "1.2.0",
            "_view_count": null,
            "flex_flow": null,
            "width": null,
            "min_width": null,
            "border": null,
            "align_items": null,
            "bottom": null,
            "_model_module": "@jupyter-widgets/base",
            "top": null,
            "grid_column": null,
            "overflow_y": null,
            "overflow_x": null,
            "grid_auto_flow": null,
            "grid_area": null,
            "grid_template_columns": null,
            "flex": null,
            "_model_name": "LayoutModel",
            "justify_items": null,
            "grid_row": null,
            "max_height": null,
            "align_content": null,
            "visibility": null,
            "align_self": null,
            "height": null,
            "min_height": null,
            "padding": null,
            "grid_auto_rows": null,
            "grid_gap": null,
            "max_width": null,
            "order": null,
            "_view_module_version": "1.2.0",
            "grid_template_areas": null,
            "object_position": null,
            "object_fit": null,
            "grid_auto_columns": null,
            "margin": null,
            "display": null,
            "left": null
          }
        },
        "a062cd2c913e4615881adb8363da5ca7": {
          "model_module": "@jupyter-widgets/output",
          "model_name": "OutputModel",
          "state": {
            "_view_name": "OutputView",
            "msg_id": "",
            "_dom_classes": [],
            "_model_name": "OutputModel",
            "outputs": [
              {
                "output_type": "stream",
                "metadata": {
                  "tags": []
                },
                "text": "Video available at https://youtube.com/watch?v=w2GH1-Iqods\n",
                "stream": "stdout"
              },
              {
                "output_type": "display_data",
                "metadata": {
                  "tags": []
                },
                "text/html": "\n        <iframe\n            width=\"854\"\n            height=\"480\"\n            src=\"https://www.youtube.com/embed/w2GH1-Iqods?fs=1&rel=0\"\n            frameborder=\"0\"\n            allowfullscreen\n        ></iframe>\n        ",
                "text/plain": "<IPython.lib.display.YouTubeVideo at 0x7f62c63af990>",
                "image/jpeg": "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\n"
              }
            ],
            "_view_module": "@jupyter-widgets/output",
            "_model_module_version": "1.0.0",
            "_view_count": null,
            "_view_module_version": "1.0.0",
            "layout": "IPY_MODEL_f46da3540041450c99cdf4bcc0536a6b",
            "_model_module": "@jupyter-widgets/output"
          }
        },
        "259ab166596243fd8263390c19dd67c7": {
          "model_module": "@jupyter-widgets/output",
          "model_name": "OutputModel",
          "state": {
            "_view_name": "OutputView",
            "msg_id": "",
            "_dom_classes": [],
            "_model_name": "OutputModel",
            "outputs": [
              {
                "output_type": "stream",
                "metadata": {
                  "tags": []
                },
                "text": "Video available at https://www.bilibili.com/video/BV1Zy4y1L7UV\n",
                "stream": "stdout"
              },
              {
                "output_type": "display_data",
                "metadata": {
                  "tags": []
                },
                "text/html": "\n        <iframe\n            width=\"854\"\n            height=\"480\"\n            src=\"https://player.bilibili.com/player.html?bvid=BV1Zy4y1L7UV&page=1?fs=1\"\n            frameborder=\"0\"\n            allowfullscreen\n        ></iframe>\n        ",
                "text/plain": "<__main__.BiliVideo at 0x7f62c63afb10>"
              }
            ],
            "_view_module": "@jupyter-widgets/output",
            "_model_module_version": "1.0.0",
            "_view_count": null,
            "_view_module_version": "1.0.0",
            "layout": "IPY_MODEL_f8368846b9bd4f12a5ef9c8404b98578",
            "_model_module": "@jupyter-widgets/output"
          }
        },
        "f46da3540041450c99cdf4bcc0536a6b": {
          "model_module": "@jupyter-widgets/base",
          "model_name": "LayoutModel",
          "state": {
            "_view_name": "LayoutView",
            "grid_template_rows": null,
            "right": null,
            "justify_content": null,
            "_view_module": "@jupyter-widgets/base",
            "overflow": null,
            "_model_module_version": "1.2.0",
            "_view_count": null,
            "flex_flow": null,
            "width": null,
            "min_width": null,
            "border": null,
            "align_items": null,
            "bottom": null,
            "_model_module": "@jupyter-widgets/base",
            "top": null,
            "grid_column": null,
            "overflow_y": null,
            "overflow_x": null,
            "grid_auto_flow": null,
            "grid_area": null,
            "grid_template_columns": null,
            "flex": null,
            "_model_name": "LayoutModel",
            "justify_items": null,
            "grid_row": null,
            "max_height": null,
            "align_content": null,
            "visibility": null,
            "align_self": null,
            "height": null,
            "min_height": null,
            "padding": null,
            "grid_auto_rows": null,
            "grid_gap": null,
            "max_width": null,
            "order": null,
            "_view_module_version": "1.2.0",
            "grid_template_areas": null,
            "object_position": null,
            "object_fit": null,
            "grid_auto_columns": null,
            "margin": null,
            "display": null,
            "left": null
          }
        },
        "f8368846b9bd4f12a5ef9c8404b98578": {
          "model_module": "@jupyter-widgets/base",
          "model_name": "LayoutModel",
          "state": {
            "_view_name": "LayoutView",
            "grid_template_rows": null,
            "right": null,
            "justify_content": null,
            "_view_module": "@jupyter-widgets/base",
            "overflow": null,
            "_model_module_version": "1.2.0",
            "_view_count": null,
            "flex_flow": null,
            "width": null,
            "min_width": null,
            "border": null,
            "align_items": null,
            "bottom": null,
            "_model_module": "@jupyter-widgets/base",
            "top": null,
            "grid_column": null,
            "overflow_y": null,
            "overflow_x": null,
            "grid_auto_flow": null,
            "grid_area": null,
            "grid_template_columns": null,
            "flex": null,
            "_model_name": "LayoutModel",
            "justify_items": null,
            "grid_row": null,
            "max_height": null,
            "align_content": null,
            "visibility": null,
            "align_self": null,
            "height": null,
            "min_height": null,
            "padding": null,
            "grid_auto_rows": null,
            "grid_gap": null,
            "max_width": null,
            "order": null,
            "_view_module_version": "1.2.0",
            "grid_template_areas": null,
            "object_position": null,
            "object_fit": null,
            "grid_auto_columns": null,
            "margin": null,
            "display": null,
            "left": null
          }
        }
      }
    }
  },
  "cells": [
    {
      "cell_type": "markdown",
      "metadata": {
        "id": "view-in-github",
        "colab_type": "text"
      },
      "source": [
        "<a href=\"https://colab.research.google.com/github/NeuromatchAcademy/course-content/blob/W3D1_updates/tutorials/W3D1_BayesianDecisions/W3D1_Intro.ipynb\" target=\"_parent\"><img src=\"https://colab.research.google.com/assets/colab-badge.svg\" alt=\"Open In Colab\"/></a>"
      ]
    },
    {
      "cell_type": "markdown",
      "metadata": {
        "execution": {},
        "pycharm": {
          "name": "#%% md\n"
        },
        "id": "GiyhY8oVkix5"
      },
      "source": [
        "# Intro"
      ]
    },
    {
      "cell_type": "markdown",
      "metadata": {
        "execution": {},
        "id": "IukR8l7ykix6"
      },
      "source": [
        "**Our 2021 Sponsors, including Presenting Sponsor Facebook Reality Labs**\n",
        "\n",
        "<p align='center'><img src='https://github.com/NeuromatchAcademy/widgets/blob/master/sponsors.png?raw=True'/></p>"
      ]
    },
    {
      "cell_type": "markdown",
      "metadata": {
        "execution": {},
        "pycharm": {
          "name": "#%% md\n"
        },
        "id": "jB2MehGjkix6"
      },
      "source": [
        "## Overview\n",
        "\n",
        "Today you will learn about the Bayesian approach to making inferences and decisions. Bayes’ rule forms a foundation for many procedures and models in computational neuroscience and is the basis of Bayesian statistics. The Bayesian approach naturally provides ways to define our knowledge—our prior and how we should update our knowledge using observations from the world to form beliefs. Importantly, the Bayesian approach always explicitly represents our uncertainty. We will introduce two examples that are used in other NMA days: a fishing example, where the state of the world we want to infer is binary and Astrocat, where we infer a continuous position in space. Using these examples, you will learn the mathematical concepts and how to apply them, including working through a few simple problems by hand. We provide interactive demos which will be used to build intuitions for how Bayesian inference and decisions work. By the end of the tutorials, you should feel comfortable with how to apply Bayes’ rule, the concept of utility and the properties of the Gaussian distribution.\n",
        "\n",
        "This day provides a foundation for the inference problems you will encounter in the Hidden Dynamics day, as well as ideas important for Optimal Control and Reinforcement Learning (though Bayesian RL itself is more advanced than what you will encounter in NMA).\n",
        "\n",
        "Bayesian inference and decision making is used widely in neuroscience to describe behavior as well as neural computations. It is a normative approach, in fact, it could be thought of as the normative approach, as it is the framework that allows you to always define the optimal inference and choice. Bayes’ rule itself is used even more widely and connects to topics you have seen in NMA, like Maximum Likelihood (Model Fitting) and regularization."
      ]
    },
    {
      "cell_type": "markdown",
      "metadata": {
        "execution": {},
        "id": "CzDmolFXkix7"
      },
      "source": [
        "## Prerequisites\n",
        "\n",
        "In the content and tutorials today, you will be using knowledge of probability and statistics (W0D5). In particular, you will use the Gaussian distribution, likelihoods, and Bayes Rule. Please review this material if necessary!\n",
        "\n"
      ]
    },
    {
      "cell_type": "markdown",
      "metadata": {
        "execution": {},
        "pycharm": {
          "name": "#%% md\n"
        },
        "id": "dsmqqBNckix7"
      },
      "source": [
        "## Video"
      ]
    },
    {
      "cell_type": "code",
      "metadata": {
        "execution": {},
        "pycharm": {
          "name": "#%%\n"
        },
        "cellView": "form",
        "id": "o9SO7Xcmkix8",
        "outputId": "4dfb308b-eb39-4e08-83d9-579ba38084af",
        "colab": {
          "base_uri": "https://localhost:8080/",
          "height": 580,
          "referenced_widgets": [
            "125763b262314d50af48b8738ac33323",
            "31d3728f5d2445a7bfaf3a6b4d944384",
            "a062cd2c913e4615881adb8363da5ca7",
            "259ab166596243fd8263390c19dd67c7",
            "f46da3540041450c99cdf4bcc0536a6b",
            "f8368846b9bd4f12a5ef9c8404b98578"
          ]
        }
      },
      "source": [
        "# @markdown\n",
        "from ipywidgets import widgets\n",
        "\n",
        "out2 = widgets.Output()\n",
        "with out2:\n",
        "  from IPython.display import IFrame\n",
        "  class BiliVideo(IFrame):\n",
        "      def __init__(self, id, page=1, width=400, height=300, **kwargs):\n",
        "          self.id=id\n",
        "          src = \"https://player.bilibili.com/player.html?bvid={0}&page={1}\".format(id, page)\n",
        "          super(BiliVideo, self).__init__(src, width, height, **kwargs)\n",
        "\n",
        "  video = BiliVideo(id=f\"BV1Zy4y1L7UV\", width=854, height=480, fs=1)\n",
        "  print(\"Video available at https://www.bilibili.com/video/{0}\".format(video.id))\n",
        "  display(video)\n",
        "\n",
        "out1 = widgets.Output()\n",
        "with out1:\n",
        "  from IPython.display import YouTubeVideo\n",
        "  video = YouTubeVideo(id=f\"w2GH1-Iqods\", width=854, height=480, fs=1, rel=0)\n",
        "  print(\"Video available at https://youtube.com/watch?v=\" + video.id)\n",
        "  display(video)\n",
        "\n",
        "out = widgets.Tab([out1, out2])\n",
        "out.set_title(0, 'Youtube')\n",
        "out.set_title(1, 'Bilibili')\n",
        "\n",
        "display(out)"
      ],
      "execution_count": 1,
      "outputs": [
        {
          "output_type": "display_data",
          "data": {
            "application/vnd.jupyter.widget-view+json": {
              "model_id": "125763b262314d50af48b8738ac33323",
              "version_minor": 0,
              "version_major": 2
            },
            "text/plain": [
              "Tab(children=(Output(), Output()), _titles={'0': 'Youtube', '1': 'Bilibili'})"
            ]
          },
          "metadata": {
            "tags": []
          }
        }
      ]
    },
    {
      "cell_type": "markdown",
      "metadata": {
        "execution": {},
        "pycharm": {
          "name": "#%% md\n"
        },
        "id": "nxTLft7-kix8"
      },
      "source": [
        "## Slides"
      ]
    },
    {
      "cell_type": "code",
      "metadata": {
        "cellView": "form",
        "execution": {},
        "pycharm": {
          "name": "#%%\n"
        },
        "id": "s5J6pnH1kix8"
      },
      "source": [
        "# @markdown\n",
        "from IPython.display import IFrame\n",
        "IFrame(src=f\"https://mfr.ca-1.osf.io/render?url=https://osf.io/xam4w/?direct%26mode=render%26action=download%26mode=render\", width=854, height=480)"
      ],
      "execution_count": null,
      "outputs": []
    }
  ]
}