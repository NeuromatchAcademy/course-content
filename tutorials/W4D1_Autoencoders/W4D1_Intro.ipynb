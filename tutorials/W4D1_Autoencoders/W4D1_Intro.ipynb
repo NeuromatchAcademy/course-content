{
  "nbformat": 4,
  "nbformat_minor": 0,
  "metadata": {
    "colab": {
      "name": "W4D1_Intro",
      "provenance": [],
      "collapsed_sections": [],
      "toc_visible": true,
      "include_colab_link": true
    },
    "kernel": {
      "display_name": "Python 3",
      "language": "python",
      "name": "python3"
    },
    "kernelspec": {
      "display_name": "Python 3",
      "language": "python",
      "name": "python3"
    },
    "language_info": {
      "codemirror_mode": {
        "name": "ipython",
        "version": 3
      },
      "file_extension": ".py",
      "mimetype": "text/x-python",
      "name": "python",
      "nbconvert_exporter": "python",
      "pygments_lexer": "ipython3",
      "version": "3.7.10"
    },
    "widgets": {
      "application/vnd.jupyter.widget-state+json": {
        "b24e5e6af5f64654bdab504c64d98ca0": {
          "model_module": "@jupyter-widgets/controls",
          "model_name": "TabModel",
          "state": {
            "_view_name": "TabView",
            "_dom_classes": [],
            "_titles": {
              "0": "Youtube",
              "1": "Bilibili"
            },
            "_model_name": "TabModel",
            "_view_module": "@jupyter-widgets/controls",
            "selected_index": 0,
            "_model_module_version": "1.5.0",
            "_view_count": null,
            "_view_module_version": "1.5.0",
            "box_style": "",
            "layout": "IPY_MODEL_1fa99e97d7374a12a256fe11c7c4c038",
            "_model_module": "@jupyter-widgets/controls",
            "children": [
              "IPY_MODEL_200a2287443548ca82cf1bf941fedb60",
              "IPY_MODEL_699e8402c28745afac56b1a7da3fcce6"
            ]
          }
        },
        "1fa99e97d7374a12a256fe11c7c4c038": {
          "model_module": "@jupyter-widgets/base",
          "model_name": "LayoutModel",
          "state": {
            "_view_name": "LayoutView",
            "grid_template_rows": null,
            "right": null,
            "justify_content": null,
            "_view_module": "@jupyter-widgets/base",
            "overflow": null,
            "_model_module_version": "1.2.0",
            "_view_count": null,
            "flex_flow": null,
            "width": null,
            "min_width": null,
            "border": null,
            "align_items": null,
            "bottom": null,
            "_model_module": "@jupyter-widgets/base",
            "top": null,
            "grid_column": null,
            "overflow_y": null,
            "overflow_x": null,
            "grid_auto_flow": null,
            "grid_area": null,
            "grid_template_columns": null,
            "flex": null,
            "_model_name": "LayoutModel",
            "justify_items": null,
            "grid_row": null,
            "max_height": null,
            "align_content": null,
            "visibility": null,
            "align_self": null,
            "height": null,
            "min_height": null,
            "padding": null,
            "grid_auto_rows": null,
            "grid_gap": null,
            "max_width": null,
            "order": null,
            "_view_module_version": "1.2.0",
            "grid_template_areas": null,
            "object_position": null,
            "object_fit": null,
            "grid_auto_columns": null,
            "margin": null,
            "display": null,
            "left": null
          }
        },
        "200a2287443548ca82cf1bf941fedb60": {
          "model_module": "@jupyter-widgets/output",
          "model_name": "OutputModel",
          "state": {
            "_view_name": "OutputView",
            "msg_id": "",
            "_dom_classes": [],
            "_model_name": "OutputModel",
            "outputs": [
              {
                "output_type": "stream",
                "metadata": {
                  "tags": []
                },
                "text": "Video available at https://youtube.com/watch?v=VwSnDJZekQ4\n",
                "stream": "stdout"
              },
              {
                "output_type": "display_data",
                "metadata": {
                  "tags": []
                },
                "text/html": "\n        <iframe\n            width=\"854\"\n            height=\"480\"\n            src=\"https://www.youtube.com/embed/VwSnDJZekQ4?fs=1&rel=0\"\n            frameborder=\"0\"\n            allowfullscreen\n        ></iframe>\n        ",
                "text/plain": "<IPython.lib.display.YouTubeVideo at 0x7f4a06a77b10>",
                "image/jpeg": "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\n"
              }
            ],
            "_view_module": "@jupyter-widgets/output",
            "_model_module_version": "1.0.0",
            "_view_count": null,
            "_view_module_version": "1.0.0",
            "layout": "IPY_MODEL_9d06138829e944acb57f9b5aac56bc5b",
            "_model_module": "@jupyter-widgets/output"
          }
        },
        "699e8402c28745afac56b1a7da3fcce6": {
          "model_module": "@jupyter-widgets/output",
          "model_name": "OutputModel",
          "state": {
            "_view_name": "OutputView",
            "msg_id": "",
            "_dom_classes": [],
            "_model_name": "OutputModel",
            "outputs": [
              {
                "output_type": "stream",
                "metadata": {
                  "tags": []
                },
                "text": "Video available at https://www.bilibili.com/video/BV1LC4y187Pv\n",
                "stream": "stdout"
              },
              {
                "output_type": "display_data",
                "metadata": {
                  "tags": []
                },
                "text/html": "\n        <iframe\n            width=\"854\"\n            height=\"480\"\n            src=\"https://player.bilibili.com/player.html?bvid=BV1LC4y187Pv&page=1?fs=1\"\n            frameborder=\"0\"\n            allowfullscreen\n        ></iframe>\n        ",
                "text/plain": "<__main__.BiliVideo at 0x7f4a0a4cd1d0>"
              }
            ],
            "_view_module": "@jupyter-widgets/output",
            "_model_module_version": "1.0.0",
            "_view_count": null,
            "_view_module_version": "1.0.0",
            "layout": "IPY_MODEL_cbf71120f01541a2a0fa868036c80764",
            "_model_module": "@jupyter-widgets/output"
          }
        },
        "9d06138829e944acb57f9b5aac56bc5b": {
          "model_module": "@jupyter-widgets/base",
          "model_name": "LayoutModel",
          "state": {
            "_view_name": "LayoutView",
            "grid_template_rows": null,
            "right": null,
            "justify_content": null,
            "_view_module": "@jupyter-widgets/base",
            "overflow": null,
            "_model_module_version": "1.2.0",
            "_view_count": null,
            "flex_flow": null,
            "width": null,
            "min_width": null,
            "border": null,
            "align_items": null,
            "bottom": null,
            "_model_module": "@jupyter-widgets/base",
            "top": null,
            "grid_column": null,
            "overflow_y": null,
            "overflow_x": null,
            "grid_auto_flow": null,
            "grid_area": null,
            "grid_template_columns": null,
            "flex": null,
            "_model_name": "LayoutModel",
            "justify_items": null,
            "grid_row": null,
            "max_height": null,
            "align_content": null,
            "visibility": null,
            "align_self": null,
            "height": null,
            "min_height": null,
            "padding": null,
            "grid_auto_rows": null,
            "grid_gap": null,
            "max_width": null,
            "order": null,
            "_view_module_version": "1.2.0",
            "grid_template_areas": null,
            "object_position": null,
            "object_fit": null,
            "grid_auto_columns": null,
            "margin": null,
            "display": null,
            "left": null
          }
        },
        "cbf71120f01541a2a0fa868036c80764": {
          "model_module": "@jupyter-widgets/base",
          "model_name": "LayoutModel",
          "state": {
            "_view_name": "LayoutView",
            "grid_template_rows": null,
            "right": null,
            "justify_content": null,
            "_view_module": "@jupyter-widgets/base",
            "overflow": null,
            "_model_module_version": "1.2.0",
            "_view_count": null,
            "flex_flow": null,
            "width": null,
            "min_width": null,
            "border": null,
            "align_items": null,
            "bottom": null,
            "_model_module": "@jupyter-widgets/base",
            "top": null,
            "grid_column": null,
            "overflow_y": null,
            "overflow_x": null,
            "grid_auto_flow": null,
            "grid_area": null,
            "grid_template_columns": null,
            "flex": null,
            "_model_name": "LayoutModel",
            "justify_items": null,
            "grid_row": null,
            "max_height": null,
            "align_content": null,
            "visibility": null,
            "align_self": null,
            "height": null,
            "min_height": null,
            "padding": null,
            "grid_auto_rows": null,
            "grid_gap": null,
            "max_width": null,
            "order": null,
            "_view_module_version": "1.2.0",
            "grid_template_areas": null,
            "object_position": null,
            "object_fit": null,
            "grid_auto_columns": null,
            "margin": null,
            "display": null,
            "left": null
          }
        }
      }
    }
  },
  "cells": [
    {
      "cell_type": "markdown",
      "metadata": {
        "id": "view-in-github",
        "colab_type": "text"
      },
      "source": [
        "<a href=\"https://colab.research.google.com/github/NeuromatchAcademy/course-content/blob/jb_changes/tutorials/W4D1_Autoencoders/W4D1_Intro.ipynb\" target=\"_parent\"><img src=\"https://colab.research.google.com/assets/colab-badge.svg\" alt=\"Open In Colab\"/></a>"
      ]
    },
    {
      "cell_type": "markdown",
      "metadata": {
        "pycharm": {
          "name": "#%% md\n"
        },
        "id": "CnNLS0SVMR1K"
      },
      "source": [
        "# Intro"
      ]
    },
    {
      "cell_type": "markdown",
      "metadata": {
        "id": "nBQiXeObMR1K"
      },
      "source": [
        "**Our 2021 Sponsors, including Presenting Sponsor Facebook Reality Labs**\n",
        "\n",
        "<p align='center'><img src='https://github.com/NeuromatchAcademy/widgets/blob/master/sponsors.png?raw=True'/></p>"
      ]
    },
    {
      "cell_type": "markdown",
      "metadata": {
        "pycharm": {
          "name": "#%% md\n"
        },
        "id": "Z0KfHIAwMR1L"
      },
      "source": [
        "## Overview\n",
        "\n",
        "This is a bonus day on autoencoders. Autoencoders are a form of deep neural network that performs nonlinear dimensionality reduction. "
      ]
    },
    {
      "cell_type": "markdown",
      "metadata": {
        "pycharm": {
          "name": "#%% md\n"
        },
        "id": "4g8Cp9YhMR1M"
      },
      "source": [
        "## Video"
      ]
    },
    {
      "cell_type": "code",
      "metadata": {
        "execution": {
          "iopub.execute_input": "2021-07-05T16:23:19.211350Z",
          "iopub.status.busy": "2021-07-05T16:23:19.210756Z",
          "iopub.status.idle": "2021-07-05T16:23:19.378454Z",
          "shell.execute_reply": "2021-07-05T16:23:19.379175Z"
        },
        "pycharm": {
          "name": "#%%\n"
        },
        "id": "tkkkZg1IMR1M",
        "colab": {
          "base_uri": "https://localhost:8080/",
          "height": 580,
          "referenced_widgets": [
            "b24e5e6af5f64654bdab504c64d98ca0",
            "1fa99e97d7374a12a256fe11c7c4c038",
            "200a2287443548ca82cf1bf941fedb60",
            "699e8402c28745afac56b1a7da3fcce6",
            "9d06138829e944acb57f9b5aac56bc5b",
            "cbf71120f01541a2a0fa868036c80764"
          ]
        },
        "cellView": "form",
        "outputId": "7e65f320-3667-4073-97f7-594e082e7cfb"
      },
      "source": [
        "# @markdown\n",
        "from ipywidgets import widgets\n",
        "\n",
        "out2 = widgets.Output()\n",
        "with out2:\n",
        "  from IPython.display import IFrame\n",
        "  class BiliVideo(IFrame):\n",
        "      def __init__(self, id, page=1, width=400, height=300, **kwargs):\n",
        "          self.id=id\n",
        "          src = \"https://player.bilibili.com/player.html?bvid={0}&page={1}\".format(id, page)\n",
        "          super(BiliVideo, self).__init__(src, width, height, **kwargs)\n",
        "\n",
        "  video = BiliVideo(id=f\"BV1LC4y187Pv\", width=854, height=480, fs=1)\n",
        "  print(\"Video available at https://www.bilibili.com/video/{0}\".format(video.id))\n",
        "  display(video)\n",
        "\n",
        "out1 = widgets.Output()\n",
        "with out1:\n",
        "  from IPython.display import YouTubeVideo\n",
        "  video = YouTubeVideo(id=f\"VwSnDJZekQ4\", width=854, height=480, fs=1, rel=0)\n",
        "  print(\"Video available at https://youtube.com/watch?v=\" + video.id)\n",
        "  display(video)\n",
        "\n",
        "out = widgets.Tab([out1, out2])\n",
        "out.set_title(0, 'Youtube')\n",
        "out.set_title(1, 'Bilibili')\n",
        "\n",
        "display(out)"
      ],
      "execution_count": 1,
      "outputs": [
        {
          "output_type": "display_data",
          "data": {
            "application/vnd.jupyter.widget-view+json": {
              "model_id": "b24e5e6af5f64654bdab504c64d98ca0",
              "version_minor": 0,
              "version_major": 2
            },
            "text/plain": [
              "Tab(children=(Output(), Output()), _titles={'0': 'Youtube', '1': 'Bilibili'})"
            ]
          },
          "metadata": {
            "tags": []
          }
        }
      ]
    },
    {
      "cell_type": "markdown",
      "metadata": {
        "pycharm": {
          "name": "#%% md\n"
        },
        "id": "p-liWnZNMR1M"
      },
      "source": [
        "## Slides"
      ]
    },
    {
      "cell_type": "code",
      "metadata": {
        "execution": {
          "iopub.execute_input": "2021-07-05T16:23:19.390465Z",
          "iopub.status.busy": "2021-07-05T16:23:19.389960Z",
          "iopub.status.idle": "2021-07-05T16:23:19.392798Z",
          "shell.execute_reply": "2021-07-05T16:23:19.393258Z"
        },
        "pycharm": {
          "name": "#%%\n"
        },
        "id": "1AGsDgbEMR1M",
        "colab": {
          "base_uri": "https://localhost:8080/",
          "height": 520
        },
        "cellView": "form",
        "outputId": "210ec490-f048-455b-9dac-36b4c333ccbd"
      },
      "source": [
        "# @markdown\n",
        "from IPython.display import IFrame\n",
        "IFrame(src=f\"https://mfr.ca-1.osf.io/render?url=https://osf.io/pdnsg/?direct%26mode=render%26action=download%26mode=render\", width=854, height=480)"
      ],
      "execution_count": 3,
      "outputs": [
        {
          "output_type": "execute_result",
          "data": {
            "text/html": [
              "\n",
              "        <iframe\n",
              "            width=\"854\"\n",
              "            height=\"480\"\n",
              "            src=\"https://mfr.ca-1.osf.io/render?url=https://osf.io/pdnsg/?direct%26mode=render%26action=download%26mode=render\"\n",
              "            frameborder=\"0\"\n",
              "            allowfullscreen\n",
              "        ></iframe>\n",
              "        "
            ],
            "text/plain": [
              "<IPython.lib.display.IFrame at 0x7f4a065e12d0>"
            ]
          },
          "metadata": {
            "tags": []
          },
          "execution_count": 3
        }
      ]
    }
  ]
}