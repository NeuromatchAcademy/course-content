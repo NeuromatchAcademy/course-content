{
 "cells": [
  {
   "cell_type": "markdown",
   "metadata": {
    "colab_type": "text",
    "id": "view-in-github"
   },
   "source": [
    "<a href=\"https://colab.research.google.com/github/NeuromatchAcademy/course-content/blob/master/tutorials/W0D3_LinearAlgebra/W0D3_Tutorial1.ipynb\" target=\"_parent\"><img src=\"https://colab.research.google.com/assets/colab-badge.svg\" alt=\"Open In Colab\"/></a>"
   ]
  },
  {
   "cell_type": "markdown",
   "metadata": {},
   "source": [
    "# Tutorial 1: Vectors\n",
    "**Week 0, Day 3: Linear Algebra**\n",
    "\n",
    "**By Neuromatch Academy**\n",
    "\n",
    "\n",
    "__Content creator:__ Ella Batty\n",
    "\n",
    "__Content reviewers:__ Keith van Antwerp, Pooya Pakarian, Anoop Kulkarni\n",
    "\n",
    "__Production editors:__ Siddharth Suresh, Ella Batty  "
   ]
  },
  {
   "cell_type": "markdown",
   "metadata": {},
   "source": [
    "**Our 2021 Sponsors, including Presenting Sponsor Facebook Reality Labs**\n",
    "\n",
    "<p align='center'><img src='https://github.com/NeuromatchAcademy/widgets/blob/master/sponsors.png?raw=True'/></p>"
   ]
  },
  {
   "cell_type": "markdown",
   "metadata": {},
   "source": [
    "---\n",
    "# Tutorial Objectives\n",
    "During today, we will learn the basics of linear algebra, focusing on the topics that underlie the material on future days in the NMA Computational Neuroscience course. In this tutorial, we focus on vectors: their definition, their properties & operations, and how we can use them to define our coordinate system. \n",
    "\n",
    "By the end of this tutorial, you will:\n",
    "* Be able to provide an example of how linear algebra is used in computational neuroscience\n",
    "* Be able to describe vectors, their properties (dimensionality/length), and their operations (scalar multiplication, vector addition, dot product) geometrically \n",
    "* Be able to determine and explain the number of basis vectors necessary for a given vector space\n"
   ]
  },
  {
   "cell_type": "code",
   "execution_count": null,
   "metadata": {
    "cellView": "form",
    "execution": {
     "iopub.execute_input": "2021-06-28T19:47:21.191669Z",
     "iopub.status.busy": "2021-06-28T19:47:21.190912Z",
     "iopub.status.idle": "2021-06-28T19:47:21.427735Z",
     "shell.execute_reply": "2021-06-28T19:47:21.426349Z"
    }
   },
   "outputs": [],
   "source": [
    "# @title Video 1: Why do we care about linear algebra?\n",
    "from ipywidgets import widgets\n",
    "\n",
    "out2 = widgets.Output()\n",
    "with out2:\n",
    "  from IPython.display import IFrame\n",
    "  class BiliVideo(IFrame):\n",
    "      def __init__(self, id, page=1, width=400, height=300, **kwargs):\n",
    "          self.id=id\n",
    "          src = 'https://player.bilibili.com/player.html?bvid={0}&page={1}'.format(id, page)\n",
    "          super(BiliVideo, self).__init__(src, width, height, **kwargs)\n",
    "\n",
    "  video = BiliVideo(id=\"\", width=854, height=480, fs=1)\n",
    "  print('Video available at https://www.bilibili.com/video/{0}'.format(video.id))\n",
    "  display(video)\n",
    "\n",
    "out1 = widgets.Output()\n",
    "with out1:\n",
    "  from IPython.display import YouTubeVideo\n",
    "  video = YouTubeVideo(id=\"qsK7pHrJU5M\", width=854, height=480, fs=1, rel=0)\n",
    "  print('Video available at https://youtube.com/watch?v=' + video.id)\n",
    "  display(video)\n",
    "\n",
    "out = widgets.Tab([out1, out2])\n",
    "out.set_title(0, 'Youtube')\n",
    "out.set_title(1, 'Bilibili')\n",
    "\n",
    "display(out)"
   ]
  },
  {
   "cell_type": "markdown",
   "metadata": {},
   "source": [
    "---\n",
    "# Setup\n",
    "\n",
    "Execute the following cells to set up the notebook environment"
   ]
  },
  {
   "cell_type": "code",
   "execution_count": null,
   "metadata": {
    "execution": {
     "iopub.execute_input": "2021-06-28T19:47:21.440909Z",
     "iopub.status.busy": "2021-06-28T19:47:21.440090Z",
     "iopub.status.idle": "2021-06-28T19:47:22.350048Z",
     "shell.execute_reply": "2021-06-28T19:47:22.348973Z"
    }
   },
   "outputs": [],
   "source": [
    "# Imports\n",
    "\n",
    "import numpy as np\n",
    "import matplotlib.pyplot as plt"
   ]
  },
  {
   "cell_type": "code",
   "execution_count": null,
   "metadata": {
    "cellView": "form",
    "execution": {
     "iopub.execute_input": "2021-06-28T19:47:22.361750Z",
     "iopub.status.busy": "2021-06-28T19:47:22.357868Z",
     "iopub.status.idle": "2021-06-28T19:47:22.529026Z",
     "shell.execute_reply": "2021-06-28T19:47:22.528453Z"
    }
   },
   "outputs": [],
   "source": [
    "#@title Figure settings\n",
    "import ipywidgets as widgets       # interactive display\n",
    "from ipywidgets import fixed\n",
    "%config InlineBackend.figure_format = 'retina'\n",
    "plt.style.use(\"https://raw.githubusercontent.com/NeuromatchAcademy/course-content/master/nma.mplstyle\")"
   ]
  },
  {
   "cell_type": "code",
   "execution_count": null,
   "metadata": {
    "cellView": "form",
    "execution": {
     "iopub.execute_input": "2021-06-28T19:47:22.539826Z",
     "iopub.status.busy": "2021-06-28T19:47:22.538652Z",
     "iopub.status.idle": "2021-06-28T19:47:22.543717Z",
     "shell.execute_reply": "2021-06-28T19:47:22.543024Z"
    }
   },
   "outputs": [],
   "source": [
    "# @title Plotting functions\n",
    "def visualize_vectors(v, v_unit):\n",
    "  \"\"\" Plots a 2D vector and the corresponding unit vector\n",
    "\n",
    "  Args:\n",
    "    v (ndarray): array of size (2,) with the vector coordinates\n",
    "    v_unit (ndarray): array of size (2, ) with the unit vector coordinates\n",
    "\n",
    "  \"\"\"\n",
    "  fig, ax = plt.subplots()\n",
    "\n",
    "  # Set up plot aesthetics\n",
    "  ax.spines['top'].set_color('none')\n",
    "  ax.spines['bottom'].set_position('zero')\n",
    "  ax.spines['left'].set_position('zero')\n",
    "  ax.spines['right'].set_color('none')\n",
    "  ax.set(xlim = [-6, 6], ylim = [-6, 6])\n",
    "  ax.grid(True, alpha=.4, linewidth=1, zorder=0)\n",
    "\n",
    "  # Plot vectors\n",
    "  v_arr = ax.arrow(0, 0, v[0], v[1], width=0.08, color='#648FFF', length_includes_head = True, zorder = 2);\n",
    "  v_unit_arr = ax.arrow(0, 0, v_unit[0], v_unit[1], width=0.08, color='#DC267F', length_includes_head = True, zorder = 3);\n",
    "  ax.set(xlim = [-4, 4], ylim = [-4, 4]);\n",
    "\n",
    "  # Add legend\n",
    "  leg = ax.legend([v_arr, v_unit_arr], [r\"Vector $\\mathbf{v}$\", r\"Normalized vector $\\tilde{\\mathbf{v}}$\"], handlelength = 0, fontsize = 20, loc = 'upper left')\n",
    "  for handle, label in zip(leg.legendHandles, leg.texts):\n",
    "    label.set_color(handle.get_facecolor())\n",
    "    handle.set_visible(False)"
   ]
  },
  {
   "cell_type": "markdown",
   "metadata": {},
   "source": [
    "---\n",
    "\n",
    "# Section 1: Intro to vectors"
   ]
  },
  {
   "cell_type": "markdown",
   "metadata": {},
   "source": [
    "## Section 1.1: What is a vector?\n"
   ]
  },
  {
   "cell_type": "code",
   "execution_count": null,
   "metadata": {
    "cellView": "form",
    "execution": {
     "iopub.execute_input": "2021-06-28T19:47:22.556623Z",
     "iopub.status.busy": "2021-06-28T19:47:22.551479Z",
     "iopub.status.idle": "2021-06-28T19:47:22.682018Z",
     "shell.execute_reply": "2021-06-28T19:47:22.682629Z"
    }
   },
   "outputs": [],
   "source": [
    "# @title Video 2: Vector Definition & Properties\n",
    "from ipywidgets import widgets\n",
    "\n",
    "out2 = widgets.Output()\n",
    "with out2:\n",
    "  from IPython.display import IFrame\n",
    "  class BiliVideo(IFrame):\n",
    "      def __init__(self, id, page=1, width=400, height=300, **kwargs):\n",
    "          self.id=id\n",
    "          src = 'https://player.bilibili.com/player.html?bvid={0}&page={1}'.format(id, page)\n",
    "          super(BiliVideo, self).__init__(src, width, height, **kwargs)\n",
    "\n",
    "  video = BiliVideo(id=\"\", width=854, height=480, fs=1)\n",
    "  print('Video available at https://www.bilibili.com/video/{0}'.format(video.id))\n",
    "  display(video)\n",
    "\n",
    "out1 = widgets.Output()\n",
    "with out1:\n",
    "  from IPython.display import YouTubeVideo\n",
    "  video = YouTubeVideo(id=\"Vi6L9fBk2Uc\", width=854, height=480, fs=1, rel=0)\n",
    "  print('Video available at https://youtube.com/watch?v=' + video.id)\n",
    "  display(video)\n",
    "\n",
    "out = widgets.Tab([out1, out2])\n",
    "out.set_title(0, 'Youtube')\n",
    "out.set_title(1, 'Bilibili')\n",
    "\n",
    "display(out)"
   ]
  },
  {
   "cell_type": "markdown",
   "metadata": {},
   "source": [
    "This video covers the definition of vectors, the dimensionality and length of vectors, and zero/unit vectors.\n",
    "\n",
    "<details>\n",
    "<summary> <font color='blue'>Click here for text recap of video </font></summary>\n",
    "\n",
    "A vector $\\mathbf{x}$ can be considered from at least two perspectives: as an ordered list of numbers or as an arrow with the base at the origin of a coordinate system. These are two ways of looking at a single thing: in the arrow case, the tip of the arrow is defined by a coordinate (which can be represented by the ordered list). \n",
    "<br/><br/>\n",
    "\n",
    "The **dimensionality of a vector** is determined by the number of components in the ordered list (or the dimensionality of the space in which the arrow exists).  For example, $\\mathbf{x} = \\begin{bmatrix}\n",
    "4 \\\\\n",
    "2 \\\\\n",
    "1 \\\\ \n",
    "\\end{bmatrix}$ is a 3 dimensional vector. We can refer to components by $\\mathbf{x}_i$ where i indicates the position of the component. In this vector, $\\mathbf{x_1} = 4$, $\\mathbf{x_2} = 2$, and $\\mathbf{x_3} = 1$. \n",
    "\n",
    "<br/><br/>\n",
    "One defining property of a vector is its length: $||\\mathbf{x}||$. This is the length of the arrow and can be computed as the square root of the sum of all components squared: \n",
    "$$||\\mathbf{x}|| = \\sqrt{\\sum_{i=1}^N \\mathbf{x}_i^2} $$\n",
    "\n",
    "\n",
    "<br/><br/>\n",
    "We have two special types of vectors with specific names. **Zero vectors** have length 0 (and all components equal 0). **Unit vectors** have length 1. You can normalize a vector and create a unit vector, $\\tilde{\\mathbf{x}}$, by dividing by its length,$||\\mathbf{x}||$ :\n",
    "\n",
    "$$\\tilde{\\mathbf{x}} = \\frac{\\mathbf{x}}{||\\mathbf{x}||} $$\n",
    "\n",
    "\n"
   ]
  },
  {
   "cell_type": "markdown",
   "metadata": {},
   "source": [
    "### Coding Exercise 1.1: Normalizing vectors\n",
    "\n",
    "In this exercise, you will first create the below vector, $\\mathbf{v}$, using a numpy array. You will then implement a function, `normalize_vector`, that outputs a normalized version of the input vector (by dividing each component by the vector length).  You will then visualize both the original vector and the unit vector. \n",
    "\n",
    "First think: how do you think the normalized unit vector will compare to the original vector in terms of direction and length?\n",
    "\n",
    "\n",
    "$$\\mathbf{v} = \\begin{bmatrix} 4 \\\\ 1 \\\\ \\end{bmatrix} $$\n"
   ]
  },
  {
   "cell_type": "code",
   "execution_count": null,
   "metadata": {
    "execution": {
     "iopub.execute_input": "2021-06-28T19:47:22.698189Z",
     "iopub.status.busy": "2021-06-28T19:47:22.697164Z",
     "iopub.status.idle": "2021-06-28T19:47:22.815537Z",
     "shell.execute_reply": "2021-06-28T19:47:22.808386Z"
    }
   },
   "outputs": [],
   "source": [
    "def normalize_vector(input_vector):\n",
    "  \"\"\" Normalizes a vector to length 1\n",
    "\n",
    "  Inputs:\n",
    "    input_vector (ndarray): array of shape (n_dim, ) where n_dim is the\n",
    "        dimensionality of the vector\n",
    "\n",
    "  Outputs:\n",
    "    (ndarray): normalized vector of length 1\n",
    "  \"\"\"\n",
    "\n",
    "  #################################################################################\n",
    "  ## TODO for students: complete normalize_vector function ##\n",
    "  # Fill out function and remove\n",
    "  raise NotImplementedError(\"Student exercise: complete normalize_vector function\")\n",
    "  #################################################################################\n",
    "\n",
    "  # Compute vector length (use np.linalg.norm)\n",
    "  vector_length = ...\n",
    "\n",
    "  # Create normalized vector\n",
    "  normalized_vector = ...\n",
    "\n",
    "  return normalized_vector\n",
    "\n",
    "# Create vector v from above (use np.array)\n",
    "v = ...\n",
    "\n",
    "# Call the function\n",
    "v_unit = normalize_vector(v)\n",
    "\n",
    "# Visualize the vectors\n",
    "visualize_vectors(v, v_unit)"
   ]
  },
  {
   "cell_type": "code",
   "execution_count": null,
   "metadata": {
    "execution": {
     "iopub.execute_input": "2021-06-28T19:47:22.838657Z",
     "iopub.status.busy": "2021-06-28T19:47:22.823495Z",
     "iopub.status.idle": "2021-06-28T19:47:23.527604Z",
     "shell.execute_reply": "2021-06-28T19:47:23.528263Z"
    }
   },
   "outputs": [],
   "source": [
    "# to_remove solution\n",
    "def normalize_vector(input_vector):\n",
    "  \"\"\" Normalizes a vector to length 1\n",
    "\n",
    "  Inputs:\n",
    "    input_vector (ndarray): array of shape (n_dim, ) where n_dim is the\n",
    "        dimensionality of the vector\n",
    "\n",
    "  Outputs:\n",
    "    (ndarray): normalized vector of length 1\n",
    "  \"\"\"\n",
    "\n",
    "  # Compute vector length (use np.linalg.norm)\n",
    "  vector_length = np.linalg.norm(input_vector)\n",
    "\n",
    "  # Create normalized vector\n",
    "  normalized_vector = input_vector / vector_length\n",
    "\n",
    "  return normalized_vector\n",
    "\n",
    "# Create vector v from above (use np.array)\n",
    "v = np.array([4, 1])\n",
    "\n",
    "# Call the function\n",
    "v_unit = normalize_vector(v)\n",
    "\n",
    "# Visualize the vectors\n",
    "with plt.xkcd():\n",
    "  visualize_vectors(v, v_unit)"
   ]
  },
  {
   "cell_type": "markdown",
   "metadata": {},
   "source": [
    "\n",
    "\n",
    "Note that the unit vector still points in the same direction as the original (it overlays it). Dividing each component by a constant (the length) does not change the direction. The only change is the length - the normalized vector has a length of 1. "
   ]
  },
  {
   "cell_type": "markdown",
   "metadata": {},
   "source": [
    "## Section 1.2: Vector operations\n"
   ]
  },
  {
   "cell_type": "code",
   "execution_count": null,
   "metadata": {
    "cellView": "form",
    "execution": {
     "iopub.execute_input": "2021-06-28T19:47:23.546006Z",
     "iopub.status.busy": "2021-06-28T19:47:23.536220Z",
     "iopub.status.idle": "2021-06-28T19:47:23.660896Z",
     "shell.execute_reply": "2021-06-28T19:47:23.659961Z"
    }
   },
   "outputs": [],
   "source": [
    "# @title Video 3: Linear Combinations of Vectors\n",
    "from ipywidgets import widgets\n",
    "\n",
    "out2 = widgets.Output()\n",
    "with out2:\n",
    "  from IPython.display import IFrame\n",
    "  class BiliVideo(IFrame):\n",
    "      def __init__(self, id, page=1, width=400, height=300, **kwargs):\n",
    "          self.id=id\n",
    "          src = 'https://player.bilibili.com/player.html?bvid={0}&page={1}'.format(id, page)\n",
    "          super(BiliVideo, self).__init__(src, width, height, **kwargs)\n",
    "\n",
    "  video = BiliVideo(id=\"\", width=854, height=480, fs=1)\n",
    "  print('Video available at https://www.bilibili.com/video/{0}'.format(video.id))\n",
    "  display(video)\n",
    "\n",
    "out1 = widgets.Output()\n",
    "with out1:\n",
    "  from IPython.display import YouTubeVideo\n",
    "  video = YouTubeVideo(id=\"e8Y6kNICH-8\", width=854, height=480, fs=1, rel=0)\n",
    "  print('Video available at https://youtube.com/watch?v=' + video.id)\n",
    "  display(video)\n",
    "\n",
    "out = widgets.Tab([out1, out2])\n",
    "out.set_title(0, 'Youtube')\n",
    "out.set_title(1, 'Bilibili')\n",
    "\n",
    "display(out)"
   ]
  },
  {
   "cell_type": "markdown",
   "metadata": {},
   "source": [
    "We have several mathematical operations we perform on or with vectors. **Scalar multiplication** of a vector changes its length but not its direction (except for sometimes reversing by 180 degrees as we'll see in the next demo). When we multiply a vector, $\\mathbf{x}$,  by a scalar, $a$, we multiply each individual component by the scalar:\n",
    "\n",
    "$$ a\\mathbf{x} = \\begin{bmatrix}\n",
    "    a\\mathbf{x}_1 \\\\ a\\mathbf{x}_2 \\\\ \\vdots \\\\ a\\mathbf{x}_N\n",
    "\\end{bmatrix}$$\n",
    "\n",
    "You can visualize **vector addition** as the stacking of the two arrows head to tail. In essence, you are moving the second vector so its base is at the tip of the first, without changing its direction. The tip of this stacked second vector is the new added vector's tip. In order words, if you visualize two vectors as sides of a parallelogram, adding them will create a vector with the 4th vertex of that parallelogram as its tip. Numerically, this means that we add the corresponding components of each vector:\n",
    "\n",
    "\n",
    " $$\\mathbf{x} + \\mathbf{y} = \\begin{bmatrix}\n",
    "           \\mathbf{x}_{1} + \\mathbf{y}_1 \\\\ \\mathbf{x}_{2} + \\mathbf{y}_2\\\\ \\vdots \\\\ \\mathbf{x}_{N} + \\mathbf{y}_N \n",
    "\\end{bmatrix}$$\n",
    "\n",
    "\n",
    "We call a group of 2 or more vectors a **set of vectors**. A **linear combination** of a set of vectors is a combination of the set using scalar multiplication and vector addition. Essentially, we are multiplying each vector in the set by a scalar and then adding all the scalar multiplied vectors together: the output of this (another vector) is a linear combination of the set. More formally defined, a vector, $\\mathbf{u}$, is a linear combination of a set of vectors $\\mathbf{v}^1, \\mathbf{v}^2, ..., \\mathbf{v}^N$ with (scalar) weights $c_1, c_2, ...c_N$ if:\n",
    "\n",
    "$$\\mathbf{u} = c_1\\mathbf{v}^1 + c_2\\mathbf{v}^2 + ... + c_n\\mathbf{v}^N $$.\n",
    "\n"
   ]
  },
  {
   "cell_type": "markdown",
   "metadata": {},
   "source": [
    "### Interactive Demo: Linear combination of vectors\n",
    "In the following demo, we will demonstrate a linear combination of two vectors, $\\mathbf{x}$ and $\\mathbf{y}$. \n",
    "\n",
    "$$\\mathbf{z} = a\\mathbf{x} + b\\mathbf{y}$$\n",
    "\n",
    "where $\\mathbf{x} = \\begin{bmatrix}3 \\\\ 1 \\\\\\end{bmatrix}$ and $\\mathbf{y} = \\begin{bmatrix}-1 \\\\ 2 \\\\\\end{bmatrix}$.\n",
    "\n",
    "\n",
    "You will play with the scalar multiples $a$ and $b$ to visualize both scalar multiplication and vector addition. Think and talk through the following questions:\n",
    "\n",
    "\n",
    "1.   How does $a\\mathbf{x}$ compare to $\\mathbf{x}$ when $a$ is negative? \n",
    "2.   How does $a\\mathbf{x}$ compare to $\\mathbf{x}$ when $a$ is a fraction?\n",
    "3.  Can you get $\\mathbf{z}$ to point to anywhere in the 2D space with combinations of $a$ and $b$?\n",
    "4.  Would this be the case no matter what $\\mathbf{x}$ and $\\mathbf{y}$ are, as long as they are both 2D vectors?\n"
   ]
  },
  {
   "cell_type": "code",
   "execution_count": null,
   "metadata": {
    "cellView": "form",
    "execution": {
     "iopub.execute_input": "2021-06-28T19:47:23.712074Z",
     "iopub.status.busy": "2021-06-28T19:47:23.708102Z",
     "iopub.status.idle": "2021-06-28T19:47:24.114506Z",
     "shell.execute_reply": "2021-06-28T19:47:24.112074Z"
    }
   },
   "outputs": [],
   "source": [
    " #@markdown Make sure you execute this cell to enable the widget! Move the sliders for “a” and “b”. After releasing the slider, be patient for a couple of seconds to see the desired change.\n",
    "\n",
    "\n",
    "def plot_arrows(a_times_x, b_times_y):\n",
    "  fig, ax = plt.subplots(figsize=(10, 7))\n",
    "\n",
    "  ax.spines['top'].set_color('none')\n",
    "  ax.spines['bottom'].set_position('zero')\n",
    "  ax.spines['left'].set_position('zero')\n",
    "  ax.spines['right'].set_color('none')\n",
    "\n",
    "  ax.set_aspect('equal', adjustable='box')\n",
    "  ax.set(xlim = [-6, 6], ylim = [-6, 6], xticks = np.arange(-6, 6), yticks = np.arange(-6, 6), xticklabels = [], yticklabels = [])\n",
    "\n",
    "  ax.grid(alpha=.4)\n",
    "\n",
    "  z = a_times_x + b_times_y\n",
    "  z_arr = ax.arrow(0, 0, z[0], z[1], width=.08, color='k', length_includes_head = True);\n",
    "\n",
    "  ax_arr = ax.arrow(0, 0, a_times_x[0], a_times_x[1], width=.08, color='#648FFF', length_includes_head = True);\n",
    "  by_arr = ax.arrow(0, 0, b_times_y[0], b_times_y[1], width=.08, color='#DC267F', length_includes_head = True);\n",
    "\n",
    "  # ax.plot([a_times_x[0], z[0]], [a_times_x[1], z[1]], '--k')\n",
    "  # ax.plot([b_times_y[0], z[0]], [b_times_y[1], z[1]], '--k')\n",
    "\n",
    "  leg = ax.legend([ax_arr, by_arr, z_arr], [r\"$a\\mathbf{x}$\", r\"$b\\mathbf{y}$\", r\"$\\mathbf{z} = a\\mathbf{x} + b\\mathbf{y}$\"], handlelength = 0, fontsize = 25, loc = 'center left', bbox_to_anchor=(1.05, .5))\n",
    "  for handle, label in zip(leg.legendHandles, leg.texts):\n",
    "        label.set_color(handle.get_facecolor())\n",
    "        handle.set_visible(False)\n",
    "\n",
    "@widgets.interact(a = widgets.FloatSlider(value=1.0, min=-2, max=2, step=0.1), b = widgets.FloatSlider(value=1.0, min=-2, max=2, step=0.1))\n",
    "def plot_linear_combination(a, b):\n",
    "  x = np.array([3, 1])\n",
    "  y = np.array([3, 1])/2\n",
    "\n",
    "  plot_arrows(a*x, b*y)"
   ]
  },
  {
   "cell_type": "code",
   "execution_count": null,
   "metadata": {
    "execution": {
     "iopub.execute_input": "2021-06-28T19:47:24.120680Z",
     "iopub.status.busy": "2021-06-28T19:47:24.120035Z",
     "iopub.status.idle": "2021-06-28T19:47:24.123686Z",
     "shell.execute_reply": "2021-06-28T19:47:24.124183Z"
    }
   },
   "outputs": [],
   "source": [
    "# to_remove explanation\n",
    "\n",
    "# 1. When a is negative, the direction of ax is the exact opposite of x\n",
    "# 2. When a is a positive fraction, ax is the same direction but shorter than x\n",
    "# 3. Yes you can get z to point anywhere in 2D space by changing a and b around\n",
    "# 4. No, if x and y pointed in the same direction, you could not get anywhere in\n",
    "#    2D space. We will delve into this in the next section!"
   ]
  },
  {
   "cell_type": "markdown",
   "metadata": {},
   "source": [
    "---\n",
    "# Section 2: Defining space through vectors"
   ]
  },
  {
   "cell_type": "markdown",
   "metadata": {},
   "source": [
    "## Section 2.1: Span & Linear Independence"
   ]
  },
  {
   "cell_type": "code",
   "execution_count": null,
   "metadata": {
    "cellView": "form",
    "execution": {
     "iopub.execute_input": "2021-06-28T19:47:24.132747Z",
     "iopub.status.busy": "2021-06-28T19:47:24.132084Z",
     "iopub.status.idle": "2021-06-28T19:47:24.273556Z",
     "shell.execute_reply": "2021-06-28T19:47:24.269585Z"
    }
   },
   "outputs": [],
   "source": [
    "# @title Video 4: Span and Linear Independence\n",
    "from ipywidgets import widgets\n",
    "\n",
    "out2 = widgets.Output()\n",
    "with out2:\n",
    "  from IPython.display import IFrame\n",
    "  class BiliVideo(IFrame):\n",
    "      def __init__(self, id, page=1, width=400, height=300, **kwargs):\n",
    "          self.id=id\n",
    "          src = 'https://player.bilibili.com/player.html?bvid={0}&page={1}'.format(id, page)\n",
    "          super(BiliVideo, self).__init__(src, width, height, **kwargs)\n",
    "\n",
    "  video = BiliVideo(id=\"\", width=854, height=480, fs=1)\n",
    "  print('Video available at https://www.bilibili.com/video/{0}'.format(video.id))\n",
    "  display(video)\n",
    "\n",
    "out1 = widgets.Output()\n",
    "with out1:\n",
    "  from IPython.display import YouTubeVideo\n",
    "  video = YouTubeVideo(id=\"g7DoHnZkUlw\", width=854, height=480, fs=1, rel=0)\n",
    "  print('Video available at https://youtube.com/watch?v=' + video.id)\n",
    "  display(video)\n",
    "\n",
    "out = widgets.Tab([out1, out2])\n",
    "out.set_title(0, 'Youtube')\n",
    "out.set_title(1, 'Bilibili')\n",
    "\n",
    "display(out)"
   ]
  },
  {
   "cell_type": "markdown",
   "metadata": {},
   "source": [
    "The **span of a set of vectors** is the set of all possible linear combinations of those vectors. In the last demo, you saw that the vector $\\mathbf{x}$ and the vector $\\mathbf{y}$ spanned 2D space (${\\rm I\\!R}^2$). This means you can get to any point in 2D space (corresponding to vector $\\mathbf{v}$ with some combination of $a$ and $b$, the scalar multiples in a linear combination of $\\mathbf{x}$ and $\\mathbf{y}$:\n",
    "\n",
    "$$\\mathbf{v} = a\\mathbf{x} + b\\mathbf{y}$$\n",
    "\n",
    "Even more specifically, in this situation, each point in 2D space is identified by a unique and single combination of $a$ and $b$: if you know the point, you know what $a$ and $b$ are. \n",
    "\n",
    "A set of vectors is linearly dependent if one can be written as a linear combination of the others. If this is not the case, the set of vectors is linearly independent."
   ]
  },
  {
   "cell_type": "markdown",
   "metadata": {},
   "source": [
    "### Think! 2.1: Determing dependence\n",
    "\n",
    "Let's say we have four vectors: \n",
    "\n",
    "$$ \\mathbf{a} = \\begin{bmatrix}\n",
    "    4 \\\\ 2 \\\\ 0\n",
    "\\end{bmatrix},  \\mathbf{b} = \\begin{bmatrix}\n",
    "    1 \\\\ 0 \\\\ 3, \n",
    "\\end{bmatrix}, \\mathbf{c} = \\begin{bmatrix}\n",
    "    5 \\\\ 2 \\\\ 3\n",
    "\\end{bmatrix}, \\mathbf{d} = \\begin{bmatrix}\n",
    "    3 \\\\ 3 \\\\ 2\n",
    "\\end{bmatrix}$$\n",
    "\n",
    "1. Are these vectors linearly independent or dependent? Why?\n",
    "2. What is the span of the set of vectors $\\{\\mathbf{a}, \\mathbf{b}, \\mathbf{c}, \\mathbf{d}\\}$? \n",
    "3. What is the span of a set just consisting of vector $\\{\\mathbf{a}$} (in general terms)?\n",
    "4. What is the span of the set of vectors $\\{\\mathbf{a}, \\mathbf{b}$} (in general terms)?"
   ]
  },
  {
   "cell_type": "code",
   "execution_count": null,
   "metadata": {
    "execution": {
     "iopub.execute_input": "2021-06-28T19:47:24.284747Z",
     "iopub.status.busy": "2021-06-28T19:47:24.283696Z",
     "iopub.status.idle": "2021-06-28T19:47:24.286002Z",
     "shell.execute_reply": "2021-06-28T19:47:24.285391Z"
    }
   },
   "outputs": [],
   "source": [
    "# to_remove explanation\n",
    "\n",
    "# 1) They are linearly dependent as one can be formed as a linear combination of\n",
    "#     the others (a + b = c). You could also have known this because you have four\n",
    "#.    3D vectors. You don't need 4 vectors to get anywhere in 3D space!\n",
    "#.\n",
    "# 2) The span of a, b, c, and d is all of 3D space (R^3).\n",
    "\n",
    "# 3) The span of a and b is a 1D line through 3D space (note this is not R^1)\n",
    "\n",
    "# 4) The span of a and b is a 2d plane through 3D space (note this is not R^2)"
   ]
  },
  {
   "cell_type": "markdown",
   "metadata": {},
   "source": [
    "## Section 2.2: Basis vectors\n"
   ]
  },
  {
   "cell_type": "code",
   "execution_count": null,
   "metadata": {
    "cellView": "form",
    "execution": {
     "iopub.execute_input": "2021-06-28T19:47:24.300238Z",
     "iopub.status.busy": "2021-06-28T19:47:24.293971Z",
     "iopub.status.idle": "2021-06-28T19:47:24.481288Z",
     "shell.execute_reply": "2021-06-28T19:47:24.477215Z"
    }
   },
   "outputs": [],
   "source": [
    "# @title Video 5: Basis vectors\n",
    "from ipywidgets import widgets\n",
    "\n",
    "out2 = widgets.Output()\n",
    "with out2:\n",
    "  from IPython.display import IFrame\n",
    "  class BiliVideo(IFrame):\n",
    "      def __init__(self, id, page=1, width=400, height=300, **kwargs):\n",
    "          self.id=id\n",
    "          src = 'https://player.bilibili.com/player.html?bvid={0}&page={1}'.format(id, page)\n",
    "          super(BiliVideo, self).__init__(src, width, height, **kwargs)\n",
    "\n",
    "  video = BiliVideo(id=\"\", width=854, height=480, fs=1)\n",
    "  print('Video available at https://www.bilibili.com/video/{0}'.format(video.id))\n",
    "  display(video)\n",
    "\n",
    "out1 = widgets.Output()\n",
    "with out1:\n",
    "  from IPython.display import YouTubeVideo\n",
    "  video = YouTubeVideo(id=\"kgjwmHZH-So\", width=854, height=480, fs=1, rel=0)\n",
    "  print('Video available at https://youtube.com/watch?v=' + video.id)\n",
    "  display(video)\n",
    "\n",
    "out = widgets.Tab([out1, out2])\n",
    "out.set_title(0, 'Youtube')\n",
    "out.set_title(1, 'Bilibili')\n",
    "\n",
    "display(out)"
   ]
  },
  {
   "cell_type": "markdown",
   "metadata": {},
   "source": [
    "If a set of vectors spans 2D space are linearly independent, they form a **basis** for 2D space.  This means that we can identify all points in 2D space with reference to these two vectors, instead of to the traditional x-axis and y-axis coordinates. In fact, you've been using a basis all along when you identify points by their x-axis and y-axis coordinates: the **standard basis**! In 2D space, the standard basis vectors ($\\tilde{\\mathbf{e}}_1$ and $\\tilde{\\mathbf{e}}_2$) are the unit vectors corresponding to the x and y axes:\n",
    " \n",
    "$$\\tilde{\\mathbf{e}}_1 = \\begin{bmatrix} 1\\\\ 0\\\\ \\end{bmatrix} ,\\tilde{\\mathbf{e}}_2 = \\begin{bmatrix} 0\\\\ 1\\\\ \\end{bmatrix} $$\n",
    "\n",
    "When you refer to a point on a 2D plot as (4, 2), you are really identifying the scalar multiples to get to that point as a linear combination of the standard basis. The standard basis is convenient - and what we're used to - but it is essential for a variety of applications of linear algebra (including some we'll encounter in this course) to be able to switch our frame of reference to a different basis. In this example, we can now refer to points as (a, b) where a and b are the scalar multiples to get to that point as a linear combination of $\\mathbf{x}$ and $\\mathbf{y}$.\n",
    "\n",
    "Let's return to this idea of linear independence of vectors.  \n",
    "\n",
    "I've been referring to 2D space a lot but there are lots of **vector spaces** for which we can use basis vectors. We'll leave the formal definition of vector spaces to the bonus material as it's a little unwieldy but basically it's a set of vectors where all linear combinations of all vectors are included in the set. 1D space (${\\rm I\\!R}^1$), 2D space (${\\rm I\\!R}^2$), 3D space (${\\rm I\\!R}^3$), and so on are all vector spaces. These are not the only ones though: subsets of these vector spaces can also be vector spaces themselves. For example, a 1D line through a 2D plane is a vector space.  And we have even more unusual vector spaces - I give an example of one in the bonus material.\n",
    "\n"
   ]
  },
  {
   "cell_type": "markdown",
   "metadata": {},
   "source": [
    "### Think! 2.2: Figuring out a basis\n",
    "\n",
    "Let's say we are looking at the firing rates of 3 neurons. It turns out that due to their tightly-linked interactions, they always fire in such a way that the point in 3D space falls along a 2D plane (that passes through the origin) as represented by the blue plane in the figure below. This 2D plane is a subspace of all of 3-D space (R3).\n",
    "\n",
    "1) How many basis vectors would you need for the 2D plane? How many components would each basic vector have?\n",
    "\n",
    "2) How many numbers would you need to be able to fully describe the state of the 3 neuron population at a given time?\n",
    "\n"
   ]
  },
  {
   "cell_type": "code",
   "execution_count": null,
   "metadata": {
    "cellView": "form",
    "execution": {
     "iopub.execute_input": "2021-06-28T19:47:24.493120Z",
     "iopub.status.busy": "2021-06-28T19:47:24.492221Z",
     "iopub.status.idle": "2021-06-28T19:47:24.765962Z",
     "shell.execute_reply": "2021-06-28T19:47:24.766567Z"
    }
   },
   "outputs": [],
   "source": [
    "# @markdown Execute this cell to see figure\n",
    "\n",
    "fig = plt.figure()\n",
    "\n",
    "# add axes\n",
    "ax = fig.add_subplot(111,projection='3d')\n",
    "\n",
    "xx, yy = np.meshgrid(range(-4, 4), range(-4, 4))\n",
    "z = .7*xx + -.2*yy\n",
    "\n",
    "# plot the plane\n",
    "ax.plot_surface(xx, yy, z, alpha=0.5)\n",
    "\n",
    "ax.set(xlim = [0, 5], ylim = [5, 0], zlim = [0, 5], xlabel = 'Neuron 1 Firing Rate',  ylabel = 'Neuron 2 Firing Rate', zlabel = 'Neuron 3 Firing Rate');\n",
    "#ax.invert_xaxis()"
   ]
  },
  {
   "cell_type": "code",
   "execution_count": null,
   "metadata": {
    "execution": {
     "iopub.execute_input": "2021-06-28T19:47:24.773311Z",
     "iopub.status.busy": "2021-06-28T19:47:24.772204Z",
     "iopub.status.idle": "2021-06-28T19:47:24.774060Z",
     "shell.execute_reply": "2021-06-28T19:47:24.774794Z"
    }
   },
   "outputs": [],
   "source": [
    "# to_remove explanation\n",
    "\n",
    "# 1. You would need 2 basis vectors as the true dimensionality of the 2D plane is 2.\n",
    "# Each vector would have 3 components. The two basic vectors would be independent\n",
    "# vectors that lie in the 2D plane.\n",
    "\n",
    "# 2. You can describe the state of the 3 neuron population activity with 2 numbers by\n",
    "# using the new basis vectors as the coordinate system. We can now describe the neural\n",
    "# activity in a lower dimensional space because there is lower-dimensional structure.\n",
    "# We'll learn much more about this, and lots of related interesting research, on the\n",
    "# dimensionality reduction day in the comp neuro course!"
   ]
  },
  {
   "cell_type": "markdown",
   "metadata": {},
   "source": [
    "# Section 3: The dot product"
   ]
  },
  {
   "cell_type": "markdown",
   "metadata": {},
   "source": [
    "## Section 3.1: Neural modeling using the dot product"
   ]
  },
  {
   "cell_type": "code",
   "execution_count": null,
   "metadata": {
    "cellView": "form",
    "execution": {
     "iopub.execute_input": "2021-06-28T19:47:24.788365Z",
     "iopub.status.busy": "2021-06-28T19:47:24.782667Z",
     "iopub.status.idle": "2021-06-28T19:47:24.904328Z",
     "shell.execute_reply": "2021-06-28T19:47:24.900458Z"
    }
   },
   "outputs": [],
   "source": [
    "# @title Video 6: The dot product\n",
    "from ipywidgets import widgets\n",
    "\n",
    "out2 = widgets.Output()\n",
    "with out2:\n",
    "  from IPython.display import IFrame\n",
    "  class BiliVideo(IFrame):\n",
    "      def __init__(self, id, page=1, width=400, height=300, **kwargs):\n",
    "          self.id=id\n",
    "          src = 'https://player.bilibili.com/player.html?bvid={0}&page={1}'.format(id, page)\n",
    "          super(BiliVideo, self).__init__(src, width, height, **kwargs)\n",
    "\n",
    "  video = BiliVideo(id=\"\", width=854, height=480, fs=1)\n",
    "  print('Video available at https://www.bilibili.com/video/{0}'.format(video.id))\n",
    "  display(video)\n",
    "\n",
    "out1 = widgets.Output()\n",
    "with out1:\n",
    "  from IPython.display import YouTubeVideo\n",
    "  video = YouTubeVideo(id=\"Ene_TYyTdNM\", width=854, height=480, fs=1, rel=0)\n",
    "  print('Video available at https://youtube.com/watch?v=' + video.id)\n",
    "  display(video)\n",
    "\n",
    "out = widgets.Tab([out1, out2])\n",
    "out.set_title(0, 'Youtube')\n",
    "out.set_title(1, 'Bilibili')\n",
    "\n",
    "display(out)"
   ]
  },
  {
   "cell_type": "markdown",
   "metadata": {},
   "source": [
    "The dot product between two vectors is a scalar value computed as the sum of element-wise multiplication of vector components. \n",
    "$$\\text{Dot product of } \\mathbf{x} \\text{ and } \\mathbf{y} = \\mathbf{x} \\cdot \\mathbf{y} = \\sum_{i=1}^{N} \\mathbf{x}_i\\mathbf{y}_i $$\n",
    "\n",
    "If we have vector $\\mathbf{x} = \\begin{bmatrix}2\\\\ 3\\\\\\end{bmatrix}$ and $\\mathbf{y} = \\begin{bmatrix}1\\\\ 4\\\\\\end{bmatrix}$, then:\n",
    "$$\\mathbf{x} \\cdot \\mathbf{y} = 2*1 + 3*4 = 14$$.\n",
    "\n",
    "In code, we can compute the dot product between two vectors represented by numpy arrays using `np.dot`:\n",
    "\n",
    "\n",
    "```\n",
    "x = np.array([2, 3])\n",
    "y = np.array([1, 4])\n",
    "dot_prod = np.dot(x, y)\n",
    "```\n",
    "\n",
    "\n",
    " We will discuss more about what the dot product represents geometrically after the next demo.\n",
    "\n",
    "\n",
    "We are using the dot product to model neural firing. Specifically, we have multiple presynaptic neurons connected to a postsynaptic neuron. The postsynaptic neuron response is a weighted sum of the presynaptic firing rates (where the weights are the strengths of the synapses). We can capture this as the dot product between a vector of presynaptic firing rates and a vector of weights from each presynaptic neuron. \n",
    "\n",
    "In the following demo, we have two presynaptic neurons with varying firing rates ($a_1$ and $a_2$). We will allow our firing rates to be negative in this example. We can represent our presynaptic firing rates with the vector $\\mathbf{a} = \\begin{bmatrix} a_1\\\\ a_2\\\\ \\end{bmatrix}$.\n",
    "\n",
    "We have weights from each of these to a postsynaptic neuron: the weight of the connection from the first presynaptic neuron is 1 and the weight from the second is 2. See the circuit below. We can represent our weights with the vector $\\mathbf{w} = \\begin{bmatrix} 1\\\\ 2\\\\ \\end{bmatrix}$.\n",
    "\n",
    "The postsynaptic firing rate is the dot product of the presynaptic firing rate vector and the weight vector:\n",
    "\n",
    "$$b = \\mathbf{w}\\cdot\\mathbf{a} = w_1a_1 + w_2a_2$$\n"
   ]
  },
  {
   "cell_type": "markdown",
   "metadata": {},
   "source": [
    "![Screen Shot 2021-05-28 at 3.55.08 AM.png](data:image/png;base64,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)"
   ]
  },
  {
   "cell_type": "markdown",
   "metadata": {},
   "source": [
    "### Interactive Demo: Postsynaptic firing\n",
    "\n",
    "\n",
    "In the following demo you will try various combinations of firing rates of the pre-synaptic neurons (thus moving the vector that corresponds to the firing rates).  When you move the presynaptic firing rates around, you will see the heatmap in that area appear which shows the corresponding postsynaptic neuron firing rate (for that combo of presynaptic firing). Remember that this value is computed as the dot product between the presynaptic firing rate vector and the weight vector.\n",
    "\n",
    "Play with the following demo and then discuss these questions:\n",
    "\n",
    "\n",
    "1.   For a given length of the presynaptic firing rate vector, what direction maximally excites the postsynaptic neuron (highest postsynaptic firing rate)? How does it relate to the weights vector?\n",
    "2.   For a given length of the presynaptic firing rate vector, what direction minimally excites the postsynaptic neuron? \n",
    "3.   When does the postsynaptic neuron have 0 firing rate? What is the relationship between the weights and presynaptic firing rate vector?\n",
    "4.   For a given direction, how does the postsynaptic firing rate vary with length of the presynaptic firing rate vector?\n",
    "5.   Let's say the presynaptic neurons are tightly linked and the length of the presynaptic firing rate has to be 1. In other words, it has to be a unit vector. How would you find the presynaptic firing rates that maximally excite the postsynaptic neuron?"
   ]
  },
  {
   "cell_type": "code",
   "execution_count": null,
   "metadata": {
    "cellView": "form",
    "execution": {
     "iopub.execute_input": "2021-06-28T19:47:24.927049Z",
     "iopub.status.busy": "2021-06-28T19:47:24.921851Z",
     "iopub.status.idle": "2021-06-28T19:47:25.437645Z",
     "shell.execute_reply": "2021-06-28T19:47:25.435572Z"
    }
   },
   "outputs": [],
   "source": [
    "#@markdown Make sure you execute this cell to enable the widget!\n",
    "\n",
    "step = .1\n",
    "x_vec = np.arange(-4, 4.001, step)\n",
    "y_vec = np.arange(-4, 4.001, step)\n",
    "n_pixels = x_vec.shape[0]\n",
    "\n",
    "\n",
    "heatmap = np.zeros((n_pixels, n_pixels))\n",
    "y = np.array([1, 3])\n",
    "for i, coord1 in enumerate(x_vec):\n",
    "  for j, coord2 in enumerate(x_vec):\n",
    "    heatmap[i, j] = np.dot(np.array([coord1, coord2]), y)\n",
    "circle_mask = np.zeros((n_pixels, n_pixels))\n",
    "\n",
    "for i, coord_i in enumerate(x_vec):\n",
    "  for j, coord_j in enumerate(y_vec):\n",
    "    circle_mask[i, j] = np.sqrt(coord_i**2 + coord_j**2)\n",
    "\n",
    "circle_mask = circle_mask < 4\n",
    "\n",
    "heatmap = heatmap * circle_mask\n",
    "mask = np.zeros((n_pixels, n_pixels))\n",
    "\n",
    "def plot_heatmap(x, y, mask):\n",
    "\n",
    "  fig, ax = plt.subplots()\n",
    "\n",
    "  ax.spines['top'].set_color('none')\n",
    "  ax.spines['bottom'].set_position('zero')\n",
    "  ax.spines['left'].set_position('zero')\n",
    "  ax.spines['right'].set_color('none')\n",
    "\n",
    "  #heatmap[np.where(x_vec == x[0])[0], np.where(x_vec == x[1])[0]] = np.dot(x, y)\n",
    "\n",
    "  masked_x = np.abs(x_vec - x[0]) < 1\n",
    "  masked_y = np.abs(y_vec - x[1]) < 1\n",
    "  mask += np.outer(masked_x, masked_y)\n",
    "  mask = np.ones_like(heatmap) #np.minimum(mask, 1)\n",
    "\n",
    "  im = ax.imshow((heatmap * mask).T, vmin = -15, vmax = 15, origin = 'lower', alpha = .5, extent=[-n_pixels/2., n_pixels/2., -n_pixels/2., n_pixels/2. ], cmap = 'bwr')\n",
    "  cbar = plt.colorbar(im, ax = ax)\n",
    "  cbar.set_label('Response of LGN neuron (g)', rotation=270, labelpad=20)\n",
    "  ax.set(xticklabels = [], yticklabels = [], xlabel = '$\\mathbf{r}_1$')\n",
    "  ax.set_ylabel('$\\mathbf{r}_2$', rotation=0)\n",
    "\n",
    "  ax.xaxis.set_label_coords(0, .45)\n",
    "  ax.yaxis.set_label_coords(.5, 1)\n",
    "  fr_arr = ax.arrow(0, 0, (1/step)*x[0], (1/step)*x[1], width=.5, color='#40B0A6', length_includes_head = True);\n",
    "  we_arr = ax.arrow(0, 0, (1/step)*y[0], (1/step)*y[1], width=.5, color='k', length_includes_head = True);\n",
    "\n",
    "\n",
    "  leg = ax.legend([fr_arr, we_arr], ['Retina firing rate vector', 'Weight vector'],\n",
    "                  handlelength = 0, frameon=False, fontsize = 17,loc = 'center',\n",
    "                  bbox_to_anchor=(.5, -.1))\n",
    "  for handle, label in zip(leg.legendHandles, leg.texts):\n",
    "        label.set_color(handle.get_facecolor())\n",
    "        handle.set_visible(False)\n",
    "\n",
    "  return mask\n",
    "\n",
    "style = {'description_width': 'initial'}\n",
    "\n",
    "@widgets.interact(neuron1_firing = widgets.FloatSlider(value=1.0, min=-4, max=4, step=1, style=style), neuron2_firing = widgets.FloatSlider(value=1.0, min=-4, max=4, step=1, style=style), mask = fixed(mask),  heatmap = fixed(heatmap))\n",
    "def plot_linear_combination(neuron1_firing, neuron2_firing, mask):\n",
    "  firing_rates = np.array([neuron1_firing, neuron2_firing])\n",
    "  weights = np.array([1, 2])\n",
    "  mask = plot_heatmap(firing_rates, weights, mask)\n",
    "\n",
    "  from google.colab import files\n",
    "  plt.savefig('abc.pdf')\n",
    "  files.download('abc.pdf')"
   ]
  },
  {
   "cell_type": "code",
   "execution_count": null,
   "metadata": {
    "execution": {
     "iopub.execute_input": "2021-06-28T19:47:25.441334Z",
     "iopub.status.busy": "2021-06-28T19:47:25.440667Z",
     "iopub.status.idle": "2021-06-28T19:47:25.446390Z",
     "shell.execute_reply": "2021-06-28T19:47:25.445808Z"
    }
   },
   "outputs": [],
   "source": [
    "# to_remove explanation\n",
    "\n",
    "# 1) The direction of the presynaptic firing rate vector that maximially excites\n",
    "#.   the postsynaptic neuron is the direction of the weight vector.\n",
    "\n",
    "# 2) The direction of the presynaptic firing rate vector that mimimally excites\n",
    "#.   the postsynaptic neuron is the opposite direction of the weight vector.\n",
    "\n",
    "# 3) The postsynaptic neuron has 0 firing rate when the firing rate vector is\n",
    "#.   perpendicular to the weight vector\n",
    "\n",
    "\n",
    "#. 4) The absolute value of the postsynaptic firing rate grows bigger as the length\n",
    "#.   of the presynaptic firing rate increase.\n",
    "\n",
    "\n",
    "#. 5) You want a unit vector in the direction of the weight vector. You can just normalize\n",
    "#.   the weight vector (divide by it's length), as we saw in Section 1!"
   ]
  },
  {
   "cell_type": "markdown",
   "metadata": {},
   "source": [
    "## Section 3.2: The geometry of the dot product"
   ]
  },
  {
   "cell_type": "code",
   "execution_count": null,
   "metadata": {
    "cellView": "form",
    "execution": {
     "iopub.execute_input": "2021-06-28T19:47:25.465059Z",
     "iopub.status.busy": "2021-06-28T19:47:25.462034Z",
     "iopub.status.idle": "2021-06-28T19:47:25.569650Z",
     "shell.execute_reply": "2021-06-28T19:47:25.565395Z"
    }
   },
   "outputs": [],
   "source": [
    "# @title Video 7: The geometry of the dot product\n",
    "from ipywidgets import widgets\n",
    "\n",
    "out2 = widgets.Output()\n",
    "with out2:\n",
    "  from IPython.display import IFrame\n",
    "  class BiliVideo(IFrame):\n",
    "      def __init__(self, id, page=1, width=400, height=300, **kwargs):\n",
    "          self.id=id\n",
    "          src = 'https://player.bilibili.com/player.html?bvid={0}&page={1}'.format(id, page)\n",
    "          super(BiliVideo, self).__init__(src, width, height, **kwargs)\n",
    "\n",
    "  video = BiliVideo(id=\"\", width=854, height=480, fs=1)\n",
    "  print('Video available at https://www.bilibili.com/video/{0}'.format(video.id))\n",
    "  display(video)\n",
    "\n",
    "out1 = widgets.Output()\n",
    "with out1:\n",
    "  from IPython.display import YouTubeVideo\n",
    "  video = YouTubeVideo(id=\"S2wKFY5iWUM\", width=854, height=480, fs=1, rel=0)\n",
    "  print('Video available at https://youtube.com/watch?v=' + video.id)\n",
    "  display(video)\n",
    "\n",
    "out = widgets.Tab([out1, out2])\n",
    "out.set_title(0, 'Youtube')\n",
    "out.set_title(1, 'Bilibili')\n",
    "\n",
    "display(out)"
   ]
  },
  {
   "cell_type": "markdown",
   "metadata": {},
   "source": [
    "---\n",
    "# Summary\n",
    "\n",
    "Hopefully, this tutorial has helped you better understand the world of vectors. Specifically, you learned: \n",
    "\n",
    "* A geometrical view of vectors, their properties, and their operations\n",
    "\n",
    "* How we can define space in terms of basis vectors\n",
    "\n",
    "We will build on this knowledge in the next tutorial when we tackle matrices. \n"
   ]
  }
 ],
 "metadata": {
  "colab": {
   "collapsed_sections": [],
   "include_colab_link": true,
   "name": "W0D3_Tutorial1",
   "provenance": [],
   "toc_visible": true
  },
  "kernel": {
   "display_name": "Python 3",
   "language": "python",
   "name": "python3"
  },
  "kernelspec": {
   "display_name": "Python 3",
   "name": "python3"
  },
  "language_info": {
   "codemirror_mode": {
    "name": "ipython",
    "version": 3
   },
   "file_extension": ".py",
   "mimetype": "text/x-python",
   "name": "python",
   "nbconvert_exporter": "python",
   "pygments_lexer": "ipython3",
   "version": "3.7.10"
  }
 },
 "nbformat": 4,
 "nbformat_minor": 0
}
