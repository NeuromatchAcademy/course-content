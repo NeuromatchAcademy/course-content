{
  "nbformat": 4,
  "nbformat_minor": 0,
  "metadata": {
    "colab": {
      "name": "intro",
      "provenance": [],
      "collapsed_sections": [],
      "toc_visible": true,
      "include_colab_link": true
    },
    "kernel": {
      "display_name": "Python 3",
      "language": "python",
      "name": "python3"
    },
    "kernelspec": {
      "display_name": "Python 3",
      "language": "python",
      "name": "python3"
    },
    "language_info": {
      "codemirror_mode": {
        "name": "ipython",
        "version": 3
      },
      "file_extension": ".py",
      "mimetype": "text/x-python",
      "name": "python",
      "nbconvert_exporter": "python",
      "pygments_lexer": "ipython3",
      "version": "3.7.10"
    },
    "widgets": {
      "application/vnd.jupyter.widget-state+json": {
        "e82ca0efc70248fd9b7d00c934c271f9": {
          "model_module": "@jupyter-widgets/controls",
          "model_name": "TabModel",
          "state": {
            "_view_name": "TabView",
            "_dom_classes": [],
            "_titles": {
              "0": "Youtube",
              "1": "Bilibili"
            },
            "_model_name": "TabModel",
            "_view_module": "@jupyter-widgets/controls",
            "selected_index": 1,
            "_model_module_version": "1.5.0",
            "_view_count": null,
            "_view_module_version": "1.5.0",
            "box_style": "",
            "layout": "IPY_MODEL_31b0c8f6c95f4df89d9bda15774d8544",
            "_model_module": "@jupyter-widgets/controls",
            "children": [
              "IPY_MODEL_a8e96e4b13e04ae8bf5da2bba5f246bb",
              "IPY_MODEL_bfd8bfe8bfaf4619b9f044099c7f64d7"
            ]
          }
        },
        "31b0c8f6c95f4df89d9bda15774d8544": {
          "model_module": "@jupyter-widgets/base",
          "model_name": "LayoutModel",
          "state": {
            "_view_name": "LayoutView",
            "grid_template_rows": null,
            "right": null,
            "justify_content": null,
            "_view_module": "@jupyter-widgets/base",
            "overflow": null,
            "_model_module_version": "1.2.0",
            "_view_count": null,
            "flex_flow": null,
            "width": null,
            "min_width": null,
            "border": null,
            "align_items": null,
            "bottom": null,
            "_model_module": "@jupyter-widgets/base",
            "top": null,
            "grid_column": null,
            "overflow_y": null,
            "overflow_x": null,
            "grid_auto_flow": null,
            "grid_area": null,
            "grid_template_columns": null,
            "flex": null,
            "_model_name": "LayoutModel",
            "justify_items": null,
            "grid_row": null,
            "max_height": null,
            "align_content": null,
            "visibility": null,
            "align_self": null,
            "height": null,
            "min_height": null,
            "padding": null,
            "grid_auto_rows": null,
            "grid_gap": null,
            "max_width": null,
            "order": null,
            "_view_module_version": "1.2.0",
            "grid_template_areas": null,
            "object_position": null,
            "object_fit": null,
            "grid_auto_columns": null,
            "margin": null,
            "display": null,
            "left": null
          }
        },
        "a8e96e4b13e04ae8bf5da2bba5f246bb": {
          "model_module": "@jupyter-widgets/output",
          "model_name": "OutputModel",
          "state": {
            "_view_name": "OutputView",
            "msg_id": "",
            "_dom_classes": [],
            "_model_name": "OutputModel",
            "outputs": [
              {
                "output_type": "stream",
                "metadata": {
                  "tags": []
                },
                "text": "Video available at https://youtube.com/watch?v=UBED532ByzE\n",
                "stream": "stdout"
              },
              {
                "output_type": "display_data",
                "metadata": {
                  "tags": []
                },
                "text/html": "\n        <iframe\n            width=\"854\"\n            height=\"480\"\n            src=\"https://www.youtube.com/embed/UBED532ByzE?fs=1&rel=0\"\n            frameborder=\"0\"\n            allowfullscreen\n        ></iframe>\n        ",
                "text/plain": "<IPython.lib.display.YouTubeVideo at 0x7f18355d7f10>",
                "image/jpeg": "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\n"
              }
            ],
            "_view_module": "@jupyter-widgets/output",
            "_model_module_version": "1.0.0",
            "_view_count": null,
            "_view_module_version": "1.0.0",
            "layout": "IPY_MODEL_53067a9de0d64bc5bb38fb3f656f6337",
            "_model_module": "@jupyter-widgets/output"
          }
        },
        "bfd8bfe8bfaf4619b9f044099c7f64d7": {
          "model_module": "@jupyter-widgets/output",
          "model_name": "OutputModel",
          "state": {
            "_view_name": "OutputView",
            "msg_id": "",
            "_dom_classes": [],
            "_model_name": "OutputModel",
            "outputs": [
              {
                "output_type": "stream",
                "metadata": {
                  "tags": []
                },
                "text": "Video available at https://www.bilibili.com/video/BV1V54y1p77g\n",
                "stream": "stdout"
              },
              {
                "output_type": "display_data",
                "metadata": {
                  "tags": []
                },
                "text/html": "\n        <iframe\n            width=\"854\"\n            height=\"480\"\n            src=\"https://player.bilibili.com/player.html?bvid=BV1V54y1p77g&page=1?fs=1\"\n            frameborder=\"0\"\n            allowfullscreen\n        ></iframe>\n        ",
                "text/plain": "<__main__.BiliVideo at 0x7f1830ce5d50>"
              }
            ],
            "_view_module": "@jupyter-widgets/output",
            "_model_module_version": "1.0.0",
            "_view_count": null,
            "_view_module_version": "1.0.0",
            "layout": "IPY_MODEL_a8463bce5c1f4cc9b06defd611fff1a4",
            "_model_module": "@jupyter-widgets/output"
          }
        },
        "53067a9de0d64bc5bb38fb3f656f6337": {
          "model_module": "@jupyter-widgets/base",
          "model_name": "LayoutModel",
          "state": {
            "_view_name": "LayoutView",
            "grid_template_rows": null,
            "right": null,
            "justify_content": null,
            "_view_module": "@jupyter-widgets/base",
            "overflow": null,
            "_model_module_version": "1.2.0",
            "_view_count": null,
            "flex_flow": null,
            "width": null,
            "min_width": null,
            "border": null,
            "align_items": null,
            "bottom": null,
            "_model_module": "@jupyter-widgets/base",
            "top": null,
            "grid_column": null,
            "overflow_y": null,
            "overflow_x": null,
            "grid_auto_flow": null,
            "grid_area": null,
            "grid_template_columns": null,
            "flex": null,
            "_model_name": "LayoutModel",
            "justify_items": null,
            "grid_row": null,
            "max_height": null,
            "align_content": null,
            "visibility": null,
            "align_self": null,
            "height": null,
            "min_height": null,
            "padding": null,
            "grid_auto_rows": null,
            "grid_gap": null,
            "max_width": null,
            "order": null,
            "_view_module_version": "1.2.0",
            "grid_template_areas": null,
            "object_position": null,
            "object_fit": null,
            "grid_auto_columns": null,
            "margin": null,
            "display": null,
            "left": null
          }
        },
        "a8463bce5c1f4cc9b06defd611fff1a4": {
          "model_module": "@jupyter-widgets/base",
          "model_name": "LayoutModel",
          "state": {
            "_view_name": "LayoutView",
            "grid_template_rows": null,
            "right": null,
            "justify_content": null,
            "_view_module": "@jupyter-widgets/base",
            "overflow": null,
            "_model_module_version": "1.2.0",
            "_view_count": null,
            "flex_flow": null,
            "width": null,
            "min_width": null,
            "border": null,
            "align_items": null,
            "bottom": null,
            "_model_module": "@jupyter-widgets/base",
            "top": null,
            "grid_column": null,
            "overflow_y": null,
            "overflow_x": null,
            "grid_auto_flow": null,
            "grid_area": null,
            "grid_template_columns": null,
            "flex": null,
            "_model_name": "LayoutModel",
            "justify_items": null,
            "grid_row": null,
            "max_height": null,
            "align_content": null,
            "visibility": null,
            "align_self": null,
            "height": null,
            "min_height": null,
            "padding": null,
            "grid_auto_rows": null,
            "grid_gap": null,
            "max_width": null,
            "order": null,
            "_view_module_version": "1.2.0",
            "grid_template_areas": null,
            "object_position": null,
            "object_fit": null,
            "grid_auto_columns": null,
            "margin": null,
            "display": null,
            "left": null
          }
        }
      }
    }
  },
  "cells": [
    {
      "cell_type": "markdown",
      "metadata": {
        "id": "view-in-github",
        "colab_type": "text"
      },
      "source": [
        "<a href=\"https://colab.research.google.com/github/NeuromatchAcademy/course-content/blob/fix_welcome_vid/tutorials/intro.ipynb\" target=\"_parent\"><img src=\"https://colab.research.google.com/assets/colab-badge.svg\" alt=\"Open In Colab\"/></a>"
      ]
    },
    {
      "cell_type": "markdown",
      "metadata": {
        "pycharm": {
          "name": "#%% md\n"
        },
        "id": "WIR_PfTKt3wD"
      },
      "source": [
        "# Introduction\n",
        "\n",
        "Welcome to the Neuromatch computational neuroscience course!"
      ]
    },
    {
      "cell_type": "markdown",
      "metadata": {
        "id": "gSrtMJhht3wF"
      },
      "source": [
        "**Our 2021 Sponsors, including Presenting Sponsor Facebook Reality Labs**\n",
        "\n",
        "<p align='center'><img src='https://github.com/NeuromatchAcademy/widgets/blob/master/sponsors.png?raw=True'/></p>"
      ]
    },
    {
      "cell_type": "markdown",
      "metadata": {
        "pycharm": {
          "name": "#%% md\n"
        },
        "id": "daSdRhgHt3wF"
      },
      "source": [
        "## Welcome Video"
      ]
    },
    {
      "cell_type": "code",
      "metadata": {
        "execution": {
          "iopub.execute_input": "2021-07-03T15:39:10.243658Z",
          "iopub.status.busy": "2021-07-03T15:39:10.242524Z",
          "iopub.status.idle": "2021-07-03T15:39:10.483698Z",
          "shell.execute_reply": "2021-07-03T15:39:10.480904Z"
        },
        "pycharm": {
          "name": "#%%\n"
        },
        "cellView": "form",
        "id": "IZliG8-Tt3wF",
        "outputId": "84b81132-80fa-482e-eb77-f076127c0699",
        "colab": {
          "base_uri": "https://localhost:8080/",
          "height": 580,
          "referenced_widgets": [
            "e82ca0efc70248fd9b7d00c934c271f9",
            "31b0c8f6c95f4df89d9bda15774d8544",
            "a8e96e4b13e04ae8bf5da2bba5f246bb",
            "bfd8bfe8bfaf4619b9f044099c7f64d7",
            "53067a9de0d64bc5bb38fb3f656f6337",
            "a8463bce5c1f4cc9b06defd611fff1a4"
          ]
        }
      },
      "source": [
        "# @markdown\n",
        "from ipywidgets import widgets\n",
        "\n",
        "out2 = widgets.Output()\n",
        "with out2:\n",
        "  from IPython.display import IFrame\n",
        "  class BiliVideo(IFrame):\n",
        "      def __init__(self, id, page=1, width=400, height=300, **kwargs):\n",
        "          self.id=id\n",
        "          src = 'https://player.bilibili.com/player.html?bvid={0}&page={1}'.format(id, page)\n",
        "          super(BiliVideo, self).__init__(src, width, height, **kwargs)\n",
        "\n",
        "  video = BiliVideo(id=\"BV1V54y1p77g\", width=854, height=480, fs=1)\n",
        "  print('Video available at https://www.bilibili.com/video/{0}'.format(video.id))\n",
        "  display(video)\n",
        "\n",
        "out1 = widgets.Output()\n",
        "with out1:\n",
        "  from IPython.display import YouTubeVideo\n",
        "  video = YouTubeVideo(id=\"UBED532ByzE\", width=854, height=480, fs=1, rel=0)\n",
        "  print('Video available at https://youtube.com/watch?v=' + video.id)\n",
        "  display(video)\n",
        "\n",
        "out = widgets.Tab([out1, out2])\n",
        "out.set_title(0, 'Youtube')\n",
        "out.set_title(1, 'Bilibili')\n",
        "\n",
        "display(out)"
      ],
      "execution_count": 1,
      "outputs": [
        {
          "output_type": "display_data",
          "data": {
            "application/vnd.jupyter.widget-view+json": {
              "model_id": "e82ca0efc70248fd9b7d00c934c271f9",
              "version_minor": 0,
              "version_major": 2
            },
            "text/plain": [
              "Tab(children=(Output(), Output()), _titles={'0': 'Youtube', '1': 'Bilibili'})"
            ]
          },
          "metadata": {
            "tags": []
          }
        }
      ]
    },
    {
      "cell_type": "markdown",
      "metadata": {
        "pycharm": {
          "name": "#%% md\n"
        },
        "id": "dB5hLucyt3wG"
      },
      "source": [
        "## Concepts map\n",
        "\n",
        "<img src=\"https://github.com/NeuromatchAcademy/course-content/blob/master/tutorials/static/ConceptMap.png?raw=1\" alt=\"Concept map overview of curriculum\" class=\"bg-primary\" width=\"100%\">\n",
        "\n",
        "*Image made by John Butler, with expert color advice from Isabelle Butler*"
      ]
    },
    {
      "cell_type": "markdown",
      "metadata": {
        "id": "ry6sO3gDt3wG"
      },
      "source": [
        "## Curriculum overview\n",
        "\n",
        "Welcome to the comp neuro course!\n",
        "\n",
        "We have curated a curriculum that spans most areas of computational neuroscience (a hard task in an increasingly big field!).\n",
        "We will expose you to both theoretical modeling and more data-driven analyses. This section will overview the curriculum.\n",
        "\n",
        "We will start with several optional pre-reqs refreshers.\n",
        "\n",
        "The **Neuro Video Series** is a series of 12 videos that covers basic neuroscience concepts and neuroscience methods. These videos\n",
        "are completely optional and do not need to be watched in a fixed order so you can pick and choose which videos will help you\n",
        " brush up on your knowledge.\n",
        "\n",
        "The first two days of the pre-reqs refresher week are on **Python** and these are asynchronous, so you can go through the material on your own time.\n",
        "You will learn how to code in Python from scratch using a simple neural model, the leaky integrate-and-fire model, as a motivation.\n",
        "The next few days are our synchronous **Maths Refresher**. You will cover linear algebra, calculus and probability & statistics.\n",
        "The topics covered on these days were carefully chosen based on what you need for the comp neuro course.\n",
        "\n",
        "After this, it’s the start of the proper course! You will start out with the module on **Intro to Modeling**. On the first day,\n",
        "you’ll learn all about the broad types of questions we can ask with models in neuroscience (*Model Types*). You will learn\n",
        "that we can use models to ask what happens, how it happens, and why it happens in the brain. Importantly, we classify models\n",
        "into ‘what’, ‘how’, and ‘why’ models, not based on the toolkit used, but on the questions asked! On the second day, you’ll\n",
        "learn about the process of modeling using a step-by-step guide to modeling that you will apply to your own projects (*Modeling Practice*).\n",
        "\n",
        "After this solid grounding in what questions you can ask with models and the process to start doing so, you will move to the module on **Machine Learning**.\n",
        " This module covers fitting models to data and using them to ask and answer questions in neuroscience. We can pose all sorts of questions\n",
        " (including what, how, and why questions) using machine learning — we focus especially on more data-driven analyses that often result\n",
        "  in asking what is happening in the brain. You will learn about key principles behind fitting models to data (*Model Fitting*),\n",
        "  how to use generalized linear models to fit encoding and decoding models (*Generalized Linear Models*), how to uncover underlying\n",
        "  lower dimensional structure in data (*Dimensionality Reduction*), and how to use deep learning to build more complex encoding models,\n",
        "   including comparing deep networks to the visual system (*Deep Learning*).\n",
        "\n",
        "Next, you’ll move to the module on **Dynamical Systems**. In this module, you will learn all about dynamical systems and\n",
        "how to apply them to build more biologically plausible models of neurons and networks of neurons. In *Linear Systems*,\n",
        "you will cover a lot of the really foundational knowledge on dynamical systems that you will use throughout the rest of the course,\n",
        "including a brief dive into stochastic systems which will underlie the next module.  During *Biological Neuron Models*,\n",
        "you will start to use this knowledge to build models of individual neurons that are more rooted in biology. In *Dynamic Networks*,\n",
        " you will extend upon the previous day to start building and analyzing networks of neurons. We will often ask ‘how’ questions\n",
        " using these models: how are things in the brain happening mechanistically? These models are often not directly fit to data\n",
        " (in contrast to the machine learning models), but instead are built based on bottom up knowledge of the system.\n",
        "\n",
        "Next, you will move to the module on **Stochastic Processes**. We start with a day learning about Bayesian inference, within the context\n",
        "of making decisions (*Bayesian Decisions*). Specifically, we are learning about how to estimate a state of the world from measurements.\n",
        "In the next day, we extend this to include time: the state of the world is now changing over time (*Hidden Dynamics*). Next, we look\n",
        "at how we can take actions to affect the state of the world (*Optimal Control* and *Reinforcement Learning*). Once again, these models\n",
        " can be used as ‘what’, ‘how’, or ‘why’ models but we focus on asking ‘why’ questions (why should the brain compute this?).\n",
        "\n",
        "Finally, we end with learning all about causality (*Network Causality*). This covers one of the most important science questions:\n",
        "when can we determine if something is causally related vs. just correlated?"
      ]
    }
  ]
}