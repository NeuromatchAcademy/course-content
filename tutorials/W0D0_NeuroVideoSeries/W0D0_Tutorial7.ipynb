{
  "nbformat": 4,
  "nbformat_minor": 0,
  "metadata": {
    "colab": {
      "name": "W0D0_Tutorial7",
      "provenance": [],
      "collapsed_sections": [],
      "toc_visible": true,
      "include_colab_link": true
    },
    "kernel": {
      "display_name": "Python 3",
      "language": "python",
      "name": "python3"
    },
    "kernelspec": {
      "name": "python3",
      "display_name": "Python 3"
    },
    "language_info": {
      "name": "python"
    }
  },
  "cells": [
    {
      "cell_type": "markdown",
      "metadata": {
        "id": "view-in-github",
        "colab_type": "text"
      },
      "source": [
        "<a href=\"https://colab.research.google.com/github/NeuromatchAcademy/course-content/blob/neuro_videos/tutorials/W0D0_NeuroVideoSeries/W0D0_Tutorial7.ipynb\" target=\"_parent\"><img src=\"https://colab.research.google.com/assets/colab-badge.svg\" alt=\"Open In Colab\"/></a>"
      ]
    },
    {
      "cell_type": "markdown",
      "metadata": {
        "pycharm": {
          "name": "#%% md\n"
        },
        "id": "bNNHuA9F6sKZ"
      },
      "source": [
        "# Brain Signals: EEG & MEG\n",
        "**Neuro Video Series**\n",
        "\n",
        "**By Neuromatch Academy**\n",
        "\n",
        "**Content creator**: Nihan Alp\n",
        "\n",
        "**Content reviewers**: Natalie Schaworonkow, Zahra Arjmandi, Ghinwa El-Masri, Pooya Pakarian, Sirisha Sripada\n",
        "\n",
        "**Video editors, captioners, and translators**: Tara van Viegen, Nihan Alp, Andrew Sun"
      ]
    },
    {
      "cell_type": "markdown",
      "metadata": {
        "pycharm": {
          "name": "#%% md\n"
        },
        "id": "InqbuGRh6sKb"
      },
      "source": [
        "## Video"
      ]
    },
    {
      "cell_type": "code",
      "metadata": {
        "cellView": "form",
        "execution": {
          "iopub.execute_input": "2021-06-25T06:38:47.638155Z",
          "iopub.status.busy": "2021-06-25T06:38:47.637570Z",
          "iopub.status.idle": "2021-06-25T06:38:47.754132Z",
          "shell.execute_reply": "2021-06-25T06:38:47.753605Z"
        },
        "pycharm": {
          "name": "#%%\n"
        },
        "id": "Zuj_bWhL6sKb"
      },
      "source": [
        "# @markdown\n",
        "from ipywidgets import widgets\n",
        "\n",
        "out2 = widgets.Output()\n",
        "with out2:\n",
        "  from IPython.display import IFrame\n",
        "  class BiliVideo(IFrame):\n",
        "      def __init__(self, id, page=1, width=400, height=300, **kwargs):\n",
        "          self.id=id\n",
        "          src = \"https://player.bilibili.com/player.html?bvid={0}&page={1}\".format(id, page)\n",
        "          super(BiliVideo, self).__init__(src, width, height, **kwargs)\n",
        "\n",
        "  video = BiliVideo(id=\"BV1RV411s7kn\", width=854, height=480, fs=1)\n",
        "  print(\"Video available at https://www.bilibili.com/video/{0}\".format(video.id))\n",
        "  display(video)\n",
        "\n",
        "out1 = widgets.Output()\n",
        "with out1:\n",
        "  from IPython.display import YouTubeVideo\n",
        "  video = YouTubeVideo(id=\"W-Zk6hrjj44\", width=854, height=480, fs=1, rel=0)\n",
        "  print(\"Video available at https://youtube.com/watch?v=\" + video.id)\n",
        "  display(video)\n",
        "\n",
        "out = widgets.Tab([out1, out2])\n",
        "out.set_title(0, 'Youtube')\n",
        "out.set_title(1, 'Bilibili')\n",
        "\n",
        "display(out)"
      ],
      "execution_count": null,
      "outputs": []
    }
  ]
}