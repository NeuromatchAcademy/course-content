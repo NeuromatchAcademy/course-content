{
  "nbformat": 4,
  "nbformat_minor": 0,
  "metadata": {
    "colab": {
      "name": "W0D0_Tutorial11",
      "provenance": [],
      "collapsed_sections": [],
      "toc_visible": true,
      "include_colab_link": true
    },
    "kernel": {
      "display_name": "Python 3",
      "language": "python",
      "name": "python3"
    },
    "kernelspec": {
      "display_name": "Python 3",
      "name": "python3"
    },
    "language_info": {
      "codemirror_mode": {
        "name": "ipython",
        "version": 3
      },
      "file_extension": ".py",
      "mimetype": "text/x-python",
      "name": "python",
      "nbconvert_exporter": "python",
      "pygments_lexer": "ipython3",
      "version": "3.7.10"
    },
    "widgets": {
      "application/vnd.jupyter.widget-state+json": {
        "cc5f089fbfde42a8b8652321e926d64f": {
          "model_module": "@jupyter-widgets/controls",
          "model_name": "TabModel",
          "state": {
            "_view_name": "TabView",
            "_dom_classes": [],
            "_titles": {
              "0": "Youtube",
              "1": "Bilibili"
            },
            "_model_name": "TabModel",
            "_view_module": "@jupyter-widgets/controls",
            "selected_index": 0,
            "_model_module_version": "1.5.0",
            "_view_count": null,
            "_view_module_version": "1.5.0",
            "box_style": "",
            "layout": "IPY_MODEL_62d9fc6d2c1a4b1a90e9d16b608d6412",
            "_model_module": "@jupyter-widgets/controls",
            "children": [
              "IPY_MODEL_070566c9604843a890647fb5db07b50c",
              "IPY_MODEL_3ef1f07042ec4818829d5d86b635ba3f"
            ]
          }
        },
        "62d9fc6d2c1a4b1a90e9d16b608d6412": {
          "model_module": "@jupyter-widgets/base",
          "model_name": "LayoutModel",
          "state": {
            "_view_name": "LayoutView",
            "grid_template_rows": null,
            "right": null,
            "justify_content": null,
            "_view_module": "@jupyter-widgets/base",
            "overflow": null,
            "_model_module_version": "1.2.0",
            "_view_count": null,
            "flex_flow": null,
            "width": null,
            "min_width": null,
            "border": null,
            "align_items": null,
            "bottom": null,
            "_model_module": "@jupyter-widgets/base",
            "top": null,
            "grid_column": null,
            "overflow_y": null,
            "overflow_x": null,
            "grid_auto_flow": null,
            "grid_area": null,
            "grid_template_columns": null,
            "flex": null,
            "_model_name": "LayoutModel",
            "justify_items": null,
            "grid_row": null,
            "max_height": null,
            "align_content": null,
            "visibility": null,
            "align_self": null,
            "height": null,
            "min_height": null,
            "padding": null,
            "grid_auto_rows": null,
            "grid_gap": null,
            "max_width": null,
            "order": null,
            "_view_module_version": "1.2.0",
            "grid_template_areas": null,
            "object_position": null,
            "object_fit": null,
            "grid_auto_columns": null,
            "margin": null,
            "display": null,
            "left": null
          }
        },
        "070566c9604843a890647fb5db07b50c": {
          "model_module": "@jupyter-widgets/output",
          "model_name": "OutputModel",
          "state": {
            "_view_name": "OutputView",
            "msg_id": "",
            "_dom_classes": [],
            "_model_name": "OutputModel",
            "outputs": [
              {
                "output_type": "stream",
                "metadata": {
                  "tags": []
                },
                "text": "Video available at https://youtube.com/watch?v=yik9AePHZ1A\n",
                "stream": "stdout"
              },
              {
                "output_type": "display_data",
                "metadata": {
                  "tags": []
                },
                "text/html": "\n        <iframe\n            width=\"854\"\n            height=\"480\"\n            src=\"https://www.youtube.com/embed/yik9AePHZ1A?fs=1&rel=0\"\n            frameborder=\"0\"\n            allowfullscreen\n        ></iframe>\n        ",
                "text/plain": "<IPython.lib.display.YouTubeVideo at 0x7f6dd272a5d0>",
                "image/jpeg": "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\n"
              }
            ],
            "_view_module": "@jupyter-widgets/output",
            "_model_module_version": "1.0.0",
            "_view_count": null,
            "_view_module_version": "1.0.0",
            "layout": "IPY_MODEL_9aeb70419ffe4b0a877fb04c7b6d6e45",
            "_model_module": "@jupyter-widgets/output"
          }
        },
        "3ef1f07042ec4818829d5d86b635ba3f": {
          "model_module": "@jupyter-widgets/output",
          "model_name": "OutputModel",
          "state": {
            "_view_name": "OutputView",
            "msg_id": "",
            "_dom_classes": [],
            "_model_name": "OutputModel",
            "outputs": [
              {
                "output_type": "stream",
                "metadata": {
                  "tags": []
                },
                "text": "Video available at https://www.bilibili.com/video/BV1Vy4y1M79o\n",
                "stream": "stdout"
              },
              {
                "output_type": "display_data",
                "metadata": {
                  "tags": []
                },
                "text/html": "\n        <iframe\n            width=\"854\"\n            height=\"480\"\n            src=\"https://player.bilibili.com/player.html?bvid=BV1Vy4y1M79o&page=1?fs=1\"\n            frameborder=\"0\"\n            allowfullscreen\n        ></iframe>\n        ",
                "text/plain": "<__main__.BiliVideo at 0x7f6dd7022fd0>"
              }
            ],
            "_view_module": "@jupyter-widgets/output",
            "_model_module_version": "1.0.0",
            "_view_count": null,
            "_view_module_version": "1.0.0",
            "layout": "IPY_MODEL_7dfd7b620ea64b8f8343112717314820",
            "_model_module": "@jupyter-widgets/output"
          }
        },
        "9aeb70419ffe4b0a877fb04c7b6d6e45": {
          "model_module": "@jupyter-widgets/base",
          "model_name": "LayoutModel",
          "state": {
            "_view_name": "LayoutView",
            "grid_template_rows": null,
            "right": null,
            "justify_content": null,
            "_view_module": "@jupyter-widgets/base",
            "overflow": null,
            "_model_module_version": "1.2.0",
            "_view_count": null,
            "flex_flow": null,
            "width": null,
            "min_width": null,
            "border": null,
            "align_items": null,
            "bottom": null,
            "_model_module": "@jupyter-widgets/base",
            "top": null,
            "grid_column": null,
            "overflow_y": null,
            "overflow_x": null,
            "grid_auto_flow": null,
            "grid_area": null,
            "grid_template_columns": null,
            "flex": null,
            "_model_name": "LayoutModel",
            "justify_items": null,
            "grid_row": null,
            "max_height": null,
            "align_content": null,
            "visibility": null,
            "align_self": null,
            "height": null,
            "min_height": null,
            "padding": null,
            "grid_auto_rows": null,
            "grid_gap": null,
            "max_width": null,
            "order": null,
            "_view_module_version": "1.2.0",
            "grid_template_areas": null,
            "object_position": null,
            "object_fit": null,
            "grid_auto_columns": null,
            "margin": null,
            "display": null,
            "left": null
          }
        },
        "7dfd7b620ea64b8f8343112717314820": {
          "model_module": "@jupyter-widgets/base",
          "model_name": "LayoutModel",
          "state": {
            "_view_name": "LayoutView",
            "grid_template_rows": null,
            "right": null,
            "justify_content": null,
            "_view_module": "@jupyter-widgets/base",
            "overflow": null,
            "_model_module_version": "1.2.0",
            "_view_count": null,
            "flex_flow": null,
            "width": null,
            "min_width": null,
            "border": null,
            "align_items": null,
            "bottom": null,
            "_model_module": "@jupyter-widgets/base",
            "top": null,
            "grid_column": null,
            "overflow_y": null,
            "overflow_x": null,
            "grid_auto_flow": null,
            "grid_area": null,
            "grid_template_columns": null,
            "flex": null,
            "_model_name": "LayoutModel",
            "justify_items": null,
            "grid_row": null,
            "max_height": null,
            "align_content": null,
            "visibility": null,
            "align_self": null,
            "height": null,
            "min_height": null,
            "padding": null,
            "grid_auto_rows": null,
            "grid_gap": null,
            "max_width": null,
            "order": null,
            "_view_module_version": "1.2.0",
            "grid_template_areas": null,
            "object_position": null,
            "object_fit": null,
            "grid_auto_columns": null,
            "margin": null,
            "display": null,
            "left": null
          }
        }
      }
    }
  },
  "cells": [
    {
      "cell_type": "markdown",
      "metadata": {
        "id": "view-in-github",
        "colab_type": "text"
      },
      "source": [
        "<a href=\"https://colab.research.google.com/github/NeuromatchAcademy/course-content/blob/last_neuro_vids/tutorials/W0D0_NeuroVideoSeries/W0D0_Tutorial11.ipynb\" target=\"_parent\"><img src=\"https://colab.research.google.com/assets/colab-badge.svg\" alt=\"Open In Colab\"/></a>"
      ]
    },
    {
      "cell_type": "markdown",
      "metadata": {
        "pycharm": {
          "name": "#%% md\n"
        },
        "id": "pyRBx_LktiSF"
      },
      "source": [
        "# Neurotransmitters\n",
        "\n",
        "**Neuro Video Series**\n",
        "\n",
        "**By Neuromatch Academy**\n",
        "\n",
        "**Content creators**: \n",
        "\n",
        "**Content reviewers**:\n",
        "\n",
        "**Video editors, captioners, and translators**: "
      ]
    },
    {
      "cell_type": "markdown",
      "metadata": {
        "id": "uldr0OgGtiSI"
      },
      "source": [
        "**Our 2021 Sponsors, including Presenting Sponsor Facebook Reality Labs**\n",
        "\n",
        "<p align='center'><img src='https://github.com/NeuromatchAcademy/widgets/blob/master/sponsors.png?raw=True'/></p>"
      ]
    },
    {
      "cell_type": "markdown",
      "metadata": {
        "pycharm": {
          "name": "#%% md\n"
        },
        "id": "5nqTUQATtiSJ"
      },
      "source": [
        "## Videos\n",
        "\n"
      ]
    },
    {
      "cell_type": "code",
      "metadata": {
        "cellView": "form",
        "id": "2ZGzN-iotjsi",
        "outputId": "d6897288-7ca8-4893-b6ee-b8087949614c",
        "colab": {
          "base_uri": "https://localhost:8080/",
          "height": 580,
          "referenced_widgets": [
            "cc5f089fbfde42a8b8652321e926d64f",
            "62d9fc6d2c1a4b1a90e9d16b608d6412",
            "070566c9604843a890647fb5db07b50c",
            "3ef1f07042ec4818829d5d86b635ba3f",
            "9aeb70419ffe4b0a877fb04c7b6d6e45",
            "7dfd7b620ea64b8f8343112717314820"
          ]
        }
      },
      "source": [
        "# @markdown\n",
        "from ipywidgets import widgets\n",
        "\n",
        "out2 = widgets.Output()\n",
        "with out2:\n",
        "  from IPython.display import IFrame\n",
        "  class BiliVideo(IFrame):\n",
        "      def __init__(self, id, page=1, width=400, height=300, **kwargs):\n",
        "          self.id=id\n",
        "          src = \"https://player.bilibili.com/player.html?bvid={0}&page={1}\".format(id, page)\n",
        "          super(BiliVideo, self).__init__(src, width, height, **kwargs)\n",
        "\n",
        "  video = BiliVideo(id=\"BV1Vy4y1M79o\", width=854, height=480, fs=1)\n",
        "  print(\"Video available at https://www.bilibili.com/video/{0}\".format(video.id))\n",
        "  display(video)\n",
        "\n",
        "out1 = widgets.Output()\n",
        "with out1:\n",
        "  from IPython.display import YouTubeVideo\n",
        "  video = YouTubeVideo(id=\"yik9AePHZ1A\", width=854, height=480, fs=1, rel=0)\n",
        "  print(\"Video available at https://youtube.com/watch?v=\" + video.id)\n",
        "  display(video)\n",
        "\n",
        "out = widgets.Tab([out1, out2])\n",
        "out.set_title(0, 'Youtube')\n",
        "out.set_title(1, 'Bilibili')\n",
        "\n",
        "display(out)"
      ],
      "execution_count": 1,
      "outputs": [
        {
          "output_type": "display_data",
          "data": {
            "application/vnd.jupyter.widget-view+json": {
              "model_id": "cc5f089fbfde42a8b8652321e926d64f",
              "version_minor": 0,
              "version_major": 2
            },
            "text/plain": [
              "Tab(children=(Output(), Output()), _titles={'0': 'Youtube', '1': 'Bilibili'})"
            ]
          },
          "metadata": {
            "tags": []
          }
        }
      ]
    }
  ]
}