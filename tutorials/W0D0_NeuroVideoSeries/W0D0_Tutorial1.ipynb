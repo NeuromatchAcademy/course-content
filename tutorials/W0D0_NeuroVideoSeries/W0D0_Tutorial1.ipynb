{
  "nbformat": 4,
  "nbformat_minor": 0,
  "metadata": {
    "colab": {
      "name": "W0D0_Tutorial1",
      "provenance": [],
      "collapsed_sections": [],
      "toc_visible": true,
      "include_colab_link": true
    },
    "kernel": {
      "display_name": "Python 3",
      "language": "python",
      "name": "python3"
    },
    "kernelspec": {
      "name": "python3",
      "display_name": "Python 3"
    },
    "language_info": {
      "name": "python"
    },
    "widgets": {
      "application/vnd.jupyter.widget-state+json": {
        "90799f16d88e49348d82901feef78046": {
          "model_module": "@jupyter-widgets/controls",
          "model_name": "TabModel",
          "state": {
            "_view_name": "TabView",
            "_dom_classes": [],
            "_titles": {
              "0": "Youtube",
              "1": "Bilibili"
            },
            "_model_name": "TabModel",
            "_view_module": "@jupyter-widgets/controls",
            "selected_index": 0,
            "_model_module_version": "1.5.0",
            "_view_count": null,
            "_view_module_version": "1.5.0",
            "box_style": "",
            "layout": "IPY_MODEL_1fa8951623dd46a5b48cf3c24c4e8f8f",
            "_model_module": "@jupyter-widgets/controls",
            "children": [
              "IPY_MODEL_b2035330f18c4e1cada717810ab96932",
              "IPY_MODEL_f4d4b670ddcb414c8f1347b2012801d2"
            ]
          }
        },
        "1fa8951623dd46a5b48cf3c24c4e8f8f": {
          "model_module": "@jupyter-widgets/base",
          "model_name": "LayoutModel",
          "state": {
            "_view_name": "LayoutView",
            "grid_template_rows": null,
            "right": null,
            "justify_content": null,
            "_view_module": "@jupyter-widgets/base",
            "_model_module_version": "1.2.0",
            "_view_count": null,
            "flex_flow": null,
            "min_width": null,
            "border": null,
            "align_items": null,
            "bottom": null,
            "_model_module": "@jupyter-widgets/base",
            "top": null,
            "grid_column": null,
            "width": null,
            "overflow_x": null,
            "grid_auto_flow": null,
            "grid_area": null,
            "grid_template_columns": null,
            "flex": null,
            "_model_name": "LayoutModel",
            "justify_items": null,
            "grid_row": null,
            "max_height": null,
            "align_content": null,
            "visibility": null,
            "overflow": null,
            "height": null,
            "min_height": null,
            "padding": null,
            "grid_auto_rows": null,
            "grid_gap": null,
            "overflow_y": null,
            "max_width": null,
            "order": null,
            "_view_module_version": "1.2.0",
            "align_self": null,
            "grid_template_areas": null,
            "object_position": null,
            "object_fit": null,
            "grid_auto_columns": null,
            "margin": null,
            "display": null,
            "left": null
          }
        },
        "b2035330f18c4e1cada717810ab96932": {
          "model_module": "@jupyter-widgets/output",
          "model_name": "OutputModel",
          "state": {
            "_view_name": "OutputView",
            "_view_module": "@jupyter-widgets/output",
            "_dom_classes": [],
            "_model_name": "OutputModel",
            "outputs": [
              {
                "output_type": "stream",
                "metadata": {
                  "tags": []
                },
                "text": "Video available at https://youtube.com/watch?v=mZkujcMW1uI\n",
                "stream": "stdout"
              },
              {
                "output_type": "display_data",
                "metadata": {
                  "tags": []
                },
                "text/plain": "<IPython.lib.display.YouTubeVideo at 0x7f359c9f3c10>",
                "image/jpeg": "/9j/4AAQSkZJRgABAQAAAQABAAD/2wCEABALDBoYFhsaGRoeHRwfISglIyAiHy8tKSYtLio1MS0nLS01PFBCNThLOSstRWFFS1NWW1xbMkFlbWRYbFBZW1cBERISGRYZMBsbMFc9N0BXV1dXV1dXXV1XV1dXV1dXV1dXV1dXV1dXV1ddV1dXV1dXV1dXV1dXV1dXV11XV1ddV//AABEIAWgB4AMBIgACEQEDEQH/xAAbAAEAAQUBAAAAAAAAAAAAAAAABQECAwQGB//EAEoQAAEDAgMEBgYGCAUDAwUAAAEAAhEDBBIhMQUTQVEXIlNhktIGMlJxgZEUI6GxwdEVMzRCYoLh8BZUcsLxB0OyJHODNURjk6L/xAAZAQEAAwEBAAAAAAAAAAAAAAAAAQIDBAX/xAAoEQEBAAIBAwMFAAIDAAAAAAAAAQIRAxIhMQRBURMiMjNxQrEUYZH/2gAMAwEAAhEDEQA/APP0REBERAREQEREBERAREQEREBERAREQEREBERAREQEREBERAREQEREBERAREQEREBERAREQEREBERAREQEREBERAREQEREBERAREQEREBERAREQEREBERAREQEREBERAREQEREBERAREQEREBERAREQEREBERAREQEREBERAREQEREBERAREQEREBERAREQEREBERAREQEXX9HN72tv43+ROjm97W38b/Ig5BF1/Rze9rb+N/kTo5ve1t/G/yIOQRdf0c3va2/jf5E6Ob3tbfxv8iDkEXX9HN72tv43+ROjm97W38b/Ig5BF1/Rze9rb+N/kTo5ve1t/G/yIOQRdf0c3va2/jf5E6Ob3tbfxv8iDkEXX9HN72tv43+ROjm97W38b/Ig5BF1/Rze9rb+N/kTo5ve1t/G/yIOQRdf0c3va2/jf5E6Ob3tbfxv8iDkEXX9HN72tv43+ROjm97W38b/Ig5BF1/Rze9rb+N/kTo5ve1t/G/yIOQRdf0c3va2/jf5E6Ob3tbfxv8iDkEXX9HN72tv43+ROjm97W38b/Ig5BF1/Rze9rb+N/kTo5ve1t/G/yIOQRdf0c3va2/jf5E6Ob3tbfxv8iDkEXX9HN72tv43+ROjm97W38b/Ig5BF1/Rze9rb+N/kTo5ve1t/G/yIOQRdf0c3va2/jf5E6Ob3tbfxv8iDkEXX9HN72tv43+ROjm97W38b/Ig5BF1/Rze9rb+N/kTo5ve1t/G/yIOQRdf0c3va2/jf5E6Ob3tbfxv8iDkEXX9HN72tv43+ROjm97W38b/Ig5BF1/Rze9rb+N/kTo5ve1t/G/yIOQRdf0c3va2/jf5E6Ob3tbfxv8iDkEXX9HN72tv43+ROjm97W38b/Ig5BF1/Rze9rb+N/kTo5ve1t/G/yIOQRdf0c3va2/jf5E6Ob3tbfxv8iDkEXX9HN72tv43+ROjm97W38b/Ig5BF1/Rze9rb+N/kTo5ve1t/G/yIOQRdf0c3va2/jf5E6Ob3tbfxv8iD09ERAREQEREBERAREQEREBERAREQEREBERAREQEREBERAREQEREBERAREQEREBERAREQEREBERAREQERCgItIXp9kK4XR5BRuDbRawuTyCr9IPIJsbCLXFweQUZtvb/wBFpOcGAv4AzBTYm0XFD00rEA7mkMuLnLLb+l1Z04qLPe3EQm4nprsEXJ23pbUc6H0WNb7WIx9qmtlbU+kUWVIALpkD3pss0kkWLenkFQ1jyCnaGdQT724fd3FJlejRZS3cY6RcTibJzxtU6uZudnn6bc1Kmz/pTKm7wOikYwshw67gRmg27DbkUK1S6cwNo1t3vWA4H5gBwGcZug5nMFbj9r0gxroqnGSGtFF5c6NSGxMaZ6ZqGZsuv9GqtFLdtfc0n06AeDu2Newu7hMOdAUhtijVdWouDatSgA7EyjUwOxmMLj1my2JynUoMlXbDHW+9ovaIqNpneMd1SXAFpbkQc+PMK+vtugx9Sn9Y59MjG1lJ7y2RIJwjSOKhxsuuaNwN28F93RqND3tc7A005JM8MJ4zlxUvYWr2XF49whtR7CwyMwKbWn7QUF30qpVfbPty11u8ONQkfu4eqQZyMxlHyhKO2aNRwa3eEOdha/dPwE9z4j4psG2fRs6NOo3C9rYIkGMzyUVQta7KtMW9GvQ+sBqNdVY63wT18IxEiRpAGaCW21dvoWzqjIxAsAkSM3gH7Cl5talRcWuFRxaJdgpPeGjm4tBhW7etn1rV7KYxOLmECQNHgnXuC0rihW+k1i+ncVGuw7l1KsGsYMIkOGIZ4pMwcvkg36+2LemKRL5FVpdTwtLsYAByAGZz0VK+2aLHhh3jn4Q4tZSe4sB0Lw0HD8VHbM2bWpjZ2Nkbmi9tTMdUloAGuenBZmb23urktomu2s5r5Y9gcwhgbheHEZdWQRPFBuDbNuaG/FSaZcWAgGXOBjC0RJMjKNVfZ7SpVnOY3E17QCWPY5joOjocBI71zlpZ1a9pRrMBLqd1XqFjKkYg57wcDzGeeRMT3KUsrLeVC99O6pEMLGvq1ml3WInCGkx6ozQSV7fU6AaXky44Wta0uc4xMBozOQKxjatHdPrOcabGGHbxjmEHLKCJzkRzlad/s4NpNGC4uYfikV4q08oljiR8pGq0/oF3UoOnGd3cU6tGnXc3GWsglj3NkZmY14Sglrfa9Gpi/WMwtxneUns6o1cMQEhUtts0alRtMbxrnglm8pPYHxrhLgJ5rDWubqvRrNpUH2792cD6jmevwADSfmVo0bKo6vaObQuGNpPcahrVg/Wm5sjrukydRGvyDes9sDcPq13BoFepTbAMnDULWgASS4xoFt2e0qdZzmNxNe0Alj2OY6Do6HAZd6gnbIr7pjg12Old1quBrw1zmPc8AtdoDDpz92S39mWpdX3zqVwwtYWtNeq1x6xEgNaTlkM5QSF7f07dodUJGIw1oaXOceTWjMlYW7Yobp9VznMbTMO3jHNcCdBhInOcuaw7Ut6gr29zTZvd0HtdTBAcQ8DrNnKRh0JGRWG/ZXuaTHtoGm6jWZUZTqPbNQN1BwkhupjM5gIN202tSrP3YxtfGINqU3MJHMBwEj3LX/xHaw12J+Auw7zdPwA4sMOdEDNY8Fa5ureo6g+gyhjdNQtxOLmluEBpOWcyeQWD9G1v0SbfB9bn1ZHaYtZjRBI3O2KNOo6kcbqjQHFjKT3mDMHqg8ld+l6G4ZXxzTeYbDSXOPshsSXZHKJyWO0tntvbmqWwx9OiGmRmW48WX8w+ah/0PXFGg4Ndjo167jTbUDXOZUc6C12kwQYPMjJBPWu0qVUvALmuYJc2owscAdHQ4DLI5rBR27QeQG7wh04Xbl+F8AnquiHZAxGvBaA2UbhteWXFJz6D6LX16jXGH69VpOUgcVvWF3X+rpPtHswgNe/GzdiBqyCSZyygINW39IN7bVKrRuiyqGTUp1MMGrgHASTy4E5qWt7ynU3mF36t5Y+RGEjWZ7iDKgPoNc2la33LsQuRUa7E3C9puA+RnOTeYCzbY2ZXdWcKA+qumtZcOxAFgafXA4ksJb8Ag2htprnNex2Kk63NUNFJ5qHrABw7s9Injoq7J27TuKdAuDmVKzSQ0scASGhzg1xEHI/GDyVzrFwvWva0CkLV1MGRAONpDY9wUYLeo3ZbBUpmjVs2te1zy2C6mM4IJ6pEjPmgmrnatGk6o1znTTa1zw1jnQHuwt0HEraq1AxrnOyDQSfcMyojZbatO2fcmiX3FdwquphwBAMBrJMeqyPkVJ3rC+jVa0SXMcAO8gwg06W37d7qYDnxVIDHmk8McSJDQ8iJWS42xRpvcw43OZ6+7pPfgn2i0GMs1p17CqbOzphsvpvty8SMgyMXyWr9BrUKtfqXNVlWq6ox1Cs0RizLXNc4RB4icoQTFxtWhTpsqF+IVP1YYC8vynqtbJOSW21aFVtRwfh3X6wPBY5mUy4OggRnKjBs59u61rUaLnikyo19HGC8bxwcS1ziASCOYyKx3Wy6959LqOZuDVoNpU2PIJOFxdifhkAEmMickEpabZo1ntYzeDECWF1J7Wvj2XEQVj/xBbT67sGLDvd27dYpiN5GHXLVVo3Var9W+1qUQWkPeXsLRlHVgku+QUYaFz9A+gfRji3e532Nu6wxG81xTGcYdfmgl6+16NOtuCXGrDTgaxzjDjAOQ0yzPBa+zNvMrtrveHUm0nOBc9jmjC3iS4DPmNQr7KzfTvKzyOoaNFjXSMyzHOXxHzUdV2bXqULy23bml1c1qdQuGB/Xa8NyMg5Rpkglrba9Go9rBja5wlm8pPZjjM4S4Ccs0/TFDdbzGcO83cYTixzGDDEz3R3qPtrV1WrS3lG7bu3Y5q12locAYgNcS7U8AsJ2bcG4+n7obzFH0aWzgjDixTG9jjMR1Z4oOkVVQKqAqHRVVDogh2rICsTFlas1l4VysVwQXBc56W9ZrGRrOf4LogsF9aNrswuy5GNEHCvAjMAra2YaZxhxAkQOGfALTvab2VHUzkWmCs+zXuBcQGnL3FV7tY26ezjTD3tJg565dyn/AEctCyiC6c881q2LN80NAyOZ7hqugoU8DQ3kr4qZ6Xqwq8rG7VSo3URFZCiKqICoqogKiqiAiIgotS62Xb1nY6tGm90Ric0ExyJ4juW4iCynTaxoa1oa0CAAIAHIBXoiAisdUAIBIBOglXoKKqIgoqqiIKoqKqAqKqIKKqKiAqrVftCk1xa54aQY60jOAcp11GiqzaFFzgxtRpc7IAGToT+BQbKoiIKrBdWVKth3tNr8JxNDhMHms6ICKiICqqIgqiIgIiIKIqogIiICIiAqHRVVDoghWlZGlYgrgVRLMCrpWKVdKC+Vo7V2vStGYqhzPqsGrv75qP2l6RNYCKMPPtfuj3c1xF5cVK5fUrOLnFuTsss/+VMglL29dcONYtDS+DhBmMoH3LY2fXc4QQMlzlC9qNAEggcCFst2pVHq4W+4KOirzKJpm3qltcuDXTTgdQ6HmRyK6/Y+123TC5rXNI1Dhl8DxXlgpuqVW4nesc3HgpXZ9xUoXOGk9zQT1T93/CvMVLdvUQVY7VQlht0ktZXABOWNuk94U4mkNtERAREQEREBERAREQEREBERBHXjW/SaJJ6x4QCcuOsgZ8PwVlteOdUHrEYXmIHB8fMAx8Ffe/tVv1o9aRxIj7pha+zxFZogB2F+REGMYj8coQbd9UcA1zHOguGjZEe8fjlzV/6SoZfWsz0zy+atfRcxxLCG4jMTkeZg/hCwUqjgcZqMc0T++WiDDpgzpwz0Qb1xVii97TowuB+EhcY70lvMsLqfxYupvLwGhW6jsqbpzaf3TyOS86NY6jSOPzP2LDluUs09H0WHHlMuub8Jr/Et9zpeFX0/SS8/eczXg3goapXABgyeCwCs4uGuZbxWPVnfd25cPBj7beoPqOwnDExlOi1TXupPUpRnHWM90oNoUonHz4ezqsL9qNluHMEjPhBOuRyynv0yXNOTl+Xi6jfo1H4RjgO4gaKGu9sVmkta5ocSQ2W962GbVl8BhjkSMU/OIhc/e3THVZz6rzBEaHiO5Wxy5N97WvFjjd7b1S9uHHEadAunUtz98qy3uq1OMFOiCJgwSfmc+J/vJRn0mWwXPPVHHjOefuV30lsuALgCX8eYyPzWnVyfLbow+E7R2tc/v4B7h81sVNo1o6pbPeMlz1K9IAAbkIGZz7/+OK2WbROE4m9bOIGR5fNdvo93q63J6qSa6UkNp3eXVpa5nPTuVNo7YrU6Rc0tmRq3vUczaJnrMyy04c/etcPNWkKTpHEvOeh5f1XdMcHJLk22+k1SBLzijP6sRPcrK/pNWEYHg88VMfBa7LZsN0BwtzgTIP4qlxah5Li3PPQ6xoJ7+anpw34ad2zT9Ja0dZ8GeFMRCk/R/a9W4rVGvcCxrZb1YOvFQYoUwQYGUEQeR1+P2KY9HKYFeqRqWmc/4gs85jq6je606RERc7MREQEREBERAREQFR2hVVR2hQQIcqhyxygKqM4eoH0w2gadBtNroNQmY1wjUfaFNBcn6Vux3LGaw0CPfmVIg3BzhhphxgZgK7HgoPDw4PcQG5cBrPzU3ZW7GkkCJ1Ky7T2QbhgDTDmyWk+q4cp4KOubafTutuPCyNWS6tH0XljwMQg5Hmsa1jKrt5hc08AQftUlteuBUpvYIn8D+RWjSYHTi0wke481t7QaTb0XAZ5Sfe3+ijfcZ3V3FrpdEAHXmu59G701rYYjLmOLSfgCPsK4QUmhj5OtNh+0LrPREBrajQcnQ75ZFSOvRFE3F5WpVaxc5rqdKkKuEU4cQS/q4i6P3RmqJSyKGuPSBtJxbUpuGEOxFpDoLaRqESMtBxIPdGarc7d3RLX0X4gC5wZ14aA0z1Zz62hjTlBITCLQbtEmlVqbp0U3OaACCX4XFpge8LWpbaLnj6uGENB63WDnVd3BB05wYPcgmEULV24T+qp6VmU3FxEAOuTRJA4zhce6Rrmlv6QNcWjdvOQxODTAcWYwOWkceKCaRaOz9ob8SGFsGHAmC3IES0gHjy+xbyAiIgIiINK5oOdcUXAS1mKTyke/8PitXbdT6NR3tIAPxASRORJlS6hfSz9k/naq53WNa8El5MZfmICr6QXDxDsB1/c5iDx5FY3+kFdtMsluE5ZNM+8mZ+Kj1a5s5GdVxTPL5e9l6bi9sYkdm7b3j306waRUBacLM4wnIGcvgsVXY28GOhlTMBoc4zlz+IK0LGk0V25mDiEe5p/qugsKpbSa2nmBMTrqV0S2zq/28vln0stY9kW6wY1zWmcPEArLS2bTLxAOGRGeeqlLi3mk89ystaXVpgcI+9W3jZvTL6mfyi7rarQ0lgMQRmPaOfH7dfgsLNsSNM4y6oHDu96wPtae6dGLXn3haJptBAz1XVOHDXhklf0tVgg4ZIAMN4AyFhdVqPMtIkkzPMrUI68KlEAOy5q30sPiJl14bf1zT1y2O5WPvCz1/fksVwWn1p+CjrulTJGZ0UXiwk8RNyrp7I06jcUGYBHvGi0HuuRl9VpGnfP98uEKzZLmBkCfVVXvf3JhxzG3SLOryqytcSSd3rOnH+/nxlbFsbqMTTTGUfCft+K1GF5nRZ6FV+mS0s+FejFtuF0MOdPQfZpwWOv9NjqupcdZ46rZqVqnVyatW6vqgyhuvJZS51PTGo7aV0HATTzj93louh9C7urUuKoqFsNYSIHNwlcm5hxtXS+grYua/wD7f+5Wzn21F8OxqvqYfqwCcteGfLjx4rZWvaumVsLi4LbhLVL5ERFsgREQEREBERAVDoqogiP0XU5s+Z/JVGzKnNnzP5KWRBFDZ1Tm35n8lB3/AKK3FW7FYOohscXOnSNMK7FEHOVPR1+GGlk95MfcsFH0buQQHVWYAZwhzvyXVIq9MafUrz6+9Cb2tWfUL7frHLrvyGgHqcoWv/gC97S28b/IvSUV9s3m49Ar0f8Act//ANj/ACKQf6IXRtmUS+jiaNcbonwcl3CJscFQ9Dr1rgS+3gNw5Pfyj2FLbA2Dc236x9Jwkzhc45R3tC6dE2CxvosdMtBxDCZGo5HuzPzV6s3zdcTYnDqNdI96gWOs6RfjNNhf7RaJ0jX3ZK39H0IA3NOAZAwDI8/sHyWbetw48QwROKco1meSrjEgSJOgnWOSC00WFpaWtwumWxkZzMjvWM2FGI3VOACIwjQmSPmJWwiDW+gUer9TT6hlvUHVM4pHLPP3q4WVIEO3TJAgHCJA5D5n5rOiDDStKbIwU2NiYhoETkfuCzIrWuDhIIIzEjuyKC5ERAREQFC+ln7J/O1TShfSz9k/naqcn41t6f8Abj/Y4xYLipHEe+fcpjYrPrmucAWjIz+S6xtCniPUZkfZGWTdV51zmNex6n1P0706cBsSvhuGxBLpEFx9k8FKXDMWbyWn+EqSe1ralUgjql5yc3KAeAE5cuGS5jad1Uc92Co/UaOI4Lv9PvPdjy+Tkmd3InRRaHNIc4uGgJyPvW5aUxjxfvGJHAZ8FzzLp+8Yd4/CNesVno3zt8PrHQXDieYWuXBlfdmuuHzRcTAMj7wokvM5Aaro7iridha4+5W12P3ZiZDTx7lbDlmM8JQLjDoyWKmCTpxW9QFUtzc6f9S0NvUqgq9UcXaGOK6OpBVaQTksNRzxo1q1qDKk5zpzW1aUamIS3Keab2hvbOc+PVborqlE8llxQ3kYXNObX5u8f9VXqsvZNunQUaJh3uVaNIrnm0649rP+P+quIrAx1vF/VOq/COp17qGQ10UTtSjHPX8FETcSM3eP+qx16VY+14v6qmO4bS5pHG1dD6Fti5r/APt/7lwlSlWkHreL+q7D/p7TeK1YvnOkNTP7ynLLcvZW3s7LZzpxfBbyi9kPHXnu/FbN/eGiGQAS50QZA+YBj5Ll4prGK5eW2ioNM8lVaIEREBERAREQEREBERAREQEREBERAREQEREBQ7tlPkuxmTcCphxnDhxA6RrAUwoWptGuC8QBDy3DunHA0VA0VC4GDLetHf8AwlBoPsbkkUSHOdhILy9+ED6MWwcsJGP4ydFt19mVGY3Nc4Na12GC57muLGgEDU9Zsx+auZtC6JBwDCHUx+qcMYdXdTLhn1YYA7jryVp2jdhjS5jeu2m4nduG7xF2Kc89G8omUG2LOq+2Y15IqOqNfUh5EdcOcwEZwB1fgtZuzbgOHXyDhhdvXdRoqOJEfvSwgZ/gqDaFw5pBAY8s6rRReS4lrjiB/dzAyOnxCUL24AbDC/G4MDi12Ti1hxkHRsbye8AalBnsNn1qeH60j6umHdYvl4xYz1uctz7lqu2VchtINcJaGlxNV848QLtZygZfgEbtCvSxVHhzmNawmngMwXPaS0k5mcJjktvaN5XpUqcAb1wOKGFzZDZjXnpqSgw/oys0CHEzm8Gq7rRUmJ4dXL7NFjobLuG4RIEEEEVXHB9a5zhEdbE0gSVedpXBxQA12QDDReYBw9cumI6xy7u4qj9o3LS8Q0ubjGHdP6oaerUJEyHawPa/hKCtpsmszdkvOJoo4vrXkSJ3pz1kR/RTigqW1a5dRlhwudhP1Rk/WFuIZxhiDIJyziFmva1wLuiG06gohxBLMJDppuOJ2cwDECNZ1yQS6KK2LUcTVE1HU+qWOfinMdYHFnikSRoJAHFSqAoX0s/ZP52qaUL6Wfsn87VTk/Ct/T/tx/sc7sus1gJc4CHCV1FS9aKTqzTiYBiB0BHV0+34riqVJzqdTCCfV0XS3xYbKrTYQHbuA1p44W5AcFyc/Fx42arbnuWeW7Ea7adF5qdduItfHHVpyBhc7cOzJGYVLa2eXYoOQJM/6SrahjI5L0fT4TGXVY3HTZBnirqAO9Z/rb96pTc2CMpKvo1Gh7MwIcJ+a6hIb9jqgIcAOa2zcMe0sDxMRlqcoUXRoxkQ2f8AU381s2ls4OcSABIIMjn71ycnHj/4LaFk4HCXOlam3W4qmTjLcQgcc1NsezeSXM01xD81F7TtKm9eQ3IucZkc/ep48rll9yENSZ7RhbdthYZNTQ6FU+h1CfVn+Zv5q47PqkZU/tb+a3uhlqV2O0cFpfQqwH6s/YsrLCqCOpx9pv5rcqVyAQXkfFV7+x5aTbGu6Ipuy9yx1rOq12bDKlbW71+s5cViu6pc8lriRlmColyuWqaR4tqvsFY64e3VsLfNVwGbj81oX1bL1uPPuV9WeSs52XWOjXH+/euk9DbN9OpVLwRNOIPvWmzeAauHxU36POJdUkyd3+KwyzvhFnZl2RRbVbUa6Y6uhjmtnbzwG0gRM1BlME5H+n9NVrejLp3v8v4rf2tUwtpy0OBfBBHCDp93fMLOTUUy8t9ERSqIiICIiAiIgIiICIiAiIgIiICIiAiIgIiICjztZucU6hGM02uGGHvD8BaJMjrTmYGRW+tZ+zqLi4mm0l2p75BkcjIBkcgg0au3YB3dCo5zcOIEtAaTUNOCS7My06SNM1mobVDiRgecJIc4ABres5omXT+7wWwNn0Q0tFNsOAB7wCXfe4meZVDs2hM7pvy1zJzHHNzjnzKDWtdsitUY1jSJcQZIP7mIEFpIVK23WMJBp1PWe0er1sBh5HW0BjXWVuUbClTOJrAHc8ydI1PcYSpY0nCCwRic7lm71vnJlBo3G1qbmzunOaCSx7mgtxME6TII9wzCvfttjY+rqdYxT9X6zrtZlnlm5usaq/8AQ1I1TUMmQ4YIaGjEADoJ0H95RnGzqMk7tskh3xDsUjl1gDlxQa9PbTC9jCyo0uMdbCAHBxaWzOZlp9WdRzUitf8AR9HEHbsYgZnvxF0nnmSe4lbKCiqiICIiCi53b13vrIuwlsVWiCQe8H5ELoiVyl//APT3awK4iYkZDKQBP9jgqcn41t6f9uP9jR2Z6jvf+Cx3DqlN8h8gkyI0yBhZNmeo73/gsW0HnHBkAfw5aDTmvOx/J6fqPyqho9Q1RMYKjgCwDRpMTM8fsULUYKlIPkAk/mFOCmcOGMi1xPUPFpyn4/YoG9in1RoCMvhK9L0l+2vP5PK0GKjesPcszMJc4lw9yjiSarBOqytBxuErr2z2t/SD/Wkz71u2W1ahkOLiMuKjnU4qAYco0W9YUAd51SIHf3qv9RNtiteQ4wOHNdA2s15LXAZ5CTzXLOYde5dBUpw7FIbGclV5ZLO6zYqWQZmIPDILQ2pfboQ0atmQe9SNC5aWgF7Xe4hWXGzWPaXFodA71zY5av3pR9lWLhSc6esW6+9Yb51Mu1bpzUgy3aN20CA0j71zF2Ov6405rqxsvdFbls9gx9ZvzHepTZu6cwA4Zz4965O3BxVOsP7lTWyW9UE1GjXU96m3qnwiVvXNCmXQKrM+8fmtC6tGCQXtK16ruvO8bkTxHNYrh857xvzCmbnmp26K6usL2jFkRzUv6MVMVSrnP1f4rk70EuHWGi6H0MP1lYTP1X4qtwkxRl4SXoi6d9/L+KkNtg4aRaCXbyIB5gzlxUJ6J3OBtd2FzvUya0k8eSnNtxgpzwqA/IH+/wA9FnnNVTLykkRFVUREQEREBERAREQEREBERAREQEREBERAREQFjbXYXFge0uGrcQn5K9Qrtn1S4t3bR/6jeiriEgYsUARMn1fcT7kE1Kquco7Oui5rqmeF1NwbvnZOAeHkEk5dZvvA0Gi29l2twxx32IjqEfWkwQHBxzJkerlPfAQS2ISBIk5gcctfvCMeHaEH3GVEXGz67rn6SC0FjmhjCMywDrDFOU4nZR+63ktVuyrljA1pj1cQa8gmKQaDII0IPHvzhB0aoHA6GeCirWyrtqMe6o5xxnHNQlpbu4EN09cTkBxWvU2bXxVcBcwPfUJcKzgCHRAaB6p4yPxKCdc4AEkgAakqq5+62fdF1QU3ENLXtbNVxyLIbqTnI5D3nNbtlZ1mV8bnuLTvsQNQuEmqDSgHIQzEMkEk1wIkGR3KjnACSQBzJUMzZ9wDixukOZhG9dhjeuL5boZYRqPuWpV2TdOpRJLwH4HOrOkF1FzJOcHrEaRxMBB0oKAqBq2Fy0VxSn6wVoO9Ihzy0tf3RmMvxVp2XdNc7duLWmpVcIqHV9TEHHPkYiDocs5QT72BwLSJBEEdxUF6S0G07MhggGo0nMnhHHuAU+oX0s/ZP52qnJ+Nb+n/AG4/2Oe2Yeo73/gq31Jxl3BvDXlKbHpNcHOIzBge6FvvoNcHtgZ+/kNf75LH/hcku5p0c/q+O52d0VbmYAbBDXGMJkZHjOXBQd/Y1H1nunqmMoPIKcdV3TXlggtZUcCQcjgPDT5rRttpVKluxznAuJM5DgSF08PHlh2rmvJM/CHFu8VWfkqPtqm9cQdTyW2b5+8aSdO4Lct7klziTwXRpGmK5oAVQeEfmt9uBtJ2EQSzMzxhQZvalQS5wn3BXWl24vDXHIuA04TCi6sNq03PwwTn7lLbYc93VY4CQQcliuqDBULW5COJWZl8xx6zATxOf5qbNyVLV2ZYVmHE6owiCIjv9ym7S8I6jjIJ7lD3e02sPVY2J5Hl71oXW3HNIwMZpxafMs88JZ9yN6dY4DEC3iQuAr21TFmfsXRbK2297qYLWZloMN5n3rpK2yrYgkU//wCnfmsrZxz7vcvd5rTt35x9y26NtWLYDgB/p/ou5pbIodaWDu6zvzVHWtFjXDBoJyJ4kd/epnLhvU2jpcDUsakgE69xVj9nPH/BXf1rOkWzBkD2ioy8phrcufNXwuOdT0xz1yK2heDI5f0XU+gIeKtfE4EbnLLvWT6JZueJY/xH81Jej1GiytcbppHUOpnKfelzl7aqLGP0FP6/3M/3Kb23UcxlMtcQccGHRlBn7v8AnRQPoCZFf3M/3Kc24yW0oMEvgHhoTn8k5PyVy8pRERUVEREBERAREQEREBERAREQEREBERAREQEREBERBRVREBERBRFVEFEVUQUVURAREQFC+ln7J/O1TShfSz9k/naqcn4Vv6f9uP8AYgtifq3/AOr8Fu1wS14Gvu7hyUZsy5ZSpuLzEugZTwWZ93b1Ses7Fo0ZwTlHD3/Mr0fZx8sv1Kj7hnVqGP8At1IgmDLDw/PmoiwpEW7Pj95U7f06raVSCXM3b5OI5ZEDL4qK2dbONqx3Mnj/ABFY7m2nD7o51r1h+a3bW0193NY9zUxDIR71uWtCocWQiOantO7aRCUrMR/VZLezBqtH8TePesdOu8NmBCz2NdxqNOWTmn7VTsr2TVfZrRVju5rQpWkFwHE81vXd+7ek5TA4K60tA+TnJPPmrS6m8l0Lf2pnhqOPco+5okfJdLe7MMmdJHHuUTtWy3ZGvqzr3quWrNxXKKbHoHeUj/Ez/wAgvQRbQ0njPNcRse2zpO72nXvXb1KgAIxD7fyXN6iXWMiYq2za4d/HNaN3akbxg0wjj3hbNG9IxQ5mXcVTBvg52IYiIymMiO5Y4deGW74SwC26vw5qL2lTwj4/gpypbva3Vuneoq+tHvEFzNe/8lvw5fdvYw0tjHENPmpf0asNzXuDzpka960xLKgapH0frF1a4BiAw/etOrK/xGXhq/8ATwyLj3U/9y6Ta1J7m08EyHgk8hBz/v45LkfQFj307gMfgP1Wce/+/wAl122KzmUgGgHEcOY7j+X9CmflnfLeVVjoswsa2IgAQsiqgREQEREBERAREQEREBERAREQEREBERAREQEREBERAREQEREBERAREQEREBQvpZ+yfztU0oX0s/ZP52qnJ+Fb+m/dj/Y4536n/wCQ/wDiFtbMomC6MnHLKe74f8LVOdIxwfJ9xEBZNmE43akYc8p4hej/AIsM5eus20y7cVCGt9V0kM4f6pWvsKp/6OkMtXf+bltbSd/6aoG+rgJ0yH5HNaGwrmky0pio8NIxcP4iubkTxzVYqlXPgt2xrZO09VQ76rScnZ8FntqsA55wtcp1TTXaFa/6uFW2eQ9ke0371jDHYNFdbW9Rz2w0+s3j3rFmlr181z7gtzZ1ZwcBA1ELSurWoKplpGQ4hblhbVA4EtIzEZrXtppGfaZqTJA1H3KB2nUJieX4qc2jMkHmPuUBtWi8uBAyj8VX/BGSR2TUIYzlA+9dc6qCVyGyYDWg8h966F7nMPWEfFZcuPVpM8NjEBi71ksK4ExrH4haDnFwODPn3LNYNMHhI/ELK4Tpu0px1UFufJaNcyfiFR1WNXD5qw7RtmxjqsBnv/Jc2PHce8iEVXuXb8ZDU/eVI+jDybi5nsz96i7jZN2a2IUpEnPG3me9SnotZVqda4dVZhBpmOsDx7ivQtw12qLezW/6ZnK491P/AHLtqlFj4xNa6NJEx7lw3/TA5XX/AMf+5d4qVkqiIoBERAREQEREBERAREQEREBERAREQEREBERAREQEREBERAREQEREBERAREQFCeln7J/O1Taw3Nsyq3DUaHNmYKrlN42NOLPozmV9q87p/q6n8v3lZtnNEkzLvZg5DLMR8f7K7YbGtoI3LIOuSM2PbNMtotB7sl0/Vmi5zdcdtLO3fBmWGNZ0Ov35rnLan9Q0OOcnL4lerHZVuRBpNI0gzCxfoK0/y1LwBV64r1PLhRMjLLmtmhTEmTGS9K/Qlr/l6fhCfoW1/wAvT8IU/UieqPKaVF2H1Vs7PpuFVvV/eb969NGxbUf/AG9PwhVbse2BkUKYP+lR1w6o4q/ok3BgSICwhxBEuIg81352dQmd0yecKw7ItjrQp+FRjnqaqet5zfPlxgk5jj3KNv2vPqyRHNerHYtr/l6fhCodiWn+XpeEK31JrSLlK8usGnqSSNPvXV3waSevOQXTDYdoNLel4AsrtmUDrRYf5Vnld2f9EychZtZ1+vw/NXNwjLHC61uy7caUWD+VDsy37FnhVbN1PW5KsWR+s4KA2mxsjrfvhel/ou37FnhWN+xLR2tvSPvaFbCzEuTA1wkzz1VbT1qsaYTmpH6Oz2B8lVtFomGgTkclyYcNxy6kXLs4H/pnXaxt057gBNMZ/wAwXoK07fZFtSDhToU2B0Yg1gExpK3F0qKoiICxPuGNeGFwDjoOayrG6i0uDi0Fw0KJmvdkRUVUQIiICIiAiIgIiICIiAiIgIiICIiChKqtTaNB9RjWsw5PDjiPs9YcPaDfhK0f0bcNBw1nOOnWqu0hgPuJh5ngSOCCYRc8ba9kUw92KCd7vHYW5PIERDusWCTnA05ylhb1WA7x2I5kfWExMdXMZ6TJ9ojRBuyFVQbdkV2tp4auJzWQZdhGJzml5aWiR6vGdSrmbNuSxuOucYaJio4NJFOI92MkzrAHegmQUUba2ddm9+sAlmGnLi4AjIEiAAMgY5zmVZY2FZtRj6r8QaH5bxzoJDQOAnRx7sSCVQkc9dFD29hc70Pqva5oIcGY3Rih4JEjIdcZfwhZtpWNStVZhFMNaPXJOMOmRHV9UEA5EE+4ZhJBw5oCM89NVD0tjnC0Oaxv1tN+FrjAFMCM4GJxLeI49ytobLrsZdEOZvKrC1hkxiJe7ETGQl4yzIjUoJlrwdCD7irlAUNkV2eq5jRI6ofnAwgDE1jY6uPOJEjPle6wvCRFYNgO/wC44xLXQ3MZwXDra9UIJslVUQdnVy9w3p3ZIwg1HEtA4yRmSQ092cLKLa43ADnh1UuDngPc1sey10SBkM4zz0lBIyNZySVB0NlXDWhhqCP3jjdmHAYxhiJkvdi1OXPLcvrKpVZTAOFzcT/1jsnlpDRiiYBcfkMkEgigHbMuGVA4dYue4FwrOENLy7MxlLWUm5ce7NbVC0uWulzw8BgEb1wk9XPTLR3MnLMSQglZGkpIiZyULX2ZXhzmPbvDiE43MzLfWkAn1uHJrRwzup7Ortc0B43bD6uMw4AgsEYYZAaBlM4ieAQTKoSoupZXDqhO8wtLsy2o6S3E04Q2IaQARIzMrXsbWvUqEVcQpCJxPcS8hxIhp0Hq89IzklBOFw59yKFdsd8BvUIJqSS4y3G+cQkZuDRE5LefaF9elVcAMNN4IDies6NNOGLPXMINzEOfckhQtPY7wKTYZAwkmSSx283j8MjPEYEmNFc7ZdTDUAbTdLnvDXOcWuc44Wl5iYDIyzzPcCglw4ZZjPTPVMQ5jWNePJQbdj1WvY4CmMIxEYtXAvOEEMGEEuEkcOHO1uxKn1eVJhxS/CZaM2eo3DlkwDWR3oJ/EM89Ne5VUDbbEeKRZULSXOpFxxGXYXS9xMCcUnqmQFPICIiAiIgIiICIiAiIgIiICIiAiIgIiICIiAiIgIiICIiAiIgjt472j81Z9K64ZvOuRIbizjnHJVhRVxsUvrur75wccgMIgNwluHn+8TrE8EEq+uWglzyAOJKuNR3tH5qI/QYBGGo4NDQMMZYxANT3kCPjKxu2ByqHhILSWuIL83Cc8njwhBKuvmgAmqAC3ECX6ty63uzGfeFm3jvaPzURX2IH/R/rCHW7MLThkEywhxHEdTTv7kOxi5xL6uJuJxw4To6pvCCZz5e5BL7x3tH5pvHe0fmoJ3o8d2GCs4Rhzw5yGBuLXXKVut2W3cvpF7xje5xe0lrs3Yhn3ZD3BBtVr9lNwa+s1rjoHPgn3LMajvaPzUTtPY30h4dvC2GBpEEz1pnUA/EEKx+w5NMiqRgcXHq5kl+LWeXV9yCXZXLmhzXktIkEHIg6EKylete5zWVQ5zfWAfJHvUfs/Y24cx28Li0QSRqN21ka82z8VhGwSMcVYa4g4MJ3frEmW4uM8IHFBMtrkzDyYMGDoRwV28dzPzUM7YZNRr984Q4uwgEDUHLPLSPcqU9hYGsaKk4cMhzSWuIZhLiJ1OsoJreO9o/NN472j81HbO2aaDqjt45+Mzn7yc88znE9y34QXbx3tH5pvHe0fmrYSEF28d7R+abx3tH5q2EhBdvHe0fmm8d7R+athIQXbx3tH5pvHe0fmrYSEF28d7R+abx3tH5q2EhBdvHe0fmm8d7R+athIQXbx3tH5rWvL51MCCZOZOZwiYmBmddPfyWeFGbSNbeU90wa9brEFzGw4lscZyic570FNo3VwGAUnl5dlm8NkOknDhzDgGn7dSFJ0qzy0EvmcwRMQdNe5RzbZ4cDTaWOM43YQGunjBJOWIkDnMqQZTDWhoGQAA9wQZN472j803jvaPzVsJCC7eO9o/NN472j81bCQgu3jvaPzTeO9o/NWwkILt472j803jvaPzVsJCC7eO9o/NYHbRphuI12hsEzjEQDBMzwJAWVQX+GGaYzBaWubh6riXtcXRwJDQCgmX37G45rNGAAvl/qg6E8pV7rqC0GpBeYbLvWMTA55KDb6MgYgKz4eWF8tBc7AXFoJdIjrNGY/dC2X7ED6NCk97nCjOF0Q7QhpngRln3IJRlcuAc18g6EGQVdvHe0fmoFvo6QAN+/Kng0/hIkZ6ZzHNZ3bGLsRfVJcQ7MNIALiDpOkCPcSgl947mfmrRXJcWh/WABInMAzB+w/JQrvR9x/wC+5vUc3qt0xYsmyThAxcM8tUr7AL/+7gyaMLGEMyx/u4v/AMnPVoQTm8d7R+abx3M/NQ1XYUkkVXAnFOROKXtcA7PMDAR/MVltNkmnX3u8J6sYQCAOqGwM/VymOZQb309nVO+HX9Xr+tmBlzzIHxWQVySWh5kRInMTpPyKiRsIBzyKjgC5pYI/VgVN45rf9Tvw5LX/AMNHDG+I9WSGkYsLSJd1s3daZ5oOg3jvaPzWKheNqAmnVDwMjhdMfJaNrso06r37xzg4PEEa4nT1jPWjQaZLT/w6cAZv3BodIaA7CBhjIFxI5iDA4BBOmucQbjMkEgTnA1P2hXbx3tH5qFq7BxNIFVwJLiTE4sVQPh2eYgYfcs1lsk0aram8LgKeAggmdM5JMaaDmglN472j81jr3e7YXuc4AcpP3K6FZWpB7XNMw4QUCleYnOYHODmwSDIyJIB+wrLvHe0fmtejahj3Plxc6JmNBMDIZ68ZKzQg2kVUQURVRBRFVEFEVUQURVRBRFVEFEVUQURVRBRFVEFEVUQURVRBRFVEFEVUQURVRBRFVEFFVEQEREBERAREQEREBERAREQEREBERAREQEREBERAREQEREBERAREQEREBERAREQEREBERAREQEREBERAREQEREBERAREQEREBERAREQEREBERAREQEREBERAREQEREBERAREQEREBERAREQEREBERAReadIV52dv4X+dOkK87O38L/Og9LReadIV52dv4X+dOkK87O38L/Og9LReadIV52dv4X+dOkK87O38L/Og9LReadIV52dv4X+dOkK87O38L/Og9LReadIV52dv4X+dOkK87O38L/Og9LReadIV52dv4X+dOkK87O38L/Og9LReadIV52dv4X+dOkK87O38L/Og9LReadIV52dv4X+dOkK87O38L/Og9LReadIV52dv4X+dOkK87O38L/Og9LReadIV52dv4X+dOkK87O38L/Og9LReadIV52dv4X+dOkK87O38L/Og9LReadIV52dv4X+dOkK87O38L/Og9LReadIV52dv4X+dOkK87O38L/Og9LReadIV52dv4X+dOkK87O38L/Og9LReadIV52dv4X+dOkK87O38L/Og9LReadIV52dv4X+dOkK87O38L/Og9LReadIV52dv4X+dOkK87O38L/Og9LReadIV52dv4X+dOkK87O38L/Og9LReadIV52dv4X+dOkK87O38L/Og9LReadIV52dv4X+dOkK87O38L/Og9LReadIV52dv4X+dOkK87O38L/Og9LReadIV52dv4X+dOkK87O38L/Og9LReadIV52dv4X+dOkK87O38L/Og9LReadIV52dv4X+dOkK87O38L/Og9LReadIV52dv4X+dOkK87O38L/Og9LReadIV52dv4X+dOkK87O38L/Og9LReadIV52dv4X+dOkK87O38L/Og9LReadIV52dv4X+dOkK87O38L/Og9LReadIV52dv4X+dOkK87O38L/Og9LReadIV52dv4X+dOkK87O38L/Og5NERAREQEREBERAREQEREBERAREQEREBERAREQEREBERAREQEREBERAREQEREBERAREQEREBERAREQEREBERAREQEREBERAREQEREBERAREQEREBERAREQEREBERAREQEREBERAREQEREBERAREQEREBERAREQEREBERAREQEREBERAREQEREBERAREQEREBERAREQEREBERAREQEREBERAREQEREBERAREQEREBERAREQEREBERAREQEREBERAREQEREBERAREQEREBERAREQEREBERAREQEREBERAREQEREH//2Q==\n",
                "text/html": "\n        <iframe\n            width=\"854\"\n            height=\"480\"\n            src=\"https://www.youtube.com/embed/mZkujcMW1uI?fs=1&rel=0\"\n            frameborder=\"0\"\n            allowfullscreen\n        ></iframe>\n        "
              }
            ],
            "msg_id": "",
            "_model_module_version": "1.0.0",
            "_view_count": null,
            "_view_module_version": "1.0.0",
            "layout": "IPY_MODEL_b17fa48094fd47aca4956ff003e735af",
            "_model_module": "@jupyter-widgets/output"
          }
        },
        "f4d4b670ddcb414c8f1347b2012801d2": {
          "model_module": "@jupyter-widgets/output",
          "model_name": "OutputModel",
          "state": {
            "_view_name": "OutputView",
            "_view_module": "@jupyter-widgets/output",
            "_dom_classes": [],
            "_model_name": "OutputModel",
            "outputs": [
              {
                "output_type": "stream",
                "metadata": {
                  "tags": []
                },
                "text": "Video available at https://www.bilibili.com/video/BV1Kg41137Cp\n",
                "stream": "stdout"
              },
              {
                "output_type": "display_data",
                "metadata": {
                  "tags": []
                },
                "text/plain": "<__main__.BiliVideo at 0x7f359ca82710>",
                "text/html": "\n        <iframe\n            width=\"854\"\n            height=\"480\"\n            src=\"https://player.bilibili.com/player.html?bvid=BV1Kg41137Cp&page=1?fs=1\"\n            frameborder=\"0\"\n            allowfullscreen\n        ></iframe>\n        "
              }
            ],
            "msg_id": "",
            "_model_module_version": "1.0.0",
            "_view_count": null,
            "_view_module_version": "1.0.0",
            "layout": "IPY_MODEL_dec72cb22f844adba59d956809994cee",
            "_model_module": "@jupyter-widgets/output"
          }
        },
        "b17fa48094fd47aca4956ff003e735af": {
          "model_module": "@jupyter-widgets/base",
          "model_name": "LayoutModel",
          "state": {
            "_view_name": "LayoutView",
            "grid_template_rows": null,
            "right": null,
            "justify_content": null,
            "_view_module": "@jupyter-widgets/base",
            "_model_module_version": "1.2.0",
            "_view_count": null,
            "flex_flow": null,
            "min_width": null,
            "border": null,
            "align_items": null,
            "bottom": null,
            "_model_module": "@jupyter-widgets/base",
            "top": null,
            "grid_column": null,
            "width": null,
            "overflow_x": null,
            "grid_auto_flow": null,
            "grid_area": null,
            "grid_template_columns": null,
            "flex": null,
            "_model_name": "LayoutModel",
            "justify_items": null,
            "grid_row": null,
            "max_height": null,
            "align_content": null,
            "visibility": null,
            "overflow": null,
            "height": null,
            "min_height": null,
            "padding": null,
            "grid_auto_rows": null,
            "grid_gap": null,
            "overflow_y": null,
            "max_width": null,
            "order": null,
            "_view_module_version": "1.2.0",
            "align_self": null,
            "grid_template_areas": null,
            "object_position": null,
            "object_fit": null,
            "grid_auto_columns": null,
            "margin": null,
            "display": null,
            "left": null
          }
        },
        "dec72cb22f844adba59d956809994cee": {
          "model_module": "@jupyter-widgets/base",
          "model_name": "LayoutModel",
          "state": {
            "_view_name": "LayoutView",
            "grid_template_rows": null,
            "right": null,
            "justify_content": null,
            "_view_module": "@jupyter-widgets/base",
            "_model_module_version": "1.2.0",
            "_view_count": null,
            "flex_flow": null,
            "min_width": null,
            "border": null,
            "align_items": null,
            "bottom": null,
            "_model_module": "@jupyter-widgets/base",
            "top": null,
            "grid_column": null,
            "width": null,
            "overflow_x": null,
            "grid_auto_flow": null,
            "grid_area": null,
            "grid_template_columns": null,
            "flex": null,
            "_model_name": "LayoutModel",
            "justify_items": null,
            "grid_row": null,
            "max_height": null,
            "align_content": null,
            "visibility": null,
            "overflow": null,
            "height": null,
            "min_height": null,
            "padding": null,
            "grid_auto_rows": null,
            "grid_gap": null,
            "overflow_y": null,
            "max_width": null,
            "order": null,
            "_view_module_version": "1.2.0",
            "align_self": null,
            "grid_template_areas": null,
            "object_position": null,
            "object_fit": null,
            "grid_auto_columns": null,
            "margin": null,
            "display": null,
            "left": null
          }
        }
      }
    }
  },
  "cells": [
    {
      "cell_type": "markdown",
      "metadata": {
        "id": "view-in-github",
        "colab_type": "text"
      },
      "source": [
        "<a href=\"https://colab.research.google.com/github/NeuromatchAcademy/course-content/blob/neuro_video_series/tutorials/W0D0_NeuroVideoSeries/W0D0_Tutorial1.ipynb\" target=\"_parent\"><img src=\"https://colab.research.google.com/assets/colab-badge.svg\" alt=\"Open In Colab\"/></a>"
      ]
    },
    {
      "cell_type": "markdown",
      "metadata": {
        "id": "D0M1ad1KRdTJ"
      },
      "source": [
        "<a href=\"https://colab.research.google.com/github/NeuromatchAcademy/course-content/blob/master/tutorials/W0D0_NeuroVideoSeries/W0D0_Tutorial1.ipynb\" target=\"_parent\"><img src=\"https://colab.research.google.com/assets/colab-badge.svg\" alt=\"Open In Colab\"/></a>"
      ]
    },
    {
      "cell_type": "markdown",
      "metadata": {
        "pycharm": {
          "name": "#%% md\n"
        },
        "id": "NWV0lb83RdTL"
      },
      "source": [
        "# Intro to Brain Science\n",
        "**Neuro Video Series**\n",
        "\n",
        "**By Neuromatch Academy**\n",
        "\n",
        "**Content creator**: Arvind Kumar\n",
        "\n",
        "**Content reviewers**: Tara van Viegen\n",
        "\n",
        "**Video editors, captioners, and translators**: Ashish Sahoo, Kushaan Gupta, Cynthia Castillo, Shuze Liu"
      ]
    },
    {
      "cell_type": "markdown",
      "metadata": {
        "pycharm": {
          "name": "#%% md\n"
        },
        "id": "CbIOamD4RdTM"
      },
      "source": [
        "## Video"
      ]
    },
    {
      "cell_type": "code",
      "metadata": {
        "cellView": "form",
        "pycharm": {
          "name": "#%%\n"
        },
        "id": "sWQE4PJIRdTM",
        "outputId": "5112f03f-3cf3-4c67-91c5-9ba190baa33b",
        "colab": {
          "base_uri": "https://localhost:8080/",
          "height": 580,
          "referenced_widgets": [
            "90799f16d88e49348d82901feef78046",
            "1fa8951623dd46a5b48cf3c24c4e8f8f",
            "b2035330f18c4e1cada717810ab96932",
            "f4d4b670ddcb414c8f1347b2012801d2",
            "b17fa48094fd47aca4956ff003e735af",
            "dec72cb22f844adba59d956809994cee"
          ]
        }
      },
      "source": [
        "# @markdown\n",
        "from ipywidgets import widgets\n",
        "\n",
        "out2 = widgets.Output()\n",
        "with out2:\n",
        "  from IPython.display import IFrame\n",
        "  class BiliVideo(IFrame):\n",
        "      def __init__(self, id, page=1, width=400, height=300, **kwargs):\n",
        "          self.id=id\n",
        "          src = \"https://player.bilibili.com/player.html?bvid={0}&page={1}\".format(id, page)\n",
        "          super(BiliVideo, self).__init__(src, width, height, **kwargs)\n",
        "\n",
        "  video = BiliVideo(id=\"BV1Kg41137Cp\", width=854, height=480, fs=1)\n",
        "  print(\"Video available at https://www.bilibili.com/video/{0}\".format(video.id))\n",
        "  display(video)\n",
        "\n",
        "out1 = widgets.Output()\n",
        "with out1:\n",
        "  from IPython.display import YouTubeVideo\n",
        "  video = YouTubeVideo(id=\"mZkujcMW1uI\", width=854, height=480, fs=1, rel=0)\n",
        "  print(\"Video available at https://youtube.com/watch?v=\" + video.id)\n",
        "  display(video)\n",
        "\n",
        "out = widgets.Tab([out1, out2])\n",
        "out.set_title(0, 'Youtube')\n",
        "out.set_title(1, 'Bilibili')\n",
        "\n",
        "display(out)"
      ],
      "execution_count": 1,
      "outputs": [
        {
          "output_type": "display_data",
          "data": {
            "application/vnd.jupyter.widget-view+json": {
              "model_id": "90799f16d88e49348d82901feef78046",
              "version_minor": 0,
              "version_major": 2
            },
            "text/plain": [
              "Tab(children=(Output(), Output()), _titles={u'1': 'Bilibili', u'0': 'Youtube'})"
            ]
          },
          "metadata": {
            "tags": []
          }
        }
      ]
    },
    {
      "cell_type": "markdown",
      "metadata": {
        "id": "bbxSviD-RdTN"
      },
      "source": [
        "## Slides"
      ]
    },
    {
      "cell_type": "code",
      "metadata": {
        "pycharm": {
          "name": "#%%\n"
        },
        "cellView": "form",
        "id": "SvcgwnU3RdTN",
        "outputId": "e5523974-fc60-42c9-a20d-82b5f5544422",
        "colab": {
          "base_uri": "https://localhost:8080/",
          "height": 500
        }
      },
      "source": [
        "# @markdown\n",
        "from IPython.display import IFrame\n",
        "url = \"https://mfr.ca-1.osf.io/render?url=https://osf.io/96dqp/?direct%26mode=render%26action=download%26mode=render\"\n",
        "IFrame(src=url, width=854, height=480)\n",
        "\n"
      ],
      "execution_count": 2,
      "outputs": [
        {
          "output_type": "execute_result",
          "data": {
            "text/plain": [
              "<IPython.lib.display.IFrame at 0x7f359c9f3210>"
            ],
            "text/html": [
              "\n",
              "        <iframe\n",
              "            width=\"854\"\n",
              "            height=\"480\"\n",
              "            src=\"https://mfr.ca-1.osf.io/render?url=https://osf.io/96dqp/?direct%26mode=render%26action=download%26mode=render\"\n",
              "            frameborder=\"0\"\n",
              "            allowfullscreen\n",
              "        ></iframe>\n",
              "        "
            ]
          },
          "metadata": {
            "tags": []
          },
          "execution_count": 2
        }
      ]
    },
    {
      "cell_type": "code",
      "metadata": {
        "id": "T9nbwdj8RfA4"
      },
      "source": [
        ""
      ],
      "execution_count": null,
      "outputs": []
    }
  ]
}