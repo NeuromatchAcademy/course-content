{
  "nbformat": 4,
  "nbformat_minor": 0,
  "metadata": {
    "colab": {
      "name": "W0D0_Tutorial9",
      "provenance": [],
      "collapsed_sections": [],
      "toc_visible": true,
      "include_colab_link": true
    },
    "kernel": {
      "display_name": "Python 3",
      "language": "python",
      "name": "python3"
    },
    "kernelspec": {
      "display_name": "Python 3",
      "name": "python3"
    },
    "language_info": {
      "codemirror_mode": {
        "name": "ipython",
        "version": 3
      },
      "file_extension": ".py",
      "mimetype": "text/x-python",
      "name": "python",
      "nbconvert_exporter": "python",
      "pygments_lexer": "ipython3",
      "version": "3.7.10"
    },
    "widgets": {
      "application/vnd.jupyter.widget-state+json": {
        "abc82cd70c9d4fbbbe93ee3068c39281": {
          "model_module": "@jupyter-widgets/controls",
          "model_name": "TabModel",
          "state": {
            "_view_name": "TabView",
            "_dom_classes": [],
            "_titles": {
              "0": "Youtube",
              "1": "Bilibili"
            },
            "_model_name": "TabModel",
            "_view_module": "@jupyter-widgets/controls",
            "selected_index": 0,
            "_model_module_version": "1.5.0",
            "_view_count": null,
            "_view_module_version": "1.5.0",
            "box_style": "",
            "layout": "IPY_MODEL_c6c8d3ce33a242b4b8d7e1197e2d734f",
            "_model_module": "@jupyter-widgets/controls",
            "children": [
              "IPY_MODEL_22068edd8cf446a3a89e0d725de3e5fb",
              "IPY_MODEL_d663b57978c64ec4b39092690bc2fe5f"
            ]
          }
        },
        "c6c8d3ce33a242b4b8d7e1197e2d734f": {
          "model_module": "@jupyter-widgets/base",
          "model_name": "LayoutModel",
          "state": {
            "_view_name": "LayoutView",
            "grid_template_rows": null,
            "right": null,
            "justify_content": null,
            "_view_module": "@jupyter-widgets/base",
            "overflow": null,
            "_model_module_version": "1.2.0",
            "_view_count": null,
            "flex_flow": null,
            "width": null,
            "min_width": null,
            "border": null,
            "align_items": null,
            "bottom": null,
            "_model_module": "@jupyter-widgets/base",
            "top": null,
            "grid_column": null,
            "overflow_y": null,
            "overflow_x": null,
            "grid_auto_flow": null,
            "grid_area": null,
            "grid_template_columns": null,
            "flex": null,
            "_model_name": "LayoutModel",
            "justify_items": null,
            "grid_row": null,
            "max_height": null,
            "align_content": null,
            "visibility": null,
            "align_self": null,
            "height": null,
            "min_height": null,
            "padding": null,
            "grid_auto_rows": null,
            "grid_gap": null,
            "max_width": null,
            "order": null,
            "_view_module_version": "1.2.0",
            "grid_template_areas": null,
            "object_position": null,
            "object_fit": null,
            "grid_auto_columns": null,
            "margin": null,
            "display": null,
            "left": null
          }
        },
        "22068edd8cf446a3a89e0d725de3e5fb": {
          "model_module": "@jupyter-widgets/output",
          "model_name": "OutputModel",
          "state": {
            "_view_name": "OutputView",
            "msg_id": "",
            "_dom_classes": [],
            "_model_name": "OutputModel",
            "outputs": [
              {
                "output_type": "stream",
                "metadata": {
                  "tags": []
                },
                "text": "Video available at https://youtube.com/watch?v=_eJ-HvecSzU\n",
                "stream": "stdout"
              },
              {
                "output_type": "display_data",
                "metadata": {
                  "tags": []
                },
                "text/html": "\n        <iframe\n            width=\"854\"\n            height=\"480\"\n            src=\"https://www.youtube.com/embed/_eJ-HvecSzU?fs=1&rel=0\"\n            frameborder=\"0\"\n            allowfullscreen\n        ></iframe>\n        ",
                "text/plain": "<IPython.lib.display.YouTubeVideo at 0x7f5ce747a510>",
                "image/jpeg": "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\n"
              }
            ],
            "_view_module": "@jupyter-widgets/output",
            "_model_module_version": "1.0.0",
            "_view_count": null,
            "_view_module_version": "1.0.0",
            "layout": "IPY_MODEL_e286d3c14eb24a90bc388bd7c4cef7c6",
            "_model_module": "@jupyter-widgets/output"
          }
        },
        "d663b57978c64ec4b39092690bc2fe5f": {
          "model_module": "@jupyter-widgets/output",
          "model_name": "OutputModel",
          "state": {
            "_view_name": "OutputView",
            "msg_id": "",
            "_dom_classes": [],
            "_model_name": "OutputModel",
            "outputs": [
              {
                "output_type": "stream",
                "metadata": {
                  "tags": []
                },
                "text": "Video available at https://www.bilibili.com/video/BV1G44y1z7Tg\n",
                "stream": "stdout"
              },
              {
                "output_type": "display_data",
                "metadata": {
                  "tags": []
                },
                "text/html": "\n        <iframe\n            width=\"854\"\n            height=\"480\"\n            src=\"https://player.bilibili.com/player.html?bvid=BV1G44y1z7Tg&page=1?fs=1\"\n            frameborder=\"0\"\n            allowfullscreen\n        ></iframe>\n        ",
                "text/plain": "<__main__.BiliVideo at 0x7f5cec578d90>"
              }
            ],
            "_view_module": "@jupyter-widgets/output",
            "_model_module_version": "1.0.0",
            "_view_count": null,
            "_view_module_version": "1.0.0",
            "layout": "IPY_MODEL_1c2c86229190486c9a41a3b442033cb4",
            "_model_module": "@jupyter-widgets/output"
          }
        },
        "e286d3c14eb24a90bc388bd7c4cef7c6": {
          "model_module": "@jupyter-widgets/base",
          "model_name": "LayoutModel",
          "state": {
            "_view_name": "LayoutView",
            "grid_template_rows": null,
            "right": null,
            "justify_content": null,
            "_view_module": "@jupyter-widgets/base",
            "overflow": null,
            "_model_module_version": "1.2.0",
            "_view_count": null,
            "flex_flow": null,
            "width": null,
            "min_width": null,
            "border": null,
            "align_items": null,
            "bottom": null,
            "_model_module": "@jupyter-widgets/base",
            "top": null,
            "grid_column": null,
            "overflow_y": null,
            "overflow_x": null,
            "grid_auto_flow": null,
            "grid_area": null,
            "grid_template_columns": null,
            "flex": null,
            "_model_name": "LayoutModel",
            "justify_items": null,
            "grid_row": null,
            "max_height": null,
            "align_content": null,
            "visibility": null,
            "align_self": null,
            "height": null,
            "min_height": null,
            "padding": null,
            "grid_auto_rows": null,
            "grid_gap": null,
            "max_width": null,
            "order": null,
            "_view_module_version": "1.2.0",
            "grid_template_areas": null,
            "object_position": null,
            "object_fit": null,
            "grid_auto_columns": null,
            "margin": null,
            "display": null,
            "left": null
          }
        },
        "1c2c86229190486c9a41a3b442033cb4": {
          "model_module": "@jupyter-widgets/base",
          "model_name": "LayoutModel",
          "state": {
            "_view_name": "LayoutView",
            "grid_template_rows": null,
            "right": null,
            "justify_content": null,
            "_view_module": "@jupyter-widgets/base",
            "overflow": null,
            "_model_module_version": "1.2.0",
            "_view_count": null,
            "flex_flow": null,
            "width": null,
            "min_width": null,
            "border": null,
            "align_items": null,
            "bottom": null,
            "_model_module": "@jupyter-widgets/base",
            "top": null,
            "grid_column": null,
            "overflow_y": null,
            "overflow_x": null,
            "grid_auto_flow": null,
            "grid_area": null,
            "grid_template_columns": null,
            "flex": null,
            "_model_name": "LayoutModel",
            "justify_items": null,
            "grid_row": null,
            "max_height": null,
            "align_content": null,
            "visibility": null,
            "align_self": null,
            "height": null,
            "min_height": null,
            "padding": null,
            "grid_auto_rows": null,
            "grid_gap": null,
            "max_width": null,
            "order": null,
            "_view_module_version": "1.2.0",
            "grid_template_areas": null,
            "object_position": null,
            "object_fit": null,
            "grid_auto_columns": null,
            "margin": null,
            "display": null,
            "left": null
          }
        }
      }
    }
  },
  "cells": [
    {
      "cell_type": "markdown",
      "metadata": {
        "id": "view-in-github",
        "colab_type": "text"
      },
      "source": [
        "<a href=\"https://colab.research.google.com/github/NeuromatchAcademy/course-content/blob/last_neuro_vids/tutorials/W0D0_NeuroVideoSeries/W0D0_Tutorial9.ipynb\" target=\"_parent\"><img src=\"https://colab.research.google.com/assets/colab-badge.svg\" alt=\"Open In Colab\"/></a>"
      ]
    },
    {
      "cell_type": "markdown",
      "metadata": {
        "pycharm": {
          "name": "#%% md\n"
        },
        "id": "vTDf0BovsgCS"
      },
      "source": [
        "# Brain Signals: Calcium Imaging\n",
        "\n",
        "**Neuro Video Series**\n",
        "\n",
        "**By Neuromatch Academy**\n",
        "\n",
        "**Content creators**: \n",
        "\n",
        "**Content reviewers**:\n",
        "\n",
        "**Video editors, captioners, and translators**: "
      ]
    },
    {
      "cell_type": "markdown",
      "metadata": {
        "id": "94stO6JgsgCU"
      },
      "source": [
        "**Our 2021 Sponsors, including Presenting Sponsor Facebook Reality Labs**\n",
        "\n",
        "<p align='center'><img src='https://github.com/NeuromatchAcademy/widgets/blob/master/sponsors.png?raw=True'/></p>"
      ]
    },
    {
      "cell_type": "markdown",
      "metadata": {
        "pycharm": {
          "name": "#%% md\n"
        },
        "id": "kTBt5t3nsgCU"
      },
      "source": [
        "## Video"
      ]
    },
    {
      "cell_type": "code",
      "metadata": {
        "cellView": "form",
        "id": "SWzYWwHwsj5F",
        "outputId": "92eeed75-7691-46a8-8d62-76ec0602d1c8",
        "colab": {
          "base_uri": "https://localhost:8080/",
          "height": 580,
          "referenced_widgets": [
            "abc82cd70c9d4fbbbe93ee3068c39281",
            "c6c8d3ce33a242b4b8d7e1197e2d734f",
            "22068edd8cf446a3a89e0d725de3e5fb",
            "d663b57978c64ec4b39092690bc2fe5f",
            "e286d3c14eb24a90bc388bd7c4cef7c6",
            "1c2c86229190486c9a41a3b442033cb4"
          ]
        }
      },
      "source": [
        "# @markdown\n",
        "from ipywidgets import widgets\n",
        "\n",
        "out2 = widgets.Output()\n",
        "with out2:\n",
        "  from IPython.display import IFrame\n",
        "  class BiliVideo(IFrame):\n",
        "      def __init__(self, id, page=1, width=400, height=300, **kwargs):\n",
        "          self.id=id\n",
        "          src = \"https://player.bilibili.com/player.html?bvid={0}&page={1}\".format(id, page)\n",
        "          super(BiliVideo, self).__init__(src, width, height, **kwargs)\n",
        "\n",
        "  video = BiliVideo(id=\"BV1G44y1z7Tg\", width=854, height=480, fs=1)\n",
        "  print(\"Video available at https://www.bilibili.com/video/{0}\".format(video.id))\n",
        "  display(video)\n",
        "\n",
        "out1 = widgets.Output()\n",
        "with out1:\n",
        "  from IPython.display import YouTubeVideo\n",
        "  video = YouTubeVideo(id=\"_eJ-HvecSzU\", width=854, height=480, fs=1, rel=0)\n",
        "  print(\"Video available at https://youtube.com/watch?v=\" + video.id)\n",
        "  display(video)\n",
        "\n",
        "out = widgets.Tab([out1, out2])\n",
        "out.set_title(0, 'Youtube')\n",
        "out.set_title(1, 'Bilibili')\n",
        "\n",
        "display(out)"
      ],
      "execution_count": 1,
      "outputs": [
        {
          "output_type": "display_data",
          "data": {
            "application/vnd.jupyter.widget-view+json": {
              "model_id": "abc82cd70c9d4fbbbe93ee3068c39281",
              "version_minor": 0,
              "version_major": 2
            },
            "text/plain": [
              "Tab(children=(Output(), Output()), _titles={'0': 'Youtube', '1': 'Bilibili'})"
            ]
          },
          "metadata": {
            "tags": []
          }
        }
      ]
    },
    {
      "cell_type": "markdown",
      "metadata": {
        "id": "ipiLOSHpsutV"
      },
      "source": [
        "# Slides"
      ]
    },
    {
      "cell_type": "code",
      "metadata": {
        "cellView": "form",
        "id": "rpE-RWomsvqV",
        "outputId": "156e38bc-d19d-42d6-dfe8-bcae6b9ef664",
        "colab": {
          "base_uri": "https://localhost:8080/",
          "height": 500
        }
      },
      "source": [
        "# @markdown\n",
        "from IPython.display import IFrame\n",
        "url = \"https://mfr.ca-1.osf.io/render?url=https://osf.io/3sqfb/?direct%26mode=render%26action=download%26mode=render\"\n",
        "IFrame(src=url, width=854, height=480)"
      ],
      "execution_count": 2,
      "outputs": [
        {
          "output_type": "execute_result",
          "data": {
            "text/html": [
              "\n",
              "        <iframe\n",
              "            width=\"854\"\n",
              "            height=\"480\"\n",
              "            src=\"https://mfr.ca-1.osf.io/render?url=https://osf.io/3sqfb/?direct%26mode=render%26action=download%26mode=render\"\n",
              "            frameborder=\"0\"\n",
              "            allowfullscreen\n",
              "        ></iframe>\n",
              "        "
            ],
            "text/plain": [
              "<IPython.lib.display.IFrame at 0x7f5ce743ef10>"
            ]
          },
          "metadata": {
            "tags": []
          },
          "execution_count": 2
        }
      ]
    }
  ]
}