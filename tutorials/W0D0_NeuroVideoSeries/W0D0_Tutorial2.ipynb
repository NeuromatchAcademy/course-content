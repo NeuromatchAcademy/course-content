{
  "nbformat": 4,
  "nbformat_minor": 0,
  "metadata": {
    "colab": {
      "name": "W0D0_Tutorial2",
      "provenance": [],
      "collapsed_sections": [],
      "toc_visible": true,
      "include_colab_link": true
    },
    "kernel": {
      "display_name": "Python 3",
      "language": "python",
      "name": "python3"
    },
    "kernelspec": {
      "display_name": "Python 2",
      "language": "python",
      "name": "python2"
    },
    "language_info": {
      "codemirror_mode": {
        "name": "ipython",
        "version": 3
      },
      "file_extension": ".py",
      "mimetype": "text/x-python",
      "name": "python",
      "nbconvert_exporter": "python",
      "pygments_lexer": "ipython3",
      "version": "3.7.10"
    }
  },
  "cells": [
    {
      "cell_type": "markdown",
      "metadata": {
        "id": "view-in-github",
        "colab_type": "text"
      },
      "source": [
        "<a href=\"https://colab.research.google.com/github/NeuromatchAcademy/course-content/blob/neuro_videos/tutorials/W0D0_NeuroVideoSeries/W0D0_Tutorial2.ipynb\" target=\"_parent\"><img src=\"https://colab.research.google.com/assets/colab-badge.svg\" alt=\"Open In Colab\"/></a>"
      ]
    },
    {
      "cell_type": "markdown",
      "metadata": {
        "pycharm": {
          "name": "#%% md\n"
        },
        "id": "qHXNVLkE28kO"
      },
      "source": [
        "# Human Psychophysics\n",
        "**Neuro Video Series**\n",
        "\n",
        "**By Neuromatch Academy**\n",
        "\n",
        "**Content creator**: Jenny Read\n",
        "\n",
        "**Content reviewers**: Jiaxin Tu, Zahra Arjmandi, Tara van Viegen\n",
        "\n",
        "**Video editors, captioners, and translators**: Manisha Sinha, Shuze Liu"
      ]
    },
    {
      "cell_type": "markdown",
      "metadata": {
        "pycharm": {
          "name": "#%% md\n"
        },
        "id": "e2EVRRIE28kQ"
      },
      "source": [
        "## Video"
      ]
    },
    {
      "cell_type": "code",
      "metadata": {
        "cellView": "form",
        "execution": {
          "iopub.execute_input": "2021-06-25T06:25:25.645297Z",
          "iopub.status.busy": "2021-06-25T06:25:25.644666Z",
          "iopub.status.idle": "2021-06-25T06:25:25.778456Z",
          "shell.execute_reply": "2021-06-25T06:25:25.778960Z"
        },
        "pycharm": {
          "name": "#%%\n"
        },
        "id": "zJrSlHkm28kQ"
      },
      "source": [
        "# @markdown\n",
        "from ipywidgets import widgets\n",
        "\n",
        "out2 = widgets.Output()\n",
        "with out2:\n",
        "  from IPython.display import IFrame\n",
        "  class BiliVideo(IFrame):\n",
        "      def __init__(self, id, page=1, width=400, height=300, **kwargs):\n",
        "          self.id=id\n",
        "          src = \"https://player.bilibili.com/player.html?bvid={0}&page={1}\".format(id, page)\n",
        "          super(BiliVideo, self).__init__(src, width, height, **kwargs)\n",
        "\n",
        "  video = BiliVideo(id=\"BV1Wg41137Cv\", width=854, height=480, fs=1)\n",
        "  print(\"Video available at https://www.bilibili.com/video/{0}\".format(video.id))\n",
        "  display(video)\n",
        "\n",
        "out1 = widgets.Output()\n",
        "with out1:\n",
        "  from IPython.display import YouTubeVideo\n",
        "  video = YouTubeVideo(id=\"F8gTfydUFjc\", width=854, height=480, fs=1, rel=0)\n",
        "  print(\"Video available at https://youtube.com/watch?v=\" + video.id)\n",
        "  display(video)\n",
        "\n",
        "out = widgets.Tab([out1, out2])\n",
        "out.set_title(0, 'Youtube')\n",
        "out.set_title(1, 'Bilibili')\n",
        "\n",
        "display(out)"
      ],
      "execution_count": null,
      "outputs": []
    },
    {
      "cell_type": "markdown",
      "metadata": {
        "id": "XTz5WpMa28kR"
      },
      "source": [
        "## Slides"
      ]
    },
    {
      "cell_type": "code",
      "metadata": {
        "cellView": "form",
        "execution": {
          "iopub.execute_input": "2021-06-25T06:25:25.793384Z",
          "iopub.status.busy": "2021-06-25T06:25:25.792296Z",
          "iopub.status.idle": "2021-06-25T06:25:25.795920Z",
          "shell.execute_reply": "2021-06-25T06:25:25.795402Z"
        },
        "pycharm": {
          "name": "#%%\n"
        },
        "id": "NQ325YfH28kR"
      },
      "source": [
        "# @markdown\n",
        "from IPython.display import IFrame\n",
        "url = \"https://mfr.ca-1.osf.io/render?url=https://osf.io/qb9dg/?direct%26mode=render%26action=download%26mode=render\"\n",
        "IFrame(src=url, width=854, height=480)"
      ],
      "execution_count": null,
      "outputs": []
    }
  ]
}