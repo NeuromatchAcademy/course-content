{
  "nbformat": 4,
  "nbformat_minor": 0,
  "metadata": {
    "colab": {
      "name": "W0D0_Tutorial1",
      "provenance": [],
      "collapsed_sections": [],
      "toc_visible": true,
      "include_colab_link": true
    },
    "kernel": {
      "display_name": "Python 3",
      "language": "python",
      "name": "python3"
    },
    "kernelspec": {
      "display_name": "Python 2",
      "language": "python",
      "name": "python2"
    },
    "language_info": {
      "codemirror_mode": {
        "name": "ipython",
        "version": 2
      },
      "file_extension": ".py",
      "mimetype": "text/x-python",
      "name": "python",
      "nbconvert_exporter": "python",
      "pygments_lexer": "ipython2",
      "version": "2.7.6"
    },
    "widgets": {
      "application/vnd.jupyter.widget-state+json": {
        "27c5fed538f7430a98194be7fecd061f": {
          "model_module": "@jupyter-widgets/controls",
          "model_name": "TabModel",
          "state": {
            "_view_name": "TabView",
            "_dom_classes": [],
            "_titles": {
              "0": "Youtube",
              "1": "Bilibili"
            },
            "_model_name": "TabModel",
            "_view_module": "@jupyter-widgets/controls",
            "selected_index": 0,
            "_model_module_version": "1.5.0",
            "_view_count": null,
            "_view_module_version": "1.5.0",
            "box_style": "",
            "layout": "IPY_MODEL_a8f4377ffa134bb090e45954a0733c05",
            "_model_module": "@jupyter-widgets/controls",
            "children": [
              "IPY_MODEL_fb5c89a4b9694330918b09922d40cea9",
              "IPY_MODEL_0f0aac4ff8044a9f9986c6b1ea432527"
            ]
          }
        },
        "a8f4377ffa134bb090e45954a0733c05": {
          "model_module": "@jupyter-widgets/base",
          "model_name": "LayoutModel",
          "state": {
            "_view_name": "LayoutView",
            "grid_template_rows": null,
            "right": null,
            "justify_content": null,
            "_view_module": "@jupyter-widgets/base",
            "_model_module_version": "1.2.0",
            "_view_count": null,
            "flex_flow": null,
            "min_width": null,
            "border": null,
            "align_items": null,
            "bottom": null,
            "_model_module": "@jupyter-widgets/base",
            "top": null,
            "grid_column": null,
            "width": null,
            "overflow_x": null,
            "grid_auto_flow": null,
            "grid_area": null,
            "grid_template_columns": null,
            "flex": null,
            "_model_name": "LayoutModel",
            "justify_items": null,
            "grid_row": null,
            "max_height": null,
            "align_content": null,
            "visibility": null,
            "overflow": null,
            "height": null,
            "min_height": null,
            "padding": null,
            "grid_auto_rows": null,
            "grid_gap": null,
            "overflow_y": null,
            "max_width": null,
            "order": null,
            "_view_module_version": "1.2.0",
            "align_self": null,
            "grid_template_areas": null,
            "object_position": null,
            "object_fit": null,
            "grid_auto_columns": null,
            "margin": null,
            "display": null,
            "left": null
          }
        },
        "fb5c89a4b9694330918b09922d40cea9": {
          "model_module": "@jupyter-widgets/output",
          "model_name": "OutputModel",
          "state": {
            "_view_name": "OutputView",
            "_view_module": "@jupyter-widgets/output",
            "_dom_classes": [],
            "_model_name": "OutputModel",
            "outputs": [
              {
                "output_type": "stream",
                "metadata": {
                  "tags": []
                },
                "text": "Video available at https://youtube.com/watch?v=F8gTfydUFjc\n",
                "stream": "stdout"
              },
              {
                "output_type": "display_data",
                "metadata": {
                  "tags": []
                },
                "text/plain": "<IPython.lib.display.YouTubeVideo at 0x7fdeadc6e190>",
                "image/jpeg": "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\n",
                "text/html": "\n        <iframe\n            width=\"854\"\n            height=\"480\"\n            src=\"https://www.youtube.com/embed/F8gTfydUFjc?fs=1&rel=0\"\n            frameborder=\"0\"\n            allowfullscreen\n        ></iframe>\n        "
              }
            ],
            "msg_id": "",
            "_model_module_version": "1.0.0",
            "_view_count": null,
            "_view_module_version": "1.0.0",
            "layout": "IPY_MODEL_d6281d69535e4fbb976098bd374b40ad",
            "_model_module": "@jupyter-widgets/output"
          }
        },
        "0f0aac4ff8044a9f9986c6b1ea432527": {
          "model_module": "@jupyter-widgets/output",
          "model_name": "OutputModel",
          "state": {
            "_view_name": "OutputView",
            "_view_module": "@jupyter-widgets/output",
            "_dom_classes": [],
            "_model_name": "OutputModel",
            "outputs": [
              {
                "output_type": "stream",
                "metadata": {
                  "tags": []
                },
                "text": "Video available at https://www.bilibili.com/video/BV1Wg41137Cv\n",
                "stream": "stdout"
              },
              {
                "output_type": "display_data",
                "metadata": {
                  "tags": []
                },
                "text/plain": "<__main__.BiliVideo at 0x7fdeadd1f590>",
                "text/html": "\n        <iframe\n            width=\"854\"\n            height=\"480\"\n            src=\"https://player.bilibili.com/player.html?bvid=BV1Wg41137Cv&page=1?fs=1\"\n            frameborder=\"0\"\n            allowfullscreen\n        ></iframe>\n        "
              }
            ],
            "msg_id": "",
            "_model_module_version": "1.0.0",
            "_view_count": null,
            "_view_module_version": "1.0.0",
            "layout": "IPY_MODEL_6c84e6da579b44f49b7f0fb9e480d804",
            "_model_module": "@jupyter-widgets/output"
          }
        },
        "d6281d69535e4fbb976098bd374b40ad": {
          "model_module": "@jupyter-widgets/base",
          "model_name": "LayoutModel",
          "state": {
            "_view_name": "LayoutView",
            "grid_template_rows": null,
            "right": null,
            "justify_content": null,
            "_view_module": "@jupyter-widgets/base",
            "_model_module_version": "1.2.0",
            "_view_count": null,
            "flex_flow": null,
            "min_width": null,
            "border": null,
            "align_items": null,
            "bottom": null,
            "_model_module": "@jupyter-widgets/base",
            "top": null,
            "grid_column": null,
            "width": null,
            "overflow_x": null,
            "grid_auto_flow": null,
            "grid_area": null,
            "grid_template_columns": null,
            "flex": null,
            "_model_name": "LayoutModel",
            "justify_items": null,
            "grid_row": null,
            "max_height": null,
            "align_content": null,
            "visibility": null,
            "overflow": null,
            "height": null,
            "min_height": null,
            "padding": null,
            "grid_auto_rows": null,
            "grid_gap": null,
            "overflow_y": null,
            "max_width": null,
            "order": null,
            "_view_module_version": "1.2.0",
            "align_self": null,
            "grid_template_areas": null,
            "object_position": null,
            "object_fit": null,
            "grid_auto_columns": null,
            "margin": null,
            "display": null,
            "left": null
          }
        },
        "6c84e6da579b44f49b7f0fb9e480d804": {
          "model_module": "@jupyter-widgets/base",
          "model_name": "LayoutModel",
          "state": {
            "_view_name": "LayoutView",
            "grid_template_rows": null,
            "right": null,
            "justify_content": null,
            "_view_module": "@jupyter-widgets/base",
            "_model_module_version": "1.2.0",
            "_view_count": null,
            "flex_flow": null,
            "min_width": null,
            "border": null,
            "align_items": null,
            "bottom": null,
            "_model_module": "@jupyter-widgets/base",
            "top": null,
            "grid_column": null,
            "width": null,
            "overflow_x": null,
            "grid_auto_flow": null,
            "grid_area": null,
            "grid_template_columns": null,
            "flex": null,
            "_model_name": "LayoutModel",
            "justify_items": null,
            "grid_row": null,
            "max_height": null,
            "align_content": null,
            "visibility": null,
            "overflow": null,
            "height": null,
            "min_height": null,
            "padding": null,
            "grid_auto_rows": null,
            "grid_gap": null,
            "overflow_y": null,
            "max_width": null,
            "order": null,
            "_view_module_version": "1.2.0",
            "align_self": null,
            "grid_template_areas": null,
            "object_position": null,
            "object_fit": null,
            "grid_auto_columns": null,
            "margin": null,
            "display": null,
            "left": null
          }
        }
      }
    }
  },
  "cells": [
    {
      "cell_type": "markdown",
      "metadata": {
        "id": "view-in-github",
        "colab_type": "text"
      },
      "source": [
        "<a href=\"https://colab.research.google.com/github/NeuromatchAcademy/course-content/blob/neuro_video_series/tutorials/W0D0_NeuroVideoSeries/W0D0_Tutorial2.ipynb\" target=\"_parent\"><img src=\"https://colab.research.google.com/assets/colab-badge.svg\" alt=\"Open In Colab\"/></a>"
      ]
    },
    {
      "cell_type": "markdown",
      "metadata": {
        "pycharm": {
          "name": "#%% md\n"
        },
        "id": "stoYMeCsUtZs"
      },
      "source": [
        "# Human Psychophysics\n",
        "**Neuro Video Series**\n",
        "\n",
        "**By Neuromatch Academy**\n",
        "\n",
        "**Content creator**: Jenny Read\n",
        "\n",
        "**Content reviewers**: Jiaxin Tu, Zahra Arjmandi, Tara van Viegen\n",
        "\n",
        "**Video editors, captioners, and translators**: Manisha Sinha, Shuze Liu"
      ]
    },
    {
      "cell_type": "markdown",
      "metadata": {
        "pycharm": {
          "name": "#%% md\n"
        },
        "id": "PsWXCzn_UtZs"
      },
      "source": [
        "## Video"
      ]
    },
    {
      "cell_type": "code",
      "metadata": {
        "cellView": "form",
        "pycharm": {
          "name": "#%%\n"
        },
        "id": "RVcpgrTdUtZt",
        "outputId": "fcc18bb5-3d6e-46c1-c32b-9688cfbd86a4",
        "colab": {
          "base_uri": "https://localhost:8080/",
          "height": 580,
          "referenced_widgets": [
            "27c5fed538f7430a98194be7fecd061f",
            "a8f4377ffa134bb090e45954a0733c05",
            "fb5c89a4b9694330918b09922d40cea9",
            "0f0aac4ff8044a9f9986c6b1ea432527",
            "d6281d69535e4fbb976098bd374b40ad",
            "6c84e6da579b44f49b7f0fb9e480d804"
          ]
        }
      },
      "source": [
        "# @markdown\n",
        "from ipywidgets import widgets\n",
        "\n",
        "out2 = widgets.Output()\n",
        "with out2:\n",
        "  from IPython.display import IFrame\n",
        "  class BiliVideo(IFrame):\n",
        "      def __init__(self, id, page=1, width=400, height=300, **kwargs):\n",
        "          self.id=id\n",
        "          src = \"https://player.bilibili.com/player.html?bvid={0}&page={1}\".format(id, page)\n",
        "          super(BiliVideo, self).__init__(src, width, height, **kwargs)\n",
        "\n",
        "  video = BiliVideo(id=\"BV1Wg41137Cv\", width=854, height=480, fs=1)\n",
        "  print(\"Video available at https://www.bilibili.com/video/{0}\".format(video.id))\n",
        "  display(video)\n",
        "\n",
        "out1 = widgets.Output()\n",
        "with out1:\n",
        "  from IPython.display import YouTubeVideo\n",
        "  video = YouTubeVideo(id=\"F8gTfydUFjc\", width=854, height=480, fs=1, rel=0)\n",
        "  print(\"Video available at https://youtube.com/watch?v=\" + video.id)\n",
        "  display(video)\n",
        "\n",
        "out = widgets.Tab([out1, out2])\n",
        "out.set_title(0, 'Youtube')\n",
        "out.set_title(1, 'Bilibili')\n",
        "\n",
        "display(out)"
      ],
      "execution_count": 1,
      "outputs": [
        {
          "output_type": "display_data",
          "data": {
            "application/vnd.jupyter.widget-view+json": {
              "model_id": "27c5fed538f7430a98194be7fecd061f",
              "version_minor": 0,
              "version_major": 2
            },
            "text/plain": [
              "Tab(children=(Output(), Output()), _titles={u'1': 'Bilibili', u'0': 'Youtube'})"
            ]
          },
          "metadata": {
            "tags": []
          }
        }
      ]
    },
    {
      "cell_type": "markdown",
      "metadata": {
        "id": "xMrnO24wUtZt"
      },
      "source": [
        "## Slides"
      ]
    },
    {
      "cell_type": "code",
      "metadata": {
        "pycharm": {
          "name": "#%%\n"
        },
        "cellView": "form",
        "id": "j85rPKDOUtZu",
        "outputId": "7d9563f4-2621-4cba-b820-d6d480f26018",
        "colab": {
          "base_uri": "https://localhost:8080/",
          "height": 500
        }
      },
      "source": [
        "# @markdown\n",
        "from IPython.display import IFrame\n",
        "url = \"https://mfr.ca-1.osf.io/render?url=https://osf.io/qb9dg/?direct%26mode=render%26action=download%26mode=render\"\n",
        "IFrame(src=url, width=854, height=480)\n",
        "\n"
      ],
      "execution_count": 4,
      "outputs": [
        {
          "output_type": "execute_result",
          "data": {
            "text/plain": [
              "<IPython.lib.display.IFrame at 0x7fdeadc88510>"
            ],
            "text/html": [
              "\n",
              "        <iframe\n",
              "            width=\"854\"\n",
              "            height=\"480\"\n",
              "            src=\"https://mfr.ca-1.osf.io/render?url=https://osf.io/qb9dg/?direct%26mode=render%26action=download%26mode=render\"\n",
              "            frameborder=\"0\"\n",
              "            allowfullscreen\n",
              "        ></iframe>\n",
              "        "
            ]
          },
          "metadata": {
            "tags": []
          },
          "execution_count": 4
        }
      ]
    },
    {
      "cell_type": "code",
      "metadata": {
        "id": "JqKBh0kCUvGF"
      },
      "source": [
        ""
      ],
      "execution_count": null,
      "outputs": []
    }
  ]
}