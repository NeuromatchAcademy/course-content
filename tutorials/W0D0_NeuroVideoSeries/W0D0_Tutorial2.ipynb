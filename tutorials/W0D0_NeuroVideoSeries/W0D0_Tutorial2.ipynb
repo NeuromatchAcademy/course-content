{
  "nbformat": 4,
  "nbformat_minor": 0,
  "metadata": {
    "colab": {
      "name": "W0D0_Tutorial2",
      "provenance": [],
      "collapsed_sections": [],
      "toc_visible": true,
      "include_colab_link": true
    },
    "kernel": {
      "display_name": "Python 3",
      "language": "python",
      "name": "python3"
    },
    "kernelspec": {
      "name": "python3",
      "display_name": "Python 3"
    },
    "language_info": {
      "name": "python"
    }
  },
  "cells": [
    {
      "cell_type": "markdown",
      "metadata": {
        "id": "view-in-github",
        "colab_type": "text"
      },
      "source": [
        "<a href=\"https://colab.research.google.com/github/NeuromatchAcademy/course-content/blob/neuro_videos/tutorials/W0D0_NeuroVideoSeries/W0D0_Tutorial2.ipynb\" target=\"_parent\"><img src=\"https://colab.research.google.com/assets/colab-badge.svg\" alt=\"Open In Colab\"/></a>"
      ]
    },
    {
      "cell_type": "markdown",
      "metadata": {
        "pycharm": {
          "name": "#%% md\n"
        },
        "id": "G8UOinO66J1I"
      },
      "source": [
        "# Human Psychophysics\n",
        "**Neuro Video Series**\n",
        "\n",
        "**By Neuromatch Academy**\n",
        "\n",
        "**Content creator**: Jenny Read\n",
        "\n",
        "**Content reviewers**: Jiaxin Tu, Zahra Arjmandi, Tara van Viegen\n",
        "\n",
        "**Video editors, captioners, and translators**: Manisha Sinha, Shuze Liu"
      ]
    },
    {
      "cell_type": "markdown",
      "metadata": {
        "pycharm": {
          "name": "#%% md\n"
        },
        "id": "dT1Z_nXv6J1J"
      },
      "source": [
        "## Video"
      ]
    },
    {
      "cell_type": "code",
      "metadata": {
        "cellView": "form",
        "execution": {
          "iopub.execute_input": "2021-06-25T06:38:42.122748Z",
          "iopub.status.busy": "2021-06-25T06:38:42.122211Z",
          "iopub.status.idle": "2021-06-25T06:38:42.239475Z",
          "shell.execute_reply": "2021-06-25T06:38:42.239940Z"
        },
        "pycharm": {
          "name": "#%%\n"
        },
        "id": "XC1GGGIM6J1K"
      },
      "source": [
        "# @markdown\n",
        "from ipywidgets import widgets\n",
        "\n",
        "out2 = widgets.Output()\n",
        "with out2:\n",
        "  from IPython.display import IFrame\n",
        "  class BiliVideo(IFrame):\n",
        "      def __init__(self, id, page=1, width=400, height=300, **kwargs):\n",
        "          self.id=id\n",
        "          src = \"https://player.bilibili.com/player.html?bvid={0}&page={1}\".format(id, page)\n",
        "          super(BiliVideo, self).__init__(src, width, height, **kwargs)\n",
        "\n",
        "  video = BiliVideo(id=\"BV1Wg41137Cv\", width=854, height=480, fs=1)\n",
        "  print(\"Video available at https://www.bilibili.com/video/{0}\".format(video.id))\n",
        "  display(video)\n",
        "\n",
        "out1 = widgets.Output()\n",
        "with out1:\n",
        "  from IPython.display import YouTubeVideo\n",
        "  video = YouTubeVideo(id=\"F8gTfydUFjc\", width=854, height=480, fs=1, rel=0)\n",
        "  print(\"Video available at https://youtube.com/watch?v=\" + video.id)\n",
        "  display(video)\n",
        "\n",
        "out = widgets.Tab([out1, out2])\n",
        "out.set_title(0, 'Youtube')\n",
        "out.set_title(1, 'Bilibili')\n",
        "\n",
        "display(out)"
      ],
      "execution_count": null,
      "outputs": []
    },
    {
      "cell_type": "markdown",
      "metadata": {
        "id": "dVYU1stx6J1K"
      },
      "source": [
        "## Slides"
      ]
    },
    {
      "cell_type": "code",
      "metadata": {
        "cellView": "form",
        "execution": {
          "iopub.execute_input": "2021-06-25T06:38:42.251273Z",
          "iopub.status.busy": "2021-06-25T06:38:42.250198Z",
          "iopub.status.idle": "2021-06-25T06:38:42.252983Z",
          "shell.execute_reply": "2021-06-25T06:38:42.252573Z"
        },
        "pycharm": {
          "name": "#%%\n"
        },
        "id": "E5IrwbPA6J1L"
      },
      "source": [
        "# @markdown\n",
        "from IPython.display import IFrame\n",
        "url = \"https://mfr.ca-1.osf.io/render?url=https://osf.io/qb9dg/?direct%26mode=render%26action=download%26mode=render\"\n",
        "IFrame(src=url, width=854, height=480)"
      ],
      "execution_count": null,
      "outputs": []
    }
  ]
}