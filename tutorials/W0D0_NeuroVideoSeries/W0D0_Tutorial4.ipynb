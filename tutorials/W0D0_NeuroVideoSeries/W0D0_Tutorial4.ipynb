{
 "nbformat": 4,
 "nbformat_minor": 0,
 "metadata": {
  "colab": {
   "name": "W0D0_Tutorial1",
   "provenance": [],
   "collapsed_sections": [],
   "toc_visible": true,
   "include_colab_link": true
  },
  "kernel": {
   "display_name": "Python 3",
   "language": "python",
   "name": "python3"
  },
  "kernelspec": {
   "display_name": "Python 2",
   "language": "python",
   "name": "python2"
  },
  "language_info": {
   "codemirror_mode": {
    "name": "ipython",
    "version": 2
   },
   "file_extension": ".py",
   "mimetype": "text/x-python",
   "name": "python",
   "nbconvert_exporter": "python",
   "pygments_lexer": "ipython2",
   "version": "2.7.6"
  }
 },
 "cells": [
  {
   "cell_type": "markdown",
   "metadata": {
    "id": "view-in-github",
    "colab_type": "text"
   },
   "source": [
    "<a href=\"https://colab.research.google.com/github/NeuromatchAcademy/course-content/blob/neuro_video_series/tutorials/W0D0_NeuroVideoSeries/W0D0_Tutorial4.ipynb\" target=\"_parent\"><img src=\"https://colab.research.google.com/assets/colab-badge.svg\" alt=\"Open In Colab\"/></a>"
   ]
  },
  {
   "cell_type": "markdown",
   "metadata": {
    "pycharm": {
     "name": "#%% md\n"
    },
    "id": "stoYMeCsUtZs"
   },
   "source": [
    "# Live in Lab\n",
    "**Neuro Video Series**\n",
    "\n",
    "**By Neuromatch Academy**\n",
    "\n",
    "**Content creator**:\n",
    "\n",
    "**Content reviewers**:\n",
    "\n",
    "**Video editors, captioners, and translators**:"
   ]
  },
  {
   "cell_type": "markdown",
   "metadata": {
    "pycharm": {
     "name": "#%% md\n"
    },
    "id": "PsWXCzn_UtZs"
   },
   "source": [
    "## Video"
   ]
  },
  {
   "cell_type": "code",
   "metadata": {
    "cellView": "form",
    "pycharm": {
     "name": "#%%\n"
    },
    "id": "RVcpgrTdUtZt"
   },
   "source": [
    "# @markdown\n",
    "from ipywidgets import widgets\n",
    "\n",
    "out2 = widgets.Output()\n",
    "with out2:\n",
    "  from IPython.display import IFrame\n",
    "  class BiliVideo(IFrame):\n",
    "      def __init__(self, id, page=1, width=400, height=300, **kwargs):\n",
    "          self.id=id\n",
    "          src = \"https://player.bilibili.com/player.html?bvid={0}&page={1}\".format(id, page)\n",
    "          super(BiliVideo, self).__init__(src, width, height, **kwargs)\n",
    "\n",
    "  video = BiliVideo(id=\"V1fU4y1G7jX\", width=854, height=480, fs=1)\n",
    "  print(\"Video available at https://www.bilibili.com/video/{0}\".format(video.id))\n",
    "  display(video)\n",
    "\n",
    "out1 = widgets.Output()\n",
    "with out1:\n",
    "  from IPython.display import YouTubeVideo\n",
    "  video = YouTubeVideo(id=\"1DsxzkaLTOQ\", width=854, height=480, fs=1, rel=0)\n",
    "  print(\"Video available at https://youtube.com/watch?v=\" + video.id)\n",
    "  display(video)\n",
    "\n",
    "out = widgets.Tab([out1, out2])\n",
    "out.set_title(0, 'Youtube')\n",
    "out.set_title(1, 'Bilibili')\n",
    "\n",
    "display(out)"
   ],
   "execution_count": null,
   "outputs": []
  },
  {
   "cell_type": "markdown",
   "metadata": {
    "id": "xMrnO24wUtZt"
   },
   "source": [
    "## Slides"
   ]
  },
  {
   "cell_type": "code",
   "metadata": {
    "pycharm": {
     "name": "#%%\n"
    },
    "cellView": "form",
    "id": "j85rPKDOUtZu"
   },
   "source": [
    "# @markdown\n",
    "from IPython.display import IFrame\n",
    "url = \"https://mfr.ca-1.osf.io/render?url=https://osf.io/te6v5/?direct%26mode=render%26action=download%26mode=render\"\n",
    "IFrame(src=url, width=854, height=480)\n",
    "\n"
   ],
   "execution_count": null,
   "outputs": []
  }
 ]
}