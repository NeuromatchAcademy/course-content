{
  "nbformat": 4,
  "nbformat_minor": 0,
  "metadata": {
    "colab": {
      "name": "W0D0_Tutorial5",
      "provenance": [],
      "collapsed_sections": [],
      "toc_visible": true,
      "include_colab_link": true
    },
    "kernel": {
      "display_name": "Python 3",
      "language": "python",
      "name": "python3"
    },
    "kernelspec": {
      "name": "python3",
      "display_name": "Python 3"
    },
    "language_info": {
      "name": "python"
    }
  },
  "cells": [
    {
      "cell_type": "markdown",
      "metadata": {
        "id": "view-in-github",
        "colab_type": "text"
      },
      "source": [
        "<a href=\"https://colab.research.google.com/github/NeuromatchAcademy/course-content/blob/neuro_videos/tutorials/W0D0_NeuroVideoSeries/W0D0_Tutorial5.ipynb\" target=\"_parent\"><img src=\"https://colab.research.google.com/assets/colab-badge.svg\" alt=\"Open In Colab\"/></a>"
      ]
    },
    {
      "cell_type": "markdown",
      "metadata": {
        "pycharm": {
          "name": "#%% md\n"
        },
        "id": "FoaeBIb16hsP"
      },
      "source": [
        "# Brain Signals: Spiking Activity\n",
        "\n",
        "**Neuro Video Series**\n",
        "\n",
        "**By Neuromatch Academy**\n",
        "\n",
        "**Content creators**: \n",
        "\n",
        "**Content reviewers**: \n",
        "\n",
        "**Video editors, captioners, and translators**: "
      ]
    },
    {
      "cell_type": "markdown",
      "metadata": {
        "pycharm": {
          "name": "#%% md\n"
        },
        "id": "UB-xzmBC6hsS"
      },
      "source": [
        "## Video"
      ]
    },
    {
      "cell_type": "markdown",
      "metadata": {
        "id": "1B96Gp2x6hsS"
      },
      "source": [
        "# Coming soon!"
      ]
    }
  ]
}