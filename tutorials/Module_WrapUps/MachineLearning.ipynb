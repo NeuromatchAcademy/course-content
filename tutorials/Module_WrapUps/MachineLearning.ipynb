{
  "nbformat": 4,
  "nbformat_minor": 0,
  "metadata": {
    "colab": {
      "name": "MachineLearning",
      "provenance": [],
      "collapsed_sections": [],
      "toc_visible": true,
      "include_colab_link": true
    },
    "kernel": {
      "display_name": "Python 3",
      "language": "python",
      "name": "python3"
    },
    "kernelspec": {
      "display_name": "Python 3",
      "language": "python",
      "name": "python3"
    },
    "language_info": {
      "codemirror_mode": {
        "name": "ipython",
        "version": 3
      },
      "file_extension": ".py",
      "mimetype": "text/x-python",
      "name": "python",
      "nbconvert_exporter": "python",
      "pygments_lexer": "ipython3",
      "version": "3.7.10"
    }
  },
  "cells": [
    {
      "cell_type": "markdown",
      "metadata": {
        "id": "view-in-github",
        "colab_type": "text"
      },
      "source": [
        "<a href=\"https://colab.research.google.com/github/NeuromatchAcademy/course-content/blob/jb_changes/tutorials/Module_WrapUps/MachineLearning.ipynb\" target=\"_parent\"><img src=\"https://colab.research.google.com/assets/colab-badge.svg\" alt=\"Open In Colab\"/></a>"
      ]
    },
    {
      "cell_type": "markdown",
      "metadata": {
        "pycharm": {
          "name": "#%% md\n"
        },
        "id": "SmCz_VeVDUyQ"
      },
      "source": [
        "# Machine Learning Wrap-Up\n"
      ]
    },
    {
      "cell_type": "markdown",
      "metadata": {
        "id": "tiftN4PeDUyS"
      },
      "source": [
        "**Our 2021 Sponsors, including Presenting Sponsor Facebook Reality Labs**\n",
        "\n",
        "<p align='center'><img src='https://github.com/NeuromatchAcademy/widgets/blob/master/sponsors.png?raw=True'/></p>"
      ]
    },
    {
      "cell_type": "markdown",
      "metadata": {
        "id": "MWpDZPfGFzU9"
      },
      "source": [
        "# Podcast Panel Discussion\n",
        "\n",
        "Neuromatch Academy has collaborated with Paul Middlebrooks of the podcast Brain Inspired to host a series of panel discussions on the content modules. \n",
        "\n",
        "This first session covers the Machine Learning module, featuring panelists [Athena Akrami](https://www.athenaakrami.org/), [Demba Ba](https://brain.harvard.edu/?people=demba-ba), [Gunnar Blohm](http://www.compneurosci.com/people.html), and [Kunlin Wei](https://www.psy.pku.edu.cn/english/people/faculty/professor/kunlinwei/index.htm). \n",
        "\n",
        "Listen [here](https://braininspired.co/podcast/nma-1/) or in the embedded audio below!"
      ]
    },
    {
      "cell_type": "code",
      "metadata": {
        "colab": {
          "base_uri": "https://localhost:8080/",
          "height": 170
        },
        "cellView": "form",
        "id": "xm6bRTyYDkBT",
        "outputId": "a4196099-11bc-4f87-c306-258c0a54a404"
      },
      "source": [
        "# @markdown \n",
        "from IPython.display import IFrame\n",
        "\n",
        "IFrame(src = 'https://braininspired.castos.com/player/560014', width = '100%', height = '150')"
      ],
      "execution_count": 5,
      "outputs": [
        {
          "output_type": "execute_result",
          "data": {
            "text/html": [
              "\n",
              "        <iframe\n",
              "            width=\"100%\"\n",
              "            height=\"150\"\n",
              "            src=\"https://braininspired.castos.com/player/560014\"\n",
              "            frameborder=\"0\"\n",
              "            allowfullscreen\n",
              "        ></iframe>\n",
              "        "
            ],
            "text/plain": [
              "<IPython.lib.display.IFrame at 0x7f5a6ffa4890>"
            ]
          },
          "metadata": {
            "tags": []
          },
          "execution_count": 5
        }
      ]
    }
  ]
}