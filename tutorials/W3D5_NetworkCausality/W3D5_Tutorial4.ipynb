{
 "cells": [
  {
   "cell_type": "markdown",
   "metadata": {
    "colab_type": "text",
    "id": "view-in-github"
   },
   "source": [
    "<a href=\"https://colab.research.google.com/github/NeuromatchAcademy/course-content/blob/master/tutorials/W3D3_NetworkCausality/W3D3_Tutorial4.ipynb\" target=\"_parent\"><img src=\"https://colab.research.google.com/assets/colab-badge.svg\" alt=\"Open In Colab\"/></a>"
   ]
  },
  {
   "cell_type": "markdown",
   "metadata": {
    "colab_type": "text"
   },
   "source": [
    "# Neuromatch Academy 2020 -- Week 3 Day 3, Tutorial 4\n",
    "\n",
    "# Causality Day: Instrumental Variables\n",
    "\n",
    "**Content creators**: Ari Benjamin, Tony Liu, Konrad Kording\n",
    "\n",
    "**Content reviewers**: Mike X Cohen, Madineh Sarvestani, Ella Batty, Michael Waskom"
   ]
  },
  {
   "cell_type": "markdown",
   "metadata": {
    "colab_type": "text"
   },
   "source": [
    "---\n",
    "# Tutorial objectives\n",
    "\n",
    "This is our final tutorial on our day of examining causality. Below is the high level outline of what we've covered today, with the sections we will focus on in this notebook in bold:\n",
    "\n",
    "1.   Master definitions of causality\n",
    "2.   Understand that estimating causality is possible\n",
    "3.   Learn 4 different methods and understand when they fail\n",
    "    1. perturbations\n",
    "    2. correlations\n",
    "    3. simultaneous fitting/regression\n",
    "    4. **instrumental variables**\n",
    "\n",
    "### Notebook 4 Objectives\n",
    "\n",
    "In tutorial 3 we saw that even more sophisticated techniques such as simultaneous fitting fail to capture causality in the presence of omitted variable bias. So what techniques are there for us to obtain valid causal measurements when we can't perturb the system? Here we will:\n",
    "\n",
    "- learn about **instrumental variables,** a method that does not require experimental data for valid causal analysis\n",
    "- explore benefits of instrumental variable analysis and limitations\n",
    "    - addresses **omitted variable bias** seen in regression\n",
    "    - less efficient in terms of sample size than other techniques\n",
    "    - requires a particular form of randomness in the system in order for causal effects to be identified"
   ]
  },
  {
   "cell_type": "markdown",
   "metadata": {
    "colab_type": "text"
   },
   "source": [
    "---\n",
    "# Setup"
   ]
  },
  {
   "cell_type": "code",
   "execution_count": null,
   "metadata": {
    "cellView": "both",
    "colab": {},
    "colab_type": "code"
   },
   "outputs": [],
   "source": [
    "import numpy as np\n",
    "import matplotlib.pyplot as plt\n",
    "from mpl_toolkits.axes_grid1 import make_axes_locatable\n",
    "\n",
    "from sklearn.multioutput import MultiOutputRegressor\n",
    "from sklearn.linear_model import LinearRegression, Lasso"
   ]
  },
  {
   "cell_type": "code",
   "execution_count": null,
   "metadata": {
    "cellView": "form",
    "colab": {},
    "colab_type": "code"
   },
   "outputs": [],
   "source": [
    "#@title Figure settings\n",
    "import ipywidgets as widgets       # interactive display\n",
    "%config InlineBackend.figure_format = 'retina'\n",
    "plt.style.use(\"https://raw.githubusercontent.com/NeuromatchAcademy/course-content/master/nma.mplstyle\")"
   ]
  },
  {
   "cell_type": "code",
   "execution_count": null,
   "metadata": {
    "cellView": "form",
    "colab": {},
    "colab_type": "code"
   },
   "outputs": [],
   "source": [
    "# @title Helper functions\n",
    "\n",
    "\n",
    "def sigmoid(x):\n",
    "    \"\"\"\n",
    "    Compute sigmoid nonlinearity element-wise on x.\n",
    "\n",
    "    Args:\n",
    "        x (np.ndarray): the numpy data array we want to transform\n",
    "    Returns\n",
    "        (np.ndarray): x with sigmoid nonlinearity applied\n",
    "    \"\"\"\n",
    "    return 1 / (1 + np.exp(-x))\n",
    "\n",
    "\n",
    "def logit(x):\n",
    "    \"\"\"\n",
    "\n",
    "    Applies the logit (inverse sigmoid) transformation\n",
    "\n",
    "    Args:\n",
    "        x (np.ndarray): the numpy data array we want to transform\n",
    "    Returns\n",
    "        (np.ndarray): x with logit nonlinearity applied\n",
    "    \"\"\"\n",
    "    return np.log(x/(1-x))\n",
    "\n",
    "\n",
    "def create_connectivity(n_neurons, random_state=42, p=0.9):\n",
    "    \"\"\"\n",
    "    Generate our nxn causal connectivity matrix.\n",
    "\n",
    "    Args:\n",
    "        n_neurons (int): the number of neurons in our system.\n",
    "        random_state (int): random seed for reproducibility\n",
    "\n",
    "    Returns:\n",
    "        A (np.ndarray): our 0.1 sparse connectivity matrix\n",
    "    \"\"\"\n",
    "    np.random.seed(random_state)\n",
    "    A_0 = np.random.choice([0, 1], size=(n_neurons, n_neurons), p=[p, 1 - p])\n",
    "\n",
    "    # set the timescale of the dynamical system to about 100 steps\n",
    "    _, s_vals, _ = np.linalg.svd(A_0)\n",
    "    A = A_0 / (1.01 * s_vals[0])\n",
    "\n",
    "    # _, s_val_test, _ = np.linalg.svd(A)\n",
    "    # assert s_val_test[0] < 1, \"largest singular value >= 1\"\n",
    "\n",
    "    return A\n",
    "\n",
    "\n",
    "def see_neurons(A, ax):\n",
    "    \"\"\"\n",
    "    Visualizes the connectivity matrix.\n",
    "\n",
    "    Args:\n",
    "        A (np.ndarray): the connectivity matrix of shape (n_neurons, n_neurons)\n",
    "        ax (plt.axis): the matplotlib axis to display on\n",
    "\n",
    "    Returns:\n",
    "        Nothing, but visualizes A.\n",
    "    \"\"\"\n",
    "    A = A.T  # make up for opposite connectivity\n",
    "    n = len(A)\n",
    "    ax.set_aspect('equal')\n",
    "    thetas = np.linspace(0, np.pi * 2, n,endpoint=False)\n",
    "    x, y = np.cos(thetas), np.sin(thetas),\n",
    "    ax.scatter(x, y, c='k',s=150)\n",
    "    A = A / A.max()\n",
    "    for i in range(n):\n",
    "        for j in range(n):\n",
    "            if A[i, j] > 0:\n",
    "                ax.arrow(x[i], y[i], x[j] - x[i], y[j] - y[i], color='k', alpha=A[i, j], head_width=.15,\n",
    "                        width = A[i,j] / 25, shape='right', length_includes_head=True)\n",
    "    ax.axis('off')\n",
    "\n",
    "\n",
    "def simulate_neurons(A, timesteps, random_state=42):\n",
    "    \"\"\"\n",
    "    Simulates a dynamical system for the specified number of neurons and timesteps.\n",
    "\n",
    "    Args:\n",
    "        A (np.array): the connectivity matrix\n",
    "        timesteps (int): the number of timesteps to simulate our system.\n",
    "        random_state (int): random seed for reproducibility\n",
    "\n",
    "    Returns:\n",
    "        - X has shape (n_neurons, timeteps).\n",
    "    \"\"\"\n",
    "    np.random.seed(random_state)\n",
    "\n",
    "    n_neurons = len(A)\n",
    "    X = np.zeros((n_neurons, timesteps))\n",
    "\n",
    "    for t in range(timesteps - 1):\n",
    "        # solution\n",
    "        epsilon = np.random.multivariate_normal(np.zeros(n_neurons), np.eye(n_neurons))\n",
    "        X[:, t + 1] = sigmoid(A.dot(X[:, t]) + epsilon)\n",
    "\n",
    "        assert epsilon.shape == (n_neurons,)\n",
    "    return X\n",
    "\n",
    "\n",
    "def correlation_for_all_neurons(X):\n",
    "  \"\"\"Computes the connectivity matrix for the all neurons using correlations\n",
    "\n",
    "    Args:\n",
    "        X: the matrix of activities\n",
    "\n",
    "    Returns:\n",
    "        estimated_connectivity (np.ndarray): estimated connectivity for the selected neuron, of shape (n_neurons,)\n",
    "  \"\"\"\n",
    "  n_neurons = len(X)\n",
    "  S = np.concatenate([X[:, 1:], X[:, :-1]], axis=0)\n",
    "  R = np.corrcoef(S)[:n_neurons, n_neurons:]\n",
    "  return R\n",
    "\n",
    "\n",
    "def get_sys_corr(n_neurons, timesteps, random_state=42, neuron_idx=None):\n",
    "    \"\"\"\n",
    "    A wrapper function for our correlation calculations between A and R.\n",
    "\n",
    "    Args:\n",
    "        n_neurons (int): the number of neurons in our system.\n",
    "        timesteps (int): the number of timesteps to simulate our system.\n",
    "        random_state (int): seed for reproducibility\n",
    "        neuron_idx (int): optionally provide a neuron idx to slice out\n",
    "\n",
    "    Returns:\n",
    "        A single float correlation value representing the similarity between A and R\n",
    "    \"\"\"\n",
    "\n",
    "    A = create_connectivity(n_neurons, random_state)\n",
    "    X = simulate_neurons(A, timesteps)\n",
    "\n",
    "    R = correlation_for_all_neurons(X)\n",
    "\n",
    "    return np.corrcoef(A.flatten(), R.flatten())[0, 1]\n",
    "\n",
    "\n",
    "def print_corr(v1, v2, corrs, idx_dict):\n",
    "    \"\"\"Helper function for formatting print statements for correlations\"\"\"\n",
    "    text_dict = {'Z':'taxes', 'T':'# cigarettes', 'C':'SES status', 'Y':'birth weight'}\n",
    "    print(\"Correlation between {} and {} ({} and {}): {:.3f}\".format(v1, v2, text_dict[v1], text_dict[v2], corrs[idx_dict[v1], idx_dict[v2]]))\n",
    "\n",
    "\n",
    "def get_regression_estimate(X, neuron_idx=None):\n",
    "    \"\"\"\n",
    "    Estimates the connectivity matrix using lasso regression.\n",
    "\n",
    "    Args:\n",
    "        X (np.ndarray): our simulated system of shape (n_neurons, timesteps)\n",
    "        neuron_idx (int): optionally provide a neuron idx to compute connectivity for\n",
    "    Returns:\n",
    "        V (np.ndarray): estimated connectivity matrix of shape (n_neurons, n_neurons).\n",
    "                        if neuron_idx is specified, V is of shape (n_neurons,).\n",
    "    \"\"\"\n",
    "    n_neurons = X.shape[0]\n",
    "\n",
    "    # Extract Y and W as defined above\n",
    "    W = X[:, :-1].transpose()\n",
    "    if neuron_idx is None:\n",
    "        Y = X[:, 1:].transpose()\n",
    "    else:\n",
    "        Y = X[[neuron_idx], 1:].transpose()\n",
    "\n",
    "    # apply inverse sigmoid transformation\n",
    "    Y = logit(Y)\n",
    "\n",
    "    # fit multioutput regression\n",
    "    regression = MultiOutputRegressor(Lasso(fit_intercept=False, alpha=0.01), n_jobs=-1)\n",
    "\n",
    "    regression.fit(W,Y)\n",
    "\n",
    "    if neuron_idx is None:\n",
    "        V = np.zeros((n_neurons, n_neurons))\n",
    "        for i, estimator in enumerate(regression.estimators_):\n",
    "            V[i, :] = estimator.coef_\n",
    "    else:\n",
    "        V = regression.estimators_[0].coef_\n",
    "\n",
    "    return V\n",
    "\n",
    "\n",
    "def get_regression_corr(n_neurons, timesteps, random_state, observed_ratio, regression_args, neuron_idx=None):\n",
    "    \"\"\"\n",
    "    A wrapper function for our correlation calculations between A and the V estimated\n",
    "    from regression.\n",
    "\n",
    "    Args:\n",
    "        n_neurons (int): the number of neurons in our system.\n",
    "        timesteps (int): the number of timesteps to simulate our system.\n",
    "        random_state (int): seed for reproducibility\n",
    "        observed_ratio (float): the proportion of n_neurons observed, must be betweem 0 and 1.\n",
    "        regression_args (dict): dictionary of lasso regression arguments and hyperparameters\n",
    "        neuron_idx (int): optionally provide a neuron idx to compute connectivity for\n",
    "\n",
    "    Returns:\n",
    "        A single float correlation value representing the similarity between A and R\n",
    "    \"\"\"\n",
    "    assert (observed_ratio > 0) and (observed_ratio <= 1)\n",
    "\n",
    "    A = create_connectivity(n_neurons, random_state)\n",
    "    X = simulate_neurons(A, timesteps)\n",
    "\n",
    "    sel_idx = np.clip(int(n_neurons*observed_ratio), 1, n_neurons)\n",
    "\n",
    "    sel_X = X[:sel_idx, :]\n",
    "    sel_A = A[:sel_idx, :sel_idx]\n",
    "\n",
    "    sel_V = get_regression_estimate(sel_X, neuron_idx=neuron_idx)\n",
    "    if neuron_idx is None:\n",
    "        return np.corrcoef(sel_A.flatten(), sel_V.flatten())[1, 0]\n",
    "    else:\n",
    "        return np.corrcoef(sel_A[neuron_idx, :], sel_V)[1, 0]\n",
    "\n",
    "\n",
    "def compare_iv_estimate_to_regression(observed_ratio):\n",
    "  \"\"\"\n",
    "  A wrapper function to compare IV and Regressor performance as a function of observed neurons\n",
    "\n",
    "  Args:\n",
    "        observed_ratio(list): a list of different observed ratios (out of the whole system)\n",
    "  \"\"\"\n",
    "\n",
    "  #Let's compare IV estimates to our regression estimates, uncomment the code below\n",
    "\n",
    "  reg_corrs = np.zeros((len(observed_ratio),))\n",
    "  iv_corrs = np.zeros((len(observed_ratio),))\n",
    "  for j, ratio in enumerate(observed_ratio):\n",
    "      print(ratio)\n",
    "      sel_idx = int(ratio * n_neurons)\n",
    "\n",
    "      sel_X = X[:sel_idx, :]\n",
    "      sel_Z = X[:sel_idx, :]\n",
    "      sel_A = A[:sel_idx, :sel_idx]\n",
    "\n",
    "      sel_reg_V = get_regression_estimate(sel_X)\n",
    "      reg_corrs[j] = np.corrcoef(sel_A.flatten(), sel_reg_V.flatten())[1, 0]\n",
    "\n",
    "      sel_iv_V = get_iv_estimate_network(sel_X, sel_Z)\n",
    "      iv_corrs[j] = np.corrcoef(sel_A.flatten(), sel_iv_V.flatten())[1, 0]\n",
    "\n",
    "  # Plotting IV vs lasso performance\n",
    "  plt.plot(observed_ratio, reg_corrs)\n",
    "  plt.plot(observed_ratio, iv_corrs)\n",
    "  plt.xlim([1, 0.2])\n",
    "  plt.ylabel(\"Connectivity matrices correlation with truth\")\n",
    "  plt.xlabel(\"Fraction of observed variables\")\n",
    "  plt.title(\"IV and lasso performance as a function of observed neuron ratio\")\n",
    "  plt.legend(['Regression', 'IV'])\n",
    "\n",
    "def plot_neural_activity(X):\n",
    "  \"\"\"Plot first 10 timesteps of neural activity\n",
    "\n",
    "  Args:\n",
    "    X (ndarray): neural activity (n_neurons by timesteps)\n",
    "\n",
    "  \"\"\"\n",
    "  f, ax = plt.subplots()\n",
    "  im = ax.imshow(X[:, :10], aspect='auto')\n",
    "  divider = make_axes_locatable(ax)\n",
    "  cax1 = divider.append_axes(\"right\", size=\"5%\", pad=0.15)\n",
    "  plt.colorbar(im, cax=cax1)\n",
    "  ax.set(xlabel='Timestep', ylabel='Neuron', title='Simulated Neural Activity')\n",
    "\n",
    "\n",
    "def compare_granger_connectivity(A, reject_null, selected_neuron):\n",
    "  \"\"\"Plot granger connectivity vs true\n",
    "\n",
    "  Args:\n",
    "    A (ndarray): true connectivity (n_neurons by n_neurons)\n",
    "    reject_null (list): outcome of granger causality, length n_neurons\n",
    "    selecte_neuron (int): the neuron we are plotting connectivity from\n",
    "\n",
    "  \"\"\"\n",
    "  fig, axs = plt.subplots(1, 2, figsize=(10, 5))\n",
    "\n",
    "  im = axs[0].imshow(A[:, [selected_neuron]], cmap='coolwarm', aspect='auto')\n",
    "  plt.colorbar(im, ax = axs[0])\n",
    "  axs[0].set_xticks([0])\n",
    "  axs[0].set_xticklabels([selected_neuron])\n",
    "  axs[0].title.set_text(\"True connectivity for neuron {}\".format(selected_neuron))\n",
    "\n",
    "  im = axs[1].imshow(np.array([reject_null]).transpose(), cmap='coolwarm', aspect='auto')\n",
    "  plt.colorbar(im, ax=axs[1])\n",
    "  axs[1].set_xticks([0])\n",
    "  axs[1].set_xticklabels([selected_neuron])\n",
    "  axs[1].title.set_text(\"Granger causality connectivity for neuron {}\".format(selected_neuron))\n",
    "\n",
    "\n",
    "def plot_performance_vs_eta(etas, corr_data):\n",
    "  \"\"\" Plot IV estimation performance as a function of instrument strength\n",
    "\n",
    "    Args:\n",
    "      etas (list): list of instrument strengths\n",
    "      corr_data (ndarray): n_trials x len(etas) array where each element is the correlation\n",
    "        between true and estimated connectivity matries for that trial and\n",
    "        instrument strength\n",
    "\n",
    "  \"\"\"\n",
    "  corr_mean = corr_data.mean(axis=0)\n",
    "  corr_std = corr_data.std(axis=0)\n",
    "\n",
    "  plt.plot(etas, corr_mean)\n",
    "  plt.fill_between(etas,\n",
    "              corr_mean - corr_std,\n",
    "              corr_mean + corr_std,\n",
    "              alpha=.2)\n",
    "  plt.xlim([etas[0], etas[-1]])\n",
    "  plt.title(\"IV performance as a function of instrument strength\")\n",
    "  plt.ylabel(\"Correlation b.t. IV and true connectivity\")\n",
    "  plt.xlabel(\"Strength of instrument (eta)\")\n",
    "  plt.show()"
   ]
  },
  {
   "cell_type": "markdown",
   "metadata": {
    "colab_type": "text"
   },
   "source": [
    "---\n",
    "# Section 1: Instrumental Variables"
   ]
  },
  {
   "cell_type": "code",
   "execution_count": null,
   "metadata": {
    "cellView": "form",
    "colab": {
     "base_uri": "https://localhost:8080/",
     "height": 517
    },
    "colab_type": "code",
    "outputId": "61f30e56-ae7d-452b-8877-3bca7bef5f88"
   },
   "outputs": [],
   "source": [
    "#@title Video 1: Instrumental Variables\n",
    "# Insert the ID of the corresponding youtube video\n",
    "from IPython.display import YouTubeVideo\n",
    "video = YouTubeVideo(id=\"0gkav6BS4-w\", width=854, height=480, fs=1)\n",
    "print(\"Video available at https://youtu.be/\" + video.id)\n",
    "video"
   ]
  },
  {
   "cell_type": "markdown",
   "metadata": {
    "colab_type": "text"
   },
   "source": [
    "If there is randomness naturally occurring in the system *that we can observe*, this in effect becomes the perturbations we can use to recover causal effects. This is called an **instrumental variable**. At high level, an instrumental variable must\n",
    "\n",
    "\n",
    "1.   be observable\n",
    "2.   effect a covariate you care about\n",
    "3.   **not** effect the outcome, except through the covariate\n",
    "\n",
    "\n",
    "It's rare to find these things in the wild, but when you do it's very powerful. \n",
    "\n",
    "\n",
    "\n",
    "\n"
   ]
  },
  {
   "cell_type": "markdown",
   "metadata": {
    "colab_type": "text"
   },
   "source": [
    "![image.png](data:image/png;base64,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)\n"
   ]
  },
  {
   "cell_type": "markdown",
   "metadata": {
    "colab_type": "text"
   },
   "source": [
    "## Section 1.1: A non-neuro example of an IV\n",
    "A classic example is estimating the effect of smoking cigarettes while pregnant on the birth weight of the infant. There is a (negative) correlation, but is it causal? Unfortunately many confounds affect both birth weight and smoking. Wealth is a big one.\n",
    "\n",
    "Instead of controlling for everything imaginable, one can find an IV. Here the instrumental variable is **state taxes on tobacco**. These\n",
    "\n",
    "\n",
    "1.   Are observable\n",
    "2.   Affect tobacco consumption\n",
    "3.   Don't affect birth weight except through tobacco\n",
    "\n",
    "By using the power of IV techniques, you can determine the causal effect without exhaustively controlling for everything.\n"
   ]
  },
  {
   "cell_type": "markdown",
   "metadata": {
    "colab_type": "text"
   },
   "source": [
    "Let's represent our tobacco example above with the following notation:\n",
    "\n",
    "- $Z_{\\text{taxes}}$: our tobacco tax **instrument**, which only affects an individual's tendency to smoke while pregnant within our system\n",
    "- $T_{\\text{smoking}}$: number of cigarettes smoked per day while pregnant, our \"treatment\" if this were a randomized trial\n",
    "- $C_{\\text{SES}}$: socioeconomic status (higher means weathier), a **confounder** if it is not observed\n",
    "- $Y_{\\text{birthweight}}$: child birthweight in grams, our outcome of interest\n",
    "\n",
    "Let's suppose we have the following function for our system:\n",
    "\n",
    "$Y_{\\text{birthweight}} = 3000 + C_{\\text{SES}} - 2T_{\\text{smoking}},$\n",
    "\n",
    "with the additional fact that $C_{\\text{SES}}$ is negatively correlated with $T_{\\text{smoking}}$. \n",
    "\n",
    "The causal effect we wish to estimate is the coefficient $-2$ for $T_{\\text{smoking}}$, which means that if a mother smokes one additional cigarette per day while pregnant her baby will be 2 grams lighter at birth.\n",
    "\n",
    "We've provided a covariance matrix with the desired structure in the code cell below, so please run it to look at the correlations between our variables."
   ]
  },
  {
   "cell_type": "code",
   "execution_count": null,
   "metadata": {
    "cellView": "form",
    "colab": {
     "base_uri": "https://localhost:8080/",
     "height": 52
    },
    "colab_type": "code",
    "outputId": "278586d8-741d-4eef-9cd7-5faa6b543955"
   },
   "outputs": [],
   "source": [
    "#@markdown Execute this cell to see correlations with C\n",
    "# run this code below to generate our setup\n",
    "idx_dict = {\n",
    "    'Z': 0,\n",
    "    'T': 1,\n",
    "    'C': 2,\n",
    "    'Y': 3\n",
    "}\n",
    "# vars:             Z    T    C\n",
    "covar = np.array([[1.0, 0.5, 0.0],  # Z\n",
    "                  [0.5, 1.0, -0.5],  # T\n",
    "                  [0.0, -0.5, 1.0]])  # C\n",
    "# vars:  Z  T  C\n",
    "means = [0, 5, 2]\n",
    "\n",
    "# generate some data\n",
    "np.random.seed(42)\n",
    "data = np.random.multivariate_normal(mean=means, cov=2 * covar, size=2000)\n",
    "\n",
    "# generate Y from our equation above\n",
    "Y = 3000 + data[:, idx_dict['C']] - (2 * (data[:, idx_dict['T']]))\n",
    "\n",
    "data = np.concatenate([data, Y.reshape(-1, 1)], axis=1)\n",
    "\n",
    "Z = data[:, [idx_dict['Z']]]\n",
    "T = data[:, [idx_dict['T']]]\n",
    "C = data[:, [idx_dict['C']]]\n",
    "Y = data[:, [idx_dict['Y']]]\n",
    "\n",
    "corrs = np.corrcoef(data.transpose())\n",
    "\n",
    "print_corr('C', 'T', corrs, idx_dict)\n",
    "print_corr('C', 'Y', corrs, idx_dict)"
   ]
  },
  {
   "cell_type": "markdown",
   "metadata": {
    "colab_type": "text"
   },
   "source": [
    "We see what is exactly represented in our graph above: $C_{\\text{SES}}$ is correlated with both $T_{\\text{smoking}}$ and $Y_{\\text{birthweight}}$, so $C_{\\text{SES}}$ is a potential confounder if not included in our analysis. Let's say that it is difficult to observe and quantify $C_{\\text{SES}}$, so we do not have it available to regress against. This is another example of the **omitted variable bias** we saw in the last tutorial.\n",
    "\n",
    "What about $Z_{\\text{taxes}}$? Does it satisfy conditions 1, 2, and 3 of an instrument?"
   ]
  },
  {
   "cell_type": "code",
   "execution_count": null,
   "metadata": {
    "cellView": "form",
    "colab": {
     "base_uri": "https://localhost:8080/",
     "height": 87
    },
    "colab_type": "code",
    "outputId": "0eee211f-4d87-4ebc-d78a-0f53483a3b3d"
   },
   "outputs": [],
   "source": [
    "#@markdown Execute this cell to see correlations of Z\n",
    "print(\"Condition 2?\")\n",
    "print_corr('Z', 'T', corrs, idx_dict)\n",
    "print(\"Condition 3?\")\n",
    "print_corr('Z', 'C', corrs, idx_dict)"
   ]
  },
  {
   "cell_type": "markdown",
   "metadata": {
    "colab_type": "text"
   },
   "source": [
    "Perfect! We see that $Z_{\\text{taxes}}$ is correlated with $T_{\\text{smoking}}$ (#2) but is uncorrelated with $C_{\\text{SES}}$ (#3).  $Z_\\text{taxes}$ is also observable (#1), so we've satisfied our three criteria for an instrument:\n",
    "\n",
    "1.   $Z_\\text{taxes}$ is observable\n",
    "2.   $Z_\\text{taxes}$ affects $T_{\\text{smoking}}$\n",
    "3.   $Z_\\text{taxes}$ doesn't affect $Y_{\\text{birthweight}}$ except through $T_{\\text{smoking}}$ (ie $Z_\\text{taxes}$ doesn't affect or is affected by $C_\\text{SES}$)"
   ]
  },
  {
   "cell_type": "markdown",
   "metadata": {
    "colab_type": "text"
   },
   "source": [
    "## Section 1.2: How IV works, at high level\n",
    "\n",
    "The easiest way to imagine IV is that the instrument is **an observable source of \"randomness\"** that affects the treatment. In this way it's similar to the interventions we talked about in Tutorial 1.\n",
    "\n",
    "But how do you actually use the instrument? The key is that we need to extract **the component of the treatment that is due only to the effect of the instrument**. We will call this component $\\hat{T}$.\n",
    "$$\n",
    "\\hat{T}\\leftarrow \\text{The unconfounded component of }T\n",
    "$$\n",
    "Getting $\\hat{T}$ is fairly simple. It is simply the predicted value of $T$ found in a regression that has only the instrument $Z$ as input.\n",
    "\n",
    "Once we have the unconfounded component in hand, getting the causal effect is as easy as regressing the outcome on $\\hat{T}$."
   ]
  },
  {
   "cell_type": "markdown",
   "metadata": {
    "colab_type": "text"
   },
   "source": [
    "## Section 1.3: IV estimation using two-stage least squares\n",
    "\n",
    "The fundamental technique for instrumental variable estimation is **two-stage least squares**. \n",
    "\n",
    "We run two regressions:\n",
    "\n",
    "1. The first stage gets  $\\hat{T}_{\\text{smoking}}$ by regressing $T_{\\text{smoking}}$ on $Z_\\text{taxes}$, fitting the parameter $\\hat{\\alpha}$:\n",
    "\n",
    "$$\n",
    "\\hat{T}_{\\text{smoking}} = \\hat{\\alpha} Z_\\text{taxes}\n",
    "$$\n",
    "\n",
    "2. The second stage then regresses $Y_{\\text{birthweight}}$ on $\\hat{T}_{\\text{smoking}}$ to obtain an estimate $\\hat{\\beta}$ of the causal effect:\n",
    "\n",
    "$$\n",
    "\\hat{Y}_{\\text{birthweight}} = \\hat{\\beta} \\hat{T}_{\\text{smoking}} \n",
    "$$\n",
    "\n",
    "The first stage estimates the **unconfounded component** of $T_{\\text{smoking}}$ (ie, unaffected by the confounder $C_{\\text{SES}}$), as we discussed above. \n",
    "\n",
    "Then, the second stage uses this unconfounded component $\\hat{T}_{\\text{smoking}}$ to estimate the effect of smoking on $\\hat{Y}_{\\text{birthweight}}$. \n",
    "\n",
    "We will explore how all this works in the next two exercises.\n"
   ]
  },
  {
   "cell_type": "markdown",
   "metadata": {
    "colab_type": "text"
   },
   "source": [
    "### Section 1.3.1: Least squares regression stage 1"
   ]
  },
  {
   "cell_type": "code",
   "execution_count": null,
   "metadata": {
    "cellView": "form",
    "colab": {
     "base_uri": "https://localhost:8080/",
     "height": 517
    },
    "colab_type": "code",
    "outputId": "16c25233-6c85-4dd6-a148-f27cf8d25f10"
   },
   "outputs": [],
   "source": [
    "#@title Video 2: Stage 1\n",
    "# Insert the ID of the corresponding youtube video\n",
    "from IPython.display import YouTubeVideo\n",
    "video = YouTubeVideo(id=\"4WT0KrySRTg\", width=854, height=480, fs=1)\n",
    "print(\"Video available at https://youtu.be/\" + video.id)\n",
    "video"
   ]
  },
  {
   "cell_type": "markdown",
   "metadata": {
    "colab_type": "text"
   },
   "source": [
    "#### Exercise 1: Compute regression stage 1\n",
    "\n",
    "Let's run the regression of $T_{\\text{smoking}}$ on $Z_\\text{taxes}$ to compute $\\hat{T}_{\\text{smoking}}$. We will then check whether our estimate is still confounded with $C_{\\text{SES}}$ by comparing the correlation of $C_{\\text{SES}}$  with $T_{\\text{smoking}}$ vs $\\hat{T}_{\\text{smoking}}$.\n",
    "\n",
    "### Suggestions\n",
    "\n",
    "- use the `LinearRegression()` model, already imported from scikit-learn\n",
    "    - use `fit_intercept=True` as the only parameter setting\n",
    "- be sure to check the ordering of the parameters passed to `LinearRegression.fit()`"
   ]
  },
  {
   "cell_type": "code",
   "execution_count": null,
   "metadata": {
    "colab": {},
    "colab_type": "code"
   },
   "outputs": [],
   "source": [
    "def fit_first_stage(T, Z):\n",
    "    \"\"\"\n",
    "    Estimates T_hat as the first stage of a two-stage least squares.\n",
    "\n",
    "    Args:\n",
    "        T (np.ndarray): our observed, possibly confounded, treatment of shape (n, 1)\n",
    "        Z (np.ndarray): our observed instruments of shape (n, 1)\n",
    "\n",
    "    Returns\n",
    "        T_hat (np.ndarray): our estimate of the unconfounded portion of T\n",
    "    \"\"\"\n",
    "\n",
    "    ############################################################################\n",
    "    ## Insert your code here to fit the first stage of the 2-stage least squares\n",
    "    ## estimate.\n",
    "    ## Fill out function and remove\n",
    "    raise NotImplementedError('Please complete fit_first_stage function')\n",
    "    ############################################################################\n",
    "\n",
    "    # Initialize linear regression model\n",
    "    stage1 = LinearRegression(...)\n",
    "\n",
    "    # Fit linear regression model\n",
    "    stage1.fit(...)\n",
    "\n",
    "    # Predict T_hat using linear regression model\n",
    "    T_hat = stage1.predict(...)\n",
    "\n",
    "    return T_hat\n",
    "\n",
    "\n",
    "# Uncomment below to test your function\n",
    "# T_hat = fit_first_stage(T, Z)\n",
    "\n",
    "# T_C_corr = np.corrcoef(T.transpose(), C.transpose())[0, 1]\n",
    "# T_hat_C_corr = np.corrcoef(T_hat.transpose(), C.transpose())[0, 1]\n",
    "# print(\"Correlation between T and C: {:.3f}\".format(T_C_corr))\n",
    "# print(\"Correlation between T_hat and C: {:.3f}\".format(T_hat_C_corr))"
   ]
  },
  {
   "cell_type": "code",
   "execution_count": null,
   "metadata": {
    "colab": {
     "base_uri": "https://localhost:8080/",
     "height": 52
    },
    "colab_type": "code",
    "outputId": "209e0863-878f-4d19-f11f-33241a9f6919"
   },
   "outputs": [],
   "source": [
    "# to_remove solution\n",
    "def fit_first_stage(T, Z):\n",
    "    \"\"\"\n",
    "    Estimates T_hat as the first stage of a two-stage least squares.\n",
    "\n",
    "    Args:\n",
    "        T (np.ndarray): our observed, possibly confounded, treatment of shape (n, 1)\n",
    "        Z (np.ndarray): our observed instruments of shape (n, 1)\n",
    "\n",
    "    Returns\n",
    "        T_hat (np.ndarray): our estimate of the unconfounded portion of T\n",
    "    \"\"\"\n",
    "\n",
    "    # Initialize linear regression model\n",
    "    stage1 = LinearRegression(fit_intercept=True)\n",
    "\n",
    "    # Fit linear regression model\n",
    "    stage1.fit(Z, T)\n",
    "\n",
    "    # Predict T_hat using linear regression model\n",
    "    T_hat = stage1.predict(Z)\n",
    "\n",
    "    return T_hat\n",
    "\n",
    "\n",
    "# Uncomment below to test your function\n",
    "T_hat = fit_first_stage(T, Z)\n",
    "\n",
    "T_C_corr = np.corrcoef(T.transpose(), C.transpose())[0, 1]\n",
    "T_hat_C_corr = np.corrcoef(T_hat.transpose(), C.transpose())[0, 1]\n",
    "print(\"Correlation between T and C: {:.3f}\".format(T_C_corr))\n",
    "print(\"Correlation between T_hat and C: {:.3f}\".format(T_hat_C_corr))"
   ]
  },
  {
   "cell_type": "markdown",
   "metadata": {
    "colab_type": "text"
   },
   "source": [
    "You should see a correlation between $T$ and $C$ of `-0.483` and between $\\hat{T}$ and $C$ of `0.009`."
   ]
  },
  {
   "cell_type": "markdown",
   "metadata": {
    "colab_type": "text"
   },
   "source": [
    "### Section 1.3.2: Least squares regression stage 2"
   ]
  },
  {
   "cell_type": "code",
   "execution_count": null,
   "metadata": {
    "cellView": "form",
    "colab": {
     "base_uri": "https://localhost:8080/",
     "height": 517
    },
    "colab_type": "code",
    "outputId": "84e1e3b4-07c4-426d-96df-743e35b49777"
   },
   "outputs": [],
   "source": [
    "#@title Video 3: Stage 2\n",
    "# Insert the ID of the corresponding youtube video\n",
    "from IPython.display import YouTubeVideo\n",
    "video = YouTubeVideo(id=\"F-_m_Vgv75I\", width=854, height=480, fs=1)\n",
    "print(\"Video available at https://youtu.be/\" + video.id)\n",
    "video"
   ]
  },
  {
   "cell_type": "markdown",
   "metadata": {
    "colab_type": "text"
   },
   "source": [
    "#### Exercise 2: Compute the IV estimate\n",
    "\n",
    "Now let's implement the second stage! Complete the `fit_second_stage()` function below. We will again use a linear regression model with an intercept. We will then use the function from Exercise 1 (`fit_first_stage`) and this function to estimate the full two-stage regression model. We will obtain the estimated causal effect of the number of cigarettes ($T$) on birth weight ($Y$).\n",
    "\n"
   ]
  },
  {
   "cell_type": "code",
   "execution_count": null,
   "metadata": {
    "colab": {},
    "colab_type": "code"
   },
   "outputs": [],
   "source": [
    "def fit_second_stage(T_hat, Y):\n",
    "    \"\"\"\n",
    "    Estimates a scalar causal effect from 2-stage least squares regression using\n",
    "    an instrument.\n",
    "\n",
    "    Args:\n",
    "        T_hat (np.ndarray): the output of the first stage regression\n",
    "        Y (np.ndarray): our observed response (n, 1)\n",
    "\n",
    "    Returns:\n",
    "        beta (float): the estimated causal effect\n",
    "    \"\"\"\n",
    "    ############################################################################\n",
    "    ## Insert your code here to fit the second stage of the 2-stage least squares\n",
    "    ## estimate.\n",
    "    ## Fill out function and remove\n",
    "    raise NotImplementedError('Please complete fit_second_stage function')\n",
    "    ############################################################################\n",
    "\n",
    "    # Initialize linear regression model\n",
    "    stage2 = LinearRegression(...)\n",
    "\n",
    "    # Fit model to data\n",
    "    stage2.fit(...)\n",
    "\n",
    "    return stage2.coef_\n",
    "\n",
    "\n",
    "# Uncomment below to test your function\n",
    "# T_hat = fit_first_stage(T, Z)\n",
    "# beta = fit_second_stage(T_hat, Y)\n",
    "# print(\"Estimated causal effect is: {:.3f}\".format(beta[0, 0]))"
   ]
  },
  {
   "cell_type": "code",
   "execution_count": null,
   "metadata": {
    "colab": {
     "base_uri": "https://localhost:8080/",
     "height": 34
    },
    "colab_type": "code",
    "outputId": "96b05157-e059-4672-bbec-4986f29ace8d"
   },
   "outputs": [],
   "source": [
    "# to_remove solution\n",
    "def fit_second_stage(T_hat, Y):\n",
    "    \"\"\"\n",
    "    Estimates a scalar causal effect from 2-stage least squares regression using\n",
    "    an instrument.\n",
    "\n",
    "    Args:\n",
    "        T_hat (np.ndarray): the output of the first stage regression\n",
    "        Y (np.ndarray): our observed response (n, 1)\n",
    "\n",
    "    Returns:\n",
    "        beta (float): the estimated causal effect\n",
    "    \"\"\"\n",
    "    # Initialize linear regression model\n",
    "    stage2 = LinearRegression(fit_intercept=True)\n",
    "\n",
    "    # Fit model to data\n",
    "    stage2.fit(T_hat, Y)\n",
    "\n",
    "    return stage2.coef_\n",
    "\n",
    "\n",
    "# Uncomment below to test your function\n",
    "T_hat = fit_first_stage(T, Z)\n",
    "beta = fit_second_stage(T_hat, Y)\n",
    "print(\"Estimated causal effect is: {:.3f}\".format(beta[0, 0]))"
   ]
  },
  {
   "cell_type": "markdown",
   "metadata": {
    "colab_type": "text"
   },
   "source": [
    "You should obtain an estimated causal effect of `-1.984`. This is quite close to the true causal effect of $-2$!"
   ]
  },
  {
   "cell_type": "markdown",
   "metadata": {
    "colab_type": "text"
   },
   "source": [
    "---\n",
    "# Section 2: IVs in our simulated neural system\n",
    "\n"
   ]
  },
  {
   "cell_type": "code",
   "execution_count": null,
   "metadata": {
    "cellView": "form",
    "colab": {
     "base_uri": "https://localhost:8080/",
     "height": 517
    },
    "colab_type": "code",
    "outputId": "d34ab471-4b8f-48b3-fcd6-5eec8ac0a9b5"
   },
   "outputs": [],
   "source": [
    "#@title Video 4: IVs in simulated neural systems\n",
    "# Insert the ID of the corresponding youtube video\n",
    "from IPython.display import YouTubeVideo\n",
    "video = YouTubeVideo(id=\"b6a3Mrefk44\", width=854, height=480, fs=1)\n",
    "print(\"Video available at https://youtu.be/\" + video.id)\n",
    "video"
   ]
  },
  {
   "cell_type": "markdown",
   "metadata": {
    "colab_type": "text"
   },
   "source": [
    "Now, say we have the neural system we have been simulating, except with an additional variable $\\vec{z}$. This will be our instrumental variable. \n",
    "\n",
    "We treat $\\vec{z}$ as a source of noise in the dynamics of our neurons:\n",
    "\n",
    "$$\n",
    "\\vec{x}_{t+1} = \\sigma(A\\vec{x}_t + \\eta \\vec{z}_{t+1} + \\epsilon_t)\n",
    "$$\n",
    "\n",
    "- $\\eta$ is what we'll call the \"strength\" of our IV\n",
    "- $\\vec{z}_t$ is a random binary variable, $\\vec{z}_t \\sim Bernoulli(0.5)$\n",
    "\n",
    "Remember that for each neuron $i$, we are trying to figure out whether $i$ is connected to (causally affects) the other neurons in our system *at the next time step*. So for timestep $t$, we want to determine whether $\\vec{x}_{i,t}$ affects all the other neurons at $\\vec{x}_{t+1}$. For a given neuron $i$, $\\vec{z}_{i,t}$ satistfies the 3 criteria for a valid instrument. \n",
    "\n",
    "\n",
    "**What could $z$ be, biologically?**\n",
    "\n",
    "Imagine $z$ to be some injected current through an *in vivo* patch clamp. It affects each neuron individually, and only affects dynamics through that neuron.\n",
    "\n",
    "The cool thing about IV is that you don't have to control $z$ yourself - it can be observed. So if you mess up your wiring and accidentally connect the injected voltage to an AM radio, no worries. As long as you can observe the signal the method will work."
   ]
  },
  {
   "cell_type": "markdown",
   "metadata": {
    "colab_type": "text"
   },
   "source": [
    "![neuron_iv.png](data:image/jpeg;base64,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)"
   ]
  },
  {
   "cell_type": "markdown",
   "metadata": {
    "colab_type": "text"
   },
   "source": [
    "## Exercise 3: Simulate a system with IV\n",
    "\n",
    "Here we'll modify the function that simulates the neural system, but this time make the update rule include the effect of the instrumental variable $z$."
   ]
  },
  {
   "cell_type": "code",
   "execution_count": null,
   "metadata": {
    "colab": {},
    "colab_type": "code"
   },
   "outputs": [],
   "source": [
    "def simulate_neurons_iv(n_neurons, timesteps, eta, random_state=42):\n",
    "    \"\"\"\n",
    "    Simulates a dynamical system for the specified number of neurons and timesteps.\n",
    "\n",
    "    Args:\n",
    "        n_neurons (int): the number of neurons in our system.\n",
    "        timesteps (int): the number of timesteps to simulate our system.\n",
    "        eta (float): the strength of the instrument\n",
    "        random_state (int): seed for reproducibility\n",
    "\n",
    "    Returns:\n",
    "        The tuple (A,X,Z) of the connectivity matrix, simulated system, and instruments.\n",
    "        - A has shape (n_neurons, n_neurons)\n",
    "        - X has shape (n_neurons, timesteps)\n",
    "        - Z has shape (n_neurons, timesteps)\n",
    "    \"\"\"\n",
    "    np.random.seed(random_state)\n",
    "    A = create_connectivity(n_neurons, random_state)\n",
    "\n",
    "    X = np.zeros((n_neurons, timesteps))\n",
    "    Z = np.random.choice([0, 1], size=(n_neurons, timesteps))\n",
    "    for t in range(timesteps - 1):\n",
    "\n",
    "      ############################################################################\n",
    "      ## Insert your code here to adjust the update rule to include the\n",
    "      ## instrumental variable.\n",
    "      ##  We've already created Z for you. (We need to return it to regress on it).\n",
    "      ##  Your task is to slice it appropriately. Don't forget eta.\n",
    "      ## Fill out function and remove\n",
    "      raise NotImplementedError('Complete simulate_neurons_iv function')\n",
    "      ############################################################################\n",
    "\n",
    "      IV_on_this_timestep = ...\n",
    "\n",
    "      X[:, t + 1] = sigmoid(A.dot(X[:, t]) + IV_on_this_timestep + np.random.multivariate_normal(np.zeros(n_neurons), np.eye(n_neurons)))\n",
    "\n",
    "    return A, X, Z\n",
    "\n",
    "# Parameters\n",
    "timesteps = 5000  # Simulate for 5000 timesteps.\n",
    "n_neurons = 100  # the size of our system\n",
    "eta = 2  # the strength of our instrument, higher is stronger\n",
    "\n",
    "\n",
    "# Uncomment below to test your function\n",
    "\n",
    "# Simulate our dynamical system for the given amount of time\n",
    "# A, X, Z = simulate_neurons_iv(n_neurons, timesteps, eta)\n",
    "# plot_neural_activity(X)"
   ]
  },
  {
   "cell_type": "code",
   "execution_count": null,
   "metadata": {
    "colab": {
     "base_uri": "https://localhost:8080/",
     "height": 431
    },
    "colab_type": "code",
    "outputId": "c39ed351-d155-4897-beda-ae33de41aca4"
   },
   "outputs": [],
   "source": [
    "# to_remove solution\n",
    "def simulate_neurons_iv(n_neurons, timesteps, eta, random_state=42):\n",
    "    \"\"\"\n",
    "    Simulates a dynamical system for the specified number of neurons and timesteps.\n",
    "\n",
    "    Args:\n",
    "        n_neurons (int): the number of neurons in our system.\n",
    "        timesteps (int): the number of timesteps to simulate our system.\n",
    "        eta (float): the strength of the instrument\n",
    "        random_state (int): seed for reproducibility\n",
    "\n",
    "    Returns:\n",
    "        The tuple (A,X,Z) of the connectivity matrix, simulated system, and instruments.\n",
    "        - A has shape (n_neurons, n_neurons)\n",
    "        - X has shape (n_neurons, timesteps)\n",
    "        - Z has shape (n_neurons, timesteps)\n",
    "    \"\"\"\n",
    "    np.random.seed(random_state)\n",
    "    A = create_connectivity(n_neurons, random_state)\n",
    "\n",
    "    X = np.zeros((n_neurons, timesteps))\n",
    "    Z = np.random.choice([0, 1], size=(n_neurons, timesteps))\n",
    "    for t in range(timesteps - 1):\n",
    "\n",
    "      IV_on_this_timestep = (eta * Z[:, t + 1])\n",
    "\n",
    "      X[:, t + 1] = sigmoid(A.dot(X[:, t]) + IV_on_this_timestep + np.random.multivariate_normal(np.zeros(n_neurons), np.eye(n_neurons)))\n",
    "\n",
    "    return A, X, Z\n",
    "\n",
    "# Parameters\n",
    "timesteps = 5000  # Simulate for 5000 timesteps.\n",
    "n_neurons = 100  # the size of our system\n",
    "eta = 2  # the strength of our instrument, higher is stronger\n",
    "\n",
    "\n",
    "# Uncomment below to test your function\n",
    "\n",
    "# Simulate our dynamical system for the given amount of time\n",
    "A, X, Z = simulate_neurons_iv(n_neurons, timesteps, eta)\n",
    "with plt.xkcd():\n",
    "  plot_neural_activity(X)"
   ]
  },
  {
   "cell_type": "markdown",
   "metadata": {
    "colab_type": "text"
   },
   "source": [
    "## Section 2.1: Estimate IV for simulated neural system"
   ]
  },
  {
   "cell_type": "markdown",
   "metadata": {
    "colab_type": "text"
   },
   "source": [
    "Since you just implemented two-stage least squares, we've provided the network implementation for you, with the function `get_iv_estimate_network()`. Now, let's see how our IV estimates do in recovering the connectivity matrix."
   ]
  },
  {
   "cell_type": "code",
   "execution_count": null,
   "metadata": {
    "colab": {},
    "colab_type": "code"
   },
   "outputs": [],
   "source": [
    "def get_iv_estimate_network(X, Z):\n",
    "    \"\"\"\n",
    "    Estimates the connectivity matrix from 2-stage least squares regression\n",
    "    using an instrument.\n",
    "\n",
    "    Args:\n",
    "        X (np.ndarray): our simulated system of shape (n_neurons, timesteps)\n",
    "        Z (np.ndarray): our observed instruments of shape (n_neurons, timesteps)\n",
    "\n",
    "    Returns:\n",
    "\n",
    "        V (np.ndarray): the estimated connectivity matrix\n",
    "    \"\"\"\n",
    "    n_neurons = X.shape[0]\n",
    "    Y = X[:, 1:].transpose()\n",
    "\n",
    "    # apply inverse sigmoid transformation\n",
    "    Y = logit(Y)\n",
    "\n",
    "    # Stage 1: regress X on Z\n",
    "    stage1 = MultiOutputRegressor(LinearRegression(fit_intercept=True), n_jobs=-1)\n",
    "    stage1.fit(Z[:, :-1].transpose(), X[:, :-1].transpose())\n",
    "    X_hat = stage1.predict(Z[:, :-1].transpose())\n",
    "\n",
    "    # Stage 2: regress Y on X_hatI\n",
    "    stage2 = MultiOutputRegressor(LinearRegression(fit_intercept=True), n_jobs=-1)\n",
    "    stage2.fit(X_hat, Y)\n",
    "\n",
    "    # Get estimated effects\n",
    "    V = np.zeros((n_neurons, n_neurons))\n",
    "    for i, estimator in enumerate(stage2.estimators_):\n",
    "        V[i, :] = estimator.coef_\n",
    "\n",
    "    return V"
   ]
  },
  {
   "cell_type": "markdown",
   "metadata": {
    "colab_type": "text"
   },
   "source": [
    "Now let's see how well it works in our system."
   ]
  },
  {
   "cell_type": "code",
   "execution_count": null,
   "metadata": {
    "cellView": "form",
    "colab": {
     "base_uri": "https://localhost:8080/",
     "height": 352
    },
    "colab_type": "code",
    "outputId": "f23ccf76-9808-483d-e6b2-6d86c33f9ab8"
   },
   "outputs": [],
   "source": [
    "#@markdown Execute this cell to visualize IV estimated connectivity matrix\n",
    "n_neurons = 6\n",
    "timesteps = 10000\n",
    "random_state = 42\n",
    "eta = 2\n",
    "\n",
    "A, X, Z = simulate_neurons_iv(n_neurons, timesteps, eta, random_state)\n",
    "V = get_iv_estimate_network(X, Z)\n",
    "print(\"IV estimated correlation: {:.3f}\".format(np.corrcoef(A.flatten(), V.flatten())[1, 0]))\n",
    "\n",
    "fig, axs = plt.subplots(1, 2, figsize=(10, 5))\n",
    "\n",
    "im = axs[0].imshow(A, cmap=\"coolwarm\")\n",
    "fig.colorbar(im, ax=axs[0],fraction=0.046, pad=0.04)\n",
    "axs[0].title.set_text(\"True connectivity matrix\")\n",
    "axs[0].set(xlabel='Connectivity from', ylabel='Connectivity to')\n",
    "\n",
    "im = axs[1].imshow(V, cmap=\"coolwarm\")\n",
    "fig.colorbar(im, ax=axs[1],fraction=0.046, pad=0.04)\n",
    "axs[1].title.set_text(\"IV estimated connectivity matrix\")\n",
    "axs[1].set(xlabel='Connectivity from')\n",
    "\n",
    "plt.show()"
   ]
  },
  {
   "cell_type": "markdown",
   "metadata": {
    "colab_type": "text"
   },
   "source": [
    "The IV estimates seem to perform pretty well! In the next section, we will see how they behave in the face of omitted variable bias."
   ]
  },
  {
   "cell_type": "markdown",
   "metadata": {
    "colab_type": "text"
   },
   "source": [
    "---\n",
    "# Section 3: IVs and omitted variable bias \n"
   ]
  },
  {
   "cell_type": "code",
   "execution_count": null,
   "metadata": {
    "cellView": "form",
    "colab": {
     "base_uri": "https://localhost:8080/",
     "height": 517
    },
    "colab_type": "code",
    "outputId": "fb738e85-3553-422b-c177-16d9fa91cb04"
   },
   "outputs": [],
   "source": [
    "#@title Video 5: IV vs regression\n",
    "# Insert the ID of the corresponding youtube video\n",
    "from IPython.display import YouTubeVideo\n",
    "video = YouTubeVideo(id=\"zceWyoQn09s\", width=854, height=480, fs=1)\n",
    "print(\"Video available at https://youtu.be/\" + video.id)\n",
    "video"
   ]
  },
  {
   "cell_type": "markdown",
   "metadata": {
    "colab_type": "text"
   },
   "source": [
    "## Interactive Demo: Estimating connectivity with IV vs regression on a subset of observed neurons\n",
    "\n",
    "Change the ratio of observed neurons and look at the impact on the quality of connectivity estimation using IV vs regression. Which method does better with fewer observed neurons?\n",
    "\n",
    "**NOTE:** this simulation will take about a minute to run!\n"
   ]
  },
  {
   "cell_type": "code",
   "execution_count": null,
   "metadata": {
    "cellView": "form",
    "colab": {
     "base_uri": "https://localhost:8080/",
     "height": 363,
     "referenced_widgets": [
      "f47f8abc88714432a420356abe6b621a",
      "b92d7557f0cd4bd0b6bec001fd20186b",
      "c94e8aa5c7184899881d842b4ca9c5f5",
      "19a60e1994f94846911c962401b29643",
      "b55b6f949bec411e88e60324512115b0",
      "85159b65f825419ba2cb703aae7fe9e0",
      "5ee12cb064c447e19dd87386275ae00a"
     ]
    },
    "colab_type": "code",
    "outputId": "10456272-28c2-43fb-f45f-2650133f6351"
   },
   "outputs": [],
   "source": [
    "#@title\n",
    "#@markdown Execute this cell to enable demo\n",
    "n_neurons = 30\n",
    "timesteps = 20000\n",
    "random_state = 42\n",
    "eta = 2\n",
    "A, X, Z = simulate_neurons_iv(n_neurons, timesteps, eta, random_state)\n",
    "\n",
    "\n",
    "reg_args = {\n",
    "    \"fit_intercept\": False,\n",
    "    \"alpha\": 0.001\n",
    "}\n",
    "\n",
    "def get_regression_estimate_full_connectivity(X):\n",
    "    \"\"\"\n",
    "    Estimates the connectivity matrix using lasso regression.\n",
    "\n",
    "    Args:\n",
    "        X (np.ndarray): our simulated system of shape (n_neurons, timesteps)\n",
    "        neuron_idx (int): optionally provide a neuron idx to compute connectivity for\n",
    "    Returns:\n",
    "        V (np.ndarray): estimated connectivity matrix of shape (n_neurons, n_neurons).\n",
    "                        if neuron_idx is specified, V is of shape (n_neurons,).\n",
    "    \"\"\"\n",
    "    n_neurons = X.shape[0]\n",
    "\n",
    "    # Extract Y and W as defined above\n",
    "    W = X[:, :-1].transpose()\n",
    "    Y = X[:, 1:].transpose()\n",
    "\n",
    "    # apply inverse sigmoid transformation\n",
    "    Y = logit(Y)\n",
    "\n",
    "    # fit multioutput regression\n",
    "    reg = MultiOutputRegressor(Lasso(fit_intercept=False, alpha=0.01, max_iter=200), n_jobs=-1)\n",
    "    reg.fit(W, Y)\n",
    "\n",
    "    V = np.zeros((n_neurons, n_neurons))\n",
    "    for i, estimator in enumerate(reg.estimators_):\n",
    "        V[i, :] = estimator.coef_\n",
    "\n",
    "    return V\n",
    "\n",
    "\n",
    "def get_regression_corr_full_connectivity(n_neurons, A, X, observed_ratio, regression_args):\n",
    "    \"\"\"\n",
    "    A wrapper function for our correlation calculations between A and the V estimated\n",
    "    from regression.\n",
    "\n",
    "    Args:\n",
    "        n_neurons (int): number of neurons\n",
    "        A (np.ndarray): connectivity matrix\n",
    "        X (np.ndarray): dynamical system\n",
    "        observed_ratio (float): the proportion of n_neurons observed, must be betweem 0 and 1.\n",
    "        regression_args (dict): dictionary of lasso regression arguments and hyperparameters\n",
    "\n",
    "    Returns:\n",
    "        A single float correlation value representing the similarity between A and R\n",
    "    \"\"\"\n",
    "    assert (observed_ratio > 0) and (observed_ratio <= 1)\n",
    "\n",
    "    sel_idx = np.clip(int(n_neurons*observed_ratio), 1, n_neurons)\n",
    "\n",
    "    sel_X = X[:sel_idx, :]\n",
    "    sel_A = A[:sel_idx, :sel_idx]\n",
    "\n",
    "    sel_V = get_regression_estimate_full_connectivity(sel_X)\n",
    "    return np.corrcoef(sel_A.flatten(), sel_V.flatten())[1,0], sel_V\n",
    "\n",
    "\n",
    "@widgets.interact\n",
    "def plot_observed(ratio=[0.2, 0.4, 0.6, 0.8, 1.0]):\n",
    "  fig, axs = plt.subplots(1, 3, figsize=(15, 5))\n",
    "  sel_idx = int(ratio * n_neurons)\n",
    "  n_observed = sel_idx\n",
    "  offset = np.zeros((n_neurons, n_neurons))\n",
    "  offset[:sel_idx, :sel_idx] =  1 + A[:sel_idx, :sel_idx]\n",
    "  im = axs[0].imshow(offset, cmap=\"coolwarm\", vmin=0, vmax=A.max() + 1)\n",
    "  axs[0].title.set_text(\"True connectivity\")\n",
    "  axs[0].set_xlabel(\"Connectivity to\")\n",
    "  axs[0].set_ylabel(\"Connectivity from\")\n",
    "  plt.colorbar(im, ax=axs[0],fraction=0.046, pad=0.04)\n",
    "\n",
    "  sel_A = A[:sel_idx, :sel_idx]\n",
    "  sel_X = X[:sel_idx, :]\n",
    "  sel_Z = Z[:sel_idx, :]\n",
    "\n",
    "  V = get_iv_estimate_network(sel_X, sel_Z)\n",
    "  iv_corr = np.corrcoef(sel_A.flatten(), V.flatten())[1, 0]\n",
    "\n",
    "  big_V = np.zeros(A.shape)\n",
    "  big_V[:sel_idx, :sel_idx] =  1 + V\n",
    "\n",
    "  im = axs[1].imshow(big_V, cmap=\"coolwarm\", vmin=0, vmax=A.max() + 1)\n",
    "  plt.colorbar(im, ax=axs[1], fraction=0.046, pad=0.04)\n",
    "  c = 'w' if n_observed < (n_neurons - 3) else 'k'\n",
    "  axs[1].text(0,n_observed + 2, \"Correlation : {:.2f}\".format(iv_corr), color=c, size=15)\n",
    "  axs[1].axis(\"off\")\n",
    "\n",
    "\n",
    "  reg_corr, R = get_regression_corr_full_connectivity(n_neurons,\n",
    "                                  A,\n",
    "                                  X,\n",
    "                                  ratio,\n",
    "                                  reg_args)\n",
    "\n",
    "\n",
    "  big_R = np.zeros(A.shape)\n",
    "  big_R[:sel_idx, :sel_idx] =  1 + R\n",
    "\n",
    "  im = axs[2].imshow(big_R, cmap=\"coolwarm\", vmin=0, vmax=A.max() + 1)\n",
    "  plt.colorbar(im, ax=axs[2], fraction=0.046, pad=0.04)\n",
    "  c = 'w' if n_observed<(n_neurons-3) else 'k'\n",
    "  axs[1].title.set_text(\"Estimated connectivity (IV)\")\n",
    "  axs[1].set_xlabel(\"Connectivity to\")\n",
    "  axs[1].set_ylabel(\"Connectivity from\")\n",
    "\n",
    "  axs[2].text(0, n_observed + 2,\"Correlation : {:.2f}\".format(reg_corr), color=c, size=15)\n",
    "  axs[2].axis(\"off\")\n",
    "  axs[2].title.set_text(\"Estimated connectivity (regression)\")\n",
    "  axs[2].set_xlabel(\"Connectivity to\")\n",
    "  axs[2].set_ylabel(\"Connectivity from\")"
   ]
  },
  {
   "cell_type": "markdown",
   "metadata": {
    "colab_type": "text"
   },
   "source": [
    "We can also visualize the performance of regression and IV as a function of the observed neuron ratio below.\n",
    "\n",
    "**Note** that this code takes about a minute to run!"
   ]
  },
  {
   "cell_type": "code",
   "execution_count": null,
   "metadata": {
    "cellView": "form",
    "colab": {
     "base_uri": "https://localhost:8080/",
     "height": 518
    },
    "colab_type": "code",
    "outputId": "37274be5-e39f-40f9-c0d9-bd6cddb41ad8"
   },
   "outputs": [],
   "source": [
    "#@markdown Execute this cell to visualize connectivity estimation performance\n",
    "n_neurons = 40  # the size of the system\n",
    "timesteps = 20000\n",
    "random_state = 42\n",
    "eta = 2  # the strength of our instrument\n",
    "\n",
    "A, X, Z = simulate_neurons_iv(n_neurons, timesteps, eta, random_state)\n",
    "\n",
    "observed_ratio = [1, 0.8, 0.6, 0.4, 0.2]\n",
    "\n",
    "compare_iv_estimate_to_regression(observed_ratio)"
   ]
  },
  {
   "cell_type": "markdown",
   "metadata": {
    "colab_type": "text"
   },
   "source": [
    "We see that IVs handle omitted variable bias (when the instrument is strong and we have enough data).\n",
    "\n",
    "### The costs of IV analysis\n",
    "\n",
    "- we need to find an appropriate and valid instrument\n",
    "- Because of the 2-stage estimation process, we need strong instruments or else our standard errors will be large"
   ]
  },
  {
   "cell_type": "markdown",
   "metadata": {
    "colab_type": "text"
   },
   "source": [
    "---\n",
    "# Discussion questions\n",
    "\n",
    "\n",
    "*   Think back to your most recent work. Can you create a causal diagram of the fundamental question? Are there sources of bias (omitted variables or otherwise) that might be a threat to causal validity?\n",
    "*   Can you think of any possibilities for instrumental variables? What sources of observed randomness could studies in your field leverage in identifying causal effects?\n",
    "\n",
    "\n"
   ]
  },
  {
   "cell_type": "markdown",
   "metadata": {
    "colab_type": "text"
   },
   "source": [
    "---\n",
    "# Summary\n"
   ]
  },
  {
   "cell_type": "code",
   "execution_count": null,
   "metadata": {
    "cellView": "form",
    "colab": {
     "base_uri": "https://localhost:8080/",
     "height": 517
    },
    "colab_type": "code",
    "outputId": "b1284046-80da-422b-dd41-6edec4f5727a"
   },
   "outputs": [],
   "source": [
    "#@title Video 6: Summary\n",
    "# Insert the ID of the corresponding youtube video\n",
    "from IPython.display import YouTubeVideo\n",
    "video = YouTubeVideo(id=\"1qxW8CPW77U\", width=854, height=480, fs=1)\n",
    "print(\"Video available at https://youtu.be/\" + video.id)\n",
    "video"
   ]
  },
  {
   "cell_type": "markdown",
   "metadata": {
    "colab_type": "text"
   },
   "source": [
    "In this tutorial, we:\n",
    "\n",
    "* Explored instrumental variables and how we can use them for causality estimates\n",
    "* Compared IV estimates to regression estimates"
   ]
  },
  {
   "cell_type": "markdown",
   "metadata": {
    "colab_type": "text"
   },
   "source": [
    "---\n",
    "# Appendix"
   ]
  },
  {
   "cell_type": "markdown",
   "metadata": {
    "colab_type": "text"
   },
   "source": [
    "## (Bonus) Exercise: Exploring instrument strength\n",
    "\n",
    "Explore how the strength of the instrument $\\eta$ affects the quality of estimates with instrumental variables. \n",
    "**bold text**\n"
   ]
  },
  {
   "cell_type": "code",
   "execution_count": null,
   "metadata": {
    "colab": {},
    "colab_type": "code"
   },
   "outputs": [],
   "source": [
    "def instrument_strength_effect(etas, n_neurons, timesteps, n_trials):\n",
    "  \"\"\" Compute IV estimation performance for different instrument strengths\n",
    "\n",
    "  Args:\n",
    "    etas (list): different instrument strengths to compare\n",
    "    n_neurons (int): number of neurons in simulation\n",
    "    timesteps (int): number of timesteps in simulation\n",
    "    n_trials (int): number of trials to compute\n",
    "\n",
    "  Returns:\n",
    "    ndarray: n_trials x len(etas) array where each element is the correlation\n",
    "        between true and estimated connectivity matries for that trial and\n",
    "        instrument strength\n",
    "  \"\"\"\n",
    "\n",
    "  # Initialize corr array\n",
    "  corr_data = np.zeros((n_trials, len(etas)))\n",
    "\n",
    "  # Loop over trials\n",
    "  for trial in range(n_trials):\n",
    "      print(\"Trial {} of {}\".format(trial + 1, n_trials))\n",
    "\n",
    "      # Loop over instrument strenghs\n",
    "      for j, eta in enumerate(etas):\n",
    "          ########################################################################\n",
    "          ## TODO: Simulate system with a given instrument strength, get IV estimate,\n",
    "          ## and compute correlation\n",
    "          # Fill out function and remove\n",
    "          raise NotImplementedError('Student exercise: complete instrument_strength_effect')\n",
    "          ########################################################################\n",
    "\n",
    "          # Simulate system\n",
    "          A, X, Z = simulate_neurons_iv(...)\n",
    "\n",
    "          # Compute IV estimate\n",
    "          iv_V = get_iv_estimate_network(...)\n",
    "\n",
    "          # Compute correlation\n",
    "          corr_data[trial, j] =  np.corrcoef(A.flatten(), iv_V.flatten())[1, 0]\n",
    "\n",
    "  return corr_data\n",
    "\n",
    "# Parameters of system\n",
    "n_neurons = 20\n",
    "timesteps = 10000\n",
    "n_trials = 3\n",
    "etas = [2, 1, 0.5, 0.25, 0.12]  # instrument strengths to search over\n",
    "\n",
    "# Uncomment below to test your function\n",
    "#corr_data = instrument_strength_effect(etas, n_neurons, timesteps, n_trials)\n",
    "#plot_performance_vs_eta(etas, corr_data)"
   ]
  },
  {
   "cell_type": "code",
   "execution_count": null,
   "metadata": {
    "colab": {
     "base_uri": "https://localhost:8080/",
     "height": 52
    },
    "colab_type": "code",
    "outputId": "5c85039d-1cb4-4729-92b6-44950e40a849"
   },
   "outputs": [],
   "source": [
    "# to_remove_solution\n",
    "def instrument_strength_effect(etas, n_neurons, timesteps, n_trials):\n",
    "  \"\"\" Compute IV estimation performance for different instrument strengths\n",
    "\n",
    "  Args:\n",
    "    etas (list): different instrument strengths to compare\n",
    "    n_neurons (int): number of neurons in simulation\n",
    "    timesteps (int): number of timesteps in simulation\n",
    "    n_trials (int): number of trials to compute\n",
    "\n",
    "  Returns:\n",
    "    ndarray: n_trials x len(etas) array where each element is the correlation\n",
    "        between true and estimated connectivity matries for that trial and\n",
    "        instrument strength\n",
    "  \"\"\"\n",
    "\n",
    "  # Initialize corr array\n",
    "  corr_data = np.zeros((n_trials, len(etas)))\n",
    "\n",
    "  # Loop over trials\n",
    "  for trial in range(n_trials):\n",
    "      print(\"Trial {} of {}\".format(trial + 1, n_trials))\n",
    "\n",
    "      # Loop over instrument strenghs\n",
    "      for j, eta in enumerate(etas):\n",
    "\n",
    "          # Simulate system\n",
    "          A, X, Z = simulate_neurons_iv(n_neurons, timesteps, eta, trial)\n",
    "\n",
    "          # Compute IV estimate\n",
    "          iv_V = get_iv_estimate_network(X, Z)\n",
    "\n",
    "          # Compute correlation\n",
    "          corr_data[trial, j] =  np.corrcoef(A.flatten(), iv_V.flatten())[1, 0]\n",
    "\n",
    "  return corr_data\n",
    "\n",
    "# Parameters of system\n",
    "n_neurons = 20\n",
    "timesteps = 10000\n",
    "n_trials = 3\n",
    "etas = [2, 1, 0.5, 0.25, 0.12]  # instrument strengths to search over\n",
    "\n",
    "# Uncomment below to test your function\n",
    "corr_data = instrument_strength_effect(etas, n_neurons, timesteps, n_trials)\n",
    "with plt.xkcd():\n",
    "  plot_performance_vs_eta(etas, corr_data)"
   ]
  },
  {
   "cell_type": "markdown",
   "metadata": {
    "colab_type": "text"
   },
   "source": [
    "---\n",
    "\n",
    "# (Bonus) Section 4: Granger Causality\n",
    "\n",
    "**Please revisit this section AFTER you complete tutorial notebook 4**, if you have time.\n",
    "\n",
    "Another potential solution to temporal causation that we might consider: [*Granger Causality*](https://en.wikipedia.org/wiki/Granger_causality).\n",
    "\n",
    "But, like the simultaneous fitting we explored in Tutorial 3, this method still fails in the presence of unobserved variables.\n",
    "\n",
    "We are testing whether a time series $X$ Granger-causes a time series $Y$ through a hypothesis test:\n",
    "\n",
    "- the null hypothesis $H_0$: lagged values of $X$ do not help predict values of $Y$ \n",
    "\n",
    "- the alternative hypothesis $H_a$: lagged values of $X$ **do** help predict values of $Y$ \n",
    "\n",
    "Mechanically, this is accomplished by fitting autoregressive models for $y_{t}$. We fail to reject the hypothesis if none of the $x_{t-k}$ terms are retained as significant in the regression. For simplicity, we will consider only one time lag. So, we have:\n",
    "\n",
    "$$\n",
    "H_0: y_t = a_0 + a_1 y_{t-1} +\\epsilon_t\n",
    "$$\n",
    "\n",
    "$$\n",
    "H_a: y_t = a_0 + a_1 y_{t-1} + b_1 x_{t-1} +\\epsilon_t\n",
    "$$"
   ]
  },
  {
   "cell_type": "code",
   "execution_count": null,
   "metadata": {
    "cellView": "form",
    "colab": {},
    "colab_type": "code",
    "outputId": "8d88a260-2847-43e2-bc31-c2994f7820f3"
   },
   "outputs": [],
   "source": [
    "#@markdown Execute this cell to get custom imports from stats models\n",
    "# we need custom imports from stats models\n",
    "!pip install statsmodels\n",
    "from statsmodels.tsa.stattools import grangercausalitytests"
   ]
  },
  {
   "cell_type": "markdown",
   "metadata": {
    "colab_type": "text"
   },
   "source": [
    "## Granger causality in small systems\n",
    "\n",
    "We will first evaluate Granger causality in a small system.\n",
    "\n"
   ]
  },
  {
   "cell_type": "markdown",
   "metadata": {
    "colab_type": "text"
   },
   "source": [
    "\n",
    "### (Bonus) Exercise: Evaluate Granger causality\n",
    "\n",
    "Complete the following definition to evaluate the Granger causality between our neurons. Then run the cells below to evaluate how well it works. You will use the `grangercausalitytests()` function already imported from statsmodels. We will then check whether a neuron in a small system Granger-causes the others.\n",
    "\n",
    "### Suggestions\n",
    "\n",
    "- use `help()` to check the function signature for `grangercausalitytests()`"
   ]
  },
  {
   "cell_type": "code",
   "execution_count": null,
   "metadata": {
    "colab": {},
    "colab_type": "code"
   },
   "outputs": [],
   "source": [
    "def get_granger_causality(X, selected_neuron, alpha=0.05):\n",
    "    \"\"\"\n",
    "    Estimates the lag-1 granger causality of the given neuron on the other neurons in the system.\n",
    "\n",
    "    Args:\n",
    "        X (np.ndarray): the matrix holding our dynamical system of shape (n_neurons, timesteps)\n",
    "        selected_neuron (int): the index of the neuron we want to estimate granger causality for\n",
    "        alpha (float): Bonferroni multiple comparisons correction\n",
    "\n",
    "    Returns:\n",
    "        A tuple (reject_null, p_vals)\n",
    "        reject_null (list): a binary list of length n_neurons whether the null was\n",
    "            rejected for the selected neuron granger causing the other neurons\n",
    "        p_vals (list): a list of the p-values for the corresponding Granger causality tests\n",
    "    \"\"\"\n",
    "    n_neurons = X.shape[0]\n",
    "    max_lag = 1\n",
    "\n",
    "    reject_null = []\n",
    "    p_vals = []\n",
    "\n",
    "    for target_neuron in range(n_neurons):\n",
    "        ts_data = X[[target_neuron, selected_neuron], :].transpose()\n",
    "\n",
    "        ########################################################################\n",
    "        ## Insert your code here to run Granger causality tests.\n",
    "        ##\n",
    "        ## Function Hints:\n",
    "        ##     Pass the ts_data defined above as the first argument\n",
    "        ##     Granger causality -> grangercausalitytests\n",
    "        ## Fill out this function and then remove\n",
    "        raise NotImplementedError('Student exercise: complete get_granger_causality function')\n",
    "        ########################################################################\n",
    "        res = grangercausalitytests(...)\n",
    "\n",
    "        # Gets the p-value for the log-ratio test\n",
    "        pval = res[1][0]['lrtest'][1]\n",
    "\n",
    "        p_vals.append(pval)\n",
    "        reject_null.append(int(pval < alpha))\n",
    "\n",
    "    return reject_null, p_vals\n",
    "\n",
    "\n",
    "# Set up small system\n",
    "n_neurons = 6\n",
    "timesteps = 5000\n",
    "random_state = 42\n",
    "selected_neuron = 1\n",
    "\n",
    "A = create_connectivity(n_neurons, random_state)\n",
    "X = simulate_neurons(A, timesteps, random_state)\n",
    "\n",
    "# Uncomment below to test your function\n",
    "# reject_null, p_vals = get_granger_causality(X, selected_neuron)\n",
    "\n",
    "# compare_granger_connectivity(A, reject_null, selected_neuron)"
   ]
  },
  {
   "cell_type": "code",
   "execution_count": null,
   "metadata": {
    "colab": {},
    "colab_type": "code",
    "outputId": "2fa4881f-37b2-4f00-da0a-348e02ae51ec"
   },
   "outputs": [],
   "source": [
    "# to_remove solution\n",
    "def get_granger_causality(X, selected_neuron, alpha=0.05):\n",
    "    \"\"\"\n",
    "    Estimates the lag-1 granger causality of the given neuron on the other neurons in the system.\n",
    "\n",
    "    Args:\n",
    "        X (np.ndarray): the matrix holding our dynamical system of shape (n_neurons, timesteps)\n",
    "        selected_neuron (int): the index of the neuron we want to estimate granger causality for\n",
    "        alpha (float): Bonferroni multiple comparisons correction\n",
    "\n",
    "    Returns:\n",
    "        A tuple (reject_null, p_vals)\n",
    "        reject_null (list): a binary list of length n_neurons whether the null was\n",
    "            rejected for the selected neuron granger causing the other neurons\n",
    "        p_vals (list): a list of the p-values for the corresponding Granger causality tests\n",
    "    \"\"\"\n",
    "    n_neurons = X.shape[0]\n",
    "    max_lag = 1\n",
    "\n",
    "    reject_null = []\n",
    "    p_vals = []\n",
    "\n",
    "    for target_neuron in range(n_neurons):\n",
    "        ts_data = X[[target_neuron, selected_neuron], :].transpose()\n",
    "\n",
    "        res = grangercausalitytests(ts_data, maxlag=max_lag, verbose=False)\n",
    "\n",
    "        # Gets the p-value for the log-ratio test\n",
    "        pval = res[1][0]['lrtest'][1]\n",
    "\n",
    "        p_vals.append(pval)\n",
    "        reject_null.append(int(pval < alpha))\n",
    "\n",
    "    return reject_null, p_vals\n",
    "\n",
    "\n",
    "# Set up small system\n",
    "n_neurons = 6\n",
    "timesteps = 5000\n",
    "random_state = 42\n",
    "selected_neuron = 1\n",
    "\n",
    "A = create_connectivity(n_neurons, random_state)\n",
    "X = simulate_neurons(A, timesteps, random_state)\n",
    "\n",
    "# Uncomment below to test your function\n",
    "reject_null, p_vals = get_granger_causality(X, selected_neuron)\n",
    "with plt.xkcd():\n",
    "  compare_granger_connectivity(A, reject_null, selected_neuron)"
   ]
  },
  {
   "cell_type": "markdown",
   "metadata": {
    "colab_type": "text"
   },
   "source": [
    "Looks good! Let's also check the correlation between Granger estimates and the true connectivity.\n"
   ]
  },
  {
   "cell_type": "code",
   "execution_count": null,
   "metadata": {
    "colab": {},
    "colab_type": "code",
    "outputId": "f5d32be3-f40a-4f03-c663-72975f3ccca7"
   },
   "outputs": [],
   "source": [
    "np.corrcoef(A[:,selected_neuron], np.array(reject_null))[1, 0]"
   ]
  },
  {
   "cell_type": "markdown",
   "metadata": {
    "colab_type": "text"
   },
   "source": [
    "When we have a small system, we correctly identify the causality of neuron 1."
   ]
  },
  {
   "cell_type": "markdown",
   "metadata": {
    "colab_type": "text"
   },
   "source": [
    "## Granger causality in large systems"
   ]
  },
  {
   "cell_type": "markdown",
   "metadata": {
    "colab_type": "text"
   },
   "source": [
    "We will now run Granger causality on a large system with 100 neurons. Does it still work well? How does the number of timesteps matter?"
   ]
  },
  {
   "cell_type": "code",
   "execution_count": null,
   "metadata": {
    "cellView": "form",
    "colab": {},
    "colab_type": "code",
    "outputId": "dab5aa14-582e-405d-8b46-a7b892754c71"
   },
   "outputs": [],
   "source": [
    "#@markdown Execute this cell to examine Granger causality in a large system\n",
    "n_neurons = 100\n",
    "timesteps = 5000\n",
    "random_state = 42\n",
    "selected_neuron = 1\n",
    "A = create_connectivity(n_neurons, random_state)\n",
    "X = simulate_neurons(A, timesteps, random_state)\n",
    "\n",
    "# get granger causality estimates\n",
    "reject_null, p_vals = get_granger_causality(X, selected_neuron)\n",
    "compare_granger_connectivity(A, reject_null, selected_neuron)"
   ]
  },
  {
   "cell_type": "markdown",
   "metadata": {
    "colab_type": "text"
   },
   "source": [
    "Let's again check the correlation between the Granger estimates and the true connectivity. Are we able to recover the true connectivity well in this larger system?"
   ]
  },
  {
   "cell_type": "code",
   "execution_count": null,
   "metadata": {
    "colab": {},
    "colab_type": "code",
    "outputId": "4b93542c-b09f-44d5-d3f0-8344ea0a9674"
   },
   "outputs": [],
   "source": [
    "np.corrcoef(A[:,selected_neuron], np.array(reject_null))[1, 0]"
   ]
  },
  {
   "cell_type": "markdown",
   "metadata": {
    "colab_type": "text"
   },
   "source": [
    "## Notes on Granger Causality\n",
    "\n",
    "Here we considered bivariate Granger causality -- for each pair of neurons $A, B$, does one Granger-cause the other? You might wonder whether considering more variables will help with estimation. *Conditional Granger Causality* is a technique that allows for a multivariate system, where we test whether $A$ Granger-causes $B$ conditional on the other variables in the system. \n",
    "\n",
    "Even after controlling for variables in the system, conditional Granger causality will also likely perform poorly as our system gets larger. Plus, measuring the additional variables to condition on may be infeasible in practical applications, which would introduce omitted variable bias as we saw in the regression exercise.\n",
    "\n",
    "One takeaway here is that as our estimation procedures become more sophisticated, they also become more difficult to interpret. We always need to understand the methods and the assumptions that are made."
   ]
  }
 ],
 "metadata": {
  "colab": {
   "collapsed_sections": [],
   "include_colab_link": true,
   "name": "W3D3_Tutorial4",
   "provenance": [],
   "toc_visible": true
  },
  "kernel": {
   "display_name": "Python 3",
   "language": "python",
   "name": "python3"
  },
  "kernelspec": {
   "display_name": "Python 3",
   "name": "python3"
  },
  "language_info": {
   "codemirror_mode": {
    "name": "ipython",
    "version": 3
   },
   "file_extension": ".py",
   "mimetype": "text/x-python",
   "name": "python",
   "nbconvert_exporter": "python",
   "pygments_lexer": "ipython3",
   "version": "3.7.8"
  }
 },
 "nbformat": 4,
 "nbformat_minor": 0
}
