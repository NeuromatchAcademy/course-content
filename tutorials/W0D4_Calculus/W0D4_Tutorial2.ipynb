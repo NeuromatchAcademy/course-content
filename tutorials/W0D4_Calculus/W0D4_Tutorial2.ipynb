{
  "nbformat": 4,
  "nbformat_minor": 5,
  "metadata": {
    "colab": {
      "name": "W0D4_Tutorial2",
      "provenance": [],
      "collapsed_sections": [],
      "toc_visible": true,
      "include_colab_link": true
    },
    "kernel": {
      "display_name": "Python 3",
      "language": "python",
      "name": "python3"
    },
    "kernelspec": {
      "display_name": "Python 3",
      "language": "python",
      "name": "python3"
    },
    "language_info": {
      "codemirror_mode": {
        "name": "ipython",
        "version": 3
      },
      "file_extension": ".py",
      "mimetype": "text/x-python",
      "name": "python",
      "nbconvert_exporter": "python",
      "pygments_lexer": "ipython3",
      "version": "3.7.10"
    },
    "widgets": {
      "application/vnd.jupyter.widget-state+json": {
        "5b52cfeb62f64f87963a384f8c3d8618": {
          "model_module": "@jupyter-widgets/controls",
          "model_name": "TabModel",
          "state": {
            "_view_name": "TabView",
            "_dom_classes": [],
            "_titles": {
              "0": "Youtube",
              "1": "Bilibili"
            },
            "_model_name": "TabModel",
            "_view_module": "@jupyter-widgets/controls",
            "selected_index": 1,
            "_model_module_version": "1.5.0",
            "_view_count": null,
            "_view_module_version": "1.5.0",
            "box_style": "",
            "layout": "IPY_MODEL_b4e54405d78b435985a5218c2a0c03b5",
            "_model_module": "@jupyter-widgets/controls",
            "children": [
              "IPY_MODEL_3d84d520049f455dbaf8d3568252eaa2",
              "IPY_MODEL_d6f1668d3a524fed9304e5add9a5dfe2"
            ]
          }
        },
        "b4e54405d78b435985a5218c2a0c03b5": {
          "model_module": "@jupyter-widgets/base",
          "model_name": "LayoutModel",
          "state": {
            "_view_name": "LayoutView",
            "grid_template_rows": null,
            "right": null,
            "justify_content": null,
            "_view_module": "@jupyter-widgets/base",
            "overflow": null,
            "_model_module_version": "1.2.0",
            "_view_count": null,
            "flex_flow": null,
            "width": null,
            "min_width": null,
            "border": null,
            "align_items": null,
            "bottom": null,
            "_model_module": "@jupyter-widgets/base",
            "top": null,
            "grid_column": null,
            "overflow_y": null,
            "overflow_x": null,
            "grid_auto_flow": null,
            "grid_area": null,
            "grid_template_columns": null,
            "flex": null,
            "_model_name": "LayoutModel",
            "justify_items": null,
            "grid_row": null,
            "max_height": null,
            "align_content": null,
            "visibility": null,
            "align_self": null,
            "height": null,
            "min_height": null,
            "padding": null,
            "grid_auto_rows": null,
            "grid_gap": null,
            "max_width": null,
            "order": null,
            "_view_module_version": "1.2.0",
            "grid_template_areas": null,
            "object_position": null,
            "object_fit": null,
            "grid_auto_columns": null,
            "margin": null,
            "display": null,
            "left": null
          }
        },
        "3d84d520049f455dbaf8d3568252eaa2": {
          "model_module": "@jupyter-widgets/output",
          "model_name": "OutputModel",
          "state": {
            "_view_name": "OutputView",
            "msg_id": "",
            "_dom_classes": [],
            "_model_name": "OutputModel",
            "outputs": [
              {
                "output_type": "stream",
                "metadata": {
                  "tags": []
                },
                "text": "Video available at https://youtube.com/watch?v=LhX-mUd8lPo\n",
                "stream": "stdout"
              },
              {
                "output_type": "display_data",
                "metadata": {
                  "tags": []
                },
                "text/html": "\n        <iframe\n            width=\"854\"\n            height=\"480\"\n            src=\"https://www.youtube.com/embed/LhX-mUd8lPo?fs=1&rel=0\"\n            frameborder=\"0\"\n            allowfullscreen\n        ></iframe>\n        ",
                "text/plain": "<IPython.lib.display.YouTubeVideo at 0x7f8b3b83ea90>",
                "image/jpeg": "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\n"
              }
            ],
            "_view_module": "@jupyter-widgets/output",
            "_model_module_version": "1.0.0",
            "_view_count": null,
            "_view_module_version": "1.0.0",
            "layout": "IPY_MODEL_008dd63731564f1d885690f8e5cb05ff",
            "_model_module": "@jupyter-widgets/output"
          }
        },
        "d6f1668d3a524fed9304e5add9a5dfe2": {
          "model_module": "@jupyter-widgets/output",
          "model_name": "OutputModel",
          "state": {
            "_view_name": "OutputView",
            "msg_id": "",
            "_dom_classes": [],
            "_model_name": "OutputModel",
            "outputs": [
              {
                "output_type": "stream",
                "metadata": {
                  "tags": []
                },
                "text": "Video available at https://www.bilibili.com/video/BV1v64y197bW\n",
                "stream": "stdout"
              },
              {
                "output_type": "display_data",
                "metadata": {
                  "tags": []
                },
                "text/html": "\n        <iframe\n            width=\"854\"\n            height=\"480\"\n            src=\"https://player.bilibili.com/player.html?bvid=BV1v64y197bW&page=1?fs=1\"\n            frameborder=\"0\"\n            allowfullscreen\n        ></iframe>\n        ",
                "text/plain": "<__main__.BiliVideo at 0x7f8b3f27c790>"
              }
            ],
            "_view_module": "@jupyter-widgets/output",
            "_model_module_version": "1.0.0",
            "_view_count": null,
            "_view_module_version": "1.0.0",
            "layout": "IPY_MODEL_a38b4ee674074863bf32e0a2ebdb4cc9",
            "_model_module": "@jupyter-widgets/output"
          }
        },
        "008dd63731564f1d885690f8e5cb05ff": {
          "model_module": "@jupyter-widgets/base",
          "model_name": "LayoutModel",
          "state": {
            "_view_name": "LayoutView",
            "grid_template_rows": null,
            "right": null,
            "justify_content": null,
            "_view_module": "@jupyter-widgets/base",
            "overflow": null,
            "_model_module_version": "1.2.0",
            "_view_count": null,
            "flex_flow": null,
            "width": null,
            "min_width": null,
            "border": null,
            "align_items": null,
            "bottom": null,
            "_model_module": "@jupyter-widgets/base",
            "top": null,
            "grid_column": null,
            "overflow_y": null,
            "overflow_x": null,
            "grid_auto_flow": null,
            "grid_area": null,
            "grid_template_columns": null,
            "flex": null,
            "_model_name": "LayoutModel",
            "justify_items": null,
            "grid_row": null,
            "max_height": null,
            "align_content": null,
            "visibility": null,
            "align_self": null,
            "height": null,
            "min_height": null,
            "padding": null,
            "grid_auto_rows": null,
            "grid_gap": null,
            "max_width": null,
            "order": null,
            "_view_module_version": "1.2.0",
            "grid_template_areas": null,
            "object_position": null,
            "object_fit": null,
            "grid_auto_columns": null,
            "margin": null,
            "display": null,
            "left": null
          }
        },
        "a38b4ee674074863bf32e0a2ebdb4cc9": {
          "model_module": "@jupyter-widgets/base",
          "model_name": "LayoutModel",
          "state": {
            "_view_name": "LayoutView",
            "grid_template_rows": null,
            "right": null,
            "justify_content": null,
            "_view_module": "@jupyter-widgets/base",
            "overflow": null,
            "_model_module_version": "1.2.0",
            "_view_count": null,
            "flex_flow": null,
            "width": null,
            "min_width": null,
            "border": null,
            "align_items": null,
            "bottom": null,
            "_model_module": "@jupyter-widgets/base",
            "top": null,
            "grid_column": null,
            "overflow_y": null,
            "overflow_x": null,
            "grid_auto_flow": null,
            "grid_area": null,
            "grid_template_columns": null,
            "flex": null,
            "_model_name": "LayoutModel",
            "justify_items": null,
            "grid_row": null,
            "max_height": null,
            "align_content": null,
            "visibility": null,
            "align_self": null,
            "height": null,
            "min_height": null,
            "padding": null,
            "grid_auto_rows": null,
            "grid_gap": null,
            "max_width": null,
            "order": null,
            "_view_module_version": "1.2.0",
            "grid_template_areas": null,
            "object_position": null,
            "object_fit": null,
            "grid_auto_columns": null,
            "margin": null,
            "display": null,
            "left": null
          }
        },
        "1870a823bdf944a2b61860fb5de8efb0": {
          "model_module": "@jupyter-widgets/controls",
          "model_name": "TabModel",
          "state": {
            "_view_name": "TabView",
            "_dom_classes": [],
            "_titles": {
              "0": "Youtube",
              "1": "Bilibili"
            },
            "_model_name": "TabModel",
            "_view_module": "@jupyter-widgets/controls",
            "selected_index": 0,
            "_model_module_version": "1.5.0",
            "_view_count": null,
            "_view_module_version": "1.5.0",
            "box_style": "",
            "layout": "IPY_MODEL_1d495945d6b349bbb074e0ba0f0ef8b4",
            "_model_module": "@jupyter-widgets/controls",
            "children": [
              "IPY_MODEL_96906719477b4eebb39f98af58762c3f",
              "IPY_MODEL_a29e35dc087e48268b737f627b1ab8bd"
            ]
          }
        },
        "1d495945d6b349bbb074e0ba0f0ef8b4": {
          "model_module": "@jupyter-widgets/base",
          "model_name": "LayoutModel",
          "state": {
            "_view_name": "LayoutView",
            "grid_template_rows": null,
            "right": null,
            "justify_content": null,
            "_view_module": "@jupyter-widgets/base",
            "overflow": null,
            "_model_module_version": "1.2.0",
            "_view_count": null,
            "flex_flow": null,
            "width": null,
            "min_width": null,
            "border": null,
            "align_items": null,
            "bottom": null,
            "_model_module": "@jupyter-widgets/base",
            "top": null,
            "grid_column": null,
            "overflow_y": null,
            "overflow_x": null,
            "grid_auto_flow": null,
            "grid_area": null,
            "grid_template_columns": null,
            "flex": null,
            "_model_name": "LayoutModel",
            "justify_items": null,
            "grid_row": null,
            "max_height": null,
            "align_content": null,
            "visibility": null,
            "align_self": null,
            "height": null,
            "min_height": null,
            "padding": null,
            "grid_auto_rows": null,
            "grid_gap": null,
            "max_width": null,
            "order": null,
            "_view_module_version": "1.2.0",
            "grid_template_areas": null,
            "object_position": null,
            "object_fit": null,
            "grid_auto_columns": null,
            "margin": null,
            "display": null,
            "left": null
          }
        },
        "96906719477b4eebb39f98af58762c3f": {
          "model_module": "@jupyter-widgets/output",
          "model_name": "OutputModel",
          "state": {
            "_view_name": "OutputView",
            "msg_id": "",
            "_dom_classes": [],
            "_model_name": "OutputModel",
            "outputs": [
              {
                "output_type": "stream",
                "metadata": {
                  "tags": []
                },
                "text": "Video available at https://youtube.com/watch?v=czgGyoUsRoQ\n",
                "stream": "stdout"
              },
              {
                "output_type": "display_data",
                "metadata": {
                  "tags": []
                },
                "text/html": "\n        <iframe\n            width=\"854\"\n            height=\"480\"\n            src=\"https://www.youtube.com/embed/czgGyoUsRoQ?fs=1&rel=0\"\n            frameborder=\"0\"\n            allowfullscreen\n        ></iframe>\n        ",
                "text/plain": "<IPython.lib.display.YouTubeVideo at 0x7f8b3b83e910>",
                "image/jpeg": "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\n"
              }
            ],
            "_view_module": "@jupyter-widgets/output",
            "_model_module_version": "1.0.0",
            "_view_count": null,
            "_view_module_version": "1.0.0",
            "layout": "IPY_MODEL_d30166497fdd4abdaed762a8c2cbc481",
            "_model_module": "@jupyter-widgets/output"
          }
        },
        "a29e35dc087e48268b737f627b1ab8bd": {
          "model_module": "@jupyter-widgets/output",
          "model_name": "OutputModel",
          "state": {
            "_view_name": "OutputView",
            "msg_id": "",
            "_dom_classes": [],
            "_model_name": "OutputModel",
            "outputs": [
              {
                "output_type": "stream",
                "metadata": {
                  "tags": []
                },
                "text": "Video available at https://www.bilibili.com/video/BV1pg41137CU\n",
                "stream": "stdout"
              },
              {
                "output_type": "display_data",
                "metadata": {
                  "tags": []
                },
                "text/html": "\n        <iframe\n            width=\"854\"\n            height=\"480\"\n            src=\"https://player.bilibili.com/player.html?bvid=BV1pg41137CU&page=1?fs=1\"\n            frameborder=\"0\"\n            allowfullscreen\n        ></iframe>\n        ",
                "text/plain": "<__main__.BiliVideo at 0x7f8b3f27ca90>"
              }
            ],
            "_view_module": "@jupyter-widgets/output",
            "_model_module_version": "1.0.0",
            "_view_count": null,
            "_view_module_version": "1.0.0",
            "layout": "IPY_MODEL_5f89ca777b284ccaa33921a5ab41e8d3",
            "_model_module": "@jupyter-widgets/output"
          }
        },
        "d30166497fdd4abdaed762a8c2cbc481": {
          "model_module": "@jupyter-widgets/base",
          "model_name": "LayoutModel",
          "state": {
            "_view_name": "LayoutView",
            "grid_template_rows": null,
            "right": null,
            "justify_content": null,
            "_view_module": "@jupyter-widgets/base",
            "overflow": null,
            "_model_module_version": "1.2.0",
            "_view_count": null,
            "flex_flow": null,
            "width": null,
            "min_width": null,
            "border": null,
            "align_items": null,
            "bottom": null,
            "_model_module": "@jupyter-widgets/base",
            "top": null,
            "grid_column": null,
            "overflow_y": null,
            "overflow_x": null,
            "grid_auto_flow": null,
            "grid_area": null,
            "grid_template_columns": null,
            "flex": null,
            "_model_name": "LayoutModel",
            "justify_items": null,
            "grid_row": null,
            "max_height": null,
            "align_content": null,
            "visibility": null,
            "align_self": null,
            "height": null,
            "min_height": null,
            "padding": null,
            "grid_auto_rows": null,
            "grid_gap": null,
            "max_width": null,
            "order": null,
            "_view_module_version": "1.2.0",
            "grid_template_areas": null,
            "object_position": null,
            "object_fit": null,
            "grid_auto_columns": null,
            "margin": null,
            "display": null,
            "left": null
          }
        },
        "5f89ca777b284ccaa33921a5ab41e8d3": {
          "model_module": "@jupyter-widgets/base",
          "model_name": "LayoutModel",
          "state": {
            "_view_name": "LayoutView",
            "grid_template_rows": null,
            "right": null,
            "justify_content": null,
            "_view_module": "@jupyter-widgets/base",
            "overflow": null,
            "_model_module_version": "1.2.0",
            "_view_count": null,
            "flex_flow": null,
            "width": null,
            "min_width": null,
            "border": null,
            "align_items": null,
            "bottom": null,
            "_model_module": "@jupyter-widgets/base",
            "top": null,
            "grid_column": null,
            "overflow_y": null,
            "overflow_x": null,
            "grid_auto_flow": null,
            "grid_area": null,
            "grid_template_columns": null,
            "flex": null,
            "_model_name": "LayoutModel",
            "justify_items": null,
            "grid_row": null,
            "max_height": null,
            "align_content": null,
            "visibility": null,
            "align_self": null,
            "height": null,
            "min_height": null,
            "padding": null,
            "grid_auto_rows": null,
            "grid_gap": null,
            "max_width": null,
            "order": null,
            "_view_module_version": "1.2.0",
            "grid_template_areas": null,
            "object_position": null,
            "object_fit": null,
            "grid_auto_columns": null,
            "margin": null,
            "display": null,
            "left": null
          }
        },
        "52c754ac008f451f8b73f013ec6dad0f": {
          "model_module": "@jupyter-widgets/controls",
          "model_name": "TabModel",
          "state": {
            "_view_name": "TabView",
            "_dom_classes": [],
            "_titles": {
              "0": "Youtube",
              "1": "Bilibili"
            },
            "_model_name": "TabModel",
            "_view_module": "@jupyter-widgets/controls",
            "selected_index": 0,
            "_model_module_version": "1.5.0",
            "_view_count": null,
            "_view_module_version": "1.5.0",
            "box_style": "",
            "layout": "IPY_MODEL_e8dd4dee02c14554afe92c80cf6a77d8",
            "_model_module": "@jupyter-widgets/controls",
            "children": [
              "IPY_MODEL_d7734f0adf3f4c4594d0708465733040",
              "IPY_MODEL_aca0cea101004d13b217249e203e8eed"
            ]
          }
        },
        "e8dd4dee02c14554afe92c80cf6a77d8": {
          "model_module": "@jupyter-widgets/base",
          "model_name": "LayoutModel",
          "state": {
            "_view_name": "LayoutView",
            "grid_template_rows": null,
            "right": null,
            "justify_content": null,
            "_view_module": "@jupyter-widgets/base",
            "overflow": null,
            "_model_module_version": "1.2.0",
            "_view_count": null,
            "flex_flow": null,
            "width": null,
            "min_width": null,
            "border": null,
            "align_items": null,
            "bottom": null,
            "_model_module": "@jupyter-widgets/base",
            "top": null,
            "grid_column": null,
            "overflow_y": null,
            "overflow_x": null,
            "grid_auto_flow": null,
            "grid_area": null,
            "grid_template_columns": null,
            "flex": null,
            "_model_name": "LayoutModel",
            "justify_items": null,
            "grid_row": null,
            "max_height": null,
            "align_content": null,
            "visibility": null,
            "align_self": null,
            "height": null,
            "min_height": null,
            "padding": null,
            "grid_auto_rows": null,
            "grid_gap": null,
            "max_width": null,
            "order": null,
            "_view_module_version": "1.2.0",
            "grid_template_areas": null,
            "object_position": null,
            "object_fit": null,
            "grid_auto_columns": null,
            "margin": null,
            "display": null,
            "left": null
          }
        },
        "d7734f0adf3f4c4594d0708465733040": {
          "model_module": "@jupyter-widgets/output",
          "model_name": "OutputModel",
          "state": {
            "_view_name": "OutputView",
            "msg_id": "",
            "_dom_classes": [],
            "_model_name": "OutputModel",
            "outputs": [
              {
                "output_type": "stream",
                "metadata": {
                  "tags": []
                },
                "text": "Video available at https://youtube.com/watch?v=ZfWO6MLCa1s\n",
                "stream": "stdout"
              },
              {
                "output_type": "display_data",
                "metadata": {
                  "tags": []
                },
                "text/html": "\n        <iframe\n            width=\"854\"\n            height=\"480\"\n            src=\"https://www.youtube.com/embed/ZfWO6MLCa1s?fs=1&rel=0\"\n            frameborder=\"0\"\n            allowfullscreen\n        ></iframe>\n        ",
                "text/plain": "<IPython.lib.display.YouTubeVideo at 0x7f8b3b7f2bd0>",
                "image/jpeg": "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\n"
              }
            ],
            "_view_module": "@jupyter-widgets/output",
            "_model_module_version": "1.0.0",
            "_view_count": null,
            "_view_module_version": "1.0.0",
            "layout": "IPY_MODEL_f8d423c2ea91467a89320ae0f5eb8df3",
            "_model_module": "@jupyter-widgets/output"
          }
        },
        "aca0cea101004d13b217249e203e8eed": {
          "model_module": "@jupyter-widgets/output",
          "model_name": "OutputModel",
          "state": {
            "_view_name": "OutputView",
            "msg_id": "",
            "_dom_classes": [],
            "_model_name": "OutputModel",
            "outputs": [
              {
                "output_type": "stream",
                "metadata": {
                  "tags": []
                },
                "text": "Video available at https://www.bilibili.com/video/BV1rb4y1C79n\n",
                "stream": "stdout"
              },
              {
                "output_type": "display_data",
                "metadata": {
                  "tags": []
                },
                "text/html": "\n        <iframe\n            width=\"854\"\n            height=\"480\"\n            src=\"https://player.bilibili.com/player.html?bvid=BV1rb4y1C79n&page=1?fs=1\"\n            frameborder=\"0\"\n            allowfullscreen\n        ></iframe>\n        ",
                "text/plain": "<__main__.BiliVideo at 0x7f8b3b7fd8d0>"
              }
            ],
            "_view_module": "@jupyter-widgets/output",
            "_model_module_version": "1.0.0",
            "_view_count": null,
            "_view_module_version": "1.0.0",
            "layout": "IPY_MODEL_0dd716b3e70148519cfc43eb7f7eaa4e",
            "_model_module": "@jupyter-widgets/output"
          }
        },
        "f8d423c2ea91467a89320ae0f5eb8df3": {
          "model_module": "@jupyter-widgets/base",
          "model_name": "LayoutModel",
          "state": {
            "_view_name": "LayoutView",
            "grid_template_rows": null,
            "right": null,
            "justify_content": null,
            "_view_module": "@jupyter-widgets/base",
            "overflow": null,
            "_model_module_version": "1.2.0",
            "_view_count": null,
            "flex_flow": null,
            "width": null,
            "min_width": null,
            "border": null,
            "align_items": null,
            "bottom": null,
            "_model_module": "@jupyter-widgets/base",
            "top": null,
            "grid_column": null,
            "overflow_y": null,
            "overflow_x": null,
            "grid_auto_flow": null,
            "grid_area": null,
            "grid_template_columns": null,
            "flex": null,
            "_model_name": "LayoutModel",
            "justify_items": null,
            "grid_row": null,
            "max_height": null,
            "align_content": null,
            "visibility": null,
            "align_self": null,
            "height": null,
            "min_height": null,
            "padding": null,
            "grid_auto_rows": null,
            "grid_gap": null,
            "max_width": null,
            "order": null,
            "_view_module_version": "1.2.0",
            "grid_template_areas": null,
            "object_position": null,
            "object_fit": null,
            "grid_auto_columns": null,
            "margin": null,
            "display": null,
            "left": null
          }
        },
        "0dd716b3e70148519cfc43eb7f7eaa4e": {
          "model_module": "@jupyter-widgets/base",
          "model_name": "LayoutModel",
          "state": {
            "_view_name": "LayoutView",
            "grid_template_rows": null,
            "right": null,
            "justify_content": null,
            "_view_module": "@jupyter-widgets/base",
            "overflow": null,
            "_model_module_version": "1.2.0",
            "_view_count": null,
            "flex_flow": null,
            "width": null,
            "min_width": null,
            "border": null,
            "align_items": null,
            "bottom": null,
            "_model_module": "@jupyter-widgets/base",
            "top": null,
            "grid_column": null,
            "overflow_y": null,
            "overflow_x": null,
            "grid_auto_flow": null,
            "grid_area": null,
            "grid_template_columns": null,
            "flex": null,
            "_model_name": "LayoutModel",
            "justify_items": null,
            "grid_row": null,
            "max_height": null,
            "align_content": null,
            "visibility": null,
            "align_self": null,
            "height": null,
            "min_height": null,
            "padding": null,
            "grid_auto_rows": null,
            "grid_gap": null,
            "max_width": null,
            "order": null,
            "_view_module_version": "1.2.0",
            "grid_template_areas": null,
            "object_position": null,
            "object_fit": null,
            "grid_auto_columns": null,
            "margin": null,
            "display": null,
            "left": null
          }
        },
        "a89d2b3a4a364675a6470874fe027516": {
          "model_module": "@jupyter-widgets/controls",
          "model_name": "TabModel",
          "state": {
            "_view_name": "TabView",
            "_dom_classes": [],
            "_titles": {
              "0": "Youtube",
              "1": "Bilibili"
            },
            "_model_name": "TabModel",
            "_view_module": "@jupyter-widgets/controls",
            "selected_index": 0,
            "_model_module_version": "1.5.0",
            "_view_count": null,
            "_view_module_version": "1.5.0",
            "box_style": "",
            "layout": "IPY_MODEL_76da4592c1864cc78ddc81da118aab1c",
            "_model_module": "@jupyter-widgets/controls",
            "children": [
              "IPY_MODEL_273d959b50064021aebc9312450f15c3",
              "IPY_MODEL_aae9bc38234440fcb856d51f2f182f3c"
            ]
          }
        },
        "76da4592c1864cc78ddc81da118aab1c": {
          "model_module": "@jupyter-widgets/base",
          "model_name": "LayoutModel",
          "state": {
            "_view_name": "LayoutView",
            "grid_template_rows": null,
            "right": null,
            "justify_content": null,
            "_view_module": "@jupyter-widgets/base",
            "overflow": null,
            "_model_module_version": "1.2.0",
            "_view_count": null,
            "flex_flow": null,
            "width": null,
            "min_width": null,
            "border": null,
            "align_items": null,
            "bottom": null,
            "_model_module": "@jupyter-widgets/base",
            "top": null,
            "grid_column": null,
            "overflow_y": null,
            "overflow_x": null,
            "grid_auto_flow": null,
            "grid_area": null,
            "grid_template_columns": null,
            "flex": null,
            "_model_name": "LayoutModel",
            "justify_items": null,
            "grid_row": null,
            "max_height": null,
            "align_content": null,
            "visibility": null,
            "align_self": null,
            "height": null,
            "min_height": null,
            "padding": null,
            "grid_auto_rows": null,
            "grid_gap": null,
            "max_width": null,
            "order": null,
            "_view_module_version": "1.2.0",
            "grid_template_areas": null,
            "object_position": null,
            "object_fit": null,
            "grid_auto_columns": null,
            "margin": null,
            "display": null,
            "left": null
          }
        },
        "273d959b50064021aebc9312450f15c3": {
          "model_module": "@jupyter-widgets/output",
          "model_name": "OutputModel",
          "state": {
            "_view_name": "OutputView",
            "msg_id": "",
            "_dom_classes": [],
            "_model_name": "OutputModel",
            "outputs": [
              {
                "output_type": "stream",
                "metadata": {
                  "tags": []
                },
                "text": "Video available at https://youtube.com/watch?v=rLQk-vXRaX0\n",
                "stream": "stdout"
              },
              {
                "output_type": "display_data",
                "metadata": {
                  "tags": []
                },
                "text/html": "\n        <iframe\n            width=\"854\"\n            height=\"480\"\n            src=\"https://www.youtube.com/embed/rLQk-vXRaX0?fs=1&rel=0\"\n            frameborder=\"0\"\n            allowfullscreen\n        ></iframe>\n        ",
                "text/plain": "<IPython.lib.display.YouTubeVideo at 0x7f8b3b394c90>",
                "image/jpeg": "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\n"
              }
            ],
            "_view_module": "@jupyter-widgets/output",
            "_model_module_version": "1.0.0",
            "_view_count": null,
            "_view_module_version": "1.0.0",
            "layout": "IPY_MODEL_80528dcd916243b6be8e1963d8ac017d",
            "_model_module": "@jupyter-widgets/output"
          }
        },
        "aae9bc38234440fcb856d51f2f182f3c": {
          "model_module": "@jupyter-widgets/output",
          "model_name": "OutputModel",
          "state": {
            "_view_name": "OutputView",
            "msg_id": "",
            "_dom_classes": [],
            "_model_name": "OutputModel",
            "outputs": [
              {
                "output_type": "stream",
                "metadata": {
                  "tags": []
                },
                "text": "Video available at https://www.bilibili.com/video/BV1gX4y1P7pZ\n",
                "stream": "stdout"
              },
              {
                "output_type": "display_data",
                "metadata": {
                  "tags": []
                },
                "text/html": "\n        <iframe\n            width=\"854\"\n            height=\"480\"\n            src=\"https://player.bilibili.com/player.html?bvid=BV1gX4y1P7pZ&page=1?fs=1\"\n            frameborder=\"0\"\n            allowfullscreen\n        ></iframe>\n        ",
                "text/plain": "<__main__.BiliVideo at 0x7f8b3b7fddd0>"
              }
            ],
            "_view_module": "@jupyter-widgets/output",
            "_model_module_version": "1.0.0",
            "_view_count": null,
            "_view_module_version": "1.0.0",
            "layout": "IPY_MODEL_c31aca87204248b8b96b47df9af5a3e7",
            "_model_module": "@jupyter-widgets/output"
          }
        },
        "80528dcd916243b6be8e1963d8ac017d": {
          "model_module": "@jupyter-widgets/base",
          "model_name": "LayoutModel",
          "state": {
            "_view_name": "LayoutView",
            "grid_template_rows": null,
            "right": null,
            "justify_content": null,
            "_view_module": "@jupyter-widgets/base",
            "overflow": null,
            "_model_module_version": "1.2.0",
            "_view_count": null,
            "flex_flow": null,
            "width": null,
            "min_width": null,
            "border": null,
            "align_items": null,
            "bottom": null,
            "_model_module": "@jupyter-widgets/base",
            "top": null,
            "grid_column": null,
            "overflow_y": null,
            "overflow_x": null,
            "grid_auto_flow": null,
            "grid_area": null,
            "grid_template_columns": null,
            "flex": null,
            "_model_name": "LayoutModel",
            "justify_items": null,
            "grid_row": null,
            "max_height": null,
            "align_content": null,
            "visibility": null,
            "align_self": null,
            "height": null,
            "min_height": null,
            "padding": null,
            "grid_auto_rows": null,
            "grid_gap": null,
            "max_width": null,
            "order": null,
            "_view_module_version": "1.2.0",
            "grid_template_areas": null,
            "object_position": null,
            "object_fit": null,
            "grid_auto_columns": null,
            "margin": null,
            "display": null,
            "left": null
          }
        },
        "c31aca87204248b8b96b47df9af5a3e7": {
          "model_module": "@jupyter-widgets/base",
          "model_name": "LayoutModel",
          "state": {
            "_view_name": "LayoutView",
            "grid_template_rows": null,
            "right": null,
            "justify_content": null,
            "_view_module": "@jupyter-widgets/base",
            "overflow": null,
            "_model_module_version": "1.2.0",
            "_view_count": null,
            "flex_flow": null,
            "width": null,
            "min_width": null,
            "border": null,
            "align_items": null,
            "bottom": null,
            "_model_module": "@jupyter-widgets/base",
            "top": null,
            "grid_column": null,
            "overflow_y": null,
            "overflow_x": null,
            "grid_auto_flow": null,
            "grid_area": null,
            "grid_template_columns": null,
            "flex": null,
            "_model_name": "LayoutModel",
            "justify_items": null,
            "grid_row": null,
            "max_height": null,
            "align_content": null,
            "visibility": null,
            "align_self": null,
            "height": null,
            "min_height": null,
            "padding": null,
            "grid_auto_rows": null,
            "grid_gap": null,
            "max_width": null,
            "order": null,
            "_view_module_version": "1.2.0",
            "grid_template_areas": null,
            "object_position": null,
            "object_fit": null,
            "grid_auto_columns": null,
            "margin": null,
            "display": null,
            "left": null
          }
        },
        "74933f67c75043ad991d822e18dbd13b": {
          "model_module": "@jupyter-widgets/controls",
          "model_name": "TabModel",
          "state": {
            "_view_name": "TabView",
            "_dom_classes": [],
            "_titles": {
              "0": "Youtube",
              "1": "Bilibili"
            },
            "_model_name": "TabModel",
            "_view_module": "@jupyter-widgets/controls",
            "selected_index": 0,
            "_model_module_version": "1.5.0",
            "_view_count": null,
            "_view_module_version": "1.5.0",
            "box_style": "",
            "layout": "IPY_MODEL_ce57b94bc34948179f0cfc807d340c93",
            "_model_module": "@jupyter-widgets/controls",
            "children": [
              "IPY_MODEL_45989e5d13074992907263cc74cbf926",
              "IPY_MODEL_f73bb68f4ae548318419f2e45dc021f8"
            ]
          }
        },
        "ce57b94bc34948179f0cfc807d340c93": {
          "model_module": "@jupyter-widgets/base",
          "model_name": "LayoutModel",
          "state": {
            "_view_name": "LayoutView",
            "grid_template_rows": null,
            "right": null,
            "justify_content": null,
            "_view_module": "@jupyter-widgets/base",
            "overflow": null,
            "_model_module_version": "1.2.0",
            "_view_count": null,
            "flex_flow": null,
            "width": null,
            "min_width": null,
            "border": null,
            "align_items": null,
            "bottom": null,
            "_model_module": "@jupyter-widgets/base",
            "top": null,
            "grid_column": null,
            "overflow_y": null,
            "overflow_x": null,
            "grid_auto_flow": null,
            "grid_area": null,
            "grid_template_columns": null,
            "flex": null,
            "_model_name": "LayoutModel",
            "justify_items": null,
            "grid_row": null,
            "max_height": null,
            "align_content": null,
            "visibility": null,
            "align_self": null,
            "height": null,
            "min_height": null,
            "padding": null,
            "grid_auto_rows": null,
            "grid_gap": null,
            "max_width": null,
            "order": null,
            "_view_module_version": "1.2.0",
            "grid_template_areas": null,
            "object_position": null,
            "object_fit": null,
            "grid_auto_columns": null,
            "margin": null,
            "display": null,
            "left": null
          }
        },
        "45989e5d13074992907263cc74cbf926": {
          "model_module": "@jupyter-widgets/output",
          "model_name": "OutputModel",
          "state": {
            "_view_name": "OutputView",
            "msg_id": "",
            "_dom_classes": [],
            "_model_name": "OutputModel",
            "outputs": [
              {
                "output_type": "stream",
                "metadata": {
                  "tags": []
                },
                "text": "Video available at https://youtube.com/watch?v=VzwLAW5p4ao\n",
                "stream": "stdout"
              },
              {
                "output_type": "display_data",
                "metadata": {
                  "tags": []
                },
                "text/html": "\n        <iframe\n            width=\"854\"\n            height=\"480\"\n            src=\"https://www.youtube.com/embed/VzwLAW5p4ao?fs=1&rel=0\"\n            frameborder=\"0\"\n            allowfullscreen\n        ></iframe>\n        ",
                "text/plain": "<IPython.lib.display.YouTubeVideo at 0x7f8b4134b1d0>",
                "image/jpeg": "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\n"
              }
            ],
            "_view_module": "@jupyter-widgets/output",
            "_model_module_version": "1.0.0",
            "_view_count": null,
            "_view_module_version": "1.0.0",
            "layout": "IPY_MODEL_02148cde4d1f463e850b8729bd33fd34",
            "_model_module": "@jupyter-widgets/output"
          }
        },
        "f73bb68f4ae548318419f2e45dc021f8": {
          "model_module": "@jupyter-widgets/output",
          "model_name": "OutputModel",
          "state": {
            "_view_name": "OutputView",
            "msg_id": "",
            "_dom_classes": [],
            "_model_name": "OutputModel",
            "outputs": [
              {
                "output_type": "stream",
                "metadata": {
                  "tags": []
                },
                "text": "Video available at https://www.bilibili.com/video/BV1jV411x7t9\n",
                "stream": "stdout"
              },
              {
                "output_type": "display_data",
                "metadata": {
                  "tags": []
                },
                "text/html": "\n        <iframe\n            width=\"854\"\n            height=\"480\"\n            src=\"https://player.bilibili.com/player.html?bvid=BV1jV411x7t9&page=1?fs=1\"\n            frameborder=\"0\"\n            allowfullscreen\n        ></iframe>\n        ",
                "text/plain": "<__main__.BiliVideo at 0x7f8b3b39ccd0>"
              }
            ],
            "_view_module": "@jupyter-widgets/output",
            "_model_module_version": "1.0.0",
            "_view_count": null,
            "_view_module_version": "1.0.0",
            "layout": "IPY_MODEL_0d7306500b9c48d89b8f649864bf07fa",
            "_model_module": "@jupyter-widgets/output"
          }
        },
        "02148cde4d1f463e850b8729bd33fd34": {
          "model_module": "@jupyter-widgets/base",
          "model_name": "LayoutModel",
          "state": {
            "_view_name": "LayoutView",
            "grid_template_rows": null,
            "right": null,
            "justify_content": null,
            "_view_module": "@jupyter-widgets/base",
            "overflow": null,
            "_model_module_version": "1.2.0",
            "_view_count": null,
            "flex_flow": null,
            "width": null,
            "min_width": null,
            "border": null,
            "align_items": null,
            "bottom": null,
            "_model_module": "@jupyter-widgets/base",
            "top": null,
            "grid_column": null,
            "overflow_y": null,
            "overflow_x": null,
            "grid_auto_flow": null,
            "grid_area": null,
            "grid_template_columns": null,
            "flex": null,
            "_model_name": "LayoutModel",
            "justify_items": null,
            "grid_row": null,
            "max_height": null,
            "align_content": null,
            "visibility": null,
            "align_self": null,
            "height": null,
            "min_height": null,
            "padding": null,
            "grid_auto_rows": null,
            "grid_gap": null,
            "max_width": null,
            "order": null,
            "_view_module_version": "1.2.0",
            "grid_template_areas": null,
            "object_position": null,
            "object_fit": null,
            "grid_auto_columns": null,
            "margin": null,
            "display": null,
            "left": null
          }
        },
        "0d7306500b9c48d89b8f649864bf07fa": {
          "model_module": "@jupyter-widgets/base",
          "model_name": "LayoutModel",
          "state": {
            "_view_name": "LayoutView",
            "grid_template_rows": null,
            "right": null,
            "justify_content": null,
            "_view_module": "@jupyter-widgets/base",
            "overflow": null,
            "_model_module_version": "1.2.0",
            "_view_count": null,
            "flex_flow": null,
            "width": null,
            "min_width": null,
            "border": null,
            "align_items": null,
            "bottom": null,
            "_model_module": "@jupyter-widgets/base",
            "top": null,
            "grid_column": null,
            "overflow_y": null,
            "overflow_x": null,
            "grid_auto_flow": null,
            "grid_area": null,
            "grid_template_columns": null,
            "flex": null,
            "_model_name": "LayoutModel",
            "justify_items": null,
            "grid_row": null,
            "max_height": null,
            "align_content": null,
            "visibility": null,
            "align_self": null,
            "height": null,
            "min_height": null,
            "padding": null,
            "grid_auto_rows": null,
            "grid_gap": null,
            "max_width": null,
            "order": null,
            "_view_module_version": "1.2.0",
            "grid_template_areas": null,
            "object_position": null,
            "object_fit": null,
            "grid_auto_columns": null,
            "margin": null,
            "display": null,
            "left": null
          }
        }
      }
    }
  },
  "cells": [
    {
      "cell_type": "markdown",
      "metadata": {
        "id": "view-in-github",
        "colab_type": "text"
      },
      "source": [
        "<a href=\"https://colab.research.google.com/github/NeuromatchAcademy/course-content/blob/waxed_W0D4/tutorials/W0D4_Calculus/W0D4_Tutorial2.ipynb\" target=\"_parent\"><img src=\"https://colab.research.google.com/assets/colab-badge.svg\" alt=\"Open In Colab\"/></a>"
      ]
    },
    {
      "cell_type": "markdown",
      "metadata": {
        "id": "08842220"
      },
      "source": [
        "# Tutorial 2: Differential Equations\n",
        "**Week 0, Day 4: Calculus**\n",
        "\n",
        "**By Neuromatch Academy**\n",
        "\n",
        "__Content creators:__ John S Butler, Arvind Kumar with help from Rebecca Brady\n",
        "\n",
        "__Content reviewers:__  Swapnil Kumar, Sirisha Sripada, Matthew McCann, Tessy Tom\n",
        "\n",
        "__Production editors:__ Matthew McCann, Ella Batty"
      ],
      "id": "08842220"
    },
    {
      "cell_type": "markdown",
      "metadata": {
        "id": "gK0EQXTiH5W2"
      },
      "source": [
        "**Our 2021 Sponsors, including Presenting Sponsor Facebook Reality Labs**\n",
        "\n",
        "<p align='center'><img src='https://github.com/NeuromatchAcademy/widgets/blob/master/sponsors.png?raw=True'/></p>"
      ],
      "id": "gK0EQXTiH5W2"
    },
    {
      "cell_type": "markdown",
      "metadata": {
        "id": "7d80998b"
      },
      "source": [
        "---\n",
        "# Tutorial Objectives\n",
        "\n",
        "A great deal of neuroscience can be modelled using differential equations, from gating channels to single neurons to a network of neurons to blood flow, to behaviour. A simple way to think about differential equations is they are equations that describe how something changes. \n",
        "\n",
        "The most famous of these in neuroscience is the Nobel Prize winning Hodgkin Huxley equation, which describes a neuron by modelling the gating of each axon. But we will not start there; we will start a few steps back.\n",
        "\n",
        "Differential Equations are mathematical equations that describe how something like population or a neuron changes over time. The reason why differential equations are so useful is they can generalise a process such that one equation can be used to describe many different outcomes.\n",
        "The general form of a first order differential equation is:\n",
        "\n",
        "\\begin{align*}\n",
        "\\frac{d}{dt}y(t)&=f(t,y(t))\\\\\n",
        "\\end{align*}\n",
        "\n",
        "which can be read as \"the change in a process $y$ over time $t$ is a function $f$ of time $t$ and itself $y$\". This might initially seem like a paradox as you are using a process $y$ you want to know about to describe itself, a bit like the MC Escher drawing of two hands painting [each other](https://en.wikipedia.org/wiki/Drawing_Hands). But that is the beauty of mathematics - this can be solved some of time, and when it cannot be solved exactly we can use numerical methods to estimate the answer (as we will see in the next tutorial). \n",
        "\n",
        "\n",
        "In this tutorial, we will see how __differential equations are motivated by observations of physical responses.__ We will break down the population differential equation, then the integrate and fire model, which leads nicely into raster plots and frequency-current curves to rate models.\n",
        "\n",
        "**Steps:**\n",
        "- Get an intuitive understanding of a linear population differential equation (humans, not neurons)\n",
        "- Visualize the relationship between the change in population and the population\n",
        "- Breakdown the Leaky Integrate and Fire (LIF) differential equation\n",
        "- Code the exact solution of an LIF for a constant input\n",
        "- Visualize and listen to the response of the LIF for different inputs\n"
      ],
      "id": "7d80998b"
    },
    {
      "cell_type": "code",
      "metadata": {
        "cellView": "form",
        "execution": {
          "iopub.execute_input": "2021-06-27T21:22:37.605239Z",
          "iopub.status.busy": "2021-06-27T21:22:37.604721Z",
          "iopub.status.idle": "2021-06-27T21:22:37.617946Z",
          "shell.execute_reply": "2021-06-27T21:22:37.618412Z"
        },
        "id": "usdpbbBl8uHE"
      },
      "source": [
        "#@markdown Tutorial Slides\n",
        "# you should link the slides for all tutorial videos here (we will store pdfs on osf)\n",
        "\n",
        "from IPython.display import HTML\n",
        "HTML('<iframe src=\"\" frameborder=\"0\" width=\"960\" height=\"569\" allowfullscreen=\"true\" mozallowfullscreen=\"true\" webkitallowfullscreen=\"true\"></iframe>')"
      ],
      "id": "usdpbbBl8uHE",
      "execution_count": null,
      "outputs": []
    },
    {
      "cell_type": "code",
      "metadata": {
        "execution": {
          "iopub.execute_input": "2021-06-27T21:22:37.626113Z",
          "iopub.status.busy": "2021-06-27T21:22:37.625072Z",
          "iopub.status.idle": "2021-06-27T21:22:37.760544Z",
          "shell.execute_reply": "2021-06-27T21:22:37.761441Z"
        },
        "id": "DIZfUH4rQNSR",
        "outputId": "efdcfa06-f004-4c90-cc8f-a7cc8270591f",
        "colab": {
          "base_uri": "https://localhost:8080/",
          "height": 580,
          "referenced_widgets": [
            "5b52cfeb62f64f87963a384f8c3d8618",
            "b4e54405d78b435985a5218c2a0c03b5",
            "3d84d520049f455dbaf8d3568252eaa2",
            "d6f1668d3a524fed9304e5add9a5dfe2",
            "008dd63731564f1d885690f8e5cb05ff",
            "a38b4ee674074863bf32e0a2ebdb4cc9"
          ]
        }
      },
      "source": [
        "# @title Video 1: Why do we care about differential equations?\n",
        "from ipywidgets import widgets\n",
        "\n",
        "out2 = widgets.Output()\n",
        "with out2:\n",
        "  from IPython.display import IFrame\n",
        "  class BiliVideo(IFrame):\n",
        "      def __init__(self, id, page=1, width=400, height=300, **kwargs):\n",
        "          self.id=id\n",
        "          src = 'https://player.bilibili.com/player.html?bvid={0}&page={1}'.format(id, page)\n",
        "          super(BiliVideo, self).__init__(src, width, height, **kwargs)\n",
        "\n",
        "  video = BiliVideo(id=\"BV1v64y197bW\", width=854, height=480, fs=1)\n",
        "  print('Video available at https://www.bilibili.com/video/{0}'.format(video.id))\n",
        "  display(video)\n",
        "\n",
        "out1 = widgets.Output()\n",
        "with out1:\n",
        "  from IPython.display import YouTubeVideo\n",
        "  video = YouTubeVideo(id=\"LhX-mUd8lPo\", width=854, height=480, fs=1, rel=0)\n",
        "  print('Video available at https://youtube.com/watch?v=' + video.id)\n",
        "  display(video)\n",
        "\n",
        "out = widgets.Tab([out1, out2])\n",
        "out.set_title(0, 'Youtube')\n",
        "out.set_title(1, 'Bilibili')\n",
        "\n",
        "display(out)"
      ],
      "id": "DIZfUH4rQNSR",
      "execution_count": 1,
      "outputs": [
        {
          "output_type": "display_data",
          "data": {
            "application/vnd.jupyter.widget-view+json": {
              "model_id": "5b52cfeb62f64f87963a384f8c3d8618",
              "version_minor": 0,
              "version_major": 2
            },
            "text/plain": [
              "Tab(children=(Output(), Output()), _titles={'0': 'Youtube', '1': 'Bilibili'})"
            ]
          },
          "metadata": {
            "tags": []
          }
        }
      ]
    },
    {
      "cell_type": "markdown",
      "metadata": {
        "id": "kq1fWqhyNJ3i"
      },
      "source": [
        "---\n",
        "# Setup"
      ],
      "id": "kq1fWqhyNJ3i"
    },
    {
      "cell_type": "code",
      "metadata": {
        "execution": {
          "iopub.execute_input": "2021-06-27T21:22:37.776454Z",
          "iopub.status.busy": "2021-06-27T21:22:37.775913Z",
          "iopub.status.idle": "2021-06-27T21:22:38.091238Z",
          "shell.execute_reply": "2021-06-27T21:22:38.090656Z"
        },
        "id": "a5985801"
      },
      "source": [
        "# Imports\n",
        "\n",
        "import numpy as np\n",
        "import matplotlib.pyplot as plt"
      ],
      "id": "a5985801",
      "execution_count": null,
      "outputs": []
    },
    {
      "cell_type": "code",
      "metadata": {
        "cellView": "form",
        "execution": {
          "iopub.execute_input": "2021-06-27T21:22:38.102274Z",
          "iopub.status.busy": "2021-06-27T21:22:38.101632Z",
          "iopub.status.idle": "2021-06-27T21:22:38.139770Z",
          "shell.execute_reply": "2021-06-27T21:22:38.139334Z"
        },
        "id": "d40abcd8"
      },
      "source": [
        "# @title Figure Settings\n",
        "import IPython.display as ipd\n",
        "from matplotlib import gridspec\n",
        "\n",
        "import ipywidgets as widgets  # interactive display\n",
        "%config InlineBackend.figure_format = 'retina'\n",
        "\n",
        "# use NMA plot style\n",
        "plt.style.use(\"https://raw.githubusercontent.com/NeuromatchAcademy/course-content/master/nma.mplstyle\")\n",
        "my_layout = widgets.Layout()"
      ],
      "id": "d40abcd8",
      "execution_count": null,
      "outputs": []
    },
    {
      "cell_type": "code",
      "metadata": {
        "cellView": "form",
        "execution": {
          "iopub.execute_input": "2021-06-27T21:22:38.148309Z",
          "iopub.status.busy": "2021-06-27T21:22:38.141897Z",
          "iopub.status.idle": "2021-06-27T21:22:38.158852Z",
          "shell.execute_reply": "2021-06-27T21:22:38.158400Z"
        },
        "id": "6XJo_I6_NbJg"
      },
      "source": [
        "# @title Plotting Functions\n",
        "\n",
        "def plot_dPdt(alpha=.3):\n",
        "  \"\"\" Plots change in population over time\n",
        "    Args:\n",
        "      alpha: Birth Rate\n",
        "    Returns:\n",
        "      A figure two panel figure\n",
        "      left panel: change in population as a function of population\n",
        "      right panel: membrane potential as a function of time\n",
        "  \"\"\"\n",
        "\n",
        "  with plt.xkcd():\n",
        "    time=np.arange(0, 10 ,0.01)\n",
        "    fig = plt.figure(figsize=(12,4))\n",
        "    gs = gridspec.GridSpec(1, 2)\n",
        "\n",
        "    ## dpdt as a fucntion of p\n",
        "    plt.subplot(gs[0])\n",
        "    plt.plot(np.exp(alpha*time), alpha*np.exp(alpha*time))\n",
        "    plt.xlabel(r'Population $p(t)$ (millions)')\n",
        "    plt.ylabel(r'$\\frac{d}{dt}p(t)=\\alpha p(t)$')\n",
        "\n",
        "    ## p exact solution\n",
        "    plt.subplot(gs[1])\n",
        "    plt.plot(time, np.exp(alpha*time))\n",
        "    plt.ylabel(r'Population $p(t)$ (millions)')\n",
        "    plt.xlabel('time (years)')\n",
        "    plt.show()\n",
        "\n",
        "\n",
        "def plot_V_no_input(V_reset=-75):\n",
        "  \"\"\"\n",
        "    Args:\n",
        "      V_reset: Reset Potential\n",
        "    Returns:\n",
        "      A figure two panel figure\n",
        "      left panel: change in membrane potential as a function of membrane potential\n",
        "      right panel: membrane potential as a function of time\n",
        "  \"\"\"\n",
        "  E_L=-75\n",
        "  tau_m=10\n",
        "  t=np.arange(0,100,0.01)\n",
        "  V= E_L+(V_reset-E_L)*np.exp(-(t)/tau_m)\n",
        "  V_range=np.arange(-90,0,1)\n",
        "  dVdt=-(V_range-E_L)/tau_m\n",
        "\n",
        "  with plt.xkcd():\n",
        "    time=np.arange(0, 10, 0.01)\n",
        "    fig = plt.figure(figsize=(12, 4))\n",
        "    gs = gridspec.GridSpec(1, 2)\n",
        "\n",
        "    plt.subplot(gs[0])\n",
        "    plt.plot(V_range,dVdt)\n",
        "    plt.hlines(0,min(V_range),max(V_range), colors='black', linestyles='dashed')\n",
        "    plt.vlines(-75, min(dVdt), max(dVdt), colors='black', linestyles='dashed')\n",
        "    plt.plot(V_reset,-(V_reset - E_L)/tau_m, 'o', label=r'$V_{reset}$')\n",
        "    plt.text(-50, 1, 'Positive')\n",
        "    plt.text(-50, -2, 'Negative')\n",
        "    plt.text(E_L - 1, max(dVdt), r'$E_L$')\n",
        "    plt.legend()\n",
        "    plt.xlabel('Membrane Potential V (mV)')\n",
        "    plt.ylabel(r'$\\frac{dV}{dt}=\\frac{-(V(t)-E_L)}{\\tau_m}$')\n",
        "\n",
        "    plt.subplot(gs[1])\n",
        "    plt.plot(t,V)\n",
        "    plt.plot(t[0],V_reset,'o')\n",
        "    plt.ylabel(r'Membrane Potential $V(t)$ (mV)')\n",
        "    plt.xlabel('time (ms)')\n",
        "    plt.ylim([-95, -60])\n",
        "\n",
        "    plt.show()\n",
        "\n",
        "## LIF PLOT\n",
        "def plot_IF(t, V,I,Spike_time):\n",
        "  \"\"\"\n",
        "    Args:\n",
        "      t  : time\n",
        "      V  : membrane Voltage\n",
        "      I  : Input\n",
        "      Spike_time : Spike_times\n",
        "    Returns:\n",
        "      figure with three panels\n",
        "      top panel: Input as a function of time\n",
        "      middle panel: membrane potential as a function of time\n",
        "      bottom panel: Raster plot\n",
        "  \"\"\"\n",
        "\n",
        "  with plt.xkcd():\n",
        "    fig = plt.figure(figsize=(12, 4))\n",
        "    gs = gridspec.GridSpec(3, 1,  height_ratios=[1, 4, 1])\n",
        "\n",
        "    # PLOT OF INPUT\n",
        "    plt.subplot(gs[0])\n",
        "    plt.ylabel(r'$I_e(nA)$')\n",
        "    plt.yticks(rotation=45)\n",
        "    plt.hlines(I,min(t),max(t),'g')\n",
        "    plt.ylim((2, 4))\n",
        "    plt.xlim((-50, 1000))\n",
        "\n",
        "    # PLOT OF ACTIVITY\n",
        "    plt.subplot(gs[1])\n",
        "    plt.plot(t,V)\n",
        "    plt.xlim((-50, 1000))\n",
        "    plt.ylabel(r'$V(t)$(mV)')\n",
        "\n",
        "    # PLOT OF SPIKES\n",
        "    plt.subplot(gs[2])\n",
        "    plt.ylabel(r'Spike')\n",
        "    plt.yticks([])\n",
        "    plt.scatter(Spike_time, 1 * np.ones(len(Spike_time)), color=\"grey\", marker=\".\")\n",
        "    plt.xlim((-50, 1000))\n",
        "    plt.xlabel('time(ms)')\n",
        "    plt.show()\n",
        "\n",
        "\n",
        "##    Plotting the differential Equation\n",
        "def plot_dVdt(I=0):\n",
        "  \"\"\"\n",
        "    Args:\n",
        "      I  : Input Current\n",
        "    Returns:\n",
        "      figure of change in membrane potential as a function of membrane potential\n",
        "  \"\"\"\n",
        "\n",
        "  with plt.xkcd():\n",
        "    E_L = -75\n",
        "    tau_m = 10\n",
        "    V = np.arange(-85, 0, 1)\n",
        "    g_L = 10.\n",
        "    fig = plt.figure(figsize=(6, 4))\n",
        "\n",
        "    plt.plot(V,(-(V-E_L) + I*10) / tau_m)\n",
        "    plt.hlines(0, min(V), max(V), colors='black', linestyles='dashed')\n",
        "    plt.xlabel('V (mV)')\n",
        "    plt.ylabel(r'$\\frac{dV}{dt}$')\n",
        "    plt.show()"
      ],
      "id": "6XJo_I6_NbJg",
      "execution_count": null,
      "outputs": []
    },
    {
      "cell_type": "code",
      "metadata": {
        "cellView": "form",
        "execution": {
          "iopub.execute_input": "2021-06-27T21:22:38.165625Z",
          "iopub.status.busy": "2021-06-27T21:22:38.164393Z",
          "iopub.status.idle": "2021-06-27T21:22:38.166227Z",
          "shell.execute_reply": "2021-06-27T21:22:38.166682Z"
        },
        "id": "d88bf487"
      },
      "source": [
        "# @title Helper Functions\n",
        "\n",
        "## EXACT SOLUTION OF LIF\n",
        "def Exact_Integrate_and_Fire(I,t):\n",
        "  \"\"\"\n",
        "    Args:\n",
        "      I  : Input Current\n",
        "      t : time\n",
        "    Returns:\n",
        "      Spike : Spike Count\n",
        "      Spike_time : Spike time\n",
        "      V_exact : Exact membrane potential\n",
        "  \"\"\"\n",
        "\n",
        "  Spike = 0\n",
        "  tau_m = 10\n",
        "  R = 10\n",
        "  t_isi = 0\n",
        "  V_reset = E_L = -75\n",
        "  V_exact = V_reset * np.ones(len(t))\n",
        "  V_th = -50\n",
        "  Spike_time = []\n",
        "\n",
        "  for i in range(0, len(t)):\n",
        "\n",
        "    V_exact[i] = E_L + R*I + (V_reset - E_L - R*I) * np.exp(-(t[i]-t_isi)/tau_m)\n",
        "\n",
        "    # Threshold Reset\n",
        "    if V_exact[i] > V_th:\n",
        "        V_exact[i-1] = 0\n",
        "        V_exact[i] = V_reset\n",
        "        t_isi = t[i]\n",
        "        Spike = Spike+1\n",
        "        Spike_time = np.append(Spike_time, t[i])\n",
        "\n",
        "  return Spike, Spike_time, V_exact"
      ],
      "id": "d88bf487",
      "execution_count": null,
      "outputs": []
    },
    {
      "cell_type": "markdown",
      "metadata": {
        "id": "AcwNWVdsQgLz"
      },
      "source": [
        "---\n",
        "# Section 1: Population differential equation"
      ],
      "id": "AcwNWVdsQgLz"
    },
    {
      "cell_type": "code",
      "metadata": {
        "execution": {
          "iopub.execute_input": "2021-06-27T21:22:38.178403Z",
          "iopub.status.busy": "2021-06-27T21:22:38.177647Z",
          "iopub.status.idle": "2021-06-27T21:22:38.266390Z",
          "shell.execute_reply": "2021-06-27T21:22:38.264029Z"
        },
        "id": "LRwtiFPVQ3Pz",
        "outputId": "6a89318d-ea98-46fb-91a4-babad6d92bc2",
        "colab": {
          "base_uri": "https://localhost:8080/",
          "height": 580,
          "referenced_widgets": [
            "1870a823bdf944a2b61860fb5de8efb0",
            "1d495945d6b349bbb074e0ba0f0ef8b4",
            "96906719477b4eebb39f98af58762c3f",
            "a29e35dc087e48268b737f627b1ab8bd",
            "d30166497fdd4abdaed762a8c2cbc481",
            "5f89ca777b284ccaa33921a5ab41e8d3"
          ]
        }
      },
      "source": [
        "# @title Video 2: Population differential equation\n",
        "from ipywidgets import widgets\n",
        "\n",
        "out2 = widgets.Output()\n",
        "with out2:\n",
        "  from IPython.display import IFrame\n",
        "  class BiliVideo(IFrame):\n",
        "      def __init__(self, id, page=1, width=400, height=300, **kwargs):\n",
        "          self.id=id\n",
        "          src = 'https://player.bilibili.com/player.html?bvid={0}&page={1}'.format(id, page)\n",
        "          super(BiliVideo, self).__init__(src, width, height, **kwargs)\n",
        "\n",
        "  video = BiliVideo(id=\"BV1pg41137CU\", width=854, height=480, fs=1)\n",
        "  print('Video available at https://www.bilibili.com/video/{0}'.format(video.id))\n",
        "  display(video)\n",
        "\n",
        "out1 = widgets.Output()\n",
        "with out1:\n",
        "  from IPython.display import YouTubeVideo\n",
        "  video = YouTubeVideo(id=\"czgGyoUsRoQ\", width=854, height=480, fs=1, rel=0)\n",
        "  print('Video available at https://youtube.com/watch?v=' + video.id)\n",
        "  display(video)\n",
        "\n",
        "out = widgets.Tab([out1, out2])\n",
        "out.set_title(0, 'Youtube')\n",
        "out.set_title(1, 'Bilibili')\n",
        "\n",
        "display(out)"
      ],
      "id": "LRwtiFPVQ3Pz",
      "execution_count": 2,
      "outputs": [
        {
          "output_type": "display_data",
          "data": {
            "application/vnd.jupyter.widget-view+json": {
              "model_id": "1870a823bdf944a2b61860fb5de8efb0",
              "version_minor": 0,
              "version_major": 2
            },
            "text/plain": [
              "Tab(children=(Output(), Output()), _titles={'0': 'Youtube', '1': 'Bilibili'})"
            ]
          },
          "metadata": {
            "tags": []
          }
        }
      ]
    },
    {
      "cell_type": "markdown",
      "metadata": {
        "id": "286b4298"
      },
      "source": [
        "This video covers our first example of a differential equation: a differential equation which models the change in population.\n",
        "\n",
        "<details>\n",
        "<summary> <font color='blue'>Click here for text recap of video </font></summary>\n",
        "\n",
        "To get an intuitive feel of a differential equations, we will start with a population differential equation, which models the change in population [1], that is human population not neurons, we will get to neurons later. Mathematically it is written like:\n",
        "\\begin{align*}\n",
        "\\\\\n",
        "\\frac{d}{dt}\\,p(t) &= \\alpha p(t),\\\\\n",
        "\\end{align*}\n",
        "\n",
        "where $p(t)$ is the population of the world and $\\alpha$ is a parameter representing birth rate.\n",
        "\n",
        "Another way of thinking about the models is that the equation\n",
        "\\begin{align*}\n",
        "\\\\\n",
        "\\frac{d}{dt}\\,p(t) &= \\alpha p(t),\\\\\n",
        "\\text{can be written as:}\\\\\n",
        "\\text{\"Change in Population\"} &= \\text{ \"Birth rate times Current population.\"}\n",
        "\\end{align*}\n",
        "\n",
        "The equation is saying something reasonable maybe not the perfect model but a good start.\n",
        "</details>"
      ],
      "id": "286b4298"
    },
    {
      "cell_type": "markdown",
      "metadata": {
        "id": "njGc4mc4ASXb"
      },
      "source": [
        "### Think! 1.1: Interpretating the behavior of a linear population equation\n",
        "Using the plot below of change of population $\\frac{d}{dt} p(t) $ as a function of population $p(t)$ with birth-rate $\\alpha=0.3$, discuss the following questions:\n",
        "1. Why is the population differential equation known as a linear differential equation?\n",
        "\n",
        "2. How does population size affect the rate of change of the population?\n"
      ],
      "id": "njGc4mc4ASXb"
    },
    {
      "cell_type": "code",
      "metadata": {
        "cellView": "form",
        "execution": {
          "iopub.execute_input": "2021-06-27T21:22:38.291960Z",
          "iopub.status.busy": "2021-06-27T21:22:38.274350Z",
          "iopub.status.idle": "2021-06-27T21:22:38.728739Z",
          "shell.execute_reply": "2021-06-27T21:22:38.728289Z"
        },
        "id": "8e37083e"
      },
      "source": [
        "# @markdown Execute the code to plot the rate of change of population as a function of population\n",
        "p = np.arange(0, 100, 0.1)\n",
        "\n",
        "with plt.xkcd():\n",
        "\n",
        "  dpdt = 0.3*p\n",
        "  fig = plt.figure(figsize=(6, 4))\n",
        "  plt.plot(p, dpdt)\n",
        "  plt.xlabel(r'Population $p(t)$ (millions)')\n",
        "  plt.ylabel(r'$\\frac{d}{dt}p(t)=\\alpha p(t)$')\n",
        "  plt.show()"
      ],
      "id": "8e37083e",
      "execution_count": null,
      "outputs": []
    },
    {
      "cell_type": "code",
      "metadata": {
        "execution": {
          "iopub.execute_input": "2021-06-27T21:22:38.734117Z",
          "iopub.status.busy": "2021-06-27T21:22:38.733315Z",
          "iopub.status.idle": "2021-06-27T21:22:38.735674Z",
          "shell.execute_reply": "2021-06-27T21:22:38.736108Z"
        },
        "id": "il7f6AWkXk0B"
      },
      "source": [
        "# to_remove explanation\n",
        "\n",
        "\"\"\"\n",
        "  1. The plot of $\\frac{dp}{dt}$ is a line, which is why the differential\n",
        "  equation is known as a linear differential equation.\n",
        "\n",
        "  2. As the population increases, the change of population increases. A\n",
        "  population of 20 has a change of 6 while a population of 100 has a change of\n",
        "  30. This makes sense - the larger the population the larger the change.\n",
        "\"\"\""
      ],
      "id": "il7f6AWkXk0B",
      "execution_count": null,
      "outputs": []
    },
    {
      "cell_type": "markdown",
      "metadata": {
        "id": "5846bbb5"
      },
      "source": [
        "## Section 1.1: Exact solution of the population equation"
      ],
      "id": "5846bbb5"
    },
    {
      "cell_type": "markdown",
      "metadata": {
        "id": "uqcubpZNBIGl"
      },
      "source": [
        "### Section 1.1.1: Initial condition\n",
        "The linear population differential equation is known as an initial value differential equation because we need an initial population value to solve it. Here we will set our initial population to:\n",
        "\n",
        "\\begin{align*}\n",
        "&p(0)=1.\\\\\n",
        "\\end{align*}\n",
        "\n",
        "Different initial conditions will lead to different answers, but they will not change the differential equation. This is one of the strengths of a differential equation. "
      ],
      "id": "uqcubpZNBIGl"
    },
    {
      "cell_type": "markdown",
      "metadata": {
        "id": "oYBK4NWYBL5t"
      },
      "source": [
        "###  Section 1.1.2: Exact Solution\n",
        "To calculate the exact solution of a differential equation, we must integrate both sides. Instead of numerical integration (as you delved into in the last tutorial), we will first try to solve the differential equations using analytical integration. As with derivatives, we can find analytical integrals of simple equations by consulting [a list](https://en.wikipedia.org/wiki/Lists_of_integrals). We can then get intregrals for more complex equations using some mathematical tricks - the harder the equation the more obscure the trick. \n",
        "\n",
        "Given the linear population equation \n",
        "\\begin{align*}\n",
        "\\frac{d}{dt}\\,p(t) &= \\alpha p(t),\\\\\\\\\n",
        "p(0)=P_0,\\\\\n",
        "\\end{align*}\n",
        "has the exact solution:\n",
        "\\begin{align*}\n",
        "p(t)&=P_0e^{\\alpha t}.\\\\\n",
        "\\end{align*}\n",
        "\n",
        "The exact solution written in words is: \n",
        "\n",
        "\\begin{align*}\n",
        "\\text{\"Population\"}&=\\text{\"grows/declines exponentially as a function time and birth rate\"}.\\\\\n",
        "\\end{align*}\n",
        "\n",
        "Most differential equations do not have a known exact solution, so in the next tutorial on numerical methods we will show how the solution can be estimated.\n",
        "\n",
        "A small aside: a good deal of progress in mathematics was due to mathematicians writing taunting letters to each other saying they had a trick that could solve something better than everyone else. So do not worry too much about the tricks."
      ],
      "id": "oYBK4NWYBL5t"
    },
    {
      "cell_type": "markdown",
      "metadata": {
        "id": "1257fcc0"
      },
      "source": [
        "####  Example Exact Solution of the Population Equation\n",
        "Let's consider the population differential equation with a birth rate $\\alpha=0.3$:\n",
        "\n",
        "\\begin{align*}\n",
        "\\frac{d}{dt}\\,p(t) = 0.3 p(t),\\\\\n",
        "\\text{with the initial condition}\\\\\n",
        "p(0)=1.\\\\\n",
        "\\end{align*}\n",
        "\n",
        "It has an exact solution \n",
        "\\begin{align*}\n",
        "\\\\\n",
        "p(t)=e^{0.3 t}.\n",
        "\\end{align*}\n",
        "\n"
      ],
      "id": "1257fcc0"
    },
    {
      "cell_type": "code",
      "metadata": {
        "cellView": "form",
        "execution": {
          "iopub.execute_input": "2021-06-27T21:22:38.779204Z",
          "iopub.status.busy": "2021-06-27T21:22:38.755679Z",
          "iopub.status.idle": "2021-06-27T21:22:38.964604Z",
          "shell.execute_reply": "2021-06-27T21:22:38.963750Z"
        },
        "id": "eeb717b8"
      },
      "source": [
        "# @markdown Execute code to plot the exact solution\n",
        "t = np.arange(0, 10, 0.1) # Time from 0 to 10 years in 0.1 steps\n",
        "\n",
        "with plt.xkcd():\n",
        "\n",
        "  p = np.exp(0.3 * t)\n",
        "\n",
        "  fig = plt.figure(figsize=(6, 4))\n",
        "  plt.plot(t, p)\n",
        "  plt.ylabel('Population (millions)')\n",
        "  plt.xlabel('time (years)')\n",
        "  plt.show()"
      ],
      "id": "eeb717b8",
      "execution_count": null,
      "outputs": []
    },
    {
      "cell_type": "markdown",
      "metadata": {
        "id": "792841c9"
      },
      "source": [
        "## Section 1.2: Parameters of the differential equation\n",
        "One of the goals when designing a differential equation is to make it generalisable. Which means that the differential equation will give reasonable solutions for different countries with different birth rates $\\alpha$. \n"
      ],
      "id": "792841c9"
    },
    {
      "cell_type": "markdown",
      "metadata": {
        "id": "8zD98917MDtW"
      },
      "source": [
        "###  Interactive Demo 1.2:  Interactive Parameter Change\n",
        "Play with the widget to see the relationship between $\\alpha$ and the population differential equation as a function of population (left-hand side), and the population solution as a function of time (right-hand side). Pay close attention to the transition point from positive to negative.\n",
        "\n",
        "How do changing parameters of the population equation affect the outcome?\n",
        "\n",
        "1. What happens when $\\alpha < 0$?\n",
        "2. What happens when $\\alpha > 0$?\n",
        "3. What happens when $\\alpha = 0$?"
      ],
      "id": "8zD98917MDtW"
    },
    {
      "cell_type": "code",
      "metadata": {
        "cellView": "form",
        "execution": {
          "iopub.execute_input": "2021-06-27T21:22:38.982975Z",
          "iopub.status.busy": "2021-06-27T21:22:38.982376Z",
          "iopub.status.idle": "2021-06-27T21:22:39.526682Z",
          "shell.execute_reply": "2021-06-27T21:22:39.527212Z"
        },
        "id": "490c0be0"
      },
      "source": [
        "# @markdown Make sure you execute this cell to enable the widget!\n",
        "my_layout.width = '450px'\n",
        "@widgets.interact(\n",
        "    alpha=widgets.FloatSlider(.3, min=-1., max=1., step=.1, layout=my_layout)\n",
        ")\n",
        "def Pop_widget(alpha):\n",
        "  plot_dPdt(alpha=alpha)\n",
        "  plt.show()"
      ],
      "id": "490c0be0",
      "execution_count": null,
      "outputs": []
    },
    {
      "cell_type": "code",
      "metadata": {
        "execution": {
          "iopub.execute_input": "2021-06-27T21:22:39.536587Z",
          "iopub.status.busy": "2021-06-27T21:22:39.536072Z",
          "iopub.status.idle": "2021-06-27T21:22:39.542091Z",
          "shell.execute_reply": "2021-06-27T21:22:39.540908Z"
        },
        "id": "KDgZUHS5YDQp"
      },
      "source": [
        "# to_remove explanation\n",
        "\n",
        "\"\"\"\n",
        "  1. Negative values of alpha result in an exponential decrease to 0 a stable solution.\n",
        "  2. Positive Values of alpha in an exponential increases to infinity.\n",
        "  3. Alpha equal to 0 is a unique point known as an equilibrium point when the\n",
        "  dp/dt=0 and there is no change in population. This is known as a stable point.\n",
        "\"\"\""
      ],
      "id": "KDgZUHS5YDQp",
      "execution_count": null,
      "outputs": []
    },
    {
      "cell_type": "markdown",
      "metadata": {
        "id": "c3a78544"
      },
      "source": [
        "The population differential equation is an over-simplification and has some very obvious limitations: \n",
        "1. Population growth is not exponential as there are limited number of resources so the population will level out at some point.\n",
        "2. It does not include any external factors on the populations like weather, predators and preys.\n",
        "\n",
        "These kind of limitations can be addressed by extending the model.\n",
        "\n",
        "\n",
        "While it might not seem that the population equation has direct relevance to neuroscience a similar equation is used to describe the accumulation of evidence for decision making known as the Drift Diffusion Model which you will see in more detail in the Linear System day in Neuromatch (W2D2).\n",
        "\n",
        "\n",
        "Another differential equation that is similar to the population equation is the Leaky Integrate and Fire model which you have seen in the python pre-course materials on W0D1 and W0D2, it will turn up later in Neuromatch as well. Below we will delve in the motivation of the differential equation."
      ],
      "id": "c3a78544"
    },
    {
      "cell_type": "markdown",
      "metadata": {
        "id": "ae82611f"
      },
      "source": [
        "---\n",
        "# Section 2: The leaky integrate and fire model\n"
      ],
      "id": "ae82611f"
    },
    {
      "cell_type": "code",
      "metadata": {
        "execution": {
          "iopub.execute_input": "2021-06-27T21:22:39.552767Z",
          "iopub.status.busy": "2021-06-27T21:22:39.549382Z",
          "iopub.status.idle": "2021-06-27T21:22:39.718176Z",
          "shell.execute_reply": "2021-06-27T21:22:39.718694Z"
        },
        "cellView": "form",
        "id": "hGBNAqnVVY3E",
        "outputId": "edaabdde-dbd1-4dbe-8693-ef48aed25c64",
        "colab": {
          "base_uri": "https://localhost:8080/",
          "height": 580,
          "referenced_widgets": [
            "52c754ac008f451f8b73f013ec6dad0f",
            "e8dd4dee02c14554afe92c80cf6a77d8",
            "d7734f0adf3f4c4594d0708465733040",
            "aca0cea101004d13b217249e203e8eed",
            "f8d423c2ea91467a89320ae0f5eb8df3",
            "0dd716b3e70148519cfc43eb7f7eaa4e"
          ]
        }
      },
      "source": [
        "# @title Video 3: The leaky integrate and fire model\n",
        "from ipywidgets import widgets\n",
        "\n",
        "out2 = widgets.Output()\n",
        "with out2:\n",
        "  from IPython.display import IFrame\n",
        "  class BiliVideo(IFrame):\n",
        "      def __init__(self, id, page=1, width=400, height=300, **kwargs):\n",
        "          self.id=id\n",
        "          src = 'https://player.bilibili.com/player.html?bvid={0}&page={1}'.format(id, page)\n",
        "          super(BiliVideo, self).__init__(src, width, height, **kwargs)\n",
        "\n",
        "  video = BiliVideo(id=\"BV1rb4y1C79n\", width=854, height=480, fs=1)\n",
        "  print('Video available at https://www.bilibili.com/video/{0}'.format(video.id))\n",
        "  display(video)\n",
        "\n",
        "out1 = widgets.Output()\n",
        "with out1:\n",
        "  from IPython.display import YouTubeVideo\n",
        "  video = YouTubeVideo(id=\"ZfWO6MLCa1s\", width=854, height=480, fs=1, rel=0)\n",
        "  print('Video available at https://youtube.com/watch?v=' + video.id)\n",
        "  display(video)\n",
        "\n",
        "out = widgets.Tab([out1, out2])\n",
        "out.set_title(0, 'Youtube')\n",
        "out.set_title(1, 'Bilibili')\n",
        "\n",
        "display(out)"
      ],
      "id": "hGBNAqnVVY3E",
      "execution_count": 3,
      "outputs": [
        {
          "output_type": "display_data",
          "data": {
            "application/vnd.jupyter.widget-view+json": {
              "model_id": "52c754ac008f451f8b73f013ec6dad0f",
              "version_minor": 0,
              "version_major": 2
            },
            "text/plain": [
              "Tab(children=(Output(), Output()), _titles={'0': 'Youtube', '1': 'Bilibili'})"
            ]
          },
          "metadata": {
            "tags": []
          }
        }
      ]
    },
    {
      "cell_type": "markdown",
      "metadata": {
        "id": "4qgkjHOtWcEL"
      },
      "source": [
        "This video covers the Leaky Integrate and Fire model (a linear differential equation which describes the membrane potential of a single neuron).\n",
        "\n",
        "<details>\n",
        "<summary> <font color='blue'>Click here for text recap of full LIF equation from video </font></summary>\n",
        "\n",
        "The Leaky Integrate and Fire Model is a linear differential equation that describes the membrane potential ($V$) of a single neuron which was proposed by Louis Édouard Lapicque in 1907 [2].\n",
        "\n",
        "The subthreshold membrane potential dynamics of a LIF neuron is described by\n",
        "\\begin{align}\n",
        "\\tau_m\\frac{dV}{dt} = -(V-E_L) + R_mI\\,\n",
        "\\end{align}\n",
        "\n",
        "\n",
        "where $\\tau_m$ is the time constant, $V$ is the membrane potential,  $E_L$ is the resting potential, $R_m$ is membrane resistance, and $I$ is the external input current. \n",
        "\n",
        "</details>\n",
        "\n",
        "In the next few sections, we will break down the full LIF equation and then build it back up to get an intuitive feel of the different facets of the differential equation.\n"
      ],
      "id": "4qgkjHOtWcEL"
    },
    {
      "cell_type": "markdown",
      "metadata": {
        "id": "c05087c6"
      },
      "source": [
        "## Section 2.1: LIF without input\n",
        "\n",
        "As seen in the video, we will first model an LIF neuron without input, which results in the equation:\n",
        "\n",
        "\\begin{align}\n",
        "\\frac{dV}{dt} &= \\frac{-(V-E_L)}{\\tau_m}.\\\\\n",
        "\\end{align}\n",
        "\n",
        "where $\\tau_m$ is the time constant, $V$ is the membrane potential, and $E_L$ is the resting potential.\n",
        "\n",
        "<details>\n",
        "<summary> <font color='blue'>Click here for further details (from video) </font></summary>\n",
        "\n",
        "First, we will simplify the equation by removing the input, which gives the equation\n",
        "\n",
        "\\begin{align}\n",
        "\\tau_m\\frac{dV}{dt} &= -V+E_L,\\\\\n",
        "\\end{align}\n",
        "\n",
        "which can be written in words as:\n",
        "\n",
        "\\begin{align}\n",
        "\\begin{matrix}\\text{\"Time constant multiplied by the} \\\\ \\text{change in membrane potential\"}\\end{matrix}&=\\begin{matrix}\\text{\"Minus Current} \\\\ \\text{membrane potential\"} \\end{matrix}+\n",
        "\\begin{matrix}\\text{\"resting potential\"}\\end{matrix}.\\\\\n",
        "\\end{align}\n",
        "\n",
        "\n",
        "The equation can be re-arranged to look even more like the population equation:\n",
        "\n",
        "\\begin{align}\n",
        "\\frac{dV}{dt} &= \\frac{-(V-E_L)}{\\tau_m}.\\\\\n",
        "\\end{align}\n",
        "</details>\n"
      ],
      "id": "c05087c6"
    },
    {
      "cell_type": "markdown",
      "metadata": {
        "id": "XRl1cRt5ppJ1"
      },
      "source": [
        "### Think! 2.1: Effect on membrane potential $V$ on the LIF model\n",
        "\n",
        "The plot the below shows the change in membrane potential $\\frac{dV}{dt}$ as a function of membrane potential $V$ with the parameters set as:\n",
        "* `E_L = -75`\n",
        "* `V_reset = -50`\n",
        "* `tau_m = 10.`\n",
        "\n",
        "1. What is the effect on $\\frac{dV}{dt}$ when $V>-75$ mV?\n",
        "2. What is the effect on $\\frac{dV}{dt}$ when $V<-75$ mV\n",
        "3. What is the effect on $\\frac{dV}{dt}$ when $V=-75$ mV?"
      ],
      "id": "XRl1cRt5ppJ1"
    },
    {
      "cell_type": "code",
      "metadata": {
        "cellView": "form",
        "execution": {
          "iopub.execute_input": "2021-06-27T21:22:39.727368Z",
          "iopub.status.busy": "2021-06-27T21:22:39.726819Z",
          "iopub.status.idle": "2021-06-27T21:22:40.047954Z",
          "shell.execute_reply": "2021-06-27T21:22:40.047092Z"
        },
        "id": "8dd9906c"
      },
      "source": [
        "# @markdown Make sure you execute this cell to plot the relationship between dV/dt and V\n",
        "# Parameter definition\n",
        "E_L = -75\n",
        "tau_m = 10\n",
        "\n",
        "# Range of Values of V\n",
        "V = np.arange(-90, 0, 1)\n",
        "dV = -(V - E_L) / tau_m\n",
        "\n",
        "with plt.xkcd():\n",
        "\n",
        "  fig = plt.figure(figsize=(6, 4))\n",
        "  plt.plot(V, dV)\n",
        "  plt.hlines(0, min(V), max(V), colors='black', linestyles='dashed')\n",
        "  plt.vlines(-75, min(dV), max(dV), colors='black', linestyles='dashed')\n",
        "\n",
        "  plt.text(-50, 1, 'Positive')\n",
        "  plt.text(-50, -2, 'Negative')\n",
        "  plt.text(E_L, max(dV) + 1, r'$E_L$')\n",
        "  plt.xlabel(r'$V(t)$ (mV)')\n",
        "  plt.ylabel(r'$\\frac{dV}{dt}=\\frac{-(V-E_L)}{\\tau_m}$')\n",
        "  plt.ylim(-8, 2)\n",
        "  plt.show()"
      ],
      "id": "8dd9906c",
      "execution_count": null,
      "outputs": []
    },
    {
      "cell_type": "code",
      "metadata": {
        "execution": {
          "iopub.execute_input": "2021-06-27T21:22:40.053027Z",
          "iopub.status.busy": "2021-06-27T21:22:40.052380Z",
          "iopub.status.idle": "2021-06-27T21:22:40.056974Z",
          "shell.execute_reply": "2021-06-27T21:22:40.057387Z"
        },
        "id": "h0MIi-MJYdk5"
      },
      "source": [
        "# to_remove explanation\n",
        "\n",
        "\"\"\"\n",
        "  1. For $V>-75$ mV, the derivative is negative.\n",
        "  2. For $V<-75$ mV, the derivative is positive.\n",
        "  3. For $V=-75$ mV, the derivative is equal to $0$ is and a stable point when nothing changes.\n",
        "\"\"\""
      ],
      "id": "h0MIi-MJYdk5",
      "execution_count": null,
      "outputs": []
    },
    {
      "cell_type": "markdown",
      "metadata": {
        "id": "f7bb8882"
      },
      "source": [
        "### Section 2.1.1: Exact Solution of the LIF model without input\n",
        "The LIF model has the exact solution:\n",
        "\\begin{align*}\n",
        "V(t)=&\\ E_L+(V_{reset}-E_L)e^{\\frac{-t}{\\tau_m}}\\\\\n",
        "\\end{align*}\n",
        "\n",
        "where $\\tau_m$ is the time constant, $V$ is the membrane potential,  $E_L$ is the resting potential, and $V_{reset}$ is the initial membrane potential. \n",
        "\n",
        "<details>\n",
        "<summary> <font color='blue'>Click here for further details (from video) </font></summary>\n",
        "\n",
        "Similar to the population equation, we need an initial membrane potential at time $0$ to solve the LIF model. \n",
        "\n",
        "With this equation \n",
        "\\begin{align}\n",
        "\\frac{dV}{dt} &= \\frac{-(V-E_L)}{\\tau_m}\\,\\\\\n",
        "V(0)&=V_{reset},\n",
        "\\end{align}\n",
        "where is $V_{reset}$ is called the reset potential.\n",
        "\n",
        "The LIF model has the exact solution:\n",
        "\\begin{align*}\n",
        "V(t)=&\\ E_L+(V_{reset}-E_L)e^{\\frac{-t}{\\tau_m}}\\\\\n",
        "\\text{ which can be written as: }\\\\\n",
        "\\begin{matrix}\\text{\"Current membrane} \\\\ \\text{potential}\"\\end{matrix}=&\\text{\"Resting potential\"}+\\begin{matrix}\\text{\"Reset potential minus resting potential} \\\\ \\text{times exponential with rate one over time constant.\"}\\end{matrix}\\\\\n",
        "\\end{align*}\n",
        "\n",
        "</details>"
      ],
      "id": "f7bb8882"
    },
    {
      "cell_type": "markdown",
      "metadata": {
        "id": "31910ff4"
      },
      "source": [
        "#### Interactive Demo 2.1.1: Initial Condition $V_{reset}$\n",
        "This exercise is to get an intuitive feel of how the different initial conditions $V_{reset}$ impacts the differential equation of the LIF and the exact solution for the equation:\n",
        "\n",
        "\\begin{align}\n",
        "\\frac{dV}{dt} &= \\frac{-(V-E_L)}{\\tau_m}\\,\\\\\n",
        "\\end{align}\n",
        "with the parameters set as:\n",
        "* `E_L = -75,`\n",
        "* `tau_m = 10.`\n",
        "\n",
        "The panel on the left-hand side plot the change in membrane potential $\\frac{dV}{dt}$ is a function of membrane potential $V$ and right-hand side panel plots the exact solution $V$ as a function of time $t,$ the green dot in both panels is the reset potential $V_{reset}$.\n",
        "\n",
        "Pay close attention to when $V_{reset}=E_L=-75$mV.\n",
        "\n",
        "1. How does the solution look with initial values of $V_{reset} < -75$?\n",
        "2. How does the solution look with initial values of $V_{reset} > -75$?\n",
        "3. How does the solution look with initial values of $V_{reset} = -75$?\n",
        "\n"
      ],
      "id": "31910ff4"
    },
    {
      "cell_type": "code",
      "metadata": {
        "cellView": "form",
        "execution": {
          "iopub.execute_input": "2021-06-27T21:22:40.076205Z",
          "iopub.status.busy": "2021-06-27T21:22:40.075301Z",
          "iopub.status.idle": "2021-06-27T21:22:40.660313Z",
          "shell.execute_reply": "2021-06-27T21:22:40.659720Z"
        },
        "id": "03458759"
      },
      "source": [
        "#@markdown Make sure you execute this cell to enable the widget!\n",
        "my_layout.width = '450px'\n",
        "@widgets.interact(\n",
        "  V_reset=widgets.FloatSlider(-77., min=-91., max=-61., step=2,\n",
        "                              layout=my_layout)\n",
        ")\n",
        "\n",
        "def V_reset_widget(V_reset):\n",
        "  plot_V_no_input(V_reset)"
      ],
      "id": "03458759",
      "execution_count": null,
      "outputs": []
    },
    {
      "cell_type": "code",
      "metadata": {
        "execution": {
          "iopub.execute_input": "2021-06-27T21:22:40.669509Z",
          "iopub.status.busy": "2021-06-27T21:22:40.668292Z",
          "iopub.status.idle": "2021-06-27T21:22:40.671358Z",
          "shell.execute_reply": "2021-06-27T21:22:40.671829Z"
        },
        "id": "IQmxKOuRaVGr"
      },
      "source": [
        "# to_remove explanation\n",
        "\n",
        "\"\"\"\n",
        "  1. Initial Values of $V_{reset} < -75$ result in the solution increasing to\n",
        "  -75mV because $\\frac{dV}{dt} > 0$.\n",
        "  2. Initial Values of $V_{reset} > -75$ result in the solution decreasing to\n",
        "  -75mV because $\\frac{dV}{dt}  < 0$.\n",
        "  3. Initial Values of $V_{reset} = -75$ result in a constant $V = -75$ mV\n",
        "  because $\\frac{dV}{dt}  = 0$ (Stable point).\n",
        "\"\"\""
      ],
      "id": "IQmxKOuRaVGr",
      "execution_count": null,
      "outputs": []
    },
    {
      "cell_type": "markdown",
      "metadata": {
        "id": "5dcd105e"
      },
      "source": [
        "## Section 2.2: LIF with input\n",
        "We will re-introduce the input $I$ and membrane resistance $R_m$ giving the original equation:\n",
        "\n",
        "\\begin{align}\n",
        "\\tau_m\\frac{dV}{dt} = -(V-E_L) + \\color{blue}{R_mI}\\,\n",
        "\\end{align}\n",
        "\n",
        "The input can be other neurons or sensory information."
      ],
      "id": "5dcd105e"
    },
    {
      "cell_type": "markdown",
      "metadata": {
        "id": "9862281c"
      },
      "source": [
        "### Interactive Demo 2.2: The Impact of Input\n",
        "The interactive plot below manipulates $I$ in the differential equation.\n",
        "\n",
        "- With increasing input, how does the $\\frac{dV}{dt}$ change? How would this impact the solution? "
      ],
      "id": "9862281c"
    },
    {
      "cell_type": "code",
      "metadata": {
        "cellView": "form",
        "execution": {
          "iopub.execute_input": "2021-06-27T21:22:40.692474Z",
          "iopub.status.busy": "2021-06-27T21:22:40.691063Z",
          "iopub.status.idle": "2021-06-27T21:22:40.945361Z",
          "shell.execute_reply": "2021-06-27T21:22:40.944745Z"
        },
        "id": "fc6ce7c7"
      },
      "source": [
        "# @markdown Make sure you execute this cell to enable the widget!\n",
        "my_layout.width = '450px'\n",
        "@widgets.interact(\n",
        "  I=widgets.FloatSlider(3., min=0., max=20., step=2,\n",
        "                                layout=my_layout)\n",
        ")\n",
        "\n",
        "def Pop_widget(I):\n",
        "  plot_dVdt(I=I)\n",
        "  plt.show()"
      ],
      "id": "fc6ce7c7",
      "execution_count": null,
      "outputs": []
    },
    {
      "cell_type": "code",
      "metadata": {
        "execution": {
          "iopub.execute_input": "2021-06-27T21:22:40.952808Z",
          "iopub.status.busy": "2021-06-27T21:22:40.952268Z",
          "iopub.status.idle": "2021-06-27T21:22:40.957746Z",
          "shell.execute_reply": "2021-06-27T21:22:40.957313Z"
        },
        "id": "HSNtznIwY6wA"
      },
      "source": [
        "# to_remove explanation\n",
        "\n",
        "\"\"\"\n",
        "dV/dt becomes bigger and less of it is below 0. This means the solution will increase well beyond what is bioligically plausible\n",
        "\"\"\""
      ],
      "id": "HSNtznIwY6wA",
      "execution_count": null,
      "outputs": []
    },
    {
      "cell_type": "markdown",
      "metadata": {
        "id": "968432a1"
      },
      "source": [
        "### Section 2.2.1: LIF exact solution\n",
        "\n",
        "The LIF with a constant input has a known exact solution:\n",
        "\\begin{align*}\n",
        "V(t)=&\\ E_L+R_mI+(V_{reset}-E_L-R_mI)e^{\\frac{-t}{\\tau_m}}\\\\\n",
        "\\text{which is written as:}\\\\\n",
        "\\begin{matrix}\\text{\"Current membrane} \\\\ \\text{potential\"}\\end{matrix}=&\\text{\"Resting potential\"}+\\begin{matrix}\\text{\"Reset potential minus resting potential} \\\\ \\text{times exponential with rate one over time constant.\" }\\end{matrix}\\\\\n",
        "\\end{align*}"
      ],
      "id": "968432a1"
    },
    {
      "cell_type": "markdown",
      "metadata": {
        "id": "91b7c87a"
      },
      "source": [
        "The plot below shows the exact solution of the membrane potential with the parameters set as:\n",
        "* `V_reset = -75,`\n",
        "* `E_L = -75,`\n",
        "* `tau_m = 10,`\n",
        "* `R_m = 10,`\n",
        "* `I = 10.`\n",
        "\n",
        "Ask yourself, does the result make biological sense? If not, what would you change? We'll delve into this in the next section"
      ],
      "id": "91b7c87a"
    },
    {
      "cell_type": "code",
      "metadata": {
        "cellView": "form",
        "execution": {
          "iopub.execute_input": "2021-06-27T21:22:40.963066Z",
          "iopub.status.busy": "2021-06-27T21:22:40.962468Z",
          "iopub.status.idle": "2021-06-27T21:22:41.162523Z",
          "shell.execute_reply": "2021-06-27T21:22:41.162987Z"
        },
        "id": "db5816d4"
      },
      "source": [
        "# @markdown Make sure you execute this cell to see the exact solution\n",
        "dt = 0.5\n",
        "t_rest = 0\n",
        "\n",
        "t = np.arange(0, 1000, dt)\n",
        "\n",
        "tau_m = 10\n",
        "R_m = 10\n",
        "V_reset = E_L = -75\n",
        "\n",
        "I = 10\n",
        "\n",
        "V = E_L + R_m*I + (V_reset - E_L - R_m*I) * np.exp(-(t)/tau_m)\n",
        "\n",
        "with plt.xkcd():\n",
        "\n",
        "  fig = plt.figure(figsize=(6, 4))\n",
        "  plt.plot(t,V)\n",
        "  plt.ylabel('V (mV)')\n",
        "  plt.xlabel('time (ms)')\n",
        "  plt.show()"
      ],
      "id": "db5816d4",
      "execution_count": null,
      "outputs": []
    },
    {
      "cell_type": "markdown",
      "metadata": {
        "id": "0a31b8d1"
      },
      "source": [
        "## Section 2.3: Maths is one thing, but neuroscience matters\n"
      ],
      "id": "0a31b8d1"
    },
    {
      "cell_type": "code",
      "metadata": {
        "execution": {
          "iopub.execute_input": "2021-06-27T21:22:41.175371Z",
          "iopub.status.busy": "2021-06-27T21:22:41.170791Z",
          "iopub.status.idle": "2021-06-27T21:22:41.324249Z",
          "shell.execute_reply": "2021-06-27T21:22:41.323806Z"
        },
        "cellView": "form",
        "id": "CtWroVVASxG1",
        "outputId": "0cc85e6c-ff9c-4851-f78d-55b4a16f6e67",
        "colab": {
          "base_uri": "https://localhost:8080/",
          "height": 580,
          "referenced_widgets": [
            "a89d2b3a4a364675a6470874fe027516",
            "76da4592c1864cc78ddc81da118aab1c",
            "273d959b50064021aebc9312450f15c3",
            "aae9bc38234440fcb856d51f2f182f3c",
            "80528dcd916243b6be8e1963d8ac017d",
            "c31aca87204248b8b96b47df9af5a3e7"
          ]
        }
      },
      "source": [
        "# @title Video 4: Adding firing to the LIF\n",
        "from ipywidgets import widgets\n",
        "\n",
        "out2 = widgets.Output()\n",
        "with out2:\n",
        "  from IPython.display import IFrame\n",
        "  class BiliVideo(IFrame):\n",
        "      def __init__(self, id, page=1, width=400, height=300, **kwargs):\n",
        "          self.id=id\n",
        "          src = 'https://player.bilibili.com/player.html?bvid={0}&page={1}'.format(id, page)\n",
        "          super(BiliVideo, self).__init__(src, width, height, **kwargs)\n",
        "\n",
        "  video = BiliVideo(id=\"BV1gX4y1P7pZ\", width=854, height=480, fs=1)\n",
        "  print('Video available at https://www.bilibili.com/video/{0}'.format(video.id))\n",
        "  display(video)\n",
        "\n",
        "out1 = widgets.Output()\n",
        "with out1:\n",
        "  from IPython.display import YouTubeVideo\n",
        "  video = YouTubeVideo(id=\"rLQk-vXRaX0\", width=854, height=480, fs=1, rel=0)\n",
        "  print('Video available at https://youtube.com/watch?v=' + video.id)\n",
        "  display(video)\n",
        "\n",
        "out = widgets.Tab([out1, out2])\n",
        "out.set_title(0, 'Youtube')\n",
        "out.set_title(1, 'Bilibili')\n",
        "\n",
        "display(out)"
      ],
      "id": "CtWroVVASxG1",
      "execution_count": 4,
      "outputs": [
        {
          "output_type": "display_data",
          "data": {
            "application/vnd.jupyter.widget-view+json": {
              "model_id": "a89d2b3a4a364675a6470874fe027516",
              "version_minor": 0,
              "version_major": 2
            },
            "text/plain": [
              "Tab(children=(Output(), Output()), _titles={'0': 'Youtube', '1': 'Bilibili'})"
            ]
          },
          "metadata": {
            "tags": []
          }
        }
      ]
    },
    {
      "cell_type": "markdown",
      "metadata": {
        "id": "9f12c68e"
      },
      "source": [
        "This video first recaps the introduction of input to the leaky integrate and fire model and then delves into how we add spiking behavior (or firing) to the model.\n",
        "\n",
        "<details>\n",
        "<summary> <font color='blue'>Click here for text recap of video </font></summary>\n",
        "\n",
        "While the mathematics of the exact solution is exact, it is not biologically valid as a neuron spikes and definitely does not plateau at a very positive value.\n",
        "\n",
        "To model the firing of a spike, we must have a threshold voltage $V_{th}$ such that if the voltage $V(t)$ goes above it, the neuron spikes\n",
        "$$V(t)>V_{th}.$$\n",
        "We must record the time of spike $t_{isi}$  and count the number of spikes\n",
        "$$t_{isi}=t, $$\n",
        "$$𝑆𝑝𝑖𝑘𝑒=𝑆𝑝𝑖𝑘𝑒+1.$$\n",
        "Then reset the membrane voltage $V(t)$\n",
        "$$V(t_{isi} )=V_{Reset}.$$\n",
        "\n",
        "To take into account the spike the exact solution becomes:\n",
        "\\begin{align*}\n",
        "V(t)=&\\ E_L+R_mI+(V_{reset}-E_L-R_mI)e^{\\frac{-(t-t_{isi})}{\\tau_m}},&\\qquad V(t)<V_{th} \\\\\n",
        "V(t)=&V_{reset},&\\qquad V(t)>V_{th}\\\\\n",
        "Spike=&Spike+1,&\\\\\n",
        "t_{isi}=&t,\\\\\n",
        "\\end{align*}\n",
        "while this does make the neuron spike, it introduces a discontinuity which is not as elegant mathematically as it could be, but it gets results so that is good.\n",
        "</detail>"
      ],
      "id": "9f12c68e"
    },
    {
      "cell_type": "markdown",
      "metadata": {
        "id": "acc43e8a"
      },
      "source": [
        "### Interactive Demo 2.3.1: Listen to the spikes\n",
        "This exercise show the relationship between firing rate and the Input for exact solution `V` of the LIF:\n",
        "$$\n",
        "V(t)=\\ E_L+R_mI+(V_{reset}-E_L-R_mI)e^{\\frac{-(t-t_{isi})}{\\tau_m}},\n",
        "$$\n",
        "with the parameters set as:\n",
        "* `V_reset = -75,`\n",
        "* `E_L = -75,`\n",
        "* `tau_m = 10,`\n",
        "* `R_m = 10.`\n",
        "\n",
        "\n",
        "Below is a figure with three panels; \n",
        "* the top panel is the input, $I,$\n",
        "* the middle panel is the membrane potential $V(t)$ to illustrative the spike $V(t)$ is set to $0$ and then reset to $-75$ mV, \n",
        "* the bottom panel is the raster plot with each dot indicating a spike.\n",
        "\n",
        "As electrophysiologist normally listen to spikes when conducting experiments, so listen to the music of different firing rates by changing the input value $I.$"
      ],
      "id": "acc43e8a"
    },
    {
      "cell_type": "code",
      "metadata": {
        "cellView": "form",
        "execution": {
          "iopub.execute_input": "2021-06-27T21:22:41.402737Z",
          "iopub.status.busy": "2021-06-27T21:22:41.402020Z",
          "iopub.status.idle": "2021-06-27T21:22:42.017668Z",
          "shell.execute_reply": "2021-06-27T21:22:42.018293Z"
        },
        "id": "55785e26"
      },
      "source": [
        "# @markdown Make sure you execute this cell to be able to hear the neuron\n",
        "I = 3\n",
        "t = np.arange(0, 1000, dt)\n",
        "Spike, Spike_time, V = Exact_Integrate_and_Fire(I, t)\n",
        "\n",
        "plot_IF(t, V, I, Spike_time)\n",
        "ipd.Audio(V, rate=len(V))"
      ],
      "id": "55785e26",
      "execution_count": null,
      "outputs": []
    },
    {
      "cell_type": "markdown",
      "metadata": {
        "id": "54d5af0e"
      },
      "source": [
        "### Interactive Demo 2.3.2: Input on spikes\n",
        "Manipulate the input into the LIF to see the impact of input on the firing pattern (rate).\n",
        "\n",
        "*  What is the effect of $I$ on spiking?\n",
        "* Is this biologically valid?"
      ],
      "id": "54d5af0e"
    },
    {
      "cell_type": "code",
      "metadata": {
        "cellView": "form",
        "execution": {
          "iopub.execute_input": "2021-06-27T21:22:42.039696Z",
          "iopub.status.busy": "2021-06-27T21:22:42.038946Z",
          "iopub.status.idle": "2021-06-27T21:22:42.546712Z",
          "shell.execute_reply": "2021-06-27T21:22:42.546183Z"
        },
        "id": "ebf27a22"
      },
      "source": [
        "# @markdown Make sure you execute this cell to enable the widget!\n",
        "my_layout.width = '450px'\n",
        "@widgets.interact(\n",
        "  I=widgets.FloatSlider(3, min=2.0, max=4., step=.1,\n",
        "                              layout=my_layout)\n",
        ")\n",
        "\n",
        "def Pop_widget(I):\n",
        "  Spike, Spike_time, V = Exact_Integrate_and_Fire(I, t)\n",
        "  plot_IF(t, V, I, Spike_time)"
      ],
      "id": "ebf27a22",
      "execution_count": null,
      "outputs": []
    },
    {
      "cell_type": "code",
      "metadata": {
        "execution": {
          "iopub.execute_input": "2021-06-27T21:22:42.554042Z",
          "iopub.status.busy": "2021-06-27T21:22:42.553240Z",
          "iopub.status.idle": "2021-06-27T21:22:42.555872Z",
          "shell.execute_reply": "2021-06-27T21:22:42.556353Z"
        },
        "id": "GjwI3QF3ZLtY"
      },
      "source": [
        "# to_remove explanation\n",
        "\n",
        "\"\"\"\n",
        "  1. As $I$ increases, the number of spikes increases.\n",
        "  2. No as there is a limit to the number of spikes due to a refractory period, which is not accounted for in this model\n",
        "\"\"\""
      ],
      "id": "GjwI3QF3ZLtY",
      "execution_count": null,
      "outputs": []
    },
    {
      "cell_type": "markdown",
      "metadata": {
        "id": "c3cf4d7b"
      },
      "source": [
        "## Section 2.4 Firing Rate as a function of Input\n",
        "\n",
        "The firing frequency of a neuron plotted as a function of current is called an input-output curve (F–I curve). It is also known as a transfer function, which you came across in the previous tutorial. This function is one of the starting points for the rate model, which extends from modelling single neurons to the firing rate of a collection of neurons. \n",
        "\n",
        "By fitting this to a function, we can start to generalise the firing pattern of many neurons, which can be used to build rate models which is discussed later in Neuromatch. "
      ],
      "id": "c3cf4d7b"
    },
    {
      "cell_type": "code",
      "metadata": {
        "cellView": "form",
        "execution": {
          "iopub.execute_input": "2021-06-27T21:22:42.579873Z",
          "iopub.status.busy": "2021-06-27T21:22:42.572567Z",
          "iopub.status.idle": "2021-06-27T21:22:42.924240Z",
          "shell.execute_reply": "2021-06-27T21:22:42.924994Z"
        },
        "id": "96bcf5e7"
      },
      "source": [
        "# @markdown *Execture this cell to visualize the FI curve*\n",
        "I_range = np.arange(2.0, 4.0, 0.1)\n",
        "Spike_rate = np.ones(len(I_range))\n",
        "\n",
        "for i, I in enumerate(I_range):\n",
        "  Spike_rate[i], _, _ = Exact_Integrate_and_Fire(I, t)\n",
        "\n",
        "with plt.xkcd():\n",
        "  fig = plt.figure(figsize=(6, 4))\n",
        "  plt.plot(I_range,Spike_rate)\n",
        "  plt.xlabel('Input Current (nA)')\n",
        "  plt.ylabel('Spikes per Second (Hz)')\n",
        "  plt.show()"
      ],
      "id": "96bcf5e7",
      "execution_count": null,
      "outputs": []
    },
    {
      "cell_type": "markdown",
      "metadata": {
        "id": "58fdcbe8"
      },
      "source": [
        "The LIF model is a very nice differential equation to start with in computational neuroscience as it has been used as a building block for many papers that simulate neuronal response.\n",
        "\n",
        "__Strengths  of LIF model:__\n",
        "+ Has an exact solution;\n",
        "+ Easy to interpret;\n",
        "+ Great to build network of neurons.\n",
        "\n",
        "__Weaknesses of the LIF model:__\n",
        "- Spiking is a discontinuity;\n",
        "- Abstraction from biology;\n",
        "- Cannot generate different spiking patterns.\n",
        "\n"
      ],
      "id": "58fdcbe8"
    },
    {
      "cell_type": "markdown",
      "metadata": {
        "id": "697364ff"
      },
      "source": [
        "---\n",
        "# Summary"
      ],
      "id": "697364ff"
    },
    {
      "cell_type": "code",
      "metadata": {
        "execution": {
          "iopub.execute_input": "2021-06-27T21:22:42.936936Z",
          "iopub.status.busy": "2021-06-27T21:22:42.936349Z",
          "iopub.status.idle": "2021-06-27T21:22:43.027792Z",
          "shell.execute_reply": "2021-06-27T21:22:43.025312Z"
        },
        "cellView": "form",
        "id": "_Jmpnq0mSihx",
        "outputId": "bf1cb62b-fbea-4f96-924b-58420edb1f8c",
        "colab": {
          "base_uri": "https://localhost:8080/",
          "height": 580,
          "referenced_widgets": [
            "74933f67c75043ad991d822e18dbd13b",
            "ce57b94bc34948179f0cfc807d340c93",
            "45989e5d13074992907263cc74cbf926",
            "f73bb68f4ae548318419f2e45dc021f8",
            "02148cde4d1f463e850b8729bd33fd34",
            "0d7306500b9c48d89b8f649864bf07fa"
          ]
        }
      },
      "source": [
        "# @title Video 5: Summary\n",
        "from ipywidgets import widgets\n",
        "\n",
        "out2 = widgets.Output()\n",
        "with out2:\n",
        "  from IPython.display import IFrame\n",
        "  class BiliVideo(IFrame):\n",
        "      def __init__(self, id, page=1, width=400, height=300, **kwargs):\n",
        "          self.id=id\n",
        "          src = 'https://player.bilibili.com/player.html?bvid={0}&page={1}'.format(id, page)\n",
        "          super(BiliVideo, self).__init__(src, width, height, **kwargs)\n",
        "\n",
        "  video = BiliVideo(id=\"BV1jV411x7t9\", width=854, height=480, fs=1)\n",
        "  print('Video available at https://www.bilibili.com/video/{0}'.format(video.id))\n",
        "  display(video)\n",
        "\n",
        "out1 = widgets.Output()\n",
        "with out1:\n",
        "  from IPython.display import YouTubeVideo\n",
        "  video = YouTubeVideo(id=\"VzwLAW5p4ao\", width=854, height=480, fs=1, rel=0)\n",
        "  print('Video available at https://youtube.com/watch?v=' + video.id)\n",
        "  display(video)\n",
        "\n",
        "out = widgets.Tab([out1, out2])\n",
        "out.set_title(0, 'Youtube')\n",
        "out.set_title(1, 'Bilibili')\n",
        "\n",
        "display(out)"
      ],
      "id": "_Jmpnq0mSihx",
      "execution_count": 5,
      "outputs": [
        {
          "output_type": "display_data",
          "data": {
            "application/vnd.jupyter.widget-view+json": {
              "model_id": "74933f67c75043ad991d822e18dbd13b",
              "version_minor": 0,
              "version_major": 2
            },
            "text/plain": [
              "Tab(children=(Output(), Output()), _titles={'0': 'Youtube', '1': 'Bilibili'})"
            ]
          },
          "metadata": {
            "tags": []
          }
        }
      ]
    },
    {
      "cell_type": "markdown",
      "metadata": {
        "id": "x0H0zhTNWlop"
      },
      "source": [
        "In this tutorial, we have seen two differential equations, the population differential equations and the leaky integrate and fire model.\n",
        "\n",
        "\n",
        "We learned about:\n",
        "* The motivation for differential equations.\n",
        "* An intuitive relationship between the solution and the form of the differential equation.\n",
        "* How different parameters of the differential equation impact the solution.\n",
        "* The strengths and limitations of the simple differential equations.\n"
      ],
      "id": "x0H0zhTNWlop"
    },
    {
      "cell_type": "markdown",
      "metadata": {
        "id": "eaec6994"
      },
      "source": [
        "---\n",
        "# Links to Neuromatch Days\n",
        "\n",
        "Differential equations turn up in a number of different Neuromatch days:\n",
        "* The LIF model is discussed in more details in Model Types (Week 1 Day 1) and Real Neurons (Week 2 Day 3).\n",
        "* Drift Diffusion model which is a differential equation for decision making is discussed in Linear Systems (Week 2 Day 2).\n",
        "* Systems of differential equations are discussed in Linear Systems (Week 2 Day 2) and Dynamic Networks (Week 2 Day 4).\n",
        "\n",
        "\n",
        "---\n",
        "# References \n",
        "1. Lotka, A. L, (1920)   Analytical note on certain rhythmic  relations inorganic  systems.Proceedings of the National Academy of Sciences,6(7):410–415,1920.\n",
        "\n",
        "2. Brunel N, van Rossum MC. Lapicque's 1907 paper: from frogs to integrate-and-fire. Biol Cybern. 2007 Dec;97(5-6):337-9. doi: 10.1007/s00422-007-0190-0. Epub 2007 Oct 30. PMID: 17968583.\n",
        "\n",
        "\n",
        "\n",
        "# Bibliography\n",
        "1. Dayan, P., & Abbott, L. F. (2001). Theoretical neuroscience: computational and mathematical modeling of neural systems. Computational Neuroscience Series.\n",
        "2. Strogatz, S. Nonlinear dynamics and chaos: with applications to physics, biology, chemistry, and engineering (studies in nonlinearity), Westview Press; 2 edition (29 July 2014)\n",
        "\n",
        "## Supplemental Popular Reading List\n",
        "1. Lindsay, G. (2021). Models of the Mind: How Physics, Engineering and Mathematics Have Shaped Our Understanding of the Brain. Bloomsbury Publishing.\n",
        "2. Strogatz, S. (2004). Sync: The emerging science of spontaneous order. Penguin UK.\n",
        "\n",
        "## Popular Podcast\n",
        "1. Strogatz, S. (Host). (2020-), Joy of X  https://www.quantamagazine.org/tag/the-joy-of-x/ Quanta Magazine\n"
      ],
      "id": "eaec6994"
    }
  ]
}