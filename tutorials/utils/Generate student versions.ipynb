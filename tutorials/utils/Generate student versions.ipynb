{
 "cells": [
  {
   "cell_type": "markdown",
   "metadata": {},
   "source": [
    "# NMA - Generate student versions\n",
    "\n",
    "* https://nbformat.readthedocs.io/en/latest/api.html\n",
    "* https://stackoverflow.com/questions/51879855/hide-some-cells-when-converting-ipython-notebook-to-notebook"
   ]
  },
  {
   "cell_type": "code",
   "execution_count": null,
   "metadata": {},
   "outputs": [],
   "source": [
    "%autosave 0\n",
    "\n",
    "import nbformat\n",
    "import os"
   ]
  },
  {
   "cell_type": "code",
   "execution_count": null,
   "metadata": {},
   "outputs": [],
   "source": [
    "tags_excluded = ['to_remove']\n",
    "suffix = '_student'\n",
    "\"\"\"tag and suffix definition - please don't change\"\"\"\n",
    "\n",
    "path_source = '../Bayes/TA_solutions'\n",
    "\"\"\"str: path searched for notebooks\"\"\"\n",
    "\n",
    "path_student = '../Bayes/'\n",
    "\"\"\"str: path where student versions are saved\"\"\";"
   ]
  },
  {
   "cell_type": "code",
   "execution_count": null,
   "metadata": {},
   "outputs": [],
   "source": [
    "for item in os.listdir(path_source):\n",
    "    \n",
    "    filepath = os.path.join(path_source, item)\n",
    "    filename, file_ext = os.path.splitext(item)\n",
    "    \n",
    "    if os.path.isfile(filepath) and file_ext=='.ipynb':\n",
    "        \"\"\"only process files with standard notebook extension\"\"\"\n",
    "        \n",
    "        print('\\nprocessing', item)\n",
    "\n",
    "        with open(filepath, 'r') as f_in:\n",
    "            \"\"\"only process notebooks after sucessfuly opening them\"\"\"\n",
    "            \n",
    "            nb = nbformat.read(f_in, nbformat.NO_CONVERT)\n",
    "            \n",
    "            excluded_cells = []\n",
    "            \n",
    "            for cell_idx, cell in enumerate(nb['cells']):\n",
    "                \"\"\"update list `excluded_cells` with contents of cells to be excluded\"\"\"\n",
    "            \n",
    "                if 'tags' in cell['metadata']:\n",
    "\n",
    "                    for tag_name in tags_excluded:\n",
    "                        \n",
    "                        if tag_name in cell['metadata']['tags']:\n",
    "                            \n",
    "                            excluded_cells += [cell]\n",
    "                            \n",
    "                            print('excluded cell', cell_idx, '\\ttag', tag_name)\n",
    "            \n",
    "            if excluded_cells:\n",
    "                \"\"\"if list `excluded_cells` is not empty, remove them\"\"\"\n",
    "\n",
    "                for cell in excluded_cells:\n",
    "                    nb['cells'].remove(cell)\n",
    "\n",
    "                filepath_student = os.path.join(path_source, filename+suffix+file_ext)\n",
    "                \n",
    "                with open(filepath_student, 'w') as f_out:\n",
    "                       \n",
    "                    nbformat.write(nb, f_out)"
   ]
  }
 ],
 "metadata": {
  "kernelspec": {
   "display_name": "Python 3",
   "language": "python",
   "name": "python3"
  },
  "language_info": {
   "codemirror_mode": {
    "name": "ipython",
    "version": 3
   },
   "file_extension": ".py",
   "mimetype": "text/x-python",
   "name": "python",
   "nbconvert_exporter": "python",
   "pygments_lexer": "ipython3",
   "version": "3.6.5"
  }
 },
 "nbformat": 4,
 "nbformat_minor": 2
}
