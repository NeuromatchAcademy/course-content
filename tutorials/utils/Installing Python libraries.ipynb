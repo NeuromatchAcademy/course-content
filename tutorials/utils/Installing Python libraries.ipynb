{
 "cells": [
  {
   "cell_type": "markdown",
   "metadata": {
    "colab_type": "text",
    "id": "YL2_mjdRyaSg"
   },
   "source": [
    "# Installing Python libraries\n",
    "[![Open In Colab](https://colab.research.google.com/assets/colab-badge.svg)](https://colab.research.google.com/github/NeuromatchAcademy/course-content/blob/master/tutorials/utils/Installing%20Python%20libraries.ipynb)  "
   ]
  },
  {
   "cell_type": "markdown",
   "metadata": {
    "colab_type": "text",
    "id": "FL7uIR26ts4l"
   },
   "source": [
    "## Installing a few Python libraries\n",
    "`pip install` is executed each time all cells are ran"
   ]
  },
  {
   "cell_type": "code",
   "execution_count": null,
   "metadata": {
    "colab": {},
    "colab_type": "code",
    "id": "kvXAt3_Mts4m"
   },
   "outputs": [],
   "source": [
    "# @title\n",
    "\n",
    "!pip install redis==3.5.3 papermill==2.1.1 > output.txt 2>&1\n",
    "\n",
    "import redis\n",
    "import papermill"
   ]
  },
  {
   "cell_type": "markdown",
   "metadata": {
    "colab_type": "text",
    "id": "gXRyv285ts4y"
   },
   "source": [
    "## Importing Python libraries\n",
    "\n",
    "`pip install` is executed only once"
   ]
  },
  {
   "cell_type": "code",
   "execution_count": null,
   "metadata": {
    "colab": {},
    "colab_type": "code",
    "id": "OHTDHrj8ts42"
   },
   "outputs": [],
   "source": [
    "# @title\n",
    "\n",
    "import os\n",
    "os.environ['REQS'] = 'requirements.txt'\n",
    "os.environ['URL'] = 'https://raw.githubusercontent.com/NeuromatchAcademy/course-content/master/tutorials/utils'\n",
    "\n",
    "![ ! -f ${REQS} ] && wget -q ${URL}/${REQS} && pip install -r ${REQS} > output.txt 2>&1\n",
    "\n",
    "import redis\n",
    "import papermill"
   ]
  },
  {
   "cell_type": "markdown",
   "metadata": {
    "colab_type": "text",
    "id": "kkzqa2ARts4p"
   },
   "source": [
    "## Importing a custom Python module\n",
    "`pip install` is executed only once"
   ]
  },
  {
   "cell_type": "code",
   "execution_count": null,
   "metadata": {
    "colab": {},
    "colab_type": "code",
    "id": "A9zsj0S0ts4t"
   },
   "outputs": [],
   "source": [
    "# @title\n",
    "\n",
    "import os\n",
    "os.environ['MODULE'] = 'myplots.py'\n",
    "os.environ['URL'] = 'https://raw.githubusercontent.com/NeuromatchAcademy/course-content/master/tutorials/utils'\n",
    "\n",
    "![ ! -f ${MODULE} ] && wget -q ${URL}/${MODULE} > output.txt 2>&1\n",
    "\n",
    "import myplots"
   ]
  }
 ],
 "metadata": {
  "colab": {
   "collapsed_sections": [],
   "name": "Importing Python libraries",
   "provenance": [],
   "toc_visible": true
  },
  "kernelspec": {
   "display_name": "Python 3",
   "language": "python",
   "name": "python3"
  },
  "language_info": {
   "codemirror_mode": {
    "name": "ipython",
    "version": 3
   },
   "file_extension": ".py",
   "mimetype": "text/x-python",
   "name": "python",
   "nbconvert_exporter": "python",
   "pygments_lexer": "ipython3",
   "version": "3.6.5"
  }
 },
 "nbformat": 4,
 "nbformat_minor": 1
}
