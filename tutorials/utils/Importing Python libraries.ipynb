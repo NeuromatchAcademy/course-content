{
  "nbformat": 4,
  "nbformat_minor": 0,
  "metadata": {
    "colab": {
      "name": "Importing Python libraries",
      "provenance": [],
      "collapsed_sections": [],
      "toc_visible": true
    },
    "kernelspec": {
      "display_name": "Python 3",
      "language": "python",
      "name": "python3"
    },
    "language_info": {
      "codemirror_mode": {
        "name": "ipython",
        "version": 3
      },
      "file_extension": ".py",
      "mimetype": "text/x-python",
      "name": "python",
      "nbconvert_exporter": "python",
      "pygments_lexer": "ipython3",
      "version": "3.6.5"
    }
  },
  "cells": [
    {
      "cell_type": "markdown",
      "metadata": {
        "colab_type": "text",
        "id": "YL2_mjdRyaSg"
      },
      "source": [
        "# Importing Python libraries\n",
        "\n",
        "Please execute the cell below to initialize the notebook environment\n",
        "\n",
        "[![Open In Colab](https://colab.research.google.com/assets/colab-badge.svg)](https://colab.research.google.com/github/mpbrigham/course-content/blob/master/tutorials/utils/Importing%20Python%20libraries.ipynb)  "
      ]
    },
    {
      "cell_type": "code",
      "metadata": {
        "cellView": "both",
        "colab_type": "code",
        "id": "Tr8AjcsFyaSh",
        "colab": {}
      },
      "source": [
        "# @title\n",
        "import time                        # import time \n",
        "import numpy as np                 # import numpy\n",
        "import scipy as sp                 # import scipy\n",
        "import math                        # import basic math functions\n",
        "import random                      # import basic random number generator functions\n",
        "\n",
        "import matplotlib.pyplot as plt    # import matplotlib\n",
        "from IPython import display        \n",
        "\n",
        "fig_w, fig_h = (6, 4)\n",
        "plt.rcParams.update({'figure.figsize': (fig_w, fig_h)})\n",
        "plt.style.use('ggplot')\n",
        "\n",
        "%matplotlib inline\n",
        "%config InlineBackend.figure_format = 'retina'"
      ],
      "execution_count": 0,
      "outputs": []
    },
    {
      "cell_type": "markdown",
      "metadata": {
        "colab_type": "text",
        "id": "FL7uIR26ts4l"
      },
      "source": [
        "---\n",
        "### Importing a small number of Python libraries\n",
        "Executing `pip install` each time"
      ]
    },
    {
      "cell_type": "code",
      "metadata": {
        "colab_type": "code",
        "id": "kvXAt3_Mts4m",
        "colab": {}
      },
      "source": [
        "# @title\n",
        "!pip install redis==3.5.3 papermill==2.1.1 > output.txt 2>&1\n",
        "\n",
        "import redis\n",
        "import papermill"
      ],
      "execution_count": 0,
      "outputs": []
    },
    {
      "cell_type": "markdown",
      "metadata": {
        "colab_type": "text",
        "id": "kkzqa2ARts4p"
      },
      "source": [
        "### Importing a small number of Python libraries\n",
        "Running `pip install` only once"
      ]
    },
    {
      "cell_type": "code",
      "metadata": {
        "colab_type": "code",
        "id": "A9zsj0S0ts4t",
        "colab": {}
      },
      "source": [
        "# @title\n",
        "\n",
        "!REQS=requirements.txt && [ ! -f ${REQS} ] && echo redis==3.5.3>>${REQS} && echo papermill==2.1.1>>${REQS} && pip install -r ${REQS} > output.txt 2>&1\n",
        "\n",
        "import redis\n",
        "import papermill"
      ],
      "execution_count": 0,
      "outputs": []
    },
    {
      "cell_type": "markdown",
      "metadata": {
        "colab_type": "text",
        "id": "gXRyv285ts4y"
      },
      "source": [
        "### Importing a larger amount of Python libraries\n",
        "\n",
        "Running `pip install` only once"
      ]
    },
    {
      "cell_type": "code",
      "metadata": {
        "colab_type": "code",
        "id": "sofFs7c2ts4z",
        "colab": {}
      },
      "source": [
        "!rm requirements.txt"
      ],
      "execution_count": 0,
      "outputs": []
    },
    {
      "cell_type": "code",
      "metadata": {
        "colab_type": "code",
        "id": "OHTDHrj8ts42",
        "colab": {}
      },
      "source": [
        "# @title\n",
        "\n",
        "import os\n",
        "os.environ['REQS'] = 'requirements.txt'\n",
        "os.environ['URL'] = 'https://raw.githubusercontent.com/mpbrigham/course-content/master/tutorials/Bayes'\n",
        "\n",
        "![ ! -f ${REQS} ] && wget -q ${URL}/${REQS} && pip install -r ${REQS} > output.txt 2>&1\n",
        "\n",
        "import redis\n",
        "import papermill"
      ],
      "execution_count": 0,
      "outputs": []
    }
  ]
}