{
 "cells": [
  {
   "cell_type": "markdown",
   "metadata": {
    "colab_type": "text",
    "id": "YL2_mjdRyaSg"
   },
   "source": [
    "## Neuromatch Academy 2020\n",
    "# Importing Python libraries\n",
    "\n",
    "Please execute the cell below to initialize the notebook environment\n",
    "\n",
    "[![Open In Colab](https://colab.research.google.com/assets/colab-badge.svg)](https://colab.research.google.com/github/mpbrigham/course-content/blob/master/tutorials/Bayes/BayesDay_Tutorial_1.ipynb)  "
   ]
  },
  {
   "cell_type": "code",
   "execution_count": 8,
   "metadata": {
    "cellView": "both",
    "colab": {},
    "colab_type": "code",
    "id": "Tr8AjcsFyaSh"
   },
   "outputs": [],
   "source": [
    "# @title\n",
    "import time                        # import time \n",
    "import numpy as np                 # import numpy\n",
    "import scipy as sp                 # import scipy\n",
    "import math                        # import basic math functions\n",
    "import random                      # import basic random number generator functions\n",
    "\n",
    "import matplotlib.pyplot as plt    # import matplotlib\n",
    "from IPython import display        \n",
    "\n",
    "fig_w, fig_h = (6, 4)\n",
    "plt.rcParams.update({'figure.figsize': (fig_w, fig_h)})\n",
    "plt.style.use('ggplot')\n",
    "\n",
    "%matplotlib inline\n",
    "%config InlineBackend.figure_format = 'retina'"
   ]
  },
  {
   "cell_type": "markdown",
   "metadata": {},
   "source": [
    "---\n",
    "### Importing a small number of Python libraries\n",
    "Executing `pip install` each time"
   ]
  },
  {
   "cell_type": "code",
   "execution_count": 9,
   "metadata": {},
   "outputs": [],
   "source": [
    "# @title\n",
    "!pip install redis==3.5.3 papermill==2.1.1 > output.txt 2>&1\n",
    "\n",
    "import redis\n",
    "import papermill"
   ]
  },
  {
   "cell_type": "markdown",
   "metadata": {},
   "source": [
    "### Importing a small number of Python libraries\n",
    "With `pip install` once"
   ]
  },
  {
   "cell_type": "code",
   "execution_count": 10,
   "metadata": {},
   "outputs": [],
   "source": [
    "!rm requirements.txt"
   ]
  },
  {
   "cell_type": "code",
   "execution_count": 11,
   "metadata": {},
   "outputs": [],
   "source": [
    "# @title\n",
    "\n",
    "!REQS=requirements.txt && [ ! -f ${REQS} ] && echo redis==3.5.3\\\\npapermill==2.1.1>${REQS} && pip install -r ${REQS} > output.txt 2>&1\n",
    "\n",
    "import redis\n",
    "import papermill"
   ]
  },
  {
   "cell_type": "markdown",
   "metadata": {},
   "source": [
    "### Importing a larger quantity of Python libraries\n",
    "With `pip install` once"
   ]
  },
  {
   "cell_type": "code",
   "execution_count": 12,
   "metadata": {},
   "outputs": [],
   "source": [
    "!rm requirements.txt"
   ]
  },
  {
   "cell_type": "code",
   "execution_count": 13,
   "metadata": {},
   "outputs": [],
   "source": [
    "# @title\n",
    "\n",
    "import os\n",
    "os.environ['REQS'] = 'requirements.txt'\n",
    "os.environ['URL'] = 'https://raw.githubusercontent.com/mpbrigham/course-content/master/tutorials/Bayes'\n",
    "\n",
    "![ ! -f ${REQS} ] && wget -q ${URL}/${REQS} && pip install -r ${REQS} > output.txt 2>&1\n",
    "\n",
    "import redis\n",
    "import papermill"
   ]
  }
 ],
 "metadata": {
  "colab": {
   "collapsed_sections": [],
   "name": "Shared_Tutorial1_BAYESDAY_colab",
   "provenance": [],
   "toc_visible": true
  },
  "kernelspec": {
   "display_name": "Python 3",
   "language": "python",
   "name": "python3"
  },
  "language_info": {
   "codemirror_mode": {
    "name": "ipython",
    "version": 3
   },
   "file_extension": ".py",
   "mimetype": "text/x-python",
   "name": "python",
   "nbconvert_exporter": "python",
   "pygments_lexer": "ipython3",
   "version": "3.6.5"
  }
 },
 "nbformat": 4,
 "nbformat_minor": 4
}
