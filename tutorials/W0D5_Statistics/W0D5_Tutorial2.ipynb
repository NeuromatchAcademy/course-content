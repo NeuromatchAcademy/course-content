{
  "nbformat": 4,
  "nbformat_minor": 0,
  "metadata": {
    "colab": {
      "name": " W0D5_Tutorial2",
      "provenance": [],
      "collapsed_sections": [],
      "toc_visible": true,
      "include_colab_link": true
    },
    "kernel": {
      "display_name": "Python 3",
      "language": "python",
      "name": "python3"
    },
    "kernelspec": {
      "display_name": "Python 3",
      "language": "python",
      "name": "python3"
    },
    "language_info": {
      "codemirror_mode": {
        "name": "ipython",
        "version": 3
      },
      "file_extension": ".py",
      "mimetype": "text/x-python",
      "name": "python",
      "nbconvert_exporter": "python",
      "pygments_lexer": "ipython3",
      "version": "3.7.10"
    },
    "toc-autonumbering": true,
    "widgets": {
      "application/vnd.jupyter.widget-state+json": {
        "8fc737c0cffd401c9d235c9bfba5512e": {
          "model_module": "@jupyter-widgets/controls",
          "model_name": "VBoxModel",
          "state": {
            "_view_name": "VBoxView",
            "_dom_classes": [
              "widget-interact"
            ],
            "_model_name": "VBoxModel",
            "_view_module": "@jupyter-widgets/controls",
            "_model_module_version": "1.5.0",
            "_view_count": null,
            "_view_module_version": "1.5.0",
            "box_style": "",
            "layout": "IPY_MODEL_404ec7516a864e3dba74d1df0fd5bd62",
            "_model_module": "@jupyter-widgets/controls",
            "children": [
              "IPY_MODEL_515c559ed521440390c2be03db3b4c4d",
              "IPY_MODEL_bcd982ba9a0949ac8bd6266284d99d31",
              "IPY_MODEL_b264d21922da4e09bfb7e2d0f943e88a"
            ]
          }
        },
        "404ec7516a864e3dba74d1df0fd5bd62": {
          "model_module": "@jupyter-widgets/base",
          "model_name": "LayoutModel",
          "state": {
            "_view_name": "LayoutView",
            "grid_template_rows": null,
            "right": null,
            "justify_content": null,
            "_view_module": "@jupyter-widgets/base",
            "overflow": null,
            "_model_module_version": "1.2.0",
            "_view_count": null,
            "flex_flow": null,
            "width": null,
            "min_width": null,
            "border": null,
            "align_items": null,
            "bottom": null,
            "_model_module": "@jupyter-widgets/base",
            "top": null,
            "grid_column": null,
            "overflow_y": null,
            "overflow_x": null,
            "grid_auto_flow": null,
            "grid_area": null,
            "grid_template_columns": null,
            "flex": null,
            "_model_name": "LayoutModel",
            "justify_items": null,
            "grid_row": null,
            "max_height": null,
            "align_content": null,
            "visibility": null,
            "align_self": null,
            "height": null,
            "min_height": null,
            "padding": null,
            "grid_auto_rows": null,
            "grid_gap": null,
            "max_width": null,
            "order": null,
            "_view_module_version": "1.2.0",
            "grid_template_areas": null,
            "object_position": null,
            "object_fit": null,
            "grid_auto_columns": null,
            "margin": null,
            "display": null,
            "left": null
          }
        },
        "515c559ed521440390c2be03db3b4c4d": {
          "model_module": "@jupyter-widgets/controls",
          "model_name": "FloatSliderModel",
          "state": {
            "_view_name": "FloatSliderView",
            "style": "IPY_MODEL_f8036adf0ebd4026b17ec60fc804eab0",
            "_dom_classes": [],
            "description": "mu",
            "step": 0.1,
            "_model_name": "FloatSliderModel",
            "orientation": "horizontal",
            "max": 15,
            "_view_module": "@jupyter-widgets/controls",
            "_model_module_version": "1.5.0",
            "value": 7.5,
            "_view_count": null,
            "disabled": false,
            "_view_module_version": "1.5.0",
            "min": 0,
            "continuous_update": true,
            "readout_format": ".2f",
            "description_tooltip": null,
            "readout": true,
            "_model_module": "@jupyter-widgets/controls",
            "layout": "IPY_MODEL_ef5f60d218e144af8999d774aa30b62c"
          }
        },
        "bcd982ba9a0949ac8bd6266284d99d31": {
          "model_module": "@jupyter-widgets/controls",
          "model_name": "FloatSliderModel",
          "state": {
            "_view_name": "FloatSliderView",
            "style": "IPY_MODEL_9ebd20e205c845e09ecc53d56c78c1f0",
            "_dom_classes": [],
            "description": "sigma",
            "step": 0.1,
            "_model_name": "FloatSliderModel",
            "orientation": "horizontal",
            "max": 5,
            "_view_module": "@jupyter-widgets/controls",
            "_model_module_version": "1.5.0",
            "value": 2.5000000000000004,
            "_view_count": null,
            "disabled": false,
            "_view_module_version": "1.5.0",
            "min": 0.1,
            "continuous_update": true,
            "readout_format": ".2f",
            "description_tooltip": null,
            "readout": true,
            "_model_module": "@jupyter-widgets/controls",
            "layout": "IPY_MODEL_86ed8233027d47418a09d422a7a06e35"
          }
        },
        "b264d21922da4e09bfb7e2d0f943e88a": {
          "model_module": "@jupyter-widgets/output",
          "model_name": "OutputModel",
          "state": {
            "_view_name": "OutputView",
            "msg_id": "",
            "_dom_classes": [],
            "_model_name": "OutputModel",
            "outputs": [
              {
                "output_type": "display_data",
                "metadata": {
                  "tags": [],
                  "image/png": {
                    "width": 558,
                    "height": 413
                  },
                  "needs_background": "light"
                },
                "image/png": "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\n",
                "text/plain": "<Figure size 576x432 with 1 Axes>"
              },
              {
                "output_type": "stream",
                "metadata": {
                  "tags": []
                },
                "text": "The log-likelihood for the selected parameters is: -2404.784022980073\n",
                "stream": "stdout"
              }
            ],
            "_view_module": "@jupyter-widgets/output",
            "_model_module_version": "1.0.0",
            "_view_count": null,
            "_view_module_version": "1.0.0",
            "layout": "IPY_MODEL_affd3a3b1197424ea521b5edcdb50c23",
            "_model_module": "@jupyter-widgets/output"
          }
        },
        "f8036adf0ebd4026b17ec60fc804eab0": {
          "model_module": "@jupyter-widgets/controls",
          "model_name": "SliderStyleModel",
          "state": {
            "_view_name": "StyleView",
            "handle_color": null,
            "_model_name": "SliderStyleModel",
            "description_width": "",
            "_view_module": "@jupyter-widgets/base",
            "_model_module_version": "1.5.0",
            "_view_count": null,
            "_view_module_version": "1.2.0",
            "_model_module": "@jupyter-widgets/controls"
          }
        },
        "ef5f60d218e144af8999d774aa30b62c": {
          "model_module": "@jupyter-widgets/base",
          "model_name": "LayoutModel",
          "state": {
            "_view_name": "LayoutView",
            "grid_template_rows": null,
            "right": null,
            "justify_content": null,
            "_view_module": "@jupyter-widgets/base",
            "overflow": null,
            "_model_module_version": "1.2.0",
            "_view_count": null,
            "flex_flow": null,
            "width": null,
            "min_width": null,
            "border": null,
            "align_items": null,
            "bottom": null,
            "_model_module": "@jupyter-widgets/base",
            "top": null,
            "grid_column": null,
            "overflow_y": null,
            "overflow_x": null,
            "grid_auto_flow": null,
            "grid_area": null,
            "grid_template_columns": null,
            "flex": null,
            "_model_name": "LayoutModel",
            "justify_items": null,
            "grid_row": null,
            "max_height": null,
            "align_content": null,
            "visibility": null,
            "align_self": null,
            "height": null,
            "min_height": null,
            "padding": null,
            "grid_auto_rows": null,
            "grid_gap": null,
            "max_width": null,
            "order": null,
            "_view_module_version": "1.2.0",
            "grid_template_areas": null,
            "object_position": null,
            "object_fit": null,
            "grid_auto_columns": null,
            "margin": null,
            "display": null,
            "left": null
          }
        },
        "9ebd20e205c845e09ecc53d56c78c1f0": {
          "model_module": "@jupyter-widgets/controls",
          "model_name": "SliderStyleModel",
          "state": {
            "_view_name": "StyleView",
            "handle_color": null,
            "_model_name": "SliderStyleModel",
            "description_width": "",
            "_view_module": "@jupyter-widgets/base",
            "_model_module_version": "1.5.0",
            "_view_count": null,
            "_view_module_version": "1.2.0",
            "_model_module": "@jupyter-widgets/controls"
          }
        },
        "86ed8233027d47418a09d422a7a06e35": {
          "model_module": "@jupyter-widgets/base",
          "model_name": "LayoutModel",
          "state": {
            "_view_name": "LayoutView",
            "grid_template_rows": null,
            "right": null,
            "justify_content": null,
            "_view_module": "@jupyter-widgets/base",
            "overflow": null,
            "_model_module_version": "1.2.0",
            "_view_count": null,
            "flex_flow": null,
            "width": null,
            "min_width": null,
            "border": null,
            "align_items": null,
            "bottom": null,
            "_model_module": "@jupyter-widgets/base",
            "top": null,
            "grid_column": null,
            "overflow_y": null,
            "overflow_x": null,
            "grid_auto_flow": null,
            "grid_area": null,
            "grid_template_columns": null,
            "flex": null,
            "_model_name": "LayoutModel",
            "justify_items": null,
            "grid_row": null,
            "max_height": null,
            "align_content": null,
            "visibility": null,
            "align_self": null,
            "height": null,
            "min_height": null,
            "padding": null,
            "grid_auto_rows": null,
            "grid_gap": null,
            "max_width": null,
            "order": null,
            "_view_module_version": "1.2.0",
            "grid_template_areas": null,
            "object_position": null,
            "object_fit": null,
            "grid_auto_columns": null,
            "margin": null,
            "display": null,
            "left": null
          }
        },
        "affd3a3b1197424ea521b5edcdb50c23": {
          "model_module": "@jupyter-widgets/base",
          "model_name": "LayoutModel",
          "state": {
            "_view_name": "LayoutView",
            "grid_template_rows": null,
            "right": null,
            "justify_content": null,
            "_view_module": "@jupyter-widgets/base",
            "overflow": null,
            "_model_module_version": "1.2.0",
            "_view_count": null,
            "flex_flow": null,
            "width": null,
            "min_width": null,
            "border": null,
            "align_items": null,
            "bottom": null,
            "_model_module": "@jupyter-widgets/base",
            "top": null,
            "grid_column": null,
            "overflow_y": null,
            "overflow_x": null,
            "grid_auto_flow": null,
            "grid_area": null,
            "grid_template_columns": null,
            "flex": null,
            "_model_name": "LayoutModel",
            "justify_items": null,
            "grid_row": null,
            "max_height": null,
            "align_content": null,
            "visibility": null,
            "align_self": null,
            "height": null,
            "min_height": null,
            "padding": null,
            "grid_auto_rows": null,
            "grid_gap": null,
            "max_width": null,
            "order": null,
            "_view_module_version": "1.2.0",
            "grid_template_areas": null,
            "object_position": null,
            "object_fit": null,
            "grid_auto_columns": null,
            "margin": null,
            "display": null,
            "left": null
          }
        },
        "50300627b27f4a10bee3466d52579154": {
          "model_module": "@jupyter-widgets/controls",
          "model_name": "VBoxModel",
          "state": {
            "_view_name": "VBoxView",
            "_dom_classes": [
              "widget-interact"
            ],
            "_model_name": "VBoxModel",
            "_view_module": "@jupyter-widgets/controls",
            "_model_module_version": "1.5.0",
            "_view_count": null,
            "_view_module_version": "1.5.0",
            "box_style": "",
            "layout": "IPY_MODEL_060f6205a0be4845b1b71f8477a5de46",
            "_model_module": "@jupyter-widgets/controls",
            "children": [
              "IPY_MODEL_6b9267f3b11c46439c7366c84a4b3583",
              "IPY_MODEL_fdd092f26f2d461fa91f3a1dbbfc7952",
              "IPY_MODEL_74fdeddcc079449284cad6315d48d0a2",
              "IPY_MODEL_3d2b51f92c55445c97430ea8f33f5ca2",
              "IPY_MODEL_aca33847ed6b4461a889ff0c2f50039c"
            ]
          }
        },
        "060f6205a0be4845b1b71f8477a5de46": {
          "model_module": "@jupyter-widgets/base",
          "model_name": "LayoutModel",
          "state": {
            "_view_name": "LayoutView",
            "grid_template_rows": null,
            "right": null,
            "justify_content": null,
            "_view_module": "@jupyter-widgets/base",
            "overflow": null,
            "_model_module_version": "1.2.0",
            "_view_count": null,
            "flex_flow": null,
            "width": null,
            "min_width": null,
            "border": null,
            "align_items": null,
            "bottom": null,
            "_model_module": "@jupyter-widgets/base",
            "top": null,
            "grid_column": null,
            "overflow_y": null,
            "overflow_x": null,
            "grid_auto_flow": null,
            "grid_area": null,
            "grid_template_columns": null,
            "flex": null,
            "_model_name": "LayoutModel",
            "justify_items": null,
            "grid_row": null,
            "max_height": null,
            "align_content": null,
            "visibility": null,
            "align_self": null,
            "height": null,
            "min_height": null,
            "padding": null,
            "grid_auto_rows": null,
            "grid_gap": null,
            "max_width": null,
            "order": null,
            "_view_module_version": "1.2.0",
            "grid_template_areas": null,
            "object_position": null,
            "object_fit": null,
            "grid_auto_columns": null,
            "margin": null,
            "display": null,
            "left": null
          }
        },
        "6b9267f3b11c46439c7366c84a4b3583": {
          "model_module": "@jupyter-widgets/controls",
          "model_name": "FloatSliderModel",
          "state": {
            "_view_name": "FloatSliderView",
            "style": "IPY_MODEL_bd9c704a980740879ed114e1d96fcd4d",
            "_dom_classes": [],
            "description": "p",
            "step": 0.01,
            "_model_name": "FloatSliderModel",
            "orientation": "horizontal",
            "max": 1,
            "_view_module": "@jupyter-widgets/controls",
            "_model_module_version": "1.5.0",
            "value": 0,
            "_view_count": null,
            "disabled": false,
            "_view_module_version": "1.5.0",
            "min": 0,
            "continuous_update": true,
            "readout_format": ".2f",
            "description_tooltip": null,
            "readout": true,
            "_model_module": "@jupyter-widgets/controls",
            "layout": "IPY_MODEL_156d9a7e85184907ab6bcbe9b2cb5812"
          }
        },
        "fdd092f26f2d461fa91f3a1dbbfc7952": {
          "model_module": "@jupyter-widgets/controls",
          "model_name": "IntSliderModel",
          "state": {
            "_view_name": "IntSliderView",
            "style": "IPY_MODEL_be1716d3a5b24a05abfd97b97c6d1c8b",
            "_dom_classes": [],
            "description": "n",
            "step": 1,
            "_model_name": "IntSliderModel",
            "orientation": "horizontal",
            "max": 50,
            "_view_module": "@jupyter-widgets/controls",
            "_model_module_version": "1.5.0",
            "value": 25,
            "_view_count": null,
            "disabled": false,
            "_view_module_version": "1.5.0",
            "min": 1,
            "continuous_update": true,
            "readout_format": "d",
            "description_tooltip": null,
            "readout": true,
            "_model_module": "@jupyter-widgets/controls",
            "layout": "IPY_MODEL_fca7a7777c5a45ad8a8d16439716bc12"
          }
        },
        "74fdeddcc079449284cad6315d48d0a2": {
          "model_module": "@jupyter-widgets/controls",
          "model_name": "IntSliderModel",
          "state": {
            "_view_name": "IntSliderView",
            "style": "IPY_MODEL_c4b85d8527294772ae929a58d9bf15e3",
            "_dom_classes": [],
            "description": "priorL",
            "step": 1,
            "_model_name": "IntSliderModel",
            "orientation": "horizontal",
            "max": 10,
            "_view_module": "@jupyter-widgets/controls",
            "_model_module_version": "1.5.0",
            "value": 5,
            "_view_count": null,
            "disabled": false,
            "_view_module_version": "1.5.0",
            "min": 1,
            "continuous_update": true,
            "readout_format": "d",
            "description_tooltip": null,
            "readout": true,
            "_model_module": "@jupyter-widgets/controls",
            "layout": "IPY_MODEL_3705252d83e546fdb81d54b2c1616b3a"
          }
        },
        "3d2b51f92c55445c97430ea8f33f5ca2": {
          "model_module": "@jupyter-widgets/controls",
          "model_name": "IntSliderModel",
          "state": {
            "_view_name": "IntSliderView",
            "style": "IPY_MODEL_a627d748fbf94cf9acd65d92bedf562e",
            "_dom_classes": [],
            "description": "priorR",
            "step": 1,
            "_model_name": "IntSliderModel",
            "orientation": "horizontal",
            "max": 10,
            "_view_module": "@jupyter-widgets/controls",
            "_model_module_version": "1.5.0",
            "value": 5,
            "_view_count": null,
            "disabled": false,
            "_view_module_version": "1.5.0",
            "min": 1,
            "continuous_update": true,
            "readout_format": "d",
            "description_tooltip": null,
            "readout": true,
            "_model_module": "@jupyter-widgets/controls",
            "layout": "IPY_MODEL_3f37c988d0794eae9e5982bf4ab04087"
          }
        },
        "aca33847ed6b4461a889ff0c2f50039c": {
          "model_module": "@jupyter-widgets/output",
          "model_name": "OutputModel",
          "state": {
            "_view_name": "OutputView",
            "msg_id": "",
            "_dom_classes": [],
            "_model_name": "OutputModel",
            "outputs": [
              {
                "output_type": "stream",
                "metadata": {
                  "tags": []
                },
                "text": "number of left [0]\nnumber of right [25]\n \nmax likelihood [0.]\n \nmax posterior 0.121\nmean posterior 0.1428571428571375\n \n",
                "stream": "stdout"
              },
              {
                "output_type": "display_data",
                "metadata": {
                  "tags": [],
                  "image/png": {
                    "width": 558,
                    "height": 413
                  }
                },
                "image/png": "iVBORw0KGgoAAAANSUhEUgAABFwAAAM7CAYAAAB3L4SlAAAABHNCSVQICAgIfAhkiAAAAAlwSFlzAAAWJQAAFiUBSVIk8AAAADh0RVh0U29mdHdhcmUAbWF0cGxvdGxpYiB2ZXJzaW9uMy4yLjIsIGh0dHA6Ly9tYXRwbG90bGliLm9yZy+WH4yJAAAgAElEQVR4nOzdeXgT1f4G8Ddbt3RvgVKgUArIIgiiguJFQEFlFRVRsT9Q4LoiiCKyCNcFFNkuirKIKy7gRRRkEUVFryxXUVlkB4FCodB9b9b5/REznUmTNGmTTpq+n+fpw8x0MjmdhGnnzTnfoxIEQQAREREREREREfmMWukGEBEREREREREFGwYuREREREREREQ+xsCFiIiIiIiIiMjHGLgQEREREREREfkYAxciIiIiIiIiIh9j4EJERERERERE5GMMXIiIiIiIiIiIfIyBCxERERERERGRjzFwISIiIiIiIiLyMQYuREREREREREQ+xsDFD4xGI8rKyiAIgtJNISIiIiIiIiIFMHDxg6+++gp6vR46nQ4PPPCA0s0hIiIiIiIiojrGwMUPiouLAQAWiwUajUbh1hARERERERFRXWPg4gcFBQXicnR0tIItISIiIiIiIiIlMHDxg0uXLonLTZo0UbAlRERERERERKQEBi5+kJ+fLy4nJCQo2BIiIiIiIiIiUgIDFz/gkCIiIiIiIiKiho2Bix/k5uaKy+zhQkRERERERNTwMHDxg5KSEnE5MjJSwZYQERERERERkRIYuPhBdna2uNyoUSMFW0JERERERERESmDg4gdFRUXiMmu4EBERERERETU8KkEQBKUbEUwMBgPCwsIAAGq1GgaDAVqtVuFWEREREREREVFdYg8XH3McTsSwhYiIiIiIiKjhYeDiY9KCuRxORERERERERNQwMXDxscLCQnGZgQsRERERERFRw8TAxcekBXNjY2MVbAkRERERERERKYWBi48VFBSIyzExMQq2hIiIiIiIiIiUwsDFx0pLS8VlvV6vYEuIiIiIiIiISCkMXHxMWsOFPVyIiIiIiIiIGibOWexj0houLJpLRERERP5ksVhQUlKCoqIiVFRUwGKxQBAEl/urVCrxX/uXWq2GSqWCRqNx+qVWq51uCwaCIMBqtcJsNsNsNsNiscBqtYr/Oi5LvwRBEL/sx3J37gHIzrd92ZMvrVYLrVYrnnv7MQKd/ZxYLBbZuZWu218Dd+dbeo5dkZ5XZ+fXfu6k73XpubT/az/X9eH8OrKfa/t72mKxiP86O6+O21ydX8fzKj1f0n8dl52dY41GA51OV2/ew7XFwMXHiouLxeWoqCgFW0JEREREwUoQBOTl5SE7O7vam3zHx0n/rSnHmynpsuNNrkajqXJD5hg8AHB58+UYaDj7st882pelN/GON/jS7bU9D96y3xD7gmMII30NtFqt7HVwdkMsPfeObXQ8t9Jlx3PoLjgxmUx1do6tVqtPj2c/T47nUqPRiNukIYLj+Xb8sh/Tkav3t7tQRHruTSYTzGaz+H1/8CRMrAlpiGt/Lzu7Zkjf487ObSAHNwxcfEzaw4WBCxERERH5miAIyM7ORm5uLgAgIiIC0dHR0Ov14ifz0hsQ6Y2S482du3DCMahwFlwEA+mn7s5CJFdhkrObaccba1fn3llA4e7LsQeOdFugc+xR4thTylVPFOlNt+N5ValUTs+tY88j+7pjMOT4Ppa+FvbzLN2vPpGeP3uI4dg7ylVQKr1uSM+xq5DTWRhXXVhkf99Krym++JmjoqKg1+sRGRkZUD3wGLj4mP0XHwAkJCQo2BIiIiIiCkZ5eXni35zNmjWrdhi7401UbUk/Ya9u2I39hsrVDZrjkBx3P4O7L2e9aBx72TjeXEo/LfcXV+deo9HU6rjSYEAaiNlvaF31ipAuu+q14GroiLMhUNUFJ/ahI/7g7Nz66rmcDYWSvqelPUqkw3icDTer7j3ubpifq1DEcaiZNFDx5fu5ut5ntSG9bjgOfZJeM5xdZwB5CGSxWFBQUICCggJERESgRYsWARO6MHDxsZKSEnE5MjJSwZYQERERUbCxDyUCgOTkZEVqBkp7LJAy1Go1QkJClG5G0JIGHzqdTunmBCV7aFRbgiDAaDSiqKgI+fn5KCsrw+nTp5GamhoQoYvyLQgy0mmhGbgQERERkS+VlpbCbDYjJCSEEzQQUYOnUqkQGhqKRo0aoVWrVtBoNDAajbL7ciUxcPGxiooKcTksLEzBlhARERFRsLFP0BAdHR3QhSKJiOpaSEiIWNajsLBQ4dbYMHDxMemQIhbNJSIiIiJfMhqNAGyFcomISM7e86+kpKTOZyFzhoGLj7GHCxERERH5i71gZCDUJiAiCjT22cZ8OQV7bfBK7WMGg0FcZiErIiIiIvIl+ye2HE5EROScvaA3A5cgJC3Oo9frFWwJEREREQUbe88We08XIiKSY+ASxMxms7jMKcSIiIiIyJcYuBARucfAJYhJX1T7C01ERERE5AuBdCNBRBSIAuk6ycDFxxi4EBEREZG/sIcLEZF7Wq0WgHz0iVIYuPiY9EW1v9BERERERL7AwIWIyL1AClyYCPiYdK5vTtdHdeHk5RJ8tOcsdp/KRWG5CcmxYejXvjHuvS4FiZGhSjePiIiIfIiBCxGRe4E0pIiBix9xuj7yJ6tVwL+3H8ebO07BYq0M+rKKKvB7RgFW/PgX/jW0E+7q3lzBVhIREZEvMXAhInIvkK6T7ILhR9LeLkS+ZLUKePbzA3j9+5OysEWq2GDG0//Zj5c2HYbVxT5ERERUv9g/0OPfmUREzgXSdbLe93A5fPgwSktLPdr3p59+wnfffYehQ4fikUce8XPLbIkaC+eSPyz45hjW/Xbeo33f+fk0KkwWvHzHlex1RUREVM8F0ie3RESByH6d5JCiWnrllVcwffp0rx+3bds2jBs3zi9FbdVqtfgLkIEL+cN/T2TjrR2nZNsSI0Mxc1AHdG0Ri68PZeHf24+jwlT5h9jH/8tAo6hQTLqlXV03l4iIiHyIgQsFI8eeCPyQkGrDfg8eCNfJeh24ZGVl1ehxSUlJbgvaWiwWLF68GFarFWazWaxurNPpEBYWhoiICERFRSE8PBw6nQ633367+KJqNBrxhbVYLNDpdDVqI5EzFSYLnvv8oGxbYmQI1j1yPVol6gEAj9yUhhvbJGLMe78ip8Qg7vfv7SfQuVkMbu7QpE7bTERERL7DwIWCyYULF/DWW29hwYIFMBhsf7eGhITgm2++wU033aRw62xOnjyJnJycavdr1aoVkpKS6qBFVB17YBcI18l6Hbj8+9//Rp8+fbBw4UL06NEDffv2dbrfm2++ia+//lpcnzFjhtvAxWq1YsqUKR63o7CwENHR0QBsoYzJZAIQGNNQUXBZ+dNfyCwoF9fVKuCtUd3FsMXuymYx+HR8D9yzYjfyy0zi9qf/sx/fPNUbjaPC6qzNRERE5DsMXMifsrOz8fnnn8NoNIrbGjdujHvuucenM7CeP38eq1atwquvvioGLYDtXio9PR1t27b12XN546effsK+ffvE9cOHD2PFihUePTYiIgLffvstbrjhBpf7nDt3Dhs3bnQ61CU0NBT33HMP4uLivG94LRw5cgTbt2+X9TLq3Lmzy3trb/zwww84ePCg0++1bNkSQ4cO9UtvJuksRYIgKNpjql4HLiqVCsOHD8fw4cPd7rd3714xcElOTsb48ePd7u/txcQesAC2RLasrAwAZBcqotrKKqzAMoehRKNvaIXrUuOd7t+2SRSWP9Ad96/6n1hYt6DMhJc3HcHr93Xze3uJiIjI9xi4NDz5+fl44YUXkJ2d7fT7ffv2xdixY2t1U2kwGPDCCy/ggw8+wIULF6p8f9GiRejQoQMeffRR9OzZs8bPA9h6jPTp0weZmZmy7f/85z/x+OOPo0uXLrU6fk3s3bsXc+bMwYYNG2pcaFWj0Tgd3WC1WrFgwQL89ttv+O6775Cbm+vyGHPnzsWDDz6ImTNnelz+4tKlS5g5cybKyspw7bXXYuLEiR69FzIzMzFr1iysXbvWaU3U2267DS1btsTMmTPRvLnns55mZGTglVdewZkzZ2SdHpzp06cPpk6dittuu83j43vCHrgEQtFclRAIrfAjq9WKTp064ejRowCA/fv3V/ufWBAEr0KXCxcuoGnTpgBsCbD9YpiVlYUmTTh8g3xj5pcH8dGeDHE9Xh+CH57pg5hw98PW3vzhJOZvOybb9vG4HujVJtEv7SQiIiL/MZlMOHnyJLRarWK9AMi/LBYLNm7ciBdffBElJSW4ePFitZOEpKam4uWXX8aIESO8LmlgMBhw5513YsuWLdXuq9frsXXrVvzjH//w6jkA2z3W3r17MXz4cFnYotfrMWPGDEybNs3p40pKSnz6QXZUVJTsHO3ZswcDBgxAcXGx28dFR0e7rM8ZHx+P1atX4/rrr5dtt1qtePjhh7Fq1Sqv2piYmIgpU6bgscceQ2RkpNt9FyxYIBud8e9//xsTJ050+5jMzEz06dMHJ0+erLYtbdq0wQ8//OBR6JKRkYE+ffrg9OnT1e4r1a1bNyxevBi9e/f2WW+UY8eOwWq1ol27dorWVQ36wEX6Brzrrruwbt06jx7nzQt96tQptG7dGgCQkpKCc+fOAQDOnDmDli1betlioqrySo244dXvZIVwX7rjSqT3rP79ZbZYMezNnTh0oUjc1rqRHl9P7I0QLWeGJyIiqk+sViuOHbN9kNK+fXsWFw0yp0+fRv/+/XHq1Knqd3aiefPm+Pbbb9G+fXuPHzNnzhzMnDlTtq1Fixbo2LEjysrKsHPnTlmPqpqGLlOmTMGCBQtk24YPH47Vq1dDr9c7fczOnTvRu3dvn/bo6ty5Mw4cOCCuN2vWrEqvnrCwMNxwww3Q6XTQarUYN24chg0b5tX/t5qGLVKRkZFYt24dbr31VqffLy0tRUJCgmxYVnp6Oj788EO3xx00aFCVgK1z585ITk5GVlYW9u/fL/ueJ6FLTcMWqeuuuw5bt25FfLzzHvzeOHnyJEwmE9LS0hASElLr49VUvR5SVB2r1YrnnntOXB8wYIDHj5XONlQd6ZCi0NBQcVn6xieqjY/2nJWFLckxYbj32hYePVarUePlO67Enct2wR6v/pVdinW/ncf9PVL80VwiIiLyE7VaLf6dyhkxg8/ChQvdhi033XST2AsgLy8Pb7/9tuye4/z58+jTpw927NjhUehy8eJFrFy5ssr2LVu24MorrwRgq8Px+uuv48svvwRgu8m//fbbvQpdTp48iXfffVdcT0tLw+OPP47HH3/c7c1wYWGhz4fPnT17VrZeVFQkW4+JicH27dtxzTXX1Op5JkyY4DRs6dWrF/r16ycLb6xWK9avX4/Dhw/L9i0pKcGwYcOwYcMGp6GLyWTy+p5z9+7d+Oabb2Tb4uPj8dtvv0Gn00EQBKxevRqvv/46fvvtNwC2169v374uQ5dLly45DVvUajXGjh0rjgaxKygowNtvv43y8nLZ9l9++QW33HILtm/fXuvQJVCGXwZ14PKf//xHLEh05513Vlu7RWry5MkAKsfiCYIAk8mEiooKlJaWori4GAaDAUajUfaLTto9jTVcyBcMZgs+3C3/xTCmVyvoNJ73TumWEoeR17TAml/PiduWfn8Cd17dDGE6/qFGRERUn9Q0cCk1mBGiVUOrVtWrnjFWq4AykwUFZUZcKqpATokReaVGlBrMKDNaUFRuQmG5CfllJpQZzTCarTBZrDBaBJgtVpSbLCg3WlBhssBkEWC2WmF10sdfo1ZBrQLUKhU0ahU0KhX+mNUfWi/+5qotey1Iu0ceeQSDBg2CSqWCXq/HjTfeKKvtMWnSJBw6dAjvvvsuNmzYAKDy5re60MVkMqFv377IyMiQbX/iiSfEsAWw1Yix19qYP38+AO9CF3vNlry8PAC2Egy7du1C48aNqz0f/fr1w2233VZtLRBvJCcny9anTJmC2bNni+tbt26tddhitVqxbNky2bZOnTrhlVdewW233eZ02Ndzzz2Hr776Cs8884xsyJXBYHAZusTGxmL8+PF4++23PWrXyZMnceutt8omd1GpVFiyZInYJpVKhf/7v//DiBEjMHToUGzfvl18rKvQ5ZtvvqkStowdOxaTJk2SvZekJk2ahBUrVmD+/PmyUOSPP/7wSejCwKUOSJO7F1980atfLPaLibfCwipnf2EPF/KFLQcvyqZ31odocO913vdMmXhLW6z/IxNGs+2ic6GwAqv++xee6Mfx30RERPWJRqOB2WyG2Wz2ql7HNS9vR7nJArUKCNVqEBWmRVxECPShGkSF6RCu0yAiRIPocB2iw3WICtUiJlyH2Agd9KFahOnUCNFooNOqEKa17Ruq1SBEq7YFFH8HFlYBsFhtwYbJLMBktaLMYEGZyYxy49/hh9mC4gozSg0WlJtsoUmZ0YwSgwU5JQbklhhwqciAonITSoxm1EURBItVgO2j2son06iVC6buuOMOvPXWW27vYdLS0pCWloaBAwciPT0da9asAeBZ6LJlyxZxeBpgG77yxBNPYO7cuVX2ValUmDdvHgBUCV1Onz6NRo0aOX0OZwVy09PTPQpbANu91ZYtW7B//35MnDgRGRkZiI6Oxty5c3HNNddg+fLl+Ne//iV7jEajQfPmzauct9DQUEyePBmjR4+WbR80aJAYuERERFSpw1JT0sodV155Jb7//nuX5wmwDdW69957cffddyMnJwdLly7FnDlzAFSGLkePHkWrVq1kjxs4cKDHgcuqVatktWqaNm2K+fPnY9SoUVX2DQ8Px8aNG6uELkOHDsVvv/0mO7+Osy5NnToVr7zyitv3bmpqKl599VU8//zzOHfuHNLT07F3714AttDlvvvuw7Zt2zz6uZyxP7fSFVSCNnA5d+4cPvjgA3G9Q4cOdfK84eHh4nJ1xa2IPPHZr+dl6/dc2wLRYd4VQwOApjHheKBHS7y7szJ9XvnTX/i/G1rV6HhERESkDK1WC4PB4HRqWVcEQYDBbNvfKsDW68NkweVifkDoikrlXV1HX0tNTfX4+bVaLVavXg1BELB27VoAttDlwQcfxO7du6vsLwiC2KMfsA1V2rRpk9sCra5Cl1WrVrksePvPf/5TFrYMGzbMaaDjjkqlQteuXfHjjz9W+d7s2bOxY8cO7NixAwCQlJSEHTt24IorrvDq+HYWiwVWq9UnU2BLS1QsX77cbdgipdVqkZSUhJdffhk7duzAzp07AdhCl2XLlomvgd1XX33l0XEvXLiA1157TVx/8sknsXjxYrc/q7PQ5Y8//sBPP/2Em266SdZmu7S0tGrDFim9Xo/27dtjzZo1aNOmjbj922+/xcGDB9G5c2ePjuNIOjW0koK2YuZ7770nnty77rrLp/PGuxMTEyMuFxYW1slzUvA6l1eG3X/Jp467vwa9W+wm3txWNqtRUYUZH+w8U+PjERERUd2rySe3ZqvgdBgNuaZReNjV+vXrkZ+f7/H+Wq1WdkMNuO5x/+mnn+Kvv/4S1+fNm1ftbDhAZejyxBNPiNvsvTAc7dmzRwxC7J599lmfFzCV9pZ58MEHvQpbHBkMBlmtmZpSq9V46KGHxPUvvviiRsdxDGkWLVoke03z8vI8bu/cuXPFa4Zer8crr7zi0T2yPXTp1auXuM3xNR8wYIA4VCsjI0Os/eINx15PgiBUeT97I1ACl6Dt4fLpp5+Ky/3796+z542IiBCXHYsAEXlr3W/y3i1XtYhF2yZRNT5eTIQO425MxcJvj4vbPth9BuN7t2YtFyIionqiJjcSRrMVESEaVJgs9TJ4CdfZhkA1igpFUnQYYiNCEB2u/Xu7bdhTbLgOkWFahGjU0GnVtn81aoTp1IgIsQ2J0mnUYn0Wew8WQRDEYVACBFitgEUQYFH4RJ09exZr1qzBo48+6vFjcnPlH9S98MILVfYRBEE2W9CECRNw3XXXefwcKpUKM2bMwLJly2CxWFBaWorLly9XuWFOSUlBZGSkbAjLXXfdhcceewxTpkyRlWLwFV8cc/z48Vi6dKnLmZMAIC4uDosXL3Y7NfuYMWPEorlLly7FrFmzEB0d7XE7DAZDlfo6sbGxsrpNntYMzc/PF9uiVquxYsUK2X1rdcLDw/Hss89i2LBhAGyz8Up7AjVu3BiDBw/GypUrYTKZsHDhQtn9uCdOnDhRZVtCQoJXx5DikCI/O3r0qLg8ZsyYOnte6RuXQ4qoNixWoUrgMqK766nYPDW6Vyus+OkvlBhsxbJySozYdOAi7vbBsYmIiMj/ahK46EO1OPzibQAAk8WKCpMFBWUmFFeYUVxhQqnRjAqTFSUGM4rKTSj6e3tBmenv+iq2IUj2grRlRgsMZgsMZiuMZivMVnlAoVGroFWrEKJRQ6tRISJEC32oBuE6DcJ0GoSHaKAP0SIyVIvwEA0iQ7WICtMiIlSLuAgdGkWGIiEyFI0iQ6EP1fi1cK1KpYJGpWy9FmlbpKZNm4bRo0d7dHOcmZmJkSNHiuvt2rXDwIEDq+z3/vvv448//gAAXH/99ViyZInXQ6eSkpLw3HPPiT0dnn76aaxevVq2T3JyMp5++mnMnz9fvC/KysrCrFmz8Nprr+Gtt95Cenq6V89bVxynRXYmLCwM69atc/n9tm3bIioqSpxsZdq0aXjzzTfF7585cwZ5eXk4f/48Jk+eXGX2JIvFUiUsWLBggWz4jjPOXsupU6eKPWMmTZrktGZLdYYMGSIWzT1x4gRWrFghCwO7d+8uLq9ZswYTJ05Ez549AQBmsxmHDh2C2WzGV199hYULF6KiokJ2fGkhX8DWC+ell17yup12LJrrR+fPV96kNm3atE7n3ZZeDB3fRETe+OV0HjILKntJhWrVGNo12c0jPBMdpsPIa1vgnZ8ra7m8t/M07rq6Wb2asYCIiKihst9I1LSrvO7vnh9RrOEWcIYNGyYbIlJYWIiLFy8iLS2t2sdOnz5d1kvgtddeqzKLVUVFBd544w1x/Zlnnqnx33/SNh05csTpPrNnz8b48eOxaNEinDlzBuvXr4cgCCgpKcHo0aNx4MAB/POf/3TbU8TfanLP1qVLFyxfvtztPo0bN8bkyZPFXkbSKZ8XL14sq6FTHb1ej/T0dNx5553V7nvPPffI1s+cOYPPPvsMABAVFYWHH37Y4+eVUqlUSEtLww8//AAAVaawHj9+PF599VVxtqKjR4+iZ8+eKCkpwe23346ff/7Z4+fq0KEDnnnmGURF1bxnf6AMKQrKGi7vvfeeuPzQQw/V6U2ktGguhxRRbWw5eFG2fvuVST4rbjv6+laQ/rc4dKEIv5zO88mxiYiIyL/sNxJKf3JLvjd06FBZ4VAAeOCBB9zWAMnMzMTDDz8s3lQDwM0334zbb7+9yr67du0Se7d06tTJoxt4T+zbt89l3Y7k5GQsWLAA69atw6pVq2RDPRYsWIBrr70Wv/76q0/aUROLFy+Wrc+aNQvvvvsu5s6dK7u302g0mD59OlavXo0dO3YgMTGx2mO3bNlSXN69ezd+/PFHLFmyxKuw5emnn8bvv/+OZcuWVRtAtGrVCoMGDZJt++ijj8TaoiNHjkS7du08fm531q1bh6KiInFdpVLJft633noLFy5cwMCBAz0OW5o3b46VK1fi119/ldXAqQl7TyDHnjN1LSh7uLRq1QqdOnWCXq/HAw88UKfPLR3rV1JSUqfPTcHDZLFWCVwGdal97xa7lIQI3NKhCb49fEnctubXc+jRuubjJImIiKhuBEpXefIPxzoke/bswZ133onU1FSEh4fjuuuuw8svvyzWUlm7dq3sg96bb74ZGzdudNrLX1p2QVrHpSakw10SEhI86qXy0EMPoX///njhhRfwzjvvALD14unfvz++/fZbXHvttbVqU01s2LBBXL7yyivxr3/9SwyFHn74YVy8aPubPDExEU2aNPHq2Pfddx8WLFiAw4cPw2AwoE+fPm73nzVrFu6++27x/3hcXJxYjNYT7l7zsLAwvPzyy5433gnHqa4dCy2/9NJL+Mc//gEA+PXXX9GsWTOXx2rcuDHeffdd2TTXqampXtWWcSdQrpNBGbikp6crNh4wPj5eXHYsWkXkqZ9P5CC3tLIIVlSYFr3bVZ+ie+P/rm8pC1w2H7iImYM6ICEy1KfPQ0RERL4VKDcSVLfsQzUOHz6M999/3+k+9rDF2U2r0WjEc889B8DWu2XAgAE1bosgCLIZiMaNG+dxQdgWLVpg5cqVSElJwcqVK5GZmYnCwkIMGTIE586dg05Xt0PdpCHC4sWLZaMj4uPjZfd33goLC0P37t2rDL9xZtiwYU6LHLtT3XCZ33//HR9//DEAYNSoUV4HRlIVFRXYs2ePuP7kk09WmeXo+uuv9/h4y5Ytq9Ibx5cCpWhuUA4pUlJsbKy4XFBQoGBLqD77cl+mbH1wl6YI1fp2FqFeaYlIia/8ZWy0WPHFH5luHkFERESBgIFLw6LRaJCenu62p0OzZs3w0ksvuQxbACA7O1ucMWjmzJkeTQnsjCAImDFjhlgkNyIiAjNmzPDqGGq1GrNmzRLrfADApUuXXAZJdaVp06Y+P6ZjTRVfPveHH37o9vunTp0Sl2fNmuX18e0qKipwxx134NChQwCAXr16YciQIVX202g0GDFihEfH9Me5lgqU6yQDFx+TpoaXLl1ysyeRcyUGM7YdypJtG3KV74YT2anVKtzfI0W2zXFWJCIiIgo8gXIjQXVj2bJl+PDDD7Fr1y60bt26yvfT0tKwa9cuzJw50+1wjFdffVVcdhwK4il72PLKK6+I2xYsWFDjYSCRkZF4/vnnxfWHH34YmzZtqtGxAtXgwYORkiL/m3v48OFV9svJyfG6N4Z9qmdnBEHAvHnzxPWavub2sGXbtm0AbCU0pMd19Pjjj8vWExMTxWFGUjk5OTVqj6cC5TrJwMXHpF3ppHPOE3nqm0NZqDBVXhiaxYajZ6p/aqvc2a2ZbArEo1nFOHKxyM0jiIiISGmBciNBdeO222zTebds2RLHjh1DZmam7Ovo0aNVbuidsd8w11R+fj6eeeYZWdiydOlS2U7OrysAACAASURBVNTANXH77bfjlltuAWALCb766qtaHc8bR48elRVV9dfwk44dO8rWly9fXiUsWbduHdq3b++y+LAzJpPJ5fdyc3O9OpYzZ8+exbBhw2Rhy9dff41evXq5fExaWpqslkz37t3xzTff4NZbb5XtN3z4cIwcOdJvE80EynUyKGu4KElaNNc+3zyRN7YclPduGdo1GWq1f2baahwdhhvbJOLH49niti/3ZaJDU8/G4BIREVHdC5QbCaob0poiWq3WqyKqrngzc0tmZibef/99vPDCC7Ib/KVLl1bpzVATKpUKHTp0wPbt2wEAO3fuRHl5uWyGIH+ZMmWKbH3FihWYMmUKUlJSkJmZif/9739uH69Wq9GnTx9ZWQlnFi1ahK+//lpcV6lUGDt2LABb/Ru748eP45ZbbsH27dvRvXt3t8fcv38/zp/3vHe6N6/5wYMHsWTJErGwMVAZttx4441uH9u8eXM89dRTYi8YlUqFsLAwfPnll7KeMhaLBZ999hny8vKwceNGn7/egVLDhYGLj0n/s+Xn5yvYEqqPSgxm/HQiW7ZtUGf/jm+8o1uyLHDZtP8ipt7a3m8hDxEREdVOoNxIUP0iHfazatUqDBo0yG2B2pycHCxevBjLly9HXl6e7Hu+ClsAICMjA+vXrxfXCwoKUFFRUSeBi+MkJ0uXLsXq1atx9913Y/369R7dz82bNw/PPvus232SkpKcbncWuhQUFHgUuixYsKDKNUA6bXRoaChUKpW4z/Lly6ut43L48GEsWbIEq1atkgW6noYtds5+XmehCwBs374dQ4cO9XnoEijXSQ4p8jHpm5xDishbO45dhtFceXFrER+OTsn+7W3Sv2MSQrWVl4LMgnLsO8+Cz0RERIEqUG4kqH6ZNm2auLx582a0b98eb7zxhtjz4dChQ7jjjjvQt29f9OnTBx07dsTcuXNlYcuoUaNw4MABn4Ytffr0QWZm5cQNDz30EOLi4nxy/JooLCzEO++841HY0rFjR4wZM6ZWzzd27Ngqw4vsoYu7IUEVFRVVts2ePVtcjoqKwpNPPin73nXXXYctW7ZAEAQIgoBNmzbh1ltvRd++fdG7d29cc801WLlypRi26HQ6sbixp2GLO/bQxXF4kT108eXwokC5TrKHi4/FxMSIy0VFRRAEQdYNkMidzQcuytZv65Tk9/dPZKgWN3doLBvKtOXARVydotwvOiIiInItUG4kqH65++67kZKSgoyMDADAX3/9hSeffBJPP/00dDodysrKnD4uKSkJX375Jbp06eJxD4QLFy6IgUVqaioiIiJgMplw/PhxcZ/Lly9j7Nix4nTXADBgwABZMFQdg8GAAwcOeLy/I2/+zg4NDUXr1q3Fx7Rs2RLvv/8+GjduXO1jf/31V3E5NTW1SqA0duxYCIKA8ePHi9s87eki1bt3b9n6E088gWXLlsFoNIrtGDRoEMLCwgA4D20A2/TOH3/8MZo1ayarx+IJQRCwd+9ecf2aa66Rfd9dT5dhw4Zhw4YNPunpEijXSQYuPhYSEgKtVguz2QyLxQKj0YjQ0FClm0X1QJnRjB+OXZZtu93Pw4nsBnZuKg9cDl7E9IEdOKyIiIgoAAXKjQTVLxqNBtu3b8ecOXPw6aefijfhJpOpSvHVrl27olu3bggLC8OkSZPQrl07j5/n4sWLaNasmbjevHlzTJgwAR988AEOHz7s9DFJSUkYM2YMZs2a5dXN9urVq3H06FFx3dtwYMiQIdi1axcAICUlBX379nU6XbZerxdru9SENER67bXXoNVWvQ23DytyFrp8//336NatW7XP4xggtWnTBlu3bsWCBQuwdetWcbuzoGXAgAFo1qwZEhIS8Pzzz8smg/HG4cOH8fHHHwOwdUaQzkJl5yp0+fbbbzFs2DB89dVXtb6HDpTrJAMXP4iLi0N2tq0mRm5urk8KW1Hw23Esu8rsRN1auC/A5Sv92jdGuE6DcpMFAHChsAL7zxegG3u5EBERBSylbyTIP2o6fa8n2rZti/fffx+TJk3CW2+9hbfffhuALYyZPHkyUlNTERMTgxEjRrit7+KOYzHn8+fPY+rUqU73jYyMxIwZM/Dggw+iSZMmXj+XxWIRl+Pj4/HAAw949fipU6eiU6dOuHz5MoYPH474+Hiv2+AJeztvvPFGDB482OV+rkKX559/vsbTZffr1w/9+vXD119/jYULF4rFiRMSEvDMM88gJiYGrVu3rjLMp6akr8lLL73kMgRzF7ps3LgRI0aM8El7lKYSeKX2uW7dumHfvn0AgD179qBHjx4Kt4jqg+c+P4A1v54T18femIrnB3d08wjfevSj37D1z8peLo/3TcOUW9vX2fMTERGRZwRBED/V79Chg8KtIV/bvXs3br31VhQXFyMqKgpZWVmygre+dPr0aRQUFKBx48ayXim1NXfuXMyZMwcGg0G2vU2bNli4cKH4gXSLFi2QmJhY4+cpLS3FyJEj8fXXX+Opp57C/Pnza9Vuf8nJycGFCxfQoUMHj4KsVatW4amnnkJJSQkA22xI33//PW666SZxnxEjRmDdunXieqNGjXDhwgWnvWfsrFYrjh49CoPBgNTU1GpnV6oJQRBw4sQJ6HQ6pKamVrt/RUUF7r//fnzxxRfitjZt2uDIkSNufxZP2hEI10kWzfUDaVXmy5cvu9mTyEYQBPx8Mke2re8V1Y8H9aUBneSfKnx/NNvFnkRERETkL9dffz2++eYbDBkyBJs3b/Zb2ALY6ol069bNp2ELAEyfPh2lpaUwm82yr6NHj2LQoEHo1q0bunXrVquwBbAN9dm0aRPMZnPAhi0AkJiYiC5dunjca2jcuHG4fPkyHnnkEXGb43Ah6XpMTAw2bdpUbUChVqvRsWNHdOvWzS9hi71d7dq18yhsAWw9XdavX48TJ06gTZs24jGCpQ4qhxT5gbQrWkEBZ3uh6h26UITz+ZVVuUM0anRvWbfDeW5q1xgqFWDv83bkYhGyCiuQFBNWp+0gIiIiauh69uyJjRs3Kt0MUlB4eDjefPNNdOnSBampqU4L4jZr1gwajQbp6em46qqrFGqpb7Rp0wY7duzA+++/j9GjR0Oj0SjdJJ9g4OIHer1eXLZ3AyNy56sDF2Tr/2ibiPCQur3IxOtD0LVFLP7IqAwJfzx+GSOvrVlxMCIiIiIiqjm1Wo1HH33U6fd69+5dJYSp75o1a4YZM2Yo3Qyf4pAiP5BO88UeLlQdQRCwab98OujBV9XN7ESO+rSTD2P66XiOiz2JiIiIiIjIHQYufiCdQquoqEjBllB9cOJyCTILKocThWrVGNAxyc0j/OemKxrJ1n8+mQOLlXW1iYiIiIiIvMXAxQ9iYmLE5cLCQgVbQvXBt4cvydavT0uAPlSZ0X6dm8UgNqKymFdhuQkHM/keJiIiCiScZJSIyD37dVLp4rsMXPwgISFBXM7Ly1OwJVQfbDogH07Ur33dzk4kpVGr0CtNXi1+96lchVpDRERE7ih9I0FEFKgYuASxyMhIcZlFc8md7GIDjlysHHamUgGDOitTv8WuZ+t42fr/TjNwISIiCiSBciNBRBSoAuU6ycDFD8LCKqfRLS8vd7MnNXQ/Hs+WrXduFoOEyFCFWmPTo3WCbH3vmXzWcSEiIgoggXIjQUQUqKxWKwDbTE9KYuDiByyaS55yDFxuatfIxZ51p23jSMRJ6riUGMw4lc2eWkRERIGCgQsRkXv26yQDlyAUEREhLpeVlSnYEgpkFquAn0/IA5c+VyhXv8VOpVKhS/NY2ba9Z/IVag0RERE5YuBCROSevYeL0tdJBi5+EBUVJS6zhgu58mdmIfLLTOJ6TLgOXZrHuHlE3bm2VZxs/bezDFyIiIgCRaB0lSciClSBcp3kVdoPdLrK4RhGo1HBllAg23kqR7beq00CdJrA+C95dUt54LL/fIFCLSEiIiJHgXIjQUQUqCwWCwBAo9Eo2g5epf0gJCREXDaZTG72pIbsh6OXZevXO0zHrKQrm8VA2vvu5OUSFJbxvUxERBQIGLgQEbkXKNdJXqX9QNrDhYELOZNXaqwyTKfvFcoXzLWLDtPhiiZRsm0HMtnLhYiIKBAEyo0EEVGgYg2XICYNXMxms4ItoUC190wepDMtt0+KQvO4CNcPUIBjPZn95xi4EBERBQIGLkRE7tmLi3NIURCSvqgMXMiZfQ7hRc/WCQq1xDXHmYqOZBUr1BIiIiKSCpTaBEREgcp+nVQ6mGbg4gcMXKg6v5zOk61f1SIwZieS6tBUPqToyMUihVpCREREUva/L7VarcItISIKTIESTDNw8QPpLz97l08iO4PZggPnC2XbeqQGXg+X9knRsvUzOaUoN1oUag0RERHZBcqNBBFRoLIPKWINlyCk9ItKge3PzCIYLZVBXLPYcCTHhivYIuf0oVq0TKisK2MVgOOXOKyIiIhIaazhQkTkXqAE07xK+4E9TSNyZs9fubL1bimxLvZUnuNMRccYuBARESmOgQsRkXsMXIIYAxdyZ+8Zef2WQCyYa9c+SR64HL7AOi5ERERKs/+tycCFiMg5ezDNwCUISeu2cHgRSVmtAn7PkM9QdF1qvEKtqV7HZHkx32OcqYiIiEhxgTL7BhFRoLIXF2fgEoSkgQt/EZLUicslKCw3ievRYVq0aRSpYIvca9dE3jbWcCEiIlIehxQREbkmCAKHFAUz+4sLKP8CU2D5IyNftt69ZRzU6sDtBdUyQY9QbeVlIrfUiOxig4ItIiIiIgYuRESuSWcoUnrECa/SfmA0GsXlkJAQBVtCgebwRXkNlKtaBG7BXADQqFVo51A498hF1nEhIiJSivSTWwYuRERVBUrvFoCBi1+Ul5eLy3q9XsGWUKA5elE+JKdD02iFWuI5x8DlbG6pQi0hIiIi6Se3DFwajpycHBw/ftzpl8Hgfe9jk8mEY8eOYfHixWjatCni4uKqfCUmJuLZZ59FVlaW18e/fPkyjh8/joKCgup3lsjOzsaMGTPQqFEjWVu6dOmC7du34+zZszWaoCQ3Nxf79u3DyJEjnf6scXFxSEtLw+effy778Jzqp0ApmAsAWqUbEIykF73Q0FAFW0KBRBAEHMmS9w7pWA8Clxbx4bL1jLwyhVpCRERE0sCFgpfRaMSWLVtQUlKCI0eO4NVXX5XViZRKTU3F7Nmzcc899yA8PNzpPlKZmZno168fjh8/Xu2+8+fPx+LFizF9+nQ89NBDaNmyZbWPOXfuHFq2bAlBEBAREYFNmzahb9++1T7u888/x3333QeTyVTlewUFBejfvz8AYOzYsVi5cqXHgePatWvxwAMPiEVUXSkoKMDdd9+Ntm3bYtasWRgxYgTv5eop+/+VQLhOMhb3g+Liyl4M7OFCdpkF5SiuqLzQR4Zq0Tyu+l+KSmvtUNT3yEUWziUiIlIK67cEN0EQ8MEHH+CGG27A8OHDkZ6ejrlz57oMWwDg9OnTGDNmDHr06IFly5a57QGSmZmJPn36eBS22JnNZrz44ovo2rUrJk+ejOzsbLf7v/zyy2IbysrK8K9//ava59i2bRvuvfdep2GLo3feeQfjx493e07s1q5di/vvv7/asEXqxIkTSE9PR8+ePbFq1aoa9aghZXFIUZArK6vsARAREaFgSyiQnLhUIltv1yQyIFLX6lzhOKQoj0OKiIiIlGK/+WPgEpzefvttjBkzBr/99pvXjz148CAee+wxPPXUU05DAnvYcvLkyRq1raCgAIsXL8bNN9/sNnT57LPPZOsVFRVujysIAubPn18lFJk/fz52796Nbdu2oUePHrLvvfvuu9WGLvawxZNgxpl9+/Zh/PjxmDZtGkOXeiZQpoQGGLj4RWFhobgcExOjYEsokJy8LA9crkiKcrFnYGkRHw5pLnQ+vxzlRovrBxAREZHfsGBucNuzZ49sPTw8HN27d8c111yDm266Cdu3b4fFYoHVakVubi7Gjx+Pbt26QautrBSxZMkSp6FLenp6lbClbdu2eO+992AymWC1WsUvi8WCbdu24dprr63SxoMHD7oNXbp16+bxzysIAp5//nl89913su2pqamYNGkSevbsiQEDBmDPnj3YuXMn4uPjxX3chS5nzpypErZoNBr0798fhw8flv2sVqtV7InTpEmTKseaN28eQ5d6xv66S/9fKEX5FgSh0tLKHgCRkZFu9qSG5K8cec+Q1on1470REWIb+nQuz1YMWhBsdVzqS2BEREQUTGoVuBhKAG0ooNYC9aCXrchqBUylQHk+UHQRKM0GynJsP4+pDKgoBMoLgPI8wFgCmI2AxQhYTIDVZNvHWAaYK2zbrWZAcNLrQaUBVGpArbEtqzXAs6cBjTK3TMnJyfj555+Rmprq9Pvx8fFYuXIlAFtQM2DAALG0wZIlSwAAixcvFntUnz9/Xvb4p556CgsXLnTa41qlUmHAgAEYMGAAvvjiC3z33Xf47rvvcPToUQCVocuOHTtkIQgAvPLKK+jZs6dHP+PBgwcxZ84c2baUlBR89913VW6Wb7jhBnz//ffo168f8vLyANhCF5VKhVWrVsn2vXjxoixs0ev1+Prrr3HjjTc6bUd4eDhmz56NZ599FvPnz8fp06fx2WefiSMX5s2bB41GU6WtFJgCKZhm4OIH0houDFzI7lS2vIdLamL9qe/TKkEvBi6A7Wdh4EJERFT3ajX7xoK2tvBBpQa0YUBoNBARD4REAmHRgC4c0OmBsBggPBYIjQLCYv/eRw9owwFtCKAJsT0+RG8LcDR/hzjqvwMLwQpYLbaww2IELGZbEGIqA0zlgLHUFn4Yim1fpnJbaGIssX2VZNtCleIsoKLAtg/qoHeBYLF9WSV1RNTKDUm45557XIYtjnr27Ilt27bh1ltvlYUuUVFReOmll6rs/+CDD7oMWxwNHz4cw4cPR1FREXr16oU///wTgC0sef/99zF58mTZ/t4M4XnhhRfE5fDwcLzwwgtIT09HUlKS0/2vuuqqKqHLO++8g6effhodOnRw+TybN292GbZIhYeHY9asWQCA0aNHy4r9vvrqq3jyySed9oKhwBJIta4YuPgBa7iQM2ccerikNa4/YVxao0j890SOuH46h3VciIiIlFDjGwlBsIUcgC0QMZXZvkq8n/K34VAp2hPowoULXu1//fXXY82aNRg0aJC4be3atWLg0rJlS5w4cQKAbdiPt7UEo6OjMXDgQDFwAYA5c+bgwQcfRFxcnLht6tSpHh3vr7/+wvr168X1VatW4f7776/2cc5Cl2eeeQabN28W92nWrBk0Gg0sFgs0Gg2uvPJKj9ok1adPHzRp0gSXLl0CYPu/99xzz+G9997z+lhUtwKph4vyLQhC+fn54nJsbKyCLaFAUW604HJx5XThKhXQLDbwZyiyS4mXB4fn8zk1NBERkRJqHLi4GkZDrinYuwWwFZ/duXOnV4+5+uqrZevSHhqLFy8Wl6dPn46SEnnva0849l7Jy8tDRkaGbNuBAwc8OtbEiRPF5ZYtW+LOO+/0uB1XXXUVli9fLq7v3r1b9v2UlBSx543FYsHTTz/t8bGlHH/e33//vUbHobpVq56APsYeLn4greESFcVhFwScyZX3CGkeF44Qbf3JOx0Dl1PZ7OFCRESkhBp/cms22IYLmcvrZ/Cii7ANgYpsDEQnA+HxtqFPunDbcKjwONtXaJRtiJMmBNDobP/qwmzDprRhtnV7jRbV3z1YBKFyGBQE27+C5e91ZS1YsAC9evXyeH97TRfA9h558cUXxfXWrVtDpVJBEASUlJRgxYoVLoOIrVu3VpkpyWw2Y+3atbJt3bt3R6dOnTxun92+ffuwbds2AEBSUhJ27NiBsLAwr44xaNAgtG/fHkePHkV+fr44pMquTZs24vL69evx/PPPIy0trcpxSktL8e6778omPgGAS5cuVSkMPGbMGK/aSMqwBy6BMCMsAxc/YA0XcnTWIXBJrScFc+1SG8nrzZzLYw8XIiIiJdT4k9vQSGDG30NULCZb3ZTyPFt9lIqiv2uslNv+LS8ADEW27eV5f9dXKbV932KwPd5YZgtvzMbKbYIkoFBpKgMPtdZW7yUk8u86MRG2f0P0toBEF/F3vZho27bweCCyCaBvBEQ2AkKi/Fu4VqWqLJKrsISEBNn6l19+iaysLJc1TaTee+89zJ49W1yfOHGirN5IREQEHnvsMbz55psAgOXLl4uBS2lpKaZNm4bTp0+jsLAQ//3vfz1q79SpU6udCaZx48ZVti1atAgmk61WzkMPPYRWrVp59HxSERERGD16NKZNmwbA9vNIA5e7774bL7/8Ms6dO4fi4mJ88skneP755wEAe/fuxbx581BRUYFDhw7h9OnT1T5fXFwcHn30Ua/bSXXPPqNUIAwpYuDiB6zhQo4uFFTI1lvE1Z/hRIBt+JP9AyAAuFhYgXKjBeEhyv9hQkRE1JD4pDaBRmf7Cov2UavIV2bMmIGVK1eiqKhI3LZ9+3bcd999bkO28+fPy4YM6XQ6PP7441X2GzJkiBi4ZGZmIj8/HyEhIRgyZAh++OEHj9qo0WgwePBgLFiwQNaLxJX58+fL1n/99Vd89NFHAGxhzPTp0z16Xmd0Op24fPToUZhMJnFbfHw8/vGPf+CTTz4BABw6dAgA8Msvv6B///6yc+xOQkICnnnmGTz++ONe98IhZbBobpDLyaksLuqYUlPDdLGwXLaeFF2/LtZhOg1S4iNwNrcyTDxxuRhdmrNGERERUV0KpNoE5HuxsbFISUmRFaZNT0/HokWLMGnSJISHh6Nz585o3749AODYsWNYtmyZOA00YAsh1q9f73T4TNeuXZGYmIicnByUl5fj5ptvRnh4OHbt2uW0PVFRUejXr58YYuj1ekybNg1XXHGFxz+T475HjhwReyA88sgj0Ot9M3PnqVOncPz4cdkQp1tuuUUMXNauXYuQkBBs2LDBZdjSvn17WYHdDh06YObMmQgJCfFJG6lusIdLkLt48aK4zGnDCKjawyW5HhXMtWvXJEoWuBy9yMCFiIiorgXSJ7dUd/744w+MHj0aABAaGor09HQAwOrVq2EwVE7MYA9bBg8e7PQ4TZo0wbhx4/Dqq6+Kx3UlIiICP//8M7p06eKrHwNWqxUrVqwQj//ss8/W6njS4GTw4MFV6smMGTMGM2fOFGd8Wr16tctj9evXD1u2bEFoaGit2kTKYw2XIJeVVTm9XnJysoItoUBxwaGHS30MXDo0jca3hy+J64cvetYNk4iIiHyHgQsZDAasWrWqyvbIyEh8+umnLsMWu9TUVI+ep3v37l6HLfn5+bIJRBxlZGSIvWlmzZpVq94tBw4cEIdHqVQqzJkzp8o+KpUKqampHk2xfd999zFsCRL2Hi6BgFdqP5AWzY2JiVGwJRQosgode7jUryFFANCxqXycNwMXIiKiuschRQ1Pr169cOrUKcycOdPlPrNnz8bly5erDVsAW5Hajh07VrtfTXoHTJ06FWaz2eX3pdM333jjjV4f3+7AgQPo168fcnNzAQC33XYbOnTo4HTfhQsXenTMQOgNQb7BIUVBTBAEWeDiqzGJVL8VlJlk6/H6+jcOtENT+RTnRy8WQRAE/nIiIiKqQ4HUVZ7qxooVK9C6dWu89NJLSEtLq1JvpVevXuJwI09otVq0a9cOhw8fFrf95z//wQcffIBNmzaJ2/bt24cVK1YgPT3d44lAzp496/b7M2bMEJdr+h52DFuuu+46fPrppy73dwxiEhISsH37dvTv319We/ODDz5A69at0bdv3xq1iwKHPXAJhOuk8pFPkLl8+TKMRiMAW9ErzlJExRUmlJsqp0kM0agRGVr/ss4WcRHQS2YlKqow46JDzx0iIiLyLw4panikPebHjBmDlStXyr68CVvsHnvsMdl6kyZNsG7dOlkPmaKiIjzyyCMYOHCg22FCUnl5eW6/7+nMQM7k5OTgySefxE033SQLW7755hu3owqio6MxatQo2XrXrl3x/fffIzExUdz+3//+F/369cPSpUtr3EYiR7xS+9jly5fF5aSkJAVbQoEis0Bev6VpbFhApK3eUqtVaO8wrOjQBQ4rIiIiqkuB9Mkt1V/9+/eXhQ2ArRivY+gCAD/++CMGDRpUbejyxRdfYO/evR63ISMjw6P98vPzMWHCBLRu3RpvvPEGCgoKAHgWttjdf//9VbZ17ty5SugCABMmTGDoUs8F0nWSgYuPZWdni8uNGzdWsCUUKM7nyQOXFnH1t9dTp2R54PJnZqFCLSEiImqYAulGguo3Z72kahO6/P7771W29e7dW/Ze7dGjh7j82GOP4ZNPPpEd02q1Yu/evdixYwd++OEHPPfcc2jSpAmWLl0qlm2IiIjAqFGjPA5bXP2sAEOXYBVI18n6N64hwEnrt0RFRbnZkxqKrCL5sJumMfWvYK6dY+By6AIDFyIiIqL6xmKxoKKi8m/U8PDKGTTtocvdd98tq+liD102b97scZ3K2bNny9YXLFiALVu2ALD1XBk1ahSuuOIKpKenQ6fT4aeffsLmzZudHmv48OFo3749HnroIbRp08bjnxUAysrKxGXpzwpUhi79+vWT1XSZMGECAOCJJ57w6rmIpNjDxcek4xYTEhIUbAkFCscZipLqdeAi/xThz0wOKSIiIqpLgfTJLdVfy5cvF+up9O/fH1dffbXs+7UdXmQXGRkpW+/QoQMefvhh2bZjx45h5syZmDp1qsuwZc6cOVi/fj3mzp3rddgiCALmzZsnrk+dOrXKPuzpEpwC4TrJwMXHpBcfzlBEAHChUD6kKDk23MWega9dkyiEaCovG1lFFcguNijYIiIiIiLy1tatW8XliRMnej28aNy4cTV+7uXLl+PYsWMYMmRIlecNCwtDkyZN0KlTJ2zduhVnz55FdnY2pk+fXuPny8/Pxy+//ALAVmPzFI5cnwAAIABJREFU3nvvdbqfu9BFer6o/rAH1Epi4OJj0srbHFJEAFBcYZatx0XUvymh7UK0arR3mB76YGaBQq0hIiIiCj6O0xJrtb6vAjFq1CgMGzYMb7/9NgYNGuRyP1ehy/r163HmzJlqn8dV29u1a4eNGzfi8OHDGDVqFIYOHYpJkyYhOzsbWVlZ+PPPP3HbbbchJSWlSgDirbi4OIwfPx4jR47Et99+i5AQ13+LuwpdlixZIs4QRuQNBi4+Ji2a26hRIwVbQoGixCFwiZBMrVwfXdlMPqzowHnWcSEiIiLylUWLFom9MEaMGOGXmU/vu+8+fPnllx71VLGHLq+//jrS0tIAAEajEcuXL3f7uN69e6NLly5u97niiivw0UcfYcOGDVi8eHGVIUi+oFKpsHLlSqxZswZXXnlltft37twZu3btwlNPPSUGRtu2bcPRo0d93jbyD/tQIvZwCUL2OeEB1DqNpeCQV2qUrcfr628PFwC4qrk8cDnIwIWIiIjIZ7RaLT766CP8/vvv+OSTT5RuDgBb6DJhwgT8/PPP6Ny5M9q0aYNHH31Utk9ycrK43K9fP2zevNkvvXPqQtu2bbFo0SKsWbMG4eHhGD9+PNq3b690s8hDgRS41M//AQGsvLyyXkdERP2d/pd853KxvGhuo6hQhVriG52bxcrW958vgCAIAVGUioiIiCgYaDQadOvWTelmVJGUlIT9+/dDEIQq9VceffRRpKenw2q1IioqKij+Nrzrrrtwxx13QKOp3z3USTns4eJj0mmh/dEljuoXk8WK/DKTuK5SAQn1vIdLuyaRsmFROSVGnM8vd/MIIiIi8pVA+uSWGiaVSuW0yC5gu/+Jjo4OirDFjmFL/RNI10kGLj4mneOdPVwot8RhOFFECLSa+v3fTqtRo7NDHZffM/IVag0REVHDEkg3EkREgch+nQyEQsf1+84vAFVUVA4fCQ2t30NHqPZySuRTJtf34UR2V7eMk63vPcPAhYiIqC4wcCEics/eAysQrpMMXHxMOqQoOjpawZZQICgsN8nWY8J1CrXEt65xCFx+O8vAhYiIqC4wcCEici+QrpMMXHystLRUXNbr9Qq2hAKBY+ASHSSBy9Up8sDlSFYRCstMLvYmIiIiXwmkGwkiokBk7+HCIUVBSDqkKDw8XMGWUCDIdRhSFB9Rvwvm2sXpQ3BFkyhxXRCA3zLyFGwRERFRw8DAhYjIPQYuQYxFc0nqQqF8SuikmDCFWuJ716bKe7n8kVGgUEuIiIgaDvuMKRaLReGWEBEFpkAKphm4+JjBUNmjgUVzKcshcEmODZ7ApVsLeeDy6xn2cCEiIvI3Bi5ERPUHAxcfk/7yczU/PTUcl4vlgUvj6OAJXK5tFS9b/z2jABUm/vFHRETkTwxciIjcsw8lsvd0URITAR+Tdlti4EK5JUbZeqPI4On11CI+HM1iK+sUGc1W7D/HYUVERET+FBJiqwcnHcZOREQ2giCIo07s10slMRHwo0BI1EhZRUE6LTRge39flyrv5bL7r1yFWkNERNQwREXZitaXlJQERH0CIqJAYjabYbFYoNFooNMpf+/VYAIXJbpd8pdgwyYIAnJK5T1c4vTKp6y+dH1agmx975l8hVpCRETUMISGhiI0NBQWiwWFhYVKN4eIKKDk59vuR8LCwgKiA0TQBy5nzpzBuHHj0KpVK6xZs8bvzycdRhQI01CRcorKzTCaK98DESEaRIZqFWyR713TUl4497ez+TBZ+L4nIiLyp7g42+/frKwsDi0iIvpbSUkJcnNtPe4TEhKq2btuBNfdn4PPP/8cI0eOFHu3xMbG+v05Q0JCUFFhK5RqNBqh1Qb1KSY3sksMsvWEyODq3QIAqYl6NIoKRXax7WctN1lw5GIRujT3//81IiKihio2NhYVFRUoKCjAuXPnEB8fj+joaISGhoo9rAPhk11PCYIAQRBgsVhgNpvFIQEWi0Xcbv+yWq3i/vaf1Wq1Ot3ujEqlEr+k62q1Gmq1GhqNRlyWbpPuJ91Hq9VWOWZ9IT1f9nNoP/f2dcdz67jN8XvS8+/Na2E/n/Zz6Oy1sK9rtVpoNBrxX+njApX0PWw/x9LzaX+fO553x/d1de9xx/Pp7PxJlzUajcvzXF9YrVZUVFQgPz8fRUVFAIDExETo9XqFW2YTtGnAzp07xbBFq9Xi/vvvx4ABA/z+vKGhoWLgYjAYEBER4ffnpMDkOCV0UhDNUGSnUqlwdUosth26JG77/Ww+AxciIiI/UqlUSEpKgtVqRVFREXJycpCTkwOtVguz2QwAbgMEVzdcrm6AXYUJzm7YpTfeVqtVFprY93EMVuqyV3h1IUBtSM+lNBBQqVSy7dLXQXq+AVQJg5y1X/pzOJ5raTAl3ea4n/T1Uor0tahN+QeVSgWtVisLYKTvba1W6zQ8c/blqp3S8+du2fH9bf+qq/MsfV/UhuO1wV0wI/0eAPH97Op97Ow9LA2g3L2fnX05vndiYmKQmJhYq5/fl4I2cHnxxRfFk//FF19g8ODBHj/WYrFg8eLFYspr/8Wl0+kQFhaGiIgIREVFITw8HDqdDv3790doaKi4j53JZHJ6fGoYLhSUy9aTYsJd7Fm/dW8ZJwtcfjmThzG9UhVsERERUfBTqVRITk5GbGwsCgsLUVJSIv7NClT2+pBuC2TSHiP2G2dnYYWrG2ZX4ZBKpZLd7Dr2EHAMjBxv7hx71Ui3OQYX9pvD+sRZDx9pQOEsGJJuc/yes8DIXZDhrpeMY3AkfU9Le0FZrVaYTKaAvveyh0LS97hjsOkqHPU0HJK+p10FE47n0tk2s9ksLgfyOZXS6XSIjo5GXFxcQBTKlQrKwKWkpAS7du0CAPTo0QMDBw706vFWqxVTpkzxeP/jx4+jbdu2AIDIyEjk5OSI7WjcuLFXz03B41y+fEx187jgDFx6pMrHR/56Jh+CIAR8104iIqL6TqVSQa/XQ6/XQxAEmEwm8WY1JCTE5afD1fWAADwbpuOqR4zjDaTjzaT9pr6uhoQ4BjD+IA1cpL0cHM+74+vh2CPBMQxy9fM4Czkch9lIQyzpa+P4faXYXwuNRlOr4ziGMI69IxxDBVdDdNydb+n5c7fs+P6Whiv+/ttYevzanFPHHiau3ruuzi0A2bKn1w5n59NZLzFXQ/4CVVAGLq+//jpKSkoAALfccovXFxJv97fP8w3YqiE7204Nz7k8eeDSIi44h5d1TI5GuE6DcpPtE53sYgMy8srQMiEwxk0SERE1BCqVCiEh8npxarU64D7tDVbSYS1Ut9RqNUJCQqq8/6lm7OFGbYMwsqk/1XA8tGvXLsyePRsAEB4ejqeeesrrY3gbuNhrtgAQhxY5bqeG56xD4JISH5yBi06jRtcW8pot/zudp1BriIiIiIiIAkPQBS5//vmnOFb1ySefrNF0UN52SbJXQwZsQ4rsiouLvX5uCh6OPVyCNXABgB6t42Xru0/lKtQSIiIiIiKiwBB0gYu0IvPDDz9c4+N408ultLRUXJYGLvZhTdTwlBstyCkxiusatQrJscE3S5Hd9a3lweZ/T+TAYlWu6j0REREREZHSgm6Q4RdffCEujxs3DklJSQBsQ30mTJiAbt26eXScyZMnA7AVHNLpdGIhsoqKCpSWlqK4uBgGgwFGo1E2x7d0Gujy8vIqx6WGIcOhd0tybBi0mqDLN0VdU2IRGapFicHWuyynxIBDFwo5PTQRERERETVYQRW4SGcnAoDvv/9e9v333nsPQ4YMwRtvvIGWLVu6Pdb8+fNr1Ab2cCEAOJtbKlsP5uFEABCq1eDGNon4+lCWuO2X03kMXIiIiIiIqMEKqo/cpbMTde3aFR9++CEmTJiA5s2bi/t89dVX6NOnD8rKylwdplaioqLE5cLCQr88BwW+s7ny91dDmLHnulR5HZedJ3MUagkREREREZHygipwWb58ubh8zTXXID09Ha+//joyMjKwfv16MXg5c+YMsrOz/dKGJk2aiMtZWVlu9qRg9leOvHdTagMIXG5oI6/jsvuvXJgtVhd7ExERERERBbegClxuv/12p9tVKhWGDx+OTp06AbDVc4mOjvZLG2JiYsRlzlLUcJ24JA9c0hoHf+ByRZMoJEZKpkU3WXH8EofVERERERFRwxRUgcu0adMQEhICALIeLDk5Ofjkk0+wbds2AMBjjz2GuLg4v7SBRXNJEAQcvyQP29o2jnKxd/BQqVTo2iJGtm3fuQKFWkNERERERKSsoApcWrVqhXbt2gEANmzYgMGDB+Pee+9FcnIyRo0aBcDWC2bu3Ll+a0NYWOXUvwxcGqbcUiOKKszierhOg2ax/8/enYfHWZf7H//MZCaZLDPZ02xdoLRspdBSOMUFBEUQ4QhYPAi4siMochB/WNGDQClwEI77QSsKuIBwrGAFlE1EQZClpS21dG+Tptkzk0kySWbm90ftM/NMljaZZ/LM8n5dl5fPd/LMzN2G9Lrmk+/3vgttrGjqHJ3QJPfVrR02VQIAAAAA9sqqKUWS9Oijj+rkk0/W7t27tWrVKuPx8vJynXrqqfr5z39uCkWsFn9Uiaa5uWlzq/kYzayqYjmdDpuqmVr/dvDIPi7RaFQOR278+QEAAABgn6za4SJJhx56qF5++WVdeeWVmjlzpubMmaN7771Xzc3Nevjhh1MatkjmsdDBYHCcO5GtRh4nKhnjzuxzzPQyedyxf1b2+EPa0ZmaiWAAAAAAkM6yboeLJM2cOVM/+MEPbHnv+MDF7/fbUgPs9c+EwOXQ2uzv37JPvsuphTPK9bfNsaNEf9/amRNjsQEAAAAgXtbtcLFbQ0ODcb1z504bK4Fd/tmSuztcJGnRrArT+vVtXTZVAgAAAAD2IXCxWG1trdGvoq2tTcPDw/t5BrJJOBLV2ibzzqYj6lMzgjxdHTfLPAHsH9s7baoEAAAAAOxD4GIxl8ulsrLYpJbubsbi5pJtHUH1D4WNdUVxfs5MKNpnwYxyxfcI3twWVHffoH0FAQAAAIANCFxSgMAld21MOE50eJ035yb0lBS4NHeauW/NGzs4VgQAAAAgtxC4pEBFRayHRUdHxzh3ItusazYfJ5pTkzsNc+MtSjhW9Pp2AhcAAAAAuYXAJQV8vljPjkAgMM6dyDZrmnpM66MaSm2qxF7HzjQHLm/uYKcXAAAAgNxC4JIC7HDJXRt2m3e4zMvRwGXBdHPg8vauHkUiUZuqAQAAAICpR+CSAlVVVcZ1e3u7jZVgKnUGB9UaCBnr/DynDq4utrEi+8ysLJLP4zLWgdCwtnYEbawIAAAAAKYWgUsKlJfHfrtP09zcsaHFvLvlkJoSufNy80fM4XBofmOZ6bHVO/lZAAAAAJA7cvPTYIoVFRUZ1/39/TZWgqm0ubXXtJ47rcSmStLD0dPNx6nWNvnHuBMAAAAAsg+BSwoUFBQY16FQaJw7kU02t5mPzMyuzu3AZV69OXBZ19wzxp0AAAAAkH0IXFKguDjWtyMYpG9Frngr4cjMnGm5ORJ6nyPqfab1O7v9ikZpnAsAAAAgNxC4pIDXG/ug7fdzjCIXDIUjI3ZwLJhRNsbduWF6eZGK8/OMtX9gWE3dHLEDAAAAkBsIXFKgsrLSuGZKUW7Y1h7UUDi2e6PGW6BpPo+NFdnP6XTo8DrzLpcNuwM2VQMAAAAAU4vAJQWYUpR71jWbdzIdWpvbx4n2OazO/PeQOMkJAAAAALIVgUsKlJTEmqX29vaOcyeyxZpd5uNE8xpKx7gztxxam7DDpYUdLgAAAAByA4FLCvh8sQ+ZgQAfMHPBP/eYd24cReAiSTosYafPu3sIIAEAAADkBgKXFIifUtTX12djJZgqiUHC3Gm5PRJ6nzk15r+Hre1BDYUjNlUDAAAAAFOHwCUFCgoKjOuBgQEbK8FU6AwOqjUQMtbuPIdmVhaP84zcUVaUr2pv7OdhMBzRjk5CSAAAAADZj8AlBdxut3E9NDRkYyWYCm83mfu3zKnxyp3Hj9Y+h1Sbd7lsauVYEQAAAIDsx6fCFHA6Y3+t4XDYxkowFdbsNE+imt9I/5Z4hyQcK9rSFrSpEgAAAACYOgQuKZCXl2dcRyL0q8h27ySMOp7fWGZTJelpdrX5eNXmNna4AAAAAMh+BC4pQOCSWxJ3bMyhYa7JQQlHinZ00MMFAAAAQPYjcAGSEI5EtbXdHLgcXEXD3HgNZYWm9a4uAhcAAAAA2Y/AJQWi0ajdJWCKbGnrVWg4toupqiRflSUF4zwj9zSWF8rhiK13+wcYDQ0AAAAg6xG4pEB84OKI/6SJrPNOS8C0PqKehrmJPO48VRbnG+toVKYx2gAAAACQjQhcUiC+b0v8xCJkn40Jgcuh9G8ZVX3isaJOjhUBAAAAyG6kASkwNDRkXLvdbhsrQaolTtyZM81rUyXpbXp5kWm9q6vfpkoAAAAAYGoQuKTAwMCAce3xeGysBKm2LWHizkE0zB1VXan552BPYGCMOwEAAAAgOxC4pEBfX+xDeFFR0Th3IpNFo1FtS5hQNKuSwGU0FSX5pnVXcNCmSgAAAABgahC4pMDgYOzDZH5+/jh3IpO1+AfUPxQ21l6PS1UlfL9HU15k/nvpIHABAAAAkOUIXFKAHi65YUubeXfLwVXFTKUaQ63PfKSouZseLgAAAACyG4FLCgSDsQ/iHCnKXjs66d9yoKZXmH8OdnYSuAAAAADIbgQuKUAPl9zQlDBpp6G8cIw7UV9m3uHS4h/QcDgyxt0AAAAAkPkIXFKgvz/2QbywkA/h2WpXl3mHS0MZ4dpYivJdqiyO9XEJR6JqDYRsrAgAAAAAUovAJQU6OzuN64qKChsrQSrtStjhMr2CcG08taX0cQEAAACQOwhcUqC7u9u4Lisrs7ESpNLungHTur6MwGU8DQl/P00ELgAAAACyGIFLCsQ3zS0pKbGxEqRKJBLVHn9C4FJK4DKeuoQdLq1+jhQBAAAAyF4ELinQ29trXNM0Nzt1BAc1HIkaa5/HpcL8PBsrSn+1pexwAQAAAJA7CFxSoL293biuqqqysRKkSuLulmk+zxh3Yp/GhClOOxPGagMAAABANiFwSYFAIGBc+3w+GytBqhC4TNyMCvNur51dBC4AAAAAsheBSwrE93ApLi62sRKkSnuvuf9IjbfApkoyR+IOl11d/YpGo2PcDQAAAACZjcAlBfx+v3Ht9XptrASp0hEcNK0rS/JtqiRzVBTnq9Ad63PTNxhWd9+QjRUBAAAAQOoQuKTAwEDsuElhIZNrslFbwLzDpaqEHS7743A4VFdmPnq1JzAwxt0AAAAAkNkIXFKgvz82fYUpRdmpc8QOFwKXA5EYTDEaGgAAAEC2InBJgc7OTuO6tLTUxkqQKv5+81EYn8dlUyWZpb7UvMOlmdHQAAAAALIUgUsKNDU1Gdf19fU2VoJU6UroPVJRTA+XA1FfZj5i10TgAgAAACBLEbhYbHh42DhS5HA4GAudpfoGh03rEna4HJDpCaOhCVwAAAAAZCsCF4slTihyOBw2VoNU6R8Km9YeV94YdyJeNT1cAAAAAOQIAheLtba2Gtc1NTU2VoJU6g6ajxSVFrptqiSzNJSbjxTRwwUAAABAtiJwsVh3d7dxXV5ebmMlSJVwJKpAyHykyEfgckCqveYdLonjtQEAAAAgWxC4WKy3t9e4LikpsbESpEpPwoQib4FLeU6Ojh2IiqJ85bti/+wEQsPyDwyN8wwAAAAAyEwELhaLD1yKi4ttrASp0hkcNK0rSphQdKCcTocayjhWBAAAACD7EbhYrLOz07jmSFF2CgzQvyUZtT6PaU3gAgAAACAbEbhYrK2tzbiurq62sRKkysBQxLT2uJlQNBEzEkZD7+jos6kSAAAAAEgdAheLtbe3G9cELtkpEo2a1nmM/p6Q+sQjRT0DNlUCAAAAAKlD4GKx/v7Y8Qh6uAAjzag0By5b24M2VQIAAAAAqUPgYrGBgdhv6wsKCsa5E5lqYChsWhe4+TGaiJmV5iByeweBCwAAAIDswydFi/n9fuPa5/PZWAlSJThoDlyK8102VZKZDq5KDFz6FIlEx7gbAAAAADITgYvFurq6jGumFGWn/sFh05qmuRNTVpSvsqLYZKfQcES7/fRxAQAAAJBdCFwsFggEjGuv12tjJUiVwIA5cPF62OEyUYm7XDa19tpUCQAAAACkBoGLxYLBWD+KkpISGytBqvQlHikqYIfLRM2uNv9sELgAAAAAyDYELhYbHBw0rvPz822sBKkSTug3kufkx2iiDqkhcAEAAACQ3fikaDECl+yXOKXIw5SiCRsZuATGuBMAAAAAMhOfFC3GWOjsl7jDxeV02FRJ5po7zdzfaENLQNEok4oAAAAAZA8CF4vF73DxeDw2VoJU6R+xw4UeLhPVWF4ob0Gs2XBgYFi7uvptrAgAAAAArEXgYjF2uGS/nv4h09rncY9xJ8bicDh0eJ3P9Nj63X6bqgEAAAAA6xG4WCwcju1+yMtj50M2SgxcSgsJXCbjsDrzsaL1zQQuAAAAALIHgYvFCFyyX2Bg2LT2FbrGuBPjObLevMNlXXOPTZUAAAAAgPUIXCw2PBz7MO5y8UE8G/WGzIFLSQE7XCZjXkOpac0OFwAAAADZhMAlhZxO/nqzUTAhcCkuYCfTZMyp8cqdF5vw1NwzoPbekI0VAQAAAIB1SARSiDG32WkgYUpRIVOKJiXf5dRhteZjRW9s77KpGgAAAACwFoGLxRyO2G/sI5GIjZUgVfoGGQttlWNnlpvWa3bRxwUAAABAdiBwsVh8o9z4BrrIDoPDEYWGY0FantOhonwCl8k6KqGPy9tNBC4AAAAAsgOBi8Xi+7YQuGQf/4B5JLTX4zLtasLEHNVoDlzWNvVwFA8AAABAVsj6wKW7u1ubN2/WV7/6VV1xxRXauXNnSt8vfjJR/MQiZIfuvkHTuqyQCUXJmF1dYuqB0xEc1LaOPhsrAgAAAABrWDq3+JJLLtETTzyhG264QYsWLdJJJ51k5cuP65lnntEvf/lL02OhUEiPPvqoBgdjH5JXrVqlb3zjG7r00ktTUkdBQYH6+vZ+YIx/X2SHtoD5e1pRnG9TJdkhz+nQsTPL9dKmduOx17d36aCqYhurAgAAAIDkWRq4SFJra6uuv/56SdIHPvAB3XfffZozZ47VbzPCxRdfrB07duz3vl27dunqq6/WJz/5SZWUlIx6Tzgc1j333KNIJKLh4WFjp4rb7ZbH41FRUZG8Xq8KCwvldrt16qmnqqCgwLhnn6GhoVFfH5mrNTBgWtd4PTZVkj0WJgQur27t0JJjG22sCAAAAACSZ2ng8j//8z+aM2eOli1bJr/frxdeeEEnnniirrvuOl177bWmMMJq8btJfD6fvF6v8vPzdckll6impsZ07/z588cMW6S904W+8pWvHPB7b9q0SbNnz5YkI3iR9u6wQXZp9Zu/pzW+gjHuxIE6flaFaf3Gjm6bKgEAAAAA61gauBQXF+urX/2qrrnmGt1www36/ve/r5aWFt1www1avny5vva1r6XkqNGrr76qlpYWSdJpp52mlStXyuOZ/M6D+Ma3B6K3t9e49nq9xrXf7590DUhPLX7zDpdpPna4JGv+9FI5HVLkX71yN7X2qqVnQLWl/N0CAAAAyFyWHymSpKKiIn33u9/VRRddpIceekjf//731dnZaRw1Ov7441VUVDTieUuWLNEXvvCFCb/fW2+9ZVzfeuutSYUt0sQDl309WySpsLDQuB4YGBjtdmSw3T39pnUdoUDSfB63Fswo1+vbu4zH/vJum85bNN3GqgAAAAAgOSkJXCTJ4XBo8eLFmj17th566CH19PQYX3v11VdHfc4LL7wgp9OpK6+8ckLvVV5eblyfd955+uAHPyiPx6NrrrlGhx566KRqn4jOzk7jurQ0Nua2q6trtNuRwZq6zIFLfVnhGHdiIt53SJUpcHl5SweBCwAAAICMlvKx0O+8844pbJGk2tpanXPOOSouHjmJZN/RoIlYsmSJKir29oHYtm2bVqxYoe9///s67LDDtHz58kn1UpnILpfu7ljPicrKSuM6PohBdtiZELg0lhO4WOGE2ZWm9d82dSgajdpUDQAAAAAkLyU7XKLRqF5++WXdfvvtevPNNyXtDTA+9rGP6YorrtCxxx6ryspKbd++XZs3bzae5/F4tHjx4gm/n8Ph0BVXXKG77rprxGSgG2+8Uffff7+ef/551dfXH/BrXnfddZKkvLw8ud1uRaNRDQ0NaWBgQMFgUIFAQKFQSIODg6a+LfFHpeKPGiHzBUPD6gzGmjO7nA7VlRK4WGHBjDJ53E4NDEUk7e2Vs6U9qNnVYze3BgAAAIB0Znng8pe//EXf+ta39MwzzxiPeb1ePfnkk3rve99runfmzJmaOXOmJe9722236fOf/7zpfV999VU9+OCD2rhxo04++WStXr36gPu73HXXXZOqI376UXwzXWS+XQm7W+rKPMpzTuz4GUZX4MrTcbMq9Jd3Y+OhV+/sJnABAAAAkLEsC1zuuece3XrrraZjNLW1tbrmmmv0pS99adTjQ1abPXu2MZ5Zki6//HItXLhQV199tTZu3Kg9e/ZYFvCMJf7PyQ6X7LKj0/z9nF4+svEzJm9+Y6kpcFmzq0fnLmy0sSIAAAAAmDxLApe7777bmEAkSWVlZTriiCP061//WtOn29v4Mn5q0FS/H1OKssu29qBpPbOSwMVK8xvLTOvVu7rHuBMAAAAA0l/STXP9fr8Rtvh8Pi1btkxNTU3661//anvYIknt7e37v8lC8Ttc/H7/lL43UmtLu/mI2MFVHHex0vzGUtN6fbNfw+GITdUAAAAAQHKS3uHi8/n0s5/9TLt27dK11147JUeHEvX29pqO75SXl8vlcumJJ57QN7/5TUnS/Pnz1diY+uMJ8VOKpjrsQWpt7zAfKTqkfH9/AAAgAElEQVSoaur/W89mtT6PqkoK1N67d6pYaDiiDS0BzWso3c8zAQAAACD9WHKk6DOf+YwVLzNp8+bN0/bt24317NmzVVVVpb///e+SJLfbrTvvvFN5eXkpr6Wurs64bm5uTvn7Yeok9nCZwZEiSzkcDi2cUaY/rt9jPPbXTe0ELgAAAAAyUtJHivb59re/rauvvlqrV6+26iUP2H/8x3/I5/MZ682bN5vClt/85jc67bTTpqSW+F00TU1NU/KeSL3QcFjN3eYpRTTNtd57Zlea1q9t67KpEgAAAABIjmVTir71rW+pp6dHW7du1apVq6x62QNyxx136Pbbb9evf/1rNTc367777lNnZ6cWLFig//qv/xoxjjqVqqurjWuOFGWP7R19ikRj67pSjwrzU79jKtccd1CFaf3Klg4NhyNy5VmWDQMAAADAlLAscNnnD3/4g7q7u1VWVrb/my3kdDp1wQUXSJJpYtJUi/9z9/T0KBqNyuFw2FYPrLE1YULR7Goa5qbC4bU+VZXkq713UJLUGxrWuma/jp4+tf+eAAAAAECyUvJr40gkdyeLeDweFRXtPWoyNDSk3t7e/TwDmWAn/VumhNPp0KKZ5l0u65qZ9gUAAAAg87BPPwW8Xq9xzWjo7PDuHnNwNrOCwCVVjqz3mdbrmntsqgQAAAAAJo/AJQXijxV1ddH0MxtsaDEHZ4fWese4E8k6ssEcuKze1W1TJQAAAAAweSkJXHp6cvs30vGjoXfv3m1jJbBCNBrV5jZzD5fDan1j3I1kHd1o7tfyzu6A+gfDNlUDAAAAAJNjedNcSTr//PN15ZVXyuU6sJc/6qijdPTRR6eiFFtUVVUZ10wqynztvYPqDQ0b6+L8PE3zFdhYUXarLCnQrMoibevY2zcnHIlq/e4eHZvQ2wUAAAAA0llKApdXX31Vr7766oEX4XLp05/+tFasWJGKcqYcO1yyy7YO8+6WGZXFTJ5KsXkNpUbgIklrm/wELgAAAAAySlr0cBkeHtYLL7xgdxmWqaysNK7p4ZL5tiYcJzqoioa5qXZkfalpvZ5JRQAAAAAyjOU7XGbPnq1Vq1apoaFhv/dGo1E9/vjjevLJJ3XVVVdZXYptysvLjWsCl8yXOCXn4KoSmyrJHYmTitbvJnABAAAAkFksD1w++9nP6tBDDz3g+y+88EJdeOGFVpdhq5KS2AfyYDA4zp3IBO/sDpjW8xtLx7gTVjm8zhy4bNwTUDgSVZ6To1wAAAAAMoPlR4pWrlypSCRi9ctmlPjAJRAIjHMnMsGmtl7TmpHQqVftLVBlcb6xDg1HtL2D8BIAAABA5rA8cHn99dfV3d1t9ctmFK839oGcwCWzdfSG1BkcNNYFLqcay+nhMhXmTjMHWxv38LMEAAAAIHNYHrj4fD4VFxdb/bIZpayszLimh0tm+2eL+UP+ITUlHGuZIok7if7Z0jvGnQAAAACQfiwPXG688UYVFBRY/bIZhaa52WNLu/kYyyE1NMydKuxwAQAAAJDJLGuae9lllykUCulLX/qSVS+ZsWiamz3W7DIfj5tD4DJlDq01/10TuAAAAADIJJYFLnfeeadVL5Xx4o9UEbhktnXN5nHER08vG+NOWO2QGvMOl20dQQ2HI3LlWb4xDwAAAAAsZ0ng8vTTT+vxxx8f9WuLFi3Spz/9aeXl5VnxVhmhsLDQuB4YGLCxEiQjEolqW8KRIiYUTZ3SQreqvQVqC4QkSUPhqHZ09unganYZAQAAAEh/SQcubW1tOvPMMzU8PDzmPRdffLGcTvNvpV0uly677DItWLBAklRXV6fTTz892XLSgtvtNq6HhoZsrATJaOruV3AwbKx9HpeqS3K7P9FUm11dbAQukrSptZfABQAAAEBGSDpw8fv944YtkhSNRhUOh02PhcNhffe73zU99q1vfUs33XRTsiXZzuGITbGJRqM2VoJkbG4zT8WZO81r+t4i9Q6uLtErWzqN9bYOjugBAAAAyAxJN0OYNWuW7r77bpWVlamqqkrLly/XhRdeOKnX+sY3vqHW1tZkS7IdH8qzw87OPtN6ZmVujzu3w8FV5r/zre0ELgAAAAAyQ9I7XPLy8nTdddcZ04n29Wr56U9/OmJ3x2uvvab7779f3d3dWrlypSKRyIjXG+0xwA6JI6FnVRbZVEnuOighcNnW3jfGnQAAAACQXiybUpTYFDc/P3/EPe973/v0vve9T5K0ceNGtbW1mb5eWFio2tpaq0qyDceIskPiGOJDGAk95WYmhFwcKQIAAACQKZIKXKLR6KSPz8ydO1dz585N5u3TVnyj3PgGusgsW9vMH+4JXKbe9IoiOR1S5F8Z5u6eAfUPhlWYnztTzwAAAABkpqR6uBx22GH629/+NqHn/PWvf9Vdd92lD33oQ/rNb36TlbtBCFwyX/9gWM09sZHeToc0gyNFU67Alaf6skLTYzu7OFYEAAAAIP0lFbjs3r1b3/zmNw/o3t7eXv3whz/USSedpBtuuEHPPvusPvGJT2jp0qXJlJCWBgZiH9QLChgjnIm2tJsnFE2vKFKBi10VdmhICFxa4oIwAAAAAEhXSU8peuaZZ/TEE0+Me09ra6tOOOEEXXXVVSPGQ99+++3asGFDsmWklfgx2exwyUy7uvpNayYU2Weaz2NaE7gAAAAAyARJBS4nn3yyJGnJkiXq7u4e9Z7u7m598IMf1Nq1a1VeXq6bbrpJvb29ev3111VVVSVJWbfLZXBw0Lhmh0tmau42By4NZZ4x7kSq1Zaa/+73+AlcAAAAAKS/pAKXpUuXyul0anBwUJdffrlpZ8c+P/nJT7R27VpJ0u9+9zt961vfUnFxsRYuXKjnnntOVVVV+t3vfqfVq1cnU0pa6e+PfVj3ePignokSd7g0ltO/xS51CYFL4vcGAAAAANJRUoHL8ccfr49+9KOSpEceeUS///3vTV9/5pln9P/+3/+TJH3sYx8zRkLvc9RRR+nSSy9VOBzW9u3bkyklrQQCsXHCJSVMtslEiTtc6tnhYpvEHi672eECAAAAIAMk3cPlf//3f3XooYdKki6//HL95Cc/0dDQkCKRiG655RaFw2FVV1frkUceGXWE9L4jN/GNZjNdMBgbJ1xcTO+PTLQ7oU9IXWnhGHci1RL/7nd3s8MFAAAAQPpLOnCpq6vTs88+K7fbrdbWVl166aW64IILdP/99+vFF19UXl6efvCDHyg/P3/U5+8LYb7zne8kW0raCIVCxjVHijJTYp+QWh/fR7vUJewuSgzDAAAAACAdJR24SFJDQ4MeeeQRzZ07V5L06KOP6pJLLpEkffjDH9aSJUvGfO55552nvLw8vfvuu1aUkhbid+sQuGSeaDSq9t6Q6bEaH82P7VJZnK98V+yfqt7QsHpDI/tFAQAAAEA6sSRwkaSzzz5bL7zwgnG8aJ9TTjll3Oe5XC6rSkgb8UeKiopotppp/P3DGgpHjXVRfp6K8rPvv9NM4XA4VF1iDrw6EgIxAAAAAEg3lgUu0t7jRc8//7wRsixYsEBf+MIXxn3Or371K4XDYSvLsF1801yfz2djJZiMrr5B07q8aPTjcJg6FcXm70F77+AYdwIAAABAerA0cJFiPV3Wr1+v119/XYWF4zcbjUb37iTIpmCCI0WZrSNo/jBfWULgYrdpvsQ+LjTOBQAAAJDeUnZO4vDDDz+g+0477TQ1NTXp8ssvT1UpU66vr8+4JnDJPP6BIdO6tNBtUyXYp6LY/D3w99PDBQAAAEB6s70xxeLFi7V48WK7y7BUZ2encV1RUWFjJZiMvpD5iFsx/Vtslxh6JR77AgAAAIB0k/SRok2bNun666/Xtm3b1NfXp76+PtORmlwUH7hUVlbaWAkmo2/QvHuiKD/PpkqwT1VC09y2AE1zAQAAAKS3pH51/8c//lGnnXaaJOnuu+82Hnc4HPrsZz+ro48+2nT/ggULdOKJJybzlhkhfkpRSUmJjZVgMuInFEkyjSSGPerKzL2g6OECAAAAIN0lFbh0d3eP+ng0GtX9998/4nGHw6E5c+bo3HPP1Re/+EXV1dUl8/ZpK76Hy/6aBiP9hCMR0zrP6bCpEuxTkTApqqd/aIw7AQAAACA9JPWr+9NOO0233HKLfD6f8vPzR/zP6TS/fDQa1caNG7V8+XIdccQR+sc//pFU8ekqPnApLi62sRJMxnDEvMPFReBiu8Sx0K1+jhQBAAAASG9JBS6lpaX6+te/rp6eHoVCoRH/CwQCuvXWW3XNNdfoM5/5jOm53d3duuiii5IqPl319PQY1xwpyjzhhMDFSeBiu4Zy806xXd39iiR8nwAAAAAgnaR0/EpRUZGWLl1qrB9//HF1dXUZ65qamlS+vW2ampqM6/r6ehsrwWQ4HOaAJcrnetuVFrrl9bgUGNjb0HhwOKL2YEg1XsauAwAAAEhPU9YN9NFHHzWFLfPmzdNjjz02VW8/ZSKRiPbs2WOss7VPTTbrT5hSVMiUorTQkNA4d1cXjXMBAAAApK8pCVwee+wxnX/++ZIkl8ulK664Qs8995yqq6un4u2nlN/vVzgclrT3OFFBQcF+noF0s28XxT4lBSndCIYDVJ8QuLT6c3v8PAAAAID0ltJPkr29vXrggQf0xS9+UeFwWC6XSw8//LDOPffcVL6trTo6OozrqqoqGyvBZAVC5sDF6yFwSQe1pebjQ03dBC4AAAAA0lfKPknu3LlTp59+utavX7/3jXIgbJH27nDZh4a5mWlw2DwWusA1ZSfvMI6qEvNuse6+QZsqAQAAAID9s/yT5MaNG3XJJZdo5syZRtiyePFi/f73v8/6sEUyN8ylf0tm6k04UlTMkaK0UJkwGrq9l9HQAAAAANKXpZ8k33zzTX3oQx9SZ2en8djZZ5+thx9+WPn5+eM8M3u0tLQY10woyky9I44UuW2qBPFqvOYdLm0BAhcAAAAA6cuSHS6hUEg33nijTjnlFFPYIkk333xzzoQt0t6+Nft4vV4bK8FkRRLmQDsdY9yIKVXjMwcuLTTNBQAAAJDGLNnhcu+992r58uWjfu2iiy7S5ZdfLpfrwN7qqKOO0nve8x4ryrJFe3u7cU3T3MwUHAyb1kX5HClKBw1lRab1jo4+myoBAAAAgP2z5JNk4q6WeG+//bauvvrqA36t/Px87dy5UzU1NVaUNuXim+b6fD4bK8FkBUOMhU5HNd4CFbicCv2rqbF/YFjdfYMqK8qdHXQAAAAAMoclnyQvu+wyzZ49e8TjgUBAd9xxh9ra2g7odQoKCrRixYqMDVskqa8v9lv3oqKice5EumJKUXpyOh1qKC/Ulrag8VhTdz+BCwAAAIC0ZEngMnv27FEDF0m67rrrJvRaDkdmN8wIBALGNT1cMlNi09yi/DybKkGixvIiU+Cys7NPR9aX2lgRAAAAAIwu6cClv79fhYWFY3490wOUiYo/XlVRUWFjJZiMaDQqf/+Q6TFfIVOK0sWMCvO/NTs66eMCAAAAID0ldVZi48aNamxs1GOPPWZVPRkvfkoRPVwyz2A4ouFIbEqRy+mQx80Ol3Qxq7LYtN7aHhzjTgAAAACwV1KByxtvvKHOzk598pOfVH9/v1U1ZTSOFGW2iLl9i5zMhE4rB1URuAAAAADIDJZ0Ax0aGlIoFJrQcy644AL96le/suLt00pPT49xXVpKb4lMExhIOE7kYUJROpmZsMNlWztHigAAAACkp5SOX3nyySe1Z8+eUb/23HPP6aKLLtLTTz+dyhKm3MDAgHHt8XhsrAST0ZPYv8VD/5Z0MqOiSHlxu45a/AMjxngDAAAAQDpIWeDS3t6uM888U6eccoq6u7tHvScSiehvf/tbqkqwxdBQ7AO7y8XuiEyTOKGohB0uaSXf5dT0cnPj3PipRQAAAACQLlIWuPT29ioSiWj9+vVZF6qMJ/5oVUFBgY2VYDLCcQ1zpb1Nc5FeDqkpMa03tQXGuBMAAAAA7GNZ4BKNRsf82gMPPDDm19rb260qIS0MD8d2SLjdHEfJNImBizPHxppngtnV5sBlcys7XAAAAACkH8sCl2eeeWbMr423w+VHP/rRmEeOMlF84MKRoszTPxQ2rRkJnX5mJ+xwebeVHS4AAAAA0k9SgcucOXPkdO59iUcffXTM+xzj7BKIRCLq68vOSSP7/m6QOfwD5h4uvkJCs3Qzd5p53PrGPb02VQIAAAAAY0sqETj22GN1wgknSNobnIzl/PPPH/FYZWVlMm+dEcb7O0F6Ghg073ApdBO4pJs5CTtctncENZCwMwkAAAAA7Jb0Foz8/HxJ0muvvaaOjg7j8fjmsSeffPKI5335y19O9q3TUvyulnCYD4GZJjRs/p4VuNmllG6KC1xqjJtUFIlKG/dwrAgAAABAekn60+S+gGH79u364Ac/qBdeeEEvvfSSrr/+euOeP//5zwoGzY0tf/7znyf71mkpvlFufD8XZIbEI0VexkKnpSPqfKb1O7v9NlUCAAAAAKNL+tPkhRdeqGeffVaStHr16lF3syxfvlyPPPKITjzxRDkcDgWDQb300kvG19vb21VfX59sKWnB5XIZu3sIXDJPILGHi4dJU+nosDqf/rh+j7Fe30zgAgAAACC9JB24XHDBBbrzzju1YcOGce/bsmWLtmzZMurX7rjjDv3iF79ItpS0UFhYaOzm6evrk9fr3c8zkE78A0OmNTtc0tOR9eYdLmuaemyqBAAAAABGl/SnyYKCAj3//PO6+OKL5Xa7df3116u4uNj4+tDQkO677z6tWbNGkhSNRrVu3Tr19/cb92RTA12v16v29nZJUiAQ0LRp02yuCBPR3TdoWpcWssMlHR3dWGZar2/2azgckSuPnjsAAAAA0oMlv76vra3VqlWrxvz68ccfb1pv2rRJzz//vKS9O0LOO+88K8pICz5f7Dfvfj/HHDJNV9C8w6W8KN+mSjCe2lKPqr0FagvsPb4XGo5oQ0tA8xpKba4MAAAAAPay5bzEIYccokMOOcSOt0658vJy4zp+ahMyQ1fCDhcCl/S1YHqZqY/L69u7CFwAAAAApI2U7L+PRqNqamrSO++8o89//vM6/fTT9cMf/lDbt2/Xjh07snpcck1NjXHd1tZmYyWYjM5gQuBSzJGidLVwZrlp/fr2LpsqAQAAAICRLN/hEg6Hdfnll2vFihWmx59++mnjeuHChVq6dKnOOeccORwOq0uwVVVVlXG9r5cLMkMkEh0RuFSVFNhUDfbnuFnmwOWVLR2KRqNZ928KAAAAgMxk6Q6XZ599Vg0NDUbYUl1drXPPPVerVq3Spk2bdPnll2vRokV644039PGPf1zz58/XypUrFYlErCzDVvE7XFpaWmysBBPV0z+k4UjUWJcUuORx59lYEcZzVEOZivJj35/WQEg7O/vHeQYAAAAATB3LdrisW7dOZ511ljF96Oabb9aVV16p6upq454f/ehHikQievHFF/Xiiy/q29/+ts455xxdfPHFuu++++R0Zv6Ekfr6euN69+7dNlaCiWrvDZnWVSX0b0ln+S6n5jeW6pUtncZjf9/aoRmVRTZWBQAAAAB7WZJwRCIR3XLLLerv79eRRx6pJ554Qt/4xjdMYYvxhk6nPvCBD+gb3/iGdu3apZNOOkkrVqzQZZddlhU7XeKnFPX29tpYCSaqNWAOXKq9HCdKd8cfZB4p//etnWPcCQAAAABTy5LA5Xvf+54efvhhSdKdd96pM88884CeV1JSolWrVumSSy7RQw89pMsuu0zRaHT/TxzD008/rTVr1ox4PBqNatWqVVq3bt2kX/tAFRcXG9fBYDDl7wfrtAYGTOsar8emSnCgFh9cYVq/vJnJYAAAAADSgyWBy86dOyVJixYt0hlnnDGh5xYXF+vHP/6xTjnlFK1YsUL/+Mc/JlVDNBrVhRdeqBNOOEF+v9/0tccee0xnnnmm7r777km99kQUFcWOMxC4ZJZWPztcMs3CGeXKd8X+GWvq7ldzN31cAAAAANgv6R4uw8PD+tOf/iRJ+trXvjbp1yktLZUk3XTTTXrqqacm/PwNGzaoo2Pvb7cDgYDpaM+yZcsm9FrhcFj33HOPIpGIhoeHNTw8LElyu93yeDwqKiqS1+tVYWGh3G63qqur9W//9m+SpIqK2G/cOzs53pBJdveYd7jUlrLDJd153Hk6qqHUNBL6rZ3dqi8rtLEqAAAAALAgcNm2bZtWr14tSfJ6vZN+nRtvvFG//vWv9fTTT+uVV17R4sWLJ/T8ww8/XLW1taNOBurq2vthbGho6IBeKxKJ6Ctf+coBv/fMmTO1bds2SXuPSe3T19d3wK8B+zUl7IzgQ3tmOGZ6mSlweXNHl844qs7GigAAAADA4rHQyfRfmT9/vj72sY9Jmvx0H4fDMerj3/72tyXtPVq0L3wZz0SnJQUCAeM6/khR/ONIf7u6zIFLQxk7XDLBghllpvXqXT02VQIAAAAAMUkHLvEBwxNPPJHUay1cuHDSz41GoxocHBz1a+ecc44aGxvV398/or/LaCYauHR2dhrHjuInM7W1tSkcDk/otWCPaDSqHR3mnjszKorHuBvp5JjpCYHLzm6Fhvm5AwAAAGCvpAOX+vp6XXDBBZKklStXJvVa+0KLff8/EStXrjR6uIxmrN0vyd67z77jQ263W4WFsaMo/f008MwE3X1DCg7GPqQXuvNUVZJvY0U4UA1lhar1xXYjhYYjWt+8/2AVAAAAAFIp6R4u0t7pRL/85S+1c+dOffjDHzbtejlQ0WhUr7zyiiRpxYoVOu+88yb0/NbWVklSQ0ODKisrx7zvQPu4OJ1ORSKRA37/np4eo1Gv1+s1gpZAIGDq64L0tL3T3G+nsbxwUsEbpp7D4dDCmWX6w9ux/k2rd3ZrwYxyG6sCAAAAkOssCVyuvvpq3Xbbbero6DAmFiXjjTfemPRzP/KRj8jjMffeiD9u9MUvflHLly/X/Pnzx32d6667TpKUl5cnt9utaDSqoaEhDQwMKBgMKhAIKBQKaXBwUH6/XwMDsQk3ZWVlRgDU1dWlujoaeKa7re29pvWsKo4TZZL5jebAZQ19XAAAAADYzJLAxe1268EHH9TZZ5+twcFBFRYW6qGHHtKiRYtM97322mv66U9/qvz8fF1//fWaPn268bWmpiadf/752rFjx4R7qEiSy7X3j7Ju3ToNDQ3J7XarublZzz//vF555RXt2bNHkvTkk0/qz3/+s3bt2qXy8rF/A37XXXdNuIZ9mFSUeba0mfu3HEzgklES+7i8vKVD0WiUXUoAAAAAbGNJ4CLt3VmycuVK/d///Z/+8z//U4cddtiIe2bMmKGPf/zjoz5/xowZ+vvf/66//e1vk9oRct555+lLX/qSXn75ZTU2Nsrn82n37t0KBoMj7j3ppJOUn5+6/hzxPVwIXDLD9g7z9+kgApeMcsz0MnncTg0M7T0GuLtnQDs7+zWjcuLHGwEAAADACpYFLtLe0OUjH/nIpJ9fW1urc889d1LP9fl8Wrx4sZ599lm1trYaR3oSnXXWWfrd736X0t98e71e4/pApiLBfttHTCjig3om8bjzdMz0Mr2ypdN47NVtnQQuAAAAAGyT9JSidLJs2TIddthh+uAHP6jzzz9fd9xxhzZs2KDVq1cbDW2/9rWvpfyYQeJoaKS3aDSqbQk7XOjhknmOn1VhWr+2tXOMOwEAAAAg9Szd4WK3448/XmvXrpXT6RwRqpSWlsrv96uzM/UfwujhklnaAiH19MemV3ncTtOYYWSG4w4yBy5v7uyyqRIAAAAAyLIdLtLeqULj7WD53e9+l/Ia6OGSWba2m48Tzanxyumk2Wqmmd9obpy7qbVXwdCwTdUAAAAAyHVZF7iMZd68eWpoaNBXvvKVlL9XaWmpcd3d3Z3y90NydnSaQzH6t2Sm0kK3abpUJCq93cR4aAAAAAD2yJnA5be//a3WrVunQw45JOXvFd/DZazmvUgfG/cETOtZVQQumSpxPPRbOwk8AQAAANgjZwKXgoIC086TVKqsrDSuu7roI5HuNrX2mtaH1vpsqgTJOmaGOXB5exc7XAAAAADYI2cCl6nk8cQarg4MDNhYCQ7EloQeLgczoShjzWswh6pv7iDwBAAAAGAPApcUKCqKHUkJBoPj3Am7+QeGtD1uJLTTIR1cTeCSqY6s9yk/L/bPWnPPgNoCIRsrAgAAAJCrCFxSoKIiNp6WI0XpbXu7uWHurKpiFeVn1bT0nFLgytPhdV7TY69v52cQAAAAwNQjcEmB+LHQ/f39NlaC/dnSbu7fMquS3S2ZbuHMctN6zS4a5wIAAACYegQuKUAPl8yR2DCX/i2Zb35jYh8XAhcAAAAAU4/AJQXid7gQuKS3LW3mHjtzppXYVAmssnCGeYfL2qYeRSJRm6oBAAAAkKsIXFIgPz/fuB4cHLSxEuzPjs6EHi4cKcp4MyqK5PXE+vAEQsPa2dU3zjMAAAAAwHoELingcsU+7A0NDdlYCcYTjkS1uS2hhwtHijKew+HQEXU+02Prmv02VQMAAAAgV1kauHzmM59RWVmZli1bpj/+8Y9WvnRGid/hQuCSvra2B9U3GDbWZUVu1XgLbKwIVpnXYO7jsrapx6ZKAAAAAOQqSwMXj8ejnp4eLV26VKeddpre8573aMOGDVa+RUaI3+EyPDxsYyUYz9Z2c/+Ww2t9cjgcNlUDKx1Zb97h8s5udrgAAAAAmFqWBi733nuv7rnnHlVUVEiSXn75ZZ144om69dZbFQqFrHyrtBb/oT0apVlnutrCcaKsdXjCkaJ/tgRsqgQAAABArrI0cCksLNS1116r5uZmffnLX5YktbW16aabblJNTY2WLVumP/3pT1a+ZVoicMkM2zrMjVRnVxO4ZIuDq4uV54z9HDb3DCgwwPE+AAAAAFPHtf9bJq6goEB33323PvWpT+mBBx7QvffeK5/H7qYAACAASURBVL/fr6VLl0qSjj76aBUVFY143pIlS3TdddeloqQpxbGUzPDuHvOuh4PY4ZI1Clx5mllZZBr7vam1VwsSRkYDAAAAQKqkJHCR9oYOCxYs0IwZM3T//ferpyfWtHL16tWjPufll1+Wy+XSF7/4xVSVBRgSd7jMqfHaVAlS4ZDqElPgsrU9SOACAAAAYMqkfCz0mjVrTGGLJDU2Nur888+Xz+cbcX/ivZkoEonYXQL2Y2AorPbeWF8hp0OqK/PYWBGsltiTZ3tCwAYAAAAAqZSSHS6RSER//vOfdfvtt2vNmjWSJLfbrY9//OO64oordMwxx6i0tFTNzc3aunWr8TyPx6OFCxemoqQpFd+3xelMeaaFSdjV1W9a1/o8cufxvcomMyvNxxa3dQTHuBMAAAAArGd54PLMM8/olltu0Ysvvmg8Vl5erqeeekrHH3+86d76+nrV19dbXYLtwuGwcZ2Xl2djJRjLjk7zh+8ZlSN7CiGzJfbkSRwDDgAAAACpZNmv9O+44w6VlJTo1FNPNcKWxsZG/fd//7eam5tHhC3ZLH4Edn5+vo2VYCzb2s3HS2ZW0DA328ysNH9Pm7v7x7gTAAAAAKxnyQ6XZcuWGROIJKm6ulrz5s3TQw89lJU7WPZnaCg2ftbtdttYCcaS+OGbHS7ZZ5q3QC6nQ8ORvUf82nsH1RsaVklBynqFAwAAAIAh6R0ufr9fX//61yVJFRUVuvvuu7Vjxw4999xzORm2SFIwGDu6UFJSYmMlGMtu/4BpXeujYW62ceU51VheaHpsG8eKAAAAAEyRpH/V6/P59Itf/EJNTU26+uqr5fHwwTU+cCku5qhKOmpKaJpbX1Y4xp3IZDMri03jv3d19WleQ6mNFQEAAADIFZbsrf/kJz9pxctkjYGB2O4Jerikp5Ye8w6XekZCZ6UZFYmTihgNDQAAAGBqWNY0d/ny5br00kv1xhtvWPWSGSsQCBjXXq/XxkowmqFwRHsC5sBlGkeKslJi4ELjXAAAAABTxbLukcuXL1dPT4927Nihp556Sg6Hw6qXzjh+v9+4Li3l+EK62eMfUDQaW1eV5MvjZnx3NppWag7SEnc2AQAAAECqWLbDZZ8//vGP6u7utvplM0pPT49xTeCSfvYkNswtZXdLtqpP+N7u6ORIEQAAAICpYXngIknR+O0DOaivL/ahrqiIccPpptUfMq2neQlcstWsKnPT6h2dfTn/7xMAAACAqZGSwCXX9fb2Gtf0cEk/rQFz4FLjK7CpEqRaZXG+ivNjx8X6BsPqDA7aWBEAAACAXEHgkgLxPVxKSkpsrASj6eg1By5VJQQu2crhcIw4MtaW8P0HAAAAgFRISeDS1dWVipfNGO3t7cZ1VVWVjZVgNF19Q6Z1eRGju7NZYqC2x0/gAgAAACD1LJtSFO+8887T5ZdfLpfrwF5+/vz5Ou6441JRii3ie7iwwyX9dPWZj5RUFBO4ZLPEHS6JTZMBAAAAIBVSEri8+eabuuKKKw74/ry8PH3yk5/Ugw8+mIpyplwgEDCui4uLx7kTdkgMXMqK3DZVgqlQnbDDhR4uAAAAAKZCWvRwCYfDeuWVV+wuwzKtra3GdXV1tY2VYDTdHCnKKaWF5kCti8AFAAAAwBSwfIfL3Llz9fTTT6uhoWG/90ajUT3++ON68sknJ7QjJt3FN80tKyuzsRKMJjFwYYdLdkucQkXTXAAAAABTwfLA5VOf+pRmzZp1wPcvWbJES5YssboMW3V2dhrXBC7pJzg4bFqXFKTkZB3SRFnCDqbEwA0AAAAAUsHyI0WPPfaYIpGI1S+bUVpaWozr2tpaGytBomg0qsBAQuDiIXDJZmUJR4p6+glcAAAAAKSe5YHLW2+9pe7ubqtfNmMMDw8rFNp7ZMHhcNA0N830DYYVjkSNdYHLqQJXno0VIdUSp1DRNBcAAADAVLA8cCkvL8/pkKGnp8e49vl8cjgcNlaDRBwnyj2JgUtbgB4uAAAAAFLP8sDlxhtvVEFBwf5vzFIdHR3GdUVFhY2VYDT+fo4T5Zryonzl58X+qesNDcs/wLEiAAAAAKll2afNa665RqFQSNdcc41VL5mRAoGAcV1aWmpjJRhNb8gcuPg8TCjKdk6nQ/VlHm3r6DMea+rql6+O7z0AAACA1LEscLnllluseqmMFgwGjetcPlqVroIJgUtxAf1bcsH0iiJT4LK9o0+H1/lsrAgAAABAtrMkcPn973+vlStXjvq1RYsW6XOf+5xcrpFvlZeXfR9229rajOvKykobK8FoBsPmCVr5NMzNCTMqikzrpu5+myoBAAAAkCuSDlxaW1t19tlnKxwOj/r1FStW6MorrxzxuNPp1CWXXKIFCxZIkurq6vTv//7vGd9kNn4kdF1dnY2VANinrtRjWjcTuAAAAABIsaQDl0AgMGbYMp5IJKL77rvP9NjSpUt16623JluSrfx+v3Ht83FkId2Ehsz/rXpclveNRhqanrDDZWdn3xh3AgAAAIA1kv60edBBB+l73/ueqqurVVdXp3vuuUef//zn5XRO/KVvu+027dmzJ9mSbBUfuNA0N/1Eoua1M8N3VOHA1JcVmtYcKQIAAACQaknvcHE6nfrCF76gL3zhC6bHV6xYMeLe1157Tffff7+6u7v1yCOPTGpnTLqLD1y8Xq+NlWA0eU5zwDKcmMAgK81M2OGyvaNP0Wg0448wAgAAAEhflk0pOhDHHXecjjvuOEnSsmXL1N7ebvp6YWGhpk2bNpUlWa6jo8O4pmlu+nElBC7hSGSMO5FNqr0FKnTnqf9fR8p6Q8PqCA6qqqTA5soAAAAAZKspDVzizZo1SzNmzJDD4ciq3zL39cV6Q5SUlNhYCUYzlDClyJVHD5dc4HA4dFBVsdbvju1A29IWJHABAAAAkDK2fdp89NFHNW/ePC1fvtyuElIiFAoZ1wUFfJhLN4nhXpQTRTnjoOpi03pLW69NlQAAAADIBbYFLtdcc43eeecd/exnP7OrhJQIBoPGdVFR0Th3wg6JAUsWba7CfhxcZQ5ctnYEx7gTAAAAAJJnW+AS/dcn33PPPdeuElIiPnApLi4e507YITRsbtRcwFjonHFQQuCyuZXABQAAAEDq2P5pMz8/3+4SLBUfuNDDJf2Ehsw9XDzuPJsqwVQ7pMb887iZI0UAAAAAUsj2wGXdunV2l2CpwcFB49rtdttYCUazb0rNPoUELjljdrU5cNneEdTAUPaNpgcAAACQHmwPXB577DG1tbXZXYZlhoaGjGsCl/STGLh43Lb/CGCKFBe41FBWaKwjUXa5AAAAAEidtPi0GR9SZLr4KUUej8fGSjCa/sGEHS75tk1Ghw0Oq/Wa1v9sCdhUCQAAAIBslxaBy/r16+0uwTLDw8PGtcvFh/l00zc4bFoX5XOkKJccmhC4bCBwAQAAAJAiSQUu0WhUDz/8sLq7u42pQxN57j7f+973kikjrdDDJb2FzT1z5XIyFzqXHF7nM63XN/ttqgQAAABAtktqC8bSpUt1++23S5KOOeYYffazn1VeXp6OPfZYnXDCCWM+b/Xq1WpvbzfW2XSkKD5wybYJTNlgKCFxIXDJLSMCl91+RaNRORz8dwAAAADAWkkFLs8995xx/dZbb+naa6+VJDmdTs2dO9d0pObss8/WGWecoZaWFl166aWKRCIjXi8bhMOxHiF5eRxXSTeJTXOL6OGSUw6qKlZRfp76/tXLpzM4qF1d/ZpeUWRzZQAAAACyTVKfNm+66SadeeaZIx6PRCLasGGD6bG1a9fq1ltvHfV1ysrKkikjbTmdadEiB3ESm+Z66OGSU/KcDs1rKNWrWzuNx95u6iFwAQAAAGC5pBKBM844Qz/4wQ901VVX6bjjjpvUaxxxxBG65557kikDOGCBkLlpbkkBgUuuOaqh1LR+u6nHpkoAAAAAZLOkdrg4HA5deeWVkvZO51m/fr1xVCgajWrlypV66qmnJEmBQEDvvPOO6flHHHGEnn/+edXU1CRTRtqKRCIcK0oz/n5zvyCfh8bGuWZ+ozlwWbOr26ZKAAAAAGQzyxpYuFwuzZ8/3/TYggULdPPNN0vaG8CsWrVKLS0tkvb2NznrrLNUVVVlVQlpwe12G02Ah4eHCVzSzEBCD5dCjhTlnPmN5iOMa3b2KByJKo8GygAAAAAsNGUdQx0Ox6j9XrKNy+UyBS4FBQU2V4R4oWFzs+YCF4FLrplZUaSyIre6+/b+nAZCw9rU2qtDa702VwYAAAAgmyQduESjUd1444169NFHR/36okWL9LnPfc40sUjaG0wsXrw46wKJ+D9nNo27zhaJR4q8HqYU5Rqn06EF08v0/D/bjMfe3NFF4AIAAADAUkl/2tyxY4fuuOOOMb++efNmPfzww6N+bd68eTryyCMlSXV1dbrttttUVJTZ00Lc7lhPkOHh4XHuxFSLRqMKDJi/J6WF9HDJRQtmlJsCl9e3d+n842fYWBEAAACAbJN04JK4c2Ui1q5dq7Vr15rWTz/9dEaPU87PzzeuQ6GQjZUgUd9gWIPh2JGifJdTBa7M/W8Nk7dwRrlp/fr2LpsqAQAAAJCtkg5cGhoatHbtWt18881yuVy64YYb9Pbbb+tnP/uZwmFzg9KNGzdq9+7dY77WM888o6amJk2fPj3ZsmxTXFxsXAeDQRsrQaLO4KBpXV7klsNBo9RctGBGmfKcDoUjUUnSlvagmrr71VBWaHNlAAAAALKFJQ0sjjzySD3yyCPG+phjjtGnPvWpEff19PTo6aefVnd3t+66664R4UthYaG83szuo1BYGPvAxg6X9NLVZw5cKoqzq38QDlxxgUsLppfpH3E7W/6ysY1jRQAAAAAsM6UdQ0tLS/WJT3xCknTZZZdN5VtPGY/HY1z39/fbWAkSdfSaA5eqkvwx7kQuOHFutTlwebedwAUAAACAZSxtYBGJRPTaa68pGo1a+bIZpaSkxLju7e21sRIkag0MmNbVJexwyWUnzq02rV/e0pHT/3YBAAAAsJZlgUskEtEVV1yh448/Xtdee+2oH1yCwaBaWlrU0tKiwcHBUV4l88WPueZIUXpp6TF/P2p8njHuRC6YV+9TSUFsk19ncFCbWglJAQAAAFjDksBlX9jy4x//WJL0ne98R3/9619N97z00kuqra1VXV2d6urqdOihh2rbtm1WvH1aiR9r3dfXZ2MlSLS7x3zEq9bHDpdc5spzatEs87Siv23usKkaAAAAANkm6cAlGo3qyiuvNMKWfVN6/vKXvxj3vPTSSzr99NPV29urWbNm6f3vf7+2bdumk08+WTt27Ei2hLQSH7hwpCi97PGbjxTVljKRJtedcHClaf3shlabKgEAAACQbZIOXF577TXdd999kqSbb75Zb7zxhurr67V06VL98Ic/1B/+8Ad95CMfUTAY1AknnKDVq1frxRdf1Ne//nVt27ZNy5cvT/oPkU4qKiqM6/b2dhsrQaIWv/lI0TR2uOS8kw+rMa1f2dyhYGjYpmoAAAAAZJOkA5fbbrtNklRTU6OrrrpKc+fO1QsvvKCysjJdddVV+uhHP6re3l4tWLBATz31lHw+nyTppJNOkiT98Ic/1IMPPphsGWmjtrbWuN6zZ4+NlSBRU5f5iFdDGTtcct2cmhLNrIztShsMR/SXdwlKAQAAACQv6cAlEAhIkk4++WRVVVVJkubMmaNLL73UdN8555xjhC2SdMopp2jBggWSpF//+tfJlpE24v+M+/5uYL/AwJD8A7GdC/l5TlUxpSjnORwOnZKwy+XlzQQuAAAAAJJn2ZSiM88807RetmyZTj31VGPtcDjMb+x0auHChVa9/X698cYbeuGFFxSJRFL6PvE7XJqbm1P6Xjhwu3sS+7d45HQ6xrgbueS9s6tMaxrnAgAAALCCZYHLs88+a1rn5eVp0aJF4z7nhhtusOrt1dLSorPOOkvvec97Rvxv0aJFOvbYY3XyySdrwYIFeuuttyx730QNDQ3GdVNTU8reBxOzK+E4UV0pI6Gx1/EHVyg+e3u3tVddwewcWw8AAABg6riseqHXXntNoVBIBQWxYxrHHHOMce10jsx2SkpKJEn//Oc/1dfXZ5rwM1FLliwZMYp6NGvWrNnv9KBwOKx77rlHkUhEw8PDGh7eexTF7XbL4/GoqKhIXq9XhYWFcrvdKisr0/ve9z5J5sBl9+7dk/7zwFpb2oKm9UFVxTZVgnTj87h1eJ1P65r9xmOvbOnQR46qs7EqAAAAAJku6cBl2rRpkqR169bpt7/9rc4//3zja5/4xCdUV1enPXv26P3vf/+Yr7F582a98MILOuOMMyZdx8UXXyyPJ7ZrYcGCBfrYxz6mBx54wBhZLUmXXnqp3vve9477WpFIRF/5ylcO+L3dbrcGB/f+Rjx+SlFHR4ei0eiI41SYeu/uMYdss6tLbKoE6eiEgytNgctfNrUTuAAAAABIStKBy/e//32tWbNG69ev12233WYKXCSNG7SYCnElV8rnPvc5fe5znxvx+OOPP25cX3rppfrRj3603wBktN044xkaGtKePXs0bdo0lZSUyOv1KhAIKBQKqauryxTCwB7vtpobGM+ZRuCCmPfOqdJPXtpqrF9iUhEAAACAJCXdw6WiokI33nijJKm/v39Sr3HUUUfplFNOSbYUk9bWVn30ox/VXXfdJWlv8POjH/3ogMKUiQYuktTZ2WlcV1dXG9cdHTTgtFs0GtWWdvORooOrCFwQs/igSrnzYkHsjs4+tfoHxnkGAAAAAIzPkh4uF110kRobGzU0NKTu7u4Dft6mTZskSdOnT096h0uij3/843rppZeM9dq1a/XEE0/orLPO2m+gMpkjQD09PcZ1aWnpqI/DHu29g+ruGzLWhe48NZQX2lgR0k1hfp6OqC/V6p2xf79efLddS45ttLEqAAAAAJnMsilFf/jDH/ThD39Y5eXlB/y/k046yaq3///s3Xd4VGXax/HvZNJ7ISSEXqVEioiIFRQRBSli7ygKimXXXd93q7pr2dUtrrvu64pgxS4IiKIigiiKCGKn9056rzPz/nHWSc6kUHJmTmby+1xXrj3nOc/J3LIhzLnnee67gZ07d5rOCwoKmDRpElOnTj2q7kHHuspFCZfWa49Ph6KuabE41RJafJzd29weetVWbSsSEREREZHjZ9mykjlz5niP+/fvT2Zm5lHfO3r0aKvC8FqyZIl3m09lZSX/+te/WLx4MS+88AJ79uxh2bJlza5kufvuuwGjvXVERAQej4eamhoqKyspKyvz1miprq6muLgYp9PpvTchIcF7XFxc3OB7S2Dt9NlO1DXt+LthSeg6rVc7/vnRVu/52l35zcwWERERERFpnmUJl/nz53PgwAFiY2MZN26cKQFhh+zsbNP5mDFj6NixI/v372f58uXs37/f1MLZ10+1X45H/RUuJSUlzcyUQNh62NyhqGuaWkJLQ4M7JxPhdFDj8gCwJ7+C/YUVZCVr+5mIiIiIiBw7yxIu/twedLRyc3O58847mTJlCiNGjCArK8t7bd26dd7tPVOnTjVds1p8fF1BViVc7LfhgHmVUb8OCU3MlLYsOsLJ4M7JfLmzwDu2dlcBE5RwERERERGR42BtpdomuN1uli9fTllZGQcOHODRRx+ltLRu1YHT6eT+++/nlltuadHrLFq0iFdeeYVXXnmFhIQEhgwZgsPhoLq6ms8//xwwki2zZ88+rsK4R0tbilqXXXnmGi692yvhIo0b2jXVlHBZtzOfCYP8l5wVEREREZHQZXnCxeVysW/fPmbPns26desAOHjwIF999VWT9yQkJFBbW9vi1x4/fjwTJ07kwIEDrFmzhpUrV3qvxcXFceutt/LII48cV9vnY1G/LXROTo5fX0uaV13rblA0t3OqarhI44Z2TTGdr91V0MRMERERERGR5lmacFmwYAEPPvigN9FyJBdccAEjR45k+vTppronx6t9+/YsWLAAgNWrV/PII49QUlLCzTffzGmnnUbnzp1b/BpHIyWl7qHtWNpki/V25JZ5a3IAZCZGkxQTYWNE0pr5Jlw2HiyhotpFTKS9NalERERERCT4WJJw2b59O5MmTeK7774zjY8cOZIdO3awa9cuACIjI7nqqqv49a9/TVJSEu3bt/fb1p5TTz2Vt956yy/f+0jqbymqv3VKAm/jQfOWrt4Z8U3MFIHUuEi6psV6t6G53B6+31/EsG6pNkcmIiIiIiLBpkV7a9xuN/feey/Dhw83JVs6duzIk08+yfLly3n00Ue946NHj+bZZ5+lT58+ZGRk+LWOip3qF81VwsVeGw6Yixb3z0q0KRIJFoM7J5vOv96tVWoiIiIiInLsWpRwueOOO3jggQfIzc0FjBoqq1evZu/evcyYMQMwt0iuqqpqycsFjZiYuq4mFRUVNkYiO3LNCa8+KpgrRzCok0/CZa8SLiIiIiIicuxalHB58cUXvcc333wzCxcuZPjw4aY5o0eP5qSTTgJg2bJlzRbPDRXR0dHeYyVc7OXboahrmgrmSvMG+axw+W5vkU2RiIiIiIhIMLOsXc/MmTMb7f7jdDr53e9+5z1vCwmX+qt6ior0sGYXt9vDzrwy01j3dnE2RSPBYkBWIs6wuu2Ou/PLKSqvsTEiEREREREJRi1KuFxyySXe4wcffLDJeUOHDvUe16/pEqoSE+vqhBQXFzczU/xpX2EFlTVu73lybARp8VE2RiTBIDrCSe/25uLKP+xX4lRERERERI5NixIus2bN4sorrwTgzTffpGPHjtx11128++67LFmyhPz8fABTQd22kICov6WordStaY22Hlb9Fjk+A7LMbeq/V8JFRERERESOUYsSLuHh4bzwwgvepMv+/fv55z//ybhx47jwwgvJzs7moosu4rLLLvPec+jQIf79739z+PDhkK1vEhVVt4qisrLSxkjatu252k4kxye7o7mb1ff7Qj9RLCIiIiIi1gpv8Tf4b9JlyJAh/PWvf+Xw4cPeawcOHGDx4sUN7rn99tu5/fbbSUhI4I477iAuzngQnjx5Mv369WtpSLaLiIjwHtfUqPaDXbblmFe49EhXwkWOju8KF20pEhERERGRY9XihAsYSZd77rmH2267jdzcXFavXs1zzz1HYWEhq1evbvK+kpISHn74Ye95TU0N9913nxUh2So8vO6P1eVy2RhJ27bNZ0tRL5+6HCJN6dfBvP1sR24ZFdUuYiKdNkUkIiIiIiLBxpKEy0/i4uKIi4uja9euXH755QB88sknplUv9Xk8HhYtWsTixYvJyMjwbk0Kdk5n3UOZEi722aEtRXKcEqIj6JIay+58o62422PUBDqxU9IR7hQRERERETFYmnBpzJlnntns9fqdjkKFw+E48iTxq5LKGg6X1BUsdoY56Jwaa2NEEmxOyEzwJlwANhwsVsJFRERERESOWouK5vpyuVysWrUKt9t95MkhzOPx2B1Cm+e7uqVrWiwRTkt/3CXEnZBh3lbku0VNRERERESkOZY9gbpcLqZNm8YZZ5zBzJkzG026FBUVsXv3bnbv3h3S3XvqbyOqv71IAmdnXrnpvHuathPJsfGt+bNFCRcRERERETkGliRcfkq2PPfccwD85z//YdWqVaY5K1asICsri65du9K1a1f69OnDtm3brHj5Vqe6utp7XL9jkQTOjhzzCpduqt8ix8g34bI9RwkXERERERE5ei1OuHg8HlOyJTExETASLD9ZsWIFF154IeXl5fTq1Ytzzz2XPXv2MGrUKHbu3NnSEFqd2tpa77ESLvbYmaeEi7SM78/M3oIKal1te7ukiIiIiIgcvRYnXH5qAQ3w0EMP8dVXX9G5c2fuvfdeHn/8cRYsWMC4ceOoqKjgzDPPZP369Xz44Yfcf//97Nmzhz/96U8tDaHVqaqqK9YaFRVlYyRt155885aibmkqmCvHJj4qnLS4SO95rdvD/sLQ3QopIiIiIiLWanHC5eGHHwYgIyOD6dOn07NnT1asWEFqaio/+9nPmDx5MuXl5Zx88sm8++67xMcby/TPOOMMAGbNmsWzzz7b0jBalfr1aZRwsceBIvODcVZyjE2RSDDzbSW+TduKRERERETkKLU44VJWZmzdGDVqFGlpaQD06NGDGTNmmOZNmDDBm2z5af7QoUMBePPNN1saRquiLUX2crk9HCw2J1w6KuEix6Fh4dwSmyIREREREZFgY1mXovHjx5vOH3jgAcaOHes9dzgc5hcOC/MmXEJN/RUukZGRzcwUf8gpqcLlrmvNnRIbQXSEukXJsevt0xp600GtcBERERERkaNjWcLlgw8+MH/jsDCGDBnS7D333HOPVS/fqhQXF3uPk5KSbIykbTrks7olIzHapkgk2PXJMK9w0ZYiERERERE5WpYlXL788kvTyg7AtILF6Wy4wiA21ihkunHjRu/WpFBQWFjoPU5OTrYxkrYpp6TKdJ6eoDo6cnx6pvskXA6X4vF4mpgtIiIiIiJSp8UJl6ysLAA2bNjAvHnzTNemTJnC559/zsKFC5k2bVqT32P79u2mNtLBLi8vz3v8U10bCZzcUiVcxBodkqKJqbcdraSqlvyyahsjEhERERGRYNHihMsTTzxBdnY2QKMtnk899VQmTJhAenp6s98nlIrLFhUVeY8TExNtjKRtyvN5IG4Xr4SLHB+Hw0FXn5biO/NCZzWeiIiIiIj4T4sTLsnJyfz2t78FoKqq6gizGzdw4EDOPffclobSamiFi72KKmpM50kxoZPMk8DzTbjsya+wKRIREREREQkm4VZ8kyuuuIIuXbpQWlrK4cOHj/q+DRs2ANCpU6dGa7wEq/Lycu9xXFycjZG0TYXl5hUuybFKuMjx65JqTrjsyNUKFxEREREROTJLEi4Ar7/+Oo8//rhV3y6olZSUeI8TEhKamSn+UFhuXuGSEqvWdLkFMQAAIABJREFU3HL8uqSZk6Z7CsqbmCkiIiIiIlLHsoTL3LlzvceDBg2iQ4cOR33v2LFjrQqjVaifcNEKl8ArrjQnXBKiLfsxlzaoq1a4iIiIiIjIcbDsSXTRokUcPHiQ2NhYxowZQ1iYZR2ng86BAwe8x8eSeBJraIWLWKmbzwqXfQWq4SIiIiIiIkdmWcLltNNOs+pbBb3i4mLvcXJyso2RtE0llbWmcxXNlZbokByNM8yBy+0B4HBJFRXVLmIiQ6fulIiIiIiIWM+vy1D279/Pq6++ytVXX838+fNxu93+fLlWo6ysbstBbGxsMzPFH8qqzQmXWD0YSwtEOMPISDC3Fj9YXGlTNCIiIiIiEiwsT7jU1tYyf/58zj//fLKzs7nyyit5+eWXmTJlCsOGDWP58uVWv2SrU79TU3p6uo2RtE3l1S7TeWykarhIy3RMiTGd785X4VwREREREWmepQmXoqIizjzzTKZMmcIHH3xAQUGB6fpXX33FuHHjWLZsmZUv26p4PB7Tf3dqaqqN0bQ9LreH6tq6lVQOB0RHtN16QmKNzj6Fc/co4SIiIiIiIkdg2ZNoUVERY8eOZfXq1QD07duXOXPmcPjwYXJyctixYwcjR46koqKCiy66KGSTLvn5+dTUGEVbk5KSiImJOcIdYiXf7UQxEU4cDodN0Uio6JxiTrjsylOnIhERERERaZ4lCRffZMuoUaNYt24dN954I+np6bRr145u3bqxePFiU9Jl06ZNVrx8q6LVLfaq8NlOFBel7UTSct3bmTsVbc9RwkVERERERJrX4oRLTU1Ng2TL4sWLGy0WGxcXx+LFixk2bBgVFRU8+uijLX35Vqd+wdy4uLhmZoo/+CZcosK1nUharlf7eNP51pxSmyIREREREZFg0eKn0W3btnmTLSNHjmwy2fKTuLg4fve73wGwaNEiPB5PS0NoVYqKirzHiYmJNkbSNpVWmbcUJUSrJbS0XM90c8JlT345VbWuJmaLiIiIiIhYkHB55plnvMd///vfj6oN8oQJExg0aBC5ubn8+9//bmkIrUr9hEtycrKNkbRNZT4Jlzi1hBYLxEQ66ZhcV4/J7YFdeSqcKyIiIiIiTWtxwmXt2rUAXHDBBQwZMuSo73vwwQcBuOOOO8jPz29pGK1G/f8W1XAJPN+iubGq4SIW6ZxqLoC9v7DCpkhEpNXweMDtAlcN1FaD233ke0RERKTNsOxpNCoq6pjmX3jhhQwdOpR169ZRUlISMsmJ4uJi77G2FAVeaZV5m0eCEi5ikaxkc8Jlt1pDi4Sm2moo2AmFu6BoDxTugaK9UJ4LJQehogCqSsFVDa6qhvc7oyAqHqISIDoJohIhvj0kdYbkLpDcFZI6QlInY46IiIiELMueRt977z1uueUW/vGPfxzVtqKwsDAyMzMBmDVrFg899JBVodiqsLDQe5yUlGRjJG1TVY1P0dwIFc0Va/jWcdlySIVzRYKaxwO5m2H3ajjwDeRsMhItJfvB04KVKq4qKK+C8rwjz03IgswTocMg6DgUMrMhsSM4HMf/+iIiItJqtDjhMmHCBJYvX05lZSVPP/0027dvZ+nSpTiO4s3CT118vv7665aG0WrUT7ikpKTYGEnb1ODnLrRqMouN+mSYP4neeLC4iZki0irVVsH+9UaCZf9XsPsLKD1ob0wl+42vLe/XjcWmQadh0PU06DUa2vdXAkZERCRItTjhMm3aNB599FEOHDgAwLJly1i6dCljxow54r333HMPr7/+Ohs3bqSsrCwk2ihrS5G9al3mTyWdYXqTKtbom2lOuPy4vxi320OYfsZEWie3Gw59B1s+gO0fw94vobbSDy/kAEeYkRRx1x55+pGU58Hm94yvpfdCbDvocir0HGUkYFK6tfw1REREJCBanHCJj49nxYoVTJw4kY0bNwIwefJkrr322iN2LerQoQMA27dvZ8WKFYwbN66l4dhOCRd7lVebtxTFqkuRWKRTSgxJMREUVdQAUFbtYm9BBV3SjryFUkQCpLoctq+ATe/A5vehLOf4vk9CFqT2MGquJHWC5M4QnwFx6cZXVAI4IyE8CsLq/Tvj8UBNBVSXQmUxVBVBRSGUHIDC3f/92gPF+4xjz1G0ly/PhY2LjS+A9H4wYBL0PBeyhoBTtcpERERaK0v+le7Tpw8//vgjjz32GL/4xS8oLy/nqaee4uuvv+bee+/lwgsvbPS+99+vW0IbGRlpRSi2q7+lSG2hA0+rrsVfHA4HvdvHs3ZXgXdsW06pEi4idivaC5uWGCtZdnwCtcfQQSwiFrqMgM6nQOZASOtlJFkioo8vFocDImONr/j2zc+trYbcTUb9mH1fwcHv4NAPUFPW/H05G2DFBljxJ4hJheyL4aTrjVow+kdQRESkVbHsYxGHw8Hdd9/N5MmT+f3vf88bb7zBF198wbhx4xg6dCgPPvgg559/vrfGRnl5OY888ggAJ510Euecc45VodiqpKTEe5yQoO4Dgeb2qdlyNLWERI5W7wxzwuXHA8WM6nuEhyoRsV7JQfh+Pnz3hlGP5WgldvxvgmX4f4vUngjhNn3gEx5pvH7miTDkGmPM7YKcjbBzFWz9EHatMlbLNKUiH76cbXyl9YK+4+CEC6HTKRCmovEiIiJ2s3wdavfu3Zk7dy6/+c1veOSRR3jppZdYt24dF1xwAcOHD/d2Jtq4cSObN28G4Le//S1OZ2hs/VDCxV6+5TQ8HlXNFev072DeJvjD/iKbIhFpg0pz4McF8MNbsOszjqoqemQCdD8Leo+GHqOM+ietOREf5oSMAcbX8FvAVQuHvodtHxkJmN2rm96GlLcVVj1ufCV3hcFXw+ArjRU7IiIiYgu/bfzt378/zz//PL///e954YUXWLhwIV988UWDeaeccgoTJ070VxgBp4SLvVw+S1xU0FSslN3R3Or9271KuIj4VXk+bHwHfphvFL49mponiR2NVR59L4SuZ9i3gsUKznDIGmx8nXl33Z/Hto+Mr8rCxu8r3AUrHja2HfUZC4Muh97nG1udREREJGAcngAtAaitrWX37t3MmjWLr7/+GqfTyY033sjEiRMJDw+dgm/t2rUjLy8PgEOHDtG+vbYbBNIzn+7gj4t/9J7fcFo37p8wwMaIJJRU1rjIvu99ausl9tb9bjRp8VE2RiUSYqrLYMPb8O3rsOPjo+j84zBqsJxwIfQeA+37te5VLFaprTaKA3/9MmxbDu6a5udHJ8FJ18HwGUYhYBEREfG7gGU6wsPD6dGjB3/+858D9ZK2qK6u9h6HSiHgYFLj0xY6wtkG3nRLwERHODkhM4Ef9td1I/t2XxGjTlBiVaRFaquNFRvfvwkb3z1y4ViADoMgewpkXwJJHf0fY2sTHgkDJhtflUXGlqMNi40VMK6qhvMri+Czf8HqJ6H/RBg6Fbqd0TaSUyIiIjbxS8Jl69atPPfcc4wbN44RI0b44yVaraqqujc5UVH61DvQqmp9Ey4qGijWGtgp2ZRw+W6vEi4ix8XjMbrzrH/RqMvS1PaY+toPgBOnwICLIbW7/2MMFtFJ/00+TYGKAvh+Hqx7zuh85Mtda1z/fh6k9oRTbzXqvWi7kYiIiOUsTbi4XC5mzpzJ008/jdvt5qGHHuLOO+/k8ccfP+K9mzZtIj4+no4dg/tTqtrauqXPobRVKliUVpmXnidER9gUiYSqQZ2SeGVN3fk3e47iIVFE6hTugW9fNbYM5W4+8vx2J8CAScZKjvb9/B9fsItJgWHT4OSbjA5O370J37xqdDTylb8N3v0lfPQgnHyjsd0oISPwMYuIiIQoyzICLpeLm266ieeff940PmvWLG6//XZ69+7d6H2lpaXMnDmT119/ndTUVLZu3UpMTIxVYQWc2123wiJUOi8Fk5JKc8IlPlpJL7HWwE7JpvOv9xTi8XjUglykOa4aY6vLV88b9UaO1GEoIQsGXgqDrlSS5Xg5HEbr645D4dx74dvX4LMnIG9Lw7mVhfDp3+HzJ2DgZXDqTMjoH/iYRUREQoxlT6MzZ85skGwBqKys5C9/+QuzZs1qcK20tJRx48axcuVKAHr06BFSdU/CwrSdJdBKKs1FAxOVcBGL9cmIJzbSSXm10S0lr6ya3fnldE2LszkykVaoaB+sfcZItJTlND83JtWoLZI9BbqeZrRIFmtExMDQG+Ck62HHSmO70Ya3GxbadVXD+rnGV+/z4YyfQZcRqvMiIiJynCx5Gt26dStPP/00AN26dWPhwoV06NCBu+66i1deeYX33nuvwT2lpaVceOGFfPLJJ4DRQvmdd94JqVUh+tQ78Mp8thTFRirhItYKd4YxqFMyn2/P8459tbtACReRn7hqjIf5r18yCuF63E3PDQs3OgsNucb4X6e2gfqVwwE9zja+ig/Amqdg7bON18/Z8r7x1WkYjLgd+o432lSLiIjIUbPkX84HH3zQu5XmpptuYuDAgYCRfGmMb7IF4JFHHiExMdGKcGzlcDj4qdO22+0OqQRSMCj22VKUFKM372K9k7qaEy5rdxYweYjarEobV1lsFMBd/SQU7Wl+bodBMORao/htXFpg4hOzxA4w+n446x5Y/5KxnahwV8N5e7+EN66H5C5w2p3G/28R0YGOVkREJCi1OOGydetW71aisLAwxo0b12BOWVkZbrebsLAwXC4X48aNMyVbnnjiCW699daWhtIqhIeHU1NjLNGtqalRwiXAfLcUxUfp0zix3sldU4Ft3vO1OwvsC0bEbge/g69fNrahVBU3PS8qEU68FE6eCpknBi4+aV5kHAy/BYbdZNTZWfU47FvbcF7hbqPA7sePwqkzjCK7MSmBj1dERCSItPhp9A9/+IP3eMKECQwZMqTBnPz8fK6//nouvvhiNm7c6K3ZAkayZebMmS0No9WIjIw0JVyio/UpUCAVV/iscInVChex3kldUnA4jK62AJsOlZBfVk1qXOjUoBJpltsFm5YYhVb3rWt+bka2kWQZeAVExQcmPjl2YU7oPwH6XQS7VhmJly0fNJxXdhiW/RFW/tUoajxiJqT1DHy8IiIiQaDFCZd9+/Z5j6dPn266Vr/F89y5c5k7d67peqglWwAiIuoe8H9KvEjglFX71HCJ0AojsV5SbAT9OyTyw/66T/PX7MhnbHamjVGJBEB1OXz/Jnz6D6OlcFPCo2HwVTB0KnQYGLj4pOUcDuh2hvF1eCOs/jd88xq4qszzasph7RyjKHK/8TDiDugy3J6YRUREWilL2+iEh5vzNzNmzCAurvFCkqGYbAFMLa3Ly8ttjKTtcbs9DYrmqi20+Mvw7ua6E59vy7UpEpEAKDkEH/wO/tYXFt3RdLIlth2M/DX8/AcY/5iSLcGufV+Y8C/42bdG4dzIxlYoeYwiyc+MgWfHwfaP65b/iYiItHF+fRp1Op3Ex8dTVlZmGg/VZAtohYudyqprcdd7jxcT4STCqdbc4h+n9UzjmVU7vOcfbz5Cy1uRYFRyEFb82ajP4ttCuL6e5xorWvqOV0HVUJSQCec/BGf90ljRsmY2lOxvOG/Xp/DCp9D1dCPx1v3MwMcqIiLSilj6NOpp5BONe++913R+1VVXMWnSJPbt28e+ffu83Y1CRWRkXQ0HJVwCq7Dc/OetDkXiTyN6phHhrGv7vjOvnANFFTZGJGKhikJY9gA8PhjWPdt4siUsHAZdBbd+DtfOhxMvUbIl1MWkwJm/MFa8XPw0ZDRR/HjXKnh+PMw5H7Ys1YoXERFps1qccKm/ZWjRokUNrt922208/PDD3vOXX36ZTp06eb+GDx/OwoULWxpGq1H/z8N3ZY/4V15Ztek8RQVMxY/iosIZ2CnZNPbJFm0rkiBXWQzLH4Z/nAif/BVqG0kixqbB6XfBneth8pOQ0T/wcYq9nBEw8DKY8Qlctwh6jGp83p7V8NIlMGeMEi8iItImtTjhcs8993iP58yZw969e73nhw8fZsGCBSxZsqTJ+9euXcukSZNYs2ZNS0NpFeLj6/Y3l5SU2BhJ25NbYi7ol54QZVMk0lac3qud6XzFpsM2RSLSQtXl8Olj8PhA+PiRxts7p3SDC/4CP/8RzvsjJHcJeJjSyjgc0ONsuG4B3PQh9Dyn8Xl71xiJl9nnwrblSryIiEib0eIaLtnZ2URFRVFVVUVFRQUjR47ktddeY9GiRTz55JPk5JjrGqSlpTFhwgQmTZoEGKtimkvIBJuEhATvsRIugXXYJ+HSXgkX8bNz+7bnn8u2eM9Xbc3D7fYQFuZo5i6RVmbTEljyP1C4u/Hrcekw8ldw0vXGygaRxnQeBte+Bbu/gJWPwtYPG87Ztw5enASdh8OZv4Te5xlJGxERkRDV4oRLamoqCxYsYNKkSVRVVbFt2zZOPvlk05yYmBhuvfVWTj/9dCZPnoyj3j+uEyZMaGkIrYoSLvY5WFxpOlfCRfwtu2MSidHhFFca3bGKKmr48UAx2R2TbI5M5Cjkb4f3fgObm/jQIyYVRsyE4TMgqrHuNCKN6DIcrpkH+9fDikca//na8wW8fCl0O9MoxtthUODjFBERCQBLuhSNHTvWlHQB6N69O0OHDuWXv/wl/fr1IzEx0YqXavVUw8U+h4rMCZeMRBVvFP9yhjkY3iONpT8e8o6t3JKjhIu0bjWVsOof8MnfwVXV8HpUotECeMRtEJXQ8LrI0cgaAle9aiRePv4LbHqn4Zydn8BTZ8HAy2H0/ZCYFegoRURE/MqyttBjx47lq6++YvPmzYSHhzNq1ChT8qGtSEqqe9AqKiqyMZK254DPCpfMJCVcxP/O6pNuSrgs33iY20b2sjEikWbsWAlv/wzytzW85giDU6bD2f8DsamBj01CU9YQuPJlYzvR8ocb32r07Wuw8R3jZ2/4rRCuovciIhIaLEu4APTv35/+/dt2twKtcLHPvoJy03nH5BibIpG25Jy+7fl9vfO1uwo4XFxJe62wktakugyW3gdfPt349c7D4cK/QoeBgY1L2o6OQ42tRge+gQ//ANuWma9Xl8LSe2Hd83DuvdB/ouq7iIhI0Gtxl6KfFBcX889//pMOHTqQlJTEiSeeyLx583C73Va9RFCIjY31HpeXlzczU6zk8XjYW2BuX9o5JbaJ2SLW6Zgcw4Csui2THg+898NBGyMS8bF3nbFto7FkS1w6THoSbnxfyRYJjA6D4Nr5cPU8aN/Ih3T52+CN6+GFCZCzKfDxiYiIWMiyhMvEiRO56667OHjwIMXFxXz//fdccsklTJs2jdzcXKteptVT0Vx75JdVU1Vbl9yLi3SSGGPpAi6RJo0b2MF0/vY3+22KRKQet8uonTHnPMjb2vD60Klw+5cw+CqtJJDA6z0apn9irKyKbqTu1Y6V8OTp8OH9xgotERGRIGRJwmXJkiWsWLGi0WvPPvssXbp0YdmyZY1eDzUxMXXbWCoqKpqZKVbaV2j+s85KjjF1wxLxp3EnmhMuX+4s4ECR/v6LjUoPw9yLYfmD4HGZr6V0g6lL4KJ/QEyKLeGJAOAMh1Nuhju+gqE3gMNpvu6ugU8fg3+fCps/sCVEERGRlmhxwiUvL4/Jkyd7z3v27Ml3333H+vXrmTRpEmAkHi666CI++uijlr5cq1d/hUtxcbGNkbQt+3y2E3VKUf0WCZyuaXEM6pxsGvto42GbopE2b+9a+M+ZsH1Fw2tDb4AZq6DraYGOSqRpce3gosfhts+hx8iG14t2G22k37oVKgoCHZ2IiMhxa3HCpaCgwNsKOiYmhhUrVpCdnc3gwYN56623eOqppwAj6TJ+/PiQT7pkZGR4jw8eVB2HQNnjWzBXCRcJsDH9M0znKzfn2BSJtGnfvgHPXgilPv/+xKbBVa8bD7VR8fbEJnIk6SfAtQvgkmchoUPD69+8DE8Mgx8XBj42ERGR42BZDReAzMxMOnXqZBq75ZZbeOyxxwAj6TJ9+nQrX7LVyczM9B4r4RI4Ww+Xms67pbW9luRir7N6p5vOP9uWR3Vt2yoaLjbyeGD5n2D+NHBVma91Pd1Y1dLnfHtiEzkWDgdkX2zUFzp1ptGuvL6yHHj9OnhjKpTl2ROjiIjIUWpxwuXrr78+4pwZM2bQpUsXIPTrmiQm1nUrKSoqsjGStsU34dI7I6GJmSL+MSArkdS4SO95SWUtn2zRKhcJgOoymH8zfPznhtdOvwuuWwSJjawWEGnNohJg7MMwbRmk92t4/Yf58H/DYdOSwMcmIiJylFqccAkLO/K3iI6O5sorr2zpSwWF9u3be4u15uTkUFtba3NEoc/j8bAtx9zBoEc7rXCRwAoLczA2O9M0pm1F4ne5W2H2aPjuDfO4MxIm/QfO+6NRmFQkWHU8CaZ/DCN/A2ER5mtlOfDKFbD451AT2h/oiYhIcGpxwmXgwIHe49LSUtzuxpfQh4cbb/jKyspwuVyNzgkFERERpKWlec9zcvTA5W8HiyspqqjxnsdEOOmYrBouEnijTmhvOl+1TcvdxY+2LIWnR8HhH83jMSlw/dswuG180CFtQHgUjPxfuGUFZA5seH3tMzD7PCMBKSIi0oq0OOHyUyIFjOTCnDlzGszxeDzerUeFhYX85z//aenLtmpZWVne43379tkYSduw+ZB5O9EJmQmEhakltATe8B6pOOv97G09XMruvPJm7hA5Dm43rHgEXroUqny64aX3hZs+hC6n2hObiD9lZsPNHxmrXXxbSB/6DmadDd/Psyc2ERGRRrQ44dK1a1fGjBnjPX/ooYdYu3YtJSUlgJFs+fDDD3nnnXe8c/785z+zZs2agLRNzs/P58orr+S8887jD3/4Ax6Px++v2b593afchw+rNay/bc8xJ1x6pqsDh9gjMTqCk7ummMaWfH/ApmgkJNVWGYVxVzwM+Px7ln2JUe+iXS9bQhMJCGeEsdpl2lJI6W6+Vl0Kb94I7/8WXNrSLSIi9mvxxm6Hw8GgQYP44IMPANi1axfDhg0jPj6e6dOns2nTJhYvXmy6Z+/evQwfPpzY2FhmzJhBXJxRbyM2NpbbbrvNVHi2Jb755humTp3K+vXrAfjwww8ZO3Ysw4cPt+T7N6Vjx47eY61w8b8duT71W9JVv0Xsc0F2Jl/syPeef7jhENPP7mljRBIySg/Dq1fD3jXmcUcYnPcAjJhpdHgRaQs6DoXpK+HtO+GHt8zXPn8CDn5ntJeOS2v8fhERkQCwpJJe/W1FPyktLeVvf/tbs/eVl5fz97//3TS2fft2Zs2a1eKYnnnmGaZNm4bH4yEiIoKaGqPGx+zZs4+YcHG5XDz22GO43W5qa2u9hW8jIiKIjo4mNjaWhIQEYmJiiIiIIC4ujr59+9Khg9EFol27dt7vlZenGg7+1iDhooK5YqPzBmRy/9t1NTXW7Sogv6za1MFI5Jgd3gAvXQZFu83jse3g0meh+1n2xCVip+hEI6nS7Qx479fgqq67tuNjeHokXPkqZAywLUQREWnbLEm43HTTTbz77rst3j4TExPDZZdd1uJ46idbBgwYwHPPPcett97K2rVrj6pgr9vt5p577jmm17z77ru9Cab6RXPz8/ObukUsst2nQ1E3JVzERh2TY+ibmcDGg8a2SrcH3vv+IFcN72JzZBK0Nr4D828xtkvUl9oTrn0LUrraE5dIa+BwwLBp0GEIvHYNlOyvu1a42yime/FT0O8i+2IUEZE2y5KES8+ePb1FcVuD++67D4/Hw3XXXcczzzyD0+lk6tSprF279qjuP5pW177Kyuoe+n/aIgXGKh7xn/yyavYV1rWCdIY56K6Ei9hs3IkdvAkXMLYVKeEix8zjgU/+Bh890PBaj5HGJ/uxqYGOSqR16jTUaB/9+vWw+7O68ZoyIxFz3h/htDu17U5ERAKqxUVzW6Nf/epXnHXWWfzzn//E6TSq2L/xxhsAdOvW7Yj3H0/CpX5iJT6+rmhr/USMWO/H/ebCyydkJBAd4WxitkhgjO6fYTr/bFsulTVHXl0n4uWqgcU/bzzZMnQqXD1PyRYRX/Ht4bqFcPKNDa8tvRcW3WH83RIREQmQkEy4zJw5k48//pikpCQAfvjhB7788kuSkpK44447jni/4zg+/aifWImJifEea4WLf32zt9B0PiDLmoLLIi3RNzOBDknR3vPKGjefbMm1MSIJKhUF8OJkWPeseTwsHC74C4x/DJyWLFAVCT3hkcbfkXF/M/7O1Lf+RXjtWqipaPxeERERi4VkwqW+wsJCRowYQVlZGfPmzSMlJeXIN3Hsq1zqJ1wSEhK8xz+1xxb/2HDAvMJlUOdkmyIRqeNwODjPZ5XLBz8ctCkaCSpF+2DO+bDzE/N4dJJRr2X4LdoSIXI0hk2Da+ZBlM8HMZuXwPMToDTHnrhERKRNCfmPyN58801KSko444wzOOecc476vrvvvhsAp9NJREQEHo+HmpoaKisrKSsro6SkhKqqKqqrqykuLqZTp07ee+uvcKmsrLTuP0Ya+H5fken8hMyEJmaKBNaY/pm88Pku7/mnW3PxeDzHtYJO2ojcrTB3slHos77kLnDV69C+nz1xiQSrHiNh2ofw0qVQWPf7mL1rYPY5cM18aNfbruhERKQNCOmES0FBAf/3f/8HwJgxY47pQecvf/nLcb9ubGys91g1XPynrKqWnXl1W7YcDm0pktZjWPcUoiPCqKxxA3CgqJJtOaX0aq+koDRix0pjq0OleZskXUbA5XMhrp09cYkEu/QT4Mb3Ye7FcPjHuvHC3TB7tNE2uusI++ITEZGQFtJbiqZMmcL69eu5+uqr+c1vfhOw142OrqvdUFVVFbDXbWt+8CmY2y0tjtjIkM4hShCJCncyvHuaaWzFJi1hl0Z8+7pRs8U32dJ3PFy7QMkWkZZK7ABTl0D3s83jlYXG373tH9sTl4iIhLyQTbgUFBTwxRdfAPDQQw95uxUFQv0aLsXFxc3MlJbwrd9yYsdYIB4YAAAgAElEQVQkmyIRadzZfdJN5yqcKyYeD3z8KMy/Gdy15mtDroFLn4eI6MbvFZFjE5Ns1HQZcq15vLYCXr4Mti23Jy4REQlpIbkcoLCwkDFjxng7BH322Wfk5NR9stytWzfatfPfJ4ZxcXHeY3Up8p/tOaWmc9VvkdbmzN7m3zNrduRTXesmMjxkc91ytGqrjRa1377a8Nq598IZd6s4rojVnBEw4V+Q1BlWPFw3XlsJL18OU2ZD/wn2xSciIiEnJBMu8+bNY+3atd7zq666ynS9Q4cObNmyxZQYsVL9Gi4VFWo96C+bDpk7QPVM98//nyLHq1f7eDISozhUbGwtrKhx8dXuAk7tkXaEOyWkVRTCa9c07EQUFgGT/wMnXmJPXCJtgcMBI/8XouLh/XrbzV1V8Pp1RkLmpGubvl9EROQYhOTHrBkZde1Yo6KiGDx4MEOGDPG2hC4tLaW2trap21ssKirKe6yEi//syDUXJO6doRUu0ro4HA5O72Ve5fLxZtVxadPyd8Cc8xomW2JS4LqFSraIBMqImXD+n3wGPcbKs3XP2xKSiIiEnpBc4TJ+/HhWrlxJQUEB/fv3p1evXgDk5OTw+eef069fP5KS/FfvIyIiwnvsz8ROW1ZUUeNdNQAQHuagc0psM3eI2OPsPunM/2qf93zl5hz+d2xfGyMS2+z+Al69Csp9avmk9oSr34C0nvbEJdJWjbgNohNh0Z3gcf130ANv3wmVRXDaHdraJyIiLRKSCReAM888s8FYeno6Eyb4f29u/fbTHo/H76/XFm3zqd/SvV2c6mJIq3Rm73QcDqM+KhjdtXJLq2gXH9X8jRJavn7FeIhzVZvHOw+HK16BOG0zE7HFkGuMFWavX2cuXr3095C/Hcb9DcIC13hBRERCi55Q/cChT0P8bkuD+i3xNkUi0rzUuEiys8wr6j7blmdTNBJwbhcsvRcWzGiYbMmeAtctUrJFxG59x8FlL4Az0jy+7ll480ajyLWIiMhxUMLFD9xut90hhLzd+ebuT73aK+EirddpvcwP1J9tVXvoNqGqxNhCtOrxhtfO+h+YMkdtn0Vai77jjK19UT5bzn9cYBS5rlFNPhEROXZKuPhB/W1EYWH6I/aHvQXmNz6dUmJsikTkyM7wKZyrFS5tQNFeeGYsbH7PPO6Mgotnwzm/VW0Ikdamx0i46QNI7GQe3/I+vHgxVBbbEZWIiAQxZQP8oP4KFyVc/GNnnnmFS+dUFcyV1uvkrqlEOut+F+zOL2dvQXkzd0hQ27MGZo2CQ9+bx+MzYeoSGHipPXGJyJG17ws3vgdpvczjuz+D58ZBmVYoiojI0VM2wA9qamq8x+HhIVuX2Fa78swtobu1i7MpEpEji4l0Mrhzsmls9fZ8m6IRv1r/0n8fyg6bxzsMgluWQ6eh9sQlIkcvuTPc8A60728eP/gtPHuhsYJNRETkKCjh4geVlZXe45gYbXWxWnFlDYXldUmtSGcYHRJVB0Fat1N7muu4fLFd24pCSm0VLP45LLytYXHcvuONlS2JWfbEJiLHLiETpr4LnYaZx3M3GdsFc7faE5eIiAQVJVz8oLq67s12ZGRkMzPleOzMNa9u6ZQaQ1iYaiFI6za8e6rpfO2uApsiEcsVH4DnL4K1zzS8dsbdcNmLEKlVeCJBJyYFrlsIPUaZx4v2wJzRsOsze+ISEZGgoYSLH9TfUhQREWFjJKHJt0NRtzQ9yEjrN7hzMs56icEduWXkl6nVaNDbsRKeOhP2fGEeD482uhCNvg9Uy0skeEXGwZWvGivV6qsogBcnw5al9sQlIiJBQe8C/aCqqsp7rBUu1ttfqA5FEnziosLpm5lgGvtmT6FN0UiLeTyw8q/wwkQoyzFfS+kG0z6EEy+xJTQRsVhENFz6PAy5xjxeWwmvXAHfvGZPXCIi0uop4eIH9Ve4KOFivQNFlabzDklKuEhwGORTOHedthUFp+pyeOMG+OgB8LjN13qeAzcvh8wTbQlNRPzEGQ4TnoBRvzWPu2vhrVvg038YiVgREZF6lHDxg5KSEu9xfHy8jZGEpkPF5oRLZlKUTZGIHJuTu6aYzr/arYRL0CncDc+OhR8X+FxwwNm/gqvfhNjURm8VkSDncMDZ/wMX/hXwqR334X2w5H/B7bIlNBERaZ3Us9gPCgrqHqJSUlKamSnH43Bxlek8I0EdiiQ4nNTF/Pvg6z2F1LjcRDiV+w4KW5fBm1Ohssg8HpMKU2ZDr3PtiUtEAuuUm43E6vzp4K5b1cyap6B4n/H7IEKrb0VERCtc/KK4uNh7nJCQ0MxMOR6HS8wJl/aJWuEiwaFrWizt4ut+XsurXWw8UNLMHdIquN2w6nF46ZKGyZb0fnDzR0q2iLQ12VPgmnkQlWge37jY6FpWmtP4fSIi0qYo4eIH+fn53mOtcLGWx+PhcIl5S1G6VrhIkHA4HAztaq7jsnZXfhOzpVWoLILXroal9zas13LCOJi2FFK72xObiNirx9kwdQkkZJnH934Js8+FwxvtiUtERFoNJVz8ICen7lON9PR0GyMJPWXVLipr6h56IsPDSIzWzjgJHsO6met7fLFdCZdWa/96mDUKNr3rc8EBo/8AV7wEUVrFKNKmZWYbidf2/c3jhbtgzhjYvsKWsEREpHVQwsUPCgvrWr0mJyc3M1OOVa7PdqJ2cZE4HI4mZou0Pqd0NydcvtyZj0edLVqfr182Hpbyt5nHo5PhqtfhjJ8ZBTRFRJI6wY3vQY+R5vGqIpg7BdbPtSMqERFpBZRw8YO8vDzvcbt27WyMJPTklZkTLmnxqt8iwaV/h0Tio+pWZeWVVbM9t8zGiMSktgoW3w0LbgVXtflah8Ew41PoM8ae2ESk9YpOMrqUnXS9edxdCwtnwvKH1TZaRKQNUsLFD0pLS73HagttrdxS8wNQu/hImyIROT7hzjCGdDGvfFuzQ9uKWoXSw/DcOFg7p+G1oTfAje9DcueAhyUiQcIZARc9Duf9seG1jx+BN2+EmorAxyUiIrZRwsUP6m8pSkxMbGamHKuCMnPCRStcJBid4lPH5du9hU3MlIA58A08fa5R7LK+8Gi4eLbxEBWhAt0icgQOB5x+F1z6PDh93qP8MB+evQCK9tkTm4iIBJwSLn6wf/9+73FWVlYzM+VY5fkkXFLjtMJFgk92pyTT+Y/7i5uYKQGx7jmYfR4U7TaPp3SDm5bCwEvtiEpEgtmASXD92xBjTrCzfz08fY7xvyIiEvKUcPEDdSnyn9xSnxouSrhIEBrQwbzybcOBEqpqXTZF04a5auDde+Dtu8Bl/t1Cz3PglhXQYaAdkYlIKOgyHG5eBun9zOOlB+GZsUZxbhERCWlKuFisqqqK3NxcAJxOJxkZGTZHFFrytaVIQkD7xGgyE+u2p1S73Gw5VNrMHWK5sjyje8iaWQ2vDbvZ6EQUkxL4uEQktKT2gJs+gD5jzeO1lUZx7iX/C65ae2ITERG/U8LFYgUFBd7j5ORknE6njdGEnsLyGtN5SmyETZGItEx2R/O2ou/3FdkUSRt06EeYNRJ2fGwej4iFKXNg3F+N4pciIlaIToQrXobT7mh47Yv/wIuTjCSwiIiEHCVcLHbw4EHvcWZmpo2RhKbCcvMKl2QlXCRIZXc0byv6eo8K5wbEtuXGUn7fei1JneHG9+DES+yJS0RCW5gTxjwIk/5jFOOub+cnMPscyNlkT2wiIuI3SrhYrH79lnbt2tkYSWgqrDCvcEmKUQ0XCU4ndTFvV1m7q6CJmWKZL2cb24iqfFYTdRkBNy+HDoPsiUtE2o7BVxot5hM7mccLdhrFu7d8aEtYIiLiH0q4WEwrXPyrtNK8zzkxOtymSERaZkiXZMIcdedbD5c2aHsuFnG7jDoJ7/wCPD7FiYdONTqJxKvAuYgESNZgoyh31zPM41VF8NIlsOwB4/eWiIgEPSVcLJafn+891goXa3k8Hop8VrgkxmhLkQSnhOgI+mQkmMY2HFR7aMvVVMAb1xt1EkwccN4fYfxjqtciIoEXnw7XvgVDrvW54IFP/govXw5VJbaEJiIi1lHCxWKlpXWdRhISEpqZKcequLKWWrfHex4b6SQ6QkWJJXj192kPvXanthVZqiwPnr8INrxtHo+IgytegtPvAoej8XtFRPwtPBIm/AvOewAcPm/Jty6FOedDwS57YhMREUso4WKx+l2KUlLUUtRKvtstUmJVv0WC2yndU03nquNiocI98Mz5sPdL83hCFtz0PvQdZ09cIiL1ORxw+p1w7QKIzzBfO/wDPH0O7PrMnthERKTFlHCxWFlZmfc4Li7OxkhCT4FPh6KUOG0DkOA2tKs5Kfvt3kI8Hk8Ts+WoHd4Ac8ZA3hbzeHo/mLYUMk+0Jy4Rkab0OBumr4SsIebx8lx4fgJ8/Yo9cYmISIso4WKxwsK61q7Jyck2RhJ6in0K5iapfosEuZ7p8cRH1RV+LiyvYU9+hY0RhYA9a4yVLSX7zePdzzJWtiR1avw+ERG7JWTCDe9A/4nmcXcNLJgBH/wOXDWN3ysiIq2SEi4WKy6uK3qZmJjYzEw5VsW+BXOjlXCR4BYW5iC7o/n3xOrteTZFEwK2LoMXJkKlT9vn/hPh6jchOsmeuEREjlZkHFzyHJz1Pw2vffYvo4tReX7DayIi0iop4WKxoqK6N/pa4WKtBh2KlHCREHBqjzTT+edKuByfDYvhlSugptw8fvJNcMmzEB5lT1wiIscqLAzO+S1c8gw4fX53bV8BT4+CnM22hCYiIsdGCReLVVVVeY+jovQG30rFleaES1KsEi4S/E7raW4f/4USLsfuh7fg9evAZa7zxMhfw7i/QZi6mYlIEMqeYmwxSuxoHi/YCXPOUzFdEZEgoISLxaqr697wR0aqi46Val3mYqKRTv34SvAb2CmJyPC6n+X9RZXsyS9v5g4x+fZ1ePNG8LjM42MfgZG/UttnEQlunYfBLR9D5+Hm8cpCYwvlt2/YE5eIiBwVPbFarLy87kEpJibGxkhCT2WN+YGq/kOqSLCKjnByUhfz9kNtKzpK61+C+beAx11v0AET/w2nzrAtLBERS8Wnw/WLYcg15nFXNcyfBiv/AupwJyLSKumJ1WIVFXUdRmJjY22MJPT4bilKiA5vYqZIcPGt4/LZ1lybIgki6+fCwtuAeg8ZjjC4eFbDhxIRkWAXHgkTnoBRv2t47aMHYdEd6mAkItIKKeFiMdVw8Z+iCnNb6GTVcJEQ0aCOyw51oGjWN6/CwtvNY2HhRoHJgZfZE5OIiL85HHD2PXDxbHD6bFtf/yK8fDlUldgTm4iINEoJF4vV31KkFS7WKiw3F8RMjlGNHAkNgzqb67gcUB2Xpn3zKrw1A9PKlrAIuPQ5GDDZrqhERAJn4KVw7QKI9umGuW0ZPHshlB62Jy4REWlACReLaYWL/5RWmVe4aEuRhIqocCeDO5vfOK/ckmNTNK3Yd2/CglsxbyNywqXPQr+LbAtLRCTgup0ONy2F5K7m8YPfwuzRkLvFnrhERMRECReLuVx1hV2dTrUitVJJpTnhEq+Ei4SQs/ukm85XblbCxeT7+TD/ZnOB3LBwJVtEpO1K7wPTPoSsIebxwl1G2+i9a+2JS0REvJRw8SOH2pFaqsxnhUt8lBIuEjrO6m1OuKzamkety93E7DZm0xKYN82cbHGEwZTZ0H+ifXGJiNgtvr3RwajXaPN4RQE8fxFs/sCeuEREBFDCxa+UcLGWb8IlLlIJFwkdA7ISaRdfV5eotKqWb/cV2RhRK7HnS3jjBvDUawvvCIOLn1bNFhERgKh4uPJVGOzToa2mHF65wqh9JSIitlDCxY/cbn06bZVal5sS3xUu2lIkISQszMFwn/bQn2xu4+2hD34Hc6dAbWXdmCMMJj8FJ15iX1wiIq2NMwImPgFn3WMe97jgremw+kl74hIRaeOUcLFY/VUtSrhYJ7+8Gk+9OplJMRFEOPXjK6HlrN7m9tDLN7XhThPF++Gly6DKZ5XP+MfU+llEpDEOB5zzO7jwr4DPKuv3fgXLH8b0ZkpERPxOT6wWCwur+yNVwsU6heU1pvO0OLWEltAz8oT2pvNv9haSU1LVxOwQVlUKL18OJfvN42f/CobeYEtIIiJB45Sb4dLnwOnzXunjR+C9X4Pen4qIBIwSLhar35mofsciaZnyavOfpbYTSSjKSIwmu2Oi99zjgeUb29gql9pqePVKo7VpfadMh5G/sicmEZFgM2ASXPUaRMSax794EhbfpaSLiEiAKOFisfDwukRAbW1tMzPlWJT71G+JjlDLbQlNo/tlmM6XbjhkUyQ2cLvh7Tthx0rzeJ8LYOyfjOXyIiJydHqeA9ctguhk8/hXL8CCW8Gl96kiIv6mhIvFIiIivMdKuFgnv7zadJ4SG9HETJHg5ptwWbk5h/LqNvC7xOOBd38J37xiHs8aYrR/DlOSVUTkmHUeBje8A3Hp5vFvX4V5NxqrCkVExG+UcLGYVrj4R1GFuYZLUowSLhKaBmQl0jE5xnteVetmxaYcGyMKAI8HlvwPrJ1jHk/pDlfPM1qeiojI8cnMhqlLIKGDefzHhTDvJnDVNH6fiIi0mBIuFouMrCtQVl2tTw2sUl5lruGSEK2Ei4Qmh8PB+QMyTWNvf7O/idkhYtkfYc0s81hce7hmHsSlNX6PiIgcvXa9Yeq7kNTFPL5hEbx5o5IuIiJ+ooSLxWJi6j6ZrqystDGS0FJZY064RIXrR1dC1/hB5k8hl208TElliL4ZXvlX+PTv5rG4dLj+bUjraU9MIiKhKLWHkXRJ7WEe37DovytdtDJbRMRqemq1WP0aLlVVbbCdq5+U+XQpiotSlyIJXUM6J9M5tS55W13r5v0fQrB47uf/Bx89YB6LSTGKPLbva09MIiKhLLmzkdBO7moe/3EhvHWLki4iIhZTwsViUVFR3mMlXKxTUGbenpWottASwhwOBxMGZZnG3lq/16Zo/OTrV+D9X5vHohLhmvmQ0d+emERE2oKkTsZKl5Tu5vHv58HCmeB2NX6fiIgcMyVcLBYfX1fcsayszMZIQktOqTl5lZ4QbVMkIoExaXBH0/ln2/I4UFRhUzQW2/iu8aa+vvAYuOo16HiSPTGJiLQlSZ2MlS6+NV2+fRXevccoZi4iIi2mhIvF6tdwqagIkYejViC3QcIlsomZIqGhd0YCAzslec89Hlj4dQgUz926DN64Hjz1PkF1RsKVr0DX0+yLS0SkrUnuDFPfgaTO5vG1c+DD+5V0ERGxgBIuFouLi/Mel5aW2hhJaMktMSdc0uKimpgpEjomDzGvclmwfp9NkVhk+8fw6lXgqr9F0AGTn4Keo2wLS0SkzUruAtcvggTzNlZW/QM+ftSemEREQogSLhZLTEz0HpeUlNgYSejweDwNthS1T1TCRULf+IFZOMMc3vONB0vYcKDYxohaYOcqePlyqPXp3nbRPyD7YntiEhERo2vRtfONouX1rXgYPv+3PTGJiIQIJVwsVn9LUXl5uY2RhI68smpqXHXLWhOiwomNVNFcCX3pCVGc0audaezNdUFYPHf/enjlCqj12WY59hEYeoMtIYmISD3t+8G1CyAqyTz+/m9gzdP2xCQiEgKUcLFY/YRLZWVlMzPlaB0sMv85ZiapYK60HRef1HBbUXWt26ZojsP+9fDCRKjyWZkz5iE4dYY9MYmISENZg+GaNyEizjz+7i+NznIiInLMlHCxmIrmWu+AEi7Shp0/INPUBj2vrJr3fzhoY0THYP96eGESVBaZx8/5PZx2uz0xiYhI0zqfAle+DOE+77UW3gY/LrInJhGRIKaEi8Wio+v+gdKWImvsKzD/OXZMjmlipkjoiY5wMsmneO7LX+y2KZpjsOdLeH4iVBaax0//GZz5C3tiEhGRI+sxEi5/CcIi6sY8bnhzKmz90K6oRESCkhIuFlPRXOvtKTCvFFLCRdqaa07tajr/fHseO3LLbIrmKOxcBS9OgiqflS2n/wxG3w8OR2N3iYhIa9F7NEyZDY56jwruWnj9ejj4nX1xiYgEGSVcLBYfH+89Vltoa+zJN69w6Zwaa1MkIvbok5HASV2STWPPfLrDpmiOYPMHMPdiqPb5/XfGz5VsEREJJgMmwcR/A/V+b1eXwouTIXerbWGJiAQTJVwsFhdXV2hMW4qssVsJFxGuHWFe5fL62j3k+rRLt903r8GrVzZs/Xz2r+Dc+5RsEREJNoOvgrF/Mo+V5cDcyVAUhF3zREQCTAkXi9XfUlRQUGBjJKHB4/Gw12dLUedUbSmStmf8wCyy6hWMrqp18+qaVlTL5fN/w1u3GEvO6xt9P4z6tZItIiLB6tRbYfit5rHC3UYHurJce2ISEQkSSrhYLDMz03t84MABGyMJDXll1ZRW1T3AxUQ4SY+PsjEiEXtEOMOYenp309gzq3ZSWeOyKaL/crvh/d/C+7/xueCAcX8zthKJiEhwG/snGHy1eSxvq1Gvq6Kw8XtEREQJF6ulpqZ6jwsL9Q9QS/kWBu3WLg6HPimXNuqyYZ1JiKprEZ1fVs2ib/bbF5CrBt6aDp8/YR4Pi4BL5sCwafbEJSIi1nI44KLHod8E8/jB7+DVq6G2lW1xFRFpJZRwsVj9orllZa24i0iQ2JFj/jPs3k71W6TtSoqJ4IpTOpvGXvx8lz3BVJXAy5fDd6+bxyPj4erXIXuKPXGJiIh/OCOMzkU9RprHd30K824CV21jd4mItGlKuFgsNrYuIaCiuS23+ZC5tXbP9PgmZoq0DdeN6GYqh/LdviJ+3F8c2CDyt8Ps82DbMvN4XHu44R3oeU5g4xERkcAIj4IrXobOw83jG96Gd+4Gj8eeuEREWiklXCxWP+FSUVGB2+22MZrgt+WwubVs74wEmyIRaR06p8ZyRq92prEXV+8MXADbPoJZoyBng3k8pTvc9AFkDQ5cLCIiEniRcXDlq5DW2zz+1fPwwe+UdBERqUcJF4s5nU7vtiKPx0NxcYA/eQ4xW30SLn0ytMJF5IphXUzn89bt42BRZROzLeLxGJ2I5l4ClT71qToMNpItqd0bv1dEREJLbCpctxCSzNtc+fwJ+PA+JV1ERP5LCRc/qN8auqSkpJmZ0pyi8hr2Fda1hHaGOeiWFmdjRCKtw/kDMkzt0atdbp5dtcN/L1hbDW/faXQi8vh0RcqeAlOXQHx7/72+iIi0Pkkd4Zr5EJtmHl/1OCy9V0kXERGUcPGL5ORk73FBQYGNkQS3jQfNq4N6pccTHeG0KRqR1iPcGcb0s3qaxuau3kVhebX1L1aeD3Mvhq9e8LnggNH3w5Q5EPn/7N13fFzVnf//1/Q+6rLcCzY2xjbFlACmhd5LIGwCBAg1CSkkG/aXTb7fH0l2WbJkl00hAQIkAUICZGNCh4TeEkIzxoDBxsZVVpdG09v3jzMz0kiyLNsajcr7+XgMnnvundGHq6s7937mnM9RMWsRkQmpbk/T08VdWdz+yk81vEhEBCVcSqJ3wkVDinbdu30Kgc5vUP0WkbzP7D+NWr+zsBxOpPnd3zcM7w/Z/CbcsgzWv1jc7qow4/eXXQOapl1EZGJrWAxfeLB/0uXVn8Pj/wKqZygiE5gSLiXg8fR09Y9Go4NsKYNZtaWzaHnJtIoyRSIy+nicNr64rLhmyh0vrSOSGKZpOd97CH59MnRtLm6vnAmX/QXmnzg8P0dERMa+KfsN3NPltVvh4a9CJj3w60RExrlxn3Dp7Ozksssu47zzzuOVV14ZkZ/ZO+GiqaF33arNxT1cFk4ObmdLkYnp/INm4nfZC8tt4QT37m4vl0wa/vp9uP9CSPVJGE//FFz+LNTN372fISIi48+UfeGih8FTXdz+1j3wp8shnSxPXCIiZTTuEy4PPPAAd9xxB/fffz+HHXYYb7/9dsl/Zu+iuR0dHYNsKdsTT6VZ01w8Q9HeU9TDRaS3Cq+Diw6dWdT265fXk0rvYvftcKup1/LSf/df96kvmwtpX03/dSIiIgCTl8DFj4KvTyH1d/8X7rsQkiWeUU9EZJQZ9wmXurq6ouXTTz+dcDhc0p85adKkwvNt27aV9GeNV2ubwqQzPYXWplS4qfA6yhiRyOh0yWGzcdp7TuWbO6I8/M6WnX+j5tXwq6Ph4+eK2612OPV/4MT/ALtzwJeKiIgUTFpoZq8LTi1u//Bx+N05ENcMniIycdh3vMnYdvrpp7No0SLeffddADZu3Mjtt9/O17/+9e2+Jp1Oc9NNN5HJZEilUqRSpiaCw+HA7Xbj9XoJBAJ4PB4cDgc+n48999yTqVPNB0sg0FPctdTJnfHqzQ3FszvtpeFEIgOq9bs4Z+m0oqFENz+7ljP2mYrVOsSCtmufhfsvgnhx3ST8k+Czd8OMg4cxYhERGfdq55qky12nQ/v6nvb1L8JdZ8D5fwRv9XZfLiIyXoz7hIvFYuFLX/oSX/nKVwptK1euHPQ1mUyGb3/72zv1c7761a/y05/+FChOuIRCyuLvihUbi4di7T+zqkyRiIx+Vx2xB/f9Y2OhV9iapm7+8v42Tti7YfAXZrPw91vhyX+FbJ+ChjMOhXPuhODkEkUtIiLjWtVM+OKTcNeZ0Px+T/vmN+DXJ8EFf4KKqdt/vYjIODDuhxQBnHbaabhcriFvb7Xu/G7pXatFNVx2X98pofeZVrmdLUVkRo2XU5cUJ0Z+8ewastnsdl4BJKPwpyvgiX/pn2zZ/wtw0UNKtoiIyO4JNMAlj8GU/Yvbmz+AO0+Apg/KE5eIyAiZEAmX6dOns3DhwsJyY2PjoNvvSsKlqamp8Ly+vn7AdhmaeCrNmqbinkF7T9GQIpHBfOmoPYqWV2zq5JW1rQNv3LHBXOiuvL/PCgsc90M47adgU80kEREZBt5qk8SfdXhxe+dGuOP4/rXDRETGkQmRcAH44he/WHj+6KOPDpp0sViGWPegl/fvQLwAACAASURBVNbWnhub2traAdtlaN7d3EkyXVwwt8qnYp0ig1nQEOTYvSYVtf3yubX9N/z4ebj1SNi6orjdGYB/uhcO+xrswjlQRERku1wBU7dlwanF7fFOuOcz8MZvyxOXiEiJTZiEi9NZfMOeTCYH3X5ne7l0dfUMgamq6qk3oiFFO+/9rcW9W/ZT/RaRIenby+VvH7fS2h03C9ks/O2XcPdZEG0rfmHdArjiOVhw8ojEKSIiE5DDDef+FpZeXNyeScHDX4PH/wXSqbKEJiJSKuO+aO6u+uY3vwmAzWbD4XCQzWZJJpPEYjHC4TChUIh4PE4ikaCrq4uKiorCa3vXi4nH4yMe+1j3QWNx/Za9GgLb2VJEels6s4qDZlfz2ro2qn1OfnH+/tT4XZCMwSPfgBW/7/+i+afAWbeAW8P2RESkxGx2OPV/oGoW/PW64nV/vwVaPjIF2z2q3Sci44MSLttx44037vJreydcEonEcIQzobzXp2Du/AbdCIoM1ZeO3IPW7ji/vvggZtR4oWsL/OF82PJmny0tcPR34fBvwS7UrRIREdklFgssuwaq9zDF21PRnnVrn4bbjjJDXCct3O5biIiMFbrKLgGPx1N4Ho1GB9lS+kqmM/1mKFo0VQkXkaE6an4df756mUm2bHoDbju6f7LFFYTP/R6O/LaSLSIiUh4LT4cvPgHBacXt7evgjuNg1fLyxCUiMox0pV0CvevFaEjRzlnfEiaRyhSW6wMuJld4BnmFiPRmsVjwu+zw3p/hN6dAd58C4TVz4fJnYP5J5QlQREQkb8q+cPnTMPWA4vZENzxwMTzzb5BJlyU0EZHhoIRLCTgcPdOp7qg4rxT7oLG4YO581W8R2TnZLLxwI9z/heJu2gDzjjfJltp55YlNRESkr0ADXPwo7H9R/3Uv3Aj3XQiJ8MjHJSIyDCZkwsXr9RIMlm6Yis1mKzxPp5WV3xkrN3cWLS9QwkVk6FIJePDL5hvBvg77OnzuD+Cu6L9ORESknBxuOO0ncMp/g9VRvG71o6bHZmhbeWITEdkNE6Zo7hlnnIHf7wdg8eLFRbMKDTe7vWe3KuGyc97tk3BZMk1V6kWGJNZpvgVc93xxu9VuLmCXXkQ2m8VSnuhEREQGZ7HAgZdC/UK4/0IIN/es2/IW3HoEfPa3MONT5YtRRGQnWbLZbLbcQYw32WwWa69ClNrFQ5PNZln6b3+lLdwzs9Mz3zqSOXX+MkYlMgZ0bYXfnQPb3i1ud1fCeffA7MOJJtJ898GV/PuZi/E4bQO/j4iIyGjQuQnu/SfYtrK43eqAk26AAy41CRoRkVFuQg4pKjUlWHZNcyhelGxxO6zMrPGVMSKRMaB1Ldx5fP9kS/UcuOxpmH04jZ0xzr31Ff705mb++Oam8sQpIiIyVBXT4IuPw9xji9szSXj0W2b4bCJSnthERHaCEi4lkMn0zLJj1ZSrQ7aqz3TQe04KYLPq2wuR7dryFtxxPHRsKG6fdiBc+heonUtjV4wzbn6Jdzebv687XvyYdEZJYRERGeVcAfjcfXDYN/qvW3Ev3H4MbFs18nGJiOwEZQNKoHfCpXcBXRncWxvai5YXTVVxT5HtWvci/PZ0iLQUt88/Gb7wEPhqAbBkKeo5tr41wl/fV+FBEREZA2x2OO778Nm7wNlniHnTe3DrkfD6nWaGPhGRUUgJlxJIpVKF5+rhMnTvbS3u4bKvCuaKDOy9h+CesyFe/DfDvufDZ+8Gp7fQNKnCzWn7TCna7JfPrdXQRxERGTsWnmGGydbuWdyeScIj18DyK03xeBGRUUbZgBLoPTORergMTTab5Z1NxR+UC6eUbupukTHrzbvhgYsgnShuP+zrcMbN5tvAPi4/fE7R8tsbO3hlbWspoxQRERle9Qvg8mdhyXn9171zH/zq09C8euTjEhEZhBIuJZBMJgvPnU5nGSMZO5pCcZpC8cKyy25lfkOgjBGJjEKv/AweuhqymeL2Y79vHtuZsWGvyUE+vaC+qO3mZ9eUKkoREZHScPnh7NvgM3eAo8/ECq1rTNJl1fLyxCYiMgAlXEqg95Aih8NRxkjGjnc3F/duWdAQwGHT4SkCmLHpT/8AnvpecbvFZnq1LPvGDqfHvPrTc4uWX1nbyspN6n4tIiJj0OJz4PKnoW6v4vZENzxwsZnJKBkrS2giIr3pjrYE4vGenhpKuAzNij43founqWCuCACZDDz2z/DifxW321ymiOB+FwzpbfafUcXBs6uL2m59Ye1wRSkiIjKy6veCK56DfQf4HPzH7WYWo5aPRjoqEZEiSriUQDQaLTz3er2DbCl5q/r0cNlHBXNFIJWAP11mLhx7c/rh/Adgr1N36u2uOnKPouXH321kc0d0O1uLiIiMcg43nPFzOPnHYO3zJee2d80sRu88UJ7YRERQwqUkYrGeLoxut7uMkYwd7/eZoUgFc2XCS4ThD5+Dd/+3uN1TDRc9BHOO3Om3PGp+HXtO6plWM53Jctcr63czUBERkTKyWOCgy+HSJ6FqVvG6ZNh8cfHINRpiJCJloYRLCfROuLhcrjJGMjZ0RpNs6ezZZ3arhbn1/kFeITLORdrgrjNgzV+L2/0NcMljMHXpLr2txWLhksNmF7Xd+9oGQrHkdl4hIiIyRkxdCle+CIs+03/d63fCHcdCq4bSisjIUsKlBDo7e4bHVFSoFsmOrG4MFS3PqfPhsms6bZmgIm3w29Nh0z+K26v3gEufMmPWd8NZ+02l2tcze1ooluKuVz/ZrfcUEREZFdxBM4PRqf9jap311rgSbjsKPnisLKGJyMSkhEsJhMPhwnPVcNmx1Y3Fw4nmN2g4kUxQnZvhzhNh28ri9obF8MUnoWrmbv8It8PGxYfOKmq786V1xFPp3X5vERGRsrNY4IBL4LK/QlVxr07iXWa47jP/Bhl97olI6SnhUgLt7e2F51VVVWWMZGz4oE8PlwUNgTJFIlJGzavh9mOhZXVx+8xlcPGj4K8bth910aGzCLjsheXWcII/vbl52N5fRESk7CYvgSufh4Vn9F/3wo3wu3NNr1IRkRJSwqUEurp6emxoSNGO9U247DVZCReZYLa9B785FUJbittnH2FmI3IP73mkwuPg3AOmF7X94rk1pNKZYf05IiIiZeWugHN/Cyf8B1j6DFdf+7SZxWjLW+WJTUQmBCVcSqCjo6PwvLJS0xsPJpvN8mGfhIuGFMmEsm0V/OYUCDcVty84FT7/ADhLMyzxssNn47T1fARsbIvy57e3DPIKERGRMchigUO+bGb489UXr+vcAHecAG/dU57YRGTcU8KlBLq7uwvPAwH11hjM1s4YoXiqsOx32ZlSoam0ZYLY8jb8+mSI9unSvPRi+Oxd4Cjd38KUSg+fWTqtqO3nz6qXi4iIjFOzlsGVL8D0g4vb03H481fg0W9BKlGe2ERk3FLCpQRCoZ4eGz6fr4yRjH4fNXUXLc+b5MdisZQpGpERtOl1M/VzrKO4/aAr4JSbwFr6mbq+dOQe2Kw9f2/rWsIsf0u1XEREZJwKToaLHoGDruy/7h+3w12nQ3dT/3UiIrtICZcSaGxsLDyfNGlSGSMZ/db0TbjU+8sUicgIWvvswMmWg78EJ/0nWEfm1Dyjxss5+/fv5ZLOZEfk54uIiIw4uxNO/k846zawe4rXbXgVbjva9EAVERkGSriUQFtbz/CAmpqaMkYy+n20rbh+y1wlXGS8e/1O+N05kChONnLo1+DE/zBjzUfQ1Z+ei71XL5dPWiM8unLriMYgIiIy4vY5Dy59CipnFLd3bYI7T4CVfyxPXCIyrijhUgKdnZ2F5yqaO7jVfRIue05SzRsZp9IpeOzb8Mg1kEkVrzviWjjuByOebAGYXu3lrP2mFrX95K8fklEvFxERGe8mL4ErnofZRxa3p2Lwv5fCU/8HMunyxCYi44ISLiXQe1poFc3dvmw2y0fbir/lV8JFxqVYJ/z+n+C12/qvO/7f4dPfLUuyJe/LR88tquWytjnMI+rlIiIiE4G3Gi74Exx8Vf91r/zU9EqNtPVfJyIyBEq4lIBquAxNY1eM7j4zFE3WDEUy3rStg9uPgzV/KW53+OC8e+DQq8sTVy+za32cvs+Uorb/fmo1Sc1YJCIiE4HNDif9CM64GWzO4nVrn4E7joOWNeWJTUTGNCVchlk6nSYWixWW/X7VJNmetU3houU96nyaoUjGl09ehV8dDS2ri9uD0+DSJ2Gv08oT1wC+dsy8ol4u61sj/P61DWWMSEREZITtdwFc8jgEJhe3t66BX30aPn6+PHGJyJilhMswC4d7kgg+nxIIg1nf2jfhouSUjCMr/mCml4y2F7dPXQqXPw0Ni8sT13bMrvXx2QOKZyz66dNriCRS23mFiIjIODTtALjiOZh+cHF7vBPuORve+E0ZghKRsUoJl2HWu2Cu6rcMbkNbpGh5Ro23TJGIDKNMGv56HSy/EtKJ4nV7nw0XPwqBhrKEtiPXHLsnHoetsNzSHee3r3xSxohERETKINAAFz0MS/6puD2Tgoe/Dk98R8V0RWRIlHAZZs3NzYXndXV1ZYxk9NvYJ+EyvUoJFxnjupvMt18v3dR/3VHfgXPuBIdn5OMaovqgm0sOm1XU9qsXPyYcVy8XERGZYOwuOOsWOPa6/uv+9gu470JIRPqvExHpRQmXYdbd3TPrTjAYLGMko9/6VvVwkXHk4+fhlmXw8XPF7TYXnH07HPX/lXUmoqG64og5+F32wnJbOMEdL60rY0QiIiJlYrHAsmvgs3eBo8916upH4benQWhbeWITkTFBCZdh1ntIUUVFRRkjGd0ymSzrW4pruMyu9ZUpGpHdkE7C0z+Au86A7j4XXf5JZgjRknPLE9suqPQ6+/VyueX5tWztjJYnIBERkXJbeMbAxXQ3vw63HgEb/l6euERk1FPCZZh1dXUVnquGy/Zt7YoRTfaMfQ267dT4nIO8QmQUal8Pvz4ZXvwvIFu8buYyuPIFmH5gOSLbLZcdPocqr6OwHEmk+fdH3y9jRCIiImU2ZV+47GmYtKi4vbsRfnMKvP7r8sQlIqOaEi7DrPeU0B7P6K3VUG6rG7uKlufW+zWjk4wd2Sy8eTf8chlseq3PSgsc8W34wp9HbXHcHanwOPjW8fOL2h55ZyuvrGkpU0QiIiKjQMVUuOQx2OPTxe2ZJDzyDXjkm5BKDPxaEZmQlHAZZr0TLm63u4yRjG6rG7uLluc3qN6NjBHdTXDfBfDQ1ZAIFa/zN5hEy6e/Bzb7wK8fIz530AwWTS3+u/zug+8SS2pWBhERmcDcFfD5B0xtl75evwPuOh26m/uvE5EJSQmXYRaJ9BSCVQ+X7fu4uU/CZZK/TJGIDFE2Cyv/CDcfBB880n/9vBPgSy/DnCNHPrYSsFkt/OCM4m7T61rC/PyZNWWKSEREZJSw2c3sRef+Bhx9ahBueBV+dTRsfqMMgYnIaKOEyzBrbW0tPK+pqSljJKPb5o7iApyaoUhGtbZ1cO958L+XQrS9eJ3DCyf/GD5/H/hqyxNfiew/o4rzD55R1PbL59eyujG0nVeIiIhMIHufBZc+BZXFn5V0boQ7ToBXf2G+sBGRCUsJl2EWDvfMvOP3q9fG9vRNuEypVG8gGYVSCXjxv+EXh8BHT/ZfP3WpKYx70OVjYsrnXXHtiQuoD7gKy+lMlu8uX0kmowtIERERGhbBFc/DrMOL2zNJePI7ZhhytKM8sYlI2SnhMsw0S9GOpdIZtvRJuEyrUg8XGWXWPgO/+BQ8/X1I9ZkS2eY0XYm/+BTUzitHdCOmwuPoN7To9U/aufPldWWKSEREZJTxVsOFy+HgL/Vf98EjcNtRsO29EQ9LRMpPCZdh1tnZWXheWVlZxkhGr80dUZLpnm/Ha3xO/K6xXWBUxpHOzfDAxXD3WdC2tv/6GYfAlS+aYnljvDDuUJ2w9yQ+vaC+qO1HT3zAB31mGxMREZmwbA446Qb47N3gqihe174Obj/W1IITkQlFCZdh1ntIkc/nG2TLiWt9a6RoeU6d9pOMAqkEvPIz+PmBsGp5//WeKjjjZrjkcahfMPLxlZHFYuHfz1pE0N2TYEqms3zjD28TT2nWIhERkYKFp8OVz8PkfYvbk2FTC+7PV0MiPPBrRWTcUcJlmLW1tRWeV1dXlzGS0UvDiWRUyWTgnQfg50vhqe+ZC6IiFlh6CVz9Bux3wbit1bIjkys8XH/24qK2DxpD/Ojx1WWKSEREZJSqng1ffBL2v6j/urfuhlsOh63vjHxcIjLilHAZZr2HFFVUVAyy5cS1sa24h8uUSneZIpEJ7+Pn4JZl8KfLoGND//WT94XLnobT/gd8mnXs1CVTOGPfKUVtd768jmc+2FamiEREREYphxtO+wmcepOp/dZb21ozxOjvt2kWI5FxTgmXYZZMJgvPnU7nIFtOXOtbi3sQzKzRkCIZYdveMzVa7joDmlb1X++ugFP+Cy5/BqYtHfn4RrEfnLGIqX1mFbvmvhX9EqkiIiITnsUCB3zRfHlT06fIfjoOj38b/ngJxDoHfr2IjHlKuAyz3gkXh8NRxkhGr0/61HCZXauEi4yQtnWw/Cq45TAzC1FfVgcceJkZPnTgZWC1jXyMo1yFx8FPP7cvNmvP0KrOaJIr7n6DSCJVxshERERGqclLTF2XgYYYrVoOv1wGG18b+bhEpOSUcBlmvRMudvvEmMFkZ2QyWda19O3hohouUmLhVnjyu6Yg7orfQzbTf5tF58BX/m56tvjrRj7GMWTpzGq+fcL8orb3t3ZxzX1vk8moa7SIiEg/Th+c/lM4+3ZwBYvXdW6AO0+EZ683RfxFZNxQwmWYpVI93/Cqh0t/W7tiRBI9s5oE3Xbq/K4yRiTjWjIGr/wcfrofvPpzyCT7bzPrcNPV95w7oGaPkY9xjLryiDmctKihqO3JVdv48VMqoisiIrJdS86FK56DhuJC9GTT8PyP4PZjYNsAw51FZExSwmWYJRI9WWklXPr7aFuoaHmPej+WCTrri5RQJgPv3G96tDz1XYgPMDa6dk/4p3vhoodh2gEjH+MYZ7FY+PG5+7DX5OJv6X7x3Fruf31jmaISEREZA2r2gEv/Cp/6cv91je/ArUfA0z80XxyJyJimhMsw651wUdHc/ja2F08JvUedv0yRyLi19llzofKny00X3b6C0+Cs2+DLf4MFp0zYaZ6Hg89l5/aLDqC2Ty+17/xpJU+uaixTVCIiImOAww0n/gd87j7w1Revy6TgxR+bmnPrXy5PfCIyLJRwGWaZTE9tCJtNBTf72tRvSmjPdrYU2UmN78I958DdZ8K2lf3XOwNw7Pfhq6/DPuepIO4wmVrp4bYvLMVp7/k4SWeyfPXet3jhw+YyRiYiIjIGzD/R1JDb+6z+61rXwG9Ohge/bOrRiciYo4TLMOudcLFatXv72tSnh8vMahXMld3UsRGWfwluWQZr/tJ/vdUOB18FX38bln0DHEryDbf9Z1Txk/P2pdfERSTSGS6/63VeXasLRBERkUF5q+Hc38B594C/of/6t38HP18Kb/wGMun+60Vk1FJGoISUcOnvg8auouVpVbr5lV0UboUn/hV+thRW3AsMMDvOonPg6tfhpB+Br3bEQ5xITlo8mRvOXlLUFk9luPS3/+C1dW1likpERGQM2es009tl6SX910Xb4eGvw21HwroXRj42Edkllmw2qzk8h1HvArDatcW6YkmWXPdUYdligZXXnYDfpemzZSckIvC3X8BL/wOJ0MDbzDgUjv83mLZ0ZGMTfvPyOq57+L2iNrfDym0XHsARe2q6bRERkSH55FV45BvQ/MHA6+cdb4ZKT1o4snGJyE5RF4wSUsKl2Lubi2eKmVvnV7JFhi6TgRV/MD1anvnhwMmWugWm+NwljynZUiYXHzab75y0oKgtljQ9XR5fubVMUYmIiIwxMw+BK1+EY68D+wA9wj96yhTVffAr0LlppKMTkSFSwqWEetdzEXhvS/FwosVTK8oUiYw5616EXx0Ny6+E0Jb+64NT4fSfwVUvm+JzmnmorK48cg+uPXF+UVsyneUr976pKaNFRESGyu6EZdfA1f+ARZ/pvz6bgbfvMV9GPfGvENo28jGKyKCUcBlmdntPj410WkWteuvbw2XhlGCZIpExY+sKuPts+O2psPXt/uvdlWbo0FffhP2/ADb1mBotvnzUXK47rbibcyYL1/7xHa5/7H1SaSWkRUREhqRyOpxzJ1z2NMw4pP/6VAz+djP8z2JT56X9k5GPUUQGpBouw8zr9RKNmpl4wuEwXq9m4cn79H89x8fN4cLyA1cdwoGzqssYkYxa7evhmX+DlQ8MvN7mhIOugCP+GTxVIxqa7Jw/vrGJa/+4gkyfT5oj9qzjZ5/bjwqPozyBiYiIjEXZLKx+DP56HbR8OPA2Vjvs809w+Leges6IhicixZRwGWbV1dW0t7cD0NLSQk1NTZkjGh3C8RSLr3uy6Kbr3e+rYK70EW2HF/8L/n4rpBMDb7PwTDOeuXr2SEYmu+GJd7fytd+/TaJPr5a59X7uvOhAZtQoMS0iIrJT0ikzXfRzNww83BrAYoWFZ8DBX4LpB2nItUgZKOEyzKZOncqWLeakt2HDBqZPn17miEaHlz5q4YI7/l5YnlPr45l/Pqp8AcnokgibmYde+RnEOgfeZuYyk2iZfuBIRibD5K0N7Vx1zxts64oXtQfddv79rMWcts+UMkUmIiIyhiVj8OZd5hqqc8P2t2tYDAdeBnufBW7VURQZKarhMsz8fn/heTgcHmTLieXltS1FyxpKJACkEqY3y0/2NUOIBkq2TFoE5/8RLn5EyZYxbL8ZVTx89TL2nV5Z1N4VS/HV37/F1fe+SWckWaboRERExiiHGw6+Ar72Fpz5S6jeY+DtGlea+i4/ng/Lr4KNr5nhSSJSUkq4DDOXy1V4Ho/HB9lyYnl1bWvR8qFzNdRqQstk4N3/hZsPhMevhXBT/22CU+HMW8yUiPOOUzfYcaA+6OYPV3xqwN4sj7yzlZN+8gKvrWsrQ2QiIiJjnM0O+34evvIanHUb1C8ceLtUFFb8Hu44Dm4+CF7+CYRbB95WRHabhhQNs6VLl/Lmm28C8Nprr3HggfpGPhxPseT7T5HuVcDltX89hvqgu4xRSVlkMvDBw/D8jbBt5cDbuCvhsK+Z8cZO1fYYj7LZLHe8tI7/fGJ1v7ouFgucf/AM/vn4+VR6nWWKUEREZIzLZmHt0/CPO2D148Agt3w2Fyw6Gw66HKYuHbEQRSYCVSwdZk5nzw1CIrGdop8TzNsbO4qSLXNqfUq2TDSZDLz/Z1PYrfmDgbdxeOHgq2DZNzS2eJyzWCxcdvgcDp9Xxzfvf5tVW7oK67JZuOdvG3ji3UauO31vTlk8GYt6N4mIiOwciwXmHmsebevg7XtNz5bOjf23TcfNuhW/hyn7wT6fNwkYX+3Ixy0yzmhI0TDrPaRICRej73CiA2ZpGt8JI5OBVcvhlmXwwMUDJ1ssNjjgUvj6Cjj2/1eyZQKZ3xBg+ZcP47Jl/WecaulOcPW9b/H5X/2ddzZ1lCE6ERGRcaJ6Nnz6u+Za6/w/wvyTzdTRA9nyFjz+bfjxnvCbU+Hvt5lZJEVkl6iHyzBzu3t6bkSj0TJGMno8/2Fz0fIhe6h+y7iXzcLaZ+Dp78PWFdvfbtFn4OjvQs12CrzJuOe0W/neqQs5ekE9312+kvWtkaL1r37cyhk3v8znD5rBtScsoMLrKFOkIiIiY5zVZurizTvO1G156254/U7o+KT/ttk0rH/RPP7yf2DhmbDfBTDzMLDqO3uRoVLCZZhVVfX03mhrU/HHTe0RVm7umXnGYoFlc+vKGJGUVCoBKx8wUxM2vz/wNharSbQc/s9Qv2Bk45NR67C5tTx5zRHc+vzH/PyZNUW1XbJZ+N3fN/D4u41cfvgcLvjUDAJuJV5ERER2ma/GDOM+9Kvw0V/gH7+CNX8deNtUDN75g3kEppjhRkvOg8lLRjZmkTFICZdhVl3dM92xEi7wxLuNRctLZ1RRF3BtZ2sZs2Jd8PodZorn0NaBt7FYYe+z4ch/gbo9RzY+GRNcdhtfO2YeJy5q4AcPv8dLa4qnk28LJ/jREx9w6wtr+fJRe/CFQ2bhdtjKFK2IiMg4YLXB/BPNo2OD+eJs5R+h6b2Btw9tgVd/bh71e8M+58E+nwN//cjGLTJGKOEyzHr3cOnoUN2BR1cW33yfuKihTJFISXRsMF1RX78TYp3b327hmWbokBItMgR7Tgpwz2UH8/yHzVz30CrWtYSL1ndEklz/2Afc+dJ6LjxkJhccPFNDjURERHZX5Qw4/Fvm0fYxrPxfePMu6Nww8PZNq+Av/xee/gHMOwGWfBb2PAEcnpGNW2QUU8JlmAUCgcLzUChUxkjKb2NbhLc2FCedTl48uUzRyLDJZmHdC/DabfDBo2x3mkGLDRaeDodcDdMOGNEQZXw4cs86nvjG4dz6/Mfc8vxaIol00frGrhg3PrmaXz63li8cMpPLDp9DtU9TSYuIiOy26jlw5Lfh8G/Cx8/Cij/AB49BMtx/20wKVj9qHs4ALDgFlpwLs48Cm243ZWLTX8Aw83q9hefh8AAnpAnkoRVbipaXzqxiSqUy3mNWIgJv/84kWlo+3P52Di/s/wX41JehaubIxSfjUn6Y0RcOmcmvX17PnS+tIxRPFW3THU/xi+fWcsdL6zhz36lcdOgsFk4JliliERGRccRq65leOhGB1Y+Z5MvaZ0xh3b4SoZ56L/5JsOgcWHyOmW7aYhn5+EXKzJLNZrfz9bTsinvvvZfzzz8fgHPPPZf777+/zBGVRzqT5cgbn2VTe89MTd8/fW8uOnRW+YKSXbN1Bay4D965DyIt29/OUwUHXwUHXQHe6u1vJ7Ib2sMJfvbMGu597RNiycx2tztodjVfHY5A1AAAIABJREFUPGw2x+xVj8Om2RRERESGVXeTuTZ86x5o/mDH21fONMV2F30GJi1S8kUmDCVchtlTTz3FCSecAMDRRx/NM888U+aIyuPJVY1cefcbhWWn3crfvnOMuvuPFckYrLwf/nEHbH178G0nLYaDLjffXjh9IxOfTHid0SS/+/sn3PHiOlrDie1uV+l1cNqSKZyzdBpLplVg0QWeiIjI8MlmYfMbptDuqj9B97Ydv6ZuAex9lqnxpxkrZZxTwmWYrVq1ikWLFgEwb948PvxwkKEX49i5t7zCP9a39ywvncaN5+5Txohkh7JZaF5tuoC+eRdEWre/rdUOe50GB14GMw/TtxRSNpFEit/9bQO/eWU9mzuig247f1KAc5ZO46TFDUyr8g66rYiIiOykTBrWvwTv3A/v/dkML9qR2vmw+FzT+6Vmj9LHKDLClHAZZs3NzdTXm2nRqqqqJuTU0G9taOesX7xS1Pb41w9nr8mqqTDqZLNm2r93/2Q+GFs/Gnx7ZwAOvNQMHQqqALKMHulMlr+8t43fvrKeVz8eJFmYs+/0Sk5ZPJlTlkxWbSkREZHhlq/3smo5fPQXSMd3/JqpB8DCM8ykC1WzSh6iyEhQwmWYxeNx3G43AHa7nUQiMeG6sH/hztd44cPmwvLh82q5+9KDyxiRFMlkYOtbptL8UJIsWGCPT8N+58P8kzXVn4x6723p4u6/refxdxvpiCR3uP0+0yo4Zq9JHLdwEgsaAhPunC0iIlJSsU5Y/bgZdvTxs2ZWox1pWAzzTzEzHjUsVm9qGbOUcCkBt9tNPG6yuOFwuGjmovHu+Q+buejO14ra7r70IA6fV1emiASAzk3w8XOw9llTVT46hJ5XrgrY/0JTn0XfMsgYlEhleOaDJh54fSPPfdhMOrPjj7sZ1V6OXziJo+bXc8CsKtwO2whEKiIiMkFE2uCDR2DVg7Du+aElX6r3MMV29zwRpuxrZk4SGSOUcCmB+vp6mptND4/NmzczZcqUMkc0MtKZLCf/5EVWb+sZr3nw7Gr+cMWn9I3xSMpmoX09bHwNNrwC616Ato+H9lqrA2YfYQqZLTpbRXBl3GjqivHQii08tnIrb27oGNJr3A4rn5pTw9Hz6zlyzzpm1ervQUREZNhE2syQo5V/NNesQ+Grh73PhPknmTqCdldpYxTZTUq4lMA+++zDO++8A8Drr7/O0qVLyxzRyLjr1fX83z+vKmp7+OplLJ5WUZ6AJoruZlMdfusK2PImbPrH4AVv+7LaYc5RsPfZptump7JUkYqMCls7ozy+spGH39nCW0NMvgBMqXBz4OxqDp5dw5Hz65iq2i8iIiLDo3MTvP8wvPcQbHgVGMItqsNrhr0vOBXmHAnBifElt4wtSriUwDHHHFOYDvrxxx/nxBNPLHNEpbemKcSpP3uJWDJTaDtrv6ncdN6+ZYxqHEklTK+V9nXQusY8b/4AWj6C0Nadfz9XBexxFOx5Esw/ETxVwxywyNjQ1BXj6Q+a+Mt723jpoxYS6cyOX5Qzu9bHgbOqOGSPGg7bo5b6oLuEkYqIiEwQ4RZT8+X9h81Q+MyO67EBUDUbZh4KMz4Fsw43Q+LVy17KTAmXErjwwgu55557ALjzzju55JJLyhxRaUUTac68+eWioURep42/fvNIzf4xFJkMhJug/ROTPAk3Q+dGCDWa5a4t0LYOsuld/xlWO0w70PRkmXM0TF0KNvtw/R+IjAvd8RQvfNjM86ubef7DZhq7Yjv1+unVHg6dU8uS6RUsnlrBnpMCqgEjIiKyO6LtZqKHNX+BNU9DvGvorw1ONT1g5hwFMw6BiqmlilJku8btHVcqlWL58uU89NBDHHDAAVx22WX4fCMz/r6qqqe3QGdn54j8zHJJpDJ8+XdvFCVbAL5/+t4TM9mSzUIyColuU5E92gHJsMnUd20xj3CTWe5uMtuEm4eeuR8qpx+m7AfTD4aZh8D0T4HLP7w/Q2Sc8bvsnLx4Micvnkw2m+Wjpm6eW93E8x8284/17SRSg/d+2dgW5b62jdz3+kYArBaY3xBk4eQgS6ZVsM/0SuZPCuBxKgkjIiIyJJ4qM1Pmfueba+y1z5jeL2uehtCWwV/btRneuts8AILTYPI+ZtajKfuZ54EG9YKRkhqXPVyeeOIJrr32WlauXFlomz17Ns899xwzZswo+c//zne+ww033ADAD3/4Q773ve+V/GeWQyiW5Cv3vlU0BTTAmftO4abz9h27hXKzWYiHTDIk1gmxDpMgibaZLHs+kRLrMP9G283zeDckwpCOj2y8Vgc0LIIp+5vK7VP2h/q9VMFdZBjFU2ne2dTJa+vaeG51E29t6CA1hFmP+rJazFCkBZODzK3zs3hqBQunBGkIurFax+g5U0REZKRls6Z24erHzQQRm98Y2oxHffnqoH4h1O4JtfOgZg+ongMVM9QbXIbFuDuK/vznP3PuueeSTPb0GPD5fKxbt45DDz2Um266iXPPPXfQ90in09x0001kMhlSqRSplPnjdTgcuN1uvF4vgUAAj8eDw+HA5/Mxd+5cpk+fDkBlZU/R0Y6OoRdkHCuy2SyrtnRy16uf0BlJMK/eTyyVJp7MMLvWx7+ftXh0JVuyWZMU6dpiepPEOkzSJB4yxWXzQ3e6m8z6aPuunbBLLTAZauZC9WzzQVC9B9QtMMs2R7mjExnXXHYbB86q5sBZ1Xzl6LlEEine2tDBq2tbeWlNC+9t6RpS/ZdMFtY2h1nbHC5q9zltzKr1MavGx5w6H1MqPUyr8jC5wsOUSjde59j4uM5ms8RTGRLpDOl0lkw2W0hMWXL/sVosWC0WbFYLDpsFh82Kw2Yta9wiIjLGWCxmiPzU3OQkibBJunzyKqx/ETa9Dqnojt8n3Gymp173fHG71Q4V00xdmMoZpieMfxL4602SxlcHrqCZbGKkr8MzGcjmH+lezzPmvsdiNfHbHObf0XRfNgGNux4uM2bMYOPGjVRXV+NyuZg2bRovvvgi1113HTfccAPTpk3j5ZdfHrSnSzKZxOl07tTPvfzyy7ntttsAuPnmm7n66qsBuOqqq/jlL3+56/9DMrBsNtfTpA0i7eZkmR+qE2o0lc7DuQRKqBFSO1eLYcS5K0wmvXI6eKuhYroZdxpoMI/KGWYbERmVook0b3zSzopNHbyzqYP3t4bY0BYZtvevD7iYXOmhPuCixuekxu+kyuuk0uukwuMg6Lbjd9vxu+x4HDZcDhs2qwWrBVKZLKl0llgyTTpjkiDheJpoMk0qnSGSNAnzZNo84qkM8WSaeCpDNJmmtTtBS3ecaDJNMp0hFEuRSGVIZ7KF7WPJNInc9rvQ8QeHzYLLbsNlt+KyW3E7bQTcDgIuO85cW/7/y+u0UeFxUB9wUeFxUON3MbnCTdDtwOeyYR/jyZtwPEV3PEVXNElXLEkoliIUSxXaQ7EUndEk8ZT5HYViKeKpDMmU+f2lMllSmQyxZIZUbjnPYgELlsKxYbdacdqteJ02PE4bTps1t79tuB3mX6fditth9r/XZcfntOF22Mzvw27F77bjc9kJuO0E3Q5cduvo+tJlJ0UTadoiCbpjZn+3hxOFYzySSNEeSeaep4km0oQTKZLpDJFEuvC3k/+bS6YzpLM9Ccd8otFmteBx9t6HDgJuO267ObZ9LvNvwG2nyuukwuug1u8i6HbgtI/t47u3dCZLS3eczmiSaMKckyKJFO3hJK3hOF3Rnr+FWMrs73gqY85nuS/60tls4bwGxfvZlT+GbVYcufNIwGXOlV6nnRqfOX96cse0z2mj2u+k0uM0x7XTNiaP5Ww2SySRpi1szt0dEXMuae1O0BZOFM4fXdEUobjZ972P2Uxun/Y+ldt6Hbt2mwW71Yq917Hszp0z3A6zL71Om9nPDht+t4Oq3DHsc9nxOm3UBVylT7QnY/DJy6b3y4ZXYctbkE6U5me5gia5YcvdP2azZjmb+yImm8klPxy55IelJ1FisfbEm0ma12aSkE4B2Z5ECkAm95qhzOBUYDGzOTl94HD3eu41U2rb821ec6/hCoLDY9rdFbkk0yQITNK9yC4aG1+ZDdGrr77Kxo0bOfDAA3nxxRdxOp1s3rwZl8vF9ddfD8ANN9zA0UcfzcqVK/F6vQO+j9W68yeA7u7uwvPetWLC4fBAm48+N3/K1B3J/+G5AuCuNH+Q7iDYPeaPz11hlp1+k9H1VIEj9wdsc5mTid1l2na0H7NZc+JLhE1vk2QEEhFT8ySeq4ES74JIW244T0euiOxm01tltCZRbE6z/1yB3P7xgrfGnKwqpoK/AXy1JjPurQZPteqriIxxHqeNZfNqWTavttDWHk7w3tYuVm7uZMXGDlZt6drlJExTKE5TaISHK46gZDpLMp2iexj+FwNucyNVH3RT6XHgd9kLF/m9/3U7rFR6nQTddlx2k3DI34x5HDt3o5XJZEmkM0QTaSLJNKFYkvZwku54ilg+eZVI0RVLFW7SW7sThOMpIglzkxlOpGnqitEVG4U9LHeCzWqh0uOgwuOg0uug2uci6LFT6TE3t9V+Jw1BN1Vec6MbzCUb8gmfXbnBzWSyhRvySG7/huPpws16a3ecaDJTSAp2xZKF30sknqIjmiQcT9EUMjeno5nTZqXG78TnMgnW+oCLGr+zkGwN5hMIueSN22GO7QqPHY/T3AC7c4meXRnGmEqbHmyxZIZ4Kk13LFW0z6O55Gs8lSYUS9EcitMeSRBLpmkPJ2kKxQrJla5YivSuZGhHiN9lZ0qlm0qvkzq/i4YKN/UBVyG57XXaC8nuap8Tr9OcVxzWXdu3eal0hljKHK+JVIZwIlXYz+2RBK3hBKFcAiUcT9EaThBJpIglM3RGkzR2xuiOj/7ziNdpEjNuh80kFj0Oqn3m2K70OqjxOQl6HFR7nXhzSUiv027O6247dqtl8POFww1zjzEPgFQcmt6HxpUm+bL1bdi2anjuJ3amkO+Iy5p7q+Qw3JM6vOb+JTjVTMEdyN3TeKrMvWE+meOuMMvufPLGAy/+F6z4fc97HXkt7Pv53Y9pDBhXCZcf/OAHABx33HG4XC4Apk2bBoDFYuH666/n17/+NR9//DFNTU3MmjVrwPfZlYRL7+K4FRUVA7aPap2bIBHa8XY7w2IzyQer3WRvLeSytmlT52Q0DtvJc+SyvPmHtxa8VSY54q4wySZ3Ze7fKvOvK2iyww6vuu6JCFU+J4fNreWwuT1JmO54ive3drGmqZv3tphkzNrmbkJj/CZ7NMn3CFnfuus9jKwW8DrtOGw93+pac+f1bBbSWfNNcL5nzyi+Zxxx6UyW1rC5KdxZFgu47NZcTxsbDpvZ75bcULQsWTIZyOT2fzSRJpnO7tR07mNdIp1ha+fu3yBaLOB1mB5MTrsVu9WK1Wp6QIH5PaYzZkhgOpMhmc4SzfWSmyi64yk+3Na94w0HYLWA3ZbrseewYc+dQ/L7OEvWnEty+zmRNr3UEmmzryeCSC5BCrCpfQhDf/rIny88DtOzMd/jJt+Tr8LjYL8Zlew7vZIl0yqYU+fHOmVfU+9w/wvNm6RT0L7OJGJa1+Qea01b97bh/N8dH5IR6PjEPHZXbDQnqYbXuEm4hMNhXnrpJdxuN9dcc82A21gslkIiZjC78u1KNNpzoujdcyYSGb4u5SVVit4i2fTQxk6OBIcPgpNN75J8ssQdNP/66019lECuy5yn2mTFRUSGmd9lL9SCyctmszSH4nzSFuHj5m42tEXY3B5lc0eUrZ0xtnbGxtRNTn5YSmHYSq7buOnxnyWTNTfM6dyNsunCXtaQ+8lkGRPfEI832SzEkqb3BGj/l1I2C+FEmnDuhleGVyZLoYeKEuqlUXy+GNjKzabmJJjP3wUNAfaeWsGSXMH6efV+7LXzTLHcvuLd0L7eJBc6N0N3I4S25coYNJs6kPkJNnZqiM8wseQmxyh8sd3rkc2YL7YzydH9BfcEMW4SLvfddx/d3d1cdNFF1NbWDrhNNBqls7OT/fbbr1DgdnusViuZzNC/Mek9dKh3wmVMDCnKZIZ/WuKR4PCZITn5YTn+SaZbm7++p6ubN7fsrlCvExEZlSwWC/VBN/VBd1EiJi+RytDYGWNbKEZTV5y2SIKWUJyOiBmLn3+E46ZbfyzZU9sgk82asfY2C67ct9gWC7maHXYcufH3plaHBaetp25H/pvZSq+D+qAbv8uG3WpqdrjtpkZM/ttxd/5fh22nx+VnsybxYupfmF4jsWSazmiypy5GbrhIvnZGWyRBcyhOKJaiqSvGtq443fEU4USKsV6ZzmGzUOExQ52CuToe+WFR+edBtwOvy+zr/FASU3zYUvim1/wuLIXfeX6/ZLJZc2zkei/kh9Xkh4Ik+tTxyT+PJtN0x9O5oQvp3I2OGTYSyQ2X6oomd2n2rtHEbrVQ43cScDvwOs1QB4/D1KfwOG1U+8yyJzd8xO+y47RZC39Hboe18DfnsJnEowWz3/PJxkQqU7wP40m6Y+Z3kK9b0hlNEoolaQsn6Iiaf0OjfAjOrqjyOqjyOfHl9qfHaTe1mXymTpXPlRsmlasL4rLbsNsshWFRvXug9d7PqYw5n8RzSY9kxhzHXfl6SDEzFKcrliycd0KxFK3hOJ3RFF2xJInU2O055bRZqfKZuinVPidBtxmuU+VzUuU1Q80CbjsBtwOf0/QQsVksOOyWQr0WS26fZunpiZPO1YhKpjOkM2b4UzR3LMdT5t9oMk0kV3MqPxyqNZygtTtBNDfksqW7RLVUBtEdT/H6J+28/kl70X6aU+djXr2f2XU+5tT6mVXjZUaNj2qf38wC2rBo8DfOpM2QonSquEZMJtmTFLFYc737cwnObMass1rNfRiYkgw2p7lfsdp7JVIsPYkULGYW0nz7UGTSpmxEImK+CE9GTTIpFTXDrJIRUz8m0W3KNyS6e9qjbbkkUxN0bR3emVgrpg3fe41y4ybhkp+VaLBitxdccAGdnZ0ce+yx2GyDT5n7zW9+EwCbzYbD4SCbzZJMJonFYoTDYUKhEPF4nEQiQVdXF1OmTCm8tncNlzHRw8VigW+tNn9cqbjp7RJtN3VV4iHzh5eMmj+8WKfpApYI9UyRnIiY16UT5pGKmW2Hwmo3iRNXoGc4Tr6QU75ejKfKJE7cFWbcYOX0XE+UKiVRRGTcc9qtzKjxMqNm4LpjY53Fki+Ya4Pd7FyYyWRpj5jCkFs7Y4VCs+G4qZGSr5mSryHRFk4U6qxEk2Z9vgjtzrLnklf55EiV10HAbW4UnXZzQx5w2/E5TYKkKl+w02HD6zI3k9U+J7U+15ieIjyRytAajtMdS9HcHacrlxDsiJh/m3P1iPKFUjujScKJVKFw567KF+z0OXvq9PhzSaoqn5OAy47DZgoAB3O1TfLFf/P1ZGr9Lmr9LmyjdP/ni6Hmb1w7o6YmSnskWTi2Q7Geor5d0SSxZKaQEMsf9/nk2q6wWOiVYLKa/e2y4XX2FO3OJ2y9Tjt1uULfbqeNoNvOpKDbFAh2mL8Vt2Pw6/FyyWaztHQn2NYVK+znLR0x2sKJwnkiv19DsSTtkWSuqG96t4cEWSwU9qPTZi0UoPU4bFR4nNQFTIKqxu/C77Ll/u3Zp/VBs89Hc8HfdCZLJJHKJWdMbZqOaJL23P5tCydpz32p0B5JEImb2kvhRIrOSJJwYniGt2UxhZuT6Qwb26O8tq7NHMdOO5VuO9NqvEyr9FLjd1Lrd1GZS1Y5bSaparXkEiCeqmHYK8MrPy+OxWrrKZGwe29o7vu6t5lSFKFG8zzSahI1yXAumRPK3St2m0RUMn9fmPt9WWyw8AyYd9zuxTOGjJuEy448/vjjLF++nP33379Q62UwN9544y7/rDE3pMhiMUWPhlM2C+lkT1e2omnKcrVd8llcERGRYWC1Wqjxu6jxu5g3KbDL75PMfWubSptvc80sKGZdfhYUR+5bdlP/YgfFGycQp93K5AoPVLDTv4NUulePhHSGZMb0xMlmzY0R5KYVt1pwWC248zMr2XavSOlYYbFY8OUSersrf8Ob79WUyk3jnu8JZbXkZ6PJ7e/cjf9EmcLdYrFQF3BRF9hxKYK+stme+jf54syp3LGc38eFGcNspkeJ0256qOWTLOP9fGKzWsxMdG4HBGAWvh2/qI90Jlvo/ZjK1xtKZwv1cYBCDah8Tyib1VKo9eLI1dgZr/t6OP6/sr3OCRYLWDy5+pV183f+zdIp00PGYptwpRvGXcKlpaWlX9sTTzzBWWedhcPh4D//8z9xu0v7Sw4Gg4XnodAwF6IdKywWsDuBnZteW0REpNzM8JyJcWM5mthtVuw2K76dv8eVnZS/4ZXhZ8knq2yM2h4844HNasHrNLNFSWlYcgmrYWGzm8cENG6uJo499lgcDgfLly/n+uuvZ8OGDaxZs4ZrrrmGM888k0AgwIMPPsgxxxxT8lh6J3RisVE6dbGIiIiIiIiIlIwlmx3r5eV6XHvttQMOBTr++ON58MEH8Xg8IxJHV1dXYWpov98/cXu5iIiIiIiIiExQ46aHC8CPfvQj7rnnHubNM1N71dbWcuONN45osgWKC/fG48NYzVlERERERERExoRx1cMlL5vN8sgjj3DssceOaKIlL5VK4XCYcbFWq5V0Oj3iMYiIiIiIiIhI+YzLhEu5ZbNZrFZr0bKIiIiIiIiITBzjakiRiIiIiIiIiMhooIRLCfQeQtS7p4uIiIiIiIiITAzKBpRA74SLzWYrYyQiIiIiIiIiUg5KuJRAIpEoPO89Y5GIiIiIiIiITAxKuJRALBYrPHe5XGWMRERERERERETKQQmXEuidcHG73WWMRERERERERETKQQmXEuju7i489/v9ZYxERERERERERMpBCZcS6F3DRUOKRERERERERCYeJVxKIB6PF54r4SIiIiIiIiIy8SjhUgKq4SIiIiIiIiIysSnhUgLhcLjw3Ov1ljESERERERERESkHJVxKoKurq/A8EAiUMRIRERERERERKQclXEqgpaWl8Ly2traMkYiIiIiIiIhIOSjhUgIdHR2F55WVlWWMRERERERERETKQQmXEug9pCgYDJYxEhEREREREREpByVcSqC9vb3wvKqqqoyRiIiIiIiIiEg5KOFSAr17uFRUVJQxEhEREREREREpByVcSiAajRaea1poERERERERkYlHCZcS6J1w8fl8ZYxERERERERERMrBks1ms+UOYjxKp9PEYjEcDgdOp7Pc4YiIiIiIiIjICFLCRURERERERERkmNnLHcB4FI1GcblcWK1ja8RWPB6nq6uLpqYmNm/eTEtLC62trUQiEUKhEO3t7bS1tdHe3k4sFiMej5NIJEgmk8Tjcbq7u4lGo8RiMZLJJKlUqt/PsFqtWK1WnE4nTqcTu92Ow+EoPCoqKqiursbn81FRUUEwGMTn81FTU4PX68XtduN2uwkGg1RUVOD3+6mrq6OiogKfz4fNZivDnts96XSaSCRCJBKhu7ubtrY2Ghsb6erqIhwO093dTVdXF7FYjGg0Wnjk10ejUbq7u4nH4ySTSaLRKIlEglQqVfg9pNNpMpkMffOrNpsNl8uF1+vF5XLh8Xjwer04nU5cLlfhd1BZWYnP56Oqqgq/3091dTUNDQ3U1dXR0NBAVVUVLperTHtwaJLJJE1NTXR1ddHY2Mi2bdsIhUJEo1FCoRCRSIRwOExnZyfhcJhQKEQoFKK7u5twOFw41qPRKMlksrCPe+9Tq9WK3W7H5XLhdDrx+/0EAoHCo7KykmAwWNin+eXq6moqKioKx3FVVRXV1dVYLJYy7rGhyx+3mzdvZvPmzYXjt7Gxkba2tsLxnT9P5I/l3vs1lUoVjtnebDZb0fnC5XIVeg76fL7CI38c19TUFPZxMBgsHKc+n49AIEBNTQ0VFRXY7WP34y+ZTNLc3Fx0zsgfv11dXWzZsoWmpiZaWlpoamqivb2drq6uwvGe38+ZTKbwnna7vWj/ut1uKioqCAQChb/5QCCA1+slGAxSW1uL3++noaGBqVOnEgwGC/t2rBy3sViMjo4Ompub2bRpE1u3bqW1tbVwXs2ffyORCK2trXR2dhbOF/nzbTweJ5VKkclkSKfTRecDu92OzWbDZrPhdrtxOp2Ff/PHbyAQoKqqimAwiNvtxuPxUFtbS11dHdXV1fj9fvx+P5WVldTX1xMMBsfksZtKpWhsbGTz5s10d3cXfa5FIhE6OzsL5+T8Ps9vF4/HicVidHd3F/Z5IpEoOn4tFkvR55nb7S7sX7fbjdfrJRAI4PF4qKmpoa6urnB9kT+26+rqqK+vp76+fswcw70lEgk6OzsJhUJ0dHQUzgfbtm2jo6ODtra2wrGdPyfn933va7f8/s5/ziWTycI1RG8Wi6XoGLfb7YVzsdvtxu/3F34Pfr+/cG4OBAKFazifz1f4HOx9TTfarycG093dXfgdNDY2Fs4jLS0ttLe309HRQSgUoqurq3B9kT/WI5EIiUSicI2dv37LZrMDXr/lrzkcDgculwuXy4Xf78fj8RTO3z6fj2AwSF1dHZMnT6ayshKPx1NY1/f3MNbuXRKJBE1NTYX9l3+EQiG2bdtGW1sbW7duZdu2bcTjceLxONFolPb2diKRCLFYjEQiUXQuH+h8brFYsFqtOByOwnWJw+HAbrfj8XiKru3yn5P5z8/8Z2ZtbS2BQIApU6ZQX1+Pz+cbc+eabDZLJBIp3IO0t7cXzjHt7e10dnYWfgfhcLiwj/O/n/x1SO/7lkQiMeA5ve9nZv5z0ul0Fs7z+c9Qj8dTuIepra2loaGB+vp6pk6dSl1dXdlrqqqHSwm4XC4SiUThgqqurq5wwZQ/EQaDwcJFVmVlJbW1tYUPf7fbXXTDlk8yOJ3OwgcbmBv1VCpVuPGLxWJ0dXUVHeT5D9P8CT3/Idze3s6WLVtoaWlh69YtPb8NAAAgAElEQVStdHV1EY/Hy7zndp/b7aahoaHw4Z1PDORPevkPlKqqqsIHTX7/ejweXC5X4cMrfwGRTxJZLBay2WzhAzB/kohGo4WTeHt7e+EmJ3+Dkz/pd3V1FZIlHR0ddHR0FD5wx4P8TcKUKVMKx3pNTQ2VlZWFm4f8vg8EAoULhPzNs9vtxuFwFPa11WotXGTkLwLzx3YoFCpcqOdvgPIn8HA4TGtrKy0tLWzevJmmpia2bNlCa2trvwuW0czhcFBVVVX4UA4Gg0yePLmQvMknFyoqKgr7Of9hZP9/7d17cFTVHQfw727eCSFP8iYOSCEQqDJqqSKBIIhUlIJiFVFEHGVsfIAi6oBiRUEU0foGi1bsqC2O2NbSivIQaI0mGA3iAxGamISQTbLZJOS599c/mHN6N9mEBHazyeb7mWE0u/feOXvzy7nn/s7v3A0M1P1IYGCg7jtUDKu+wzy4djgcqKmp0ckQNWisrq5GRUWFvhFSA/qamhrU1NTo9/qakJAQJCUl6bhMSEjQ51X1xwMGDEB4eLhOPKqbN5XkUTGszq0aqKq4Vf2F6qNVf6HOsUqUNDY2orKyEhUVFfrmp66uTp9b9bMaqJufE9bbBAQEIDExEampqYiKikJ4eDjCw8P1jW1sbKzLQMl8zVM3yGFhYTrBpvqFoKAgPTA19wvmxIj5ZkbdwFRXV6OyshJlZWX6eqf63t58HjsTFhaG1NRUxMbGIiwsTE9CqPOnkmHqJkptp34Pqs9Vvwdzv6vOsdPp1DfZqp9QN/Dm81pbW4v6+nrdP6trYFVVFRwOB6qqqvT1rq/0v8HBwbqfTUpKQnJyMuLj43XSRiXFzT+rWI+MjNSTF6rfNY8h2o4j1FjCnNxQEwAqIVVXV6cTfg6HA9XV1aivr9eTMyUlJaiurnY7ydVXqYSYGj+ra1xMTAwSExMRExOD+Ph4PQlknjRS/YX53JvHcMDJPkTFttPp1GM4db7b9rnqnJsnv9QNpxqTqL+JmpoaH5+9MxMeHo6wsDCdKFN9ikoohIeH62Sw+r2ovkb9DbSdVDXHv8VigWEY+ppoHoeofsZut7uM8aqqqlBTU6MnfX/66Sc9cVZVVeXrU3baAgMDERkZieTkZJ34UtdMNY5OSEhAXFwcYmJi9D2LSqyp+xc1YWLuc8xjEjXh6nQ69XikbdK1pqYGNpsNNptNJ8ArKyv1/YsaE9bW1qK5udnHZ677oqKikJaWhuTkZD32U7Gr+nRzHEdEROjJZ3XOzX1LdxNlTLh4mGEYfbLKgoiIiIiIiIg61tLS0q1q075Xl9rLNTU1ISQkpE9WiwQEBOiyt7S0NF3+pmbN1EyZmi1TGWyVAVSZ2bCwMF1mqrKsAFzK9FRWWy0lULM7KoOtMtxqprKystJlZljNsDscDj0LXF9f7+MzeHosFovL7GN0dDSSk5P1DJqaYVDn1lwerSqmVBmvysSqmQX1r+1Mj5ohVjM7armHmk1Q5ZVqJthcGVVbWwubzYZjx47p/9rtdjidTl+fylNSy8+SkpJ0JZQqrVXnX80ymJcCqVnhoKAghIeHuyyDUzGuYru1tVWXvJtnBFSJscPh0LOUKobVLLCaMVOzOX1FSEgI4uLikJycjNTUVKSkpCAyMhKJiYl6tl3NQKqYVX2GuapMxat5VsbcX6hKPtV3qIom83IlNeuuzq15mYjqXxwOR5+Zbe/IoEGDdNyqZZhqRlLN4KiqM3Mpf3h4eLt+Qc02mpfINDY26momFaPmmXebzYba2lqUlpairKxMl8z3pYo9tYw1Pj5ex62ayVX9rIrd2NhYxMTE6GoSc3WeeVmFuT8wVzGYZ3BV+bS5ikxVmdbX16OiogIVFRV6Vl1VlBw/fhy1tbV9NnYTEhKQlpamq3GioqJ0GbiqJlHLSsLCwvS1zzyjq6rKgoODXaoW1PjCfB1TFQnqNVXSbrPZXMYNqs84fvy4vp71RWoMp0rs1XUsMTER0dHRiIuL0+dWVeqppSeqLzbP6LaN77aVIm1jvKWlRS8TbWxs1JWoqtpMnWfVp6jq65qaGpdrY0VFRbvlS32JeTm2GmdEREQgPj5eV+moZVWqTzaP58xjubZV1m2vjeZqVXXeVYWO3W7XMa8qFsrKynQ/rn4vNTU1upqnL/XfitVq1RWq5vuQAQMG6Gqo5ORkJCYm6nFIaGiorm4w38+o891RvJtj3nwfo66XarysrpOqj1fVwGpspx7b0NjY6OvTd1pUjKt+XJ1ntTzeXNmqKinVtVRdP9teR1WfrsYkqgJNLeNvamrSfYrq01V1tt1u1/eIqjq4vLwc5eXl+Omnn2Cz2dotVz9T3S2uYIWLl6gLv3kQqm5aVeenBll2u10PXlUAqfJG9bwDNUgzr6NVnYK6YVEl2m0DXf1RqJv5AQMGICoqCsnJye3WdPa1tYRmIoK6ujq9Dtxut+tyOFXyabfb9blXvwc1ED5x4oRLaa86123XLquBtRr4qc46JCRED2oSEhIQHR2tLwBqwKMuBOalNX1xzWxbTqcT5eXlqKioQGlpqb7Q2Gw2/YwElayprq5GXV2dvukwL80yr59V1Dpx8/pM1VGr5QjmhIm6OYqLi0NqaqrLGs6+9OwDVUarntVht9tRVlamY1ndKDgcDlRWVurYNpfoqvWxqmxaMcewuplRy/DUeTY/O0KVd6sElNpWLWeKiYnpU32HiKC+vl7fXKkYNa+1VwMlc7mtKqVV27XtK8xU6bT5OVVq6ZxawqhuikJDQ/XyMdVPhIeH6/OuflZ9RlhYWK+tpGxqakJZWRlKS0t1QkyV51dWVqKqqgqNjY0uS2DVz+q8qmueimMVw2YWi0XHr7kkWJ0j89IPNeCOj4/XyWy1ZKwvxS1wMnbVc3rUWnk1CaESDDabTd9QqWd3mJ/boeJWnXv1PJ+2z6NSYwx1ns03hm2XQqtroXo9Li5OPzNJPa+qr/S/5ud5lZaW6tJ6dU7VWKLtTavaTyXOzH1D26G2evaG+mfuI8w3JqovVjcyahm6+bk+gwcPRlxcHIKDg/tcPLvT2tqKiooKnXxRfYe61pWXl+ulruZxtRpHtO2XO0remH8HKsmhEntt+1x1ztXvxLyMr+2kZFxcXJ/9PTidTr30XfXHaqmJWiavnmmlrpVqosj8N2Ee37W0tLgsswX+P65Tz0ExTxaq867GIupaqc5vVFQUUlJSkJKSoid1euv18FSamppQU1OjH+2gzrvqf8zPoVGTdGpsp66t6hqpEm8dxb25Pw8MDNQxrpYvqf5aPSts0KBB+rlWKv7NicG+FOMiApvNpp/Vdvz4cZ38UudbTfabn0Gj7r3VGEWdX4vF0u0EDhMupKkbCzWLdvHFF/u6SUQe09TUpNeilpaWorm5GTNmzPB1s4jOmMPhwI4dO3Qfrp5dFBkZiXXr1vm6eURn7KuvvkJ2dna7BxWPHTsW+/fv93XziM7IwYMH8etf/1onm1XiaPTo0fj888993TyiM/b9999j/vz5OlGkJrBGjhyJffv2+bp53SIi3U449Y3pBvKa3NxcTJ8+HbW1tS4PXBs/fjz27t3rw5YReUZubi6mTZvWbonO+PHjmXAhv5Cfn49Zs2a1e338+PE+aA2R56nqqLZ8/c0TRJ5QXl6OQ4cOtXu9L39bE5FZSUkJPv3003av96VKGeV02syESz+nlnq0NXDgQB+0hsjz1De/tMUYJ3/R0fOrGOPkLxjj5M8Y3+Tv+nuM9+0HR9AZ62gNWnBwcA+3hMg7GOPk7xjj5O8Y4+TPGN/k7/p7jDPh0s81NDS4fZ1ljOQvGOPk7xjj5O8Y4+TPGN/k7/p7jDPh0s/V1ta6fT0yMrKHW0LkHYxx8neMcfJ3jHHyZ4xv8nf9PcaZcOnnTpw44fb1iIiIHm4JkXcwxsnfMcbJ3zHGyZ8xvsnf9fcYZ8Kln2tsbHT7emhoaA+3hMg7GOPk7xjj5O8Y4+TPGN/k7/p7jDPh0s919BCjoKCgHm4JkXcwxsnfMcbJ3zHGyZ8xvsnf9fcYZ8KF3OqL34tO1B2McfJ3jHHyd4xx8meMb/J3/SXGmXDp5wIDA92+3lEmkqivYYyTv2OMk79jjJM/Y3yTv+vvMc6ESz/X0R+A0+ns4ZYQeQdjnPwdY5z8HWOc/Bnjm/xdf49x95+e+g2r1TXnZrFYYLVa+02JF/k/xjj5O8Y4+TvGOPkzxjf5u/4e4xYREV83gnzH6XRCRHTQ95fAp/6DMU7+jjFO/o4xTv6M8U3+rr/HOBMuREREREREREQexme4EBERERERERF5GBMuREREREREREQexoQLEREREREREZGHMeFCRERERERERORhTLgQEREREREREXkYEy5ERER9wKFDh/DGG2/ghx9+8HVTiHq16upqPPXUU/jnP//p66YQEVE/x4RLP9Hc3Izdu3fju+++O+1jNDQ0YNeuXTh8+LAHW0bkOYZhYO/evfjqq69Oa//W1lbs2bMHO3fuRH19vYdbR3R6Dh06hIULF2L06NGYP38+MjMzsXjxYhiG0el+IoItW7agqKio3Xutra3YsmULSkpKvNVsom5xOBxYt24dsrKysHjxYhQXF5/WcV588UVkZGRg6dKluOmmm9Da2urhlhKdHhFBbm4u8vLyfN0UIo/buHEjsrKysHTpUpSVlXV7/7y8POTm5kJEvNA6HxPya01NTfLGG2/IiBEjBIAEBgbKvHnzpL6+vsvHOHHihGzcuFGGDh0qACQkJERuueUWaWpq8mLLibrO6XTK1q1bZezYsQJAAMgVV1whNputy8doaWmRa665Ru9/+eWXe7HFRF2zf/9+iYmJ0XFp/nfdddfJkSNHOtz3+PHjAkB+9rOftXtv1apVAkCeeOIJL7aeqGs2bdokKSkpLvEdGxsrBQUF3TrO008/7XKM9evXe6nFRF1nGIZs375dxo8fr2MzOztbioqKun2cDz74QKZOnSoTJkyQmTNnyn/+8x8vtZqoexISEnR8T58+XQzD6NJ+u3fvluzsbL3vxRdfLD/88IOXW9uzmHDxY42NjfKrX/3K7UD9kksukW+++eaUx6irq5OJEye6Pcbll18uhw4d6oFPQtQxp9MpCxYscBuj5557ruTl5Z3yGPv27ZMxY8a47GuxWCQ3N7cHPgFRx8wDGAAycuRI2b17t4wePVonFp1Op9t933vvPQEgAwYMcHm9ublZoqKimHChXmHDhg3t+u5hw4bp2H3uuee6dJySkhIJDg4WADJo0CD5xz/+0eUBP5G3GIYhy5YtcztGOfvss2XPnj1dOk5JSYksXLjQ7XG6+jdC5E3nn3++S1w++eSTp9zn0UcfdRvTgwcPlo8//rgHWt0zmHDxY4sWLXIJ3sDAQHn++edl2rRpAkDOOuusU1a6zJ071+UYISEhsmHDBsnKyhIAMmrUKFa6kE899thj7Trqxx57TK6//no9YO+s0mXfvn0yYMAAASBWq1VuueUWfZy33nqrBz8Jkav9+/frfnb//v2Sn58vu3fvFpGT1Ssq6bJo0SK3+1dXV7tNuDQ0NOgYX7Vqldc/B1FnUlNTBYBkZmbKuHHjZPLkyeJ0OuWll14SABITE9OlSpd169bpuH766ad7oOVEp/bqq6+2G6MsXbpUcnJy9Lijs0pFEZHCwkIZNGiQ3j8xMVGysrIkMjJSv/b+++/3zAci6sBf//pXlziPj4/v9D7z7bffbve3kZOTI0uXLtU/f/311z34CbyHCRc/1dTUJCNGjJDAwEB56aWX5KOPPpIXXnhBRE4OtqdPn64rXU6cOOH2GPX19ZKWliahoaGyadMm2b59u2zYsEFETla+qKTLlVdeKc3NzT322YgUwzB0Bdbjjz8uO3bskKeeekpEXCtfzj33XKmsrGy3/7Fjx3SyZdy4cVJQUCCtra1y3nnnMeFCPjdz5kwBII8++qjb98vKyvSgxF0fbLfb3SZcRP6fqDz77LM93m6irvrwww8FgEyaNElXajkcDv2+SrrExsaK3W7v8DiGYcjPf/5z/fdQVVXl9bYTdcWcOXN0kmXHjh2yZs0acTqdYhiG3HfffQJAhg4dKsXFxW73P3DggEuyZeTIkVJWViYiIrm5ufr1jIwMKS8v78mPRuTCMAyJj493SaCoWHVHjdFzcnL034YayzzyyCMCQNLS0uTw4cM99RG8hgkXP7V582YBIBdeeKHb9xsaGiQjI0MAyLZt29xu88ILLwgAmTZtmtv36+rqJD09XQDI3r17PdZ2oq7atWuX7pDdcTqdMmnSJAGgk4Vmx44dk/DwcElMTNSD+dbWVrngggsEgLzzzjtebT9RRxobG3VlYmcDloCAgA4TLuoZLu4SLg6HQwBIWFiYR9tN1B0TJkw4ZaVVWlqaAOh00G1+dsvMmTO90VSibjt48KAAkODgYLdLPw3D0AkZd4l1wzD0BCkAefjhh6W6utplm8suu0y//8wzz3jtsxB1xV133dWlhMuRI0fEarUKAGloaHC7jUrILFu2zJtN7hH8liI/9frrrwMA5s+f7/b90NBQDBkyBADgdDpP6xgREREYPHhwp8cg8qZTxajVasXw4cMBuI/RxMREFBYWYufOnYiKigIAfPvtt/j8888RHx+Pyy67zDsNJzqFP/zhDwCAhQsXIikpye02LS0tMAwDI0eORGBgYIfHcMdq5eWffKuyshL5+fmIjo5GTk5Oh9up2O4sZn/3u9/p/3/44Yc910iiM/DHP/4RAHDjjTe6jV+LxYKMjAwA7scoVVVV2LZtGwBg4MCBWLlyJaKjo/X7IoKAgACXn4l86dJLL3X5+ejRo263e/PNN2EYBq677jqEhoa63aazv42+pv0Ijfq8I0eOYO/evUhPT8eNN97Y4XZOpxMBAQFIT09v997XX3+N/fv3IyMjA1dffXWnxwgODkZqaqpH2k7UVQ6HA1u3bkVERAQWL17c4Xaqox46dKjb982vl5eX47rrroPFYsEzzzyDgQMHerbRRF107NgxAOgw2QIAS5YsgYhgzpw5sFgs7d4vLy8HAJxzzjkdHsPpdMIwDCZgqMdt3boVJ06cwJw5c3TCu63q6mpUVlbioosuwllnndXhsdRXpM+YMQNjx471SnuJusPpdOJPf/oTAGD58uWdbge4H6OEh4cjNjYWVVVVcDgcWL16NcaPHw/gZHLl7bffxgcffAAAGD58OK699lpPfwyibpk+fbqOWQB444038Mtf/rLddps3bwYArFixosNjnWr83pcw4eKHSkpK0NTUhNTUVISFhbndZvfu3fjkk08wduxYjBkzpt37RUVFcDqdOOussxAUFOT2GNu2bUNeXh6ysrJw9tlne/QzEJ1KdXU17HY70tLSEBcX53abAwcO4L333kNiYmK7rLs769evR2FhIaZNm4brr7/e000m8piCggI8//zzGD58OG6//fZOt501a1a715qbm/V/Fy1ahBUrVuiKRaKeoJIk5hn6tq666irU1tbi0ksvdZtUBICysjKcOHECANDU1IRPPvlEbztixAgkJCR4uOVEp9bS0oKffvoJQUFBHSYLjx49is2bN8NqtWLu3Lnt3g8LC8NHH32EKVOmoKqqCg8++KDb41itVuzYsaPTBD1RT7BYLC4Vtx1Vpxw+fBgAMGzYMLfvl5aW6irdzooH+gpOafVDzc3NuOOOO9DS0tJh530qDQ0NyMnJgdVqxbJlyzzcQqIzZxgG7rnnHlRVVeGhhx465fatra34+OOPAQALFizwdvOIuqSlpaXdawcOHMDUqVMBAKtWrUJiYqJ+74MPPsB///tfAP9filFYWKhLzb///nu89dZbuPXWW/U+GzduRHZ2ttc+A9HpeP3117Fz505MmDCh0wqBt956C62trQCA7du3Y+LEicjKykJWVhYyMjKwfPlyHD9+vKeaTdRlK1asQHFxMZYvX95h4nHs2LHYunVrp8cxDAP79+/3RhOJfOLRRx/F4cOHsWTJEkRERPi6OWeMCRc/pmaPzJqbm/Gb3/wGhYWFmDVrlsvM59GjR3HkyJFTHqOhoQEzZ87Ejz/+iHnz5nWpcoDIW9zFqGEYyMnJwYcffohx48a5VACUlpbiwIEDLts7nU7Mnz8feXl5OP/88zF9+nSvt5uoM6NGjQIAvPrqqzh48CCAkyXk77zzDrKzs2Gz2fD73/8ec+bM0fvk5+djxowZyMrKAgDcdNNNAE4+R2DIkCEYMWIExowZg7lz52LLli16P4vFgokTJ/bQJyM6SVWhFBUVtXv2xOuvv46bb74ZUVFRePrpp11uRm+++Wb9zBYR0c/JAE7+3ZiXFFVXV+Oxxx7D2LFjcejQIW9+HCK3DMNw+2yVlStX4s0338TQoUNdJoVsNhsKCwtdtg0JCXH5edCgQbjoooswYMAA/dr999/PxCL1WjU1NcjPz2/3t+BuDP/kk0/i5ZdfRkpKClavXt1TTfQuXz2tl7zn0KFDEhgYKMHBwfLhhx/q13/88Ue58sorBYBMmDBBamtr9XuNjY0yfPhwCQsLkx9++EG+/PJLsVqtEh4eLnv27NHbfffddzJ16lT97UUdPVmayNvsdrtERkYKANm8ebN+vbS0VBYuXCgAZNSoUXLs2DH9ntPplKysLLFarbJv3z79+oEDBwSAxMXFtfsGACJfcDqdkpmZKQAkNDRUhg8frr+tZeTIkVJYWNhunxUrVggAOf/880VEpKWlRQYPHuzyjQHu/t177709/fGI5NixYxIRESEA5NZbb5VPPvlEPv74Y7nqqqvEYrHI6NGj5bPPPnPZ51//+peOW5vNJlu3bnWJZZvNJiInvy535cqVEhcXp9+78847ffExqZ9qbW2VxMREASDr1q3Tr9tsNrn33nsFgKSnp8uPP/7ost/VV18tAOT999/Xr82YMUPH8dy5c6WyslJERIqKiuSGG27Q7/3iF7/omQ9H1ImEhAQdk7feequIiNx5550CQF5++WURERkyZIgAkEceeUTvV1VVpccxSUlJ8u233/qk/d7AhIufmj9/vv4qukmTJsmkSZMkNDRUAgIC5LnnnpP6+nqX7ffs2SMAJCgoSAf4rFmz9NeGZmdny8SJEyUoKEhCQkJk48aN0tjY6IuPRqQtX75cAIjVapUJEybI5MmTZeDAgQJAVq5c2S55cvToUX0R2LVrl4icHBRde+21AkBGjBjhi49B5FZpaanMnj3b5Ybyqquuckkimn3xxReyaNEiqaio0K+9++67kpqaKpdffrnMmTNHNmzYIAcPHpTt27cLAAkICHDZnqgnPfvss26TgPPmzZPW1tZ22//9738XAHLLLbeIYRjy5z//2WW/tn3+Z599pt+74447eupjEYmIyHPPPafj78ILL5TJkydLfHy8AJC7775bysvLXbZvaGjQ2//lL38RkZM3oeYYf/bZZ132Wb9+vX7vnHPO6bHPRtQRdwmXmJgYl/h97bXXXBKFl1xyiU5Q3nbbbVJaWurLj+BxTLj4qfr6epk7d64EBgbqgE5PT5d3333X7fY1NTVyxRVXyN/+9jeX12bPnq2/Jx2ADB06VLZt29ZTH4OoUy0tLZKTkyOhoaE6RhMSEuSVV15xu31ra6vMnj1bNm3apF974IEH9L5Wq1UmTpwoU6ZMkSlTpsjUqVNdZpmIfOHLL7+U3/72t26rWrqipaWl3Wt1dXUCQCwWixw+fPhMm0h02vbs2SNTpkwRAJKZmSlvv/2222SLUlBQIE6nU0REDMOQjIwM3YermX9lyZIl+r1PP/3Uq5+DqC3DMGT58uW6GheAREdHy+rVq8UwDLf7XHTRRbJ27VqXY6jKcgCyZMkS/d63336rb1KHDRsmxcXFXv9MRKfiLuGybt06efDBB3XcG4Yhq1atkujoaL3twIED5aGHHurwb6Mvs4jwS9v92ddff40nnngC48aNw4IFCxAeHt7tYxQUFGDt2rWYPHky5s2b1+H3pRP5ypEjR7B27Vqkp6dj0aJFiImJ6fK+c+bMcXmeRVujR49ut56aqK+rr6/X6//Xr1+Pu+++28ctov7uq6++QmZmZqffWuTOU089haVLlwIA7rrrLlxzzTXIzc3Fe++9hz179gAAbrvtNrz88ssebzNRV5SUlGD9+vUICQnBXXfd1e1vziooKEB2djbsdjsAYMKECQgJCUF+fj6qq6sxbNgw7Ny5E2lpad5oPlG3JCUloby8HACwevVq3H///R1uW15ejmeffRYtLS1YvHgxUlJSeqqZPYoJFyLq13bt2oUVK1bA6XRi9uzZGDNmDAzDwJYtW/DNN9/g9ttvx7x583zdTCKPcjqdGD58OAYOHIiPPvqow69WJ+rtioqKkJWVpb+dq63bbrsNL774IqxWfk8E9V35+flYsGBBuwkgJluot8nLy0NlZSWCg4MxceJE9r1gwoWIiKhfcjgcCAwMPK3KR6Le5OjRo7jhhhuwd+9eAEBERARuvvlmzJ49G1lZWRzwk18wDAO7d+9Gc3Ozfu28885DfHy8D1tFRKfChAsRERER9Xn//ve/4XA4MGrUKKSnp/u6OUREREy4EBERERERERF5GmssiYiIiIiIiIg8jAkXIiIiIiIiIiIPY8KFiIiIiIiIiMjDmHAhIiIiIiIiIvIwJlyIiIiIiIiIiDyMCRciIiIiIiIiIg9jwoWIiIiIiIiIyMOYcCEiIiI6DZ999hmam5t93QwiIiLqpQJ93QAiIiKi3qyoqAgFBQUwDAPvvPMOduzYAcMwYLPZEBERgYiICADA1KlTsWnTJgQHB/u4xURERNQbWEREfN0IIiIiot6ooqICGRkZqKqq6tL2mZmZePzxx3HllVd6uWVERETU2zHhQkRERNSBvLw8XHDBBd3aJyQkBMePH8fAgQO91CoiIiLqC/gMFyIiIqIuSklJwZo1a1BcXIySkozRZOoAAAKbSURBVBKUlJSguLgYDzzwgN6mqakJa9as8WEriYiIqDfgM1yIiIiIuiA2NhZffPEFEhIS2r33+OOPo6qqCq+88goAoLi4uKebR0RERL0MK1yIiIiIumDkyJFuky3KmDFj9P+rB+kSERFR/8WECxEREVEXLF26tMP3nE4n1q5dq39etmxZTzSJiIiIejEmXIiIiIi6IDCw45XYa9asQVFREQDgvvvuw5AhQ3qqWURERNRLMeFCRERE1AUrV65E2y93FBGsWbMGy5cvBwCMGjWKD8wlIiIiAHxoLhEREVGX5OXlITMzEytWrEB0dDTsdjtWrVqFgwcPAgCioqLw2muvwWKx+LilRERE1BtYpO1UDREREREBOJlkueCCC065XVRUFLZv396lbYmIiKh/4JIiIiIiojPAZAsRERG5wyVFRERERF2UmJiI22+/HfPmzUNAQAAAIDY2FpGRkT5uGREREfU2TLgQERERdUF0dDQKCgqQlJTk66YQERFRH8AlRURERERdMGrUKCZbiIiIqMuYcCEiIiLqgnvuucfXTSAiIqI+hAkXIiIioi5IT0/3dROIiIioD2HChYiIiIiIiIjIw5hwISIiIuqA1Wp1+/9EREREp8JvKSIiIiLqwOjRozFjxgwEBgZizJgxvm4OERER9SEWERFfN4KIiIiIiIiIyJ+wNpaIiIiIiIiIyMOYcCEiIiIiIiIi8jAmXIiIiIiIiIiIPIwJFyIiIiIiIiIiD2PChYiIiIiIiIjIw5hwISIiIiIiIiLyMCZciIiIiIiIiIg8jAkXIiIiIiIiIiIPY8KFiIiIiIiIiMjDmHAhIiIiIiIiIvIwJlyIiIiIiIiIiDyMCRciIiIiIiIiIg9jwoWIiIiIiIiIyMP+BwpS0jf6lRHFAAAAAElFTkSuQmCC\n",
                "text/plain": "<Figure size 576x432 with 1 Axes>"
              }
            ],
            "_view_module": "@jupyter-widgets/output",
            "_model_module_version": "1.0.0",
            "_view_count": null,
            "_view_module_version": "1.0.0",
            "layout": "IPY_MODEL_6b432b3a82574682b5691090440cfe3d",
            "_model_module": "@jupyter-widgets/output"
          }
        },
        "bd9c704a980740879ed114e1d96fcd4d": {
          "model_module": "@jupyter-widgets/controls",
          "model_name": "SliderStyleModel",
          "state": {
            "_view_name": "StyleView",
            "handle_color": null,
            "_model_name": "SliderStyleModel",
            "description_width": "",
            "_view_module": "@jupyter-widgets/base",
            "_model_module_version": "1.5.0",
            "_view_count": null,
            "_view_module_version": "1.2.0",
            "_model_module": "@jupyter-widgets/controls"
          }
        },
        "156d9a7e85184907ab6bcbe9b2cb5812": {
          "model_module": "@jupyter-widgets/base",
          "model_name": "LayoutModel",
          "state": {
            "_view_name": "LayoutView",
            "grid_template_rows": null,
            "right": null,
            "justify_content": null,
            "_view_module": "@jupyter-widgets/base",
            "overflow": null,
            "_model_module_version": "1.2.0",
            "_view_count": null,
            "flex_flow": null,
            "width": null,
            "min_width": null,
            "border": null,
            "align_items": null,
            "bottom": null,
            "_model_module": "@jupyter-widgets/base",
            "top": null,
            "grid_column": null,
            "overflow_y": null,
            "overflow_x": null,
            "grid_auto_flow": null,
            "grid_area": null,
            "grid_template_columns": null,
            "flex": null,
            "_model_name": "LayoutModel",
            "justify_items": null,
            "grid_row": null,
            "max_height": null,
            "align_content": null,
            "visibility": null,
            "align_self": null,
            "height": null,
            "min_height": null,
            "padding": null,
            "grid_auto_rows": null,
            "grid_gap": null,
            "max_width": null,
            "order": null,
            "_view_module_version": "1.2.0",
            "grid_template_areas": null,
            "object_position": null,
            "object_fit": null,
            "grid_auto_columns": null,
            "margin": null,
            "display": null,
            "left": null
          }
        },
        "be1716d3a5b24a05abfd97b97c6d1c8b": {
          "model_module": "@jupyter-widgets/controls",
          "model_name": "SliderStyleModel",
          "state": {
            "_view_name": "StyleView",
            "handle_color": null,
            "_model_name": "SliderStyleModel",
            "description_width": "",
            "_view_module": "@jupyter-widgets/base",
            "_model_module_version": "1.5.0",
            "_view_count": null,
            "_view_module_version": "1.2.0",
            "_model_module": "@jupyter-widgets/controls"
          }
        },
        "fca7a7777c5a45ad8a8d16439716bc12": {
          "model_module": "@jupyter-widgets/base",
          "model_name": "LayoutModel",
          "state": {
            "_view_name": "LayoutView",
            "grid_template_rows": null,
            "right": null,
            "justify_content": null,
            "_view_module": "@jupyter-widgets/base",
            "overflow": null,
            "_model_module_version": "1.2.0",
            "_view_count": null,
            "flex_flow": null,
            "width": null,
            "min_width": null,
            "border": null,
            "align_items": null,
            "bottom": null,
            "_model_module": "@jupyter-widgets/base",
            "top": null,
            "grid_column": null,
            "overflow_y": null,
            "overflow_x": null,
            "grid_auto_flow": null,
            "grid_area": null,
            "grid_template_columns": null,
            "flex": null,
            "_model_name": "LayoutModel",
            "justify_items": null,
            "grid_row": null,
            "max_height": null,
            "align_content": null,
            "visibility": null,
            "align_self": null,
            "height": null,
            "min_height": null,
            "padding": null,
            "grid_auto_rows": null,
            "grid_gap": null,
            "max_width": null,
            "order": null,
            "_view_module_version": "1.2.0",
            "grid_template_areas": null,
            "object_position": null,
            "object_fit": null,
            "grid_auto_columns": null,
            "margin": null,
            "display": null,
            "left": null
          }
        },
        "c4b85d8527294772ae929a58d9bf15e3": {
          "model_module": "@jupyter-widgets/controls",
          "model_name": "SliderStyleModel",
          "state": {
            "_view_name": "StyleView",
            "handle_color": null,
            "_model_name": "SliderStyleModel",
            "description_width": "",
            "_view_module": "@jupyter-widgets/base",
            "_model_module_version": "1.5.0",
            "_view_count": null,
            "_view_module_version": "1.2.0",
            "_model_module": "@jupyter-widgets/controls"
          }
        },
        "3705252d83e546fdb81d54b2c1616b3a": {
          "model_module": "@jupyter-widgets/base",
          "model_name": "LayoutModel",
          "state": {
            "_view_name": "LayoutView",
            "grid_template_rows": null,
            "right": null,
            "justify_content": null,
            "_view_module": "@jupyter-widgets/base",
            "overflow": null,
            "_model_module_version": "1.2.0",
            "_view_count": null,
            "flex_flow": null,
            "width": null,
            "min_width": null,
            "border": null,
            "align_items": null,
            "bottom": null,
            "_model_module": "@jupyter-widgets/base",
            "top": null,
            "grid_column": null,
            "overflow_y": null,
            "overflow_x": null,
            "grid_auto_flow": null,
            "grid_area": null,
            "grid_template_columns": null,
            "flex": null,
            "_model_name": "LayoutModel",
            "justify_items": null,
            "grid_row": null,
            "max_height": null,
            "align_content": null,
            "visibility": null,
            "align_self": null,
            "height": null,
            "min_height": null,
            "padding": null,
            "grid_auto_rows": null,
            "grid_gap": null,
            "max_width": null,
            "order": null,
            "_view_module_version": "1.2.0",
            "grid_template_areas": null,
            "object_position": null,
            "object_fit": null,
            "grid_auto_columns": null,
            "margin": null,
            "display": null,
            "left": null
          }
        },
        "a627d748fbf94cf9acd65d92bedf562e": {
          "model_module": "@jupyter-widgets/controls",
          "model_name": "SliderStyleModel",
          "state": {
            "_view_name": "StyleView",
            "handle_color": null,
            "_model_name": "SliderStyleModel",
            "description_width": "",
            "_view_module": "@jupyter-widgets/base",
            "_model_module_version": "1.5.0",
            "_view_count": null,
            "_view_module_version": "1.2.0",
            "_model_module": "@jupyter-widgets/controls"
          }
        },
        "3f37c988d0794eae9e5982bf4ab04087": {
          "model_module": "@jupyter-widgets/base",
          "model_name": "LayoutModel",
          "state": {
            "_view_name": "LayoutView",
            "grid_template_rows": null,
            "right": null,
            "justify_content": null,
            "_view_module": "@jupyter-widgets/base",
            "overflow": null,
            "_model_module_version": "1.2.0",
            "_view_count": null,
            "flex_flow": null,
            "width": null,
            "min_width": null,
            "border": null,
            "align_items": null,
            "bottom": null,
            "_model_module": "@jupyter-widgets/base",
            "top": null,
            "grid_column": null,
            "overflow_y": null,
            "overflow_x": null,
            "grid_auto_flow": null,
            "grid_area": null,
            "grid_template_columns": null,
            "flex": null,
            "_model_name": "LayoutModel",
            "justify_items": null,
            "grid_row": null,
            "max_height": null,
            "align_content": null,
            "visibility": null,
            "align_self": null,
            "height": null,
            "min_height": null,
            "padding": null,
            "grid_auto_rows": null,
            "grid_gap": null,
            "max_width": null,
            "order": null,
            "_view_module_version": "1.2.0",
            "grid_template_areas": null,
            "object_position": null,
            "object_fit": null,
            "grid_auto_columns": null,
            "margin": null,
            "display": null,
            "left": null
          }
        },
        "6b432b3a82574682b5691090440cfe3d": {
          "model_module": "@jupyter-widgets/base",
          "model_name": "LayoutModel",
          "state": {
            "_view_name": "LayoutView",
            "grid_template_rows": null,
            "right": null,
            "justify_content": null,
            "_view_module": "@jupyter-widgets/base",
            "overflow": null,
            "_model_module_version": "1.2.0",
            "_view_count": null,
            "flex_flow": null,
            "width": null,
            "min_width": null,
            "border": null,
            "align_items": null,
            "bottom": null,
            "_model_module": "@jupyter-widgets/base",
            "top": null,
            "grid_column": null,
            "overflow_y": null,
            "overflow_x": null,
            "grid_auto_flow": null,
            "grid_area": null,
            "grid_template_columns": null,
            "flex": null,
            "_model_name": "LayoutModel",
            "justify_items": null,
            "grid_row": null,
            "max_height": null,
            "align_content": null,
            "visibility": null,
            "align_self": null,
            "height": null,
            "min_height": null,
            "padding": null,
            "grid_auto_rows": null,
            "grid_gap": null,
            "max_width": null,
            "order": null,
            "_view_module_version": "1.2.0",
            "grid_template_areas": null,
            "object_position": null,
            "object_fit": null,
            "grid_auto_columns": null,
            "margin": null,
            "display": null,
            "left": null
          }
        }
      }
    }
  },
  "cells": [
    {
      "cell_type": "markdown",
      "metadata": {
        "id": "view-in-github",
        "colab_type": "text"
      },
      "source": [
        "<a href=\"https://colab.research.google.com/github/NeuromatchAcademy/course-content/blob/W0D5_updates/tutorials/W0D5_Statistics/W0D5_Tutorial2.ipynb\" target=\"_parent\"><img src=\"https://colab.research.google.com/assets/colab-badge.svg\" alt=\"Open In Colab\"/></a>"
      ]
    },
    {
      "cell_type": "markdown",
      "metadata": {
        "id": "fYBBSQIb3yqw"
      },
      "source": [
        "# Tutorial 2: Statistical Inference\n",
        "**Week 0, Day 5: Probability & Statistics**\n",
        "\n",
        "**By Neuromatch Academy**\n",
        "\n",
        "__Content creators:__ Ulrik Beierholm\n",
        "\n",
        "\n",
        "__Content reviewers:__ Natalie Schaworonkow, Keith van Antwerp, Anoop Kulkarni, Pooya Pakarian, Hyosub Kim\n",
        "\n",
        "__Production editors:__ Ethan Cheng, Ella Batty"
      ]
    },
    {
      "cell_type": "markdown",
      "metadata": {
        "id": "ncnMcoUh3yqy"
      },
      "source": [
        "**Our 2021 Sponsors, including Presenting Sponsor Facebook Reality Labs**\n",
        "\n",
        "<p align='center'><img src='https://github.com/NeuromatchAcademy/widgets/blob/master/sponsors.png?raw=True'/></p>"
      ]
    },
    {
      "cell_type": "markdown",
      "metadata": {
        "id": "kLxCGIpy3yqy"
      },
      "source": [
        "---\n",
        "#Tutorial Objectives\n",
        "\n",
        "This tutorial builds on Tutorial 1 by explaining how to do inference through inverting the generative process.\n",
        "\n",
        "By completing the exercises in this tutorial, you should:\n",
        "* understand what the likelihood function is, and have some intuition of why it is important\n",
        "* know how to summarise the Gaussian distribution using mean and variance \n",
        "* know how to maximise a likelihood function\n",
        "* be able to do simple inference in both classical and Bayesian ways\n",
        "* (Optional) understand how Bayes Net can be used to model causal relationships"
      ]
    },
    {
      "cell_type": "markdown",
      "metadata": {
        "id": "1spr3jNI3yqz"
      },
      "source": [
        "---\n",
        "# Setup"
      ]
    },
    {
      "cell_type": "code",
      "metadata": {
        "cellView": "code",
        "execution": {
          "iopub.execute_input": "2021-06-28T05:45:04.530374Z",
          "iopub.status.busy": "2021-06-28T05:45:04.529818Z",
          "iopub.status.idle": "2021-06-28T05:45:05.152151Z",
          "shell.execute_reply": "2021-06-28T05:45:05.151057Z"
        },
        "id": "ecZ99OCg3yqz"
      },
      "source": [
        "# Imports\n",
        "\n",
        "import numpy as np\n",
        "import matplotlib.pyplot as plt\n",
        "import scipy as sp\n",
        "from scipy.stats import norm\n",
        "from numpy.random import default_rng   # a default random number generator"
      ],
      "execution_count": 2,
      "outputs": []
    },
    {
      "cell_type": "code",
      "metadata": {
        "cellView": "form",
        "execution": {
          "iopub.execute_input": "2021-06-28T05:45:05.158245Z",
          "iopub.status.busy": "2021-06-28T05:45:05.157617Z",
          "iopub.status.idle": "2021-06-28T05:45:05.320884Z",
          "shell.execute_reply": "2021-06-28T05:45:05.321355Z"
        },
        "id": "AWav_ksy3yq0"
      },
      "source": [
        "#@title Figure settings\n",
        "import ipywidgets as widgets       # interactive display\n",
        "from ipywidgets import interact, fixed, HBox, Layout, VBox, interactive, Label, interact_manual\n",
        "%config InlineBackend.figure_format = 'retina'\n",
        "# plt.style.use(\"https://raw.githubusercontent.com/NeuromatchAcademy/course-content/master/nma.mplstyle\")\n",
        "plt.style.use(\"https://raw.githubusercontent.com/NeuromatchAcademy/course-content/NMA2020/nma.mplstyle\")"
      ],
      "execution_count": 3,
      "outputs": []
    },
    {
      "cell_type": "code",
      "metadata": {
        "execution": {
          "iopub.execute_input": "2021-06-28T05:45:05.341385Z",
          "iopub.status.busy": "2021-06-28T05:45:05.340688Z",
          "iopub.status.idle": "2021-06-28T05:45:05.345090Z",
          "shell.execute_reply": "2021-06-28T05:45:05.344496Z"
        },
        "id": "seBOhlwT3yq0",
        "cellView": "form"
      },
      "source": [
        "#@title Plotting & Helper functions\n",
        "\n",
        "def plot_hist(data, xlabel, figtitle = None, num_bins = None):\n",
        "  \"\"\" Plot the given data as a histogram.\n",
        "\n",
        "    Args:\n",
        "      data (ndarray): array with data to plot as histogram\n",
        "      xlabel (str): label of x-axis\n",
        "      figtitle (str): title of histogram plot (default is no title)\n",
        "      num_bins (int): number of bins for histogram (default is 10)\n",
        "\n",
        "    Returns:\n",
        "      count (ndarray): number of samples in each histogram bin\n",
        "      bins (ndarray): center of each histogram bin\n",
        "  \"\"\"\n",
        "  fig, ax = plt.subplots()\n",
        "  ax.set_xlabel(xlabel)\n",
        "  ax.set_ylabel('Count')\n",
        "  if num_bins is not None:\n",
        "    count, bins, _ = plt.hist(data, max(data), bins = num_bins)\n",
        "  else:\n",
        "    count, bins, _ = plt.hist(data, max(data))  # 10 bins default\n",
        "  if figtitle is not None:\n",
        "    fig.suptitle(figtitle, size=16)\n",
        "  plt.show()\n",
        "  return count, bins\n",
        "\n",
        "def plot_gaussian_samples_true(samples, xspace, mu, sigma, xlabel, ylabel):\n",
        "  \"\"\" Plot a histogram of the data samples on the same plot as the gaussian\n",
        "  distribution specified by the give mu and sigma values.\n",
        "\n",
        "    Args:\n",
        "      samples (ndarray): data samples for gaussian distribution\n",
        "      xspace (ndarray): x values to sample from normal distribution\n",
        "      mu (scalar): mean parameter of normal distribution\n",
        "      sigma (scalar): variance parameter of normal distribution\n",
        "      xlabel (str): the label of the x-axis of the histogram\n",
        "      ylabel (str): the label of the y-axis of the histogram\n",
        "\n",
        "    Returns:\n",
        "      Nothing.\n",
        "  \"\"\"\n",
        "  fig, ax = plt.subplots()\n",
        "  ax.set_xlabel(xlabel)\n",
        "  ax.set_ylabel(ylabel)\n",
        "  # num_samples = samples.shape[0]\n",
        "\n",
        "  count, bins, _ = plt.hist(samples, density=True) # probability density function\n",
        "\n",
        "  plt.plot(xspace, norm.pdf(xspace, mu, sigma),'r-')\n",
        "  plt.show()\n",
        "\n",
        "def plot_likelihoods(likelihoods, mean_vals, variance_vals):\n",
        "  \"\"\" Plot the likelihood values on a heatmap plot where the x and y axes match\n",
        "  the mean and variance parameter values the likelihoods were computed for.\n",
        "\n",
        "    Args:\n",
        "      likelihoods (ndarray): array of computed likelihood values\n",
        "      mean_vals (ndarray): array of mean parameter values for which the\n",
        "                            likelihood was computed\n",
        "      variance_vals (ndarray): array of variance parameter values for which the\n",
        "                            likelihood was computed\n",
        "\n",
        "    Returns:\n",
        "      Nothing.\n",
        "  \"\"\"\n",
        "  fig, ax = plt.subplots()\n",
        "  im = ax.imshow(likelihoods)\n",
        "\n",
        "  cbar = ax.figure.colorbar(im, ax=ax)\n",
        "  cbar.ax.set_ylabel('log likelihood', rotation=-90, va=\"bottom\")\n",
        "\n",
        "  ax.set_xticks(np.arange(len(mean_vals)))\n",
        "  ax.set_yticks(np.arange(len(variance_vals)))\n",
        "  ax.set_xticklabels(mean_vals)\n",
        "  ax.set_yticklabels(variance_vals)\n",
        "  ax.set_xlabel('Mean')\n",
        "  ax.set_ylabel('Variance')\n",
        "\n",
        "def posterior_plot(x, likelihood=None, prior=None, posterior_pointwise=None, ax=None):\n",
        "  \"\"\"\n",
        "  Plots normalized Gaussian distributions and posterior.\n",
        "\n",
        "    Args:\n",
        "        x (numpy array of floats):         points at which the likelihood has been evaluated\n",
        "        auditory (numpy array of floats):  normalized probabilities for auditory likelihood evaluated at each `x`\n",
        "        visual (numpy array of floats):    normalized probabilities for visual likelihood evaluated at each `x`\n",
        "        posterior (numpy array of floats): normalized probabilities for the posterior evaluated at each `x`\n",
        "        ax: Axis in which to plot. If None, create new axis.\n",
        "\n",
        "    Returns:\n",
        "        Nothing.\n",
        "  \"\"\"\n",
        "  if likelihood is None:\n",
        "      likelihood = np.zeros_like(x)\n",
        "\n",
        "  if prior is None:\n",
        "      prior = np.zeros_like(x)\n",
        "\n",
        "  if posterior_pointwise is None:\n",
        "      posterior_pointwise = np.zeros_like(x)\n",
        "\n",
        "  if ax is None:\n",
        "    fig, ax = plt.subplots()\n",
        "\n",
        "  ax.plot(x, likelihood, '-C1', LineWidth=2, label='Auditory')\n",
        "  ax.plot(x, prior, '-C0', LineWidth=2, label='Visual')\n",
        "  ax.plot(x, posterior_pointwise, '-C2', LineWidth=2, label='Posterior')\n",
        "  ax.legend()\n",
        "  ax.set_ylabel('Probability')\n",
        "  ax.set_xlabel('Orientation (Degrees)')\n",
        "  plt.show()\n",
        "\n",
        "  return ax\n",
        "\n",
        "def plot_classical_vs_bayesian_normal(num_points, mu_classic, var_classic,\n",
        "                                      mu_bayes, var_bayes):\n",
        "  \"\"\" Helper function to plot optimal normal distribution parameters for varying\n",
        "  observed sample sizes using both classic and Bayesian inference methods.\n",
        "\n",
        "    Args:\n",
        "      num_points (int): max observed sample size to perform inference with\n",
        "      mu_classic (ndarray): estimated mean parameter for each observed sample size\n",
        "                                using classic inference method\n",
        "      var_classic (ndarray): estimated variance parameter for each observed sample size\n",
        "                                using classic inference method\n",
        "      mu_bayes (ndarray): estimated mean parameter for each observed sample size\n",
        "                                using Bayesian inference method\n",
        "      var_bayes (ndarray): estimated variance parameter for each observed sample size\n",
        "                                using Bayesian inference method\n",
        "\n",
        "    Returns:\n",
        "      Nothing.\n",
        "  \"\"\"\n",
        "  xspace = np.linspace(0, num_points, num_points)\n",
        "  fig, ax = plt.subplots()\n",
        "  ax.set_xlabel('n data points')\n",
        "  ax.set_ylabel('mu')\n",
        "  plt.plot(xspace, mu_classic,'r-', label = \"Classical\")\n",
        "  plt.plot(xspace, mu_bayes,'b-', label = \"Bayes\")\n",
        "  plt.legend()\n",
        "  plt.show()\n",
        "\n",
        "  fig, ax = plt.subplots()\n",
        "  ax.set_xlabel('n data points')\n",
        "  ax.set_ylabel('sigma^2')\n",
        "  plt.plot(xspace, var_classic,'r-', label = \"Classical\")\n",
        "  plt.plot(xspace, var_bayes,'b-', label = \"Bayes\")\n",
        "  plt.legend()\n",
        "  plt.show()"
      ],
      "execution_count": 4,
      "outputs": []
    },
    {
      "cell_type": "markdown",
      "metadata": {
        "id": "7sOv1v0yIT73"
      },
      "source": [
        " ---\n",
        "# Section 1: Basic probability"
      ]
    },
    {
      "cell_type": "markdown",
      "metadata": {
        "id": "3DMFLhuTImgO"
      },
      "source": [
        "## Section 1.1: Basic probability theory"
      ]
    },
    {
      "cell_type": "code",
      "metadata": {
        "cellView": "form",
        "id": "xZ3kCt5xIcnI"
      },
      "source": [
        "# @title Video 1: Basic Probability\n",
        "from ipywidgets import widgets\n",
        "\n",
        "out2 = widgets.Output()\n",
        "with out2:\n",
        "  from IPython.display import IFrame\n",
        "  class BiliVideo(IFrame):\n",
        "      def __init__(self, id, page=1, width=400, height=300, **kwargs):\n",
        "          self.id=id\n",
        "          src = 'https://player.bilibili.com/player.html?bvid={0}&page={1}'.format(id, page)\n",
        "          super(BiliVideo, self).__init__(src, width, height, **kwargs)\n",
        "\n",
        "  video = BiliVideo(id=\"BV1bw411o7HR\", width=854, height=480, fs=1)\n",
        "  print('Video available at https://www.bilibili.com/video/{0}'.format(video.id))\n",
        "  display(video)\n",
        "\n",
        "out1 = widgets.Output()\n",
        "with out1:\n",
        "  from IPython.display import YouTubeVideo\n",
        "  video = YouTubeVideo(id=\"SL0_6rw8zrM\", width=854, height=480, fs=1, rel=0)\n",
        "  print('Video available at https://youtube.com/watch?v=' + video.id)\n",
        "  display(video)\n",
        "\n",
        "out = widgets.Tab([out1, out2])\n",
        "out.set_title(0, 'Youtube')\n",
        "out.set_title(1, 'Bilibili')\n",
        "\n",
        "display(out)"
      ],
      "execution_count": null,
      "outputs": []
    },
    {
      "cell_type": "markdown",
      "metadata": {
        "id": "dVHLMYW6IgC4"
      },
      "source": [
        "This video covers basic probability theory, including complementary probability, conditional probability, joint probability, and marginalisation.\n",
        "\n",
        "<details>\n",
        "<summary> <font color='blue'>Click here for text recap of video </font></summary>\n",
        "\n",
        "Previously we were only looking at sampling or properties of a single variables, but as we will now move on to statistical inference, it is useful to go over basic probability theory.\n",
        "\n",
        "\n",
        "As a reminder, probability has to be in the range 0 to 1\n",
        "$P(A) \\in  [0,1] $\n",
        "\n",
        "and the complementary can always be defined as\n",
        "\n",
        "$P(\\neg A) = 1-P(A)$\n",
        "\n",
        "\n",
        "When we have two variables, the *conditional probability* of $A$ given $B$ is \n",
        "\n",
        "$P (A|B) = P (A \\cap B)/P (B)=P (A, B)/P (B)$\n",
        "\n",
        "while the *joint probability* of $A$ and $B$ is \n",
        "\n",
        "$P(A \\cap B)=P(A,B) = P(B|A)P(A) = P(A|B)P(B) $\n",
        "\n",
        "We can then also define the process of *marginalisation* (for discrete variables) as \n",
        "\n",
        "$P(A)=\\sum P(A,B)=\\sum P(A|B)P(B)$ \n",
        "\n",
        "where the summation is over the possible values of $B$.\n",
        "\n",
        "As an example if $B$ is a binary variable that can take values $B+$ or $B0$ then \n",
        "$P(A)=\\sum P(A,B)=P(A|B+)P(B+)+ P(A|B0)P(B0) $.\n",
        "\n",
        "For continuous variables marginalization is given as \n",
        "$P(A)=\\int P(A,B) dB=\\int P(A|B)P(B) dB$ \n",
        "</details>"
      ]
    },
    {
      "cell_type": "markdown",
      "metadata": {
        "id": "f_lFbpaM3yq3"
      },
      "source": [
        "### Math Exercise 1.1: Probability example\n",
        "\n",
        "To remind ourselves of how to use basic probability theory we will do a short exercise (no coding needed!), based on measurement of binary probabilistic neural responses.\n",
        "As shown by Hubel and Wiesel in 1959 there are neurons in primary visual cortex that respond to different orientations of visual stimuli, with different neurons being sensitive to different orientations. The numbers in the following are however purely fictional.\n",
        "\n",
        "Imagine that your collaborator tells you that they have recorded the activity of visual neurons while presenting either a horizontal or vertical grid as a visual stimulus. The activity of the neurons is measured as binary: they are either active or inactive in response to the stimulus.\n",
        "\n",
        "After recording from a large number of neurons they find that when presenting a horizontal grid, on average 40% of neurons are active, while 30% respond to vertical grids.\n",
        "\n",
        "We will use the following notation to indicate the probability that a randomly chosen neuron responds to horizontal grids\n",
        "\n",
        "$P(h+)=0.4$\n",
        "\n",
        "and this to show the probability it responds to vertical:\n",
        "\n",
        "$P(v+)=0.3$\n",
        "\n",
        "We can find the complementary event, that the neuron does not respond to the horizontal grid, using the fact that these events must add up to 1. We see that the probability the neuron does not respond to the horizontal grid ($h0$) is \n",
        "\n",
        "$P(h0)=1-P(h+)=0.6$ \n",
        "\n",
        "and that the probability to not respond to vertical is \n",
        "\n",
        "$P(v0)=1-P(v+)=0.7$ \n",
        "\n",
        "We will practice computing various probabilities in this framework.\n",
        "\n",
        "\n",
        "\n",
        "\n",
        "\n",
        "\n"
      ]
    },
    {
      "cell_type": "markdown",
      "metadata": {
        "id": "Ywi_rp603yq3"
      },
      "source": [
        "### A) Product\n",
        "\n",
        "Assuming that the horizontal and vertical orientation selectivity are independent, what is the probability that a randomly chosen neuron is sensitive to both horizontal and vertical orientations? \n",
        "\n",
        "Hint: Two events are independent if the outcome of one does not affect the outcome of the other.\n",
        "\n",
        "\n"
      ]
    },
    {
      "cell_type": "code",
      "metadata": {
        "execution": {
          "iopub.execute_input": "2021-06-28T05:45:05.440316Z",
          "iopub.status.busy": "2021-06-28T05:45:05.439203Z",
          "iopub.status.idle": "2021-06-28T05:45:05.442718Z",
          "shell.execute_reply": "2021-06-28T05:45:05.442213Z"
        },
        "id": "FrLboGLh3yq3"
      },
      "source": [
        "# to_remove explanation\n",
        "\n",
        "\"\"\"\n",
        "Independent here means that  𝑃(ℎ+,𝑣+) = 𝑃(ℎ+)𝑃(𝑣+)\n",
        "\n",
        "P(h+,v+) = P(h+) p(v+)=0.4*0.3=0.12\n",
        "\"\"\""
      ],
      "execution_count": null,
      "outputs": []
    },
    {
      "cell_type": "markdown",
      "metadata": {
        "id": "eUcGxL6Q3yq4"
      },
      "source": [
        "### B) Joint probability generally\n",
        "A collaborator informs you that actually these are not independent. Of those neurons that respond to vertical, only 10 percent also respond to horizontal, i.e. the probability of responding to horizonal *given* that it responds to vertical is $P(h+|v+)=0.1$\n",
        "\n",
        "Given this new information, what is now the probability that a randomly chosen neuron is sensitive to both horizontal and vertical orientations?\n",
        "\n",
        "\n",
        "\n"
      ]
    },
    {
      "cell_type": "code",
      "metadata": {
        "execution": {
          "iopub.execute_input": "2021-06-28T05:45:05.448054Z",
          "iopub.status.busy": "2021-06-28T05:45:05.447449Z",
          "iopub.status.idle": "2021-06-28T05:45:05.450311Z",
          "shell.execute_reply": "2021-06-28T05:45:05.450779Z"
        },
        "id": "PWeE8_R23yq4"
      },
      "source": [
        "# to_remove explanation\n",
        "\n",
        "\"\"\"\n",
        "Remember that joint probability can generally be expressed as  𝑃(𝑎,𝑏)=𝑃(𝑎|𝑏)𝑃(𝑏)\n",
        "\n",
        "𝑃(ℎ+,𝑣+)=𝑃(ℎ+|𝑣+)𝑃(𝑣+)=0.1∗0.3=0.03\n",
        "\n",
        "\"\"\""
      ],
      "execution_count": null,
      "outputs": []
    },
    {
      "cell_type": "markdown",
      "metadata": {
        "id": "3olV_DUy3yq4"
      },
      "source": [
        "### C) Conditional probability\n",
        "\n",
        "You start measuring from a neuron and find that it responds to horizontal orientations. What is now the probability that it also responds to vertical ($𝑃(v+|h+)$)?\n",
        "\n",
        "\n",
        "\n",
        "\n",
        "\n"
      ]
    },
    {
      "cell_type": "code",
      "metadata": {
        "execution": {
          "iopub.execute_input": "2021-06-28T05:45:05.455991Z",
          "iopub.status.busy": "2021-06-28T05:45:05.455403Z",
          "iopub.status.idle": "2021-06-28T05:45:05.459175Z",
          "shell.execute_reply": "2021-06-28T05:45:05.459658Z"
        },
        "id": "Byd5Q6Il3yq4"
      },
      "source": [
        "# to_remove explanation\n",
        "\n",
        "\"\"\"\n",
        "The conditional probability is given by  𝑃(𝑎|𝑏)=𝑃(𝑎,𝑏)/𝑃(𝑏)\n",
        "\n",
        "𝑃(𝑣+|ℎ+)=𝑃(𝑣+,ℎ+)/𝑃(ℎ+)=𝑃(ℎ+|𝑣+)𝑃(𝑣+)/𝑃(ℎ+)=0.1∗0.3/0.4=0.075\n",
        "\"\"\""
      ],
      "execution_count": null,
      "outputs": []
    },
    {
      "cell_type": "markdown",
      "metadata": {
        "id": "SM3C9SL_3yq4"
      },
      "source": [
        "### D) Marginal probability\n",
        "\n",
        "Lastly, let's check that everything has been done correctly. Given our knowledge about the conditional probabilities, we should be able to use marginalisation to recover the marginal probability of a random neuron responding to vertical orientations ($P(v+)$). We know from above that this should equal 0.3.\n",
        "Calculate $P(v+)$  based on the conditional probabilities for $P(v+|h+)$ and $P(v+|h0)$ (the latter which you will need to calculate).\n",
        "\n"
      ]
    },
    {
      "cell_type": "code",
      "metadata": {
        "execution": {
          "iopub.execute_input": "2021-06-28T05:45:05.465044Z",
          "iopub.status.busy": "2021-06-28T05:45:05.464427Z",
          "iopub.status.idle": "2021-06-28T05:45:05.469082Z",
          "shell.execute_reply": "2021-06-28T05:45:05.468592Z"
        },
        "id": "X580OCzW3yq5"
      },
      "source": [
        "# to_remove explanation\n",
        "\n",
        "\"\"\"\n",
        "The first step is to calculute:\n",
        "𝑃(𝑣+|ℎ0)=𝑃(ℎ0|𝑣+)𝑃(𝑣+)/𝑃(ℎ0)=(1−0.1)∗0.3/(1−0.4)=0.45\n",
        "\n",
        "Then use the property of marginalisation (discrete version)\n",
        "\n",
        "𝑃(𝑎)=∑𝑖𝑃(𝑎|𝑏=𝑖)𝑃(𝑏=𝑖)\n",
        "\n",
        "𝑃(𝑣+)=𝑃(𝑣+|ℎ+)𝑃(ℎ+)+𝑃(𝑣+|ℎ0)𝑃(ℎ0)=0.075∗0.4+0.45∗(1−0.4)=0.3\n",
        "\n",
        "Phew, we recovered the correct value!\n",
        "\"\"\""
      ],
      "execution_count": null,
      "outputs": []
    },
    {
      "cell_type": "markdown",
      "metadata": {
        "id": "VaJKTGDpJjaB"
      },
      "source": [
        "## Section 1.2: Markov chains\n",
        "\n"
      ]
    },
    {
      "cell_type": "code",
      "metadata": {
        "cellView": "form",
        "id": "L3PPmfQ_Jzdj"
      },
      "source": [
        "# @title Video 2: Markov Chains\n",
        "from ipywidgets import widgets\n",
        "\n",
        "out2 = widgets.Output()\n",
        "with out2:\n",
        "  from IPython.display import IFrame\n",
        "  class BiliVideo(IFrame):\n",
        "      def __init__(self, id, page=1, width=400, height=300, **kwargs):\n",
        "          self.id=id\n",
        "          src = 'https://player.bilibili.com/player.html?bvid={0}&page={1}'.format(id, page)\n",
        "          super(BiliVideo, self).__init__(src, width, height, **kwargs)\n",
        "\n",
        "  video = BiliVideo(id=\"BV1Rh41187ZC\", width=854, height=480, fs=1)\n",
        "  print('Video available at https://www.bilibili.com/video/{0}'.format(video.id))\n",
        "  display(video)\n",
        "\n",
        "out1 = widgets.Output()\n",
        "with out1:\n",
        "  from IPython.display import YouTubeVideo\n",
        "  video = YouTubeVideo(id=\"XjQF13xMpss\", width=854, height=480, fs=1, rel=0)\n",
        "  print('Video available at https://youtube.com/watch?v=' + video.id)\n",
        "  display(video)\n",
        "\n",
        "out = widgets.Tab([out1, out2])\n",
        "out.set_title(0, 'Youtube')\n",
        "out.set_title(1, 'Bilibili')\n",
        "\n",
        "display(out)"
      ],
      "execution_count": null,
      "outputs": []
    },
    {
      "cell_type": "markdown",
      "metadata": {
        "id": "Unwb9E_HKU6q"
      },
      "source": [
        "\n",
        "### Coding exercise 1.2 Markov chains\n",
        "\n",
        "\n",
        "We will practice more probability theory by looking at **Markov chains**. The Markov property specifies that you can fully encapsulate the important properties of a system based on its *current* state at the current time, any previous history does not matter. It is memoryless.\n",
        "\n",
        "As an example imagine that a rat is able to move freely between 3 areas: a dark rest area\n",
        "($state=1$), a nesting area ($state=2$) and a bright area for collecting food ($state=3$). Every 5 minutes (timepoint $i$) we record the rat's location. We can use a **categorical distribution** to look at the probability that the rat moves to one state from another.\n",
        "\n",
        "The table below shows the probability of the rat transitioning from one area to another between timepoints ($state_i$ to $state_{i+1}$).\n",
        "\n",
        "\\begin{array}{|l |  l | l | l |} \\hline\n",
        "state_{i} &P(state_{i+1}=1|state_i=*) &P(state_{i+1}=2|state_i=*) & P(state_{i+1}=3|state=_i*) \\\\ \\hline\n",
        "state_{i}=1& 0.2  &0.6 &0.2\\\\\n",
        "state_{i}=2& .6 &0.3& 0.1\\\\\n",
        "state_{i}=3& 0.8 &0.2 &0\\\\ \\hline\n",
        "\\end{array}\n",
        "\n",
        "We are modeling this as a Markov chain, so the animal is only in one of the states at a time and can transition between the states.\n",
        "\n",
        "We want to get the probability of each state at time $i+1$. We know from Section 1.1 that we can use marginalisation:\n",
        "\n",
        "$$P_(state_{i+1} = 1) = P(state_{i+1}=1|state_i=1)P(state_i = 1) +  P(state_{i+1}=1|state_i=2)P(state_i = 2) +  P(state_{i+1}=1|state_i=3)P(state_i = 3)  $$\n",
        "\n",
        "Let's say we had a row vector (a vector defined as a row, not a column so matrix multiplication will work out) of the probabilities of the current state:\n",
        "\n",
        "$$P_i = [P(state_i = 1), P(state_i = 2), P(state_i = 3) ] $$\n",
        "\n",
        "If we actually know where the rat is at the current time point, this would be deterministic (e.g. $P_i = [0, 1, 0]$ if the rat is in state 2). Otherwise, this could be probabilistic (e.g. $P_i = [0.1, 0.7, 0.2]$).\n",
        "\n",
        "To compute the vector of probabilities of the state at the time $i+1$, we can use linear algebra and multiply our vector of the probabilities of the current state with the transition matrix.  Recall your matrix multiplication skills from W0D3 to check this! \n",
        "\n",
        "$$P_{i+1} = P_{i} T$$\n",
        "where $T$ is our transition matrix.\n",
        "\n",
        "\n",
        "This is the same formula for every step, which allows us to get the probabilities for a time more than 1 step in advance easily. If we started at $i=0$ and wanted to look at the probabilities at step $i=2$, we could do:\n",
        "\n",
        "\\begin{align*}\n",
        "P_{1} &= P_{0}T\\\\\n",
        "P_{2} &= P_{1}T = P_{0}TT = P_{0}T^2\\\\\n",
        "\\end{align*}\n",
        "\n",
        "So, every time we take a further step we can just multiply with the transition matrix again. So, the probability vector of states at j timepoints after the current state at timepoint i is equal to the probability vector at timepoint i times the transition matrix raised to the jth power.\n",
        "$$P_{i + j} = P_{i}T^j $$\n",
        "\n",
        "If the animal starts in area 2, what is the probability the animal will again be in area 2 when we check on it 20 minutes (4 transitions) later?\n",
        "\n",
        "Fill in the transition matrix in the code below."
      ]
    },
    {
      "cell_type": "code",
      "metadata": {
        "id": "bdvsKrMZKaj1"
      },
      "source": [
        "###################################################################\n",
        "## TODO for student\n",
        "## Fill out the following then remove\n",
        "raise NotImplementedError(\"Student exercise: compute state probabilities after 4 transitions\")\n",
        "###################################################################\n",
        "\n",
        "# Transition matrix\n",
        "transition_matrix = np.array([[ 0.2, 0.6, 0.2],[ .6, 0.3, 0.1], [0.8, 0.2, 0]])\n",
        "\n",
        "# Initial state, p0\n",
        "p0 = np.array([0, 1, 0])\n",
        "\n",
        "# Compute the probabilities 4 transitions later (use np.linalg.matrix_power to raise a matrix a power)\n",
        "p4 = ...\n",
        "\n",
        "# The second area is indexed as 1 (Python starts indexing at 0)\n",
        "print(\"The probability the rat will be in area 2 after 4 transitions is: \" + str(p4[1]))"
      ],
      "execution_count": null,
      "outputs": []
    },
    {
      "cell_type": "code",
      "metadata": {
        "colab": {
          "base_uri": "https://localhost:8080/"
        },
        "id": "foPoEyVfKdDc",
        "outputId": "5621d7c7-0b91-4780-d6dc-db73831c90d4"
      },
      "source": [
        "# to_remove solution\n",
        "\n",
        "# Transition matrix\n",
        "transition_matrix = np.array([[ 0.2, 0.6, 0.2],[ .6, 0.3, 0.1], [0.8, 0.2, 0]])\n",
        "\n",
        "# Initial state, p0\n",
        "p0 = np.array([0, 1, 0])\n",
        "\n",
        "# Compute the probabilities 4 transitions later (use np.linalg.matrix_power to raise a matrix a power)\n",
        "p4 = p0 @ np.linalg.matrix_power(transition_matrix, 4) \n",
        "\n",
        "# The second area is indexed as 1 (Python starts indexing at 0)\n",
        "print(\"The probability the rat will be in area 2 after 4 transitions is: \" + str(p4[1]))"
      ],
      "execution_count": 5,
      "outputs": [
        {
          "output_type": "stream",
          "text": [
            "The probability the rat will be in area 2 after 4 transitions is: 0.4311\n"
          ],
          "name": "stdout"
        }
      ]
    },
    {
      "cell_type": "markdown",
      "metadata": {
        "id": "CwRWbsWHJ_t-"
      },
      "source": [
        "You should get a probability of 0.4311, i.e. there is a 43.11% chance that you will find the rat in area 2 in 20 minutes.\n",
        "\n",
        "What is the average amount of time spent by the rat in each of the states? \n",
        "\n",
        "Implicit in the question is the idea that we can start off with a random initial state and then measure how much relative time is spent in each area. If we make a few assumptions (e.g. ergodic or 'randomly mixing' system), we can instead start with an initial random distribution and see how the final probabilities of each state after many time steps (100) to estimate the time spent in each state. "
      ]
    },
    {
      "cell_type": "code",
      "metadata": {
        "id": "xznb0K3Y4Vn2"
      },
      "source": [
        "# Initialize random initial distribution\n",
        "p_random = np.ones((1,3))/3\n",
        "\n",
        "###################################################################\n",
        "## TODO for student: Fill compute the state matrix after 100 transitions\n",
        "raise NotImplementedError(\"Student exercise: need to complete computation below\")\n",
        "###################################################################\n",
        "\n",
        "# Fill in the missing line to get the state matrix after 100 transitions, like above\n",
        "p_average_time_spent = ...\n",
        "print(\"The proportion of time spend by the rat in each of the three states is: \"\n",
        "            + str(p_average_time_spent[0]))"
      ],
      "execution_count": null,
      "outputs": []
    },
    {
      "cell_type": "code",
      "metadata": {
        "colab": {
          "base_uri": "https://localhost:8080/"
        },
        "id": "lZpgOZR74XKy",
        "outputId": "6df3f342-5676-4c07-a2ec-7b87ccd0041a"
      },
      "source": [
        "# to_remove solution\n",
        "\n",
        "# Initialize random initial distribution\n",
        "p_random = np.ones((1,3))/3\n",
        "\n",
        "# Fill in the missing line to get the state matrix after 100 transitions, like above\n",
        "p_average_time_spent = p_random @ np.linalg.matrix_power(transition_matrix, 100)\n",
        "print(\"The proportion of time spend by the rat in each of the three states is: \"\n",
        "            + str(p_average_time_spent[0]))"
      ],
      "execution_count": 6,
      "outputs": [
        {
          "output_type": "stream",
          "text": [
            "The proportion of time spend by the rat in each of the three states is: [0.44736842 0.42105263 0.13157895]\n"
          ],
          "name": "stdout"
        }
      ]
    },
    {
      "cell_type": "markdown",
      "metadata": {
        "id": "Z7HeK2aa4dAY"
      },
      "source": [
        "The proportion of time spend in each of the three areas are 0.4473, 0.4211, and 0.1316, respectively.\n",
        "\n",
        "Imagine now that if the animal is satiated and tired the transitions change to:\n",
        "\n",
        "\\begin{array}{|l |  l | l | l |} \\hline\n",
        "state_{i} &P(state_{i+1}=1|state_i=*) &P(state_{i+1}=2|state_i=*) &P(state_{i+1}=3|state_i=*) \\\\ \\hline\n",
        "state_{i}=1& 0.2  &0.7 &0.1\\\\\n",
        "state_{i}=2& .3 &0.7& 0.\\\\\n",
        "state_{i}=3& 0.8 &0.2 &0\\\\ \\hline\n",
        "\\end{array}\n",
        "\n",
        "Try repeating the questions above for this table of transitions by changing the transition matrix. Based on the probability values, what would you predict? Check how much time the rat spends on average in each area and see if it matches your predictions.\n",
        "\n",
        "**Main course preview:** The Markov property is extremely important for many models, particularly Hidden Markov Models, discussed on day W3D2, and for methods such as Markov Chain Monte Carlo sampling."
      ]
    },
    {
      "cell_type": "markdown",
      "metadata": {
        "id": "tCm8l97U3yq5"
      },
      "source": [
        "---\n",
        "# Section 2: Statistical inference and likelihood"
      ]
    },
    {
      "cell_type": "markdown",
      "metadata": {
        "id": "OYtyZRLC3yq5"
      },
      "source": [
        "## Section 2.1: Likelihoods"
      ]
    },
    {
      "cell_type": "code",
      "metadata": {
        "execution": {
          "iopub.execute_input": "2021-06-28T05:45:05.483712Z",
          "iopub.status.busy": "2021-06-28T05:45:05.481609Z",
          "iopub.status.idle": "2021-06-28T05:45:05.538971Z",
          "shell.execute_reply": "2021-06-28T05:45:05.539438Z"
        },
        "id": "Da26nVmN3yq5",
        "cellView": "form"
      },
      "source": [
        "# @title Video 3: Statistical inference and likelihood\n",
        "from ipywidgets import widgets\n",
        "\n",
        "out2 = widgets.Output()\n",
        "with out2:\n",
        "  from IPython.display import IFrame\n",
        "  class BiliVideo(IFrame):\n",
        "      def __init__(self, id, page=1, width=400, height=300, **kwargs):\n",
        "          self.id=id\n",
        "          src = 'https://player.bilibili.com/player.html?bvid={0}&page={1}'.format(id, page)\n",
        "          super(BiliVideo, self).__init__(src, width, height, **kwargs)\n",
        "\n",
        "  video = BiliVideo(id=\"BV1LM4y1g7wT\", width=854, height=480, fs=1)\n",
        "  print('Video available at https://www.bilibili.com/video/{0}'.format(video.id))\n",
        "  display(video)\n",
        "\n",
        "out1 = widgets.Output()\n",
        "with out1:\n",
        "  from IPython.display import YouTubeVideo\n",
        "  video = YouTubeVideo(id=\"7aiKvKlYwR0\", width=854, height=480, fs=1, rel=0)\n",
        "  print('Video available at https://youtube.com/watch?v=' + video.id)\n",
        "  display(video)\n",
        "\n",
        "out = widgets.Tab([out1, out2])\n",
        "out.set_title(0, 'Youtube')\n",
        "out.set_title(1, 'Bilibili')\n",
        "\n",
        "display(out)"
      ],
      "execution_count": null,
      "outputs": []
    },
    {
      "cell_type": "markdown",
      "metadata": {
        "id": "85OF8ur_3yq5"
      },
      "source": [
        "<details>\n",
        "<summary> <font color='blue'>Click here for text recap of video </font></summary>\n",
        "\n",
        "A generative model (such as the Gaussian distribution from the previous tutorial) allows us to make predictions about outcomes. \n",
        "\n",
        "However, after we observe $n$ data points, we can also evaluate our model (and any of its associated parameters) by calculating the **likelihood** of our model having generated each of those data points $x_i$.\n",
        "\n",
        "$$P(x_i|\\mu,\\sigma)=\\mathcal{N}(x_i,\\mu,\\sigma)$$\n",
        "\n",
        "For all data points $\\mathbf{x}=(x_1, x_2, x_3, ...x_n) $ we can then calculate the likelihood for the whole dataset by computing the product of the likelihood for each single data point.\n",
        "\n",
        "$$P(\\mathbf{x}|\\mu,\\sigma)=\\prod_{i=1}^n \\mathcal{N}(x_i,\\mu,\\sigma)$$\n",
        "\n",
        "</details>\n",
        "\n",
        "While the likelihood may be written as a conditional probability ($P(x|\\mu,\\sigma)$), we refer to it as the **likelihood function**, $L(\\mu,\\sigma)$.  This slight switch in notation is to emphasize our focus: we use likelihood functions when the data points $\\mathbf{x}$ are fixed and we are focused on the parameters. \n",
        "Our new notation makes clear that the likelihood $L(\\mu,\\sigma)$ is a function of $\\mu$ and $\\sigma$, not of $\\mathbf{x}$.\n",
        "\n",
        "In the last tutorial we reviewed how the data was generated given the selected parameters of the generative process. If we do not know the parameters $\\mu$, $\\sigma$ that generated the data, we can try to **infer** which parameter values (given our model) gives the best (highest) likelihood. This is what we call statistical inference: trying to infer what parameters make our observed data the most likely or probable?\n",
        "\n"
      ]
    },
    {
      "cell_type": "markdown",
      "metadata": {
        "id": "MHj6-F643yq6"
      },
      "source": [
        "### Coding Exercise 2.1: Computing likelihood\n",
        "\n",
        "Let's start with computing the likelihood of some set of data points being drawn from a Gaussian distribution with a mean and variance we choose. \n",
        "\n",
        "\n",
        "\n",
        "As multiplying small probabilities together can lead to very small numbers, it is often convenient to report the *logarithm* of the likelihood. This is just a convenient transformation and as logarithm is a monotonically increasing function this does not change what parameters maximise the function.\n",
        "\n"
      ]
    },
    {
      "cell_type": "code",
      "metadata": {
        "execution": {
          "iopub.execute_input": "2021-06-28T05:45:05.558473Z",
          "iopub.status.busy": "2021-06-28T05:45:05.557818Z",
          "iopub.status.idle": "2021-06-28T05:45:05.666585Z",
          "shell.execute_reply": "2021-06-28T05:45:05.663747Z"
        },
        "id": "pg4roBDC3yq6"
      },
      "source": [
        "def compute_likelihood_normal(x, mean_val, standard_dev_val):\n",
        "  \"\"\" Computes the log-likelihood values given a observed data sample x, and\n",
        "  potential mean and variance values for a normal distribution\n",
        "\n",
        "    Args:\n",
        "      x (ndarray): 1-D array with all the observed data\n",
        "      mean_val (scalar): value of mean for which to compute likelihood\n",
        "      standard_dev_val (scalar): value of variance for which to compute likelihood\n",
        "\n",
        "    Returns:\n",
        "      likelihood (scalar): value of likelihood for this combination of means/variances\n",
        "  \"\"\"\n",
        "\n",
        "  ###################################################################\n",
        "  ## TODO for student\n",
        "  raise NotImplementedError(\"Student exercise: compute likelihood\")\n",
        "  ###################################################################\n",
        "\n",
        "  # Get probability of each data point (use stats.norm.pdf from scipy stats)\n",
        "  p_data = ...\n",
        "  \n",
        "  # Compute likelihood (sum over the log of the probabilities)\n",
        "  likelihood = ...\n",
        "\n",
        "  return likelihood\n",
        "\n",
        "# Set random seed\n",
        "np.random.seed(0)\n",
        "\n",
        "# Generate data \n",
        "true_mean = 5\n",
        "true_standard_dev = 1  \n",
        "n_samples = 1000\n",
        "x = np.random.normal(true_mean, true_standard_dev, size = (n_samples,))\n",
        "\n",
        "# Compute likelihood for a guessed mean/standard dev\n",
        "guess_mean = 4\n",
        "guess_standard_dev = .1\n",
        "likelihood = compute_likelihood_normal(x, guess_mean, guess_standard_dev)\n",
        "print(likelihood)"
      ],
      "execution_count": null,
      "outputs": []
    },
    {
      "cell_type": "code",
      "metadata": {
        "colab": {
          "base_uri": "https://localhost:8080/"
        },
        "id": "ZPh3PaJfMx_D",
        "outputId": "9ecfe01d-775f-4912-ebc3-2a4f768e0331"
      },
      "source": [
        "def compute_likelihood_normal(x, mean_val, standard_dev_val):\n",
        "  \"\"\" Computes the log-likelihood values given a observed data sample x, and\n",
        "  potential mean and variance values for a normal distribution\n",
        "\n",
        "    Args:\n",
        "      x (ndarray): 1-D array with all the observed data\n",
        "      mean_val (scalar): value of mean for which to compute likelihood\n",
        "      standard_dev_val (scalar): value of variance for which to compute likelihood\n",
        "\n",
        "    Returns:\n",
        "      likelihood (scalar): value of likelihood for this combination of means/variances\n",
        "  \"\"\"\n",
        "\n",
        "  # Get probability of each data point (use norm.pdf from scipy stats)\n",
        "  p_data = norm.pdf(x, mean_val, standard_dev_val)\n",
        "  \n",
        "  # Compute likelihood (sum over the log of the probabilities)\n",
        "  likelihood = np.sum(np.log(p_data))\n",
        "\n",
        "  return likelihood\n",
        "\n",
        "# Set random seed\n",
        "np.random.seed(0)\n",
        "\n",
        "# Generate data \n",
        "true_mean = 5\n",
        "true_standard_dev = 1  \n",
        "n_samples = 1000\n",
        "x = np.random.normal(true_mean, true_standard_dev, size = (n_samples,))\n",
        "\n",
        "# Compute likelihood for a guessed mean/standard dev\n",
        "guess_mean = 4\n",
        "guess_standard_dev = .1\n",
        "likelihood = compute_likelihood_normal(x, guess_mean, guess_standard_dev)\n",
        "print(likelihood)"
      ],
      "execution_count": 7,
      "outputs": [
        {
          "output_type": "stream",
          "text": [
            "-92904.81398544145\n"
          ],
          "name": "stdout"
        }
      ]
    },
    {
      "cell_type": "markdown",
      "metadata": {
        "id": "IEW2v-9OM00t"
      },
      "source": [
        "You should get a likelihood of -92904.81. This is somewhat meaningless to us! For it to be useful, we need to compare it to the likelihoods computing using other guesses of the mean or standard deviation. The visualization below shows us the likelihood for various values of the mean and the standard deviation. Essentially, we are performing a rough grid-search over means and standard deviations.  What would you guess as the true mean and standard deviation based on this visualization? "
      ]
    },
    {
      "cell_type": "code",
      "metadata": {
        "colab": {
          "base_uri": "https://localhost:8080/",
          "height": 431
        },
        "cellView": "form",
        "id": "h_vi8Ym8OKus",
        "outputId": "79b1a767-ea95-406c-93b6-aa95ac23f1ee"
      },
      "source": [
        "# @markdown Execute to visualize likelihoods\n",
        "\n",
        "# Set random seed\n",
        "np.random.seed(0)\n",
        "\n",
        "# Generate data \n",
        "true_mean = 5\n",
        "true_standard_dev = 1  \n",
        "n_samples = 1000\n",
        "x = np.random.normal(true_mean, true_standard_dev, size = (n_samples,))\n",
        "\n",
        "\n",
        "# Compute likelihood for different mean/variance values\n",
        "mean_vals = np.linspace(1, 10, 10) # potential mean values to ry\n",
        "standard_dev_vals = np.array([0.7, 0.8, 0.9, 1, 1.2, 1.5, 2, 3, 4, 5]) # potential variance values to try\n",
        "\n",
        "# Initialise likelihood collection array\n",
        "likelihood = np.zeros((mean_vals.shape[0], standard_dev_vals.shape[0]))\n",
        "\n",
        "# Compute the likelihood for observing the gvien data x assuming\n",
        "# each combination of mean and variance values\n",
        "for idxMean in range(mean_vals.shape[0]):\n",
        "  for idxVar in range(standard_dev_vals .shape[0]):\n",
        "    likelihood[idxVar,idxMean]= sum(np.log(norm.pdf(x, mean_vals[idxMean],\n",
        "                                              standard_dev_vals[idxVar])))\n",
        "    \n",
        "# Uncomment once you've generated the samples and compute likelihoods\n",
        "xspace = np.linspace(0, 10, 100)\n",
        "plot_likelihoods(likelihood, mean_vals, standard_dev_vals)"
      ],
      "execution_count": 8,
      "outputs": [
        {
          "output_type": "display_data",
          "data": {
            "image/png": "[encoded data removed]",
            "text/plain": [
              "<Figure size 576x432 with 2 Axes>"
            ]
          },
          "metadata": {
            "tags": [],
            "image/png": {
              "width": 543,
              "height": 414
            },
            "needs_background": "light"
          }
        }
      ]
    },
    {
      "cell_type": "markdown",
      "metadata": {
        "id": "o4YVujlx3yq7"
      },
      "source": [
        "## Section 2.2: Maximum likelihood"
      ]
    },
    {
      "cell_type": "code",
      "metadata": {
        "execution": {
          "iopub.execute_input": "2021-06-28T05:45:06.556544Z",
          "iopub.status.busy": "2021-06-28T05:45:06.554964Z",
          "iopub.status.idle": "2021-06-28T05:45:06.630988Z",
          "shell.execute_reply": "2021-06-28T05:45:06.627226Z"
        },
        "id": "-ib0fr4o3yq7",
        "cellView": "form"
      },
      "source": [
        "# @title Video 4: Maximum likelihood\n",
        "from ipywidgets import widgets\n",
        "\n",
        "out2 = widgets.Output()\n",
        "with out2:\n",
        "  from IPython.display import IFrame\n",
        "  class BiliVideo(IFrame):\n",
        "      def __init__(self, id, page=1, width=400, height=300, **kwargs):\n",
        "          self.id=id\n",
        "          src = 'https://player.bilibili.com/player.html?bvid={0}&page={1}'.format(id, page)\n",
        "          super(BiliVideo, self).__init__(src, width, height, **kwargs)\n",
        "\n",
        "  video = BiliVideo(id=\"BV1Lo4y1C7xy\", width=854, height=480, fs=1)\n",
        "  print('Video available at https://www.bilibili.com/video/{0}'.format(video.id))\n",
        "  display(video)\n",
        "\n",
        "out1 = widgets.Output()\n",
        "with out1:\n",
        "  from IPython.display import YouTubeVideo\n",
        "  video = YouTubeVideo(id=\"Fuwx_V64nEU\", width=854, height=480, fs=1, rel=0)\n",
        "  print('Video available at https://youtube.com/watch?v=' + video.id)\n",
        "  display(video)\n",
        "\n",
        "out = widgets.Tab([out1, out2])\n",
        "out.set_title(0, 'Youtube')\n",
        "out.set_title(1, 'Bilibili')\n",
        "\n",
        "display(out)"
      ],
      "execution_count": null,
      "outputs": []
    },
    {
      "cell_type": "markdown",
      "metadata": {
        "id": "A0cLcNfs3yq7"
      },
      "source": [
        "\n",
        "Implicitly, by looking for the parameters that give the highest likelihood in the last section, we have been searching for the **maximum likelihood** estimate.\n",
        "$$(\\hat{\\mu},\\hat{\\sigma})=argmax_{\\mu,\\sigma}L(\\mu,\\sigma)=argmax_{\\mu,\\sigma} \\prod_{i=1}^n \\mathcal{N}(x_i,\\mu,\\sigma)$$.\n",
        "\n",
        "\n",
        "\n",
        "In next sections, we will look at other ways of inferring such parameter variables."
      ]
    },
    {
      "cell_type": "markdown",
      "metadata": {
        "id": "10ogi0C5RQgD"
      },
      "source": [
        "### Section 2.2.1: Searching for best parameters\n",
        "\n",
        "We want to do inference on this data set, i.e. we want to infer the parameters that most likely gave rise to the data given our model. Intuitively that means that we want as good as possible a fit between the observed data and the probability distribution function with the best inferred parameters. We can search for the best parameters manually by trying out a bunch of possible values of the parameters, computing the likelihoods, and picking the parameters that resulted in the highest likelihood. "
      ]
    },
    {
      "cell_type": "markdown",
      "metadata": {
        "id": "5XZ-xcV13yq7"
      },
      "source": [
        "#### Interactive Demo 2.2: Maximum likelihood inference\n",
        "\n",
        "Try to see how well you can fit the probability distribution to the data by using the demo sliders to control the mean and standard deviation parameters of the distribution. We will visualize the histogram of data points (in blue) and the Gaussian density curve with that mean and standard deviation (in red). Below, we print the log-likelihood.\n",
        "\n",
        "- What (approximate) values of mu and sigma result in the best fit?\n",
        "- How does the value below the plot (the log-likelihood) change with the quality of fit?"
      ]
    },
    {
      "cell_type": "code",
      "metadata": {
        "execution": {
          "iopub.execute_input": "2021-06-28T05:45:06.672394Z",
          "iopub.status.busy": "2021-06-28T05:45:06.642146Z",
          "iopub.status.idle": "2021-06-28T05:45:06.962393Z",
          "shell.execute_reply": "2021-06-28T05:45:06.961754Z"
        },
        "id": "4uMED9iA3yq7",
        "colab": {
          "base_uri": "https://localhost:8080/",
          "height": 512,
          "referenced_widgets": [
            "8fc737c0cffd401c9d235c9bfba5512e",
            "404ec7516a864e3dba74d1df0fd5bd62",
            "515c559ed521440390c2be03db3b4c4d",
            "bcd982ba9a0949ac8bd6266284d99d31",
            "b264d21922da4e09bfb7e2d0f943e88a",
            "f8036adf0ebd4026b17ec60fc804eab0",
            "ef5f60d218e144af8999d774aa30b62c",
            "9ebd20e205c845e09ecc53d56c78c1f0",
            "86ed8233027d47418a09d422a7a06e35",
            "affd3a3b1197424ea521b5edcdb50c23"
          ]
        },
        "cellView": "form",
        "outputId": "01c46cea-4baa-4e92-d3c0-dae920788f5d"
      },
      "source": [
        "# @markdown Make sure you execute this cell to enable the widget and fit by hand!\n",
        "# Generate data \n",
        "true_mean = 5\n",
        "true_standard_dev = 1  \n",
        "n_samples = 1000\n",
        "vals = np.random.normal(true_mean, true_standard_dev, size = (n_samples,))\n",
        "\n",
        "def plotFnc(mu,sigma):\n",
        "  loglikelihood= sum(np.log(norm.pdf(vals,mu,sigma)))\n",
        "  #calculate histogram\n",
        "\n",
        "  #prepare to plot\n",
        "  fig, ax = plt.subplots()\n",
        "  ax.set_xlabel('x')\n",
        "  ax.set_ylabel('probability')\n",
        "\n",
        "  #plot histogram\n",
        "  count, bins, ignored = plt.hist(vals,density=True)\n",
        "  x = np.linspace(0,10,100)\n",
        "\n",
        "  #plot pdf\n",
        "  plt.plot(x, norm.pdf(x,mu,sigma),'r-')\n",
        "  plt.show()\n",
        "  print(\"The log-likelihood for the selected parameters is: \" + str(loglikelihood))\n",
        "\n",
        "#interact(plotFnc, mu=5.0, sigma=2.1);\n",
        "#interact(plotFnc, mu=widgets.IntSlider(min=0.0, max=10.0, step=1, value=4.0),sigma=widgets.IntSlider(min=0.1, max=10.0, step=1, value=4.0));\n",
        "interact(plotFnc, mu=(0.0, 15.0, 0.1),sigma=(0.1, 5.0, 0.1));"
      ],
      "execution_count": 9,
      "outputs": [
        {
          "output_type": "display_data",
          "data": {
            "application/vnd.jupyter.widget-view+json": {
              "model_id": "8fc737c0cffd401c9d235c9bfba5512e",
              "version_minor": 0,
              "version_major": 2
            },
            "text/plain": [
              "interactive(children=(FloatSlider(value=7.5, description='mu', max=15.0), FloatSlider(value=2.5000000000000004…"
            ]
          },
          "metadata": {
            "tags": []
          }
        }
      ]
    },
    {
      "cell_type": "code",
      "metadata": {
        "execution": {
          "iopub.execute_input": "2021-06-28T05:45:06.975201Z",
          "iopub.status.busy": "2021-06-28T05:45:06.974072Z",
          "iopub.status.idle": "2021-06-28T05:45:06.981625Z",
          "shell.execute_reply": "2021-06-28T05:45:06.979573Z"
        },
        "id": "_g-KMO0q3yq8"
      },
      "source": [
        "# to_remove explanation\n",
        "\n",
        "\"\"\"\n",
        "- The log-likelihood should be greatest when  𝜇  = 5 and  𝜎  = 1.\n",
        "- The summed log-liklihood increases (becomes less negative) as the fit improves\n",
        "\"\"\""
      ],
      "execution_count": null,
      "outputs": []
    },
    {
      "cell_type": "markdown",
      "metadata": {
        "id": "Nn6Hgt1y3yq8"
      },
      "source": [
        "Doing this was similar to the grid searched image from Section 2.1. Really, we want to see if we can do inference on observed data in a bit more principled way.\n"
      ]
    },
    {
      "cell_type": "markdown",
      "metadata": {
        "id": "zx9OtFIwRyQ1"
      },
      "source": [
        "### Section 2.2.2: Optimization to find parameters\n",
        "\n",
        "Let's again assume that we have a data set, $\\mathbf{x}$, assumed to be generated by a normal distribution (we actually generate it ourselves in line 1, so we know how it was generated!).\n",
        "We want to maximise the likelihood of the parameters $\\mu$ and $\\sigma^2$. We can do so using a couple of tricks:\n",
        "\n",
        "*   Using a log transform will not change the maximum of the function, but will allow us to work with very small numbers that could lead to problems with machine precision.\n",
        "*   Maximising a function is the same as minimising the negative of a function, allowing us to use the minimize optimisation provided by scipy.\n",
        "\n",
        "The optimisation will be done using `sp.optimize.minimize`, which does a version of gradient descent (there are hundreds of ways to do numerical optimisation, we will not cover these here!)."
      ]
    },
    {
      "cell_type": "markdown",
      "metadata": {
        "id": "HJPt_HMw3yq8"
      },
      "source": [
        "#### Coding Exercise 2.2: Maximum Likelihood Estimation\n",
        "\n",
        "\n",
        "In the code below, insert the missing line (see the `compute_likelihood_normal` function from previous exercise), with the mean as theta[0] and variance as theta[1].\n"
      ]
    },
    {
      "cell_type": "code",
      "metadata": {
        "execution": {
          "iopub.execute_input": "2021-06-28T05:45:06.989770Z",
          "iopub.status.busy": "2021-06-28T05:45:06.989148Z",
          "iopub.status.idle": "2021-06-28T05:45:06.993752Z",
          "shell.execute_reply": "2021-06-28T05:45:06.994716Z"
        },
        "id": "KSYHfNig3yq8"
      },
      "source": [
        "# Generate data \n",
        "true_mean = 5\n",
        "true_standard_dev = 1  \n",
        "n_samples = 1000\n",
        "x = np.random.normal(true_mean, true_standard_dev, size = (n_samples,))\n",
        "\n",
        "# We define the function to optimise, the negative log likelihood\n",
        "def negLogLike(theta):\n",
        "  \"\"\" Function for computing the negative log-likelihood given the observed data\n",
        "  and given parameter values stored in theta.\n",
        "\n",
        "    Args:\n",
        "      dataX (ndarray): array with observed data points\n",
        "      theta (ndarray): normal distribution parameters (mean is theta[0],\n",
        "                            variance is theta[1])\n",
        "\n",
        "    Returns:\n",
        "      Calculated negative Log Likelihood value!\n",
        "  \"\"\"\n",
        "  ###################################################################\n",
        "  ## TODO for students: Compute the negative log-likelihood value for the\n",
        "  ## given observed data values and parameters (theta)\n",
        "  # Fill out the following then remove\n",
        "  raise NotImplementedError(\"Student exercise: need to compute the negative \\\n",
        "                                log-likelihood value\")\n",
        "  ###################################################################\n",
        "  return ...\n",
        "\n",
        "# Define bounds, var has to be positive\n",
        "bnds = ((None, None), (0, None))\n",
        "\n",
        "# Optimize with scipy!\n",
        "optimal_parameters = sp.optimize.minimize(negLogLike, (2, 2), bounds = bnds)\n",
        "print(\"The optimal mean estimate is: \" + str(optimal_parameters.x[0]))\n",
        "print(\"The optimal variance estimate is: \" + str(optimal_parameters.x[1]))\n",
        "\n",
        "# optimal_parameters contains a lot of information about the optimization,\n",
        "# but we mostly want the mean and variance"
      ],
      "execution_count": null,
      "outputs": []
    },
    {
      "cell_type": "code",
      "metadata": {
        "execution": {
          "iopub.execute_input": "2021-06-28T05:45:07.003521Z",
          "iopub.status.busy": "2021-06-28T05:45:07.002375Z",
          "iopub.status.idle": "2021-06-28T05:45:07.018547Z",
          "shell.execute_reply": "2021-06-28T05:45:07.019021Z"
        },
        "id": "D5T4CbwU3yq8",
        "colab": {
          "base_uri": "https://localhost:8080/"
        },
        "outputId": "bffc9828-189b-424c-c26a-43ee9197dba3"
      },
      "source": [
        "# to_remove solution\n",
        "\n",
        "# Set random seed\n",
        "np.random.seed(0)\n",
        "\n",
        "# Generate data \n",
        "true_mean = 5\n",
        "true_standard_dev = 1  \n",
        "n_samples = 1000\n",
        "x = np.random.normal(true_mean, true_standard_dev, size = (n_samples,))\n",
        "\n",
        "# We define the function to optimise, the negative log likelihood\n",
        "def negLogLike(theta):\n",
        "  \"\"\" Function for computing the negative log-likelihood given the observed data\n",
        "  and given parameter values stored in theta.\n",
        "\n",
        "    Args:\n",
        "      theta (ndarray): normal distribution parameters (mean is theta[0],\n",
        "                            variance is theta[1])\n",
        "\n",
        "    Returns:\n",
        "      Calculated negative Log Likelihood value!\n",
        "  \"\"\"\n",
        "  return -sum(np.log(norm.pdf(x, theta[0], theta[1])))\n",
        "\n",
        "# Define bounds, var has to be positive\n",
        "bnds = ((None, None), (0, None))\n",
        "\n",
        "# Optimize with scipy!\n",
        "optimal_parameters = sp.optimize.minimize(negLogLike, (2, 2), bounds = bnds)\n",
        "print(\"The optimal mean estimate is: \" + str(optimal_parameters.x[0]))\n",
        "print(\"The optimal variance estimate is: \" + str(optimal_parameters.x[1]))\n",
        "\n",
        "# optimal_parameters contains a lot of information about the optimization,\n",
        "# but we mostly want the mean and variance"
      ],
      "execution_count": 10,
      "outputs": [
        {
          "output_type": "stream",
          "text": [
            "The optimal mean estimate is: 5.280352948211014\n",
            "The optimal variance estimate is: 1.1481972480247251\n"
          ],
          "name": "stdout"
        },
        {
          "output_type": "stream",
          "text": [
            "/usr/local/lib/python3.7/dist-packages/scipy/stats/_distn_infrastructure.py:1740: RuntimeWarning: divide by zero encountered in true_divide\n",
            "  x = np.asarray((x - loc)/scale, dtype=dtyp)\n",
            "/usr/local/lib/python3.7/dist-packages/ipykernel_launcher.py:24: RuntimeWarning: divide by zero encountered in log\n"
          ],
          "name": "stderr"
        }
      ]
    },
    {
      "cell_type": "markdown",
      "metadata": {
        "id": "Ava5cuV33yq8"
      },
      "source": [
        "These are the approximations of the parameters that maximise the likelihood ($\\mu$ ~ 5.280 and $\\sigma$ ~ 1.148). \n"
      ]
    },
    {
      "cell_type": "markdown",
      "metadata": {
        "id": "EtJj5XPYUpna"
      },
      "source": [
        "### Section 2.2.3: Analytical solution\n",
        "\n",
        "Sometimes, things work out well and we can come up with formulas for the maximum likelihood estimates of parameters. We won't get into this further but basically we could set the derivative of the likelihood to 0 (to find a maximum) and solve for the parameters. This won't always work but for the Gaussian distribution, it does.\n",
        "\n",
        "Specifically , the special thing about the Gaussian is that mean and standard deviation of the random sample can effectively approximate the two parameters of a Gaussian, $\\mu, \\sigma$.\n",
        "\n",
        "Hence using the sample mean, $\\bar{x}=\\frac{1}{n}\\sum_i x_i$, and variance, $\\bar{\\sigma}^2=\\frac{1}{n} \\sum_i (x_i-\\bar{x})^2 $ should give us the best/maximum likelihood, $L(\\bar{x},\\bar{\\sigma}^2)$. \n",
        "\n",
        "Let's compare these values to those we've been finding using manual search and optimization, and the true values (which we only know because we generated the numbers!).\n",
        "\n"
      ]
    },
    {
      "cell_type": "code",
      "metadata": {
        "colab": {
          "base_uri": "https://localhost:8080/"
        },
        "id": "3hxjzBLlVR7a",
        "outputId": "84af00be-eb00-4eb0-dffe-3cbe38c1ad1d"
      },
      "source": [
        "# Set random seed\n",
        "np.random.seed(0)\n",
        "\n",
        "# Generate data \n",
        "true_mean = 5\n",
        "true_standard_dev = 1  \n",
        "n_samples = 1000\n",
        "x = np.random.normal(true_mean, true_standard_dev, size = (n_samples,))\n",
        "\n",
        "# Compute and print sample means and standard deviations\n",
        "print(\"This is the sample mean as estimated by numpy: \" + str(np.mean(x)))\n",
        "print(\"This is the sample standard deviation as estimated by numpy: \" + str(np.std(x)))"
      ],
      "execution_count": 11,
      "outputs": [
        {
          "output_type": "stream",
          "text": [
            "This is the sample mean as estimated by numpy: 4.9547432925098045\n",
            "This is the sample standard deviation as estimated by numpy: 0.9870331586690259\n"
          ],
          "name": "stdout"
        }
      ]
    },
    {
      "cell_type": "code",
      "metadata": {
        "execution": {
          "iopub.execute_input": "2021-06-28T05:45:07.024476Z",
          "iopub.status.busy": "2021-06-28T05:45:07.023841Z",
          "iopub.status.idle": "2021-06-28T05:45:07.026742Z",
          "shell.execute_reply": "2021-06-28T05:45:07.027235Z"
        },
        "id": "AJKZ2BW03yq9"
      },
      "source": [
        "# to_remove explanation\n",
        "\n",
        "\"\"\" You should notice that the parameters estimated by maximum likelihood\n",
        "estimation/inference are very close to the true parameters (mu = 5, sigma = 1),\n",
        "as well as the parameters visualized to be best after Coding Exercise 2.1,\n",
        " where all likelihood values were calculated explicitly. \n",
        "\"\"\""
      ],
      "execution_count": null,
      "outputs": []
    },
    {
      "cell_type": "markdown",
      "metadata": {
        "id": "I5FD-1SzVwg9"
      },
      "source": [
        "If you try out different values of the mean and standard deviation in all the previous exercises, you should see that changing the mean and\n",
        "sigma parameter values (and generating new data from a distribution with theseparameters) makes no difference as MLE methods can still recover these parameters."
      ]
    },
    {
      "cell_type": "markdown",
      "metadata": {
        "id": "dXJyN0iO3yq9"
      },
      "source": [
        "---\n",
        "# Section 3: Bayesian Inference"
      ]
    },
    {
      "cell_type": "markdown",
      "metadata": {
        "id": "hMb8OuqJ3yq9"
      },
      "source": [
        "## Section 3.1: Bayes"
      ]
    },
    {
      "cell_type": "code",
      "metadata": {
        "execution": {
          "iopub.execute_input": "2021-06-28T05:45:07.035761Z",
          "iopub.status.busy": "2021-06-28T05:45:07.035147Z",
          "iopub.status.idle": "2021-06-28T05:45:07.105945Z",
          "shell.execute_reply": "2021-06-28T05:45:07.105421Z"
        },
        "id": "uuRR6Ryx3yq9",
        "cellView": "form"
      },
      "source": [
        "# @title Video 5: Bayesian inference with Gaussian distribution\n",
        "from ipywidgets import widgets\n",
        "\n",
        "out2 = widgets.Output()\n",
        "with out2:\n",
        "  from IPython.display import IFrame\n",
        "  class BiliVideo(IFrame):\n",
        "      def __init__(self, id, page=1, width=400, height=300, **kwargs):\n",
        "          self.id=id\n",
        "          src = 'https://player.bilibili.com/player.html?bvid={0}&page={1}'.format(id, page)\n",
        "          super(BiliVideo, self).__init__(src, width, height, **kwargs)\n",
        "\n",
        "  video = BiliVideo(id=\"BV11K4y1u7vH\", width=854, height=480, fs=1)\n",
        "  print('Video available at https://www.bilibili.com/video/{0}'.format(video.id))\n",
        "  display(video)\n",
        "\n",
        "out1 = widgets.Output()\n",
        "with out1:\n",
        "  from IPython.display import YouTubeVideo\n",
        "  video = YouTubeVideo(id=\"1Q3VqcpfvBk\", width=854, height=480, fs=1, rel=0)\n",
        "  print('Video available at https://youtube.com/watch?v=' + video.id)\n",
        "  display(video)\n",
        "\n",
        "out = widgets.Tab([out1, out2])\n",
        "out.set_title(0, 'Youtube')\n",
        "out.set_title(1, 'Bilibili')\n",
        "\n",
        "display(out)"
      ],
      "execution_count": null,
      "outputs": []
    },
    {
      "cell_type": "markdown",
      "metadata": {
        "id": "QhpU7SDk3yq9"
      },
      "source": [
        "We will start to introduce Bayesian inference here to contrast with our maximum likelihood methods, but you will also revisit Bayesian inference in great detail on W3D1 of the course so we won't dive into all details.\n",
        "\n",
        "For Bayesian inference we do not focus on the likelihood function $L(y)=P(x|y)$, but instead focus on the posterior distribution: \n",
        "\n",
        "$$P(y|x)=\\frac{P(x|y)P(y)}{P(x)}$$\n",
        "\n",
        "which is composed of the **likelihood** function $P(x|y)$, the **prior** $P(y)$ and a normalising term $P(x)$ (which we will ignore for now).\n",
        "\n",
        "While there are other advantages to using Bayesian inference (such as the ability to derive Bayesian Nets, see optional bonus task below), we will start by focusing on the role of the prior in inference. Does including prior information allow us to infer parameters in a better way?"
      ]
    },
    {
      "cell_type": "markdown",
      "metadata": {
        "id": "jCX6Ck7N3yq9"
      },
      "source": [
        "### Think! 3.1: Bayesian inference with Gaussian distribution\n",
        "\n",
        "In the above sections we performed inference using maximum likelihood, i.e. finding the parameters that maximised the likelihood of a set of parameters, given the model and data.\n",
        "\n",
        "We will now repeat the inference process, but with an added Bayesian prior, and compare it to the \"classical\" inference (maximum likelihood) process we did before (Section 2). When using conjugate priors (more on this below) we can just update the parameter values of the distributions (here Gaussian distributions). \n",
        "\n",
        "\n",
        "For the prior we start by guessing a mean of 5 (mean of previously observed data points 4 and 6) and variance of 1 (variance of 4 and 6). We use a trick (not detailed here) that is a simplified way of applying a prior, that allows us to just add these 2 values (pseudo-data) to the real data.\n",
        "\n",
        "See the visualization below that shows the mean and standard deviation inferred by our classical maximum likelihood approach and the Bayesian approach for different numbers of data points.\n",
        "\n",
        "Remembering that our true values are $\\mu = 5$, and $\\sigma^2 = 1$, how do the Bayesian inference and classical inference compare?"
      ]
    },
    {
      "cell_type": "code",
      "metadata": {
        "execution": {
          "iopub.execute_input": "2021-06-28T05:45:07.164768Z",
          "iopub.status.busy": "2021-06-28T05:45:07.153269Z",
          "iopub.status.idle": "2021-06-28T05:45:07.687897Z",
          "shell.execute_reply": "2021-06-28T05:45:07.687397Z"
        },
        "id": "ngTbEcjO3yq-",
        "colab": {
          "base_uri": "https://localhost:8080/",
          "height": 880
        },
        "cellView": "form",
        "outputId": "4a5af227-6b08-4ff5-83fb-72539cf6e557"
      },
      "source": [
        "# @markdown Execute to visualize inference\n",
        "\n",
        "def classic_vs_bayesian_normal(mu, sigma, num_points, prior):\n",
        "  \"\"\" Compute both classical and Bayesian inference processes over the range of\n",
        "  data sample sizes (num_points) for a normal distribution with parameters\n",
        "  mu,sigma for comparison.\n",
        "\n",
        "  Args:\n",
        "    mu (scalar): the mean parameter of the normal distribution\n",
        "    sigma (scalar): the standard deviation parameter of the normal distribution\n",
        "    num_points (int): max number of points to use for inference\n",
        "    prior (ndarray): prior data points for Bayesian inference\n",
        "\n",
        "  Returns:\n",
        "    mean_classic (ndarray): estimate mean parameter via classic inference\n",
        "    var_classic (ndarray): estimate variance parameter via classic inference\n",
        "    mean_bayes (ndarray): estimate mean parameter via Bayesian inference\n",
        "    var_bayes (ndarray): estimate variance parameter via Bayesian inference\n",
        "  \"\"\"\n",
        "\n",
        "  # Initialize the classical and Bayesian inference arrays that will estimate\n",
        "  # the normal parameters given a certain number of randomly sampled data points\n",
        "  mean_classic = np.zeros(num_points)\n",
        "  var_classic = np.zeros(num_points)\n",
        "\n",
        "  mean_bayes = np.zeros(num_points)\n",
        "  var_bayes = np.zeros(num_points)\n",
        "\n",
        "  for nData in range(num_points):\n",
        "\n",
        "    random_num_generator = default_rng(0)\n",
        "    x = random_num_generator.normal(mu, sigma, nData + 1)\n",
        "\n",
        "    # Compute the mean of those points and set the corresponding array entry to this value\n",
        "    mean_classic[nData] = np.mean(x)\n",
        "\n",
        "    # Compute the variance of those points and set the corresponding array entry to this value\n",
        "    var_classic[nData] = np.var(x)\n",
        "\n",
        "    # Bayesian inference with the given prior is performed below for you\n",
        "    xsupp = np.hstack((x, prior))\n",
        "    mean_bayes[nData] = np.mean(xsupp)\n",
        "    var_bayes[nData] = np.var(xsupp)\n",
        "\n",
        "  return mean_classic, var_classic, mean_bayes, var_bayes\n",
        "\n",
        "# Set random seed\n",
        "np.random.seed(0)\n",
        "\n",
        "# Set normal distribution parameters, mu and sigma\n",
        "mu = 5\n",
        "sigma = 1\n",
        "\n",
        "# Set the prior to be two new data points, 4 and 6, and print the mean and variance\n",
        "prior = np.array((4, 6))\n",
        "print(\"The mean of the data comprising the prior is: \" + str(np.mean(prior)))\n",
        "print(\"The variance of the data comprising the prior is: \" + str(np.var(prior)))\n",
        "\n",
        "mean_classic, var_classic, mean_bayes, var_bayes = classic_vs_bayesian_normal(mu, sigma, 60, prior)\n",
        "plot_classical_vs_bayesian_normal(60, mean_classic, var_classic, mean_bayes, var_bayes)"
      ],
      "execution_count": 12,
      "outputs": [
        {
          "output_type": "stream",
          "text": [
            "The mean of the data comprising the prior is: 5.0\n",
            "The variance of the data comprising the prior is: 1.0\n"
          ],
          "name": "stdout"
        },
        {
          "output_type": "display_data",
          "data": {
            "image/png": "[encoded data removed]",
            "text/plain": [
              "<Figure size 576x432 with 1 Axes>"
            ]
          },
          "metadata": {
            "tags": [],
            "image/png": {
              "width": 558,
              "height": 414
            },
            "needs_background": "light"
          }
        },
        {
          "output_type": "display_data",
          "data": {
            "image/png": "[encoded data removed]",
            "text/plain": [
              "<Figure size 576x432 with 1 Axes>"
            ]
          },
          "metadata": {
            "tags": [],
            "image/png": {
              "width": 558,
              "height": 414
            },
            "needs_background": "light"
          }
        }
      ]
    },
    {
      "cell_type": "code",
      "metadata": {
        "id": "WmOioxtEbpTe"
      },
      "source": [
        "# to_remove explanation\n",
        "\n",
        "\"\"\"\n",
        "Hopefully you can see that the blue line stays a little closer to the true values ($\\mu=5$, $\\sigma^2=1$).\n",
        "\n",
        " Having a simple prior in the Bayesian inference process (blue) helps to regularise \n",
        " the inference of the mean and variance parameters when you have very little data,\n",
        " but has little effect with large data sets. You can see that as the number of data points \n",
        " (x-axis) increases, both inference processes (blue and red lines) get closer and closer \n",
        " together, i.e. their estimates for the true parameters converge as sample size increases.\n",
        "\"\"\""
      ],
      "execution_count": null,
      "outputs": []
    },
    {
      "cell_type": "markdown",
      "metadata": {
        "id": "X5y2H9Aa3yq-"
      },
      "source": [
        "\n",
        "\n",
        "Note that the prior is only beneficial when it is close to the true value, i.e. 'a good guess' (or at least not a bad guess). As we will see in the next exercise, if you have a prior/bias that is very wrong, your inference will start off very wrong!\n"
      ]
    },
    {
      "cell_type": "markdown",
      "metadata": {
        "id": "6gW-eCJ-3yq-"
      },
      "source": [
        "## Section 3.2: Conjugate priors"
      ]
    },
    {
      "cell_type": "code",
      "metadata": {
        "execution": {
          "iopub.execute_input": "2021-06-28T05:45:07.701317Z",
          "iopub.status.busy": "2021-06-28T05:45:07.700667Z",
          "iopub.status.idle": "2021-06-28T05:45:07.761718Z",
          "shell.execute_reply": "2021-06-28T05:45:07.761170Z"
        },
        "id": "S22soniy3yq-",
        "cellView": "form"
      },
      "source": [
        "# @title Video 6: Conjugate priors\n",
        "from ipywidgets import widgets\n",
        "\n",
        "out2 = widgets.Output()\n",
        "with out2:\n",
        "  from IPython.display import IFrame\n",
        "  class BiliVideo(IFrame):\n",
        "      def __init__(self, id, page=1, width=400, height=300, **kwargs):\n",
        "          self.id=id\n",
        "          src = 'https://player.bilibili.com/player.html?bvid={0}&page={1}'.format(id, page)\n",
        "          super(BiliVideo, self).__init__(src, width, height, **kwargs)\n",
        "\n",
        "  video = BiliVideo(id=\"BV1Hg41137Zr\", width=854, height=480, fs=1)\n",
        "  print('Video available at https://www.bilibili.com/video/{0}'.format(video.id))\n",
        "  display(video)\n",
        "\n",
        "out1 = widgets.Output()\n",
        "with out1:\n",
        "  from IPython.display import YouTubeVideo\n",
        "  video = YouTubeVideo(id=\"mDEyZHaG5aY\", width=854, height=480, fs=1, rel=0)\n",
        "  print('Video available at https://youtube.com/watch?v=' + video.id)\n",
        "  display(video)\n",
        "\n",
        "out = widgets.Tab([out1, out2])\n",
        "out.set_title(0, 'Youtube')\n",
        "out.set_title(1, 'Bilibili')\n",
        "\n",
        "display(out)"
      ],
      "execution_count": null,
      "outputs": []
    },
    {
      "cell_type": "markdown",
      "metadata": {
        "id": "6vxvGnYi3yq-"
      },
      "source": [
        "### Interactive Demo 3.2: Conjugate priors\n",
        "Let's return to our example from Tutorial 1 using the binomial distribution - rat in a T-maze.\n",
        "\n",
        "Bayesian inference can be used for any likelihood distribution, but it is a lot more convenient to work with **conjugate** priors, where multiplying the prior with the likelihood just provides another instance of the prior distribution with updated values. \n",
        "\n",
        "For the binomial likelihood it is convenient to use the **beta** distribution as a prior\n",
        "\n",
        "\\begin{aligned}f(p;\\alpha ,\\beta )={\\frac {1}{\\mathrm {B} (\\alpha ,\\beta )}}p^{\\alpha -1}(1-p)^{\\beta -1}\\end{aligned}\n",
        "where $B$ is the beta function, $\\alpha$ and $\\beta$ are parameters, and $p$ is the probability of the rat turning left or right. The beta distribution is thus a distribution over a probability.\n",
        "\n",
        "Given a series of Left and Right moves of the rat, we can now estimate the probability that the animal will turn left. Using Bayesian Inference, we use a beta distribution *prior*, which is then multiplied with the *likelihood* to create a *posterior* that is also a beta distribution, but with updated parameters (we will not cover the math here). \n",
        "\n",
        "Activate the widget below to explore the variables, and follow the instructions below."
      ]
    },
    {
      "cell_type": "code",
      "metadata": {
        "execution": {
          "iopub.execute_input": "2021-06-28T05:45:07.820005Z",
          "iopub.status.busy": "2021-06-28T05:45:07.819374Z",
          "iopub.status.idle": "2021-06-28T05:45:08.127457Z",
          "shell.execute_reply": "2021-06-28T05:45:08.126940Z"
        },
        "id": "z_BLWPZg3yq-",
        "colab": {
          "base_uri": "https://localhost:8080/",
          "height": 700,
          "referenced_widgets": [
            "50300627b27f4a10bee3466d52579154",
            "060f6205a0be4845b1b71f8477a5de46",
            "6b9267f3b11c46439c7366c84a4b3583",
            "fdd092f26f2d461fa91f3a1dbbfc7952",
            "74fdeddcc079449284cad6315d48d0a2",
            "3d2b51f92c55445c97430ea8f33f5ca2",
            "aca33847ed6b4461a889ff0c2f50039c",
            "bd9c704a980740879ed114e1d96fcd4d",
            "156d9a7e85184907ab6bcbe9b2cb5812",
            "be1716d3a5b24a05abfd97b97c6d1c8b",
            "fca7a7777c5a45ad8a8d16439716bc12",
            "c4b85d8527294772ae929a58d9bf15e3",
            "3705252d83e546fdb81d54b2c1616b3a",
            "a627d748fbf94cf9acd65d92bedf562e",
            "3f37c988d0794eae9e5982bf4ab04087",
            "6b432b3a82574682b5691090440cfe3d"
          ]
        },
        "cellView": "form",
        "outputId": "fca978a3-bd7a-47c3-d7af-2f16c4a082b1"
      },
      "source": [
        "#@title\n",
        "\n",
        "#@markdown Make sure you execute this cell to enable the widget\n",
        "\n",
        "#beta distribution\n",
        "#and binomial\n",
        "def plotFnc(p,n,priorL,priorR):\n",
        "  # Set random seed\n",
        "  np.random.seed(1)\n",
        "  #sample from binomial\n",
        "  numL = np.random.binomial(n, p, 1)\n",
        "  numR = n - numL\n",
        "  stepSize=0.001\n",
        "  x = np.arange(0, 1, stepSize)\n",
        "  betaPdf=sp.stats.beta.pdf(x,numL+priorL,numR+priorR)\n",
        "  betaPrior=sp.stats.beta.pdf(x,priorL,priorR)\n",
        "  print(\"number of left \"+str(numL))\n",
        "  print(\"number of right \"+str(numR))\n",
        "  print(\" \")\n",
        "  print(\"max likelihood \"+str(numL/(numL+numR)))\n",
        "  print(\" \")\n",
        "  print(\"max posterior \" + str(x[np.argmax(betaPdf)]))\n",
        "  print(\"mean posterior \" + str(np.mean(betaPdf*x)))\n",
        "\n",
        "\n",
        "  print(\" \")\n",
        "\n",
        "  with plt.xkcd():\n",
        "    #rng.beta()\n",
        "    fig, ax = plt.subplots()\n",
        "    plt.rcParams.update({'font.size': 22})\n",
        "    ax.set_xlabel('p')\n",
        "    ax.set_ylabel('probability density')\n",
        "    plt.plot(x,betaPdf, label = \"Posterior\")\n",
        "    plt.plot(x,betaPrior, label = \"Prior\")\n",
        "    #print(int(len(betaPdf)/2))\n",
        "    plt.legend()\n",
        "\n",
        "\n",
        "\n",
        "\n",
        "\n",
        "interact(plotFnc, p=(0, 1, 0.01),n=(1, 50, 1), priorL=(1, 10, 1),priorR=(1, 10, 1));"
      ],
      "execution_count": 13,
      "outputs": [
        {
          "output_type": "display_data",
          "data": {
            "application/vnd.jupyter.widget-view+json": {
              "model_id": "50300627b27f4a10bee3466d52579154",
              "version_minor": 0,
              "version_major": 2
            },
            "text/plain": [
              "interactive(children=(FloatSlider(value=0.0, description='p', max=1.0, step=0.01), IntSlider(value=25, descrip…"
            ]
          },
          "metadata": {
            "tags": []
          }
        }
      ]
    },
    {
      "cell_type": "markdown",
      "metadata": {
        "id": "c9OiSlTo3yq_"
      },
      "source": [
        "The plot above shows you the prior distribution (i.e. before any data) and the posterior distribution (after data), with a summary of the data (number of left and right moves) and the maximum likelihood, maximum posterior and mean of the posterior. Dependent on the purpose either the mean or the max of the posterior can be useful as a 'single-number' summary of the posterior.\n",
        "Once you are familiar with the sliders and what they represent, go through these instructions.\n",
        "\n",
        "**For $p=0.5$**\n",
        "\n",
        "- Set $p=0.5$ and start off with a \"flat\" prior (`priorL=0`, `priorR=0`). Note that the prior distribution (orange) is flat, also known as uniformative. In this case the maximum likelihood and maximum posterior will get you almost identical results as you vary the number of datapoints ($n$) and the probability of the rat going left. However the posterior is a full distribution and not just a single point estimate.\n",
        "\n",
        "- As $n$ gets large you will also notice that the estimate (max likelihood or max posterior) changes less for each change in $n$, i.e. the estimation stabilises.\n",
        "\n",
        "- How many data points do you need think is needed for the probability estimate to stabilise? Note that this depends on how large fluctuations you are willing to accept.\n",
        "\n",
        "- Try increasing the strength of the prior, `priorL=10` and `priorR=10`. You will see that the prior distribution becomes more 'peaky'. In short this prior means that small or large values of $p$ are conidered very unlikely. Try playing with the number of data points $n$, you should find that the prior stabilises/regularises the maximum posterior estimate so that it does not move as much. \n",
        "\n",
        "**For $p=0.2$**\n",
        "\n",
        "Try the same as you just did, now with $p=0.2$,\n",
        "do you notice any differences? Note that the prior (assumeing equal chance Left and Right) is now badly matched to the data. Do the maximum likelihood and maximum posterior still give similar results, for a weak prior? For a strong prior? Does the prior still have a stabilising effect on the estimate?\n",
        "\n"
      ]
    },
    {
      "cell_type": "markdown",
      "metadata": {
        "id": "3QytKpBP3yq_"
      },
      "source": [
        "**Take-away message:** \n",
        "Bayesian inference gives you a full distribution over the variables that you are inferring, can help regularise inference when you have limited data, and allows you to build more complex models that better reflects true causality (see bonus below)."
      ]
    },
    {
      "cell_type": "markdown",
      "metadata": {
        "id": "724SF1tb3yq_"
      },
      "source": [
        "### Think! 3.2: Bayesian Brains\n",
        "Bayesian inference can help you when doing data analysis, especially when you only have little data. But consider whether the brain might be able to benefit from this too. If the brain needs to make inferences about the world, would it be useful to do regularisation on the input? Maybe there are times where having a full probability distribution could be useful?"
      ]
    },
    {
      "cell_type": "code",
      "metadata": {
        "execution": {
          "iopub.execute_input": "2021-06-28T05:45:08.139984Z",
          "iopub.status.busy": "2021-06-28T05:45:08.139374Z",
          "iopub.status.idle": "2021-06-28T05:45:08.142230Z",
          "shell.execute_reply": "2021-06-28T05:45:08.142700Z"
        },
        "id": "nmEJlw193yq_"
      },
      "source": [
        "# to_remove explanation\n",
        "\n",
        "\"\"\" You will learn more about \"Bayesian brains\" and the theory surrounding\n",
        "these ideas once the course begins. Here is a brief explanation: it may\n",
        "be ideal for human brains to implement Bayesian inference by integrating \"prior\"\n",
        "information the brain has about the world (memories, prior knowledge, etc.) with\n",
        "new evidence that updates its \"beliefs\"/prior. This process seems to parallel\n",
        "the brain's method of learning about its environment, making it a compelling\n",
        "theory for many neuroscience researchers. One of Bonus exercises below examines a possible\n",
        "real world model for Bayesian inference: sound localization.\n",
        "\"\"\""
      ],
      "execution_count": null,
      "outputs": []
    },
    {
      "cell_type": "markdown",
      "metadata": {
        "id": "jaMgEMy53yq_"
      },
      "source": [
        "---\n",
        "# Summary\n"
      ]
    },
    {
      "cell_type": "code",
      "metadata": {
        "execution": {
          "iopub.execute_input": "2021-06-28T05:45:08.157655Z",
          "iopub.status.busy": "2021-06-28T05:45:08.155796Z",
          "iopub.status.idle": "2021-06-28T05:45:08.216637Z",
          "shell.execute_reply": "2021-06-28T05:45:08.217203Z"
        },
        "id": "pWigcZC_3yq_",
        "cellView": "form"
      },
      "source": [
        "# @title Video 7: Summary\n",
        "from ipywidgets import widgets\n",
        "\n",
        "out2 = widgets.Output()\n",
        "with out2:\n",
        "  from IPython.display import IFrame\n",
        "  class BiliVideo(IFrame):\n",
        "      def __init__(self, id, page=1, width=400, height=300, **kwargs):\n",
        "          self.id=id\n",
        "          src = 'https://player.bilibili.com/player.html?bvid={0}&page={1}'.format(id, page)\n",
        "          super(BiliVideo, self).__init__(src, width, height, **kwargs)\n",
        "\n",
        "  video = BiliVideo(id=\"BV1qB4y1K7WZ\", width=854, height=480, fs=1)\n",
        "  print('Video available at https://www.bilibili.com/video/{0}'.format(video.id))\n",
        "  display(video)\n",
        "\n",
        "out1 = widgets.Output()\n",
        "with out1:\n",
        "  from IPython.display import YouTubeVideo\n",
        "  video = YouTubeVideo(id=\"OJN7ri3_FCA\", width=854, height=480, fs=1, rel=0)\n",
        "  print('Video available at https://youtube.com/watch?v=' + video.id)\n",
        "  display(video)\n",
        "\n",
        "out = widgets.Tab([out1, out2])\n",
        "out.set_title(0, 'Youtube')\n",
        "out.set_title(1, 'Bilibili')\n",
        "\n",
        "display(out)"
      ],
      "execution_count": null,
      "outputs": []
    },
    {
      "cell_type": "markdown",
      "metadata": {
        "id": "_y121nRH3yq_"
      },
      "source": [
        "\n",
        "Having done the different exercises you should now:\n",
        "* understand what the likelihood function is, and have some intuition of why it is important\n",
        "* know how to summarise the Gaussian distribution using mean and variance \n",
        "* know how to maximise a likelihood function\n",
        "* be able to do simple inference in both classical and Bayesian ways\n",
        "\n",
        "For more resources see \n",
        "https://github.com/NeuromatchAcademy/precourse/blob/master/resources.md"
      ]
    },
    {
      "cell_type": "markdown",
      "metadata": {
        "id": "L8ZEm5r_3yrA"
      },
      "source": [
        "---\n",
        "# Bonus"
      ]
    },
    {
      "cell_type": "markdown",
      "metadata": {
        "id": "H1t9f9ZC3yrA"
      },
      "source": [
        "## Bonus Coding Exercise 1: Finding the posterior computationally   \n",
        "\n",
        "Imagine an experiment where participants estimate the location of a noise-emitting object. To estimate its position, the participants can use two sources of information: \n",
        "  1. new noisy auditory information (the likelihood)\n",
        "  2. prior visual expectations of where the stimulus is likely to come from (visual prior). \n",
        "\n",
        "The auditory and visual information are both noisy, so participants will combine these sources of information to better estimate the position of the object.\n",
        "\n",
        "We will use Gaussian distributions to represent the auditory likelihood (in red), and a Gaussian visual prior (expectations - in blue). Using Bayes rule, you will combine them into a posterior distribution that summarizes the probability that the object is in each possible location. \n",
        "\n",
        "We have provided you with a ready-to-use plotting function, and a code skeleton.\n",
        "\n",
        "* You can use `my_gaussian` from Tutorial 1 (also included below), to generate an auditory likelihood with parameters $\\mu$ = 3 and $\\sigma$ = 1.5\n",
        "* Generate a visual prior with parameters $\\mu$ = -1 and $\\sigma$ = 1.5\n",
        "* Calculate the posterior using pointwise multiplication of the likelihood and prior. Don't forget to normalize so the posterior adds up to 1\n",
        "* Plot the likelihood, prior and posterior using the predefined function `posterior_plot`\n",
        "\n"
      ]
    },
    {
      "cell_type": "code",
      "metadata": {
        "execution": {
          "iopub.execute_input": "2021-06-28T05:45:08.230735Z",
          "iopub.status.busy": "2021-06-28T05:45:08.225079Z",
          "iopub.status.idle": "2021-06-28T05:45:08.232897Z",
          "shell.execute_reply": "2021-06-28T05:45:08.232407Z"
        },
        "id": "UU5eaHbE3yrA"
      },
      "source": [
        "def my_gaussian(x_points, mu, sigma):\n",
        "  \"\"\" Returns normalized Gaussian estimated at points `x_points`, with parameters:\n",
        "  mean `mu` and standard deviation `sigma`\n",
        "\n",
        "  Args:\n",
        "      x_points (ndarray of floats): points at which the gaussian is evaluated\n",
        "      mu (scalar): mean of the Gaussian\n",
        "      sigma (scalar): standard deviation of the gaussian\n",
        "\n",
        "  Returns:\n",
        "      (numpy array of floats) : normalized Gaussian evaluated at `x`\n",
        "  \"\"\"\n",
        "  px = 1/(2*np.pi*sigma**2)**1/2 *np.exp(-(x_points-mu)**2/(2*sigma**2))\n",
        "\n",
        "  # as we are doing numerical integration we may have to remember to normalise\n",
        "  # taking into account the stepsize (0.1)\n",
        "  px = px/(0.1*sum(px))\n",
        "  return px\n",
        "\n",
        "def compute_posterior_pointwise(prior, likelihood):\n",
        "  \"\"\" Compute the posterior probability distribution point-by-point using Bayes\n",
        "  Rule.\n",
        "\n",
        "    Args:\n",
        "      prior (ndarray): probability distribution of prior\n",
        "      likelihood (ndarray): probability distribution of likelihood\n",
        "\n",
        "    Returns:\n",
        "      posterior (ndarray): probability distribution of posterior\n",
        "  \"\"\"\n",
        "  ##############################################################################\n",
        "  # TODO for students: Write code to compute the posterior from the prior and\n",
        "  # likelihood via pointwise multiplication. (You may assume both are defined\n",
        "  # over the same x-axis)\n",
        "  #\n",
        "  # Comment out the line below to test your solution\n",
        "  raise NotImplementedError(\"Finish the simulation code first\")\n",
        "  ##############################################################################\n",
        "\n",
        "  posterior = ...\n",
        "\n",
        "  return posterior\n",
        "\n",
        "def localization_simulation(mu_auditory = 3.0, sigma_auditory = 1.5,\n",
        "                            mu_visual = -1.0, sigma_visual = 1.5):\n",
        "  \"\"\" Perform a sound localization simulation with an auditory prior.\n",
        "\n",
        "    Args:\n",
        "      mu_auditory (float): mean parameter value for auditory prior\n",
        "      sigma_auditory (float): standard deviation parameter value for auditory\n",
        "                                prior\n",
        "      mu_visual (float): mean parameter value for visual likelihood distribution\n",
        "      sigma_visual (float): standard deviation parameter value for visual\n",
        "                                likelihood distribution\n",
        "\n",
        "    Returns:\n",
        "      x (ndarray): range of values for which to compute probabilities\n",
        "      auditory (ndarray): probability distribution of the auditory prior\n",
        "      visual (ndarray): probability distribution of the visual likelihood\n",
        "      posterior_pointwise (ndarray): posterior probability distribution\n",
        "  \"\"\"\n",
        "  ##############################################################################\n",
        "  ## Using the x variable below,\n",
        "  ##      create a gaussian called 'auditory' with mean 3, and std 1.5\n",
        "  ##      create a gaussian called 'visual' with mean -1, and std 1.5\n",
        "  #\n",
        "  #\n",
        "  ## Comment out the line below to test your solution\n",
        "  raise NotImplementedError(\"Finish the simulation code first\")\n",
        "  ###############################################################################\n",
        "  x = np.arange(-8, 9, 0.1)\n",
        "\n",
        "  auditory = ...\n",
        "  visual = ...\n",
        "  posterior = compute_posterior_pointwise(auditory, visual)\n",
        "\n",
        "  return x, auditory, visual, posterior\n",
        "\n",
        "\n",
        "# Uncomment the lines below to plot the results\n",
        "# x, auditory, visual, posterior_pointwise = localization_simulation()\n",
        "# _ = posterior_plot(x, auditory, visual, posterior_pointwise)"
      ],
      "execution_count": null,
      "outputs": []
    },
    {
      "cell_type": "code",
      "metadata": {
        "execution": {
          "iopub.execute_input": "2021-06-28T05:45:08.244771Z",
          "iopub.status.busy": "2021-06-28T05:45:08.235314Z",
          "iopub.status.idle": "2021-06-28T05:45:08.545551Z",
          "shell.execute_reply": "2021-06-28T05:45:08.545025Z"
        },
        "id": "IC5Nbort3yrA"
      },
      "source": [
        "# to_remove solution\n",
        "\n",
        "def my_gaussian(x_points, mu, sigma):\n",
        "  \"\"\" Returns normalized Gaussian estimated at points `x_points`, with parameters:\n",
        "  mean `mu` and standard deviation `sigma`\n",
        "\n",
        "  Args:\n",
        "      x_points (ndarray of floats): points at which the gaussian is evaluated\n",
        "      mu (scalar): mean of the Gaussian\n",
        "      sigma (scalar): standard deviation of the gaussian\n",
        "\n",
        "  Returns:\n",
        "      (numpy array of floats) : normalized Gaussian evaluated at `x`\n",
        "  \"\"\"\n",
        "  px = 1/(2*np.pi*sigma**2)**1/2 *np.exp(-(x_points-mu)**2/(2*sigma**2))\n",
        "\n",
        "  # as we are doing numerical integration we may have to remember to normalise\n",
        "  # taking into account the stepsize (0.1)\n",
        "  px = px/(0.1*sum(px))\n",
        "  return px\n",
        "\n",
        "def compute_posterior_pointwise(prior, likelihood):\n",
        "  \"\"\" Compute the posterior probability distribution point-by-point using Bayes\n",
        "  Rule.\n",
        "\n",
        "    Args:\n",
        "      prior (ndarray): probability distribution of prior\n",
        "      likelihood (ndarray): probability distribution of likelihood\n",
        "\n",
        "    Returns:\n",
        "      posterior (ndarray): probability distribution of posterior\n",
        "  \"\"\"\n",
        "\n",
        "  posterior = likelihood * prior\n",
        "  posterior =posterior/ (0.1*posterior.sum())\n",
        "\n",
        "  return posterior\n",
        "\n",
        "def localization_simulation(mu_auditory = 3.0, sigma_auditory = 1.5,\n",
        "                            mu_visual = -1.0, sigma_visual = 1.5):\n",
        "  \"\"\" Perform a sound localization simulation with an auditory prior.\n",
        "\n",
        "    Args:\n",
        "      mu_auditory (float): mean parameter value for auditory prior\n",
        "      sigma_auditory (float): standard deviation parameter value for auditory\n",
        "                                prior\n",
        "      mu_visual (float): mean parameter value for visual likelihood distribution\n",
        "      sigma_visual (float): standard deviation parameter value for visual\n",
        "                                likelihood distribution\n",
        "\n",
        "    Returns:\n",
        "      x (ndarray): range of values for which to compute probabilities\n",
        "      auditory (ndarray): probability distribution of the auditory prior\n",
        "      visual (ndarray): probability distribution of the visual likelihood\n",
        "      posterior_pointwise (ndarray): posterior probability distribution\n",
        "  \"\"\"\n",
        "\n",
        "  x = np.arange(-8, 9, 0.1)\n",
        "\n",
        "  auditory = my_gaussian(x, mu_auditory, sigma_auditory)\n",
        "  visual = my_gaussian(x, mu_visual, mu_visual)\n",
        "  posterior = compute_posterior_pointwise(auditory, visual)\n",
        "\n",
        "  return x, auditory, visual, posterior\n",
        "\n",
        "# Uncomment the lines below to plot the results\n",
        "x, auditory, visual, posterior_pointwise = localization_simulation()\n",
        "with plt.xkcd():\n",
        "  _ = posterior_plot(x, auditory, visual, posterior_pointwise)"
      ],
      "execution_count": null,
      "outputs": []
    },
    {
      "cell_type": "markdown",
      "metadata": {
        "id": "f4dVENYD3yrB"
      },
      "source": [
        "Combining the the visual and auditory information could help the brain get a better estimate of the location of an audio-visual object, with lower variance. \n",
        "\n",
        "**Main course preview:** On Week 3 Day 1 (W3D1) there will be a whole day devoted to examining whether the brain uses Bayesian inference. Is the brain Bayesian?!"
      ]
    },
    {
      "cell_type": "markdown",
      "metadata": {
        "id": "V_KGPT2e3yrB"
      },
      "source": [
        "## Bonus Coding Exercise 2: Bayes Net\n",
        "If you have the time, here is another extra exercise.\n",
        "\n",
        "Bayes Net, or Bayesian Belief Networks, provide a way to make inferences about multiple levels of information, which would be very difficult to do in a classical frequentist paradigm.\n",
        "\n",
        "We can encapsulate our knowledge about causal relationships and use this to make inferences about hidden properties."
      ]
    },
    {
      "cell_type": "markdown",
      "metadata": {
        "id": "vHSk5Qh83yrB"
      },
      "source": [
        "We will try a simple example of a Bayesian Net (aka belief network). Imagine that you have a house with an unreliable sprinkler system installed for watering the grass. This is set to water the grass independently of whether it has rained that day. We have three variables, rain ($r$), sprinklers ($s$) and wet grass ($w$). Each of these can be true (1) or false (0). See the graphical model representing the relationship between the variables."
      ]
    },
    {
      "cell_type": "markdown",
      "metadata": {
        "id": "Aox_H39R3yrB"
      },
      "source": [
        "![image.png](data:image/png;base64,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)"
      ]
    },
    {
      "cell_type": "markdown",
      "metadata": {
        "id": "JFlPW9ar3yrB"
      },
      "source": [
        "There is a table below describing all the relationships between $w, r$, and s$.\n",
        "\n",
        "Obviously the grass is more likely to be wet if either the sprinklers were on or it was raining. On any given day the sprinklers have probability 0.25 of being on, $P(s = 1) = 0.25$, while there is a probability 0.1 of rain, $P (r = 1) = 0.1$. The table then lists the conditional probabilities for the given being wet, given a rain and sprinkler condition for that day."
      ]
    },
    {
      "cell_type": "markdown",
      "metadata": {
        "id": "4mCDPaGv3yrB"
      },
      "source": [
        "\\begin{array}{|l |  l || ll |} \\hline\n",
        "r &s&P(w=0|r,s) &P(w=1|r,s)$\\\\ \\hline\n",
        "0& 0  &0.999 &0.001\\\\\n",
        "0& 1 &0.1& 0.9\\\\\n",
        "1& 0 &0.01 &0.99\\\\\n",
        "1& 1& 0.001 &0.999\\\\ \\hline\n",
        "\\end{array}\n"
      ]
    },
    {
      "cell_type": "markdown",
      "metadata": {
        "id": "V2gcB0lx3yrC"
      },
      "source": [
        "\n",
        "You come home and find that the the grass is wet, what is the probability the sprinklers were on today (you do not know if it was raining)?\n",
        "\n",
        "We can start by writing out the joint probability:\n",
        "$P(r,w,s)=P(w|r,s)P(r)P(s)$\n",
        "\n",
        "The conditional probability is then:\n",
        "\n",
        "$\n",
        "P(s|w)=\\frac{\\sum_{r} P(w|s,r)P(s)  P(r)}{P(w)}=\\frac{P(s) \\sum_{r} P(w|s,r) P(r)}{P(w)}\n",
        "$\n",
        "\n",
        "Note that we are summing over all possible conditions for $r$ as we do not know if it was raining. Specifically, we want to know the probability of sprinklers having been on given the wet grass, $P(s=1|w=1)$:\n",
        "\n",
        "$\n",
        "P(s=1|w=1)=\\frac{P(s = 1)( P(w = 1|s = 1, r = 1) P(r = 1)+ P(w = 1|s = 1,r = 0)  P(r = 0))}{P(w = 1)} \n",
        "$\n",
        "\n",
        "where\n",
        "\n",
        "\\begin{eqnarray}\n",
        "P(w=1)=P(s=1)( P(w=1|s=1,r=1 ) P(r=1) &+ P(w=1|s=1,r=0)  P(r=0))\\\\\n",
        "+P(s=0)( P(w=1|s=0,r=1 )  P(r=1) &+ P(w=1|s=0,r=0)  P(r=0))\\\\\n",
        "\\end{eqnarray}\n",
        "\n",
        "This code has been written out below, you just need to insert the right numbers from the table."
      ]
    },
    {
      "cell_type": "code",
      "metadata": {
        "execution": {
          "iopub.execute_input": "2021-06-28T05:45:08.553635Z",
          "iopub.status.busy": "2021-06-28T05:45:08.552647Z",
          "iopub.status.idle": "2021-06-28T05:45:08.563993Z",
          "shell.execute_reply": "2021-06-28T05:45:08.561871Z"
        },
        "id": "2zlP9Pv_3yrC"
      },
      "source": [
        "##############################################################################\n",
        "# TODO for student: Write code to insert the correct conditional probabilities\n",
        "# from the table; see the comments to match variable with table entry.\n",
        "# Comment out the line below to test your solution\n",
        "raise NotImplementedError(\"Finish the simulation code first\")\n",
        "##############################################################################\n",
        "\n",
        "Pw1r1s1 = ...  # the probability of wet grass given rain and sprinklers on\n",
        "Pw1r1s0 = ...  # the probability of wet grass given rain and sprinklers off\n",
        "Pw1r0s1 = ...  # the probability of wet grass given no rain and sprinklers on\n",
        "Pw1r0s0 = ...  # the probability of wet grass given no rain and sprinklers off\n",
        "Ps = ... # the probability of the sprinkler being on\n",
        "Pr = ... # the probability of rain that day\n",
        "\n",
        "\n",
        "# Uncomment once variables are assigned above\n",
        "# A= Ps * (Pw1r1s1 * Pr + (Pw1r0s1) * (1 - Pr))\n",
        "# B= (1 - Ps) * (Pw1r1s0 *Pr + (Pw1r0s0) * (1 - Pr))\n",
        "# print(\"Given that the grass is wet, the probability the sprinkler was on is: \" +\n",
        "#       str(A/(A + B)))"
      ],
      "execution_count": null,
      "outputs": []
    },
    {
      "cell_type": "code",
      "metadata": {
        "execution": {
          "iopub.execute_input": "2021-06-28T05:45:08.570568Z",
          "iopub.status.busy": "2021-06-28T05:45:08.569987Z",
          "iopub.status.idle": "2021-06-28T05:45:08.575396Z",
          "shell.execute_reply": "2021-06-28T05:45:08.574914Z"
        },
        "id": "sOvYD_MN3yrC"
      },
      "source": [
        "# to_remove solution\n",
        "\n",
        "Pw1r1s1 = 0.999  # the probability of wet grass given rain and sprinklers on\n",
        "Pw1r1s0 = 0.99   # the probability of wet grass given rain and sprinklers off\n",
        "Pw1r0s1 = 0.9    # the probability of wet grass given no rain and sprinklers on\n",
        "Pw1r0s0 = 0.001  # the probability of wet grass given no rain and sprinklers off\n",
        "Ps = 0.25  # the probability of the sprinkler being on\n",
        "Pr = 0.1   # the probability of rain that day\n",
        "\n",
        "# Uncomment once variables are assigned above\n",
        "A= Ps * (Pw1r1s1 * Pr + (Pw1r0s1) * (1 - Pr))\n",
        "B= (1 - Ps) * (Pw1r1s0 *Pr + (Pw1r0s0) * (1 - Pr))\n",
        "print(\"Given that the grass is wet, the probability the sprinkler was on is: \" +\n",
        "      str(A/(A + B)))"
      ],
      "execution_count": null,
      "outputs": []
    },
    {
      "cell_type": "markdown",
      "metadata": {
        "id": "lXCWgdon3yrD"
      },
      "source": [
        "The probability you should get is about 0.7522.\n",
        "\n",
        "Your neighbour now tells you that it was indeed \n",
        "raining today, $P (r = 1) = 1$, so what is now the probability the sprinklers were on? Try changing the numbers above.\n",
        "\n"
      ]
    },
    {
      "cell_type": "markdown",
      "metadata": {
        "id": "vpnB9w8-3yrD"
      },
      "source": [
        "## Bonus Think!: Causality in the Brain\n",
        "\n",
        "In a causal stucture this is the correct way to calculate the probabilities. Do you think this is how the brain solves such problems? Would it be different for task involving novel stimuli (e.g. for someone with no previous exposure to sprinklers), as opposed to common stimuli?\n",
        "\n",
        "**Main course preview:** On W3D5 we will discuss causality further!"
      ]
    }
  ]
}