{
 "cells": [
  {
   "cell_type": "markdown",
   "metadata": {
    "pycharm": {
     "name": "#%% md\n"
    }
   },
   "source": [
    "# Introduction\n",
    "\n",
    "Welcome to the Neuromatch computational neuroscience course!"
   ]
  },
  {
   "cell_type": "markdown",
   "metadata": {},
   "source": [
    "**Our 2021 Sponsors, including Presenting Sponsor Facebook Reality Labs**\n",
    "\n",
    "<p align='center'><img src='https://github.com/NeuromatchAcademy/widgets/blob/master/sponsors.png?raw=True'/></p>"
   ]
  },
  {
   "cell_type": "markdown",
   "metadata": {
    "pycharm": {
     "name": "#%% md\n"
    }
   },
   "source": [
    "## Welcome Video"
   ]
  },
  {
   "cell_type": "code",
   "execution_count": null,
   "metadata": {
    "cellView": "form",
    "execution": {
     "iopub.execute_input": "2021-07-03T15:39:10.243658Z",
     "iopub.status.busy": "2021-07-03T15:39:10.242524Z",
     "iopub.status.idle": "2021-07-03T15:39:10.483698Z",
     "shell.execute_reply": "2021-07-03T15:39:10.480904Z"
    },
    "pycharm": {
     "name": "#%%\n"
    }
   },
   "outputs": [],
   "source": [
    "# @markdown\n",
    "from ipywidgets import widgets\n",
    "\n",
    "out2 = widgets.Output()\n",
    "with out2:\n",
    "  from IPython.display import IFrame\n",
    "  class BiliVideo(IFrame):\n",
    "      def __init__(self, id, page=1, width=400, height=300, **kwargs):\n",
    "          self.id=id\n",
    "          src = 'https://player.bilibili.com/player.html?bvid={0}&page={1}'.format(id, page)\n",
    "          super(BiliVideo, self).__init__(src, width, height, **kwargs)\n",
    "\n",
    "  video = BiliVideo(id=\"V1V54y1p77g\", width=854, height=480, fs=1)\n",
    "  print('Video available at https://www.bilibili.com/video/{0}'.format(video.id))\n",
    "  display(video)\n",
    "\n",
    "out1 = widgets.Output()\n",
    "with out1:\n",
    "  from IPython.display import YouTubeVideo\n",
    "  video = YouTubeVideo(id=\"UBED532ByzE\", width=854, height=480, fs=1, rel=0)\n",
    "  print('Video available at https://youtube.com/watch?v=' + video.id)\n",
    "  display(video)\n",
    "\n",
    "out = widgets.Tab([out1, out2])\n",
    "out.set_title(0, 'Youtube')\n",
    "out.set_title(1, 'Bilibili')\n",
    "\n",
    "display(out)"
   ]
  },
  {
   "cell_type": "markdown",
   "metadata": {
    "pycharm": {
     "name": "#%% md\n"
    }
   },
   "source": [
    "## Concepts map\n",
    "\n",
    "<img src=\"static/ConceptMap.png\" alt=\"Concept map overview of curriculum\" class=\"bg-primary\" width=\"100%\">\n",
    "\n",
    "*Image made by John Butler, with expert color advice from Isabelle Butler*"
   ]
  },
  {
   "cell_type": "markdown",
   "metadata": {},
   "source": [
    "## Curriculum overview\n",
    "\n",
    "Welcome to the comp neuro course!\n",
    "\n",
    "We have curated a curriculum that spans most areas of computational neuroscience (a hard task in an increasingly big field!).\n",
    "We will expose you to both theoretical modeling and more data-driven analyses. This section will overview the curriculum.\n",
    "\n",
    "We will start with several optional pre-reqs refreshers.\n",
    "\n",
    "The **Neuro Video Series** is a series of 12 videos that covers basic neuroscience concepts and neuroscience methods. These videos\n",
    "are completely optional and do not need to be watched in a fixed order so you can pick and choose which videos will help you\n",
    " brush up on your knowledge.\n",
    "\n",
    "The first two days of the pre-reqs refresher week are on **Python** and these are asynchronous, so you can go through the material on your own time.\n",
    "You will learn how to code in Python from scratch using a simple neural model, the leaky integrate-and-fire model, as a motivation.\n",
    "The next few days are our synchronous **Maths Refresher**. You will cover linear algebra, calculus and probability & statistics.\n",
    "The topics covered on these days were carefully chosen based on what you need for the comp neuro course.\n",
    "\n",
    "After this, it’s the start of the proper course! You will start out with the module on **Intro to Modeling**. On the first day,\n",
    "you’ll learn all about the broad types of questions we can ask with models in neuroscience (*Model Types*). You will learn\n",
    "that we can use models to ask what happens, how it happens, and why it happens in the brain. Importantly, we classify models\n",
    "into ‘what’, ‘how’, and ‘why’ models, not based on the toolkit used, but on the questions asked! On the second day, you’ll\n",
    "learn about the process of modeling using a step-by-step guide to modeling that you will apply to your own projects (*Modeling Practice*).\n",
    "\n",
    "After this solid grounding in what questions you can ask with models and the process to start doing so, you will move to the module on **Machine Learning**.\n",
    " This module covers fitting models to data and using them to ask and answer questions in neuroscience. We can pose all sorts of questions\n",
    " (including what, how, and why questions) using machine learning — we focus especially on more data-driven analyses that often result\n",
    "  in asking what is happening in the brain. You will learn about key principles behind fitting models to data (*Model Fitting*),\n",
    "  how to use generalized linear models to fit encoding and decoding models (*Generalized Linear Models*), how to uncover underlying\n",
    "  lower dimensional structure in data (*Dimensionality Reduction*), and how to use deep learning to build more complex encoding models,\n",
    "   including comparing deep networks to the visual system (*Deep Learning*).\n",
    "\n",
    "Next, you’ll move to the module on **Dynamical Systems**. In this module, you will learn all about dynamical systems and\n",
    "how to apply them to build more biologically plausible models of neurons and networks of neurons. In *Linear Systems*,\n",
    "you will cover a lot of the really foundational knowledge on dynamical systems that you will use throughout the rest of the course,\n",
    "including a brief dive into stochastic systems which will underlie the next module.  During *Biological Neuron Models*,\n",
    "you will start to use this knowledge to build models of individual neurons that are more rooted in biology. In *Dynamic Networks*,\n",
    " you will extend upon the previous day to start building and analyzing networks of neurons. We will often ask ‘how’ questions\n",
    " using these models: how are things in the brain happening mechanistically? These models are often not directly fit to data\n",
    " (in contrast to the machine learning models), but instead are built based on bottom up knowledge of the system.\n",
    "\n",
    "Next, you will move to the module on **Stochastic Processes**. We start with a day learning about Bayesian inference, within the context\n",
    "of making decisions (*Bayesian Decisions*). Specifically, we are learning about how to estimate a state of the world from measurements.\n",
    "In the next day, we extend this to include time: the state of the world is now changing over time (*Hidden Dynamics*). Next, we look\n",
    "at how we can take actions to affect the state of the world (*Optimal Control* and *Reinforcement Learning*). Once again, these models\n",
    " can be used as ‘what’, ‘how’, or ‘why’ models but we focus on asking ‘why’ questions (why should the brain compute this?).\n",
    "\n",
    "Finally, we end with learning all about causality (*Network Causality*). This covers one of the most important science questions:\n",
    "when can we determine if something is causally related vs. just correlated?"
   ]
  }
 ],
 "metadata": {
  "colab": {
   "collapsed_sections": [],
   "include_colab_link": true,
   "name": "intro",
   "toc_visible": true
  },
  "kernel": {
   "display_name": "Python 3",
   "language": "python",
   "name": "python3"
  },
  "kernelspec": {
   "display_name": "Python 3",
   "language": "python",
   "name": "python3"
  },
  "language_info": {
   "codemirror_mode": {
    "name": "ipython",
    "version": 3
   },
   "file_extension": ".py",
   "mimetype": "text/x-python",
   "name": "python",
   "nbconvert_exporter": "python",
   "pygments_lexer": "ipython3",
   "version": "3.7.10"
  }
 },
 "nbformat": 4,
 "nbformat_minor": 1
}
