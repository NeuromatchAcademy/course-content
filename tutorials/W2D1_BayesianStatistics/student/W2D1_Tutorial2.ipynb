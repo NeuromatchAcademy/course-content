{
 "cells": [
  {
   "cell_type": "markdown",
   "metadata": {
    "colab_type": "text",
    "id": "view-in-github"
   },
   "source": [
    "<a href=\"https://colab.research.google.com/github/NeuromatchAcademy/course-content/blob/master/tutorials/W2D1_BayesianStatistics/W2D1_Tutorial2.ipynb\" target=\"_parent\"><img src=\"https://colab.research.google.com/assets/colab-badge.svg\" alt=\"Open In Colab\"/></a>"
   ]
  },
  {
   "cell_type": "markdown",
   "metadata": {
    "colab_type": "text",
    "id": "hKBTPqcHykZk"
   },
   "source": [
    "# Neuromatch Academy: Week 2, Day 1, Tutorial 1\n",
    "# Causal inference with mixture of Gaussians\n",
    "\n",
    "**Tutorial Lecturer:** *Konrad Kording*\n",
    "\n",
    "**Tutorial Content Creator:** *Vincent Valton*"
   ]
  },
  {
   "cell_type": "markdown",
   "metadata": {
    "colab_type": "text",
    "id": "KRHVWuf9xdQB"
   },
   "source": [
    "##Tutorial Objective"
   ]
  },
  {
   "cell_type": "code",
   "execution_count": 1,
   "metadata": {
    "cellView": "form",
    "colab": {
     "base_uri": "https://localhost:8080/",
     "height": 518
    },
    "colab_type": "code",
    "id": "fwHP4D3p3c2A",
    "outputId": "b6099959-e269-4ad5-f201-5d49b13d2162"
   },
   "outputs": [
    {
     "name": "stdout",
     "output_type": "stream",
     "text": [
      "Video available at https://youtube.com/watch?v=ium-eaJz9yo\n"
     ]
    },
    {
     "data": {
      "image/jpeg": "[encoded data removed]",
      "text/html": [
       "\n",
       "        <iframe\n",
       "            width=\"854\"\n",
       "            height=\"480\"\n",
       "            src=\"https://www.youtube.com/embed/ium-eaJz9yo?fs=1\"\n",
       "            frameborder=\"0\"\n",
       "            allowfullscreen\n",
       "        ></iframe>\n",
       "        "
      ],
      "text/plain": [
       "<IPython.lib.display.YouTubeVideo at 0x7f9444329e50>"
      ]
     },
     "execution_count": 1,
     "metadata": {},
     "output_type": "execute_result"
    }
   ],
   "source": [
    "#@title Video: Intro\n",
    "from IPython.display import YouTubeVideo\n",
    "video = YouTubeVideo(id='ium-eaJz9yo', width=854, height=480, fs=1)\n",
    "print(\"Video available at https://youtube.com/watch?v=\" + video.id)\n",
    "video"
   ]
  },
  {
   "cell_type": "markdown",
   "metadata": {
    "colab_type": "text",
    "id": "1kGSaKhXykZs"
   },
   "source": [
    "---\n",
    "\n",
    "### Tutorial objectives\n",
    "  \n",
    "In this notebook we'll look at creating mixtures of Gaussian distributions by applying a mixing weight to the distributions. \n",
    "    \n",
    "Mathematically, we can control how the Gaussians are mixed by summing them and using a mixing parameter $\\alpha$ (comprised between zero and one):\n",
    "\n",
    "\\begin{eqnarray}\n",
    "    \\text{Mixture} = \\left[ \\alpha \\times \\mathcal{N_1}(\\mu_{1},\\sigma_{1}) \\right] + \\left[ \\left( 1 - \\alpha \\right) \\times \\mathcal{N_2}(\\mu_{2},\\sigma_{2}) \\right]\n",
    "\\end{eqnarray}\n",
    "\n",
    "where $\\mathcal{N_{1}}$ and $\\mathcal{N_{2}}$ are the first and second Gaussian distributions used for the mixture.\n",
    "\n",
    "Steps:\n",
    "\n",
    "1. Implement a mixture of Gaussian prior\n",
    "2. Given Bayes rule, a mixture of Gaussian prior and a Gaussian likelihood, calculate the posterior distribution\n",
    "3. Create a Mixture of Gaussian prior matrix that repeats the prior over multiple rows of the matrix\n",
    "4. Create a Likelihood matrix with a different likelihood mean for each row of the likelihood matrix.\n",
    "5. Create a Posterior matrix that is the result (on each row of the posterior matrix), the combination of the prior and likelihood matrices (row-wise).\n",
    "6. Create a binary decision matrix that reports the most likely action for each of the row-posteriors of the posterior matrix.\n",
    "\n",
    "So lets start implementing these steps, one by one.\n"
   ]
  },
  {
   "cell_type": "markdown",
   "metadata": {
    "colab_type": "text",
    "id": "wcHSXKdUx8x9"
   },
   "source": [
    "---\n",
    "##Setup  \n",
    "Please execute the cells below to initialize the notebook environment."
   ]
  },
  {
   "cell_type": "code",
   "execution_count": 2,
   "metadata": {
    "colab": {},
    "colab_type": "code",
    "id": "gTb-QAsTIm6L"
   },
   "outputs": [],
   "source": [
    "# imports\n",
    "\n",
    "import time                        # import time \n",
    "import numpy as np                 # import numpy\n",
    "import scipy as sp                 # import scipy\n",
    "import math                        # import basic math functions\n",
    "import random                      # import basic random number generator functions\n",
    "\n",
    "import matplotlib.pyplot as plt    # import matplotlib\n",
    "from IPython import display\n"
   ]
  },
  {
   "cell_type": "code",
   "execution_count": 3,
   "metadata": {
    "cellView": "form",
    "colab": {},
    "colab_type": "code",
    "id": "GVwNeV6MIta6"
   },
   "outputs": [],
   "source": [
    "#@title Figure Settings\n",
    "\n",
    "fig_w, fig_h = (8, 6)\n",
    "plt.rcParams.update({'figure.figsize': (fig_w, fig_h)})\n",
    "plt.style.use('ggplot')\n",
    "\n",
    "%matplotlib inline\n",
    "%config InlineBackend.figure_format = 'retina'\n"
   ]
  },
  {
   "cell_type": "code",
   "execution_count": 4,
   "metadata": {
    "cellView": "form",
    "colab": {},
    "colab_type": "code",
    "id": "mmp9WCoEzFOO"
   },
   "outputs": [],
   "source": [
    "#@title Helper functions\n",
    "    \n",
    "def my_gaussian(x_points, mu, sigma):\n",
    "    \"\"\"\n",
    "    DO NOT EDIT THIS FUNCTION !!!\n",
    "\n",
    "    Returns un-normalized Gaussian estimated at points `x_points`, with parameters `mu` and `sigma`\n",
    "    \n",
    "    Args: \n",
    "      x_points (numpy array of floats) - points at which the gaussian is evaluated\n",
    "      mu (scalar) - mean of the Gaussian\n",
    "      sigma (scalar) - standard deviation of the gaussian\n",
    "    Returns:\n",
    "      (numpy array of floats): un-normalized Gaussian (i.e. without constant) evaluated at `x`\n",
    "    \"\"\"\n",
    "    return np.exp(-(x_points-mu)**2/(2*sigma**2))\n",
    "\n",
    "def plot_my_composed_prior(x, gaussian1, gaussian2, combined):\n",
    "    \"\"\"\n",
    "    DO NOT EDIT THIS FUNCTION !!!\n",
    "\n",
    "    Plots a prior made of a mixture of gaussians\n",
    "    \n",
    "    Args: \n",
    "      x (numpy array of floats):         points at which the likelihood has been evaluated\n",
    "      gaussian1 (numpy array of floats): normalized probabilities for auditory likelihood evaluated at each `x`\n",
    "      gaussian2 (numpy array of floats): normalized probabilities for visual likelihood evaluated at each `x`\n",
    "      posterior (numpy array of floats): normalized probabilities for the posterior evaluated at each `x`\n",
    "             \n",
    "    Returns:\n",
    "      Nothing\n",
    "    \"\"\"\n",
    "    plt.plot(x, gaussian1, '--b', LineWidth=2, label='Gaussian 1')\n",
    "    plt.plot(x, gaussian2, '-.b', LineWidth=2, label='Gaussian 2')\n",
    "    plt.plot(x, combined, '-r', LineWidth=2, label='Gaussian Mixture')\n",
    "    plt.legend()\n",
    "    plt.ylabel('Probability')\n",
    "    plt.xlabel('Orientation (Degrees)')\n",
    "\n",
    "def my_dynamic_plot(x, prior, likelihood, posterior_pointwise):\n",
    "    \"\"\"\n",
    "    DO NOT EDIT THIS FUNCTION !!!\n",
    "\n",
    "    Plots the prior, likelihood and posterior distributions and update the figure\n",
    "    \n",
    "    Args: \n",
    "      x (numpy array of floats):         points at which the likelihood has been evaluated\n",
    "      auditory (numpy array of floats):  normalized probabilities for auditory likelihood evaluated at each `x`\n",
    "      visual (numpy array of floats):    normalized probabilities for visual likelihood evaluated at each `x`\n",
    "      posterior (numpy array of floats): normalized probabilities for the posterior evaluated at each `x`\n",
    "      \n",
    "    Returns: \n",
    "      Nothing\n",
    "    \"\"\"\n",
    "\n",
    "    plt.clf()\n",
    "    plt.plot(x, prior, '-r', LineWidth=2, label='Prior')\n",
    "    plt.plot(x, likelihood, '-b', LineWidth=2, label='Likelihood')\n",
    "    plt.plot(x, posterior_pointwise, '-g', LineWidth=2, label='Posterior')\n",
    "    plt.ylabel('Probability')\n",
    "    plt.xlabel('Orientation (Degrees)')\n",
    "    plt.legend()\n",
    "    display.clear_output(wait=True)\n",
    "    display.display(plt.gcf())\n",
    "    time.sleep(0.2)\n",
    "\n",
    "def plot_mymatrix(x, matrix, xlabel, ylabel, title):\n",
    "  \"\"\"\n",
    "  DO NOT EDIT THIS FUNCTION !!!\n",
    "\n",
    "  Plots a matrix\n",
    "\n",
    "  Args : \n",
    "    x (numpy array of floats): values where matrix is evaluated\n",
    "    matrix (numpy array of floats) \n",
    "    xlabel (string) : label of x-axis\n",
    "    ylabel (string) : label of y-axis\n",
    "    title  (string) : title of plot\n",
    "\n",
    "  Returns:\n",
    "    None\n",
    "  \"\"\"\n",
    "  plt.figure(figsize=(fig_w*1.2, fig_h))\n",
    "  plt.pcolor(matrix, edgecolors='w', linewidths=1)\n",
    "  plt.colorbar()\n",
    "  plt.xticks(np.arange(x.shape[0]), x)\n",
    "  plt.title(title)\n",
    "  plt.ylabel(ylabel)\n",
    "  plt.xlabel(xlabel)\n",
    "  plt.show()\n",
    "  "
   ]
  },
  {
   "cell_type": "markdown",
   "metadata": {
    "colab_type": "text",
    "id": "M6II_9AmykZt"
   },
   "source": [
    "---\n",
    "## a. Implement a mixture of Gaussians\n",
    "   \n",
    "We now want to create a mixture of Gaussian probability density functions (PDFs), that we'll use as a prior in subsequent exercises.\n",
    "\n",
    "We provide you with ready-to-use plotting functions, and a code skeleton to plot the resulting PDF.\n",
    "\n",
    "**Suggestions**\n",
    "* Using the equation for the un-normalised Gaussian `my_gaussian`:\n",
    "  * Generate a Gaussian with mean 0 and standard deviation 0.5\n",
    "  * Generate another Gaussian with mean 0 and standard deviation 10\n",
    "   * Combine the two Gaussians to make a new prior by mixing the two Gaussians with mixing parameter $\\alpha$ = 0.05. Make it such that the peakier Gaussian has 95% of the weight (don't forget to normalize afterwards)\n",
    "* Using the function `plot_my_composed_prior` provided, plot the resulting mixture of gaussian\n",
    "* Play with the means and variance of the two Gaussians and observe the resulting distribution to get an intuition of how the parameters affect the mixture."
   ]
  },
  {
   "cell_type": "markdown",
   "metadata": {
    "colab_type": "text",
    "id": "BqnE69bSyorO"
   },
   "source": [
    "**Helper function(s)**\n"
   ]
  },
  {
   "cell_type": "code",
   "execution_count": 5,
   "metadata": {
    "colab": {
     "base_uri": "https://localhost:8080/",
     "height": 289
    },
    "colab_type": "code",
    "id": "owJc8QeMzAAg",
    "outputId": "080f05c9-4fc7-4665-e6c6-ea1224f41cb5"
   },
   "outputs": [
    {
     "name": "stdout",
     "output_type": "stream",
     "text": [
      "Help on function plot_my_composed_prior in module __main__:\n",
      "\n",
      "plot_my_composed_prior(x, gaussian1, gaussian2, combined)\n",
      "    DO NOT EDIT THIS FUNCTION !!!\n",
      "    \n",
      "    Plots a prior made of a mixture of gaussians\n",
      "    \n",
      "    Args: \n",
      "      x (numpy array of floats):         points at which the likelihood has been evaluated\n",
      "      gaussian1 (numpy array of floats): normalized probabilities for auditory likelihood evaluated at each `x`\n",
      "      gaussian2 (numpy array of floats): normalized probabilities for visual likelihood evaluated at each `x`\n",
      "      posterior (numpy array of floats): normalized probabilities for the posterior evaluated at each `x`\n",
      "             \n",
      "    Returns:\n",
      "      Nothing\n",
      "\n"
     ]
    }
   ],
   "source": [
    "help(plot_my_composed_prior)"
   ]
  },
  {
   "cell_type": "markdown",
   "metadata": {
    "colab_type": "text",
    "id": "dqKKm5dpQ07Y"
   },
   "source": [
    "###Exercise 1"
   ]
  },
  {
   "cell_type": "code",
   "execution_count": 6,
   "metadata": {
    "cellView": "code",
    "colab": {},
    "colab_type": "code",
    "id": "y34EhXtnykZu"
   },
   "outputs": [],
   "source": [
    "x = np.arange(-10, 11, 0.1)\n",
    "\n",
    "prior_mean = 0.\n",
    "prior_sigma1  = .5\n",
    "prior_sigma2  = 3.\n",
    "alpha = 0.05\n",
    "\n",
    "###############################################################################\n",
    "## Insert your code here to:\n",
    "##        Create a Gaussian prior made of two Gaussians\n",
    "##        Both with mean 0 and standard deviation 0.5 and 3 respectively\n",
    "##        Make the combined prior (made of the two Gaussians) by weighing it\n",
    "##        using a mixing parameter alpha = 0.05 such that the peakier Gaussian has\n",
    "##        weight 0.95\n",
    "##        Plot the two Gaussian and the resulting mixture using the function `plot_my_composed_prior`\n",
    "###############################################################################\n"
   ]
  },
  {
   "cell_type": "markdown",
   "metadata": {
    "colab": {
     "base_uri": "https://localhost:8080/",
     "height": 480
    },
    "colab_type": "text",
    "id": "TbTSz-TtykZy",
    "outputId": "bbba5afc-1186-47ed-a8ea-a4e6d36947fb"
   },
   "source": [
    "[*Click for solution*](https://github.com/NeuromatchAcademy/course-content/tree/master//tutorials/W2D1_BayesianStatistics/solutions/W2D1_Tutorial2_Solution_03d850de.py)\n",
    "\n",
    "*Example output:*\n",
    "\n",
    "<img alt='Solution hint' align='left' width=613 height=477 src=https://raw.githubusercontent.com/NeuromatchAcademy/course-content/master/tutorials/W2D1_BayesianStatistics/static/W2D1_Tutorial2_Solution_03d850de_0.png>\n",
    "\n"
   ]
  },
  {
   "cell_type": "markdown",
   "metadata": {
    "colab_type": "text",
    "id": "LpZADz951kf9"
   },
   "source": [
    "<img src=\"https://github.com/NeuromatchAcademy/course-content/raw/master/tutorials/static/sample_output.png\"/>\n",
    "\n",
    "<img width=\"450px\" src=\"https://github.com/NeuromatchAcademy/course-content/raw/master/tutorials/Bayes/Expected_outputs/Student_BayesDay_Tutorial_2_fig_1.jpg\"/>"
   ]
  },
  {
   "cell_type": "markdown",
   "metadata": {
    "colab_type": "text",
    "id": "3cd1_HLZ0CCX"
   },
   "source": [
    "---\n",
    "## b. Bayes with mixture of Gaussians"
   ]
  },
  {
   "cell_type": "code",
   "execution_count": 8,
   "metadata": {
    "cellView": "form",
    "colab": {
     "base_uri": "https://localhost:8080/",
     "height": 518
    },
    "colab_type": "code",
    "id": "fWRT63esyZiD",
    "outputId": "0ecd50d0-2bdb-4b0f-a03d-63c92d587b9f"
   },
   "outputs": [
    {
     "name": "stdout",
     "output_type": "stream",
     "text": [
      "Video available at https://youtube.com/watch?v=SYTaSvW_rpE\n"
     ]
    },
    {
     "data": {
      "image/jpeg": "[encoded data removed]",
      "text/html": [
       "\n",
       "        <iframe\n",
       "            width=\"854\"\n",
       "            height=\"480\"\n",
       "            src=\"https://www.youtube.com/embed/SYTaSvW_rpE?fs=1\"\n",
       "            frameborder=\"0\"\n",
       "            allowfullscreen\n",
       "        ></iframe>\n",
       "        "
      ],
      "text/plain": [
       "<IPython.lib.display.YouTubeVideo at 0x7f944a0c6550>"
      ]
     },
     "execution_count": 8,
     "metadata": {},
     "output_type": "execute_result"
    }
   ],
   "source": [
    "#@title Video: Bayes with mixture of Gaussians\n",
    "video = YouTubeVideo(id='SYTaSvW_rpE', width=854, height=480, fs=1)\n",
    "print(\"Video available at https://youtube.com/watch?v=\" + video.id)\n",
    "video"
   ]
  },
  {
   "cell_type": "markdown",
   "metadata": {
    "colab_type": "text",
    "id": "6Im6Qo6_ykZ2"
   },
   "source": [
    "  \n",
    "We now want compute the posterior using *Bayes rule*, having the mixture of Gaussian as a prior, and a Gaussian likelihood.\n",
    "\n",
    "Using the provided plotting function `my_dynamic_plot`, we'll see how the 'fat-tails' of the Gaussian mixture affects the linearity of the posterior mode as a function of the stimulus position.\n",
    "\n",
    "**Suggestions**\n",
    "\n",
    "   Using the Gaussian mixture from exercise 1 as a prior:\n",
    "\n",
    "* Allow the mean of the Gaussian likelihood to vary from -8 to 8 in steps of 0.2 degree, keeping $\\sigma$ of the visual stimuli to 1.\n",
    "* In a loop, calculate the posterior for each visual stimulus, and call the `my_dynamic_plot` function to plot it.\n",
    "* Calculate the mode of the posterior and plot it against the visual stimulus mean. \n",
    "   \n",
    "What do you observe?"
   ]
  },
  {
   "cell_type": "markdown",
   "metadata": {
    "colab_type": "text",
    "id": "HUTTKYxD0uwl"
   },
   "source": [
    "**Helper function(s)**\n"
   ]
  },
  {
   "cell_type": "code",
   "execution_count": 9,
   "metadata": {
    "colab": {
     "base_uri": "https://localhost:8080/",
     "height": 289
    },
    "colab_type": "code",
    "id": "xDaFl66N0uwn",
    "outputId": "8b1d40e8-2773-4503-8652-1a5a822fd9b3"
   },
   "outputs": [
    {
     "name": "stdout",
     "output_type": "stream",
     "text": [
      "Help on function my_dynamic_plot in module __main__:\n",
      "\n",
      "my_dynamic_plot(x, prior, likelihood, posterior_pointwise)\n",
      "    DO NOT EDIT THIS FUNCTION !!!\n",
      "    \n",
      "    Plots the prior, likelihood and posterior distributions and update the figure\n",
      "    \n",
      "    Args: \n",
      "      x (numpy array of floats):         points at which the likelihood has been evaluated\n",
      "      auditory (numpy array of floats):  normalized probabilities for auditory likelihood evaluated at each `x`\n",
      "      visual (numpy array of floats):    normalized probabilities for visual likelihood evaluated at each `x`\n",
      "      posterior (numpy array of floats): normalized probabilities for the posterior evaluated at each `x`\n",
      "      \n",
      "    Returns: \n",
      "      Nothing\n",
      "\n"
     ]
    }
   ],
   "source": [
    "help(my_dynamic_plot)"
   ]
  },
  {
   "cell_type": "markdown",
   "metadata": {
    "colab_type": "text",
    "id": "e4Jq2rczSm1M"
   },
   "source": [
    "###Exercise 2"
   ]
  },
  {
   "cell_type": "code",
   "execution_count": 10,
   "metadata": {
    "cellView": "code",
    "colab": {},
    "colab_type": "code",
    "id": "GPXs4v9hK2o6"
   },
   "outputs": [],
   "source": [
    "x = np.arange(-10, 11, 0.1)\n",
    "\n",
    "visual_mean = np.arange(-8, 9, 0.2)\n",
    "visual_sigma  = 1.\n",
    "\n",
    "###############################################################################\n",
    "## Insert your code here to:\n",
    "##        Use the Gaussian mixture of Exercise 1 as your prior\n",
    "##        Create a Gaussian Likelihood with sigma = 1, and mean varying from -8 to 9 in increments of 0.2 Degrees\n",
    "##        Calculate the posterior by multiplying (pointwise) the 'auditory' and 'visual' gaussians\n",
    "##        (Hint: Do not forget to normalise the gaussians before plotting them)\n",
    "##        plot the distributions using the function `my_dynamic_plot`\n",
    "##        plot the posterior mode as a function of visual's mean\n",
    "###############################################################################\n"
   ]
  },
  {
   "cell_type": "markdown",
   "metadata": {
    "colab": {
     "base_uri": "https://localhost:8080/",
     "height": 864
    },
    "colab_type": "text",
    "id": "UMF49RVKykZ3",
    "outputId": "9d8d8815-db28-452f-ba0a-835f53297b66"
   },
   "source": [
    "[*Click for solution*](https://github.com/NeuromatchAcademy/course-content/tree/master//tutorials/W2D1_BayesianStatistics/solutions/W2D1_Tutorial2_Solution_9b5af403.py)\n",
    "\n",
    "*Example output:*\n",
    "\n",
    "<img alt='Solution hint' align='left' width=559 height=849 src=https://raw.githubusercontent.com/NeuromatchAcademy/course-content/master/tutorials/W2D1_BayesianStatistics/static/W2D1_Tutorial2_Solution_9b5af403_0.png>\n",
    "\n"
   ]
  },
  {
   "cell_type": "markdown",
   "metadata": {
    "colab_type": "text",
    "id": "SJsuAGnG1kgN"
   },
   "source": [
    "<img src=\"https://github.com/NeuromatchAcademy/course-content/raw/master/tutorials/static/sample_output.png\"/>\n",
    "\n",
    "<img width=\"450px\" src=\"https://github.com/NeuromatchAcademy/course-content/raw/master/tutorials/Bayes/Expected_outputs/Student_BayesDay_Tutorial_2_fig_2.jpg\"/>"
   ]
  },
  {
   "cell_type": "markdown",
   "metadata": {
    "colab_type": "text",
    "id": "SiOy3lte1z1t"
   },
   "source": [
    "---\n",
    "## c. Creating a prior matrix"
   ]
  },
  {
   "cell_type": "markdown",
   "metadata": {
    "colab_type": "text",
    "id": "2eO6x8Q6Zh5I"
   },
   "source": [
    "  \n",
    "We now want to create a prior matrix using the mixture of gaussians prior created in exercise 1. We do this because it will help us visualize graphically what is being represented and computed at each step of the inference process (this will be particularly useful in later exercises).\n",
    "\n",
    "**Suggestions**\n",
    "\n",
    "  Using the prior you defined in Exercise 1 and the range `x=[-10,10]` present in your code : \n",
    "* The first row of your prior matrix will be your prior defined in Ex1.\n",
    "* Now repeat that row prior 20 times to make a matrix of 20 row-priors.\n",
    "* Plot the matrix using the function `plot_mymatrix()` already pre-written in your script\n",
    "  - `plot_mymatrix()` has row 0 at the bottom, and row 20 at the top"
   ]
  },
  {
   "cell_type": "markdown",
   "metadata": {
    "colab_type": "text",
    "id": "Fu_MU3cIZ35n"
   },
   "source": [
    "**Helper function**"
   ]
  },
  {
   "cell_type": "code",
   "execution_count": 12,
   "metadata": {
    "colab": {
     "base_uri": "https://localhost:8080/",
     "height": 306
    },
    "colab_type": "code",
    "id": "ABLs7SnnZ26X",
    "outputId": "01f720f0-c03e-4d65-85f4-6fe324e3b16c"
   },
   "outputs": [
    {
     "name": "stdout",
     "output_type": "stream",
     "text": [
      "Help on function plot_mymatrix in module __main__:\n",
      "\n",
      "plot_mymatrix(x, matrix, xlabel, ylabel, title)\n",
      "    DO NOT EDIT THIS FUNCTION !!!\n",
      "    \n",
      "    Plots a matrix\n",
      "    \n",
      "    Args : \n",
      "      x (numpy array of floats): values where matrix is evaluated\n",
      "      matrix (numpy array of floats) \n",
      "      xlabel (string) : label of x-axis\n",
      "      ylabel (string) : label of y-axis\n",
      "      title  (string) : title of plot\n",
      "    \n",
      "    Returns:\n",
      "      None\n",
      "\n"
     ]
    }
   ],
   "source": [
    "help(plot_mymatrix)"
   ]
  },
  {
   "cell_type": "markdown",
   "metadata": {
    "colab_type": "text",
    "id": "6JVJiOWqS7Zq"
   },
   "source": [
    "###Exercise 3"
   ]
  },
  {
   "cell_type": "code",
   "execution_count": 13,
   "metadata": {
    "cellView": "code",
    "colab": {},
    "colab_type": "code",
    "id": "ClzN22BrZmEi"
   },
   "outputs": [],
   "source": [
    "x = np.arange(-10, 11, 1)\n",
    "\n",
    "##############################################################################\n",
    "## Insert your code here to:\n",
    "##        Create a Gaussian prior made of two Gaussian\n",
    "##        Both with mu = 0 and sigma 0.5 and 3 respectively\n",
    "##        Make the combined prior (made of the two Gaussians) by weighing it\n",
    "##        using a mixing parameter alpha = 0.05 such that the peakier Gaussian has\n",
    "##        weight 30%\n",
    "##        This mixture will make up the first row of your matrix\n",
    "##        Now repeat this row-prior 20 times, to make up a Prior matrix of 20 identical row-priors (use the `np.tile()` function)\n",
    "##        Plot the Prior Matrix using the function `plt.pcolor` and the code snippet provided below\n",
    "###############################################################################\n",
    "\n",
    "# Uncomment once the task (steps above) is complete\n",
    "# plot_mymatrix(x, prior_matrix, 'Orientation (Degree)', 'Repetitions', 'Prior Matrix')\n"
   ]
  },
  {
   "cell_type": "markdown",
   "metadata": {
    "colab": {
     "base_uri": "https://localhost:8080/",
     "height": 416
    },
    "colab_type": "text",
    "id": "vIxkI4JtZnDq",
    "outputId": "4a683984-4bd6-4b19-d897-2ad8f80024f3"
   },
   "source": [
    "[*Click for solution*](https://github.com/NeuromatchAcademy/course-content/tree/master//tutorials/W2D1_BayesianStatistics/solutions/W2D1_Tutorial2_Solution_d9bf9f48.py)\n",
    "\n",
    "*Example output:*\n",
    "\n",
    "<img alt='Solution hint' align='left' width=581 height=412 src=https://raw.githubusercontent.com/NeuromatchAcademy/course-content/master/tutorials/W2D1_BayesianStatistics/static/W2D1_Tutorial2_Solution_d9bf9f48_0.png>\n",
    "\n"
   ]
  },
  {
   "cell_type": "markdown",
   "metadata": {
    "colab_type": "text",
    "id": "vAhQ3rRr1kgV"
   },
   "source": [
    "<img src=\"https://github.com/NeuromatchAcademy/course-content/raw/master/tutorials/static/sample_output.png\"/>\n",
    "\n",
    "<img width=\"450px\" src=\"https://github.com/NeuromatchAcademy/course-content/raw/master/tutorials/Bayes/Expected_outputs/Student_BayesDay_Tutorial_2_fig_3.jpg\"/>"
   ]
  },
  {
   "cell_type": "markdown",
   "metadata": {
    "colab_type": "text",
    "id": "dmKipz4V4hhh"
   },
   "source": [
    "---\n",
    "## d. Creating a likelihood matrix"
   ]
  },
  {
   "cell_type": "markdown",
   "metadata": {
    "colab_type": "text",
    "id": "BS515ZBMbuwa"
   },
   "source": [
    "    \n",
    "We now want to create a likelihood matrix that is made up of a Gaussian on each row of the matrix. Each row represents a different trial, with a different stimulus offset (i.e. a different likelihood mean).\n",
    "\n",
    "**Suggestions**\n",
    "\n",
    "  Using the equation for the un-normalised Gaussian `my_gaussian`:\n",
    "* Allow the mean of the Gaussian likelihood to vary in 21 steps spaced linearly between from -8 to 8 degree, keeping $\\sigma$ of the visual stimuli to 1.\n",
    "* Each likelihood with a different mean will make up a different row-likelihood of your matrix, such that you end up with a likelihood matrix made up of 20 row-Gaussians with different means\n",
    "* Plot the matrix using the function `plot_mymatrix()` already pre-written and commented-out in your script\n",
    "  - `plot_mymatrix()` has row 0 at the bottom, and row 20 at the top"
   ]
  },
  {
   "cell_type": "markdown",
   "metadata": {
    "colab_type": "text",
    "id": "CGt5H3DBUtSZ"
   },
   "source": [
    "###Exercise 4"
   ]
  },
  {
   "cell_type": "code",
   "execution_count": 15,
   "metadata": {
    "cellView": "code",
    "colab": {},
    "colab_type": "code",
    "id": "b265fg7jbRoC"
   },
   "outputs": [],
   "source": [
    "visual_mean = np.linspace(-8, 8, x.shape[0]-1)\n",
    "visual_sigma  = 2\n",
    "likelihood_matrix = np.zeros_like(prior_matrix)\n",
    "\n",
    "###############################################################################\n",
    "## Insert your code here to:\n",
    "##        Create a Gaussian Likelihood with sigma = 1, and mean varying from -8 to 9 in 21 equally spaced steps (use `np.linspace()` function)\n",
    "##        Each of the Gaussian Likelihood with a different mean will make up a different 'trial' and hence a different row of your matrix\n",
    "##        Fill in your matrix with the 20 different Gaussian likelihoods (i.e. 20 trials)\n",
    "##        Plot the Likelihood Matrix using the function `plt.pcolor` and the code snippet provided below\n",
    "###############################################################################\n",
    "\n",
    "# Uncomment once the task (steps above) is complete\n",
    "# plot_mymatrix(x, likelihood_matrix, 'Orientation (Degree)', 'Repetitions', 'Likelihood Matrix')\n"
   ]
  },
  {
   "cell_type": "markdown",
   "metadata": {
    "colab": {
     "base_uri": "https://localhost:8080/",
     "height": 416
    },
    "colab_type": "text",
    "id": "m9IO7FhGb_Cl",
    "outputId": "a6c868ed-df4c-4276-c617-08a2950c755a"
   },
   "source": [
    "[*Click for solution*](https://github.com/NeuromatchAcademy/course-content/tree/master//tutorials/W2D1_BayesianStatistics/solutions/W2D1_Tutorial2_Solution_e4291715.py)\n",
    "\n",
    "*Example output:*\n",
    "\n",
    "<img alt='Solution hint' align='left' width=598 height=412 src=https://raw.githubusercontent.com/NeuromatchAcademy/course-content/master/tutorials/W2D1_BayesianStatistics/static/W2D1_Tutorial2_Solution_e4291715_0.png>\n",
    "\n"
   ]
  },
  {
   "cell_type": "markdown",
   "metadata": {
    "colab_type": "text",
    "id": "l272ITiq1kgc"
   },
   "source": [
    "<img src=\"https://github.com/NeuromatchAcademy/course-content/raw/master/tutorials/static/sample_output.png\"/>\n",
    "\n",
    "<img width=\"450px\" src=\"https://github.com/NeuromatchAcademy/course-content/raw/master/tutorials/Bayes/Expected_outputs/Student_BayesDay_Tutorial_2_fig_4.jpg\"/>"
   ]
  },
  {
   "cell_type": "markdown",
   "metadata": {
    "colab_type": "text",
    "id": "ZXMeNKWg5HBl"
   },
   "source": [
    "---\n",
    "## e. Creating a posterior matrix"
   ]
  },
  {
   "cell_type": "markdown",
   "metadata": {
    "colab_type": "text",
    "id": "Rc5xpL6wcImW"
   },
   "source": [
    "We now want to create the Posterior matrix. To do so, we will compute the posterior using *Bayes rule* for each trial (i.e. row wise).\n",
    "\n",
    "That is, each row of the posterior matrix will be the posterior resulting from the multiplication of the prior and likelihood of the equivalent row.\n",
    "\n",
    "Mathematically:\n",
    "\n",
    "\\begin{eqnarray}\n",
    "    Posterior\\left[i, :\\right] \\propto Likelihood\\left[i, :\\right] \\odot Prior\\left[i, :\\right]\n",
    "\\end{eqnarray}\n",
    "\n",
    "where $\\odot$ represent the [Hadamard Product](https://en.wikipedia.org/wiki/Hadamard_product_(matrices)) (i.e. the element_wise multiplication) of the Prior and Likelihood row vectors `i` from the matrix.\n",
    "\n",
    "**Suggestions**\n",
    "\n",
    "* For each row (trial) of the Prior and Likelihood matrix, calculate posterior and fill in the Posterior matrix, such that each row of the Posterior matrix represents the posterior for a different trial.\n",
    "* Plot the matrix using the function `plot_mymatrix` already pre-written and commented-out in your script\n",
    "\n",
    "  - `plot_mymatrix()` has row 0 at the bottom, and row 20 at the top"
   ]
  },
  {
   "cell_type": "markdown",
   "metadata": {
    "colab_type": "text",
    "id": "4hW6uAOpVK2a"
   },
   "source": [
    "###Exercise 5"
   ]
  },
  {
   "cell_type": "code",
   "execution_count": 17,
   "metadata": {
    "cellView": "code",
    "colab": {},
    "colab_type": "code",
    "id": "skouN9tZcKHQ"
   },
   "outputs": [],
   "source": [
    "posterior_matrix = np.zeros_like(likelihood_matrix)\n",
    "\n",
    "###############################################################################\n",
    "## Insert your code here to:\n",
    "##        For each row of the Prior & Likelihood Matrices, calculate the resulting posterior \n",
    "##        Fill the Posterior Matrix with the row_posterior\n",
    "##        Plot the Posterior Matrix using the function `plt.pcolor` and the code snippet provided below\n",
    "###############################################################################\n",
    "\n",
    "# Uncomment once the task (steps above) is complete\n",
    "#plot_mymatrix(x, posterior_matrix, 'Orientation (Degree)', 'Repetitions', 'Posterior Matrix')\n"
   ]
  },
  {
   "cell_type": "markdown",
   "metadata": {
    "colab": {
     "base_uri": "https://localhost:8080/",
     "height": 416
    },
    "colab_type": "text",
    "id": "Fr0XpGK-cNPS",
    "outputId": "f0a7036f-c3af-4103-f591-0cfe29cac58a"
   },
   "source": [
    "[*Click for solution*](https://github.com/NeuromatchAcademy/course-content/tree/master//tutorials/W2D1_BayesianStatistics/solutions/W2D1_Tutorial2_Solution_4e129f5a.py)\n",
    "\n",
    "*Example output:*\n",
    "\n",
    "<img alt='Solution hint' align='left' width=581 height=412 src=https://raw.githubusercontent.com/NeuromatchAcademy/course-content/master/tutorials/W2D1_BayesianStatistics/static/W2D1_Tutorial2_Solution_4e129f5a_0.png>\n",
    "\n"
   ]
  },
  {
   "cell_type": "markdown",
   "metadata": {
    "colab_type": "text",
    "id": "2TnrCAR61kgp"
   },
   "source": [
    "<img src=\"https://github.com/NeuromatchAcademy/course-content/raw/master/tutorials/static/sample_output.png\"/>\n",
    "\n",
    "<img width=\"450px\" src=\"https://github.com/NeuromatchAcademy/course-content/raw/master/tutorials/Bayes/Expected_outputs/Student_BayesDay_Tutorial_2_fig_5.jpg\"/>"
   ]
  },
  {
   "cell_type": "markdown",
   "metadata": {
    "colab_type": "text",
    "id": "rZs7TiJN5fUJ"
   },
   "source": [
    "---\n",
    "## f. Creating a binary decision matrix"
   ]
  },
  {
   "cell_type": "markdown",
   "metadata": {
    "colab_type": "text",
    "id": "jqHxlXJtcsXN"
   },
   "source": [
    "The subjects are asked to report one location rather than the whole posterior distribution. To do so, we're going to synthesize the posterior distribution to a point estimate (its mode), the point at which the posterior distribution is largest. \n",
    "\n",
    "In this exercise, we now want to create a binary decision matrix. To do so, we will scan the posterior matrix (i.e. row_wise), and set the matrix cell to 1 at the mode (peak) of the row posterior.\n",
    "\n",
    "This, effectively encodes the *decision* that a participant may make on a given trial (i.e. row). In this case, the modelled decision rule is to take the mode of the posterior on each trial (that is, our model makes the assumption that a participant would 'respond' with the mode of their posterior).\n",
    "\n",
    "**Suggestions**\n",
    "\n",
    "* Create a matrix of the same size as the Posterior matrix and fill it with zeros (Hint: use `np.zeros_like()`).\n",
    "* For each row (trial) of the Posterior matrix, calculate the mode of the posterior, and set the corresponding cell of the Binary Decision Matrix to 1. (e.g. if the mode of the posterior is at position 0, then set the cell with x_column == 0 to 1).\n",
    "* Plot the matrix using the function `plot_mymatrix()` already pre-written and commented-out in your script\n",
    "  - `plot_mymatrix()` has row 0 at the bottom, and row 20 at the top"
   ]
  },
  {
   "cell_type": "markdown",
   "metadata": {
    "colab_type": "text",
    "id": "M2RNTnHDVoAd"
   },
   "source": [
    "###Exercise 6"
   ]
  },
  {
   "cell_type": "code",
   "execution_count": 19,
   "metadata": {
    "cellView": "code",
    "colab": {},
    "colab_type": "code",
    "id": "czxaJcVtcvLL"
   },
   "outputs": [],
   "source": [
    "binary_decision_matrix = np.zeros_like(posterior_matrix)\n",
    "\n",
    "###############################################################################\n",
    "## Insert your code here to:\n",
    "##        Create a matrix of the same size as the Posterior matrix and fill it with zeros (Hint: use np.zeros_like())\n",
    "##        For each row of the Posterior Matrix, calculate the mode of the posterior, and set the corresponding cell of the Binary Decision Matrix to 1. \n",
    "##        Plot the Binary Decision Matrix using the function `plt.pcolor` and the code snippet provided below\n",
    "###############################################################################\n",
    "\n",
    "# Uncomment once the task (steps above) is complete\n",
    "# plot_mymatrix(x, binary_decision_matrix, 'Orientation (Degree)', 'Repetitions', 'Binary Decision Matrix')\n"
   ]
  },
  {
   "cell_type": "markdown",
   "metadata": {
    "colab": {
     "base_uri": "https://localhost:8080/",
     "height": 416
    },
    "colab_type": "text",
    "id": "0ofpoRL9czJx",
    "outputId": "7d751ca3-859d-4b64-9619-d83aaaf98495"
   },
   "source": [
    "[*Click for solution*](https://github.com/NeuromatchAcademy/course-content/tree/master//tutorials/W2D1_BayesianStatistics/solutions/W2D1_Tutorial2_Solution_e8c610f7.py)\n",
    "\n",
    "*Example output:*\n",
    "\n",
    "<img alt='Solution hint' align='left' width=581 height=412 src=https://raw.githubusercontent.com/NeuromatchAcademy/course-content/master/tutorials/W2D1_BayesianStatistics/static/W2D1_Tutorial2_Solution_e8c610f7_0.png>\n",
    "\n"
   ]
  },
  {
   "cell_type": "markdown",
   "metadata": {
    "colab_type": "text",
    "id": "KMDzUatw1kg0"
   },
   "source": [
    "<img src=\"https://github.com/NeuromatchAcademy/course-content/raw/master/tutorials/static/sample_output.png\"/>\n",
    "\n",
    "<img width=\"450px\" src=\"https://github.com/NeuromatchAcademy/course-content/raw/master/tutorials/Bayes/Expected_outputs/Student_BayesDay_Tutorial_2_fig_6.jpg\"/>"
   ]
  },
  {
   "cell_type": "code",
   "execution_count": 21,
   "metadata": {
    "cellView": "form",
    "colab": {
     "base_uri": "https://localhost:8080/",
     "height": 518
    },
    "colab_type": "code",
    "id": "B8itfnz_4VV_",
    "outputId": "a364cd28-67aa-48d0-c290-7dbc70da8701"
   },
   "outputs": [
    {
     "name": "stdout",
     "output_type": "stream",
     "text": [
      "Video available at https://youtube.com/watch?v=YIFGXOsi0_A\n"
     ]
    },
    {
     "data": {
      "image/jpeg": "[encoded data removed]",
      "text/html": [
       "\n",
       "        <iframe\n",
       "            width=\"854\"\n",
       "            height=\"480\"\n",
       "            src=\"https://www.youtube.com/embed/YIFGXOsi0_A?fs=1\"\n",
       "            frameborder=\"0\"\n",
       "            allowfullscreen\n",
       "        ></iframe>\n",
       "        "
      ],
      "text/plain": [
       "<IPython.lib.display.YouTubeVideo at 0x7f94219e2790>"
      ]
     },
     "execution_count": 21,
     "metadata": {},
     "output_type": "execute_result"
    }
   ],
   "source": [
    "#@title Video: Outro\n",
    "video = YouTubeVideo(id='YIFGXOsi0_A', width=854, height=480, fs=1)\n",
    "print(\"Video available at https://youtube.com/watch?v=\" + video.id)\n",
    "video"
   ]
  },
  {
   "cell_type": "code",
   "execution_count": 21,
   "metadata": {
    "colab": {},
    "colab_type": "code",
    "id": "Zn4C2ywl63mA"
   },
   "outputs": [],
   "source": []
  }
 ],
 "metadata": {
  "colab": {
   "collapsed_sections": [],
   "include_colab_link": true,
   "name": "NeuromatchAcademy_W2D1_Tutorial2",
   "provenance": [],
   "toc_visible": true
  },
  "kernelspec": {
   "display_name": "Python 3",
   "language": "python",
   "name": "python3"
  },
  "language_info": {
   "codemirror_mode": {
    "name": "ipython",
    "version": 3
   },
   "file_extension": ".py",
   "mimetype": "text/x-python",
   "name": "python",
   "nbconvert_exporter": "python",
   "pygments_lexer": "ipython3",
   "version": "3.7.7"
  }
 },
 "nbformat": 4,
 "nbformat_minor": 0
}
