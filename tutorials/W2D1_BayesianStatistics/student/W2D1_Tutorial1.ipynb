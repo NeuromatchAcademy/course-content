{
 "cells": [
  {
   "cell_type": "markdown",
   "metadata": {
    "colab_type": "text",
    "id": "view-in-github"
   },
   "source": [
    "<a href=\"https://colab.research.google.com/github/NeuromatchAcademy/course-content/blob/master/tutorials/W2D1_BayesianStatistics/W2D1_Tutorial1.ipynb\" target=\"_parent\"><img src=\"https://colab.research.google.com/assets/colab-badge.svg\" alt=\"Open In Colab\"/></a>"
   ]
  },
  {
   "cell_type": "markdown",
   "metadata": {
    "colab_type": "text",
    "id": "YL2_mjdRyaSg"
   },
   "source": [
    "# Neuromatch Academy: Week 2, Day 1, Tutorial 1\n",
    "# Bayes rule with Gaussians\n",
    "\n",
    "**Tutorial Lecturer:** *Konrad Kording*\n",
    "\n",
    "**Tutorial Content Creator:** *Vincent Valton*"
   ]
  },
  {
   "cell_type": "markdown",
   "metadata": {
    "colab_type": "text",
    "id": "erXKPTRakFsK"
   },
   "source": [
    "## Introduction\n"
   ]
  },
  {
   "cell_type": "code",
   "execution_count": 1,
   "metadata": {
    "cellView": "form",
    "colab": {
     "base_uri": "https://localhost:8080/",
     "height": 518
    },
    "colab_type": "code",
    "id": "e63KDGa13vMj",
    "outputId": "86eacb6c-5774-4088-8101-6f058ee7c8b5"
   },
   "outputs": [
    {
     "name": "stdout",
     "output_type": "stream",
     "text": [
      "Video available at https://youtube.com/watch?v=wbZ60vdnoqw\n"
     ]
    },
    {
     "data": {
      "image/jpeg": "[encoded data removed]",
      "text/html": [
       "\n",
       "        <iframe\n",
       "            width=\"854\"\n",
       "            height=\"480\"\n",
       "            src=\"https://www.youtube.com/embed/wbZ60vdnoqw?fs=1\"\n",
       "            frameborder=\"0\"\n",
       "            allowfullscreen\n",
       "        ></iframe>\n",
       "        "
      ],
      "text/plain": [
       "<IPython.lib.display.YouTubeVideo at 0x7f630c523e10>"
      ]
     },
     "execution_count": 1,
     "metadata": {},
     "output_type": "execute_result"
    }
   ],
   "source": [
    "#@title Video: Intro\n",
    "from IPython.display import YouTubeVideo\n",
    "video = YouTubeVideo(id='wbZ60vdnoqw', width=854, height=480, fs=1)\n",
    "print(\"Video available at https://youtube.com/watch?v=\" + video.id)\n",
    "video"
   ]
  },
  {
   "cell_type": "markdown",
   "metadata": {
    "colab_type": "text",
    "id": "JTnwS5ZOyaSm"
   },
   "source": [
    "---\n",
    "\n",
    "In this notebook we'll look at using *Bayes rule* with *Gaussian distributions*. That is, given a prior probability distribution, and a likelihood distribution, we will compute the posterior using Bayes rule and play with different likelihoods and Priors to get a good intuition of how it affects the posterior distribution.  \n",
    "\n",
    "This is an example of a normative model. We assume that behavior has to deal with uncertainty and ask which behavior would be optimal. We can then ask if people show behavior that is similar to this optimal behavior. \n",
    "\n",
    "in the coming exercises, we will:\n",
    "    \n",
    "1. Implement a Gaussian prior\n",
    "1. Given Bayes rule, a Gaussian likelihood and prior, calculate the posterior distribution.\n",
    "1. Change the likelihood mean and variance and observe how posterior changes.\n",
    "1. Advanced (*optional*): Observe what happens if the prior is a mixture of two gaussians?\n",
    "---"
   ]
  },
  {
   "cell_type": "markdown",
   "metadata": {
    "colab_type": "text",
    "id": "JgF7_zvb8d0C"
   },
   "source": [
    "## Setup  \n",
    "Please execute the cell below to initialize the notebook environment."
   ]
  },
  {
   "cell_type": "code",
   "execution_count": 2,
   "metadata": {
    "colab": {},
    "colab_type": "code",
    "id": "KOz4tuF9CEup"
   },
   "outputs": [],
   "source": [
    "# imports\n",
    "\n",
    "import time                        # import time \n",
    "import numpy as np                 # import numpy\n",
    "import scipy as sp                 # import scipy\n",
    "import math                        # import basic math functions\n",
    "import random                      # import basic random number generator functions\n",
    "import os\n",
    "\n",
    "import matplotlib.pyplot as plt    # import matplotlib\n",
    "from IPython import display\n"
   ]
  },
  {
   "cell_type": "code",
   "execution_count": 3,
   "metadata": {
    "cellView": "form",
    "colab": {},
    "colab_type": "code",
    "id": "2wOIfj-UCUJ6"
   },
   "outputs": [],
   "source": [
    "#@title Figure Settings\n",
    "fig_w, fig_h = (8, 6)\n",
    "plt.rcParams.update({'figure.figsize': (fig_w, fig_h)})\n",
    "plt.style.use('ggplot')\n",
    "\n",
    "%matplotlib inline\n",
    "%config InlineBackend.figure_format = 'retina'\n"
   ]
  },
  {
   "cell_type": "code",
   "execution_count": 4,
   "metadata": {
    "cellView": "form",
    "colab": {},
    "colab_type": "code",
    "id": "m-zOvZtK8mmd"
   },
   "outputs": [],
   "source": [
    "#@title Helper functions\n",
    "\n",
    "def my_plot_single(x, px):\n",
    "    \"\"\"\n",
    "    Plots normalized Gaussian distribution\n",
    "    \n",
    "    Args:\n",
    "        x (numpy array of floats):         points at which the likelihood has been evaluated\n",
    "        px (numpy array of floats):    normalized probabilities for prior evaluated at each `x`\n",
    "             \n",
    "    Returns:\n",
    "        Nothing.\n",
    "    \"\"\"\n",
    "    if px is None:\n",
    "        px = np.zeros_like(x)\n",
    "\n",
    "    plt.plot(x, px, '-', color='xkcd:green', LineWidth=2, label='Prior')\n",
    "    plt.legend()\n",
    "    plt.ylabel('Probability')\n",
    "    plt.xlabel('Orientation (Degrees)')\n",
    "\n",
    "\n",
    "def my_plot(x, auditory=None, visual=None, posterior_pointwise=None):\n",
    "    \"\"\"\n",
    "    Plots normalized Gaussian distributions and posterior \n",
    "    \n",
    "    Args:\n",
    "        x (numpy array of floats):         points at which the likelihood has been evaluated\n",
    "        auditory (numpy array of floats):  normalized probabilities for auditory likelihood evaluated at each `x`\n",
    "        visual (numpy array of floats):    normalized probabilities for visual likelihood evaluated at each `x`\n",
    "        posterior (numpy array of floats): normalized probabilities for the posterior evaluated at each `x`\n",
    "             \n",
    "    Returns:\n",
    "        Nothing.\n",
    "    \"\"\"\n",
    "    if auditory is None:\n",
    "        auditory = np.zeros_like(x)\n",
    "\n",
    "    if visual is None:\n",
    "        visual = np.zeros_like(x)\n",
    "\n",
    "    if posterior_pointwise is None:\n",
    "        posterior_pointwise = np.zeros_like(x)\n",
    "\n",
    "    plt.plot(x, auditory, '-r', LineWidth=2, label='Auditory')\n",
    "    plt.plot(x, visual, '-b', LineWidth=2, label='Visual')\n",
    "    plt.plot(x, posterior_pointwise, '-g', LineWidth=2, label='Posterior')\n",
    "    plt.legend()\n",
    "    plt.ylabel('Probability')\n",
    "    plt.xlabel('Orientation (Degrees)')\n",
    "\n",
    "\n",
    "def plot_visual(mu_visuals, mu_posteriors, max_posteriors):\n",
    "    \"\"\"\n",
    "    Plots the comparison of computing the mean of the posterior analytically and\n",
    "    the max of the posterior empirically via multiplication.\n",
    "    \n",
    "    Args:\n",
    "        mu_visuals (numpy array of floats): means of the visual likelihood\n",
    "        mu_posteriors (numpy array of floats):  means of the posterior, calculated analytically\n",
    "        max_posteriors (numpy array of floats): max of the posteriors, calculated via maxing the max_posteriors.\n",
    "        posterior (numpy array of floats): normalized probabilities for the posterior evaluated at each `x`\n",
    "        \n",
    "    Returns:\n",
    "        Nothing.\n",
    "    \"\"\"\n",
    "    fig = plt.figure(figsize=(fig_w, 2*fig_h))\n",
    "\n",
    "    plt.subplot(211)\n",
    "    plt.plot(mu_visuals, max_posteriors,'-g', label='argmax')\n",
    "    plt.xlabel('Visual stimulus position')\n",
    "    plt.ylabel('Multiplied max of position')\n",
    "    plt.title('Sample output')\n",
    "    plt.subplot(212)\n",
    "    plt.plot(mu_visuals, mu_posteriors, '--', color='xkcd:gray', label='argmax')\n",
    "    plt.xlabel('Visual stimulus position')\n",
    "    plt.ylabel('Analytical posterior mean')\n",
    "    plt.tight_layout()\n",
    "    plt.title('Hurray for math!')\n",
    "    plt.show()\n",
    "  "
   ]
  },
  {
   "cell_type": "markdown",
   "metadata": {
    "colab_type": "text",
    "id": "h6-SFBNR5An6"
   },
   "source": [
    "## a. Implement a Gaussian\n",
    "\n",
    "In this exercise, you will implement a Gaussian by filling in the missing portion of `my_gaussian` below. Plot it and play with its parameters, because you will need an intuition for how $\\mu$ and $\\sigma$ affect the shape of the Gaussian.  \n",
    "Reminder: the equation for a Gaussian is:\n",
    "\n",
    "\\begin{eqnarray}\n",
    "\\mathcal{N}(\\mu,\\sigma^2) = \\frac{1}{\\sqrt{2\\pi\\sigma^2}}\\exp\\left(\\frac{-(x-\\mu)^2}{2\\sigma^2}\\right)\n",
    "\\end{eqnarray}\n",
    "\n",
    "Later, we will later use this Gaussian as the prior as a function of the angle where the stimulus is coming from. Test out your implementation with a $\\mu = -1$ and $\\sigma = 1$. Then try to change $\\mu$ and $\\sigma$ and see what the results look like."
   ]
  },
  {
   "cell_type": "markdown",
   "metadata": {
    "colab_type": "text",
    "id": "PaHuXmWV6jtu"
   },
   "source": [
    "**Helper function(s)**"
   ]
  },
  {
   "cell_type": "code",
   "execution_count": 5,
   "metadata": {
    "colab": {
     "base_uri": "https://localhost:8080/",
     "height": 221
    },
    "colab_type": "code",
    "id": "f-lhVr8Vint0",
    "outputId": "82a9e41e-90d8-40ed-8554-7f416142b34b"
   },
   "outputs": [
    {
     "name": "stdout",
     "output_type": "stream",
     "text": [
      "Help on function my_plot_single in module __main__:\n",
      "\n",
      "my_plot_single(x, px)\n",
      "    Plots normalized Gaussian distribution\n",
      "    \n",
      "    Args:\n",
      "        x (numpy array of floats):         points at which the likelihood has been evaluated\n",
      "        px (numpy array of floats):    normalized probabilities for prior evaluated at each `x`\n",
      "             \n",
      "    Returns:\n",
      "        Nothing.\n",
      "\n"
     ]
    }
   ],
   "source": [
    "help(my_plot_single)"
   ]
  },
  {
   "cell_type": "markdown",
   "metadata": {
    "colab_type": "text",
    "id": "HkkvOPUN297D"
   },
   "source": [
    "### Exercise 1"
   ]
  },
  {
   "cell_type": "code",
   "execution_count": 6,
   "metadata": {
    "cellView": "code",
    "colab": {},
    "colab_type": "code",
    "id": "ze86GbV86_iT"
   },
   "outputs": [],
   "source": [
    "\n",
    "def my_gaussian(x_points, mu, sigma):\n",
    "    \"\"\"\n",
    "    Returns normalized Gaussian estimated at points `x_points`, with parameters: mean `mu` and std `sigma`\n",
    "    \n",
    "    Args:\n",
    "        x_points (numpy array of floats): points at which the gaussian is evaluated\n",
    "        mu (scalar): mean of the Gaussian\n",
    "        sigma (scalar): std of the gaussian\n",
    "    \n",
    "    Returns: \n",
    "        (numpy array of floats) : normalized Gaussian evaluated at `x`\n",
    "    \"\"\"\n",
    "\n",
    "    ###################################################################\n",
    "    ## Calculate the gaussian as a function of mu and sigma, for each x (incl. hints )\n",
    "    ## Function Hints: exp -> np.exp()\n",
    "    ##                 power -> z**2\n",
    "    ##\n",
    "    ## remove the raise when the function is complete\n",
    "    raise NotImplementedError(\"You need to implement the Gaussian function!\")\n",
    "    ################################################################### \n",
    "\n",
    "x = np.arange(-8, 9, 0.1)\n",
    "\n",
    "# Uncomment once the task (steps above) is complete\n",
    "# px = my_gaussian(x, -1, 1)\n",
    "# my_plot_single(x, px)\n"
   ]
  },
  {
   "cell_type": "markdown",
   "metadata": {
    "colab": {
     "base_uri": "https://localhost:8080/",
     "height": 415
    },
    "colab_type": "text",
    "id": "iBpZQ9Sz7fVy",
    "outputId": "36009e24-9d95-4eea-c3f4-c326f079cad0"
   },
   "source": [
    "[*Click for solution*](https://github.com/NeuromatchAcademy/course-content/tree/master//tutorials/W2D1_BayesianStatistics/solutions/W2D1_Tutorial1_Solution_b97eeff5.py)\n",
    "\n",
    "*Example output:*\n",
    "\n",
    "<img alt='Solution hint' align='left' width=532 height=412 src=https://raw.githubusercontent.com/NeuromatchAcademy/course-content/master/tutorials/W2D1_BayesianStatistics/static/W2D1_Tutorial1_Solution_b97eeff5_0.png>\n",
    "\n"
   ]
  },
  {
   "cell_type": "markdown",
   "metadata": {
    "colab_type": "text",
    "id": "o1zuDTI5-Via"
   },
   "source": [
    "## b. Given Bayes rule, a Gaussian likelihood and prior, calculate the posterior distribution"
   ]
  },
  {
   "cell_type": "code",
   "execution_count": 8,
   "metadata": {
    "cellView": "form",
    "colab": {
     "base_uri": "https://localhost:8080/",
     "height": 518
    },
    "colab_type": "code",
    "id": "kwN71pmo-V_4",
    "outputId": "b22f2a38-8bf8-4635-c042-72520f95f732"
   },
   "outputs": [
    {
     "name": "stdout",
     "output_type": "stream",
     "text": [
      "Video available at https://youtube.com/watch?v=XLATXJci3qQ\n"
     ]
    },
    {
     "data": {
      "image/jpeg": "[encoded data removed]",
      "text/html": [
       "\n",
       "        <iframe\n",
       "            width=\"854\"\n",
       "            height=\"480\"\n",
       "            src=\"https://www.youtube.com/embed/XLATXJci3qQ?fs=1\"\n",
       "            frameborder=\"0\"\n",
       "            allowfullscreen\n",
       "        ></iframe>\n",
       "        "
      ],
      "text/plain": [
       "<IPython.lib.display.YouTubeVideo at 0x7f62edd0cdd0>"
      ]
     },
     "execution_count": 8,
     "metadata": {},
     "output_type": "execute_result"
    }
   ],
   "source": [
    "#@title Video: Bayes' theorem\n",
    "video = YouTubeVideo(id='XLATXJci3qQ', width=854, height=480, fs=1)\n",
    "print(\"Video available at https://youtube.com/watch?v=\" + video.id)\n",
    "video"
   ]
  },
  {
   "cell_type": "markdown",
   "metadata": {
    "colab_type": "text",
    "id": "HB2U9wCNyaSo"
   },
   "source": [
    "\n",
    "\n",
    "Bayes' rule tells us how to combine two sources of information, the prior and the likelihood, to obtain a posterior distribution taking into account both pieces of information. Bayes' rule states:\n",
    "\n",
    "\\begin{eqnarray}\n",
    "\\text{Posterior} = \\frac{ \\text{Likelihood} \\times \\text{Prior}}{ \\text{Normalization constant}}\n",
    "\\end{eqnarray}\n",
    "\n",
    "Mathematically, if both the likelihood and the Prior are Gaussian, this translates into:\n",
    "\n",
    "\\begin{eqnarray}\n",
    "    \\text{Likelihood} = \\mathcal{N}(\\mu_{likelihood},\\sigma_{likelihood}^2) = \\frac{1}{\\sqrt{2\\pi\\sigma^2_{likelihood}}}\\exp\\left(\\frac{-(x-\\mu_{likelihood})^2}{2\\sigma^2_{likelihood}}\\right)\n",
    "\\end{eqnarray}\n",
    "\n",
    "\\begin{eqnarray}\n",
    "    \\text{Prior} = \\mathcal{N}(\\mu_{prior},\\sigma_{prior}^2) = \\frac{1}{\\sqrt{2\\pi\\sigma^2_{prior}}}\\exp\\left(\\frac{-(x-\\mu_{prior})^2}{2\\sigma^2_{prior}}\\right)\n",
    "\\end{eqnarray}\n",
    "\n",
    "\\begin{eqnarray}\n",
    "    \\text{Posterior} \\propto \\mathcal{N}(\\mu_{likelihood},\\sigma_{likelihood}^2) \\times \\mathcal{N}(\\mu_{prior},\\sigma_{prior}^2) = \\mathcal{N}\\left( \\frac{\\sigma^2_{likelihood}\\mu_{prior}+\\sigma^2_{prior}\\mu_{likelihood}}{\\sigma^2_{likelihood}+\\sigma^2_{prior}}, \\frac{\\sigma^2_{likelihood}\\sigma^2_{prior}}{\\sigma^2_{likelihood}+\\sigma^2_{prior}} \\right) \\tag{1}\n",
    "\\end{eqnarray}\n",
    "\n",
    "where $\\mathcal{N}(\\mu,\\sigma^2)$ denotes a Gaussian distribution with parameters $\\mu_{likelihood}$ and $\\sigma^2_{likelihood}$.\n",
    "\n",
    "Note that although there's a closed-form solution for the particular case of two Gaussians (as shown above), we're going to combine them using pointwise multiplication, which works for any family of distributions."
   ]
  },
  {
   "cell_type": "markdown",
   "metadata": {
    "colab_type": "text",
    "id": "yjknQx1EyaSo"
   },
   "source": [
    "### Exercise 2\n",
    "\n",
    "We have a Gaussian auditory Likelihood (in red), and a Gaussian visual prior (in blue), and we want to combine the two to generate our posterior using Bayes rule.\n",
    "\n",
    "We provide you with a ready-to-use plotting function, and a code skeleton.\n",
    "\n",
    "**Suggestions**\n",
    "* Use `my_gaussian` (the answer to exercise 1) to generate an auditory likelihood with parameters $\\mu$ = 3 and $\\sigma$ = 1.5\n",
    "* Similarly, generate a visual prior with parameters $\\mu$ = -1 and $\\sigma$ = 1.5\n",
    "* Calculate the posterior using pointwise multiplication of the likelihood and prior (don't forget to normalize so the posterior adds up to 1)\n",
    "* Plot the likelihood, prior and posterior using the predefined function `my_plot`\n",
    "* Now change the standard deviation ($\\sigma$) of the visual likelihood to 0.5. \n",
    "\n",
    "See how a more precise (tighter) visual prior relative to auditory results in a posterior that is weighted more heavily towards the most precise source of information.\n"
   ]
  },
  {
   "cell_type": "markdown",
   "metadata": {
    "colab_type": "text",
    "id": "tGez8pM66ZZF"
   },
   "source": [
    "**Helper function(s)**"
   ]
  },
  {
   "cell_type": "code",
   "execution_count": 9,
   "metadata": {
    "colab": {
     "base_uri": "https://localhost:8080/",
     "height": 255
    },
    "colab_type": "code",
    "id": "nv_KmmOE5uhK",
    "outputId": "d0b46804-ec11-46b9-c707-97f37c429ca3"
   },
   "outputs": [
    {
     "name": "stdout",
     "output_type": "stream",
     "text": [
      "Help on function my_plot in module __main__:\n",
      "\n",
      "my_plot(x, auditory=None, visual=None, posterior_pointwise=None)\n",
      "    Plots normalized Gaussian distributions and posterior \n",
      "    \n",
      "    Args:\n",
      "        x (numpy array of floats):         points at which the likelihood has been evaluated\n",
      "        auditory (numpy array of floats):  normalized probabilities for auditory likelihood evaluated at each `x`\n",
      "        visual (numpy array of floats):    normalized probabilities for visual likelihood evaluated at each `x`\n",
      "        posterior (numpy array of floats): normalized probabilities for the posterior evaluated at each `x`\n",
      "             \n",
      "    Returns:\n",
      "        Nothing.\n",
      "\n"
     ]
    }
   ],
   "source": [
    "help(my_plot)"
   ]
  },
  {
   "cell_type": "code",
   "execution_count": 10,
   "metadata": {
    "cellView": "code",
    "colab": {},
    "colab_type": "code",
    "id": "KqOpye6JyaSp"
   },
   "outputs": [],
   "source": [
    "# since we will use this function (my_gaussian) throughout the whole tutorial\n",
    "# we provide you the solution to the previous exercise, to avoid any headaches\n",
    "def my_gaussian(x_points, mu, sigma):\n",
    "    \"\"\"\n",
    "    Returns normalized Gaussian estimated at points `x_points`, with parameters: mean `mu` and std `sigma`\n",
    "    \n",
    "    Args:\n",
    "        x_points (numpy array of floats): points at which the gaussian is evaluated\n",
    "        mu (scalar): mean of the Gaussian\n",
    "        sigma (scalar): std of the gaussian\n",
    "    \n",
    "    Returns: \n",
    "        (numpy array of floats) : normalized Gaussian evaluated at `x`\n",
    "    \"\"\"\n",
    "    px = np.exp(- 1/2/sigma**2 * (mu - x) ** 2)\n",
    "\n",
    "    px = px / px.sum() # this is the normalization part with a very strong assumption, that\n",
    "                       # x_points cover the big portion of probability mass around the mean.\n",
    "                       # Please think/discuss when this would be a dangerous assumption.\n",
    "    \n",
    "    return px\n",
    "\n",
    "x = np.arange(-8,9,0.1)\n",
    "\n",
    "mu_auditory = 3\n",
    "sigma_auditory= 1.5\n",
    "mu_visual = -1\n",
    "sigma_visual= 1.5\n",
    "\n",
    "################################################################################\n",
    "## Insert your code here to:\n",
    "##      create a gaussian called 'auditory' with mean 3, and std 1.5\n",
    "##      create a gaussian called 'visual' with mean -1, and std 1.5\n",
    "##      calculate the posterior by multiplying (pointwise) the 'auditory' and 'visual' gaussians\n",
    "##      (Hint: Do not forget to normalise the gaussians before plotting them)\n",
    "##      plot the distributions using the function `my_plot`\n",
    "##\n",
    "## you can use the following variables (conveniently used in the plotting function)\n",
    "#  auditory = ...\n",
    "#  visual = ...\n",
    "#  posterior_pointwise = ...\n",
    "################################################################################\n",
    "\n",
    "# Uncomment once the task (steps above) is complete\n",
    "# my_plot(x, auditory, visual, posterior_pointwise)\n"
   ]
  },
  {
   "cell_type": "markdown",
   "metadata": {
    "colab": {
     "base_uri": "https://localhost:8080/",
     "height": 415
    },
    "colab_type": "text",
    "id": "9dAPRIFuyaSt",
    "outputId": "d9057078-fb11-42b0-a4b3-bb2af7c801d3"
   },
   "source": [
    "[*Click for solution*](https://github.com/NeuromatchAcademy/course-content/tree/master//tutorials/W2D1_BayesianStatistics/solutions/W2D1_Tutorial1_Solution_08217508.py)\n",
    "\n",
    "*Example output:*\n",
    "\n",
    "<img alt='Solution hint' align='left' width=532 height=412 src=https://raw.githubusercontent.com/NeuromatchAcademy/course-content/master/tutorials/W2D1_BayesianStatistics/static/W2D1_Tutorial1_Solution_08217508_0.png>\n",
    "\n"
   ]
  },
  {
   "cell_type": "markdown",
   "metadata": {
    "colab_type": "text",
    "id": "l37e0INGVel5"
   },
   "source": [
    "## d. Change the likelihood mean and variance and observe how posterior changes"
   ]
  },
  {
   "cell_type": "code",
   "execution_count": 12,
   "metadata": {
    "cellView": "form",
    "colab": {
     "base_uri": "https://localhost:8080/",
     "height": 518
    },
    "colab_type": "code",
    "id": "mPzUEexgVNl_",
    "outputId": "8c361128-92b9-42a0-a2a0-1d9ac1810fa4"
   },
   "outputs": [
    {
     "name": "stdout",
     "output_type": "stream",
     "text": [
      "Video available at https://youtube.com/watch?v=LXWPe5_fZzQ\n"
     ]
    },
    {
     "data": {
      "image/jpeg": "[encoded data removed]",
      "text/html": [
       "\n",
       "        <iframe\n",
       "            width=\"854\"\n",
       "            height=\"480\"\n",
       "            src=\"https://www.youtube.com/embed/LXWPe5_fZzQ?fs=1\"\n",
       "            frameborder=\"0\"\n",
       "            allowfullscreen\n",
       "        ></iframe>\n",
       "        "
      ],
      "text/plain": [
       "<IPython.lib.display.YouTubeVideo at 0x7f62ec0c4f50>"
      ]
     },
     "execution_count": 12,
     "metadata": {},
     "output_type": "execute_result"
    }
   ],
   "source": [
    "#@title Video: Multiplying Gaussians\n",
    "video = YouTubeVideo(id='LXWPe5_fZzQ', width=854, height=480, fs=1)\n",
    "print(\"Video available at https://youtube.com/watch?v=\" + video.id)\n",
    "video"
   ]
  },
  {
   "cell_type": "markdown",
   "metadata": {
    "colab_type": "text",
    "id": "6e56uSp4yaSx"
   },
   "source": [
    "\n",
    "   \n",
    "Now that we can compute *Bayes rule* with two *Gaussians*, let's keep the auditory likelihood fixed straight ahead (mean = 0), and play around with the visual stimulus position (mean) to see how that affects the posterior.\n",
    "\n",
    "Observe how the posterior changes as a function of both the position of the likelihood with respect to the prior, and the relative weight of the likelihood with respect to the prior.\n",
    "\n",
    "**Hit the Play button or Ctrl+Enter in the cell below** and play with the sliders to get an intuition for how the means and standard deviations of prior and likelihood influence the posterior."
   ]
  },
  {
   "cell_type": "code",
   "execution_count": 13,
   "metadata": {
    "cellView": "form",
    "colab": {
     "base_uri": "https://localhost:8080/",
     "height": 426,
     "referenced_widgets": [
      "be01581a9716449b824fbf272c08157c",
      "b25e9b513e624d31820c8fd71aafe616",
      "9f737d22cbfe4130af0cf6f70a2d0e87",
      "899d454ba5d34012b80311a4b88f17c1",
      "f61714ab57014c4e80b6347988c68bee",
      "9d0a2348f1ca4dd48f1e4c755bb533d7",
      "9dfdf6aeefa44620a2e48c017cc8e131",
      "2c8c7e3f34f54e958bd469277c312173",
      "18ae4b89c45d4a6d8b444cd6c0079892",
      "60ee6a0777e345b9b4a32c3538946014",
      "50a18d9ae00d49aca711b3ff10f5cf02",
      "e78bfccf5b3244248427d0d5fee0d612",
      "67c0b7cf521a491cbaadf55d5afad87a",
      "872d2b5ea3e54cb992f54479e7371dc6",
      "26a718442edf4a3c8c138db3acdd5067",
      "aae5caf8b8924e71a0b3bf084d540488"
     ]
    },
    "colab_type": "code",
    "id": "xKvQrgFqyaSy",
    "outputId": "7562677d-cd89-4b45-e350-24fd2a23f8d5"
   },
   "outputs": [
    {
     "data": {
      "image/png": "[encoded data removed]",
      "text/plain": [
       "<Figure size 432x288 with 1 Axes>"
      ]
     },
     "metadata": {
      "image/png": {
       "height": 281,
       "width": 394
      },
      "needs_background": "light"
     },
     "output_type": "display_data"
    }
   ],
   "source": [
    "#@title Interactive widget (Make sure to execute this cell)\n",
    "###### MAKE SURE TO RUN THIS CELL VIA THE PLAY BUTTON TO ENABLE SLIDERS ########\n",
    "\n",
    "x = np.arange(-10,11,0.1)\n",
    "\n",
    "import ipywidgets as widgets\n",
    "\n",
    "def refresh(mu_auditory=3, sigma_auditory=1.5, mu_visual=-1, sigma_visual=1.5):\n",
    "    auditory = my_gaussian(x, mu_auditory, sigma_auditory)\n",
    "    visual = my_gaussian(x, mu_visual, sigma_visual)\n",
    "    posterior_pointwise = visual * auditory\n",
    "    posterior_pointwise /= posterior_pointwise.sum()\n",
    "\n",
    "    w_auditory = (sigma_visual** 2) / (sigma_auditory**2 + sigma_visual**2)\n",
    "    theoretical_prediction = mu_auditory * w_auditory + mu_visual * (1 - w_auditory)\n",
    "\n",
    "    plt.plot([theoretical_prediction, theoretical_prediction], \n",
    "            [0, posterior_pointwise.max() * 1.2], '-.', color='xkcd:medium gray')\n",
    "    my_plot(x, auditory, visual, posterior_pointwise)\n",
    "    plt.title('Gray line shows analytical mean of posterior')\n",
    "\n",
    "_ = widgets.interact(refresh, \n",
    "    mu_auditory = (-10, 10, .5),\n",
    "    sigma_auditory= (.5, 10, .5),\n",
    "    mu_visual = (-10, 10, .5),\n",
    "    sigma_visual= (.5, 10, .5))\n"
   ]
  },
  {
   "cell_type": "markdown",
   "metadata": {
    "colab_type": "text",
    "id": "mj9r9QqMNoMQ"
   },
   "source": [
    "## e. Compute the posterior mean as a function of auditory mean\n",
    "\n",
    "We can calculate the mean of the posterior as a function of the paramters of the visual and auditory distributions as follows:\n",
    "\n",
    "$$ \\mu_{posterior} = \\frac{\\mu_{auditory} \\cdot \\frac{1}{\\sigma_{auditory}^2} + \\mu_{visual} \\cdot \\frac{1}{\\sigma_{visual}^2}}{1/\\sigma_{auditory}^2 + 1/\\sigma_{visual}^2} = \\frac{\\mu_{auditory}~\\sigma^2_{visual} + \\mu_{visual}~ \\sigma^2_{auditory}}{\\sigma^2_{auditory} + \\sigma^2_{visual}} $$\n",
    "\n",
    "This is a special case for the mean of a Gaussian ([equation 1](https://colab.research.google.com/drive/1p9Heh8WNiNkiSriNd63uxaGk29w71l2m#scrollTo=HB2U9wCNyaSo&line=20&uniqifier=1)) that we saw in the previous section. Now it's your turn to calculate the mean as a function of different visual inputs:\n",
    "\n",
    "* Keep auditory parameters constant\n",
    "* Sweep through the visual mean `mu_visual`\n",
    "* Compute the analytical posterior mean from auditory and visual using the equation above.\n",
    "* Compute the empirical mode (*Mode* is defined as the most frequently occurring value in a data set, or value with highest probability in a PDF or PMF) of the posterior via multiplication using the `compute_mode_posterior_multiply` function\n",
    "* Plot the analytical posterior mean and the empirical posterior mode as a function of the visual mean."
   ]
  },
  {
   "cell_type": "markdown",
   "metadata": {
    "colab_type": "text",
    "id": "6WlKiTrD6KDB"
   },
   "source": [
    "\n",
    "**Helper function(s)**"
   ]
  },
  {
   "cell_type": "code",
   "execution_count": 14,
   "metadata": {
    "colab": {
     "base_uri": "https://localhost:8080/",
     "height": 272
    },
    "colab_type": "code",
    "id": "ztERK7Hc52U3",
    "outputId": "840b6874-aaae-41ac-a54e-aa0e3ba63f6c"
   },
   "outputs": [
    {
     "name": "stdout",
     "output_type": "stream",
     "text": [
      "Help on function plot_visual in module __main__:\n",
      "\n",
      "plot_visual(mu_visuals, mu_posteriors, max_posteriors)\n",
      "    Plots the comparison of computing the mean of the posterior analytically and\n",
      "    the max of the posterior empirically via multiplication.\n",
      "    \n",
      "    Args:\n",
      "        mu_visuals (numpy array of floats): means of the visual likelihood\n",
      "        mu_posteriors (numpy array of floats):  means of the posterior, calculated analytically\n",
      "        max_posteriors (numpy array of floats): max of the posteriors, calculated via maxing the max_posteriors.\n",
      "        posterior (numpy array of floats): normalized probabilities for the posterior evaluated at each `x`\n",
      "        \n",
      "    Returns:\n",
      "        Nothing.\n",
      "\n"
     ]
    }
   ],
   "source": [
    "help(plot_visual)"
   ]
  },
  {
   "cell_type": "code",
   "execution_count": 15,
   "metadata": {
    "cellView": "code",
    "colab": {},
    "colab_type": "code",
    "id": "UqdWieuNyaS1"
   },
   "outputs": [],
   "source": [
    "mu_auditory = 3\n",
    "sigma_auditory = 1.5\n",
    "mu_visuals = np.linspace(-10, 10)\n",
    "sigma_visual= 1.5\n",
    "\n",
    "def compute_mode_posterior_multiply(x, mu_auditory, sigma_auditory, \n",
    "                                      mu_visual, sigma_visual):\n",
    "    \"\"\"\n",
    "    Computes the mode of the posterior via multiplication.\n",
    "\n",
    "    DO NOT EDIT THIS FUNCTION !!!\n",
    "    \n",
    "    Args:\n",
    "        x (numpy array of floats): \n",
    "        mu_auditory (numpy array of floats): mean of the auditory likelihood\n",
    "        sigma_auditory (numpy array of floats): standard deviation of the auditory likelihood\n",
    "        mu_visual (numpy array of floats): mean of the visual likelihood\n",
    "        sigma_visual (numpy array of floats): standard deviation of the visual likelihood\n",
    "\n",
    "    Returns:\n",
    "        the mode of x\n",
    "    \"\"\"\n",
    "\n",
    "    auditory = my_gaussian(x, mu_auditory, sigma_auditory)\n",
    "    visual = my_gaussian(x, mu_visual, sigma_visual)\n",
    "    posterior_pointwise = auditory * visual\n",
    "    posterior_pointwise /= posterior_pointwise.sum()\n",
    "\n",
    "    return x[posterior_pointwise.argmax()]\n",
    "\n",
    "################################################################################\n",
    "## Insert your code here to:\n",
    "##      sweep through the mu_visuals with a for loop\n",
    "##      compute mu_posterior with the analytical formula in each case\n",
    "##      compute the max of the posterior by multiplying gaussians in each case \n",
    "##          using the compute_mode_posterior_multiply\n",
    "##      plot mu_posterior_analytical as a function of mu_posterior_multiply\n",
    "################################################################################\n"
   ]
  },
  {
   "cell_type": "markdown",
   "metadata": {
    "cellView": "code",
    "colab": {
     "base_uri": "https://localhost:8080/",
     "height": 864
    },
    "colab_type": "text",
    "id": "JAM-cG9rg53X",
    "outputId": "c3f670a0-dbfc-4837-bcd7-e99aa8a3565a"
   },
   "source": [
    "[*Click for solution*](https://github.com/NeuromatchAcademy/course-content/tree/master//tutorials/W2D1_BayesianStatistics/solutions/W2D1_Tutorial1_Solution_fd84cbd0.py)\n",
    "\n",
    "*Example output:*\n",
    "\n",
    "<img alt='Solution hint' align='left' width=559 height=849 src=https://raw.githubusercontent.com/NeuromatchAcademy/course-content/master/tutorials/W2D1_BayesianStatistics/static/W2D1_Tutorial1_Solution_fd84cbd0_0.png>\n",
    "\n"
   ]
  },
  {
   "cell_type": "code",
   "execution_count": 17,
   "metadata": {
    "cellView": "form",
    "colab": {
     "base_uri": "https://localhost:8080/",
     "height": 518
    },
    "colab_type": "code",
    "id": "wZwVsAV7ZpYE",
    "outputId": "112b88f8-e9dc-4944-f908-3b54d98f7d1e"
   },
   "outputs": [
    {
     "name": "stdout",
     "output_type": "stream",
     "text": [
      "Video available at https://youtube.com/watch?v=f-1E9W35hDw\n"
     ]
    },
    {
     "data": {
      "image/jpeg": "[encoded data removed]",
      "text/html": [
       "\n",
       "        <iframe\n",
       "            width=\"854\"\n",
       "            height=\"480\"\n",
       "            src=\"https://www.youtube.com/embed/f-1E9W35hDw?fs=1\"\n",
       "            frameborder=\"0\"\n",
       "            allowfullscreen\n",
       "        ></iframe>\n",
       "        "
      ],
      "text/plain": [
       "<IPython.lib.display.YouTubeVideo at 0x7f62ec053210>"
      ]
     },
     "execution_count": 17,
     "metadata": {},
     "output_type": "execute_result"
    }
   ],
   "source": [
    "#@title Video: Outro\n",
    "video = YouTubeVideo(id='f-1E9W35hDw', width=854, height=480, fs=1)\n",
    "print(\"Video available at https://youtube.com/watch?v=\" + video.id)\n",
    "video"
   ]
  },
  {
   "cell_type": "markdown",
   "metadata": {
    "colab_type": "text",
    "id": "s0IQkuPayaS5"
   },
   "source": [
    "---\n",
    "## f. ADDITIONAL exercise: Multimodal priors\n",
    "\n",
    "**Only do this if the first half-hour has not yet passed.**\n",
    "\n",
    "Bayes rule works similarly for cue combination (auditory + visual) as it would with a prior and likelihood.\n",
    "\n",
    "What do you think is going to happen to the posterior if we were to use a multimodal prior instead of a single Gaussian (i.e. a prior with multiple peaks)?\n",
    "\n",
    "**Suggestions**\n",
    "\n",
    "* Create a bi-modal prior by summing two Gaussians centered on -3 and 3 respectively, with $\\sigma_{prior}$ = 1\n",
    "* Similarly to the previous exercise, allow the mean of the likelihood to vary and plot the prior, likelihood and posterior using the function `my_plot`. \n",
    "   - Observe what happens to the posterior as the likelihood gets closer to the different peaks of the prior.\n",
    "   - Notice what happens to the posterior when the likelihood is exactly in between the two modes of the prior (i.e. $\\mu_{Likelihood}$ = 0)\n",
    "\n",
    "* Plot the mode of the posterior as a function of the visual stimulus mean. \n",
    "   - What to you observe? How does it compare to the previous exercise?"
   ]
  },
  {
   "cell_type": "code",
   "execution_count": 18,
   "metadata": {
    "cellView": "code",
    "colab": {},
    "colab_type": "code",
    "id": "Tzl8NFl3yaS6"
   },
   "outputs": [],
   "source": [
    "x = np.arange(-10, 10, 0.1)\n",
    "\n",
    "mu_visuals = np.arange(-6, 6, 0.1)\n",
    "std_visual  = 1\n",
    "mu1_auditory = -3\n",
    "mu2_auditory = 3\n",
    "std_auditory  = 1\n",
    "\n",
    "################################################################################\n",
    "## Insert your code here\n",
    "## Reuse your code from Exercise 2, but replace the prior with a bimodal prior \n",
    "## by summing two Gaussians with variance = 1, and means [-3, 3] respectively\n",
    "################################################################################\n"
   ]
  },
  {
   "cell_type": "markdown",
   "metadata": {
    "colab": {
     "base_uri": "https://localhost:8080/",
     "height": 865
    },
    "colab_type": "text",
    "id": "F6ov7ISgjGtA",
    "outputId": "70f248ce-392b-470f-e5c5-cd199fcdf9f2"
   },
   "source": [
    "[*Click for solution*](https://github.com/NeuromatchAcademy/course-content/tree/master//tutorials/W2D1_BayesianStatistics/solutions/W2D1_Tutorial1_Solution_1f189c12.py)\n",
    "\n",
    "*Example output:*\n",
    "\n",
    "<img alt='Solution hint' align='left' width=559 height=849 src=https://raw.githubusercontent.com/NeuromatchAcademy/course-content/master/tutorials/W2D1_BayesianStatistics/static/W2D1_Tutorial1_Solution_1f189c12_0.png>\n",
    "\n"
   ]
  },
  {
   "cell_type": "code",
   "execution_count": 19,
   "metadata": {
    "colab": {},
    "colab_type": "code",
    "id": "FGSuPzDNhUuK"
   },
   "outputs": [],
   "source": []
  }
 ],
 "metadata": {
  "colab": {
   "collapsed_sections": [],
   "include_colab_link": true,
   "name": "NeuromatchAcademy_W2D1_Tutorial1",
   "provenance": [],
   "toc_visible": true
  },
  "kernelspec": {
   "display_name": "Python 3",
   "language": "python",
   "name": "python3"
  },
  "language_info": {
   "codemirror_mode": {
    "name": "ipython",
    "version": 3
   },
   "file_extension": ".py",
   "mimetype": "text/x-python",
   "name": "python",
   "nbconvert_exporter": "python",
   "pygments_lexer": "ipython3",
   "version": "3.7.7"
  },
  "widgets": {
   "application/vnd.jupyter.widget-state+json": {
    "state": {
     "134553e7d0cc4877a85660a11a0f5da4": {
      "model_module": "@jupyter-widgets/controls",
      "model_module_version": "1.5.0",
      "model_name": "SliderStyleModel",
      "state": {
       "_model_module": "@jupyter-widgets/controls",
       "_model_module_version": "1.5.0",
       "_model_name": "SliderStyleModel",
       "_view_count": null,
       "_view_module": "@jupyter-widgets/base",
       "_view_module_version": "1.2.0",
       "_view_name": "StyleView",
       "description_width": "",
       "handle_color": null
      }
     },
     "3ca36b5cda3345deb08544bf8b93f1b2": {
      "model_module": "@jupyter-widgets/base",
      "model_module_version": "1.2.0",
      "model_name": "LayoutModel",
      "state": {
       "_model_module": "@jupyter-widgets/base",
       "_model_module_version": "1.2.0",
       "_model_name": "LayoutModel",
       "_view_count": null,
       "_view_module": "@jupyter-widgets/base",
       "_view_module_version": "1.2.0",
       "_view_name": "LayoutView",
       "align_content": null,
       "align_items": null,
       "align_self": null,
       "border": null,
       "bottom": null,
       "display": null,
       "flex": null,
       "flex_flow": null,
       "grid_area": null,
       "grid_auto_columns": null,
       "grid_auto_flow": null,
       "grid_auto_rows": null,
       "grid_column": null,
       "grid_gap": null,
       "grid_row": null,
       "grid_template_areas": null,
       "grid_template_columns": null,
       "grid_template_rows": null,
       "height": null,
       "justify_content": null,
       "justify_items": null,
       "left": null,
       "margin": null,
       "max_height": null,
       "max_width": null,
       "min_height": null,
       "min_width": null,
       "object_fit": null,
       "object_position": null,
       "order": null,
       "overflow": null,
       "overflow_x": null,
       "overflow_y": null,
       "padding": null,
       "right": null,
       "top": null,
       "visibility": null,
       "width": null
      }
     },
     "43f12457f5cf46ab83f6bb4b8f8391b8": {
      "model_module": "@jupyter-widgets/controls",
      "model_module_version": "1.5.0",
      "model_name": "SliderStyleModel",
      "state": {
       "_model_module": "@jupyter-widgets/controls",
       "_model_module_version": "1.5.0",
       "_model_name": "SliderStyleModel",
       "_view_count": null,
       "_view_module": "@jupyter-widgets/base",
       "_view_module_version": "1.2.0",
       "_view_name": "StyleView",
       "description_width": "",
       "handle_color": null
      }
     },
     "4b86b3385b9b470d8fb07fb91dc32ae8": {
      "model_module": "@jupyter-widgets/controls",
      "model_module_version": "1.5.0",
      "model_name": "VBoxModel",
      "state": {
       "_dom_classes": [
        "widget-interact"
       ],
       "_model_module": "@jupyter-widgets/controls",
       "_model_module_version": "1.5.0",
       "_model_name": "VBoxModel",
       "_view_count": null,
       "_view_module": "@jupyter-widgets/controls",
       "_view_module_version": "1.5.0",
       "_view_name": "VBoxView",
       "box_style": "",
       "children": [
        "IPY_MODEL_831f0bee011d4f36afd472e1f2fc7114",
        "IPY_MODEL_9c4dfc7b6f4e4f7bb671e90936be1d20",
        "IPY_MODEL_bb734dc430dd40db9d1d70823ba2dd15",
        "IPY_MODEL_52b0d154d352482aaac6aa1937e5e2e7",
        "IPY_MODEL_829a48dffa584303927278d6cf1362a0"
       ],
       "layout": "IPY_MODEL_c447fb792f4a4aa8b9a0da5fe857be36"
      }
     },
     "51592b2fd705499b98bdba4675d9551b": {
      "model_module": "@jupyter-widgets/base",
      "model_module_version": "1.2.0",
      "model_name": "LayoutModel",
      "state": {
       "_model_module": "@jupyter-widgets/base",
       "_model_module_version": "1.2.0",
       "_model_name": "LayoutModel",
       "_view_count": null,
       "_view_module": "@jupyter-widgets/base",
       "_view_module_version": "1.2.0",
       "_view_name": "LayoutView",
       "align_content": null,
       "align_items": null,
       "align_self": null,
       "border": null,
       "bottom": null,
       "display": null,
       "flex": null,
       "flex_flow": null,
       "grid_area": null,
       "grid_auto_columns": null,
       "grid_auto_flow": null,
       "grid_auto_rows": null,
       "grid_column": null,
       "grid_gap": null,
       "grid_row": null,
       "grid_template_areas": null,
       "grid_template_columns": null,
       "grid_template_rows": null,
       "height": null,
       "justify_content": null,
       "justify_items": null,
       "left": null,
       "margin": null,
       "max_height": null,
       "max_width": null,
       "min_height": null,
       "min_width": null,
       "object_fit": null,
       "object_position": null,
       "order": null,
       "overflow": null,
       "overflow_x": null,
       "overflow_y": null,
       "padding": null,
       "right": null,
       "top": null,
       "visibility": null,
       "width": null
      }
     },
     "52b0d154d352482aaac6aa1937e5e2e7": {
      "model_module": "@jupyter-widgets/controls",
      "model_module_version": "1.5.0",
      "model_name": "FloatSliderModel",
      "state": {
       "_dom_classes": [],
       "_model_module": "@jupyter-widgets/controls",
       "_model_module_version": "1.5.0",
       "_model_name": "FloatSliderModel",
       "_view_count": null,
       "_view_module": "@jupyter-widgets/controls",
       "_view_module_version": "1.5.0",
       "_view_name": "FloatSliderView",
       "continuous_update": true,
       "description": "sigma_visual",
       "description_tooltip": null,
       "disabled": false,
       "layout": "IPY_MODEL_51592b2fd705499b98bdba4675d9551b",
       "max": 10.0,
       "min": 0.5,
       "orientation": "horizontal",
       "readout": true,
       "readout_format": ".2f",
       "step": 0.5,
       "style": "IPY_MODEL_9d4ddb4164bb4b3d88d3d0923b95fe39",
       "value": 1.5
      }
     },
     "7e75f37fa0b24ef593dbb63073f7634e": {
      "model_module": "@jupyter-widgets/base",
      "model_module_version": "1.2.0",
      "model_name": "LayoutModel",
      "state": {
       "_model_module": "@jupyter-widgets/base",
       "_model_module_version": "1.2.0",
       "_model_name": "LayoutModel",
       "_view_count": null,
       "_view_module": "@jupyter-widgets/base",
       "_view_module_version": "1.2.0",
       "_view_name": "LayoutView",
       "align_content": null,
       "align_items": null,
       "align_self": null,
       "border": null,
       "bottom": null,
       "display": null,
       "flex": null,
       "flex_flow": null,
       "grid_area": null,
       "grid_auto_columns": null,
       "grid_auto_flow": null,
       "grid_auto_rows": null,
       "grid_column": null,
       "grid_gap": null,
       "grid_row": null,
       "grid_template_areas": null,
       "grid_template_columns": null,
       "grid_template_rows": null,
       "height": null,
       "justify_content": null,
       "justify_items": null,
       "left": null,
       "margin": null,
       "max_height": null,
       "max_width": null,
       "min_height": null,
       "min_width": null,
       "object_fit": null,
       "object_position": null,
       "order": null,
       "overflow": null,
       "overflow_x": null,
       "overflow_y": null,
       "padding": null,
       "right": null,
       "top": null,
       "visibility": null,
       "width": null
      }
     },
     "829a48dffa584303927278d6cf1362a0": {
      "model_module": "@jupyter-widgets/output",
      "model_module_version": "1.0.0",
      "model_name": "OutputModel",
      "state": {
       "_dom_classes": [],
       "_model_module": "@jupyter-widgets/output",
       "_model_module_version": "1.0.0",
       "_model_name": "OutputModel",
       "_view_count": null,
       "_view_module": "@jupyter-widgets/output",
       "_view_module_version": "1.0.0",
       "_view_name": "OutputView",
       "layout": "IPY_MODEL_7e75f37fa0b24ef593dbb63073f7634e",
       "msg_id": "",
       "outputs": []
      }
     },
     "831f0bee011d4f36afd472e1f2fc7114": {
      "model_module": "@jupyter-widgets/controls",
      "model_module_version": "1.5.0",
      "model_name": "FloatSliderModel",
      "state": {
       "_dom_classes": [],
       "_model_module": "@jupyter-widgets/controls",
       "_model_module_version": "1.5.0",
       "_model_name": "FloatSliderModel",
       "_view_count": null,
       "_view_module": "@jupyter-widgets/controls",
       "_view_module_version": "1.5.0",
       "_view_name": "FloatSliderView",
       "continuous_update": true,
       "description": "mu_auditory",
       "description_tooltip": null,
       "disabled": false,
       "layout": "IPY_MODEL_f3172ea2fbfd46fbbc5668efe492b226",
       "max": 10.0,
       "min": -10.0,
       "orientation": "horizontal",
       "readout": true,
       "readout_format": ".2f",
       "step": 0.5,
       "style": "IPY_MODEL_134553e7d0cc4877a85660a11a0f5da4",
       "value": 3.0
      }
     },
     "87d402714c2a4d05ae4e0fbbc8a61934": {
      "model_module": "@jupyter-widgets/controls",
      "model_module_version": "1.5.0",
      "model_name": "SliderStyleModel",
      "state": {
       "_model_module": "@jupyter-widgets/controls",
       "_model_module_version": "1.5.0",
       "_model_name": "SliderStyleModel",
       "_view_count": null,
       "_view_module": "@jupyter-widgets/base",
       "_view_module_version": "1.2.0",
       "_view_name": "StyleView",
       "description_width": "",
       "handle_color": null
      }
     },
     "9c4dfc7b6f4e4f7bb671e90936be1d20": {
      "model_module": "@jupyter-widgets/controls",
      "model_module_version": "1.5.0",
      "model_name": "FloatSliderModel",
      "state": {
       "_dom_classes": [],
       "_model_module": "@jupyter-widgets/controls",
       "_model_module_version": "1.5.0",
       "_model_name": "FloatSliderModel",
       "_view_count": null,
       "_view_module": "@jupyter-widgets/controls",
       "_view_module_version": "1.5.0",
       "_view_name": "FloatSliderView",
       "continuous_update": true,
       "description": "sigma_auditory",
       "description_tooltip": null,
       "disabled": false,
       "layout": "IPY_MODEL_3ca36b5cda3345deb08544bf8b93f1b2",
       "max": 10.0,
       "min": 0.5,
       "orientation": "horizontal",
       "readout": true,
       "readout_format": ".2f",
       "step": 0.5,
       "style": "IPY_MODEL_43f12457f5cf46ab83f6bb4b8f8391b8",
       "value": 1.5
      }
     },
     "9d4ddb4164bb4b3d88d3d0923b95fe39": {
      "model_module": "@jupyter-widgets/controls",
      "model_module_version": "1.5.0",
      "model_name": "SliderStyleModel",
      "state": {
       "_model_module": "@jupyter-widgets/controls",
       "_model_module_version": "1.5.0",
       "_model_name": "SliderStyleModel",
       "_view_count": null,
       "_view_module": "@jupyter-widgets/base",
       "_view_module_version": "1.2.0",
       "_view_name": "StyleView",
       "description_width": "",
       "handle_color": null
      }
     },
     "bb734dc430dd40db9d1d70823ba2dd15": {
      "model_module": "@jupyter-widgets/controls",
      "model_module_version": "1.5.0",
      "model_name": "FloatSliderModel",
      "state": {
       "_dom_classes": [],
       "_model_module": "@jupyter-widgets/controls",
       "_model_module_version": "1.5.0",
       "_model_name": "FloatSliderModel",
       "_view_count": null,
       "_view_module": "@jupyter-widgets/controls",
       "_view_module_version": "1.5.0",
       "_view_name": "FloatSliderView",
       "continuous_update": true,
       "description": "mu_visual",
       "description_tooltip": null,
       "disabled": false,
       "layout": "IPY_MODEL_c303fa0c8333471fa8817914d816b061",
       "max": 10.0,
       "min": -10.0,
       "orientation": "horizontal",
       "readout": true,
       "readout_format": ".2f",
       "step": 0.5,
       "style": "IPY_MODEL_87d402714c2a4d05ae4e0fbbc8a61934",
       "value": -1.0
      }
     },
     "c303fa0c8333471fa8817914d816b061": {
      "model_module": "@jupyter-widgets/base",
      "model_module_version": "1.2.0",
      "model_name": "LayoutModel",
      "state": {
       "_model_module": "@jupyter-widgets/base",
       "_model_module_version": "1.2.0",
       "_model_name": "LayoutModel",
       "_view_count": null,
       "_view_module": "@jupyter-widgets/base",
       "_view_module_version": "1.2.0",
       "_view_name": "LayoutView",
       "align_content": null,
       "align_items": null,
       "align_self": null,
       "border": null,
       "bottom": null,
       "display": null,
       "flex": null,
       "flex_flow": null,
       "grid_area": null,
       "grid_auto_columns": null,
       "grid_auto_flow": null,
       "grid_auto_rows": null,
       "grid_column": null,
       "grid_gap": null,
       "grid_row": null,
       "grid_template_areas": null,
       "grid_template_columns": null,
       "grid_template_rows": null,
       "height": null,
       "justify_content": null,
       "justify_items": null,
       "left": null,
       "margin": null,
       "max_height": null,
       "max_width": null,
       "min_height": null,
       "min_width": null,
       "object_fit": null,
       "object_position": null,
       "order": null,
       "overflow": null,
       "overflow_x": null,
       "overflow_y": null,
       "padding": null,
       "right": null,
       "top": null,
       "visibility": null,
       "width": null
      }
     },
     "c447fb792f4a4aa8b9a0da5fe857be36": {
      "model_module": "@jupyter-widgets/base",
      "model_module_version": "1.2.0",
      "model_name": "LayoutModel",
      "state": {
       "_model_module": "@jupyter-widgets/base",
       "_model_module_version": "1.2.0",
       "_model_name": "LayoutModel",
       "_view_count": null,
       "_view_module": "@jupyter-widgets/base",
       "_view_module_version": "1.2.0",
       "_view_name": "LayoutView",
       "align_content": null,
       "align_items": null,
       "align_self": null,
       "border": null,
       "bottom": null,
       "display": null,
       "flex": null,
       "flex_flow": null,
       "grid_area": null,
       "grid_auto_columns": null,
       "grid_auto_flow": null,
       "grid_auto_rows": null,
       "grid_column": null,
       "grid_gap": null,
       "grid_row": null,
       "grid_template_areas": null,
       "grid_template_columns": null,
       "grid_template_rows": null,
       "height": null,
       "justify_content": null,
       "justify_items": null,
       "left": null,
       "margin": null,
       "max_height": null,
       "max_width": null,
       "min_height": null,
       "min_width": null,
       "object_fit": null,
       "object_position": null,
       "order": null,
       "overflow": null,
       "overflow_x": null,
       "overflow_y": null,
       "padding": null,
       "right": null,
       "top": null,
       "visibility": null,
       "width": null
      }
     },
     "f3172ea2fbfd46fbbc5668efe492b226": {
      "model_module": "@jupyter-widgets/base",
      "model_module_version": "1.2.0",
      "model_name": "LayoutModel",
      "state": {
       "_model_module": "@jupyter-widgets/base",
       "_model_module_version": "1.2.0",
       "_model_name": "LayoutModel",
       "_view_count": null,
       "_view_module": "@jupyter-widgets/base",
       "_view_module_version": "1.2.0",
       "_view_name": "LayoutView",
       "align_content": null,
       "align_items": null,
       "align_self": null,
       "border": null,
       "bottom": null,
       "display": null,
       "flex": null,
       "flex_flow": null,
       "grid_area": null,
       "grid_auto_columns": null,
       "grid_auto_flow": null,
       "grid_auto_rows": null,
       "grid_column": null,
       "grid_gap": null,
       "grid_row": null,
       "grid_template_areas": null,
       "grid_template_columns": null,
       "grid_template_rows": null,
       "height": null,
       "justify_content": null,
       "justify_items": null,
       "left": null,
       "margin": null,
       "max_height": null,
       "max_width": null,
       "min_height": null,
       "min_width": null,
       "object_fit": null,
       "object_position": null,
       "order": null,
       "overflow": null,
       "overflow_x": null,
       "overflow_y": null,
       "padding": null,
       "right": null,
       "top": null,
       "visibility": null,
       "width": null
      }
     }
    },
    "version_major": 2,
    "version_minor": 0
   }
  }
 },
 "nbformat": 4,
 "nbformat_minor": 0
}
