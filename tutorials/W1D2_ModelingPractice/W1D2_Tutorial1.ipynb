{
  "nbformat": 4,
  "nbformat_minor": 0,
  "metadata": {
    "colab": {
      "name": "W1D2_Tutorial1",
      "provenance": [],
      "collapsed_sections": [],
      "toc_visible": true,
      "include_colab_link": true
    },
    "kernel": {
      "display_name": "Python 3",
      "language": "python",
      "name": "python3"
    },
    "kernelspec": {
      "display_name": "Python 3",
      "name": "python3"
    },
    "language_info": {
      "codemirror_mode": {
        "name": "ipython",
        "version": 3
      },
      "file_extension": ".py",
      "mimetype": "text/x-python",
      "name": "python",
      "nbconvert_exporter": "python",
      "pygments_lexer": "ipython3",
      "version": "3.7.10"
    },
    "widgets": {
      "application/vnd.jupyter.widget-state+json": {
        "6337de842d004e25b749b9f730b41445": {
          "model_module": "@jupyter-widgets/controls",
          "model_name": "TabModel",
          "state": {
            "_view_name": "TabView",
            "_dom_classes": [],
            "_titles": {
              "0": "Youtube",
              "1": "Bilibili"
            },
            "_model_name": "TabModel",
            "_view_module": "@jupyter-widgets/controls",
            "selected_index": 0,
            "_model_module_version": "1.5.0",
            "_view_count": null,
            "_view_module_version": "1.5.0",
            "box_style": "",
            "layout": "IPY_MODEL_3dbd9ac639d04891b9f7f6d26c3651b3",
            "_model_module": "@jupyter-widgets/controls",
            "children": [
              "IPY_MODEL_3b78a24584804e80b17743149549b758",
              "IPY_MODEL_304509758b11422fa3278f55b48695c8"
            ]
          }
        },
        "3dbd9ac639d04891b9f7f6d26c3651b3": {
          "model_module": "@jupyter-widgets/base",
          "model_name": "LayoutModel",
          "state": {
            "_view_name": "LayoutView",
            "grid_template_rows": null,
            "right": null,
            "justify_content": null,
            "_view_module": "@jupyter-widgets/base",
            "overflow": null,
            "_model_module_version": "1.2.0",
            "_view_count": null,
            "flex_flow": null,
            "width": null,
            "min_width": null,
            "border": null,
            "align_items": null,
            "bottom": null,
            "_model_module": "@jupyter-widgets/base",
            "top": null,
            "grid_column": null,
            "overflow_y": null,
            "overflow_x": null,
            "grid_auto_flow": null,
            "grid_area": null,
            "grid_template_columns": null,
            "flex": null,
            "_model_name": "LayoutModel",
            "justify_items": null,
            "grid_row": null,
            "max_height": null,
            "align_content": null,
            "visibility": null,
            "align_self": null,
            "height": null,
            "min_height": null,
            "padding": null,
            "grid_auto_rows": null,
            "grid_gap": null,
            "max_width": null,
            "order": null,
            "_view_module_version": "1.2.0",
            "grid_template_areas": null,
            "object_position": null,
            "object_fit": null,
            "grid_auto_columns": null,
            "margin": null,
            "display": null,
            "left": null
          }
        },
        "3b78a24584804e80b17743149549b758": {
          "model_module": "@jupyter-widgets/output",
          "model_name": "OutputModel",
          "state": {
            "_view_name": "OutputView",
            "msg_id": "",
            "_dom_classes": [],
            "_model_name": "OutputModel",
            "outputs": [
              {
                "output_type": "stream",
                "metadata": {
                  "tags": []
                },
                "text": "Video available at https://youtube.com/watch?v=GyGNs1fLIYQ\n",
                "stream": "stdout"
              },
              {
                "output_type": "display_data",
                "metadata": {
                  "tags": []
                },
                "text/html": "\n        <iframe\n            width=\"854\"\n            height=\"480\"\n            src=\"https://www.youtube.com/embed/GyGNs1fLIYQ?fs=1&rel=0\"\n            frameborder=\"0\"\n            allowfullscreen\n        ></iframe>\n        ",
                "text/plain": "<IPython.lib.display.YouTubeVideo at 0x7f38beb0ff50>",
                "image/jpeg": "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\n"
              }
            ],
            "_view_module": "@jupyter-widgets/output",
            "_model_module_version": "1.0.0",
            "_view_count": null,
            "_view_module_version": "1.0.0",
            "layout": "IPY_MODEL_716bd14b6f444005bc07273c7ae1cf51",
            "_model_module": "@jupyter-widgets/output"
          }
        },
        "304509758b11422fa3278f55b48695c8": {
          "model_module": "@jupyter-widgets/output",
          "model_name": "OutputModel",
          "state": {
            "_view_name": "OutputView",
            "msg_id": "",
            "_dom_classes": [],
            "_model_name": "OutputModel",
            "outputs": [
              {
                "output_type": "stream",
                "metadata": {
                  "tags": []
                },
                "text": "Video available at https://www.bilibili.com/video/\n",
                "stream": "stdout"
              },
              {
                "output_type": "display_data",
                "metadata": {
                  "tags": []
                },
                "text/html": "\n        <iframe\n            width=\"854\"\n            height=\"480\"\n            src=\"https://player.bilibili.com/player.html?bvid=&page=1?fs=1\"\n            frameborder=\"0\"\n            allowfullscreen\n        ></iframe>\n        ",
                "text/plain": "<__main__.BiliVideo at 0x7f38beaf4c90>"
              }
            ],
            "_view_module": "@jupyter-widgets/output",
            "_model_module_version": "1.0.0",
            "_view_count": null,
            "_view_module_version": "1.0.0",
            "layout": "IPY_MODEL_ac2b9f45b3564d9482b71cce872327f6",
            "_model_module": "@jupyter-widgets/output"
          }
        },
        "716bd14b6f444005bc07273c7ae1cf51": {
          "model_module": "@jupyter-widgets/base",
          "model_name": "LayoutModel",
          "state": {
            "_view_name": "LayoutView",
            "grid_template_rows": null,
            "right": null,
            "justify_content": null,
            "_view_module": "@jupyter-widgets/base",
            "overflow": null,
            "_model_module_version": "1.2.0",
            "_view_count": null,
            "flex_flow": null,
            "width": null,
            "min_width": null,
            "border": null,
            "align_items": null,
            "bottom": null,
            "_model_module": "@jupyter-widgets/base",
            "top": null,
            "grid_column": null,
            "overflow_y": null,
            "overflow_x": null,
            "grid_auto_flow": null,
            "grid_area": null,
            "grid_template_columns": null,
            "flex": null,
            "_model_name": "LayoutModel",
            "justify_items": null,
            "grid_row": null,
            "max_height": null,
            "align_content": null,
            "visibility": null,
            "align_self": null,
            "height": null,
            "min_height": null,
            "padding": null,
            "grid_auto_rows": null,
            "grid_gap": null,
            "max_width": null,
            "order": null,
            "_view_module_version": "1.2.0",
            "grid_template_areas": null,
            "object_position": null,
            "object_fit": null,
            "grid_auto_columns": null,
            "margin": null,
            "display": null,
            "left": null
          }
        },
        "ac2b9f45b3564d9482b71cce872327f6": {
          "model_module": "@jupyter-widgets/base",
          "model_name": "LayoutModel",
          "state": {
            "_view_name": "LayoutView",
            "grid_template_rows": null,
            "right": null,
            "justify_content": null,
            "_view_module": "@jupyter-widgets/base",
            "overflow": null,
            "_model_module_version": "1.2.0",
            "_view_count": null,
            "flex_flow": null,
            "width": null,
            "min_width": null,
            "border": null,
            "align_items": null,
            "bottom": null,
            "_model_module": "@jupyter-widgets/base",
            "top": null,
            "grid_column": null,
            "overflow_y": null,
            "overflow_x": null,
            "grid_auto_flow": null,
            "grid_area": null,
            "grid_template_columns": null,
            "flex": null,
            "_model_name": "LayoutModel",
            "justify_items": null,
            "grid_row": null,
            "max_height": null,
            "align_content": null,
            "visibility": null,
            "align_self": null,
            "height": null,
            "min_height": null,
            "padding": null,
            "grid_auto_rows": null,
            "grid_gap": null,
            "max_width": null,
            "order": null,
            "_view_module_version": "1.2.0",
            "grid_template_areas": null,
            "object_position": null,
            "object_fit": null,
            "grid_auto_columns": null,
            "margin": null,
            "display": null,
            "left": null
          }
        },
        "7c853517b4214f8f9867f08cb17801f8": {
          "model_module": "@jupyter-widgets/controls",
          "model_name": "TabModel",
          "state": {
            "_view_name": "TabView",
            "_dom_classes": [],
            "_titles": {
              "0": "Youtube",
              "1": "Bilibili"
            },
            "_model_name": "TabModel",
            "_view_module": "@jupyter-widgets/controls",
            "selected_index": 0,
            "_model_module_version": "1.5.0",
            "_view_count": null,
            "_view_module_version": "1.5.0",
            "box_style": "",
            "layout": "IPY_MODEL_95fa332a412947f980ff3f643e8d689c",
            "_model_module": "@jupyter-widgets/controls",
            "children": [
              "IPY_MODEL_4cd2916eb22b4f69b0184d149c0c06fe",
              "IPY_MODEL_bac1d6a59849419e8b455bb34a140092"
            ]
          }
        },
        "95fa332a412947f980ff3f643e8d689c": {
          "model_module": "@jupyter-widgets/base",
          "model_name": "LayoutModel",
          "state": {
            "_view_name": "LayoutView",
            "grid_template_rows": null,
            "right": null,
            "justify_content": null,
            "_view_module": "@jupyter-widgets/base",
            "overflow": null,
            "_model_module_version": "1.2.0",
            "_view_count": null,
            "flex_flow": null,
            "width": null,
            "min_width": null,
            "border": null,
            "align_items": null,
            "bottom": null,
            "_model_module": "@jupyter-widgets/base",
            "top": null,
            "grid_column": null,
            "overflow_y": null,
            "overflow_x": null,
            "grid_auto_flow": null,
            "grid_area": null,
            "grid_template_columns": null,
            "flex": null,
            "_model_name": "LayoutModel",
            "justify_items": null,
            "grid_row": null,
            "max_height": null,
            "align_content": null,
            "visibility": null,
            "align_self": null,
            "height": null,
            "min_height": null,
            "padding": null,
            "grid_auto_rows": null,
            "grid_gap": null,
            "max_width": null,
            "order": null,
            "_view_module_version": "1.2.0",
            "grid_template_areas": null,
            "object_position": null,
            "object_fit": null,
            "grid_auto_columns": null,
            "margin": null,
            "display": null,
            "left": null
          }
        },
        "4cd2916eb22b4f69b0184d149c0c06fe": {
          "model_module": "@jupyter-widgets/output",
          "model_name": "OutputModel",
          "state": {
            "_view_name": "OutputView",
            "msg_id": "",
            "_dom_classes": [],
            "_model_name": "OutputModel",
            "outputs": [
              {
                "output_type": "stream",
                "metadata": {
                  "tags": []
                },
                "text": "Video available at https://youtube.com/watch?v=4Gl8X_y_uoA\n",
                "stream": "stdout"
              },
              {
                "output_type": "display_data",
                "metadata": {
                  "tags": []
                },
                "text/html": "\n        <iframe\n            width=\"854\"\n            height=\"480\"\n            src=\"https://www.youtube.com/embed/4Gl8X_y_uoA?fs=1&rel=0\"\n            frameborder=\"0\"\n            allowfullscreen\n        ></iframe>\n        ",
                "text/plain": "<IPython.lib.display.YouTubeVideo at 0x7f38aedd0fd0>",
                "image/jpeg": "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\n"
              }
            ],
            "_view_module": "@jupyter-widgets/output",
            "_model_module_version": "1.0.0",
            "_view_count": null,
            "_view_module_version": "1.0.0",
            "layout": "IPY_MODEL_638a20cba2a748cda4277ff750557ada",
            "_model_module": "@jupyter-widgets/output"
          }
        },
        "bac1d6a59849419e8b455bb34a140092": {
          "model_module": "@jupyter-widgets/output",
          "model_name": "OutputModel",
          "state": {
            "_view_name": "OutputView",
            "msg_id": "",
            "_dom_classes": [],
            "_model_name": "OutputModel",
            "outputs": [
              {
                "output_type": "stream",
                "metadata": {
                  "tags": []
                },
                "text": "Video available at https://www.bilibili.com/video/\n",
                "stream": "stdout"
              },
              {
                "output_type": "display_data",
                "metadata": {
                  "tags": []
                },
                "text/html": "\n        <iframe\n            width=\"854\"\n            height=\"480\"\n            src=\"https://player.bilibili.com/player.html?bvid=&page=1?fs=1\"\n            frameborder=\"0\"\n            allowfullscreen\n        ></iframe>\n        ",
                "text/plain": "<__main__.BiliVideo at 0x7f38ae6e6a10>"
              }
            ],
            "_view_module": "@jupyter-widgets/output",
            "_model_module_version": "1.0.0",
            "_view_count": null,
            "_view_module_version": "1.0.0",
            "layout": "IPY_MODEL_d2428b4ec97347a6a0c72c75e0a82e46",
            "_model_module": "@jupyter-widgets/output"
          }
        },
        "638a20cba2a748cda4277ff750557ada": {
          "model_module": "@jupyter-widgets/base",
          "model_name": "LayoutModel",
          "state": {
            "_view_name": "LayoutView",
            "grid_template_rows": null,
            "right": null,
            "justify_content": null,
            "_view_module": "@jupyter-widgets/base",
            "overflow": null,
            "_model_module_version": "1.2.0",
            "_view_count": null,
            "flex_flow": null,
            "width": null,
            "min_width": null,
            "border": null,
            "align_items": null,
            "bottom": null,
            "_model_module": "@jupyter-widgets/base",
            "top": null,
            "grid_column": null,
            "overflow_y": null,
            "overflow_x": null,
            "grid_auto_flow": null,
            "grid_area": null,
            "grid_template_columns": null,
            "flex": null,
            "_model_name": "LayoutModel",
            "justify_items": null,
            "grid_row": null,
            "max_height": null,
            "align_content": null,
            "visibility": null,
            "align_self": null,
            "height": null,
            "min_height": null,
            "padding": null,
            "grid_auto_rows": null,
            "grid_gap": null,
            "max_width": null,
            "order": null,
            "_view_module_version": "1.2.0",
            "grid_template_areas": null,
            "object_position": null,
            "object_fit": null,
            "grid_auto_columns": null,
            "margin": null,
            "display": null,
            "left": null
          }
        },
        "d2428b4ec97347a6a0c72c75e0a82e46": {
          "model_module": "@jupyter-widgets/base",
          "model_name": "LayoutModel",
          "state": {
            "_view_name": "LayoutView",
            "grid_template_rows": null,
            "right": null,
            "justify_content": null,
            "_view_module": "@jupyter-widgets/base",
            "overflow": null,
            "_model_module_version": "1.2.0",
            "_view_count": null,
            "flex_flow": null,
            "width": null,
            "min_width": null,
            "border": null,
            "align_items": null,
            "bottom": null,
            "_model_module": "@jupyter-widgets/base",
            "top": null,
            "grid_column": null,
            "overflow_y": null,
            "overflow_x": null,
            "grid_auto_flow": null,
            "grid_area": null,
            "grid_template_columns": null,
            "flex": null,
            "_model_name": "LayoutModel",
            "justify_items": null,
            "grid_row": null,
            "max_height": null,
            "align_content": null,
            "visibility": null,
            "align_self": null,
            "height": null,
            "min_height": null,
            "padding": null,
            "grid_auto_rows": null,
            "grid_gap": null,
            "max_width": null,
            "order": null,
            "_view_module_version": "1.2.0",
            "grid_template_areas": null,
            "object_position": null,
            "object_fit": null,
            "grid_auto_columns": null,
            "margin": null,
            "display": null,
            "left": null
          }
        },
        "dfb1b20ff1f341df8f7fae06b0ff46c5": {
          "model_module": "@jupyter-widgets/controls",
          "model_name": "TabModel",
          "state": {
            "_view_name": "TabView",
            "_dom_classes": [],
            "_titles": {
              "0": "Computational Model",
              "1": "Data Analysis"
            },
            "_model_name": "TabModel",
            "_view_module": "@jupyter-widgets/controls",
            "selected_index": 1,
            "_model_module_version": "1.5.0",
            "_view_count": null,
            "_view_module_version": "1.5.0",
            "box_style": "",
            "layout": "IPY_MODEL_39c87532b6b94ec6885489d6ae13c825",
            "_model_module": "@jupyter-widgets/controls",
            "children": [
              "IPY_MODEL_fbacfc6286fc439d8eacfe12765e43e0",
              "IPY_MODEL_10dcfa3bd3b6449a85d8aae2e67ee2bd"
            ]
          }
        },
        "39c87532b6b94ec6885489d6ae13c825": {
          "model_module": "@jupyter-widgets/base",
          "model_name": "LayoutModel",
          "state": {
            "_view_name": "LayoutView",
            "grid_template_rows": null,
            "right": null,
            "justify_content": null,
            "_view_module": "@jupyter-widgets/base",
            "overflow": null,
            "_model_module_version": "1.2.0",
            "_view_count": null,
            "flex_flow": null,
            "width": null,
            "min_width": null,
            "border": null,
            "align_items": null,
            "bottom": null,
            "_model_module": "@jupyter-widgets/base",
            "top": null,
            "grid_column": null,
            "overflow_y": null,
            "overflow_x": null,
            "grid_auto_flow": null,
            "grid_area": null,
            "grid_template_columns": null,
            "flex": null,
            "_model_name": "LayoutModel",
            "justify_items": null,
            "grid_row": null,
            "max_height": null,
            "align_content": null,
            "visibility": null,
            "align_self": null,
            "height": null,
            "min_height": null,
            "padding": null,
            "grid_auto_rows": null,
            "grid_gap": null,
            "max_width": null,
            "order": null,
            "_view_module_version": "1.2.0",
            "grid_template_areas": null,
            "object_position": null,
            "object_fit": null,
            "grid_auto_columns": null,
            "margin": null,
            "display": null,
            "left": null
          }
        },
        "fbacfc6286fc439d8eacfe12765e43e0": {
          "model_module": "@jupyter-widgets/output",
          "model_name": "OutputModel",
          "state": {
            "_view_name": "OutputView",
            "msg_id": "",
            "_dom_classes": [],
            "_model_name": "OutputModel",
            "outputs": [
              {
                "output_type": "display_data",
                "metadata": {
                  "tags": []
                },
                "text/markdown": "\n\n## Step 1\n<br>\n<font size='3pt'>\nThe train illusion occurs when sitting on a train and viewing another train outside the window. Suddenly, the other train *seems* to move, i.e. you experience visual motion of the other train relative to your train. But which train is actually moving?\n\nOften people have the wrong percept. In particular, they think their own train might be moving when it's the other train that moves; or vice versa. The illusion is usually resolved once you gain vision of the surroundings that lets you disambiguate the relative motion; or if you experience strong vibrations indicating that it is indeed your own train that is in motion.\n\n\nWe asked the following (arbitrary) question for our demo project: \"How do noisy vestibular estimates of motion lead to illusory percepts of self motion?\"\n</font>\n",
                "text/plain": "<IPython.core.display.Markdown object>"
              }
            ],
            "_view_module": "@jupyter-widgets/output",
            "_model_module_version": "1.0.0",
            "_view_count": null,
            "_view_module_version": "1.0.0",
            "layout": "IPY_MODEL_0c366cb5c9ec49f98ebcd5f5a3fc3091",
            "_model_module": "@jupyter-widgets/output"
          }
        },
        "10dcfa3bd3b6449a85d8aae2e67ee2bd": {
          "model_module": "@jupyter-widgets/output",
          "model_name": "OutputModel",
          "state": {
            "_view_name": "OutputView",
            "msg_id": "",
            "_dom_classes": [],
            "_model_name": "OutputModel",
            "outputs": [
              {
                "output_type": "display_data",
                "metadata": {
                  "tags": []
                },
                "text/markdown": "\n## Step 1\n<br>\n\n<font size='3pt'>\nThe train illusion occurs when sitting on a train and viewing another train outside the window. Suddenly, the other train *seems* to move, i.e. you experience visual motion of the other train relative to your train. But which train is actually moving?\n\nOften people mix this up. In particular, they think their own train might be moving when it's the other train that moves; or vice versa. The illusion is usually resolved once you gain vision of the surroundings that lets you disambiguate the relative motion; or if you experience strong vibrations indicating that it is indeed your own train that is in motion.\n\n\nWe assume that we have build the train illusion model (see the other example project colab). That model predicts that accumulated sensory evidence from vestibular signals determines the decision of whether self-motion is experienced or not. We now have vestibular neuron data (simulated in our case, but let's pretend) and would like to see if that prediction holds true.\n\nThe data contains *N* neurons and *M* trials for each of 3 motion conditions: no self-motion, slowly accelerating self-motion and faster accelerating self-motion. In our data,\n*N* = 40 and *M* = 400.\n\n**So we can ask the following question**: \"Does accumulated vestibular neuron activity correlate with self-motion judgements?\"\n</font>\n",
                "text/plain": "<IPython.core.display.Markdown object>"
              }
            ],
            "_view_module": "@jupyter-widgets/output",
            "_model_module_version": "1.0.0",
            "_view_count": null,
            "_view_module_version": "1.0.0",
            "layout": "IPY_MODEL_60b1c78f5fd04177a1a74914cae6bf7b",
            "_model_module": "@jupyter-widgets/output"
          }
        },
        "0c366cb5c9ec49f98ebcd5f5a3fc3091": {
          "model_module": "@jupyter-widgets/base",
          "model_name": "LayoutModel",
          "state": {
            "_view_name": "LayoutView",
            "grid_template_rows": null,
            "right": null,
            "justify_content": null,
            "_view_module": "@jupyter-widgets/base",
            "overflow": null,
            "_model_module_version": "1.2.0",
            "_view_count": null,
            "flex_flow": null,
            "width": null,
            "min_width": null,
            "border": null,
            "align_items": null,
            "bottom": null,
            "_model_module": "@jupyter-widgets/base",
            "top": null,
            "grid_column": null,
            "overflow_y": null,
            "overflow_x": null,
            "grid_auto_flow": null,
            "grid_area": null,
            "grid_template_columns": null,
            "flex": null,
            "_model_name": "LayoutModel",
            "justify_items": null,
            "grid_row": null,
            "max_height": null,
            "align_content": null,
            "visibility": null,
            "align_self": null,
            "height": null,
            "min_height": null,
            "padding": null,
            "grid_auto_rows": null,
            "grid_gap": null,
            "max_width": null,
            "order": null,
            "_view_module_version": "1.2.0",
            "grid_template_areas": null,
            "object_position": null,
            "object_fit": null,
            "grid_auto_columns": null,
            "margin": null,
            "display": null,
            "left": null
          }
        },
        "60b1c78f5fd04177a1a74914cae6bf7b": {
          "model_module": "@jupyter-widgets/base",
          "model_name": "LayoutModel",
          "state": {
            "_view_name": "LayoutView",
            "grid_template_rows": null,
            "right": null,
            "justify_content": null,
            "_view_module": "@jupyter-widgets/base",
            "overflow": null,
            "_model_module_version": "1.2.0",
            "_view_count": null,
            "flex_flow": null,
            "width": null,
            "min_width": null,
            "border": null,
            "align_items": null,
            "bottom": null,
            "_model_module": "@jupyter-widgets/base",
            "top": null,
            "grid_column": null,
            "overflow_y": null,
            "overflow_x": null,
            "grid_auto_flow": null,
            "grid_area": null,
            "grid_template_columns": null,
            "flex": null,
            "_model_name": "LayoutModel",
            "justify_items": null,
            "grid_row": null,
            "max_height": null,
            "align_content": null,
            "visibility": null,
            "align_self": null,
            "height": null,
            "min_height": null,
            "padding": null,
            "grid_auto_rows": null,
            "grid_gap": null,
            "max_width": null,
            "order": null,
            "_view_module_version": "1.2.0",
            "grid_template_areas": null,
            "object_position": null,
            "object_fit": null,
            "grid_auto_columns": null,
            "margin": null,
            "display": null,
            "left": null
          }
        },
        "cd7ff10dfd7c4318a0de8b2f62be9e97": {
          "model_module": "@jupyter-widgets/controls",
          "model_name": "TabModel",
          "state": {
            "_view_name": "TabView",
            "_dom_classes": [],
            "_titles": {
              "0": "Youtube",
              "1": "Bilibili"
            },
            "_model_name": "TabModel",
            "_view_module": "@jupyter-widgets/controls",
            "selected_index": 0,
            "_model_module_version": "1.5.0",
            "_view_count": null,
            "_view_module_version": "1.5.0",
            "box_style": "",
            "layout": "IPY_MODEL_996a4c48e5364bb7b3be69d9df948101",
            "_model_module": "@jupyter-widgets/controls",
            "children": [
              "IPY_MODEL_6d60f11cf17145068177bdfb5aa873bf",
              "IPY_MODEL_6936cda3ab4f416d8d1bc705ea0594b3"
            ]
          }
        },
        "996a4c48e5364bb7b3be69d9df948101": {
          "model_module": "@jupyter-widgets/base",
          "model_name": "LayoutModel",
          "state": {
            "_view_name": "LayoutView",
            "grid_template_rows": null,
            "right": null,
            "justify_content": null,
            "_view_module": "@jupyter-widgets/base",
            "overflow": null,
            "_model_module_version": "1.2.0",
            "_view_count": null,
            "flex_flow": null,
            "width": null,
            "min_width": null,
            "border": null,
            "align_items": null,
            "bottom": null,
            "_model_module": "@jupyter-widgets/base",
            "top": null,
            "grid_column": null,
            "overflow_y": null,
            "overflow_x": null,
            "grid_auto_flow": null,
            "grid_area": null,
            "grid_template_columns": null,
            "flex": null,
            "_model_name": "LayoutModel",
            "justify_items": null,
            "grid_row": null,
            "max_height": null,
            "align_content": null,
            "visibility": null,
            "align_self": null,
            "height": null,
            "min_height": null,
            "padding": null,
            "grid_auto_rows": null,
            "grid_gap": null,
            "max_width": null,
            "order": null,
            "_view_module_version": "1.2.0",
            "grid_template_areas": null,
            "object_position": null,
            "object_fit": null,
            "grid_auto_columns": null,
            "margin": null,
            "display": null,
            "left": null
          }
        },
        "6d60f11cf17145068177bdfb5aa873bf": {
          "model_module": "@jupyter-widgets/output",
          "model_name": "OutputModel",
          "state": {
            "_view_name": "OutputView",
            "msg_id": "",
            "_dom_classes": [],
            "_model_name": "OutputModel",
            "outputs": [
              {
                "output_type": "stream",
                "metadata": {
                  "tags": []
                },
                "text": "Video available at https://youtube.com/watch?v=d8zriLaMc14\n",
                "stream": "stdout"
              },
              {
                "output_type": "display_data",
                "metadata": {
                  "tags": []
                },
                "text/html": "\n        <iframe\n            width=\"854\"\n            height=\"480\"\n            src=\"https://www.youtube.com/embed/d8zriLaMc14?fs=1&rel=0\"\n            frameborder=\"0\"\n            allowfullscreen\n        ></iframe>\n        ",
                "text/plain": "<IPython.lib.display.YouTubeVideo at 0x7f38beb03950>",
                "image/jpeg": "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\n"
              }
            ],
            "_view_module": "@jupyter-widgets/output",
            "_model_module_version": "1.0.0",
            "_view_count": null,
            "_view_module_version": "1.0.0",
            "layout": "IPY_MODEL_5ca62cc19b0c4c0eafbb575383a368b5",
            "_model_module": "@jupyter-widgets/output"
          }
        },
        "6936cda3ab4f416d8d1bc705ea0594b3": {
          "model_module": "@jupyter-widgets/output",
          "model_name": "OutputModel",
          "state": {
            "_view_name": "OutputView",
            "msg_id": "",
            "_dom_classes": [],
            "_model_name": "OutputModel",
            "outputs": [
              {
                "output_type": "stream",
                "metadata": {
                  "tags": []
                },
                "text": "Video available at https://www.bilibili.com/video/\n",
                "stream": "stdout"
              },
              {
                "output_type": "display_data",
                "metadata": {
                  "tags": []
                },
                "text/html": "\n        <iframe\n            width=\"854\"\n            height=\"480\"\n            src=\"https://player.bilibili.com/player.html?bvid=&page=1?fs=1\"\n            frameborder=\"0\"\n            allowfullscreen\n        ></iframe>\n        ",
                "text/plain": "<__main__.BiliVideo at 0x7f38adfbac10>"
              }
            ],
            "_view_module": "@jupyter-widgets/output",
            "_model_module_version": "1.0.0",
            "_view_count": null,
            "_view_module_version": "1.0.0",
            "layout": "IPY_MODEL_13629991bf094493b37d7f1c395c5328",
            "_model_module": "@jupyter-widgets/output"
          }
        },
        "5ca62cc19b0c4c0eafbb575383a368b5": {
          "model_module": "@jupyter-widgets/base",
          "model_name": "LayoutModel",
          "state": {
            "_view_name": "LayoutView",
            "grid_template_rows": null,
            "right": null,
            "justify_content": null,
            "_view_module": "@jupyter-widgets/base",
            "overflow": null,
            "_model_module_version": "1.2.0",
            "_view_count": null,
            "flex_flow": null,
            "width": null,
            "min_width": null,
            "border": null,
            "align_items": null,
            "bottom": null,
            "_model_module": "@jupyter-widgets/base",
            "top": null,
            "grid_column": null,
            "overflow_y": null,
            "overflow_x": null,
            "grid_auto_flow": null,
            "grid_area": null,
            "grid_template_columns": null,
            "flex": null,
            "_model_name": "LayoutModel",
            "justify_items": null,
            "grid_row": null,
            "max_height": null,
            "align_content": null,
            "visibility": null,
            "align_self": null,
            "height": null,
            "min_height": null,
            "padding": null,
            "grid_auto_rows": null,
            "grid_gap": null,
            "max_width": null,
            "order": null,
            "_view_module_version": "1.2.0",
            "grid_template_areas": null,
            "object_position": null,
            "object_fit": null,
            "grid_auto_columns": null,
            "margin": null,
            "display": null,
            "left": null
          }
        },
        "13629991bf094493b37d7f1c395c5328": {
          "model_module": "@jupyter-widgets/base",
          "model_name": "LayoutModel",
          "state": {
            "_view_name": "LayoutView",
            "grid_template_rows": null,
            "right": null,
            "justify_content": null,
            "_view_module": "@jupyter-widgets/base",
            "overflow": null,
            "_model_module_version": "1.2.0",
            "_view_count": null,
            "flex_flow": null,
            "width": null,
            "min_width": null,
            "border": null,
            "align_items": null,
            "bottom": null,
            "_model_module": "@jupyter-widgets/base",
            "top": null,
            "grid_column": null,
            "overflow_y": null,
            "overflow_x": null,
            "grid_auto_flow": null,
            "grid_area": null,
            "grid_template_columns": null,
            "flex": null,
            "_model_name": "LayoutModel",
            "justify_items": null,
            "grid_row": null,
            "max_height": null,
            "align_content": null,
            "visibility": null,
            "align_self": null,
            "height": null,
            "min_height": null,
            "padding": null,
            "grid_auto_rows": null,
            "grid_gap": null,
            "max_width": null,
            "order": null,
            "_view_module_version": "1.2.0",
            "grid_template_areas": null,
            "object_position": null,
            "object_fit": null,
            "grid_auto_columns": null,
            "margin": null,
            "display": null,
            "left": null
          }
        },
        "e1951f7d3a67423e9ec478f96c024c99": {
          "model_module": "@jupyter-widgets/controls",
          "model_name": "TabModel",
          "state": {
            "_view_name": "TabView",
            "_dom_classes": [],
            "_titles": {
              "0": "Computational Model",
              "1": "Data Analysis"
            },
            "_model_name": "TabModel",
            "_view_module": "@jupyter-widgets/controls",
            "selected_index": 1,
            "_model_module_version": "1.5.0",
            "_view_count": null,
            "_view_module_version": "1.5.0",
            "box_style": "",
            "layout": "IPY_MODEL_21a756756b5c496ba1f1f4c59187ae9a",
            "_model_module": "@jupyter-widgets/controls",
            "children": [
              "IPY_MODEL_30d324af0931426ea1e9adba42f40585",
              "IPY_MODEL_8f8b33ea2a8043b49ce8368ac1a6bdf0"
            ]
          }
        },
        "21a756756b5c496ba1f1f4c59187ae9a": {
          "model_module": "@jupyter-widgets/base",
          "model_name": "LayoutModel",
          "state": {
            "_view_name": "LayoutView",
            "grid_template_rows": null,
            "right": null,
            "justify_content": null,
            "_view_module": "@jupyter-widgets/base",
            "overflow": null,
            "_model_module_version": "1.2.0",
            "_view_count": null,
            "flex_flow": null,
            "width": null,
            "min_width": null,
            "border": null,
            "align_items": null,
            "bottom": null,
            "_model_module": "@jupyter-widgets/base",
            "top": null,
            "grid_column": null,
            "overflow_y": null,
            "overflow_x": null,
            "grid_auto_flow": null,
            "grid_area": null,
            "grid_template_columns": null,
            "flex": null,
            "_model_name": "LayoutModel",
            "justify_items": null,
            "grid_row": null,
            "max_height": null,
            "align_content": null,
            "visibility": null,
            "align_self": null,
            "height": null,
            "min_height": null,
            "padding": null,
            "grid_auto_rows": null,
            "grid_gap": null,
            "max_width": null,
            "order": null,
            "_view_module_version": "1.2.0",
            "grid_template_areas": null,
            "object_position": null,
            "object_fit": null,
            "grid_auto_columns": null,
            "margin": null,
            "display": null,
            "left": null
          }
        },
        "30d324af0931426ea1e9adba42f40585": {
          "model_module": "@jupyter-widgets/output",
          "model_name": "OutputModel",
          "state": {
            "_view_name": "OutputView",
            "msg_id": "",
            "_dom_classes": [],
            "_model_name": "OutputModel",
            "outputs": [
              {
                "output_type": "display_data",
                "metadata": {
                  "tags": []
                },
                "text/markdown": "\n\n## Step 2\n\n<br>\n<font size='3pt'>\n\nYou have learned all about the vestibular system in the Intro video. This is also where you would do a literature search to learn more about what's known about self-motion perception and vestibular signals. You would also want to examine any attempts to model self-motion, perceptual decision making and vestibular processing.</font>\n",
                "text/plain": "<IPython.core.display.Markdown object>"
              }
            ],
            "_view_module": "@jupyter-widgets/output",
            "_model_module_version": "1.0.0",
            "_view_count": null,
            "_view_module_version": "1.0.0",
            "layout": "IPY_MODEL_725c987f80cf4deab742613757a44781",
            "_model_module": "@jupyter-widgets/output"
          }
        },
        "8f8b33ea2a8043b49ce8368ac1a6bdf0": {
          "model_module": "@jupyter-widgets/output",
          "model_name": "OutputModel",
          "state": {
            "_view_name": "OutputView",
            "msg_id": "",
            "_dom_classes": [],
            "_model_name": "OutputModel",
            "outputs": [
              {
                "output_type": "display_data",
                "metadata": {
                  "tags": []
                },
                "text/markdown": "\n## Step 2\n\n<br>\n<font size='3pt'>\nWhile it seems a well-known fact that vestibular signals are noisy, we should check if we can also find this in the literature.\n\nLet's also see what's in our data, there should be a 4d array called `spikes` that has spike counts (positive integers), a 2d array called `perception` with self-motion judgements (0=no motion or 1=motion). Let's see what this data looks like:\n\n</font><br>\n",
                "text/plain": "<IPython.core.display.Markdown object>"
              },
              {
                "output_type": "stream",
                "metadata": {
                  "tags": []
                },
                "text": "The shape of `spikes` is: (3, 400, 40, 301)\nThe shape of `perception` is: (3, 400)\nThe mean of `perception` is: [0.355  0.7575 0.975 ]\n",
                "stream": "stdout"
              },
              {
                "output_type": "display_data",
                "metadata": {
                  "tags": []
                },
                "text/markdown": "\n<br>\n<font size='3pt'>\nIn the `spikes` array, we see our 3 acceleration conditions (first dimension), with 400 trials each (second dimensions) and simultaneous recordings from 40 neurons (third dimension), across 3 seconds in 10 ms bins (fourth dimension). The first two dimensions are also there in the `perception` array.\n\nPerfect perception would have looked like [0, 1, 1]. The average judgements are far from correct (lots of self-motion illusions) but they do make some sense: it's closer to 0 in the no-motion condition and closer to 1 in both of the real-motion conditions.\n\nThe idea of our project is that the vestibular signals are noisy so that they might be mis-interpreted by the brain. Let's see if we can reproduce the stimuli from the data:\n</font>\n<br>\n",
                "text/plain": "<IPython.core.display.Markdown object>"
              },
              {
                "output_type": "display_data",
                "metadata": {
                  "tags": [],
                  "needs_background": "light"
                },
                "image/png": "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\n",
                "text/plain": "<Figure size 432x288 with 1 Axes>"
              },
              {
                "output_type": "display_data",
                "metadata": {
                  "tags": []
                },
                "text/markdown": "\n<br>\n<font size='3pt'>\nBlue is the no-motion condition, and produces flat average spike counts across the 3 s time interval. The orange and green line do show a bell-shaped curve that corresponds to the acceleration profile. But there also seems to be considerable noise: exactly what we need. Let's see what the spike trains for a single trial look like:\n</font>\n<br>\n",
                "text/plain": "<IPython.core.display.Markdown object>"
              },
              {
                "output_type": "display_data",
                "metadata": {
                  "tags": [],
                  "needs_background": "light"
                },
                "image/png": "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\n",
                "text/plain": "<Figure size 432x288 with 1 Axes>"
              },
              {
                "output_type": "display_data",
                "metadata": {
                  "tags": [],
                  "needs_background": "light"
                },
                "image/png": "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\n",
                "text/plain": "<Figure size 432x288 with 1 Axes>"
              },
              {
                "output_type": "display_data",
                "metadata": {
                  "tags": [],
                  "needs_background": "light"
                },
                "image/png": "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\n",
                "text/plain": "<Figure size 432x288 with 1 Axes>"
              },
              {
                "output_type": "display_data",
                "metadata": {
                  "tags": []
                },
                "text/markdown": "\n<br>\n<font size='3pt'>\nYou can change the trial number in the bit of code above to compare what the rasterplots look like in different trials. You'll notice that they all look kind of the same: the 3 conditions are very hard (impossible?) to distinguish by eye-balling.\n\nNow that we have seen the data, let's see if we can extract self-motion judgements from the spike counts.\n</font>\n<br>\n",
                "text/plain": "<IPython.core.display.Markdown object>"
              }
            ],
            "_view_module": "@jupyter-widgets/output",
            "_model_module_version": "1.0.0",
            "_view_count": null,
            "_view_module_version": "1.0.0",
            "layout": "IPY_MODEL_b1d46a9c382944c9bce05d595e0f96ae",
            "_model_module": "@jupyter-widgets/output"
          }
        },
        "725c987f80cf4deab742613757a44781": {
          "model_module": "@jupyter-widgets/base",
          "model_name": "LayoutModel",
          "state": {
            "_view_name": "LayoutView",
            "grid_template_rows": null,
            "right": null,
            "justify_content": null,
            "_view_module": "@jupyter-widgets/base",
            "overflow": null,
            "_model_module_version": "1.2.0",
            "_view_count": null,
            "flex_flow": null,
            "width": null,
            "min_width": null,
            "border": null,
            "align_items": null,
            "bottom": null,
            "_model_module": "@jupyter-widgets/base",
            "top": null,
            "grid_column": null,
            "overflow_y": null,
            "overflow_x": null,
            "grid_auto_flow": null,
            "grid_area": null,
            "grid_template_columns": null,
            "flex": null,
            "_model_name": "LayoutModel",
            "justify_items": null,
            "grid_row": null,
            "max_height": null,
            "align_content": null,
            "visibility": null,
            "align_self": null,
            "height": null,
            "min_height": null,
            "padding": null,
            "grid_auto_rows": null,
            "grid_gap": null,
            "max_width": null,
            "order": null,
            "_view_module_version": "1.2.0",
            "grid_template_areas": null,
            "object_position": null,
            "object_fit": null,
            "grid_auto_columns": null,
            "margin": null,
            "display": null,
            "left": null
          }
        },
        "b1d46a9c382944c9bce05d595e0f96ae": {
          "model_module": "@jupyter-widgets/base",
          "model_name": "LayoutModel",
          "state": {
            "_view_name": "LayoutView",
            "grid_template_rows": null,
            "right": null,
            "justify_content": null,
            "_view_module": "@jupyter-widgets/base",
            "overflow": null,
            "_model_module_version": "1.2.0",
            "_view_count": null,
            "flex_flow": null,
            "width": null,
            "min_width": null,
            "border": null,
            "align_items": null,
            "bottom": null,
            "_model_module": "@jupyter-widgets/base",
            "top": null,
            "grid_column": null,
            "overflow_y": null,
            "overflow_x": null,
            "grid_auto_flow": null,
            "grid_area": null,
            "grid_template_columns": null,
            "flex": null,
            "_model_name": "LayoutModel",
            "justify_items": null,
            "grid_row": null,
            "max_height": null,
            "align_content": null,
            "visibility": null,
            "align_self": null,
            "height": null,
            "min_height": null,
            "padding": null,
            "grid_auto_rows": null,
            "grid_gap": null,
            "max_width": null,
            "order": null,
            "_view_module_version": "1.2.0",
            "grid_template_areas": null,
            "object_position": null,
            "object_fit": null,
            "grid_auto_columns": null,
            "margin": null,
            "display": null,
            "left": null
          }
        },
        "224c7042f38d4ef29f2f86f0e6502fd5": {
          "model_module": "@jupyter-widgets/controls",
          "model_name": "TabModel",
          "state": {
            "_view_name": "TabView",
            "_dom_classes": [],
            "_titles": {
              "0": "Computational Model",
              "1": "Data Analysis"
            },
            "_model_name": "TabModel",
            "_view_module": "@jupyter-widgets/controls",
            "selected_index": 1,
            "_model_module_version": "1.5.0",
            "_view_count": null,
            "_view_module_version": "1.5.0",
            "box_style": "",
            "layout": "IPY_MODEL_550dce4b9e31453e8b360ca2510f91ef",
            "_model_module": "@jupyter-widgets/controls",
            "children": [
              "IPY_MODEL_14a8a172639a4ea58799ae8974e7cf7b",
              "IPY_MODEL_88448dafe09d4157b040843db35e098f"
            ]
          }
        },
        "550dce4b9e31453e8b360ca2510f91ef": {
          "model_module": "@jupyter-widgets/base",
          "model_name": "LayoutModel",
          "state": {
            "_view_name": "LayoutView",
            "grid_template_rows": null,
            "right": null,
            "justify_content": null,
            "_view_module": "@jupyter-widgets/base",
            "overflow": null,
            "_model_module_version": "1.2.0",
            "_view_count": null,
            "flex_flow": null,
            "width": null,
            "min_width": null,
            "border": null,
            "align_items": null,
            "bottom": null,
            "_model_module": "@jupyter-widgets/base",
            "top": null,
            "grid_column": null,
            "overflow_y": null,
            "overflow_x": null,
            "grid_auto_flow": null,
            "grid_area": null,
            "grid_template_columns": null,
            "flex": null,
            "_model_name": "LayoutModel",
            "justify_items": null,
            "grid_row": null,
            "max_height": null,
            "align_content": null,
            "visibility": null,
            "align_self": null,
            "height": null,
            "min_height": null,
            "padding": null,
            "grid_auto_rows": null,
            "grid_gap": null,
            "max_width": null,
            "order": null,
            "_view_module_version": "1.2.0",
            "grid_template_areas": null,
            "object_position": null,
            "object_fit": null,
            "grid_auto_columns": null,
            "margin": null,
            "display": null,
            "left": null
          }
        },
        "14a8a172639a4ea58799ae8974e7cf7b": {
          "model_module": "@jupyter-widgets/output",
          "model_name": "OutputModel",
          "state": {
            "_view_name": "OutputView",
            "msg_id": "",
            "_dom_classes": [],
            "_model_name": "OutputModel",
            "outputs": [
              {
                "output_type": "display_data",
                "metadata": {
                  "tags": []
                },
                "text/markdown": "\n\n## Step 3\n<br>\n<font size='3pt'>\nWe determined that we probably needed the following ingredients for our model:\n\n* Vestibular input: *v(t)*\n\n* Binary decision output: *d* - time dependent?\n\n* Decision threshold: θ\n\n* A filter (maybe running average?): *f*\n\n* An integration mechanism to get from vestibular acceleration to sensed velocity: ∫\n\n</font>\n",
                "text/plain": "<IPython.core.display.Markdown object>"
              }
            ],
            "_view_module": "@jupyter-widgets/output",
            "_model_module_version": "1.0.0",
            "_view_count": null,
            "_view_module_version": "1.0.0",
            "layout": "IPY_MODEL_194ef7187334432780fc7710c66542b5",
            "_model_module": "@jupyter-widgets/output"
          }
        },
        "88448dafe09d4157b040843db35e098f": {
          "model_module": "@jupyter-widgets/output",
          "model_name": "OutputModel",
          "state": {
            "_view_name": "OutputView",
            "msg_id": "",
            "_dom_classes": [],
            "_model_name": "OutputModel",
            "outputs": [
              {
                "output_type": "display_data",
                "metadata": {
                  "tags": []
                },
                "text/markdown": "\n## Step 3\n<br>\n<font size='3pt'>\nIn order to address our question we need to design an appropriate computational data analysis pipeline. We did some brainstorming and think that we need to somehow extract the self-motion judgements from the spike counts of our neurons. Based on that, our algorithm needs to make a decision: was there self motion or not? This is a classical 2-choice classification problem. We will have to transform the raw spike data into the right input for the algorithm (spike pre-processing).\n\nSo we determined that we probably needed the following ingredients:\n\n* spike trains *S* of 3-second trials (10ms spike bins)\n* ground truth movement *m<sub>r</sub>* (real) and perceived movement *m<sub>p</sub>*\n* some form of classifier *C* giving us a classification *c*\n* spike pre-processing\n</font>\n",
                "text/plain": "<IPython.core.display.Markdown object>"
              }
            ],
            "_view_module": "@jupyter-widgets/output",
            "_model_module_version": "1.0.0",
            "_view_count": null,
            "_view_module_version": "1.0.0",
            "layout": "IPY_MODEL_150512ca180d4424b98f22c2af68331e",
            "_model_module": "@jupyter-widgets/output"
          }
        },
        "194ef7187334432780fc7710c66542b5": {
          "model_module": "@jupyter-widgets/base",
          "model_name": "LayoutModel",
          "state": {
            "_view_name": "LayoutView",
            "grid_template_rows": null,
            "right": null,
            "justify_content": null,
            "_view_module": "@jupyter-widgets/base",
            "overflow": null,
            "_model_module_version": "1.2.0",
            "_view_count": null,
            "flex_flow": null,
            "width": null,
            "min_width": null,
            "border": null,
            "align_items": null,
            "bottom": null,
            "_model_module": "@jupyter-widgets/base",
            "top": null,
            "grid_column": null,
            "overflow_y": null,
            "overflow_x": null,
            "grid_auto_flow": null,
            "grid_area": null,
            "grid_template_columns": null,
            "flex": null,
            "_model_name": "LayoutModel",
            "justify_items": null,
            "grid_row": null,
            "max_height": null,
            "align_content": null,
            "visibility": null,
            "align_self": null,
            "height": null,
            "min_height": null,
            "padding": null,
            "grid_auto_rows": null,
            "grid_gap": null,
            "max_width": null,
            "order": null,
            "_view_module_version": "1.2.0",
            "grid_template_areas": null,
            "object_position": null,
            "object_fit": null,
            "grid_auto_columns": null,
            "margin": null,
            "display": null,
            "left": null
          }
        },
        "150512ca180d4424b98f22c2af68331e": {
          "model_module": "@jupyter-widgets/base",
          "model_name": "LayoutModel",
          "state": {
            "_view_name": "LayoutView",
            "grid_template_rows": null,
            "right": null,
            "justify_content": null,
            "_view_module": "@jupyter-widgets/base",
            "overflow": null,
            "_model_module_version": "1.2.0",
            "_view_count": null,
            "flex_flow": null,
            "width": null,
            "min_width": null,
            "border": null,
            "align_items": null,
            "bottom": null,
            "_model_module": "@jupyter-widgets/base",
            "top": null,
            "grid_column": null,
            "overflow_y": null,
            "overflow_x": null,
            "grid_auto_flow": null,
            "grid_area": null,
            "grid_template_columns": null,
            "flex": null,
            "_model_name": "LayoutModel",
            "justify_items": null,
            "grid_row": null,
            "max_height": null,
            "align_content": null,
            "visibility": null,
            "align_self": null,
            "height": null,
            "min_height": null,
            "padding": null,
            "grid_auto_rows": null,
            "grid_gap": null,
            "max_width": null,
            "order": null,
            "_view_module_version": "1.2.0",
            "grid_template_areas": null,
            "object_position": null,
            "object_fit": null,
            "grid_auto_columns": null,
            "margin": null,
            "display": null,
            "left": null
          }
        },
        "560098594d994a1e977da47e7027a82a": {
          "model_module": "@jupyter-widgets/controls",
          "model_name": "TabModel",
          "state": {
            "_view_name": "TabView",
            "_dom_classes": [],
            "_titles": {
              "0": "Computational Model",
              "1": "Data Analysis"
            },
            "_model_name": "TabModel",
            "_view_module": "@jupyter-widgets/controls",
            "selected_index": 1,
            "_model_module_version": "1.5.0",
            "_view_count": null,
            "_view_module_version": "1.5.0",
            "box_style": "",
            "layout": "IPY_MODEL_e80359e44d65443193cc2b5e0a4e469d",
            "_model_module": "@jupyter-widgets/controls",
            "children": [
              "IPY_MODEL_cabddf99a475425d97d6012123b6a574",
              "IPY_MODEL_fe07ad9711f74f70913e05991cb75c7c"
            ]
          }
        },
        "e80359e44d65443193cc2b5e0a4e469d": {
          "model_module": "@jupyter-widgets/base",
          "model_name": "LayoutModel",
          "state": {
            "_view_name": "LayoutView",
            "grid_template_rows": null,
            "right": null,
            "justify_content": null,
            "_view_module": "@jupyter-widgets/base",
            "overflow": null,
            "_model_module_version": "1.2.0",
            "_view_count": null,
            "flex_flow": null,
            "width": null,
            "min_width": null,
            "border": null,
            "align_items": null,
            "bottom": null,
            "_model_module": "@jupyter-widgets/base",
            "top": null,
            "grid_column": null,
            "overflow_y": null,
            "overflow_x": null,
            "grid_auto_flow": null,
            "grid_area": null,
            "grid_template_columns": null,
            "flex": null,
            "_model_name": "LayoutModel",
            "justify_items": null,
            "grid_row": null,
            "max_height": null,
            "align_content": null,
            "visibility": null,
            "align_self": null,
            "height": null,
            "min_height": null,
            "padding": null,
            "grid_auto_rows": null,
            "grid_gap": null,
            "max_width": null,
            "order": null,
            "_view_module_version": "1.2.0",
            "grid_template_areas": null,
            "object_position": null,
            "object_fit": null,
            "grid_auto_columns": null,
            "margin": null,
            "display": null,
            "left": null
          }
        },
        "cabddf99a475425d97d6012123b6a574": {
          "model_module": "@jupyter-widgets/output",
          "model_name": "OutputModel",
          "state": {
            "_view_name": "OutputView",
            "msg_id": "",
            "_dom_classes": [],
            "_model_name": "OutputModel",
            "outputs": [
              {
                "output_type": "display_data",
                "metadata": {
                  "tags": []
                },
                "text/markdown": "\n\n## Step 4\n<br>\n<font size='3pt'>\nOur main hypothesis is that the strength of the illusion has a linear relationship to the amplitude of vestibular noise.\n\nMathematically, this would write as \n\n<div align=\"center\">\n<em>S</em> = <em>k</em> ⋅ <em>N</em>\n</div>\n\nwhere *S* is the illusion strength and *N* is the noise level, and *k* is a free parameter.\n>we could simply use the frequency of occurance across repetitions as the \"strength of the illusion\"\n\nWe would get the noise as the standard deviation of *v(t)*, i.e. \n\n<div align=\"center\">\n<em>N</em> = <b>E</b>[<em>v(t)</em><sup>2</sup>],\n</div>\n\n where $\\mathbf{E}$ stands for the expected value.\n\nDo we need to take the average across time points?\n> doesn't really matter because we have the generative process, so we can just use the $\\sigma$ that we define\n</font>\n",
                "text/plain": "<IPython.core.display.Markdown object>"
              }
            ],
            "_view_module": "@jupyter-widgets/output",
            "_model_module_version": "1.0.0",
            "_view_count": null,
            "_view_module_version": "1.0.0",
            "layout": "IPY_MODEL_f0affcfa1553425db666dd98a0918d9c",
            "_model_module": "@jupyter-widgets/output"
          }
        },
        "fe07ad9711f74f70913e05991cb75c7c": {
          "model_module": "@jupyter-widgets/output",
          "model_name": "OutputModel",
          "state": {
            "_view_name": "OutputView",
            "msg_id": "",
            "_dom_classes": [],
            "_model_name": "OutputModel",
            "outputs": [
              {
                "output_type": "display_data",
                "metadata": {
                  "tags": []
                },
                "text/markdown": "\n## Step 4\n<br>\n\n<font size='3pt'>\nWe think that noise in the signal drives whether or not people perceive self motion. Maybe the brain uses the strongest signal at peak acceleration to decide on self motion, but we actually think it is better to accumulate evidence over some period of time. We want to test this. The noise idea also means that when the signal-to-noise ratio is higher, the brain does better, and this would be in the faster acceleration condition. We want to test this too.\n\nWe came up with the following hypotheses focussing on specific details of our overall research question:\n\n* Hyp 1: Accumulated vestibular spike rates explain self-motion judgements better than average spike rates around peak acceleration.\n* Hyp 2: Classification performance should be better for faster vs slower self-motion.\n\n> There are many other hypotheses you could come up with, but for simplicity, let's go with those.\n\nMathematically, we can write our hypotheses as follows (using our above ingredients):\n* Hyp 1: **E**(c<sub>accum</sub>) > **E**(c<sub>win</sub>)\n* Hyp 2: **E**(c<sub>fast</sub>) > **E**(c<sub>slow</sub>)\n\nWhere **E** denotes taking the expected value (in this case the mean) of its argument: classification outcome in a given trial type.\n</font>\n",
                "text/plain": "<IPython.core.display.Markdown object>"
              }
            ],
            "_view_module": "@jupyter-widgets/output",
            "_model_module_version": "1.0.0",
            "_view_count": null,
            "_view_module_version": "1.0.0",
            "layout": "IPY_MODEL_29c071bd3b4d40b6aac6255d6ebadc86",
            "_model_module": "@jupyter-widgets/output"
          }
        },
        "f0affcfa1553425db666dd98a0918d9c": {
          "model_module": "@jupyter-widgets/base",
          "model_name": "LayoutModel",
          "state": {
            "_view_name": "LayoutView",
            "grid_template_rows": null,
            "right": null,
            "justify_content": null,
            "_view_module": "@jupyter-widgets/base",
            "overflow": null,
            "_model_module_version": "1.2.0",
            "_view_count": null,
            "flex_flow": null,
            "width": null,
            "min_width": null,
            "border": null,
            "align_items": null,
            "bottom": null,
            "_model_module": "@jupyter-widgets/base",
            "top": null,
            "grid_column": null,
            "overflow_y": null,
            "overflow_x": null,
            "grid_auto_flow": null,
            "grid_area": null,
            "grid_template_columns": null,
            "flex": null,
            "_model_name": "LayoutModel",
            "justify_items": null,
            "grid_row": null,
            "max_height": null,
            "align_content": null,
            "visibility": null,
            "align_self": null,
            "height": null,
            "min_height": null,
            "padding": null,
            "grid_auto_rows": null,
            "grid_gap": null,
            "max_width": null,
            "order": null,
            "_view_module_version": "1.2.0",
            "grid_template_areas": null,
            "object_position": null,
            "object_fit": null,
            "grid_auto_columns": null,
            "margin": null,
            "display": null,
            "left": null
          }
        },
        "29c071bd3b4d40b6aac6255d6ebadc86": {
          "model_module": "@jupyter-widgets/base",
          "model_name": "LayoutModel",
          "state": {
            "_view_name": "LayoutView",
            "grid_template_rows": null,
            "right": null,
            "justify_content": null,
            "_view_module": "@jupyter-widgets/base",
            "overflow": null,
            "_model_module_version": "1.2.0",
            "_view_count": null,
            "flex_flow": null,
            "width": null,
            "min_width": null,
            "border": null,
            "align_items": null,
            "bottom": null,
            "_model_module": "@jupyter-widgets/base",
            "top": null,
            "grid_column": null,
            "overflow_y": null,
            "overflow_x": null,
            "grid_auto_flow": null,
            "grid_area": null,
            "grid_template_columns": null,
            "flex": null,
            "_model_name": "LayoutModel",
            "justify_items": null,
            "grid_row": null,
            "max_height": null,
            "align_content": null,
            "visibility": null,
            "align_self": null,
            "height": null,
            "min_height": null,
            "padding": null,
            "grid_auto_rows": null,
            "grid_gap": null,
            "max_width": null,
            "order": null,
            "_view_module_version": "1.2.0",
            "grid_template_areas": null,
            "object_position": null,
            "object_fit": null,
            "grid_auto_columns": null,
            "margin": null,
            "display": null,
            "left": null
          }
        }
      }
    }
  },
  "cells": [
    {
      "cell_type": "markdown",
      "metadata": {
        "id": "view-in-github",
        "colab_type": "text"
      },
      "source": [
        "<a href=\"https://colab.research.google.com/github/NeuromatchAcademy/course-content/blob/W1D2_fixes/tutorials/W1D2_ModelingPractice/W1D2_Tutorial1.ipynb\" target=\"_parent\"><img src=\"https://colab.research.google.com/assets/colab-badge.svg\" alt=\"Open In Colab\"/></a>"
      ]
    },
    {
      "cell_type": "markdown",
      "metadata": {
        "id": "vBo62lLBcSyh"
      },
      "source": [
        "# Tutorial 1: Framing the Question\n",
        "**Week 1, Day 2: Modeling Practice**\n",
        "\n",
        "**By Neuromatch Academy**\n",
        "\n",
        "\n",
        "__Content creators:__ Marius 't Hart, Megan Peters, Paul Schrater, Gunnar Blohm\n",
        "\n",
        "\n",
        "__Content reviewers:__ Eric DeWitt, Tara van Viegen, Marius Pachitariu\n",
        "\n",
        "__Production editors:__ Ella Batty "
      ]
    },
    {
      "cell_type": "markdown",
      "metadata": {
        "id": "OgNmC1nrcSyh"
      },
      "source": [
        "**Our 2021 Sponsors, including Presenting Sponsor Facebook Reality Labs**\n",
        "\n",
        "<p align='center'><img src='https://github.com/NeuromatchAcademy/widgets/blob/master/sponsors.png?raw=True'/></p>"
      ]
    },
    {
      "cell_type": "markdown",
      "metadata": {
        "id": "rHgC0lpkcSyi"
      },
      "source": [
        "---\n",
        "# Tutorial objectives\n",
        "Yesterday you gained some understanding of what models can buy us in neuroscience. But how do you build a model? Today, we will try to clarify the process of computational modeling, by thinking through the logic of modeling based on your project ideas.\n",
        "\n",
        "We assume that you have a general idea of a project in mind, i.e. a preliminary question, and/or phenomenon you would like to understand. You should have started developing a project idea yesterday with [this brainstorming demo](https://youtu.be/H6rSlZzlrgQ). Maybe you have a goal in mind. We will now work through the 4 first steps of modeling ([Blohm et al., 2019](https://doi.org/10.1523/ENEURO.0352-19.2019)): \n",
        "\n",
        "**Framing the question**\n",
        "\n",
        "1. finding a phenomenon and a question to ask about it\n",
        "2. understanding the state of the art\n",
        "3. determining the basic ingredients\n",
        "4. formulating specific, mathematically defined hypotheses\n",
        "\n",
        "The remaining steps 5-10 will be covered in a second notebook that you can consult throughout the modeling process when you work on your projects.\n",
        "\n",
        "**Importantly**, we will guide you through Steps 1-4 today. After you do more work on projects, you likely have to revite some or all of these steps *before* you move on the the remaining steps of modeling. \n",
        "\n",
        "**Note**: there will be no coding today. It's important that you think through the different steps of this how-to-model tutorial to maximize your chance of succeeding in your group projects. **Also**: \"Models\" here can be data analysis pipelines, not just computational models...\n",
        "\n",
        "**Think! Sections**: All activities you should perform are labeled with **Think!**. These are discussion based exercises and can be found in the Table of Content on the left side of the notebook. Make sure you complete all within a section before moving on!\n",
        "\n",
        "### Demos\n",
        "We will demo the modeling process to you based on the train illusion. The introductory video will explain the phenomenon to you. Then we will do roleplay to showcase some common pitfalls to you based on a computational modeling project around the train illusion. In addition to the computational model, we will also provide a data neuroscience project example to you so you can appreciate similarities and differences. \n",
        "\n",
        "Enjoy!\n"
      ]
    },
    {
      "cell_type": "code",
      "metadata": {
        "cellView": "form",
        "execution": {
          "iopub.execute_input": "2021-07-04T18:37:24.708975Z",
          "iopub.status.busy": "2021-07-04T18:37:24.708431Z",
          "iopub.status.idle": "2021-07-04T18:37:24.895327Z",
          "shell.execute_reply": "2021-07-04T18:37:24.896102Z"
        },
        "colab": {
          "base_uri": "https://localhost:8080/",
          "height": 580,
          "referenced_widgets": [
            "6337de842d004e25b749b9f730b41445",
            "3dbd9ac639d04891b9f7f6d26c3651b3",
            "3b78a24584804e80b17743149549b758",
            "304509758b11422fa3278f55b48695c8",
            "716bd14b6f444005bc07273c7ae1cf51",
            "ac2b9f45b3564d9482b71cce872327f6"
          ]
        },
        "id": "uIbeWZTqcSyi",
        "outputId": "ae689137-a36d-4b08-fd07-6c2156e9a639"
      },
      "source": [
        "# @title Video 1: Introduction to tutorial\n",
        "from ipywidgets import widgets\n",
        "\n",
        "out2 = widgets.Output()\n",
        "with out2:\n",
        "  from IPython.display import IFrame\n",
        "  class BiliVideo(IFrame):\n",
        "      def __init__(self, id, page=1, width=400, height=300, **kwargs):\n",
        "          self.id=id\n",
        "          src = 'https://player.bilibili.com/player.html?bvid={0}&page={1}'.format(id, page)\n",
        "          super(BiliVideo, self).__init__(src, width, height, **kwargs)\n",
        "\n",
        "  video = BiliVideo(id=\"\", width=854, height=480, fs=1)\n",
        "  print('Video available at https://www.bilibili.com/video/{0}'.format(video.id))\n",
        "  display(video)\n",
        "\n",
        "out1 = widgets.Output()\n",
        "with out1:\n",
        "  from IPython.display import YouTubeVideo\n",
        "  video = YouTubeVideo(id=\"GyGNs1fLIYQ\", width=854, height=480, fs=1, rel=0)\n",
        "  print('Video available at https://youtube.com/watch?v=' + video.id)\n",
        "  display(video)\n",
        "\n",
        "out = widgets.Tab([out1, out2])\n",
        "out.set_title(0, 'Youtube')\n",
        "out.set_title(1, 'Bilibili')\n",
        "\n",
        "display(out)"
      ],
      "execution_count": 7,
      "outputs": [
        {
          "output_type": "display_data",
          "data": {
            "application/vnd.jupyter.widget-view+json": {
              "model_id": "6337de842d004e25b749b9f730b41445",
              "version_minor": 0,
              "version_major": 2
            },
            "text/plain": [
              "Tab(children=(Output(), Output()), _titles={'0': 'Youtube', '1': 'Bilibili'})"
            ]
          },
          "metadata": {
            "tags": []
          }
        }
      ]
    },
    {
      "cell_type": "markdown",
      "metadata": {
        "id": "Agg4So-2cSyj"
      },
      "source": [
        "# Setup"
      ]
    },
    {
      "cell_type": "code",
      "metadata": {
        "execution": {
          "iopub.execute_input": "2021-07-04T18:37:24.904824Z",
          "iopub.status.busy": "2021-07-04T18:37:24.904333Z",
          "iopub.status.idle": "2021-07-04T18:37:27.218853Z",
          "shell.execute_reply": "2021-07-04T18:37:27.219385Z"
        },
        "id": "1b8_Tc92cSyj"
      },
      "source": [
        "# Imports\n",
        "\n",
        "import numpy as np\n",
        "import matplotlib.pyplot as plt\n",
        "\n",
        "# for random distributions:\n",
        "from scipy.stats import norm, poisson\n",
        "\n",
        "# for logistic regression:\n",
        "from sklearn.linear_model import LogisticRegression\n",
        "from sklearn.model_selection import cross_val_score"
      ],
      "execution_count": 8,
      "outputs": []
    },
    {
      "cell_type": "code",
      "metadata": {
        "cellView": "form",
        "execution": {
          "iopub.execute_input": "2021-07-04T18:37:27.227268Z",
          "iopub.status.busy": "2021-07-04T18:37:27.226702Z",
          "iopub.status.idle": "2021-07-04T18:37:27.229372Z",
          "shell.execute_reply": "2021-07-04T18:37:27.228961Z"
        },
        "id": "Y3KoJCtrcSyk"
      },
      "source": [
        "# @title Plotting Functions\n",
        "\n",
        "def rasterplot(spikes,movement,trial):\n",
        "\n",
        "  [movements, trials, neurons, timepoints] = np.shape(spikes)\n",
        "\n",
        "  trial_spikes = spikes[movement,trial,:,:]\n",
        "\n",
        "  trial_events = [((trial_spikes[x,:] > 0).nonzero()[0]-150)/100 for x in range(neurons)]\n",
        "\n",
        "  plt.figure()\n",
        "  dt=1/100\n",
        "  plt.eventplot(trial_events, linewidths=1);\n",
        "  plt.title('movement: %d - trial: %d'%(movement, trial))\n",
        "  plt.ylabel('neuron')\n",
        "  plt.xlabel('time [s]')\n",
        "\n",
        "def plotCrossValAccuracies(accuracies):\n",
        "  f, ax = plt.subplots(figsize=(8, 3))\n",
        "  ax.boxplot(accuracies, vert=False, widths=.7)\n",
        "  ax.scatter(accuracies, np.ones(8))\n",
        "  ax.set(\n",
        "    xlabel=\"Accuracy\",\n",
        "    yticks=[],\n",
        "    title=f\"Average test accuracy: {accuracies.mean():.2%}\"\n",
        "  )\n",
        "  ax.spines[\"left\"].set_visible(False)"
      ],
      "execution_count": 9,
      "outputs": []
    },
    {
      "cell_type": "code",
      "metadata": {
        "cellView": "form",
        "execution": {
          "iopub.execute_input": "2021-07-04T18:37:27.523655Z",
          "iopub.status.busy": "2021-07-04T18:37:27.522423Z",
          "iopub.status.idle": "2021-07-04T18:37:31.330189Z",
          "shell.execute_reply": "2021-07-04T18:37:31.329175Z"
        },
        "id": "XGp4yHWbcSyk"
      },
      "source": [
        "#@title Generate Data\n",
        "\n",
        "def generateSpikeTrains():\n",
        "\n",
        "  gain        = 2\n",
        "  neurons     = 50\n",
        "  movements   = [0,1,2]\n",
        "  repetitions = 800\n",
        "\n",
        "  np.random.seed(37)\n",
        "\n",
        "  # set up the basic parameters:\n",
        "  dt = 1/100\n",
        "  start, stop = -1.5, 1.5\n",
        "  t = np.arange(start, stop+dt, dt)                                            # a time interval\n",
        "  Velocity_sigma = 0.5                                                         # std dev of the velocity profile\n",
        "  Velocity_Profile = norm.pdf(t,0,Velocity_sigma)/norm.pdf(0,0,Velocity_sigma) # The Gaussian velocity profile, normalized to a peak of 1\n",
        "\n",
        "  # set up the neuron properties:\n",
        "  Gains = np.random.rand(neurons) * gain          # random sensitivity between 0 and `gain`\n",
        "  FRs   = (np.random.rand(neurons) * 60 ) - 10    # random base firing rate between -10 and 50\n",
        "\n",
        "  # output matrix will have this shape:\n",
        "  target_shape = [len(movements), repetitions, neurons, len(Velocity_Profile)]\n",
        "\n",
        "  # build matrix for spikes, first, they depend on the velocity profile:\n",
        "  Spikes = np.repeat(Velocity_Profile.reshape([1,1,1,len(Velocity_Profile)]),len(movements)*repetitions*neurons,axis=2).reshape(target_shape)\n",
        "\n",
        "  # multiplied by gains:\n",
        "  S_gains = np.repeat(np.repeat(Gains.reshape([1,1,neurons]), len(movements)*repetitions, axis=1).reshape(target_shape[:3]), len(Velocity_Profile)).reshape(target_shape)\n",
        "  Spikes = Spikes * S_gains\n",
        "\n",
        "  # and multiplied by the movement:\n",
        "  S_moves = np.repeat( np.array(movements).reshape([len(movements),1,1,1]), repetitions*neurons*len(Velocity_Profile), axis=3 ).reshape(target_shape)\n",
        "  Spikes = Spikes * S_moves\n",
        "\n",
        "  # on top of a baseline firing rate:\n",
        "  S_FR = np.repeat(np.repeat(FRs.reshape([1,1,neurons]), len(movements)*repetitions, axis=1).reshape(target_shape[:3]), len(Velocity_Profile)).reshape(target_shape)\n",
        "  Spikes = Spikes + S_FR\n",
        "\n",
        "  # can not run the poisson random number generator on input lower than 0:\n",
        "  Spikes = np.where(Spikes < 0, 0, Spikes)\n",
        "\n",
        "  # so far, these were expected firing rates per second, correct for dt:\n",
        "  Spikes = poisson.rvs(Spikes * dt)\n",
        "\n",
        "  return(Spikes)\n",
        "\n",
        "\n",
        "def subsetPerception(spikes):\n",
        "\n",
        "  movements = [0,1,2]\n",
        "  split     = 400\n",
        "  subset    = 40\n",
        "  hwin      = 3\n",
        "\n",
        "  [num_movements, repetitions, neurons, timepoints] = np.shape(spikes)\n",
        "\n",
        "  decision = np.zeros([num_movements, repetitions])\n",
        "\n",
        "  # ground truth for logistic regression:\n",
        "  y_train = np.repeat([0,1,1],split)\n",
        "  y_test  = np.repeat([0,1,1],repetitions-split)\n",
        "\n",
        "  m_train = np.repeat(movements, split)\n",
        "  m_test  = np.repeat(movements, split)\n",
        "\n",
        "  # reproduce the time points:\n",
        "  dt = 1/100\n",
        "  start, stop = -1.5, 1.5\n",
        "  t = np.arange(start, stop+dt, dt)\n",
        "\n",
        "  w_idx = list( (abs(t) < (hwin*dt)).nonzero()[0] )\n",
        "  w_0 = min(w_idx)\n",
        "  w_1 = max(w_idx)+1  # python...\n",
        "\n",
        "  # get the total spike counts from stationary and movement trials:\n",
        "  spikes_stat = np.sum( spikes[0,:,:,:], axis=2)\n",
        "  spikes_move = np.sum( spikes[1:,:,:,:], axis=3)\n",
        "\n",
        "  train_spikes_stat = spikes_stat[:split,:]\n",
        "  train_spikes_move = spikes_move[:,:split,:].reshape([-1,neurons])\n",
        "\n",
        "  test_spikes_stat = spikes_stat[split:,:]\n",
        "  test_spikes_move = spikes_move[:,split:,:].reshape([-1,neurons])\n",
        "\n",
        "  # data to use to predict y:\n",
        "  x_train = np.concatenate((train_spikes_stat, train_spikes_move))\n",
        "  x_test  = np.concatenate(( test_spikes_stat,  test_spikes_move))\n",
        "\n",
        "  # this line creates a logistics regression model object, and immediately fits it:\n",
        "  population_model = LogisticRegression(solver='liblinear', random_state=0).fit(x_train, y_train)\n",
        "\n",
        "  # solver, one of: 'liblinear', 'newton-cg', 'lbfgs', 'sag', and 'saga'\n",
        "  # some of those require certain other options\n",
        "  #print(population_model.coef_)       # slope\n",
        "  #print(population_model.intercept_)  # intercept\n",
        "\n",
        "  ground_truth = np.array(population_model.predict(x_test))\n",
        "  ground_truth = ground_truth.reshape([3,-1])\n",
        "\n",
        "  output = {}\n",
        "  output['perception'] = ground_truth\n",
        "  output['spikes']     = spikes[:,split:,:subset,:]\n",
        "\n",
        "  return(output)\n",
        "\n",
        "\n",
        "def getData():\n",
        "\n",
        "  spikes = generateSpikeTrains()\n",
        "\n",
        "  dataset = subsetPerception(spikes=spikes)\n",
        "\n",
        "  return(dataset)\n",
        "\n",
        "dataset = getData()\n",
        "perception = dataset['perception']\n",
        "spikes = dataset['spikes']"
      ],
      "execution_count": 10,
      "outputs": []
    },
    {
      "cell_type": "markdown",
      "metadata": {
        "id": "AematlN-cSyn"
      },
      "source": [
        "----\n",
        "# Step 1: Finding a phenomenon and a question to ask about it\n"
      ]
    },
    {
      "cell_type": "code",
      "metadata": {
        "cellView": "form",
        "execution": {
          "iopub.execute_input": "2021-07-04T18:37:31.341141Z",
          "iopub.status.busy": "2021-07-04T18:37:31.337679Z",
          "iopub.status.idle": "2021-07-04T18:37:31.428019Z",
          "shell.execute_reply": "2021-07-04T18:37:31.427386Z"
        },
        "colab": {
          "base_uri": "https://localhost:8080/",
          "height": 580,
          "referenced_widgets": [
            "7c853517b4214f8f9867f08cb17801f8",
            "95fa332a412947f980ff3f643e8d689c",
            "4cd2916eb22b4f69b0184d149c0c06fe",
            "bac1d6a59849419e8b455bb34a140092",
            "638a20cba2a748cda4277ff750557ada",
            "d2428b4ec97347a6a0c72c75e0a82e46"
          ]
        },
        "id": "vPyaj-iVcSyo",
        "outputId": "0d584a6c-dd2e-4ecc-da41-d69ee35e4be1"
      },
      "source": [
        "# @title Video 2: Asking a question\n",
        "from ipywidgets import widgets\n",
        "\n",
        "out2 = widgets.Output()\n",
        "with out2:\n",
        "  from IPython.display import IFrame\n",
        "  class BiliVideo(IFrame):\n",
        "      def __init__(self, id, page=1, width=400, height=300, **kwargs):\n",
        "          self.id=id\n",
        "          src = 'https://player.bilibili.com/player.html?bvid={0}&page={1}'.format(id, page)\n",
        "          super(BiliVideo, self).__init__(src, width, height, **kwargs)\n",
        "\n",
        "  video = BiliVideo(id=\"\", width=854, height=480, fs=1)\n",
        "  print('Video available at https://www.bilibili.com/video/{0}'.format(video.id))\n",
        "  display(video)\n",
        "\n",
        "out1 = widgets.Output()\n",
        "with out1:\n",
        "  from IPython.display import YouTubeVideo\n",
        "  video = YouTubeVideo(id=\"4Gl8X_y_uoA\", width=854, height=480, fs=1, rel=0)\n",
        "  print('Video available at https://youtube.com/watch?v=' + video.id)\n",
        "  display(video)\n",
        "\n",
        "out = widgets.Tab([out1, out2])\n",
        "out.set_title(0, 'Youtube')\n",
        "out.set_title(1, 'Bilibili')\n",
        "\n",
        "display(out)"
      ],
      "execution_count": 11,
      "outputs": [
        {
          "output_type": "display_data",
          "data": {
            "application/vnd.jupyter.widget-view+json": {
              "model_id": "7c853517b4214f8f9867f08cb17801f8",
              "version_minor": 0,
              "version_major": 2
            },
            "text/plain": [
              "Tab(children=(Output(), Output()), _titles={'0': 'Youtube', '1': 'Bilibili'})"
            ]
          },
          "metadata": {
            "tags": []
          }
        }
      ]
    },
    {
      "cell_type": "code",
      "metadata": {
        "execution": {
          "iopub.execute_input": "2021-07-04T18:37:31.447791Z",
          "iopub.status.busy": "2021-07-04T18:37:31.442421Z",
          "iopub.status.idle": "2021-07-04T18:37:31.479257Z",
          "shell.execute_reply": "2021-07-04T18:37:31.478696Z"
        },
        "colab": {
          "base_uri": "https://localhost:8080/",
          "height": 456,
          "referenced_widgets": [
            "dfb1b20ff1f341df8f7fae06b0ff46c5",
            "39c87532b6b94ec6885489d6ae13c825",
            "fbacfc6286fc439d8eacfe12765e43e0",
            "10dcfa3bd3b6449a85d8aae2e67ee2bd",
            "0c366cb5c9ec49f98ebcd5f5a3fc3091",
            "60b1c78f5fd04177a1a74914cae6bf7b"
          ]
        },
        "cellView": "form",
        "id": "-TuU1f5PcSyo",
        "outputId": "ae129165-717a-408c-c075-aaf4690bdbf6"
      },
      "source": [
        "# @title Example projects step 1\n",
        "from ipywidgets import widgets\n",
        "from IPython.display import Markdown\n",
        "\n",
        "markdown1 = '''\n",
        "\n",
        "## Step 1\n",
        "<br>\n",
        "<font size='3pt'>\n",
        "The train illusion occurs when sitting on a train and viewing another train outside the window. Suddenly, the other train *seems* to move, i.e. you experience visual motion of the other train relative to your train. But which train is actually moving?\n",
        "\n",
        "Often people have the wrong percept. In particular, they think their own train might be moving when it's the other train that moves; or vice versa. The illusion is usually resolved once you gain vision of the surroundings that lets you disambiguate the relative motion; or if you experience strong vibrations indicating that it is indeed your own train that is in motion.\n",
        "\n",
        "\n",
        "We asked the following (arbitrary) question for our demo project: \"How do noisy vestibular estimates of motion lead to illusory percepts of self motion?\"\n",
        "</font>\n",
        "'''\n",
        "\n",
        "markdown2 = '''\n",
        "## Step 1\n",
        "<br>\n",
        "\n",
        "<font size='3pt'>\n",
        "The train illusion occurs when sitting on a train and viewing another train outside the window. Suddenly, the other train *seems* to move, i.e. you experience visual motion of the other train relative to your train. But which train is actually moving?\n",
        "\n",
        "Often people mix this up. In particular, they think their own train might be moving when it's the other train that moves; or vice versa. The illusion is usually resolved once you gain vision of the surroundings that lets you disambiguate the relative motion; or if you experience strong vibrations indicating that it is indeed your own train that is in motion.\n",
        "\n",
        "\n",
        "We assume that we have build the train illusion model (see the other example project colab). That model predicts that accumulated sensory evidence from vestibular signals determines the decision of whether self-motion is experienced or not. We now have vestibular neuron data (simulated in our case, but let's pretend) and would like to see if that prediction holds true.\n",
        "\n",
        "The data contains *N* neurons and *M* trials for each of 3 motion conditions: no self-motion, slowly accelerating self-motion and faster accelerating self-motion. In our data,\n",
        "*N* = 40 and *M* = 400.\n",
        "\n",
        "**So we can ask the following question**: \"Does accumulated vestibular neuron activity correlate with self-motion judgements?\"\n",
        "</font>\n",
        "'''\n",
        "\n",
        "out2 = widgets.Output()\n",
        "with out2:\n",
        "  display(Markdown(markdown2))\n",
        "\n",
        "out1 = widgets.Output()\n",
        "with out1:\n",
        "  display(Markdown(markdown1))\n",
        "\n",
        "out = widgets.Tab([out1, out2])\n",
        "out.set_title(0, 'Computational Model')\n",
        "out.set_title(1, 'Data Analysis')\n",
        "\n",
        "display(out)"
      ],
      "execution_count": 12,
      "outputs": [
        {
          "output_type": "display_data",
          "data": {
            "application/vnd.jupyter.widget-view+json": {
              "model_id": "dfb1b20ff1f341df8f7fae06b0ff46c5",
              "version_minor": 0,
              "version_major": 2
            },
            "text/plain": [
              "Tab(children=(Output(), Output()), _titles={'0': 'Computational Model', '1': 'Data Analysis'})"
            ]
          },
          "metadata": {
            "tags": []
          }
        }
      ]
    },
    {
      "cell_type": "markdown",
      "metadata": {
        "id": "bzxXgZoScSyp"
      },
      "source": [
        "## Think! 1: Asking your own question \n",
        "\n",
        "*Please discuss the following for about 25 min*\n",
        "\n",
        "You should already have a project idea from your brainstorming yesterday. **Write down the phenomenon, question and goal(s) if you have them.** \n",
        "\n",
        "As a reminder, here is what you should discuss and write down:\n",
        "\n",
        "* What exact aspect of data needs modeling?\n",
        "  * Answer this question clearly and precisely!\n",
        "Otherwise you will get lost (almost guaranteed)\n",
        "  * Write everything down!\n",
        "  * Also identify aspects of data that you do not want to address (yet)\n",
        "* Define an evaluation method!\n",
        "  * How will you know your modeling is good?\n",
        "  * E.g. comparison to specific data (quantitative method of comparison?)\n",
        "* For computational models: think of an experiment that could test your model\n",
        "  * You essentially want your model to interface with this experiment, i.e. you want to simulate this experiment\n",
        "\n",
        "You can find interesting questions by looking for phenomena that differ from your expectations. In *what* way does it differ? *How* could that be explained (starting to think about mechanistic questions and structural hypotheses)? *Why* could it be the way it is? What experiment could you design to investigate this phenomenon? What kind of data would you need?"
      ]
    },
    {
      "cell_type": "markdown",
      "metadata": {
        "id": "jLoQrgZDcSyp"
      },
      "source": [
        "**Make sure to avoid the pitfalls!**\n",
        "<details>\n",
        "<summary>Click here for a recap on pitfalls</summary>\n",
        "\n",
        "Question is too general\n",
        "<ul>\n",
        "  <li>Remember: science advances one small step at the time. Get the small step right…</li>\n",
        "  </ul>\n",
        "\n",
        "Precise aspect of phenomenon you want to model is unclear\n",
        "  <ul>\n",
        "  <li>You will fail to ask a meaningful question</li>\n",
        "  </ul>\n",
        "\n",
        "You have already chosen a toolkit\n",
        "  <ul>\n",
        "  <li>This will prevent you from thinking deeply about the best way to answer your scientific question</li>\n",
        "  </ul>\n",
        "\n",
        "You don’t have a clear goal\n",
        "  <ul>\n",
        "  <li>What do you want to get out of modeling?</li>\n",
        "  </ul>\n",
        "\n",
        "You don’t have a potential experiment in mind\n",
        "  <ul>\n",
        "  <li>This will help concretize your objectives and think through the logic behind your goal</li>\n",
        "  </ul>\n",
        "</details>"
      ]
    },
    {
      "cell_type": "markdown",
      "metadata": {
        "id": "lUgsEat5cSyp"
      },
      "source": [
        "**Note**\n",
        "\n",
        "The hardest part is Step 1. Once that is properly set up, all other should be easier. **BUT**: often you think that Step 1 is done only to figure out in later steps (anywhere really) that you were not as clear on your question and goal than you thought. Revisiting Step 1 is frequent necessity. Don't feel bad about it. You can revisit Step 1 later; for now, let's move on to the nest step."
      ]
    },
    {
      "cell_type": "markdown",
      "metadata": {
        "id": "NcWezHN7cSyq"
      },
      "source": [
        "----\n",
        "# Step 2: Understanding the state of the art & background\n"
      ]
    },
    {
      "cell_type": "markdown",
      "metadata": {
        "id": "Uroazt1CcSyq"
      },
      "source": [
        "Here you will do a literature review (**to be done AFTER this tutorial!**)."
      ]
    },
    {
      "cell_type": "code",
      "metadata": {
        "cellView": "form",
        "execution": {
          "iopub.execute_input": "2021-07-04T18:37:31.483167Z",
          "iopub.status.busy": "2021-07-04T18:37:31.482661Z",
          "iopub.status.idle": "2021-07-04T18:37:31.575318Z",
          "shell.execute_reply": "2021-07-04T18:37:31.573201Z"
        },
        "colab": {
          "base_uri": "https://localhost:8080/",
          "height": 580,
          "referenced_widgets": [
            "cd7ff10dfd7c4318a0de8b2f62be9e97",
            "996a4c48e5364bb7b3be69d9df948101",
            "6d60f11cf17145068177bdfb5aa873bf",
            "6936cda3ab4f416d8d1bc705ea0594b3",
            "5ca62cc19b0c4c0eafbb575383a368b5",
            "13629991bf094493b37d7f1c395c5328"
          ]
        },
        "id": "Rqze9QA_cSyq",
        "outputId": "466017d3-28d5-4b86-9bac-906a1bc66ee1"
      },
      "source": [
        "# @title Video 3: Literature Review & Background Knowledge\n",
        "from ipywidgets import widgets\n",
        "\n",
        "out2 = widgets.Output()\n",
        "with out2:\n",
        "  from IPython.display import IFrame\n",
        "  class BiliVideo(IFrame):\n",
        "      def __init__(self, id, page=1, width=400, height=300, **kwargs):\n",
        "          self.id=id\n",
        "          src = 'https://player.bilibili.com/player.html?bvid={0}&page={1}'.format(id, page)\n",
        "          super(BiliVideo, self).__init__(src, width, height, **kwargs)\n",
        "\n",
        "  video = BiliVideo(id=\"\", width=854, height=480, fs=1)\n",
        "  print('Video available at https://www.bilibili.com/video/{0}'.format(video.id))\n",
        "  display(video)\n",
        "\n",
        "out1 = widgets.Output()\n",
        "with out1:\n",
        "  from IPython.display import YouTubeVideo\n",
        "  video = YouTubeVideo(id=\"d8zriLaMc14\", width=854, height=480, fs=1, rel=0)\n",
        "  print('Video available at https://youtube.com/watch?v=' + video.id)\n",
        "  display(video)\n",
        "\n",
        "out = widgets.Tab([out1, out2])\n",
        "out.set_title(0, 'Youtube')\n",
        "out.set_title(1, 'Bilibili')\n",
        "\n",
        "display(out)"
      ],
      "execution_count": 13,
      "outputs": [
        {
          "output_type": "display_data",
          "data": {
            "application/vnd.jupyter.widget-view+json": {
              "model_id": "cd7ff10dfd7c4318a0de8b2f62be9e97",
              "version_minor": 0,
              "version_major": 2
            },
            "text/plain": [
              "Tab(children=(Output(), Output()), _titles={'0': 'Youtube', '1': 'Bilibili'})"
            ]
          },
          "metadata": {
            "tags": []
          }
        }
      ]
    },
    {
      "cell_type": "code",
      "metadata": {
        "execution": {
          "iopub.execute_input": "2021-07-04T18:37:31.581646Z",
          "iopub.status.busy": "2021-07-04T18:37:31.581167Z",
          "iopub.status.idle": "2021-07-04T18:37:32.940968Z",
          "shell.execute_reply": "2021-07-04T18:37:32.938928Z"
        },
        "colab": {
          "base_uri": "https://localhost:8080/",
          "height": 1000,
          "referenced_widgets": [
            "e1951f7d3a67423e9ec478f96c024c99",
            "21a756756b5c496ba1f1f4c59187ae9a",
            "30d324af0931426ea1e9adba42f40585",
            "8f8b33ea2a8043b49ce8368ac1a6bdf0",
            "725c987f80cf4deab742613757a44781",
            "b1d46a9c382944c9bce05d595e0f96ae"
          ]
        },
        "cellView": "form",
        "id": "rOkWRP7HcSyq",
        "outputId": "4ea6fcd1-9f59-4fd4-b1e8-43bfcbbb3683"
      },
      "source": [
        "# @title Example projects step 2\n",
        "from ipywidgets import widgets\n",
        "from IPython.display import Markdown\n",
        "\n",
        "markdown1 = '''\n",
        "\n",
        "## Step 2\n",
        "\n",
        "<br>\n",
        "<font size='3pt'>\n",
        "\n",
        "You have learned all about the vestibular system in the Intro video. This is also where you would do a literature search to learn more about what's known about self-motion perception and vestibular signals. You would also want to examine any attempts to model self-motion, perceptual decision making and vestibular processing.</font>\n",
        "'''\n",
        "\n",
        "markdown21 = '''\n",
        "## Step 2\n",
        "\n",
        "<br>\n",
        "<font size='3pt'>\n",
        "While it seems a well-known fact that vestibular signals are noisy, we should check if we can also find this in the literature.\n",
        "\n",
        "Let's also see what's in our data, there should be a 4d array called `spikes` that has spike counts (positive integers), a 2d array called `perception` with self-motion judgements (0=no motion or 1=motion). Let's see what this data looks like:\n",
        "\n",
        "</font><br>\n",
        "'''\n",
        "\n",
        "markdown22 = '''\n",
        "<br>\n",
        "<font size='3pt'>\n",
        "In the `spikes` array, we see our 3 acceleration conditions (first dimension), with 400 trials each (second dimensions) and simultaneous recordings from 40 neurons (third dimension), across 3 seconds in 10 ms bins (fourth dimension). The first two dimensions are also there in the `perception` array.\n",
        "\n",
        "Perfect perception would have looked like [0, 1, 1]. The average judgements are far from correct (lots of self-motion illusions) but they do make some sense: it's closer to 0 in the no-motion condition and closer to 1 in both of the real-motion conditions.\n",
        "\n",
        "The idea of our project is that the vestibular signals are noisy so that they might be mis-interpreted by the brain. Let's see if we can reproduce the stimuli from the data:\n",
        "</font>\n",
        "<br>\n",
        "'''\n",
        "\n",
        "markdown23 = '''\n",
        "<br>\n",
        "<font size='3pt'>\n",
        "Blue is the no-motion condition, and produces flat average spike counts across the 3 s time interval. The orange and green line do show a bell-shaped curve that corresponds to the acceleration profile. But there also seems to be considerable noise: exactly what we need. Let's see what the spike trains for a single trial look like:\n",
        "</font>\n",
        "<br>\n",
        "'''\n",
        "\n",
        "markdown24 = '''\n",
        "<br>\n",
        "<font size='3pt'>\n",
        "You can change the trial number in the bit of code above to compare what the rasterplots look like in different trials. You'll notice that they all look kind of the same: the 3 conditions are very hard (impossible?) to distinguish by eye-balling.\n",
        "\n",
        "Now that we have seen the data, let's see if we can extract self-motion judgements from the spike counts.\n",
        "</font>\n",
        "<br>\n",
        "'''\n",
        "\n",
        "display(Markdown(r\"\"))\n",
        "\n",
        "out2 = widgets.Output()\n",
        "with out2:\n",
        "  display(Markdown(markdown21))\n",
        "  print(f'The shape of `spikes` is: {np.shape(spikes)}')\n",
        "  print(f'The shape of `perception` is: {np.shape(perception)}')\n",
        "  print(f'The mean of `perception` is: {np.mean(perception, axis=1)}')\n",
        "  display(Markdown(markdown22))\n",
        "\n",
        "  for move_no in range(3):\n",
        "    plt.plot(np.arange(-1.5,1.5+(1/100),(1/100)),np.mean(np.mean(spikes[move_no,:,:,:], axis=0), axis=0), label=['no motion', '$1 m/s^2$', '$2 m/s^2$'][move_no])\n",
        "  plt.xlabel('time [s]');\n",
        "  plt.ylabel('averaged spike counts');\n",
        "  plt.legend()\n",
        "  plt.show()\n",
        "\n",
        "  display(Markdown(markdown23))\n",
        "\n",
        "  for move in range(3):\n",
        "    rasterplot(spikes = spikes, movement = move, trial = 0)\n",
        "  plt.show()\n",
        "\n",
        "  display(Markdown(markdown24))\n",
        "\n",
        "out1 = widgets.Output()\n",
        "with out1:\n",
        "  display(Markdown(markdown1))\n",
        "\n",
        "out = widgets.Tab([out1, out2])\n",
        "out.set_title(0, 'Computational Model')\n",
        "out.set_title(1, 'Data Analysis')\n",
        "\n",
        "display(out)"
      ],
      "execution_count": 24,
      "outputs": [
        {
          "output_type": "display_data",
          "data": {
            "text/markdown": "",
            "text/plain": [
              "<IPython.core.display.Markdown object>"
            ]
          },
          "metadata": {
            "tags": []
          }
        },
        {
          "output_type": "display_data",
          "data": {
            "application/vnd.jupyter.widget-view+json": {
              "model_id": "e1951f7d3a67423e9ec478f96c024c99",
              "version_minor": 0,
              "version_major": 2
            },
            "text/plain": [
              "Tab(children=(Output(), Output()), _titles={'0': 'Computational Model', '1': 'Data Analysis'})"
            ]
          },
          "metadata": {
            "tags": []
          }
        }
      ]
    },
    {
      "cell_type": "markdown",
      "metadata": {
        "id": "6aHwmgQXcSyq"
      },
      "source": [
        "Here you will do a literature review (**to be done AFTER this tutorial!**). For the projects, do not spend too much time on this. A thorough literature review could take weeks or months depending on your prior knowledge of the field...\n",
        "\n",
        "The important thing for your project here is not to exhaustively survey the literature but rather to learn the process of modeling. 1-2 days of digging into the literature should be enough!\n",
        "\n",
        "**Here is what you should get out of it**:\n",
        "* Survey the literature\n",
        "  * What’s known?\n",
        "  * What has already been done?\n",
        "  * Previous models as a starting point?\n",
        "  * What hypotheses have been emitted in the field?\n",
        "  * Are there any alternative / complementary modeling approaches?\n",
        "* What skill sets are required?\n",
        "  * Do I need learn something before I can start?\n",
        "  * Ensure that no important aspect is missed\n",
        "* Potentially provides specific data sets / alternative modeling approaches for comparison\n"
      ]
    },
    {
      "cell_type": "markdown",
      "metadata": {
        "id": "S7fxcA10cSyr"
      },
      "source": [
        "**Do this AFTER the tutorial**"
      ]
    },
    {
      "cell_type": "markdown",
      "metadata": {
        "id": "4LnebBfAcSyr"
      },
      "source": [
        "----\n",
        "# Step 3: Determining the basic ingredients\n"
      ]
    },
    {
      "cell_type": "code",
      "metadata": {
        "cellView": "form",
        "execution": {
          "iopub.execute_input": "2021-07-04T18:37:32.964548Z",
          "iopub.status.busy": "2021-07-04T18:37:32.964083Z",
          "iopub.status.idle": "2021-07-04T18:37:33.133977Z",
          "shell.execute_reply": "2021-07-04T18:37:33.134369Z"
        },
        "id": "_jAL_t5lcSyr"
      },
      "source": [
        "# @title Video 4: Determining basic ingredients\n",
        "from ipywidgets import widgets\n",
        "\n",
        "out2 = widgets.Output()\n",
        "with out2:\n",
        "  from IPython.display import IFrame\n",
        "  class BiliVideo(IFrame):\n",
        "      def __init__(self, id, page=1, width=400, height=300, **kwargs):\n",
        "          self.id=id\n",
        "          src = 'https://player.bilibili.com/player.html?bvid={0}&page={1}'.format(id, page)\n",
        "          super(BiliVideo, self).__init__(src, width, height, **kwargs)\n",
        "\n",
        "  video = BiliVideo(id=\"\", width=854, height=480, fs=1)\n",
        "  print('Video available at https://www.bilibili.com/video/{0}'.format(video.id))\n",
        "  display(video)\n",
        "\n",
        "out1 = widgets.Output()\n",
        "with out1:\n",
        "  from IPython.display import YouTubeVideo\n",
        "  video = YouTubeVideo(id=\"XpEj-p7JkFE\", width=854, height=480, fs=1, rel=0)\n",
        "  print('Video available at https://youtube.com/watch?v=' + video.id)\n",
        "  display(video)\n",
        "\n",
        "out = widgets.Tab([out1, out2])\n",
        "out.set_title(0, 'Youtube')\n",
        "out.set_title(1, 'Bilibili')\n",
        "\n",
        "display(out)"
      ],
      "execution_count": null,
      "outputs": []
    },
    {
      "cell_type": "code",
      "metadata": {
        "execution": {
          "iopub.execute_input": "2021-07-04T18:37:33.146768Z",
          "iopub.status.busy": "2021-07-04T18:37:33.146277Z",
          "iopub.status.idle": "2021-07-04T18:37:33.171795Z",
          "shell.execute_reply": "2021-07-04T18:37:33.168712Z"
        },
        "colab": {
          "base_uri": "https://localhost:8080/",
          "height": 353,
          "referenced_widgets": [
            "224c7042f38d4ef29f2f86f0e6502fd5",
            "550dce4b9e31453e8b360ca2510f91ef",
            "14a8a172639a4ea58799ae8974e7cf7b",
            "88448dafe09d4157b040843db35e098f",
            "194ef7187334432780fc7710c66542b5",
            "150512ca180d4424b98f22c2af68331e"
          ]
        },
        "cellView": "form",
        "id": "v8Hjx5aCcSyr",
        "outputId": "512f941b-518f-424f-97cf-2916f86e908e"
      },
      "source": [
        "# @title Example projects step 3\n",
        "from ipywidgets import widgets\n",
        "from IPython.display import Markdown, Math\n",
        "\n",
        "markdown1 = r'''\n",
        "\n",
        "## Step 3\n",
        "<br>\n",
        "<font size='3pt'>\n",
        "We determined that we probably needed the following ingredients for our model:\n",
        "\n",
        "* Vestibular input: *v(t)*\n",
        "\n",
        "* Binary decision output: *d* - time dependent?\n",
        "\n",
        "* Decision threshold: θ\n",
        "\n",
        "* A filter (maybe running average?): *f*\n",
        "\n",
        "* An integration mechanism to get from vestibular acceleration to sensed velocity: ∫\n",
        "\n",
        "</font>\n",
        "'''\n",
        "\n",
        "markdown2 = '''\n",
        "## Step 3\n",
        "<br>\n",
        "<font size='3pt'>\n",
        "In order to address our question we need to design an appropriate computational data analysis pipeline. We did some brainstorming and think that we need to somehow extract the self-motion judgements from the spike counts of our neurons. Based on that, our algorithm needs to make a decision: was there self motion or not? This is a classical 2-choice classification problem. We will have to transform the raw spike data into the right input for the algorithm (spike pre-processing).\n",
        "\n",
        "So we determined that we probably needed the following ingredients:\n",
        "\n",
        "* spike trains *S* of 3-second trials (10ms spike bins)\n",
        "* ground truth movement *m<sub>r</sub>* (real) and perceived movement *m<sub>p</sub>*\n",
        "* some form of classifier *C* giving us a classification *c*\n",
        "* spike pre-processing\n",
        "</font>\n",
        "'''\n",
        "\n",
        "# No idea why this is necessary but math doesn't render properly without it\n",
        "display(Markdown(r\"\"))\n",
        "\n",
        "\n",
        "out2 = widgets.Output()\n",
        "with out2:\n",
        "  display(Markdown(markdown2))\n",
        "\n",
        "\n",
        "out1 = widgets.Output()\n",
        "with out1:\n",
        "  display(Markdown(markdown1))\n",
        "\n",
        "out = widgets.Tab([out1, out2])\n",
        "out.set_title(0, 'Computational Model')\n",
        "out.set_title(1, 'Data Analysis')\n",
        "\n",
        "display(out)"
      ],
      "execution_count": 27,
      "outputs": [
        {
          "output_type": "display_data",
          "data": {
            "text/markdown": "",
            "text/plain": [
              "<IPython.core.display.Markdown object>"
            ]
          },
          "metadata": {
            "tags": []
          }
        },
        {
          "output_type": "display_data",
          "data": {
            "application/vnd.jupyter.widget-view+json": {
              "model_id": "224c7042f38d4ef29f2f86f0e6502fd5",
              "version_minor": 0,
              "version_major": 2
            },
            "text/plain": [
              "Tab(children=(Output(), Output()), _titles={'0': 'Computational Model', '1': 'Data Analysis'})"
            ]
          },
          "metadata": {
            "tags": []
          }
        }
      ]
    },
    {
      "cell_type": "markdown",
      "metadata": {
        "id": "FkG7bOIucSyr"
      },
      "source": [
        "## Think! 3: Determine your basic ingredients \n",
        "\n",
        "*Please discuss the following for about 25 min*\n",
        "\n",
        "This will allow you to think deeper about what your modeling project will need. It's a crucial step before you can formulate hypotheses because you first need to understand what your modeling approach will need. There are 2 aspects you want to think about:\n",
        "\n",
        "1)  What parameters / variables are needed?\n",
        "  * Constants?\n",
        "  * Do they change over space, time, conditions…?\n",
        "  * What details can be omitted?\n",
        "  * Constraints, initial conditions?\n",
        "  * Model inputs / outputs?\n",
        "\n",
        "2)  Variables needed to describe the process to be modelled?\n",
        "  * Brainstorming!\n",
        "  * What can be observed / measured?  latent variables?    \n",
        "  * Where do these variables come from?\n",
        "  * Do any abstract concepts need to be instantiated as variables?\n",
        "    * E.g. value, utility, uncertainty, cost, salience, goals, strategy, plant, dynamics\n",
        "    * Instantiate them so that they relate to potential measurements! \n",
        "\n",
        "This is a step where your prior knowledge and intuition is tested. You want to end up with an inventory of *specific* concepts and/or interactions that need to be instantiated. "
      ]
    },
    {
      "cell_type": "markdown",
      "metadata": {
        "id": "X6Fxj5nHcSyr"
      },
      "source": [
        "**Make sure to avoid the pitfalls!**\n",
        "<details>\n",
        "<summary>Click here for a recap on pitfalls</summary>\n",
        "\n",
        "I’m experienced, I don’t need to think about ingredients anymore\n",
        "  <ul>\n",
        "  <li>Or so you think…</li>\n",
        "  </ul>\n",
        "\n",
        "I can’t think of any ingredients\n",
        "  <ul>\n",
        "  <li>Think about the potential experiment. What are your stimuli? What parameters? What would you control? What do you measure?</li>\n",
        "  </ul>\n",
        "\n",
        "I have all inputs and outputs\n",
        "  <ul>\n",
        "  <li>Good! But what will link them? Thinking about that will start shaping your model and hypotheses</li>\n",
        "  </ul>\n",
        "\n",
        "I can’t think of any links (= mechanisms)\n",
        "  <ul>\n",
        "  <li>You will acquire a library of potential mechanisms as you keep modeling and learning</li>\n",
        "  <li>But the literature will often give you hints through hypotheses</li>\n",
        "  <li>If you still can't think of links, then maybe you're missing ingredients?</li>\n",
        "  </ul>\n",
        "</details>"
      ]
    },
    {
      "cell_type": "markdown",
      "metadata": {
        "id": "G6HKSfX4cSys"
      },
      "source": [
        "----\n",
        "# Step 4: Formulating specific, mathematically defined hypotheses\n",
        "\n"
      ]
    },
    {
      "cell_type": "code",
      "metadata": {
        "cellView": "form",
        "execution": {
          "iopub.execute_input": "2021-07-04T18:37:33.181576Z",
          "iopub.status.busy": "2021-07-04T18:37:33.180595Z",
          "iopub.status.idle": "2021-07-04T18:37:33.274085Z",
          "shell.execute_reply": "2021-07-04T18:37:33.274514Z"
        },
        "id": "Vfr5MeJpcSys"
      },
      "source": [
        "# @title Video 5: Formulating a hypothesis\n",
        "from ipywidgets import widgets\n",
        "\n",
        "out2 = widgets.Output()\n",
        "with out2:\n",
        "  from IPython.display import IFrame\n",
        "  class BiliVideo(IFrame):\n",
        "      def __init__(self, id, page=1, width=400, height=300, **kwargs):\n",
        "          self.id=id\n",
        "          src = 'https://player.bilibili.com/player.html?bvid={0}&page={1}'.format(id, page)\n",
        "          super(BiliVideo, self).__init__(src, width, height, **kwargs)\n",
        "\n",
        "  video = BiliVideo(id=\"\", width=854, height=480, fs=1)\n",
        "  print('Video available at https://www.bilibili.com/video/{0}'.format(video.id))\n",
        "  display(video)\n",
        "\n",
        "out1 = widgets.Output()\n",
        "with out1:\n",
        "  from IPython.display import YouTubeVideo\n",
        "  video = YouTubeVideo(id=\"nHXMSXLcd9A\", width=854, height=480, fs=1, rel=0)\n",
        "  print('Video available at https://youtube.com/watch?v=' + video.id)\n",
        "  display(video)\n",
        "\n",
        "out = widgets.Tab([out1, out2])\n",
        "out.set_title(0, 'Youtube')\n",
        "out.set_title(1, 'Bilibili')\n",
        "\n",
        "display(out)"
      ],
      "execution_count": null,
      "outputs": []
    },
    {
      "cell_type": "code",
      "metadata": {
        "execution": {
          "iopub.execute_input": "2021-07-04T18:37:33.287791Z",
          "iopub.status.busy": "2021-07-04T18:37:33.287290Z",
          "iopub.status.idle": "2021-07-04T18:37:33.312267Z",
          "shell.execute_reply": "2021-07-04T18:37:33.309614Z"
        },
        "colab": {
          "base_uri": "https://localhost:8080/",
          "height": 475,
          "referenced_widgets": [
            "560098594d994a1e977da47e7027a82a",
            "e80359e44d65443193cc2b5e0a4e469d",
            "cabddf99a475425d97d6012123b6a574",
            "fe07ad9711f74f70913e05991cb75c7c",
            "f0affcfa1553425db666dd98a0918d9c",
            "29c071bd3b4d40b6aac6255d6ebadc86"
          ]
        },
        "cellView": "form",
        "id": "kUql_miPcSys",
        "outputId": "aacffca2-d1e9-413f-8e6e-e846e7db83f7"
      },
      "source": [
        "# @title Example projects step 4\n",
        "from ipywidgets import widgets\n",
        "from IPython.display import Markdown\n",
        "\n",
        "# Not writing in latex because that didn't render in jupyterbook\n",
        "\n",
        "markdown1 = r'''\n",
        "\n",
        "## Step 4\n",
        "<br>\n",
        "<font size='3pt'>\n",
        "Our main hypothesis is that the strength of the illusion has a linear relationship to the amplitude of vestibular noise.\n",
        "\n",
        "Mathematically, this would write as \n",
        "\n",
        "<div align=\"center\">\n",
        "<em>S</em> = <em>k</em> ⋅ <em>N</em>\n",
        "</div>\n",
        "\n",
        "where *S* is the illusion strength and *N* is the noise level, and *k* is a free parameter.\n",
        ">we could simply use the frequency of occurance across repetitions as the \"strength of the illusion\"\n",
        "\n",
        "We would get the noise as the standard deviation of *v(t)*, i.e. \n",
        "\n",
        "<div align=\"center\">\n",
        "<em>N</em> = <b>E</b>[<em>v(t)</em><sup>2</sup>],\n",
        "</div>\n",
        "\n",
        " where $\\mathbf{E}$ stands for the expected value.\n",
        "\n",
        "Do we need to take the average across time points?\n",
        "> doesn't really matter because we have the generative process, so we can just use the $\\sigma$ that we define\n",
        "</font>\n",
        "'''\n",
        "\n",
        "markdown2 = '''\n",
        "## Step 4\n",
        "<br>\n",
        "\n",
        "<font size='3pt'>\n",
        "We think that noise in the signal drives whether or not people perceive self motion. Maybe the brain uses the strongest signal at peak acceleration to decide on self motion, but we actually think it is better to accumulate evidence over some period of time. We want to test this. The noise idea also means that when the signal-to-noise ratio is higher, the brain does better, and this would be in the faster acceleration condition. We want to test this too.\n",
        "\n",
        "We came up with the following hypotheses focussing on specific details of our overall research question:\n",
        "\n",
        "* Hyp 1: Accumulated vestibular spike rates explain self-motion judgements better than average spike rates around peak acceleration.\n",
        "* Hyp 2: Classification performance should be better for faster vs slower self-motion.\n",
        "\n",
        "> There are many other hypotheses you could come up with, but for simplicity, let's go with those.\n",
        "\n",
        "Mathematically, we can write our hypotheses as follows (using our above ingredients):\n",
        "* Hyp 1: **E**(c<sub>accum</sub>) > **E**(c<sub>win</sub>)\n",
        "* Hyp 2: **E**(c<sub>fast</sub>) > **E**(c<sub>slow</sub>)\n",
        "\n",
        "Where **E** denotes taking the expected value (in this case the mean) of its argument: classification outcome in a given trial type.\n",
        "</font>\n",
        "'''\n",
        "\n",
        "# No idea why this is necessary but math doesn't render properly without it\n",
        "display(Markdown(r\"\"))\n",
        "\n",
        "out2 = widgets.Output()\n",
        "with out2:\n",
        "  display(Markdown(markdown2))\n",
        "\n",
        "out1 = widgets.Output()\n",
        "with out1:\n",
        "  display(Markdown(markdown1))\n",
        "\n",
        "out = widgets.Tab([out1, out2])\n",
        "out.set_title(0, 'Computational Model')\n",
        "out.set_title(1, 'Data Analysis')\n",
        "\n",
        "display(out)"
      ],
      "execution_count": 45,
      "outputs": [
        {
          "output_type": "display_data",
          "data": {
            "text/markdown": "",
            "text/plain": [
              "<IPython.core.display.Markdown object>"
            ]
          },
          "metadata": {
            "tags": []
          }
        },
        {
          "output_type": "display_data",
          "data": {
            "application/vnd.jupyter.widget-view+json": {
              "model_id": "560098594d994a1e977da47e7027a82a",
              "version_minor": 0,
              "version_major": 2
            },
            "text/plain": [
              "Tab(children=(Output(), Output()), _titles={'0': 'Computational Model', '1': 'Data Analysis'})"
            ]
          },
          "metadata": {
            "tags": []
          }
        }
      ]
    },
    {
      "cell_type": "markdown",
      "metadata": {
        "id": "rGW-sLkRcSys"
      },
      "source": [
        "## Think! 4: Formulating your hypothesis \n",
        "\n",
        "\n",
        "*Please discuss the following for about 25 min*\n",
        "\n",
        "Once you have your question and goal lines up, you have done a literature review (let's assume for now) and you have thought about ingredients needed for your model, you're now ready to start thinking about *specific* hypotheses.\n",
        "\n",
        "Formulating hypotheses really consists of two consecutive steps:\n",
        "\n",
        "\n",
        "1)   You think about the hypotheses in words by relating ingredients identified in Step 3\n",
        "  * What is the model mechanism expected to do? \n",
        "  * How are different parameters expected to influence model results?\n",
        "\n",
        "2)   You then express these hypotheses in mathematical language by giving the ingredients identified in Step 3 specific variable names. \n",
        "  * Be explicit, e.g. $y(t)=f(x(t),k)$ but $z(t)$ doesn’t influence $y$\n",
        "\n",
        "\n",
        "\n",
        "There are also \"structural hypotheses\" that make assumptions on what model components you hypothesize will be crucial to capture the phenomenon at hand. \n",
        "\n",
        "**Important**: Formulating the hypotheses is the last step before starting to model. This step determines the model approach and ingredients. It provides a more detailed description of the question / goal from Step 1. The more precise the hypotheses, the easier the model will be to justify. \n"
      ]
    },
    {
      "cell_type": "markdown",
      "metadata": {
        "id": "XQurQ8ulcSys"
      },
      "source": [
        "**Make sure to avoid the pitfalls!**\n",
        "<details>\n",
        "<summary>Click here for a recap on pitfalls</summary>\n",
        "\n",
        "I don’t need hypotheses, I will just play around with the model\n",
        "  <ul>\n",
        "  <li>Hypotheses help determine and specify goals. You can (and should) still play…</li>\n",
        "  </ul>\n",
        "\n",
        "My hypotheses don’t match my question (or vice versa)\n",
        "  <ul>\n",
        "  <li>This is a normal part of the process!</li>\n",
        "  <li>You need to loop back to Step 1 and revisit your question / phenomenon / goals</li>\n",
        "  </ul>\n",
        "\n",
        "I can’t write down a math hypothesis\n",
        "  <ul>\n",
        "  <li>Often that means you lack ingredients and/or clarity on the hypothesis</li>\n",
        "  <li>OR: you have a “structural” hypothesis, i.e. you expect a certain model component to be crucial in explaining the phenomenon / answering the question</li>\n",
        "  </ul>\n",
        "</details>"
      ]
    },
    {
      "cell_type": "markdown",
      "metadata": {
        "id": "L-y_NmQ9cSys"
      },
      "source": [
        "----\n",
        "# Summary\n",
        "\n",
        "In this tutorial, we worked through some steps of the process of modeling. \n",
        "\n",
        "- We defined a phenomenon and formulated a question (step 1)\n",
        "- We collected information the state-of-the-art about the topic (step 2)\n",
        "- We determined the basic ingredients (step 3), and used these to formulate a specific mathematically defined hypothesis (step 4)\n",
        "\n",
        "You are now in a position that you could start modeling without getting lost. But remember: you might have to work through steps 1-4 again after doing a literature review and/or if there were other pitfalls you identified along the way (which is totally normal)."
      ]
    },
    {
      "cell_type": "markdown",
      "metadata": {
        "id": "ex1IL-QFcSyt"
      },
      "source": [
        "----\n",
        "# Next steps\n",
        "In [a follow-up notebook](https://compneuro.neuromatch.io/projects/modelingsteps/ModelingSteps_5through10.html), we will continue with the steps 5-10 to guide you through the implementation and completion stages of the projects. You can also find this in the Modeling Steps section of the Project Booklet."
      ]
    },
    {
      "cell_type": "markdown",
      "metadata": {
        "id": "neI-1tuocSyt"
      },
      "source": [
        "----\n",
        "# Reading\n",
        "Blohm G, Kording KP, Schrater PR (2020). _A How-to-Model Guide for Neuroscience_. eNeuro, 7(1) ENEURO.0352-19.2019. https://doi.org/10.1523/ENEURO.0352-19.2019 \n",
        "\n",
        "Kording KP, Blohm G, Schrater P, Kay K (2020). _Appreciating the variety of goals in computational neuroscience_. Neurons, Behavior, Data Analysis, and Theory 3(6). https://nbdt.scholasticahq.com/article/16723-appreciating-the-variety-of-goals-in-computational-neuroscience\n",
        "\n",
        "Schrater PR, Peters MK, Kording KP, Blohm G (2019). _Modeling in Neuroscience as a Decision Process_. OSF pre-print. https://osf.io/w56vt/"
      ]
    }
  ]
}