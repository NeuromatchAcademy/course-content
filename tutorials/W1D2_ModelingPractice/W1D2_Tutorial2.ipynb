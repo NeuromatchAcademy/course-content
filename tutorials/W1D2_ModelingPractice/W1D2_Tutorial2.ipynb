{
 "cells": [
  {
   "cell_type": "markdown",
   "metadata": {
    "colab_type": "text",
    "id": "view-in-github"
   },
   "source": [
    "<a href=\"https://colab.research.google.com/github/NeuromatchAcademy/course-content/blob/master/tutorials/W1D2-ModelingPractice/W1D2_Tutorial2.ipynb\" target=\"_parent\"><img src=\"https://colab.research.google.com/assets/colab-badge.svg\" alt=\"Open In Colab\"/></a>"
   ]
  },
  {
   "cell_type": "markdown",
   "metadata": {
    "colab_type": "text",
    "id": "hzj-9uW4qDay"
   },
   "source": [
    "# Neuromatch Academy: Week1, Day 2, Tutorial 2"
   ]
  },
  {
   "cell_type": "markdown",
   "metadata": {
    "colab_type": "text",
    "id": "33XOc4X_qDbL"
   },
   "source": [
    "#Tutorial objectives\n",
    "\n",
    "We are investigating a simple phenomena, working through the 10 steps of modeling ([Blohm et al., 2019](https://doi.org/10.1523/ENEURO.0352-19.2019)) in two notebooks: \n",
    "\n",
    "**Framing the question**\n",
    "1. finding a phenomenon and a question to ask about it\n",
    "2. understanding the state of the art\n",
    "3. determining the basic ingredients\n",
    "4. formulating specific, mathematically defined hypotheses\n",
    "**Implementing the model**\n",
    "5. selecting the toolkit\n",
    "6. planning the model\n",
    "7. implementing the model\n",
    "**Model testing**\n",
    "8. completing the model\n",
    "9. testing and evaluating the model\n",
    "**Publishing**\n",
    "10. publishing models\n",
    "\n",
    "We did steps 1-5 in Tutorial 1 and will cover steps 6-10 in Tutorial 2 (this notebook)."
   ]
  },
  {
   "cell_type": "markdown",
   "metadata": {
    "colab_type": "text",
    "id": "EbVRzqZBR17L"
   },
   "source": [
    "# Utilities Setup and Convenience Functions\n",
    "\n",
    "Please run the following **3** chunks to have functions and data available."
   ]
  },
  {
   "cell_type": "code",
   "execution_count": 1,
   "metadata": {
    "cellView": "form",
    "colab": {},
    "colab_type": "code",
    "id": "oKP9npTbqDbU"
   },
   "outputs": [],
   "source": [
    "#@title Utilities and setup\n",
    "# set up the environment for this tutorial\n",
    "\n",
    "import time                        # import time \n",
    "import numpy as np                 # import numpy\n",
    "import scipy as sp                 # import scipy\n",
    "from scipy.stats import gamma      # import gamma distribution\n",
    "import math                        # import basic math functions\n",
    "import random                      # import basic random number generator functions\n",
    "\n",
    "import matplotlib.pyplot as plt    # import matplotlib\n",
    "from IPython import display        \n",
    "\n",
    "fig_w, fig_h = (12, 8)\n",
    "plt.rcParams.update({'figure.figsize': (fig_w, fig_h)})\n",
    "plt.style.use('ggplot')\n",
    "\n",
    "%matplotlib inline\n",
    "#%config InlineBackend.figure_format = 'retina'\n",
    "\n",
    "from scipy.signal import medfilt\n",
    "\n",
    "# make"
   ]
  },
  {
   "cell_type": "code",
   "execution_count": 2,
   "metadata": {
    "cellView": "form",
    "colab": {},
    "colab_type": "code",
    "id": "-OC-H0O0qDbj"
   },
   "outputs": [],
   "source": [
    "#@title Convenience functions: Plotting and Filtering\n",
    "# define some convenience functions to be used later\n",
    "\n",
    "def my_moving_window(x, window=3, FUN=np.mean):\n",
    "    '''\n",
    "    Calculates a moving estimate for a signal\n",
    "\n",
    "    Args:\n",
    "        x (numpy.ndarray): a vector array of size N\n",
    "        window (int): size of the window, must be a positive integer\n",
    "        FUN (function): the function to apply to the samples in the window\n",
    "\n",
    "    Returns:\n",
    "        (numpy.ndarray): a vector array of size N, containing the moving average\n",
    "        of x, calculated with a window of size window\n",
    "\n",
    "    There are smarter and faster solutions (e.g. using convolution) but this \n",
    "    function shows what the output really means. This function skips NaNs, and \n",
    "    should not be susceptible to edge effects: it will simply use\n",
    "    all the  available samples, which means that close to the edges of the \n",
    "    signal or close to NaNs, the output will just be based on fewer samples. By\n",
    "    default, this function will apply a mean to the samples in the window, but \n",
    "    this can be changed to be a max/min/median or other function that returns a \n",
    "    single numeric value based on a sequence of values.\n",
    "    '''\n",
    "\n",
    "    # if data is a matrix, apply filter to each row:\n",
    "    if len(x.shape) == 2:\n",
    "        output = np.zeros(x.shape)\n",
    "        for rown in range(x.shape[0]):\n",
    "            output[rown,:] = my_moving_window(x[rown,:],window=window,FUN=FUN)\n",
    "        return output\n",
    "\n",
    "    # make output array of the same size as x:\n",
    "    output = np.zeros(x.size)\n",
    "\n",
    "    # loop through the signal in x\n",
    "    for samp_i in range(x.size):\n",
    "\n",
    "        values = []\n",
    "\n",
    "        # loop through the window:\n",
    "        for wind_i in range(int(-window), 1):\n",
    "\n",
    "            if ((samp_i+wind_i) < 0) or (samp_i+wind_i) > (x.size - 1):\n",
    "                # out of range\n",
    "                continue\n",
    "            \n",
    "            # sample is in range and not nan, use it:\n",
    "            if not(np.isnan(x[samp_i+wind_i])):\n",
    "                values += [x[samp_i+wind_i]]\n",
    "        \n",
    "        # calculate the mean in the window for this point in the output:\n",
    "        output[samp_i] = FUN(values)\n",
    "\n",
    "    return output\n",
    "\n",
    "\n",
    "def my_plot_percepts(datasets=None, plotconditions=False):\n",
    "\n",
    "    if isinstance(datasets,dict):\n",
    "        # try to plot the datasets\n",
    "        # they should be named...\n",
    "        # 'expectations', 'judgments', 'predictions'\n",
    "\n",
    "        fig = plt.figure(figsize=(8, 8)) # set aspect ratio = 1? not really\n",
    "\n",
    "        plt.ylabel('perceived self motion [m/s]')\n",
    "        plt.xlabel('perceived world motion [m/s]')\n",
    "        plt.title('perceived velocities')\n",
    "        \n",
    "        # loop through the entries in datasets\n",
    "        # plot them in the appropriate way\n",
    "        for k in datasets.keys():\n",
    "            if k == 'expectations':\n",
    "                \n",
    "                expect = datasets[k]\n",
    "                plt.scatter(expect['world'],expect['self'],marker='*',color='xkcd:green',label='my expectations')\n",
    "\n",
    "            elif k == 'judgments':\n",
    "                \n",
    "                judgments = datasets[k]\n",
    "\n",
    "                for condition in np.unique(judgments[:,0]):\n",
    "                    c_idx = np.where(judgments[:,0] == condition)[0]\n",
    "                    cond_self_motion = judgments[c_idx[0],1]\n",
    "                    cond_world_motion = judgments[c_idx[0],2]\n",
    "                    if cond_world_motion == -1 and cond_self_motion == 0:\n",
    "                        c_label = 'world-motion condition judgments' \n",
    "                    elif cond_world_motion == 0 and cond_self_motion == 1:\n",
    "                        c_label = 'self-motion condition judgments' \n",
    "                    else:\n",
    "                        c_label = 'condition [%d] judgments'%condition\n",
    "                    \n",
    "                    plt.scatter(judgments[c_idx,3],judgments[c_idx,4], label=c_label, alpha=0.2)\n",
    "\n",
    "            elif k == 'predictions':\n",
    "                \n",
    "                predictions = datasets[k]\n",
    "\n",
    "                for condition in np.unique(predictions[:,0]):\n",
    "                    c_idx = np.where(predictions[:,0] == condition)[0]\n",
    "                    cond_self_motion = predictions[c_idx[0],1]\n",
    "                    cond_world_motion = predictions[c_idx[0],2]\n",
    "                    if cond_world_motion == -1 and cond_self_motion == 0:\n",
    "                        c_label = 'predicted world-motion condition' \n",
    "                    elif cond_world_motion == 0 and cond_self_motion == 1:\n",
    "                        c_label = 'predicted self-motion condition' \n",
    "                    else:\n",
    "                        c_label = 'condition [%d] prediction'%condition\n",
    "                    \n",
    "                    plt.scatter(predictions[c_idx,4],predictions[c_idx,3], marker='x', label=c_label)\n",
    "\n",
    "            else:\n",
    "                print(\"datasets keys should be 'hypothesis', 'judgments' and 'predictions'\")\n",
    "\n",
    "            \n",
    "        if plotconditions:\n",
    "            # this code is simplified but only works for the dataset we have:\n",
    "            plt.scatter([1],[0],marker='<',facecolor='none',edgecolor='xkcd:black',linewidths=2,label='world-motion stimulus',s=80)\n",
    "            plt.scatter([0],[1],marker='>',facecolor='none',edgecolor='xkcd:black',linewidths=2,label='self-motion stimulus',s=80)\n",
    "\n",
    "        plt.legend(facecolor='xkcd:white')\n",
    "        plt.show()\n",
    "\n",
    "    else:\n",
    "        if datasets is not None:\n",
    "            print('datasets argument should be a dict')\n",
    "            raise TypeError\n",
    "\n",
    "def my_plot_motion_signals():\n",
    "    dt = 1/10\n",
    "    a = gamma.pdf( np.arange(0,10,dt), 2.5, 0 )\n",
    "    t = np.arange(0,10,dt)\n",
    "    v = np.cumsum(a*dt)\n",
    "\n",
    "    fig, [ax1, ax2] = plt.subplots(nrows=1, ncols=2, sharex='col', sharey='row', figsize=(14,6))\n",
    "    fig.suptitle('Sensory ground truth')\n",
    "\n",
    "    ax1.set_title('world-motion condition')\n",
    "    ax1.plot(t,-v,label='visual [$m/s$]')\n",
    "    ax1.plot(t,np.zeros(a.size),label='vestibular [$m/s^2$]')\n",
    "    ax1.set_xlabel('time [s]')\n",
    "    ax1.set_ylabel('motion')\n",
    "    ax1.legend(facecolor='xkcd:white')\n",
    "\n",
    "    ax2.set_title('self-motion condition')\n",
    "    ax2.plot(t,-v,label='visual [$m/s$]')\n",
    "    ax2.plot(t,a,label='vestibular [$m/s^2$]')\n",
    "    ax2.set_xlabel('time [s]')\n",
    "    ax2.set_ylabel('motion')\n",
    "    ax2.legend(facecolor='xkcd:white')\n",
    "\n",
    "    plt.show()\n",
    "\n",
    "\n",
    "\n",
    "def my_plot_sensorysignals(judgments, opticflow, vestibular, returnaxes=False, addaverages=False):\n",
    "    \n",
    "    wm_idx = np.where(judgments[:,0] == 0)\n",
    "    sm_idx = np.where(judgments[:,0] == 1)\n",
    "     \n",
    "    opticflow = opticflow.transpose()\n",
    "    wm_opticflow = np.squeeze(opticflow[:,wm_idx])\n",
    "    sm_opticflow = np.squeeze(opticflow[:,sm_idx])\n",
    "    \n",
    "    vestibular = vestibular.transpose()\n",
    "    wm_vestibular = np.squeeze(vestibular[:,wm_idx])\n",
    "    sm_vestibular = np.squeeze(vestibular[:,sm_idx])\n",
    "    \n",
    "    X = np.arange(0,10,.1)\n",
    "    \n",
    "    fig, my_axes = plt.subplots(nrows=2, ncols=2, sharex='col', sharey='row', figsize=(15,10))\n",
    "    fig.suptitle('Sensory signals')\n",
    "\n",
    "    my_axes[0][0].plot(X,wm_opticflow, color='xkcd:light red', alpha=0.1)\n",
    "    my_axes[0][0].plot([0,10], [0,0], ':', color='xkcd:black')\n",
    "    if addaverages:\n",
    "        my_axes[0][0].plot(X,np.average(wm_opticflow, axis=1), color='xkcd:red', alpha=1)\n",
    "    my_axes[0][0].set_title('world-motion optic flow')\n",
    "    my_axes[0][0].set_ylabel('[motion]')\n",
    "\n",
    "    my_axes[0][1].plot(X,sm_opticflow, color='xkcd:azure', alpha=0.1)\n",
    "    my_axes[0][1].plot([0,10], [0,0], ':', color='xkcd:black')\n",
    "    if addaverages:\n",
    "        my_axes[0][1].plot(X,np.average(sm_opticflow, axis=1), color='xkcd:blue', alpha=1)\n",
    "    my_axes[0][1].set_title('self-motion optic flow')\n",
    "\n",
    "    my_axes[1][0].plot(X,wm_vestibular, color='xkcd:light red', alpha=0.1)\n",
    "    my_axes[1][0].plot([0,10], [0,0], ':', color='xkcd:black')\n",
    "    if addaverages:\n",
    "        my_axes[1][0].plot(X,np.average(wm_vestibular, axis=1), color='xkcd:red', alpha=1)\n",
    "    my_axes[1][0].set_title('world-motion vestibular signal')\n",
    "    my_axes[1][0].set_xlabel('time [s]')\n",
    "    my_axes[1][0].set_ylabel('[motion]')\n",
    "\n",
    "    my_axes[1][1].plot(X,sm_vestibular, color='xkcd:azure', alpha=0.1)\n",
    "    my_axes[1][1].plot([0,10], [0,0], ':', color='xkcd:black')\n",
    "    if addaverages:\n",
    "        my_axes[1][1].plot(X,np.average(sm_vestibular, axis=1), color='xkcd:blue', alpha=1)\n",
    "    my_axes[1][1].set_title('self-motion vestibular signal')\n",
    "    my_axes[1][1].set_xlabel('time [s]')\n",
    "\n",
    "    if returnaxes:\n",
    "        return my_axes\n",
    "    else:\n",
    "        plt.show()\n",
    "\n",
    "def my_plot_thresholds(thresholds, world_prop, self_prop, prop_correct):\n",
    "\n",
    "    plt.figure(figsize=(12,8))\n",
    "    plt.title('threshold effects')\n",
    "    plt.plot([min(thresholds),max(thresholds)],[0,0],':',color='xkcd:black')\n",
    "    plt.plot([min(thresholds),max(thresholds)],[0.5,0.5],':',color='xkcd:black')\n",
    "    plt.plot([min(thresholds),max(thresholds)],[1,1],':',color='xkcd:black')\n",
    "    plt.plot(thresholds, world_prop, label='world motion')\n",
    "    plt.plot(thresholds, self_prop, label='self motion')\n",
    "    plt.plot(thresholds, prop_correct, color='xkcd:purple', label='correct classification')\n",
    "    plt.xlabel('threshold')\n",
    "    plt.ylabel('proportion correct or classified as self motion')\n",
    "    plt.legend(facecolor='xkcd:white')\n",
    "    plt.show()\n",
    "\n",
    "def my_plot_predictions_data(judgments, predictions):\n",
    "\n",
    "    conditions = np.concatenate((np.abs(judgments[:,1]),np.abs(judgments[:,2])))\n",
    "    veljudgmnt = np.concatenate((judgments[:,3],judgments[:,4]))\n",
    "    velpredict = np.concatenate((predictions[:,3],predictions[:,4]))\n",
    "\n",
    "    # self:\n",
    "    conditions_self = np.abs(judgments[:,1])\n",
    "    veljudgmnt_self = judgments[:,3]\n",
    "    velpredict_self = predictions[:,3]\n",
    "\n",
    "    # world:\n",
    "    conditions_world = np.abs(judgments[:,2])\n",
    "    veljudgmnt_world = judgments[:,4]\n",
    "    velpredict_world = predictions[:,4]\n",
    "\n",
    "    fig, [ax1, ax2] = plt.subplots(nrows=1, ncols=2, sharey='row', figsize=(12,5))\n",
    "\n",
    "    ax1.scatter(veljudgmnt_self,velpredict_self, alpha=0.2)\n",
    "    ax1.plot([0,1],[0,1],':',color='xkcd:black')\n",
    "    ax1.set_title('self-motion judgments')\n",
    "    ax1.set_xlabel('observed')\n",
    "    ax1.set_ylabel('predicted')\n",
    "\n",
    "    ax2.scatter(veljudgmnt_world,velpredict_world, alpha=0.2)\n",
    "    ax2.plot([0,1],[0,1],':',color='xkcd:black')\n",
    "    ax2.set_title('world-motion judgments')\n",
    "    ax2.set_xlabel('observed')\n",
    "    ax2.set_ylabel('predicted')\n",
    "\n",
    "    plt.show()"
   ]
  },
  {
   "cell_type": "code",
   "execution_count": 3,
   "metadata": {
    "cellView": "form",
    "colab": {},
    "colab_type": "code",
    "id": "GJG0pGXCqDbu"
   },
   "outputs": [],
   "source": [
    "#@title Data generation code (needs to go on OSF and deleted here)\n",
    "def my_simulate_data(repetitions=100, conditions=[(0,-1),(+1,0)] ):\n",
    "    \"\"\"\n",
    "    Generate simulated data for this tutorial. You do not need to run this \n",
    "    yourself.\n",
    "\n",
    "    Args:\n",
    "      repetitions: (int) number of repetitions of each condition (default: 30)\n",
    "      conditions: list of 2-tuples of floats, indicating the self velocity and \n",
    "                  world velocity in each condition (default: returns data that is\n",
    "                  good for exploration: [(-1,0),(0,+1)] but can be flexibly\n",
    "                  extended)\n",
    "\n",
    "    The total number of trials used (ntrials) is equal to:\n",
    "    repetitions * len(conditions)\n",
    "\n",
    "    Returns:\n",
    "      dict with three entries:\n",
    "        'judgments':  ntrials * 5 matrix\n",
    "        'opticflow':  ntrials * 100 matrix\n",
    "        'vestibular': ntrials * 100 matrix\n",
    "    \n",
    "    The default settings would result in data where first 30 trials reflect a\n",
    "    situation where the world (other train) moves in one direction, supposedly\n",
    "    at 1 m/s (perhaps to the left: -1) while the participant does not move at\n",
    "    all (0), and 30 trials from a second condition, where the world does not \n",
    "    move, while the participant moves with 1 m/s in the opposite direction from\n",
    "    where the world is moving in the first condition (0,+1). The optic flow \n",
    "    should be the same, but the vestibular input is not.\n",
    "\n",
    "    \"\"\"\n",
    "    \n",
    "    # reproducible output\n",
    "    np.random.seed(1937)\n",
    "    \n",
    "    # set up some variables:\n",
    "    ntrials    = repetitions * len(conditions)\n",
    "\n",
    "    # the following arrays will contain the simulated data:\n",
    "    judgments  = np.empty(shape=(ntrials,5))\n",
    "    opticflow  = np.empty(shape=(ntrials,100))\n",
    "    vestibular = np.empty(shape=(ntrials,100))\n",
    "    \n",
    "\n",
    "    # acceleration:\n",
    "    a = gamma.pdf(np.arange(0,10,.1), 2.5, 0 )\n",
    "    # divide by 10 so that velocity scales from 0 to 1 (m/s)\n",
    "\n",
    "    # max acceleration ~ .308 m/s^2\n",
    "    # not realistic! should be about 1/10 of that\n",
    "\n",
    "    # velocity:\n",
    "    v = np.cumsum(a*.1)\n",
    "    # position: (not necessary)\n",
    "    #x = np.cumsum(v)\n",
    "    \n",
    "    #################################\n",
    "    # REMOVE ARBITRARY SCALING & CORRECT NOISE PARAMETERS\n",
    "\n",
    "    vest_amp = 1\n",
    "    optf_amp = 1\n",
    "\n",
    "    # we start at the first trial:\n",
    "    trialN = 0\n",
    "\n",
    "    # we start with only a single velocity, but it should be possible to extend this\n",
    "    for conditionno in range(len(conditions)):\n",
    "\n",
    "        condition = conditions[conditionno]\n",
    "\n",
    "        for repetition in range(repetitions):\n",
    "            \n",
    "            # \n",
    "\n",
    "            # generate optic flow signal\n",
    "            OF = v * np.diff(condition)                             # optic flow: difference between self & world motion\n",
    "            OF = (OF * optf_amp)                                    # fairly large spike range\n",
    "            OF = OF + (np.random.randn(len(OF)) * .1)               # adding noise\n",
    "            \n",
    "            # generate vestibular signal\n",
    "            VS = a * condition[0]                                   # vestibular signal: only self motion\n",
    "            VS = (VS * vest_amp)                                    # less range\n",
    "            VS = VS + (np.random.randn(len(VS)) * 1.)               # acceleration is a smaller signal, what is a good noise level?\n",
    "            \n",
    "            # store in matrices, corrected for sign\n",
    "            #opticflow[trialN,:] = OF * -1 if (np.sign(np.diff(condition)) < 0) else OF\n",
    "            #vestibular[trialN,:] = VS * -1 if (np.sign(condition[1]) < 0) else VS\n",
    "            opticflow[trialN,:], vestibular[trialN,:] = OF, VS\n",
    "\n",
    "            #########################################################\n",
    "            \n",
    "            # store conditions in judgments matrix:\n",
    "            judgments[trialN,0:3] = [ conditionno, condition[0], condition[1] ]\n",
    "            \n",
    "            # vestibular SD: 1.0916052957046194 and 0.9112684509277528\n",
    "            # visual SD: 0.10228834313079663 and 0.10975472557444346\n",
    "\n",
    "            # generate judgments:\n",
    "            if (abs(np.average(np.cumsum(medfilt(VS/vest_amp,5)*.1)[70:90])) < 1):\n",
    "                ###########################\n",
    "                # NO self motion detected\n",
    "                ###########################\n",
    "                selfmotion_weights  = np.array([.01,.01])  # there should be low/no self motion\n",
    "                worldmotion_weights = np.array([.01,.99])  # world motion is dictated by optic flow\n",
    "                \n",
    "\n",
    "            else:\n",
    "                ########################\n",
    "                # self motion DETECTED\n",
    "                ########################\n",
    "                #if (abs(np.average(np.cumsum(medfilt(VS/vest_amp,15)*.1)[70:90]) - np.average(medfilt(OF,15)[70:90])) < 5):\n",
    "                if True:\n",
    "                    ####################\n",
    "                    # explain all self motion by optic flow\n",
    "                    selfmotion_weights  = np.array([.01,.99])  # there should be lots of self motion, but determined by optic flow\n",
    "                    worldmotion_weights = np.array([.01,.01])  # very low world motion?\n",
    "                else:\n",
    "                    # we use both optic flow and vestibular info to explain both\n",
    "                    selfmotion_weights  = np.array([ 1, 0])    # motion, but determined by vestibular signal\n",
    "                    worldmotion_weights = np.array([ 1, 1])  # very low world motion?\n",
    "                \n",
    "            # \n",
    "            integrated_signals = np.array([\n",
    "                                           np.average( np.cumsum(medfilt(VS/vest_amp,15))[90:100]*.1 ), \n",
    "                                           np.average((medfilt(OF/optf_amp,15))[90:100]) \n",
    "                                           ])\n",
    "            selfmotion  = np.sum(integrated_signals * selfmotion_weights)\n",
    "            worldmotion = np.sum(integrated_signals * worldmotion_weights)\n",
    "            #print(worldmotion,selfmotion)\n",
    "\n",
    "            judgments[trialN,3] = abs(selfmotion)\n",
    "            judgments[trialN,4] = abs(worldmotion)\n",
    "            \n",
    "            # this ends the trial loop, so we increment the counter:\n",
    "            trialN += 1\n",
    "                \n",
    "    return {'judgments':judgments, \n",
    "            'opticflow':opticflow, \n",
    "            'vestibular':vestibular}\n",
    "\n",
    "simulated_data = my_simulate_data()\n",
    "\n",
    "judgments = simulated_data['judgments']\n",
    "opticflow = simulated_data['opticflow']\n",
    "vestibular = simulated_data['vestibular']\n"
   ]
  },
  {
   "cell_type": "markdown",
   "metadata": {
    "colab_type": "text",
    "id": "2ZS7z43AD4Cz"
   },
   "source": [
    "#Micro-tutorial 6 - planning the model"
   ]
  },
  {
   "cell_type": "code",
   "execution_count": 4,
   "metadata": {
    "cellView": "form",
    "colab": {
     "base_uri": "https://localhost:8080/",
     "height": 518
    },
    "colab_type": "code",
    "id": "yBuLADkkDHZx",
    "outputId": "57603faa-07c0-4f55-f4eb-7ae7e78e003c"
   },
   "outputs": [
    {
     "name": "stdout",
     "output_type": "stream",
     "text": [
      "Video available at https://youtube.com/watch?v=daEtkVporBE\n"
     ]
    },
    {
     "data": {
      "image/jpeg": "[encoded data removed]",
      "text/html": [
       "\n",
       "        <iframe\n",
       "            width=\"854\"\n",
       "            height=\"480\"\n",
       "            src=\"https://www.youtube.com/embed/daEtkVporBE?fs=1\"\n",
       "            frameborder=\"0\"\n",
       "            allowfullscreen\n",
       "        ></iframe>\n",
       "        "
      ],
      "text/plain": [
       "<IPython.lib.display.YouTubeVideo at 0x7f2d9cdf0d10>"
      ]
     },
     "execution_count": 4,
     "metadata": {},
     "output_type": "execute_result"
    }
   ],
   "source": [
    "#@title Video: Planning the model\n",
    "from IPython.display import YouTubeVideo\n",
    "video = YouTubeVideo(id='daEtkVporBE', width=854, height=480, fs=1)\n",
    "print(\"Video available at https://youtube.com/watch?v=\" + video.id)\n",
    "video"
   ]
  },
  {
   "cell_type": "markdown",
   "metadata": {
    "colab_type": "text",
    "id": "WswMF3hala0x"
   },
   "source": [
    "\n",
    "###**Goal:** Identify the key components of the model and how they work together.\n",
    "\n",
    "Our goal all along has been to model our perceptual estimates of sensory data.\n",
    "Now that we have some idea of what we want to do, we need to line up the components of the model: what are the input and output? Which computations are done and in what order? \n",
    "\n",
    "The figure below shows a generic model we will use to guide our code construction. \n",
    "![Model as code](https://i.ibb.co/hZdHmkk/modelfigure.jpg)\n",
    "\n",
    "Our model will have:\n",
    "* **inputs**: the values the system has available - for this tutorial the sensory information in a trial.  We want to gather these together and plan how to process them. \n",
    "* **parameters**: unless we are lucky, our functions will have unknown parameters - we want to identify these and plan for them.\n",
    "* **outputs**: these are the predictions our model will make - for this tutorial these are the perceptual judgments on each trial.  Ideally these are directly comparable to our data. \n",
    "* **Model functions**: A set of functions that perform the hypothesized computations.\n",
    "\n",
    ">Using Python (with Numpy and Scipy) we will define a set of functions that take our data and some parameters as input, can run our model, and output a prediction for the judgment data.\n",
    "\n",
    "#Recap of what we've accomplished so far:\n",
    "\n",
    "To model perceptual estimates from our sensory data, we need to \n",
    "1. _integrate_ to ensure sensory information are in appropriate units\n",
    "2. _reduce noise and set timescale_ by filtering\n",
    "3. _threshold_ to model detection \n",
    "\n",
    "Remember the kind of operations we identified:\n",
    "* integration: `np.cumsum()`\n",
    "* filtering: `my_moving_window()`\n",
    "* threshold: `if` with a comparison (`>` or `<`) and `else`\n",
    "\n",
    "We will collect all the components we've developed and design the code by:\n",
    "1. **identifying the key functions** we need\n",
    "2. **sketching the operations** needed in each.  \n",
    "\n",
    "\n"
   ]
  },
  {
   "cell_type": "markdown",
   "metadata": {
    "colab_type": "text",
    "id": "1q8NpBn7la02"
   },
   "source": [
    "**_Planning our model:_**\n",
    "\n",
    "We know what we want the model to do, but we need to plan and organize the model into functions and operations. \n",
    "\n",
    "We're providing a draft of the first function. \n",
    "\n",
    "For each of the two other code chunks, write mostly comments and help text first. This should put into words what role each of the functions plays in the overall model, implementing one of the steps decided above. \n",
    "\n",
    "_______\n",
    "Below is the main function with a detailed explanation of what the function is supposed to do: what input is expected, and what output will generated. \n",
    "\n",
    "The code is not complete, and only returns nans for now. However, this outlines how most model code works: it gets some measured data (the sensory signals) and a set of parameters as input, and as output returns a prediction on other measured data (the velocity judgments). \n",
    "\n",
    "The goal of this function is to define the top level of a simulation model which:\n",
    "* receives all input\n",
    "* loops through the cases\n",
    "* calls functions that computes predicted values for each case\n",
    "* outputs the predictions"
   ]
  },
  {
   "cell_type": "markdown",
   "metadata": {
    "colab_type": "text",
    "id": "lEbkf-gbQVLy"
   },
   "source": [
    "### **TD 6.1**: Complete main model function\n",
    "\n",
    "The function `my_train_illusion_model()` below should call one other function: `my_perceived_motion()`. What input do you think this function should get?"
   ]
  },
  {
   "cell_type": "markdown",
   "metadata": {
    "colab_type": "text",
    "id": "AqzBfQeISJGH"
   },
   "source": [
    "**Complete main model function**"
   ]
  },
  {
   "cell_type": "code",
   "execution_count": 5,
   "metadata": {
    "cellView": "both",
    "colab": {},
    "colab_type": "code",
    "id": "vjZfSZA5la06"
   },
   "outputs": [],
   "source": [
    "def my_train_illusion_model(sensorydata, params):\n",
    "    '''\n",
    "    Generate output predictions of perceived self-motion and perceived world-motion velocity\n",
    "    based on input visual and vestibular signals.\n",
    "    \n",
    "    Args (Input variables passed into function):\n",
    "\n",
    "        sensorydata: (dict) dictionary with two named entries:\n",
    "            opticflow: (numpy.ndarray of float) NxM array with N trials on rows\n",
    "                and M visual signal samples in columns \n",
    "\n",
    "            vestibular: (numpy.ndarray of float) NxM array with N trials on rows\n",
    "                and M vestibular signal samples in columns\n",
    "      \n",
    "        params: (dict) dictionary with named entries:\n",
    "            threshold: (float) vestibular threshold for credit assignment\n",
    "\n",
    "            filterwindow: (list of int) determines the strength of filtering for\n",
    "                the visual and vestibular signals, respectively\n",
    "\n",
    "            integrate (bool): whether to integrate the vestibular signals, will \n",
    "                be set to True if absent\n",
    "\n",
    "            FUN (function): function used in the filter, will be set to \n",
    "                np.mean if absent\n",
    "\n",
    "            samplingrate (float): the number of samples per second in the \n",
    "                sensory data, will be set to 10 if absent\n",
    "\n",
    "    Returns:\n",
    "\n",
    "      dict with two entries:\n",
    "\n",
    "        selfmotion: (numpy.ndarray) vector array of length N, with predictions\n",
    "            of perceived self motion \n",
    "\n",
    "        worldmotion: (numpy.ndarray) vector array of length N, with predictions\n",
    "            of perceived world motion \n",
    "    '''\n",
    "\n",
    "    # sanitize input a little\n",
    "    if not('FUN' in params.keys()):\n",
    "        params['FUN'] = np.mean\n",
    "    if not('integrate' in params.keys()):\n",
    "        params['integrate'] = True\n",
    "    if not('samplingrate' in params.keys()):\n",
    "        params['samplingrate'] = 10\n",
    "\n",
    "    # number of trials:\n",
    "    ntrials = sensorydata['opticflow'].shape[0]\n",
    "    \n",
    "    # set up variables to collect output\n",
    "    selfmotion = np.empty(ntrials)\n",
    "    worldmotion = np.empty(ntrials)\n",
    "\n",
    "    # loop through trials?\n",
    "    for trialN in range(ntrials):\n",
    "\n",
    "        #these are our sensory variables (inputs)\n",
    "        vis = sensorydata['opticflow'][trialN,:]\n",
    "        ves = sensorydata['vestibular'][trialN,:]\n",
    "        \n",
    "        ########################################################\n",
    "        # generate output predicted perception:\n",
    "        ########################################################\n",
    "        #our inputs our vis, ves, and params\n",
    "        selfmotion[trialN], worldmotion[trialN] = [np.nan, np.nan]\n",
    "        ########################################################\n",
    "        # replace above with\n",
    "        # selfmotion[trialN], worldmotion[trialN] = my_perceived_motion( ???, ???, params=params)\n",
    "        # and fill in question marks\n",
    "        ########################################################\n",
    "\n",
    "        # comment this out when you've filled\n",
    "        raise NotImplementedError(\"Student excercise: generate predictions\")\n",
    "\n",
    "    return {'selfmotion':selfmotion, 'worldmotion':worldmotion}\n",
    "\n",
    "\n",
    "# uncomment the following lines to run the main model function:\n",
    "\n",
    "## here is a mock version of my_perceived motion.\n",
    "## so you can test my_train_illusion_model()\n",
    "#def my_perceived_motion(*args, **kwargs):\n",
    "    #return np.random.rand(2)\n",
    "\n",
    "##let's look at the preditions we generated for two sample trials (0,100)\n",
    "##we should get a 1x2 vector of self-motion prediction and another for world-motion\n",
    "\n",
    "#sensorydata={'opticflow':opticflow[[0,100],:0], 'vestibular':vestibular[[0,100],:0]}\n",
    "#params={'threshold':0.33, 'filterwindow':[100,50]}\n",
    "#my_train_illusion_model(sensorydata=sensorydata, params=params)"
   ]
  },
  {
   "cell_type": "code",
   "execution_count": 6,
   "metadata": {
    "cellView": "both",
    "colab": {
     "base_uri": "https://localhost:8080/",
     "height": 51
    },
    "colab_type": "code",
    "id": "jNKehhENytY-",
    "outputId": "2f59f49a-5dab-4752-d039-d5b05449ce9c"
   },
   "outputs": [
    {
     "data": {
      "text/plain": [
       "{'selfmotion': array([0.44039106, 0.656312  ]),\n",
       " 'worldmotion': array([0.73101052, 0.0088008 ])}"
      ]
     },
     "execution_count": 6,
     "metadata": {},
     "output_type": "execute_result"
    }
   ],
   "source": [
    "# to_remove solution\n",
    "def my_train_illusion_model(sensorydata, params):\n",
    "    '''\n",
    "    Generate predictions of perceived self motion and perceived world motion \n",
    "    based on the visual and vestibular signals. \n",
    "    \n",
    "    Args:\n",
    "\n",
    "        sensorydata: (dict) dictionary with two named entries:\n",
    "            opticalfow: (numpy.ndarray of float) NxM array with N trials on rows\n",
    "            and M visual signal samples in columns \n",
    "\n",
    "        vestibular: (numpy.ndarray of float) NxM array with N trials on rows and \n",
    "            M vestibular signal samples in columns\n",
    "      \n",
    "        params: (dict) dictionary with named entries:\n",
    "            threshold: (float) vestibular threshold for credit assignment\n",
    "\n",
    "            filterwindow: (list of int) determines the strength of filtering for\n",
    "                the visual and vestibular signals, respectively\n",
    "\n",
    "            integrate (bool): whether to integrate the vestibular signals, will \n",
    "                be set to True if absent\n",
    "\n",
    "            FUN (function): function used in the filter, will be set to \n",
    "                np.mean if absent\n",
    "\n",
    "            samplingrate (float): the number of samples per second in the \n",
    "                sensory data, will be set to 10 if absent\n",
    "\n",
    "    Returns:\n",
    "\n",
    "      dict with two entries:\n",
    "\n",
    "        selfmotion: (numpy.ndarray) vector array of length N, with predictions\n",
    "            of perceived self motion \n",
    "            \n",
    "        worldmotion: (numpy.ndarray) vector array of length N, with predictions\n",
    "            of perceived world motion \n",
    "    '''\n",
    "\n",
    "    # sanitize input a little\n",
    "    if not('FUN' in params.keys()):\n",
    "        params['FUN'] = np.mean\n",
    "    if not('integrate' in params.keys()):\n",
    "        params['integrate'] = True\n",
    "    if not('samplingrate' in params.keys()):\n",
    "        params['samplingrate'] = 10\n",
    "\n",
    "    # number of trials:\n",
    "    ntrials = sensorydata['opticflow'].shape[0]\n",
    "    \n",
    "    # set up variables to collect output\n",
    "    selfmotion = np.empty(ntrials)\n",
    "    worldmotion = np.empty(ntrials)\n",
    "\n",
    "    # loop through trials\n",
    "    for trialN in range(ntrials):\n",
    "        vis = sensorydata['opticflow'][trialN,:]\n",
    "        ves = sensorydata['vestibular'][trialN,:]\n",
    "        \n",
    "        ########################################################\n",
    "        # get predicted perception in respective output vectors:\n",
    "        ########################################################\n",
    "        \n",
    "        selfmotion[trialN], worldmotion[trialN] = my_perceived_motion( vis=vis, ves=ves, params=params)\n",
    "        \n",
    "    return {'selfmotion':selfmotion, 'worldmotion':worldmotion}\n",
    "\n",
    "# here is a mock version of my_perceived motion\n",
    "# now you can test my_train_illusion_model()\n",
    "def my_perceived_motion(*args, **kwargs):\n",
    "    return np.random.rand(2)\n",
    "\n",
    "##let's look at the preditions we generated for n=2 sample trials (0,100)\n",
    "##we should get a 1x2 vector of self-motion prediction and another for world-motion\n",
    "sensorydata={'opticflow':opticflow[[0,100],:0], 'vestibular':vestibular[[0,100],:0]}\n",
    "params={'threshold':0.33, 'filterwindow':[100,50]}\n",
    "my_train_illusion_model(sensorydata=sensorydata, params=params)"
   ]
  },
  {
   "cell_type": "markdown",
   "metadata": {
    "colab_type": "text",
    "id": "r0d72X8xla1I"
   },
   "source": [
    "### **TD 6.2**: Draft perceived motion functions\n",
    "\n",
    "Now we draft a set of functions, the first of which is used in the main model function (see above) and serves to generate perceived velocities. The other two are used in the first one. Only write help text and/or comments, you don't have to write the whole function. Each time ask yourself these questions:\n",
    "\n",
    "* what sensory data is necessary? \n",
    "* what other input does the function need, if any?\n",
    "* which operations are performed on the input?\n",
    "* what is the output?\n",
    "\n",
    "(the number of arguments is correct)"
   ]
  },
  {
   "cell_type": "markdown",
   "metadata": {
    "colab_type": "text",
    "id": "jZ-QNnMaSzUJ"
   },
   "source": [
    "**Template perceived motion**"
   ]
  },
  {
   "cell_type": "code",
   "execution_count": 7,
   "metadata": {
    "cellView": "both",
    "colab": {},
    "colab_type": "code",
    "id": "Le2UGYSxla1L"
   },
   "outputs": [],
   "source": [
    "# fill in the input arguments the function should have:\n",
    "# write the help text for the function:\n",
    "def my_perceived_motion(arg1, arg2, arg3):\n",
    "    '''\n",
    "    Short description of the function\n",
    "\n",
    "    Args:\n",
    "        argument 1: explain the format and content of the first argument\n",
    "        argument 2: explain the format and content of the second argument\n",
    "        argument 3: explain the format and content of the third argument\n",
    "\n",
    "    Returns:\n",
    "        what output does the function generate?\n",
    "\n",
    "    Any further description?\n",
    "    '''\n",
    "\n",
    "    # structure your code into two functions: \"my_selfmotion\" and \"my_worldmotion\"\n",
    "    # write comments outlining the operations to be performed on the inputs by each of these functions\n",
    "    # use the elements from micro-tutorials 3, 4, and 5 (found in W1D2 Tutorial Part 1)\n",
    "    #  \n",
    "    # \n",
    "    # \n",
    "    \n",
    "    # what kind of output should this function produce?\n",
    "    return output"
   ]
  },
  {
   "cell_type": "markdown",
   "metadata": {
    "colab_type": "text",
    "id": "Wjqk_VeVgqDo"
   },
   "source": [
    "We've completed the `my_perceived_motion()` function for you below. Follow this example to complete the template for `my_selfmotion()` and `my_worldmotion()`. Write out the inputs and outputs, and the steps required to calculate the outputs from the inputs.\n",
    "\n",
    "**Perceived motion function**"
   ]
  },
  {
   "cell_type": "code",
   "execution_count": 8,
   "metadata": {
    "cellView": "both",
    "colab": {},
    "colab_type": "code",
    "id": "A5WroFU-la1U"
   },
   "outputs": [],
   "source": [
    "#Full perceived motion function\n",
    "def my_perceived_motion(vis, ves, params):\n",
    "    '''\n",
    "    Takes sensory data and parameters and returns predicted percepts\n",
    "\n",
    "    Args:\n",
    "        vis (numpy.ndarray): 1xM array of optic flow velocity data\n",
    "        ves (numpy.ndarray): 1xM array of vestibular acceleration data  \n",
    "        params: (dict) dictionary with named entries:\n",
    "            see my_train_illusion_model() for details\n",
    "    \n",
    "    Returns:\n",
    "        [list of floats]: prediction for perceived self-motion based on \n",
    "            vestibular data, and prediction for perceived world-motion based on \n",
    "            perceived self-motion and visual data\n",
    "    '''\n",
    "\n",
    "    # estimate self motion based on only the vestibular data\n",
    "    # pass on the parameters\n",
    "    selfmotion = my_selfmotion(ves=ves, \n",
    "                               params=params) \n",
    "    \n",
    "    # estimate the world motion, based on the selfmotion and visual data\n",
    "    # pass on the parameters as well\n",
    "    worldmotion = my_worldmotion(vis=vis, \n",
    "                                 selfmotion=selfmotion, \n",
    "                                 params=params)\n",
    "\n",
    "    return [selfmotion, worldmotion]"
   ]
  },
  {
   "cell_type": "markdown",
   "metadata": {
    "colab_type": "text",
    "id": "TYzRAst6S56u"
   },
   "source": [
    "**Template calculate self motion**\n",
    "Put notes in the function below that describe the inputs, the outputs, and steps that transform the output from the input using elements from micro-tutorials 3,4,5."
   ]
  },
  {
   "cell_type": "code",
   "execution_count": 9,
   "metadata": {
    "cellView": "both",
    "colab": {},
    "colab_type": "code",
    "id": "X5Ab9T5DPXuf"
   },
   "outputs": [],
   "source": [
    "def my_selfmotion(arg1, arg2):\n",
    "    '''\n",
    "    Short description of the function\n",
    "\n",
    "    Args:\n",
    "        argument 1: explain the format and content of the first argument\n",
    "        argument 2: explain the format and content of the second argument\n",
    "\n",
    "    Returns:\n",
    "        what output does the function generate?\n",
    "\n",
    "    Any further description?\n",
    "    '''\n",
    "\n",
    "    # what operations do we perform on the input?\n",
    "    # use the elements from micro-tutorials 3, 4, and 5\n",
    "    # 1.\n",
    "    # 2.\n",
    "    # 3.\n",
    "    # 4.\n",
    "    \n",
    "\n",
    "    # what output should this function produce?\n",
    "    return output"
   ]
  },
  {
   "cell_type": "code",
   "execution_count": 10,
   "metadata": {
    "cellView": "both",
    "colab": {},
    "colab_type": "code",
    "id": "4uB61BGFhpVH"
   },
   "outputs": [],
   "source": [
    "# to_remove solution\n",
    "def my_selfmotion(ves, params):\n",
    "    '''\n",
    "    Estimates self motion for one vestibular signal\n",
    "\n",
    "    Args:\n",
    "        ves (numpy.ndarray): 1xM array with a vestibular signal\n",
    "        params (dict): dictionary with named entries:\n",
    "            see my_train_illusion_model() for details\n",
    "\n",
    "    Returns:\n",
    "        (float): an estimate of self motion in m/s\n",
    "    '''\n",
    "\n",
    "    # 1. integrate vestibular signal\n",
    "    # 2. running window function\n",
    "    # 3. take final value\n",
    "    # 4. compare to threshold\n",
    "\n",
    "    # if higher than threshold: return value\n",
    "    # if lower than threshold: return 0\n",
    "    return output"
   ]
  },
  {
   "cell_type": "markdown",
   "metadata": {
    "colab_type": "text",
    "id": "_6JhNTIGTB_o"
   },
   "source": [
    "**Template calculate world motion**\n",
    "Put notes in the function below that describe the inputs, the outputs, and steps that transform the output from the input using elements from micro-tutorials 3,4,5."
   ]
  },
  {
   "cell_type": "code",
   "execution_count": 11,
   "metadata": {
    "cellView": "both",
    "colab": {},
    "colab_type": "code",
    "id": "AzntazB0P15Y"
   },
   "outputs": [],
   "source": [
    "def my_worldmotion(arg1, arg2, arg3):\n",
    "    '''\n",
    "    Short description of the function\n",
    "\n",
    "    Args:\n",
    "        argument 1: explain the format and content of the first argument\n",
    "        argument 2: explain the format and content of the second argument\n",
    "        argument 3: explain the format and content of the third argument\n",
    "\n",
    "    Returns:\n",
    "        what output does the function generate?\n",
    "\n",
    "    Any further description?\n",
    "    '''\n",
    "\n",
    "    # what operations do we perform on the input?\n",
    "    # use the elements from micro-tutorials 3, 4, and 5\n",
    "    # 1.\n",
    "    # 2.\n",
    "    # 3. \n",
    "\n",
    "    # what output should this function produce?\n",
    "    return output    "
   ]
  },
  {
   "cell_type": "code",
   "execution_count": 12,
   "metadata": {
    "cellView": "both",
    "colab": {},
    "colab_type": "code",
    "id": "y-hPMkJukHh1"
   },
   "outputs": [],
   "source": [
    "# to_remove solution\n",
    "def my_worldmotion(vis, selfmotion, params):\n",
    "    '''\n",
    "    Estimates world motion based on the visual signal, the estimate of \n",
    "\n",
    "    Args:\n",
    "        vis (numpy.ndarray): 1xM array with the optic flow signal\n",
    "        selfmotion (float): estimate of self motion\n",
    "        params (dict): dictionary with named entries:\n",
    "            see my_train_illusion_model() for details\n",
    "\n",
    "    Returns:\n",
    "        (float): an estimate of world motion in m/s\n",
    "\n",
    "    '''\n",
    "\n",
    "    # 1. running window function\n",
    "    # 2. take final value\n",
    "    # 3. subtract selfmotion from value\n",
    "\n",
    "    # return final value\n",
    "    return output    "
   ]
  },
  {
   "cell_type": "markdown",
   "metadata": {
    "colab_type": "text",
    "id": "1f2zLMJNGfbb"
   },
   "source": [
    "#Micro-tutorial 7 - implement model"
   ]
  },
  {
   "cell_type": "code",
   "execution_count": 13,
   "metadata": {
    "cellView": "form",
    "colab": {
     "base_uri": "https://localhost:8080/",
     "height": 518
    },
    "colab_type": "code",
    "id": "yqKpDcxPEHSP",
    "outputId": "7aab5d99-07ae-4470-be41-fbf8008ec53b"
   },
   "outputs": [
    {
     "name": "stdout",
     "output_type": "stream",
     "text": [
      "Video available at https://youtube.com/watch?v=gtSOekY8jkw\n"
     ]
    },
    {
     "data": {
      "image/jpeg": "[encoded data removed]",
      "text/html": [
       "\n",
       "        <iframe\n",
       "            width=\"854\"\n",
       "            height=\"480\"\n",
       "            src=\"https://www.youtube.com/embed/gtSOekY8jkw?fs=1\"\n",
       "            frameborder=\"0\"\n",
       "            allowfullscreen\n",
       "        ></iframe>\n",
       "        "
      ],
      "text/plain": [
       "<IPython.lib.display.YouTubeVideo at 0x7f2d9cdf6b90>"
      ]
     },
     "execution_count": 13,
     "metadata": {},
     "output_type": "execute_result"
    }
   ],
   "source": [
    "#@title Video: implement the model\n",
    "from IPython.display import YouTubeVideo\n",
    "video = YouTubeVideo(id='gtSOekY8jkw', width=854, height=480, fs=1)\n",
    "print(\"Video available at https://youtube.com/watch?v=\" + video.id)\n",
    "video"
   ]
  },
  {
   "cell_type": "markdown",
   "metadata": {
    "colab_type": "text",
    "id": "_u9ILuKJla1c"
   },
   "source": [
    "\n",
    "**Goal:** We write the components of the model in actual code.\n",
    "\n",
    "For the operations we picked, there function ready to use:\n",
    "* integration: `np.cumsum(data, axis=1)` (axis=1: per trial and over samples)\n",
    "* filtering: `my_moving_window(data, window)` (window: int, default 3)\n",
    "* average: `np.mean(data)`\n",
    "* threshold: if (value > thr): <operation 1> else: <operation 2>\n",
    "\n"
   ]
  },
  {
   "cell_type": "markdown",
   "metadata": {
    "colab_type": "text",
    "id": "omhHWHkXugkw"
   },
   "source": [
    "###**TD 7.1:** Write code to estimate self motion\n",
    "\n",
    "Use the operations to finish writing the function that will calculate an estimate of self motion. Fill in the descriptive list of items with actual operations. Use the function for estimating world-motion below, which we've filled for you!\n",
    "\n",
    "**Template finish self motion function**"
   ]
  },
  {
   "cell_type": "code",
   "execution_count": 14,
   "metadata": {
    "cellView": "both",
    "colab": {},
    "colab_type": "code",
    "id": "TdoOVsfpla1e"
   },
   "outputs": [],
   "source": [
    "def my_selfmotion(ves, params):\n",
    "    '''\n",
    "    Estimates self motion for one vestibular signal\n",
    "\n",
    "    Args:\n",
    "        ves (numpy.ndarray): 1xM array with a vestibular signal\n",
    "        params (dict): dictionary with named entries:\n",
    "            see my_train_illusion_model() for details\n",
    "\n",
    "    Returns:\n",
    "        (float): an estimate of self motion in m/s\n",
    "    '''\n",
    "\n",
    "    ###uncomment the code below and fill in with your code\n",
    "\n",
    "    ## 1. integrate vestibular signal\n",
    "    #ves = np.cumsum(ves*(1/params['samplingrate']))\n",
    "\n",
    "    ## 2. running window function to accumulate evidence: \n",
    "    #selfmotion = YOUR CODE HERE\n",
    "    \n",
    "    ## 3. take final value of self-motion vector as our estimate\n",
    "    #selfmotion =\n",
    "\n",
    "    ## 4. compare to threshold. Hint the threshodl is stored in params['threshold']\n",
    "    ## if selfmotion is higher than threshold: return value\n",
    "    ## if it's lower than threshold: return 0\n",
    "\n",
    "    #if YOURCODEHERE\n",
    "        #selfmotion = YOURCODHERE \n",
    "\n",
    "    # comment this out when you've filled\n",
    "    raise NotImplementedError(\"Student excercise: estimate my_selfmotion\")\n",
    "\n",
    "    return output"
   ]
  },
  {
   "cell_type": "code",
   "execution_count": 15,
   "metadata": {
    "cellView": "both",
    "colab": {},
    "colab_type": "code",
    "id": "p8hLOrMQo_zA"
   },
   "outputs": [],
   "source": [
    "# to_remove solution\n",
    "def my_selfmotion(ves, params):\n",
    "    '''\n",
    "    Estimates self motion for one vestibular signal\n",
    "\n",
    "    Args:\n",
    "        ves (numpy.ndarray): 1xM array with a vestibular signal\n",
    "        params (dict): dictionary with named entries:\n",
    "            see my_train_illusion_model() for details\n",
    "\n",
    "    Returns:\n",
    "        (float): an estimate of self motion in m/s\n",
    "    '''\n",
    "\n",
    "    # integrate signal:\n",
    "    ves = np.cumsum(ves*(1/params['samplingrate']))\n",
    "    \n",
    "    # use running window to accumulate evidence:\n",
    "    selfmotion = my_moving_window(ves, \n",
    "                                  window=params['filterwindows'][0], \n",
    "                                  FUN=params['FUN'])\n",
    "    \n",
    "    # take the final value as our estimate:\n",
    "    selfmotion = selfmotion[-1]\n",
    "\n",
    "    # compare to threshold, set to 0 if lower\n",
    "    if selfmotion < params['threshold']:\n",
    "        selfmotion = 0 \n",
    "    \n",
    "    return selfmotion"
   ]
  },
  {
   "cell_type": "markdown",
   "metadata": {
    "colab_type": "text",
    "id": "rDWyfXQyt2Um"
   },
   "source": [
    "### Estimate world motion\n",
    "\n",
    "We have completed the `my_worldmotion()` function for you.\n",
    "\n",
    "**World motion function**"
   ]
  },
  {
   "cell_type": "code",
   "execution_count": 16,
   "metadata": {
    "cellView": "both",
    "colab": {},
    "colab_type": "code",
    "id": "3sWacz4At9Ma"
   },
   "outputs": [],
   "source": [
    "# World motion function\n",
    "def my_worldmotion(vis, selfmotion, params):\n",
    "    '''\n",
    "    Short description of the function\n",
    "\n",
    "    Args:\n",
    "        vis (numpy.ndarray): 1xM array with the optic flow signal\n",
    "        selfmotion (float): estimate of self motion\n",
    "        params (dict): dictionary with named entries:\n",
    "            see my_train_illusion_model() for details\n",
    "\n",
    "    Returns:\n",
    "        (float): an estimate of world motion in m/s\n",
    "\n",
    "    '''\n",
    "\n",
    "    # running average to smooth/accumulate sensory evidence\n",
    "    visualmotion = my_moving_window(vis, \n",
    "                                    window=params['filterwindows'][1], \n",
    "                                    FUN=np.mean)\n",
    "\n",
    "    # take final value\n",
    "    visualmotion = visualmotion[-1]\n",
    "    \n",
    "    # subtract selfmotion from value\n",
    "    worldmotion = visualmotion + selfmotion\n",
    "\n",
    "    # return final value\n",
    "    return worldmotion"
   ]
  },
  {
   "cell_type": "markdown",
   "metadata": {
    "colab_type": "text",
    "id": "CKXdgsGSGh1R"
   },
   "source": [
    "#Micro-tutorial 8 - completing the model"
   ]
  },
  {
   "cell_type": "code",
   "execution_count": 17,
   "metadata": {
    "cellView": "form",
    "colab": {
     "base_uri": "https://localhost:8080/",
     "height": 518
    },
    "colab_type": "code",
    "id": "4k9Dnf36EYC-",
    "outputId": "dada59b7-466c-4395-a3e4-8726c1011b8c"
   },
   "outputs": [
    {
     "name": "stdout",
     "output_type": "stream",
     "text": [
      "Video available at https://youtube.com/watch?v=-NiHSv4xCDs\n"
     ]
    },
    {
     "data": {
      "image/jpeg": "[encoded data removed]",
      "text/html": [
       "\n",
       "        <iframe\n",
       "            width=\"854\"\n",
       "            height=\"480\"\n",
       "            src=\"https://www.youtube.com/embed/-NiHSv4xCDs?fs=1\"\n",
       "            frameborder=\"0\"\n",
       "            allowfullscreen\n",
       "        ></iframe>\n",
       "        "
      ],
      "text/plain": [
       "<IPython.lib.display.YouTubeVideo at 0x7f2d9cdfc410>"
      ]
     },
     "execution_count": 17,
     "metadata": {},
     "output_type": "execute_result"
    }
   ],
   "source": [
    "#@title Video: completing the model\n",
    "from IPython.display import YouTubeVideo\n",
    "video = YouTubeVideo(id='-NiHSv4xCDs', width=854, height=480, fs=1)\n",
    "print(\"Video available at https://youtube.com/watch?v=\" + video.id)\n",
    "video"
   ]
  },
  {
   "cell_type": "markdown",
   "metadata": {
    "colab_type": "text",
    "id": "Z-JpO3i8la12"
   },
   "source": [
    "\n",
    "**Goal:** Make sure the model can speak to the hypothesis. Eliminate all the parameters that do not speak to the hypothesis.\n",
    "\n",
    "Now that we have a working model, we can keep improving it, but at some point we need to decide that it is finished. Once we have a model that displays the properties of a system we are interested in, it should be possible to say something about our hypothesis and question. Keeping the model simple makes it easier to understand the phenomenon and answer the research question. Here that means that our model should have illusory perception, and perhaps make similar judgments to those of the participants, but not much more.\n",
    "\n",
    "To test this, we will run the model, store the output and plot the models' perceived self motion over perceived world motion, like we did with the actual perceptual judgments (it even uses the same plotting function)."
   ]
  },
  {
   "cell_type": "markdown",
   "metadata": {
    "colab_type": "text",
    "id": "wPQh7JMW2crO"
   },
   "source": [
    "### **TD 8.1:** See if the model produces illusions"
   ]
  },
  {
   "cell_type": "code",
   "execution_count": 18,
   "metadata": {
    "cellView": "form",
    "colab": {
     "base_uri": "https://localhost:8080/",
     "height": 517
    },
    "colab_type": "code",
    "id": "14bGdwxX3mk1",
    "outputId": "6c93a2e7-7e01-4e49-e2dd-0fb5d52bf47e"
   },
   "outputs": [
    {
     "data": {
      "image/png": "[encoded data removed]",
      "text/plain": [
       "<Figure size 576x576 with 1 Axes>"
      ]
     },
     "metadata": {
      "needs_background": "light"
     },
     "output_type": "display_data"
    }
   ],
   "source": [
    "#@title Run to plot model predictions of motion estimates\n",
    "# prepare to run the model again:\n",
    "data = {'opticflow':opticflow, 'vestibular':vestibular}\n",
    "params = {'threshold':0.6, 'filterwindows':[100,50], 'FUN':np.mean}\n",
    "modelpredictions = my_train_illusion_model(sensorydata=data, params=params)\n",
    "\n",
    "# process the data to allow plotting...\n",
    "predictions = np.zeros(judgments.shape)\n",
    "predictions[:,0:3] = judgments[:,0:3]\n",
    "predictions[:,3] = modelpredictions['selfmotion']\n",
    "predictions[:,4] = modelpredictions['worldmotion'] *-1\n",
    "my_plot_percepts(datasets={'predictions':predictions}, plotconditions=True)"
   ]
  },
  {
   "cell_type": "markdown",
   "metadata": {
    "colab_type": "text",
    "id": "ughghdXV5bhv"
   },
   "source": [
    "**Questions:**\n",
    "\n",
    "* Why is the data distributed this way? How does it compare to the plot in TD 1.2?\n",
    "* Did you expect to see this?\n",
    "* Where do the model's predicted judgments for each of the two conditions fall?\n",
    "* How does this compare to the behavioral data?\n",
    "\n",
    "However, the main observation should be that **there are illusions**: the blue and red data points are mixed in each of the two sets of data. Does this mean the model can help us understand the phenomenon?"
   ]
  },
  {
   "cell_type": "markdown",
   "metadata": {
    "colab_type": "text",
    "id": "-Esgpp-5GlJY"
   },
   "source": [
    "#Micro-tutorial 9 - testing and evaluating the model"
   ]
  },
  {
   "cell_type": "code",
   "execution_count": 19,
   "metadata": {
    "cellView": "form",
    "colab": {
     "base_uri": "https://localhost:8080/",
     "height": 518
    },
    "colab_type": "code",
    "id": "a6GK1G7qbmg1",
    "outputId": "da5fdb52-d75e-437a-f41a-74d8e3473f7d"
   },
   "outputs": [
    {
     "name": "stdout",
     "output_type": "stream",
     "text": [
      "Video available at https://youtube.com/watch?v=5vnDOxN3M_k\n"
     ]
    },
    {
     "data": {
      "image/jpeg": "[encoded data removed]",
      "text/html": [
       "\n",
       "        <iframe\n",
       "            width=\"854\"\n",
       "            height=\"480\"\n",
       "            src=\"https://www.youtube.com/embed/5vnDOxN3M_k?fs=1\"\n",
       "            frameborder=\"0\"\n",
       "            allowfullscreen\n",
       "        ></iframe>\n",
       "        "
      ],
      "text/plain": [
       "<IPython.lib.display.YouTubeVideo at 0x7f2d9ce15750>"
      ]
     },
     "execution_count": 19,
     "metadata": {},
     "output_type": "execute_result"
    }
   ],
   "source": [
    "#@title Video: Background\n",
    "from IPython.display import YouTubeVideo\n",
    "video = YouTubeVideo(id='5vnDOxN3M_k', width=854, height=480, fs=1)\n",
    "print(\"Video available at https://youtube.com/watch?v=\" + video.id)\n",
    "video"
   ]
  },
  {
   "cell_type": "markdown",
   "metadata": {
    "colab_type": "text",
    "id": "0ujFZwu6la19"
   },
   "source": [
    "\n",
    "**Goal:** Once we have finished the model, we need a description of how good it is. The question and goals we set in micro-tutorial 1 and 4 help here. There are multiple ways to evaluate a model. Aside from the obvious fact that we want to get insight into the phenomenon that is not directly accessible without the model, we always want to quantify how well the model agrees with the data.\n"
   ]
  },
  {
   "cell_type": "markdown",
   "metadata": {
    "colab_type": "text",
    "id": "K6nzpSVyWUJK"
   },
   "source": [
    "### Quantify model quality with $R^2$\n",
    "\n",
    "Let's look at how well our model matches the actual judgment data."
   ]
  },
  {
   "cell_type": "code",
   "execution_count": 20,
   "metadata": {
    "cellView": "form",
    "colab": {
     "base_uri": "https://localhost:8080/",
     "height": 354
    },
    "colab_type": "code",
    "id": "PYgVPkSVla1-",
    "outputId": "31cd6d1d-c19a-446d-f324-5dd29caee45c"
   },
   "outputs": [
    {
     "data": {
      "image/png": "[encoded data removed]",
      "text/plain": [
       "<Figure size 864x360 with 2 Axes>"
      ]
     },
     "metadata": {
      "needs_background": "light"
     },
     "output_type": "display_data"
    }
   ],
   "source": [
    "#@title Run to plot predictions over data\n",
    "my_plot_predictions_data(judgments, predictions)"
   ]
  },
  {
   "cell_type": "markdown",
   "metadata": {
    "colab_type": "text",
    "id": "CznDTrrRDiME"
   },
   "source": [
    "When model predictions are correct, the red points in the figure above should lie along the identity line (a dotted black line here). Points off the identity line represent model prediction errors. While in each plot we see two clusters of dots that are fairly close to the identity line, there are also two clusters that are not. For the trials that those points represent, the model has an illusion while the participants don't or vice versa.\n",
    "\n",
    "We will use a straightforward, quantitative measure of how good the model is: $R^2$ (pronounced: \"R-squared\"), which can take values between 0 and 1, and expresses how much variance is explained by the relationship between two variables (here the model's predictions and the actual judgments). It is also called [coefficient of determination](https://en.wikipedia.org/wiki/Coefficient_of_determination), and is calculated here as the square of the correlation coefficient (r or $\\rho$). Just run the chunk below:"
   ]
  },
  {
   "cell_type": "code",
   "execution_count": 21,
   "metadata": {
    "cellView": "form",
    "colab": {
     "base_uri": "https://localhost:8080/",
     "height": 51
    },
    "colab_type": "code",
    "id": "efPMYHLVC0XN",
    "outputId": "6a795545-07cf-492f-e132-904b5143a483"
   },
   "outputs": [
    {
     "name": "stdout",
     "output_type": "stream",
     "text": [
      "conditions -> judgments R^2: 0.032\n",
      "predictions -> judgments R^2: 0.256\n"
     ]
    }
   ],
   "source": [
    "#@title Run to calculate R^2\n",
    "conditions = np.concatenate((np.abs(judgments[:,1]),np.abs(judgments[:,2])))\n",
    "veljudgmnt = np.concatenate((judgments[:,3],judgments[:,4]))\n",
    "velpredict = np.concatenate((predictions[:,3],predictions[:,4]))\n",
    "\n",
    "slope, intercept, r_value, p_value, std_err = sp.stats.linregress(conditions,veljudgmnt)\n",
    "print('conditions -> judgments R^2: %0.3f'%( r_value**2 ))\n",
    "\n",
    "slope, intercept, r_value, p_value, std_err = sp.stats.linregress(veljudgmnt,velpredict)\n",
    "print('predictions -> judgments R^2: %0.3f'%( r_value**2 ))\n"
   ]
  },
  {
   "cell_type": "markdown",
   "metadata": {
    "colab_type": "text",
    "id": "l2naIlvUW09i"
   },
   "source": [
    "These $R^2$s express how well the experimental conditions explain the participants judgments and how well the models predicted judgments explain the participants judgments.\n",
    "\n",
    "You will learn much more about model fitting, quantitative model evaluation and model comparison tomorrow!\n",
    "\n",
    "Perhaps the $R^2$ values don't seem very impressive, but the judgments produced by the participants are explained by the model's predictions better than by the actual conditions. In other words: the model tends to have the same illusions as the participants."
   ]
  },
  {
   "cell_type": "markdown",
   "metadata": {
    "colab_type": "text",
    "id": "DEWF_i_6H2IM"
   },
   "source": [
    "### **TD 9.1** Varying the threshold parameter to improve the model\n",
    "\n",
    "In the code below, see if you can find a better value for the threshold parameter, to reduce errors in the models' predictions.\n",
    "\n",
    "**Testing thresholds**"
   ]
  },
  {
   "cell_type": "code",
   "execution_count": 22,
   "metadata": {
    "cellView": "both",
    "colab": {
     "base_uri": "https://localhost:8080/",
     "height": 34
    },
    "colab_type": "code",
    "id": "wIdjtHtcH1ph",
    "outputId": "2aebef2f-f555-4d7f-8b89-7a26bf48bf8e"
   },
   "outputs": [
    {
     "name": "stdout",
     "output_type": "stream",
     "text": [
      "predictions -> judgments R2: 0.267\n"
     ]
    }
   ],
   "source": [
    "# Testing thresholds\n",
    "def test_threshold(threshold=0.33):\n",
    "    \n",
    "    # prepare to run model\n",
    "    data = {'opticflow':opticflow, 'vestibular':vestibular}\n",
    "    params = {'threshold':threshold, 'filterwindows':[100,50], 'FUN':np.mean}\n",
    "    modelpredictions = my_train_illusion_model(sensorydata=data, params=params)\n",
    "\n",
    "    # get predictions in matrix\n",
    "    predictions = np.zeros(judgments.shape)\n",
    "    predictions[:,0:3] = judgments[:,0:3]\n",
    "    predictions[:,3] = modelpredictions['selfmotion']\n",
    "    predictions[:,4] = modelpredictions['worldmotion'] *-1\n",
    "\n",
    "    # get percepts from participants and model\n",
    "    conditions = np.concatenate((np.abs(judgments[:,1]),np.abs(judgments[:,2])))\n",
    "    veljudgmnt = np.concatenate((judgments[:,3],judgments[:,4]))\n",
    "    velpredict = np.concatenate((predictions[:,3],predictions[:,4]))\n",
    "\n",
    "    # calculate R2\n",
    "    slope, intercept, r_value, p_value, std_err = sp.stats.linregress(veljudgmnt,velpredict)\n",
    "    print('predictions -> judgments R2: %0.3f'%( r_value**2 ))\n",
    "\n",
    "\n",
    "test_threshold(threshold=0.5) "
   ]
  },
  {
   "cell_type": "markdown",
   "metadata": {
    "colab_type": "text",
    "id": "G3qg0wEJyxkq"
   },
   "source": [
    "### **TD 9.2:** Credit assigmnent of self motion\n",
    "\n",
    "When we look at the figure in **TD 8.1**, we can see a cluster does seem very close to (1,0), just like in the actual data. The cluster of points at (1,0) are from the case where we conclude there is no self motion, and then set the self motion to 0. That value of 0 removes a lot of noise from the world-motion estimates, and all noise from the self-motion estimate. In the other case, where there is self motion, we still have a lot of noise (see also micro-tutorial 4).\n",
    "\n",
    "Let's change our `my_selfmotion()` function to return a self motion of 1 when the vestibular signal indicates we are above threshold, and 0 when we are below threshold. Edit the function here.\n",
    "\n",
    "**Template function for credit assigment of self motion**\n"
   ]
  },
  {
   "cell_type": "code",
   "execution_count": 23,
   "metadata": {
    "cellView": "both",
    "colab": {},
    "colab_type": "code",
    "id": "2D9wLipTy4F2"
   },
   "outputs": [],
   "source": [
    "# Template binary self-motion estimates\n",
    "def my_selfmotion(ves, params):\n",
    "    '''\n",
    "    Estimates self motion for one vestibular signal\n",
    "\n",
    "    Args:\n",
    "        ves (numpy.ndarray): 1xM array with a vestibular signal\n",
    "        params (dict): dictionary with named entries:\n",
    "            see my_train_illusion_model() for details\n",
    "\n",
    "    Returns:\n",
    "        (float): an estimate of self motion in m/s\n",
    "    '''\n",
    "\n",
    "    # integrate signal:\n",
    "    ves = np.cumsum(ves*(1/params['samplingrate']))\n",
    "    \n",
    "    # use running window to accumulate evidence:\n",
    "    selfmotion = my_moving_window(ves, \n",
    "                                  window=params['filterwindows'][0], \n",
    "                                  FUN=params['FUN'])\n",
    "    \n",
    "    ## take the final value as our estimate:\n",
    "    selfmotion = selfmotion[-1]\n",
    "\n",
    "    ##########################################\n",
    "    # this last part will have to be changed\n",
    "    # compare to threshold, set to 0 if lower and else...\n",
    "    if selfmotion < params['threshold']:\n",
    "        selfmotion = 0 \n",
    "\n",
    "    #uncomment the lines below and fill in with your code\n",
    "    #else:\n",
    "        #YOUR CODE HERE\n",
    "\n",
    "    # comment this out when you've filled\n",
    "    raise NotImplementedError(\"Student excercise: modify with credit assignment\")\n",
    "\n",
    "    return selfmotion"
   ]
  },
  {
   "cell_type": "code",
   "execution_count": 24,
   "metadata": {
    "cellView": "both",
    "colab": {},
    "colab_type": "code",
    "id": "CyCeKL7mGACI"
   },
   "outputs": [],
   "source": [
    "# to_remove solution\n",
    "def my_selfmotion(ves, params):\n",
    "    '''\n",
    "    Estimates self motion for one vestibular signal\n",
    "\n",
    "    Args:\n",
    "        ves (numpy.ndarray): 1xM array with a vestibular signal\n",
    "        params (dict): dictionary with named entries:\n",
    "            see my_train_illusion_model() for details\n",
    "\n",
    "    Returns:\n",
    "        (float): an estimate of self motion in m/s\n",
    "    '''\n",
    "\n",
    "    # integrate signal:\n",
    "\n",
    "    ves = np.cumsum(ves*(1/params['samplingrate']))\n",
    "    \n",
    "    # use running window to accumulate evidence:\n",
    "    selfmotion = my_moving_window(ves, \n",
    "                                  window=params['filterwindows'][0], \n",
    "                                  FUN=params['FUN'])\n",
    "    \n",
    "    # final value:\n",
    "    selfmotion = selfmotion[-1]\n",
    "\n",
    "    # compare to threshold, set to 0 if lower\n",
    "    if selfmotion < params['threshold']:\n",
    "        selfmotion = 0 \n",
    "    else:\n",
    "        selfmotion = 1\n",
    "    \n",
    "    return selfmotion"
   ]
  },
  {
   "cell_type": "markdown",
   "metadata": {
    "colab_type": "text",
    "id": "l8HXAESh13Oc"
   },
   "source": [
    "The function you just wrote will be used when we run the model again below."
   ]
  },
  {
   "cell_type": "code",
   "execution_count": 25,
   "metadata": {
    "cellView": "form",
    "colab": {
     "base_uri": "https://localhost:8080/",
     "height": 517
    },
    "colab_type": "code",
    "id": "hSs7bTFD153A",
    "outputId": "dcbfc3c5-60a0-455b-873d-6fec1bd6256e"
   },
   "outputs": [
    {
     "data": {
      "image/png": "[encoded data removed]",
      "text/plain": [
       "<Figure size 576x576 with 1 Axes>"
      ]
     },
     "metadata": {
      "needs_background": "light"
     },
     "output_type": "display_data"
    }
   ],
   "source": [
    "#@title Run model credit assigment of self motion\n",
    "# prepare to run the model again:\n",
    "data = {'opticflow':opticflow, 'vestibular':vestibular}\n",
    "params = {'threshold':0.33, 'filterwindows':[100,50], 'FUN':np.mean}\n",
    "modelpredictions = my_train_illusion_model(sensorydata=data, params=params)\n",
    "\n",
    "# no process the data to allow plotting...\n",
    "predictions = np.zeros(judgments.shape)\n",
    "predictions[:,0:3] = judgments[:,0:3]\n",
    "predictions[:,3] = modelpredictions['selfmotion']\n",
    "predictions[:,4] = modelpredictions['worldmotion'] *-1\n",
    "my_plot_percepts(datasets={'predictions':predictions}, plotconditions=False)"
   ]
  },
  {
   "cell_type": "markdown",
   "metadata": {
    "colab_type": "text",
    "id": "dddNTNQ8GpfT"
   },
   "source": [
    "That looks much better, and closer to the actual data. Let's see if the $R^2$ values have improved:"
   ]
  },
  {
   "cell_type": "code",
   "execution_count": 26,
   "metadata": {
    "cellView": "form",
    "colab": {
     "base_uri": "https://localhost:8080/",
     "height": 388
    },
    "colab_type": "code",
    "id": "CdzQtFWOGzly",
    "outputId": "ed596b33-4d9e-4eaa-ef8b-b8e7dcd869e8"
   },
   "outputs": [
    {
     "data": {
      "image/png": "[encoded data removed]",
      "text/plain": [
       "<Figure size 864x360 with 2 Axes>"
      ]
     },
     "metadata": {
      "needs_background": "light"
     },
     "output_type": "display_data"
    },
    {
     "name": "stdout",
     "output_type": "stream",
     "text": [
      "conditions -> judgments R2: 0.032\n",
      "predictions -> judgments R2: 0.141\n"
     ]
    }
   ],
   "source": [
    "#@title Run to calculate R^2 for model with self motion credit assignment\n",
    "conditions = np.concatenate((np.abs(judgments[:,1]),np.abs(judgments[:,2])))\n",
    "veljudgmnt = np.concatenate((judgments[:,3],judgments[:,4]))\n",
    "velpredict = np.concatenate((predictions[:,3],predictions[:,4]))\n",
    "\n",
    "my_plot_predictions_data(judgments, predictions)\n",
    "\n",
    "slope, intercept, r_value, p_value, std_err = sp.stats.linregress(conditions,veljudgmnt)\n",
    "print('conditions -> judgments R2: %0.3f'%( r_value**2 ))\n",
    "\n",
    "slope, intercept, r_value, p_value, std_err = sp.stats.linregress(velpredict,veljudgmnt)\n",
    "print('predictions -> judgments R2: %0.3f'%( r_value**2 ))"
   ]
  },
  {
   "cell_type": "markdown",
   "metadata": {
    "colab_type": "text",
    "id": "ynx87xTs17W3"
   },
   "source": [
    "While the model still predicts velocity judgments better than the conditions (i.e. the model predicts illusions in somewhat similar cases), the $R^2$ values are actually worse than those of the simpler model. What's really going on is that the same set of points that were model prediction errors in the previous model are also errors here. All we have done is reduce the spread."
   ]
  },
  {
   "cell_type": "markdown",
   "metadata": {
    "colab_type": "text",
    "id": "iQniQk3Dyq-c"
   },
   "source": [
    "### Interpret the model's meaning\n",
    "\n",
    "Here's what you should have learned: \n",
    "\n",
    "1. A noisy, vestibular, acceleration signal can give rise to illusory motion.\n",
    "2. However, disambiguating the optic flow by adding the vestibular signal simply adds a lot of noise. This is not a plausible thing for the brain to do.\n",
    "3. Our other hypothesis - credit assignment - is more qualitatively correct, but our simulations were not able to match the frequency of the illusion on a trial-by-trial basis.\n",
    "\n",
    "_It's always possible to refine our models to improve the fits._\n",
    "\n",
    "There are many ways to try to do this. A few examples; we could implement a full sensory cue integration model, perhaps with Kalman filters (Week 2, Day 3), or we could add prior knowledge (at what time do the trains depart?). However, we decided that for now we have learned enough, so it's time to write it up.\n"
   ]
  },
  {
   "cell_type": "markdown",
   "metadata": {
    "colab_type": "text",
    "id": "THERtRx9Gn7s"
   },
   "source": [
    "# Micro-tutorial 10 - publishing the model"
   ]
  },
  {
   "cell_type": "code",
   "execution_count": 27,
   "metadata": {
    "cellView": "form",
    "colab": {
     "base_uri": "https://localhost:8080/",
     "height": 518
    },
    "colab_type": "code",
    "id": "2HD5Ve1GFDRG",
    "outputId": "678acdc9-893e-4bd8-cb05-c9a0f3529919"
   },
   "outputs": [
    {
     "name": "stdout",
     "output_type": "stream",
     "text": [
      "Video available at https://youtube.com/watch?v=kf4aauCr5vA\n"
     ]
    },
    {
     "data": {
      "image/jpeg": "[encoded data removed]",
      "text/html": [
       "\n",
       "        <iframe\n",
       "            width=\"854\"\n",
       "            height=\"480\"\n",
       "            src=\"https://www.youtube.com/embed/kf4aauCr5vA?fs=1\"\n",
       "            frameborder=\"0\"\n",
       "            allowfullscreen\n",
       "        ></iframe>\n",
       "        "
      ],
      "text/plain": [
       "<IPython.lib.display.YouTubeVideo at 0x7f2d99f69e90>"
      ]
     },
     "execution_count": 27,
     "metadata": {},
     "output_type": "execute_result"
    }
   ],
   "source": [
    "#@title Video: Background\n",
    "from IPython.display import YouTubeVideo\n",
    "video = YouTubeVideo(id='kf4aauCr5vA', width=854, height=480, fs=1)\n",
    "print(\"Video available at https://youtube.com/watch?v=\" + video.id)\n",
    "video"
   ]
  },
  {
   "cell_type": "markdown",
   "metadata": {
    "colab_type": "text",
    "id": "suhFBllXULWb"
   },
   "source": [
    "\n",
    "**Goal:** In order for our model to impact the field, it needs to be accepted by our peers, and order for that to happen it matters how the model is published."
   ]
  },
  {
   "cell_type": "markdown",
   "metadata": {
    "colab_type": "text",
    "id": "WfFajjVDla2E"
   },
   "source": [
    "### **TD 10.1:** Write a summary of the project\n",
    "\n",
    "Here we will write up our model, by answering the following questions:\n",
    "* **What is the phenomena**?  Here summarize the part of the phenomena which your model addresses.\n",
    "* **What is the key scientific question?**:  Clearly articulate the question which your model tries to answer.\n",
    "* **What was our hypothesis?**:  Explain the key relationships which we relied on to simulate the phenomena.\n",
    "* **How did your model work?** Give an overview of the model, it's main components, and how the model works.  ''Here we ... ''\n",
    "* **What did we find? Did the model work?** Explain the key outcomes of your model evaluation. \n",
    "* **What can we conclude?** Conclude as much as you can _with reference to the hypothesis_, within the limits of the model.  \n",
    "* **What did you learn? What is left to be learned?** Briefly argue the plausibility of the approach and what you think is _essential_ that may have been left out.\n",
    "\n",
    "### Guidance for the future\n",
    "There are good guidelines for structuring and writing an effective paper (e.g. [Mensh & Kording, 2017](https://doi.org/10.1371/journal.pcbi.1005619)), all of which apply to papers about models. There are some extra considerations when publishing a model. In general, you should explain each of the steps in the paper:\n",
    "\n",
    "**Introduction:** Steps 1 & 2 (maybe 3)\n",
    "\n",
    "**Methods:** Steps 3-7, 9\n",
    "\n",
    "**Results:** Steps 8 & 9, going back to 1, 2 & 4\n",
    "\n",
    "In addition, you should provide a visualization of the model, and upload the code implementing the model and the data it was trained and tested on to a repository (e.g. GitHub and OSF).\n",
    "\n",
    "The audience for all of this should be experimentalists, as they are the ones who can test predictions made by your your model and collect new data. This way your models can impact future experiments, and that future data can then be modeled (see modeling process schematic below). Remember your audience - it is _always_ hard to clearly convey the main points of your work to others, especially if your audience doesn't necessarily create computational models themselves.\n",
    "\n",
    "![how-to-model process from Blohm et al 2019](https://deniseh.lab.yorku.ca/files/2020/06/HowToModel-ENEURO.0352-19.2019.full_.pdf.png)\n",
    "\n",
    "### Suggestion\n",
    "\n",
    "For every modeling project, a very good exercise in this is to _**first**_ write a short, 100-word abstract of the project plan and expected impact, like the summary you wrote. This forces focussing on the main points: describing the relevance, question, model, answer and what it all means very succinctly. This allows you to decide to do this project or not **before you commit time writing code for no good purpose**. Notice that this is really what we've walked you through carefully in this tutorial! :)\n"
   ]
  },
  {
   "cell_type": "markdown",
   "metadata": {
    "colab_type": "text",
    "id": "01n_LLDZ2ZWB"
   },
   "source": [
    "# Post-script\n",
    "\n",
    "Note that the model we built here was extremely simple and used artificial data on purpose. It allowed us to go through all the steps of building a model, and hopefully you noticed that it is not always a linear process, you will go back to different steps if you hit a roadblock somewhere.\n",
    "\n",
    "However, if you're interested in how to actually approach modeling a similar phenomenon in a probabilistic way, we encourage you to read the paper by [Dokka et. al., 2019](https://doi.org/10.1073/pnas.1820373116), where the authors model how judgments of heading direction are influenced by objects that are also moving."
   ]
  },
  {
   "cell_type": "markdown",
   "metadata": {
    "colab_type": "text",
    "id": "41UU4oWvRmo6"
   },
   "source": [
    "# Reading\n",
    "\n",
    "Blohm G, Kording KP, Schrater PR (2020). _A How-to-Model Guide for Neuroscience_ eNeuro, 7(1) ENEURO.0352-19.2019. https://doi.org/10.1523/ENEURO.0352-19.2019 \n",
    "\n",
    "Dokka K, Park H, Jansen M, DeAngelis GC, Angelaki DE (2019). _Causal inference accounts for heading perception in the presence of object motion._ PNAS, 116(18):9060-9065. https://doi.org/10.1073/pnas.1820373116\n",
    "\n",
    "Drugowitsch J, DeAngelis GC, Klier EM, Angelaki DE, Pouget A (2014). _Optimal Multisensory Decision-Making in a Reaction-Time Task._ eLife, 3:e03005. https://doi.org/10.7554/eLife.03005\n",
    "\n",
    "Hartmann, M, Haller K, Moser I, Hossner E-J, Mast FW  (2014). _Direction detection thresholds of passive self-motion in artistic gymnasts._ Exp Brain Res, 232:1249–1258. https://doi.org/10.1007/s00221-014-3841-0\n",
    "\n",
    "Mensh B, Kording K (2017). _Ten simple rules for structuring papers._ PLoS Comput Biol 13(9): e1005619. https://doi.org/10.1371/journal.pcbi.1005619\n",
    "\n",
    "Seno T, Fukuda H (2012). _Stimulus Meanings Alter Illusory Self-Motion (Vection) - Experimental Examination of the Train Illusion._ Seeing Perceiving, 25(6):631-45. https://doi.org/10.1163/18784763-00002394\n"
   ]
  }
 ],
 "metadata": {
  "colab": {
   "collapsed_sections": [],
   "include_colab_link": true,
   "name": "Madineh Copy of W1 D2 Tutorials part2.ipynb",
   "provenance": [],
   "toc_visible": true
  },
  "kernelspec": {
   "display_name": "Python 3",
   "name": "python3"
  },
  "language_info": {
   "codemirror_mode": {
    "name": "ipython",
    "version": 3
   },
   "file_extension": ".py",
   "mimetype": "text/x-python",
   "name": "python",
   "nbconvert_exporter": "python",
   "pygments_lexer": "ipython3",
   "version": "3.7.7"
  }
 },
 "nbformat": 4,
 "nbformat_minor": 0
}
