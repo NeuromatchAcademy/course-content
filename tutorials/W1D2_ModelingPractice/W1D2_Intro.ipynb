{
  "nbformat": 4,
  "nbformat_minor": 0,
  "metadata": {
    "colab": {
      "name": "W1D2_Intro",
      "provenance": [],
      "collapsed_sections": [],
      "toc_visible": true,
      "include_colab_link": true
    },
    "kernel": {
      "display_name": "Python 3",
      "language": "python",
      "name": "python3"
    },
    "kernelspec": {
      "display_name": "Python 3",
      "language": "python",
      "name": "python3"
    },
    "language_info": {
      "codemirror_mode": {
        "name": "ipython",
        "version": 3
      },
      "file_extension": ".py",
      "mimetype": "text/x-python",
      "name": "python",
      "nbconvert_exporter": "python",
      "pygments_lexer": "ipython3",
      "version": "3.7.10"
    },
    "widgets": {
      "application/vnd.jupyter.widget-state+json": {
        "bf9ee428f0294cd6a3593977914fce82": {
          "model_module": "@jupyter-widgets/controls",
          "model_name": "TabModel",
          "state": {
            "_view_name": "TabView",
            "_dom_classes": [],
            "_titles": {
              "0": "Youtube",
              "1": "Bilibili"
            },
            "_model_name": "TabModel",
            "_view_module": "@jupyter-widgets/controls",
            "selected_index": 0,
            "_model_module_version": "1.5.0",
            "_view_count": null,
            "_view_module_version": "1.5.0",
            "box_style": "",
            "layout": "IPY_MODEL_09fee297d4e148049d02d16175ab6395",
            "_model_module": "@jupyter-widgets/controls",
            "children": [
              "IPY_MODEL_f64d78dd479b4114837e9775612fe578",
              "IPY_MODEL_cc2d12b5eb644a93a8d05d51402e5547"
            ]
          }
        },
        "09fee297d4e148049d02d16175ab6395": {
          "model_module": "@jupyter-widgets/base",
          "model_name": "LayoutModel",
          "state": {
            "_view_name": "LayoutView",
            "grid_template_rows": null,
            "right": null,
            "justify_content": null,
            "_view_module": "@jupyter-widgets/base",
            "overflow": null,
            "_model_module_version": "1.2.0",
            "_view_count": null,
            "flex_flow": null,
            "width": null,
            "min_width": null,
            "border": null,
            "align_items": null,
            "bottom": null,
            "_model_module": "@jupyter-widgets/base",
            "top": null,
            "grid_column": null,
            "overflow_y": null,
            "overflow_x": null,
            "grid_auto_flow": null,
            "grid_area": null,
            "grid_template_columns": null,
            "flex": null,
            "_model_name": "LayoutModel",
            "justify_items": null,
            "grid_row": null,
            "max_height": null,
            "align_content": null,
            "visibility": null,
            "align_self": null,
            "height": null,
            "min_height": null,
            "padding": null,
            "grid_auto_rows": null,
            "grid_gap": null,
            "max_width": null,
            "order": null,
            "_view_module_version": "1.2.0",
            "grid_template_areas": null,
            "object_position": null,
            "object_fit": null,
            "grid_auto_columns": null,
            "margin": null,
            "display": null,
            "left": null
          }
        },
        "f64d78dd479b4114837e9775612fe578": {
          "model_module": "@jupyter-widgets/output",
          "model_name": "OutputModel",
          "state": {
            "_view_name": "OutputView",
            "msg_id": "",
            "_dom_classes": [],
            "_model_name": "OutputModel",
            "outputs": [
              {
                "output_type": "stream",
                "metadata": {
                  "tags": []
                },
                "text": "Video available at https://youtube.com/watch?v=vgX4l7U8bsg\n",
                "stream": "stdout"
              },
              {
                "output_type": "display_data",
                "metadata": {
                  "tags": []
                },
                "text/html": "\n        <iframe\n            width=\"854\"\n            height=\"480\"\n            src=\"https://www.youtube.com/embed/vgX4l7U8bsg?fs=1&rel=0\"\n            frameborder=\"0\"\n            allowfullscreen\n        ></iframe>\n        ",
                "text/plain": "<IPython.lib.display.YouTubeVideo at 0x7f3cbea68d90>",
                "image/jpeg": "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\n"
              }
            ],
            "_view_module": "@jupyter-widgets/output",
            "_model_module_version": "1.0.0",
            "_view_count": null,
            "_view_module_version": "1.0.0",
            "layout": "IPY_MODEL_7f04f0c764814938b4032bac982c640c",
            "_model_module": "@jupyter-widgets/output"
          }
        },
        "cc2d12b5eb644a93a8d05d51402e5547": {
          "model_module": "@jupyter-widgets/output",
          "model_name": "OutputModel",
          "state": {
            "_view_name": "OutputView",
            "msg_id": "",
            "_dom_classes": [],
            "_model_name": "OutputModel",
            "outputs": [
              {
                "output_type": "stream",
                "metadata": {
                  "tags": []
                },
                "text": "Video available at https://www.bilibili.com/video/BV1MB4y1T76U\n",
                "stream": "stdout"
              },
              {
                "output_type": "display_data",
                "metadata": {
                  "tags": []
                },
                "text/html": "\n        <iframe\n            width=\"854\"\n            height=\"480\"\n            src=\"https://player.bilibili.com/player.html?bvid=BV1MB4y1T76U&page=1?fs=1\"\n            frameborder=\"0\"\n            allowfullscreen\n        ></iframe>\n        ",
                "text/plain": "<__main__.BiliVideo at 0x7f3cc24f3690>"
              }
            ],
            "_view_module": "@jupyter-widgets/output",
            "_model_module_version": "1.0.0",
            "_view_count": null,
            "_view_module_version": "1.0.0",
            "layout": "IPY_MODEL_245003ce2f48493aa7ca500f3224892b",
            "_model_module": "@jupyter-widgets/output"
          }
        },
        "7f04f0c764814938b4032bac982c640c": {
          "model_module": "@jupyter-widgets/base",
          "model_name": "LayoutModel",
          "state": {
            "_view_name": "LayoutView",
            "grid_template_rows": null,
            "right": null,
            "justify_content": null,
            "_view_module": "@jupyter-widgets/base",
            "overflow": null,
            "_model_module_version": "1.2.0",
            "_view_count": null,
            "flex_flow": null,
            "width": null,
            "min_width": null,
            "border": null,
            "align_items": null,
            "bottom": null,
            "_model_module": "@jupyter-widgets/base",
            "top": null,
            "grid_column": null,
            "overflow_y": null,
            "overflow_x": null,
            "grid_auto_flow": null,
            "grid_area": null,
            "grid_template_columns": null,
            "flex": null,
            "_model_name": "LayoutModel",
            "justify_items": null,
            "grid_row": null,
            "max_height": null,
            "align_content": null,
            "visibility": null,
            "align_self": null,
            "height": null,
            "min_height": null,
            "padding": null,
            "grid_auto_rows": null,
            "grid_gap": null,
            "max_width": null,
            "order": null,
            "_view_module_version": "1.2.0",
            "grid_template_areas": null,
            "object_position": null,
            "object_fit": null,
            "grid_auto_columns": null,
            "margin": null,
            "display": null,
            "left": null
          }
        },
        "245003ce2f48493aa7ca500f3224892b": {
          "model_module": "@jupyter-widgets/base",
          "model_name": "LayoutModel",
          "state": {
            "_view_name": "LayoutView",
            "grid_template_rows": null,
            "right": null,
            "justify_content": null,
            "_view_module": "@jupyter-widgets/base",
            "overflow": null,
            "_model_module_version": "1.2.0",
            "_view_count": null,
            "flex_flow": null,
            "width": null,
            "min_width": null,
            "border": null,
            "align_items": null,
            "bottom": null,
            "_model_module": "@jupyter-widgets/base",
            "top": null,
            "grid_column": null,
            "overflow_y": null,
            "overflow_x": null,
            "grid_auto_flow": null,
            "grid_area": null,
            "grid_template_columns": null,
            "flex": null,
            "_model_name": "LayoutModel",
            "justify_items": null,
            "grid_row": null,
            "max_height": null,
            "align_content": null,
            "visibility": null,
            "align_self": null,
            "height": null,
            "min_height": null,
            "padding": null,
            "grid_auto_rows": null,
            "grid_gap": null,
            "max_width": null,
            "order": null,
            "_view_module_version": "1.2.0",
            "grid_template_areas": null,
            "object_position": null,
            "object_fit": null,
            "grid_auto_columns": null,
            "margin": null,
            "display": null,
            "left": null
          }
        }
      }
    }
  },
  "cells": [
    {
      "cell_type": "markdown",
      "metadata": {
        "id": "view-in-github",
        "colab_type": "text"
      },
      "source": [
        "<a href=\"https://colab.research.google.com/github/NeuromatchAcademy/course-content/blob/W1D2_bilibili/tutorials/W1D2_ModelingPractice/W1D2_Intro.ipynb\" target=\"_parent\"><img src=\"https://colab.research.google.com/assets/colab-badge.svg\" alt=\"Open In Colab\"/></a>"
      ]
    },
    {
      "cell_type": "markdown",
      "metadata": {
        "pycharm": {
          "name": "#%% md\n"
        },
        "id": "z-jCfVWdGivw"
      },
      "source": [
        "# Intro"
      ]
    },
    {
      "cell_type": "markdown",
      "metadata": {
        "id": "2PRclyDgGivx"
      },
      "source": [
        "**Our 2021 Sponsors, including Presenting Sponsor Facebook Reality Labs**\n",
        "\n",
        "<p align='center'><img src='https://github.com/NeuromatchAcademy/widgets/blob/master/sponsors.png?raw=True'/></p>"
      ]
    },
    {
      "cell_type": "markdown",
      "metadata": {
        "pycharm": {
          "name": "#%% md\n"
        },
        "id": "UuYwF8huGivy"
      },
      "source": [
        "## Overview\n",
        "\n",
        "Yesterday you learned that different models can answer different questions. That means that depending on your question, goals and hypotheses you will need to develop different kinds of models. How to best approach this is the goal of today. We will use this as an opportunity to kick off your group projects at the same time. To do so, we will start walking you through a 10-steps guide of how-to-model. This guide is applicable for both computational modeling and data neuroscience projects and we will discuss similarities and differences between both project types. So today we will start with what you now know determines the choice of modeling or data analysis pipeline you will need to make: how to develop a good question and goal, do the literature review, think about what ingredients you need, and what hypotheses you would like to evaluate.\n",
        "\n",
        "Today’s tutorial focuses on the first 4 steps of how-to-model by demonstrating the thought process based on a simple phenomenon known as the train illusion. We will first introduce the phenomenon and then provide a step-by-step guide on how to think about and develop the 4 first steps of framing your project. To help you, we will roleplay an example thought process, focussing on typical pitfalls that groups often encounter. Groups will then think about their own projects and develop first answers to each step’s questions. Importantly, this is to get you started in a systematic way with your projects; you will have to revisit those steps later on as your thinking evolves, possibly multiple times. We will also provide similar guidance for the remaining 6 steps of the how-to-model guide that you can work through with your group when you’re reaching that stage of your project. The accompanying answers to each step in our demo project and toy example code for our two different projects (model and data analytics) should help you understand the practical side of the process better.\n",
        "\n",
        "How to model is rarely, if ever, taught systematically. Our guide is not the only way to approach modeling; but it’s one way to ensure you don’t miss anything important. Going through all the steps also makes publication much easier because you have already explicitly thought about all the elements that you will ultimately need to communicate (see Step 10 later for our examples). Personally, I often take shortcuts in this process and then regret it later… mostly because I forgot to do the one most important thing: be precise about the framing of the project, i.e. the four first steps you will walk through today. Importantly this will set you up to develop any kind of model using any of the tools you will learn about during the remainder of NMA."
      ]
    },
    {
      "cell_type": "markdown",
      "metadata": {
        "pycharm": {
          "name": "#%% md\n"
        },
        "id": "fwjCy5dGGivz"
      },
      "source": [
        "## Video"
      ]
    },
    {
      "cell_type": "code",
      "metadata": {
        "execution": {
          "iopub.execute_input": "2021-07-04T03:58:07.443748Z",
          "iopub.status.busy": "2021-07-04T03:58:07.439882Z",
          "iopub.status.idle": "2021-07-04T03:58:07.567257Z",
          "shell.execute_reply": "2021-07-04T03:58:07.567736Z"
        },
        "pycharm": {
          "name": "#%%\n"
        },
        "cellView": "form",
        "id": "J_myNkXTGivz",
        "outputId": "178e80e9-77a2-42fd-a58a-ae6d0e0f16f0",
        "colab": {
          "base_uri": "https://localhost:8080/",
          "height": 580,
          "referenced_widgets": [
            "bf9ee428f0294cd6a3593977914fce82",
            "09fee297d4e148049d02d16175ab6395",
            "f64d78dd479b4114837e9775612fe578",
            "cc2d12b5eb644a93a8d05d51402e5547",
            "7f04f0c764814938b4032bac982c640c",
            "245003ce2f48493aa7ca500f3224892b"
          ]
        }
      },
      "source": [
        "# @markdown\n",
        "from ipywidgets import widgets\n",
        "\n",
        "out2 = widgets.Output()\n",
        "with out2:\n",
        "  from IPython.display import IFrame\n",
        "  class BiliVideo(IFrame):\n",
        "      def __init__(self, id, page=1, width=400, height=300, **kwargs):\n",
        "          self.id=id\n",
        "          src = \"https://player.bilibili.com/player.html?bvid={0}&page={1}\".format(id, page)\n",
        "          super(BiliVideo, self).__init__(src, width, height, **kwargs)\n",
        "\n",
        "  video = BiliVideo(id=f\"BV1MB4y1T76U\", width=854, height=480, fs=1)\n",
        "  print(\"Video available at https://www.bilibili.com/video/{0}\".format(video.id))\n",
        "  display(video)\n",
        "\n",
        "out1 = widgets.Output()\n",
        "with out1:\n",
        "  from IPython.display import YouTubeVideo\n",
        "  video = YouTubeVideo(id=f\"vgX4l7U8bsg\", width=854, height=480, fs=1, rel=0)\n",
        "  print(\"Video available at https://youtube.com/watch?v=\" + video.id)\n",
        "  display(video)\n",
        "\n",
        "out = widgets.Tab([out1, out2])\n",
        "out.set_title(0, 'Youtube')\n",
        "out.set_title(1, 'Bilibili')\n",
        "\n",
        "display(out)"
      ],
      "execution_count": 2,
      "outputs": [
        {
          "output_type": "display_data",
          "data": {
            "application/vnd.jupyter.widget-view+json": {
              "model_id": "bf9ee428f0294cd6a3593977914fce82",
              "version_minor": 0,
              "version_major": 2
            },
            "text/plain": [
              "Tab(children=(Output(), Output()), _titles={'0': 'Youtube', '1': 'Bilibili'})"
            ]
          },
          "metadata": {
            "tags": []
          }
        }
      ]
    },
    {
      "cell_type": "markdown",
      "metadata": {
        "pycharm": {
          "name": "#%% md\n"
        },
        "id": "G8OCHn1TGiv0"
      },
      "source": [
        "## Slides"
      ]
    },
    {
      "cell_type": "code",
      "metadata": {
        "cellView": "form",
        "execution": {
          "iopub.execute_input": "2021-07-04T03:58:07.580729Z",
          "iopub.status.busy": "2021-07-04T03:58:07.580188Z",
          "iopub.status.idle": "2021-07-04T03:58:07.582277Z",
          "shell.execute_reply": "2021-07-04T03:58:07.582695Z"
        },
        "pycharm": {
          "name": "#%%\n"
        },
        "id": "nbWDWTAJGiv0"
      },
      "source": [
        "# @markdown\n",
        "from IPython.display import IFrame\n",
        "IFrame(src=f\"https://mfr.ca-1.osf.io/render?url=https://osf.io/kmwus/?direct%26mode=render%26action=download%26mode=render\", width=854, height=480)"
      ],
      "execution_count": null,
      "outputs": []
    }
  ]
}