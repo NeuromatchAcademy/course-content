{
  "nbformat": 4,
  "nbformat_minor": 0,
  "metadata": {
    "colab": {
      "name": "W1D2_Outro",
      "provenance": [],
      "collapsed_sections": [],
      "toc_visible": true,
      "include_colab_link": true
    },
    "kernel": {
      "display_name": "Python 3",
      "language": "python",
      "name": "python3"
    },
    "kernelspec": {
      "display_name": "Python 3",
      "language": "python",
      "name": "python3"
    },
    "language_info": {
      "codemirror_mode": {
        "name": "ipython",
        "version": 3
      },
      "file_extension": ".py",
      "mimetype": "text/x-python",
      "name": "python",
      "nbconvert_exporter": "python",
      "pygments_lexer": "ipython3",
      "version": "3.7.10"
    },
    "widgets": {
      "application/vnd.jupyter.widget-state+json": {
        "ad4eb914932643de8ef04fcb6092dcf2": {
          "model_module": "@jupyter-widgets/controls",
          "model_name": "TabModel",
          "state": {
            "_view_name": "TabView",
            "_dom_classes": [],
            "_titles": {
              "0": "Youtube",
              "1": "Bilibili"
            },
            "_model_name": "TabModel",
            "_view_module": "@jupyter-widgets/controls",
            "selected_index": 0,
            "_model_module_version": "1.5.0",
            "_view_count": null,
            "_view_module_version": "1.5.0",
            "box_style": "",
            "layout": "IPY_MODEL_b1267192b893464fa46e3221b84ccdca",
            "_model_module": "@jupyter-widgets/controls",
            "children": [
              "IPY_MODEL_cdae61eba2b44f20af9e5a856889398b",
              "IPY_MODEL_632bb519472b4159a05f2375c0a4b118"
            ]
          }
        },
        "b1267192b893464fa46e3221b84ccdca": {
          "model_module": "@jupyter-widgets/base",
          "model_name": "LayoutModel",
          "state": {
            "_view_name": "LayoutView",
            "grid_template_rows": null,
            "right": null,
            "justify_content": null,
            "_view_module": "@jupyter-widgets/base",
            "overflow": null,
            "_model_module_version": "1.2.0",
            "_view_count": null,
            "flex_flow": null,
            "width": null,
            "min_width": null,
            "border": null,
            "align_items": null,
            "bottom": null,
            "_model_module": "@jupyter-widgets/base",
            "top": null,
            "grid_column": null,
            "overflow_y": null,
            "overflow_x": null,
            "grid_auto_flow": null,
            "grid_area": null,
            "grid_template_columns": null,
            "flex": null,
            "_model_name": "LayoutModel",
            "justify_items": null,
            "grid_row": null,
            "max_height": null,
            "align_content": null,
            "visibility": null,
            "align_self": null,
            "height": null,
            "min_height": null,
            "padding": null,
            "grid_auto_rows": null,
            "grid_gap": null,
            "max_width": null,
            "order": null,
            "_view_module_version": "1.2.0",
            "grid_template_areas": null,
            "object_position": null,
            "object_fit": null,
            "grid_auto_columns": null,
            "margin": null,
            "display": null,
            "left": null
          }
        },
        "cdae61eba2b44f20af9e5a856889398b": {
          "model_module": "@jupyter-widgets/output",
          "model_name": "OutputModel",
          "state": {
            "_view_name": "OutputView",
            "msg_id": "",
            "_dom_classes": [],
            "_model_name": "OutputModel",
            "outputs": [
              {
                "output_type": "stream",
                "metadata": {
                  "tags": []
                },
                "text": "Video available at https://youtube.com/watch?v=Dle5YHQn83U\n",
                "stream": "stdout"
              },
              {
                "output_type": "display_data",
                "metadata": {
                  "tags": []
                },
                "text/html": "\n        <iframe\n            width=\"854\"\n            height=\"480\"\n            src=\"https://www.youtube.com/embed/Dle5YHQn83U?fs=1&rel=0\"\n            frameborder=\"0\"\n            allowfullscreen\n        ></iframe>\n        ",
                "text/plain": "<IPython.lib.display.YouTubeVideo at 0x7f2e1449eb10>",
                "image/jpeg": "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\n"
              }
            ],
            "_view_module": "@jupyter-widgets/output",
            "_model_module_version": "1.0.0",
            "_view_count": null,
            "_view_module_version": "1.0.0",
            "layout": "IPY_MODEL_29b7bc202a8a468485b3c525435c2ac8",
            "_model_module": "@jupyter-widgets/output"
          }
        },
        "632bb519472b4159a05f2375c0a4b118": {
          "model_module": "@jupyter-widgets/output",
          "model_name": "OutputModel",
          "state": {
            "_view_name": "OutputView",
            "msg_id": "",
            "_dom_classes": [],
            "_model_name": "OutputModel",
            "outputs": [
              {
                "output_type": "stream",
                "metadata": {
                  "tags": []
                },
                "text": "Video available at https://www.bilibili.com/video/BV1ZV411W7rn\n",
                "stream": "stdout"
              },
              {
                "output_type": "display_data",
                "metadata": {
                  "tags": []
                },
                "text/html": "\n        <iframe\n            width=\"854\"\n            height=\"480\"\n            src=\"https://player.bilibili.com/player.html?bvid=BV1ZV411W7rn&page=1?fs=1\"\n            frameborder=\"0\"\n            allowfullscreen\n        ></iframe>\n        ",
                "text/plain": "<__main__.BiliVideo at 0x7f2e14902950>"
              }
            ],
            "_view_module": "@jupyter-widgets/output",
            "_model_module_version": "1.0.0",
            "_view_count": null,
            "_view_module_version": "1.0.0",
            "layout": "IPY_MODEL_6522e782c1c94c29a4779742bc0257c8",
            "_model_module": "@jupyter-widgets/output"
          }
        },
        "29b7bc202a8a468485b3c525435c2ac8": {
          "model_module": "@jupyter-widgets/base",
          "model_name": "LayoutModel",
          "state": {
            "_view_name": "LayoutView",
            "grid_template_rows": null,
            "right": null,
            "justify_content": null,
            "_view_module": "@jupyter-widgets/base",
            "overflow": null,
            "_model_module_version": "1.2.0",
            "_view_count": null,
            "flex_flow": null,
            "width": null,
            "min_width": null,
            "border": null,
            "align_items": null,
            "bottom": null,
            "_model_module": "@jupyter-widgets/base",
            "top": null,
            "grid_column": null,
            "overflow_y": null,
            "overflow_x": null,
            "grid_auto_flow": null,
            "grid_area": null,
            "grid_template_columns": null,
            "flex": null,
            "_model_name": "LayoutModel",
            "justify_items": null,
            "grid_row": null,
            "max_height": null,
            "align_content": null,
            "visibility": null,
            "align_self": null,
            "height": null,
            "min_height": null,
            "padding": null,
            "grid_auto_rows": null,
            "grid_gap": null,
            "max_width": null,
            "order": null,
            "_view_module_version": "1.2.0",
            "grid_template_areas": null,
            "object_position": null,
            "object_fit": null,
            "grid_auto_columns": null,
            "margin": null,
            "display": null,
            "left": null
          }
        },
        "6522e782c1c94c29a4779742bc0257c8": {
          "model_module": "@jupyter-widgets/base",
          "model_name": "LayoutModel",
          "state": {
            "_view_name": "LayoutView",
            "grid_template_rows": null,
            "right": null,
            "justify_content": null,
            "_view_module": "@jupyter-widgets/base",
            "overflow": null,
            "_model_module_version": "1.2.0",
            "_view_count": null,
            "flex_flow": null,
            "width": null,
            "min_width": null,
            "border": null,
            "align_items": null,
            "bottom": null,
            "_model_module": "@jupyter-widgets/base",
            "top": null,
            "grid_column": null,
            "overflow_y": null,
            "overflow_x": null,
            "grid_auto_flow": null,
            "grid_area": null,
            "grid_template_columns": null,
            "flex": null,
            "_model_name": "LayoutModel",
            "justify_items": null,
            "grid_row": null,
            "max_height": null,
            "align_content": null,
            "visibility": null,
            "align_self": null,
            "height": null,
            "min_height": null,
            "padding": null,
            "grid_auto_rows": null,
            "grid_gap": null,
            "max_width": null,
            "order": null,
            "_view_module_version": "1.2.0",
            "grid_template_areas": null,
            "object_position": null,
            "object_fit": null,
            "grid_auto_columns": null,
            "margin": null,
            "display": null,
            "left": null
          }
        }
      }
    }
  },
  "cells": [
    {
      "cell_type": "markdown",
      "metadata": {
        "id": "view-in-github",
        "colab_type": "text"
      },
      "source": [
        "<a href=\"https://colab.research.google.com/github/NeuromatchAcademy/course-content/blob/W1D2_bilibili/tutorials/W1D2_ModelingPractice/W1D2_Outro.ipynb\" target=\"_parent\"><img src=\"https://colab.research.google.com/assets/colab-badge.svg\" alt=\"Open In Colab\"/></a>"
      ]
    },
    {
      "cell_type": "markdown",
      "metadata": {
        "pycharm": {
          "name": "#%% md\n"
        },
        "id": "-N1q-l5eL8GO"
      },
      "source": [
        "# Outro\n"
      ]
    },
    {
      "cell_type": "markdown",
      "metadata": {
        "id": "omkSZK4zL8GR"
      },
      "source": [
        "**Our 2021 Sponsors, including Presenting Sponsor Facebook Reality Labs**\n",
        "\n",
        "<p align='center'><img src='https://github.com/NeuromatchAcademy/widgets/blob/master/sponsors.png?raw=True'/></p>"
      ]
    },
    {
      "cell_type": "markdown",
      "metadata": {
        "pycharm": {
          "name": "#%% md\n"
        },
        "id": "DpCkzg-WL8GR"
      },
      "source": [
        "## Video"
      ]
    },
    {
      "cell_type": "code",
      "metadata": {
        "execution": {
          "iopub.execute_input": "2021-07-04T23:17:35.271096Z",
          "iopub.status.busy": "2021-07-04T23:17:35.270570Z",
          "iopub.status.idle": "2021-07-04T23:17:35.381957Z",
          "shell.execute_reply": "2021-07-04T23:17:35.379706Z"
        },
        "pycharm": {
          "name": "#%%\n"
        },
        "cellView": "form",
        "id": "mi7QQU8uL8GR",
        "outputId": "bf3f1c40-08d2-4d60-a3c9-1c41d899c6cc",
        "colab": {
          "base_uri": "https://localhost:8080/",
          "height": 580,
          "referenced_widgets": [
            "ad4eb914932643de8ef04fcb6092dcf2",
            "b1267192b893464fa46e3221b84ccdca",
            "cdae61eba2b44f20af9e5a856889398b",
            "632bb519472b4159a05f2375c0a4b118",
            "29b7bc202a8a468485b3c525435c2ac8",
            "6522e782c1c94c29a4779742bc0257c8"
          ]
        }
      },
      "source": [
        "# @markdown\n",
        "from ipywidgets import widgets\n",
        "\n",
        "out2 = widgets.Output()\n",
        "with out2:\n",
        "  from IPython.display import IFrame\n",
        "  class BiliVideo(IFrame):\n",
        "      def __init__(self, id, page=1, width=400, height=300, **kwargs):\n",
        "          self.id=id\n",
        "          src = \"https://player.bilibili.com/player.html?bvid={0}&page={1}\".format(id, page)\n",
        "          super(BiliVideo, self).__init__(src, width, height, **kwargs)\n",
        "\n",
        "  video = BiliVideo(id=f\"BV1ZV411W7rn\", width=854, height=480, fs=1)\n",
        "  print(\"Video available at https://www.bilibili.com/video/{0}\".format(video.id))\n",
        "  display(video)\n",
        "\n",
        "out1 = widgets.Output()\n",
        "with out1:\n",
        "  from IPython.display import YouTubeVideo\n",
        "  video = YouTubeVideo(id=f\"Dle5YHQn83U\", width=854, height=480, fs=1, rel=0)\n",
        "  print(\"Video available at https://youtube.com/watch?v=\" + video.id)\n",
        "  display(video)\n",
        "\n",
        "out = widgets.Tab([out1, out2])\n",
        "out.set_title(0, 'Youtube')\n",
        "out.set_title(1, 'Bilibili')\n",
        "\n",
        "display(out)"
      ],
      "execution_count": 2,
      "outputs": [
        {
          "output_type": "display_data",
          "data": {
            "application/vnd.jupyter.widget-view+json": {
              "model_id": "ad4eb914932643de8ef04fcb6092dcf2",
              "version_minor": 0,
              "version_major": 2
            },
            "text/plain": [
              "Tab(children=(Output(), Output()), _titles={'0': 'Youtube', '1': 'Bilibili'})"
            ]
          },
          "metadata": {
            "tags": []
          }
        }
      ]
    },
    {
      "cell_type": "markdown",
      "metadata": {
        "id": "u67AF1P7L8GS"
      },
      "source": [
        "## Daily survey\n",
        "\n",
        "Don't forget to complete your reflections and content check in the daily survey! Please be patient after logging in as there is\n",
        "a small delay before you will be redirected to the survey.\n",
        "\n",
        "<a href=\"https://portal.neuromatchacademy.org/api/redirect/to/f9bba81e-260d-4aed-9600-8e68c67573d8\"><img src=\"https://github.com/NeuromatchAcademy/course-content/blob/master/tutorials/static/button.png?raw=1\" alt=\"button link to survey\" style=\"width:410px\"></a>"
      ]
    },
    {
      "cell_type": "markdown",
      "metadata": {
        "pycharm": {
          "name": "#%% md\n"
        },
        "id": "Qrwoa2CWL8GS"
      },
      "source": [
        "## Slides"
      ]
    },
    {
      "cell_type": "code",
      "metadata": {
        "cellView": "form",
        "execution": {
          "iopub.execute_input": "2021-07-04T23:17:35.389244Z",
          "iopub.status.busy": "2021-07-04T23:17:35.388788Z",
          "iopub.status.idle": "2021-07-04T23:17:35.391042Z",
          "shell.execute_reply": "2021-07-04T23:17:35.391402Z"
        },
        "pycharm": {
          "name": "#%%\n"
        },
        "id": "Pxar7rpaL8GS"
      },
      "source": [
        "# @markdown\n",
        "from IPython.display import IFrame\n",
        "IFrame(src=f\"https://mfr.ca-1.osf.io/render?url=https://osf.io/agrp6/?direct%26mode=render%26action=download%26mode=render\", width=854, height=480)"
      ],
      "execution_count": null,
      "outputs": []
    }
  ]
}