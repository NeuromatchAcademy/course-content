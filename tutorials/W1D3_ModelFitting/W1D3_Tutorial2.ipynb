{
  "nbformat": 4,
  "nbformat_minor": 0,
  "metadata": {
    "celltoolbar": "Slideshow",
    "colab": {
      "name": "W1D3_Tutorial2",
      "provenance": [],
      "collapsed_sections": [],
      "toc_visible": true,
      "include_colab_link": true
    },
    "kernel": {
      "display_name": "Python 3",
      "language": "python",
      "name": "python3"
    },
    "kernelspec": {
      "display_name": "Python 3",
      "language": "python",
      "name": "python3"
    },
    "language_info": {
      "codemirror_mode": {
        "name": "ipython",
        "version": 3
      },
      "file_extension": ".py",
      "mimetype": "text/x-python",
      "name": "python",
      "nbconvert_exporter": "python",
      "pygments_lexer": "ipython3",
      "version": "3.7.10"
    },
    "widgets": {
      "application/vnd.jupyter.widget-state+json": {
        "5d46014565bc4b15947d0fa91640e0c0": {
          "model_module": "@jupyter-widgets/controls",
          "model_name": "TabModel",
          "state": {
            "_view_name": "TabView",
            "_dom_classes": [],
            "_titles": {
              "0": "Youtube",
              "1": "Bilibili"
            },
            "_model_name": "TabModel",
            "_view_module": "@jupyter-widgets/controls",
            "selected_index": 0,
            "_model_module_version": "1.5.0",
            "_view_count": null,
            "_view_module_version": "1.5.0",
            "box_style": "",
            "layout": "IPY_MODEL_2a0fe56361ea411eb3b5479bd29619aa",
            "_model_module": "@jupyter-widgets/controls",
            "children": [
              "IPY_MODEL_5d532b1f74a14f90858dc52a020bedfb",
              "IPY_MODEL_b172e57171dd4cad95888953aaf107b9"
            ]
          }
        },
        "2a0fe56361ea411eb3b5479bd29619aa": {
          "model_module": "@jupyter-widgets/base",
          "model_name": "LayoutModel",
          "state": {
            "_view_name": "LayoutView",
            "grid_template_rows": null,
            "right": null,
            "justify_content": null,
            "_view_module": "@jupyter-widgets/base",
            "overflow": null,
            "_model_module_version": "1.2.0",
            "_view_count": null,
            "flex_flow": null,
            "width": null,
            "min_width": null,
            "border": null,
            "align_items": null,
            "bottom": null,
            "_model_module": "@jupyter-widgets/base",
            "top": null,
            "grid_column": null,
            "overflow_y": null,
            "overflow_x": null,
            "grid_auto_flow": null,
            "grid_area": null,
            "grid_template_columns": null,
            "flex": null,
            "_model_name": "LayoutModel",
            "justify_items": null,
            "grid_row": null,
            "max_height": null,
            "align_content": null,
            "visibility": null,
            "align_self": null,
            "height": null,
            "min_height": null,
            "padding": null,
            "grid_auto_rows": null,
            "grid_gap": null,
            "max_width": null,
            "order": null,
            "_view_module_version": "1.2.0",
            "grid_template_areas": null,
            "object_position": null,
            "object_fit": null,
            "grid_auto_columns": null,
            "margin": null,
            "display": null,
            "left": null
          }
        },
        "5d532b1f74a14f90858dc52a020bedfb": {
          "model_module": "@jupyter-widgets/output",
          "model_name": "OutputModel",
          "state": {
            "_view_name": "OutputView",
            "msg_id": "",
            "_dom_classes": [],
            "_model_name": "OutputModel",
            "outputs": [
              {
                "output_type": "stream",
                "metadata": {
                  "tags": []
                },
                "text": "Video available at https://youtube.com/watch?v=8mpNmzLKNfU\n",
                "stream": "stdout"
              },
              {
                "output_type": "display_data",
                "metadata": {
                  "tags": []
                },
                "text/html": "\n        <iframe\n            width=\"854\"\n            height=\"480\"\n            src=\"https://www.youtube.com/embed/8mpNmzLKNfU?fs=1&rel=0\"\n            frameborder=\"0\"\n            allowfullscreen\n        ></iframe>\n        ",
                "text/plain": "<IPython.lib.display.YouTubeVideo at 0x7f035a260b50>",
                "image/jpeg": "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\n"
              }
            ],
            "_view_module": "@jupyter-widgets/output",
            "_model_module_version": "1.0.0",
            "_view_count": null,
            "_view_module_version": "1.0.0",
            "layout": "IPY_MODEL_c80675bcb586434495ea77bfb85f464b",
            "_model_module": "@jupyter-widgets/output"
          }
        },
        "b172e57171dd4cad95888953aaf107b9": {
          "model_module": "@jupyter-widgets/output",
          "model_name": "OutputModel",
          "state": {
            "_view_name": "OutputView",
            "msg_id": "",
            "_dom_classes": [],
            "_model_name": "OutputModel",
            "outputs": [
              {
                "output_type": "stream",
                "metadata": {
                  "tags": []
                },
                "text": "Video available at https://www.bilibili.com/video/BV1Mg4y1i7WH\n",
                "stream": "stdout"
              },
              {
                "output_type": "display_data",
                "metadata": {
                  "tags": []
                },
                "text/html": "\n        <iframe\n            width=\"854\"\n            height=\"480\"\n            src=\"https://player.bilibili.com/player.html?bvid=BV1Mg4y1i7WH&page=1?fs=1\"\n            frameborder=\"0\"\n            allowfullscreen\n        ></iframe>\n        ",
                "text/plain": "<__main__.BiliVideo at 0x7f0358129f50>"
              }
            ],
            "_view_module": "@jupyter-widgets/output",
            "_model_module_version": "1.0.0",
            "_view_count": null,
            "_view_module_version": "1.0.0",
            "layout": "IPY_MODEL_686609b7a9664cb18a1444ce49201e9f",
            "_model_module": "@jupyter-widgets/output"
          }
        },
        "c80675bcb586434495ea77bfb85f464b": {
          "model_module": "@jupyter-widgets/base",
          "model_name": "LayoutModel",
          "state": {
            "_view_name": "LayoutView",
            "grid_template_rows": null,
            "right": null,
            "justify_content": null,
            "_view_module": "@jupyter-widgets/base",
            "overflow": null,
            "_model_module_version": "1.2.0",
            "_view_count": null,
            "flex_flow": null,
            "width": null,
            "min_width": null,
            "border": null,
            "align_items": null,
            "bottom": null,
            "_model_module": "@jupyter-widgets/base",
            "top": null,
            "grid_column": null,
            "overflow_y": null,
            "overflow_x": null,
            "grid_auto_flow": null,
            "grid_area": null,
            "grid_template_columns": null,
            "flex": null,
            "_model_name": "LayoutModel",
            "justify_items": null,
            "grid_row": null,
            "max_height": null,
            "align_content": null,
            "visibility": null,
            "align_self": null,
            "height": null,
            "min_height": null,
            "padding": null,
            "grid_auto_rows": null,
            "grid_gap": null,
            "max_width": null,
            "order": null,
            "_view_module_version": "1.2.0",
            "grid_template_areas": null,
            "object_position": null,
            "object_fit": null,
            "grid_auto_columns": null,
            "margin": null,
            "display": null,
            "left": null
          }
        },
        "686609b7a9664cb18a1444ce49201e9f": {
          "model_module": "@jupyter-widgets/base",
          "model_name": "LayoutModel",
          "state": {
            "_view_name": "LayoutView",
            "grid_template_rows": null,
            "right": null,
            "justify_content": null,
            "_view_module": "@jupyter-widgets/base",
            "overflow": null,
            "_model_module_version": "1.2.0",
            "_view_count": null,
            "flex_flow": null,
            "width": null,
            "min_width": null,
            "border": null,
            "align_items": null,
            "bottom": null,
            "_model_module": "@jupyter-widgets/base",
            "top": null,
            "grid_column": null,
            "overflow_y": null,
            "overflow_x": null,
            "grid_auto_flow": null,
            "grid_area": null,
            "grid_template_columns": null,
            "flex": null,
            "_model_name": "LayoutModel",
            "justify_items": null,
            "grid_row": null,
            "max_height": null,
            "align_content": null,
            "visibility": null,
            "align_self": null,
            "height": null,
            "min_height": null,
            "padding": null,
            "grid_auto_rows": null,
            "grid_gap": null,
            "max_width": null,
            "order": null,
            "_view_module_version": "1.2.0",
            "grid_template_areas": null,
            "object_position": null,
            "object_fit": null,
            "grid_auto_columns": null,
            "margin": null,
            "display": null,
            "left": null
          }
        }
      }
    }
  },
  "cells": [
    {
      "cell_type": "markdown",
      "metadata": {
        "id": "view-in-github",
        "colab_type": "text"
      },
      "source": [
        "<a href=\"https://colab.research.google.com/github/NeuromatchAcademy/course-content/blob/W1D3_updates/tutorials/W1D3_ModelFitting/W1D3_Tutorial2.ipynb\" target=\"_parent\"><img src=\"https://colab.research.google.com/assets/colab-badge.svg\" alt=\"Open In Colab\"/></a>"
      ]
    },
    {
      "cell_type": "markdown",
      "metadata": {
        "id": "AsWXi03YS0m1"
      },
      "source": [
        "# Tutorial 2: Linear regression with MLE\n",
        "**Week 1, Day 3: Model Fitting**\n",
        "\n",
        "**By Neuromatch Academy**\n",
        "\n",
        "**Content creators**: Pierre-Étienne Fiquet, Anqi Wu, Alex Hyafil  with help from Byron Galbraith\n",
        "\n",
        "**Content reviewers**: Lina Teichmann, Madineh Sarvestani, Patrick Mineault, Ella Batty, Michael Waskom\n"
      ]
    },
    {
      "cell_type": "markdown",
      "metadata": {
        "id": "DvwJ5151S0m3"
      },
      "source": [
        "**Our 2021 Sponsors, including Presenting Sponsor Facebook Reality Labs**\n",
        "\n",
        "<p align='center'><img src='https://github.com/NeuromatchAcademy/widgets/blob/master/sponsors.png?raw=True'/></p>"
      ]
    },
    {
      "cell_type": "markdown",
      "metadata": {
        "id": "xqoFVaYzS0m3"
      },
      "source": [
        "---\n",
        "# Tutorial Objectives\n",
        "\n",
        "*Estimated timing of tutorial: 30 minutes*\n",
        "\n",
        "This is Tutorial 2 of a series on fitting models to data. We start with simple linear regression, using least squares optimization (Tutorial 1) and Maximum Likelihood Estimation (Tutorial 2). We will use bootstrapping to build confidence intervals around the inferred linear model parameters (Tutorial 3). We'll finish our exploration of regression models by generalizing to multiple linear regression and polynomial regression (Tutorial 4). We end by learning how to choose between these various models. We discuss the bias-variance trade-off (Tutorial 5) and Cross Validation for model selection (Tutorial 6).\n",
        "\n",
        "In this tutorial, we will use a different approach to fit linear models that incorporates the random 'noise' in our data.\n",
        "- Learn about probability distributions and probabilistic models\n",
        "- Learn how to calculate the likelihood of our model parameters\n",
        "- Learn how to implement the maximum likelihood estimator, to find the model parameter with the maximum likelihood\n",
        "\n"
      ]
    },
    {
      "cell_type": "code",
      "metadata": {
        "cellView": "form",
        "id": "N7WFq9bpTBdp"
      },
      "source": [
        "# @title Tutorial slides\n",
        "\n",
        "# @markdown These are the slides for the videos in all tutorials today\n",
        "from IPython.display import IFrame\n",
        "IFrame(src=f\"https://mfr.ca-1.osf.io/render?url=https://osf.io/2mkq4/?direct%26mode=render%26action=download%26mode=render\", width=854, height=480)"
      ],
      "execution_count": null,
      "outputs": []
    },
    {
      "cell_type": "markdown",
      "metadata": {
        "id": "ImeOslzTS0m4"
      },
      "source": [
        "---\n",
        "# Setup"
      ]
    },
    {
      "cell_type": "code",
      "metadata": {
        "execution": {
          "iopub.execute_input": "2021-06-25T15:07:58.680983Z",
          "iopub.status.busy": "2021-06-25T15:07:58.680455Z",
          "iopub.status.idle": "2021-06-25T15:07:59.226255Z",
          "shell.execute_reply": "2021-06-25T15:07:59.225314Z"
        },
        "id": "7qXeKmupS0m4"
      },
      "source": [
        "import numpy as np\n",
        "import matplotlib.pyplot as plt\n",
        "from scipy import stats"
      ],
      "execution_count": null,
      "outputs": []
    },
    {
      "cell_type": "code",
      "metadata": {
        "cellView": "form",
        "execution": {
          "iopub.execute_input": "2021-06-25T15:07:59.232867Z",
          "iopub.status.busy": "2021-06-25T15:07:59.230264Z",
          "iopub.status.idle": "2021-06-25T15:07:59.312895Z",
          "shell.execute_reply": "2021-06-25T15:07:59.312296Z"
        },
        "id": "xKNAJmp7S0m5"
      },
      "source": [
        "#@title Figure Settings\n",
        "import ipywidgets as widgets       # interactive display\n",
        "%config InlineBackend.figure_format = 'retina'\n",
        "plt.style.use(\"https://raw.githubusercontent.com/NeuromatchAcademy/course-content/master/nma.mplstyle\")"
      ],
      "execution_count": null,
      "outputs": []
    },
    {
      "cell_type": "code",
      "metadata": {
        "execution": {
          "iopub.execute_input": "2021-06-25T15:07:59.321784Z",
          "iopub.status.busy": "2021-06-25T15:07:59.321245Z",
          "iopub.status.idle": "2021-06-25T15:07:59.324857Z",
          "shell.execute_reply": "2021-06-25T15:07:59.324400Z"
        },
        "id": "W9QGNiYtS0m5",
        "cellView": "form"
      },
      "source": [
        "# @title Plotting Functions\n",
        "def plot_density_image(x, y, theta, sigma=1, ax=None):\n",
        "  \"\"\" Plots probability distribution of y given x, theta, and sigma\n",
        "\n",
        "  Args:\n",
        "\n",
        "    x (ndarray): An array of shape (samples,) that contains the input values.\n",
        "    y (ndarray): An array of shape (samples,) that contains the corresponding\n",
        "      measurement values to the inputs.\n",
        "    theta (float): Slope parameter\n",
        "    sigma (float): standard deviation of Gaussian noise\n",
        "\n",
        "  \"\"\"\n",
        "\n",
        "  # plot the probability density of p(y|x,theta)\n",
        "  if ax is None:\n",
        "    fig, ax = plt.subplots()\n",
        "\n",
        "  xmin, xmax = np.floor(np.min(x)), np.ceil(np.max(x))\n",
        "  ymin, ymax = np.floor(np.min(y)), np.ceil(np.max(y))\n",
        "  xx = np.linspace(xmin, xmax, 50)\n",
        "  yy = np.linspace(ymin, ymax, 50)\n",
        "\n",
        "  surface = np.zeros((len(yy), len(xx)))\n",
        "  for i, x_i in enumerate(xx):\n",
        "    surface[:, i] = stats.norm(theta * x_i, sigma).pdf(yy)\n",
        "\n",
        "  ax.set(xlabel='x', ylabel='y')\n",
        "\n",
        "  return ax.imshow(surface, origin='lower', aspect='auto', vmin=0, vmax=None,\n",
        "            cmap=plt.get_cmap('Wistia'),\n",
        "            extent=[xmin, xmax, ymin, ymax])\n"
      ],
      "execution_count": null,
      "outputs": []
    },
    {
      "cell_type": "markdown",
      "metadata": {
        "id": "kFmhEIWES0m6"
      },
      "source": [
        "---\n",
        "# Section 1: Maximum Likelihood Estimation (MLE)\n"
      ]
    },
    {
      "cell_type": "code",
      "metadata": {
        "cellView": "form",
        "execution": {
          "iopub.execute_input": "2021-06-25T15:07:59.336494Z",
          "iopub.status.busy": "2021-06-25T15:07:59.335966Z",
          "iopub.status.idle": "2021-06-25T15:07:59.406824Z",
          "shell.execute_reply": "2021-06-25T15:07:59.403416Z"
        },
        "id": "Ce-U5SBgS0m6",
        "colab": {
          "base_uri": "https://localhost:8080/",
          "height": 580,
          "referenced_widgets": [
            "5d46014565bc4b15947d0fa91640e0c0",
            "2a0fe56361ea411eb3b5479bd29619aa",
            "5d532b1f74a14f90858dc52a020bedfb",
            "b172e57171dd4cad95888953aaf107b9",
            "c80675bcb586434495ea77bfb85f464b",
            "686609b7a9664cb18a1444ce49201e9f"
          ]
        },
        "outputId": "1510575d-f886-43b7-b99d-8a808ec243dd"
      },
      "source": [
        "# @title Video 1: Maximum Likelihood Estimation\n",
        "from ipywidgets import widgets\n",
        "\n",
        "out2 = widgets.Output()\n",
        "with out2:\n",
        "  from IPython.display import IFrame\n",
        "  class BiliVideo(IFrame):\n",
        "      def __init__(self, id, page=1, width=400, height=300, **kwargs):\n",
        "          self.id=id\n",
        "          src = 'https://player.bilibili.com/player.html?bvid={0}&page={1}'.format(id, page)\n",
        "          super(BiliVideo, self).__init__(src, width, height, **kwargs)\n",
        "\n",
        "  video = BiliVideo(id=\"BV1Mg4y1i7WH\", width=854, height=480, fs=1)\n",
        "  print('Video available at https://www.bilibili.com/video/{0}'.format(video.id))\n",
        "  display(video)\n",
        "\n",
        "out1 = widgets.Output()\n",
        "with out1:\n",
        "  from IPython.display import YouTubeVideo\n",
        "  video = YouTubeVideo(id=\"8mpNmzLKNfU\", width=854, height=480, fs=1, rel=0)\n",
        "  print('Video available at https://youtube.com/watch?v=' + video.id)\n",
        "  display(video)\n",
        "\n",
        "out = widgets.Tab([out1, out2])\n",
        "out.set_title(0, 'Youtube')\n",
        "out.set_title(1, 'Bilibili')\n",
        "\n",
        "display(out)"
      ],
      "execution_count": 1,
      "outputs": [
        {
          "output_type": "display_data",
          "data": {
            "application/vnd.jupyter.widget-view+json": {
              "model_id": "5d46014565bc4b15947d0fa91640e0c0",
              "version_minor": 0,
              "version_major": 2
            },
            "text/plain": [
              "Tab(children=(Output(), Output()), _titles={'0': 'Youtube', '1': 'Bilibili'})"
            ]
          },
          "metadata": {
            "tags": []
          }
        }
      ]
    },
    {
      "cell_type": "markdown",
      "metadata": {
        "id": "uEaSAS8OT_KI"
      },
      "source": [
        "This video covers Maximum Likelihood Estimation (MLE) in the context of a 1D linear regression.\n"
      ]
    },
    {
      "cell_type": "markdown",
      "metadata": {
        "id": "jDAOUQeeT7Wq"
      },
      "source": [
        "## Section 1.1: Gaussian noise"
      ]
    },
    {
      "cell_type": "markdown",
      "metadata": {
        "id": "DVGG3gmaS0m6"
      },
      "source": [
        "\n",
        "<details>\n",
        "<summary> <font color='blue'>Click here for text recap of relevant part of video </font></summary>\n",
        "\n",
        "In the previous tutorial we made the assumption that the data was drawn from a linear relationship with noise added, and found an effective approach for estimating model parameters based on minimizing the mean squared error.\n",
        "\n",
        "In that case we treated the noise as simply a nuisance, but what if we factored it directly into our model?\n",
        "\n",
        "Recall our linear model:\n",
        "\n",
        "\\begin{align}\n",
        "y = \\theta x + \\epsilon.\n",
        "\\end{align}\n",
        "\n",
        "The noise component $\\epsilon$ is often modeled as a random variable drawn from a Gaussian distribution (also called the normal distribution).\n",
        "\n",
        "The Gaussian distribution is described by its [probability density function](https://en.wikipedia.org/wiki/Probability_density_function) (pdf)\n",
        "\\begin{align}\n",
        "\\mathcal{N}(x; \\mu, \\sigma^2) = \\frac{1}{\\sqrt{2\\pi\\sigma^2}}e^{-\\frac{1}{2\\sigma^2}(x-\\mu)^2}\n",
        "\\end{align}\n",
        "\n",
        "and is dependent on two parameters: the mean $\\mu$ and the variance $\\sigma^2$. We often consider the noise signal to be Gaussian \"white noise\", with zero mean and unit variance:\n",
        "\n",
        "\\begin{align}\n",
        "\\epsilon \\sim \\mathcal{N}(0, 1).\n",
        "\\end{align}\n",
        "\n"
      ]
    },
    {
      "cell_type": "markdown",
      "metadata": {
        "id": "4AB0T623S0m7"
      },
      "source": [
        "### Interactive Demo 1.1: Gaussian Distribution Explorer\n",
        "\n",
        "Use the explorer widget below to see how varying the $\\mu$ and $\\sigma$ parameters change the location and shape of the samples.\n",
        "\n",
        "\n",
        "1.   What effect does varying $\\mu$ have on the pdf?\n",
        "2.   What effect does varying $\\sigma$ have on the pdf?\n",
        "\n"
      ]
    },
    {
      "cell_type": "code",
      "metadata": {
        "execution": {
          "iopub.execute_input": "2021-06-25T15:07:59.441504Z",
          "iopub.status.busy": "2021-06-25T15:07:59.440945Z",
          "iopub.status.idle": "2021-06-25T15:07:59.814903Z",
          "shell.execute_reply": "2021-06-25T15:07:59.812521Z"
        },
        "id": "XORPshmNS0m7",
        "cellView": "form"
      },
      "source": [
        "# @markdown Make sure you execute this cell to enable the widget!\n",
        "\n",
        "@widgets.interact(mu=widgets.FloatSlider(0.0, min=-2.0, max=2.0),\n",
        "                  sigma=widgets.FloatSlider(1.0, min=0.5, max=2.0))\n",
        "def plot_normal_dist(mu=0, sigma=1):\n",
        "\n",
        "  # Generate pdf & samples from normal distribution with mu/sigma\n",
        "  rv = stats.norm(mu, sigma)\n",
        "  x = np.linspace(-5, 5, 100)\n",
        "  y = rv.pdf(x)\n",
        "  samples = rv.rvs(1000)\n",
        "\n",
        "  # Plot\n",
        "  fig, ax = plt.subplots()\n",
        "  ax.hist(samples, 20, density=True, color='g', histtype='stepfilled', alpha=0.8,\n",
        "          label='histogram')\n",
        "  ax.plot(x, y, color='orange', linewidth=3, label='pdf')\n",
        "  ax.vlines(mu, 0, rv.pdf(mu), color='y', linewidth=3, label='$\\mu$')\n",
        "  ax.vlines([mu-sigma, mu+sigma], 0, rv.pdf([mu-sigma, mu+sigma]), colors='red',\n",
        "            color='b', linewidth=3, label='$\\sigma$')\n",
        "  ax.set(xlabel='x', ylabel='probability density', xlim=[-5, 5], ylim=[0, 1.0])\n",
        "  ax.legend()"
      ],
      "execution_count": null,
      "outputs": []
    },
    {
      "cell_type": "code",
      "metadata": {
        "id": "VtRxAS7SUXsf"
      },
      "source": [
        "# to_remove explanation\n",
        "\n",
        "\"\"\"\n",
        "1. Mu controls the mean of the Gaussian distribution - it shifts it along the x-axis.\n",
        "2. Sigma controls the width of the Gaussian distribution - small sigma results in a narrow\n",
        "distribution, large sigma results in a very wide distribution\n",
        "\"\"\""
      ],
      "execution_count": null,
      "outputs": []
    },
    {
      "cell_type": "markdown",
      "metadata": {
        "id": "FddiFE5yS0m8"
      },
      "source": [
        "## Section 1.2: Probabilistic Models\n",
        "\n",
        "*Estimated timing to here from start of tutorial: 11 min*\n",
        "\n",
        "Now that we have a model of our noise component $\\epsilon$ as random variable, how do we incorporate this back into our original linear model from before? Consider again our simplified model $y = \\theta x + \\epsilon$ where the noise has zero mean and unit variance $\\epsilon \\sim \\mathcal{N}(0, 1)$. We can now also treat $y$ as a random variable drawn from a Gaussian distribution where $\\mu = \\theta x$ and $\\sigma^2 = 1$:\n",
        "\n",
        "\\begin{align}\n",
        "y \\sim \\mathcal{N}(\\theta x, 1)\n",
        "\\end{align}\n",
        "\n",
        "which is to say that the probability of observing $y$ given $x$ and parameter $\\theta$ is\n",
        "\\begin{align}\n",
        "p(y|x,\\theta) = \\frac{1}{\\sqrt{2\\pi}}e^{-\\frac{1}{2}(y-\\theta x)^2}\n",
        "\\end{align}\n",
        "\n",
        "\n",
        "Let's revisit our original sample dataset where the true underlying model has $\\theta = 1.2$."
      ]
    },
    {
      "cell_type": "code",
      "metadata": {
        "execution": {
          "iopub.execute_input": "2021-06-25T15:07:59.820567Z",
          "iopub.status.busy": "2021-06-25T15:07:59.820078Z",
          "iopub.status.idle": "2021-06-25T15:07:59.824091Z",
          "shell.execute_reply": "2021-06-25T15:07:59.823551Z"
        },
        "id": "shsKAe7GS0m8",
        "cellView": "form"
      },
      "source": [
        "# @markdown Execute this cell to generate some simulated data\n",
        "\n",
        "# setting a fixed seed to our random number generator ensures we will always\n",
        "# get the same psuedorandom number sequence\n",
        "\n",
        "np.random.seed(121)\n",
        "theta = 1.2\n",
        "n_samples = 30\n",
        "x = 10 * np.random.rand(n_samples) # sample from a uniform distribution over [0,10)\n",
        "noise = np.random.randn(n_samples) # sample from a standard normal distribution\n",
        "y = theta * x + noise"
      ],
      "execution_count": null,
      "outputs": []
    },
    {
      "cell_type": "markdown",
      "metadata": {
        "id": "Y-0rMyWIS0m8"
      },
      "source": [
        "This time we can plot the density of $p(y|x,\\theta=1.2)$ and see how $p(y)$ changes for different values of $x$."
      ]
    },
    {
      "cell_type": "code",
      "metadata": {
        "execution": {
          "iopub.execute_input": "2021-06-25T15:07:59.884696Z",
          "iopub.status.busy": "2021-06-25T15:07:59.883484Z",
          "iopub.status.idle": "2021-06-25T15:08:00.297699Z",
          "shell.execute_reply": "2021-06-25T15:08:00.297098Z"
        },
        "id": "-4X1B5c8S0m8",
        "cellView": "form"
      },
      "source": [
        "# @markdown Execute this cell to visualize p(y|x, theta=1.2)\n",
        "\n",
        "fig, (ax1, ax2) = plt.subplots(ncols=2, figsize=(10, 4))\n",
        "\n",
        "# Invokes helper function to generate density image plots from data and parameters\n",
        "im = plot_density_image(x, y, 1.2, ax=ax1)\n",
        "plt.colorbar(im, ax=ax1)\n",
        "ax1.axvline(8, color='k')\n",
        "ax1.set(title=r'p(y | x, $\\theta$=1.2)')\n",
        "\n",
        "# Plot pdf for given x\n",
        "ylim = ax1.get_ylim()\n",
        "yy = np.linspace(ylim[0], ylim[1], 50)\n",
        "ax2.plot(yy, stats.norm(theta * 8, 1).pdf(yy), color='orange', linewidth=2)\n",
        "ax2.set(\n",
        "    title=r'p(y|x=8, $\\theta$=1.2)',\n",
        "    xlabel='y',\n",
        "    ylabel='probability density');"
      ],
      "execution_count": null,
      "outputs": []
    },
    {
      "cell_type": "markdown",
      "metadata": {
        "id": "UIeSFp1sS0m8"
      },
      "source": [
        "## Section 1.3: Likelihood Estimation\n",
        "\n",
        "*Estimated timing to here from start of tutorial: 15 min*\n",
        "\n",
        "Now that we have our probabilistic model, we turn back to our original challenge of finding a good estimate for $\\theta$ that fits our data. Given the inherent uncertainty when dealing in probabilities, we talk about the [likelihood](https://en.wikipedia.org/wiki/Likelihood_function) that some estimate $\\hat{\\theta}$ fits our data. The likelihood function $\\mathcal{L}(\\theta)$ is equal to the probability density function parameterized by that $\\theta$:\n",
        "\n",
        "\\begin{align}\n",
        "\\mathcal{L}(\\theta|x,y) = p(y|x,\\theta) = \\frac{1}{\\sqrt{2\\pi\\sigma^2}}e^{-\\frac{1}{2\\sigma^2}(y-\\theta x)^2}\n",
        "\\end{align}"
      ]
    },
    {
      "cell_type": "markdown",
      "metadata": {
        "id": "npKT-DD2S0m9"
      },
      "source": [
        "### Coding Exercise 1.3: Likelihood Function\n",
        "\n",
        "In this exercise you will implement the likelihood function $\\mathcal{L}(\\theta|x, y)$ for our linear model where $\\sigma = 1$.\n",
        "\n",
        "After implementing this function, we can produce probabilities that our estimate $\\hat{\\theta}$ generated the provided observations. We will try with one of the samples from our dataset.\n",
        "\n",
        "TIP: Use `np.exp` and `np.sqrt` for the exponential and square root functions, respectively."
      ]
    },
    {
      "cell_type": "code",
      "metadata": {
        "execution": {
          "iopub.execute_input": "2021-06-25T15:08:00.302540Z",
          "iopub.status.busy": "2021-06-25T15:08:00.302011Z",
          "iopub.status.idle": "2021-06-25T15:08:00.305724Z",
          "shell.execute_reply": "2021-06-25T15:08:00.305229Z"
        },
        "id": "aXN8BHSfS0m9"
      },
      "source": [
        "def likelihood(theta_hat, x, y):\n",
        "  \"\"\"The likelihood function for a linear model with noise sampled from a\n",
        "    Gaussian distribution with zero mean and unit variance.\n",
        "\n",
        "  Args:\n",
        "    theta_hat (float): An estimate of the slope parameter.\n",
        "    x (ndarray): An array of shape (samples,) that contains the input values.\n",
        "    y (ndarray): An array of shape (samples,) that contains the corresponding\n",
        "      measurement values to the inputs.\n",
        "\n",
        "  Returns:\n",
        "    ndarray: the likelihood values for the theta_hat estimate\n",
        "  \"\"\"\n",
        "  sigma = 1\n",
        "  ##############################################################################\n",
        "  ## TODO for students: implement the likelihood function\n",
        "  # Fill out function and remove\n",
        "  raise NotImplementedError(\"Student exercise: implement the likelihood function\")\n",
        "  ##############################################################################\n",
        "\n",
        "  # Compute Gaussian likelihood\n",
        "  pdf = ...\n",
        "\n",
        "  return pdf\n",
        "\n",
        "\n",
        "print(likelihood(1.0, x[1], y[1]))"
      ],
      "execution_count": null,
      "outputs": []
    },
    {
      "cell_type": "code",
      "metadata": {
        "cellView": "both",
        "execution": {
          "iopub.execute_input": "2021-06-25T15:08:00.311618Z",
          "iopub.status.busy": "2021-06-25T15:08:00.311050Z",
          "iopub.status.idle": "2021-06-25T15:08:00.314968Z",
          "shell.execute_reply": "2021-06-25T15:08:00.314488Z"
        },
        "id": "h4j1BT6AS0m9"
      },
      "source": [
        "# to_remove solution\n",
        "def likelihood(theta_hat, x, y):\n",
        "  \"\"\"The likelihood function for a linear model with noise sampled from a\n",
        "    Gaussian distribution with zero mean and unit variance.\n",
        "\n",
        "  Args:\n",
        "    theta_hat (float): An estimate of the slope parameter.\n",
        "    x (ndarray): An array of shape (samples,) that contains the input values.\n",
        "    y (ndarray): An array of shape (samples,) that contains the corresponding\n",
        "      measurement values to the inputs.\n",
        "\n",
        "  Returns:\n",
        "    float: the likelihood value for the theta_hat estimate\n",
        "  \"\"\"\n",
        "  sigma = 1\n",
        "\n",
        "  # Compute Gaussian likelihood\n",
        "  pdf = 1 / np.sqrt(2 * np.pi * sigma**2) * np.exp(-(y - theta_hat * x)**2 / (2 * sigma**2))\n",
        "\n",
        "  return pdf\n",
        "\n",
        "\n",
        "print(likelihood(1.0, x[1], y[1]))"
      ],
      "execution_count": null,
      "outputs": []
    },
    {
      "cell_type": "markdown",
      "metadata": {
        "id": "OrGPYCK6S0m-"
      },
      "source": [
        "We should see that $\\mathcal{L}(\\theta=1.0|x=2.1,y=3.7) \\approx 0.11$. So far so good, but how does this tell us how this estimate is better than any others?\n",
        "\n",
        "When dealing with a set of data points, as we are with our dataset, we are concerned with their joint probability -- the likelihood that all data points are explained by our parameterization. Since we have assumed that the noise affects each output independently, we can factorize the likelihood, and write:\n",
        "\n",
        "\\begin{align}\n",
        "\\mathcal{L}(\\theta|\\mathbf{x}, \\mathbf{y}) = \\prod_{i=1}^N \\mathcal{L}(\\theta|x_i,y_i),\n",
        "\\end{align}\n",
        "\n",
        "where we have $N$ data points $\\mathbf{x} = \\{x_1,...,x_N\\}$ and $\\mathbf{y} = \\{y_1,...,y_N\\}$.\n",
        "\n",
        "\n",
        "In practice, such a product can be numerically unstable. Indeed multiplying small values together can lead to [underflow](https://en.wikipedia.org/wiki/Arithmetic_underflow), the situation in which the digital representation of floating point number reaches its limit. This problem can be circumvented by taking the logarithm of the likelihood because the logarithm transforms products into sums:\n",
        "\n",
        "\\begin{align}\n",
        "\\log\\mathcal{L}(\\theta|\\mathbf{x}, \\mathbf{y}) = \\sum_{i=1}^N \\log\\mathcal{L}(\\theta|x_i,y_i)\n",
        "\\end{align}\n",
        "\n",
        "We can take the sum of the log of the output of our `likelihood` method applied to the full dataset to get a better idea of how different $\\hat{\\theta}$ compare. We can also plot the different distribution densities over our dataset and see how they line up qualitatively."
      ]
    },
    {
      "cell_type": "code",
      "metadata": {
        "execution": {
          "iopub.execute_input": "2021-06-25T15:08:00.350710Z",
          "iopub.status.busy": "2021-06-25T15:08:00.333723Z",
          "iopub.status.idle": "2021-06-25T15:08:01.046901Z",
          "shell.execute_reply": "2021-06-25T15:08:01.046378Z"
        },
        "id": "teb3EwOQS0m-",
        "cellView": "form"
      },
      "source": [
        "# @markdown Execute this cell to visualize different distribution densities\n",
        "theta_hats = [0.5, 1.0, 2.2]\n",
        "fig, axes = plt.subplots(ncols=3, figsize=(16, 4))\n",
        "for theta_hat, ax in zip(theta_hats, axes):\n",
        "  ll = np.sum(np.log(likelihood(theta_hat, x, y)))  # log likelihood\n",
        "  im = plot_density_image(x, y, theta_hat, ax=ax)\n",
        "  ax.scatter(x, y)\n",
        "  ax.set(title=fr'$\\hat{{\\theta}}$ = {theta_hat}, log likelihood: {ll:.2f}')\n",
        "plt.colorbar(im, ax=ax);"
      ],
      "execution_count": null,
      "outputs": []
    },
    {
      "cell_type": "markdown",
      "metadata": {
        "id": "cC3N-BkiS0m-"
      },
      "source": [
        "Using the log likelihood calculation, we see that $\\mathcal{L}(\\theta=1.0) > \\mathcal{L}(\\theta=0.5) > \\mathcal{L}(\\theta=2.2)$.\n",
        "\n",
        "This is great: now we have a way to compare estimators based on likelihood. But like with the MSE approach, we want an analytic solution to find the best estimator. In this case, we want to find the estimator that maximizes the likelihood.\n"
      ]
    },
    {
      "cell_type": "markdown",
      "metadata": {
        "id": "u5DIhVsxS0m-"
      },
      "source": [
        "## Section 1.4: Finding the Maximum Likelihood Estimator\n",
        "\n",
        "*Estimated timing to here from start of tutorial: 23 min*\n",
        "\n",
        "<details>\n",
        "<summary> <font color='blue'>Click here for text recap of relevant part of video </font></summary>\n",
        "\n",
        "We want to find the parameter value $\\hat\\theta$ that makes our data set most likely:\n",
        "\n",
        "\\begin{align}\n",
        "\\hat{\\theta}_{\\textrm{MLE}} = \\underset{\\theta}{\\operatorname{argmax}} \\mathcal{L}(\\theta|X,Y) \n",
        "\\end{align}\n",
        "\n",
        "We discussed how taking the logarithm of the likelihood helps with numerical stability, the good thing is that it does so without changing the parameter value that maximizes the likelihood. Indeed, the $\\log()$ function is *monotonically increasing*, which means that it preserves the order of its inputs. So we have:\n",
        "\n",
        "\\begin{align}\n",
        "\\hat{\\theta}_{\\textrm{MLE}} = \\underset{\\theta}{\\operatorname{argmax}} \\sum_{i=1}^m \\textrm{log} \\mathcal{L}(\\theta|x_i,y_i) \n",
        "\\end{align}\n",
        "\n",
        "Now substituting our specific likelihood function and taking its logarithm, we get:\n",
        "\\begin{align}\n",
        "\\hat{\\theta}_{\\textrm{MLE}} = \\underset{\\theta}{\\operatorname{argmax}} [-\\frac{N}{2} \\operatorname{log} 2\\pi\\sigma^2 - \\frac{1}{2\\sigma^2}\\sum_{i=1}^N (y_i-\\theta x_i)^2].\n",
        "\\end{align}\n",
        "\n",
        "Note that maximizing the log likelihood is the same as minimizing the negative log likelihood (in practice optimization routines are developed to solve minimization not maximization problems). Because of the convexity of this objective function, we can take the derivative of our negative log likelihhood, set it to 0, and solve - just like our solution to minimizing MSE.\n",
        "\n",
        "\\begin{align}\n",
        "\\frac{\\partial\\operatorname{log}\\mathcal{L}(\\theta|x,y)}{\\partial\\theta}=\\frac{1}{\\sigma^2}\\sum_{i=1}^N(y_i-\\theta x_i)x_i = 0\n",
        "\\end{align}\n",
        "\n",
        "This looks remarkably like the equation we had to solve for the optimal MSE estimator, and, in fact, we arrive to the exact same solution!\n",
        "\n",
        "\\begin{align}\n",
        "\\hat{\\theta}_{\\textrm{MLE}} = \\hat{\\theta}_{\\textrm{MSE}} = \\frac{\\sum_{i=1}^N x_i y_i}{\\sum_{i=1}^N x_i^2}\n",
        "\\end{align}"
      ]
    },
    {
      "cell_type": "code",
      "metadata": {
        "execution": {
          "iopub.execute_input": "2021-06-25T15:08:01.051653Z",
          "iopub.status.busy": "2021-06-25T15:08:01.050521Z",
          "iopub.status.idle": "2021-06-25T15:08:01.052276Z",
          "shell.execute_reply": "2021-06-25T15:08:01.052697Z"
        },
        "id": "sH4nlAdZS0m_"
      },
      "source": [
        "# Compute theta_hat_MLE\n",
        "theta_hat_mle = (x @ y) / (x @ x)"
      ],
      "execution_count": null,
      "outputs": []
    },
    {
      "cell_type": "code",
      "metadata": {
        "cellView": "form",
        "execution": {
          "iopub.execute_input": "2021-06-25T15:08:01.079665Z",
          "iopub.status.busy": "2021-06-25T15:08:01.073138Z",
          "iopub.status.idle": "2021-06-25T15:08:01.444986Z",
          "shell.execute_reply": "2021-06-25T15:08:01.445717Z"
        },
        "id": "8y3tAqeNS0m_"
      },
      "source": [
        "#@title\n",
        "#@markdown Execute this cell to visualize density with theta_hat_mle\n",
        "\n",
        "# Plot the resulting distribution density\n",
        "fig, ax = plt.subplots()\n",
        "ll = np.sum(np.log(likelihood(theta_hat_mle, x, y))) # log likelihood\n",
        "im = plot_density_image(x, y, theta_hat_mle, ax=ax)\n",
        "plt.colorbar(im, ax=ax);\n",
        "ax.scatter(x, y)\n",
        "ax.set(title=fr'$\\hat{{\\theta}}$ = {theta_hat_mle:.2f}, log likelihood: {ll:.2f}');"
      ],
      "execution_count": null,
      "outputs": []
    },
    {
      "cell_type": "markdown",
      "metadata": {
        "id": "dx_PSO9gS0m_"
      },
      "source": [
        "---\n",
        "# Summary\n",
        "\n",
        "*Estimated timing of tutorial: 30 minutes*\n",
        "\n",
        "\n",
        "Likelihood vs probability:\n",
        "\n",
        "  - $\\mathcal{L}(\\theta|x, y) = p(y|x, \\theta)$\n",
        "  - $p(y|x, \\theta)$ -> \"probability of observing the response $y$ given parameter $\\theta$ and input $x$\"\n",
        "  - $\\mathcal{L}(\\theta|x, y)$ -> \"likelihood model that parameters $\\theta$ produced response $y$ from input $x$\"\n",
        "\n",
        "Log-likelihood maximization:\n",
        "\n",
        "  - We take the $\\log$ of the likelihood function for computational convenience\n",
        "  - The parameters $\\theta$ that maximize $\\log\\mathcal{L}(\\theta|x, y)$ are the model parameters that maximize the probability of observing the data.\n",
        "\n",
        "**Key point**: the log-likelihood is a flexible cost function, and is often used to find model parameters that best fit the data."
      ]
    },
    {
      "cell_type": "markdown",
      "metadata": {
        "id": "ZFTdSIEBgIdr"
      },
      "source": [
        "\n",
        "---\n",
        "# Notation\n",
        "\n",
        "\\begin{align}\n",
        "x &\\quad \\text{input, independent variable}\\\\\n",
        "y &\\quad \\text{response measurement, dependent variable}\\\\\n",
        "\\epsilon &\\quad \\text{measurement error, noise contribution}\\\\\n",
        "\\epsilon \\sim \\mathcal{N}(\\mu, \\sigma^2) &\\quad \\text{random variable } \\epsilon \\text{ is distributed according to a Gaussian distribution, with mean } \\mu \\text{ and variance } \\sigma^2\\\\\n",
        "\\mu &\\quad \\text{mean}\\\\\n",
        "\\sigma^2 &\\quad \\text{variance}\\\\\n",
        "\\sigma &\\quad \\text{standard deviation}\\\\\n",
        "\\theta &\\quad \\text{parameter}\\\\\n",
        "\\hat{\\theta} &\\quad \\text{estimate of parameter}\\\\\n",
        "\\mathcal{L}(\\theta|x, y) &\\quad \\text{likelihood of that parameter } \\theta \\text{ producing response } y \\text{ from input } x \\\\ \n",
        "p(y|x, \\theta) &\\quad \\text{probability of observing the response } y \\text{ given input } x \\text{ and parameter } \\theta \\\\ \n",
        "\\end{align}"
      ]
    },
    {
      "cell_type": "markdown",
      "metadata": {
        "id": "BexjYPMyS0m_"
      },
      "source": [
        "---\n",
        "# Bonus"
      ]
    },
    {
      "cell_type": "markdown",
      "metadata": {
        "id": "sCiFd4enS0nA"
      },
      "source": [
        "We can also see $\\mathrm{p}(\\mathrm{y} | \\mathrm{x}, \\theta)$ as a function of $x$. This is the stimulus likelihood function, and it is useful in case we want to decode the input $x$ from observed responses $y$. This is what is relevant from the point of view of a neuron that does not have access to the outside world and tries to infer what's out there from the responses of other neurons!\n",
        "\n",
        "\n",
        "\n"
      ]
    }
  ]
}