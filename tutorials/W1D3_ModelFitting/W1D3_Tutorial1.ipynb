{
  "nbformat": 4,
  "nbformat_minor": 0,
  "metadata": {
    "celltoolbar": "Slideshow",
    "colab": {
      "name": "W1D3_Tutorial1",
      "provenance": [],
      "collapsed_sections": [],
      "toc_visible": true,
      "include_colab_link": true
    },
    "kernel": {
      "display_name": "Python 3",
      "language": "python",
      "name": "python3"
    },
    "kernelspec": {
      "display_name": "Python 3",
      "language": "python",
      "name": "python3"
    },
    "language_info": {
      "codemirror_mode": {
        "name": "ipython",
        "version": 3
      },
      "file_extension": ".py",
      "mimetype": "text/x-python",
      "name": "python",
      "nbconvert_exporter": "python",
      "pygments_lexer": "ipython3",
      "version": "3.7.10"
    },
    "widgets": {
      "application/vnd.jupyter.widget-state+json": {
        "9dc2ceb268574d688e3428cb8d64a992": {
          "model_module": "@jupyter-widgets/controls",
          "model_name": "TabModel",
          "state": {
            "_view_name": "TabView",
            "_dom_classes": [],
            "_titles": {
              "0": "Youtube",
              "1": "Bilibili"
            },
            "_model_name": "TabModel",
            "_view_module": "@jupyter-widgets/controls",
            "selected_index": 0,
            "_model_module_version": "1.5.0",
            "_view_count": null,
            "_view_module_version": "1.5.0",
            "box_style": "",
            "layout": "IPY_MODEL_d1fdc844476a4d17b01bf1765daf3b79",
            "_model_module": "@jupyter-widgets/controls",
            "children": [
              "IPY_MODEL_772207ba5d984bf793d7eb4c3d252c30",
              "IPY_MODEL_5453ae32c089445c9321f41836b47fa8"
            ]
          }
        },
        "d1fdc844476a4d17b01bf1765daf3b79": {
          "model_module": "@jupyter-widgets/base",
          "model_name": "LayoutModel",
          "state": {
            "_view_name": "LayoutView",
            "grid_template_rows": null,
            "right": null,
            "justify_content": null,
            "_view_module": "@jupyter-widgets/base",
            "overflow": null,
            "_model_module_version": "1.2.0",
            "_view_count": null,
            "flex_flow": null,
            "width": null,
            "min_width": null,
            "border": null,
            "align_items": null,
            "bottom": null,
            "_model_module": "@jupyter-widgets/base",
            "top": null,
            "grid_column": null,
            "overflow_y": null,
            "overflow_x": null,
            "grid_auto_flow": null,
            "grid_area": null,
            "grid_template_columns": null,
            "flex": null,
            "_model_name": "LayoutModel",
            "justify_items": null,
            "grid_row": null,
            "max_height": null,
            "align_content": null,
            "visibility": null,
            "align_self": null,
            "height": null,
            "min_height": null,
            "padding": null,
            "grid_auto_rows": null,
            "grid_gap": null,
            "max_width": null,
            "order": null,
            "_view_module_version": "1.2.0",
            "grid_template_areas": null,
            "object_position": null,
            "object_fit": null,
            "grid_auto_columns": null,
            "margin": null,
            "display": null,
            "left": null
          }
        },
        "772207ba5d984bf793d7eb4c3d252c30": {
          "model_module": "@jupyter-widgets/output",
          "model_name": "OutputModel",
          "state": {
            "_view_name": "OutputView",
            "msg_id": "",
            "_dom_classes": [],
            "_model_name": "OutputModel",
            "outputs": [
              {
                "output_type": "stream",
                "metadata": {
                  "tags": []
                },
                "text": "Video available at https://youtube.com/watch?v=HumajfjJ37E\n",
                "stream": "stdout"
              },
              {
                "output_type": "display_data",
                "metadata": {
                  "tags": []
                },
                "text/html": "\n        <iframe\n            width=\"854\"\n            height=\"480\"\n            src=\"https://www.youtube.com/embed/HumajfjJ37E?fs=1&rel=0\"\n            frameborder=\"0\"\n            allowfullscreen\n        ></iframe>\n        ",
                "text/plain": "<IPython.lib.display.YouTubeVideo at 0x7f8aa4fe89d0>",
                "image/jpeg": "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\n"
              }
            ],
            "_view_module": "@jupyter-widgets/output",
            "_model_module_version": "1.0.0",
            "_view_count": null,
            "_view_module_version": "1.0.0",
            "layout": "IPY_MODEL_c1d89b996d404ef69553719369a2880f",
            "_model_module": "@jupyter-widgets/output"
          }
        },
        "5453ae32c089445c9321f41836b47fa8": {
          "model_module": "@jupyter-widgets/output",
          "model_name": "OutputModel",
          "state": {
            "_view_name": "OutputView",
            "msg_id": "",
            "_dom_classes": [],
            "_model_name": "OutputModel",
            "outputs": [
              {
                "output_type": "stream",
                "metadata": {
                  "tags": []
                },
                "text": "Video available at https://www.bilibili.com/video/BV1tA411e7NW\n",
                "stream": "stdout"
              },
              {
                "output_type": "display_data",
                "metadata": {
                  "tags": []
                },
                "text/html": "\n        <iframe\n            width=\"854\"\n            height=\"480\"\n            src=\"https://player.bilibili.com/player.html?bvid=BV1tA411e7NW&page=1?fs=1\"\n            frameborder=\"0\"\n            allowfullscreen\n        ></iframe>\n        ",
                "text/plain": "<__main__.BiliVideo at 0x7f8aaab033d0>"
              }
            ],
            "_view_module": "@jupyter-widgets/output",
            "_model_module_version": "1.0.0",
            "_view_count": null,
            "_view_module_version": "1.0.0",
            "layout": "IPY_MODEL_ddc3f37795b84ed0ba4ab77205896dc1",
            "_model_module": "@jupyter-widgets/output"
          }
        },
        "c1d89b996d404ef69553719369a2880f": {
          "model_module": "@jupyter-widgets/base",
          "model_name": "LayoutModel",
          "state": {
            "_view_name": "LayoutView",
            "grid_template_rows": null,
            "right": null,
            "justify_content": null,
            "_view_module": "@jupyter-widgets/base",
            "overflow": null,
            "_model_module_version": "1.2.0",
            "_view_count": null,
            "flex_flow": null,
            "width": null,
            "min_width": null,
            "border": null,
            "align_items": null,
            "bottom": null,
            "_model_module": "@jupyter-widgets/base",
            "top": null,
            "grid_column": null,
            "overflow_y": null,
            "overflow_x": null,
            "grid_auto_flow": null,
            "grid_area": null,
            "grid_template_columns": null,
            "flex": null,
            "_model_name": "LayoutModel",
            "justify_items": null,
            "grid_row": null,
            "max_height": null,
            "align_content": null,
            "visibility": null,
            "align_self": null,
            "height": null,
            "min_height": null,
            "padding": null,
            "grid_auto_rows": null,
            "grid_gap": null,
            "max_width": null,
            "order": null,
            "_view_module_version": "1.2.0",
            "grid_template_areas": null,
            "object_position": null,
            "object_fit": null,
            "grid_auto_columns": null,
            "margin": null,
            "display": null,
            "left": null
          }
        },
        "ddc3f37795b84ed0ba4ab77205896dc1": {
          "model_module": "@jupyter-widgets/base",
          "model_name": "LayoutModel",
          "state": {
            "_view_name": "LayoutView",
            "grid_template_rows": null,
            "right": null,
            "justify_content": null,
            "_view_module": "@jupyter-widgets/base",
            "overflow": null,
            "_model_module_version": "1.2.0",
            "_view_count": null,
            "flex_flow": null,
            "width": null,
            "min_width": null,
            "border": null,
            "align_items": null,
            "bottom": null,
            "_model_module": "@jupyter-widgets/base",
            "top": null,
            "grid_column": null,
            "overflow_y": null,
            "overflow_x": null,
            "grid_auto_flow": null,
            "grid_area": null,
            "grid_template_columns": null,
            "flex": null,
            "_model_name": "LayoutModel",
            "justify_items": null,
            "grid_row": null,
            "max_height": null,
            "align_content": null,
            "visibility": null,
            "align_self": null,
            "height": null,
            "min_height": null,
            "padding": null,
            "grid_auto_rows": null,
            "grid_gap": null,
            "max_width": null,
            "order": null,
            "_view_module_version": "1.2.0",
            "grid_template_areas": null,
            "object_position": null,
            "object_fit": null,
            "grid_auto_columns": null,
            "margin": null,
            "display": null,
            "left": null
          }
        },
        "f658b715e13440e9b2b0a4dc3a129555": {
          "model_module": "@jupyter-widgets/controls",
          "model_name": "VBoxModel",
          "state": {
            "_view_name": "VBoxView",
            "_dom_classes": [
              "widget-interact"
            ],
            "_model_name": "VBoxModel",
            "_view_module": "@jupyter-widgets/controls",
            "_model_module_version": "1.5.0",
            "_view_count": null,
            "_view_module_version": "1.5.0",
            "box_style": "",
            "layout": "IPY_MODEL_cd155715c7054756a1353baf01edf910",
            "_model_module": "@jupyter-widgets/controls",
            "children": [
              "IPY_MODEL_2fb40c1acc014459a198567958429ab9",
              "IPY_MODEL_693dfd6ffb3b41bfb7e5d6a3c4003237"
            ]
          }
        },
        "cd155715c7054756a1353baf01edf910": {
          "model_module": "@jupyter-widgets/base",
          "model_name": "LayoutModel",
          "state": {
            "_view_name": "LayoutView",
            "grid_template_rows": null,
            "right": null,
            "justify_content": null,
            "_view_module": "@jupyter-widgets/base",
            "overflow": null,
            "_model_module_version": "1.2.0",
            "_view_count": null,
            "flex_flow": null,
            "width": null,
            "min_width": null,
            "border": null,
            "align_items": null,
            "bottom": null,
            "_model_module": "@jupyter-widgets/base",
            "top": null,
            "grid_column": null,
            "overflow_y": null,
            "overflow_x": null,
            "grid_auto_flow": null,
            "grid_area": null,
            "grid_template_columns": null,
            "flex": null,
            "_model_name": "LayoutModel",
            "justify_items": null,
            "grid_row": null,
            "max_height": null,
            "align_content": null,
            "visibility": null,
            "align_self": null,
            "height": null,
            "min_height": null,
            "padding": null,
            "grid_auto_rows": null,
            "grid_gap": null,
            "max_width": null,
            "order": null,
            "_view_module_version": "1.2.0",
            "grid_template_areas": null,
            "object_position": null,
            "object_fit": null,
            "grid_auto_columns": null,
            "margin": null,
            "display": null,
            "left": null
          }
        },
        "2fb40c1acc014459a198567958429ab9": {
          "model_module": "@jupyter-widgets/controls",
          "model_name": "FloatSliderModel",
          "state": {
            "_view_name": "FloatSliderView",
            "style": "IPY_MODEL_eb4f9b0065564658bc65925070a942b1",
            "_dom_classes": [],
            "description": "theta_hat",
            "step": 0.1,
            "_model_name": "FloatSliderModel",
            "orientation": "horizontal",
            "max": 2,
            "_view_module": "@jupyter-widgets/controls",
            "_model_module_version": "1.5.0",
            "value": 1,
            "_view_count": null,
            "disabled": false,
            "_view_module_version": "1.5.0",
            "min": 0,
            "continuous_update": true,
            "readout_format": ".2f",
            "description_tooltip": null,
            "readout": true,
            "_model_module": "@jupyter-widgets/controls",
            "layout": "IPY_MODEL_46f685cb31564f3eaba9e40b080143ae"
          }
        },
        "693dfd6ffb3b41bfb7e5d6a3c4003237": {
          "model_module": "@jupyter-widgets/output",
          "model_name": "OutputModel",
          "state": {
            "_view_name": "OutputView",
            "msg_id": "",
            "_dom_classes": [],
            "_model_name": "OutputModel",
            "outputs": [
              {
                "output_type": "display_data",
                "metadata": {
                  "tags": [],
                  "image/png": {
                    "width": 557,
                    "height": 413
                  },
                  "needs_background": "light"
                },
                "image/png": "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\n",
                "text/plain": "<Figure size 576x432 with 1 Axes>"
              }
            ],
            "_view_module": "@jupyter-widgets/output",
            "_model_module_version": "1.0.0",
            "_view_count": null,
            "_view_module_version": "1.0.0",
            "layout": "IPY_MODEL_f35e871d2de34db8a35f70fec3a5d158",
            "_model_module": "@jupyter-widgets/output"
          }
        },
        "eb4f9b0065564658bc65925070a942b1": {
          "model_module": "@jupyter-widgets/controls",
          "model_name": "SliderStyleModel",
          "state": {
            "_view_name": "StyleView",
            "handle_color": null,
            "_model_name": "SliderStyleModel",
            "description_width": "",
            "_view_module": "@jupyter-widgets/base",
            "_model_module_version": "1.5.0",
            "_view_count": null,
            "_view_module_version": "1.2.0",
            "_model_module": "@jupyter-widgets/controls"
          }
        },
        "46f685cb31564f3eaba9e40b080143ae": {
          "model_module": "@jupyter-widgets/base",
          "model_name": "LayoutModel",
          "state": {
            "_view_name": "LayoutView",
            "grid_template_rows": null,
            "right": null,
            "justify_content": null,
            "_view_module": "@jupyter-widgets/base",
            "overflow": null,
            "_model_module_version": "1.2.0",
            "_view_count": null,
            "flex_flow": null,
            "width": null,
            "min_width": null,
            "border": null,
            "align_items": null,
            "bottom": null,
            "_model_module": "@jupyter-widgets/base",
            "top": null,
            "grid_column": null,
            "overflow_y": null,
            "overflow_x": null,
            "grid_auto_flow": null,
            "grid_area": null,
            "grid_template_columns": null,
            "flex": null,
            "_model_name": "LayoutModel",
            "justify_items": null,
            "grid_row": null,
            "max_height": null,
            "align_content": null,
            "visibility": null,
            "align_self": null,
            "height": null,
            "min_height": null,
            "padding": null,
            "grid_auto_rows": null,
            "grid_gap": null,
            "max_width": null,
            "order": null,
            "_view_module_version": "1.2.0",
            "grid_template_areas": null,
            "object_position": null,
            "object_fit": null,
            "grid_auto_columns": null,
            "margin": null,
            "display": null,
            "left": null
          }
        },
        "f35e871d2de34db8a35f70fec3a5d158": {
          "model_module": "@jupyter-widgets/base",
          "model_name": "LayoutModel",
          "state": {
            "_view_name": "LayoutView",
            "grid_template_rows": null,
            "right": null,
            "justify_content": null,
            "_view_module": "@jupyter-widgets/base",
            "overflow": null,
            "_model_module_version": "1.2.0",
            "_view_count": null,
            "flex_flow": null,
            "width": null,
            "min_width": null,
            "border": null,
            "align_items": null,
            "bottom": null,
            "_model_module": "@jupyter-widgets/base",
            "top": null,
            "grid_column": null,
            "overflow_y": null,
            "overflow_x": null,
            "grid_auto_flow": null,
            "grid_area": null,
            "grid_template_columns": null,
            "flex": null,
            "_model_name": "LayoutModel",
            "justify_items": null,
            "grid_row": null,
            "max_height": null,
            "align_content": null,
            "visibility": null,
            "align_self": null,
            "height": null,
            "min_height": null,
            "padding": null,
            "grid_auto_rows": null,
            "grid_gap": null,
            "max_width": null,
            "order": null,
            "_view_module_version": "1.2.0",
            "grid_template_areas": null,
            "object_position": null,
            "object_fit": null,
            "grid_auto_columns": null,
            "margin": null,
            "display": null,
            "left": null
          }
        }
      }
    }
  },
  "cells": [
    {
      "cell_type": "markdown",
      "metadata": {
        "id": "view-in-github",
        "colab_type": "text"
      },
      "source": [
        "<a href=\"https://colab.research.google.com/github/NeuromatchAcademy/course-content/blob/W1D3_small_notation_fix/tutorials/W1D3_ModelFitting/W1D3_Tutorial1.ipynb\" target=\"_parent\"><img src=\"https://colab.research.google.com/assets/colab-badge.svg\" alt=\"Open In Colab\"/></a>"
      ]
    },
    {
      "cell_type": "markdown",
      "metadata": {
        "id": "Q4P3Stzdu6QC"
      },
      "source": [
        "# Tutorial 1: Linear regression with MSE\n",
        "**Week 1, Day 3: Model Fitting**\n",
        "\n",
        "**By Neuromatch Academy**\n",
        "\n",
        "**Content creators**: Pierre-Étienne Fiquet, Anqi Wu, Alex Hyafil with help from Byron Galbraith\n",
        "\n",
        "**Content reviewers**: Lina Teichmann, Saeed Salehi, Patrick Mineault,  Ella Batty, Michael Waskom\n",
        "\n",
        "\n",
        "\n"
      ]
    },
    {
      "cell_type": "markdown",
      "metadata": {
        "id": "oRj3M6SOu6QE"
      },
      "source": [
        "**Our 2021 Sponsors, including Presenting Sponsor Facebook Reality Labs**\n",
        "\n",
        "<p align='center'><img src='https://github.com/NeuromatchAcademy/widgets/blob/master/sponsors.png?raw=True'/></p>"
      ]
    },
    {
      "cell_type": "markdown",
      "metadata": {
        "id": "4gTTnFDxu6QF"
      },
      "source": [
        "___\n",
        "# Tutorial Objectives\n",
        "\n",
        "*Estimated timing of tutorial: 30 minutes*\n",
        "\n",
        "This is Tutorial 1 of a series on fitting models to data. We start with simple linear regression, using least squares optimization (Tutorial 1) and Maximum Likelihood Estimation (Tutorial 2). We will use bootstrapping to build confidence intervals around the inferred linear model parameters (Tutorial 3). We'll finish our exploration of regression models by generalizing to multiple linear regression and polynomial regression (Tutorial 4). We end by learning how to choose between these various models. We discuss the bias-variance trade-off (Tutorial 5) and Cross Validation for model selection (Tutorial 6).\n",
        "\n",
        "In this tutorial, we will learn how to fit simple linear models to data.\n",
        "- Learn how to calculate the mean-squared error (MSE) \n",
        "- Explore how model parameters (slope) influence the MSE\n",
        "- Learn how to find the optimal model parameter using least-squares optimization\n",
        "\n",
        "---\n",
        "\n",
        "**acknowledgements:** \n",
        "- we thank Eero Simoncelli, much of today's tutorials are inspired by exercises asigned in his mathtools class."
      ]
    },
    {
      "cell_type": "code",
      "metadata": {
        "cellView": "form",
        "execution": {
          "iopub.execute_input": "2021-07-04T05:19:03.018078Z",
          "iopub.status.busy": "2021-07-04T05:19:03.017416Z",
          "iopub.status.idle": "2021-07-04T05:19:03.029955Z",
          "shell.execute_reply": "2021-07-04T05:19:03.030503Z"
        },
        "id": "TB-vjA_cu6QG",
        "outputId": "737f13c7-6833-4864-efca-e55fb3181d59",
        "colab": {
          "base_uri": "https://localhost:8080/",
          "height": 500
        }
      },
      "source": [
        "# @title Tutorial slides\n",
        "\n",
        "# @markdown These are the slides for the videos in all tutorials today\n",
        "from IPython.display import IFrame\n",
        "IFrame(src=f\"https://mfr.ca-1.osf.io/render?url=https://osf.io/2mkq4/?direct%26mode=render%26action=download%26mode=render\", width=854, height=480)"
      ],
      "execution_count": 1,
      "outputs": [
        {
          "output_type": "execute_result",
          "data": {
            "text/html": [
              "\n",
              "        <iframe\n",
              "            width=\"854\"\n",
              "            height=\"480\"\n",
              "            src=\"https://mfr.ca-1.osf.io/render?url=https://osf.io/2mkq4/?direct%26mode=render%26action=download%26mode=render\"\n",
              "            frameborder=\"0\"\n",
              "            allowfullscreen\n",
              "        ></iframe>\n",
              "        "
            ],
            "text/plain": [
              "<IPython.lib.display.IFrame at 0x7f8aa8a65e50>"
            ]
          },
          "metadata": {
            "tags": []
          },
          "execution_count": 1
        }
      ]
    },
    {
      "cell_type": "markdown",
      "metadata": {
        "id": "6cPsvfugu6QG"
      },
      "source": [
        "---\n",
        "# Setup"
      ]
    },
    {
      "cell_type": "code",
      "metadata": {
        "cellView": "both",
        "execution": {
          "iopub.execute_input": "2021-07-04T05:19:03.035320Z",
          "iopub.status.busy": "2021-07-04T05:19:03.034691Z",
          "iopub.status.idle": "2021-07-04T05:19:05.022737Z",
          "shell.execute_reply": "2021-07-04T05:19:05.022211Z"
        },
        "id": "_kZ6377mu6QH"
      },
      "source": [
        "import numpy as np\n",
        "import matplotlib.pyplot as plt"
      ],
      "execution_count": 2,
      "outputs": []
    },
    {
      "cell_type": "code",
      "metadata": {
        "cellView": "form",
        "execution": {
          "iopub.execute_input": "2021-07-04T05:19:05.027932Z",
          "iopub.status.busy": "2021-07-04T05:19:05.027298Z",
          "iopub.status.idle": "2021-07-04T05:19:05.259915Z",
          "shell.execute_reply": "2021-07-04T05:19:05.259002Z"
        },
        "id": "EfGWbigxu6QH"
      },
      "source": [
        "#@title Figure Settings\n",
        "import ipywidgets as widgets       # interactive display\n",
        "%config InlineBackend.figure_format = 'retina'\n",
        "plt.style.use(\"https://raw.githubusercontent.com/NeuromatchAcademy/course-content/master/nma.mplstyle\")"
      ],
      "execution_count": 3,
      "outputs": []
    },
    {
      "cell_type": "code",
      "metadata": {
        "cellView": "form",
        "execution": {
          "iopub.execute_input": "2021-07-04T05:19:05.268322Z",
          "iopub.status.busy": "2021-07-04T05:19:05.267643Z",
          "iopub.status.idle": "2021-07-04T05:19:05.271114Z",
          "shell.execute_reply": "2021-07-04T05:19:05.271586Z"
        },
        "id": "d9H-L5E6u6QH"
      },
      "source": [
        "#@title Plotting Functions\n",
        "\n",
        "def plot_observed_vs_predicted(x, y, y_hat, theta_hat):\n",
        "  \"\"\" Plot observed vs predicted data\n",
        "\n",
        "  Args:\n",
        "    x (ndarray): observed x values\n",
        "    y (ndarray): observed y values\n",
        "    y_hat (ndarray): predicted y values\n",
        "    theta_hat (ndarray):\n",
        "  \"\"\"\n",
        "  fig, ax = plt.subplots()\n",
        "  ax.scatter(x, y, label='Observed')  # our data scatter plot\n",
        "  ax.plot(x, y_hat, color='r', label='Fit')  # our estimated model\n",
        "  # plot residuals\n",
        "  ymin = np.minimum(y, y_hat)\n",
        "  ymax = np.maximum(y, y_hat)\n",
        "  ax.vlines(x, ymin, ymax, 'g', alpha=0.5, label='Residuals')\n",
        "  ax.set(\n",
        "      title=fr\"$\\hat{{\\theta}}$ = {theta_hat:0.2f}, MSE = {mse(x, y, theta_hat):.2f}\",\n",
        "      xlabel='x',\n",
        "      ylabel='y'\n",
        "  )\n",
        "  ax.legend()"
      ],
      "execution_count": 4,
      "outputs": []
    },
    {
      "cell_type": "markdown",
      "metadata": {
        "id": "f-cViJkMu6QI"
      },
      "source": [
        "---\n",
        "# Section 1: Mean Squared Error (MSE)"
      ]
    },
    {
      "cell_type": "code",
      "metadata": {
        "cellView": "form",
        "execution": {
          "iopub.execute_input": "2021-07-04T05:19:05.284558Z",
          "iopub.status.busy": "2021-07-04T05:19:05.279587Z",
          "iopub.status.idle": "2021-07-04T05:19:05.350705Z",
          "shell.execute_reply": "2021-07-04T05:19:05.346302Z"
        },
        "id": "YUybtfmTu6QI",
        "outputId": "6ac59acb-c871-4446-c432-f55cc60ef5c9",
        "colab": {
          "base_uri": "https://localhost:8080/",
          "height": 580,
          "referenced_widgets": [
            "9dc2ceb268574d688e3428cb8d64a992",
            "d1fdc844476a4d17b01bf1765daf3b79",
            "772207ba5d984bf793d7eb4c3d252c30",
            "5453ae32c089445c9321f41836b47fa8",
            "c1d89b996d404ef69553719369a2880f",
            "ddc3f37795b84ed0ba4ab77205896dc1"
          ]
        }
      },
      "source": [
        "# @title Video 1: Linear Regression & Mean Squared Error\n",
        "from ipywidgets import widgets\n",
        "\n",
        "out2 = widgets.Output()\n",
        "with out2:\n",
        "  from IPython.display import IFrame\n",
        "  class BiliVideo(IFrame):\n",
        "      def __init__(self, id, page=1, width=400, height=300, **kwargs):\n",
        "          self.id=id\n",
        "          src = 'https://player.bilibili.com/player.html?bvid={0}&page={1}'.format(id, page)\n",
        "          super(BiliVideo, self).__init__(src, width, height, **kwargs)\n",
        "\n",
        "  video = BiliVideo(id=\"BV1tA411e7NW\", width=854, height=480, fs=1)\n",
        "  print('Video available at https://www.bilibili.com/video/{0}'.format(video.id))\n",
        "  display(video)\n",
        "\n",
        "out1 = widgets.Output()\n",
        "with out1:\n",
        "  from IPython.display import YouTubeVideo\n",
        "  video = YouTubeVideo(id=\"HumajfjJ37E\", width=854, height=480, fs=1, rel=0)\n",
        "  print('Video available at https://youtube.com/watch?v=' + video.id)\n",
        "  display(video)\n",
        "\n",
        "out = widgets.Tab([out1, out2])\n",
        "out.set_title(0, 'Youtube')\n",
        "out.set_title(1, 'Bilibili')\n",
        "\n",
        "display(out)"
      ],
      "execution_count": 5,
      "outputs": [
        {
          "output_type": "display_data",
          "data": {
            "application/vnd.jupyter.widget-view+json": {
              "model_id": "9dc2ceb268574d688e3428cb8d64a992",
              "version_minor": 0,
              "version_major": 2
            },
            "text/plain": [
              "Tab(children=(Output(), Output()), _titles={'0': 'Youtube', '1': 'Bilibili'})"
            ]
          },
          "metadata": {
            "tags": []
          }
        }
      ]
    },
    {
      "cell_type": "markdown",
      "metadata": {
        "id": "n6WJkKp2u6QI"
      },
      "source": [
        "This video covers a 1D linear regression and mean squared error.\n",
        "\n",
        "<details>\n",
        "<summary> <font color='blue'>Click here for text recap of video </font></summary>\n",
        "\n",
        "**Linear least squares regression** is an old but gold  optimization procedure that we are going to use for data fitting. Least squares (LS) optimization problems are those in which the objective function is a quadratic function of the\n",
        "parameter(s) being optimized.\n",
        "\n",
        "Suppose you have a set of measurements: for each data point or measurement, you have $y_{i}$ (the \"dependent\" variable) obtained for a different input value, $x_{i}$ (the \"independent\" or \"explanatory\" variable).  Suppose we believe the measurements are proportional to the input values, but are corrupted by some (random) measurement errors, $\\epsilon_{i}$, that is:\n",
        "\n",
        "\\begin{align}\n",
        "y_{i}= \\theta x_{i}+\\epsilon_{i}\n",
        "\\end{align}\n",
        "\n",
        "for some unknown slope parameter $\\theta.$ The least squares regression problem uses **mean squared error (MSE)** as its objective function, it aims to find the value of the parameter $\\theta$ by minimizing the average of squared errors:\n",
        "\n",
        "\\begin{align}\n",
        "\\min _{\\theta} \\frac{1}{N}\\sum_{i=1}^{N}\\left(y_{i}-\\theta x_{i}\\right)^{2}\n",
        "\\end{align}"
      ]
    },
    {
      "cell_type": "markdown",
      "metadata": {
        "id": "xcu0D8GOu6QJ"
      },
      "source": [
        "We will now explore how MSE is used in fitting a linear regression model to data. For illustrative purposes, we will create a simple synthetic dataset where we know the true underlying model. This will allow us to see how our estimation efforts compare in uncovering the real model (though in practice we rarely have this luxury).\n",
        "\n",
        "First we will generate some noisy samples $x$ from [0, 10) along the line $y = 1.2x$ as our dataset we wish to fit a model to."
      ]
    },
    {
      "cell_type": "code",
      "metadata": {
        "cellView": "form",
        "execution": {
          "iopub.execute_input": "2021-07-04T05:19:05.378408Z",
          "iopub.status.busy": "2021-07-04T05:19:05.377727Z",
          "iopub.status.idle": "2021-07-04T05:19:05.673550Z",
          "shell.execute_reply": "2021-07-04T05:19:05.673049Z"
        },
        "id": "vHoBV8uAu6QJ",
        "outputId": "98f0dbc9-7d39-48e3-f96d-3e611b2efc55",
        "colab": {
          "base_uri": "https://localhost:8080/",
          "height": 430
        }
      },
      "source": [
        "# @title\n",
        "\n",
        "# @markdown Execute this cell to generate some simulated data\n",
        "\n",
        "# setting a fixed seed to our random number generator ensures we will always\n",
        "# get the same psuedorandom number sequence\n",
        "np.random.seed(121)\n",
        "\n",
        "# Let's set some parameters\n",
        "theta = 1.2\n",
        "n_samples = 30\n",
        "\n",
        "# Draw x and then calculate y\n",
        "x = 10 * np.random.rand(n_samples)  # sample from a uniform distribution over [0,10)\n",
        "noise = np.random.randn(n_samples)  # sample from a standard normal distribution\n",
        "y = theta * x + noise\n",
        "\n",
        "# Plot the results\n",
        "fig, ax = plt.subplots()\n",
        "ax.scatter(x, y)  # produces a scatter plot\n",
        "ax.set(xlabel='x', ylabel='y');"
      ],
      "execution_count": 9,
      "outputs": [
        {
          "output_type": "display_data",
          "data": {
            "image/png": "[encoded data removed]",
            "text/plain": [
              "<Figure size 576x432 with 1 Axes>"
            ]
          },
          "metadata": {
            "tags": [],
            "image/png": {
              "width": 557,
              "height": 413
            },
            "needs_background": "light"
          }
        }
      ]
    },
    {
      "cell_type": "markdown",
      "metadata": {
        "id": "uXlG4-wbu6QJ"
      },
      "source": [
        "Now that we have our suitably noisy dataset, we can start trying to estimate the underlying model that produced it. We use MSE to evaluate how successful a particular slope estimate $\\hat{\\theta}$ is for explaining the data, with the closer to 0 the MSE is, the better our estimate fits the data."
      ]
    },
    {
      "cell_type": "markdown",
      "metadata": {
        "id": "o_1JUdgau6QK"
      },
      "source": [
        "## Coding Exercise 1: Compute MSE\n",
        "\n",
        "In this exercise you will implement a method to compute the mean squared error for a set of inputs $\\mathbf{x}$, measurements $\\mathbf{y}$, and slope estimate $\\hat{\\theta}$. Here, $\\mathbf{x}$ and $\\mathbf{y}$ are vectors of data points. We will then compute and print the mean squared error for 3 different choices of theta.\n",
        "\n",
        "As a reminder, the equation for computing the estimated y for a single data point is:\n",
        "\n",
        "$$\\hat{y}_{i}= \\theta x_{i}$$\n",
        "\n",
        "and for mean squared error is:\n",
        "\n",
        "\\begin{align}\n",
        "\\min _{\\theta} \\frac{1}{N}\\sum_{i=1}^{N}\\left(y_{i}-\\hat{y}_i\\right)^{2}\n",
        "\\end{align}"
      ]
    },
    {
      "cell_type": "code",
      "metadata": {
        "execution": {
          "iopub.execute_input": "2021-07-04T05:19:05.679690Z",
          "iopub.status.busy": "2021-07-04T05:19:05.678983Z",
          "iopub.status.idle": "2021-07-04T05:19:05.772338Z",
          "shell.execute_reply": "2021-07-04T05:19:05.770256Z"
        },
        "id": "pRRgUgyuu6QK",
        "outputId": "1391a658-1422-4d55-81ce-15f01ae14deb",
        "colab": {
          "base_uri": "https://localhost:8080/",
          "height": 328
        }
      },
      "source": [
        "def mse(x, y, theta_hat):\n",
        "  \"\"\"Compute the mean squared error\n",
        "\n",
        "  Args:\n",
        "    x (ndarray): An array of shape (samples,) that contains the input values.\n",
        "    y (ndarray): An array of shape (samples,) that contains the corresponding\n",
        "      measurement values to the inputs.\n",
        "    theta_hat (float): An estimate of the slope parameter\n",
        "\n",
        "  Returns:\n",
        "    float: The mean squared error of the data with the estimated parameter.\n",
        "  \"\"\"\n",
        "  ####################################################\n",
        "  ## TODO for students: compute the mean squared error\n",
        "  # Fill out function and remove\n",
        "  raise NotImplementedError(\"Student exercise: compute the mean squared error\")\n",
        "  ####################################################\n",
        "\n",
        "  # Compute the estimated y\n",
        "  y_hat = ...\n",
        "\n",
        "  # Compute mean squared error\n",
        "  mse = ...\n",
        "\n",
        "  return mse\n",
        "\n",
        "\n",
        "theta_hats = [0.75, 1.0, 1.5]\n",
        "for theta_hat in theta_hats:\n",
        "  print(f\"theta_hat of {theta_hat} has an MSE of {mse(x, y, theta_hat):.2f}\")"
      ],
      "execution_count": 7,
      "outputs": [
        {
          "output_type": "error",
          "ename": "NotImplementedError",
          "evalue": "ignored",
          "traceback": [
            "\u001b[0;31m---------------------------------------------------------------------------\u001b[0m",
            "\u001b[0;31mNotImplementedError\u001b[0m                       Traceback (most recent call last)",
            "\u001b[0;32m<ipython-input-7-d199c3729c47>\u001b[0m in \u001b[0;36m<module>\u001b[0;34m()\u001b[0m\n\u001b[1;32m     28\u001b[0m \u001b[0mtheta_hats\u001b[0m \u001b[0;34m=\u001b[0m \u001b[0;34m[\u001b[0m\u001b[0;36m0.75\u001b[0m\u001b[0;34m,\u001b[0m \u001b[0;36m1.0\u001b[0m\u001b[0;34m,\u001b[0m \u001b[0;36m1.5\u001b[0m\u001b[0;34m]\u001b[0m\u001b[0;34m\u001b[0m\u001b[0;34m\u001b[0m\u001b[0m\n\u001b[1;32m     29\u001b[0m \u001b[0;32mfor\u001b[0m \u001b[0mtheta_hat\u001b[0m \u001b[0;32min\u001b[0m \u001b[0mtheta_hats\u001b[0m\u001b[0;34m:\u001b[0m\u001b[0;34m\u001b[0m\u001b[0;34m\u001b[0m\u001b[0m\n\u001b[0;32m---> 30\u001b[0;31m   \u001b[0mprint\u001b[0m\u001b[0;34m(\u001b[0m\u001b[0;34mf\"theta_hat of {theta_hat} has an MSE of {mse(x, y, theta_hat):.2f}\"\u001b[0m\u001b[0;34m)\u001b[0m\u001b[0;34m\u001b[0m\u001b[0;34m\u001b[0m\u001b[0m\n\u001b[0m",
            "\u001b[0;32m<ipython-input-7-d199c3729c47>\u001b[0m in \u001b[0;36mmse\u001b[0;34m(x, y, theta_hat)\u001b[0m\n\u001b[1;32m     14\u001b[0m   \u001b[0;31m## TODO for students: compute the mean squared error\u001b[0m\u001b[0;34m\u001b[0m\u001b[0;34m\u001b[0m\u001b[0;34m\u001b[0m\u001b[0m\n\u001b[1;32m     15\u001b[0m   \u001b[0;31m# Fill out function and remove\u001b[0m\u001b[0;34m\u001b[0m\u001b[0;34m\u001b[0m\u001b[0;34m\u001b[0m\u001b[0m\n\u001b[0;32m---> 16\u001b[0;31m   \u001b[0;32mraise\u001b[0m \u001b[0mNotImplementedError\u001b[0m\u001b[0;34m(\u001b[0m\u001b[0;34m\"Student exercise: compute the mean squared error\"\u001b[0m\u001b[0;34m)\u001b[0m\u001b[0;34m\u001b[0m\u001b[0;34m\u001b[0m\u001b[0m\n\u001b[0m\u001b[1;32m     17\u001b[0m   \u001b[0;31m####################################################\u001b[0m\u001b[0;34m\u001b[0m\u001b[0;34m\u001b[0m\u001b[0;34m\u001b[0m\u001b[0m\n\u001b[1;32m     18\u001b[0m \u001b[0;34m\u001b[0m\u001b[0m\n",
            "\u001b[0;31mNotImplementedError\u001b[0m: Student exercise: compute the mean squared error"
          ]
        }
      ]
    },
    {
      "cell_type": "code",
      "metadata": {
        "cellView": "both",
        "execution": {
          "iopub.execute_input": "2021-07-04T05:19:05.779271Z",
          "iopub.status.busy": "2021-07-04T05:19:05.778511Z",
          "iopub.status.idle": "2021-07-04T05:19:05.781569Z",
          "shell.execute_reply": "2021-07-04T05:19:05.781045Z"
        },
        "id": "NG8VDQ7tu6QK",
        "outputId": "81cedc65-1f6d-431f-f9d5-a929a0e71b6a",
        "colab": {
          "base_uri": "https://localhost:8080/",
          "height": 204
        }
      },
      "source": [
        "# to_remove solution\n",
        "def mse(x, y, theta_hat):\n",
        "  \"\"\"Compute the mean squared error\n",
        "\n",
        "  Args:\n",
        "    x (ndarray): An array of shape (samples,) that contains the input values.\n",
        "    y (ndarray): An array of shape (samples,) that contains the corresponding\n",
        "      measurement values to the inputs.\n",
        "    theta_hat (float): An estimate of the slope parameter\n",
        "\n",
        "  Returns:\n",
        "    float: The mean squared error of the data with the estimated parameter.\n",
        "  \"\"\"\n",
        "\n",
        "  # Compute the estimated y\n",
        "  y_hat = theta_hat * x\n",
        "\n",
        "  # Compute mean squared error\n",
        "  mse = np.mean((y - y_hat)**2)\n",
        "\n",
        "  return mse\n",
        "\n",
        "\n",
        "theta_hats = [0.75, 1.0, 1.5]\n",
        "for theta_hat in theta_hats:\n",
        "  print(f\"theta_hat of {theta_hat} has an MSE of {mse(x, y, theta_hat):.2f}\")"
      ],
      "execution_count": 6,
      "outputs": [
        {
          "output_type": "error",
          "ename": "NameError",
          "evalue": "ignored",
          "traceback": [
            "\u001b[0;31m---------------------------------------------------------------------------\u001b[0m",
            "\u001b[0;31mNameError\u001b[0m                                 Traceback (most recent call last)",
            "\u001b[0;32m<ipython-input-6-6a8b9abcf875>\u001b[0m in \u001b[0;36m<module>\u001b[0;34m()\u001b[0m\n\u001b[1;32m     24\u001b[0m \u001b[0mtheta_hats\u001b[0m \u001b[0;34m=\u001b[0m \u001b[0;34m[\u001b[0m\u001b[0;36m0.75\u001b[0m\u001b[0;34m,\u001b[0m \u001b[0;36m1.0\u001b[0m\u001b[0;34m,\u001b[0m \u001b[0;36m1.5\u001b[0m\u001b[0;34m]\u001b[0m\u001b[0;34m\u001b[0m\u001b[0;34m\u001b[0m\u001b[0m\n\u001b[1;32m     25\u001b[0m \u001b[0;32mfor\u001b[0m \u001b[0mtheta_hat\u001b[0m \u001b[0;32min\u001b[0m \u001b[0mtheta_hats\u001b[0m\u001b[0;34m:\u001b[0m\u001b[0;34m\u001b[0m\u001b[0;34m\u001b[0m\u001b[0m\n\u001b[0;32m---> 26\u001b[0;31m   \u001b[0mprint\u001b[0m\u001b[0;34m(\u001b[0m\u001b[0;34mf\"theta_hat of {theta_hat} has an MSE of {mse(x, y, theta_hat):.2f}\"\u001b[0m\u001b[0;34m)\u001b[0m\u001b[0;34m\u001b[0m\u001b[0;34m\u001b[0m\u001b[0m\n\u001b[0m",
            "\u001b[0;31mNameError\u001b[0m: name 'x' is not defined"
          ]
        }
      ]
    },
    {
      "cell_type": "markdown",
      "metadata": {
        "id": "gPkL6qLnu6QK"
      },
      "source": [
        "The result should be:\n",
        "\n",
        "theta_hat of 0.75 has an MSE of 9.08\\\n",
        "theta_hat of 1.0 has an MSE of 3.0\\\n",
        "theta_hat of 1.5 has an MSE of 4.52\n",
        "\n",
        "\n",
        "\n"
      ]
    },
    {
      "cell_type": "markdown",
      "metadata": {
        "id": "S0Et5Pw_u6QL"
      },
      "source": [
        "We see that $\\hat{\\theta} = 1.0$ is our best estimate from the three we tried. Looking just at the raw numbers, however, isn't always satisfying, so let's visualize what our estimated model looks like over the data. \n",
        "\n"
      ]
    },
    {
      "cell_type": "code",
      "metadata": {
        "cellView": "form",
        "execution": {
          "iopub.execute_input": "2021-07-04T05:19:05.868210Z",
          "iopub.status.busy": "2021-07-04T05:19:05.787360Z",
          "iopub.status.idle": "2021-07-04T05:19:06.735344Z",
          "shell.execute_reply": "2021-07-04T05:19:06.735882Z"
        },
        "id": "tyQLVQDYu6QL",
        "outputId": "cbf2f0f4-0576-48c6-819e-4d2c2b7e2778",
        "colab": {
          "base_uri": "https://localhost:8080/",
          "height": 303
        }
      },
      "source": [
        "#@title\n",
        "\n",
        "#@markdown Execute this cell to visualize estimated models\n",
        "\n",
        "fig, axes = plt.subplots(ncols=3, figsize=(18, 4))\n",
        "for theta_hat, ax in zip(theta_hats, axes):\n",
        "\n",
        "  # True data\n",
        "  ax.scatter(x, y, label='Observed')  # our data scatter plot\n",
        "\n",
        "  # Compute and plot predictions\n",
        "  y_hat = theta_hat * x\n",
        "  ax.plot(x, y_hat, color='r', label='Fit')  # our estimated model\n",
        "\n",
        "  ax.set(\n",
        "      title= fr'$\\hat{{\\theta}}$= {theta_hat}, MSE = {mse(x, y, theta_hat):.2f}',\n",
        "      xlabel='x',\n",
        "      ylabel='y'\n",
        "  );\n",
        "\n",
        "axes[0].legend()"
      ],
      "execution_count": 9,
      "outputs": [
        {
          "output_type": "execute_result",
          "data": {
            "text/plain": [
              "<matplotlib.legend.Legend at 0x7fb28d54bd10>"
            ]
          },
          "metadata": {
            "tags": []
          },
          "execution_count": 9
        },
        {
          "output_type": "display_data",
          "data": {
            "image/png": "[encoded data removed]",
            "text/plain": [
              "<Figure size 1296x288 with 3 Axes>"
            ]
          },
          "metadata": {
            "tags": [],
            "image/png": {
              "width": 1277,
              "height": 269
            },
            "needs_background": "light"
          }
        }
      ]
    },
    {
      "cell_type": "markdown",
      "metadata": {
        "id": "_LCfaWQvu6QL"
      },
      "source": [
        "## Interactive Demo 1: MSE Explorer\n",
        "\n",
        "Using an interactive widget, we can easily see how changing our slope estimate changes our model fit. We display the **residuals**, the differences between observed and predicted data, as line segments between the data point (observed response) and the corresponding predicted response on the model fit line.\n",
        "\n",
        "- What value of $\\hat{\\theta}$ results in the lowest MSE?\n",
        "- Is this a good way of estimating $\\theta$?\n"
      ]
    },
    {
      "cell_type": "code",
      "metadata": {
        "cellView": "form",
        "execution": {
          "iopub.execute_input": "2021-07-04T05:19:06.760723Z",
          "iopub.status.busy": "2021-07-04T05:19:06.757499Z",
          "iopub.status.idle": "2021-07-04T05:19:07.133074Z",
          "shell.execute_reply": "2021-07-04T05:19:07.133988Z"
        },
        "id": "-1ipOHddu6QL",
        "outputId": "688fc5aa-6ce3-4f66-fea7-274bca15cd60",
        "colab": {
          "base_uri": "https://localhost:8080/",
          "height": 462,
          "referenced_widgets": [
            "f658b715e13440e9b2b0a4dc3a129555",
            "cd155715c7054756a1353baf01edf910",
            "2fb40c1acc014459a198567958429ab9",
            "693dfd6ffb3b41bfb7e5d6a3c4003237",
            "eb4f9b0065564658bc65925070a942b1",
            "46f685cb31564f3eaba9e40b080143ae",
            "f35e871d2de34db8a35f70fec3a5d158"
          ]
        }
      },
      "source": [
        "#@title\n",
        "\n",
        "#@markdown Make sure you execute this cell to enable the widget!\n",
        "\n",
        "@widgets.interact(theta_hat=widgets.FloatSlider(1.0, min=0.0, max=2.0))\n",
        "def plot_data_estimate(theta_hat):\n",
        "  y_hat = theta_hat * x\n",
        "  plot_observed_vs_predicted(x, y, y_hat, theta_hat)"
      ],
      "execution_count": 10,
      "outputs": [
        {
          "output_type": "display_data",
          "data": {
            "application/vnd.jupyter.widget-view+json": {
              "model_id": "f658b715e13440e9b2b0a4dc3a129555",
              "version_minor": 0,
              "version_major": 2
            },
            "text/plain": [
              "interactive(children=(FloatSlider(value=1.0, description='theta_hat', max=2.0), Output()), _dom_classes=('widg…"
            ]
          },
          "metadata": {
            "tags": []
          }
        }
      ]
    },
    {
      "cell_type": "code",
      "metadata": {
        "execution": {
          "iopub.execute_input": "2021-07-04T05:19:07.139427Z",
          "iopub.status.busy": "2021-07-04T05:19:07.138779Z",
          "iopub.status.idle": "2021-07-04T05:19:07.144537Z",
          "shell.execute_reply": "2021-07-04T05:19:07.145315Z"
        },
        "id": "OSih588Du6QL"
      },
      "source": [
        "# to_remove explanation\n",
        "\n",
        "\"\"\"\n",
        "1. Theta_hat = 1.2 results in the minimum MSE\n",
        "2. No, this is really inefficient - we do not want to fit models by changing parameters\n",
        "on a slider!\n",
        "\"\"\""
      ],
      "execution_count": null,
      "outputs": []
    },
    {
      "cell_type": "markdown",
      "metadata": {
        "id": "EC5uvktJu6QL"
      },
      "source": [
        "While visually exploring several estimates can be instructive, it's not the most efficient for finding the best estimate to fit our data. Another technique we can use is choose a reasonable range of parameter values and compute the MSE at several values in that interval. This allows us to plot the error against the parameter value (this is also called an **error landscape**, especially when we deal with more than one parameter). We can select the final $\\hat{\\theta}$  ($\\hat{\\theta}_\\textrm{MSE}$) as the one which results in the lowest error."
      ]
    },
    {
      "cell_type": "code",
      "metadata": {
        "cellView": "form",
        "execution": {
          "iopub.execute_input": "2021-07-04T05:19:07.188224Z",
          "iopub.status.busy": "2021-07-04T05:19:07.184352Z",
          "iopub.status.idle": "2021-07-04T05:19:07.584074Z",
          "shell.execute_reply": "2021-07-04T05:19:07.582889Z"
        },
        "id": "VCQyOukwu6QM",
        "outputId": "8636d7fb-6100-4fdf-baf1-7150ba7c1a86",
        "colab": {
          "base_uri": "https://localhost:8080/",
          "height": 430
        }
      },
      "source": [
        "# @title\n",
        "\n",
        "# @markdown Execute this cell to loop over theta_hats, compute MSE, and plot results\n",
        "\n",
        "# Loop over different thetas, compute MSE for each\n",
        "theta_hat_grid = np.linspace(-2.0, 4.0)\n",
        "errors = np.zeros(len(theta_hat_grid))\n",
        "for i, theta_hat in enumerate(theta_hat_grid):\n",
        "  errors[i] = mse(x, y, theta_hat)\n",
        "\n",
        "# Find theta that results in lowest error\n",
        "best_error = np.min(errors)\n",
        "theta_hat = theta_hat_grid[np.argmin(errors)]\n",
        "\n",
        "\n",
        "# Plot results\n",
        "fig, ax = plt.subplots()\n",
        "ax.plot(theta_hat_grid, errors, '-o', label='MSE', c='C1')\n",
        "ax.axvline(theta, color='g', ls='--', label=r\"$\\theta_{True}$\")\n",
        "ax.axvline(theta_hat, color='r', ls='-', label=r\"$\\hat{{\\theta}}_{MSE}$\")\n",
        "ax.set(\n",
        "  title=fr\"Best fit: $\\hat{{\\theta}}$ = {theta_hat:.2f}, MSE = {best_error:.2f}\",\n",
        "  xlabel=r\"$\\hat{{\\theta}}$\",\n",
        "  ylabel='MSE')\n",
        "ax.legend();"
      ],
      "execution_count": 11,
      "outputs": [
        {
          "output_type": "display_data",
          "data": {
            "image/png": "[encoded data removed]",
            "text/plain": [
              "<Figure size 576x432 with 1 Axes>"
            ]
          },
          "metadata": {
            "tags": [],
            "image/png": {
              "width": 558,
              "height": 413
            },
            "needs_background": "light"
          }
        }
      ]
    },
    {
      "cell_type": "markdown",
      "metadata": {
        "id": "jKmJDxtgu6QM"
      },
      "source": [
        "We can see that our best fit is $\\hat{\\theta}=1.18$ with an MSE of 1.45. This is quite close to the original true value $\\theta=1.2$!\n"
      ]
    },
    {
      "cell_type": "markdown",
      "metadata": {
        "id": "9rt1YMTXu6QM"
      },
      "source": [
        "---\n",
        "# Section 2: Least-squares optimization\n",
        "\n",
        "*Estimated timing to here from start of tutorial: 20 min*\n",
        "\n",
        "While the approach detailed above (computing MSE at various values of $\\hat\\theta$) quickly got us to a good estimate, it still relied on evaluating the MSE value across a grid of hand-specified values. If we didn't pick a good range to begin with, or with enough granularity, we might miss the best possible estimator. Let's go one step further, and instead of finding the minimum MSE from a set of candidate estimates, let's solve for it analytically.\n",
        "\n",
        "We can do this by minimizing the cost function. Mean squared error is a convex objective function, therefore we can compute its minimum using calculus. Please see video or Bonus Section 1 for this derivation! After computing the minimum, we find that:\n",
        "\n",
        "\\begin{align}\n",
        "\\hat\\theta = \\frac{\\mathbf{x}^\\top \\mathbf{y}}{\\mathbf{x}^\\top \\mathbf{x}}\n",
        "\\end{align}\n",
        "where $\\mathbf{x}$ and $\\mathbf{y}$ are vectors of data points.\n",
        "\n",
        "This is known as solving the normal equations. For different ways of obtaining the solution, see the notes on [Least Squares Optimization](https://www.cns.nyu.edu/~eero/NOTES/leastSquares.pdf) by Eero Simoncelli."
      ]
    },
    {
      "cell_type": "markdown",
      "metadata": {
        "id": "0J4WvJwIu6QM"
      },
      "source": [
        "## Coding Exercise 2: Solve for the Optimal Estimator\n",
        "\n",
        "In this exercise, you will write a function that finds the optimal $\\hat{\\theta}$ value using the least squares optimization approach (the equation above) to solve MSE minimization. It shoud take arguments $x$ and $y$ and return the solution $\\hat{\\theta}$.\n",
        "\n",
        "We will then use your function to compute $\\hat{\\theta}$ and plot the resulting prediction on top of the data. "
      ]
    },
    {
      "cell_type": "code",
      "metadata": {
        "execution": {
          "iopub.execute_input": "2021-07-04T05:19:07.598331Z",
          "iopub.status.busy": "2021-07-04T05:19:07.591978Z",
          "iopub.status.idle": "2021-07-04T05:19:07.604545Z",
          "shell.execute_reply": "2021-07-04T05:19:07.602645Z"
        },
        "id": "UelTTZggu6QM",
        "outputId": "1088f65e-8757-4ed9-a8e7-04a8b765674b",
        "colab": {
          "base_uri": "https://localhost:8080/",
          "height": 364
        }
      },
      "source": [
        "def solve_normal_eqn(x, y):\n",
        "  \"\"\"Solve the normal equations to produce the value of theta_hat that minimizes\n",
        "    MSE.\n",
        "\n",
        "    Args:\n",
        "    x (ndarray): An array of shape (samples,) that contains the input values.\n",
        "    y (ndarray): An array of shape (samples,) that contains the corresponding\n",
        "      measurement values to the inputs.\n",
        "\n",
        "  Returns:\n",
        "    float: the value for theta_hat arrived from minimizing MSE\n",
        "  \"\"\"\n",
        "\n",
        "  ################################################################################\n",
        "  ## TODO for students: solve for the best parameter using least squares\n",
        "  # Fill out function and remove\n",
        "  raise NotImplementedError(\"Student exercise: solve for theta_hat using least squares\")\n",
        "  ################################################################################\n",
        "\n",
        "  # Compute theta_hat analytically\n",
        "  theta_hat = ...\n",
        "\n",
        "  return theta_hat\n",
        "\n",
        "\n",
        "theta_hat = solve_normal_eqn(x, y)\n",
        "y_hat = theta_hat * x\n",
        "plot_observed_vs_predicted(x, y, y_hat, theta_hat)"
      ],
      "execution_count": 11,
      "outputs": [
        {
          "output_type": "error",
          "ename": "NotImplementedError",
          "evalue": "ignored",
          "traceback": [
            "\u001b[0;31m---------------------------------------------------------------------------\u001b[0m",
            "\u001b[0;31mNotImplementedError\u001b[0m                       Traceback (most recent call last)",
            "\u001b[0;32m<ipython-input-11-d437997f374f>\u001b[0m in \u001b[0;36m<module>\u001b[0;34m()\u001b[0m\n\u001b[1;32m     24\u001b[0m \u001b[0;34m\u001b[0m\u001b[0m\n\u001b[1;32m     25\u001b[0m \u001b[0;34m\u001b[0m\u001b[0m\n\u001b[0;32m---> 26\u001b[0;31m \u001b[0mtheta_hat\u001b[0m \u001b[0;34m=\u001b[0m \u001b[0msolve_normal_eqn\u001b[0m\u001b[0;34m(\u001b[0m\u001b[0mx\u001b[0m\u001b[0;34m,\u001b[0m \u001b[0my\u001b[0m\u001b[0;34m)\u001b[0m\u001b[0;34m\u001b[0m\u001b[0;34m\u001b[0m\u001b[0m\n\u001b[0m\u001b[1;32m     27\u001b[0m \u001b[0my_hat\u001b[0m \u001b[0;34m=\u001b[0m \u001b[0mtheta_hat\u001b[0m \u001b[0;34m*\u001b[0m \u001b[0mx\u001b[0m\u001b[0;34m\u001b[0m\u001b[0;34m\u001b[0m\u001b[0m\n\u001b[1;32m     28\u001b[0m \u001b[0mplot_observed_vs_predicted\u001b[0m\u001b[0;34m(\u001b[0m\u001b[0mx\u001b[0m\u001b[0;34m,\u001b[0m \u001b[0my\u001b[0m\u001b[0;34m,\u001b[0m \u001b[0my_hat\u001b[0m\u001b[0;34m,\u001b[0m \u001b[0mtheta_hat\u001b[0m\u001b[0;34m)\u001b[0m\u001b[0;34m\u001b[0m\u001b[0;34m\u001b[0m\u001b[0m\n",
            "\u001b[0;32m<ipython-input-11-d437997f374f>\u001b[0m in \u001b[0;36msolve_normal_eqn\u001b[0;34m(x, y)\u001b[0m\n\u001b[1;32m     15\u001b[0m   \u001b[0;31m## TODO for students: solve for the best parameter using least squares\u001b[0m\u001b[0;34m\u001b[0m\u001b[0;34m\u001b[0m\u001b[0;34m\u001b[0m\u001b[0m\n\u001b[1;32m     16\u001b[0m   \u001b[0;31m# Fill out function and remove\u001b[0m\u001b[0;34m\u001b[0m\u001b[0;34m\u001b[0m\u001b[0;34m\u001b[0m\u001b[0m\n\u001b[0;32m---> 17\u001b[0;31m   \u001b[0;32mraise\u001b[0m \u001b[0mNotImplementedError\u001b[0m\u001b[0;34m(\u001b[0m\u001b[0;34m\"Student exercise: solve for theta_hat using least squares\"\u001b[0m\u001b[0;34m)\u001b[0m\u001b[0;34m\u001b[0m\u001b[0;34m\u001b[0m\u001b[0m\n\u001b[0m\u001b[1;32m     18\u001b[0m   \u001b[0;31m################################################################################\u001b[0m\u001b[0;34m\u001b[0m\u001b[0;34m\u001b[0m\u001b[0;34m\u001b[0m\u001b[0m\n\u001b[1;32m     19\u001b[0m \u001b[0;34m\u001b[0m\u001b[0m\n",
            "\u001b[0;31mNotImplementedError\u001b[0m: Student exercise: solve for theta_hat using least squares"
          ]
        }
      ]
    },
    {
      "cell_type": "code",
      "metadata": {
        "cellView": "both",
        "execution": {
          "iopub.execute_input": "2021-07-04T05:19:07.660661Z",
          "iopub.status.busy": "2021-07-04T05:19:07.609918Z",
          "iopub.status.idle": "2021-07-04T05:19:08.038448Z",
          "shell.execute_reply": "2021-07-04T05:19:08.037899Z"
        },
        "id": "wfjy70gru6QN",
        "outputId": "128c08bd-2595-4fc7-a720-34920d993c69",
        "colab": {
          "base_uri": "https://localhost:8080/",
          "height": 240
        }
      },
      "source": [
        "# to_remove solution\n",
        "def solve_normal_eqn(x, y):\n",
        "  \"\"\"Solve the normal equations to produce the value of theta_hat that minimizes\n",
        "    MSE.\n",
        "\n",
        "    Args:\n",
        "    x (ndarray): An array of shape (samples,) that contains the input values.\n",
        "    y (ndarray): An array of shape (samples,) that contains the corresponding\n",
        "      measurement values to the inputs.\n",
        "\n",
        "  Returns:\n",
        "    float: the value for theta_hat arrived from minimizing MSE\n",
        "  \"\"\"\n",
        "\n",
        "  # Compute theta_hat analytically\n",
        "  theta_hat = (x.T @ y) / (x.T @ x)\n",
        "\n",
        "  return theta_hat\n",
        "\n",
        "\n",
        "theta_hat = solve_normal_eqn(x, y)\n",
        "y_hat = theta_hat * x\n",
        "\n",
        "with plt.xkcd():\n",
        "  plot_observed_vs_predicted(x, y, y_hat, theta_hat)"
      ],
      "execution_count": 7,
      "outputs": [
        {
          "output_type": "error",
          "ename": "NameError",
          "evalue": "ignored",
          "traceback": [
            "\u001b[0;31m---------------------------------------------------------------------------\u001b[0m",
            "\u001b[0;31mNameError\u001b[0m                                 Traceback (most recent call last)",
            "\u001b[0;32m<ipython-input-7-f1e86c19bd95>\u001b[0m in \u001b[0;36m<module>\u001b[0;34m()\u001b[0m\n\u001b[1;32m     19\u001b[0m \u001b[0;34m\u001b[0m\u001b[0m\n\u001b[1;32m     20\u001b[0m \u001b[0;34m\u001b[0m\u001b[0m\n\u001b[0;32m---> 21\u001b[0;31m \u001b[0mtheta_hat\u001b[0m \u001b[0;34m=\u001b[0m \u001b[0msolve_normal_eqn\u001b[0m\u001b[0;34m(\u001b[0m\u001b[0mx\u001b[0m\u001b[0;34m,\u001b[0m \u001b[0my\u001b[0m\u001b[0;34m)\u001b[0m\u001b[0;34m\u001b[0m\u001b[0;34m\u001b[0m\u001b[0m\n\u001b[0m\u001b[1;32m     22\u001b[0m \u001b[0my_hat\u001b[0m \u001b[0;34m=\u001b[0m \u001b[0mtheta_hat\u001b[0m \u001b[0;34m*\u001b[0m \u001b[0mx\u001b[0m\u001b[0;34m\u001b[0m\u001b[0;34m\u001b[0m\u001b[0m\n\u001b[1;32m     23\u001b[0m \u001b[0;34m\u001b[0m\u001b[0m\n",
            "\u001b[0;31mNameError\u001b[0m: name 'x' is not defined"
          ]
        }
      ]
    },
    {
      "cell_type": "markdown",
      "metadata": {
        "id": "i0Zz2AgKu6QN"
      },
      "source": [
        "We see that the analytic solution produces an even better result than our grid search from before, producing $\\hat{\\theta} = 1.21$ with MSE = 1.43!"
      ]
    },
    {
      "cell_type": "markdown",
      "metadata": {
        "id": "GnjHze3Su6QN"
      },
      "source": [
        "---\n",
        "# Summary\n",
        "\n",
        "*Estimated timing of tutorial: 30 minutes*\n",
        "\n",
        "Linear least squares regression is an optimization procedure that can be used for data fitting:\n",
        "\n",
        "  - Task: predict a value for $y_i$ given $x_i$\n",
        "  - Performance measure: $\\textrm{MSE}$\n",
        "  - Procedure: minimize $\\textrm{MSE}$ by solving the normal equations\n",
        "\n",
        "**Key point**: We fit the model by defining an *objective function* and minimizing it. \n",
        "\n",
        "**Note**: In this case, there is an *analytical* solution to the minimization problem and in practice, this solution can be computed using *linear algebra*. This is *extremely* powerful and forms the basis for much of numerical computation throughout the sciences."
      ]
    },
    {
      "cell_type": "markdown",
      "metadata": {
        "id": "o6e2NvNVu6QN"
      },
      "source": [
        "# Notation\n",
        "\\begin{align}\n",
        "x_{i} &\\quad \\text{input, independent variable}\\\\\n",
        "y_{i} &\\quad \\text{measurement, dependent variable}\\\\\n",
        "\\mathbf{x} &\\quad \\text{vector of input values}\\\\\n",
        "\\mathbf{y} &\\quad \\text{vector of measurements}\\\\\n",
        "\\hat{y}_{i} &\\quad \\text{estimate of dependent variable}\\\\\n",
        "\\epsilon_{i} &\\quad \\text{measurement error}\\\\\n",
        "\\theta &\\quad \\text{slope parameter}\\\\\n",
        "\\hat{\\theta} &\\quad \\text{estimated slope parameter}\\\\\n",
        "\\hat{\\theta}_\\text{MSE} &\\quad \\text{slope parameter estimated via the mean squared error}\\\\\n",
        "\\textrm{MSE} &\\quad \\text{mean squared error}\\\\\n",
        "\\end{align}"
      ]
    },
    {
      "cell_type": "markdown",
      "metadata": {
        "id": "D5_sOPdIu6QO"
      },
      "source": [
        "---\n",
        "# Bonus"
      ]
    },
    {
      "cell_type": "markdown",
      "metadata": {
        "id": "VU0OKLVVu6QO"
      },
      "source": [
        "---\n",
        "## Bonus Section 1: Least Squares Optimization Derivation\n",
        "\n",
        "We will outline here the derivation of the least squares solution.\n",
        "\n",
        "We first set the derivative of the error expression with respect to $\\theta$ equal to zero, \n",
        "\n",
        "\\begin{align}\n",
        "\\frac{d}{d\\theta}\\frac{1}{N}\\sum_{i=1}^N(y_i - \\theta x_i)^2 = 0 \\\\\n",
        "\\frac{1}{N}\\sum_{i=1}^N-2x_i(y_i - \\theta x_i) = 0\n",
        "\\end{align}\n",
        "\n",
        "where we used the chain rule. Now solving for $\\theta$, we obtain an optimal value of:\n",
        "\n",
        "\\begin{align}\n",
        "\\hat\\theta = \\frac{\\sum_{i=1}^N x_i y_i}{\\sum_{i=1}^N x_i^2}\n",
        "\\end{align}\n",
        "\n",
        "Which we can write in vector notation as:\n",
        "\n",
        "\\begin{align}\n",
        "\\hat\\theta = \\frac{\\mathbf{x}^\\top \\mathbf{y}}{\\mathbf{x}^\\top \\mathbf{x}}\n",
        "\\end{align}\n",
        "\n",
        "\n",
        "This is known as solving the *normal equations*. For different ways of obtaining the solution, see the notes on [Least Squares Optimization](https://www.cns.nyu.edu/~eero/NOTES/leastSquares.pdf) by Eero Simoncelli."
      ]
    }
  ]
}