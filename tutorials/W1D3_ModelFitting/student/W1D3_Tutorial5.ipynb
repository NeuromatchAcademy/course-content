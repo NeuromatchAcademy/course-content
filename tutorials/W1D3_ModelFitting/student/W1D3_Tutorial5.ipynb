{
 "cells": [
  {
   "cell_type": "markdown",
   "metadata": {
    "colab_type": "text",
    "id": "view-in-github"
   },
   "source": [
    "<a href=\"https://colab.research.google.com/github/NeuromatchAcademy/course-content/blob/master/tutorials/W1D3-ModelFitting/student/W1D3_Tutorial5.ipynb\" target=\"_parent\"><img src=\"https://colab.research.google.com/assets/colab-badge.svg\" alt=\"Open In Colab\"/></a>"
   ]
  },
  {
   "cell_type": "markdown",
   "metadata": {
    "colab_type": "text",
    "id": "fDXAYdIHuyCV"
   },
   "source": [
    "\n",
    "# Neuromatch Academy: Week 1, Day 3, Tutorial 5\n",
    "# Model Fitting: Polynomial regression \n"
   ]
  },
  {
   "cell_type": "markdown",
   "metadata": {
    "colab_type": "text",
    "id": "gzAa0I1xZ79h"
   },
   "source": [
    "#Tutorial Objectives\n",
    "\n",
    "This is Tutorial 5 of a series on fitting models to data. We start with simple linear regression, using least squares optimization (Tutorial 1) and Maximum Likelihood Estimation (Tutorial 2). We will use bootstrapping to build confidence intervals around the inferred linear model parameters (Tutorial 3). We'll finish our exploration of linear models by  generalizing to multiple linear regression (Tutorial 4). We then move on to polynomial regression (Tutorial 5). We end by learning how to choose between these various models. We discuss the bias-variance trade-off (Tutorial 6) and two common methods for model selection, AIC and Cross Validation (Tutorial 7).  \n",
    "\n",
    "In this tutorial, we will learn about a new model, polynomial regression, which is an extension of linear regression.\n",
    "\n",
    "*   Learn how to structure our inputs for polynomial regression\n",
    "*   Fit polynomial regression models of different complexity\n",
    "* Plot and evaluate the polynomial regression fits\n",
    "\n"
   ]
  },
  {
   "cell_type": "code",
   "execution_count": 1,
   "metadata": {
    "cellView": "form",
    "colab": {
     "base_uri": "https://localhost:8080/",
     "height": 518
    },
    "colab_type": "code",
    "id": "ThcPwgvzvV-6",
    "outputId": "a3f9ce7c-2688-4f65-a8c0-e034c259c2a2"
   },
   "outputs": [
    {
     "name": "stdout",
     "output_type": "stream",
     "text": [
      "Video available at https://youtu.be/fGPSAjF2plofGPSAjF2plo\n"
     ]
    },
    {
     "data": {
      "image/jpeg": "[encoded data removed]",
      "text/html": [
       "\n",
       "        <iframe\n",
       "            width=\"854\"\n",
       "            height=\"480\"\n",
       "            src=\"https://www.youtube.com/embed/fGPSAjF2plo?fs=1\"\n",
       "            frameborder=\"0\"\n",
       "            allowfullscreen\n",
       "        ></iframe>\n",
       "        "
      ],
      "text/plain": [
       "<IPython.lib.display.YouTubeVideo at 0x7f30cc070810>"
      ]
     },
     "execution_count": 1,
     "metadata": {},
     "output_type": "execute_result"
    }
   ],
   "source": [
    "#@title Video Polynomial Regression\n",
    "from IPython.display import YouTubeVideo\n",
    "video = YouTubeVideo(id=\"fGPSAjF2plo\", width=854, height=480, fs=1)\n",
    "print(\"Video available at https://youtu.be/fGPSAjF2plo\" + video.id)\n",
    "video\n"
   ]
  },
  {
   "cell_type": "markdown",
   "metadata": {
    "colab_type": "text",
    "id": "V0iDJGBMzbMQ"
   },
   "source": [
    "# Setup"
   ]
  },
  {
   "cell_type": "code",
   "execution_count": 2,
   "metadata": {
    "cellView": "form",
    "colab": {},
    "colab_type": "code",
    "id": "3Yuh005kCT0v"
   },
   "outputs": [],
   "source": [
    "#@title  Imports\n",
    "import numpy as np\n",
    "import matplotlib.pyplot as plt\n",
    "from sklearn.model_selection import KFold\n",
    "%matplotlib inline"
   ]
  },
  {
   "cell_type": "code",
   "execution_count": 3,
   "metadata": {
    "cellView": "form",
    "colab": {},
    "colab_type": "code",
    "id": "PCOz4jKJXGya"
   },
   "outputs": [],
   "source": [
    "#@title Figure Settings\n",
    "%matplotlib inline\n",
    "fig_w, fig_h = (8, 6)\n",
    "plt.rcParams.update({'figure.figsize': (fig_w, fig_h)})\n",
    "%config InlineBackend.figure_format = 'retina'"
   ]
  },
  {
   "cell_type": "code",
   "execution_count": 4,
   "metadata": {
    "cellView": "form",
    "colab": {},
    "colab_type": "code",
    "id": "vGVC4AWz41jD"
   },
   "outputs": [],
   "source": [
    "#@title Helper functions\n",
    "def ordinary_least_squares(x, y):\n",
    "  \"\"\"Ordinary least squares estimator for linear regression.\n",
    "\n",
    "  Args:\n",
    "    x (ndarray): design matrix of shape (n_samples, n_regressors)\n",
    "    y (ndarray): vecto\"r of measurements of shape (n_samples)\n",
    "  \n",
    "  Returns:\n",
    "    ndarray: estimated parameter values of shape (n_regressors)\n",
    "  \"\"\"\n",
    "  return np.linalg.inv(x.T @ x) @ x.T @ y\n"
   ]
  },
  {
   "cell_type": "markdown",
   "metadata": {
    "colab_type": "text",
    "id": "nULavCfq4o07"
   },
   "source": [
    "# Polynomial Regression"
   ]
  },
  {
   "cell_type": "markdown",
   "metadata": {
    "colab_type": "text",
    "id": "z8axuI6upLv4"
   },
   "source": [
    "So far today, you learned how to predict outputs from inputs by fitting a linear regression model. We can now model all sort of relationships, including in neuroscience! For example, you can fit a linear regression model to predict neural activity from the visual stimulus the mouse is viewing (neural encoding). \n",
    "\n",
    "One potential problem with this approach is the simplicity of the model. Linear regression, as the name implies, can only capture a linear relationship between the inputs and outputs. Put another way, the predicted outputs are only a weighted sum of the inputs. What if there are more complicated computations happening? Luckily, many more complex models exist (and you will encounter many more over the next 3 weeks). One model that is still very simple to fit and understand, but captures more complex relationships, is **polynomial regression**, an extension of linear regression.\n",
    "\n",
    "Since polynomial regression is an extension of linear regression, everything you learned so far will come in handy now! The goal is the same: we want to predict the dependent variable $y_{n}$ given the input values $x_{n}$. The key change is the type of relationship between inputs and outputs that the model can capture. \n",
    "\n",
    "Linear regression models predict the outputs as a weighted sum of the inputs:\n",
    "\n",
    "$$y_{n}= \\theta_0 + \\theta x_{n} + \\epsilon_{n}$$\n",
    "\n",
    "With polynomial regression, we model the outputs as a polynomial equation based on the inputs. In particular, we model the outputs as:\n",
    "\n",
    "$$y_{n}= \\theta_0 + \\theta_1 x_{n} + \\theta_2 x_{n}^2 + \\theta_3 x_{n}^3 + \\epsilon_{n}$$\n",
    "\n",
    "We can change how complex a polynomial is fit by changing the order of the polynomial. The order of a polynomial refers to the highest power in the polynomial. The equation above is a third order polynomial because the highest value x is raised to is 3. We could add another term ($+ \\theta_4 x_{n}^4$) to model an order 4 polynomial and so on.\n",
    "\n"
   ]
  },
  {
   "cell_type": "markdown",
   "metadata": {
    "colab_type": "text",
    "id": "j9n17gXFOIXX"
   },
   "source": [
    "## Data Generation"
   ]
  },
  {
   "cell_type": "markdown",
   "metadata": {
    "colab_type": "text",
    "id": "h2GFmAOaKYWp"
   },
   "source": [
    "First, we will simulate some data to practice fitting polynomial regression models. We will generate noisy samples $x$ and then compute y according to $y = x^2 - x - 2 $, with some extra noise to make the model fitting harder."
   ]
  },
  {
   "cell_type": "code",
   "execution_count": 5,
   "metadata": {
    "colab": {
     "base_uri": "https://localhost:8080/",
     "height": 386
    },
    "colab_type": "code",
    "id": "EcCbFWo0NO1i",
    "outputId": "23474df2-2cf5-42b5-c50b-0c91bdf23591"
   },
   "outputs": [
    {
     "data": {
      "image/png": "[encoded data removed]",
      "text/plain": [
       "<Figure size 576x432 with 1 Axes>"
      ]
     },
     "metadata": {
      "image/png": {
       "height": 370,
       "width": 496
      },
      "needs_background": "light"
     },
     "output_type": "display_data"
    }
   ],
   "source": [
    "# setting a fixed seed to our random number generator ensures we will always\n",
    "# get the same psuedorandom number sequence\n",
    "np.random.seed(0)\n",
    "n_samples = 50\n",
    "x = np.random.uniform(-2, 2.5, n_samples) # sample from a uniform distribution over [-2, 2.5)\n",
    "noise = np.random.randn(n_samples) # sample from a standard normal distribution\n",
    "y =  x**2 - x - 2 + noise\n",
    "\n",
    "fig, ax = plt.subplots()\n",
    "ax.scatter(x, y)  # produces a scatter plot\n",
    "ax.set(xlabel='x', ylabel='y'); "
   ]
  },
  {
   "cell_type": "markdown",
   "metadata": {
    "colab_type": "text",
    "id": "cSfqeVwMOLDo"
   },
   "source": [
    "## Design matrix for polynomial regression\n",
    "\n",
    "Now we have the basic idea of polynomial regression and some noisy data, let's begin! The key difference between fitting a linear regression model and a polynomial regression model lies in how we structure the input variables.  \n",
    "\n",
    "For linear regression, we used $X = x$ as the input data. To add a constant bias (a y-intercept in a 2-D plot), we use $X = \\big[ \\boldsymbol 1, x \\big]$, where $\\boldsymbol 1$ is a column of ones.  When fitting, we learn a weight for each column of this matrix. So we learn a weight that multiples with column 1 - in this case that column is all ones so we gain the bias parameter ($+ \\theta_0$). We also learn a weight for every column, or every feature of x, as we learned in the **Multiple Linear Regression** section in Part 1.\n",
    "\n",
    "This matrix $X$ that we use for our inputs is known as a **design matrix**. We want to create our design matrix so we learn weights for $x^2, x^3,$ etc. Thus, we want to build our design matrix $X$ for polynomial regression of order $k$ as:\n",
    "\n",
    "$$X = \\big[ \\boldsymbol 1 , x^1, x^2 , \\ldots , x^k \\big],$$\n",
    "\n",
    "where $\\boldsymbol{1}$ is the vector the same length as $x$ consisting of of all ones, and $x^p$ is the vector or matrix $x$ with all elements raised to the power $p$. Note that $\\boldsymbol{1} = x^0$ and $x^1 = x$ "
   ]
  },
  {
   "cell_type": "markdown",
   "metadata": {
    "colab_type": "text",
    "id": "ZosC4SmFQnhq"
   },
   "source": [
    "### Exercise: Structure design matrix\n",
    "\n",
    "Create a function (`make_design_matrix`) that structures the design matrix given the input data and the order of the polynomial you wish to fit"
   ]
  },
  {
   "cell_type": "code",
   "execution_count": 6,
   "metadata": {
    "colab": {},
    "colab_type": "code",
    "id": "0dYxSDmqQgAC"
   },
   "outputs": [],
   "source": [
    "def make_design_matrix(x, order):\n",
    "  \"\"\"Create the design matrix of inputs for use in polynomial regression\n",
    "  \n",
    "  Args:\n",
    "    x (ndarray): An array of shape (samples,) that contains the input values.\n",
    "    order (scalar): The order of the polynomial we want to fit\n",
    "\n",
    "  Returns:\n",
    "    numpy array: The design matrix containing x raised to different powers\n",
    "  \"\"\"\n",
    "  #################################################\n",
    "  ## TODO for students: create the design matrix ##\n",
    "  #################################################\n",
    "    # Broadcast to shape (n x 1) if shape (n, ) so this function generalizes to multiple inputs\n",
    "  if x.ndim == 1:\n",
    "    x = x[:,None]\n",
    "\n",
    "  #if x has more than one feature, we don't want multiple columns of ones so we assign\n",
    "  # x^0 here\n",
    "  design_matrix = np.ones((x.shape[0],1)) \n",
    "\n",
    "  # Loop through rest of degrees and stack columns (hint: np.hstack)\n",
    "  #for degree in range(1, order+1):\n",
    "      #design_matrix = YOUR CODE HERE\n",
    "\n",
    "  #comment this out when you've filled the function\n",
    "  raise NotImplementedError(\"Student excercise: create the design matrix\")\n",
    "  return design_matrix\n",
    "\n",
    "# Uncomment once the make_design_matrix function is complete\n",
    "max_order = 5\n",
    "# X_design = make_design_matrix(x, max_order)"
   ]
  },
  {
   "cell_type": "markdown",
   "metadata": {
    "colab_type": "text",
    "id": "CCgjdFzKTS2i"
   },
   "source": [
    "## Fitting polynomial regression models"
   ]
  },
  {
   "cell_type": "markdown",
   "metadata": {
    "colab_type": "text",
    "id": "Xxbt4Q3PVAlr"
   },
   "source": [
    "Now that we have the inputs structured correctly in our design matrix, fitting a polynomial regression is the same as fitting a linear regression model! All of the polynomial structure we need to learn is contained in how the inputs are structured in the design matrix. We can use the same least squares solution we computed in Tutorials 1 and 4. "
   ]
  },
  {
   "cell_type": "markdown",
   "metadata": {
    "colab_type": "text",
    "id": "mV8hG_BnU1rp"
   },
   "source": [
    "### Exercise: Fitting polynomial regression models with different orders "
   ]
  },
  {
   "cell_type": "markdown",
   "metadata": {
    "colab_type": "text",
    "id": "_ZK_LsJIU9WJ"
   },
   "source": [
    "Here, we will fit polynomial regression models to find the regression coefficients ($\\theta_0, \\theta_1, \\theta_2,$ ...) by solving the least squares problem. Create a function `solve_poly_reg` that loops over different order polynomials (up to `max_order`), fits that model, and saves out the weights for each. You may invoke the `ordinary_least_squares` function from Tutorial 4. "
   ]
  },
  {
   "cell_type": "code",
   "execution_count": 8,
   "metadata": {
    "colab": {},
    "colab_type": "code",
    "id": "G64aCHS0cCu4"
   },
   "outputs": [],
   "source": [
    "def solve_poly_reg(x, y, max_order):\n",
    "  \"\"\"Fit a polynomial regression model for each order 0 through max_order.\n",
    "  \n",
    "  Args:\n",
    "    x (ndarray): An array of shape (samples, ) that contains the input values \n",
    "    y (ndarray): An array of shape (samples, ) that contains the output values\n",
    "    max_order (scalar): The order of the polynomial we want to fit\n",
    "\n",
    "  Returns:\n",
    "    dict: Each entry has the order as the key and the values are that models fitted weights\n",
    "  \"\"\"\n",
    "\n",
    "  # Create a dictionary with polynomial order as keys, and np array of theta \n",
    "  # (weights) as the values\n",
    "  theta_hat = {}\n",
    "\n",
    "  # Loop over polynomial orders from 0 through max_order\n",
    "  for order in range(max_order+1):\n",
    "\n",
    "    ##################################################################################\n",
    "    ## TODO for students: Create design matrix and fit polynomial model for this order ##\n",
    "    ##################################################################################\n",
    "    #X = YOUR CODE HERE\n",
    "    #this_theta = YOUR CODE HERE\n",
    "    theta_hat[order] = this_theta\n",
    "\n",
    "    #uncomment when you've filled in the function\n",
    "    raise NotImplementedError(\"Student exercise: fit a polynomial model\")\n",
    "  \n",
    "\n",
    "  return theta_hat\n",
    "\n",
    "# Uncomment once the solve_poly_reg function is complete\n",
    "max_order = 5\n",
    "# theta_hat = solve_poly_reg(x, y, max_order)\n"
   ]
  },
  {
   "cell_type": "markdown",
   "metadata": {
    "colab_type": "text",
    "id": "ryWTZbPda8Qk"
   },
   "source": [
    "## Visualizing polynomial fits\n",
    "\n",
    "We've fit 5 different polynomials (orders 0-5) to our data. Let's qualitatively inspect the quality of our fits by plotting the fitted polynomials on top of the data. "
   ]
  },
  {
   "cell_type": "markdown",
   "metadata": {
    "colab_type": "text",
    "id": "E-VSovkEbufu"
   },
   "source": [
    "### Exercise: Plot polynomial fits\n",
    "\n",
    "In order to see smooth curves, you will have to evaluate the fitted polynomials on a grid of $x$ values (you can have them range between the largest and smallest of the inputs present in the dataset)."
   ]
  },
  {
   "cell_type": "code",
   "execution_count": 10,
   "metadata": {
    "colab": {
     "base_uri": "https://localhost:8080/",
     "height": 403
    },
    "colab_type": "code",
    "id": "VgJwDrpOVeKk",
    "outputId": "822b7195-48eb-4fb3-feb0-156c44aacb12"
   },
   "outputs": [
    {
     "data": {
      "image/png": "[encoded data removed]",
      "text/plain": [
       "<Figure size 576x432 with 1 Axes>"
      ]
     },
     "metadata": {
      "image/png": {
       "height": 386,
       "width": 496
      },
      "needs_background": "light"
     },
     "output_type": "display_data"
    }
   ],
   "source": [
    "################################################################################\n",
    "## TODO for students:\n",
    "# Get a range of x values between the smallest and largest values of the input \n",
    "################################################################################\n",
    "\n",
    "max_order = 5\n",
    "plt.figure()\n",
    "\n",
    "for order in range(0, max_order+1):\n",
    "  ################################################################################\n",
    "  ## TODO for students: For each order polynomial, create the design matrix and \n",
    "  ## compute the predicted y values given the previous fits. Plot each result\n",
    "  ################################################################################\n",
    "    #X_design = \n",
    "    #plt.plot(x_vec, np.dot(..., ....));\n",
    "\n",
    "  pass\n",
    "\n",
    "plt.ylabel('y')\n",
    "plt.xlabel('x')\n",
    "plt.plot(x, y, 'C0.');\n",
    "plt.legend([f'order {o}' for o in range(max_order)], loc=1)\n",
    "plt.title('polynomial fits');"
   ]
  },
  {
   "cell_type": "markdown",
   "metadata": {
    "cellView": "both",
    "colab": {
     "base_uri": "https://localhost:8080/",
     "height": 411
    },
    "colab_type": "text",
    "id": "1dVtueoyde4O",
    "outputId": "e956c524-cb98-4fb2-e3a9-dc474f01345c"
   },
   "source": [
    "**Example output:**\n",
    "\n",
    "![Solution hint](https://raw.githubusercontent.com/NeuromatchAcademy/course-content/master/tutorials/W1D3-ModelFitting/static/W1D3_Tutorial5_Solution_e8db9e7e_0.png)\n",
    "\n"
   ]
  },
  {
   "cell_type": "markdown",
   "metadata": {
    "colab_type": "text",
    "id": "Ll9fuWQNbmUr"
   },
   "source": [
    "## Evaluating fit quality\n",
    "\n",
    "As with linear regression, we can compute mean squared error (MSE) to get a sense of how well the model fits the data. \n",
    "\n",
    "We compute MSE as:\n",
    "\n",
    "$$ MSE = \\frac 1 N ||y - \\hat y||^2 = \\sum_{i=1}^N (y_i - \\hat y_i)^2 $$\n",
    "\n",
    "where the predicted values for each model are given by $ \\hat y = X \\hat \\theta$. \n",
    "\n",
    "*Which model (i.e. which polynomial order) do you think will have the best MSE?*"
   ]
  },
  {
   "cell_type": "markdown",
   "metadata": {
    "colab_type": "text",
    "id": "3G5hilDPjShB"
   },
   "source": [
    "### Exercise: Compute MSE and compare models\n",
    "\n",
    "We will compare the MSE for different polynomial orders with a bar plot."
   ]
  },
  {
   "cell_type": "code",
   "execution_count": 12,
   "metadata": {
    "colab": {},
    "colab_type": "code",
    "id": "VU3eO-mUjRem"
   },
   "outputs": [],
   "source": [
    "################################################################################\n",
    "## TODO for students: Loop over polynomial orders and:\n",
    "## 0) Get the design matrix\n",
    "## 1) Get predictions as you did in previous exercise\n",
    "## 2) Compute MSE\n",
    "## Should output mse, a numpy array of size(max_order+1,)) where each entry is the\n",
    "## MSE for that order polynomial model\n",
    "################################################################################\"\"\n",
    "##uncomment below and fill in with your code\n",
    "\n",
    "mse = np.zeros((max_order+1))\n",
    "#for order in range(0, max_order+1):\n",
    "  #X_design = \n",
    "  #y_hat = \n",
    "  #residuals = \n",
    "  #mse[order] = \n",
    "\n",
    "# Uncomment once above exercise is complete\n",
    "# with plt.xkcd():\n",
    "#   plt.bar(range(max_order+1), mse);\n",
    "#   plt.ylabel('MSE')\n",
    "#   plt.xlabel('polynomial order')\n",
    "#   plt.title('comparing polynomial fits');\n"
   ]
  },
  {
   "cell_type": "markdown",
   "metadata": {
    "cellView": "both",
    "colab": {
     "base_uri": "https://localhost:8080/",
     "height": 412
    },
    "colab_type": "text",
    "id": "44IHzzn3jAse",
    "outputId": "a4811d25-7a9a-4b65-eab4-8c02f0124b13"
   },
   "source": [
    "**Example output:**\n",
    "\n",
    "![Solution hint](https://raw.githubusercontent.com/NeuromatchAcademy/course-content/master/tutorials/W1D3-ModelFitting/static/W1D3_Tutorial5_Solution_341595ca_0.png)\n",
    "\n"
   ]
  },
  {
   "cell_type": "markdown",
   "metadata": {
    "colab_type": "text",
    "id": "_Z6vKsN89rN1"
   },
   "source": [
    "# Summary\n",
    "\n",
    "Polynomial regression is an extension of linear regression that can capture more complex patterns in the data.\n",
    "\n",
    "* To change from a linear regression model to a polynomial regression model, we only have to change how the input data is structured\n",
    "\n",
    "* We can choose the complexity of the model by changing the order of the polynomial model fit\n",
    "\n",
    "* Higher order polynomial models tend to have lower MSE on the data they're fit with"
   ]
  },
  {
   "cell_type": "code",
   "execution_count": null,
   "metadata": {
    "colab": {},
    "colab_type": "code",
    "id": "eVBcODAE9t95"
   },
   "outputs": [],
   "source": []
  }
 ],
 "metadata": {
  "colab": {
   "collapsed_sections": [],
   "include_colab_link": true,
   "name": "W1D3-ModelFitting-Tutorial5_v2.ipynb",
   "provenance": [],
   "toc_visible": true
  },
  "kernelspec": {
   "display_name": "Python 3",
   "language": "python",
   "name": "python3"
  },
  "language_info": {
   "codemirror_mode": {
    "name": "ipython",
    "version": 3
   },
   "file_extension": ".py",
   "mimetype": "text/x-python",
   "name": "python",
   "nbconvert_exporter": "python",
   "pygments_lexer": "ipython3",
   "version": "3.7.7"
  },
  "toc-autonumbering": true
 },
 "nbformat": 4,
 "nbformat_minor": 0
}
