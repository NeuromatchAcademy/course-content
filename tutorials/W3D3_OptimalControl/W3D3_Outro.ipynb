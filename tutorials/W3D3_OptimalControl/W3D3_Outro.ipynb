{
  "cells": [
    {
      "cell_type": "markdown",
      "metadata": {
        "id": "view-in-github",
        "colab_type": "text"
      },
      "source": [
        "<a href=\"https://colab.research.google.com/github/NeuromatchAcademy/course-content/blob/update-links-w2/tutorials/W3D3_OptimalControl/W3D3_Outro.ipynb\" target=\"_parent\"><img src=\"https://colab.research.google.com/assets/colab-badge.svg\" alt=\"Open In Colab\"/></a>"
      ]
    },
    {
      "cell_type": "markdown",
      "metadata": {
        "execution": {},
        "pycharm": {
          "name": "#%% md\n"
        },
        "id": "0Y7-eXSHw717"
      },
      "source": [
        "# Outro\n"
      ]
    },
    {
      "cell_type": "markdown",
      "metadata": {
        "execution": {},
        "id": "PRK84ENBw72C"
      },
      "source": [
        "**Our 2021 Sponsors, including Presenting Sponsor Facebook Reality Labs**\n",
        "\n",
        "<p align='center'><img src='https://github.com/NeuromatchAcademy/widgets/blob/master/sponsors.png?raw=True'/></p>"
      ]
    },
    {
      "cell_type": "markdown",
      "metadata": {
        "execution": {},
        "pycharm": {
          "name": "#%% md\n"
        },
        "id": "FkMNU_Eew72F"
      },
      "source": [
        "## Video"
      ]
    },
    {
      "cell_type": "code",
      "execution_count": 1,
      "metadata": {
        "cellView": "form",
        "execution": {},
        "pycharm": {
          "name": "#%%\n"
        },
        "id": "DuHxc4c3w72I",
        "outputId": "d7495234-54b4-4ac4-8dda-f7afec0691c2",
        "colab": {
          "base_uri": "https://localhost:8080/",
          "height": 582,
          "referenced_widgets": [
            "dc5f01a1a1e848869bcfc5a5a822ceb9",
            "05d091001bf349989ea91a77688378ad",
            "e5bc9ebdd2fa4ff0841cca75f1245132",
            "3c53a63900714eff82cd85472e088db6",
            "575e4afa49504abcaf00a89bd729fff0",
            "02f606cef5f64845b2903ca0891318b2"
          ]
        }
      },
      "outputs": [
        {
          "output_type": "display_data",
          "data": {
            "text/plain": [
              "Tab(children=(Output(), Output()), _titles={'0': 'Youtube', '1': 'Bilibili'})"
            ],
            "application/vnd.jupyter.widget-view+json": {
              "version_major": 2,
              "version_minor": 0,
              "model_id": "dc5f01a1a1e848869bcfc5a5a822ceb9"
            }
          },
          "metadata": {}
        }
      ],
      "source": [
        "# @markdown\n",
        "from ipywidgets import widgets\n",
        "\n",
        "out2 = widgets.Output()\n",
        "with out2:\n",
        "  from IPython.display import IFrame\n",
        "  class BiliVideo(IFrame):\n",
        "      def __init__(self, id, page=1, width=400, height=300, **kwargs):\n",
        "          self.id=id\n",
        "          src = \"https://player.bilibili.com/player.html?bvid={0}&page={1}\".format(id, page)\n",
        "          super(BiliVideo, self).__init__(src, width, height, **kwargs)\n",
        "\n",
        "  video = BiliVideo(id=f\"BV12h411o7wE\", width=854, height=480, fs=1)\n",
        "  print(\"Video available at https://www.bilibili.com/video/{0}\".format(video.id))\n",
        "  display(video)\n",
        "\n",
        "out1 = widgets.Output()\n",
        "with out1:\n",
        "  from IPython.display import YouTubeVideo\n",
        "  video = YouTubeVideo(id=f\"DZpWn0RFKU0\", width=854, height=480, fs=1, rel=0)\n",
        "  print(\"Video available at https://youtube.com/watch?v=\" + video.id)\n",
        "  display(video)\n",
        "\n",
        "out = widgets.Tab([out1, out2])\n",
        "out.set_title(0, 'Youtube')\n",
        "out.set_title(1, 'Bilibili')\n",
        "\n",
        "display(out)"
      ]
    },
    {
      "cell_type": "markdown",
      "metadata": {
        "execution": {},
        "id": "j5aG3rBXw72L"
      },
      "source": [
        "## Daily survey\n",
        "\n",
        "Don't forget to complete your reflections and content check in the daily survey! Please be patient after logging in as there is\n",
        "a small delay before you will be redirected to the survey.\n",
        "\n",
        "<a href=\"https://portal.neuromatchacademy.org/api/redirect/to/2aab36ec-f071-4b1b-9412-0eb4334bb65d\"><img src=\"https://github.com/NeuromatchAcademy/course-content/blob/master/tutorials/static/button.png?raw=1\" alt=\"button link to survey\" style=\"width:410px\"></a>"
      ]
    },
    {
      "cell_type": "markdown",
      "metadata": {
        "execution": {},
        "pycharm": {
          "name": "#%% md\n"
        },
        "id": "npkY622vw72M"
      },
      "source": [
        "## Slides"
      ]
    },
    {
      "cell_type": "code",
      "execution_count": 2,
      "metadata": {
        "cellView": "form",
        "execution": {},
        "pycharm": {
          "name": "#%%\n"
        },
        "id": "YUr2YVJXw72M",
        "outputId": "836984a9-26cc-4b7b-d8a9-7a3a8f576d38",
        "colab": {
          "base_uri": "https://localhost:8080/",
          "height": 503
        }
      },
      "outputs": [
        {
          "output_type": "execute_result",
          "data": {
            "text/plain": [
              "<IPython.lib.display.IFrame at 0x7fcd765936d0>"
            ],
            "text/html": [
              "\n",
              "        <iframe\n",
              "            width=\"854\"\n",
              "            height=\"480\"\n",
              "            src=\"https://mfr.ca-1.osf.io/render?url=https://osf.io/bs3ge/?direct%26mode=render%26action=download%26mode=render\"\n",
              "            frameborder=\"0\"\n",
              "            allowfullscreen\n",
              "        ></iframe>\n",
              "        "
            ]
          },
          "metadata": {},
          "execution_count": 2
        }
      ],
      "source": [
        "# @markdown\n",
        "from IPython.display import IFrame\n",
        "IFrame(src=f\"https://mfr.ca-1.osf.io/render?url=https://osf.io/bs3ge/?direct%26mode=render%26action=download%26mode=render\", width=854, height=480)"
      ]
    }
  ],
  "metadata": {
    "colab": {
      "collapsed_sections": [],
      "name": "W3D3_Outro",
      "provenance": [],
      "toc_visible": true,
      "include_colab_link": true
    },
    "kernel": {
      "display_name": "Python 3",
      "language": "python",
      "name": "python3"
    },
    "kernelspec": {
      "display_name": "Python 3",
      "language": "python",
      "name": "python3"
    },
    "language_info": {
      "codemirror_mode": {
        "name": "ipython",
        "version": 3
      },
      "file_extension": ".py",
      "mimetype": "text/x-python",
      "name": "python",
      "nbconvert_exporter": "python",
      "pygments_lexer": "ipython3",
      "version": "3.7.12"
    },
    "widgets": {
      "application/vnd.jupyter.widget-state+json": {
        "dc5f01a1a1e848869bcfc5a5a822ceb9": {
          "model_module": "@jupyter-widgets/controls",
          "model_name": "TabModel",
          "model_module_version": "1.5.0",
          "state": {
            "_dom_classes": [],
            "_model_module": "@jupyter-widgets/controls",
            "_model_module_version": "1.5.0",
            "_model_name": "TabModel",
            "_titles": {
              "0": "Youtube",
              "1": "Bilibili"
            },
            "_view_count": null,
            "_view_module": "@jupyter-widgets/controls",
            "_view_module_version": "1.5.0",
            "_view_name": "TabView",
            "box_style": "",
            "children": [
              "IPY_MODEL_05d091001bf349989ea91a77688378ad",
              "IPY_MODEL_e5bc9ebdd2fa4ff0841cca75f1245132"
            ],
            "layout": "IPY_MODEL_3c53a63900714eff82cd85472e088db6",
            "selected_index": 0
          }
        },
        "05d091001bf349989ea91a77688378ad": {
          "model_module": "@jupyter-widgets/output",
          "model_name": "OutputModel",
          "model_module_version": "1.0.0",
          "state": {
            "_dom_classes": [],
            "_model_module": "@jupyter-widgets/output",
            "_model_module_version": "1.0.0",
            "_model_name": "OutputModel",
            "_view_count": null,
            "_view_module": "@jupyter-widgets/output",
            "_view_module_version": "1.0.0",
            "_view_name": "OutputView",
            "layout": "IPY_MODEL_575e4afa49504abcaf00a89bd729fff0",
            "msg_id": "",
            "outputs": [
              {
                "output_type": "stream",
                "name": "stdout",
                "text": [
                  "Video available at https://youtube.com/watch?v=DZpWn0RFKU0\n"
                ]
              },
              {
                "output_type": "display_data",
                "data": {
                  "text/plain": "<IPython.lib.display.YouTubeVideo at 0x7fcd76593f50>",
                  "text/html": "\n        <iframe\n            width=\"854\"\n            height=\"480\"\n            src=\"https://www.youtube.com/embed/DZpWn0RFKU0?fs=1&rel=0\"\n            frameborder=\"0\"\n            allowfullscreen\n        ></iframe>\n        ",
                  "image/jpeg": "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\n"
                },
                "metadata": {}
              }
            ]
          }
        },
        "e5bc9ebdd2fa4ff0841cca75f1245132": {
          "model_module": "@jupyter-widgets/output",
          "model_name": "OutputModel",
          "model_module_version": "1.0.0",
          "state": {
            "_dom_classes": [],
            "_model_module": "@jupyter-widgets/output",
            "_model_module_version": "1.0.0",
            "_model_name": "OutputModel",
            "_view_count": null,
            "_view_module": "@jupyter-widgets/output",
            "_view_module_version": "1.0.0",
            "_view_name": "OutputView",
            "layout": "IPY_MODEL_02f606cef5f64845b2903ca0891318b2",
            "msg_id": "",
            "outputs": [
              {
                "output_type": "stream",
                "name": "stdout",
                "text": [
                  "Video available at https://www.bilibili.com/video/BV12h411o7wE\n"
                ]
              },
              {
                "output_type": "display_data",
                "data": {
                  "text/plain": "<__main__.BiliVideo at 0x7fcd76593e50>",
                  "text/html": "\n        <iframe\n            width=\"854\"\n            height=\"480\"\n            src=\"https://player.bilibili.com/player.html?bvid=BV12h411o7wE&page=1?fs=1\"\n            frameborder=\"0\"\n            allowfullscreen\n        ></iframe>\n        "
                },
                "metadata": {}
              }
            ]
          }
        },
        "3c53a63900714eff82cd85472e088db6": {
          "model_module": "@jupyter-widgets/base",
          "model_name": "LayoutModel",
          "model_module_version": "1.2.0",
          "state": {
            "_model_module": "@jupyter-widgets/base",
            "_model_module_version": "1.2.0",
            "_model_name": "LayoutModel",
            "_view_count": null,
            "_view_module": "@jupyter-widgets/base",
            "_view_module_version": "1.2.0",
            "_view_name": "LayoutView",
            "align_content": null,
            "align_items": null,
            "align_self": null,
            "border": null,
            "bottom": null,
            "display": null,
            "flex": null,
            "flex_flow": null,
            "grid_area": null,
            "grid_auto_columns": null,
            "grid_auto_flow": null,
            "grid_auto_rows": null,
            "grid_column": null,
            "grid_gap": null,
            "grid_row": null,
            "grid_template_areas": null,
            "grid_template_columns": null,
            "grid_template_rows": null,
            "height": null,
            "justify_content": null,
            "justify_items": null,
            "left": null,
            "margin": null,
            "max_height": null,
            "max_width": null,
            "min_height": null,
            "min_width": null,
            "object_fit": null,
            "object_position": null,
            "order": null,
            "overflow": null,
            "overflow_x": null,
            "overflow_y": null,
            "padding": null,
            "right": null,
            "top": null,
            "visibility": null,
            "width": null
          }
        },
        "575e4afa49504abcaf00a89bd729fff0": {
          "model_module": "@jupyter-widgets/base",
          "model_name": "LayoutModel",
          "model_module_version": "1.2.0",
          "state": {
            "_model_module": "@jupyter-widgets/base",
            "_model_module_version": "1.2.0",
            "_model_name": "LayoutModel",
            "_view_count": null,
            "_view_module": "@jupyter-widgets/base",
            "_view_module_version": "1.2.0",
            "_view_name": "LayoutView",
            "align_content": null,
            "align_items": null,
            "align_self": null,
            "border": null,
            "bottom": null,
            "display": null,
            "flex": null,
            "flex_flow": null,
            "grid_area": null,
            "grid_auto_columns": null,
            "grid_auto_flow": null,
            "grid_auto_rows": null,
            "grid_column": null,
            "grid_gap": null,
            "grid_row": null,
            "grid_template_areas": null,
            "grid_template_columns": null,
            "grid_template_rows": null,
            "height": null,
            "justify_content": null,
            "justify_items": null,
            "left": null,
            "margin": null,
            "max_height": null,
            "max_width": null,
            "min_height": null,
            "min_width": null,
            "object_fit": null,
            "object_position": null,
            "order": null,
            "overflow": null,
            "overflow_x": null,
            "overflow_y": null,
            "padding": null,
            "right": null,
            "top": null,
            "visibility": null,
            "width": null
          }
        },
        "02f606cef5f64845b2903ca0891318b2": {
          "model_module": "@jupyter-widgets/base",
          "model_name": "LayoutModel",
          "model_module_version": "1.2.0",
          "state": {
            "_model_module": "@jupyter-widgets/base",
            "_model_module_version": "1.2.0",
            "_model_name": "LayoutModel",
            "_view_count": null,
            "_view_module": "@jupyter-widgets/base",
            "_view_module_version": "1.2.0",
            "_view_name": "LayoutView",
            "align_content": null,
            "align_items": null,
            "align_self": null,
            "border": null,
            "bottom": null,
            "display": null,
            "flex": null,
            "flex_flow": null,
            "grid_area": null,
            "grid_auto_columns": null,
            "grid_auto_flow": null,
            "grid_auto_rows": null,
            "grid_column": null,
            "grid_gap": null,
            "grid_row": null,
            "grid_template_areas": null,
            "grid_template_columns": null,
            "grid_template_rows": null,
            "height": null,
            "justify_content": null,
            "justify_items": null,
            "left": null,
            "margin": null,
            "max_height": null,
            "max_width": null,
            "min_height": null,
            "min_width": null,
            "object_fit": null,
            "object_position": null,
            "order": null,
            "overflow": null,
            "overflow_x": null,
            "overflow_y": null,
            "padding": null,
            "right": null,
            "top": null,
            "visibility": null,
            "width": null
          }
        }
      }
    }
  },
  "nbformat": 4,
  "nbformat_minor": 0
}