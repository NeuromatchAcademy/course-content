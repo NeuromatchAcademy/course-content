{
  "cells": [
    {
      "cell_type": "markdown",
      "metadata": {
        "id": "view-in-github",
        "colab_type": "text"
      },
      "source": [
        "<a href=\"https://colab.research.google.com/github/NeuromatchAcademy/course-content/blob/optimal_intro/tutorials/W3D3_OptimalControl/W3D3_Intro.ipynb\" target=\"_parent\"><img src=\"https://colab.research.google.com/assets/colab-badge.svg\" alt=\"Open In Colab\"/></a>"
      ]
    },
    {
      "cell_type": "markdown",
      "metadata": {
        "execution": {},
        "pycharm": {
          "name": "#%% md\n"
        },
        "id": "wRTcJ5uDmz9E"
      },
      "source": [
        "# Intro"
      ]
    },
    {
      "cell_type": "markdown",
      "metadata": {
        "execution": {},
        "id": "Gm-230wlmz9H"
      },
      "source": [
        "<p align='center'><img src='https://github.com/NeuromatchAcademy/widgets/blob/master/sponsors.png?raw=True'/></p>"
      ]
    },
    {
      "cell_type": "markdown",
      "metadata": {
        "execution": {},
        "pycharm": {
          "name": "#%% md\n"
        },
        "id": "Tcb890vimz9H"
      },
      "source": [
        "## Overview\n",
        "\n",
        "Today you will learn about Optimal Control. Previously you used observations to draw inferences about a hidden state. Now you get to act. The Intro video teaches you about the formalism: you have a dynamic process that you get to act upon, and you choose your actions to maximize a utility function. The tutorials will continue to explore our two running examples, fishing and astrocat, for binary and gaussian variables. In the fishing example, you’ll use your Hidden Markov Models to figure out where the fish are, and then update your fishing location to catch the most fish. In the Astrocat example, you will learn to use the cat’s jetpack to keep the cat on target. Your core learning objective is to understand and implement algorithms to use your knowledge to select good actions. The Outro video talks about applications of these ideas to how you plan.\n",
        "\n",
        "Optimal Control combines ideas from the Hidden Dynamics lessons (which used Hidden Markov Models) with maximizing utility described in the Bayes day (which combined a posterior with a utility function). It also connects directly to later lessons in Reinforcement Learning, which learns how to control before you understand the world. In contrast, Optimal Control assumes that you already know how the world works.\n",
        "\n",
        "Optimal Control is a crucial model in motor neuroscience, because it provides a principled benchmark for how we expect an animal should move. It also is an important engineering method, used for brain-computer interfaces and clamping neurons to desired activity patterns."
      ]
    },
    {
      "cell_type": "markdown",
      "metadata": {
        "execution": {},
        "pycharm": {
          "name": "#%% md\n"
        },
        "id": "jbH0zZW-mz9I"
      },
      "source": [
        "## Video"
      ]
    },
    {
      "cell_type": "code",
      "execution_count": 1,
      "metadata": {
        "cellView": "form",
        "execution": {},
        "pycharm": {
          "name": "#%%\n"
        },
        "id": "WTJigB3Xmz9I",
        "outputId": "bcaeb98f-28ea-4385-9bef-8ec646afb180",
        "colab": {
          "base_uri": "https://localhost:8080/",
          "height": 581,
          "referenced_widgets": [
            "b9bdf69a5e98476299d6635a8c327862",
            "c36aca9a9fdd4274a2a68725426ccbaa",
            "089937d16fa44a3c85d94e4955c721df",
            "810c5836011e4b4c9d08a3a64d56d3cb",
            "718283bba46940a2b9a4795d9e629dc7",
            "27c5d3baa0ef47fe8be324eac40935b9"
          ]
        }
      },
      "outputs": [
        {
          "output_type": "display_data",
          "data": {
            "text/plain": [
              "Tab(children=(Output(), Output()), _titles={'0': 'Youtube', '1': 'Bilibili'})"
            ],
            "application/vnd.jupyter.widget-view+json": {
              "version_major": 2,
              "version_minor": 0,
              "model_id": "b9bdf69a5e98476299d6635a8c327862"
            }
          },
          "metadata": {}
        }
      ],
      "source": [
        "# @markdown\n",
        "from ipywidgets import widgets\n",
        "\n",
        "out2 = widgets.Output()\n",
        "with out2:\n",
        "  from IPython.display import IFrame\n",
        "  class BiliVideo(IFrame):\n",
        "    def __init__(self, id, page=1, width=400, height=300, **kwargs):\n",
        "      self.id=id\n",
        "      src = \"https://player.bilibili.com/player.html?bvid={0}&page={1}\".format(id, page)\n",
        "      super(BiliVideo, self).__init__(src, width, height, **kwargs)\n",
        "\n",
        "  video = BiliVideo(id=\"\", width=854, height=480, fs=1)\n",
        "  print(\"Video available at https://www.bilibili.com/video/{0}\".format(video.id))\n",
        "  display(video)\n",
        "\n",
        "out1 = widgets.Output()\n",
        "with out1:\n",
        "  from IPython.display import YouTubeVideo\n",
        "  video = YouTubeVideo(id=\"Ij8Rpq_fh7s\", width=854, height=480, fs=1, rel=0)\n",
        "  print(\"Video available at https://youtube.com/watch?v=\" + video.id)\n",
        "  display(video)\n",
        "\n",
        "out = widgets.Tab([out1, out2])\n",
        "out.set_title(0, 'Youtube')\n",
        "out.set_title(1, 'Bilibili')\n",
        "\n",
        "display(out)"
      ]
    },
    {
      "cell_type": "markdown",
      "metadata": {
        "execution": {},
        "pycharm": {
          "name": "#%% md\n"
        },
        "id": "69EVM0Ecmz9J"
      },
      "source": [
        "## Slides"
      ]
    },
    {
      "cell_type": "code",
      "execution_count": null,
      "metadata": {
        "cellView": "form",
        "execution": {},
        "pycharm": {
          "name": "#%%\n"
        },
        "id": "9KtrQ1q_mz9K"
      },
      "outputs": [],
      "source": [
        "# @markdown\n",
        "from IPython.display import IFrame\n",
        "IFrame(src=f\"https://mfr.ca-1.osf.io/render?url=https://osf.io/2uc6v/?direct%26mode=render%26action=download%26mode=render\", width=854, height=480)"
      ]
    }
  ],
  "metadata": {
    "colab": {
      "collapsed_sections": [],
      "name": "W3D3_Intro",
      "provenance": [],
      "toc_visible": true,
      "include_colab_link": true
    },
    "kernel": {
      "display_name": "Python 3",
      "language": "python",
      "name": "python3"
    },
    "kernelspec": {
      "display_name": "Python 3",
      "language": "python",
      "name": "python3"
    },
    "language_info": {
      "codemirror_mode": {
        "name": "ipython",
        "version": 3
      },
      "file_extension": ".py",
      "mimetype": "text/x-python",
      "name": "python",
      "nbconvert_exporter": "python",
      "pygments_lexer": "ipython3",
      "version": "3.7.13"
    },
    "widgets": {
      "application/vnd.jupyter.widget-state+json": {
        "b9bdf69a5e98476299d6635a8c327862": {
          "model_module": "@jupyter-widgets/controls",
          "model_name": "TabModel",
          "model_module_version": "1.5.0",
          "state": {
            "_dom_classes": [],
            "_model_module": "@jupyter-widgets/controls",
            "_model_module_version": "1.5.0",
            "_model_name": "TabModel",
            "_titles": {
              "0": "Youtube",
              "1": "Bilibili"
            },
            "_view_count": null,
            "_view_module": "@jupyter-widgets/controls",
            "_view_module_version": "1.5.0",
            "_view_name": "TabView",
            "box_style": "",
            "children": [
              "IPY_MODEL_c36aca9a9fdd4274a2a68725426ccbaa",
              "IPY_MODEL_089937d16fa44a3c85d94e4955c721df"
            ],
            "layout": "IPY_MODEL_810c5836011e4b4c9d08a3a64d56d3cb",
            "selected_index": 0
          }
        },
        "c36aca9a9fdd4274a2a68725426ccbaa": {
          "model_module": "@jupyter-widgets/output",
          "model_name": "OutputModel",
          "model_module_version": "1.0.0",
          "state": {
            "_dom_classes": [],
            "_model_module": "@jupyter-widgets/output",
            "_model_module_version": "1.0.0",
            "_model_name": "OutputModel",
            "_view_count": null,
            "_view_module": "@jupyter-widgets/output",
            "_view_module_version": "1.0.0",
            "_view_name": "OutputView",
            "layout": "IPY_MODEL_718283bba46940a2b9a4795d9e629dc7",
            "msg_id": "",
            "outputs": [
              {
                "output_type": "stream",
                "name": "stdout",
                "text": [
                  "Video available at https://youtube.com/watch?v=Ij8Rpq_fh7s\n"
                ]
              },
              {
                "output_type": "display_data",
                "data": {
                  "text/plain": "<IPython.lib.display.YouTubeVideo at 0x7fe07bba1410>",
                  "text/html": "\n        <iframe\n            width=\"854\"\n            height=\"480\"\n            src=\"https://www.youtube.com/embed/Ij8Rpq_fh7s?fs=1&rel=0\"\n            frameborder=\"0\"\n            allowfullscreen\n        ></iframe>\n        ",
                  "image/jpeg": "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\n"
                },
                "metadata": {}
              }
            ]
          }
        },
        "089937d16fa44a3c85d94e4955c721df": {
          "model_module": "@jupyter-widgets/output",
          "model_name": "OutputModel",
          "model_module_version": "1.0.0",
          "state": {
            "_dom_classes": [],
            "_model_module": "@jupyter-widgets/output",
            "_model_module_version": "1.0.0",
            "_model_name": "OutputModel",
            "_view_count": null,
            "_view_module": "@jupyter-widgets/output",
            "_view_module_version": "1.0.0",
            "_view_name": "OutputView",
            "layout": "IPY_MODEL_27c5d3baa0ef47fe8be324eac40935b9",
            "msg_id": "",
            "outputs": [
              {
                "output_type": "stream",
                "name": "stdout",
                "text": [
                  "Video available at https://www.bilibili.com/video/\n"
                ]
              },
              {
                "output_type": "display_data",
                "data": {
                  "text/plain": "<__main__.BiliVideo at 0x7fe079337ed0>",
                  "text/html": "\n        <iframe\n            width=\"854\"\n            height=\"480\"\n            src=\"https://player.bilibili.com/player.html?bvid=&page=1?fs=1\"\n            frameborder=\"0\"\n            allowfullscreen\n        ></iframe>\n        "
                },
                "metadata": {}
              }
            ]
          }
        },
        "810c5836011e4b4c9d08a3a64d56d3cb": {
          "model_module": "@jupyter-widgets/base",
          "model_name": "LayoutModel",
          "model_module_version": "1.2.0",
          "state": {
            "_model_module": "@jupyter-widgets/base",
            "_model_module_version": "1.2.0",
            "_model_name": "LayoutModel",
            "_view_count": null,
            "_view_module": "@jupyter-widgets/base",
            "_view_module_version": "1.2.0",
            "_view_name": "LayoutView",
            "align_content": null,
            "align_items": null,
            "align_self": null,
            "border": null,
            "bottom": null,
            "display": null,
            "flex": null,
            "flex_flow": null,
            "grid_area": null,
            "grid_auto_columns": null,
            "grid_auto_flow": null,
            "grid_auto_rows": null,
            "grid_column": null,
            "grid_gap": null,
            "grid_row": null,
            "grid_template_areas": null,
            "grid_template_columns": null,
            "grid_template_rows": null,
            "height": null,
            "justify_content": null,
            "justify_items": null,
            "left": null,
            "margin": null,
            "max_height": null,
            "max_width": null,
            "min_height": null,
            "min_width": null,
            "object_fit": null,
            "object_position": null,
            "order": null,
            "overflow": null,
            "overflow_x": null,
            "overflow_y": null,
            "padding": null,
            "right": null,
            "top": null,
            "visibility": null,
            "width": null
          }
        },
        "718283bba46940a2b9a4795d9e629dc7": {
          "model_module": "@jupyter-widgets/base",
          "model_name": "LayoutModel",
          "model_module_version": "1.2.0",
          "state": {
            "_model_module": "@jupyter-widgets/base",
            "_model_module_version": "1.2.0",
            "_model_name": "LayoutModel",
            "_view_count": null,
            "_view_module": "@jupyter-widgets/base",
            "_view_module_version": "1.2.0",
            "_view_name": "LayoutView",
            "align_content": null,
            "align_items": null,
            "align_self": null,
            "border": null,
            "bottom": null,
            "display": null,
            "flex": null,
            "flex_flow": null,
            "grid_area": null,
            "grid_auto_columns": null,
            "grid_auto_flow": null,
            "grid_auto_rows": null,
            "grid_column": null,
            "grid_gap": null,
            "grid_row": null,
            "grid_template_areas": null,
            "grid_template_columns": null,
            "grid_template_rows": null,
            "height": null,
            "justify_content": null,
            "justify_items": null,
            "left": null,
            "margin": null,
            "max_height": null,
            "max_width": null,
            "min_height": null,
            "min_width": null,
            "object_fit": null,
            "object_position": null,
            "order": null,
            "overflow": null,
            "overflow_x": null,
            "overflow_y": null,
            "padding": null,
            "right": null,
            "top": null,
            "visibility": null,
            "width": null
          }
        },
        "27c5d3baa0ef47fe8be324eac40935b9": {
          "model_module": "@jupyter-widgets/base",
          "model_name": "LayoutModel",
          "model_module_version": "1.2.0",
          "state": {
            "_model_module": "@jupyter-widgets/base",
            "_model_module_version": "1.2.0",
            "_model_name": "LayoutModel",
            "_view_count": null,
            "_view_module": "@jupyter-widgets/base",
            "_view_module_version": "1.2.0",
            "_view_name": "LayoutView",
            "align_content": null,
            "align_items": null,
            "align_self": null,
            "border": null,
            "bottom": null,
            "display": null,
            "flex": null,
            "flex_flow": null,
            "grid_area": null,
            "grid_auto_columns": null,
            "grid_auto_flow": null,
            "grid_auto_rows": null,
            "grid_column": null,
            "grid_gap": null,
            "grid_row": null,
            "grid_template_areas": null,
            "grid_template_columns": null,
            "grid_template_rows": null,
            "height": null,
            "justify_content": null,
            "justify_items": null,
            "left": null,
            "margin": null,
            "max_height": null,
            "max_width": null,
            "min_height": null,
            "min_width": null,
            "object_fit": null,
            "object_position": null,
            "order": null,
            "overflow": null,
            "overflow_x": null,
            "overflow_y": null,
            "padding": null,
            "right": null,
            "top": null,
            "visibility": null,
            "width": null
          }
        }
      }
    }
  },
  "nbformat": 4,
  "nbformat_minor": 0
}