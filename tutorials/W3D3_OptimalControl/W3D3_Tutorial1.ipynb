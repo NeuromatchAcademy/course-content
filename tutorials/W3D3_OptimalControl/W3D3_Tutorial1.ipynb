{
  "cells": [
    {
      "cell_type": "markdown",
      "metadata": {
        "id": "view-in-github",
        "colab_type": "text"
      },
      "source": [
        "<a href=\"https://colab.research.google.com/github/NeuromatchAcademy/course-content/blob/update_optimal/tutorials/W3D3_OptimalControl/W3D3_Tutorial1.ipynb\" target=\"_parent\"><img src=\"https://colab.research.google.com/assets/colab-badge.svg\" alt=\"Open In Colab\"/></a>"
      ]
    },
    {
      "cell_type": "markdown",
      "metadata": {
        "execution": {},
        "id": "DxgB2Cos8Juu"
      },
      "source": [
        "# Tutorial 1: Optimal Control for Discrete States\n",
        "**Week 3, Day 3: Optimal Control**\n",
        "\n",
        "**By Neuromatch Academy**\n",
        "\n",
        "__Content creators:__ Zhengwei Wu, Itzel Olivos Castillo, Shreya Saxena, Xaq Pitkow\n",
        "\n",
        "__Content reviewers:__ Karolina Stosio, Roozbeh Farhoodi, Saeed Salehi, Ella Batty, Spiros Chavlis, Matt Krause, Michael Waskom, Melisa Maidana Capitan"
      ]
    },
    {
      "cell_type": "markdown",
      "metadata": {
        "execution": {},
        "id": "VVIRx7Iv8Juw"
      },
      "source": [
        "**Our 2022 Sponsors, including Presenting Sponsor Facebook Reality Labs**\n",
        "\n",
        "<p align='center'><img src='https://github.com/NeuromatchAcademy/widgets/blob/master/sponsors.png?raw=True'/></p>"
      ]
    },
    {
      "cell_type": "markdown",
      "metadata": {
        "execution": {},
        "id": "bg1Yh_OD8Juw"
      },
      "source": [
        "---\n",
        "# Tutorial Objectives\n",
        "\n",
        "*Estimated timing of tutorial: X min*\n",
        "\n",
        "In this tutorial, we will implement a **binary control** task: a Partially Observable Markov Decision Process (POMDP) that describes fishing. The agent (you) seeks reward from two fishing sites without directly observing where the school of fish is (yes, a group of fish is called a school!). This makes the world a Hidden Markov Model (HMM), just like in the *Hidden Dynamics* day. Based on when and where you catch fish, you keep updating your belief about the fish location, _i.e._, the posterior of the fish given past observations. You should control your position to get the most fish while minimizing the cost of switching sides.\n",
        "\n",
        "You've already learned about stochastic dynamics, latent states, and measurements. These first exercises are largely repeats of your previous work. Now we introduce **actions**, based on the new concepts of **control, utility, and policy**. This general structure provides a foundational model for the brain's computations because it includes a perception-action loop where the animal can gather information, draw inferences about its environment, and select actions with the greatest benefit. *How*, mechanistically, the neurons could actually implement these calculations is a separate question we don't address in this lesson.\n",
        "\n",
        "In this tutorial, you will:\n",
        "* Use the Hidden Markov Models you learned about previously to model the world state.\n",
        "* Use the observations (fish caught) to build beliefs (posterior distributions) about the fish location.\n",
        "* Evaluate the quality of different control policies for choosing actions.\n",
        "* Discover the policy that maximizes utility."
      ]
    },
    {
      "cell_type": "code",
      "execution_count": 1,
      "metadata": {
        "cellView": "form",
        "colab": {
          "base_uri": "https://localhost:8080/",
          "height": 501
        },
        "id": "4HMNLJCX8Jux",
        "outputId": "1fe52ecd-1e59-423f-a72e-57288e154ae3",
        "tags": []
      },
      "outputs": [
        {
          "output_type": "execute_result",
          "data": {
            "text/plain": [
              "<IPython.lib.display.IFrame at 0x7f819006ed10>"
            ],
            "text/html": [
              "\n",
              "        <iframe\n",
              "            width=\"854\"\n",
              "            height=\"480\"\n",
              "            src=\"https://mfr.ca-1.osf.io/render?url=https://osf.io/8j5rs/?direct%26mode=render%26action=download%26mode=render\"\n",
              "            frameborder=\"0\"\n",
              "            allowfullscreen\n",
              "        ></iframe>\n",
              "        "
            ]
          },
          "metadata": {},
          "execution_count": 1
        }
      ],
      "source": [
        "# @title Tutorial slides\n",
        "\n",
        "# @markdown These are the slides for all videos in this tutorial.\n",
        "from IPython.display import IFrame\n",
        "IFrame(src=\"https://mfr.ca-1.osf.io/render?url=https://osf.io/8j5rs/?direct%26mode=render%26action=download%26mode=render\", width=854, height=480)"
      ]
    },
    {
      "cell_type": "markdown",
      "metadata": {
        "execution": {},
        "id": "1rKQCXx58Jux"
      },
      "source": [
        "---\n",
        "## Setup  \n",
        "\n"
      ]
    },
    {
      "cell_type": "code",
      "execution_count": 6,
      "metadata": {
        "id": "J4LZoZYO8Jux",
        "tags": []
      },
      "outputs": [],
      "source": [
        "# Imports\n",
        "import numpy as np\n",
        "import scipy\n",
        "from scipy.linalg import inv\n",
        "from math import isclose\n",
        "import matplotlib.pyplot as plt"
      ]
    },
    {
      "cell_type": "code",
      "execution_count": 7,
      "metadata": {
        "id": "fMwygELL8Juy",
        "tags": [],
        "cellView": "form"
      },
      "outputs": [],
      "source": [
        "# @title Figure Settings\n",
        "import ipywidgets as widgets\n",
        "from ipywidgets import interactive, interact, HBox, Layout, VBox\n",
        "from IPython.display import HTML\n",
        "%config InlineBackend.figure_format = 'retina'\n",
        "plt.style.use(\"https://raw.githubusercontent.com/NeuromatchAcademy/course-content/master/nma.mplstyle\")"
      ]
    },
    {
      "cell_type": "code",
      "execution_count": 8,
      "metadata": {
        "id": "o6QQOrpq8Juy",
        "tags": [],
        "cellView": "form"
      },
      "outputs": [],
      "source": [
        "# @title Plotting Functions\n",
        "\n",
        "def plot_fish(fish_state, ax=None):\n",
        "  \"\"\"\n",
        "  Plot the fish dynamics (states across time)\n",
        "  \"\"\"\n",
        "  T = len(fish_state)\n",
        "\n",
        "  offset = 3\n",
        "\n",
        "  if not ax:\n",
        "    fig, ax = plt.subplots(1, 1, figsize=(12, 3.5))\n",
        "\n",
        "  x = np.arange(0, T, 1)\n",
        "  y = offset * (fish_state*2 - 1)\n",
        "  \n",
        "  ax.plot(y, color='cornflowerblue', markersize=10, linewidth=3.0, zorder=0)  \n",
        "  ax.fill_between(x, y, color='cornflowerblue', alpha=.3)\n",
        "\n",
        "  ax.set_xlabel('time')\n",
        "  ax.set_ylabel('fish location')\n",
        "  \n",
        "  ax.set_xlim([0, T])\n",
        "  ax.set_xticks([])\n",
        "  ax.xaxis.set_label_coords(1.05, .54)\n",
        "  \n",
        "  ax.set_ylim([-(offset+.5), offset+.5])\n",
        "  ax.set_yticks([-offset, offset])\n",
        "  ax.set_yticklabels(['left', 'right'])  \n",
        "\n",
        "  ax.spines['bottom'].set_position('center')\n",
        "  # plt.savefig('fish_loc.pdf')\n",
        "\n",
        "\n",
        "def plot_measurement(measurement, ax=None):\n",
        "  \"\"\"\n",
        "  Plot the measurements\n",
        "  \"\"\"\n",
        "  T = len(measurement)\n",
        "\n",
        "  rel_pos = 3\n",
        "  red_y = []\n",
        "  blue_y = []\n",
        "  for idx, value in enumerate(measurement):\n",
        "    if value == 0:\n",
        "      blue_y.append([idx, -rel_pos])\n",
        "    else:\n",
        "      red_y.append([idx, rel_pos])\n",
        "\n",
        "  red_y = np.asarray(red_y)\n",
        "  blue_y = np.asarray(blue_y)\n",
        "  \n",
        "  if not ax:\n",
        "    fig, ax = plt.subplots(1, 1, figsize=(12, 3.5))\n",
        "  \n",
        "  if len(red_y) > 0:\n",
        "    ax.plot(red_y[:, 0], red_y[:, 1], '*', markersize=8, color='crimson')\n",
        "\n",
        "  if len(blue_y) > 0:\n",
        "    ax.plot(blue_y[:, 0], blue_y[:, 1], '*', markersize=8, color='royalblue')\n",
        "  \n",
        "  ax.set_xlabel('time', fontsize=18)\n",
        "  ax.set_ylabel('Caught fish?')\n",
        "  \n",
        "  ax.set_xlim([0, T])\n",
        "  ax.set_xticks([])\n",
        "  ax.xaxis.set_label_coords(1.05, .54)\n",
        "  \n",
        "  ax.set_ylim([-rel_pos - .5, rel_pos + .5])\n",
        "  ax.set_yticks([-rel_pos, rel_pos])\n",
        "  ax.set_yticklabels(['no', 'yes!'])  \n",
        "  \n",
        "  ax.spines['bottom'].set_position('center')\n",
        "  # plt.savefig('measurement.pdf')\n",
        "\n",
        "\n",
        "def plot_act_loc(loc, act, ax_loc=None):\n",
        "  \"\"\"\n",
        "  Plot the action and location of T time points\n",
        "  \"\"\"\n",
        "  T = len(act)\n",
        "\n",
        "  if not ax_loc:\n",
        "    fig, ax_loc = plt.subplots(1, 1, figsize=(12, 2.5))\n",
        "\n",
        "  loc = loc*2 - 1\n",
        "  act_down = []\n",
        "  act_up = []\n",
        "  for t in range(1, T):\n",
        "    if loc[t-1] == -1 and loc[t] == 1: \n",
        "      act_up.append([t - 0.5, 0])\n",
        "    if loc[t-1] == 1 and loc[t] == -1:  \n",
        "      act_down.append([t - 0.5, 0])\n",
        "  \n",
        "  act_down = np.array(act_down)\n",
        "  act_up = np.array(act_up)\n",
        "\n",
        "  ax_loc.plot(loc, 'g.-', markersize=8, linewidth=5)\n",
        "\n",
        "  if len(act_down) > 0:\n",
        "    ax_loc.plot(act_down[:, 0], act_down[:, 1], 'rv', markersize=18, zorder=10, label='switch')\n",
        "\n",
        "  if len(act_up) > 0:\n",
        "    ax_loc.plot(act_up[:, 0], act_up[:, 1], 'r^', markersize=18, zorder=10)\n",
        "  \n",
        "  ax_loc.set_xlabel('time')\n",
        "  ax_loc.set_ylabel('Your state')\n",
        "\n",
        "  ax_loc.set_xlim([0, T])\n",
        "  ax_loc.set_xticks([])\n",
        "  ax_loc.xaxis.set_label_coords(1.05, .54)\n",
        "  if len(act_down) > 0 or len(act_up) > 0:\n",
        "    ax_loc.legend(loc=\"upper right\")\n",
        "\n",
        "\n",
        "  ax_loc.set_ylim([-1.1, 1.1])\n",
        "  ax_loc.set_yticks([-1, 1])\n",
        "  \n",
        "  ax_loc.tick_params(axis='both', which='major')\n",
        "  ax_loc.set_yticklabels(['left', 'right'])  \n",
        "\n",
        "  ax_loc.spines['bottom'].set_position('center')\n",
        "\n",
        "\n",
        "def plot_belief(belief, ax1=None, choose_policy=None):\n",
        "  \"\"\"\n",
        "  Plot the belief dynamics of T time points\n",
        "  \"\"\"\n",
        "\n",
        "  T = belief.shape[1]\n",
        "\n",
        "  if not ax1:\n",
        "      fig, ax1 = plt.subplots(1, 1, figsize=(12, 2.5))\n",
        "\n",
        "  ax1.plot(belief[1, :], color='midnightblue', markersize=10, linewidth=3.0)\n",
        "  \n",
        "  ax1.set_xlabel('time')\n",
        "  ax1.set_ylabel('Belief (right)')\n",
        "  \n",
        "  ax1.set_xlim([0, T])\n",
        "  ax1.set_xticks([])\n",
        "  ax1.xaxis.set_label_coords(1.05, 0.05)\n",
        "  \n",
        "  ax1.set_yticks([0, 1])\n",
        "  ax1.set_ylim([0, 1.1])  \n",
        "  \n",
        "  labels = [item.get_text() for item in ax1.get_yticklabels()]  \n",
        "  ax1.set_yticklabels(['    0', '    1'])  \n",
        "\n",
        "  \"\"\"\n",
        "  if choose_policy == \"threshold\":\n",
        "    ax2 = ax1.twinx()\n",
        "    ax2.plot(time_range, threshold * np.ones(time_range.shape), 'r--')\n",
        "    ax2.plot(time_range, (1 - threshold) * np.ones(time_range.shape), 'c--')\n",
        "    ax2.set_yticks([threshold, 1 - threshold])\n",
        "    ax2.set_ylim([0, 1.1])\n",
        "    ax2.tick_params(axis='both', which='major', labelsize=18)\n",
        "    labels = [item.get_text() for item in ax2.get_yticklabels()]\n",
        "    labels[0] = 'threshold to switch \\n from left to right'\n",
        "    labels[-1] = 'threshold to switch \\n from right to left'\n",
        "    ax2.set_yticklabels(labels)\n",
        "  \"\"\"\n",
        "\n",
        "\n",
        "def plot_dynamics(belief, loc, act, meas, fish_state, choose_policy):\n",
        "  \"\"\"\n",
        "  Plot the dynamics of T time points\n",
        "  \"\"\"\n",
        "  if choose_policy == 'threshold':\n",
        "    fig, [ax0, ax_bel, ax_loc, ax1] = plt.subplots(4, 1, figsize=(12, 9))\n",
        "    plot_fish(fish_state, ax=ax0)\n",
        "    plot_belief(belief, ax1=ax_bel)\n",
        "    plot_measurement(meas, ax=ax1)\n",
        "    plot_act_loc(loc, act, ax_loc=ax_loc)\n",
        "  else:\n",
        "    fig, [ax0, ax_bel, ax1] = plt.subplots(3, 1, figsize=(12, 7))\n",
        "    plot_fish(fish_state, ax=ax0)\n",
        "    plot_belief(belief, ax1=ax_bel)\n",
        "    plot_measurement(meas, ax=ax1)\n",
        "\n",
        "  plt.tight_layout()\n",
        "  #plt.savefig('active dynamics.pdf')\n",
        "  plt.show()\n",
        "\n",
        "\n",
        "def belief_histogram(belief, bins=100):\n",
        "  \"\"\"\n",
        "  Plot the histogram of belief states\n",
        "  \"\"\"\n",
        "  fig, ax = plt.subplots(1, 1, figsize=(8, 6))\n",
        "  ax.hist(belief, bins)\n",
        "  ax.set_xlabel('belief', fontsize=18)\n",
        "  ax.set_ylabel('count', fontsize=18)\n",
        "  plt.show()\n",
        "\n",
        "\n",
        "def plot_value_threshold(threshold_array, value_array):\n",
        "  \"\"\"\n",
        "  Helper function to plot the value function and threshold\n",
        "  \"\"\"\n",
        "  yrange = np.max(value_array) - np.min(value_array)\n",
        "  star_loc = np.argmax(value_array)\n",
        "\n",
        "  fig_, ax = plt.subplots(1, 1, figsize=(8, 6))\n",
        "  ax.plot(threshold_array, value_array, 'b')\n",
        "  ax.vlines(threshold_array[star_loc],\n",
        "            min(value_array) - yrange * .1, max(value_array),\n",
        "            colors='red', ls='--')\n",
        "  ax.plot(threshold_array[star_loc],\n",
        "          value_array[star_loc],\n",
        "          '*', color='crimson',\n",
        "          markersize=20)\n",
        "  \n",
        "  ax.set_ylim([np.min(value_array) - yrange * .1,\n",
        "               np.max(value_array) + yrange * .1])\n",
        "  ax.set_title(f'threshold vs value with switching cost c = {cost_sw:.2f}',\n",
        "               fontsize=20)\n",
        "  ax.set_xlabel('threshold', fontsize=16)\n",
        "  ax.set_ylabel('value', fontsize=16)\n",
        "  plt.show()"
      ]
    },
    {
      "cell_type": "code",
      "execution_count": 9,
      "metadata": {
        "id": "8CiMNi5E8Juz",
        "tags": [],
        "cellView": "form"
      },
      "outputs": [],
      "source": [
        "# @title Helper Functions\n",
        "\n",
        "# To generate a binomial with fixed \"noise\", \n",
        "# we generate a sequence of T numbers uniformly at random\n",
        "T = 100\n",
        "\n",
        "rnd_tele = np.random.uniform(0, 1, T)\n",
        "rnd_high_rwd = np.random.uniform(0, 1, T)\n",
        "rnd_low_rwd = np.random.uniform(0, 1, T)\n",
        "\n",
        "\n",
        "def get_randomness(T):\n",
        "  rnd_tele = np.random.uniform(0, 1, T)\n",
        "  rnd_high_rwd = np.random.uniform(0, 1, T)\n",
        "  rnd_low_rwd = np.random.uniform(0, 1, T)    \n",
        "\n",
        "\n",
        "def binomial_tele(p):\n",
        "  return np.array([1 if p > rnd_tele[i] else 0 for i in range(T)])\n",
        "\n",
        "\n",
        "def getRandomness(p, largeT):  \n",
        "  rnd_tele = np.random.uniform(0, 1, largeT)\n",
        "  rnd_high_rwd = np.random.uniform(0, 1, largeT)\n",
        "  rnd_low_rwd = np.random.uniform(0, 1, largeT)\n",
        "  return [np.array([1 if p > rnd_tele[i] else 0 for i in range(T)]),\n",
        "          rnd_high_rwd, rnd_low_rwd]  \n",
        "\n",
        "# def binomial_high_rwd(p):\n",
        "#   return np.array([1 if p > rnd_high_rwd[i] else 0 for i in range(T)])\n",
        "\n",
        "# def binomial_low_rwd(p):\n",
        "#   return np.array([1 if p > rnd_low_rwd[i] else 0 for i in range(T)])\n",
        "\n",
        "\n",
        "class ExcerciseError(AssertionError):\n",
        "  pass\n",
        "\n",
        "\n",
        "class binaryHMM():\n",
        "\n",
        "  def __init__(self, params, fish_initial=0, loc_initial=0):\n",
        "    self.params = params\n",
        "    self.fish_initial = fish_initial\n",
        "    self.loc_initial = loc_initial\n",
        "\n",
        "  def fish_dynamics(self):\n",
        "    \"\"\"\n",
        "    fish state dynamics according to telegraph process\n",
        "\n",
        "    Returns:\n",
        "      fish_state (numpy array of int)\n",
        "    \"\"\"\n",
        "    p_stay, _, _, _ = self.params\n",
        "    fish_state = np.zeros(T, int)  # 0: left side and 1: right side\n",
        "\n",
        "    # initialization\n",
        "    fish_state[0] = self.fish_initial\n",
        "    tele_operations = binomial_tele(p_stay) # 0: switch and 1: stay\n",
        "\n",
        "    for t in range(1, T):\n",
        "      # we use logical operation NOT XOR to determine the next state    \n",
        "      fish_state[t] = int(not(fish_state[t-1] ^ tele_operations[t]))\n",
        "    \n",
        "    return fish_state\n",
        "\n",
        "  def generate_process_lazy(self):\n",
        "    \"\"\"\n",
        "    fish dynamics and rewards if you always stay in the initial location\n",
        "    without changing sides\n",
        "\n",
        "    Returns:\n",
        "      fish_state (numpy array of int): locations of the fish\n",
        "      loc (numpy array of int): left or right site, 0 for left, and 1 for right\n",
        "      rwd (numpy array of binary): whether a fish was catched or not\n",
        "    \"\"\"\n",
        "\n",
        "    _, p_low_rwd, p_high_rwd, _ = self.params\n",
        "    \n",
        "    fish_state = self.fish_dynamics()\n",
        "    rwd = np.zeros(T, int)                      # 0: no food, 1: get food\n",
        "\n",
        "    for t in range(0, T):      \n",
        "      # new measurement\n",
        "      if fish_state[t] != self.loc_initial:\n",
        "        rwd[t] = 1 if p_low_rwd > rnd_low_rwd[t] else 0\n",
        "      else:\n",
        "        rwd[t] = 1 if p_high_rwd > rnd_high_rwd[t] else 0\n",
        "\n",
        "      # rwd[t] = binomial(1, p_rwd_vector[(fish_state[t] == loc[t]) * 1])\n",
        "    return fish_state, self.loc_initial*np.ones(T), rwd\n",
        "\n",
        "\n",
        "class binaryHMM_belief(binaryHMM):\n",
        "\n",
        "  def __init__(self, params, fish_initial=0, loc_initial=1, choose_policy='threshold'):\n",
        "      binaryHMM.__init__(self, params, fish_initial, loc_initial)\n",
        "      self.choose_policy = choose_policy      \n",
        "\n",
        "  def generate_process(self):\n",
        "    \"\"\"\n",
        "    fish dynamics and measurements based on the chosen policy\n",
        "\n",
        "    Returns:\n",
        "      belief (numpy array of float): belief on the states of the two sites\n",
        "      act (numpy array of string): actions over time\n",
        "      loc (numpy array of int): left or right site\n",
        "      measurement (numpy array of binary): whether a reward is obtained\n",
        "      fish_state (numpy array of int): fish locations\n",
        "    \"\"\"\n",
        "    \n",
        "    p_stay, low_rew_p, high_rew_p, threshold = self.params\n",
        "    fish_state = self.fish_dynamics()     # 0: left side; 1: right side\n",
        "    loc = np.zeros(T, int)                # 0: left side, 1: right side\n",
        "    measurement = np.zeros(T, int)        # 0: no food, 1: get food\n",
        "    act = np.empty(T, dtype='object')     # \"stay\", or \"switch\"\n",
        "    belief = np.zeros((2, T), float)      # the probability that the fish is on the left (1st element)\n",
        "                                          # or on the right (2nd element),\n",
        "                                          # the beliefs on the two boxes sum up to be 1\n",
        "\n",
        "    rew_prob = np.array([low_rew_p, high_rew_p])\n",
        "\n",
        "    # initialization\n",
        "    loc[0] = self.loc_initial\n",
        "    measurement[0] = 0\n",
        "    belief_0 = np.random.random(1)[0]\n",
        "    belief[:, 0] = np.array([belief_0, 1 - belief_0])\n",
        "    act[0] = self.policy(threshold, belief[:, 0], loc[0])\n",
        "\n",
        "    for t in range(1, T):\n",
        "      if act[t - 1] == \"stay\":\n",
        "          loc[t] = loc[t - 1]\n",
        "      else:\n",
        "          loc[t] = int(not(loc[t - 1] ^ 0))\n",
        "      \n",
        "      # new measurement\n",
        "      # measurement[t] = binomial(1, rew_prob[(fish_state[t] == loc[t]) * 1])\n",
        "      if fish_state[t] != loc[t]:\n",
        "          measurement[t] = 1 if low_rew_p > rnd_low_rwd[t] else 0\n",
        "      else:\n",
        "          measurement[t] = 1 if high_rew_p > rnd_high_rwd[t] else 0\n",
        "\n",
        "      belief[0, t] = self.belief_update(belief[0, t - 1] , loc[t],\n",
        "                                        measurement[t], p_stay,\n",
        "                                        high_rew_p, low_rew_p)\n",
        "      belief[1, t] = 1 - belief[0, t]\n",
        "\n",
        "      act[t] = self.policy(threshold, belief[:, t], loc[t])\n",
        "      \n",
        "    return belief, loc, act, measurement, fish_state\n",
        "\n",
        "  def policy(self, threshold, belief, loc):\n",
        "    \"\"\"\n",
        "    chooses policy based on whether it is lazy policy\n",
        "        or a threshold-based policy\n",
        "\n",
        "    Args:\n",
        "      threshold (float): the threshold of belief on the current site,\n",
        "          when the belief is lower than the threshold, switch side\n",
        "      belief (numpy array of float): the belief on the two sites\n",
        "      loc (int) : the location of the agent\n",
        "\n",
        "    Returns:\n",
        "      act (string): \"stay\" or \"switch\"\n",
        "    \"\"\"\n",
        "    if self.choose_policy == \"threshold\":\n",
        "      act = policy_threshold(threshold, belief, loc)\n",
        "    if self.choose_policy == \"lazy\":\n",
        "      act = policy_lazy(belief, loc)\n",
        "\n",
        "    return act\n",
        "\n",
        "  def belief_update(self, belief_past, loc, measurement, p_stay,\n",
        "                    high_rew_p, low_rew_p):\n",
        "    \"\"\"\n",
        "    using PAST belief on the LEFT box, CURRENT location and\n",
        "        and measurement to update belief\n",
        "    \"\"\"\n",
        "    rew_prob_matrix = np.array([[1 - high_rew_p, high_rew_p],\n",
        "                                [1 - low_rew_p, low_rew_p]])\n",
        "\n",
        "    # update belief posterior, p(s[t] | measurement(0-t), act(0-t-1))\n",
        "    belief_0 = (belief_past * p_stay  + (1 - belief_past) * (1 - p_stay)) *\\\n",
        "                            rew_prob_matrix[(loc + 1) // 2, measurement]\n",
        "    belief_1 = ((1 - belief_past) * p_stay + belief_past * (1 - p_stay)) *\\\n",
        "                            rew_prob_matrix[1-(loc + 1) // 2, measurement]\n",
        "\n",
        "    belief_0 = belief_0 / (belief_0 + belief_1)\n",
        "\n",
        "    return belief_0\n",
        "\n",
        "\n",
        "def policy_lazy(belief, loc):\n",
        "  \"\"\"\n",
        "  This function is a lazy policy where stay is also taken\n",
        "  \"\"\"\n",
        "  act = \"stay\"\n",
        "  \n",
        "  return act\n",
        "\n",
        "\n",
        "def test_policy_threshold():\n",
        "  well_done = True\n",
        "  for loc in [-1, 1]:\n",
        "    threshold = 0.4\n",
        "    belief = np.array([.2, .3])\n",
        "    if policy_threshold(threshold, belief, loc) != \"switch\":\n",
        "      raise ExcerciseError(\"'policy_threshold' function is not correctly implemented!\")\n",
        "  for loc in [1, -1]:\n",
        "    threshold = 0.6\n",
        "    belief = np.array([.7, .8])\n",
        "    if policy_threshold(threshold, belief, loc) != \"stay\":\n",
        "      raise ExcerciseError(\"'policy_threshold' function is not correctly implemented!\")\n",
        "  print(\"Well Done!\")\n",
        "\n",
        "\n",
        "def test_policy_threshold():\n",
        "  for loc in [-1, 1]:\n",
        "    threshold = 0.4\n",
        "    belief = np.ones(2) * (threshold + 0.1)\n",
        "    belief[(loc + 1) // 2] = threshold - 0.1\n",
        "\n",
        "    if policy_threshold(threshold, belief, loc) != \"switch\":\n",
        "      raise ExcerciseError(\"'policy_threshold' function is not correctly implemented!\")\n",
        "    if policy_threshold(threshold, belief, -1 * loc) != \"stay\":\n",
        "      raise ExcerciseError(\"'policy_threshold' function is not correctly implemented!\")\n",
        "\n",
        "  print(\"Well Done!\")\n",
        "\n",
        "\n",
        "def test_value_function():\n",
        "  measurement = np.array([0, 0, 0, 1, 0, 0, 0, 0, 1, 1])\n",
        "  act = np.array([\"switch\", \"stay\", \"switch\", \"stay\", \"stay\",\n",
        "                  \"stay\", \"switch\", \"switch\", \"stay\", \"stay\"])\n",
        "  cost_sw = .5\n",
        "  if not isclose(get_value(measurement, act, cost_sw), .1):\n",
        "    raise ExcerciseError(\"'value_function' function is not correctly implemented!\")\n",
        "  print(\"Well Done!\")"
      ]
    },
    {
      "cell_type": "markdown",
      "metadata": {
        "execution": {},
        "id": "CsPNyhXT8Juz"
      },
      "source": [
        "---\n",
        "# Section 1: Analyzing the Problem"
      ]
    },
    {
      "cell_type": "code",
      "execution_count": 10,
      "metadata": {
        "cellView": "form",
        "colab": {
          "base_uri": "https://localhost:8080/",
          "height": 581,
          "referenced_widgets": [
            "bb603a0a8e4f4c69aafe74885f4f8094",
            "add73b5539e64089b0918e5766816a68",
            "6c7270ad239f4cbda95c516c9c631406",
            "b9848cdbd0c7437ea344e08db7f82631",
            "73b4ca6ff81f451f9d6d6022294fe5a2",
            "fcd13744a98644c5b152e62ff10c1ff0"
          ]
        },
        "id": "XjyjK1SS8Juz",
        "outputId": "21ed6a56-13f8-42c6-e3cd-68baa4d117be",
        "tags": []
      },
      "outputs": [
        {
          "output_type": "display_data",
          "data": {
            "text/plain": [
              "Tab(children=(Output(), Output()), _titles={'0': 'Youtube', '1': 'Bilibili'})"
            ],
            "application/vnd.jupyter.widget-view+json": {
              "version_major": 2,
              "version_minor": 0,
              "model_id": "bb603a0a8e4f4c69aafe74885f4f8094"
            }
          },
          "metadata": {}
        }
      ],
      "source": [
        "# @title Video 1: Gone fishing\n",
        "from ipywidgets import widgets\n",
        "\n",
        "out2 = widgets.Output()\n",
        "with out2:\n",
        "  from IPython.display import IFrame\n",
        "  class BiliVideo(IFrame):\n",
        "      def __init__(self, id, page=1, width=400, height=300, **kwargs):\n",
        "          self.id=id\n",
        "          src = 'https://player.bilibili.com/player.html?bvid={0}&page={1}'.format(id, page)\n",
        "          super(BiliVideo, self).__init__(src, width, height, **kwargs)\n",
        "\n",
        "  video = BiliVideo(id=\"BV1FL411p7o5\", width=854, height=480, fs=1)\n",
        "  print('Video available at https://www.bilibili.com/video/{0}'.format(video.id))\n",
        "  display(video)\n",
        "\n",
        "out1 = widgets.Output()\n",
        "with out1:\n",
        "  from IPython.display import YouTubeVideo\n",
        "  video = YouTubeVideo(id=\"3oIwUFpolVA\", width=854, height=480, fs=1, rel=0)\n",
        "  print('Video available at https://youtube.com/watch?v=' + video.id)\n",
        "  display(video)\n",
        "\n",
        "out = widgets.Tab([out1, out2])\n",
        "out.set_title(0, 'Youtube')\n",
        "out.set_title(1, 'Bilibili')\n",
        "\n",
        "display(out)"
      ]
    },
    {
      "cell_type": "markdown",
      "metadata": {
        "execution": {},
        "id": "cq1h_CvT8Ju0"
      },
      "source": [
        "**Problem Setting**\n",
        "\n",
        "*1. State dynamics:* There are two possible locations for the fish: Left and Right. Secretly, at each time step, the fish may switch sides with a certain probability $p_{\\rm sw} = 1 - p_{\\rm stay}$. This is the binary switching model (*Telegraph process*) that you've seen in the *Linear Systems* day. The fish location, $s^{\\rm fish}$, is latent; you get measurements about it when you try to catch fish, like in the *Hidden Dynamics* day. This gives you a *belief* or posterior probability of the current location given your history of measurements.\n",
        "\n",
        "*2. Actions:* Unlike past days, you can now **act** on the process! You may stay on your current location (Left or Right), or switch to the other side.\n",
        "\n",
        "*3. Rewards and Costs:* You get rewarded for each fish you catch (one fish is worth 1 \"point\"). If you're on the same side as the fish, you'll catch more, with probability $q_{\\rm high}$ per discrete time step. Otherwise, you may still catch some fish with probability $q_{\\rm low}$. \n",
        "\n",
        "You pay a price of $C$ points for switching to the other side. So you better decide wisely!\n",
        "\n",
        "<br>\n",
        "\n",
        "**Maximizing Utility**\n",
        "\n",
        "To decide \"wisely\" and maximize your total utility (total points), you will follow a **policy** that prescribes what to do in any situation. Here the situation is determined by your location and your **belief** $b_t$ (posterior) about the fish location (remember that the fish location is a latent variable). \n",
        "\n",
        "In optimal control theory, the belief is the posterior probability over the latent variable given all the past measurements. It can be shown that maximizing the expected utility with respect to this posterior is optimal.\n",
        "\n",
        "In our problem, the belief can be represented by a single number because the fish are either on the left or the right side. So we write: \n",
        "\n",
        "\\begin{equation}\n",
        "b_t = p(s^{\\rm fish}_t = {\\rm Right}\\  |\\  m_{0:t}, a_{0:t-1})\n",
        "\\end{equation}\n",
        "\n",
        "where $m_{0:t}$ are the measurements and $a_{0:t-1}$ are the actions (stay or switch).\n",
        "\n",
        "Finally, we will parameterize the policy by a simple threshold on beliefs: when your belief that fish are on your current side falls below a threshold $\\theta$, you switch to the other side.\n",
        "\n",
        "In this tutorial, you will discover that if you pick the right threshold, this simple policy happens to be optimal!"
      ]
    },
    {
      "cell_type": "markdown",
      "metadata": {
        "execution": {},
        "id": "SDICjrot8Ju0"
      },
      "source": [
        "## Interactive Demo 1: Examining fish dynamics\n",
        "\n",
        "In this demo, we will look at the dynamics of the fish moving from side to side. Play around with the probability of fish staying in the same location, and observe the resulting dynamics of the fish."
      ]
    },
    {
      "cell_type": "code",
      "execution_count": 11,
      "metadata": {
        "cellView": "form",
        "colab": {
          "base_uri": "https://localhost:8080/",
          "height": 283,
          "referenced_widgets": [
            "f25055aa6df44cdd9e9ffecf10386c29",
            "99207a234b8c49629770fdac36afdaa2",
            "b8981aff5ceb405d91b63195beba2de8",
            "60394c1750be4e3abd899e3c91717936",
            "bc091660809947a2b87af8a7882e4f9c",
            "d144eb84530d41208739755389686324",
            "9307ed4817de4a58bbbf34e56ece4d01"
          ]
        },
        "id": "tKdFfsHSp-xC",
        "outputId": "a020985a-768d-446d-80b2-0fd78d6afbdb"
      },
      "outputs": [
        {
          "output_type": "display_data",
          "data": {
            "text/plain": [
              "<IPython.core.display.HTML object>"
            ],
            "text/html": [
              "<style>.widget-label { min-width: 15ex !important; }</style>"
            ]
          },
          "metadata": {}
        },
        {
          "output_type": "display_data",
          "data": {
            "text/plain": [
              "interactive(children=(FloatSlider(value=0.9, description='stay_prob', max=1.0, step=0.01), Output()), _dom_cla…"
            ],
            "application/vnd.jupyter.widget-view+json": {
              "version_major": 2,
              "version_minor": 0,
              "model_id": "f25055aa6df44cdd9e9ffecf10386c29"
            }
          },
          "metadata": {}
        }
      ],
      "source": [
        "# @markdown Execute this cell to enable the demo.\n",
        "display(HTML('''<style>.widget-label { min-width: 15ex !important; }</style>'''))\n",
        "\n",
        "@widgets.interact(p_stay=widgets.FloatSlider(.9, description=\"stay_prob\", min=0., max=1., step=0.01))\n",
        "\n",
        "def update_ex_1(p_stay):\n",
        "  \"\"\"\n",
        "    T: Length of timeline\n",
        "    p_stay: probability that the fish do not swim to the other side at time t    \n",
        "  \"\"\"\n",
        "  params = [p_stay, _, _, _]\n",
        "\n",
        "  #### initial condition: fish [fish_initial] start at the left location (-1) ####\n",
        "  binaryHMM_test = binaryHMM(params=params, fish_initial=1)\n",
        "\n",
        "  fish_state = binaryHMM_test.fish_dynamics()\n",
        "  plot_fish(fish_state)\n",
        "  \n",
        "plt.show()"
      ]
    },
    {
      "cell_type": "markdown",
      "metadata": {
        "id": "DL2GN2zCseIB"
      },
      "source": [
        "**Thinking questions:**\n",
        "\n",
        "* If the fish have already been on one side for a long time, does that change the chances of them switching sides?\n",
        "* For what values of p_stay is the fish location most and least predictable?"
      ]
    },
    {
      "cell_type": "code",
      "source": [
        "# to_remove explanation\n",
        "\n",
        "\"\"\"\n",
        "Write the model answer here.\n",
        "\"\"\""
      ],
      "metadata": {
        "id": "ul37hkPfOTXu"
      },
      "execution_count": null,
      "outputs": []
    },
    {
      "cell_type": "markdown",
      "metadata": {
        "execution": {},
        "id": "3PLcZXIs8Ju2"
      },
      "source": [
        "---\n",
        "# Section 2: Catching fish"
      ]
    },
    {
      "cell_type": "code",
      "execution_count": 12,
      "metadata": {
        "cellView": "form",
        "colab": {
          "base_uri": "https://localhost:8080/",
          "height": 581,
          "referenced_widgets": [
            "bed2b3defdf04e8d9a51b2c7e195d91a",
            "de989d4a3db3422aa8923b56b8de6607",
            "7b13b2c37fc54bc699c0e9c5f3ba6059",
            "354b0a70448e4df5b906e064cde27238",
            "4382453558084d4bac5481790fd8b6dc",
            "620c5f4714dd44859fcbb3113696666b"
          ]
        },
        "id": "SZcoWwMw8Ju3",
        "outputId": "a5def0b8-4901-40ac-f633-a70b3efd15f2",
        "tags": []
      },
      "outputs": [
        {
          "output_type": "display_data",
          "data": {
            "text/plain": [
              "Tab(children=(Output(), Output()), _titles={'0': 'Youtube', '1': 'Bilibili'})"
            ],
            "application/vnd.jupyter.widget-view+json": {
              "version_major": 2,
              "version_minor": 0,
              "model_id": "bed2b3defdf04e8d9a51b2c7e195d91a"
            }
          },
          "metadata": {}
        }
      ],
      "source": [
        "# @title Video 2: Catch some fish\n",
        "from ipywidgets import widgets\n",
        "\n",
        "out2 = widgets.Output()\n",
        "with out2:\n",
        "  from IPython.display import IFrame\n",
        "  class BiliVideo(IFrame):\n",
        "      def __init__(self, id, page=1, width=400, height=300, **kwargs):\n",
        "          self.id=id\n",
        "          src = 'https://player.bilibili.com/player.html?bvid={0}&page={1}'.format(id, page)\n",
        "          super(BiliVideo, self).__init__(src, width, height, **kwargs)\n",
        "\n",
        "  video = BiliVideo(id=\"BV1kD4y1m7Lo\", width=854, height=480, fs=1)\n",
        "  print('Video available at https://www.bilibili.com/video/{0}'.format(video.id))\n",
        "  display(video)\n",
        "\n",
        "out1 = widgets.Output()\n",
        "with out1:\n",
        "  from IPython.display import YouTubeVideo\n",
        "  video = YouTubeVideo(id=\"1-Wionllt9U\", width=854, height=480, fs=1, rel=0)\n",
        "  print('Video available at https://youtube.com/watch?v=' + video.id)\n",
        "  display(video)\n",
        "\n",
        "out = widgets.Tab([out1, out2])\n",
        "out.set_title(0, 'Youtube')\n",
        "out.set_title(1, 'Bilibili')\n",
        "\n",
        "display(out)"
      ]
    },
    {
      "cell_type": "markdown",
      "metadata": {
        "execution": {},
        "id": "X_1LdN_N8Ju3"
      },
      "source": [
        "## Interactive Demo 2: Examining the reward function\n",
        "\n",
        "In this second demo, we set $p_{\\rm stay} = 1$. Now that the fish are serenely swimming in the same location, we can visually inspect the reward function (_i.e._, the chances of catching fish on each side). \n",
        "\n",
        "When you're on the same side as the fish, you have a higher probability of catching them. Play around with the sliders `high_rew_prob` (high reward probability) and `low_rew_prob` (low reward probability) and observe what happens when the fish and the agent (you!) are on the same and different locations. The button (same location *vs.* different location) determines which probability describes the process of catching fish."
      ]
    },
    {
      "cell_type": "code",
      "execution_count": 13,
      "metadata": {
        "cellView": "form",
        "colab": {
          "base_uri": "https://localhost:8080/",
          "height": 379,
          "referenced_widgets": [
            "98fa4ec9d7b2423cbf44074cb21dfb23",
            "abca1849637f41e0bf729f99db4082de",
            "df3d3172c2904da4b4c588629a1e927c",
            "a5bdc026b2a54691b763bae788d675c4",
            "d3b976e258654d15bd0c7b28eba0e75b",
            "098799b3f10d429e9e4e3df2c6339d54",
            "66f9881424194bec91460e6125a65a33",
            "4bce3841a1d34222aca21b803aae7a68",
            "f28c8b1e0a6d4740870b1d03f80e96de",
            "caa5c377d9c14726bce4fcb9faf9cbe2",
            "84fa0e834cd44dbe8232148b48d5fffd",
            "2302bd65ce4a4610baf946046684edac",
            "1b1ab00498b64213aa2eb088af5b5a93"
          ]
        },
        "id": "de_mHzJUvvGi",
        "outputId": "60ff9dd3-8e2c-424d-8923-86f62186da7e"
      },
      "outputs": [
        {
          "output_type": "display_data",
          "data": {
            "text/plain": [
              "<IPython.core.display.HTML object>"
            ],
            "text/html": [
              "<style>.widget-label { min-width: 15ex !important; }</style>"
            ]
          },
          "metadata": {}
        },
        {
          "output_type": "display_data",
          "data": {
            "text/plain": [
              "interactive(children=(RadioButtons(description='Fish and agent:', layout=Layout(width='max-content'), options=…"
            ],
            "application/vnd.jupyter.widget-view+json": {
              "version_major": 2,
              "version_minor": 0,
              "model_id": "98fa4ec9d7b2423cbf44074cb21dfb23"
            }
          },
          "metadata": {}
        }
      ],
      "source": [
        "# @markdown Execute this cell to enable the demo.\n",
        "display(HTML('''<style>.widget-label { min-width: 15ex !important; }</style>'''))\n",
        "\n",
        "@widgets.interact(locs=widgets.RadioButtons(options=['same location', 'different locations'], \n",
        "                                            description='Fish and agent:', \n",
        "                                            disabled=False, \n",
        "                                            layout={'width': 'max-content'}),\n",
        "                  p_low_rwd=widgets.FloatSlider(.1, description=\"low_rew_prob:\", min=0., max=1.),\n",
        "                  p_high_rwd=widgets.FloatSlider(.9, description=\"high_rew_prob:\", min=0., max=1.))\n",
        "\n",
        "def update_ex_2(locs, p_low_rwd, p_high_rwd):\n",
        "  \"\"\"\n",
        "    p_stay: probability of fish staying at current side at time t\n",
        "    p_low_rwd: probability of catching fish when you're NOT on the side where the fish are swimming\n",
        "    p_high_rwd: probability of catching fish when you're on the side where the fish are swimming    \n",
        "    fish_initial: initial side of fish (-1 left, 1 right)\n",
        "    agent_initial: initial side of the agent (YOU!) (-1 left, 1 right)\n",
        "  \"\"\"\n",
        "  p_stay = 1\n",
        "  params = [p_stay, p_low_rwd, p_high_rwd, _]\n",
        "  \n",
        "  #### initial condition for fish [fish_initial] and you [loc_initial] ####\n",
        "  if locs == 'same location':    \n",
        "      binaryHMM_test = binaryHMM(params, fish_initial=0, loc_initial=0)\n",
        "  else:\n",
        "      binaryHMM_test = binaryHMM(params, fish_initial=1, loc_initial=0)\n",
        "\n",
        "  fish_state, loc, measurement = binaryHMM_test.generate_process_lazy()\n",
        "  plot_measurement(measurement)    \n",
        "\n",
        "plt.show()"
      ]
    },
    {
      "cell_type": "markdown",
      "metadata": {
        "id": "3SzRGmd5seID"
      },
      "source": [
        "**Thinking questions:**\n",
        "\n",
        "* Why isn't `low_rew_prob + high_rew_prob = 1`? What do these probabilities mean in the fishing story?\n",
        "* You can move the sliders so `low_rew_prob > high_rew_prob`. This doesn't change the math, but it can change whether the math is a reasonable model of the physical problem. Why?"
      ]
    },
    {
      "cell_type": "code",
      "source": [
        "# to_remove explanation\n",
        "\n",
        "\"\"\"\n",
        "Write the model answer here.\n",
        "\"\"\""
      ],
      "metadata": {
        "id": "pEwTYijaOaBr"
      },
      "execution_count": null,
      "outputs": []
    },
    {
      "cell_type": "markdown",
      "metadata": {
        "execution": {},
        "id": "g4UBTkDL8Ju6"
      },
      "source": [
        "---\n",
        "# Section 3: Belief dynamics and belief distributions"
      ]
    },
    {
      "cell_type": "code",
      "execution_count": 14,
      "metadata": {
        "cellView": "form",
        "colab": {
          "base_uri": "https://localhost:8080/",
          "height": 581,
          "referenced_widgets": [
            "49f925dce8cd4491937c6c9fc05f9ee7",
            "a0a24761c3214237a260ede97372a5a4",
            "13a48ca059704662a3113dc4f8031193",
            "67da9b2660d6436abca8866962697bc1",
            "964a901bf1474247b23acd6b77045e5c",
            "b6f749161b8b4e30ac0c07f0283baf6d"
          ]
        },
        "id": "pe4AC3W28Ju6",
        "outputId": "4ac2f337-b73b-42cd-b424-1524aa731351",
        "tags": []
      },
      "outputs": [
        {
          "output_type": "display_data",
          "data": {
            "text/plain": [
              "Tab(children=(Output(), Output()), _titles={'0': 'Youtube', '1': 'Bilibili'})"
            ],
            "application/vnd.jupyter.widget-view+json": {
              "version_major": 2,
              "version_minor": 0,
              "model_id": "49f925dce8cd4491937c6c9fc05f9ee7"
            }
          },
          "metadata": {}
        }
      ],
      "source": [
        "# @title Video 3: Where are the fish?\n",
        "from ipywidgets import widgets\n",
        "\n",
        "out2 = widgets.Output()\n",
        "with out2:\n",
        "  from IPython.display import IFrame\n",
        "  class BiliVideo(IFrame):\n",
        "      def __init__(self, id, page=1, width=400, height=300, **kwargs):\n",
        "          self.id=id\n",
        "          src = 'https://player.bilibili.com/player.html?bvid={0}&page={1}'.format(id, page)\n",
        "          super(BiliVideo, self).__init__(src, width, height, **kwargs)\n",
        "\n",
        "  video = BiliVideo(id=\"BV19t4y1Q7VH\", width=854, height=480, fs=1)\n",
        "  print('Video available at https://www.bilibili.com/video/{0}'.format(video.id))\n",
        "  display(video)\n",
        "\n",
        "out1 = widgets.Output()\n",
        "with out1:\n",
        "  from IPython.display import YouTubeVideo\n",
        "  video = YouTubeVideo(id=\"wCzVnnd4bmg\", width=854, height=480, fs=1, rel=0)\n",
        "  print('Video available at https://youtube.com/watch?v=' + video.id)\n",
        "  display(video)\n",
        "\n",
        "out = widgets.Tab([out1, out2])\n",
        "out.set_title(0, 'Youtube')\n",
        "out.set_title(1, 'Bilibili')\n",
        "\n",
        "display(out)"
      ]
    },
    {
      "cell_type": "markdown",
      "metadata": {
        "execution": {},
        "id": "Jp2fXifG8Ju8"
      },
      "source": [
        "## Interactive Demo 3: Examining the beliefs\n",
        "\n",
        "Now it's time to get an intuition on how beliefs are calculated. In the next demo, play around with the sliders `high_rew_prob` and `low_rew_prob`; how accurate is the belief as these parameters change? Why is this happening? \n",
        "\n",
        "**Hint:** Start exploring the extreme case where `high_rew_prob = 1` and `low_rew_prob = 0`. How well does the belief explain the dynamics of the fish as you adjust the probability of the fish staying in one location (`stay_prob`)?"
      ]
    },
    {
      "cell_type": "code",
      "execution_count": 15,
      "metadata": {
        "cellView": "form",
        "colab": {
          "base_uri": "https://localhost:8080/",
          "height": 598,
          "referenced_widgets": [
            "9bcd60ec312c4218871a352e87a5afa7",
            "b1b5c33f12c549dd929dd18801c01f2b",
            "dce21704abff4a4c8ed06614ed5b25cd",
            "3f3dee91c61e4af3980773f190dab155",
            "742e6f03cba3442596fb1078a879ce10",
            "77931d07fd284bbfa51ed834484e5910",
            "748b611419ac4e84b99bcd98bba0592c",
            "44b0c301385d4de0958037a2ae56012e",
            "a27cf0b3608c49f6aed9e272958b5cb5",
            "ff17d3bae57e449aa7cace02f2981598",
            "ae92722fe85848d3b8f0e97c7cf4feca",
            "ed1d2ac52a644fb0ac797aaa25a972aa",
            "a3c69c968c294e7da618505c7335e1f9"
          ]
        },
        "id": "1VQ8o5qc8Ju8",
        "outputId": "bc3ca90e-19f8-44dd-8d65-7daebe8b3b99",
        "tags": []
      },
      "outputs": [
        {
          "output_type": "display_data",
          "data": {
            "text/plain": [
              "<IPython.core.display.HTML object>"
            ],
            "text/html": [
              "<style>.widget-label { min-width: 15ex !important; }</style>"
            ]
          },
          "metadata": {}
        },
        {
          "output_type": "display_data",
          "data": {
            "text/plain": [
              "interactive(children=(FloatSlider(value=0.96, description='stay_prob', max=1.0, min=0.9, step=0.01), FloatSlid…"
            ],
            "application/vnd.jupyter.widget-view+json": {
              "version_major": 2,
              "version_minor": 0,
              "model_id": "9bcd60ec312c4218871a352e87a5afa7"
            }
          },
          "metadata": {}
        }
      ],
      "source": [
        "# @markdown Execute this cell to enable the demo.\n",
        "display(HTML('''<style>.widget-label { min-width: 15ex !important; }</style>'''))\n",
        "\n",
        "@widgets.interact(p_stay=widgets.FloatSlider(.96, description=\"stay_prob\", min=.9, max=1., step=.01),\n",
        "                  p_low_rwd=widgets.FloatSlider(.1, description=\"low_rew_prob\", min=0., max=1.),\n",
        "                  p_high_rwd=widgets.FloatSlider(.3, description=\"high_rew_prob\", min=0., max=1.))\n",
        "\n",
        "def update_ex_2(p_stay, p_low_rwd, p_high_rwd):\n",
        "  \"\"\"\n",
        "    T: Length of timeline\n",
        "    p_stay: probability of fish staying at current side at time t\n",
        "    p_high_rwd: probability of catching fish when you're on the side where the fish are swimming\n",
        "    p_low_rwd: probability of catching fish when you're NOT on the side where the fish are swimming\n",
        "    fish_initial: initial side of fish (0 left, 1 right)\n",
        "    agent_initial: initial side of the agent (YOU!) (0 left, 1 right)\n",
        "    threshold: threshold of belief below which the action is switching \n",
        "  \"\"\"\n",
        "  threshold = 0.2\n",
        "  params = [p_stay, p_low_rwd, p_high_rwd, threshold]\n",
        "\n",
        "  binaryHMM_test = binaryHMM_belief(params, choose_policy=\"lazy\",\n",
        "                                    fish_initial=0, loc_initial=0)\n",
        "\n",
        "  belief, loc, act, measurement, fish_state = binaryHMM_test.generate_process()\n",
        "  plot_dynamics(belief, loc, act, measurement, fish_state,\n",
        "                binaryHMM_test.choose_policy)\n",
        "  \n",
        "plt.show()  "
      ]
    },
    {
      "cell_type": "markdown",
      "metadata": {
        "id": "Y-zuiPf_seIE"
      },
      "source": [
        "**Thinking questions:**\n",
        "\n",
        "* Under what conditions is it informative to catch a fish? What about to *not* catch a fish?"
      ]
    },
    {
      "cell_type": "code",
      "source": [
        "# to_remove explanation\n",
        "\n",
        "\"\"\"\n",
        "Write the model answer here.\n",
        "\"\"\""
      ],
      "metadata": {
        "id": "BdKZlMoLObD0"
      },
      "execution_count": null,
      "outputs": []
    },
    {
      "cell_type": "markdown",
      "metadata": {
        "execution": {},
        "id": "SoLkvWQo8Ju8"
      },
      "source": [
        "---\n",
        "# Section 4: Implementing a threshold policy"
      ]
    },
    {
      "cell_type": "code",
      "execution_count": 16,
      "metadata": {
        "cellView": "form",
        "colab": {
          "base_uri": "https://localhost:8080/",
          "height": 581,
          "referenced_widgets": [
            "82de83f3397247028b7a6f43e2cb9aca",
            "0a0707c488d74c6ca99a5c54173dd7ce",
            "7a909a59581849fa82a6206dd0b0ba9f",
            "f1a05260009a4bed9550a8d7b42a632f",
            "cafb90bd566f4fa498d7f723f455b719",
            "3507364f1f7143bf9056cfbb7921059f"
          ]
        },
        "id": "wVxz7QyD8Ju8",
        "outputId": "5e621db6-9df4-4e0e-c6d6-a4f09969a139",
        "tags": []
      },
      "outputs": [
        {
          "output_type": "display_data",
          "data": {
            "text/plain": [
              "Tab(children=(Output(), Output()), _titles={'0': 'Youtube', '1': 'Bilibili'})"
            ],
            "application/vnd.jupyter.widget-view+json": {
              "version_major": 2,
              "version_minor": 0,
              "model_id": "82de83f3397247028b7a6f43e2cb9aca"
            }
          },
          "metadata": {}
        }
      ],
      "source": [
        "# @title Video 4: How should you act?\n",
        "from ipywidgets import widgets\n",
        "\n",
        "out2 = widgets.Output()\n",
        "with out2:\n",
        "  from IPython.display import IFrame\n",
        "  class BiliVideo(IFrame):\n",
        "      def __init__(self, id, page=1, width=400, height=300, **kwargs):\n",
        "          self.id=id\n",
        "          src = 'https://player.bilibili.com/player.html?bvid={0}&page={1}'.format(id, page)\n",
        "          super(BiliVideo, self).__init__(src, width, height, **kwargs)\n",
        "\n",
        "  video = BiliVideo(id=\"BV1ri4y137cj\", width=854, height=480, fs=1)\n",
        "  print('Video available at https://www.bilibili.com/video/{0}'.format(video.id))\n",
        "  display(video)\n",
        "\n",
        "out1 = widgets.Output()\n",
        "with out1:\n",
        "  from IPython.display import YouTubeVideo\n",
        "  video = YouTubeVideo(id=\"G3fNz23IDUg\", width=854, height=480, fs=1, rel=0)\n",
        "  print('Video available at https://youtube.com/watch?v=' + video.id)\n",
        "  display(video)\n",
        "\n",
        "out = widgets.Tab([out1, out2])\n",
        "out.set_title(0, 'Youtube')\n",
        "out.set_title(1, 'Bilibili')\n",
        "\n",
        "display(out)"
      ]
    },
    {
      "cell_type": "markdown",
      "metadata": {
        "execution": {},
        "id": "WISdfP7P8Ju9"
      },
      "source": [
        "## Coding Exercise 4: dynamics following a **threshold-based** policy.\n",
        "\n",
        "Now we've switched the policy from the 'lazy' policy used above to a threshold policy that you need to write. Update the function `policy_threshold(threshold, belief, loc)`. This policy takes three inputs: \n",
        "\n",
        "1. The `belief` about the fish state. For convenience, we will represent the belief at time t using a 2-dimensional vector. The first element is the belief that the fish are on the left, and the second element is the belief the fish are on the right. At every time step, these elements sum to 1.\n",
        "\n",
        "2. Your location `loc` is represented as \"Left\" = -1 and \"Right\" = 1. \n",
        "\n",
        "3. A belief `threshold` that determines when to switch. When your belief that you are on the same side as the fish drops below this threshold, you should move to the other location, and otherwise stay.\n",
        "\n",
        "Your function should return an action for each time *t*, which takes the value of \"stay\" or \"switch\"."
      ]
    },
    {
      "cell_type": "code",
      "execution_count": 17,
      "metadata": {
        "cellView": "both",
        "colab": {
          "base_uri": "https://localhost:8080/",
          "height": 346
        },
        "id": "-93ov0kk8Ju9",
        "outputId": "c29d392b-8428-480e-9914-b1336e24dafa",
        "tags": []
      },
      "outputs": [
        {
          "output_type": "error",
          "ename": "NotImplementedError",
          "evalue": "ignored",
          "traceback": [
            "\u001b[0;31m---------------------------------------------------------------------------\u001b[0m",
            "\u001b[0;31mNotImplementedError\u001b[0m                       Traceback (most recent call last)",
            "\u001b[0;32m<ipython-input-17-ef8920dd87cb>\u001b[0m in \u001b[0;36m<module>\u001b[0;34m()\u001b[0m\n\u001b[1;32m     43\u001b[0m \u001b[0;34m\u001b[0m\u001b[0m\n\u001b[1;32m     44\u001b[0m \u001b[0;31m# Next line tests your function\u001b[0m\u001b[0;34m\u001b[0m\u001b[0;34m\u001b[0m\u001b[0;34m\u001b[0m\u001b[0m\n\u001b[0;32m---> 45\u001b[0;31m \u001b[0mtest_policy_threshold\u001b[0m\u001b[0;34m(\u001b[0m\u001b[0;34m)\u001b[0m\u001b[0;34m\u001b[0m\u001b[0;34m\u001b[0m\u001b[0m\n\u001b[0m",
            "\u001b[0;32m<ipython-input-9-a4430d6ea353>\u001b[0m in \u001b[0;36mtest_policy_threshold\u001b[0;34m()\u001b[0m\n\u001b[1;32m    219\u001b[0m     \u001b[0mbelief\u001b[0m\u001b[0;34m[\u001b[0m\u001b[0;34m(\u001b[0m\u001b[0mloc\u001b[0m \u001b[0;34m+\u001b[0m \u001b[0;36m1\u001b[0m\u001b[0;34m)\u001b[0m \u001b[0;34m//\u001b[0m \u001b[0;36m2\u001b[0m\u001b[0;34m]\u001b[0m \u001b[0;34m=\u001b[0m \u001b[0mthreshold\u001b[0m \u001b[0;34m-\u001b[0m \u001b[0;36m0.1\u001b[0m\u001b[0;34m\u001b[0m\u001b[0;34m\u001b[0m\u001b[0m\n\u001b[1;32m    220\u001b[0m \u001b[0;34m\u001b[0m\u001b[0m\n\u001b[0;32m--> 221\u001b[0;31m     \u001b[0;32mif\u001b[0m \u001b[0mpolicy_threshold\u001b[0m\u001b[0;34m(\u001b[0m\u001b[0mthreshold\u001b[0m\u001b[0;34m,\u001b[0m \u001b[0mbelief\u001b[0m\u001b[0;34m,\u001b[0m \u001b[0mloc\u001b[0m\u001b[0;34m)\u001b[0m \u001b[0;34m!=\u001b[0m \u001b[0;34m\"switch\"\u001b[0m\u001b[0;34m:\u001b[0m\u001b[0;34m\u001b[0m\u001b[0;34m\u001b[0m\u001b[0m\n\u001b[0m\u001b[1;32m    222\u001b[0m       \u001b[0;32mraise\u001b[0m \u001b[0mExcerciseError\u001b[0m\u001b[0;34m(\u001b[0m\u001b[0;34m\"'policy_threshold' function is not correctly implemented!\"\u001b[0m\u001b[0;34m)\u001b[0m\u001b[0;34m\u001b[0m\u001b[0;34m\u001b[0m\u001b[0m\n\u001b[1;32m    223\u001b[0m     \u001b[0;32mif\u001b[0m \u001b[0mpolicy_threshold\u001b[0m\u001b[0;34m(\u001b[0m\u001b[0mthreshold\u001b[0m\u001b[0;34m,\u001b[0m \u001b[0mbelief\u001b[0m\u001b[0;34m,\u001b[0m \u001b[0;34m-\u001b[0m\u001b[0;36m1\u001b[0m \u001b[0;34m*\u001b[0m \u001b[0mloc\u001b[0m\u001b[0;34m)\u001b[0m \u001b[0;34m!=\u001b[0m \u001b[0;34m\"stay\"\u001b[0m\u001b[0;34m:\u001b[0m\u001b[0;34m\u001b[0m\u001b[0;34m\u001b[0m\u001b[0m\n",
            "\u001b[0;32m<ipython-input-17-ef8920dd87cb>\u001b[0m in \u001b[0;36mpolicy_threshold\u001b[0;34m(threshold, belief, loc)\u001b[0m\n\u001b[1;32m     29\u001b[0m   \u001b[0;31m##\u001b[0m\u001b[0;34m\u001b[0m\u001b[0;34m\u001b[0m\u001b[0;34m\u001b[0m\u001b[0m\n\u001b[1;32m     30\u001b[0m   \u001b[0;31m## 2. After completing the function, comment this line:\u001b[0m\u001b[0;34m\u001b[0m\u001b[0;34m\u001b[0m\u001b[0;34m\u001b[0m\u001b[0m\n\u001b[0;32m---> 31\u001b[0;31m   \u001b[0;32mraise\u001b[0m \u001b[0mNotImplementedError\u001b[0m\u001b[0;34m(\u001b[0m\u001b[0;34m\"Student exercise: Please complete the code\"\u001b[0m\u001b[0;34m)\u001b[0m\u001b[0;34m\u001b[0m\u001b[0;34m\u001b[0m\u001b[0m\n\u001b[0m\u001b[1;32m     32\u001b[0m   \u001b[0;31m############################################################################\u001b[0m\u001b[0;34m\u001b[0m\u001b[0;34m\u001b[0m\u001b[0;34m\u001b[0m\u001b[0m\n\u001b[1;32m     33\u001b[0m   \u001b[0;31m# Write the if statement\u001b[0m\u001b[0;34m\u001b[0m\u001b[0;34m\u001b[0m\u001b[0;34m\u001b[0m\u001b[0m\n",
            "\u001b[0;31mNotImplementedError\u001b[0m: Student exercise: Please complete the code"
          ]
        }
      ],
      "source": [
        "def policy_threshold(threshold, belief, loc):\n",
        "  \"\"\"\n",
        "  chooses whether to switch side based on whether the belief\n",
        "      on the current site drops below the threshold\n",
        "\n",
        "  Args:\n",
        "    threshold (float): the threshold of belief on the current site,\n",
        "                        when the belief is lower than the threshold, switch side\n",
        "    belief (numpy array of float, 2-dimensional): the belief on the\n",
        "                                                  two sites at a certain time\n",
        "    loc (int) : the location of the agent at a certain time\n",
        "                -1 for left side, 1 for right side\n",
        "\n",
        "  Returns:\n",
        "    act (string): \"stay\" or \"switch\"\n",
        "  \"\"\"\n",
        "      \n",
        "  ############################################################################\n",
        "  ## 1. Modify the code below to generate actions (stay or switch) \n",
        "  ##    for current belief and location\n",
        "  ##\n",
        "  ## Belief is a 2d vector: first element = Prob(fish on Left | measurements)\n",
        "  ##                       second element = Prob(fish on Right  | measurements)\n",
        "  ## Returns \"switch\" if Belief that fish are in your current location < threshold\n",
        "  ##         \"stay\" otherwise\n",
        "  ##\n",
        "  ## Hint: use loc value to determine which row of belief you need to use\n",
        "  ##       see the docstring for more information about loc\n",
        "  ##\n",
        "  ## 2. After completing the function, comment this line:\n",
        "  raise NotImplementedError(\"Student exercise: Please complete the code\")\n",
        "  ############################################################################\n",
        "  # Write the if statement\n",
        "  if ...:    \n",
        "    # action below threshold\n",
        "    act = ...\n",
        "  else:\n",
        "    # action above threshold\n",
        "    act = ...\n",
        "\n",
        "  return act\n",
        "\n",
        "\n",
        "# Next line tests your function\n",
        "test_policy_threshold()"
      ]
    },
    {
      "cell_type": "code",
      "execution_count": 18,
      "metadata": {
        "colab": {
          "base_uri": "https://localhost:8080/"
        },
        "id": "-53UALrL8Ju9",
        "outputId": "dfcf0786-f8ad-4f37-8396-03579a0be27f",
        "tags": []
      },
      "outputs": [
        {
          "output_type": "stream",
          "name": "stdout",
          "text": [
            "Well Done!\n"
          ]
        }
      ],
      "source": [
        "# to_remove solution\n",
        "def policy_threshold(threshold, belief, loc):\n",
        "  \"\"\"\n",
        "  chooses whether to switch side based on whether the belief\n",
        "      on the current site drops below the threshold\n",
        "\n",
        "  Args:\n",
        "    threshold (float): the threshold of belief on the current site,\n",
        "                        when the belief is lower than the threshold, switch side\n",
        "    belief (numpy array of float, 2-dimensional): the belief on the\n",
        "                                                  two sites at a certain time\n",
        "    loc (int) : the location of the agent at a certain time\n",
        "                -1 for left side, 1 for right side\n",
        "\n",
        "  Returns:\n",
        "    act (string): \"stay\" or \"switch\"\n",
        "  \"\"\"\n",
        "  # Write the if statement\n",
        "  if belief[(loc + 1) // 2] <= threshold:\n",
        "    # action below threshold\n",
        "    act = \"switch\"\n",
        "  else:\n",
        "    # action above threshold\n",
        "    act = \"stay\"\n",
        "\n",
        "  return act\n",
        "\n",
        "\n",
        "# Next line tests your function\n",
        "test_policy_threshold()"
      ]
    },
    {
      "cell_type": "markdown",
      "metadata": {
        "execution": {},
        "id": "U89ZM_CF8Ju9",
        "tags": []
      },
      "source": [
        "## Interactive Demo 4: Dynamics with different thresholds\n",
        "\n",
        "The following demo uses the policy you just built! Play arround with the slider. How does your location change when the threshold is low? and when it is high?"
      ]
    },
    {
      "cell_type": "code",
      "execution_count": 19,
      "metadata": {
        "cellView": "form",
        "colab": {
          "base_uri": "https://localhost:8080/",
          "height": 678,
          "referenced_widgets": [
            "66f84420f8374a5bb8b5e8524e6f2068",
            "f757557ecc34437d96278524ed52e9f0",
            "666dc28658ff45ba9741e82a28bce87e",
            "ebda284fa27b4c4db4d683f8385a1528",
            "506daa3225e944faa9d5d078019106b8",
            "f60982323f0545088bf5206f9b95b489",
            "b5be362c92fe49a499d413b71cc042b7"
          ]
        },
        "id": "npZXycvm8Ju-",
        "outputId": "90a08973-4cd1-4e10-bf06-b99bb110f464",
        "tags": []
      },
      "outputs": [
        {
          "output_type": "display_data",
          "data": {
            "text/plain": [
              "<IPython.core.display.HTML object>"
            ],
            "text/html": [
              "<style>.widget-label { min-width: 15ex !important; }</style>"
            ]
          },
          "metadata": {}
        },
        {
          "output_type": "display_data",
          "data": {
            "text/plain": [
              "interactive(children=(FloatSlider(value=0.2, description='threshold', max=1.0, step=0.01), Output()), _dom_cla…"
            ],
            "application/vnd.jupyter.widget-view+json": {
              "version_major": 2,
              "version_minor": 0,
              "model_id": "66f84420f8374a5bb8b5e8524e6f2068"
            }
          },
          "metadata": {}
        }
      ],
      "source": [
        "# @markdown Execute this cell to enable the demo.\n",
        "display(HTML('''<style>.widget-label { min-width: 15ex !important; }</style>'''))\n",
        "\n",
        "@widgets.interact(threshold=widgets.FloatSlider(.2, description=\"threshold\", min=0., max=1., step=.01))\n",
        "\n",
        "def update_ex_4(threshold):\n",
        "  \"\"\"\n",
        "    p_stay: probability fish stay\n",
        "    high_rew_p: p(catch fish) when you're on their side\n",
        "    low_rew_p : p(catch fish) when you're on other side\n",
        "    threshold: threshold of belief below which switching is taken\n",
        "  \"\"\"\n",
        "  \n",
        "  p_stay=.95\n",
        "  high_rew_p=.3\n",
        "  low_rew_p=.1\n",
        "  \n",
        "  params = [p_stay, high_rew_p, low_rew_p, threshold]\n",
        "\n",
        "  #### initial condition for fish [fish_initial] and you [loc_initial] ####\n",
        "  binaryHMM_test = binaryHMM_belief(params, fish_initial=0, loc_initial=0, choose_policy=\"threshold\")\n",
        "\n",
        "  belief, loc, act, measurement, fish_state = binaryHMM_test.generate_process()\n",
        "  plot_dynamics(belief, loc, act, measurement,\n",
        "                fish_state, binaryHMM_test.choose_policy)\n",
        "  \n",
        "plt.show()  "
      ]
    },
    {
      "cell_type": "markdown",
      "metadata": {
        "id": "yBv1IytfseIG"
      },
      "source": [
        "**Thinking question:**\n",
        "\n",
        "* How well does this policy follow the fish?\n",
        "* How can you characterize the fishing strategy if the threshold is very low, or very high?"
      ]
    },
    {
      "cell_type": "code",
      "source": [
        "# to_remove explanation\n",
        "\n",
        "\"\"\"\n",
        "Write the model answer here.\n",
        "\"\"\""
      ],
      "metadata": {
        "id": "b2TSgHYMOeh0"
      },
      "execution_count": null,
      "outputs": []
    },
    {
      "cell_type": "markdown",
      "metadata": {
        "execution": {},
        "id": "bDu1Ut2h8Ju_"
      },
      "source": [
        "---\n",
        "# Section 5: Implementing a value function"
      ]
    },
    {
      "cell_type": "code",
      "execution_count": 20,
      "metadata": {
        "cellView": "form",
        "colab": {
          "base_uri": "https://localhost:8080/",
          "height": 581,
          "referenced_widgets": [
            "fe9319e8128a4dbdb7fb115220c01b2d",
            "5a6e1cb43ca948eeba6fd659857f04ee",
            "a02ef08893944fff9fe964a2faa22c30",
            "1160a636e4794f53bb30f3aba935792e",
            "6a599314f3584b09bb2941ed687b95cd",
            "5a02bb002a9541c1b376e4b92489410e"
          ]
        },
        "id": "a273I5sg8Ju_",
        "outputId": "ec266630-7e0c-4f99-9b30-679662cf3a1d",
        "tags": []
      },
      "outputs": [
        {
          "output_type": "display_data",
          "data": {
            "text/plain": [
              "Tab(children=(Output(), Output()), _titles={'0': 'Youtube', '1': 'Bilibili'})"
            ],
            "application/vnd.jupyter.widget-view+json": {
              "version_major": 2,
              "version_minor": 0,
              "model_id": "fe9319e8128a4dbdb7fb115220c01b2d"
            }
          },
          "metadata": {}
        }
      ],
      "source": [
        "# @title Video 5: Evaluate policy\n",
        "from ipywidgets import widgets\n",
        "\n",
        "out2 = widgets.Output()\n",
        "with out2:\n",
        "  from IPython.display import IFrame\n",
        "  class BiliVideo(IFrame):\n",
        "      def __init__(self, id, page=1, width=400, height=300, **kwargs):\n",
        "          self.id=id\n",
        "          src = 'https://player.bilibili.com/player.html?bvid={0}&page={1}'.format(id, page)\n",
        "          super(BiliVideo, self).__init__(src, width, height, **kwargs)\n",
        "\n",
        "  video = BiliVideo(id=\"BV1TD4y1D7K3\", width=854, height=480, fs=1)\n",
        "  print('Video available at https://www.bilibili.com/video/{0}'.format(video.id))\n",
        "  display(video)\n",
        "\n",
        "out1 = widgets.Output()\n",
        "with out1:\n",
        "  from IPython.display import YouTubeVideo\n",
        "  video = YouTubeVideo(id=\"aJhffROC74w\", width=854, height=480, fs=1, rel=0)\n",
        "  print('Video available at https://youtube.com/watch?v=' + video.id)\n",
        "  display(video)\n",
        "\n",
        "out = widgets.Tab([out1, out2])\n",
        "out.set_title(0, 'Youtube')\n",
        "out.set_title(1, 'Bilibili')\n",
        "\n",
        "display(out)"
      ]
    },
    {
      "cell_type": "markdown",
      "metadata": {
        "execution": {},
        "id": "hFuQ8P2_8JvA"
      },
      "source": [
        "## Coding Exercise 5: Implementing a value function\n",
        "\n",
        "Let's find out how good our threshold is. For that, we will calculate a **value function** that quantifies our utility (total points). We will use this value to compare different thresholds; remember, our goal is to maximize the amount of fish we catch while minimizing the effort involved in changing locations.\n",
        "\n",
        "The value is the total expected utility per unit time.\n",
        "\n",
        "\\begin{equation}\n",
        "V(\\theta) = \\frac{1}{T}\\left( \\sum_t R(s_t) - C(a_t) \\right)\n",
        "\\end{equation}\n",
        "\n",
        "where $R(s_t)$ is the instantaneous reward we get at location $s_t$ and $C(a_t)$ is the cost we paid for the chosen action. Remember, we receive one point for fish caught and pay `cost_sw` points for switching to the other location. \n",
        "\n",
        "We could take this average mathematically over the probabilities of rewards and actions. However, we can get the same answer by simply averaging the _actual_ rewards and costs over a long time. This is what you are going to do.\n",
        "\n",
        "\n",
        "**Instructions**: Fill in the function `get_value(rewards, actions, cost_sw)`."
      ]
    },
    {
      "cell_type": "code",
      "execution_count": 21,
      "metadata": {
        "cellView": "both",
        "colab": {
          "base_uri": "https://localhost:8080/",
          "height": 346
        },
        "id": "zFcPU0AM8JvA",
        "outputId": "b97dece4-140b-45f6-a6f2-5344d3aa932e",
        "tags": []
      },
      "outputs": [
        {
          "output_type": "error",
          "ename": "NotImplementedError",
          "evalue": "ignored",
          "traceback": [
            "\u001b[0;31m---------------------------------------------------------------------------\u001b[0m",
            "\u001b[0;31mNotImplementedError\u001b[0m                       Traceback (most recent call last)",
            "\u001b[0;32m<ipython-input-21-32dbd54e3898>\u001b[0m in \u001b[0;36m<module>\u001b[0;34m()\u001b[0m\n\u001b[1;32m     26\u001b[0m \u001b[0;34m\u001b[0m\u001b[0m\n\u001b[1;32m     27\u001b[0m \u001b[0;31m# Test your function\u001b[0m\u001b[0;34m\u001b[0m\u001b[0;34m\u001b[0m\u001b[0;34m\u001b[0m\u001b[0m\n\u001b[0;32m---> 28\u001b[0;31m \u001b[0mtest_value_function\u001b[0m\u001b[0;34m(\u001b[0m\u001b[0;34m)\u001b[0m\u001b[0;34m\u001b[0m\u001b[0;34m\u001b[0m\u001b[0m\n\u001b[0m",
            "\u001b[0;32m<ipython-input-9-a4430d6ea353>\u001b[0m in \u001b[0;36mtest_value_function\u001b[0;34m()\u001b[0m\n\u001b[1;32m    232\u001b[0m                   \"stay\", \"switch\", \"switch\", \"stay\", \"stay\"])\n\u001b[1;32m    233\u001b[0m   \u001b[0mcost_sw\u001b[0m \u001b[0;34m=\u001b[0m \u001b[0;36m.5\u001b[0m\u001b[0;34m\u001b[0m\u001b[0;34m\u001b[0m\u001b[0m\n\u001b[0;32m--> 234\u001b[0;31m   \u001b[0;32mif\u001b[0m \u001b[0;32mnot\u001b[0m \u001b[0misclose\u001b[0m\u001b[0;34m(\u001b[0m\u001b[0mget_value\u001b[0m\u001b[0;34m(\u001b[0m\u001b[0mmeasurement\u001b[0m\u001b[0;34m,\u001b[0m \u001b[0mact\u001b[0m\u001b[0;34m,\u001b[0m \u001b[0mcost_sw\u001b[0m\u001b[0;34m)\u001b[0m\u001b[0;34m,\u001b[0m \u001b[0;36m.1\u001b[0m\u001b[0;34m)\u001b[0m\u001b[0;34m:\u001b[0m\u001b[0;34m\u001b[0m\u001b[0;34m\u001b[0m\u001b[0m\n\u001b[0m\u001b[1;32m    235\u001b[0m     \u001b[0;32mraise\u001b[0m \u001b[0mExcerciseError\u001b[0m\u001b[0;34m(\u001b[0m\u001b[0;34m\"'value_function' function is not correctly implemented!\"\u001b[0m\u001b[0;34m)\u001b[0m\u001b[0;34m\u001b[0m\u001b[0;34m\u001b[0m\u001b[0m\n\u001b[1;32m    236\u001b[0m   \u001b[0mprint\u001b[0m\u001b[0;34m(\u001b[0m\u001b[0;34m\"Well Done!\"\u001b[0m\u001b[0;34m)\u001b[0m\u001b[0;34m\u001b[0m\u001b[0;34m\u001b[0m\u001b[0m\n",
            "\u001b[0;32m<ipython-input-21-32dbd54e3898>\u001b[0m in \u001b[0;36mget_value\u001b[0;34m(rewards, actions, cost_sw)\u001b[0m\n\u001b[1;32m     17\u001b[0m   \u001b[0;31m##\u001b[0m\u001b[0;34m\u001b[0m\u001b[0;34m\u001b[0m\u001b[0;34m\u001b[0m\u001b[0m\n\u001b[1;32m     18\u001b[0m   \u001b[0;31m## 2. After completing the function, comment this line:\u001b[0m\u001b[0;34m\u001b[0m\u001b[0;34m\u001b[0m\u001b[0;34m\u001b[0m\u001b[0m\n\u001b[0;32m---> 19\u001b[0;31m   \u001b[0;32mraise\u001b[0m \u001b[0mNotImplementedError\u001b[0m\u001b[0;34m(\u001b[0m\u001b[0;34m\"Student exercise: Please complete the code\"\u001b[0m\u001b[0;34m)\u001b[0m\u001b[0;34m\u001b[0m\u001b[0;34m\u001b[0m\u001b[0m\n\u001b[0m\u001b[1;32m     20\u001b[0m   \u001b[0;31m############################################################################\u001b[0m\u001b[0;34m\u001b[0m\u001b[0;34m\u001b[0m\u001b[0;34m\u001b[0m\u001b[0m\n\u001b[1;32m     21\u001b[0m   \u001b[0;31m# Calculate the value function\u001b[0m\u001b[0;34m\u001b[0m\u001b[0;34m\u001b[0m\u001b[0;34m\u001b[0m\u001b[0m\n",
            "\u001b[0;31mNotImplementedError\u001b[0m: Student exercise: Please complete the code"
          ]
        }
      ],
      "source": [
        "def get_value(rewards, actions, cost_sw):\n",
        "  \"\"\"\n",
        "  value function\n",
        "\n",
        "  Args:\n",
        "    rewards (numpy array of length T): whether a reward is obtained (1) or not (0) at each time step\n",
        "    actions (numpy array of length T): action, \"stay\" or \"switch\", taken at each time step.\n",
        "    cost_sw (float): the cost of switching to the other location\n",
        "    \n",
        "  Returns:\n",
        "    value (float): expected utility per unit time\n",
        "  \"\"\"\n",
        "  actions_int = (actions == \"switch\").astype(int)\n",
        "\n",
        "  ############################################################################\n",
        "  ## 1. Modify the code below to compute the value function (equation V(theta))\n",
        "  ##\n",
        "  ## 2. After completing the function, comment this line:\n",
        "  raise NotImplementedError(\"Student exercise: Please complete the code\")\n",
        "  ############################################################################\n",
        "  # Calculate the value function\n",
        "  value = ...\n",
        "\n",
        "  return value\n",
        "\n",
        "\n",
        "# Test your function\n",
        "test_value_function()"
      ]
    },
    {
      "cell_type": "code",
      "execution_count": 22,
      "metadata": {
        "colab": {
          "base_uri": "https://localhost:8080/"
        },
        "id": "eAQrDd9i8JvA",
        "outputId": "a7a35a32-db6e-44a3-85dc-bf2efd3874bd",
        "tags": []
      },
      "outputs": [
        {
          "output_type": "stream",
          "name": "stdout",
          "text": [
            "Well Done!\n"
          ]
        }
      ],
      "source": [
        "# to_remove solution\n",
        "\n",
        "def get_value(rewards, actions, cost_sw):\n",
        "  \"\"\"\n",
        "  Args:\n",
        "    rewards (numpy array of length T): whether a reward is obtained (1) or not (0) at each time step\n",
        "    actions (numpy array of length T): action, \"stay\" or \"switch\", taken at each time step.\n",
        "    cost_sw (float): the cost of switching to the other location\n",
        "    \n",
        "  Returns:\n",
        "    value (float): expected utility per unit time\n",
        "  \"\"\"\n",
        "  actions_int = (actions == \"switch\").astype(int)\n",
        "\n",
        "  # Calculate the value function\n",
        "  value = np.sum(rewards - actions_int * cost_sw) / len(rewards)\n",
        "\n",
        "  return value\n",
        "\n",
        "\n",
        "# Test your function\n",
        "test_value_function()"
      ]
    },
    {
      "cell_type": "markdown",
      "metadata": {
        "id": "JQzy-si-4MVs"
      },
      "source": [
        "Now that you have a mechanism to find out how good a threshold is, we will use a brute force approach to **compute the optimal threshold**: we'll just try all thresholds, simulate the value of each, and pick the best one. Complete the function `get_optimal_threshold(p_stay, low_rew_p, high_rew_p, cost_sw)`. We provide the code to visualize the output of your function. Observe on this plot which threshold has maximal utility."
      ]
    },
    {
      "cell_type": "code",
      "source": [
        "def run_policy(threshold):\n",
        "  \"\"\"\n",
        "  This function executes the policy (fully parameterized by the threshold) and\n",
        "  returns two arrays: \n",
        "    The sequence of actions taken from time 0 to T\n",
        "    The sequence of rewards obtained from time 0 to T\n",
        "  \"\"\"\n",
        "  params = [p_stay, low_rew_p, high_rew_p, threshold]\n",
        "  binaryHMM_test = binaryHMM_belief(params, choose_policy=\"threshold\")\n",
        "  _, _, actions, rewards, _ = binaryHMM_test.generate_process()  \n",
        "  \n",
        "  return actions, rewards\n",
        "\n",
        "def get_optimal_threshold(p_stay, low_rew_p, high_rew_p, cost_sw):\n",
        "  \"\"\"\n",
        "  Args:\n",
        "    p_stay (float): probability of fish staying in their current location\n",
        "    low_rew_p (float): probability of catching fish when you and the fist are in different locations.\n",
        "    high_rew_p (float): probability of catching fish when you and the fist are in the same location.\n",
        "    cost_sw (float): the cost of switching to the other location\n",
        "    \n",
        "  Returns:\n",
        "    value (float): expected utility per unit time\n",
        "  \"\"\"\n",
        "  \n",
        "  ############################################################################\n",
        "  ## 1. Modify the code below to find the best threshold using brute force\n",
        "  ##\n",
        "  ## 2. After completing the function, comment this line:\n",
        "  raise NotImplementedError(\"Student exercise: Please complete the code\")\n",
        "  ############################################################################\n",
        "  T = 1000                # Time horizon\n",
        "  get_randomness(T)       \n",
        "\n",
        "  # Create an array of 20 equally distanced candidate thresholds (min = 0., max=1.):\n",
        "  threshold_array = ...\n",
        "  \n",
        "  # Create an array to store the value of each of your candidates:\n",
        "  value_array = ...\n",
        "  \n",
        "  # Using the function get_value() that you coded before and\n",
        "  # the function run_policy() that we provide, compute the value of your \n",
        "  # candidate thresholds.    \n",
        "  # for ...\n",
        "  \n",
        "  # Return the array of candidate thresholds and their respective values\n",
        "  return threshold_array, value_array\n",
        "\n",
        "# Feel free to change these parameters\n",
        "p_stay = .9\n",
        "low_rew_p = 0.1\n",
        "high_rew_p = 0.3\n",
        "cost_sw = .2\n",
        "\n",
        "threshold_array, value_array = get_optimal_threshold(p_stay, low_rew_p, high_rew_p, cost_sw)\n",
        "\n",
        "# Uncomment this line to visually determine the threshold that obtains the maximum utility\n",
        "# plot_value_threshold(threshold_array, value_array)"
      ],
      "metadata": {
        "colab": {
          "base_uri": "https://localhost:8080/",
          "height": 357
        },
        "id": "kL53LvOcyXCg",
        "outputId": "3e10fe6c-91f3-4c91-fecd-fd908723a291"
      },
      "execution_count": 23,
      "outputs": [
        {
          "output_type": "error",
          "ename": "NotImplementedError",
          "evalue": "ignored",
          "traceback": [
            "\u001b[0;31m---------------------------------------------------------------------------\u001b[0m",
            "\u001b[0;31mNotImplementedError\u001b[0m                       Traceback (most recent call last)",
            "\u001b[0;32m<ipython-input-23-7ee7cda5aa81>\u001b[0m in \u001b[0;36m<module>\u001b[0;34m()\u001b[0m\n\u001b[1;32m     53\u001b[0m \u001b[0mcost_sw\u001b[0m \u001b[0;34m=\u001b[0m \u001b[0;36m.2\u001b[0m\u001b[0;34m\u001b[0m\u001b[0;34m\u001b[0m\u001b[0m\n\u001b[1;32m     54\u001b[0m \u001b[0;34m\u001b[0m\u001b[0m\n\u001b[0;32m---> 55\u001b[0;31m \u001b[0mthreshold_array\u001b[0m\u001b[0;34m,\u001b[0m \u001b[0mvalue_array\u001b[0m \u001b[0;34m=\u001b[0m \u001b[0mget_optimal_threshold\u001b[0m\u001b[0;34m(\u001b[0m\u001b[0mp_stay\u001b[0m\u001b[0;34m,\u001b[0m \u001b[0mlow_rew_p\u001b[0m\u001b[0;34m,\u001b[0m \u001b[0mhigh_rew_p\u001b[0m\u001b[0;34m,\u001b[0m \u001b[0mcost_sw\u001b[0m\u001b[0;34m)\u001b[0m\u001b[0;34m\u001b[0m\u001b[0;34m\u001b[0m\u001b[0m\n\u001b[0m\u001b[1;32m     56\u001b[0m \u001b[0;34m\u001b[0m\u001b[0m\n\u001b[1;32m     57\u001b[0m \u001b[0;31m# Uncomment this line to visually determine the threshold that obtains the maximum utility\u001b[0m\u001b[0;34m\u001b[0m\u001b[0;34m\u001b[0m\u001b[0;34m\u001b[0m\u001b[0m\n",
            "\u001b[0;32m<ipython-input-23-7ee7cda5aa81>\u001b[0m in \u001b[0;36mget_optimal_threshold\u001b[0;34m(p_stay, low_rew_p, high_rew_p, cost_sw)\u001b[0m\n\u001b[1;32m     28\u001b[0m   \u001b[0;31m##\u001b[0m\u001b[0;34m\u001b[0m\u001b[0;34m\u001b[0m\u001b[0;34m\u001b[0m\u001b[0m\n\u001b[1;32m     29\u001b[0m   \u001b[0;31m## 2. After completing the function, comment this line:\u001b[0m\u001b[0;34m\u001b[0m\u001b[0;34m\u001b[0m\u001b[0;34m\u001b[0m\u001b[0m\n\u001b[0;32m---> 30\u001b[0;31m   \u001b[0;32mraise\u001b[0m \u001b[0mNotImplementedError\u001b[0m\u001b[0;34m(\u001b[0m\u001b[0;34m\"Student exercise: Please complete the code\"\u001b[0m\u001b[0;34m)\u001b[0m\u001b[0;34m\u001b[0m\u001b[0;34m\u001b[0m\u001b[0m\n\u001b[0m\u001b[1;32m     31\u001b[0m   \u001b[0;31m############################################################################\u001b[0m\u001b[0;34m\u001b[0m\u001b[0;34m\u001b[0m\u001b[0;34m\u001b[0m\u001b[0m\n\u001b[1;32m     32\u001b[0m   \u001b[0mT\u001b[0m \u001b[0;34m=\u001b[0m \u001b[0;36m1000\u001b[0m                \u001b[0;31m# Time horizon\u001b[0m\u001b[0;34m\u001b[0m\u001b[0;34m\u001b[0m\u001b[0m\n",
            "\u001b[0;31mNotImplementedError\u001b[0m: Student exercise: Please complete the code"
          ]
        }
      ]
    },
    {
      "cell_type": "code",
      "execution_count": 24,
      "metadata": {
        "colab": {
          "base_uri": "https://localhost:8080/",
          "height": 430
        },
        "id": "syEkDjWU8JvB",
        "outputId": "d64143af-de0d-4f8a-a528-eb17f2262873",
        "tags": []
      },
      "outputs": [
        {
          "output_type": "display_data",
          "data": {
            "text/plain": [
              "<Figure size 576x432 with 1 Axes>"
            ],
            "image/png": "[encoded data removed]"
          },
          "metadata": {
            "image/png": {
              "width": 549,
              "height": 413
            },
            "needs_background": "light"
          }
        }
      ],
      "source": [
        "# to_remove solution\n",
        "\n",
        "def run_policy(threshold):\n",
        "  \"\"\"\n",
        "  This function executes the policy (fully parameterized by the threshold) and\n",
        "  returns two arrays: \n",
        "    The sequence of actions taken from time 0 to T\n",
        "    The sequence of rewards obtained from time 0 to T\n",
        "  \"\"\"\n",
        "  params = [p_stay, low_rew_p, high_rew_p, threshold]\n",
        "  binaryHMM_test = binaryHMM_belief(params, choose_policy=\"threshold\")\n",
        "  _, _, actions, rewards, _ = binaryHMM_test.generate_process()  \n",
        "  \n",
        "  return actions, rewards\n",
        "\n",
        "def get_optimal_threshold(p_stay, low_rew_p, high_rew_p, cost_sw):\n",
        "  \"\"\"\n",
        "  Args:\n",
        "    p_stay (float): probability of fish staying in their current location\n",
        "    low_rew_p (float): probability of catching fish when you and the fist are in different locations.\n",
        "    high_rew_p (float): probability of catching fish when you and the fist are in the same location.\n",
        "    cost_sw (float): the cost of switching to the other location\n",
        "    \n",
        "  Returns:\n",
        "    value (float): expected utility per unit time\n",
        "  \"\"\"\n",
        "  T = 1000            # Setting a large time horizon\n",
        "  get_randomness(T)\n",
        "\n",
        "  # Create an array of 20 equally distanced candidate thresholds (min = 0., max=1.):\n",
        "  threshold_array = np.linspace(0., 1., 20)\n",
        "  \n",
        "  # Using the function get_value() that you coded before and\n",
        "  # the function run_policy() that we provide, compute the value of your \n",
        "  # candidate thresholds:\n",
        "\n",
        "  # This array will store the value of each of your candidates:\n",
        "  value_array = np.zeros(len(threshold_array))\n",
        "\n",
        "  for i in range(len(threshold_array)):\n",
        "      actions, rewards = run_policy(threshold_array[i])\n",
        "      value_array[i] = get_value(rewards, actions, cost_sw)\n",
        "  \n",
        "  # Return the array of candidate thresholds and their respective values\n",
        "\n",
        "  return threshold_array, value_array\n",
        "\n",
        "# Feel free to change these parameters\n",
        "p_stay = .9\n",
        "low_rew_p = 0.1\n",
        "high_rew_p = 0.3\n",
        "cost_sw = .2\n",
        "\n",
        "# Visually determine the threshold that obtains the maximum utility\n",
        "threshold_array, value_array = get_optimal_threshold(p_stay, low_rew_p, high_rew_p, cost_sw)\n",
        "plot_value_threshold(threshold_array, value_array)"
      ]
    },
    {
      "cell_type": "markdown",
      "metadata": {
        "id": "sexpoUjEseIK"
      },
      "source": [
        "**Thinking questions:**\n",
        "\n",
        "* Try a very high switching cost. What is the best threshold? How does that make sense?\n",
        "* Try a zero switching cost. What's different?\n",
        "* Generally, how does the best threshold change with the switching cost? "
      ]
    },
    {
      "cell_type": "markdown",
      "metadata": {
        "execution": {},
        "id": "cOqreL0m8JvB"
      },
      "source": [
        "---\n",
        "# Summary\n",
        "\n",
        "In this tutorial, you combined Hidden Markov Models with actions to solve an optimal control problem! This showed us the core formalism of the *Partially Observable Markov Decision Process* (POMDP).\n",
        "\n",
        "Using observations (fish caught), you built beliefs (posterior distributions) that helped you estimate where the fish were. Next, you computed a value function that helped you evaluate the quality of different policies. Finally, using a brute force approach, you discovered an optimal policy that allowed you to catch as many fish as possible while minimizing the effort of switching your location.\n",
        "\n",
        "The following tutorial will use continuous states and actions instead of the binary ones we used here. In continuous control, we can still use a POMDP, but we'll focus on control in the *fully* observed case, a Markov Decision Process (MDP), since the policy is still illuminating."
      ]
    },
    {
      "cell_type": "code",
      "execution_count": 25,
      "metadata": {
        "colab": {
          "base_uri": "https://localhost:8080/",
          "height": 581,
          "referenced_widgets": [
            "68e65eb040ee4947b7a36efb8dd77a45",
            "7d0e7f1af3a840f8a18de8654fbbc60b",
            "d3833c5ea27343009ef35b13f7835cc8",
            "c0c64b4cd17346c399b3569cb20da706",
            "5633b218e17140c2a6eeb1ffcd1f254b",
            "21ca6b51f4a743bc90211cab374d1c3a"
          ]
        },
        "id": "yRiklUrR8JvD",
        "outputId": "4e28c424-236f-4198-befe-661bdad993d8",
        "tags": [],
        "cellView": "form"
      },
      "outputs": [
        {
          "output_type": "display_data",
          "data": {
            "text/plain": [
              "Tab(children=(Output(), Output()), _titles={'0': 'Youtube', '1': 'Bilibili'})"
            ],
            "application/vnd.jupyter.widget-view+json": {
              "version_major": 2,
              "version_minor": 0,
              "model_id": "68e65eb040ee4947b7a36efb8dd77a45"
            }
          },
          "metadata": {}
        }
      ],
      "source": [
        "# @title Video 7: From discrete to continuous control\n",
        "from ipywidgets import widgets\n",
        "\n",
        "out2 = widgets.Output()\n",
        "with out2:\n",
        "  from IPython.display import IFrame\n",
        "  class BiliVideo(IFrame):\n",
        "      def __init__(self, id, page=1, width=400, height=300, **kwargs):\n",
        "          self.id=id\n",
        "          src = 'https://player.bilibili.com/player.html?bvid={0}&page={1}'.format(id, page)\n",
        "          super(BiliVideo, self).__init__(src, width, height, **kwargs)\n",
        "\n",
        "  video = BiliVideo(id=\"BV1JA411v7jy\", width=854, height=480, fs=1)\n",
        "  print('Video available at https://www.bilibili.com/video/{0}'.format(video.id))\n",
        "  display(video)\n",
        "\n",
        "out1 = widgets.Output()\n",
        "with out1:\n",
        "  from IPython.display import YouTubeVideo\n",
        "  video = YouTubeVideo(id=\"ndCMgdjv9Gg\", width=854, height=480, fs=1, rel=0)\n",
        "  print('Video available at https://youtube.com/watch?v=' + video.id)\n",
        "  display(video)\n",
        "\n",
        "out = widgets.Tab([out1, out2])\n",
        "out.set_title(0, 'Youtube')\n",
        "out.set_title(1, 'Bilibili')\n",
        "\n",
        "display(out)"
      ]
    },
    {
      "cell_type": "markdown",
      "metadata": {
        "execution": {},
        "id": "CyxXUWth8JvB"
      },
      "source": [
        "---\n",
        "# Bonus"
      ]
    },
    {
      "cell_type": "markdown",
      "metadata": {
        "execution": {},
        "id": "1U4XXQZW8JvC"
      },
      "source": [
        "---\n",
        "## Bonus Section: How does the optimal policy depend on the task?"
      ]
    },
    {
      "cell_type": "code",
      "execution_count": 26,
      "metadata": {
        "cellView": "form",
        "colab": {
          "base_uri": "https://localhost:8080/",
          "height": 581,
          "referenced_widgets": [
            "e85e90c96839414db1b9c6a606048839",
            "7eb642971a634b7f96a6a422ab67c115",
            "4a0b4ed9032b45328e1b8d13468b7145",
            "087ed58da7c44b868b744ceb477c1e74",
            "0f94255b4de9458aaf388d85dbf384a1",
            "3df1cc172ac44565b64a26c255863f41"
          ]
        },
        "id": "OTPBe7-g8JvC",
        "outputId": "343d2a16-2b33-403e-9832-208172be6b4e",
        "tags": []
      },
      "outputs": [
        {
          "output_type": "display_data",
          "data": {
            "text/plain": [
              "Tab(children=(Output(), Output()), _titles={'0': 'Youtube', '1': 'Bilibili'})"
            ],
            "application/vnd.jupyter.widget-view+json": {
              "version_major": 2,
              "version_minor": 0,
              "model_id": "e85e90c96839414db1b9c6a606048839"
            }
          },
          "metadata": {}
        }
      ],
      "source": [
        "# @title Video 6: Sensitivity of optimal policy\n",
        "from ipywidgets import widgets\n",
        "\n",
        "out2 = widgets.Output()\n",
        "with out2:\n",
        "  from IPython.display import IFrame\n",
        "  class BiliVideo(IFrame):\n",
        "      def __init__(self, id, page=1, width=400, height=300, **kwargs):\n",
        "          self.id=id\n",
        "          src = 'https://player.bilibili.com/player.html?bvid={0}&page={1}'.format(id, page)\n",
        "          super(BiliVideo, self).__init__(src, width, height, **kwargs)\n",
        "\n",
        "  video = BiliVideo(id=\"BV1QK4y1e7N9\", width=854, height=480, fs=1)\n",
        "  print('Video available at https://www.bilibili.com/video/{0}'.format(video.id))\n",
        "  display(video)\n",
        "\n",
        "out1 = widgets.Output()\n",
        "with out1:\n",
        "  from IPython.display import YouTubeVideo\n",
        "  video = YouTubeVideo(id=\"wd8IVsKoEfA\", width=854, height=480, fs=1, rel=0)\n",
        "  print('Video available at https://youtube.com/watch?v=' + video.id)\n",
        "  display(video)\n",
        "\n",
        "out = widgets.Tab([out1, out2])\n",
        "out.set_title(0, 'Youtube')\n",
        "out.set_title(1, 'Bilibili')\n",
        "\n",
        "display(out)"
      ]
    },
    {
      "cell_type": "markdown",
      "metadata": {
        "execution": {},
        "id": "XOiw2RgH8JvC"
      },
      "source": [
        "### Bonus Interactive Demo 1\n",
        "\n",
        "In this demo, you can play with various task parameters. Observe how the optimal threshold changes when you adjust:\n",
        "* The switching cost\n",
        "* The fish dynamics (`p(stay)`)\n",
        "* The probability of catching fish on each side, `p(high_rwd)` and `p(low_rwd)`\n",
        "\n",
        "Can you explain why the optimal threshold changes with these parameters?\n",
        "\n",
        "Can you guess how the optimal threshold will change for:\n",
        "* lower switching cost?\n",
        "* faster fish dynamics (_i.e._, low `p_stay`)?\n",
        "* rarer fish caught (_i.e._, low `p(high_rwd)` and low `p(low_rwd)`)?\n",
        "\n",
        "Note that it may require long simulations to see subtle changes in values of different policies, so look for coarse trends first."
      ]
    },
    {
      "cell_type": "code",
      "execution_count": 27,
      "metadata": {
        "colab": {
          "base_uri": "https://localhost:8080/",
          "height": 558,
          "referenced_widgets": [
            "67407fd285f349c4a02738fefdb3cd4c",
            "55547f210d93411f854fb8aeff0e8da9",
            "b04b94257dd5429ea2ade55a05692a73",
            "b9c50146332d4a48b46740b642d41d14",
            "6259930f83fd4dc5a96d217bd291f12b",
            "76018dafc19a49cdb7e080961a749939",
            "334b8114f7e44509bec47f9bd05b508f",
            "d25b03c0b4b7478783252bacbc7900d9",
            "c01ed9113d7e4b9299eb0f2d48b01783",
            "d1e6ff4d66c04a26808e056d63ec0b29",
            "18869c7ca55b476ea159de4ebdf86f33",
            "4d1bafd8b86946a49e2b15ed98775c62",
            "66edd0ddd8854e779c0b28b353293437",
            "d455b34dbb10431a86f8eac1687b45fb",
            "a93747372ffa4f0da7d76e8e5076819a",
            "fbea9ead045d43c89aa2589f7822700a"
          ]
        },
        "id": "2tLxvr7h8JvC",
        "outputId": "559a86b9-6030-4d4b-f98d-758fc862e4ed",
        "tags": []
      },
      "outputs": [
        {
          "output_type": "display_data",
          "data": {
            "text/plain": [
              "<IPython.core.display.HTML object>"
            ],
            "text/html": [
              "<style>.widget-label { min-width: 15ex !important; }</style>"
            ]
          },
          "metadata": {}
        },
        {
          "output_type": "display_data",
          "data": {
            "text/plain": [
              "interactive(children=(FloatSlider(value=0.95, description='p(stay)', max=1.0), FloatSlider(value=0.4, descript…"
            ],
            "application/vnd.jupyter.widget-view+json": {
              "version_major": 2,
              "version_minor": 0,
              "model_id": "67407fd285f349c4a02738fefdb3cd4c"
            }
          },
          "metadata": {}
        }
      ],
      "source": [
        "# @markdown Make sure you execute this cell to enable the widget!\n",
        "display(HTML('''<style>.widget-label { min-width: 15ex !important; }</style>'''))\n",
        "\n",
        "@widgets.interact(p_stay=widgets.FloatSlider(.95, description=\"p(stay)\", min=0., max=1.),\n",
        "                  p_high_rwd=widgets.FloatSlider(.4, description=\"p(high_rwd)\", min=0., max=1.),\n",
        "                  p_low_rwd=widgets.FloatSlider(.1, description=\"p(low_rwd)\", min=0., max=1.),\n",
        "                  cost_sw=widgets.FloatSlider(.2, description=\"switching cost\", min=0., max=1., step=.01))\n",
        "\n",
        "def update_ex_bonus(p_stay, p_high_rwd, p_low_rwd, cost_sw):\n",
        "  \"\"\"\n",
        "    p_stay: probability fish stay\n",
        "    high_rew_p: p(catch fish) when you're on their side\n",
        "    low_rew_p : p(catch fish) when you're on other side\n",
        "    cost_sw: switching cost\n",
        "  \"\"\"\n",
        "  \n",
        "  threshold_array, value_array = get_optimal_threshold(p_stay, low_rew_p, high_rew_p, cost_sw)\n",
        "  plot_value_threshold(threshold_array, value_array)\n",
        "  \n",
        "plt.show()  "
      ]
    },
    {
      "cell_type": "code",
      "execution_count": 28,
      "metadata": {
        "colab": {
          "base_uri": "https://localhost:8080/",
          "height": 122
        },
        "id": "xQobR2gn8JvC",
        "outputId": "fb8814bb-14c0-407a-c5c8-5e9ba6327f91",
        "tags": []
      },
      "outputs": [
        {
          "output_type": "execute_result",
          "data": {
            "text/plain": [
              "\"\\n\\n* High switching cost means that you should be more certain that the other side\\nis better before committing to change sides. This means that beliefs must fall\\nbelow a threshold before acting. Conversely, a lower switching cost allows you\\nmore flexibility to switch at less stringent thresholds. In the limit of _zero_\\nswitching cost, you should always switch whenever you think the other side is\\nbetter, even if it's just 51%, and even if you switch every time step.\\n* Faster fish dynamics (lower `p_stay`) also promotes faster switching, because\\nyou cannot plan as far into the future. In that case you must base your decisions\\non more immediate evidence, but since you still pay the same switching cost that\\ncost is a higher fraction of your predictable rewards. And thus you should be more\\nconservative, and switch only when you are more confident.\\n* When `high_rew_p` and/or `low_rew_p` decreases, your predictions become less reliable,\\n again encouraging you to require more confidence before committing to a switch.\\n\\n\""
            ],
            "application/vnd.google.colaboratory.intrinsic+json": {
              "type": "string"
            }
          },
          "metadata": {},
          "execution_count": 28
        }
      ],
      "source": [
        "# to_remove explanation\n",
        "\n",
        "\"\"\"\n",
        "\n",
        "* High switching cost means that you should be more certain that the other side\n",
        "is better before committing to change sides. This means that beliefs must fall\n",
        "below a threshold before acting. Conversely, a lower switching cost allows you\n",
        "more flexibility to switch at less stringent thresholds. In the limit of _zero_\n",
        "switching cost, you should always switch whenever you think the other side is\n",
        "better, even if it's just 51%, and even if you switch every time step.\n",
        "* Faster fish dynamics (lower `p_stay`) also promotes faster switching, because\n",
        "you cannot plan as far into the future. In that case you must base your decisions\n",
        "on more immediate evidence, but since you still pay the same switching cost that\n",
        "cost is a higher fraction of your predictable rewards. And thus you should be more\n",
        "conservative, and switch only when you are more confident.\n",
        "* When `high_rew_p` and/or `low_rew_p` decreases, your predictions become less reliable,\n",
        " again encouraging you to require more confidence before committing to a switch.\n",
        "\n",
        "\"\"\""
      ]
    }
  ],
  "metadata": {
    "colab": {
      "collapsed_sections": [
        "1rKQCXx58Jux"
      ],
      "name": "W3D3_Tutorial1.ipynb",
      "provenance": [],
      "toc_visible": true,
      "include_colab_link": true
    },
    "kernel": {
      "display_name": "Python 3",
      "language": "python",
      "name": "python3"
    },
    "kernelspec": {
      "display_name": "Python 3 (ipykernel)",
      "language": "python",
      "name": "python3"
    },
    "language_info": {
      "codemirror_mode": {
        "name": "ipython",
        "version": 3
      },
      "file_extension": ".py",
      "mimetype": "text/x-python",
      "name": "python",
      "nbconvert_exporter": "python",
      "pygments_lexer": "ipython3",
      "version": "3.9.7"
    },
    "pycharm": {
      "stem_cell": {
        "cell_type": "raw",
        "metadata": {
          "collapsed": false
        },
        "source": [
          "# Tutorial 1- Optimal Control for Discrete State\n",
          "\n",
          "Please execute the cell below to initialize the notebook environment.\n",
          "\n",
          "import numpy as np                 # import numpy\n",
          "import scipy               # import scipy\n",
          "import random                      # import basic random number generator functions\n",
          "from scipy.linalg import inv\n",
          "\n",
          "import matplotlib.pyplot as plt    # import matplotlib\n",
          "\n",
          "---\n",
          "\n",
          "## Tutorial objectives\n",
          "\n",
          "In this tutorial, we will implement a binary HMM task.\n",
          "\n",
          "---\n",
          "\n",
          "## Task Description\n",
          "\n",
          "There are two boxes. The box can be in a high-rewarding state ($s=1$), which means that a reward will be delivered with high probabilty $q_{high}$; or the box can be in low-rewarding state ($s=0$), then the reward will be delivered with low probabilty $q_{low}$.\n",
          "\n",
          "The states of the two boxes are latent. At a certain time, only one of the sites can be in high-rewarding state, and the other box will be the opposite. The states of the two boxes switches with a certain probability $p_{sw}$. \n",
          "\n",
          "![alt text](switching.png \"Title\")\n",
          "\n",
          "\n",
          "The agent may stay at one site for sometime. As the agent accumulates evidence about the state of the box on that site, it may choose to stay or switch to the other side with a switching cost $c$. The agent keeps beliefs on the states of the boxes, which is the posterior probability of the state being high-rewarding given all the past observations. Consider the belief on the state of the left box, we have \n",
          "\n",
          "$$b(s_t) = p(s_t = 1 | o_{0:t}, l_{0:t}, a_{0:t-1})$$\n",
          "\n",
          "where $o$ is the observation that whether a reward is obtained, $l$ is the location of the agent, $a$ is the action of staying ($a=0$) or switching($a=1$). \n",
          "\n",
          "Since the two boxes are completely anti-correlated, i.e. only one of the boxes is high-rewarded at a certain time, the the other one is low-rewarded, the belief on the two boxes should sum up to be 1. As a result, we only need to track the belief on one of the boxes. \n",
          "\n",
          "The policy of the agent depends on a threshold on beliefs. When the belief on the box on the other side gets higher than the threshold $\\theta$, the agent will switch to the other side. In other words, the agent will choose to switch when it is confident enough that the other side is high rewarding. \n",
          "\n",
          "The value function can be defined as the reward rate during a single trial.\n",
          "\n",
          "$$v(\\theta) = \\sum_t r_t - c\\cdot 1_{a_t = 1}$$ \n",
          "\n",
          "we would like to see the relation between the threshold and the value function. \n",
          "\n",
          "### Exercise 1: Control for binary HMM\n",
          "In this excercise, we generate the dynamics for the binary HMM task as described above. \n",
          "\n",
          "# This function is the policy based on threshold\n",
          "\n",
          "def policy(threshold, bel, loc):\n",
          "    if loc == 0:\n",
          "        if bel[1]  >= threshold:\n",
          "            act = 1\n",
          "        else:\n",
          "            act = 0\n",
          "    else:  # loc = 1\n",
          "        if bel[0] >= threshold:\n",
          "            act = 1\n",
          "        else:\n",
          "            act = 0\n",
          "\n",
          "    return act\n",
          "\n",
          "# This function generates the dynamics\n",
          "\n",
          "def generateProcess(params):\n",
          "\n",
          "    T, p_sw, q_high, q_low, cost_sw, threshold = params\n",
          "    world_state = np.zeros((2, T), int)  # value :1: good box; 0: bad box\n",
          "    loc = np.zeros(T, int)  # 0: left box               1: right box\n",
          "    obs = np.zeros(T, int)  # 0: did not get food        1: get food\n",
          "    act = np.zeros(T, int)  # 0 : stay                   1: switch and get food from the other side\n",
          "    bel = np.zeros((2, T), float)  # the probability that the left box has food,\n",
          "    # then the probability that the second box has food is 1-b\n",
          "\n",
          "\n",
          "    p = np.array([1 - p_sw, p_sw])  # transition probability to good state\n",
          "    q = np.array([q_low, q_high])\n",
          "    q_mat = np.array([[1 - q_high, q_high], [1 - q_low, q_low]])\n",
          "\n",
          "    for t in range(T):\n",
          "        if t == 0:\n",
          "            world_state[0, t] = 1    # good box\n",
          "            world_state[1, t] = 1 - world_state[0, t]\n",
          "            loc[t] = 0\n",
          "            obs[t] = 0\n",
          "            bel_0 = np.random.random(1)[0]\n",
          "            bel[:, t] = np.array([bel_0, 1-bel_0])\n",
          "\n",
          "            act[t] = policy(threshold, bel[:, t], loc[t])\n",
          "\n",
          "        else:\n",
          "            world_state[0, t] = np.random.binomial(1, p[world_state[0, t - 1]])\n",
          "            world_state[1, t] = 1 - world_state[0, t]\n",
          "\n",
          "            if act[t - 1] == 0:\n",
          "                loc[t] = loc[t - 1]\n",
          "            else:  # after weitching, open the new box, deplete if any; then wait a usualy time\n",
          "                loc[t] = 1 - loc[t - 1]\n",
          "\n",
          "            # new observation\n",
          "            obs[t] = np.random.binomial(1, q[world_state[loc[t], t-1]])\n",
          "\n",
          "            # update belief posterior, p(s[t] | obs(0-t), act(0-t-1))\n",
          "            bel_0 = (bel[0, t-1] * p_sw  + bel[1, t-1] * (1 - p_sw)) * q_mat[loc[t], obs[t]]\n",
          "            bel_1 = (bel[1, t - 1] * p_sw + bel[0, t - 1] * (1 - p_sw)) * q_mat[1-loc[t], obs[t]]\n",
          "\n",
          "            bel[0, t] = bel_0 / (bel_0 + bel_1)\n",
          "            bel[1, t] = bel_1 / (bel_0 + bel_1)\n",
          "\n",
          "            act[t] = policy(threshold, bel[:, t], loc[t])\n",
          "\n",
          "    return bel, obs, act, world_state, loc\n",
          "\n",
          "# value function \n",
          "def value_function(obs, act, cost_sw, discount):\n",
          "    T = len(obs)\n",
          "    discount_time = np.array([discount ** t for t in range(T)])\n",
          "\n",
          "    #value = (np.sum(obs) - np.sum(act) * cost_sw) / T\n",
          "    value = (np.sum(np.multiply(obs, discount_time)) - np.sum(np.multiply(act, discount_time)) * cost_sw) / T\n",
          "\n",
          "    return value\n",
          "\n",
          "def switch_int(obs, act):\n",
          "    sw_t = np.where(act == 1)[0]\n",
          "    sw_int = sw_t[1:] - sw_t[:-1]\n",
          "\n",
          "    return sw_int\n",
          "\n",
          "#Plotting \n",
          "def plot_dynamics(bel, obs, act, world_state, loc):\n",
          "    T = len(obs)\n",
          "\n",
          "    showlen = min(T, 100)\n",
          "    startT = 0\n",
          "\n",
          "    endT = startT + showlen\n",
          "    showT = range(startT, endT)\n",
          "    time_range = np.linspace(0, showlen - 1)\n",
          "\n",
          "    fig_posterior, [ax0, ax1, ax_loc, ax2, ax3] = plt.subplots(5, 1, figsize=(15, 10))\n",
          "\n",
          "    ax0.plot(world_state[0, showT], color='dodgerblue', markersize=10, linewidth=3.0)\n",
          "    ax0.set_ylabel('Left box', rotation=360, fontsize=22)\n",
          "    ax0.yaxis.set_label_coords(-0.1, 0.25)\n",
          "    ax0.set_xticks(np.arange(0, showlen, 10))\n",
          "    ax0.tick_params(axis='both', which='major', labelsize=18)\n",
          "    ax0.set_xlim([0, showlen])\n",
          "\n",
          "\n",
          "    ax3.plot(world_state[1, showT], color='dodgerblue', markersize=10, linewidth=3.0)\n",
          "    ax3.set_ylabel('Right box', rotation=360, fontsize=22)\n",
          "    ax3.yaxis.set_label_coords(-0.1, 0.25)\n",
          "    ax3.tick_params(axis='both', which='major', labelsize=18)\n",
          "    ax3.set_xlim([0, showlen])\n",
          "    ax3.set_xticks(np.arange(0, showlen, 10))\n",
          "\n",
          "    ax1.plot(bel[0, showT], color='dodgerblue', markersize=10, linewidth=3.0)\n",
          "    ax1.plot(time_range, threshold * np.ones(time_range.shape), 'r--')\n",
          "    ax1.yaxis.set_label_coords(-0.1, 0.25)\n",
          "    ax1.set_ylabel('Belief on \\n left box', rotation=360, fontsize=22)\n",
          "    ax1.tick_params(axis='both', which='major', labelsize=18)\n",
          "    ax1.set_xlim([0, showlen])\n",
          "    ax1.set_ylim([0, 1])\n",
          "    ax1.set_xticks(np.arange(0, showlen, 10))\n",
          "\n",
          "\n",
          "    ax_loc.plot(1 - loc[showT], 'g.-', markersize=12, linewidth=5, label = 'location')\n",
          "    ax_loc.plot((act[showT] - .1) * .8, 'v', markersize=10, label = 'action')\n",
          "    ax_loc.plot(obs[showT] * .5, '*', markersize=5, label = 'reward')\n",
          "    ax_loc.legend(loc=\"upper right\")\n",
          "    ax_loc.set_xlim([0, showlen])\n",
          "    ax_loc.set_ylim([0, 1])\n",
          "    #ax_loc.set_yticks([])\n",
          "    ax_loc.set_xticks([0, showlen])\n",
          "    ax_loc.tick_params(axis='both', which='major', labelsize=18)\n",
          "    labels = [item.get_text() for item in ax_loc.get_yticklabels()]\n",
          "    labels[0] = 'Right'\n",
          "    labels[-1] = 'Left'\n",
          "    ax_loc.set_yticklabels(labels)\n",
          "\n",
          "    ax2.plot(bel[1, showT], color='dodgerblue', markersize=10, linewidth=3.0)\n",
          "    ax2.plot(time_range, threshold * np.ones(time_range.shape), 'r--')\n",
          "    ax2.set_xlabel('time', fontsize=18)\n",
          "    ax2.yaxis.set_label_coords(-0.1, 0.25)\n",
          "    ax2.set_ylabel('Belief on  \\n  right box', rotation=360, fontsize=22)\n",
          "    ax2.tick_params(axis='both', which='major', labelsize=18)\n",
          "    ax2.set_xlim([0, showlen])\n",
          "    ax2.set_ylim([0, 1])\n",
          "    ax2.set_xticks(np.arange(0, showlen, 10))\n",
          "\n",
          "    plt.show()\n",
          "\n",
          "def plot_val_thre(threshold_array, value_array):\n",
          "    fig_, ax = plt.subplots(1, 1, figsize=(10, 10))\n",
          "    ax.plot(threshold_array, value_array)\n",
          "    ax.set_ylim([np.min(value_array), np.max(value_array)])\n",
          "    ax.set_title('threshold vs value')\n",
          "    ax.set_xlabel('threshold')\n",
          "    ax.set_ylabel('value')\n",
          "    plt.show()\n",
          "\n",
          "T = 5000\n",
          "p_sw = .95          # state transiton probability\n",
          "q_high = .7\n",
          "q_low = 0 #.2\n",
          "cost_sw = 1 #int(1/(1-p_sw)) - 5\n",
          "threshold = .8    # threshold of belief for switching\n",
          "discount = 1\n",
          "\n",
          "step = 0.1\n",
          "threshold_array = np.arange(0, 1 + step, step)\n",
          "value_array = np.zeros(threshold_array.shape)\n",
          "\n",
          "for i in range(len(threshold_array)):\n",
          "    threshold = threshold_array[i]\n",
          "    params = [T, p_sw, q_high, q_low, cost_sw, threshold]\n",
          "    bel, obs, act, world_state, loc = generateProcess(params)\n",
          "    value_array[i] = value_function(obs, act, cost_sw, discount)\n",
          "    sw_int = switch_int(obs, act)\n",
          "    #print(np.mean(sw_int))\n",
          "\n",
          "    if threshold == 0.8:\n",
          "        plot_dynamics(bel, obs, act, world_state, loc)\n",
          "\n",
          "plot_val_thre(threshold_array, value_array)\n",
          "\n",
          "\n",
          "\n",
          "\n",
          "\n",
          "\n",
          "\n",
          "\n"
        ]
      }
    },
    "widgets": {
      "application/vnd.jupyter.widget-state+json": {
        "bb603a0a8e4f4c69aafe74885f4f8094": {
          "model_module": "@jupyter-widgets/controls",
          "model_name": "TabModel",
          "model_module_version": "1.5.0",
          "state": {
            "_dom_classes": [],
            "_model_module": "@jupyter-widgets/controls",
            "_model_module_version": "1.5.0",
            "_model_name": "TabModel",
            "_titles": {
              "0": "Youtube",
              "1": "Bilibili"
            },
            "_view_count": null,
            "_view_module": "@jupyter-widgets/controls",
            "_view_module_version": "1.5.0",
            "_view_name": "TabView",
            "box_style": "",
            "children": [
              "IPY_MODEL_add73b5539e64089b0918e5766816a68",
              "IPY_MODEL_6c7270ad239f4cbda95c516c9c631406"
            ],
            "layout": "IPY_MODEL_b9848cdbd0c7437ea344e08db7f82631",
            "selected_index": 0
          }
        },
        "add73b5539e64089b0918e5766816a68": {
          "model_module": "@jupyter-widgets/output",
          "model_name": "OutputModel",
          "model_module_version": "1.0.0",
          "state": {
            "_dom_classes": [],
            "_model_module": "@jupyter-widgets/output",
            "_model_module_version": "1.0.0",
            "_model_name": "OutputModel",
            "_view_count": null,
            "_view_module": "@jupyter-widgets/output",
            "_view_module_version": "1.0.0",
            "_view_name": "OutputView",
            "layout": "IPY_MODEL_73b4ca6ff81f451f9d6d6022294fe5a2",
            "msg_id": "",
            "outputs": [
              {
                "output_type": "stream",
                "name": "stdout",
                "text": [
                  "Video available at https://youtube.com/watch?v=3oIwUFpolVA\n"
                ]
              },
              {
                "output_type": "display_data",
                "data": {
                  "text/plain": "<IPython.lib.display.YouTubeVideo at 0x7f8181a01350>",
                  "text/html": "\n        <iframe\n            width=\"854\"\n            height=\"480\"\n            src=\"https://www.youtube.com/embed/3oIwUFpolVA?fs=1&rel=0\"\n            frameborder=\"0\"\n            allowfullscreen\n        ></iframe>\n        ",
                  "image/jpeg": "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\n"
                },
                "metadata": {}
              }
            ]
          }
        },
        "6c7270ad239f4cbda95c516c9c631406": {
          "model_module": "@jupyter-widgets/output",
          "model_name": "OutputModel",
          "model_module_version": "1.0.0",
          "state": {
            "_dom_classes": [],
            "_model_module": "@jupyter-widgets/output",
            "_model_module_version": "1.0.0",
            "_model_name": "OutputModel",
            "_view_count": null,
            "_view_module": "@jupyter-widgets/output",
            "_view_module_version": "1.0.0",
            "_view_name": "OutputView",
            "layout": "IPY_MODEL_fcd13744a98644c5b152e62ff10c1ff0",
            "msg_id": "",
            "outputs": [
              {
                "output_type": "stream",
                "name": "stdout",
                "text": [
                  "Video available at https://www.bilibili.com/video/BV1FL411p7o5\n"
                ]
              },
              {
                "output_type": "display_data",
                "data": {
                  "text/plain": "<__main__.BiliVideo at 0x7f81819f1ed0>",
                  "text/html": "\n        <iframe\n            width=\"854\"\n            height=\"480\"\n            src=\"https://player.bilibili.com/player.html?bvid=BV1FL411p7o5&page=1?fs=1\"\n            frameborder=\"0\"\n            allowfullscreen\n        ></iframe>\n        "
                },
                "metadata": {}
              }
            ]
          }
        },
        "b9848cdbd0c7437ea344e08db7f82631": {
          "model_module": "@jupyter-widgets/base",
          "model_name": "LayoutModel",
          "model_module_version": "1.2.0",
          "state": {
            "_model_module": "@jupyter-widgets/base",
            "_model_module_version": "1.2.0",
            "_model_name": "LayoutModel",
            "_view_count": null,
            "_view_module": "@jupyter-widgets/base",
            "_view_module_version": "1.2.0",
            "_view_name": "LayoutView",
            "align_content": null,
            "align_items": null,
            "align_self": null,
            "border": null,
            "bottom": null,
            "display": null,
            "flex": null,
            "flex_flow": null,
            "grid_area": null,
            "grid_auto_columns": null,
            "grid_auto_flow": null,
            "grid_auto_rows": null,
            "grid_column": null,
            "grid_gap": null,
            "grid_row": null,
            "grid_template_areas": null,
            "grid_template_columns": null,
            "grid_template_rows": null,
            "height": null,
            "justify_content": null,
            "justify_items": null,
            "left": null,
            "margin": null,
            "max_height": null,
            "max_width": null,
            "min_height": null,
            "min_width": null,
            "object_fit": null,
            "object_position": null,
            "order": null,
            "overflow": null,
            "overflow_x": null,
            "overflow_y": null,
            "padding": null,
            "right": null,
            "top": null,
            "visibility": null,
            "width": null
          }
        },
        "73b4ca6ff81f451f9d6d6022294fe5a2": {
          "model_module": "@jupyter-widgets/base",
          "model_name": "LayoutModel",
          "model_module_version": "1.2.0",
          "state": {
            "_model_module": "@jupyter-widgets/base",
            "_model_module_version": "1.2.0",
            "_model_name": "LayoutModel",
            "_view_count": null,
            "_view_module": "@jupyter-widgets/base",
            "_view_module_version": "1.2.0",
            "_view_name": "LayoutView",
            "align_content": null,
            "align_items": null,
            "align_self": null,
            "border": null,
            "bottom": null,
            "display": null,
            "flex": null,
            "flex_flow": null,
            "grid_area": null,
            "grid_auto_columns": null,
            "grid_auto_flow": null,
            "grid_auto_rows": null,
            "grid_column": null,
            "grid_gap": null,
            "grid_row": null,
            "grid_template_areas": null,
            "grid_template_columns": null,
            "grid_template_rows": null,
            "height": null,
            "justify_content": null,
            "justify_items": null,
            "left": null,
            "margin": null,
            "max_height": null,
            "max_width": null,
            "min_height": null,
            "min_width": null,
            "object_fit": null,
            "object_position": null,
            "order": null,
            "overflow": null,
            "overflow_x": null,
            "overflow_y": null,
            "padding": null,
            "right": null,
            "top": null,
            "visibility": null,
            "width": null
          }
        },
        "fcd13744a98644c5b152e62ff10c1ff0": {
          "model_module": "@jupyter-widgets/base",
          "model_name": "LayoutModel",
          "model_module_version": "1.2.0",
          "state": {
            "_model_module": "@jupyter-widgets/base",
            "_model_module_version": "1.2.0",
            "_model_name": "LayoutModel",
            "_view_count": null,
            "_view_module": "@jupyter-widgets/base",
            "_view_module_version": "1.2.0",
            "_view_name": "LayoutView",
            "align_content": null,
            "align_items": null,
            "align_self": null,
            "border": null,
            "bottom": null,
            "display": null,
            "flex": null,
            "flex_flow": null,
            "grid_area": null,
            "grid_auto_columns": null,
            "grid_auto_flow": null,
            "grid_auto_rows": null,
            "grid_column": null,
            "grid_gap": null,
            "grid_row": null,
            "grid_template_areas": null,
            "grid_template_columns": null,
            "grid_template_rows": null,
            "height": null,
            "justify_content": null,
            "justify_items": null,
            "left": null,
            "margin": null,
            "max_height": null,
            "max_width": null,
            "min_height": null,
            "min_width": null,
            "object_fit": null,
            "object_position": null,
            "order": null,
            "overflow": null,
            "overflow_x": null,
            "overflow_y": null,
            "padding": null,
            "right": null,
            "top": null,
            "visibility": null,
            "width": null
          }
        },
        "f25055aa6df44cdd9e9ffecf10386c29": {
          "model_module": "@jupyter-widgets/controls",
          "model_name": "VBoxModel",
          "model_module_version": "1.5.0",
          "state": {
            "_dom_classes": [
              "widget-interact"
            ],
            "_model_module": "@jupyter-widgets/controls",
            "_model_module_version": "1.5.0",
            "_model_name": "VBoxModel",
            "_view_count": null,
            "_view_module": "@jupyter-widgets/controls",
            "_view_module_version": "1.5.0",
            "_view_name": "VBoxView",
            "box_style": "",
            "children": [
              "IPY_MODEL_99207a234b8c49629770fdac36afdaa2",
              "IPY_MODEL_b8981aff5ceb405d91b63195beba2de8"
            ],
            "layout": "IPY_MODEL_60394c1750be4e3abd899e3c91717936"
          }
        },
        "99207a234b8c49629770fdac36afdaa2": {
          "model_module": "@jupyter-widgets/controls",
          "model_name": "FloatSliderModel",
          "model_module_version": "1.5.0",
          "state": {
            "_dom_classes": [],
            "_model_module": "@jupyter-widgets/controls",
            "_model_module_version": "1.5.0",
            "_model_name": "FloatSliderModel",
            "_view_count": null,
            "_view_module": "@jupyter-widgets/controls",
            "_view_module_version": "1.5.0",
            "_view_name": "FloatSliderView",
            "continuous_update": true,
            "description": "stay_prob",
            "description_tooltip": null,
            "disabled": false,
            "layout": "IPY_MODEL_bc091660809947a2b87af8a7882e4f9c",
            "max": 1,
            "min": 0,
            "orientation": "horizontal",
            "readout": true,
            "readout_format": ".2f",
            "step": 0.01,
            "style": "IPY_MODEL_d144eb84530d41208739755389686324",
            "value": 0.4
          }
        },
        "b8981aff5ceb405d91b63195beba2de8": {
          "model_module": "@jupyter-widgets/output",
          "model_name": "OutputModel",
          "model_module_version": "1.0.0",
          "state": {
            "_dom_classes": [],
            "_model_module": "@jupyter-widgets/output",
            "_model_module_version": "1.0.0",
            "_model_name": "OutputModel",
            "_view_count": null,
            "_view_module": "@jupyter-widgets/output",
            "_view_module_version": "1.0.0",
            "_view_name": "OutputView",
            "layout": "IPY_MODEL_9307ed4817de4a58bbbf34e56ece4d01",
            "msg_id": "",
            "outputs": [
              {
                "output_type": "display_data",
                "data": {
                  "text/plain": "<Figure size 864x252 with 1 Axes>",
                  "image/png": "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\n"
                },
                "metadata": {
                  "image/png": {
                    "width": 848,
                    "height": 234
                  },
                  "needs_background": "light"
                }
              }
            ]
          }
        },
        "60394c1750be4e3abd899e3c91717936": {
          "model_module": "@jupyter-widgets/base",
          "model_name": "LayoutModel",
          "model_module_version": "1.2.0",
          "state": {
            "_model_module": "@jupyter-widgets/base",
            "_model_module_version": "1.2.0",
            "_model_name": "LayoutModel",
            "_view_count": null,
            "_view_module": "@jupyter-widgets/base",
            "_view_module_version": "1.2.0",
            "_view_name": "LayoutView",
            "align_content": null,
            "align_items": null,
            "align_self": null,
            "border": null,
            "bottom": null,
            "display": null,
            "flex": null,
            "flex_flow": null,
            "grid_area": null,
            "grid_auto_columns": null,
            "grid_auto_flow": null,
            "grid_auto_rows": null,
            "grid_column": null,
            "grid_gap": null,
            "grid_row": null,
            "grid_template_areas": null,
            "grid_template_columns": null,
            "grid_template_rows": null,
            "height": null,
            "justify_content": null,
            "justify_items": null,
            "left": null,
            "margin": null,
            "max_height": null,
            "max_width": null,
            "min_height": null,
            "min_width": null,
            "object_fit": null,
            "object_position": null,
            "order": null,
            "overflow": null,
            "overflow_x": null,
            "overflow_y": null,
            "padding": null,
            "right": null,
            "top": null,
            "visibility": null,
            "width": null
          }
        },
        "bc091660809947a2b87af8a7882e4f9c": {
          "model_module": "@jupyter-widgets/base",
          "model_name": "LayoutModel",
          "model_module_version": "1.2.0",
          "state": {
            "_model_module": "@jupyter-widgets/base",
            "_model_module_version": "1.2.0",
            "_model_name": "LayoutModel",
            "_view_count": null,
            "_view_module": "@jupyter-widgets/base",
            "_view_module_version": "1.2.0",
            "_view_name": "LayoutView",
            "align_content": null,
            "align_items": null,
            "align_self": null,
            "border": null,
            "bottom": null,
            "display": null,
            "flex": null,
            "flex_flow": null,
            "grid_area": null,
            "grid_auto_columns": null,
            "grid_auto_flow": null,
            "grid_auto_rows": null,
            "grid_column": null,
            "grid_gap": null,
            "grid_row": null,
            "grid_template_areas": null,
            "grid_template_columns": null,
            "grid_template_rows": null,
            "height": null,
            "justify_content": null,
            "justify_items": null,
            "left": null,
            "margin": null,
            "max_height": null,
            "max_width": null,
            "min_height": null,
            "min_width": null,
            "object_fit": null,
            "object_position": null,
            "order": null,
            "overflow": null,
            "overflow_x": null,
            "overflow_y": null,
            "padding": null,
            "right": null,
            "top": null,
            "visibility": null,
            "width": null
          }
        },
        "d144eb84530d41208739755389686324": {
          "model_module": "@jupyter-widgets/controls",
          "model_name": "SliderStyleModel",
          "model_module_version": "1.5.0",
          "state": {
            "_model_module": "@jupyter-widgets/controls",
            "_model_module_version": "1.5.0",
            "_model_name": "SliderStyleModel",
            "_view_count": null,
            "_view_module": "@jupyter-widgets/base",
            "_view_module_version": "1.2.0",
            "_view_name": "StyleView",
            "description_width": "",
            "handle_color": null
          }
        },
        "9307ed4817de4a58bbbf34e56ece4d01": {
          "model_module": "@jupyter-widgets/base",
          "model_name": "LayoutModel",
          "model_module_version": "1.2.0",
          "state": {
            "_model_module": "@jupyter-widgets/base",
            "_model_module_version": "1.2.0",
            "_model_name": "LayoutModel",
            "_view_count": null,
            "_view_module": "@jupyter-widgets/base",
            "_view_module_version": "1.2.0",
            "_view_name": "LayoutView",
            "align_content": null,
            "align_items": null,
            "align_self": null,
            "border": null,
            "bottom": null,
            "display": null,
            "flex": null,
            "flex_flow": null,
            "grid_area": null,
            "grid_auto_columns": null,
            "grid_auto_flow": null,
            "grid_auto_rows": null,
            "grid_column": null,
            "grid_gap": null,
            "grid_row": null,
            "grid_template_areas": null,
            "grid_template_columns": null,
            "grid_template_rows": null,
            "height": null,
            "justify_content": null,
            "justify_items": null,
            "left": null,
            "margin": null,
            "max_height": null,
            "max_width": null,
            "min_height": null,
            "min_width": null,
            "object_fit": null,
            "object_position": null,
            "order": null,
            "overflow": null,
            "overflow_x": null,
            "overflow_y": null,
            "padding": null,
            "right": null,
            "top": null,
            "visibility": null,
            "width": null
          }
        },
        "bed2b3defdf04e8d9a51b2c7e195d91a": {
          "model_module": "@jupyter-widgets/controls",
          "model_name": "TabModel",
          "model_module_version": "1.5.0",
          "state": {
            "_dom_classes": [],
            "_model_module": "@jupyter-widgets/controls",
            "_model_module_version": "1.5.0",
            "_model_name": "TabModel",
            "_titles": {
              "0": "Youtube",
              "1": "Bilibili"
            },
            "_view_count": null,
            "_view_module": "@jupyter-widgets/controls",
            "_view_module_version": "1.5.0",
            "_view_name": "TabView",
            "box_style": "",
            "children": [
              "IPY_MODEL_de989d4a3db3422aa8923b56b8de6607",
              "IPY_MODEL_7b13b2c37fc54bc699c0e9c5f3ba6059"
            ],
            "layout": "IPY_MODEL_354b0a70448e4df5b906e064cde27238",
            "selected_index": 0
          }
        },
        "de989d4a3db3422aa8923b56b8de6607": {
          "model_module": "@jupyter-widgets/output",
          "model_name": "OutputModel",
          "model_module_version": "1.0.0",
          "state": {
            "_dom_classes": [],
            "_model_module": "@jupyter-widgets/output",
            "_model_module_version": "1.0.0",
            "_model_name": "OutputModel",
            "_view_count": null,
            "_view_module": "@jupyter-widgets/output",
            "_view_module_version": "1.0.0",
            "_view_name": "OutputView",
            "layout": "IPY_MODEL_4382453558084d4bac5481790fd8b6dc",
            "msg_id": "",
            "outputs": [
              {
                "output_type": "stream",
                "name": "stdout",
                "text": [
                  "Video available at https://youtube.com/watch?v=1-Wionllt9U\n"
                ]
              },
              {
                "output_type": "display_data",
                "data": {
                  "text/plain": "<IPython.lib.display.YouTubeVideo at 0x7f817f4486d0>",
                  "text/html": "\n        <iframe\n            width=\"854\"\n            height=\"480\"\n            src=\"https://www.youtube.com/embed/1-Wionllt9U?fs=1&rel=0\"\n            frameborder=\"0\"\n            allowfullscreen\n        ></iframe>\n        ",
                  "image/jpeg": "/9j/4AAQSkZJRgABAQAAAQABAAD/2wCEAAUDBAoKCw4KDQ4LCgoKDQ0KCgoKCwsKCgoNCwoNCg4KDgoLChANCgoOCgoKDRUNEBERExMTDQ0WGBYSGBASExIBBQUFCAcIDwkJDxIQEBIVFRISEhIVEhUSEhISEhUSEhISFRUSFRIVEhUVFRIVFRISFRISEhISEhUSEhUSFRUSEv/AABEIAWgB4AMBIgACEQEDEQH/xAAdAAEAAgIDAQEAAAAAAAAAAAAABQYHCAIDBAEJ/8QAWxAAAgEDAgIECQcGCgcHAQgDAQIDAAQRBRIGIQcTMUEUFiJRUmFxkdIIMlOBkrHRFSNCobTBFzNVYnKClcLT8CQ0NTZDdeEJN3N0orLxsyWDhJOUo7XiJkRU/8QAGwEBAAIDAQEAAAAAAAAAAAAAAAEFAgMEBgf/xAAxEQEAAgIBAwIDBgYDAQAAAAAAAQIDEQQSITFBUQUTYSJxgaGx8AYUMpHB4ULR8SP/2gAMAwEAAhEDEQA/ANMqUpQKUpQKUpQKUpQKUpQKUpQKUpQKUpQKUpQKUpQKUpQKUpQKUpQKUpQKUpQKUpQKUpQKUpQKUpQKUpQKUpQKUpQKUpQKUpQKUpQKUpQKUpQKUpQKUpQKUpQKUpQKUpQKUpQKUpQKUpQKUpQKUpQKUpQKUpQKUpQKUpQKUpQKUpQKUpQKUpQKUpQKUpQKUpQKUpQKUpQKUpQKUpQKUpQKUpQKUpQKUpQKUpQKUpQKUpQKUpQKVP8AipP6UXvb4KeKk/pRe9vgoIClT/ipP6UXvb4KeKk/pRe9vgoIClT/AIqT+lF72+CnipP6UXvb4KCApU/4qT+lF72+CnipP6UXvb4KCApU/wCKk/pRe9vgp4qT+lF72+CggKVP+Kk/pRe9vgp4qT+lF72+CggKVP8AipP6UXvb4KeKk/pRe9vgoIClT/ipP6UXvb4KeKk/pRe9vgoIClT/AIqT+lF72+CnipP6UXvb4KCApU/4qT+lF72+CnipP6UXvb4KCApU/wCKk/pRe9vgp4qT+lF72+CggKVP+Kk/pRe9vgp4qT+lF72+CggKVP8AipP6UXvb4KeKk/pRe9vgoIClT/ipP6UXvb4KeKk/pRe9vgoIClT/AIqT+lF72+CnipP6UXvb4KCApU/4qT+lF72+CnipP6UXvb4KCApU/wCKk/pRe9vgp4qT+lF72+CggKVP+Kk/pRe9vgp4qT+lF72+CggKVP8AipP6UXvb4KeKk/pRe9vgoIClT/ipP6UXvb4KeKk/pRe9vgoIClT/AIqT+lF72+CnipP6UXvb4KCApU/4qT+lF72+CnipP6UXvb4KCApU/wCKk/pRe9vgp4qT+lF72+CggKVP+Kk/pRe9vgp4qT+lF72+CggKVP8AipP6UXvb4KeKk/pRe9vgoIClT/ipP6UXvb4KeKk/pRe9vgoIClT/AIqT+lF72+CnipP6UXvb4KCApU/4qT+lF72+CnipP6UXvb4KCApU/wCKk/pRe9vgp4qT+lF72+CggKVP+Kk/pRe9vgp4qT+lF72+CgudKUrJiUpSgUpSgUpSgUpSgUpSgUpSgUpSgUpSgUpSgUpSgUpSgUpSgUpSgUpSgUpSgUpSgUpSgUpSgUpSgUpSgUpSgUpSgUpSgUpSgUpSgUpSgUpSgUpSgUpSgV03FyiY3MqZ7NzBc47cZ7e0V3VVuPv+F/X/ALlQlPflOD6SP7a/jT8pwfSR/bX8axxSmzTI/wCU4PpI/tr+NPynB9JH9tfxrHFKbNMj/lOD6SP7a/jT8pwfSR/bX8axxSmzTI/5Tg+kj+2v40/KcH0kf21/GscUps0yP+U4PpI/tr+NPynB9JH9tfxrHFKbNMj/AJTg+kj+2v40/KcH0kf21/GscUps0yP+U4PpI/tr+NPynB9JH9tfxrHFKbNMj/lOD6SP7a/jT8pwfSR/bX8axxSmzTI/5Tg+kj+2v40/KcH0kf21/GscUps0yP8AlOD6SP7a/jT8pwfSR/bX8axxSmzTI/5Tg+kj+2v40/KcH0kf21/GscUps0yP+U4PpI/tr+NPynB9JH9tfxrHFKbNMj/lOD6SP7a/jT8pwfSR/bX8axxSmzTI/wCU4PpI/tr+NPynB9JH9tfxrHFKbNMj/lOD6SP7a/jT8pwfSR/bX8axxSmzTI/5Tg+kj+2v416IJlcZUhh51II94rGFXng7/Vx/Sb76CZpSlSgpSlApSlApSlApSuUaZ9Q7z5qxtaKxuUxEzOoca+7T66kLSJAN/Pb3Fh87uyF82a5yXyHlkE9nLu+rNcduZ3+zG3RXj+8ouletip9E+ojB+okfh7a8xIPZyxy559x/HPuqa8yPWNInjz6S40pSuyJie8NExopSlSgpSlApSlApSlApSlAqrcff8L+v/cq01VuPv+F/X/uVCVWrOnQ/0Cx3entrurXY0jRkyUfZvuboAlcxqc7FL+SnkSPIQQqEFWODoIi7BR2sQoycDJOBzPYM1tt/2ht14Kmk6PD+bs7aB5FiXkh6sJaxcuzMcSSAeYSN56hKvaF0XcB6tILHT9X1CC/lOy2/KESdRM55BFHgkGWZsAJ1isxIABPKsI9KvAV7oV8+n3ahZUAdHQkxTxNkLPGxALRttYcwCCrKQCpAq8UhUhlJVlIZWUkFSDkEEcwQeea24+WcPD+HNB1mXHhcsUSTMoxvN3Ypcvy7dolgJUZON7eeg1FpW5fFuicKaPoeiaveWKXNzLYwvHZQKIhqVzJZ28hmup8fxUR3Eghtxm+a+CK6eGNL4f450y+S00u30TV9Pj6238F6tY5CyuYwzRQxiRHeIxuGjJQMrKSTgBrBwFwFqWsNIljA101unWzBXjQRocgMTK6juPZzqs1ud/2ffEFq1ve2gs4luLaBpp74P+dvEkkcrbuvV+SiAEA7m9grXLpi4607Veo8D0q20XqOt63waTrPCes6vbu/MR46vq3x256w9neDp44V0nTL2ODTL0apbPbrM9wHik2TNNMjQ5iAXlHHE2O3y/WKx9WwHy7uFbHTNZggs4IbOF9PimaKBBGjSNeXaFyB+kVjQZ8yjzVlHpH0HhLRdL0fVbqxjuLmSxRodOhAhXUriS2tZGuLmQA5igOc5DAm45q3ZQaXUrdRNA4S4h0BeIp7KPQYtNuGW8j05UXr1jZV8E/NxxrIbgzW4VygdGbAYDJPHobl4X4wW90ePRbbSjBb9baXkJja82hxEsrTLCkgmR2hfazyq2WVtwB3BpbSrZ0V6vplpd+EajaNqVukbmO0WVoVknGDH1kisCIQQd3Jx50Ycq2Y6CuJOHeK7uXRptA06wV7eSaK5s9i3CGNkXb1qW8b7trlhIG7UwVYMcBrz8njh611HXbGyuk661uJik0W+SPeoidsb4nV18pQcqwrs+Ufw5a6brt7Y2sfU2tvIiwxb5JNga3jcjfK7O3lMx5se2rH8nTS/BOMbS1zv8Gvp7ffjG7qVmj3YzyztzivF8r7/efUv/Fj/ZYaCC6E+i2/4jvRZ2wCIgEl1dSZ6m1jzjc2ObyMfJSIc2OexVd1yzq3R30fadIbO71fU7m7hPV3D2MKC3WQAbgP9CmXke1Vlk2kFScgirT0EznSeAdW1OIlLq5kkiE0YKyxhupsY8Op3AxvPLKrctpcnl21qFQZe6auCOG7SzivdI1RtR62bqZLScIl1Epjd+uKFIpVQMgTnFglx5XYDiGlbYa9oGicD6bZNeafBrmuampmlW9Km1s0VVLRrEySKdjSJGDt3SMJWLooSOg1PpW1cPDeicZ6Pe3thYR6NrWkIJnt7Q/6NdR7JJFQIESPMohmUEKGV1TczKcGM+RFwPpuqw6wL2K3fqYLfqbi4RX8D6xLsPOu4gLt2I5OR8wcxQaz16NMspJ5UgjUvLM6xRIMZd5GCKozyyWIHPz1tr0UcWcG3epQ8OW2iw3FnOXt01e92PezusTt15V4etjWRkONssZUMCEjxsGPtCsLLhzjN7FrZNRt1u47W0Sd9ptjczwSw3AbY++a3RgueW45OVzQYh464PvtIuPBL2E21xsWXqmeNzsfO1sxuyjODyzmoGtyfls8e6bbX1xp0uk2t1eT2SCLVZJds9uZUdUZY/B2yYj5Q8sZ9VRXQfwXw7JwdNqeqQptt7tnmuYkHhsiRTQMtnHJkFTO5EHzlwJW8pPnKGpdKzZxDqFjxdqWnaVpmmW2hZllhaWExyPNE/Vt18ypBEXeCGCaTaXcneQGHacg9JvF3DPCt2dEttEs9WazWNby91IpLNLK8ayMqs9u+DtZSWXYoYsqxgKMhqlWftX6PNMTgW21tYManLdNDJc9dOdyC7uIgvUmXqR+bjQZCA8s9pNe35QnR3pU+jWnFmkRNaWt23U3thkslvIXeMum45RVuInhKjyW3RMqqN2Z3X/+7Kz/APPN+33dBqvV54O/1cf0m++qNV54O/1cf0m++phEpmlKVKClKUClKUClKUHKNMnH+R66luFtPFzKI/0c9mDggevvz56gJbk8415u+FAHbzP6ueK2A6KuC1t4FZucrjLtjnz7gTzGOyqr4hm1XULX4fx+u2/byoPEXDUhjBVST2E5xjH7snHn5VQrrS5EPlA+3tI/61tp4BGBjHKoO+4et37UXzdlVmPl2pGpja2ycCt+8Tpq31pj5EgjuDdv1Gu7fnmO/l7fVWbeKuj+CVTgAd4K8jWENd0yawn6pxlG5I3ce/b6mxXVgz1zTqO0/qr+RxL4e/mHdG/Yp5Z+ax7PYfr5V2f/AB7u731053Lkc8jP1jl+sfvr7E/t7BzPs5H245H1j1134L9M69J/VX5abjbtpSld7kKUpQKUpQKUpQKUpQKq3H3/AAv6/wDcq01VuPv+F/X/ALlQlVq3I+UjpEvGGhadxFp6G5ntEeHULSAGSeNnEZlUIAHYwTo3khctHKsgG3mdN6tnRv0jarokrTWFzJamTAlQBZIZQOzfBKrRuRkgMV3LlsEZNQl86PujvU9Xuls7W3leUuI5HZHWG287zy7SIUUcznmeQAYkA56+XVxFawR6bwzbOJE0eFPCDyJVlgS3gjJzylECyOw5/wAbHz7apHEXyqOKbqIw+FJbBhtZ7W3iilIIwcSlWeM887oyrAgYIrCtzO8jNI7M7uS7u5LO7MclmYnLMSSSTzJoNt/lMcM3t3wpw5NbwTXEVpYwm5aFDIYRJp9ttdkXLBD1b+XjaMDJGRnr+Q5Zy6RZ6txBdI9vZRWqrDJKNguSheVhGGx1nlCGMEcmaQKMkED39N/H2o6NoHC9zYXD20xsEjk2bJEdfALM7ZIZFaOQAjI3KcHswa176TumfXdcQQ3t00lurBxbxxxwQ7gOTMkSL1pB5guWwScYoMz/APZ1sGu9TgBHWy2SlEJALBZShYD0Q0sYJ7tw89aw6nps9uxjmjlgdWKMk0bxurLjchVwCGXcuQeYyPPUhwRxZfaVcre2Uz2tzGCFkTa2VYYKMjqySIeWUdSMgHHIVO9LHStq3EDQtfypN4KHECpDFCqdbs3n82gLFuqj+cSBt5YychmH/tHf9vW3/K4f269r1fLW/wBkcL/8vk/ZNNrAXSNx5qOtzrdX83hVxHELdJOqhhxGsjyhNsESKcPLIckZ54zgDHLjTpA1LVIbW3u5+vh06MwWSdVDH1MZSNCu6KJWk8mCIZcsfJ7eZyGfOC/+7PVP+YR/tmm0/wCze/2xef8AL2/a4KwHZdIGpxabLoqT7dMuJBNNa9VCd8geOQN1xiMy+XBEcBwPJ7OZy6OekDU9Eme4sJ/BZpY+pkcRQzbo96vt2zxOo8pFOQAeXb20GY/kP8A2OpXF9d3UCag+mQJJa2Eu0xXEsvW4LI2Vkx1IQBwUzKCQSFxmH5LHHnFGp6vIt5bmy0qGGUNbxaclnbQTBlVI1lki68uMt+b6w9mSOVaZcBcZX+j3IvLGd7W4CtHvQKwZGxmN45FaOWMkK211YblVsZUEXPiP5QfEt5cQ3T30iPaP1tukKRQwI+3ZuaBI9k52ll/PB+TuOxiCFp6J4WTj1VYFWXVr0FSMEeXcd1Vz5X3+8+pf+LH+yw1C8R9MGs3mpxa1JOv5QtVWO2mSC3VYkUyEKIuq2PzmlOXDHyu3AAFX4u4iutSupL26k6+6uCGml2JHvKqEB2RoqL5KqOQHZQbSfI4v7fWNC1PhOWRYricSz2hcAgrLEi7lUY3+D3MMcrLkEiTlyBK65ca9G2r6ZcNa3NpcRyKxVWETvFLjseKVVKTIfOpPmOCCKrel6hNbyLPDJJBNEd8c0LtFLGw7GWRCGRh5wRWa9I+VfxVDH1ZuYZ8chJPawmQD+lGqBvawJ85NBjLXej/VbO0W/ubS4tbSWUW8clwnUGSRo2lAWKTErIURz1gXZyxnPKtkvl06dLq1tpfEFmj3NhLasskkKmQW+8rMnWBeceS0qEkeS0ZVsEgHXrpK6VNZ1zaL+6kuUjbfHDtjhgRsFdwhhRELhSV3kFsE8+Zz7OjLpl1zQ1MVldPFAzb2t5Ejngz3sscyN1THvMe0tgZJxQZ6+R5YS6Jo2ta7eo9taPbpHbdcpiNy0aTHCCQAOJJZ4IUYZVnZlzlTUb8hb/Z/Ef8A5GL/AOhf1hDpN6W9a10Kt9dPPFGxeOBVjggVuYDdVCiq7hSVDuGYAsM8zmP4G6QtT0mO4is5/B479BDdr1UEvXIqyKFzNE5TCzSDKFT5XqGAtPyTP95tN/8AMH/6MlWnpulVOPHdiFVdTsGZicAAC1JJPcABmsMcJ8QXOnXMd7bP1Nzbtvhl2pJsbaVzskVkbkxGCDXLi7iK61K6kvrqTr7q4IaaXYke8qoQHZGiovkqo5AdlBn3/tBdHuBrwn6qTqZbOHq5QjGNuqMgcbwNu5MZIzkAgnkRUrw7/wB2V7/55P2+zrFV98oLiObT30uW8M1rLGbeQywwSTvCU2GJrhousbK9sjEyfzqqtv0hammmPoqzkaZM4mkteqgIZxIkobrjF1w8uKM4DgcuzmaCy/JW4gg0/iPT7mdhHCJXhd25KnhNvLaq7E8lRXmUljyABJxirF8sPgi/tuIruUwTPDfyrPaTLGzpP1ka7o1ZQcyJIHQp87kDjDKTg+st8I/KO4n0+3FrFes8Ma7IhcQwXLxDuCyzRtIQowArMyqAAAAMUGW+kmBtE6PrTS7sGG/1KfrUtX8maNPCjelmjbDLsiECuMZR5lUgGvDr/wD3ZWf/AJ5v2+7rXXjnjHUNWuDd3s8t3OQFDyEAIo5hEjUCOKPJJ2IqjJJxkk165+kLU30xNFacnTInM0dr1UACuZHl3dcIuuPlyOcF8c+zkKCrVeeDv9XH9JvvqjVeeDv9XH9JvvqYRKZpSlSgpSlApSlArjI2BmuVePV5NsbH1Y9/KteS2oZ0jcp/oW0jwi+Rm5gF5PWFX5vb2cytbU2aqqgAdlax/JjlJvJV5YWHl5/KkA/dWwt1xVZW52SSKpHf+j7N3Ycd9VHIrvJr6L7hzFcW/dJT5xXilY13W+r28/8AFyI4PerA/ca897eRxc3ZUHnYgD21XXx91pS8aR1/I1Y06WtKFxCTjygMqe8Ecwc+fNWnW+kLT1OxX65/NCN5/VURruqQXEPIsjn/AIcqmN/ce0esVhGO9J6vZF8lLx0sHaJc5ynYcbgPMewj1c+Vd4YDn3A8x6mP7m51EzEw3ZHZ5R/X5X31IT/xjL3MOXu5fr51ezEWjfvG3mp7Tr2lJUry2M2VGfYfaK9VduG/VXv5cmSupKUpW1rKUpQKUpQKUpQKq3H3/C/r/wByrTVW4+/4X9f+5UJValKVCSlKUClKUClKUCvVYadNNnqo5JduN3VI0m3OcZ2g4zg+415at/Rx0l6toZlOn3DWnhOwT7YoJes6rfs/jonxt61+zHbQQni5e/8A/Pc//kS/BXlv9PmhwJI5It2dvWI0e7HbjcBnGRW5Fz0wa6OCI9YF235SbUDbm56m2yYt7r1fV9R1eMAc9ueXbWCdD1HWeONVs9MvL0PIwuFt5pIIgsIW3e5cbLdI9+/wZV59nKgxHSrtwd0eyX2troSypHI1zNaeEFCyAwdZl9gIOG6o8s99ZS+Td0PadecQXml6hLDOmmzT2otC08EmoNE08TTRNDKrosTQLIylux1HOg13pWTukzozgt72Cz068ttYmvppIUtrMNvtnEqpHC7SOebbyNzEY6tiT31c5Pk5W0cy6bNrmlw62+1V04rK0YlkAMdu12CAkjlkAXqyx3DCtkZDX6lZB4f6KL2XXl4cnK2d40rQu7gyImIWuFcBSN8bxhWUjGQ6mrB0m9CK6Ja3El1qNiL+CTFvpUZD3dxAbkQpcsOs/wBH3xE3Ajw56vGSDuChiW7s5IiA6PGWAdQ6shZT2MNwGVODzrorNXyptM1NLvTo765gu5JdNtjbPFD4MkMLSyhInGTvZW3Ev3g9nKpbh/5O9leS+Awa/pVxqxRilnAkstvI6IXZFvQcOAFYkrGzBQx28jQYa4L4UvdUuBaWcLXNwys4iQqGKoMs2XYDAHrqHmjKkqeTKSpHmIOCPfWw3yHdPltuK/BpV2TW8V5BMhIJSSIdW65BIOHUjIJHKsBa3/Hy/wDiP/7zQeOlKUClKUClKUClKUCrzwd/q4/pN99Uarzwd/q4/pN99TCJTNKUqUFKUoFKUoFRPEM2E2+cnPuX8alqg+J7YkgDzZ5e791c+aftRDfijtMr58mtAbudcZBt1JHZnMoOOXPsOKyLxrql69tLIsMEawyiOK3eAXE8ydhkCblVR6hnGeeMc8b/ACV3J1KRD2tbNnzHZLHj9RrZDWNCaQYBIDdoBxVbnv0ZJmY32XfExdeKNTr/ANY66IoyzL1sUcUmAxMAKKdx+a0ZJ2sD2jn2j11MdLEY2jK78HAXz55Y9lWrh/hkW5z35ro4ksFmcqw5d3trgyXmVlTFERphQW18sPW2xSCVpNvURxRKVi256x5ZI2LPv/QGOX6pexk1EkxSGO5jZQQ5CJMhwM5CjaRnOCMHAFXqLgaAnI7+3t/camoNCjiXaoAHsx/80nLNo6emPvYRxorO9z9zU3pLsDDcqTy3GvBcSZKt37R+ofjWSPlJ6SIxHIPSx9w/fWL4Xyqt6P7iKs+LMzijfpuFJzKxXLOvXuk9NcEEec5HqP8A1GaklNV+KQofYcfgf11OxsDXVjt02+kuO9eqv3OylKV2OUpSlApSlApSlAqrcff8L+v/AHKtNVbj7/hf1/7lQlVqUpUJKUpQKUpQKUpQKUpQbL3n/dvF/wA1P/1JKp3yJj//AJXp/wD+L/8A4y6rH78eaidNGjGb/wCzVl8JFt1UPKXJO/ruq67tY+Tvx6qh9A1eeznjureR4LiBxJDLGcMjKcgjuPmIOQRkEEEig2H6A+EL+bjeSZYJepsNQvZbuZlKRwAtOqqzsMdY7OgVBljnONoYiV6BZFHSLegkAte6yqgnBY9bcNgec7VY48wPmrF+tfKP4ouXhd75gbVhLGI7e1jQyKpUSSRrBsmPMkK4ZQ2CFBANUODjC/TUDqyTPHqLTveG5jCoxmldpHfYqhNrs7gx7dhVipXacUGVfk6zx2vG0HhGItt9e25Enk7ZpYrm3jjIPY5uHjQDt3EVWelPhfUW4ovLJI5RfXGpzvbgBld/CLppop1I5hGR1l3jsXnywahukzpS1bXHhkvplme1BELJDBbspfYWcmCNNzsY0PPkMeSF51a7T5S3FUcIgF8x2r1azPb2slyEAxt8IeAyMT272JfPPdQZ749voZekuwWMgtBEkNxjul8EuZcE95EMsI/V3Vq108TM+vaoWLMfylerliWOEu5EVcnuVFVQO4ADuqG4d4tvrK9XU4ZnW/SR5hcyBZ5DJIGDyN16uJHbe+S4OSSe2o/XNTmu55bqZusnuZZLieTCrvklcyO+1AFXc7McKABnkBQbOfKg4abVNc0DTg4hN5plhb9aw3CMSXEwL7cjeQuSFyMnAyM5qy9F2laLpvFsOi2Wk3Mlzp7us2sXV3dNMn+hsTcG0iC2yQv1gRXYbWEikBcgVq1xb0ganqM1vc3Fw73FjHHBaTRpHbyQJA5kj2tboh3o7FhIcvnHPkKuOtfKO4puVjR7+RRC6SqYYbeBneJ+sQyNFCplUMBmNso2BuU88hlX5OQx0g347P8ASdX/AGmStXdb/j5f/Ef/AN5q8XPTXrramNaFwiaiIvBhOlraACI5ypiMBjYncfLZS3dnAAGPp5S7FjzZiWY9mSTknl66DhSlKBSlKBSlKBSlKBV54O/1cf0m++qNV54O/wBXH9JvvqYRKZpSlSgpSlApSlAWmpTLlzgcgB7Mf9c1zh7c+b8KjNbk2qR3sdx/D3Z91cOa3/007MMaptN/J61QW+sRZ+bOk0H1lOsHvMQH11tVq/ECxRlvMO2tF9N1J7aaO5T58EiSr3bijhtvsOCD6jW3lnNBf2wnjOUmj3qPNkfNI7mVvJI84Nc3LjUbWfw/JH9M+nf8JWvg7WOvhWWTMZctgNy8nPJs92RUJxDxBbxMQ78yeSqCzH6gM1FcF398yCGaOCNNmYmy7O2JNm1k2jb5PlZXd9XLMbqOizhy6pbqSAxdusdhk/NAI5Y7SOz31x2x/ZiYWdbTMy4JxNNFKWwRbOfILcmX1kHsBOfZyqZbixDyzlvN31TNVsLq4cRCcKgJ63ZFGGIDcgCQ23K45cz217VtoLSLAy0rE4ZjuIHZy8wrmn7Hb1ZzaymdP92ZYVzy8pSB382H7qxna2v5vPmzn6wasHS1rgkkWIc8Nz+qoiOT82fZ+Aq24kTGPc+s7UHLtE5J16dnU0W5fq2n9x+6uzTLggYPaOR+r/OfZXm0588vN/n91eqaMhs45jBPrH4j99dFu7mj3SlK4W5yPZ3ns9VclYHvHvrow2ma92jJTU9n2lcth7a41uapjRSlKIKUpQKieIdINxtwwXZu7RnO7b6/5tS1KhKp+KTfSD7J+Knik30g+yfiq2UobVPxSb6QfZPxU8Um+kH2T8Vbp/Iz4R06+025kurSzvJEvmjSS6tYLh1TwO1bYHljYqm5mbaDjLMe81nL+DHQf5M0r+z7T/BoPy68Um+kH2T8VPFJvpB9k/FX6i/wY6D/ACZpX9n2n+DT+DHQf5M0r+z7T/Bol+XXik30g+yfip4pN9IPsn4q/UX+DHQf5M0r+z7T/Bp/BjoP8maV/Z9p/g0H5deKTfSD7J+Knik30g+yfir9Rf4MdB/kzSv7PtP8Gn8GOg/yZpX9n2n+DQfl14pN9IPsn4qeKTfSD7J+Kv1F/gx0H+TNK/s+0/wafwY6D/Jmlf2faf4NB+XXik30g+yfip4pN9IPsn4q/UX+DHQf5M0r+z7T/Bp/BjoP8maV/Z9p/g0H5deKTfSD7J+Knik30g+yfir9Rf4MdB/kzSv7PtP8Gn8GOg/yZpX9n2n+DQfl14pN9IPsn4qeKTfSD7J+Kv1F/gx0H+TNK/s+0/wafwY6D/Jmlf2faf4NB+XXik30g+yfip4pN9IPsn4q/UX+DHQf5M0r+z7T/Bp/BjoP8maV/Z9p/g0H5deKTfSD7J+Knik30g+yfir9Rf4MdB/kzSv7PtP8Gn8GOg/yZpX9n2n+DQfl14pN9IPsn4qeKTfSD7J+Kv1F/gx0H+TNK/s+0/wafwY6D/Jmlf2faf4NB+XXik30g+yfip4pN9IPsn4q/UX+DHQf5M0r+z7T/Bp/BjoP8maV/Z9p/g0H5deKTfSD7J+Knik30g+yfirf/wCUrwJpNroN5PBY2FvPGINk0FnbwypuvIUO2RIgy5RmU4PMEjvrSyiFT8Um+kH2T8VPFJvpB9k/FVspQ2qfik30g+yfiqf0WxMEYjzuwScgY7T5q9tKBSlKlBXnvL2OL57Be/Hax9ijma82u6mIFHLLNyUdwx3n1cxVRumeVjk7mfG0AZJbzAd3LPZy7KmI2lLXvFDZwigDzvkk/UCMe+uhdeuHPIovMDkBjmcZO4k4+sV4k0O5LbAjFx2oMFhy7CBnBx3GvVb8O3m4gQvkDJHIcuXPmfWKmuvU1Po99trE68sxSHs24ZWfn85SABtA78dnd3113V91wwdqScxtJwOwD5x5c+7njmedcLjha+VRIYJQGyowvMd2Co5g9vdn9VdniteCLrzFIEA5nYQCo7SQeeQQQTUzhx2neu/umL3rGkXcxEHYQQU+cCMEHPPl28qyH0TcdnT7prZyWsp5X2nOepYscSD+YwxuHsPnzQ4oGPkt5OAV3EggEc8Eg8l5jn2c6+abHiVQeWwgnPcM4Pu/GuXPgmIms+P3+bfhz6mLQ3h0pUniGCDjmjr2jPeD5qretcP3DsR1pCnkfOfV6vbVQ6OeIJbQKP4yE/o55pn0T5vVV01njuAKSAx5dm1s/dVBa0zXVXpcV9d57PA9itrEeeMd+e311irjzixIgdvlSNyUdv1+oV6OOOL7i5/NxqUXsyeXLzY81Ua70hsGR8lj3nv/AOlY48Vd7v8A2as+eZ3FP7qejPNKztzPf7T2CrDqI2R7eZ3YP1KRy+s/dXGzswhx/WNd94+3yzjswu7sHfnHaTk/qq8r9qYhR2jpiZeawQR825ue7uHt85/VUzFelew/UccuQ7MVXQd7Z7z5s491SV3YuqggE558u7l3+uuiNVaY3L7qFw8hyW+oggfqNR/W7e3I9Yzj3iuUEp7Ow9hHd7cHlXa1vnl80ns7wfwrOJY6fYZyO/I9oKn8DUtYzZ5EE+cd4HnU58oeqoERlTju7D6v8+avfYnuH2c493mH3VOkwmZoMDcCGU947vUa6K9FtMV8ocx81kwOweceevt5bgYZeaNzHq9VQxtT1h5qUpUtZSlKBSlKDcL5CX+y7v8A5g/7DaVsJWvfyEv9l3f/ADB/2G0rYSsWRSlCaDXXpm4FtdGs7jVrjXeK0RCWjt4ta2CWWRiY7WJfBSVBY4HbsQMx5KTUHDw7q1pwLqMmqXN1dXl7A131d5NNPJZxOsYjti07s4fC9Yy+TtZyuMqS33TOI7PizX/Dbi4t4uH+H5SmnwT3EMQ1K9GCbxomcFoIxsZd3IjqsfPmUZN+Ufq9tc8M6o0EsNwq2zKzQSpKqnKnaSjEA4IODQQHDvT/AKPZWtlA63r2yQ21pPqkNqz6Taz9QimGS93BSwbkerDgEHOMHGTekfj6y0eON5+ukluX6m0tLSF7m8u5MburhgQZcheZY4UZUEgsoOG/lD2UcPABjjRY40tNL2ogCqM3dmScDvJYkntJJJ7a83yh45ode0G7N22lWzQ3VpFqfUQXEVpcyw/NcXKNDH18ZEYZueA55BGIDMfRr0k2ertNDGl1aXlmUF1YahAbW8gEoLRu0e5laN1GQyswxjsyM1K8+UVo4EywxajfXNtPPby2VjZtcXai1KrJclA4SO1DOFEruu4q4AOxsdvR3wL4NrT6lPq/5Vv57BrXqGhs7ZzbpcwyifqrXbvWN2VOsKH+OUFuagwXyNLdBDrMgVRI/EF+jSBRvZY0gZELYyVVpZCAeQLtj5xoMnaB0iaZdaYNbSYLp3VvM88gZOrWJmWRXQjcHR0ZNoBJIG3dkZoNx8pPSYrdrya21i2s8Iba7uNNljtr8SMApt5txVsoTIN/VkqrEZxisG2OnzzdGcqwqzdXcSSyogJPUw6mHdsD9BAokJ7AqE91Xr5VfSrod9wvPbWd1DcyXUdo8VvbfnJLeOO9tpSZ40ybJVVVjxKEO9kTGTigzzYcdWkupHSB1q3gtE1JQ6Yjkt3kEW9H3HLCRtpUgcwe3Febg/pK07Ub+80y3dnutLYJdAqAm4syMEcMd/VyIUbkNrcqxV8oHU10O90XiVsiGBZtLvwilmkiubRpYVOBnbHPFI/tI9hxreyy8Ix6XxFIm661XTdSi1OQrgte3m7WLVZEA+ebpxAzY8lIuedoFBsq/SzpS2l3qDyPFaaddS6fLLJG356eFljZbdVy1wpkcIrKOZDdykjo4C6W7PUbs6e1vqOm3vVm4httVs2s5LmFSA00PlMrqpYAqSHGG8nyWxgzpk4On0jhvQULyW66bqNneardKguWtZp2eSW9aORWE4iu7h1AcEMWRSMNisj6JwMZtS03VrnXl1R7QznTk6jToFuBd2zJIsb2mwzBol38t+AhIwC1BauAtSt5Nb1iFLm/nng8B8ItLls2Nl1lszJ4GufI61QXk5DLAVXeE9ZubXjDUNMmmnlt9QsLbVLCKWWSSK16ljazRRI7kR9ZKZZCECghBn5orzdDn+9nE/t0f9gkqG+V3qjaLd6TxKis3gUt1YTogG6Rb20fqwckAqjxSNg8ssO8CgjehrpA1C44uvo5pZW0vUUu10qJ5neDdpd0tozQxF9kW9IbiRwqgsSpJ7atvCHHBW64h1y4muH0rTZ1063t1LskX5OhHhc0cJcIzyXEo8sAEhMZIrFnHli/DOj8L611btLpTsl3FnLk6xavcXG5ueWWXrVGWAy+M+UDV1PDsll0fzxvua4n02e/uWcfnDLebryTfy+cgl2H1JzoMvcW9IVlp+lflubrfAhHBOdibptt08Ucf5vcOe6dMjPLn24q1QSh1DDsYBhntwRmtVvlDcdac3A8NqlxFLc3lnpohhiYSSAQzWssjyIpJhROqZCz4AkKp84gVtHpP8TH/wCGn/sFB6aUpQYu+Vb/ALu3vst/2+CtCq31+Vb/ALu3vst/2+CtCqmESUpSpQUpSgUpSgrOvwNLNgZKrtj5HkGbnjkCcnI7uweqrr0X8PxMxbG5ssoYggqqnsXPME9hPbiqneACWQ5x8xwM48pVxnlzHJs57eQ7s1kHofcKiHOfLYN9bHu7F9ndyrO/bGzwxvJG2XuBtEgj7EUHvO0ZPPz/AK6yBpXD1vnPVp5WM+SDnBz5vrqt6HCBjHfzrIGhg4z/AJ/6VV77r+K6h6V4fiZduxNvZjaPdjGK+eLMCLtCKF5+SFGOZJPb25JPvNTlnL3eavS9bIYT9WlXyj+jcWF11sQ2219luQ5RugG+MYG1QVw4OOzIHzRnDwRlMbsMYZoWYDAfaeR5cuwkewVu18pLTUlsVdsZtp45k9qqynGOecNn6q1W6StLWOMFWwpmZVj7PKUPk4Hk5Ge32+kALOk9WHqn0UHJx6yzSPEx/hYuD9U6rETc1Iyh78Hljn7D7qvtu8Mg7BzrX7RNWPhO5j5LKIufYAoGCO7O/J+s+eswaSrFA6ncp83cfN7c15v4pgjDf5lP6bflP+1t8F5Nslfk5Z3esR+Mf9x4n8JSdxpcWcgD76p/G4CjA7avNpE7duRjvqlcXwBd8sh2IOXP3Dl7arMO75IiO645OqY5mfCm4GHc8lHf9VfOEeHptUnPaI1wD3AfzfdXj1C9HUE8hvbsHMYXn9YPKtgugrhsW9jG5Hly/nGPfluf3V6TLM4679fCiw1jLaPby7OGOjK0iUAoCRjmedSut8C20i4ChcDGB2Grki4rk0XKqu+W+/K5x4aa8QwJq/RTzLA/UO+qXqfC89tnkWj9f+eVbUNbAiorVOGUlUjGc92K24+XePLXfhY5jt2atTWSuMjt/UfUfxrxwxsp78rzA8471q/cacOtZSMwBMRPlDvXn2/VVZuYAcMOffkff9dW2LLF43CozYJpbUuiKb9MdnePV5/aPxqUQA8v0X5eoH/rmolUCt/N7fYO8ff+qvdanAK+Y8v3e7I/XWyZanmkTBI81ca9N7zAfz8j7R315qmJc9o1JSlKliUpSg3C+Ql/su7/AOYP+w2lbCVr38hL/Zd3/wAwf9htK2ErFkV8YZGO48jX2sYcedKFzDqI0bTrBtW1BYRd3Qa5jsrW0hdtql7h0fdKxxiMLnawIJwQAlP4GuG/5K0z/wDRQf4dS+m8BaTBby2UVnaRWlyc3FtHBGkExwBl4wu1+SqOY7hULo/GWpPpd5e3ennSryyS4dLWW5jvI5eptuvSUTwBVeJidhAwQVYZ76lOiHiWXU9Ks9QlWNJry3SeRIgwjVnGSFDszBfaTQS2q8O2dzbeAzQQzWe1E8FkjV4NsRVo16tht2oyIQMcto81dmu6Ha3kDWtxDDc2z4DQTxpLE20grlHBGVYAg9oIBHMVIUoKvwd0eaRpbtLZ2VpaSupjeWCFElZCwYx9Zjf1ZZEYpnBKqcchUvoOhWtmHW3hitlmla4mEMaxiWaQAPM4UDdKwVcseZwPNUjSgrp0QafYyQaZbWkTIrtbWmBb2jSMdxDdUnkBiTkgHtrB/EvR3q2sQNpf5I0nhuyvJoZNVvLS5gnuLqKGZbjZHHb2UX50yop3SkjkfPk7JUoIziHh6zvofBrmCG6t8qepnjWWPKc1OxwRkdxr5xDw5Z3qJFcwQXUcUizRRzxJKkciAqsiqwIV1V2AI7AT56gel/pBh0O0W4eOW5muJ47KytIBmW6uZ93VwhjyQEIxLnsAwAzFVMbwPxfrs90kF9ox06CRGcXcWpW9+kbBd3UyRxRKyN3bxlSew0F+vbWOVGikVJI5FKSRyKHR1YYZGRgQykEggjBFVXhzot0OxnF1bafZW9wuSk0VvGske4FTsbbmLKsy+TjkSOw1cKUEdYaHawzTXUcMUdxd7PCp0RVluOqUpH1jgZk2ISq57BXziXQLS/iNvdQw3cBIYw3Eayxll5htjgjIPYakqUEZxFw/aX0JtrmGG6tyVJhnjWWIlDlTsYEZU9nmr3SW6MhjKq0bKUMZUFCpG0oVIwVK8sdmK7aUFL0/oo0GGOWGPTrBIroKLhBbRFZlSRZVRgV5osqI4TsDKpxkCrnGgAAHIAYAHYAO6vtKBSlKDF3yrf8Ad299lv8At8FaFVvr8q3/AHdvfZb/ALfBWhVTCJKUpUoKUpQKUpQVniG7CTBcbRsJY+mSNwzy5eUiDl5vddOia5EVq0jH9I4yeQwSM+rmKrmuaF18UtwOTwHby2hSoUsc57WGR7wPNVx6I9AFxbKjc1KvLz78ty9ndWN8m6OqmC1cmvVk3h/pJsl8p3KhMc9udw9Sjmcjl2Z51lngbj7TbvKwzI7LzKcwR5+0d3OsE6Dpd2pCQ29mRuUbrpd7Mu7yiOWIjtJw2H54yKl+ItJazUy4hEnkCOW3h6iQM2OsUhfJeLm2DknGDyJxXLasR4/V348lvX9GwescR29pH10zrHHjduPf7B2mqladOOkT5EUhcrntVkBx63Uf5x567OIbI3OnQOAC4iG3cu5ScDDEHt7TVC0bS9XidgPBJoeRWGWFEdjjBRtsIaLnghxu5ctneZp9f1Z5rTHj9P8Aaa6ddZju9EuZom5wmGQZ7f45PMQCCGPMHB89a38fT9dZ274Efl84xn5+xkYnJ+f5AJPmIrZjpB0fdol2jJ1RlgZnjHMoykPgY7cMvI+ysGazwHdRcPyX9yNmwxS2qHtIku4oGkIwCjSeFO+3n2c8dg7MeSIxWj3nsrORitbJFvaszP4MVWVnv7P8mr30c6+1qxSQkwP3kEmJhyycd3cT6h3CqxokO3HvqzWlnkg9zcj34I7D9Y+6un+Trnxzjt4n97eVv8Vvxs/za+Y7x/mJ+9mix8pd3IgjIIxggjkRjuNY46crBzCCvzQ2W7u7A+rPL66t/CtykNqpc4VM4ycn5xIUDv8AMAKpPHfESXJ6vegT5phB3OQeWW25IPf3AV5r4X8PyfzE2j+mkzEzPbfp2+v6PZ/Gfi+H+WrSd9eSKzFa99b1O5+n362xlPak9TCO8op9sjjP31ubw7aCK3ROWEQDPsFaiaaA19AvcZ4h9Wd2P1Vs3xComURNdRWyD9AOgkbl2nJz9VdnIjcxCeJ9mFrF5GO0r7xXZHdq3srEjcI2pblqHlZ5BpFUfrIqd02C4tTtLiVD8185BHtFV+SsR4W+K/vC/RSjOOQAqTtpo+zIFVuEMV3gZ5Z5VU+KZd5w0/UK3cGCsfUOeT9VYU8923J4XDjThmG6ibykPI8wy/rrVzXrJrG5a3f5hOY27QM92e9azLo3DNiTuN5clu3aolI/9MR++qR0u8OwFd8E4mMQ3MjEdZgHnleTDl6q7sMxWe3q4M8Tev1hSrpBjOOzt9h5H7vur5E4G32FD69n79pH6646NMXUxn5y5Ge/s5/UV2n6hXXKcK3nUq/69hHuNWG1W9IJII8w9+DyPuz7689d2QHA8/d5+77sV1MMHHmqatGWPV8pSlZtRSlKDcL5CX+y7v8A5g/7DaVsJWvfyEv9l3f/ADB/2G0rYSsWRWF+l3o01T8ojiHRbiODVFgFtc2V0N1nqMUbblRm7Y5cALnIBxHhoiGZs0VjbjDTeKlu5JtPu9Kezl6vq7TU7afNrtjVHKT2jq8u91aTD9hbAwBQVvhvpR/LmjavFNbvp+qaZbXNvqNk53iJ2tZtkiSYG6KTq5MDtBVhlhtd8WaT0cM/Bw1ia9vze2um+FaaLa5ktbfT0tozJHHHDEQryOE/OSvliW5FdoNZn4I6JZrW21R7i5W61biBXF5dLEYreP8AMSQwxRwBiRFCJn5k7mGM9gqStejiReGvF7rkMpsH07wnY3V5eJo+t6vdnA3Z25oMXdOOu6hccOcOXEdw9tfahfaMZLmPIHWXWnyuzPGpAlj65g5iPktgA1JdNlk3CuhXEljNfy32pT21pLfTzSXt4XlLK9wgYgLO0fWKoj2AMyFcECrZxT0Sy3Wl6LponjR9CuNNuZJTGxW4Gm2zQMqqGyhkLbgSTj11celbga21zT5tNuNyxTgYkTG+KRGDpKueWVdRy7CMg8iaDXXhu5e01TTJNK0/i23WS5S11g6tbXz2t1b3GIjeTNNLKkc0MhEu9RGoG/sHKr1wZxA2icRatpt3K/gF1AeIbCWeQukEaAi8hBc+Qqsrssa+SscJPLOKtPC+h8WRNDDcahpc9rA8fW3C2E41C7ijdSyPm66iKSRAVMiqdpbOCRWPvlncLR6pdaLYxO8epXd3NbI0R2sunyQf6dIxBGVSMRnac7lMowcsCHq6P5kl0C+1zV7y70+DWrk3/WR3EsE1lYpcKLWyiaLcwEkaFcRLvkSfb845qt8NXNrZcTaOmmJrNnZ6mt/Hexan+UFgvhDaddHNGmoSNIzK7Bi4Cgfm8cmbOZOmTowXVdLi062lGnvYyW9xp7iMSQwvZjbFG0OcPEIyVxzAO04bbtNS1zow4ju7uw1eW/09tR0uSTqLZbKVNOWK4iMM5JExuZbiQCPmXVBtGAvMsF66b+jiPX7IWplktLiCZLyyu4c77a5hDBJcBlLLh2BG4HmCCCoIofR10l6zYajBw/r8MXhN2GGm6vaY8Fv+qQMyumF6ubzkKnNkHVqGV2yZ0kafq80cZ0y5t7S4ik3yLdwG4t7mPq2XqX2kSRDeUfehDeTjsJBoukdG2sX2p2era1c2LnSRMbGx0qCZLfrZ1VGnknuXaVyAiEIABuVCCAGVwq3S9b6Bd3V8m/XNR1ONW3fk2XUpoNHkFvtQDwdls7chozIUk3Hfv3DnirD0ZaZNxHwhaR3FxcR3U9t5F/HLILmOaGSSKO4MiuHlbCLvy2ZAXBOWzXDR+iXWbK4v4bTULaDStYu5r+ffZmbUbd7rAmjhkaQQ+UoCCSRX24B2E7t3bwj0Y63Z8PtoC31rEys9vBqEEEyzx2csjSSHYZcC8PWMispARSDksu8hjro3431Lii5g4euJlh/IzyS69d2lwFbV/A7hYII7do3Egt5Xw88iqAeWDFuRWnPlDcVmTX7bRZYdXutLhsTqNzZ6HHM9zeSSTtbok3g0kcq2UQQN5LgF2UEHySLnxL0HwRrp8ukvHpd/ouIradojKlxbsWMtrcqjI06SvJJIWzndJKRgyFhJ9KPRrcXt5aazY3K6drFgjQ9Y8fhFpd28mS1nPHlGaIOzsrg5Xcx27tjRhUvkwXd2t5qVqLbWbXRQbefSk1uG5jmgLxlLi3jluGcvD1iqypvO0czzZmOO/k/9H8mucN+G39/qM21bsWMUV3LCtq0ckn+kOVbddXPWgkGQsqoFUL21shwFaa4ru+pT6fKCqrFBp1tNCiEEkyNLcTyO5IwNuABioXoU6N5NF0QaO8yTuouB16IyIfCHdx5BYnyd+O3uoKTwBxPBdcF2l3q17c2kTRhLi9huJYruUW180axCaMNPI88dusbhMyOrScwTuFU4KvILLinS4NNTV7Kw1SC+S7ttU8PWK5NvbPcR3EUd/I0nWb0UF8DycAAB2zc5+gi48XbDR0u0jvtGul1G0uxCWt2mjuJ5UWSBmJMe25IPM+UoOCMqe3UejDiC41HT9bmvrCS+015U8FWzlisFt7mEwS9WRMbiS5Ks53OwXOzCrsbrAzjSlKDF3yrf93b32W/7fBWhVb6/Kt/3dvfZb/t8FaFVMIkpSlSgpSlApSu+wt+sdU9I4PqHaT7s1MRudQxveKVm1vERufuhwvoG6tIiD1UrBpQO3azBd3LuwoB82V84rJXRZsgk2Hku1lI83lbgP3VCyqN3o7F5exuW32eSD9Qrw6TfeWjcwHCsRzU81GQR2rz7qjlcb5d5r+/3ts+F/E45eCuTtuO0x7e35abH6XaRom4c+We721ROk+93MseRk93mGe31DPefNVk0PUx1AdsnK5AHb2fq7KxPxYl+ty9zGOsSVwWjA6zCgBdhHbt2+YjHbz5g8NInqXt7V6Pq2d4YtwlnbKexYgDnv7vuxU5FbpjlyHcB3VTuE9ekuLaMbDAFVMZAD8hll2sOS92SM+bz1LxyiM4GQGPk5OVBP6Jz2AnsrKYll1Vlw4x0lLuFrQsUWcbHdebBMbmx5mKqRn11hL5Y2rGK2stKTaiEddNHGNqrHDiOCPb3Jv6w+2FfNWWNU4ts7B457uVbeAydUJJM7RI6MVBIB2jyDljyGOeK1U6e+MIdW1ee4gYyWyrFbW8hBG5YV5sAwB2NO87DI5hs99bscd4VXMy6w2957KzpUefqAH41cNEjzy89Qmh2mBirJpEeDjvr0nFprT5Z8Szb3pXNQtZLlmSR36mN2UIDhcKxHzR2+05rqljiiXZGoVQDnA7eXee+pLUYyJJFHLLk/aAb99R+o2rJGzc8cvN3kCtOTHFKW6Y91hxc9s2bHF7TMTNdR/ZE8Nky3UdoIw73FzAEkB2uiqcuqtjK703DII7aztwDpd5JpikObd7l5dxVQrRqJmTauAMHC49VYV6K8HXLAHsMw9/VsB+vFbjXFsB5KqAoJOFAUZZi5P1sxPtNec5OWenT6RxMUdczHuwbxH0cTPJC0UnVdWjRzljJK05bP53ORiQA8jk4IBHZU1xXpgtrMklo7gB1iuIfIbnyiaQLykIZlDFgQe3vrJzWuOf7+X3VG6haLN+bYblYjIPPIBzj2VXfOm2t+i0+RERPT22x7fW9/bWkN099eSWzyRdbFtt4i8bOAcyRW6yRgqc7g2R+upnVNBDqssIMccm13TaVk9aMQd2c9pJJ9dZVt9PR4TGyqydmCBj3V03doABgdnLl/ntqbWnW2UViJ9/RhDh3oxkF1LcF1MUhdoYxuSWFnUAfnRz2pjIHn595z2cdcOXskJtzm4YqQsr43KQDglu9gccxis3WUGewDzZrr1mxXYcjn25rK2S8/a9muuGkbr7tKLyd7a4SGRVRovJcgAF/moSx/S+bn62ruuUxI6dzKQPrH7sGvZ0+wiO/yO1kyfbkj7qj2k3dXJ37R92P7xqxpkm8RafZV5McY7TWPdwSTIRvN5J92P3V3zDn/nzVHRthPY3u5nH3ipS77fqrZXy0ZI7OmlKVsc5SlKDcL5CX+y7v/mD/ALDaVsJWvfyEv9l3f/MH/YbSthKxZFKUoFee5v4o2VHeNHlOI0d1VpCCBhVJy5yyjlntHnr0Vjj5Q/RuNd05oY26nULVhd6ZcqxjeC5iGVHWqQyJJ8wkfNO18Fo1oMhXdykal3ZY0X5zuwRV545sxAHMgVzjcMAwIKkAgg5BB5ggjtBHfWrPA/El5xzLbafdwva2OjbJ+Io3wov9QikkjiserHZa7ojcSIwIzlCAUjkbPHHOq6zFLHDp9lbXKMheW6vL3wWCFgwVYRFHBLLK7DLbgAqgczzoLhXll02BpVuDHE08alEnMaGZFbOUWQjcqnJyAcczWP8Aoo6Uvyha3015CumzaNcT2uooZeugj8FTrHnWbYu6HZuPZ+iTkggmraT0v65dWL63DpCNpO2WWBHv1j1OWCLdi68HMHUhCELdV1u4rnYZMqXDOdRr6/ZhihuLcOpKshmjDBgcFSu7IYEEYqK6KOKjq2mWupGMQG8iExhD9YI8kjbvKru7O3ArW7o10XhmWXiObWU0/Eeu6iolvGRJ1i60nbE4YTAli20R+UWPk86DbG7vIogGd0jUkKGdlRSW7FBYgEnuFd9ae9GWpG04QtpL61bULOTWY00qC8leGSK1klVIJyyKfKSYTuqjyCGGOWKyP008Y69a8R6TZ2ccT210L0pA931Kag0VorsJz4M5txATuQjfvPaFxQZl1fiWztp7e0llSO5vzItpC2d85hVXkC4GPJV1JzjtqWrX/pclmbiHhJ50SGdm1Npoo5Otjjc2dsWRZSq9YqtkBtq5HPAq/wDR10itrN3cC1hV9HtD1C6q0hxe3KnDpbRCPEttH2G43gM2AoYHcAyDSsO2nSlqupz3a6PYW91Z6dM9nJeXt6bUXVxEAZIbeOO3kOEyv51yqtuHZXkn6fk/JK6sLVo/BtRj0rW7WeXZJpbGQRTSbxERciN3ixgIGD89hVlAZtpWJ+lzpmj0bVNO0vqfCPygy+FSiTZ4BDLcx2kVwyCNt0bTSSDJKfMwMk4qyycbE62uixxbwlidRu7neQsAafqIYAoQhpZGDvgsuFXIB7gudKUoFKUoMXfKt/3dvfZb/t8FaFVvr8q3/d299lv+3wVoVUwiSlKVKClKUCp7g+Dymk9EbR7W7f1D9dQNXDRI+rhXPIt5R853dn6sV28DH1Zdz4juo/4h5E4+LNY83np/DzP/AF+Ly65cFfJX5z5HsUdp+rOB6zXkZdyqRyxlfd+HKuWvyskb3IjMvVLkgchjOSc4OABnuNeXQNV662WXbtBZ9yZ3cgxHI4HPln9XfWPOvWbb33349obP4fxXrSIiNV6Z3Pvbcb9fTxv6Sy1o13FdWSRFjHIAIdyHDA9u7s7jk8xiuWg2d9HMYlktpdnMddE6yY7mYpNtcEc9wUD2VjuxvjEwZT+bbGTnl6m9xrMHDaQ3YTd/GKPJYcmA5ZHPtGWXl7arZrrvD1+HNXerQvOn2V6UzmzRzgfmhLJnl2+W6gADl291d8tpJEw62YzMRlwFCICOeFQZIHtJrq0rS0t/LBZiO48l8/pY+qofjDXEt7eW7kDFIY2lYLjc+BgRr3BnfyBnAyc1Mfaj2Z58tPEQwr8rDXuse1sQR5O+8lHeC2YYfZy8IOPWp9uI9Ih5ZPn5e3/OK9WpahJfXEl3MR1srlyB81QAAka/zEjVUGeeF588mvVoVtl0Xz75CO4dgA+/3V04KdcxMPLfEuTNItE/uNStmlw4Ud1SdsQGGSqgc8sQv1ZJAzju78V0QpgY7q7YRkjzCvSUrqHzfJeJtMz3hE3bsZmJHM7Dz5YzGvLHaD6q6dcJ6lvVg4+sV98PxeyKea+QPV/FrXr4igTqHYAZAB9Xzh3Voyd8V/ulacWejlYYmNbmkx+OlF4cvPB7+xuOzq7mPJ9QmUH/ANLGt6LqQdorQLUMmIsO2Nyw847x+ta3Y0TUfCbWGdTkTRRycv5yA/ea8jyPD6vxZ+09mragI0LdwBPrqsaPxTaxokkzlZp2bahDHb5RCgkDC+Tg8/PUndSDsbs7Dns514tW0+yAw5jU+tlUjP66rax33K4tO41C2QcX2kMO+Qsqk4JVXkP1Kik8vZXVr2oK8a3Nu3WR7dxxnyhn78c6geG/BInwJkaIjkHk3DPZ2Emriktu0ZCNGVA7FK4H1DsrOd2rpMx0W3qX3hzVVdQwxzGfZXr1mQGMn1GqxpkHVSFV5qeYHdzqY1EEofZ+6lbz06a71jq3DTr5Qsub8D0Y+fvNQdhJ+biPnBHu5fvr1dN027Upf5oC+zH/AM1HacfzMR/nlfeM/uqyxdqQp807y2dhGQ4HaCCPf/0qSZsgf0R91Rathm9Y/fj76k8cl9grdXy5snh8pSlbXOUpSg3C+Ql/su7/AOYP+w2lbCVr38hL/ZV3/wAwf9htK2ErFkUpSgVjXp74rvLa3j0/TlL6xqzm1smwxjtFxmW/lcKRHHBGSwJBJbbhXCsKyVSg1c1rgZ+B7yy1ewWe502RI9N4hiXrJZZNzArqvVLvzL1hZiBjBARcCZiJLpl4xiTXoYNTuNRtOHpbFJbD8neGRw6jeSykGOW409fCJG6s+TArY5Rsdu7y9kaUGp3Q7aJPBxNoESXNne6gLm6sLTURcJcG2urMQwSSyzl3yXkjDdY5kG45GQwHr4O6YLePh38h+DXza5Z6fJYTab4LLE0Ritmh8JluJEEMFvsXrWZmyBkBScA7TVH8S6b4VbT227q/CIZYN+3ds62No9+3cN2N2cZGcdooKJ8lr/dvTP8Ayq/+5qx58nzgDT7u9164vLG2uJl1++8HlvLWOVhH1xYFGlQ+RuJYEcs86zR0WcKfknTbbTes8I8DiEPXdX1XWYJO7q977O3s3GrNQYY+V5as2lWyorNt1PTztRSdqrMcnCjkoH1Cov5SOoLputaBrVwsi6bYPqEV7cxxSTLbG7tUhiZ1jVmCs27mAfmnvwDnulBrb8oXS4Ne1LhoIbhrC/j1TNxb9dbyLDdWNuUfcVDQllPzJFw3NWUgspnugTWLzRphwpqSDdbKfyNqUMPV2uo2oJKxvtGyG9TmCrHLYOSzYkmzpSg1m6HuOLPhKK70bVvCLOWK/uJbGY2tzPFqUFwyvHJDLBC4klJOGQnIyAeauE7ejjo6udR0LXmuIHtm4ku73ULK1uV2zQhz1tq8sf6EguFVsduFVs8xWylKDT3gnh2+4h4e1fUbpJlvpLO0sbFXUpMTodsl11qHapButQMjHswcgchk5X+SsLi+S+4huo2gudZuEVI23ZS10+EWkS7GA2EzC5YgDnlTk92a6UClKUClKUGLvlW/7u3vst/2+CtCq31+Vb/u7e+y3/boK0KqYRJSlKlBSlfCaDttYt7qvpED3mrz1e4hcZPYBj3fVXPo56P7qdhPIrQwgZQuMSSE8gVQ9i4PzmwOYxurKsPBcMMkRUdoZJHY7vLdQYzk8gAUYE4GS68udd3F5VMFJme9p8R93uofinwvNzs9IiemlY7z6zMz31H3RHedQ8PRxoUEsbxOUkEilJAOYAYEEesYrEPCvCktuktnIPzltLJEfXtc+V/RYYb2EVlK5Q6ddpMm4I+4SR+gynswe5l54PeKnePrKJY/yvEu+M7ReBBllBwi3IHeB5Kuvmw36JzT8m9rTN/XzL1/wvBWOnBEenTX/EffP6sG3WkXEJOELJnmuOzPePNnzfrqZ4e4jubYgBJPJPIEMcduVyFOBz81Zf4Vtre8QPEUkU45r2jl2Edqt/NNWaHgpMhgAD68fh+FaKZLy7svGjHM1tExMek+YY80fi/UbnEccDnPadr47MHtQDB9orwfKMuJbPR0STaZ9QuY4SDjCxwhrhsef85HCPr9uc76JadWpQKAfS5fuqI4z0TT9Y63R5wGKQpMrgL1tu7l1SeJmHkyptJ8xUlWyHrprvp1Lhy+dxDRANjI7Dn3Zzzq1aHFyV+8rg4/SHb7814uPOEbnSr2ayuObRYdJVUqlzEwPVzID+i/MYydrh1JJU16NGVlRV7wBn3VacCmvLyPx3LvtH77d/8ACy2vMfjXvgqEtg/s8+aldNRyWZiAqDJI55OCQp58s7SAefMiryk6ju8RmxbnsireyLTysRyL8vqAGf1VI8QQ/wCjuB27fuOa6LDUSWdQvY7YPnG4191u5ZoXB7CprVkisYba9pdWD5k8zFv0tX8tMYwEZkjP6S7h7VGfuJrP3yZuKxLaHT3OJrMkJk/OiY5XHn2nK+6te5ZNkqsezln2HIP6q9un6tNp1yl3FyeM4Ze6Re9D6iB78V5PJTqjT6xiydE7bj67pSXEbRtna4IOCVPPvBHMH1iscTcGGzIYSPIoYMDcbrgEBgdh8oMRyxzPYTV56PuKrfU7ZZ4SDnk6H50bY5ow7mH66mLzT94x56reqccyveNkrOtxEwpOk2SvI3KBUkHJVt35cu4tKwBz6qlh0apMC8jy7GO7q1PVBjgDnswdnLO3OO3lVi0fRNrD1eardDaYHPnUzkm0a038jPj8VjX5oXQ7MRIqdoRQoJ5nA5dvfXXxPqaW8DyMcBVJ5+oVJanIkSkkgAczk1gDp74gmlh2rlIG5ZOQZPq7l++tdK9+lx2v2mzX3i7VPCrqafudzj2A8q9+jtm3H8yRCPuP6qq6H53t/fU9oEmI3X1bvcat5rqIUUW6rb93rmHlsO8jP3mphjyX2D7qh7o/nlPpp78D/wDrUqvYv9Efdisq+UZPDlSlK2ucpSlBweNT2gH2gGuPg6eivuFdtKJdXg6eivuFPB09FfcK7aUHV4Onor7hTwdPRX3Cu2lB1eDp6K+4U8HT0V9wrtpQdXg6eivuFPB09FfcK7aUHV4Onor7hTwdPRX3Cu2lB1eDp6K+4U8HT0V9wrtpQdXg6eivuFPB09FfcK7aUHV4Onor7hTwdPRX3Cu2lB1eDp6K+4U8HT0V9wrtpQdXg6eivuFPB09FfcK7aUHV4Onor7hTwdPRX3Cu2lB1rCo5gAH1AV2UpRBSuy2hZ2CKCzMcADtNZs6L+CbOILLNGLiftLP5cUbHsVIcYZgVxuYE57NtIgY44Q4Bv7/DRx9XC3/HmykZHnUY3Sf1QR6xWbuCOim0s9rsPCLgc+slGVQ+dIxyXHn5t66yHpVvkZ7cjkO7HbjPf58dlSeNvMdnYyge3n91RNteGda78o2DSvxyTzP1furhqGlCRGQHaTyDAAlHUhkfB5EqwVh7KmogMDHMHsP/AFrhMmDn31rmW6KxDH3G+j+GWolQDrNqzIO87hnaP/VXl6HLtZOstpAJLeZBE8bjKnehVlI8xG8Yqb4S1Nbi2gb5olgikU9nzuwD1gsBgVW7jTJrTr5oCA0pHUsy7okcgsksibhlFmYDA7SVJwoasJ7dyJnq7eWNuNOGbrQtQZYHljjbMtvLGTloSxwrcsOUIKtkEcge8VduF+mG+RQs0cN0o5bhmGX27kyh+yKx3w1xFfXMz2WpyySybyySzt+ctZgNrKoAGLOaNQSiDaDGrhRhgbK+jPE204OMfOAyOWR5S8iCCCGAIIII5GuKtOmd08PsnwXkcL4txYpyqVtlrGrb/qn2tExqdT66nztlbR+lmzkGTDcRt2YxG45+ZhIOXrxWJuIdfmtdeS+ywhvWjJwcbWiPVGI9202/VcvOhPrr22dqynOB9RyP/UBXzW9OW4XY3eykMO1CrAgj2MOzv99dETOmvlfwtworb5MTEzE+ZmY/P/bMvHnBGn8Q2yGUYljG6C5TlLbswyR24kjJwTG3I9o2nDDWnizgyfSpzbzrz5mOVcmOZc/PUn9anmpPPtGdmeFGe3HVfOON6EnCyBlXaM88YBAI9vtrhxtw7HrMUcb/AJtEd2fkRcRMUwOrbcUHlYV0dWDAgggqpNtwuT8udW8Pgvxj4ZHJr9idWjx7T9Jasqyiu23lGc4HLsq48fdFF9YK0qA3dsvMvEp65AO9oRkkDzoW85xWNotVjA7f1Hz5+6ruOVi89UPF3+E8mJmOi39tx+XZ59B1Il3Xt8t8fbNSHEEp6kjs3cuz/PmqJ4dmiiLM/JmYkAAntYnPIdvOu7X9VWRcL2dvYf3+2uTLyKfy9o6o3rxtZcbgZP5+k/LmKxMTMzE67MeasMjPmJH+f1136jJ1kQbvKg/WBg/rBrr1ADa3nDD7uf6xXVZnMePNkfrz++qF7z1ergPi+70q4E8DYBIEsTc45Vz2MO4+ZhzFbRcJ9KVteIM/mZcc45Dj7LdjD9fqrUWaEkgDvNX/AIRXO318q5+Tji0bdHEy2pOobV6dxOi+UWUDzkjH31KS8aq/kQqZm72HJB/WPb9VYx4T4cD4JAx21knTbJIlAAx7KrJmY8LaZ6vLqktZJvKlOT2hB80fiaxr046HLPGscSlm5nl2KqjJY+YAVl4MAM9n+fPUnwvpQlhkncAiddkefo84yP6ZO72bay4+ObZIa+RlimOf7NAuJ+HWtW7DtJ6vJ7zgHPvyK8mivhsHsbKn2N/1rb3pm6HTeWkzW2BKOumSNv0mSQsqhu4nGK07m3wyFHBR42Kup7VYdo9tXWlHExEpK+cr1begxQ/qPuwxqchHkj1EgezP/wA1ETL1iMvbkLKp7uX+WH1VJaU2VYd+A4H6jURLK0biXopSlbXMUqe4H4dS/eaIzpbPDaXF5ErRvK101rGZjbIqEEO0SStu8ogRthW7B59B4Yv7xd9ta3l1Hz/OW1tPPHkciOsjjK5B5YzmgiaV6NRsZoHMU0csEoGTFPG8MoB7CY5FDAHB7R3V56BSlKBSlKBSlKBSlKBSlKBSlfM0H2lK9FrYTSK7pHLIkCh53jjd0hUnaHkZVIiQnkGYgZoPPSlKBSlKBSlKBSlKBQUqR0NBu3kZxyX24yT7QP1kUgWXgrSysiKB+dldYdx5iMuwUr6yqnccfuzWUOENQaJrEsfJu5ZbXBxiKSOZ1UjIzhlQd/n8/KvcFaeEvLeLt6oPdSetjCsefthSPNXv4yjaCwt7heTWmo9cvqHhkiY9mHFLzrsypG+7MKyGNi6jaCVJQ9gPMN9RBXs8xPPNT8DhsMO//wCMfURVKtLwm6e27YDaQ3UBPNgHleCRM48pV/0ft7Nx7qsfDc/lSJ/O3r/WAyPZuBrREt+nosJMO8f6OQy/zdwyR7M5Nei7BwV5DIIBPYDjA+rNRtg2WmbvDEfUvL76lLSYTJ/OHL6xUslT4K4Te0toLaRlfweJISUBG8ouN2SeQJycDz9p5VMahYqVKlQUYFWUjkVIwVI7wQcVK2sufzbdo7K7mhz299RpO9MJcb9HMd63VFjFexL1lpc/pXESkAq5/TkiYorHtyY35dYVqN0601K3jFvcwLexxeSs0HkXcKj9HmdtxGBzCN3clKVmnWdKNxHsVhFcRN1ltNt3dVKoIDFcjfE6lo3TI3I7DIJBHgstT8IgkmWIi8tA8d1ZKwMizxxl1iDHG+KXI2OQAyuh5cwNfytTuOzowc3LgvF8czFo8THaf9x9J7MVMnLKncowCCrRuhPYrxON0ZPd2qeeGbFc9PTdLGvpyxR/blVP71XDheS6voZJbu3EEEh/0TfDJBdJE6eVHLHISyyxvkbh5LeSRjbVc0e1KXsEbfOS7gDeb83co3uO2p0+lfCP4htzeHmnJqL0rMzr1jpnv9/bv6ePfTJjW5WzEgyzQ72Yd7LFO2Vz3N1eQD3GvZo87uD2FVxtbPlHlzGBy7VHPvA98tcoBEy9zAqf6+Sx9vPNeLRLfq0x5zn9QH3g11Vr3fJJlKrIDg+f8K1y+U70bRwf/atsu2N2AvYUGERnOFuVA+arPhXA5bmVu9jWw0XIew/9K6Ne06O7ge1kGYriN4X9jrjPqI5EHzgVMo00GrovGwD6gT7gT+6vfqdk0EskD/PgkeF/6UTmNvq3KaiNTY4f1If31hbwmnlXrt+TDz7ffiuFkcIfb+7/AOK4Xp8n2n7uVIW8j2tge4D7qwbvVM8MaW9zIyqCxjikmYDzJj4qtHAMRZFcc9rfvzWXugvgJbXTJ9SlXEs8U2xWHzYY4pHA597sqty8wrG/Q5ablMffsDYrn5NtVdXGpuzO3B91lAccwBVoWfNUrh5di47MVYLIySMsUQ3yvyHmUd8jHuVc/XyHaaqe8zqFrOojcpywtmupktwCYy2bh+5UALbc9zSY2gduNx7qyWkSrAqgYASMADlgDaMV0aTpcdpGsac8Nl3Pznbq2y7HvJwfZ2V6XPkqP6H6sMf1CrrjYPl1+qi5PI+Zb6ejxmPyD5iW/wDVJj7q0i+WdbWy64RAqo/g8b3WwYDSySSuCQP0upMeT35FbzFcKgPLmmftbifcDX5y9JWtnUdSu704PhFxIyEHl1anqoserqY4666125ZlBcN3nPY3aOajuYH5ye7mPXnz1NwJ1MinOY+zPcY38nd7QcZ9hqFht0J58u/I7QasWijepik2yLkhXBw49ZGO3lnI7TzxWNsNvMNtMsT2l2UpSjSz30Qce+CQW+o6g9pdW9mF0fTbWC1tpdYt2woMwfaksdqtqXVsuxkJUY3Nl/F0+8Vo1ze28g1ex1C1nSCyt0vQ2lGBH/1gW6pG1uZrbEqhd+S0flDDCqZwLbR3Wl6laLDDJfxC31K2l6oNeNDBJsu4o5PnAJEySiNebAzcjyxUesuL2dctLdXVy8cStLI0s0zuVijUySMSxJKIMnkMDkBRK7cFcWtfNHpOpyPdWVy4hguZyZbvS55TsjuYbh8ydSJGRZIWYoUzyGCGoutWElrNLbyACW2kkglAzgPC7RsASOa7lOD3jFZQ4c6L78206rYXaa5p99auhnKpZvbyBuQL/mLgRzw73ZWI2SIQxAZaqPTHcpNqVxMt1b6j1xWR7u0gNtbSO0ShhHGZJMqpGN4dg5y2SSaC3a70U6fpxt2v9VS1jvLeK4iEdjNcT7pFJk3RxyERW8ZKYmY5kJcBV2EmOvOh+8TVzo4lhbbD4a18cpbrZ4ybtl3EqA35vYCfLx5W07x3fKbvop7qyaJ0mUaNZIWidZAG33LFCVJAfayHb24YeespalxrY2+vgPPAlvfaDBYeGfmriC2mZ5JUaUHdGYtuNyuCvlR7vJJNEMP33AljNbXFzp2oflFtOjFxeQSWUti5g3bWuoWkkYSxp2shwyrzJyVVonpC4OOmxWMplE35SsYtQ2iPq+p60bupzvbrNoI8vyc8/JFZJ4ii1q1tLlri+0C2hltpoMWUenG41FZEwbWDwayWXbKP0yU2+SxxjI48ZcPrrunaVcW13p0KWGnR2GoC8ult3tJIFRS7IVLFDhyOwkBCu4PkEoW16GWfVbfSfChuu9OTU+v8HzsLiQdR1fXjf5cX8ZuXk3zeXPy6d0Vw3NwllbajBc3cYkl1Rlt5ksdOihUdZKL1yFvAsrCMbAu4kE7AGIy5ba1ZDiuxlS5ge2XQkiW4MqKhI8JcAkthJDEVfYTuAI5Vhn5POt2sDXVjdSLaQ6tp0un+FPyS2kkTCM5PJIyGcFiQAQmcAkgh6JejayuYLiXTNRXU5rGI3FxavZTWUskKcnngMjt1yr6AGea88sgblD0ZWcVhZ6peaitnbX6SNsWzmurgOj4WOOOJyZVMYZ3lIUIQq4feMWbo90LxZNzqd7c2Du1lNa2VpZ3S3Ut5LO0ZDAKoK269WuXYcg+Tt286z0pXkT6Hw/EkiSPDb3yyojqzxnrrdQHUHKElGxnGdp81B7te6JLHT5U8N1aGC1uwr6fNFZzXElzG6q3XyRI+20gQyKN7OwbmfJwcR6dDl3+V59JaWKNLOI3VxqDqRbx2uxXFwU3ZDHeF6ssPKV/K2qWr78oq9imh0kRukpTRLVHEbq5R9jDYwUna+QfJODWVOLuJdPk1zU7F7mCKHWdJisYr7rFe3hm6lygkkVtqoyzEkkgclH6Yoljnh/oosNRM5sNVW5S0t5Z5llsJ7acMi5TbHLIBJbyMGBlBzGQoKtvBE7acLaK3DKu1+kaNqQZtR/JNy8qSmzANh1IbrnRRlutDdWT3Zr19DXCI0W4vJL2805JpNMuoYLeC8SYup2SPMzYURoOqQIGwz7nO0dWarnR/bJqfDkmkRTWsOoQ6it8sF3Olv18JtVhJjd+TMrl8ju2jONy5CG0zo6tI7SK/1G/GnQXpfwCNLSW8ubmOM48JMMbgww4KtzzkMnMFlBu3RNwzAkGvWcV7aXNvLp9q41EboreNHN0WaZGy0DxKrM8eWIGO84Hj17RhxBp+mpa3FlHe6RbnTb2zurmOBvzWyNbmJ8lJYX6otvUlSGXnlSK8/Btjb6bZ6/aG7srqR9OtsPbTBoWlL3Cvbxu+3who2eNSyDGXUcjkAhXNW6PLN9On1LT9QGpLYNEt9C9lNYyRrM21ZkEzkvHnPIgclfnlStY6rJ/RPfRR6Nr6O8aPLb2SxI7qrSkTzghFJy5BdAQM43Dz1jCgUpSgUpSgUpSgVZ+DLPrHQHsznH17if8A0xVWKv3BEe0q3dgn6gBz9XLFZVJXngY79QlPmiCj+swOPctWHj3Tt+lXC4yUaSQe1JevH3VWOjLnLNL61H1BSf15x7qyhcwCazdfTDhvryprXmbMSP4UxLHY3PM5hn0+T+hOiThj7Gs9o83WVNcKXJZ0Y9rA5PcT2e5sBh6qpfAd6w0SRxye2DEnvTYfLYfzljMh9oq9LGqNEyY2HYFHqUKh9ybBWqG16tKl23U0R7yJB7H5/fn31xtJ+onIPzT2+rJrw3smzUkPdJEVPtVgf31IcRQ5LefC7TUwlOX8G4b17Rzrts5+sX+cvaKjOH9Q3Jz57Ttb7q9Mw6p94+acZ9lDT1XUf6Q+v6qrvE1hIki6nbLvuI16q5gXA8OtwSTCc8jMhLSRMexiy5AkY1Z93f2qefsrqRdrY/RfspPdES56ZeQ3cKuh3xSqHicZGVYZGQeat3EHsIIPZWHula3nsbxLwLut/wA00jKfKjeGQBmwT5SGLZ2c/nHn3ZF0+28FmdE5QzM0yr2LFOSWlUeZJgRMB3MJj+lXg6b0aTRb5k2CQWc7KZFZgAsZZ8BCDv2Bgp5gNtJBxitmLW+7dx+Vk49pnHOuqJrP1i3mJTmlP10Mcx55UgDlyBOSfbtGPqr2xdn6/fz++o3hZStpboe0Qxg58+wHHuH66kYv+uPafxzW2suKXYv31zJ5D211r3V9PZRENPvlDaT4NrNx3JcbLpP/AL1fK/8A3llrFOu3IVWUHm2B9XI9vrPdWxPy0tGJNlejyV/O2krD+rNHz7uQnrV3WZckD2Y/z7q039mykdtvLdnkqjmT3D1nl9ZzVy6M+GXu72OALvEQ66U/oJg/Obu2g9g7yB66qVntLlznZH3jt5cuRPIGt4fkwQaFdaf19lbdS+8wXguGE1yZVG8s8p+chjKsm0Ko3MABg1GtsurXdN8f2K2ejTpnBWBoUJ7EEkYgAAAA7JMdndWv/Q7o0iXoUqRG0bbCRjdgr2Vsb0yXCPbpbHH52aJWz2KNxfJ8/wA0frqs6vxnpGk3cdnI6GRgq/xTBYtwGDJOqEgHlyPIDBOBXJlxzktNY8aduHLXFSLTG5mf0RqaXI83URDe7fNHYAO9if0VHbmsq8JcKpZouPLmfBllPf5a4RR3RjDYHvqt6jxQdOnD9RDLaSDIkhG2dTz3MWYkOi5wM4yTyPKrToXHWn3bhUmVX5HqpfzUmADj53Ikux7CeyssHGrjnc+WrlcucvaO0LHegYx3kNj2thP71dUyZPmHxERj9Rau4KWkBPYOXq5Ju92WX3VyuPnAf0P/AHFvuWu6IcKhfKI4l/JujXVwDtlZDbwHzS3ANuhH9HeX/qV+e4AHIdg7PZWz/wAvbX+VhYA8yZb6Tn2D/V48j15n+zWrDXPqJ9341sp2RL0g99dlpclTmvCs5Pdj2n8BXJHrZEo1tcKUpXMl69G1Oe1mjuYHaC4gYSQyxnDowBGRkEEEEqVIKspKkEEg3KXinR7pututPlt7knfJNo92LWKZ85L+B3EEsduxOCTEwySTgVQqUGwHRT0uOJzptsINMtbiO7ZbzVL6e+ljuvBmaG4e4uHWFIzLHGGgWMKSzEEsfKw9xbxGt4kC+C2FpJbiRZJbC3S1F2ZHUh5EjATKBMLtAHlORgEKIClEgr4BX2lEPgUChUV9pQfMV9pSg+BQPVTFfaUE1pXCV9cQm4igkkh8shl2AydUu6QxxlhJcbB87q1bbzzjFda8MXng3hohfwUKZOt8n+LD9WZhHu6wwCTyTMF2A5BbkavXR3xNptqtm8jpE9v4Ql0HsDeXLNO8ypLBdOxW0tVhlhLJCEl3JN5Mhl3VCalf6fLDFKbi6WaDTYdLNpbxtE0zW8ItCxuWBj8AniBleMjeS7pt57qCE1Tg6/toxLLbyRxsyJ2Kzq8o3Ro8SMZIZHAO1JFVm7gakNV6P72C366aORJGu4LCK2CLK80k8VxJtDRSNtnRrZIzbld+ZVzt5Br148aZbvNLE0cim9sNQt7dNPaGVo7G+M5guL6Vnmur0xOPzkjtFujZg+ZNoi+GuJtN0woY5pr7Gpx375tmiKweAX9mzYlfD3qNeo7DkjFUCufKKhTbngnUFlS3NtI00yyPCibJutECl5QjRsyO8aqSyAll5AgEgHtv+BNThjaZ7Z1iijM7SbonUxou55UKSHr40Xm7R7ggzu21aRxdaQItvG8LIsWpsXsdP/J9ust5pEmnwgRtmZ5Wcr1kh2oqiIDfsLVGaNxNbRmy3FsWml6jYy4QnbNd/lPqwvnUi9t8sOQy2fm0FXutAuo3mR4nV7RFluQcfmUcxqrsc4w5nhAwTneuM1HVkfjbUdmlWqOkkV9qEUCXiyqUZ7XSXmgtJdr4fbcK8J3EeV4EpBIIzjigUpSgUpSgUpSg4ucAnvwce6r9p79VAT3qhX6yQo/9pqlafHukRe4sufZuGf1Var6T82P50uD9s8qzpDG0sl9HNuFiftzy/wDb/wDFZL4aO+zXvOD9ff8AWaxvw7OEVyOxWwR6hEtZH4Ubbar35B/CtWRtorXQ7bCSC9tW+abm5gYfzZSye7a1e/Qb8tp9vI+Q43I4PapwSwI7iGhxjuro6Kzi7vx2BrncO7OYlbPvJpxGng8N4i/NiuOvX1i5HWt7B19zKB7BWmPDd/yTvFCYmgnHe6R+oq65J+rkc+2p/VF3kgcmXsPaD349xNVm0uVuba3kU5KqrkY7SyFSvn3K+PcRy7pOWd8db+kq7WIyA2wNzweecZx3kEVkQ48PTbZ5YjyBK4835xeX1bgRVhsH3xmNvnJkes4yP3H3VT5Z/wDSVA2kuFzjGdvWE55Y7OZA5/O9VWmABWPeOWDy7e3zeuhMvVZOQCvI45rnluB/RPmIwa7i4I7Ry5rk8x34P6xXW+FIP6LYHsbPZ7CMD6q7JQBntOMHGSMjvGfYTUjheBSQeRB8lhnn6mx5weWfMfNmqz0oyGPTbpBzEiCNcc/46RIWXlz7JD9Xsq0OFOH5+/l2cwR38s1WOlC9Mdk8g/4TwOQ3LK+ERqwyOwYO76qljpN6fIAqjuCjn9Q9XcoFcyRJtdWYDGVIBAIYdu0/O5dmVPn5V06MT1UZxncqsc924bscu/nivFwfe9ZDzxuillgfGM4RzsLY7WaAwsT3k5763Q1JFpJV5ghgOeADnl5zuOPsivTa3asB5zyI9f8Ak19YA8qhddR4tsyHCxsrzKOx484Y+1Qd2e3l29oOUEqf8pfSvCtDuyBlrUx3ieyCUdZ74DKK0bkXdJz7hgY8+OZPqH4V+iOrW63MU9o2GF3bTxkHvEivH/eFfnlY2rgBT/GyEKA3Lbk45+bLdvsrDo3KerUadTKXIjHJe0gd/trPfyab2fTbkTgM0E22K5jBOGjzuDAdm9DhgfMWHfUbwf0T5MIY5knjM5PmXftXA/ohn9mKzdofB3gqLHjDY92eR9wP6hWEwTPumenq2eVrLqvKW5uI4Q6818tWZTy84YH31NX/AEUWFzcC6niSaVQAHdcchy5R5wcDll85HLFS3DUMcsaxvz8AmV0AA5eQ20ZPeN//ALaslwWIyfJ9Rzyx3tjHYO49vZisa0+1Nmdsm6xX2VXXOFop/IUlVwVYg5By2T9eAQO4ZPqqk8X8KWttDLclgkcSNIzPjACAgMfrV2+pKyrsCJ6PIkDvHcOXnAwPbWpHypukjwiU6Vbt+ZhYeFuhyryLjbbgjtSPALHvYAdxFbIpFpYTaVB0fpX1ezuGuLW6miRmOIJD10BUditBJlQSAMldp9dZs6P/AJWKM6x6pb9TntvLPdJHnbty9q2XReZPkM558hWrdcJa29HswZH+U9xjb6trElxbv11tHDBbQygELIsaGRmAIBA62aQcwOysYIa+muEjY5d5/wA5qdaRLmW7q+g1wiSuzFTAudKpnjXP6MXub46eNc/oxe5vjrnZaXOlUzxrn9GL3N8dPGuf0Yvc3x0NLnSqZ41z+jF7m+OnjXP6MXub46GlzpVM8a5/Ri9zfHTxrn9GL3N8dDS50qmeNc/oxe5vjp41z+jF7m+Ohpc6VTPGuf0Yvc3x08a5/Ri9zfHQ0udKpnjXP6MXub46eNc/oxe5vjoaXOlUzxrn9GL3N8dPGuf0Yvc3x0NLnSqZ41z+jF7m+OnjXP6MXub46GlzpVM8a5/Ri9zfHTxrn9GL3N8dDS6MSeZ5nkMnmeQwB7AAB7BXyqZ41z+jF7m+OnjXP6MXub46GlzpVM8a5/Ri9zfHTxrn9GL3N8dDS50qmeNc/oxe5vjp41z+jF7m+Ohpc6VTPGuf0Yvc3x08a5/Ri9zfHQ0vulHEinzHP6jVkuV/0RX55L7v/Uv41h7xrn9GL7LfHXzxqm9GL7LfHWVbaRNWy/Dt4dsy9p3so9vVqBWY9PUrbAY7AR2d45ZrQU8UzejF9lvjrj4yy+hD9hvjrG3dlHZuz0fS/wCkSNggzNnzglVI+4Cu7jSCSd762Tk8+nK8OezrVNwF9g3Rw860hPE8voQ/Zb46+eM0voQ/Zb46w6I1pn199tzug/Xhd2CuoUmGRI3KjBINvFcDPYeyXGDy7RWQdUkKKfXz7APV93OvzxfieU9qRH2qx/v1xHEsnoQ/Yb46dJ1t474FZLeY58pupY4PleSSvvdQPrq3QzMJGHcuB3+vn+qvzv8AGaX0Ifst8dfPGWT0IfsN8dT0o6n6Ur5a7efPs78HtB5Dz4FdsBLpzzuwVPtr80fGST0IfsH46eMcn0cH2D8dOlPW/SaaQqi8iG7D2jsIPP2/dmsffKH1HqNGuW5jcsca588k6KvLv5kHArRocSSehD9g/HX1OJpRzCQj2Kw/v01CJs/R+EbAi8xhQq92cKP+lUbh3VxZ6nc2co6r8oMt3aO3KO4kjhFtNCrd0wjt4XCdpXmOxsaMeMknoQ/Yb465DieXs2Q4PaNrfHWzqYv0n60nmBzHaCO8dxr6cNlGXcrrtYEZUgjBBBGCMcsV+ay8SyD9CHl/Mb4688mtMV29XDjJPzD3nPpec1lFo9UTt+iTyFLyEDkNjjGO7fy+6tNuIuHGTiKSwx2X5VB2fm3fro/YOqdMmsZRaoVzhIuYI+Z5+XpeavbwpxRLY3MN3GkLPbP1iJIrGJjgjDKkisV8o9jCnVEQiPLfvS9GRb+FV5pFAVzjGcbMe8/e1Xi4tUYsTgBVxuPYNpyWz7QR9VaTQ/Kl1lZev6jTS5G3BhutuM57Be5z9dctQ+VTrcsTwmHTQsy7HKw3QbaRtYAm9ONwzk9vlHGOWNcyznuz1wTFqx1WS5Xd4Bc26yoH/iwZb63dRsznrjYqcchjC8+dZqibvPPHLA7z3ADz88Dt599aRR/Kx1tRtFvpYAAUYguuxexf9e7AOXsAr6Plaa5jHUaZ3/8ABu+/t/8A971n302xhm/5VHSTJptqlvbsEvLzcqsPnQxKMPMP52W2IfOWbuGNNV8/b3kk5J9ZJ5k+uu/pA6QLzVrtr246vrHCoqRqyxRIgwI0UuxVc7m5knLHnUB+U38y+4/jWytog0mWNdLmow6m/mX3H8a4nUH8y+4/jWfzINPfI+PaewVxiTvPae+o8XjZzyz9f41zGoN5l9x/GseuEaSaij1GjUn8y+4/jXF79j5v1/jUzeE6eSlKVoSUpSgUpSgUpSgUpSgUpSgUpSgUpSgUpSgUpSgUpSgUpSgUpSgUpSgUpSgUpSgUpSgUpSgUpSgUpSgUpSgUpSgUpSgUpSgUpSgUpSgUpSgUpSgUpSgUpSgUpSgUpSgUpSgUpSgUpSgUpSgUpSgUpSgUpSgUpSgUpSgUpSgUpSgUpSgUpSgUpSgUpSgUpSgUpSgUpSgUpSgUpSgUpSgUpSgUpSgUpSgUpSgUpSgUpSgUpSgUpSgUpSgUpSgUpSgUpSgUpSgUpSgUpSgUpSgUpSgUpSgUpSgUpSgUpSgUpSgUpSgUpSgUpSgUpSgUpSgUpSgUpSgUpSgUpSgUpSgUpSgUpSgUpSgUpSgUpSg//9k=\n"
                },
                "metadata": {}
              }
            ]
          }
        },
        "7b13b2c37fc54bc699c0e9c5f3ba6059": {
          "model_module": "@jupyter-widgets/output",
          "model_name": "OutputModel",
          "model_module_version": "1.0.0",
          "state": {
            "_dom_classes": [],
            "_model_module": "@jupyter-widgets/output",
            "_model_module_version": "1.0.0",
            "_model_name": "OutputModel",
            "_view_count": null,
            "_view_module": "@jupyter-widgets/output",
            "_view_module_version": "1.0.0",
            "_view_name": "OutputView",
            "layout": "IPY_MODEL_620c5f4714dd44859fcbb3113696666b",
            "msg_id": "",
            "outputs": [
              {
                "output_type": "stream",
                "name": "stdout",
                "text": [
                  "Video available at https://www.bilibili.com/video/BV1kD4y1m7Lo\n"
                ]
              },
              {
                "output_type": "display_data",
                "data": {
                  "text/plain": "<__main__.BiliVideo at 0x7f817e3efb50>",
                  "text/html": "\n        <iframe\n            width=\"854\"\n            height=\"480\"\n            src=\"https://player.bilibili.com/player.html?bvid=BV1kD4y1m7Lo&page=1?fs=1\"\n            frameborder=\"0\"\n            allowfullscreen\n        ></iframe>\n        "
                },
                "metadata": {}
              }
            ]
          }
        },
        "354b0a70448e4df5b906e064cde27238": {
          "model_module": "@jupyter-widgets/base",
          "model_name": "LayoutModel",
          "model_module_version": "1.2.0",
          "state": {
            "_model_module": "@jupyter-widgets/base",
            "_model_module_version": "1.2.0",
            "_model_name": "LayoutModel",
            "_view_count": null,
            "_view_module": "@jupyter-widgets/base",
            "_view_module_version": "1.2.0",
            "_view_name": "LayoutView",
            "align_content": null,
            "align_items": null,
            "align_self": null,
            "border": null,
            "bottom": null,
            "display": null,
            "flex": null,
            "flex_flow": null,
            "grid_area": null,
            "grid_auto_columns": null,
            "grid_auto_flow": null,
            "grid_auto_rows": null,
            "grid_column": null,
            "grid_gap": null,
            "grid_row": null,
            "grid_template_areas": null,
            "grid_template_columns": null,
            "grid_template_rows": null,
            "height": null,
            "justify_content": null,
            "justify_items": null,
            "left": null,
            "margin": null,
            "max_height": null,
            "max_width": null,
            "min_height": null,
            "min_width": null,
            "object_fit": null,
            "object_position": null,
            "order": null,
            "overflow": null,
            "overflow_x": null,
            "overflow_y": null,
            "padding": null,
            "right": null,
            "top": null,
            "visibility": null,
            "width": null
          }
        },
        "4382453558084d4bac5481790fd8b6dc": {
          "model_module": "@jupyter-widgets/base",
          "model_name": "LayoutModel",
          "model_module_version": "1.2.0",
          "state": {
            "_model_module": "@jupyter-widgets/base",
            "_model_module_version": "1.2.0",
            "_model_name": "LayoutModel",
            "_view_count": null,
            "_view_module": "@jupyter-widgets/base",
            "_view_module_version": "1.2.0",
            "_view_name": "LayoutView",
            "align_content": null,
            "align_items": null,
            "align_self": null,
            "border": null,
            "bottom": null,
            "display": null,
            "flex": null,
            "flex_flow": null,
            "grid_area": null,
            "grid_auto_columns": null,
            "grid_auto_flow": null,
            "grid_auto_rows": null,
            "grid_column": null,
            "grid_gap": null,
            "grid_row": null,
            "grid_template_areas": null,
            "grid_template_columns": null,
            "grid_template_rows": null,
            "height": null,
            "justify_content": null,
            "justify_items": null,
            "left": null,
            "margin": null,
            "max_height": null,
            "max_width": null,
            "min_height": null,
            "min_width": null,
            "object_fit": null,
            "object_position": null,
            "order": null,
            "overflow": null,
            "overflow_x": null,
            "overflow_y": null,
            "padding": null,
            "right": null,
            "top": null,
            "visibility": null,
            "width": null
          }
        },
        "620c5f4714dd44859fcbb3113696666b": {
          "model_module": "@jupyter-widgets/base",
          "model_name": "LayoutModel",
          "model_module_version": "1.2.0",
          "state": {
            "_model_module": "@jupyter-widgets/base",
            "_model_module_version": "1.2.0",
            "_model_name": "LayoutModel",
            "_view_count": null,
            "_view_module": "@jupyter-widgets/base",
            "_view_module_version": "1.2.0",
            "_view_name": "LayoutView",
            "align_content": null,
            "align_items": null,
            "align_self": null,
            "border": null,
            "bottom": null,
            "display": null,
            "flex": null,
            "flex_flow": null,
            "grid_area": null,
            "grid_auto_columns": null,
            "grid_auto_flow": null,
            "grid_auto_rows": null,
            "grid_column": null,
            "grid_gap": null,
            "grid_row": null,
            "grid_template_areas": null,
            "grid_template_columns": null,
            "grid_template_rows": null,
            "height": null,
            "justify_content": null,
            "justify_items": null,
            "left": null,
            "margin": null,
            "max_height": null,
            "max_width": null,
            "min_height": null,
            "min_width": null,
            "object_fit": null,
            "object_position": null,
            "order": null,
            "overflow": null,
            "overflow_x": null,
            "overflow_y": null,
            "padding": null,
            "right": null,
            "top": null,
            "visibility": null,
            "width": null
          }
        },
        "98fa4ec9d7b2423cbf44074cb21dfb23": {
          "model_module": "@jupyter-widgets/controls",
          "model_name": "VBoxModel",
          "model_module_version": "1.5.0",
          "state": {
            "_dom_classes": [
              "widget-interact"
            ],
            "_model_module": "@jupyter-widgets/controls",
            "_model_module_version": "1.5.0",
            "_model_name": "VBoxModel",
            "_view_count": null,
            "_view_module": "@jupyter-widgets/controls",
            "_view_module_version": "1.5.0",
            "_view_name": "VBoxView",
            "box_style": "",
            "children": [
              "IPY_MODEL_abca1849637f41e0bf729f99db4082de",
              "IPY_MODEL_df3d3172c2904da4b4c588629a1e927c",
              "IPY_MODEL_a5bdc026b2a54691b763bae788d675c4",
              "IPY_MODEL_d3b976e258654d15bd0c7b28eba0e75b"
            ],
            "layout": "IPY_MODEL_098799b3f10d429e9e4e3df2c6339d54"
          }
        },
        "abca1849637f41e0bf729f99db4082de": {
          "model_module": "@jupyter-widgets/controls",
          "model_name": "RadioButtonsModel",
          "model_module_version": "1.5.0",
          "state": {
            "_dom_classes": [],
            "_model_module": "@jupyter-widgets/controls",
            "_model_module_version": "1.5.0",
            "_model_name": "RadioButtonsModel",
            "_options_labels": [
              "same location",
              "different locations"
            ],
            "_view_count": null,
            "_view_module": "@jupyter-widgets/controls",
            "_view_module_version": "1.5.0",
            "_view_name": "RadioButtonsView",
            "description": "Fish and agent:",
            "description_tooltip": null,
            "disabled": false,
            "index": 1,
            "layout": "IPY_MODEL_66f9881424194bec91460e6125a65a33",
            "style": "IPY_MODEL_4bce3841a1d34222aca21b803aae7a68"
          }
        },
        "df3d3172c2904da4b4c588629a1e927c": {
          "model_module": "@jupyter-widgets/controls",
          "model_name": "FloatSliderModel",
          "model_module_version": "1.5.0",
          "state": {
            "_dom_classes": [],
            "_model_module": "@jupyter-widgets/controls",
            "_model_module_version": "1.5.0",
            "_model_name": "FloatSliderModel",
            "_view_count": null,
            "_view_module": "@jupyter-widgets/controls",
            "_view_module_version": "1.5.0",
            "_view_name": "FloatSliderView",
            "continuous_update": true,
            "description": "low_rew_prob:",
            "description_tooltip": null,
            "disabled": false,
            "layout": "IPY_MODEL_f28c8b1e0a6d4740870b1d03f80e96de",
            "max": 1,
            "min": 0,
            "orientation": "horizontal",
            "readout": true,
            "readout_format": ".2f",
            "step": 0.1,
            "style": "IPY_MODEL_caa5c377d9c14726bce4fcb9faf9cbe2",
            "value": 0.6
          }
        },
        "a5bdc026b2a54691b763bae788d675c4": {
          "model_module": "@jupyter-widgets/controls",
          "model_name": "FloatSliderModel",
          "model_module_version": "1.5.0",
          "state": {
            "_dom_classes": [],
            "_model_module": "@jupyter-widgets/controls",
            "_model_module_version": "1.5.0",
            "_model_name": "FloatSliderModel",
            "_view_count": null,
            "_view_module": "@jupyter-widgets/controls",
            "_view_module_version": "1.5.0",
            "_view_name": "FloatSliderView",
            "continuous_update": true,
            "description": "high_rew_prob:",
            "description_tooltip": null,
            "disabled": false,
            "layout": "IPY_MODEL_84fa0e834cd44dbe8232148b48d5fffd",
            "max": 1,
            "min": 0,
            "orientation": "horizontal",
            "readout": true,
            "readout_format": ".2f",
            "step": 0.1,
            "style": "IPY_MODEL_2302bd65ce4a4610baf946046684edac",
            "value": 0
          }
        },
        "d3b976e258654d15bd0c7b28eba0e75b": {
          "model_module": "@jupyter-widgets/output",
          "model_name": "OutputModel",
          "model_module_version": "1.0.0",
          "state": {
            "_dom_classes": [],
            "_model_module": "@jupyter-widgets/output",
            "_model_module_version": "1.0.0",
            "_model_name": "OutputModel",
            "_view_count": null,
            "_view_module": "@jupyter-widgets/output",
            "_view_module_version": "1.0.0",
            "_view_name": "OutputView",
            "layout": "IPY_MODEL_1b1ab00498b64213aa2eb088af5b5a93",
            "msg_id": "",
            "outputs": [
              {
                "output_type": "display_data",
                "data": {
                  "text/plain": "<Figure size 864x252 with 1 Axes>",
                  "image/png": "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\n"
                },
                "metadata": {
                  "image/png": {
                    "width": 848,
                    "height": 234
                  },
                  "needs_background": "light"
                }
              }
            ]
          }
        },
        "098799b3f10d429e9e4e3df2c6339d54": {
          "model_module": "@jupyter-widgets/base",
          "model_name": "LayoutModel",
          "model_module_version": "1.2.0",
          "state": {
            "_model_module": "@jupyter-widgets/base",
            "_model_module_version": "1.2.0",
            "_model_name": "LayoutModel",
            "_view_count": null,
            "_view_module": "@jupyter-widgets/base",
            "_view_module_version": "1.2.0",
            "_view_name": "LayoutView",
            "align_content": null,
            "align_items": null,
            "align_self": null,
            "border": null,
            "bottom": null,
            "display": null,
            "flex": null,
            "flex_flow": null,
            "grid_area": null,
            "grid_auto_columns": null,
            "grid_auto_flow": null,
            "grid_auto_rows": null,
            "grid_column": null,
            "grid_gap": null,
            "grid_row": null,
            "grid_template_areas": null,
            "grid_template_columns": null,
            "grid_template_rows": null,
            "height": null,
            "justify_content": null,
            "justify_items": null,
            "left": null,
            "margin": null,
            "max_height": null,
            "max_width": null,
            "min_height": null,
            "min_width": null,
            "object_fit": null,
            "object_position": null,
            "order": null,
            "overflow": null,
            "overflow_x": null,
            "overflow_y": null,
            "padding": null,
            "right": null,
            "top": null,
            "visibility": null,
            "width": null
          }
        },
        "66f9881424194bec91460e6125a65a33": {
          "model_module": "@jupyter-widgets/base",
          "model_name": "LayoutModel",
          "model_module_version": "1.2.0",
          "state": {
            "_model_module": "@jupyter-widgets/base",
            "_model_module_version": "1.2.0",
            "_model_name": "LayoutModel",
            "_view_count": null,
            "_view_module": "@jupyter-widgets/base",
            "_view_module_version": "1.2.0",
            "_view_name": "LayoutView",
            "align_content": null,
            "align_items": null,
            "align_self": null,
            "border": null,
            "bottom": null,
            "display": null,
            "flex": null,
            "flex_flow": null,
            "grid_area": null,
            "grid_auto_columns": null,
            "grid_auto_flow": null,
            "grid_auto_rows": null,
            "grid_column": null,
            "grid_gap": null,
            "grid_row": null,
            "grid_template_areas": null,
            "grid_template_columns": null,
            "grid_template_rows": null,
            "height": null,
            "justify_content": null,
            "justify_items": null,
            "left": null,
            "margin": null,
            "max_height": null,
            "max_width": null,
            "min_height": null,
            "min_width": null,
            "object_fit": null,
            "object_position": null,
            "order": null,
            "overflow": null,
            "overflow_x": null,
            "overflow_y": null,
            "padding": null,
            "right": null,
            "top": null,
            "visibility": null,
            "width": "max-content"
          }
        },
        "4bce3841a1d34222aca21b803aae7a68": {
          "model_module": "@jupyter-widgets/controls",
          "model_name": "DescriptionStyleModel",
          "model_module_version": "1.5.0",
          "state": {
            "_model_module": "@jupyter-widgets/controls",
            "_model_module_version": "1.5.0",
            "_model_name": "DescriptionStyleModel",
            "_view_count": null,
            "_view_module": "@jupyter-widgets/base",
            "_view_module_version": "1.2.0",
            "_view_name": "StyleView",
            "description_width": ""
          }
        },
        "f28c8b1e0a6d4740870b1d03f80e96de": {
          "model_module": "@jupyter-widgets/base",
          "model_name": "LayoutModel",
          "model_module_version": "1.2.0",
          "state": {
            "_model_module": "@jupyter-widgets/base",
            "_model_module_version": "1.2.0",
            "_model_name": "LayoutModel",
            "_view_count": null,
            "_view_module": "@jupyter-widgets/base",
            "_view_module_version": "1.2.0",
            "_view_name": "LayoutView",
            "align_content": null,
            "align_items": null,
            "align_self": null,
            "border": null,
            "bottom": null,
            "display": null,
            "flex": null,
            "flex_flow": null,
            "grid_area": null,
            "grid_auto_columns": null,
            "grid_auto_flow": null,
            "grid_auto_rows": null,
            "grid_column": null,
            "grid_gap": null,
            "grid_row": null,
            "grid_template_areas": null,
            "grid_template_columns": null,
            "grid_template_rows": null,
            "height": null,
            "justify_content": null,
            "justify_items": null,
            "left": null,
            "margin": null,
            "max_height": null,
            "max_width": null,
            "min_height": null,
            "min_width": null,
            "object_fit": null,
            "object_position": null,
            "order": null,
            "overflow": null,
            "overflow_x": null,
            "overflow_y": null,
            "padding": null,
            "right": null,
            "top": null,
            "visibility": null,
            "width": null
          }
        },
        "caa5c377d9c14726bce4fcb9faf9cbe2": {
          "model_module": "@jupyter-widgets/controls",
          "model_name": "SliderStyleModel",
          "model_module_version": "1.5.0",
          "state": {
            "_model_module": "@jupyter-widgets/controls",
            "_model_module_version": "1.5.0",
            "_model_name": "SliderStyleModel",
            "_view_count": null,
            "_view_module": "@jupyter-widgets/base",
            "_view_module_version": "1.2.0",
            "_view_name": "StyleView",
            "description_width": "",
            "handle_color": null
          }
        },
        "84fa0e834cd44dbe8232148b48d5fffd": {
          "model_module": "@jupyter-widgets/base",
          "model_name": "LayoutModel",
          "model_module_version": "1.2.0",
          "state": {
            "_model_module": "@jupyter-widgets/base",
            "_model_module_version": "1.2.0",
            "_model_name": "LayoutModel",
            "_view_count": null,
            "_view_module": "@jupyter-widgets/base",
            "_view_module_version": "1.2.0",
            "_view_name": "LayoutView",
            "align_content": null,
            "align_items": null,
            "align_self": null,
            "border": null,
            "bottom": null,
            "display": null,
            "flex": null,
            "flex_flow": null,
            "grid_area": null,
            "grid_auto_columns": null,
            "grid_auto_flow": null,
            "grid_auto_rows": null,
            "grid_column": null,
            "grid_gap": null,
            "grid_row": null,
            "grid_template_areas": null,
            "grid_template_columns": null,
            "grid_template_rows": null,
            "height": null,
            "justify_content": null,
            "justify_items": null,
            "left": null,
            "margin": null,
            "max_height": null,
            "max_width": null,
            "min_height": null,
            "min_width": null,
            "object_fit": null,
            "object_position": null,
            "order": null,
            "overflow": null,
            "overflow_x": null,
            "overflow_y": null,
            "padding": null,
            "right": null,
            "top": null,
            "visibility": null,
            "width": null
          }
        },
        "2302bd65ce4a4610baf946046684edac": {
          "model_module": "@jupyter-widgets/controls",
          "model_name": "SliderStyleModel",
          "model_module_version": "1.5.0",
          "state": {
            "_model_module": "@jupyter-widgets/controls",
            "_model_module_version": "1.5.0",
            "_model_name": "SliderStyleModel",
            "_view_count": null,
            "_view_module": "@jupyter-widgets/base",
            "_view_module_version": "1.2.0",
            "_view_name": "StyleView",
            "description_width": "",
            "handle_color": null
          }
        },
        "1b1ab00498b64213aa2eb088af5b5a93": {
          "model_module": "@jupyter-widgets/base",
          "model_name": "LayoutModel",
          "model_module_version": "1.2.0",
          "state": {
            "_model_module": "@jupyter-widgets/base",
            "_model_module_version": "1.2.0",
            "_model_name": "LayoutModel",
            "_view_count": null,
            "_view_module": "@jupyter-widgets/base",
            "_view_module_version": "1.2.0",
            "_view_name": "LayoutView",
            "align_content": null,
            "align_items": null,
            "align_self": null,
            "border": null,
            "bottom": null,
            "display": null,
            "flex": null,
            "flex_flow": null,
            "grid_area": null,
            "grid_auto_columns": null,
            "grid_auto_flow": null,
            "grid_auto_rows": null,
            "grid_column": null,
            "grid_gap": null,
            "grid_row": null,
            "grid_template_areas": null,
            "grid_template_columns": null,
            "grid_template_rows": null,
            "height": null,
            "justify_content": null,
            "justify_items": null,
            "left": null,
            "margin": null,
            "max_height": null,
            "max_width": null,
            "min_height": null,
            "min_width": null,
            "object_fit": null,
            "object_position": null,
            "order": null,
            "overflow": null,
            "overflow_x": null,
            "overflow_y": null,
            "padding": null,
            "right": null,
            "top": null,
            "visibility": null,
            "width": null
          }
        },
        "49f925dce8cd4491937c6c9fc05f9ee7": {
          "model_module": "@jupyter-widgets/controls",
          "model_name": "TabModel",
          "model_module_version": "1.5.0",
          "state": {
            "_dom_classes": [],
            "_model_module": "@jupyter-widgets/controls",
            "_model_module_version": "1.5.0",
            "_model_name": "TabModel",
            "_titles": {
              "0": "Youtube",
              "1": "Bilibili"
            },
            "_view_count": null,
            "_view_module": "@jupyter-widgets/controls",
            "_view_module_version": "1.5.0",
            "_view_name": "TabView",
            "box_style": "",
            "children": [
              "IPY_MODEL_a0a24761c3214237a260ede97372a5a4",
              "IPY_MODEL_13a48ca059704662a3113dc4f8031193"
            ],
            "layout": "IPY_MODEL_67da9b2660d6436abca8866962697bc1",
            "selected_index": 0
          }
        },
        "a0a24761c3214237a260ede97372a5a4": {
          "model_module": "@jupyter-widgets/output",
          "model_name": "OutputModel",
          "model_module_version": "1.0.0",
          "state": {
            "_dom_classes": [],
            "_model_module": "@jupyter-widgets/output",
            "_model_module_version": "1.0.0",
            "_model_name": "OutputModel",
            "_view_count": null,
            "_view_module": "@jupyter-widgets/output",
            "_view_module_version": "1.0.0",
            "_view_name": "OutputView",
            "layout": "IPY_MODEL_964a901bf1474247b23acd6b77045e5c",
            "msg_id": "",
            "outputs": [
              {
                "output_type": "stream",
                "name": "stdout",
                "text": [
                  "Video available at https://youtube.com/watch?v=wCzVnnd4bmg\n"
                ]
              },
              {
                "output_type": "display_data",
                "data": {
                  "text/plain": "<IPython.lib.display.YouTubeVideo at 0x7f817e321690>",
                  "text/html": "\n        <iframe\n            width=\"854\"\n            height=\"480\"\n            src=\"https://www.youtube.com/embed/wCzVnnd4bmg?fs=1&rel=0\"\n            frameborder=\"0\"\n            allowfullscreen\n        ></iframe>\n        ",
                  "image/jpeg": "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\n"
                },
                "metadata": {}
              }
            ]
          }
        },
        "13a48ca059704662a3113dc4f8031193": {
          "model_module": "@jupyter-widgets/output",
          "model_name": "OutputModel",
          "model_module_version": "1.0.0",
          "state": {
            "_dom_classes": [],
            "_model_module": "@jupyter-widgets/output",
            "_model_module_version": "1.0.0",
            "_model_name": "OutputModel",
            "_view_count": null,
            "_view_module": "@jupyter-widgets/output",
            "_view_module_version": "1.0.0",
            "_view_name": "OutputView",
            "layout": "IPY_MODEL_b6f749161b8b4e30ac0c07f0283baf6d",
            "msg_id": "",
            "outputs": [
              {
                "output_type": "stream",
                "name": "stdout",
                "text": [
                  "Video available at https://www.bilibili.com/video/BV19t4y1Q7VH\n"
                ]
              },
              {
                "output_type": "display_data",
                "data": {
                  "text/plain": "<__main__.BiliVideo at 0x7f817e217dd0>",
                  "text/html": "\n        <iframe\n            width=\"854\"\n            height=\"480\"\n            src=\"https://player.bilibili.com/player.html?bvid=BV19t4y1Q7VH&page=1?fs=1\"\n            frameborder=\"0\"\n            allowfullscreen\n        ></iframe>\n        "
                },
                "metadata": {}
              }
            ]
          }
        },
        "67da9b2660d6436abca8866962697bc1": {
          "model_module": "@jupyter-widgets/base",
          "model_name": "LayoutModel",
          "model_module_version": "1.2.0",
          "state": {
            "_model_module": "@jupyter-widgets/base",
            "_model_module_version": "1.2.0",
            "_model_name": "LayoutModel",
            "_view_count": null,
            "_view_module": "@jupyter-widgets/base",
            "_view_module_version": "1.2.0",
            "_view_name": "LayoutView",
            "align_content": null,
            "align_items": null,
            "align_self": null,
            "border": null,
            "bottom": null,
            "display": null,
            "flex": null,
            "flex_flow": null,
            "grid_area": null,
            "grid_auto_columns": null,
            "grid_auto_flow": null,
            "grid_auto_rows": null,
            "grid_column": null,
            "grid_gap": null,
            "grid_row": null,
            "grid_template_areas": null,
            "grid_template_columns": null,
            "grid_template_rows": null,
            "height": null,
            "justify_content": null,
            "justify_items": null,
            "left": null,
            "margin": null,
            "max_height": null,
            "max_width": null,
            "min_height": null,
            "min_width": null,
            "object_fit": null,
            "object_position": null,
            "order": null,
            "overflow": null,
            "overflow_x": null,
            "overflow_y": null,
            "padding": null,
            "right": null,
            "top": null,
            "visibility": null,
            "width": null
          }
        },
        "964a901bf1474247b23acd6b77045e5c": {
          "model_module": "@jupyter-widgets/base",
          "model_name": "LayoutModel",
          "model_module_version": "1.2.0",
          "state": {
            "_model_module": "@jupyter-widgets/base",
            "_model_module_version": "1.2.0",
            "_model_name": "LayoutModel",
            "_view_count": null,
            "_view_module": "@jupyter-widgets/base",
            "_view_module_version": "1.2.0",
            "_view_name": "LayoutView",
            "align_content": null,
            "align_items": null,
            "align_self": null,
            "border": null,
            "bottom": null,
            "display": null,
            "flex": null,
            "flex_flow": null,
            "grid_area": null,
            "grid_auto_columns": null,
            "grid_auto_flow": null,
            "grid_auto_rows": null,
            "grid_column": null,
            "grid_gap": null,
            "grid_row": null,
            "grid_template_areas": null,
            "grid_template_columns": null,
            "grid_template_rows": null,
            "height": null,
            "justify_content": null,
            "justify_items": null,
            "left": null,
            "margin": null,
            "max_height": null,
            "max_width": null,
            "min_height": null,
            "min_width": null,
            "object_fit": null,
            "object_position": null,
            "order": null,
            "overflow": null,
            "overflow_x": null,
            "overflow_y": null,
            "padding": null,
            "right": null,
            "top": null,
            "visibility": null,
            "width": null
          }
        },
        "b6f749161b8b4e30ac0c07f0283baf6d": {
          "model_module": "@jupyter-widgets/base",
          "model_name": "LayoutModel",
          "model_module_version": "1.2.0",
          "state": {
            "_model_module": "@jupyter-widgets/base",
            "_model_module_version": "1.2.0",
            "_model_name": "LayoutModel",
            "_view_count": null,
            "_view_module": "@jupyter-widgets/base",
            "_view_module_version": "1.2.0",
            "_view_name": "LayoutView",
            "align_content": null,
            "align_items": null,
            "align_self": null,
            "border": null,
            "bottom": null,
            "display": null,
            "flex": null,
            "flex_flow": null,
            "grid_area": null,
            "grid_auto_columns": null,
            "grid_auto_flow": null,
            "grid_auto_rows": null,
            "grid_column": null,
            "grid_gap": null,
            "grid_row": null,
            "grid_template_areas": null,
            "grid_template_columns": null,
            "grid_template_rows": null,
            "height": null,
            "justify_content": null,
            "justify_items": null,
            "left": null,
            "margin": null,
            "max_height": null,
            "max_width": null,
            "min_height": null,
            "min_width": null,
            "object_fit": null,
            "object_position": null,
            "order": null,
            "overflow": null,
            "overflow_x": null,
            "overflow_y": null,
            "padding": null,
            "right": null,
            "top": null,
            "visibility": null,
            "width": null
          }
        },
        "9bcd60ec312c4218871a352e87a5afa7": {
          "model_module": "@jupyter-widgets/controls",
          "model_name": "VBoxModel",
          "model_module_version": "1.5.0",
          "state": {
            "_dom_classes": [
              "widget-interact"
            ],
            "_model_module": "@jupyter-widgets/controls",
            "_model_module_version": "1.5.0",
            "_model_name": "VBoxModel",
            "_view_count": null,
            "_view_module": "@jupyter-widgets/controls",
            "_view_module_version": "1.5.0",
            "_view_name": "VBoxView",
            "box_style": "",
            "children": [
              "IPY_MODEL_b1b5c33f12c549dd929dd18801c01f2b",
              "IPY_MODEL_dce21704abff4a4c8ed06614ed5b25cd",
              "IPY_MODEL_3f3dee91c61e4af3980773f190dab155",
              "IPY_MODEL_742e6f03cba3442596fb1078a879ce10"
            ],
            "layout": "IPY_MODEL_77931d07fd284bbfa51ed834484e5910"
          }
        },
        "b1b5c33f12c549dd929dd18801c01f2b": {
          "model_module": "@jupyter-widgets/controls",
          "model_name": "FloatSliderModel",
          "model_module_version": "1.5.0",
          "state": {
            "_dom_classes": [],
            "_model_module": "@jupyter-widgets/controls",
            "_model_module_version": "1.5.0",
            "_model_name": "FloatSliderModel",
            "_view_count": null,
            "_view_module": "@jupyter-widgets/controls",
            "_view_module_version": "1.5.0",
            "_view_name": "FloatSliderView",
            "continuous_update": true,
            "description": "stay_prob",
            "description_tooltip": null,
            "disabled": false,
            "layout": "IPY_MODEL_748b611419ac4e84b99bcd98bba0592c",
            "max": 1,
            "min": 0.9,
            "orientation": "horizontal",
            "readout": true,
            "readout_format": ".2f",
            "step": 0.01,
            "style": "IPY_MODEL_44b0c301385d4de0958037a2ae56012e",
            "value": 0.99
          }
        },
        "dce21704abff4a4c8ed06614ed5b25cd": {
          "model_module": "@jupyter-widgets/controls",
          "model_name": "FloatSliderModel",
          "model_module_version": "1.5.0",
          "state": {
            "_dom_classes": [],
            "_model_module": "@jupyter-widgets/controls",
            "_model_module_version": "1.5.0",
            "_model_name": "FloatSliderModel",
            "_view_count": null,
            "_view_module": "@jupyter-widgets/controls",
            "_view_module_version": "1.5.0",
            "_view_name": "FloatSliderView",
            "continuous_update": true,
            "description": "low_rew_prob",
            "description_tooltip": null,
            "disabled": false,
            "layout": "IPY_MODEL_a27cf0b3608c49f6aed9e272958b5cb5",
            "max": 1,
            "min": 0,
            "orientation": "horizontal",
            "readout": true,
            "readout_format": ".2f",
            "step": 0.1,
            "style": "IPY_MODEL_ff17d3bae57e449aa7cace02f2981598",
            "value": 0.8
          }
        },
        "3f3dee91c61e4af3980773f190dab155": {
          "model_module": "@jupyter-widgets/controls",
          "model_name": "FloatSliderModel",
          "model_module_version": "1.5.0",
          "state": {
            "_dom_classes": [],
            "_model_module": "@jupyter-widgets/controls",
            "_model_module_version": "1.5.0",
            "_model_name": "FloatSliderModel",
            "_view_count": null,
            "_view_module": "@jupyter-widgets/controls",
            "_view_module_version": "1.5.0",
            "_view_name": "FloatSliderView",
            "continuous_update": true,
            "description": "high_rew_prob",
            "description_tooltip": null,
            "disabled": false,
            "layout": "IPY_MODEL_ae92722fe85848d3b8f0e97c7cf4feca",
            "max": 1,
            "min": 0,
            "orientation": "horizontal",
            "readout": true,
            "readout_format": ".2f",
            "step": 0.1,
            "style": "IPY_MODEL_ed1d2ac52a644fb0ac797aaa25a972aa",
            "value": 0.8
          }
        },
        "742e6f03cba3442596fb1078a879ce10": {
          "model_module": "@jupyter-widgets/output",
          "model_name": "OutputModel",
          "model_module_version": "1.0.0",
          "state": {
            "_dom_classes": [],
            "_model_module": "@jupyter-widgets/output",
            "_model_module_version": "1.0.0",
            "_model_name": "OutputModel",
            "_view_count": null,
            "_view_module": "@jupyter-widgets/output",
            "_view_module_version": "1.0.0",
            "_view_name": "OutputView",
            "layout": "IPY_MODEL_a3c69c968c294e7da618505c7335e1f9",
            "msg_id": "",
            "outputs": [
              {
                "output_type": "display_data",
                "data": {
                  "text/plain": "<Figure size 864x504 with 3 Axes>",
                  "image/png": "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\n"
                },
                "metadata": {
                  "image/png": {
                    "width": 845,
                    "height": 485
                  },
                  "needs_background": "light"
                }
              }
            ]
          }
        },
        "77931d07fd284bbfa51ed834484e5910": {
          "model_module": "@jupyter-widgets/base",
          "model_name": "LayoutModel",
          "model_module_version": "1.2.0",
          "state": {
            "_model_module": "@jupyter-widgets/base",
            "_model_module_version": "1.2.0",
            "_model_name": "LayoutModel",
            "_view_count": null,
            "_view_module": "@jupyter-widgets/base",
            "_view_module_version": "1.2.0",
            "_view_name": "LayoutView",
            "align_content": null,
            "align_items": null,
            "align_self": null,
            "border": null,
            "bottom": null,
            "display": null,
            "flex": null,
            "flex_flow": null,
            "grid_area": null,
            "grid_auto_columns": null,
            "grid_auto_flow": null,
            "grid_auto_rows": null,
            "grid_column": null,
            "grid_gap": null,
            "grid_row": null,
            "grid_template_areas": null,
            "grid_template_columns": null,
            "grid_template_rows": null,
            "height": null,
            "justify_content": null,
            "justify_items": null,
            "left": null,
            "margin": null,
            "max_height": null,
            "max_width": null,
            "min_height": null,
            "min_width": null,
            "object_fit": null,
            "object_position": null,
            "order": null,
            "overflow": null,
            "overflow_x": null,
            "overflow_y": null,
            "padding": null,
            "right": null,
            "top": null,
            "visibility": null,
            "width": null
          }
        },
        "748b611419ac4e84b99bcd98bba0592c": {
          "model_module": "@jupyter-widgets/base",
          "model_name": "LayoutModel",
          "model_module_version": "1.2.0",
          "state": {
            "_model_module": "@jupyter-widgets/base",
            "_model_module_version": "1.2.0",
            "_model_name": "LayoutModel",
            "_view_count": null,
            "_view_module": "@jupyter-widgets/base",
            "_view_module_version": "1.2.0",
            "_view_name": "LayoutView",
            "align_content": null,
            "align_items": null,
            "align_self": null,
            "border": null,
            "bottom": null,
            "display": null,
            "flex": null,
            "flex_flow": null,
            "grid_area": null,
            "grid_auto_columns": null,
            "grid_auto_flow": null,
            "grid_auto_rows": null,
            "grid_column": null,
            "grid_gap": null,
            "grid_row": null,
            "grid_template_areas": null,
            "grid_template_columns": null,
            "grid_template_rows": null,
            "height": null,
            "justify_content": null,
            "justify_items": null,
            "left": null,
            "margin": null,
            "max_height": null,
            "max_width": null,
            "min_height": null,
            "min_width": null,
            "object_fit": null,
            "object_position": null,
            "order": null,
            "overflow": null,
            "overflow_x": null,
            "overflow_y": null,
            "padding": null,
            "right": null,
            "top": null,
            "visibility": null,
            "width": null
          }
        },
        "44b0c301385d4de0958037a2ae56012e": {
          "model_module": "@jupyter-widgets/controls",
          "model_name": "SliderStyleModel",
          "model_module_version": "1.5.0",
          "state": {
            "_model_module": "@jupyter-widgets/controls",
            "_model_module_version": "1.5.0",
            "_model_name": "SliderStyleModel",
            "_view_count": null,
            "_view_module": "@jupyter-widgets/base",
            "_view_module_version": "1.2.0",
            "_view_name": "StyleView",
            "description_width": "",
            "handle_color": null
          }
        },
        "a27cf0b3608c49f6aed9e272958b5cb5": {
          "model_module": "@jupyter-widgets/base",
          "model_name": "LayoutModel",
          "model_module_version": "1.2.0",
          "state": {
            "_model_module": "@jupyter-widgets/base",
            "_model_module_version": "1.2.0",
            "_model_name": "LayoutModel",
            "_view_count": null,
            "_view_module": "@jupyter-widgets/base",
            "_view_module_version": "1.2.0",
            "_view_name": "LayoutView",
            "align_content": null,
            "align_items": null,
            "align_self": null,
            "border": null,
            "bottom": null,
            "display": null,
            "flex": null,
            "flex_flow": null,
            "grid_area": null,
            "grid_auto_columns": null,
            "grid_auto_flow": null,
            "grid_auto_rows": null,
            "grid_column": null,
            "grid_gap": null,
            "grid_row": null,
            "grid_template_areas": null,
            "grid_template_columns": null,
            "grid_template_rows": null,
            "height": null,
            "justify_content": null,
            "justify_items": null,
            "left": null,
            "margin": null,
            "max_height": null,
            "max_width": null,
            "min_height": null,
            "min_width": null,
            "object_fit": null,
            "object_position": null,
            "order": null,
            "overflow": null,
            "overflow_x": null,
            "overflow_y": null,
            "padding": null,
            "right": null,
            "top": null,
            "visibility": null,
            "width": null
          }
        },
        "ff17d3bae57e449aa7cace02f2981598": {
          "model_module": "@jupyter-widgets/controls",
          "model_name": "SliderStyleModel",
          "model_module_version": "1.5.0",
          "state": {
            "_model_module": "@jupyter-widgets/controls",
            "_model_module_version": "1.5.0",
            "_model_name": "SliderStyleModel",
            "_view_count": null,
            "_view_module": "@jupyter-widgets/base",
            "_view_module_version": "1.2.0",
            "_view_name": "StyleView",
            "description_width": "",
            "handle_color": null
          }
        },
        "ae92722fe85848d3b8f0e97c7cf4feca": {
          "model_module": "@jupyter-widgets/base",
          "model_name": "LayoutModel",
          "model_module_version": "1.2.0",
          "state": {
            "_model_module": "@jupyter-widgets/base",
            "_model_module_version": "1.2.0",
            "_model_name": "LayoutModel",
            "_view_count": null,
            "_view_module": "@jupyter-widgets/base",
            "_view_module_version": "1.2.0",
            "_view_name": "LayoutView",
            "align_content": null,
            "align_items": null,
            "align_self": null,
            "border": null,
            "bottom": null,
            "display": null,
            "flex": null,
            "flex_flow": null,
            "grid_area": null,
            "grid_auto_columns": null,
            "grid_auto_flow": null,
            "grid_auto_rows": null,
            "grid_column": null,
            "grid_gap": null,
            "grid_row": null,
            "grid_template_areas": null,
            "grid_template_columns": null,
            "grid_template_rows": null,
            "height": null,
            "justify_content": null,
            "justify_items": null,
            "left": null,
            "margin": null,
            "max_height": null,
            "max_width": null,
            "min_height": null,
            "min_width": null,
            "object_fit": null,
            "object_position": null,
            "order": null,
            "overflow": null,
            "overflow_x": null,
            "overflow_y": null,
            "padding": null,
            "right": null,
            "top": null,
            "visibility": null,
            "width": null
          }
        },
        "ed1d2ac52a644fb0ac797aaa25a972aa": {
          "model_module": "@jupyter-widgets/controls",
          "model_name": "SliderStyleModel",
          "model_module_version": "1.5.0",
          "state": {
            "_model_module": "@jupyter-widgets/controls",
            "_model_module_version": "1.5.0",
            "_model_name": "SliderStyleModel",
            "_view_count": null,
            "_view_module": "@jupyter-widgets/base",
            "_view_module_version": "1.2.0",
            "_view_name": "StyleView",
            "description_width": "",
            "handle_color": null
          }
        },
        "a3c69c968c294e7da618505c7335e1f9": {
          "model_module": "@jupyter-widgets/base",
          "model_name": "LayoutModel",
          "model_module_version": "1.2.0",
          "state": {
            "_model_module": "@jupyter-widgets/base",
            "_model_module_version": "1.2.0",
            "_model_name": "LayoutModel",
            "_view_count": null,
            "_view_module": "@jupyter-widgets/base",
            "_view_module_version": "1.2.0",
            "_view_name": "LayoutView",
            "align_content": null,
            "align_items": null,
            "align_self": null,
            "border": null,
            "bottom": null,
            "display": null,
            "flex": null,
            "flex_flow": null,
            "grid_area": null,
            "grid_auto_columns": null,
            "grid_auto_flow": null,
            "grid_auto_rows": null,
            "grid_column": null,
            "grid_gap": null,
            "grid_row": null,
            "grid_template_areas": null,
            "grid_template_columns": null,
            "grid_template_rows": null,
            "height": null,
            "justify_content": null,
            "justify_items": null,
            "left": null,
            "margin": null,
            "max_height": null,
            "max_width": null,
            "min_height": null,
            "min_width": null,
            "object_fit": null,
            "object_position": null,
            "order": null,
            "overflow": null,
            "overflow_x": null,
            "overflow_y": null,
            "padding": null,
            "right": null,
            "top": null,
            "visibility": null,
            "width": null
          }
        },
        "82de83f3397247028b7a6f43e2cb9aca": {
          "model_module": "@jupyter-widgets/controls",
          "model_name": "TabModel",
          "model_module_version": "1.5.0",
          "state": {
            "_dom_classes": [],
            "_model_module": "@jupyter-widgets/controls",
            "_model_module_version": "1.5.0",
            "_model_name": "TabModel",
            "_titles": {
              "0": "Youtube",
              "1": "Bilibili"
            },
            "_view_count": null,
            "_view_module": "@jupyter-widgets/controls",
            "_view_module_version": "1.5.0",
            "_view_name": "TabView",
            "box_style": "",
            "children": [
              "IPY_MODEL_0a0707c488d74c6ca99a5c54173dd7ce",
              "IPY_MODEL_7a909a59581849fa82a6206dd0b0ba9f"
            ],
            "layout": "IPY_MODEL_f1a05260009a4bed9550a8d7b42a632f",
            "selected_index": 0
          }
        },
        "0a0707c488d74c6ca99a5c54173dd7ce": {
          "model_module": "@jupyter-widgets/output",
          "model_name": "OutputModel",
          "model_module_version": "1.0.0",
          "state": {
            "_dom_classes": [],
            "_model_module": "@jupyter-widgets/output",
            "_model_module_version": "1.0.0",
            "_model_name": "OutputModel",
            "_view_count": null,
            "_view_module": "@jupyter-widgets/output",
            "_view_module_version": "1.0.0",
            "_view_name": "OutputView",
            "layout": "IPY_MODEL_cafb90bd566f4fa498d7f723f455b719",
            "msg_id": "",
            "outputs": [
              {
                "output_type": "stream",
                "name": "stdout",
                "text": [
                  "Video available at https://youtube.com/watch?v=G3fNz23IDUg\n"
                ]
              },
              {
                "output_type": "display_data",
                "data": {
                  "text/plain": "<IPython.lib.display.YouTubeVideo at 0x7f817e1af6d0>",
                  "text/html": "\n        <iframe\n            width=\"854\"\n            height=\"480\"\n            src=\"https://www.youtube.com/embed/G3fNz23IDUg?fs=1&rel=0\"\n            frameborder=\"0\"\n            allowfullscreen\n        ></iframe>\n        ",
                  "image/jpeg": "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\n"
                },
                "metadata": {}
              }
            ]
          }
        },
        "7a909a59581849fa82a6206dd0b0ba9f": {
          "model_module": "@jupyter-widgets/output",
          "model_name": "OutputModel",
          "model_module_version": "1.0.0",
          "state": {
            "_dom_classes": [],
            "_model_module": "@jupyter-widgets/output",
            "_model_module_version": "1.0.0",
            "_model_name": "OutputModel",
            "_view_count": null,
            "_view_module": "@jupyter-widgets/output",
            "_view_module_version": "1.0.0",
            "_view_name": "OutputView",
            "layout": "IPY_MODEL_3507364f1f7143bf9056cfbb7921059f",
            "msg_id": "",
            "outputs": [
              {
                "output_type": "stream",
                "name": "stdout",
                "text": [
                  "Video available at https://www.bilibili.com/video/BV1ri4y137cj\n"
                ]
              },
              {
                "output_type": "display_data",
                "data": {
                  "text/plain": "<__main__.BiliVideo at 0x7f817e1af450>",
                  "text/html": "\n        <iframe\n            width=\"854\"\n            height=\"480\"\n            src=\"https://player.bilibili.com/player.html?bvid=BV1ri4y137cj&page=1?fs=1\"\n            frameborder=\"0\"\n            allowfullscreen\n        ></iframe>\n        "
                },
                "metadata": {}
              }
            ]
          }
        },
        "f1a05260009a4bed9550a8d7b42a632f": {
          "model_module": "@jupyter-widgets/base",
          "model_name": "LayoutModel",
          "model_module_version": "1.2.0",
          "state": {
            "_model_module": "@jupyter-widgets/base",
            "_model_module_version": "1.2.0",
            "_model_name": "LayoutModel",
            "_view_count": null,
            "_view_module": "@jupyter-widgets/base",
            "_view_module_version": "1.2.0",
            "_view_name": "LayoutView",
            "align_content": null,
            "align_items": null,
            "align_self": null,
            "border": null,
            "bottom": null,
            "display": null,
            "flex": null,
            "flex_flow": null,
            "grid_area": null,
            "grid_auto_columns": null,
            "grid_auto_flow": null,
            "grid_auto_rows": null,
            "grid_column": null,
            "grid_gap": null,
            "grid_row": null,
            "grid_template_areas": null,
            "grid_template_columns": null,
            "grid_template_rows": null,
            "height": null,
            "justify_content": null,
            "justify_items": null,
            "left": null,
            "margin": null,
            "max_height": null,
            "max_width": null,
            "min_height": null,
            "min_width": null,
            "object_fit": null,
            "object_position": null,
            "order": null,
            "overflow": null,
            "overflow_x": null,
            "overflow_y": null,
            "padding": null,
            "right": null,
            "top": null,
            "visibility": null,
            "width": null
          }
        },
        "cafb90bd566f4fa498d7f723f455b719": {
          "model_module": "@jupyter-widgets/base",
          "model_name": "LayoutModel",
          "model_module_version": "1.2.0",
          "state": {
            "_model_module": "@jupyter-widgets/base",
            "_model_module_version": "1.2.0",
            "_model_name": "LayoutModel",
            "_view_count": null,
            "_view_module": "@jupyter-widgets/base",
            "_view_module_version": "1.2.0",
            "_view_name": "LayoutView",
            "align_content": null,
            "align_items": null,
            "align_self": null,
            "border": null,
            "bottom": null,
            "display": null,
            "flex": null,
            "flex_flow": null,
            "grid_area": null,
            "grid_auto_columns": null,
            "grid_auto_flow": null,
            "grid_auto_rows": null,
            "grid_column": null,
            "grid_gap": null,
            "grid_row": null,
            "grid_template_areas": null,
            "grid_template_columns": null,
            "grid_template_rows": null,
            "height": null,
            "justify_content": null,
            "justify_items": null,
            "left": null,
            "margin": null,
            "max_height": null,
            "max_width": null,
            "min_height": null,
            "min_width": null,
            "object_fit": null,
            "object_position": null,
            "order": null,
            "overflow": null,
            "overflow_x": null,
            "overflow_y": null,
            "padding": null,
            "right": null,
            "top": null,
            "visibility": null,
            "width": null
          }
        },
        "3507364f1f7143bf9056cfbb7921059f": {
          "model_module": "@jupyter-widgets/base",
          "model_name": "LayoutModel",
          "model_module_version": "1.2.0",
          "state": {
            "_model_module": "@jupyter-widgets/base",
            "_model_module_version": "1.2.0",
            "_model_name": "LayoutModel",
            "_view_count": null,
            "_view_module": "@jupyter-widgets/base",
            "_view_module_version": "1.2.0",
            "_view_name": "LayoutView",
            "align_content": null,
            "align_items": null,
            "align_self": null,
            "border": null,
            "bottom": null,
            "display": null,
            "flex": null,
            "flex_flow": null,
            "grid_area": null,
            "grid_auto_columns": null,
            "grid_auto_flow": null,
            "grid_auto_rows": null,
            "grid_column": null,
            "grid_gap": null,
            "grid_row": null,
            "grid_template_areas": null,
            "grid_template_columns": null,
            "grid_template_rows": null,
            "height": null,
            "justify_content": null,
            "justify_items": null,
            "left": null,
            "margin": null,
            "max_height": null,
            "max_width": null,
            "min_height": null,
            "min_width": null,
            "object_fit": null,
            "object_position": null,
            "order": null,
            "overflow": null,
            "overflow_x": null,
            "overflow_y": null,
            "padding": null,
            "right": null,
            "top": null,
            "visibility": null,
            "width": null
          }
        },
        "66f84420f8374a5bb8b5e8524e6f2068": {
          "model_module": "@jupyter-widgets/controls",
          "model_name": "VBoxModel",
          "model_module_version": "1.5.0",
          "state": {
            "_dom_classes": [
              "widget-interact"
            ],
            "_model_module": "@jupyter-widgets/controls",
            "_model_module_version": "1.5.0",
            "_model_name": "VBoxModel",
            "_view_count": null,
            "_view_module": "@jupyter-widgets/controls",
            "_view_module_version": "1.5.0",
            "_view_name": "VBoxView",
            "box_style": "",
            "children": [
              "IPY_MODEL_f757557ecc34437d96278524ed52e9f0",
              "IPY_MODEL_666dc28658ff45ba9741e82a28bce87e"
            ],
            "layout": "IPY_MODEL_ebda284fa27b4c4db4d683f8385a1528"
          }
        },
        "f757557ecc34437d96278524ed52e9f0": {
          "model_module": "@jupyter-widgets/controls",
          "model_name": "FloatSliderModel",
          "model_module_version": "1.5.0",
          "state": {
            "_dom_classes": [],
            "_model_module": "@jupyter-widgets/controls",
            "_model_module_version": "1.5.0",
            "_model_name": "FloatSliderModel",
            "_view_count": null,
            "_view_module": "@jupyter-widgets/controls",
            "_view_module_version": "1.5.0",
            "_view_name": "FloatSliderView",
            "continuous_update": true,
            "description": "threshold",
            "description_tooltip": null,
            "disabled": false,
            "layout": "IPY_MODEL_506daa3225e944faa9d5d078019106b8",
            "max": 1,
            "min": 0,
            "orientation": "horizontal",
            "readout": true,
            "readout_format": ".2f",
            "step": 0.01,
            "style": "IPY_MODEL_f60982323f0545088bf5206f9b95b489",
            "value": 0.2
          }
        },
        "666dc28658ff45ba9741e82a28bce87e": {
          "model_module": "@jupyter-widgets/output",
          "model_name": "OutputModel",
          "model_module_version": "1.0.0",
          "state": {
            "_dom_classes": [],
            "_model_module": "@jupyter-widgets/output",
            "_model_module_version": "1.0.0",
            "_model_name": "OutputModel",
            "_view_count": null,
            "_view_module": "@jupyter-widgets/output",
            "_view_module_version": "1.0.0",
            "_view_name": "OutputView",
            "layout": "IPY_MODEL_b5be362c92fe49a499d413b71cc042b7",
            "msg_id": "",
            "outputs": [
              {
                "output_type": "display_data",
                "data": {
                  "text/plain": "<Figure size 864x648 with 4 Axes>",
                  "image/png": "iVBORw0KGgoAAAANSUhEUgAABpsAAATrCAYAAABiuQodAAAABHNCSVQICAgIfAhkiAAAAAlwSFlzAAAWJQAAFiUBSVIk8AAAADh0RVh0U29mdHdhcmUAbWF0cGxvdGxpYiB2ZXJzaW9uMy4yLjIsIGh0dHA6Ly9tYXRwbG90bGliLm9yZy+WH4yJAAAgAElEQVR4nOzdeZxtWVkf/N+q8d7bdEM3swRBGeyoAQQiRkQbkeAQCTEG4oiYxKhxzmBiBuCNGfRNYkjeV0xiFHEIxDgFEBWVSVBAAQlEEZRBm4A0Qw/ce2tc+eOc29StOquqzql9qs7Z5/v9fOqzq/YZalX3PXt4nvU8q9RaAwAAAAAAAJNYOusBAAAAAAAAML8kmwAAAAAAAJiYZBMAAAAAAAATk2wCAAAAAABgYpJNAAAAAAAATEyyCQAAAAAAgIlJNgEAAAAAADAxySYAAAAAAAAmJtkEAAAAAADAxCSbAAAAAAAAmJhkEwAAAAAAABOTbFpQpZSfLKX85FmPAwAAAAAAmG8rZz0AzsyNj3zkIx+Z5CvPeiAAAAAAAPRGOesBcPpUNgEAAAAAADAxySYAAAAAAAAmJtkEAAAAAADAxCSbAAAAAAAAmJhkEwAAAAAAABOTbAIAAAAAAGBikk0AAAAAAABMTLIJAAAAAACAiUk2AQAAAAAAMDHJJgAAAAAAACa20MmmUspNpZRaSqlTeO9nDd/7FV2/NwAAAAAAwKxYOesBMFop5SlJHpHkzbXWnz/r8QAAAAAAAIyy0JVNSS4mefvwa9Y8Jckzh1sAAAAAAICZtNCVTbXW1ye58azHAQAAAAAAMK8WvbIJAAAAAACAE+htZVMp5RVJPi/Js5P8iyTfluQrkjw4yV2TPH741JcnSa21NN7nzyX5J8P3uluS9yV5SZJ/nuRTj3r9nvd5QpLvSvKZSa5N8q4kL0jyfbXWy3ued9OV9xx6einl6fve7vG11lcc9vumpdaaW27bzeWteha/HgCYMdeeX8rdrjF/Cei33d2aD3x0N9u77oPov3OrJfe4bimlHBrmWEhb2zUf+OhOHAmAReO+j+PobbJpj3NJXpHks5NsJ7k9Od51QSnlryR5YZLV4a47ktw3ybck+atJvueY7/P3k3zf8Mdbk6xl0L7vWUk+r5TyxFrrzvDxzSQfyCAhdi7J5eFr9to8zu/t2rs+sJ3/9Ct35EO3757FrwcAZtQn3mM53/xFd8ndr10+66EAdO4N79jIT7zqYi5uCC+zOG64y1K+8Ul3ySfdexHCRkertebnfutSXvaWy9neOfr5AH3zJY86l6c85sJZD4MZtwjpyL+T5GFJnpHkulrrDUnumeQth72olPLJSX4ig0TTG5M8utZ6bZILSZ6YQcLn3x3j9z88yb8eft2r1np9BhVS/8/w8ccnubNyqdb62lrrfTJIciXJC2ut99n39dpj/N5ObW3X/PsX3y7RBAAc8N5bdvKDL73jrIcB0Ln/8+Gd/JeXfUyiiYXz4Tt28wMvuj2b2/7tJ8lrf38zL32TRBMAHGYRpqjcJcmTa60vurKj1vqhJEeVhH9PBomlP03yxFrrh4evrUl+tZTypCS/e4zff7ckz661PmvP778tyTNLKZ+e5MsyaO/3I2P8TYcqpfzOMZ524zjv+fs3b7nBAgCa3nvLTj54207ueZ3qJqA/3vzuTe2yWFiXNmt+/0+28rAHrp31UM7cG//oTBrMAMBcWYTKprftTTQdRxlkof7q8MfnXkk07VVrfXuS/36Mt9tI8m8aj/3CcPuwccZ3Fj5yh4omAOBwrheAvvmw4xoL7iMf8xlIHAsA4DgWobLpNRO85pMzqEhKklce8rxXJPmaI97rbbXWVl+Z9w23Nxx/aEertT7qqOcMq58eedz3vLhpPh8AcLhLrheAntHdgUXnMzDgGgcAjrYIyaY/neA199zz/fuaz0puPsZ73X7IY9vD7cz/f2hdYF5YS86vL0KBHABwxe2XdrO5fXC/gBTQN5cax7Vrz5esrRzalh3myqWN3Vwc0Smu9RlYNK1rnBvuspTDV2gAmF+b2zWry8n5tZK7XhD/5Wgzn+TowEmXb3RllfYF5qMetJaHf5L+zQCwSF7+1st523sPZpskm4C+aXV4+IKHncv97m6NOvrjd9+1mVf/3sFsky4nyW6tudz47/C0x57P8rJsE9BP7/rAdh54r+U8/IFrKTLrHIOU5Ggf3PP9JxzyvPtNeyCzonWBubbqQAMAi2a9MZtfixmgb1rHtbXVUx4ITNl6497euT25vFlHzkJeWYpEEwDsIdk02h8l+ejw+5sOed5hj53UldUnZ+LKpVXZ1Ao2AQD91QxIqWwCeubixu7I/e6D6JvWuV3Vcjvhti7pDABXkWwaodZak/zs8MdvLKVcv/85pZSHJHnqFIdx23B7tyn+jmNrVTa1LkgBgP5abzRi1moH6JvmpDv3QfRMaw0yE0naCbf1VSE1ANjLmbHtXyW5lOTeSX6llPIZSVIGPj/JLye5OMXf/9bh9nGllBun+HuOpXVxpX0EACyeVhvdVgUAwDza3qnZOLg8XZJkdRFWP2ahtKp0Lm46tzfjIY4DAHAVyaaGWus7k3xtku0kj07yxlLKbUnuSPJrSdaSfNfw6RtTGMLPZLB21PVJfq+U8sFSyruHX581hd93qEuNC0ztIwBg8VjXAVgEzfWaVpIli2TTM63KJm30DmmjJx4CAFeRbDpErfV/ZJBo+ukMEj/rST6Q5DlJPiPJrcOnfnTkG5zsd38kyecmeUGSm5PcNckDhl/nuv59R9E+AgC4QkAKWATtdVrcA9E/JpK0tTu9OBYAwF69Lfqttd50jOe8IsmhVwe11t9NY22mUsqjh9++bcTrnpXkWSf5/bXW30/yFYe9x2nQPgIA2EtAClgErQl3rYQ7zLPWvf3m9iAmsLK8uP/u24nnUx4IAMw4lU0TKqXcM8nfHP74S2c5lmnTPgIA2KuVbFLZBPTJRQFmFshSKc01iBZ9Mknr+kYbPQC4mmTTIUop31ZK+YellAeXUlaG+9ZLKV+c5FVJ7pVBe70fOctxTpv2EQDAXuuHBKNqXeyAFNAfzdZZAsz0lMkko11srGGtjR4AXE0TtMN9cpJvT/KvkuyUUm5Ncl0+/t/t1iRPrbV+6IzGdyrcZAEAey0vJUsl2d13ibCzO2i3Y9Y/0AfNagYBZnpqfaXk9hz8d7/oyabmGtYiagBwFafGw/1Ykp0kn5vkfknunuRSkncl+eUkz6m13nx2wzsd+hMDAHuVUrK+mlzaPPjYpc0qEAv0wqVGNYMAM33Vusdf9DZ6ur0AwPG4TD5ErfVNSd501uM4a2b0AQD7ra+WkcGXixs1d7vmDAYE0DEBZhZNqy3coieb2jERK1MAwF7OjBxJGz0AYL/WotgXN0ZXAgDMG5PuWDTO7aNdbCWeTd8GgKtINnEk7SMAgP3WGtcBiz77GegPk+5YNGuNNnrWbGocCySeAeAqkk0cyYw+AGC/tUbrmEUPSAH90WyjJ9lETzUrmxZ8IomYCAAcj2QTR9KrHADYzyLiQN+1jmeqGeir1j3+Ip/ba63tY4FuLwBwFckmjtScxWNGHwAsrPa6DosbkAL6pV3NcMoDgVPSTDYt8Ll9YzvZHfHnLy8lK8tiIgCwl2QTRzKjDwDYr3UdsOitdoD+MOmORWMiyUHt48ApDwQA5oBkE0eyMC4AsF8ryLLIs5+BfjHpjkVjIslBlzZ2R+53HACAgySbOJL2EQDAfq1WO4s8+xnoj93d9jotKhroKxNJDmol2qxhDQAHSTZxpPZNlosrAFhUreuARV5EHOiPy1ujj2Ury8nSkvsg+qlVrbPI5/ZWok08BAAOkmziSM1kk5k8ALCwmpVNm6PbzQDME+s1sYjaazYt7rldZRMAHJ9kE4c6rH3EmvYRALCw1hrtdBe51Q7QHwLMLKLWPf7lrWRndzHP763rGvEQADhIsolDtRJN2kcAwGJbWxl9GWnNJqAP2q2zTnkgcIqWlkpWl0c/dnlBW+m1rmtaLQcBYJFJNnGo5ow+7SMAYKGttyqbFjQYBfSLADOLqtkmd0Enk4iJAMDxTX1eVillLcndkpw7zvNrre+d7ogYh/WaAIBRVpeTkmT/lcLWTrK1XbMqCAPMseZ9kGMbPbe2MursvriTSdoxkVMeCADMgakkm0opD03ybUmelOSTMohFHEed1piYTLN9hAsrAFhopZSsrw7Wcdjv0qZkEzDfWlUc7oPou9a/8VaFT9+pcgSA4+s8sVNKeUaSH0yydmVX17+D09O8sBJAAoCFt7ZScnnr4LXCxY2a6y6cwYAAOtIKrAsw03fa6F3t0sbuyP2qHAHgoE6TTaWUz0zyXzJIMJUkl5L8dpKbk2x0+bs4HfoTAwAta6sluTQi2bSgs5+B/hBgZlG1/o23up70nZgIABxf15VNfy/JUgbt8P5Dkn9Sa72j49/BKdJGDwBoWW9cSS5qQAroj3Zl0ykPBE5Z69/4ok4kabfUlGwCgP26TjY9NoNE00trrd/R8XtzBrSPAABamq12NkdXBADMi+aku5WlUx4JnK52ZdNintsvtSqbxEQA4ICur5TvPtz+bMfvyxnRPgIAaNFqB+irZussAWZ6rj2RZPHO7bXW5jXNWucroAPA/Os62fTB4fb2jt+XM6J9BADQotUO0FftyqZTHgicslYSpdVOrs+2dpLtEfNvl0qysnz64wGAWdd1sul3htsHd/y+nJFmf2LtIwBg4a2vjr4eWMSAFNAv2omzqFrn9lY7uT5rXc+srSSlOBYAwH5dZwyem6Qk+ZpSimxEDzRn9LnJAoCF15rhv4gBKaBfmpPu3AfRc2uNFrmLOJFEPAQAxtNpQqjW+stJfijJjUl+uJSiycCcay6G6f8sACy81gz/RQxIAf1Ra23eB1mnhb5bb7TIXcSJJM0KR2tYA8BInV4ql1I+Mcn3J7lrkqcneUwp5blJfivJLUlGdLu9Wq31vV2OiZOxMC4A0LLeCLa0ZgIDzIONraSOOIytLCUry+6D6LfWvf4iTiS5tDk6hNVKyAHAout6Xta7k+y9ArkxyXPGeH1N92PiBJo9iiWbAGDhNQNSCzj7GeiPixujA8yqmlgEzYkkC3hub6/ZJB4CAKNM43LZWbcndrWPAAAOsdaY2buIs5+B/mi2zjLhjgXQute/tFGzW2uWyuJ8DqzdBgDj6Tpl8GMdvx9nSPsIAOAw7dnPR3ZOBphZAswssuXlkpWlZHvfqbwmubxZc2F9cT4H7TWsF+e/AQCMo9NkU631GV2+H2frkvYRAMAhWoFXazYB80yAmUW3vppsbxzcf2mz5sL66Y/nrLSuZySeAWC0pbMeALOr1T7ChRUAkCSrjQkoG9vJ9o6EEzCfBJhZdGsro0NFizaZpB0TOeWBAMCckGyiqbkYppssACDJUinttR0WcCFxoB+aazbp8MCCaCVTWp+NvmrGRFQ5AsBIkk00aR8BAByl2UpvwQJSQH9Ys4lF10qmtD4bfdWMiTgWAMBIU52bVUr5/CRfluQxSe6b5Noktyd5X5LXJ/mZWuvLpzkGJqd9BABwlEFA6uA1w6K12gH6w30Qi671b33Rkk0Xm+tYOxYAwChTSTaVUh6a5MeTPHrv7uH22gwST49K8k2llNcn+dpa6zumMRYm12wfoT8xADCk1Q7QN61qBm30WBStc/uiVS23K5tOeSAAMCc6b6NXSnlEBlVLj84gwXTl69YkNw+3e/c/JskbSikP73osnEyzfYRZPADAkNnPQN9c3BxdzaCyiUXRqtxZtGSTmAgAjKfTZFMpZT3Jzye5LoNE0luSfE2Se9dar6+13r/Wen2Sew33v3n40uuS/Nzw9cwI7SMAgKNY1wHom9bxS+ssFoWJJAPNKkcxEQAYqevKpr+V5BMzaNz/n5M8stb6k7XWD+59Uq31llrrT2ZQ/fSfhrsfkORvdjweTqDZRk/7CABgaL1xXXCpURkAMOua1QwCzCyI1rm9tYZRH23t1Gxuj35sVUwEAEbqOtn0l4fb/5Xkm2uth16JDB//OxlUQCXJUzoeDyfQChK5yQIArmhdFyxaqx2gP5rrtKhsYkE4t7c7vaytJEvFsQAARuk62fRpGVQ1/fhRiaYrhs/78Qza7n16x+PhBMzoAwCOotUO0DfNZJP7IBZEq03cQiWbHAcAYGxdJ5vuPty+Z8zXvXe4vb7DsXBCepUDAEdpzfSXbALmUa31kEl3pzwYOCPO7YdMvhUPAYCmrpNNtw639x7zdfccbm/rcCyckPYRAMBRWpNQFmn2M9Afm9vJzogeHUslWe767hlmVKuyaZGSTe3KplMeCADMka4vl9+ZQTu8Lx/zdVee/85uh8NJaKMHABxFqx2gTw4LMBfrtLAgrNl0SKcX8RAAaOo62fTS4fZzSynffpwXlFK+JclNGaz19JKOx8OEaq1m8gAAR2pdFyzS7GegP7QSh2R9ZfT+ixs1tS7G+f3i5uhlyHV6AYC2rpNN/1+Sjw6//3ellJ8qpTxi1BNLKQ8rpfx4kucMd92a5Ac7Hg8T0j4CADgO6zoAfXKpFWBWzcACWVkuWRpx379bB7GCRXDJ2m0AMLbGfJXJ1Fo/Ukp5RpL/kUEi62lJnlZKuSXJO5J8LMk1SR6cj6/TVJLsJHl6rfUjXY6HyWkfAQAch1Y7QJ80W4l3eucMs299Jbm0eXD/xY26EMnXi43rmLVVs28BoKXzS+Za6y+UUv5ykh9Jcq/h7nsmuceep+29MvnTJM+otb40zAztIwCA41hrXE1e2qzZ3a1ZWnLtAMyPdoDZsYzFsr5aRk4cubi5m+s7b5Ize5qVTRLPANA0lSuEWusvJnlIku9I8sokFzNIMF35ujjc/21JHizRNHsubmgfAQAcbWmpZGV59GOXt1Q3AfOlHWB2H8Riaf2bb31G+qZZ5SgmAgBNU5uTUWu9Pcl/GH6llHJdkmuT3F5rvW1av5duNNvomcUDAOyzvlKyvTNi9vNGzYX1MxgQwISaHR4EmFkwa421iRZlTcZWlaPEMwC0nVrqYJhgkmSaE/oTAwDHtb5a8rERwafW9QTArGpPuhNgZrGsrywlOdjxZFHWZGyvY+1YAAAtMgeM1Gwf0ZjdBAAsrtb1waK02gH6o90665QHAmes9W9+USaStK5hWhVfAIBkEw3N9hFm9AEA+7SuDxal1Q7QHyqbYGDRz+1iIgAwvona6JVSvvbK97XW54/aP6m978fZ0Z8YADiu5iLiCzL7GegPazbBQOvf/KJULV/cPNhCMBETAYDDTLpm0/OS1OHX80fsn9T+9+OMaKMHABxXs9XOggSkgP641AowSzaxYJotchdgIsnObs3G1ujH1k5t5XMAmD8nOU22rrZdhfeAxTABgONqzX5elHUdgP5ortkkwMyCaVXwLMJEksuN65e1lWRpSUwEAFomvWR+xpj7mTP6EwMAx9Vso7cxukIAYFa1Jt2trVrumMXSmmjaai/XJ+IhADCZiZJNtdYfG2c/86fZn1hlEwCwz1qrjZ7KJmDOqGyCgfZEkv6f21vXL5JNAHA407MYqblmk5ssAGCf9ZXRl5SLEJAC+mNrp2ZrZ/Rjq+6DWDCLPJGkmXS2hjUAHEqyiZG0jwAAjqvdaqf/ASmgPw6bcFeKigYWyyJPJLGGNQBMptPMQSllt5SyXUp58pive1IpZaeUst3leJicmTwAwHG1Kp8XISAF9EcrQS7AzCJq3fsvwkSSduLZsQAADjONMpVJz77lBK+lQ1vbo9tHlCSry6c+HABgxqlsAvqgFWBek2xiAa0sJ0sj/ulv7wxiBn3WTjyf8kAAYM7oicYBzRZ62kcAACO0ArGtSmmAWdTs7mC9JhZQKSVrjX/7fZ9McnFjd+T+NZVNAHCoWUk2XTvcXjrTUZDksBZ6LqwAgINawahLmzW19jsgBfTHxc3RAWb3QSyqVnKl75NJmm30HAsA4FCzkmx6wnD7/jMdBUkOqWxyYQUAjLCyXDJqHfFak42t0x8PwCRa90HWaWFRtZIrrc9KX7Qqt1Q2AcDhJm4IUEr5vCSf13j4r5dSHnHUWyS5Jskjkzw+SU3ym5OOh+5oHwEAjGttJdnePLj/4sZuzq1Z9BGYfe01m055IDAjWmsUtdrM9UUz8WwCLgAc6iTpg5uS/LMR+0uSp435XiXJdpL/cILx0BHtIwCAca2vlpEzgS9u1txwBuMBGFe7nfisNASB09Wq5GklZvvC0gIAMJmTXjWXfV+t/Ud9vSnJk2utbzjheOhAsz+xknEAoKHVbrfvrXaA/mi3zjrlgcCMaMUAWp+VvmglmxwLAOBwJzlVPi/JK/b8XJL8egbt8P5pktcc8frdJHckeVet9aMnGAcda95kaR8BADQ0A1I9n/0M9IdqBrha699+38/t2ugBwGQmTjbVWt+T5D1795Vy54n3rbXWV55gXJyhZmWT9hEAQENzEfGeB6SA/mgGmHV4YEE1z+09r2xyLACAyXRdBPz44fatHb8vp6hV2bSuZBwAaGhVQPe91Q7QH+1JdwLMLKZW27g+TyTZrbX592mjBwCH6/RUqZqpH5r9id1kAQAN2ugB8047cbhas41ejyeSXN6sGfXXrSwly8tiIgBwGH3ROKA5o0/JOADQsKitdoD+uLixO3K/+yAW1doCTiRpr9d0ygMBgDk09SLgUsoNSe6X5Loky0c9v9b6qmmPicM12+ipbAIAGhax1Q7QL9rowdUWcT3GZqeXFXO1AeAoU0k2lVKuS/LtSb4myYPGeGmd1pg4vtZMHu0jAICWdqud0ZUCALNkZ7dmY3v0Y6vuUFlQrWqePrfRU9kEAJPr/LK5lHJjkl9M8oAkpoDNIe0jAIBxNZNNPZ79DPRHc8LdSrJU3AexmFpt9C71eCJJ67pFPAQAjtZpsqmUsp7kRUkeONz1qiSvTfIPM6ha+u9J/jiDRNTjk9xjuP9nkryty7EwOe0jAIBxLeK6DkB/NAPM7oFYYIs4kaTZRs+xAACO1HXT2a/PoG1eTfL3a6031Vq/Z8/j/63W+g9qrU/LYB2n70yykeQLk7yu1vrsjsfDmLZ3tI8AAMbXmvHbqhYAmCWtCXetRDosglYMYHN7EDvoI230AGByXSebnjzc/kGt9d8e9sRa61at9TlJnpbkLkl+opTyZzoeD2O6vKV9BAAwvuYi4pJNwBxorUEjwMwiWyola42EU1/P783KJolnADhS18mmh2dQ1fTC4/6+WuuLkrw4yfVJvqnj8TAm7SMAgEk0FxHfqKm1nwEpoD9UNsFoizaZpF3Z5FgAAEfpOtl0w3D7nn37d4bbC43XvSRJSfKXOh4PY3KTBQBMYnkpWRpxubCzO2i3AzDL2pVN7oNYbK02uX1dt+nixu7I/euWFQCAI3WdbLqSVLpt3/7bh9v7Nl730eH2/h2PhzFpHwEATKKU0rxe6OvsZ6A/BJhhtMMql/tIZRMATK7rZNP7h9vr9+1/73D7iMbrPnm4Pd/xeBiT/sQAwKRa1wutymmAWSHADKOtLVgbvWZMxLEAAI7UdbLprcPtp+zb/4YM2uR9aSnlhr0PlFLWkvyN4Y9/3PF4GJObLABgUq3rhYuboysGAGaFSXcwWusz0KoGnHfNbi+OBQBwpK6TTa/OIKn0uH37XzDcXpvkV0spX1hKeWgp5YuSvDKDyqaa5KUdj4cxaR8BAEyqdb3Q11Y7QH+YdAejLVqL3FY1tmMBAByt62TTi4bbR5dSHnBlZ63115K8LINE1MOTvCTJ7yV5cZLPHD7tI0m+v+PxMCY3WQDApNZWR19atmYJA8yKVlJcNQOLrvUZ6OtEEjERAJhcp/Uqtda3l1K+LoO1ly7se/ivJfmZJE8Y8dKbk3x5rfXmLsfD+LSPAAAm1apssmYTMOtaAWbrtLDo2i1y+3dur7UeEhM55cEAwBzq/HRZa31+Y/9tSZ5YSnlcki9Icu8kFzNYz+nnaq2Xux4L42vO6HOTBQAcYdEWEQf6o13ZdMoDgRnTqmzq40SSje1kd8SftbSUrCyLiQDAUU790rnW+uoM1nZiBjVLxlU2AQBHWLRWO0B/NKsZTLpjwbU+A308t0s6A8DJdL1mE3NO+wgAYFKtRcT7GJAC+sU6LTBa6zPQx6rlS5u7I/c7DgDA8Ug2cZV2G71THggAMHcWKSAF9Mdurbnc7PBwyoOBGdP6DPRxIkmrNaBkEwAcT6fJplLKPUspv1ZK+fVSyhOP+ZonDp//slLK3bocD+NrL4bp4goAOFzreqGPASmgPy5v1ow6Sq0sJUtL7oNYbK1zex8nkrTjIac8EACYU11XNn1lkscneWSOvy7Tq5M8IsnnJ/mKjsfDmLSPAAAm1a5sGt2WBmAW6O4Aba1z+8WN/p3bLzYrHDUFAlh0pZSvK6XU4dfXnfV4ZlXXZ8wnJqlJXlJrvXycFwyf9+IkJcmTOh4PY9A+AgA4iUVqtQP0RzPAvCrADK2qnstbye5uv87v7TZ6pzwQAE5FKeWBpZRnDb9uOuvx9EHXKYSHDbevG/N1b0jy1Xtezxloto9Y1j4CADjaWiMw28dWO0B/NAPMJtxBlpZKVpeTrZ2Dj13arLnmXH9iBa3E85pOLwB99cAkz9zz8yvOZhj90fVUrXsNt+8b83XvH27v0+FYGFOzfYT1mgCAY2jN/FXZBMyyVkJcgBkGmq30ejaZpJ14diwAWHS11ufVWsvw63lnPZ5Z1XWyaXu4XR/zdWvDrTP4GWq3j/C/BQA42ury6Iu5rZ1ka6dfASmgP1oJ8TUBZkjS/iy0kjPzql3ZdMoDAYA51XWy6YPD7Z8d83VXnn9Lh2NhTNpHAAAnUUppru3Qt4AU0B/NDg8CzJDkkMrlnlU26fYCACfTdbLpDRlMaH1qKeVY711KWU7ytCQ1yZs6Hg9j0D4CADipRWm1A/RHs8ODADMkaX8W+tYm99LG7sj9ur0A9Esp5aZSSk3y8j27n1lKqfu/9rzm6/bs/7rG+155/BXDn+9WSvknpZQ3l1JuLaV8pJTy2lLKV+/PnZRSHl5K+ZFSyjtKKZdKKX9aSvnZUsqjxmi8ei0AACAASURBVPi7/kIp5bmllP9dSvloKeVyKeW9pZQXllK+ZJz/RpPqOtn0ouH2QUm+95iv+d7h85PkFzoeD2MwiwcAOKnWJBWVTcCsurQpwAyHaX0WWhNW51Xr7xETAWBcpZRPTfLGJP88ycOTXJfkbkn+QpIfT/LDpZQyfO43JvntJM9I8uAk55LcM8lfSfJbpZSnHPG7rimlvCDJa5N8YwZd5O6awVJH90/y1CQvLqW8uJRybcd/6lW6bpD2U0memeSTknx3KeX+Sf5prfXd+59YSnlAkn+R5CsyqGp6T5If63g8jKHZq1z7CADgmFrtd/s2+xnoj1Yy3H0QDLQ+C32bSGIda4CF8dYMEjmfnkEyKElemOQFHb3/XTMoqnnA8H1fluSOJI9M8neSXJNBYunVpZTbkjw3yQeS/EiS/5VBsunLk3xxBvmbHy2lvKbW+sF9vyellPUkv5rks4a7/nD4O38vyVYGyauvTfLQJF+S5OdLKU+stY6ebXVCpdZuLw5KKY9O8soM/qMkyW4G/wN/L4P/qHfJILv26RlUVpUkl5LcVGt9Q6eDoamU8qHz58/f8Ck3fnx5rdsu7ubWiwf/PVxYSy6c67oIDgDoo9sv7mZj++D+u1+7lAvrgjXA7Lnltp1c2jy4/9rzRZAZkly8vJuLIz4jd71Qct2F/sQK3vfhneyMCL3dcJelLPXnzwQ4tq3tmvXVkvNr418PvfGNb/ypWutXTWFYnSml3JSPt9J7dq31WYc89+uS/Ojwx2fUWp834jl7A+uXk3xprfVX9z3nc5K8KoOcyHsyyJW8I8kX1Vo/uu+5/zXJ1w9//O5a6/eP+J0/kOQ7hj/+v0m+p9a6ve85q0l+OIOkU5J8U631h1p/60l0XdmUWutvl1KelEEG7b5JlpM8bPi115V/pe9L8jSJptNX69Vl4pvboxOPNcn2Tr9mLAEA09G6YtjYqilitsAM2t4Zvb9W90GQtM/tm9u1V630dhtzvHdrzW7jOAHQZ+7fTuTZ+xNNSVJr/Y1SysuS/MUMKp82kjx1f6Jp6JkZVECVJE9KclWyqZRy3yTfPPzxZ2ut/2DUQGqtW6WUv5nkc5J8cpLvSjIfyabkzv9ofzbJtyT5yiSfuv8pSd6W5CeSPLfWets0xsGh3v2AB914w/f9yG9kdXlw5PidP9zMe285eAX1Fx+xnoc9YO20xwcAzKGXv/VyfucPtw7s/7T7r+Shn6AnFTB7fv0tl3PrpYMB86/63Au57/XLZzAimC1vec9mfuXNGwf23/8ey3n0g/oRK9jZrfmfb7h8YP9SSb7zyXdJiYgrsJiuO7+U+94w0fXQTFc1TdlODk/mvCaDZFOSvKjW+sejnlRr/ZNSyrszWLJof34lGazFdOVE/G8OG9Aw4fTCJP8oyUNKKQ8ctfTRSU0l2ZQkwwTSv0zyL0sp1ye5XwYLYd2W5OZa60em9bs5vrWVkk8YHjB+992jn/NJ91rNp9xPcAgAONofvG97ZLLp3GrJ/e4uaAvMnlZdxo1/ZjX3uZvjFtxxuWYw8fpqK8vpzbn9Y431py6sl9x4v34k1AA4NW9vVCpd8YE937/+iPf6QAbJputHPPa4Pd//mVLKU454r73v8WeTvPuI549tasmmvYaJJcmlGbexNfriapK+nADAYmqty7TRaNcLcNZa90EX3AdBknZMYLPx2ZlHzeOA9SYBGN+Hjnh87wyO4z53fcRjD9zz/X8/4n32G5W8OjFLHHKnjYOTkJO4uAIAjq8dkDrlgQAcQ601G9ujHzvvPgiStM/trRjCPDL5FoAONVYBPPFz97vrCV47lbLdqVc2lVLukeQxSe6b5Noktyd5X5LX11pvmfbv5/haM47dZAEAx6WyCZgnW41E0+py7lzbFhbdIpzbNxt/i8m3AMywO4bbmmSl1nqSxFUnppZsKqV8UQYLTj32kOe8Osm/rrX+0rTGwfG1SuC1jwAAjmsRWu0A/aF1FhytmWzq0bldZRMAc+jmJI9IUpLcL8kfn+1wptBGrwz8UJIXZ5BoKod8PS7JS0opz+16HIxH+wgAoAvt2c+nPBCAY2hVMwgww8c1J5JsJ7u1Hwmn5uTbdatPAPTY3kqgebz4e+We7//imY1ij2lUNv1Akm/Y8/M7k7wsyR9kUNp1lyQPSfLE4TZJvqGUcrnW+p1TGA/HoH0EANCF9uznM6/oBziglQhX2QQft7JcsrYySC7tt7WdrK+e/pi61jwWSDwD9Nkde76/5sxGMbkXJPneDNZf+u5SygtqrR87ywF1mmwqpTwyybdm0CfwI0n+dq31Zw55/pcl+aEk90jyraWU59da39TlmDge7SMAgC40FxFX2QTMoHbrLNUMsNf5tTKyEnBjq2Z9df7jBs1jgZgIQJ+9a8/3jzyzUUyo1vrHpZT/mOTvZlDU86JSylfWWt8/6vmllKUkn5/ks2qt3zuNMXVd2fS3Mig520jyhFrr7x725Frrz5ZS3pnkdRlk4L4hyTd1PCaOobWwp/YRAMA4zq2VlAxmHu21vZPs7tYsLbm2AGZHu3WWYxXsdWG95NaLBz8vrVaU80ZMBGDx1Fo/Ukp5U5LPSPL44dJAv5bk9j3P+aWzGt8x/aMM1m16QpLHJ/mjUsrPJPnNJB/MIOdynyQPz6DT3H0y+BvnItl0UwaxhecflWi6otb6llLKj2WQaLqp4/FwTKPK4RM3WQDAeJZKybm1kkubI2Y/byfn185gUAANAsxwPBfWlnL10hYDG1unP5Zp2Gz8HWIiAL33j5O8KMlykr89/Nprpk8EtdatUsoXJ/m3GRTxnE/y1cOvlpunNZ6uewPcb7j9jTFf95p9r+eUtdvoaR8BAIynvW5TP2Y/A/3RCpQLMMPVWu3kelPZpMoRYCHVWl+a5LFJfiqDtnqXznZE46u1btZavzXJjUn+dQZd5D6YZDvJxQz+rl9M8j1JHlZrffq0xtJ1ZdPycDtuV/4rz18+9FlMTat9hBl9AMC4WtcPresNgLPSqmwSYIar9X0iSStpJiYC0H+11tcl+aojnvO8JM874jnHOmkc5732PPem4zxv+Nx3ZtBW78x0XbZyZfGpcRfUuvL8D3Q4FsagfQQA0JVmQGrc6UgAU2bSHRxP6zPRl2RTs7LJsQAAjq3rZNNrMuhj+PWllHsf5wWllPsk+foM1np6zRFPZ0q0jwAAuqKyCZgXzUl37oPgKq2kS2v953nTSjY5FgDA8XWdbPrx4fZuSX69lPKphz25lHJjkpcluX646/kdj4dj0j4CAOhKu7JJsgmYLa0kuGoGuFor6dKXyqZW0sw61gBwfJ2u2VRrfVkp5cVJ/lIGC1K9qZTy0iS/kuQPknwsyTVJHpLkiUm+ZDiGmuTFtdaXdTkejk/7CACgK60gbV8CUkB/tNp7mnQHV+vzRJKdnZrt3YP7S0nWV09/PAAwrzpNNg19RZJfSvLYJKtJvnT4NcqVq5XfGL6OM6J9BADQldb1Q2vxbYCz0l6nRTUD7NXniSStqqbzayVLRUwEAI6r8yvoWuvHknxekn+U5AMZJJRaX+9P8t1Jbqq1Xux6LByfxTABgK70fRFxoD9aSXCT7uBqfZ5I0lyvSTwEAMYyjcqm1Fp3k3xfKeXfJfnsJJ+Z5L5Jrk1ye5L/k+T1SV5ba92axhgYT7s/sYsrAGA8rfUNWu2qAM5CrTUbjbtRQWa42vlGtV/rMzRPmpNvxUMAYCxTSTZdMUwkvXL4xQzTPgIA6EqfW+0A/bGzm+yOOCwtLyVrU71ThvnTSrz0orKpNflW0hkAxiKTQBLtIwCA7vS51Q7QH62KjAvrJcU6LXCVVrKpDxNJxEMAoBuSTWgfAQB0qh2QOuWBABzCOi1wfK0qn83tQUxhnm1s7Y7cr40eAIxHsols72gfAQB0pxWoVdkEzJKNVjWDZBMcsLpSsjIigrRbBzGFeWbyLQB0Y6JUQinlj7oeyFCttT5oSu9Nw2arP7H2EQDABPrcagfoj+a6taoZYKTz6yW3Xzr4udnYSlbneKJqK/FszSYAGM+klwMPTFKTdH3mFYE4A9pHAABdalc2Jbu1ZslkFmAGtKotJZtgtAuNZNPgszS/n5v2sUAzIAAYx6TJpvdGYqg3mrN43GQBABNYXipZXx3dlmZrO1lfPf0xAezXrGxaE2CGUVqVPvNeubzZaqMnJgIAY5ko2VRrfWDH4+AMqWwCALp2YW1p5ILbG1s166uuMYCz12onLsAMo7U+G60JrPOinXh2LACAcZiyhcomAKBzfQ1IAf1h0h2M53yj6m/eK5ta1yYSzwAwHskmsql9BADQsdZs4FarGoDT1qxmEGCGkVqfjXmfSDKq7W+isgkAxiWbgPYRAEDnmpVNcz77GeiP1n2QADOM1teJJJsqmwCgE5JN6E8MAHSuuYj4nM9+Bvqj2UZPgBlG6muLXDERAOiGZBNusgCAzrVa7bTa9wKcNmvXwnj6eG7f3a3Z2hn9mPXbAGA8kk1oHwEAdK4VoNloXHcAnLbmpDv3QTBS89w+x230WvGQc6vJ0pJjAQCMQ7IJlU0AQOeai4hv7Z7ySABGa1VjmHQHo7Vb5M7vub3ZQm9duAwAxuXsifYRAEDnWpNW5n0RcaA/mh0eBJlhpGYbvTmuWt5sxENUOALA+FxFYzFMAKBzF9ZGX2bO+yLiQD9s79SMKsYoJVlfPf3xwDxoTSRpxRTmQau9r8m3ADA+ySaa7SPM5AEAJtVuoze/ASmgPw5bt7YU90EwSnMiyRyf29tt9BwHAGBckk0cMpPHPw8AYDLNRcTnuNUO0B/WrYXxNSub5vjcbvItAHRHNmHB7ezW7GgfAQB0rL1m0/zOfgb6o3Us0koc2tZXkqURH5Hd3UFrynnUau8r8QwA45NsWnBbO6P3ax8BAJxEK2A7z612gP5oVWIIMENbKaXZXq7VmnLWWcMaALqzMs03L6UsJXlQkuuTnDvOa2qtr5rmmLjallk8AMAUNCubtpNaq0ktwJkSYIbJnF8ruePywc/Pxlady3WOWpVN8/i3AMBZm0qyqZRyU5K/l+Tzk6yP8dI6rTEx2nbrwspNFgBwAqvLJWsrB2c61wwqq9dc8QFnaGN7RC/xCDDDUVqfkXmtXN7YGr3//JpGQAAwrs5v80spz0zyz6782PX7063NRhs9lU0AwEmdXyvZHDGxZWNLsgk4W5vNALP7IDhM6zPSqhCadaOuUxKJZwCYRKe3+aWUJyV55p5d703yyiQ3J9no8nfRja1GX2WVTQDASZ1fK7n14sEgzubWbnJ++QxGBDDQqsI4v66aAQ7TXLNpbiubGscCMREAGFvXc0q/ZbjdzaCN3nNqrfN5xbEgNne0jwAApqPZamdOFxEH+qNZzSDADIdqVjbNabKpVeUoJgIA4+s62fSZGbTif2Gt9d93/N5MwXYj2GMWDwBwUhfWl5Ic7Nk7r7Ofgf5ordMiwAyHu9Co/pvXiSSt9n+OBQAwvq57BNx1uP2ljt+XKdna0T4CAJiOvq3rAPRH6zhk0h0crm+VTdroAUB3us4ovH+43ez4fZmSTWs2AQBT0reAFNAfrQpL1QxwuOaaTXM4kWS31mZMRLIJAMbXdbLpNcPtp3X8vkzJ9sHONkncZAEAJ9dcs6nRvgrgtLRafp13HwSHak8kOeWBdGCrcRxYW0lWlh0LAGBcXSeb/mMGazY9vZRyvuP3Zgo2G230JJsAgJNqJpvmcPYz0C+tCksdHuBwzcqmOaxabh4HxEMAYCKdJptqrb+V5JlJ7p/kZ0spdz3iJZyxbb3KAYApaV1PzGOrHaBfWklvQWY4XJ8mkrSuR86vWcMaACaxMsmLSimfe8jDr07y35J8RZJ3lFKen+S3ktySZPeo9661vmqSMTGZzUYbPe0jAICTal1PzGOrHaA/dndrs534uVX3QXCYPrXRa41ZhSMATGaiZFOSV2TQLu8wNck9knznGO9bTzAmJrDVmtHn4goAOKHW9cTm1pHzjwCmprle01rJ0pL7IDhMs43e9vyd21tt9Ey+BYDJnCSxc9yzr7P0DNtqzOjTPgIAOKl2q51THgjAHs0Aswl3cKReVTZppwkAnZo02fTsTkfB2ajJzojJRyXJOTdaAMAJXWisedAK9AKchtY6LQLMcLRzayUlB1vdbO8mOzs1y8vz8znabFyP6PQCAJOZKNlUa5Vs6oHa6IR4bq1kqbi4AgBOptWGphXoBTgNzXVaJJvgSEul5Px6ycWNg+fyze3k/PIZDGpCm62Wmo4FADCR0dNNWQi7jTiP9hEAQBcOa7VTq4QTcDZa1Qzug+B4muf3OZtMoqUmAHRLsmmBtWI8ZvQBAF1YW0mWR1xt7jZa+QKchlZAXIAZjqc9maQfySYxEQCYzKRrNp1IKeX6JH9++PvfUmv9k7MYx6KTbAIApqmUkgvrJbdfOnjRsbGVrMxRqx2gPwSY4WRan5VWi8pZ1Uo8W7MJACbTaWVTKeWGUsq3Db8e2njOP0xyc5KXJnlRkneXUp5XSlnvciwcrZVsMqMPAOhKX2Y/A/3RWjdOsgmOp/VZmbc1GVvjtWYTAEym68qmpyX590k2k/zk/gdLKV+Z5F8mqUmunL1Lkq9JsprkqzoeD4ewZhMAMG3N2c9zFpAC+sM6LXAyfZlI0qrEurBuxQkAmETXZ9DHD7evqrV+aO8DpZSS5Hv37PofSf5NkvdkkHD666WUz+l4PBxCGz0AYNpaAal5m/0M9MfG9uj959cEmOE4Wm3m5u3cLvEMAN3q+mr6oRlULf3miMcem+SBw8e/u9b61FrrP8hg7aYPD5/z9I7HwyFqtI8AAKarva7DfAWkgP6wZhOcTKvN3Lyd27XUBIBudZ1susdw+84Rj33BcHspyQ9e2VlrvSXJT2VQ3fRZHY+HQ1izCQCYtguNSoF5C0gB/SHADCfTajM3Ty1ya63tNnpiIgAwka6TTXcfbu8Y8diVFnmvrLVe3PfY/xpuP7Hj8XCIdhs97SMAgG60Zj9vNtpYAUybADOcTLONXuOzNYu2dzKy18vKcrK64lgAAJPoOquwO9zeZe/OUspKksdkcC7/jRGvu9JG70LH4+EQuyqbAIApawWkVDYBZ6VV2dRKjgNXa7bRm6PKJklnAOhe18mm9w+3n7Zv/+OSXDP8/rUjXnftcLu/4okpalc2ubgCALrRh4AU0C+tZLdJd3A8rc/KPE0k2djeHblf0hkAJtd1sum3M1h76atLKXffs/9bh9tLSX5zxOseOtz+Scfj4RDNZJObLACgI31otQP0x26tzTaekk1wPK0Jqq1qoVnUug4RDwGAyXWdbPqp4fa+Sd5QSvmBUsovJ3lKBi30frrWujnidZ89fPxtHY+HQ7TmHJnJAwB0pVnZNEezn4H+2GokmtZXkpVl90FwHM2JJHNUtdyscBQPAYCJdZpsqrX+QpJfzKC66QFJvi3JFwwfvi3Js/a/ppRyrySPHf44quqJKWmt2aSNHgDQlebs5zkKSAH9IcAMJ9c6t89Vsqkx1gtrXc/JBoDFMY2z6JcneU4GyaUy/Hp9ki+otb5nxPO/Icny8PtfnsJ4aGi10Tu36kYLAOhGu43e/ASkgP5oBpjXBZjhuM41K5uS3das1hnTPhaIhwDApFa6fsNa6+Uk31lK+btJ7pnkUq31tkNe8uIkrx68tP7vrsfDeLSPAAC61IdFxIH+aK3TYr0mOL7lpZL11dFrNG1uJ+fWTn9M42qtL+VYAACT6zzZdEWtdTfJB47xvDdPawyMT/sIAKBLrWqBzca6KQDT1Ep0t6owgdEurC1lY2v3wP6N7dqsfJolrQprMREAmJxeAVxF+wgAoEvrq0kZEbfZ3k12dlQ3Aaer1TpLgBnG01y3aU4ql7XRA4DuySxwFTP6AIAulVLa6zapbgJOWSsQLsAM42klaOfl3N5qqSkmAgCTm6iNXinlc698X2t91aj9k9r7fpw+/YkBgK5dWC/52MbBAO/GVlVNAJyqjUYgXIAZxtP6zMzLmowb2wdbACYSzwBwEpOu2fSKJHX4tTJi/6T2vx+nTMAHAOhaazLLvASkgP4YtcZM4j4IxtU8tzfa082aVmWTCbgAMLmTJHZaZ2Bn5jlmFg8A0LVWELdVYQAwLVpnQTdasYN5mUhi/TYA6N6kyaZnj7mfOeEmCwDo2ry32gH6Q4AZujHvE0la1yAX1ixtDgCTmijZVGsdmVRq7Wd+qGwCALrWur7YbKyXADAtAszQjdZEks1Gq8pZ01y/TUwEACY2UbKplPKw4bfvqrXe3uF4OGP6EwMAXWvOfm60swKYFgFm6Ea7jd4pD2QC2zs1uyNyYstLyZpVxAFgYpNO33pzkjclefzenaWUfzb8euiJR8aZ0D4CAOja+UbFwLwsIg70x2ajssmkOxjPPJ/bW0nn82slpTgWAMCkup6z8awkNYNk1B90/N6cAu0jAICutVvtzH5ACuiXZhs9k+5gLM0WuXNwbm8dBySdAeBkJs0sXCk4Xu1qIMwGN1kAQNfmudUO0B+11mweUtEAHF/rMzMP5/ZWQkw8BABOZtJk00eH2wd0NRBmg5ssAKBrzdnPc9BqB+iPrZ1BG479VpeT1RX3QTCO5kSSOTi3t8Yo2QQAJzNpsultSUqSbyml/PlSyv4Kp9m/umAkF1cAQNeas5/nICAF9Eer4sI9EIyvXbU8++d2a7cBwHRMumbTC5I8LoPKpt9KsncRxZLk5ydcVLHWWrteR4oxuLgCALp2Xhs9YAZsbu2O3O8eCMbX+txsbie7tWZpspjQqbBmEwBMx6SVTf8pyS9mkFja+3XF/v3jfHFGtI8AAKbhQnNdh9mf/Qz0x0ZrvSaVTTC2leWStcZU4a3GZ21WtI4FF9YnDZEBAMmElU211t1SypcmeUqSL05y/yTrST4vgxZ6/zvJLV0NktOhfQQAMA3zvK4D0B+t1lkX1gSYYRLn18rI9Rc3t2rWV2c3vtCa7CImAgAnM3HLulprTfJzw68kSSnlSl+Cf1xr/Z8nHBunTMk4ADAN59ZKSg4u6rm9k+zu1iwtuQYBpq+V4BZghslcWC+59eLBz9XGds21ZzCe4xqVIEvERADgpEzh4k7aRwAA07BUSs4dsrYDwGmwTgt0q1UVOOtrMrbGJ/EMACczcWVTw+OH27d2/L6cAu0jAIBpOb9WcmlzxOznrdpMRAF0qRVgNukOJtP67LQqh2aFxDMATEenyaZa6yu7fD9Ol1k8AMC0XFgv+fAdB/dbtwk4Lc02egLMMJFWcqaVzJkVrWSYmAgAnIxSFu5kFg8AMC2tAM6st9oB+kOAGbrV+uzMfmXT6P0SzwBwMpJN3En7CABgWlqTWmY9IAX0hzZ60K1WcmbWJ5Jsbu+O3O9YAAAnI9nEncziAQCmpTn7ecZb7QD9sbk1OsDsPggm00rOzHobvWZl07oQGQCchDMpd9I+AgCYlua6DiqbgFOysT16v3biMJl5PLfv7NSMKmwqSdZXT304ANArkk3cSck4ADAt7TWbZjcgBfRL63ijmgEmM4/n9s1W0nm9ZKmIiQDASbiq5k7aRwAA0zKPs5+BfmmtEafDA0ym2SJ3hs/tresOFY4AcHKSTdzJxRUAMC2tyoFZX0Qc6Idaa/N44z4IJnN+bf7O7e0KR8cBADgpySbupH0EADAtrQrqWZ79DPTHzm6yO+Jws7yUrK2c/nigD+aysqmRCNPpBQBOTnaBO5nJAwBMS2ttyFle1wHoj8Oqmop1WmAizRa5M3xubyXCrGENACcn2cSdtI8AAKalNWN4llvtAP2hdRZ0r13ZNGhdOYs2tnZH7hcPAYCTk2wiifYRAMB0tWYMz3KrHaA/NlrVDALMMLHV5WRlRFRptybbO6c/nuPY3B69X+IZAE5Osokk2kcAANPVCuLMcqsdoD9aiW0BZphcKeWQySSnPJhjalY5SjwDwIlJNpHETRYAMF2t6oHN7WR3RlvtAP2hjR5Mx7xNJmlVOV5YFx4DgJNyNj1CKeV5pZRaSnneFN77caWUl5RSPlhK2Rn+np/v+vcch/YRAMA0LS+VrDda9m7N6OxnoD9age/za26J4SRasYRZTTZtNtaKFBMBgJOzSs8ZKaV8VpJfz+D/QU3yoSQ7ST4yfPxZw6c+r9b67mmPx4w+AGDazq+XkTOKN7Zq1lddiwDT01ynRYAZTqT1GWpVEJ21ZuJZTAQATkyy6ex8Rwb//V+T5Mm11g/ve/yZw+0rkrx72oORbAIApu3C+lI++rGDK4a31lIB6IoAM0zH+Ub7uZlNNlm/DQCmRs+As/PnhtsXjEg0nTrtIwCAaWvOfm60tAHoigAzTEfrM7Q5o230WtccqhwB4ORkGM7OheH2jjMdxZALKwBg2uZtXQegP6zTAtPRPref8kCOqVVN7VgAACenjd4JlVIemEFLvCcmeUAGCbz3JvnlJP+21vrefc/ff2Xzo6WUH93z848lefqen19eylUXPe+ptT6wi7HvpX0EADBtreuND92+m7ucP9heD6Ard1zaHblfZROcTGvi6kc+tps/vXX2zu2XN1U5AsC0SDadQCnlq5L81yTrw10bSXaTfMrw6xmllC+vtf7Knpd9YLi9ZwaJqduSXNrz+M7wOfce/vyRJJt7Hv9gl3/DFS6sAIBpa11vvO4dm3ndO055MABRzQAn1Tq3v/3m7bz95u1THs3kzjkWAMCJaaM3oVLKE5M8P8lyku9P8klJzie5JsmNSX46ybVJfrqU8olXXldrvU+t9T5J/ni469uv7Bt+/Y3h41d82b7H//w0/h5t9ACAaXO9Acwak+7gZPrQJeXcarK8NP9/BwCcNZVNEyilLCX5/zNI1n1TrfU/73vK25M8tZTyC0menOS7Mmi1d1rj+51jPO3GvT/04QIRAJhtgrrArFHZBCfTwSK3ewAAIABJREFUh4kk59fMwwaALjijTuZzkzwkyS1JfviQ5z1/uH3S1Ed0Qm6yAIBpu/89zHMCZse150uuv8YtMZxEH87tn3jP5bMeAgD0wvxfFZyNxw63d03yvlKaiZq14fYBUx/RHrXWRx31nGH10yOv/GymMQAwbZ9yv5U84J7Lec8HZ2/BcGDxPPHh57KkdRacyPV3WcpnPmQtr3/H5tFPnkHLS8kTHnburIcBAL0g2TSZTxhuV5Pc+xjPPz/FsUxsbSW54S5Lubix24vSdwBgti0vlfzdv3xdXvo7l/KO/7Odze161kMCFtDdrlnKox60ls++cf2shwK98PVPuCb3v8dy3vberVzcmJ9z+32vX87jPnU9n3K/1bMeCgD0gmTTZK7UWL+u1vpZZzqSE7jv9cv5vq+921kPAwBYIOfXSr7sL1w462EAAB1ZXir5ws84ny/8jJmcZwsAnBINqifz/uH2VNvjAQAAAAAAzBrJpsm8Zri9Tynl0VP6HVdqz/W3AwAAAAAAZpZk02RenuSdw+9/oJSydtiTSyk3TPA7bhtu9bkDAAAAAABmlmTTBGqt20m+Mcl2ks9J8qpSyhNKKXeuKllK+eRSyjeWUt6Q5Jsn+DVvHW6/qpRiYQMAAAAAAGAmSTZNqNb6a0n+WpLbkzwmya8m+Vgp5ZZSyuUkf5jkuUkenY+3xBvHDw23fzXJR0spf1JKeXcp5TdOPnoAAAAAAIBurJz1AOZZrfXnSykPzqBy6YuSPCSDtncfS/L7Sd6Q5CVJfnGC9/6JUkqS/O0kfy7JfSM5CAD8X/buOzyqMv3/+OekJySE3ntvUkJXsbD2FQuioIjKYsG6oruuyv7cXfu6uq4FxbKCYMWyIGLZ9WsBFCEhEFA6IUAoCYEE0tuc3x8JCsw5KcPMnJnJ+3VdcyV5njNnbjTlzLmf574BAAAAAAACjGGanmy6QbAzDGN1UlJS0urVq50OBQAAAAAAAAAQOgynA4D/sVMGAAAAAAAAAAAAHiPZBAAAAAAAAAAAAI+RbAIAAAAAAAAAAIDHSDYBAAAAAAAAAADAYySbAAAAAAAAAAAA4DGSTQAAAAAAAAAAAPAYySYAAAAAAAAAAAB4jGQTAAAAAAAAAAAAPGaYpul0DHCAYRhvS5JpmpOdjgUAAAAAAAAAAAQvkk0AAAAAAAAAAADwGGX0AAAAAAAAAAAA4DGSTQAAAAAAAAAAAPAYySYAAAAAAAAAAAB4jGQTAAAAAAAAAAAAPEayCQAAAAAAAAAAAB4j2QQAAAAAAAAAAACPkWwCAAAAAAAAAACAx0g2AQAAAAAAAAAAwGMkmwAAAAAAAAAAAOAxkk0AAAAAAAAAAADwGMkmAAAAAAAAAAAAeIxkEwAAAAAAAAAAADxGsgkAAAAAAAAAAAAeI9kEAAAAAAAAAAAAj5FsAgAAAAAAAAAAgMdINgEAAAAAAAAAAMBjJJsAAAAAAAAAAADgMZJNAAAAAAAAAAAA8BjJJgAAAAAAAAAAAHiMZBMAAAAAAAAAAAA8RrIJAAAAAAAAAAAAHiPZBAAAAAAAAAAAAI+RbAIAAAAAAAAAAIDHSDYBAAAAAAAAAADAYySbAAAAAAAAAAAA4DGSTQAAAAAAAAAAAPAYySYAAAAAAAAAAAB4jGQTAAAAAAAAAAAAPEayCQAAAAAAAAAAAB4j2QQAAAAAAAAAAACPkWwCAAAAAAAAAACAx0g2AQAAAAAAAAAAwGMkmwAAAAAAAAAAAOAxkk0AAAAAAAAAAADwGMkmAAAAAAAAAAAAeIxkEwAAAAAAAAAAADxGsgkAAAAAAAAAAAAeI9kEAAAAAAAAAAAAj5FsAgAAAAAAAAAAgMdINgEAAAAAAAAAAMBjJJsAAAAAAAAAAADgMZJNAAAAAAAAAAAA8BjJJgAAAAAAAAAAAHiMZBMAAAAAAAAAAAA8RrIJAAAAAAAAAAAAHiPZ1EAZhvG2YRhvOx0HAAAAAAAAAAAIbhFOBwDH9ElKSkqSdI3TgQAAAAAAAAAAQobhdADwP3Y2AQAAAAAAAAAAwGMkmwAAAAAAAAAAAOAxkk0AAAAAAAAAAADwGMkmAAAAAAAAAAAAeIxkEwAAAAAAAAAAADxGsgkAAAAAAAAAAAAeI9kEAAAAAAAAAAAAj5FsAgAAAAAAAAAAgMdINgEAAAAAAAAAAMBjJJsAAAAAAAAAAADgMZJNAAAAAAAAAAAA8BjJJgAAAAAAAAAAAHiMZBMAAAAAAAAAAAA8RrIJAAAAAAAAAAAAHiPZBAAAAAAAAAAAAI+RbAIAAAAAAAAAAIDHSDY5zDCMOMMwLjQM48+GYXxsGMZOwzDM6sdfnY4PAAAAAAAAAACgJhFOBwCNkPSZ00EAAAAAAAAAAAB4gmRTYMiVlHrM41lJbRyNCAAAAAAAAAAAoA5INjlvmWmazY4dMAzjSaeCAQAAAAAAAAAAqA96NjnMNM1Kp2MAAAAAAAAAAADwFMkmAAAAAAAAAAAAeIxkEwAAAAAAAAAAADxGz6YQZBjG6joc1sfngQAAAAAAAAAAgJDHziYAAAAAAAAAAAB4jJ1NIcg0zaG1HVO9+ynJD+EAAAAAAAAAAIAQxs4mAAAAAAAAAAAAeIxkEwAAAAAAAAAAADxGsgkAAAAAAAAAAAAeI9kEAAAAAAAAAAAAj5FsAgAAAAAAAAAAgMcinA4AkmEYTSWFHzN0NAkYZxhGi2PGS0zTLPBfZAAAAAAAAAAAADVjZ1NgWCPpwDGPjtXjfzxh/EVHogMAAAAAAAAAALBBsgkAAAAAAAAAAAAeo4xeADBNs4vTMQAAAAAAAAAAAHiCnU0AAAAAAAAAAADwGMkmAAAAAAAAAAAAeIxkEwAAAAAAAAAAADxGsgkAAAAAAAAAAAAeI9kEAAAAAAAAAAAAj5FsAgAAAAAAAAAAgMdINgEAAAAAAAAAAMBjJJsAAAAAAAAAAADgMZJNAAAAAAAAAAAA8BjJJgAAAAAAAAAAAHgswukAJMkwjARJp0jqLKmppFhJxZIOSdopab1pmgXORQgAAAAAAAAAAAArjiWbDMM4U9Klks6X1FuSUcPhpmEYmyR9KWmhaZrL/BAiAAAAAAAAAAAAauHXZJNhGE0l3SJpuqSOx07V9lRJfasfdxuGsUvSbEmvmqaZ64tYAQAAAAAAAAAAUDu/JJsMw0iUdJ+kOyU10vHJpQJJKZI2SsqVdFDSEUmJkppVP/pKGlb9XKmq3N7jkmYahvG8pH+YpnnY9/8SAIAkpacf0M6dOWrSJE49erRWQkKM0yEBAAAAAAAAcIjPk02GYdwk6TFJzfVrkilZ0tuSvpH0k2maZh3OEyapv6SzJV0jaYSkeEkPSLrZMIwHTdN83fv/AgDAsf72t0V69dXvdOyv7rZtE9W9eyv17Nn6uEfLlgkyjNo2rwIAAAD1V1npUnh4mNNhAAAAQJJRhzzPyb2AYbiqP82VNEvSPNM0t3nhvD0kXSfpNlXtfnKZpulYD6pgYxjG6qSkpKTVq1c7HQqAIPL55+s1bdobdT4+MTFWPXq0Vo8exyeiOnZsxo0BAAAA1FtlpUtPP/2F3nhjmfLzS9S6dWN17txcXbq0UOfOLdS5c3N17Vr1edOmcSx8AgDAGfwBboD8kWw6JOkZSc+bppnvg/MnSPq9pLtN02zh7fOHKpJNADxxySXPKSUl46TPExERpnbtmqh9+6bq0KGp2rdvdsznTdW+fRPFxkadfMAAAAAIKbNm/Z8ee+zTOh3buHGMOnduoS5dmlcnon79vE2bxoqICPdxtAAANFgkmxogfySbEnyRZHLqdUIFySYA9bVu3W5dcME//fZ6LVrEH5eAOvqxZcvGatkyXi1bJiguLtpv8QAAAMBZxcVlGjr0b8rLKzrpc4WFGWrZMkFt2iSqdetEtW2bqNatG7t9zu4oAAA8wh/PBsjnZef8lQAi0QQAvjV37vd+fb2cnALl5BQoLW237TFxcVFq2TJBLVokqGXLBLVq9evnVePxv3zeqFE0NwoAAACC2Kefpnkl0SRJLpeprKwjyso6Isn+ejM6OkKtWzf+JSnVqlWCmjWLV7NmjdweTZs2UlQU1f0BAEDDxFUQAKBWhw4VauHCVKfDcFNUVKadOw9q586DtR4bFRWuxMQ4JSbGqkmTuF8eiYmxSkw8+nVs9div8wkJMYqOjiBRBQAA4LD583/w+2uWllZo165D2rXrUJ2OT0iIsUhExatp0zglJMSqceMYJSTEqHHj2OM+JiTE0NMUAAAENceSTYZhHO0w/7xpmmvr8bwBku6RZJqmOc0nwQEAjvPuuz+qpKTcbTwqKlzLlz+ovLxibd2apa1bs7RtW5a2bctWenq2ysoqHYjWWllZpQ4cyNeBA/XfCBsZGa74+Gg1ahSt+PgYxcf/+rFRo2glJMQcN5+QEKNGjaIVGxup2Nio6kfkcR9JYAEAANTdxo17vdI71Nfy80uUn19Sp8VQJ4qPj3ZLSDVuHKukpE6aOHGkEhJifBAxAACAdzi5s+kGSaakhZLqnGyS1P6Y55JsAgAfq6x06c03rUvoXXLJEHXo0EwdOkgDBrQ/bq6iolK7dh36JQG1dWu2tm3L0vbt2Tp8uNgfoXtNeXmlcnOLlJvrnbItkmQYhlsCKjY2UjExVY+oqAjFxEQqOjpCUVERio6u+vzXr93H2rVrosGDO1G+BQAAhJz581dYjrdt20RPPjlBO3fmKCPjoDIycpSRkaPduw+pvDxwFj7VRUFBqQoKSrVv3/HjCxem6p13VurTT39Pz1IAABCwuBsFAKjRV19tUGZmruXc1Kmn2z4vIiJc3bq1VLduLXX++QOOmztypFh79uQqMzP3l49HP9+zJ1dZWUdkmqZX/x2BxjRNFRWVqaiozKvn7dKlhebNu0k9erTy6nkBAACcUlRUqo8+SrGcu+aakTr33P5u45WVLu3bl6eMjIPViagc7dxZlYzKzMz1Wu8nf9m0aZ/eeWelbrzxDKdDAQAAsBSMyaajMVc4GgUANBBz5iyzHB88uJOGDOns0TmPlgTp27ed5XxZWYX27cs7LgmVmZmrrKzDOnAgXzk5BcrJyVdFhcuj1w9lGRk5evDBD7VgwW1OhwIAAOAVCxeuUX5+idt4eHiYrrlmlOVzwsPDqnfgN9Ppp/d0my8uLlNW1hFlZR3W/v1HtH//4V8eR8f37TtsWUraKd98s5FkEwAACFjBmGzqXf0xz9EoAKAB2Lo1S0uXbrGcq2lX08mKiopQ584t1LlzC9tjXC6X8vKKlZNT1YcpOzv/l8+rElJHPy/QwYP5AdU/yteWL9+q7OwjatWqsdOhAAAAnLS33rIuoXfOOf3Utm0Tj84ZGxulLl1aqEsX++tN0zR15EiJ9u/P+yUhdehQoQ4dKqj+ePwjL6/Ip7vzU1IyVFnpUnh4mM9eAwAAwFN+STYZhtFYkt0VYCvDMDrVdgpJjSQlSfqjqvo1/eS9CAEAVux6NTVr1kjjxg32czTHCwsLU7NmjdSsWSP16tWmxmNN01RxcZny8op1+HCR8vKKlJdXrLy8ol++Pny4WLm5x3+dl1ek/PwSVVYG3w6qlJQMXXTRQKfDAAAAOCnr1u3W2rW7LOeuu+5Un762YRhKTIxVYmKsevduW+vxlZUuHT5cbJmQqrquLNaRIyU6cqTqY35+sfLzS3TkSIkKC0trPX9+fok2b96vfv2sqwMAAAA4yV87m2ZIeshi3JD0Sj3PZagq2fT+yQYFALBXUFCiBQtWWc5NnjxaMTGRfo7Ic4ZhKC4uWnFx0WrXrn6rX03TVElJuQoLqxo25+eXVH9eooKC0hrHS0rKVVxcpuLiEz+W+XynVXLyDpJNAAAg6NntaurYsZnOPLO35ZxTwsN/XQwl1a9/ZmWlS/n5JdXJp2Ldd98CrVnjnmRbtSqdZBMAAAhI/iyjZ9RzvCbvSXrtJGIBANTiww9TVFDgvsIyLMzQlCm+XUUaSAzDUGxslGJjo9SiRYLXzltRUVmdjPo1AXX089LSiupHuUpLK1RWVqGSknKVlVX+MnZ0fvv2bMtSh8nJO7wWKwAAgBMKCkr0n/+kWs5NnjxKYWGhU04uPDxMTZrEqUmTOEnSGWf0tkw2JSfv0A03+K6cNQAAgKf8lWxaK+nNE8auV9UOpW8lWe+J/5VLUoGkHZL+zzTN9d4OEADwK9M0NWfOcsu5Cy44RR06NPVzRKEnIiJc8fHhio+POanzbN+erTFjnnAbX78+U8XFZYqNjTqp8wMAADjlP/9JtSwvFxERpkmTRjoQkf+MGNHVcnzVKhYUAQCAwOSXZJNpmoskLTp2zDCM66s/fc40zU/8EQcAoG6+/36btm7NspybOpWVlIGkW7eWataskQ4dKjxuvLy8UmlpuzVqVHeHIgMAAPCcaZqaN+8Hy7kLLjhFrVo19nNE/jV0aBcZhiHTNI8b37MnV3v25Kp9exZ/AQCAwOLknvN51Y/adjUBAPxszpxlluO9erXWqaf28HM0qIlhGBo2zHrlK6X0AABAsFq7dpd+/nmP5VxDKOncuHGs+vZtaznHNR4AAAhEjiWbTNO8wTTNqaZprnUqBgCAu8zMXH355U+Wc1OnjpFheNJqD740fHgXy3FuRAAAgGA1f/4Ky/GuXVvotNMaxuKn4cNZUAQAAIJH6HTTBAB4xfz5P8jlMt3GExJiNGHCMAciQm3sbkSkpGTI5XL5ORoAAICTc/hwsRYuTLWcmzx5tMLCGsatDLtrPPo2AQCAQOSXnk11ZRhGlKQmkurULd00TUrwAYAXlZSU6+23rVeRXnXVcDVqFO3niFAXAwd2VFRUuMrKKo8bz8sr0vbtB9SzZ2uHIgOCT2Fhqdavz9Tatbu0du1upaXtUlbWEbVu3VgzZ16siy8e7HSIABDyPvooRSUl5W7jUVHhmjhxhAMROWPECOtk08aNe5WfX6KEhDrdOgEAAPALx5NNhmH0knSXpPMldZVU1/pMpgIgfgAIJYsXr9WhQ4WWc9dff7qfo0FdxcREauDAjkpJyXCbW7VqB8kmwEZpaYU2bNjzS1Jp7dpd2ro1260ZuyTt3HlQN9/8ppYsaaohQzo7EC0ANAymaWr+/B8s5y66aJCaN4/3c0TOad++qdq2baJ9+/KOG3e5TK1enaGzzurjUGQAAADuHE3WGIYxVdJLkqKODjkYDgA0eHPmLLccP/PM3urRo5Wfo0F9DB/e1TLZlJy8Q5Mnj/J/QECAqaio1JYtWVq7dpfS0nYpLW23Nm7cp/LyytqffIxXX/1OL798nY+iBAAkJ+/Q5s37LeemTBnt52icZRiGhg/vqk8+WeM2l5y8g2QTAAAIKI4lmwzDGCHpNVUlmAxJxZJSJO2RVOpUXADQUK1Zs1Nr11pXJ506lV1NgW748K56+eVv3MZTUqjpj4bJNE1t3rxfy5dv0dKlW7RixXYVFp78JSZN2QHAt956y7qkc48erTRqVHc/R+O8ESPsk00AAACBxMmdTX+QFKaqcnjPS/qzaZoFDsYDAA2a3a6mjh2b6Te/6efnaFBfdg2k09MPKCcnXy1aJPg5IsD/9uzJ1bJlW7R8+VYtX75F2dn5Xn+NvXvzlJV1WK1bJ3r93ADQ0B06VKjFi9dazk2ZcqoMo+EVQ7G7xktN3any8kpFRob7OSIAAABrTiabTlNVoulz0zTvdjAOAGjwcnLyLVdMStL115+m8PAwP0eE+mrePF7durVUevoBt7nk5AxdeOEpDkQF+FZeXpF++GGbli3bomXLtlh+//tCauoufqYAwAc+/DBZpaUVbuMxMZGaMGGYAxE5r2/ftoqPj1ZBwfG7c4uKyrRhwx4NGtTJocgAAACO52SyqXn1x48djAEAIOmdd35UWZl735KYmEhNmjTSgYjgieHDu9okm3ZwYxwhoaysQitXpv+ye2ndut1yuUyvv07btk00eHBH7d2bp7S03W7za9bs5GcKALzMNE3Nn29dQm/cuEFq2rSRnyMKDBER4UpK6qylS7e4za1atYNkEwAACBhOJpsOSGonyfv1TQAAdVZRUak33/zBcu6yy5LUrFnDfGMfjIYP76r331/lNk5NfwSz8vJKLVu2RZ98slZffrlehw8Xe/X8zZo10uDBnTRoUEcNGtRRgwd3UqtWjSVJb731g2WyKTV1p1djAABIK1Zs1/bt2ZZz1157qp+jCSwjRnSzTDYlJ+/QTTed6UBEAAAA7pxMNq1WVbKph4MxAECD99///qx9+/Is52644TQ/R4OTYVfTf/363SopKVdMTKSfIwI8U15eqe+/36rFi9fq88/XKy+vyCvnjY2N0pAhnX5JKg0e3EkdOjS17QGSlNTFcjwtbbcqK12UGAUAL5o/33rxU9++bTVsWBf/BhNg7K7xVq1Kl2maDbKXFQA4KSMjR9HREWrdurHCwnhPABzlZLLpZUmXSJpiGMbfTdN0ORgLADRYc+YssxwfNqyLBg7s6OdocDJ69Gilpk0bKTe38LjxsrJKpaXt1siR3RyKDKhdRUWlfvhhmxYvXqvPPlvv9n3sifDwMA0e3EljxvTSmDE9lZTURdHRdb/87d27jeLiolRUVHbceGFhqbZs2a++fduddIwAgKr+oZ99ts5y7tprT23wyZSkpM4KDw9TZeXxt02ys/O1a9dBde7cwqHIAKBhOXiwQHfe+ba+/XaTJOmMM3rpxRevVYsWCQ5HBgQGx5JNpml+aRjGbEnTJb1uGMbNpmm6dwIFAPjM5s379P332yznpk4d4+docLIMw9CwYV30v//97DaXnLyDZBMCTmWlSytWbNfixWu0ZMk6HTp08gmmXr1aVyeXemn06B5KSIjx+Fzh4WEaNKijVqzY7jaXmrqLZBMAeMn7769Sebl7/9DY2ChdccVQByIKLI0aRat//3Zaty7TbW7Vqh0kmwDAT558cskviSZJWrp0i6ZMeU0LF95Vr0VtQKjy+U+BYRg1dat8SlKipOsljTQM42VJP0rKkVTrTifTNHd5JUgAaKDmzv3ecrxlywT99rcD/RwNvKGmZBMQCEzT1KpV6Vq4cI2WLElTTk7BSZ2vbdsmGjOmp8aM6aXTTuupNm0SvRRplSFDOlsmm9as2anJk0d59bUAoCFyuVx6++0fLecuu2yIGjeO9XNEgWnEiG6Wyabk5B268srhDkQEAA1LUVGpZY/ktLTdevTRT/TII+MdiAoILP5IuWZIMutwXB9Jz9XjvKacLQMIAEHtyJFiffBBsuXctdeOVlQUv2KD0YgR1jX9U1IyqOkPRxUVleqjj1Zrzpzl2rRpn8fniYwM1xln9NLYsf00Zkwvde/e0qff10lJnS3H16zZ6bPXBICGZPnyrcrIyLGcmzLlVD9HE7iGD++q119f6ja+alW6A9EAQMOTnJyhigrrvRH//vcynXpqD114IYt20bD5604id7YAIMAsWJDs1odEkiIiwnhjH8QGDuyoyMhwt1I0ubmF2r79gHr0aOVQZGioduw4oDff/F7vvbdSR46UeHSOiIgwnXFGb40bN1jnnz9ATZrEeTlKe3bJpk2b9qugoETx8Z6X6QMASPPn/2A5fsopHTRoEP1Djxo+3HpB0ZYtWcrNLVTTpo38HBEANCw//uhe7eBYM2a8q/7926tTp+Z+iggIPP5INr3ph9cAANSDy+XS3LnLLecuvHCg18tQwX9iY6M0cGAHrV7tvusiOXkHySb4hcvl0rffbtacOcv09debZJp12eR+vPDwMI0Z00vjxg3WBRcMcOwmWps2iWrbton27cs7btw0TaWl7dZpp/V0JC4ACAXZ2Uf05Zc/Wc5NmTKaHdnHaNMmUZ06NdOuXYfc5lJSMnTuuf0diAoAGo7akk1HjpRo+vR5WrjwTirFoMHy+Xe+aZpTff0aAID6Wbp0i9LTD1jO/e53p/s5GnjbsGFdbZNNV1890oGI0FAcPlysBQtWae7c5dqxw7okUk3Cw8N02mk9NG7cEF1wwQA1bx7vgyjrLympk5YsyXMbT03dSbIJAE7Ce++ttCxJFB8frcsuS3IgosA2YkQ3y2RTcvIOkk0A4EPFxWV1KqO9du0uPfbYYv3tb5f7ISog8JBmBYAG6M03v7cc79evnUaM6ObnaOBtI0Z01SuvfOs2npy8w//BoEHYtGmf5s5drg8/TLEsz1mTsDBDp57aQ5dcMlgXXjgwYBJMxxoypLOWLFnnNr5mzS4HogGA0FBZ6dJbb62wnBs/fihlSi0MH95VH36Y4jZO3yYA8K01a3aprKyy9gMlvfbaUo0e3UMXXHCKj6MCAg/JJgBoYMrKKvTdd5st56ZOPZ1yJSFg2DDrmv7bt2fr4MGCgLyZj+BTUVGp//73Z73xxjL98MO2ej+/e/dWuv7603TppUPUsmWCDyL0Hru+TampGTJNk9+bAOCB777brMzMXMu5a6+lf6iVESOsr/HS0nartLRC0dHc4gEAX1ixon7vd472b+rYsZmPIgICU5jTAQAA/Gv9+kyVlJS7jcfHR+vyyylXEgpatkxQ164tLOdSUjL8GwxCjmma+vTTtTr77Kd0441z6pVoMgxD5503QO++O11Ll96vG288I+ATTZI0cGAHhYe7XzZnZ+drzx738noAgNrNm/eD5XhSUmcNGNDez9EEh549WysxMdZtvLS0QuvW7XYgIgBoGOz6NVn9Tpaqyovfeus8lZVV+DIsIOCQbAKABsaulNqIEd0UFxft52jgK8OHW698pZQePGWapr79dpMuvPCfuvnmN7V9e3adn9ukSZxuvfVsrVgxU3PnTtOZZ/YOqt1AcXHR6tOnreVcXWq3AwCOl519RF999bPl3LXXjvZzNMEjLCyMazwA8LOysgrLnsiS9Mor16t9+6aWc6mpO/XEE0t8GRoQcBxLNhmGke7hY5thGGsMw/iKKvs4AAAgAElEQVQ/wzCeNQzjEsMwSJoBQB2tWmX9RtTujSuCUyjeiCgoKNHKlenKycl3OpQGJyUlQxMmzNI117yidesy6/y8fv3a6emnJyol5S/6f//vEnXq1NyHUfpWUlIny/HUVJJNAFBf33+/TS6X6TbeuHGMLrlkiAMRBQ+7azy7a3wAwMlZu3aXZXWYhIQYnXZaT82efZ0iIqxvTb/yyrf6739/8nWIQMBwsqBvF0mmpGOXtR57tWlYfH3icWdJuktSpmEY003T/Nz7YQJA6DBNs4adTSSbQondjYh164Kvpn9ubqGeeeZLvfXWDyorq5RhGPrTny7UXXed63RoIW/jxr168snP9L//Wa8+txIREaaLLhqkqVNP14gRXYNqB1NNhgzprPnz3RvZs7MJAOovJcX6enTcuMGKi4vyczTBxe6aPTl5B30EAcAH7ErojRjRVeHhYRo6tIsefPBiPfzwJ5bH3X33u/rvf/+gDh2sd0ABocTJHUG7qh979GvyyKh+HK4eP3zMmKqP2yNpr6SSY+Y6SvrUMIxJ/goeAIJRevoBHTxY4DYeERGmQYOsV+0jOPXo0UpNmsS5jQdTTf+KikrNmbNcp5/+uN54Y5nKyiolVSVNn3zyM61eneFsgCFs584c3XHHWzrnnKfrnGhq2TJBM2acp1WrHtLs2ddp5MhuIXXDKymps+X4unWZKi+v9HM0ABDc7BY/jR7dw8+RBJ+BAzsqMjLcbTw3t1DbttW9xC0AoG5WrLBONo0a1f2Xz2+55Sydc04/y+Py8op0661v8p4BDYJjySbTNLtIGqOqhJMh6TtJ4yU1M02zmWmaHU3TbCapWfX40urjdkoaZZpmI0kDJb1WfUpD0uuGYbT06z8EAIKI3Rv7gQM7soo0xISFhWnYsC6Wc8FQSm/p0s0699ynNXPmR8rNLbI85qOPVvs5qtCXlXVYDzzwocaMeUIff7xapule4uhEXbq00HPPXaPk5If0xz9eqDZtEv0Qqf/16NFKCQkxbuMlJeXatGmfAxEBQHAqLCzVhg17Leco61y72NgoDRzY0XIuGK7xACCYVFRU1mmBhGEY+te/rlG7dk0sj129eqeefJL+TQh9TvZsipX0qaRRkv5qmubZpmkuNE0z79jjTNPMqx4/S9LDkk6VtMQwjBjTNH8yTfMWSXdWHx4rabr//hUAEFzo19Sw2P1/TUnJ8G8g9bBjxwHdcMO/NWnSbG3evL/GY9PSdvkpqtCXm1uoxx5brNGjH9Obb36vigpXrc9p0yZRf//7lfruu/t15ZXDFRUVPKUZPREWFqbBg+nbBAAna82aXZb9mtq0SaTEUB3RtwkA/GP9+kwVFZW5jcfFRemUUzocN9asWSO9/PJ1Cg+3vt3+8svf6Kuv6l6eHAhGTpbRu1VVO5O+N03z4bo8wTTNv0r6QdIpOiapZJrmLElrqr+kgQMA2KBfU8NidyPiaE3/QJKfX6JHH12ss876e50bqG7YsFdlZRU+jiy0lZZW6IUXvtLo0Y9q1qyvLRvfnqhp0zj9+c/j9P33D2rKlFMtS/mEKrtSevRtAoC6s+vXNGxYl5Aqv+pLdtfudv9tAQCesSuhN2xYF8v3QcOHd9X9919ke77f//4d7dmT67X4gEDjZLJpoqp6ML1fz+e9p6qSeVefMP6f6vFeJx8aAISegwcLtH27dR13djaFpoEDOyoiwv1P/cGDBdqxI8eBiNy5XC69++5KnX7643rppa/rVce6tLSi1t1PsJeaulMXXPCMnnhiiY4cKan1+Li4KN1997laseLPuu22sYqNbXilN4cMYWcTAJwsu8VPduV/4c7u2j09/YAOHMj3czQAELp+/NE62VRTj8Fbbz1bv/lNX8u53Nwi3XrrPPo3IWQ5mWw6+lOZVc/nHT3+xJ/qoz/97LsHAAt2ZTW6dWupFi0S/BwN/MFqa/9RgVDTf+XKdF144bO69973PL4xQim9+isqKtVf/vIfjRv3XJ2SdVFR4Zo2bYxWrPiz7rvvIjVuHOuHKAOT3c6mbduydfhwsZ+jAYDg43K5tHp1huXcsGEsfqqr5s3j1b17K8s5p3Y3FRSU6OuvN+rnn/cE3A56APBEZaVLK1emW86NGtXd9nlhYWH617+uUdu21r1sU1Iy9NRTn3klRiDQOJlsiq7+aH0XzN7R46NPGD9a98W6izgANHB2yQV2NYW2mkrpOSUzM1e33jpPl1/+gtavz6z1+LZtE3XaadYrx9LSdns7vJC2dOlmnX32U3rttaW13ggKCzM0ceIILV/+oB55ZLxatiQp3aJFgjp2bGY5t3YtiU8AqM3WrVmWu2ljYiI1YEB7ByIKXoHSt6my0qUXX/w/DRr0F1177as699yndcstb9apNC8ABLING/YqP9/6b5ZdL9ejmjeP10sv2fdvmjXra3399UavxAkEEieTTUfrjVxb1ycYVQWcjx5/4jv6ltUfD55kXAAQkpKTrVfkkGwKbYGUbKqoqNTzz/9PZ5zxhBYtWlPr8TExkbr77vO0bNkDmjp1jOUxJJvqJi+vSDNmvKtJk2Zr9+5DtR7/298O1Dff/EnPPnu1OnSwTq40VHa7myilBwC1s7v+GDSoo6KiIvwcTXCz69vkz2u89PQDuuyyF/T445+quLjsl/FPP03T+++v8lscAOALdiX0kpI6Kzq69r9ZI0d20333XWg7f+edb9O/CSHHyWTTElX1WBpiGMbzRi2dQKvnn5c0RFW9nhafcMiQ6o97vB0oAAS74uIyrVtnvYNkxIhufo4G/mSXbNq6NUu5uYV+iyMjI0eXX/6CnnzyszqtdB03brCWLr1f9913oeLiojVwYEfL4zZt2sfK2VosWZKmM898sk43fU4/vac+/3yGXnttqnr2bO2H6IKPXbJpzRqSTQBQm5SUDMtx+jXVn9013rp1u1VUVGY55y0ul0tz5izXuec+bVsW8eOPV/s0BgDwtRUrrJNNNZXQO9Htt4/V2Wf3sZzLzS2kfxNCjpPJpqclHU3f3i5prWEYNxuG0dMwjHBJMgwjvPrrmyWtlXRb9fF51c9X9XGGpAtVlYT60V//AAAIFmlpuy0vYJo1a6Tu3VtaPAOholWrxurcubnlnN0NH28yTVPvvPOjzjnnH1q9uvab8QMGtNfHH9+hV165/rgdNe3bN1Hz5vFux1dUuLRhw16vxhwqsrIOa9q0N3TTTXNr7YnVtGkjvfjitXr//Vs1aFDNJSEauiFD7Hc20aMCAGpmd+3BTvv669atpe21kS97Wu7Zk6urr35FM2d+dNxuphP99NMeVVa6fBYHAPiSy+XSypXWyabRo+uebAoLC9Pzz09Wmzb2/ZueeGKJRzECgcixZJNpmtmSJkgqVtUOpwGSXpa0SVKZYRilksqqv365et5QVU+m8aZpHjjmdKdJKpWULukjf/0bACBY1NSvqZaNpQgBTpXSO3iwQNOmzdEf/vB+rStsmzeP1z/+MVGff36P5UoxwzA0eLD17iZK6R3vaILvzDOf1Oefr6/1+MsvT9LSpfdr/Pih/D6ogwED2isyMtxt/NChQu3aRTVnALCTk5Ov9PQDlnNDh3bxbzAhwDAMv/ZtMk1TCxas0tixT2nZsi21Hl9cXKatW7O8HgcA+MOWLVnKzS1yG4+MDLetdGCnqn/TFIWFWb/Xmj37G3355U8exQkEGid3Nsk0zW8kjZD0vaoSScc+Ii3GlksabprmdyecZ7lpmj1M0+xpmiaFgQHgBKtWWfdrooRew+BEsunrrzdq7Nin9MUXNSc7IiPDNX362fr++wc1efIo2waqkmxL6fly9W6wycjI0cSJL+sPf3jfsgH7sdq2baJ5827UrFlTLFdGw1pMTKT69WtnOZeayvciANix29Vkt0MHtfNX36YDB/L1u9+9obvvflf5+TVfXxyLBUEAgpVdCb3BgzspNjaq3ucbNaq7/vSni2zn7777nTr11gUCnaPJJkkyTXODaZpjJA2X9KikLyStk7S9+uMX1ePDTdM8wzTNjY4FCwBByOVyUbKkgbP7/5yWtltlZRVefa2iojI9+OBHuvbaV2st3Xb66T319df36aGHLlHjxrG1nnvwYOvybtzIkCorXZo9+xuNHfuUli/fWuvx119/mr799k8655z+fogu9NiX0svwbyAAEES4HvU+u/92KSk75HJ5p4TdkiVpOvvsv3u06p5rNADB6scft1mO16eE3oluv32sxo7tazl3+HCxbrnlTZWWevf9OeBvEU4HcJRpmqsl0UESALxsy5YsHT5c7DYeExOpU07p4EBE8LdevVorMTHW7fugpKRc69dneq10zbp1u3XHHW9p27bsGo+Ljo7QzJkX63e/G6OwsLqvexk40Pr7devWLBUWlqpRo+h6xRsqsrIOa/r0eVq50noH47G6dWupp5+eWK+mtnA3dGhnzZ273G18zRp2NgGAHbvdNsOGkWzy1CmndFBMTKRKSsqPGz9ypESbN+9X377WO3HrIi+vSDNnfqT//Ce11mNbtIhXTk6B2/i6dSSbAAQf0zRtdzadzPuoo/2bzjvvae3dm+c2v3btLj3yyCd69NHxHr8G4DTHdzYBAHzLroTeoEEdFR0dMGsO4ENhYWG2CSW7Vcb1UVnp0gsvfKWLL/5XrYmmfv3a6fPP79GNN55Zr0STJLVunai2bd0bq7pcpn76KbNe5woVK1em6/zzn6k10RQeHqY77viN/ve/P5Bo8gK7nU0//ZTJakQAsFBaWmGbeBg+vIt/gwkhUVERtju/T6Zv0zffVJVDri3RFBERpj/96SJ9/PGdlvM//7xH5eWVHscBAE7Yti3bMoEeHh520rtxmzVrpNmzr1dEhPV74TfeWKbFi9ee1GsATiLZBAAhzm4VKf2aGhZf9W3avfuQrrjiRT3xxBJVVNiXazEMQ9Onn60lS2aoT5+2Hr/eoEGU0pOqVtu99tp3uvLKWcrOrrlc4YAB7fXZZzP04IMXe1RfHO66dm2hpk3j3MbLyiq1YcMeByICgMBml4xv0iROPXq0ciCi0OHNvk2FhaX6058WaPLkV7V//+Eaj+3Tp60+++we/f7356p795ZKTHQviVxaWqFNm/bVOw4AcNLKlda7mgYN6uiVahrDhnXRn/88znb+3nvfU3r6gZN+HcAJJJsAIMTZrWq0e2OK0FRTssk0zXqfzzRNffBBsn7zm6dqXTnbtm0TLVhwqx566JKT3k03aFBHy/GGlGwqLCzVrbfO11/+srDGBF90dIQefPBiLVkyg5KZXmYYhu1K8tTUnX6OBgACn13iY+jQzvXe6Yzj2V3j2VU3sLNtW7YuuOCfmj9/RY3HhYUZuuOO3+jzz+/RgAHtJVX9XRw40PoajVJ6AIKNXQm9kSO9t2D3ppvO1AUXnGI5V1BQqltueVPFxWVeez3AX3xeP8kwjDeqPzVN05xmMe6p484HAHC3b1+edu8+ZDnnrT49CA6DB3dSRESYW3LiwIF87dx5UF26tKjzuY4cKdYf//i+Fi9Oq/XYyy5L0uOPX6EmTdx3gXiioSebtm7N0o03ztHWrVk1HjdyZDc9/fREde/OanFfGTKks775ZpPbOH2bAMCdXdle+jWdvKFDu8gwDLfFQ5mZudq7N0/t2jWp9Rxff71Rt902T0eOlNR4XNeuLfSvf11jmeAaNKijli3b4jaelrZbkyePrjUGAAgEpmnqxx+tk02jR3uvHLlhGHr22au1YcMe7drlfs/m55/36C9/WainnrrKa68J+IM/mnXcIOnoVc80m3FPkWwCgBrYrSLt06et127+IzjExUVpwIAOWrvW/UZ4cvKOOiebMjJydN11r9Xam6lx4xg9/vgEjR8/1KN47ditmk1PP6DDh4stS7iEiiVL0nT33e+qsLDU9hjDMHTPPedpxozzWCnuY0OHWvdtYmcTABzPNE2lpFhfk55s7wtUlSLs3buNZbm65OQduvTSIbbPNU1Ts2d/q8ceWyyXq+bbM1Onnq6ZMy9WXJx1CSm7Hb8NZUEQgNCwc+dB7dvnXkY0LMzweiuCxMRYvfLK9br00udVVube3+6tt1Zo5MhuuuKKYV59XcCX/HUXwqhh3NMHAKAWduXNaMTcMA0b1sVyvK41/Ves2Kbf/vbZWhNNo0d311df3ef1RJNU1VC1U6dmlnPr12d6/fUCQUVFpR5++BPddNPcGhNNTZrEaf78m3TvvReQaPIDu5tqGRk5OnjQvaEwADRUu3YdtOwvGB4epsGDrReRoH486dtUXFymu+56W4888kmNiaZ27Zrovfem67HHrrBNNEn2C4I2bdqnkpJy2+cBQCCx29XUv397NW7s/YWNgwZ10l//epnt/H33faAtW/Z7/XUBX/HHnYiu1Y8T079dT/JBZ3sAqIXdG0xvr8hBcKipb1Nt3n13pSZNmq3c3CLbYyIjw/XnP4/TggW3qUOHph7HWRu7UnpWu7aCXXb2EU2c+LJmz/6mxuNOOaWDvvjiHo0d29dPkaFp00bq1q2l5Vwofi8CgKfsSuj179+uxuQF6q6+fZv27cvTFVfM0kcfra7xvFdeOUxff32fzjijd60xtG/fRM2bx7uNl5dXauPGvbU+HwACgV2yadQo391Duf7603TJJda7UIuLy3TzzXNVVGS/6BAIJD5PNpmmufPow27c04evYweAYFZQUKKff95jOUfJkobJ7v/75s37lZdnnUSqrHTp4Yc/0b33vqfycvet/Uf17t1GS5bM0G23jVV4uG8vLwYNst5REmoNqFetStf55z9j26D2qKuvHqlFi+5Sp07N/RQZjhoyxPp7kVJ6APAru2QT16PeY7eQbMOGvSooOL4PU2rqTl100bM1LoyIjAzXP/5xlZ57bnKdV/IbhtHge2sCCH52771Gjerhs9c0DENPP32V7UK2LVuy9MADH7r15gMCETVWACBEpabutCyJ0aZNojp2tC5DhtBW0//71asz3MYKCko0deq/a91VM2XKaH322QwNGNDeG2HWKtR3NpmmqddfX6oJE2YpK+uI7XHR0RH6xz8m6plnJikmJtKPEeKoIUOs+zatWRMa34sA4A12O6iHDSPZ5C0dOjRVmzaJbuMul6nVq39dALFgwSqNH/9CjdcXzZvHa8GC2zR58uh6x2FXSo9kE4BgkJmZq927D1nOjRzp2+ow8fExevXVG2zf133wQYree2+VT2MAvMGxZJNhGOnVj+ecigEAQllN/ZoMg9Z3DVVdS+llZh7SpZc+r6++2mB7rvDwMD322BX6+9+vUmxslFfjrMkpp3SwHM/MzA36XjmFhaW6/fa39NBD/1FFhcv2uA4dmmrhwjs1efIoP0aHEw0dapds2imXy/7/HwD4Un5+iTZt2qecHPc+SU7EsnHjPss5u16SqD/DMGq8xquoqNTf/rZId9/9rmUT+qP692+vzz+/x+ObqnYLgkJt9zmA0LRypfWupr5926pZs0Y+f/1+/drp0UfH287PnPmRNmygLCkCm5M7mzpK6ixpnYMxAEDIsltFOnw4/Zoasrokm1JSMnTRRc/a3hySpISEGM2ff5OmTj3d6zHWpnHjWHXv3spyLphvZmRm5mrcuOe0cGFqjceddVYfffHFvbblBOE/ffu2U3R0hNv44cPFSk/PcSAiAA3d4sVrdeqpj2ns2Kc0dOjfNGvW/zladic1dafl67dr10Tt2/uuv2NDZHeN9+23mzRlymt65ZVva3z+uHGDtWjRnSfVd9Mu2bR5834VFZV5fF4A8Af7Enrd/RbD1VeP1JVXDrOcKykp1803z3UrjwoEEieTTVnVH+33bwMAPFJRUWlZFk2SRoygZElDZncjYs2aXSovr9THH6/WhAkvKifHfodQ587N9emnd+uss/r4Ksxa2ZfSC85k05Yt+3Xppc9p0yb7BJ8kzZhxnubPv8kvK+tQu6ioCA0YYL3Tbs0a+jYB8K+DBwt0773v/bLLt7y8Uo899qlefrnmcri+RAk9/7G7xk9N3anvvttc43Pvv/8izZ59neLiok8qhjZtEm3L+f30U+ZJnRsAfO3HH51PNhmGoSeemKBevVpbzqenH9Af/7iA/k0IWE4mm47W5eniYAwAEJI2bNhruXowLi5K/fq1cyAiBIrevdsoISHGbbykpFx33DFfd9zxVo3lVUaN6q4lS2aoZ0/ri19/CaUG1KmpO3X55S9o377DtsckJsZq3rwb9cc/XqjwcFpuBpKkJOsdZqmpJJsA+NeiRWtUUFDqNv74459q2bItDkQkpaTYJZu6+DeQBqBfv3aKi6tfWeNGjaI1Z8403XXXuV4rs23XtymYd58DCH1ZWYeVnn7Acs6fySZJiouL1muvTbUtVb9o0Rr9+9/L/BoTUFdO3q14R5IhaZKDMQBASLLr1zR0aBdFRIT7ORoEkvDwMA0d2sVybvHitBqfO2nSSL333vSA2FUTKj0Bvv12k6666iXl5hbZHtO/f3t98cU9Ouec/n6MDHU1ZIh93yYA8Ke0tF2W4y6XqenT5ykz07rpua9UVrpsE+/stPe+iIhw22s8K1U71X+v888f4NU4QmlBEICGw66EXo8erdSyZYKfo5F69mytp5660nb+b39bZLsTC3CSk8mmeZK+lzTEMIynHYwDAEJOcnK65bhdCTU0LPX9PjAMQw89dImeeWaioqLc+9M4YcCA9goLc1+Bu3//Ye3fb79DKJAsWrRG11//eo09DK66aoQ++eQude7cwo+RoT6SkqyTTRs27FVxMf0pAPhPTaVkc3MLNW3aHL/+Xtq0aZ/lTqvY2Cj17ctOe1+o6zXe6af31JIlM9S7d1uvxxDqyabMzFxt3ZrF33ggxKxcaX0PZfRo/+5qOtYVVwzTtdeOtpyrrHTp5pvnau/ePD9HBdTMsWSTaZouSZdI+lzSDMMwVhqGcb1hGN0Mwzi5QsEA0ICZpqnk5AzLOVaRQqpfsqmqvMrvNH362V4rr+INcXHR6tWrjeVcMNzMmDt3uW67bb7Ky+1LFj7wwG/17LOTbMsnIDB07NhMLVrEu41XVLi0fj39KQD4R0FBibZty67xmPXrM/XAAx/5rc9DSkqG5fiQIZ0UGclOe1+oy7X+tGlj9M47t/hsp7pdsmn79gPKzw/epvZFRaWaMeNdjRz5iM4880mNHfuU7fc4gOCzYsU2y/GRI51LNknSww9frv7921vO5eQU6Kab5qi0tMLPUQH2HEs2GYZRKSlH0gWqKqc3TNIbkrZKKjIMo7KWBz9JAGBh9+5Dljs7wsIM2xX4aFiSkjrVqe9P+/ZNtWjRXTrvPO+WV/GWYFw5a5qmnn76Cz34oP3NvrAwQ//4x0Tdeec5AZXggzXDMGoopWdd0qomlZUuffhhsv75zy/16adraf4LoE7Wr8+s0++LBQtWad68H/wQkX2/Jnba+05SUmfba7zIyHA988wkPfLIeJ+W1W7ePF4dOjR1GzdNM2gXYRQUlGjy5Ff1/vurfvk527nzoO6++x1VVNgvHAIQHA4eLNCWLVmWc07ubJKkmJhIvf76DWrSJM5yfs2aXZo58yM/RwXYc7KMnnHM48Sv6/oAAJwgOdn6jX3//u0VHx/j52gQiOLiotW/f83la4YO7aLPPpuhfv0Ct8yNfbKp/jf4/cHlcmnmzI/1z39+aXtMVFS4Xn31Bk2ePMqPkeFk2SXy7XqV2Dl4sEDjxj2nu+56R08//YVuvvlN3X77W94IEUCIq89Ci4ce+o/t9aI32b3GsGFdfP7aDVV8fIyuuGKo23iLFvH64IPbdPXVI/0SRzAuCLJz5Eixrr76FcsSW+npB2xLbwEIHna9j7p0aaG2bZv4ORp3nTu30EsvTbFdiPjOOz/qrbf8s5AEqI2Tyaalkr47icdS/4cMAIFv1SrrNzyU0MOxRozoZjs3fvxQffDBbY40Qq2Pmm5kBNpukLKyCt1++1uaO3e57THx8dF6++1bdNFFA/0YGbxhyJBOluNr1tQ92ZSTk68rr3xJa9cenyxduDDV9vc6ABxVU7+mE5WXV+qmm+YoK8t3PQ6zsg5r165DlnPstPetmTPHaezYvr98fc45/fT55/fUeO3nbQMHhkayKTe3UBMnvqzVqzNsjznx7zaA4GOXbBo1ytldTcc666w+uv/+i2znZ878mNKeCAiOdfk2TfMsp14bAELZqlWULEHtrrvuNL3xxjK5XMcnZe6//6KgKd/Wr197RUaGu/U9OnSoUHv25KpDh2YORXa8oqJS3XjjXH377SbbY5o3j9fbb99se3MGgW3w4E4yDMMtyZmZmavs7CNq1apxjc8/cCBfV145y7Z8x//+97NfbxICCD7r1lnfxE9MjNXhw8Vu49nZ+br55jf1wQe3KSrK+7cFVq+2Trb36tVaTZv6plcQqrRsmaD582/SoUOFqqioVOvWiX6PwW5BkN33aSA6eLBAkybN1s8/76nxOJJNQPBbscI62eR0Cb0T3XHHb7Ru3W4tWbLObe7oQpIvvrjHkd/7wFFO7mwCAHhZXl6RNm/ebzlHsgnH6tGjlV56acovzaF79mytOXOm6a67zg2KRJMkRUdHqE+ftpZzgfLG/9ChQl111cs1Jpo6dGiqhQvvJNEUxBo3jlXPnq0s52orpZedfUQTJtgnmiTPej8BaDhycwuVkZFjOffuu9PVuLF1GeXk5B36618X+SQm+xJ6XI/6g2EYat483rEbjnbXNBkZOcrLK/JzNPV34EC+JkyYVWuiSeJvNBDs8vKKtHHjPsu5QNrZJFX9bn/22avVq1dry/msrCO6+eY3VVZW4efIgF+RbAKAEGLXiLljx2YBUWsYgeWSS4Zo/fpHtHnzE/rmm/t0/vkDnA6p3gK5J8DevXm6/PIXakw29O7dRosW3aXu3a0TFQgeQ4ZYl4Wq6SZUVtZhTZgwS0INDUQAACAASURBVFu32ieapKrv58pK10nFByB0rVuXaTnetWsLDR7cSS+8cK3tc+fOXa4FC1Z5PSa7a1L6NTUMTZrEqWvXFpZzgXCNVpP9+w/riitetF3Ad6K9e/N8WpISgG+tXJluWYK9ffum6tgxMCplHCs+Pkb//vfvlJDg/4UkQF2QbAKAEJKcnGE5Tr8m2DEMQwkJMQoLC85LgkGDrHvlOH0jY9u2bF166fM1JhGGDu2ijz++g0RwiLDrQWLXt6nqZtYsbduWXeu5CwtLtW1bzQkpAA1XWpp1Uvvo38hzz+2ve+893/b599//oVfLm5WUlNsmwNhp33DY7W4K5FJ6e/bk6oorXqzT3+Zj1adnGoDAYtevKdBK6B2re/dWevHFmheSvP++9xeSAHURnHeWAACW7JrI88YeoaqmngAulzM7Qdat263LLntee/bk2h4zdmxfvf/+dPpWhBC7nU1r1+5y25W0b1+eJkyYpfT0A3U+P2V6ANixW2Bx7N/IGTPO0znn9LM8rqSkXDfeOEcHDxZ4JZ5163a79VOUpKZNG6lbt5ZeeQ0EvkDefW5l166DGj/+Re3YYV2SUpJtScpAKd8MoP7skk2BVkLvRLUvJPnAdjEK4Es+TzYZhrHWMIxLffwa4w3DWOPL1wCAQFdaWmH75o3G8ghVvXu3UUxMpNv4kSMlysg46Pd4NmzYq0mTZuvQoULbYy6/PElz5kxTXFy0HyODr/Xp00axsVFu4wUFx+9K2ru3/okmiRtZAOzZ7aoYPPjXm/1hYWF64YVrbZM9mZm5uu22+aqocE8S1Zd9v6YuQdMXEicvmJJNO3Yc0PjxL2r37kO2x0yderoeeOBiyzm7XcwAAlt+fonWr7feiRvoySapaiHJuef2t5wrLa3QtGlzlJOT7+eo0ND5Y2fTQEkfG4ax2jCMCYZhuL8L94BhGFGGYUw0DCNV0gfVrwMADdb69ZkqKSl3G09MjLVtIAkEu8jIcPXv385yzt83M7Zvz9akSS/X2Ph62rQxeuGFyYqMDPdjZPCHiIhwDRzYwXIuNbUqUbRnT64mTJhV46rpIUOsS0OyswmAlezsI9q3L89tPCzM0IABx/9OSkyM1euvT1VcnPVb8mXLtujJJz876ZhSUjIsx+nX1LCcckoHy+Tinj25AXXzc+vWLI0f/6L27nX/OTrqllvO0qOPjrf9G52Wttuy5wuAwJacvEMul/vPbuvWjW37zgWSqoUkk20Xkuzdm6fp0+d5ZSEJUFf+SDY9L6lS0hBJ70vabxjGq4ZhnGUYhvtS5BoYhhFZ/bzXJGVJekfS4OrzP+/luAEgqNiV0Bs2rEvQ9uMB6sKuJ4A/ywZkZh7SxIkvKyfHvgTRffddqIcfvpyfxxBm17cpNTVDmZlViaaMDPtE0y23nKVXXrnecm7jxr0qLi7zSpwAQofdwoqePVurUSP3HbR9+rTVP/85yfZ8L730tRYvXutxPKZp2iab6CHasMTHx6hHj1aWc3Y9vfxt06Z9uuL/s3ffcVFcWxzAf7PA0gVEVJqiooIFC2hssYK9xK4x9l5jjdFEjVGjxsTeW1TUqIkaY0vsvaOAYhdRQVRUQHq97w8kT925yy6ws+18Px8+vMydnT15AWb23nvO6bwcL1++454zerQ/pk9vD0EQ4OXlDHNzU4Vz4uNTlG4kIYToposXH4oer1OnnN5k4hYpYomNGweI3vMB4MKFh5g9e7/EURFjpvHZDsbYWOQsCB0AIACwBzAQwHEA7wRBuCwIwlJBEEYKgtBTEIQWgiDUEwShpSAIXwqCMEoQhGWCIFwBkPD+dQMA2L2/3t8AqjPGxmn634UQQnQZr2QJldAjhq56df4uUym8fBmPbt1WcXfECoKAuXO7YOzY5nrzoYXkD2+x6ezZ++jSZTmePOGXdhw+vAmmT28PV1cHODnZKoxnZmYjLOx5ocVKCDEMqvRr+lT79jUwfHgT7vi4cb/j3r3ofMXz+PFr0d5PpqYy7uYQYrh4P4e6UBr21q0odO68QulGoQkTWuDbb1v/9/wml5uiShVX0XN14d+JEKKeS5fEN+zWrav7JfQ+VKFCSSxe3JM7vnbtaezZEyRhRMSYSbK1ljF2mzHWHkAt5GQ3ZSFnocgcgB+AkcjJTNoK4BCAswAOAggEsATACAC+AOTvX5eJnKwmX8bYF4yx21L8exBCiK5ijHEXm2rVol2kxLDxJjJu3oxEVla2Rt/77dsk9OixWmm2ysKFPdC3b32NxkF0Q40a4otNT5++xdOn/D4Qo0Y1w/fft4MgCBAEgbuAGhxMPSEIIR/jZfFWqyb+dyTXlClt0KBBedGx5OR0DBz4G+LjU9SO59o18efRqlXdRPvaEcPGzz7Xbt+mkJCn6NZtJWJj+T02p0xpgwkTWipsFOLdo6lvEyH6JTk5jXsPrVvXU+JoCq5Nm2oYPdqfOz5x4k7cuhUlYUTEWElax4UxFsQY6wnABcAYACcAZCBnASmvr3TkZDWNBuDCGPuKMXZDyvgJIURXPXoUg7dvFT8smZmZKN3ZSoghKFeuuGj/ieTkdDx8+FJj75uQkIpevdbg3r0X3HNmzeqI7t1raywGoltcXOxRsqSdWq8ZM8YfU6a0+Wgyi/o2EUJUwRjLV2YTkNNnbtWqPnB1dRAdDw+PwfDh6vd54JXQo81Pxon3cxgaqr3FpuvXn6BbN+U9NmfM6MCdtOVtLKHMJkL0y7VrEcjMVNyY6Ohowy0Bquu++aYVGjf2Eh1LTc3AoEEbReeNCClMWmkawBh7zRhbzhjzR05ZvXoAhgCYA2AVgI3vv88BMBhAXQD2jLEAxtgKxhi/BgkhhBghXr8mHx/aRUoMn4kJvzSPpnbOJieno0+fdUqv/+23rTFwYEONvD/RXbyFIjFjxwZg8uTWauyapoksQsj/PX8eJ1oCzNRUhkqVXPJ8vaOjDTZs6C/agwYATp26i+++2w3GFJun8/Ay7f38PFS+BjEclSu7wsREcdrp5ct3ePEiXvJ4Hjx4id691yIhIZV7zuzZnTB0aGPuOO8efetWFNLTMwsaIiFEIpcuPRI9XqdOWb0tfW5iIsOKFV+hVKmiouNPn77FsGGb6W8V0Sitd6hmjKUyxi4xxtYzxqYxxkYyxga9/z6NMbaBMXaZMZam7VgJIURX8UvoUb8mYhx4O2c1sdiUlpaJQYN+w+XL4ou8QE5ZtDFjAgr9vYnu4/Vt+tT48S0waVIr0Q+zvJ/niIjXtBuREPIf3j3Oy8sZFhZmKl3Dx8cd8+Z15Y4HBl7EmjWnVLpWfHwKN9vXz48ym4yRlZUcFSuWFB2TupRedHQcevZcjdhY8YwmQRDw889dMWDA50qvU6ZMMdjZWSocT0vLxN27+et1RgiR3sWLvMUm/erX9CkHB2ts2DCA+xxw7twDfPPNH2ptJCFEHVpfbCKEEFJwvMWm2rXpgz0xDlJlNmVmZmHEiC04deou95x+/RpgypQ2hfq+RH+ostg0YUILTJyo2Acil4ODNcqWdRId49WWJ4QYH949jpd5wdO9e22lvQVnzdqPQ4dC87zO9esRosfd3YuqXWKUGA7+M5p097O4uGT06rUWz5/HiY4LgoCFC3vgq6/q5XktQRC4m0KolB4h+iE1NYPbZ00f+zV9qnJlV/z6aw/u+K5dV7B48VEJIyLGhBabCCFEz71+nYDw8BjRMaqPT4xF9eriH/rDwqKQkaFevwme7OxsjB+/A4cP3+Se061bLcye3VFvSy+QgvPxcYdMxv/vP2lSK0yY0DLP61ApPUJIXngT2/np1/njjx3RsGEF0THGGEaN2prnRDqV0CNipMw+F5OSko5+/dZzs45kMgHLlvVSq8cmr28T3aMJ0Q/BwU+Rnq74GdHe3gpeXuLZmPqmY8eaSkuCLlhwGHv2BEkXEDEatNhECCF6jvfBvly54nB0tJE4GkK0w8OjGIoUsVA4npaWyS3pow7GGL77bg/+/PMa95w2bXzwyy/dIZPR45Uxs7Y2R7164jsiv/22NcaNa67SdXiLTbRrmhAC5NyXQkPFJ+t5mSTKmJmZYO3aftySZ6mpGejbdz0iI99yr3HtWoTocSqhZ9yULTZpuoxTZmYWRo7ciitXxD8vAcD8+V3RqZOvWtelezQh+i0oKEL0eO3aZQ3qs9x337VFs2be3PHx43/n9q4iJL8M5zeIEEKMFO/DE2U1EWMiCILGyrQwxjBnzgFs3nyee06TJl5YsaI3TE1NCvRexDBMntwalpby//5ZJhPw3Xdt1erjVaMGP7OJaqwTQiIiXiM+PkXhuLm5Kby8nPN1zSJFLBEYOBhOTrai4zExCejdex3evVN838zMLFy/Ll6SiJ5JjZu3twvMzBSfj96+TUJUVKzG3pcxhqlTd+Off/gZ6ZMmtUKvXnXVvjYvo/7+/ZdITExV+3qEEGnxMisNLRPX1NQEq1f3ReXKrqLj6elZGDBgIx4+fCVxZMSQ0WITIYToOerXREgO3i7TgpZpWbr0GFauPMEdr1OnHNat6w+53LRA70MMh6+vB06dmowxY/wxbFgTHDkyESNHNlPrGpUru4pOzr15k4jISM1NzhFC9APv3sb726EqN7ei2LRpILex+L17LzBkyCaFErW3bz9HcnK6wvnW1uYGU5KI5I+yBVBNltL75Zd/sHXrRe543771MXas6ptAPlSihB1cXOwVjudkHEbm65qEEOkUVs9DfWBtbY4tWwbB2Vm8d2JcXDJ6916LN28SJY6MGCpabCKEED2WnJzOLaFCu0iJsdFET4D1609j/vxD3PHq1Uth8+ZBsLKSc88hxsndvSi+/bYNpk9vj0qVXNR+vYWFGfd1vIbGhBDjwbu35adf06dq1CiNFSu+4vYfPHPmPqZO/fOjLEteCb0aNUpR1i/hZgJpquzc5s3nsWjREe54mzY+mD27U4F6bPIzkOkeTYgue/MmEc+eiZeE9fFxkzgaaTg722PLlsGwtjYXHX/y5A369duAlBTFTSOEqIsWmwghRI+FhDxFZma2wnFHRxuULeukhYgI0R7eBNudO8+Rmpqh9vV+//0ypk//izvu5eWMrVuHwNZWsVcUIYWBt7uSGpATQjS52AQArVr5YNq0dtzxbdsuYdWqk//9M2+xiTY/EQDw8dFM9rmYgwdDMHXqbu543brlsGzZVzAxKdh0mKYy6gkhmsX7HS1b1glFilhKHI10Kld2xdq1fbl/+4KCIvD119uRna04v0SIOmixiRBC9Jiyfk0F2alHiD5ydXWAo6ONwvHMzGzcufNcrWsdPRqGSZN2csfLlCmGHTuGoWhRa7XjJERVvF3T1ICcEOOWlZXNzWwvzBJAQ4c2Ru/e/H42s2fvx4EDwQD4ZZ1psYkA/EXQ0NBnhdqH8OLFhxg5MpB7zUqVXPDbb/wykeqgDSGE6CdjKqH3qSZNvDF3bmfu+IEDIfjpp4MSRkQMES02EUKIHqN+TYT8nyAIhVJKLywsCsOHb0F2tvhEhYuLPXbuHI7ixYvkK05CVFWjRmnR46GhkcjMzBIdI4QYvkePXon2R7KykqNcueKF9j6CIGDOnM5o3NiLe86YMdtx6FAooqIUe8kJgoCaNcX/jhHjUrFiSZibK/a2fPcuFRERrwvlPcLCotCv3wakp4vfH93di2Lr1iGFlrng4+MuurkvKioWr169K5T3IIQUPt6mLV65T0Pz1Vf1MGJEU+74ypUnsHXrBQkjIoaGFpsIIURPZWVl49o13mJTWYmjIUQ3+PjwegKottj08mU8+vRZLzqJBwBOTrbYtWsE3NyK5jtGQlRVrpwTbGwUa6unpKTj3r0XWoiIEKILeBNlPj7uBS4N9ilTUxOsWdMX3t7OouOpqRkYMmST6JiXV0mDLklEVGdmZoLKlV1Fxwqj7NyzZ2/Rq9caJCSkio4XLWqN7duHomRJuwK/Vy5bWwuULy++uEsZyIToJsYYQkL491BjMXVqG7RrV407PmXKbpw8eUfCiIgh0fhikyAI1wVBCBIEodEnx0u9/6JGB4QQkg/37r3Au3eKH6gsLMxQpYr4hzlCDB1vRxqv3NCHkpPT0a/fBkRHx4mO29tbYceOYdQPjUhGJpNxS3rQRBYhxkvT/Zo+ZWtrgc2bB6N4cVvRcV4msJ+fh0biIfqpMLLPxbx5k4iePVfj1asE0XFLSzkCAwcXatZfrurVxTP36B5NiG568SJe9G+FiYkMVaq4aSEi7ZDJZFi8+Ev4+nqIjmdlZWPo0M24fVu9UvSEANJkNlV///XpFpIIAOEAmksQAyGEGJwbN56IHq9RoxTkcsUyFYQYA96OtPv3XyA5OY37uuzsbIwZs4074SGXm2DTpoHw9nYplDgJURX1hCCEfErqxSYAcHNzwObNg9TqdePnR2Wdyf9pYrEpKSkNffqsQ3h4jOi4qakM69f345alLSheb0W6RxOim3jVLipWLAkrK7nE0WiXpaUcmzYNROnSjqLjiYlp6N17HXcjJiE82i6jR93rCSEkn3gfYni7UwgxBiVL2omWSMnOZrh5M4r7unnzDuHQoVDu+MKFPak8JdEK3kQW7ZomxDhlZGQhLEz8fqbJxaac65fCihW9RfvUiKlVixabyP/xfj5v3oxEVla22tfLyMjC4MGblC7sLFrUE02aeKt9bVXx7tEhIc/AmHjGHyFEe6iE3sccHW0QGDgE9vZWouPR0XHo02c9EhPFS5QSIkaKxaak99+LSfBehBBiNHgTjbwPPYQYC95kBq+U3o4dl7F8+XHu9caPb4FOnXwLJTZC1MXLbLp7N1ppth4hxDDdvRuNtLRMheN2dpbw8ND8R+5Wrapixoz2eZ5XrJgNd7c0MU6eniVgaamYOZCUlMbNTOJhjGHixB04deou95zp09ujc2c/teNUh5eXM+RyE4XjcXHJiIh4rdH3JoSoj5dJySvFbgw8PYtj48YBon/LACAsLArDh29BZmaWxJERfSXFYlPubGjeT6SEEEJUkpycxm0Oz5uYJMRY8BabxBZoL1x4iG++2cW91hdf1MSECS0KLTZC1OXsbK8kWy9SCxERQrSJt3HCx8dd5Yyjgho8uBH69q2v9Bw/vzKSxUP0g4mJDFWriveV5WUb8Cxffhx//HGNOz50aGMMG9ZErWvmh1xuyu3zQqX0CNEtjDHuPdTY51Dq1CmHhQt7csePH7+DadP2UsYmUYkUTT2OAfAG0E4QhFsAQgB8uA1zjCAIX+TjuowxNrAwAiSEEH1z82aUaLmJEiWKwNnZXgsREaI7VO0J8OjRKwwa9BsyM8VLt/j5eWDhwh40WUa0rkaNUjh8+KbC8Rs3nuKzz8ppISJCiLbwMtulnCgTBAGzZnXE06dvcPKkeGYJldAjYqpVc8eVK48VjgcHP0OXLrVUusaRI7cwb94h7ninTr6YNq1dvmNUV/XqpXD9umIv3eDgp5QZT4gOefLkDWJjkxWOy+Um8PJy1kJEuqVTJ188ffoGP/98WHR88+bz8PAohqFDG0sbGNE7Uiw2LQDQG4A9chadPiyYKwAoyHYTWmwihBgl3u4/Y9+RQwjAr7kdHh6Dd+9SUKSIJWJjk9C373rExSl+4AAAd/ei2LhxgFqN0AnRlOrV+YtNhBDjwisBpOl+TZ8yNTXB6tV90bHjMty+/fyjMUEQ4O9fSdJ4iH6oVo3f40gV9+5FY+TIrdzd9Y0be2Hhwh6QyaRrT84rYU73aEJ0C+/vTKVKrpDLpZge131ffx2AiIg32LXriuj4jz/+DXf3omjd2kfiyIg+0fgdmDEWCaAugAPIyWgS3n/lEvL5RQghRov34YUWmwjJaXTq7l5UdCw0NBLp6ZkYNOg3bn8AW1sLBAYORrFitpoMkxCV1ahRWvT4jRuKO6kJIYYrNTUDd+9Gi45JvdgE5NwvN28ehHLlin90vG/f+ihfvoTk8RDdx/s5DQuLyrMfyNu3SejXbwOSksT7Ffr4uGHdun6STxrzPn/duhWJjAzqcUKIruBlBmvj/qmrBEHAzz93RYMG5UXH7e0t4ehoLXFURN9IchdmjN0D0F4QBFMAxQBYAAgHwAAMBXBUijgIIcRQ6EIJFUJ0WbVq7nj27K3C8eDgp/jzz2u4ePGR6OtMTGRYu7YfKlQoqekQCVGZj48bBEFQ2MkdGRmLmJgEODnRwighxuD27eeipV+LFbOBi4t2yii7ujrgyJEJ2Lr1ImJiEuDn54GAgMpaiYXovjJlisHW1gIJCakfHU9NzcD9+y9RqZKL6OsyMrIwbNhmPHnyRnS8eHFbbNw4ENbW5oUec17KlCkGOztLxMenfHQ8LS0Td+4852bcE0KkxctsojmUj8nlpli3rj86dFiC+/df/nfcw6MYAgMHK2wwIeRT0uUWA2CMZTLGXjDGIj44/Iox9iQ/X1LGTgghuuLt2yTuBy3alUNIDt7vwsqVJ7hlAQDgp586o1GjipoKi5B8KVLEEp6e4h/seJsPCCGGR9lmI232F7S0lGPw4EaYOrUtmjevQr0OCZdMJoOPj5vomLJSejNn7sO5cw9Ex+RyE2zYMEBrC64ymYz73En3aEJ0Q1ZWNm7ejBQdozkURXZ2lggMHPLfhjY/Pw/s3/81LTQRlUi62PSJLe+/6O5LCCFq4PVrKlvWCfb2VhJHQ4hu4vUE4PVoAoAhQxqhd+96mgqJkAKhnhCEkNBQ8cl4ypwg+oT388r7jLNt20Vs3HiWe72ff+4GX1+Pwggt33iZEcHBqvWiIoRo1qNHr0RLcFpZyansK4e7e1Fs2TII3brVwq5dI+DoaKPtkIie0NpiE2OsH2OsP2MsWFsxEEKIPqJ+TYTkrWpV8V2zPAEBlTFtWnsNRUNIwfEnsmixiRBjwc9sosUmoj949zOxzKbLlx9h6tTd3GsNHdoY3brVLrTY8ovu0YToNt7vYtWqbjAx0WYehm6rVq0UFi/+EhYWZtoOhegR+o0ihKglLS0TJ07cwZEjt5CamqHtcIwSTTQQkjc7O0uULeuk0rmVK7ti5cre9EGD6DReZlNw8FOFXk6EkMLFGMPx47exceNZXLjwUCsxJCWl4cGDV6JjvGxeQnQRr2TV7dvPkZaW+d8/R0a+xaBBm5CRkSV6fpMmXvj++3YaiVFdvHv0vXsvkJiYKjpGCJEOr0wnldAjpPCZajsAABAEoSiAIQCaA/AG4ADAlDFm+sl5TQGUBPCaMXZE8kAJMXIREa/Rp886PHyY80HXxcUey5d/hTp1ymk5MuPBGFOy2FRa4mgI0W3VqrkjPDxG6TklShTB5s2DtNJQmhB1eHu7QC43QXr6x5NucXHJiIh4jTJlVFtcJYSohzGGYcM2Y//+kP+OtWnjg6VLe8HSUi5ZHLduRYouLLu42P/XU4EQfeDuXhQODlaIjf24tHFGRhbu3YuGj487kpPT0L//Rrx5kyh6jbJlnbByZR+d2ShUooQdnJ3tER0d99Fxxhhu3oxE3bqeWoqMEAIoW2yizRqEFDat35kFQegDIALAHACNAJQAIAcg1lW0MoCtAPYKgmAnVYyEkBxz5x74b6EJAJ4/j8OXX67ByZN3tBiVcYmKisPr14ofukxNZahc2UULERGiu/IqLWlpKcfmzYO01lCaEHXI5aaoUkW8PCT1bSJEc06cuPPRQhMAHDwYij591kmascDr/UK7som+EQRBSd+mZ2CMYezY3xEWFiV6TpEiFti0aRDs7Cw1GabaqLciIbopPT2T+/eEqsMQUvi0utgkCMIQAL8BsEHO4lI0gPtKXrIZQDoACwDUWIEQCSUnp+Pw4ZsKx1NTM9Cv3wYcPBgi8ipS2IKDn4ge9/JylnR3LSH6QFnDdEEQsHx5L2qqTvQK9YQgRHoHD4aKHj9//iF69lyNuLhk0fHCRiWAiCHh/dwGBz/F4sVHceCA+GdLmUzAqlV94OlZXJPh5QvdownRTffuvfioRGcuOztLeHgU00JEhBg2rS02CYJQGsBS5CwyPQXQjDHmBmAy7zWMsXcATr3/x6aajpEQ8n83b0YiMzNbdCwjIwtDh27Gn39elTgq48PbGcfbSUeIMata1ZXbzHTq1DZo1cpH4ogIKZiaNcXLpdKuaUI05/r1CO5YUNATdO26klvqqzCFhIj/nlMJIKKPeItNhw6FYsGCw9zXff99OzRp4q2psApEWW9FQoj28O6fPj7uEASxolqEkILQZmbTaOSUy0sC0JQxdlLF111BzgJVNU0FRghRFBQUoXQ8O5thzJjt2LLlvDQBGSnerlbq10SIIisrc/Tr10DheM+en2HECNqzQvQPb9f0rVuRSE9X3LFJCCmY+PgU3L//Uuk5YWFR6NhxmUKvlsIUF5eMx49fi475+IiX1yREl/EWSePjU7iv6drVD0OHNtZQRAXHm7iOjIxFTEyCFiIihAD8MrR5lVwnhOSPNhebAgAwAIGMsXA1Xpd7Ls2sEiKh69fFy7d96ttv/8SqVaquHRN1ZGVlK1lsohIqhIiZOLElvv46AMWL28LV1QEzZ36Bn3/uRrvYiF4qU6aYaI+KtLRM3L0brYWICDFsqmYkPHz4Ch07LsPTp280EkdoqPjzn4dHMTg4WGvkPQnRJGdnOzg52ap8fs2apTF/vm4/v9naWnDL+1F2EyHaQ2VoCZGWNhebcpeQL6r5unfvv6v+ZEIIKRDGWJ6ZTR+aNetv/PLLP2CMaS4oI/To0SskJaUpHLeykqNChZJaiIgQ3WdlJcfkya0RHPwjrl6djsGDG8HERKstKwnJN0EQuLswqZQeIYVP1c1WAPD06Vt07LgMDx++KvQ4eBNl1HeQ6CtBEFSe6C1Z0g4bNvTnlkbWJbxSenSPJkQ7UlLSuRuyaLGJEM3Q5myLxfvv/DxpcTbvvycVYiyEECWeP4/Dy5fv8j7xAwsX/osff/ybFpwKEe9DStWqNtJAOAAAIABJREFUbjR5TgghRoImsgiRjrJ+TWKio+PRqdMy3L79vFDjoMx2YohUWSy1sDDDxo0DUKKEnQQRFRxvQwhlNhFtyMjIwsqVJ/DVV2sxfPgW3LwZqe2QJBcW9hxZWYq9x52cbOHiYq+FiAgxfNqcnYx5/91VzddVev/9RSHGQghRgrer08XFHkWL8kt3rFlzCpMn/yF6cyfq431IoVrDhBBiPPgTWapnYBBC8sYY4z4DN2nixX3d69eJ6NJlBW7cKLzfSSoBRAyRKj+/v/zSXa8+6/A2hAQHP6VNmERyEybswOzZ+3HixB3s23cDrVsvwtatF7QdlqRCQsTnUKpVE++xRggpOG0uNt0AIABoruoLhJy/BJ2R0+tJ3fJ75BNPnrxBcrJiSS5CPsX7oN2smTf27BmFEiWKcF+7detFfP31dmRmZmkqPKPBW2zifaghhBBieHiTbg8evEJCQqrE0eiXCxceYsmSowgMvICUlHRth0N03OPHrxEbm6xwXC43wYYNAzB2LP9jbFxcMrp1W4VLlx4VOI7XrxMQFRWrcFwQBFSt6lbg6xOiLXktNo0a1QydOvlKFE3h8PZ2gVxuonA8Li4ZERGv83XNoKAITJu2B5Mn70JYWFRBQyRG4vHjGOzeHfTRsaysbHzzzR+YN++g0Sx+0mYNQqSnzcWmfe+/txAEoYGKrxkPoNz7/72n8EMyLvHxKfjii2WIjo7TdihEx/H6NdWs6YEKFUpi797RcHNz4L5+z54gDBmyGWlpmRqK0PClpmZwS7Lo024/QgghBVO8eBG4uirecxljCA0V/0BNgF9//QdduqzA/PmHMHnyH2jQYC79/0WU4pXQq1LFDRYWZvjmm1b47ru23NcnJaXhyy/X4NSpuwWKgzdR5ulZHDY2FqJjhOgD3v0MAPz9K2Hy5NYSR1RwcrkpKlcWL94THKz+PWfHjsvo2HEZNmw4i8DAiwgI+KXAf1OIcTh//gF3QWnp0mMYNWqrUczPUHUYQqSnzcWmQAAR72PYJwgC90lCEAQbQRBmA5iPnKymG4yxA5JEaeBu3YpCmzaL6cM24UpPz+TW9q1ZszQAwMOjGPbuHY2yZZ241/nnn5vo1289kpNpJ3F+3L79HBkZitlhRYtaw929qBYiIoQQoi3Ut0k9UVGxWLr02EfHoqPj0LHjcvz77y0tRUV0XVCQeGZ/7vMvAIwc2Qxz5nTmXiM1NQN9+67H4cOh+Y6DP1FGu7KJ/hs0qKHCsfLlS2DFit5625O2sMrdXr/+BJMn/4HMzI9L0k+fvtdoslJI/l27FqF0fO/e6+jVaw3i41OkCUgLEhJS8ehRjOgYZTYRojlau3szxjIAdAOQDMAewH5BEO4AGJd7jiAIvwmCcBRANIApyIn3HYCe0kdsuF68iEfHjssL9CGIGK7bt5+L7nixs7NEuXL/X1xydXXA3r2jUamSC/dap0/fQ69ea6jMTz4o25FDtYYJIcS4UANy9Zw6dVd0w0ZKSjoGDNiItWtP0cQdUcArI/3hYhMA9O/fAIsW9YRMJv48lpGRhSFDNmP37mv5ioOX2eTjQxNlRP/17Vsfgwc3hKlpztSUv38l/PHHCNja6m/WXmFsCHn7NglDhmwSvXc9fPiKO4FOSK68FpuAnPLCHTosQWTkW80HpAU3b0aKPt+5ujqgWDFbLUREiHHQ6lYRxtg1AAEAopDTv6kigM+Rk70EAH0ANAVg/X78CYDGjLEH0kdr2FJS0jFo0CasWHGcPmyTj/BK6NWoURoy2cd/QpycbPHHHyOU9hC6fDkc3buvQmxsUmGGafAo/ZsQQkguymxSz9WrEdwxxhh++GEfpk7dTf0lyX+Sk9O55Yv9/DwUjnXvXhurVvX5b8L8U1lZ2RgzZjsCA9VrzM4Y4y420TMgMQQWFmaYObMj7t79CY8fL8DmzYNQvDi/H7A+qF69tOjxW7eiRBePPpWdnY0xY7bh+XN+u4PTp6mUHuF78yYR4eGqLUjev/8SbdsaZrUjygwmRDu0npfMGLsIoBKAiQCCkbPQJHzydRvAZACVGWMhWgrV4DHGMGfOAYwfvwPp6YZfu5WoRtVdnbkcHKyxc+dw1K1bTnQcyLnpt2u3BA8evCyUGI0B70FJ2cIeIYQQw+Tj4y6aRREdHYcXL+K1EJFuu3btcZ7nbN58Hn36rMe7d4ZbToao7ubNZ8jKylY4Xry4LbfHTLt21bFx4wCYm5uKjjPGMHnyH5g162/Ra4uJjo5HTEyCwnFTU5nSagKE6BsrK3OYm5saRMWGsmWLoUgRxcys1NQM3L0bnefrly07jhMn7ig95/Tpe/mOjxg+VbKaPvTqVQI6dVqe58+dvqHMYEK0Q+uLTQDAGEtkjC1kjNUEUBRAVQANAFQH4MQYq8IYW8AYS9ZqoEZi584r6NlzNd6+pcwTwl9s8vUVX2wCABsbCwQGDkGTJl7cc8LDY9C27WIcOxZW4BgN3bt3KXj48JXoGO1qJYQQ42NtbY6KFUuKjlF208fU2d176tRddOiwFM+eGWY5GaI6fr8mD6WT4f7+lREYOARWVnLuOatWnUSfPusQF5f3R9uQEPHf54oVnWFpyX8PQoj2yGQyVKuWv3K3Z8/ex4IFh/N8jwsXHtIGYcLF22RjYWHGfU1ycjr69l2PbdsuaiosyfHuoTSHQohm6cRi04cYY+8YY2GMsQuMsVDG2Bttx2SoeHXFAeDixUdo334JHj0Sn+AmxuH16wQ8eSL+K1ijBn+xCQCsrOTYuHEgWrf24Z6TkJCKvn03YNmyY1S+UQnejhx396JwdLSROBpCCCG6gPo2qebq1byzmj50794LtGmziLvZhhgHdTP7P9SgQXn8/vsw0cyGXCdP3kXbtovzzPLnPQNSY3NCdFt+yt1GR8dh5MhAZGfn/bk4OTmd7lOEi5fZNGNGB/Tr14D7uqysbEyatAvz5x/S+/mZN28S8fSp+OYhymwiRLN0brGJSKdsWSc4OfGb4oWHx6BduyU4f55aZBkr3gOsp2dx2Ntb5fl6c3NTrF7dB126+HHPYYxh7tyDGD48EMnJafmO1ZBRvyZCCCGf4k9k0eTTh9QtJQMAr18nokuXFThwILjwAyI6jzHG7VmqLLP/Q7VqlcGuXSPg4GDNPSc8PAZt2izCkSO3uOdQvwlC9BMvs4mXaZGRkYXhw7fg9etEld+DSukRMenpmdyNCp99VhZz5nTC9OntlV5jyZKjGDNmm15nz928GSl6vGxZJ9jZWUocDSHGhRabjJiVlRwHD45TWu87Li4ZPXuuxvbtlySMjOgK/q5OD5WvYWpqgsWLe2LgwM+Vnvf33zfQocMyREZS6ZpP0WITIYSQT/EakIeEPEN2tmr9YIwBL7Np+vT2aNiwAvd1qakZGDJkM2VfG6Hnz+Pw8uU7heMymaBWRpGPjzv27h0Fd/ei3HMSE9PQv/9GLF16VOHnjDGG0FDxyTLalU2IbuNtCLl37wWSkhQ3WM6dexBXrqiXiUuLTUTM7dvPkZqaoXDc1tYCFSqUgCAIGDasCVav7gO53IR7nd27g9Cr1xrEx+tnL0veHAplBhOieRpfbBIEoWHuF+94fr80HbsxcHNzwF9/jYa/fyXuOZmZ2Zg4cadazWyJYchPvyYxMpkMs2Z1woIF3WFmxn+gCQuLQsuWC3Hx4kO1rm/ogoPFdybxPsQQQggxfBUrlhStvZ+QkIpHj1TrUWTo0tIyERoqfg9t2tQbgYFD0Lt3XaXXmDv3ICZM2KnXu3uJenjPv97eLrCyMlfrWhUqlMShQ+NQv74n9xzGGObNO4RhwzZ/lOX/5Mkb0b5O5uam8PJyVisOQoi0Spa0g7OzncLx7GymkHFx+HAoVq8+KXodmUzAnDmdRcdCQp5Rn22igNevydfXAzLZ/6eA27evgZ07hyutWHP+/EN88cVSREbGFnqcmsabQ6ENu4RonhSZTacAnARwgnM8v1+fXo/kk42NBX77bSCGDGmk9LxVq05i0KDfRHfiEMOTlZXNrSmtSr16Mb161cGff45UWr7x7dskdO++Cps2naOdxABevIhHdHScwnGZTEDVqm5aiIgQQoguMDMz4d4HqG9Tjps3I5GWprhIZG9vBU/P4jAzM8G8eV0xY0YHCAK/l+mOHZfRq9ca0Yl/YngKa7NVLkdHG2zfPizPLP/9+0PQvv1SPHuWk+XPK4NUqZIL5HLTfMVCCJEOb1L7w8/YERGvMXbs79xrTJrUCv361Yezs73CGGMM587dL3igxKBcvRohetzPz0Ph2GeflcO+fWOUZuDeu/cC7dotzldZYm3ibTaizGBCNE+qMnrC+y/e8fx+kUJiYiLDDz98gfnzu8LEhP9j8e+/t/DFF8vw/Lni5DcxLLwUfysrOSpWLJnv69aqVQaHD49Xmr6cmZmNqVN345tvdhn9TmLehGGFCiVhba3e7lpCCCGGJT8NyI0Jr4Ser2/p/3b3CoKAoUMbY/36/rC0lHOvdf78Q7RtuxiPH1PWmKHj9WvK72YrIGdxeNasTvj11x5Kyxbdvv0cLVsuxIULD5WUAKJd2YToA95iU3BwzoJ2Sko6Bg/ehISEVNHzmjb1xujRzSAIAho1qih6zpkztNhEPsZbFBJbbAKA8uVL4MCBsUrnZ16+fIeOHZdh2bJjelGq+cWLeLx4Ea9wPGfDrqsWIiLEuEixJWqmmseJFvXuXQ+lSztiyJBNePdO/KEnLCwKbdoswqZNA+nDjgG7fj1C9Hj16qVgasr/kKwKFxd77NkzCt98swu7dwdxz9u27RLu3XuB9ev7o3jxIgV6T33F29VK6d+EEEL4E1m02ATwS8nUqlVG4VirVlWxd+8o9O27XrRfDwCEh8egbdslWLr0SzRrxi9BTfRXenomt6m4Oj1LeXr2/Azly5fAoEEb8epVgug5sbE5Wf5Fi1qLjlO/CUL0Q40a4gvUuRtCpk3bi7CwKNFzXF0dsHRpr/82RjRqVBE7dlxWOO/06XtgjCnNziXGIyoqllsVhffzCABOTrbYvXskhg3bgmPHbouek5WVjblzD+LChYdYurSX0mo12sZ7Dq5YsaTa5XAJIerTeGYTY2xm7hfveH6/NB27sWrYsCL27x+L0qUduee8fPkO7dsvxapVJ/ViZwNRX1CQeAmRguzq/JClpRxLl/bCjBkdIJPxH46vXYtAq1YLERJinBNnN26I/3eoXp0mGgghxNjxMpvCwqJEy8cZE8YYN7PJz09xsQnIKa1y8OA4VKrkwr1ubGwSevdeh++/3yPagJvoN97vjr29FcqWLVYo7+Hn54HDh8cr3TiUlZWNmBjxxSh6BiREP/j4uIkuAkVGxmLlyhPYvv2S6OvMzEywdm3fjxacGzQoL3qtqKhY6tNI/sPLavLycoatrYXS11pZmWPjxgHo27e+0vNOn76HgIAFOHtWd7PqqIQeIdolVRk9omdyU2k/+6ws95yMjCzMmvU3evRYLbp7gug3Xr36wlpsAv5fumbbtqFKG1NGR8ejY8fl2L37WqG9tz5gjFFmEyGEEK5SpRxFsx8yMrK4u6WNxZMnb/D6daLCcRMTmdJ7qIuLPf76azT8/ZVnLm3ceBatWy/C3bvRBY6V6A7eZqsaNUp91Fi9oJydc7L8u3TxU+t1lpZyeHqWKLQ4CCGaU6SIJcqVcxIdmz17P/d1P/zwhUIWiqOjDbf81+nTd/MfJDEo6mR0izE1NcFPP3XGd9+1VXreq1cJ6NFjNebPP4TMzCy149S04GCaQyFEm2ixiXA5Otpgx47h6NatltLzzp17AH//BTh4MESiyIimxcen4MGDl6JjhbnYlKtRo4o4eHAsKlTgf3hOTc3A6NHbMGPGXqPZSfz48WvEx6coHDc3N4W3N3/XNSGEEOMgCIKSvk3ik+bGgpfVVKWKK6ys+L2ZAMDGxgK//TYQgwY1VHre3bvRaNVqITZuPAvGWL5jJbpDis1WuSwszLBkyZf44QflWf4fqlrVVWl/XUKIbuHdo3k6dKiBfv3EM0saNfISPU59m0gudfs1iREEASNHNsNvvw1UuiGYMYYlS46iS5cViIqKVTNSzcnZsCteFYcygwmRBj2pEqXMzU2xaFFPTJnSRul5sbHJGDx4E8aP34GkpDRpgiMaw5ugcncvqrHeSWXKOOHAgbFo2bKq0vPWrTuDli1/5aZGGxJereEqVVxhZlawvlmEEEIMA/VtElfQ3b0mJjL8+GNHzJnTWelCQFpaJr7/fg/69l2P16/Fy54R/cHrWerr66GR9xMEAUOG5J3ln4t2ZROiX6pXV32h2tOzOBYs6Mbtv9SoUUXR4xcuPER6unGXziVAcnIabt0Sz2pXZ7EpV4sWVXD06MQ8n5uuXHmM5s1/wb//3lL7PTTh2bO3iI1NVjhuZmYCLy/asEuIFGixieRJEASMHu2Pdev6wcZGeTO9HTsuo3nzX4x+N62+k3JX54dsbCywfn0/jB/fQul59++/RJs2i7FgwWGDfrDmTRTSRAMhhJBceTUgN1ZXr0aIHld1sSlX//4N8McfI+DsbK/0vGPHbqNZswU4efKOWtcnuiMmJgFPn74VHdP0s5cqWf4A9ZsgRN+omtlkaSl/P9/C76vj6+shmpmblJTG/fxOjEdIyDNkZSn2Uy9WzAalSvH7sSvj6uqA3btH4uuvA7iLoEDO5vP+/Tdg+vS9Wu8ZyptDqVTJBebmphJHQ4hx0vhikyAIJzT0dVzTsZOPtWlTDceOTcpzV8Tjx6/Rvv1SLF58RPRmR3Qf72HV11ezi00AIJPJMHFiS6xf319pmZusrGwsWnQEbdosxp07zzUelzbwJgppsYkQQkiuatXEJ5/Dw2MQF6e4s9MYxMen4N69F6Jj+dndW7euJ44fn4R27aopPS8mJgG9eq01qpK/hoT3/OvpWVylrKOCys3yb9Giiui4TCagdm1+P11CiO7x9naBXJ53RYr587ugYkVnpeeYm5uiXj1P0bHTp+/lKz5iOPgl9MooXSjKi6mpCSZPbo3ffx8KJydbpeeuX38G7dsvwePHMfl+v4Kifk2EaJ8UmU2NATQq5K/G77+IxEqVcsSePaMwaVIrpfXCs7Ky8fPPh9G583I8eya+Q5DoJsaYkswmD8niaN3aB/v3f41SpYoqPS8sLAotWy7E0qVHdbI5ZX4pa+5OD0qEEEJyOTraoHRp8R2rISGGX3JWzPXrEaI9lNzcHPLMUOKxt7fC6tV9sXBhjzx7Pq1bdwZt2y7G/fviC15EN+nC86+NjQU2bOiPceOaK4x16VILbm4OksVCCCk4c3NTVK7sqvSc3r3roksX5X2yczVsWEH0OC02kcLo16RMw4YVcezYJG45x1w3b0aiRYtfsXfv9UJ5X3Xx2i1QZjAh0pGqjJ5QyF9Ei0xNTTBuXHP89ddoeHgUU3rulSuP4e+/AHv2BEkUHSko3k5oudwkzwflwubt7YJDh8ajVSvlfZwyMrIwb94hdOiwFA8evJQoOs26ezdadFd0kSIWKFNG+e8dIYQQ40J9mz7GK6Hn56deCb1PCYKAHj0+w5EjE7kZZblu336Oli0XYvPm86ILX0T38Ps1aT6z/0MymQyTJrXCnj2j0KJFFTRoUB5TprTBL790kzQOQkjhqFaNv1GwalU3zJzZUeVrNWrkJXo8JOQZYmOT1I6NGAbGmMYXmwDAyckW27YNwdSpbZVuPk9MTMPIkYEYP34HkpOl6+menZ3NXWyqXp0WmwiRisYXmxhjMg195Z2LTDTK19cDR45MQPfutZWel5CQilGjtmLkyEDEx6dIFB3JL96uzqpV3bVS47ZoUWusX98fy5d/BTs7S6Xn3rjxFC1a/Io1a07pfQlH3gRhtWqlIJNRuz1CCCH/x+sJERQUIW0gOuLatceix9Xt18RTtqwT9u0bg1GjmiktTZOamoEpU/5E//4b8eZNYqG8N9GMrKxsbvliTfcs5alTpxx++20gdu0agdGj/WFqSh9/CdFHvMl+OztLrFvXDxYWZipfy9OzuGiGLmMM5849yG+IRM+Fh8eILjaamZkUekaPTCbDqFHNsGfPKLi6Ks+23bHjMho3no9//71VqDHwPHoUg8RExcUtS0s5ypdX3hOREFJ4aMaSFIiNjQUWLeqJtWv75lnLfO/e6/D3X4BLlx5JFB3JD232a+IRBAGdOvnixIlv0LSpt9JzU1MzMHPmPnTuvBwREa8lirDw8RabVG0ySwghxHjwMpvOnXuApCTpdpTqgszMLO6zTGHu7pXLTTF1alvs2jUczs52Ss89cuQWmjX7GYcOhVKWk466d+8FkpPTFY5bWclRsWJJLURECDEUrVpVRbFiNgrHFy/+EqVKiZfB5REEgVvGjErpGS9eVpOPj5tai5nqqFWrDI4cmYCWLZVXoYmMjEX//hvQt+96jbfYCAkRn0OpUsWVNmwQIiFabCKFom3b6jh2bBLq1xdvWJkrKioWnTotx9ix2/HyZbxE0RF18HZBa2tX54ecne0RGDgYv/zSHTY25krPvXLlMZo1W4BNm84hO1v/spyUZTYRQgghH/LxcRftI5SamoFjx25rISLtuX37ueiigbW1Oby9lTdfz4/69cvj2LFJaN3aR+l5r14lYNCg39Cjx2qDKflrSHgl9KpXL0UTVISQArG0lGPXrhGoXr0UZDIBpUs7YsOGAWjRokq+rqesbxNtaDBOvIzugpYPzouDgzU2bOiP2bM7QS5Xfq88ejQMjRrNw9KlR5GWlqmReIKDqYQeIbqAFptIoXFxscfOncPx/fftYGam/Eaza9dVNGgwFytXnkB6umZuNER9yclpuHMnWnRMyubIygiCgC+/rIMTJ75BgwbllZ6bkpKOqVN3o0eP1YiM1OwumsKUnJyGe/fEm4pTZhMhhJBPWViYwd+/sujYwYMhEkejXbzdvTVqaG7RwMHBGuvW9cOCBd1haam46Pehs2fvo1mznzFz5j4kJKRqJB6ivqAg8Ww4XdhsRQjRf15ezjh0aBzCw3/GxYvf59mTWJnPP68gWsI1KioW4eExBQmT6Ckp+jXxCIKAAQM+x/79Y1G2rJPSc1NTMzBv3iH4+y/A2bP3Cz0WXmYTbdglRFo6s9gkCIJcEISGgiAMFQThW0EQpms7JqI+mUyGESOa4sCBsfD0LK703KSkNMyevR9Nm/6M48eNa9etrgoNjRTtdVSiRBG4uirWhtYmN7ei2LFjGObM6ZznxM65cw/QpMnPWLLkqOhuZ11z82YksrMVd6U5O9uhZEnlpXoIIYQYp3btqokeP3bstqTNmbXt6lXN9mviEQQBvXrVwb//TkDVqm5Kz83MzMaaNafQoMFP2Lnzil5mYBsaXulFWmwihBQmubzgPZAdHW1Qtaqr6BiV0jM+8fEp3I2qvr4eksVRtaob/vlnPLp08cvz3EePXqF791UYPnwLXrwonIpHGRlZCAt7LjpWrRplNhEiJa0vNgmCYCEIwk8AXgI4CWAlgDkAZoicO18QhPuCIByXOEyippwbzQT07Vs/z3PDw2PQu/c69O69Fo8evZIgOsKjrISesgbY2iKTydC/fwMcOzYxz0mkpKQ0zJ9/CJ9//hN27boiuqimK3gNqmlHDiGEEJ4mTbxFN1+kpmbg+PE7WohIO3i7ezW92JTL07M49u//GiNGNM3z2SkmJgHjxv2ODh2WcnfjEs2Lj0/hljaUcqKOEEJU1aiRl+hxWmwyPrwysO7uRSXfqGpjY4GlS3shMHAwSpfOux/Zvn030LDhXKxffxqZmVkFeu97914gNTVD4XiRIhYoU6ZYga5NCFGPVhebBEEoAeAqgMkA7AAIH3yJ2QPAE0BjQRBqSxIkyTcrKznmzu2CzZsHwdFRsSHmp44fv4OmTX/GrFl/U1kRLdHXXZ1lyjhhz55RmD69PczNle8Wi46Ox9ixv6Nly4U4c0Y3H8Z5tYaphB4hhBAeKys5/P29RccOHAiWOBrteP48DlFRsQrHBUGQ9FlGLjfF99+3w86dw1Wa4AgKeoLWrRdj4sSdePMmUYIIyYdu3BB//i1VqiicnGwljoYQQvLWqFFF0eMXLjxERkbBJu2Jfrl6NUL0uBQl9HiaNauEEye+wbhxzfPs5ZSYmIbp0/9Cy5YLuRuGVMHbtOPj4w6ZTOt5FoQYFa39xgk5W/3+AlAZOYtLZwEMBfAj7zWMscsAcmtjtNZ0jKRwBARUxpkz36J//waQyZTv8MzIyMKqVSeprIgWMMa4mU36sKvTxESGYcOa4MiRiahePe9FmbCwKPTosRpffbUWd++K96nSluBg8UkPSv8mhBCiTNu21UWPHzt2Ry/KyBYUr0G2l1dJFCliKXE0QIMG5XHixGRMmdIGVlbKS/4yxrB9+yXUrz8H69efKfAOX6I6/mYrD2kDIYQQFfn6eohmMyclpXEzXYhh0tU5HEtLOSZNaoUTJyZzF0c/dPv2c7RvvwQTJ+7E27dJar9fSIj4hl2aQyFEetpc3u0J4DMADMAcxlgjxtg6ADfyeN1x5CxO1dVwfKQQOThYY86czjh6dCLq1/fM8/zcsiLt2i3hfgAkhSsqKhavXiUoHDcxkcHHR3nvAV1SvnwJ/P33GHz7bWuYmeXdCPzEiTvw91+ASZN24uXLwqkXXBBv3iTi6dO3omNURo8QQogyzZp5w8LCTOF4Sko6Tpww/P6Y2urXpIy5uSlGj/bHmTNT8MUXNfM8/927VEyfvhfNm/+K8+cfSBAh0dfMfkKI8TI3N0W9euVEx6iUnvHIysrm3sO0mdn0obJlnbB9+1CsWdMXzs55l/Xbvv0SPv/8J2zadA5paZkqv09wsHhmkyobkQkhhUubi03d338PYoxNU+N1N99/Fy9SS3Sat7cLdu0agXXr+sHNzSHP82/ceIq2bRdj7NjtOrEQYMhf7zHcAAAgAElEQVSCgsQfUry9nWFlZS5xNAVjamqCMWMC8O+/E9C4cd5/KrKzGbZtu4T69X/Cr7/+o9VG6rwdOeXKFYednfS7sgkhhOgPKytz+PtXEh07cCBU4mikx1ts0oUJFxcXe6xc2Rt79oxCpUoueZ5/9240unZdiaFDN+HZM/FNKKTgGGPciTpfX1psIoToLl62CC02GY+7d6ORlKQ4d2FpKVfpWUMqgiCgXbvqOH36Wwwd2hgmJsqnomNjkzF16m7UqzcbGzeeFe3F9KHU1AxutRrasEuI9LS52OSLnKymHWq+Lub9d+rwpqcEQUCbNtVw+vS3mDixpegO3E/t2nUVDRrMxezZ+2nRSUN46fbaTr8uCC8vZ2zfPhTbtw9V6WErOTkdv/76L+rX/wnbt19CVpb0ZRx5fQOqV6f0b0IIIXlr27aa6PFjx8KQkmK4pfSSk9MQFvZcdEybmU2fqlOnHP75Zzx++qkz7O2t8jx///4Q1K8/B2PHbseDBy8liNC4hIfHIC4uWeG4ubkpKld21UJEhBCimkaNxDdVBgc/Q2ys+mXIiP7h9TiqWbMUTE3zrvIiNRsbC8yY0QFHjkxQ6dksOjoe33+/B/Xq5ZQY5j3H3r79HJmZinM3jo42cHW1L3DchBD1aHOxKXexSN0aabkFzKnDm56ztJRj/PgWOHNmCtq3r5Hn+UlJaVi58gTq1JmNyZN3ISLitQRRGg9DLiHSuLEX/v13AhYu7IGSJfNO3X758h0mTtyJgIBfcPLkHTDGJIgyB6V/E0IIKYhmzSqJbuRJTk7HyZN3tRCRNG7ceCq6ScTJyRalSjlqISI+U1MT9OvXAGfPTkHv3nWR08qWLzMzG7t2XUXjxvMxePBvCA0Vz4Im6uM9/1ap4ga53FTiaAghRHWensVFy5IxxnDuHJVhNQa8XpV+frqzyUaMt7cL9u4dhUWLeqJoUes8z3/xIh7Tp+9F3bqzsXbtKYU+pPw5FPc8n7EIIYVPmws2uVst8t7S9zHn99+pnoSBcHNzwOrVfbB790iVsk/S0jIRGHgRDRr8hBEjAhEWFiVBlIYtLS0TN29Gio4ZwmITkNN7qkePz3Du3BRMmtQqz0bdQE5aeq9ea9G69SLs3XsdGRmabdbNGENwsPgEEi02EUIIUYW1tTmaNvUWHdu/P1jiaKTD291bq1YZnZ1ocHS0wfz53XD48DiVSv0xxnDwYChatlyIL79cg0uXHmk+SANHJfQIIfpKEAQ0bCheSu/MGSqlZwx4zz66UD44LzKZDN2711Z54w0AvHqVgB9+2Ic6dWZh1aqT/7U/CAkRX2yiEnqEaIc2F5ty/xqI1/rga/j+O909DUzdup74998JmDevCxwc8l6DzM5m+Ouv6wgI+AW9e6/F5cvhEkRpmMLCopCerriQYm9vhbJlnbQQkeZYWZlj3LjmuHDhO3z1VV3IZHk/1ISEPMPIkYGoW3c2Vq06iXfvUjQSW2RkLN68SVQ4bmoqo1IuhBBCVMYrpXf0qOGW0tPlfk158fFxx759Y7BsWS+UKFFEpdecOnUXnTotxxdfLMWJE9JmYRuSoKAI0eOGstmKEGLYlPVtovuCYXv16h2ePHkjOqZP9zAHB2vMn98N+/d/jWrVVGsd8Pp1ImbN+hu1a8/CsmXHuP3HVb0eIaRwaXOx6QQAAUAPQRAsVHmBIAieANojp9fTcQ3GRrTExESGPn3q49y5qejfv0GejQNzHT9+Bx07LkOHDktx7FgYPVipidevqWbN0jq7G7igihcvgp9/7objxydxm6l/6vnzOMya9Td8fWdixoy9ePpU/OEuv3jp35UquajU24wQQggBgICAytxSeqdOGd5+rezsbO6igS71a1JGEAR07uyHs2enYPjwJjAzU63XwpUrj/HVV2vRvPmv2L8/WCv9JvVVcnIa7twRbyhes6aHtMEQQkg+fP55BdHP65GRsQgPjxF5BTEUvOee8uVLwMEh79J0uqZmzdI4dGgcNm8epPIi0du3SZg79yD3Z52qwxCiHdpcbNoAIBs5ZfFW53WyIAglAPwJwBRAGoD1Go2OaJWDgzXmzOmMo0cnomXLqiq/7urVx+jTZz0CAn7B3r3XkZmp2bJnhoK3E8TX10PaQLSgYkVnbNkyGDt3Dlc5eygpKQ3r1p1BvXpzMHToJu6Dnrpu3KB+TYQQQgrO2tocTZqINw4/cMDwSuk9ePAS8fGKWcfm5qaoWtVNCxHln42NBaZNa48zZ75F7951IZertugUFhaFoUM3o1Gjedix4zLS0zM1HKn+Cw2NFF2cK1GiCDUUJ4ToBUdHG1StKv4Z9vRpw9tcQv7v6tUI0eP6kNHNIwgCAgIq49Chcdi6dUiBMrRcXOzh5GRbiNERQlSltcUmxthtACuQk93UWxCEi4IgdAfwX9MeQRBKCYJQXxCEmQBuAaiKnKym2Yyxl9qIm0jLy8sZGzcOwKlTk9G1qx9MTVX7kb19+zlGjgzE55/PxZYt5/+r5UrE8erV61P6dUF9/nkF/PvveCxZ8iWcnVWbYMjOZti/PwTt2i1Bu3ZLcPBgSIF2FPMbW9JiEyGEEPW0bVtd9PjRo2FITc2QOBrN4vUsqFbNHXK5qbTBFJLSpYth/vxuuHRpGoYObaxSr0kACA+PwfjxO1Cv3hysWXNKtDwvyaGshJ6hZvYTQgwPv2/TfYkjIVK6do1XPlg/MrqVEQQBTZt6Y//+r7F9+9B8LaDRHAoh2qPNzCYAGA/gL+QsONUGsB3AcuQsKAHAYwBnAHwPwPH9eVsYYz9JHyrRpgoVSmLJkl64cOE7DBjwucolxZ48eYNvv/0T1avPwIQJO3D5cjiV2PvEq1fv8OzZW4XjgiCgRg3jukHLZDJ07VoL585NwQ8/dICbm4PKrw0KisDgwZtQv/4crF9/GomJqWq9d1ZWNkJDn4mOGdt/B0IIIQUXEFAJ5uaKCy2JiWk4dequFiLSHF6/Jn0poadMyZJ2mDGjA65cmY7x41vA3j7vvqZATunfmTP3oWbNHzBo0G84ejSMMv4/QZutCCGGgNe36fz5B8jIoL/7higtLRM3b0aKjulzZtOnBEFA48Ze2LdvDHbuHI7PPiur8mupXxMh2qPVxSbGWBZjrBOAcQBikLOYxPt6DWA0Y6y/lsIlOsDNrShmz+6Eq1en4+uvA1CkiErtvpCYmIbff7+Mjh2XoUGDn7BkyVFERcVqOFr9wPugXb58cRQpYilxNLrB0lKOIUMa48KF77B6dR+1FnuePn2L6dP/gp/fTEyZ8ieuXn2s0gLngwcvkZys2LTdykoOT88SasVPCCGE2NhYoHFjXim9EImj0SxeZpMh7O7NVbSoNSZObIkrV6Zh2rT2KF5ctdIwGRlZOHQoFH37roef30zMnr0fDx5QgQjGGDezyRjKSBNCDIefXxlYWipmvyYlpXF7MxP9dutWJNLSFMvl2ttboVw5Jy1EpFmCIODzzytgz55R+OOPEahXzzPP19BiEyHao+3MJgAAY2wJgNIAvgDwK4DdAI4hJ+tpBYBuADwYYyu0FiTRKY6ONpg8uTWuXp2B779vp/IHbgB4/Pg15s8/hNq1Z6FHj1XYsycIKSmKk/zGgr+r00PaQHSQqakJ2revgQMHxmLfvjFo3dpH5bIq796lYvPm8+jQYSnq1p2N+fMPKZ3c4ZXQq1bNHSYmOvGnmhBCiJ5p1068lN6RI7dEJyn00evXCdzG0Ia0uzeXjY0Fhg9vgkuXpmHevC5wdy+q8mtfvUrAypUn0KjRPLRrtwTbtl1CQoJ6mdiGIioqFq9eJSgcNzGRwcdHv/p8EUKMm7m5KerVKyc6Rn2bDBNvk42vb2nIZIY7dyAIAurXL48//xyJPXtGoUGD8qLnubk5oG7dvBekCCGaoTN/hRhjaYyxvxljkxhjXRljzRljnRhjoxljfzLGkrUdI9E9trYWGDGiKS5dmob587uidGlHlV/LGMOZM/cxatRWVK8+A998swvXrkUYXZk93mKTry+VEMklCAJq1SqD9ev74/z5qRg48HOVeycAOdlOS5YcRaNG8xAQ8AtWrTqJ6Oi4j87hLzZRCT1CCCH5ExBQmVtK7/Rpwyilx5twKVvWCY6ONtIGIyELCzP06VMf585NxbJlvVChgnpZ0EFBEZg0aSeqVZuOMWO24cKFh8jOzn/fSX0TFCT+/Ovt7QwrK3OJoyGEkILhldKjxSbDZMj9mlRVp0457No1An/9Nfqjn/+SJe2wenVfmJmZaDE6Qoybziw2EVIQFhZm6N27Hs6enYKVK3ujUiUXtV6fkJCKrVsvon37JWjYcB6WLTumsBhgiDIzs7iLHFSvXpyHRzHMmtUJ167NwHfftYWzs51arw8Li8KsWX/Dz+9HdO26Atu3X0J8fApu3BD/70D9mgghhOSXra0FGjUy7FJ6htyvSRVmZibo3NkPJ058gw0b+qtdNiY1NQN//nkNXbqsQL16c7Bw4b+IjFTs5WloeKWlqIQeIUQfNWwovtgUEvIMsbFJEkdDNIkxxn32McSM7rzUrl0Wv/8+DLduzcbx45Nw9ep0mssiRMsEY8viIDkEQQiqWbNmzaCgIG2HohGMMZw6dRfbtl3C0aNh+WqMKZMJqFOnHPz9K8HfvzI8PYtrIFLtCguLQkDALwrHra3NcffuT1S+TQUZGVnYvz8Ya9ac4jbpzIu5uSkyMrKQna349/jKlWlwc1O9RA4hhBDyod27r2H06G0Kx21tLRAaOks080mfdOiwVHTSZcGC7ujVq44WItKunF5ET7Bz52Xs23cDiYlp+bpOlSquCAiojObNK6NqVTeDK8vTrt1i0eymJUu+RNeutbQQESGE5B9jDH5+MxEdHa8wtnZtX7RtK15Wl+ifZ8/e4rPPZikcNzGR4e7dn2BtTdm5RKeo1oeCGBSd/XQpCIIrgKYAXAAkAbgD4DRjzDAKzBONEgQBTZp4o0kTb7x5k4i//rqOnTuv4NatKJWvkZ3NcOHCQ1y48BA//vg3ypZ1+m/hqXbtMpDLdfbXR2W8Eno1apSihSYVmZmZoFMnX3TsWBOXLj3CmjWncexYmOjCEQ+vb4ajow1cXR0KK1RCCCFGKCCgMuRyE6Snf7zxJiEhFWfO3ENAQGUtRVZwaWmZCA19JjpWu7ZxZDZ9ShAE+Pl5wM/PAzNnfoFDh0KxY8cVXLjwUK3r3LoVhVu3orBo0RGUKFEE/v6VEBBQGQ0aVFCrlLAuSkvL5G4Qot3QhBB9JAgCGjasiJ07ryiMnT59jxabDAgvq6lSJRdaaCKE6ATJZ8sFQWgBoBEAOwBPARxjjAV9MG4BYCmAfgA+LbL5XBCEkYyxvyUKlxgAR0cbDBzYEAMHNkRYWBT++OMqdu8Owps3iWpdJzw8BmvXnsbatadha2uBxo0rIiCgMpo08dbbngBBQRGix+mDtvoEQUDdup6oW9cTr169w99/38CePde5ZQpVUaNGKQgCbQQhhBCSf0WKWKJhw4o4duy2wtiBA8F6vdh082ak6IYNe3srlCvnpIWIdIuVlTm6dKmFLl1q4cmT19i58yp27bqC/7F353FyVWX+x79Pb9Xp9Jqts+97WLIQGISYQAiLEdwAZ3BMUOI2oqLgPv5AmREdkREdRkYQJIoSlCAGEQhLkC0EkhAkCWTrBJKQvTvV3em9z++Pqu70Vt23q2uvz/v1qldV3XvuvU+Hou699ZznnP37ezdU9MGDft1//1rdf/9a5eZma968ybrwwhm64ILpKi3t3XDCiWDz5n2dkq9S4HMzfjyfGwDJaf780Mkm5xz3lSki1FyV6TiEHoDEFLNkk5kNkPRnSed0WPVDM7vXObfMAme/VQpUNHV1Jhwh6SEz+2fn3EPRjRipaMaMEZoxY4S+850P6plntmrFinV6+uktamzs3YTIlZW1WrVqk1at2iQz05w5Y7RoUeCme+rUYUlzIRdqcmSSTX0zZEihli2br2XL5mvXrsNauXK9Hn54vcrKjvRqP72ddwEAgK5ceunMLpNNTzzxpurrG5O2Wru7OQtSbdi3vhozZpC+8Y1LdP31F+mFF7ZrxYp1+tvf3ghZXR1KbW2DVq/erNWrN0sKXKssWjRDixbN0CmnjEiKa+BQ8zXNnj0mKeIHgK7Mmze5y+V795arrOwIyfQU8dproa590rOiG0DiieWd5UOSzg2x7lNm9g9JJyQtDC7zS3pZ0lFJAyWdLalQgWqnO83saedc77rlAUE5OVm6+OJTdfHFp+rIkUo9/HBgmL0tW/b3el/OOb322m699tpu3XLLXzVyZIkWLJiqs84arzPPHK+RI0sS8sa1vLxaO3ce6nIdyabIGT9+sG644WJdf/1Fev31d/Twwxv0yCMbdfhwZY/b8t8BABAJF154irKzMzvNYen31+r557dp4cLpcYqsb0L/4DI2toEkkczMDM2fP0Xz509RRcUJPfLIRj3wwCvatKnr4Qh7smnTu9q06V3deuvjGjasSGefPTF4DTxOkyaVJmTSj85WAFLRwIH5OvXUkV0OE/rcc2+TbEoB1dV12rr1vS7XzZ07NrbBAEAIMUk2mdliBYbOc5KqJN0t6S1JgyR9QtJ0SddIqg9ucr+kf3POVbbZR76kOyVdJWmApE9K+kUs4kdqGzSoQJ/5zHwtW/Z+vfnmPj344Dr9+c8bez3MXou9e8v1u9+9rN/97mVJ0tChRZo7d5zOPHOc5s4dp+nThysrq+MIkbEXani3MWMGatCgghhHk/rMTLNmjdGsWWP0//7fZXrhhe16+OH1euyxf6i6uvPk3cOHF+vcc7vunQYAQG8UFfXT/PldD6W3atWmpEw2OedCVjbNnUvvXi+Ki/O0dOk5Wrr0HL311ntasWKdHn/8H9qz52hY+3vvveNauXK9Vq4MjJBeUpKnM84IXAOfddYEnXbayISoogs1ZynJJgDJbv78KSGTTZ/6VKi+30gWr7/+jpqaOo/KM3RoEXM9A0gY5pz3SezDPojZbxVIKtVIOtM5t7nNOp+kNZLODC7aKWm6c67TmA5mliVpi6QJkh53zi2Ocugpy8zWz549e/b69et7bpyGmpqa9frr7+ipp7Zo9erNYVU8hdK/v09z5owJJqDGa/bsMXGZyPHWWx/Xbbc90Wn5Rz4yW3fc8cmYx5OuTpyo1+rVm7Vy5XqtWfOWGhqaNHlyqX75yyWaNm14vMMDAKSIBx9cp+uu+0On5UVF/bRp0w8SIgnQG7t3H9H73vefnZZnZWXorbduUV5eThyiSn7OOW3fflBPPhkYKm/9+t1qbo7M/WJubrZmzhzdWvk0Z85YFRb2i8i+vTp0yK+ZM2/sct3WrT9UUVFs4wGASHrxxe264or/7bS8f3+ftmz5T2Vnx7/TK8J3++2r9eMfP9Zp+eLFp+muuz4Vh4iAHiXeME+IuljdVZ6hQFXTH9ommiTJOVdnZv8p6S/BNg90lWgKtm00swck/bukU6McM9JYZmaG5swZqzlzxuqb3/yA9u0r19NPBxJPL7ywvdfj27dVXV2nv/99m/7+922tx5oxY7jOPHO8zjhjrGbMGKGxYwcpMzO6w47QqzMx5OXl6EMfmqUPfWiWGhqaVFFxQoMHU1kGAIisUEPpHT9eoxde2K7zz58Wp8jCE6qq6ZRTRpJo6gMz0+TJQzV58lBde+1CHT1apWee2arVqzdrzZq3VFXVuRrbq9raBq1du1Nr1+6UJGVkmKZNG64zzxynmTNHa/r04Zo0qTSqic9Q17+TJ5eSaAKQ9M44Y5z69ctRTU19u+XV1XXasGG3zjprQpwiQyQwXxOAZBCrZFNL9/y1Ida/3Ob1Wz3sq2X9gD5FBPTCiBElWrLkHC1Zco5OnKjTCy9s11NPbdFTT23RgQPH+7TvpqZmvfHGXr3xxl7dffffJUn9+uVo6tShmjZtuKZPDzymTRsesZvg5uZmbdzY9c028xzET3Z2JokmAEBUFBfnad68yXrmma2d1j366KaUSTZxHRNZAwfm64or5uqKK+aqrq5Ra9fu1OrVm/Xkk29q797yPu27udlp8+Z92rx5X+uy7OxMTZpU2nr9O336cM2YMUIDB+b39U+R1F1nq7ER2T8AxJPPl6Wzz57Q5bn+uee2kWxKYs3NzSHnHOTaB0AiiVWyqeXu4EiI9cfavO5popzq4DNdzxAXeXk+XXjhKbrwwlPknNObb+7T6tWb9dRTW0LOg9RbNTX12rjxHW3c2H5/I0aUaNq0YZoxY4SmTRumadOGa/z4wb2ugtq587COH6/ptDw3N5uh2wAASFEf/ODpXf4A9cQT/1BDwxVJNbzOa6/t7nI58zVFj8+Xpfnzp2j+/Cm6+eaP6O23DwQTT5u1YcMeRWJ49oaGJm3Zsr/TENalpYVtElAjNGNG4Bq4t/Oghko2zZlDZT+A1DB//pQuz/UPPrhOZtLEiaWaNKlUEyYMVr9+VAIni507D6ui4kSn5T5flk45ZWQcIgKArsUq2WQKDJHXeSY7Sc45Z8Ywjkg+ZqZTTx2pU08dqa997SIdOuTX2rU79eqrZVq3rkybN++L2Dj3krRvX7n27StvN8F3bm62pkwZqgkThmjs2EEaN26Qxo4NPAYM6K+u/t8KdaN96qmJMXEzAACIvIsuOkVZWRlqbGx/SV5efkIvvrhdCxZMjVNkvXP8eI3efvtAl+vo3RsbZqapU4dp6tRh+tKXLlBFxQmtX79br7yyS+vW7dLrr7+j+vqmnnfk0cGDfh086Nezz54cBMPny9KECUM0fvzg4DXwYI0bF7gWHjKksNM1cGNjU8iOYQwjDSBVzJ8/pcvl+/dX6L//+8nW92amUaNKNGlSqSZOLA0moYZo0qRSlZT0j1W48ChURfdpp42Sz8dvOAASB99IQAQNGVKoyy6bpcsumyVJqqqq1YYNe7RuXZnWrdulDRv26MSJ+h720ju1tQ3atOldbdr0bqd1hYW5wcTT4HZJqOef39blvrjRBgAgdZWU9Ne8eZPb/WDfYtWq15Mm2bRhw+4uq2hGjizRsGHFcYgIxcV5WrhwuhYunC7p5PXpunWB5NOrr5bJ76+N6DHr6hq7rIKSAkNStySeWhJRGRnW5XV4//4+TZ48NKKxAUC8TJpUqmHDivTee90P9++c0zvvHNM77xzT00+3r4QaNChfEyeWavz4wRo5skSjRg3QyJElGjlygIYOLYr6/NLoLFRFN51sACQakk1AFOXn5+r975+i978/0LuosTEwNEjLTfe6dWU6eNAfteP7/bWt80F5wRAiAACktsWLT+8y2fT44//Qj36UHEPpherdyxB6iSM3N1tnnTVeZ501XlJgrom33z4QrHwq0yuv7NJ771VE7fg1NfUhE1EdzZo1mh9OAaQMM9P73z9FK1asC3sfR45U6ciRKq1du7PTuqysDA0fXqyRI08moNompIYPL0mKa4lk89proeaq5NoHQGKJdbLJy3hikRtzDEgwWVmZOu20UTrttFFatmy+nHN6991jWrdul9av36PNm/dp69b3VF1dF5f4mBwZAIDUdvHFp+qb3/yjmpqSdyi90L17+cElUWVkZGjatOGaNm24rr76XDnntG9fudatK9Mbb7yrLVv2a/Pm/Sovr+55ZxFGZT+AVHP11efowQdfjchceh01Nja3VkR1JSPDVFpaqCFDCjV4cIFKSws1eHChhgwp0JAhhcFHgQYPLmDOKI/Ky6u1Y8ehLtdR2QQg0cQ62fTnHuZmMg9tgJRhZho9eqBGjx6oyy+fKynQ83Pv3nJt3rxfW7cGemRu3bpfZWVHohrLsGFFGj6coWcAAEhlAwb017nnTtJzz73dad1f/7op4ZNNjY1NIeeepLIpeZhZsDf8AH30o3MkBYZ0OnDgeGtF0ubN+7Vlyz7t2nU4onOgdkSyCUCqOf300frVr5bqhz98NOq/I3TU3Oz03nvHexzGT5IKCnLbJJ8CzwMG9FdJSX8VF+eppCRPJSX9W5/z8nK6nJM61YW67hk7dpAGDy6IcTQA0L14DKMX6szgPLTp2A5IORkZGa0JqEsuObV1eXV1nd56673WG/CtW/dr69b3VFkZmfHvudEGACA9fPCDM7tMNv3tb//QLbdcrqysxB3+ZsuW/SHn3Zk6lXl3kpmZadiwYg0bVtw695MknThRr23bDrQmn1qugyM1BxTXwABS0eLFp+sDHzhNhw75tWPHIW3ffrD1sXPnIU/JoGirrKxVZWWtdu7sumqno5ycTBUX5wUTUe2TUsXFecrPz1VBgU8FBf1UUJCr/HyfCgpyVVjYT/n5ufL5knMmEeZrApBMYvlN21P3A6/dE9KvGwOgwI8oc+aM1Zw5Y1uXtQzDt2vXYZWVHdHu3S3PR/TOO0dVX9/kef9XXfVPUYgaAAAkmosvPkXf+lbnofSOHavWSy/taJ1rMhGFmq9p9uwxCZ0kQ/jy8nI0c+ZozZw5unWZc07791do9+7Ade+uXYdbX5eVHVFtbYOnfV966ekaNIhe4QBSk5mptLRIpaVFOuecSe3WVVbWaseOQPKpbTJqz56jna4PEkV9fZMOHarUoUOVYW2fk5PZLhFVWNhP/fv7lJeX0+YReN+vX3br+379cjq0CTxyc3Pk82XJ58uKasVV6PmaxkbtmAAQrpgkm5xzzLgKREHbYfgWLGi/rqmpWe+9V9GafGp5bnm03IRnZmboK19ZlPDD5gAAgMgYODBf55wzUX//+7ZO6x59dFNCJ5vo3QspcA08YkSJRowo6fQDanNzsw4e9AeTUO07Y5WVHVFNTaAy7vzzp+nmmz8aj/ABIO4KCnI1a9YYzZrVvrqzvr5Ru3cf0c6dh/Tuu8e0d2956/Pevcd0/HhNnCLuu/r6Jh09WqWjR6sivu/c3Gz5fFmtzz5fdrtlbZf7fFnKyVraUR4AACAASURBVMlSTk6msrMDzzk5WcrOzpTPl6Xs7LavM7VhwztdHrNtR2QASBTJWUMKoEeZmRmtY+HPmze53bqWm/CKihMaNqxYxcV5cYoSAADEwwc/eHqXyabHHntDP/zhxxK2SihUZRPzNaFFRkZG63B8Z589sd0655yOHq1S//4+JqYHgC7k5GRp8uShmjy566FpKytrtXfvsXaJqH37TiakopHISQa1tQ2qrW2IWTIuMHzwsJgcCwB6g2QTkIba3oQDAID0c8klp+nb336oy6H0VqxYp0mTStXU1KzGxubgc1Ob1yeXNTU5NTWdXNfc7NTU1Pl1U5NTc3Nzm3Yty5ycc63tA4+Tr1uWO+fU0NCk/fsrOv0tZsa8O/DEzBg2DwD6oKAgV9OmDde0acO7XH/iRJ0OHvTr0KFKHT7sDw571/n9kSNVCTtcXzKYPXuMMjMZRApA4iHZBAAAAKSZgQPzdfbZE/TCC9s7rfv61x+MQ0ThmzZtmAoL+8U7DAAA0l5enk/jxg3WuHGDu23X1NSs8vLqNskovw4frlRFxQmVl59QeXl16+vAc7Xq6hpj9FckPoYPBpCoSDYBAAAAaejSS2d2mWxKNvzgAgBAcsnMzNCgQQUaNKhA06d3XSXVlnNONTX1wURU22RUtcrLT6iyslaVlTWqrKxTVVWt/P4aVVXVqbKyNvi+NqUqqRJ5fk0A6Y1kEwAAAJCGLrnkVH37239Sc7OLdyh9QrIJAIDUZmbKy/MpL8+nESNKer19IFnV0Jp4qqqqDSai6lRTU68TJ+p04kR9p0dg3cnnwCPQtq6uUXV1Daqvb4rCXxza+edP05lnMlclgMREsgkAAABIQ4MGFeiccybp+ee3xTuUsBUU5GrRolPiHQYAAEhggWRVjvLycjRkSGFE993U1NyaeKqtbWj3ura2/fLa2kByqr6+UQ0Njaqra1RDQ5MaGpqCrxtVX9+o+vrAspbX9fWN8vmydNZZ43XNNe+XmUX0bwCASCHZBAAAAKSpG264WC++uD0pq5v69/fp5z//hIqKmK8JAADER2ZmRmsiCwDSHckmAAAAIE3NnTtOK1deq1/96jnt3n1EmZkZysrKCD5ntnmdoczM9u9blmVmmrKyMpWRYcrMDKz38joz05SREVh28nHyfWZmhsys3fuMDJOZqaAgVzNnjlb//r54/xMCAAAAAESyCQAAAEhrZ545XmeeOT7eYQAAAAAAklhGvAMAAAAAAAAAAABA8iLZBAAAAAAAAAAAgLCRbAIAAAAAAAAAAEDYSDYBAAAAAAAAAAAgbCSbAAAAAAAAAAAAEDaSTQAAAAAAAAAAAAgbySYAAAAAAAAAAACEjWQTAAAAAAAAAAAAwkayCQAAAAAAAAAAAGEj2QQAAAAAAAAAAICwkWwCAAAAAAAAAABA2Eg2AQAAAAAAAAAAIGwkmwAAAAAAAAAAABA2kk0AAAAAAAAAAAAIG8kmAAAAAAAAAAAAhI1kEwAAAAAAAAAAAMJGsgkAAAAAAAAAAABhI9kEAAAAAAAAAACAsJFsAgAAAAAAAAAAQNhINgEAAAAAAAAAAHTBzK42Mxd8XB3veBJVVrwDAAAAAAAAAAAAiBUzGyvp6uDbNc65NfGKJVWQbAIAAAAAAAAAAOlkrKQb27xfE58wUgfJJgAAAAAAAAAAgC44534j6TdxDiPhMWcTAAAAAAAAAAAAwkayCQAAAAAAAAAAAGEj2ZQgzKzAzG4ys3+YWZWZHTezV83sejPLiXd8AAAAAAAAAAAkMzNbYGZO0rNtFt9oZq7jo802V7dZfnWI/basXxN8X2xm/25mrwd/6y83s5fM7F/NLKPDtqeb2T1mtt3MaszskJmtNLM5vfi7zjazX5rZFjOrMLNaM3vHzFaY2eLe/BuFizmbEoCZjVFgArKxwUUnJPkknRF8fMLMFjrnyuMSIAAAAAAAAAAA6JGZTZf0qKRxHVadHXycb2bXOOecmX1e0i/UPleTK+kjki41syucc3/u5lj9Jf1a0se7WD0q+LjSzP4q6V+cc5Xh/l09IdkUZ2aWJWmVAomm9yQtcc49FcxuXiHpLkmzJP1OUkwykAAAAAAAAAAApKA3FUjknCLp5uCyFZIeiND+iyQ9ImlMcL+rJVVJmi3pi5L6S/qUpOfNzC/pl5IOSrpH0j8USDRdLukDCuRv7jWzF51zhzseyMx8kp6S9E/BRTuDx9wqqUHSRElLJE1WILfwZzNb5JxrjtDf2g7JpvhbKunU4OuPOedelqTgf/AVwaTT7yV9IFjd9HSc4gQAAAAAAAAAIGk5544okHSpaLP4re6qh3pppqRaSRc5555qs3yFma2S9HdJJulGSfmS1kq6xDnXNp57zezXkj4tqViB5NR/dXGsH+lkouknkr7jnGts28DM/kvS3Qoknc6X9FlJd/bpLwyBOZvib2nw+dmWRFMHD0gqC75eEpuQAAAAAAAAAABAGL7fIdEkSXLOvaBApZMUqHzKl3Rlh0RTixsltcwbdVHHlWY2TNK/Bd+udM59o2OiKXjMBknLJO0KLvpab/6Q3iDZFEdmlifpnODbv3XVxjnnJD0efHthLOICAAAAAAAAAAC91qTuK4debPN6lXPu3a4aOef2StodfDu9iyZXSsoJvr61u4CCCacVwbeTzGxsd+3DxTB68TVNJxN+b3bTrmXdUDMb4Jw71t1OzWy9h2OfvnXrVs2ZM8dDUwAAAAAAAAAAerZhw4b7nXOfiHcccfJ2iEqlFgfbvF7Xw74OShonqaSLdfPavB5pZh/uYV9t9zFNJxNZEUOyKb6Gt3m9r5t2bdcNl9RtssmjppqamuMbNmzYHYF9AQAAAAAAAACQ7o72sL4ujLa+LtaNbfP6wR7201FXyas+I9kUXwVtXp/opl3bdQUhWwU55yhXAgAAAAAAAAAgtpqj1Lajoj5sm9Nzk94j2QQAAAAAAAAAAJA8qoLPTlKWc64viauIyOi5CaKoss3rvG7atV1XGbIVAAAAAAAAAABIdS1T75ikEfEMpAXJpvja3+Z1dx+Ituv2h2wFAAAAAAAAAAB60rYSyOIWRfiea/P6wrhF0QbJpvjaqpMf6lO6adey7oBz7lh0QwIAAAAAAAAAIKVVtXndP25RhO8BSfXB1980s7j/DSSb4sg5d0LSi8G3F3fVxsxM0kXBt0/GIi4AAAAAAAAAAFJYWZvXs+MWRZicc+9K+kXw7SRJq8xsaKj2ZpZhZheY2b9HK6asaO0Ynt0naZ6k88zsLOfcKx3WXyFpfPD18phGBgAAAAAAAABAinHOlZvZRkmzFPht/k5JT0uqbNPm8XjF59G3Jc2UtFDSeZJ2mdlDkl6WdFhSjqShkk6XtCj4+mlJ/xGNYEg2xd99kr4i6VRJD5nZUufc02aWIeljku4Ktvubc+7peAUJAAAAAAAAAEAK+a6kVZIyJX0u+Ggroedycs41mNkHJP1U0hck9ZP0r8FHKPuiFQ/JpjhzzjWa2WWSnpU0VtJTZnZCgSEOc4PNNkr6RHwiBAAAAAAAAAAgtTjn/mZm50j6sqSzFaj86RffqHrHOVcv6UtmdrukaxSocBovqUSBOZ0OStoq6QVJjzrn/hGtWMw5F619oxfMrEDSDZI+KmmcpGZJ2yT9QdIvgh8aAAAAAAAAAACAhEKyCQAAAAAAAAAAAGHLiHcAAAAAAAAAAAAASF4kmwAAAAAAAAAAABA2kk0AAAAAAAAAAAAIG8kmAAAAAAAAAAAAhI1kEwAAAAAAAAAAAMJGsgkAAAAAAAAAAABhI9kEAAAAAAAAAACAsJFsAgAAAAAAAAAAQNhINgEAAAAAAAAAACBsJJsAAAAAAAAAAAAQNpJNAAAAAAAAAAAACBvJJgAAAAAAAAAAAISNZBMAAAAAAAAAAADCRrIJAAAAAAAAAAAAYSPZBAAAAAAAAAAAgLCRbAIAAAAAAAAAAEDYSDYBAAAAAAAAAAAgbCSbAAAAAAAAAAAAEDaSTQAAAAAAAAAAAAgbySYAAAAAAAAAAACEjWQTAAAAAAAAAAAAwkayCQAAAAAAAAAAAGEj2QQAAAAAAAAAAICwkWwCAAAAAAAAAABA2Eg2AQAAAAAAAAAAIGwkmwAAAAAAAAAAABA2kk0AAAAAAAAAAAAIG8kmAAAAAAAAAAAAhI1kEwAAAAAAAAAAAMJGsgkAAAAAAAAAAABhI9kEAAAAAAAAAACAsJFsAgAAAAAAAAAAQNhINgEAAAAAAAAAACBsJJsAAAAAAAAAAAAQNpJNAAAAAAAAAAAACBvJpjRlZveb2f3xjgMAAAAAAAAAACS3rHgHgLiZOnv27NmSrop3IAAAAAAAAACAlGHxDgCxR2UTAAAAAAAAAAAAwkayCQAAAAAAAAAAAGEj2QQAAAAAAAAAAICwpXWyycwWmJkzMxeFfd8U3PeaSO8bAAAAAAAAAAAgUWTFOwB0zcw+LGmmpNedc3+OdzwAAAAAAAAAAABdSevKJkknJL0dfCSaD0u6MfgMAAAAAAAAAACQkNK6ssk5t07S1HjHAQDp4GDVQS3ftFyrtq1SeW25cjNzNbJwpHxZvh63rWus017/XtU21fZqu75sG+vtiDXxjkmsqXNMYvW2nSRNHjhZ33v/9zR1MJfIAFLP07ue1h3r7tCuil3KzshO6PNBPI5JrKlzzJbtmlyTJg6YqK+/7+uaO2Kup1gBAAiXORfx6YqgwJxNClQmPeecWxDG9r+RtFTSfc65qyMZW3D/62fPnj17/fr1kd41AHTy+zd+r2tWXaPaxtp4hwIA8ODyaZfrwSselJnFOxQA6LO6xjrNu3eeXt3/arxDAeLmgvEX6IlPPKGMjHQf5AhAjHAjkYZS9gxjZmvMzJnZTWaWbWbXm9lrZlYRXL4g+HBmFjLjZmanmtkKMztgZrVmtsvMfmFmQ7xs32Y/C83sr2Z2OLifrWZ2o5nldmi3ILi/pcFFS1uO0eaxoE//OAAQQy+9+5L+9eF/JdEEAEnkT1v/pM89+rl4hwEAEXHBby8g0YS099Sup3T5Hy+PdxgAgBSWssmmNnIlrZF0q6TTJTVL8lTOZWYfkbRe0pWSSiU1SBom6VpJr0sa63E/X5e0WtIlCgxdmKPA8H03SXrMzDLbNK+XdFBSy6+ytcH3bR/1Xo4LAIngi499Uc7b1y4AIIHcveFuldeUxzsMAOiTTQc26YV3Xoh3GEBCePith3Wo6lC8wwAApKh0mLPpi8HnT0la4ZyrMbOBCiScTgu1kZmNl/Q7SdmSNkj6rHNuvQXGElko6W5Jt3k4/umS5kn6kaTbnHNHzKxQ0vWS/p+k8xSoYrpHkpxzL0ka2mYYvRW9HUbPzLyMjcdA/ACi7ljNMb1+4PV4hwEACIOT02/f+K2+fNaX4x0KAITtv9f+d7xDABLKz175mX648IfxDgNt1NbWyu/3q7KyUg0NDWLKE8STmSk7O1sFBQUqLCxUbm5uzxsBQelQ2ZQv6Srn3G+cczWS5Jw76pw71sN235GUJ+mQpEXOufXBbZ1z7ilJFwXX96RY0s3Oue84544E9+F3zt0oaWWwzb/0+q8CgCTw1pG34h0CAKAPNh/aHO8QAKBPdhzbEe8QgISy9cjWeIeANqqqqrR7924dPXpU9fX1JJoQd8451dfX6+jRo9q9e7eqqqriHRKSSDpUNm12zq3qzQbB6qWPBd/+sqvElHPubTN7UNIne9hdnQJD+HXlEUkfVTcVVuFwzs3pqU2w+ml2JI8LAB0drz0e7xAAAH3QL7tfvEMAgD4x5icH2snJyIl3CAiqra3V3r175ZxTYWGhSkpKlJubq4yMdKgNQKJqbm5WbW2tysvL5ff7tXfvXo0bN04+ny/eoSEJpMO314thbDNegYokSXqum3ZrPOxrs3MuVAp4f/B5gMe4ACCp+Ov88Q4BANAHp5eeHu8QAKBPBuYNjHcIQEIZVzwu3iEgyO/3tyaahg8frry8vN4lmpYvl8wS87F8efT+4RBVGRkZysvL0/Dhw1VYWCjnnI4fpyMxvEmHZFM4Mx8ObvN6f8hW0j4P+6rsZl1j8DkdKswApKHjdVyQAEAya3JN8Q4BAPqktrE23iEACaW+uT7eISCosjLwk2FJSYkCgyz10lVXSRMnRjiqCJg4MRAbkpqZqaSkRNLJzyrQk3RINvX1DpnBUgEgTAyjBwDJje9xAMmOzk9Ae5zbE0dDQ4MkKTc3N7wdZGVJ3/teBCOKkO99LxAbkl7LZ7Plswr0hP/zu3a4zevhkraFaDciBrEAQNLyenP/sWkf0+XTLw+5vqq+Suv2rVNFbYWKc4t15ogzlZ+T72nf4W4b6+2INfGOSaypc0xi7exPW/6kh7Y+1OM++ZEWQLLz+sP6f13wXxpVNCrk+kT/XifWxI01Vsd8+d2X9fN1P+9xn5zbE4dzgf7tfZqj6aqrpJtvlnbsiFBUfURVU0ppqbhr+awCPbFU/bCY2RpJ8yV93zl3U4g2CyQ9K0nOOWuz3CQdU2Depu62Xy7pkx23D667SdKNkp5zzi3ozfGD6+6R9ClJy51zS0P+oWEys/WzZ8+evX79+kjvGgBafemxL+l/Xv2fHtvduuhWXf++62MQEQBAkm596VZ9ffXXe2z35TO/rNsvuT0GEQFAdIy4bYT2V3Y3On5A2VfKNLZ4bPQDAqLkse2PafHvF/fY7oLxF2j1J1fHICL0ZOvWrZKkadOm9W1Hy5dLSyP+02F47rtPWrIk3lEggvrwOQ1jbEgku3QYRq/XXCADtzL49vNmVtKxjZlNknRlFMPwB5+Lo3gMAIgqr73minKLohwJAKCtIp+37116PwNIdl4rm7x+LwKJyvO5nWH0Uk+izN1EVROQ9kg2hXaLpBpJpZKeNLNZUqDqyczOl/SEpBNRPP6bwed5ZjY1iscBgKjxnGzi5h4AYsprkp9kE4Bk1tjcqOqGak9tC32FUY4GiC7O7WksUeZuYq4mIO2RbArBObdD0hJJjZLOkLTBzPySqiQ9LSlH0teCzeuiEMJDCswdVSJpq5kdNrPdwcc/ReF4ABBxnnuSUtkEADFF72cA6cBf5++5kaT8nHxlZmRGORoguji3p7l4VzdR1QRAJJu65Zz7kwKJpj8qkPjxSToo6XZJsyS1nKEronDscknvl/SApH2SiiSNCT5yI308AIgGKpsAIDHR+xlAOmAIPaQTzu1pLt7VTVQ1AVAKJ5uccwucc+acu6mbNmuCbUJOWOac2+Scu9I5N8Q553POjXfOXeecO6xAIkqSNnex3U3BfS8I9/jOubecc//inBvpnMtpaeucWxNqnwCQSLz2JqWyCQBiy+sPq16/xwEgEXEtinSSn5MvU8ift1rVNtaqvqk+BhEh5uJV3URVUyszk5lpzZo1MT3u1VdfLTPT1VdfHdPjAh2lbLIp2sxssKRlwbePxzMWAEhU9CYFgMTkufczQ+0ASGJU2SOdZFiG57nH6EySouJV3URVU48qKip000036aabblJFRcQHyAISBsmmbpjZl83sW2Y20cyygst8ZvYBSX+XNESB4fXuiWecAJCInHPeb/DpTQoAMeV5XgeG2gGQxJg/FOmGziSIeXUTVU3tTJkyRVOmTFFeXl675RUVFfr+97+v73//+ySbkNJIO3dvvKSvSLpFUpOZHZdUqJP/bsclXemcOxqn+AAgYdU01qixubHHdpmWqX5Z/WIQEQCgRV52njItU02uqdt29U31qm2sVW4WU4YCSD5eE+Zeq0GAROf1s0xnkhTWUt20dGlsjkdVUztvvfVWvEMA4orKpu7dJ+k2Sa9JOiQpX1KNpDck/UTSDOZPAoCu9aYnqVnPY4sDACLHzLz/IEXvZwBJiiGdkW48Vy5zbk9tsapuoqoJQAckm7rhnNvonLveOTfXOTfcOedzzhU65053zn3DObcv3jECQKJijHwASGyeh9qh9zOAJMX1KNIN53ZIit3cTQlY1bRixQpdcsklKi0tVXZ2toqLizVp0iRddtlluuOOO1RbWytJuvTSS2VmuuGGGzrt47333pOZycx0xhlndHmcKVOmyMz061//ut3ylu3WrFnTumzBggUaN25c6/tx48a1tjMzLViwoNP+6+vrdffdd+viiy9WaWmpfD6fhg0bprPPPls/+MEPVFZW1u2/w5/+9CctWLBAAwYMUF5enmbOnKnbb79dzc3N3W4H9FVifSMAAFIGY+QDQGKj9zOAVMf1KNIN53a0uuoq6eabpR07orP/BKxq+vSnP61777239X1+fr4aGhq0Y8cO7dixQ6tWrdLixYs1duxYnXfeeXr00Uf1zDPPdNpP22UbN25URUWFiouLW5ft27dP27ZtkySdf/75PcY1YMAADRo0SEeOHJEkDRo0SJmZme3Wt1VWVqbLLrtMb775pqRAAqu4uFh+v19r167V2rVrdezYMf3sZz/r8njXXnut7rjjDmVkZKiwsFA1NTXatGmTrrvuOm3YsEH33XdfjzED4aKyCQAQFfQkBYDERu9nAKmO61GkG8/JJs7tqS/a1U0JVtX0wgsv6N5771VGRoZ+/OMf6+jRo6qsrFR1dbWOHDmiJ554QkuXLlVOTo4k6bzzzpMkbdq0SceOHWu3r2effVaSVFhYqObm5nZVSm3Xjxkzpl3FUigrV67Uq6++2vr+1Vdf1YEDB1ofK1eubF3n9/t10UUX6c0331RJSYl+9atfqby8XMeOHVN1dbV27typn/70pxozZkyXx/rLX/6iu+66S7fddpvKy8tVXl6uI0eOaNmyZZKk5cuXd5lgAyKFZBMAICroSQoAiY3ezwBSnedkE9ejSBGeO5Jwbk8P0Zq7KQGrml566SVJ0gUXXKBvfOMb7aqFBg4cqAsvvFC/+c1vNHz4cEnS6aefrgEDBnSZTGpJxlx33XXt3ndc35KwiqSf/OQn2r59u3w+n55++ml95jOfUVHRyf+vx48fr6997Wv66le/2uX25eXl+r//+z999atfVWFhYH7WgQMH6q677tKcOXMkSX/4wx8iHjfQgmQTACAq/HV+T+3oSQoA8eH1Bymv3+cAkGi4HkW6obIJ7USruinBqpoktQ5zd/jwYTU1NfXYPiMjQ/Pnz5fUPpm0Z88elZWVadKkSVqyZEmn9dLJyqZoJJvuueceSdKyZcs0a9asXm8/atQoLV26tMt1l112mSTpjTfeCD9AoAckmwAAUcGwJQCQ2PhBCkCqo9Ie6YaOJOgk0tVNCVjVJEkLFy5Ubm6uNm7cqHnz5unXv/61ysrKut2mZb6ltsmkltfnn3++JkyYoNGjR2vz5s06dOiQpMB8Srt375YU+WTTnj17tH//fknSpZdeGtY+5s6dKzPrcl1LVVfHYQOBSCLZBACICm7uASCxMYwegFRH5yekGzqSoJNIVzclYFWTJE2YMEF333238vPz9fLLL2vZsmUaP368hgwZoo9//ON65JFH5Jxrt01Lsmjr1q06cOCApJNVSy2JqJY2LUmolvUTJkzQqFGjIvo3tMQgKeScTD0pKCgIuS4r+N+toaEhrH0DXpBsAgBEhdcbmEJfYZQjAQB0xev3Lz9IAUhWXpPlXI8iVXg+t9ORJL1EqropQauaWnziE5/Qnj17dOedd+rjH/+4Ro0apcOHD+vBBx/Uhz/8Yc2fP19+/8mqvhkzZqi0tFRS+2SSmbUmmTpWP0VzvqZQFUlAMiHZBACICnqSAkBiYxJxAKnO8/UolfZIEZ7P7XQkSS+Rqm5K0KqmtgYMGKDPfe5zeuCBB/TOO+9ox44d+ta3viUz0/PPP6+bbrqpXfsFCxZICiSRtm3bpr179+qUU07R4MGDJYWubGpJQkXS0KFDW1/v2bMn4vsHYoFkEwAgKhhGDwASG0PtAEhlza5ZlXWVntrS+QmpgiFyEVJfq5sSvKoplAkTJuiWW27RVcHYV69e3W5922RSV4mkUaNGaeLEidq5c6dWr17dOqdSS5LKq4yMkz/BdxzOr8Xo0aM1YsQISdKqVat6tX8gUZBsAgBEBZVNAJDY6P0MIJVV1lXKqesf9Nrql9VP2ZnZMYgIiD7O7Qipr9VNCV7VVFdX1+36fv36SWqf9JFOJpbKysp07733tlvWoiUh9b3gv9/UqVM1bNiwXsVXWHhyiMuKioqQ7a655hpJ0t13362NGzf26hhAIiDZBACICiqbACCx0fsZQCpjCD2kI87t6Fa41U1JUNV07bXX6sorr9RDDz2kQ4cOtS6vqqrSnXfeqeXLl0uSFi9e3G67SZMmaeTIkZKkV155RZmZmZo/f367Ni3Jp1deeUVSePM1FRcXt1Yt3XvvvWpsbOyy3Q033KBJkyaprq5OCxcu1F133dVunqmdO3fqBz/4gW699dZexwDEAskmAEBUUNkEAImN3s8AUpnnjk9ciyKFFPoKe24kqbqhWo3NXf/YjRQWbnVTglc1SVJDQ4P++Mc/6vLLL1dpaakKCgpUUlKigoICfeELX1B9fb3OPfdcffe73+20bdvk0ezZs1VUVBRyfVfvvfr85z8vSfrFL36h/Px8jR49WmPHjtU///M/t7YpKCjQ448/runTp6u8vFyf/exnVVJSooEDB6p///6aOHGibrzxRu3duzesGIBoI9kEAIgKKpsAILHR+xlAKqOyCekoMyNT+Tn5ntr66/w9N0Lq6W11UxJUNUmBIe5+/vOf6yMf+YimTp2qrKwsVVVVaciQIVq0aJHuuecerVmzRv379++0bdvkUcch9CSptLRU06dPlySZWa/na2rxne98R7fffrvOOOMMZWdna+/evdqzZ48OHDjQrt348eO1ceNG/e///q8WLFigkpISVVZWqri4WGeffbZuvvlmffWrXw0rBiDaLNSkZEhtZrZ+9uzZs9evXx/vUACkqNz/yFVdU/fjJkuS/1t+yuLvrgAAIABJREFUFfgKYhARAKAtf51fRT/q+UfWfln9dOK7J2IQEQBEzmPbH9Pi3y/usd2i8Yv05CefjEFEQGyMvG2k9lXu67Hdri/v0riScTGICKFs3bpVkjRt2rTYHnj5cmnpUm9t77tPWrIkuvEgofXhc2oRDwYJj8omAEDE1TXWeUo0mcxzzzsAQGTl5+TLPNwD1jTWqKGpIQYRAUDkUGWPdOX1M01lUxrzWt2UJFVNABIHySYAQMR5Hbak0FcoMzq7AEA8ZFiG58pS5m0CkGw8X4/meJvjBkgWXudt4tyexrzO3ZQEczUBSCwkmwAAEUdPUgBIDszbBCBVcT2KdMW5HZ70VN1EVROAMJBsAgBEnOcJmT3eCAEAosPrj6z0fgaQbLgeRbri3A5PeqpuoqoJQBhINgEAIo6epACQHOj9DCBVcT2KdMW5HZ6Fqm6iqglAmEg2AQAijp6kAJAc6P0MIFVxPYp05TnZxLkdoaqbqGoCECaSTQCAiKMnKQAkB3o/A0hVnpNNXI8ixXjuSMK5HVLn6iaqmgD0AckmAEDE0ZMUAJIDvZ8BpCrPnZ+4HkWK4dyOXulY3URVE9pwzsU7BCQZvj0AABHnr/N7asfNPQDEl9fez16/1wEgUXi+HqWyCSmGIXKTh5nJOafm5mZlZMSxHuCqq6Rjx06+BoJakk1mFudIkCxINgEAIo5h9AAgOTCMHoBURaU90hXn9uSRnZ2t+vp61dbWKi8vL36BZGVJ110Xv+MjYdXW1koKfFYBLxhGDwAQcdzcA0ByoPczgFRF5yekK6qWk0dBQYEkqby8nOHKkHCccyovL5d08rMK9ITKJgBAxHn9UbLQVxjlSAAA3fH6PUyyCUAycc55/iGd61GkGs7tyaOwsFDHjh2T3x/4viopKVFubq7MjGHLEBfOOTnnVFtbq/Lycvn9fpmZioromAFvSDYBACKOnqQAkBwYagdAKqpuqFaTa+qxXU5mjnKzcmMQERA7nNuTR25urkaOHKm9e/fK7/e3Jp2ARGFmGjlypHw+X7xDQZIg2QQAiDiG0QOA5MAwegBSkeeOT1yLIgVxbk8u+fn5GjdunI4fP67Kyko1NDQwpB7iysyUnZ2tgoICFRUVkWhCr5BsAgBEHJVNAJAc6P0MIBV57vjEtShSkNdze2VdpZpdszKM6dzjzefzaciQIRoyZEi8QwGAPuGMAgCIOCqbACA50PsZQCqisgnpLDszW/2y+vXYzsmpsq4yBhEBANIFySYAQMRR2QQAyYHKJgCpiMompDs6kwAA4oFkEwAgohqaGlTTWOOpbUFOQZSjAQB0p9BX6KlddUO1mpqbohwNAESGv87vqR2VTUhVdCYBAMQDySYAQER5vbkvyClQZkZmlKMBAHQnMyNT+Tn5ntp6/X4HgHijyh7pjsomAEA8kGwCAEQUw5YAQHLx3PuZH6QAJAnmD0W68/rZpiMJACCSSDYBACLKa09Sr0M3AQCiy+v3MUPtAEgWXI8i3XFuBwDEA8kmAEBE0ZMUAJILQ+0ASDVcjyLdUbUMAIiHrGjt2MwGSPqspAslTZNUIinLOZfVod35koZKOuKcezJa8QAAYoMx8gEguTCJOIBUw7DOSHeeO5JwbgcARFBUkk1mtkTS/0jq37Io+Oy6aD5D0u2SasxsuHOOMx0AJDF6kgJAcqGyCUCq8dz5ietRpCgqmwAA8RDxYfTM7LOS7pWUr0CS6T1J27rZ5D5J9ZJyJV0W6XgAALHFzT0AJBcqmwCkGiqbkO6obAIAxENEk01mNkbSzxVIMr0jaaFzbqSkb4baxjnnl7Qm+Pb8SMYDAIg9bu4BILnQ+xlAqqHzE9Id53YAQDxEurLpS5JyJFVLOt8596zH7dYpkKA6PcLxAABijJt7AEgu9H4GkGro/IR0xxC5AIB4iHSyaZEC8zL91jm3qxfbtbQdE+F4AAAx5q/ze2rHzT0AJAavyX+v3+8AEG+er0fp/IQUxRC5AIB4iHSyaXTw+eVebtdyJVgQwVgAAHHguScpN/cAkBDo/QwglTjnvFfa0/kJKYpzOwAgHiKdbMoNPtf0crv84HN1BGMBAMSB1xuWQl9hlCMBAHjh9fuYH6QAJIPaxlo1NDf02C7TMtUvq18MIgJiz+u5naplAEAkRTrZdDj4PKKX200PPh+IYCwAgDigJykAJBeG2gGQSnozX5OZRTkaID44twMA4iHSyaaNkkzShV43sMDV3ccUmOupt8PvAQASDMPoAUByYagdAKnEc8cnrkWRwrye2/11fjnnohwNACBdRDrZ9Ejw+SIzO9fjNl+TNCH4emWE4wEAxBiVTQCQXOj9DCCV9KayCUhVuVm5ysnM6bFdk2tSdQMzWgAAIiPSyabfStod3O8jZvaBUA3NLN/M/kPSjxWoatronHs0wvEAAGKMyiYASC5UNgFIJVQ2AQF0JgEAxFpWJHfmnGswsyslrZFULGmVmW2TdLCljZndK2mkpH+SlKfAsHvHJf1LJGMBAMReU3OTquqrPLX1OmktACC6vP4YVVlXqWbXrAyLdH81AIgcKpuAgKLcIh0+cbjHdsfrjmtEr6deBwCgs4jfKTrnXpO0SNI+BRJJUyTNU6B6SZKWSDpfUv/g+j2SFjjntkc6FgBAbPnr/J7a5WXnKTszO8rRAAC8yM7MVr+sfj22c3KqrKuMQUQAED4qm4AAKpsAALEWlW6JzrmXJU2XdIOk1xVINFmHxxZJ35Q0wzm3KRpxAABiy2uyiZt7AEgsvZlIHAASGdejQADD5AIAYi2iw+i15ZyrknSbpNvMrFDSKElFkqok7XPOHY3WsQEA8cGwJQCQnIp8RTpQdaDHdsfrjmuURsUgIgAID9ejQACVTQCAWItasqkt55xf0uZYHAsAED8MWwIAyclz72d+kAKQ4LgeBQKobAIAxFpEk01mtiT48hnn3N5ebDdc0gWS5JxbHsmYAACx4/VGpdBXGOVIAAC94fV7mR+kACQ6rkeBgMIcb59xhsgFAERKpCubfqPA/EwfkeQ52STp1OC2zZJINgFAkvLck5RhSwAgoTDUDoBUwTB6QABVywCAWMuIdwAdWLwDAACEz/PNPcOWAEBC8ZxsorIJQIJjGD0ggHM7ACDWEiXZ1BJHc1yjAAD0CTf3AJCc6P0MIFVQ2QQEMGcTACDWEiXZNCz4XBnXKAAAfcLNPQAkJ3o/A0gVdH4CAhgiFwAQa3FPNpnZSElfCL7dGc9YAAB9w809ACQnKpsApAo6PwEBVDYBAGItK9wNzewrkr4SYvWvzOxnPe1CUn9JA4PvnaS/hRsPACD+/PV+T+24uQeAxOK1E4DX73kAiBd/ncfrUTo/IcVR2QQAiLWwk02SiiWNVSBJZG2Wm6QhYezvbUk/7UM8AIA4o7IJAJITlU0AUkF9U71qG2t7bJdhGcrPyY9BRED8UNkEAIi1viSbKiTt6bBsjALJpyOSTvSwfbOkKkllkp6WdI9zrroP8QAA4oxhSwAgOTFnE4BU4DUhXugrlJn13BBIYlQ2AQBiLexkk3Pudkm3t11mZs3Bl59xzv2lL4EBAJJPb27wAQCJw+v3Mj9IAUhkXhPiXIsiHXg+t9cdl3OOBCwAoM8yIry/d4KPnqqaAAApyHNlE8PoAUBCYagdAKmAIZ2Bk/Ky85RpmT22a2xu9DT8JAAAPenLMHqdOOfGRnJ/AIDk4vkGn2H0ACChMNQOgFTAkM7ASWamotwiHas51mPb43XH1S+7XwyiAgCkskhXNgEA0lSza5a/zu+pLb1JASCxeP3h1V/nl3MuytEAQHiobALaozMJACCWSDYBACKiqr5KTj3/AOnL9MmX5YtBRAAAr3KzcpWTmdNjuybXpOqG6hhEBAC9R2UT0B7D5AIAYimiw+h1ZGbvk3SWpJGSCiX1NFisc85dE82YAADRwRB6AJDcinxFOnzicI/tjtceV35OfgwiAoDeobIJaI/KJgBALEUl2WRmH5J0q6TxYWxOsgkAkpDnnqTc3ANAQirK9ZhsqjuuERoRg4gAoHe4HgXao7IJABBLEU82mdm/SfpFy9semrsObRgAHgCSlOf5mqhsAoCE5PXHV6/f9wAQa1yPAu1R2QQAiKWIztlkZuMl/Sz49qCkT0uaFnzvJH1W0imSFkv6uaSq4PL7JE1QeJVQAIAEwLAlAJDcPPd+5gcpAAmK61GgPc/JJiqbAAAREOnKpn8L7rNZ0oXOuTclyay1eOmQc26LpC2S/mZmP5X0Z0lLJJ1wzn0xwvEAAGLE6w1Koa8wypEAAMLh9fuZH6QAJCquR4H2PJ/b6UgCAIiAiFY2STpPgUqlv7QkmrrjnHtX0gckHZf0eTNbGOF4AAAx4rknKcOWAEBCYqgdAMnO85xNXI8iTXj9rDNELgAgEiKdbBobfH4pxPqcjguccwcl3avA3E3LIhwPACBGmJAZAJIbQ+0ASHYMowe0x7kdABBLkU42FQSf3+2wvLbD+o42BJ/PinA8AIAY4eYeAJIbczYBSHZUNgHteT63k2wCAERApJNN1SH2WxF8Hhtiu+zg89AIxwMAiBFu7gEgudH7GUCyo/MT0B5D5AIAYinSyaay4HNph+VvKTBM3vwQ280NPtdHOB4AQIwwjB4AJDd6PwNIdnR+Atrj3A4AiKVIJ5s2KJBUOq3D8jXB53lmdmHbFWY2V9KnJTlJb0Y4HgBAjHjuScrNPQAkJHo/A0hmDU0NOtFwwlPbgpxQI/wDqYVzOwAgliKdbHom+HxBh+X3SaoLvl5lZivM7IdmtkLS85J8wXW/jXA8AIAY8df5PbWjsgkAEpPXzgBev+8BIJYq6ys9tSvIKVBmRmaUowESA5VNAIBYyorw/lYpMBTeSDO70Dn3pCQ55/aY2bcl3abA/EyXt9nGgs/PSrorwvEAAGKEYUsAILkxZxOAZEaVPdAZlU0AgFiKaGWTc65SUoGkfpKe6rDuZ5I+qcC8TtbmUa1AEmqxc645kvEAAGKHCZkBILl57v3MD1IAEhDzhwKd5efky1r7eIdW11Snusa6HtsBANCdSFc2yTnX0M26+yXdb2bjJJVKOiFpa3fbAACSg9cb/EJfYZQjAQCEw+v3M5VNABKR10Q416JIJ2amQl/h/2fv3uMlOes68X+emTNzkkwyuRBIMBCiSZQgURxARDC/oHJHxYUNa7iLKzdXXG+sShCN9/Wyru6CiBKIRsEVuSwXBblEQBMcdAERTAzhEhJDSMjckpk5M8/vj+5DjsOZc+r0qerqPv1+v179qj5dT1V9q7tOPdX9fZ6nGtXdt++/PfeYu8cYogJgo2r7nk2N1Fo/VWv9u1rrRySaAKZfrdXQJQBTbi1D7dRaO44GYG0M6QzLc09GAMal1Z5NpZQLhk8/Vmu9dQ3LnZTkG5Kk1nplmzEB0L19B/flUD20arm5TXM5du7YMUQEwFodt+W4bC6bVz2fHzx8MHcu3JljtzifA5PDkM6wPPdtAmBc2u7Z9N4k70ny8DUu95Dhsu9uOR4AxmAtY+SXsvqY4QCMXyml+X2bDKUHTBj3bILlqdsBGJdehtFbgV8gAaaQIfQANgatn4Fp5XoUlqduB2BcJiXZtJhkMvg7wBTSkhRgY9D6GZhWrkdheep2AMZlUpJNpw6ne3uNAoCRNL2ZrJakAJOt6Y+wbiIOTBrXo7A8PZsAGJe5vgMopcwneebwz+t7DAWAES39YrL5UPJDVw+e/+43J4c231VOS1KAMXnta5NnPnP1ckd4b9OCL3vkmtf9Za95TfKMZ4y+PMAyFntlrHQtmrgeZcqNUL//7+FjVS/7kSQ/MkJQQ+p3gJk3crKplPLM3JUkOtIvlFJWq6FKkm1J7juc1iR/PWo8APRn6ZALF380+R9/OXh+67HJ5Q+4q5yWpABjcvHFyaWXJtde23ck/9455wxiA2jZYuOnla5FE9ejTDn1OwATbD09m85KcmG+8j5LJcnXr2E9i/drujnJr68jHgB6svjlfvOh5JIr73r9kiuTK86/q0Xp9q3be4gOYAbNzSWXXDJS76ZOXXLJIDaAlt2+//ZVr0WTZPu861GmmPodgAnWxj2bypLHcq8d7ZEke5J8JMlvJdlRa/18C/EAMGaLPZsu/mhy7q13vX7urYPXFmlJCjBGF188aGk8KbR6Bjp0+523r3otmhhGjw1A/Q7AhBo52VRr/bla66alj8VZSZ545LxlHptrrSfWWh9Qa/0xiSaA6XX7nV/ZknTRJVcOejwlvtwDjNVi6+dJodUz0KE9+7606rVoovETG4D6HYAJ1UbPpiOV1YsAsJHcvv8rW5IuWtqi1Jd7gDGblNbPWj0DHXv0VV9c9Vo00fiJDUL9DsAEajXZtKTX0pvbXC8Ak233vtuWbUm6aLFFqS/3AGM2Ka2ftXoGOnTowP78+LvvPOr8pb2b3LOJDUH9DsAE6qJnEwAz5kHvvWbZlqSLFluU6tkE0IO+Wz9r9Qx07M7LX93oWvS4Lcdly+Yt4wsMuqR+B2DCjD3ZVEq5eynl10opHyylXF1K+f1SynnjjgOAliws5Klvum7VYpdcmZy4edsYAgLg3+m79bNWz0CXFhay9Zd+ddVil1yZnDKnVxMbiPodgAnTarKplPLwUsqtpZQvllIetsz805N8KMmPJXlIkgcm+f4kO0sp39FmLACMyRVX5Myb969a7NxbkzPf+v4xBATAV+ir9bNWz0DXrrgiW667ftVi596aPPVjbjHNBqN+BxiLUsqzSil1+HhW3/FMqrZ7Nn1vkpOS7Kq1fmCZ+b+R5Mwk5YjHMUmuKKVoZgQwTRYWkksvbVz8tN965WAZAMarr9bPWj0DXVrjtegL//JW16JsLOp3gJGVUs4qpbxs+Liw73g2graTTQ9OUpO888gZpZS7J7loOP/DSe6f5PgkLx4WOTWDXk4ATIsrrkiuvbZx8bnrrh8sA8D4jbv1s1bPQNfWeC1675v3uxZl41G/A4zqrCQ/O3xc2GskG0TbyabTh9P/t8y8JyTZPHz+A7XWj9da99Va/3uSv8mgh9PjWo4HgK6ssSXpl116qRalAH0Yd+tnrZ6BLrkWhQH1O0Dnaq2X1VrL8HFZ3/FMqraTTacOpzcvM++C4fSaWus/HjHvzcPp17ccDwBdWWNL0i+79lotSgH6Mq7Wz1o9A11zLQp3Ub8DMAHaTjYdP5weXmbet2YwhN67l5n3+eH0lJbjAaALo7YkXaRFKUA/xtX6WatnoEuuReHfU78DMAHaTjbtHk6/aumLpZQzkpw7/PODyyy3mJwqLccDQBdGbUm6SItSgP503fpZq2ega65F4Sup3wEaKaVcWEqpSd6z5OWfLaXUIx9LlnnWktefdZT1Ls5/7/Dvk0opLyml/GMp5fZSym2llA+WUp5WStl0xLLfWEr5w1LKNaWUO0opN5dS3lBKeeAa9uuhpZSXl1I+Xkr5UinlzlLKZ0opryulPH4t79Go2k42fXI4feQRr//HJc/fv8xyi/d6+mLL8QDQtvW2JF2kRSlAP7pu/azVM9Al16KwPPU7wMQopdwvyYeTXJrkG5NsT3JSkocmuTzJq0opZVj2eUn+Psmzk5yT5Jgkd0/yvUn+rpTyxFW2ta2U8qcZdPJ5XpLzkpyYZD7JvZNclOT/llL+bynlhJZ39d9pO9n0zgx6Jz2+lPJjpZQTSynfmuSnMhhC759qrdcvs9wDhtN1NE0CYCzW25J0kRalAP3pqvWzVs9A11yLwtGp3wGa+FgGiZylGfrXDV878jGKE5O8Kcl9huv9gST/KcmvJdk7LPPsJM8qpTwpycsz6ITzy0kuTvL9Sd42LDeX5NWllLsvt6FSynySdyV5yvClf03yS0mePtzmS5L8y3De45O88cheVW0qtdbVSzVdWSn3zKB307YjZ2WQbPqBWuurj1imJLkhyWlJfrvW+qOtBcRRlVK+eOyxx55y3nnn9R0KMEU215r/8/GP58z9+1tZ32fm5/Pk+90vh4pRVAHG7fFf/GJ+/tOfbnWdL73PffLWu92t1XUCLHItCqtTvwOT4MMf/vAVtdan9h3HSkopF+auofR+rtb6shXKPivJYl7j2bXWy5YpszTRcmeS76q1vuuIMg9PcmUG+ZJPJzk+yTVJHltr/dIRZf8gg8RTkry41vpry2zzt5L8yPDP/57kp2utC0eU2ZLkVUmeMXzp+bXWVxxtX9ej1SxWrfXGJN+XQYauLHkkyRVHJpqGviN3DaP3vjbjAaBdj7n11ta+3CfJmfv35zG33tra+gBo7h2nnJLPzM+3tr7PzM/nHaec0tr6AI7kWhRWp34HmAg/d2SiKUlqre/PYHS4ZNDz6fgkFx2ZaBr62Qw68CTJo4+cOez484Lhn2+otf7kkYmm4TYPZtC76rrhS5119ml9sNVa61tLKffNIOl0TpJ9Sd5Za33HURZ5aAZJpppBly/G4/rzzjvvlJ07d/YdBzAtFhaSDnpD/vyWLfn5q64y/jdAH1772uSZz2xlVWe+8pW5+hnPWL0gwChci0Jz6negfxPdq6ljh5Ks1HPoA0keNXz+llrrZ5crVGv9XCnl+iRfneR+yxS5KMnW4fNfXymgWuvBUsrrMrjd0bmllLOOcrujdelkfL5a6+drrb9Ra31+rfXHVkg0pdZ6aa31EbXWb6+17j1aOQB61tb4+EcyXj5Af9q6t4N7OQBdcy0KzanfAfr0yaP0VFr0b0ueX73KuhbLnrzMvG9b8vxepZQnrvQ4Yh2d3FtH0x0AVrewkFx6aXfrv/TSwZcYLUoBxmtuLrnkkvW3fr7kEudwoDuuRWFt1O8AffriKvOXjgnctOxy46OeteT561dZz5GWS16tWyc9mwDYYLpqSbpIi1KA/qy39bNWz0DXXIvC2qnfAfpyuKOyRzpxHctuXb3I2kk2AbCyrluSLrr00sG2ABivxdbPo9LqGeiSa1EYjfodYKPbM5zWJJtrrWUNj8u6CEiyCYCVdd2SdJEWpQD9GbX1s1bPQNdci8Lo1O8AG9kNw2lJckafgSySbALg6MbVknSRFqUA/Ri19bNWz0CXXIvC+qjfAVaydAi70lsUo3vfkueP6i2KJSSbADi6cbUkXaRFKUB/1tj6+VOnbtbqGeiWa1FYvzXW74fO/hr1OzAr9ix5vq23KEb3p0kODJ+/uJTS+z5INgGwvHG3JF2kRSlAP9bY+vmXLtys1TPQHdei0I411u+3/fgL1e/ArPjUkuc7eotiRLXWzyb5neGf5yZ5Synl9KOVL6VsKqV8ZynlJV3FJNkEwPLG3ZJ0kRalAP25+OLUBq2frzklefV5B7Jw2A+yQEdci0J7Lr44n777llWLXXNK8vnvurD7eAAmQK31tiT/MPzzEaWUV5RS/mMp5TGLjz7ja+inkvz18PkjklxXSrm8lPKC4b48tZTyY6WU12Zwj6d3Jrmwq2AkmwD4Sn21JF2kRSlAP+bmUhq0fr70guTQ5mTX/l1jCAqYOa5FoV1zc3n1E+69arFLL0huX9g7hoAAJsbPJDk0fP7cJK9P8vYlj4lWaz2Y5HFJfjeD/Tg2ydOS/K8M9uWPkvx6kqcnWez1dENX8Ug2AfCV+mpJukiLUoD+XHzx4H5MR3HNKckV5w+e337n7WMKCpgprkWhdX93wVfnmlOOPn+xfr99v7odmB211rcneViSKzIYVu+OfiNau1rrgVrrf0ly3yS/kuSqJF9IspBkXwb79bYkP53kG2qtz+wqllaTTaWUw6WUQ6WUV7e5XgDGqO+WpIu0KAXox9xcXvm40446e7FXU+IHKaADrkWhEydsOzmXXnD0+Yv1u4YkwKyptV5Va31qrfVraq3H1VrL4mNJmcuWvH7ZUdazOP/CVba36rqWlL3wyFhWKHttrfWnaq3fUmu9R611S61123C/Hl9r/eVa60dXW896tN2z6eBw+r6W1wvAuPTdknSRFqUAvXn/w85ctvXz0l5NiR+kgA64FoVOnDh/Yq44P6vW74bIBWBUbSebbhpO97W8XgDGYVJaki7SohSgF8dvO2nZ1s9LezUlejYBLXMtCp05cf7EHNqcVet3dTsAo2o72fSPw+nXtbxeAMZhUlqSLtKiFKAXy7V+PrJXU6JnE9Ay16LQmROPOTFJVq3f1e0AjKrtZNNrkpQkTyulzLW8bgC6NGktSRdpUQowdsu1fj6yV1Oi9TPQItei0KkT5wfJptXqd3U7AKNqNSFUa31DKeWNSZ6Y5PJSyvfXWu9ocxsAdGTSWpIuWmxR+oxn9B0JwMxY2vr5lOHV/JG9mhL3dQBa5FoUOrVYtycr1++STQCMqtVkUynlzCT/Lcl8kouSfGsp5Q+T/E2SG5KsmniqtX6mzZgAaOgZz1jzl+if+KufyK//7a+vWu4Xv/0X89Pf9tOjRgbAmC1t/fzbDz16OUPtAK0Z4Vo0Sc7+n2fnutuuW7XcJ174iXzdqUb8Z3Yt1u3JyvW7uh2AUbU91N31SeqSv++d5KVrWL6m/ZgA6EjTVm/b57d3HAkAbWp63tb6Gehb0x/GXY8y69TtAHSti8ROWeVvADaIpl9ElraiA2DyLR1qZyV+kAL6VGttfj3a8LwGG1Xjul3PJgBG1Hay6TUtrw+ACdb0i4gv9wDTpWkjAT9IAX26Y+GOLBxeWLXc3Ka5HDt37BgigsnVuG7XkASAEbWabKq1PrvN9QEw2fRsAtiY9GwCpkHjhk/zJ6YUg64w25rW7bv27+o4EgA2qk19BwDA9NKzCWBj0rMJmAaG0IPmmtbtu/bvSq119YIAcATJJgBGpmcTwMakZxMwDdbSswlm3fzcfOY3z69a7nA9nD0H9owhIgA2GskmAEamZxPAxqRnEzAN9GyCtdGYBIAuSTYBMJJDhw9l78G9jcpun9/ecTQAtKnpeXv3gd05XA93HA3A8ppYYULxAAAgAElEQVTeW0bPJhjQmASALs21ubJSynXrXEWttZ7dSjAAdKrpl/ttW7ZlblOr1Q0AHduyeUuO23Jc9h3ct2rZ3ft36zUA9EIve1gbPZsA6FLbv/6dlaQmKauUW7zT4JHl3IEQYEoYtgRgYztx/sRGyabb99/uXA/0wv1DYW30bAKgS20nmz6T1RNGm5KckmTb8O+a5MYkB1uOBYAONf0CYgg9gOm0fX57btxz46rlbr/z9sTvuEAPXI/C2jT9X9CzCYBRtJpsqrWe1bRsKeX+SV6U5DlJrk3ypFrrF9uMB4DuaEkKsLEZageYdK5HYW0a1+16NgEwgk19bbjW+rFa639O8oNJLkjy5lLK5r7iAWBtjJEPsLEZageYdIZ1hrVpXLdrSALACHpLNi2qtb4qyXuSfEuSH+g5HAAa0pIUYGPTswmYdI0bP7kehSTN/xd27d/VcSQAbES9J5uG/iJJSfL0vgMBoBlf7gE2Nj2bgEmnZxOsjWH0AOjSpCSbbhpO79trFAA05ss9wMZmqB1g0mn8BGujbgegS5OSbPqq4fTYXqMAoLGmQyv4cg8wnZo2FjDUDtCXxtejGj9BEkPkAtCt3pNNpZStSZ4z/PNzfcYCQHONW5L6cg8wlQyjB0w69xCFtVG3A9Cl3pJNpZTNpZQLk/x1kvOT1CRv7yseANbGl3uAjU3rZ2DSafwEa6NuB6BLc22urJRyXcOiW5OcmmTLktduS/KrbcYDQHeafgHZPr+940gA6ELT87cfpIA+7F/Yn/2H9q9ablPZlG1bto0hIph8jet2PZsAGEGryaYkZ2XQQ6mscblrk/ynWuuNLccDQEe0JAXY2Ay1A0yytTR8KmWtP1HAxtS4bteQBIARtJ1s+kwGyabV7E/ypSQfT/KOJG+stR5oORYAOmQYPYCNzVA7wCRr3PDJtSh8WeO6/c7bU2uVqAVgTVpNNtVaz2pzfQBMLj2bADY2PZuASda44ZNrUfiyY+eOzdymuSwcXlix3KF6KPsO7su2rYagBKC5TX0HAMB00rMJYGPTswmYZHo2wdqVUhr/T+zav6vjaADYaCSbAFizw/Vwdu/f3ais1qQA02ktP0bV2mQkbYD26NkEo9GYBICuSDYBsGa79+9ObXCLvmPmjsnWzVvHEBEAbZufm8/85vlVyx2uh7PnwJ4xRARwFz2bYDSGyQWgK50mm0op315K+d1SyodKKZ8rpdw+nF49fP0RXW4fgG40HVLBl3uA6da09bOhdoBxcz0Ko9GzCYCuzHWx0lLK1ya5PMmDlr48nJ6Q5J5JHpjk+aWUq5M8o9Z6TRexANA+w5YAzIYT50/MzXtvXrXc7ftvzxk5YwwRAQy4HoXR6NkEQFda79lUSnlAkqszSDSVJY/bk9wwnC59/SFJPlRK+ca2YwGgG02/eGyf395xJAB0qel53A9SwLi5HoXRNK7b9WwCYI1aTTaVUuaTvDHJ9gwSSR9J8vQkp9VaT6613rvWenKSewxf/8fhotuT/MVweQAmXOOWpIYtAZhqhtoBJpXrURiNnk0AdKXtnk3/OcmZSWqSVybZUWv941rrF5YWqrXeUmv94wx6P/3e8OX7JPmBluMBoAONb8hs2BKAqeYHKWBSGUYPRqMhCQBdaTvZ9D3D6UeTvKDWenilwsP5L8ygB1SSPLHleADogJakALPBD1LApGrc+Mn1KPw7GpIA0JW2k01fn0GvpstXSzQtGpa7PINh9+7fcjwAdMCXe4DZ4AcpYFLp2QSj0ZAEgK60nWy623D66TUu95nh9OQWYwGgI77cA8yGxskmP0gBY6bxE4ym6f/Erv27Oo4EgI2m7WTT4tXeaWtc7u7DqZoMYAr4cg8wGxq3ftazCRgzjZ9gNHo2AdCVtpNN12YwHN6T17jcYvlr2w0HgC7sOtCsbYAv9wDTrXHr54b1AkBbmva60PgJ/j1D5ALQlbaTTW8fTi8opbyoyQKllB9KcmEG93p6a8vxANABPZsAZoOeTcAkOnjoYPYd3LdquZKSE+ZPGENEMD30bAKgKyMnm0op91jm5d9N8qXh898spVxRSnnAUZb/hlLK5Ul+e/jS7Un+96jxADA+hi0BmA3u2QRMoqa9mk6YPyGbStttbGG66dkEQFfm1rHsP5VSfqjW+rrFF2qtt5VSnp3k/2SQyHpKkqeUUm5Jck2SvUm2JTknd92nqSQ5lOSZtdbb1hEPAGPS9IvH9vntHUcCQJeansf9IAWMU9MEt2tR+EqN63YNSQBYo/U08blbkitKKa8vpZy6+GKt9U1JvifJFzJIJJUMEksPTfKdw+k9lsy7Ocl311rfso5YABijxj2bDKMHMNUMtQNMIkM6w+iO33p8ox5/Bw4dyJ0Ld44hIgA2ivUkmw5mkCx6Uga9nJ60OKPW+rYk5yb5kSTvS7IvdyWXyvDv9yX54STn1FrfHgCmRuMv+IbRA5hqhtoBJpEhnWF0pRQ9lwHoxHqSTQ9M8uHc1XPp9aWUPymlnJIktdbdtdb/WWt9RK31+CQnJbl3kpNqrccPX//dWuue9e4EAONTa208Tr7WpADTbS09m2qtHUcDMKBnE6yPezIC0IWRk0211o8leUiSlyY5kEHS6aIMejl9zzLld9Vab6i1NvuFEoCJtPfg3hyqh1Ytt2XTlhwzd8wYIgKgK8fOHZu5Tavf5nXh8ELuWLhjDBEB6NkE69X0f6NpI0MASNbXsym11kO11l9I8uAk/5BBwum0JG8opVxeSjmphRgBmCBrGUKvlNJxNAB0qZRiKD1g4ujZBOujbgegC+tKNi2qtX40yTcn+dncdS+nizPo5fT4NrYBwGQwhB7AbNH6GZg0rkdhfdYyTC4ANLX6mBgN1VoPJbm0lPKmJJcleUCSeyZ5cynl7Ulubraa+py2YgKgfYYtAZgt7usATBrXo7A+ejYB0IXWkk2Laq0fKaU8OMlLMujpVJI8dg2rkGwCmGCGLQGYLY1bP/tBChgT16OwPhqSANCF1pNNQ/dJ8h3D5zWDhFMTtZtwAGhL0y8c2+e3dxwJAOPQ9HzuBylgXFyPwvo0rts1JAFgDVpPNpVSfijJLyc5bvjS7iS/mGbD6AEw4Rq3JDVsCcCGYKgdYNIYRg/Wxz2bAOhCa8mmUspZSV6d5ILc1ZPpnUmeU2v9XFvbAaBfjb/cG7YEYEMw1A4waQyjB+ujIQkAXdjUxkpKKS9I8pHclWjak+R5tdZHSzQBbCy+3APMFvdsAiaNnk2wPno2AdCFdfVsKqXcJ8kfJHlE7urN9O4MejN9ep2xATCBfLkHmC16NgGTRuMnWB91OwBdGLlnUynluRn0ZlpMNO1N8kO11u+UaALYuAyjBzBbtH4GJo3GT7A+Tf83du3f1XEkAGwk6+nZ9PIkNYNE05VJnl1r/VQrUQEwsRq3JPXlHmBDcF8HYJIcOnwoew7saVR2+/z2jqOB6aRuB6AL671n0x1JfqTWeqFEE8BsaNq6Tc8mgI1B62dgkuw+sLtRuW1btmVu07ruHAAbll7LAHRhPVdeH8igN9O1bQUDwOQzbAnAbHFfB2CS6GUP66dnEwBdWE+y6YJaa20tEgCmQtMvHIYtAdgYmp7P/SAFjEPTxLZrUTi647ce36jcHQt35OChg9myeUvHEQGwEYw8jJ5EE8BsatyzyTB6ABuCoXaASdK4Z5NrUTiqzZs254StJzQqq34HoKn13rMJgBlSazV0CcCMMdQOMEkM6QztaNyYRP0OQEOSTQA0dufCnTl4+OCq5TaXzdm2ZdsYIgKga8dvPT6byupfG/Yf2p/9C/vHEBEwy/Rsgna4JyMAbZNsAqCxtYyRX0rpOBoAxqGU0vy+TX6QAjpmSGdoh55NALRNsgmAxgyhBzCbDKUHTArXo9AOPZsAaJtkEwCNaUkKMJsat372gxTQMdej0I6mdfuu/bs6jgSAjUKyCYDGmn7R0JIUYGNp+qOtH6SArrkehXbotQxA2ySbAGjMDZkBZpP7OgCTQs8maIdh9ABom2QTAI01/nKvJSnAhuIHKWBSuGcTtENDEgDaJtkEQGNNv2hs37q940gAGKft883O636QArrWNKnd9LwFs6px3a4hCQANSTYB0JieTQCzSc8mYFIY1hnaoW4HoG2STQA05ss9wGwy1A4wKTR+gnao2wFom2QTAI35cg8wm7R+BiaFxk/QDnU7AG2TbAKgscbJJl/uATaUxq2f/SAFdOhwPZxd+3c1KqvxE6xMzyYA2ibZBEBjjVuS+nIPsKE0bv3sBymgQ3sO7ElNXbXcMXPHZOvmrWOICKZX07q9aYIXACSbAGiscUtSPZsANpSmjQj8IAV0ybUotEevZQDaJtkEQGPu2QQwm9zXAZgEetlDe7bPb29Ubs+BPTl0+FDH0QCwEUg2AdCYGzIDzCb3dQAmgfuHQnvmNs1l25ZtjcrquQxAE5JNADTW9At+01ZyAEyHpud1PZuALjVNaLsWhWbU7wC0SbIJgEYOHDqQOxfuXLVcSckJ8yeMISIAxuWErc3O6/sO7svBQwc7jgaYVYZ0hnbpuQxAmySbAGik6ReME+ZPyKaiegHYSDZv2tw44WSoHaArhnSGdrknIwBt8msgAI0YIx9gtjVu/ewHKaAjrkehXXo2AdAmySYAGmncktSwJQAbUuPWz36QAjriehTapWcTAG2SbAKgES1JAWabnk1A31yPQrs0JAGgTZJNADSiJSnAbPODFNC3xskm16PQSNP/FfdjBKAJySYAGmn6BUNLUoCNyQ9SQN9cj0K7DKMHQJskmwBoxLAlALPND1JA3/S0h3Y1HiJXr2UAGpBsAqCRpl8wts9v7zgSAPrQ9PzuBymgK02T2a5HoZnGdbuGJAA0INkEQCPGyAeYbXo2AX1r3LNJT3toRN0OQJskmwBoxJd7gNlmqB2gbxo/QbvU7QC0SbIJgEZ8uQeYbVo/A32qtWr8BC1TtwPQJskmABppnGzy5R5gQ2rc+tkPUkAH9h3cl0P10KrltmzakmPmjhlDRDD99GwCoE2STQA00rglqZ5NABtS49bPfpACOrCWXvallI6jgY1BzyYA2iTZBEAjejYBzDY9m4A+GUIP2te0bt+9f3cO18MdRwPAtJNsAqCRXft3NSqnZxPAxtT0B9ym9QXAWrgWhfZt3by10bCTNTV7DuwZQ0QATDPJJgAa0ZoUYLa5rwPQJ73soRuGyQWgLZJNAKxq4fBC9h7c26js9vntHUcDQB+ant93H9idQ4cPdRwNMGvcPxS6YZhcANoi2QTAqpoOW7Jty7Zs3rS542gA6MPcprkct+W4RmV3H9jdcTTArGn6Q7eGT7A2Tf9n9GwCYDWSTasopVxWSqmllMs6WPe3lVLeWkr5Qinl0HA7b2x7OwDrpSUpAImhdoD+GNIZutG4btezCYBVzPUdwKwqpXxLkndn8BnUJF9McijJbcP5LxsWvazWen0PIQJ8mTHyAUgGjQpu3HPjquX8IAW0zfUodMM9GQFoi2RTf34kg/f/A0m+u9Z66xHzf3Y4fW+S68cXFsBX0rMJgETPJqA/rkehG3o2AdAWyab+nD+c/ukyiaax+OQtn8wjX/vInHu3c3Ps3LGNlrlj4Y5c88Vrsu/gvhy35bjGy457uVnZplg3zjYnPdZPfelTjWLRkhRgY2v6I+5v/d1v5Y2fOPro0Bu1vpzWWPvYplg3zjbHFeu7r393o3W6HoW1afo/8ycf+5Nc88Vrjjp/0s8h07rNaYq1j22Kdfzb/M6v+c489tzHNloHs6fUWvuOYaIN79X0zCSvqbU+q8X1firJWUmeXWu9bJn5ix/MI2qt721ru0vWvzP3zI48t+01A7Psoq+/KK978uv6DgOAjlz0Zxflzz7+Z32HAXBUr3vy63LR11/UdxgwNV723pfl5973c32HAUyJn3n4z+QXvuMXmhQtXcfC5NnUdwDTrpRyVinlf5RS/qmUsqeUsq+U8olSym+XUs5cpnwdJpLOGr706sXXho/LliSakuQ9R8y/fgy7BTASLUkBNjbneWDSOU/B2vifAdbi/Z99f98hMMEMo7cOpZSnJvmDJPPDl/YnOZzk64aPZ5dSnlxr/asli/3bcHr3DJJ9u5LcsWT+oWGZ04Z/35bkwJL5X2hzHwDaNL95fvVCAEwt90IBJl0pGlLDWqjbgbX4wGc/kNvuuC0nH3ty36EwgfRsGlEp5ZFJXptkc5JfS/LVSY5Nsi3JfZP8WZITkvzZ0h5OtdbTa62nJ/ns8KUXLb42fDxnOH/Rfzhi/oMbxLZztccwRoBWfXbXZ1cvBMDU0voZmHRXfe6qvkOAqaJuB9Zi4fBC/vyf/7zvMJhQkk0jKKVsSvK/Mnj/XlhrfXGt9fp6l0/WWi9K8uYk25P8aJ/xAozLwuGFvkMAoEMnHXNS3yEArGjPgT19hwBTRd0OrNVNe27qOwQmlGH0RnNBknOT3JLkVSuUe22S707y6HEEtajW+sDVygx7N+0YQzjADDn/Huf3HQIAHXrgV616mQnQq3NOOafvEGCqfNM9v6nvEIApc/rxp69eiJkk2TSahw2nJyb5/ApjQm8dTu/TeUQAE+C/fst/7TsEADr04K96cE497tTcsu+WvkMB+Aqby+Y8+X5P7jsMmCqnHHtKHnLGQ3LVDYagBFY3t2kuTzrvSX2HwYQyjN5ovmo43ZLktBUei3dKO3bcAQKM29O/4em5x/H36DsMADq0ZfOWvOaJr+k7DIBl/eTDftINy2EEr/6eV2duk/bowOoedu+HqWs5Ksmm0WweTq+qtZYmj16jBejY993/+/z4CDAjHnfu4/KGi96Q47ce33coAEmSTWVTXvSQF+UXv/0X+w4FptJ5dz8vVz7rytz9uLv3HQow4R5+74f3HQITTLOF0SzeBW2qh8fbPr89jz7v0Tn/tPNz3JbjGi2z7+C+fPTfPprdB3bnhK0nNF523MvNyjbFunG2OY2x3rFwR867+3n54W/+4dzrxHs1ihWAjeF7z/ve3HT2TXnP9e/Jn3z0T3LrHbeqL6c41j62KdaNs80+Y12oCzn/HufnRQ95UU457pRG2wSW99B7PzQ3/OgNee/1783lH7k8X9j7hQ1/DpmGbU5TrH1sU6zj3+a33OtbGi3PbJJsGs0HhtPTSykPqrX+fQfbqEnK8NGJc045J6+/6PVdrR4AgA1s29ZtecLXPiFP+Non9B0KANCCLZu35JFnPzKPPPuRfYcCwBQyjN5o3pPk2uHz3yqlbF2pcClllCZWu4bTk0ZYFgAAAAAAYCwkm0ZQa11I8rwkC0kenuTKUsp3lFK2LJYppXxNKeV5pZQPJXnBCJv52HD61FJKs/6NAAAAAAAAYybZNKJa618n+Y9Jdid5SJJ3JdlbSrmllHJnkn9N8vIkD8pgSLy1esVw+qQkXyqlfK6Ucn0p5f3rjx4AAAAAAKAd7tm0DrXWN5ZSzsmg59Jjk5ybwbB3e5N8IsmHkrw1ydtGWPcflVKS5LlJzk9yz0gOAgAAAAAAE6bUOkqnG6ZdKWXnjh07duzcubPvUAAAAAAA2DhK3wEwfnrKAAAAAAAAMDI9m2ZUKeWPk6TW+tS+YwEAAAAAAKaXZBMAAAAAAAAjM4weAAAAAAAAI5NsAgAAAAAAYGSSTQAAAAAAAIxMsgkAAAAAAICRSTYBAAAAAAAwMskmAAAAAAAARibZBAAAAAAAwMgkmwAAAAAAABiZZBMAAAAAAAAjk2wCAAAAAABgZJJNAAAAAAAAjEyyCQAAAAAAgJFJNgEAAAAAADAyySYAAAAAAABGJtkEAAAAAADAyCSbAAAAAAAAGJlkEwAAAAAAACOTbAIAAAAAAGBkkk0AAAAAAACMTLIJAAAAAACAkUk2AQAAAAAAMDLJJgAAAAAAAEYm2QQAAAAAAMDIJJsAAAAAAAAYmWQTAAAAAAAAI5NsAgAAAAAAYGSSTQAAAAAAAIxMsgkAAAAAAICRSTYBAAAAAAAwMskmAAAAAAAARibZBAAAAAAAwMgkmwAAAAAAABiZZBMAAAAAAAAjk2wCAAAAAABgZJJNAAAAAAAAjEyyCQAAAAAAgJFJNgEAAAAAADAyySYAAAAAAABGJtkEAAAAAADAyCSbAAAAAAAAGJlkEwAAAAAAACOTbAIAAAAAAGBkkk0AAAAAAACMTLIJAAAAAACAkUk2AQAAAAAAMDLJphlVSvnjUsof9x0HAAAAAAAw3eb6DoDe3HfHjh07klzcdyAAAAAAAGwYpe8AGD89mwAAAAAAABiZZBMAAAAAAAAjk2wCAAAAAABgZJJNAAAAAAAAjEyyCQAAAAAAgJFJNgEAAAAAADAyySYAAAAAAABGJtkEAAAAAADAyCSbAAAAAAAAGNlc3wEA06UePpy9b39/kmTbYx+esknOum+jfibjXo7JMyuf5azsJ5Olj+POeX1ls7KftG/ajp1pitd5qxvT9P5MU6zrMe79nJX3lZU5DlamDoL2lVpr3zHQg1LKzh07duzYuXNn36EwZe68+qO54fEvSJKc8baX55gH37/niBj1Mxn3ckyeWfksZ2U/mSx9HHfO6yublf2kfdN27ExTvM5b3Zim92eaYl2Pce/nrLyvrMxxsDJ1UOdK3wEwflKvE66Ucn0ppZZSntV3LJAke978nmWf059RP5NxL8fkmZXPclb2k8nSx3HnvL6yWdlP2jdtx840xeu81Y1pen+mKdb1GPd+zsr7ysocBytTB0H7JJuAxurhw9nzlvd9+e+9b3lv6uHDPUbEqJ/JuJdj8szKZzkr+8lk6eO4c15f2azsJ+2btmNnmuJ13urGNL0/0xTreox7P2flfWVljoOVqYOgG5JNQGP7//6fcujzN3/574Ubbs7+nR/vMSJG/UzGvRyTZ1Y+y1nZTyZLH8ed8/rKZmU/ad+0HTvTFK/zVjem6f2ZpljXY9z7OSvvKytzHKxMHQTdkGwCGluue7Auw/0a9TMZ93JMnln5LGdlP5ksfRx3zusrm5X9pH3TduxMU7zOW92YpvdnmmJdj3Hv56y8r6zMcbAydRB0o9Ra+45hLEopJye5IcmxSZ5Sa339CmUvTfKSJJ9KcnZd8iaVUh6W5PlJvi3JaUn2J/lkkj9P8r9qrXuOss5HJ3lukm9Oco8kdya5Jcm1Sf4qyR/WWm9dZrnrk9wnybNrrZetaadXUErZuWPHjh07d+5sa5VsIAev+1w+85DvW9c6zrz6T7Plq89oKSLa+EzGzTEwGWbl/3lW9pPJ0sdx12d9MA3/I84FjGrajp1pitd5qxuzdgxMw2c57v2clfeVlTkOVqYO6lXpOwDGb2Z6NtVab0uymGD6waOVK6VsTvLs4Z+vWkw0lVI2lVJ+O8n7kzw1yZlJDibZluTBSX4lyd+XUu6zzDpfmuQdSb43yRnD5UqSr07yyCT/Pck3rHMXoTV3vP/D61/H30hktqmNz2TcHAOTYVb+n2dlP5ksfRx3fdYH0/A/4lzAqKbt2JmmeJ23ujFrx8A0fJbj3s9ZeV9ZmeNgZeogGK+5vgMYs5cneWaSby+lfE2t9bplyjwug4TQQpI/XPL6zyX54SQ3D5//aa311lLKliQPS/KbSb4pyRtKKQ+utR5OkmHy6WeH6/jNJL9Ra/38cN6JSc5P8n1Jdre1k6WUJmez+7a1PTaeE57ymBy6bVdu+43XpN5x55qWLccek5N//Fk54T89tqPoZtN6PpPMzQ3S2wcXxrKcY2CyzMr/86zsJ5Olj+Ouj/pgmv5HnAsY1bQdO9MUr/NWN2blGJimz3Lc+zkr7ysrcxysTB0E4zUzw+gtKqX8Q5IHJPmVWutPLTP/LUmekOQNtdYnDV87K4Ph7g4keWit9f8ts9wJST6e5F5JvrfW+sbh6xcleV2Sf6m1ft0I8V6fNQ6j1zTZtGPHjuMMo8dKFm74t9xyye9m71ve26j8tu9+RE79+Rdm7ozTug1sho36mSQZ63KOgckzK//Ps7KfTJY+jrtx1wfT9j/iXMCopu3YmaZ4nbe6MQvHwLR9luPez1l5X1mZ42Bl6qBeGEZvBs1isukHk/xekpuSnFlrPbhk3hlJPp1kc5JH11r/avj6yzLonfQXtdb/sMK6fyfJDyV5Ra31+cPXHpXkL5PcmOTcWuveNcZ7fdyziZ7d9jt/nFt//hUrljnlpc/Lyf/lqWOKiFE/k3Evx+SZlc9yVvaTydLHcee8vrJZ2U/aN23HzjTF67zVjWl6f6Yp1vUY937OyvvKyhwHK1MHjZVk0wyatWH0kuSKJL+e5PQk35XkDUvmfX8GiaZPJXnnktcfNpw+qpRy0wrrPn44XXrfpquT3JLknkmuKqW8Ism7knyyzlqmj6m1f+fHG5T55zFEwqJRP5NxL8fkmZXPclb2k8nSx3HnvL6yWdlP2jdtx840xeu81Y1pen+mKdb1GPd+zsr7ysocBytTB0G3NvUdwLjVWvck+aPhnz+4+HopZVOS5wz//P0jEkFfNZxuS3LaCo9tw3LHLdnelzK4J9MXknx9kt9J8s9JbiulvLmU8rThfZ9gIi3cdEv2vuP9q5bb+46/ycJNt4whIkb9TMa9HJNnVj7LWdlPJksfx53z+spmZT9p37QdO9MUr/NWN6bp/ZmmWNdj3Ps5K+8rK3McrEwdBN2buWTT0MuH00cO78eUJI/KoEfSQpJXH1F+83D6q7XW0uBx4dKFa63vSvLVSZ6R5DVJrklyYgY9qy5P8g/DIfxg4uy+4m3JocNf/rsce0xOeclzc8pLnpty7DF3FTx0OLv/5G09RDh7Rv1Mxr0ck2dWPstZ2U8mSx/HnfP6ymZlP2nftB070xSv81Y3pun9maZY12Pc+zkr7ysrcxysTB0E3ZvJZFOt9aNJPpjB/i/2ZvrPw+mbaq1HDpW3+Pd9MqJa695a6+W11mfVWhunfUIAACAASURBVL82yb2SvDjJnbmrx9Nyy501TGBdNuq2YT32vutvv/x823ddmDP/9o9y8ouelpNf9LTc+4N/lG3fdeGX5+97598uswbaNupnMu7lmDyz8lnOyn4yWfo47pzXVzYr+0n7pu3YmaZ4nbe6MU3vzzTFuh7j3s9ZeV9ZmeNgZeogGINa60w+kjwtSU1yQ5IzkhwY/v2oZcr+4nDeF5Ic03IcvzBc9+4x7//OHTt2VFjNwc/fXG985s/Uve+5+qhl9r7n6nrjM3+mHvz8zWOMbHaN+pmMezkmz6x8lrOyn0yWPo475/WVzcp+0r5pO3amKV7nrW5M0/szTbGux7j3c1beV1bmOFiZOmjsev/932P8j1JrzSwqpcxnkGi6W5Irk1yQ5FNJzq5HvCmllLOTfCLJXJJfq7W+eIX1bk2ytQ7uDZVSynytdf8K5X8mg4TTrlrrievbq+ZKKTt37NixY+fOnePaJAAAAAAAG1/pOwDGbyaH0UuSYQLosuGfFwynv39komlY9l+TXDr88ydLKa8tpdx/cX4pZa6U8oBSykuTXJvkAUsWf3Ep5e2llKeXUu61ZJn5UspFSX5i+NJbl4uzlFKHj5etfS8BAAAAAAC6Ndd3AD17RZIfzSDTupDk1SuUvTSD9+slSZ6e5OmllDuS7EtyUpLNS8ouTVhtSvKY4SPDZe5IcnLuyvD+8zAOAAAAAACAqTLTyaZa67WllH9M8k1J3lRrvWmFsjXJS0spr0/y/CSPSHLvJCcmuS3JvyT5QJK/qLUuvRvcKzMYru8RSc5Pcs8ly/xTkj9P8nu11jtb3j0AAAAAAIDOzXSyqZRyegYJoGSQFFpVrfVjSV7YdBu11s8n+f3hY81qrca3BAAAAAAAJtbM3rNp6HkZJNyuTfLOnmMBAAAAAACYOjObbCqlPCjJjw3//M3hMHkAAAAAAACswcwNo1dKuT7JfJLThy/9Q5JX9RYQAAAAAADAFJu5ZFOS+wynNyV5R5L/Vms92GM8AAAAAAAAU2vmkk211tJ3DAAAAAAAABvFzN6zCQAAAAAAgPWTbAIAAAAAAGBkkk0AAAAAAACMTLIJAAAAAACAkUk2AQAAAAAAMDLJJgAAAAAAAEYm2QQAAAAAAMDIJJsAAAAAAAAYmWQTAAAAAAAAI5vrcuWllGOS3DfJ4SQfr7UudLk9AAAAAAAAxquTnk2llM2llF9NckuSnUn+IckNpZTndrE9AAAAAAAA+tHVMHp/lOTHkxyXpAwfd0/yv0spL+9omwAAAAAAAIxZ68mmUsoTkjxlyUufS/LhDIbSK0l+UMIJAAAAAABgY+iiZ9Nzljx/fq31zFrrg5LcP8nHc1fC6Tc72DYAAAAAAABj1EWy6ZuT1CRvqbX+3uKLtdZPJHlEkn/OIOH0olLK5aWUs0spXxFHKeXMpY8O4gQAAAAAAGCdukg2nTqc/uWRM2qtX0jynUn+NYOE08VJ/iXJwVLKoVLKvy0pfn2STw0f13UQJwAAAAAAAOvURbLpzuH01uVm1lpvTHJBko9lkHA68nGko70OAAAAAABAz+Y6WOdnk5yX5KyjFai13lhKeVCS/5LkUUlOT7I1yW1Lin0mg+H4AAAAAAAAmFBdJJuuSnK/JI9J8qtHK1RrPZDkN4aP5eaf1UFsAAAAAAAAtKiLYfT+fDi9oJRyvw7WDwAAAAAAwIToItn0l0muy+A+S7/UwfoBAAAAAACYEK0Po1drPVRKeVqShyRJKeX4WuuetrcDAAAAAABA/7q4Z1NqrX+X5O+6WDcAAAAAAACTo4th9AAAAAAAAJgRkk0AAAAAAACMTLIJAAAAAACAkXVyz6ajKaXMJXlikkcnuV+Sk5Mc02DRWms9u8vYAAAAAAAAWLuxJZtKKd+U5E+TnHPkrAaL1/YjAgAAAAAAYL3GkmwqpZyR5F1JTspdyaWFJLck2T+OGAAAAAAAAGjfuHo2/bcMhsyrSa5K8pIkV9ZaD45p+wAAAAAAAHRgXMmmR2eQaPqnJP9frfXAmLYLAAAAAABAhzaNaTv3Gk5fJdEEAAAAAACwcYwr2bR3OL1hTNsDAAAAAABgDMaVbPrEcHrPMW0PAAAAAACAMRhXsunyJCXJ94xpewAAAAAAAIzBuJJNf5Dkg0m+vZTynDFtEwAAAAAAgI6NJdlUaz2UQa+mv0nyylLKK0sp9x/HtgEAAAAAAOjOXJsrK6Vc12B7JclzkjynlLIvyReTHF5luVprPbuFEAEAAAAAAGhRq8mmJGclqRkklJZTj5i/bfhYTV13ZAAAAAAAALSu7WTTZyIxBAAAAAAAMDNaTTbVWs9qc30AAAAAAABMtk19BwAAAAAAAMD0kmwCAAAAAABgZJJNAAAAAAAAjGxsyaZSyvbhY8tR5n9dKeX1pZTPl1JuLqX8VSnlEeOKDwAAAAAAgLUbS7KplPKYJLcluTXJNy0z/9wkf5vkSUlOS3Jqku9I8s5SysXjiBEAAAAAAIC1G1fPpickKUn+pdZ69TLz/0eSk4ZlDie5Zfh8U5JXlFJOH1OcAAAAAAAArMG4kk07ktQkf33kjFLKmUkeM5z/ziR3q7XeI8lTMkg8bUvynDHFCQAAAAAAwBqMK9l02nD6sWXmPT6DXkxJ8oJa664kqbX+WZK/HM57VOcRAgAAAAAAsGbjSjadOpzessy8C4bTj9Ra//WIeX81nN63k6gAAAAAAABYl3Elm45ZYXvfmsEQeu9dZt5Nw+lJHcQEAAAAAADAOo0r2fSl4fTMpS+WUs5Jcu/hnx9cZrnF+A51FBcAAAAAAADrMK5k0z9ncO+lJxzx+sVLnv/NMsudMZwuN/weAAAAAAAAPRtXsuntw+kFpZTfKaV8Yynl4iQ/kcEQelfVWm9aZrkHDqf/Mo4gAQAAAAAAWJtxJZtekeQLw+cvSPLhJJcn2TZ87VePXKCUMpfkURkkoz40hhgBAAAAAABYo7Ekm2qtt2cwhN6NGQynt/ioSX6l1vqmZRb77iQnD5+/ZxxxAgAAAAAAsDZz49pQrfVDpZRzkzwuyTlJ/v/27jzasquuE/j3l1QCJEASEsAwJTZgAw0Big6D0ASQQWUUQbCRSQYXoriclixEugIqrXZURBtFgQCiNIpzAy0RAjZEGiogBEIcQshi0JCJIQkZqN1/3FPk8fKq6r1z7z3nnbqfz1p3nXvP3fv8fm/vfe6tVb91zr0yyRmttXP30eW2Sd6YWUHqzEGSBAAAAAAAYEsGKzYlSWvtqiRv32TbVy85HQAAAAAAAOY01G82AQAAAAAAcBBSbAIAAAAAAKA3xSYAAAAAAAB6W+hvNlXV+d3T1lq74wb7+/qW4wEAAAAAALA9LLTYlOTEbts22N+SVM/jrj8eAAAAAAAA28Cii00XZuPC0L72AwAAAAAAMGELLTa11k7cyn4AAAAAAACm7ZCxEwAAAAAAAGC6Flpsqqqzq2p3VZ2ybv8duseNFxkPAAAAAACAcS36yqZ7dY+j1u2/IMn5SR654HgAAAAAAACMaMjb6NWAsQAAAAAAABjAootNV3Tb4xZ8XAAAAAAAALahRRebLuy2j1vwcQEAAAAAANiGdiz4eGckuWuSx1bVOUn+McnVa95/UVU9ocdxW2vtOYtIEAAAAAAAgMVZdLHp15I8PcnRmRWd7rrmvUry0DmOrdgEAAAAAACwzSz0Nnqttc8leUCSv8nsiqbqHntVzwcAAAAAAADb0KKvbEpr7bwkj6uqHUmOS3LjJOcnaUl+JMm7Fx0TAAAAAACAcSy82LRXa+26JP+WJFXfvDjpotbaZ5cVEwAAAAAAgGEtrdi0zpsyu7LpwoHiAQAAAAAAMIBBik2ttWcNEQcAAAAAAIBhHTJ2AgAAAAAAAEyXYhMAAAAAAAC9KTYBAAAAAADQm2ITAAAAAAAAvSk2AQAAAAAA0JtiEwAAAAAAAL0pNgEAAAAAANCbYhMAAAAAAAC9KTYBAAAAAADQ244hglTVM7qn72mtfW4L/W6T5OFJ0lp70zJyAwAAAAAAoL9Bik1JTk/Sknxfkk0Xm5Lco+u7J4liEwAAAAAAwDYzldvo1dgJAAAAAAAAcEPbvdi0N789o2YBAAAAAAAc9KpqV1W17nHm2PlMxXYvNh3fbb86ahYAAAAAAABsaNsWm6rqdkle0L381zFzAQAAAAAApqOqTl9zhdLpY+dzsNux6ANW1U8k+Yl9vP3aqvrNAx0iyZFJju1etyTvXFB6AAAAAAAALNDCi01Jjk5yYmZFolqzv5Lcqsfxzkty2vxpAQAAAAAA7FtrbVeSXSOnMTnLKDZdnuSz6/adkFnx6eIkVx6g/54kX0vymSR/l+T1rbUrFp0kAAAAAAAA81t4sam19qokr1q7r6r2dE+f11r7q0XHBAAAAAAAYByHDBTnwu5xoKuaAAAAAAAAeqmqVlUtyTPX7H7m3v0bPB6yrv+uNe+duZ84p69pd/qa/Q+oqj+oqk9X1Ver6sqq+nhVvbyqjtngOIdU1VOr6m+q6otVdU1VXVxVZ1bVc6tqy3WcqrpzVb2sqv6+qj5XVV+vqsur6tyqem1VfddWj3kgy7iN3g201k4cIg4AAAAAAMDQqurwJL+e5IUbvH2P7vGsqnpIa+38rs/tkvxpkvuta39sklO6xw9V1WNaa1/bRA43TXJakh/ODes/N0pyVJK7JHleVb07ydNba/++yT9xvwYpNrEtnXjuuefmPve5z9h5AAAAAABwkDj77LPf0lp72ogp/J9ue48kt+mefyHJJ/bR/tIFxf39JM/onl+c5Lwke7o8ju723z7Je6rqPyU5Isn7k3x7994FST6b5CZJ7pXk8G7/KUnekOTJ+wteVbdO8s4k916ze0+STyf59+64d09y0+69RyQ5q6oe3Fr73Nb+1BtSbAIAAAAAAA4KrbXvTma3ucv1t9J7d2vtWUsM+5jMrkb6XJIfS/LXrbU9XR6HJXlJkl1d2xMyu/rpoZkVmj6Y5Mdba2fvPVhVHZvk9Uke1+16UlX9l9ba328UvKp2ZHaF1N5C01VJXpHkd1trl61pd1iSpyf5jSQ37+K/paoeujffvgYtNnV/8BOSPCrJ3ZIck+TGm+jaWmt3XGZuK+iCu971rrfYvXv32HkAAAAAAHDwGPOqprEcm+SiJA9srV249o3W2rVJTq2qOyX5oW73KzK7cul9SR7VWrt6XZ9LquoHkpyb6698enaSDYtNSX46yYO6519J8rDW2g3+87/L5fVVdXaSD2R2ddWDk3x/kj/Z/J97Q4MVm6rq3knemuRO69/aRPe2+IwAAAAAAAAW4mfXF5rWeU2uLzYdnuQbSZ69vtC0V2vt6qp6XZJf7HY9aKN2VXWjJD+5ZtdPblRoWnfsj1XVf0/y8m7Xj2cKxaaqum2SMzK7L+He4tJ1md23cMOBBAAAAAAAmICvJPnjA7T5SGYFpkO71+9urX3mAH3+Yc3zO1XV4a21a9a1+Z4kt+6eX5TkTZvIN0nemOuLTQ+oqiNaa1dusu8NDHVl04szu2VeS/KhJC9N8v7uki0AAAAAAICp2n2gekdr7ZqqujTJLbtdZ23iuF9c87ySHJXkS+vanLLm+Zmttes2cdy01i6sqsszu0hoR5J7Zfb7Ub0MVWx6VGaFpk8mOWWDyhsAAAAAAMAU/dsm2629cmgzfdZfaXTEBm1OWvP8vlX1rk3mkiQ3XvP8lvtstQlDFZtu123/QKEJAAAAAAA4iPSpe/TpUxvsO3bN8xO7Rx9H9eyXJDlkns5bcEW3/fxA8QAAAAAAAA52Ry7oOHPVi4YqNn262x4/UDwAAAAAAICD3eVrnv9Wa616Pk6fJ4mhik1vzuzyrscPFA8AAAAAAOBgt/a3n249VhJDFZtel+SDSR5WVc8ZKCYAAAAAALCa9qx5vtFvHR0sPrjm+QPGSmKQYlNr7RuZXdX090leW1Wvraq7DxEbAAAAAABYOVeseX6T0bJYvneueX6HqnrEGEnsWOTBqur8TcSrJM9J8pyqujLJJfnWCuNGWmvtjgtIEQAAAAAAOPh9cc3zO4+WxZK11j5WVWckeXi369VVdb/W2peHzGOhxaYkJyZp2fclaW3d+0d2jwNpc2cGAAAAAACsit1rnt+zqh7eWjtjtGyW62eTnJXkxkn+Y5L3VdVTW2uf3l+nqjohyfOT3Li19tPzJLDoYtOFURgCAAAAAADG9Z7Mrm46PrMLYN5dVedkVse4dk27l7bWzhkhv4Xprm56TpI3Z/bzSfdM8smq+pskf5vkX5N8NcnNknxb9/6Dk+zsDvHGeXNYaLGptXbiIo8HAAAAAACwVa21a6vqWUn+PMkR3e67d4+1fnPIvJaltfZHVXV5krckOTqzotPjusfSHTJEEAAAAAAAgCG11v42yT2S/GqSDyW5JN96VdNBpbX2jsx+n+qVSS46QPOrM7v664VJfmre2NWau96toqravXPnzp27d+8+cGMAAAAAANicGjsBkqqqzAptJyU5LslNk1yR5EtJzktyTmvtqkXFW/RvNgEAAAAAADCiNrvS6OPdY+ncRg8AAAAAAIDeBrmyqape37PrniRfTXJpZtW3D7TWLl5YYgAAAAAAAMxlqNvoPSvJIn4c6tqq+rMkP9Na+8ICjgcAAAAAAMAchryNXq15rH+9/rGv9w9P8pQk/1hVdx8scwAAAAAAADY0VLHp25N8R5I/6V5fnuS3kjwxyb2S3LnbPrHbf1lmV0K9Lcldk9w/yYuSfDKzotOxSf6qqg4fKH8AAAAAAAA2MMht9Fprn62qtyZ5UpJ3Jvmh1tplGzT9eJK/qKpTk/xRkid3/Z+a5P9V1e8meUOSpyU5Ickzk/z+AH8CAAAAAAAAGxjkyqaq+oEkP5DkM0meuI9C0zd1739fkguSPLmqntTtvy7Jc5J8vmv6uGXlDAAAAAAAwIENdRu9H87stnivb61dvZkOrbWvJ3l9ZrfNe+6a/dck+V/d/nsuPlUAAAAAAAA2a6hi00nd9p+32G9v+5PW7f94tz22d0YAAAAAAADMbahi0zHd9qgt9tvb/ph1+7/WbVvvjAAAAAAAAJjbUMWmf++2j95iv73tL1q3f28R6uLeGQEAAAAAADC3oYpN783sN5YeV1VP2UyHqvrBJI/L7Oql9657+27d9ksLyxAAAAAAAIAtG6rY9Kok3+ie/2FV/XZVfcdGDavqO6rqd5K8qdv1jSS/ua7ZIzIrQp29jGQBAAAAAADYnB1DBGmtfayqXpzk1zIrcL0gyQuq6t+SnJ/kyiRHJPkPSb6t61bd9sWttY/tPVZV7UxyUvfyHQOkDwAAAAAAwD4MUmxKktbaaVV1cZLfSHJ0t/v4XF9c2mtvkenyJD/ZWnvjuvfPS3L77vkXl5ErAAAAAAAAmzNYsSlJWmtvrKq/TvLsJI9PsjOzK5r2ujKzW+P9ZZI3tNYu3eAYVyS5YoB0AQAAAAAAOIBBi01J0hWQTktyWlVVkqOSHJlZAenLrbU2dE4AAAAAAAD0M3ixaa2usHR59wAAAAAAAGBiDhk7AQAAAAAAAKZLsQkAAAAAAIDeBrmNXlW9bN5jtNZevohcAAAAAAAAWJyhfrNpV5I25zEUmwAAAAAAALaZoYpNSVJz9J23UAUAAAAAAMASDFVseugm2hyS5Lgk90vyjCTHJnlrktcuMS8AAAAAAADmMEixqbX2vi00/5OqekVmhaanJjm3tfaLy8kMAAAAAACAeRwydgIbaa19Ocn3J/lCkl1V9YCRUwIAAAAAAGAD27LYlCSttSuTvCGzHH9s5HQAAAAAAADYwLYtNnU+2W0fNGoWAAAAAAAAbGi7F5sO77a3GjULAAAAAAAANrTdi02P6rZfHjULAAAAAAAANrRti01V9cIkP5ikJfnQyOkAAAAAAACwgR1DBKmql22y6eFJbpPkIUlOSFKZFZtevZzMAAAAAAAAmMcgxaYkuzIrGm1FddtXtNbOWGw6AAAAAAAALMJQxabk+uLRZlyT5D1J/kdr7T1LygcAAAAAAIA5DVVseugm212d5PIk/9Jau26J+QAAAAAAALAAgxSbWmvvGyIOAAAAAAAAwzpk7AQAAAAAAACYLsUmAAAAAAAAelNsAgAAAAAAoLdBfrNpvaq6bZL7JrldkpsnOfRAfVprL192XgAAAAAAAGzNoMWmqrpPkl9N8pAe3RWbAAAAAAAAtpnBik1V9X1J/jjJYUnqAM3bujZtWXkBAAAAAADQ3yDFpqq6dZI3JTk8yRVJTkvywSTvyqyQ9AtJPpbkhCSPSvKYruubkpw+RI4AAAAAAABs3VBXNv1okiMzKyw9trV2ZpJUffPipXNaa+/onr+mqnYmeXuSZyT5p9baKwfKEwAAAAAAgC04ZKA4j8ys0PSevYWm/Wmtnd31uTrJy6vq5OWmBwAAAAAAQB9DFZvu1G3P2Mf7h63f0Vr75yRvTnJokucvKS8AAAAAAADmMFSx6ahue+G6/dd02yP30e8D3faUhWcEAAAAAADA3IYqNl3Vbfes2//lbnuHffTb2/74hWcEAAAAAADA3IYqNu29oumW6/b/c7f9zn30O2k56QAAAAAAALAIQxWbPtZt775u/weSVJKHV9W91r5RVScm+ZEkLcl5S84PAAAAAACAHoYqNp2ZWVHpYev2vzGzW+UdmuTMqvqVqnp+Vf1Kkt1Jbta1e9tAeQIAAAAAALAFQxWb/jKzotIdq+r+e3e21j6V5LTMClE3S/IzSV7TbY/umn0iyW8NlCcAAAAAAABbsGOIIK21i6vqzkkOT3LRuvd+rqq+kuTFSY5c1/XPkjy/tfb1IfIEAAAAAABgawYpNiVJa+0z+3nvl6rqtCQPSHLrJFcm+Uhr7QtD5QcAAAAAAMDWDVZsOpDu6qX3jp0HAAAAAAAAmzfUbzYBAAAAAABwEFrKlU1VdWiSB3Yvr22tnbXF/vfP7PedkuT/ttb2LDI/AAAAAAAAFmNZVzb9aGa3xHtvkvv26H+/JGd2/Z+3uLQAAAAAAABYpIUXm6rqsCQv7V6e0Vp71VaP0fU5I0kleVlVud0fAAAAAADANrSMIs6jk9yye/7zcxxnb99vS/K9c2UEAAAAAADAUiyj2PQ93fac1tpH+h6ktfbhJJ/oXj567qwAAAAAAABYuGUUm05O0pK8awHHeldmt9I7eQHHAgAAAAAAYMGWUWy6Xbf91wUca+8x7rCAYwEAAAAAALBgyyg2HdVtL1nAsS5dd0wAAAAAAAC2kWUUm67otosoEN282165gGMBAAAAAACwYMsoNl3cbU9cwLH2HuPi/TUCAAAAAABgHMsoNn0qSSV5xAKO9YgkrTsmAAAAAAAA28wyik1/123vW1X37XuQqrpfkvutOyYAAAAAAADbyDKKTW9PcnX3/Her6qZbPUDX5/e6l9ck+dMF5QYAAAAAAMACLbzY1Fr7QpI/yOxWevdM8s6qut1m+1fV7ZO8K8lJmd1C73XdMQEAAAAAANhmlnFlU5L8fJLzuuffmeScqvr1qtpZVTeIWVWHdO/9RpJPJHlA99Y/JXnJknIEAAAAAABgTjuWcdDW2leq6rGZ/dbS7ZPcLMlPdI+rquqzSS7vmh+d5IQkN+leV7f9XJLHtta+sowcAQAAAAAAmN9Sik1J0lr7l6q6d5I3JfneNW8dkeQu65rXutfvSPLM1toly8oPAAAAAACA+S3rNnpJktbapa21xyR5YJK3JdlbPKp1jyS5tGvzwNbaYxSaAAAAAAAAtr+lXdm0VmvtrCRnJUlV3SXJbZMc2719SZIvtNbOHSIXAAAAAAAAFmeQYtNarbVPJ/n00HEBAAAAAABYvKXeRg8AAAAAAICDm2ITAAAAAAAAvSk2AQAAAAAA0JtiEwAAAAAAAL0pNgEAAAAAANCbYhMAAAAAAAC9KTYBAAAAAADQm2ITAAAAAAAAvSk2AQAAAAAA0JtiEwAAAAAAAL0pNgEAAAAAANCbYhMAAAAAAAC97Rg7Acbztav2ZM+elkMOqU332bOn5QMfvypJ8sCTbrLpvkP3W5WYY+Ta15TGdYyYQ8/HWMzl9ovZ15TGp68pzeWUch0j5qqsuzFMaS77mtK6m1LMKeU6D7luL1Nbd1P6DlqFXKd0Xo4Rc0rnyJRiTmkNzNN3SuPT15TGdd6+rK5Dd+3aNXYOjODUU0/9katz3PFPePJzcqtjNl9z/OT51+TnfvtLOXP3lTn5bjfZdN+h+61KzDFy7WtK4zpGzKHnYyzmcvvF7GtK49PXlOZySrmOEXNV1t0YpjSXfU1p3U0p5pRynYdct5eprbspfQetQq5TOi/HiDmlc2RKMae0BubpO6Xx6WtK4zpv386pW+3A9LmN3op739lXbq39R69vv5W+Q/dblZhj5NrXlMZ1jJhDz8dYzOX2i9nXlManrynN5ZRyHSPmqqy7MUxpLvua0rqbUswp5ToPuW4vU1t3U/oOWoVcp3RejhFzSufIlGJOaQ3M03dK49PXlMZ13r6sLsWmFff+j16ZPXvaptru2dPy/jUfLpvtO3S/VYk5Rq59TWlcx4g59HyMxVxuv5h9TWl8+prSXE4p1zFirsq6G8OU5rKvKa27KcWcUq7zkOv2MrV1N6XvoFXIdUrn5Rgxp3SOTCnmlNbAPH2nND59TWlc5+3LalNsWnEXXfaNnHvBNZtq+6nPXJMvXf6NLfcdut+qxBwj176mNK5jxBx6PsZiLrdfzL6mND59TWkup5TrGDFXZd2NYUpz2deU1t2UYk4p13nIdXuZ2rqb0nfQKuQ6pfNyjJhTOkemFHNKa2CevlMan76mNK7z9mW1KTax6Ush114+uZW+Q/dblZhj5NrXlMZ1jJhDz8dYzOX2i9nXlManrynN5ZRyHSPmqqy7MUxpLvua0rqbUswp5ToPuW4vU1t3U/oOWoVcOw+PwAAACINJREFUp3RejhFzSufIlGJOaQ3M03dK49PXlMZ13r6stmrNJXDzqqozk5yS2Q+fnZrkud3jrkkqyTlJfqe19of7OcYTk/xwkpOTHJPksiQfTvK61tqfLyHn3Tc97u47T37y/170oTnIvPnU43PbWx62qbafv+jaPH3XF5ec0WrbynyMxTrYvra6fqY6lz63GMPQ627I74Mpnier8nnHckxp/RzMufa1iufzlP7tM6Vc+xrjvJzSZwHLYQ3sn++g5dnP2NbQuTA+VzYt1qFJ/jzJa5PsTNKS3DTJ/ZO8uapOXd+hqg6vqrcmeXuSRyc5LsnXuu2jk/xZVf1RVW3v/13moPXR867efNt/2nxb+tnKfIzFOti+trp+pjqXPrcYw9DrbsjvgymeJ6vyecdyTGn9HMy59o6zgufzlP7tM6Vc+xrjvJzSZwHLYQ3sn++g5ZnC/1MxHMWmxXphkockeVaSm7fWjkpy+yR/3b3/0qq687o+v5zkKZkVpl6R5NjW2i0yKzb9ctfmB7v3NqWqdh/okeQu++p/+GHJyXe7cW50+NYL0Icemuw4dMvdevcbI9dVGZ8bHV553hOOzqPuf+Sm+zzyfkfmuY8/qlc8c7l/feZjLPOsg1WYyzFy7bt+pjaXq/C5NaV1tyrjM/S6G+P7YIzPAp93B0/MKeU6pfWzCrn2NbXv9il9B61KrlM6L6f0WTCl74MpfV+OsQZWYXz6mtq4Dv25zsHPbfQWYM1t9JLkYa219657/0ZJzk9ymyQvba39Urf/tkkuSLIjyStbay/Z4NinJfmpJNcmOaG1dsBrMbti0oHc5abH3f2I9bfRO2XnEXnBE4/OrW6xIxddel3+59svy/s/etUmDnd93ySD9hsj11UZn1vdYsem2q83Tzxzuf9cp8Rcbq9c51k/U5rLVfjc6tvPZ+zych1j3Y1hSnPZ1yqcI6tyXs4Tsy+5LifXvqb03T6176BVyDWZznk5pc+Cvv2mdl72jTlPrn1N6fzq28930PJiHmBs3UZvBSk2LcCaYtMHWmsP2keb1yd5dpK3tdae0u17UZJXJfl6klu31r6yQb9jknwxyY2SvKi19uoF5XyD32x6/hOOzlMfefMbtH3r334lr/2Ly/d7vI36Dt1vVWKOkWtfUxrXMWIOPR9jMZfbK9d5TGl8+prSXE4p1zFirsq6G8OU5rKvKa27KcWcUq7zkOu++41hautuSt9Bq5DrlM7LMWJO6RyZUswprYF5+k5pfPqa0rjO23cDik0ryG30FutD+3nvC932Fmv2/edu++GNCk1J0lq7LMlH1rVfinMv2Pgem5/6zIHvvblR36H7rUrMMXLta0rjOkbMoedjLOZy3/3GitnXlManrynN5ZRyHSPmqqy7MUxpLvua0rqbUswp5ToPue673ximtu6m9B20CrlO6bwcI+aUzpEpxZzSGpin75TGp68pjeu8fSFRbFq0r+7nveu67WFr9t2q237+AMf93Lr2S/GBj1+VS778jW/Zd/Hl1+WDnzjwJZTr+w7db1VijpFrX1Ma1zFiDj0fYzGX2yvXeUxpfPqa0lxOKdcxYq7KuhvDlOayrymtuynFnFKu85DrvvuNYWrrbkrfQauQ65TOyzFiTukcmVLMKa2BefpOaXz6mtK4ztsX9lJsWmHHHX3ot/wA3J49ybvO+tq3tHnXWVdkz57rX9/o8MpzH3/UDX7sbn3fofutSswxcu1rSuM6Rsyh52Ms5nJ75TqPKY3P0H/jPH2nNK5Tirkq624MU5rLqfyNqxJzSrnOQ67b63NrautuSt9Bq5DrlM7LMWJO6RyZUswprYF5+k5pfPqa0rjO2xf2mtavzR98Luq2tztAu73vX7TfVlt0i5sfmtNfdnxes+YH4P7hnKvytO8+6ptt/uGc6yvaD773TfKj33/MN3/87btOPnKffYfutyoxx8i1rymN6xgxh56PsZjL7ZXrPKY0PkP/jWOMz5RyXZXx6Wtq3wdTmsup/I2rEnNKuc5Drtvrc2tq625K30GrkOuUzssxYk7pHJlSzCmtgVUZn76mNK7z9oVvaq15zPlIcmaSlmTXftrs6tqcuWbfi7p9VyU5ah/9jk7y9a7djy0w5907d+5se334U1e2l/3eRe2iy65ta1102bXtZb93Ufvwp65s+7JR36H7rUrMMXLta0rjOkbMoedjLOZye+U6jymNT19Tmssp5TpGzFVZd2OY0lz2NaV1N6WYU8p1HnJdTq59TW3dTek7aBVyndJ5OUbMKZ0jU4o5pTUwT98pjU9fUxrXefvuw+j/Z+8x/KParPDAHKrqzCSnJDm1tbZrH212JflvSd7XWntIt++2SS7I7AqzV7bWXrJBv19N8rNJrk1yQmvtiwvKeffOnTt37t69exGHAwAAAACAJKkDN+Fg4zebRtRa+3ySV3UvX1xVp1bV0UlSVUdX1SsyKzQlya8vqtAEAAAAAACwKIpN43tJkrdlVu19WZJLqurSJJckeWnX5o+T/MI46QEAAAAAAOybYtPIWmvXtNaekuRJSd6ZWZHpZt32nUme2Fr7r621a0dMEwAAAAAAYEN+s2lF+c0mAAAAAACWwG82rSBXNgEAAAAAANCbYhMAAAAAAAC9KTYBAAAAAADQm2ITAAAAAAAAvSk2AQAAAAAA0JtiEwAAAAAAAL0pNgEAAAAAANCbYhMAAAAAAAC9VWtt7BwYQVW9JUlaa08bOxcAAAAAAGC6FJsAAAAAAADozW30AAAAAAAA6E2xCQAAAAAAgN4UmwAAAAAAAOhNsQkAAAAAAIDeFJsAAAAAAADoTbEJAAAAAACA3hSbAAAAAAAA6E2xCQAAAAAAgN4UmwAAAAAAAOhNsQkAAAAAAIDeFJsAAAAAAADoTbEJAAAAAACA3v4/bY3zC1q49BcAAAAASUVORK5CYII=\n"
                },
                "metadata": {
                  "image/png": {
                    "width": 845,
                    "height": 629
                  },
                  "needs_background": "light"
                }
              }
            ]
          }
        },
        "ebda284fa27b4c4db4d683f8385a1528": {
          "model_module": "@jupyter-widgets/base",
          "model_name": "LayoutModel",
          "model_module_version": "1.2.0",
          "state": {
            "_model_module": "@jupyter-widgets/base",
            "_model_module_version": "1.2.0",
            "_model_name": "LayoutModel",
            "_view_count": null,
            "_view_module": "@jupyter-widgets/base",
            "_view_module_version": "1.2.0",
            "_view_name": "LayoutView",
            "align_content": null,
            "align_items": null,
            "align_self": null,
            "border": null,
            "bottom": null,
            "display": null,
            "flex": null,
            "flex_flow": null,
            "grid_area": null,
            "grid_auto_columns": null,
            "grid_auto_flow": null,
            "grid_auto_rows": null,
            "grid_column": null,
            "grid_gap": null,
            "grid_row": null,
            "grid_template_areas": null,
            "grid_template_columns": null,
            "grid_template_rows": null,
            "height": null,
            "justify_content": null,
            "justify_items": null,
            "left": null,
            "margin": null,
            "max_height": null,
            "max_width": null,
            "min_height": null,
            "min_width": null,
            "object_fit": null,
            "object_position": null,
            "order": null,
            "overflow": null,
            "overflow_x": null,
            "overflow_y": null,
            "padding": null,
            "right": null,
            "top": null,
            "visibility": null,
            "width": null
          }
        },
        "506daa3225e944faa9d5d078019106b8": {
          "model_module": "@jupyter-widgets/base",
          "model_name": "LayoutModel",
          "model_module_version": "1.2.0",
          "state": {
            "_model_module": "@jupyter-widgets/base",
            "_model_module_version": "1.2.0",
            "_model_name": "LayoutModel",
            "_view_count": null,
            "_view_module": "@jupyter-widgets/base",
            "_view_module_version": "1.2.0",
            "_view_name": "LayoutView",
            "align_content": null,
            "align_items": null,
            "align_self": null,
            "border": null,
            "bottom": null,
            "display": null,
            "flex": null,
            "flex_flow": null,
            "grid_area": null,
            "grid_auto_columns": null,
            "grid_auto_flow": null,
            "grid_auto_rows": null,
            "grid_column": null,
            "grid_gap": null,
            "grid_row": null,
            "grid_template_areas": null,
            "grid_template_columns": null,
            "grid_template_rows": null,
            "height": null,
            "justify_content": null,
            "justify_items": null,
            "left": null,
            "margin": null,
            "max_height": null,
            "max_width": null,
            "min_height": null,
            "min_width": null,
            "object_fit": null,
            "object_position": null,
            "order": null,
            "overflow": null,
            "overflow_x": null,
            "overflow_y": null,
            "padding": null,
            "right": null,
            "top": null,
            "visibility": null,
            "width": null
          }
        },
        "f60982323f0545088bf5206f9b95b489": {
          "model_module": "@jupyter-widgets/controls",
          "model_name": "SliderStyleModel",
          "model_module_version": "1.5.0",
          "state": {
            "_model_module": "@jupyter-widgets/controls",
            "_model_module_version": "1.5.0",
            "_model_name": "SliderStyleModel",
            "_view_count": null,
            "_view_module": "@jupyter-widgets/base",
            "_view_module_version": "1.2.0",
            "_view_name": "StyleView",
            "description_width": "",
            "handle_color": null
          }
        },
        "b5be362c92fe49a499d413b71cc042b7": {
          "model_module": "@jupyter-widgets/base",
          "model_name": "LayoutModel",
          "model_module_version": "1.2.0",
          "state": {
            "_model_module": "@jupyter-widgets/base",
            "_model_module_version": "1.2.0",
            "_model_name": "LayoutModel",
            "_view_count": null,
            "_view_module": "@jupyter-widgets/base",
            "_view_module_version": "1.2.0",
            "_view_name": "LayoutView",
            "align_content": null,
            "align_items": null,
            "align_self": null,
            "border": null,
            "bottom": null,
            "display": null,
            "flex": null,
            "flex_flow": null,
            "grid_area": null,
            "grid_auto_columns": null,
            "grid_auto_flow": null,
            "grid_auto_rows": null,
            "grid_column": null,
            "grid_gap": null,
            "grid_row": null,
            "grid_template_areas": null,
            "grid_template_columns": null,
            "grid_template_rows": null,
            "height": null,
            "justify_content": null,
            "justify_items": null,
            "left": null,
            "margin": null,
            "max_height": null,
            "max_width": null,
            "min_height": null,
            "min_width": null,
            "object_fit": null,
            "object_position": null,
            "order": null,
            "overflow": null,
            "overflow_x": null,
            "overflow_y": null,
            "padding": null,
            "right": null,
            "top": null,
            "visibility": null,
            "width": null
          }
        },
        "fe9319e8128a4dbdb7fb115220c01b2d": {
          "model_module": "@jupyter-widgets/controls",
          "model_name": "TabModel",
          "model_module_version": "1.5.0",
          "state": {
            "_dom_classes": [],
            "_model_module": "@jupyter-widgets/controls",
            "_model_module_version": "1.5.0",
            "_model_name": "TabModel",
            "_titles": {
              "0": "Youtube",
              "1": "Bilibili"
            },
            "_view_count": null,
            "_view_module": "@jupyter-widgets/controls",
            "_view_module_version": "1.5.0",
            "_view_name": "TabView",
            "box_style": "",
            "children": [
              "IPY_MODEL_5a6e1cb43ca948eeba6fd659857f04ee",
              "IPY_MODEL_a02ef08893944fff9fe964a2faa22c30"
            ],
            "layout": "IPY_MODEL_1160a636e4794f53bb30f3aba935792e",
            "selected_index": 0
          }
        },
        "5a6e1cb43ca948eeba6fd659857f04ee": {
          "model_module": "@jupyter-widgets/output",
          "model_name": "OutputModel",
          "model_module_version": "1.0.0",
          "state": {
            "_dom_classes": [],
            "_model_module": "@jupyter-widgets/output",
            "_model_module_version": "1.0.0",
            "_model_name": "OutputModel",
            "_view_count": null,
            "_view_module": "@jupyter-widgets/output",
            "_view_module_version": "1.0.0",
            "_view_name": "OutputView",
            "layout": "IPY_MODEL_6a599314f3584b09bb2941ed687b95cd",
            "msg_id": "",
            "outputs": [
              {
                "output_type": "stream",
                "name": "stdout",
                "text": [
                  "Video available at https://youtube.com/watch?v=aJhffROC74w\n"
                ]
              },
              {
                "output_type": "display_data",
                "data": {
                  "text/plain": "<IPython.lib.display.YouTubeVideo at 0x7f817df44a50>",
                  "text/html": "\n        <iframe\n            width=\"854\"\n            height=\"480\"\n            src=\"https://www.youtube.com/embed/aJhffROC74w?fs=1&rel=0\"\n            frameborder=\"0\"\n            allowfullscreen\n        ></iframe>\n        ",
                  "image/jpeg": "/9j/4AAQSkZJRgABAQAAAQABAAD/2wCEAAUDBAoKCw4KDQ4LCgoKDQ0KCgoKCwsKCgoNCwoNCg4KDgoLChANCgoOCgoKDRUNEBERExMTDQ0WGBYSGBASExIBBQUFCAcIDwkJDxIQEBIVFRISEhIVEhUSEhISEhUSEhISFRUSFRIVEhUVFRIVFRISFRISEhISEhUSEhUSFRUSEv/AABEIAWgB4AMBIgACEQEDEQH/xAAdAAEAAgIDAQEAAAAAAAAAAAAABQYHCAIDBAEJ/8QAWxAAAgEDAgIECQcGCgcHAQgDAQIDAAQRBRIGIQcTMUEUFiJRUmFxkdIIMlOBkrHRFSNCobTBFzNVYnKClcLT8CQ0NTZDdeEJN3N0orLxsyWDhJOUo7XiJkRU/8QAGwEBAAIDAQEAAAAAAAAAAAAAAAEFAgMEBgf/xAAxEQEAAgIBAwIDBgYDAQAAAAAAAQIDEQQSITFBUQUTYSJxgaGx8AYUMpHB4ULR8SP/2gAMAwEAAhEDEQA/ANMqUpQKUpQKUpQKUpQKUpQKUpQKUpQKUpQKUpQKUpQKUpQKUpQKUpQKUpQKUpQKUpQKUpQKUpQKUpQKUpQKUpQKUpQKUpQKUpQKUpQKUpQKUpQKUpQKUpQKUpQKUpQKUpQKUpQKUpQKUpQKUpQKUpQKUpQKUpQKUpQKUpQKUpQKUpQKUpQKUpQKUpQKUpQKUpQKUpQKUpQKUpQKUpQKUpQKUpQKUpQKUpQKUpQKUpQKUpQKUpQKVP8AipP6UXvb4KeKk/pRe9vgoIClT/ipP6UXvb4KeKk/pRe9vgoIClT/AIqT+lF72+CnipP6UXvb4KCApU/4qT+lF72+CnipP6UXvb4KCApU/wCKk/pRe9vgp4qT+lF72+CggKVP+Kk/pRe9vgp4qT+lF72+CggKVP8AipP6UXvb4KeKk/pRe9vgoIClT/ipP6UXvb4KeKk/pRe9vgoIClT/AIqT+lF72+CnipP6UXvb4KCApU/4qT+lF72+CnipP6UXvb4KCApU/wCKk/pRe9vgp4qT+lF72+CggKVP+Kk/pRe9vgp4qT+lF72+CggKVP8AipP6UXvb4KeKk/pRe9vgoIClT/ipP6UXvb4KeKk/pRe9vgoIClT/AIqT+lF72+CnipP6UXvb4KCApU/4qT+lF72+CnipP6UXvb4KCApU/wCKk/pRe9vgp4qT+lF72+CggKVP+Kk/pRe9vgp4qT+lF72+CggKVP8AipP6UXvb4KeKk/pRe9vgoIClT/ipP6UXvb4KeKk/pRe9vgoIClT/AIqT+lF72+CnipP6UXvb4KCApU/4qT+lF72+CnipP6UXvb4KCApU/wCKk/pRe9vgp4qT+lF72+CggKVP+Kk/pRe9vgp4qT+lF72+CggKVP8AipP6UXvb4KeKk/pRe9vgoIClT/ipP6UXvb4KeKk/pRe9vgoIClT/AIqT+lF72+CnipP6UXvb4KCApU/4qT+lF72+CnipP6UXvb4KCApU/wCKk/pRe9vgp4qT+lF72+CggKVP+Kk/pRe9vgp4qT+lF72+CgudKUrJiUpSgUpSgUpSgUpSgUpSgUpSgUpSgUpSgUpSgUpSgUpSgUpSgUpSgUpSgUpSgUpSgUpSgUpSgUpSgUpSgUpSgUpSgUpSgUpSgUpSgUpSgUpSgUpSgUpSgV03FyiY3MqZ7NzBc47cZ7e0V3VVuPv+F/X/ALlQlPflOD6SP7a/jT8pwfSR/bX8axxSmzTI/wCU4PpI/tr+NPynB9JH9tfxrHFKbNMj/lOD6SP7a/jT8pwfSR/bX8axxSmzTI/5Tg+kj+2v40/KcH0kf21/GscUps0yP+U4PpI/tr+NPynB9JH9tfxrHFKbNMj/AJTg+kj+2v40/KcH0kf21/GscUps0yP+U4PpI/tr+NPynB9JH9tfxrHFKbNMj/lOD6SP7a/jT8pwfSR/bX8axxSmzTI/5Tg+kj+2v40/KcH0kf21/GscUps0yP8AlOD6SP7a/jT8pwfSR/bX8axxSmzTI/5Tg+kj+2v40/KcH0kf21/GscUps0yP+U4PpI/tr+NPynB9JH9tfxrHFKbNMj/lOD6SP7a/jT8pwfSR/bX8axxSmzTI/wCU4PpI/tr+NPynB9JH9tfxrHFKbNMj/lOD6SP7a/jT8pwfSR/bX8axxSmzTI/5Tg+kj+2v416IJlcZUhh51II94rGFXng7/Vx/Sb76CZpSlSgpSlApSlApSlApSuUaZ9Q7z5qxtaKxuUxEzOoca+7T66kLSJAN/Pb3Fh87uyF82a5yXyHlkE9nLu+rNcduZ3+zG3RXj+8ouletip9E+ojB+okfh7a8xIPZyxy559x/HPuqa8yPWNInjz6S40pSuyJie8NExopSlSgpSlApSlApSlApSlAqrcff8L+v/cq01VuPv+F/X/uVCVWrOnQ/0Cx3entrurXY0jRkyUfZvuboAlcxqc7FL+SnkSPIQQqEFWODoIi7BR2sQoycDJOBzPYM1tt/2ht14Kmk6PD+bs7aB5FiXkh6sJaxcuzMcSSAeYSN56hKvaF0XcB6tILHT9X1CC/lOy2/KESdRM55BFHgkGWZsAJ1isxIABPKsI9KvAV7oV8+n3ahZUAdHQkxTxNkLPGxALRttYcwCCrKQCpAq8UhUhlJVlIZWUkFSDkEEcwQeea24+WcPD+HNB1mXHhcsUSTMoxvN3Ypcvy7dolgJUZON7eeg1FpW5fFuicKaPoeiaveWKXNzLYwvHZQKIhqVzJZ28hmup8fxUR3Eghtxm+a+CK6eGNL4f450y+S00u30TV9Pj6238F6tY5CyuYwzRQxiRHeIxuGjJQMrKSTgBrBwFwFqWsNIljA101unWzBXjQRocgMTK6juPZzqs1ud/2ffEFq1ve2gs4luLaBpp74P+dvEkkcrbuvV+SiAEA7m9grXLpi4607Veo8D0q20XqOt63waTrPCes6vbu/MR46vq3x256w9neDp44V0nTL2ODTL0apbPbrM9wHik2TNNMjQ5iAXlHHE2O3y/WKx9WwHy7uFbHTNZggs4IbOF9PimaKBBGjSNeXaFyB+kVjQZ8yjzVlHpH0HhLRdL0fVbqxjuLmSxRodOhAhXUriS2tZGuLmQA5igOc5DAm45q3ZQaXUrdRNA4S4h0BeIp7KPQYtNuGW8j05UXr1jZV8E/NxxrIbgzW4VygdGbAYDJPHobl4X4wW90ePRbbSjBb9baXkJja82hxEsrTLCkgmR2hfazyq2WVtwB3BpbSrZ0V6vplpd+EajaNqVukbmO0WVoVknGDH1kisCIQQd3Jx50Ycq2Y6CuJOHeK7uXRptA06wV7eSaK5s9i3CGNkXb1qW8b7trlhIG7UwVYMcBrz8njh611HXbGyuk661uJik0W+SPeoidsb4nV18pQcqwrs+Ufw5a6brt7Y2sfU2tvIiwxb5JNga3jcjfK7O3lMx5se2rH8nTS/BOMbS1zv8Gvp7ffjG7qVmj3YzyztzivF8r7/efUv/Fj/ZYaCC6E+i2/4jvRZ2wCIgEl1dSZ6m1jzjc2ObyMfJSIc2OexVd1yzq3R30fadIbO71fU7m7hPV3D2MKC3WQAbgP9CmXke1Vlk2kFScgirT0EznSeAdW1OIlLq5kkiE0YKyxhupsY8Op3AxvPLKrctpcnl21qFQZe6auCOG7SzivdI1RtR62bqZLScIl1Epjd+uKFIpVQMgTnFglx5XYDiGlbYa9oGicD6bZNeafBrmuampmlW9Km1s0VVLRrEySKdjSJGDt3SMJWLooSOg1PpW1cPDeicZ6Pe3thYR6NrWkIJnt7Q/6NdR7JJFQIESPMohmUEKGV1TczKcGM+RFwPpuqw6wL2K3fqYLfqbi4RX8D6xLsPOu4gLt2I5OR8wcxQaz16NMspJ5UgjUvLM6xRIMZd5GCKozyyWIHPz1tr0UcWcG3epQ8OW2iw3FnOXt01e92PezusTt15V4etjWRkONssZUMCEjxsGPtCsLLhzjN7FrZNRt1u47W0Sd9ptjczwSw3AbY++a3RgueW45OVzQYh464PvtIuPBL2E21xsWXqmeNzsfO1sxuyjODyzmoGtyfls8e6bbX1xp0uk2t1eT2SCLVZJds9uZUdUZY/B2yYj5Q8sZ9VRXQfwXw7JwdNqeqQptt7tnmuYkHhsiRTQMtnHJkFTO5EHzlwJW8pPnKGpdKzZxDqFjxdqWnaVpmmW2hZllhaWExyPNE/Vt18ypBEXeCGCaTaXcneQGHacg9JvF3DPCt2dEttEs9WazWNby91IpLNLK8ayMqs9u+DtZSWXYoYsqxgKMhqlWftX6PNMTgW21tYManLdNDJc9dOdyC7uIgvUmXqR+bjQZCA8s9pNe35QnR3pU+jWnFmkRNaWt23U3thkslvIXeMum45RVuInhKjyW3RMqqN2Z3X/+7Kz/APPN+33dBqvV54O/1cf0m++qNV54O/1cf0m++phEpmlKVKClKUClKUClKUHKNMnH+R66luFtPFzKI/0c9mDggevvz56gJbk8415u+FAHbzP6ueK2A6KuC1t4FZucrjLtjnz7gTzGOyqr4hm1XULX4fx+u2/byoPEXDUhjBVST2E5xjH7snHn5VQrrS5EPlA+3tI/61tp4BGBjHKoO+4et37UXzdlVmPl2pGpja2ycCt+8Tpq31pj5EgjuDdv1Gu7fnmO/l7fVWbeKuj+CVTgAd4K8jWENd0yawn6pxlG5I3ce/b6mxXVgz1zTqO0/qr+RxL4e/mHdG/Yp5Z+ax7PYfr5V2f/AB7u731053Lkc8jP1jl+sfvr7E/t7BzPs5H245H1j1134L9M69J/VX5abjbtpSld7kKUpQKUpQKUpQKUpQKq3H3/AAv6/wDcq01VuPv+F/X/ALlQlVq3I+UjpEvGGhadxFp6G5ntEeHULSAGSeNnEZlUIAHYwTo3khctHKsgG3mdN6tnRv0jarokrTWFzJamTAlQBZIZQOzfBKrRuRkgMV3LlsEZNQl86PujvU9Xuls7W3leUuI5HZHWG287zy7SIUUcznmeQAYkA56+XVxFawR6bwzbOJE0eFPCDyJVlgS3gjJzylECyOw5/wAbHz7apHEXyqOKbqIw+FJbBhtZ7W3iilIIwcSlWeM887oyrAgYIrCtzO8jNI7M7uS7u5LO7MclmYnLMSSSTzJoNt/lMcM3t3wpw5NbwTXEVpYwm5aFDIYRJp9ttdkXLBD1b+XjaMDJGRnr+Q5Zy6RZ6txBdI9vZRWqrDJKNguSheVhGGx1nlCGMEcmaQKMkED39N/H2o6NoHC9zYXD20xsEjk2bJEdfALM7ZIZFaOQAjI3KcHswa176TumfXdcQQ3t00lurBxbxxxwQ7gOTMkSL1pB5guWwScYoMz/APZ1sGu9TgBHWy2SlEJALBZShYD0Q0sYJ7tw89aw6nps9uxjmjlgdWKMk0bxurLjchVwCGXcuQeYyPPUhwRxZfaVcre2Uz2tzGCFkTa2VYYKMjqySIeWUdSMgHHIVO9LHStq3EDQtfypN4KHECpDFCqdbs3n82gLFuqj+cSBt5YychmH/tHf9vW3/K4f269r1fLW/wBkcL/8vk/ZNNrAXSNx5qOtzrdX83hVxHELdJOqhhxGsjyhNsESKcPLIckZ54zgDHLjTpA1LVIbW3u5+vh06MwWSdVDH1MZSNCu6KJWk8mCIZcsfJ7eZyGfOC/+7PVP+YR/tmm0/wCze/2xef8AL2/a4KwHZdIGpxabLoqT7dMuJBNNa9VCd8geOQN1xiMy+XBEcBwPJ7OZy6OekDU9Eme4sJ/BZpY+pkcRQzbo96vt2zxOo8pFOQAeXb20GY/kP8A2OpXF9d3UCag+mQJJa2Eu0xXEsvW4LI2Vkx1IQBwUzKCQSFxmH5LHHnFGp6vIt5bmy0qGGUNbxaclnbQTBlVI1lki68uMt+b6w9mSOVaZcBcZX+j3IvLGd7W4CtHvQKwZGxmN45FaOWMkK211YblVsZUEXPiP5QfEt5cQ3T30iPaP1tukKRQwI+3ZuaBI9k52ll/PB+TuOxiCFp6J4WTj1VYFWXVr0FSMEeXcd1Vz5X3+8+pf+LH+yw1C8R9MGs3mpxa1JOv5QtVWO2mSC3VYkUyEKIuq2PzmlOXDHyu3AAFX4u4iutSupL26k6+6uCGml2JHvKqEB2RoqL5KqOQHZQbSfI4v7fWNC1PhOWRYricSz2hcAgrLEi7lUY3+D3MMcrLkEiTlyBK65ca9G2r6ZcNa3NpcRyKxVWETvFLjseKVVKTIfOpPmOCCKrel6hNbyLPDJJBNEd8c0LtFLGw7GWRCGRh5wRWa9I+VfxVDH1ZuYZ8chJPawmQD+lGqBvawJ85NBjLXej/VbO0W/ubS4tbSWUW8clwnUGSRo2lAWKTErIURz1gXZyxnPKtkvl06dLq1tpfEFmj3NhLasskkKmQW+8rMnWBeceS0qEkeS0ZVsEgHXrpK6VNZ1zaL+6kuUjbfHDtjhgRsFdwhhRELhSV3kFsE8+Zz7OjLpl1zQ1MVldPFAzb2t5Ejngz3sscyN1THvMe0tgZJxQZ6+R5YS6Jo2ta7eo9taPbpHbdcpiNy0aTHCCQAOJJZ4IUYZVnZlzlTUb8hb/Z/Ef8A5GL/AOhf1hDpN6W9a10Kt9dPPFGxeOBVjggVuYDdVCiq7hSVDuGYAsM8zmP4G6QtT0mO4is5/B479BDdr1UEvXIqyKFzNE5TCzSDKFT5XqGAtPyTP95tN/8AMH/6MlWnpulVOPHdiFVdTsGZicAAC1JJPcABmsMcJ8QXOnXMd7bP1Nzbtvhl2pJsbaVzskVkbkxGCDXLi7iK61K6kvrqTr7q4IaaXYke8qoQHZGiovkqo5AdlBn3/tBdHuBrwn6qTqZbOHq5QjGNuqMgcbwNu5MZIzkAgnkRUrw7/wB2V7/55P2+zrFV98oLiObT30uW8M1rLGbeQywwSTvCU2GJrhousbK9sjEyfzqqtv0hammmPoqzkaZM4mkteqgIZxIkobrjF1w8uKM4DgcuzmaCy/JW4gg0/iPT7mdhHCJXhd25KnhNvLaq7E8lRXmUljyABJxirF8sPgi/tuIruUwTPDfyrPaTLGzpP1ka7o1ZQcyJIHQp87kDjDKTg+st8I/KO4n0+3FrFes8Ma7IhcQwXLxDuCyzRtIQowArMyqAAAAMUGW+kmBtE6PrTS7sGG/1KfrUtX8maNPCjelmjbDLsiECuMZR5lUgGvDr/wD3ZWf/AJ5v2+7rXXjnjHUNWuDd3s8t3OQFDyEAIo5hEjUCOKPJJ2IqjJJxkk165+kLU30xNFacnTInM0dr1UACuZHl3dcIuuPlyOcF8c+zkKCrVeeDv9XH9JvvqjVeeDv9XH9JvvqYRKZpSlSgpSlApSlArjI2BmuVePV5NsbH1Y9/KteS2oZ0jcp/oW0jwi+Rm5gF5PWFX5vb2cytbU2aqqgAdlax/JjlJvJV5YWHl5/KkA/dWwt1xVZW52SSKpHf+j7N3Ycd9VHIrvJr6L7hzFcW/dJT5xXilY13W+r28/8AFyI4PerA/ca897eRxc3ZUHnYgD21XXx91pS8aR1/I1Y06WtKFxCTjygMqe8Ecwc+fNWnW+kLT1OxX65/NCN5/VURruqQXEPIsjn/AIcqmN/ce0esVhGO9J6vZF8lLx0sHaJc5ynYcbgPMewj1c+Vd4YDn3A8x6mP7m51EzEw3ZHZ5R/X5X31IT/xjL3MOXu5fr51ezEWjfvG3mp7Tr2lJUry2M2VGfYfaK9VduG/VXv5cmSupKUpW1rKUpQKUpQKUpQKq3H3/C/r/wByrTVW4+/4X9f+5UJValKVCSlKUClKUClKUCvVYadNNnqo5JduN3VI0m3OcZ2g4zg+415at/Rx0l6toZlOn3DWnhOwT7YoJes6rfs/jonxt61+zHbQQni5e/8A/Pc//kS/BXlv9PmhwJI5It2dvWI0e7HbjcBnGRW5Fz0wa6OCI9YF235SbUDbm56m2yYt7r1fV9R1eMAc9ueXbWCdD1HWeONVs9MvL0PIwuFt5pIIgsIW3e5cbLdI9+/wZV59nKgxHSrtwd0eyX2troSypHI1zNaeEFCyAwdZl9gIOG6o8s99ZS+Td0PadecQXml6hLDOmmzT2otC08EmoNE08TTRNDKrosTQLIylux1HOg13pWTukzozgt72Cz068ttYmvppIUtrMNvtnEqpHC7SOebbyNzEY6tiT31c5Pk5W0cy6bNrmlw62+1V04rK0YlkAMdu12CAkjlkAXqyx3DCtkZDX6lZB4f6KL2XXl4cnK2d40rQu7gyImIWuFcBSN8bxhWUjGQ6mrB0m9CK6Ja3El1qNiL+CTFvpUZD3dxAbkQpcsOs/wBH3xE3Ajw56vGSDuChiW7s5IiA6PGWAdQ6shZT2MNwGVODzrorNXyptM1NLvTo765gu5JdNtjbPFD4MkMLSyhInGTvZW3Ev3g9nKpbh/5O9leS+Awa/pVxqxRilnAkstvI6IXZFvQcOAFYkrGzBQx28jQYa4L4UvdUuBaWcLXNwys4iQqGKoMs2XYDAHrqHmjKkqeTKSpHmIOCPfWw3yHdPltuK/BpV2TW8V5BMhIJSSIdW65BIOHUjIJHKsBa3/Hy/wDiP/7zQeOlKUClKUClKUClKUCrzwd/q4/pN99Uarzwd/q4/pN99TCJTNKUqUFKUoFKUoFRPEM2E2+cnPuX8alqg+J7YkgDzZ5e791c+aftRDfijtMr58mtAbudcZBt1JHZnMoOOXPsOKyLxrql69tLIsMEawyiOK3eAXE8ydhkCblVR6hnGeeMc8b/ACV3J1KRD2tbNnzHZLHj9RrZDWNCaQYBIDdoBxVbnv0ZJmY32XfExdeKNTr/ANY66IoyzL1sUcUmAxMAKKdx+a0ZJ2sD2jn2j11MdLEY2jK78HAXz55Y9lWrh/hkW5z35ro4ksFmcqw5d3trgyXmVlTFERphQW18sPW2xSCVpNvURxRKVi256x5ZI2LPv/QGOX6pexk1EkxSGO5jZQQ5CJMhwM5CjaRnOCMHAFXqLgaAnI7+3t/camoNCjiXaoAHsx/80nLNo6emPvYRxorO9z9zU3pLsDDcqTy3GvBcSZKt37R+ofjWSPlJ6SIxHIPSx9w/fWL4Xyqt6P7iKs+LMzijfpuFJzKxXLOvXuk9NcEEec5HqP8A1GaklNV+KQofYcfgf11OxsDXVjt02+kuO9eqv3OylKV2OUpSlApSlApSlAqrcff8L+v/AHKtNVbj7/hf1/7lQlVqUpUJKUpQKUpQKUpQKUpQbL3n/dvF/wA1P/1JKp3yJj//AJXp/wD+L/8A4y6rH78eaidNGjGb/wCzVl8JFt1UPKXJO/ruq67tY+Tvx6qh9A1eeznjureR4LiBxJDLGcMjKcgjuPmIOQRkEEEig2H6A+EL+bjeSZYJepsNQvZbuZlKRwAtOqqzsMdY7OgVBljnONoYiV6BZFHSLegkAte6yqgnBY9bcNgec7VY48wPmrF+tfKP4ouXhd75gbVhLGI7e1jQyKpUSSRrBsmPMkK4ZQ2CFBANUODjC/TUDqyTPHqLTveG5jCoxmldpHfYqhNrs7gx7dhVipXacUGVfk6zx2vG0HhGItt9e25Enk7ZpYrm3jjIPY5uHjQDt3EVWelPhfUW4ovLJI5RfXGpzvbgBld/CLppop1I5hGR1l3jsXnywahukzpS1bXHhkvplme1BELJDBbspfYWcmCNNzsY0PPkMeSF51a7T5S3FUcIgF8x2r1azPb2slyEAxt8IeAyMT272JfPPdQZ749voZekuwWMgtBEkNxjul8EuZcE95EMsI/V3Vq108TM+vaoWLMfylerliWOEu5EVcnuVFVQO4ADuqG4d4tvrK9XU4ZnW/SR5hcyBZ5DJIGDyN16uJHbe+S4OSSe2o/XNTmu55bqZusnuZZLieTCrvklcyO+1AFXc7McKABnkBQbOfKg4abVNc0DTg4hN5plhb9aw3CMSXEwL7cjeQuSFyMnAyM5qy9F2laLpvFsOi2Wk3Mlzp7us2sXV3dNMn+hsTcG0iC2yQv1gRXYbWEikBcgVq1xb0ganqM1vc3Fw73FjHHBaTRpHbyQJA5kj2tboh3o7FhIcvnHPkKuOtfKO4puVjR7+RRC6SqYYbeBneJ+sQyNFCplUMBmNso2BuU88hlX5OQx0g347P8ASdX/AGmStXdb/j5f/Ef/AN5q8XPTXrramNaFwiaiIvBhOlraACI5ypiMBjYncfLZS3dnAAGPp5S7FjzZiWY9mSTknl66DhSlKBSlKBSlKBSlKBV54O/1cf0m++qNV54O/wBXH9JvvqYRKZpSlSgpSlApSlAWmpTLlzgcgB7Mf9c1zh7c+b8KjNbk2qR3sdx/D3Z91cOa3/007MMaptN/J61QW+sRZ+bOk0H1lOsHvMQH11tVq/ECxRlvMO2tF9N1J7aaO5T58EiSr3bijhtvsOCD6jW3lnNBf2wnjOUmj3qPNkfNI7mVvJI84Nc3LjUbWfw/JH9M+nf8JWvg7WOvhWWTMZctgNy8nPJs92RUJxDxBbxMQ78yeSqCzH6gM1FcF398yCGaOCNNmYmy7O2JNm1k2jb5PlZXd9XLMbqOizhy6pbqSAxdusdhk/NAI5Y7SOz31x2x/ZiYWdbTMy4JxNNFKWwRbOfILcmX1kHsBOfZyqZbixDyzlvN31TNVsLq4cRCcKgJ63ZFGGIDcgCQ23K45cz217VtoLSLAy0rE4ZjuIHZy8wrmn7Hb1ZzaymdP92ZYVzy8pSB382H7qxna2v5vPmzn6wasHS1rgkkWIc8Nz+qoiOT82fZ+Aq24kTGPc+s7UHLtE5J16dnU0W5fq2n9x+6uzTLggYPaOR+r/OfZXm0588vN/n91eqaMhs45jBPrH4j99dFu7mj3SlK4W5yPZ3ns9VclYHvHvrow2ma92jJTU9n2lcth7a41uapjRSlKIKUpQKieIdINxtwwXZu7RnO7b6/5tS1KhKp+KTfSD7J+Knik30g+yfiq2UobVPxSb6QfZPxU8Um+kH2T8Vbp/Iz4R06+025kurSzvJEvmjSS6tYLh1TwO1bYHljYqm5mbaDjLMe81nL+DHQf5M0r+z7T/BoPy68Um+kH2T8VPFJvpB9k/FX6i/wY6D/ACZpX9n2n+DT+DHQf5M0r+z7T/Bol+XXik30g+yfip4pN9IPsn4q/UX+DHQf5M0r+z7T/Bp/BjoP8maV/Z9p/g0H5deKTfSD7J+Knik30g+yfir9Rf4MdB/kzSv7PtP8Gn8GOg/yZpX9n2n+DQfl14pN9IPsn4qeKTfSD7J+Kv1F/gx0H+TNK/s+0/wafwY6D/Jmlf2faf4NB+XXik30g+yfip4pN9IPsn4q/UX+DHQf5M0r+z7T/Bp/BjoP8maV/Z9p/g0H5deKTfSD7J+Knik30g+yfir9Rf4MdB/kzSv7PtP8Gn8GOg/yZpX9n2n+DQfl14pN9IPsn4qeKTfSD7J+Kv1F/gx0H+TNK/s+0/wafwY6D/Jmlf2faf4NB+XXik30g+yfip4pN9IPsn4q/UX+DHQf5M0r+z7T/Bp/BjoP8maV/Z9p/g0H5deKTfSD7J+Knik30g+yfir9Rf4MdB/kzSv7PtP8Gn8GOg/yZpX9n2n+DQfl14pN9IPsn4qeKTfSD7J+Kv1F/gx0H+TNK/s+0/wafwY6D/Jmlf2faf4NB+XXik30g+yfip4pN9IPsn4q/UX+DHQf5M0r+z7T/Bp/BjoP8maV/Z9p/g0H5deKTfSD7J+Knik30g+yfirf/wCUrwJpNroN5PBY2FvPGINk0FnbwypuvIUO2RIgy5RmU4PMEjvrSyiFT8Um+kH2T8VPFJvpB9k/FVspQ2qfik30g+yfiqf0WxMEYjzuwScgY7T5q9tKBSlKlBXnvL2OL57Be/Hax9ijma82u6mIFHLLNyUdwx3n1cxVRumeVjk7mfG0AZJbzAd3LPZy7KmI2lLXvFDZwigDzvkk/UCMe+uhdeuHPIovMDkBjmcZO4k4+sV4k0O5LbAjFx2oMFhy7CBnBx3GvVb8O3m4gQvkDJHIcuXPmfWKmuvU1Po99trE68sxSHs24ZWfn85SABtA78dnd3113V91wwdqScxtJwOwD5x5c+7njmedcLjha+VRIYJQGyowvMd2Co5g9vdn9VdniteCLrzFIEA5nYQCo7SQeeQQQTUzhx2neu/umL3rGkXcxEHYQQU+cCMEHPPl28qyH0TcdnT7prZyWsp5X2nOepYscSD+YwxuHsPnzQ4oGPkt5OAV3EggEc8Eg8l5jn2c6+abHiVQeWwgnPcM4Pu/GuXPgmIms+P3+bfhz6mLQ3h0pUniGCDjmjr2jPeD5qretcP3DsR1pCnkfOfV6vbVQ6OeIJbQKP4yE/o55pn0T5vVV01njuAKSAx5dm1s/dVBa0zXVXpcV9d57PA9itrEeeMd+e311irjzixIgdvlSNyUdv1+oV6OOOL7i5/NxqUXsyeXLzY81Ua70hsGR8lj3nv/AOlY48Vd7v8A2as+eZ3FP7qejPNKztzPf7T2CrDqI2R7eZ3YP1KRy+s/dXGzswhx/WNd94+3yzjswu7sHfnHaTk/qq8r9qYhR2jpiZeawQR825ue7uHt85/VUzFelew/UccuQ7MVXQd7Z7z5s491SV3YuqggE558u7l3+uuiNVaY3L7qFw8hyW+oggfqNR/W7e3I9Yzj3iuUEp7Ow9hHd7cHlXa1vnl80ns7wfwrOJY6fYZyO/I9oKn8DUtYzZ5EE+cd4HnU58oeqoERlTju7D6v8+avfYnuH2c493mH3VOkwmZoMDcCGU947vUa6K9FtMV8ocx81kwOweceevt5bgYZeaNzHq9VQxtT1h5qUpUtZSlKBSlKDcL5CX+y7v8A5g/7DaVsJWvfyEv9l3f/ADB/2G0rYSsWRSlCaDXXpm4FtdGs7jVrjXeK0RCWjt4ta2CWWRiY7WJfBSVBY4HbsQMx5KTUHDw7q1pwLqMmqXN1dXl7A131d5NNPJZxOsYjti07s4fC9Yy+TtZyuMqS33TOI7PizX/Dbi4t4uH+H5SmnwT3EMQ1K9GCbxomcFoIxsZd3IjqsfPmUZN+Ufq9tc8M6o0EsNwq2zKzQSpKqnKnaSjEA4IODQQHDvT/AKPZWtlA63r2yQ21pPqkNqz6Taz9QimGS93BSwbkerDgEHOMHGTekfj6y0eON5+ukluX6m0tLSF7m8u5MburhgQZcheZY4UZUEgsoOG/lD2UcPABjjRY40tNL2ogCqM3dmScDvJYkntJJJ7a83yh45ode0G7N22lWzQ3VpFqfUQXEVpcyw/NcXKNDH18ZEYZueA55BGIDMfRr0k2ertNDGl1aXlmUF1YahAbW8gEoLRu0e5laN1GQyswxjsyM1K8+UVo4EywxajfXNtPPby2VjZtcXai1KrJclA4SO1DOFEruu4q4AOxsdvR3wL4NrT6lPq/5Vv57BrXqGhs7ZzbpcwyifqrXbvWN2VOsKH+OUFuagwXyNLdBDrMgVRI/EF+jSBRvZY0gZELYyVVpZCAeQLtj5xoMnaB0iaZdaYNbSYLp3VvM88gZOrWJmWRXQjcHR0ZNoBJIG3dkZoNx8pPSYrdrya21i2s8Iba7uNNljtr8SMApt5txVsoTIN/VkqrEZxisG2OnzzdGcqwqzdXcSSyogJPUw6mHdsD9BAokJ7AqE91Xr5VfSrod9wvPbWd1DcyXUdo8VvbfnJLeOO9tpSZ40ybJVVVjxKEO9kTGTigzzYcdWkupHSB1q3gtE1JQ6Yjkt3kEW9H3HLCRtpUgcwe3Febg/pK07Ub+80y3dnutLYJdAqAm4syMEcMd/VyIUbkNrcqxV8oHU10O90XiVsiGBZtLvwilmkiubRpYVOBnbHPFI/tI9hxreyy8Ix6XxFIm661XTdSi1OQrgte3m7WLVZEA+ebpxAzY8lIuedoFBsq/SzpS2l3qDyPFaaddS6fLLJG356eFljZbdVy1wpkcIrKOZDdykjo4C6W7PUbs6e1vqOm3vVm4httVs2s5LmFSA00PlMrqpYAqSHGG8nyWxgzpk4On0jhvQULyW66bqNneardKguWtZp2eSW9aORWE4iu7h1AcEMWRSMNisj6JwMZtS03VrnXl1R7QznTk6jToFuBd2zJIsb2mwzBol38t+AhIwC1BauAtSt5Nb1iFLm/nng8B8ItLls2Nl1lszJ4GufI61QXk5DLAVXeE9ZubXjDUNMmmnlt9QsLbVLCKWWSSK16ljazRRI7kR9ZKZZCECghBn5orzdDn+9nE/t0f9gkqG+V3qjaLd6TxKis3gUt1YTogG6Rb20fqwckAqjxSNg8ssO8CgjehrpA1C44uvo5pZW0vUUu10qJ5neDdpd0tozQxF9kW9IbiRwqgsSpJ7atvCHHBW64h1y4muH0rTZ1063t1LskX5OhHhc0cJcIzyXEo8sAEhMZIrFnHli/DOj8L611btLpTsl3FnLk6xavcXG5ueWWXrVGWAy+M+UDV1PDsll0fzxvua4n02e/uWcfnDLebryTfy+cgl2H1JzoMvcW9IVlp+lflubrfAhHBOdibptt08Ucf5vcOe6dMjPLn24q1QSh1DDsYBhntwRmtVvlDcdac3A8NqlxFLc3lnpohhiYSSAQzWssjyIpJhROqZCz4AkKp84gVtHpP8TH/wCGn/sFB6aUpQYu+Vb/ALu3vst/2+CtCq31+Vb/ALu3vst/2+CtCqmESUpSpQUpSgUpSgrOvwNLNgZKrtj5HkGbnjkCcnI7uweqrr0X8PxMxbG5ssoYggqqnsXPME9hPbiqneACWQ5x8xwM48pVxnlzHJs57eQ7s1kHofcKiHOfLYN9bHu7F9ndyrO/bGzwxvJG2XuBtEgj7EUHvO0ZPPz/AK6yBpXD1vnPVp5WM+SDnBz5vrqt6HCBjHfzrIGhg4z/AJ/6VV77r+K6h6V4fiZduxNvZjaPdjGK+eLMCLtCKF5+SFGOZJPb25JPvNTlnL3eavS9bIYT9WlXyj+jcWF11sQ2219luQ5RugG+MYG1QVw4OOzIHzRnDwRlMbsMYZoWYDAfaeR5cuwkewVu18pLTUlsVdsZtp45k9qqynGOecNn6q1W6StLWOMFWwpmZVj7PKUPk4Hk5Ge32+kALOk9WHqn0UHJx6yzSPEx/hYuD9U6rETc1Iyh78Hljn7D7qvtu8Mg7BzrX7RNWPhO5j5LKIufYAoGCO7O/J+s+eswaSrFA6ncp83cfN7c15v4pgjDf5lP6bflP+1t8F5Nslfk5Z3esR+Mf9x4n8JSdxpcWcgD76p/G4CjA7avNpE7duRjvqlcXwBd8sh2IOXP3Dl7arMO75IiO645OqY5mfCm4GHc8lHf9VfOEeHptUnPaI1wD3AfzfdXj1C9HUE8hvbsHMYXn9YPKtgugrhsW9jG5Hly/nGPfluf3V6TLM4679fCiw1jLaPby7OGOjK0iUAoCRjmedSut8C20i4ChcDGB2Grki4rk0XKqu+W+/K5x4aa8QwJq/RTzLA/UO+qXqfC89tnkWj9f+eVbUNbAiorVOGUlUjGc92K24+XePLXfhY5jt2atTWSuMjt/UfUfxrxwxsp78rzA8471q/cacOtZSMwBMRPlDvXn2/VVZuYAcMOffkff9dW2LLF43CozYJpbUuiKb9MdnePV5/aPxqUQA8v0X5eoH/rmolUCt/N7fYO8ff+qvdanAK+Y8v3e7I/XWyZanmkTBI81ca9N7zAfz8j7R315qmJc9o1JSlKliUpSg3C+Ql/su7/AOYP+w2lbCVr38hL/Zd3/wAwf9htK2ErFkV8YZGO48jX2sYcedKFzDqI0bTrBtW1BYRd3Qa5jsrW0hdtql7h0fdKxxiMLnawIJwQAlP4GuG/5K0z/wDRQf4dS+m8BaTBby2UVnaRWlyc3FtHBGkExwBl4wu1+SqOY7hULo/GWpPpd5e3ennSryyS4dLWW5jvI5eptuvSUTwBVeJidhAwQVYZ76lOiHiWXU9Ks9QlWNJry3SeRIgwjVnGSFDszBfaTQS2q8O2dzbeAzQQzWe1E8FkjV4NsRVo16tht2oyIQMcto81dmu6Ha3kDWtxDDc2z4DQTxpLE20grlHBGVYAg9oIBHMVIUoKvwd0eaRpbtLZ2VpaSupjeWCFElZCwYx9Zjf1ZZEYpnBKqcchUvoOhWtmHW3hitlmla4mEMaxiWaQAPM4UDdKwVcseZwPNUjSgrp0QafYyQaZbWkTIrtbWmBb2jSMdxDdUnkBiTkgHtrB/EvR3q2sQNpf5I0nhuyvJoZNVvLS5gnuLqKGZbjZHHb2UX50yop3SkjkfPk7JUoIziHh6zvofBrmCG6t8qepnjWWPKc1OxwRkdxr5xDw5Z3qJFcwQXUcUizRRzxJKkciAqsiqwIV1V2AI7AT56gel/pBh0O0W4eOW5muJ47KytIBmW6uZ93VwhjyQEIxLnsAwAzFVMbwPxfrs90kF9ox06CRGcXcWpW9+kbBd3UyRxRKyN3bxlSew0F+vbWOVGikVJI5FKSRyKHR1YYZGRgQykEggjBFVXhzot0OxnF1bafZW9wuSk0VvGske4FTsbbmLKsy+TjkSOw1cKUEdYaHawzTXUcMUdxd7PCp0RVluOqUpH1jgZk2ISq57BXziXQLS/iNvdQw3cBIYw3Eayxll5htjgjIPYakqUEZxFw/aX0JtrmGG6tyVJhnjWWIlDlTsYEZU9nmr3SW6MhjKq0bKUMZUFCpG0oVIwVK8sdmK7aUFL0/oo0GGOWGPTrBIroKLhBbRFZlSRZVRgV5osqI4TsDKpxkCrnGgAAHIAYAHYAO6vtKBSlKDF3yrf8Ad299lv8At8FaFVvr8q3/AHdvfZb/ALfBWhVTCJKUpUoKUpQKUpQVniG7CTBcbRsJY+mSNwzy5eUiDl5vddOia5EVq0jH9I4yeQwSM+rmKrmuaF18UtwOTwHby2hSoUsc57WGR7wPNVx6I9AFxbKjc1KvLz78ty9ndWN8m6OqmC1cmvVk3h/pJsl8p3KhMc9udw9Sjmcjl2Z51lngbj7TbvKwzI7LzKcwR5+0d3OsE6Dpd2pCQ29mRuUbrpd7Mu7yiOWIjtJw2H54yKl+ItJazUy4hEnkCOW3h6iQM2OsUhfJeLm2DknGDyJxXLasR4/V348lvX9GwescR29pH10zrHHjduPf7B2mqladOOkT5EUhcrntVkBx63Uf5x567OIbI3OnQOAC4iG3cu5ScDDEHt7TVC0bS9XidgPBJoeRWGWFEdjjBRtsIaLnghxu5ctneZp9f1Z5rTHj9P8Aaa6ddZju9EuZom5wmGQZ7f45PMQCCGPMHB89a38fT9dZ274Efl84xn5+xkYnJ+f5AJPmIrZjpB0fdol2jJ1RlgZnjHMoykPgY7cMvI+ysGazwHdRcPyX9yNmwxS2qHtIku4oGkIwCjSeFO+3n2c8dg7MeSIxWj3nsrORitbJFvaszP4MVWVnv7P8mr30c6+1qxSQkwP3kEmJhyycd3cT6h3CqxokO3HvqzWlnkg9zcj34I7D9Y+6un+Trnxzjt4n97eVv8Vvxs/za+Y7x/mJ+9mix8pd3IgjIIxggjkRjuNY46crBzCCvzQ2W7u7A+rPL66t/CtykNqpc4VM4ycn5xIUDv8AMAKpPHfESXJ6vegT5phB3OQeWW25IPf3AV5r4X8PyfzE2j+mkzEzPbfp2+v6PZ/Gfi+H+WrSd9eSKzFa99b1O5+n362xlPak9TCO8op9sjjP31ubw7aCK3ROWEQDPsFaiaaA19AvcZ4h9Wd2P1Vs3xComURNdRWyD9AOgkbl2nJz9VdnIjcxCeJ9mFrF5GO0r7xXZHdq3srEjcI2pblqHlZ5BpFUfrIqd02C4tTtLiVD8185BHtFV+SsR4W+K/vC/RSjOOQAqTtpo+zIFVuEMV3gZ5Z5VU+KZd5w0/UK3cGCsfUOeT9VYU8923J4XDjThmG6ibykPI8wy/rrVzXrJrG5a3f5hOY27QM92e9azLo3DNiTuN5clu3aolI/9MR++qR0u8OwFd8E4mMQ3MjEdZgHnleTDl6q7sMxWe3q4M8Tev1hSrpBjOOzt9h5H7vur5E4G32FD69n79pH6646NMXUxn5y5Ge/s5/UV2n6hXXKcK3nUq/69hHuNWG1W9IJII8w9+DyPuz7689d2QHA8/d5+77sV1MMHHmqatGWPV8pSlZtRSlKDcL5CX+y7v8A5g/7DaVsJWvfyEv9l3f/ADB/2G0rYSsWRWF+l3o01T8ojiHRbiODVFgFtc2V0N1nqMUbblRm7Y5cALnIBxHhoiGZs0VjbjDTeKlu5JtPu9Kezl6vq7TU7afNrtjVHKT2jq8u91aTD9hbAwBQVvhvpR/LmjavFNbvp+qaZbXNvqNk53iJ2tZtkiSYG6KTq5MDtBVhlhtd8WaT0cM/Bw1ia9vze2um+FaaLa5ktbfT0tozJHHHDEQryOE/OSvliW5FdoNZn4I6JZrW21R7i5W61biBXF5dLEYreP8AMSQwxRwBiRFCJn5k7mGM9gqStejiReGvF7rkMpsH07wnY3V5eJo+t6vdnA3Z25oMXdOOu6hccOcOXEdw9tfahfaMZLmPIHWXWnyuzPGpAlj65g5iPktgA1JdNlk3CuhXEljNfy32pT21pLfTzSXt4XlLK9wgYgLO0fWKoj2AMyFcECrZxT0Sy3Wl6LponjR9CuNNuZJTGxW4Gm2zQMqqGyhkLbgSTj11celbga21zT5tNuNyxTgYkTG+KRGDpKueWVdRy7CMg8iaDXXhu5e01TTJNK0/i23WS5S11g6tbXz2t1b3GIjeTNNLKkc0MhEu9RGoG/sHKr1wZxA2icRatpt3K/gF1AeIbCWeQukEaAi8hBc+Qqsrssa+SscJPLOKtPC+h8WRNDDcahpc9rA8fW3C2E41C7ijdSyPm66iKSRAVMiqdpbOCRWPvlncLR6pdaLYxO8epXd3NbI0R2sunyQf6dIxBGVSMRnac7lMowcsCHq6P5kl0C+1zV7y70+DWrk3/WR3EsE1lYpcKLWyiaLcwEkaFcRLvkSfb845qt8NXNrZcTaOmmJrNnZ6mt/Hexan+UFgvhDaddHNGmoSNIzK7Bi4Cgfm8cmbOZOmTowXVdLi062lGnvYyW9xp7iMSQwvZjbFG0OcPEIyVxzAO04bbtNS1zow4ju7uw1eW/09tR0uSTqLZbKVNOWK4iMM5JExuZbiQCPmXVBtGAvMsF66b+jiPX7IWplktLiCZLyyu4c77a5hDBJcBlLLh2BG4HmCCCoIofR10l6zYajBw/r8MXhN2GGm6vaY8Fv+qQMyumF6ubzkKnNkHVqGV2yZ0kafq80cZ0y5t7S4ik3yLdwG4t7mPq2XqX2kSRDeUfehDeTjsJBoukdG2sX2p2era1c2LnSRMbGx0qCZLfrZ1VGnknuXaVyAiEIABuVCCAGVwq3S9b6Bd3V8m/XNR1ONW3fk2XUpoNHkFvtQDwdls7chozIUk3Hfv3DnirD0ZaZNxHwhaR3FxcR3U9t5F/HLILmOaGSSKO4MiuHlbCLvy2ZAXBOWzXDR+iXWbK4v4bTULaDStYu5r+ffZmbUbd7rAmjhkaQQ+UoCCSRX24B2E7t3bwj0Y63Z8PtoC31rEys9vBqEEEyzx2csjSSHYZcC8PWMispARSDksu8hjro3431Lii5g4euJlh/IzyS69d2lwFbV/A7hYII7do3Egt5Xw88iqAeWDFuRWnPlDcVmTX7bRZYdXutLhsTqNzZ6HHM9zeSSTtbok3g0kcq2UQQN5LgF2UEHySLnxL0HwRrp8ukvHpd/ouIradojKlxbsWMtrcqjI06SvJJIWzndJKRgyFhJ9KPRrcXt5aazY3K6drFgjQ9Y8fhFpd28mS1nPHlGaIOzsrg5Xcx27tjRhUvkwXd2t5qVqLbWbXRQbefSk1uG5jmgLxlLi3jluGcvD1iqypvO0czzZmOO/k/9H8mucN+G39/qM21bsWMUV3LCtq0ckn+kOVbddXPWgkGQsqoFUL21shwFaa4ru+pT6fKCqrFBp1tNCiEEkyNLcTyO5IwNuABioXoU6N5NF0QaO8yTuouB16IyIfCHdx5BYnyd+O3uoKTwBxPBdcF2l3q17c2kTRhLi9huJYruUW180axCaMNPI88dusbhMyOrScwTuFU4KvILLinS4NNTV7Kw1SC+S7ttU8PWK5NvbPcR3EUd/I0nWb0UF8DycAAB2zc5+gi48XbDR0u0jvtGul1G0uxCWt2mjuJ5UWSBmJMe25IPM+UoOCMqe3UejDiC41HT9bmvrCS+015U8FWzlisFt7mEwS9WRMbiS5Ks53OwXOzCrsbrAzjSlKDF3yrf93b32W/7fBWhVb6/Kt/3dvfZb/t8FaFVMIkpSlSgpSlApSu+wt+sdU9I4PqHaT7s1MRudQxveKVm1vERufuhwvoG6tIiD1UrBpQO3azBd3LuwoB82V84rJXRZsgk2Hku1lI83lbgP3VCyqN3o7F5exuW32eSD9Qrw6TfeWjcwHCsRzU81GQR2rz7qjlcb5d5r+/3ts+F/E45eCuTtuO0x7e35abH6XaRom4c+We721ROk+93MseRk93mGe31DPefNVk0PUx1AdsnK5AHb2fq7KxPxYl+ty9zGOsSVwWjA6zCgBdhHbt2+YjHbz5g8NInqXt7V6Pq2d4YtwlnbKexYgDnv7vuxU5FbpjlyHcB3VTuE9ekuLaMbDAFVMZAD8hll2sOS92SM+bz1LxyiM4GQGPk5OVBP6Jz2AnsrKYll1Vlw4x0lLuFrQsUWcbHdebBMbmx5mKqRn11hL5Y2rGK2stKTaiEddNHGNqrHDiOCPb3Jv6w+2FfNWWNU4ts7B457uVbeAydUJJM7RI6MVBIB2jyDljyGOeK1U6e+MIdW1ee4gYyWyrFbW8hBG5YV5sAwB2NO87DI5hs99bscd4VXMy6w2957KzpUefqAH41cNEjzy89Qmh2mBirJpEeDjvr0nFprT5Z8Szb3pXNQtZLlmSR36mN2UIDhcKxHzR2+05rqljiiXZGoVQDnA7eXee+pLUYyJJFHLLk/aAb99R+o2rJGzc8cvN3kCtOTHFKW6Y91hxc9s2bHF7TMTNdR/ZE8Nky3UdoIw73FzAEkB2uiqcuqtjK703DII7aztwDpd5JpikObd7l5dxVQrRqJmTauAMHC49VYV6K8HXLAHsMw9/VsB+vFbjXFsB5KqAoJOFAUZZi5P1sxPtNec5OWenT6RxMUdczHuwbxH0cTPJC0UnVdWjRzljJK05bP53ORiQA8jk4IBHZU1xXpgtrMklo7gB1iuIfIbnyiaQLykIZlDFgQe3vrJzWuOf7+X3VG6haLN+bYblYjIPPIBzj2VXfOm2t+i0+RERPT22x7fW9/bWkN099eSWzyRdbFtt4i8bOAcyRW6yRgqc7g2R+upnVNBDqssIMccm13TaVk9aMQd2c9pJJ9dZVt9PR4TGyqydmCBj3V03doABgdnLl/ntqbWnW2UViJ9/RhDh3oxkF1LcF1MUhdoYxuSWFnUAfnRz2pjIHn595z2cdcOXskJtzm4YqQsr43KQDglu9gccxis3WUGewDzZrr1mxXYcjn25rK2S8/a9muuGkbr7tKLyd7a4SGRVRovJcgAF/moSx/S+bn62ruuUxI6dzKQPrH7sGvZ0+wiO/yO1kyfbkj7qj2k3dXJ37R92P7xqxpkm8RafZV5McY7TWPdwSTIRvN5J92P3V3zDn/nzVHRthPY3u5nH3ipS77fqrZXy0ZI7OmlKVsc5SlKDcL5CX+y7v/mD/ALDaVsJWvfyEv9l3f/MH/YbSthKxZFKUoFee5v4o2VHeNHlOI0d1VpCCBhVJy5yyjlntHnr0Vjj5Q/RuNd05oY26nULVhd6ZcqxjeC5iGVHWqQyJJ8wkfNO18Fo1oMhXdykal3ZY0X5zuwRV545sxAHMgVzjcMAwIKkAgg5BB5ggjtBHfWrPA/El5xzLbafdwva2OjbJ+Io3wov9QikkjiserHZa7ojcSIwIzlCAUjkbPHHOq6zFLHDp9lbXKMheW6vL3wWCFgwVYRFHBLLK7DLbgAqgczzoLhXll02BpVuDHE08alEnMaGZFbOUWQjcqnJyAcczWP8Aoo6Uvyha3015CumzaNcT2uooZeugj8FTrHnWbYu6HZuPZ+iTkggmraT0v65dWL63DpCNpO2WWBHv1j1OWCLdi68HMHUhCELdV1u4rnYZMqXDOdRr6/ZhihuLcOpKshmjDBgcFSu7IYEEYqK6KOKjq2mWupGMQG8iExhD9YI8kjbvKru7O3ArW7o10XhmWXiObWU0/Eeu6iolvGRJ1i60nbE4YTAli20R+UWPk86DbG7vIogGd0jUkKGdlRSW7FBYgEnuFd9ae9GWpG04QtpL61bULOTWY00qC8leGSK1klVIJyyKfKSYTuqjyCGGOWKyP008Y69a8R6TZ2ccT210L0pA931Kag0VorsJz4M5txATuQjfvPaFxQZl1fiWztp7e0llSO5vzItpC2d85hVXkC4GPJV1JzjtqWrX/pclmbiHhJ50SGdm1Npoo5Otjjc2dsWRZSq9YqtkBtq5HPAq/wDR10itrN3cC1hV9HtD1C6q0hxe3KnDpbRCPEttH2G43gM2AoYHcAyDSsO2nSlqupz3a6PYW91Z6dM9nJeXt6bUXVxEAZIbeOO3kOEyv51yqtuHZXkn6fk/JK6sLVo/BtRj0rW7WeXZJpbGQRTSbxERciN3ixgIGD89hVlAZtpWJ+lzpmj0bVNO0vqfCPygy+FSiTZ4BDLcx2kVwyCNt0bTSSDJKfMwMk4qyycbE62uixxbwlidRu7neQsAafqIYAoQhpZGDvgsuFXIB7gudKUoFKUoMXfKt/3dvfZb/t8FaFVvr8q3/d299lv+3wVoVUwiSlKVKClKUCp7g+Dymk9EbR7W7f1D9dQNXDRI+rhXPIt5R853dn6sV28DH1Zdz4juo/4h5E4+LNY83np/DzP/AF+Ly65cFfJX5z5HsUdp+rOB6zXkZdyqRyxlfd+HKuWvyskb3IjMvVLkgchjOSc4OABnuNeXQNV662WXbtBZ9yZ3cgxHI4HPln9XfWPOvWbb33349obP4fxXrSIiNV6Z3Pvbcb9fTxv6Sy1o13FdWSRFjHIAIdyHDA9u7s7jk8xiuWg2d9HMYlktpdnMddE6yY7mYpNtcEc9wUD2VjuxvjEwZT+bbGTnl6m9xrMHDaQ3YTd/GKPJYcmA5ZHPtGWXl7arZrrvD1+HNXerQvOn2V6UzmzRzgfmhLJnl2+W6gADl291d8tpJEw62YzMRlwFCICOeFQZIHtJrq0rS0t/LBZiO48l8/pY+qofjDXEt7eW7kDFIY2lYLjc+BgRr3BnfyBnAyc1Mfaj2Z58tPEQwr8rDXuse1sQR5O+8lHeC2YYfZy8IOPWp9uI9Ih5ZPn5e3/OK9WpahJfXEl3MR1srlyB81QAAka/zEjVUGeeF588mvVoVtl0Xz75CO4dgA+/3V04KdcxMPLfEuTNItE/uNStmlw4Ud1SdsQGGSqgc8sQv1ZJAzju78V0QpgY7q7YRkjzCvSUrqHzfJeJtMz3hE3bsZmJHM7Dz5YzGvLHaD6q6dcJ6lvVg4+sV98PxeyKea+QPV/FrXr4igTqHYAZAB9Xzh3Voyd8V/ulacWejlYYmNbmkx+OlF4cvPB7+xuOzq7mPJ9QmUH/ANLGt6LqQdorQLUMmIsO2Nyw847x+ta3Y0TUfCbWGdTkTRRycv5yA/ea8jyPD6vxZ+09mragI0LdwBPrqsaPxTaxokkzlZp2bahDHb5RCgkDC+Tg8/PUndSDsbs7Dns514tW0+yAw5jU+tlUjP66rax33K4tO41C2QcX2kMO+Qsqk4JVXkP1Kik8vZXVr2oK8a3Nu3WR7dxxnyhn78c6geG/BInwJkaIjkHk3DPZ2Emriktu0ZCNGVA7FK4H1DsrOd2rpMx0W3qX3hzVVdQwxzGfZXr1mQGMn1GqxpkHVSFV5qeYHdzqY1EEofZ+6lbz06a71jq3DTr5Qsub8D0Y+fvNQdhJ+biPnBHu5fvr1dN027Upf5oC+zH/AM1HacfzMR/nlfeM/uqyxdqQp807y2dhGQ4HaCCPf/0qSZsgf0R91Rathm9Y/fj76k8cl9grdXy5snh8pSlbXOUpSg3C+Ql/su7/AOYP+w2lbCVr38hL/ZV3/wAwf9htK2ErFkUpSgVjXp74rvLa3j0/TlL6xqzm1smwxjtFxmW/lcKRHHBGSwJBJbbhXCsKyVSg1c1rgZ+B7yy1ewWe502RI9N4hiXrJZZNzArqvVLvzL1hZiBjBARcCZiJLpl4xiTXoYNTuNRtOHpbFJbD8neGRw6jeSykGOW409fCJG6s+TArY5Rsdu7y9kaUGp3Q7aJPBxNoESXNne6gLm6sLTURcJcG2urMQwSSyzl3yXkjDdY5kG45GQwHr4O6YLePh38h+DXza5Z6fJYTab4LLE0Ritmh8JluJEEMFvsXrWZmyBkBScA7TVH8S6b4VbT227q/CIZYN+3ds62No9+3cN2N2cZGcdooKJ8lr/dvTP8Ayq/+5qx58nzgDT7u9164vLG2uJl1++8HlvLWOVhH1xYFGlQ+RuJYEcs86zR0WcKfknTbbTes8I8DiEPXdX1XWYJO7q977O3s3GrNQYY+V5as2lWyorNt1PTztRSdqrMcnCjkoH1Cov5SOoLputaBrVwsi6bYPqEV7cxxSTLbG7tUhiZ1jVmCs27mAfmnvwDnulBrb8oXS4Ne1LhoIbhrC/j1TNxb9dbyLDdWNuUfcVDQllPzJFw3NWUgspnugTWLzRphwpqSDdbKfyNqUMPV2uo2oJKxvtGyG9TmCrHLYOSzYkmzpSg1m6HuOLPhKK70bVvCLOWK/uJbGY2tzPFqUFwyvHJDLBC4klJOGQnIyAeauE7ejjo6udR0LXmuIHtm4ku73ULK1uV2zQhz1tq8sf6EguFVsduFVs8xWylKDT3gnh2+4h4e1fUbpJlvpLO0sbFXUpMTodsl11qHapButQMjHswcgchk5X+SsLi+S+4huo2gudZuEVI23ZS10+EWkS7GA2EzC5YgDnlTk92a6UClKUClKUGLvlW/7u3vst/2+CtCq31+Vb/u7e+y3/boK0KqYRJSlKlBSlfCaDttYt7qvpED3mrz1e4hcZPYBj3fVXPo56P7qdhPIrQwgZQuMSSE8gVQ9i4PzmwOYxurKsPBcMMkRUdoZJHY7vLdQYzk8gAUYE4GS68udd3F5VMFJme9p8R93uofinwvNzs9IiemlY7z6zMz31H3RHedQ8PRxoUEsbxOUkEilJAOYAYEEesYrEPCvCktuktnIPzltLJEfXtc+V/RYYb2EVlK5Q6ddpMm4I+4SR+gynswe5l54PeKnePrKJY/yvEu+M7ReBBllBwi3IHeB5Kuvmw36JzT8m9rTN/XzL1/wvBWOnBEenTX/EffP6sG3WkXEJOELJnmuOzPePNnzfrqZ4e4jubYgBJPJPIEMcduVyFOBz81Zf4Vtre8QPEUkU45r2jl2Edqt/NNWaHgpMhgAD68fh+FaKZLy7svGjHM1tExMek+YY80fi/UbnEccDnPadr47MHtQDB9orwfKMuJbPR0STaZ9QuY4SDjCxwhrhsef85HCPr9uc76JadWpQKAfS5fuqI4z0TT9Y63R5wGKQpMrgL1tu7l1SeJmHkyptJ8xUlWyHrprvp1Lhy+dxDRANjI7Dn3Zzzq1aHFyV+8rg4/SHb7814uPOEbnSr2ayuObRYdJVUqlzEwPVzID+i/MYydrh1JJU16NGVlRV7wBn3VacCmvLyPx3LvtH77d/8ACy2vMfjXvgqEtg/s8+aldNRyWZiAqDJI55OCQp58s7SAefMiryk6ju8RmxbnsireyLTysRyL8vqAGf1VI8QQ/wCjuB27fuOa6LDUSWdQvY7YPnG4191u5ZoXB7CprVkisYba9pdWD5k8zFv0tX8tMYwEZkjP6S7h7VGfuJrP3yZuKxLaHT3OJrMkJk/OiY5XHn2nK+6te5ZNkqsezln2HIP6q9un6tNp1yl3FyeM4Ze6Re9D6iB78V5PJTqjT6xiydE7bj67pSXEbRtna4IOCVPPvBHMH1iscTcGGzIYSPIoYMDcbrgEBgdh8oMRyxzPYTV56PuKrfU7ZZ4SDnk6H50bY5ow7mH66mLzT94x56reqccyveNkrOtxEwpOk2SvI3KBUkHJVt35cu4tKwBz6qlh0apMC8jy7GO7q1PVBjgDnswdnLO3OO3lVi0fRNrD1eardDaYHPnUzkm0a038jPj8VjX5oXQ7MRIqdoRQoJ5nA5dvfXXxPqaW8DyMcBVJ5+oVJanIkSkkgAczk1gDp74gmlh2rlIG5ZOQZPq7l++tdK9+lx2v2mzX3i7VPCrqafudzj2A8q9+jtm3H8yRCPuP6qq6H53t/fU9oEmI3X1bvcat5rqIUUW6rb93rmHlsO8jP3mphjyX2D7qh7o/nlPpp78D/wDrUqvYv9Efdisq+UZPDlSlK2ucpSlBweNT2gH2gGuPg6eivuFdtKJdXg6eivuFPB09FfcK7aUHV4Onor7hTwdPRX3Cu2lB1eDp6K+4U8HT0V9wrtpQdXg6eivuFPB09FfcK7aUHV4Onor7hTwdPRX3Cu2lB1eDp6K+4U8HT0V9wrtpQdXg6eivuFPB09FfcK7aUHV4Onor7hTwdPRX3Cu2lB1eDp6K+4U8HT0V9wrtpQdXg6eivuFPB09FfcK7aUHV4Onor7hTwdPRX3Cu2lB1rCo5gAH1AV2UpRBSuy2hZ2CKCzMcADtNZs6L+CbOILLNGLiftLP5cUbHsVIcYZgVxuYE57NtIgY44Q4Bv7/DRx9XC3/HmykZHnUY3Sf1QR6xWbuCOim0s9rsPCLgc+slGVQ+dIxyXHn5t66yHpVvkZ7cjkO7HbjPf58dlSeNvMdnYyge3n91RNteGda78o2DSvxyTzP1furhqGlCRGQHaTyDAAlHUhkfB5EqwVh7KmogMDHMHsP/AFrhMmDn31rmW6KxDH3G+j+GWolQDrNqzIO87hnaP/VXl6HLtZOstpAJLeZBE8bjKnehVlI8xG8Yqb4S1Nbi2gb5olgikU9nzuwD1gsBgVW7jTJrTr5oCA0pHUsy7okcgsksibhlFmYDA7SVJwoasJ7dyJnq7eWNuNOGbrQtQZYHljjbMtvLGTloSxwrcsOUIKtkEcge8VduF+mG+RQs0cN0o5bhmGX27kyh+yKx3w1xFfXMz2WpyySybyySzt+ctZgNrKoAGLOaNQSiDaDGrhRhgbK+jPE204OMfOAyOWR5S8iCCCGAIIII5GuKtOmd08PsnwXkcL4txYpyqVtlrGrb/qn2tExqdT66nztlbR+lmzkGTDcRt2YxG45+ZhIOXrxWJuIdfmtdeS+ywhvWjJwcbWiPVGI9202/VcvOhPrr22dqynOB9RyP/UBXzW9OW4XY3eykMO1CrAgj2MOzv99dETOmvlfwtworb5MTEzE+ZmY/P/bMvHnBGn8Q2yGUYljG6C5TlLbswyR24kjJwTG3I9o2nDDWnizgyfSpzbzrz5mOVcmOZc/PUn9anmpPPtGdmeFGe3HVfOON6EnCyBlXaM88YBAI9vtrhxtw7HrMUcb/AJtEd2fkRcRMUwOrbcUHlYV0dWDAgggqpNtwuT8udW8Pgvxj4ZHJr9idWjx7T9Jasqyiu23lGc4HLsq48fdFF9YK0qA3dsvMvEp65AO9oRkkDzoW85xWNotVjA7f1Hz5+6ruOVi89UPF3+E8mJmOi39tx+XZ59B1Il3Xt8t8fbNSHEEp6kjs3cuz/PmqJ4dmiiLM/JmYkAAntYnPIdvOu7X9VWRcL2dvYf3+2uTLyKfy9o6o3rxtZcbgZP5+k/LmKxMTMzE67MeasMjPmJH+f1136jJ1kQbvKg/WBg/rBrr1ADa3nDD7uf6xXVZnMePNkfrz++qF7z1ergPi+70q4E8DYBIEsTc45Vz2MO4+ZhzFbRcJ9KVteIM/mZcc45Dj7LdjD9fqrUWaEkgDvNX/AIRXO318q5+Tji0bdHEy2pOobV6dxOi+UWUDzkjH31KS8aq/kQqZm72HJB/WPb9VYx4T4cD4JAx21knTbJIlAAx7KrJmY8LaZ6vLqktZJvKlOT2hB80fiaxr046HLPGscSlm5nl2KqjJY+YAVl4MAM9n+fPUnwvpQlhkncAiddkefo84yP6ZO72bay4+ObZIa+RlimOf7NAuJ+HWtW7DtJ6vJ7zgHPvyK8mivhsHsbKn2N/1rb3pm6HTeWkzW2BKOumSNv0mSQsqhu4nGK07m3wyFHBR42Kup7VYdo9tXWlHExEpK+cr1begxQ/qPuwxqchHkj1EgezP/wA1ETL1iMvbkLKp7uX+WH1VJaU2VYd+A4H6jURLK0biXopSlbXMUqe4H4dS/eaIzpbPDaXF5ErRvK101rGZjbIqEEO0SStu8ogRthW7B59B4Yv7xd9ta3l1Hz/OW1tPPHkciOsjjK5B5YzmgiaV6NRsZoHMU0csEoGTFPG8MoB7CY5FDAHB7R3V56BSlKBSlKBSlKBSlKBSlKBSlfM0H2lK9FrYTSK7pHLIkCh53jjd0hUnaHkZVIiQnkGYgZoPPSlKBSlKBSlKBSlKBQUqR0NBu3kZxyX24yT7QP1kUgWXgrSysiKB+dldYdx5iMuwUr6yqnccfuzWUOENQaJrEsfJu5ZbXBxiKSOZ1UjIzhlQd/n8/KvcFaeEvLeLt6oPdSetjCsefthSPNXv4yjaCwt7heTWmo9cvqHhkiY9mHFLzrsypG+7MKyGNi6jaCVJQ9gPMN9RBXs8xPPNT8DhsMO//wCMfURVKtLwm6e27YDaQ3UBPNgHleCRM48pV/0ft7Nx7qsfDc/lSJ/O3r/WAyPZuBrREt+nosJMO8f6OQy/zdwyR7M5Nei7BwV5DIIBPYDjA+rNRtg2WmbvDEfUvL76lLSYTJ/OHL6xUslT4K4Te0toLaRlfweJISUBG8ouN2SeQJycDz9p5VMahYqVKlQUYFWUjkVIwVI7wQcVK2sufzbdo7K7mhz299RpO9MJcb9HMd63VFjFexL1lpc/pXESkAq5/TkiYorHtyY35dYVqN0601K3jFvcwLexxeSs0HkXcKj9HmdtxGBzCN3clKVmnWdKNxHsVhFcRN1ltNt3dVKoIDFcjfE6lo3TI3I7DIJBHgstT8IgkmWIi8tA8d1ZKwMizxxl1iDHG+KXI2OQAyuh5cwNfytTuOzowc3LgvF8czFo8THaf9x9J7MVMnLKncowCCrRuhPYrxON0ZPd2qeeGbFc9PTdLGvpyxR/blVP71XDheS6voZJbu3EEEh/0TfDJBdJE6eVHLHISyyxvkbh5LeSRjbVc0e1KXsEbfOS7gDeb83co3uO2p0+lfCP4htzeHmnJqL0rMzr1jpnv9/bv6ePfTJjW5WzEgyzQ72Yd7LFO2Vz3N1eQD3GvZo87uD2FVxtbPlHlzGBy7VHPvA98tcoBEy9zAqf6+Sx9vPNeLRLfq0x5zn9QH3g11Vr3fJJlKrIDg+f8K1y+U70bRwf/atsu2N2AvYUGERnOFuVA+arPhXA5bmVu9jWw0XIew/9K6Ne06O7ge1kGYriN4X9jrjPqI5EHzgVMo00GrovGwD6gT7gT+6vfqdk0EskD/PgkeF/6UTmNvq3KaiNTY4f1If31hbwmnlXrt+TDz7ffiuFkcIfb+7/AOK4Xp8n2n7uVIW8j2tge4D7qwbvVM8MaW9zIyqCxjikmYDzJj4qtHAMRZFcc9rfvzWXugvgJbXTJ9SlXEs8U2xWHzYY4pHA597sqty8wrG/Q5ablMffsDYrn5NtVdXGpuzO3B91lAccwBVoWfNUrh5di47MVYLIySMsUQ3yvyHmUd8jHuVc/XyHaaqe8zqFrOojcpywtmupktwCYy2bh+5UALbc9zSY2gduNx7qyWkSrAqgYASMADlgDaMV0aTpcdpGsac8Nl3Pznbq2y7HvJwfZ2V6XPkqP6H6sMf1CrrjYPl1+qi5PI+Zb6ejxmPyD5iW/wDVJj7q0i+WdbWy64RAqo/g8b3WwYDSySSuCQP0upMeT35FbzFcKgPLmmftbifcDX5y9JWtnUdSu704PhFxIyEHl1anqoserqY4666125ZlBcN3nPY3aOajuYH5ye7mPXnz1NwJ1MinOY+zPcY38nd7QcZ9hqFht0J58u/I7QasWijepik2yLkhXBw49ZGO3lnI7TzxWNsNvMNtMsT2l2UpSjSz30Qce+CQW+o6g9pdW9mF0fTbWC1tpdYt2woMwfaksdqtqXVsuxkJUY3Nl/F0+8Vo1ze28g1ex1C1nSCyt0vQ2lGBH/1gW6pG1uZrbEqhd+S0flDDCqZwLbR3Wl6laLDDJfxC31K2l6oNeNDBJsu4o5PnAJEySiNebAzcjyxUesuL2dctLdXVy8cStLI0s0zuVijUySMSxJKIMnkMDkBRK7cFcWtfNHpOpyPdWVy4hguZyZbvS55TsjuYbh8ydSJGRZIWYoUzyGCGoutWElrNLbyACW2kkglAzgPC7RsASOa7lOD3jFZQ4c6L78206rYXaa5p99auhnKpZvbyBuQL/mLgRzw73ZWI2SIQxAZaqPTHcpNqVxMt1b6j1xWR7u0gNtbSO0ShhHGZJMqpGN4dg5y2SSaC3a70U6fpxt2v9VS1jvLeK4iEdjNcT7pFJk3RxyERW8ZKYmY5kJcBV2EmOvOh+8TVzo4lhbbD4a18cpbrZ4ybtl3EqA35vYCfLx5W07x3fKbvop7qyaJ0mUaNZIWidZAG33LFCVJAfayHb24YeespalxrY2+vgPPAlvfaDBYeGfmriC2mZ5JUaUHdGYtuNyuCvlR7vJJNEMP33AljNbXFzp2oflFtOjFxeQSWUti5g3bWuoWkkYSxp2shwyrzJyVVonpC4OOmxWMplE35SsYtQ2iPq+p60bupzvbrNoI8vyc8/JFZJ4ii1q1tLlri+0C2hltpoMWUenG41FZEwbWDwayWXbKP0yU2+SxxjI48ZcPrrunaVcW13p0KWGnR2GoC8ult3tJIFRS7IVLFDhyOwkBCu4PkEoW16GWfVbfSfChuu9OTU+v8HzsLiQdR1fXjf5cX8ZuXk3zeXPy6d0Vw3NwllbajBc3cYkl1Rlt5ksdOihUdZKL1yFvAsrCMbAu4kE7AGIy5ba1ZDiuxlS5ge2XQkiW4MqKhI8JcAkthJDEVfYTuAI5Vhn5POt2sDXVjdSLaQ6tp0un+FPyS2kkTCM5PJIyGcFiQAQmcAkgh6JejayuYLiXTNRXU5rGI3FxavZTWUskKcnngMjt1yr6AGea88sgblD0ZWcVhZ6peaitnbX6SNsWzmurgOj4WOOOJyZVMYZ3lIUIQq4feMWbo90LxZNzqd7c2Du1lNa2VpZ3S3Ut5LO0ZDAKoK269WuXYcg+Tt286z0pXkT6Hw/EkiSPDb3yyojqzxnrrdQHUHKElGxnGdp81B7te6JLHT5U8N1aGC1uwr6fNFZzXElzG6q3XyRI+20gQyKN7OwbmfJwcR6dDl3+V59JaWKNLOI3VxqDqRbx2uxXFwU3ZDHeF6ssPKV/K2qWr78oq9imh0kRukpTRLVHEbq5R9jDYwUna+QfJODWVOLuJdPk1zU7F7mCKHWdJisYr7rFe3hm6lygkkVtqoyzEkkgclH6Yoljnh/oosNRM5sNVW5S0t5Z5llsJ7acMi5TbHLIBJbyMGBlBzGQoKtvBE7acLaK3DKu1+kaNqQZtR/JNy8qSmzANh1IbrnRRlutDdWT3Zr19DXCI0W4vJL2805JpNMuoYLeC8SYup2SPMzYURoOqQIGwz7nO0dWarnR/bJqfDkmkRTWsOoQ6it8sF3Olv18JtVhJjd+TMrl8ju2jONy5CG0zo6tI7SK/1G/GnQXpfwCNLSW8ubmOM48JMMbgww4KtzzkMnMFlBu3RNwzAkGvWcV7aXNvLp9q41EboreNHN0WaZGy0DxKrM8eWIGO84Hj17RhxBp+mpa3FlHe6RbnTb2zurmOBvzWyNbmJ8lJYX6otvUlSGXnlSK8/Btjb6bZ6/aG7srqR9OtsPbTBoWlL3Cvbxu+3who2eNSyDGXUcjkAhXNW6PLN9On1LT9QGpLYNEt9C9lNYyRrM21ZkEzkvHnPIgclfnlStY6rJ/RPfRR6Nr6O8aPLb2SxI7qrSkTzghFJy5BdAQM43Dz1jCgUpSgUpSgUpSgVZ+DLPrHQHsznH17if8A0xVWKv3BEe0q3dgn6gBz9XLFZVJXngY79QlPmiCj+swOPctWHj3Tt+lXC4yUaSQe1JevH3VWOjLnLNL61H1BSf15x7qyhcwCazdfTDhvryprXmbMSP4UxLHY3PM5hn0+T+hOiThj7Gs9o83WVNcKXJZ0Y9rA5PcT2e5sBh6qpfAd6w0SRxye2DEnvTYfLYfzljMh9oq9LGqNEyY2HYFHqUKh9ybBWqG16tKl23U0R7yJB7H5/fn31xtJ+onIPzT2+rJrw3smzUkPdJEVPtVgf31IcRQ5LefC7TUwlOX8G4b17Rzrts5+sX+cvaKjOH9Q3Jz57Ttb7q9Mw6p94+acZ9lDT1XUf6Q+v6qrvE1hIki6nbLvuI16q5gXA8OtwSTCc8jMhLSRMexiy5AkY1Z93f2qefsrqRdrY/RfspPdES56ZeQ3cKuh3xSqHicZGVYZGQeat3EHsIIPZWHula3nsbxLwLut/wA00jKfKjeGQBmwT5SGLZ2c/nHn3ZF0+28FmdE5QzM0yr2LFOSWlUeZJgRMB3MJj+lXg6b0aTRb5k2CQWc7KZFZgAsZZ8BCDv2Bgp5gNtJBxitmLW+7dx+Vk49pnHOuqJrP1i3mJTmlP10Mcx55UgDlyBOSfbtGPqr2xdn6/fz++o3hZStpboe0Qxg58+wHHuH66kYv+uPafxzW2suKXYv31zJ5D211r3V9PZRENPvlDaT4NrNx3JcbLpP/AL1fK/8A3llrFOu3IVWUHm2B9XI9vrPdWxPy0tGJNlejyV/O2krD+rNHz7uQnrV3WZckD2Y/z7q039mykdtvLdnkqjmT3D1nl9ZzVy6M+GXu72OALvEQ66U/oJg/Obu2g9g7yB66qVntLlznZH3jt5cuRPIGt4fkwQaFdaf19lbdS+8wXguGE1yZVG8s8p+chjKsm0Ko3MABg1GtsurXdN8f2K2ejTpnBWBoUJ7EEkYgAAAA7JMdndWv/Q7o0iXoUqRG0bbCRjdgr2Vsb0yXCPbpbHH52aJWz2KNxfJ8/wA0frqs6vxnpGk3cdnI6GRgq/xTBYtwGDJOqEgHlyPIDBOBXJlxzktNY8aduHLXFSLTG5mf0RqaXI83URDe7fNHYAO9if0VHbmsq8JcKpZouPLmfBllPf5a4RR3RjDYHvqt6jxQdOnD9RDLaSDIkhG2dTz3MWYkOi5wM4yTyPKrToXHWn3bhUmVX5HqpfzUmADj53Ikux7CeyssHGrjnc+WrlcucvaO0LHegYx3kNj2thP71dUyZPmHxERj9Rau4KWkBPYOXq5Ju92WX3VyuPnAf0P/AHFvuWu6IcKhfKI4l/JujXVwDtlZDbwHzS3ANuhH9HeX/qV+e4AHIdg7PZWz/wAvbX+VhYA8yZb6Tn2D/V48j15n+zWrDXPqJ9341sp2RL0g99dlpclTmvCs5Pdj2n8BXJHrZEo1tcKUpXMl69G1Oe1mjuYHaC4gYSQyxnDowBGRkEEEEqVIKspKkEEg3KXinR7pututPlt7knfJNo92LWKZ85L+B3EEsduxOCTEwySTgVQqUGwHRT0uOJzptsINMtbiO7ZbzVL6e+ljuvBmaG4e4uHWFIzLHGGgWMKSzEEsfKw9xbxGt4kC+C2FpJbiRZJbC3S1F2ZHUh5EjATKBMLtAHlORgEKIClEgr4BX2lEPgUChUV9pQfMV9pSg+BQPVTFfaUE1pXCV9cQm4igkkh8shl2AydUu6QxxlhJcbB87q1bbzzjFda8MXng3hohfwUKZOt8n+LD9WZhHu6wwCTyTMF2A5BbkavXR3xNptqtm8jpE9v4Ql0HsDeXLNO8ypLBdOxW0tVhlhLJCEl3JN5Mhl3VCalf6fLDFKbi6WaDTYdLNpbxtE0zW8ItCxuWBj8AniBleMjeS7pt57qCE1Tg6/toxLLbyRxsyJ2Kzq8o3Ro8SMZIZHAO1JFVm7gakNV6P72C366aORJGu4LCK2CLK80k8VxJtDRSNtnRrZIzbld+ZVzt5Br148aZbvNLE0cim9sNQt7dNPaGVo7G+M5guL6Vnmur0xOPzkjtFujZg+ZNoi+GuJtN0woY5pr7Gpx375tmiKweAX9mzYlfD3qNeo7DkjFUCufKKhTbngnUFlS3NtI00yyPCibJutECl5QjRsyO8aqSyAll5AgEgHtv+BNThjaZ7Z1iijM7SbonUxou55UKSHr40Xm7R7ggzu21aRxdaQItvG8LIsWpsXsdP/J9ust5pEmnwgRtmZ5Wcr1kh2oqiIDfsLVGaNxNbRmy3FsWml6jYy4QnbNd/lPqwvnUi9t8sOQy2fm0FXutAuo3mR4nV7RFluQcfmUcxqrsc4w5nhAwTneuM1HVkfjbUdmlWqOkkV9qEUCXiyqUZ7XSXmgtJdr4fbcK8J3EeV4EpBIIzjigUpSgUpSgUpSg4ucAnvwce6r9p79VAT3qhX6yQo/9pqlafHukRe4sufZuGf1Var6T82P50uD9s8qzpDG0sl9HNuFiftzy/wDb/wDFZL4aO+zXvOD9ff8AWaxvw7OEVyOxWwR6hEtZH4Ubbar35B/CtWRtorXQ7bCSC9tW+abm5gYfzZSye7a1e/Qb8tp9vI+Q43I4PapwSwI7iGhxjuro6Kzi7vx2BrncO7OYlbPvJpxGng8N4i/NiuOvX1i5HWt7B19zKB7BWmPDd/yTvFCYmgnHe6R+oq65J+rkc+2p/VF3kgcmXsPaD349xNVm0uVuba3kU5KqrkY7SyFSvn3K+PcRy7pOWd8db+kq7WIyA2wNzweecZx3kEVkQ48PTbZ5YjyBK4835xeX1bgRVhsH3xmNvnJkes4yP3H3VT5Z/wDSVA2kuFzjGdvWE55Y7OZA5/O9VWmABWPeOWDy7e3zeuhMvVZOQCvI45rnluB/RPmIwa7i4I7Ry5rk8x34P6xXW+FIP6LYHsbPZ7CMD6q7JQBntOMHGSMjvGfYTUjheBSQeRB8lhnn6mx5weWfMfNmqz0oyGPTbpBzEiCNcc/46RIWXlz7JD9Xsq0OFOH5+/l2cwR38s1WOlC9Mdk8g/4TwOQ3LK+ERqwyOwYO76qljpN6fIAqjuCjn9Q9XcoFcyRJtdWYDGVIBAIYdu0/O5dmVPn5V06MT1UZxncqsc924bscu/nivFwfe9ZDzxuillgfGM4RzsLY7WaAwsT3k5763Q1JFpJV5ghgOeADnl5zuOPsivTa3asB5zyI9f8Ak19YA8qhddR4tsyHCxsrzKOx484Y+1Qd2e3l29oOUEqf8pfSvCtDuyBlrUx3ieyCUdZ74DKK0bkXdJz7hgY8+OZPqH4V+iOrW63MU9o2GF3bTxkHvEivH/eFfnlY2rgBT/GyEKA3Lbk45+bLdvsrDo3KerUadTKXIjHJe0gd/trPfyab2fTbkTgM0E22K5jBOGjzuDAdm9DhgfMWHfUbwf0T5MIY5knjM5PmXftXA/ohn9mKzdofB3gqLHjDY92eR9wP6hWEwTPumenq2eVrLqvKW5uI4Q6818tWZTy84YH31NX/AEUWFzcC6niSaVQAHdcchy5R5wcDll85HLFS3DUMcsaxvz8AmV0AA5eQ20ZPeN//ALaslwWIyfJ9Rzyx3tjHYO49vZisa0+1Nmdsm6xX2VXXOFop/IUlVwVYg5By2T9eAQO4ZPqqk8X8KWttDLclgkcSNIzPjACAgMfrV2+pKyrsCJ6PIkDvHcOXnAwPbWpHypukjwiU6Vbt+ZhYeFuhyryLjbbgjtSPALHvYAdxFbIpFpYTaVB0fpX1ezuGuLW6miRmOIJD10BUditBJlQSAMldp9dZs6P/AJWKM6x6pb9TntvLPdJHnbty9q2XReZPkM558hWrdcJa29HswZH+U9xjb6trElxbv11tHDBbQygELIsaGRmAIBA62aQcwOysYIa+muEjY5d5/wA5qdaRLmW7q+g1wiSuzFTAudKpnjXP6MXub46eNc/oxe5vjrnZaXOlUzxrn9GL3N8dPGuf0Yvc3x0NLnSqZ41z+jF7m+OnjXP6MXub46GlzpVM8a5/Ri9zfHTxrn9GL3N8dDS50qmeNc/oxe5vjp41z+jF7m+Ohpc6VTPGuf0Yvc3x08a5/Ri9zfHQ0udKpnjXP6MXub46eNc/oxe5vjoaXOlUzxrn9GL3N8dPGuf0Yvc3x0NLnSqZ41z+jF7m+OnjXP6MXub46GlzpVM8a5/Ri9zfHTxrn9GL3N8dDS6MSeZ5nkMnmeQwB7AAB7BXyqZ41z+jF7m+OnjXP6MXub46GlzpVM8a5/Ri9zfHTxrn9GL3N8dDS50qmeNc/oxe5vjp41z+jF7m+Ohpc6VTPGuf0Yvc3x08a5/Ri9zfHQ0vulHEinzHP6jVkuV/0RX55L7v/Uv41h7xrn9GL7LfHXzxqm9GL7LfHWVbaRNWy/Dt4dsy9p3so9vVqBWY9PUrbAY7AR2d45ZrQU8UzejF9lvjrj4yy+hD9hvjrG3dlHZuz0fS/wCkSNggzNnzglVI+4Cu7jSCSd762Tk8+nK8OezrVNwF9g3Rw860hPE8voQ/Zb46+eM0voQ/Zb46w6I1pn199tzug/Xhd2CuoUmGRI3KjBINvFcDPYeyXGDy7RWQdUkKKfXz7APV93OvzxfieU9qRH2qx/v1xHEsnoQ/Yb46dJ1t474FZLeY58pupY4PleSSvvdQPrq3QzMJGHcuB3+vn+qvzv8AGaX0Ifst8dfPGWT0IfsN8dT0o6n6Ur5a7efPs78HtB5Dz4FdsBLpzzuwVPtr80fGST0IfsH46eMcn0cH2D8dOlPW/SaaQqi8iG7D2jsIPP2/dmsffKH1HqNGuW5jcsca588k6KvLv5kHArRocSSehD9g/HX1OJpRzCQj2Kw/v01CJs/R+EbAi8xhQq92cKP+lUbh3VxZ6nc2co6r8oMt3aO3KO4kjhFtNCrd0wjt4XCdpXmOxsaMeMknoQ/Yb465DieXs2Q4PaNrfHWzqYv0n60nmBzHaCO8dxr6cNlGXcrrtYEZUgjBBBGCMcsV+ay8SyD9CHl/Mb4688mtMV29XDjJPzD3nPpec1lFo9UTt+iTyFLyEDkNjjGO7fy+6tNuIuHGTiKSwx2X5VB2fm3fro/YOqdMmsZRaoVzhIuYI+Z5+XpeavbwpxRLY3MN3GkLPbP1iJIrGJjgjDKkisV8o9jCnVEQiPLfvS9GRb+FV5pFAVzjGcbMe8/e1Xi4tUYsTgBVxuPYNpyWz7QR9VaTQ/Kl1lZev6jTS5G3BhutuM57Be5z9dctQ+VTrcsTwmHTQsy7HKw3QbaRtYAm9ONwzk9vlHGOWNcyznuz1wTFqx1WS5Xd4Bc26yoH/iwZb63dRsznrjYqcchjC8+dZqibvPPHLA7z3ADz88Dt599aRR/Kx1tRtFvpYAAUYguuxexf9e7AOXsAr6Plaa5jHUaZ3/8ABu+/t/8A971n302xhm/5VHSTJptqlvbsEvLzcqsPnQxKMPMP52W2IfOWbuGNNV8/b3kk5J9ZJ5k+uu/pA6QLzVrtr246vrHCoqRqyxRIgwI0UuxVc7m5knLHnUB+U38y+4/jWytog0mWNdLmow6m/mX3H8a4nUH8y+4/jWfzINPfI+PaewVxiTvPae+o8XjZzyz9f41zGoN5l9x/GseuEaSaij1GjUn8y+4/jXF79j5v1/jUzeE6eSlKVoSUpSgUpSgUpSgUpSgUpSgUpSgUpSgUpSgUpSgUpSgUpSgUpSgUpSgUpSgUpSgUpSgUpSgUpSgUpSgUpSgUpSgUpSgUpSgUpSgUpSgUpSgUpSgUpSgUpSgUpSgUpSgUpSgUpSgUpSgUpSgUpSgUpSgUpSgUpSgUpSgUpSgUpSgUpSgUpSgUpSgUpSgUpSgUpSgUpSgUpSgUpSgUpSgUpSgUpSgUpSgUpSgUpSgUpSgUpSgUpSgUpSgUpSgUpSgUpSgUpSgUpSgUpSgUpSgUpSgUpSgUpSgUpSgUpSgUpSgUpSgUpSgUpSgUpSgUpSgUpSgUpSgUpSgUpSgUpSgUpSgUpSgUpSgUpSgUpSg//9k=\n"
                },
                "metadata": {}
              }
            ]
          }
        },
        "a02ef08893944fff9fe964a2faa22c30": {
          "model_module": "@jupyter-widgets/output",
          "model_name": "OutputModel",
          "model_module_version": "1.0.0",
          "state": {
            "_dom_classes": [],
            "_model_module": "@jupyter-widgets/output",
            "_model_module_version": "1.0.0",
            "_model_name": "OutputModel",
            "_view_count": null,
            "_view_module": "@jupyter-widgets/output",
            "_view_module_version": "1.0.0",
            "_view_name": "OutputView",
            "layout": "IPY_MODEL_5a02bb002a9541c1b376e4b92489410e",
            "msg_id": "",
            "outputs": [
              {
                "output_type": "stream",
                "name": "stdout",
                "text": [
                  "Video available at https://www.bilibili.com/video/BV1TD4y1D7K3\n"
                ]
              },
              {
                "output_type": "display_data",
                "data": {
                  "text/plain": "<__main__.BiliVideo at 0x7f817df44810>",
                  "text/html": "\n        <iframe\n            width=\"854\"\n            height=\"480\"\n            src=\"https://player.bilibili.com/player.html?bvid=BV1TD4y1D7K3&page=1?fs=1\"\n            frameborder=\"0\"\n            allowfullscreen\n        ></iframe>\n        "
                },
                "metadata": {}
              }
            ]
          }
        },
        "1160a636e4794f53bb30f3aba935792e": {
          "model_module": "@jupyter-widgets/base",
          "model_name": "LayoutModel",
          "model_module_version": "1.2.0",
          "state": {
            "_model_module": "@jupyter-widgets/base",
            "_model_module_version": "1.2.0",
            "_model_name": "LayoutModel",
            "_view_count": null,
            "_view_module": "@jupyter-widgets/base",
            "_view_module_version": "1.2.0",
            "_view_name": "LayoutView",
            "align_content": null,
            "align_items": null,
            "align_self": null,
            "border": null,
            "bottom": null,
            "display": null,
            "flex": null,
            "flex_flow": null,
            "grid_area": null,
            "grid_auto_columns": null,
            "grid_auto_flow": null,
            "grid_auto_rows": null,
            "grid_column": null,
            "grid_gap": null,
            "grid_row": null,
            "grid_template_areas": null,
            "grid_template_columns": null,
            "grid_template_rows": null,
            "height": null,
            "justify_content": null,
            "justify_items": null,
            "left": null,
            "margin": null,
            "max_height": null,
            "max_width": null,
            "min_height": null,
            "min_width": null,
            "object_fit": null,
            "object_position": null,
            "order": null,
            "overflow": null,
            "overflow_x": null,
            "overflow_y": null,
            "padding": null,
            "right": null,
            "top": null,
            "visibility": null,
            "width": null
          }
        },
        "6a599314f3584b09bb2941ed687b95cd": {
          "model_module": "@jupyter-widgets/base",
          "model_name": "LayoutModel",
          "model_module_version": "1.2.0",
          "state": {
            "_model_module": "@jupyter-widgets/base",
            "_model_module_version": "1.2.0",
            "_model_name": "LayoutModel",
            "_view_count": null,
            "_view_module": "@jupyter-widgets/base",
            "_view_module_version": "1.2.0",
            "_view_name": "LayoutView",
            "align_content": null,
            "align_items": null,
            "align_self": null,
            "border": null,
            "bottom": null,
            "display": null,
            "flex": null,
            "flex_flow": null,
            "grid_area": null,
            "grid_auto_columns": null,
            "grid_auto_flow": null,
            "grid_auto_rows": null,
            "grid_column": null,
            "grid_gap": null,
            "grid_row": null,
            "grid_template_areas": null,
            "grid_template_columns": null,
            "grid_template_rows": null,
            "height": null,
            "justify_content": null,
            "justify_items": null,
            "left": null,
            "margin": null,
            "max_height": null,
            "max_width": null,
            "min_height": null,
            "min_width": null,
            "object_fit": null,
            "object_position": null,
            "order": null,
            "overflow": null,
            "overflow_x": null,
            "overflow_y": null,
            "padding": null,
            "right": null,
            "top": null,
            "visibility": null,
            "width": null
          }
        },
        "5a02bb002a9541c1b376e4b92489410e": {
          "model_module": "@jupyter-widgets/base",
          "model_name": "LayoutModel",
          "model_module_version": "1.2.0",
          "state": {
            "_model_module": "@jupyter-widgets/base",
            "_model_module_version": "1.2.0",
            "_model_name": "LayoutModel",
            "_view_count": null,
            "_view_module": "@jupyter-widgets/base",
            "_view_module_version": "1.2.0",
            "_view_name": "LayoutView",
            "align_content": null,
            "align_items": null,
            "align_self": null,
            "border": null,
            "bottom": null,
            "display": null,
            "flex": null,
            "flex_flow": null,
            "grid_area": null,
            "grid_auto_columns": null,
            "grid_auto_flow": null,
            "grid_auto_rows": null,
            "grid_column": null,
            "grid_gap": null,
            "grid_row": null,
            "grid_template_areas": null,
            "grid_template_columns": null,
            "grid_template_rows": null,
            "height": null,
            "justify_content": null,
            "justify_items": null,
            "left": null,
            "margin": null,
            "max_height": null,
            "max_width": null,
            "min_height": null,
            "min_width": null,
            "object_fit": null,
            "object_position": null,
            "order": null,
            "overflow": null,
            "overflow_x": null,
            "overflow_y": null,
            "padding": null,
            "right": null,
            "top": null,
            "visibility": null,
            "width": null
          }
        },
        "68e65eb040ee4947b7a36efb8dd77a45": {
          "model_module": "@jupyter-widgets/controls",
          "model_name": "TabModel",
          "model_module_version": "1.5.0",
          "state": {
            "_dom_classes": [],
            "_model_module": "@jupyter-widgets/controls",
            "_model_module_version": "1.5.0",
            "_model_name": "TabModel",
            "_titles": {
              "0": "Youtube",
              "1": "Bilibili"
            },
            "_view_count": null,
            "_view_module": "@jupyter-widgets/controls",
            "_view_module_version": "1.5.0",
            "_view_name": "TabView",
            "box_style": "",
            "children": [
              "IPY_MODEL_7d0e7f1af3a840f8a18de8654fbbc60b",
              "IPY_MODEL_d3833c5ea27343009ef35b13f7835cc8"
            ],
            "layout": "IPY_MODEL_c0c64b4cd17346c399b3569cb20da706",
            "selected_index": 0
          }
        },
        "7d0e7f1af3a840f8a18de8654fbbc60b": {
          "model_module": "@jupyter-widgets/output",
          "model_name": "OutputModel",
          "model_module_version": "1.0.0",
          "state": {
            "_dom_classes": [],
            "_model_module": "@jupyter-widgets/output",
            "_model_module_version": "1.0.0",
            "_model_name": "OutputModel",
            "_view_count": null,
            "_view_module": "@jupyter-widgets/output",
            "_view_module_version": "1.0.0",
            "_view_name": "OutputView",
            "layout": "IPY_MODEL_5633b218e17140c2a6eeb1ffcd1f254b",
            "msg_id": "",
            "outputs": [
              {
                "output_type": "stream",
                "name": "stdout",
                "text": [
                  "Video available at https://youtube.com/watch?v=ndCMgdjv9Gg\n"
                ]
              },
              {
                "output_type": "display_data",
                "data": {
                  "text/plain": "<IPython.lib.display.YouTubeVideo at 0x7f817df44a50>",
                  "text/html": "\n        <iframe\n            width=\"854\"\n            height=\"480\"\n            src=\"https://www.youtube.com/embed/ndCMgdjv9Gg?fs=1&rel=0\"\n            frameborder=\"0\"\n            allowfullscreen\n        ></iframe>\n        ",
                  "image/jpeg": "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\n"
                },
                "metadata": {}
              }
            ]
          }
        },
        "d3833c5ea27343009ef35b13f7835cc8": {
          "model_module": "@jupyter-widgets/output",
          "model_name": "OutputModel",
          "model_module_version": "1.0.0",
          "state": {
            "_dom_classes": [],
            "_model_module": "@jupyter-widgets/output",
            "_model_module_version": "1.0.0",
            "_model_name": "OutputModel",
            "_view_count": null,
            "_view_module": "@jupyter-widgets/output",
            "_view_module_version": "1.0.0",
            "_view_name": "OutputView",
            "layout": "IPY_MODEL_21ca6b51f4a743bc90211cab374d1c3a",
            "msg_id": "",
            "outputs": [
              {
                "output_type": "stream",
                "name": "stdout",
                "text": [
                  "Video available at https://www.bilibili.com/video/BV1JA411v7jy\n"
                ]
              },
              {
                "output_type": "display_data",
                "data": {
                  "text/plain": "<__main__.BiliVideo at 0x7f817df1e690>",
                  "text/html": "\n        <iframe\n            width=\"854\"\n            height=\"480\"\n            src=\"https://player.bilibili.com/player.html?bvid=BV1JA411v7jy&page=1?fs=1\"\n            frameborder=\"0\"\n            allowfullscreen\n        ></iframe>\n        "
                },
                "metadata": {}
              }
            ]
          }
        },
        "c0c64b4cd17346c399b3569cb20da706": {
          "model_module": "@jupyter-widgets/base",
          "model_name": "LayoutModel",
          "model_module_version": "1.2.0",
          "state": {
            "_model_module": "@jupyter-widgets/base",
            "_model_module_version": "1.2.0",
            "_model_name": "LayoutModel",
            "_view_count": null,
            "_view_module": "@jupyter-widgets/base",
            "_view_module_version": "1.2.0",
            "_view_name": "LayoutView",
            "align_content": null,
            "align_items": null,
            "align_self": null,
            "border": null,
            "bottom": null,
            "display": null,
            "flex": null,
            "flex_flow": null,
            "grid_area": null,
            "grid_auto_columns": null,
            "grid_auto_flow": null,
            "grid_auto_rows": null,
            "grid_column": null,
            "grid_gap": null,
            "grid_row": null,
            "grid_template_areas": null,
            "grid_template_columns": null,
            "grid_template_rows": null,
            "height": null,
            "justify_content": null,
            "justify_items": null,
            "left": null,
            "margin": null,
            "max_height": null,
            "max_width": null,
            "min_height": null,
            "min_width": null,
            "object_fit": null,
            "object_position": null,
            "order": null,
            "overflow": null,
            "overflow_x": null,
            "overflow_y": null,
            "padding": null,
            "right": null,
            "top": null,
            "visibility": null,
            "width": null
          }
        },
        "5633b218e17140c2a6eeb1ffcd1f254b": {
          "model_module": "@jupyter-widgets/base",
          "model_name": "LayoutModel",
          "model_module_version": "1.2.0",
          "state": {
            "_model_module": "@jupyter-widgets/base",
            "_model_module_version": "1.2.0",
            "_model_name": "LayoutModel",
            "_view_count": null,
            "_view_module": "@jupyter-widgets/base",
            "_view_module_version": "1.2.0",
            "_view_name": "LayoutView",
            "align_content": null,
            "align_items": null,
            "align_self": null,
            "border": null,
            "bottom": null,
            "display": null,
            "flex": null,
            "flex_flow": null,
            "grid_area": null,
            "grid_auto_columns": null,
            "grid_auto_flow": null,
            "grid_auto_rows": null,
            "grid_column": null,
            "grid_gap": null,
            "grid_row": null,
            "grid_template_areas": null,
            "grid_template_columns": null,
            "grid_template_rows": null,
            "height": null,
            "justify_content": null,
            "justify_items": null,
            "left": null,
            "margin": null,
            "max_height": null,
            "max_width": null,
            "min_height": null,
            "min_width": null,
            "object_fit": null,
            "object_position": null,
            "order": null,
            "overflow": null,
            "overflow_x": null,
            "overflow_y": null,
            "padding": null,
            "right": null,
            "top": null,
            "visibility": null,
            "width": null
          }
        },
        "21ca6b51f4a743bc90211cab374d1c3a": {
          "model_module": "@jupyter-widgets/base",
          "model_name": "LayoutModel",
          "model_module_version": "1.2.0",
          "state": {
            "_model_module": "@jupyter-widgets/base",
            "_model_module_version": "1.2.0",
            "_model_name": "LayoutModel",
            "_view_count": null,
            "_view_module": "@jupyter-widgets/base",
            "_view_module_version": "1.2.0",
            "_view_name": "LayoutView",
            "align_content": null,
            "align_items": null,
            "align_self": null,
            "border": null,
            "bottom": null,
            "display": null,
            "flex": null,
            "flex_flow": null,
            "grid_area": null,
            "grid_auto_columns": null,
            "grid_auto_flow": null,
            "grid_auto_rows": null,
            "grid_column": null,
            "grid_gap": null,
            "grid_row": null,
            "grid_template_areas": null,
            "grid_template_columns": null,
            "grid_template_rows": null,
            "height": null,
            "justify_content": null,
            "justify_items": null,
            "left": null,
            "margin": null,
            "max_height": null,
            "max_width": null,
            "min_height": null,
            "min_width": null,
            "object_fit": null,
            "object_position": null,
            "order": null,
            "overflow": null,
            "overflow_x": null,
            "overflow_y": null,
            "padding": null,
            "right": null,
            "top": null,
            "visibility": null,
            "width": null
          }
        },
        "e85e90c96839414db1b9c6a606048839": {
          "model_module": "@jupyter-widgets/controls",
          "model_name": "TabModel",
          "model_module_version": "1.5.0",
          "state": {
            "_dom_classes": [],
            "_model_module": "@jupyter-widgets/controls",
            "_model_module_version": "1.5.0",
            "_model_name": "TabModel",
            "_titles": {
              "0": "Youtube",
              "1": "Bilibili"
            },
            "_view_count": null,
            "_view_module": "@jupyter-widgets/controls",
            "_view_module_version": "1.5.0",
            "_view_name": "TabView",
            "box_style": "",
            "children": [
              "IPY_MODEL_7eb642971a634b7f96a6a422ab67c115",
              "IPY_MODEL_4a0b4ed9032b45328e1b8d13468b7145"
            ],
            "layout": "IPY_MODEL_087ed58da7c44b868b744ceb477c1e74",
            "selected_index": 0
          }
        },
        "7eb642971a634b7f96a6a422ab67c115": {
          "model_module": "@jupyter-widgets/output",
          "model_name": "OutputModel",
          "model_module_version": "1.0.0",
          "state": {
            "_dom_classes": [],
            "_model_module": "@jupyter-widgets/output",
            "_model_module_version": "1.0.0",
            "_model_name": "OutputModel",
            "_view_count": null,
            "_view_module": "@jupyter-widgets/output",
            "_view_module_version": "1.0.0",
            "_view_name": "OutputView",
            "layout": "IPY_MODEL_0f94255b4de9458aaf388d85dbf384a1",
            "msg_id": "",
            "outputs": [
              {
                "output_type": "stream",
                "name": "stdout",
                "text": [
                  "Video available at https://youtube.com/watch?v=wd8IVsKoEfA\n"
                ]
              },
              {
                "output_type": "display_data",
                "data": {
                  "text/plain": "<IPython.lib.display.YouTubeVideo at 0x7f817df8ad90>",
                  "text/html": "\n        <iframe\n            width=\"854\"\n            height=\"480\"\n            src=\"https://www.youtube.com/embed/wd8IVsKoEfA?fs=1&rel=0\"\n            frameborder=\"0\"\n            allowfullscreen\n        ></iframe>\n        ",
                  "image/jpeg": "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\n"
                },
                "metadata": {}
              }
            ]
          }
        },
        "4a0b4ed9032b45328e1b8d13468b7145": {
          "model_module": "@jupyter-widgets/output",
          "model_name": "OutputModel",
          "model_module_version": "1.0.0",
          "state": {
            "_dom_classes": [],
            "_model_module": "@jupyter-widgets/output",
            "_model_module_version": "1.0.0",
            "_model_name": "OutputModel",
            "_view_count": null,
            "_view_module": "@jupyter-widgets/output",
            "_view_module_version": "1.0.0",
            "_view_name": "OutputView",
            "layout": "IPY_MODEL_3df1cc172ac44565b64a26c255863f41",
            "msg_id": "",
            "outputs": [
              {
                "output_type": "stream",
                "name": "stdout",
                "text": [
                  "Video available at https://www.bilibili.com/video/BV1QK4y1e7N9\n"
                ]
              },
              {
                "output_type": "display_data",
                "data": {
                  "text/plain": "<__main__.BiliVideo at 0x7f817dfa1250>",
                  "text/html": "\n        <iframe\n            width=\"854\"\n            height=\"480\"\n            src=\"https://player.bilibili.com/player.html?bvid=BV1QK4y1e7N9&page=1?fs=1\"\n            frameborder=\"0\"\n            allowfullscreen\n        ></iframe>\n        "
                },
                "metadata": {}
              }
            ]
          }
        },
        "087ed58da7c44b868b744ceb477c1e74": {
          "model_module": "@jupyter-widgets/base",
          "model_name": "LayoutModel",
          "model_module_version": "1.2.0",
          "state": {
            "_model_module": "@jupyter-widgets/base",
            "_model_module_version": "1.2.0",
            "_model_name": "LayoutModel",
            "_view_count": null,
            "_view_module": "@jupyter-widgets/base",
            "_view_module_version": "1.2.0",
            "_view_name": "LayoutView",
            "align_content": null,
            "align_items": null,
            "align_self": null,
            "border": null,
            "bottom": null,
            "display": null,
            "flex": null,
            "flex_flow": null,
            "grid_area": null,
            "grid_auto_columns": null,
            "grid_auto_flow": null,
            "grid_auto_rows": null,
            "grid_column": null,
            "grid_gap": null,
            "grid_row": null,
            "grid_template_areas": null,
            "grid_template_columns": null,
            "grid_template_rows": null,
            "height": null,
            "justify_content": null,
            "justify_items": null,
            "left": null,
            "margin": null,
            "max_height": null,
            "max_width": null,
            "min_height": null,
            "min_width": null,
            "object_fit": null,
            "object_position": null,
            "order": null,
            "overflow": null,
            "overflow_x": null,
            "overflow_y": null,
            "padding": null,
            "right": null,
            "top": null,
            "visibility": null,
            "width": null
          }
        },
        "0f94255b4de9458aaf388d85dbf384a1": {
          "model_module": "@jupyter-widgets/base",
          "model_name": "LayoutModel",
          "model_module_version": "1.2.0",
          "state": {
            "_model_module": "@jupyter-widgets/base",
            "_model_module_version": "1.2.0",
            "_model_name": "LayoutModel",
            "_view_count": null,
            "_view_module": "@jupyter-widgets/base",
            "_view_module_version": "1.2.0",
            "_view_name": "LayoutView",
            "align_content": null,
            "align_items": null,
            "align_self": null,
            "border": null,
            "bottom": null,
            "display": null,
            "flex": null,
            "flex_flow": null,
            "grid_area": null,
            "grid_auto_columns": null,
            "grid_auto_flow": null,
            "grid_auto_rows": null,
            "grid_column": null,
            "grid_gap": null,
            "grid_row": null,
            "grid_template_areas": null,
            "grid_template_columns": null,
            "grid_template_rows": null,
            "height": null,
            "justify_content": null,
            "justify_items": null,
            "left": null,
            "margin": null,
            "max_height": null,
            "max_width": null,
            "min_height": null,
            "min_width": null,
            "object_fit": null,
            "object_position": null,
            "order": null,
            "overflow": null,
            "overflow_x": null,
            "overflow_y": null,
            "padding": null,
            "right": null,
            "top": null,
            "visibility": null,
            "width": null
          }
        },
        "3df1cc172ac44565b64a26c255863f41": {
          "model_module": "@jupyter-widgets/base",
          "model_name": "LayoutModel",
          "model_module_version": "1.2.0",
          "state": {
            "_model_module": "@jupyter-widgets/base",
            "_model_module_version": "1.2.0",
            "_model_name": "LayoutModel",
            "_view_count": null,
            "_view_module": "@jupyter-widgets/base",
            "_view_module_version": "1.2.0",
            "_view_name": "LayoutView",
            "align_content": null,
            "align_items": null,
            "align_self": null,
            "border": null,
            "bottom": null,
            "display": null,
            "flex": null,
            "flex_flow": null,
            "grid_area": null,
            "grid_auto_columns": null,
            "grid_auto_flow": null,
            "grid_auto_rows": null,
            "grid_column": null,
            "grid_gap": null,
            "grid_row": null,
            "grid_template_areas": null,
            "grid_template_columns": null,
            "grid_template_rows": null,
            "height": null,
            "justify_content": null,
            "justify_items": null,
            "left": null,
            "margin": null,
            "max_height": null,
            "max_width": null,
            "min_height": null,
            "min_width": null,
            "object_fit": null,
            "object_position": null,
            "order": null,
            "overflow": null,
            "overflow_x": null,
            "overflow_y": null,
            "padding": null,
            "right": null,
            "top": null,
            "visibility": null,
            "width": null
          }
        },
        "67407fd285f349c4a02738fefdb3cd4c": {
          "model_module": "@jupyter-widgets/controls",
          "model_name": "VBoxModel",
          "model_module_version": "1.5.0",
          "state": {
            "_dom_classes": [
              "widget-interact"
            ],
            "_model_module": "@jupyter-widgets/controls",
            "_model_module_version": "1.5.0",
            "_model_name": "VBoxModel",
            "_view_count": null,
            "_view_module": "@jupyter-widgets/controls",
            "_view_module_version": "1.5.0",
            "_view_name": "VBoxView",
            "box_style": "",
            "children": [
              "IPY_MODEL_55547f210d93411f854fb8aeff0e8da9",
              "IPY_MODEL_b04b94257dd5429ea2ade55a05692a73",
              "IPY_MODEL_b9c50146332d4a48b46740b642d41d14",
              "IPY_MODEL_6259930f83fd4dc5a96d217bd291f12b",
              "IPY_MODEL_76018dafc19a49cdb7e080961a749939"
            ],
            "layout": "IPY_MODEL_334b8114f7e44509bec47f9bd05b508f"
          }
        },
        "55547f210d93411f854fb8aeff0e8da9": {
          "model_module": "@jupyter-widgets/controls",
          "model_name": "FloatSliderModel",
          "model_module_version": "1.5.0",
          "state": {
            "_dom_classes": [],
            "_model_module": "@jupyter-widgets/controls",
            "_model_module_version": "1.5.0",
            "_model_name": "FloatSliderModel",
            "_view_count": null,
            "_view_module": "@jupyter-widgets/controls",
            "_view_module_version": "1.5.0",
            "_view_name": "FloatSliderView",
            "continuous_update": true,
            "description": "p(stay)",
            "description_tooltip": null,
            "disabled": false,
            "layout": "IPY_MODEL_d25b03c0b4b7478783252bacbc7900d9",
            "max": 1,
            "min": 0,
            "orientation": "horizontal",
            "readout": true,
            "readout_format": ".2f",
            "step": 0.1,
            "style": "IPY_MODEL_c01ed9113d7e4b9299eb0f2d48b01783",
            "value": 0.95
          }
        },
        "b04b94257dd5429ea2ade55a05692a73": {
          "model_module": "@jupyter-widgets/controls",
          "model_name": "FloatSliderModel",
          "model_module_version": "1.5.0",
          "state": {
            "_dom_classes": [],
            "_model_module": "@jupyter-widgets/controls",
            "_model_module_version": "1.5.0",
            "_model_name": "FloatSliderModel",
            "_view_count": null,
            "_view_module": "@jupyter-widgets/controls",
            "_view_module_version": "1.5.0",
            "_view_name": "FloatSliderView",
            "continuous_update": true,
            "description": "p(high_rwd)",
            "description_tooltip": null,
            "disabled": false,
            "layout": "IPY_MODEL_d1e6ff4d66c04a26808e056d63ec0b29",
            "max": 1,
            "min": 0,
            "orientation": "horizontal",
            "readout": true,
            "readout_format": ".2f",
            "step": 0.1,
            "style": "IPY_MODEL_18869c7ca55b476ea159de4ebdf86f33",
            "value": 0.4
          }
        },
        "b9c50146332d4a48b46740b642d41d14": {
          "model_module": "@jupyter-widgets/controls",
          "model_name": "FloatSliderModel",
          "model_module_version": "1.5.0",
          "state": {
            "_dom_classes": [],
            "_model_module": "@jupyter-widgets/controls",
            "_model_module_version": "1.5.0",
            "_model_name": "FloatSliderModel",
            "_view_count": null,
            "_view_module": "@jupyter-widgets/controls",
            "_view_module_version": "1.5.0",
            "_view_name": "FloatSliderView",
            "continuous_update": true,
            "description": "p(low_rwd)",
            "description_tooltip": null,
            "disabled": false,
            "layout": "IPY_MODEL_4d1bafd8b86946a49e2b15ed98775c62",
            "max": 1,
            "min": 0,
            "orientation": "horizontal",
            "readout": true,
            "readout_format": ".2f",
            "step": 0.1,
            "style": "IPY_MODEL_66edd0ddd8854e779c0b28b353293437",
            "value": 0.1
          }
        },
        "6259930f83fd4dc5a96d217bd291f12b": {
          "model_module": "@jupyter-widgets/controls",
          "model_name": "FloatSliderModel",
          "model_module_version": "1.5.0",
          "state": {
            "_dom_classes": [],
            "_model_module": "@jupyter-widgets/controls",
            "_model_module_version": "1.5.0",
            "_model_name": "FloatSliderModel",
            "_view_count": null,
            "_view_module": "@jupyter-widgets/controls",
            "_view_module_version": "1.5.0",
            "_view_name": "FloatSliderView",
            "continuous_update": true,
            "description": "switching cost",
            "description_tooltip": null,
            "disabled": false,
            "layout": "IPY_MODEL_d455b34dbb10431a86f8eac1687b45fb",
            "max": 1,
            "min": 0,
            "orientation": "horizontal",
            "readout": true,
            "readout_format": ".2f",
            "step": 0.01,
            "style": "IPY_MODEL_a93747372ffa4f0da7d76e8e5076819a",
            "value": 0.2
          }
        },
        "76018dafc19a49cdb7e080961a749939": {
          "model_module": "@jupyter-widgets/output",
          "model_name": "OutputModel",
          "model_module_version": "1.0.0",
          "state": {
            "_dom_classes": [],
            "_model_module": "@jupyter-widgets/output",
            "_model_module_version": "1.0.0",
            "_model_name": "OutputModel",
            "_view_count": null,
            "_view_module": "@jupyter-widgets/output",
            "_view_module_version": "1.0.0",
            "_view_name": "OutputView",
            "layout": "IPY_MODEL_fbea9ead045d43c89aa2589f7822700a",
            "msg_id": "",
            "outputs": [
              {
                "output_type": "display_data",
                "data": {
                  "text/plain": "<Figure size 576x432 with 1 Axes>",
                  "image/png": "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\n"
                },
                "metadata": {
                  "image/png": {
                    "width": 549,
                    "height": 413
                  },
                  "needs_background": "light"
                }
              }
            ]
          }
        },
        "334b8114f7e44509bec47f9bd05b508f": {
          "model_module": "@jupyter-widgets/base",
          "model_name": "LayoutModel",
          "model_module_version": "1.2.0",
          "state": {
            "_model_module": "@jupyter-widgets/base",
            "_model_module_version": "1.2.0",
            "_model_name": "LayoutModel",
            "_view_count": null,
            "_view_module": "@jupyter-widgets/base",
            "_view_module_version": "1.2.0",
            "_view_name": "LayoutView",
            "align_content": null,
            "align_items": null,
            "align_self": null,
            "border": null,
            "bottom": null,
            "display": null,
            "flex": null,
            "flex_flow": null,
            "grid_area": null,
            "grid_auto_columns": null,
            "grid_auto_flow": null,
            "grid_auto_rows": null,
            "grid_column": null,
            "grid_gap": null,
            "grid_row": null,
            "grid_template_areas": null,
            "grid_template_columns": null,
            "grid_template_rows": null,
            "height": null,
            "justify_content": null,
            "justify_items": null,
            "left": null,
            "margin": null,
            "max_height": null,
            "max_width": null,
            "min_height": null,
            "min_width": null,
            "object_fit": null,
            "object_position": null,
            "order": null,
            "overflow": null,
            "overflow_x": null,
            "overflow_y": null,
            "padding": null,
            "right": null,
            "top": null,
            "visibility": null,
            "width": null
          }
        },
        "d25b03c0b4b7478783252bacbc7900d9": {
          "model_module": "@jupyter-widgets/base",
          "model_name": "LayoutModel",
          "model_module_version": "1.2.0",
          "state": {
            "_model_module": "@jupyter-widgets/base",
            "_model_module_version": "1.2.0",
            "_model_name": "LayoutModel",
            "_view_count": null,
            "_view_module": "@jupyter-widgets/base",
            "_view_module_version": "1.2.0",
            "_view_name": "LayoutView",
            "align_content": null,
            "align_items": null,
            "align_self": null,
            "border": null,
            "bottom": null,
            "display": null,
            "flex": null,
            "flex_flow": null,
            "grid_area": null,
            "grid_auto_columns": null,
            "grid_auto_flow": null,
            "grid_auto_rows": null,
            "grid_column": null,
            "grid_gap": null,
            "grid_row": null,
            "grid_template_areas": null,
            "grid_template_columns": null,
            "grid_template_rows": null,
            "height": null,
            "justify_content": null,
            "justify_items": null,
            "left": null,
            "margin": null,
            "max_height": null,
            "max_width": null,
            "min_height": null,
            "min_width": null,
            "object_fit": null,
            "object_position": null,
            "order": null,
            "overflow": null,
            "overflow_x": null,
            "overflow_y": null,
            "padding": null,
            "right": null,
            "top": null,
            "visibility": null,
            "width": null
          }
        },
        "c01ed9113d7e4b9299eb0f2d48b01783": {
          "model_module": "@jupyter-widgets/controls",
          "model_name": "SliderStyleModel",
          "model_module_version": "1.5.0",
          "state": {
            "_model_module": "@jupyter-widgets/controls",
            "_model_module_version": "1.5.0",
            "_model_name": "SliderStyleModel",
            "_view_count": null,
            "_view_module": "@jupyter-widgets/base",
            "_view_module_version": "1.2.0",
            "_view_name": "StyleView",
            "description_width": "",
            "handle_color": null
          }
        },
        "d1e6ff4d66c04a26808e056d63ec0b29": {
          "model_module": "@jupyter-widgets/base",
          "model_name": "LayoutModel",
          "model_module_version": "1.2.0",
          "state": {
            "_model_module": "@jupyter-widgets/base",
            "_model_module_version": "1.2.0",
            "_model_name": "LayoutModel",
            "_view_count": null,
            "_view_module": "@jupyter-widgets/base",
            "_view_module_version": "1.2.0",
            "_view_name": "LayoutView",
            "align_content": null,
            "align_items": null,
            "align_self": null,
            "border": null,
            "bottom": null,
            "display": null,
            "flex": null,
            "flex_flow": null,
            "grid_area": null,
            "grid_auto_columns": null,
            "grid_auto_flow": null,
            "grid_auto_rows": null,
            "grid_column": null,
            "grid_gap": null,
            "grid_row": null,
            "grid_template_areas": null,
            "grid_template_columns": null,
            "grid_template_rows": null,
            "height": null,
            "justify_content": null,
            "justify_items": null,
            "left": null,
            "margin": null,
            "max_height": null,
            "max_width": null,
            "min_height": null,
            "min_width": null,
            "object_fit": null,
            "object_position": null,
            "order": null,
            "overflow": null,
            "overflow_x": null,
            "overflow_y": null,
            "padding": null,
            "right": null,
            "top": null,
            "visibility": null,
            "width": null
          }
        },
        "18869c7ca55b476ea159de4ebdf86f33": {
          "model_module": "@jupyter-widgets/controls",
          "model_name": "SliderStyleModel",
          "model_module_version": "1.5.0",
          "state": {
            "_model_module": "@jupyter-widgets/controls",
            "_model_module_version": "1.5.0",
            "_model_name": "SliderStyleModel",
            "_view_count": null,
            "_view_module": "@jupyter-widgets/base",
            "_view_module_version": "1.2.0",
            "_view_name": "StyleView",
            "description_width": "",
            "handle_color": null
          }
        },
        "4d1bafd8b86946a49e2b15ed98775c62": {
          "model_module": "@jupyter-widgets/base",
          "model_name": "LayoutModel",
          "model_module_version": "1.2.0",
          "state": {
            "_model_module": "@jupyter-widgets/base",
            "_model_module_version": "1.2.0",
            "_model_name": "LayoutModel",
            "_view_count": null,
            "_view_module": "@jupyter-widgets/base",
            "_view_module_version": "1.2.0",
            "_view_name": "LayoutView",
            "align_content": null,
            "align_items": null,
            "align_self": null,
            "border": null,
            "bottom": null,
            "display": null,
            "flex": null,
            "flex_flow": null,
            "grid_area": null,
            "grid_auto_columns": null,
            "grid_auto_flow": null,
            "grid_auto_rows": null,
            "grid_column": null,
            "grid_gap": null,
            "grid_row": null,
            "grid_template_areas": null,
            "grid_template_columns": null,
            "grid_template_rows": null,
            "height": null,
            "justify_content": null,
            "justify_items": null,
            "left": null,
            "margin": null,
            "max_height": null,
            "max_width": null,
            "min_height": null,
            "min_width": null,
            "object_fit": null,
            "object_position": null,
            "order": null,
            "overflow": null,
            "overflow_x": null,
            "overflow_y": null,
            "padding": null,
            "right": null,
            "top": null,
            "visibility": null,
            "width": null
          }
        },
        "66edd0ddd8854e779c0b28b353293437": {
          "model_module": "@jupyter-widgets/controls",
          "model_name": "SliderStyleModel",
          "model_module_version": "1.5.0",
          "state": {
            "_model_module": "@jupyter-widgets/controls",
            "_model_module_version": "1.5.0",
            "_model_name": "SliderStyleModel",
            "_view_count": null,
            "_view_module": "@jupyter-widgets/base",
            "_view_module_version": "1.2.0",
            "_view_name": "StyleView",
            "description_width": "",
            "handle_color": null
          }
        },
        "d455b34dbb10431a86f8eac1687b45fb": {
          "model_module": "@jupyter-widgets/base",
          "model_name": "LayoutModel",
          "model_module_version": "1.2.0",
          "state": {
            "_model_module": "@jupyter-widgets/base",
            "_model_module_version": "1.2.0",
            "_model_name": "LayoutModel",
            "_view_count": null,
            "_view_module": "@jupyter-widgets/base",
            "_view_module_version": "1.2.0",
            "_view_name": "LayoutView",
            "align_content": null,
            "align_items": null,
            "align_self": null,
            "border": null,
            "bottom": null,
            "display": null,
            "flex": null,
            "flex_flow": null,
            "grid_area": null,
            "grid_auto_columns": null,
            "grid_auto_flow": null,
            "grid_auto_rows": null,
            "grid_column": null,
            "grid_gap": null,
            "grid_row": null,
            "grid_template_areas": null,
            "grid_template_columns": null,
            "grid_template_rows": null,
            "height": null,
            "justify_content": null,
            "justify_items": null,
            "left": null,
            "margin": null,
            "max_height": null,
            "max_width": null,
            "min_height": null,
            "min_width": null,
            "object_fit": null,
            "object_position": null,
            "order": null,
            "overflow": null,
            "overflow_x": null,
            "overflow_y": null,
            "padding": null,
            "right": null,
            "top": null,
            "visibility": null,
            "width": null
          }
        },
        "a93747372ffa4f0da7d76e8e5076819a": {
          "model_module": "@jupyter-widgets/controls",
          "model_name": "SliderStyleModel",
          "model_module_version": "1.5.0",
          "state": {
            "_model_module": "@jupyter-widgets/controls",
            "_model_module_version": "1.5.0",
            "_model_name": "SliderStyleModel",
            "_view_count": null,
            "_view_module": "@jupyter-widgets/base",
            "_view_module_version": "1.2.0",
            "_view_name": "StyleView",
            "description_width": "",
            "handle_color": null
          }
        },
        "fbea9ead045d43c89aa2589f7822700a": {
          "model_module": "@jupyter-widgets/base",
          "model_name": "LayoutModel",
          "model_module_version": "1.2.0",
          "state": {
            "_model_module": "@jupyter-widgets/base",
            "_model_module_version": "1.2.0",
            "_model_name": "LayoutModel",
            "_view_count": null,
            "_view_module": "@jupyter-widgets/base",
            "_view_module_version": "1.2.0",
            "_view_name": "LayoutView",
            "align_content": null,
            "align_items": null,
            "align_self": null,
            "border": null,
            "bottom": null,
            "display": null,
            "flex": null,
            "flex_flow": null,
            "grid_area": null,
            "grid_auto_columns": null,
            "grid_auto_flow": null,
            "grid_auto_rows": null,
            "grid_column": null,
            "grid_gap": null,
            "grid_row": null,
            "grid_template_areas": null,
            "grid_template_columns": null,
            "grid_template_rows": null,
            "height": null,
            "justify_content": null,
            "justify_items": null,
            "left": null,
            "margin": null,
            "max_height": null,
            "max_width": null,
            "min_height": null,
            "min_width": null,
            "object_fit": null,
            "object_position": null,
            "order": null,
            "overflow": null,
            "overflow_x": null,
            "overflow_y": null,
            "padding": null,
            "right": null,
            "top": null,
            "visibility": null,
            "width": null
          }
        }
      }
    }
  },
  "nbformat": 4,
  "nbformat_minor": 0
}