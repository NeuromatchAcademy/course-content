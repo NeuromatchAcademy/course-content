{
  "nbformat": 4,
  "nbformat_minor": 0,
  "metadata": {
    "colab": {
      "name": "W0D2_Tutorial1",
      "provenance": [],
      "collapsed_sections": [],
      "toc_visible": true,
      "include_colab_link": true
    },
    "kernel": {
      "display_name": "Python 3",
      "language": "python",
      "name": "python3"
    },
    "kernelspec": {
      "display_name": "Python 3",
      "language": "python",
      "name": "python3"
    },
    "language_info": {
      "codemirror_mode": {
        "name": "ipython",
        "version": 3
      },
      "file_extension": ".py",
      "mimetype": "text/x-python",
      "name": "python",
      "nbconvert_exporter": "python",
      "pygments_lexer": "ipython3",
      "version": "3.7.10"
    },
    "widgets": {
      "application/vnd.jupyter.widget-state+json": {
        "b6ff80b6f3b8473e879900664c1b68bb": {
          "model_module": "@jupyter-widgets/controls",
          "model_name": "TabModel",
          "state": {
            "_view_name": "TabView",
            "_dom_classes": [],
            "_titles": {
              "0": "Youtube",
              "1": "Bilibili"
            },
            "_model_name": "TabModel",
            "_view_module": "@jupyter-widgets/controls",
            "selected_index": 0,
            "_model_module_version": "1.5.0",
            "_view_count": null,
            "_view_module_version": "1.5.0",
            "box_style": "",
            "layout": "IPY_MODEL_1a02ad05edf341f1a1a0a1d500b9e911",
            "_model_module": "@jupyter-widgets/controls",
            "children": [
              "IPY_MODEL_b480c3ecfbfc4e2d80d1d76eda8decb9",
              "IPY_MODEL_8b2802808e0f4c4e87eed6aa47e6177d"
            ]
          }
        },
        "1a02ad05edf341f1a1a0a1d500b9e911": {
          "model_module": "@jupyter-widgets/base",
          "model_name": "LayoutModel",
          "state": {
            "_view_name": "LayoutView",
            "grid_template_rows": null,
            "right": null,
            "justify_content": null,
            "_view_module": "@jupyter-widgets/base",
            "overflow": null,
            "_model_module_version": "1.2.0",
            "_view_count": null,
            "flex_flow": null,
            "width": null,
            "min_width": null,
            "border": null,
            "align_items": null,
            "bottom": null,
            "_model_module": "@jupyter-widgets/base",
            "top": null,
            "grid_column": null,
            "overflow_y": null,
            "overflow_x": null,
            "grid_auto_flow": null,
            "grid_area": null,
            "grid_template_columns": null,
            "flex": null,
            "_model_name": "LayoutModel",
            "justify_items": null,
            "grid_row": null,
            "max_height": null,
            "align_content": null,
            "visibility": null,
            "align_self": null,
            "height": null,
            "min_height": null,
            "padding": null,
            "grid_auto_rows": null,
            "grid_gap": null,
            "max_width": null,
            "order": null,
            "_view_module_version": "1.2.0",
            "grid_template_areas": null,
            "object_position": null,
            "object_fit": null,
            "grid_auto_columns": null,
            "margin": null,
            "display": null,
            "left": null
          }
        },
        "b480c3ecfbfc4e2d80d1d76eda8decb9": {
          "model_module": "@jupyter-widgets/output",
          "model_name": "OutputModel",
          "state": {
            "_view_name": "OutputView",
            "msg_id": "",
            "_dom_classes": [],
            "_model_name": "OutputModel",
            "outputs": [
              {
                "output_type": "stream",
                "metadata": {
                  "tags": []
                },
                "text": "Video available at https://youtube.com/watch?v=J24tne-IwvY\n",
                "stream": "stdout"
              },
              {
                "output_type": "display_data",
                "metadata": {
                  "tags": []
                },
                "text/html": "\n        <iframe\n            width=\"854\"\n            height=\"480\"\n            src=\"https://www.youtube.com/embed/J24tne-IwvY?fs=1&rel=0\"\n            frameborder=\"0\"\n            allowfullscreen\n        ></iframe>\n        ",
                "text/plain": "<IPython.lib.display.YouTubeVideo at 0x7f6018510510>",
                "image/jpeg": "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\n"
              }
            ],
            "_view_module": "@jupyter-widgets/output",
            "_model_module_version": "1.0.0",
            "_view_count": null,
            "_view_module_version": "1.0.0",
            "layout": "IPY_MODEL_7a4ed189142c4a64a44cf4155b647285",
            "_model_module": "@jupyter-widgets/output"
          }
        },
        "dd708d0758164414b2a2a8589efb7c9a": {
          "model_module": "@jupyter-widgets/controls",
          "model_name": "TabModel",
          "state": {
            "_view_name": "TabView",
            "_dom_classes": [],
            "_titles": {
              "0": "Youtube",
              "1": "Bilibili"
            },
            "_model_name": "TabModel",
            "_view_module": "@jupyter-widgets/controls",
            "selected_index": 0,
            "_model_module_version": "1.5.0",
            "_view_count": null,
            "_view_module_version": "1.5.0",
            "box_style": "",
            "layout": "IPY_MODEL_165b768a88004b43941149f35e88f943",
            "_model_module": "@jupyter-widgets/controls",
            "children": [
              "IPY_MODEL_d188e7f2a4e34a3c940140d060800985",
              "IPY_MODEL_6df387c1516246bd85d3cbd61a3633aa"
            ]
          }
        },
        "165b768a88004b43941149f35e88f943": {
          "model_module": "@jupyter-widgets/base",
          "model_name": "LayoutModel",
          "state": {
            "_view_name": "LayoutView",
            "grid_template_rows": null,
            "right": null,
            "justify_content": null,
            "_view_module": "@jupyter-widgets/base",
            "overflow": null,
            "_model_module_version": "1.2.0",
            "_view_count": null,
            "flex_flow": null,
            "width": null,
            "min_width": null,
            "border": null,
            "align_items": null,
            "bottom": null,
            "_model_module": "@jupyter-widgets/base",
            "top": null,
            "grid_column": null,
            "overflow_y": null,
            "overflow_x": null,
            "grid_auto_flow": null,
            "grid_area": null,
            "grid_template_columns": null,
            "flex": null,
            "_model_name": "LayoutModel",
            "justify_items": null,
            "grid_row": null,
            "max_height": null,
            "align_content": null,
            "visibility": null,
            "align_self": null,
            "height": null,
            "min_height": null,
            "padding": null,
            "grid_auto_rows": null,
            "grid_gap": null,
            "max_width": null,
            "order": null,
            "_view_module_version": "1.2.0",
            "grid_template_areas": null,
            "object_position": null,
            "object_fit": null,
            "grid_auto_columns": null,
            "margin": null,
            "display": null,
            "left": null
          }
        },
        "d188e7f2a4e34a3c940140d060800985": {
          "model_module": "@jupyter-widgets/output",
          "model_name": "OutputModel",
          "state": {
            "_view_name": "OutputView",
            "msg_id": "",
            "_dom_classes": [],
            "_model_name": "OutputModel",
            "outputs": [
              {
                "output_type": "stream",
                "metadata": {
                  "tags": []
                },
                "text": "Video available at https://youtube.com/watch?v=71f1J98zj80\n",
                "stream": "stdout"
              },
              {
                "output_type": "display_data",
                "metadata": {
                  "tags": []
                },
                "text/html": "\n        <iframe\n            width=\"854\"\n            height=\"480\"\n            src=\"https://www.youtube.com/embed/71f1J98zj80?fs=1&rel=0\"\n            frameborder=\"0\"\n            allowfullscreen\n        ></iframe>\n        ",
                "text/plain": "<IPython.lib.display.YouTubeVideo at 0x7f6018510510>",
                "image/jpeg": "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\n"
              }
            ],
            "_view_module": "@jupyter-widgets/output",
            "_model_module_version": "1.0.0",
            "_view_count": null,
            "_view_module_version": "1.0.0",
            "layout": "IPY_MODEL_e834161784834200856ae42b055a164a",
            "_model_module": "@jupyter-widgets/output"
          }
        }
      }
    }
  },
  "cells": [
    {
      "cell_type": "markdown",
      "metadata": {
        "id": "view-in-github",
        "colab_type": "text"
      },
      "source": [
        "<a href=\"https://colab.research.google.com/github/NeuromatchAcademy/course-content/blob/W0D2_updates/tutorials/W0D2_PythonWorkshop2/W0D2_Tutorial1.ipynb\" target=\"_parent\"><img src=\"https://colab.research.google.com/assets/colab-badge.svg\" alt=\"Open In Colab\"/></a>"
      ]
    },
    {
      "cell_type": "markdown",
      "metadata": {
        "id": "7_-a-XH5tcsP"
      },
      "source": [
        "# Tutorial 1: LIF Neuron Part II\n",
        "**Week 0, Day 2: Python Workshop 2**\n",
        "\n",
        "**By Neuromatch Academy**\n",
        "\n",
        "__Content creators:__ Marco Brigham and the [CCNSS](https://www.ccnss.org/) team\n",
        "\n",
        "__Content reviewers:__ Michael Waskom, Karolina Stosio, Spiros Chavlis\n",
        "\n",
        "__Production Editor:__ Ella Batty"
      ]
    },
    {
      "cell_type": "markdown",
      "metadata": {
        "id": "XQr7Wr0AtcsQ"
      },
      "source": [
        "**Our 2021 Sponsors, including Presenting Sponsor Facebook Reality Labs**\n",
        "\n",
        "<p align='center'><img src='https://github.com/NeuromatchAcademy/widgets/blob/master/sponsors.png?raw=True'/></p>"
      ]
    },
    {
      "cell_type": "markdown",
      "metadata": {
        "id": "o7Vj0QTbtcsR"
      },
      "source": [
        "---\n",
        "## Tutorial objectives\n",
        "We learned basic Python and NumPy concepts in the previous tutorial. These new and efficient coding techniques can be applied repeatedly in tutorials from the NMA course, and elsewhere. \n",
        "\n",
        "In this tutorial, we'll introduce spikes in our LIF neuron and evaluate the refractory period's effect in spiking dynamics!\n"
      ]
    },
    {
      "cell_type": "markdown",
      "metadata": {
        "id": "F5l_qBjUtcsR"
      },
      "source": [
        "---\n",
        "# Setup"
      ]
    },
    {
      "cell_type": "code",
      "metadata": {
        "cellView": "both",
        "execution": {
          "iopub.execute_input": "2021-06-25T15:05:28.531688Z",
          "iopub.status.busy": "2021-06-25T15:05:28.531171Z",
          "iopub.status.idle": "2021-06-25T15:05:28.852417Z",
          "shell.execute_reply": "2021-06-25T15:05:28.851394Z"
        },
        "id": "1BIOvPEutcsR"
      },
      "source": [
        "# Imports\n",
        "\n",
        "import numpy as np\n",
        "import matplotlib.pyplot as plt\n",
        "from IPython.display import YouTubeVideo"
      ],
      "execution_count": 1,
      "outputs": []
    },
    {
      "cell_type": "code",
      "metadata": {
        "execution": {
          "iopub.execute_input": "2021-06-25T15:05:28.857002Z",
          "iopub.status.busy": "2021-06-25T15:05:28.856492Z",
          "iopub.status.idle": "2021-06-25T15:05:28.948440Z",
          "shell.execute_reply": "2021-06-25T15:05:28.949079Z"
        },
        "id": "txNlkmhStcsS",
        "cellView": "form"
      },
      "source": [
        "# @title Figure settings\n",
        "import ipywidgets as widgets       # interactive display\n",
        "%config InlineBackend.figure_format = 'retina'\n",
        "plt.style.use(\"https://raw.githubusercontent.com/NeuromatchAcademy/course-content/master/nma.mplstyle\")"
      ],
      "execution_count": 2,
      "outputs": []
    },
    {
      "cell_type": "code",
      "metadata": {
        "execution": {
          "iopub.execute_input": "2021-06-25T15:05:28.963462Z",
          "iopub.status.busy": "2021-06-25T15:05:28.961548Z",
          "iopub.status.idle": "2021-06-25T15:05:28.964162Z",
          "shell.execute_reply": "2021-06-25T15:05:28.964588Z"
        },
        "id": "-_Qp3seltcsS",
        "cellView": "form"
      },
      "source": [
        "# @title Helper functions\n",
        "\n",
        "t_max = 150e-3   # second\n",
        "dt = 1e-3        # second\n",
        "tau = 20e-3      # second\n",
        "el = -60e-3      # milivolt\n",
        "vr = -70e-3      # milivolt\n",
        "vth = -50e-3     # milivolt\n",
        "r = 100e6        # ohm\n",
        "i_mean = 25e-11  # ampere\n",
        "\n",
        "\n",
        "def plot_all(t_range, v, raster=None, spikes=None, spikes_mean=None):\n",
        "  \"\"\"\n",
        "  Plots Time evolution for\n",
        "  (1) multiple realizations of membrane potential\n",
        "  (2) spikes\n",
        "  (3) mean spike rate (optional)\n",
        "\n",
        "  Args:\n",
        "    t_range (numpy array of floats)\n",
        "        range of time steps for the plots of shape (time steps)\n",
        "\n",
        "    v (numpy array of floats)\n",
        "        membrane potential values of shape (neurons, time steps)\n",
        "\n",
        "    raster (numpy array of floats)\n",
        "        spike raster of shape (neurons, time steps)\n",
        "\n",
        "    spikes (dictionary of lists)\n",
        "        list with spike times indexed by neuron number\n",
        "\n",
        "    spikes_mean (numpy array of floats)\n",
        "        Mean spike rate for spikes as dictionary\n",
        "\n",
        "  Returns:\n",
        "    Nothing.\n",
        "  \"\"\"\n",
        "\n",
        "  v_mean = np.mean(v, axis=0)\n",
        "  fig_w, fig_h = plt.rcParams['figure.figsize']\n",
        "  plt.figure(figsize=(fig_w, 1.5 * fig_h))\n",
        "\n",
        "  ax1 = plt.subplot(3, 1, 1)\n",
        "  for j in range(n):\n",
        "    plt.scatter(t_range, v[j], color=\"k\", marker=\".\", alpha=0.01)\n",
        "  plt.plot(t_range, v_mean, 'C1', alpha=0.8, linewidth=3)\n",
        "  plt.xticks([])\n",
        "  plt.ylabel(r'$V_m$ (V)')\n",
        "\n",
        "  if raster is not None:\n",
        "    plt.subplot(3, 1, 2)\n",
        "    spikes_mean = np.mean(raster, axis=0)\n",
        "    plt.imshow(raster, cmap='Greys', origin='lower', aspect='auto')\n",
        "\n",
        "  else:\n",
        "    plt.subplot(3, 1, 2, sharex=ax1)\n",
        "    for j in range(n):\n",
        "      times = np.array(spikes[j])\n",
        "      plt.scatter(times, j * np.ones_like(times), color=\"C0\", marker=\".\", alpha=0.2)\n",
        "\n",
        "  plt.xticks([])\n",
        "  plt.ylabel('neuron')\n",
        "\n",
        "  if spikes_mean is not None:\n",
        "    plt.subplot(3, 1, 3, sharex=ax1)\n",
        "    plt.plot(t_range, spikes_mean)\n",
        "    plt.xlabel('time (s)')\n",
        "    plt.ylabel('rate (Hz)')\n",
        "\n",
        "  plt.tight_layout()\n",
        "  plt.show()"
      ],
      "execution_count": 3,
      "outputs": []
    },
    {
      "cell_type": "markdown",
      "metadata": {
        "id": "1QJARE1DtcsT"
      },
      "source": [
        "---\n",
        "# Section 1: Histograms\n"
      ]
    },
    {
      "cell_type": "code",
      "metadata": {
        "colab": {
          "base_uri": "https://localhost:8080/",
          "height": 537,
          "referenced_widgets": [
            "b6ff80b6f3b8473e879900664c1b68bb",
            "1a02ad05edf341f1a1a0a1d500b9e911",
            "b480c3ecfbfc4e2d80d1d76eda8decb9",
            "8b2802808e0f4c4e87eed6aa47e6177d"
          ]
        },
        "id": "-2Yx1jvR0a5N",
        "outputId": "e12723f6-1e28-4543-beef-7b257b8c398c"
      },
      "source": [
        "# @title Video 1: Histograms\n",
        "from ipywidgets import widgets\n",
        "\n",
        "out2 = widgets.Output()\n",
        "with out2:\n",
        "  from IPython.display import IFrame\n",
        "  class BiliVideo(IFrame):\n",
        "      def __init__(self, id, page=1, width=400, height=300, **kwargs):\n",
        "          self.id=id\n",
        "          src = 'https://player.bilibili.com/player.html?bvid={0}&page={1}'.format(id, page)\n",
        "          super(BiliVideo, self).__init__(src, width, height, **kwargs)\n",
        "\n",
        "  video = BiliVideo(id=\"BV1GC4y1h7Ex\", width=854, height=480, fs=1)\n",
        "  print('Video available at https://www.bilibili.com/video/{0}'.format(video.id))\n",
        "  display(video)\n",
        "\n",
        "out1 = widgets.Output()\n",
        "with out1:\n",
        "  from IPython.display import YouTubeVideo\n",
        "  video = YouTubeVideo(id=\"J24tne-IwvY\", width=854, height=480, fs=1, rel=0)\n",
        "  print('Video available at https://youtube.com/watch?v=' + video.id)\n",
        "  display(video)\n",
        "\n",
        "out = widgets.Tab([out1, out2])\n",
        "out.set_title(0, 'Youtube')\n",
        "out.set_title(1, 'Bilibili')\n",
        "\n",
        "display(out)"
      ],
      "execution_count": 4,
      "outputs": [
        {
          "output_type": "stream",
          "text": [
            "Video available at https://www.bilibili.com/video/BV1GC4y1h7Ex\n"
          ],
          "name": "stdout"
        },
        {
          "output_type": "display_data",
          "data": {
            "text/html": [
              "\n",
              "        <iframe\n",
              "            width=\"854\"\n",
              "            height=\"480\"\n",
              "            src=\"https://player.bilibili.com/player.html?bvid=BV1GC4y1h7Ex&page=1?fs=1\"\n",
              "            frameborder=\"0\"\n",
              "            allowfullscreen\n",
              "        ></iframe>\n",
              "        "
            ],
            "text/plain": [
              "<__main__.BiliVideo at 0x7f6018510050>"
            ]
          },
          "metadata": {
            "tags": []
          }
        },
        {
          "output_type": "display_data",
          "data": {
            "application/vnd.jupyter.widget-view+json": {
              "model_id": "b6ff80b6f3b8473e879900664c1b68bb",
              "version_minor": 0,
              "version_major": 2
            },
            "text/plain": [
              "Tab(children=(Output(), Output()), _titles={'0': 'Youtube', '1': 'Bilibili'})"
            ]
          },
          "metadata": {
            "tags": []
          }
        }
      ]
    },
    {
      "cell_type": "markdown",
      "metadata": {
        "id": "S5_6DzuA0t4p"
      },
      "source": [
        "![histogram statistics](https://github.com/mpbrigham/colaboratory-figures/raw/master/nma/python-for-nma/histogram_statistics.png)\n",
        "\n",
        "Another important statistic is the sample [histogram](https://en.wikipedia.org/wiki/Histogram). For our LIF neuron it provides an approximate representation of the distribution of membrane potential $V_m(t)$ at time $t=t_k\\in[0,t_{max}]$. For $N$ realizations $V\\left(t_k\\right)$ and $J$ bins is given by:\n",
        " \n",
        "\\begin{align*}\n",
        "\\\\\n",
        "N = \\sum_{j=1}^{J} m_j\\\\\n",
        "\\\\\n",
        "\\end{align*}\n",
        "\n",
        "where $m_j$ is a function that counts the number of samples $V\\left(t_k\\right)$ that fall into bin $j$.\n",
        "\n",
        "The function `plt.hist(data, nbins)` plots an histogram of `data` in `nbins` bins. The argument `label` defines a label for `data` and `plt.legend()` adds all labels to the plot.\n",
        "\n",
        "    plt.hist(data, bins, label='my data')\n",
        "    plt.legend()\n",
        "    plt.show()\n",
        "\n",
        "The parameters `histtype='stepfilled'` and `linewidth=0` may improve histogram appearance (depending on taste). You can read more about [different histtype settings](https://matplotlib.org/gallery/statistics/histogram_histtypes.html).\n",
        "\n",
        "The function `plt.hist` returns the `pdf`, `bins`, and `patches` with the histogram bins, the edges of the bins, and the individual patches used to create the histogram.\n",
        "\n",
        "    pdf, bins, patches = plt.hist(data, bins)\n"
      ]
    },
    {
      "cell_type": "code",
      "metadata": {
        "execution": {
          "iopub.execute_input": "2021-06-25T15:05:28.976110Z",
          "iopub.status.busy": "2021-06-25T15:05:28.972082Z",
          "iopub.status.idle": "2021-06-25T15:05:29.048536Z",
          "shell.execute_reply": "2021-06-25T15:05:29.049556Z"
        },
        "id": "4oiUZfV_tcsT",
        "colab": {
          "base_uri": "https://localhost:8080/",
          "height": 537,
          "referenced_widgets": [
            "dd708d0758164414b2a2a8589efb7c9a",
            "165b768a88004b43941149f35e88f943",
            "d188e7f2a4e34a3c940140d060800985",
            "6df387c1516246bd85d3cbd61a3633aa"
          ]
        },
        "outputId": "17d74235-b225-485b-a719-9c46a3c6e58d"
      },
      "source": [
        "# @title Video 2: Nano recap of histograms\n",
        "from ipywidgets import widgets\n",
        "\n",
        "out2 = widgets.Output()\n",
        "with out2:\n",
        "  from IPython.display import IFrame\n",
        "  class BiliVideo(IFrame):\n",
        "      def __init__(self, id, page=1, width=400, height=300, **kwargs):\n",
        "          self.id=id\n",
        "          src = 'https://player.bilibili.com/player.html?bvid={0}&page={1}'.format(id, page)\n",
        "          super(BiliVideo, self).__init__(src, width, height, **kwargs)\n",
        "\n",
        "  video = BiliVideo(id=\"BV1Zv411B7mD\", width=854, height=480, fs=1)\n",
        "  print('Video available at https://www.bilibili.com/video/{0}'.format(video.id))\n",
        "  display(video)\n",
        "\n",
        "out1 = widgets.Output()\n",
        "with out1:\n",
        "  from IPython.display import YouTubeVideo\n",
        "  video = YouTubeVideo(id=\"71f1J98zj80\", width=854, height=480, fs=1, rel=0)\n",
        "  print('Video available at https://youtube.com/watch?v=' + video.id)\n",
        "  display(video)\n",
        "\n",
        "out = widgets.Tab([out1, out2])\n",
        "out.set_title(0, 'Youtube')\n",
        "out.set_title(1, 'Bilibili')\n",
        "\n",
        "display(out)"
      ],
      "execution_count": 5,
      "outputs": [
        {
          "output_type": "stream",
          "text": [
            "Video available at https://www.bilibili.com/video/BV1Zv411B7mD\n"
          ],
          "name": "stdout"
        },
        {
          "output_type": "display_data",
          "data": {
            "text/html": [
              "\n",
              "        <iframe\n",
              "            width=\"854\"\n",
              "            height=\"480\"\n",
              "            src=\"https://player.bilibili.com/player.html?bvid=BV1Zv411B7mD&page=1?fs=1\"\n",
              "            frameborder=\"0\"\n",
              "            allowfullscreen\n",
              "        ></iframe>\n",
              "        "
            ],
            "text/plain": [
              "<__main__.BiliVideo at 0x7f601809ed50>"
            ]
          },
          "metadata": {
            "tags": []
          }
        },
        {
          "output_type": "display_data",
          "data": {
            "application/vnd.jupyter.widget-view+json": {
              "model_id": "dd708d0758164414b2a2a8589efb7c9a",
              "version_minor": 0,
              "version_major": 2
            },
            "text/plain": [
              "Tab(children=(Output(), Output()), _titles={'0': 'Youtube', '1': 'Bilibili'})"
            ]
          },
          "metadata": {
            "tags": []
          }
        }
      ]
    },
    {
      "cell_type": "markdown",
      "metadata": {
        "id": "ikUQQwlitcsT"
      },
      "source": [
        "## Coding Exercise 1: Plotting a histogram\n",
        "Plot an histogram of $J=50$ bins of $N=10000$ realizations of $V(t)$ for $t=t_{max}/10$ and $t=t_{max}$.\n",
        "\n",
        "We'll make a small correction in the definition of `t_range` to ensure increments of `dt` by using `np.arange` instead of `np.linspace`.\n",
        "\n",
        "    numpy.arange(start, stop, step)\n"
      ]
    },
    {
      "cell_type": "code",
      "metadata": {
        "execution": {
          "iopub.execute_input": "2021-06-25T15:05:29.062849Z",
          "iopub.status.busy": "2021-06-25T15:05:29.062304Z",
          "iopub.status.idle": "2021-06-25T15:05:29.439450Z",
          "shell.execute_reply": "2021-06-25T15:05:29.440250Z"
        },
        "id": "3NVCF7vftcsU",
        "colab": {
          "base_uri": "https://localhost:8080/",
          "height": 240
        },
        "outputId": "c2c48b64-f508-4b03-b3d7-316691e1c88e"
      },
      "source": [
        "#################################################\n",
        "## TODO for students: fill out code to plot histogram ##\n",
        "# Fill out code and comment or remove the next line\n",
        "raise NotImplementedError(\"Student exercise: You need to plot histogram\")\n",
        "#################################################\n",
        "\n",
        "# Set random number generator\n",
        "np.random.seed(2020)\n",
        "\n",
        "# Initialize t_range, step_end, n, v_n, i and nbins\n",
        "t_range = np.arange(0, t_max, dt)\n",
        "step_end = len(t_range)\n",
        "n = 10000\n",
        "v_n = el * np.ones([n, step_end])\n",
        "i = i_mean * (1 + 0.1 * (t_max / dt)**(0.5) * (2 * np.random.random([n, step_end]) - 1))\n",
        "nbins = 32\n",
        "\n",
        "# Loop over time steps\n",
        "for step, t in enumerate(t_range):\n",
        "\n",
        "  # Skip first iteration\n",
        "  if step==0:\n",
        "    continue\n",
        "  \n",
        "  # Compute v_n\n",
        "  v_n[:, step] =  v_n[:, step - 1] + (dt / tau) * (el - v_n[:, step - 1] + r * i[:, step])\n",
        "\n",
        "# Initialize the figure\n",
        "plt.figure()\n",
        "plt.ylabel('Frequency')\n",
        "plt.xlabel('$V_m$ (V)')\n",
        "\n",
        "# Plot a histogram at t_max/10 (add labels and parameters histtype='stepfilled' and linewidth=0)\n",
        "plt.hist(...)\n",
        "\n",
        "# Plot a histogram at t_max (add labels and parameters histtype='stepfilled' and linewidth=0)\n",
        "plt.hist(...)\n",
        "\n",
        "# Add legend\n",
        "plt.legend()\n",
        "plt.show()"
      ],
      "execution_count": 6,
      "outputs": [
        {
          "output_type": "error",
          "ename": "NotImplementedError",
          "evalue": "ignored",
          "traceback": [
            "\u001b[0;31m---------------------------------------------------------------------------\u001b[0m",
            "\u001b[0;31mNotImplementedError\u001b[0m                       Traceback (most recent call last)",
            "\u001b[0;32m<ipython-input-6-ee505a1b0050>\u001b[0m in \u001b[0;36m<module>\u001b[0;34m()\u001b[0m\n\u001b[1;32m      2\u001b[0m \u001b[0;31m## TODO for students: fill out code to plot histogram ##\u001b[0m\u001b[0;34m\u001b[0m\u001b[0;34m\u001b[0m\u001b[0;34m\u001b[0m\u001b[0m\n\u001b[1;32m      3\u001b[0m \u001b[0;31m# Fill out code and comment or remove the next line\u001b[0m\u001b[0;34m\u001b[0m\u001b[0;34m\u001b[0m\u001b[0;34m\u001b[0m\u001b[0m\n\u001b[0;32m----> 4\u001b[0;31m \u001b[0;32mraise\u001b[0m \u001b[0mNotImplementedError\u001b[0m\u001b[0;34m(\u001b[0m\u001b[0;34m\"Student exercise: You need to plot histogram\"\u001b[0m\u001b[0;34m)\u001b[0m\u001b[0;34m\u001b[0m\u001b[0;34m\u001b[0m\u001b[0m\n\u001b[0m\u001b[1;32m      5\u001b[0m \u001b[0;31m#################################################\u001b[0m\u001b[0;34m\u001b[0m\u001b[0;34m\u001b[0m\u001b[0;34m\u001b[0m\u001b[0m\n\u001b[1;32m      6\u001b[0m \u001b[0;34m\u001b[0m\u001b[0m\n",
            "\u001b[0;31mNotImplementedError\u001b[0m: Student exercise: You need to plot histogram"
          ]
        }
      ]
    },
    {
      "cell_type": "code",
      "metadata": {
        "id": "jGsVpaIC1_zc"
      },
      "source": [
        "# to_remove solution\n",
        "\n",
        "# Set random number generator\n",
        "np.random.seed(2020)\n",
        "\n",
        "# Initialize t_range, step_end, n, v_n, i and nbins\n",
        "t_range = np.arange(0, t_max, dt)\n",
        "step_end = len(t_range)\n",
        "n = 10000\n",
        "v_n = el * np.ones([n, step_end])\n",
        "i = i_mean * (1 + 0.1 * (t_max / dt)**(0.5) * (2 * np.random.random([n, step_end]) - 1))\n",
        "nbins = 32\n",
        "\n",
        "# Loop over time steps\n",
        "for step, t in enumerate(t_range):\n",
        "\n",
        "  # Skip first iteration\n",
        "  if step==0:\n",
        "    continue\n",
        "  \n",
        "  # Compute v_n\n",
        "  v_n[:, step] =  v_n[:, step - 1] + (dt / tau) * (el - v_n[:, step - 1] + r * i[:, step])\n",
        "\n",
        "# Initialize the figure\n",
        "with plt.xkcd():\n",
        "  plt.figure()\n",
        "  plt.ylabel('Frequency')\n",
        "  plt.xlabel('$V_m$ (V)')\n",
        "\n",
        "  # Plot a histogram at t_max/10 (add labels and parameters histtype='stepfilled' and linewidth=0)\n",
        "  plt.hist(v_n[:,int(step_end / 10)], nbins,\n",
        "            histtype='stepfilled', linewidth=0,\n",
        "            label = 't='+ str(t_max / 10) + 's')\n",
        "\n",
        "  # Plot a histogram at t_max (add labels and parameters histtype='stepfilled' and linewidth=0)\n",
        "  plt.hist(v_n[:, -1], nbins,\n",
        "            histtype='stepfilled', linewidth=0,\n",
        "            label = 't='+ str(t_max) + 's')\n",
        "  # Add legend\n",
        "  plt.legend()\n",
        "  plt.show()"
      ],
      "execution_count": null,
      "outputs": []
    },
    {
      "cell_type": "markdown",
      "metadata": {
        "id": "ZjORCZE5tcsV"
      },
      "source": [
        "---\n",
        "# Section 2: Dictionaries & introducing spikes\n"
      ]
    },
    {
      "cell_type": "code",
      "metadata": {
        "id": "5c5_GfU22bRB"
      },
      "source": [
        "# @title Video 3: Dictionaries & introducing spikes\n",
        "from ipywidgets import widgets\n",
        "\n",
        "out2 = widgets.Output()\n",
        "with out2:\n",
        "  from IPython.display import IFrame\n",
        "  class BiliVideo(IFrame):\n",
        "      def __init__(self, id, page=1, width=400, height=300, **kwargs):\n",
        "          self.id=id\n",
        "          src = 'https://player.bilibili.com/player.html?bvid={0}&page={1}'.format(id, page)\n",
        "          super(BiliVideo, self).__init__(src, width, height, **kwargs)\n",
        "\n",
        "  video = BiliVideo(id=\"BV1H54y1q7oS\", width=854, height=480, fs=1)\n",
        "  print('Video available at https://www.bilibili.com/video/{0}'.format(video.id))\n",
        "  display(video)\n",
        "\n",
        "out1 = widgets.Output()\n",
        "with out1:\n",
        "  from IPython.display import YouTubeVideo\n",
        "  video = YouTubeVideo(id=\"ioKkiukDkNg\", width=854, height=480, fs=1, rel=0)\n",
        "  print('Video available at https://youtube.com/watch?v=' + video.id)\n",
        "  display(video)\n",
        "\n",
        "out = widgets.Tab([out1, out2])\n",
        "out.set_title(0, 'Youtube')\n",
        "out.set_title(1, 'Bilibili')\n",
        "\n",
        "display(out)"
      ],
      "execution_count": null,
      "outputs": []
    },
    {
      "cell_type": "markdown",
      "metadata": {
        "id": "KKiI4xNs2j1t"
      },
      "source": [
        "A spike takes place whenever $V(t)$ crosses $V_{th}$. In that case, a spike is recorded and $V(t)$ resets to $V_{reset}$ value. This is summarized in the *reset condition*:\n",
        "$$V(t) = V_{reset}\\quad \\text{ if } V(t)\\geq V_{th}$$\n",
        "\n",
        "For more information about spikes or action potentials see [here](https://en.wikipedia.org/wiki/Action_potential) and [here](https://www.khanacademy.org/test-prep/mcat/organ-systems/neuron-membrane-potentials/a/neuron-action-potentials-the-creation-of-a-brain-signal).\n",
        "\n",
        "\n",
        "![spikes cartoon](https://github.com/mpbrigham/colaboratory-figures/raw/master/nma/python-for-nma/spikes_carton.png)"
      ]
    },
    {
      "cell_type": "code",
      "metadata": {
        "execution": {
          "iopub.execute_input": "2021-06-25T15:05:29.785581Z",
          "iopub.status.busy": "2021-06-25T15:05:29.781349Z",
          "iopub.status.idle": "2021-06-25T15:05:29.855951Z",
          "shell.execute_reply": "2021-06-25T15:05:29.855373Z"
        },
        "id": "Pm2z-H9WtcsV",
        "cellView": "form"
      },
      "source": [
        "# @title Video 4: Nano recap of dictionaries\n",
        "from ipywidgets import widgets\n",
        "\n",
        "out2 = widgets.Output()\n",
        "with out2:\n",
        "  from IPython.display import IFrame\n",
        "  class BiliVideo(IFrame):\n",
        "      def __init__(self, id, page=1, width=400, height=300, **kwargs):\n",
        "          self.id=id\n",
        "          src = 'https://player.bilibili.com/player.html?bvid={0}&page={1}'.format(id, page)\n",
        "          super(BiliVideo, self).__init__(src, width, height, **kwargs)\n",
        "\n",
        "  video = BiliVideo(id=\"BV1GC4y1h7hi\", width=854, height=480, fs=1)\n",
        "  print('Video available at https://www.bilibili.com/video/{0}'.format(video.id))\n",
        "  display(video)\n",
        "\n",
        "out1 = widgets.Output()\n",
        "with out1:\n",
        "  from IPython.display import YouTubeVideo\n",
        "  video = YouTubeVideo(id=\"nvpHtzuZggg\", width=854, height=480, fs=1, rel=0)\n",
        "  print('Video available at https://youtube.com/watch?v=' + video.id)\n",
        "  display(video)\n",
        "\n",
        "out = widgets.Tab([out1, out2])\n",
        "out.set_title(0, 'Youtube')\n",
        "out.set_title(1, 'Bilibili')\n",
        "\n",
        "display(out)"
      ],
      "execution_count": null,
      "outputs": []
    },
    {
      "cell_type": "markdown",
      "metadata": {
        "id": "IoVMG6MrtcsV"
      },
      "source": [
        "## Coding Exercise 2: Adding spiking to the LIF neuron\n",
        "\n",
        "Insert the reset condition, and collect the spike times of each realization in a dictionary variable `spikes`, with $N=500$.\n",
        "\n",
        "We've used `plt.plot` for plotting lines and also for plotting dots at `(x,y)` coordinates, which is a [scatter plot](https://en.wikipedia.org/wiki/Scatter_plot). From here on, we'll use use `plt.plot` for plotting lines and for scatter plots: `plt.scatter`.\n",
        "```\n",
        "plt.scatter(x, y, color=\"k\", marker=\".\")\n",
        "```\n",
        "\n",
        "A *raster plot* represents spikes from multiple neurons by plotting dots at spike times from neuron `j` at plot height `j`, i.e. \n",
        "```\n",
        "plt.scatter(spike_times, j*np.ones_like(spike_times))\n",
        "```\n",
        "\n",
        "![spikes plot](https://github.com/mpbrigham/colaboratory-figures/raw/master/nma/python-for-nma/spikes_plot.png)\n",
        "\n",
        "In this exercise, we use `plt.subplot` for multiple plots in the same figure. These plots can share the same `x` or `y` axis by specifying the parameter `sharex` or `sharey`. Add `plt.tight_layout()` at the end to automatically adjust subplot parameters to fit the figure area better. Please see the example below for a row of two plots sharing axis `y`.\n",
        "```\n",
        "# initialize the figure\n",
        "plt.figure()\n",
        "\n",
        "# collect axis of 1st figure in ax1\n",
        "ax1 = plt.subplot(1, 2, 1)\n",
        "plt.plot(t_range, my_data_left)\n",
        "plt.ylabel('ylabel')\n",
        "\n",
        "# share axis x with 1st figure\n",
        "plt.subplot(1, 2, 2, sharey=ax1)\n",
        "plt.plot(t_range, my_data_right)\n",
        "\n",
        "# automatically adjust subplot parameters to figure\n",
        "plt.tight_layout()\n",
        "```\n"
      ]
    },
    {
      "cell_type": "code",
      "metadata": {
        "execution": {
          "iopub.execute_input": "2021-06-25T15:05:29.873592Z",
          "iopub.status.busy": "2021-06-25T15:05:29.873113Z",
          "iopub.status.idle": "2021-06-25T15:05:29.951431Z",
          "shell.execute_reply": "2021-06-25T15:05:29.950875Z"
        },
        "id": "jkuYGjmptcsW"
      },
      "source": [
        "# Set random number generator\n",
        "np.random.seed(2020)\n",
        "\n",
        "# Initialize step_end, t_range, n, v_n and i\n",
        "t_range = np.arange(0, t_max, dt)\n",
        "step_end = len(t_range)\n",
        "n = 500\n",
        "v_n = el * np.ones([n, step_end])\n",
        "i = i_mean * (1 + 0.1 * (t_max / dt)**(0.5) * (2 * np.random.random([n, step_end]) - 1))\n",
        "\n",
        "# Initialize spikes and spikes_n\n",
        "spikes = {j: [] for j in range(n)}\n",
        "spikes_n = np.zeros([step_end])\n",
        "\n",
        "#################################################\n",
        "## TODO for students: add spikes to LIF neuron ##\n",
        "# Fill out function and remove\n",
        "raise NotImplementedError(\"Student exercise: add spikes to LIF neuron\")\n",
        "#################################################\n",
        "\n",
        "# Loop over time steps\n",
        "for step, t in enumerate(t_range):\n",
        "\n",
        "  # Skip first iteration\n",
        "  if step==0:\n",
        "    continue\n",
        "\n",
        "  # Compute v_n\n",
        "  v_n[:, step] = v_n[:, step - 1] + (dt / tau) * (el - v_n[:, step - 1] + r*i[:, step])\n",
        "\n",
        "  # Loop over simulations\n",
        "  for j in range(n):\n",
        "\n",
        "    # Check if voltage above threshold\n",
        "    if v_n[j, step] >= vth:\n",
        "\n",
        "      # Reset to reset voltage\n",
        "      v_n[j, step] = ...\n",
        "\n",
        "      # Add this spike time\n",
        "      spikes[j] += ...\n",
        "\n",
        "      # Add spike count to this step\n",
        "      spikes_n[step] += ...\n",
        "\n",
        "# Collect mean Vm and mean spiking rate\n",
        "v_mean = np.mean(v_n, axis=0)\n",
        "spikes_mean =  spikes_n / n\n",
        "\n",
        "# Initialize the figure\n",
        "plt.figure()\n",
        "\n",
        "# Plot simulations and sample mean\n",
        "ax1 = plt.subplot(3, 1, 1)\n",
        "for j in range(n):\n",
        "  plt.scatter(t_range, v_n[j], color=\"k\", marker=\".\", alpha=0.01)\n",
        "plt.plot(t_range, v_mean, 'C1', alpha=0.8, linewidth=3)\n",
        "plt.ylabel('$V_m$ (V)')\n",
        "\n",
        "# Plot spikes\n",
        "plt.subplot(3, 1, 2, sharex=ax1)\n",
        "# for each neuron j: collect spike times and plot them at height j\n",
        "for j in range(n):\n",
        "  times = ...\n",
        "  plt.scatter(...)\n",
        "\n",
        "plt.ylabel('neuron')\n",
        "\n",
        "# Plot firing rate\n",
        "plt.subplot(3, 1, 3, sharex=ax1)\n",
        "plt.plot(t_range, spikes_mean)\n",
        "plt.xlabel('time (s)')\n",
        "plt.ylabel('rate (Hz)')\n",
        "\n",
        "plt.tight_layout()"
      ],
      "execution_count": null,
      "outputs": []
    },
    {
      "cell_type": "code",
      "metadata": {
        "id": "Kxk_LR664ECs"
      },
      "source": [
        "# to_remove solution\n",
        "\n",
        "# Set random number generator\n",
        "np.random.seed(2020)\n",
        "\n",
        "# Initialize step_end, t_range, n, v_n and i\n",
        "t_range = np.arange(0, t_max, dt)\n",
        "step_end = len(t_range)\n",
        "n = 500\n",
        "v_n = el * np.ones([n, step_end])\n",
        "i = i_mean * (1 + 0.1 * (t_max / dt)**(0.5) * (2 * np.random.random([n, step_end]) - 1))\n",
        "\n",
        "# Initialize spikes and spikes_n\n",
        "spikes = {j: [] for j in range(n)}\n",
        "spikes_n = np.zeros([step_end])\n",
        "\n",
        "# Loop over time steps\n",
        "for step, t in enumerate(t_range):\n",
        "\n",
        "  # Skip first iteration\n",
        "  if step==0:\n",
        "    continue\n",
        "\n",
        "  # Compute v_n\n",
        "  v_n[:, step] = v_n[:, step - 1] + (dt / tau) * (el - v_n[:, step - 1] + r*i[:, step])\n",
        "\n",
        "  # Loop over simulations\n",
        "  for j in range(n):\n",
        "\n",
        "    # Check if voltage above threshold\n",
        "    if v_n[j, step] >= vth:\n",
        "\n",
        "      # Reset to reset voltage\n",
        "      v_n[j, step] = vr\n",
        "\n",
        "      # Add this spike time\n",
        "      spikes[j] += [t]\n",
        "\n",
        "      # Add spike count to this step\n",
        "      spikes_n[step] += 1\n",
        "\n",
        "# Collect mean Vm and mean spiking rate\n",
        "v_mean = np.mean(v_n, axis=0)\n",
        "spikes_mean =  spikes_n / n\n",
        "\n",
        "with plt.xkcd():\n",
        "  # Initialize the figure\n",
        "  plt.figure()\n",
        "\n",
        "  # Plot simulations and sample mean\n",
        "  ax1 = plt.subplot(3, 1, 1)\n",
        "  for j in range(n):\n",
        "    plt.scatter(t_range, v_n[j], color=\"k\", marker=\".\", alpha=0.01)\n",
        "  plt.plot(t_range, v_mean, 'C1', alpha=0.8, linewidth=3)\n",
        "  plt.ylabel('$V_m$ (V)')\n",
        "\n",
        "  # Plot spikes\n",
        "  plt.subplot(3, 1, 2, sharex=ax1)\n",
        "  # for each neuron j: collect spike times and plot them at height j\n",
        "  for j in range(n):\n",
        "    times = np.array(spikes[j])\n",
        "    plt.scatter(times, j * np.ones_like(times), color=\"C0\", marker=\".\", alpha=0.2)\n",
        "\n",
        "  plt.ylabel('neuron')\n",
        "\n",
        "  # Plot firing rate\n",
        "  plt.subplot(3, 1, 3, sharex=ax1)\n",
        "  plt.plot(t_range, spikes_mean)\n",
        "  plt.xlabel('time (s)')\n",
        "  plt.ylabel('rate (Hz)')\n",
        "\n",
        "  plt.tight_layout()"
      ],
      "execution_count": null,
      "outputs": []
    },
    {
      "cell_type": "markdown",
      "metadata": {
        "id": "xooGm7tptcsW"
      },
      "source": [
        "---\n",
        "# Section 3: Boolean indexes\n"
      ]
    },
    {
      "cell_type": "code",
      "metadata": {
        "id": "F9L6a0zX4lkQ"
      },
      "source": [
        "# @title Video 5: Boolean indexes\n",
        "from ipywidgets import widgets\n",
        "\n",
        "out2 = widgets.Output()\n",
        "with out2:\n",
        "  from IPython.display import IFrame\n",
        "  class BiliVideo(IFrame):\n",
        "      def __init__(self, id, page=1, width=400, height=300, **kwargs):\n",
        "          self.id=id\n",
        "          src = 'https://player.bilibili.com/player.html?bvid={0}&page={1}'.format(id, page)\n",
        "          super(BiliVideo, self).__init__(src, width, height, **kwargs)\n",
        "\n",
        "  video = BiliVideo(id=\"BV1W54y1q7eh\", width=854, height=480, fs=1)\n",
        "  print('Video available at https://www.bilibili.com/video/{0}'.format(video.id))\n",
        "  display(video)\n",
        "\n",
        "out1 = widgets.Output()\n",
        "with out1:\n",
        "  from IPython.display import YouTubeVideo\n",
        "  video = YouTubeVideo(id=\"G0C1v848I9Y\", width=854, height=480, fs=1, rel=0)\n",
        "  print('Video available at https://youtube.com/watch?v=' + video.id)\n",
        "  display(video)\n",
        "\n",
        "out = widgets.Tab([out1, out2])\n",
        "out.set_title(0, 'Youtube')\n",
        "out.set_title(1, 'Bilibili')\n",
        "\n",
        "display(out)"
      ],
      "execution_count": null,
      "outputs": []
    },
    {
      "cell_type": "markdown",
      "metadata": {
        "id": "TW9qM5ji4sxA"
      },
      "source": [
        "Numpy arrays can be indexed by boolean arrays to select a subset of elements (also works with lists of booleans).\n",
        "\n",
        "The boolean array itself can be initiated by a condition, as shown in the example below.\n",
        "```\n",
        "a = np.array([1, 2, 3])\n",
        "b = a>=2\n",
        "print(b)\n",
        "--> [False  True  True]\n",
        "\n",
        "print(a[b])\n",
        "--> [2 3]\n",
        "\n",
        "print(a[a>=2])\n",
        "--> [2 3]\n",
        "```"
      ]
    },
    {
      "cell_type": "code",
      "metadata": {
        "execution": {
          "iopub.execute_input": "2021-06-25T15:05:39.844429Z",
          "iopub.status.busy": "2021-06-25T15:05:39.840948Z",
          "iopub.status.idle": "2021-06-25T15:05:39.914160Z",
          "shell.execute_reply": "2021-06-25T15:05:39.910516Z"
        },
        "id": "sG7o4x9HtcsX"
      },
      "source": [
        "# @title Video 6: Nano recap of Boolean indexes\n",
        "from ipywidgets import widgets\n",
        "\n",
        "out2 = widgets.Output()\n",
        "with out2:\n",
        "  from IPython.display import IFrame\n",
        "  class BiliVideo(IFrame):\n",
        "      def __init__(self, id, page=1, width=400, height=300, **kwargs):\n",
        "          self.id=id\n",
        "          src = 'https://player.bilibili.com/player.html?bvid={0}&page={1}'.format(id, page)\n",
        "          super(BiliVideo, self).__init__(src, width, height, **kwargs)\n",
        "\n",
        "  video = BiliVideo(id=\"BV1W54y1q7gi\", width=854, height=480, fs=1)\n",
        "  print('Video available at https://www.bilibili.com/video/{0}'.format(video.id))\n",
        "  display(video)\n",
        "\n",
        "out1 = widgets.Output()\n",
        "with out1:\n",
        "  from IPython.display import YouTubeVideo\n",
        "  video = YouTubeVideo(id=\"dFPgO5wnyLc\", width=854, height=480, fs=1, rel=0)\n",
        "  print('Video available at https://youtube.com/watch?v=' + video.id)\n",
        "  display(video)\n",
        "\n",
        "out = widgets.Tab([out1, out2])\n",
        "out.set_title(0, 'Youtube')\n",
        "out.set_title(1, 'Bilibili')\n",
        "\n",
        "display(out)"
      ],
      "execution_count": null,
      "outputs": []
    },
    {
      "cell_type": "markdown",
      "metadata": {
        "id": "797m37IatcsX"
      },
      "source": [
        "## Coding Exercise 3: Using Boolean indexing\n",
        "\n",
        "We can avoid looping all neurons in each time step by identifying with boolean arrays the indexes of neurons that spiked in the previous step.\n",
        "\n",
        "In the example below, `v_rest` is a boolean numpy array with `True` in each index of `v_n` with value `vr` at time index `step`:\n",
        "\n",
        "    v_rest = (v_n[:,step] == vr)\n",
        "    print(v_n[v_rest,step])\n",
        "    \n",
        "    --> [vr, ..., vr]\n",
        "\n",
        "The function `np.where` returns indexes of boolean arrays with `True` values.\n",
        "\n",
        "You may use the helper function `plot_all` that implements the figure from the previous exercise.\n",
        "\n"
      ]
    },
    {
      "cell_type": "code",
      "metadata": {
        "execution": {
          "iopub.execute_input": "2021-06-25T15:05:39.924032Z",
          "iopub.status.busy": "2021-06-25T15:05:39.923219Z",
          "iopub.status.idle": "2021-06-25T15:05:39.925870Z",
          "shell.execute_reply": "2021-06-25T15:05:39.924557Z"
        },
        "id": "eh77fI57tcsX"
      },
      "source": [
        "help(plot_all)"
      ],
      "execution_count": null,
      "outputs": []
    },
    {
      "cell_type": "code",
      "metadata": {
        "execution": {
          "iopub.execute_input": "2021-06-25T15:05:39.933717Z",
          "iopub.status.busy": "2021-06-25T15:05:39.933186Z",
          "iopub.status.idle": "2021-06-25T15:05:39.941678Z",
          "shell.execute_reply": "2021-06-25T15:05:39.941082Z"
        },
        "id": "hOpztv1PtcsX"
      },
      "source": [
        "# Set random number generator\n",
        "np.random.seed(2020)\n",
        "\n",
        "# Initialize step_end, t_range, n, v_n and i\n",
        "t_range = np.arange(0, t_max, dt)\n",
        "step_end = len(t_range)\n",
        "n = 500\n",
        "v_n = el * np.ones([n, step_end])\n",
        "i = i_mean * (1 + 0.1 * (t_max / dt)**(0.5) * (2 * np.random.random([n, step_end]) - 1))\n",
        "\n",
        "# Initialize spikes and spikes_n\n",
        "spikes = {j: [] for j in range(n)}\n",
        "spikes_n = np.zeros([step_end])\n",
        "\n",
        "#################################################\n",
        "## TODO for students: use Boolean indexing ##\n",
        "# Fill out function and remove\n",
        "raise NotImplementedError(\"Student exercise: using Boolean indexing\")\n",
        "#################################################\n",
        "\n",
        "# Loop over time steps\n",
        "for step, t in enumerate(t_range):\n",
        "\n",
        "  # Skip first iteration\n",
        "  if step==0:\n",
        "    continue\n",
        "\n",
        "  # Compute v_n\n",
        "  v_n[:, step] = v_n[:, step - 1] + (dt / tau) * (el - v_n[:, step - 1] + r*i[:, step])\n",
        "\n",
        "  # Initialize boolean numpy array `spiked` with v_n > v_thr\n",
        "  spiked = ...\n",
        "\n",
        "  # Set relevant values of v_n to v_reset using spiked\n",
        "  v_n[spiked,step] = ...\n",
        "\n",
        "  # Collect spike times\n",
        "  for j in np.where(spiked)[0]:\n",
        "    spikes[j] += [t]\n",
        "    spikes_n[step] += 1\n",
        "\n",
        "# Collect mean spiking rate\n",
        "spikes_mean = spikes_n / n\n",
        "\n",
        "# Plot multiple realizations of Vm, spikes and mean spike rate\n",
        "plot_all(t_range, v_n, spikes=spikes, spikes_mean=spikes_mean)"
      ],
      "execution_count": null,
      "outputs": []
    },
    {
      "cell_type": "code",
      "metadata": {
        "id": "Xwjl1BHJ52Xq"
      },
      "source": [
        "# to_remove solutions\n",
        "\n",
        "# Set random number generator\n",
        "np.random.seed(2020)\n",
        "\n",
        "# Initialize step_end, t_range, n, v_n and i\n",
        "t_range = np.arange(0, t_max, dt)\n",
        "step_end = len(t_range)\n",
        "n = 500\n",
        "v_n = el * np.ones([n, step_end])\n",
        "i = i_mean * (1 + 0.1 * (t_max / dt)**(0.5) * (2 * np.random.random([n, step_end]) - 1))\n",
        "\n",
        "# Initialize spikes and spikes_n\n",
        "spikes = {j: [] for j in range(n)}\n",
        "spikes_n = np.zeros([step_end])\n",
        "\n",
        "# Loop over time steps\n",
        "for step, t in enumerate(t_range):\n",
        "\n",
        "  # Skip first iteration\n",
        "  if step==0:\n",
        "    continue\n",
        "\n",
        "  # Compute v_n\n",
        "  v_n[:, step] = v_n[:, step - 1] + (dt / tau) * (el - v_n[:, step - 1] + r*i[:, step])\n",
        "\n",
        "  # Initialize boolean numpy array `spiked` with v_n > v_thr\n",
        "  spiked = (v_n[:,step] >= vth)\n",
        "\n",
        "  # Set relevant values of v_n to resting potential using spiked\n",
        "  v_n[spiked,step] = vr\n",
        "\n",
        "  # Collect spike times\n",
        "  for j in np.where(spiked)[0]:\n",
        "    spikes[j] += [t]\n",
        "    spikes_n[step] += 1\n",
        "\n",
        "# Collect mean spiking rate\n",
        "spikes_mean = spikes_n / n\n",
        "\n",
        "# Plot multiple realizations of Vm, spikes and mean spike rate\n",
        "with plt.xkcd():\n",
        "  plot_all(t_range, v_n, spikes=spikes, spikes_mean=spikes_mean)"
      ],
      "execution_count": null,
      "outputs": []
    },
    {
      "cell_type": "markdown",
      "metadata": {
        "id": "8YjaI5MUtcsY"
      },
      "source": [
        "## Coding Exercise 4: Making a binary raster plot\n",
        "A *binary raster plot* represents spike times as `1`s in a binary grid initialized with `0`s. We start with a numpy array `raster` of zeros with shape `(neurons, time steps)`, and represent a spike from neuron `5` at time step `20` as `raster(5,20)=1`, for example.\n",
        "\n",
        "The *binary raster plot* is much more efficient than the previous method by plotting the numpy array `raster` as an image:\n",
        "```\n",
        "plt.imshow(raster, cmap='Greys', origin='lower', aspect='auto')\n",
        "```\n",
        "\n",
        "**Suggestions**\n",
        "* At each time step:\n",
        "  * Initialize boolean numpy array `spiked` with $V_n(t)\\geq V_{th}$\n",
        "  * Set to `vr` indexes of `v_n` using `spiked`\n",
        "  * Set to `1` indexes of numpy array `raster` using `spiked`"
      ]
    },
    {
      "cell_type": "code",
      "metadata": {
        "execution": {
          "iopub.execute_input": "2021-06-25T15:05:50.019210Z",
          "iopub.status.busy": "2021-06-25T15:05:50.018641Z",
          "iopub.status.idle": "2021-06-25T15:05:55.024559Z",
          "shell.execute_reply": "2021-06-25T15:05:55.025023Z"
        },
        "id": "h_I3bQ8stcsY"
      },
      "source": [
        "#################################################\n",
        "## TODO for students: make a raster ##\n",
        "# Fill out function and remove\n",
        "raise NotImplementedError(\"Student exercise: make a raster \")\n",
        "#################################################\n",
        "\n",
        "# Set random number generator\n",
        "np.random.seed(2020)\n",
        "\n",
        "# Initialize step_end, t_range, n, v_n and i\n",
        "t_range = np.arange(0, t_max, dt)\n",
        "step_end = len(t_range)\n",
        "n = 500\n",
        "v_n = el * np.ones([n, step_end])\n",
        "i = i_mean * (1 + 0.1 * (t_max / dt)**(0.5) * (2 * np.random.random([n, step_end]) - 1))\n",
        "\n",
        "# Initialize binary numpy array for raster plot\n",
        "raster = np.zeros([n,step_end])\n",
        "\n",
        "# Loop over time steps\n",
        "for step, t in enumerate(t_range):\n",
        "\n",
        "  # Skip first iteration\n",
        "  if step==0:\n",
        "    continue\n",
        "\n",
        "  # Compute v_n\n",
        "  v_n[:, step] = v_n[:, step - 1] + (dt / tau) * (el - v_n[:, step - 1] + r*i[:, step])\n",
        "\n",
        "  # Initialize boolean numpy array `spiked` with v_n > v_thr\n",
        "  spiked = (v_n[:,step] >= vth)\n",
        "\n",
        "  # Set relevant values of v_n to v_reset using spiked\n",
        "  v_n[spiked,step] = fr\n",
        "\n",
        "  # Set relevant elements in raster to 1 using spiked\n",
        "  raster[spiked,step] = ...\n",
        "\n",
        "# Plot multiple realizations of Vm, spikes and mean spike rate\n",
        "plot_all(t_range, v_n, raster)"
      ],
      "execution_count": null,
      "outputs": []
    },
    {
      "cell_type": "code",
      "metadata": {
        "id": "91aoAAl666zn"
      },
      "source": [
        "# to_remove solution\n",
        "\n",
        "# Set random number generator\n",
        "np.random.seed(2020)\n",
        "\n",
        "# Initialize step_end, t_range, n, v_n and i\n",
        "t_range = np.arange(0, t_max, dt)\n",
        "step_end = len(t_range)\n",
        "n = 500\n",
        "v_n = el * np.ones([n, step_end])\n",
        "i = i_mean * (1 + 0.1 * (t_max / dt)**(0.5) * (2 * np.random.random([n, step_end]) - 1))\n",
        "\n",
        "# Initialize binary numpy array for raster plot\n",
        "raster = np.zeros([n,step_end])\n",
        "\n",
        "# Loop over time steps\n",
        "for step, t in enumerate(t_range):\n",
        "\n",
        "  # Skip first iteration\n",
        "  if step==0:\n",
        "    continue\n",
        "\n",
        "  # Compute v_n\n",
        "  v_n[:, step] = v_n[:, step - 1] + (dt / tau) * (el - v_n[:, step - 1] + r*i[:, step])\n",
        "\n",
        "  # Initialize boolean numpy array `spiked` with v_n > v_thr\n",
        "  spiked = (v_n[:,step] >= vth)\n",
        "\n",
        "  # Set relevant values of v_n to v_reset using spiked\n",
        "  v_n[spiked,step] = vr\n",
        "\n",
        "  # Set relevant elements in raster to 1 using spiked\n",
        "  raster[spiked,step] = 1.\n",
        "\n",
        "# Plot multiple realizations of Vm, spikes and mean spike rate\n",
        "with plt.xkcd():\n",
        "  plot_all(t_range, v_n, raster)"
      ],
      "execution_count": null,
      "outputs": []
    },
    {
      "cell_type": "markdown",
      "metadata": {
        "id": "4czvI81EtcsY"
      },
      "source": [
        "---\n",
        "# Section 4: Refractory period\n",
        "\n"
      ]
    },
    {
      "cell_type": "code",
      "metadata": {
        "id": "6Ntsq5P47hMH"
      },
      "source": [
        "# @title Video 7: Refractory period\n",
        "from ipywidgets import widgets\n",
        "\n",
        "out2 = widgets.Output()\n",
        "with out2:\n",
        "  from IPython.display import IFrame\n",
        "  class BiliVideo(IFrame):\n",
        "      def __init__(self, id, page=1, width=400, height=300, **kwargs):\n",
        "          self.id=id\n",
        "          src = 'https://player.bilibili.com/player.html?bvid={0}&page={1}'.format(id, page)\n",
        "          super(BiliVideo, self).__init__(src, width, height, **kwargs)\n",
        "\n",
        "  video = BiliVideo(id=\"BV1MT4y1E79j\", width=854, height=480, fs=1)\n",
        "  print('Video available at https://www.bilibili.com/video/{0}'.format(video.id))\n",
        "  display(video)\n",
        "\n",
        "out1 = widgets.Output()\n",
        "with out1:\n",
        "  from IPython.display import YouTubeVideo\n",
        "  video = YouTubeVideo(id=\"KVNdbRY5-nY\", width=854, height=480, fs=1, rel=0)\n",
        "  print('Video available at https://youtube.com/watch?v=' + video.id)\n",
        "  display(video)\n",
        "\n",
        "out = widgets.Tab([out1, out2])\n",
        "out.set_title(0, 'Youtube')\n",
        "out.set_title(1, 'Bilibili')\n",
        "\n",
        "display(out)"
      ],
      "execution_count": null,
      "outputs": []
    },
    {
      "cell_type": "markdown",
      "metadata": {
        "id": "LdyztO7o7nK1"
      },
      "source": [
        "The absolute refractory period is a time interval in the order of a few milliseconds during which synaptic input will not lead to a 2nd spike, no matter how strong. This effect is due to the biophysics of the neuron membrane channels, and you can read more about absolute and relative refractory period [here](https://content.byui.edu/file/a236934c-3c60-4fe9-90aa-d343b3e3a640/1/module5/readings/refractory_periods.html) and [here](https://en.wikipedia.org/wiki/Refractory_period_(physiology)).\n",
        "\n",
        "![refractory period plot](https://github.com/mpbrigham/colaboratory-figures/raw/master/nma/python-for-nma/refractory_period.png)"
      ]
    },
    {
      "cell_type": "code",
      "metadata": {
        "execution": {
          "iopub.execute_input": "2021-06-25T15:06:00.483518Z",
          "iopub.status.busy": "2021-06-25T15:06:00.481680Z",
          "iopub.status.idle": "2021-06-25T15:06:00.552013Z",
          "shell.execute_reply": "2021-06-25T15:06:00.551115Z"
        },
        "id": "w-ZuXhr9tcsY",
        "cellView": "form"
      },
      "source": [
        "# @title Video 8: Nano recap of refractory period\n",
        "from ipywidgets import widgets\n",
        "\n",
        "out2 = widgets.Output()\n",
        "with out2:\n",
        "  from IPython.display import IFrame\n",
        "  class BiliVideo(IFrame):\n",
        "      def __init__(self, id, page=1, width=400, height=300, **kwargs):\n",
        "          self.id=id\n",
        "          src = 'https://player.bilibili.com/player.html?bvid={0}&page={1}'.format(id, page)\n",
        "          super(BiliVideo, self).__init__(src, width, height, **kwargs)\n",
        "\n",
        "  video = BiliVideo(id=\"BV1pA411e7je\", width=854, height=480, fs=1)\n",
        "  print('Video available at https://www.bilibili.com/video/{0}'.format(video.id))\n",
        "  display(video)\n",
        "\n",
        "out1 = widgets.Output()\n",
        "with out1:\n",
        "  from IPython.display import YouTubeVideo\n",
        "  video = YouTubeVideo(id=\"DOoftC0JU2k\", width=854, height=480, fs=1, rel=0)\n",
        "  print('Video available at https://youtube.com/watch?v=' + video.id)\n",
        "  display(video)\n",
        "\n",
        "out = widgets.Tab([out1, out2])\n",
        "out.set_title(0, 'Youtube')\n",
        "out.set_title(1, 'Bilibili')\n",
        "\n",
        "display(out)"
      ],
      "execution_count": null,
      "outputs": []
    },
    {
      "cell_type": "markdown",
      "metadata": {
        "id": "nLtaBoc8tcsY"
      },
      "source": [
        "## Coding Exercise 5: Investigating refactory periods\n",
        "Investigate the effect of (absolute) refractory period $t_{ref}$ on the evolution of output rate $\\lambda(t)$. Add refractory period $t_{ref}=10$ ms after each spike, during which $V(t)$ is clamped to $V_{reset}$.\n",
        "\n",
        "\n"
      ]
    },
    {
      "cell_type": "code",
      "metadata": {
        "execution": {
          "iopub.execute_input": "2021-06-25T15:06:00.566338Z",
          "iopub.status.busy": "2021-06-25T15:06:00.565797Z",
          "iopub.status.idle": "2021-06-25T15:06:05.861659Z",
          "shell.execute_reply": "2021-06-25T15:06:05.862096Z"
        },
        "id": "N5Sm6477tcsY"
      },
      "source": [
        "#################################################\n",
        "## TODO for students: add refactory period ##\n",
        "# Fill out function and remove\n",
        "raise NotImplementedError(\"Student exercise: add refactory period \")\n",
        "#################################################\n",
        "\n",
        "# Set random number generator\n",
        "np.random.seed(2020)\n",
        "\n",
        "# Initialize step_end, t_range, n, v_n and i\n",
        "t_range = np.arange(0, t_max, dt)\n",
        "step_end = len(t_range)\n",
        "n = 500\n",
        "v_n = el * np.ones([n, step_end])\n",
        "i = i_mean * (1 + 0.1 * (t_max / dt)**(0.5) * (2 * np.random.random([n, step_end]) - 1))\n",
        "\n",
        "# Initialize binary numpy array for raster plot\n",
        "raster = np.zeros([n,step_end])\n",
        "\n",
        "# Initialize t_ref and last_spike\n",
        "t_ref = 0.01\n",
        "last_spike = -t_ref * np.ones([n])\n",
        "\n",
        "# Loop over time steps\n",
        "for step, t in enumerate(t_range):\n",
        "\n",
        "  # Skip first iteration\n",
        "  if step==0:\n",
        "    continue\n",
        "\n",
        "  # Compute v_n\n",
        "  v_n[:, step] = v_n[:, step - 1] + (dt / tau) * (el - v_n[:, step - 1] + r*i[:, step])\n",
        "\n",
        "  # Initialize boolean numpy array `spiked` with v_n > v_thr\n",
        "  spiked = (v_n[:,step] >= vth)\n",
        "\n",
        "  # Set relevant values of v_n to v_reset using spiked\n",
        "  v_n[spiked,step] = vr\n",
        "\n",
        "  # Set relevant elements in raster to 1 using spiked\n",
        "  raster[spiked,step] = 1.\n",
        "\n",
        "  # Initialize boolean numpy array clamped using last_spike, t and t_ref\n",
        "  clamped = ...\n",
        "\n",
        "  # Reset clamped neurons to vr using clamped\n",
        "  v_n[clamped,step] = ...\n",
        "\n",
        "  # Update numpy array last_spike with time t for spiking neurons\n",
        "  last_spike[spiked] = ...\n",
        "\n",
        "# Plot multiple realizations of Vm, spikes and mean spike rate\n",
        "plot_all(t_range, v_n, raster)"
      ],
      "execution_count": null,
      "outputs": []
    },
    {
      "cell_type": "code",
      "metadata": {
        "id": "doSXhVm79ra2"
      },
      "source": [
        "# to_remove solution\n",
        "\n",
        "# Set random number generator\n",
        "np.random.seed(2020)\n",
        "\n",
        "# Initialize step_end, t_range, n, v_n and i\n",
        "t_range = np.arange(0, t_max, dt)\n",
        "step_end = len(t_range)\n",
        "n = 500\n",
        "v_n = el * np.ones([n, step_end])\n",
        "i = i_mean * (1 + 0.1 * (t_max / dt)**(0.5) * (2 * np.random.random([n, step_end]) - 1))\n",
        "\n",
        "# Initialize binary numpy array for raster plot\n",
        "raster = np.zeros([n,step_end])\n",
        "\n",
        "# Initialize t_ref and last_spike\n",
        "t_ref = 0.01\n",
        "last_spike = -t_ref * np.ones([n])\n",
        "\n",
        "# Loop over time steps\n",
        "for step, t in enumerate(t_range):\n",
        "\n",
        "  # Skip first iteration\n",
        "  if step==0:\n",
        "    continue\n",
        "\n",
        "  # Compute v_n\n",
        "  v_n[:, step] = v_n[:, step - 1] + (dt / tau) * (el - v_n[:, step - 1] + r*i[:, step])\n",
        "\n",
        "  # Initialize boolean numpy array `spiked` with v_n > v_thr\n",
        "  spiked = (v_n[:,step] >= vth)\n",
        "\n",
        "  # Set relevant values of v_n to v_reset using spiked\n",
        "  v_n[spiked,step] = vr\n",
        "\n",
        "  # Set relevant elements in raster to 1 using spiked\n",
        "  raster[spiked,step] = 1.\n",
        "\n",
        "  # Initialize boolean numpy array clamped using last_spike, t and t_ref\n",
        "  clamped = (last_spike + t_ref > t)\n",
        "\n",
        "  # Reset clamped neurons to vr using clamped\n",
        "  v_n[clamped,step] = vr\n",
        "\n",
        "  # Update numpy array last_spike with time t for spiking neurons\n",
        "  last_spike[spiked] = t\n",
        "\n",
        "# Plot multiple realizations of Vm, spikes and mean spike rate\n",
        "with plt.xkcd():\n",
        "  plot_all(t_range, v_n, raster)"
      ],
      "execution_count": null,
      "outputs": []
    },
    {
      "cell_type": "markdown",
      "metadata": {
        "id": "opDpfpt-tcsZ"
      },
      "source": [
        "## Interactive Demo 1: Random refractory period\n",
        "In the following interactive demo, we will investigate the effect of random refractory periods. We will use random refactory periods $t_{ref}$ with \n",
        "$t_{ref} = \\mu + \\sigma\\,\\mathcal{N}$, where $\\mathcal{N}$ is the [normal distribution](https://en.wikipedia.org/wiki/Normal_distribution), $\\mu=0.01$ and $\\sigma=0.007$.\n",
        "\n",
        "Refractory period samples `t_ref` of size `n` is initialized with `np.random.normal`. We clip negative values to `0` with boolean indexes. (Why?) You can double click the cell to see the hidden code.\n",
        "\n",
        "You can play with the parameters mu and sigma and visualize the resulting simulation. \n",
        "What is the effect of different $\\sigma$ values?\n"
      ]
    },
    {
      "cell_type": "code",
      "metadata": {
        "execution": {
          "iopub.execute_input": "2021-06-25T15:06:11.236501Z",
          "iopub.status.busy": "2021-06-25T15:06:11.227976Z",
          "iopub.status.idle": "2021-06-25T15:06:16.599669Z",
          "shell.execute_reply": "2021-06-25T15:06:16.599215Z"
        },
        "id": "yTwwO7jFtcsZ",
        "cellView": "form"
      },
      "source": [
        "# @markdown Execute this cell to enable the demo\n",
        "\n",
        "def random_ref_period(mu, sigma):\n",
        "  # set random number generator\n",
        "  np.random.seed(2020)\n",
        "\n",
        "  # initialize step_end, t_range, n, v_n, syn and raster\n",
        "  t_range = np.arange(0, t_max, dt)\n",
        "  step_end = len(t_range)\n",
        "  n = 500\n",
        "  v_n = el * np.ones([n,step_end])\n",
        "  syn = i_mean * (1 + 0.1*(t_max/dt)**(0.5)*(2*np.random.random([n,step_end])-1))\n",
        "  raster = np.zeros([n,step_end])\n",
        "\n",
        "  # initialize t_ref and last_spike\n",
        "  t_ref = mu + sigma*np.random.normal(size=n)\n",
        "  t_ref[t_ref<0] = 0\n",
        "  last_spike = -t_ref * np.ones([n])\n",
        "\n",
        "  # loop time steps\n",
        "  for step, t in enumerate(t_range):\n",
        "    if step==0:\n",
        "      continue\n",
        "\n",
        "    v_n[:,step] = v_n[:,step-1] + dt/tau * (el - v_n[:,step-1] + r*syn[:,step])\n",
        "\n",
        "    # boolean array spiked indexes neurons with v>=vth\n",
        "    spiked = (v_n[:,step] >= vth)\n",
        "    v_n[spiked,step] = vr\n",
        "    raster[spiked,step] = 1.\n",
        "\n",
        "    # boolean array clamped indexes refractory neurons\n",
        "    clamped = (last_spike + t_ref > t)\n",
        "    v_n[clamped,step] = vr\n",
        "    last_spike[spiked] = t\n",
        "\n",
        "  # plot multiple realizations of Vm, spikes and mean spike rate\n",
        "  plot_all(t_range, v_n, raster)\n",
        "\n",
        "  # plot histogram of t_ref\n",
        "  plt.figure(figsize=(8,4))\n",
        "  plt.hist(t_ref, bins=32, histtype='stepfilled', linewidth=0, color='C1')\n",
        "  plt.xlabel(r'$t_{ref}$ (s)')\n",
        "  plt.ylabel('count')\n",
        "  plt.tight_layout()\n",
        "\n",
        "_ = widgets.interact(random_ref_period, mu = (0.01, 0.05, 0.01), \\\n",
        "                              sigma = (0.001, 0.02, 0.001))"
      ],
      "execution_count": null,
      "outputs": []
    },
    {
      "cell_type": "markdown",
      "metadata": {
        "id": "qdBYXEDntcsZ"
      },
      "source": [
        "---\n",
        "# Section 5: Using functions\n",
        "Running key parts of your code inside functions improves your coding narrative by making it clearer and more flexible to future changes."
      ]
    },
    {
      "cell_type": "code",
      "metadata": {
        "id": "kZs2P2DV-p2D"
      },
      "source": [
        "# @title Video 9: Functions\n",
        "from ipywidgets import widgets\n",
        "\n",
        "out2 = widgets.Output()\n",
        "with out2:\n",
        "  from IPython.display import IFrame\n",
        "  class BiliVideo(IFrame):\n",
        "      def __init__(self, id, page=1, width=400, height=300, **kwargs):\n",
        "          self.id=id\n",
        "          src = 'https://player.bilibili.com/player.html?bvid={0}&page={1}'.format(id, page)\n",
        "          super(BiliVideo, self).__init__(src, width, height, **kwargs)\n",
        "\n",
        "  video = BiliVideo(id=\"BV1sa4y1a7pq\", width=854, height=480, fs=1)\n",
        "  print('Video available at https://www.bilibili.com/video/{0}'.format(video.id))\n",
        "  display(video)\n",
        "\n",
        "out1 = widgets.Output()\n",
        "with out1:\n",
        "  from IPython.display import YouTubeVideo\n",
        "  video = YouTubeVideo(id=\"mkf8riqCjS4\", width=854, height=480, fs=1, rel=0)\n",
        "  print('Video available at https://youtube.com/watch?v=' + video.id)\n",
        "  display(video)\n",
        "\n",
        "out = widgets.Tab([out1, out2])\n",
        "out.set_title(0, 'Youtube')\n",
        "out.set_title(1, 'Bilibili')\n",
        "\n",
        "display(out)"
      ],
      "execution_count": null,
      "outputs": []
    },
    {
      "cell_type": "code",
      "metadata": {
        "execution": {
          "iopub.execute_input": "2021-06-25T15:06:16.628224Z",
          "iopub.status.busy": "2021-06-25T15:06:16.626725Z",
          "iopub.status.idle": "2021-06-25T15:06:16.692360Z",
          "shell.execute_reply": "2021-06-25T15:06:16.692807Z"
        },
        "id": "EASOuwlgtcsZ",
        "cellView": "form"
      },
      "source": [
        "# @title Video 10: Nano recap of functions\n",
        "from ipywidgets import widgets\n",
        "\n",
        "out2 = widgets.Output()\n",
        "with out2:\n",
        "  from IPython.display import IFrame\n",
        "  class BiliVideo(IFrame):\n",
        "      def __init__(self, id, page=1, width=400, height=300, **kwargs):\n",
        "          self.id=id\n",
        "          src = 'https://player.bilibili.com/player.html?bvid={0}&page={1}'.format(id, page)\n",
        "          super(BiliVideo, self).__init__(src, width, height, **kwargs)\n",
        "\n",
        "  video = BiliVideo(id=\"BV1pz411v74H\", width=854, height=480, fs=1)\n",
        "  print('Video available at https://www.bilibili.com/video/{0}'.format(video.id))\n",
        "  display(video)\n",
        "\n",
        "out1 = widgets.Output()\n",
        "with out1:\n",
        "  from IPython.display import YouTubeVideo\n",
        "  video = YouTubeVideo(id=\"0An_NnVWY_Q\", width=854, height=480, fs=1, rel=0)\n",
        "  print('Video available at https://youtube.com/watch?v=' + video.id)\n",
        "  display(video)\n",
        "\n",
        "out = widgets.Tab([out1, out2])\n",
        "out.set_title(0, 'Youtube')\n",
        "out.set_title(1, 'Bilibili')\n",
        "\n",
        "display(out)"
      ],
      "execution_count": null,
      "outputs": []
    },
    {
      "cell_type": "markdown",
      "metadata": {
        "id": "1mBVrEmWtcsa"
      },
      "source": [
        "## Coding Exercise 6: Rewriting code with functions\n",
        "We will now re-organize parts of the code from the previous exercise with functions. You need to complete the function `spike_clamp()` to update $V(t)$ and deal with spiking and refractoriness"
      ]
    },
    {
      "cell_type": "code",
      "metadata": {
        "execution": {
          "iopub.execute_input": "2021-06-25T15:06:16.708588Z",
          "iopub.status.busy": "2021-06-25T15:06:16.707986Z",
          "iopub.status.idle": "2021-06-25T15:06:16.720862Z",
          "shell.execute_reply": "2021-06-25T15:06:16.720246Z"
        },
        "id": "ynB3CpVWtcsa"
      },
      "source": [
        "def ode_step(v, i, dt):\n",
        "  \"\"\"\n",
        "  Evolves membrane potential by one step of discrete time integration\n",
        "\n",
        "  Args:\n",
        "    v (numpy array of floats)\n",
        "      membrane potential at previous time step of shape (neurons)\n",
        "\n",
        "    v (numpy array of floats)\n",
        "      synaptic input at current time step of shape (neurons)\n",
        "\n",
        "    dt (float)\n",
        "      time step increment\n",
        "\n",
        "  Returns:\n",
        "    v (numpy array of floats)\n",
        "      membrane potential at current time step of shape (neurons)\n",
        "  \"\"\"\n",
        "  v = v + dt/tau * (el - v + r*i)\n",
        "\n",
        "  return v\n",
        "\n",
        "def spike_clamp(v, delta_spike):\n",
        "  \"\"\"\n",
        "  Resets membrane potential of neurons if v>= vth\n",
        "  and clamps to vr if interval of time since last spike < t_ref\n",
        "\n",
        "  Args:\n",
        "    v (numpy array of floats)\n",
        "      membrane potential of shape (neurons)\n",
        "\n",
        "    delta_spike (numpy array of floats)\n",
        "      interval of time since last spike of shape (neurons)\n",
        "\n",
        "  Returns:\n",
        "    v (numpy array of floats)\n",
        "      membrane potential of shape (neurons)\n",
        "    spiked (numpy array of floats)\n",
        "      boolean array of neurons that spiked  of shape (neurons)\n",
        "  \"\"\"\n",
        "\n",
        "  ####################################################\n",
        "  ## TODO for students: complete spike_clamp\n",
        "  # Fill out function and remove\n",
        "  raise NotImplementedError(\"Student exercise: complete spike_clamp\")\n",
        "  ####################################################\n",
        "  # Boolean array spiked indexes neurons with v>=vth\n",
        "  spiked = ...\n",
        "  v[spiked] = ...\n",
        "\n",
        "  # Boolean array clamped indexes refractory neurons\n",
        "  clamped = ...\n",
        "  v[clamped] = ...\n",
        "\n",
        "  return v, spiked\n",
        "\n",
        "\n",
        "# Set random number generator\n",
        "np.random.seed(2020)\n",
        "\n",
        "# Initialize step_end, t_range, n, v_n and i\n",
        "t_range = np.arange(0, t_max, dt)\n",
        "step_end = len(t_range)\n",
        "n = 500\n",
        "v_n = el * np.ones([n, step_end])\n",
        "i = i_mean * (1 + 0.1 * (t_max / dt)**(0.5) * (2 * np.random.random([n, step_end]) - 1))\n",
        "\n",
        "# Initialize binary numpy array for raster plot\n",
        "raster = np.zeros([n,step_end])\n",
        "\n",
        "# Initialize t_ref and last_spike\n",
        "mu = 0.01\n",
        "sigma = 0.007\n",
        "t_ref = mu + sigma*np.random.normal(size=n)\n",
        "t_ref[t_ref<0] = 0\n",
        "last_spike = -t_ref * np.ones([n])\n",
        "\n",
        "# Loop over time steps\n",
        "for step, t in enumerate(t_range):\n",
        "\n",
        "  # Skip first iteration\n",
        "  if step==0:\n",
        "    continue\n",
        "\n",
        "  # Compute v_n\n",
        "  v_n[:,step] = ode_step(v_n[:,step-1], i[:,step], dt)\n",
        "\n",
        "  # Reset membrane potential and clamp\n",
        "  v_n[:,step], spiked = spike_clamp(v_n[:,step], t - last_spike)\n",
        "\n",
        "  # Update raster and last_spike\n",
        "  raster[spiked,step] = 1.\n",
        "  last_spike[spiked] = t\n",
        "\n",
        "# Plot multiple realizations of Vm, spikes and mean spike rate\n",
        "plot_all(t_range, v_n, raster)"
      ],
      "execution_count": null,
      "outputs": []
    },
    {
      "cell_type": "code",
      "metadata": {
        "id": "HrCTN8LC_kYv"
      },
      "source": [
        "def ode_step(v, i, dt):\n",
        "  \"\"\"\n",
        "  Evolves membrane potential by one step of discrete time integration\n",
        "\n",
        "  Args:\n",
        "    v (numpy array of floats)\n",
        "      membrane potential at previous time step of shape (neurons)\n",
        "\n",
        "    v (numpy array of floats)\n",
        "      synaptic input at current time step of shape (neurons)\n",
        "\n",
        "    dt (float)\n",
        "      time step increment\n",
        "\n",
        "  Returns:\n",
        "    v (numpy array of floats)\n",
        "      membrane potential at current time step of shape (neurons)\n",
        "  \"\"\"\n",
        "  v = v + dt/tau * (el - v + r*i)\n",
        "\n",
        "  return v\n",
        "\n",
        "# to_remove solution\n",
        "def spike_clamp(v, delta_spike):\n",
        "  \"\"\"\n",
        "  Resets membrane potential of neurons if v>= vth\n",
        "  and clamps to vr if interval of time since last spike < t_ref\n",
        "\n",
        "  Args:\n",
        "    v (numpy array of floats)\n",
        "      membrane potential of shape (neurons)\n",
        "\n",
        "    delta_spike (numpy array of floats)\n",
        "      interval of time since last spike of shape (neurons)\n",
        "\n",
        "  Returns:\n",
        "    v (numpy array of floats)\n",
        "      membrane potential of shape (neurons)\n",
        "    spiked (numpy array of floats)\n",
        "      boolean array of neurons that spiked  of shape (neurons)\n",
        "  \"\"\"\n",
        "\n",
        "  # Boolean array spiked indexes neurons with v>=vth\n",
        "  spiked = (v >= vth)\n",
        "  v[spiked] = vr\n",
        "\n",
        "  # Boolean array clamped indexes refractory neurons\n",
        "  clamped = (t_ref > delta_spike)\n",
        "  v[clamped] = vr\n",
        "\n",
        "  return v, spiked\n",
        "\n",
        "\n",
        "# Set random number generator\n",
        "np.random.seed(2020)\n",
        "\n",
        "# Initialize step_end, t_range, n, v_n and i\n",
        "t_range = np.arange(0, t_max, dt)\n",
        "step_end = len(t_range)\n",
        "n = 500\n",
        "v_n = el * np.ones([n, step_end])\n",
        "i = i_mean * (1 + 0.1 * (t_max / dt)**(0.5) * (2 * np.random.random([n, step_end]) - 1))\n",
        "\n",
        "# Initialize binary numpy array for raster plot\n",
        "raster = np.zeros([n,step_end])\n",
        "\n",
        "# Initialize t_ref and last_spike\n",
        "mu = 0.01\n",
        "sigma = 0.007\n",
        "t_ref = mu + sigma*np.random.normal(size=n)\n",
        "t_ref[t_ref<0] = 0\n",
        "last_spike = -t_ref * np.ones([n])\n",
        "\n",
        "# Loop over time steps\n",
        "for step, t in enumerate(t_range):\n",
        "\n",
        "  # Skip first iteration\n",
        "  if step==0:\n",
        "    continue\n",
        "\n",
        "  # Compute v_n\n",
        "  v_n[:,step] = ode_step(v_n[:,step-1], i[:,step], dt)\n",
        "\n",
        "  # Reset membrane potential and clamp\n",
        "  v_n[:,step], spiked = spike_clamp(v_n[:,step], t - last_spike)\n",
        "\n",
        "  # Update raster and last_spike\n",
        "  raster[spiked,step] = 1.\n",
        "  last_spike[spiked] = t\n",
        "\n",
        "# Plot multiple realizations of Vm, spikes and mean spike rate\n",
        "with plt.xkcd():\n",
        "  plot_all(t_range, v_n, raster)"
      ],
      "execution_count": null,
      "outputs": []
    },
    {
      "cell_type": "markdown",
      "metadata": {
        "id": "qWfFpQIQtcsb"
      },
      "source": [
        "---\n",
        "# Section 6: Using classes\n"
      ]
    },
    {
      "cell_type": "code",
      "metadata": {
        "id": "C0HoK2C3AH_s"
      },
      "source": [
        "# @title Video 11: Classes\n",
        "from ipywidgets import widgets\n",
        "\n",
        "out2 = widgets.Output()\n",
        "with out2:\n",
        "  from IPython.display import IFrame\n",
        "  class BiliVideo(IFrame):\n",
        "      def __init__(self, id, page=1, width=400, height=300, **kwargs):\n",
        "          self.id=id\n",
        "          src = 'https://player.bilibili.com/player.html?bvid={0}&page={1}'.format(id, page)\n",
        "          super(BiliVideo, self).__init__(src, width, height, **kwargs)\n",
        "\n",
        "  video = BiliVideo(id=\"BV1hz411v7ne\", width=854, height=480, fs=1)\n",
        "  print('Video available at https://www.bilibili.com/video/{0}'.format(video.id))\n",
        "  display(video)\n",
        "\n",
        "out1 = widgets.Output()\n",
        "with out1:\n",
        "  from IPython.display import YouTubeVideo\n",
        "  video = YouTubeVideo(id=\"dGRESMoNPh0\", width=854, height=480, fs=1, rel=0)\n",
        "  print('Video available at https://youtube.com/watch?v=' + video.id)\n",
        "  display(video)\n",
        "\n",
        "out = widgets.Tab([out1, out2])\n",
        "out.set_title(0, 'Youtube')\n",
        "out.set_title(1, 'Bilibili')\n",
        "\n",
        "display(out)"
      ],
      "execution_count": null,
      "outputs": []
    },
    {
      "cell_type": "markdown",
      "metadata": {
        "id": "zcC354M-AUPr"
      },
      "source": [
        "Using classes helps with code reuse and reliability. Well-designed classes are like black boxes in that they receive inputs and provide expected outputs. The details of how the class processes inputs and produces outputs are unimportant.\n",
        "\n",
        "See additional details here: [A Beginner's Python Tutorial/Classes](https://en.wikibooks.org/wiki/A_Beginner%27s_Python_Tutorial/Classes)\n",
        "\n",
        "*Attributes* are variables internal to the class, and *methods* are functions internal to the class."
      ]
    },
    {
      "cell_type": "code",
      "metadata": {
        "execution": {
          "iopub.execute_input": "2021-06-25T15:06:22.075138Z",
          "iopub.status.busy": "2021-06-25T15:06:22.074571Z",
          "iopub.status.idle": "2021-06-25T15:06:22.153595Z",
          "shell.execute_reply": "2021-06-25T15:06:22.154046Z"
        },
        "id": "BJNRDmqAtcsb"
      },
      "source": [
        "# @title Video 12: Nano recap of classes\n",
        "from ipywidgets import widgets\n",
        "\n",
        "out2 = widgets.Output()\n",
        "with out2:\n",
        "  from IPython.display import IFrame\n",
        "  class BiliVideo(IFrame):\n",
        "      def __init__(self, id, page=1, width=400, height=300, **kwargs):\n",
        "          self.id=id\n",
        "          src = 'https://player.bilibili.com/player.html?bvid={0}&page={1}'.format(id, page)\n",
        "          super(BiliVideo, self).__init__(src, width, height, **kwargs)\n",
        "\n",
        "  video = BiliVideo(id=\"BV12V41167yu\", width=854, height=480, fs=1)\n",
        "  print('Video available at https://www.bilibili.com/video/{0}'.format(video.id))\n",
        "  display(video)\n",
        "\n",
        "out1 = widgets.Output()\n",
        "with out1:\n",
        "  from IPython.display import YouTubeVideo\n",
        "  video = YouTubeVideo(id=\"4YNpMpVW2qs\", width=854, height=480, fs=1, rel=0)\n",
        "  print('Video available at https://youtube.com/watch?v=' + video.id)\n",
        "  display(video)\n",
        "\n",
        "out = widgets.Tab([out1, out2])\n",
        "out.set_title(0, 'Youtube')\n",
        "out.set_title(1, 'Bilibili')\n",
        "\n",
        "display(out)"
      ],
      "execution_count": null,
      "outputs": []
    },
    {
      "cell_type": "markdown",
      "metadata": {
        "id": "miM7eT19tcsb"
      },
      "source": [
        "## Coding Exercise 7: Making a LIF class\n",
        "In this exercise we'll practice with Python classes by implementing `LIFNeurons`, a class that evolves and keeps state of multiple realizations of LIF neurons.\n",
        "\n",
        "Several attributes are used to keep state of our neurons:\n",
        "```\n",
        "self.v             current membrane potential\n",
        "self.spiked        neurons that spiked\n",
        "self.last_spike    last spike time of each neuron\n",
        "self.t             running time of the simulation\n",
        "self.steps         simulation step\n",
        "```\n",
        "There is a single method:\n",
        "```\n",
        "self.ode_step()    performs single step discrete time integration\n",
        "                   for provided synaptic current and dt\n",
        "```\n",
        "\n",
        "Complete the spike and clamp part of method `self.ode_step` (should be similar to function `spike_and_clamp` seen before)"
      ]
    },
    {
      "cell_type": "code",
      "metadata": {
        "execution": {
          "iopub.execute_input": "2021-06-25T15:06:22.174684Z",
          "iopub.status.busy": "2021-06-25T15:06:22.174106Z",
          "iopub.status.idle": "2021-06-25T15:06:22.184877Z",
          "shell.execute_reply": "2021-06-25T15:06:22.184260Z"
        },
        "id": "RbXNAyGFtcsb"
      },
      "source": [
        "# Simulation class\n",
        "class LIFNeurons:\n",
        "  \"\"\"\n",
        "  Keeps track of membrane potential for multiple realizations of LIF neuron,\n",
        "  and performs single step discrete time integration.\n",
        "  \"\"\"\n",
        "  def __init__(self, n, t_ref_mu=0.01, t_ref_sigma=0.002,\n",
        "               tau=20e-3, el=-60e-3, vr=-70e-3, vth=-50e-3, r=100e6):\n",
        "\n",
        "    # Neuron count\n",
        "    self.n = n\n",
        "\n",
        "    # Neuron parameters\n",
        "    self.tau = tau        # second\n",
        "    self.el = el          # milivolt\n",
        "    self.vr = vr          # milivolt\n",
        "    self.vth = vth        # milivolt\n",
        "    self.r = r            # ohm\n",
        "\n",
        "    # Initializes refractory period distribution\n",
        "    self.t_ref_mu = t_ref_mu\n",
        "    self.t_ref_sigma = t_ref_sigma\n",
        "    self.t_ref = self.t_ref_mu + self.t_ref_sigma * np.random.normal(size=self.n)\n",
        "    self.t_ref[self.t_ref<0] = 0\n",
        "\n",
        "    # State variables\n",
        "    self.v = self.el * np.ones(self.n)\n",
        "    self.spiked = self.v >= self.vth\n",
        "    self.last_spike = -self.t_ref * np.ones([self.n])\n",
        "    self.t = 0.\n",
        "    self.steps = 0\n",
        "\n",
        "\n",
        "  def ode_step(self, dt, i):\n",
        "\n",
        "    # Update running time and steps\n",
        "    self.t += dt\n",
        "    self.steps += 1\n",
        "\n",
        "    # One step of discrete time integration of dt\n",
        "    self.v = self.v + dt / self.tau * (self.el - self.v + self.r * i)\n",
        "\n",
        "    ####################################################\n",
        "    ## TODO for students: complete the `ode_step` method\n",
        "    # Fill out function and remove\n",
        "    raise NotImplementedError(\"Student exercise: complete the ode_step method\")\n",
        "    ####################################################\n",
        "    \n",
        "    # Spike and clamp\n",
        "    self.spiked = ...\n",
        "    self.v[self.spiked] = ...\n",
        "    self.last_spike[self.spiked] = ...\n",
        "    clamped = ...\n",
        "    self.v[clamped] = ...\n",
        "\n",
        "    self.last_spike[self.spiked] = ...\n",
        "\n",
        "# Set random number generator\n",
        "np.random.seed(2020)\n",
        "\n",
        "# Initialize step_end, t_range, n, v_n and i\n",
        "t_range = np.arange(0, t_max, dt)\n",
        "step_end = len(t_range)\n",
        "n = 500\n",
        "v_n = el * np.ones([n, step_end])\n",
        "i = i_mean * (1 + 0.1 * (t_max / dt)**(0.5) * (2 * np.random.random([n, step_end]) - 1))\n",
        "\n",
        "# Initialize binary numpy array for raster plot\n",
        "raster = np.zeros([n,step_end])\n",
        "\n",
        "# Initialize neurons\n",
        "neurons = LIFNeurons(n)\n",
        "\n",
        "# Loop over time steps\n",
        "for step, t in enumerate(t_range):\n",
        "\n",
        "  # Call ode_step method\n",
        "  neurons.ode_step(dt, i[:,step])\n",
        "\n",
        "  # Log v_n and spike history\n",
        "  v_n[:,step] = neurons.v\n",
        "  raster[neurons.spiked, step] = 1.\n",
        "\n",
        "# Report running time and steps\n",
        "print(f'Ran for {neurons.t:.3}s in {neurons.steps} steps.')\n",
        "\n",
        "# Plot multiple realizations of Vm, spikes and mean spike rate\n",
        "plot_all(t_range, v_n, raster)"
      ],
      "execution_count": null,
      "outputs": []
    },
    {
      "cell_type": "code",
      "metadata": {
        "id": "k5e6GZ9KA4sb"
      },
      "source": [
        "# to_remove solution\n",
        "\n",
        "# Simulation class\n",
        "class LIFNeurons:\n",
        "  \"\"\"\n",
        "  Keeps track of membrane potential for multiple realizations of LIF neuron,\n",
        "  and performs single step discrete time integration.\n",
        "  \"\"\"\n",
        "  def __init__(self, n, t_ref_mu=0.01, t_ref_sigma=0.002,\n",
        "               tau=20e-3, el=-60e-3, vr=-70e-3, vth=-50e-3, r=100e6):\n",
        "\n",
        "    # Neuron count\n",
        "    self.n = n\n",
        "\n",
        "    # Neuron parameters\n",
        "    self.tau = tau        # second\n",
        "    self.el = el          # milivolt\n",
        "    self.vr = vr          # milivolt\n",
        "    self.vth = vth        # milivolt\n",
        "    self.r = r            # ohm\n",
        "\n",
        "    # Initializes refractory period distribution\n",
        "    self.t_ref_mu = t_ref_mu\n",
        "    self.t_ref_sigma = t_ref_sigma\n",
        "    self.t_ref = self.t_ref_mu + self.t_ref_sigma * np.random.normal(size=self.n)\n",
        "    self.t_ref[self.t_ref<0] = 0\n",
        "\n",
        "    # State variables\n",
        "    self.v = self.el * np.ones(self.n)\n",
        "    self.spiked = self.v >= self.vth\n",
        "    self.last_spike = -self.t_ref * np.ones([self.n])\n",
        "    self.t = 0.\n",
        "    self.steps = 0\n",
        "\n",
        "\n",
        "  def ode_step(self, dt, i):\n",
        "\n",
        "    # Update running time and steps\n",
        "    self.t += dt\n",
        "    self.steps += 1\n",
        "\n",
        "    # One step of discrete time integration of dt\n",
        "    self.v = self.v + dt / self.tau * (self.el - self.v + self.r * i)\n",
        "\n",
        "    # Spike and clamp\n",
        "    self.spiked = (self.v >= self.vth)\n",
        "    self.v[self.spiked] = self.vr\n",
        "    self.last_spike[self.spiked] = self.t\n",
        "    clamped = (self.t_ref > self.t-self.last_spike)\n",
        "    self.v[clamped] = self.vr\n",
        "\n",
        "    self.last_spike[self.spiked] = self.t\n",
        "\n",
        "# Set random number generator\n",
        "np.random.seed(2020)\n",
        "\n",
        "# Initialize step_end, t_range, n, v_n and i\n",
        "t_range = np.arange(0, t_max, dt)\n",
        "step_end = len(t_range)\n",
        "n = 500\n",
        "v_n = el * np.ones([n, step_end])\n",
        "i = i_mean * (1 + 0.1 * (t_max / dt)**(0.5) * (2 * np.random.random([n, step_end]) - 1))\n",
        "\n",
        "# Initialize binary numpy array for raster plot\n",
        "raster = np.zeros([n,step_end])\n",
        "\n",
        "# Initialize neurons\n",
        "neurons = LIFNeurons(n)\n",
        "\n",
        "# Loop over time steps\n",
        "for step, t in enumerate(t_range):\n",
        "\n",
        "  # Call ode_step method\n",
        "  neurons.ode_step(dt, i[:,step])\n",
        "\n",
        "  # Log v_n and spike history\n",
        "  v_n[:,step] = neurons.v\n",
        "  raster[neurons.spiked, step] = 1.\n",
        "\n",
        "# Report running time and steps\n",
        "print(f'Ran for {neurons.t:.3}s in {neurons.steps} steps.')\n",
        "\n",
        "# Plot multiple realizations of Vm, spikes and mean spike rate\n",
        "with plt.xkcd():  \n",
        "  plot_all(t_range, v_n, raster)"
      ],
      "execution_count": null,
      "outputs": []
    },
    {
      "cell_type": "markdown",
      "metadata": {
        "id": "moYvY4JwBJT_"
      },
      "source": [
        "---\n",
        "# Summary\n"
      ]
    },
    {
      "cell_type": "code",
      "metadata": {
        "id": "OBaErtPeBKWd"
      },
      "source": [
        "# @title Video 12: Last concepts & recap\n",
        "from ipywidgets import widgets\n",
        "\n",
        "out2 = widgets.Output()\n",
        "with out2:\n",
        "  from IPython.display import IFrame\n",
        "  class BiliVideo(IFrame):\n",
        "      def __init__(self, id, page=1, width=400, height=300, **kwargs):\n",
        "          self.id=id\n",
        "          src = 'https://player.bilibili.com/player.html?bvid={0}&page={1}'.format(id, page)\n",
        "          super(BiliVideo, self).__init__(src, width, height, **kwargs)\n",
        "\n",
        "  video = BiliVideo(id=\"BV1MC4y1h7eA\", width=854, height=480, fs=1)\n",
        "  print('Video available at https://www.bilibili.com/video/{0}'.format(video.id))\n",
        "  display(video)\n",
        "\n",
        "out1 = widgets.Output()\n",
        "with out1:\n",
        "  from IPython.display import YouTubeVideo\n",
        "  video = YouTubeVideo(id=\"h4mSJBPocPo\", width=854, height=480, fs=1, rel=0)\n",
        "  print('Video available at https://youtube.com/watch?v=' + video.id)\n",
        "  display(video)\n",
        "\n",
        "out = widgets.Tab([out1, out2])\n",
        "out.set_title(0, 'Youtube')\n",
        "out.set_title(1, 'Bilibili')\n",
        "\n",
        "display(out)"
      ],
      "execution_count": null,
      "outputs": []
    }
  ]
}