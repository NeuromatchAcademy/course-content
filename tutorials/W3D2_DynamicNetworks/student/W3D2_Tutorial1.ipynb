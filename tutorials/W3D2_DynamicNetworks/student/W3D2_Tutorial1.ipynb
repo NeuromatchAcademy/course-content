{
 "cells": [
  {
   "cell_type": "markdown",
   "metadata": {
    "colab_type": "text",
    "id": "view-in-github"
   },
   "source": [
    "<a href=\"https://colab.research.google.com/github/NeuromatchAcademy/course-content/blob/master/tutorials/W3D2_DynamicNetworks/student/W3D2_Tutorial1.ipynb\" target=\"_parent\"><img src=\"https://colab.research.google.com/assets/colab-badge.svg\" alt=\"Open In Colab\"/></a>"
   ]
  },
  {
   "cell_type": "markdown",
   "metadata": {
    "colab_type": "text",
    "id": "Oh1wn4afauo0"
   },
   "source": [
    "# Neuromatch Academy: Week 3, Day 2, Tutorial 1\n",
    "\n",
    "# Neuronal Network Dynamics: Neural Rate Models\n",
    "\n"
   ]
  },
  {
   "cell_type": "markdown",
   "metadata": {
    "colab_type": "text",
    "id": "A9pNslIYayZt"
   },
   "source": [
    "## Background\n",
    "\n",
    "The brain is a complex system, not because it is composed of a large number of diverse types of neurons, but mainly because of how neurons are connected to each other. The brain is a very large network of densely interconnected neurons. \n",
    "\n",
    "The activity of neurons is constantly evolving in time. For this reason, neurons can be modeled as dynamical systems. The dynamical system approach is only one of the many modeling approaches that computational neuroscientists have developed (other points of views include information processing, network science, and statistical models). How the dynamics of neuronal networks affect the representation and processing of information in the brain is an open question. However, signatures of altered brain dynamics present in many brain diseases (e.g., in epilepsy or Parkinson's disease) tell us that it is crucial to study neuronal dynamics if we want to understand the brain.\n",
    "\n",
    "In this tutorial, we will simulate and study one of the simplest models of biological neuronal networks. Instead of modeling and simulating individual excitatory neurons (e.g., LIF models that you implemented yesterday), we will treat them as a single homogeneous population and approximate their dynamics using a single one-dimensional equation describing the evolution of their average spiking rate in time.\n",
    "\n",
    "## Objectives\n",
    "In this tutorial we will learn how to build a firing rate model of a single population of excitatory neurons. \n",
    "\n",
    "Steps:\n",
    "- Write the equation for the firing rate dynamics of a 1D excitatory population.\n",
    "- Visualize the response of the population as a function of parameters such as threshold level and gain, using the frequency-current (F-I) curve.\n",
    "- Numerically simulate the dynamics of the excitatory population and find the fixed points of the system. \n",
    "- Investigate the stability of the fixed points by linearizing the dynamics around them.\n",
    " \n"
   ]
  },
  {
   "cell_type": "markdown",
   "metadata": {
    "colab_type": "text",
    "id": "BptrqpMma6c3"
   },
   "source": [
    "# Setup"
   ]
  },
  {
   "cell_type": "code",
   "execution_count": 1,
   "metadata": {
    "cellView": "both",
    "colab": {},
    "colab_type": "code",
    "id": "QG7r5GjEadue"
   },
   "outputs": [],
   "source": [
    "# Imports\n",
    "import matplotlib.pyplot as plt    # import matplotlib\n",
    "import numpy as np                 # import numpy\n",
    "import scipy.optimize as opt       # import root-finding algorithm\n",
    "import ipywidgets as widgets       # interactive display"
   ]
  },
  {
   "cell_type": "code",
   "execution_count": 2,
   "metadata": {
    "cellView": "form",
    "colab": {},
    "colab_type": "code",
    "id": "QCwXDPapf7D-"
   },
   "outputs": [],
   "source": [
    "#@title Figure Settings\n",
    "%matplotlib inline\n",
    "\n",
    "fig_w, fig_h = 6, 4\n",
    "my_fontsize = 16\n",
    "my_params = {'axes.labelsize': my_fontsize,\n",
    "          'axes.titlesize': my_fontsize,\n",
    "          'figure.figsize': [fig_w, fig_h],\n",
    "          'font.size': my_fontsize,\n",
    "          'legend.fontsize': my_fontsize-4,\n",
    "          'lines.markersize': 8.,\n",
    "          'lines.linewidth': 2.,\n",
    "          'xtick.labelsize': my_fontsize-2,\n",
    "          'ytick.labelsize': my_fontsize-2}\n",
    "\n",
    "plt.rcParams.update(my_params)"
   ]
  },
  {
   "cell_type": "code",
   "execution_count": 3,
   "metadata": {
    "cellView": "form",
    "colab": {},
    "colab_type": "code",
    "id": "C7rvBOvji_hj"
   },
   "outputs": [],
   "source": [
    "# @title Helper functions\n",
    "\n",
    "def plot_fI(x, f):\n",
    "  plt.figure(figsize=(6,4)) # plot the figure\n",
    "  plt.plot(x, f, 'k')\n",
    "  plt.xlabel('x (a.u.)', fontsize=14.)\n",
    "  plt.ylabel('F(x)', fontsize=14.)\n",
    "  plt.show()"
   ]
  },
  {
   "cell_type": "code",
   "execution_count": 4,
   "metadata": {
    "cellView": "form",
    "colab": {},
    "colab_type": "code",
    "id": "PpiAHP47tk8j"
   },
   "outputs": [],
   "source": [
    "#@title Helper functions\n",
    "def plot_dE_E(E, dEdt):\n",
    "  plt.figure()\n",
    "  plt.plot(E_grid, dEdt, 'k')\n",
    "  plt.plot(E_grid, 0.*E_grid, 'k--')\n",
    "  plt.xlabel('E activity')\n",
    "  plt.ylabel(r'$\\frac{dE}{dt}$', fontsize=20)\n",
    "  plt.ylim(-0.1, 0.1)\n",
    "\n",
    "def plot_dFdt(x,dFdt):\n",
    "  plt.figure()\n",
    "  plt.plot(x, dFdt, 'r')\n",
    "  plt.xlabel('x (a.u.)', fontsize=14.)\n",
    "  plt.ylabel('dF(x)', fontsize=14.)\n",
    "  plt.show()\n"
   ]
  },
  {
   "cell_type": "markdown",
   "metadata": {
    "colab_type": "text",
    "id": "iTfHsVLEg2Su"
   },
   "source": [
    "# Neuronal network dynamics"
   ]
  },
  {
   "cell_type": "code",
   "execution_count": 5,
   "metadata": {
    "cellView": "form",
    "colab": {
     "base_uri": "https://localhost:8080/",
     "height": 519
    },
    "colab_type": "code",
    "id": "uOLOhRbOg95q",
    "outputId": "ab1fed91-e624-4f5f-922a-c53a8e9210a0"
   },
   "outputs": [
    {
     "name": "stdout",
     "output_type": "stream",
     "text": [
      "Video available at https://youtube.com/watch?v=ZSsAaeaG9ZM\n"
     ]
    },
    {
     "data": {
      "image/jpeg": "[encoded data removed]",
      "text/html": [
       "\n",
       "        <iframe\n",
       "            width=\"854\"\n",
       "            height=\"480\"\n",
       "            src=\"https://www.youtube.com/embed/ZSsAaeaG9ZM?fs=1\"\n",
       "            frameborder=\"0\"\n",
       "            allowfullscreen\n",
       "        ></iframe>\n",
       "        "
      ],
      "text/plain": [
       "<IPython.lib.display.YouTubeVideo at 0x7f4850ef30d0>"
      ]
     },
     "execution_count": 5,
     "metadata": {},
     "output_type": "execute_result"
    }
   ],
   "source": [
    "#@title Video: Dynamic networks\n",
    "from IPython.display import YouTubeVideo\n",
    "video = YouTubeVideo(id=\"ZSsAaeaG9ZM\", width=854, height=480, fs=1)\n",
    "print(\"Video available at https://youtube.com/watch?v=\" + video.id)\n",
    "video"
   ]
  },
  {
   "cell_type": "markdown",
   "metadata": {
    "colab_type": "text",
    "id": "eL6hmfObfQAq"
   },
   "source": [
    "## Dynamics of a single excitatory population\n",
    "\n",
    "Individual neurons respond by spiking. When we average the spikes of neurons in a population, we can define the average firing activity of the population. In this model, we are interested in how the population-averaged firing varies as a function of different network parameters.\n",
    "\n",
    "\\begin{align}\n",
    "\\tau_E \\frac{dE}{dt} &= -E + F(w_{EE}E + I^{\\text{ext}}_E)  \\quad\\qquad (1)\n",
    "\\end{align}\n",
    "\n",
    "$E(t)$ represents the average firing rate of the excitatory population at time $t$, $\\tau_E$ controls the timescale of the evolution of the average firing rate, $w_{EE}$ denotes the strength (synaptic weight) of the recurrent excitatory input to the population, $I^{\\text{ext}}_E$ represents the external input, and the transfer function $F(\\cdot)$ (which can be related to f-I curve of individual neurons described in the next sections) represents the population activation function in response to all received inputs.\n",
    "\n",
    "\n",
    "To start building the model, please execute the cell below to initialize the simulation parameters."
   ]
  },
  {
   "cell_type": "code",
   "execution_count": 6,
   "metadata": {
    "cellView": "form",
    "colab": {},
    "colab_type": "code",
    "id": "bigVVyUhgUTk"
   },
   "outputs": [],
   "source": [
    "#@title Default parameters for a single excitatory population model\n",
    "def default_parsE( **kwargs):\n",
    "  pars = {}\n",
    "  \n",
    "  ### Excitatory parameters ###\n",
    "  pars['tau_E']   = 1.    # Timescale of the E population [ms]\n",
    "  pars['a_E']     = 1.2   # Gain of the E population\n",
    "  pars['theta_E'] = 2.8   # Threshold of the E population\n",
    "\n",
    "  ### Connection strength ###\n",
    "  pars['wEE'] = 0. # E to E, we first set it to 0\n",
    "\n",
    "  ### External input ###\n",
    "  pars['I_ext_E']  = 0.\n",
    "\n",
    "  ### simulation parameters ###\n",
    "  pars['T'] = 20. # Total duration of simulation [ms]\n",
    "  pars['dt'] = .1  # Simulation time step [ms]\n",
    "  pars['E_init'] = 0.2 # Initial value of E\n",
    "  \n",
    "  ### External parameters if any ###\n",
    "  for k in kwargs:\n",
    "      pars[k] = kwargs[k]\n",
    "      \n",
    "  pars['range_t'] = np.arange(0, pars['T'], pars['dt']) # Vector of discretized time points [ms]\n",
    "        \n",
    "  return pars"
   ]
  },
  {
   "cell_type": "markdown",
   "metadata": {
    "colab_type": "text",
    "id": "UsD-neCVeTGZ"
   },
   "source": [
    "You can use:\n",
    "- `pars = default_parsE()` to get all the parameters, and then you can execute `print(pars)` to check these parameters. \n",
    "- `pars = default_parsE(T=T_sim, dt=time_step)` to set new simulation time and time step\n",
    "- After `pars = default_parsE()`, use `pars['New_para'] = value` to add an new parameter with its value"
   ]
  },
  {
   "cell_type": "markdown",
   "metadata": {
    "colab_type": "text",
    "id": "6CwsfbhNbND5"
   },
   "source": [
    "## F-I curves\n",
    "In electrophysiology, a neuron is often characterized by its spike rate output in response to input currents. This is often called the **F-I** curve, denoting the spike frequency (**F**) in response to different injected currents (**I**). We estimated this for an LIF neuron in yesterday's tutorial.\n",
    "\n",
    "The transfer function $F(\\cdot)$ in Equation (1) represents the gain of the population as a function of the total input. The gain is often modeled as a sigmoidal function, i.e., more input drive leads to a nonlinear increase in the population firing rate. The output firing rate will eventually saturate for high input values. \n",
    "\n",
    "A sigmoidal $F(\\cdot)$ is parameterized by its gain $a$ and threshold $\\theta$.\n",
    "\n",
    "$$ F(x;a,\\theta) = \\frac{1}{1+\\text{e}^{-a(x-\\theta)}} - \\frac{1}{1+\\text{e}^{a\\theta}}  \\quad(2)$$\n",
    "\n",
    "The argument $x$ represents the input to the population. Note that the second term is chosen so that $F(0;a,\\theta)=0$.\n",
    "\n",
    "Many other transfer functions (generally monotonic) can be also used. Examples are the rectified linear function $ReLU(x)$ or the hyperbolic tangent $tanh(x)$."
   ]
  },
  {
   "cell_type": "markdown",
   "metadata": {
    "colab_type": "text",
    "id": "poBY4hdb0cuB"
   },
   "source": [
    "### Exercise 1: Implement F-I curve \n",
    "\n",
    "Let's first investigate the activation functions before simulating the dynamics of the entire population. \n",
    "\n",
    "In this exercise, you will implement a sigmoidal **F-I** curve or transfer function $F(x)$, with gain $a$ and threshold level $\\theta$ as parameters."
   ]
  },
  {
   "cell_type": "code",
   "execution_count": 7,
   "metadata": {
    "colab": {},
    "colab_type": "code",
    "id": "QjFIB5n_j5CG"
   },
   "outputs": [],
   "source": [
    "# Excercise 1\n",
    "def F(x,a,theta): \n",
    "  \"\"\"\n",
    "  Population activation function.\n",
    "\n",
    "  Args:\n",
    "    x (float): the population input\n",
    "    a (float): the gain of the function\n",
    "    theta (float): the threshold of the function\n",
    "    \n",
    "  Returns:\n",
    "    float: the population activation response F(x) for input x\n",
    "  \"\"\"\n",
    "\n",
    "  #################################################################################\n",
    "  ## TODO for students: compute f = F(x), remove the NotImplementedError once done# \n",
    "  #################################################################################\n",
    "  # the exponential function: np.exp(.)\n",
    "  # f = ...\n",
    "  raise NotImplementedError(\"Student excercise: implement the f-I function\")\n",
    "\n",
    "  return f\n",
    "\n",
    "# Uncomment these lines when you've filled the function, then run the cell again \n",
    "# to plot the f-I curve.\n",
    "pars = default_parsE() # get default parameters \n",
    "# print(pars)          # print out pars to get familiar with parameters\n",
    "x = np.arange(0,10,.1) # set the range of input\n",
    "\n",
    "# Uncomment this when you fill the exercise, and call the function\n",
    "# plot_fI(x,  F(x,pars['a_E'],pars['theta_E']))"
   ]
  },
  {
   "cell_type": "markdown",
   "metadata": {
    "cellView": "both",
    "colab": {
     "base_uri": "https://localhost:8080/",
     "height": 287
    },
    "colab_type": "text",
    "id": "mEVbZ3kUg4gV",
    "outputId": "b27e5e1c-0fee-462d-9d22-4d4dc8d27046"
   },
   "source": [
    "[*Click for solution*](https://github.com/NeuromatchAcademy/course-content/tree/master//tutorials/W3D2_DynamicNetworks/solutions/W3D2_Tutorial1_Solution_3d4f01e4.py)\n",
    "\n",
    "*Example output:*\n",
    "\n",
    "<img alt='Solution hint' align='left' width=400 height=277 src=https://raw.githubusercontent.com/NeuromatchAcademy/course-content/master/tutorials/W3D2_DynamicNetworks/static/W3D2_Tutorial1_Solution_3d4f01e4_1.png>\n",
    "\n"
   ]
  },
  {
   "cell_type": "markdown",
   "metadata": {
    "colab_type": "text",
    "id": "AWn7abgf004N"
   },
   "source": [
    "### Interactive Demo: Parameter exploration of F-I curve\n",
    "Here's an interactive demo that shows how the F-I curve is changing for different values of the gain and threshold parameters.\n",
    "\n",
    "\n",
    "**Remember to enable the demo by running the cell.**"
   ]
  },
  {
   "cell_type": "code",
   "execution_count": 9,
   "metadata": {
    "cellView": "form",
    "colab": {
     "base_uri": "https://localhost:8080/",
     "height": 351,
     "referenced_widgets": [
      "3a9ef90d9237435f8603ed591dbf515f",
      "4356e0a6ec4f4b309c673265c3d60c1b",
      "456cb079d4ac4dd8b79986eb858f42de",
      "722b356dd6be407689a6a04ae2026b69",
      "55ed95a8a54c4a8cb3d5f28a9f92f6ed",
      "5be63044e32b4fcfa974af8884b2ae88",
      "61fa04134e4d454782e10f3a9e400d93",
      "f7bc3ec4993d4dd8a2a836cd17601add",
      "e9245a660a794f80a54165ce56bc47b9",
      "9ff97d3bb7f646cb8a1debd504ede6c5"
     ]
    },
    "colab_type": "code",
    "id": "Ii4dmW7PnX1S",
    "outputId": "3848cca3-2dc1-47a3-dfd5-685fc5ff50e6"
   },
   "outputs": [
    {
     "data": {
      "image/png": "[encoded data removed]",
      "text/plain": [
       "<Figure size 432x288 with 1 Axes>"
      ]
     },
     "metadata": {
      "needs_background": "light"
     },
     "output_type": "display_data"
    }
   ],
   "source": [
    "#@title F-I curve Explorer\n",
    "def interactive_plot_FI(a, theta):\n",
    "  '''\n",
    "  Population activation function.\n",
    "\n",
    "  Expecxts:\n",
    "  a     : the gain of the function\n",
    "  theta : the threshold of the function\n",
    "  \n",
    "  Returns:\n",
    "  plot the F-I curve with give parameters\n",
    "  '''\n",
    "  # set the range of input\n",
    "  x = np.arange(0,10,.1)\n",
    "  plt.figure()\n",
    "  plt.plot(x, F(x, a, theta), 'k')\n",
    "  plt.xlabel('x (a.u.)', fontsize=14.)\n",
    "  plt.ylabel('F(x)', fontsize=14.)\n",
    "  plt.show()\n",
    "\n",
    "\n",
    "\n",
    "_ = widgets.interact(interactive_plot_FI, a = (0.3, 3., 0.3), \\\n",
    "                                              theta = (2., 4., 0.2)) "
   ]
  },
  {
   "cell_type": "markdown",
   "metadata": {
    "colab_type": "text",
    "id": "iqhKlUPYiZMD"
   },
   "source": [
    "## Simulation scheme of E dynamics\n",
    "\n",
    "Because $F(\\cdot)$ is a nonlinear function, the exact solution of Equation $1$ can not be determined via analytical methods. Therefore, numerical methods must be used to find the solution. In practice, the derivative on the left-hand side of Equation (1) can be approximated using the Euler method on a time-grid of stepsize $\\Delta t$:\n",
    "\n",
    "\\begin{align}\n",
    "&\\frac{dE}{dt} \\approx \\frac{E[k+1]-E[k]}{\\Delta t} \n",
    "\\end{align}\n",
    "where $E[k] = E(k\\Delta t)$. \n",
    "\n",
    "Thus,\n",
    "\n",
    "$$\\Delta E[k] = \\frac{\\Delta t}{\\tau_E}[-E[k] + F(w_{EE}E[k] + I^{\\text{ext}}_E(k;a_E,\\theta_E)]$$\n",
    "\n",
    "\n",
    "Hence, Equation (1) is updated at each time step by:\n",
    "\n",
    "$$E[k+1] = E[k] + \\Delta E[k]$$\n",
    "\n",
    "**_Please execute the following cell to enable the WC simulator_**"
   ]
  },
  {
   "cell_type": "code",
   "execution_count": 10,
   "metadata": {
    "cellView": "form",
    "colab": {
     "base_uri": "https://localhost:8080/",
     "height": 226
    },
    "colab_type": "code",
    "id": "W8aIJkkUp-MK",
    "outputId": "56db8927-798e-40fe-b0b0-152d72fe8a9f"
   },
   "outputs": [
    {
     "name": "stdout",
     "output_type": "stream",
     "text": [
      "Help on function simulate_E in module __main__:\n",
      "\n",
      "simulate_E(pars)\n",
      "    Simulate an excitatory population of neurons \n",
      "    \n",
      "    Args:\n",
      "      pars : Parameter dictionary\n",
      "    \n",
      "    Returns:\n",
      "      E    : Activity of excitatory population (array)\n",
      "\n",
      "None\n"
     ]
    }
   ],
   "source": [
    "#@title E population simulator: `simulate_E`\n",
    "def simulate_E(pars):\n",
    "    \n",
    "  \"\"\"\n",
    "  Simulate an excitatory population of neurons \n",
    "  \n",
    "  Args:\n",
    "    pars : Parameter dictionary\n",
    "  \n",
    "  Returns:\n",
    "    E    : Activity of excitatory population (array)\n",
    "  \"\"\"\n",
    "  \n",
    "  # Set parameters\n",
    "  tau_E, a_E, theta_E = pars['tau_E'], pars['a_E'], pars['theta_E']\n",
    "  wEE = pars['wEE']\n",
    "  I_ext_E = pars['I_ext_E']\n",
    "  E_init = pars['E_init']      \n",
    "  dt, range_t = pars['dt'], pars['range_t'] \n",
    "  Lt = range_t.size \n",
    "      \n",
    "  # Initialize activity\n",
    "  E = np.zeros(Lt)\n",
    "  E[0] = E_init\n",
    "  I_ext_E = I_ext_E*np.ones(Lt)\n",
    "\n",
    "  # Update the E activity \n",
    "  for k in range(Lt-1):\n",
    "      dE = dt/tau_E * (-E[k] + F(wEE*E[k]+I_ext_E[k], a_E, theta_E))\n",
    "      E[k+1] = E[k] + dE\n",
    "      \n",
    "  return E\n",
    "\n",
    "print(help(simulate_E))\n"
   ]
  },
  {
   "cell_type": "markdown",
   "metadata": {
    "colab_type": "text",
    "id": "gFjFCTCylCBB"
   },
   "source": [
    "#### Interactive Demo: Parameter Exploration of single population dynamics\n",
    "\n",
    "Note that $w_{EE}=0$, as in the default setting, means no recurrent input to the excitatory population in Equation (1). Hence, the dynamics is entirely determined by the external input $I_{E}^{\\text{ext}}$. Try to explore how $E_{sim}(t)$ changes with different $I_{E}^{\\text{ext}}$ and $\\tau_E$ parameter values, and investigate the relationship between $F(I_{E}^{\\text{ext}}; a_E, \\theta_E)$ and the steady value of E. Note that, $E_{ana}(t)$ denotes the analytical solution."
   ]
  },
  {
   "cell_type": "code",
   "execution_count": 11,
   "metadata": {
    "cellView": "form",
    "colab": {
     "base_uri": "https://localhost:8080/",
     "height": 351,
     "referenced_widgets": [
      "7b80c18c838244cc95c1412300ed6ae2",
      "5ff0158a60004cadb8065e6a93419eb2",
      "0ba1664be5414ad3b144409880aae4f8",
      "03035c20cf9d46cca09762db7c9e9c2c",
      "32e3d309be2b4c45ab2ff25e5629d910",
      "9d54a8408c6c4af28de7b04a07ab0ebc",
      "d86c95733e30465e868985935f3372fe",
      "9c84f5a675e24560a6f5a081cc7abe7a",
      "aad954cd1b4443828bc96c4e6f1a4f86",
      "37ac183cec4147c49d2c15c06894c51e"
     ]
    },
    "colab_type": "code",
    "id": "-Q-oHxJ-lCTo",
    "outputId": "753f39d9-efac-486f-b894-8d7024186b14"
   },
   "outputs": [
    {
     "data": {
      "image/png": "[encoded data removed]",
      "text/plain": [
       "<Figure size 432x288 with 1 Axes>"
      ]
     },
     "metadata": {
      "needs_background": "light"
     },
     "output_type": "display_data"
    }
   ],
   "source": [
    "#@title Mean-field model Explorer\n",
    "\n",
    "# get default parameters\n",
    "pars = default_parsE(T=20.)\n",
    "\n",
    "def Myplot_E_diffI_difftau(I_ext, tau_E):\n",
    "  # set external input and time constant\n",
    "  pars['I_ext_E'] = I_ext\n",
    "  pars['tau_E'] = tau_E\n",
    "\n",
    "  # simulation\n",
    "  E = simulate_E(pars)\n",
    "  \n",
    "  # Analytical Solution\n",
    "  E_ana = pars['E_init'] + (F(I_ext,pars['a_E'],pars['theta_E'])-pars['E_init'])*\\\n",
    "  (1.-np.exp(-pars['range_t']/pars['tau_E']))\n",
    "\n",
    "  # plot\n",
    "  plt.figure()\n",
    "  plt.plot(pars['range_t'], E, 'b', label=r'$E_{\\mathrm{sim}}$(t)', alpha=0.5, zorder=1)\n",
    "  plt.plot(pars['range_t'], E_ana, 'b--', lw=5, dashes=(2,2),\\\n",
    "            label=r'$E_{\\mathrm{ana}}$(t)', zorder=2)\n",
    "  plt.plot(pars['range_t'], F(I_ext,pars['a_E'],pars['theta_E'])\\\n",
    "          *np.ones(pars['range_t'].size), 'k--', label=r'$F(I_E^{\\mathrm{ext}})$')\n",
    "  plt.xlabel('t (ms)', fontsize=16.)\n",
    "  plt.ylabel('E activity', fontsize=16.)\n",
    "  plt.legend(loc='best', fontsize=14.)\n",
    "  plt.show()\n",
    "\n",
    "_ = widgets.interact(Myplot_E_diffI_difftau, I_ext = (0.0, 10., 1.),\\\n",
    "                                             tau_E = (1., 5., 0.2)) \n"
   ]
  },
  {
   "cell_type": "markdown",
   "metadata": {
    "colab_type": "text",
    "id": "SazqY37rPjG_"
   },
   "source": [
    "### Think!\n",
    "Above, we have numerically solved a system driven by a positive input and that, if $w_{EE} \\neq 0$, receives an excitatory recurrent input (**try changing the value of $w_{EE}$ to a positive number**). Yet, $E(t)$ either decays to zero or reaches a fixed non-zero value.\n",
    "- Why doesn't the solution of the system \"explode\" in a finite time? In other words, what guarantees that E(t) stays finite? \n",
    "- Which parameter would you change in order to increase the maximum value of the response? "
   ]
  },
  {
   "cell_type": "markdown",
   "metadata": {
    "colab_type": "text",
    "id": "kPz152Jr1Ouu"
   },
   "source": [
    "## Fixed points of the E system\n"
   ]
  },
  {
   "cell_type": "code",
   "execution_count": 12,
   "metadata": {
    "colab": {
     "base_uri": "https://localhost:8080/",
     "height": 519
    },
    "colab_type": "code",
    "id": "e28m-dir01ft",
    "outputId": "7a3692a0-71ee-480b-fbdc-6a02815ba4a8"
   },
   "outputs": [
    {
     "name": "stdout",
     "output_type": "stream",
     "text": [
      "Video available at https://youtube.com/watch?v=B31fX6V0PZ4\n"
     ]
    },
    {
     "data": {
      "image/jpeg": "[encoded data removed]",
      "text/html": [
       "\n",
       "        <iframe\n",
       "            width=\"854\"\n",
       "            height=\"480\"\n",
       "            src=\"https://www.youtube.com/embed/B31fX6V0PZ4?fs=1\"\n",
       "            frameborder=\"0\"\n",
       "            allowfullscreen\n",
       "        ></iframe>\n",
       "        "
      ],
      "text/plain": [
       "<IPython.lib.display.YouTubeVideo at 0x7f4850303590>"
      ]
     },
     "execution_count": 12,
     "metadata": {},
     "output_type": "execute_result"
    }
   ],
   "source": [
    "#@title Video: Fixed point\n",
    "from IPython.display import YouTubeVideo\n",
    "video = YouTubeVideo(id=\"B31fX6V0PZ4\", width=854, height=480, fs=1)\n",
    "print(\"Video available at https://youtube.com/watch?v=\" + video.id)\n",
    "video"
   ]
  },
  {
   "cell_type": "markdown",
   "metadata": {
    "colab_type": "text",
    "id": "oLRs3MptqvPQ"
   },
   "source": [
    "As you varied the two parameters in the last Interactive Demo, you noticed that, while at first the system output quickly changes, with time, it reaches its maximum/minimum value and does not change anymore. The value eventually reached by the system is called the **steady state** of the system, or the **fixed point**. Essentially, in the steady states the derivative with respect to time of the activity ($E$) is zero, i.e. $\\frac{dE}{dt}=0$. \n",
    "\n",
    "We can find that the steady state of the Equation $1$ by setting $\\displaystyle{\\frac{dE}{dt}=0}$ and solve for $E$:\n",
    "\n",
    "$$E_{\\text{steady}} = F(w_{EE}E_{\\text{steady}} + I^{\\text{ext}}_E;a_E,\\theta_E) = 0, \\qquad (3)$$\n",
    "\n",
    "When it exists, the solution of Equation $3$ defines a **fixed point** of the dynamics which satisfies $\\displaystyle{\\frac{dE}{dt}=0}$ (and determines steady state of the system). Notice that the right-hand side of the last equation depends itself on $E_{steady}$. If $F(x)$ is nonlinear it is not always possible to find an analytical solution that can instead be found via numerical simulations, as we will do later.\n",
    "\n",
    "From the Interactive Demo one could also notice that the value of $\\tau_E$ influences how quickly the activity will converge to the steady state from its initial value. \n",
    "\n",
    "In the specific case of $w_{EE}=0$, we can also analytically compute  the analytical solution of Equation $1$ (i.e., the thick blue dashed line) and deduce the role of $\\tau_E$ in determining the convergence to the fixed point: \n",
    "\n",
    "$$\\displaystyle{E(t) = \\big{[}F(I^{\\text{ext}}_E;a_E,\\theta_E) -E(t=0)\\big{]} (1-\\text{e}^{-\\frac{t}{\\tau_E}})} + E(t=0)$$ \\\\\n",
    "\n",
    "We can now numerically calculate the fixed point with the `scipy.optimize.root` function.\n",
    "\n",
    "<font size=3><font color='gray'>_(note that at the very beginning, we `import scipy.optimize as opt` )_</font></font>.\n",
    "\n",
    "\\\\\n",
    "\n",
    "Please execute the cell below to define the functions `my_fpE`, `check_fpE`, and `plot_fpE`"
   ]
  },
  {
   "cell_type": "code",
   "execution_count": 13,
   "metadata": {
    "cellView": "form",
    "colab": {},
    "colab_type": "code",
    "id": "bF2xtQZt9Qi4"
   },
   "outputs": [],
   "source": [
    "#@title Function of calculating the fixed point\n",
    "def my_fpE(pars, E_init):\n",
    "\n",
    "  # get the parameters\n",
    "  a_E, theta_E = pars['a_E'], pars['theta_E']\n",
    "  wEE = pars['wEE']\n",
    "  I_ext_E = pars['I_ext_E']\n",
    "  \n",
    "  # define the right hand of E dynamics\n",
    "  def my_WCr(x):\n",
    "    E = x[0]\n",
    "    dEdt=(-E + F(wEE*E+I_ext_E,a_E,theta_E))\n",
    "    y = np.array(dEdt)\n",
    "    \n",
    "    return y\n",
    "  \n",
    "  x0 = np.array(E_init)\n",
    "  x_fp = opt.root(my_WCr, x0).x\n",
    "  \n",
    "  return x_fp\n",
    "\n",
    "def check_fpE(pars, x_fp):\n",
    "\n",
    "  a_E, theta_E = pars['a_E'], pars['theta_E']\n",
    "  wEE = pars['wEE']\n",
    "  I_ext_E = pars['I_ext_E']\n",
    "\n",
    "  # calculate Equation(3)\n",
    "  y = x_fp- F(wEE*x_fp+I_ext_E, a_E, theta_E)\n",
    "\n",
    "  return np.abs(y)<1e-4\n",
    "\n",
    "def plot_fpE(pars, x_fp, mycolor):\n",
    "    \n",
    "  wEE = pars['wEE']\n",
    "  I_ext_E = pars['I_ext_E']\n",
    "\n",
    "  plt.plot(wEE*x_fp+I_ext_E, x_fp, 'o', color=mycolor)\n"
   ]
  },
  {
   "cell_type": "markdown",
   "metadata": {
    "colab_type": "text",
    "id": "mDWEXMZKttU7"
   },
   "source": [
    "#### Exercise 2: Visualization of the fixed point\n",
    "\n",
    "When no analytical solution of Equation $3$ can be found, it is often useful to plot $\\displaystyle{\\frac{dE}{dt}=0}$ as a function of $E$. The values of E for which the plotted function crosses zero on the y axis correspond to fixed points. \n",
    "\n",
    "Here, let us, for example, set $w_{EE}=5.0$ and $I^{\\text{ext}}_E=0.5$. Define $\\displaystyle{\\frac{dE}{dt}}$ using Equation $1$, plot the result, and check for the presence of fixed points. \n",
    "\n",
    "We will now try to find the fixed points using the previously defined function `my_fpE(pars, E_init)` with different initial values ($E_{\\text{init}}$). Use the previously defined function `check_fpE(pars, x_fp)` to verify that the values of $E$ for which $\\displaystyle{\\frac{dE}{dt}} = 0$ are the true fixed points."
   ]
  },
  {
   "cell_type": "code",
   "execution_count": 14,
   "metadata": {
    "colab": {},
    "colab_type": "code",
    "id": "2H4UHFa3qkjZ"
   },
   "outputs": [],
   "source": [
    "# Exercise 2\n",
    "pars = default_parsE() # get default parameters\n",
    "\n",
    "# set your external input and wEE\n",
    "pars['I_ext_E'] = 0.5\n",
    "pars['wEE'] = 5.0\n",
    "\n",
    "E_grid = np.linspace(0, 1., 1000)# give E_grid\n",
    "\n",
    "#figure, line (E, dEdt)\n",
    "###############################\n",
    "## TODO for students:         #\n",
    "## Calculate dEdt = -E + F(.) #\n",
    "## Then plot the lines        #\n",
    "###############################\n",
    "# Calculate dEdt\n",
    "# dEdt = ...\n",
    "\n",
    "# Uncomment this to plot the dEdt across E\n",
    "# plot_dE_E(E_grid, dEdt)\n",
    "\n",
    "# Add fixed point\n",
    "#####################################################\n",
    "## TODO for students:                               #\n",
    "# Calculate the fixed point with your initial value #\n",
    "# verify your fixed point and plot the corret ones  #\n",
    "#####################################################\n",
    "\n",
    "# Calculate the fixed point with your initial value\n",
    "x_fp_1 = my_fpE(pars, 1)\n",
    "\n",
    "#check if x_fp is the intersection of the lines with the given function check_fpE(pars, x_fp)\n",
    "#vary different initial values to find the correct fixed point (Should be 3)\n",
    "# Use blue, red and yellow colors, respectively ('b', 'r', 'y' codenames)\n",
    "\n",
    "# if check_fpE(pars, x_fp_1):\n",
    "#   plt.plot(x_fp_1, 0, 'bo', ms=8)\n",
    "\n",
    "# Replicate the code above (lines 35-36) for all fixed points.\n"
   ]
  },
  {
   "cell_type": "markdown",
   "metadata": {
    "colab": {
     "base_uri": "https://localhost:8080/",
     "height": 292
    },
    "colab_type": "text",
    "id": "BanscjCer4p8",
    "outputId": "e87a2b48-0b31-4040-b3e3-f0f0d7755bbe"
   },
   "source": [
    "[*Click for solution*](https://github.com/NeuromatchAcademy/course-content/tree/master//tutorials/W3D2_DynamicNetworks/solutions/W3D2_Tutorial1_Solution_e231986d.py)\n",
    "\n",
    "*Example output:*\n",
    "\n",
    "<img alt='Solution hint' align='left' width=432 height=281 src=https://raw.githubusercontent.com/NeuromatchAcademy/course-content/master/tutorials/W3D2_DynamicNetworks/static/W3D2_Tutorial1_Solution_e231986d_3.png>\n",
    "\n"
   ]
  },
  {
   "cell_type": "markdown",
   "metadata": {
    "colab_type": "text",
    "id": "wwNMGXYGBa5l"
   },
   "source": [
    "#### Interactive Demo: fixed points as a function of recurrent and external inputs.\n",
    "\n",
    "You can now explore how the previous plot changes when the recurrent coupling $w_{\\text{EE}}$ and the external input $I_E^{\\text{ext}}$ take different values."
   ]
  },
  {
   "cell_type": "code",
   "execution_count": 16,
   "metadata": {
    "cellView": "form",
    "colab": {
     "base_uri": "https://localhost:8080/",
     "height": 351,
     "referenced_widgets": [
      "d4f80b97f4a747e0b6a827f376819f5b",
      "43efec5bd73c4660a4df85c7cdcff00f",
      "7667ce1b59db42f38a7afc226b3e5364",
      "75fcd09d030146bda01d3312e9ab5a00",
      "fbe7f75e5c164ab9841ebd2292ab4f37",
      "b61a01f50e9c42d1bf4ec1aabbbe1980",
      "5288fced966b4602b4144509c1ac2cc9",
      "34e670d4275147c48e03e212818214c5",
      "c54e6cdd901c4d269dcc5bfd4d957d33",
      "af3e205a335844d5b0a8208c70304c71"
     ]
    },
    "colab_type": "code",
    "id": "8sg7vgP-lCZG",
    "outputId": "ae3e90f9-ef3b-4e31-86be-20e2c9f205bf"
   },
   "outputs": [
    {
     "data": {
      "image/png": "[encoded data removed]",
      "text/plain": [
       "<Figure size 432x288 with 1 Axes>"
      ]
     },
     "metadata": {
      "needs_background": "light"
     },
     "output_type": "display_data"
    }
   ],
   "source": [
    "#@title Fixed point Explorer\n",
    "\n",
    "def plot_intersection_E(wEE, I_ext_E):\n",
    "  #set your parameters\n",
    "  pars['wEE'] = wEE\n",
    "  pars['I_ext_E'] = I_ext_E\n",
    "\n",
    "  #note that wEE !=0\n",
    "  if wEE>0:\n",
    "    # find fixed point\n",
    "    x_fp_1 = my_fpE(pars, 0.)\n",
    "    x_fp_2 = my_fpE(pars, 0.4)\n",
    "    x_fp_3 = my_fpE(pars, 0.9)\n",
    "\n",
    "    plt.figure()\n",
    "    E_grid = np.linspace(0, 1., 1000)\n",
    "    dEdt = -E_grid + F(wEE*E_grid+I_ext_E, pars['a_E'],  pars['theta_E'])\n",
    "\n",
    "    plt.plot(E_grid, dEdt, 'k')\n",
    "    plt.plot(E_grid, 0.*E_grid, 'k--')\n",
    "    \n",
    "    if check_fpE(pars, x_fp_1):\n",
    "        plt.plot(x_fp_1, 0, 'bo', ms=8)\n",
    "    if check_fpE(pars, x_fp_2):\n",
    "        plt.plot(x_fp_2, 0, 'bo', ms=8)\n",
    "    if check_fpE(pars, x_fp_3):\n",
    "        plt.plot(x_fp_3, 0, 'bo', ms=8)\n",
    "\n",
    "    plt.xlabel('E activity', fontsize=14.)\n",
    "    plt.ylabel(r'$\\frac{dE}{dt}$', fontsize=18.)\n",
    "\n",
    "    plt.show()\n",
    "\n",
    "_ = widgets.interact(plot_intersection_E, wEE = (1., 7., 0.2), \\\n",
    "                                          I_ext_E = (0., 3., 0.1)) "
   ]
  },
  {
   "cell_type": "markdown",
   "metadata": {
    "colab_type": "text",
    "id": "fyrPM1Jbyo_g"
   },
   "source": [
    "## Summary\n",
    "\n",
    "In this tutorial, we have investigated the dynamics of a rate-based single excitatory population of neurons.\n",
    "\n",
    "We learned about:\n",
    "- The effect of the input parameters and the time constant of the network on the dynamics of the population.\n",
    "- How to find the fixed point(s) of the system.\n",
    "\n",
    "Next, we have two Bonus, but important concepts in dynamical system analysis and simulation. If you have time left, watch the next video and proceed to solve the exercises. You will learn:\n",
    "\n",
    "- How to determine the stability of a fixed point by linearizing the system.\n",
    "- How to add realistic inputs to our model."
   ]
  },
  {
   "cell_type": "markdown",
   "metadata": {
    "colab_type": "text",
    "id": "aVOG-mq54Rdn"
   },
   "source": [
    "## Bonus 1: Stability of a fixed point"
   ]
  },
  {
   "cell_type": "code",
   "execution_count": 17,
   "metadata": {
    "cellView": "form",
    "colab": {
     "base_uri": "https://localhost:8080/",
     "height": 519
    },
    "colab_type": "code",
    "id": "ANa4mTHU1bAY",
    "outputId": "561aca11-a03d-44c9-f6d5-4c5106ad398e"
   },
   "outputs": [
    {
     "name": "stdout",
     "output_type": "stream",
     "text": [
      "Video available at https://youtube.com/watch?v=nvxxf59w2EA\n"
     ]
    },
    {
     "data": {
      "image/jpeg": "[encoded data removed]",
      "text/html": [
       "\n",
       "        <iframe\n",
       "            width=\"854\"\n",
       "            height=\"480\"\n",
       "            src=\"https://www.youtube.com/embed/nvxxf59w2EA?fs=1\"\n",
       "            frameborder=\"0\"\n",
       "            allowfullscreen\n",
       "        ></iframe>\n",
       "        "
      ],
      "text/plain": [
       "<IPython.lib.display.YouTubeVideo at 0x7f48502f9a50>"
      ]
     },
     "execution_count": 17,
     "metadata": {},
     "output_type": "execute_result"
    }
   ],
   "source": [
    "#@title Video: Stability of fixed points\n",
    "from IPython.display import YouTubeVideo\n",
    "video = YouTubeVideo(id=\"nvxxf59w2EA\", width=854, height=480, fs=1)\n",
    "print(\"Video available at https://youtube.com/watch?v=\" + video.id)\n",
    "video"
   ]
  },
  {
   "cell_type": "markdown",
   "metadata": {
    "colab_type": "text",
    "id": "ZBMGFCjICfyn"
   },
   "source": [
    "#### Initial values and trajectories\n",
    "\n",
    "Here, let us first set $w_{EE}=5.0$ and $I^{\\text{ext}}_E=0.5$, and investigate the dynamics of $E(t)$ starting with different initial values $E(0) \\equiv E_{\\text{init}}$. We will plot the trajectories of $E(t)$ with $E_{\\text{init}} = 0.0, 0.1, 0.2,..., 0.9$."
   ]
  },
  {
   "cell_type": "code",
   "execution_count": 18,
   "metadata": {
    "cellView": "form",
    "colab": {
     "base_uri": "https://localhost:8080/",
     "height": 415
    },
    "colab_type": "code",
    "id": "-Yxw8Ba0lCOk",
    "outputId": "4ff563bc-fa92-4b50-8a6f-68efc5722d5c"
   },
   "outputs": [
    {
     "data": {
      "image/png": "[encoded data removed]",
      "text/plain": [
       "<Figure size 720x432 with 1 Axes>"
      ]
     },
     "metadata": {
      "needs_background": "light"
     },
     "output_type": "display_data"
    }
   ],
   "source": [
    "#@title Initial values\n",
    "pars = default_parsE()\n",
    "pars['wEE'] = 5.0\n",
    "pars['I_ext_E'] = 0.5\n",
    "\n",
    "plt.figure(figsize=(10,6))\n",
    "for ie in range(10):          \n",
    "  pars['E_init'] =  0.1*ie # set the initial value\n",
    "  E = simulate_E(pars)   # run the simulation\n",
    "  # plot the activity with given initial\n",
    "  plt.plot(pars['range_t'], E, 'b', alpha=0.1 + 0.1*ie, label= r'E$_{\\mathrm{init}}$=%.1f' % (0.1*ie))\n",
    "\n",
    "plt.xlabel('t (ms)')\n",
    "plt.title('Two steady states?')\n",
    "plt.ylabel('E(t)')\n",
    "plt.legend(loc=[0.72, 0.13], fontsize=14)\n",
    "plt.show()\n"
   ]
  },
  {
   "cell_type": "markdown",
   "metadata": {
    "colab_type": "text",
    "id": "jpfoNrK-2NXO"
   },
   "source": [
    "#### Interactive Demo: dynamics as a function of the initial value.\n",
    "\n",
    "\n",
    "Let's now set $E_{init}$ to a value of your choice in this demo. How does the solution change? What do you observe?"
   ]
  },
  {
   "cell_type": "code",
   "execution_count": 19,
   "metadata": {
    "cellView": "form",
    "colab": {
     "base_uri": "https://localhost:8080/",
     "height": 320,
     "referenced_widgets": [
      "dfa76f1ac36c4a489784b9befa4a479d",
      "a08222a352444c339242583db6264daf",
      "6d365ce3edff4e378365607ce98ba7e7",
      "032674788d9a459c8b26119b5cb9273a",
      "3176b118e05e4f8cb5a3a5979c09a1f2",
      "52be30ff88fb43cb9ecc62b822a15fdf",
      "2320cbef490f40238d326b05cd59a336"
     ]
    },
    "colab_type": "code",
    "id": "-Wxb8d72EUJ1",
    "outputId": "1d5dabfe-fef5-48fa-edd1-aecac2569722"
   },
   "outputs": [
    {
     "data": {
      "image/png": "[encoded data removed]",
      "text/plain": [
       "<Figure size 432x288 with 1 Axes>"
      ]
     },
     "metadata": {
      "needs_background": "light"
     },
     "output_type": "display_data"
    }
   ],
   "source": [
    "#@title Initial value Explorer\n",
    "pars = default_parsE()\n",
    "pars['wEE'] = 5.0\n",
    "pars['I_ext_E'] = 0.5\n",
    "\n",
    "def plot_E_diffEinit(E_init):\n",
    "  pars['E_init'] =  E_init\n",
    "  E = simulate_E(pars)\n",
    "  \n",
    "  plt.figure()\n",
    "  plt.plot(pars['range_t'], E, 'b', label='E(t)')\n",
    "  plt.xlabel('t (ms)', fontsize=16.)\n",
    "  plt.ylabel('E activity', fontsize=16.)\n",
    "  plt.show()\n",
    "\n",
    "_ = widgets.interact(plot_E_diffEinit, E_init = (0., 1., 0.02)) "
   ]
  },
  {
   "cell_type": "markdown",
   "metadata": {
    "colab_type": "text",
    "id": "7GfCUmfPD8AJ"
   },
   "source": [
    "### Stability analysis via linearization of the dynamics\n",
    "\n",
    "Just like Equation $1$ in the case ($w_{EE}=0$) discussed above, a generic linear system \n",
    "$$\\frac{dx}{dt} = \\lambda (x - b),$$ \n",
    "has a fixed point for $x=b$. The analytical solution of such a system can be found to be:\n",
    "$$x(t) = b + \\big{(} x(0) - b \\big{)} \\text{e}^{\\lambda t}.$$ \n",
    "Now consider a small perturbation of the activity around the fixed point: $x(0) = b+ \\epsilon$, where $|\\epsilon| \\ll 1$. Will the perturbation $\\epsilon(t)$ grow with time or will it decay to the fixed point? The evolution of the perturbation with time can be written, using the analytical solution for $x(t)$, as:\n",
    " $$\\epsilon (t) = x(t) - b = \\epsilon \\text{e}^{\\lambda t}$$\n",
    "\n",
    "- if $\\lambda < 0$, $\\epsilon(t)$ decays to zero, $x(t)$ will still converge to $b$ and the fixed point is \"**stable**\".\n",
    "\n",
    "- if $\\lambda > 0$, $\\epsilon(t)$ grows with time, $x(t)$ will leave the fixed point $b$ exponentially and the fixed point is, therefore, \"**unstable**\" ."
   ]
  },
  {
   "cell_type": "markdown",
   "metadata": {
    "colab_type": "text",
    "id": "We_283Jsww-l"
   },
   "source": [
    "### Compute the stability of Equation (1)\n",
    "\n",
    "Similar to what we did in the linear system above, in order to determine the stability of a fixed point $E_{\\rm fp}$ of the excitatory population dynamics, we perturb Equation $1$ around $E_{\\rm fp}$ by $\\epsilon$, i.e. $E = E_{\\rm fp} + \\epsilon$. We can plug in Equation $1$ and obtain the equation determining the time evolution of the perturbation $\\epsilon(t)$:\n",
    "\n",
    "\\begin{align}\n",
    "\\tau_E \\frac{d\\epsilon}{dt} \\approx -\\epsilon + w_{EE} F'(w_{EE}E_{\\text{fp}} + I^{\\text{ext}}_E;a_E,\\theta_E) \\epsilon \n",
    "\\end{align}\n",
    "where $F'(\\cdot)$ is the derivative of the transfer function $F(\\cdot)$. We can rewrite the above equation as:\n",
    "\\begin{align}\n",
    "\\frac{d\\epsilon}{dt} \\approx \\frac{\\epsilon}{\\tau_E }[-1 + w_{EE} F'(w_{EE}E_{\\text{fp}} + I^{\\text{ext}}_E;a_E,\\theta_E)] \n",
    "\\end{align}\n",
    "\n",
    "That is, as in the linear system above, the value of $\\lambda = [-1+ w_{EE}F'(w_{EE}E_{\\text{fp}} + I^{\\text{ext}}_E;a_E,\\theta_E)]/\\tau_E$ determines whether the perturbation will grow or decay to zero, i.e., $\\lambda$ defines the stability of the fixed point. This value is called the **eigenvalue** of the dynamical system."
   ]
  },
  {
   "cell_type": "markdown",
   "metadata": {
    "colab_type": "text",
    "id": "sYvzeee7xXv-"
   },
   "source": [
    "### Exercise 4: Compute $dF$ and Eigenvalue\n",
    "\n",
    "The derivative of the sigmoid transfer function is:\n",
    "\\begin{align} \n",
    "\\frac{dF}{dx} & = \\frac{d}{dx} (1+\\exp\\{-a(x-\\theta)\\})^{-1}  \\\\\n",
    "& = a\\exp\\{-a(x-\\theta)\\} (1+\\exp\\{-a(x-\\theta)\\})^{-2}. \n",
    "\\end{align}\n",
    "\n",
    "Let's now find the expression for the derivative $\\displaystyle{\\frac{dF}{dx}}$ in the following cell and plot it."
   ]
  },
  {
   "cell_type": "code",
   "execution_count": 20,
   "metadata": {
    "colab": {},
    "colab_type": "code",
    "id": "ltwFK_Kr4OMJ"
   },
   "outputs": [],
   "source": [
    "# Exercise 4\n",
    "\n",
    "def dF(x,a,theta): \n",
    "    \"\"\"\n",
    "    Population activation function.\n",
    "\n",
    "    Args:\n",
    "      x     : the population input\n",
    "      a     : the gain of the function\n",
    "      theta : the threshold of the function\n",
    "    \n",
    "    Returns:\n",
    "      dFdx  : the population activation response F(x) for input x\n",
    "    \"\"\"\n",
    "\n",
    "    #####################################################################\n",
    "    ## TODO for students: compute dFdx, then remove NotImplementedError #\n",
    "    #####################################################################\n",
    "    # dFdx = ...\n",
    "    raise NotImplementedError(\"Student excercise: compute the deravitive of F(x)\")\n",
    "\n",
    "    return dFdx\n",
    "\n",
    "pars = default_parsE() # get default parameters\n",
    "x = np.arange(0,10,.1) # set the range of input\n",
    "\n",
    "# Uncomment below lines after completing the dF function\n",
    "# plot_dFdt(x,dF(x,pars['a_E'],pars['theta_E']))\n"
   ]
  },
  {
   "cell_type": "markdown",
   "metadata": {
    "colab": {
     "base_uri": "https://localhost:8080/",
     "height": 286
    },
    "colab_type": "text",
    "id": "XnWExh9PHjXx",
    "outputId": "23254572-52ae-477b-93cc-ef5c1c9d0538"
   },
   "source": [
    "[*Click for solution*](https://github.com/NeuromatchAcademy/course-content/tree/master//tutorials/W3D2_DynamicNetworks/solutions/W3D2_Tutorial1_Solution_1b43f8f1.py)\n",
    "\n",
    "*Example output:*\n",
    "\n",
    "<img alt='Solution hint' align='left' width=409 height=275 src=https://raw.githubusercontent.com/NeuromatchAcademy/course-content/master/tutorials/W3D2_DynamicNetworks/static/W3D2_Tutorial1_Solution_1b43f8f1_0.png>\n",
    "\n"
   ]
  },
  {
   "cell_type": "markdown",
   "metadata": {
    "colab_type": "text",
    "id": "dBj1ptgvI-Wi"
   },
   "source": [
    "### Exercise 5: Compute eigenvalues \n",
    "\n",
    "As discussed above, for the case with $w_{EE}=5.0$ and $I^{\\text{ext}}_E=0.5$, the system displays **3** fixed points. However, when we simulated the dynamics and varied the initial conditions $E_{\\rm init}$, we could only obtain **two** steady states. In this exercise, we will now check the stability of each of the $3$ fixed points by calculating the corresponding eigenvalues with the function `eig_E` defined above. Check the sign of each eigenvalue (i.e., stability of each fixed point). How many of the fixed points are stable?"
   ]
  },
  {
   "cell_type": "code",
   "execution_count": 22,
   "metadata": {
    "colab": {},
    "colab_type": "code",
    "id": "aWijQ8UoKToC"
   },
   "outputs": [],
   "source": [
    "# Exercise 5\n",
    "pars = default_parsE()\n",
    "pars['wEE'] = 5.0\n",
    "pars['I_ext_E'] = 0.5\n",
    "\n",
    "def eig_E(pars, fp):\n",
    "  \"\"\"\n",
    "  Args:\n",
    "    pars : Parameter dictionary\n",
    "    fp   : fixed point E\n",
    "  \n",
    "  Returns:\n",
    "    eig : eigevalue of the linearized system\n",
    "  \"\"\"\n",
    "  \n",
    "  #get the parameters\n",
    "  tau_E, a_E, theta_E = pars['tau_E'], pars['a_E'], pars['theta_E']\n",
    "  wEE, I_ext_E = pars['wEE'],  pars['I_ext_E']\n",
    "  # fixed point\n",
    "  E = fp\n",
    "\n",
    "  #######################################################################\n",
    "  ## TODO for students: compute eigenvalue, remove NotImplementedError  #\n",
    "  #######################################################################\n",
    "  # eig = ...\n",
    "  raise NotImplementedError(\"Student excercise: compute the eigenvalue\")\n",
    "\n",
    "  return eig\n",
    "\n",
    "# Uncomment below lines after completing the eigE function.\n",
    "# x_fp_1 = fpE(pars, 0.)\n",
    "# eig_fp_1 = eig_E(pars, x_fp_1)\n",
    "# print('Fixed point1=%.3f, Eigenvalue=%.3f' % (x_fp_1, eig_E1))\n",
    "\n",
    "# Continue by finding the eigenvalues for all fixed points of Exercise 2"
   ]
  },
  {
   "cell_type": "markdown",
   "metadata": {
    "colab": {
     "base_uri": "https://localhost:8080/",
     "height": 69
    },
    "colab_type": "text",
    "id": "JS--teci4OJP",
    "outputId": "6458e9f5-945d-43a6-9bd2-bf718a595c25"
   },
   "source": [
    "[*Click for solution*](https://github.com/NeuromatchAcademy/course-content/tree/master//tutorials/W3D2_DynamicNetworks/solutions/W3D2_Tutorial1_Solution_3979c031.py)\n",
    "\n"
   ]
  },
  {
   "cell_type": "markdown",
   "metadata": {
    "colab_type": "text",
    "id": "CMMC70D0UnOR"
   },
   "source": [
    "### Think! \n",
    "Throughout the tutorial, we have assumed $w_{\\rm EE}> 0 $, i.e., we considered a single population of **excitatory** neurons. What do you think will be the behavior of a population of inhibitory neurons, i.e., where $w_{\\rm EE}> 0$ is replaced by $w_{\\rm II}< 0$? "
   ]
  },
  {
   "cell_type": "markdown",
   "metadata": {
    "colab_type": "text",
    "id": "6Yrw1jeTe7Kt"
   },
   "source": [
    "## Bonus 2: Noisy input drives transition between two stable states\n",
    "\n"
   ]
  },
  {
   "cell_type": "markdown",
   "metadata": {
    "colab_type": "text",
    "id": "EEeJHvHZfL3d"
   },
   "source": [
    "### Ornstein-Uhlenbeck (OU) process\n",
    "\n",
    "As discussed in several previous tutorials, the OU process is usually used to generate a noisy input into the neuron. The OU input $\\eta(t)$ follows: \n",
    "\n",
    "$$\\tau_\\eta \\frac{d}{dt}\\eta(t) = -\\eta (t) + \\sigma_\\eta\\sqrt{2\\tau_\\eta}\\xi(t)$$\n",
    "\n",
    "Execute the following function `my_OU(pars, sig, myseed=False)` to generate an OU process."
   ]
  },
  {
   "cell_type": "code",
   "execution_count": 24,
   "metadata": {
    "cellView": "form",
    "colab": {
     "base_uri": "https://localhost:8080/",
     "height": 288
    },
    "colab_type": "code",
    "id": "vcr7Og51fIu3",
    "outputId": "ae8e1808-001e-4ba7-8819-c0062c6ef996"
   },
   "outputs": [
    {
     "data": {
      "image/png": "[encoded data removed]",
      "text/plain": [
       "<Figure size 720x288 with 1 Axes>"
      ]
     },
     "metadata": {
      "needs_background": "light"
     },
     "output_type": "display_data"
    }
   ],
   "source": [
    "#@title OU process `my_OU(pars, sig, myseed=False)`\n",
    "def my_OU(pars, sig, myseed=False):\n",
    "  \"\"\"\n",
    "  A functions that generates Ornstein-Uhlenback process\n",
    "\n",
    "  Args:\n",
    "    pars       : parameter dictionary\n",
    "    sig        : noise amplitute\n",
    "    myseed     : random seed. int or boolean\n",
    "  \n",
    "  Returns:\n",
    "    I          : Ornstein-Uhlenbeck input current\n",
    "  \"\"\"\n",
    "  \n",
    "  # Retrieve simulation parameters\n",
    "  dt, range_t = pars['dt'], pars['range_t']\n",
    "  Lt = range_t.size\n",
    "  tau_ou = pars['tau_ou'] # [ms]\n",
    "  \n",
    "  # set random seed\n",
    "  if myseed:\n",
    "      np.random.seed(seed=myseed) \n",
    "  else:\n",
    "      np.random.seed()\n",
    "      \n",
    "  # Initialize\n",
    "  noise =  np.random.randn(Lt)\n",
    "  I = np.zeros(Lt)\n",
    "  I[0] = noise[0] * sig\n",
    "  \n",
    "  #generate OU\n",
    "  for it in range(Lt-1):\n",
    "      I[it+1] = I[it] + dt/tau_ou*(0.-I[it]) + np.sqrt(2.*dt/tau_ou) * sig * noise[it+1]\n",
    "  \n",
    "  return I\n",
    "\n",
    "pars = default_parsE(T=100)\n",
    "pars['tau_ou'] = 1. #[ms]\n",
    "sig_ou = 0.1\n",
    "I_ou = my_OU(pars, sig=sig_ou, myseed=1998)\n",
    "plt.figure(figsize=(10, 4))\n",
    "plt.plot(pars['range_t'], I_ou, 'b')\n",
    "plt.xlabel('Time (ms)')\n",
    "plt.ylabel(r'$I_{\\mathrm{OU}}$');"
   ]
  },
  {
   "cell_type": "markdown",
   "metadata": {
    "colab_type": "text",
    "id": "zJV8UIlZgrh0"
   },
   "source": [
    "### Bonus Example: Up-Down transition\n",
    "\n",
    "In the presence of two or more fixed points, noisy inputs can drive a transition between the fixed points! Here, we stimulate an E population for 1,000 ms applying OU inputs."
   ]
  },
  {
   "cell_type": "code",
   "execution_count": 25,
   "metadata": {
    "cellView": "form",
    "colab": {
     "base_uri": "https://localhost:8080/",
     "height": 293
    },
    "colab_type": "code",
    "id": "2ctSJ2E7fRQi",
    "outputId": "538c6420-3e92-49c9-dbfa-b580f803f4c7"
   },
   "outputs": [
    {
     "data": {
      "image/png": "[encoded data removed]",
      "text/plain": [
       "<Figure size 720x288 with 1 Axes>"
      ]
     },
     "metadata": {
      "needs_background": "light"
     },
     "output_type": "display_data"
    }
   ],
   "source": [
    "#@title Simulation of an E population with OU inputs\n",
    "pars = default_parsE(T = 1000)\n",
    "pars['wEE'] = 5.0\n",
    "sig_ou = 0.7\n",
    "pars['tau_ou'] = 1. #[ms]\n",
    "pars['I_ext_E'] = 0.56 + my_OU(pars, sig=sig_ou, myseed=2020)\n",
    "\n",
    "E = simulate_E(pars)\n",
    "\n",
    "plt.figure(figsize=(10, 4))\n",
    "plt.plot(pars['range_t'], E, 'r', alpha=0.8)\n",
    "plt.xlabel('t (ms)')\n",
    "plt.ylabel('E activity')\n",
    "plt.show()"
   ]
  }
 ],
 "metadata": {
  "colab": {
   "collapsed_sections": [],
   "include_colab_link": true,
   "name": "NeuromatchAcademy_W3D2_Tutorial1",
   "provenance": [],
   "toc_visible": true
  },
  "kernelspec": {
   "display_name": "Python 3",
   "name": "python3"
  },
  "language_info": {
   "codemirror_mode": {
    "name": "ipython",
    "version": 3
   },
   "file_extension": ".py",
   "mimetype": "text/x-python",
   "name": "python",
   "nbconvert_exporter": "python",
   "pygments_lexer": "ipython3",
   "version": "3.7.7"
  },
  "widgets": {
   "application/vnd.jupyter.widget-state+json": {
    "state": {
     "035c74b285bb4f52a3fbb50c8116fe97": {
      "model_module": "@jupyter-widgets/base",
      "model_module_version": "1.2.0",
      "model_name": "LayoutModel",
      "state": {
       "_model_module": "@jupyter-widgets/base",
       "_model_module_version": "1.2.0",
       "_model_name": "LayoutModel",
       "_view_count": null,
       "_view_module": "@jupyter-widgets/base",
       "_view_module_version": "1.2.0",
       "_view_name": "LayoutView",
       "align_content": null,
       "align_items": null,
       "align_self": null,
       "border": null,
       "bottom": null,
       "display": null,
       "flex": null,
       "flex_flow": null,
       "grid_area": null,
       "grid_auto_columns": null,
       "grid_auto_flow": null,
       "grid_auto_rows": null,
       "grid_column": null,
       "grid_gap": null,
       "grid_row": null,
       "grid_template_areas": null,
       "grid_template_columns": null,
       "grid_template_rows": null,
       "height": null,
       "justify_content": null,
       "justify_items": null,
       "left": null,
       "margin": null,
       "max_height": null,
       "max_width": null,
       "min_height": null,
       "min_width": null,
       "object_fit": null,
       "object_position": null,
       "order": null,
       "overflow": null,
       "overflow_x": null,
       "overflow_y": null,
       "padding": null,
       "right": null,
       "top": null,
       "visibility": null,
       "width": null
      }
     },
     "0601e4f3f6204c87b960148dfc63286a": {
      "model_module": "@jupyter-widgets/controls",
      "model_module_version": "1.5.0",
      "model_name": "SliderStyleModel",
      "state": {
       "_model_module": "@jupyter-widgets/controls",
       "_model_module_version": "1.5.0",
       "_model_name": "SliderStyleModel",
       "_view_count": null,
       "_view_module": "@jupyter-widgets/base",
       "_view_module_version": "1.2.0",
       "_view_name": "StyleView",
       "description_width": "",
       "handle_color": null
      }
     },
     "09adf963f55445fea0bfae53b066f28d": {
      "model_module": "@jupyter-widgets/base",
      "model_module_version": "1.2.0",
      "model_name": "LayoutModel",
      "state": {
       "_model_module": "@jupyter-widgets/base",
       "_model_module_version": "1.2.0",
       "_model_name": "LayoutModel",
       "_view_count": null,
       "_view_module": "@jupyter-widgets/base",
       "_view_module_version": "1.2.0",
       "_view_name": "LayoutView",
       "align_content": null,
       "align_items": null,
       "align_self": null,
       "border": null,
       "bottom": null,
       "display": null,
       "flex": null,
       "flex_flow": null,
       "grid_area": null,
       "grid_auto_columns": null,
       "grid_auto_flow": null,
       "grid_auto_rows": null,
       "grid_column": null,
       "grid_gap": null,
       "grid_row": null,
       "grid_template_areas": null,
       "grid_template_columns": null,
       "grid_template_rows": null,
       "height": null,
       "justify_content": null,
       "justify_items": null,
       "left": null,
       "margin": null,
       "max_height": null,
       "max_width": null,
       "min_height": null,
       "min_width": null,
       "object_fit": null,
       "object_position": null,
       "order": null,
       "overflow": null,
       "overflow_x": null,
       "overflow_y": null,
       "padding": null,
       "right": null,
       "top": null,
       "visibility": null,
       "width": null
      }
     },
     "1883607221ba483699359fe9c1321c4a": {
      "model_module": "@jupyter-widgets/controls",
      "model_module_version": "1.5.0",
      "model_name": "FloatSliderModel",
      "state": {
       "_dom_classes": [],
       "_model_module": "@jupyter-widgets/controls",
       "_model_module_version": "1.5.0",
       "_model_name": "FloatSliderModel",
       "_view_count": null,
       "_view_module": "@jupyter-widgets/controls",
       "_view_module_version": "1.5.0",
       "_view_name": "FloatSliderView",
       "continuous_update": true,
       "description": "a",
       "description_tooltip": null,
       "disabled": false,
       "layout": "IPY_MODEL_f4f07ebc2da8421ab2b58d892400c826",
       "max": 3.0,
       "min": 0.3,
       "orientation": "horizontal",
       "readout": true,
       "readout_format": ".2f",
       "step": 0.3,
       "style": "IPY_MODEL_c401f617e43342d7a13af18593adb482",
       "value": 1.5
      }
     },
     "22a63d4a10ba48f9ba5489c75b9c9d5c": {
      "model_module": "@jupyter-widgets/base",
      "model_module_version": "1.2.0",
      "model_name": "LayoutModel",
      "state": {
       "_model_module": "@jupyter-widgets/base",
       "_model_module_version": "1.2.0",
       "_model_name": "LayoutModel",
       "_view_count": null,
       "_view_module": "@jupyter-widgets/base",
       "_view_module_version": "1.2.0",
       "_view_name": "LayoutView",
       "align_content": null,
       "align_items": null,
       "align_self": null,
       "border": null,
       "bottom": null,
       "display": null,
       "flex": null,
       "flex_flow": null,
       "grid_area": null,
       "grid_auto_columns": null,
       "grid_auto_flow": null,
       "grid_auto_rows": null,
       "grid_column": null,
       "grid_gap": null,
       "grid_row": null,
       "grid_template_areas": null,
       "grid_template_columns": null,
       "grid_template_rows": null,
       "height": null,
       "justify_content": null,
       "justify_items": null,
       "left": null,
       "margin": null,
       "max_height": null,
       "max_width": null,
       "min_height": null,
       "min_width": null,
       "object_fit": null,
       "object_position": null,
       "order": null,
       "overflow": null,
       "overflow_x": null,
       "overflow_y": null,
       "padding": null,
       "right": null,
       "top": null,
       "visibility": null,
       "width": null
      }
     },
     "2bdff5e94925476a8cf5732ae6dfdd3f": {
      "model_module": "@jupyter-widgets/output",
      "model_module_version": "1.0.0",
      "model_name": "OutputModel",
      "state": {
       "_dom_classes": [],
       "_model_module": "@jupyter-widgets/output",
       "_model_module_version": "1.0.0",
       "_model_name": "OutputModel",
       "_view_count": null,
       "_view_module": "@jupyter-widgets/output",
       "_view_module_version": "1.0.0",
       "_view_name": "OutputView",
       "layout": "IPY_MODEL_7a9cc7bf03d04fca84574d6ed0c3faaf",
       "msg_id": "",
       "outputs": []
      }
     },
     "3abbbd87e0434d359824857b462320a7": {
      "model_module": "@jupyter-widgets/controls",
      "model_module_version": "1.5.0",
      "model_name": "FloatSliderModel",
      "state": {
       "_dom_classes": [],
       "_model_module": "@jupyter-widgets/controls",
       "_model_module_version": "1.5.0",
       "_model_name": "FloatSliderModel",
       "_view_count": null,
       "_view_module": "@jupyter-widgets/controls",
       "_view_module_version": "1.5.0",
       "_view_name": "FloatSliderView",
       "continuous_update": true,
       "description": "I_ext",
       "description_tooltip": null,
       "disabled": false,
       "layout": "IPY_MODEL_85210394f8d546a8b6bcbbdad85dfd2b",
       "max": 10.0,
       "min": 0.0,
       "orientation": "horizontal",
       "readout": true,
       "readout_format": ".2f",
       "step": 1.0,
       "style": "IPY_MODEL_a95883604a6f4e96a5bdeff360745caa",
       "value": 5.0
      }
     },
     "3b1e4ee63285463a86073b388d8e5d07": {
      "model_module": "@jupyter-widgets/base",
      "model_module_version": "1.2.0",
      "model_name": "LayoutModel",
      "state": {
       "_model_module": "@jupyter-widgets/base",
       "_model_module_version": "1.2.0",
       "_model_name": "LayoutModel",
       "_view_count": null,
       "_view_module": "@jupyter-widgets/base",
       "_view_module_version": "1.2.0",
       "_view_name": "LayoutView",
       "align_content": null,
       "align_items": null,
       "align_self": null,
       "border": null,
       "bottom": null,
       "display": null,
       "flex": null,
       "flex_flow": null,
       "grid_area": null,
       "grid_auto_columns": null,
       "grid_auto_flow": null,
       "grid_auto_rows": null,
       "grid_column": null,
       "grid_gap": null,
       "grid_row": null,
       "grid_template_areas": null,
       "grid_template_columns": null,
       "grid_template_rows": null,
       "height": null,
       "justify_content": null,
       "justify_items": null,
       "left": null,
       "margin": null,
       "max_height": null,
       "max_width": null,
       "min_height": null,
       "min_width": null,
       "object_fit": null,
       "object_position": null,
       "order": null,
       "overflow": null,
       "overflow_x": null,
       "overflow_y": null,
       "padding": null,
       "right": null,
       "top": null,
       "visibility": null,
       "width": null
      }
     },
     "3c8c731d951141db852285673aa45d84": {
      "model_module": "@jupyter-widgets/output",
      "model_module_version": "1.0.0",
      "model_name": "OutputModel",
      "state": {
       "_dom_classes": [],
       "_model_module": "@jupyter-widgets/output",
       "_model_module_version": "1.0.0",
       "_model_name": "OutputModel",
       "_view_count": null,
       "_view_module": "@jupyter-widgets/output",
       "_view_module_version": "1.0.0",
       "_view_name": "OutputView",
       "layout": "IPY_MODEL_4b4c443ade1a4d7bb5367249b88fefe8",
       "msg_id": "",
       "outputs": []
      }
     },
     "460a1f584ecb4dbaa9ea3b5139f41c60": {
      "model_module": "@jupyter-widgets/base",
      "model_module_version": "1.2.0",
      "model_name": "LayoutModel",
      "state": {
       "_model_module": "@jupyter-widgets/base",
       "_model_module_version": "1.2.0",
       "_model_name": "LayoutModel",
       "_view_count": null,
       "_view_module": "@jupyter-widgets/base",
       "_view_module_version": "1.2.0",
       "_view_name": "LayoutView",
       "align_content": null,
       "align_items": null,
       "align_self": null,
       "border": null,
       "bottom": null,
       "display": null,
       "flex": null,
       "flex_flow": null,
       "grid_area": null,
       "grid_auto_columns": null,
       "grid_auto_flow": null,
       "grid_auto_rows": null,
       "grid_column": null,
       "grid_gap": null,
       "grid_row": null,
       "grid_template_areas": null,
       "grid_template_columns": null,
       "grid_template_rows": null,
       "height": null,
       "justify_content": null,
       "justify_items": null,
       "left": null,
       "margin": null,
       "max_height": null,
       "max_width": null,
       "min_height": null,
       "min_width": null,
       "object_fit": null,
       "object_position": null,
       "order": null,
       "overflow": null,
       "overflow_x": null,
       "overflow_y": null,
       "padding": null,
       "right": null,
       "top": null,
       "visibility": null,
       "width": null
      }
     },
     "4b4c443ade1a4d7bb5367249b88fefe8": {
      "model_module": "@jupyter-widgets/base",
      "model_module_version": "1.2.0",
      "model_name": "LayoutModel",
      "state": {
       "_model_module": "@jupyter-widgets/base",
       "_model_module_version": "1.2.0",
       "_model_name": "LayoutModel",
       "_view_count": null,
       "_view_module": "@jupyter-widgets/base",
       "_view_module_version": "1.2.0",
       "_view_name": "LayoutView",
       "align_content": null,
       "align_items": null,
       "align_self": null,
       "border": null,
       "bottom": null,
       "display": null,
       "flex": null,
       "flex_flow": null,
       "grid_area": null,
       "grid_auto_columns": null,
       "grid_auto_flow": null,
       "grid_auto_rows": null,
       "grid_column": null,
       "grid_gap": null,
       "grid_row": null,
       "grid_template_areas": null,
       "grid_template_columns": null,
       "grid_template_rows": null,
       "height": null,
       "justify_content": null,
       "justify_items": null,
       "left": null,
       "margin": null,
       "max_height": null,
       "max_width": null,
       "min_height": null,
       "min_width": null,
       "object_fit": null,
       "object_position": null,
       "order": null,
       "overflow": null,
       "overflow_x": null,
       "overflow_y": null,
       "padding": null,
       "right": null,
       "top": null,
       "visibility": null,
       "width": null
      }
     },
     "569350c2a4004fd09e949844d8df3a67": {
      "model_module": "@jupyter-widgets/base",
      "model_module_version": "1.2.0",
      "model_name": "LayoutModel",
      "state": {
       "_model_module": "@jupyter-widgets/base",
       "_model_module_version": "1.2.0",
       "_model_name": "LayoutModel",
       "_view_count": null,
       "_view_module": "@jupyter-widgets/base",
       "_view_module_version": "1.2.0",
       "_view_name": "LayoutView",
       "align_content": null,
       "align_items": null,
       "align_self": null,
       "border": null,
       "bottom": null,
       "display": null,
       "flex": null,
       "flex_flow": null,
       "grid_area": null,
       "grid_auto_columns": null,
       "grid_auto_flow": null,
       "grid_auto_rows": null,
       "grid_column": null,
       "grid_gap": null,
       "grid_row": null,
       "grid_template_areas": null,
       "grid_template_columns": null,
       "grid_template_rows": null,
       "height": null,
       "justify_content": null,
       "justify_items": null,
       "left": null,
       "margin": null,
       "max_height": null,
       "max_width": null,
       "min_height": null,
       "min_width": null,
       "object_fit": null,
       "object_position": null,
       "order": null,
       "overflow": null,
       "overflow_x": null,
       "overflow_y": null,
       "padding": null,
       "right": null,
       "top": null,
       "visibility": null,
       "width": null
      }
     },
     "5af64e19cb5841d69760ba46d18645d1": {
      "model_module": "@jupyter-widgets/controls",
      "model_module_version": "1.5.0",
      "model_name": "FloatSliderModel",
      "state": {
       "_dom_classes": [],
       "_model_module": "@jupyter-widgets/controls",
       "_model_module_version": "1.5.0",
       "_model_name": "FloatSliderModel",
       "_view_count": null,
       "_view_module": "@jupyter-widgets/controls",
       "_view_module_version": "1.5.0",
       "_view_name": "FloatSliderView",
       "continuous_update": true,
       "description": "theta",
       "description_tooltip": null,
       "disabled": false,
       "layout": "IPY_MODEL_3b1e4ee63285463a86073b388d8e5d07",
       "max": 4.0,
       "min": 2.0,
       "orientation": "horizontal",
       "readout": true,
       "readout_format": ".2f",
       "step": 0.2,
       "style": "IPY_MODEL_c6028f71602642f584eaf7a920976184",
       "value": 3.0
      }
     },
     "6159bd3d7f0a41449108cd1222a7ba53": {
      "model_module": "@jupyter-widgets/base",
      "model_module_version": "1.2.0",
      "model_name": "LayoutModel",
      "state": {
       "_model_module": "@jupyter-widgets/base",
       "_model_module_version": "1.2.0",
       "_model_name": "LayoutModel",
       "_view_count": null,
       "_view_module": "@jupyter-widgets/base",
       "_view_module_version": "1.2.0",
       "_view_name": "LayoutView",
       "align_content": null,
       "align_items": null,
       "align_self": null,
       "border": null,
       "bottom": null,
       "display": null,
       "flex": null,
       "flex_flow": null,
       "grid_area": null,
       "grid_auto_columns": null,
       "grid_auto_flow": null,
       "grid_auto_rows": null,
       "grid_column": null,
       "grid_gap": null,
       "grid_row": null,
       "grid_template_areas": null,
       "grid_template_columns": null,
       "grid_template_rows": null,
       "height": null,
       "justify_content": null,
       "justify_items": null,
       "left": null,
       "margin": null,
       "max_height": null,
       "max_width": null,
       "min_height": null,
       "min_width": null,
       "object_fit": null,
       "object_position": null,
       "order": null,
       "overflow": null,
       "overflow_x": null,
       "overflow_y": null,
       "padding": null,
       "right": null,
       "top": null,
       "visibility": null,
       "width": null
      }
     },
     "66f56614e63248e9803d35f553e11434": {
      "model_module": "@jupyter-widgets/controls",
      "model_module_version": "1.5.0",
      "model_name": "FloatSliderModel",
      "state": {
       "_dom_classes": [],
       "_model_module": "@jupyter-widgets/controls",
       "_model_module_version": "1.5.0",
       "_model_name": "FloatSliderModel",
       "_view_count": null,
       "_view_module": "@jupyter-widgets/controls",
       "_view_module_version": "1.5.0",
       "_view_name": "FloatSliderView",
       "continuous_update": true,
       "description": "tau_E",
       "description_tooltip": null,
       "disabled": false,
       "layout": "IPY_MODEL_22a63d4a10ba48f9ba5489c75b9c9d5c",
       "max": 5.0,
       "min": 1.0,
       "orientation": "horizontal",
       "readout": true,
       "readout_format": ".2f",
       "step": 0.2,
       "style": "IPY_MODEL_0601e4f3f6204c87b960148dfc63286a",
       "value": 3.0
      }
     },
     "6a432e82ccc840ea9db6dc2d348ede1d": {
      "model_module": "@jupyter-widgets/output",
      "model_module_version": "1.0.0",
      "model_name": "OutputModel",
      "state": {
       "_dom_classes": [],
       "_model_module": "@jupyter-widgets/output",
       "_model_module_version": "1.0.0",
       "_model_name": "OutputModel",
       "_view_count": null,
       "_view_module": "@jupyter-widgets/output",
       "_view_module_version": "1.0.0",
       "_view_name": "OutputView",
       "layout": "IPY_MODEL_460a1f584ecb4dbaa9ea3b5139f41c60",
       "msg_id": "",
       "outputs": []
      }
     },
     "6e3ee77b711c4ba899ce50197dc4675d": {
      "model_module": "@jupyter-widgets/controls",
      "model_module_version": "1.5.0",
      "model_name": "SliderStyleModel",
      "state": {
       "_model_module": "@jupyter-widgets/controls",
       "_model_module_version": "1.5.0",
       "_model_name": "SliderStyleModel",
       "_view_count": null,
       "_view_module": "@jupyter-widgets/base",
       "_view_module_version": "1.2.0",
       "_view_name": "StyleView",
       "description_width": "",
       "handle_color": null
      }
     },
     "6e8f19c6cb86478da56b4f3066569091": {
      "model_module": "@jupyter-widgets/controls",
      "model_module_version": "1.5.0",
      "model_name": "FloatSliderModel",
      "state": {
       "_dom_classes": [],
       "_model_module": "@jupyter-widgets/controls",
       "_model_module_version": "1.5.0",
       "_model_name": "FloatSliderModel",
       "_view_count": null,
       "_view_module": "@jupyter-widgets/controls",
       "_view_module_version": "1.5.0",
       "_view_name": "FloatSliderView",
       "continuous_update": true,
       "description": "I_ext_E",
       "description_tooltip": null,
       "disabled": false,
       "layout": "IPY_MODEL_c295e75c49f94eab9b0c6219fe88a5fb",
       "max": 3.0,
       "min": 0.0,
       "orientation": "horizontal",
       "readout": true,
       "readout_format": ".2f",
       "step": 0.1,
       "style": "IPY_MODEL_75d8d9e8451148eaa69b449562f0666b",
       "value": 1.5
      }
     },
     "75d8d9e8451148eaa69b449562f0666b": {
      "model_module": "@jupyter-widgets/controls",
      "model_module_version": "1.5.0",
      "model_name": "SliderStyleModel",
      "state": {
       "_model_module": "@jupyter-widgets/controls",
       "_model_module_version": "1.5.0",
       "_model_name": "SliderStyleModel",
       "_view_count": null,
       "_view_module": "@jupyter-widgets/base",
       "_view_module_version": "1.2.0",
       "_view_name": "StyleView",
       "description_width": "",
       "handle_color": null
      }
     },
     "7a9cc7bf03d04fca84574d6ed0c3faaf": {
      "model_module": "@jupyter-widgets/base",
      "model_module_version": "1.2.0",
      "model_name": "LayoutModel",
      "state": {
       "_model_module": "@jupyter-widgets/base",
       "_model_module_version": "1.2.0",
       "_model_name": "LayoutModel",
       "_view_count": null,
       "_view_module": "@jupyter-widgets/base",
       "_view_module_version": "1.2.0",
       "_view_name": "LayoutView",
       "align_content": null,
       "align_items": null,
       "align_self": null,
       "border": null,
       "bottom": null,
       "display": null,
       "flex": null,
       "flex_flow": null,
       "grid_area": null,
       "grid_auto_columns": null,
       "grid_auto_flow": null,
       "grid_auto_rows": null,
       "grid_column": null,
       "grid_gap": null,
       "grid_row": null,
       "grid_template_areas": null,
       "grid_template_columns": null,
       "grid_template_rows": null,
       "height": null,
       "justify_content": null,
       "justify_items": null,
       "left": null,
       "margin": null,
       "max_height": null,
       "max_width": null,
       "min_height": null,
       "min_width": null,
       "object_fit": null,
       "object_position": null,
       "order": null,
       "overflow": null,
       "overflow_x": null,
       "overflow_y": null,
       "padding": null,
       "right": null,
       "top": null,
       "visibility": null,
       "width": null
      }
     },
     "85210394f8d546a8b6bcbbdad85dfd2b": {
      "model_module": "@jupyter-widgets/base",
      "model_module_version": "1.2.0",
      "model_name": "LayoutModel",
      "state": {
       "_model_module": "@jupyter-widgets/base",
       "_model_module_version": "1.2.0",
       "_model_name": "LayoutModel",
       "_view_count": null,
       "_view_module": "@jupyter-widgets/base",
       "_view_module_version": "1.2.0",
       "_view_name": "LayoutView",
       "align_content": null,
       "align_items": null,
       "align_self": null,
       "border": null,
       "bottom": null,
       "display": null,
       "flex": null,
       "flex_flow": null,
       "grid_area": null,
       "grid_auto_columns": null,
       "grid_auto_flow": null,
       "grid_auto_rows": null,
       "grid_column": null,
       "grid_gap": null,
       "grid_row": null,
       "grid_template_areas": null,
       "grid_template_columns": null,
       "grid_template_rows": null,
       "height": null,
       "justify_content": null,
       "justify_items": null,
       "left": null,
       "margin": null,
       "max_height": null,
       "max_width": null,
       "min_height": null,
       "min_width": null,
       "object_fit": null,
       "object_position": null,
       "order": null,
       "overflow": null,
       "overflow_x": null,
       "overflow_y": null,
       "padding": null,
       "right": null,
       "top": null,
       "visibility": null,
       "width": null
      }
     },
     "88a7a27932d04459af17c7f7dd7b905c": {
      "model_module": "@jupyter-widgets/controls",
      "model_module_version": "1.5.0",
      "model_name": "FloatSliderModel",
      "state": {
       "_dom_classes": [],
       "_model_module": "@jupyter-widgets/controls",
       "_model_module_version": "1.5.0",
       "_model_name": "FloatSliderModel",
       "_view_count": null,
       "_view_module": "@jupyter-widgets/controls",
       "_view_module_version": "1.5.0",
       "_view_name": "FloatSliderView",
       "continuous_update": true,
       "description": "wEE",
       "description_tooltip": null,
       "disabled": false,
       "layout": "IPY_MODEL_ad50a18278fc47b1a3b7de6f2f1397f0",
       "max": 7.0,
       "min": 1.0,
       "orientation": "horizontal",
       "readout": true,
       "readout_format": ".2f",
       "step": 0.2,
       "style": "IPY_MODEL_6e3ee77b711c4ba899ce50197dc4675d",
       "value": 4.0
      }
     },
     "a05cd63b913b473a87f5cf567dcf0950": {
      "model_module": "@jupyter-widgets/base",
      "model_module_version": "1.2.0",
      "model_name": "LayoutModel",
      "state": {
       "_model_module": "@jupyter-widgets/base",
       "_model_module_version": "1.2.0",
       "_model_name": "LayoutModel",
       "_view_count": null,
       "_view_module": "@jupyter-widgets/base",
       "_view_module_version": "1.2.0",
       "_view_name": "LayoutView",
       "align_content": null,
       "align_items": null,
       "align_self": null,
       "border": null,
       "bottom": null,
       "display": null,
       "flex": null,
       "flex_flow": null,
       "grid_area": null,
       "grid_auto_columns": null,
       "grid_auto_flow": null,
       "grid_auto_rows": null,
       "grid_column": null,
       "grid_gap": null,
       "grid_row": null,
       "grid_template_areas": null,
       "grid_template_columns": null,
       "grid_template_rows": null,
       "height": null,
       "justify_content": null,
       "justify_items": null,
       "left": null,
       "margin": null,
       "max_height": null,
       "max_width": null,
       "min_height": null,
       "min_width": null,
       "object_fit": null,
       "object_position": null,
       "order": null,
       "overflow": null,
       "overflow_x": null,
       "overflow_y": null,
       "padding": null,
       "right": null,
       "top": null,
       "visibility": null,
       "width": null
      }
     },
     "a0ff4db7fdbc4f84adc116bc0aa41e33": {
      "model_module": "@jupyter-widgets/controls",
      "model_module_version": "1.5.0",
      "model_name": "SliderStyleModel",
      "state": {
       "_model_module": "@jupyter-widgets/controls",
       "_model_module_version": "1.5.0",
       "_model_name": "SliderStyleModel",
       "_view_count": null,
       "_view_module": "@jupyter-widgets/base",
       "_view_module_version": "1.2.0",
       "_view_name": "StyleView",
       "description_width": "",
       "handle_color": null
      }
     },
     "a95883604a6f4e96a5bdeff360745caa": {
      "model_module": "@jupyter-widgets/controls",
      "model_module_version": "1.5.0",
      "model_name": "SliderStyleModel",
      "state": {
       "_model_module": "@jupyter-widgets/controls",
       "_model_module_version": "1.5.0",
       "_model_name": "SliderStyleModel",
       "_view_count": null,
       "_view_module": "@jupyter-widgets/base",
       "_view_module_version": "1.2.0",
       "_view_name": "StyleView",
       "description_width": "",
       "handle_color": null
      }
     },
     "ac7e39ae12b24d0a82cb8e93b3e86641": {
      "model_module": "@jupyter-widgets/controls",
      "model_module_version": "1.5.0",
      "model_name": "VBoxModel",
      "state": {
       "_dom_classes": [
        "widget-interact"
       ],
       "_model_module": "@jupyter-widgets/controls",
       "_model_module_version": "1.5.0",
       "_model_name": "VBoxModel",
       "_view_count": null,
       "_view_module": "@jupyter-widgets/controls",
       "_view_module_version": "1.5.0",
       "_view_name": "VBoxView",
       "box_style": "",
       "children": [
        "IPY_MODEL_1883607221ba483699359fe9c1321c4a",
        "IPY_MODEL_5af64e19cb5841d69760ba46d18645d1",
        "IPY_MODEL_6a432e82ccc840ea9db6dc2d348ede1d"
       ],
       "layout": "IPY_MODEL_a05cd63b913b473a87f5cf567dcf0950"
      }
     },
     "ad50a18278fc47b1a3b7de6f2f1397f0": {
      "model_module": "@jupyter-widgets/base",
      "model_module_version": "1.2.0",
      "model_name": "LayoutModel",
      "state": {
       "_model_module": "@jupyter-widgets/base",
       "_model_module_version": "1.2.0",
       "_model_name": "LayoutModel",
       "_view_count": null,
       "_view_module": "@jupyter-widgets/base",
       "_view_module_version": "1.2.0",
       "_view_name": "LayoutView",
       "align_content": null,
       "align_items": null,
       "align_self": null,
       "border": null,
       "bottom": null,
       "display": null,
       "flex": null,
       "flex_flow": null,
       "grid_area": null,
       "grid_auto_columns": null,
       "grid_auto_flow": null,
       "grid_auto_rows": null,
       "grid_column": null,
       "grid_gap": null,
       "grid_row": null,
       "grid_template_areas": null,
       "grid_template_columns": null,
       "grid_template_rows": null,
       "height": null,
       "justify_content": null,
       "justify_items": null,
       "left": null,
       "margin": null,
       "max_height": null,
       "max_width": null,
       "min_height": null,
       "min_width": null,
       "object_fit": null,
       "object_position": null,
       "order": null,
       "overflow": null,
       "overflow_x": null,
       "overflow_y": null,
       "padding": null,
       "right": null,
       "top": null,
       "visibility": null,
       "width": null
      }
     },
     "b72caff08fd148c6b526c0d596687cb5": {
      "model_module": "@jupyter-widgets/output",
      "model_module_version": "1.0.0",
      "model_name": "OutputModel",
      "state": {
       "_dom_classes": [],
       "_model_module": "@jupyter-widgets/output",
       "_model_module_version": "1.0.0",
       "_model_name": "OutputModel",
       "_view_count": null,
       "_view_module": "@jupyter-widgets/output",
       "_view_module_version": "1.0.0",
       "_view_name": "OutputView",
       "layout": "IPY_MODEL_6159bd3d7f0a41449108cd1222a7ba53",
       "msg_id": "",
       "outputs": []
      }
     },
     "c295e75c49f94eab9b0c6219fe88a5fb": {
      "model_module": "@jupyter-widgets/base",
      "model_module_version": "1.2.0",
      "model_name": "LayoutModel",
      "state": {
       "_model_module": "@jupyter-widgets/base",
       "_model_module_version": "1.2.0",
       "_model_name": "LayoutModel",
       "_view_count": null,
       "_view_module": "@jupyter-widgets/base",
       "_view_module_version": "1.2.0",
       "_view_name": "LayoutView",
       "align_content": null,
       "align_items": null,
       "align_self": null,
       "border": null,
       "bottom": null,
       "display": null,
       "flex": null,
       "flex_flow": null,
       "grid_area": null,
       "grid_auto_columns": null,
       "grid_auto_flow": null,
       "grid_auto_rows": null,
       "grid_column": null,
       "grid_gap": null,
       "grid_row": null,
       "grid_template_areas": null,
       "grid_template_columns": null,
       "grid_template_rows": null,
       "height": null,
       "justify_content": null,
       "justify_items": null,
       "left": null,
       "margin": null,
       "max_height": null,
       "max_width": null,
       "min_height": null,
       "min_width": null,
       "object_fit": null,
       "object_position": null,
       "order": null,
       "overflow": null,
       "overflow_x": null,
       "overflow_y": null,
       "padding": null,
       "right": null,
       "top": null,
       "visibility": null,
       "width": null
      }
     },
     "c401f617e43342d7a13af18593adb482": {
      "model_module": "@jupyter-widgets/controls",
      "model_module_version": "1.5.0",
      "model_name": "SliderStyleModel",
      "state": {
       "_model_module": "@jupyter-widgets/controls",
       "_model_module_version": "1.5.0",
       "_model_name": "SliderStyleModel",
       "_view_count": null,
       "_view_module": "@jupyter-widgets/base",
       "_view_module_version": "1.2.0",
       "_view_name": "StyleView",
       "description_width": "",
       "handle_color": null
      }
     },
     "c6028f71602642f584eaf7a920976184": {
      "model_module": "@jupyter-widgets/controls",
      "model_module_version": "1.5.0",
      "model_name": "SliderStyleModel",
      "state": {
       "_model_module": "@jupyter-widgets/controls",
       "_model_module_version": "1.5.0",
       "_model_name": "SliderStyleModel",
       "_view_count": null,
       "_view_module": "@jupyter-widgets/base",
       "_view_module_version": "1.2.0",
       "_view_name": "StyleView",
       "description_width": "",
       "handle_color": null
      }
     },
     "db021779bda14e2fb290e2b74b7a1fba": {
      "model_module": "@jupyter-widgets/controls",
      "model_module_version": "1.5.0",
      "model_name": "VBoxModel",
      "state": {
       "_dom_classes": [
        "widget-interact"
       ],
       "_model_module": "@jupyter-widgets/controls",
       "_model_module_version": "1.5.0",
       "_model_name": "VBoxModel",
       "_view_count": null,
       "_view_module": "@jupyter-widgets/controls",
       "_view_module_version": "1.5.0",
       "_view_name": "VBoxView",
       "box_style": "",
       "children": [
        "IPY_MODEL_ff33a4c6a16846009480be40aef59f2d",
        "IPY_MODEL_3c8c731d951141db852285673aa45d84"
       ],
       "layout": "IPY_MODEL_035c74b285bb4f52a3fbb50c8116fe97"
      }
     },
     "df24edfd6a63496485a83a3042d7a914": {
      "model_module": "@jupyter-widgets/controls",
      "model_module_version": "1.5.0",
      "model_name": "VBoxModel",
      "state": {
       "_dom_classes": [
        "widget-interact"
       ],
       "_model_module": "@jupyter-widgets/controls",
       "_model_module_version": "1.5.0",
       "_model_name": "VBoxModel",
       "_view_count": null,
       "_view_module": "@jupyter-widgets/controls",
       "_view_module_version": "1.5.0",
       "_view_name": "VBoxView",
       "box_style": "",
       "children": [
        "IPY_MODEL_88a7a27932d04459af17c7f7dd7b905c",
        "IPY_MODEL_6e8f19c6cb86478da56b4f3066569091",
        "IPY_MODEL_b72caff08fd148c6b526c0d596687cb5"
       ],
       "layout": "IPY_MODEL_569350c2a4004fd09e949844d8df3a67"
      }
     },
     "e5bb346d83a543278184d68cf00dec63": {
      "model_module": "@jupyter-widgets/controls",
      "model_module_version": "1.5.0",
      "model_name": "VBoxModel",
      "state": {
       "_dom_classes": [
        "widget-interact"
       ],
       "_model_module": "@jupyter-widgets/controls",
       "_model_module_version": "1.5.0",
       "_model_name": "VBoxModel",
       "_view_count": null,
       "_view_module": "@jupyter-widgets/controls",
       "_view_module_version": "1.5.0",
       "_view_name": "VBoxView",
       "box_style": "",
       "children": [
        "IPY_MODEL_3abbbd87e0434d359824857b462320a7",
        "IPY_MODEL_66f56614e63248e9803d35f553e11434",
        "IPY_MODEL_2bdff5e94925476a8cf5732ae6dfdd3f"
       ],
       "layout": "IPY_MODEL_09adf963f55445fea0bfae53b066f28d"
      }
     },
     "e9eed7eaf7ab4590ad1d541019f6ec81": {
      "model_module": "@jupyter-widgets/base",
      "model_module_version": "1.2.0",
      "model_name": "LayoutModel",
      "state": {
       "_model_module": "@jupyter-widgets/base",
       "_model_module_version": "1.2.0",
       "_model_name": "LayoutModel",
       "_view_count": null,
       "_view_module": "@jupyter-widgets/base",
       "_view_module_version": "1.2.0",
       "_view_name": "LayoutView",
       "align_content": null,
       "align_items": null,
       "align_self": null,
       "border": null,
       "bottom": null,
       "display": null,
       "flex": null,
       "flex_flow": null,
       "grid_area": null,
       "grid_auto_columns": null,
       "grid_auto_flow": null,
       "grid_auto_rows": null,
       "grid_column": null,
       "grid_gap": null,
       "grid_row": null,
       "grid_template_areas": null,
       "grid_template_columns": null,
       "grid_template_rows": null,
       "height": null,
       "justify_content": null,
       "justify_items": null,
       "left": null,
       "margin": null,
       "max_height": null,
       "max_width": null,
       "min_height": null,
       "min_width": null,
       "object_fit": null,
       "object_position": null,
       "order": null,
       "overflow": null,
       "overflow_x": null,
       "overflow_y": null,
       "padding": null,
       "right": null,
       "top": null,
       "visibility": null,
       "width": null
      }
     },
     "f4f07ebc2da8421ab2b58d892400c826": {
      "model_module": "@jupyter-widgets/base",
      "model_module_version": "1.2.0",
      "model_name": "LayoutModel",
      "state": {
       "_model_module": "@jupyter-widgets/base",
       "_model_module_version": "1.2.0",
       "_model_name": "LayoutModel",
       "_view_count": null,
       "_view_module": "@jupyter-widgets/base",
       "_view_module_version": "1.2.0",
       "_view_name": "LayoutView",
       "align_content": null,
       "align_items": null,
       "align_self": null,
       "border": null,
       "bottom": null,
       "display": null,
       "flex": null,
       "flex_flow": null,
       "grid_area": null,
       "grid_auto_columns": null,
       "grid_auto_flow": null,
       "grid_auto_rows": null,
       "grid_column": null,
       "grid_gap": null,
       "grid_row": null,
       "grid_template_areas": null,
       "grid_template_columns": null,
       "grid_template_rows": null,
       "height": null,
       "justify_content": null,
       "justify_items": null,
       "left": null,
       "margin": null,
       "max_height": null,
       "max_width": null,
       "min_height": null,
       "min_width": null,
       "object_fit": null,
       "object_position": null,
       "order": null,
       "overflow": null,
       "overflow_x": null,
       "overflow_y": null,
       "padding": null,
       "right": null,
       "top": null,
       "visibility": null,
       "width": null
      }
     },
     "ff33a4c6a16846009480be40aef59f2d": {
      "model_module": "@jupyter-widgets/controls",
      "model_module_version": "1.5.0",
      "model_name": "FloatSliderModel",
      "state": {
       "_dom_classes": [],
       "_model_module": "@jupyter-widgets/controls",
       "_model_module_version": "1.5.0",
       "_model_name": "FloatSliderModel",
       "_view_count": null,
       "_view_module": "@jupyter-widgets/controls",
       "_view_module_version": "1.5.0",
       "_view_name": "FloatSliderView",
       "continuous_update": true,
       "description": "E_init",
       "description_tooltip": null,
       "disabled": false,
       "layout": "IPY_MODEL_e9eed7eaf7ab4590ad1d541019f6ec81",
       "max": 1.0,
       "min": 0.0,
       "orientation": "horizontal",
       "readout": true,
       "readout_format": ".2f",
       "step": 0.02,
       "style": "IPY_MODEL_a0ff4db7fdbc4f84adc116bc0aa41e33",
       "value": 0.5
      }
     }
    },
    "version_major": 2,
    "version_minor": 0
   }
  }
 },
 "nbformat": 4,
 "nbformat_minor": 0
}
