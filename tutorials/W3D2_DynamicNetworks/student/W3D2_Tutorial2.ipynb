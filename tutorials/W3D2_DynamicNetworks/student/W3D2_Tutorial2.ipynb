{
 "cells": [
  {
   "cell_type": "markdown",
   "metadata": {
    "colab_type": "text",
    "id": "view-in-github"
   },
   "source": [
    "<a href=\"https://colab.research.google.com/github/NeuromatchAcademy/course-content/blob/master/tutorials/W3D2_DynamicNetworks/student/W3D2_Tutorial2.ipynb\" target=\"_parent\"><img src=\"https://colab.research.google.com/assets/colab-badge.svg\" alt=\"Open In Colab\"/></a>"
   ]
  },
  {
   "cell_type": "markdown",
   "metadata": {
    "colab_type": "text",
    "id": "Oh1wn4afauo0"
   },
   "source": [
    "# Neuromatch Academy: Week 3, Day 2, Tutorial 2\n",
    "\n",
    "# Neuronal Network Dynamics: Wilson-Cowan Model\n"
   ]
  },
  {
   "cell_type": "markdown",
   "metadata": {
    "colab_type": "text",
    "id": "A9pNslIYayZt"
   },
   "source": [
    "## Objectives\n",
    "In the previous tutorial, you became familiar with a neuronal network consisting of only an excitatory population. Here, we extend the approach we used to include both excitatory and inhibitory neuronal populations in our network. A simple, yet powerful, model to study the dynamics of two interacting populations of excitatory and inhibitory neurons is the so-called **Wilson-Cowan** rate model, which will be the subject of this tutorial.\n",
    "\n",
    "The objectives of this tutorial are to:\n",
    "\n",
    "- Write the **Wilson-Cowan** equations for the firing rate dynamics of a 2D system composed of an excitatory (E) and an inhibitory (I) population of neurons\n",
    "- Simulate the dynamics of the system, i.e., Wilson-Cowan model.\n",
    "- Plot the frequency-current (F-I) curves for both populations (i.e., E and I).\n",
    "- Visualize and inspect the behavior of the system using **phase plane analysis**, **vector fields**, and **nullclines**.\n",
    "\n",
    "Bonus steps:\n",
    "\n",
    "- Find and plot the **fixed points** of the Wilson-Cowan model.\n",
    "- Investigate the stability of the Wilson-Cowan model by linearizing its dynamics and examining the **Jacobian matrix**.\n",
    "- Learn how the Wilson-Cowan model can reach an oscillatory state.\n",
    "\n",
    "Bonus steps (applications):\n",
    "- Visualize the behavior of an Inhibition-stabilized network.\n",
    "- Simulate working memory using the Wilson-Cowan model.\n",
    "\n",
    "\\\\\n",
    "Reference paper:\n",
    "\n",
    "_[Wilson H and Cowan J (1972) Excitatory and inhibitory interactions in localized populations of model neurons. Biophysical Journal 12](https://doi.org/10.1016/S0006-3495(72)86068-5)_"
   ]
  },
  {
   "cell_type": "markdown",
   "metadata": {
    "colab_type": "text",
    "id": "ACCJbmDqtLfS"
   },
   "source": [
    "## Setup"
   ]
  },
  {
   "cell_type": "markdown",
   "metadata": {
    "colab_type": "text",
    "id": "BptrqpMma6c3"
   },
   "source": [
    "Please execute the cell below to initialize the notebook environment."
   ]
  },
  {
   "cell_type": "code",
   "execution_count": 1,
   "metadata": {
    "cellView": "both",
    "colab": {},
    "colab_type": "code",
    "id": "QG7r5GjEadue"
   },
   "outputs": [],
   "source": [
    "# Imports\n",
    "import matplotlib.pyplot as plt    # import matplotlib\n",
    "import numpy as np                 # import numpy\n",
    "import scipy.optimize as opt       # import root-finding algorithm\n",
    "import ipywidgets as widgets       # interactive display"
   ]
  },
  {
   "cell_type": "code",
   "execution_count": 2,
   "metadata": {
    "cellView": "form",
    "colab": {},
    "colab_type": "code",
    "id": "JteKm2l1tYrV"
   },
   "outputs": [],
   "source": [
    "#@title Figure Settings\n",
    "\n",
    "%matplotlib inline\n",
    "\n",
    "fig_w, fig_h = 8, 4.5 \n",
    "my_fontsize = 16\n",
    "my_params = {'axes.labelsize': my_fontsize,\n",
    "          'axes.titlesize': my_fontsize,\n",
    "          'figure.figsize': [fig_w, fig_h],\n",
    "          'font.size': my_fontsize,\n",
    "          'legend.fontsize': my_fontsize-4,\n",
    "          'lines.markersize': 8.,\n",
    "          'lines.linewidth': 2.,\n",
    "          'xtick.labelsize': my_fontsize-2,\n",
    "          'ytick.labelsize': my_fontsize-2}\n",
    "\n",
    "plt.rcParams.update(my_params)"
   ]
  },
  {
   "cell_type": "code",
   "execution_count": 3,
   "metadata": {
    "cellView": "form",
    "colab": {},
    "colab_type": "code",
    "id": "T0GZb4qxbJCj"
   },
   "outputs": [],
   "source": [
    "#@title Helper functions\n",
    "def default_pars( **kwargs):\n",
    "  pars = {}\n",
    "  \n",
    "  ### Excitatory parameters ###\n",
    "  pars['tau_E']   = 1.   # Timescale of the E population [ms]\n",
    "  pars['a_E']     = 1.2   # Gain of the E population\n",
    "  pars['theta_E'] = 2.8   # Threshold of the E population\n",
    "\n",
    "  ### Inhibitory parameters ###\n",
    "  pars['tau_I']   = 2.0   # Timescale of the I population [ms]\n",
    "  pars['a_I']     = 1.0   # Gain of the I population\n",
    "  pars['theta_I'] = 4.0   # Threshold of the I population\n",
    "\n",
    "  ### Connection strength ###\n",
    "  pars['wEE'] = 9. # E to E\n",
    "  pars['wEI'] = 4.  # I to E\n",
    "  pars['wIE'] = 13. # E to I\n",
    "  pars['wII'] = 11. # I to I\n",
    "  \n",
    "  ### External input ###\n",
    "  pars['I_ext_E']  = 0.\n",
    "  pars['I_ext_I']  = 0.\n",
    "  \n",
    "  ### simulation parameters ###\n",
    "  pars['T'] = 50. # Total duration of simulation [ms]\n",
    "  pars['dt'] = .1  # Simulation time step [ms]\n",
    "  pars['E_init'] = 0.2 # Initial value of E\n",
    "  pars['I_init'] = 0.2 # Initial value of I\n",
    "  \n",
    "  ### External parameters if any ###\n",
    "  for k in kwargs:\n",
    "      pars[k] = kwargs[k]\n",
    "      \n",
    "  pars['range_t'] = np.arange(0, pars['T'], pars['dt']) # Vector of discretized time points [ms]\n",
    "        \n",
    "  return pars\n",
    "\n",
    "def F(x,a,theta): \n",
    "    \"\"\"\n",
    "    Population activation function.\n",
    "\n",
    "    Args:\n",
    "      x     : the population input\n",
    "      a     : the gain of the function\n",
    "      theta : the threshold of the function\n",
    "    \n",
    "    Returns:\n",
    "      f     : the population activation response f(x) for input x\n",
    "    \"\"\"\n",
    "\n",
    "    # add the expression of f = F(x)\n",
    "    f = (1+np.exp(-a*(x-theta)))**-1 - (1+np.exp(a*theta))**-1\n",
    "\n",
    "    return f\n",
    "\n",
    "def my_test_plot(t, E1, I1, E2, I2):\n",
    "  \n",
    "  ax = plt.subplot(2,1,1)\n",
    "  ax.plot(pars['range_t'], E1, 'b', label='E population')\n",
    "  ax.plot(pars['range_t'], I1, 'r', label='I population')\n",
    "  ax.set_xlabel('t (ms)')\n",
    "  ax.set_ylabel('Activity')\n",
    "  ax.legend(loc='best')\n",
    "\n",
    "  ax = plt.subplot(2,1,2)\n",
    "  ax.plot(pars['range_t'], E2, 'b', label='E population')\n",
    "  ax.plot(pars['range_t'], I2, 'r', label='I population')\n",
    "  ax.set_xlabel('t (ms)')\n",
    "  ax.set_ylabel('Activity')\n",
    "  ax.legend(loc='best')\n",
    "\n",
    "  plt.tight_layout()\n",
    "\n",
    "def my_plot_nullcline(pars):\n",
    "  E_grid = np.linspace(-0.01,0.96,100)\n",
    "  E_nullcline = get_E_nullcline(pars, E_grid)# calculate E nullclines\n",
    "  I_grid = np.linspace(-.01,0.8,100)\n",
    "  I_nullcline = get_I_nullcline(pars, I_grid)# calculate I nullclines\n",
    "\n",
    "  plt.plot(E_grid, E_nullcline, 'b', label='E nullcline')\n",
    "  plt.plot(I_nullcline, I_grid, 'r', label='I nullcline')\n",
    "  plt.xlabel('E')\n",
    "  plt.ylabel('I')\n",
    "  plt.legend(loc='best',fontsize=12)\n",
    "\n",
    "def my_plot_vector(pars, n_skip=2., scale=5):\n",
    "  EI_grid = np.linspace(0., 1., 20)\n",
    "  E_meshgrid, I_meshgrid = np.meshgrid(EI_grid,EI_grid)\n",
    "  dEdt, dIdt = EIderivs(E_meshgrid, I_meshgrid, pars)\n",
    "\n",
    "  n_skip = 2\n",
    "  plt.quiver(E_meshgrid[::n_skip,::n_skip], I_meshgrid[::n_skip,::n_skip], \n",
    "            dEdt[::n_skip,::n_skip], dIdt[::n_skip,::n_skip], \n",
    "            angles='xy', scale_units='xy', scale=5,facecolor='c')\n",
    "  \n",
    "  plt.xlabel('E')\n",
    "  plt.ylabel('I')\n",
    "\n",
    "def my_plot_trajectory(pars, mycolor, x_init, mylabel):\n",
    "  pars['E_init'], pars['I_init'] = x_init[0], x_init[1]\n",
    "  E_tj, I_tj= simulate_wc(pars)\n",
    "  plt.plot(E_tj, I_tj, color=mycolor, label=mylabel)\n",
    "  plt.plot(x_init[0], x_init[1], 'o', color=mycolor, ms=8)\n",
    "\n",
    "  plt.xlabel('E')\n",
    "  plt.ylabel('I')\n",
    "\n",
    "def my_plot_trajectories(pars, dx, n, mylabel):\n",
    "  \"\"\"\n",
    "  Solve for I along the E_grid from dE/dt = 0.\n",
    "  \n",
    "  Expects:\n",
    "  pars    : Parameter dictionary\n",
    "  dx      : increment of initial values\n",
    "  n       : n*n trjectories\n",
    "  mylabel : label for legend\n",
    "  \n",
    "  Returns:\n",
    "    figure of trajectory\n",
    "  \"\"\"\n",
    "\n",
    "  for ie in range(n):          \n",
    "    for ii in range(n):\n",
    "      pars['E_init'], pars['I_init'] = dx*ie, dx*ii\n",
    "      E_tj, I_tj= simulate_wc(pars)\n",
    "      if (ie==n-1)&(ii==n-1):\n",
    "          plt.plot(E_tj, I_tj, 'k', alpha=0.3, label=mylabel)\n",
    "      else:\n",
    "          plt.plot(E_tj, I_tj, 'k', alpha=0.3)\n",
    "\n",
    "  plt.xlabel('E')\n",
    "  plt.ylabel('I')\n",
    "\n",
    "def check_fp(x_fp):\n",
    "\n",
    "  dEdt, dIdt = EIderivs(x_fp[0], x_fp[1], pars)\n",
    "\n",
    "  return dEdt**2 + dIdt**2<1e-6\n",
    "\n",
    "def plot_fp(x_fp, mycolor):\n",
    "  plt.plot(x_fp_2[0], x_fp_2[1], 'o', color=mycolor, ms=8)\n",
    "\n",
    "\n",
    "def dF(x,a,theta): \n",
    "  \"\"\"\n",
    "  Population activation function.\n",
    "\n",
    "  Args:\n",
    "    x     : the population input\n",
    "    a     : the gain of the function\n",
    "    theta : the threshold of the function\n",
    "  \n",
    "  Returns:\n",
    "    the population activation response F(x) for input x\n",
    "  \"\"\"\n",
    "\n",
    "  dFdx = a*np.exp(-a*(x-theta))*(1+np.exp(-a*(x-theta)))**-2\n",
    "\n",
    "  return dFdx"
   ]
  },
  {
   "cell_type": "markdown",
   "metadata": {
    "colab_type": "text",
    "id": "8YerINCmfH6O"
   },
   "source": [
    "# Wilson-Cowan model of excitatory and inhibitory populations\n"
   ]
  },
  {
   "cell_type": "code",
   "execution_count": 4,
   "metadata": {
    "cellView": "form",
    "colab": {
     "base_uri": "https://localhost:8080/",
     "height": 519
    },
    "colab_type": "code",
    "id": "o6sG8Enm0xBG",
    "outputId": "31d990b9-11cf-479f-d3d5-6330e27a091a"
   },
   "outputs": [
    {
     "name": "stdout",
     "output_type": "stream",
     "text": [
      "Video available at https://youtube.com/watch?v=EgEad5Me_Ro\n"
     ]
    },
    {
     "data": {
      "image/jpeg": "[encoded data removed]",
      "text/html": [
       "\n",
       "        <iframe\n",
       "            width=\"854\"\n",
       "            height=\"480\"\n",
       "            src=\"https://www.youtube.com/embed/EgEad5Me_Ro?fs=1\"\n",
       "            frameborder=\"0\"\n",
       "            allowfullscreen\n",
       "        ></iframe>\n",
       "        "
      ],
      "text/plain": [
       "<IPython.lib.display.YouTubeVideo at 0x7f1922ff8fd0>"
      ]
     },
     "execution_count": 4,
     "metadata": {},
     "output_type": "execute_result"
    }
   ],
   "source": [
    "#@title Video: Phase analysis of the Wilson-Cowan E-I model\n",
    "from IPython.display import YouTubeVideo\n",
    "video = YouTubeVideo(id=\"EgEad5Me_Ro\", width=854, height=480, fs=1)\n",
    "print(\"Video available at https://youtube.com/watch?v=\" + video.id)\n",
    "video"
   ]
  },
  {
   "cell_type": "markdown",
   "metadata": {
    "colab_type": "text",
    "id": "kHzQkZQ4QzdD"
   },
   "source": [
    "Many of the rich dynamics recorded in the brain are generated by the interaction of excitatory and inhibitory subtype neurons. Here, similar to what we did in the previous tutorial, we will model two coupled populations of E and I neurons (**Wilson-Cowan** model). We can, in fact, write two rate-based equations, one for each population, with interacting terms:\n",
    "\n",
    "\\begin{align}\n",
    "\\tau_E \\frac{dE}{dt} &= -E + F_E(w_{EE}E -w_{EI}I + I^{\\text{ext}}_E;a_E,\\theta_E)\\\\\n",
    "\\tau_I \\frac{dI}{dt} &= -I + F_I(w_{IE}E -w_{II}I + I^{\\text{ext}}_I;a_I,\\theta_I)    \\qquad (1)\n",
    "\\end{align}\n",
    "\n",
    "$E(t)$ represents the average activation (or firing rate) of the excitatory population at time $t$, and $I(t)$ the activation (or firing rate) of the inhibitory population. The parameters $\\tau_E$ and $\\tau_I$ control the timescales of the dynamics of each population. Connection strengths are given by: $w_{EE}$ (E $\\rightarrow$ E), $w_{EI}$ (I $\\rightarrow$ E), $w_{IE}$ (E $\\rightarrow$ I), and $w_{II}$ (I $\\rightarrow$ I). The terms $w_{EI}$ and $w_{IE}$ are the interacting terms and, respectively, represent connections from inhibitory to excitatory population and vice versa. The transfer functions (or F-I curves) $F_E(x;a_E,\\theta_E)$ and $F_I(x;a_I,\\theta_I)$ can be different for the excitatory and the inhibitory populations.\n",
    "\n",
    "\\\\\n",
    "\n",
    "Now execute the cell below to initialize simulation parameters and define the handler functions we will use throughout the tutorial."
   ]
  },
  {
   "cell_type": "markdown",
   "metadata": {
    "colab_type": "text",
    "id": "nTVNcF9ebXhm"
   },
   "source": [
    "## Exercise 1: plot out the f-I curves for the E and I populations \n",
    "\n",
    "Let's first plot out the f-I curves for the E and I populations by the function the defined above with the default values"
   ]
  },
  {
   "cell_type": "code",
   "execution_count": 5,
   "metadata": {
    "colab": {
     "base_uri": "https://localhost:8080/",
     "height": 51
    },
    "colab_type": "code",
    "id": "SKmZ16knbboa",
    "outputId": "2e1a2362-2741-40c2-c9b6-5874bcd4f474"
   },
   "outputs": [
    {
     "name": "stdout",
     "output_type": "stream",
     "text": [
      "1.2 2.8\n",
      "1.0 4.0\n"
     ]
    }
   ],
   "source": [
    "# Exercise 1\n",
    "pars = default_pars() # get the default value\n",
    "x = np.arange(0,10,.1) # set the input\n",
    "\n",
    "print(pars['a_E'], pars['theta_E'])\n",
    "print(pars['a_I'], pars['theta_I'])\n",
    "###################################################################\n",
    "## TODO for students: compute and plot the F-I curve here         #\n",
    "## Note: aE, thetaE, aI and theta_I are in the dictionray 'pars'  #\n",
    "###################################################################"
   ]
  },
  {
   "cell_type": "markdown",
   "metadata": {
    "colab": {
     "base_uri": "https://localhost:8080/",
     "height": 369
    },
    "colab_type": "text",
    "id": "Ek7KFT1fMDv0",
    "outputId": "0db4603e-1f44-4b43-d661-c313215e318e"
   },
   "source": [
    "[*Click for solution*](https://github.com/NeuromatchAcademy/course-content/tree/master//tutorials/W3D2_DynamicNetworks/solutions/W3D2_Tutorial2_Solution_187031a9.py)\n",
    "\n",
    "*Example output:*\n",
    "\n",
    "<img alt='Solution hint' align='left' width=513 height=357 src=https://raw.githubusercontent.com/NeuromatchAcademy/course-content/master/tutorials/W3D2_DynamicNetworks/static/W3D2_Tutorial2_Solution_187031a9_3.png>\n",
    "\n"
   ]
  },
  {
   "cell_type": "markdown",
   "metadata": {
    "colab_type": "text",
    "id": "lQSpCEuTbjpj"
   },
   "source": [
    "## Simulation scheme for the Wilson-Cowan model\n",
    "\n",
    "Using the Euler method, the E-I dynamical system can be simulated on a time-grid of stepsize $\\Delta t$. The updates for the activity of the excitatory and the inhibitory populations can be written as:\n",
    "\n",
    "\\begin{align}\n",
    "E[k+1] &= E[k] + \\frac{\\Delta t}{\\tau_E}[-E[k] + F_E(w_{EE}E[k] -w_{EI}I[k] + I^{\\text{ext}}_E[k];a_E,\\theta_E)]\\\\\n",
    "I[k+1] &= I[k] + \\frac{\\Delta t}{\\tau_I}[-I[k] + F_I(w_{IE}E[k] -w_{II}I[k] + I^{\\text{ext}}_I[k];a_I,\\theta_I)] \n",
    "\\end{align}"
   ]
  },
  {
   "cell_type": "markdown",
   "metadata": {
    "colab_type": "text",
    "id": "UoDULUySMoPj"
   },
   "source": [
    "### Exercise 2: Numerically integrate the Wilson-Cowan equations"
   ]
  },
  {
   "cell_type": "code",
   "execution_count": 7,
   "metadata": {
    "colab": {},
    "colab_type": "code",
    "id": "jwbliV-0Mpsx"
   },
   "outputs": [],
   "source": [
    "# Exercise 2\n",
    "\n",
    "def simulate_wc(pars):   \n",
    "  \"\"\"\n",
    "  Simulate the Wilson-Cowan equations \n",
    "  \n",
    "  Args:\n",
    "    pars : Parameter dictionary\n",
    "  \n",
    "  Returns:\n",
    "    E    : Activity of excitatory population (array)\n",
    "    I    : Activity of inhibitory population (array)\n",
    "  \"\"\"\n",
    "  \n",
    "  # Set parameters\n",
    "  tau_E, a_E, theta_E = pars['tau_E'], pars['a_E'], pars['theta_E']\n",
    "  tau_I, a_I, theta_I = pars['tau_I'], pars['a_I'], pars['theta_I']\n",
    "  wEE, wEI = pars['wEE'], pars['wEI'] \n",
    "  wIE, wII = pars['wIE'], pars['wII']\n",
    "  I_ext_E, I_ext_I = pars['I_ext_E'], pars['I_ext_I'] \n",
    "  E_init, I_init = pars['E_init'], pars['I_init']       \n",
    "  dt, range_t = pars['dt'], pars['range_t'] \n",
    "  Lt = range_t.size \n",
    "      \n",
    "  # Initialize activity\n",
    "  E = np.zeros(Lt)\n",
    "  I = np.zeros(Lt)\n",
    "  E[0] = E_init\n",
    "  I[0] = I_init\n",
    "  I_ext_E = I_ext_E * np.ones(Lt)\n",
    "  I_ext_I = I_ext_I * np.ones(Lt)  #ensure the external input an array\n",
    "\n",
    "  # simulate the Wilson-Cowan equations \n",
    "  for k in range(Lt-1):\n",
    "    ######################################################################\n",
    "    ## TODO for students: compute dE and dI, remove  NotImplementedError #\n",
    "    ######################################################################\n",
    "    # dE = ...\n",
    "    # dI = ...\n",
    "    raise NotImplementedError(\"Student excercise: compute the change in E/I\")\n",
    "    \n",
    "    E[k+1] = E[k] + dE\n",
    "    I[k+1] = I[k] + dI\n",
    "    \n",
    "  return E, I\n",
    "\n",
    "\n",
    "# Uncomment the below lines after completing the simulate_wc function\n",
    "# Here are tow trjectories with close intial values\n",
    "\n",
    "#pars = default_pars()\n",
    "#pars['E_init'], pars['I_init'] = 0.32, 0.15\n",
    "#E1,I1 = simulate_wc(pars)\n",
    "#pars['E_init'], pars['I_init'] = 0.33, 0.15\n",
    "#E2,I2 = simulate_wc(pars)\n",
    "\n",
    "#my_test_plot(pars['range_t'], E1, I1, E2, I2)\n"
   ]
  },
  {
   "cell_type": "markdown",
   "metadata": {
    "cellView": "both",
    "colab": {
     "base_uri": "https://localhost:8080/",
     "height": 397
    },
    "colab_type": "text",
    "id": "RkLzEO8EyuT9",
    "outputId": "dba7fce8-4c01-4770-d46e-26b1ceb12f40"
   },
   "source": [
    "[*Click for solution*](https://github.com/NeuromatchAcademy/course-content/tree/master//tutorials/W3D2_DynamicNetworks/solutions/W3D2_Tutorial2_Solution_88ca5a4b.py)\n",
    "\n",
    "*Example output:*\n",
    "\n",
    "<img alt='Solution hint' align='left' width=560 height=380 src=https://raw.githubusercontent.com/NeuromatchAcademy/course-content/master/tutorials/W3D2_DynamicNetworks/static/W3D2_Tutorial2_Solution_88ca5a4b_0.png>\n",
    "\n"
   ]
  },
  {
   "cell_type": "markdown",
   "metadata": {
    "colab_type": "text",
    "id": "WXBTwdWbznem"
   },
   "source": [
    "### Interactive Demo: population trajectories with different intial values\n",
    "In this interactive demo we will simulate the Wilson-Cowan model and plot the trajectories of each population for different initial conditions.\n",
    "\n",
    "\n",
    "**Remember to enable the demo by running the cell.**"
   ]
  },
  {
   "cell_type": "code",
   "execution_count": 9,
   "metadata": {
    "cellView": "form",
    "colab": {
     "base_uri": "https://localhost:8080/",
     "height": 401,
     "referenced_widgets": [
      "d63cf6caae6f4205be1f79e4703282f7",
      "122569ee0f8b42548ec7dbd7ede90c20",
      "9b998de360c8495490376ecb82cad7f3",
      "dfe575aad96a4fd3adc24e0f52cc02c7",
      "f529c05e88294648964cace55f091554",
      "37b9014d388c4d628585436413d8a2d4",
      "c88b507eb7c14c51a7c6b72fce2b87d5"
     ]
    },
    "colab_type": "code",
    "id": "FcwiqGyNbuLD",
    "outputId": "e3ef1926-3bd3-427b-bb07-d15d3c98e688"
   },
   "outputs": [
    {
     "data": {
      "image/png": "[encoded data removed]",
      "text/plain": [
       "<Figure size 576x396 with 1 Axes>"
      ]
     },
     "metadata": {
      "needs_background": "light"
     },
     "output_type": "display_data"
    }
   ],
   "source": [
    "#@title System trajectories with different initial conditions\n",
    "def plot_EI_diffinitial(E_init = 0.0):\n",
    "\n",
    "  pars = default_pars()\n",
    "  pars['E_init'], pars['I_init'] = E_init, 0.15\n",
    "  E, I = simulate_wc(pars)\n",
    "  \n",
    "  plt.figure(figsize=(8, 5.5))\n",
    "  plt.plot(pars['range_t'], E, 'b', label='E population')\n",
    "  plt.plot(pars['range_t'], I, 'r', label='I population')\n",
    "  plt.xlabel('t (ms)', fontsize=14)\n",
    "  plt.ylabel('Activity', fontsize=14)\n",
    "  plt.legend(loc='best', fontsize=12)\n",
    "  plt.show()\n",
    "\n",
    "_ = widgets.interact(plot_EI_diffinitial, E_init = (0.30, 0.35, .01))   "
   ]
  },
  {
   "cell_type": "markdown",
   "metadata": {
    "colab_type": "text",
    "id": "UfOMo8Nkbx6z"
   },
   "source": [
    "Question: It is evident that the steady states of the neuronal response can be different when the initial states are chosen to be different. Why is that? If this phenomenon confuses you, we will give the answer right below."
   ]
  },
  {
   "cell_type": "markdown",
   "metadata": {
    "colab_type": "text",
    "id": "b4yv1eyhby70"
   },
   "source": [
    "## Phase plane analysis\n",
    "\n",
    "We will next introduce the phase plane analysis to understand the behavior of the E and I populations in the Wilson-Cowan model. So far, we have plotted the activities of the two populations as a function of time, i.e. in the `Activity-t` plane, either the $(t, E(t))$ plane or the and $(t, I(t))$ one. Instead, we can plot the two activities $E(t)$ and $I(t)$ against each other at any time point $t$. This characterization in the `I-E` plane $(I(t), E(t))$ is called the **phase plane**. Each line in the phase plane indicates how both $E$ and $I$ evolve with time."
   ]
  },
  {
   "cell_type": "markdown",
   "metadata": {
    "colab_type": "text",
    "id": "YoxJ32W9tEHz"
   },
   "source": [
    "### Interactive Demo: From the `Activity-t` plane to the `I-E` phase plane\n",
    "\n",
    "In this demo widget, we will visualize the system dynamics using both the `Activity-time` and the `(E, I)` phase plane. The circles indicate the activities at a given time $t$, while the lines represent the evolution of the system for the entire duration of the simulation."
   ]
  },
  {
   "cell_type": "code",
   "execution_count": 10,
   "metadata": {
    "cellView": "form",
    "colab": {
     "base_uri": "https://localhost:8080/",
     "height": 423,
     "referenced_widgets": [
      "0ec265da2a054acbbb4e1dc47c85424e",
      "fa53197403334efeb8cfc531ee7fc0b6",
      "5c6cbfe03aaa42ec81ae7a95ffe1f909",
      "ba01b9bb19454367a941cb5af608f69d",
      "cf2f4d9691cb4cadbaf7eb50bc63e415",
      "05628c37fc6947deb2a5bf1af39e5637",
      "a678271849d248218439cc6697d67bb8"
     ]
    },
    "colab_type": "code",
    "id": "V3f1OK_vsvqM",
    "outputId": "0ebd3060-0969-48b8-8263-33801ab41ed7"
   },
   "outputs": [
    {
     "data": {
      "image/png": "[encoded data removed]",
      "text/plain": [
       "<Figure size 576x396 with 2 Axes>"
      ]
     },
     "metadata": {
      "needs_background": "light"
     },
     "output_type": "display_data"
    }
   ],
   "source": [
    "#@title `Activity-t` plane vs `I-E` phase plane \n",
    "\n",
    "pars = default_pars(T=10)\n",
    "pars['E_init'], pars['I_init'] = 0.6, 0.8\n",
    "E,I = simulate_wc(pars)\n",
    "\n",
    "def plot_activity_phase(n_t):\n",
    "  plt.figure(figsize=(8, 5.5))\n",
    "  plt.subplot(2,1,1)\n",
    "  plt.plot(pars['range_t'], E, 'b', label='E')\n",
    "  plt.plot(pars['range_t'], I, 'r', label='I')\n",
    "  plt.plot(pars['range_t'][n_t], E[n_t], 'bo')\n",
    "  plt.plot(pars['range_t'][n_t], I[n_t], 'ro')\n",
    "  plt.axvline(pars['range_t'][n_t], 0, 1, color='k', ls='--')\n",
    "  plt.xlabel('t (ms)', fontsize=14)\n",
    "  plt.ylabel('Activity', fontsize=14)\n",
    "  plt.legend(loc='best', fontsize=14)\n",
    "\n",
    "  plt.subplot(2,1,2)\n",
    "  plt.plot(E, I, 'k')\n",
    "  plt.plot(E[n_t], I[n_t], 'ko')\n",
    "  plt.xlabel('E', fontsize=18, color='b')\n",
    "  plt.ylabel('I', fontsize=18, color='r')\n",
    "\n",
    "  plt.tight_layout()\n",
    "  plt.show()\n",
    "\n",
    "_ = widgets.interact(plot_activity_phase, n_t = (0, len(pars['range_t']-1), 1))  "
   ]
  },
  {
   "cell_type": "code",
   "execution_count": 11,
   "metadata": {
    "cellView": "form",
    "colab": {
     "base_uri": "https://localhost:8080/",
     "height": 519
    },
    "colab_type": "code",
    "id": "O4Ci9Lmp7HvG",
    "outputId": "6f091ea0-2d59-4c68-abfc-9edf490abc09"
   },
   "outputs": [
    {
     "name": "stdout",
     "output_type": "stream",
     "text": [
      "Video available at https://youtube.com/watch?v=BnwMK9dxCnk\n"
     ]
    },
    {
     "data": {
      "image/jpeg": "[encoded data removed]",
      "text/html": [
       "\n",
       "        <iframe\n",
       "            width=\"854\"\n",
       "            height=\"480\"\n",
       "            src=\"https://www.youtube.com/embed/BnwMK9dxCnk?fs=1\"\n",
       "            frameborder=\"0\"\n",
       "            allowfullscreen\n",
       "        ></iframe>\n",
       "        "
      ],
      "text/plain": [
       "<IPython.lib.display.YouTubeVideo at 0x7f1920297e10>"
      ]
     },
     "execution_count": 11,
     "metadata": {},
     "output_type": "execute_result"
    }
   ],
   "source": [
    "#@title Video: Nullclines and Vector Fields\n",
    "from IPython.display import YouTubeVideo\n",
    "video = YouTubeVideo(id=\"BnwMK9dxCnk\", width=854, height=480, fs=1)\n",
    "print(\"Video available at https://youtube.com/watch?v=\" + video.id)\n",
    "video"
   ]
  },
  {
   "cell_type": "markdown",
   "metadata": {
    "colab_type": "text",
    "id": "KAoqPzL6ooIN"
   },
   "source": [
    "### Nullclines of the Wilson-Cowan Equations\n",
    "\n",
    "An important concept in the phase plane analysis is the \"nullcline\", which is defined as the set of points in the phase plane where the activity of one population (but not necessarily the other) does not change.\n",
    "\n",
    "In other words, the $E$ and $I$ nullclines of Equation $(1)$ are defined as the points where $\\displaystyle{\\frac{dE}{dt}}=0$, for the excitatory nullcline, or $\\displaystyle\\frac{dI}{dt}=0$ for the inhibitory nullcline. That is:\n",
    "\n",
    "\\begin{align}\n",
    "-E + F_E(w_{EE}E -w_{EI}I + I^{\\text{ext}}_E;a_E,\\theta_E) &= 0  \\qquad (2)\\\\[1mm]\n",
    "-I + F_I(w_{IE}E -w_{II}I + I^{\\text{ext}}_I;a_I,\\theta_I) &= 0    \\qquad (3)\n",
    "\\end{align}\n",
    "\n",
    "Formally, Equations $2$ and $3$ can be written in the following form:\n",
    "\n",
    "\\begin{align}\n",
    "I = \\frac{1}{w_{EI}}\\big{[}w_{EE}E - F_E^{-1}(E; a_E,\\theta_E) + I^{\\text{ext}}_E \\big{]} \\qquad (4)\n",
    "\\end{align}\n",
    "\n",
    "Where $F_E^{-1}(E; a_E,\\theta_E)$ is the inverse of the excitatory transfer function. Equation $4$ defines the $E$ nullcline.\n",
    "\n",
    "\n",
    "Similarly, the $I$ nullcline is found as:\n",
    "\\begin{align}\n",
    "E = \\frac{1}{w_{IE}} \\big{[} w_{II}I + F_I^{-1}(I;a_I,\\theta_I) - I^{\\text{ext}}_I \\big{]}.  \\qquad (5)  \n",
    "\\end{align}\n",
    "\n",
    "Where $F_I^{-1}(x; a_I,\\theta_I)$ is the inverse of the inhibitory transfer function. Equation $5$ defines the $I$ nullcline.\n",
    "\n",
    "\\\\"
   ]
  },
  {
   "cell_type": "markdown",
   "metadata": {
    "colab_type": "text",
    "id": "uJTqbUyCQD1T"
   },
   "source": [
    "#### Exercise 3: Compute the nullclines of the Wilson-Cowan model\n",
    "\n",
    "In the next exercise, we will compute and plot the $E$ and the $I$ nullclines using Equations $4$ - $5$.\n",
    "Note that, when computing the nullclines with Equations $4$-$5$, we also need to calculate the inverse of the transfer functions."
   ]
  },
  {
   "cell_type": "code",
   "execution_count": 12,
   "metadata": {
    "colab": {},
    "colab_type": "code",
    "id": "Msd1elDBbvpI"
   },
   "outputs": [],
   "source": [
    "# Exercise 3: Nullclines of Wilson-Cowan model\n",
    "\n",
    "# Define the inverse of F\n",
    "def F_inv(x,a,theta): \n",
    "  \"\"\"\n",
    "  Args:\n",
    "    x         : the population input\n",
    "    a         : the gain of the function\n",
    "    theta     : the threshold of the function\n",
    "  \n",
    "  Returns:\n",
    "    F_inverse : value of the inverse function\n",
    "  \"\"\"\n",
    "  \n",
    "  #####################################################################\n",
    "  ## TODO for students: compute F_inverse, remove NotImplementedError #\n",
    "  #####################################################################\n",
    "  # F_inverse = ...\n",
    "  raise NotImplementedError(\"Student excercise: compute the inverse of F(x)\")\n",
    "\n",
    "  return F_inverse\n",
    "\n",
    "\n",
    "# get the nullcline for E, solve Equation. (4) along the E-grid\n",
    "def get_E_nullcline(pars, E_grid):\n",
    "  \"\"\"\n",
    "  Solve for I along the E_grid from dE/dt = 0.\n",
    "  \n",
    "  Args:\n",
    "    pars   : Parameter dictionary\n",
    "    E_grid : a single value or an array\n",
    "  \n",
    "  Returns:\n",
    "    I      : values of inhibitory population along the nullcline on the E-grid\n",
    "  \"\"\"\n",
    "  \n",
    "  a_E, theta_E = pars['a_E'], pars['theta_E']\n",
    "  wEE, wEI = pars['wEE'], pars['wEI'] \n",
    "  I_ext_E = pars['I_ext_E']\n",
    "\n",
    "  ###########################################\n",
    "  ## TODO for students: compute E nullcline #\n",
    "  ###########################################\n",
    "  # I = ...\n",
    "  raise NotImplementedError(\"Student excercise: compute the E nullcline\")\n",
    "  \n",
    "  return I\n",
    "\n",
    "# get the nullcline for I, solve Equation. (5) along the I-grid\n",
    "def get_I_nullcline(pars, I_grid):\n",
    "  \"\"\"\n",
    "  Solve for E along the I_grid from dI/dt = 0.\n",
    "  \n",
    "  Args:\n",
    "    pars   : Parameter dictionary\n",
    "    I_grid : a single value or an array\n",
    "  \n",
    "  Returns:\n",
    "    E      : values of the excitatory population along the nullcline on the I-grid\n",
    "  \"\"\"\n",
    "  \n",
    "  a_I, theta_I = pars['a_I'], pars['theta_I']\n",
    "  wIE, wII = pars['wIE'], pars['wII']\n",
    "  I_ext_I =  pars['I_ext_I'] \n",
    "\n",
    "  ###########################################\n",
    "  ## TODO for students: compute I nullcline #\n",
    "  ###########################################\n",
    "  # E = ...\n",
    "  raise NotImplementedError(\"Student excercise: compute the I nullcline\")\n",
    "  \n",
    "  return E \n",
    "\n",
    "# Uncomment the below lines after completing the all above functions\n",
    "# pars = default_pars() # get parameters\n",
    "# my_plot_nullcline(pars)"
   ]
  },
  {
   "cell_type": "markdown",
   "metadata": {
    "cellView": "both",
    "colab": {
     "base_uri": "https://localhost:8080/",
     "height": 368
    },
    "colab_type": "text",
    "id": "5_nTmGL51k6B",
    "outputId": "8902ada6-8267-474e-8c26-6617f4c122b6"
   },
   "source": [
    "[*Click for solution*](https://github.com/NeuromatchAcademy/course-content/tree/master//tutorials/W3D2_DynamicNetworks/solutions/W3D2_Tutorial2_Solution_a1723906.py)\n",
    "\n",
    "*Example output:*\n",
    "\n",
    "<img alt='Solution hint' align='left' width=513 height=357 src=https://raw.githubusercontent.com/NeuromatchAcademy/course-content/master/tutorials/W3D2_DynamicNetworks/static/W3D2_Tutorial2_Solution_a1723906_0.png>\n",
    "\n"
   ]
  },
  {
   "cell_type": "markdown",
   "metadata": {
    "colab_type": "text",
    "id": "AV8XDjhMb-jk"
   },
   "source": [
    "### Vector field\n",
    "\n",
    "How can the phase plane and the nullcline curves help us understand the behavior of the Wilson-Cowan model? \n",
    "\n",
    "The activities of the $E$ and $I$ populations $E(t)$ and $I(t)$ at each time point $t$ correspond to a single point in the phase plane, with coordinates $(E(t),I(t))$. Therefore, the time-dependent trajectory of the system can be described as a continuous curve in the phase plane, and the tangent vector to the trajectory, which is defined as the vector $\\bigg{(}\\displaystyle{\\frac{dE(t)}{dt},\\frac{dI(t)}{dt}}\\bigg{)}$, indicates the direction towards which the activity is evolving and how fast is the activity changing along each axis. In fact, for each point $(E,I)$ in the phase plane, we can compute the tangent vector $\\bigg{(}\\displaystyle{\\frac{dE}{dt},\\frac{dI}{dt}}\\bigg{)}$, which will indicate the behavior of the system when it traverses that point. The map of tangent vectors in the phase plane is called **vector field**. The behavior of any trajectory in the phase plane is determined by i) the initial conditions $(E(0),I(0))$, and ii) the vector field $(\\displaystyle{\\frac{dE(t)}{dt},\\frac{dI(t)}{dt}})$.\n",
    "\n",
    "In general, the value of the vector field at a particular point in the phase plane is represented by an arrow. The orientation and the size of the arrow reflect the direction and the norm of the vector, respectively."
   ]
  },
  {
   "cell_type": "markdown",
   "metadata": {
    "colab_type": "text",
    "id": "4r-JYJ9USlRY"
   },
   "source": [
    "#### Exercise 4: Compute and plot the vector field $\\displaystyle{\\Big{(}\\frac{dE}{dt}, \\frac{dI}{dt} \\Big{)}}$"
   ]
  },
  {
   "cell_type": "code",
   "execution_count": 14,
   "metadata": {
    "colab": {},
    "colab_type": "code",
    "id": "cq2654EzTzZ2"
   },
   "outputs": [],
   "source": [
    "# Exercise 4\n",
    "# Define the value of the derivatives according to Equation. (1)\n",
    "def EIderivs(E_grid, I_grid, pars):\n",
    "  \"\"\"\n",
    "  Time derivatives for E/I variables (dE/dt, dI/dt).\n",
    "  \"\"\"\n",
    "  \n",
    "  tau_E, a_E, theta_E = pars['tau_E'], pars['a_E'], pars['theta_E']\n",
    "  tau_I, a_I, theta_I = pars['tau_I'], pars['a_I'], pars['theta_I']\n",
    "  wEE, wEI = pars['wEE'], pars['wEI'] \n",
    "  wIE, wII = pars['wIE'], pars['wII']\n",
    "  I_ext_E, I_ext_I = pars['I_ext_E'], pars['I_ext_I'] \n",
    "  \n",
    "  ##########################################################################\n",
    "  ## TODO for students: compute dEdt and dI/dt, remove NotImplementedError #\n",
    "  ##########################################################################\n",
    "  # dEdt = ...\n",
    "  # dIdt = ...\n",
    "  raise NotImplementedError(\"Student excercise: compute the vector field\")\n",
    "  \n",
    "  return dEdt, dIdt\n",
    "\n",
    "# Uncomment these lines after completing the EIderivs function\n",
    "# pars = default_pars()\n",
    "# my_plot_trajectories(pars, 0.2, 6, 'Sample trajectories \\nof different initials')\n",
    "# my_plot_trajectory(pars, 'orange', [0.6, 0.8], 'Sample trajectory to \\nlow activity')\n",
    "# my_plot_trajectory(pars, 'm', [0.6, 0.6], 'Sample trajectory to \\nhigh activity')\n",
    "# my_plot_vector(pars)\n",
    "# my_plot_nullcline(pars)\n",
    "# plt.legend(loc=[1.02, 0.6], fontsize=12, handlelength=1)"
   ]
  },
  {
   "cell_type": "markdown",
   "metadata": {
    "cellView": "both",
    "colab": {
     "base_uri": "https://localhost:8080/",
     "height": 377
    },
    "colab_type": "text",
    "id": "4bJm2sqg3KMd",
    "outputId": "901b2ab3-4c6b-4b7a-9263-526eceff6d26"
   },
   "source": [
    "[*Click for solution*](https://github.com/NeuromatchAcademy/course-content/tree/master//tutorials/W3D2_DynamicNetworks/solutions/W3D2_Tutorial2_Solution_a20da002.py)\n",
    "\n",
    "*Example output:*\n",
    "\n",
    "<img alt='Solution hint' align='left' width=617 height=387 src=https://raw.githubusercontent.com/NeuromatchAcademy/course-content/master/tutorials/W3D2_DynamicNetworks/static/W3D2_Tutorial2_Solution_a20da002_0.png>\n",
    "\n"
   ]
  },
  {
   "cell_type": "markdown",
   "metadata": {
    "colab_type": "text",
    "id": "ZM_pPKMScDh5"
   },
   "source": [
    "### Think! \n",
    "\n",
    "The last phase plane plot showed us that: \n",
    "- trajectories seem to follow the direction of the vector field\n",
    "- different trajectories eventually always reach one of two points depending on the initial conditions. Note that the two points are the intersection of the two nullcline curves. \n",
    "\n",
    "There are, in total, three intersection points, but one of them is never the final state of a trajectory. Why is that? "
   ]
  },
  {
   "cell_type": "markdown",
   "metadata": {
    "colab_type": "text",
    "id": "bx7aiRLtpFAw"
   },
   "source": [
    "## Summary\n",
    "\n",
    "Congratulations! You have finished the second day of the last week of neuromatch academy! Here, you learned how to simulate a rate based model consisting of excitatory and inhibitory population of neurons.\n",
    "\n",
    "In the last tutorial on dynamical neuronal networks you learned to:\n",
    "- Implement and simulate a 2D system composed of an E and an I population of neurons using the **Wilson-Cowan** model\n",
    "- Plot the frequency-current (F-I) curves for both populations\n",
    "- Examine the behavior of the system using phase **plane analysis**, **vector fields**, and **nullclines**.\n",
    "\n",
    "Do you have more time? Have you finished early? We have more fun material for you!\n",
    "\n",
    "Below are some, more advanced concepts on dynamical systems:\n",
    "\n",
    "- You will learn how to find the fixed points on such a system, and to investigate its stability by linearizing its dynamics and examining the **Jacobian matrix**.\n",
    "- You will see how the Wilson-Cowan model can reach an oscillatory state.\n",
    "\n",
    "If you need even more, there are two applications of the Wilson-Cowan model:\n",
    "\n",
    "- Visualization of an Inhibition-stabilized network\n",
    "- Simulation of working memory"
   ]
  },
  {
   "cell_type": "markdown",
   "metadata": {
    "colab_type": "text",
    "id": "8v2qsjq2OSOo"
   },
   "source": [
    "## Bonus 1: Fixed points, stability analysis, and limit cycles in the Wilson-Cowan model"
   ]
  },
  {
   "cell_type": "code",
   "execution_count": 16,
   "metadata": {
    "cellView": "form",
    "colab": {
     "base_uri": "https://localhost:8080/",
     "height": 519
    },
    "colab_type": "code",
    "id": "XbeIet5NOPjo",
    "outputId": "062d67c6-ecd8-4ecb-cec5-2b67f7320e74"
   },
   "outputs": [
    {
     "name": "stdout",
     "output_type": "stream",
     "text": [
      "Video available at https://youtube.com/watch?v=RgysOunhhwM\n"
     ]
    },
    {
     "data": {
      "image/jpeg": "[encoded data removed]",
      "text/html": [
       "\n",
       "        <iframe\n",
       "            width=\"854\"\n",
       "            height=\"480\"\n",
       "            src=\"https://www.youtube.com/embed/RgysOunhhwM?fs=1\"\n",
       "            frameborder=\"0\"\n",
       "            allowfullscreen\n",
       "        ></iframe>\n",
       "        "
      ],
      "text/plain": [
       "<IPython.lib.display.YouTubeVideo at 0x7f192014be90>"
      ]
     },
     "execution_count": 16,
     "metadata": {},
     "output_type": "execute_result"
    }
   ],
   "source": [
    "#@title Video: Fixed points and their stability\n",
    "from IPython.display import YouTubeVideo\n",
    "video = YouTubeVideo(id=\"RgysOunhhwM\", width=854, height=480, fs=1)\n",
    "print(\"Video available at https://youtube.com/watch?v=\" + video.id)\n",
    "video"
   ]
  },
  {
   "cell_type": "markdown",
   "metadata": {
    "colab_type": "text",
    "id": "kueE2dLycGbA"
   },
   "source": [
    "### Fixed Point of the E/I system\n",
    "\n",
    "Clearly, the intersection points of the two nullcline curves are the fixed points of the Wilson-Cowan model in Equation $(1)$. \n",
    "\n",
    "In the next exercise, we will find the coordinate of all fixed points for a given set of parameters.\n",
    "\n",
    "Let's start by inspecting and then executing the cell below."
   ]
  },
  {
   "cell_type": "code",
   "execution_count": 17,
   "metadata": {
    "cellView": "both",
    "colab": {},
    "colab_type": "code",
    "id": "Dni0QzyfcB66"
   },
   "outputs": [],
   "source": [
    "def my_fp(pars, E_init, I_init):\n",
    "  \"\"\"\n",
    "  use opt.root function to solve Equations. (4)-(5) from an initial [E_init, I_init]\n",
    "  \"\"\"\n",
    "  \n",
    "  tau_E, a_E, theta_E = pars['tau_E'], pars['a_E'], pars['theta_E']\n",
    "  tau_I, a_I, theta_I = pars['tau_I'], pars['a_I'], pars['theta_I']\n",
    "  wEE, wEI = pars['wEE'], pars['wEI'] \n",
    "  wIE, wII = pars['wIE'], pars['wII']\n",
    "  I_ext_E, I_ext_I = pars['I_ext_E'], pars['I_ext_I'] \n",
    "  \n",
    "  # define the right hand of wilson-cowan equations\n",
    "  def my_WCr(x):\n",
    "      \n",
    "    E = x[0]\n",
    "    I = x[1]\n",
    "    \n",
    "    dEdt=(-E + F(wEE*E-wEI*I+I_ext_E,a_E,theta_E))/tau_E\n",
    "    dIdt=(-I + F(wIE*E-wII*I+I_ext_I,a_I,theta_I))/tau_I\n",
    "    y = np.array([dEdt, dIdt])\n",
    "    \n",
    "    return y\n",
    "  \n",
    "  x0 = np.array([E_init, I_init])\n",
    "  x_fp = opt.root(my_WCr, x0).x\n",
    "  \n",
    "  return x_fp"
   ]
  },
  {
   "cell_type": "markdown",
   "metadata": {
    "colab_type": "text",
    "id": "6grnXKjq4pQf"
   },
   "source": [
    "#### Exercise 5: Find the fixed points of the Wilson-Cowan model\n",
    "\n",
    "From the above nullclines, we notice that the system features  three fixed points with the parameters we used. To find their coordinates, we need to choose the proper initial value to give to the `opt.root` function inside of the function `my_fp` we just defined, since the algorithm can only find fixed points in the vicinity of the initial value. \n",
    "\n",
    "In this exercise, you will use the function `my_fp` to find each of the fixed points by varying the initial values."
   ]
  },
  {
   "cell_type": "code",
   "execution_count": 18,
   "metadata": {
    "colab": {
     "base_uri": "https://localhost:8080/",
     "height": 370
    },
    "colab_type": "code",
    "id": "TXka86oM4plz",
    "outputId": "761f0a92-97d8-4cd3-f537-1be57045625f"
   },
   "outputs": [
    {
     "data": {
      "image/png": "[encoded data removed]",
      "text/plain": [
       "<Figure size 576x396 with 1 Axes>"
      ]
     },
     "metadata": {
      "needs_background": "light"
     },
     "output_type": "display_data"
    }
   ],
   "source": [
    "# Exercise 5\n",
    "pars = default_pars()\n",
    "\n",
    "plt.figure(figsize=(8, 5.5))\n",
    "my_plot_nullcline(pars)\n",
    "\n",
    "#####################################################\n",
    "## TODO for students:                               #\n",
    "# Calculate the fixed point with your initial value #\n",
    "# verify your fixed point and plot the corret ones  #\n",
    "#####################################################\n",
    "\n",
    "\n",
    "#x_fp = my_fp(pars, )\n",
    "#check if x_fp is the intersection of the lines with the give function check_fp(x_fp)\n",
    "#vary different initial values to find the correct fixed point\n",
    "#if check_fp(x_fp):\n",
    "#  plot_fp(x_fp)  #you can plot fixedpoit directly by plt.plot(...)"
   ]
  },
  {
   "cell_type": "markdown",
   "metadata": {
    "cellView": "both",
    "colab": {
     "base_uri": "https://localhost:8080/",
     "height": 368
    },
    "colab_type": "text",
    "id": "Unwet1TfcM_h",
    "outputId": "70569cd0-99c3-461d-b30a-8e1fe68841d2"
   },
   "source": [
    "[*Click for solution*](https://github.com/NeuromatchAcademy/course-content/tree/master//tutorials/W3D2_DynamicNetworks/solutions/W3D2_Tutorial2_Solution_954c437d.py)\n",
    "\n",
    "*Example output:*\n",
    "\n",
    "<img alt='Solution hint' align='left' width=513 height=357 src=https://raw.githubusercontent.com/NeuromatchAcademy/course-content/master/tutorials/W3D2_DynamicNetworks/static/W3D2_Tutorial2_Solution_954c437d_0.png>\n",
    "\n"
   ]
  },
  {
   "cell_type": "markdown",
   "metadata": {
    "colab_type": "text",
    "id": "qastrWoycQjn"
   },
   "source": [
    "### Stability of a fixed point and eigenvalues of the Jacobian Matrix\n",
    "\n",
    "First, let's first rewrite the system $1$ as:\n",
    "\n",
    "\\begin{align}\n",
    "&\\frac{dE}{dt} = G_E(E,I)\\\\[0.5mm]\n",
    "&\\frac{dI}{dt} = G_I(E,I) \\qquad (11)\n",
    "\\end{align}\n",
    "where\n",
    "\n",
    "\\begin{align}\n",
    "&G_E(E,I) = \\frac{1}{\\tau_E} [-E + F_E(w_{EE}E -w_{EI}I + I^{\\text{ext}}_E;a,\\theta)]\\\\[1mm]\n",
    "&G_I(E,I) = \\frac{1}{\\tau_I} [-I + F_I(w_{IE}E -w_{II}I + I^{\\text{ext}}_I;a,\\theta)]\n",
    "\\end{align}\n",
    "\n",
    "By definition, $\\displaystyle\\frac{dE}{dt}=0$ and $\\displaystyle\\frac{dI}{dt}=0$ at each fixed point. Therefore, if the initial state is exactly at the fixed point, the state of the system will not change as time evolves. However, if the initial state deviates slightly from the fixed point, two possibilities will happen (1) the trajectory will be attracted back to the fixed point (2) the trajectory will diverge from the fixed point. These two possibilities define the type of fixed point, i.e., stable or unstable. Similar to the 1d system studied in the previous tutorial, the stability of a fixed point $(E, I)$ can be determined by linearizing the dynamics of the system (can you figure out how?). The linearization will yield a matrix of first-order derivatives called the Jacobian matrix:\n",
    "\n",
    " \\begin{equation}\n",
    "   J=\n",
    "  \\left[ {\\begin{array}{cc}\n",
    "   \\displaystyle{\\frac{\\partial G_E}{\\partial E}} & \\displaystyle{\\frac{\\partial G_E}{\\partial I}}\\\\[1mm]\n",
    "   \\displaystyle\\frac{\\partial G_I}{\\partial E} & \\displaystyle\\frac{\\partial G_I}{\\partial I} \\\\\n",
    "  \\end{array} } \\right]. \\quad (12)\n",
    "\\end{equation}\n",
    "\n",
    " The eigenvalues of the Jacobian matrix calculated at the fixed point will determine whether it is a stable or unstable fixed point.\n",
    "\n",
    "\\\\\n",
    "\n",
    "We can now compute the derivatives needed to build the Jacobian matrix. Using the chain and product rules, the derivatives for the excitatory population are given by:\n",
    "\\begin{align}\n",
    "&\\frac{\\partial G_E}{\\partial E} = \\frac{1}{\\tau_E} [-1 + w_{EE} F_E'(w_{EE}E -w_{EI}I +  I^{\\text{ext}}_E)] \\\\[1mm]\n",
    "&\\frac{\\partial G_E}{\\partial I} = \\frac{1}{\\tau_E} [-w_{EI} F_I'(w_{EE}E -w_{EI}I +  I^{\\text{ext}}_E)] \n",
    "\\end{align}\n",
    "\n",
    "The same applies to the inhibitory population. "
   ]
  },
  {
   "cell_type": "markdown",
   "metadata": {
    "colab_type": "text",
    "id": "3uy5zBscbI0c"
   },
   "source": [
    "#### Exercise 6: Compute the Jacobian Matrix for the Wilson-Cowan model"
   ]
  },
  {
   "cell_type": "code",
   "execution_count": 20,
   "metadata": {
    "colab": {},
    "colab_type": "code",
    "id": "HbzRXGAwcUet"
   },
   "outputs": [],
   "source": [
    "# Exercise 6\n",
    "def get_eig_Jacobian(pars, fp):\n",
    "  \"\"\"\n",
    "  Simulate the Wilson-Cowan equations \n",
    "  \n",
    "  Args:\n",
    "    pars  : Parameter dictionary\n",
    "    fp    : fixed point (E, I), array\n",
    "  \n",
    "  Returns:\n",
    "    evals : 2x1 vector of eigenvalues of the Jacobian matrix\n",
    "  \"\"\"\n",
    "  \n",
    "  #get the parameters\n",
    "  tau_E, a_E, theta_E = pars['tau_E'], pars['a_E'], pars['theta_E']\n",
    "  tau_I, a_I, theta_I = pars['tau_I'], pars['a_I'], pars['theta_I']\n",
    "  wEE, wEI = pars['wEE'], pars['wEI'] \n",
    "  wIE, wII = pars['wIE'], pars['wII']\n",
    "  I_ext_E, I_ext_I = pars['I_ext_E'], pars['I_ext_I']\n",
    "\n",
    "  #initialization\n",
    "  E = fp[0]\n",
    "  I = fp[1]\n",
    "  J = np.zeros((2,2))\n",
    "  \n",
    "  ######################################################################\n",
    "  ## TODO for students: compute J, then remove the NotImplementedError #\n",
    "  ######################################################################\n",
    "  # J[i, j] = ...\n",
    "  raise NotImplementedError(\"Student excercise: compute the Jacobian matrix\")    \n",
    "  \n",
    "  # Eigenvalues\n",
    "  evals = np.linalg.eig(J)[0]\n",
    "  \n",
    "  return evals\n",
    "\n",
    "# Uncomment these lines after completing the get_eig_Jacobian function\n",
    "# only when you get the correct fixed point above you print their eigenvalues below  \n",
    "\n",
    "#eig_1 = get_eig_Jacobian(pars, x_fp_1)\n",
    "#eig_2 = get_eig_Jacobian(pars, x_fp_2)\n",
    "#eig_3 = get_eig_Jacobian(pars, x_fp_3)\n",
    "#print(eig_1, 'Stable point')\n",
    "#print(eig_2, 'Unstable point')\n",
    "#print(eig_3, 'Stable point')"
   ]
  },
  {
   "cell_type": "markdown",
   "metadata": {
    "cellView": "both",
    "colab": {
     "base_uri": "https://localhost:8080/",
     "height": 69
    },
    "colab_type": "text",
    "id": "F9uswAXA5FRo",
    "outputId": "9a748b91-49a7-47ad-d59f-8fc746cbc75b"
   },
   "source": [
    "[*Click for solution*](https://github.com/NeuromatchAcademy/course-content/tree/master//tutorials/W3D2_DynamicNetworks/solutions/W3D2_Tutorial2_Solution_0349af2c.py)\n",
    "\n"
   ]
  },
  {
   "cell_type": "markdown",
   "metadata": {
    "colab_type": "text",
    "id": "CvpweBaIcaew"
   },
   "source": [
    "As is evident, the stable point corresponds to the negative eigenvalues, while unstable point corresponds to at least one positive eigenvalue."
   ]
  },
  {
   "cell_type": "markdown",
   "metadata": {
    "colab_type": "text",
    "id": "tn7kTA9ZcWTE"
   },
   "source": [
    "Below we investigate the effect of $w_{EE}$ on the nullclines and the eigenvalues of the dynamical system. <font color='black'> _Critical change is referred as **pitchfork bifurcation**._</font> "
   ]
  },
  {
   "cell_type": "code",
   "execution_count": 22,
   "metadata": {
    "cellView": "form",
    "colab": {
     "base_uri": "https://localhost:8080/",
     "height": 371
    },
    "colab_type": "code",
    "id": "GPXlFbGU3Ydc",
    "outputId": "013ab82d-e8f0-4b26-c0f0-d5a421ca3c77"
   },
   "outputs": [
    {
     "data": {
      "image/png": "[encoded data removed]",
      "text/plain": [
       "<Figure size 576x396 with 1 Axes>"
      ]
     },
     "metadata": {
      "needs_background": "light"
     },
     "output_type": "display_data"
    }
   ],
   "source": [
    "#@title Effect of `wEE` on the nullclines and the eigenvalues\n",
    "eig_1_M = []\n",
    "eig_2_M = []\n",
    "eig_3_M = []\n",
    "pars = default_pars()\n",
    "wEE_grid = np.linspace(6,10,40)\n",
    "my_thre = 7.9\n",
    "for wEE in wEE_grid:\n",
    "    x_fp_1 = [0., 0.]\n",
    "    x_fp_2 = [.4, .1]\n",
    "    x_fp_3 = [.8, .1]\n",
    "    pars['wEE'] = wEE\n",
    "    if wEE < my_thre:\n",
    "        x_fp_1 = my_fp(pars, x_fp_1[0], x_fp_1[1])\n",
    "        eig_1 = get_eig_Jacobian(pars, x_fp_1)\n",
    "        eig_1_M.append(np.max(np.real(eig_1)))\n",
    "    else:\n",
    "        x_fp_1 = my_fp(pars, x_fp_1[0], x_fp_1[1])\n",
    "        eig_1 = get_eig_Jacobian(pars, x_fp_1)\n",
    "        eig_1_M.append(np.max(np.real(eig_1)))\n",
    "\n",
    "        x_fp_2 = my_fp(pars, x_fp_2[0], x_fp_2[1])\n",
    "        eig_2 = get_eig_Jacobian(pars, x_fp_2)\n",
    "        eig_2_M.append(np.max(np.real(eig_2)))\n",
    "        \n",
    "        x_fp_3 = my_fp(pars, x_fp_3[0], x_fp_3[1])\n",
    "        eig_3 = get_eig_Jacobian(pars, x_fp_3)\n",
    "        eig_3_M.append(np.max(np.real(eig_3)))\n",
    "\n",
    "eig_1_M = np.array(eig_1_M)\n",
    "eig_2_M = np.array(eig_2_M)\n",
    "eig_3_M = np.array(eig_3_M)\n",
    "\n",
    "plt.figure(figsize=(8, 5.5))\n",
    "plt.plot(wEE_grid, eig_1_M, 'ko', alpha=0.5)\n",
    "plt.plot(wEE_grid[wEE_grid>=my_thre], eig_2_M, 'bo', alpha=0.5)\n",
    "plt.plot(wEE_grid[wEE_grid>=my_thre], eig_3_M, 'ro', alpha=0.5)\n",
    "plt.xlabel(r'$w_{\\mathrm{EE}}$')\n",
    "plt.ylabel('maximum real part of eigenvalue')\n",
    "plt.show()"
   ]
  },
  {
   "cell_type": "markdown",
   "metadata": {
    "colab_type": "text",
    "id": "ZgK-hVuCcM89"
   },
   "source": [
    "#### Interactive Demo: Nullclines position in the phase plane changes with parameter values.\n",
    "\n",
    "In this interactive widget, we will explore how the nullclines move for different values of the parameter $w_{EE}$."
   ]
  },
  {
   "cell_type": "code",
   "execution_count": 23,
   "metadata": {
    "cellView": "form",
    "colab": {
     "base_uri": "https://localhost:8080/",
     "height": 423,
     "referenced_widgets": [
      "54a4af4754754e5681e26006de5a6e56",
      "d6c78211049447b987efa0c6dcab3083",
      "7661f3c67e014e79b44a1462bfa0a69a",
      "08e33a5f30e34932b7824759e2e779d6",
      "d42075db409241af8f97d00c80b9e73f",
      "d852e82d2cfe46ae8733c7f6ea6eca9d",
      "7031b4e5a1244c80b0a900ab8e0fe208"
     ]
    },
    "colab_type": "code",
    "id": "hm4tdQXcclC2",
    "outputId": "624f1060-38de-4282-dbc9-ad13c37cccd4"
   },
   "outputs": [
    {
     "data": {
      "image/png": "[encoded data removed]",
      "text/plain": [
       "<Figure size 864x396 with 3 Axes>"
      ]
     },
     "metadata": {
      "needs_background": "light"
     },
     "output_type": "display_data"
    }
   ],
   "source": [
    "#@title Nullcline Explorer\n",
    "def plot_nullcline_diffwEE(wEE):\n",
    "  '''\n",
    "    plot nullclines for different values of wEE\n",
    "  '''\n",
    "  pars = default_pars()\n",
    "  pars['wEE'] = wEE\n",
    "\n",
    "  # plot the E, I nullclines\n",
    "  E_grid = np.linspace(-0.01,.96,100)\n",
    "  E_nullcline = get_E_nullcline(pars, E_grid)\n",
    "\n",
    "  I_grid = np.linspace(-.01,.8,100)\n",
    "  I_nullcline = get_I_nullcline(pars, I_grid)\n",
    "\n",
    "  plt.figure(figsize=(12, 5.5))\n",
    "  plt.subplot(1, 2, 1)\n",
    "  plt.plot(E_grid, E_nullcline, 'r', label='E nullcline')\n",
    "  plt.plot(I_nullcline, I_grid, 'b', label='I nullcline')\n",
    "  #plt.xlim(0.6, 1.0)\n",
    "  #plt.ylim(0.3, 0.6)\n",
    "  plt.xlabel('E')\n",
    "  plt.ylabel('I')\n",
    "  plt.legend(loc='best')\n",
    "\n",
    "  plt.subplot(2, 2, 2)\n",
    "  pars['E_init'], pars['I_init'] = 0.2, 0.2\n",
    "  E, I = simulate_wc(pars)\n",
    "  plt.plot(pars['range_t'], E, 'r', label='E population', clip_on=False)\n",
    "  plt.plot(pars['range_t'], I, 'b', label='I population', clip_on=False)\n",
    "  plt.xlabel('t (ms)')\n",
    "  plt.ylabel('Activity')\n",
    "  plt.legend(loc='best')\n",
    "  plt.ylim(-0.05, 1.05)\n",
    "  plt.title('E/I activity', fontsize=10, fontweight='bold')\n",
    "\n",
    "  plt.subplot(2, 2, 4)\n",
    "  pars['E_init'], pars['I_init'] = 0.4, 0.1\n",
    "  E, I = simulate_wc(pars)\n",
    "  plt.plot(pars['range_t'], E, 'r', label='E population', clip_on=False)\n",
    "  plt.plot(pars['range_t'], I, 'b', label='I population', clip_on=False)\n",
    "  plt.xlabel('t (ms)')\n",
    "  plt.ylabel('Activity')\n",
    "  plt.legend(loc='best')\n",
    "  plt.ylim(-0.05, 1.05)\n",
    "\n",
    "  plt.tight_layout()\n",
    "  plt.show()\n",
    "\n",
    "_ = widgets.interact(plot_nullcline_diffwEE, wEE = (6., 10., .01))"
   ]
  },
  {
   "cell_type": "markdown",
   "metadata": {
    "colab_type": "text",
    "id": "n8ZRNtt2couO"
   },
   "source": [
    "##### Task: effect of other parameters\n",
    "We can also investigate the effect of different $w_{EI}$, $w_{IE}$, $w_{II}$, $\\tau_{E}$, $\\tau_{I}$, and $I_{E}^{\\text{ext}}$ on the stability of fixed points. In addition, we can also consider the perturbation on the parameters of the gain curve $F(\\cdot)$"
   ]
  },
  {
   "cell_type": "markdown",
   "metadata": {
    "colab_type": "text",
    "id": "d913ob7Xcqw3"
   },
   "source": [
    "## Limit cycle\n",
    "\n",
    "If we use a different set of parameters, $w_{EE}=6.4$, $w_{EI}=4.8$, $w_{IE}=6.$, $w_{II}=1.2$, and $I_{E}^{\\text{ext}}=0.8$, then we shall observe that the E and I population activity start to oscillate! Please execute the cell below to check the oscillatory behavior. "
   ]
  },
  {
   "cell_type": "code",
   "execution_count": 24,
   "metadata": {
    "cellView": "form",
    "colab": {
     "base_uri": "https://localhost:8080/",
     "height": 370
    },
    "colab_type": "code",
    "id": "DCw-lgqxcm0Q",
    "outputId": "a5051e4c-74ee-479c-c89d-b86fc25286a3"
   },
   "outputs": [
    {
     "data": {
      "image/png": "[encoded data removed]",
      "text/plain": [
       "<Figure size 576x396 with 1 Axes>"
      ]
     },
     "metadata": {
      "needs_background": "light"
     },
     "output_type": "display_data"
    }
   ],
   "source": [
    "#@title Oscillations\n",
    "pars = default_pars(T=100.)\n",
    "pars['wEE'], pars['wEI'] = 6.4, 4.8\n",
    "pars['wIE'], pars['wII'] = 6.0, 1.2\n",
    "pars['I_ext_E'] = 0.8\n",
    "pars['E_init'], pars['I_init'] = 0.25, 0.25\n",
    "\n",
    "E,I = simulate_wc(pars)\n",
    "plt.figure(figsize=(8, 5.5))\n",
    "plt.plot(pars['range_t'], E, 'r')\n",
    "plt.plot(pars['range_t'], I, 'b')\n",
    "plt.xlabel('t (ms)')\n",
    "plt.ylabel('E(t), I(t)')\n",
    "plt.show()"
   ]
  },
  {
   "cell_type": "markdown",
   "metadata": {
    "colab_type": "text",
    "id": "tX0xMzVscy5a"
   },
   "source": [
    "##### Exercise 7: Plot the phase plane\n",
    "\n",
    "We can also understand the oscillations of the population behavior using the phase plane. By plotting a set of trajectories with different initial states, we can see that these trajectories will move in a circle instead of converging to a fixed point. This circle is called \"limit cycle\", and shows the periodic oscillations of the $E$ and $I$ population behavior under some conditions.\n",
    "\n",
    "Try to plot the phase plane using the previously defined functions."
   ]
  },
  {
   "cell_type": "code",
   "execution_count": 25,
   "metadata": {
    "colab": {},
    "colab_type": "code",
    "id": "lPJTsupA08CA"
   },
   "outputs": [],
   "source": [
    "pars = default_pars(T=100.)\n",
    "pars['wEE'], pars['wEI'] = 6.4, 4.8\n",
    "pars['wIE'], pars['wII'] = 6.0, 1.2\n",
    "pars['I_ext_E'] = 0.8\n",
    "\n",
    "###############################################################################\n",
    "## TODO for students: plot phase plane: nullclines, trajectories, fixed point #\n",
    "###############################################################################\n",
    "\n",
    "## please make sure you find the corret fixed point"
   ]
  },
  {
   "cell_type": "markdown",
   "metadata": {
    "colab": {
     "base_uri": "https://localhost:8080/",
     "height": 368
    },
    "colab_type": "text",
    "id": "0a_nAz8OdStx",
    "outputId": "f8198fb0-499a-433a-d08c-f8ec22e0915a"
   },
   "source": [
    "[*Click for solution*](https://github.com/NeuromatchAcademy/course-content/tree/master//tutorials/W3D2_DynamicNetworks/solutions/W3D2_Tutorial2_Solution_fedbbbea.py)\n",
    "\n",
    "*Example output:*\n",
    "\n",
    "<img alt='Solution hint' align='left' width=513 height=357 src=https://raw.githubusercontent.com/NeuromatchAcademy/course-content/master/tutorials/W3D2_DynamicNetworks/static/W3D2_Tutorial2_Solution_fedbbbea_1.png>\n",
    "\n"
   ]
  },
  {
   "cell_type": "markdown",
   "metadata": {
    "colab_type": "text",
    "id": "5IPxPCWfcwQa"
   },
   "source": [
    "#### Interactive Demo: Limit cycle and oscillations.\n",
    "\n",
    "From the above examples, the change of model parameters changes the shape of the nullclines and accordingly, the behavior of the $E$ and $I$ populations from steady fixed points to oscillations. However, the shape of the nullclines is unable to fully determine the behavior of the network. The vector field also matters. To demonstrate this, here we will investigate the effect of time constants on the population behavior. By changing the inhibitory time constant $\\tau_I$, the nullclines do not change, but the network behavior changes substantially from steady state to oscillations with different frequencies. \n",
    "\n",
    "Such a dramatic change in the system behavior is referred to as a **bifurcation**. \n",
    "\n",
    "\\\\\n",
    "Please execute the code below to check this out."
   ]
  },
  {
   "cell_type": "code",
   "execution_count": 27,
   "metadata": {
    "cellView": "form",
    "colab": {
     "base_uri": "https://localhost:8080/",
     "height": 446,
     "referenced_widgets": [
      "dcc7c0a2811c4fc3a80a8e9ae959bbc2",
      "6f16291ab2884ec3871c83147727998e",
      "5753eacc6711433b98b6b6675df96991",
      "a467da6202354753a878328a9f3be074",
      "b3afb82870b04d80a35ed5e8d96346dd",
      "670a4be1d38d451bb00d684c1db1e22b",
      "31cdf6f3c2144e439cd2d3beadc07eec"
     ]
    },
    "colab_type": "code",
    "id": "L2QzZmryc70S",
    "outputId": "d70cc40c-9180-41ec-89e3-a2572bdf4529"
   },
   "outputs": [
    {
     "name": "stdout",
     "output_type": "stream",
     "text": [
      "tau_I=0.5 ms, eigenvalue of J matrix  [-0.82789338+0.78902255j -0.82789338-0.78902255j]\n"
     ]
    },
    {
     "name": "stderr",
     "output_type": "stream",
     "text": [
      "findfont: Font family ['xkcd', 'xkcd Script', 'Humor Sans', 'Comic Neue', 'Comic Sans MS'] not found. Falling back to DejaVu Sans.\n"
     ]
    },
    {
     "data": {
      "image/png": "[encoded data removed]",
      "text/plain": [
       "<Figure size 900x396 with 2 Axes>"
      ]
     },
     "metadata": {},
     "output_type": "display_data"
    }
   ],
   "source": [
    "#@title Limit Cycle Explorer\n",
    "\n",
    "def time_constant_effect(tau_s=0.5):\n",
    "    \n",
    "  pars = default_pars(T=100.)\n",
    "  pars['wEE'], pars['wEI'] = 6.4, 4.8\n",
    "  pars['wIE'], pars['wII'] = 6.0, 1.2\n",
    "  pars['I_ext_E'] = 0.8\n",
    "\n",
    "  pars['tau_I'] = tau_s \n",
    "  \n",
    "  E_grid = np.linspace(0.0,.9,100)\n",
    "  I_grid = np.linspace(0.0,.6,100)\n",
    "  \n",
    "  E_nullcline = get_E_nullcline(pars, E_grid)\n",
    "  I_nullcline = get_I_nullcline(pars, I_grid)\n",
    "  \n",
    "  with plt.xkcd():\n",
    "    plt.figure(figsize=(12.5, 5.5))\n",
    "\n",
    "    plt.subplot(1,2,1) #nullclines\n",
    "    plt.plot(E_grid, E_nullcline, 'r', label='E nullcline')\n",
    "    plt.plot(I_nullcline, I_grid, 'b', label='I nullcline')\n",
    "    plt.xlabel('E')\n",
    "    plt.ylabel('I')\n",
    "    \n",
    "    #fixed point\n",
    "    x_fp_1 = my_fp(pars, 0.5, 0.5)\n",
    "    plt.plot(x_fp_1[0], x_fp_1[1], 'ko')\n",
    "\n",
    "    eig_1 = get_eig_Jacobian(pars, x_fp_1)\n",
    "    print('tau_I=%.1f ms,' %tau_s, 'eigenvalue of J matrix ', eig_1)\n",
    "\n",
    "    #trajectories\n",
    "    E_tj = np.zeros((pars['range_t'].size, 5, 5))\n",
    "    I_tj = np.zeros((pars['range_t'].size, 5, 5))\n",
    "    for ie in range(5):          \n",
    "        for ii in range(5):\n",
    "          pars['E_init'], pars['I_init'] = 0.1*ie, 0.1*ii\n",
    "          E_tj[:, ie, ii], I_tj[:, ie, ii] = simulate_wc(pars)\n",
    "          plt.plot(E_tj[:, ie, ii], I_tj[:, ie, ii],'k',alpha=0.3)\n",
    "        \n",
    "    #vector field\n",
    "    EI_grid_E = np.linspace(0., 1.0, 20)\n",
    "    EI_grid_I = np.linspace(0., 0.6, 20)\n",
    "    E_meshgrid, I_meshgrid = np.meshgrid(EI_grid_E, EI_grid_I)\n",
    "    dEdt, dIdt = EIderivs(E_meshgrid, I_meshgrid, pars)\n",
    "    n_skip = 2\n",
    "    plt.quiver(E_meshgrid[::n_skip,::n_skip], I_meshgrid[::n_skip,::n_skip], \n",
    "              dEdt[::n_skip,::n_skip], dIdt[::n_skip,::n_skip], \n",
    "              angles='xy', scale_units='xy', scale=10,facecolor='c')\n",
    "    plt.title(r'$\\tau_I=$'+'%.1f ms' % tau_s)\n",
    "\n",
    "    plt.subplot(1,2,2) # sample E/I trajectories\n",
    "    pars['E_init'], pars['I_init'] = 0.25, 0.25\n",
    "    E,I = simulate_wc(pars)\n",
    "    plt.plot(pars['range_t'], E, 'r')\n",
    "    plt.plot(pars['range_t'], I, 'b')\n",
    "    plt.xlabel('t (ms)')\n",
    "    plt.ylabel('E(t), I(t)')\n",
    "    plt.title(r'$\\tau_I=$'+'%.1f ms' % tau_s)\n",
    "    plt.tight_layout()\n",
    "    plt.show()\n",
    "    \n",
    "_ = widgets.interact(time_constant_effect,tau_s = (0.1, 3, .1))"
   ]
  },
  {
   "cell_type": "markdown",
   "metadata": {
    "colab_type": "text",
    "id": "F6Q2LcERqXI7"
   },
   "source": [
    "## Bonus 2: Inhibition-stabilized network (ISN)\n",
    "\n",
    "As described above, one can obtain the linear approximation around the fixed point as \n",
    "\n",
    " \\begin{equation}\n",
    "   \\frac{d}{dr}  \\vec{X}=\n",
    "  \\left[ {\\begin{array}{cc}\n",
    "   \\displaystyle{\\frac{\\partial G_E}{\\partial E}} & \\displaystyle{\\frac{\\partial G_E}{\\partial I}}\\\\[1mm]\n",
    "   \\displaystyle\\frac{\\partial G_I}{\\partial E} & \\displaystyle\\frac{\\partial G_I}{\\partial I} \\\\\n",
    "  \\end{array} } \\right] \\vec{X},\n",
    "\\end{equation}\n",
    "where $\\vec{X} = [E, I]^{\\rm T}$ is the vector of the E/I activity.\n",
    "\n",
    "Let's direct our attention to the excitatory subpopulation which follows:\n",
    "\n",
    "\\begin{equation}\n",
    "\\frac{dE}{dt} = \\frac{\\partial G_E}{\\partial E}\\cdot E + \\frac{\\partial G_E}{\\partial I} \\cdot I\n",
    "\\end{equation}\n",
    "\n",
    "Recall that:\n",
    "\\begin{align}\n",
    "&\\frac{\\partial G_E}{\\partial E} = \\frac{1}{\\tau_E} [-1 + w_{EE} F'(w_{EE}E -w_{EI}I + I^{\\text{ext}}_E)] \\qquad (13)\\\\[1mm]\n",
    "&\\frac{\\partial G_E}{\\partial I} = \\frac{1}{\\tau_E} [-w_{EI} F'(w_{EE}E -w_{EI}I + I^{\\text{ext}}_E)] \\qquad (14)\n",
    "\\end{align} \\\\\n",
    "\n",
    "\n",
    "From Equation. (8), it is clear that $\\displaystyle{\\frac{\\partial G_E}{\\partial I}}$ is negative, since the $\\displaystyle{\\frac{dF}{dx}}$ is always positive. It can be understood by that the recurrent inhibition from the inhibitory activity I can reduce the E activity. However, as described above, $\\displaystyle{\\frac{\\partial G_E}{\\partial E}}$ has negative terms related to the \"leak\" effect, and positive term related to the recurrent excitation. Therefore, it leads to two different regimes:\n",
    "\n",
    "- $\\displaystyle{\\frac{\\partial G_E}{\\partial E}}<0$, **noninhibition-stabilized\n",
    "network (non-ISN) regime**\n",
    "\n",
    "- $\\displaystyle{\\frac{\\partial G_E}{\\partial E}}>0$, **inhibition-stabilized\n",
    "network (ISN) regime**\n",
    "\n"
   ]
  },
  {
   "cell_type": "markdown",
   "metadata": {
    "colab_type": "text",
    "id": "m1XpwD0k7U6S"
   },
   "source": [
    "#### Exercise 8: Compute $\\displaystyle{\\frac{\\partial G_E}{\\partial E}}$\n",
    "Implemet the function to calculate the $\\displaystyle{\\frac{\\partial G_E}{\\partial E}}$ for the default parameters, and the parameters of the limit cycle case. "
   ]
  },
  {
   "cell_type": "code",
   "execution_count": 28,
   "metadata": {
    "colab": {},
    "colab_type": "code",
    "id": "dzbXN5m43Aw_"
   },
   "outputs": [],
   "source": [
    "# Exercise 8\n",
    "def get_dGdE(pars, fp):\n",
    "  \"\"\"\n",
    "  Simulate the Wilson-Cowan equations \n",
    "  \n",
    "  Args:\n",
    "    pars : Parameter dictionary\n",
    "    fp   : fixed point (E, I), array\n",
    "  \n",
    "  Returns:\n",
    "    J    : the 2x2 Jacobian matrix\n",
    "  \"\"\"\n",
    "  \n",
    "  # get the parameters\n",
    "  tau_E, a_E, theta_E = pars['tau_E'], pars['a_E'], pars['theta_E']\n",
    "  wEE, wEI = pars['wEE'], pars['wEI'] \n",
    "  I_ext_E = pars['I_ext_E']\n",
    "\n",
    "  # initialization\n",
    "  E = fp[0]\n",
    "  I = fp[1]\n",
    "  \n",
    "  ####################################################################\n",
    "  ## TODO for students: compute dGdE, remove the NotImplementedError #\n",
    "  ####################################################################\n",
    "  #dGdE =...\n",
    "  raise NotImplementedError(\"Student excercise: compute the dG/dE, Equation. (13)\") \n",
    "\n",
    "  \n",
    "  return dGdE\n",
    "\n",
    "\n",
    "# Uncomment these lines to make the output once you've completed the function\n",
    "# pars = default_pars()\n",
    "# x_fp_1 = my_fp(pars, 0.1, 0.1)\n",
    "# x_fp_2 = my_fp(pars, 0.3, 0.3)\n",
    "# x_fp_3 = my_fp(pars, 0.8, 0.6)\n",
    "# dGdE1 = get_dGdE(pars, x_fp_1)\n",
    "# dGdE2 = get_dGdE(pars, x_fp_2)\n",
    "# dGdE3 = get_dGdE(pars, x_fp_3)\n",
    "\n",
    "# print ('For the default case:')\n",
    "# print ('dG/dE(fp1) = %.3f' %(dGdE1))\n",
    "# print ('dG/dE(fp2) = %.3f' %(dGdE2))\n",
    "# print ('dG/dE(fp3) = %.3f' %(dGdE3))\n",
    "\n",
    "# print ('\\n')\n",
    "\n",
    "# pars = default_pars()\n",
    "# pars['wEE'], pars['wEI'] = 6.4, 4.8\n",
    "# pars['wIE'], pars['wII'] = 6.0, 1.2\n",
    "# pars['I_ext_E'] = 0.8\n",
    "# x_fp_lc = my_fp(pars, 0.8, 0.8)\n",
    "# dGdE_lc = get_dGdE(pars, x_fp_lc)\n",
    "# print ('For the limit cycle case:')\n",
    "# print ('dG/dE(fp_lc) = %.3f' %(dGdE_lc))"
   ]
  },
  {
   "cell_type": "markdown",
   "metadata": {
    "colab": {
     "base_uri": "https://localhost:8080/",
     "height": 156
    },
    "colab_type": "text",
    "id": "ZJzQuEDJKENe",
    "outputId": "a5c0f0ea-9430-4746-8a5d-452394ca54b5"
   },
   "source": [
    "[*Click for solution*](https://github.com/NeuromatchAcademy/course-content/tree/master//tutorials/W3D2_DynamicNetworks/solutions/W3D2_Tutorial2_Solution_74c52d9b.py)\n",
    "\n"
   ]
  },
  {
   "cell_type": "markdown",
   "metadata": {
    "colab_type": "text",
    "id": "7i9ZTBMp73Nd"
   },
   "source": [
    "### Interactive Demo: Paradoxical effect in ISN\n",
    "\n",
    "In this interactive widget, we inject excitatory ($I^{\\text{ext}}_I>0$) or inhibitory ($I^{\\text{ext}}_I<0$) drive into the inhibitory population when the system is at its equilibrium (with parameters $w_{EE}=6.4$, $w_{EI}=4.8$, $w_{IE}=6.$, $w_{II}=1.2$, $I_{E}^{\\text{ext}}=0.8$, $\\tau_I = 0.8$, and $I^{\\text{ext}}_I=0$). Then check how the firing rate of the $I$ population changes."
   ]
  },
  {
   "cell_type": "code",
   "execution_count": 30,
   "metadata": {
    "cellView": "form",
    "colab": {
     "base_uri": "https://localhost:8080/",
     "height": 488,
     "referenced_widgets": [
      "9a3db3a11b79470e831e57592d7d65aa",
      "83942da47c4b4d808b6e5c0a4c2832c5",
      "281c73b3f48c4f97a8724fee238e4cf9",
      "b9e2e1f2d7d44049897b52fff4b6650d",
      "4e24dace7c784fa6b9e2520861266eed",
      "f46a7f32ea80435bbd26b80b33373074",
      "296bd299b2b94f218c5ee227a171f4f4"
     ]
    },
    "colab_type": "code",
    "id": "pv5S7g0N7A1s",
    "outputId": "369f6c5e-3098-46cd-cb76-9e16807a28c2"
   },
   "outputs": [
    {
     "data": {
      "image/png": "[encoded data removed]",
      "text/plain": [
       "<Figure size 576x108 with 1 Axes>"
      ]
     },
     "metadata": {
      "needs_background": "light"
     },
     "output_type": "display_data"
    },
    {
     "data": {
      "image/png": "[encoded data removed]",
      "text/plain": [
       "<Figure size 576x324 with 1 Axes>"
      ]
     },
     "metadata": {
      "needs_background": "light"
     },
     "output_type": "display_data"
    }
   ],
   "source": [
    "#@title ISN Explorer\n",
    "pars = default_pars(T=50., dt=0.1)\n",
    "pars['wEE'], pars['wEI'] = 6.4, 4.8\n",
    "pars['wIE'], pars['wII'] = 6.0, 1.2\n",
    "pars['I_ext_E'] = 0.8\n",
    "pars['tau_I'] = 0.8\n",
    "\n",
    "def ISN_I_perturb(dI=0.1):\n",
    "  Lt = len(pars['range_t'])\n",
    "  pars['I_ext_I'] = np.zeros(Lt)\n",
    "  pars['I_ext_I'][int(Lt/2):] = dI\n",
    "\n",
    "  pars['E_init'], pars['I_init'] = 0.6, 0.26\n",
    "  E,I = simulate_wc(pars)\n",
    "\n",
    "  plt.figure(figsize=(8, 1.5))\n",
    "\n",
    "  plt.plot(pars['range_t'], pars['I_ext_I'], 'k')\n",
    "  plt.xlabel('t (ms)')\n",
    "  plt.ylabel(r'$I_I^{\\mathrm{ext}}$')\n",
    "  plt.ylim(pars['I_ext_I'].min()-0.01, pars['I_ext_I'].max()+0.01)\n",
    "  plt.show()\n",
    "\n",
    "  plt.figure(figsize=(8, 4.5))   \n",
    "  plt.plot(pars['range_t'], E, 'r')\n",
    "  plt.plot(pars['range_t'], E[int(Lt/2)-1]*np.ones(Lt), 'r--')\n",
    "  plt.plot(pars['range_t'], I, 'b')\n",
    "  plt.plot(pars['range_t'], I[int(Lt/2)-1]*np.ones(Lt), 'b--')\n",
    "  plt.ylim(0, 0.8)\n",
    "  plt.xlabel('t (ms)')\n",
    "  plt.ylabel('E(t), I(t)')\n",
    "  plt.show()\n",
    "\n",
    "_ = widgets.interact(ISN_I_perturb, dI = (-0.2, 0.21, .05))"
   ]
  },
  {
   "cell_type": "markdown",
   "metadata": {
    "colab_type": "text",
    "id": "I1KCkJWhABCd"
   },
   "source": [
    "## Bonus 3: Fixed point and working memory"
   ]
  },
  {
   "cell_type": "markdown",
   "metadata": {
    "colab_type": "text",
    "id": "O7EPxbBPD9iA"
   },
   "source": [
    "The input into the neurons measured in the experiment is often very noisy ([links](http://www.scholarpedia.org/article/Stochastic_dynamical_systems)) . Here, the noisy synaptic input current is modeled as an Ornstein-Uhlenbeck (OU)process, which has been discussed several times in the previous tutorials.\n",
    "\n",
    "please execute the following cell of function `my_OU(pars, sig, myseed=False)`"
   ]
  },
  {
   "cell_type": "code",
   "execution_count": 31,
   "metadata": {
    "cellView": "form",
    "colab": {
     "base_uri": "https://localhost:8080/",
     "height": 370
    },
    "colab_type": "code",
    "id": "keZx8QBxAuBz",
    "outputId": "1cbe668a-2871-4866-c4b4-be5508db08c5"
   },
   "outputs": [
    {
     "data": {
      "image/png": "[encoded data removed]",
      "text/plain": [
       "<Figure size 576x396 with 1 Axes>"
      ]
     },
     "metadata": {
      "needs_background": "light"
     },
     "output_type": "display_data"
    }
   ],
   "source": [
    "#@title `my_OU(pars, sig, myseed=False)`\n",
    "def my_OU(pars, sig, myseed=False):\n",
    "  '''\n",
    "  Expects:\n",
    "  pars       : parameter dictionary\n",
    "  sig        : noise amplitute\n",
    "  myseed     : random seed. int or boolean\n",
    "  \n",
    "  Returns:\n",
    "  I          : Ornstein-Uhlenbeck input current\n",
    "  '''\n",
    "  \n",
    "  # Retrieve simulation parameters\n",
    "  dt, range_t = pars['dt'], pars['range_t']\n",
    "  Lt = range_t.size\n",
    "  tau_ou = pars['tau_ou'] # [ms]\n",
    "  \n",
    "  # set random seed\n",
    "  if myseed:\n",
    "      np.random.seed(seed=myseed) \n",
    "  else:\n",
    "      np.random.seed()\n",
    "      \n",
    "  # Initialize\n",
    "  noise =  np.random.randn(Lt)\n",
    "  I = np.zeros(Lt)\n",
    "  I[0] = noise[0] * sig\n",
    "  \n",
    "  #generate OU\n",
    "  for it in range(Lt-1):\n",
    "      I[it+1] = I[it] + dt/tau_ou*(0.-I[it]) + np.sqrt(2.*dt/tau_ou) * sig * noise[it+1]\n",
    "  \n",
    "  return I\n",
    "\n",
    "pars = default_pars(T=50)\n",
    "pars['tau_ou'] = 1. #[ms]\n",
    "sig_ou = 0.1\n",
    "I_ou = my_OU(pars, sig=sig_ou, myseed=1998)\n",
    "plt.figure(figsize=(8, 5.5))\n",
    "plt.plot(pars['range_t'], I_ou, 'b')\n",
    "plt.xlabel('Time (ms)')\n",
    "plt.ylabel(r'$I_{\\mathrm{OU}}$')\n",
    "plt.show()"
   ]
  },
  {
   "cell_type": "markdown",
   "metadata": {
    "colab_type": "text",
    "id": "DQmkMAjfGMDL"
   },
   "source": [
    "With the default parameters, the system fluctuates around a resting state with the noisy input.\n"
   ]
  },
  {
   "cell_type": "code",
   "execution_count": 32,
   "metadata": {
    "cellView": "form",
    "colab": {
     "base_uri": "https://localhost:8080/",
     "height": 370
    },
    "colab_type": "code",
    "id": "aa3l3pgkAGKG",
    "outputId": "36bb97be-7b06-46c7-a413-50f383d30ed9"
   },
   "outputs": [
    {
     "data": {
      "image/png": "[encoded data removed]",
      "text/plain": [
       "<Figure size 576x396 with 1 Axes>"
      ]
     },
     "metadata": {
      "needs_background": "light"
     },
     "output_type": "display_data"
    }
   ],
   "source": [
    "#@title WC with OU\n",
    "pars = default_pars(T=100)\n",
    "pars['tau_ou'] = 1. #[ms]\n",
    "sig_ou = 0.1\n",
    "pars['I_ext_E'] = my_OU(pars, sig=sig_ou, myseed=20201)\n",
    "pars['I_ext_I'] = my_OU(pars, sig=sig_ou, myseed=20202)\n",
    "\n",
    "pars['E_init'], pars['I_init'] = 0.1, 0.1\n",
    "E,I = simulate_wc(pars)\n",
    "\n",
    "plt.figure(figsize=(8, 5.5))\n",
    "ax = plt.subplot(111)\n",
    "ax.plot(pars['range_t'], E, 'r', label='E population')\n",
    "ax.plot(pars['range_t'], I, 'b', label='I population')\n",
    "ax.set_xlabel('t (ms)')\n",
    "ax.set_ylabel('Activity')\n",
    "ax.legend(loc='best')\n",
    "plt.show()\n"
   ]
  },
  {
   "cell_type": "markdown",
   "metadata": {
    "colab_type": "text",
    "id": "TbxX1ha6GpTW"
   },
   "source": [
    "### Short pulse induced persistent activity\n",
    "Then, let's use a brief 10-ms positive current to the E population when the system is at its equilibrium. When this amplitude is sufficiently large, a persistent activity is produced that outlasts the transient input. What is the firing rate of the persistent activity, and what is the critical input strength? Try to understand the phenomena from the above phase-plane analysis."
   ]
  },
  {
   "cell_type": "code",
   "execution_count": 33,
   "metadata": {
    "cellView": "form",
    "colab": {
     "base_uri": "https://localhost:8080/",
     "height": 407,
     "referenced_widgets": [
      "59ee5c4c5353418db60f903da05038b6",
      "4a64d3b07fd04d139362a62f18b40a7e",
      "27bd5b2c0b62443e937a6e195fa94cab",
      "0eec5812c6cf4498bea39b4fc5bf6eff",
      "f57ee9b002b04bfa8201f103b9ea7d58",
      "b12d8700b098449c8a7ce163048d2f4e",
      "5eeab31ded6d445db9f971362c5c44d1"
     ]
    },
    "colab_type": "code",
    "id": "Z1O10EF5InFG",
    "outputId": "87e8b76c-93a8-4633-b8f4-415b35565db7"
   },
   "outputs": [
    {
     "data": {
      "image/png": "[encoded data removed]",
      "text/plain": [
       "<Figure size 576x396 with 1 Axes>"
      ]
     },
     "metadata": {
      "needs_background": "light"
     },
     "output_type": "display_data"
    }
   ],
   "source": [
    "#@title Pulse Explorer\n",
    "\n",
    "def my_inject(pars, t_start, t_lag=10.):\n",
    "  '''\n",
    "  Expects:\n",
    "  pars       : parameter dictionary\n",
    "  t_start    : pulse starts [ms]\n",
    "  t_lag      : pulse lasts  [ms]\n",
    "  \n",
    "  Returns:\n",
    "  I          : extra pulse time\n",
    "  '''\n",
    "  # Retrieve simulation parameters\n",
    "  dt, range_t = pars['dt'], pars['range_t']\n",
    "  Lt = range_t.size\n",
    "\n",
    "  # Initialize\n",
    "  I = np.zeros(Lt)\n",
    "\n",
    "  #pulse timing\n",
    "  N_start = int(t_start/dt)\n",
    "  N_lag = int(t_lag/dt)\n",
    "  I[N_start:N_start+N_lag] = 1.\n",
    "\n",
    "  return I\n",
    "\n",
    "pars = default_pars(T=100)\n",
    "pars['tau_ou'] = 1. #[ms]\n",
    "sig_ou = 0.1\n",
    "pars['I_ext_I'] = my_OU(pars, sig=sig_ou, myseed=20202)\n",
    "pars['E_init'], pars['I_init'] = 0.1, 0.1\n",
    "\n",
    "#pulse\n",
    "I_pulse = my_inject(pars, t_start=20., t_lag=10.)\n",
    "L_pulse = sum(I_pulse>0.)\n",
    "\n",
    "def WC_with_pulse(SE=0.):\n",
    "  pars['I_ext_E'] = my_OU(pars, sig=sig_ou, myseed=20201)\n",
    "  pars['I_ext_E'] += SE*I_pulse\n",
    "\n",
    "  E,I = simulate_wc(pars)\n",
    "\n",
    "  plt.figure(figsize=(8, 5.5))\n",
    "  ax = plt.subplot(111)\n",
    "  ax.plot(pars['range_t'], E, 'r', label='E population')\n",
    "  ax.plot(pars['range_t'], I, 'b', label='I population')\n",
    "  \n",
    "  ax.plot(pars['range_t'][I_pulse>0.], 1.0*np.ones(L_pulse), 'r', lw=2.)\n",
    "  ax.text(25, 1.05, 'stimulus on', horizontalalignment='center', \n",
    "          verticalalignment='bottom')\n",
    "  ax.set_ylim(-0.03, 1.2)\n",
    "  ax.set_xlabel('t (ms)')\n",
    "  ax.set_ylabel('Activity')\n",
    "  ax.legend(loc='best')\n",
    "  plt.show()\n",
    "\n",
    "_ = widgets.interact(WC_with_pulse, SE = (0.45, 0.5, .01))"
   ]
  },
  {
   "cell_type": "markdown",
   "metadata": {
    "colab_type": "text",
    "id": "ThodUE_9OaE8"
   },
   "source": [
    "Explore what happened when a second, brief current is applied onto the inhibitory population. "
   ]
  }
 ],
 "metadata": {
  "colab": {
   "collapsed_sections": [],
   "include_colab_link": true,
   "name": "NeuromatchAcademy_W3D2_Tutorial2",
   "provenance": [],
   "toc_visible": true
  },
  "kernelspec": {
   "display_name": "Python 3",
   "name": "python3"
  },
  "language_info": {
   "codemirror_mode": {
    "name": "ipython",
    "version": 3
   },
   "file_extension": ".py",
   "mimetype": "text/x-python",
   "name": "python",
   "nbconvert_exporter": "python",
   "pygments_lexer": "ipython3",
   "version": "3.7.7"
  },
  "widgets": {
   "application/vnd.jupyter.widget-state+json": {
    "state": {
     "0018087e39924e379257f8d3c18b65d4": {
      "model_module": "@jupyter-widgets/base",
      "model_module_version": "1.2.0",
      "model_name": "LayoutModel",
      "state": {
       "_model_module": "@jupyter-widgets/base",
       "_model_module_version": "1.2.0",
       "_model_name": "LayoutModel",
       "_view_count": null,
       "_view_module": "@jupyter-widgets/base",
       "_view_module_version": "1.2.0",
       "_view_name": "LayoutView",
       "align_content": null,
       "align_items": null,
       "align_self": null,
       "border": null,
       "bottom": null,
       "display": null,
       "flex": null,
       "flex_flow": null,
       "grid_area": null,
       "grid_auto_columns": null,
       "grid_auto_flow": null,
       "grid_auto_rows": null,
       "grid_column": null,
       "grid_gap": null,
       "grid_row": null,
       "grid_template_areas": null,
       "grid_template_columns": null,
       "grid_template_rows": null,
       "height": null,
       "justify_content": null,
       "justify_items": null,
       "left": null,
       "margin": null,
       "max_height": null,
       "max_width": null,
       "min_height": null,
       "min_width": null,
       "object_fit": null,
       "object_position": null,
       "order": null,
       "overflow": null,
       "overflow_x": null,
       "overflow_y": null,
       "padding": null,
       "right": null,
       "top": null,
       "visibility": null,
       "width": null
      }
     },
     "05af1ae89a9c41aa9608b7c0f4d55f43": {
      "model_module": "@jupyter-widgets/controls",
      "model_module_version": "1.5.0",
      "model_name": "VBoxModel",
      "state": {
       "_dom_classes": [
        "widget-interact"
       ],
       "_model_module": "@jupyter-widgets/controls",
       "_model_module_version": "1.5.0",
       "_model_name": "VBoxModel",
       "_view_count": null,
       "_view_module": "@jupyter-widgets/controls",
       "_view_module_version": "1.5.0",
       "_view_name": "VBoxView",
       "box_style": "",
       "children": [
        "IPY_MODEL_cac74aafbcd24ed9bf691cb19d0a62e7",
        "IPY_MODEL_65ea37892d3749d9a1e569253c9315ee"
       ],
       "layout": "IPY_MODEL_6ec3d4b153034e0cb815ce2a4fa13270"
      }
     },
     "1cf8f34a1d8a469ca8406a6554dcabab": {
      "model_module": "@jupyter-widgets/controls",
      "model_module_version": "1.5.0",
      "model_name": "SliderStyleModel",
      "state": {
       "_model_module": "@jupyter-widgets/controls",
       "_model_module_version": "1.5.0",
       "_model_name": "SliderStyleModel",
       "_view_count": null,
       "_view_module": "@jupyter-widgets/base",
       "_view_module_version": "1.2.0",
       "_view_name": "StyleView",
       "description_width": "",
       "handle_color": null
      }
     },
     "250ae0eac6c9440c87987cceec19f774": {
      "model_module": "@jupyter-widgets/base",
      "model_module_version": "1.2.0",
      "model_name": "LayoutModel",
      "state": {
       "_model_module": "@jupyter-widgets/base",
       "_model_module_version": "1.2.0",
       "_model_name": "LayoutModel",
       "_view_count": null,
       "_view_module": "@jupyter-widgets/base",
       "_view_module_version": "1.2.0",
       "_view_name": "LayoutView",
       "align_content": null,
       "align_items": null,
       "align_self": null,
       "border": null,
       "bottom": null,
       "display": null,
       "flex": null,
       "flex_flow": null,
       "grid_area": null,
       "grid_auto_columns": null,
       "grid_auto_flow": null,
       "grid_auto_rows": null,
       "grid_column": null,
       "grid_gap": null,
       "grid_row": null,
       "grid_template_areas": null,
       "grid_template_columns": null,
       "grid_template_rows": null,
       "height": null,
       "justify_content": null,
       "justify_items": null,
       "left": null,
       "margin": null,
       "max_height": null,
       "max_width": null,
       "min_height": null,
       "min_width": null,
       "object_fit": null,
       "object_position": null,
       "order": null,
       "overflow": null,
       "overflow_x": null,
       "overflow_y": null,
       "padding": null,
       "right": null,
       "top": null,
       "visibility": null,
       "width": null
      }
     },
     "26ea3d65caba4c7280367511895020e5": {
      "model_module": "@jupyter-widgets/controls",
      "model_module_version": "1.5.0",
      "model_name": "VBoxModel",
      "state": {
       "_dom_classes": [
        "widget-interact"
       ],
       "_model_module": "@jupyter-widgets/controls",
       "_model_module_version": "1.5.0",
       "_model_name": "VBoxModel",
       "_view_count": null,
       "_view_module": "@jupyter-widgets/controls",
       "_view_module_version": "1.5.0",
       "_view_name": "VBoxView",
       "box_style": "",
       "children": [
        "IPY_MODEL_fda138c97ed441c5b9a6a3f416b30140",
        "IPY_MODEL_92c659f94e9f4d4d9acdaae1613ac177"
       ],
       "layout": "IPY_MODEL_790c23acd1644d1cb191e2a47c3b5184"
      }
     },
     "31c01a437ca2434998823aeffc3340c5": {
      "model_module": "@jupyter-widgets/controls",
      "model_module_version": "1.5.0",
      "model_name": "VBoxModel",
      "state": {
       "_dom_classes": [
        "widget-interact"
       ],
       "_model_module": "@jupyter-widgets/controls",
       "_model_module_version": "1.5.0",
       "_model_name": "VBoxModel",
       "_view_count": null,
       "_view_module": "@jupyter-widgets/controls",
       "_view_module_version": "1.5.0",
       "_view_name": "VBoxView",
       "box_style": "",
       "children": [
        "IPY_MODEL_d9804d03e5d544728ca2cd1c59091ce0",
        "IPY_MODEL_d27d455066514a02824bcc72d6c31d50"
       ],
       "layout": "IPY_MODEL_c7454921e6ed4741be9e55adb9afb875"
      }
     },
     "35eba3121478484fbd6b97cb334616fd": {
      "model_module": "@jupyter-widgets/base",
      "model_module_version": "1.2.0",
      "model_name": "LayoutModel",
      "state": {
       "_model_module": "@jupyter-widgets/base",
       "_model_module_version": "1.2.0",
       "_model_name": "LayoutModel",
       "_view_count": null,
       "_view_module": "@jupyter-widgets/base",
       "_view_module_version": "1.2.0",
       "_view_name": "LayoutView",
       "align_content": null,
       "align_items": null,
       "align_self": null,
       "border": null,
       "bottom": null,
       "display": null,
       "flex": null,
       "flex_flow": null,
       "grid_area": null,
       "grid_auto_columns": null,
       "grid_auto_flow": null,
       "grid_auto_rows": null,
       "grid_column": null,
       "grid_gap": null,
       "grid_row": null,
       "grid_template_areas": null,
       "grid_template_columns": null,
       "grid_template_rows": null,
       "height": null,
       "justify_content": null,
       "justify_items": null,
       "left": null,
       "margin": null,
       "max_height": null,
       "max_width": null,
       "min_height": null,
       "min_width": null,
       "object_fit": null,
       "object_position": null,
       "order": null,
       "overflow": null,
       "overflow_x": null,
       "overflow_y": null,
       "padding": null,
       "right": null,
       "top": null,
       "visibility": null,
       "width": null
      }
     },
     "444f1d713107440781c0ec1956b788c9": {
      "model_module": "@jupyter-widgets/controls",
      "model_module_version": "1.5.0",
      "model_name": "VBoxModel",
      "state": {
       "_dom_classes": [
        "widget-interact"
       ],
       "_model_module": "@jupyter-widgets/controls",
       "_model_module_version": "1.5.0",
       "_model_name": "VBoxModel",
       "_view_count": null,
       "_view_module": "@jupyter-widgets/controls",
       "_view_module_version": "1.5.0",
       "_view_name": "VBoxView",
       "box_style": "",
       "children": [
        "IPY_MODEL_ddc08a50ae0a41098171577b86b996c4",
        "IPY_MODEL_7ed0d854c3d14309a36a601f66fa2b92"
       ],
       "layout": "IPY_MODEL_250ae0eac6c9440c87987cceec19f774"
      }
     },
     "511f8e8aaf6b408abf078dafcf50aaa0": {
      "model_module": "@jupyter-widgets/base",
      "model_module_version": "1.2.0",
      "model_name": "LayoutModel",
      "state": {
       "_model_module": "@jupyter-widgets/base",
       "_model_module_version": "1.2.0",
       "_model_name": "LayoutModel",
       "_view_count": null,
       "_view_module": "@jupyter-widgets/base",
       "_view_module_version": "1.2.0",
       "_view_name": "LayoutView",
       "align_content": null,
       "align_items": null,
       "align_self": null,
       "border": null,
       "bottom": null,
       "display": null,
       "flex": null,
       "flex_flow": null,
       "grid_area": null,
       "grid_auto_columns": null,
       "grid_auto_flow": null,
       "grid_auto_rows": null,
       "grid_column": null,
       "grid_gap": null,
       "grid_row": null,
       "grid_template_areas": null,
       "grid_template_columns": null,
       "grid_template_rows": null,
       "height": null,
       "justify_content": null,
       "justify_items": null,
       "left": null,
       "margin": null,
       "max_height": null,
       "max_width": null,
       "min_height": null,
       "min_width": null,
       "object_fit": null,
       "object_position": null,
       "order": null,
       "overflow": null,
       "overflow_x": null,
       "overflow_y": null,
       "padding": null,
       "right": null,
       "top": null,
       "visibility": null,
       "width": null
      }
     },
     "5da2cf69721940408ab571a60cb01ac5": {
      "model_module": "@jupyter-widgets/controls",
      "model_module_version": "1.5.0",
      "model_name": "IntSliderModel",
      "state": {
       "_dom_classes": [],
       "_model_module": "@jupyter-widgets/controls",
       "_model_module_version": "1.5.0",
       "_model_name": "IntSliderModel",
       "_view_count": null,
       "_view_module": "@jupyter-widgets/controls",
       "_view_module_version": "1.5.0",
       "_view_name": "IntSliderView",
       "continuous_update": true,
       "description": "n_t",
       "description_tooltip": null,
       "disabled": false,
       "layout": "IPY_MODEL_d51a0ffa463f4043a9ff2c308736b3b0",
       "max": 100,
       "min": 0,
       "orientation": "horizontal",
       "readout": true,
       "readout_format": "d",
       "step": 1,
       "style": "IPY_MODEL_696c83fb421f4baaaaed97840b786c27",
       "value": 50
      }
     },
     "627466d47c5e42cd945a451fca2eb5e4": {
      "model_module": "@jupyter-widgets/controls",
      "model_module_version": "1.5.0",
      "model_name": "FloatSliderModel",
      "state": {
       "_dom_classes": [],
       "_model_module": "@jupyter-widgets/controls",
       "_model_module_version": "1.5.0",
       "_model_name": "FloatSliderModel",
       "_view_count": null,
       "_view_module": "@jupyter-widgets/controls",
       "_view_module_version": "1.5.0",
       "_view_name": "FloatSliderView",
       "continuous_update": true,
       "description": "dI",
       "description_tooltip": null,
       "disabled": false,
       "layout": "IPY_MODEL_fbb8ac90c7ac4d1cb2115600a124105e",
       "max": 0.21,
       "min": -0.2,
       "orientation": "horizontal",
       "readout": true,
       "readout_format": ".2f",
       "step": 0.05,
       "style": "IPY_MODEL_dd92323f069c4e70b75301cd9b4e4cea",
       "value": 0.1
      }
     },
     "65ea37892d3749d9a1e569253c9315ee": {
      "model_module": "@jupyter-widgets/output",
      "model_module_version": "1.0.0",
      "model_name": "OutputModel",
      "state": {
       "_dom_classes": [],
       "_model_module": "@jupyter-widgets/output",
       "_model_module_version": "1.0.0",
       "_model_name": "OutputModel",
       "_view_count": null,
       "_view_module": "@jupyter-widgets/output",
       "_view_module_version": "1.0.0",
       "_view_name": "OutputView",
       "layout": "IPY_MODEL_35eba3121478484fbd6b97cb334616fd",
       "msg_id": "",
       "outputs": []
      }
     },
     "696c83fb421f4baaaaed97840b786c27": {
      "model_module": "@jupyter-widgets/controls",
      "model_module_version": "1.5.0",
      "model_name": "SliderStyleModel",
      "state": {
       "_model_module": "@jupyter-widgets/controls",
       "_model_module_version": "1.5.0",
       "_model_name": "SliderStyleModel",
       "_view_count": null,
       "_view_module": "@jupyter-widgets/base",
       "_view_module_version": "1.2.0",
       "_view_name": "StyleView",
       "description_width": "",
       "handle_color": null
      }
     },
     "6a3530112ba54fddb828184caeb6797c": {
      "model_module": "@jupyter-widgets/controls",
      "model_module_version": "1.5.0",
      "model_name": "SliderStyleModel",
      "state": {
       "_model_module": "@jupyter-widgets/controls",
       "_model_module_version": "1.5.0",
       "_model_name": "SliderStyleModel",
       "_view_count": null,
       "_view_module": "@jupyter-widgets/base",
       "_view_module_version": "1.2.0",
       "_view_name": "StyleView",
       "description_width": "",
       "handle_color": null
      }
     },
     "6ec3d4b153034e0cb815ce2a4fa13270": {
      "model_module": "@jupyter-widgets/base",
      "model_module_version": "1.2.0",
      "model_name": "LayoutModel",
      "state": {
       "_model_module": "@jupyter-widgets/base",
       "_model_module_version": "1.2.0",
       "_model_name": "LayoutModel",
       "_view_count": null,
       "_view_module": "@jupyter-widgets/base",
       "_view_module_version": "1.2.0",
       "_view_name": "LayoutView",
       "align_content": null,
       "align_items": null,
       "align_self": null,
       "border": null,
       "bottom": null,
       "display": null,
       "flex": null,
       "flex_flow": null,
       "grid_area": null,
       "grid_auto_columns": null,
       "grid_auto_flow": null,
       "grid_auto_rows": null,
       "grid_column": null,
       "grid_gap": null,
       "grid_row": null,
       "grid_template_areas": null,
       "grid_template_columns": null,
       "grid_template_rows": null,
       "height": null,
       "justify_content": null,
       "justify_items": null,
       "left": null,
       "margin": null,
       "max_height": null,
       "max_width": null,
       "min_height": null,
       "min_width": null,
       "object_fit": null,
       "object_position": null,
       "order": null,
       "overflow": null,
       "overflow_x": null,
       "overflow_y": null,
       "padding": null,
       "right": null,
       "top": null,
       "visibility": null,
       "width": null
      }
     },
     "6f02cffc0b8f4d8db9d2a90ada695121": {
      "model_module": "@jupyter-widgets/base",
      "model_module_version": "1.2.0",
      "model_name": "LayoutModel",
      "state": {
       "_model_module": "@jupyter-widgets/base",
       "_model_module_version": "1.2.0",
       "_model_name": "LayoutModel",
       "_view_count": null,
       "_view_module": "@jupyter-widgets/base",
       "_view_module_version": "1.2.0",
       "_view_name": "LayoutView",
       "align_content": null,
       "align_items": null,
       "align_self": null,
       "border": null,
       "bottom": null,
       "display": null,
       "flex": null,
       "flex_flow": null,
       "grid_area": null,
       "grid_auto_columns": null,
       "grid_auto_flow": null,
       "grid_auto_rows": null,
       "grid_column": null,
       "grid_gap": null,
       "grid_row": null,
       "grid_template_areas": null,
       "grid_template_columns": null,
       "grid_template_rows": null,
       "height": null,
       "justify_content": null,
       "justify_items": null,
       "left": null,
       "margin": null,
       "max_height": null,
       "max_width": null,
       "min_height": null,
       "min_width": null,
       "object_fit": null,
       "object_position": null,
       "order": null,
       "overflow": null,
       "overflow_x": null,
       "overflow_y": null,
       "padding": null,
       "right": null,
       "top": null,
       "visibility": null,
       "width": null
      }
     },
     "790c23acd1644d1cb191e2a47c3b5184": {
      "model_module": "@jupyter-widgets/base",
      "model_module_version": "1.2.0",
      "model_name": "LayoutModel",
      "state": {
       "_model_module": "@jupyter-widgets/base",
       "_model_module_version": "1.2.0",
       "_model_name": "LayoutModel",
       "_view_count": null,
       "_view_module": "@jupyter-widgets/base",
       "_view_module_version": "1.2.0",
       "_view_name": "LayoutView",
       "align_content": null,
       "align_items": null,
       "align_self": null,
       "border": null,
       "bottom": null,
       "display": null,
       "flex": null,
       "flex_flow": null,
       "grid_area": null,
       "grid_auto_columns": null,
       "grid_auto_flow": null,
       "grid_auto_rows": null,
       "grid_column": null,
       "grid_gap": null,
       "grid_row": null,
       "grid_template_areas": null,
       "grid_template_columns": null,
       "grid_template_rows": null,
       "height": null,
       "justify_content": null,
       "justify_items": null,
       "left": null,
       "margin": null,
       "max_height": null,
       "max_width": null,
       "min_height": null,
       "min_width": null,
       "object_fit": null,
       "object_position": null,
       "order": null,
       "overflow": null,
       "overflow_x": null,
       "overflow_y": null,
       "padding": null,
       "right": null,
       "top": null,
       "visibility": null,
       "width": null
      }
     },
     "7d6f71e77256490cb6b988d2f52c1841": {
      "model_module": "@jupyter-widgets/base",
      "model_module_version": "1.2.0",
      "model_name": "LayoutModel",
      "state": {
       "_model_module": "@jupyter-widgets/base",
       "_model_module_version": "1.2.0",
       "_model_name": "LayoutModel",
       "_view_count": null,
       "_view_module": "@jupyter-widgets/base",
       "_view_module_version": "1.2.0",
       "_view_name": "LayoutView",
       "align_content": null,
       "align_items": null,
       "align_self": null,
       "border": null,
       "bottom": null,
       "display": null,
       "flex": null,
       "flex_flow": null,
       "grid_area": null,
       "grid_auto_columns": null,
       "grid_auto_flow": null,
       "grid_auto_rows": null,
       "grid_column": null,
       "grid_gap": null,
       "grid_row": null,
       "grid_template_areas": null,
       "grid_template_columns": null,
       "grid_template_rows": null,
       "height": null,
       "justify_content": null,
       "justify_items": null,
       "left": null,
       "margin": null,
       "max_height": null,
       "max_width": null,
       "min_height": null,
       "min_width": null,
       "object_fit": null,
       "object_position": null,
       "order": null,
       "overflow": null,
       "overflow_x": null,
       "overflow_y": null,
       "padding": null,
       "right": null,
       "top": null,
       "visibility": null,
       "width": null
      }
     },
     "7ed0d854c3d14309a36a601f66fa2b92": {
      "model_module": "@jupyter-widgets/output",
      "model_module_version": "1.0.0",
      "model_name": "OutputModel",
      "state": {
       "_dom_classes": [],
       "_model_module": "@jupyter-widgets/output",
       "_model_module_version": "1.0.0",
       "_model_name": "OutputModel",
       "_view_count": null,
       "_view_module": "@jupyter-widgets/output",
       "_view_module_version": "1.0.0",
       "_view_name": "OutputView",
       "layout": "IPY_MODEL_7d6f71e77256490cb6b988d2f52c1841",
       "msg_id": "",
       "outputs": []
      }
     },
     "92c659f94e9f4d4d9acdaae1613ac177": {
      "model_module": "@jupyter-widgets/output",
      "model_module_version": "1.0.0",
      "model_name": "OutputModel",
      "state": {
       "_dom_classes": [],
       "_model_module": "@jupyter-widgets/output",
       "_model_module_version": "1.0.0",
       "_model_name": "OutputModel",
       "_view_count": null,
       "_view_module": "@jupyter-widgets/output",
       "_view_module_version": "1.0.0",
       "_view_name": "OutputView",
       "layout": "IPY_MODEL_bd125ad828524f9789c17680bc62f3a0",
       "msg_id": "",
       "outputs": []
      }
     },
     "92ee3c45d11f4130807020e580f40757": {
      "model_module": "@jupyter-widgets/output",
      "model_module_version": "1.0.0",
      "model_name": "OutputModel",
      "state": {
       "_dom_classes": [],
       "_model_module": "@jupyter-widgets/output",
       "_model_module_version": "1.0.0",
       "_model_name": "OutputModel",
       "_view_count": null,
       "_view_module": "@jupyter-widgets/output",
       "_view_module_version": "1.0.0",
       "_view_name": "OutputView",
       "layout": "IPY_MODEL_6f02cffc0b8f4d8db9d2a90ada695121",
       "msg_id": "",
       "outputs": []
      }
     },
     "932b17ab56fa42119de80db2d8efa936": {
      "model_module": "@jupyter-widgets/controls",
      "model_module_version": "1.5.0",
      "model_name": "SliderStyleModel",
      "state": {
       "_model_module": "@jupyter-widgets/controls",
       "_model_module_version": "1.5.0",
       "_model_name": "SliderStyleModel",
       "_view_count": null,
       "_view_module": "@jupyter-widgets/base",
       "_view_module_version": "1.2.0",
       "_view_name": "StyleView",
       "description_width": "",
       "handle_color": null
      }
     },
     "a741abfa731048ba846e0c624a31efdd": {
      "model_module": "@jupyter-widgets/base",
      "model_module_version": "1.2.0",
      "model_name": "LayoutModel",
      "state": {
       "_model_module": "@jupyter-widgets/base",
       "_model_module_version": "1.2.0",
       "_model_name": "LayoutModel",
       "_view_count": null,
       "_view_module": "@jupyter-widgets/base",
       "_view_module_version": "1.2.0",
       "_view_name": "LayoutView",
       "align_content": null,
       "align_items": null,
       "align_self": null,
       "border": null,
       "bottom": null,
       "display": null,
       "flex": null,
       "flex_flow": null,
       "grid_area": null,
       "grid_auto_columns": null,
       "grid_auto_flow": null,
       "grid_auto_rows": null,
       "grid_column": null,
       "grid_gap": null,
       "grid_row": null,
       "grid_template_areas": null,
       "grid_template_columns": null,
       "grid_template_rows": null,
       "height": null,
       "justify_content": null,
       "justify_items": null,
       "left": null,
       "margin": null,
       "max_height": null,
       "max_width": null,
       "min_height": null,
       "min_width": null,
       "object_fit": null,
       "object_position": null,
       "order": null,
       "overflow": null,
       "overflow_x": null,
       "overflow_y": null,
       "padding": null,
       "right": null,
       "top": null,
       "visibility": null,
       "width": null
      }
     },
     "ac5cad70480249b897e18133c43f9eea": {
      "model_module": "@jupyter-widgets/controls",
      "model_module_version": "1.5.0",
      "model_name": "VBoxModel",
      "state": {
       "_dom_classes": [
        "widget-interact"
       ],
       "_model_module": "@jupyter-widgets/controls",
       "_model_module_version": "1.5.0",
       "_model_name": "VBoxModel",
       "_view_count": null,
       "_view_module": "@jupyter-widgets/controls",
       "_view_module_version": "1.5.0",
       "_view_name": "VBoxView",
       "box_style": "",
       "children": [
        "IPY_MODEL_5da2cf69721940408ab571a60cb01ac5",
        "IPY_MODEL_92ee3c45d11f4130807020e580f40757"
       ],
       "layout": "IPY_MODEL_511f8e8aaf6b408abf078dafcf50aaa0"
      }
     },
     "b4f1893ca8cf40b880664e62da7140f5": {
      "model_module": "@jupyter-widgets/controls",
      "model_module_version": "1.5.0",
      "model_name": "SliderStyleModel",
      "state": {
       "_model_module": "@jupyter-widgets/controls",
       "_model_module_version": "1.5.0",
       "_model_name": "SliderStyleModel",
       "_view_count": null,
       "_view_module": "@jupyter-widgets/base",
       "_view_module_version": "1.2.0",
       "_view_name": "StyleView",
       "description_width": "",
       "handle_color": null
      }
     },
     "bb0524a0987f4c2c8e910b4eeb0425ef": {
      "model_module": "@jupyter-widgets/controls",
      "model_module_version": "1.5.0",
      "model_name": "VBoxModel",
      "state": {
       "_dom_classes": [
        "widget-interact"
       ],
       "_model_module": "@jupyter-widgets/controls",
       "_model_module_version": "1.5.0",
       "_model_name": "VBoxModel",
       "_view_count": null,
       "_view_module": "@jupyter-widgets/controls",
       "_view_module_version": "1.5.0",
       "_view_name": "VBoxView",
       "box_style": "",
       "children": [
        "IPY_MODEL_627466d47c5e42cd945a451fca2eb5e4",
        "IPY_MODEL_bcd23bd8a69d4612ba60dd41b0a9dd0e"
       ],
       "layout": "IPY_MODEL_a741abfa731048ba846e0c624a31efdd"
      }
     },
     "bcd23bd8a69d4612ba60dd41b0a9dd0e": {
      "model_module": "@jupyter-widgets/output",
      "model_module_version": "1.0.0",
      "model_name": "OutputModel",
      "state": {
       "_dom_classes": [],
       "_model_module": "@jupyter-widgets/output",
       "_model_module_version": "1.0.0",
       "_model_name": "OutputModel",
       "_view_count": null,
       "_view_module": "@jupyter-widgets/output",
       "_view_module_version": "1.0.0",
       "_view_name": "OutputView",
       "layout": "IPY_MODEL_d221645525b741c7b91d93cf1cb99dd7",
       "msg_id": "",
       "outputs": []
      }
     },
     "bd125ad828524f9789c17680bc62f3a0": {
      "model_module": "@jupyter-widgets/base",
      "model_module_version": "1.2.0",
      "model_name": "LayoutModel",
      "state": {
       "_model_module": "@jupyter-widgets/base",
       "_model_module_version": "1.2.0",
       "_model_name": "LayoutModel",
       "_view_count": null,
       "_view_module": "@jupyter-widgets/base",
       "_view_module_version": "1.2.0",
       "_view_name": "LayoutView",
       "align_content": null,
       "align_items": null,
       "align_self": null,
       "border": null,
       "bottom": null,
       "display": null,
       "flex": null,
       "flex_flow": null,
       "grid_area": null,
       "grid_auto_columns": null,
       "grid_auto_flow": null,
       "grid_auto_rows": null,
       "grid_column": null,
       "grid_gap": null,
       "grid_row": null,
       "grid_template_areas": null,
       "grid_template_columns": null,
       "grid_template_rows": null,
       "height": null,
       "justify_content": null,
       "justify_items": null,
       "left": null,
       "margin": null,
       "max_height": null,
       "max_width": null,
       "min_height": null,
       "min_width": null,
       "object_fit": null,
       "object_position": null,
       "order": null,
       "overflow": null,
       "overflow_x": null,
       "overflow_y": null,
       "padding": null,
       "right": null,
       "top": null,
       "visibility": null,
       "width": null
      }
     },
     "c7454921e6ed4741be9e55adb9afb875": {
      "model_module": "@jupyter-widgets/base",
      "model_module_version": "1.2.0",
      "model_name": "LayoutModel",
      "state": {
       "_model_module": "@jupyter-widgets/base",
       "_model_module_version": "1.2.0",
       "_model_name": "LayoutModel",
       "_view_count": null,
       "_view_module": "@jupyter-widgets/base",
       "_view_module_version": "1.2.0",
       "_view_name": "LayoutView",
       "align_content": null,
       "align_items": null,
       "align_self": null,
       "border": null,
       "bottom": null,
       "display": null,
       "flex": null,
       "flex_flow": null,
       "grid_area": null,
       "grid_auto_columns": null,
       "grid_auto_flow": null,
       "grid_auto_rows": null,
       "grid_column": null,
       "grid_gap": null,
       "grid_row": null,
       "grid_template_areas": null,
       "grid_template_columns": null,
       "grid_template_rows": null,
       "height": null,
       "justify_content": null,
       "justify_items": null,
       "left": null,
       "margin": null,
       "max_height": null,
       "max_width": null,
       "min_height": null,
       "min_width": null,
       "object_fit": null,
       "object_position": null,
       "order": null,
       "overflow": null,
       "overflow_x": null,
       "overflow_y": null,
       "padding": null,
       "right": null,
       "top": null,
       "visibility": null,
       "width": null
      }
     },
     "cac74aafbcd24ed9bf691cb19d0a62e7": {
      "model_module": "@jupyter-widgets/controls",
      "model_module_version": "1.5.0",
      "model_name": "FloatSliderModel",
      "state": {
       "_dom_classes": [],
       "_model_module": "@jupyter-widgets/controls",
       "_model_module_version": "1.5.0",
       "_model_name": "FloatSliderModel",
       "_view_count": null,
       "_view_module": "@jupyter-widgets/controls",
       "_view_module_version": "1.5.0",
       "_view_name": "FloatSliderView",
       "continuous_update": true,
       "description": "tau_s",
       "description_tooltip": null,
       "disabled": false,
       "layout": "IPY_MODEL_fadeaaa927c54dddae76434b60bfcccb",
       "max": 3.0,
       "min": 0.1,
       "orientation": "horizontal",
       "readout": true,
       "readout_format": ".2f",
       "step": 0.1,
       "style": "IPY_MODEL_932b17ab56fa42119de80db2d8efa936",
       "value": 0.5
      }
     },
     "d221645525b741c7b91d93cf1cb99dd7": {
      "model_module": "@jupyter-widgets/base",
      "model_module_version": "1.2.0",
      "model_name": "LayoutModel",
      "state": {
       "_model_module": "@jupyter-widgets/base",
       "_model_module_version": "1.2.0",
       "_model_name": "LayoutModel",
       "_view_count": null,
       "_view_module": "@jupyter-widgets/base",
       "_view_module_version": "1.2.0",
       "_view_name": "LayoutView",
       "align_content": null,
       "align_items": null,
       "align_self": null,
       "border": null,
       "bottom": null,
       "display": null,
       "flex": null,
       "flex_flow": null,
       "grid_area": null,
       "grid_auto_columns": null,
       "grid_auto_flow": null,
       "grid_auto_rows": null,
       "grid_column": null,
       "grid_gap": null,
       "grid_row": null,
       "grid_template_areas": null,
       "grid_template_columns": null,
       "grid_template_rows": null,
       "height": null,
       "justify_content": null,
       "justify_items": null,
       "left": null,
       "margin": null,
       "max_height": null,
       "max_width": null,
       "min_height": null,
       "min_width": null,
       "object_fit": null,
       "object_position": null,
       "order": null,
       "overflow": null,
       "overflow_x": null,
       "overflow_y": null,
       "padding": null,
       "right": null,
       "top": null,
       "visibility": null,
       "width": null
      }
     },
     "d27d455066514a02824bcc72d6c31d50": {
      "model_module": "@jupyter-widgets/output",
      "model_module_version": "1.0.0",
      "model_name": "OutputModel",
      "state": {
       "_dom_classes": [],
       "_model_module": "@jupyter-widgets/output",
       "_model_module_version": "1.0.0",
       "_model_name": "OutputModel",
       "_view_count": null,
       "_view_module": "@jupyter-widgets/output",
       "_view_module_version": "1.0.0",
       "_view_name": "OutputView",
       "layout": "IPY_MODEL_0018087e39924e379257f8d3c18b65d4",
       "msg_id": "",
       "outputs": []
      }
     },
     "d51a0ffa463f4043a9ff2c308736b3b0": {
      "model_module": "@jupyter-widgets/base",
      "model_module_version": "1.2.0",
      "model_name": "LayoutModel",
      "state": {
       "_model_module": "@jupyter-widgets/base",
       "_model_module_version": "1.2.0",
       "_model_name": "LayoutModel",
       "_view_count": null,
       "_view_module": "@jupyter-widgets/base",
       "_view_module_version": "1.2.0",
       "_view_name": "LayoutView",
       "align_content": null,
       "align_items": null,
       "align_self": null,
       "border": null,
       "bottom": null,
       "display": null,
       "flex": null,
       "flex_flow": null,
       "grid_area": null,
       "grid_auto_columns": null,
       "grid_auto_flow": null,
       "grid_auto_rows": null,
       "grid_column": null,
       "grid_gap": null,
       "grid_row": null,
       "grid_template_areas": null,
       "grid_template_columns": null,
       "grid_template_rows": null,
       "height": null,
       "justify_content": null,
       "justify_items": null,
       "left": null,
       "margin": null,
       "max_height": null,
       "max_width": null,
       "min_height": null,
       "min_width": null,
       "object_fit": null,
       "object_position": null,
       "order": null,
       "overflow": null,
       "overflow_x": null,
       "overflow_y": null,
       "padding": null,
       "right": null,
       "top": null,
       "visibility": null,
       "width": null
      }
     },
     "d9804d03e5d544728ca2cd1c59091ce0": {
      "model_module": "@jupyter-widgets/controls",
      "model_module_version": "1.5.0",
      "model_name": "FloatSliderModel",
      "state": {
       "_dom_classes": [],
       "_model_module": "@jupyter-widgets/controls",
       "_model_module_version": "1.5.0",
       "_model_name": "FloatSliderModel",
       "_view_count": null,
       "_view_module": "@jupyter-widgets/controls",
       "_view_module_version": "1.5.0",
       "_view_name": "FloatSliderView",
       "continuous_update": true,
       "description": "wEE",
       "description_tooltip": null,
       "disabled": false,
       "layout": "IPY_MODEL_e67a39cf8a1d4a9fbdcedb7965fb42d6",
       "max": 10.0,
       "min": 6.0,
       "orientation": "horizontal",
       "readout": true,
       "readout_format": ".2f",
       "step": 0.01,
       "style": "IPY_MODEL_1cf8f34a1d8a469ca8406a6554dcabab",
       "value": 8.0
      }
     },
     "dd92323f069c4e70b75301cd9b4e4cea": {
      "model_module": "@jupyter-widgets/controls",
      "model_module_version": "1.5.0",
      "model_name": "SliderStyleModel",
      "state": {
       "_model_module": "@jupyter-widgets/controls",
       "_model_module_version": "1.5.0",
       "_model_name": "SliderStyleModel",
       "_view_count": null,
       "_view_module": "@jupyter-widgets/base",
       "_view_module_version": "1.2.0",
       "_view_name": "StyleView",
       "description_width": "",
       "handle_color": null
      }
     },
     "ddc08a50ae0a41098171577b86b996c4": {
      "model_module": "@jupyter-widgets/controls",
      "model_module_version": "1.5.0",
      "model_name": "FloatSliderModel",
      "state": {
       "_dom_classes": [],
       "_model_module": "@jupyter-widgets/controls",
       "_model_module_version": "1.5.0",
       "_model_name": "FloatSliderModel",
       "_view_count": null,
       "_view_module": "@jupyter-widgets/controls",
       "_view_module_version": "1.5.0",
       "_view_name": "FloatSliderView",
       "continuous_update": true,
       "description": "E_init",
       "description_tooltip": null,
       "disabled": false,
       "layout": "IPY_MODEL_fe21bde51b2b4f80aaf974ff0697be1f",
       "max": 0.35,
       "min": 0.3,
       "orientation": "horizontal",
       "readout": true,
       "readout_format": ".2f",
       "step": 0.01,
       "style": "IPY_MODEL_6a3530112ba54fddb828184caeb6797c",
       "value": 0.3
      }
     },
     "e67a39cf8a1d4a9fbdcedb7965fb42d6": {
      "model_module": "@jupyter-widgets/base",
      "model_module_version": "1.2.0",
      "model_name": "LayoutModel",
      "state": {
       "_model_module": "@jupyter-widgets/base",
       "_model_module_version": "1.2.0",
       "_model_name": "LayoutModel",
       "_view_count": null,
       "_view_module": "@jupyter-widgets/base",
       "_view_module_version": "1.2.0",
       "_view_name": "LayoutView",
       "align_content": null,
       "align_items": null,
       "align_self": null,
       "border": null,
       "bottom": null,
       "display": null,
       "flex": null,
       "flex_flow": null,
       "grid_area": null,
       "grid_auto_columns": null,
       "grid_auto_flow": null,
       "grid_auto_rows": null,
       "grid_column": null,
       "grid_gap": null,
       "grid_row": null,
       "grid_template_areas": null,
       "grid_template_columns": null,
       "grid_template_rows": null,
       "height": null,
       "justify_content": null,
       "justify_items": null,
       "left": null,
       "margin": null,
       "max_height": null,
       "max_width": null,
       "min_height": null,
       "min_width": null,
       "object_fit": null,
       "object_position": null,
       "order": null,
       "overflow": null,
       "overflow_x": null,
       "overflow_y": null,
       "padding": null,
       "right": null,
       "top": null,
       "visibility": null,
       "width": null
      }
     },
     "efdf6ed395e5429ba16a231ba917f389": {
      "model_module": "@jupyter-widgets/base",
      "model_module_version": "1.2.0",
      "model_name": "LayoutModel",
      "state": {
       "_model_module": "@jupyter-widgets/base",
       "_model_module_version": "1.2.0",
       "_model_name": "LayoutModel",
       "_view_count": null,
       "_view_module": "@jupyter-widgets/base",
       "_view_module_version": "1.2.0",
       "_view_name": "LayoutView",
       "align_content": null,
       "align_items": null,
       "align_self": null,
       "border": null,
       "bottom": null,
       "display": null,
       "flex": null,
       "flex_flow": null,
       "grid_area": null,
       "grid_auto_columns": null,
       "grid_auto_flow": null,
       "grid_auto_rows": null,
       "grid_column": null,
       "grid_gap": null,
       "grid_row": null,
       "grid_template_areas": null,
       "grid_template_columns": null,
       "grid_template_rows": null,
       "height": null,
       "justify_content": null,
       "justify_items": null,
       "left": null,
       "margin": null,
       "max_height": null,
       "max_width": null,
       "min_height": null,
       "min_width": null,
       "object_fit": null,
       "object_position": null,
       "order": null,
       "overflow": null,
       "overflow_x": null,
       "overflow_y": null,
       "padding": null,
       "right": null,
       "top": null,
       "visibility": null,
       "width": null
      }
     },
     "fadeaaa927c54dddae76434b60bfcccb": {
      "model_module": "@jupyter-widgets/base",
      "model_module_version": "1.2.0",
      "model_name": "LayoutModel",
      "state": {
       "_model_module": "@jupyter-widgets/base",
       "_model_module_version": "1.2.0",
       "_model_name": "LayoutModel",
       "_view_count": null,
       "_view_module": "@jupyter-widgets/base",
       "_view_module_version": "1.2.0",
       "_view_name": "LayoutView",
       "align_content": null,
       "align_items": null,
       "align_self": null,
       "border": null,
       "bottom": null,
       "display": null,
       "flex": null,
       "flex_flow": null,
       "grid_area": null,
       "grid_auto_columns": null,
       "grid_auto_flow": null,
       "grid_auto_rows": null,
       "grid_column": null,
       "grid_gap": null,
       "grid_row": null,
       "grid_template_areas": null,
       "grid_template_columns": null,
       "grid_template_rows": null,
       "height": null,
       "justify_content": null,
       "justify_items": null,
       "left": null,
       "margin": null,
       "max_height": null,
       "max_width": null,
       "min_height": null,
       "min_width": null,
       "object_fit": null,
       "object_position": null,
       "order": null,
       "overflow": null,
       "overflow_x": null,
       "overflow_y": null,
       "padding": null,
       "right": null,
       "top": null,
       "visibility": null,
       "width": null
      }
     },
     "fbb8ac90c7ac4d1cb2115600a124105e": {
      "model_module": "@jupyter-widgets/base",
      "model_module_version": "1.2.0",
      "model_name": "LayoutModel",
      "state": {
       "_model_module": "@jupyter-widgets/base",
       "_model_module_version": "1.2.0",
       "_model_name": "LayoutModel",
       "_view_count": null,
       "_view_module": "@jupyter-widgets/base",
       "_view_module_version": "1.2.0",
       "_view_name": "LayoutView",
       "align_content": null,
       "align_items": null,
       "align_self": null,
       "border": null,
       "bottom": null,
       "display": null,
       "flex": null,
       "flex_flow": null,
       "grid_area": null,
       "grid_auto_columns": null,
       "grid_auto_flow": null,
       "grid_auto_rows": null,
       "grid_column": null,
       "grid_gap": null,
       "grid_row": null,
       "grid_template_areas": null,
       "grid_template_columns": null,
       "grid_template_rows": null,
       "height": null,
       "justify_content": null,
       "justify_items": null,
       "left": null,
       "margin": null,
       "max_height": null,
       "max_width": null,
       "min_height": null,
       "min_width": null,
       "object_fit": null,
       "object_position": null,
       "order": null,
       "overflow": null,
       "overflow_x": null,
       "overflow_y": null,
       "padding": null,
       "right": null,
       "top": null,
       "visibility": null,
       "width": null
      }
     },
     "fda138c97ed441c5b9a6a3f416b30140": {
      "model_module": "@jupyter-widgets/controls",
      "model_module_version": "1.5.0",
      "model_name": "FloatSliderModel",
      "state": {
       "_dom_classes": [],
       "_model_module": "@jupyter-widgets/controls",
       "_model_module_version": "1.5.0",
       "_model_name": "FloatSliderModel",
       "_view_count": null,
       "_view_module": "@jupyter-widgets/controls",
       "_view_module_version": "1.5.0",
       "_view_name": "FloatSliderView",
       "continuous_update": true,
       "description": "SE",
       "description_tooltip": null,
       "disabled": false,
       "layout": "IPY_MODEL_efdf6ed395e5429ba16a231ba917f389",
       "max": 0.5,
       "min": 0.45,
       "orientation": "horizontal",
       "readout": true,
       "readout_format": ".2f",
       "step": 0.01,
       "style": "IPY_MODEL_b4f1893ca8cf40b880664e62da7140f5",
       "value": 0.45
      }
     },
     "fe21bde51b2b4f80aaf974ff0697be1f": {
      "model_module": "@jupyter-widgets/base",
      "model_module_version": "1.2.0",
      "model_name": "LayoutModel",
      "state": {
       "_model_module": "@jupyter-widgets/base",
       "_model_module_version": "1.2.0",
       "_model_name": "LayoutModel",
       "_view_count": null,
       "_view_module": "@jupyter-widgets/base",
       "_view_module_version": "1.2.0",
       "_view_name": "LayoutView",
       "align_content": null,
       "align_items": null,
       "align_self": null,
       "border": null,
       "bottom": null,
       "display": null,
       "flex": null,
       "flex_flow": null,
       "grid_area": null,
       "grid_auto_columns": null,
       "grid_auto_flow": null,
       "grid_auto_rows": null,
       "grid_column": null,
       "grid_gap": null,
       "grid_row": null,
       "grid_template_areas": null,
       "grid_template_columns": null,
       "grid_template_rows": null,
       "height": null,
       "justify_content": null,
       "justify_items": null,
       "left": null,
       "margin": null,
       "max_height": null,
       "max_width": null,
       "min_height": null,
       "min_width": null,
       "object_fit": null,
       "object_position": null,
       "order": null,
       "overflow": null,
       "overflow_x": null,
       "overflow_y": null,
       "padding": null,
       "right": null,
       "top": null,
       "visibility": null,
       "width": null
      }
     }
    },
    "version_major": 2,
    "version_minor": 0
   }
  }
 },
 "nbformat": 4,
 "nbformat_minor": 0
}
