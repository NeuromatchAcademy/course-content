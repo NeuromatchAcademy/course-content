{
 "cells": [
  {
   "cell_type": "markdown",
   "metadata": {
    "colab_type": "text",
    "id": "view-in-github"
   },
   "source": [
    "<a href=\"https://colab.research.google.com/github/NeuromatchAcademy/course-content/blob/master/tutorials/demo/Neuromatch_Tutorial_Format.ipynb\" target=\"_parent\"><img src=\"https://colab.research.google.com/assets/colab-badge.svg\" alt=\"Open In Colab\"/></a>"
   ]
  },
  {
   "cell_type": "markdown",
   "metadata": {
    "colab_type": "text",
    "id": "fDXAYdIHuyCV"
   },
   "source": [
    "\n",
    "# Neuromatch Academy: Week ?, Day ?, Tutorial ?\n",
    "# Name of Tutorial\n"
   ]
  },
  {
   "cell_type": "markdown",
   "metadata": {
    "colab_type": "text",
    "id": "gzAa0I1xZ79h"
   },
   "source": [
    "#Tutorial Objectives\n",
    "\n",
    "You should briefly introduce your content here in a few sentences. In this tutorial, you will learn what a waxed notebook should look like. **You should make sure the notebook runs from start to finish when done waxing (do restart and run all and make sure there are no errors)**\n",
    "\n",
    "Then have a few specific objectives for this tutorial:\n",
    "*   Objective A\n",
    "*   Objective B\n",
    "*   Objective C\n",
    "\n"
   ]
  },
  {
   "cell_type": "markdown",
   "metadata": {
    "colab_type": "text",
    "id": "V0iDJGBMzbMQ"
   },
   "source": [
    "# Setup"
   ]
  },
  {
   "cell_type": "code",
   "execution_count": 1,
   "metadata": {
    "cellView": "both",
    "colab": {},
    "colab_type": "code",
    "id": "3Yuh005kCT0v"
   },
   "outputs": [],
   "source": [
    "# Imports\n",
    "\n",
    "# Import only the libraries/objects that you use in this tutorial. I've included\n",
    "# these common ones as examples\n",
    "import numpy as np\n",
    "import matplotlib.pyplot as plt\n",
    "import ipywidgets as widgets"
   ]
  },
  {
   "cell_type": "code",
   "execution_count": 2,
   "metadata": {
    "cellView": "both",
    "colab": {},
    "colab_type": "code",
    "id": "PCOz4jKJXGya"
   },
   "outputs": [],
   "source": [
    "#@title Figure Settings\n",
    "%matplotlib inline\n",
    "fig_w, fig_h = (8, 6)\n",
    "plt.rcParams.update({'figure.figsize': (fig_w, fig_h)})\n",
    "%config InlineBackend.figure_format = 'retina'"
   ]
  },
  {
   "cell_type": "code",
   "execution_count": 3,
   "metadata": {
    "cellView": "both",
    "colab": {},
    "colab_type": "code",
    "id": "vGVC4AWz41jD"
   },
   "outputs": [],
   "source": [
    "#@title Helper functions\n",
    "\n",
    "# If any helper functions you want to hide for clarity, add here\n",
    "\n",
    "# a very silly example:\n",
    "def multiply_array(x, c):\n",
    "  \"\"\"Multiply every element in an array by a provided value\n",
    "\n",
    "  Args:\n",
    "    x (ndarray): An array of shape (N,) \n",
    "    c (scalar): multiplicative factor\n",
    "\n",
    "  Returns:\n",
    "    ndarray: output of the multiplication \n",
    "  \"\"\"\n",
    "\n",
    "  y = x*c\n",
    "\n",
    "  return y\n",
    "\n",
    "def plotting_z(z):\n",
    "  \"\"\"This function multiplies every element in an array by a provided value\n",
    "\n",
    "  Args:\n",
    "    z (ndarray): neural activity over time, shape (T, ) where T is number of timesteps\n",
    "  \n",
    "   \"\"\"\n",
    "\n",
    "  fig, ax = plt.subplots()\n",
    "\n",
    "  ax.plot(z)\n",
    "  ax.set(\n",
    "       xlabel='Time (s)',\n",
    "       ylabel='Z',\n",
    "       title='Neural activity over time'\n",
    "      \n",
    "   )\n",
    "\n"
   ]
  },
  {
   "cell_type": "markdown",
   "metadata": {
    "colab_type": "text",
    "id": "huTiqxFDWeqj"
   },
   "source": [
    "-----"
   ]
  },
  {
   "cell_type": "markdown",
   "metadata": {
    "colab_type": "text",
    "id": "nULavCfq4o07"
   },
   "source": [
    "# Name of first content section (ex. Linear Regression)"
   ]
  },
  {
   "cell_type": "code",
   "execution_count": 4,
   "metadata": {
    "cellView": "form",
    "colab": {
     "base_uri": "https://localhost:8080/",
     "height": 537
    },
    "colab_type": "code",
    "id": "ThcPwgvzvV-6",
    "outputId": "2babdafa-b92c-48ea-a773-169dfb1cd50d"
   },
   "outputs": [
    {
     "name": "stdout",
     "output_type": "stream",
     "text": [
      "Video available at https://youtu.be/\n"
     ]
    },
    {
     "data": {
      "text/html": [
       "\n",
       "        <iframe\n",
       "            width=\"854\"\n",
       "            height=\"480\"\n",
       "            src=\"https://www.youtube.com/embed/?fs=1\"\n",
       "            frameborder=\"0\"\n",
       "            allowfullscreen\n",
       "        ></iframe>\n",
       "        "
      ],
      "text/plain": [
       "<IPython.lib.display.YouTubeVideo at 0x7f5efc108810>"
      ]
     },
     "execution_count": 4,
     "metadata": {},
     "output_type": "execute_result"
    }
   ],
   "source": [
    "#@title Video \n",
    "# Insert the ID of the corresponding youtube video\n",
    "from IPython.display import YouTubeVideo\n",
    "video = YouTubeVideo(id=\"\", width=854, height=480, fs=1)\n",
    "print(\"Video available at https://youtu.be/\" + video.id)\n",
    "video\n"
   ]
  },
  {
   "cell_type": "markdown",
   "metadata": {
    "colab_type": "text",
    "id": "z8axuI6upLv4"
   },
   "source": [
    "Text about the first concept. Don't make too long to reduce reading times during tutorial (extra text for later reference can go in appendix)"
   ]
  },
  {
   "cell_type": "markdown",
   "metadata": {
    "colab_type": "text",
    "id": "j9n17gXFOIXX"
   },
   "source": [
    "## Subsection header if you want one\n",
    "\n",
    "whatever text you want here"
   ]
  },
  {
   "cell_type": "markdown",
   "metadata": {
    "colab_type": "text",
    "id": "cSfqeVwMOLDo"
   },
   "source": [
    "## Another subsection\n",
    "\n",
    "More explanation text\n"
   ]
  },
  {
   "cell_type": "markdown",
   "metadata": {
    "colab_type": "text",
    "id": "ZosC4SmFQnhq"
   },
   "source": [
    "### Exercise 1: Helpful exercise name (ex. fitting a linear regression model)\n",
    "\n",
    "Very briefly summarize the exercise here. In this exercise, you will also invoke `multiply_array` which multiplies an array by a scalar"
   ]
  },
  {
   "cell_type": "code",
   "execution_count": 5,
   "metadata": {
    "colab": {},
    "colab_type": "code",
    "id": "0dYxSDmqQgAC"
   },
   "outputs": [],
   "source": [
    "def generic_function(x):\n",
    "  \"\"\"Google style doc string. Brief summary of what function does here\n",
    "  \n",
    "  Args:\n",
    "    x (ndarray): An array of shape (N,) that contains blah blah\n",
    "\n",
    "  Returns:\n",
    "    ndarray: The output is blah blah\n",
    "  \"\"\"\n",
    "  #################################################\n",
    "  ## TODO for students: details of what they should do ##\n",
    "  # Fill out function and remove\n",
    "  raise NotImplementedError(\"Student exercise: say what they should have done\")\n",
    "  #################################################\n",
    "  \n",
    "  # Have a comment for every line of code they need to write, and when possible have\n",
    "  # variables written with ellipses where they should fill in or ellipses where they should\n",
    "  # fill in inputs to functions\n",
    "  y = multiply_array(..., 5)\n",
    "\n",
    "  # Another comment because they need to add another line of code\n",
    "  z = ...\n",
    "\n",
    "  return z\n",
    "\n",
    "# Uncomment once the make_design_matrix function is complete\n",
    "# x = np.array([4, 5, 6])\n",
    "\n",
    "# z = generic_function(x)\n",
    "# plotting_z(z) \n",
    "# we often invoke a plotting function hidden in Helper Functions so students don't \n",
    "# have to uncomment a lot of boilerplate matplotlib code\n",
    "\n",
    "\n"
   ]
  },
  {
   "cell_type": "markdown",
   "metadata": {
    "cellView": "both",
    "colab": {
     "base_uri": "https://localhost:8080/",
     "height": 411
    },
    "colab_type": "text",
    "id": "tycSi5Pxbsne",
    "outputId": "ce9c9467-b94f-44c0-9eb3-9d2702712024"
   },
   "source": [
    "[*Click for solution*](https://github.com/NeuromatchAcademy/course-content/tree/master//tutorials/demo/solutions/Neuromatch_Tutorial_Format_Solution_1d90562a.py)\n",
    "\n",
    "*Example output:*\n",
    "\n",
    "<img alt='Solution hint' align='left' width=508 height=406 src=https://raw.githubusercontent.com/NeuromatchAcademy/course-content/master/tutorials/demo/static/Neuromatch_Tutorial_Format_Solution_1d90562a_0.png>\n",
    "\n"
   ]
  },
  {
   "cell_type": "markdown",
   "metadata": {
    "colab_type": "text",
    "id": "UhDupvg6W4f7"
   },
   "source": [
    "### Interactive Demo: Widget\n",
    "\n",
    "Here, we will demonstrate how to create a widget if you would like to use a widget to demonstrate something. Make sure the use a @title cell and hide the contents by default, because the code to make the widget is often pretty ugly and not important for the students to see. Also, we recommend giving specific guidance for what students should look at with widget/what questions they're trying to answer so it's not just pointless twiddling"
   ]
  },
  {
   "cell_type": "code",
   "execution_count": 7,
   "metadata": {
    "cellView": "form",
    "colab": {
     "base_uri": "https://localhost:8080/",
     "height": 437,
     "referenced_widgets": [
      "f3973bba7cdd40a4a09cc76fe598d5b1",
      "7487c43318ec4bccb5bd31c26aab5727",
      "f9cde3f73c63421aa99502f1fdd14824",
      "68edb6959c5b42479e49e4b9ba8a0d26",
      "274a77d2418645b39b56181bc0850215",
      "8b3f0a55350141d385991f85b1c11b92",
      "47da5cf09f2d4ccd9774bfbb0671054c",
      "76d52c06c08940fd9f1e5b17e63ba243",
      "4e5555ab0ff5479faaa0e690ac3ee711",
      "b2d7b7d00f044b4b817f114a30c1eb6f"
     ]
    },
    "colab_type": "code",
    "id": "976PhJZaXDP5",
    "outputId": "5ea04f1b-169e-4450-bf44-a2f720a09fb3"
   },
   "outputs": [
    {
     "data": {
      "image/png": "[encoded data removed]",
      "text/plain": [
       "<Figure size 576x432 with 1 Axes>"
      ]
     },
     "metadata": {
      "image/png": {
       "height": 357,
       "width": 496
      },
      "needs_background": "light"
     },
     "output_type": "display_data"
    }
   ],
   "source": [
    "#@title A Widget\n",
    "\n",
    "x = np.arange(-10, 11, 0.1)\n",
    "\n",
    "def gaussian(x, mu, sigma):\n",
    "  px = np.exp(-1 / 2 / sigma**2 * (mu - x) ** 2)\n",
    "  px = px / px.sum()\n",
    "  return px\n",
    "\n",
    "@widgets.interact\n",
    "def plot_gaussian(mean=(-10, 10, .5), std=(.5, 10, .5)):\n",
    "  plt.plot(x, gaussian(x, mean, std))\n"
   ]
  },
  {
   "cell_type": "markdown",
   "metadata": {
    "colab": {},
    "colab_type": "text",
    "id": "O0-u0qhNgATu"
   },
   "source": [
    "[*Click for solution*](https://github.com/NeuromatchAcademy/course-content/tree/master//tutorials/demo/solutions/Neuromatch_Tutorial_Format_Solution_0f49f2a1.py)\n",
    "\n"
   ]
  },
  {
   "cell_type": "markdown",
   "metadata": {
    "colab_type": "text",
    "id": "CrTpOZZDW9qZ"
   },
   "source": [
    "maybe some more text about what exercises showed (if helpful)"
   ]
  },
  {
   "cell_type": "markdown",
   "metadata": {
    "colab_type": "text",
    "id": "_Z6vKsN89rN1"
   },
   "source": [
    "# Summary\n",
    "\n",
    "Have a summary of what they learned with specific points.\n",
    "\n",
    "* Specific point A\n",
    "\n",
    "* Specific point B\n"
   ]
  },
  {
   "cell_type": "markdown",
   "metadata": {
    "colab_type": "text",
    "id": "Y6Pux46LWw7e"
   },
   "source": [
    "# Appendix\n",
    "\n",
    "Add extra text that you want students to have for reference later but that will make reading times too long during tutorials"
   ]
  },
  {
   "cell_type": "code",
   "execution_count": 8,
   "metadata": {
    "colab": {},
    "colab_type": "code",
    "id": "eVBcODAE9t95"
   },
   "outputs": [],
   "source": []
  }
 ],
 "metadata": {
  "colab": {
   "collapsed_sections": [],
   "include_colab_link": true,
   "name": "Neuromatch_Tutorial_Format",
   "provenance": [],
   "toc_visible": true
  },
  "kernelspec": {
   "display_name": "Python 3",
   "language": "python",
   "name": "python3"
  },
  "language_info": {
   "codemirror_mode": {
    "name": "ipython",
    "version": 3
   },
   "file_extension": ".py",
   "mimetype": "text/x-python",
   "name": "python",
   "nbconvert_exporter": "python",
   "pygments_lexer": "ipython3",
   "version": "3.7.7"
  },
  "toc-autonumbering": true,
  "widgets": {
   "application/vnd.jupyter.widget-state+json": {
    "state": {
     "102260702c974a0798f8df5f30a4403b": {
      "model_module": "@jupyter-widgets/base",
      "model_module_version": "1.2.0",
      "model_name": "LayoutModel",
      "state": {
       "_model_module": "@jupyter-widgets/base",
       "_model_module_version": "1.2.0",
       "_model_name": "LayoutModel",
       "_view_count": null,
       "_view_module": "@jupyter-widgets/base",
       "_view_module_version": "1.2.0",
       "_view_name": "LayoutView",
       "align_content": null,
       "align_items": null,
       "align_self": null,
       "border": null,
       "bottom": null,
       "display": null,
       "flex": null,
       "flex_flow": null,
       "grid_area": null,
       "grid_auto_columns": null,
       "grid_auto_flow": null,
       "grid_auto_rows": null,
       "grid_column": null,
       "grid_gap": null,
       "grid_row": null,
       "grid_template_areas": null,
       "grid_template_columns": null,
       "grid_template_rows": null,
       "height": null,
       "justify_content": null,
       "justify_items": null,
       "left": null,
       "margin": null,
       "max_height": null,
       "max_width": null,
       "min_height": null,
       "min_width": null,
       "object_fit": null,
       "object_position": null,
       "order": null,
       "overflow": null,
       "overflow_x": null,
       "overflow_y": null,
       "padding": null,
       "right": null,
       "top": null,
       "visibility": null,
       "width": null
      }
     },
     "2960c60a3725450c8a2c4d05b29b8d5f": {
      "model_module": "@jupyter-widgets/base",
      "model_module_version": "1.2.0",
      "model_name": "LayoutModel",
      "state": {
       "_model_module": "@jupyter-widgets/base",
       "_model_module_version": "1.2.0",
       "_model_name": "LayoutModel",
       "_view_count": null,
       "_view_module": "@jupyter-widgets/base",
       "_view_module_version": "1.2.0",
       "_view_name": "LayoutView",
       "align_content": null,
       "align_items": null,
       "align_self": null,
       "border": null,
       "bottom": null,
       "display": null,
       "flex": null,
       "flex_flow": null,
       "grid_area": null,
       "grid_auto_columns": null,
       "grid_auto_flow": null,
       "grid_auto_rows": null,
       "grid_column": null,
       "grid_gap": null,
       "grid_row": null,
       "grid_template_areas": null,
       "grid_template_columns": null,
       "grid_template_rows": null,
       "height": null,
       "justify_content": null,
       "justify_items": null,
       "left": null,
       "margin": null,
       "max_height": null,
       "max_width": null,
       "min_height": null,
       "min_width": null,
       "object_fit": null,
       "object_position": null,
       "order": null,
       "overflow": null,
       "overflow_x": null,
       "overflow_y": null,
       "padding": null,
       "right": null,
       "top": null,
       "visibility": null,
       "width": null
      }
     },
     "38a15493fff844a7b17640239160d719": {
      "model_module": "@jupyter-widgets/base",
      "model_module_version": "1.2.0",
      "model_name": "LayoutModel",
      "state": {
       "_model_module": "@jupyter-widgets/base",
       "_model_module_version": "1.2.0",
       "_model_name": "LayoutModel",
       "_view_count": null,
       "_view_module": "@jupyter-widgets/base",
       "_view_module_version": "1.2.0",
       "_view_name": "LayoutView",
       "align_content": null,
       "align_items": null,
       "align_self": null,
       "border": null,
       "bottom": null,
       "display": null,
       "flex": null,
       "flex_flow": null,
       "grid_area": null,
       "grid_auto_columns": null,
       "grid_auto_flow": null,
       "grid_auto_rows": null,
       "grid_column": null,
       "grid_gap": null,
       "grid_row": null,
       "grid_template_areas": null,
       "grid_template_columns": null,
       "grid_template_rows": null,
       "height": null,
       "justify_content": null,
       "justify_items": null,
       "left": null,
       "margin": null,
       "max_height": null,
       "max_width": null,
       "min_height": null,
       "min_width": null,
       "object_fit": null,
       "object_position": null,
       "order": null,
       "overflow": null,
       "overflow_x": null,
       "overflow_y": null,
       "padding": null,
       "right": null,
       "top": null,
       "visibility": null,
       "width": null
      }
     },
     "687a333f841b43459855a6c8b201d64e": {
      "model_module": "@jupyter-widgets/base",
      "model_module_version": "1.2.0",
      "model_name": "LayoutModel",
      "state": {
       "_model_module": "@jupyter-widgets/base",
       "_model_module_version": "1.2.0",
       "_model_name": "LayoutModel",
       "_view_count": null,
       "_view_module": "@jupyter-widgets/base",
       "_view_module_version": "1.2.0",
       "_view_name": "LayoutView",
       "align_content": null,
       "align_items": null,
       "align_self": null,
       "border": null,
       "bottom": null,
       "display": null,
       "flex": null,
       "flex_flow": null,
       "grid_area": null,
       "grid_auto_columns": null,
       "grid_auto_flow": null,
       "grid_auto_rows": null,
       "grid_column": null,
       "grid_gap": null,
       "grid_row": null,
       "grid_template_areas": null,
       "grid_template_columns": null,
       "grid_template_rows": null,
       "height": null,
       "justify_content": null,
       "justify_items": null,
       "left": null,
       "margin": null,
       "max_height": null,
       "max_width": null,
       "min_height": null,
       "min_width": null,
       "object_fit": null,
       "object_position": null,
       "order": null,
       "overflow": null,
       "overflow_x": null,
       "overflow_y": null,
       "padding": null,
       "right": null,
       "top": null,
       "visibility": null,
       "width": null
      }
     },
     "7034be57de6c46e4b4cbfd8cdda149a3": {
      "model_module": "@jupyter-widgets/controls",
      "model_module_version": "1.5.0",
      "model_name": "SliderStyleModel",
      "state": {
       "_model_module": "@jupyter-widgets/controls",
       "_model_module_version": "1.5.0",
       "_model_name": "SliderStyleModel",
       "_view_count": null,
       "_view_module": "@jupyter-widgets/base",
       "_view_module_version": "1.2.0",
       "_view_name": "StyleView",
       "description_width": "",
       "handle_color": null
      }
     },
     "72b7e51529fd4c73b7e34df60d2049a3": {
      "model_module": "@jupyter-widgets/controls",
      "model_module_version": "1.5.0",
      "model_name": "FloatSliderModel",
      "state": {
       "_dom_classes": [],
       "_model_module": "@jupyter-widgets/controls",
       "_model_module_version": "1.5.0",
       "_model_name": "FloatSliderModel",
       "_view_count": null,
       "_view_module": "@jupyter-widgets/controls",
       "_view_module_version": "1.5.0",
       "_view_name": "FloatSliderView",
       "continuous_update": true,
       "description": "std",
       "description_tooltip": null,
       "disabled": false,
       "layout": "IPY_MODEL_38a15493fff844a7b17640239160d719",
       "max": 10.0,
       "min": 0.5,
       "orientation": "horizontal",
       "readout": true,
       "readout_format": ".2f",
       "step": 0.5,
       "style": "IPY_MODEL_7034be57de6c46e4b4cbfd8cdda149a3",
       "value": 5.0
      }
     },
     "8aa8c9dc1e7a4c92af160d157784eebd": {
      "model_module": "@jupyter-widgets/controls",
      "model_module_version": "1.5.0",
      "model_name": "SliderStyleModel",
      "state": {
       "_model_module": "@jupyter-widgets/controls",
       "_model_module_version": "1.5.0",
       "_model_name": "SliderStyleModel",
       "_view_count": null,
       "_view_module": "@jupyter-widgets/base",
       "_view_module_version": "1.2.0",
       "_view_name": "StyleView",
       "description_width": "",
       "handle_color": null
      }
     },
     "9f20938ab6634d5dbe8e7985a2dbbe9c": {
      "model_module": "@jupyter-widgets/controls",
      "model_module_version": "1.5.0",
      "model_name": "VBoxModel",
      "state": {
       "_dom_classes": [
        "widget-interact"
       ],
       "_model_module": "@jupyter-widgets/controls",
       "_model_module_version": "1.5.0",
       "_model_name": "VBoxModel",
       "_view_count": null,
       "_view_module": "@jupyter-widgets/controls",
       "_view_module_version": "1.5.0",
       "_view_name": "VBoxView",
       "box_style": "",
       "children": [
        "IPY_MODEL_b6e2c9e0190c4e96bbbfb642d871a444",
        "IPY_MODEL_72b7e51529fd4c73b7e34df60d2049a3",
        "IPY_MODEL_ab9bf4f10c2b4cddb74dab754f4a1801"
       ],
       "layout": "IPY_MODEL_687a333f841b43459855a6c8b201d64e"
      }
     },
     "ab9bf4f10c2b4cddb74dab754f4a1801": {
      "model_module": "@jupyter-widgets/output",
      "model_module_version": "1.0.0",
      "model_name": "OutputModel",
      "state": {
       "_dom_classes": [],
       "_model_module": "@jupyter-widgets/output",
       "_model_module_version": "1.0.0",
       "_model_name": "OutputModel",
       "_view_count": null,
       "_view_module": "@jupyter-widgets/output",
       "_view_module_version": "1.0.0",
       "_view_name": "OutputView",
       "layout": "IPY_MODEL_2960c60a3725450c8a2c4d05b29b8d5f",
       "msg_id": "",
       "outputs": []
      }
     },
     "b6e2c9e0190c4e96bbbfb642d871a444": {
      "model_module": "@jupyter-widgets/controls",
      "model_module_version": "1.5.0",
      "model_name": "FloatSliderModel",
      "state": {
       "_dom_classes": [],
       "_model_module": "@jupyter-widgets/controls",
       "_model_module_version": "1.5.0",
       "_model_name": "FloatSliderModel",
       "_view_count": null,
       "_view_module": "@jupyter-widgets/controls",
       "_view_module_version": "1.5.0",
       "_view_name": "FloatSliderView",
       "continuous_update": true,
       "description": "mean",
       "description_tooltip": null,
       "disabled": false,
       "layout": "IPY_MODEL_102260702c974a0798f8df5f30a4403b",
       "max": 10.0,
       "min": -10.0,
       "orientation": "horizontal",
       "readout": true,
       "readout_format": ".2f",
       "step": 0.5,
       "style": "IPY_MODEL_8aa8c9dc1e7a4c92af160d157784eebd",
       "value": 0.0
      }
     }
    },
    "version_major": 2,
    "version_minor": 0
   }
  }
 },
 "nbformat": 4,
 "nbformat_minor": 0
}
