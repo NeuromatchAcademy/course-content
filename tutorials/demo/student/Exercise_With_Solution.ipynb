{
 "cells": [
  {
   "cell_type": "markdown",
   "metadata": {},
   "source": [
    "# Exercise with solution\n",
    "\n",
    "The core of the tutorial notebooks are a set of excercises that students should complete.\n",
    "\n",
    "There are [detailed instructions](https://github.com/NeuromatchAcademy/course-content/blob/master/tutorials/writing-tutorials.md) for structuring these exercises. The key points are:\n",
    "\n",
    "- Provide structure/boilerplate: let the student focus on the content\n",
    "- Objectives of the exercise should be clear\n",
    "- Don't require students to write more than 3-4 lines of code\n",
    "- Provide a runnable solution for the technical team and TAs (tag with `# to_remove`)\n",
    "- If the solution produces a plot, use XKCD mode so it looks \"cartoony\"\n",
    "- Make sure that tutorial notebooks can execute with incomplete exercises"
   ]
  },
  {
   "cell_type": "code",
   "execution_count": 1,
   "metadata": {},
   "outputs": [],
   "source": [
    "#@ Imports and helper function\n",
    "import numpy as np\n",
    "import matplotlib.pyplot as plt\n",
    "\n",
    "def plot_distribution(x, px, **kwargs):\n",
    "  \"\"\"\n",
    "  Plots normalized distribution\n",
    "\n",
    "  Args:\n",
    "    x (numpy array of floats): points at which the likelihood has been evaluated\n",
    "    px (numpy array of floats): normalized probabilities for prior evaluated at each `x`\n",
    "\n",
    "  Returns:\n",
    "    Nothing.\n",
    "  \"\"\"\n",
    "  if px is None:\n",
    "    px = np.zeros_like(x)\n",
    "  px = px / px.sum()\n",
    "\n",
    "  plt.plot(x, px, linewidth=2, **kwargs)\n",
    "  plt.xlabel('Orientation (Degrees)')\n",
    "  plt.ylabel('Probability')"
   ]
  },
  {
   "cell_type": "markdown",
   "metadata": {},
   "source": [
    "Simple exercise can provide commented-out code stubs, instructing the student to fill in missing parts."
   ]
  },
  {
   "cell_type": "markdown",
   "metadata": {},
   "source": [
    "### Exercise: Discrete frequency distribution\n",
    "\n",
    "*Exercise objectives:*\n",
    "- Given an array of counts, compute a normalized frequency distribution\n",
    "- Visualize the distribution with a bar plot"
   ]
  },
  {
   "cell_type": "code",
   "execution_count": 2,
   "metadata": {},
   "outputs": [],
   "source": [
    "# To complete the exercise, uncomment the code and fill missing parts (...)\n",
    "\n",
    "die_counts = np.array([16, 16, 8, 20, 19, 21])\n",
    "\n",
    "# numbers = ...  # Hint: np.arange starts at 0\n",
    "# die_freqs = ...\n",
    "\n",
    "# plt.bar(numbers, die_freq)\n",
    "# plt.ylabel(\"Frequency\")"
   ]
  },
  {
   "cell_type": "markdown",
   "metadata": {},
   "source": [
    "**Example output:**\n",
    "\n",
    "<img src='../static/Exercise_With_Solution_Solution_75c2d3bb_0.png' align='left'>"
   ]
  },
  {
   "cell_type": "markdown",
   "metadata": {},
   "source": [
    "---\n",
    "\n",
    "For exercises where it makes sense to use a function, stub out the function (including inputs, outputs, and a full docstring) but have it raise a `NotImplementedError` with a useful message. The notebook itself shouldn't actually generate this error, but we want the students to get some guidance about what they are supposed to do.\n",
    "\n",
    "### Exercise: Gaussian PDF\n",
    "\n",
    "*Exercise objectives:*\n",
    "- Write a function to evaluate a Gaussian probability density across an array of `x` values, given mean `mu` and standard deviation `sigma`\n",
    "- Plot two functions that have different means and standard deviations"
   ]
  },
  {
   "cell_type": "code",
   "execution_count": 4,
   "metadata": {},
   "outputs": [],
   "source": [
    "def my_gaussian(x_points, mu, sigma):\n",
    "  \"\"\"\n",
    "  Returns normalized Gaussian estimated at points `x_points`,\n",
    "  given parameters mean `mu` and std `sigma`\n",
    "    \n",
    "  Args:\n",
    "    x_points (numpy array of floats): points at which the Gaussian is evaluated\n",
    "    mu (scalar): mean of the Gaussian\n",
    "   sigma (scalar): standard deviation of the gaussian\n",
    "    \n",
    "  Returns: \n",
    "    (numpy array of floats) : Gaussian evaluated at `x`\n",
    "  \"\"\"\n",
    "\n",
    "  ###################################################################\n",
    "  ## Insert your code here to fill with the equation for the gaussian\n",
    "  ## Function Hints: exp -> np.exp()\n",
    "  ##                 power -> z**2       \n",
    "  ################################################################### \n",
    "        \n",
    "  # Calculate the gaussian as a function of mu and sigma, for each x (incl. hints )\n",
    "  raise NotImplementedError(\"Student excercise: implement the Gaussian function!\")\n",
    "\n",
    "# To complete the exercise, uncomment the code and fill missing parts (...)\n",
    "\n",
    "x = np.arange(-8, 9, 0.1)\n",
    "# px_narrow = my_gaussian(x, ...)\n",
    "# px_wide = my_gaussian(x, ...)\n",
    "\n",
    "# plot_distribution(x, px_wide, label=\"Narrow\")\n",
    "# plot_distribution(x, px_wide, label=\"Wide\")"
   ]
  },
  {
   "cell_type": "markdown",
   "metadata": {},
   "source": [
    "**Example output:**\n",
    "\n",
    "<img src='../static/Exercise_With_Solution_Solution_ce356047_0.png' align='left'>"
   ]
  },
  {
   "cell_type": "code",
   "execution_count": null,
   "metadata": {},
   "outputs": [],
   "source": []
  }
 ],
 "metadata": {
  "kernelspec": {
   "display_name": "nma (py37)",
   "language": "python",
   "name": "nma"
  },
  "language_info": {
   "codemirror_mode": {
    "name": "ipython",
    "version": 3
   },
   "file_extension": ".py",
   "mimetype": "text/x-python",
   "name": "python",
   "nbconvert_exporter": "python",
   "pygments_lexer": "ipython3",
   "version": "3.7.7"
  }
 },
 "nbformat": 4,
 "nbformat_minor": 4
}
