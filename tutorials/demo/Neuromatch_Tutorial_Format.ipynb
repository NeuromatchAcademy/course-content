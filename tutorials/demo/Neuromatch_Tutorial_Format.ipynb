{
 "cells": [
  {
   "cell_type": "markdown",
   "metadata": {
    "colab_type": "text",
    "id": "view-in-github"
   },
   "source": [
    "<a href=\"https://colab.research.google.com/github/NeuromatchAcademy/course-content/blob/style-guide-exercises/Neuromatch_Tutorial_Format.ipynb\" target=\"_parent\"><img src=\"https://colab.research.google.com/assets/colab-badge.svg\" alt=\"Open In Colab\"/></a>"
   ]
  },
  {
   "cell_type": "markdown",
   "metadata": {
    "colab_type": "text",
    "id": "fDXAYdIHuyCV"
   },
   "source": [
    "\n",
    "# Neuromatch Academy: Week ?, Day ?, Tutorial ?\n",
    "# Name of Tutorial\n",
    "\n",
    "__Content creators:__ Name Surname, Name Surname\n",
    "\n",
    "If a waxer really did a lot of content creation add \"with help from Name Surname\" to the above\n",
    "\n",
    "__Content reviewers:__ Name Surname, Name Surname. This includes both reviewers and waxers. Add reviewers first then waxers (paper-like seniority :) ). Always add Michael Waskom as he was behind the scenes on everything.\n"
   ]
  },
  {
   "cell_type": "markdown",
   "metadata": {
    "colab_type": "text",
    "id": "gzAa0I1xZ79h"
   },
   "source": [
    "---\n",
    "#Tutorial Objectives\n",
    "\n",
    "Use a line (---) separator from title block to objectives. You should briefly introduce your content here in a few sentences. In this tutorial, you will learn what a waxed notebook should look like. **You should make sure the notebook runs from start to finish when done waxing (do restart and run all and make sure there are no errors)**\n",
    "\n",
    "Then have a few specific objectives for this tutorial:\n",
    "*   Objective A\n",
    "*   Objective B\n",
    "*   Objective C\n",
    "\n"
   ]
  },
  {
   "cell_type": "markdown",
   "metadata": {
    "colab_type": "text",
    "id": "V0iDJGBMzbMQ"
   },
   "source": [
    "---\n",
    "# Setup"
   ]
  },
  {
   "cell_type": "code",
   "execution_count": 1,
   "metadata": {
    "cellView": "both",
    "colab": {},
    "colab_type": "code",
    "id": "3Yuh005kCT0v"
   },
   "outputs": [],
   "source": [
    "# Imports\n",
    "\n",
    "# Import only the libraries/objects that you use in this tutorial. \n",
    "\n",
    "# If any external library has to be installed, !pip install library --quiet\n",
    "# follow this order: numpy>matplotlib. \n",
    "# import widgets in hidden Figure settings cell\n",
    "\n",
    "import numpy as np\n",
    "import matplotlib.pyplot as plt"
   ]
  },
  {
   "cell_type": "code",
   "execution_count": 2,
   "metadata": {
    "cellView": "form",
    "colab": {},
    "colab_type": "code",
    "id": "PCOz4jKJXGya"
   },
   "outputs": [],
   "source": [
    "#@title Figure settings\n",
    "import ipywidgets as widgets       # interactive display\n",
    "%config InlineBackend.figure_format = 'retina'\n",
    "plt.style.use(\"https://raw.githubusercontent.com/NeuromatchAcademy/course-content/master/nma.mplstyle\")"
   ]
  },
  {
   "cell_type": "code",
   "execution_count": 3,
   "metadata": {
    "cellView": "form",
    "colab": {},
    "colab_type": "code",
    "id": "vGVC4AWz41jD"
   },
   "outputs": [],
   "source": [
    "#@title Helper functions\n",
    "\n",
    "# If any helper functions you want to hide for clarity, add here\n",
    "# If helper code depends on libraries that aren't used elsewhere,\n",
    "# import those libaries here, rather than in the main import cell\n",
    "\n",
    "# a very silly example:\n",
    "def multiply_array(x, c):\n",
    "  \"\"\"Multiply every element in an array by a provided value\n",
    "\n",
    "  Args:\n",
    "    x (ndarray): An array of shape (N,) \n",
    "    c (scalar): multiplicative factor\n",
    "\n",
    "  Returns:\n",
    "    ndarray: output of the multiplication \n",
    "  \"\"\"\n",
    "\n",
    "  y = x * c\n",
    "\n",
    "  return y\n",
    "\n",
    "def plotting_z(z):\n",
    "  \"\"\"This function multiplies every element in an array by a provided value\n",
    "\n",
    "  Args:\n",
    "    z (ndarray): neural activity over time, shape (T, ) where T is number of timesteps\n",
    "  \n",
    "   \"\"\"\n",
    "\n",
    "  fig, ax = plt.subplots()\n",
    "\n",
    "  ax.plot(z)\n",
    "  ax.set(\n",
    "       xlabel='Time (s)',\n",
    "       ylabel='Z',\n",
    "       title='Neural activity over time'\n",
    "      \n",
    "   )"
   ]
  },
  {
   "cell_type": "markdown",
   "metadata": {
    "colab_type": "text",
    "id": "nULavCfq4o07"
   },
   "source": [
    "---\n",
    "\n",
    "# Section 1: Name of first content section (ex. Linear Regression)"
   ]
  },
  {
   "cell_type": "code",
   "execution_count": 4,
   "metadata": {
    "cellView": "form",
    "colab": {
     "base_uri": "https://localhost:8080/",
     "height": 518
    },
    "colab_type": "code",
    "id": "ThcPwgvzvV-6",
    "outputId": "ca571bb6-ba4d-440c-8f65-22ac8f3133b7"
   },
   "outputs": [
    {
     "name": "stdout",
     "output_type": "stream",
     "text": [
      "Video available at https://youtu.be/\n"
     ]
    },
    {
     "data": {
      "text/html": [
       "\n",
       "        <iframe\n",
       "            width=\"854\"\n",
       "            height=\"480\"\n",
       "            src=\"https://www.youtube.com/embed/?fs=1\"\n",
       "            frameborder=\"0\"\n",
       "            allowfullscreen\n",
       "        ></iframe>\n",
       "        "
      ],
      "text/plain": [
       "<IPython.lib.display.YouTubeVideo at 0x7f3fe403af50>"
      ]
     },
     "execution_count": 4,
     "metadata": {},
     "output_type": "execute_result"
    }
   ],
   "source": [
    "#@title Video 1: Video 1 Name\n",
    "# Insert the ID of the corresponding youtube video\n",
    "from IPython.display import YouTubeVideo\n",
    "video = YouTubeVideo(id=\"\", width=854, height=480, fs=1)\n",
    "print(\"Video available at https://youtu.be/\" + video.id)\n",
    "video\n"
   ]
  },
  {
   "cell_type": "markdown",
   "metadata": {
    "colab_type": "text",
    "id": "z8axuI6upLv4"
   },
   "source": [
    "Text about the first concept. Don't make too long to reduce reading times during tutorial (extra text for later reference can go in appendix)"
   ]
  },
  {
   "cell_type": "markdown",
   "metadata": {
    "colab_type": "text",
    "id": "j9n17gXFOIXX"
   },
   "source": [
    "## Section 1.1: Subsection header if you want one\n",
    "\n",
    "Whatever text you want can go here."
   ]
  },
  {
   "cell_type": "markdown",
   "metadata": {
    "colab_type": "text",
    "id": "ZosC4SmFQnhq"
   },
   "source": [
    "### Exercise 1: Helpful exercise name (ex. fitting a linear regression model)\n",
    "\n",
    "This exercise fits in this subsection so is a level 3 header\n",
    "\n",
    "Very briefly summarize the exercise here. In this exercise, you will also invoke `multiply_array` which multiplies an array by a scalar"
   ]
  },
  {
   "cell_type": "code",
   "execution_count": 5,
   "metadata": {
    "colab": {},
    "colab_type": "code",
    "id": "0dYxSDmqQgAC"
   },
   "outputs": [],
   "source": [
    "def generic_function(x):\n",
    "  \"\"\"Google style doc string. Brief summary of what function does here\n",
    "  \n",
    "  Args:\n",
    "    x (ndarray): An array of shape (N,) that contains blah blah\n",
    "\n",
    "  Returns:\n",
    "    ndarray: The output is blah blah\n",
    "  \"\"\"\n",
    "  #################################################\n",
    "  ## TODO for students: details of what they should do ##\n",
    "  # Fill out function and remove\n",
    "  raise NotImplementedError(\"Student exercise: say what they should have done\")\n",
    "  #################################################\n",
    "  \n",
    "  # Have a comment for every line of code they need to write, and when possible have\n",
    "  # variables written with ellipses where they should fill in or ellipses where they should\n",
    "  # fill in inputs to functions\n",
    "  y = multiply_array(..., 5)\n",
    "\n",
    "  # Another comment because they need to add another line of code\n",
    "  z = ...\n",
    "\n",
    "  return z\n",
    "\n",
    "# Uncomment below to test your function \n",
    "# x = np.array([4, 5, 6])\n",
    "# z = generic_function(x)\n",
    "\n",
    "# plotting_z(z)\n",
    "# we often invoke a plotting function hidden in Helper Functions so students don't \n",
    "# have to uncomment a lot of boilerplate matplotlib code"
   ]
  },
  {
   "cell_type": "markdown",
   "metadata": {
    "colab_type": "text",
    "id": "vd9JfcDrbQ_d"
   },
   "source": [
    "---\n",
    "__Waxer guideline for exercise solution formatting:__\n",
    "- the presence of # to_remove solution in the first line of solution block\n",
    "- The absence of the fenced (#####) block that raises a NotImplementedError\n",
    "- Valid code replacing all ellipses  (...)\n",
    "- Code that uses or depends on the completed function/lines is uncommented\n",
    "- Plotting code is indented under a with plt.xkcd(): context manager.\n",
    "- **All other comments and code should be identical**\n",
    "---"
   ]
  },
  {
   "cell_type": "code",
   "execution_count": 6,
   "metadata": {
    "cellView": "both",
    "colab": {
     "base_uri": "https://localhost:8080/",
     "height": 430
    },
    "colab_type": "code",
    "id": "tycSi5Pxbsne",
    "outputId": "c5656c89-4070-486d-bc7b-ab063c44a125"
   },
   "outputs": [
    {
     "data": {
      "image/png": "[encoded data removed]",
      "text/plain": [
       "<Figure size 576x432 with 1 Axes>"
      ]
     },
     "metadata": {
      "image/png": {
       "height": 414,
       "width": 558
      }
     },
     "output_type": "display_data"
    }
   ],
   "source": [
    "# to_remove solution\n",
    "def generic_function(x):\n",
    "  \"\"\"Google style doc string. Brief summary of what function does here\n",
    "  \n",
    "  Args:\n",
    "    x (ndarray): An array of shape (N,) that contains blah blah\n",
    "\n",
    "  Returns:\n",
    "    ndarray: The output is blah blah\n",
    "  \"\"\"\n",
    "\n",
    "  # Have a comment for every line of code they need to write, and when possible have\n",
    "  # variables written with ellipses where they should fill in or ellipses where they should\n",
    "  # fill in inputs to functions\n",
    "  y = multiply_array(x, 5)\n",
    "\n",
    "  # Another comment because they need to add another line of code\n",
    "  z = y + 6\n",
    "\n",
    "  return z\n",
    "\n",
    "# Uncomment below to test your function \n",
    "x = np.array([4, 5, 6])\n",
    "z = generic_function(x)\n",
    "\n",
    "# xkcd style for solution plot\n",
    "with plt.xkcd():  \n",
    "  plotting_z(z)\n",
    "# we often invoke a plotting function hidden in Helper Functions so students don't \n",
    "# have to uncomment a lot of boilerplate matplotlib code"
   ]
  },
  {
   "cell_type": "markdown",
   "metadata": {
    "colab_type": "text",
    "id": "UhDupvg6W4f7"
   },
   "source": [
    "### Interactive Demo: Name of demo\n",
    "\n",
    "Here, we will demonstrate how to create a widget if you would like to use a widget to demonstrate something. Make sure the use a @title cell and hide the contents by default, because the code to make the widget is often pretty ugly and not important for the students to see. Also, we recommend giving specific guidance for what students should look at with widget/what questions they're trying to answer so it's not just pointless twiddling.\n",
    "\n",
    "If the widget makes use of a function that must be completed as part of an exercise, you may want to re-implement the correct version of the function inside the widget cell, so that it is useful for a student who got completely stuck.\n"
   ]
  },
  {
   "cell_type": "code",
   "execution_count": 7,
   "metadata": {
    "cellView": "form",
    "colab": {
     "base_uri": "https://localhost:8080/",
     "height": 494,
     "referenced_widgets": [
      "77019e7765e74183bea53be6552cc5df",
      "156f6500ec124eaa9a448e0fd4ee2325",
      "332a49b9cc744ae89f643d6b8ee50047",
      "806879973ba84fd4964819ed9ac116ba",
      "5a4b6cf7b512486d89fbbfd368ebf198",
      "2725f64c98de40f78fbf7889ecdcbc5b",
      "740d5dd87a574ca0833135a0992b31cf",
      "6076be734b8e4263a1b1b62614dae337",
      "1326e128d7714861975c4be8de506f0f",
      "3875d093df8a42e69a19828e95e141ec"
     ]
    },
    "colab_type": "code",
    "id": "976PhJZaXDP5",
    "outputId": "c55afdf0-c113-4194-cbe6-9668c595fa09"
   },
   "outputs": [
    {
     "data": {
      "image/png": "[encoded data removed]",
      "text/plain": [
       "<Figure size 576x432 with 1 Axes>"
      ]
     },
     "metadata": {
      "image/png": {
       "height": 413,
       "width": 558
      },
      "needs_background": "light"
     },
     "output_type": "display_data"
    }
   ],
   "source": [
    "#@title \n",
    "\n",
    "#@markdown Make sure you execute this cell to enable the widget!\n",
    "\n",
    "x = np.arange(-10, 11, 0.1)\n",
    "\n",
    "def gaussian(x, mu, sigma):\n",
    "  px = np.exp(-1 / 2 / sigma**2 * (mu - x) ** 2)\n",
    "  px = px / px.sum()\n",
    "  return px\n",
    "\n",
    "@widgets.interact\n",
    "def plot_gaussian(mean=(-10, 10, .5), std=(.5, 10, .5)):\n",
    "  plt.plot(x, gaussian(x, mean, std))\n"
   ]
  },
  {
   "cell_type": "code",
   "execution_count": 8,
   "metadata": {
    "colab": {},
    "colab_type": "code",
    "id": "O0-u0qhNgATu"
   },
   "outputs": [],
   "source": [
    "# to_remove explanation\n",
    "\n",
    "\"\"\"\n",
    "Discussion: Write a dicussion about/answers to any open-ended questions you pose (either about a demo or elsewhere)\n",
    "\n",
    "You can write a paragraph or two of nice didactic text\n",
    "within a single comment. \n",
    "\"\"\";"
   ]
  },
  {
   "cell_type": "markdown",
   "metadata": {
    "colab_type": "text",
    "id": "f4h1Y-BxcQyp"
   },
   "source": [
    "__Waxer guideline:__ note that the form header for the cell above is __to_remove explanation__, not __to_remove solution__."
   ]
  },
  {
   "cell_type": "markdown",
   "metadata": {
    "colab_type": "text",
    "id": "CrTpOZZDW9qZ"
   },
   "source": [
    "maybe some more text about what exercises showed (if helpful). \n",
    "The Gaussian is: \n",
    "- bumpy in the middle\n",
    "- symmetric\n",
    "- almighty"
   ]
  },
  {
   "cell_type": "markdown",
   "metadata": {
    "colab_type": "text",
    "id": "MFaYDWZQ4TEF"
   },
   "source": [
    "## Section 1.2: Name"
   ]
  },
  {
   "cell_type": "markdown",
   "metadata": {
    "colab_type": "text",
    "id": "-cXAncan4Xqk"
   },
   "source": [
    "### Exercise 2: Name"
   ]
  },
  {
   "cell_type": "markdown",
   "metadata": {
    "colab_type": "text",
    "id": "EuqpiL2Av-vd"
   },
   "source": [
    "---\n",
    "# Section 2: Another content section\n",
    "\n",
    "Separate with lines and add more content here! Depending on how the videos were created, you may or may not have a separate video for each section"
   ]
  },
  {
   "cell_type": "code",
   "execution_count": 9,
   "metadata": {
    "cellView": "form",
    "colab": {
     "base_uri": "https://localhost:8080/",
     "height": 518
    },
    "colab_type": "code",
    "id": "AFd7Ji-twKIK",
    "outputId": "0f7ceea8-d488-4dcc-b82a-a7117a53fab2"
   },
   "outputs": [
    {
     "name": "stdout",
     "output_type": "stream",
     "text": [
      "Video available at https://youtu.be/\n"
     ]
    },
    {
     "data": {
      "text/html": [
       "\n",
       "        <iframe\n",
       "            width=\"854\"\n",
       "            height=\"480\"\n",
       "            src=\"https://www.youtube.com/embed/?fs=1\"\n",
       "            frameborder=\"0\"\n",
       "            allowfullscreen\n",
       "        ></iframe>\n",
       "        "
      ],
      "text/plain": [
       "<IPython.lib.display.YouTubeVideo at 0x7f3fde86bfd0>"
      ]
     },
     "execution_count": 9,
     "metadata": {},
     "output_type": "execute_result"
    }
   ],
   "source": [
    "#@title Video 2: Video 2 Name\n",
    "# Insert the ID of the corresponding youtube video\n",
    "from IPython.display import YouTubeVideo\n",
    "video = YouTubeVideo(id=\"\", width=854, height=480, fs=1)\n",
    "print(\"Video available at https://youtu.be/\" + video.id)\n",
    "video"
   ]
  },
  {
   "cell_type": "markdown",
   "metadata": {
    "colab_type": "text",
    "id": "qqA6Ajwk1cZ6"
   },
   "source": [
    "## Exercise 3: Name\n",
    "\n",
    "This exercise is in this section (not in a subsection) so has a level 2 header"
   ]
  },
  {
   "cell_type": "markdown",
   "metadata": {
    "colab_type": "text",
    "id": "_Z6vKsN89rN1"
   },
   "source": [
    "---\n",
    "# Summary\n",
    "\n",
    "Have a summary of what they learned with specific points.\n",
    "\n",
    "* Specific point A\n",
    "\n",
    "* Specific point B\n"
   ]
  },
  {
   "cell_type": "markdown",
   "metadata": {
    "colab_type": "text",
    "id": "Y6Pux46LWw7e"
   },
   "source": [
    "---\n",
    "# Bonus\n",
    "\n",
    "Add extra text that you want students to have for reference later but that will make reading times too long during tutorials"
   ]
  },
  {
   "cell_type": "code",
   "execution_count": 9,
   "metadata": {
    "colab": {},
    "colab_type": "code",
    "id": "eVBcODAE9t95"
   },
   "outputs": [],
   "source": []
  }
 ],
 "metadata": {
  "colab": {
   "collapsed_sections": [],
   "include_colab_link": true,
   "name": "NeuromatchAcademy_Neuromatch_Tutorial_Format",
   "provenance": [],
   "toc_visible": true
  },
  "kernelspec": {
   "display_name": "Python 3",
   "language": "python",
   "name": "python3"
  },
  "language_info": {
   "codemirror_mode": {
    "name": "ipython",
    "version": 3
   },
   "file_extension": ".py",
   "mimetype": "text/x-python",
   "name": "python",
   "nbconvert_exporter": "python",
   "pygments_lexer": "ipython3",
   "version": "3.7.7"
  },
  "toc-autonumbering": true,
  "widgets": {
   "application/vnd.jupyter.widget-state+json": {
    "state": {
     "1a40e3c37ba34c42902368f49b3515ce": {
      "model_module": "@jupyter-widgets/controls",
      "model_module_version": "1.5.0",
      "model_name": "FloatSliderModel",
      "state": {
       "_dom_classes": [],
       "_model_module": "@jupyter-widgets/controls",
       "_model_module_version": "1.5.0",
       "_model_name": "FloatSliderModel",
       "_view_count": null,
       "_view_module": "@jupyter-widgets/controls",
       "_view_module_version": "1.5.0",
       "_view_name": "FloatSliderView",
       "continuous_update": true,
       "description": "std",
       "description_tooltip": null,
       "disabled": false,
       "layout": "IPY_MODEL_bf3e9a8f01784f77bb6d460986be87d9",
       "max": 10.0,
       "min": 0.5,
       "orientation": "horizontal",
       "readout": true,
       "readout_format": ".2f",
       "step": 0.5,
       "style": "IPY_MODEL_536a4245ec3c42dbaf061d97dc397110",
       "value": 5.0
      }
     },
     "3baf10d145e641ae81189ba5a86341ad": {
      "model_module": "@jupyter-widgets/output",
      "model_module_version": "1.0.0",
      "model_name": "OutputModel",
      "state": {
       "_dom_classes": [],
       "_model_module": "@jupyter-widgets/output",
       "_model_module_version": "1.0.0",
       "_model_name": "OutputModel",
       "_view_count": null,
       "_view_module": "@jupyter-widgets/output",
       "_view_module_version": "1.0.0",
       "_view_name": "OutputView",
       "layout": "IPY_MODEL_ef14d34b4cbe4048905962c9e98da23a",
       "msg_id": "",
       "outputs": []
      }
     },
     "4ea2c6d40be849428cbc855123b018bc": {
      "model_module": "@jupyter-widgets/base",
      "model_module_version": "1.2.0",
      "model_name": "LayoutModel",
      "state": {
       "_model_module": "@jupyter-widgets/base",
       "_model_module_version": "1.2.0",
       "_model_name": "LayoutModel",
       "_view_count": null,
       "_view_module": "@jupyter-widgets/base",
       "_view_module_version": "1.2.0",
       "_view_name": "LayoutView",
       "align_content": null,
       "align_items": null,
       "align_self": null,
       "border": null,
       "bottom": null,
       "display": null,
       "flex": null,
       "flex_flow": null,
       "grid_area": null,
       "grid_auto_columns": null,
       "grid_auto_flow": null,
       "grid_auto_rows": null,
       "grid_column": null,
       "grid_gap": null,
       "grid_row": null,
       "grid_template_areas": null,
       "grid_template_columns": null,
       "grid_template_rows": null,
       "height": null,
       "justify_content": null,
       "justify_items": null,
       "left": null,
       "margin": null,
       "max_height": null,
       "max_width": null,
       "min_height": null,
       "min_width": null,
       "object_fit": null,
       "object_position": null,
       "order": null,
       "overflow": null,
       "overflow_x": null,
       "overflow_y": null,
       "padding": null,
       "right": null,
       "top": null,
       "visibility": null,
       "width": null
      }
     },
     "536a4245ec3c42dbaf061d97dc397110": {
      "model_module": "@jupyter-widgets/controls",
      "model_module_version": "1.5.0",
      "model_name": "SliderStyleModel",
      "state": {
       "_model_module": "@jupyter-widgets/controls",
       "_model_module_version": "1.5.0",
       "_model_name": "SliderStyleModel",
       "_view_count": null,
       "_view_module": "@jupyter-widgets/base",
       "_view_module_version": "1.2.0",
       "_view_name": "StyleView",
       "description_width": "",
       "handle_color": null
      }
     },
     "a7eaee6be2114276b9aa260f2acce841": {
      "model_module": "@jupyter-widgets/base",
      "model_module_version": "1.2.0",
      "model_name": "LayoutModel",
      "state": {
       "_model_module": "@jupyter-widgets/base",
       "_model_module_version": "1.2.0",
       "_model_name": "LayoutModel",
       "_view_count": null,
       "_view_module": "@jupyter-widgets/base",
       "_view_module_version": "1.2.0",
       "_view_name": "LayoutView",
       "align_content": null,
       "align_items": null,
       "align_self": null,
       "border": null,
       "bottom": null,
       "display": null,
       "flex": null,
       "flex_flow": null,
       "grid_area": null,
       "grid_auto_columns": null,
       "grid_auto_flow": null,
       "grid_auto_rows": null,
       "grid_column": null,
       "grid_gap": null,
       "grid_row": null,
       "grid_template_areas": null,
       "grid_template_columns": null,
       "grid_template_rows": null,
       "height": null,
       "justify_content": null,
       "justify_items": null,
       "left": null,
       "margin": null,
       "max_height": null,
       "max_width": null,
       "min_height": null,
       "min_width": null,
       "object_fit": null,
       "object_position": null,
       "order": null,
       "overflow": null,
       "overflow_x": null,
       "overflow_y": null,
       "padding": null,
       "right": null,
       "top": null,
       "visibility": null,
       "width": null
      }
     },
     "baf166d712444689ab0b635022e5da88": {
      "model_module": "@jupyter-widgets/controls",
      "model_module_version": "1.5.0",
      "model_name": "FloatSliderModel",
      "state": {
       "_dom_classes": [],
       "_model_module": "@jupyter-widgets/controls",
       "_model_module_version": "1.5.0",
       "_model_name": "FloatSliderModel",
       "_view_count": null,
       "_view_module": "@jupyter-widgets/controls",
       "_view_module_version": "1.5.0",
       "_view_name": "FloatSliderView",
       "continuous_update": true,
       "description": "mean",
       "description_tooltip": null,
       "disabled": false,
       "layout": "IPY_MODEL_a7eaee6be2114276b9aa260f2acce841",
       "max": 10.0,
       "min": -10.0,
       "orientation": "horizontal",
       "readout": true,
       "readout_format": ".2f",
       "step": 0.5,
       "style": "IPY_MODEL_e2d5b686505942cf840bc134db95cce9",
       "value": 0.0
      }
     },
     "bf3e9a8f01784f77bb6d460986be87d9": {
      "model_module": "@jupyter-widgets/base",
      "model_module_version": "1.2.0",
      "model_name": "LayoutModel",
      "state": {
       "_model_module": "@jupyter-widgets/base",
       "_model_module_version": "1.2.0",
       "_model_name": "LayoutModel",
       "_view_count": null,
       "_view_module": "@jupyter-widgets/base",
       "_view_module_version": "1.2.0",
       "_view_name": "LayoutView",
       "align_content": null,
       "align_items": null,
       "align_self": null,
       "border": null,
       "bottom": null,
       "display": null,
       "flex": null,
       "flex_flow": null,
       "grid_area": null,
       "grid_auto_columns": null,
       "grid_auto_flow": null,
       "grid_auto_rows": null,
       "grid_column": null,
       "grid_gap": null,
       "grid_row": null,
       "grid_template_areas": null,
       "grid_template_columns": null,
       "grid_template_rows": null,
       "height": null,
       "justify_content": null,
       "justify_items": null,
       "left": null,
       "margin": null,
       "max_height": null,
       "max_width": null,
       "min_height": null,
       "min_width": null,
       "object_fit": null,
       "object_position": null,
       "order": null,
       "overflow": null,
       "overflow_x": null,
       "overflow_y": null,
       "padding": null,
       "right": null,
       "top": null,
       "visibility": null,
       "width": null
      }
     },
     "c16f2db7c7604b96976d55ded9978749": {
      "model_module": "@jupyter-widgets/controls",
      "model_module_version": "1.5.0",
      "model_name": "VBoxModel",
      "state": {
       "_dom_classes": [
        "widget-interact"
       ],
       "_model_module": "@jupyter-widgets/controls",
       "_model_module_version": "1.5.0",
       "_model_name": "VBoxModel",
       "_view_count": null,
       "_view_module": "@jupyter-widgets/controls",
       "_view_module_version": "1.5.0",
       "_view_name": "VBoxView",
       "box_style": "",
       "children": [
        "IPY_MODEL_baf166d712444689ab0b635022e5da88",
        "IPY_MODEL_1a40e3c37ba34c42902368f49b3515ce",
        "IPY_MODEL_3baf10d145e641ae81189ba5a86341ad"
       ],
       "layout": "IPY_MODEL_4ea2c6d40be849428cbc855123b018bc"
      }
     },
     "e2d5b686505942cf840bc134db95cce9": {
      "model_module": "@jupyter-widgets/controls",
      "model_module_version": "1.5.0",
      "model_name": "SliderStyleModel",
      "state": {
       "_model_module": "@jupyter-widgets/controls",
       "_model_module_version": "1.5.0",
       "_model_name": "SliderStyleModel",
       "_view_count": null,
       "_view_module": "@jupyter-widgets/base",
       "_view_module_version": "1.2.0",
       "_view_name": "StyleView",
       "description_width": "",
       "handle_color": null
      }
     },
     "ef14d34b4cbe4048905962c9e98da23a": {
      "model_module": "@jupyter-widgets/base",
      "model_module_version": "1.2.0",
      "model_name": "LayoutModel",
      "state": {
       "_model_module": "@jupyter-widgets/base",
       "_model_module_version": "1.2.0",
       "_model_name": "LayoutModel",
       "_view_count": null,
       "_view_module": "@jupyter-widgets/base",
       "_view_module_version": "1.2.0",
       "_view_name": "LayoutView",
       "align_content": null,
       "align_items": null,
       "align_self": null,
       "border": null,
       "bottom": null,
       "display": null,
       "flex": null,
       "flex_flow": null,
       "grid_area": null,
       "grid_auto_columns": null,
       "grid_auto_flow": null,
       "grid_auto_rows": null,
       "grid_column": null,
       "grid_gap": null,
       "grid_row": null,
       "grid_template_areas": null,
       "grid_template_columns": null,
       "grid_template_rows": null,
       "height": null,
       "justify_content": null,
       "justify_items": null,
       "left": null,
       "margin": null,
       "max_height": null,
       "max_width": null,
       "min_height": null,
       "min_width": null,
       "object_fit": null,
       "object_position": null,
       "order": null,
       "overflow": null,
       "overflow_x": null,
       "overflow_y": null,
       "padding": null,
       "right": null,
       "top": null,
       "visibility": null,
       "width": null
      }
     }
    },
    "version_major": 2,
    "version_minor": 0
   }
  }
 },
 "nbformat": 4,
 "nbformat_minor": 0
}
