{
  "cells": [
    {
      "cell_type": "markdown",
      "metadata": {
        "id": "view-in-github",
        "colab_type": "text"
      },
      "source": [
        "<a href=\"https://colab.research.google.com/github/NeuromatchAcademy/course-content/blob/update-links-w2/tutorials/W2D3_BiologicalNeuronModels/W2D3_Intro.ipynb\" target=\"_parent\"><img src=\"https://colab.research.google.com/assets/colab-badge.svg\" alt=\"Open In Colab\"/></a>"
      ]
    },
    {
      "cell_type": "markdown",
      "metadata": {
        "execution": {},
        "pycharm": {
          "name": "#%% md\n"
        },
        "id": "XbosjrB8wNfo"
      },
      "source": [
        "# Intro"
      ]
    },
    {
      "cell_type": "markdown",
      "metadata": {
        "execution": {},
        "id": "zX-d93ppwNfs"
      },
      "source": [
        "**Our 2021 Sponsors, including Presenting Sponsor Facebook Reality Labs**\n",
        "\n",
        "<p align='center'><img src='https://github.com/NeuromatchAcademy/widgets/blob/master/sponsors.png?raw=True'/></p>"
      ]
    },
    {
      "cell_type": "markdown",
      "metadata": {
        "execution": {},
        "pycharm": {
          "name": "#%% md\n"
        },
        "id": "nN7r-Ln1wNft"
      },
      "source": [
        "## Overview\n",
        "\n",
        "Today you will learn about a few interesting properties of biological neurons and synapses. In his intro lecture Upi Bhalla will start with an overview of the complexity of the neurons and synapses in the brain. He will also introduce a mathematical description of action potential generation and propagation by which neurons communicate with each other. Then, in a series of short tutorials Richard Naud will introduce simple neuron and synapse models. These tutorials will give you insights about how neurons may generate irregular spike patterns and synchronize their activity. In the first tutorial you will learn about the input-output transfer function of the leaky integrate and fire neuron model. In the second tutorial you will use this model to understand how statistics of inputs affects transfer of synchrony. In the third tutorial you will explore the short-term dynamics of synapses which means that synaptic weight is dependent on the recent history of spiking activity of the pre-synaptic neurons. In the bonus tutorial, you can learn about spike timing dependent plasticity and explore how synchrony in the input may shape the synaptic weight distribution. Finally, in the outro lecture, Yiota Poirazi will explain how the simplified description of neurons can be expanded to include more biological complexity. She will provide evidence of how dendritic morphology may expand the computational repertoire of individual neurons.\n",
        "\n",
        "The models we use in today’s lecture fall in the category of how models (W1D1). You will use several concepts from linear systems (W2D2). The insights developed in these tutorials will be useful to understand the dynamics of neural networks (W3D4). Moreover, you will learn about the origin of statistics of neuronal activity which will be useful for several tutorials. For example, the understanding of synchrony will be very useful in appreciating the problem of causality (W3D5).\n",
        "\n",
        "Neuron and synapse models are essential building blocks of mechanistic models of brain function and dysfunction. One of the common questions in neuroscience is to identify the causes of changes in the statistics of spiking activity patterns. Whether these changes are caused by changes in neuron/synapse properties or by a change in the input or by a combination of both? With the contents of this tutorial, you should have a framework to think about which changes in spike patterns are due to neuron/synapse or input changes."
      ]
    },
    {
      "cell_type": "markdown",
      "metadata": {
        "execution": {},
        "pycharm": {
          "name": "#%% md\n"
        },
        "id": "WpxglrHvwNfu"
      },
      "source": [
        "## Video"
      ]
    },
    {
      "cell_type": "code",
      "execution_count": 1,
      "metadata": {
        "cellView": "form",
        "execution": {},
        "pycharm": {
          "name": "#%%\n"
        },
        "id": "CjkqPjTMwNfu",
        "outputId": "22e38720-8f3e-4ca4-d50c-796b524d2430",
        "colab": {
          "base_uri": "https://localhost:8080/",
          "height": 582,
          "referenced_widgets": [
            "7c2a6ab1957448c28993fba1cfadf457",
            "bb03d8b82cda43ad9c2c011c92f1dca5",
            "d34950603be94783b6d9ae0006ba8937",
            "7eece311ea394803be857d8d74ea13dd",
            "1728cc291f1d4ee7ab7a57c8b12ffd86",
            "93ef92a73d054f4fb0f9d1a877e86402"
          ]
        }
      },
      "outputs": [
        {
          "output_type": "display_data",
          "data": {
            "text/plain": [
              "Tab(children=(Output(), Output()), _titles={'0': 'Youtube', '1': 'Bilibili'})"
            ],
            "application/vnd.jupyter.widget-view+json": {
              "version_major": 2,
              "version_minor": 0,
              "model_id": "7c2a6ab1957448c28993fba1cfadf457"
            }
          },
          "metadata": {}
        }
      ],
      "source": [
        "# @markdown\n",
        "from ipywidgets import widgets\n",
        "\n",
        "out2 = widgets.Output()\n",
        "with out2:\n",
        "  from IPython.display import IFrame\n",
        "  class BiliVideo(IFrame):\n",
        "      def __init__(self, id, page=1, width=400, height=300, **kwargs):\n",
        "          self.id=id\n",
        "          src = \"https://player.bilibili.com/player.html?bvid={0}&page={1}\".format(id, page)\n",
        "          super(BiliVideo, self).__init__(src, width, height, **kwargs)\n",
        "\n",
        "  video = BiliVideo(id=f\"BV18A411v7Yy\", width=854, height=480, fs=1)\n",
        "  print(\"Video available at https://www.bilibili.com/video/{0}\".format(video.id))\n",
        "  display(video)\n",
        "\n",
        "out1 = widgets.Output()\n",
        "with out1:\n",
        "  from IPython.display import YouTubeVideo\n",
        "  video = YouTubeVideo(id=f\"MAOOPv3whZ0\", width=854, height=480, fs=1, rel=0)\n",
        "  print(\"Video available at https://youtube.com/watch?v=\" + video.id)\n",
        "  display(video)\n",
        "\n",
        "out = widgets.Tab([out1, out2])\n",
        "out.set_title(0, 'Youtube')\n",
        "out.set_title(1, 'Bilibili')\n",
        "\n",
        "display(out)"
      ]
    },
    {
      "cell_type": "markdown",
      "metadata": {
        "execution": {},
        "pycharm": {
          "name": "#%% md\n"
        },
        "id": "2nrkz4lVwNfw"
      },
      "source": [
        "## Slides"
      ]
    },
    {
      "cell_type": "code",
      "execution_count": 2,
      "metadata": {
        "cellView": "form",
        "execution": {},
        "pycharm": {
          "name": "#%%\n"
        },
        "id": "v8X0J4kCwNfw",
        "outputId": "087fd3fd-ce24-4ddf-d55e-bea2a379de02",
        "colab": {
          "base_uri": "https://localhost:8080/",
          "height": 503
        }
      },
      "outputs": [
        {
          "output_type": "execute_result",
          "data": {
            "text/plain": [
              "<IPython.lib.display.IFrame at 0x7f78ef563390>"
            ],
            "text/html": [
              "\n",
              "        <iframe\n",
              "            width=\"854\"\n",
              "            height=\"480\"\n",
              "            src=\"https://mfr.ca-1.osf.io/render?url=https://osf.io/gyfr2/?direct%26mode=render%26action=download%26mode=render\"\n",
              "            frameborder=\"0\"\n",
              "            allowfullscreen\n",
              "        ></iframe>\n",
              "        "
            ]
          },
          "metadata": {},
          "execution_count": 2
        }
      ],
      "source": [
        "# @markdown\n",
        "from IPython.display import IFrame\n",
        "IFrame(src=f\"https://mfr.ca-1.osf.io/render?url=https://osf.io/gyfr2/?direct%26mode=render%26action=download%26mode=render\", width=854, height=480)"
      ]
    }
  ],
  "metadata": {
    "colab": {
      "collapsed_sections": [],
      "name": "W2D3_Intro",
      "provenance": [],
      "toc_visible": true,
      "include_colab_link": true
    },
    "kernel": {
      "display_name": "Python 3",
      "language": "python",
      "name": "python3"
    },
    "kernelspec": {
      "display_name": "Python 3",
      "language": "python",
      "name": "python3"
    },
    "language_info": {
      "codemirror_mode": {
        "name": "ipython",
        "version": 3
      },
      "file_extension": ".py",
      "mimetype": "text/x-python",
      "name": "python",
      "nbconvert_exporter": "python",
      "pygments_lexer": "ipython3",
      "version": "3.7.12"
    },
    "widgets": {
      "application/vnd.jupyter.widget-state+json": {
        "7c2a6ab1957448c28993fba1cfadf457": {
          "model_module": "@jupyter-widgets/controls",
          "model_name": "TabModel",
          "model_module_version": "1.5.0",
          "state": {
            "_dom_classes": [],
            "_model_module": "@jupyter-widgets/controls",
            "_model_module_version": "1.5.0",
            "_model_name": "TabModel",
            "_titles": {
              "0": "Youtube",
              "1": "Bilibili"
            },
            "_view_count": null,
            "_view_module": "@jupyter-widgets/controls",
            "_view_module_version": "1.5.0",
            "_view_name": "TabView",
            "box_style": "",
            "children": [
              "IPY_MODEL_bb03d8b82cda43ad9c2c011c92f1dca5",
              "IPY_MODEL_d34950603be94783b6d9ae0006ba8937"
            ],
            "layout": "IPY_MODEL_7eece311ea394803be857d8d74ea13dd",
            "selected_index": 0
          }
        },
        "bb03d8b82cda43ad9c2c011c92f1dca5": {
          "model_module": "@jupyter-widgets/output",
          "model_name": "OutputModel",
          "model_module_version": "1.0.0",
          "state": {
            "_dom_classes": [],
            "_model_module": "@jupyter-widgets/output",
            "_model_module_version": "1.0.0",
            "_model_name": "OutputModel",
            "_view_count": null,
            "_view_module": "@jupyter-widgets/output",
            "_view_module_version": "1.0.0",
            "_view_name": "OutputView",
            "layout": "IPY_MODEL_1728cc291f1d4ee7ab7a57c8b12ffd86",
            "msg_id": "",
            "outputs": [
              {
                "output_type": "stream",
                "name": "stdout",
                "text": [
                  "Video available at https://youtube.com/watch?v=MAOOPv3whZ0\n"
                ]
              },
              {
                "output_type": "display_data",
                "data": {
                  "text/plain": "<IPython.lib.display.YouTubeVideo at 0x7f78f13da490>",
                  "text/html": "\n        <iframe\n            width=\"854\"\n            height=\"480\"\n            src=\"https://www.youtube.com/embed/MAOOPv3whZ0?fs=1&rel=0\"\n            frameborder=\"0\"\n            allowfullscreen\n        ></iframe>\n        ",
                  "image/jpeg": "/9j/4AAQSkZJRgABAQAAAQABAAD/2wCEAAUDBAkICAgICAgICAgICAgICAgICwgICAgICAgICAgICAgIChALCAgOCggIDRUNDhERExMTCAsWGBYSGBASExIBBQUFCAcIDwkJDhIPEA8SEhISEhIVEhUSEhcSEhISFRISEhUSEhISEhISFRISEhISEhISFRISEhISFRISFRISEv/AABEIAWgB4AMBIgACEQEDEQH/xAAdAAEAAgMBAQEBAAAAAAAAAAAABgcDBQgEAQIJ/8QAWxAAAgEDAQQEBwgNCQUGBgMAAQIDAAQRBQYSEyEHFDFBCBYiUVKR0iMyQlNhcZLRFRgzNFRVcoGTlKGy4iQ2c3Sxs7TB8DU3YnWCCUN2ouHxJWNko7XCJoO2/8QAGwEBAQADAQEBAAAAAAAAAAAAAAEDBAUCBgf/xAA1EQEAAgIABAMGBQMDBQAAAAAAAQIDEQQSITEFQVEiYYGRsfATcXKhwdHh8TIzkhQjJDRi/9oADAMBAAIRAxEAPwDjKlKUClKUClKUClKUClKUClKUClKUClKUClKUClKUClKUClKUClKUClKUClKUClKUClKUClKUClKUClKUClKUClKUClKUClKUClKUClKUClKUClKUClKUClKUClKUClKUClKUClKUClKUClKUClKUClKUClKUClKUClKUClKUClKUClKUClKUClKUClKUClKUClKUClKUClKUClKUClKUClKUClKUClKUClKUClKUClKUClKUClb/AMVJ/Th9b+xTxUn9OH1v7FBoKVv/ABUn9OH1v7FPFSf04fW/sUGgpW/8VJ/Th9b+xTxUn9OH1v7FBoKVv/FSf04fW/sU8VJ/Th9b+xQaClb/AMVJ/Th9b+xTxUn9OH1v7FBoKVv/ABUn9OH1v7FPFSf04fW/sUGgpW/8VJ/Th9b+xTxUn9OH1v7FBoKVv/FSf04fW/sU8VJ/Th9b+xQaClb/AMVJ/Th9b+xTxUn9OH1v7FBoKVv/ABUn9OH1v7FPFSf04fW/sUGgpW/8VJ/Th9b+xTxUn9OH1v7FBoKVv/FSf04fW/sU8VJ/Th9b+xQaClb/AMVJ/Th9b+xTxUn9OH1v7FBoKVv/ABUn9OH1v7FPFSf04fW/sUGgpW/8VJ/Th9b+xTxUn9OH1v7FBoKVv/FSf04fW/sU8VJ/Th9b+xQaClb/AMVJ/Th9b+xTxUn9OH1v7FBoKVv/ABUn9OH1v7FPFSf04fW/sUGgpW/8VJ/Th9b+xTxUn9OH1v7FBoKVv/FSf04fW/sU8VJ/Th9b+xQaClb/AMVJ/Th9b+xTxUn9OH1v7FBoKVv/ABUn9OH1v7FPFSf04fW/sUGgpW/8VJ/Th9b+xTxUn9OH1v7FBoKVv/FSf04fW/sU8VJ/Th9b+xQaClb/AMVJ/Th9b+xTxUn9OH1v7FBoKVv/ABUn9OH1v7FPFSf04fW/sUGgpW/8VJ/Th9b+xTxUn9OH1v7FBoKVv/FSf04fW/sU8VJ/Th9b+xQaClb/AMVJ/Th9b+xTxUn9OH1v7FBoKVv/ABUn9OH1v7FPFSf04fW/sUEzpSlenkpSlApSlApSlApSlApSlApSlApSlApSlApSlApSlApSlApSlApSlApSlApSlApSlApSlApSlApSlApSlApSlApSlApSlApSlApSlApSlApSlApSlApSlApSlApSozLtWFZl4BO6SM7/AJjj0KipNSov43D8HP6T+CnjcPwc/pP4KGkopUX8bh+Dn9J/BTxuH4Of0n8FDSUUqL+Nw/Bz+k/gp43D8HP6T+ChpKKVF/G4fg5/SfwU8bh+Dn9J/BQ0lFKi/jcPwc/pP4KeNw/Bz+k/goaSilRfxuH4Of0n8FPG4fg5/SfwUNJRSov43D8HP6T+CnjcPwc/pP4KGkopUX8bh+Dn9J/BTxuH4Of0n8FDSUUqL+Nw/Bz+k/gp43D8HP6T+ChpKKVF/G4fg5/SfwU8bh+Dn9J/BQ0lFKi/jcPwc/pP4KeNw/Bz+k/goaSilRfxuH4Of0n8FPG4fg5/SfwUNJRSov43D8HP6T+CnjcPwc/pP4KGkopUX8bh+Dn9J/BTxuH4Of0n8FDSUUqL+Nw/Bz+k/gp43D8HP6T+ChpKKVHLPagSSRx8AjfdEzv5xvMFzjc59tSOgUpSqhSlKBSlKBSlKBSlKBSlKBSlKBSlKBSlKBSlKBSlKBSlKBSlKAKrK7+6P+W37xqzRVZXf3R/y2/eNSVhipSlRSlKUClKUCr9fwRdrQCRbWDY7hdxZPyDeAHrqgq7Z8MLoy2i1ra3TLrQbS5Ii0i0hGoRSLax2s63+ouxNyXUxsqSox3cthhgEnFByJt3sdqOhXjWGrWctldqiycOTcYPG+QssMsbNHPESrrvozDKOM5UgbTpQ6NdS2cayTU0hQ39t1q34MizZiyB5W771uY5VbnhzbcWep3mjada3ceoXGjWcsOo38ODDNeTi2EkaSLykKm3Zju5UGcrnKsBofCz2Cj0KXQ1i1DVL/rmli4Y6nOtyYDvKOFblY14cPP3vP56Cj6V0ZqnRJszspY2D7aXury6xqEIuho2ii0D2cDjdHWXueTsrhlLh0BZJFUSBC5j3TJ0P2NpotntRszf3OpaDdSdXmF4ipfWNwHaPE+5GishkRkJ3FwTHgusitQRzWuixrbY/TtrDfB11DUXsBYcEq0RRr9eKbnikP8AeJ8ncH3Tt5c63rpXbf8A3ObN/wDiOf8AvNfqP9G/Q/pUez3jXtbfXlnpc8pg06y05Yjf38is6gq06siKxhmwpAysbOXVcEhRVK6EveiLQNf0TUdY2LvNUNxpKtPf6Nq625uerhXcPbvajdyUhlZV3pC24V8lsAxzwe+h+HXodS1jWL19N2d0eNmvbqIBrmaVY+IYLYFHCsqFWJ3XJMkSqjF8oFPVJujPYe92i1CPTNNWJrqSOWVRM4iTdhQu+XPIHAq+Oi/ot2D2r1NbLStT2js5I1meSzv1sllu4YowBPY3McUkceHKsySjeYM2FUKahnQL0fw3+20+h9e1Kyggl1aJLqwmS3vtyzMqp7twyvlBBvYXnk9lBUGt6dJZ3VzaTgCa1nmtpgp3lEsEjRSBWHvhvKedeOrN2U6LbnXtrLvQLKZvcr+/We9uiZXitLW5eOW7n3cGaY+SMDd3pJVGVBJFg7V7JdG2kXsmj3eo7UXd1BIYbu/shYG0tp4/Jliw8O8wDAghElwcje5HAc40qwujvSNmZr3Um1zVL+1022LdQWyhEl9qAaVxGoLxNHAwiUMS6gZYDIOAbKuOivZbXdnNZ1rZS61qC60GET3djrHVG4kCpJK0n8lUhGeOGcqwcjMBUoud6gr/AKFeidtpbXXrlb5bP7B2PXShhM/Wcx3UnDDCVOF97Y3sN7/s5c6zrp3wJP8AZW33/IR/htUrmKgUpSgUpSgUpSg9ej/fNv8A08X94tWPVcaP982/9PF/eLVj1YSSlKVUKUpQKUpQKUpQKUpQKUpQKUpQKUpQKUpQKUpQKUpQKUpQKUpQBVZXf3R/y2/eNWaKrK7+6P8Alt+8akrDFSlKilKUoFKUoFdf+HJttrOlbXaYukalqFox0azkWC1lmEUs51HU1G/aqTHcMwRF3XVt4KAQa5Aq/j4Xe1v4RYD5rSL/ADNBMfDU0VJ9A2W2hvrSOw2iv4ootThRBBJOXs0mke4hYb6ywyKq4bykFxuNndXH3w2LxLfVdiriVS8UGm200ijmWjiuYXdQO8lVIrnfpG6QNV2huFutYvpbyWNSkQYRxRQoSCVhghVYo8kDJVQW3RknFerpP6SdS2jayfU3hc2Ft1W34Maw4iyDht33zchzoLm/7QywlbaDTtSUGSwvdHt1tLlfKhkaKa4eSNHHIkJPDJ806mvXpFq+m9DWpi+zCdZ1qCXTEkyGlj6zpjDcV8EBl069lGO1RvdhzVbdHnhDbQaLZJpsctpf2EQAt7bU4Fu0tgM4EL7yyBRnkrMVXACgc8xvpW6UtX2nnjm1a64qwBhbW0SrDa2wbG9woU5bxwMuxZiABnAAAW/tv/uc2b/8Rz/3mv1s+nXOodF+xt7ZBpLbT3jtb3hqxEE6QS2bSTgD3NePCyhmwCbiPB8tc0LqPSJqFxoFps3I8J0uyu2vYEEaiYTuboktN2sububl8o81bHom6YNZ2Y4yaZcp1W5O9cWN0guLOV93c4hibnHIVCgshUsEUNkKAAurwB0NnFtVrV0Gj0u10vhzzOGETyLxLl0UkbskiRRnKjJHHj9MZdCenyaz0V7U6PpsYm1KHUo7x7SLL3E8Kvpl0jCJQWaR0sLlEUAl2tgBzNVN0pdO2u7RWi6fdzW9tpwZXaw06IWltKyNvoZgGZ5VDYYIzFd5VbG8oI9/gzbMbTXlxfXuyd/FaX2nxwCWJ5lhe7juTNuxrDNG1vcopgJKzYUExkc8EBY/gK9HWr2+0i6pd6dc2Vlb2t1C017G9rxZ5oyqQ26TKHnfCux3QQojOSCVB8vguf70L3+s7Q/v3FWp0enafSbmTajpG1WO3s9MtLpLGwaXT9+a6mUJvxW2m4t5JjFxUXmZCZcchmuQdkOkjUNJ1qXXrAxR3ssl3IeKgmjHXC5lG63b784NB0N4ImqQQdJG0kEpRZb37Nw2xY4Z5Y9VjuXhQd5MUEr/ADQVzT0g7M3ul6teadfxzddhuZI3Lq+/cFpDuXEe9zkSUEOrDO8HBGc14p9oLptQfVEmeG+e7e+E8BMLx3LymcyRFDmMh2JGOyroh8LbakQpGz6ZLOibq3slohuuzBbyWEIb5o8fJQZPB56NtNfRNodqNcsbjU00IvFFoyPLbcS4hjSWV7to/dEiTiR57lVJiyvgLVm9DW1H2W2R6QZ4dndM0OzTRZUtpNMtp4ReEWGqmZLi6kcrdyQDhnyQu71k5HliueOjTpr1zZ+9vb6xuY3fUpWnv4bmNZLa5md3kMzRJu8OQNI5zGV99js5VJrfwotqV1Br43VtIht3thprwAaYkTlWO7bRspMm8v3RmLYJXO75NBMPAk/2Vt9/yEf4bVK5iqfbM9LWqabJrsln1SHxhEy6hGsCcIJM1wWS2Tst0HWpQAOwbo7qgNApSlApSlApSlB69H++bf8Ap4v7xaseq40f75t/6eL+8WrHqwklKUqoUpSgUpSgUpSgVmsrWSZ1iiRpJGOFRBkn5fkA7yeQ76+Wds80iRRjLyMEUZwMnvJPJVHaSewAmrt2J6OZDCGinMCMBl1AEl2wOeMzMMxW+feIMHADHma8XyRSNy2uF4TJxFuWkfnPohmgdGry+VdXKRYGWht92aRT3K8jssKN8gZj81ezVOjm0jQyJqDqFxlHWN3HLJzuN2/Pirf0/ZCWGF1Esasy44uC8mT8LewDn8/fVf7X7ITW8bFJTcMMt5Wc8+0gNnPb/b25rz+PT1bV/COIiN6VNqenxxtuxTiU9gV14MhI9FSxDA92DmtdWu2ijmikPJk5nyRkJ8273ervr7pOocXKSHy17Ce1h2YJPvjXutons5+THak6tDYUpSvTGUpSgUpSgUpSgUpSgUpSgCqyu/uj/lt+8as0VWV390f8tv3jUlYYqUpUVtdD2cv79J5LGwvbxLVQ9y9pBPcJbowdledoUIhUiOQ5bH3NvMa1Vdb/APZ9a7DpljtnqNzvdXsrfSLmfcG8whiGrvKyr8JggY478YquPC66Ko9B1KPUtMCPoGtjrenyQYa3gkdVlktUdPJ4RDiWLGAY3wM8NjQVBqmhXlrFbT3VndW0F4hks5p4ZoYrqNQhMltJIoWdAJIzlCR5a+cVrq6P8Kv+afRn/wAluv8ADaJUa2I6A2n0y11fXdd03Zqy1Dnpov8Ay7m9TAPGWAum5AQyENvEkMGwFZCwUrSp500dF17svdwwXUkF1bXkPWdP1C0Yva3luSMPGxHJwGQsvPHEUgsGVjl6Uui+bQNP2e1Ca6huE2h08ahDHGrq1uhgs5+HKW5O2LxRkegaCvqVY79E842SXa3rcPV2vOp9T3ZONvcYw7/E95jIzit90Y+D1qW0OiLrGn3NsS9/1Hqsu/Hw1Vo+NdTXHNY7eNHaQ8ixEZChmKqQpqlWZt90UCz1PTdJ0XVrHaa71FcAaU0LrDccRkMDus7qoCrvl3KBVyxwATU9fwZreGZNOvNs9n7XXH3EGlli27PKAYYHmaRXWR96PC8LJ31wGyMhztSpH0j7FX+z+oz6XqcPBuYcEFTvxTxPziuLeTGJIXA5HkQQysFZWUXXrXgn3thduuo65pWn6TFDC8us3jG3tzPO0yraQRzMvGnAiRjllGJVwSeVBzjXu0LSLq+nW3sbW5vLlgzLBaRS3E7BBvMyxQqXIABJIHICrA6d+hy62VaxlN5banpupxGWw1Kz+5TqqxuQygsqErKjqVdldWBBOGCynwD/AOetj/VdQ/wklBTG0On3lrcPBqEF1bXaBOJDeJLDcKGRXj345wHUFGUjI5gg192f0K81GUwafZ3V9OEMhhs4ZrmURqVVpDHCrMEBZQTjHlDz1054eekRX8Oh7WWYHCvI5NKvN0giO6tnmeOMkDypVZL+Jj/9IoqReAHosWmWb61dJi417Uk0PS8jyjFbQzXt26MM4jY28mc/CsAO8UHHGo2UttLJb3EUsE8LtHNDMjRSxSIcNHJG4DI4IIIIBFeerP6ZtDutT251uwsIHubu6169hggjxvO7XMnexCogALF2IVVViSACanT+DNbwzJp15tns/a64+4g0ssW3Z5QDDbvM0iusj70eF4WTvrgNkZDnalSTpG2Jv9n9Rm0vU4OFdQkEbp34p4n+5T28gGJYXHYe0EMrBWVlFtxeDZ1S2tn2g2n0XZ6/vIhNbabesDMEbkpupDIgt/KyCQHUYIzkEAKw2l6N9S07SNO1y6iiXT9Ubds5FljeRzuu/lxKd5OSN21D6638K3Z+fStgNkNOujE09pdtC7wOJYZMQXJWWGQe/idSrAkA4YZAOQKn6Nug6TUdMXXNW1fT9ndHmlMFpdagd6W8lBYEW1vvJvp7nLz3gTwmIUgFgFQVMNoejjUrDRtP165iiXTtTcx2kiyo8jMBKfLiB3kGIX7fMK2/TX0R3ezLWcxubbU9L1KPi6fqtkd62uAACyMMnhyhWVhzZWVgVYkOFtjpw/3W7Ef1tv7vUKDmClXTsB0Cm80iDXda13TtndOvXaOwa9BknuijOrOIS8YSM8NivlEkKWwF3S0C6VNk7fRr8Wlrq1jrULQRzre6eyvD7oXBibddgky7nNc5G8KCJ0pSg9ej/fNv/Txf3i1Y9Vxo/wB82/8ATxf3i1Y9WEkpSlVClKUClKUClKUE86G9DW7u9+QBkQkMveyqoZx8xLRqfkZhXUOiWGQO4YB/9K5/6D4WiETnAFw0hB78IyL2nuyp9Yro3TLiNcK0sasBzBZcjs7RnlWjmrNsvuh9Z4VrHwu47zM7Z77Twsfyj89Vh0gLuozB8ZDYH5PmNWdcXqPkCRTggEg8vPVV9Jt9BGHzKGIBUKpB5k+V+f8A9anEYunSHSwZdV3aXOvSA+H8oYYkebPMZNQW4cLIGXkQcj5cef8A131L+kS7DygDlgEY5d2Mk/LnPqqEXh7K98NWaxG3y/id4tknSWW8m+it6QBrJXm0w+4x/kivTW45RSlKIUpSgUpSgUpSgUpSgCqyu/uj/lt+8as0VWV390f8tv3jUlYYqUpUV0f4Kn80+kz/AJLa/wCG1ut74MW0drtXoV50f63KBJwnuNn7qTDyQvEGl4UeSGZ4G3pFUHyomuEyqqAaZ6K+lA6FpO0ulixF0NorKKzM5mMPU+HHex8QR8JuPnrmd3eT7n28+UG0LVZ7G6t7y0laC6tZo54JkxvRyxMGRgCCDgjsIIPYQRQdJ+Glos+m6B0fafdKFubLTtRtJ1U7yiW3i0eJ91vhJlSQe8EVZnha3+yVvc6Muv6XrV5CdMA0uXTJYYrJYFkw8Sq1wh4wU25Jxjdkh58jjnPwj+nGTbNNJEunJYSaYt2HaOdp1uHuxZ77KjRKYFBtSQu8/wB0xnlk7HY3p7i+w0GgbTaFb7R6baBEsXeaSzvbOJVKCOO5RGYqqYRdwxsFG6WIwAGTwh+lXQ9c0bQ9J0ax1K3GiNJHC+odXZls3iVOCssc7uxzFD24GI18wrfeF3/Nro0/8Nr/AIDRarHpU240fUra2tNG2YttBjt5nladbiS+vLlWXcVJbiaNZNwe+3Szc6n2zvhD2LaLpmlbQbK2WvyaLEsOm3M0whCQoscaRyRm3k5COKJWwd2Tgx7y5G9QSO/tpIuhiDiRvHxNYEse+Cu/G17JuyLntQ4OD34psxeywdDOqGGV4jJrHBkMbFC0Mt1YpLESvPcdSVYd6sQcgkVDOk7wjLnX9n5dDutNgiaS9juI7i3l4cFtbwMOr2UFkIfJjSMKu9xOeCcc6jVl0smPY242R6gCLi+W9+yHHwUxNBLw+q8HyvuGN7iD33Zy5hOP+z8jhbbAGYKZE0u+a13sZE5MCMUz2NwHuBy7i1U10mPM2t6w1znrB1XUDPve+4xu5jLn5d/erzbF7S3ej6ha6nYSmG7s5RLC+MjOCro6/DjdGdGXvV2HfV5XXT7s/dXiazf7CWdxrqmN3uUvp4rOadB98SWJgaJn3sHyxIxwMvkA0G98P9cjZGScD7Ivo8gvSccU46qyB+/Ame7xnvL/AC15v+0a1Kd9o7C0aaQ20OkQzxQEnhJNPdXiTSqvZvssEIJ7cRr5qo7pa6Qb7abU5dU1JkMzqsUUUQKw21vGWMdvCrEkRgu7cySWkcnma3nhEdKZ2v1aLVDYjT+FYxWXAE3WsiKa4m4nE4MeM9Yxu7vwO3nyC2PCJOejfYInnyA/MLVwB6gPVUV8A/8AnrY/1XUP8JJUX6Q+lo6vs5oOz/UBbjROy74/FNz7k0f3Dgrwe3Pv2rV9BPSGdl9ag1gWgvuDFcRdXMvVt7jxNFvcXhSYxvZxunOO6g6I6NlbajZvbrZLypb3T9SvdU0iPMYdi13LOlvCXwFBuoJEZmxgal2ju3MNzHpu3GwOx1q6mDZyynN2Y8qkuqX+m3M1xI8Y5Fiu7KGPMG9kHLJzy/sP0p6hoet3euaXwobi7N2HimUzxcG7mE7RMMqX3XWMg8ucYOO6s2xvSpc2e1Ue1d5CL+7F1c3c0PENusj3MM0O4km4/CjQSjdG6cCNRQdBdA0cLdLu0ZlCmRJdda13sZE5uo0YpnsbgNcDl3Fq5c6S3mbWtYa5z1htU1Az73vuMbuYy5+Xf3q22odJF2Npp9p7AdRvJNRn1CGMNxhEZ3cvA7lV40ZSR428kbyswwM1ad10+7P3V6ms32wlnca6pjd7lL+eKzmnQffMliYGiZ97B8sSMcDL5ANBavhAWsU21fRgb7AvZWshfbwUyOyXVi8EUuQSUa5a5XB9N6ovw3pZm241cTF91E09bcNndEH2OtWxHnluGRpScfCZ+/NQfpK6S9S1/WPs3dzcO8Rouqi33o47JLdzJBHbAsWRUcs+SSSzMxOTVxan4TOnalHb3Gu7FaXq2r20KwpfSyosMu7vkGW2e1cmIM29wS7LmSTG5mg93hAIy9GWwoYMDxFOGBB3WtrlkPP4JUgg+Yip/wBN15stb7NbEnXNO1e+sDpEQ059LkWKGImy08uLniTRnjOgQrvZPkTd+9VBdNvT1cbVaRp2nXdikM9ldSXUl3HLmOcyLKoijteCOrxIsgVRvucRjJPbX76M+nc2OkeL2u6PbbR6Kr79tb3Mht7izYlieBciNyFBeQrgB14jAOFOAGz6Z+lXZ6/2V0/ZrQbDVbSPTtT67CdQ6vIojkW/M8fFSd5CTLe7wGMcu3kMyTpw/wB1uxH9bb+71Cqr6UNudCvrCOw0PZWDQ9y7S5a9a7m1C9mRYp4+rmW4j4kcJaYOV32GYU8wx+9t+lk6nsvomzXUBCNGlMvXePxDcZW4Xd6vwV4X3ft32978vILA6N+lnZ3VNBsdlttbS5EGnMw07WbMuZLVWEoXjRwjiAxo4QbqTK4Ee9HlN8wfwkuiMbKXtqLe8F/pmpwNdaddeQHaNSu9HJuHcdlWSIiRcK4kBAXmBtNnulbZvqNhbatsNaX91p9vFEt9b3sunyXjwKFja8jt4BxsgczI0nYBukchGenbpWutq72G4mt4bK0s4BbWFhbneitYMgkb+6u/IcKCQqjEaAKMUFd0pSg9ej/fNv8A08X94tWPVcaP982/9PF/eLVj1YSSlKVUKUpQKUpQKKRkZGRnmB2kd4FKVFdLroTm2tpLJIl4tsnV+AOHGN+IEFAT5Gco2c+f5hA9p9N1GEyyxW+oSkS8L3Bo1QuMNxBJIpKwgM3ujYHI9pqx+gO6abRbDinPCe5gU+dI5juAnuIXCj5BVharYW7EGeKORQRuhwjhiTyABHNq1Ym02mPTo+uxYaZKxNenN7WunTfWYiOym7u3m07Za9vg9zHdYEqC5YSOuWUEKQAN0kZyBzzy7QapeO21S/099QbjSwxsoMMfDR5y7MCwJUl1XHlHu3hjvx0l09Whk2fugCsYJV1UYHkxkeTj0ewfmqmehuaKWNrC5WJgw303whYK/o57s5yBzqxaarn4WMl4pE6jU/PamdSMhkbeVlZThk5EDv7V5cv2V5CuW82fP6qvzpr0Wx0y3UWkEe/LyaTJ3l+RV7AKoh0zkcgeXP8AOPNVpfbhcXws4r8kzvbaaIW8ofAUAAdwPyftraV5dMi3IxkYJ5nz+YZ/MBXqrPXs0Mtom3QpSlemMpSlApSlApSlApSlAFVld/dH/Lb941Zoqsrv7o/5bfvGpKwxUpSopSlKBSlKBSlKBSlKBSlSHo0UNrWjqwBU6pp4IIBBBu4QQQeRFBHqV0T09bBya70n6hodg1taSXZtOE0oaO3j4Oz9tdvvCBGIyIX7F98wz3mvDZeDBqMouLb7L6INchhe5TQBcFtQeBMMpkUL/J5ZEZWVGHZLHvFMndChKVffg8dEGm67oe0OoX1/YxXFpbYsxLczQDTpQsp67qSJGcWjHc3Tls8KXlyqL7IdCV7rGoaxp2k3+majJpNmLwTWssjW+oZjRlgspWjAMpd+HmTcUMDk450FWUq0ta6F7lNU03RdN1PS9c1K/wCMs0WmTCaHT5IMGVbqc43VVd9ixA+5MME4B31x4Os8q3UGla/oWtarYxvJd6RYTSm6xEQsy2hkjC3TI5CkeRzIHviFIUfSlKBSlKBSlKBSlKBSlKBSlKD16P8AfNv/AE8X94tWPVcaP982/wDTxf3i1Y9WEkpSlVClKUClKUClAO4cyeQA5kk9gA7zVoxdEM9npU2r6272acMdU0+Pc69cSyMscRn3si0h3nUnKs+DzC16pSb2ite8kzqNy/fg8a7cLePp4mbq8kM9xHAcbguU4flryyCUDDA+erju5EjuI5L25AAQiGNmMcal/JaViT7/AHFYA8gBvefNc37Fax9jr+3uo0HuTjfHMlom8mQLknDFd7sro+70PT9Vnhu540ukSGNrcMxaEq5LrIY87jsueWRy3q88Tw1sF45+0+nbcer6DwfirZcU0pbUxPn6T6fRVnSVELyzextNTEFvEpkzJMZmlZZJfcy7yFwmQo5k5JXB5VVlvoS2BE6329LG8e6UZTjfIzyBJ7nzz+B89dKbW7MRhCILGyC8xvvbwM+MemV+Q1zTtXscsMsk0xSJMsQI91Wc8mIQL2DHPPLurxk5K/FscbwmWuslbTMx5z0+PmybfazJdOqO5dQCwz2YDbuflB7R8hqH2JHHw3IYJ59hPLH9teq/nXOUzuKgRQxycCtaIg0NxKfg8MKf+IseXqA9deMcdfc43GZbWnmmdz6pIrA9hr9VDLG4eNgAx3T/AKwflre2erDsfmfOP88Vtfh77Obz+rbUrFBcK/vT+bvrLWOYmO73ElKUoFKUoFKUoFKUoAqsrv7o/wCW37xqzRVZXf3R/wAtv3jUlYYqUpUUpSlApSlApSlApSlAqRdGP+3NG/5rp3+LhqO1ltbh4pElid45Y3WSOSNikkciEMjo6kFHDAEEcwQKDsRv9+v/AFD/APyIqG+CnKz9Jty7szu8+vs7sSzOzG4LMzHmzE88mqC8bNS6/wDZT7J6h9k/xj1m56/9x6v9+b/G+4+5++955PZyrBpO0N9aXJvbS+vLW8YyE3dvPNDdEy54pM8biQl8nPPnk5oL18E61kudB6QrS3RprqfQYuDbxAvNMUS/ysUa+VI2WQAAEkuo7SK/HgrwXFlbbfLIk9pdQbHak+64kgnhcQPJG2GAeN+asDyPYRVH7LbR3ulXC3em3lzY3KqVE1tI8LlCQWjYoRvxkquVOQcDIr1Xe2mqyz3t0+p35uNSiMGoSi4nR72BkEZguijDjwbgC8NsrugDGKC3vAQ1GGHamWGSVYZr/R76ysZH5AXjvbzRgN8FjHBNjznAHMgV7fBK6PtY0/bO1ub7TrvT7bSF1CXUbq7jeC2gjFjdW5zcSAROGeVcbrHK7zjKqSOeIJWRldGZHRgyOpKsrKcqysOasCAQR5qlm0HShr+oWvUr3W9TurXAVoJrmd0lAwQJwW935gH3Te5ig1W3d/Ddarqd1bDFvc6hezwDBXEM1zJJF5J5r5DLyNaWlKBSlKBSlKBSlKBSlKBSlKD16P8AfNv/AE8X94tWPVcaN982/wDTxf3i1Y9WEkpSlVClKUClK3/R5svLrOp2mnQ5BuJPdJAGbgwIN+eUhQT5KA487FR30FveCX0ei5nbXb2HetrRmFgJB7nLdRjMlwQffrCOS4B8s/8ABUi8Lu8fNtGeI0SyOgJWDd4kUQeQRke7KpW5jyXbBMIx3YuyLTYbC1itLZFt4ILcW8aKIo+GjqYot9jli7PnAUlmO8STmqB8LiQfZG2TPJILhynPO81wo3jzz5QAH/TXX8Lx/wDej8p+jDnn2JUBFKq77neVVQkgqTzIIHMD5/VUx6A9tbqK7isN8TwzyXJijY/e6RwS3LLGwBJQiJzuHsJGMCoFtPdiG2KjkWPzZ7gOzn3VIfBbst/ajSWkAO/JcKo/Ls7hSPnILD89bPH0re34cxvUTM+73pwmW2K3PWdStbbTpMljZ7ZoZoiowFddwjswe3DA+ccjVE7T3UtxIzyMTnewPkPP11f9pDb6zYPBcYF3YXl1YyNkb6GJz1ck+ZoTCfNkmqg6TNk5LBgOJlGJC5GDy/0a+WtOrcs946Pq8175ce97jure9bu82f8ARr9a0ODbQQdjyHjyDvAYDcUjzhRGfzmt3s5s29w01zN5NjYRi4upD2NkkQW6+eSRwRjzI/yVE9WvGuJpJm7XbkO4DzfJWelem3Az266fLCIs2B5if8s1uLHTI/8AvHY9vIcuzvwPrrx6NEQC4ON47o+UDtPOpZoNt5YYxiViQFAJ5sThQFCHJzjkOddzgOEraIm0NDLbXZlt9GhRAwjYYG9hyByHaxz70fP8tTHQei3V79Flt7B44n3eHJcyRWqyiRmWMxJcOsssbMpUOqbpOOeOdXv0R9EkMKwajrCIt1vR8G0kxwrKZsPaTXOfJuJWYbm43JHIHNxkWXqmt2ltwwBw5bt41iUq7XTm7uCjIE+6B4byYPlt3AdsZwavF5MVvYpWJiPP+iYsdo9qZ+DhzarZe+0uRYr+1kt2kXfiZsGOZPTilQlJBzGcHI78Vp66g6b9W06+Ethdyxm4zJumPjM1pcpKYiTvLgBZ+sE8xlJY+R3q5iuImjdkYYZGKsO0ZU4OD3j5a5GSnLLYpffSX4pSlY3spSlApSlAr8cFfQX1D6q/dKKx8FPQX1D6qm3QlsHDtDq8emSytbI8FxNxYkjdwYVUhd1+WDmobVxeBz/Ou3/qV9+4lQWd9qJYfje7/V7Wn2olh+N7v9Xta6WpUVzT9qJYfje7/V7Wn2olh+N7v9Xta6WpQc0/aiWH43u/1e1p9qJYfje7/V7WulqUHNP2olh+N7v9XtafaiWH43u/1e1rpalBzT9qJYfje7/V7Wn2olh+N7v9Xta6WpQc0/aiWH43u/1e1p9qJYfje7/V7WulqUHNP2olh+N7v9XtafaiWH43u/1e1rpavDq2s2tnwRd3Vtam5mS3txcSxQce4k5RwQ8RhxZm7kXJPmoOd/tRLD8b3f6va0+1EsPxvd/q9rXS1KDmn7USw/G93+r2tPtRLD8b3f6va10tXhtdZtZbmeziu7aS7tRGbm1jlie5txKqvEZ4FbfhDIysN4DIYEdtBzv9qJYfje7/AFe1p9qJYfje7/V7WuidO1e1uZJ4re6t7iW1k4V1HDLFLJbS8/c50RiYZOR8lsHka9tBzT9qJYfje7/V7Wn2olh+N7v9Xta6WpQc0/aiWH43u/1e1p9qJYfje7/V7WulqUHNP2olh+N7v9XtafaiWH43u/1e1rpalByF0qeDZZaLo99qkeo3E72cSyLFJDbqjlpY48My8wMOTy81c5cFPQX1D6q/oH4TX809a/q8f+JgrgCqkvwIlHwV9Qr90pVQpSlApSlArpXwMtFjEOoakQGme6TT1yAeHCkKXLhc98jSoMcs8EDz1zVXYHgo7NzafojXNxy+yU3XY4hyZLZYVERY9zyiHPyLKO/Ne8fclaeqzBI3c4UAZUIvFlnkGDII9733kKkQbszI2Mcq5j8JeQy6nFck5E0NxCd3mgNpqE6qA3MFjHJESAe9c91dPX2Aw32VnxIpY/BigQvcyRLnKgScGMN51U+bPPPhR2yQ2Wm4ThN1hisYfeK9atV46u/Y8glsmYtzyXrteFzEZY+P0lizx7Dl3axzLcRRdo3lz68dvfUo2H2iXSde0e4RcmG+tpZUzjeiL7nCBx5Bfe7e4EefFRS6Qvdg8vIJY7x5AL2/6Hmrya+y8biQscgI28AVxIuOa55gg47h2VkzzrntPnbXv1ryYqR2j0XDpGvSWupLtJFDw9D2iuZre8g3hJ9jtUidt6CQjuy2Udgu+khyARivdtjp13r1/DBbMkvk7sW6MBI85d5MduO89/IDJIzsNntnpLnowma1i4l1c6lLqd97mGYw2d6sLSRADETCOOJt5RzWGSsnRdqE+k2iX9vMnW54YZCkkKzRzIXxDEzlg0YGYJCVPN3Tt4VcK+Dny7jtPWXbwcRyYJievXUfH+jQdP1omkaXHotmr8K3lVr64Iwbu/3V4uWHakKGNR3ZYDtHPn9OZAq9+kXS7q+jeUB5LROKZZ1yVLCQcWRmYAMGuJd7PwuNGe4GqLgXEm75m3fzg47BWxnxxE1mO09Pl/mHLmZ3PN3SrTrTyIR3buT/ANRzn9v7KvPwXdBiutRuZpAC1nbRtb8x7lcTzLHHcEY7EVZGz3Zz3ZFN3EywxmRuyJQABzOQABy/PXYng9dHcekaVBcXe415fG3urlmKtFwrmKK3GnyeiIxdty+G5yeWAOxxF4w4+SO86YcVea258kw1a7aaC5nthyWzlW1fddkkaOaB7OVFlADziSSTeYArkkljzWoZqOxF1JLdyC6ktGuOttM8Lb+ozSWbQujTahgGBGMk8nDgCKDIPRqxrt3uIZhApVBa6pEnIb5kW9EaiKPs3BuNg/NUD6S9p3g4htLy1tmklju1uZSJnWC8WK23ILJVYyy8KGaTL7oAHYc5HNjUR18t/wBmzOlV9M8OlaPd3Gm6TbBr73RLu5meSZbSO66tKjZdjm53g5DHO7vHzjFDvc780y9m4Y93nklGjXBJ8+Q3qqX6u5lklIeSRZHlkee4Pu9yXkuLlJJTk+URjlzwRUC1e4EepBeQV7eGP843gpPy8gPz1oXttjr3bClKV4ZClKUClKUClKUCri8Dn+ddv/Ur79xKp2ri8Dn+ddv/AFK+/cSoruSlKVFKUpQKUpQc/wDRxeSt0o7ZQtLK0Mel6UY4mdjFGWs9KLFIyd1SSScgd5raeFbdSRHY3hSSR8TbXRY5OGzJvxsZ96N90+UhwMg8uVaLYh+rdLW08U3kHUtDsLi0LEATJbwaZBIFycs+9FOcDPKBz3VtPCwlV7vYa0U5uJtstLuI4hzdoLViLiUKOZjj48RZuwBxnFBNekzpe0jZy8sbPVpJbfr0F5cR3O4rW0SWURlkEpD8TiNgIiRo7O7qoGTWi2U8ILSr3U7fSriy1rR7i+ONOfWrPqMGoNnCrbPxGO85wF3woYsig7zBTG+mqGKTpE2AWdI3Tc1lwsoVk4sdqZIGAflxFmWNlPaGVSOYFY/DZVXh2ShhK/ZKTazThZYxxt3dlWUx9+6Jns847ynyUEu2xuNMG3Gzkc8+rpqz2OoGxgt2hGjzRLb3nGN+jDitMqcUpu8t4R5rJ4Wtw8WxmuyRO8UiW8BV42ZHU9dtuaspBB+aol0kf70ti/8AlWsf4TUKlHhf/wAydf8A6tB/jbagoXpA2RXRNj9A2l0jWtastfubXQ5IrZb24nTVLu+itZJ4VtJSxkYb8knDXKFVZWRgwxZXhX3bRwbCz3xjt3TarRprxmYJDAyoXuCzscLGpD8ycALUI1jo3stD2P0jbXR7h9M1yx0PSbsy3EjXttdtc29rxbYwX5kEDSNM4QQ7gBfdAAPLe+EHqa6/ovR1d3dugTV9f0GW6tTkxFb2AmeHyubQkSMBntUignth4R+iy39naG11mG01C5W00/WriyeDSL2ZyFjEFw7iVkZ2C7xjAHa26vlVNekrpBt9CFsstlquo3N3xjbWWkWkt/dSrb8LjPuIQiKvGi5uwzvcs86qvw4Y1TR9nERQiptbpCqqgKqqtrqIVVA5AAADAqWdKnSPf2+u6ZstoUFi2rajbSX8t3qZm6lZWMTSrviCArJdzv1e4ARXXdKITlWJUNn0XdL9hr15eaalpqel6pYxrNPpusW4s7vq7cMC4SNZHBizLEOZB90Q4wwJhXRd/vL27/qez/8A+NtK02w1vfxdKU6aneWl7deKBJls7drKJUOoW5SIwvcTMXHM7xbmGXkMc9z0Xf7y9u/6ns//APjbSg/Xgy/7f6Qv/EY/sua2W0PhD2FnxpToe1M+n27lJtXh01hpiAOY2lFxNKhaEMObBccxjOQDpPB7vktdX6SbmUkRW+uyTyEDJEcUd1I5A7zuqeVaTW9r9odqNjdc1xJNH0rQ7jS9Z6vZNBcX2pXFrbxXVtMs92bmOG3md4ZFUpG+MqcHvDo/QNWgv7W2vbSQTWt3BFc28oDKJIZkEkb7rAMuVYciAR2EA17arvwZ/wCZ+zv/ACq1/cqxKBSlKBSlKCuPCa/mnrX9Xj/xMFcAV3/4TX809a/q8f8AiYK4AqwklKUqoUpSgUpSg9ei6ZLe3MFnAjPNdSpBGiDLFpGC8h8gJOe4Anur+hltZi3gSFQEWOOCKJB8GNDDEAB3AKVH565s8C/RImudS1OSF3ltY47ezcr7mskwcz7jnlx90QLy5hZz6VdMXjuu8yqpCdYOTklo4oYxnn57hIwPPufPWbFCw1uuRsA024XEbStKuQokt4pb2RoCx7N6RIieXlAYOQDXOvhVzECyXKspuLiQuAUMlwQVuiicsQKzKikjOY5OZySbx1+4ntZJ5JAblJJOAsMzeUBwrTMFtjCIZJbiUs5yTu4PdjnDwmdce4ntIWjGI1llM3l708s0heVULgfyeIgxqcDOG82T2/D6+3E/n9Pv77Yc3+lRbfd+fa++PNjeUr6+dae5HIk9/P8ANnnmt3djEm95j/r9mPXWk1fkJh5t/Hzc/wD0pxURHWfWWLG/oJ4NeidW2a0mMCTeuLYSZbmG34JZ5GjU8hDxJwoyBnAPPOTBLHo4DbR6ppnGaCxVLSS2VAi7lvKeDHa24VQqJAZCeeSwjTPJed27DDg2VkFbfC2lumRndAS3WSVIh8FMJbRjHz8ySTq9Jtt+8bUnIJeK5WFR2bi3EFrBJy73MUrr8k5xXMrO7T+TciddlOdOtsLLQo0jRYITBYwQwr2hZ7qa7fe7yd3T4Bn5BmuPpLfN/wAPuNwDy8zMH/sNdfeGLIYotMtwRgqw7e+0E8Gfl+6nFcnyJjUgfRVXP5of/at/NSLY8U+to/f/AA1rW9qfybuFI7jUtNtJSOBLfWcU3MKDHLcxLIN5uSkqSMnkM1/QieN2YmQZxNBEkRAZLi548UlreEI26CkMYcqAM7gPZiua/BD6OY7mSfaO9RXFvJJa6SJMcKOdBi51OQtyxCWEad+/v94BHUs3wSnktndt1PvlkucW8MjKeYZLaKR908wGOcYrW4jLzZZlmxV1VE9etDdl5Z724htAt5JJFECifYyx3hIruclmnuGDk/DRQuMA1Qm2k+kRusY63dSlLdZCZMcWd5Wkvyqkk7rKEhXkAAj4wqk1fW2Zubmzmt7GLHH34IASR/JbHKQKxzj3W490wObR73mqptv9A0fT4YoTqO9iSea4S1Aknnlthb2kUJmBxb27IlynztK3PGRjvHTy+KXUbqt6JDI6pw4lPkqCW4jGWUkBz77GHXPm3cVX+28ZWdW5+8UZ+UeVn1mrI1meGW4la3jCxK0xt4e1Le34kkqr52fylHP0flqL7TWPGjeX4CxzEt2AEMNw47+QBzz5GtCY6vMSwaZOZIY3PayjPzjkf2ivTXg2e+9ovmb95q99RkKUpQKUpQKUpQKuLwOf512/9Svv3EqnauDwPXC7VW5YgDqV9zJAHvE7zUV3NSsPWo/jI/pL9dOtR/GR/SX66is1Kw9aj+Mj+kv1061H8ZH9JfroM1Kw9aj+Mj+kv1061H8ZH9JfroIP0p9EelbRS211di6tdRs1KWmqabM1nqFuhJbcSZQVdQxYjfVt0u+7jfbPg2C6FNN0q/XVZbvV9a1OJGit77XbttQntY3BV0t/IRI8hmG9ulgHYAgMc2P1qP4yP6S/XTrUfxkf0l+ugoHwgNjU1nbTY2C6sprrTTba0l46LOscJNozW7Ncw4NvIJURkbeB3lXFTnYzoV0vTdQTVXn1TVb+BXjs7jWbybUGsY3BDJaCTAjGCRkgsATg8zVi9aj+Mj+kv1061H8ZH9JfroI7q+wdjda1p+vyrKdQ0yGeC1ZZGWJY7mOaOXfiHJyVnfmezl5q9m3my1rrenXOl3wka0u1RJhExjcqkiSjdcc18qNf21tutR/GR/SX66daj+Mj+kv10FPx+DRs2eAtzHqV9DbbnAtr2/vZraMRruxqsPEACBcDdHLHLGOVTzbHYDT9VXS0uYmVNHvba/sI7duBHFPaDEA3EGDEo5bnIYFSTrUfxkf0l+unWo/jI/pL9dBHekjYOx2ggtbbUVlaOzvoNRg4MhiYXNukqRsxHvlxM/k/N5q1HSp0SaZtFLZ3V215a31gT1XUNNnazvYkY7zRCUAgoTntBK7zbpXebM561H8ZH9Jfrp1qP4yP6S/XQVhp/QJolrfadqVmdRs76wcu9zBdzcfU96UTOmrTS70l7GzDylLAFTuHyAFEv0bYaytNY1LXIVlF/q0dtFeMzlomW0ijhh3I8YQhI1zjt51IOtR/GR/SX66daj+Mj+kv10Ec2U2CsNMuNXubZJC+t3Ju79Zm4sckrcQMFRhhIyJGG72YqDaJ4N2ztq8gCahPYPI0y6Nc3lxLpEUrDHEWzyOI45YMrPjdB7QDVudaj+Mj+kv1061H8ZH9JfroIv0U9H9rs3YnT7G4v57XjPLEl9Obnqyvj3C28lRDbg5O4B2sxJJYky6sPWo/jI/pL9dOtR/GR/SX66DNSsPWo/jI/pL9dOtR/GR/SX66DNSsPWo/jI/pL9dOtR/GR/SX66CvvCa/mnrX9Xj/AMTBXAFd9+EvcI2ymtAOhPV4+QZSfvmDuBrgSrCSUpSqhSlKBXs0PTnvLq2tIvulzPFAhxnDSuqbxHeBvZ/Ma8ZNdN+Dr0OG0mtta1R4+NwUubGzRhvW/FXeNxdE/wDfJA4cRfB4iknI8mxG1Xhsrs5a6ZaQWFrGYoYAsSKuN95HRcyEn30zvGZGJ72z2CvTqdxwwGXylQGd1XmHSDe4EKntIe5mXB5b3Bbu7f3fPKrb4iDNvKykANi5uBwU3hjO5DbjLecN3VEdb1aWOeIxP/JWiEduQOO/3QRiYxY3HuZpSRGXO4ixs2ObA7uPHza+/v3HvfdtbhorWQ3FyqJF5LyLhTxI8Xt/cLnmWLKkKAe9Y1x10law95db7MzFQB5Tb2DuqH3cYUDiK/ZyJZjV9dOW0Wl2kMD6hvvK7yLaw27vIIAriS5kuJQTDPes5Uke9VgmSd3y+c9qL+2vp2uLRGt490IqluKFVWYKHO6uV3NxcgfBPaTz6/B9J5Y763MMGeUevueM/wCie0Vota5tMvnz+0Vv9SRlxvLkZ9+mWGflA5gVoNWHukuPzfNujFYuP7fH+GPE/ol0cbSC42cstQDD/ZEU2+MAK0dvatKD+S0SqfyDUi0URPb2ghPuO5psSHzQWdsbwZ/6uR9VUf4LGoda0fUNKc4W3idVycng3kKtgLjOd8yHvzuVbexun9X0iyjXeBWwCspJLIZrSad0Oe9EuLdc+fArnREa+/vu21F+GLfB5NDiHOTqd1dSD4QF7OHRfP8ABf8A0a5gvJAt/MScBI8E9nZGuc/nJrpXwuf9s2pBwGt5An/CI5zbbo/RMfk3jUY8EfosXWb+TXtQjD6dbXgS2gkX3O8uN55GkcHk9tCkRGOYZyB2IwO/xF4pixfnv67/AHlrxXmvLpTogVbHZvRIo4xvJoy3vCClWMyW8UjrIpGRI13cuxz3qD21Lrj3BJZLiTdhtlgeVu8xWEPHnlJ72eRhGfPgjurLbw7oRRzkIWME88yTzNcH51ABlI71iT0yK0G1d5vQHt4MjNcuO1jY2LfydM/CkuboqwzzYSOO0cufEc06j5/Fsz2UptxtfqV9vR2qSqI1u5WYFlBuJJAk5DDB8l5ktUIwQomx3VVutaHIJ+HK7Syb7IEGAAInSLAReQyIrjA+cdlXjfWF1mWO2QyCNN6STkqSy2U3W7zcdjugSXs0EIBPwH83KI69e6doLNI00eqatHO6xpES1un8hkWSaWXG7I3XLqU4X0G7MGvOXFHeZa87VFqMXAEcCDDyCORye3da1tz+12H5iaiu3eqKsEdqnvpd2SQg9kC8oYyv/FurJ8mT5zWw1zUjGkk8rb7sFQdxbIAVR5huBfmwKr64naR2kc5Zjkn/ACHyd1am3rSV7On+TR/9Q/8AMa2FarZeTMGPRdh6/K/zra15ZClKVQpSlApSlAr8ugYYIBHmIyPUa/VKDF1aP4tPor9VOrR/Fp9FfqrLSgxdWj+LT6K/VTq0fxafRX6qy0oMXVo/i0+iv1U6tH8Wn0V+qstKDF1aP4tPor9VOrR/Fp9FfqrLSgxdWj+LT6K/VTq0fxafRX6qy0oMXVo/i0+iv1U6tH8Wn0V+qstKDF1aP4tPor9VOrR/Fp9FfqrLSgxdWj+LT6K/VTq0fxafRX6qy0oMXVo/i0+iv1U6tH8Wn0V+qstKDF1aP4tPor9VOrR/Fp9FfqrLSgxdWj+LT6K/VTq0fxafRX6qy0oMXVo/i0+iv1U6tH8Wn0V+qstKDF1aP4tPor9VOrR/Fp9FfqrLSgxrAgOQiAjvAAPrxWSlKBSlKBWae0ljVHkilRJBmN3R0WQedGYYcc+0Vc/RL0KGeM6hryy2tkse/Dag8O5uO8PJ2mKLHweTHPwR25b3XNJ1LWCt+b65jVHigs5Tm23lGF4UUCCXfAHIKfXyrDlzRSYiXU4Twu+elrb1rtGu/wDRXnRPsLc67qEEEcMhs1njF9dYPBghAMsqtIfJEzRowVO0kjljNdx3GmphFjTyWYh1SRkzHGrOi70eFUDiCNnY43AVwcgCq7HbNtLsUU6clhYJKqxxpELeRokG5v8AAJBZipJyQCxHy1h2d6c9KulvoYnljkS4jWGG4TBmRWj4jc1CIrPlijNnEJ5eXWXDxFd9JecnhmSlYmZjczrW/v4+5YOvWcs8SW5uJY3bcdJUkkErSNJGXeFYMS3MOAQd4Rg+fGah1rdTyz3Gl30PuozHG8GII7pIYrmG2biMwEEu+WlCxhsABjjnn36RtS12947LLA/WEgRGDQvewmBWjne7VTu2kLGU4U5bJGDkK1Ra3Pca1BcQdYU6tZuRC8cbKjS2y7tvwSXkWOyk3pXZ33TuuSMjK108GSsxuJ+/v77tHPitivNLeXn5NH4Udg0lkIsh7jSrlovcwwU2xCkmGBV3LWzjV48ux3nZgMkAZpC1zFuqDzQ7pPZnHb+Yn+2rG2kvtUngvAbe9zqUSx3YeOdiTHw3zxDvb8amFcHIG6pABycQkaNdSTJHDaXU0kxxHHFDNI8jdhCKiEns5+bn2VscPmrGbfrHX4NXJWZhgeYlRknnyAGAPUf8qj2o/dn8xK/2CrIm6NteEiQNomp8VlBUC3lYEE7uTIgMac/SYY78VbWwngy2xk3tduLie7fyjpulvGkVquPIF3fOCZJuXNIR5J72GDWTjskWrGp3990xUnbQeCzqEkeuGMndiubXgy57A0fBER+cO+PXXSVlHLcQQvHNKhlis1dQVwjXsItZlGRy3Lm0jOPPGfSOfxpfR5s/paKILK3SZGVt555pLnKyCYF5GZ3JDqp3cAZHdUi0yzt1Xdt1mIaVZzhbiRY2W7mvhhhHukcad/I3hyIGcCtCluWN6bUe9SO1mx1zrG0mldftZXsGhna4wGZFKyXDPbs6gDL3IYKPhA+YEm5NF0uGxhitrCC2trGFkMdmqCCFW4kkxZWUAbp4jyMcZbcX0iTnvJhGsscbTyuolxDbhZSHkkeUiZg3DhYM5wDKuAo98RWv13VHjsDcq/BZWjEjKsXHCvIsbi0g33SKSQbkaFixCwt58jJlyTk17ukJWIrv39X3abXOp2plJlRypHEClmiWVRJe6m6gHyQG4ceRyJUYw2BXW0O2zMJAjNEhSFGQAF4LeMlrOziHM/ZCUnfLZzGGGCMK5nrYZHTk0TxukyIzSrbo6Rxlr7UJ5N12EYyY1yV7fK98ac6U9DNhMskLHq10bqe0VCGdEM04Z0YkcS6mXcCuTyR28zZmuWOn3993jJ2QTbHbK+uXmEtxI2WBaJGIhUxl2VURMBlRhLg45usjdrLiA3qv5TOeYzyHaW8pQF//ALFAH5YrfairI7HC8mOAnNFKGNdxTjBVWMcWfO0x+Sq/211vHuMTHe3cEj4K7oQH5HKKPmzntxXOv1nqxRLR7VagJ5txD7lFlVx2M/w2HycgB8ijz1qRQCleXtu9kJPLlTuKq2PlU4//AGqSVFdl2xPj0kYerdP+RqVVXuClKUClKUClKUClKUClKUClKUClKUClKUClKUClKUClKUClKUClKUClKUClKUClKUClKUClKUCvboNrx7u1h4og4txBHxm7Id+VV4pz27uc/mrxV+o3KsrDtVgw7+akEcvnFR6rMRPV13tRq2kXcKQ3GrajNggEwyJELhkwpD9XjG8hxjHZ2+c1h0rQNE0G3uNUtLfgy8Fma5mJaVI2wXSPf5RqcLyQDOK5mvtehmmea4tXkkuGLztBLLb4lYks0axuFGTzxjvqc3I2en047+panbzLCAtpcPc77NnPNZWIlBJ7QT2VoTzb3bu+xx8RXJXlrO69+/8AGuiI9K/SVdavId0NHbglUGTlsdrH/XfUM0u8SFlkZtxwwyAMlgDzbPd2Gtfqc2WbBO4pIQHuXPLPy+etc0bk5wefLPcB2fmHbXutOji5c1ubfdc+z/S1JF5KrNKijmoJBK4wcDu5CpPsx0oTgvcom5JG3HjfI3gU/wC73gM45AEHkQSDyNUBaTiEnG83klTjkP8A2NbrRNpernkg3cEbvLHPIBwe/nWG+LXWrcxcTExrJr5P6N6brsNzDBcKWEVzDZXCjJBEOpHcUZzy3ZMNnu51+21lVUyFveJPK/cM2U4t7zl6LKVIHyZqmujnaRJNA06TBz9gw/aN3OnXMJQL5WeWT6qlU88V1xkMoCu+rQgAlt4XNuLgDA7iY3P/AEGu/jxRNYmfvo+dvqLTEeUt/tdqrgvb21tqN25DkR2iTWtrIBz3JtVWFuGCeWITvZ7eWc11Hre1KDhW2iWGm2xJPDANxKT3maR5g0rfKU51NLfUbctJu3LpmO3mBSXUIIxE0UaDfaAcJMuGwF5/Jk14tf2ps7aJmmnhuAHZeENQ3zvIcMCt+QpIOARjtrJXHXW+o1UDa3cFeNLdL3yLA19axj/hTq1t5I+ZqkmhRi1hd7g3k8rYDCZtY1JQCcgLbyEc+znioXadJOjvvCWzMS5OGVrOTkPhYgmjIB+Te+etpZ6zo8nCeGaFA0qKqyDVLXJchCeMTujGffDIFXHbHbpWfl/kmlq9Zifi915rUcNwttMfcLnHVheJdabYwFQAbYWrJvXkjHLrGWIPlAbu6K122esRWemX0e9jjlY7ZRbdSXelwk3VYSeKZ9wFVZz5IbIzzFQu/wBoUuN+xE27LHJJ1Z4NVa7YTwueHuC+UDJ5nkQcE15b/U+vWNwixNHdqpjuo04s9wjRsN9LnVrw4jj5AlYxnmN0ntOS2tTDDzpf0f6x1jTcMYQLMcNGcbumWbKfISKEENqN2Dyz2bw5FG8k0z0nbXXFzcmOS5nkS2kfcWYqsquU3GZlRVSFtwsFiHvA7M26cipbsjqw0yymvJZIot2F+BOwD+XusqwaPat5JY5wbhgcjnh15LzltRtGVLAHfncszEne3C7FmLHvYk5x3nmSe2tbiMnsxCb2223G2Y4e4FTrDY3nXOSqhsbwzyXfd2855fLispJCzFmJLMckntJPfX2VyxLMSWJyWPaTX4FacztYjT6aZpSg9uhSbtxF8rbv0gR/mKmVQOB911b0WVvokGp2DnmO+j1D7SlKKUpSgUrf7D7Opqct3CbyO0kt9Ovr+BXikna8ksYWne0iWMgrI0Uc7b3lECFsK3YPNoOzGo6gnEsdN1C9j55ltLa5uYgV5EcWGMpvA8sZzyoNTSvRqNjNbSmG5gntplAZobmOS3mUHIBaKZQ4BIPMjuNeegUpSgUpSgUpSgUpSgUpSgUpXzNB9pSvRa2E8yTSRQTyx26CS4kijkkjt42O6sk7opWFCeQZiBmg89KUoFKUoFKUoFKUoFKUoFKUoFKUoFKUoPhFe651CaW1FnxMxKSwjfywD3FCRvJ8wOPkrxUrxekWhmw57Yp3Hxhq4tMd5FU8yWCgdmSTgAD562OpaXPbxiR7eVFPIGQGME/IrAMR8uAK6L8HyxjfSEkMcbSG5uPLKqX8llC+WRnlzxz5Zqotpr2S4eVZTvLvuAPNhiOVfN5fFLVy2xxXpWdTPr18n1GLgqThjJvraN/luPNXNsSX3mwckZz2cu71Vf2j7LabrtjZx3cG49ud5ZLfchlZWXdeN3C5KHkfkKgjvzRklmUZiDkAnGM+erT6L9c4YVC47uROD+bNa/it8tOXNi3E1n0+sT0+bP4Xjx3i2LJqYsszxRa2tora2mjWC1s7iztom4i7qz7h35JASHbfDMTu8y/5q2Y15rXhtdOJo4HLRxR+R7n1SaAb7FcO+/Mx7AN35a1lxrrbvIg/nFQDbLXWYMPq/wAjWjg8f8QmYjmj/jH9G3l8C4KOs1n5y29j07Q2F4pksLuZIrO2t/5NdG1XjW/vWEIHDMWRnJ5nPMVBNS6RtX1q8ihS5lhEspVI1KuUEspdjvcMKDlichQSeZJqCXoaSVvJOSauHoF2P93W6lTmoyhIPI+ccq7nH+LXpgjmn2pjpr1lyuC8LpfN0j2Ynrv0hvel7QLSwhsVito246yiczb85kZFiG83FY8zvMT8pqu9Pu7yNlj04yQ8P3Th2rtAo96obCMowDugdvaBjnVqeEQd1NOHm6wP2QVXnRzDJLqKxpgmSJ0ZWGVdCyFkbBBXIXkR2MFrS8Hve+ekTaes+vubHilKRit0jt6P3YT6rZ3LTzW14JY3YyNIkkoEh3C3E4iSI4IlTlu590XzisNxtjapcSzSSWNvJuqk9sImVRKuTxo7fjGJZueC7KvzZ5V0zplhMsBWfh3ClVYzOAkm9wbFFaQAYcb8cGSOeI5eROK5f8LXYw2upy6hbxBLYpZJcqo8qKe7F3LA0uB8KOHc3vSjA7xX3WTHOONxO3xl6RpX+2W28t3I3CeVgcjjTHefd7lRexF+QADI5DvqGkk888z2k9pPnz3mvlK05nbw/VKClAr4K+0oFTHQp+JBGT2gbh+deX9mKhxqQbIzcpI/Nhx+6f7BRYb+lKUeilKUF99EG3vUrax1XW5dPvbWwCaFpFlb2tlNr1q+EBuFkCpLFZLamRWy7GQlBu7zAv4un3atHvNWtZhr+m6pZXcNtp9tHehtFNnFJ99raokbWpmtisihd/Jki8oAMKhmwttHe6Jr9jHaW0upQCz1a0m4Qa/a1tZdzU4beb3wVImjlEa82DT8jyxETJc6hdJvST3t5dywwo80jzT3E0hSCBDNMxLsSY0G8ezdHYKKm2xW1j6i8Gia9PLe6fdyLb213cEz3uj3c7blveWl1JmUwcRo1khdihTOAMENBdasJLO4ubWcAT2k89tMozgS28jxSBSRkrvIcHvGKtDZzou1E2V4qaLfptFperadJGbgpHYSWUqyckMv8muhHcW+87KxG5MhBIDLUR6Y7hJ9Zv549RtNWNwUlkvbGBrS0lmaFA6wRNJJlFKgb4dg/Nskk0Eu13op07SjZNrG0kVnFf2VtdQLFY3N1cb8qkzcSKGQiG1jJjxMxzIS4CruEnXXnQ/eptA2grcW7hbYag2otmO2TTN3L30ibxZAG9z3AT5ZA3t074zeE3fQ3N7pLW80U6rstpUZaF0lVZBJfsYyUJAfddDu9uHXz1aWpba2FrtUBLe2sdrqWx1ppnX/AHG6trS5keeaFrkNvRGHdI3lcFfdI97CkmiKfvdhNPnsr+70PXPsq+lQC5vraWyn06Q2m8VkvbRppGE0SHmyHDKuCTkqranpC2OOkQaPMbgXH2W0i31TdEfC6uZ13jBnfbihQV8vyc8/JFWTtFFrtlYag97rOylpBPYXVtu6fHo5utVjmjw1nZizskmKSjlvkpu+SxAxlfztls+u0mkbN3VjqekQJpmiQ6ZqYv7pLV7Ga2SNWeSNlLNGcSEdhICFQwbIK0tr0MtJrthog1Eb17okesdY6uSIzIs46sIuON/y4Pum8vJ/e8ufl03orgvLuLTrDXbW7vYlmm1hlt7mPTtKtrdV48y6hIQl+FlYRjhhd4sCdwBiLcttasF270eaK/tXs02QhhS6MsSRkjr8iB2LYjlMRV9w8wGHKqZ8HnW7S3fUtO1C4Syt9b0S50vrsnkx2k8se7G8zHkkRDSAsSACEzgZID0SdG1heWt7NoGvLq9xptu11dWUllc6fNLbRnEtxZGZ246r6AGea88sob9Q9GVlDpWk6zqmvJYWepxzNw0s7i8ullSTEcUEVu5MyGMM7ykKEIRcOXGJN0e6F4ntqGr6tf6U7tpV1ZafZWF0l5Nf3Fy0JVlVFBW1XhLl2HISZIXd5xnpSvIX2Z2Ihimikkt7PV0mRHR3ibrFkqiVFOYyTG+N7GdxvNRHu17ok0/S5ovsttNbW1lfLHJpdxBZ3NzNdwSIjG5ngjfdsbdDIg32dg3Mjdwca9Ohy8+z95oclzBFHYQG9utUkVhax6fw0kF0Y97IY74Xhlhhkk8rdUvX3wir2Ke32ZEE0Uxj2T0+OQROshjkCODG4QnckyD5J58qtTa/aXTptptodNm1C2gt9f2cttNh1HiRyWsF1wJTEs8qtuojLcEkkgeSg+GKCudn+ijTtWN42j7SJdx2NlcXM6zWFzaXIeNMw8OKeQCW1kYODIDmMhAVbfBG9tNltCfYqN31uKJH11XfVvsTeSTR3DWADaZwFbjuigluKG4Zx2Zr19DWyI2fu9Vl1XVNHS4l0HUILa2tryK4aSNjFLNcSNhRFGOBGEDeU+/Id0cM1HOj+2TWNj59Ct7uyg1SDXE1JLe9njtOsWrWccBaB5OTsrF8ju3BnG8uQ0umdHdnDp9tqeua0ulW2oNN9jIY7Oe/vLyCIgG7aCJwbe3wVbnnlJHzBZQZx0TbMwR2u2thbavYXdrNounOuqrvw2sUMp1BpHu42y9vJEquzx5YgbvecDxa9oy7UaRoCaffabFqGhWJ0nULC8uYrZ8W/Ciju7Z8lJ7d+AW31JUiReeVIrz7G2NvpOnbb2Lapp15LJodiBJZzB4HuWe9WW0t5H3etPGzxKWQYzKo5HIARzVujyyfSLzVtF1sasmmPAuowSWVxp0sSXDBI7iFbhyzxZJ5EDlHJzypWq6qz+ie+hi2d22jkmijknstJWFHdEeZhcXgIiRjmQgugO7n36+eqwoFKUoFKUoFKUoFKUoFKUoFKUoFKUoFKUoOlfBtb/4MPkurketlb/OqR1oYklx8bJn6Rq6vByONGX5bq4/tWqT1xvdZv6WT95q+Fz2ieJyR/wDU/WX3PDx/42P9MfRG27T85opIOQSD5xyPrFG7T85r5X29Y9l8Raer1xanOvvZ5QPNvMR6ia1W0W0c8QRQyuzZJ31z5I5fBxzJP7DXqqFa3ccSeQ9wO6PmXl/bk/nrFbhcNu9K/KGavGZqdr2+ct1p+1nDYNJbI+Dz3XZPVvBqvLog6XLS4u7PTFs7mGW5k4SuTE8QYKzeUQwYDCnuNczDNTjoGH/8l0fln+VMf/sTGud4h4Xw9sVr8vWtZmNTPlG+23S4Hxfia5K4+bcWtETuI85131t0h4RiZTTvyrn92Cq76MNat7LVI2uZYIEmjeBJbiQQxrIzI6ZkIIU5jyM+jVheEQ/uWn/lXA/8sP1VzrtxAZY41GAeMO3sPkuMft/Ya5Hglp/6mk169XZ8W6YLfk7/ANn7lZQrpwHhOGWWGZJkZczSBUZQMEF4Dns3Ym58jVVWuiW+1Oo7axXBuDaycHRLfC+4LJp0DG3uonIw88d7Dech/wAANcgaBqmq6M5ewu57R2zvLbuGjY4K+6wnMbHmRzUkc6z6jtfrFwXj+yF9HbvPLNwopHtojJLPLcPKY42GCZZpXAOccQgV9/M2metZ/LT4z8SNI9rOnSWdxPazbvFt5GifdOVYr2Oh70YEMD5mFeMVttS04LEJVdnbePF32jZiWPJsKS3aTnPnFawjFaeTHak6tGnjcT2fBSgpXgKUFKBmtls3Lu3CjucMv7N7+1RWsFenTX3Zoj/8xf2kA/sNFTelKUeilKUHr0bU57K4hu7SZ7e6t5BLBPGQHjcAjIyCCCCylWBVlZlIIJBmUu1OiXr8fUNDntbwsJJLjQbtbKGeXOS/ULqCWK1YnBJhYAkk4FQKlB0B0U9Lji5OkWC22kWd1BqLrf61fXWozRaj1OR7S6murt1gjiMsUQaBY90mRiCWJ3qe2t2jW/js0Gm6VYy2qzpNPplvHZi+aWRGWSeOECPKBMLugD3R8YBCjQUoPgFAK+0oPgUDsAFCo7cDNfaUHzA81faUoPgUDsAHzUxX2lButK2T1C6tzdW9nLLB7sQ68MNLwF3pzBEzCS63B74xK27g5xisa7MX3UjqAtJepCNpjN5AHAWThNcCLe4pthJ5JmC7gIILcjU76O9ptLsl0mSaWOGS1F4l6JLBr+8aS5kuljms7yQlLGzWGeAskASXehn8mQy71aPUr/Tpre3ma+vUnttCtdGNjaxtC872lutkWN2+YvsZPEpleJhvkyOm7z3qDSapsdqFpCs1xYTRRs8UfYjOks6l4I5oI2MtvK4B3UkVWbHIGthqnR/f21n1i5t5Y5m1K00yG0CLNJPNdQXspVWhkbduUa0SM25Xfzcpnd5Bp148aVayXU9vJDKp1bRtUtLWPT3t53g0zUTctbX2pTM895qBikHukrtFvQuwfMm6NXs1tNpejtC0N3c6ljX4NSkBtngK2f2N1iwdsTviTUEOoRuw5IxRAHPMqENudidSWeG1awmae4SeS3jj4c/GFqjPciJ4WZJJI1UlkBLLkAgFgDlv9hNVgiknlsJVhhha4aUNA6GCNd+WeExyHrESLzdot4IAd7dqUja6zto47WGa3eNbfXnL6dp/2LtVudQ0ObS7QLE2Z5J2cpxJDuoqiIDf3S1azRtprWJtILs4Wy2f1zTpsITu3WoeMHAVB8JD9kLXLDkMtn3poqL3WgXcUl1HJbSJJYxJNdq27/J4pGgSN3OcbrG5twME54q4zWuqx9ttR4ehaakkc0OpanbWcd+sysjSadoMl1baXOVkw+7cLJAd8jyvsUpBIIzXFEKUpQKUpQKUpQKUpQKUpQKUpQKUpQKUpQdG+Dw//wAFA813cf2of86pXXfu03yTS/vtVyeDow+xJH/1k4P5xEapvablc3I81xOPVKwr4PJG+My/q/mX3OLpwmL9MfRHD2n5zSvzJIF5sQBntJAH7axm7j7m3vyeY9fZX3+DBfJERWNvhcmStZncs1QbUYys0qnudvUTkfsxUvuLkFSF5ZGM55/KP/aordwc8Z5jkCf8z31tZ+CtirEz136eTDTNF56PETU36BTjaXRyfwph67eYD+2oTuHPOpl0JPjaLR/64v7Y5BXJ4z/Yv+m30lu8H/7FP1V+sOjfCEPudh+XP+1YjXP+05wsZIBxMh5/M2f2Zq//AAgvvaxb/wCdKv8A9tD/AJVzztgxEakd0gP/AJXr5PwKZjJSY9Z/l9b4z/t3j3IyrjALZZiMsT3k8yfWaGdfl7u+vM2fP3DNfkj8/wA1fon48+UQ+F5WeSYY7T66wYByRzH9hr5yHYOf+u+vqM3mGO8fJWG9+eev7PURpjZa/NepwOXmPZ/6/LWN0I/9KwzR6Ya+H/XnrKE+WvmK88o/Ar9Rtgg+Yg+o5r8kUqCfA55+evtYLCTfijbzop/PgZ/bWej2UqGeNc/oQ+p/bp41z+hD6n9uoukzpUM8a5/Qh9T+3Txrn9CH1P7dDSZ0qGeNc/oQ+p/bp41z+hD6n9uhpM6VDPGuf0IfU/t08a5/Qh9T+3Q0mdKhnjXP6EPqf26eNc/oQ+p/boaTOlQzxrn9CH1P7dPGuf0IfU/t0NJnSoZ41z+hD6n9unjXP6EPqf26GkzpUM8a5/Qh9T+3Txrn9CH1P7dDSZ0qGeNc/oQ+p/bp41z+hD6n9uhpM6VDPGuf0IfU/t08a5/Qh9T+3Q0mjEk5JJPIZPM4ACgZPcAAPmAr5UM8a5/Qh9T+3Txrn9CH1P7dDSZ0qGeNc/oQ+p/bp41z+hD6n9uhpM6VDPGuf0IfU/t08a5/Qh9T+3Q0mdKhnjXP6EPqf26eNc/oQ+p/boaTOlQzxrn9CH1P7dPGuf0IfU/t0NJnSoZ41z+hD6n9unjXP6EPqf26GkzpUM8a5/Qh9T+3Txrn9CH1P7dDSZ0qGeNc/oQ+p/bp41z+hD6n9uhpM6VDPGuf0IfU/t08a5/Qh9T+3Q06t8Hq9ij011kliQ9clOHdEODHFzwxziqi2klBubrDA5uZ8EHORxXIIIqrjtTOf+7g+i/t19G1U/oQ/Rf264k+C1nNfLz/AOud612/d2o8ZtGKuPkj2YiN77/s217PJIxG4SAWAABxjOOw8q+QWOOahkJ82QPVWq8a5/Qh9T+3Txrn9CH6L+3X1NeN67tG/j9Oj56cHpOm5n4i++Xex3qCG/Z214Z4y2SFf5iCD/ZzryeNc/oQ+p/bp41z+hD6n9upk42b9Jj7/Na4Yh+Zbdz8B/ot9VSPohRo9e0l2BRFvIyzMCqqN1hks2ABUe8a5/Qh9T+3Q7Vz+hD6n9uufnrGWlqduaJj5xps4b/h5K378sxPynbqfp9vontbHhyxvieXIR0bHuXIndPKuftrSWiAXJ90Gd3JOMN5qjA2pnHZHAP+l/br741z+hD6n9uuVwPhFeGmJi+9e7X8urxni1uIiYmutxrv/Z+DE/oP9Fvqr7HbufgP9Fvqr9eNdx6EPqk9unjXP6EPqf267cXcblemLT27wR+Y1k6mfRPqP1V4vGuf0IfU/t08a7j0IfU/t1s14qtY6U/f+zH+FPq9E1qTy3Wx8x5fLWIwMBjcf84Y/wCVfjxrn9CH1P7dPGuf0IfU/t1jvni071p6jH73w2z+g30T9VfhoH9B/ot9VZPGuf0IfU/t08a7j0IfU/t1h5l5WAwv8W/0W+qvzwH9B/ot9VenxruPQh9Unt08a7j0IfU/t1NnKkOzbHgBWBBRmXygRyzkdvz/ALK2VQzxrn9CH1P7dPGuf0IfU/t1HrTQUpSopSlKBSlKBSlKBSlKBSlKBSlKBSlKBSlKBSlKBSlKBSlKBSlKBSlKBSlKBSlKBSlKBSlKBSlKBSlKBSlKBSlKBSlKBSlKBSlKBSlKBSlKBSlKBSlKBSlKBSlKBSlKBSlKBSlKBSlKBSlKBSlKBSlKBSlKBSlKBSlKBSlKBSlKBSlKBSlKBSlKBSlKBSlKBSlKBSlKBSlKBSlKBSlKBSlKBSlKBSlKBSlKBSlKBSlKBSlKBSlKBSlKBSlKBSlKBSlKBSlKBSlKBSlKBSlKBSlKBSlKBSlKBSlKBSlKBSlKBSlKBSlKBSlKBSlKBSlKBSlKBSlKBSlKBSlKBSlKBSlKBSlKBSlKBSlKBSlKD//Z\n"
                },
                "metadata": {}
              }
            ]
          }
        },
        "d34950603be94783b6d9ae0006ba8937": {
          "model_module": "@jupyter-widgets/output",
          "model_name": "OutputModel",
          "model_module_version": "1.0.0",
          "state": {
            "_dom_classes": [],
            "_model_module": "@jupyter-widgets/output",
            "_model_module_version": "1.0.0",
            "_model_name": "OutputModel",
            "_view_count": null,
            "_view_module": "@jupyter-widgets/output",
            "_view_module_version": "1.0.0",
            "_view_name": "OutputView",
            "layout": "IPY_MODEL_93ef92a73d054f4fb0f9d1a877e86402",
            "msg_id": "",
            "outputs": [
              {
                "output_type": "stream",
                "name": "stdout",
                "text": [
                  "Video available at https://www.bilibili.com/video/BV18A411v7Yy\n"
                ]
              },
              {
                "output_type": "display_data",
                "data": {
                  "text/plain": "<__main__.BiliVideo at 0x7f78ef563f90>",
                  "text/html": "\n        <iframe\n            width=\"854\"\n            height=\"480\"\n            src=\"https://player.bilibili.com/player.html?bvid=BV18A411v7Yy&page=1?fs=1\"\n            frameborder=\"0\"\n            allowfullscreen\n        ></iframe>\n        "
                },
                "metadata": {}
              }
            ]
          }
        },
        "7eece311ea394803be857d8d74ea13dd": {
          "model_module": "@jupyter-widgets/base",
          "model_name": "LayoutModel",
          "model_module_version": "1.2.0",
          "state": {
            "_model_module": "@jupyter-widgets/base",
            "_model_module_version": "1.2.0",
            "_model_name": "LayoutModel",
            "_view_count": null,
            "_view_module": "@jupyter-widgets/base",
            "_view_module_version": "1.2.0",
            "_view_name": "LayoutView",
            "align_content": null,
            "align_items": null,
            "align_self": null,
            "border": null,
            "bottom": null,
            "display": null,
            "flex": null,
            "flex_flow": null,
            "grid_area": null,
            "grid_auto_columns": null,
            "grid_auto_flow": null,
            "grid_auto_rows": null,
            "grid_column": null,
            "grid_gap": null,
            "grid_row": null,
            "grid_template_areas": null,
            "grid_template_columns": null,
            "grid_template_rows": null,
            "height": null,
            "justify_content": null,
            "justify_items": null,
            "left": null,
            "margin": null,
            "max_height": null,
            "max_width": null,
            "min_height": null,
            "min_width": null,
            "object_fit": null,
            "object_position": null,
            "order": null,
            "overflow": null,
            "overflow_x": null,
            "overflow_y": null,
            "padding": null,
            "right": null,
            "top": null,
            "visibility": null,
            "width": null
          }
        },
        "1728cc291f1d4ee7ab7a57c8b12ffd86": {
          "model_module": "@jupyter-widgets/base",
          "model_name": "LayoutModel",
          "model_module_version": "1.2.0",
          "state": {
            "_model_module": "@jupyter-widgets/base",
            "_model_module_version": "1.2.0",
            "_model_name": "LayoutModel",
            "_view_count": null,
            "_view_module": "@jupyter-widgets/base",
            "_view_module_version": "1.2.0",
            "_view_name": "LayoutView",
            "align_content": null,
            "align_items": null,
            "align_self": null,
            "border": null,
            "bottom": null,
            "display": null,
            "flex": null,
            "flex_flow": null,
            "grid_area": null,
            "grid_auto_columns": null,
            "grid_auto_flow": null,
            "grid_auto_rows": null,
            "grid_column": null,
            "grid_gap": null,
            "grid_row": null,
            "grid_template_areas": null,
            "grid_template_columns": null,
            "grid_template_rows": null,
            "height": null,
            "justify_content": null,
            "justify_items": null,
            "left": null,
            "margin": null,
            "max_height": null,
            "max_width": null,
            "min_height": null,
            "min_width": null,
            "object_fit": null,
            "object_position": null,
            "order": null,
            "overflow": null,
            "overflow_x": null,
            "overflow_y": null,
            "padding": null,
            "right": null,
            "top": null,
            "visibility": null,
            "width": null
          }
        },
        "93ef92a73d054f4fb0f9d1a877e86402": {
          "model_module": "@jupyter-widgets/base",
          "model_name": "LayoutModel",
          "model_module_version": "1.2.0",
          "state": {
            "_model_module": "@jupyter-widgets/base",
            "_model_module_version": "1.2.0",
            "_model_name": "LayoutModel",
            "_view_count": null,
            "_view_module": "@jupyter-widgets/base",
            "_view_module_version": "1.2.0",
            "_view_name": "LayoutView",
            "align_content": null,
            "align_items": null,
            "align_self": null,
            "border": null,
            "bottom": null,
            "display": null,
            "flex": null,
            "flex_flow": null,
            "grid_area": null,
            "grid_auto_columns": null,
            "grid_auto_flow": null,
            "grid_auto_rows": null,
            "grid_column": null,
            "grid_gap": null,
            "grid_row": null,
            "grid_template_areas": null,
            "grid_template_columns": null,
            "grid_template_rows": null,
            "height": null,
            "justify_content": null,
            "justify_items": null,
            "left": null,
            "margin": null,
            "max_height": null,
            "max_width": null,
            "min_height": null,
            "min_width": null,
            "object_fit": null,
            "object_position": null,
            "order": null,
            "overflow": null,
            "overflow_x": null,
            "overflow_y": null,
            "padding": null,
            "right": null,
            "top": null,
            "visibility": null,
            "width": null
          }
        }
      }
    }
  },
  "nbformat": 4,
  "nbformat_minor": 0
}