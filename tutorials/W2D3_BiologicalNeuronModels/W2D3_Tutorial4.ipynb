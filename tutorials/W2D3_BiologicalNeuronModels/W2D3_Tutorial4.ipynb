{
  "nbformat": 4,
  "nbformat_minor": 0,
  "metadata": {
    "colab": {
      "name": " W2D3_Tutorial4",
      "provenance": [],
      "collapsed_sections": [],
      "toc_visible": true,
      "include_colab_link": true
    },
    "kernel": {
      "display_name": "Python 3",
      "language": "python",
      "name": "python3"
    },
    "kernelspec": {
      "display_name": "Python 3",
      "name": "python3"
    },
    "language_info": {
      "codemirror_mode": {
        "name": "ipython",
        "version": 3
      },
      "file_extension": ".py",
      "mimetype": "text/x-python",
      "name": "python",
      "nbconvert_exporter": "python",
      "pygments_lexer": "ipython3",
      "version": "3.7.10"
    },
    "widgets": {
      "application/vnd.jupyter.widget-state+json": {
        "58acf544034a4bd79e232d4142288d2b": {
          "model_module": "@jupyter-widgets/controls",
          "model_name": "TabModel",
          "state": {
            "_view_name": "TabView",
            "_dom_classes": [],
            "_titles": {
              "0": "Youtube",
              "1": "Bilibili"
            },
            "_model_name": "TabModel",
            "_view_module": "@jupyter-widgets/controls",
            "selected_index": 0,
            "_model_module_version": "1.5.0",
            "_view_count": null,
            "_view_module_version": "1.5.0",
            "box_style": "",
            "layout": "IPY_MODEL_b70945ce78114b1dbd88d6ad5ad0547c",
            "_model_module": "@jupyter-widgets/controls",
            "children": [
              "IPY_MODEL_832601849fa240cba9bdc51621696832",
              "IPY_MODEL_97bdd355a989441ea01238489664bcd3"
            ]
          }
        },
        "b70945ce78114b1dbd88d6ad5ad0547c": {
          "model_module": "@jupyter-widgets/base",
          "model_name": "LayoutModel",
          "state": {
            "_view_name": "LayoutView",
            "grid_template_rows": null,
            "right": null,
            "justify_content": null,
            "_view_module": "@jupyter-widgets/base",
            "overflow": null,
            "_model_module_version": "1.2.0",
            "_view_count": null,
            "flex_flow": null,
            "width": null,
            "min_width": null,
            "border": null,
            "align_items": null,
            "bottom": null,
            "_model_module": "@jupyter-widgets/base",
            "top": null,
            "grid_column": null,
            "overflow_y": null,
            "overflow_x": null,
            "grid_auto_flow": null,
            "grid_area": null,
            "grid_template_columns": null,
            "flex": null,
            "_model_name": "LayoutModel",
            "justify_items": null,
            "grid_row": null,
            "max_height": null,
            "align_content": null,
            "visibility": null,
            "align_self": null,
            "height": null,
            "min_height": null,
            "padding": null,
            "grid_auto_rows": null,
            "grid_gap": null,
            "max_width": null,
            "order": null,
            "_view_module_version": "1.2.0",
            "grid_template_areas": null,
            "object_position": null,
            "object_fit": null,
            "grid_auto_columns": null,
            "margin": null,
            "display": null,
            "left": null
          }
        },
        "832601849fa240cba9bdc51621696832": {
          "model_module": "@jupyter-widgets/output",
          "model_name": "OutputModel",
          "state": {
            "_view_name": "OutputView",
            "msg_id": "",
            "_dom_classes": [],
            "_model_name": "OutputModel",
            "outputs": [
              {
                "output_type": "stream",
                "metadata": {
                  "tags": []
                },
                "text": "Video available at https://youtube.com/watch?v=luHL-mO5S1w\n",
                "stream": "stdout"
              },
              {
                "output_type": "display_data",
                "metadata": {
                  "tags": []
                },
                "text/html": "\n        <iframe\n            width=\"854\"\n            height=\"480\"\n            src=\"https://www.youtube.com/embed/luHL-mO5S1w?fs=1&rel=0\"\n            frameborder=\"0\"\n            allowfullscreen\n        ></iframe>\n        ",
                "text/plain": "<IPython.lib.display.YouTubeVideo at 0x7f428b022590>",
                "image/jpeg": "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\n"
              }
            ],
            "_view_module": "@jupyter-widgets/output",
            "_model_module_version": "1.0.0",
            "_view_count": null,
            "_view_module_version": "1.0.0",
            "layout": "IPY_MODEL_08e8968cfa9343fca60ab7c9bfc6b468",
            "_model_module": "@jupyter-widgets/output"
          }
        },
        "97bdd355a989441ea01238489664bcd3": {
          "model_module": "@jupyter-widgets/output",
          "model_name": "OutputModel",
          "state": {
            "_view_name": "OutputView",
            "msg_id": "",
            "_dom_classes": [],
            "_model_name": "OutputModel",
            "outputs": [
              {
                "output_type": "stream",
                "metadata": {
                  "tags": []
                },
                "text": "Video available at https://www.bilibili.com/video/BV1AV411r75K\n",
                "stream": "stdout"
              },
              {
                "output_type": "display_data",
                "metadata": {
                  "tags": []
                },
                "text/html": "\n        <iframe\n            width=\"854\"\n            height=\"480\"\n            src=\"https://player.bilibili.com/player.html?bvid=BV1AV411r75K&page=1?fs=1\"\n            frameborder=\"0\"\n            allowfullscreen\n        ></iframe>\n        ",
                "text/plain": "<__main__.BiliVideo at 0x7f4284e9dfd0>"
              }
            ],
            "_view_module": "@jupyter-widgets/output",
            "_model_module_version": "1.0.0",
            "_view_count": null,
            "_view_module_version": "1.0.0",
            "layout": "IPY_MODEL_02c0e716553147d1a386058b10b27767",
            "_model_module": "@jupyter-widgets/output"
          }
        },
        "08e8968cfa9343fca60ab7c9bfc6b468": {
          "model_module": "@jupyter-widgets/base",
          "model_name": "LayoutModel",
          "state": {
            "_view_name": "LayoutView",
            "grid_template_rows": null,
            "right": null,
            "justify_content": null,
            "_view_module": "@jupyter-widgets/base",
            "overflow": null,
            "_model_module_version": "1.2.0",
            "_view_count": null,
            "flex_flow": null,
            "width": null,
            "min_width": null,
            "border": null,
            "align_items": null,
            "bottom": null,
            "_model_module": "@jupyter-widgets/base",
            "top": null,
            "grid_column": null,
            "overflow_y": null,
            "overflow_x": null,
            "grid_auto_flow": null,
            "grid_area": null,
            "grid_template_columns": null,
            "flex": null,
            "_model_name": "LayoutModel",
            "justify_items": null,
            "grid_row": null,
            "max_height": null,
            "align_content": null,
            "visibility": null,
            "align_self": null,
            "height": null,
            "min_height": null,
            "padding": null,
            "grid_auto_rows": null,
            "grid_gap": null,
            "max_width": null,
            "order": null,
            "_view_module_version": "1.2.0",
            "grid_template_areas": null,
            "object_position": null,
            "object_fit": null,
            "grid_auto_columns": null,
            "margin": null,
            "display": null,
            "left": null
          }
        },
        "02c0e716553147d1a386058b10b27767": {
          "model_module": "@jupyter-widgets/base",
          "model_name": "LayoutModel",
          "state": {
            "_view_name": "LayoutView",
            "grid_template_rows": null,
            "right": null,
            "justify_content": null,
            "_view_module": "@jupyter-widgets/base",
            "overflow": null,
            "_model_module_version": "1.2.0",
            "_view_count": null,
            "flex_flow": null,
            "width": null,
            "min_width": null,
            "border": null,
            "align_items": null,
            "bottom": null,
            "_model_module": "@jupyter-widgets/base",
            "top": null,
            "grid_column": null,
            "overflow_y": null,
            "overflow_x": null,
            "grid_auto_flow": null,
            "grid_area": null,
            "grid_template_columns": null,
            "flex": null,
            "_model_name": "LayoutModel",
            "justify_items": null,
            "grid_row": null,
            "max_height": null,
            "align_content": null,
            "visibility": null,
            "align_self": null,
            "height": null,
            "min_height": null,
            "padding": null,
            "grid_auto_rows": null,
            "grid_gap": null,
            "max_width": null,
            "order": null,
            "_view_module_version": "1.2.0",
            "grid_template_areas": null,
            "object_position": null,
            "object_fit": null,
            "grid_auto_columns": null,
            "margin": null,
            "display": null,
            "left": null
          }
        }
      }
    }
  },
  "cells": [
    {
      "cell_type": "markdown",
      "metadata": {
        "id": "view-in-github",
        "colab_type": "text"
      },
      "source": [
        "<a href=\"https://colab.research.google.com/github/NeuromatchAcademy/course-content/blob/W2D3_updates/tutorials/W2D3_BiologicalNeuronModels/W2D3_Tutorial4.ipynb\" target=\"_parent\"><img src=\"https://colab.research.google.com/assets/colab-badge.svg\" alt=\"Open In Colab\"/></a>"
      ]
    },
    {
      "cell_type": "markdown",
      "metadata": {
        "id": "Rweww4rDIwHR"
      },
      "source": [
        "# Bonus Tutorial: Spike-timing dependent plasticity (STDP)\n",
        "**Week 2, Day 3: Biological Neuron Models**\n",
        "\n",
        "**By Neuromatch Academy**\n",
        "\n",
        "__Content creators:__ Qinglong Gu, Songtin Li, John Murray, Richard Naud, Arvind Kumar\n",
        "\n",
        "__Content reviewers:__ Spiros Chavlis, Lorenzo Fontolan, Richard Gao, Matthew Krause"
      ]
    },
    {
      "cell_type": "markdown",
      "metadata": {
        "id": "pHPWA7VlIwHX"
      },
      "source": [
        "**Our 2021 Sponsors, including Presenting Sponsor Facebook Reality Labs**\n",
        "\n",
        "<p align='center'><img src='https://github.com/NeuromatchAcademy/widgets/blob/master/sponsors.png?raw=True'/></p>"
      ]
    },
    {
      "cell_type": "markdown",
      "metadata": {
        "id": "B0ab2P4DIwHZ"
      },
      "source": [
        "---\n",
        "# Tutorial Objectives\n",
        "In this tutorial, we will focus on building a model of a synapse in which its synaptic strength changes as a function of the relative timing (i.e., time difference) between the spikes of the presynaptic and postsynaptic neurons, respectively. This change in the synaptic weight is known as **spike-timing dependent plasticity (STDP)**.\n",
        "\n",
        "Our goals for this tutorial are to:\n",
        "\n",
        "- build a model of synapse that show STDP\n",
        "\n",
        "- study how correlations in input spike trains influence the distribution of synaptic weights\n",
        "\n",
        "Towards these goals, we will model the presynaptic input as Poisson type spike trains. The postsynaptic neuron will be modeled as an LIF neuron (see Tutorial 1).\n",
        "\n",
        "Throughout this tutorial, we assume that a single postsynaptic neuron is driven by $N$ presynaptic neurons. That is, there are $N$ synapses, and we will study how their weights depend on the statistics or the input spike trains and their timing with respect to the spikes of the postsynaptic neuron.\n"
      ]
    },
    {
      "cell_type": "markdown",
      "metadata": {
        "id": "2zOxM0FQIwHb"
      },
      "source": [
        "---\n",
        "# Setup"
      ]
    },
    {
      "cell_type": "code",
      "metadata": {
        "cellView": "both",
        "execution": {
          "iopub.execute_input": "2021-06-25T18:11:12.470878Z",
          "iopub.status.busy": "2021-06-25T18:11:12.470424Z",
          "iopub.status.idle": "2021-06-25T18:11:12.726948Z",
          "shell.execute_reply": "2021-06-25T18:11:12.727413Z"
        },
        "id": "qXZ5wXGkIwHd"
      },
      "source": [
        "# Import libraries\n",
        "import matplotlib.pyplot as plt\n",
        "import numpy as np\n",
        "import time"
      ],
      "execution_count": 1,
      "outputs": []
    },
    {
      "cell_type": "code",
      "metadata": {
        "cellView": "form",
        "execution": {
          "iopub.execute_input": "2021-06-25T18:11:12.733094Z",
          "iopub.status.busy": "2021-06-25T18:11:12.731652Z",
          "iopub.status.idle": "2021-06-25T18:11:12.804751Z",
          "shell.execute_reply": "2021-06-25T18:11:12.804289Z"
        },
        "id": "BcZHtwG-IwHe"
      },
      "source": [
        "# @title Figure Settings\n",
        "import ipywidgets as widgets       # interactive display\n",
        "\n",
        "%config InlineBackend.figure_format='retina'\n",
        "# use NMA plot style\n",
        "plt.style.use(\"https://raw.githubusercontent.com/NeuromatchAcademy/course-content/master/nma.mplstyle\")\n",
        "my_layout = widgets.Layout()"
      ],
      "execution_count": 2,
      "outputs": []
    },
    {
      "cell_type": "code",
      "metadata": {
        "execution": {
          "iopub.execute_input": "2021-06-25T18:11:12.822461Z",
          "iopub.status.busy": "2021-06-25T18:11:12.817335Z",
          "iopub.status.idle": "2021-06-25T18:11:12.825029Z",
          "shell.execute_reply": "2021-06-25T18:11:12.825368Z"
        },
        "id": "ogJauG3kIwHe",
        "cellView": "form"
      },
      "source": [
        "# @title Helper functions\n",
        "\n",
        "def default_pars_STDP(**kwargs):\n",
        "  pars = {}\n",
        "\n",
        "  # typical neuron parameters\n",
        "  pars['V_th'] = -55.     # spike threshold [mV]\n",
        "  pars['V_reset'] = -75.  # reset potential [mV]\n",
        "  pars['tau_m'] = 10.     # membrane time constant [ms]\n",
        "  pars['V_init'] = -65.   # initial potential [mV]\n",
        "  pars['V_L'] = -75.      # leak reversal potential [mV]\n",
        "  pars['tref'] = 2.       # refractory time (ms)\n",
        "\n",
        "  # STDP parameters\n",
        "  pars['A_plus'] = 0.008                   # magnitude of LTP\n",
        "  pars['A_minus'] = pars['A_plus'] * 1.10  # magnitude of LTD\n",
        "  pars['tau_stdp'] = 20.                   # STDP time constant [ms]\n",
        "\n",
        "  # simulation parameters\n",
        "  pars['T'] = 400.  # Total duration of simulation [ms]\n",
        "  pars['dt'] = .1   # Simulation time step [ms]\n",
        "\n",
        "  # external parameters if any\n",
        "  for k in kwargs:\n",
        "    pars[k] = kwargs[k]\n",
        "\n",
        "  pars['range_t'] = np.arange(0, pars['T'], pars['dt'])  # Vector of discretized time points [ms]\n",
        "\n",
        "  return pars\n",
        "\n",
        "def Poisson_generator(pars, rate, n, myseed=False):\n",
        "  \"\"\"Generates poisson trains\n",
        "\n",
        "  Args:\n",
        "    pars            : parameter dictionary\n",
        "    rate            : noise amplitute [Hz]\n",
        "    n               : number of Poisson trains\n",
        "    myseed          : random seed. int or boolean\n",
        "\n",
        "  Returns:\n",
        "    pre_spike_train : spike train matrix, ith row represents whether\n",
        "                      there is a spike in ith spike train over time\n",
        "                      (1 if spike, 0 otherwise)\n",
        "  \"\"\"\n",
        "\n",
        "  # Retrieve simulation parameters\n",
        "  dt, range_t = pars['dt'], pars['range_t']\n",
        "  Lt = range_t.size\n",
        "\n",
        "  # set random seed\n",
        "  if myseed:\n",
        "    np.random.seed(seed=myseed)\n",
        "  else:\n",
        "    np.random.seed()\n",
        "\n",
        "  # generate uniformly distributed random variables\n",
        "  u_rand = np.random.rand(n, Lt)\n",
        "\n",
        "  # generate Poisson train\n",
        "  poisson_train = 1. * (u_rand < rate * (dt / 1000.))\n",
        "\n",
        "  return poisson_train\n",
        "\n",
        "\n",
        "def my_raster_plot(range_t, spike_train, n):\n",
        "  \"\"\"Generates poisson trains\n",
        "\n",
        "  Args:\n",
        "    range_t     : time sequence\n",
        "    spike_train : binary spike trains, with shape (N, Lt)\n",
        "    n           : number of Poisson trains plot\n",
        "\n",
        "  Returns:\n",
        "    Raster_plot of the spike train\n",
        "  \"\"\"\n",
        "\n",
        "  # Find the number of all the spike trains\n",
        "  N = spike_train.shape[0]\n",
        "\n",
        "  # n should be smaller than N:\n",
        "  if n > N:\n",
        "    print('The number n exceeds the size of spike trains')\n",
        "    print('The number n is set to be the size of spike trains')\n",
        "    n = N\n",
        "\n",
        "  # Raster plot\n",
        "  i = 0\n",
        "  while i <= n:\n",
        "    if spike_train[i, :].sum() > 0.:\n",
        "      t_sp = range_t[spike_train[i, :] > 0.5]  # spike times\n",
        "      plt.plot(t_sp, i * np.ones(len(t_sp)), 'k|', ms=10, markeredgewidth=2)\n",
        "    i += 1\n",
        "  plt.xlim([range_t[0], range_t[-1]])\n",
        "  plt.ylim([-0.5, n + 0.5])\n",
        "  plt.xlabel('Time (ms)')\n",
        "  plt.ylabel('Neuron ID')\n",
        "\n",
        "\n",
        "def my_example_P():\n",
        "  spT = pre_spike_train_ex[pre_spike_train_ex.sum(axis=1) > 0., :]\n",
        "  plt.figure(figsize=(7, 6))\n",
        "  plt.subplot(211)\n",
        "  color_set = ['r', 'b', 'k', 'orange', 'c']\n",
        "  for i in range(spT.shape[0]):\n",
        "    t_sp = pars['range_t'][spT[i, :] > 0.5]   # spike times\n",
        "    plt.plot(t_sp, i*np.ones(len(t_sp)), '|', color=color_set[i],\n",
        "             ms=10, markeredgewidth=2)\n",
        "  plt.xlabel('Time (ms)')\n",
        "  plt.ylabel('Neuron ID')\n",
        "  plt.xlim(0, 200)\n",
        "\n",
        "  plt.subplot(212)\n",
        "  for k in range(5):\n",
        "    plt.plot(pars['range_t'], P[k, :], color=color_set[k], lw=1.5)\n",
        "  plt.xlabel('Time (s)')\n",
        "  plt.ylabel('P(t)')\n",
        "  plt.xlim(0, 200)\n",
        "\n",
        "  plt.tight_layout()\n",
        "\n",
        "\n",
        "def mySTDP_plot(A_plus, A_minus, tau_stdp, time_diff, dW):\n",
        "  plt.figure()\n",
        "  plt.plot([-5 * tau_stdp, 5 * tau_stdp], [0, 0], 'k', linestyle=':')\n",
        "  plt.plot([0, 0], [-A_minus, A_plus], 'k', linestyle=':')\n",
        "\n",
        "  plt.plot(time_diff[time_diff <= 0], dW[time_diff <= 0], 'ro')\n",
        "  plt.plot(time_diff[time_diff > 0], dW[time_diff > 0], 'bo')\n",
        "\n",
        "  plt.xlabel(r't$_{\\mathrm{pre}}$ - t$_{\\mathrm{post}}$ (ms)')\n",
        "  plt.ylabel(r'$\\Delta$W', fontsize=12)\n",
        "  plt.title('Biphasic STDP', fontsize=12, fontweight='bold')\n",
        "  plt.show()"
      ],
      "execution_count": 3,
      "outputs": []
    },
    {
      "cell_type": "markdown",
      "metadata": {
        "id": "sKO03T16IwHg"
      },
      "source": [
        "---\n",
        "# Section 1: Spike-timing dependent plasticity (STDP)"
      ]
    },
    {
      "cell_type": "code",
      "metadata": {
        "execution": {
          "iopub.execute_input": "2021-06-25T18:11:12.835159Z",
          "iopub.status.busy": "2021-06-25T18:11:12.833364Z",
          "iopub.status.idle": "2021-06-25T18:11:12.892139Z",
          "shell.execute_reply": "2021-06-25T18:11:12.891774Z"
        },
        "id": "KfLAj0vrIwHh",
        "cellView": "form",
        "outputId": "7ece99a0-6205-4731-f194-4af170773760",
        "colab": {
          "base_uri": "https://localhost:8080/",
          "height": 580,
          "referenced_widgets": [
            "58acf544034a4bd79e232d4142288d2b",
            "b70945ce78114b1dbd88d6ad5ad0547c",
            "832601849fa240cba9bdc51621696832",
            "97bdd355a989441ea01238489664bcd3",
            "08e8968cfa9343fca60ab7c9bfc6b468",
            "02c0e716553147d1a386058b10b27767"
          ]
        }
      },
      "source": [
        "# @title Video 1: STDP\n",
        "from ipywidgets import widgets\n",
        "\n",
        "out2 = widgets.Output()\n",
        "with out2:\n",
        "  from IPython.display import IFrame\n",
        "  class BiliVideo(IFrame):\n",
        "      def __init__(self, id, page=1, width=400, height=300, **kwargs):\n",
        "          self.id=id\n",
        "          src = 'https://player.bilibili.com/player.html?bvid={0}&page={1}'.format(id, page)\n",
        "          super(BiliVideo, self).__init__(src, width, height, **kwargs)\n",
        "\n",
        "  video = BiliVideo(id=\"BV1AV411r75K\", width=854, height=480, fs=1)\n",
        "  print('Video available at https://www.bilibili.com/video/{0}'.format(video.id))\n",
        "  display(video)\n",
        "\n",
        "out1 = widgets.Output()\n",
        "with out1:\n",
        "  from IPython.display import YouTubeVideo\n",
        "  video = YouTubeVideo(id=\"luHL-mO5S1w\", width=854, height=480, fs=1, rel=0)\n",
        "  print('Video available at https://youtube.com/watch?v=' + video.id)\n",
        "  display(video)\n",
        "\n",
        "out = widgets.Tab([out1, out2])\n",
        "out.set_title(0, 'Youtube')\n",
        "out.set_title(1, 'Bilibili')\n",
        "\n",
        "display(out)"
      ],
      "execution_count": 5,
      "outputs": [
        {
          "output_type": "display_data",
          "data": {
            "application/vnd.jupyter.widget-view+json": {
              "model_id": "58acf544034a4bd79e232d4142288d2b",
              "version_minor": 0,
              "version_major": 2
            },
            "text/plain": [
              "Tab(children=(Output(), Output()), _titles={'0': 'Youtube', '1': 'Bilibili'})"
            ]
          },
          "metadata": {
            "tags": []
          }
        }
      ]
    },
    {
      "cell_type": "markdown",
      "metadata": {
        "id": "LzwkR0HbIwHm"
      },
      "source": [
        "## Model of STDP\n",
        "\n",
        "The phenomenology of STDP is generally described as a biphasic exponentially decaying function. That is, the instantaneous change in weights is given by:\n",
        "\n",
        "\\begin{eqnarray}\n",
        "& \\Delta W &=& A_+ e^{ (t_{pre}-t_{post})/\\tau_+}  & \\text{if} \\hspace{5mm}  t_{post} > t_{pre}& \\\\\n",
        "& \\Delta W &=& -A_- e^{- (t_{pre}-t_{post})/\\tau_-}   &\\text{if} \\hspace{5mm} t_{post} < t_{pre}& \\\\\n",
        "\\end{eqnarray}\n",
        "\n",
        "where $\\Delta W$ denotes the change in the synaptic weight, $A_+$ and $A_-$ determine the maxmimum amount of synaptic modification (which occurs when the timing difference between presynaptic and postsynaptic spikes is close to zero), $\\tau_+$ and $\\tau_-$ determine the ranges of pre-to-postsynaptic interspike intervals over which synaptic strengthening or weakening occurs. Thus, $\\Delta W > 0 $ means that postsynaptic neuron spikes after the presynaptic neuron.\n",
        "\n",
        "This model captures the phenomena that repeated occurrences of presynaptic spikes within a few milliseconds **before** postsynaptic action potentials lead to long-term potentiation (LTP) of the synapse, whereas repeated occurrences of presynaptic spikes **after** the postsynaptic ones lead to long-term depression (LTD) of the same synapse.\n",
        "\n",
        "The latency between presynaptic and postsynaptic spike ($\\Delta t$) is defined as:\n",
        "\n",
        "\\begin{eqnarray}\n",
        "\\Delta t = t_{\\rm pre} - t_{\\rm post}\n",
        "\\end{eqnarray}\n",
        "\n",
        "where $t_{\\rm pre}$ and $t_{\\rm post}$ are the timings of the presynaptic and postsynaptic spikes, respectively.\n"
      ]
    },
    {
      "cell_type": "markdown",
      "metadata": {
        "id": "iZWQd8wBIwHn"
      },
      "source": [
        "Complete the following code to set the STDP parameters and plot the STDP function. Note that for simplicity, we assume **$\\tau_{+} = \\tau_{-} = \\tau_{\\rm stdp}$**."
      ]
    },
    {
      "cell_type": "markdown",
      "metadata": {
        "id": "TfW3JKPJIwHo"
      },
      "source": [
        "## Coding Exercise 1A: Compute the STDP changes $\\Delta W$\n",
        "\n",
        "Note, as shown above, the expression of $\\Delta W$ is different for $t_{post}>t_{pre}$ and $t_{post}<t_{pre}$. In the code, we use the parameter `time_diff` that describes the $t_{pre}-t_{post}$, as given above.\n",
        "\n",
        "After implementing the code, you can visualize the STDP kernel, which describes how much the synaptic weight will change given a latency between the presynaptic and postsynaptic spikes. "
      ]
    },
    {
      "cell_type": "code",
      "metadata": {
        "execution": {
          "iopub.execute_input": "2021-06-25T18:11:12.904590Z",
          "iopub.status.busy": "2021-06-25T18:11:12.903713Z",
          "iopub.status.idle": "2021-06-25T18:11:12.905072Z",
          "shell.execute_reply": "2021-06-25T18:11:12.905418Z"
        },
        "id": "ln2O5dgUIwHr"
      },
      "source": [
        "def Delta_W(pars, A_plus, A_minus, tau_stdp):\n",
        "  \"\"\"\n",
        "  Plot STDP biphasic exponential decaying function\n",
        "\n",
        "  Args:\n",
        "    pars       : parameter dictionary\n",
        "    A_plus     : (float) maxmimum amount of synaptic modification\n",
        "                 which occurs when the timing difference between pre- and\n",
        "                 post-synaptic spikes is positive\n",
        "    A_plus     : (float) maxmimum amount of synaptic modification\n",
        "                 which occurs when the timing difference between pre- and\n",
        "                 post-synaptic spikes is negative\n",
        "    tau_stdp   : the ranges of pre-to-postsynaptic interspike intervals\n",
        "                 over which synaptic strengthening or weakening occurs\n",
        "\n",
        "  Returns:\n",
        "    dW         : instantaneous change in weights\n",
        "  \"\"\"\n",
        "  #######################################################################\n",
        "  ## TODO for students: compute dP, then remove the NotImplementedError #\n",
        "  # Fill out when you finish the function\n",
        "  raise NotImplementedError(\"Student excercise: compute dW, the change in weights!\")\n",
        "  #######################################################################\n",
        "  # STDP change\n",
        "  dW = np.zeros(len(time_diff))\n",
        "  # Calculate dW for LTP\n",
        "  dW[time_diff <= 0] = ...\n",
        "  # Calculate dW for LTD\n",
        "  dW[time_diff > 0] = ...\n",
        "\n",
        "  return dW\n",
        "\n",
        "\n",
        "pars = default_pars_STDP()\n",
        "# Get parameters\n",
        "A_plus, A_minus, tau_stdp = pars['A_plus'], pars['A_minus'], pars['tau_stdp']\n",
        "# pre_spike time - post_spike time\n",
        "time_diff = np.linspace(-5 * tau_stdp, 5 * tau_stdp, 50)\n",
        "\n",
        "dW = Delta_W(pars, A_plus, A_minus, tau_stdp)\n",
        "mySTDP_plot(A_plus, A_minus, tau_stdp, time_diff, dW)"
      ],
      "execution_count": null,
      "outputs": []
    },
    {
      "cell_type": "code",
      "metadata": {
        "execution": {
          "iopub.execute_input": "2021-06-25T18:11:12.911330Z",
          "iopub.status.busy": "2021-06-25T18:11:12.910883Z",
          "iopub.status.idle": "2021-06-25T18:11:13.326117Z",
          "shell.execute_reply": "2021-06-25T18:11:13.325718Z"
        },
        "id": "uk44hY_WIwHw"
      },
      "source": [
        "# to_remove solution\n",
        "def Delta_W(pars, A_plus, A_minus, tau_stdp):\n",
        "  \"\"\"\n",
        "  Plot STDP biphasic exponential decaying function\n",
        "\n",
        "  Args:\n",
        "    pars       : parameter dictionary\n",
        "    A_plus     : (float) maxmimum amount of synaptic modification\n",
        "                 which occurs when the timing difference between pre- and\n",
        "                 post-synaptic spikes is positive\n",
        "    A_plus     : (float) maxmimum amount of synaptic modification\n",
        "                 which occurs when the timing difference between pre- and\n",
        "                 post-synaptic spikes is negative\n",
        "    tau_stdp   : the ranges of pre-to-postsynaptic interspike intervals\n",
        "                 over which synaptic strengthening or weakening occurs\n",
        "\n",
        "  Returns:\n",
        "    dW         : instantaneous change in weights\n",
        "  \"\"\"\n",
        "\n",
        "  # STDP change\n",
        "  dW = np.zeros(len(time_diff))\n",
        "  # Calculate dW for LTP\n",
        "  dW[time_diff <= 0] = A_plus * np.exp(time_diff[time_diff <= 0] / tau_stdp)\n",
        "  # Calculate dW for LTD\n",
        "  dW[time_diff > 0] = -A_minus * np.exp(-time_diff[time_diff > 0] / tau_stdp)\n",
        "\n",
        "  return dW\n",
        "\n",
        "\n",
        "pars = default_pars_STDP()\n",
        "# Get parameters\n",
        "A_plus, A_minus, tau_stdp = pars['A_plus'], pars['A_minus'], pars['tau_stdp']\n",
        "# pre_spike time - post_spike time\n",
        "time_diff = np.linspace(-5 * tau_stdp, 5 * tau_stdp, 50)\n",
        "\n",
        "dW = Delta_W(pars, A_plus, A_minus, tau_stdp)\n",
        "with plt.xkcd():\n",
        "  mySTDP_plot(A_plus, A_minus, tau_stdp, time_diff, dW)"
      ],
      "execution_count": null,
      "outputs": []
    },
    {
      "cell_type": "markdown",
      "metadata": {
        "id": "X4muhJ6XIwHw"
      },
      "source": [
        "## Keeping track of pre- and postsynaptic spikes\n",
        "Since a neuron will receive numerous presynaptic spike inputs, in order to implement STDP by taking into account different synapses, we first have to keep track of the pre- and postsynaptic spike times throughout the simulation. \n",
        "\n",
        "A convenient way to do this is to define the following equation for each postsynaptic neuron:\n",
        "\n",
        "\\begin{eqnarray}\n",
        "\\tau_{-} \\frac{dM}{dt} = -M\n",
        "\\end{eqnarray}\n",
        "\n",
        "and whenever the postsynaptic neuron spikes, \n",
        "\n",
        "\\begin{eqnarray}\n",
        "M(t) = M(t) - A_{-}\n",
        "\\end{eqnarray}\n",
        "\n",
        "This way $M(t)$ tracks the number of postsynaptic spikes over the timescale $\\tau_{-}$. \n",
        "\n",
        "Similarly, for each presynaptic neuron, we define:\n",
        "\n",
        "\\begin{eqnarray}\n",
        "\\tau_{+} \\frac{dP}{dt} = -P\n",
        "\\end{eqnarray}\n",
        "\n",
        "and whenever there is spike on the presynaptic neuron,\n",
        "\n",
        "\\begin{eqnarray}\n",
        "P(t) = P(t) + A_{+}\n",
        "\\end{eqnarray}\n",
        "\n",
        "The variables $M(t)$ and $P(t)$ are very similar to the equations for the synaptic conductances, i.e., $g_{i}(t)$, except that they are used to keep track of pre- and postsynaptic spike times on a much longer timescale. Note that, $M(t)$ is always negative, and $P(t)$ is always positive. You can probably already guess that $M$ is used to induce LTD and $P$ to induce LTP because they are updated by $A_{-}$ and $A_{+}$, respectively. \n",
        "\n",
        "**Important note:** $P(t)$ depends on the presynaptic spike times. If we know the presynaptic spike times, $P$ can be generated before simulating the postsynaptic neuron and the corresponding STDP weights."
      ]
    },
    {
      "cell_type": "markdown",
      "metadata": {
        "id": "NWrUlAjmIwHx"
      },
      "source": [
        "## Visualization of $P$\n",
        "Here, we will consider a scenario in which there is a single postsynaptic neuron connected to $N$ presynaptic neurons. \n",
        "\n",
        "For instance, we have one postsynaptic neuron which receives Poisson type spiking inputs from five presynaptic neurons. \n",
        "\n",
        "We can simulate $P$ for each one of the presynaptic neurons. "
      ]
    },
    {
      "cell_type": "markdown",
      "metadata": {
        "id": "BgeNCznjIwHx"
      },
      "source": [
        "## Coding Exercise 1B: Compute $dP$\n",
        "\n",
        "Here, yet again, we use the Euler scheme, which has been introduced several times in the previous tutorials.\n",
        "\n",
        "Similar to the dynamics of the membrane potential in the LIF model, in a time step $dt$, $P(t)$ will decrease by an amount of $\\displaystyle{\\frac{dt}{\\tau_+}P(t)}$. Whereas, if a presynaptic spike arrives, $P(t)$ will instantaneously increase by an amount of $A_+$. Therefore, \n",
        "\n",
        "\\\\\n",
        "\n",
        "\\begin{eqnarray}\n",
        "dP = -\\displaystyle{\\frac{dt}{\\tau_+}P[t]} + A_+\\cdot \\text{sp_or_not}[t+dt]\n",
        "\\end{eqnarray}\n",
        "\n",
        "\\\\\n",
        "\n",
        "where the $\\text{sp_or_not}$ is a binary variable, i.e., $\\text{sp_or_not}=1$ if there is a spike within $dt$, and $\\text{sp_or_not}=0$ otherwise."
      ]
    },
    {
      "cell_type": "code",
      "metadata": {
        "execution": {
          "iopub.execute_input": "2021-06-25T18:11:13.331146Z",
          "iopub.status.busy": "2021-06-25T18:11:13.330664Z",
          "iopub.status.idle": "2021-06-25T18:11:13.332727Z",
          "shell.execute_reply": "2021-06-25T18:11:13.332331Z"
        },
        "id": "LQ4MFhvHIwHy"
      },
      "source": [
        "def generate_P(pars, pre_spike_train_ex):\n",
        "  \"\"\"\n",
        "  track of pre-synaptic spikes\n",
        "\n",
        "  Args:\n",
        "    pars               : parameter dictionary\n",
        "    pre_spike_train_ex : binary spike train input from\n",
        "                         presynaptic excitatory neuron\n",
        "\n",
        "  Returns:\n",
        "    P                  : LTP ratio\n",
        "  \"\"\"\n",
        "\n",
        "  # Get parameters\n",
        "  A_plus, tau_stdp = pars['A_plus'], pars['tau_stdp']\n",
        "  dt, range_t = pars['dt'], pars['range_t']\n",
        "  Lt = range_t.size\n",
        "\n",
        "  # Initialize\n",
        "  P = np.zeros(pre_spike_train_ex.shape)\n",
        "  for it in range(Lt - 1):\n",
        "    #######################################################################\n",
        "    ## TODO for students: compute dP, then remove the NotImplementedError #\n",
        "    # Fill out when you finish the function\n",
        "    raise NotImplementedError(\"Student excercise: compute P, the change of presynaptic spike\")\n",
        "    #######################################################################\n",
        "    # Calculate the delta increment dP\n",
        "    dP = ...\n",
        "    # Update P\n",
        "    P[:, it + 1] = P[:, it] + dP\n",
        "\n",
        "  return P\n",
        "\n",
        "\n",
        "pars = default_pars_STDP(T=200., dt=1.)\n",
        "pre_spike_train_ex = Poisson_generator(pars, rate=10, n=5, myseed=2020)\n",
        "P = generate_P(pars, pre_spike_train_ex)\n",
        "my_example_P()"
      ],
      "execution_count": null,
      "outputs": []
    },
    {
      "cell_type": "code",
      "metadata": {
        "execution": {
          "iopub.execute_input": "2021-06-25T18:11:13.338407Z",
          "iopub.status.busy": "2021-06-25T18:11:13.337956Z",
          "iopub.status.idle": "2021-06-25T18:11:13.658969Z",
          "shell.execute_reply": "2021-06-25T18:11:13.658559Z"
        },
        "id": "OhNTJ74AIwHy"
      },
      "source": [
        "# to_remove solution\n",
        "def generate_P(pars, pre_spike_train_ex):\n",
        "  \"\"\"\n",
        "  track of pre-synaptic spikes\n",
        "\n",
        "  Args:\n",
        "    pars               : parameter dictionary\n",
        "    pre_spike_train_ex : binary spike train input from\n",
        "                         presynaptic excitatory neuron\n",
        "\n",
        "  Returns:\n",
        "    P                  : LTP ratio\n",
        "  \"\"\"\n",
        "\n",
        "  # Get parameters\n",
        "  A_plus, tau_stdp = pars['A_plus'], pars['tau_stdp']\n",
        "  dt, range_t = pars['dt'], pars['range_t']\n",
        "  Lt = range_t.size\n",
        "\n",
        "  # Initialize\n",
        "  P = np.zeros(pre_spike_train_ex.shape)\n",
        "  for it in range(Lt - 1):\n",
        "    # Calculate the delta increment dP\n",
        "    dP = -(dt / tau_stdp) * P[:, it] + A_plus * pre_spike_train_ex[:, it + 1]\n",
        "    # Update P\n",
        "    P[:, it + 1] = P[:, it] + dP\n",
        "\n",
        "  return P\n",
        "\n",
        "\n",
        "pars = default_pars_STDP(T=200., dt=1.)\n",
        "pre_spike_train_ex = Poisson_generator(pars, rate=10, n=5, myseed=2020)\n",
        "P = generate_P(pars, pre_spike_train_ex)\n",
        "with plt.xkcd():\n",
        "  my_example_P()"
      ],
      "execution_count": null,
      "outputs": []
    },
    {
      "cell_type": "markdown",
      "metadata": {
        "id": "dztNvl44IwHz"
      },
      "source": [
        "---\n",
        "# Section 2: Implementation of STDP\n",
        "\n",
        "Finally, to implement STDP in spiking networks, we will change the value of the peak synaptic conductance based on the presynaptic and postsynaptic timing, thus using the variables $P(t)$ and $M(t)$. \n",
        "\n",
        "Each synapse $i$ has its own peak synaptic conductance ($\\bar g_i$), which may vary between $[0, \\bar g_{max}]$, and will be modified depending on the presynaptic and postsynaptic timing. \n",
        "\n",
        "* When the $i_{th}$ presynaptic neuron elicits a spike, its corresponding peak conductance is updated according to the following equation:\n",
        "  \n",
        "  \\\\\n",
        "\n",
        "  \\begin{eqnarray}\n",
        "  \\bar g_i = \\bar g_i + M(t)\\bar g_{max}\n",
        "  \\end{eqnarray}\n",
        "\n",
        "  \\\\\n",
        "\n",
        "  Note that, $M(t)$ tracks the time since the last postsynaptic potential and is always negative. Hence, if *the postsynaptic neuron spikes shortly before the presynaptic neuron*, the above equation shows that the peak conductance will decrease. \n",
        "\n",
        "* When the postsynaptic neuron spikes, the peak conductance of **each** synapse is updated according to:\n",
        "\n",
        "  \\\\\n",
        "\n",
        "  \\begin{eqnarray}\n",
        "  \\bar g_i = \\bar g_i + P_i(t)\\bar g_{max}, \\forall i\n",
        "  \\end{eqnarray}\n",
        "\n",
        "  \\\\\n",
        "\n",
        "  Note that, $P_i(t)$ tracks the time since the last spike of $i_{th}$ pre-synaptic neuron and is always positive.\n",
        "\n",
        "  Thus, the equation given above shows that if the presynaptic neuron spikes before the postsynaptic neuron, its peak conductance will increase.\n",
        "\n",
        "### LIF neuron connected with synapses that show STDP \n",
        "In the following exercise, we connect $N$ presynaptic neurons to a single postsynaptic neuron. We do not need to simulate the dynamics of each presynaptic neuron as we are only concerned about their spike times. So, we will generate $N$ Poisson type spikes. Here, we will assume that all these inputs are excitatory. \n",
        "\n",
        "We need to simulate the dynamics of the postsynaptic neuron as we do not know its spike times. We model the postsynaptic neuron as an LIF neuron receiving only excitatory inputs.\n",
        "\n",
        "\\\\\n",
        "\n",
        "\\begin{eqnarray}\n",
        "\\tau_m\\frac{dV}{dt} = -(V-E_L) - g_E(t) (V(t)-E_E)\\,\n",
        "\\end{eqnarray}\n",
        "\n",
        "\\\\\n",
        "\n",
        "where the total excitatory synaptic conductance  $g_{E}(t)$  is given by:\n",
        "\n",
        "\\\\\n",
        "\n",
        "\\begin{eqnarray}\n",
        "g_E(t) = \\sum_{i=1}^{N} g_i(t) \\,\n",
        "\\end{eqnarray}\n",
        "\n",
        "\\\\\n",
        "\n",
        "While simulating STDP, it is important to make sure that $\\bar g_i$ never goes outside of its bounds. \n"
      ]
    },
    {
      "cell_type": "code",
      "metadata": {
        "execution": {
          "iopub.execute_input": "2021-06-25T18:11:13.670376Z",
          "iopub.status.busy": "2021-06-25T18:11:13.669904Z",
          "iopub.status.idle": "2021-06-25T18:11:13.673234Z",
          "shell.execute_reply": "2021-06-25T18:11:13.672669Z"
        },
        "id": "uDTzbchHIwHz",
        "cellView": "form"
      },
      "source": [
        "# @title Function for LIF neuron with STDP synapses\n",
        "\n",
        "def run_LIF_cond_STDP(pars, pre_spike_train_ex):\n",
        "  \"\"\"\n",
        "  conductance-based LIF dynamics\n",
        "\n",
        "  Args:\n",
        "    pars               : parameter dictionary\n",
        "    pre_spike_train_ex : spike train input from presynaptic excitatory neuron\n",
        "\n",
        "  Returns:\n",
        "    rec_spikes         : spike times\n",
        "    rec_v              : mebrane potential\n",
        "    gE                 : postsynaptic excitatory conductance\n",
        "  \"\"\"\n",
        "\n",
        "  # Retrieve parameters\n",
        "  V_th, V_reset = pars['V_th'], pars['V_reset']\n",
        "  tau_m = pars['tau_m']\n",
        "  V_init, V_L = pars['V_init'], pars['V_L']\n",
        "  gE_bar, VE, tau_syn_E = pars['gE_bar'], pars['VE'], pars['tau_syn_E']\n",
        "  gE_init = pars['gE_init']\n",
        "  tref = pars['tref']\n",
        "  A_minus, tau_stdp = pars['A_minus'], pars['tau_stdp']\n",
        "  dt, range_t = pars['dt'], pars['range_t']\n",
        "  Lt = range_t.size\n",
        "\n",
        "  P = generate_P(pars, pre_spike_train_ex)\n",
        "\n",
        "  # Initialize\n",
        "  tr = 0.\n",
        "  v = np.zeros(Lt)\n",
        "  v[0] = V_init\n",
        "  M = np.zeros(Lt)\n",
        "  gE = np.zeros(Lt)\n",
        "  gE_bar_update = np.zeros(pre_spike_train_ex.shape)\n",
        "  gE_bar_update[:, 0] = gE_init  # note: gE_bar is the maximum value\n",
        "\n",
        "  # simulation\n",
        "  rec_spikes = []  # recording spike times\n",
        "  for it in range(Lt - 1):\n",
        "      if tr > 0:\n",
        "          v[it] = V_reset\n",
        "          tr = tr - 1\n",
        "      elif v[it] >= V_th:   # reset voltage and record spike event\n",
        "          rec_spikes.append(it)\n",
        "          v[it] = V_reset\n",
        "          M[it] = M[it] - A_minus\n",
        "          gE_bar_update[:, it] = gE_bar_update[:, it] + P[:, it] * gE_bar\n",
        "          id_temp = gE_bar_update[:, it] > gE_bar\n",
        "          gE_bar_update[id_temp, it] = gE_bar\n",
        "          tr = tref / dt\n",
        "\n",
        "      # update the synaptic conductance\n",
        "      M[it + 1] = M[it] - dt / tau_stdp * M[it]\n",
        "      gE[it + 1] = gE[it] - (dt / tau_syn_E) * gE[it] + (gE_bar_update[:, it] * pre_spike_train_ex[:, it]).sum()\n",
        "      gE_bar_update[:, it + 1] = gE_bar_update[:, it] + M[it]*pre_spike_train_ex[:, it]*gE_bar\n",
        "      id_temp = gE_bar_update[:, it + 1] < 0\n",
        "      gE_bar_update[id_temp, it + 1] = 0.\n",
        "\n",
        "      # calculate the increment of the membrane potential\n",
        "      dv = (-(v[it] - V_L) - gE[it + 1] * (v[it] - VE)) * (dt / tau_m)\n",
        "\n",
        "      # update membrane potential\n",
        "      v[it + 1] = v[it] + dv\n",
        "\n",
        "  rec_spikes = np.array(rec_spikes) * dt\n",
        "\n",
        "  return v, rec_spikes, gE, P, M, gE_bar_update\n",
        "\n",
        "print(help(run_LIF_cond_STDP))"
      ],
      "execution_count": null,
      "outputs": []
    },
    {
      "cell_type": "markdown",
      "metadata": {
        "id": "Xc6CslYbIwH5"
      },
      "source": [
        "## Coding Exercise 2: Evolution of excitatory synaptic conductance\n",
        "In the following exercise, we will simulate an LIF neuron receiving input from $N=300$ presynaptic neurons."
      ]
    },
    {
      "cell_type": "code",
      "metadata": {
        "execution": {
          "iopub.execute_input": "2021-06-25T18:11:13.677535Z",
          "iopub.status.busy": "2021-06-25T18:11:13.677111Z",
          "iopub.status.idle": "2021-06-25T18:11:13.685349Z",
          "shell.execute_reply": "2021-06-25T18:11:13.685698Z"
        },
        "id": "8TnM-h-MIwH5"
      },
      "source": [
        "pars = default_pars_STDP(T=200., dt=1.)  # Simulation duration 200 ms\n",
        "pars['gE_bar'] = 0.024                   # max synaptic conductance\n",
        "pars['gE_init'] = 0.024                  # initial synaptic conductance\n",
        "pars['VE'] = 0.                          # [mV] Synapse reversal potential\n",
        "pars['tau_syn_E'] = 5.                   # [ms] EPSP time constant\n",
        "\n",
        "# generate Poisson type spike trains\n",
        "pre_spike_train_ex = Poisson_generator(pars, rate=10, n=300, myseed=2020)\n",
        "# simulate the LIF neuron and record the synaptic conductance\n",
        "v, rec_spikes, gE, P, M, gE_bar_update = run_LIF_cond_STDP(pars,\n",
        "                                                           pre_spike_train_ex)"
      ],
      "execution_count": null,
      "outputs": []
    },
    {
      "cell_type": "code",
      "metadata": {
        "cellView": "form",
        "execution": {
          "iopub.execute_input": "2021-06-25T18:11:13.720316Z",
          "iopub.status.busy": "2021-06-25T18:11:13.703908Z",
          "iopub.status.idle": "2021-06-25T18:11:14.474032Z",
          "shell.execute_reply": "2021-06-25T18:11:14.473614Z"
        },
        "id": "b43oZZ5yIwH8"
      },
      "source": [
        "# @title Figures of the evolution of synaptic conductance\n",
        "\n",
        "# @markdown Run this cell to see the figures!\n",
        "plt.figure(figsize=(12., 8))\n",
        "plt.subplot(321)\n",
        "dt, range_t = pars['dt'], pars['range_t']\n",
        "if rec_spikes.size:\n",
        "  sp_num = (rec_spikes / dt).astype(int) - 1\n",
        "  v[sp_num] += 10   # add artificial spikes\n",
        "plt.plot(pars['range_t'], v, 'k')\n",
        "plt.xlabel('Time (ms)')\n",
        "plt.ylabel('V (mV)')\n",
        "\n",
        "plt.subplot(322)\n",
        "# Plot the sample presynaptic spike trains\n",
        "my_raster_plot(pars['range_t'], pre_spike_train_ex, 10)\n",
        "\n",
        "plt.subplot(323)\n",
        "plt.plot(pars['range_t'], M, 'k')\n",
        "plt.xlabel('Time (ms)')\n",
        "plt.ylabel('M')\n",
        "\n",
        "plt.subplot(324)\n",
        "for i in range(10):\n",
        "  plt.plot(pars['range_t'], P[i, :])\n",
        "plt.xlabel('Time (ms)')\n",
        "plt.ylabel('P')\n",
        "\n",
        "plt.subplot(325)\n",
        "for i in range(10):\n",
        "  plt.plot(pars['range_t'], gE_bar_update[i, :])\n",
        "plt.xlabel('Time (ms)')\n",
        "plt.ylabel(r'$\\bar g$')\n",
        "\n",
        "plt.subplot(326)\n",
        "plt.plot(pars['range_t'], gE, 'r')\n",
        "plt.xlabel('Time (ms)')\n",
        "plt.ylabel(r'$g_E$')\n",
        "\n",
        "plt.tight_layout()\n",
        "plt.show()"
      ],
      "execution_count": null,
      "outputs": []
    },
    {
      "cell_type": "markdown",
      "metadata": {
        "id": "2hwBPJltIwH9"
      },
      "source": [
        "## Think! 2A: Analyzing Synaptic Strength and Conductance Transformations\n",
        "* In the above, even though all the presynaptic neurons have the same average firing rate, many of the synapses seem to have been weakened? Did you expect that? \n",
        "\n",
        "* Total synaptic conductance is fluctuating over time. How do you expect $g_E$ to fluctuate if synapses did not show any STDP like behavior?\n",
        "\n",
        "* Do synaptic weight ever reach a stationary state when synapses show STDP? "
      ]
    },
    {
      "cell_type": "code",
      "metadata": {
        "execution": {
          "iopub.execute_input": "2021-06-25T18:11:14.477681Z",
          "iopub.status.busy": "2021-06-25T18:11:14.477250Z",
          "iopub.status.idle": "2021-06-25T18:11:14.480184Z",
          "shell.execute_reply": "2021-06-25T18:11:14.479817Z"
        },
        "id": "__wVvUaFIwH9"
      },
      "source": [
        "# to_remove explanation\n",
        "\n",
        "\"\"\"\n",
        "Discussion:\n",
        "\n",
        "1. Yes. Because\n",
        "a. area under the STDP curve is negative\n",
        "b. synapses are set to their maximum possible weight.\n",
        "c. presynaptic neurons have a variance in their firing rates because of Poisson nature\n",
        "\n",
        "2. g_E will fluctuate even when synapses do not show any STDP because of the Poisson\n",
        "nature but with STDP, there will be bigger fluctuations as synaptic weight will\n",
        "vary on spike by spike basis.\n",
        "\n",
        "3. Individual synaptic weight will always fluctuate but the synaptic weight\n",
        "distribution will reach a steady state.\n",
        "\n",
        "\"\"\";"
      ],
      "execution_count": null,
      "outputs": []
    },
    {
      "cell_type": "markdown",
      "metadata": {
        "id": "HDgqWDYfIwH-"
      },
      "source": [
        "## Distribution of synaptic weight\n",
        "From the example given above, we get an idea that some synapses depotentiate, but what is the distribution of the synaptic weights when synapses show STDP? \n",
        "\n",
        "In fact, it is possible that even the synaptic weight distribution itself is a time-varying quantity. So, we would like to know how the distribution of synaptic weights evolves as a function of time. \n",
        "\n",
        "To get a better estimate of the weight distribution and its time evolution, we will increase the presynaptic firing rate to $15$Hz and simulate the postsynaptic neuron for $120$s. "
      ]
    },
    {
      "cell_type": "code",
      "metadata": {
        "cellView": "form",
        "execution": {
          "iopub.execute_input": "2021-06-25T18:11:14.490558Z",
          "iopub.status.busy": "2021-06-25T18:11:14.482212Z",
          "iopub.status.idle": "2021-06-25T18:11:14.493588Z",
          "shell.execute_reply": "2021-06-25T18:11:14.493941Z"
        },
        "id": "XpIHZWZUIwH-"
      },
      "source": [
        "# @title Functions for simulating a LIF neuron with STDP synapses\n",
        "\n",
        "\n",
        "def example_LIF_STDP(inputrate=15., Tsim=120000.):\n",
        "  \"\"\"\n",
        "  Simulation of a LIF model with STDP synapses\n",
        "\n",
        "  Args:\n",
        "    intputrate  :  The rate used for generate presynaptic spike trains\n",
        "    Tsim        :  Total simulation time\n",
        "\n",
        "  output:\n",
        "    Interactive demo, Visualization of synaptic weights\n",
        "  \"\"\"\n",
        "\n",
        "  pars = default_pars_STDP(T=Tsim,  dt=1.)\n",
        "  pars['gE_bar'] = 0.024\n",
        "  pars['gE_init'] = 0.014  # initial synaptic conductance\n",
        "  pars['VE'] = 0.          # [mV]\n",
        "  pars['tau_syn_E'] = 5.   # [ms]\n",
        "\n",
        "  starttime = time.perf_counter()\n",
        "  pre_spike_train_ex = Poisson_generator(pars, rate=inputrate, n=300,\n",
        "                                         myseed=2020)  # generate Poisson trains\n",
        "  v, rec_spikes, gE, P, M, gE_bar_update = run_LIF_cond_STDP(pars,\n",
        "                                                             pre_spike_train_ex)  # simulate LIF neuron with STDP\n",
        "  gbar_norm = gE_bar_update/pars['gE_bar']  # calculate the ratio of the synaptic conductance\n",
        "  endtime = time.perf_counter()\n",
        "  timecost = (endtime - starttime) / 60.\n",
        "\n",
        "  print('Total simulation time is %.3f min' % timecost)\n",
        "\n",
        "  my_layout.width = '620px'\n",
        "\n",
        "  @widgets.interact(\n",
        "      sample_time=widgets.FloatSlider(0.5, min=0., max=1., step=0.1,\n",
        "                                      layout=my_layout)\n",
        "  )\n",
        "\n",
        "\n",
        "  def my_visual_STDP_distribution(sample_time=0.0):\n",
        "    sample_time = int(sample_time * pars['range_t'].size) - 1\n",
        "    sample_time = sample_time * (sample_time > 0)\n",
        "\n",
        "    plt.figure(figsize=(8, 8))\n",
        "    ax1 = plt.subplot(211)\n",
        "    for i in range(50):\n",
        "      ax1.plot(pars['range_t'][::1000] / 1000., gE_bar_update[i, ::1000], lw=1., alpha=0.7)\n",
        "\n",
        "    ax1.axvline(1e-3 * pars['range_t'][sample_time], 0., 1., color='k', ls='--')\n",
        "    ax1.set_ylim(0, 0.025)\n",
        "    ax1.set_xlim(-2, 122)\n",
        "    ax1.set_xlabel('Time (s)')\n",
        "    ax1.set_ylabel(r'$\\bar{g}$')\n",
        "\n",
        "    bins = np.arange(-.05, 1.05, .05)\n",
        "    g_dis, _ = np.histogram(gbar_norm[:, sample_time], bins)\n",
        "    ax2 = plt.subplot(212)\n",
        "    ax2.bar(bins[1:], g_dis, color='b', alpha=0.5, width=0.05)\n",
        "    ax2.set_xlim(-0.1, 1.1)\n",
        "    ax2.set_xlabel(r'$\\bar{g}/g_{\\mathrm{max}}$')\n",
        "    ax2.set_ylabel('Number')\n",
        "    ax2.set_title(('Time = %.1f s' % (1e-3 * pars['range_t'][sample_time])),\n",
        "                  fontweight='bold')\n",
        "    plt.show()\n",
        "\n",
        "\n",
        "print(help(example_LIF_STDP))"
      ],
      "execution_count": null,
      "outputs": []
    },
    {
      "cell_type": "markdown",
      "metadata": {
        "id": "B6z-46PsIwH-"
      },
      "source": [
        "## Interactive Demo 2: Example of an LIF model with STDP"
      ]
    },
    {
      "cell_type": "code",
      "metadata": {
        "cellView": "form",
        "execution": {
          "iopub.execute_input": "2021-06-25T18:11:14.497740Z",
          "iopub.status.busy": "2021-06-25T18:11:14.497157Z",
          "iopub.status.idle": "2021-06-25T18:11:18.470243Z",
          "shell.execute_reply": "2021-06-25T18:11:18.469852Z"
        },
        "id": "PlG2RWY2IwH_"
      },
      "source": [
        "# @title\n",
        "\n",
        "# @markdown Make sure you execute this cell to enable the widget!\n",
        "\n",
        "example_LIF_STDP(inputrate=15)"
      ],
      "execution_count": null,
      "outputs": []
    },
    {
      "cell_type": "markdown",
      "metadata": {
        "id": "Z_ZqGH5yIwH_"
      },
      "source": [
        "## Think! 2B: Effects of Increased Presynaptic Firing Rate \n",
        "Increase the firing rate (i.e., 30 Hz) of presynaptic neurons, and investigate the effect on the dynamics of synaptic weight distribution."
      ]
    },
    {
      "cell_type": "code",
      "metadata": {
        "execution": {
          "iopub.execute_input": "2021-06-25T18:11:18.479412Z",
          "iopub.status.busy": "2021-06-25T18:11:18.478652Z",
          "iopub.status.idle": "2021-06-25T18:11:18.480583Z",
          "shell.execute_reply": "2021-06-25T18:11:18.480193Z"
        },
        "id": "GR932sZmIwH_"
      },
      "source": [
        "# to_remove explanation\n",
        "\n",
        "\"\"\"\n",
        "Discussion:\n",
        "\n",
        "As we increase the input firing rate, more synapses move to the extreme values,\n",
        "either go to zero or to maximal conductance. Using 15Hz, the distribution of the\n",
        "weights at the end of the simulation is more like a bell-shaped, skewed, with more\n",
        "synapses to be potentiated. However, increasing the firing rate, in early times,\n",
        "almost all synapses undergo depression, and then only a few escape and they become\n",
        "potentiated.\n",
        "\"\"\";"
      ],
      "execution_count": null,
      "outputs": []
    },
    {
      "cell_type": "markdown",
      "metadata": {
        "id": "CoXYDjFyIwH_"
      },
      "source": [
        "# Section 3: Effect of input correlations\n",
        "\n",
        "Thus far, we assumed that the input population was uncorrelated. What do you think will happen if presynaptic neurons were correlated? \n",
        "\n",
        "In the following, we will modify the input such that first $L$ neurons have identical spike trains while the remaining inputs are uncorrelated. This is a highly simplified model of introducing correlations. You can try to code your own model of correlated spike trains. "
      ]
    },
    {
      "cell_type": "code",
      "metadata": {
        "execution": {
          "iopub.execute_input": "2021-06-25T18:11:18.495620Z",
          "iopub.status.busy": "2021-06-25T18:11:18.494585Z",
          "iopub.status.idle": "2021-06-25T18:11:18.497167Z",
          "shell.execute_reply": "2021-06-25T18:11:18.496782Z"
        },
        "id": "wg3v5e5VIwH_",
        "cellView": "form"
      },
      "source": [
        "#@title Function for LIF neuron with STDP synapses receiving correlated inputs\n",
        "\n",
        "\n",
        "def example_LIF_STDP_corrInput(inputrate=20., Tsim=120000.):\n",
        "  \"\"\"\n",
        "  A LIF model equipped with STDP synapses, receiving correlated inputs\n",
        "\n",
        "  Args:\n",
        "    intputrate      :  The rate used for generate presynaptic spike trains\n",
        "    Tsim            :  Total simulation time\n",
        "\n",
        "  Returns:\n",
        "    Interactive demo: Visualization of synaptic weights\n",
        "  \"\"\"\n",
        "\n",
        "  np.random.seed(2020)\n",
        "  pars = default_pars_STDP(T=Tsim, dt=1.)\n",
        "  pars['gE_bar'] = 0.024\n",
        "  pars['VE'] = 0.                                # [mV]\n",
        "  pars['gE_init'] = 0.024 * np.random.rand(300)  # initial synaptic conductance\n",
        "  pars['tau_syn_E'] = 5.                         # [ms]\n",
        "\n",
        "  starttime = time.perf_counter()\n",
        "  pre_spike_train_ex = Poisson_generator(pars, rate=inputrate, n=300, myseed=2020)\n",
        "  for i_pre in range(50):\n",
        "    pre_spike_train_ex[i_pre, :] = pre_spike_train_ex[0, :]  # simple way to set input correlated\n",
        "  v, rec_spikes, gE, P, M, gE_bar_update = run_LIF_cond_STDP(pars, pre_spike_train_ex) # simulate LIF neuron with STDP\n",
        "  gbar_norm = gE_bar_update / pars['gE_bar']  # calculate the ratio of the synaptic conductance\n",
        "  endtime = time.perf_counter()\n",
        "  timecost = (endtime - starttime) / 60.\n",
        "\n",
        "  print(f'Total simulation time is {timecost:.3f} min')\n",
        "\n",
        "  my_layout.width = '620px'\n",
        "\n",
        "  @widgets.interact(\n",
        "      sample_time=widgets.FloatSlider(0.5, min=0., max=1., step=0.05,\n",
        "                                      layout=my_layout)\n",
        "  )\n",
        "\n",
        "\n",
        "  def my_visual_STDP_distribution(sample_time=0.0):\n",
        "\n",
        "    sample_time = int(sample_time * pars['range_t'].size) - 1\n",
        "    sample_time = sample_time*(sample_time > 0)\n",
        "    figtemp = plt.figure(figsize=(8, 8))\n",
        "    ax1 = plt.subplot(211)\n",
        "    for i in range(50):\n",
        "      ax1.plot(pars['range_t'][::1000] / 1000.,\n",
        "               gE_bar_update[i, ::1000], lw=1., color='r', alpha=0.7, zorder=2)\n",
        "\n",
        "    for i in range(50):\n",
        "      ax1.plot(pars['range_t'][::1000] / 1000.,\n",
        "               gE_bar_update[i + 50, ::1000], lw=1., color='b',\n",
        "               alpha=0.5, zorder=1)\n",
        "\n",
        "    ax1.axvline(1e-3 * pars['range_t'][sample_time], 0., 1.,\n",
        "                color='k', ls='--', zorder=2)\n",
        "    ax1.set_ylim(0, 0.025)\n",
        "    ax1.set_xlim(-2, 122)\n",
        "    ax1.set_xlabel('Time (s)')\n",
        "    ax1.set_ylabel(r'$\\bar{g}$')\n",
        "    legend=ax1.legend(['Correlated input', 'Uncorrelated iput'], fontsize=18,\n",
        "                      loc=[0.92, -0.6], frameon=False)\n",
        "    for color, text, item in zip(['r', 'b'], legend.get_texts(), legend.legendHandles):\n",
        "      text.set_color(color)\n",
        "      item.set_visible(False)\n",
        "\n",
        "    bins = np.arange(-.05, 1.05, .05)\n",
        "    g_dis_cc, _ = np.histogram(gbar_norm[:50, sample_time], bins)\n",
        "    g_dis_dp, _ = np.histogram(gbar_norm[50:, sample_time], bins)\n",
        "\n",
        "    ax2 = plt.subplot(212)\n",
        "    ax2.bar(bins[1:], g_dis_cc, color='r', alpha=0.5, width=0.05)\n",
        "    ax2.bar(bins[1:], g_dis_dp, color='b', alpha=0.5, width=0.05)\n",
        "    ax2.set_xlim(-0.1, 1.1)\n",
        "    ax2.set_xlabel(r'$\\bar{g}/g_{\\mathrm{max}}$')\n",
        "    ax2.set_ylabel('Number')\n",
        "    ax2.set_title(('Time = %.1f s' % (1e-3 * pars['range_t'][sample_time])),\n",
        "                  fontweight='bold')\n",
        "    plt.show()\n",
        "\n",
        "\n",
        "print(help(example_LIF_STDP_corrInput))"
      ],
      "execution_count": null,
      "outputs": []
    },
    {
      "cell_type": "markdown",
      "metadata": {
        "id": "XOhFVQxxIwIA"
      },
      "source": [
        "## Interactive Demo 3: LIF model with plastic synapses receiving correlated inputs"
      ]
    },
    {
      "cell_type": "code",
      "metadata": {
        "cellView": "form",
        "execution": {
          "iopub.execute_input": "2021-06-25T18:11:18.499920Z",
          "iopub.status.busy": "2021-06-25T18:11:18.499503Z",
          "iopub.status.idle": "2021-06-25T18:11:23.281510Z",
          "shell.execute_reply": "2021-06-25T18:11:23.281088Z"
        },
        "id": "71F9maJtIwIA"
      },
      "source": [
        "# @title\n",
        "\n",
        "# @markdown Make sure you execute this cell to enable the widget!\n",
        "\n",
        "example_LIF_STDP_corrInput(inputrate=10.0)"
      ],
      "execution_count": null,
      "outputs": []
    },
    {
      "cell_type": "markdown",
      "metadata": {
        "id": "2d6bqke9IwIA"
      },
      "source": [
        "**Why do weights of uncorrelated neurons decrease when synapses show STDP?**\n",
        "\n",
        "Above, we notice that the synapses of correlated neurons (which spike together) were almost unaffected, but the weights of other neurons diminished. Why does this happen? \n",
        "\n",
        "The reason is that the correlated presynaptic neurons have a higher chance of eliciting a spike in the postsynaptic neurons and that create a $pre \\rightarrow post$ pairing of spikes. "
      ]
    },
    {
      "cell_type": "markdown",
      "metadata": {
        "id": "ck45JpWBIwIB"
      },
      "source": [
        "## Think! 3: Applications of STDP \n",
        "\n",
        "* Modify the code above and create two groups of correlated presynaptic neurons and test what happens to the weight distribution.\n",
        "\n",
        "* How can the above observations be used to create unsupervised learning? Could you imagine how we have to train a neuronal model enabled with STDP rule to identify input patterns?\n",
        "\n",
        "* What else can be done with this type of plasticity?\n"
      ]
    },
    {
      "cell_type": "code",
      "metadata": {
        "execution": {
          "iopub.execute_input": "2021-06-25T18:11:23.288886Z",
          "iopub.status.busy": "2021-06-25T18:11:23.288089Z",
          "iopub.status.idle": "2021-06-25T18:11:23.289991Z",
          "shell.execute_reply": "2021-06-25T18:11:23.289635Z"
        },
        "id": "QJ55qWSFIwIB"
      },
      "source": [
        "# to_remove explanation\n",
        "\n",
        "\"\"\"\n",
        "Discussion:\n",
        "\n",
        "1. The two groups will compete to get to stronger synaptic values\n",
        "\n",
        "2. STDP provides a basis of unsupervised learning as these synapses are sensitive\n",
        "to input correlations. So if the input data has any temporal correlation the\n",
        "neuron will become responsive to those correlated events\n",
        "\n",
        "3. You can for circuit motifs in an otherwise unstructured network. The simplest\n",
        "function circuit we can make is a feedforward chain.\n",
        "\"\"\";"
      ],
      "execution_count": null,
      "outputs": []
    },
    {
      "cell_type": "markdown",
      "metadata": {
        "id": "RP2ENgZ8IwIB"
      },
      "source": [
        "---\n",
        "# Summary\n",
        "\n",
        "Hooray! You have just finished this loooong day! In this tutorial, we covered the concept of **spike-timing dependent plasticity (STDP)**.\n",
        "\n",
        "We managed to:\n",
        "\n",
        "- build a model of synapse that shows STDP.\n",
        "\n",
        "- study how correlations in input spike trains influence the distribution of synaptic weights.\n",
        "\n",
        "Using presynaptic inputs as Poisson type spike trains, we modeled an LIF model with synapses equipped with STDP. We also studied the effect of correlated inputs on the synaptic strength!"
      ]
    }
  ]
}