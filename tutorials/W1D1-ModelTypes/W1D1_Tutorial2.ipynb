{
  "nbformat": 4,
  "nbformat_minor": 0,
  "metadata": {
    "kernelspec": {
      "display_name": "Python 3",
      "language": "python",
      "name": "python3"
    },
    "language_info": {
      "codemirror_mode": {
        "name": "ipython",
        "version": 3
      },
      "file_extension": ".py",
      "mimetype": "text/x-python",
      "name": "python",
      "nbconvert_exporter": "python",
      "pygments_lexer": "ipython3",
      "version": "3.7.2"
    },
    "colab": {
      "name": "W1D1-Tutorial2.ipynb",
      "provenance": [],
      "collapsed_sections": [],
      "toc_visible": true,
      "include_colab_link": true
    },
    "widgets": {
      "application/vnd.jupyter.widget-state+json": {
        "98277d2ce42341e5b8893935fb463f89": {
          "model_module": "@jupyter-widgets/controls",
          "model_name": "VBoxModel",
          "state": {
            "_view_name": "VBoxView",
            "_dom_classes": [
              "widget-interact"
            ],
            "_model_name": "VBoxModel",
            "_view_module": "@jupyter-widgets/controls",
            "_model_module_version": "1.5.0",
            "_view_count": null,
            "_view_module_version": "1.5.0",
            "box_style": "",
            "layout": "IPY_MODEL_47b133c242be4959904aad9c29a506ab",
            "_model_module": "@jupyter-widgets/controls",
            "children": [
              "IPY_MODEL_e10ab57cce724492adab76e04288bc46",
              "IPY_MODEL_8fdce3050c684a3e91757c09c5153be1",
              "IPY_MODEL_e917522f0aaa4b4b9b9455ddf0d479d5",
              "IPY_MODEL_bfb2c4adc0354f91a7f6bbd017f5b9f4"
            ]
          }
        },
        "47b133c242be4959904aad9c29a506ab": {
          "model_module": "@jupyter-widgets/base",
          "model_name": "LayoutModel",
          "state": {
            "_view_name": "LayoutView",
            "grid_template_rows": null,
            "right": null,
            "justify_content": null,
            "_view_module": "@jupyter-widgets/base",
            "overflow": null,
            "_model_module_version": "1.2.0",
            "_view_count": null,
            "flex_flow": null,
            "width": null,
            "min_width": null,
            "border": null,
            "align_items": null,
            "bottom": null,
            "_model_module": "@jupyter-widgets/base",
            "top": null,
            "grid_column": null,
            "overflow_y": null,
            "overflow_x": null,
            "grid_auto_flow": null,
            "grid_area": null,
            "grid_template_columns": null,
            "flex": null,
            "_model_name": "LayoutModel",
            "justify_items": null,
            "grid_row": null,
            "max_height": null,
            "align_content": null,
            "visibility": null,
            "align_self": null,
            "height": null,
            "min_height": null,
            "padding": null,
            "grid_auto_rows": null,
            "grid_gap": null,
            "max_width": null,
            "order": null,
            "_view_module_version": "1.2.0",
            "grid_template_areas": null,
            "object_position": null,
            "object_fit": null,
            "grid_auto_columns": null,
            "margin": null,
            "display": null,
            "left": null
          }
        },
        "e10ab57cce724492adab76e04288bc46": {
          "model_module": "@jupyter-widgets/controls",
          "model_name": "FloatLogSliderModel",
          "state": {
            "_view_name": "FloatLogSliderView",
            "orientation": "horizontal",
            "_view_module": "@jupyter-widgets/controls",
            "_model_module_version": "1.5.0",
            "_view_count": null,
            "disabled": false,
            "readout_format": ".3g",
            "_model_module": "@jupyter-widgets/controls",
            "style": "IPY_MODEL_779d65ef47cd4d9485f3c061ff51a076",
            "layout": "IPY_MODEL_29c7bcd1333d44369e4462fa1114d564",
            "min": 2,
            "continuous_update": true,
            "description_tooltip": null,
            "_dom_classes": [],
            "description": "n_steps",
            "_model_name": "FloatLogSliderModel",
            "max": 4,
            "readout": true,
            "step": 0.1,
            "base": 10,
            "value": 1000,
            "_view_module_version": "1.5.0"
          }
        },
        "8fdce3050c684a3e91757c09c5153be1": {
          "model_module": "@jupyter-widgets/controls",
          "model_name": "FloatLogSliderModel",
          "state": {
            "_view_name": "FloatLogSliderView",
            "orientation": "horizontal",
            "_view_module": "@jupyter-widgets/controls",
            "_model_module_version": "1.5.0",
            "_view_count": null,
            "disabled": false,
            "readout_format": ".3g",
            "_model_module": "@jupyter-widgets/controls",
            "style": "IPY_MODEL_f23fd4646f02443699d50b2493b01f7c",
            "layout": "IPY_MODEL_348ca757746b45d895dc2ba9768ed5b7",
            "min": -4,
            "continuous_update": true,
            "description_tooltip": null,
            "_dom_classes": [],
            "description": "alpha",
            "_model_name": "FloatLogSliderModel",
            "max": -1,
            "readout": true,
            "step": 0.1,
            "base": 10,
            "value": 0.01,
            "_view_module_version": "1.5.0"
          }
        },
        "e917522f0aaa4b4b9b9455ddf0d479d5": {
          "model_module": "@jupyter-widgets/controls",
          "model_name": "IntSliderModel",
          "state": {
            "_view_name": "IntSliderView",
            "style": "IPY_MODEL_cdd7c3afee67478ba42045bd66badf64",
            "_dom_classes": [],
            "description": "rate",
            "step": 1,
            "_model_name": "IntSliderModel",
            "orientation": "horizontal",
            "max": 20,
            "_view_module": "@jupyter-widgets/controls",
            "_model_module_version": "1.5.0",
            "value": 10,
            "_view_count": null,
            "disabled": false,
            "_view_module_version": "1.5.0",
            "min": 1,
            "continuous_update": true,
            "readout_format": "d",
            "description_tooltip": null,
            "readout": true,
            "_model_module": "@jupyter-widgets/controls",
            "layout": "IPY_MODEL_0b7277c35d4342adbead42097740d6b0"
          }
        },
        "bfb2c4adc0354f91a7f6bbd017f5b9f4": {
          "model_module": "@jupyter-widgets/output",
          "model_name": "OutputModel",
          "state": {
            "_view_name": "OutputView",
            "msg_id": "",
            "_dom_classes": [],
            "_model_name": "OutputModel",
            "outputs": [
              {
                "output_type": "display_data",
                "metadata": {
                  "tags": [],
                  "needs_background": "light"
                },
                "image/png": "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\n",
                "text/plain": "<Figure size 864x360 with 2 Axes>"
              }
            ],
            "_view_module": "@jupyter-widgets/output",
            "_model_module_version": "1.0.0",
            "_view_count": null,
            "_view_module_version": "1.0.0",
            "layout": "IPY_MODEL_f3e108909f6245e595aa25f78505c8fc",
            "_model_module": "@jupyter-widgets/output"
          }
        },
        "779d65ef47cd4d9485f3c061ff51a076": {
          "model_module": "@jupyter-widgets/controls",
          "model_name": "SliderStyleModel",
          "state": {
            "_view_name": "StyleView",
            "handle_color": null,
            "_model_name": "SliderStyleModel",
            "description_width": "",
            "_view_module": "@jupyter-widgets/base",
            "_model_module_version": "1.5.0",
            "_view_count": null,
            "_view_module_version": "1.2.0",
            "_model_module": "@jupyter-widgets/controls"
          }
        },
        "29c7bcd1333d44369e4462fa1114d564": {
          "model_module": "@jupyter-widgets/base",
          "model_name": "LayoutModel",
          "state": {
            "_view_name": "LayoutView",
            "grid_template_rows": null,
            "right": null,
            "justify_content": null,
            "_view_module": "@jupyter-widgets/base",
            "overflow": null,
            "_model_module_version": "1.2.0",
            "_view_count": null,
            "flex_flow": null,
            "width": null,
            "min_width": null,
            "border": null,
            "align_items": null,
            "bottom": null,
            "_model_module": "@jupyter-widgets/base",
            "top": null,
            "grid_column": null,
            "overflow_y": null,
            "overflow_x": null,
            "grid_auto_flow": null,
            "grid_area": null,
            "grid_template_columns": null,
            "flex": null,
            "_model_name": "LayoutModel",
            "justify_items": null,
            "grid_row": null,
            "max_height": null,
            "align_content": null,
            "visibility": null,
            "align_self": null,
            "height": null,
            "min_height": null,
            "padding": null,
            "grid_auto_rows": null,
            "grid_gap": null,
            "max_width": null,
            "order": null,
            "_view_module_version": "1.2.0",
            "grid_template_areas": null,
            "object_position": null,
            "object_fit": null,
            "grid_auto_columns": null,
            "margin": null,
            "display": null,
            "left": null
          }
        },
        "f23fd4646f02443699d50b2493b01f7c": {
          "model_module": "@jupyter-widgets/controls",
          "model_name": "SliderStyleModel",
          "state": {
            "_view_name": "StyleView",
            "handle_color": null,
            "_model_name": "SliderStyleModel",
            "description_width": "",
            "_view_module": "@jupyter-widgets/base",
            "_model_module_version": "1.5.0",
            "_view_count": null,
            "_view_module_version": "1.2.0",
            "_model_module": "@jupyter-widgets/controls"
          }
        },
        "348ca757746b45d895dc2ba9768ed5b7": {
          "model_module": "@jupyter-widgets/base",
          "model_name": "LayoutModel",
          "state": {
            "_view_name": "LayoutView",
            "grid_template_rows": null,
            "right": null,
            "justify_content": null,
            "_view_module": "@jupyter-widgets/base",
            "overflow": null,
            "_model_module_version": "1.2.0",
            "_view_count": null,
            "flex_flow": null,
            "width": null,
            "min_width": null,
            "border": null,
            "align_items": null,
            "bottom": null,
            "_model_module": "@jupyter-widgets/base",
            "top": null,
            "grid_column": null,
            "overflow_y": null,
            "overflow_x": null,
            "grid_auto_flow": null,
            "grid_area": null,
            "grid_template_columns": null,
            "flex": null,
            "_model_name": "LayoutModel",
            "justify_items": null,
            "grid_row": null,
            "max_height": null,
            "align_content": null,
            "visibility": null,
            "align_self": null,
            "height": null,
            "min_height": null,
            "padding": null,
            "grid_auto_rows": null,
            "grid_gap": null,
            "max_width": null,
            "order": null,
            "_view_module_version": "1.2.0",
            "grid_template_areas": null,
            "object_position": null,
            "object_fit": null,
            "grid_auto_columns": null,
            "margin": null,
            "display": null,
            "left": null
          }
        },
        "cdd7c3afee67478ba42045bd66badf64": {
          "model_module": "@jupyter-widgets/controls",
          "model_name": "SliderStyleModel",
          "state": {
            "_view_name": "StyleView",
            "handle_color": null,
            "_model_name": "SliderStyleModel",
            "description_width": "",
            "_view_module": "@jupyter-widgets/base",
            "_model_module_version": "1.5.0",
            "_view_count": null,
            "_view_module_version": "1.2.0",
            "_model_module": "@jupyter-widgets/controls"
          }
        },
        "0b7277c35d4342adbead42097740d6b0": {
          "model_module": "@jupyter-widgets/base",
          "model_name": "LayoutModel",
          "state": {
            "_view_name": "LayoutView",
            "grid_template_rows": null,
            "right": null,
            "justify_content": null,
            "_view_module": "@jupyter-widgets/base",
            "overflow": null,
            "_model_module_version": "1.2.0",
            "_view_count": null,
            "flex_flow": null,
            "width": null,
            "min_width": null,
            "border": null,
            "align_items": null,
            "bottom": null,
            "_model_module": "@jupyter-widgets/base",
            "top": null,
            "grid_column": null,
            "overflow_y": null,
            "overflow_x": null,
            "grid_auto_flow": null,
            "grid_area": null,
            "grid_template_columns": null,
            "flex": null,
            "_model_name": "LayoutModel",
            "justify_items": null,
            "grid_row": null,
            "max_height": null,
            "align_content": null,
            "visibility": null,
            "align_self": null,
            "height": null,
            "min_height": null,
            "padding": null,
            "grid_auto_rows": null,
            "grid_gap": null,
            "max_width": null,
            "order": null,
            "_view_module_version": "1.2.0",
            "grid_template_areas": null,
            "object_position": null,
            "object_fit": null,
            "grid_auto_columns": null,
            "margin": null,
            "display": null,
            "left": null
          }
        },
        "f3e108909f6245e595aa25f78505c8fc": {
          "model_module": "@jupyter-widgets/base",
          "model_name": "LayoutModel",
          "state": {
            "_view_name": "LayoutView",
            "grid_template_rows": null,
            "right": null,
            "justify_content": null,
            "_view_module": "@jupyter-widgets/base",
            "overflow": null,
            "_model_module_version": "1.2.0",
            "_view_count": null,
            "flex_flow": null,
            "width": null,
            "min_width": null,
            "border": null,
            "align_items": null,
            "bottom": null,
            "_model_module": "@jupyter-widgets/base",
            "top": null,
            "grid_column": null,
            "overflow_y": null,
            "overflow_x": null,
            "grid_auto_flow": null,
            "grid_area": null,
            "grid_template_columns": null,
            "flex": null,
            "_model_name": "LayoutModel",
            "justify_items": null,
            "grid_row": null,
            "max_height": null,
            "align_content": null,
            "visibility": null,
            "align_self": null,
            "height": null,
            "min_height": null,
            "padding": null,
            "grid_auto_rows": null,
            "grid_gap": null,
            "max_width": null,
            "order": null,
            "_view_module_version": "1.2.0",
            "grid_template_areas": null,
            "object_position": null,
            "object_fit": null,
            "grid_auto_columns": null,
            "margin": null,
            "display": null,
            "left": null
          }
        },
        "f70de0f99b89476c94f9d0f9596318a6": {
          "model_module": "@jupyter-widgets/controls",
          "model_name": "VBoxModel",
          "state": {
            "_view_name": "VBoxView",
            "_dom_classes": [
              "widget-interact"
            ],
            "_model_name": "VBoxModel",
            "_view_module": "@jupyter-widgets/controls",
            "_model_module_version": "1.5.0",
            "_view_count": null,
            "_view_module_version": "1.5.0",
            "box_style": "",
            "layout": "IPY_MODEL_7cd0b05deb1d414594e780a009f5c6c2",
            "_model_module": "@jupyter-widgets/controls",
            "children": [
              "IPY_MODEL_5e43b5bbfd824204a9b38e7fa4d11672",
              "IPY_MODEL_3d2025f967954642badd5f9108d23e12",
              "IPY_MODEL_d01dadfc27d34e28afff7ca054526cbc",
              "IPY_MODEL_cd96a7329f084fcf970f143b0c433899",
              "IPY_MODEL_70a7d6265b534c83b0764f1471c338ef",
              "IPY_MODEL_77dc4f438b674b2584ed7a9a36481521"
            ]
          }
        },
        "7cd0b05deb1d414594e780a009f5c6c2": {
          "model_module": "@jupyter-widgets/base",
          "model_name": "LayoutModel",
          "state": {
            "_view_name": "LayoutView",
            "grid_template_rows": null,
            "right": null,
            "justify_content": null,
            "_view_module": "@jupyter-widgets/base",
            "overflow": null,
            "_model_module_version": "1.2.0",
            "_view_count": null,
            "flex_flow": null,
            "width": null,
            "min_width": null,
            "border": null,
            "align_items": null,
            "bottom": null,
            "_model_module": "@jupyter-widgets/base",
            "top": null,
            "grid_column": null,
            "overflow_y": null,
            "overflow_x": null,
            "grid_auto_flow": null,
            "grid_area": null,
            "grid_template_columns": null,
            "flex": null,
            "_model_name": "LayoutModel",
            "justify_items": null,
            "grid_row": null,
            "max_height": null,
            "align_content": null,
            "visibility": null,
            "align_self": null,
            "height": null,
            "min_height": null,
            "padding": null,
            "grid_auto_rows": null,
            "grid_gap": null,
            "max_width": null,
            "order": null,
            "_view_module_version": "1.2.0",
            "grid_template_areas": null,
            "object_position": null,
            "object_fit": null,
            "grid_auto_columns": null,
            "margin": null,
            "display": null,
            "left": null
          }
        },
        "5e43b5bbfd824204a9b38e7fa4d11672": {
          "model_module": "@jupyter-widgets/controls",
          "model_name": "FloatLogSliderModel",
          "state": {
            "_view_name": "FloatLogSliderView",
            "orientation": "horizontal",
            "_view_module": "@jupyter-widgets/controls",
            "_model_module_version": "1.5.0",
            "_view_count": null,
            "disabled": false,
            "readout_format": ".3g",
            "_model_module": "@jupyter-widgets/controls",
            "style": "IPY_MODEL_f0ad25f644e54ab89cd6d87781d8b59d",
            "layout": "IPY_MODEL_6e2566a13795495eb0539d748e4fa7ad",
            "min": 2,
            "continuous_update": true,
            "description_tooltip": null,
            "_dom_classes": [],
            "description": "n_steps",
            "_model_name": "FloatLogSliderModel",
            "max": 4,
            "readout": true,
            "step": 0.1,
            "base": 10,
            "value": 1000,
            "_view_module_version": "1.5.0"
          }
        },
        "3d2025f967954642badd5f9108d23e12": {
          "model_module": "@jupyter-widgets/controls",
          "model_name": "FloatLogSliderModel",
          "state": {
            "_view_name": "FloatLogSliderView",
            "orientation": "horizontal",
            "_view_module": "@jupyter-widgets/controls",
            "_model_module_version": "1.5.0",
            "_view_count": null,
            "disabled": false,
            "readout_format": ".3g",
            "_model_module": "@jupyter-widgets/controls",
            "style": "IPY_MODEL_2d51bc6a147546cdac52fd315964751b",
            "layout": "IPY_MODEL_0c20283b88eb4c438bf8f95bcd9ac095",
            "min": -2,
            "continuous_update": true,
            "description_tooltip": null,
            "_dom_classes": [],
            "description": "alpha",
            "_model_name": "FloatLogSliderModel",
            "max": 1,
            "readout": true,
            "step": 0.1,
            "base": 10,
            "value": 0.5,
            "_view_module_version": "1.5.0"
          }
        },
        "d01dadfc27d34e28afff7ca054526cbc": {
          "model_module": "@jupyter-widgets/controls",
          "model_name": "FloatLogSliderModel",
          "state": {
            "_view_name": "FloatLogSliderView",
            "orientation": "horizontal",
            "_view_module": "@jupyter-widgets/controls",
            "_model_module_version": "1.5.0",
            "_view_count": null,
            "disabled": false,
            "readout_format": ".3g",
            "_model_module": "@jupyter-widgets/controls",
            "style": "IPY_MODEL_d421d2d28f8f49048387fe3584510b07",
            "layout": "IPY_MODEL_889f82854035479bb11a4994b0b599b1",
            "min": -2,
            "continuous_update": true,
            "description_tooltip": null,
            "_dom_classes": [],
            "description": "beta",
            "_model_name": "FloatLogSliderModel",
            "max": 0,
            "readout": true,
            "step": 0.1,
            "base": 10,
            "value": 0.1,
            "_view_module_version": "1.5.0"
          }
        },
        "cd96a7329f084fcf970f143b0c433899": {
          "model_module": "@jupyter-widgets/controls",
          "model_name": "IntSliderModel",
          "state": {
            "_view_name": "IntSliderView",
            "style": "IPY_MODEL_52aa4fa6c9a44969a3af0b9ec4b29d34",
            "_dom_classes": [],
            "description": "exc_rate",
            "step": 1,
            "_model_name": "IntSliderModel",
            "orientation": "horizontal",
            "max": 20,
            "_view_module": "@jupyter-widgets/controls",
            "_model_module_version": "1.5.0",
            "value": 10,
            "_view_count": null,
            "disabled": false,
            "_view_module_version": "1.5.0",
            "min": 1,
            "continuous_update": true,
            "readout_format": "d",
            "description_tooltip": null,
            "readout": true,
            "_model_module": "@jupyter-widgets/controls",
            "layout": "IPY_MODEL_ca0b1e62c9444e6684cc477b7c828de1"
          }
        },
        "70a7d6265b534c83b0764f1471c338ef": {
          "model_module": "@jupyter-widgets/controls",
          "model_name": "IntSliderModel",
          "state": {
            "_view_name": "IntSliderView",
            "style": "IPY_MODEL_491effaf043540bb8f0970a96000ed6b",
            "_dom_classes": [],
            "description": "inh_rate",
            "step": 1,
            "_model_name": "IntSliderModel",
            "orientation": "horizontal",
            "max": 20,
            "_view_module": "@jupyter-widgets/controls",
            "_model_module_version": "1.5.0",
            "value": 10,
            "_view_count": null,
            "disabled": false,
            "_view_module_version": "1.5.0",
            "min": 1,
            "continuous_update": true,
            "readout_format": "d",
            "description_tooltip": null,
            "readout": true,
            "_model_module": "@jupyter-widgets/controls",
            "layout": "IPY_MODEL_8e26c6602f8942e494c8ae18c32a9322"
          }
        },
        "77dc4f438b674b2584ed7a9a36481521": {
          "model_module": "@jupyter-widgets/output",
          "model_name": "OutputModel",
          "state": {
            "_view_name": "OutputView",
            "msg_id": "",
            "_dom_classes": [],
            "_model_name": "OutputModel",
            "outputs": [
              {
                "output_type": "display_data",
                "metadata": {
                  "tags": [],
                  "needs_background": "light"
                },
                "image/png": "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\n",
                "text/plain": "<Figure size 864x360 with 2 Axes>"
              }
            ],
            "_view_module": "@jupyter-widgets/output",
            "_model_module_version": "1.0.0",
            "_view_count": null,
            "_view_module_version": "1.0.0",
            "layout": "IPY_MODEL_52e72ef1d743483d9899a8276d201041",
            "_model_module": "@jupyter-widgets/output"
          }
        },
        "f0ad25f644e54ab89cd6d87781d8b59d": {
          "model_module": "@jupyter-widgets/controls",
          "model_name": "SliderStyleModel",
          "state": {
            "_view_name": "StyleView",
            "handle_color": null,
            "_model_name": "SliderStyleModel",
            "description_width": "",
            "_view_module": "@jupyter-widgets/base",
            "_model_module_version": "1.5.0",
            "_view_count": null,
            "_view_module_version": "1.2.0",
            "_model_module": "@jupyter-widgets/controls"
          }
        },
        "6e2566a13795495eb0539d748e4fa7ad": {
          "model_module": "@jupyter-widgets/base",
          "model_name": "LayoutModel",
          "state": {
            "_view_name": "LayoutView",
            "grid_template_rows": null,
            "right": null,
            "justify_content": null,
            "_view_module": "@jupyter-widgets/base",
            "overflow": null,
            "_model_module_version": "1.2.0",
            "_view_count": null,
            "flex_flow": null,
            "width": null,
            "min_width": null,
            "border": null,
            "align_items": null,
            "bottom": null,
            "_model_module": "@jupyter-widgets/base",
            "top": null,
            "grid_column": null,
            "overflow_y": null,
            "overflow_x": null,
            "grid_auto_flow": null,
            "grid_area": null,
            "grid_template_columns": null,
            "flex": null,
            "_model_name": "LayoutModel",
            "justify_items": null,
            "grid_row": null,
            "max_height": null,
            "align_content": null,
            "visibility": null,
            "align_self": null,
            "height": null,
            "min_height": null,
            "padding": null,
            "grid_auto_rows": null,
            "grid_gap": null,
            "max_width": null,
            "order": null,
            "_view_module_version": "1.2.0",
            "grid_template_areas": null,
            "object_position": null,
            "object_fit": null,
            "grid_auto_columns": null,
            "margin": null,
            "display": null,
            "left": null
          }
        },
        "2d51bc6a147546cdac52fd315964751b": {
          "model_module": "@jupyter-widgets/controls",
          "model_name": "SliderStyleModel",
          "state": {
            "_view_name": "StyleView",
            "handle_color": null,
            "_model_name": "SliderStyleModel",
            "description_width": "",
            "_view_module": "@jupyter-widgets/base",
            "_model_module_version": "1.5.0",
            "_view_count": null,
            "_view_module_version": "1.2.0",
            "_model_module": "@jupyter-widgets/controls"
          }
        },
        "0c20283b88eb4c438bf8f95bcd9ac095": {
          "model_module": "@jupyter-widgets/base",
          "model_name": "LayoutModel",
          "state": {
            "_view_name": "LayoutView",
            "grid_template_rows": null,
            "right": null,
            "justify_content": null,
            "_view_module": "@jupyter-widgets/base",
            "overflow": null,
            "_model_module_version": "1.2.0",
            "_view_count": null,
            "flex_flow": null,
            "width": null,
            "min_width": null,
            "border": null,
            "align_items": null,
            "bottom": null,
            "_model_module": "@jupyter-widgets/base",
            "top": null,
            "grid_column": null,
            "overflow_y": null,
            "overflow_x": null,
            "grid_auto_flow": null,
            "grid_area": null,
            "grid_template_columns": null,
            "flex": null,
            "_model_name": "LayoutModel",
            "justify_items": null,
            "grid_row": null,
            "max_height": null,
            "align_content": null,
            "visibility": null,
            "align_self": null,
            "height": null,
            "min_height": null,
            "padding": null,
            "grid_auto_rows": null,
            "grid_gap": null,
            "max_width": null,
            "order": null,
            "_view_module_version": "1.2.0",
            "grid_template_areas": null,
            "object_position": null,
            "object_fit": null,
            "grid_auto_columns": null,
            "margin": null,
            "display": null,
            "left": null
          }
        },
        "d421d2d28f8f49048387fe3584510b07": {
          "model_module": "@jupyter-widgets/controls",
          "model_name": "SliderStyleModel",
          "state": {
            "_view_name": "StyleView",
            "handle_color": null,
            "_model_name": "SliderStyleModel",
            "description_width": "",
            "_view_module": "@jupyter-widgets/base",
            "_model_module_version": "1.5.0",
            "_view_count": null,
            "_view_module_version": "1.2.0",
            "_model_module": "@jupyter-widgets/controls"
          }
        },
        "889f82854035479bb11a4994b0b599b1": {
          "model_module": "@jupyter-widgets/base",
          "model_name": "LayoutModel",
          "state": {
            "_view_name": "LayoutView",
            "grid_template_rows": null,
            "right": null,
            "justify_content": null,
            "_view_module": "@jupyter-widgets/base",
            "overflow": null,
            "_model_module_version": "1.2.0",
            "_view_count": null,
            "flex_flow": null,
            "width": null,
            "min_width": null,
            "border": null,
            "align_items": null,
            "bottom": null,
            "_model_module": "@jupyter-widgets/base",
            "top": null,
            "grid_column": null,
            "overflow_y": null,
            "overflow_x": null,
            "grid_auto_flow": null,
            "grid_area": null,
            "grid_template_columns": null,
            "flex": null,
            "_model_name": "LayoutModel",
            "justify_items": null,
            "grid_row": null,
            "max_height": null,
            "align_content": null,
            "visibility": null,
            "align_self": null,
            "height": null,
            "min_height": null,
            "padding": null,
            "grid_auto_rows": null,
            "grid_gap": null,
            "max_width": null,
            "order": null,
            "_view_module_version": "1.2.0",
            "grid_template_areas": null,
            "object_position": null,
            "object_fit": null,
            "grid_auto_columns": null,
            "margin": null,
            "display": null,
            "left": null
          }
        },
        "52aa4fa6c9a44969a3af0b9ec4b29d34": {
          "model_module": "@jupyter-widgets/controls",
          "model_name": "SliderStyleModel",
          "state": {
            "_view_name": "StyleView",
            "handle_color": null,
            "_model_name": "SliderStyleModel",
            "description_width": "",
            "_view_module": "@jupyter-widgets/base",
            "_model_module_version": "1.5.0",
            "_view_count": null,
            "_view_module_version": "1.2.0",
            "_model_module": "@jupyter-widgets/controls"
          }
        },
        "ca0b1e62c9444e6684cc477b7c828de1": {
          "model_module": "@jupyter-widgets/base",
          "model_name": "LayoutModel",
          "state": {
            "_view_name": "LayoutView",
            "grid_template_rows": null,
            "right": null,
            "justify_content": null,
            "_view_module": "@jupyter-widgets/base",
            "overflow": null,
            "_model_module_version": "1.2.0",
            "_view_count": null,
            "flex_flow": null,
            "width": null,
            "min_width": null,
            "border": null,
            "align_items": null,
            "bottom": null,
            "_model_module": "@jupyter-widgets/base",
            "top": null,
            "grid_column": null,
            "overflow_y": null,
            "overflow_x": null,
            "grid_auto_flow": null,
            "grid_area": null,
            "grid_template_columns": null,
            "flex": null,
            "_model_name": "LayoutModel",
            "justify_items": null,
            "grid_row": null,
            "max_height": null,
            "align_content": null,
            "visibility": null,
            "align_self": null,
            "height": null,
            "min_height": null,
            "padding": null,
            "grid_auto_rows": null,
            "grid_gap": null,
            "max_width": null,
            "order": null,
            "_view_module_version": "1.2.0",
            "grid_template_areas": null,
            "object_position": null,
            "object_fit": null,
            "grid_auto_columns": null,
            "margin": null,
            "display": null,
            "left": null
          }
        },
        "491effaf043540bb8f0970a96000ed6b": {
          "model_module": "@jupyter-widgets/controls",
          "model_name": "SliderStyleModel",
          "state": {
            "_view_name": "StyleView",
            "handle_color": null,
            "_model_name": "SliderStyleModel",
            "description_width": "",
            "_view_module": "@jupyter-widgets/base",
            "_model_module_version": "1.5.0",
            "_view_count": null,
            "_view_module_version": "1.2.0",
            "_model_module": "@jupyter-widgets/controls"
          }
        },
        "8e26c6602f8942e494c8ae18c32a9322": {
          "model_module": "@jupyter-widgets/base",
          "model_name": "LayoutModel",
          "state": {
            "_view_name": "LayoutView",
            "grid_template_rows": null,
            "right": null,
            "justify_content": null,
            "_view_module": "@jupyter-widgets/base",
            "overflow": null,
            "_model_module_version": "1.2.0",
            "_view_count": null,
            "flex_flow": null,
            "width": null,
            "min_width": null,
            "border": null,
            "align_items": null,
            "bottom": null,
            "_model_module": "@jupyter-widgets/base",
            "top": null,
            "grid_column": null,
            "overflow_y": null,
            "overflow_x": null,
            "grid_auto_flow": null,
            "grid_area": null,
            "grid_template_columns": null,
            "flex": null,
            "_model_name": "LayoutModel",
            "justify_items": null,
            "grid_row": null,
            "max_height": null,
            "align_content": null,
            "visibility": null,
            "align_self": null,
            "height": null,
            "min_height": null,
            "padding": null,
            "grid_auto_rows": null,
            "grid_gap": null,
            "max_width": null,
            "order": null,
            "_view_module_version": "1.2.0",
            "grid_template_areas": null,
            "object_position": null,
            "object_fit": null,
            "grid_auto_columns": null,
            "margin": null,
            "display": null,
            "left": null
          }
        },
        "52e72ef1d743483d9899a8276d201041": {
          "model_module": "@jupyter-widgets/base",
          "model_name": "LayoutModel",
          "state": {
            "_view_name": "LayoutView",
            "grid_template_rows": null,
            "right": null,
            "justify_content": null,
            "_view_module": "@jupyter-widgets/base",
            "overflow": null,
            "_model_module_version": "1.2.0",
            "_view_count": null,
            "flex_flow": null,
            "width": null,
            "min_width": null,
            "border": null,
            "align_items": null,
            "bottom": null,
            "_model_module": "@jupyter-widgets/base",
            "top": null,
            "grid_column": null,
            "overflow_y": null,
            "overflow_x": null,
            "grid_auto_flow": null,
            "grid_area": null,
            "grid_template_columns": null,
            "flex": null,
            "_model_name": "LayoutModel",
            "justify_items": null,
            "grid_row": null,
            "max_height": null,
            "align_content": null,
            "visibility": null,
            "align_self": null,
            "height": null,
            "min_height": null,
            "padding": null,
            "grid_auto_rows": null,
            "grid_gap": null,
            "max_width": null,
            "order": null,
            "_view_module_version": "1.2.0",
            "grid_template_areas": null,
            "object_position": null,
            "object_fit": null,
            "grid_auto_columns": null,
            "margin": null,
            "display": null,
            "left": null
          }
        }
      }
    }
  },
  "cells": [
    {
      "cell_type": "markdown",
      "metadata": {
        "id": "view-in-github",
        "colab_type": "text"
      },
      "source": [
        "<a href=\"https://colab.research.google.com/github/NeuromatchAcademy/course-content/blob/W1D1/tutorials/W1D1-ModelTypes/W1D1_Tutorial2.ipynb\" target=\"_parent\"><img src=\"https://colab.research.google.com/assets/colab-badge.svg\" alt=\"Open In Colab\"/></a>"
      ]
    },
    {
      "cell_type": "markdown",
      "metadata": {
        "id": "HwYPw4CvrYCV",
        "colab_type": "text"
      },
      "source": [
        "#  NMA Model Types Tutorial 2: \"How\" models\n",
        "\n",
        "In this tutorial we will explore models that can potentially explain *how* the spiking data we have observed is produced. That is, the models will tell us something about the *mechanism* underlying the physiological phenomenon.\n",
        "\n",
        "Our objectives:\n",
        "- Write code to simulate a  simple \"leaky integrate-and-fire\" neuron model\n",
        "- Make the model more complicated — but also more realistic — by adding more physiologically-inspired details"
      ]
    },
    {
      "cell_type": "code",
      "metadata": {
        "id": "nfdfxF_ee8sZ",
        "colab_type": "code",
        "colab": {
          "base_uri": "https://localhost:8080/",
          "height": 519
        },
        "cellView": "form",
        "outputId": "c7d34629-29cd-40c3-de4f-1b0ba7d19c77"
      },
      "source": [
        "#@title Video: \"How\" models\n",
        "from IPython.display import YouTubeVideo\n",
        "video = YouTubeVideo(id='cXKna34K1P4', width=854, height=480, fs=1)\n",
        "print(\"Video available at https://youtube.com/watch?v=\" + video.id)\n",
        "video"
      ],
      "execution_count": 1,
      "outputs": [
        {
          "output_type": "stream",
          "text": [
            "Video available at https://youtube.com/watch?v=cXKna34K1P4\n"
          ],
          "name": "stdout"
        },
        {
          "output_type": "execute_result",
          "data": {
            "text/html": [
              "\n",
              "        <iframe\n",
              "            width=\"854\"\n",
              "            height=\"480\"\n",
              "            src=\"https://www.youtube.com/embed/cXKna34K1P4?fs=1\"\n",
              "            frameborder=\"0\"\n",
              "            allowfullscreen\n",
              "        ></iframe>\n",
              "        "
            ],
            "text/plain": [
              "<IPython.lib.display.YouTubeVideo at 0x7f85d305f710>"
            ],
            "image/jpeg": "[encoded data removed]"
          },
          "metadata": {
            "tags": []
          },
          "execution_count": 1
        }
      ]
    },
    {
      "cell_type": "markdown",
      "metadata": {
        "id": "yQN8ug6asey4",
        "colab_type": "text"
      },
      "source": [
        "## Setup\n",
        "\n",
        "**Don't forget to execute the hidden cells!**"
      ]
    },
    {
      "cell_type": "code",
      "metadata": {
        "id": "w6RPNLB6rYCW",
        "colab_type": "code",
        "cellView": "form",
        "colab": {}
      },
      "source": [
        "#@title Imports\n",
        "import matplotlib.pyplot as plt\n",
        "import numpy as np\n",
        "import scipy.stats as stats\n",
        "\n",
        "import ipywidgets as widgets"
      ],
      "execution_count": 2,
      "outputs": []
    },
    {
      "cell_type": "code",
      "metadata": {
        "id": "CK1bXaOgrYCZ",
        "colab_type": "code",
        "cellView": "form",
        "colab": {}
      },
      "source": [
        "#@title Helper Functions\n",
        "def histogram(counts, bins, vlines=(), ax=None, ax_args=None, **kwargs):\n",
        "  \"\"\"Plot a step histogram given counts over bins.\"\"\"\n",
        "  if ax is None:\n",
        "    _, ax = plt.subplots()\n",
        "    \n",
        "  # duplicate the first element of `counts` to match bin edges\n",
        "  counts = np.insert(counts, 0, counts[0])\n",
        "\n",
        "  ax.fill_between(bins, counts, step=\"pre\", alpha=0.4, **kwargs)  # area shading\n",
        "  ax.plot(bins, counts, drawstyle=\"steps\", **kwargs)  # lines\n",
        "\n",
        "  for x in vlines:\n",
        "    ax.axvline(x, color='r', linestyle='dotted')  # vertical line\n",
        "\n",
        "  if ax_args is None:\n",
        "    ax_args = {}\n",
        "\n",
        "  # heuristically set max y to leave a bit of room\n",
        "  ymin, ymax = ax_args.get('ylim', [None, None])\n",
        "  if ymax is None: \n",
        "    ymax = np.max(counts)\n",
        "    if ax_args.get('yscale', 'linear') == 'log':\n",
        "      ymax *= 1.5\n",
        "    else:\n",
        "      ymax *= 1.1\n",
        "      if ymin is None:\n",
        "        ymin = 0\n",
        "\n",
        "  if ymax == ymin:\n",
        "    ymax = None\n",
        "  \n",
        "  ax_args['ylim'] = [ymin, ymax]\n",
        "  \n",
        "  ax.set(**ax_args)\n",
        "  ax.autoscale(enable=False, axis='x', tight=True)\n",
        "\n",
        "\n",
        "def plot_neuron_stats(v, spike_times):\n",
        "  fig, (ax1, ax2) = plt.subplots(ncols=2, figsize=(12, 5))\n",
        "  \n",
        "  # membrane voltage trace  \n",
        "  ax1.plot(v[0:100])\n",
        "  ax1.set(xlabel='Time', ylabel='Voltage')\n",
        "  # plot spike events\n",
        "  for x in spike_times:\n",
        "    if x >= 100:\n",
        "      break\n",
        "    ax1.axvline(x, color='limegreen')\n",
        "\n",
        "  # ISI distribution \n",
        "  isi = np.diff(spike_times)\n",
        "  n_bins = bins = np.arange(isi.min(), isi.max() + 2) - .5\n",
        "  counts, bins = np.histogram(isi, bins)\n",
        "  vlines = []\n",
        "  if len(isi) > 0:\n",
        "    vlines = [np.mean(isi)]    \n",
        "  xmax = max(20, int(bins[-1])+5)\n",
        "  histogram(counts, bins, vlines=vlines, ax=ax2, ax_args={\n",
        "    'xlabel': 'Inter-spike interval',\n",
        "    'ylabel': 'Number of intervals',\n",
        "    'xlim': [0, xmax]\n",
        "  }) "
      ],
      "execution_count": 3,
      "outputs": []
    },
    {
      "cell_type": "markdown",
      "metadata": {
        "id": "kOxLk8AvrYCe",
        "colab_type": "text"
      },
      "source": [
        "## The Linear Integrate-and-Fire Neuron\n",
        "\n",
        "One of the simplest models of spiking neuron behavior is the linear integrate-and-fire model neuron. In this model, the neuron increases its membrane potential $V_m$ over time in response to excitatory input currents $I$ scaled by some factor $\\alpha$:\n",
        "\n",
        "\\begin{align}\n",
        "  dV_m = {\\alpha}I\n",
        "\\end{align}\n",
        "\n",
        "Once $V_m$ reaches a threshold value of 1, a spike is emitted, the neuron resets $V_m$ back to 0, and the process continues.\n",
        "\n",
        "#### Spiking Inputs\n",
        "\n",
        "We now have a model for the neuron dynamics. Next we need to consider what form the input $I$ will take. How should we represent the presynaptic neuron firing behavior providing the input coming into our model nueuron? We learned previously that a good approximation of spike timing is a Poisson random variable, so we can do that here as well\n",
        "\n",
        "\\begin{align}\n",
        "  I \\sim Poisson(\\lambda)\n",
        "\\end{align}\n",
        "\n",
        "where $\\lambda$ is the average rate of incoming spikes."
      ]
    },
    {
      "cell_type": "markdown",
      "metadata": {
        "id": "Ls8CsM2Pf7LQ",
        "colab_type": "text"
      },
      "source": [
        "### Exercise: Compute $dV_m$\n",
        "\n",
        "For your first exercise, you will write the code to compute the change in voltage $dV_m$ of the linear integrate-and-fire model neuron. The rest of the code to handle the neuron dynamics are provided for you, so you just need to fill in a definition for `dv` in the `lif_neuron` method below. The value for $\\lambda$ needed for the Poisson random variable is named `rate`.\n",
        "\n",
        "TIP: The [`scipy.stats`](https://docs.scipy.org/doc/scipy/reference/stats.html) package is a great resource for working with and sampling from various probability distributions."
      ]
    },
    {
      "cell_type": "code",
      "metadata": {
        "id": "HQU61YUDrYCe",
        "colab_type": "code",
        "colab": {}
      },
      "source": [
        "def lif_neuron(n_steps=1000, alpha=0.01, rate=10):\n",
        "  \"\"\" Simulate a linear integrate-and-fire neuron.\n",
        "\n",
        "  Args:\n",
        "    n_steps (int): The number of time steps to simulate the neuron's activity.\n",
        "    alpha (float): The input scaling factor\n",
        "    rate (int): The mean rate of incoming spikes\n",
        "\n",
        "  \"\"\"\n",
        "  v = np.zeros(n_steps)\n",
        "  spike_times = []\n",
        "  for i in range(1, n_steps):\n",
        "\n",
        "    #######################################################################\n",
        "    ## TODO for students: compute dv, then remove the NotImplementedError #\n",
        "    #######################################################################\n",
        "    # dv = ...\n",
        "    raise NotImplementedError(\"Student excercise: compute the change in membrane potential\")\n",
        "\n",
        "    v[i] = v[i-1] + dv\n",
        "    if v[i] > 1:\n",
        "      spike_times.append(i)\n",
        "      v[i] = 0\n",
        "  \n",
        "  return v, spike_times\n",
        "\n",
        "# Uncomment these lines after completing the lif_neuron function\n",
        "# v, spike_times = lif_neuron()\n",
        "# plot_neuron_stats(v, spike_times)"
      ],
      "execution_count": 4,
      "outputs": []
    },
    {
      "cell_type": "code",
      "metadata": {
        "id": "u-oCuaFAiRi5",
        "colab_type": "code",
        "cellView": "both",
        "colab": {
          "base_uri": "https://localhost:8080/",
          "height": 340
        },
        "outputId": "7c76e65b-baff-4cd0-a761-e16478b3ede8"
      },
      "source": [
        "# to_remove solution\n",
        "def lif_neuron(n_steps=1000, alpha=0.01, rate=10):\n",
        "  \"\"\" Simulate a linear integrate-and-fire neuron.\n",
        "  \n",
        "  Args:\n",
        "    n_steps (int): The number of time steps to simulate the neuron's activity.\n",
        "    alpha (float): The input scaling factor\n",
        "    rate (int): The mean rate of incoming spikes\n",
        "  \"\"\"\n",
        "  # precompute Poisson samples for speed\n",
        "  exc = stats.poisson(rate).rvs(n_steps)\n",
        "\n",
        "  v = np.zeros(n_steps)\n",
        "  spike_times = []\n",
        "  for i in range(1, n_steps):\n",
        "    dv = alpha * exc[i]\n",
        "    v[i] = v[i-1] + dv\n",
        "    if v[i] > 1:\n",
        "      spike_times.append(i)\n",
        "      v[i] = 0\n",
        "\n",
        "  return v, spike_times\n",
        "\n",
        "v, spike_times = lif_neuron()\n",
        "with plt.xkcd():\n",
        "  plot_neuron_stats(v, spike_times)"
      ],
      "execution_count": 5,
      "outputs": [
        {
          "output_type": "display_data",
          "data": {
            "image/png": "[encoded data removed]",
            "text/plain": [
              "<Figure size 864x360 with 2 Axes>"
            ]
          },
          "metadata": {
            "tags": []
          }
        }
      ]
    },
    {
      "cell_type": "markdown",
      "metadata": {
        "id": "V9xEZVAHr5Kv",
        "colab_type": "text"
      },
      "source": [
        "### Parameter Exploration\n",
        "\n",
        "Here's an interactive demo that shows how the model behavior changes for different parameter values.\n",
        "\n",
        "**Remember to enable the demo by running the cell.**"
      ]
    },
    {
      "cell_type": "code",
      "metadata": {
        "id": "RRjD0G3nrYCh",
        "colab_type": "code",
        "cellView": "form",
        "colab": {
          "base_uri": "https://localhost:8080/",
          "height": 430,
          "referenced_widgets": [
            "98277d2ce42341e5b8893935fb463f89",
            "47b133c242be4959904aad9c29a506ab",
            "e10ab57cce724492adab76e04288bc46",
            "8fdce3050c684a3e91757c09c5153be1",
            "e917522f0aaa4b4b9b9455ddf0d479d5",
            "bfb2c4adc0354f91a7f6bbd017f5b9f4",
            "779d65ef47cd4d9485f3c061ff51a076",
            "29c7bcd1333d44369e4462fa1114d564",
            "f23fd4646f02443699d50b2493b01f7c",
            "348ca757746b45d895dc2ba9768ed5b7",
            "cdd7c3afee67478ba42045bd66badf64",
            "0b7277c35d4342adbead42097740d6b0",
            "f3e108909f6245e595aa25f78505c8fc"
          ]
        },
        "outputId": "41b03ef7-f3c9-4905-c9e1-930cdc67b48b"
      },
      "source": [
        "#@title Linear Integrate-and-Fire Model Neuron Explorer\n",
        "\n",
        "def _lif_neuron(n_steps=1000, alpha=0.01, rate=10):\n",
        "  exc = stats.poisson(rate).rvs(n_steps)\n",
        "  v = np.zeros(n_steps)\n",
        "  spike_times = []\n",
        "  for i in range(1, n_steps):\n",
        "    dv = alpha * exc[i]\n",
        "    v[i] = v[i-1] + dv\n",
        "    if v[i] > 1:\n",
        "      spike_times.append(i)\n",
        "      v[i] = 0\n",
        "  return v, spike_times\n",
        "\n",
        "@widgets.interact(\n",
        "  n_steps=widgets.FloatLogSlider(1000.0, min=2, max=4),\n",
        "  alpha=widgets.FloatLogSlider(0.01, min=-4, max=-1),\n",
        "  rate=widgets.IntSlider(10, min=1, max=20)\n",
        ")\n",
        "def plot_lif_neuron(n_steps=1000, alpha=0.01, rate=10):\n",
        "  v, spike_times = _lif_neuron(int(n_steps), alpha, rate)\n",
        "  plot_neuron_stats(v, spike_times)"
      ],
      "execution_count": 6,
      "outputs": [
        {
          "output_type": "display_data",
          "data": {
            "application/vnd.jupyter.widget-view+json": {
              "model_id": "98277d2ce42341e5b8893935fb463f89",
              "version_minor": 0,
              "version_major": 2
            },
            "text/plain": [
              "interactive(children=(FloatLogSlider(value=1000.0, description='n_steps', min=2.0), FloatLogSlider(value=0.01,…"
            ]
          },
          "metadata": {
            "tags": []
          }
        }
      ]
    },
    {
      "cell_type": "markdown",
      "metadata": {
        "id": "91UgFMVPrYCk",
        "colab_type": "text"
      },
      "source": [
        "## Inhibitory signals\n",
        "\n",
        "Our linear integrate-and-fire neuron from the previous section was indeed able to produce spikes, but the actual spiking behavior did not line up with our expectations of exponentially distributed ISIs. This means we need to refine our model!\n",
        "\n",
        "In the previous model we only considered excitatory behavior -- the only way the membrane potential could decrease is upon a spike event. We know, however, that there are other factors that can drive $V_m$ down. First is the natural tendancy of the neuron to return to some steady state or resting potential. We can update our previous model as follows:\n",
        "\n",
        "\\begin{align}\n",
        "  dV_m = -{\\beta}V_m + {\\alpha}I\n",
        "\\end{align}\n",
        "\n",
        "where $V_m$ is the current membrane potential and $\\beta$ is some leakage factor. This is a basic form of the popular Leaky Integrate-and-Fire model neuron (for a more detailed discussion of the LIF Neuron, see the Appendix).\n",
        "\n",
        "We also know that in addition to excitatory presynaptic neurons, we can have inhibitory presynaptic neurons as well. We can model these inhibitory neurons with another Poisson random variable, giving us\n",
        "\n",
        "\\begin{align}\n",
        "I = I_{exc} - I_{inh} \\\\\n",
        "I_{exc} \\sim Poisson(\\lambda_{exc}) \\\\\n",
        "I_{inh} \\sim Poisson(\\lambda_{inh})\n",
        "\\end{align}\n",
        "\n",
        "where $\\lambda_{exc}$ and $\\lambda_{inh}$ are the rates of the excitatory and inhibitory presynaptic neurons, respectively."
      ]
    },
    {
      "cell_type": "markdown",
      "metadata": {
        "id": "3tErnV24y_Pa",
        "colab_type": "text"
      },
      "source": [
        "### Exercise: Compute $dV_m$ with inhibitory signals\n",
        "\n",
        "For your second exercise, you will again write the code to compute the change in voltage $dV_m$, though now of the LIF model neuron described above. Like last time, the rest of the code needed to handle the neuron dynamics are provided for you, so you just need to fill in a definition for `dv` below.\n"
      ]
    },
    {
      "cell_type": "code",
      "metadata": {
        "id": "RfT7XE_UzUUl",
        "colab_type": "code",
        "colab": {}
      },
      "source": [
        "def lif_neuron_inh(n_steps=1000, alpha=0.5, beta=0.1, exc_rate=10, inh_rate=10):\n",
        "  \"\"\" Simulate a simplified leaky integrate-and-fire neuron with both excitatory\n",
        "  and inhibitory inputs.\n",
        "  \n",
        "  Args:\n",
        "    n_steps (int): The number of time steps to simulate the neuron's activity.\n",
        "    alpha (float): The input scaling factor\n",
        "    beta (float): The membrane potential leakage factor\n",
        "    exc_rate (int): The mean rate of the incoming excitatory spikes\n",
        "    inh_rate (int): The mean rate of the incoming inhibitory spikes\n",
        "  \"\"\"\n",
        "  v = np.zeros(n_steps)\n",
        "  spike_times = []\n",
        "  for i in range(1, n_steps):\n",
        "\n",
        "    ############################################################\n",
        "    ## Students: compute dv and remove the NotImplementedError #\n",
        "    ############################################################\n",
        "    # dv = ...\n",
        "    raise NotImplementedError(\"Student excercise: compute the change in membrane potential\")\n",
        "\n",
        "    v[i] = v[i-1] + dv\n",
        "    if v[i] > 1:\n",
        "      spike_times.append(i)\n",
        "      v[i] = 0\n",
        "\n",
        "  return v, spike_times\n",
        "\n",
        "# Uncomment these lines do make the plot once you've completed the function\n",
        "# v, spike_times = lif_neuron_inh()\n",
        "# plot_neuron_stats(v, spike_times)"
      ],
      "execution_count": 7,
      "outputs": []
    },
    {
      "cell_type": "code",
      "metadata": {
        "id": "opfSK1CrrYCk",
        "colab_type": "code",
        "cellView": "both",
        "colab": {}
      },
      "source": [
        "# to_remove solution\n",
        "def lif_neuron_inh(n_steps=1000, alpha=0.5, beta=0.1, exc_rate=10, inh_rate=10):\n",
        "  \"\"\" Simulate a simplified leaky integrate-and-fire neuron with both excitatory\n",
        "  and inhibitory inputs.\n",
        "  \n",
        "  Args:\n",
        "    n_steps (int): The number of time steps to simulate the neuron's activity.\n",
        "    alpha (float): The input scaling factor\n",
        "    beta (float): The membrane potential leakage factor\n",
        "    exc_rate (int): The mean rate of the incoming excitatory spikes\n",
        "    inh_rate (int): The mean rate of the incoming inhibitory spikes\n",
        "  \"\"\"\n",
        "  # precompute Poisson samples for speed\n",
        "  exc = stats.poisson(exc_rate).rvs(n_steps)\n",
        "  inh = stats.poisson(inh_rate).rvs(n_steps)\n",
        "\n",
        "  v = np.zeros(n_steps)\n",
        "  spike_times = []\n",
        "  for i in range(1, n_steps):\n",
        "    dv = -beta * v[i-1] + alpha * (exc[i] - inh[i])\n",
        "    v[i] = v[i-1] + dv\n",
        "    if v[i] > 1:\n",
        "      spike_times.append(i)\n",
        "      v[i] = 0\n",
        "\n",
        "  return v, spike_times"
      ],
      "execution_count": 8,
      "outputs": []
    },
    {
      "cell_type": "code",
      "metadata": {
        "id": "66msnOg2_R65",
        "colab_type": "code",
        "colab": {
          "base_uri": "https://localhost:8080/",
          "height": 336
        },
        "outputId": "f3a84338-5ec3-4042-e4a9-cbe27ffd3564"
      },
      "source": [
        "v, spike_times = lif_neuron_inh()\n",
        "plot_neuron_stats(v, spike_times)"
      ],
      "execution_count": 9,
      "outputs": [
        {
          "output_type": "display_data",
          "data": {
            "image/png": "[encoded data removed]",
            "text/plain": [
              "<Figure size 864x360 with 2 Axes>"
            ]
          },
          "metadata": {
            "tags": [],
            "needs_background": "light"
          }
        }
      ]
    },
    {
      "cell_type": "markdown",
      "metadata": {
        "id": "wTiAaeX4zuhn",
        "colab_type": "text"
      },
      "source": [
        "### Parameter Exploration\n",
        "\n",
        "Like last time, you can now explore how you LIF model behaves when the various parameters of the system are changed."
      ]
    },
    {
      "cell_type": "code",
      "metadata": {
        "id": "Eh3wR_nArYCn",
        "colab_type": "code",
        "cellView": "form",
        "colab": {
          "base_uri": "https://localhost:8080/",
          "height": 494,
          "referenced_widgets": [
            "f70de0f99b89476c94f9d0f9596318a6",
            "7cd0b05deb1d414594e780a009f5c6c2",
            "5e43b5bbfd824204a9b38e7fa4d11672",
            "3d2025f967954642badd5f9108d23e12",
            "d01dadfc27d34e28afff7ca054526cbc",
            "cd96a7329f084fcf970f143b0c433899",
            "70a7d6265b534c83b0764f1471c338ef",
            "77dc4f438b674b2584ed7a9a36481521",
            "f0ad25f644e54ab89cd6d87781d8b59d",
            "6e2566a13795495eb0539d748e4fa7ad",
            "2d51bc6a147546cdac52fd315964751b",
            "0c20283b88eb4c438bf8f95bcd9ac095",
            "d421d2d28f8f49048387fe3584510b07",
            "889f82854035479bb11a4994b0b599b1",
            "52aa4fa6c9a44969a3af0b9ec4b29d34",
            "ca0b1e62c9444e6684cc477b7c828de1",
            "491effaf043540bb8f0970a96000ed6b",
            "8e26c6602f8942e494c8ae18c32a9322",
            "52e72ef1d743483d9899a8276d201041"
          ]
        },
        "outputId": "2ea97791-704a-451b-c992-c82c36c02406"
      },
      "source": [
        "#@title LIF Model Neuron with Inhibitory Inputs Explorer\n",
        "\n",
        "def _lif_neuron_inh(n_steps=1000, alpha=0.5, beta=0.1, exc_rate=10, inh_rate=10):\n",
        "  \"\"\" Simulate a simplified leaky integrate-and-fire neuron with both excitatory\n",
        "  and inhibitory inputs.\n",
        "  \n",
        "  Args:\n",
        "    n_steps (int): The number of time steps to simulate the neuron's activity.\n",
        "    alpha (float): The input scaling factor\n",
        "    beta (float): The membrane potential leakage factor\n",
        "    exc_rate (int): The mean rate of the incoming excitatory spikes\n",
        "    inh_rate (int): The mean rate of the incoming inhibitory spikes\n",
        "  \"\"\"\n",
        "  # precompute Poisson samples for speed\n",
        "  exc = stats.poisson(exc_rate).rvs(n_steps)\n",
        "  inh = stats.poisson(inh_rate).rvs(n_steps)\n",
        "\n",
        "  v = np.zeros(n_steps)\n",
        "  spike_times = []\n",
        "  for i in range(1, n_steps):\n",
        "    dv = -beta * v[i-1] + alpha * (exc[i] - inh[i])\n",
        "    v[i] = v[i-1] + dv\n",
        "    if v[i] > 1:\n",
        "      spike_times.append(i)\n",
        "      v[i] = 0\n",
        "\n",
        "  return v, spike_times\n",
        "\n",
        "@widgets.interact(n_steps=widgets.FloatLogSlider(1000.0, min=2, max=4),\n",
        "                  alpha=widgets.FloatLogSlider(0.5, min=-2, max=1),\n",
        "                  beta=widgets.FloatLogSlider(0.1, min=-2, max=0),\n",
        "                  exc_rate=widgets.IntSlider(10, min=1, max=20),\n",
        "                  inh_rate=widgets.IntSlider(10, min=1, max=20))\n",
        "def plot_lif_neuron(n_steps=1000, alpha=0.5, beta=0.1, exc_rate=10, inh_rate=10):\n",
        "  v, spike_times = _lif_neuron_inh(int(n_steps), alpha, beta, exc_rate, inh_rate)\n",
        "  plot_neuron_stats(v, spike_times)"
      ],
      "execution_count": 10,
      "outputs": [
        {
          "output_type": "display_data",
          "data": {
            "application/vnd.jupyter.widget-view+json": {
              "model_id": "f70de0f99b89476c94f9d0f9596318a6",
              "version_minor": 0,
              "version_major": 2
            },
            "text/plain": [
              "interactive(children=(FloatLogSlider(value=1000.0, description='n_steps', min=2.0), FloatLogSlider(value=0.5, …"
            ]
          },
          "metadata": {
            "tags": []
          }
        }
      ]
    },
    {
      "cell_type": "code",
      "metadata": {
        "id": "or1Tt4TSfQwp",
        "colab_type": "code",
        "colab": {
          "base_uri": "https://localhost:8080/",
          "height": 519
        },
        "cellView": "form",
        "outputId": "66a55453-5a3d-4b27-d855-e79e41331d46"
      },
      "source": [
        "#@title Video: Balanced inputs\n",
        "from IPython.display import YouTubeVideo\n",
        "video = YouTubeVideo(id='buXEQPp9LKI', width=854, height=480, fs=1)\n",
        "print(\"Video available at https://youtube.com/watch?v=\" + video.id)\n",
        "video"
      ],
      "execution_count": 11,
      "outputs": [
        {
          "output_type": "stream",
          "text": [
            "Video available at https://youtube.com/watch?v=buXEQPp9LKI\n"
          ],
          "name": "stdout"
        },
        {
          "output_type": "execute_result",
          "data": {
            "text/html": [
              "\n",
              "        <iframe\n",
              "            width=\"854\"\n",
              "            height=\"480\"\n",
              "            src=\"https://www.youtube.com/embed/buXEQPp9LKI?fs=1\"\n",
              "            frameborder=\"0\"\n",
              "            allowfullscreen\n",
              "        ></iframe>\n",
              "        "
            ],
            "text/plain": [
              "<IPython.lib.display.YouTubeVideo at 0x7f85c455a438>"
            ],
            "image/jpeg": "[encoded data removed]"
          },
          "metadata": {
            "tags": []
          },
          "execution_count": 11
        }
      ]
    },
    {
      "cell_type": "markdown",
      "metadata": {
        "id": "pKCzc7Fjz8zK",
        "colab_type": "text"
      },
      "source": [
        "## Appendix"
      ]
    },
    {
      "cell_type": "markdown",
      "metadata": {
        "id": "xn34Ieffz_ZO",
        "colab_type": "text"
      },
      "source": [
        "### Why do neurons spike?\n",
        "\n",
        "A neuron stores energy in an electric field across its cell membrane, by controlling the distribution of charges (ions) on either side of the membrane. This energy is rapidly discharged to generate a spike when the field potential (or membrane potential) crosses a threshold. The membrane potential may be driven toward or away from this threshold, depending on inputs from other neurons: excitatory or inhibitory, respectively. The membrane potential tends to revert to a resting potential, for example due to the leakage of ions across the membrane, so that reaching the spiking threshold depends not only on the amount of input ever received following the last spike, but also the timing of the inputs.\n",
        "\n",
        "The storage of energy by maintaining a field potential across an insulating membrane can be modeled by a capacitor. The leakage of charge across the membrane can be modeled by a resistor. This is the basis for the leaky integrate-and-fire neuron model."
      ]
    },
    {
      "cell_type": "markdown",
      "metadata": {
        "id": "pwZOhsV60WPM",
        "colab_type": "text"
      },
      "source": [
        "### The LIF Model Neuron\n",
        "\n",
        "The full equation for the LIF neuron is\n",
        "\n",
        "\\begin{align}\n",
        "C_{m}\\frac{dV_m}{dt} = -(V_m - V_{rest})/R_{m} + I\n",
        "\\end{align}\n",
        "\n",
        "where $C_m$ is the membrane capacitance, $R_M$ is the membrane resistance, $𝑉_{𝑟𝑒𝑠𝑡}$ is the resting potential, and  𝐼  is some input current (from other neurons, an electrode, ...).\n",
        "\n",
        "In our above examples we set many of these properties to convenient values ($C_m = R_m = dt = 1$, $V_{rest} = 0$) to focus more on the overall behavior, though these too can be manipulated to achieve different dynamics."
      ]
    }
  ]
}