{
  "nbformat": 4,
  "nbformat_minor": 0,
  "metadata": {
    "colab": {
      "name": "W2D4_Tutorial1",
      "provenance": [],
      "collapsed_sections": [],
      "include_colab_link": true
    },
    "kernel": {
      "display_name": "Python 3",
      "language": "python",
      "name": "python3"
    },
    "kernelspec": {
      "display_name": "Python 3",
      "name": "python3"
    },
    "language_info": {
      "codemirror_mode": {
        "name": "ipython",
        "version": 3
      },
      "file_extension": ".py",
      "mimetype": "text/x-python",
      "name": "python",
      "nbconvert_exporter": "python",
      "pygments_lexer": "ipython3",
      "version": "3.7.10"
    },
    "widgets": {
      "application/vnd.jupyter.widget-state+json": {
        "4cf66370631549a799ee6b45bda205d0": {
          "model_module": "@jupyter-widgets/controls",
          "model_name": "TabModel",
          "state": {
            "_view_name": "TabView",
            "_dom_classes": [],
            "_titles": {
              "0": "Youtube",
              "1": "Bilibili"
            },
            "_model_name": "TabModel",
            "_view_module": "@jupyter-widgets/controls",
            "selected_index": 0,
            "_model_module_version": "1.5.0",
            "_view_count": null,
            "_view_module_version": "1.5.0",
            "box_style": "",
            "layout": "IPY_MODEL_adfdc236f2df43dba67a95e07ce941e5",
            "_model_module": "@jupyter-widgets/controls",
            "children": [
              "IPY_MODEL_a9231214df6b40988a73b1c7dd10357b",
              "IPY_MODEL_ba95d23f2def47989bf5da32662f1cc8"
            ]
          }
        },
        "adfdc236f2df43dba67a95e07ce941e5": {
          "model_module": "@jupyter-widgets/base",
          "model_name": "LayoutModel",
          "state": {
            "_view_name": "LayoutView",
            "grid_template_rows": null,
            "right": null,
            "justify_content": null,
            "_view_module": "@jupyter-widgets/base",
            "overflow": null,
            "_model_module_version": "1.2.0",
            "_view_count": null,
            "flex_flow": null,
            "width": null,
            "min_width": null,
            "border": null,
            "align_items": null,
            "bottom": null,
            "_model_module": "@jupyter-widgets/base",
            "top": null,
            "grid_column": null,
            "overflow_y": null,
            "overflow_x": null,
            "grid_auto_flow": null,
            "grid_area": null,
            "grid_template_columns": null,
            "flex": null,
            "_model_name": "LayoutModel",
            "justify_items": null,
            "grid_row": null,
            "max_height": null,
            "align_content": null,
            "visibility": null,
            "align_self": null,
            "height": null,
            "min_height": null,
            "padding": null,
            "grid_auto_rows": null,
            "grid_gap": null,
            "max_width": null,
            "order": null,
            "_view_module_version": "1.2.0",
            "grid_template_areas": null,
            "object_position": null,
            "object_fit": null,
            "grid_auto_columns": null,
            "margin": null,
            "display": null,
            "left": null
          }
        },
        "a9231214df6b40988a73b1c7dd10357b": {
          "model_module": "@jupyter-widgets/output",
          "model_name": "OutputModel",
          "state": {
            "_view_name": "OutputView",
            "msg_id": "",
            "_dom_classes": [],
            "_model_name": "OutputModel",
            "outputs": [
              {
                "output_type": "stream",
                "metadata": {
                  "tags": []
                },
                "text": "Video available at https://youtube.com/watch?v=p848349hPyw\n",
                "stream": "stdout"
              },
              {
                "output_type": "display_data",
                "metadata": {
                  "tags": []
                },
                "text/html": "\n        <iframe\n            width=\"854\"\n            height=\"480\"\n            src=\"https://www.youtube.com/embed/p848349hPyw?fs=1&rel=0\"\n            frameborder=\"0\"\n            allowfullscreen\n        ></iframe>\n        ",
                "text/plain": "<IPython.lib.display.YouTubeVideo at 0x7fd35df19350>",
                "image/jpeg": "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\n"
              }
            ],
            "_view_module": "@jupyter-widgets/output",
            "_model_module_version": "1.0.0",
            "_view_count": null,
            "_view_module_version": "1.0.0",
            "layout": "IPY_MODEL_c3c17f9ed87a4d1a89e5f4b39b021520",
            "_model_module": "@jupyter-widgets/output"
          }
        },
        "ba95d23f2def47989bf5da32662f1cc8": {
          "model_module": "@jupyter-widgets/output",
          "model_name": "OutputModel",
          "state": {
            "_view_name": "OutputView",
            "msg_id": "",
            "_dom_classes": [],
            "_model_name": "OutputModel",
            "outputs": [
              {
                "output_type": "stream",
                "metadata": {
                  "tags": []
                },
                "text": "Video available at https://www.bilibili.com/video/BV1dh411o7qJ\n",
                "stream": "stdout"
              },
              {
                "output_type": "display_data",
                "metadata": {
                  "tags": []
                },
                "text/html": "\n        <iframe\n            width=\"854\"\n            height=\"480\"\n            src=\"https://player.bilibili.com/player.html?bvid=BV1dh411o7qJ&page=1?fs=1\"\n            frameborder=\"0\"\n            allowfullscreen\n        ></iframe>\n        ",
                "text/plain": "<__main__.BiliVideo at 0x7fd34be79f90>"
              }
            ],
            "_view_module": "@jupyter-widgets/output",
            "_model_module_version": "1.0.0",
            "_view_count": null,
            "_view_module_version": "1.0.0",
            "layout": "IPY_MODEL_f6b6e0ed22bc48408e744f138a32162f",
            "_model_module": "@jupyter-widgets/output"
          }
        },
        "c3c17f9ed87a4d1a89e5f4b39b021520": {
          "model_module": "@jupyter-widgets/base",
          "model_name": "LayoutModel",
          "state": {
            "_view_name": "LayoutView",
            "grid_template_rows": null,
            "right": null,
            "justify_content": null,
            "_view_module": "@jupyter-widgets/base",
            "overflow": null,
            "_model_module_version": "1.2.0",
            "_view_count": null,
            "flex_flow": null,
            "width": null,
            "min_width": null,
            "border": null,
            "align_items": null,
            "bottom": null,
            "_model_module": "@jupyter-widgets/base",
            "top": null,
            "grid_column": null,
            "overflow_y": null,
            "overflow_x": null,
            "grid_auto_flow": null,
            "grid_area": null,
            "grid_template_columns": null,
            "flex": null,
            "_model_name": "LayoutModel",
            "justify_items": null,
            "grid_row": null,
            "max_height": null,
            "align_content": null,
            "visibility": null,
            "align_self": null,
            "height": null,
            "min_height": null,
            "padding": null,
            "grid_auto_rows": null,
            "grid_gap": null,
            "max_width": null,
            "order": null,
            "_view_module_version": "1.2.0",
            "grid_template_areas": null,
            "object_position": null,
            "object_fit": null,
            "grid_auto_columns": null,
            "margin": null,
            "display": null,
            "left": null
          }
        },
        "f6b6e0ed22bc48408e744f138a32162f": {
          "model_module": "@jupyter-widgets/base",
          "model_name": "LayoutModel",
          "state": {
            "_view_name": "LayoutView",
            "grid_template_rows": null,
            "right": null,
            "justify_content": null,
            "_view_module": "@jupyter-widgets/base",
            "overflow": null,
            "_model_module_version": "1.2.0",
            "_view_count": null,
            "flex_flow": null,
            "width": null,
            "min_width": null,
            "border": null,
            "align_items": null,
            "bottom": null,
            "_model_module": "@jupyter-widgets/base",
            "top": null,
            "grid_column": null,
            "overflow_y": null,
            "overflow_x": null,
            "grid_auto_flow": null,
            "grid_area": null,
            "grid_template_columns": null,
            "flex": null,
            "_model_name": "LayoutModel",
            "justify_items": null,
            "grid_row": null,
            "max_height": null,
            "align_content": null,
            "visibility": null,
            "align_self": null,
            "height": null,
            "min_height": null,
            "padding": null,
            "grid_auto_rows": null,
            "grid_gap": null,
            "max_width": null,
            "order": null,
            "_view_module_version": "1.2.0",
            "grid_template_areas": null,
            "object_position": null,
            "object_fit": null,
            "grid_auto_columns": null,
            "margin": null,
            "display": null,
            "left": null
          }
        },
        "2a80c05a77c345eeb8c0f59f75dd9f6f": {
          "model_module": "@jupyter-widgets/controls",
          "model_name": "VBoxModel",
          "state": {
            "_view_name": "VBoxView",
            "_dom_classes": [
              "widget-interact"
            ],
            "_model_name": "VBoxModel",
            "_view_module": "@jupyter-widgets/controls",
            "_model_module_version": "1.5.0",
            "_view_count": null,
            "_view_module_version": "1.5.0",
            "box_style": "",
            "layout": "IPY_MODEL_ecbca6f9ec1d42a5bb6f0d37b77d5bad",
            "_model_module": "@jupyter-widgets/controls",
            "children": [
              "IPY_MODEL_a757abd36b3945b1842b5fa9754a497f",
              "IPY_MODEL_b12fabbf63a343e7a12246b3126b761a",
              "IPY_MODEL_4b87bbeff6524accbe37ff6b619e857a"
            ]
          }
        },
        "ecbca6f9ec1d42a5bb6f0d37b77d5bad": {
          "model_module": "@jupyter-widgets/base",
          "model_name": "LayoutModel",
          "state": {
            "_view_name": "LayoutView",
            "grid_template_rows": null,
            "right": null,
            "justify_content": null,
            "_view_module": "@jupyter-widgets/base",
            "overflow": null,
            "_model_module_version": "1.2.0",
            "_view_count": null,
            "flex_flow": null,
            "width": null,
            "min_width": null,
            "border": null,
            "align_items": null,
            "bottom": null,
            "_model_module": "@jupyter-widgets/base",
            "top": null,
            "grid_column": null,
            "overflow_y": null,
            "overflow_x": null,
            "grid_auto_flow": null,
            "grid_area": null,
            "grid_template_columns": null,
            "flex": null,
            "_model_name": "LayoutModel",
            "justify_items": null,
            "grid_row": null,
            "max_height": null,
            "align_content": null,
            "visibility": null,
            "align_self": null,
            "height": null,
            "min_height": null,
            "padding": null,
            "grid_auto_rows": null,
            "grid_gap": null,
            "max_width": null,
            "order": null,
            "_view_module_version": "1.2.0",
            "grid_template_areas": null,
            "object_position": null,
            "object_fit": null,
            "grid_auto_columns": null,
            "margin": null,
            "display": null,
            "left": null
          }
        },
        "a757abd36b3945b1842b5fa9754a497f": {
          "model_module": "@jupyter-widgets/controls",
          "model_name": "FloatSliderModel",
          "state": {
            "_view_name": "FloatSliderView",
            "style": "IPY_MODEL_e0816d6bfcdf4b46bce5ef9fb87d3426",
            "_dom_classes": [],
            "description": "a",
            "step": 0.3,
            "_model_name": "FloatSliderModel",
            "orientation": "horizontal",
            "max": 3,
            "_view_module": "@jupyter-widgets/controls",
            "_model_module_version": "1.5.0",
            "value": 1.5,
            "_view_count": null,
            "disabled": false,
            "_view_module_version": "1.5.0",
            "min": 0.3,
            "continuous_update": true,
            "readout_format": ".2f",
            "description_tooltip": null,
            "readout": true,
            "_model_module": "@jupyter-widgets/controls",
            "layout": "IPY_MODEL_01aa650d055c40c8999ce51e9668f9e7"
          }
        },
        "b12fabbf63a343e7a12246b3126b761a": {
          "model_module": "@jupyter-widgets/controls",
          "model_name": "FloatSliderModel",
          "state": {
            "_view_name": "FloatSliderView",
            "style": "IPY_MODEL_aeca66287acc4b2a8e9516561740f925",
            "_dom_classes": [],
            "description": "theta",
            "step": 0.2,
            "_model_name": "FloatSliderModel",
            "orientation": "horizontal",
            "max": 4,
            "_view_module": "@jupyter-widgets/controls",
            "_model_module_version": "1.5.0",
            "value": 3,
            "_view_count": null,
            "disabled": false,
            "_view_module_version": "1.5.0",
            "min": 2,
            "continuous_update": true,
            "readout_format": ".2f",
            "description_tooltip": null,
            "readout": true,
            "_model_module": "@jupyter-widgets/controls",
            "layout": "IPY_MODEL_5117e4be3e7c422da4be2b2b0f25d2af"
          }
        },
        "4b87bbeff6524accbe37ff6b619e857a": {
          "model_module": "@jupyter-widgets/output",
          "model_name": "OutputModel",
          "state": {
            "_view_name": "OutputView",
            "msg_id": "",
            "_dom_classes": [],
            "_model_name": "OutputModel",
            "outputs": [
              {
                "output_type": "display_data",
                "metadata": {
                  "tags": [],
                  "image/png": {
                    "width": 558,
                    "height": 413
                  },
                  "needs_background": "light"
                },
                "image/png": "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\n",
                "text/plain": "<Figure size 576x432 with 1 Axes>"
              }
            ],
            "_view_module": "@jupyter-widgets/output",
            "_model_module_version": "1.0.0",
            "_view_count": null,
            "_view_module_version": "1.0.0",
            "layout": "IPY_MODEL_32e0cc20453c41aab7a373b9bd819813",
            "_model_module": "@jupyter-widgets/output"
          }
        },
        "e0816d6bfcdf4b46bce5ef9fb87d3426": {
          "model_module": "@jupyter-widgets/controls",
          "model_name": "SliderStyleModel",
          "state": {
            "_view_name": "StyleView",
            "handle_color": null,
            "_model_name": "SliderStyleModel",
            "description_width": "",
            "_view_module": "@jupyter-widgets/base",
            "_model_module_version": "1.5.0",
            "_view_count": null,
            "_view_module_version": "1.2.0",
            "_model_module": "@jupyter-widgets/controls"
          }
        },
        "01aa650d055c40c8999ce51e9668f9e7": {
          "model_module": "@jupyter-widgets/base",
          "model_name": "LayoutModel",
          "state": {
            "_view_name": "LayoutView",
            "grid_template_rows": null,
            "right": null,
            "justify_content": null,
            "_view_module": "@jupyter-widgets/base",
            "overflow": null,
            "_model_module_version": "1.2.0",
            "_view_count": null,
            "flex_flow": null,
            "width": null,
            "min_width": null,
            "border": null,
            "align_items": null,
            "bottom": null,
            "_model_module": "@jupyter-widgets/base",
            "top": null,
            "grid_column": null,
            "overflow_y": null,
            "overflow_x": null,
            "grid_auto_flow": null,
            "grid_area": null,
            "grid_template_columns": null,
            "flex": null,
            "_model_name": "LayoutModel",
            "justify_items": null,
            "grid_row": null,
            "max_height": null,
            "align_content": null,
            "visibility": null,
            "align_self": null,
            "height": null,
            "min_height": null,
            "padding": null,
            "grid_auto_rows": null,
            "grid_gap": null,
            "max_width": null,
            "order": null,
            "_view_module_version": "1.2.0",
            "grid_template_areas": null,
            "object_position": null,
            "object_fit": null,
            "grid_auto_columns": null,
            "margin": null,
            "display": null,
            "left": null
          }
        },
        "aeca66287acc4b2a8e9516561740f925": {
          "model_module": "@jupyter-widgets/controls",
          "model_name": "SliderStyleModel",
          "state": {
            "_view_name": "StyleView",
            "handle_color": null,
            "_model_name": "SliderStyleModel",
            "description_width": "",
            "_view_module": "@jupyter-widgets/base",
            "_model_module_version": "1.5.0",
            "_view_count": null,
            "_view_module_version": "1.2.0",
            "_model_module": "@jupyter-widgets/controls"
          }
        },
        "5117e4be3e7c422da4be2b2b0f25d2af": {
          "model_module": "@jupyter-widgets/base",
          "model_name": "LayoutModel",
          "state": {
            "_view_name": "LayoutView",
            "grid_template_rows": null,
            "right": null,
            "justify_content": null,
            "_view_module": "@jupyter-widgets/base",
            "overflow": null,
            "_model_module_version": "1.2.0",
            "_view_count": null,
            "flex_flow": null,
            "width": null,
            "min_width": null,
            "border": null,
            "align_items": null,
            "bottom": null,
            "_model_module": "@jupyter-widgets/base",
            "top": null,
            "grid_column": null,
            "overflow_y": null,
            "overflow_x": null,
            "grid_auto_flow": null,
            "grid_area": null,
            "grid_template_columns": null,
            "flex": null,
            "_model_name": "LayoutModel",
            "justify_items": null,
            "grid_row": null,
            "max_height": null,
            "align_content": null,
            "visibility": null,
            "align_self": null,
            "height": null,
            "min_height": null,
            "padding": null,
            "grid_auto_rows": null,
            "grid_gap": null,
            "max_width": null,
            "order": null,
            "_view_module_version": "1.2.0",
            "grid_template_areas": null,
            "object_position": null,
            "object_fit": null,
            "grid_auto_columns": null,
            "margin": null,
            "display": null,
            "left": null
          }
        },
        "32e0cc20453c41aab7a373b9bd819813": {
          "model_module": "@jupyter-widgets/base",
          "model_name": "LayoutModel",
          "state": {
            "_view_name": "LayoutView",
            "grid_template_rows": null,
            "right": null,
            "justify_content": null,
            "_view_module": "@jupyter-widgets/base",
            "overflow": null,
            "_model_module_version": "1.2.0",
            "_view_count": null,
            "flex_flow": null,
            "width": null,
            "min_width": null,
            "border": null,
            "align_items": null,
            "bottom": null,
            "_model_module": "@jupyter-widgets/base",
            "top": null,
            "grid_column": null,
            "overflow_y": null,
            "overflow_x": null,
            "grid_auto_flow": null,
            "grid_area": null,
            "grid_template_columns": null,
            "flex": null,
            "_model_name": "LayoutModel",
            "justify_items": null,
            "grid_row": null,
            "max_height": null,
            "align_content": null,
            "visibility": null,
            "align_self": null,
            "height": null,
            "min_height": null,
            "padding": null,
            "grid_auto_rows": null,
            "grid_gap": null,
            "max_width": null,
            "order": null,
            "_view_module_version": "1.2.0",
            "grid_template_areas": null,
            "object_position": null,
            "object_fit": null,
            "grid_auto_columns": null,
            "margin": null,
            "display": null,
            "left": null
          }
        },
        "1eae73ec06af4c2e8fa27f3677eb0d26": {
          "model_module": "@jupyter-widgets/controls",
          "model_name": "VBoxModel",
          "state": {
            "_view_name": "VBoxView",
            "_dom_classes": [
              "widget-interact"
            ],
            "_model_name": "VBoxModel",
            "_view_module": "@jupyter-widgets/controls",
            "_model_module_version": "1.5.0",
            "_view_count": null,
            "_view_module_version": "1.5.0",
            "box_style": "",
            "layout": "IPY_MODEL_c65d8c0ee6134b4a9275c4d341332995",
            "_model_module": "@jupyter-widgets/controls",
            "children": [
              "IPY_MODEL_845fad21affc4054bfdaaf5ee95f66af",
              "IPY_MODEL_c12db8d74eaf4aeba34099a83ab4e2f0",
              "IPY_MODEL_a84b167cdd504bbe90c8cb8181f1e31a"
            ]
          }
        },
        "c65d8c0ee6134b4a9275c4d341332995": {
          "model_module": "@jupyter-widgets/base",
          "model_name": "LayoutModel",
          "state": {
            "_view_name": "LayoutView",
            "grid_template_rows": null,
            "right": null,
            "justify_content": null,
            "_view_module": "@jupyter-widgets/base",
            "overflow": null,
            "_model_module_version": "1.2.0",
            "_view_count": null,
            "flex_flow": null,
            "width": null,
            "min_width": null,
            "border": null,
            "align_items": null,
            "bottom": null,
            "_model_module": "@jupyter-widgets/base",
            "top": null,
            "grid_column": null,
            "overflow_y": null,
            "overflow_x": null,
            "grid_auto_flow": null,
            "grid_area": null,
            "grid_template_columns": null,
            "flex": null,
            "_model_name": "LayoutModel",
            "justify_items": null,
            "grid_row": null,
            "max_height": null,
            "align_content": null,
            "visibility": null,
            "align_self": null,
            "height": null,
            "min_height": null,
            "padding": null,
            "grid_auto_rows": null,
            "grid_gap": null,
            "max_width": null,
            "order": null,
            "_view_module_version": "1.2.0",
            "grid_template_areas": null,
            "object_position": null,
            "object_fit": null,
            "grid_auto_columns": null,
            "margin": null,
            "display": null,
            "left": null
          }
        },
        "845fad21affc4054bfdaaf5ee95f66af": {
          "model_module": "@jupyter-widgets/controls",
          "model_name": "FloatSliderModel",
          "state": {
            "_view_name": "FloatSliderView",
            "style": "IPY_MODEL_02830a914d0c4a5fa98bed722691e849",
            "_dom_classes": [],
            "description": "I_ext",
            "step": 1,
            "_model_name": "FloatSliderModel",
            "orientation": "horizontal",
            "max": 10,
            "_view_module": "@jupyter-widgets/controls",
            "_model_module_version": "1.5.0",
            "value": 2,
            "_view_count": null,
            "disabled": false,
            "_view_module_version": "1.5.0",
            "min": 0,
            "continuous_update": true,
            "readout_format": ".2f",
            "description_tooltip": null,
            "readout": true,
            "_model_module": "@jupyter-widgets/controls",
            "layout": "IPY_MODEL_7b16dd8eb8ed451e957d9439826c997c"
          }
        },
        "c12db8d74eaf4aeba34099a83ab4e2f0": {
          "model_module": "@jupyter-widgets/controls",
          "model_name": "FloatSliderModel",
          "state": {
            "_view_name": "FloatSliderView",
            "style": "IPY_MODEL_8e73173afd7e4a6dba9ea9fb1832169a",
            "_dom_classes": [],
            "description": "tau",
            "step": 0.2,
            "_model_name": "FloatSliderModel",
            "orientation": "horizontal",
            "max": 5,
            "_view_module": "@jupyter-widgets/controls",
            "_model_module_version": "1.5.0",
            "value": 4,
            "_view_count": null,
            "disabled": false,
            "_view_module_version": "1.5.0",
            "min": 1,
            "continuous_update": true,
            "readout_format": ".2f",
            "description_tooltip": null,
            "readout": true,
            "_model_module": "@jupyter-widgets/controls",
            "layout": "IPY_MODEL_5e15a878832f48a5b3f582493b3472d7"
          }
        },
        "a84b167cdd504bbe90c8cb8181f1e31a": {
          "model_module": "@jupyter-widgets/output",
          "model_name": "OutputModel",
          "state": {
            "_view_name": "OutputView",
            "msg_id": "",
            "_dom_classes": [],
            "_model_name": "OutputModel",
            "outputs": [
              {
                "output_type": "display_data",
                "metadata": {
                  "tags": [],
                  "image/png": {
                    "width": 558,
                    "height": 413
                  },
                  "needs_background": "light"
                },
                "image/png": "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\n",
                "text/plain": "<Figure size 576x432 with 1 Axes>"
              }
            ],
            "_view_module": "@jupyter-widgets/output",
            "_model_module_version": "1.0.0",
            "_view_count": null,
            "_view_module_version": "1.0.0",
            "layout": "IPY_MODEL_c727d64ecaed456ba11b3952c581fa09",
            "_model_module": "@jupyter-widgets/output"
          }
        },
        "02830a914d0c4a5fa98bed722691e849": {
          "model_module": "@jupyter-widgets/controls",
          "model_name": "SliderStyleModel",
          "state": {
            "_view_name": "StyleView",
            "handle_color": null,
            "_model_name": "SliderStyleModel",
            "description_width": "",
            "_view_module": "@jupyter-widgets/base",
            "_model_module_version": "1.5.0",
            "_view_count": null,
            "_view_module_version": "1.2.0",
            "_model_module": "@jupyter-widgets/controls"
          }
        },
        "7b16dd8eb8ed451e957d9439826c997c": {
          "model_module": "@jupyter-widgets/base",
          "model_name": "LayoutModel",
          "state": {
            "_view_name": "LayoutView",
            "grid_template_rows": null,
            "right": null,
            "justify_content": null,
            "_view_module": "@jupyter-widgets/base",
            "overflow": null,
            "_model_module_version": "1.2.0",
            "_view_count": null,
            "flex_flow": null,
            "width": null,
            "min_width": null,
            "border": null,
            "align_items": null,
            "bottom": null,
            "_model_module": "@jupyter-widgets/base",
            "top": null,
            "grid_column": null,
            "overflow_y": null,
            "overflow_x": null,
            "grid_auto_flow": null,
            "grid_area": null,
            "grid_template_columns": null,
            "flex": null,
            "_model_name": "LayoutModel",
            "justify_items": null,
            "grid_row": null,
            "max_height": null,
            "align_content": null,
            "visibility": null,
            "align_self": null,
            "height": null,
            "min_height": null,
            "padding": null,
            "grid_auto_rows": null,
            "grid_gap": null,
            "max_width": null,
            "order": null,
            "_view_module_version": "1.2.0",
            "grid_template_areas": null,
            "object_position": null,
            "object_fit": null,
            "grid_auto_columns": null,
            "margin": null,
            "display": null,
            "left": null
          }
        },
        "8e73173afd7e4a6dba9ea9fb1832169a": {
          "model_module": "@jupyter-widgets/controls",
          "model_name": "SliderStyleModel",
          "state": {
            "_view_name": "StyleView",
            "handle_color": null,
            "_model_name": "SliderStyleModel",
            "description_width": "",
            "_view_module": "@jupyter-widgets/base",
            "_model_module_version": "1.5.0",
            "_view_count": null,
            "_view_module_version": "1.2.0",
            "_model_module": "@jupyter-widgets/controls"
          }
        },
        "5e15a878832f48a5b3f582493b3472d7": {
          "model_module": "@jupyter-widgets/base",
          "model_name": "LayoutModel",
          "state": {
            "_view_name": "LayoutView",
            "grid_template_rows": null,
            "right": null,
            "justify_content": null,
            "_view_module": "@jupyter-widgets/base",
            "overflow": null,
            "_model_module_version": "1.2.0",
            "_view_count": null,
            "flex_flow": null,
            "width": null,
            "min_width": null,
            "border": null,
            "align_items": null,
            "bottom": null,
            "_model_module": "@jupyter-widgets/base",
            "top": null,
            "grid_column": null,
            "overflow_y": null,
            "overflow_x": null,
            "grid_auto_flow": null,
            "grid_area": null,
            "grid_template_columns": null,
            "flex": null,
            "_model_name": "LayoutModel",
            "justify_items": null,
            "grid_row": null,
            "max_height": null,
            "align_content": null,
            "visibility": null,
            "align_self": null,
            "height": null,
            "min_height": null,
            "padding": null,
            "grid_auto_rows": null,
            "grid_gap": null,
            "max_width": null,
            "order": null,
            "_view_module_version": "1.2.0",
            "grid_template_areas": null,
            "object_position": null,
            "object_fit": null,
            "grid_auto_columns": null,
            "margin": null,
            "display": null,
            "left": null
          }
        },
        "c727d64ecaed456ba11b3952c581fa09": {
          "model_module": "@jupyter-widgets/base",
          "model_name": "LayoutModel",
          "state": {
            "_view_name": "LayoutView",
            "grid_template_rows": null,
            "right": null,
            "justify_content": null,
            "_view_module": "@jupyter-widgets/base",
            "overflow": null,
            "_model_module_version": "1.2.0",
            "_view_count": null,
            "flex_flow": null,
            "width": null,
            "min_width": null,
            "border": null,
            "align_items": null,
            "bottom": null,
            "_model_module": "@jupyter-widgets/base",
            "top": null,
            "grid_column": null,
            "overflow_y": null,
            "overflow_x": null,
            "grid_auto_flow": null,
            "grid_area": null,
            "grid_template_columns": null,
            "flex": null,
            "_model_name": "LayoutModel",
            "justify_items": null,
            "grid_row": null,
            "max_height": null,
            "align_content": null,
            "visibility": null,
            "align_self": null,
            "height": null,
            "min_height": null,
            "padding": null,
            "grid_auto_rows": null,
            "grid_gap": null,
            "max_width": null,
            "order": null,
            "_view_module_version": "1.2.0",
            "grid_template_areas": null,
            "object_position": null,
            "object_fit": null,
            "grid_auto_columns": null,
            "margin": null,
            "display": null,
            "left": null
          }
        },
        "452ef1f99a94476ca8bbabf69bacb99c": {
          "model_module": "@jupyter-widgets/controls",
          "model_name": "TabModel",
          "state": {
            "_view_name": "TabView",
            "_dom_classes": [],
            "_titles": {
              "0": "Youtube",
              "1": "Bilibili"
            },
            "_model_name": "TabModel",
            "_view_module": "@jupyter-widgets/controls",
            "selected_index": 0,
            "_model_module_version": "1.5.0",
            "_view_count": null,
            "_view_module_version": "1.5.0",
            "box_style": "",
            "layout": "IPY_MODEL_ca992e2ed91947b7a23cd0cbf1a61bb5",
            "_model_module": "@jupyter-widgets/controls",
            "children": [
              "IPY_MODEL_0d4cd4e2ac6a4a15920fc67bf09272b6",
              "IPY_MODEL_bfbfee450dc4498fa66eeaedbbaff34a"
            ]
          }
        },
        "ca992e2ed91947b7a23cd0cbf1a61bb5": {
          "model_module": "@jupyter-widgets/base",
          "model_name": "LayoutModel",
          "state": {
            "_view_name": "LayoutView",
            "grid_template_rows": null,
            "right": null,
            "justify_content": null,
            "_view_module": "@jupyter-widgets/base",
            "overflow": null,
            "_model_module_version": "1.2.0",
            "_view_count": null,
            "flex_flow": null,
            "width": null,
            "min_width": null,
            "border": null,
            "align_items": null,
            "bottom": null,
            "_model_module": "@jupyter-widgets/base",
            "top": null,
            "grid_column": null,
            "overflow_y": null,
            "overflow_x": null,
            "grid_auto_flow": null,
            "grid_area": null,
            "grid_template_columns": null,
            "flex": null,
            "_model_name": "LayoutModel",
            "justify_items": null,
            "grid_row": null,
            "max_height": null,
            "align_content": null,
            "visibility": null,
            "align_self": null,
            "height": null,
            "min_height": null,
            "padding": null,
            "grid_auto_rows": null,
            "grid_gap": null,
            "max_width": null,
            "order": null,
            "_view_module_version": "1.2.0",
            "grid_template_areas": null,
            "object_position": null,
            "object_fit": null,
            "grid_auto_columns": null,
            "margin": null,
            "display": null,
            "left": null
          }
        },
        "0d4cd4e2ac6a4a15920fc67bf09272b6": {
          "model_module": "@jupyter-widgets/output",
          "model_name": "OutputModel",
          "state": {
            "_view_name": "OutputView",
            "msg_id": "",
            "_dom_classes": [],
            "_model_name": "OutputModel",
            "outputs": [
              {
                "output_type": "stream",
                "metadata": {
                  "tags": []
                },
                "text": "Video available at https://youtube.com/watch?v=Ox3ELd1UFyo\n",
                "stream": "stdout"
              },
              {
                "output_type": "display_data",
                "metadata": {
                  "tags": []
                },
                "text/html": "\n        <iframe\n            width=\"854\"\n            height=\"480\"\n            src=\"https://www.youtube.com/embed/Ox3ELd1UFyo?fs=1&rel=0\"\n            frameborder=\"0\"\n            allowfullscreen\n        ></iframe>\n        ",
                "text/plain": "<IPython.lib.display.YouTubeVideo at 0x7fd342f9d8d0>",
                "image/jpeg": "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\n"
              }
            ],
            "_view_module": "@jupyter-widgets/output",
            "_model_module_version": "1.0.0",
            "_view_count": null,
            "_view_module_version": "1.0.0",
            "layout": "IPY_MODEL_b5fd1dc69510446d915c8e6e5228d8e2",
            "_model_module": "@jupyter-widgets/output"
          }
        },
        "bfbfee450dc4498fa66eeaedbbaff34a": {
          "model_module": "@jupyter-widgets/output",
          "model_name": "OutputModel",
          "state": {
            "_view_name": "OutputView",
            "msg_id": "",
            "_dom_classes": [],
            "_model_name": "OutputModel",
            "outputs": [
              {
                "output_type": "stream",
                "metadata": {
                  "tags": []
                },
                "text": "Video available at https://www.bilibili.com/video/BV1v54y1v7Gr\n",
                "stream": "stdout"
              },
              {
                "output_type": "display_data",
                "metadata": {
                  "tags": []
                },
                "text/html": "\n        <iframe\n            width=\"854\"\n            height=\"480\"\n            src=\"https://player.bilibili.com/player.html?bvid=BV1v54y1v7Gr&page=1?fs=1\"\n            frameborder=\"0\"\n            allowfullscreen\n        ></iframe>\n        ",
                "text/plain": "<__main__.BiliVideo at 0x7fd342f31fd0>"
              }
            ],
            "_view_module": "@jupyter-widgets/output",
            "_model_module_version": "1.0.0",
            "_view_count": null,
            "_view_module_version": "1.0.0",
            "layout": "IPY_MODEL_3616c6ecc0874029b39e720f2110610a",
            "_model_module": "@jupyter-widgets/output"
          }
        },
        "b5fd1dc69510446d915c8e6e5228d8e2": {
          "model_module": "@jupyter-widgets/base",
          "model_name": "LayoutModel",
          "state": {
            "_view_name": "LayoutView",
            "grid_template_rows": null,
            "right": null,
            "justify_content": null,
            "_view_module": "@jupyter-widgets/base",
            "overflow": null,
            "_model_module_version": "1.2.0",
            "_view_count": null,
            "flex_flow": null,
            "width": null,
            "min_width": null,
            "border": null,
            "align_items": null,
            "bottom": null,
            "_model_module": "@jupyter-widgets/base",
            "top": null,
            "grid_column": null,
            "overflow_y": null,
            "overflow_x": null,
            "grid_auto_flow": null,
            "grid_area": null,
            "grid_template_columns": null,
            "flex": null,
            "_model_name": "LayoutModel",
            "justify_items": null,
            "grid_row": null,
            "max_height": null,
            "align_content": null,
            "visibility": null,
            "align_self": null,
            "height": null,
            "min_height": null,
            "padding": null,
            "grid_auto_rows": null,
            "grid_gap": null,
            "max_width": null,
            "order": null,
            "_view_module_version": "1.2.0",
            "grid_template_areas": null,
            "object_position": null,
            "object_fit": null,
            "grid_auto_columns": null,
            "margin": null,
            "display": null,
            "left": null
          }
        },
        "3616c6ecc0874029b39e720f2110610a": {
          "model_module": "@jupyter-widgets/base",
          "model_name": "LayoutModel",
          "state": {
            "_view_name": "LayoutView",
            "grid_template_rows": null,
            "right": null,
            "justify_content": null,
            "_view_module": "@jupyter-widgets/base",
            "overflow": null,
            "_model_module_version": "1.2.0",
            "_view_count": null,
            "flex_flow": null,
            "width": null,
            "min_width": null,
            "border": null,
            "align_items": null,
            "bottom": null,
            "_model_module": "@jupyter-widgets/base",
            "top": null,
            "grid_column": null,
            "overflow_y": null,
            "overflow_x": null,
            "grid_auto_flow": null,
            "grid_area": null,
            "grid_template_columns": null,
            "flex": null,
            "_model_name": "LayoutModel",
            "justify_items": null,
            "grid_row": null,
            "max_height": null,
            "align_content": null,
            "visibility": null,
            "align_self": null,
            "height": null,
            "min_height": null,
            "padding": null,
            "grid_auto_rows": null,
            "grid_gap": null,
            "max_width": null,
            "order": null,
            "_view_module_version": "1.2.0",
            "grid_template_areas": null,
            "object_position": null,
            "object_fit": null,
            "grid_auto_columns": null,
            "margin": null,
            "display": null,
            "left": null
          }
        },
        "eedc9d9d76414bd88e85060739ce6c4b": {
          "model_module": "@jupyter-widgets/controls",
          "model_name": "VBoxModel",
          "state": {
            "_view_name": "VBoxView",
            "_dom_classes": [
              "widget-interact"
            ],
            "_model_name": "VBoxModel",
            "_view_module": "@jupyter-widgets/controls",
            "_model_module_version": "1.5.0",
            "_view_count": null,
            "_view_module_version": "1.5.0",
            "box_style": "",
            "layout": "IPY_MODEL_4a5bd2615cfe46279d2df15a4859bda5",
            "_model_module": "@jupyter-widgets/controls",
            "children": [
              "IPY_MODEL_d0811b0c91854e7e9e4f626d63c80124",
              "IPY_MODEL_7cc09bceaeaa408982b86de10c9f0899",
              "IPY_MODEL_878ff5b0331347eebcfbcca619652d9f"
            ]
          }
        },
        "4a5bd2615cfe46279d2df15a4859bda5": {
          "model_module": "@jupyter-widgets/base",
          "model_name": "LayoutModel",
          "state": {
            "_view_name": "LayoutView",
            "grid_template_rows": null,
            "right": null,
            "justify_content": null,
            "_view_module": "@jupyter-widgets/base",
            "overflow": null,
            "_model_module_version": "1.2.0",
            "_view_count": null,
            "flex_flow": null,
            "width": null,
            "min_width": null,
            "border": null,
            "align_items": null,
            "bottom": null,
            "_model_module": "@jupyter-widgets/base",
            "top": null,
            "grid_column": null,
            "overflow_y": null,
            "overflow_x": null,
            "grid_auto_flow": null,
            "grid_area": null,
            "grid_template_columns": null,
            "flex": null,
            "_model_name": "LayoutModel",
            "justify_items": null,
            "grid_row": null,
            "max_height": null,
            "align_content": null,
            "visibility": null,
            "align_self": null,
            "height": null,
            "min_height": null,
            "padding": null,
            "grid_auto_rows": null,
            "grid_gap": null,
            "max_width": null,
            "order": null,
            "_view_module_version": "1.2.0",
            "grid_template_areas": null,
            "object_position": null,
            "object_fit": null,
            "grid_auto_columns": null,
            "margin": null,
            "display": null,
            "left": null
          }
        },
        "d0811b0c91854e7e9e4f626d63c80124": {
          "model_module": "@jupyter-widgets/controls",
          "model_name": "FloatSliderModel",
          "state": {
            "_view_name": "FloatSliderView",
            "style": "IPY_MODEL_f925cb9a55704e87953a55cf00d9fccd",
            "_dom_classes": [],
            "description": "w",
            "step": 0.2,
            "_model_name": "FloatSliderModel",
            "orientation": "horizontal",
            "max": 7,
            "_view_module": "@jupyter-widgets/controls",
            "_model_module_version": "1.5.0",
            "value": 4,
            "_view_count": null,
            "disabled": false,
            "_view_module_version": "1.5.0",
            "min": 1,
            "continuous_update": true,
            "readout_format": ".2f",
            "description_tooltip": null,
            "readout": true,
            "_model_module": "@jupyter-widgets/controls",
            "layout": "IPY_MODEL_fd7b160522234371b5c60e062535088c"
          }
        },
        "7cc09bceaeaa408982b86de10c9f0899": {
          "model_module": "@jupyter-widgets/controls",
          "model_name": "FloatSliderModel",
          "state": {
            "_view_name": "FloatSliderView",
            "style": "IPY_MODEL_bea57e002c9c42fb86c1e9a62b308d9d",
            "_dom_classes": [],
            "description": "I_ext",
            "step": 0.1,
            "_model_name": "FloatSliderModel",
            "orientation": "horizontal",
            "max": 3,
            "_view_module": "@jupyter-widgets/controls",
            "_model_module_version": "1.5.0",
            "value": 1,
            "_view_count": null,
            "disabled": false,
            "_view_module_version": "1.5.0",
            "min": 0,
            "continuous_update": true,
            "readout_format": ".2f",
            "description_tooltip": null,
            "readout": true,
            "_model_module": "@jupyter-widgets/controls",
            "layout": "IPY_MODEL_5dcf2e90fb884d0b9afde462d896d39e"
          }
        },
        "878ff5b0331347eebcfbcca619652d9f": {
          "model_module": "@jupyter-widgets/output",
          "model_name": "OutputModel",
          "state": {
            "_view_name": "OutputView",
            "msg_id": "",
            "_dom_classes": [],
            "_model_name": "OutputModel",
            "outputs": [
              {
                "output_type": "display_data",
                "metadata": {
                  "tags": [],
                  "image/png": {
                    "width": 558,
                    "height": 413
                  },
                  "needs_background": "light"
                },
                "image/png": "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\n",
                "text/plain": "<Figure size 576x432 with 1 Axes>"
              }
            ],
            "_view_module": "@jupyter-widgets/output",
            "_model_module_version": "1.0.0",
            "_view_count": null,
            "_view_module_version": "1.0.0",
            "layout": "IPY_MODEL_697dfc8943024d1a9d47394f7615ac5c",
            "_model_module": "@jupyter-widgets/output"
          }
        },
        "f925cb9a55704e87953a55cf00d9fccd": {
          "model_module": "@jupyter-widgets/controls",
          "model_name": "SliderStyleModel",
          "state": {
            "_view_name": "StyleView",
            "handle_color": null,
            "_model_name": "SliderStyleModel",
            "description_width": "",
            "_view_module": "@jupyter-widgets/base",
            "_model_module_version": "1.5.0",
            "_view_count": null,
            "_view_module_version": "1.2.0",
            "_model_module": "@jupyter-widgets/controls"
          }
        },
        "fd7b160522234371b5c60e062535088c": {
          "model_module": "@jupyter-widgets/base",
          "model_name": "LayoutModel",
          "state": {
            "_view_name": "LayoutView",
            "grid_template_rows": null,
            "right": null,
            "justify_content": null,
            "_view_module": "@jupyter-widgets/base",
            "overflow": null,
            "_model_module_version": "1.2.0",
            "_view_count": null,
            "flex_flow": null,
            "width": null,
            "min_width": null,
            "border": null,
            "align_items": null,
            "bottom": null,
            "_model_module": "@jupyter-widgets/base",
            "top": null,
            "grid_column": null,
            "overflow_y": null,
            "overflow_x": null,
            "grid_auto_flow": null,
            "grid_area": null,
            "grid_template_columns": null,
            "flex": null,
            "_model_name": "LayoutModel",
            "justify_items": null,
            "grid_row": null,
            "max_height": null,
            "align_content": null,
            "visibility": null,
            "align_self": null,
            "height": null,
            "min_height": null,
            "padding": null,
            "grid_auto_rows": null,
            "grid_gap": null,
            "max_width": null,
            "order": null,
            "_view_module_version": "1.2.0",
            "grid_template_areas": null,
            "object_position": null,
            "object_fit": null,
            "grid_auto_columns": null,
            "margin": null,
            "display": null,
            "left": null
          }
        },
        "bea57e002c9c42fb86c1e9a62b308d9d": {
          "model_module": "@jupyter-widgets/controls",
          "model_name": "SliderStyleModel",
          "state": {
            "_view_name": "StyleView",
            "handle_color": null,
            "_model_name": "SliderStyleModel",
            "description_width": "",
            "_view_module": "@jupyter-widgets/base",
            "_model_module_version": "1.5.0",
            "_view_count": null,
            "_view_module_version": "1.2.0",
            "_model_module": "@jupyter-widgets/controls"
          }
        },
        "5dcf2e90fb884d0b9afde462d896d39e": {
          "model_module": "@jupyter-widgets/base",
          "model_name": "LayoutModel",
          "state": {
            "_view_name": "LayoutView",
            "grid_template_rows": null,
            "right": null,
            "justify_content": null,
            "_view_module": "@jupyter-widgets/base",
            "overflow": null,
            "_model_module_version": "1.2.0",
            "_view_count": null,
            "flex_flow": null,
            "width": null,
            "min_width": null,
            "border": null,
            "align_items": null,
            "bottom": null,
            "_model_module": "@jupyter-widgets/base",
            "top": null,
            "grid_column": null,
            "overflow_y": null,
            "overflow_x": null,
            "grid_auto_flow": null,
            "grid_area": null,
            "grid_template_columns": null,
            "flex": null,
            "_model_name": "LayoutModel",
            "justify_items": null,
            "grid_row": null,
            "max_height": null,
            "align_content": null,
            "visibility": null,
            "align_self": null,
            "height": null,
            "min_height": null,
            "padding": null,
            "grid_auto_rows": null,
            "grid_gap": null,
            "max_width": null,
            "order": null,
            "_view_module_version": "1.2.0",
            "grid_template_areas": null,
            "object_position": null,
            "object_fit": null,
            "grid_auto_columns": null,
            "margin": null,
            "display": null,
            "left": null
          }
        },
        "697dfc8943024d1a9d47394f7615ac5c": {
          "model_module": "@jupyter-widgets/base",
          "model_name": "LayoutModel",
          "state": {
            "_view_name": "LayoutView",
            "grid_template_rows": null,
            "right": null,
            "justify_content": null,
            "_view_module": "@jupyter-widgets/base",
            "overflow": null,
            "_model_module_version": "1.2.0",
            "_view_count": null,
            "flex_flow": null,
            "width": null,
            "min_width": null,
            "border": null,
            "align_items": null,
            "bottom": null,
            "_model_module": "@jupyter-widgets/base",
            "top": null,
            "grid_column": null,
            "overflow_y": null,
            "overflow_x": null,
            "grid_auto_flow": null,
            "grid_area": null,
            "grid_template_columns": null,
            "flex": null,
            "_model_name": "LayoutModel",
            "justify_items": null,
            "grid_row": null,
            "max_height": null,
            "align_content": null,
            "visibility": null,
            "align_self": null,
            "height": null,
            "min_height": null,
            "padding": null,
            "grid_auto_rows": null,
            "grid_gap": null,
            "max_width": null,
            "order": null,
            "_view_module_version": "1.2.0",
            "grid_template_areas": null,
            "object_position": null,
            "object_fit": null,
            "grid_auto_columns": null,
            "margin": null,
            "display": null,
            "left": null
          }
        }
      }
    }
  },
  "cells": [
    {
      "cell_type": "markdown",
      "metadata": {
        "id": "view-in-github",
        "colab_type": "text"
      },
      "source": [
        "<a href=\"https://colab.research.google.com/github/NeuromatchAcademy/course-content/blob/W2D4_updates/tutorials/W2D4_DynamicNetworks/W2D4_Tutorial1.ipynb\" target=\"_parent\"><img src=\"https://colab.research.google.com/assets/colab-badge.svg\" alt=\"Open In Colab\"/></a>"
      ]
    },
    {
      "cell_type": "markdown",
      "metadata": {
        "id": "gGq6_Zi__b_h"
      },
      "source": [
        "# Tutorial 1: Neural Rate Models\n",
        "**Week 2, Day 4: Dynamic Networks**\n",
        "\n",
        "**By Neuromatch Academy**\n",
        "\n",
        "__Content creators:__ Qinglong Gu, Songtin Li, Arvind Kumar, John Murray, Julijana Gjorgjieva \n",
        "\n",
        "__Content reviewers:__  Maryam Vaziri-Pashkam, Ella Batty, Lorenzo Fontolan, Richard Gao, Spiros Chavlis, Michael Waskom, Siddharth Suresh"
      ]
    },
    {
      "cell_type": "markdown",
      "metadata": {
        "id": "nbs6ZMDN_b_k"
      },
      "source": [
        "**Our 2021 Sponsors, including Presenting Sponsor Facebook Reality Labs**\n",
        "\n",
        "<p align='center'><img src='https://github.com/NeuromatchAcademy/widgets/blob/master/sponsors.png?raw=True'/></p>"
      ]
    },
    {
      "cell_type": "markdown",
      "metadata": {
        "id": "y8Zn3oqd_b_k"
      },
      "source": [
        "---\n",
        "# Tutorial Objectives\n",
        "\n",
        "The brain is a complex system, not because it is composed of a large number of diverse types of neurons, but mainly because of how neurons are connected to each other. The brain is indeed a network of highly specialized neuronal networks. \n",
        "\n",
        "The activity of a neural network constantly evolves in time. For this reason, neurons can be modeled as dynamical systems. The dynamical system approach is only one of the many modeling approaches that computational neuroscientists have developed (other points of view include information processing,  statistical models, etc.). \n",
        "\n",
        "How the dynamics of neuronal networks affect the representation and processing of information in the brain is an open question. However, signatures of altered brain dynamics present in many brain diseases (e.g., in epilepsy or Parkinson's disease) tell us that it is crucial to study network activity dynamics if we want to understand the brain.\n",
        "\n",
        "In this tutorial, we will simulate and study one of the simplest models of biological neuronal networks. Instead of modeling and simulating individual excitatory neurons (e.g., LIF models that you implemented yesterday), we will treat them as a single homogeneous population and approximate their dynamics using a single one-dimensional equation describing the evolution of their average spiking rate in time.\n",
        "\n",
        "In this tutorial, we will learn how to build a firing rate model of a single population of excitatory neurons. \n",
        "\n",
        "**Steps:**\n",
        "- Write the equation for the firing rate dynamics of a 1D excitatory population.\n",
        "- Visualize the response of the population as a function of parameters such as threshold level and gain, using the frequency-current (F-I) curve.\n",
        "- Numerically simulate the dynamics of the excitatory population and find the fixed points of the system. \n",
        "- Investigate the stability of the fixed points by linearizing the dynamics around them.\n",
        " \n"
      ]
    },
    {
      "cell_type": "code",
      "metadata": {
        "colab": {
          "base_uri": "https://localhost:8080/",
          "height": 500
        },
        "cellView": "form",
        "id": "rN0dc--lLNsE",
        "outputId": "8f6b8154-7f54-4bd9-922b-3612069dee8c"
      },
      "source": [
        "# @title Tutorial slides\n",
        "\n",
        "# @markdown These are the slides for the videos in all tutorials today\n",
        "from IPython.display import IFrame\n",
        "IFrame(src=f\"https://mfr.ca-1.osf.io/render?url=https://osf.io/nvuty/?direct%26mode=render%26action=download%26mode=render\", width=854, height=480)"
      ],
      "execution_count": 1,
      "outputs": [
        {
          "output_type": "execute_result",
          "data": {
            "text/html": [
              "\n",
              "        <iframe\n",
              "            width=\"854\"\n",
              "            height=\"480\"\n",
              "            src=\"https://mfr.ca-1.osf.io/render?url=https://osf.io/nvuty/?direct%26mode=render%26action=download%26mode=render\"\n",
              "            frameborder=\"0\"\n",
              "            allowfullscreen\n",
              "        ></iframe>\n",
              "        "
            ],
            "text/plain": [
              "<IPython.lib.display.IFrame at 0x7fd35cf2a8d0>"
            ]
          },
          "metadata": {
            "tags": []
          },
          "execution_count": 1
        }
      ]
    },
    {
      "cell_type": "markdown",
      "metadata": {
        "id": "uA9RHFlo_b_l"
      },
      "source": [
        "---\n",
        "# Setup"
      ]
    },
    {
      "cell_type": "code",
      "metadata": {
        "cellView": "both",
        "execution": {
          "iopub.execute_input": "2021-06-25T15:15:10.187317Z",
          "iopub.status.busy": "2021-06-25T15:15:10.186700Z",
          "iopub.status.idle": "2021-06-25T15:15:10.568400Z",
          "shell.execute_reply": "2021-06-25T15:15:10.568921Z"
        },
        "id": "vD9V1dhq_b_m"
      },
      "source": [
        "# Imports\n",
        "\n",
        "import matplotlib.pyplot as plt\n",
        "import numpy as np\n",
        "import scipy.optimize as opt       # root-finding algorithm"
      ],
      "execution_count": 5,
      "outputs": []
    },
    {
      "cell_type": "code",
      "metadata": {
        "cellView": "form",
        "execution": {
          "iopub.execute_input": "2021-06-25T15:15:10.572334Z",
          "iopub.status.busy": "2021-06-25T15:15:10.571136Z",
          "iopub.status.idle": "2021-06-25T15:15:10.656719Z",
          "shell.execute_reply": "2021-06-25T15:15:10.656122Z"
        },
        "id": "nnPo0f_R_b_m"
      },
      "source": [
        "# @title Figure Settings\n",
        "import ipywidgets as widgets       # interactive display\n",
        "%config InlineBackend.figure_format = 'retina'\n",
        "plt.style.use(\"https://raw.githubusercontent.com/NeuromatchAcademy/course-content/master/nma.mplstyle\")"
      ],
      "execution_count": 6,
      "outputs": []
    },
    {
      "cell_type": "code",
      "metadata": {
        "execution": {
          "iopub.execute_input": "2021-06-25T15:15:10.664479Z",
          "iopub.status.busy": "2021-06-25T15:15:10.663940Z",
          "iopub.status.idle": "2021-06-25T15:15:10.667416Z",
          "shell.execute_reply": "2021-06-25T15:15:10.666963Z"
        },
        "id": "KT03p88O_b_n",
        "cellView": "form"
      },
      "source": [
        "# @title Plotting Functions\n",
        "\n",
        "\n",
        "def plot_fI(x, f):\n",
        "  plt.figure(figsize=(6, 4))  # plot the figure\n",
        "  plt.plot(x, f, 'k')\n",
        "  plt.xlabel('x (a.u.)', fontsize=14)\n",
        "  plt.ylabel('F(x)', fontsize=14)\n",
        "  plt.show()\n",
        "\n",
        "\n",
        "def plot_dr_r(r, drdt, x_fps=None):\n",
        "  plt.figure()\n",
        "  plt.plot(r, drdt, 'k')\n",
        "  plt.plot(r, 0. * r, 'k--')\n",
        "  if x_fps is not None:\n",
        "    plt.plot(x_fps, np.zeros_like(x_fps), \"ko\", ms=12)\n",
        "  plt.xlabel(r'$r$')\n",
        "  plt.ylabel(r'$\\frac{dr}{dt}$', fontsize=20)\n",
        "  plt.ylim(-0.1, 0.1)\n",
        "\n",
        "\n",
        "def plot_dFdt(x, dFdt):\n",
        "  plt.figure()\n",
        "  plt.plot(x, dFdt, 'r')\n",
        "  plt.xlabel('x (a.u.)', fontsize=14)\n",
        "  plt.ylabel('dF(x)', fontsize=14)\n",
        "  plt.show()"
      ],
      "execution_count": 7,
      "outputs": []
    },
    {
      "cell_type": "markdown",
      "metadata": {
        "id": "ff94jHZv_b_o"
      },
      "source": [
        "---\n",
        "# Section 1: Neuronal network dynamics"
      ]
    },
    {
      "cell_type": "code",
      "metadata": {
        "execution": {
          "iopub.execute_input": "2021-06-25T15:15:10.678567Z",
          "iopub.status.busy": "2021-06-25T15:15:10.677994Z",
          "iopub.status.idle": "2021-06-25T15:15:10.756215Z",
          "shell.execute_reply": "2021-06-25T15:15:10.755683Z"
        },
        "id": "OLOr6gaJ_b_p",
        "colab": {
          "base_uri": "https://localhost:8080/",
          "height": 580,
          "referenced_widgets": [
            "4cf66370631549a799ee6b45bda205d0",
            "adfdc236f2df43dba67a95e07ce941e5",
            "a9231214df6b40988a73b1c7dd10357b",
            "ba95d23f2def47989bf5da32662f1cc8",
            "c3c17f9ed87a4d1a89e5f4b39b021520",
            "f6b6e0ed22bc48408e744f138a32162f"
          ]
        },
        "cellView": "form",
        "outputId": "b1ef2492-0bbe-4ec4-cad7-8faa2300c460"
      },
      "source": [
        "# @title Video 1: Dynamic networks\n",
        "from ipywidgets import widgets\n",
        "\n",
        "out2 = widgets.Output()\n",
        "with out2:\n",
        "  from IPython.display import IFrame\n",
        "  class BiliVideo(IFrame):\n",
        "      def __init__(self, id, page=1, width=400, height=300, **kwargs):\n",
        "          self.id=id\n",
        "          src = 'https://player.bilibili.com/player.html?bvid={0}&page={1}'.format(id, page)\n",
        "          super(BiliVideo, self).__init__(src, width, height, **kwargs)\n",
        "\n",
        "  video = BiliVideo(id=\"BV1dh411o7qJ\", width=854, height=480, fs=1)\n",
        "  print('Video available at https://www.bilibili.com/video/{0}'.format(video.id))\n",
        "  display(video)\n",
        "\n",
        "out1 = widgets.Output()\n",
        "with out1:\n",
        "  from IPython.display import YouTubeVideo\n",
        "  video = YouTubeVideo(id=\"p848349hPyw\", width=854, height=480, fs=1, rel=0)\n",
        "  print('Video available at https://youtube.com/watch?v=' + video.id)\n",
        "  display(video)\n",
        "\n",
        "out = widgets.Tab([out1, out2])\n",
        "out.set_title(0, 'Youtube')\n",
        "out.set_title(1, 'Bilibili')\n",
        "\n",
        "display(out)"
      ],
      "execution_count": 8,
      "outputs": [
        {
          "output_type": "display_data",
          "data": {
            "application/vnd.jupyter.widget-view+json": {
              "model_id": "4cf66370631549a799ee6b45bda205d0",
              "version_minor": 0,
              "version_major": 2
            },
            "text/plain": [
              "Tab(children=(Output(), Output()), _titles={'0': 'Youtube', '1': 'Bilibili'})"
            ]
          },
          "metadata": {
            "tags": []
          }
        }
      ]
    },
    {
      "cell_type": "markdown",
      "metadata": {
        "id": "pGOpDRwJPyms"
      },
      "source": [
        "This video covers how to model a network with a single population of neurons and introduces neural rate-based models. It overviews feedforward networks and defines the F-I (firing rate vs. input) curve."
      ]
    },
    {
      "cell_type": "markdown",
      "metadata": {
        "id": "YM41VYS8_b_q"
      },
      "source": [
        "## Section 1.1: Dynamics of a single excitatory population\n",
        "\n",
        "<details>\n",
        "<summary> <font color='blue'>Click here for text recap of relevant part of video </font></summary>\n",
        "\n",
        "Individual neurons respond by spiking. When we average the spikes of neurons in a population, we can define the average firing activity of the population. In this model, we are interested in how the population-averaged firing varies as a function of time and network parameters. Mathematically, we can describe the firing rate dynamic of a feed-forward network as:\n",
        "\n",
        "\\begin{align}\n",
        "\\tau \\frac{dr}{dt} &= -r + F(I_{\\text{ext}})  \\quad\\qquad (1)\n",
        "\\end{align}\n",
        "\n",
        "$r(t)$ represents the average firing rate of the excitatory population at time $t$, $\\tau$ controls the timescale of the evolution of the average firing rate, $I_{\\text{ext}}$ represents the external input, and the transfer function $F(\\cdot)$ (which can be related to f-I curve of individual neurons described in the next sections) represents the population activation function in response to all received inputs.\n",
        "\n",
        "</details>\n",
        "\n",
        "To start building the model, please execute the cell below to initialize the simulation parameters."
      ]
    },
    {
      "cell_type": "code",
      "metadata": {
        "execution": {
          "iopub.execute_input": "2021-06-25T15:15:10.769768Z",
          "iopub.status.busy": "2021-06-25T15:15:10.768940Z",
          "iopub.status.idle": "2021-06-25T15:15:10.770659Z",
          "shell.execute_reply": "2021-06-25T15:15:10.770309Z"
        },
        "id": "vanMYu4E_b_r",
        "colab": {
          "base_uri": "https://localhost:8080/"
        },
        "cellView": "form",
        "outputId": "cd218e20-a7ed-4e0c-aa2b-44ea62035f48"
      },
      "source": [
        "# @markdown *Execute this cell to set default parameters for a single excitatory population model*\n",
        "\n",
        "\n",
        "def default_pars_single(**kwargs):\n",
        "  pars = {}\n",
        "\n",
        "  # Excitatory parameters\n",
        "  pars['tau'] = 1.     # Timescale of the E population [ms]\n",
        "  pars['a'] = 1.2      # Gain of the E population\n",
        "  pars['theta'] = 2.8  # Threshold of the E population\n",
        "\n",
        "  # Connection strength\n",
        "  pars['w'] = 0.  # E to E, we first set it to 0\n",
        "\n",
        "  # External input\n",
        "  pars['I_ext'] = 0.\n",
        "\n",
        "  # simulation parameters\n",
        "  pars['T'] = 20.       # Total duration of simulation [ms]\n",
        "  pars['dt'] = .1       # Simulation time step [ms]\n",
        "  pars['r_init'] = 0.2  # Initial value of E\n",
        "\n",
        "  # External parameters if any\n",
        "  pars.update(kwargs)\n",
        "\n",
        "  # Vector of discretized time points [ms]\n",
        "  pars['range_t'] = np.arange(0, pars['T'], pars['dt'])\n",
        "\n",
        "  return pars\n",
        "\n",
        "print(pars)"
      ],
      "execution_count": 16,
      "outputs": [
        {
          "output_type": "stream",
          "text": [
            "{'tau': 3.0, 'a': 1.2, 'theta': 2.8, 'w': 0.0, 'I_ext': 5.0, 'T': 20.0, 'dt': 0.1, 'r_init': 0.2, 'range_t': array([ 0. ,  0.1,  0.2,  0.3,  0.4,  0.5,  0.6,  0.7,  0.8,  0.9,  1. ,\n",
            "        1.1,  1.2,  1.3,  1.4,  1.5,  1.6,  1.7,  1.8,  1.9,  2. ,  2.1,\n",
            "        2.2,  2.3,  2.4,  2.5,  2.6,  2.7,  2.8,  2.9,  3. ,  3.1,  3.2,\n",
            "        3.3,  3.4,  3.5,  3.6,  3.7,  3.8,  3.9,  4. ,  4.1,  4.2,  4.3,\n",
            "        4.4,  4.5,  4.6,  4.7,  4.8,  4.9,  5. ,  5.1,  5.2,  5.3,  5.4,\n",
            "        5.5,  5.6,  5.7,  5.8,  5.9,  6. ,  6.1,  6.2,  6.3,  6.4,  6.5,\n",
            "        6.6,  6.7,  6.8,  6.9,  7. ,  7.1,  7.2,  7.3,  7.4,  7.5,  7.6,\n",
            "        7.7,  7.8,  7.9,  8. ,  8.1,  8.2,  8.3,  8.4,  8.5,  8.6,  8.7,\n",
            "        8.8,  8.9,  9. ,  9.1,  9.2,  9.3,  9.4,  9.5,  9.6,  9.7,  9.8,\n",
            "        9.9, 10. , 10.1, 10.2, 10.3, 10.4, 10.5, 10.6, 10.7, 10.8, 10.9,\n",
            "       11. , 11.1, 11.2, 11.3, 11.4, 11.5, 11.6, 11.7, 11.8, 11.9, 12. ,\n",
            "       12.1, 12.2, 12.3, 12.4, 12.5, 12.6, 12.7, 12.8, 12.9, 13. , 13.1,\n",
            "       13.2, 13.3, 13.4, 13.5, 13.6, 13.7, 13.8, 13.9, 14. , 14.1, 14.2,\n",
            "       14.3, 14.4, 14.5, 14.6, 14.7, 14.8, 14.9, 15. , 15.1, 15.2, 15.3,\n",
            "       15.4, 15.5, 15.6, 15.7, 15.8, 15.9, 16. , 16.1, 16.2, 16.3, 16.4,\n",
            "       16.5, 16.6, 16.7, 16.8, 16.9, 17. , 17.1, 17.2, 17.3, 17.4, 17.5,\n",
            "       17.6, 17.7, 17.8, 17.9, 18. , 18.1, 18.2, 18.3, 18.4, 18.5, 18.6,\n",
            "       18.7, 18.8, 18.9, 19. , 19.1, 19.2, 19.3, 19.4, 19.5, 19.6, 19.7,\n",
            "       19.8, 19.9])}\n"
          ],
          "name": "stdout"
        }
      ]
    },
    {
      "cell_type": "markdown",
      "metadata": {
        "id": "1u3oYcHi_b_r"
      },
      "source": [
        "You can now use:\n",
        "- `pars = default_pars_single()` to get all the parameters. \n",
        "- `pars = default_pars_single(T=T_sim, dt=time_step)` to set new simulation time and time step\n",
        "- To update an existing parameter dictionary, use `pars['New_para'] = value`\n",
        "\n",
        "Because `pars` is a dictionary, it can be passed to a function that requires individual parameters as arguments using `my_func(**pars)` syntax."
      ]
    },
    {
      "cell_type": "markdown",
      "metadata": {
        "id": "cSMnMOgn_b_s"
      },
      "source": [
        "## Section 1.2: F-I curves\n",
        "\n",
        "<details>\n",
        "<summary> <font color='blue'>Click here for text recap of relevant part of video </font></summary>\n",
        "\n",
        "In electrophysiology, a neuron is often characterized by its spike rate output in response to input currents. This is often called the **F-I** curve, denoting the output spike frequency (**F**) in response to different injected currents (**I**). We estimated this for an LIF neuron in yesterday's tutorial.\n",
        "\n",
        "The transfer function $F(\\cdot)$ in Equation $1$ represents the gain of the population as a function of the total input. The gain is often modeled as a sigmoidal function, i.e., more input drive leads to a nonlinear increase in the population firing rate. The output firing rate will eventually saturate for high input values. \n",
        "\n",
        "A sigmoidal $F(\\cdot)$ is parameterized by its gain $a$ and threshold $\\theta$.\n",
        "\n",
        "$$ F(x;a,\\theta) = \\frac{1}{1+\\text{e}^{-a(x-\\theta)}} - \\frac{1}{1+\\text{e}^{a\\theta}}  \\quad(2)$$\n",
        "\n",
        "The argument $x$ represents the input to the population. Note that the second term is chosen so that $F(0;a,\\theta)=0$.\n",
        "\n",
        "Many other transfer functions (generally monotonic) can be also used. Examples are the rectified linear function $ReLU(x)$ or the hyperbolic tangent $tanh(x)$."
      ]
    },
    {
      "cell_type": "markdown",
      "metadata": {
        "id": "ydGZ5qrD_b_s"
      },
      "source": [
        "### Coding Exercise 1.2: Implement F-I curve \n",
        "\n",
        "Let's first investigate the activation functions before simulating the dynamics of the entire population. \n",
        "\n",
        "In this exercise, you will implement a sigmoidal **F-I** curve or transfer function $F(x)$, with gain $a$ and threshold level $\\theta$ as parameters:\n",
        "\n",
        "$$ F(x;a,\\theta) = \\frac{1}{1+\\text{e}^{-a(x-\\theta)}} - \\frac{1}{1+\\text{e}^{a\\theta}}$$"
      ]
    },
    {
      "cell_type": "code",
      "metadata": {
        "execution": {
          "iopub.execute_input": "2021-06-25T15:15:10.775579Z",
          "iopub.status.busy": "2021-06-25T15:15:10.774568Z",
          "iopub.status.idle": "2021-06-25T15:15:10.776252Z",
          "shell.execute_reply": "2021-06-25T15:15:10.776744Z"
        },
        "id": "hAK5Q5VA_b_t"
      },
      "source": [
        "def F(x, a, theta):\n",
        "  \"\"\"\n",
        "  Population activation function.\n",
        "\n",
        "  Args:\n",
        "    x (float): the population input\n",
        "    a (float): the gain of the function\n",
        "    theta (float): the threshold of the function\n",
        "\n",
        "  Returns:\n",
        "    float: the population activation response F(x) for input x\n",
        "  \"\"\"\n",
        "  #################################################\n",
        "  ## TODO for students: compute f = F(x) ##\n",
        "  # Fill out function and remove\n",
        "  raise NotImplementedError(\"Student excercise: implement the f-I function\")\n",
        "  #################################################\n",
        "\n",
        "  # Define the sigmoidal transfer function f = F(x)\n",
        "  f = ...\n",
        "\n",
        "  return f\n",
        "\n",
        "\n",
        "# Set parameters\n",
        "pars = default_pars_single()  # get default parameters\n",
        "x = np.arange(0, 10, .1)      # set the range of input\n",
        "\n",
        "# Compute transfer function\n",
        "f = F(x, pars['a'], pars['theta'])\n",
        "\n",
        "# Visualize\n",
        "plot_fI(x, f)"
      ],
      "execution_count": 9,
      "outputs": []
    },
    {
      "cell_type": "code",
      "metadata": {
        "cellView": "both",
        "execution": {
          "iopub.execute_input": "2021-06-25T15:15:10.796201Z",
          "iopub.status.busy": "2021-06-25T15:15:10.781946Z",
          "iopub.status.idle": "2021-06-25T15:15:10.964125Z",
          "shell.execute_reply": "2021-06-25T15:15:10.964532Z"
        },
        "id": "guJK6kov_b_t",
        "colab": {
          "base_uri": "https://localhost:8080/",
          "height": 288
        },
        "outputId": "3f98e887-7604-4190-8789-694c5fd57d04"
      },
      "source": [
        "# to_remove solution\n",
        "def F(x, a, theta):\n",
        "  \"\"\"\n",
        "  Population activation function.\n",
        "\n",
        "  Args:\n",
        "    x (float): the population input\n",
        "    a (float): the gain of the function\n",
        "    theta (float): the threshold of the function\n",
        "\n",
        "  Returns:\n",
        "    float: the population activation response F(x) for input x\n",
        "  \"\"\"\n",
        "\n",
        "  # Define the sigmoidal transfer function f = F(x)\n",
        "  f = (1 + np.exp(-a * (x - theta)))**-1 - (1 + np.exp(a * theta))**-1\n",
        "\n",
        "  return f\n",
        "\n",
        "\n",
        "# Set parameters\n",
        "pars = default_pars_single()  # get default parameters\n",
        "x = np.arange(0, 10, .1)      # set the range of input\n",
        "\n",
        "# Compute transfer function\n",
        "f = F(x, pars['a'], pars['theta'])\n",
        "\n",
        "# Visualize\n",
        "with plt.xkcd():\n",
        "  plot_fI(x, f)"
      ],
      "execution_count": 17,
      "outputs": [
        {
          "output_type": "display_data",
          "data": {
            "image/png": "[encoded data removed]",
            "text/plain": [
              "<Figure size 432x288 with 1 Axes>"
            ]
          },
          "metadata": {
            "tags": [],
            "image/png": {
              "width": 416,
              "height": 272
            }
          }
        }
      ]
    },
    {
      "cell_type": "markdown",
      "metadata": {
        "id": "_79_oBT4_b_u"
      },
      "source": [
        "### Interactive Demo 1.2 : Parameter exploration of F-I curve\n",
        "Here's an interactive demo that shows how the F-I curve changes for different values of the gain and threshold parameters. \n",
        "\n",
        "1. How does the gain parameter ($a$) affect the F-I curve?\n",
        "1. How does the threshold parameter ($\\theta$) affect the F-I curve?"
      ]
    },
    {
      "cell_type": "code",
      "metadata": {
        "cellView": "form",
        "execution": {
          "iopub.execute_input": "2021-06-25T15:15:10.968493Z",
          "iopub.status.busy": "2021-06-25T15:15:10.967286Z",
          "iopub.status.idle": "2021-06-25T15:15:11.200736Z",
          "shell.execute_reply": "2021-06-25T15:15:11.200240Z"
        },
        "id": "t0ugKFo6_b_u",
        "colab": {
          "base_uri": "https://localhost:8080/",
          "height": 494,
          "referenced_widgets": [
            "2a80c05a77c345eeb8c0f59f75dd9f6f",
            "ecbca6f9ec1d42a5bb6f0d37b77d5bad",
            "a757abd36b3945b1842b5fa9754a497f",
            "b12fabbf63a343e7a12246b3126b761a",
            "4b87bbeff6524accbe37ff6b619e857a",
            "e0816d6bfcdf4b46bce5ef9fb87d3426",
            "01aa650d055c40c8999ce51e9668f9e7",
            "aeca66287acc4b2a8e9516561740f925",
            "5117e4be3e7c422da4be2b2b0f25d2af",
            "32e0cc20453c41aab7a373b9bd819813"
          ]
        },
        "outputId": "5124852a-eaef-49fd-b211-d9e140a3ba19"
      },
      "source": [
        "# @title\n",
        "\n",
        "# @markdown Make sure you execute this cell to enable the widget!\n",
        "\n",
        "\n",
        "def interactive_plot_FI(a, theta):\n",
        "  \"\"\"\n",
        "  Population activation function.\n",
        "\n",
        "  Expecxts:\n",
        "    a     : the gain of the function\n",
        "    theta : the threshold of the function\n",
        "\n",
        "  Returns:\n",
        "    plot the F-I curve with give parameters\n",
        "  \"\"\"\n",
        "\n",
        "  # set the range of input\n",
        "  x = np.arange(0, 10, .1)\n",
        "  plt.figure()\n",
        "  plt.plot(x, F(x, a, theta), 'k')\n",
        "  plt.xlabel('x (a.u.)', fontsize=14)\n",
        "  plt.ylabel('F(x)', fontsize=14)\n",
        "  plt.show()\n",
        "\n",
        "\n",
        "_ = widgets.interact(interactive_plot_FI, a=(0.3, 3, 0.3), theta=(2, 4, 0.2))"
      ],
      "execution_count": 18,
      "outputs": [
        {
          "output_type": "display_data",
          "data": {
            "application/vnd.jupyter.widget-view+json": {
              "model_id": "2a80c05a77c345eeb8c0f59f75dd9f6f",
              "version_minor": 0,
              "version_major": 2
            },
            "text/plain": [
              "interactive(children=(FloatSlider(value=1.5, description='a', max=3.0, min=0.3, step=0.3), FloatSlider(value=3…"
            ]
          },
          "metadata": {
            "tags": []
          }
        }
      ]
    },
    {
      "cell_type": "code",
      "metadata": {
        "execution": {
          "iopub.execute_input": "2021-06-25T15:15:11.208332Z",
          "iopub.status.busy": "2021-06-25T15:15:11.207816Z",
          "iopub.status.idle": "2021-06-25T15:15:11.211407Z",
          "shell.execute_reply": "2021-06-25T15:15:11.210989Z"
        },
        "id": "uJsXEs2q_b_u"
      },
      "source": [
        "# to_remove explanation\n",
        "\n",
        "\"\"\"\n",
        "\n",
        "1)  a determines the slope (gain) of the rising phase of the F-I curve\n",
        "\n",
        "2) theta determines the input at which the function F(x) reaches its mid-value (0.5).\n",
        "That is, theta shifts the F-I curve along the horizontal axis.\n",
        "\n",
        "For our neurons we are using in this tutorial:\n",
        "- a controls the gain of the neuron population\n",
        "- theta controls the threshold at which the neuron population starts to respond\n",
        "\"\"\";"
      ],
      "execution_count": null,
      "outputs": []
    },
    {
      "cell_type": "markdown",
      "metadata": {
        "id": "ORkGnrnA_b_v"
      },
      "source": [
        "## Section 1.3: Simulation scheme of E dynamics\n",
        "\n",
        "Because $F(\\cdot)$ is a nonlinear function, the exact solution of our differential equation of population activity can not be determined via analytical methods. As we have seen before, we can use numerical methods, specifically the Euler method, to find the solution (that is, simulate the population activity).\n",
        "\n"
      ]
    },
    {
      "cell_type": "code",
      "metadata": {
        "execution": {
          "iopub.execute_input": "2021-06-25T15:15:11.219766Z",
          "iopub.status.busy": "2021-06-25T15:15:11.218784Z",
          "iopub.status.idle": "2021-06-25T15:15:11.222450Z",
          "shell.execute_reply": "2021-06-25T15:15:11.222795Z"
        },
        "id": "8GhwDV9X_b_v",
        "cellView": "form",
        "colab": {
          "base_uri": "https://localhost:8080/"
        },
        "outputId": "4a27ce89-1c11-4af9-e605-3867bde4e89c"
      },
      "source": [
        "# @markdown *Execute this cell to enable the single population rate model simulator: `simulate_single`*\n",
        "\n",
        "\n",
        "def simulate_single(pars):\n",
        "  \"\"\"\n",
        "  Simulate an excitatory population of neurons\n",
        "\n",
        "  Args:\n",
        "    pars   : Parameter dictionary\n",
        "\n",
        "  Returns:\n",
        "    rE     : Activity of excitatory population (array)\n",
        "\n",
        "  Example:\n",
        "    pars = default_pars_single()\n",
        "    r = simulate_single(pars)\n",
        "  \"\"\"\n",
        "\n",
        "  # Set parameters\n",
        "  tau, a, theta = pars['tau'], pars['a'], pars['theta']\n",
        "  w = pars['w']\n",
        "  I_ext = pars['I_ext']\n",
        "  r_init = pars['r_init']\n",
        "  dt, range_t = pars['dt'], pars['range_t']\n",
        "  Lt = range_t.size\n",
        "\n",
        "  # Initialize activity\n",
        "  r = np.zeros(Lt)\n",
        "  r[0] = r_init\n",
        "  I_ext = I_ext * np.ones(Lt)\n",
        "\n",
        "  # Update the E activity\n",
        "  for k in range(Lt - 1):\n",
        "      dr = dt / tau * (-r[k] + F(w * r[k] + I_ext[k], a, theta))\n",
        "      r[k+1] = r[k] + dr\n",
        "\n",
        "  return r\n",
        "\n",
        "help(simulate_single)"
      ],
      "execution_count": 19,
      "outputs": [
        {
          "output_type": "stream",
          "text": [
            "Help on function simulate_single in module __main__:\n",
            "\n",
            "simulate_single(pars)\n",
            "    Simulate an excitatory population of neurons\n",
            "    \n",
            "    Args:\n",
            "      pars   : Parameter dictionary\n",
            "    \n",
            "    Returns:\n",
            "      rE     : Activity of excitatory population (array)\n",
            "    \n",
            "    Example:\n",
            "      pars = default_pars_single()\n",
            "      r = simulate_single(pars)\n",
            "\n"
          ],
          "name": "stdout"
        }
      ]
    },
    {
      "cell_type": "markdown",
      "metadata": {
        "id": "WezZ0hsP_b_w"
      },
      "source": [
        "### Interactive Demo 1.3: Parameter Exploration of single population dynamics\n",
        "\n",
        "Explore these dynamics of the population activity in this interactive demo.\n",
        "\n",
        "1.  How does $r_{\\text{sim}}(t)$ change with different $I_{\\text{ext}}$ values? \n",
        "2.  How does it change with different $\\tau$ values? \n",
        "\n",
        "\n",
        "Note that, $r_{\\rm ana}(t)$ denotes the analytical solution - you will learn how this is computed in the next section."
      ]
    },
    {
      "cell_type": "code",
      "metadata": {
        "cellView": "form",
        "execution": {
          "iopub.execute_input": "2021-06-25T15:15:11.256333Z",
          "iopub.status.busy": "2021-06-25T15:15:11.255617Z",
          "iopub.status.idle": "2021-06-25T15:15:11.719557Z",
          "shell.execute_reply": "2021-06-25T15:15:11.720049Z"
        },
        "id": "pbqlSJWh_b_w",
        "colab": {
          "base_uri": "https://localhost:8080/",
          "height": 494,
          "referenced_widgets": [
            "1eae73ec06af4c2e8fa27f3677eb0d26",
            "c65d8c0ee6134b4a9275c4d341332995",
            "845fad21affc4054bfdaaf5ee95f66af",
            "c12db8d74eaf4aeba34099a83ab4e2f0",
            "a84b167cdd504bbe90c8cb8181f1e31a",
            "02830a914d0c4a5fa98bed722691e849",
            "7b16dd8eb8ed451e957d9439826c997c",
            "8e73173afd7e4a6dba9ea9fb1832169a",
            "5e15a878832f48a5b3f582493b3472d7",
            "c727d64ecaed456ba11b3952c581fa09"
          ]
        },
        "outputId": "f4193860-5247-4c4c-b4fd-a3754e6a58e7"
      },
      "source": [
        "# @title\n",
        "\n",
        "# @markdown Make sure you execute this cell to enable the widget!\n",
        "\n",
        "# get default parameters\n",
        "pars = default_pars_single(T=20.)\n",
        "\n",
        "\n",
        "def Myplot_E_diffI_difftau(I_ext, tau):\n",
        "  # set external input and time constant\n",
        "  pars['I_ext'] = I_ext\n",
        "  pars['tau'] = tau\n",
        "\n",
        "  # simulation\n",
        "  r = simulate_single(pars)\n",
        "\n",
        "  # Analytical Solution\n",
        "  r_ana = (pars['r_init']\n",
        "           + (F(I_ext, pars['a'], pars['theta'])\n",
        "           - pars['r_init']) * (1. - np.exp(-pars['range_t'] / pars['tau'])))\n",
        "\n",
        "  # plot\n",
        "  plt.figure()\n",
        "  plt.plot(pars['range_t'], r, 'b', label=r'$r_{\\mathrm{sim}}$(t)', alpha=0.5,\n",
        "           zorder=1)\n",
        "  plt.plot(pars['range_t'], r_ana, 'b--', lw=5, dashes=(2, 2),\n",
        "           label=r'$r_{\\mathrm{ana}}$(t)', zorder=2)\n",
        "  plt.plot(pars['range_t'],\n",
        "           F(I_ext, pars['a'], pars['theta']) * np.ones(pars['range_t'].size),\n",
        "           'k--', label=r'$F(I_{\\mathrm{ext}})$')\n",
        "  plt.xlabel('t (ms)', fontsize=16.)\n",
        "  plt.ylabel('Activity r(t)', fontsize=16.)\n",
        "  plt.legend(loc='best', fontsize=14.)\n",
        "  plt.show()\n",
        "\n",
        "\n",
        "_ = widgets.interact(Myplot_E_diffI_difftau, I_ext=(0.0, 10., 1.),\n",
        "                     tau=(1., 5., 0.2))"
      ],
      "execution_count": 13,
      "outputs": [
        {
          "output_type": "display_data",
          "data": {
            "application/vnd.jupyter.widget-view+json": {
              "model_id": "1eae73ec06af4c2e8fa27f3677eb0d26",
              "version_minor": 0,
              "version_major": 2
            },
            "text/plain": [
              "interactive(children=(FloatSlider(value=5.0, description='I_ext', max=10.0, step=1.0), FloatSlider(value=3.0, …"
            ]
          },
          "metadata": {
            "tags": []
          }
        }
      ]
    },
    {
      "cell_type": "code",
      "metadata": {
        "execution": {
          "iopub.execute_input": "2021-06-25T15:15:11.727079Z",
          "iopub.status.busy": "2021-06-25T15:15:11.725878Z",
          "iopub.status.idle": "2021-06-25T15:15:11.727708Z",
          "shell.execute_reply": "2021-06-25T15:15:11.728189Z"
        },
        "id": "gmi182Wl_b_x"
      },
      "source": [
        "# to_remove explanation\n",
        "\n",
        "\"\"\"\n",
        "\n",
        "1) Weak inputs to the neurons eventually result in the activity converging to zero.\n",
        " Strong inputs to the neurons eventually result in the activity converging to max value\n",
        "\n",
        "2) The time constant tau, does not affect the final response reached but it determines\n",
        "the time the neurons take to reach to their fixed point.\n",
        "\"\"\";"
      ],
      "execution_count": 21,
      "outputs": []
    },
    {
      "cell_type": "markdown",
      "metadata": {
        "id": "V5G39UmW_b_x"
      },
      "source": [
        "## Think! 1.3: Finite activities\n",
        "\n",
        "Above, we have numerically solved a system driven by a positive input. Yet, $r_E(t)$ either decays to zero or reaches a fixed non-zero value.\n",
        "\n",
        "1. Why doesn't the solution of the system \"explode\" in a finite time? In other words, what guarantees that $r_E$(t) stays finite? \n",
        "2. Which parameter would you change in order to increase the maximum value of the response? "
      ]
    },
    {
      "cell_type": "code",
      "metadata": {
        "execution": {
          "iopub.execute_input": "2021-06-25T15:15:11.732649Z",
          "iopub.status.busy": "2021-06-25T15:15:11.731465Z",
          "iopub.status.idle": "2021-06-25T15:15:11.733349Z",
          "shell.execute_reply": "2021-06-25T15:15:11.733831Z"
        },
        "id": "PGjTmC8M_b_x"
      },
      "source": [
        "# to_remove explanation\n",
        "\n",
        "\"\"\"\n",
        "\n",
        "1) As the F-I curve is bounded between zero and one, the system doesn't explode.\n",
        "The f-curve guarantees this property\n",
        "\n",
        "2) One way to increase the maximum response is to change the f-I curve. For\n",
        "example, the ReLU is an unbounded function, and thus will increase the overall maximal\n",
        "response of the network.\n",
        "\n",
        "\"\"\";"
      ],
      "execution_count": null,
      "outputs": []
    },
    {
      "cell_type": "markdown",
      "metadata": {
        "id": "es9VwS-a_b_x"
      },
      "source": [
        "---\n",
        "# Section 2: Fixed points of the single population system\n"
      ]
    },
    {
      "cell_type": "code",
      "metadata": {
        "execution": {
          "iopub.execute_input": "2021-06-25T15:15:11.746888Z",
          "iopub.status.busy": "2021-06-25T15:15:11.745402Z",
          "iopub.status.idle": "2021-06-25T15:15:11.828368Z",
          "shell.execute_reply": "2021-06-25T15:15:11.827871Z"
        },
        "id": "cjWIftvL_b_x",
        "colab": {
          "base_uri": "https://localhost:8080/",
          "height": 580,
          "referenced_widgets": [
            "452ef1f99a94476ca8bbabf69bacb99c",
            "ca992e2ed91947b7a23cd0cbf1a61bb5",
            "0d4cd4e2ac6a4a15920fc67bf09272b6",
            "bfbfee450dc4498fa66eeaedbbaff34a",
            "b5fd1dc69510446d915c8e6e5228d8e2",
            "3616c6ecc0874029b39e720f2110610a"
          ]
        },
        "cellView": "form",
        "outputId": "54d2b8e3-b8e0-48e2-c81a-443d0f7765f7"
      },
      "source": [
        "# @title Video 2: Fixed point\n",
        "from ipywidgets import widgets\n",
        "\n",
        "out2 = widgets.Output()\n",
        "with out2:\n",
        "  from IPython.display import IFrame\n",
        "  class BiliVideo(IFrame):\n",
        "      def __init__(self, id, page=1, width=400, height=300, **kwargs):\n",
        "          self.id=id\n",
        "          src = 'https://player.bilibili.com/player.html?bvid={0}&page={1}'.format(id, page)\n",
        "          super(BiliVideo, self).__init__(src, width, height, **kwargs)\n",
        "\n",
        "  video = BiliVideo(id=\"BV1v54y1v7Gr\", width=854, height=480, fs=1)\n",
        "  print('Video available at https://www.bilibili.com/video/{0}'.format(video.id))\n",
        "  display(video)\n",
        "\n",
        "out1 = widgets.Output()\n",
        "with out1:\n",
        "  from IPython.display import YouTubeVideo\n",
        "  video = YouTubeVideo(id=\"Ox3ELd1UFyo\", width=854, height=480, fs=1, rel=0)\n",
        "  print('Video available at https://youtube.com/watch?v=' + video.id)\n",
        "  display(video)\n",
        "\n",
        "out = widgets.Tab([out1, out2])\n",
        "out.set_title(0, 'Youtube')\n",
        "out.set_title(1, 'Bilibili')\n",
        "\n",
        "display(out)"
      ],
      "execution_count": 20,
      "outputs": [
        {
          "output_type": "display_data",
          "data": {
            "application/vnd.jupyter.widget-view+json": {
              "model_id": "452ef1f99a94476ca8bbabf69bacb99c",
              "version_minor": 0,
              "version_major": 2
            },
            "text/plain": [
              "Tab(children=(Output(), Output()), _titles={'0': 'Youtube', '1': 'Bilibili'})"
            ]
          },
          "metadata": {
            "tags": []
          }
        }
      ]
    },
    {
      "cell_type": "markdown",
      "metadata": {
        "id": "Z6AjvIhe_b_y"
      },
      "source": [
        "We can now extend our feed-forward network to a recurrent network, governed by the equation:\n",
        "\n",
        "\\begin{align}\n",
        "\\tau \\frac{dr}{dt} &= -r + F(w\\cdot r + I_{\\text{ext}})  \\quad\\qquad (3)\n",
        "\\end{align}\n",
        " where as before, $r(t)$ represents the average firing rate of the excitatory population at time $t$, $\\tau$ controls the timescale of the evolution of the average firing rate, $I_{\\text{ext}}$ represents the external input, and the transfer function $F(\\cdot)$ (which can be related to f-I curve of individual neurons described in the next sections) represents the population activation function in response to all received inputs. Now we also have $w$ which denotes the strength (synaptic weight) of the recurrent input to the population.\n",
        "\n",
        "As you varied the two parameters in the last Interactive Demo, you noticed that, while at first the system output quickly changes, with time, it reaches its maximum/minimum value and does not change anymore. The value eventually reached by the system is called the **steady state** of the system, or the **fixed point**. Essentially, in the steady states the derivative with respect to time of the activity ($r$) is zero, i.e. $\\displaystyle \\frac{dr}{dt}=0$. \n",
        "\n",
        "We can find that the steady state of the Equation. (1) by setting $\\displaystyle{\\frac{dr}{dt}=0}$ and solve for $r$:\n",
        "\n",
        "$$-r_{\\text{steady}} + F(w\\cdot r_{\\text{steady}} + I_{\\text{ext}};a,\\theta) = 0, \\qquad (4)$$\n",
        "\n",
        "When it exists, the solution of Equation. (4) defines a **fixed point** of the dynamical system in Equation (3). Note that if $F(x)$ is nonlinear, it is not always possible to find an analytical solution, but the solution can be found via numerical simulations, as we will do later.\n",
        "\n",
        "From the Interactive Demo, one could also notice that the value of $\\tau$ influences how quickly the activity will converge to the steady state from its initial value. \n",
        "\n",
        "In the specific case of $w=0$, we can also analytically compute  the solution of Equation (1) (i.e., the thick blue dashed line) and deduce the role of $\\tau$ in determining the convergence to the fixed point: \n",
        "\n",
        "$$\\displaystyle{r(t) = \\big{[}F(I_{\\text{ext}};a,\\theta) -r(t=0)\\big{]} (1-\\text{e}^{-\\frac{t}{\\tau}})} + r(t=0)$$ \\\\\n",
        "\n",
        "We can now numerically calculate the fixed point with a root finding algorithm."
      ]
    },
    {
      "cell_type": "markdown",
      "metadata": {
        "id": "E5iW_flJ_b_y"
      },
      "source": [
        "## Coding Exercise 2.1: Visualization of the fixed points\n",
        "\n",
        "When it is not possible to find the solution for Equation (3) analytically, a graphical approach can be taken. To that end, it is useful to plot $\\displaystyle{\\frac{dr}{dt}}$ as a function of $r$. The values of $r$ for which the plotted function crosses zero on the y axis correspond to fixed points. \n",
        "\n",
        "Here, let us, for example, set $w=5.0$ and $I^{\\text{ext}}=0.5$. From Equation (3), you can obtain\n",
        "\n",
        "$$\\frac{dr}{dt} = [-r + F(w\\cdot r + I^{\\text{ext}})]\\,/\\,\\tau $$\n",
        "\n",
        "Then, plot the $dr/dt$ as a function of $r$, and check for the presence of fixed points. "
      ]
    },
    {
      "cell_type": "code",
      "metadata": {
        "execution": {
          "iopub.execute_input": "2021-06-25T15:15:11.842123Z",
          "iopub.status.busy": "2021-06-25T15:15:11.841508Z",
          "iopub.status.idle": "2021-06-25T15:15:11.843138Z",
          "shell.execute_reply": "2021-06-25T15:15:11.842657Z"
        },
        "id": "ox22vrvR_b_z"
      },
      "source": [
        "def compute_drdt(r, I_ext, w, a, theta, tau, **other_pars):\n",
        "  \"\"\"Given parameters, compute dr/dt as a function of r.\n",
        "\n",
        "  Args:\n",
        "    r (1D array) : Average firing rate of the excitatory population\n",
        "    I_ext, w, a, theta, tau (numbers): Simulation parameters to use\n",
        "    other_pars : Other simulation parameters are unused by this function\n",
        "\n",
        "  Returns\n",
        "    drdt function for each value of r\n",
        "  \"\"\"\n",
        "  #########################################################################\n",
        "  # TODO compute drdt and disable the error\n",
        "  raise NotImplementedError(\"Finish the compute_drdt function\")\n",
        "  #########################################################################\n",
        "\n",
        "  # Calculate drdt\n",
        "  drdt = ...\n",
        "\n",
        "  return drdt\n",
        "\n",
        "\n",
        "# Define a vector of r values and the simulation parameters\n",
        "r = np.linspace(0, 1, 1000)\n",
        "pars = default_pars_single(I_ext=0.5, w=5)\n",
        "\n",
        "# Compute dr/dt\n",
        "drdt = compute_drdt(r, **pars)\n",
        "\n",
        "# Visualize\n",
        "plot_dr_r(r, drdt)"
      ],
      "execution_count": null,
      "outputs": []
    },
    {
      "cell_type": "code",
      "metadata": {
        "execution": {
          "iopub.execute_input": "2021-06-25T15:15:11.862228Z",
          "iopub.status.busy": "2021-06-25T15:15:11.847873Z",
          "iopub.status.idle": "2021-06-25T15:15:12.129912Z",
          "shell.execute_reply": "2021-06-25T15:15:12.129421Z"
        },
        "id": "ZiW9Hi0D_b_z",
        "colab": {
          "base_uri": "https://localhost:8080/",
          "height": 465
        },
        "outputId": "5b507d56-3388-4d56-b18f-172367fa8637"
      },
      "source": [
        "# to_remove solution\n",
        "\n",
        "def compute_drdt(r, I_ext, w, a, theta, tau, **other_pars):\n",
        "  \"\"\"Given parameters, compute dr/dt as a function of r.\n",
        "\n",
        "  Args:\n",
        "    r (1D array) : Average firing rate of the excitatory population\n",
        "    I_ext, w, a, theta, tau (numbers): Simulation parameters to use\n",
        "    other_pars : Other simulation parameters are unused by this function\n",
        "\n",
        "  Returns\n",
        "    drdt function for each value of r\n",
        "  \"\"\"\n",
        "  # Calculate drdt\n",
        "  drdt = (-r + F(w * r + I_ext, a, theta)) / tau\n",
        "\n",
        "  return drdt\n",
        "\n",
        "\n",
        "# Define a vector of r values and the simulation parameters\n",
        "r = np.linspace(0, 1, 1000)\n",
        "pars = default_pars_single(I_ext=0.5, w=5)\n",
        "\n",
        "# Compute dr/dt\n",
        "drdt = compute_drdt(r, **pars)\n",
        "\n",
        "# Visualize\n",
        "with plt.xkcd():\n",
        "  plot_dr_r(r, drdt)"
      ],
      "execution_count": 22,
      "outputs": [
        {
          "output_type": "stream",
          "text": [
            "/usr/local/lib/python3.7/dist-packages/matplotlib/backends/backend_agg.py:214: RuntimeWarning: Glyph 8722 missing from current font.\n",
            "  font.set_text(s, 0.0, flags=flags)\n"
          ],
          "name": "stderr"
        },
        {
          "output_type": "display_data",
          "data": {
            "image/png": "[encoded data removed]",
            "text/plain": [
              "<Figure size 576x432 with 1 Axes>"
            ]
          },
          "metadata": {
            "tags": [],
            "image/png": {
              "width": 558,
              "height": 413
            }
          }
        }
      ]
    },
    {
      "cell_type": "markdown",
      "metadata": {
        "id": "Nuuux08A_b_z"
      },
      "source": [
        "## Coding Excercise 2.2: Numerical calculution of fixed points\n",
        "\n",
        "We will now find the fixed points numerically. To do so, we need to specify initial values ($r_{\\text{guess}}$) for the root-finding algorithm to start from. From the line $\\displaystyle{\\frac{dr}{dt}}$ plotted above in the last exercise, initial values can be chosen as a set of values close to where the line crosses zero on the y axis (real fixed point).\n",
        "\n",
        "The next cell defines three helper functions that we will use:\n",
        "\n",
        "- `my_fp_single(r_guess, **pars)` uses a root-finding algorithm to locate a fixed point near a given initial value\n",
        "- `check_fp_single(x_fp, **pars)` verifies that the values of $r_{\\rm fp}$ for which $\\displaystyle{\\frac{dr}{dt}} = 0$ are the true fixed points\n",
        "- `my_fp_finder(r_guess_vector, **pars)` accepts an array of initial values and finds the same number of fixed points, using the above two functions"
      ]
    },
    {
      "cell_type": "code",
      "metadata": {
        "execution": {
          "iopub.execute_input": "2021-06-25T15:15:12.139245Z",
          "iopub.status.busy": "2021-06-25T15:15:12.138129Z",
          "iopub.status.idle": "2021-06-25T15:15:12.141171Z",
          "shell.execute_reply": "2021-06-25T15:15:12.140698Z"
        },
        "id": "Q8aQaCLI_b_0",
        "colab": {
          "base_uri": "https://localhost:8080/"
        },
        "cellView": "form",
        "outputId": "3fd1e2e2-9f42-4138-9ff6-7ccda1b031b4"
      },
      "source": [
        "# @markdown *Execute this cell to enable the fixed point functions*\n",
        "\n",
        "def my_fp_single(r_guess, a, theta, w, I_ext, **other_pars):\n",
        "  \"\"\"\n",
        "  Calculate the fixed point through drE/dt=0\n",
        "\n",
        "  Args:\n",
        "    r_guess  : Initial value used for scipy.optimize function\n",
        "    a, theta, w, I_ext : simulation parameters\n",
        "\n",
        "  Returns:\n",
        "    x_fp    : value of fixed point\n",
        "  \"\"\"\n",
        "  # define the right hand of E dynamics\n",
        "  def my_WCr(x):\n",
        "    r = x\n",
        "    drdt = (-r + F(w * r + I_ext, a, theta))\n",
        "    y = np.array(drdt)\n",
        "\n",
        "    return y\n",
        "\n",
        "  x0 = np.array(r_guess)\n",
        "  x_fp = opt.root(my_WCr, x0).x.item()\n",
        "\n",
        "  return x_fp\n",
        "\n",
        "\n",
        "def check_fp_single(x_fp, a, theta, w, I_ext, mytol=1e-4, **other_pars):\n",
        "  \"\"\"\n",
        "   Verify |dr/dt| < mytol\n",
        "\n",
        "  Args:\n",
        "    fp      : value of fixed point\n",
        "    a, theta, w, I_ext: simulation parameters\n",
        "    mytol   : tolerance, default as 10^{-4}\n",
        "\n",
        "  Returns :\n",
        "    Whether it is a correct fixed point: True/False\n",
        "  \"\"\"\n",
        "  # calculate Equation(3)\n",
        "  y = x_fp - F(w * x_fp + I_ext, a, theta)\n",
        "\n",
        "  # Here we set tolerance as 10^{-4}\n",
        "  return np.abs(y) < mytol\n",
        "\n",
        "\n",
        "def my_fp_finder(pars, r_guess_vector, mytol=1e-4):\n",
        "  \"\"\"\n",
        "  Calculate the fixed point(s) through drE/dt=0\n",
        "\n",
        "  Args:\n",
        "    pars    : Parameter dictionary\n",
        "    r_guess_vector  : Initial values used for scipy.optimize function\n",
        "    mytol   : tolerance for checking fixed point, default as 10^{-4}\n",
        "\n",
        "  Returns:\n",
        "    x_fps   : values of fixed points\n",
        "\n",
        "  \"\"\"\n",
        "  x_fps = []\n",
        "  correct_fps = []\n",
        "  for r_guess in r_guess_vector:\n",
        "    x_fp = my_fp_single(r_guess, **pars)\n",
        "    if check_fp_single(x_fp, **pars, mytol=mytol):\n",
        "      x_fps.append(x_fp)\n",
        "\n",
        "  return x_fps\n",
        "\n",
        "help(my_fp_finder)"
      ],
      "execution_count": 23,
      "outputs": [
        {
          "output_type": "stream",
          "text": [
            "Help on function my_fp_finder in module __main__:\n",
            "\n",
            "my_fp_finder(pars, r_guess_vector, mytol=0.0001)\n",
            "    Calculate the fixed point(s) through drE/dt=0\n",
            "    \n",
            "    Args:\n",
            "      pars    : Parameter dictionary\n",
            "      r_guess_vector  : Initial values used for scipy.optimize function\n",
            "      mytol   : tolerance for checking fixed point, default as 10^{-4}\n",
            "    \n",
            "    Returns:\n",
            "      x_fps   : values of fixed points\n",
            "\n"
          ],
          "name": "stdout"
        }
      ]
    },
    {
      "cell_type": "code",
      "metadata": {
        "execution": {
          "iopub.execute_input": "2021-06-25T15:15:12.146364Z",
          "iopub.status.busy": "2021-06-25T15:15:12.145337Z",
          "iopub.status.idle": "2021-06-25T15:15:12.147218Z",
          "shell.execute_reply": "2021-06-25T15:15:12.147587Z"
        },
        "id": "82xxbO-K_b_0"
      },
      "source": [
        "# Set parameters\n",
        "r = np.linspace(0, 1, 1000)\n",
        "pars = default_pars_single(I_ext=0.5, w=5)\n",
        "\n",
        "# Compute dr/dt\n",
        "drdt = compute_drdt(r, **pars)\n",
        "\n",
        "#############################################################################\n",
        "# TODO for students:\n",
        "# Define initial values close to the intersections of drdt and y=0\n",
        "# (How many initial values? Hint: How many times do the two lines intersect?)\n",
        "# Calculate the fixed point with these initial values and plot them\n",
        "raise NotImplementedError('student_exercise: find fixed points numerically')\n",
        "#############################################################################\n",
        "\n",
        "# Initial guesses for fixed points\n",
        "r_guess_vector = [...]\n",
        "\n",
        "# Find fixed point numerically\n",
        "x_fps = my_fp_finder(pars, r_guess_vector)\n",
        "\n",
        "# Visualize\n",
        "plot_dr_r(r, drdt, x_fps)"
      ],
      "execution_count": null,
      "outputs": []
    },
    {
      "cell_type": "code",
      "metadata": {
        "execution": {
          "iopub.execute_input": "2021-06-25T15:15:12.153603Z",
          "iopub.status.busy": "2021-06-25T15:15:12.151712Z",
          "iopub.status.idle": "2021-06-25T15:15:12.419974Z",
          "shell.execute_reply": "2021-06-25T15:15:12.420695Z"
        },
        "id": "kI4itDlV_b_1",
        "colab": {
          "base_uri": "https://localhost:8080/",
          "height": 465
        },
        "outputId": "a0fd8e6b-a0c3-4403-dec8-76c9ef59718b"
      },
      "source": [
        "# to_remove solution\n",
        "\n",
        "# Set parameters\n",
        "r = np.linspace(0, 1, 1000)\n",
        "pars = default_pars_single(I_ext=0.5, w=5)\n",
        "\n",
        "# Compute dr/dt\n",
        "drdt = compute_drdt(r, **pars)\n",
        "\n",
        "# Initial guesses for fixed points\n",
        "r_guess_vector = [0, .4, .9]\n",
        "\n",
        "# Find fixed point numerically\n",
        "x_fps = my_fp_finder(pars, r_guess_vector)\n",
        "\n",
        "# Visualize\n",
        "with plt.xkcd():\n",
        "  plot_dr_r(r, drdt, x_fps)"
      ],
      "execution_count": 24,
      "outputs": [
        {
          "output_type": "stream",
          "text": [
            "/usr/local/lib/python3.7/dist-packages/matplotlib/backends/backend_agg.py:214: RuntimeWarning: Glyph 8722 missing from current font.\n",
            "  font.set_text(s, 0.0, flags=flags)\n"
          ],
          "name": "stderr"
        },
        {
          "output_type": "display_data",
          "data": {
            "image/png": "[encoded data removed]",
            "text/plain": [
              "<Figure size 576x432 with 1 Axes>"
            ]
          },
          "metadata": {
            "tags": [],
            "image/png": {
              "width": 558,
              "height": 413
            }
          }
        }
      ]
    },
    {
      "cell_type": "markdown",
      "metadata": {
        "id": "VaLhiYHt_b_1"
      },
      "source": [
        "## Interactive Demo 2: fixed points as a function of recurrent and external inputs.\n",
        "\n",
        "You can now explore how the previous plot changes when the recurrent coupling $w$ and the external input $I_{\\text{ext}}$ take different values. How does the number of fixed points change?"
      ]
    },
    {
      "cell_type": "code",
      "metadata": {
        "cellView": "form",
        "execution": {
          "iopub.execute_input": "2021-06-25T15:15:12.448868Z",
          "iopub.status.busy": "2021-06-25T15:15:12.448346Z",
          "iopub.status.idle": "2021-06-25T15:15:12.682598Z",
          "shell.execute_reply": "2021-06-25T15:15:12.682104Z"
        },
        "id": "3lV2sqTF_b_1",
        "colab": {
          "base_uri": "https://localhost:8080/",
          "height": 494,
          "referenced_widgets": [
            "eedc9d9d76414bd88e85060739ce6c4b",
            "4a5bd2615cfe46279d2df15a4859bda5",
            "d0811b0c91854e7e9e4f626d63c80124",
            "7cc09bceaeaa408982b86de10c9f0899",
            "878ff5b0331347eebcfbcca619652d9f",
            "f925cb9a55704e87953a55cf00d9fccd",
            "fd7b160522234371b5c60e062535088c",
            "bea57e002c9c42fb86c1e9a62b308d9d",
            "5dcf2e90fb884d0b9afde462d896d39e",
            "697dfc8943024d1a9d47394f7615ac5c"
          ]
        },
        "outputId": "35041ace-9989-448e-fd14-b252d76714cb"
      },
      "source": [
        "# @title\n",
        "\n",
        "# @markdown Make sure you execute this cell to enable the widget!\n",
        "\n",
        "\n",
        "def plot_intersection_single(w, I_ext):\n",
        "  # set your parameters\n",
        "  pars = default_pars_single(w=w, I_ext=I_ext)\n",
        "\n",
        "  # find fixed points\n",
        "  r_init_vector = [0, .4, .9]\n",
        "  x_fps = my_fp_finder(pars, r_init_vector)\n",
        "\n",
        "  # plot\n",
        "  r = np.linspace(0, 1., 1000)\n",
        "  drdt = (-r + F(w * r + I_ext, pars['a'], pars['theta'])) / pars['tau']\n",
        "\n",
        "  plot_dr_r(r, drdt, x_fps)\n",
        "\n",
        "_ = widgets.interact(plot_intersection_single, w=(1, 7, 0.2),\n",
        "                     I_ext=(0, 3, 0.1))"
      ],
      "execution_count": 25,
      "outputs": [
        {
          "output_type": "display_data",
          "data": {
            "application/vnd.jupyter.widget-view+json": {
              "model_id": "eedc9d9d76414bd88e85060739ce6c4b",
              "version_minor": 0,
              "version_major": 2
            },
            "text/plain": [
              "interactive(children=(FloatSlider(value=4.0, description='w', max=7.0, min=1.0, step=0.2), FloatSlider(value=1…"
            ]
          },
          "metadata": {
            "tags": []
          }
        }
      ]
    },
    {
      "cell_type": "code",
      "metadata": {
        "execution": {
          "iopub.execute_input": "2021-06-25T15:15:12.691041Z",
          "iopub.status.busy": "2021-06-25T15:15:12.690482Z",
          "iopub.status.idle": "2021-06-25T15:15:12.693971Z",
          "shell.execute_reply": "2021-06-25T15:15:12.693313Z"
        },
        "id": "cXcdZhYU_b_1"
      },
      "source": [
        "# to_remove explanation\n",
        "\n",
        "\"\"\"\n",
        "\n",
        "The fixed points of the single excitatory neuron population are determined by both\n",
        "recurrent connections w and external input I_ext. In a previous interactive demo\n",
        "we saw how the system showed two different steady-states when w = 0. But when w\n",
        "doe not equal 0, for some range of w the system shows three fixed points (the middle\n",
        "one being unstable) and the steady state depends on the initial conditions (i.e.\n",
        "r at time zero.).\n",
        "\n",
        "More on this will be explained in the bonus material!\n",
        "\"\"\";"
      ],
      "execution_count": 26,
      "outputs": []
    },
    {
      "cell_type": "markdown",
      "metadata": {
        "id": "ku_muuPw_b_2"
      },
      "source": [
        "---\n",
        "# Summary\n",
        "\n",
        "In this tutorial, we have investigated the dynamics of a rate-based single population of neurons.\n",
        "\n",
        "We learned about:\n",
        "- The effect of the input parameters and the time constant of the network on the dynamics of the population.\n",
        "- How to find the fixed point(s) of the system.\n",
        "\n",
        "We build on these concepts in the first bonus tutorial - check it out if you have time. You will learn:\n",
        "\n",
        "- How to determine the stability of a fixed point by linearizing the system.\n",
        "- How to add realistic inputs to our model."
      ]
    },
    {
      "cell_type": "markdown",
      "metadata": {
        "id": "T2w0Mrr0_b_2"
      },
      "source": [
        "---\n",
        "# Bonus 1: Stability of a fixed point"
      ]
    },
    {
      "cell_type": "code",
      "metadata": {
        "cellView": "form",
        "execution": {
          "iopub.execute_input": "2021-06-25T15:15:12.705492Z",
          "iopub.status.busy": "2021-06-25T15:15:12.704981Z",
          "iopub.status.idle": "2021-06-25T15:15:12.801011Z",
          "shell.execute_reply": "2021-06-25T15:15:12.800002Z"
        },
        "id": "s-8u_HaD_b_2"
      },
      "source": [
        "# @title Video 3: Stability of fixed points\n",
        "from ipywidgets import widgets\n",
        "\n",
        "out2 = widgets.Output()\n",
        "with out2:\n",
        "  from IPython.display import IFrame\n",
        "  class BiliVideo(IFrame):\n",
        "      def __init__(self, id, page=1, width=400, height=300, **kwargs):\n",
        "          self.id=id\n",
        "          src = 'https://player.bilibili.com/player.html?bvid={0}&page={1}'.format(id, page)\n",
        "          super(BiliVideo, self).__init__(src, width, height, **kwargs)\n",
        "\n",
        "  video = BiliVideo(id=\"\", width=854, height=480, fs=1)\n",
        "  print('Video available at https://www.bilibili.com/video/{0}'.format(video.id))\n",
        "  display(video)\n",
        "\n",
        "out1 = widgets.Output()\n",
        "with out1:\n",
        "  from IPython.display import YouTubeVideo\n",
        "  video = YouTubeVideo(id=\"KKMlWWU83Jg\", width=854, height=480, fs=1, rel=0)\n",
        "  print('Video available at https://youtube.com/watch?v=' + video.id)\n",
        "  display(video)\n",
        "\n",
        "out = widgets.Tab([out1, out2])\n",
        "out.set_title(0, 'Youtube')\n",
        "out.set_title(1, 'Bilibili')\n",
        "\n",
        "display(out)"
      ],
      "execution_count": null,
      "outputs": []
    },
    {
      "cell_type": "markdown",
      "metadata": {
        "id": "1w2PUyof_b_2"
      },
      "source": [
        "#### Initial values and trajectories\n",
        "\n",
        "Here, let us first set $w=5.0$ and $I_{\\text{ext}}=0.5$, and investigate the dynamics of $r(t)$ starting with different initial values $r(0) \\equiv r_{\\text{init}}$. We will plot the trajectories of $r(t)$ with $r_{\\text{init}} = 0.0, 0.1, 0.2,..., 0.9$."
      ]
    },
    {
      "cell_type": "code",
      "metadata": {
        "cellView": "form",
        "execution": {
          "iopub.execute_input": "2021-06-25T15:15:12.896431Z",
          "iopub.status.busy": "2021-06-25T15:15:12.867952Z",
          "iopub.status.idle": "2021-06-25T15:15:13.326712Z",
          "shell.execute_reply": "2021-06-25T15:15:13.327184Z"
        },
        "id": "9l6Z1OnN_b_3"
      },
      "source": [
        "# @markdown Execute this cell to see the trajectories!\n",
        "\n",
        "pars = default_pars_single()\n",
        "pars['w'] = 5.0\n",
        "pars['I_ext'] = 0.5\n",
        "\n",
        "plt.figure(figsize=(8, 5))\n",
        "for ie in range(10):\n",
        "  pars['r_init'] = 0.1 * ie  # set the initial value\n",
        "  r = simulate_single(pars)  # run the simulation\n",
        "\n",
        "  # plot the activity with given initial\n",
        "  plt.plot(pars['range_t'], r, 'b', alpha=0.1 + 0.1 * ie,\n",
        "           label=r'r$_{\\mathrm{init}}$=%.1f' % (0.1 * ie))\n",
        "\n",
        "plt.xlabel('t (ms)')\n",
        "plt.title('Two steady states?')\n",
        "plt.ylabel(r'$r$(t)')\n",
        "plt.legend(loc=[1.01, -0.06], fontsize=14)\n",
        "plt.show()"
      ],
      "execution_count": null,
      "outputs": []
    },
    {
      "cell_type": "markdown",
      "metadata": {
        "id": "LTVmywu0_b_3"
      },
      "source": [
        "## Bonus Interactive Demo 1: dynamics as a function of the initial value\n",
        "\n",
        "Let's now set $r_{\\rm init}$ to a value of your choice in this demo. How does the solution change? What do you observe?"
      ]
    },
    {
      "cell_type": "code",
      "metadata": {
        "cellView": "form",
        "execution": {
          "iopub.execute_input": "2021-06-25T15:15:13.352572Z",
          "iopub.status.busy": "2021-06-25T15:15:13.351453Z",
          "iopub.status.idle": "2021-06-25T15:15:13.539943Z",
          "shell.execute_reply": "2021-06-25T15:15:13.540507Z"
        },
        "id": "cvmq609X_b_3"
      },
      "source": [
        "# @title\n",
        "\n",
        "# @markdown Make sure you execute this cell to enable the widget!\n",
        "\n",
        "pars = default_pars_single(w=5.0, I_ext=0.5)\n",
        "\n",
        "def plot_single_diffEinit(r_init):\n",
        "  pars['r_init'] = r_init\n",
        "  r = simulate_single(pars)\n",
        "\n",
        "  plt.figure()\n",
        "  plt.plot(pars['range_t'], r, 'b', zorder=1)\n",
        "  plt.plot(0, r[0], 'bo', alpha=0.7, zorder=2)\n",
        "  plt.xlabel('t (ms)', fontsize=16)\n",
        "  plt.ylabel(r'$r(t)$', fontsize=16)\n",
        "  plt.ylim(0, 1.0)\n",
        "  plt.show()\n",
        "\n",
        "\n",
        "_ = widgets.interact(plot_single_diffEinit, r_init=(0, 1, 0.02))"
      ],
      "execution_count": null,
      "outputs": []
    },
    {
      "cell_type": "code",
      "metadata": {
        "execution": {
          "iopub.execute_input": "2021-06-25T15:15:13.545657Z",
          "iopub.status.busy": "2021-06-25T15:15:13.545105Z",
          "iopub.status.idle": "2021-06-25T15:15:13.547456Z",
          "shell.execute_reply": "2021-06-25T15:15:13.546975Z"
        },
        "id": "TyulmoX9_b_3"
      },
      "source": [
        "# to_remove explanation\n",
        "\"\"\"\n",
        "Discussion:\n",
        "\n",
        "To better appreciate what is happening here, you should go back to the previous\n",
        "interactive demo. Set the w = 5 and I_ext = 0.5.\n",
        "\n",
        "You will find that there are three fixed points of the system for these values of\n",
        "w and I_ext. Now, choose the initial value in this demo and see in which direction\n",
        "the system output moves. When r_init is in the vicinity of the leftmost fixed points\n",
        "it moves towards the left most fixed point. When r_init is in the vicinity of the\n",
        "rightmost fixed points it moves towards the rightmost fixed point.\n",
        "\"\"\";"
      ],
      "execution_count": null,
      "outputs": []
    },
    {
      "cell_type": "markdown",
      "metadata": {
        "id": "7OFFpQUl_b_4"
      },
      "source": [
        "### Stability analysis via linearization of the dynamics\n",
        "\n",
        "Just like Equation $1$ in the case ($w=0$) discussed above, a generic linear system \n",
        "$$\\frac{dx}{dt} = \\lambda (x - b),$$ \n",
        "has a fixed point for $x=b$. The analytical solution of such a system can be found to be:\n",
        "$$x(t) = b + \\big{(} x(0) - b \\big{)} \\text{e}^{\\lambda t}.$$ \n",
        "Now consider a small perturbation of the activity around the fixed point: $x(0) = b+ \\epsilon$, where $|\\epsilon| \\ll 1$. Will the perturbation $\\epsilon(t)$ grow with time or will it decay to the fixed point? The evolution of the perturbation with time can be written, using the analytical solution for $x(t)$, as:\n",
        " $$\\epsilon (t) = x(t) - b = \\epsilon \\text{e}^{\\lambda t}$$\n",
        "\n",
        "- if $\\lambda < 0$, $\\epsilon(t)$ decays to zero, $x(t)$ will still converge to $b$ and the fixed point is \"**stable**\".\n",
        "\n",
        "- if $\\lambda > 0$, $\\epsilon(t)$ grows with time, $x(t)$ will leave the fixed point $b$ exponentially, and the fixed point is, therefore, \"**unstable**\" ."
      ]
    },
    {
      "cell_type": "markdown",
      "metadata": {
        "id": "sE9Zlpo9_b_4"
      },
      "source": [
        "### Compute the stability of Equation $1$\n",
        "\n",
        "Similar to what we did in the linear system above, in order to determine the stability of a fixed point $r^{*}$ of the excitatory population dynamics, we perturb Equation (1) around $r^{*}$ by $\\epsilon$, i.e. $r = r^{*} + \\epsilon$. We can plug in Equation (1) and obtain the equation determining the time evolution of the perturbation $\\epsilon(t)$:\n",
        "\n",
        "\\begin{align}\n",
        "\\tau \\frac{d\\epsilon}{dt} \\approx -\\epsilon + w F'(w\\cdot r^{*} + I_{\\text{ext}};a,\\theta) \\epsilon \n",
        "\\end{align}\n",
        "\n",
        "where $F'(\\cdot)$ is the derivative of the transfer function $F(\\cdot)$. We can rewrite the above equation as:\n",
        "\n",
        "\\begin{align}\n",
        "\\frac{d\\epsilon}{dt} \\approx \\frac{\\epsilon}{\\tau }[-1 + w F'(w\\cdot r^* + I_{\\text{ext}};a,\\theta)] \n",
        "\\end{align}\n",
        "\n",
        "That is, as in the linear system above, the value of\n",
        "\n",
        "$$\\lambda = [-1+ wF'(w\\cdot r^* + I_{\\text{ext}};a,\\theta)]/\\tau \\qquad (4)$$\n",
        "\n",
        "determines whether the perturbation will grow or decay to zero, i.e., $\\lambda$ defines the stability of the fixed point. This value is called the **eigenvalue** of the dynamical system."
      ]
    },
    {
      "cell_type": "markdown",
      "metadata": {
        "id": "Pl-LGM9l_b_5"
      },
      "source": [
        "## Coding Exercise 1.1: Compute $dF$\n",
        "\n",
        "The derivative of the sigmoid transfer function is:\n",
        "\\begin{align} \n",
        "\\frac{dF}{dx} & = \\frac{d}{dx} (1+\\exp\\{-a(x-\\theta)\\})^{-1}  \\\\\n",
        "& = a\\exp\\{-a(x-\\theta)\\} (1+\\exp\\{-a(x-\\theta)\\})^{-2}. \\qquad (5)\n",
        "\\end{align}\n",
        "\n",
        "Let's now find the expression for the derivative $\\displaystyle{\\frac{dF}{dx}}$ in the following cell and plot it."
      ]
    },
    {
      "cell_type": "code",
      "metadata": {
        "execution": {
          "iopub.execute_input": "2021-06-25T15:15:13.553341Z",
          "iopub.status.busy": "2021-06-25T15:15:13.552566Z",
          "iopub.status.idle": "2021-06-25T15:15:13.554151Z",
          "shell.execute_reply": "2021-06-25T15:15:13.554766Z"
        },
        "id": "yvxUHDLB_b_5"
      },
      "source": [
        "def dF(x, a, theta):\n",
        "  \"\"\"\n",
        "  Population activation function.\n",
        "\n",
        "  Args:\n",
        "    x     : the population input\n",
        "    a     : the gain of the function\n",
        "    theta : the threshold of the function\n",
        "\n",
        "  Returns:\n",
        "    dFdx  : the population activation response F(x) for input x\n",
        "  \"\"\"\n",
        "\n",
        "  ###########################################################################\n",
        "  # TODO for students: compute dFdx ##\n",
        "  raise NotImplementedError(\"Student excercise: compute the deravitive of F\")\n",
        "  ###########################################################################\n",
        "\n",
        "  # Calculate the population activation\n",
        "  dFdx = ...\n",
        "\n",
        "  return dFdx\n",
        "\n",
        "\n",
        "pars = default_pars_single()  # get default parameters\n",
        "x = np.arange(0, 10, .1)      # set the range of input\n",
        "\n",
        "# Uncomment below to test your function\n",
        "# df = dF(x, pars['a'], pars['theta'])\n",
        "# plot_dFdt(x, df)"
      ],
      "execution_count": null,
      "outputs": []
    },
    {
      "cell_type": "code",
      "metadata": {
        "execution": {
          "iopub.execute_input": "2021-06-25T15:15:13.572848Z",
          "iopub.status.busy": "2021-06-25T15:15:13.560863Z",
          "iopub.status.idle": "2021-06-25T15:15:13.785322Z",
          "shell.execute_reply": "2021-06-25T15:15:13.784294Z"
        },
        "id": "4zNKyZbN_b_5"
      },
      "source": [
        "# to_remove solution\n",
        "def dF(x, a, theta):\n",
        "  \"\"\"\n",
        "  Population activation function.\n",
        "\n",
        "  Args:\n",
        "    x     : the population input\n",
        "    a     : the gain of the function\n",
        "    theta : the threshold of the function\n",
        "\n",
        "  Returns:\n",
        "    dFdx  : the population activation response F(x) for input x\n",
        "  \"\"\"\n",
        "\n",
        "  # Calculate the population activation\n",
        "  dFdx = a * np.exp(-a * (x - theta)) * (1 + np.exp(-a * (x - theta)))**-2\n",
        "\n",
        "  return dFdx\n",
        "\n",
        "\n",
        "pars = default_pars_single()  # get default parameters\n",
        "x = np.arange(0, 10, .1)      # set the range of input\n",
        "\n",
        "df = dF(x, pars['a'], pars['theta'])\n",
        "\n",
        "with plt.xkcd():\n",
        "  plot_dFdt(x, df)"
      ],
      "execution_count": null,
      "outputs": []
    },
    {
      "cell_type": "markdown",
      "metadata": {
        "id": "y3mBAEoz_b_5"
      },
      "source": [
        "## Coding Exercise 1.2: Compute eigenvalues\n",
        "\n",
        "As discussed above, for the case with $w=5.0$ and $I_{\\text{ext}}=0.5$, the system displays **three** fixed points. However, when we simulated the dynamics and varied the initial conditions $r_{\\rm init}$, we could only obtain **two** steady states. In this exercise, we will now check the stability of each of the three fixed points by calculating the corresponding eigenvalues with the function `eig_single`. Check the sign of each eigenvalue (i.e., stability of each fixed point). How many of the fixed points are stable?\n",
        "\n",
        "Note that the expression of the eigenvalue at fixed point $r^*$\n",
        "$$\\lambda = [-1+ wF'(w\\cdot r^* + I_{\\text{ext}};a,\\theta)]/\\tau$$"
      ]
    },
    {
      "cell_type": "code",
      "metadata": {
        "execution": {
          "iopub.execute_input": "2021-06-25T15:15:13.791210Z",
          "iopub.status.busy": "2021-06-25T15:15:13.790710Z",
          "iopub.status.idle": "2021-06-25T15:15:13.794190Z",
          "shell.execute_reply": "2021-06-25T15:15:13.793716Z"
        },
        "id": "AmAlZRG5_b_6"
      },
      "source": [
        "def eig_single(fp, tau, a, theta, w, I_ext, **other_pars):\n",
        "  \"\"\"\n",
        "  Args:\n",
        "    fp   : fixed point r_fp\n",
        "    tau, a, theta, w, I_ext : Simulation parameters\n",
        "\n",
        "  Returns:\n",
        "    eig : eigevalue of the linearized system\n",
        "  \"\"\"\n",
        "  #####################################################################\n",
        "  ## TODO for students: compute eigenvalue and disable the error\n",
        "  raise NotImplementedError(\"Student excercise: compute the eigenvalue\")\n",
        "  ######################################################################\n",
        "  # Compute the eigenvalue\n",
        "  eig = ...\n",
        "\n",
        "  return eig\n",
        "\n",
        "\n",
        "# Find the eigenvalues for all fixed points of Exercise 2\n",
        "pars = default_pars_single(w=5, I_ext=.5)\n",
        "r_guess_vector = [0, .4, .9]\n",
        "x_fp = my_fp_finder(pars, r_guess_vector)\n",
        "\n",
        "# Uncomment below lines after completing the eig_single function.\n",
        "\n",
        "# for fp in x_fp:\n",
        "#   eig_fp = eig_single(fp, **pars)\n",
        "#   print(f'Fixed point1 at {fp:.3f} with Eigenvalue={eig_fp:.3f}')"
      ],
      "execution_count": null,
      "outputs": []
    },
    {
      "cell_type": "markdown",
      "metadata": {
        "id": "S5cahJs3_b_6"
      },
      "source": [
        "**SAMPLE OUTPUT**\n",
        "\n",
        "```\n",
        "Fixed point1 at 0.042 with Eigenvalue=-0.583\n",
        "Fixed point2 at 0.447 with Eigenvalue=0.498\n",
        "Fixed point3 at 0.900 with Eigenvalue=-0.626\n",
        "```"
      ]
    },
    {
      "cell_type": "code",
      "metadata": {
        "execution": {
          "iopub.execute_input": "2021-06-25T15:15:13.800648Z",
          "iopub.status.busy": "2021-06-25T15:15:13.799737Z",
          "iopub.status.idle": "2021-06-25T15:15:13.803763Z",
          "shell.execute_reply": "2021-06-25T15:15:13.804221Z"
        },
        "id": "048jCUl9_b_6"
      },
      "source": [
        "# to_remove solution\n",
        "def eig_single(fp, tau, a, theta, w, I_ext, **other_pars):\n",
        "  \"\"\"\n",
        "  Args:\n",
        "    fp   : fixed point r_fp\n",
        "    tau, a, theta, w, I_ext : Simulation parameters\n",
        "\n",
        "  Returns:\n",
        "    eig : eigevalue of the linearized system\n",
        "  \"\"\"\n",
        "  # Compute the eigenvalue\n",
        "  eig = (-1. + w * dF(w * fp + I_ext, a, theta)) / tau\n",
        "\n",
        "  return eig\n",
        "\n",
        "\n",
        "# Find the eigenvalues for all fixed points of Exercise 2\n",
        "pars = default_pars_single(w=5, I_ext=.5)\n",
        "r_guess_vector = [0, .4, .9]\n",
        "x_fp = my_fp_finder(pars, r_guess_vector)\n",
        "\n",
        "for fp in x_fp:\n",
        "  eig_fp = eig_single(fp, **pars)\n",
        "  print(f'Fixed point1 at {fp:.3f} with Eigenvalue={eig_fp:.3f}')"
      ],
      "execution_count": null,
      "outputs": []
    },
    {
      "cell_type": "markdown",
      "metadata": {
        "id": "wSwy6pVa_b_7"
      },
      "source": [
        "## Think 1! \n",
        "Throughout the tutorial, we have assumed $w> 0 $, i.e., we considered a single population of **excitatory** neurons. What do you think will be the behavior of a population of inhibitory neurons, i.e., where $w> 0$ is replaced by $w< 0$? "
      ]
    },
    {
      "cell_type": "code",
      "metadata": {
        "execution": {
          "iopub.execute_input": "2021-06-25T15:15:13.808027Z",
          "iopub.status.busy": "2021-06-25T15:15:13.807492Z",
          "iopub.status.idle": "2021-06-25T15:15:13.811454Z",
          "shell.execute_reply": "2021-06-25T15:15:13.811008Z"
        },
        "id": "cwyNoGDG_b_7"
      },
      "source": [
        "# to_remove explanation\n",
        "\n",
        "\"\"\"\n",
        "Discussion:\n",
        "\n",
        "You can check this by going back the second last interactive demo and set the\n",
        "weight to w<0. You will notice that the system has only one fixed point and that\n",
        "is at zero value. For this particular dynamics, the system will eventually converge\n",
        "to zero. But try it out.\n",
        "\"\"\";"
      ],
      "execution_count": null,
      "outputs": []
    },
    {
      "cell_type": "markdown",
      "metadata": {
        "id": "3M56wZr1_b_7"
      },
      "source": [
        "---\n",
        "# Bonus 2: Noisy input drives the transition between two stable states\n",
        "\n"
      ]
    },
    {
      "cell_type": "markdown",
      "metadata": {
        "id": "5m8NzLQR_b_7"
      },
      "source": [
        "## Ornstein-Uhlenbeck (OU) process\n",
        "\n",
        "As discussed in several previous tutorials, the OU process is usually used to generate a noisy input into the neuron. The OU input $\\eta(t)$ follows: \n",
        "\n",
        "$$\\tau_\\eta \\frac{d}{dt}\\eta(t) = -\\eta (t) + \\sigma_\\eta\\sqrt{2\\tau_\\eta}\\xi(t)$$\n",
        "\n",
        "Execute the following function `my_OU(pars, sig, myseed=False)` to generate an OU process."
      ]
    },
    {
      "cell_type": "code",
      "metadata": {
        "cellView": "form",
        "execution": {
          "iopub.execute_input": "2021-06-25T15:15:13.821655Z",
          "iopub.status.busy": "2021-06-25T15:15:13.820501Z",
          "iopub.status.idle": "2021-06-25T15:15:14.013270Z",
          "shell.execute_reply": "2021-06-25T15:15:14.012756Z"
        },
        "id": "a4OgrCTs_b_8"
      },
      "source": [
        "# @title OU process `my_OU(pars, sig, myseed=False)`\n",
        "\n",
        "# @markdown Make sure you execute this cell to visualize the noise!\n",
        "\n",
        "\n",
        "def my_OU(pars, sig, myseed=False):\n",
        "  \"\"\"\n",
        "  A functions that generates Ornstein-Uhlenback process\n",
        "\n",
        "  Args:\n",
        "    pars       : parameter dictionary\n",
        "    sig        : noise amplitute\n",
        "    myseed     : random seed. int or boolean\n",
        "\n",
        "  Returns:\n",
        "    I          : Ornstein-Uhlenbeck input current\n",
        "  \"\"\"\n",
        "\n",
        "  # Retrieve simulation parameters\n",
        "  dt, range_t = pars['dt'], pars['range_t']\n",
        "  Lt = range_t.size\n",
        "  tau_ou = pars['tau_ou']  # [ms]\n",
        "\n",
        "  # set random seed\n",
        "  if myseed:\n",
        "      np.random.seed(seed=myseed)\n",
        "  else:\n",
        "      np.random.seed()\n",
        "\n",
        "  # Initialize\n",
        "  noise = np.random.randn(Lt)\n",
        "  I_ou = np.zeros(Lt)\n",
        "  I_ou[0] = noise[0] * sig\n",
        "\n",
        "  # generate OU\n",
        "  for it in range(Lt - 1):\n",
        "    I_ou[it + 1] = (I_ou[it]\n",
        "                    + dt / tau_ou * (0. - I_ou[it])\n",
        "                    + np.sqrt(2 * dt / tau_ou) * sig * noise[it + 1])\n",
        "\n",
        "  return I_ou\n",
        "\n",
        "\n",
        "pars = default_pars_single(T=100)\n",
        "pars['tau_ou'] = 1.  # [ms]\n",
        "sig_ou = 0.1\n",
        "I_ou = my_OU(pars, sig=sig_ou, myseed=2020)\n",
        "plt.figure(figsize=(10, 4))\n",
        "plt.plot(pars['range_t'], I_ou, 'r')\n",
        "plt.xlabel('t (ms)')\n",
        "plt.ylabel(r'$I_{\\mathrm{OU}}$')\n",
        "plt.show()"
      ],
      "execution_count": null,
      "outputs": []
    },
    {
      "cell_type": "markdown",
      "metadata": {
        "id": "y5fKe6aA_b_8"
      },
      "source": [
        "## Example: Up-Down transition\n",
        "\n",
        "In the presence of two or more fixed points, noisy inputs can drive a transition between the fixed points! Here, we stimulate an E population for 1,000 ms applying OU inputs."
      ]
    },
    {
      "cell_type": "code",
      "metadata": {
        "cellView": "form",
        "execution": {
          "iopub.execute_input": "2021-06-25T15:15:14.019077Z",
          "iopub.status.busy": "2021-06-25T15:15:14.018084Z",
          "iopub.status.idle": "2021-06-25T15:15:14.266392Z",
          "shell.execute_reply": "2021-06-25T15:15:14.265575Z"
        },
        "id": "vKbW8_XM_b_8"
      },
      "source": [
        "# @title Simulation of an E population with OU inputs\n",
        "\n",
        "# @markdown Make sure you execute this cell to spot the Up-Down states!\n",
        "\n",
        "pars = default_pars_single(T=1000)\n",
        "pars['w'] = 5.0\n",
        "sig_ou = 0.7\n",
        "pars['tau_ou'] = 1.  # [ms]\n",
        "pars['I_ext'] = 0.56 + my_OU(pars, sig=sig_ou, myseed=2020)\n",
        "\n",
        "r = simulate_single(pars)\n",
        "\n",
        "plt.figure(figsize=(10, 4))\n",
        "plt.plot(pars['range_t'], r, 'b', alpha=0.8)\n",
        "plt.xlabel('t (ms)')\n",
        "plt.ylabel(r'$r(t)$')\n",
        "plt.show()"
      ],
      "execution_count": null,
      "outputs": []
    },
    {
      "cell_type": "code",
      "metadata": {
        "id": "kgglMUijB8H8"
      },
      "source": [
        ""
      ],
      "execution_count": null,
      "outputs": []
    }
  ]
}