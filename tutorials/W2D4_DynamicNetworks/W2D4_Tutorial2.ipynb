{
  "nbformat": 4,
  "nbformat_minor": 0,
  "metadata": {
    "colab": {
      "name": "W2D4_Tutorial2",
      "provenance": [],
      "collapsed_sections": [],
      "toc_visible": true,
      "include_colab_link": true
    },
    "kernel": {
      "display_name": "Python 3",
      "language": "python",
      "name": "python3"
    },
    "kernelspec": {
      "display_name": "Python 3",
      "language": "python",
      "name": "python3"
    },
    "language_info": {
      "codemirror_mode": {
        "name": "ipython",
        "version": 3
      },
      "file_extension": ".py",
      "mimetype": "text/x-python",
      "name": "python",
      "nbconvert_exporter": "python",
      "pygments_lexer": "ipython3",
      "version": "3.7.10"
    },
    "widgets": {
      "application/vnd.jupyter.widget-state+json": {
        "35413bfe2d7b4f20b56f7db229e2c371": {
          "model_module": "@jupyter-widgets/controls",
          "model_name": "TabModel",
          "state": {
            "_view_name": "TabView",
            "_dom_classes": [],
            "_titles": {
              "0": "Youtube",
              "1": "Bilibili"
            },
            "_model_name": "TabModel",
            "_view_module": "@jupyter-widgets/controls",
            "selected_index": 0,
            "_model_module_version": "1.5.0",
            "_view_count": null,
            "_view_module_version": "1.5.0",
            "box_style": "",
            "layout": "IPY_MODEL_f2dae4bd7edc4db1b43046eeeda095e8",
            "_model_module": "@jupyter-widgets/controls",
            "children": [
              "IPY_MODEL_957877d272b042b5978199b0a296f919",
              "IPY_MODEL_8ff8788c8422453686ecacaa4d383ac1"
            ]
          }
        },
        "f2dae4bd7edc4db1b43046eeeda095e8": {
          "model_module": "@jupyter-widgets/base",
          "model_name": "LayoutModel",
          "state": {
            "_view_name": "LayoutView",
            "grid_template_rows": null,
            "right": null,
            "justify_content": null,
            "_view_module": "@jupyter-widgets/base",
            "overflow": null,
            "_model_module_version": "1.2.0",
            "_view_count": null,
            "flex_flow": null,
            "width": null,
            "min_width": null,
            "border": null,
            "align_items": null,
            "bottom": null,
            "_model_module": "@jupyter-widgets/base",
            "top": null,
            "grid_column": null,
            "overflow_y": null,
            "overflow_x": null,
            "grid_auto_flow": null,
            "grid_area": null,
            "grid_template_columns": null,
            "flex": null,
            "_model_name": "LayoutModel",
            "justify_items": null,
            "grid_row": null,
            "max_height": null,
            "align_content": null,
            "visibility": null,
            "align_self": null,
            "height": null,
            "min_height": null,
            "padding": null,
            "grid_auto_rows": null,
            "grid_gap": null,
            "max_width": null,
            "order": null,
            "_view_module_version": "1.2.0",
            "grid_template_areas": null,
            "object_position": null,
            "object_fit": null,
            "grid_auto_columns": null,
            "margin": null,
            "display": null,
            "left": null
          }
        },
        "957877d272b042b5978199b0a296f919": {
          "model_module": "@jupyter-widgets/output",
          "model_name": "OutputModel",
          "state": {
            "_view_name": "OutputView",
            "msg_id": "",
            "_dom_classes": [],
            "_model_name": "OutputModel",
            "outputs": [
              {
                "output_type": "stream",
                "metadata": {
                  "tags": []
                },
                "text": "Video available at https://youtube.com/watch?v=GCpQmh45crM\n",
                "stream": "stdout"
              },
              {
                "output_type": "display_data",
                "metadata": {
                  "tags": []
                },
                "text/html": "\n        <iframe\n            width=\"854\"\n            height=\"480\"\n            src=\"https://www.youtube.com/embed/GCpQmh45crM?fs=1&rel=0\"\n            frameborder=\"0\"\n            allowfullscreen\n        ></iframe>\n        ",
                "text/plain": "<IPython.lib.display.YouTubeVideo at 0x7fb23f04ca50>",
                "image/jpeg": "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\n"
              }
            ],
            "_view_module": "@jupyter-widgets/output",
            "_model_module_version": "1.0.0",
            "_view_count": null,
            "_view_module_version": "1.0.0",
            "layout": "IPY_MODEL_66c8ac56a73a46eb8f2761392a564222",
            "_model_module": "@jupyter-widgets/output"
          }
        },
        "8ff8788c8422453686ecacaa4d383ac1": {
          "model_module": "@jupyter-widgets/output",
          "model_name": "OutputModel",
          "state": {
            "_view_name": "OutputView",
            "msg_id": "",
            "_dom_classes": [],
            "_model_name": "OutputModel",
            "outputs": [
              {
                "output_type": "stream",
                "metadata": {
                  "tags": []
                },
                "text": "Video available at https://www.bilibili.com/video/BV1CD4y1m7dK\n",
                "stream": "stdout"
              },
              {
                "output_type": "display_data",
                "metadata": {
                  "tags": []
                },
                "text/html": "\n        <iframe\n            width=\"854\"\n            height=\"480\"\n            src=\"https://player.bilibili.com/player.html?bvid=BV1CD4y1m7dK&page=1?fs=1\"\n            frameborder=\"0\"\n            allowfullscreen\n        ></iframe>\n        ",
                "text/plain": "<__main__.BiliVideo at 0x7fb23f02cc10>"
              }
            ],
            "_view_module": "@jupyter-widgets/output",
            "_model_module_version": "1.0.0",
            "_view_count": null,
            "_view_module_version": "1.0.0",
            "layout": "IPY_MODEL_9100cc7efc374cf8b747adee117a800a",
            "_model_module": "@jupyter-widgets/output"
          }
        },
        "66c8ac56a73a46eb8f2761392a564222": {
          "model_module": "@jupyter-widgets/base",
          "model_name": "LayoutModel",
          "state": {
            "_view_name": "LayoutView",
            "grid_template_rows": null,
            "right": null,
            "justify_content": null,
            "_view_module": "@jupyter-widgets/base",
            "overflow": null,
            "_model_module_version": "1.2.0",
            "_view_count": null,
            "flex_flow": null,
            "width": null,
            "min_width": null,
            "border": null,
            "align_items": null,
            "bottom": null,
            "_model_module": "@jupyter-widgets/base",
            "top": null,
            "grid_column": null,
            "overflow_y": null,
            "overflow_x": null,
            "grid_auto_flow": null,
            "grid_area": null,
            "grid_template_columns": null,
            "flex": null,
            "_model_name": "LayoutModel",
            "justify_items": null,
            "grid_row": null,
            "max_height": null,
            "align_content": null,
            "visibility": null,
            "align_self": null,
            "height": null,
            "min_height": null,
            "padding": null,
            "grid_auto_rows": null,
            "grid_gap": null,
            "max_width": null,
            "order": null,
            "_view_module_version": "1.2.0",
            "grid_template_areas": null,
            "object_position": null,
            "object_fit": null,
            "grid_auto_columns": null,
            "margin": null,
            "display": null,
            "left": null
          }
        },
        "9100cc7efc374cf8b747adee117a800a": {
          "model_module": "@jupyter-widgets/base",
          "model_name": "LayoutModel",
          "state": {
            "_view_name": "LayoutView",
            "grid_template_rows": null,
            "right": null,
            "justify_content": null,
            "_view_module": "@jupyter-widgets/base",
            "overflow": null,
            "_model_module_version": "1.2.0",
            "_view_count": null,
            "flex_flow": null,
            "width": null,
            "min_width": null,
            "border": null,
            "align_items": null,
            "bottom": null,
            "_model_module": "@jupyter-widgets/base",
            "top": null,
            "grid_column": null,
            "overflow_y": null,
            "overflow_x": null,
            "grid_auto_flow": null,
            "grid_area": null,
            "grid_template_columns": null,
            "flex": null,
            "_model_name": "LayoutModel",
            "justify_items": null,
            "grid_row": null,
            "max_height": null,
            "align_content": null,
            "visibility": null,
            "align_self": null,
            "height": null,
            "min_height": null,
            "padding": null,
            "grid_auto_rows": null,
            "grid_gap": null,
            "max_width": null,
            "order": null,
            "_view_module_version": "1.2.0",
            "grid_template_areas": null,
            "object_position": null,
            "object_fit": null,
            "grid_auto_columns": null,
            "margin": null,
            "display": null,
            "left": null
          }
        },
        "b56fd90b4fa640aebf32ed89f15fc433": {
          "model_module": "@jupyter-widgets/controls",
          "model_name": "VBoxModel",
          "state": {
            "_view_name": "VBoxView",
            "_dom_classes": [
              "widget-interact"
            ],
            "_model_name": "VBoxModel",
            "_view_module": "@jupyter-widgets/controls",
            "_model_module_version": "1.5.0",
            "_view_count": null,
            "_view_module_version": "1.5.0",
            "box_style": "",
            "layout": "IPY_MODEL_081bf08ca51a4ddea4cf44b687bf60fe",
            "_model_module": "@jupyter-widgets/controls",
            "children": [
              "IPY_MODEL_87cffb2b3aa84131807a48b219135fa1",
              "IPY_MODEL_a428d913873242e58ed3b4ffc8867ec6"
            ]
          }
        },
        "081bf08ca51a4ddea4cf44b687bf60fe": {
          "model_module": "@jupyter-widgets/base",
          "model_name": "LayoutModel",
          "state": {
            "_view_name": "LayoutView",
            "grid_template_rows": null,
            "right": null,
            "justify_content": null,
            "_view_module": "@jupyter-widgets/base",
            "overflow": null,
            "_model_module_version": "1.2.0",
            "_view_count": null,
            "flex_flow": null,
            "width": null,
            "min_width": null,
            "border": null,
            "align_items": null,
            "bottom": null,
            "_model_module": "@jupyter-widgets/base",
            "top": null,
            "grid_column": null,
            "overflow_y": null,
            "overflow_x": null,
            "grid_auto_flow": null,
            "grid_area": null,
            "grid_template_columns": null,
            "flex": null,
            "_model_name": "LayoutModel",
            "justify_items": null,
            "grid_row": null,
            "max_height": null,
            "align_content": null,
            "visibility": null,
            "align_self": null,
            "height": null,
            "min_height": null,
            "padding": null,
            "grid_auto_rows": null,
            "grid_gap": null,
            "max_width": null,
            "order": null,
            "_view_module_version": "1.2.0",
            "grid_template_areas": null,
            "object_position": null,
            "object_fit": null,
            "grid_auto_columns": null,
            "margin": null,
            "display": null,
            "left": null
          }
        },
        "87cffb2b3aa84131807a48b219135fa1": {
          "model_module": "@jupyter-widgets/controls",
          "model_name": "FloatSliderModel",
          "state": {
            "_view_name": "FloatSliderView",
            "style": "IPY_MODEL_07073259fc4a466b87cbe05cd5311bb4",
            "_dom_classes": [],
            "description": "rE_init",
            "step": 0.01,
            "_model_name": "FloatSliderModel",
            "orientation": "horizontal",
            "max": 0.35,
            "_view_module": "@jupyter-widgets/controls",
            "_model_module_version": "1.5.0",
            "value": 0.35,
            "_view_count": null,
            "disabled": false,
            "_view_module_version": "1.5.0",
            "min": 0.3,
            "continuous_update": true,
            "readout_format": ".2f",
            "description_tooltip": null,
            "readout": true,
            "_model_module": "@jupyter-widgets/controls",
            "layout": "IPY_MODEL_0aa1c68e7e024323a9987b21afbc60d5"
          }
        },
        "a428d913873242e58ed3b4ffc8867ec6": {
          "model_module": "@jupyter-widgets/output",
          "model_name": "OutputModel",
          "state": {
            "_view_name": "OutputView",
            "msg_id": "",
            "_dom_classes": [],
            "_model_name": "OutputModel",
            "outputs": [
              {
                "output_type": "display_data",
                "metadata": {
                  "tags": [],
                  "needs_background": "light"
                },
                "image/png": "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\n",
                "text/plain": "<Figure size 432x288 with 1 Axes>"
              }
            ],
            "_view_module": "@jupyter-widgets/output",
            "_model_module_version": "1.0.0",
            "_view_count": null,
            "_view_module_version": "1.0.0",
            "layout": "IPY_MODEL_984e4a6cb85d4329832ca92f203d8a65",
            "_model_module": "@jupyter-widgets/output"
          }
        },
        "07073259fc4a466b87cbe05cd5311bb4": {
          "model_module": "@jupyter-widgets/controls",
          "model_name": "SliderStyleModel",
          "state": {
            "_view_name": "StyleView",
            "handle_color": null,
            "_model_name": "SliderStyleModel",
            "description_width": "",
            "_view_module": "@jupyter-widgets/base",
            "_model_module_version": "1.5.0",
            "_view_count": null,
            "_view_module_version": "1.2.0",
            "_model_module": "@jupyter-widgets/controls"
          }
        },
        "0aa1c68e7e024323a9987b21afbc60d5": {
          "model_module": "@jupyter-widgets/base",
          "model_name": "LayoutModel",
          "state": {
            "_view_name": "LayoutView",
            "grid_template_rows": null,
            "right": null,
            "justify_content": null,
            "_view_module": "@jupyter-widgets/base",
            "overflow": null,
            "_model_module_version": "1.2.0",
            "_view_count": null,
            "flex_flow": null,
            "width": null,
            "min_width": null,
            "border": null,
            "align_items": null,
            "bottom": null,
            "_model_module": "@jupyter-widgets/base",
            "top": null,
            "grid_column": null,
            "overflow_y": null,
            "overflow_x": null,
            "grid_auto_flow": null,
            "grid_area": null,
            "grid_template_columns": null,
            "flex": null,
            "_model_name": "LayoutModel",
            "justify_items": null,
            "grid_row": null,
            "max_height": null,
            "align_content": null,
            "visibility": null,
            "align_self": null,
            "height": null,
            "min_height": null,
            "padding": null,
            "grid_auto_rows": null,
            "grid_gap": null,
            "max_width": null,
            "order": null,
            "_view_module_version": "1.2.0",
            "grid_template_areas": null,
            "object_position": null,
            "object_fit": null,
            "grid_auto_columns": null,
            "margin": null,
            "display": null,
            "left": null
          }
        },
        "984e4a6cb85d4329832ca92f203d8a65": {
          "model_module": "@jupyter-widgets/base",
          "model_name": "LayoutModel",
          "state": {
            "_view_name": "LayoutView",
            "grid_template_rows": null,
            "right": null,
            "justify_content": null,
            "_view_module": "@jupyter-widgets/base",
            "overflow": null,
            "_model_module_version": "1.2.0",
            "_view_count": null,
            "flex_flow": null,
            "width": null,
            "min_width": null,
            "border": null,
            "align_items": null,
            "bottom": null,
            "_model_module": "@jupyter-widgets/base",
            "top": null,
            "grid_column": null,
            "overflow_y": null,
            "overflow_x": null,
            "grid_auto_flow": null,
            "grid_area": null,
            "grid_template_columns": null,
            "flex": null,
            "_model_name": "LayoutModel",
            "justify_items": null,
            "grid_row": null,
            "max_height": null,
            "align_content": null,
            "visibility": null,
            "align_self": null,
            "height": null,
            "min_height": null,
            "padding": null,
            "grid_auto_rows": null,
            "grid_gap": null,
            "max_width": null,
            "order": null,
            "_view_module_version": "1.2.0",
            "grid_template_areas": null,
            "object_position": null,
            "object_fit": null,
            "grid_auto_columns": null,
            "margin": null,
            "display": null,
            "left": null
          }
        },
        "54716cadc9fe46dfab6444b87c80b8a3": {
          "model_module": "@jupyter-widgets/controls",
          "model_name": "TabModel",
          "state": {
            "_view_name": "TabView",
            "_dom_classes": [],
            "_titles": {
              "0": "Youtube",
              "1": "Bilibili"
            },
            "_model_name": "TabModel",
            "_view_module": "@jupyter-widgets/controls",
            "selected_index": 0,
            "_model_module_version": "1.5.0",
            "_view_count": null,
            "_view_module_version": "1.5.0",
            "box_style": "",
            "layout": "IPY_MODEL_dcd71121c3434ce395b77f9b57ffe47b",
            "_model_module": "@jupyter-widgets/controls",
            "children": [
              "IPY_MODEL_21109870e2014b348391ebb6f41e9728",
              "IPY_MODEL_a29258fb77f442d1b86d53f6ce1e8506"
            ]
          }
        },
        "dcd71121c3434ce395b77f9b57ffe47b": {
          "model_module": "@jupyter-widgets/base",
          "model_name": "LayoutModel",
          "state": {
            "_view_name": "LayoutView",
            "grid_template_rows": null,
            "right": null,
            "justify_content": null,
            "_view_module": "@jupyter-widgets/base",
            "overflow": null,
            "_model_module_version": "1.2.0",
            "_view_count": null,
            "flex_flow": null,
            "width": null,
            "min_width": null,
            "border": null,
            "align_items": null,
            "bottom": null,
            "_model_module": "@jupyter-widgets/base",
            "top": null,
            "grid_column": null,
            "overflow_y": null,
            "overflow_x": null,
            "grid_auto_flow": null,
            "grid_area": null,
            "grid_template_columns": null,
            "flex": null,
            "_model_name": "LayoutModel",
            "justify_items": null,
            "grid_row": null,
            "max_height": null,
            "align_content": null,
            "visibility": null,
            "align_self": null,
            "height": null,
            "min_height": null,
            "padding": null,
            "grid_auto_rows": null,
            "grid_gap": null,
            "max_width": null,
            "order": null,
            "_view_module_version": "1.2.0",
            "grid_template_areas": null,
            "object_position": null,
            "object_fit": null,
            "grid_auto_columns": null,
            "margin": null,
            "display": null,
            "left": null
          }
        },
        "21109870e2014b348391ebb6f41e9728": {
          "model_module": "@jupyter-widgets/output",
          "model_name": "OutputModel",
          "state": {
            "_view_name": "OutputView",
            "msg_id": "",
            "_dom_classes": [],
            "_model_name": "OutputModel",
            "outputs": [
              {
                "output_type": "stream",
                "metadata": {
                  "tags": []
                },
                "text": "Video available at https://youtube.com/watch?v=V2SBAK2Xf8Y\n",
                "stream": "stdout"
              },
              {
                "output_type": "display_data",
                "metadata": {
                  "tags": []
                },
                "text/html": "\n        <iframe\n            width=\"854\"\n            height=\"480\"\n            src=\"https://www.youtube.com/embed/V2SBAK2Xf8Y?fs=1&rel=0\"\n            frameborder=\"0\"\n            allowfullscreen\n        ></iframe>\n        ",
                "text/plain": "<IPython.lib.display.YouTubeVideo at 0x7fb23602bc90>",
                "image/jpeg": "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\n"
              }
            ],
            "_view_module": "@jupyter-widgets/output",
            "_model_module_version": "1.0.0",
            "_view_count": null,
            "_view_module_version": "1.0.0",
            "layout": "IPY_MODEL_2b5b9f2ee17d4a0a905f849cb6f3ec7d",
            "_model_module": "@jupyter-widgets/output"
          }
        },
        "a29258fb77f442d1b86d53f6ce1e8506": {
          "model_module": "@jupyter-widgets/output",
          "model_name": "OutputModel",
          "state": {
            "_view_name": "OutputView",
            "msg_id": "",
            "_dom_classes": [],
            "_model_name": "OutputModel",
            "outputs": [
              {
                "output_type": "stream",
                "metadata": {
                  "tags": []
                },
                "text": "Video available at https://www.bilibili.com/video/BV15k4y1m7Kt\n",
                "stream": "stdout"
              },
              {
                "output_type": "display_data",
                "metadata": {
                  "tags": []
                },
                "text/html": "\n        <iframe\n            width=\"854\"\n            height=\"480\"\n            src=\"https://player.bilibili.com/player.html?bvid=BV15k4y1m7Kt&page=1?fs=1\"\n            frameborder=\"0\"\n            allowfullscreen\n        ></iframe>\n        ",
                "text/plain": "<__main__.BiliVideo at 0x7fb23f04ce10>"
              }
            ],
            "_view_module": "@jupyter-widgets/output",
            "_model_module_version": "1.0.0",
            "_view_count": null,
            "_view_module_version": "1.0.0",
            "layout": "IPY_MODEL_3cda445815094822ab46c81dc7f4a484",
            "_model_module": "@jupyter-widgets/output"
          }
        },
        "2b5b9f2ee17d4a0a905f849cb6f3ec7d": {
          "model_module": "@jupyter-widgets/base",
          "model_name": "LayoutModel",
          "state": {
            "_view_name": "LayoutView",
            "grid_template_rows": null,
            "right": null,
            "justify_content": null,
            "_view_module": "@jupyter-widgets/base",
            "overflow": null,
            "_model_module_version": "1.2.0",
            "_view_count": null,
            "flex_flow": null,
            "width": null,
            "min_width": null,
            "border": null,
            "align_items": null,
            "bottom": null,
            "_model_module": "@jupyter-widgets/base",
            "top": null,
            "grid_column": null,
            "overflow_y": null,
            "overflow_x": null,
            "grid_auto_flow": null,
            "grid_area": null,
            "grid_template_columns": null,
            "flex": null,
            "_model_name": "LayoutModel",
            "justify_items": null,
            "grid_row": null,
            "max_height": null,
            "align_content": null,
            "visibility": null,
            "align_self": null,
            "height": null,
            "min_height": null,
            "padding": null,
            "grid_auto_rows": null,
            "grid_gap": null,
            "max_width": null,
            "order": null,
            "_view_module_version": "1.2.0",
            "grid_template_areas": null,
            "object_position": null,
            "object_fit": null,
            "grid_auto_columns": null,
            "margin": null,
            "display": null,
            "left": null
          }
        },
        "3cda445815094822ab46c81dc7f4a484": {
          "model_module": "@jupyter-widgets/base",
          "model_name": "LayoutModel",
          "state": {
            "_view_name": "LayoutView",
            "grid_template_rows": null,
            "right": null,
            "justify_content": null,
            "_view_module": "@jupyter-widgets/base",
            "overflow": null,
            "_model_module_version": "1.2.0",
            "_view_count": null,
            "flex_flow": null,
            "width": null,
            "min_width": null,
            "border": null,
            "align_items": null,
            "bottom": null,
            "_model_module": "@jupyter-widgets/base",
            "top": null,
            "grid_column": null,
            "overflow_y": null,
            "overflow_x": null,
            "grid_auto_flow": null,
            "grid_area": null,
            "grid_template_columns": null,
            "flex": null,
            "_model_name": "LayoutModel",
            "justify_items": null,
            "grid_row": null,
            "max_height": null,
            "align_content": null,
            "visibility": null,
            "align_self": null,
            "height": null,
            "min_height": null,
            "padding": null,
            "grid_auto_rows": null,
            "grid_gap": null,
            "max_width": null,
            "order": null,
            "_view_module_version": "1.2.0",
            "grid_template_areas": null,
            "object_position": null,
            "object_fit": null,
            "grid_auto_columns": null,
            "margin": null,
            "display": null,
            "left": null
          }
        },
        "41277d27ea9a4e8393cdd38f4b4cc165": {
          "model_module": "@jupyter-widgets/controls",
          "model_name": "VBoxModel",
          "state": {
            "_view_name": "VBoxView",
            "_dom_classes": [
              "widget-interact"
            ],
            "_model_name": "VBoxModel",
            "_view_module": "@jupyter-widgets/controls",
            "_model_module_version": "1.5.0",
            "_view_count": null,
            "_view_module_version": "1.5.0",
            "box_style": "",
            "layout": "IPY_MODEL_aa38f909470a4376814a83a9d09a111c",
            "_model_module": "@jupyter-widgets/controls",
            "children": [
              "IPY_MODEL_4dca6f98bd6442ba9fb34413d638750a",
              "IPY_MODEL_db5439f41c07496b89bab87eaafa7744"
            ]
          }
        },
        "aa38f909470a4376814a83a9d09a111c": {
          "model_module": "@jupyter-widgets/base",
          "model_name": "LayoutModel",
          "state": {
            "_view_name": "LayoutView",
            "grid_template_rows": null,
            "right": null,
            "justify_content": null,
            "_view_module": "@jupyter-widgets/base",
            "overflow": null,
            "_model_module_version": "1.2.0",
            "_view_count": null,
            "flex_flow": null,
            "width": null,
            "min_width": null,
            "border": null,
            "align_items": null,
            "bottom": null,
            "_model_module": "@jupyter-widgets/base",
            "top": null,
            "grid_column": null,
            "overflow_y": null,
            "overflow_x": null,
            "grid_auto_flow": null,
            "grid_area": null,
            "grid_template_columns": null,
            "flex": null,
            "_model_name": "LayoutModel",
            "justify_items": null,
            "grid_row": null,
            "max_height": null,
            "align_content": null,
            "visibility": null,
            "align_self": null,
            "height": null,
            "min_height": null,
            "padding": null,
            "grid_auto_rows": null,
            "grid_gap": null,
            "max_width": null,
            "order": null,
            "_view_module_version": "1.2.0",
            "grid_template_areas": null,
            "object_position": null,
            "object_fit": null,
            "grid_auto_columns": null,
            "margin": null,
            "display": null,
            "left": null
          }
        },
        "4dca6f98bd6442ba9fb34413d638750a": {
          "model_module": "@jupyter-widgets/controls",
          "model_name": "IntSliderModel",
          "state": {
            "_view_name": "IntSliderView",
            "style": "IPY_MODEL_d4a1bc30b96a46abbd8f4480b6c5d8e2",
            "_dom_classes": [],
            "description": "n_t",
            "step": 1,
            "_model_name": "IntSliderModel",
            "orientation": "horizontal",
            "max": 99,
            "_view_module": "@jupyter-widgets/controls",
            "_model_module_version": "1.5.0",
            "value": 49,
            "_view_count": null,
            "disabled": false,
            "_view_module_version": "1.5.0",
            "min": 0,
            "continuous_update": true,
            "readout_format": "d",
            "description_tooltip": null,
            "readout": true,
            "_model_module": "@jupyter-widgets/controls",
            "layout": "IPY_MODEL_ed8a2ec3703d4884af3a77102d9c289d"
          }
        },
        "db5439f41c07496b89bab87eaafa7744": {
          "model_module": "@jupyter-widgets/output",
          "model_name": "OutputModel",
          "state": {
            "_view_name": "OutputView",
            "msg_id": "",
            "_dom_classes": [],
            "_model_name": "OutputModel",
            "outputs": [
              {
                "output_type": "display_data",
                "metadata": {
                  "tags": [],
                  "needs_background": "light"
                },
                "image/png": "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\n",
                "text/plain": "<Figure size 576x396 with 2 Axes>"
              }
            ],
            "_view_module": "@jupyter-widgets/output",
            "_model_module_version": "1.0.0",
            "_view_count": null,
            "_view_module_version": "1.0.0",
            "layout": "IPY_MODEL_ebe1cbde902f40bcb7bc13ef4d3ec33f",
            "_model_module": "@jupyter-widgets/output"
          }
        },
        "d4a1bc30b96a46abbd8f4480b6c5d8e2": {
          "model_module": "@jupyter-widgets/controls",
          "model_name": "SliderStyleModel",
          "state": {
            "_view_name": "StyleView",
            "handle_color": null,
            "_model_name": "SliderStyleModel",
            "description_width": "",
            "_view_module": "@jupyter-widgets/base",
            "_model_module_version": "1.5.0",
            "_view_count": null,
            "_view_module_version": "1.2.0",
            "_model_module": "@jupyter-widgets/controls"
          }
        },
        "ed8a2ec3703d4884af3a77102d9c289d": {
          "model_module": "@jupyter-widgets/base",
          "model_name": "LayoutModel",
          "state": {
            "_view_name": "LayoutView",
            "grid_template_rows": null,
            "right": null,
            "justify_content": null,
            "_view_module": "@jupyter-widgets/base",
            "overflow": null,
            "_model_module_version": "1.2.0",
            "_view_count": null,
            "flex_flow": null,
            "width": null,
            "min_width": null,
            "border": null,
            "align_items": null,
            "bottom": null,
            "_model_module": "@jupyter-widgets/base",
            "top": null,
            "grid_column": null,
            "overflow_y": null,
            "overflow_x": null,
            "grid_auto_flow": null,
            "grid_area": null,
            "grid_template_columns": null,
            "flex": null,
            "_model_name": "LayoutModel",
            "justify_items": null,
            "grid_row": null,
            "max_height": null,
            "align_content": null,
            "visibility": null,
            "align_self": null,
            "height": null,
            "min_height": null,
            "padding": null,
            "grid_auto_rows": null,
            "grid_gap": null,
            "max_width": null,
            "order": null,
            "_view_module_version": "1.2.0",
            "grid_template_areas": null,
            "object_position": null,
            "object_fit": null,
            "grid_auto_columns": null,
            "margin": null,
            "display": null,
            "left": null
          }
        },
        "ebe1cbde902f40bcb7bc13ef4d3ec33f": {
          "model_module": "@jupyter-widgets/base",
          "model_name": "LayoutModel",
          "state": {
            "_view_name": "LayoutView",
            "grid_template_rows": null,
            "right": null,
            "justify_content": null,
            "_view_module": "@jupyter-widgets/base",
            "overflow": null,
            "_model_module_version": "1.2.0",
            "_view_count": null,
            "flex_flow": null,
            "width": null,
            "min_width": null,
            "border": null,
            "align_items": null,
            "bottom": null,
            "_model_module": "@jupyter-widgets/base",
            "top": null,
            "grid_column": null,
            "overflow_y": null,
            "overflow_x": null,
            "grid_auto_flow": null,
            "grid_area": null,
            "grid_template_columns": null,
            "flex": null,
            "_model_name": "LayoutModel",
            "justify_items": null,
            "grid_row": null,
            "max_height": null,
            "align_content": null,
            "visibility": null,
            "align_self": null,
            "height": null,
            "min_height": null,
            "padding": null,
            "grid_auto_rows": null,
            "grid_gap": null,
            "max_width": null,
            "order": null,
            "_view_module_version": "1.2.0",
            "grid_template_areas": null,
            "object_position": null,
            "object_fit": null,
            "grid_auto_columns": null,
            "margin": null,
            "display": null,
            "left": null
          }
        }
      }
    }
  },
  "cells": [
    {
      "cell_type": "markdown",
      "metadata": {
        "id": "view-in-github",
        "colab_type": "text"
      },
      "source": [
        "<a href=\"https://colab.research.google.com/github/NeuromatchAcademy/course-content/blob/W2D4_updates/tutorials/W2D4_DynamicNetworks/W2D4_Tutorial2.ipynb\" target=\"_parent\"><img src=\"https://colab.research.google.com/assets/colab-badge.svg\" alt=\"Open In Colab\"/></a>"
      ]
    },
    {
      "cell_type": "markdown",
      "metadata": {
        "id": "AkMdss6wFmWa"
      },
      "source": [
        "# Tutorial 2: Wilson-Cowan Model\n",
        "**Week 2, Day 4: Dynamic Networks**\n",
        "\n",
        "**By Neuromatch Academy**\n",
        "\n",
        "__Content creators:__ Qinglong Gu, Songtin Li, Arvind Kumar, John Murray, Julijana Gjorgjieva \n",
        "\n",
        "__Content reviewers:__ Maryam Vaziri-Pashkam, Ella Batty, Lorenzo Fontolan, Richard Gao, Spiros Chavlis, Michael Waskom, Siddharth Suresh"
      ]
    },
    {
      "cell_type": "markdown",
      "metadata": {
        "id": "OO2SBi84FmWc"
      },
      "source": [
        "**Our 2021 Sponsors, including Presenting Sponsor Facebook Reality Labs**\n",
        "\n",
        "<p align='center'><img src='https://github.com/NeuromatchAcademy/widgets/blob/master/sponsors.png?raw=True'/></p>"
      ]
    },
    {
      "cell_type": "markdown",
      "metadata": {
        "id": "0A-LBVLLFmWc"
      },
      "source": [
        "---\n",
        "# Tutorial Objectives\n",
        "\n",
        "*Estimated timing of tutorial: 1 hour, 35 minutes*\n",
        "\n",
        "In the previous tutorial, you became familiar with a neuronal network consisting of only an excitatory population. Here, we extend the approach we used to include both excitatory and inhibitory neuronal populations in our network. A simple, yet powerful model to study the dynamics of two interacting populations of excitatory and inhibitory neurons, is the so-called **Wilson-Cowan** rate model, which will be the subject of this tutorial.\n",
        "\n",
        "The objectives of this tutorial are to:\n",
        "\n",
        "- Write the **Wilson-Cowan** equations for the firing rate dynamics of a 2D system composed of an excitatory (E) and an inhibitory (I) population of neurons\n",
        "- Simulate the dynamics of the system, i.e., Wilson-Cowan model.\n",
        "- Plot the frequency-current (F-I) curves for both populations (i.e., E and I).\n",
        "- Visualize and inspect the behavior of the system using **phase plane analysis**, **vector fields**, and **nullclines**.\n",
        "\n",
        "Bonus steps:\n",
        "\n",
        "- Find and plot the **fixed points** of the Wilson-Cowan model.\n",
        "- Investigate the stability of the Wilson-Cowan model by linearizing its dynamics and examining the **Jacobian matrix**.\n",
        "- Learn how the Wilson-Cowan model can reach an oscillatory state.\n",
        "\n",
        "Bonus steps (applications):\n",
        "- Visualize the behavior of an Inhibition-stabilized network.\n",
        "- Simulate working memory using the Wilson-Cowan model.\n",
        "\n",
        "\\\\\n",
        "Reference paper:\n",
        "\n",
        "_[Wilson H and Cowan J (1972) Excitatory and inhibitory interactions in localized populations of model neurons. Biophysical Journal 12](https://doi.org/10.1016/S0006-3495(72)86068-5)_"
      ]
    },
    {
      "cell_type": "code",
      "metadata": {
        "cellView": "form",
        "colab": {
          "base_uri": "https://localhost:8080/",
          "height": 500
        },
        "id": "AJva9qscckVO",
        "outputId": "0cb287f9-8383-4834-ba79-0583fb8e2ff8"
      },
      "source": [
        "# @title Tutorial slides\n",
        "\n",
        "# @markdown These are the slides for the videos in all tutorials today\n",
        "from IPython.display import IFrame\n",
        "IFrame(src=f\"https://mfr.ca-1.osf.io/render?url=https://osf.io/nvuty/?direct%26mode=render%26action=download%26mode=render\", width=854, height=480)"
      ],
      "execution_count": 1,
      "outputs": [
        {
          "output_type": "execute_result",
          "data": {
            "text/html": [
              "\n",
              "        <iframe\n",
              "            width=\"854\"\n",
              "            height=\"480\"\n",
              "            src=\"https://mfr.ca-1.osf.io/render?url=https://osf.io/nvuty/?direct%26mode=render%26action=download%26mode=render\"\n",
              "            frameborder=\"0\"\n",
              "            allowfullscreen\n",
              "        ></iframe>\n",
              "        "
            ],
            "text/plain": [
              "<IPython.lib.display.IFrame at 0x7fb24de6ce50>"
            ]
          },
          "metadata": {
            "tags": []
          },
          "execution_count": 1
        }
      ]
    },
    {
      "cell_type": "markdown",
      "metadata": {
        "id": "rnE9fA8GFmWd"
      },
      "source": [
        "---\n",
        "# Setup"
      ]
    },
    {
      "cell_type": "code",
      "metadata": {
        "cellView": "both",
        "execution": {
          "iopub.execute_input": "2021-06-25T15:15:15.286314Z",
          "iopub.status.busy": "2021-06-25T15:15:15.285692Z",
          "iopub.status.idle": "2021-06-25T15:15:15.662317Z",
          "shell.execute_reply": "2021-06-25T15:15:15.663061Z"
        },
        "id": "4OuOG9XtFmWe"
      },
      "source": [
        "# Imports\n",
        "\n",
        "import matplotlib.pyplot as plt\n",
        "import numpy as np\n",
        "import scipy.optimize as opt       # root-finding algorithm"
      ],
      "execution_count": 2,
      "outputs": []
    },
    {
      "cell_type": "code",
      "metadata": {
        "cellView": "form",
        "execution": {
          "iopub.execute_input": "2021-06-25T15:15:15.666532Z",
          "iopub.status.busy": "2021-06-25T15:15:15.665475Z",
          "iopub.status.idle": "2021-06-25T15:15:15.748988Z",
          "shell.execute_reply": "2021-06-25T15:15:15.749438Z"
        },
        "id": "VfVQ6xFSFmWe"
      },
      "source": [
        "# @title Figure Settings\n",
        "import ipywidgets as widgets       # interactive display\n",
        "%config InlineBackend.figure_format = 'retina'\n",
        "plt.style.use(\"https://raw.githubusercontent.com/NeuromatchAcademy/course-content/master/nma.mplstyle\")"
      ],
      "execution_count": null,
      "outputs": []
    },
    {
      "cell_type": "code",
      "metadata": {
        "cellView": "form",
        "id": "EO-jRo0FcrBG"
      },
      "source": [
        "# @title Plotting Functions\n",
        "\n",
        "\n",
        "\n",
        "def plot_FI_inverse(x, a, theta):\n",
        "  f, ax = plt.subplots()\n",
        "  ax.plot(x, F_inv(x, a=a, theta=theta))\n",
        "  ax.set(xlabel=\"$x$\", ylabel=\"$F^{-1}(x)$\")\n",
        "\n",
        "\n",
        "def plot_FI_EI(x, FI_exc, FI_inh):\n",
        "  plt.figure()\n",
        "  plt.plot(x, FI_exc, 'b', label='E population')\n",
        "  plt.plot(x, FI_inh, 'r', label='I population')\n",
        "  plt.legend(loc='lower right')\n",
        "  plt.xlabel('x (a.u.)')\n",
        "  plt.ylabel('F(x)')\n",
        "  plt.show()\n",
        "\n",
        "\n",
        "def my_test_plot(t, rE1, rI1, rE2, rI2):\n",
        "\n",
        "  plt.figure()\n",
        "  ax1 = plt.subplot(211)\n",
        "  ax1.plot(pars['range_t'], rE1, 'b', label='E population')\n",
        "  ax1.plot(pars['range_t'], rI1, 'r', label='I population')\n",
        "  ax1.set_ylabel('Activity')\n",
        "  ax1.legend(loc='best')\n",
        "\n",
        "  ax2 = plt.subplot(212, sharex=ax1, sharey=ax1)\n",
        "  ax2.plot(pars['range_t'], rE2, 'b', label='E population')\n",
        "  ax2.plot(pars['range_t'], rI2, 'r', label='I population')\n",
        "  ax2.set_xlabel('t (ms)')\n",
        "  ax2.set_ylabel('Activity')\n",
        "  ax2.legend(loc='best')\n",
        "\n",
        "  plt.tight_layout()\n",
        "  plt.show()\n",
        "\n",
        "\n",
        "def plot_nullclines(Exc_null_rE, Exc_null_rI, Inh_null_rE, Inh_null_rI):\n",
        "\n",
        "  plt.figure()\n",
        "  plt.plot(Exc_null_rE, Exc_null_rI, 'b', label='E nullcline')\n",
        "  plt.plot(Inh_null_rE, Inh_null_rI, 'r', label='I nullcline')\n",
        "  plt.xlabel(r'$r_E$')\n",
        "  plt.ylabel(r'$r_I$')\n",
        "  plt.legend(loc='best')\n",
        "  plt.show()\n",
        "\n",
        "\n",
        "def my_plot_nullcline(pars):\n",
        "  Exc_null_rE = np.linspace(-0.01, 0.96, 100)\n",
        "  Exc_null_rI = get_E_nullcline(Exc_null_rE, **pars)\n",
        "  Inh_null_rI = np.linspace(-.01, 0.8, 100)\n",
        "  Inh_null_rE = get_I_nullcline(Inh_null_rI, **pars)\n",
        "\n",
        "  plt.plot(Exc_null_rE, Exc_null_rI, 'b', label='E nullcline')\n",
        "  plt.plot(Inh_null_rE, Inh_null_rI, 'r', label='I nullcline')\n",
        "  plt.xlabel(r'$r_E$')\n",
        "  plt.ylabel(r'$r_I$')\n",
        "  plt.legend(loc='best')\n",
        "\n",
        "\n",
        "def my_plot_vector(pars, my_n_skip=2, myscale=5):\n",
        "  EI_grid = np.linspace(0., 1., 20)\n",
        "  rE, rI = np.meshgrid(EI_grid, EI_grid)\n",
        "  drEdt, drIdt = EIderivs(rE, rI, **pars)\n",
        "\n",
        "  n_skip = my_n_skip\n",
        "\n",
        "  plt.quiver(rE[::n_skip, ::n_skip], rI[::n_skip, ::n_skip],\n",
        "             drEdt[::n_skip, ::n_skip], drIdt[::n_skip, ::n_skip],\n",
        "             angles='xy', scale_units='xy', scale=myscale, facecolor='c')\n",
        "\n",
        "  plt.xlabel(r'$r_E$')\n",
        "  plt.ylabel(r'$r_I$')\n",
        "\n",
        "\n",
        "def my_plot_trajectory(pars, mycolor, x_init, mylabel):\n",
        "  pars = pars.copy()\n",
        "  pars['rE_init'], pars['rI_init'] = x_init[0], x_init[1]\n",
        "  rE_tj, rI_tj = simulate_wc(**pars)\n",
        "\n",
        "  plt.plot(rE_tj, rI_tj, color=mycolor, label=mylabel)\n",
        "  plt.plot(x_init[0], x_init[1], 'o', color=mycolor, ms=8)\n",
        "  plt.xlabel(r'$r_E$')\n",
        "  plt.ylabel(r'$r_I$')\n",
        "\n",
        "\n",
        "def my_plot_trajectories(pars, dx, n, mylabel):\n",
        "  \"\"\"\n",
        "  Solve for I along the E_grid from dE/dt = 0.\n",
        "\n",
        "  Expects:\n",
        "  pars    : Parameter dictionary\n",
        "  dx      : increment of initial values\n",
        "  n       : n*n trjectories\n",
        "  mylabel : label for legend\n",
        "\n",
        "  Returns:\n",
        "    figure of trajectory\n",
        "  \"\"\"\n",
        "  pars = pars.copy()\n",
        "  for ie in range(n):\n",
        "    for ii in range(n):\n",
        "      pars['rE_init'], pars['rI_init'] = dx * ie, dx * ii\n",
        "      rE_tj, rI_tj = simulate_wc(**pars)\n",
        "      if (ie == n-1) & (ii == n-1):\n",
        "          plt.plot(rE_tj, rI_tj, 'gray', alpha=0.8, label=mylabel)\n",
        "      else:\n",
        "          plt.plot(rE_tj, rI_tj, 'gray', alpha=0.8)\n",
        "\n",
        "  plt.xlabel(r'$r_E$')\n",
        "  plt.ylabel(r'$r_I$')\n",
        "\n",
        "\n",
        "def plot_complete_analysis(pars):\n",
        "  plt.figure(figsize=(7.7, 6.))\n",
        "\n",
        "  # plot example trajectories\n",
        "  my_plot_trajectories(pars, 0.2, 6,\n",
        "                       'Sample trajectories \\nfor different init. conditions')\n",
        "  my_plot_trajectory(pars, 'orange', [0.6, 0.8],\n",
        "                     'Sample trajectory for \\nlow activity')\n",
        "  my_plot_trajectory(pars, 'm', [0.6, 0.6],\n",
        "                     'Sample trajectory for \\nhigh activity')\n",
        "\n",
        "  # plot nullclines\n",
        "  my_plot_nullcline(pars)\n",
        "\n",
        "  # plot vector field\n",
        "  EI_grid = np.linspace(0., 1., 20)\n",
        "  rE, rI = np.meshgrid(EI_grid, EI_grid)\n",
        "  drEdt, drIdt = EIderivs(rE, rI, **pars)\n",
        "  n_skip = 2\n",
        "  plt.quiver(rE[::n_skip, ::n_skip], rI[::n_skip, ::n_skip],\n",
        "             drEdt[::n_skip, ::n_skip], drIdt[::n_skip, ::n_skip],\n",
        "             angles='xy', scale_units='xy', scale=5., facecolor='c')\n",
        "\n",
        "  plt.legend(loc=[1.02, 0.57], handlelength=1)\n",
        "  plt.show()\n",
        "\n",
        "\n",
        "def plot_fp(x_fp, position=(0.02, 0.1), rotation=0):\n",
        "  plt.plot(x_fp[0], x_fp[1], 'ko', ms=8)\n",
        "  plt.text(x_fp[0] + position[0], x_fp[1] + position[1],\n",
        "           f'Fixed Point1=\\n({x_fp[0]:.3f}, {x_fp[1]:.3f})',\n",
        "           horizontalalignment='center', verticalalignment='bottom',\n",
        "           rotation=rotation)"
      ],
      "execution_count": 3,
      "outputs": []
    },
    {
      "cell_type": "code",
      "metadata": {
        "execution": {
          "iopub.execute_input": "2021-06-25T15:15:15.781794Z",
          "iopub.status.busy": "2021-06-25T15:15:15.773706Z",
          "iopub.status.idle": "2021-06-25T15:15:15.784859Z",
          "shell.execute_reply": "2021-06-25T15:15:15.784403Z"
        },
        "id": "xC8TfnhlFmWf",
        "cellView": "form"
      },
      "source": [
        "# @title Helper Functions\n",
        "\n",
        "def default_pars(**kwargs):\n",
        "  pars = {}\n",
        "\n",
        "  # Excitatory parameters\n",
        "  pars['tau_E'] = 1.     # Timescale of the E population [ms]\n",
        "  pars['a_E'] = 1.2      # Gain of the E population\n",
        "  pars['theta_E'] = 2.8  # Threshold of the E population\n",
        "\n",
        "  # Inhibitory parameters\n",
        "  pars['tau_I'] = 2.0    # Timescale of the I population [ms]\n",
        "  pars['a_I'] = 1.0      # Gain of the I population\n",
        "  pars['theta_I'] = 4.0  # Threshold of the I population\n",
        "\n",
        "  # Connection strength\n",
        "  pars['wEE'] = 9.   # E to E\n",
        "  pars['wEI'] = 4.   # I to E\n",
        "  pars['wIE'] = 13.  # E to I\n",
        "  pars['wII'] = 11.  # I to I\n",
        "\n",
        "  # External input\n",
        "  pars['I_ext_E'] = 0.\n",
        "  pars['I_ext_I'] = 0.\n",
        "\n",
        "  # simulation parameters\n",
        "  pars['T'] = 50.        # Total duration of simulation [ms]\n",
        "  pars['dt'] = .1        # Simulation time step [ms]\n",
        "  pars['rE_init'] = 0.2  # Initial value of E\n",
        "  pars['rI_init'] = 0.2  # Initial value of I\n",
        "\n",
        "  # External parameters if any\n",
        "  for k in kwargs:\n",
        "      pars[k] = kwargs[k]\n",
        "\n",
        "  # Vector of discretized time points [ms]\n",
        "  pars['range_t'] = np.arange(0, pars['T'], pars['dt'])\n",
        "\n",
        "  return pars\n",
        "\n",
        "\n",
        "def F(x, a, theta):\n",
        "  \"\"\"\n",
        "  Population activation function, F-I curve\n",
        "\n",
        "  Args:\n",
        "    x     : the population input\n",
        "    a     : the gain of the function\n",
        "    theta : the threshold of the function\n",
        "\n",
        "  Returns:\n",
        "    f     : the population activation response f(x) for input x\n",
        "  \"\"\"\n",
        "\n",
        "  # add the expression of f = F(x)\n",
        "  f = (1 + np.exp(-a * (x - theta)))**-1 - (1 + np.exp(a * theta))**-1\n",
        "\n",
        "  return f\n",
        "\n",
        "\n",
        "def dF(x, a, theta):\n",
        "  \"\"\"\n",
        "  Derivative of the population activation function.\n",
        "\n",
        "  Args:\n",
        "    x     : the population input\n",
        "    a     : the gain of the function\n",
        "    theta : the threshold of the function\n",
        "\n",
        "  Returns:\n",
        "    dFdx  :  Derivative of the population activation function.\n",
        "  \"\"\"\n",
        "\n",
        "  dFdx = a * np.exp(-a * (x - theta)) * (1 + np.exp(-a * (x - theta)))**-2\n",
        "\n",
        "  return dFdx\n"
      ],
      "execution_count": 6,
      "outputs": []
    },
    {
      "cell_type": "markdown",
      "metadata": {
        "id": "R8OLr0sLFmWi"
      },
      "source": [
        "The helper functions included:\n",
        "\n",
        "- Parameter dictionary: `default_pars(**kwargs)`. You can use:\n",
        "  - `pars = default_pars()` to get all the parameters, and then you can execute `print(pars)` to check these parameters. \n",
        "  - `pars = default_pars(T=T_sim, dt=time_step)` to set a different simulation time and time step\n",
        "  - After `pars = default_pars()`, use `par['New_para'] = value` to add a new parameter with its value\n",
        "  - Pass to functions that accept individual parameters with `func(**pars)`\n",
        "- F-I curve: `F(x, a, theta)`\n",
        "- Derivative of the F-I curve: `dF(x, a, theta)`"
      ]
    },
    {
      "cell_type": "markdown",
      "metadata": {
        "id": "nXyrrXC_FmWj"
      },
      "source": [
        "---\n",
        "# Section 1: Wilson-Cowan model of excitatory and inhibitory populations\n"
      ]
    },
    {
      "cell_type": "code",
      "metadata": {
        "execution": {
          "iopub.execute_input": "2021-06-25T15:15:15.796744Z",
          "iopub.status.busy": "2021-06-25T15:15:15.796178Z",
          "iopub.status.idle": "2021-06-25T15:15:15.907174Z",
          "shell.execute_reply": "2021-06-25T15:15:15.907570Z"
        },
        "id": "aa7PqdiGFmWk",
        "colab": {
          "base_uri": "https://localhost:8080/",
          "height": 580,
          "referenced_widgets": [
            "35413bfe2d7b4f20b56f7db229e2c371",
            "f2dae4bd7edc4db1b43046eeeda095e8",
            "957877d272b042b5978199b0a296f919",
            "8ff8788c8422453686ecacaa4d383ac1",
            "66c8ac56a73a46eb8f2761392a564222",
            "9100cc7efc374cf8b747adee117a800a"
          ]
        },
        "cellView": "form",
        "outputId": "bdb4232b-d4a9-4f9e-c16e-c6bf4b706de2"
      },
      "source": [
        "# @title Video 1: Phase analysis of the Wilson-Cowan E-I model\n",
        "from ipywidgets import widgets\n",
        "\n",
        "out2 = widgets.Output()\n",
        "with out2:\n",
        "  from IPython.display import IFrame\n",
        "  class BiliVideo(IFrame):\n",
        "      def __init__(self, id, page=1, width=400, height=300, **kwargs):\n",
        "          self.id=id\n",
        "          src = 'https://player.bilibili.com/player.html?bvid={0}&page={1}'.format(id, page)\n",
        "          super(BiliVideo, self).__init__(src, width, height, **kwargs)\n",
        "\n",
        "  video = BiliVideo(id=\"BV1CD4y1m7dK\", width=854, height=480, fs=1)\n",
        "  print('Video available at https://www.bilibili.com/video/{0}'.format(video.id))\n",
        "  display(video)\n",
        "\n",
        "out1 = widgets.Output()\n",
        "with out1:\n",
        "  from IPython.display import YouTubeVideo\n",
        "  video = YouTubeVideo(id=\"GCpQmh45crM\", width=854, height=480, fs=1, rel=0)\n",
        "  print('Video available at https://youtube.com/watch?v=' + video.id)\n",
        "  display(video)\n",
        "\n",
        "out = widgets.Tab([out1, out2])\n",
        "out.set_title(0, 'Youtube')\n",
        "out.set_title(1, 'Bilibili')\n",
        "\n",
        "display(out)"
      ],
      "execution_count": 4,
      "outputs": [
        {
          "output_type": "display_data",
          "data": {
            "application/vnd.jupyter.widget-view+json": {
              "model_id": "35413bfe2d7b4f20b56f7db229e2c371",
              "version_minor": 0,
              "version_major": 2
            },
            "text/plain": [
              "Tab(children=(Output(), Output()), _titles={'0': 'Youtube', '1': 'Bilibili'})"
            ]
          },
          "metadata": {
            "tags": []
          }
        }
      ]
    },
    {
      "cell_type": "markdown",
      "metadata": {
        "id": "8mnPbmcgdJx1"
      },
      "source": [
        "This video explains how to model a network with interacting populations of excitatory and inhibitory neurons (the Wilson-Cowan model). It shows how to solve the network activity vs. time and introduces the phase plane in two dimensions."
      ]
    },
    {
      "cell_type": "markdown",
      "metadata": {
        "id": "cZehBW4TFmWk"
      },
      "source": [
        "## Section 1.1: Mathematical description of the WC model\n",
        "\n",
        "*Estimated timing to here from start of tutorial: 12 min*\n",
        "\n",
        "<details>\n",
        "<summary> <font color='blue'>Click here for text recap of relevant part of video </font></summary>\n",
        "\n",
        "Many of the rich dynamics recorded in the brain are generated by the interaction of excitatory and inhibitory subtype neurons. Here, similar to what we did in the previous tutorial, we will model two coupled populations of E and I neurons (**Wilson-Cowan** model). We can write two coupled differential equations, each representing the dynamics of the excitatory or inhibitory population:\n",
        "\n",
        "\\begin{align}\n",
        "\\tau_E \\frac{dr_E}{dt} &= -r_E + F_E(w_{EE}r_E -w_{EI}r_I + I^{\\text{ext}}_E;a_E,\\theta_E)\\\\\n",
        "\\tau_I \\frac{dr_I}{dt} &= -r_I + F_I(w_{IE}r_E -w_{II}r_I + I^{\\text{ext}}_I;a_I,\\theta_I)    \\qquad (1)\n",
        "\\end{align}\n",
        "\n",
        "$r_E(t)$ represents the average activation (or firing rate) of the excitatory population at time $t$, and $r_I(t)$ the activation (or firing rate) of the inhibitory population. The parameters $\\tau_E$ and $\\tau_I$ control the timescales of the dynamics of each population. Connection strengths are given by: $w_{EE}$ (E $\\rightarrow$ E), $w_{EI}$ (I $\\rightarrow$ E), $w_{IE}$ (E $\\rightarrow$ I), and $w_{II}$ (I $\\rightarrow$ I). The terms $w_{EI}$ and $w_{IE}$ represent connections from inhibitory to excitatory population and vice versa, respectively. The transfer functions (or F-I curves) $F_E(x;a_E,\\theta_E)$ and $F_I(x;a_I,\\theta_I)$ can be different for the excitatory and the inhibitory populations.\n"
      ]
    },
    {
      "cell_type": "markdown",
      "metadata": {
        "id": "gpcYB3ceFmWl"
      },
      "source": [
        "### Coding Exercise 1.1: Plot out the F-I curves for the E and I populations \n",
        "\n",
        "Let's first plot out the F-I curves for the E and I populations using the helper function `F` with default parameter values."
      ]
    },
    {
      "cell_type": "code",
      "metadata": {
        "colab": {
          "base_uri": "https://localhost:8080/"
        },
        "id": "Xef_HkSnderA",
        "outputId": "81f6ef4e-477a-4ada-86f0-3c5e3d3729f8"
      },
      "source": [
        "help(F)"
      ],
      "execution_count": 7,
      "outputs": [
        {
          "output_type": "stream",
          "text": [
            "Help on function F in module __main__:\n",
            "\n",
            "F(x, a, theta)\n",
            "    Population activation function, F-I curve\n",
            "    \n",
            "    Args:\n",
            "      x     : the population input\n",
            "      a     : the gain of the function\n",
            "      theta : the threshold of the function\n",
            "    \n",
            "    Returns:\n",
            "      f     : the population activation response f(x) for input x\n",
            "\n"
          ],
          "name": "stdout"
        }
      ]
    },
    {
      "cell_type": "code",
      "metadata": {
        "execution": {
          "iopub.execute_input": "2021-06-25T15:15:15.922877Z",
          "iopub.status.busy": "2021-06-25T15:15:15.921496Z",
          "iopub.status.idle": "2021-06-25T15:15:15.924686Z",
          "shell.execute_reply": "2021-06-25T15:15:15.924196Z"
        },
        "id": "Ot49vUr4FmWl",
        "colab": {
          "base_uri": "https://localhost:8080/",
          "height": 275
        },
        "outputId": "ea2bafd2-878f-4c6f-c62b-ea5cc3db05f8"
      },
      "source": [
        "pars = default_pars()\n",
        "x = np.arange(0, 10, .1)\n",
        "\n",
        "print(pars['a_E'], pars['theta_E'])\n",
        "print(pars['a_I'], pars['theta_I'])\n",
        "\n",
        "###################################################################\n",
        "# TODO for students: compute and plot the F-I curve here          #\n",
        "# Note: aE, thetaE, aI and theta_I are in the dictionray 'pars'   #\n",
        "raise NotImplementedError('student exercise: compute F-I curves of excitatory and inhibitory populations')\n",
        "###################################################################\n",
        "\n",
        "# Compute the F-I curve of the excitatory population\n",
        "FI_exc = ...\n",
        "\n",
        "# Compute the F-I curve of the inhibitory population\n",
        "FI_inh = ...\n",
        "\n",
        "# Visualize\n",
        "plot_FI_EI(x, FI_exc, FI_inh)"
      ],
      "execution_count": 8,
      "outputs": [
        {
          "output_type": "stream",
          "text": [
            "1.2 2.8\n",
            "1.0 4.0\n"
          ],
          "name": "stdout"
        },
        {
          "output_type": "error",
          "ename": "NotImplementedError",
          "evalue": "ignored",
          "traceback": [
            "\u001b[0;31m---------------------------------------------------------------------------\u001b[0m",
            "\u001b[0;31mNotImplementedError\u001b[0m                       Traceback (most recent call last)",
            "\u001b[0;32m<ipython-input-8-9d897e6376dc>\u001b[0m in \u001b[0;36m<module>\u001b[0;34m()\u001b[0m\n\u001b[1;32m      8\u001b[0m \u001b[0;31m# TODO for students: compute and plot the F-I curve here          #\u001b[0m\u001b[0;34m\u001b[0m\u001b[0;34m\u001b[0m\u001b[0;34m\u001b[0m\u001b[0m\n\u001b[1;32m      9\u001b[0m \u001b[0;31m# Note: aE, thetaE, aI and theta_I are in the dictionray 'pars'   #\u001b[0m\u001b[0;34m\u001b[0m\u001b[0;34m\u001b[0m\u001b[0;34m\u001b[0m\u001b[0m\n\u001b[0;32m---> 10\u001b[0;31m \u001b[0;32mraise\u001b[0m \u001b[0mNotImplementedError\u001b[0m\u001b[0;34m(\u001b[0m\u001b[0;34m'student exercise: compute F-I curves of excitatory and inhibitory populations'\u001b[0m\u001b[0;34m)\u001b[0m\u001b[0;34m\u001b[0m\u001b[0;34m\u001b[0m\u001b[0m\n\u001b[0m\u001b[1;32m     11\u001b[0m \u001b[0;31m###################################################################\u001b[0m\u001b[0;34m\u001b[0m\u001b[0;34m\u001b[0m\u001b[0;34m\u001b[0m\u001b[0m\n\u001b[1;32m     12\u001b[0m \u001b[0;34m\u001b[0m\u001b[0m\n",
            "\u001b[0;31mNotImplementedError\u001b[0m: student exercise: compute F-I curves of excitatory and inhibitory populations"
          ]
        }
      ]
    },
    {
      "cell_type": "code",
      "metadata": {
        "execution": {
          "iopub.execute_input": "2021-06-25T15:15:15.929817Z",
          "iopub.status.busy": "2021-06-25T15:15:15.929345Z",
          "iopub.status.idle": "2021-06-25T15:15:16.177904Z",
          "shell.execute_reply": "2021-06-25T15:15:16.177441Z"
        },
        "id": "qA4r5-7UFmWm",
        "colab": {
          "base_uri": "https://localhost:8080/",
          "height": 321
        },
        "outputId": "3bb13dd9-88e1-41f3-a3d7-f7209a33ac44"
      },
      "source": [
        "# to_remove solution\n",
        "pars = default_pars()\n",
        "x = np.arange(0, 10, .1)\n",
        "\n",
        "print(pars['a_E'], pars['theta_E'])\n",
        "print(pars['a_I'], pars['theta_I'])\n",
        "\n",
        "# Compute the F-I curve of the excitatory population\n",
        "FI_exc = F(x, pars['a_E'], pars['theta_E'])\n",
        "\n",
        "# Compute the F-I curve of the inhibitory population\n",
        "FI_inh = F(x, pars['a_I'], pars['theta_I'])\n",
        "\n",
        "# Visualize\n",
        "with plt.xkcd():\n",
        "  plot_FI_EI(x, FI_exc, FI_inh)"
      ],
      "execution_count": 10,
      "outputs": [
        {
          "output_type": "stream",
          "text": [
            "1.2 2.8\n",
            "1.0 4.0\n"
          ],
          "name": "stdout"
        },
        {
          "output_type": "display_data",
          "data": {
            "image/png": "[encoded data removed]",
            "text/plain": [
              "<Figure size 432x288 with 1 Axes>"
            ]
          },
          "metadata": {
            "tags": []
          }
        }
      ]
    },
    {
      "cell_type": "markdown",
      "metadata": {
        "id": "jAAeAzTaFmWm"
      },
      "source": [
        "## Section 1.2: Simulation scheme for the Wilson-Cowan model\n",
        "\n",
        "*Estimated timing to here from start of tutorial: 20 min*\n",
        "\n",
        "Once again, we can integrate our equations numerically. Using the Euler method, the dynamics of E and I populations can be simulated on a time-grid of stepsize $\\Delta t$. The updates for the activity of the excitatory and the inhibitory populations can be written as:\n",
        "\n",
        "\\begin{align}\n",
        "r_E[k+1] &= r_E[k] + \\Delta r_E[k]\\\\\n",
        "r_I[k+1] &= r_I[k] + \\Delta r_I[k] \n",
        "\\end{align}\n",
        "\n",
        "with the increments\n",
        "\n",
        "\\begin{align}\n",
        "\\Delta r_E[k] &= \\frac{\\Delta t}{\\tau_E}[-r_E[k] + F_E(w_{EE}r_E[k] -w_{EI}r_I[k] + I^{\\text{ext}}_E[k];a_E,\\theta_E)]\\\\\n",
        "\\Delta r_I[k] &= \\frac{\\Delta t}{\\tau_I}[-r_I[k] + F_I(w_{IE}r_E[k] -w_{II}r_I[k] + I^{\\text{ext}}_I[k];a_I,\\theta_I)] \n",
        "\\end{align}"
      ]
    },
    {
      "cell_type": "markdown",
      "metadata": {
        "id": "CotRZjgUFmWn"
      },
      "source": [
        "### Coding Exercise 1.2: Numerically integrate the Wilson-Cowan equations\n",
        "\n",
        "We will implemenent this numerical simulation of our equations and visualize two simulations with similar initial points."
      ]
    },
    {
      "cell_type": "code",
      "metadata": {
        "execution": {
          "iopub.execute_input": "2021-06-25T15:15:16.184807Z",
          "iopub.status.busy": "2021-06-25T15:15:16.183721Z",
          "iopub.status.idle": "2021-06-25T15:15:16.185327Z",
          "shell.execute_reply": "2021-06-25T15:15:16.185693Z"
        },
        "id": "Ctn5uh1AFmWn"
      },
      "source": [
        "def simulate_wc(tau_E, a_E, theta_E, tau_I, a_I, theta_I,\n",
        "                wEE, wEI, wIE, wII, I_ext_E, I_ext_I,\n",
        "                rE_init, rI_init, dt, range_t, **other_pars):\n",
        "  \"\"\"\n",
        "  Simulate the Wilson-Cowan equations\n",
        "\n",
        "  Args:\n",
        "    Parameters of the Wilson-Cowan model\n",
        "\n",
        "  Returns:\n",
        "    rE, rI (arrays) : Activity of excitatory and inhibitory populations\n",
        "  \"\"\"\n",
        "  # Initialize activity arrays\n",
        "  Lt = range_t.size\n",
        "  rE = np.append(rE_init, np.zeros(Lt - 1))\n",
        "  rI = np.append(rI_init, np.zeros(Lt - 1))\n",
        "  I_ext_E = I_ext_E * np.ones(Lt)\n",
        "  I_ext_I = I_ext_I * np.ones(Lt)\n",
        "\n",
        "  # Simulate the Wilson-Cowan equations\n",
        "  for k in range(Lt - 1):\n",
        "\n",
        "    ########################################################################\n",
        "    # TODO for students: compute drE and drI and remove the error\n",
        "    raise NotImplementedError(\"Student exercise: compute the change in E/I\")\n",
        "    ########################################################################\n",
        "\n",
        "    # Calculate the derivative of the E population\n",
        "    drE = ...\n",
        "\n",
        "    # Calculate the derivative of the I population\n",
        "    drI = ...\n",
        "\n",
        "    # Update using Euler's method\n",
        "    rE[k + 1] = rE[k] + drE\n",
        "    rI[k + 1] = rI[k] + drI\n",
        "\n",
        "  return rE, rI\n",
        "\n",
        "\n",
        "pars = default_pars()\n",
        "\n",
        "# Simulate first trajectory\n",
        "rE1, rI1 = simulate_wc(**default_pars(rE_init=.32, rI_init=.15))\n",
        "\n",
        "# Simulate second trajectory\n",
        "rE2, rI2 = simulate_wc(**default_pars(rE_init=.33, rI_init=.15))\n",
        "\n",
        "# Visualize\n",
        "my_test_plot(pars['range_t'], rE1, rI1, rE2, rI2)"
      ],
      "execution_count": null,
      "outputs": []
    },
    {
      "cell_type": "code",
      "metadata": {
        "cellView": "both",
        "execution": {
          "iopub.execute_input": "2021-06-25T15:15:16.217680Z",
          "iopub.status.busy": "2021-06-25T15:15:16.215101Z",
          "iopub.status.idle": "2021-06-25T15:15:16.571140Z",
          "shell.execute_reply": "2021-06-25T15:15:16.570672Z"
        },
        "id": "R8fBcwejFmWo",
        "colab": {
          "base_uri": "https://localhost:8080/",
          "height": 288
        },
        "outputId": "57f568bb-e669-44ad-cc7e-3657d326463d"
      },
      "source": [
        "# to_remove solution\n",
        "def simulate_wc(tau_E, a_E, theta_E, tau_I, a_I, theta_I,\n",
        "                wEE, wEI, wIE, wII, I_ext_E, I_ext_I,\n",
        "                rE_init, rI_init, dt, range_t, **other_pars):\n",
        "  \"\"\"\n",
        "  Simulate the Wilson-Cowan equations\n",
        "\n",
        "  Args:\n",
        "    Parameters of the Wilson-Cowan model\n",
        "\n",
        "  Returns:\n",
        "    rE, rI (arrays) : Activity of excitatory and inhibitory populations\n",
        "  \"\"\"\n",
        "  # Initialize activity arrays\n",
        "  Lt = range_t.size\n",
        "  rE = np.append(rE_init, np.zeros(Lt - 1))\n",
        "  rI = np.append(rI_init, np.zeros(Lt - 1))\n",
        "  I_ext_E = I_ext_E * np.ones(Lt)\n",
        "  I_ext_I = I_ext_I * np.ones(Lt)\n",
        "\n",
        "  # Simulate the Wilson-Cowan equations\n",
        "  for k in range(Lt - 1):\n",
        "\n",
        "    # Calculate the derivative of the E population\n",
        "    drE = dt / tau_E * (-rE[k] + F(wEE * rE[k] - wEI * rI[k] + I_ext_E[k],\n",
        "                                   a_E, theta_E))\n",
        "\n",
        "    # Calculate the derivative of the I population\n",
        "    drI = dt / tau_I * (-rI[k] + F(wIE * rE[k] - wII * rI[k] + I_ext_I[k],\n",
        "                                   a_I, theta_I))\n",
        "\n",
        "    # Update using Euler's method\n",
        "    rE[k + 1] = rE[k] + drE\n",
        "    rI[k + 1] = rI[k] + drI\n",
        "\n",
        "  return rE, rI\n",
        "\n",
        "\n",
        "pars = default_pars()\n",
        "\n",
        "# Simulate first trajectory\n",
        "rE1, rI1 = simulate_wc(**default_pars(rE_init=.32, rI_init=.15))\n",
        "\n",
        "# Simulate second trajectory\n",
        "rE2, rI2 = simulate_wc(**default_pars(rE_init=.33, rI_init=.15))\n",
        "\n",
        "# Visualize\n",
        "with plt.xkcd():\n",
        "  my_test_plot(pars['range_t'], rE1, rI1, rE2, rI2)"
      ],
      "execution_count": 11,
      "outputs": [
        {
          "output_type": "display_data",
          "data": {
            "image/png": "[encoded data removed]",
            "text/plain": [
              "<Figure size 432x288 with 2 Axes>"
            ]
          },
          "metadata": {
            "tags": []
          }
        }
      ]
    },
    {
      "cell_type": "markdown",
      "metadata": {
        "id": "cYeu4NuRFmWo"
      },
      "source": [
        "The two plots above show the temporal evolution of excitatory ($r_E$, blue) and inhibitory ($r_I$, red) activity for two different sets of initial conditions."
      ]
    },
    {
      "cell_type": "markdown",
      "metadata": {
        "id": "J9J1lVK3FmWo"
      },
      "source": [
        "### Interactive Demo 1.2: population trajectories with different initial values\n",
        "In this interactive demo, we will simulate the Wilson-Cowan model and plot the trajectories of each population. We change the initial activity of the excitatory population.\n",
        "\n",
        "\n",
        "What happens to the E and I population trajectories with different initial conditions?\n",
        "\n"
      ]
    },
    {
      "cell_type": "code",
      "metadata": {
        "cellView": "form",
        "execution": {
          "iopub.execute_input": "2021-06-25T15:15:16.590841Z",
          "iopub.status.busy": "2021-06-25T15:15:16.590384Z",
          "iopub.status.idle": "2021-06-25T15:15:16.801596Z",
          "shell.execute_reply": "2021-06-25T15:15:16.802004Z"
        },
        "id": "6bQ0DvN-FmWp",
        "colab": {
          "base_uri": "https://localhost:8080/",
          "height": 311,
          "referenced_widgets": [
            "b56fd90b4fa640aebf32ed89f15fc433",
            "081bf08ca51a4ddea4cf44b687bf60fe",
            "87cffb2b3aa84131807a48b219135fa1",
            "a428d913873242e58ed3b4ffc8867ec6",
            "07073259fc4a466b87cbe05cd5311bb4",
            "0aa1c68e7e024323a9987b21afbc60d5",
            "984e4a6cb85d4329832ca92f203d8a65"
          ]
        },
        "outputId": "a2bbbcbd-eb1e-43a6-f914-0eb5f271f5a1"
      },
      "source": [
        "# @title\n",
        "\n",
        "# @markdown Make sure you execute this cell to enable the widget!\n",
        "\n",
        "\n",
        "def plot_EI_diffinitial(rE_init=0.0):\n",
        "\n",
        "  pars = default_pars(rE_init=rE_init, rI_init=.15)\n",
        "  rE, rI = simulate_wc(**pars)\n",
        "\n",
        "  plt.figure()\n",
        "  plt.plot(pars['range_t'], rE, 'b', label='E population')\n",
        "  plt.plot(pars['range_t'], rI, 'r', label='I population')\n",
        "  plt.xlabel('t (ms)')\n",
        "  plt.ylabel('Activity')\n",
        "  plt.legend(loc='best')\n",
        "  plt.show()\n",
        "\n",
        "\n",
        "_ = widgets.interact(plot_EI_diffinitial, rE_init=(0.30, 0.35, .01))"
      ],
      "execution_count": 13,
      "outputs": [
        {
          "output_type": "display_data",
          "data": {
            "application/vnd.jupyter.widget-view+json": {
              "model_id": "b56fd90b4fa640aebf32ed89f15fc433",
              "version_minor": 0,
              "version_major": 2
            },
            "text/plain": [
              "interactive(children=(FloatSlider(value=0.3, description='rE_init', max=0.35, min=0.3, step=0.01), Output()), …"
            ]
          },
          "metadata": {
            "tags": []
          }
        }
      ]
    },
    {
      "cell_type": "code",
      "metadata": {
        "colab": {
          "base_uri": "https://localhost:8080/",
          "height": 53
        },
        "id": "bAKxsWu-eQjC",
        "outputId": "8316fc12-0690-4ba9-d263-c704561111e3"
      },
      "source": [
        "# to_remove explanation\n",
        "\n",
        "\"\"\"\n",
        "\n",
        "Sometimes both the excitatory and inhibitory population activities decay to 0 and \n",
        "sometimes they level out at different positive values.\n",
        "\n",
        "\"\"\""
      ],
      "execution_count": 14,
      "outputs": [
        {
          "output_type": "execute_result",
          "data": {
            "application/vnd.google.colaboratory.intrinsic+json": {
              "type": "string"
            },
            "text/plain": [
              "'\\n\\nSometimes both the excitatory and inhibitory population activities decay to 0 and \\nsometimes they level out at different positive values.\\n\\n'"
            ]
          },
          "metadata": {
            "tags": []
          },
          "execution_count": 14
        }
      ]
    },
    {
      "cell_type": "markdown",
      "metadata": {
        "id": "9Fmn6YevFmWp"
      },
      "source": [
        "### Think! 1.2\n",
        "It is evident that the steady states of the neuronal response can be different when different initial states are chosen. Why is that? \n",
        "\n",
        "We will discuss this in the next section but try to think about it first."
      ]
    },
    {
      "cell_type": "markdown",
      "metadata": {
        "id": "JQp1LwPbFmWp"
      },
      "source": [
        "---\n",
        "# Section 2: Phase plane analysis\n",
        "\n",
        "*Estimated timing to here from start of tutorial: 45 min*\n",
        "\n",
        "Just like we used a graphical method to study the dynamics of a 1-D system in the previous tutorial, here we will learn a  graphical approach called **phase plane analysis** to study the dynamics of a 2-D system like the Wilson-Cowan model. You have seen this before in the [pre-reqs calculus day](https://compneuro.neuromatch.io/tutorials/W0D4_Calculus/student/W0D4_Tutorial3.html#section-3-2-phase-plane-plot-and-nullcline) and on the [Linear Systems day](https://compneuro.neuromatch.io/tutorials/W2D2_LinearSystems/student/W2D2_Tutorial1.html#section-4-stream-plots)\n",
        "\n",
        "So far, we have plotted the activities of the two populations as a function of time, i.e., in the `Activity-t` plane, either the $(t, r_E(t))$ plane or the $(t, r_I(t))$ one. Instead, we can plot the two activities $r_E(t)$ and $r_I(t)$ against each other at any time point $t$. This characterization in the `rI-rE` plane $(r_I(t), r_E(t))$ is called the **phase plane**. Each line in the phase plane indicates how both $r_E$ and $r_I$ evolve with time."
      ]
    },
    {
      "cell_type": "code",
      "metadata": {
        "execution": {
          "iopub.execute_input": "2021-06-25T15:15:16.816728Z",
          "iopub.status.busy": "2021-06-25T15:15:16.816175Z",
          "iopub.status.idle": "2021-06-25T15:15:16.936377Z",
          "shell.execute_reply": "2021-06-25T15:15:16.936794Z"
        },
        "id": "FAHaJVu4FmWq",
        "colab": {
          "base_uri": "https://localhost:8080/",
          "height": 580,
          "referenced_widgets": [
            "54716cadc9fe46dfab6444b87c80b8a3",
            "dcd71121c3434ce395b77f9b57ffe47b",
            "21109870e2014b348391ebb6f41e9728",
            "a29258fb77f442d1b86d53f6ce1e8506",
            "2b5b9f2ee17d4a0a905f849cb6f3ec7d",
            "3cda445815094822ab46c81dc7f4a484"
          ]
        },
        "cellView": "form",
        "outputId": "bc21407a-0b66-473d-d450-039cf35c7b59"
      },
      "source": [
        "# @title Video 2: Nullclines and Vector Fields\n",
        "from ipywidgets import widgets\n",
        "\n",
        "out2 = widgets.Output()\n",
        "with out2:\n",
        "  from IPython.display import IFrame\n",
        "  class BiliVideo(IFrame):\n",
        "      def __init__(self, id, page=1, width=400, height=300, **kwargs):\n",
        "          self.id=id\n",
        "          src = 'https://player.bilibili.com/player.html?bvid={0}&page={1}'.format(id, page)\n",
        "          super(BiliVideo, self).__init__(src, width, height, **kwargs)\n",
        "\n",
        "  video = BiliVideo(id=\"BV15k4y1m7Kt\", width=854, height=480, fs=1)\n",
        "  print('Video available at https://www.bilibili.com/video/{0}'.format(video.id))\n",
        "  display(video)\n",
        "\n",
        "out1 = widgets.Output()\n",
        "with out1:\n",
        "  from IPython.display import YouTubeVideo\n",
        "  video = YouTubeVideo(id=\"V2SBAK2Xf8Y\", width=854, height=480, fs=1, rel=0)\n",
        "  print('Video available at https://youtube.com/watch?v=' + video.id)\n",
        "  display(video)\n",
        "\n",
        "out = widgets.Tab([out1, out2])\n",
        "out.set_title(0, 'Youtube')\n",
        "out.set_title(1, 'Bilibili')\n",
        "\n",
        "display(out)"
      ],
      "execution_count": 15,
      "outputs": [
        {
          "output_type": "display_data",
          "data": {
            "application/vnd.jupyter.widget-view+json": {
              "model_id": "54716cadc9fe46dfab6444b87c80b8a3",
              "version_minor": 0,
              "version_major": 2
            },
            "text/plain": [
              "Tab(children=(Output(), Output()), _titles={'0': 'Youtube', '1': 'Bilibili'})"
            ]
          },
          "metadata": {
            "tags": []
          }
        }
      ]
    },
    {
      "cell_type": "markdown",
      "metadata": {
        "id": "9-vjIG9qFmWq"
      },
      "source": [
        "## Interactive Demo 2: From the Activity - time plane to the **$r_I$ - $r_E$** phase plane\n",
        "\n",
        "In this demo, we will visualize the system dynamics using both the `Activity-time` and the `(rE, rI)` phase plane. The circles indicate the activities at a given time $t$, while the lines represent the evolution of the system for the entire duration of the simulation.\n",
        "\n",
        "Move the time slider to better understand how the top plot relates to the bottom plot. Does the bottom plot have explicit information about time? What information does it give us?"
      ]
    },
    {
      "cell_type": "code",
      "metadata": {
        "cellView": "form",
        "execution": {
          "iopub.execute_input": "2021-06-25T15:15:17.007583Z",
          "iopub.status.busy": "2021-06-25T15:15:16.990894Z",
          "iopub.status.idle": "2021-06-25T15:15:17.491311Z",
          "shell.execute_reply": "2021-06-25T15:15:17.490834Z"
        },
        "id": "IGlBVBf7FmWq",
        "colab": {
          "base_uri": "https://localhost:8080/",
          "height": 436,
          "referenced_widgets": [
            "41277d27ea9a4e8393cdd38f4b4cc165",
            "aa38f909470a4376814a83a9d09a111c",
            "4dca6f98bd6442ba9fb34413d638750a",
            "db5439f41c07496b89bab87eaafa7744",
            "d4a1bc30b96a46abbd8f4480b6c5d8e2",
            "ed8a2ec3703d4884af3a77102d9c289d",
            "ebe1cbde902f40bcb7bc13ef4d3ec33f"
          ]
        },
        "outputId": "569b2558-0782-4626-a8de-6c3217c9e55a"
      },
      "source": [
        "# @title\n",
        "\n",
        "# @markdown Make sure you execute this cell to enable the widget!\n",
        "\n",
        "pars = default_pars(T=10, rE_init=0.6, rI_init=0.8)\n",
        "rE, rI = simulate_wc(**pars)\n",
        "\n",
        "\n",
        "def plot_activity_phase(n_t):\n",
        "  plt.figure(figsize=(8, 5.5))\n",
        "  plt.subplot(211)\n",
        "  plt.plot(pars['range_t'], rE, 'b', label=r'$r_E$')\n",
        "  plt.plot(pars['range_t'], rI, 'r', label=r'$r_I$')\n",
        "  plt.plot(pars['range_t'][n_t], rE[n_t], 'bo')\n",
        "  plt.plot(pars['range_t'][n_t], rI[n_t], 'ro')\n",
        "  plt.axvline(pars['range_t'][n_t], 0, 1, color='k', ls='--')\n",
        "  plt.xlabel('t (ms)', fontsize=14)\n",
        "  plt.ylabel('Activity', fontsize=14)\n",
        "  plt.legend(loc='best', fontsize=14)\n",
        "\n",
        "  plt.subplot(212)\n",
        "  plt.plot(rE, rI, 'k')\n",
        "  plt.plot(rE[n_t], rI[n_t], 'ko')\n",
        "  plt.xlabel(r'$r_E$', fontsize=18, color='b')\n",
        "  plt.ylabel(r'$r_I$', fontsize=18, color='r')\n",
        "\n",
        "  plt.tight_layout()\n",
        "  plt.show()\n",
        "\n",
        "\n",
        "_ = widgets.interact(plot_activity_phase, n_t=(0, len(pars['range_t']) - 1, 1))"
      ],
      "execution_count": 16,
      "outputs": [
        {
          "output_type": "display_data",
          "data": {
            "application/vnd.jupyter.widget-view+json": {
              "model_id": "41277d27ea9a4e8393cdd38f4b4cc165",
              "version_minor": 0,
              "version_major": 2
            },
            "text/plain": [
              "interactive(children=(IntSlider(value=49, description='n_t', max=99), Output()), _dom_classes=('widget-interac…"
            ]
          },
          "metadata": {
            "tags": []
          }
        }
      ]
    },
    {
      "cell_type": "code",
      "metadata": {
        "execution": {
          "iopub.execute_input": "2021-06-25T15:15:17.497071Z",
          "iopub.status.busy": "2021-06-25T15:15:17.496067Z",
          "iopub.status.idle": "2021-06-25T15:15:17.497640Z",
          "shell.execute_reply": "2021-06-25T15:15:17.498059Z"
        },
        "id": "pTBmcl6OFmWr"
      },
      "source": [
        "# to_remove explanation\n",
        "\n",
        "\"\"\"\n",
        "- Phase plane portraits allows us to visualize out of all possible states which\n",
        "states a system can take. For example in this demo you see that the among all\n",
        "possible pairs of values for r1 and r2, this system can take only a limited number\n",
        "of states (those that lie on the black line).\n",
        "\n",
        "- There are other things we can infer from the phase portraits e.g. fixed\n",
        "points, trajectory to the fixed points etc.\n",
        "\n",
        "- Explicit information about time is not visible in the phase portraits\n",
        "\"\"\";"
      ],
      "execution_count": null,
      "outputs": []
    },
    {
      "cell_type": "markdown",
      "metadata": {
        "id": "zqA7l47AFmWr"
      },
      "source": [
        "## Section 2.1: Nullclines of the Wilson-Cowan Equations\n",
        "\n",
        "*Estimated timing to here from start of tutorial: 1 hour, 3 min*\n",
        "\n",
        "An important concept in the phase plane analysis is the \"nullcline\" which is defined as the set of points in the phase plane where the activity of one population (but not necessarily the other) does not change.\n",
        "\n",
        "In other words, the $E$ and $I$ nullclines of Equation $(1)$ are defined as the points where $\\displaystyle{\\frac{dr_E}{dt}}=0$, for the excitatory nullcline, or $\\displaystyle\\frac{dr_I}{dt}=0$ for the inhibitory nullcline. That is:\n",
        "\n",
        "\\begin{align}\n",
        "-r_E + F_E(w_{EE}r_E -w_{EI}r_I + I^{\\text{ext}}_E;a_E,\\theta_E) &= 0  \\qquad (2)\\\\[1mm]\n",
        "-r_I + F_I(w_{IE}r_E -w_{II}r_I + I^{\\text{ext}}_I;a_I,\\theta_I) &= 0    \\qquad (3)\n",
        "\\end{align}"
      ]
    },
    {
      "cell_type": "markdown",
      "metadata": {
        "id": "RlcAp66fFmWs"
      },
      "source": [
        "### Coding Exercise 2.1: Compute the nullclines of the Wilson-Cowan model\n",
        "\n",
        "In the next exercise, we will compute and plot the nullclines of the E and I population.\n"
      ]
    },
    {
      "cell_type": "markdown",
      "metadata": {
        "id": "UkH52MS4FmWs"
      },
      "source": [
        "Along the nullcline of excitatory population Equation $2$, you can calculate the inhibitory activity by rewriting Equation $2$ into\n",
        "\n",
        "\\begin{align}\n",
        "r_I = \\frac{1}{w_{EI}}\\big{[}w_{EE}r_E - F_E^{-1}(r_E; a_E,\\theta_E) + I^{\\text{ext}}_E \\big{]}. \\qquad(4)\n",
        "\\end{align}\n",
        "\n",
        "where $F_E^{-1}(r_E; a_E,\\theta_E)$ is the inverse of the excitatory transfer function (defined below). Equation $4$ defines the $r_E$ nullcline."
      ]
    },
    {
      "cell_type": "markdown",
      "metadata": {
        "id": "lhXdWcuOFmWs"
      },
      "source": [
        "Along the nullcline of inhibitory population Equation $3$, you can calculate the excitatory activity by rewriting Equation $3$ into \n",
        "\\begin{align}\n",
        "r_E = \\frac{1}{w_{IE}} \\big{[} w_{II}r_I + F_I^{-1}(r_I;a_I,\\theta_I) - I^{\\text{ext}}_I \\big{]}.  \\qquad (5)  \n",
        "\\end{align}\n",
        "\n",
        "shere $F_I^{-1}(r_I; a_I,\\theta_I)$ is the inverse of the inhibitory transfer function (defined below). Equation $5$ defines the $I$ nullcline."
      ]
    },
    {
      "cell_type": "markdown",
      "metadata": {
        "id": "Ci07CuGDFmWs"
      },
      "source": [
        "Note that, when computing the nullclines with Equations 4-5, we also need to calculate the inverse of the transfer functions. \\\\\n",
        "\n",
        "The inverse of the sigmoid shaped **f-I** function that we have been using is:\n",
        "\n",
        "$$F^{-1}(x; a, \\theta) = -\\frac{1}{a} \\ln \\left[ \\frac{1}{x + \\displaystyle \\frac{1}{1+\\text{e}^{a\\theta}}} - 1 \\right] + \\theta \\qquad (6)$$\n",
        "\n",
        "The first step is to implement the inverse transfer function:"
      ]
    },
    {
      "cell_type": "code",
      "metadata": {
        "execution": {
          "iopub.execute_input": "2021-06-25T15:15:17.503880Z",
          "iopub.status.busy": "2021-06-25T15:15:17.502651Z",
          "iopub.status.idle": "2021-06-25T15:15:17.504511Z",
          "shell.execute_reply": "2021-06-25T15:15:17.504958Z"
        },
        "id": "w_QkcLH4FmWs"
      },
      "source": [
        "def F_inv(x, a, theta):\n",
        "  \"\"\"\n",
        "  Args:\n",
        "    x         : the population input\n",
        "    a         : the gain of the function\n",
        "    theta     : the threshold of the function\n",
        "\n",
        "  Returns:\n",
        "    F_inverse : value of the inverse function\n",
        "  \"\"\"\n",
        "\n",
        "  #########################################################################\n",
        "  # TODO for students: compute F_inverse\n",
        "  raise NotImplementedError(\"Student exercise: compute the inverse of F(x)\")\n",
        "  #########################################################################\n",
        "  \n",
        "  # Calculate Finverse (ln(x) can be calculated as np.log(x))\n",
        "  F_inverse = ...\n",
        "\n",
        "  return F_inverse\n",
        "\n",
        "\n",
        "# Set parameters\n",
        "pars = default_pars()\n",
        "x = np.linspace(1e-6, 1, 100)\n",
        "\n",
        "# Get inverse and visualize\n",
        "plot_FI_inverse(x, a=1, theta=3)"
      ],
      "execution_count": null,
      "outputs": []
    },
    {
      "cell_type": "code",
      "metadata": {
        "execution": {
          "iopub.execute_input": "2021-06-25T15:15:17.526345Z",
          "iopub.status.busy": "2021-06-25T15:15:17.524417Z",
          "iopub.status.idle": "2021-06-25T15:15:17.747235Z",
          "shell.execute_reply": "2021-06-25T15:15:17.747675Z"
        },
        "id": "ARLFJlWwFmWt",
        "colab": {
          "base_uri": "https://localhost:8080/",
          "height": 322
        },
        "outputId": "43f4f5aa-a0b3-4b51-d6ff-3d96e4b98715"
      },
      "source": [
        "# to_remove solution\n",
        "def F_inv(x, a, theta):\n",
        "  \"\"\"\n",
        "  Args:\n",
        "    x         : the population input\n",
        "    a         : the gain of the function\n",
        "    theta     : the threshold of the function\n",
        "\n",
        "  Returns:\n",
        "    F_inverse : value of the inverse function\n",
        "  \"\"\"\n",
        "\n",
        "  # Calculate Finverse (ln(x) can be calculated as np.log(x))\n",
        "  F_inverse = -1/a * np.log((x + (1 + np.exp(a * theta))**-1)**-1 - 1) + theta\n",
        "\n",
        "  return F_inverse\n",
        "\n",
        "\n",
        "# Set parameters\n",
        "pars = default_pars()\n",
        "x = np.linspace(1e-6, 1, 100)\n",
        "\n",
        "# Get inverse and visualize\n",
        "with plt.xkcd():\n",
        "  plot_FI_inverse(x, a=1, theta=3)"
      ],
      "execution_count": 17,
      "outputs": [
        {
          "output_type": "stream",
          "text": [
            "/usr/local/lib/python3.7/dist-packages/ipykernel_launcher.py:14: RuntimeWarning: invalid value encountered in log\n",
            "  \n"
          ],
          "name": "stderr"
        },
        {
          "output_type": "display_data",
          "data": {
            "image/png": "[encoded data removed]",
            "text/plain": [
              "<Figure size 432x288 with 1 Axes>"
            ]
          },
          "metadata": {
            "tags": []
          }
        }
      ]
    },
    {
      "cell_type": "markdown",
      "metadata": {
        "id": "Y58hHW2ZFmWt"
      },
      "source": [
        "Now you can compute the nullclines, using Equations 4-5 (repeated here for ease of access):\n",
        "\n",
        "\\begin{align}\n",
        "r_I = \\frac{1}{w_{EI}}\\big{[}w_{EE}r_E - F_E^{-1}(r_E; a_E,\\theta_E) + I^{\\text{ext}}_E \\big{]}. \\qquad(4)\n",
        "\\end{align}\n",
        "\n",
        "\\begin{align}\n",
        "r_E = \\frac{1}{w_{IE}} \\big{[} w_{II}r_I + F_I^{-1}(r_I;a_I,\\theta_I) - I^{\\text{ext}}_I \\big{]}.  \\qquad (5)  \n",
        "\\end{align}"
      ]
    },
    {
      "cell_type": "code",
      "metadata": {
        "execution": {
          "iopub.execute_input": "2021-06-25T15:15:17.754936Z",
          "iopub.status.busy": "2021-06-25T15:15:17.753708Z",
          "iopub.status.idle": "2021-06-25T15:15:17.755720Z",
          "shell.execute_reply": "2021-06-25T15:15:17.756274Z"
        },
        "id": "omoberF8FmWt"
      },
      "source": [
        "def get_E_nullcline(rE, a_E, theta_E, wEE, wEI, I_ext_E, **other_pars):\n",
        "  \"\"\"\n",
        "  Solve for rI along the rE from drE/dt = 0.\n",
        "\n",
        "  Args:\n",
        "    rE    : response of excitatory population\n",
        "    a_E, theta_E, wEE, wEI, I_ext_E : Wilson-Cowan excitatory parameters\n",
        "    Other parameters are ignored\n",
        "\n",
        "  Returns:\n",
        "    rI    : values of inhibitory population along the nullcline on the rE\n",
        "  \"\"\"\n",
        "  #########################################################################\n",
        "  # TODO for students: compute rI for rE nullcline and disable the error\n",
        "  raise NotImplementedError(\"Student exercise: compute the E nullcline\")\n",
        "  #########################################################################\n",
        "\n",
        "  # calculate rI for E nullclines on rI\n",
        "  rI = ...\n",
        "\n",
        "  return rI\n",
        "\n",
        "\n",
        "def get_I_nullcline(rI, a_I, theta_I, wIE, wII, I_ext_I, **other_pars):\n",
        "  \"\"\"\n",
        "  Solve for E along the rI from dI/dt = 0.\n",
        "\n",
        "  Args:\n",
        "    rI    : response of inhibitory population\n",
        "    a_I, theta_I, wIE, wII, I_ext_I : Wilson-Cowan inhibitory parameters\n",
        "    Other parameters are ignored\n",
        "\n",
        "  Returns:\n",
        "    rE    : values of the excitatory population along the nullcline on the rI\n",
        "  \"\"\"\n",
        "  #########################################################################\n",
        "  # TODO for students: compute rI for rE nullcline and disable the error\n",
        "  raise NotImplementedError(\"Student exercise: compute the I nullcline\")\n",
        "  #########################################################################\n",
        "\n",
        "  # calculate rE for I nullclines on rI\n",
        "  rE = ...\n",
        "\n",
        "  return rE\n",
        "\n",
        "\n",
        "# Set parameters\n",
        "pars = default_pars()\n",
        "Exc_null_rE = np.linspace(-0.01, 0.96, 100)\n",
        "Inh_null_rI = np.linspace(-.01, 0.8, 100)\n",
        "\n",
        "# Compute nullclines\n",
        "Exc_null_rI = get_E_nullcline(Exc_null_rE, **pars)\n",
        "Inh_null_rE = get_I_nullcline(Inh_null_rI, **pars)\n",
        "\n",
        "# Visualize\n",
        "plot_nullclines(Exc_null_rE, Exc_null_rI, Inh_null_rE, Inh_null_rI)"
      ],
      "execution_count": null,
      "outputs": []
    },
    {
      "cell_type": "code",
      "metadata": {
        "cellView": "both",
        "execution": {
          "iopub.execute_input": "2021-06-25T15:15:17.799765Z",
          "iopub.status.busy": "2021-06-25T15:15:17.765139Z",
          "iopub.status.idle": "2021-06-25T15:15:18.015578Z",
          "shell.execute_reply": "2021-06-25T15:15:18.016379Z"
        },
        "id": "GC5ntA-XFmWu",
        "colab": {
          "base_uri": "https://localhost:8080/",
          "height": 290
        },
        "outputId": "818cb996-9937-4d02-bf6c-df33f08354fc"
      },
      "source": [
        "# to_remove solution\n",
        "def get_E_nullcline(rE, a_E, theta_E, wEE, wEI, I_ext_E, **other_pars):\n",
        "  \"\"\"\n",
        "  Solve for rI along the rE from drE/dt = 0.\n",
        "\n",
        "  Args:\n",
        "    rE    : response of excitatory population\n",
        "    a_E, theta_E, wEE, wEI, I_ext_E : Wilson-Cowan excitatory parameters\n",
        "    Other parameters are ignored\n",
        "\n",
        "  Returns:\n",
        "    rI    : values of inhibitory population along the nullcline on the rE\n",
        "  \"\"\"\n",
        "  # calculate rI for E nullclines on rI\n",
        "  rI = 1 / wEI * (wEE * rE - F_inv(rE, a_E, theta_E) + I_ext_E)\n",
        "\n",
        "  return rI\n",
        "\n",
        "\n",
        "def get_I_nullcline(rI, a_I, theta_I, wIE, wII, I_ext_I, **other_pars):\n",
        "  \"\"\"\n",
        "  Solve for E along the rI from dI/dt = 0.\n",
        "\n",
        "  Args:\n",
        "    rI    : response of inhibitory population\n",
        "    a_I, theta_I, wIE, wII, I_ext_I : Wilson-Cowan inhibitory parameters\n",
        "    Other parameters are ignored\n",
        "\n",
        "  Returns:\n",
        "    rE    : values of the excitatory population along the nullcline on the rI\n",
        "  \"\"\"\n",
        "  # calculate rE for I nullclines on rI\n",
        "  rE = 1 / wIE * (wII * rI + F_inv(rI, a_I, theta_I) - I_ext_I)\n",
        "\n",
        "  return rE\n",
        "\n",
        "\n",
        "# Set parameters\n",
        "pars = default_pars()\n",
        "Exc_null_rE = np.linspace(-0.01, 0.96, 100)\n",
        "Inh_null_rI = np.linspace(-.01, 0.8, 100)\n",
        "\n",
        "# Compute nullclines\n",
        "Exc_null_rI = get_E_nullcline(Exc_null_rE, **pars)\n",
        "Inh_null_rE = get_I_nullcline(Inh_null_rI, **pars)\n",
        "\n",
        "# Visualize\n",
        "with plt.xkcd():\n",
        "  plot_nullclines(Exc_null_rE, Exc_null_rI, Inh_null_rE, Inh_null_rI)"
      ],
      "execution_count": 18,
      "outputs": [
        {
          "output_type": "display_data",
          "data": {
            "image/png": "[encoded data removed]",
            "text/plain": [
              "<Figure size 432x288 with 1 Axes>"
            ]
          },
          "metadata": {
            "tags": []
          }
        }
      ]
    },
    {
      "cell_type": "markdown",
      "metadata": {
        "id": "PgC5FWrcFmWu"
      },
      "source": [
        "Note that by definition along the blue line in the phase-plane spanned by $r_E, r_I$, $\\displaystyle{\\frac{dr_E(t)}{dt}} = 0$, therefore, it is called a nullcline. \n",
        "\n",
        "That is, the blue nullcline divides the phase-plane spanned by $r_E, r_I$ into two regions: on one side of the nullcline $\\displaystyle{\\frac{dr_E(t)}{dt}} > 0$ and on the other side $\\displaystyle{\\frac{dr_E(t)}{dt}} < 0$.\n",
        "\n",
        "The same is true for the red line along which $\\displaystyle{\\frac{dr_I(t)}{dt}} = 0$. That is, the red nullcline divides the phase-plane spanned by $r_E, r_I$ into two regions: on one side of the nullcline $\\displaystyle{\\frac{dr_I(t)}{dt}} > 0$ and on the other side $\\displaystyle{\\frac{dr_I(t)}{dt}} < 0$.\n"
      ]
    },
    {
      "cell_type": "markdown",
      "metadata": {
        "id": "_k1cxLWlFmWv"
      },
      "source": [
        "## Section 2.2: Vector field\n",
        "\n",
        "*Estimated timing to here from start of tutorial: 1 hour, 20 min*\n",
        "\n",
        "How can the phase plane and the nullcline curves help us understand the behavior of the Wilson-Cowan model? \n",
        "\n",
        "<details>\n",
        "<summary> <font color='blue'>Click here for text recap of relevant part of video </font></summary>\n",
        "\n",
        "The activities of the $E$ and $I$ populations $r_E(t)$ and $r_I(t)$ at each time point $t$ correspond to a single point in the phase plane, with coordinates $(r_E(t),r_I(t))$. Therefore, the time-dependent trajectory of the system can be described as a continuous curve in the phase plane, and the tangent vector to the trajectory, which is defined as the vector $\\bigg{(}\\displaystyle{\\frac{dr_E(t)}{dt},\\frac{dr_I(t)}{dt}}\\bigg{)}$, indicates the direction towards which the activity is evolving and how fast is the activity changing along each axis. In fact, for each point $(E,I)$ in the phase plane, we can compute the tangent vector $\\bigg{(}\\displaystyle{\\frac{dr_E}{dt},\\frac{dr_I}{dt}}\\bigg{)}$, which  indicates the behavior of the system when it traverses that point. \n",
        "\n",
        "The map of tangent vectors in the phase plane is called **vector field**. The behavior of any trajectory in the phase plane is determined by i) the initial conditions $(r_E(0),r_I(0))$, and ii) the vector field $\\bigg{(}\\displaystyle{\\frac{dr_E(t)}{dt},\\frac{dr_I(t)}{dt}}\\bigg{)}$.\n",
        "\n",
        "In general, the value of the vector field at a particular point in the phase plane is represented by an arrow. The orientation and the size of the arrow reflect the direction and the norm of the vector, respectively."
      ]
    },
    {
      "cell_type": "markdown",
      "metadata": {
        "id": "qnbNEfAuFmWv"
      },
      "source": [
        "### Coding Exercise 2.2: Compute and plot the vector field $\\displaystyle{\\Big{(}\\frac{dr_E}{dt}, \\frac{dr_I}{dt} \\Big{)}}$\n",
        "\n",
        "Note that\n",
        "\n",
        "\\begin{align}\n",
        "\\frac{dr_E}{dt} &= [-r_E + F_E(w_{EE}r_E -w_{EI}r_I + I^{\\text{ext}}_E;a_E,\\theta_E)]\\frac{1}{\\tau_E}\\\\\n",
        "\\frac{dr_I}{dt} &= [-r_I + F_I(w_{IE}r_E -w_{II}r_I + I^{\\text{ext}}_I;a_I,\\theta_I)]\\frac{1}{\\tau_I}    \n",
        "\\end{align}"
      ]
    },
    {
      "cell_type": "code",
      "metadata": {
        "execution": {
          "iopub.execute_input": "2021-06-25T15:15:18.021397Z",
          "iopub.status.busy": "2021-06-25T15:15:18.020888Z",
          "iopub.status.idle": "2021-06-25T15:15:18.025329Z",
          "shell.execute_reply": "2021-06-25T15:15:18.024600Z"
        },
        "id": "ctAmXhNJFmWv"
      },
      "source": [
        "def EIderivs(rE, rI,\n",
        "             tau_E, a_E, theta_E, wEE, wEI, I_ext_E,\n",
        "             tau_I, a_I, theta_I, wIE, wII, I_ext_I,\n",
        "             **other_pars):\n",
        "  \"\"\"Time derivatives for E/I variables (dE/dt, dI/dt).\"\"\"\n",
        "  ######################################################################\n",
        "  # TODO for students: compute drEdt and drIdt and disable the error\n",
        "  raise NotImplementedError(\"Student exercise: compute the vector field\")\n",
        "  ######################################################################\n",
        "  \n",
        "  # Compute the derivative of rE\n",
        "  drEdt = ...\n",
        "\n",
        "  # Compute the derivative of rI\n",
        "  drIdt = ...\n",
        "\n",
        "  return drEdt, drIdt\n",
        "\n",
        "\n",
        "# Create vector field using EIderivs\n",
        "plot_complete_analysis(default_pars())"
      ],
      "execution_count": null,
      "outputs": []
    },
    {
      "cell_type": "code",
      "metadata": {
        "cellView": "both",
        "execution": {
          "iopub.execute_input": "2021-06-25T15:15:18.055344Z",
          "iopub.status.busy": "2021-06-25T15:15:18.051219Z",
          "iopub.status.idle": "2021-06-25T15:15:18.602469Z",
          "shell.execute_reply": "2021-06-25T15:15:18.601990Z"
        },
        "id": "nQ9tyslPFmWw",
        "colab": {
          "base_uri": "https://localhost:8080/",
          "height": 398
        },
        "outputId": "f8bed35d-442f-4431-fb89-e35723f19887"
      },
      "source": [
        "# to_remove solution\n",
        "def EIderivs(rE, rI,\n",
        "             tau_E, a_E, theta_E, wEE, wEI, I_ext_E,\n",
        "             tau_I, a_I, theta_I, wIE, wII, I_ext_I,\n",
        "             **other_pars):\n",
        "  \"\"\"Time derivatives for E/I variables (dE/dt, dI/dt).\"\"\"\n",
        "\n",
        "  # Compute the derivative of rE\n",
        "  drEdt = (-rE + F(wEE * rE - wEI * rI + I_ext_E, a_E, theta_E)) / tau_E\n",
        "  \n",
        "  # Compute the derivative of rI\n",
        "  drIdt = (-rI + F(wIE * rE - wII * rI + I_ext_I, a_I, theta_I)) / tau_I\n",
        "\n",
        "  return drEdt, drIdt\n",
        "\n",
        "\n",
        "# Create vector field using EIderivs\n",
        "with plt.xkcd():\n",
        "  plot_complete_analysis(default_pars())"
      ],
      "execution_count": 19,
      "outputs": [
        {
          "output_type": "display_data",
          "data": {
            "image/png": "[encoded data removed]",
            "text/plain": [
              "<Figure size 554.4x432 with 1 Axes>"
            ]
          },
          "metadata": {
            "tags": []
          }
        }
      ]
    },
    {
      "cell_type": "markdown",
      "metadata": {
        "id": "3HvYp_M4FmWw"
      },
      "source": [
        "\n",
        "The last phase plane plot shows us that: \n",
        "- Trajectories seem to follow the direction of the vector field\n",
        "- Different trajectories eventually always reach one of two points depending on the initial conditions. \n",
        "- The two points where the trajectories converge are the intersection of the two nullcline curves. "
      ]
    },
    {
      "cell_type": "markdown",
      "metadata": {
        "id": "8KPYY_1VFmWw"
      },
      "source": [
        "## Think! 2.2: Analyzing the vector field\n",
        "\n",
        "There are, in total, three intersection points, meaning that the system has three fixed points.\n",
        "\n",
        "1. One of the fixed points (the one in the middle) is never the final state of a trajectory. Why is that? \n",
        "2. Why the arrows tend to get smaller as they approach the fixed points?"
      ]
    },
    {
      "cell_type": "code",
      "metadata": {
        "execution": {
          "iopub.execute_input": "2021-06-25T15:15:18.606706Z",
          "iopub.status.busy": "2021-06-25T15:15:18.606162Z",
          "iopub.status.idle": "2021-06-25T15:15:18.609674Z",
          "shell.execute_reply": "2021-06-25T15:15:18.609213Z"
        },
        "id": "6ppZ9IegFmWw"
      },
      "source": [
        "# to_remove explanation\n",
        "\n",
        "\"\"\"\n",
        "\n",
        "1. Because the middle fixed point is unstable. Trajectories only point to stable\n",
        "fixed points.\n",
        "\n",
        "2. The slope of dr/dt determines the speed at which the system states will evolve.\n",
        "At the nullclines dr_e/dt = 0 and/or dr_i/dt = 0. That means as we move close to\n",
        "the nullclines the dr/dt becomes smaller and smaller. Therefore the system state\n",
        "evolves slower and slower as we approach the nullcline.\n",
        "\"\"\";"
      ],
      "execution_count": null,
      "outputs": []
    },
    {
      "cell_type": "markdown",
      "metadata": {
        "id": "zfcHMY-rFmWw"
      },
      "source": [
        "---\n",
        "# Summary\n",
        "\n",
        "*Estimated timing of tutorial: 1 hour, 35 minutes*\n",
        "\n",
        "Congratulations! You have finished the fourth day of the second week of the neuromatch academy! Here, you learned how to simulate a rate based model consisting of excitatory and inhibitory population of neurons.\n",
        "\n",
        "In the last tutorial on dynamical neuronal networks you learned to:\n",
        "- Implement and simulate a 2D system composed of an E and an I population of neurons using the **Wilson-Cowan** model\n",
        "- Plot the frequency-current (F-I) curves for both populations\n",
        "- Examine the behavior of the system using phase **plane analysis**, **vector fields**, and **nullclines**.\n",
        "\n",
        "Do you have more time? Have you finished early? We have more fun material for you! \n",
        "\n",
        "In the second bonus tutorial are some, more advanced concepts on dynamical systems:\n",
        "\n",
        "- You will learn how to find the fixed points on such a system, and to investigate its stability by linearizing its dynamics and examining the **Jacobian matrix**.\n",
        "- You will see identify conditions under which the Wilson-Cowan model can exhibit oscillations.\n",
        "\n",
        "If you need even more, there are two applications of the Wilson-Cowan model:\n",
        "\n",
        "- Visualization of an Inhibition-stabilized network\n",
        "- Simulation of working memory"
      ]
    }
  ]
}