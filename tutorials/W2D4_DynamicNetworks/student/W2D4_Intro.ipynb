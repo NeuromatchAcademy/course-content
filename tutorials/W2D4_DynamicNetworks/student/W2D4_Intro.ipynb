{
 "cells": [
  {
   "cell_type": "markdown",
   "metadata": {},
   "source": [
    "<a href=\"https://colab.research.google.com/github/NeuromatchAcademy/course-content/blob/master/tutorials/W2D4_DynamicNetworks/student/W2D4_Intro.ipynb\" target=\"_parent\"><img src=\"https://colab.research.google.com/assets/colab-badge.svg\" alt=\"Open In Colab\"/></a>"
   ]
  },
  {
   "cell_type": "markdown",
   "metadata": {
    "pycharm": {
     "name": "#%% md\n"
    }
   },
   "source": [
    "# Intro"
   ]
  },
  {
   "cell_type": "markdown",
   "metadata": {
    "colab_type": "text"
   },
   "source": [
    "**Our 2021 Sponsors, including Presenting Sponsor Facebook Reality Labs**\n",
    "\n",
    "<p align='center'><img src='https://github.com/NeuromatchAcademy/widgets/blob/master/sponsors.png?raw=True'/></p>"
   ]
  },
  {
   "cell_type": "markdown",
   "metadata": {
    "pycharm": {
     "name": "#%% md\n"
    }
   },
   "source": [
    "## Overview\n",
    "\n",
    "Today you will learn about dynamical properties of biological neuronal networks. At the start, Nicolas Brunel will introduce you to the building blocks of biological neuronal networks and various types of activity that may arise in such networks. He will start with a network of spiking neurons and zoom out to firing rate-based models. In the tutorials we will focus on firing rate-based network models only. In the first tutorial Juliana Georgieva will develop the notion of firing rate-based networks and introduce the idea of fixed-points and stability of a population of neurons. In the second tutorial she will extend this idea to a two-population network model (the Wilson-Cowan model). In this tutorial, you will learn how you can use phase plane analysis to comment about the dynamics that arises because of excitatory and inhibitory interactions e.g. oscillations and attractors etc. Finally, in the outro lecture Ken Miller will use the firing rate-based models to expose three very interesting modes of biological neuronal networks i.e. inhibition stabilized network, balanced amplification and stabilized supra linear networks. He will show how these modes can provide mechanisms underlying several biological phenomena such as surround suppression in the visual cortex.\n",
    "\n",
    "The networks we will use today are built on what you have learned about Linear Systems (W2D2) and Biological Neurons (W2D3). An understanding of the stability and dynamical states of the neuronal network will also help you appreciate the problem of causality (W3D5) better. Moreover, a theoretical understanding of the network activity dynamics will help you develop better statistical controls for data analysis and model fitting – something you will encounter throughout the course and in your projects.\n",
    "\n",
    "Information processing the brain is manifested in terms of changes in network activity. Large scale changes in the network activity e.g. transitions from non-oscillatory state to oscillatory state, do happen in the brain and have huge impact on computations. What are the mechanisms that lead to change in the dynamical state of network activity? What determines the stability of network activity state? How is a balanced neuronal network able to amplify small changes while rejecting average value? How multiple inputs may interact to shape the response? Such questions routinely arise in neuroscience. The contents of the tutorial today should give you a good starting point to start addressing such questions and identify mechanisms and causes of network activity changes."
   ]
  },
  {
   "cell_type": "markdown",
   "metadata": {
    "pycharm": {
     "name": "#%% md\n"
    }
   },
   "source": [
    "## Video"
   ]
  },
  {
   "cell_type": "code",
   "execution_count": null,
   "metadata": {
    "cellView": "form",
    "execution": {
     "iopub.execute_input": "2021-06-25T15:15:07.948011Z",
     "iopub.status.busy": "2021-06-25T15:15:07.947435Z",
     "iopub.status.idle": "2021-06-25T15:15:08.086845Z",
     "shell.execute_reply": "2021-06-25T15:15:08.084709Z"
    },
    "pycharm": {
     "name": "#%%\n"
    }
   },
   "outputs": [],
   "source": [
    "# @markdown\n",
    "from ipywidgets import widgets\n",
    "\n",
    "out2 = widgets.Output()\n",
    "with out2:\n",
    "  from IPython.display import IFrame\n",
    "  class BiliVideo(IFrame):\n",
    "      def __init__(self, id, page=1, width=400, height=300, **kwargs):\n",
    "          self.id=id\n",
    "          src = \"https://player.bilibili.com/player.html?bvid={0}&page={1}\".format(id, page)\n",
    "          super(BiliVideo, self).__init__(src, width, height, **kwargs)\n",
    "\n",
    "  video = BiliVideo(id=f\"BV1Uz4y1D7Zs\", width=854, height=480, fs=1)\n",
    "  print(\"Video available at https://www.bilibili.com/video/{0}\".format(video.id))\n",
    "  display(video)\n",
    "\n",
    "out1 = widgets.Output()\n",
    "with out1:\n",
    "  from IPython.display import YouTubeVideo\n",
    "  video = YouTubeVideo(id=f\"pheMShOHoIk\", width=854, height=480, fs=1, rel=0)\n",
    "  print(\"Video available at https://youtube.com/watch?v=\" + video.id)\n",
    "  display(video)\n",
    "\n",
    "out = widgets.Tab([out1, out2])\n",
    "out.set_title(0, 'Youtube')\n",
    "out.set_title(1, 'Bilibili')\n",
    "\n",
    "display(out)"
   ]
  },
  {
   "cell_type": "markdown",
   "metadata": {
    "pycharm": {
     "name": "#%% md\n"
    }
   },
   "source": [
    "## Slides"
   ]
  },
  {
   "cell_type": "code",
   "execution_count": null,
   "metadata": {
    "cellView": "form",
    "execution": {
     "iopub.execute_input": "2021-06-25T15:15:08.095184Z",
     "iopub.status.busy": "2021-06-25T15:15:08.094723Z",
     "iopub.status.idle": "2021-06-25T15:15:08.097239Z",
     "shell.execute_reply": "2021-06-25T15:15:08.098003Z"
    },
    "pycharm": {
     "name": "#%%\n"
    }
   },
   "outputs": [],
   "source": [
    "# @markdown\n",
    "from IPython.display import IFrame\n",
    "IFrame(src=f\"https://mfr.ca-1.osf.io/render?url=https://osf.io/mdve5/?direct%26mode=render%26action=download%26mode=render\", width=854, height=480)"
   ]
  }
 ],
 "metadata": {
  "colab": {
   "collapsed_sections": [],
   "include_colab_link": true,
   "name": "W2D4_Intro",
   "toc_visible": true
  },
  "kernel": {
   "display_name": "Python 3",
   "language": "python",
   "name": "python3"
  },
  "kernelspec": {
   "display_name": "Python 3",
   "language": "python",
   "name": "python3"
  },
  "language_info": {
   "codemirror_mode": {
    "name": "ipython",
    "version": 3
   },
   "file_extension": ".py",
   "mimetype": "text/x-python",
   "name": "python",
   "nbconvert_exporter": "python",
   "pygments_lexer": "ipython3",
   "version": "3.7.10"
  }
 },
 "nbformat": 4,
 "nbformat_minor": 0
}
