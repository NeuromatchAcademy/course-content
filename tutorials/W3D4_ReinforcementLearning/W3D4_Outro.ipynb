{
  "cells": [
    {
      "cell_type": "markdown",
      "metadata": {
        "id": "view-in-github",
        "colab_type": "text"
      },
      "source": [
        "<a href=\"https://colab.research.google.com/github/NeuromatchAcademy/course-content/blob/update-links-w2/tutorials/W3D4_ReinforcementLearning/W3D4_Outro.ipynb\" target=\"_parent\"><img src=\"https://colab.research.google.com/assets/colab-badge.svg\" alt=\"Open In Colab\"/></a>"
      ]
    },
    {
      "cell_type": "markdown",
      "metadata": {
        "execution": {},
        "pycharm": {
          "name": "#%% md\n"
        },
        "id": "GMFns0FOw2N7"
      },
      "source": [
        "# Outro\n"
      ]
    },
    {
      "cell_type": "markdown",
      "metadata": {
        "execution": {},
        "id": "6B4Jebiiw2OB"
      },
      "source": [
        "**Our 2021 Sponsors, including Presenting Sponsor Facebook Reality Labs**\n",
        "\n",
        "<p align='center'><img src='https://github.com/NeuromatchAcademy/widgets/blob/master/sponsors.png?raw=True'/></p>"
      ]
    },
    {
      "cell_type": "markdown",
      "metadata": {
        "execution": {},
        "pycharm": {
          "name": "#%% md\n"
        },
        "id": "ND-mTumww2OC"
      },
      "source": [
        "## Video"
      ]
    },
    {
      "cell_type": "code",
      "execution_count": 1,
      "metadata": {
        "cellView": "form",
        "execution": {},
        "pycharm": {
          "name": "#%%\n"
        },
        "id": "hx6dzZJFw2OE",
        "outputId": "2e3190a4-ce44-4543-933f-229cd007be68",
        "colab": {
          "base_uri": "https://localhost:8080/",
          "height": 582,
          "referenced_widgets": [
            "aa4ec31f8b3f4f84bd5d3dc1c142b1ee",
            "36551f8e88d045df9ed57540e9a0e0ca",
            "93e8451a13e1456ea3b0f77d3116592a",
            "4cfb48bb1ee642138f1d90bee81f502e",
            "5cfd75fd757b4b988ba537efcfbcde36",
            "ecde2d914e44432a8da768ded3978925"
          ]
        }
      },
      "outputs": [
        {
          "output_type": "display_data",
          "data": {
            "text/plain": [
              "Tab(children=(Output(), Output()), _titles={'0': 'Youtube', '1': 'Bilibili'})"
            ],
            "application/vnd.jupyter.widget-view+json": {
              "version_major": 2,
              "version_minor": 0,
              "model_id": "aa4ec31f8b3f4f84bd5d3dc1c142b1ee"
            }
          },
          "metadata": {}
        }
      ],
      "source": [
        "# @markdown\n",
        "from ipywidgets import widgets\n",
        "\n",
        "out2 = widgets.Output()\n",
        "with out2:\n",
        "  from IPython.display import IFrame\n",
        "  class BiliVideo(IFrame):\n",
        "      def __init__(self, id, page=1, width=400, height=300, **kwargs):\n",
        "          self.id=id\n",
        "          src = \"https://player.bilibili.com/player.html?bvid={0}&page={1}\".format(id, page)\n",
        "          super(BiliVideo, self).__init__(src, width, height, **kwargs)\n",
        "\n",
        "  video = BiliVideo(id=f\"BV1QV411B7Ma\", width=854, height=480, fs=1)\n",
        "  print(\"Video available at https://www.bilibili.com/video/{0}\".format(video.id))\n",
        "  display(video)\n",
        "\n",
        "out1 = widgets.Output()\n",
        "with out1:\n",
        "  from IPython.display import YouTubeVideo\n",
        "  video = YouTubeVideo(id=f\"abEarxx6Kgc\", width=854, height=480, fs=1, rel=0)\n",
        "  print(\"Video available at https://youtube.com/watch?v=\" + video.id)\n",
        "  display(video)\n",
        "\n",
        "out = widgets.Tab([out1, out2])\n",
        "out.set_title(0, 'Youtube')\n",
        "out.set_title(1, 'Bilibili')\n",
        "\n",
        "display(out)"
      ]
    },
    {
      "cell_type": "markdown",
      "metadata": {
        "execution": {},
        "id": "V5odRQCgw2OI"
      },
      "source": [
        "## Daily survey\n",
        "\n",
        "Don't forget to complete your reflections and content check in the daily survey! Please be patient after logging in as there is a small delay before you will be redirected to the survey.\n",
        "\n",
        "<a href=\"https://portal.neuromatchacademy.org/api/redirect/to/e19f74b5-3dda-413c-a455-2b026d697403\"><img src=\"https://github.com/NeuromatchAcademy/course-content/blob/master/tutorials/static/button.png?raw=1\" alt=\"button link to survey\" style=\"width:410px\"></a>"
      ]
    },
    {
      "cell_type": "markdown",
      "metadata": {
        "execution": {},
        "pycharm": {
          "name": "#%% md\n"
        },
        "id": "ghOYENK5w2OJ"
      },
      "source": [
        "## Slides"
      ]
    },
    {
      "cell_type": "code",
      "execution_count": 2,
      "metadata": {
        "cellView": "form",
        "execution": {},
        "pycharm": {
          "name": "#%%\n"
        },
        "id": "ALtw8LDpw2OK",
        "outputId": "1fdd6e2d-9a6e-4b9b-f94c-aa2e9f0f6bd0",
        "colab": {
          "base_uri": "https://localhost:8080/",
          "height": 503
        }
      },
      "outputs": [
        {
          "output_type": "execute_result",
          "data": {
            "text/plain": [
              "<IPython.lib.display.IFrame at 0x7fc4a3535b10>"
            ],
            "text/html": [
              "\n",
              "        <iframe\n",
              "            width=\"854\"\n",
              "            height=\"480\"\n",
              "            src=\"https://mfr.ca-1.osf.io/render?url=https://osf.io/pmw8z/?direct%26mode=render%26action=download%26mode=render\"\n",
              "            frameborder=\"0\"\n",
              "            allowfullscreen\n",
              "        ></iframe>\n",
              "        "
            ]
          },
          "metadata": {},
          "execution_count": 2
        }
      ],
      "source": [
        "# @markdown\n",
        "from IPython.display import IFrame\n",
        "IFrame(src=f\"https://mfr.ca-1.osf.io/render?url=https://osf.io/pmw8z/?direct%26mode=render%26action=download%26mode=render\", width=854, height=480)"
      ]
    }
  ],
  "metadata": {
    "colab": {
      "collapsed_sections": [],
      "name": "W3D4_Outro",
      "provenance": [],
      "toc_visible": true,
      "include_colab_link": true
    },
    "kernel": {
      "display_name": "Python 3",
      "language": "python",
      "name": "python3"
    },
    "kernelspec": {
      "display_name": "Python 3",
      "language": "python",
      "name": "python3"
    },
    "language_info": {
      "codemirror_mode": {
        "name": "ipython",
        "version": 3
      },
      "file_extension": ".py",
      "mimetype": "text/x-python",
      "name": "python",
      "nbconvert_exporter": "python",
      "pygments_lexer": "ipython3",
      "version": "3.7.13"
    },
    "widgets": {
      "application/vnd.jupyter.widget-state+json": {
        "aa4ec31f8b3f4f84bd5d3dc1c142b1ee": {
          "model_module": "@jupyter-widgets/controls",
          "model_name": "TabModel",
          "model_module_version": "1.5.0",
          "state": {
            "_dom_classes": [],
            "_model_module": "@jupyter-widgets/controls",
            "_model_module_version": "1.5.0",
            "_model_name": "TabModel",
            "_titles": {
              "0": "Youtube",
              "1": "Bilibili"
            },
            "_view_count": null,
            "_view_module": "@jupyter-widgets/controls",
            "_view_module_version": "1.5.0",
            "_view_name": "TabView",
            "box_style": "",
            "children": [
              "IPY_MODEL_36551f8e88d045df9ed57540e9a0e0ca",
              "IPY_MODEL_93e8451a13e1456ea3b0f77d3116592a"
            ],
            "layout": "IPY_MODEL_4cfb48bb1ee642138f1d90bee81f502e",
            "selected_index": 0
          }
        },
        "36551f8e88d045df9ed57540e9a0e0ca": {
          "model_module": "@jupyter-widgets/output",
          "model_name": "OutputModel",
          "model_module_version": "1.0.0",
          "state": {
            "_dom_classes": [],
            "_model_module": "@jupyter-widgets/output",
            "_model_module_version": "1.0.0",
            "_model_name": "OutputModel",
            "_view_count": null,
            "_view_module": "@jupyter-widgets/output",
            "_view_module_version": "1.0.0",
            "_view_name": "OutputView",
            "layout": "IPY_MODEL_5cfd75fd757b4b988ba537efcfbcde36",
            "msg_id": "",
            "outputs": [
              {
                "output_type": "stream",
                "name": "stdout",
                "text": [
                  "Video available at https://youtube.com/watch?v=abEarxx6Kgc\n"
                ]
              },
              {
                "output_type": "display_data",
                "data": {
                  "text/plain": "<IPython.lib.display.YouTubeVideo at 0x7fc4a3547090>",
                  "text/html": "\n        <iframe\n            width=\"854\"\n            height=\"480\"\n            src=\"https://www.youtube.com/embed/abEarxx6Kgc?fs=1&rel=0\"\n            frameborder=\"0\"\n            allowfullscreen\n        ></iframe>\n        ",
                  "image/jpeg": "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\n"
                },
                "metadata": {}
              }
            ]
          }
        },
        "93e8451a13e1456ea3b0f77d3116592a": {
          "model_module": "@jupyter-widgets/output",
          "model_name": "OutputModel",
          "model_module_version": "1.0.0",
          "state": {
            "_dom_classes": [],
            "_model_module": "@jupyter-widgets/output",
            "_model_module_version": "1.0.0",
            "_model_name": "OutputModel",
            "_view_count": null,
            "_view_module": "@jupyter-widgets/output",
            "_view_module_version": "1.0.0",
            "_view_name": "OutputView",
            "layout": "IPY_MODEL_ecde2d914e44432a8da768ded3978925",
            "msg_id": "",
            "outputs": [
              {
                "output_type": "stream",
                "name": "stdout",
                "text": [
                  "Video available at https://www.bilibili.com/video/BV1QV411B7Ma\n"
                ]
              },
              {
                "output_type": "display_data",
                "data": {
                  "text/plain": "<__main__.BiliVideo at 0x7fc4a35471d0>",
                  "text/html": "\n        <iframe\n            width=\"854\"\n            height=\"480\"\n            src=\"https://player.bilibili.com/player.html?bvid=BV1QV411B7Ma&page=1?fs=1\"\n            frameborder=\"0\"\n            allowfullscreen\n        ></iframe>\n        "
                },
                "metadata": {}
              }
            ]
          }
        },
        "4cfb48bb1ee642138f1d90bee81f502e": {
          "model_module": "@jupyter-widgets/base",
          "model_name": "LayoutModel",
          "model_module_version": "1.2.0",
          "state": {
            "_model_module": "@jupyter-widgets/base",
            "_model_module_version": "1.2.0",
            "_model_name": "LayoutModel",
            "_view_count": null,
            "_view_module": "@jupyter-widgets/base",
            "_view_module_version": "1.2.0",
            "_view_name": "LayoutView",
            "align_content": null,
            "align_items": null,
            "align_self": null,
            "border": null,
            "bottom": null,
            "display": null,
            "flex": null,
            "flex_flow": null,
            "grid_area": null,
            "grid_auto_columns": null,
            "grid_auto_flow": null,
            "grid_auto_rows": null,
            "grid_column": null,
            "grid_gap": null,
            "grid_row": null,
            "grid_template_areas": null,
            "grid_template_columns": null,
            "grid_template_rows": null,
            "height": null,
            "justify_content": null,
            "justify_items": null,
            "left": null,
            "margin": null,
            "max_height": null,
            "max_width": null,
            "min_height": null,
            "min_width": null,
            "object_fit": null,
            "object_position": null,
            "order": null,
            "overflow": null,
            "overflow_x": null,
            "overflow_y": null,
            "padding": null,
            "right": null,
            "top": null,
            "visibility": null,
            "width": null
          }
        },
        "5cfd75fd757b4b988ba537efcfbcde36": {
          "model_module": "@jupyter-widgets/base",
          "model_name": "LayoutModel",
          "model_module_version": "1.2.0",
          "state": {
            "_model_module": "@jupyter-widgets/base",
            "_model_module_version": "1.2.0",
            "_model_name": "LayoutModel",
            "_view_count": null,
            "_view_module": "@jupyter-widgets/base",
            "_view_module_version": "1.2.0",
            "_view_name": "LayoutView",
            "align_content": null,
            "align_items": null,
            "align_self": null,
            "border": null,
            "bottom": null,
            "display": null,
            "flex": null,
            "flex_flow": null,
            "grid_area": null,
            "grid_auto_columns": null,
            "grid_auto_flow": null,
            "grid_auto_rows": null,
            "grid_column": null,
            "grid_gap": null,
            "grid_row": null,
            "grid_template_areas": null,
            "grid_template_columns": null,
            "grid_template_rows": null,
            "height": null,
            "justify_content": null,
            "justify_items": null,
            "left": null,
            "margin": null,
            "max_height": null,
            "max_width": null,
            "min_height": null,
            "min_width": null,
            "object_fit": null,
            "object_position": null,
            "order": null,
            "overflow": null,
            "overflow_x": null,
            "overflow_y": null,
            "padding": null,
            "right": null,
            "top": null,
            "visibility": null,
            "width": null
          }
        },
        "ecde2d914e44432a8da768ded3978925": {
          "model_module": "@jupyter-widgets/base",
          "model_name": "LayoutModel",
          "model_module_version": "1.2.0",
          "state": {
            "_model_module": "@jupyter-widgets/base",
            "_model_module_version": "1.2.0",
            "_model_name": "LayoutModel",
            "_view_count": null,
            "_view_module": "@jupyter-widgets/base",
            "_view_module_version": "1.2.0",
            "_view_name": "LayoutView",
            "align_content": null,
            "align_items": null,
            "align_self": null,
            "border": null,
            "bottom": null,
            "display": null,
            "flex": null,
            "flex_flow": null,
            "grid_area": null,
            "grid_auto_columns": null,
            "grid_auto_flow": null,
            "grid_auto_rows": null,
            "grid_column": null,
            "grid_gap": null,
            "grid_row": null,
            "grid_template_areas": null,
            "grid_template_columns": null,
            "grid_template_rows": null,
            "height": null,
            "justify_content": null,
            "justify_items": null,
            "left": null,
            "margin": null,
            "max_height": null,
            "max_width": null,
            "min_height": null,
            "min_width": null,
            "object_fit": null,
            "object_position": null,
            "order": null,
            "overflow": null,
            "overflow_x": null,
            "overflow_y": null,
            "padding": null,
            "right": null,
            "top": null,
            "visibility": null,
            "width": null
          }
        }
      }
    }
  },
  "nbformat": 4,
  "nbformat_minor": 0
}