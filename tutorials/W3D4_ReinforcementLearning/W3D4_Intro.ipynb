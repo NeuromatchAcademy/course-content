{
  "nbformat": 4,
  "nbformat_minor": 0,
  "metadata": {
    "colab": {
      "name": "W3D4_Intro",
      "provenance": [],
      "collapsed_sections": [],
      "toc_visible": true,
      "include_colab_link": true
    },
    "kernel": {
      "display_name": "Python 3",
      "language": "python",
      "name": "python3"
    },
    "kernelspec": {
      "display_name": "Python 3",
      "language": "python",
      "name": "python3"
    },
    "language_info": {
      "codemirror_mode": {
        "name": "ipython",
        "version": 3
      },
      "file_extension": ".py",
      "mimetype": "text/x-python",
      "name": "python",
      "nbconvert_exporter": "python",
      "pygments_lexer": "ipython3",
      "version": "3.7.10"
    },
    "widgets": {
      "application/vnd.jupyter.widget-state+json": {
        "b58ebbc991194392a8f42ece48307ad0": {
          "model_module": "@jupyter-widgets/controls",
          "model_name": "TabModel",
          "state": {
            "_view_name": "TabView",
            "_dom_classes": [],
            "_titles": {
              "0": "Youtube",
              "1": "Bilibili"
            },
            "_model_name": "TabModel",
            "_view_module": "@jupyter-widgets/controls",
            "selected_index": 0,
            "_model_module_version": "1.5.0",
            "_view_count": null,
            "_view_module_version": "1.5.0",
            "box_style": "",
            "layout": "IPY_MODEL_c6c2aa68dfac40aeab8a5ddc075745c1",
            "_model_module": "@jupyter-widgets/controls",
            "children": [
              "IPY_MODEL_20cf253a9586467eb385feb6ac9e0876",
              "IPY_MODEL_fc07bee479554c6b93548ea110cd0249"
            ]
          }
        },
        "c6c2aa68dfac40aeab8a5ddc075745c1": {
          "model_module": "@jupyter-widgets/base",
          "model_name": "LayoutModel",
          "state": {
            "_view_name": "LayoutView",
            "grid_template_rows": null,
            "right": null,
            "justify_content": null,
            "_view_module": "@jupyter-widgets/base",
            "overflow": null,
            "_model_module_version": "1.2.0",
            "_view_count": null,
            "flex_flow": null,
            "width": null,
            "min_width": null,
            "border": null,
            "align_items": null,
            "bottom": null,
            "_model_module": "@jupyter-widgets/base",
            "top": null,
            "grid_column": null,
            "overflow_y": null,
            "overflow_x": null,
            "grid_auto_flow": null,
            "grid_area": null,
            "grid_template_columns": null,
            "flex": null,
            "_model_name": "LayoutModel",
            "justify_items": null,
            "grid_row": null,
            "max_height": null,
            "align_content": null,
            "visibility": null,
            "align_self": null,
            "height": null,
            "min_height": null,
            "padding": null,
            "grid_auto_rows": null,
            "grid_gap": null,
            "max_width": null,
            "order": null,
            "_view_module_version": "1.2.0",
            "grid_template_areas": null,
            "object_position": null,
            "object_fit": null,
            "grid_auto_columns": null,
            "margin": null,
            "display": null,
            "left": null
          }
        },
        "20cf253a9586467eb385feb6ac9e0876": {
          "model_module": "@jupyter-widgets/output",
          "model_name": "OutputModel",
          "state": {
            "_view_name": "OutputView",
            "msg_id": "",
            "_dom_classes": [],
            "_model_name": "OutputModel",
            "outputs": [
              {
                "output_type": "stream",
                "metadata": {
                  "tags": []
                },
                "text": "Video available at https://youtube.com/watch?v=fz5T2QhUjbY\n",
                "stream": "stdout"
              },
              {
                "output_type": "display_data",
                "metadata": {
                  "tags": []
                },
                "text/html": "\n        <iframe\n            width=\"854\"\n            height=\"480\"\n            src=\"https://www.youtube.com/embed/fz5T2QhUjbY?fs=1&rel=0\"\n            frameborder=\"0\"\n            allowfullscreen\n        ></iframe>\n        ",
                "text/plain": "<IPython.lib.display.YouTubeVideo at 0x7efe4da52750>",
                "image/jpeg": "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\n"
              }
            ],
            "_view_module": "@jupyter-widgets/output",
            "_model_module_version": "1.0.0",
            "_view_count": null,
            "_view_module_version": "1.0.0",
            "layout": "IPY_MODEL_861eb0a5ed3748f3904b0b2f1ff66a6f",
            "_model_module": "@jupyter-widgets/output"
          }
        },
        "fc07bee479554c6b93548ea110cd0249": {
          "model_module": "@jupyter-widgets/output",
          "model_name": "OutputModel",
          "state": {
            "_view_name": "OutputView",
            "msg_id": "",
            "_dom_classes": [],
            "_model_name": "OutputModel",
            "outputs": [
              {
                "output_type": "stream",
                "metadata": {
                  "tags": []
                },
                "text": "Video available at https://www.bilibili.com/video/BV1MC4y1b7hq\n",
                "stream": "stdout"
              },
              {
                "output_type": "display_data",
                "metadata": {
                  "tags": []
                },
                "text/html": "\n        <iframe\n            width=\"854\"\n            height=\"480\"\n            src=\"https://player.bilibili.com/player.html?bvid=BV1MC4y1b7hq&page=1?fs=1\"\n            frameborder=\"0\"\n            allowfullscreen\n        ></iframe>\n        ",
                "text/plain": "<__main__.BiliVideo at 0x7efe4da52590>"
              }
            ],
            "_view_module": "@jupyter-widgets/output",
            "_model_module_version": "1.0.0",
            "_view_count": null,
            "_view_module_version": "1.0.0",
            "layout": "IPY_MODEL_89d17e9b08e34e4ca860f3755e42d483",
            "_model_module": "@jupyter-widgets/output"
          }
        },
        "861eb0a5ed3748f3904b0b2f1ff66a6f": {
          "model_module": "@jupyter-widgets/base",
          "model_name": "LayoutModel",
          "state": {
            "_view_name": "LayoutView",
            "grid_template_rows": null,
            "right": null,
            "justify_content": null,
            "_view_module": "@jupyter-widgets/base",
            "overflow": null,
            "_model_module_version": "1.2.0",
            "_view_count": null,
            "flex_flow": null,
            "width": null,
            "min_width": null,
            "border": null,
            "align_items": null,
            "bottom": null,
            "_model_module": "@jupyter-widgets/base",
            "top": null,
            "grid_column": null,
            "overflow_y": null,
            "overflow_x": null,
            "grid_auto_flow": null,
            "grid_area": null,
            "grid_template_columns": null,
            "flex": null,
            "_model_name": "LayoutModel",
            "justify_items": null,
            "grid_row": null,
            "max_height": null,
            "align_content": null,
            "visibility": null,
            "align_self": null,
            "height": null,
            "min_height": null,
            "padding": null,
            "grid_auto_rows": null,
            "grid_gap": null,
            "max_width": null,
            "order": null,
            "_view_module_version": "1.2.0",
            "grid_template_areas": null,
            "object_position": null,
            "object_fit": null,
            "grid_auto_columns": null,
            "margin": null,
            "display": null,
            "left": null
          }
        },
        "89d17e9b08e34e4ca860f3755e42d483": {
          "model_module": "@jupyter-widgets/base",
          "model_name": "LayoutModel",
          "state": {
            "_view_name": "LayoutView",
            "grid_template_rows": null,
            "right": null,
            "justify_content": null,
            "_view_module": "@jupyter-widgets/base",
            "overflow": null,
            "_model_module_version": "1.2.0",
            "_view_count": null,
            "flex_flow": null,
            "width": null,
            "min_width": null,
            "border": null,
            "align_items": null,
            "bottom": null,
            "_model_module": "@jupyter-widgets/base",
            "top": null,
            "grid_column": null,
            "overflow_y": null,
            "overflow_x": null,
            "grid_auto_flow": null,
            "grid_area": null,
            "grid_template_columns": null,
            "flex": null,
            "_model_name": "LayoutModel",
            "justify_items": null,
            "grid_row": null,
            "max_height": null,
            "align_content": null,
            "visibility": null,
            "align_self": null,
            "height": null,
            "min_height": null,
            "padding": null,
            "grid_auto_rows": null,
            "grid_gap": null,
            "max_width": null,
            "order": null,
            "_view_module_version": "1.2.0",
            "grid_template_areas": null,
            "object_position": null,
            "object_fit": null,
            "grid_auto_columns": null,
            "margin": null,
            "display": null,
            "left": null
          }
        }
      }
    }
  },
  "cells": [
    {
      "cell_type": "markdown",
      "metadata": {
        "id": "view-in-github",
        "colab_type": "text"
      },
      "source": [
        "<a href=\"https://colab.research.google.com/github/NeuromatchAcademy/course-content/blob/W3D4_intro/tutorials/W3D4_ReinforcementLearning/W3D4_Intro.ipynb\" target=\"_parent\"><img src=\"https://colab.research.google.com/assets/colab-badge.svg\" alt=\"Open In Colab\"/></a>"
      ]
    },
    {
      "cell_type": "markdown",
      "metadata": {
        "pycharm": {
          "name": "#%% md\n"
        },
        "id": "IABQAduMotGo"
      },
      "source": [
        "# Intro"
      ]
    },
    {
      "cell_type": "markdown",
      "metadata": {
        "id": "EYFTigaYotGp"
      },
      "source": [
        "**Our 2021 Sponsors, including Presenting Sponsor Facebook Reality Labs**\n",
        "\n",
        "<p align='center'><img src='https://github.com/NeuromatchAcademy/widgets/blob/master/sponsors.png?raw=True'/></p>"
      ]
    },
    {
      "cell_type": "markdown",
      "metadata": {
        "pycharm": {
          "name": "#%% md\n"
        },
        "id": "WZGMTRZiotGp"
      },
      "source": [
        "## Overview\n",
        "\n",
        "Reinforcement Learning is a framework for defining and solving a learning problem where an animal or agent knows or infers the state of the world and then learns the value of the states and actions that can be taken in them, by receiving a reward signal. Importantly, reinforcement learning provides formal, optimal descriptions of learning first derived from studies of animal behavior and then validated when the formal quantities used in the model were observed in the brain in humans and animals. It is probably one of the most widely used computational approaches in neuroscience.\n",
        "\n",
        "In the following tutorials, you will learn the core concepts of reinforcement learning and explore some of the most widely used models. In tutorial 1, you will learn about how we learn the value of future states from our experience. In tutorial 2, you will learn about how to make and learn from actions and the explore-exploit dilemma. In tutorial 3, you will explore how we can efficiently learn the future value of actions from experience. Finally, in tutorial 4 you will learn how having a model of the world’s dynamics can help you to learn and act.\n",
        "\n",
        "Reinforcement learning is a broad framework and it has deep connections to many topics covered in NMA, but the core reinforcement learning approaches define the world as a Markov Decision Problem, which is built on Hidden Dynamics and Optimal Control. Reinforcement learning, more broadly, can be seen as a framework that allows us to bring in many ideas and formalisms from other areas like economics, psychology, computer science, artificial intelligence, etc. to define algorithms or models that can solve large, complex problems with only a simple reward signal.\n"
      ]
    },
    {
      "cell_type": "markdown",
      "metadata": {
        "pycharm": {
          "name": "#%% md\n"
        },
        "id": "9JxD8KixotGp"
      },
      "source": [
        "## Video"
      ]
    },
    {
      "cell_type": "code",
      "metadata": {
        "cellView": "form",
        "execution": {
          "iopub.execute_input": "2021-06-25T15:20:15.613313Z",
          "iopub.status.busy": "2021-06-25T15:20:15.612794Z",
          "iopub.status.idle": "2021-06-25T15:20:15.756997Z",
          "shell.execute_reply": "2021-06-25T15:20:15.757349Z"
        },
        "pycharm": {
          "name": "#%%\n"
        },
        "id": "8BRR764eotGp",
        "outputId": "9ac90203-d433-4f44-cde4-1dd04dfe83c2",
        "colab": {
          "base_uri": "https://localhost:8080/",
          "height": 580,
          "referenced_widgets": [
            "b58ebbc991194392a8f42ece48307ad0",
            "c6c2aa68dfac40aeab8a5ddc075745c1",
            "20cf253a9586467eb385feb6ac9e0876",
            "fc07bee479554c6b93548ea110cd0249",
            "861eb0a5ed3748f3904b0b2f1ff66a6f",
            "89d17e9b08e34e4ca860f3755e42d483"
          ]
        }
      },
      "source": [
        "# @markdown\n",
        "from ipywidgets import widgets\n",
        "\n",
        "out2 = widgets.Output()\n",
        "with out2:\n",
        "  from IPython.display import IFrame\n",
        "  class BiliVideo(IFrame):\n",
        "      def __init__(self, id, page=1, width=400, height=300, **kwargs):\n",
        "          self.id=id\n",
        "          src = \"https://player.bilibili.com/player.html?bvid={0}&page={1}\".format(id, page)\n",
        "          super(BiliVideo, self).__init__(src, width, height, **kwargs)\n",
        "\n",
        "  video = BiliVideo(id=f\"BV1MC4y1b7hq\", width=854, height=480, fs=1)\n",
        "  print(\"Video available at https://www.bilibili.com/video/{0}\".format(video.id))\n",
        "  display(video)\n",
        "\n",
        "out1 = widgets.Output()\n",
        "with out1:\n",
        "  from IPython.display import YouTubeVideo\n",
        "  video = YouTubeVideo(id=f\"fz5T2QhUjbY\", width=854, height=480, fs=1, rel=0)\n",
        "  print(\"Video available at https://youtube.com/watch?v=\" + video.id)\n",
        "  display(video)\n",
        "\n",
        "out = widgets.Tab([out1, out2])\n",
        "out.set_title(0, 'Youtube')\n",
        "out.set_title(1, 'Bilibili')\n",
        "\n",
        "display(out)"
      ],
      "execution_count": 1,
      "outputs": [
        {
          "output_type": "display_data",
          "data": {
            "application/vnd.jupyter.widget-view+json": {
              "model_id": "b58ebbc991194392a8f42ece48307ad0",
              "version_minor": 0,
              "version_major": 2
            },
            "text/plain": [
              "Tab(children=(Output(), Output()), _titles={'0': 'Youtube', '1': 'Bilibili'})"
            ]
          },
          "metadata": {
            "tags": []
          }
        }
      ]
    },
    {
      "cell_type": "markdown",
      "metadata": {
        "pycharm": {
          "name": "#%% md\n"
        },
        "id": "6_g0TfQ2otGq"
      },
      "source": [
        "## Slides"
      ]
    },
    {
      "cell_type": "code",
      "metadata": {
        "cellView": "form",
        "execution": {
          "iopub.execute_input": "2021-06-25T15:20:15.770541Z",
          "iopub.status.busy": "2021-06-25T15:20:15.769992Z",
          "iopub.status.idle": "2021-06-25T15:20:15.775424Z",
          "shell.execute_reply": "2021-06-25T15:20:15.774970Z"
        },
        "pycharm": {
          "name": "#%%\n"
        },
        "id": "kpc2k2naotGq",
        "outputId": "bd628ff5-189e-4aa0-9290-5632f9c949f2",
        "colab": {
          "base_uri": "https://localhost:8080/",
          "height": 500
        }
      },
      "source": [
        "# @markdown\n",
        "from IPython.display import IFrame\n",
        "IFrame(src=f\"https://mfr.ca-1.osf.io/render?url=https://osf.io/cpxqn/?direct%26mode=render%26action=download%26mode=render\", width=854, height=480)"
      ],
      "execution_count": 2,
      "outputs": [
        {
          "output_type": "execute_result",
          "data": {
            "text/html": [
              "\n",
              "        <iframe\n",
              "            width=\"854\"\n",
              "            height=\"480\"\n",
              "            src=\"https://mfr.ca-1.osf.io/render?url=https://osf.io/cpxqn/?direct%26mode=render%26action=download%26mode=render\"\n",
              "            frameborder=\"0\"\n",
              "            allowfullscreen\n",
              "        ></iframe>\n",
              "        "
            ],
            "text/plain": [
              "<IPython.lib.display.IFrame at 0x7efe4da48b50>"
            ]
          },
          "metadata": {
            "tags": []
          },
          "execution_count": 2
        }
      ]
    }
  ]
}