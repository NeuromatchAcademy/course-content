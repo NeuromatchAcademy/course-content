{
  "cells": [
    {
      "cell_type": "markdown",
      "metadata": {
        "id": "view-in-github",
        "colab_type": "text"
      },
      "source": [
        "<a href=\"https://colab.research.google.com/github/NeuromatchAcademy/course-content/blob/fb_gadget/tutorials/W1D1_ModelTypes/W1D1_Intro.ipynb\" target=\"_parent\"><img src=\"https://colab.research.google.com/assets/colab-badge.svg\" alt=\"Open In Colab\"/></a>"
      ]
    },
    {
      "cell_type": "markdown",
      "metadata": {
        "execution": {},
        "pycharm": {
          "name": "#%% md\n"
        },
        "id": "jAEP02DkMWCd"
      },
      "source": [
        "# Intro"
      ]
    },
    {
      "cell_type": "markdown",
      "metadata": {
        "execution": {},
        "id": "0wPa9gmnMWCe"
      },
      "source": [
        "<p align='center'><img src='https://github.com/NeuromatchAcademy/widgets/blob/master/sponsors.png?raw=True'/></p>"
      ]
    },
    {
      "cell_type": "markdown",
      "metadata": {
        "execution": {},
        "pycharm": {
          "name": "#%% md\n"
        },
        "id": "s4BKVtexMWCf"
      },
      "source": [
        "## Overview\n",
        "\n",
        "The first two days of NMA are all about the process of modeling and what models are. It’s important to learn about these meta-modeling aspects before diving into different kinds of modeling tools during the remainder of NMA. So today will be about the diversity of models and what different models can do for us. Typically everyone has an intuition about how different analysis tools can extract different kinds of information from experimental data; you choose a different analysis depending on your question. However, this is less appreciated for models. But it’s the same for them; you want to build a different kind of model to answer different kinds of questions. It all depends on your goals. So today, we will examine three kinds of models that we can classify as (according to Dayan and Abbott, 2001): **what**, **how**, and **why** models.\n",
        "\n",
        "Each tutorial will guide you through one of those models to describe the exact same data: the time interval between neuronal action potentials, aka inter-spike interval (ISI). In tutorial 1, we will ask what function best describes the shape of the ISI distribution (it’s an exponential distribution). Such a “what” model can compactly describe the ISI distribution and allows, for example, to quantify ISI properties across datasets, task conditions, brain areas etc. In tutorial 2, we ask which mechanism could generate the observed ISI distribution. Such a “how” model proposes a specific way that a system produces the observed behavior. Here, you will see that it’s a balance between excitation and inhibition that generates exponentially distributed ISIs. Finally we will ask “why” the exponential distribution is the most optimal way to code information in neurons. “Why” models thus ask about the underlying principles of a phenomenon.\n",
        "\n",
        "In any research, we typically start with descriptive (“what”) models; you will see examples of those during the model fitting, GLM, dimensionality reduction, and deep learning days. Next, we often ask about the mechanisms and build “how” models to generate or test hypotheses of underlying mechanisms; examples of those will be in linear systems, real neurons, dynamic networks, and decision making days. Ultimately, we are usually interested in the underlying reason of why the phenomenon exists in the first place; examples of those are in Bayes, optimal Control, and reinforcement learning days. “Why” models are often the hardest to achieve; “what” models are usually the easiest. But more importantly, they allow answering different questions, provide different insights and have different utilities. Thinking about the question I want to answer, why I want to answer this question (i.e. my goal) and the hypotheses I want to evaluate determines my own modeling choices every day. The resulting diversity in models is great because all models address different facets of a problem (like in today's 3 tutorials) and are thus complementary in our quest for knowledge. Today’s materials will hopefully allow you to better appreciate the opportunities and limitations offered by all the modeling tools you will learn during NMA."
      ]
    },
    {
      "cell_type": "markdown",
      "metadata": {
        "execution": {},
        "id": "YhwQrNBEMWCg"
      },
      "source": [
        "## Prerequisite knowledge\n",
        "\n",
        "In the content and tutorials today, you will be using derivatives (W0D4 T1), numerical integration (Euler's method) (W0D4 T3), and probability distributions (W0D5 T1). You will also be using some basic knowledge of neurons (Neuro Video Series Intro). Please review these precourse materials if necessary!"
      ]
    },
    {
      "cell_type": "code",
      "source": [
        "# @title Install and import feedback gadget\n",
        "\n",
        "!pip3 install vibecheck datatops --quiet\n",
        "\n",
        "from vibecheck import DatatopsContentReviewContainer\n",
        "def content_review(notebook_section: str):\n",
        "    return DatatopsContentReviewContainer(\n",
        "        \"\",  # No text prompt\n",
        "        notebook_section,\n",
        "        {\n",
        "            \"url\": \"https://pmyvdlilci.execute-api.us-east-1.amazonaws.com/klab\",\n",
        "            \"name\": \"neuromatch_cn\",\n",
        "            \"user_key\": \"y1x3mpx5\",\n",
        "        },\n",
        "    ).render()\n",
        "\n",
        "\n",
        "feedback_prefix = \"W1D1_Intro\""
      ],
      "metadata": {
        "cellView": "form",
        "id": "Ej2eH40YMeix",
        "outputId": "a63bd89b-39c1-4257-cd8f-ec84ea980fd3",
        "colab": {
          "base_uri": "https://localhost:8080/"
        }
      },
      "execution_count": 1,
      "outputs": [
        {
          "output_type": "stream",
          "name": "stdout",
          "text": [
            "  Preparing metadata (setup.py) ... \u001b[?25l\u001b[?25hdone\n",
            "  Preparing metadata (setup.py) ... \u001b[?25l\u001b[?25hdone\n",
            "\u001b[2K     \u001b[90m━━━━━━━━━━━━━━━━━━━━━━━━━━━━━━━━━━━━━━━━\u001b[0m \u001b[32m1.6/1.6 MB\u001b[0m \u001b[31m19.5 MB/s\u001b[0m eta \u001b[36m0:00:00\u001b[0m\n",
            "\u001b[?25h  Building wheel for vibecheck (setup.py) ... \u001b[?25l\u001b[?25hdone\n",
            "  Building wheel for datatops (setup.py) ... \u001b[?25l\u001b[?25hdone\n"
          ]
        }
      ]
    },
    {
      "cell_type": "markdown",
      "metadata": {
        "execution": {},
        "pycharm": {
          "name": "#%% md\n"
        },
        "id": "UkSfRQl_MWCg"
      },
      "source": [
        "## Video"
      ]
    },
    {
      "cell_type": "code",
      "execution_count": 2,
      "metadata": {
        "cellView": "form",
        "execution": {},
        "pycharm": {
          "name": "#%%\n"
        },
        "id": "ond4YRGAMWCg",
        "outputId": "978f9c2f-2eb9-4e6c-e55e-739a3ad51f1e",
        "colab": {
          "base_uri": "https://localhost:8080/",
          "height": 583,
          "referenced_widgets": [
            "d0435cc559b94cd19542a107e446bc4d",
            "d2a37c9254534e5299f1a494d007dcd4",
            "c8104d02ea16408ca25ec7d786e9316b",
            "b77d94baf53d4a13bf21afa9d86b1be4",
            "16e46fac598e44ee89fd2593bafaa2b9",
            "779faa1c160d41508d68e438b7219b43"
          ]
        }
      },
      "outputs": [
        {
          "output_type": "display_data",
          "data": {
            "text/plain": [
              "Tab(children=(Output(), Output()), _titles={'0': 'Youtube', '1': 'Bilibili'})"
            ],
            "application/vnd.jupyter.widget-view+json": {
              "version_major": 2,
              "version_minor": 0,
              "model_id": "d0435cc559b94cd19542a107e446bc4d"
            }
          },
          "metadata": {}
        }
      ],
      "source": [
        "# @markdown\n",
        "from ipywidgets import widgets\n",
        "from IPython.display import YouTubeVideo\n",
        "from IPython.display import IFrame\n",
        "from IPython.display import display\n",
        "\n",
        "\n",
        "class PlayVideo(IFrame):\n",
        "  def __init__(self, id, source, page=1, width=400, height=300, **kwargs):\n",
        "    self.id = id\n",
        "    if source == 'Bilibili':\n",
        "      src = f'https://player.bilibili.com/player.html?bvid={id}&page={page}'\n",
        "    elif source == 'Osf':\n",
        "      src = f'https://mfr.ca-1.osf.io/render?url=https://osf.io/download/{id}/?direct%26mode=render'\n",
        "    super(PlayVideo, self).__init__(src, width, height, **kwargs)\n",
        "\n",
        "\n",
        "def display_videos(video_ids, W=400, H=300, fs=1):\n",
        "  tab_contents = []\n",
        "  for i, video_id in enumerate(video_ids):\n",
        "    out = widgets.Output()\n",
        "    with out:\n",
        "      if video_ids[i][0] == 'Youtube':\n",
        "        video = YouTubeVideo(id=video_ids[i][1], width=W,\n",
        "                             height=H, fs=fs, rel=0)\n",
        "        print(f'Video available at https://youtube.com/watch?v={video.id}')\n",
        "      else:\n",
        "        video = PlayVideo(id=video_ids[i][1], source=video_ids[i][0], width=W,\n",
        "                          height=H, fs=fs, autoplay=False)\n",
        "        if video_ids[i][0] == 'Bilibili':\n",
        "          print(f'Video available at https://www.bilibili.com/video/{video.id}')\n",
        "        elif video_ids[i][0] == 'Osf':\n",
        "          print(f'Video available at https://osf.io/{video.id}')\n",
        "      display(video)\n",
        "    tab_contents.append(out)\n",
        "  return tab_contents\n",
        "\n",
        "\n",
        "video_ids = [('Youtube', 'W5o_HTsef0I'), ('Bilibili', 'BV1ho4y1C7Eo')]\n",
        "tab_contents = display_videos(video_ids, W=854, H=480)\n",
        "tabs = widgets.Tab()\n",
        "tabs.children = tab_contents\n",
        "for i in range(len(tab_contents)):\n",
        "  tabs.set_title(i, video_ids[i][0])\n",
        "display(tabs)"
      ]
    },
    {
      "cell_type": "markdown",
      "metadata": {
        "execution": {},
        "id": "w2qYsVYfMWCh"
      },
      "source": [
        "## Slides"
      ]
    },
    {
      "cell_type": "code",
      "execution_count": 3,
      "metadata": {
        "cellView": "form",
        "execution": {},
        "pycharm": {
          "name": "#%%\n"
        },
        "id": "X4IbD320MWCh",
        "outputId": "2411cafa-a124-4a8e-d6e9-0faf8a4d0c1c",
        "colab": {
          "base_uri": "https://localhost:8080/",
          "height": 521
        }
      },
      "outputs": [
        {
          "output_type": "stream",
          "name": "stdout",
          "text": [
            "If you want to download the slides: https://osf.io/download/rbx2a/\n"
          ]
        },
        {
          "output_type": "execute_result",
          "data": {
            "text/plain": [
              "<IPython.lib.display.IFrame at 0x7fc2fb5d6d70>"
            ],
            "text/html": [
              "\n",
              "        <iframe\n",
              "            width=\"854\"\n",
              "            height=\"480\"\n",
              "            src=\"https://mfr.ca-1.osf.io/render?url=https://osf.io/rbx2a/?direct%26mode=render%26action=download%26mode=render\"\n",
              "            frameborder=\"0\"\n",
              "            allowfullscreen\n",
              "            \n",
              "        ></iframe>\n",
              "        "
            ]
          },
          "metadata": {},
          "execution_count": 3
        }
      ],
      "source": [
        "# @markdown\n",
        "from IPython.display import IFrame\n",
        "link_id = \"rbx2a\"\n",
        "print(f\"If you want to download the slides: https://osf.io/download/{link_id}/\")\n",
        "IFrame(src=f\"https://mfr.ca-1.osf.io/render?url=https://osf.io/{link_id}/?direct%26mode=render%26action=download%26mode=render\", width=854, height=480)"
      ]
    },
    {
      "cell_type": "code",
      "source": [
        "# @title Submit your feedback\n",
        "content_review(f\"{feedback_prefix}_Intro_Video\")"
      ],
      "metadata": {
        "cellView": "form",
        "id": "9L14mGm-Ma-x",
        "outputId": "3ac78e08-c943-40ca-8385-bfab62c87d24",
        "colab": {
          "base_uri": "https://localhost:8080/",
          "height": 81,
          "referenced_widgets": [
            "e5f44199065447a5a26ba4451c1711cf",
            "b20a51827d6c465984d73472a225b395",
            "8671381d820a4a358597731214187aab",
            "0976c327d47f432bb7a8f40007647236",
            "fa965975bbee498e9ed9ca4fd63d2c97",
            "45d390ce0a084ce68f0153fccb2433a9",
            "2d4a1948e9944a2cb6a0f586d78c7aae",
            "313e3f783a1e482eb403c7921c6858ee",
            "8914ac35349a465297412814673f4edc",
            "c0be84851bbe4e1c9b8b155b1330da50",
            "1e064c8642fe4b04ae33977ee717eaa4",
            "8a17deafe3744173821002597e002cc7",
            "dde28d88ff68438f82ff355db2a81241",
            "607692cf19a1426dad022d8d17b4031e",
            "27112e1c54a1422cb8690cd6c4750046",
            "21ba7890f1f6477197624051b1b7657c",
            "0eb564a520814a259597df8865d71989",
            "bda3c3aae11b4ea89a00d2aae81c50ea",
            "586f3f4bbc8e427b94919e989baee4e0",
            "73735c8157b7445ebb4c2f994dcd99f7",
            "d7c6fe7418b44f79acbcf841d308d216",
            "2592bea43b564c45820b560241f88a89",
            "088b4a8d8ef64ca4a9660b8998e2a4e5",
            "3552a94a546f4a7b802052b40c69b8c7",
            "148c3b070acc4612a0ffe24a1f9f1ecf",
            "fbaf3da3145448e79978ff0706dcd2ae",
            "80fd821ace8d4f0bb57174cfa61ab067"
          ]
        }
      },
      "execution_count": 4,
      "outputs": [
        {
          "output_type": "display_data",
          "data": {
            "text/plain": [
              "VBox(children=(Label(value=''), HBox(children=(Button(description='🙂', layout=Layout(height='auto', width='aut…"
            ],
            "application/vnd.jupyter.widget-view+json": {
              "version_major": 2,
              "version_minor": 0,
              "model_id": "e5f44199065447a5a26ba4451c1711cf"
            }
          },
          "metadata": {}
        }
      ]
    }
  ],
  "metadata": {
    "colab": {
      "name": "W1D1_Intro",
      "provenance": [],
      "toc_visible": true,
      "include_colab_link": true
    },
    "kernel": {
      "display_name": "Python 3",
      "language": "python",
      "name": "python3"
    },
    "kernelspec": {
      "display_name": "Python 3",
      "language": "python",
      "name": "python3"
    },
    "language_info": {
      "codemirror_mode": {
        "name": "ipython",
        "version": 3
      },
      "file_extension": ".py",
      "mimetype": "text/x-python",
      "name": "python",
      "nbconvert_exporter": "python",
      "pygments_lexer": "ipython3",
      "version": "3.9.17"
    },
    "widgets": {
      "application/vnd.jupyter.widget-state+json": {
        "d0435cc559b94cd19542a107e446bc4d": {
          "model_module": "@jupyter-widgets/controls",
          "model_name": "TabModel",
          "model_module_version": "1.5.0",
          "state": {
            "_dom_classes": [],
            "_model_module": "@jupyter-widgets/controls",
            "_model_module_version": "1.5.0",
            "_model_name": "TabModel",
            "_titles": {
              "0": "Youtube",
              "1": "Bilibili"
            },
            "_view_count": null,
            "_view_module": "@jupyter-widgets/controls",
            "_view_module_version": "1.5.0",
            "_view_name": "TabView",
            "box_style": "",
            "children": [
              "IPY_MODEL_d2a37c9254534e5299f1a494d007dcd4",
              "IPY_MODEL_c8104d02ea16408ca25ec7d786e9316b"
            ],
            "layout": "IPY_MODEL_b77d94baf53d4a13bf21afa9d86b1be4",
            "selected_index": 0
          }
        },
        "d2a37c9254534e5299f1a494d007dcd4": {
          "model_module": "@jupyter-widgets/output",
          "model_name": "OutputModel",
          "model_module_version": "1.0.0",
          "state": {
            "_dom_classes": [],
            "_model_module": "@jupyter-widgets/output",
            "_model_module_version": "1.0.0",
            "_model_name": "OutputModel",
            "_view_count": null,
            "_view_module": "@jupyter-widgets/output",
            "_view_module_version": "1.0.0",
            "_view_name": "OutputView",
            "layout": "IPY_MODEL_16e46fac598e44ee89fd2593bafaa2b9",
            "msg_id": "",
            "outputs": [
              {
                "output_type": "stream",
                "name": "stdout",
                "text": [
                  "Video available at https://youtube.com/watch?v=W5o_HTsef0I\n"
                ]
              },
              {
                "output_type": "display_data",
                "data": {
                  "text/plain": "<IPython.lib.display.YouTubeVideo at 0x7fc2f8083a00>",
                  "text/html": "\n        <iframe\n            width=\"854\"\n            height=\"480\"\n            src=\"https://www.youtube.com/embed/W5o_HTsef0I?fs=1&rel=0\"\n            frameborder=\"0\"\n            allowfullscreen\n            \n        ></iframe>\n        ",
                  "image/jpeg": "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\n"
                },
                "metadata": {}
              }
            ]
          }
        },
        "c8104d02ea16408ca25ec7d786e9316b": {
          "model_module": "@jupyter-widgets/output",
          "model_name": "OutputModel",
          "model_module_version": "1.0.0",
          "state": {
            "_dom_classes": [],
            "_model_module": "@jupyter-widgets/output",
            "_model_module_version": "1.0.0",
            "_model_name": "OutputModel",
            "_view_count": null,
            "_view_module": "@jupyter-widgets/output",
            "_view_module_version": "1.0.0",
            "_view_name": "OutputView",
            "layout": "IPY_MODEL_779faa1c160d41508d68e438b7219b43",
            "msg_id": "",
            "outputs": [
              {
                "output_type": "stream",
                "name": "stdout",
                "text": [
                  "Video available at https://www.bilibili.com/video/BV1ho4y1C7Eo\n"
                ]
              },
              {
                "output_type": "display_data",
                "data": {
                  "text/plain": "<__main__.PlayVideo at 0x7fc2f8081270>",
                  "text/html": "\n        <iframe\n            width=\"854\"\n            height=\"480\"\n            src=\"https://player.bilibili.com/player.html?bvid=BV1ho4y1C7Eo&page=1?fs=1&autoplay=False\"\n            frameborder=\"0\"\n            allowfullscreen\n            \n        ></iframe>\n        "
                },
                "metadata": {}
              }
            ]
          }
        },
        "b77d94baf53d4a13bf21afa9d86b1be4": {
          "model_module": "@jupyter-widgets/base",
          "model_name": "LayoutModel",
          "model_module_version": "1.2.0",
          "state": {
            "_model_module": "@jupyter-widgets/base",
            "_model_module_version": "1.2.0",
            "_model_name": "LayoutModel",
            "_view_count": null,
            "_view_module": "@jupyter-widgets/base",
            "_view_module_version": "1.2.0",
            "_view_name": "LayoutView",
            "align_content": null,
            "align_items": null,
            "align_self": null,
            "border": null,
            "bottom": null,
            "display": null,
            "flex": null,
            "flex_flow": null,
            "grid_area": null,
            "grid_auto_columns": null,
            "grid_auto_flow": null,
            "grid_auto_rows": null,
            "grid_column": null,
            "grid_gap": null,
            "grid_row": null,
            "grid_template_areas": null,
            "grid_template_columns": null,
            "grid_template_rows": null,
            "height": null,
            "justify_content": null,
            "justify_items": null,
            "left": null,
            "margin": null,
            "max_height": null,
            "max_width": null,
            "min_height": null,
            "min_width": null,
            "object_fit": null,
            "object_position": null,
            "order": null,
            "overflow": null,
            "overflow_x": null,
            "overflow_y": null,
            "padding": null,
            "right": null,
            "top": null,
            "visibility": null,
            "width": null
          }
        },
        "16e46fac598e44ee89fd2593bafaa2b9": {
          "model_module": "@jupyter-widgets/base",
          "model_name": "LayoutModel",
          "model_module_version": "1.2.0",
          "state": {
            "_model_module": "@jupyter-widgets/base",
            "_model_module_version": "1.2.0",
            "_model_name": "LayoutModel",
            "_view_count": null,
            "_view_module": "@jupyter-widgets/base",
            "_view_module_version": "1.2.0",
            "_view_name": "LayoutView",
            "align_content": null,
            "align_items": null,
            "align_self": null,
            "border": null,
            "bottom": null,
            "display": null,
            "flex": null,
            "flex_flow": null,
            "grid_area": null,
            "grid_auto_columns": null,
            "grid_auto_flow": null,
            "grid_auto_rows": null,
            "grid_column": null,
            "grid_gap": null,
            "grid_row": null,
            "grid_template_areas": null,
            "grid_template_columns": null,
            "grid_template_rows": null,
            "height": null,
            "justify_content": null,
            "justify_items": null,
            "left": null,
            "margin": null,
            "max_height": null,
            "max_width": null,
            "min_height": null,
            "min_width": null,
            "object_fit": null,
            "object_position": null,
            "order": null,
            "overflow": null,
            "overflow_x": null,
            "overflow_y": null,
            "padding": null,
            "right": null,
            "top": null,
            "visibility": null,
            "width": null
          }
        },
        "779faa1c160d41508d68e438b7219b43": {
          "model_module": "@jupyter-widgets/base",
          "model_name": "LayoutModel",
          "model_module_version": "1.2.0",
          "state": {
            "_model_module": "@jupyter-widgets/base",
            "_model_module_version": "1.2.0",
            "_model_name": "LayoutModel",
            "_view_count": null,
            "_view_module": "@jupyter-widgets/base",
            "_view_module_version": "1.2.0",
            "_view_name": "LayoutView",
            "align_content": null,
            "align_items": null,
            "align_self": null,
            "border": null,
            "bottom": null,
            "display": null,
            "flex": null,
            "flex_flow": null,
            "grid_area": null,
            "grid_auto_columns": null,
            "grid_auto_flow": null,
            "grid_auto_rows": null,
            "grid_column": null,
            "grid_gap": null,
            "grid_row": null,
            "grid_template_areas": null,
            "grid_template_columns": null,
            "grid_template_rows": null,
            "height": null,
            "justify_content": null,
            "justify_items": null,
            "left": null,
            "margin": null,
            "max_height": null,
            "max_width": null,
            "min_height": null,
            "min_width": null,
            "object_fit": null,
            "object_position": null,
            "order": null,
            "overflow": null,
            "overflow_x": null,
            "overflow_y": null,
            "padding": null,
            "right": null,
            "top": null,
            "visibility": null,
            "width": null
          }
        },
        "e5f44199065447a5a26ba4451c1711cf": {
          "model_module": "@jupyter-widgets/controls",
          "model_name": "VBoxModel",
          "model_module_version": "1.5.0",
          "state": {
            "_dom_classes": [],
            "_model_module": "@jupyter-widgets/controls",
            "_model_module_version": "1.5.0",
            "_model_name": "VBoxModel",
            "_view_count": null,
            "_view_module": "@jupyter-widgets/controls",
            "_view_module_version": "1.5.0",
            "_view_name": "VBoxView",
            "box_style": "",
            "children": [
              "IPY_MODEL_b20a51827d6c465984d73472a225b395",
              "IPY_MODEL_8671381d820a4a358597731214187aab",
              "IPY_MODEL_0976c327d47f432bb7a8f40007647236",
              "IPY_MODEL_fa965975bbee498e9ed9ca4fd63d2c97"
            ],
            "layout": "IPY_MODEL_45d390ce0a084ce68f0153fccb2433a9"
          }
        },
        "b20a51827d6c465984d73472a225b395": {
          "model_module": "@jupyter-widgets/controls",
          "model_name": "LabelModel",
          "model_module_version": "1.5.0",
          "state": {
            "_dom_classes": [],
            "_model_module": "@jupyter-widgets/controls",
            "_model_module_version": "1.5.0",
            "_model_name": "LabelModel",
            "_view_count": null,
            "_view_module": "@jupyter-widgets/controls",
            "_view_module_version": "1.5.0",
            "_view_name": "LabelView",
            "description": "",
            "description_tooltip": null,
            "layout": "IPY_MODEL_2d4a1948e9944a2cb6a0f586d78c7aae",
            "placeholder": "​",
            "style": "IPY_MODEL_313e3f783a1e482eb403c7921c6858ee",
            "value": ""
          }
        },
        "8671381d820a4a358597731214187aab": {
          "model_module": "@jupyter-widgets/controls",
          "model_name": "HBoxModel",
          "model_module_version": "1.5.0",
          "state": {
            "_dom_classes": [],
            "_model_module": "@jupyter-widgets/controls",
            "_model_module_version": "1.5.0",
            "_model_name": "HBoxModel",
            "_view_count": null,
            "_view_module": "@jupyter-widgets/controls",
            "_view_module_version": "1.5.0",
            "_view_name": "HBoxView",
            "box_style": "",
            "children": [
              "IPY_MODEL_8914ac35349a465297412814673f4edc",
              "IPY_MODEL_c0be84851bbe4e1c9b8b155b1330da50",
              "IPY_MODEL_1e064c8642fe4b04ae33977ee717eaa4"
            ],
            "layout": "IPY_MODEL_8a17deafe3744173821002597e002cc7"
          }
        },
        "0976c327d47f432bb7a8f40007647236": {
          "model_module": "@jupyter-widgets/controls",
          "model_name": "HBoxModel",
          "model_module_version": "1.5.0",
          "state": {
            "_dom_classes": [],
            "_model_module": "@jupyter-widgets/controls",
            "_model_module_version": "1.5.0",
            "_model_name": "HBoxModel",
            "_view_count": null,
            "_view_module": "@jupyter-widgets/controls",
            "_view_module_version": "1.5.0",
            "_view_name": "HBoxView",
            "box_style": "",
            "children": [
              "IPY_MODEL_dde28d88ff68438f82ff355db2a81241",
              "IPY_MODEL_607692cf19a1426dad022d8d17b4031e"
            ],
            "layout": "IPY_MODEL_27112e1c54a1422cb8690cd6c4750046"
          }
        },
        "fa965975bbee498e9ed9ca4fd63d2c97": {
          "model_module": "@jupyter-widgets/controls",
          "model_name": "LabelModel",
          "model_module_version": "1.5.0",
          "state": {
            "_dom_classes": [],
            "_model_module": "@jupyter-widgets/controls",
            "_model_module_version": "1.5.0",
            "_model_name": "LabelModel",
            "_view_count": null,
            "_view_module": "@jupyter-widgets/controls",
            "_view_module_version": "1.5.0",
            "_view_name": "LabelView",
            "description": "",
            "description_tooltip": null,
            "layout": "IPY_MODEL_21ba7890f1f6477197624051b1b7657c",
            "placeholder": "​",
            "style": "IPY_MODEL_0eb564a520814a259597df8865d71989",
            "value": "Thanks for your feedback!"
          }
        },
        "45d390ce0a084ce68f0153fccb2433a9": {
          "model_module": "@jupyter-widgets/base",
          "model_name": "LayoutModel",
          "model_module_version": "1.2.0",
          "state": {
            "_model_module": "@jupyter-widgets/base",
            "_model_module_version": "1.2.0",
            "_model_name": "LayoutModel",
            "_view_count": null,
            "_view_module": "@jupyter-widgets/base",
            "_view_module_version": "1.2.0",
            "_view_name": "LayoutView",
            "align_content": null,
            "align_items": null,
            "align_self": null,
            "border": null,
            "bottom": null,
            "display": null,
            "flex": null,
            "flex_flow": null,
            "grid_area": null,
            "grid_auto_columns": null,
            "grid_auto_flow": null,
            "grid_auto_rows": null,
            "grid_column": null,
            "grid_gap": null,
            "grid_row": null,
            "grid_template_areas": null,
            "grid_template_columns": null,
            "grid_template_rows": null,
            "height": null,
            "justify_content": null,
            "justify_items": null,
            "left": null,
            "margin": null,
            "max_height": null,
            "max_width": null,
            "min_height": null,
            "min_width": null,
            "object_fit": null,
            "object_position": null,
            "order": null,
            "overflow": null,
            "overflow_x": null,
            "overflow_y": null,
            "padding": null,
            "right": null,
            "top": null,
            "visibility": null,
            "width": null
          }
        },
        "2d4a1948e9944a2cb6a0f586d78c7aae": {
          "model_module": "@jupyter-widgets/base",
          "model_name": "LayoutModel",
          "model_module_version": "1.2.0",
          "state": {
            "_model_module": "@jupyter-widgets/base",
            "_model_module_version": "1.2.0",
            "_model_name": "LayoutModel",
            "_view_count": null,
            "_view_module": "@jupyter-widgets/base",
            "_view_module_version": "1.2.0",
            "_view_name": "LayoutView",
            "align_content": null,
            "align_items": null,
            "align_self": null,
            "border": null,
            "bottom": null,
            "display": null,
            "flex": null,
            "flex_flow": null,
            "grid_area": null,
            "grid_auto_columns": null,
            "grid_auto_flow": null,
            "grid_auto_rows": null,
            "grid_column": null,
            "grid_gap": null,
            "grid_row": null,
            "grid_template_areas": null,
            "grid_template_columns": null,
            "grid_template_rows": null,
            "height": null,
            "justify_content": null,
            "justify_items": null,
            "left": null,
            "margin": null,
            "max_height": null,
            "max_width": null,
            "min_height": null,
            "min_width": null,
            "object_fit": null,
            "object_position": null,
            "order": null,
            "overflow": null,
            "overflow_x": null,
            "overflow_y": null,
            "padding": null,
            "right": null,
            "top": null,
            "visibility": null,
            "width": null
          }
        },
        "313e3f783a1e482eb403c7921c6858ee": {
          "model_module": "@jupyter-widgets/controls",
          "model_name": "DescriptionStyleModel",
          "model_module_version": "1.5.0",
          "state": {
            "_model_module": "@jupyter-widgets/controls",
            "_model_module_version": "1.5.0",
            "_model_name": "DescriptionStyleModel",
            "_view_count": null,
            "_view_module": "@jupyter-widgets/base",
            "_view_module_version": "1.2.0",
            "_view_name": "StyleView",
            "description_width": ""
          }
        },
        "8914ac35349a465297412814673f4edc": {
          "model_module": "@jupyter-widgets/controls",
          "model_name": "ButtonModel",
          "model_module_version": "1.5.0",
          "state": {
            "_dom_classes": [
              "happy"
            ],
            "_model_module": "@jupyter-widgets/controls",
            "_model_module_version": "1.5.0",
            "_model_name": "ButtonModel",
            "_view_count": null,
            "_view_module": "@jupyter-widgets/controls",
            "_view_module_version": "1.5.0",
            "_view_name": "ButtonView",
            "button_style": "",
            "description": "🙂",
            "disabled": false,
            "icon": "",
            "layout": "IPY_MODEL_bda3c3aae11b4ea89a00d2aae81c50ea",
            "style": "IPY_MODEL_586f3f4bbc8e427b94919e989baee4e0",
            "tooltip": "Happy"
          }
        },
        "c0be84851bbe4e1c9b8b155b1330da50": {
          "model_module": "@jupyter-widgets/controls",
          "model_name": "ButtonModel",
          "model_module_version": "1.5.0",
          "state": {
            "_dom_classes": [
              "medium"
            ],
            "_model_module": "@jupyter-widgets/controls",
            "_model_module_version": "1.5.0",
            "_model_name": "ButtonModel",
            "_view_count": null,
            "_view_module": "@jupyter-widgets/controls",
            "_view_module_version": "1.5.0",
            "_view_name": "ButtonView",
            "button_style": "",
            "description": "😐",
            "disabled": false,
            "icon": "",
            "layout": "IPY_MODEL_73735c8157b7445ebb4c2f994dcd99f7",
            "style": "IPY_MODEL_d7c6fe7418b44f79acbcf841d308d216",
            "tooltip": "Medium"
          }
        },
        "1e064c8642fe4b04ae33977ee717eaa4": {
          "model_module": "@jupyter-widgets/controls",
          "model_name": "ButtonModel",
          "model_module_version": "1.5.0",
          "state": {
            "_dom_classes": [
              "sad"
            ],
            "_model_module": "@jupyter-widgets/controls",
            "_model_module_version": "1.5.0",
            "_model_name": "ButtonModel",
            "_view_count": null,
            "_view_module": "@jupyter-widgets/controls",
            "_view_module_version": "1.5.0",
            "_view_name": "ButtonView",
            "button_style": "",
            "description": "🙁",
            "disabled": false,
            "icon": "",
            "layout": "IPY_MODEL_2592bea43b564c45820b560241f88a89",
            "style": "IPY_MODEL_088b4a8d8ef64ca4a9660b8998e2a4e5",
            "tooltip": "Sad"
          }
        },
        "8a17deafe3744173821002597e002cc7": {
          "model_module": "@jupyter-widgets/base",
          "model_name": "LayoutModel",
          "model_module_version": "1.2.0",
          "state": {
            "_model_module": "@jupyter-widgets/base",
            "_model_module_version": "1.2.0",
            "_model_name": "LayoutModel",
            "_view_count": null,
            "_view_module": "@jupyter-widgets/base",
            "_view_module_version": "1.2.0",
            "_view_name": "LayoutView",
            "align_content": null,
            "align_items": null,
            "align_self": null,
            "border": null,
            "bottom": null,
            "display": null,
            "flex": null,
            "flex_flow": null,
            "grid_area": null,
            "grid_auto_columns": null,
            "grid_auto_flow": null,
            "grid_auto_rows": null,
            "grid_column": null,
            "grid_gap": null,
            "grid_row": null,
            "grid_template_areas": null,
            "grid_template_columns": null,
            "grid_template_rows": null,
            "height": null,
            "justify_content": null,
            "justify_items": null,
            "left": null,
            "margin": null,
            "max_height": null,
            "max_width": null,
            "min_height": null,
            "min_width": null,
            "object_fit": null,
            "object_position": null,
            "order": null,
            "overflow": null,
            "overflow_x": null,
            "overflow_y": null,
            "padding": null,
            "right": null,
            "top": null,
            "visibility": null,
            "width": null
          }
        },
        "dde28d88ff68438f82ff355db2a81241": {
          "model_module": "@jupyter-widgets/controls",
          "model_name": "TextareaModel",
          "model_module_version": "1.5.0",
          "state": {
            "_dom_classes": [],
            "_model_module": "@jupyter-widgets/controls",
            "_model_module_version": "1.5.0",
            "_model_name": "TextareaModel",
            "_view_count": null,
            "_view_module": "@jupyter-widgets/controls",
            "_view_module_version": "1.5.0",
            "_view_name": "TextareaView",
            "continuous_update": true,
            "description": "",
            "description_tooltip": null,
            "disabled": false,
            "layout": "IPY_MODEL_3552a94a546f4a7b802052b40c69b8c7",
            "placeholder": "We want your feedback!",
            "rows": null,
            "style": "IPY_MODEL_148c3b070acc4612a0ffe24a1f9f1ecf",
            "value": ""
          }
        },
        "607692cf19a1426dad022d8d17b4031e": {
          "model_module": "@jupyter-widgets/controls",
          "model_name": "ButtonModel",
          "model_module_version": "1.5.0",
          "state": {
            "_dom_classes": [],
            "_model_module": "@jupyter-widgets/controls",
            "_model_module_version": "1.5.0",
            "_model_name": "ButtonModel",
            "_view_count": null,
            "_view_module": "@jupyter-widgets/controls",
            "_view_module_version": "1.5.0",
            "_view_name": "ButtonView",
            "button_style": "",
            "description": "Submit",
            "disabled": false,
            "icon": "",
            "layout": "IPY_MODEL_fbaf3da3145448e79978ff0706dcd2ae",
            "style": "IPY_MODEL_80fd821ace8d4f0bb57174cfa61ab067",
            "tooltip": ""
          }
        },
        "27112e1c54a1422cb8690cd6c4750046": {
          "model_module": "@jupyter-widgets/base",
          "model_name": "LayoutModel",
          "model_module_version": "1.2.0",
          "state": {
            "_model_module": "@jupyter-widgets/base",
            "_model_module_version": "1.2.0",
            "_model_name": "LayoutModel",
            "_view_count": null,
            "_view_module": "@jupyter-widgets/base",
            "_view_module_version": "1.2.0",
            "_view_name": "LayoutView",
            "align_content": null,
            "align_items": null,
            "align_self": null,
            "border": null,
            "bottom": null,
            "display": "none",
            "flex": null,
            "flex_flow": null,
            "grid_area": null,
            "grid_auto_columns": null,
            "grid_auto_flow": null,
            "grid_auto_rows": null,
            "grid_column": null,
            "grid_gap": null,
            "grid_row": null,
            "grid_template_areas": null,
            "grid_template_columns": null,
            "grid_template_rows": null,
            "height": null,
            "justify_content": null,
            "justify_items": null,
            "left": null,
            "margin": null,
            "max_height": null,
            "max_width": null,
            "min_height": null,
            "min_width": null,
            "object_fit": null,
            "object_position": null,
            "order": null,
            "overflow": null,
            "overflow_x": null,
            "overflow_y": null,
            "padding": null,
            "right": null,
            "top": null,
            "visibility": null,
            "width": null
          }
        },
        "21ba7890f1f6477197624051b1b7657c": {
          "model_module": "@jupyter-widgets/base",
          "model_name": "LayoutModel",
          "model_module_version": "1.2.0",
          "state": {
            "_model_module": "@jupyter-widgets/base",
            "_model_module_version": "1.2.0",
            "_model_name": "LayoutModel",
            "_view_count": null,
            "_view_module": "@jupyter-widgets/base",
            "_view_module_version": "1.2.0",
            "_view_name": "LayoutView",
            "align_content": null,
            "align_items": null,
            "align_self": null,
            "border": null,
            "bottom": null,
            "display": "none",
            "flex": null,
            "flex_flow": null,
            "grid_area": null,
            "grid_auto_columns": null,
            "grid_auto_flow": null,
            "grid_auto_rows": null,
            "grid_column": null,
            "grid_gap": null,
            "grid_row": null,
            "grid_template_areas": null,
            "grid_template_columns": null,
            "grid_template_rows": null,
            "height": null,
            "justify_content": null,
            "justify_items": null,
            "left": null,
            "margin": null,
            "max_height": null,
            "max_width": null,
            "min_height": null,
            "min_width": null,
            "object_fit": null,
            "object_position": null,
            "order": null,
            "overflow": null,
            "overflow_x": null,
            "overflow_y": null,
            "padding": null,
            "right": null,
            "top": null,
            "visibility": null,
            "width": null
          }
        },
        "0eb564a520814a259597df8865d71989": {
          "model_module": "@jupyter-widgets/controls",
          "model_name": "DescriptionStyleModel",
          "model_module_version": "1.5.0",
          "state": {
            "_model_module": "@jupyter-widgets/controls",
            "_model_module_version": "1.5.0",
            "_model_name": "DescriptionStyleModel",
            "_view_count": null,
            "_view_module": "@jupyter-widgets/base",
            "_view_module_version": "1.2.0",
            "_view_name": "StyleView",
            "description_width": ""
          }
        },
        "bda3c3aae11b4ea89a00d2aae81c50ea": {
          "model_module": "@jupyter-widgets/base",
          "model_name": "LayoutModel",
          "model_module_version": "1.2.0",
          "state": {
            "_model_module": "@jupyter-widgets/base",
            "_model_module_version": "1.2.0",
            "_model_name": "LayoutModel",
            "_view_count": null,
            "_view_module": "@jupyter-widgets/base",
            "_view_module_version": "1.2.0",
            "_view_name": "LayoutView",
            "align_content": null,
            "align_items": null,
            "align_self": null,
            "border": null,
            "bottom": null,
            "display": null,
            "flex": null,
            "flex_flow": null,
            "grid_area": null,
            "grid_auto_columns": null,
            "grid_auto_flow": null,
            "grid_auto_rows": null,
            "grid_column": null,
            "grid_gap": null,
            "grid_row": null,
            "grid_template_areas": null,
            "grid_template_columns": null,
            "grid_template_rows": null,
            "height": "auto",
            "justify_content": null,
            "justify_items": null,
            "left": null,
            "margin": null,
            "max_height": null,
            "max_width": null,
            "min_height": null,
            "min_width": null,
            "object_fit": null,
            "object_position": null,
            "order": null,
            "overflow": null,
            "overflow_x": null,
            "overflow_y": null,
            "padding": null,
            "right": null,
            "top": null,
            "visibility": null,
            "width": "auto"
          }
        },
        "586f3f4bbc8e427b94919e989baee4e0": {
          "model_module": "@jupyter-widgets/controls",
          "model_name": "ButtonStyleModel",
          "model_module_version": "1.5.0",
          "state": {
            "_model_module": "@jupyter-widgets/controls",
            "_model_module_version": "1.5.0",
            "_model_name": "ButtonStyleModel",
            "_view_count": null,
            "_view_module": "@jupyter-widgets/base",
            "_view_module_version": "1.2.0",
            "_view_name": "StyleView",
            "button_color": "#aaffaa",
            "font_weight": ""
          }
        },
        "73735c8157b7445ebb4c2f994dcd99f7": {
          "model_module": "@jupyter-widgets/base",
          "model_name": "LayoutModel",
          "model_module_version": "1.2.0",
          "state": {
            "_model_module": "@jupyter-widgets/base",
            "_model_module_version": "1.2.0",
            "_model_name": "LayoutModel",
            "_view_count": null,
            "_view_module": "@jupyter-widgets/base",
            "_view_module_version": "1.2.0",
            "_view_name": "LayoutView",
            "align_content": null,
            "align_items": null,
            "align_self": null,
            "border": null,
            "bottom": null,
            "display": null,
            "flex": null,
            "flex_flow": null,
            "grid_area": null,
            "grid_auto_columns": null,
            "grid_auto_flow": null,
            "grid_auto_rows": null,
            "grid_column": null,
            "grid_gap": null,
            "grid_row": null,
            "grid_template_areas": null,
            "grid_template_columns": null,
            "grid_template_rows": null,
            "height": "auto",
            "justify_content": null,
            "justify_items": null,
            "left": null,
            "margin": null,
            "max_height": null,
            "max_width": null,
            "min_height": null,
            "min_width": null,
            "object_fit": null,
            "object_position": null,
            "order": null,
            "overflow": null,
            "overflow_x": null,
            "overflow_y": null,
            "padding": null,
            "right": null,
            "top": null,
            "visibility": null,
            "width": "auto"
          }
        },
        "d7c6fe7418b44f79acbcf841d308d216": {
          "model_module": "@jupyter-widgets/controls",
          "model_name": "ButtonStyleModel",
          "model_module_version": "1.5.0",
          "state": {
            "_model_module": "@jupyter-widgets/controls",
            "_model_module_version": "1.5.0",
            "_model_name": "ButtonStyleModel",
            "_view_count": null,
            "_view_module": "@jupyter-widgets/base",
            "_view_module_version": "1.2.0",
            "_view_name": "StyleView",
            "button_color": "#dddd77",
            "font_weight": ""
          }
        },
        "2592bea43b564c45820b560241f88a89": {
          "model_module": "@jupyter-widgets/base",
          "model_name": "LayoutModel",
          "model_module_version": "1.2.0",
          "state": {
            "_model_module": "@jupyter-widgets/base",
            "_model_module_version": "1.2.0",
            "_model_name": "LayoutModel",
            "_view_count": null,
            "_view_module": "@jupyter-widgets/base",
            "_view_module_version": "1.2.0",
            "_view_name": "LayoutView",
            "align_content": null,
            "align_items": null,
            "align_self": null,
            "border": null,
            "bottom": null,
            "display": null,
            "flex": null,
            "flex_flow": null,
            "grid_area": null,
            "grid_auto_columns": null,
            "grid_auto_flow": null,
            "grid_auto_rows": null,
            "grid_column": null,
            "grid_gap": null,
            "grid_row": null,
            "grid_template_areas": null,
            "grid_template_columns": null,
            "grid_template_rows": null,
            "height": "auto",
            "justify_content": null,
            "justify_items": null,
            "left": null,
            "margin": null,
            "max_height": null,
            "max_width": null,
            "min_height": null,
            "min_width": null,
            "object_fit": null,
            "object_position": null,
            "order": null,
            "overflow": null,
            "overflow_x": null,
            "overflow_y": null,
            "padding": null,
            "right": null,
            "top": null,
            "visibility": null,
            "width": "auto"
          }
        },
        "088b4a8d8ef64ca4a9660b8998e2a4e5": {
          "model_module": "@jupyter-widgets/controls",
          "model_name": "ButtonStyleModel",
          "model_module_version": "1.5.0",
          "state": {
            "_model_module": "@jupyter-widgets/controls",
            "_model_module_version": "1.5.0",
            "_model_name": "ButtonStyleModel",
            "_view_count": null,
            "_view_module": "@jupyter-widgets/base",
            "_view_module_version": "1.2.0",
            "_view_name": "StyleView",
            "button_color": "#ffaaaa",
            "font_weight": ""
          }
        },
        "3552a94a546f4a7b802052b40c69b8c7": {
          "model_module": "@jupyter-widgets/base",
          "model_name": "LayoutModel",
          "model_module_version": "1.2.0",
          "state": {
            "_model_module": "@jupyter-widgets/base",
            "_model_module_version": "1.2.0",
            "_model_name": "LayoutModel",
            "_view_count": null,
            "_view_module": "@jupyter-widgets/base",
            "_view_module_version": "1.2.0",
            "_view_name": "LayoutView",
            "align_content": null,
            "align_items": null,
            "align_self": null,
            "border": null,
            "bottom": null,
            "display": null,
            "flex": null,
            "flex_flow": null,
            "grid_area": null,
            "grid_auto_columns": null,
            "grid_auto_flow": null,
            "grid_auto_rows": null,
            "grid_column": null,
            "grid_gap": null,
            "grid_row": null,
            "grid_template_areas": null,
            "grid_template_columns": null,
            "grid_template_rows": null,
            "height": "auto",
            "justify_content": null,
            "justify_items": null,
            "left": null,
            "margin": null,
            "max_height": null,
            "max_width": null,
            "min_height": null,
            "min_width": null,
            "object_fit": null,
            "object_position": null,
            "order": null,
            "overflow": null,
            "overflow_x": null,
            "overflow_y": null,
            "padding": null,
            "right": null,
            "top": null,
            "visibility": null,
            "width": "auto"
          }
        },
        "148c3b070acc4612a0ffe24a1f9f1ecf": {
          "model_module": "@jupyter-widgets/controls",
          "model_name": "DescriptionStyleModel",
          "model_module_version": "1.5.0",
          "state": {
            "_model_module": "@jupyter-widgets/controls",
            "_model_module_version": "1.5.0",
            "_model_name": "DescriptionStyleModel",
            "_view_count": null,
            "_view_module": "@jupyter-widgets/base",
            "_view_module_version": "1.2.0",
            "_view_name": "StyleView",
            "description_width": ""
          }
        },
        "fbaf3da3145448e79978ff0706dcd2ae": {
          "model_module": "@jupyter-widgets/base",
          "model_name": "LayoutModel",
          "model_module_version": "1.2.0",
          "state": {
            "_model_module": "@jupyter-widgets/base",
            "_model_module_version": "1.2.0",
            "_model_name": "LayoutModel",
            "_view_count": null,
            "_view_module": "@jupyter-widgets/base",
            "_view_module_version": "1.2.0",
            "_view_name": "LayoutView",
            "align_content": null,
            "align_items": null,
            "align_self": null,
            "border": null,
            "bottom": null,
            "display": null,
            "flex": null,
            "flex_flow": null,
            "grid_area": null,
            "grid_auto_columns": null,
            "grid_auto_flow": null,
            "grid_auto_rows": null,
            "grid_column": null,
            "grid_gap": null,
            "grid_row": null,
            "grid_template_areas": null,
            "grid_template_columns": null,
            "grid_template_rows": null,
            "height": "auto",
            "justify_content": null,
            "justify_items": null,
            "left": null,
            "margin": null,
            "max_height": null,
            "max_width": null,
            "min_height": null,
            "min_width": null,
            "object_fit": null,
            "object_position": null,
            "order": null,
            "overflow": null,
            "overflow_x": null,
            "overflow_y": null,
            "padding": null,
            "right": null,
            "top": null,
            "visibility": null,
            "width": "auto"
          }
        },
        "80fd821ace8d4f0bb57174cfa61ab067": {
          "model_module": "@jupyter-widgets/controls",
          "model_name": "ButtonStyleModel",
          "model_module_version": "1.5.0",
          "state": {
            "_model_module": "@jupyter-widgets/controls",
            "_model_module_version": "1.5.0",
            "_model_name": "ButtonStyleModel",
            "_view_count": null,
            "_view_module": "@jupyter-widgets/base",
            "_view_module_version": "1.2.0",
            "_view_name": "StyleView",
            "button_color": null,
            "font_weight": ""
          }
        }
      }
    }
  },
  "nbformat": 4,
  "nbformat_minor": 0
}