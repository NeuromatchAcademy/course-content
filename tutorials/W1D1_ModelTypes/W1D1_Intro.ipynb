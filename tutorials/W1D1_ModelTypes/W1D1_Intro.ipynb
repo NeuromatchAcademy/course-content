{
  "nbformat": 4,
  "nbformat_minor": 0,
  "metadata": {
    "colab": {
      "name": "W1D1_Intro",
      "provenance": [],
      "collapsed_sections": [],
      "toc_visible": true,
      "include_colab_link": true
    },
    "kernel": {
      "display_name": "Python 3",
      "language": "python",
      "name": "python3"
    },
    "kernelspec": {
      "display_name": "Python 3",
      "language": "python",
      "name": "python3"
    },
    "language_info": {
      "codemirror_mode": {
        "name": "ipython",
        "version": 3
      },
      "file_extension": ".py",
      "mimetype": "text/x-python",
      "name": "python",
      "nbconvert_exporter": "python",
      "pygments_lexer": "ipython3",
      "version": "3.7.10"
    },
    "widgets": {
      "application/vnd.jupyter.widget-state+json": {
        "a9f0f7768ab8406b97c6a83ec6d568d2": {
          "model_module": "@jupyter-widgets/controls",
          "model_name": "TabModel",
          "state": {
            "_view_name": "TabView",
            "_dom_classes": [],
            "_titles": {
              "0": "Youtube",
              "1": "Bilibili"
            },
            "_model_name": "TabModel",
            "_view_module": "@jupyter-widgets/controls",
            "selected_index": 0,
            "_model_module_version": "1.5.0",
            "_view_count": null,
            "_view_module_version": "1.5.0",
            "box_style": "",
            "layout": "IPY_MODEL_9bea65c80f504e35970f94c50abf9240",
            "_model_module": "@jupyter-widgets/controls",
            "children": [
              "IPY_MODEL_e98f9e6d7c19450a93c72e68ee4dec17",
              "IPY_MODEL_f295488afcab4b38aaffffbb513378c9"
            ]
          }
        },
        "9bea65c80f504e35970f94c50abf9240": {
          "model_module": "@jupyter-widgets/base",
          "model_name": "LayoutModel",
          "state": {
            "_view_name": "LayoutView",
            "grid_template_rows": null,
            "right": null,
            "justify_content": null,
            "_view_module": "@jupyter-widgets/base",
            "overflow": null,
            "_model_module_version": "1.2.0",
            "_view_count": null,
            "flex_flow": null,
            "width": null,
            "min_width": null,
            "border": null,
            "align_items": null,
            "bottom": null,
            "_model_module": "@jupyter-widgets/base",
            "top": null,
            "grid_column": null,
            "overflow_y": null,
            "overflow_x": null,
            "grid_auto_flow": null,
            "grid_area": null,
            "grid_template_columns": null,
            "flex": null,
            "_model_name": "LayoutModel",
            "justify_items": null,
            "grid_row": null,
            "max_height": null,
            "align_content": null,
            "visibility": null,
            "align_self": null,
            "height": null,
            "min_height": null,
            "padding": null,
            "grid_auto_rows": null,
            "grid_gap": null,
            "max_width": null,
            "order": null,
            "_view_module_version": "1.2.0",
            "grid_template_areas": null,
            "object_position": null,
            "object_fit": null,
            "grid_auto_columns": null,
            "margin": null,
            "display": null,
            "left": null
          }
        },
        "e98f9e6d7c19450a93c72e68ee4dec17": {
          "model_module": "@jupyter-widgets/output",
          "model_name": "OutputModel",
          "state": {
            "_view_name": "OutputView",
            "msg_id": "",
            "_dom_classes": [],
            "_model_name": "OutputModel",
            "outputs": [
              {
                "output_type": "stream",
                "metadata": {
                  "tags": []
                },
                "text": "Video available at https://youtube.com/watch?v=W5o_HTsef0I\n",
                "stream": "stdout"
              },
              {
                "output_type": "display_data",
                "metadata": {
                  "tags": []
                },
                "text/html": "\n        <iframe\n            width=\"854\"\n            height=\"480\"\n            src=\"https://www.youtube.com/embed/W5o_HTsef0I?fs=1&rel=0\"\n            frameborder=\"0\"\n            allowfullscreen\n        ></iframe>\n        ",
                "text/plain": "<IPython.lib.display.YouTubeVideo at 0x7fdce797b8d0>",
                "image/jpeg": "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\n"
              }
            ],
            "_view_module": "@jupyter-widgets/output",
            "_model_module_version": "1.0.0",
            "_view_count": null,
            "_view_module_version": "1.0.0",
            "layout": "IPY_MODEL_1fba001b225c4f3aace1ac14abc17031",
            "_model_module": "@jupyter-widgets/output"
          }
        },
        "f295488afcab4b38aaffffbb513378c9": {
          "model_module": "@jupyter-widgets/output",
          "model_name": "OutputModel",
          "state": {
            "_view_name": "OutputView",
            "msg_id": "",
            "_dom_classes": [],
            "_model_name": "OutputModel",
            "outputs": [
              {
                "output_type": "stream",
                "metadata": {
                  "tags": []
                },
                "text": "Video available at https://www.bilibili.com/video/BV1HT4y1E7U4\n",
                "stream": "stdout"
              },
              {
                "output_type": "display_data",
                "metadata": {
                  "tags": []
                },
                "text/html": "\n        <iframe\n            width=\"854\"\n            height=\"480\"\n            src=\"https://player.bilibili.com/player.html?bvid=BV1HT4y1E7U4&page=1?fs=1\"\n            frameborder=\"0\"\n            allowfullscreen\n        ></iframe>\n        ",
                "text/plain": "<__main__.BiliVideo at 0x7fdceb88fd10>"
              }
            ],
            "_view_module": "@jupyter-widgets/output",
            "_model_module_version": "1.0.0",
            "_view_count": null,
            "_view_module_version": "1.0.0",
            "layout": "IPY_MODEL_2c56b1690d554c2cab0da0a57c93997c",
            "_model_module": "@jupyter-widgets/output"
          }
        },
        "1fba001b225c4f3aace1ac14abc17031": {
          "model_module": "@jupyter-widgets/base",
          "model_name": "LayoutModel",
          "state": {
            "_view_name": "LayoutView",
            "grid_template_rows": null,
            "right": null,
            "justify_content": null,
            "_view_module": "@jupyter-widgets/base",
            "overflow": null,
            "_model_module_version": "1.2.0",
            "_view_count": null,
            "flex_flow": null,
            "width": null,
            "min_width": null,
            "border": null,
            "align_items": null,
            "bottom": null,
            "_model_module": "@jupyter-widgets/base",
            "top": null,
            "grid_column": null,
            "overflow_y": null,
            "overflow_x": null,
            "grid_auto_flow": null,
            "grid_area": null,
            "grid_template_columns": null,
            "flex": null,
            "_model_name": "LayoutModel",
            "justify_items": null,
            "grid_row": null,
            "max_height": null,
            "align_content": null,
            "visibility": null,
            "align_self": null,
            "height": null,
            "min_height": null,
            "padding": null,
            "grid_auto_rows": null,
            "grid_gap": null,
            "max_width": null,
            "order": null,
            "_view_module_version": "1.2.0",
            "grid_template_areas": null,
            "object_position": null,
            "object_fit": null,
            "grid_auto_columns": null,
            "margin": null,
            "display": null,
            "left": null
          }
        },
        "2c56b1690d554c2cab0da0a57c93997c": {
          "model_module": "@jupyter-widgets/base",
          "model_name": "LayoutModel",
          "state": {
            "_view_name": "LayoutView",
            "grid_template_rows": null,
            "right": null,
            "justify_content": null,
            "_view_module": "@jupyter-widgets/base",
            "overflow": null,
            "_model_module_version": "1.2.0",
            "_view_count": null,
            "flex_flow": null,
            "width": null,
            "min_width": null,
            "border": null,
            "align_items": null,
            "bottom": null,
            "_model_module": "@jupyter-widgets/base",
            "top": null,
            "grid_column": null,
            "overflow_y": null,
            "overflow_x": null,
            "grid_auto_flow": null,
            "grid_area": null,
            "grid_template_columns": null,
            "flex": null,
            "_model_name": "LayoutModel",
            "justify_items": null,
            "grid_row": null,
            "max_height": null,
            "align_content": null,
            "visibility": null,
            "align_self": null,
            "height": null,
            "min_height": null,
            "padding": null,
            "grid_auto_rows": null,
            "grid_gap": null,
            "max_width": null,
            "order": null,
            "_view_module_version": "1.2.0",
            "grid_template_areas": null,
            "object_position": null,
            "object_fit": null,
            "grid_auto_columns": null,
            "margin": null,
            "display": null,
            "left": null
          }
        }
      }
    }
  },
  "cells": [
    {
      "cell_type": "markdown",
      "metadata": {
        "id": "view-in-github",
        "colab_type": "text"
      },
      "source": [
        "<a href=\"https://colab.research.google.com/github/NeuromatchAcademy/course-content/blob/add_new_intros/tutorials/W1D1_ModelTypes/W1D1_Intro.ipynb\" target=\"_parent\"><img src=\"https://colab.research.google.com/assets/colab-badge.svg\" alt=\"Open In Colab\"/></a>"
      ]
    },
    {
      "cell_type": "markdown",
      "metadata": {
        "pycharm": {
          "name": "#%% md\n"
        },
        "id": "yOgJNLiW11w_"
      },
      "source": [
        "# Intro"
      ]
    },
    {
      "cell_type": "markdown",
      "metadata": {
        "id": "JVEAs4IN11xA"
      },
      "source": [
        "**Our 2021 Sponsors, including Presenting Sponsor Facebook Reality Labs**\n",
        "\n",
        "<p align='center'><img src='https://github.com/NeuromatchAcademy/widgets/blob/master/sponsors.png?raw=True'/></p>"
      ]
    },
    {
      "cell_type": "markdown",
      "metadata": {
        "pycharm": {
          "name": "#%% md\n"
        },
        "id": "YUvaYi_J11xA"
      },
      "source": [
        "## Overview\n",
        "The first two days of NMA are all about the process of modeling and what models are. It’s important to learn about these meta-modeling aspects before diving into different kinds of modeling tools during the remainder of NMA. So today will be about the diversity of models and what different models can do for us. Typically everyone has an intuition about how different analysis tools can extract different kinds of information from experimental data; you choose a different analysis depending on your question. However, this is less appreciated for models. But it’s the same for them; you want to build a different kind of model to answer different kinds of questions. It all depends on your goals. So today, we will examine three kinds of models that we can classify as (according to Dayan and Abbott, 2001): what, how, and why models.\n",
        "\n",
        "Each tutorial will guide you through one of those models to describe the exact same data: the time interval between neuronal action potentials, aka inter-spike interval (ISI). In tutorial 1, we will ask what function best describes the shape of the ISI distribution (it’s an exponential distribution). Such a “what” model can compactly describe the ISI distribution and allows, for example, to quantify ISI properties across datasets, task conditions, brain areas etc. In tutorial 2, we ask which mechanism could generate the observed ISI distribution. Such a “how” model proposes a specific way that a system produces the observed behavior. Here, you will see that it’s a balance between excitation and inhibition that generates exponentially distributed ISIs. Finally we will ask “why” the exponential distribution is the most optimal way to code information in neurons. “Why” models thus ask about the underlying principles of a phenomenon.\n",
        "\n",
        "In any research, we typically start with descriptive (“what”) models; you will see examples of those during the model fitting, GLM, dimensionality reduction, and deep learning days. Next, we often ask about the mechanisms and build “how” models to generate or test hypotheses of underlying mechanisms; examples of those will be in linear systems, real neurons, dynamic networks, and decision making days. Ultimately, we are usually interested in the underlying reason of why the phenomenon exists in the first place; examples of those are in Bayes, optimal Control, and reinforcement learning days. “Why” models are often the hardest to achieve; “what” models are usually the easiest. But more importantly, they allow answering different questions, provide different insights and have different utilities. Thinking about the question I want to answer, why I want to answer this question (i.e. my goal) and the hypotheses I want to evaluate determines my own modeling choices every day. The resulting diversity in models is great because all models address different facets of a problem (like in today's 3 tutorials) and are thus complementary in our quest for knowledge. Today’s materials will hopefully allow you to better appreciate the opportunities and limitations offered by all the modeling tools you will learn during NMA.\n"
      ]
    },
    {
      "cell_type": "markdown",
      "metadata": {
        "id": "HkpSa8My11xB"
      },
      "source": [
        "## Prerequisite knowledge\n",
        "\n",
        "In the content and tutorials today, you will be using derivatives (W0D4 T1), numerical integration (Euler's method) (W0D4 T3), and probability distributions (W0D5 T1). You will also be using some basic knowledge of neurons (Neuro Video Series Intro). Please review this material if necessary!"
      ]
    },
    {
      "cell_type": "markdown",
      "metadata": {
        "pycharm": {
          "name": "#%% md\n"
        },
        "id": "w6bm2SZA11xB"
      },
      "source": [
        "## Video"
      ]
    },
    {
      "cell_type": "code",
      "metadata": {
        "execution": {
          "iopub.execute_input": "2021-07-03T17:54:15.031910Z",
          "iopub.status.busy": "2021-07-03T17:54:15.031188Z",
          "iopub.status.idle": "2021-07-03T17:54:15.220305Z",
          "shell.execute_reply": "2021-07-03T17:54:15.216110Z"
        },
        "pycharm": {
          "name": "#%%\n"
        },
        "cellView": "form",
        "id": "PGKdu9KD11xC",
        "outputId": "4b5b61e6-ff85-4fa4-ce9b-f502d152f8b0",
        "colab": {
          "base_uri": "https://localhost:8080/",
          "height": 580,
          "referenced_widgets": [
            "a9f0f7768ab8406b97c6a83ec6d568d2",
            "9bea65c80f504e35970f94c50abf9240",
            "e98f9e6d7c19450a93c72e68ee4dec17",
            "f295488afcab4b38aaffffbb513378c9",
            "1fba001b225c4f3aace1ac14abc17031",
            "2c56b1690d554c2cab0da0a57c93997c"
          ]
        }
      },
      "source": [
        "# @markdown\n",
        "from ipywidgets import widgets\n",
        "\n",
        "out2 = widgets.Output()\n",
        "with out2:\n",
        "  from IPython.display import IFrame\n",
        "  class BiliVideo(IFrame):\n",
        "      def __init__(self, id, page=1, width=400, height=300, **kwargs):\n",
        "          self.id=id\n",
        "          src = \"https://player.bilibili.com/player.html?bvid={0}&page={1}\".format(id, page)\n",
        "          super(BiliVideo, self).__init__(src, width, height, **kwargs)\n",
        "\n",
        "  video = BiliVideo(id=f\"BV1HT4y1E7U4\", width=854, height=480, fs=1)\n",
        "  print(\"Video available at https://www.bilibili.com/video/{0}\".format(video.id))\n",
        "  display(video)\n",
        "\n",
        "out1 = widgets.Output()\n",
        "with out1:\n",
        "  from IPython.display import YouTubeVideo\n",
        "  video = YouTubeVideo(id=f\"W5o_HTsef0I\", width=854, height=480, fs=1, rel=0)\n",
        "  print(\"Video available at https://youtube.com/watch?v=\" + video.id)\n",
        "  display(video)\n",
        "\n",
        "out = widgets.Tab([out1, out2])\n",
        "out.set_title(0, 'Youtube')\n",
        "out.set_title(1, 'Bilibili')\n",
        "\n",
        "display(out)"
      ],
      "execution_count": 4,
      "outputs": [
        {
          "output_type": "display_data",
          "data": {
            "application/vnd.jupyter.widget-view+json": {
              "model_id": "a9f0f7768ab8406b97c6a83ec6d568d2",
              "version_minor": 0,
              "version_major": 2
            },
            "text/plain": [
              "Tab(children=(Output(), Output()), _titles={'0': 'Youtube', '1': 'Bilibili'})"
            ]
          },
          "metadata": {
            "tags": []
          }
        }
      ]
    },
    {
      "cell_type": "markdown",
      "metadata": {
        "pycharm": {
          "name": "#%% md\n"
        },
        "id": "InPwjhVA11xC"
      },
      "source": [
        "## Slides"
      ]
    },
    {
      "cell_type": "code",
      "metadata": {
        "execution": {
          "iopub.execute_input": "2021-07-03T17:54:15.230713Z",
          "iopub.status.busy": "2021-07-03T17:54:15.229461Z",
          "iopub.status.idle": "2021-07-03T17:54:15.233291Z",
          "shell.execute_reply": "2021-07-03T17:54:15.232766Z"
        },
        "pycharm": {
          "name": "#%%\n"
        },
        "id": "T9KdxnVj11xD",
        "outputId": "e587628b-c30f-4f10-ca43-6768ee60f610",
        "colab": {
          "base_uri": "https://localhost:8080/",
          "height": 500
        }
      },
      "source": [
        "# @markdown\n",
        "from IPython.display import IFrame\n",
        "IFrame(src=f\"https://mfr.ca-1.osf.io/render?url=https://osf.io/rbx2a/?direct%26mode=render%26action=download%26mode=render\", width=854, height=480)"
      ],
      "execution_count": 5,
      "outputs": [
        {
          "output_type": "execute_result",
          "data": {
            "text/html": [
              "\n",
              "        <iframe\n",
              "            width=\"854\"\n",
              "            height=\"480\"\n",
              "            src=\"https://mfr.ca-1.osf.io/render?url=https://osf.io/rbx2a/?direct%26mode=render%26action=download%26mode=render\"\n",
              "            frameborder=\"0\"\n",
              "            allowfullscreen\n",
              "        ></iframe>\n",
              "        "
            ],
            "text/plain": [
              "<IPython.lib.display.IFrame at 0x7fdce797b5d0>"
            ]
          },
          "metadata": {
            "tags": []
          },
          "execution_count": 5
        }
      ]
    }
  ]
}