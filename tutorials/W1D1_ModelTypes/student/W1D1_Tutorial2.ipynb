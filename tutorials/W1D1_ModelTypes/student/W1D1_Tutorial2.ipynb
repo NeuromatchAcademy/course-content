{
 "cells": [
  {
   "cell_type": "markdown",
   "metadata": {
    "colab_type": "text",
    "id": "view-in-github"
   },
   "source": [
    "<a href=\"https://colab.research.google.com/github/NeuromatchAcademy/course-content/blob/master/tutorials/W1D1_ModelTypes/student/W1D1_Tutorial2.ipynb\" target=\"_parent\"><img src=\"https://colab.research.google.com/assets/colab-badge.svg\" alt=\"Open In Colab\"/></a>"
   ]
  },
  {
   "cell_type": "markdown",
   "metadata": {
    "colab_type": "text"
   },
   "source": [
    "#  Neuromatch Academy: Week 1, Day 1, Tutorial 2\n",
    "# Model Types: \"How\" models\n",
    "__Content creators:__ Matt Laporte, Byron Galbraith, Konrad Kording\n",
    "\n",
    "__Content reviewers:__ Dalin Guo, Aishwarya Balwani, Madineh Sarvestani, Maryam Vaziri-Pashkam, Michael Waskom"
   ]
  },
  {
   "cell_type": "markdown",
   "metadata": {
    "colab_type": "text"
   },
   "source": [
    "___\n",
    "# Tutorial Objectives\n",
    "This is tutorial 2 of a 3-part series on different flavors of models used to understand neural data. In this tutorial we will explore models that can potentially explain *how* the spiking data we have observed is produced\n",
    "\n",
    "To understand the mechanisms that give rise to the neural data we save in Tutorial 1,  we will build simple neuronal models and compare their spiking response to real data. We will:\n",
    "- Write code to simulate a  simple \"leaky integrate-and-fire\" neuron model \n",
    "- Make the model more complicated — but also more realistic — by adding more physiologically-inspired details"
   ]
  },
  {
   "cell_type": "code",
   "execution_count": null,
   "metadata": {
    "cellView": "form",
    "colab": {
     "base_uri": "https://localhost:8080/",
     "height": 537
    },
    "colab_type": "code",
    "outputId": "742fda89-c39d-4d55-94d8-8e02c99a32d3"
   },
   "outputs": [],
   "source": [
    "#@title Video 1: \"How\" models\n",
    "from IPython.display import YouTubeVideo\n",
    "video = YouTubeVideo(id='PpnagITsb3E', width=854, height=480, fs=1)\n",
    "print(\"Video available at https://youtube.com/watch?v=\" + video.id)\n",
    "video"
   ]
  },
  {
   "cell_type": "markdown",
   "metadata": {
    "colab_type": "text"
   },
   "source": [
    "# Setup"
   ]
  },
  {
   "cell_type": "code",
   "execution_count": null,
   "metadata": {
    "cellView": "both",
    "colab": {},
    "colab_type": "code"
   },
   "outputs": [],
   "source": [
    "import numpy as np\n",
    "import matplotlib.pyplot as plt\n",
    "from scipy import stats"
   ]
  },
  {
   "cell_type": "code",
   "execution_count": null,
   "metadata": {
    "cellView": "form",
    "colab": {},
    "colab_type": "code"
   },
   "outputs": [],
   "source": [
    "#@title Figure Settings\n",
    "import ipywidgets as widgets #interactive display\n",
    "\n",
    "%matplotlib inline\n",
    "%config InlineBackend.figure_format = 'retina'\n",
    "plt.style.use(\"https://raw.githubusercontent.com/NeuromatchAcademy/course-content/master/nma.mplstyle\")"
   ]
  },
  {
   "cell_type": "code",
   "execution_count": null,
   "metadata": {
    "cellView": "form",
    "colab": {},
    "colab_type": "code"
   },
   "outputs": [],
   "source": [
    "#@title Helper Functions\n",
    "def histogram(counts, bins, vlines=(), ax=None, ax_args=None, **kwargs):\n",
    "  \"\"\"Plot a step histogram given counts over bins.\"\"\"\n",
    "  if ax is None:\n",
    "    _, ax = plt.subplots()\n",
    "\n",
    "  # duplicate the first element of `counts` to match bin edges\n",
    "  counts = np.insert(counts, 0, counts[0])\n",
    "\n",
    "  ax.fill_between(bins, counts, step=\"pre\", alpha=0.4, **kwargs)  # area shading\n",
    "  ax.plot(bins, counts, drawstyle=\"steps\", **kwargs)  # lines\n",
    "\n",
    "  for x in vlines:\n",
    "    ax.axvline(x, color='r', linestyle='dotted')  # vertical line\n",
    "\n",
    "  if ax_args is None:\n",
    "    ax_args = {}\n",
    "\n",
    "  # heuristically set max y to leave a bit of room\n",
    "  ymin, ymax = ax_args.get('ylim', [None, None])\n",
    "  if ymax is None:\n",
    "    ymax = np.max(counts)\n",
    "    if ax_args.get('yscale', 'linear') == 'log':\n",
    "      ymax *= 1.5\n",
    "    else:\n",
    "      ymax *= 1.1\n",
    "      if ymin is None:\n",
    "        ymin = 0\n",
    "\n",
    "  if ymax == ymin:\n",
    "    ymax = None\n",
    "\n",
    "  ax_args['ylim'] = [ymin, ymax]\n",
    "\n",
    "  ax.set(**ax_args)\n",
    "  ax.autoscale(enable=False, axis='x', tight=True)\n",
    "\n",
    "\n",
    "def plot_neuron_stats(v, spike_times):\n",
    "  fig, (ax1, ax2) = plt.subplots(ncols=2, figsize=(12, 5))\n",
    "\n",
    "  # membrane voltage trace\n",
    "  ax1.plot(v[0:100])\n",
    "  ax1.set(xlabel='Time', ylabel='Voltage')\n",
    "  # plot spike events\n",
    "  for x in spike_times:\n",
    "    if x >= 100:\n",
    "      break\n",
    "    ax1.axvline(x, color='red')\n",
    "\n",
    "  # ISI distribution\n",
    "  if len(spike_times)>1:\n",
    "    isi = np.diff(spike_times)\n",
    "    n_bins = np.arange(isi.min(), isi.max() + 2) - .5\n",
    "    counts, bins = np.histogram(isi, n_bins)\n",
    "    vlines = []\n",
    "    if len(isi) > 0:\n",
    "      vlines = [np.mean(isi)]\n",
    "    xmax = max(20, int(bins[-1])+5)\n",
    "    histogram(counts, bins, vlines=vlines, ax=ax2, ax_args={\n",
    "      'xlabel': 'Inter-spike interval',\n",
    "      'ylabel': 'Number of intervals',\n",
    "      'xlim': [0, xmax]\n",
    "    })\n",
    "  else:\n",
    "    ax2.set(xlabel='Inter-spike interval',\n",
    "           ylabel='Number of intervals')\n",
    "  plt.show()"
   ]
  },
  {
   "cell_type": "markdown",
   "metadata": {
    "colab_type": "text"
   },
   "source": [
    "# Section 1: The Linear Integrate-and-Fire Neuron\n",
    "\n",
    "How does a neuron spike? \n",
    "\n",
    "A neuron charges and discharges an electric field across its cell membrane. The state of this electric field can be described by the _membrane potential_. The membrane potential rises due to excitation of the neuron, and when it reaches a threshold a spike occurs. The potential resets, and must rise to a threshold again before the next spike occurs.\n",
    "\n",
    "One of the simplest models of spiking neuron behavior is the linear integrate-and-fire model neuron. In this model, the neuron increases its membrane potential $V_m$ over time in response to excitatory input currents $I$ scaled by some factor $\\alpha$:\n",
    "\n",
    "\\begin{align}\n",
    "  dV_m = {\\alpha}I\n",
    "\\end{align}\n",
    "\n",
    "Once $V_m$ reaches a threshold value a spike is produced, $V_m$ is reset to a starting value, and the process continues.\n",
    "\n",
    "Here, we will take the starting and threshold potentials as $0$ and $1$, respectively. So, for example, if $\\alpha I=0.1$ is constant---that is, the input current is constant---then $dV_m=0.1$, and at each timestep the membrane potential $V_m$ increases by $0.1$ until after $(1-0)/0.1 = 10$ timesteps it reaches the threshold and resets to $V_m=0$, and so on.\n",
    "\n",
    "Note that we define the membrane potential $V_m$ as a scalar: a single real (or floating point) number. However, a biological neuron's membrane potential will not be exactly constant at all points on its cell membrane at a given time. We could capture this variation with a more complex model (e.g. with more numbers). Do we need to? \n",
    "\n",
    "The proposed model is a 1D simplification. There are many details we could add to it, to preserve different parts of the complex structure and dynamics of a real neuron. If we were interested in small or local changes in the membrane potential, our 1D simplification could be a problem. However, we'll assume an idealized \"point\" neuron model for our current purpose.\n",
    "\n",
    "#### Spiking Inputs\n",
    "\n",
    "Given our simplified model for the neuron dynamics, we still need to consider what form the input $I$ will take. How should we specify the firing behavior of the presynaptic neuron(s) providing the inputs to our model neuron? \n",
    "\n",
    "Unlike in the simple example above, where $\\alpha I=0.1$, the input current is generally not constant. Physical inputs tend to vary with time. We can describe this variation with a distribution.\n",
    "\n",
    "We'll assume the input current $I$ over a timestep is due to equal contributions from a non-negative ($\\ge 0$) integer number of input spikes arriving in that timestep. Our model neuron might integrate currents from 3 input spikes in one timestep, and 7 spikes in the next timestep. We should see similar behavior when sampling from our distribution.\n",
    "\n",
    "Given no other information about the input neurons, we will also assume that the distribution has a mean (i.e. mean rate, or number of spikes received per timestep), and that the spiking events of the input neuron(s) are independent in time. Are these reasonable assumptions in the context of real neurons?\n",
    "\n",
    "A suitable distribution given these assumptions is the Poisson distribution, which we'll use to model $I$:\n",
    "\n",
    "\\begin{align}\n",
    "  I \\sim \\mathrm{Poisson}(\\lambda)\n",
    "\\end{align}\n",
    "\n",
    "where $\\lambda$ is the mean of the distribution: the average rate of spikes received per timestep."
   ]
  },
  {
   "cell_type": "markdown",
   "metadata": {
    "colab_type": "text"
   },
   "source": [
    "### Exercise 1: Compute $dV_m$\n",
    "\n",
    "For your first exercise, you will write the code to compute the change in voltage $dV_m$ (per timestep) of the linear integrate-and-fire model neuron. The rest of the code to handle numerical integration is provided for you, so you just need to fill in a definition for `dv` in the `lif_neuron` function below. The value of $\\lambda$ for the Poisson random variable is given by the function argument `rate`.\n",
    "\n",
    "\n",
    "\n",
    "The [`scipy.stats`](https://docs.scipy.org/doc/scipy/reference/stats.html) package is a great resource for working with and sampling from various probability distributions. We will use the `scipy.stats.poisson` class and its method `rvs` to produce Poisson-distributed random samples. In this tutorial, we have imported this package with the alias `stats`, so you should refer to it in your code as `stats.poisson`."
   ]
  },
  {
   "cell_type": "code",
   "execution_count": null,
   "metadata": {
    "colab": {},
    "colab_type": "code"
   },
   "outputs": [],
   "source": [
    "def lif_neuron(n_steps=1000, alpha=0.01, rate=10):\n",
    "  \"\"\" Simulate a linear integrate-and-fire neuron.\n",
    "\n",
    "  Args:\n",
    "    n_steps (int): The number of time steps to simulate the neuron's activity.\n",
    "    alpha (float): The input scaling factor\n",
    "    rate (int): The mean rate of incoming spikes\n",
    "\n",
    "  \"\"\"\n",
    "  # precompute Poisson samples for speed\n",
    "  exc = stats.poisson(rate).rvs(n_steps)\n",
    "\n",
    "  v = np.zeros(n_steps)\n",
    "  spike_times = []\n",
    "\n",
    "  ################################################################################\n",
    "  # Students: compute dv, then comment out or remove the next line\n",
    "  raise NotImplementedError(\"Excercise: compute the change in membrane potential\")\n",
    "  ################################################################################\n",
    "\n",
    "  for i in range(1, n_steps):\n",
    "\n",
    "    dv = ...\n",
    "\n",
    "    v[i] = v[i-1] + dv\n",
    "    if v[i] > 1:\n",
    "      spike_times.append(i)\n",
    "      v[i] = 0\n",
    "\n",
    "  return v, spike_times\n",
    "\n",
    "# Set random seed (for reproducibility)\n",
    "np.random.seed(12)\n",
    "\n",
    "# Uncomment these lines after completing the lif_neuron function\n",
    "# v, spike_times = lif_neuron()\n",
    "# plot_neuron_stats(v, spike_times)"
   ]
  },
  {
   "cell_type": "markdown",
   "metadata": {
    "cellView": "both",
    "colab": {
     "base_uri": "https://localhost:8080/",
     "height": 361
    },
    "colab_type": "text",
    "outputId": "fda5d821-8479-4063-cc77-b9e7a74ff417"
   },
   "source": [
    "[*Click for solution*](https://github.com/NeuromatchAcademy/course-content/tree/master//tutorials/W1D1_ModelTypes/solutions/W1D1_Tutorial2_Solution_6adbddb1.py)\n",
    "\n",
    "*Example output:*\n",
    "\n",
    "<img alt='Solution hint' align='left' width=848 height=344 src=https://raw.githubusercontent.com/NeuromatchAcademy/course-content/master/tutorials/W1D1_ModelTypes/static/W1D1_Tutorial2_Solution_6adbddb1_0.png>\n",
    "\n"
   ]
  },
  {
   "cell_type": "markdown",
   "metadata": {
    "colab_type": "text"
   },
   "source": [
    "## Interactive Demo: Linear-IF neuron\n",
    "Like last time, you can now explore how various parametes of the LIF model influence the ISI distribution."
   ]
  },
  {
   "cell_type": "code",
   "execution_count": null,
   "metadata": {
    "cellView": "form",
    "colab": {
     "base_uri": "https://localhost:8080/",
     "height": 454,
     "referenced_widgets": [
      "bf8415fff7ce43b5b0849e6ae081d8e9",
      "7ea653fa1de345fa8b664456d2c8879c",
      "b8941586475b4d3a85695ba1ee1722b8",
      "09b2bfa04e06450bb1172f99517e0619",
      "f1c7fe1778d54c2c9f38e35a50be39bc",
      "6e6c345f70194316a03b1bf4d7402ac1",
      "139a67fa3be744f9b5f15255aa982716",
      "508fedf8edad41afb186e5cafb74ffe2",
      "10840b4e36f341a79856046af95592b6",
      "180f124d55e54f6e830d1bc7f3f16275",
      "5fa91d053b4e45afb6ff0bab322b495e",
      "415ad1bcad6c49e9a6b6877ea855fe68",
      "15dc3af046b7400ba507c564241bbdd6"
     ]
    },
    "colab_type": "code",
    "outputId": "1ebbcddd-6973-48f0-8788-e2775c4d11c9"
   },
   "outputs": [],
   "source": [
    "#@title\n",
    "\n",
    "#@markdown You don't need to worry about how the code works – but you do need to **run the cell** to enable the sliders.\n",
    "\n",
    "def _lif_neuron(n_steps=1000, alpha=0.01, rate=10):\n",
    "  exc = stats.poisson(rate).rvs(n_steps)\n",
    "  v = np.zeros(n_steps)\n",
    "  spike_times = []\n",
    "  for i in range(1, n_steps):\n",
    "    dv = alpha * exc[i]\n",
    "    v[i] = v[i-1] + dv\n",
    "    if v[i] > 1:\n",
    "      spike_times.append(i)\n",
    "      v[i] = 0\n",
    "  return v, spike_times\n",
    "\n",
    "@widgets.interact(\n",
    "  n_steps=widgets.FloatLogSlider(1000.0, min=2, max=4),\n",
    "  alpha=widgets.FloatLogSlider(0.01, min=-2, max=-1),\n",
    "  rate=widgets.IntSlider(10, min=5, max=20)\n",
    ")\n",
    "def plot_lif_neuron(n_steps=1000, alpha=0.01, rate=10):\n",
    "  v, spike_times = _lif_neuron(int(n_steps), alpha, rate)\n",
    "  plot_neuron_stats(v, spike_times)"
   ]
  },
  {
   "cell_type": "code",
   "execution_count": null,
   "metadata": {
    "cellView": "form",
    "colab": {
     "base_uri": "https://localhost:8080/",
     "height": 537
    },
    "colab_type": "code",
    "outputId": "6b8ecd25-d6a8-4aae-b01d-fb81fa246ee7"
   },
   "outputs": [],
   "source": [
    "#@title Video 2: Linear-IF models\n",
    "from IPython.display import YouTubeVideo\n",
    "video = YouTubeVideo(id='QBD7kulhg4U', width=854, height=480, fs=1)\n",
    "print(\"Video available at https://youtube.com/watch?v=\" + video.id)\n",
    "video"
   ]
  },
  {
   "cell_type": "markdown",
   "metadata": {
    "colab_type": "text"
   },
   "source": [
    "# Section 2: Inhibitory signals\n"
   ]
  },
  {
   "cell_type": "markdown",
   "metadata": {
    "colab_type": "text"
   },
   "source": [
    "\n",
    "Our linear integrate-and-fire neuron from the previous section was indeed able to produce spikes. However, our ISI histogram doesn't look much like empirical ISI histograms seen in Tutorial 1, which had an exponential-like shape. What is our model neuron missing, given that it doesn't behave like a real neuron?\n",
    "\n",
    "In the previous model we only considered excitatory behavior -- the only way the membrane potential could decrease was upon a spike event. We know, however, that there are other factors that can drive $V_m$ down. First is the natural tendency of the neuron to return to some steady state or resting potential. We can update our previous model as follows:\n",
    "\n",
    "\\begin{align}\n",
    "  dV_m = -{\\beta}V_m + {\\alpha}I\n",
    "\\end{align}\n",
    "\n",
    "where $V_m$ is the current membrane potential and $\\beta$ is some leakage factor. This is a basic form of the popular Leaky Integrate-and-Fire model neuron (for a more detailed discussion of the LIF Neuron, see the Appendix).\n",
    "\n",
    "We also know that in addition to excitatory presynaptic neurons, we can have inhibitory presynaptic neurons as well. We can model these inhibitory neurons with another Poisson random variable:\n",
    "\n",
    "\\begin{align}\n",
    "I = I_{exc} - I_{inh} \\\\\n",
    "I_{exc} \\sim \\mathrm{Poisson}(\\lambda_{exc}) \\\\\n",
    "I_{inh} \\sim \\mathrm{Poisson}(\\lambda_{inh})\n",
    "\\end{align}\n",
    "\n",
    "where $\\lambda_{exc}$ and $\\lambda_{inh}$ are the average spike rates (per timestep) of the excitatory and inhibitory presynaptic neurons, respectively."
   ]
  },
  {
   "cell_type": "markdown",
   "metadata": {
    "colab_type": "text"
   },
   "source": [
    "### Exercise 2: Compute $dV_m$ with inhibitory signals\n",
    "\n",
    "For your second exercise, you will again write the code to compute the change in voltage $dV_m$, though now of the LIF model neuron described above. Like last time, the rest of the code needed to handle the neuron dynamics are provided for you, so you just need to fill in a definition for `dv` below.\n"
   ]
  },
  {
   "cell_type": "code",
   "execution_count": null,
   "metadata": {
    "colab": {},
    "colab_type": "code"
   },
   "outputs": [],
   "source": [
    "def lif_neuron_inh(n_steps=1000, alpha=0.5, beta=0.1, exc_rate=10, inh_rate=10):\n",
    "  \"\"\" Simulate a simplified leaky integrate-and-fire neuron with both excitatory\n",
    "  and inhibitory inputs.\n",
    "\n",
    "  Args:\n",
    "    n_steps (int): The number of time steps to simulate the neuron's activity.\n",
    "    alpha (float): The input scaling factor\n",
    "    beta (float): The membrane potential leakage factor\n",
    "    exc_rate (int): The mean rate of the incoming excitatory spikes\n",
    "    inh_rate (int): The mean rate of the incoming inhibitory spikes\n",
    "  \"\"\"\n",
    "\n",
    "  # precompute Poisson samples for speed\n",
    "  exc = stats.poisson(exc_rate).rvs(n_steps)\n",
    "  inh = stats.poisson(inh_rate).rvs(n_steps)\n",
    "\n",
    "  v = np.zeros(n_steps)\n",
    "  spike_times = []\n",
    "\n",
    "  ###############################################################################\n",
    "  # Students: compute dv, then comment out or remove the next line\n",
    "  raise NotImplementedError(\"Excercise: compute the change in membrane potential\")\n",
    "  ################################################################################\n",
    "\n",
    "  for i in range(1, n_steps):\n",
    "\n",
    "    dv = ...\n",
    "\n",
    "    v[i] = v[i-1] + dv\n",
    "    if v[i] > 1:\n",
    "      spike_times.append(i)\n",
    "      v[i] = 0\n",
    "\n",
    "  return v, spike_times\n",
    "\n",
    "# Set random seed (for reproducibility)\n",
    "np.random.seed(12)\n",
    "\n",
    "# Uncomment these lines do make the plot once you've completed the function\n",
    "#v, spike_times = lif_neuron_inh()\n",
    "#plot_neuron_stats(v, spike_times)"
   ]
  },
  {
   "cell_type": "markdown",
   "metadata": {
    "cellView": "both",
    "colab": {
     "base_uri": "https://localhost:8080/",
     "height": 361
    },
    "colab_type": "text",
    "outputId": "1e0cdff1-72f0-4c15-ed0e-3dd104a49277"
   },
   "source": [
    "[*Click for solution*](https://github.com/NeuromatchAcademy/course-content/tree/master//tutorials/W1D1_ModelTypes/solutions/W1D1_Tutorial2_Solution_7b5434d3.py)\n",
    "\n",
    "*Example output:*\n",
    "\n",
    "<img alt='Solution hint' align='left' width=848 height=344 src=https://raw.githubusercontent.com/NeuromatchAcademy/course-content/master/tutorials/W1D1_ModelTypes/static/W1D1_Tutorial2_Solution_7b5434d3_0.png>\n",
    "\n"
   ]
  },
  {
   "cell_type": "markdown",
   "metadata": {
    "colab_type": "text"
   },
   "source": [
    "## Interactive Demo: LIF + inhibition neuron"
   ]
  },
  {
   "cell_type": "code",
   "execution_count": null,
   "metadata": {
    "cellView": "form",
    "colab": {
     "base_uri": "https://localhost:8080/",
     "height": 517,
     "referenced_widgets": [
      "7ff2e8de2fc14783bcdc0eb98558cfde",
      "cf74c45a194f4a778407dca9df80f40c",
      "d5c5de2123e2446f8b876ae2626f3d75",
      "41159e8d17154972832c6959416ba3db",
      "226c461363ea4cd09f88fdce9667b3b4",
      "c95287af174e4273965e5704cd91cb99",
      "a25eb5174d6a4870aeef8683f040bc73",
      "da8f0563759e45238065ddb4c58391fb",
      "e7f10977baaf4de5a5f3bf507e7496c8",
      "0437fbeb17de4b2bb8a9cac5cc233555",
      "5266f80c5aba4376829d48722a286f26",
      "8c0d4d1abc7d48619a846e78698061d4",
      "31188891cce644c8b07b60e3da69359f",
      "40d8797f6df64d38b5edbdd7a843a9b6",
      "9a3320ffb1124744a103366f2dc77dba",
      "dcf1ca85f0ee4d869ed73f9dd7eef5f4",
      "7ef82958ca3b4f7eafc1cd7c6007c0d0",
      "06b07bc30ded4332a5c3040051e2181d",
      "acb086ec9bd9422291033b3507fca642"
     ]
    },
    "colab_type": "code",
    "outputId": "b73079c7-c804-4fa0-bee1-2240eeba60f6"
   },
   "outputs": [],
   "source": [
    "#@title\n",
    "#@markdown **Run the cell** to enable the sliders.\n",
    "def _lif_neuron_inh(n_steps=1000, alpha=0.5, beta=0.1, exc_rate=10, inh_rate=10):\n",
    "  \"\"\" Simulate a simplified leaky integrate-and-fire neuron with both excitatory\n",
    "  and inhibitory inputs.\n",
    "\n",
    "  Args:\n",
    "    n_steps (int): The number of time steps to simulate the neuron's activity.\n",
    "    alpha (float): The input scaling factor\n",
    "    beta (float): The membrane potential leakage factor\n",
    "    exc_rate (int): The mean rate of the incoming excitatory spikes\n",
    "    inh_rate (int): The mean rate of the incoming inhibitory spikes\n",
    "  \"\"\"\n",
    "  # precompute Poisson samples for speed\n",
    "  exc = stats.poisson(exc_rate).rvs(n_steps)\n",
    "  inh = stats.poisson(inh_rate).rvs(n_steps)\n",
    "\n",
    "  v = np.zeros(n_steps)\n",
    "  spike_times = []\n",
    "  for i in range(1, n_steps):\n",
    "    dv = -beta * v[i-1] + alpha * (exc[i] - inh[i])\n",
    "    v[i] = v[i-1] + dv\n",
    "    if v[i] > 1:\n",
    "      spike_times.append(i)\n",
    "      v[i] = 0\n",
    "\n",
    "  return v, spike_times\n",
    "\n",
    "@widgets.interact(n_steps=widgets.FloatLogSlider(1000.0, min=2.5, max=4),\n",
    "                  alpha=widgets.FloatLogSlider(0.5, min=-1, max=1),\n",
    "                  beta=widgets.FloatLogSlider(0.1, min=-1, max=0),\n",
    "                  exc_rate=widgets.IntSlider(12, min=10, max=20),\n",
    "                  inh_rate=widgets.IntSlider(12, min=10, max=20))\n",
    "def plot_lif_neuron(n_steps=1000, alpha=0.5, beta=0.1, exc_rate=10, inh_rate=10):\n",
    "  v, spike_times = _lif_neuron_inh(int(n_steps), alpha, beta, exc_rate, inh_rate)\n",
    "  plot_neuron_stats(v, spike_times)"
   ]
  },
  {
   "cell_type": "code",
   "execution_count": null,
   "metadata": {
    "cellView": "form",
    "colab": {
     "base_uri": "https://localhost:8080/",
     "height": 537
    },
    "colab_type": "code",
    "outputId": "a945c2af-64f7-4c54-ff45-18595eb50556"
   },
   "outputs": [],
   "source": [
    "#@title Video 3: LIF + inhibition\n",
    "from IPython.display import YouTubeVideo\n",
    "video = YouTubeVideo(id='Aq7JrxRkn2w', width=854, height=480, fs=1)\n",
    "print(\"Video available at https://youtube.com/watch?v=\" + video.id)\n",
    "video"
   ]
  },
  {
   "cell_type": "markdown",
   "metadata": {
    "colab_type": "text"
   },
   "source": [
    "#Summary\n",
    "\n",
    "In this tutorial we gained some intuition for the mechanisms that produce the observed behavior in our real neural data. First, we built a simple neuron model with excitatory input and saw that it's behavior, measured using the ISI distribution, did not match our real neurons. We then improved our model by adding leakiness and inhibitory input. The behavior of this balanced model was much closer to the real neural data."
   ]
  },
  {
   "cell_type": "markdown",
   "metadata": {
    "colab_type": "text"
   },
   "source": [
    "# Bonus"
   ]
  },
  {
   "cell_type": "markdown",
   "metadata": {
    "colab_type": "text"
   },
   "source": [
    "### Why do neurons spike?\n",
    "\n",
    "A neuron stores energy in an electric field across its cell membrane, by controlling the distribution of charges (ions) on either side of the membrane. This energy is rapidly discharged to generate a spike when the field potential (or membrane potential) crosses a threshold. The membrane potential may be driven toward or away from this threshold, depending on inputs from other neurons: excitatory or inhibitory, respectively. The membrane potential tends to revert to a resting potential, for example due to the leakage of ions across the membrane, so that reaching the spiking threshold depends not only on the amount of input ever received following the last spike, but also the timing of the inputs.\n",
    "\n",
    "The storage of energy by maintaining a field potential across an insulating membrane can be modeled by a capacitor. The leakage of charge across the membrane can be modeled by a resistor. This is the basis for the leaky integrate-and-fire neuron model."
   ]
  },
  {
   "cell_type": "markdown",
   "metadata": {
    "colab_type": "text"
   },
   "source": [
    "### The LIF Model Neuron\n",
    "\n",
    "The full equation for the LIF neuron is\n",
    "\n",
    "\\begin{align}\n",
    "C_{m}\\frac{dV_m}{dt} = -(V_m - V_{rest})/R_{m} + I\n",
    "\\end{align}\n",
    "\n",
    "where $C_m$ is the membrane capacitance, $R_M$ is the membrane resistance, $V_{rest}$ is the resting potential, and $I$ is some input current (from other neurons, an electrode, ...).\n",
    "\n",
    "In our above examples we set many of these parameters to convenient values ($C_m = R_m = dt = 1$, $V_{rest} = 0$) to focus more on the general behavior of the model. However, these too can be manipulated to achieve different dynamics, or to ensure the dimensions of the problem are preserved between simulation units and experimental units (e.g. with $V_m$ given in millivolts, $R_m$ in megaohms, $t$ in milliseconds)."
   ]
  }
 ],
 "metadata": {
  "colab": {
   "collapsed_sections": [],
   "include_colab_link": true,
   "name": "W1D1_Tutorial2",
   "provenance": [],
   "toc_visible": true
  },
  "kernel": {
   "display_name": "Python 3",
   "language": "python",
   "name": "python3"
  },
  "kernelspec": {
   "display_name": "Python 3",
   "language": "python",
   "name": "python3"
  },
  "language_info": {
   "codemirror_mode": {
    "name": "ipython",
    "version": 3
   },
   "file_extension": ".py",
   "mimetype": "text/x-python",
   "name": "python",
   "nbconvert_exporter": "python",
   "pygments_lexer": "ipython3",
   "version": "3.7.8"
  }
 },
 "nbformat": 4,
 "nbformat_minor": 0
}
