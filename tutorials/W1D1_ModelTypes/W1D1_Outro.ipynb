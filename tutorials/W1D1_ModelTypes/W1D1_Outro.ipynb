{
  "nbformat": 4,
  "nbformat_minor": 0,
  "metadata": {
    "colab": {
      "name": "W1D1_Outro",
      "provenance": [],
      "collapsed_sections": [],
      "toc_visible": true,
      "include_colab_link": true
    },
    "kernel": {
      "display_name": "Python 3",
      "language": "python",
      "name": "python3"
    },
    "kernelspec": {
      "display_name": "Python 3",
      "language": "python",
      "name": "python3"
    },
    "language_info": {
      "codemirror_mode": {
        "name": "ipython",
        "version": 3
      },
      "file_extension": ".py",
      "mimetype": "text/x-python",
      "name": "python",
      "nbconvert_exporter": "python",
      "pygments_lexer": "ipython3",
      "version": "3.7.10"
    },
    "widgets": {
      "application/vnd.jupyter.widget-state+json": {
        "96e23c8d17cf42c684160d1c9d9d19a8": {
          "model_module": "@jupyter-widgets/controls",
          "model_name": "TabModel",
          "state": {
            "_view_name": "TabView",
            "_dom_classes": [],
            "_titles": {
              "0": "Youtube",
              "1": "Bilibili"
            },
            "_model_name": "TabModel",
            "_view_module": "@jupyter-widgets/controls",
            "selected_index": 0,
            "_model_module_version": "1.5.0",
            "_view_count": null,
            "_view_module_version": "1.5.0",
            "box_style": "",
            "layout": "IPY_MODEL_f0273a19d3de46f8accab66840135ea4",
            "_model_module": "@jupyter-widgets/controls",
            "children": [
              "IPY_MODEL_cdf4f1195cb74678ab760af721df6ff4",
              "IPY_MODEL_b7ea50f0d9694d4c9327e672a2b0efd1"
            ]
          }
        },
        "f0273a19d3de46f8accab66840135ea4": {
          "model_module": "@jupyter-widgets/base",
          "model_name": "LayoutModel",
          "state": {
            "_view_name": "LayoutView",
            "grid_template_rows": null,
            "right": null,
            "justify_content": null,
            "_view_module": "@jupyter-widgets/base",
            "overflow": null,
            "_model_module_version": "1.2.0",
            "_view_count": null,
            "flex_flow": null,
            "width": null,
            "min_width": null,
            "border": null,
            "align_items": null,
            "bottom": null,
            "_model_module": "@jupyter-widgets/base",
            "top": null,
            "grid_column": null,
            "overflow_y": null,
            "overflow_x": null,
            "grid_auto_flow": null,
            "grid_area": null,
            "grid_template_columns": null,
            "flex": null,
            "_model_name": "LayoutModel",
            "justify_items": null,
            "grid_row": null,
            "max_height": null,
            "align_content": null,
            "visibility": null,
            "align_self": null,
            "height": null,
            "min_height": null,
            "padding": null,
            "grid_auto_rows": null,
            "grid_gap": null,
            "max_width": null,
            "order": null,
            "_view_module_version": "1.2.0",
            "grid_template_areas": null,
            "object_position": null,
            "object_fit": null,
            "grid_auto_columns": null,
            "margin": null,
            "display": null,
            "left": null
          }
        },
        "cdf4f1195cb74678ab760af721df6ff4": {
          "model_module": "@jupyter-widgets/output",
          "model_name": "OutputModel",
          "state": {
            "_view_name": "OutputView",
            "msg_id": "",
            "_dom_classes": [],
            "_model_name": "OutputModel",
            "outputs": [
              {
                "output_type": "stream",
                "metadata": {
                  "tags": []
                },
                "text": "Video available at https://youtube.com/watch?v=KUdKlJxtjQw\n",
                "stream": "stdout"
              },
              {
                "output_type": "display_data",
                "metadata": {
                  "tags": []
                },
                "text/html": "\n        <iframe\n            width=\"854\"\n            height=\"480\"\n            src=\"https://www.youtube.com/embed/KUdKlJxtjQw?fs=1&rel=0\"\n            frameborder=\"0\"\n            allowfullscreen\n        ></iframe>\n        ",
                "text/plain": "<IPython.lib.display.YouTubeVideo at 0x7f316cb88ed0>",
                "image/jpeg": "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\n"
              }
            ],
            "_view_module": "@jupyter-widgets/output",
            "_model_module_version": "1.0.0",
            "_view_count": null,
            "_view_module_version": "1.0.0",
            "layout": "IPY_MODEL_52800f74e1644c82b0004744b4121e4d",
            "_model_module": "@jupyter-widgets/output"
          }
        },
        "b7ea50f0d9694d4c9327e672a2b0efd1": {
          "model_module": "@jupyter-widgets/output",
          "model_name": "OutputModel",
          "state": {
            "_view_name": "OutputView",
            "msg_id": "",
            "_dom_classes": [],
            "_model_name": "OutputModel",
            "outputs": [
              {
                "output_type": "stream",
                "metadata": {
                  "tags": []
                },
                "text": "Video available at https://www.bilibili.com/video/\n",
                "stream": "stdout"
              },
              {
                "output_type": "display_data",
                "metadata": {
                  "tags": []
                },
                "text/html": "\n        <iframe\n            width=\"854\"\n            height=\"480\"\n            src=\"https://player.bilibili.com/player.html?bvid=&page=1?fs=1\"\n            frameborder=\"0\"\n            allowfullscreen\n        ></iframe>\n        ",
                "text/plain": "<__main__.BiliVideo at 0x7f316cb88e90>"
              }
            ],
            "_view_module": "@jupyter-widgets/output",
            "_model_module_version": "1.0.0",
            "_view_count": null,
            "_view_module_version": "1.0.0",
            "layout": "IPY_MODEL_a1cad0925a5941dc9aede2cc9e7f891d",
            "_model_module": "@jupyter-widgets/output"
          }
        },
        "52800f74e1644c82b0004744b4121e4d": {
          "model_module": "@jupyter-widgets/base",
          "model_name": "LayoutModel",
          "state": {
            "_view_name": "LayoutView",
            "grid_template_rows": null,
            "right": null,
            "justify_content": null,
            "_view_module": "@jupyter-widgets/base",
            "overflow": null,
            "_model_module_version": "1.2.0",
            "_view_count": null,
            "flex_flow": null,
            "width": null,
            "min_width": null,
            "border": null,
            "align_items": null,
            "bottom": null,
            "_model_module": "@jupyter-widgets/base",
            "top": null,
            "grid_column": null,
            "overflow_y": null,
            "overflow_x": null,
            "grid_auto_flow": null,
            "grid_area": null,
            "grid_template_columns": null,
            "flex": null,
            "_model_name": "LayoutModel",
            "justify_items": null,
            "grid_row": null,
            "max_height": null,
            "align_content": null,
            "visibility": null,
            "align_self": null,
            "height": null,
            "min_height": null,
            "padding": null,
            "grid_auto_rows": null,
            "grid_gap": null,
            "max_width": null,
            "order": null,
            "_view_module_version": "1.2.0",
            "grid_template_areas": null,
            "object_position": null,
            "object_fit": null,
            "grid_auto_columns": null,
            "margin": null,
            "display": null,
            "left": null
          }
        },
        "a1cad0925a5941dc9aede2cc9e7f891d": {
          "model_module": "@jupyter-widgets/base",
          "model_name": "LayoutModel",
          "state": {
            "_view_name": "LayoutView",
            "grid_template_rows": null,
            "right": null,
            "justify_content": null,
            "_view_module": "@jupyter-widgets/base",
            "overflow": null,
            "_model_module_version": "1.2.0",
            "_view_count": null,
            "flex_flow": null,
            "width": null,
            "min_width": null,
            "border": null,
            "align_items": null,
            "bottom": null,
            "_model_module": "@jupyter-widgets/base",
            "top": null,
            "grid_column": null,
            "overflow_y": null,
            "overflow_x": null,
            "grid_auto_flow": null,
            "grid_area": null,
            "grid_template_columns": null,
            "flex": null,
            "_model_name": "LayoutModel",
            "justify_items": null,
            "grid_row": null,
            "max_height": null,
            "align_content": null,
            "visibility": null,
            "align_self": null,
            "height": null,
            "min_height": null,
            "padding": null,
            "grid_auto_rows": null,
            "grid_gap": null,
            "max_width": null,
            "order": null,
            "_view_module_version": "1.2.0",
            "grid_template_areas": null,
            "object_position": null,
            "object_fit": null,
            "grid_auto_columns": null,
            "margin": null,
            "display": null,
            "left": null
          }
        }
      }
    }
  },
  "cells": [
    {
      "cell_type": "markdown",
      "metadata": {
        "id": "view-in-github",
        "colab_type": "text"
      },
      "source": [
        "<a href=\"https://colab.research.google.com/github/NeuromatchAcademy/course-content/blob/add_new_intros/tutorials/W1D1_ModelTypes/W1D1_Outro.ipynb\" target=\"_parent\"><img src=\"https://colab.research.google.com/assets/colab-badge.svg\" alt=\"Open In Colab\"/></a>"
      ]
    },
    {
      "cell_type": "markdown",
      "metadata": {
        "pycharm": {
          "name": "#%% md\n"
        },
        "id": "xgHwGXwr6VTW"
      },
      "source": [
        "# Outro\n"
      ]
    },
    {
      "cell_type": "markdown",
      "metadata": {
        "id": "8AIxUI5z6VTW"
      },
      "source": [
        "**Our 2021 Sponsors, including Presenting Sponsor Facebook Reality Labs**\n",
        "\n",
        "<p align='center'><img src='https://github.com/NeuromatchAcademy/widgets/blob/master/sponsors.png?raw=True'/></p>"
      ]
    },
    {
      "cell_type": "markdown",
      "metadata": {
        "pycharm": {
          "name": "#%% md\n"
        },
        "id": "YbLwPazu6VTW"
      },
      "source": [
        "## Video"
      ]
    },
    {
      "cell_type": "code",
      "metadata": {
        "execution": {
          "iopub.execute_input": "2021-06-25T15:07:28.898926Z",
          "iopub.status.busy": "2021-06-25T15:07:28.898361Z",
          "iopub.status.idle": "2021-06-25T15:07:29.034672Z",
          "shell.execute_reply": "2021-06-25T15:07:29.033998Z"
        },
        "pycharm": {
          "name": "#%%\n"
        },
        "cellView": "form",
        "id": "edM2VEet6VTX",
        "outputId": "1cf51c2e-f4eb-4f3f-c107-f0a4827145f3",
        "colab": {
          "base_uri": "https://localhost:8080/",
          "height": 580,
          "referenced_widgets": [
            "96e23c8d17cf42c684160d1c9d9d19a8",
            "f0273a19d3de46f8accab66840135ea4",
            "cdf4f1195cb74678ab760af721df6ff4",
            "b7ea50f0d9694d4c9327e672a2b0efd1",
            "52800f74e1644c82b0004744b4121e4d",
            "a1cad0925a5941dc9aede2cc9e7f891d"
          ]
        }
      },
      "source": [
        "# @markdown\n",
        "from ipywidgets import widgets\n",
        "\n",
        "out2 = widgets.Output()\n",
        "with out2:\n",
        "  from IPython.display import IFrame\n",
        "  class BiliVideo(IFrame):\n",
        "      def __init__(self, id, page=1, width=400, height=300, **kwargs):\n",
        "          self.id=id\n",
        "          src = \"https://player.bilibili.com/player.html?bvid={0}&page={1}\".format(id, page)\n",
        "          super(BiliVideo, self).__init__(src, width, height, **kwargs)\n",
        "\n",
        "  video = BiliVideo(id=f\"\", width=854, height=480, fs=1)\n",
        "  print(\"Video available at https://www.bilibili.com/video/{0}\".format(video.id))\n",
        "  display(video)\n",
        "\n",
        "out1 = widgets.Output()\n",
        "with out1:\n",
        "  from IPython.display import YouTubeVideo\n",
        "  video = YouTubeVideo(id=f\"KUdKlJxtjQw\", width=854, height=480, fs=1, rel=0)\n",
        "  print(\"Video available at https://youtube.com/watch?v=\" + video.id)\n",
        "  display(video)\n",
        "\n",
        "out = widgets.Tab([out1, out2])\n",
        "out.set_title(0, 'Youtube')\n",
        "out.set_title(1, 'Bilibili')\n",
        "\n",
        "display(out)"
      ],
      "execution_count": 1,
      "outputs": [
        {
          "output_type": "display_data",
          "data": {
            "application/vnd.jupyter.widget-view+json": {
              "model_id": "96e23c8d17cf42c684160d1c9d9d19a8",
              "version_minor": 0,
              "version_major": 2
            },
            "text/plain": [
              "Tab(children=(Output(), Output()), _titles={'0': 'Youtube', '1': 'Bilibili'})"
            ]
          },
          "metadata": {
            "tags": []
          }
        }
      ]
    },
    {
      "cell_type": "markdown",
      "metadata": {
        "id": "gTrlxO-w6VTX"
      },
      "source": [
        "## Reflections\n",
        "\n",
        "Don't forget to complete your reflections and content checks!"
      ]
    },
    {
      "cell_type": "markdown",
      "metadata": {
        "pycharm": {
          "name": "#%% md\n"
        },
        "id": "f8EQLycd6VTX"
      },
      "source": [
        "## Slides"
      ]
    },
    {
      "cell_type": "code",
      "metadata": {
        "cellView": "form",
        "execution": {
          "iopub.execute_input": "2021-06-25T15:07:29.045541Z",
          "iopub.status.busy": "2021-06-25T15:07:29.044677Z",
          "iopub.status.idle": "2021-06-25T15:07:29.047758Z",
          "shell.execute_reply": "2021-06-25T15:07:29.048252Z"
        },
        "pycharm": {
          "name": "#%%\n"
        },
        "id": "ktvQeqjT6VTY",
        "outputId": "394d9747-d2d3-4157-9032-6e9e159e2284",
        "colab": {
          "base_uri": "https://localhost:8080/",
          "height": 500
        }
      },
      "source": [
        "# @markdown\n",
        "from IPython.display import IFrame\n",
        "IFrame(src=f\"https://mfr.ca-1.osf.io/render?url=https://osf.io/9hkg2/?direct%26mode=render%26action=download%26mode=render\", width=854, height=480)"
      ],
      "execution_count": 3,
      "outputs": [
        {
          "output_type": "execute_result",
          "data": {
            "text/html": [
              "\n",
              "        <iframe\n",
              "            width=\"854\"\n",
              "            height=\"480\"\n",
              "            src=\"https://mfr.ca-1.osf.io/render?url=https://osf.io/9hkg2/?direct%26mode=render%26action=download%26mode=render\"\n",
              "            frameborder=\"0\"\n",
              "            allowfullscreen\n",
              "        ></iframe>\n",
              "        "
            ],
            "text/plain": [
              "<IPython.lib.display.IFrame at 0x7f316c6e0c50>"
            ]
          },
          "metadata": {
            "tags": []
          },
          "execution_count": 3
        }
      ]
    }
  ]
}