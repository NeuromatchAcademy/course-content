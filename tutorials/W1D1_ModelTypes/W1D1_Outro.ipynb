{
  "nbformat": 4,
  "nbformat_minor": 0,
  "metadata": {
    "colab": {
      "name": "W1D1_Outro",
      "provenance": [],
      "collapsed_sections": [],
      "toc_visible": true,
      "include_colab_link": true
    },
    "kernel": {
      "display_name": "Python 3",
      "language": "python",
      "name": "python3"
    },
    "kernelspec": {
      "display_name": "Python 3",
      "language": "python",
      "name": "python3"
    },
    "language_info": {
      "codemirror_mode": {
        "name": "ipython",
        "version": 3
      },
      "file_extension": ".py",
      "mimetype": "text/x-python",
      "name": "python",
      "nbconvert_exporter": "python",
      "pygments_lexer": "ipython3",
      "version": "3.7.10"
    },
    "widgets": {
      "application/vnd.jupyter.widget-state+json": {
        "055e3e5e4c704e9196fc99417d28661a": {
          "model_module": "@jupyter-widgets/controls",
          "model_name": "TabModel",
          "state": {
            "_view_name": "TabView",
            "_dom_classes": [],
            "_titles": {
              "0": "Youtube",
              "1": "Bilibili"
            },
            "_model_name": "TabModel",
            "_view_module": "@jupyter-widgets/controls",
            "selected_index": 1,
            "_model_module_version": "1.5.0",
            "_view_count": null,
            "_view_module_version": "1.5.0",
            "box_style": "",
            "layout": "IPY_MODEL_006343bfb3be4635845b351f3f8c2c5b",
            "_model_module": "@jupyter-widgets/controls",
            "children": [
              "IPY_MODEL_bd3e30593a9f4c59a42b0a5d4026f5fd",
              "IPY_MODEL_9edb4ec68d0744c2bfea3bdf34f7e574"
            ]
          }
        },
        "006343bfb3be4635845b351f3f8c2c5b": {
          "model_module": "@jupyter-widgets/base",
          "model_name": "LayoutModel",
          "state": {
            "_view_name": "LayoutView",
            "grid_template_rows": null,
            "right": null,
            "justify_content": null,
            "_view_module": "@jupyter-widgets/base",
            "overflow": null,
            "_model_module_version": "1.2.0",
            "_view_count": null,
            "flex_flow": null,
            "width": null,
            "min_width": null,
            "border": null,
            "align_items": null,
            "bottom": null,
            "_model_module": "@jupyter-widgets/base",
            "top": null,
            "grid_column": null,
            "overflow_y": null,
            "overflow_x": null,
            "grid_auto_flow": null,
            "grid_area": null,
            "grid_template_columns": null,
            "flex": null,
            "_model_name": "LayoutModel",
            "justify_items": null,
            "grid_row": null,
            "max_height": null,
            "align_content": null,
            "visibility": null,
            "align_self": null,
            "height": null,
            "min_height": null,
            "padding": null,
            "grid_auto_rows": null,
            "grid_gap": null,
            "max_width": null,
            "order": null,
            "_view_module_version": "1.2.0",
            "grid_template_areas": null,
            "object_position": null,
            "object_fit": null,
            "grid_auto_columns": null,
            "margin": null,
            "display": null,
            "left": null
          }
        },
        "bd3e30593a9f4c59a42b0a5d4026f5fd": {
          "model_module": "@jupyter-widgets/output",
          "model_name": "OutputModel",
          "state": {
            "_view_name": "OutputView",
            "msg_id": "",
            "_dom_classes": [],
            "_model_name": "OutputModel",
            "outputs": [
              {
                "output_type": "stream",
                "metadata": {
                  "tags": []
                },
                "text": "Video available at https://youtube.com/watch?v=KUdKlJxtjQw\n",
                "stream": "stdout"
              },
              {
                "output_type": "display_data",
                "metadata": {
                  "tags": []
                },
                "text/html": "\n        <iframe\n            width=\"854\"\n            height=\"480\"\n            src=\"https://www.youtube.com/embed/KUdKlJxtjQw?fs=1&rel=0\"\n            frameborder=\"0\"\n            allowfullscreen\n        ></iframe>\n        ",
                "text/plain": "<IPython.lib.display.YouTubeVideo at 0x7ff633e2a1d0>",
                "image/jpeg": "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\n"
              }
            ],
            "_view_module": "@jupyter-widgets/output",
            "_model_module_version": "1.0.0",
            "_view_count": null,
            "_view_module_version": "1.0.0",
            "layout": "IPY_MODEL_58b9e0995e6846238f76e3956bca9675",
            "_model_module": "@jupyter-widgets/output"
          }
        },
        "9edb4ec68d0744c2bfea3bdf34f7e574": {
          "model_module": "@jupyter-widgets/output",
          "model_name": "OutputModel",
          "state": {
            "_view_name": "OutputView",
            "msg_id": "",
            "_dom_classes": [],
            "_model_name": "OutputModel",
            "outputs": [
              {
                "output_type": "stream",
                "metadata": {
                  "tags": []
                },
                "text": "Video available at https://www.bilibili.com/video/BV1bg411u7we\n",
                "stream": "stdout"
              },
              {
                "output_type": "display_data",
                "metadata": {
                  "tags": []
                },
                "text/html": "\n        <iframe\n            width=\"854\"\n            height=\"480\"\n            src=\"https://player.bilibili.com/player.html?bvid=BV1bg411u7we&page=1?fs=1\"\n            frameborder=\"0\"\n            allowfullscreen\n        ></iframe>\n        ",
                "text/plain": "<__main__.BiliVideo at 0x7ff62fd90650>"
              }
            ],
            "_view_module": "@jupyter-widgets/output",
            "_model_module_version": "1.0.0",
            "_view_count": null,
            "_view_module_version": "1.0.0",
            "layout": "IPY_MODEL_a7f27d6b274142c0a9dddf79544910c9",
            "_model_module": "@jupyter-widgets/output"
          }
        },
        "58b9e0995e6846238f76e3956bca9675": {
          "model_module": "@jupyter-widgets/base",
          "model_name": "LayoutModel",
          "state": {
            "_view_name": "LayoutView",
            "grid_template_rows": null,
            "right": null,
            "justify_content": null,
            "_view_module": "@jupyter-widgets/base",
            "overflow": null,
            "_model_module_version": "1.2.0",
            "_view_count": null,
            "flex_flow": null,
            "width": null,
            "min_width": null,
            "border": null,
            "align_items": null,
            "bottom": null,
            "_model_module": "@jupyter-widgets/base",
            "top": null,
            "grid_column": null,
            "overflow_y": null,
            "overflow_x": null,
            "grid_auto_flow": null,
            "grid_area": null,
            "grid_template_columns": null,
            "flex": null,
            "_model_name": "LayoutModel",
            "justify_items": null,
            "grid_row": null,
            "max_height": null,
            "align_content": null,
            "visibility": null,
            "align_self": null,
            "height": null,
            "min_height": null,
            "padding": null,
            "grid_auto_rows": null,
            "grid_gap": null,
            "max_width": null,
            "order": null,
            "_view_module_version": "1.2.0",
            "grid_template_areas": null,
            "object_position": null,
            "object_fit": null,
            "grid_auto_columns": null,
            "margin": null,
            "display": null,
            "left": null
          }
        },
        "a7f27d6b274142c0a9dddf79544910c9": {
          "model_module": "@jupyter-widgets/base",
          "model_name": "LayoutModel",
          "state": {
            "_view_name": "LayoutView",
            "grid_template_rows": null,
            "right": null,
            "justify_content": null,
            "_view_module": "@jupyter-widgets/base",
            "overflow": null,
            "_model_module_version": "1.2.0",
            "_view_count": null,
            "flex_flow": null,
            "width": null,
            "min_width": null,
            "border": null,
            "align_items": null,
            "bottom": null,
            "_model_module": "@jupyter-widgets/base",
            "top": null,
            "grid_column": null,
            "overflow_y": null,
            "overflow_x": null,
            "grid_auto_flow": null,
            "grid_area": null,
            "grid_template_columns": null,
            "flex": null,
            "_model_name": "LayoutModel",
            "justify_items": null,
            "grid_row": null,
            "max_height": null,
            "align_content": null,
            "visibility": null,
            "align_self": null,
            "height": null,
            "min_height": null,
            "padding": null,
            "grid_auto_rows": null,
            "grid_gap": null,
            "max_width": null,
            "order": null,
            "_view_module_version": "1.2.0",
            "grid_template_areas": null,
            "object_position": null,
            "object_fit": null,
            "grid_auto_columns": null,
            "margin": null,
            "display": null,
            "left": null
          }
        }
      }
    }
  },
  "cells": [
    {
      "cell_type": "markdown",
      "metadata": {
        "id": "view-in-github",
        "colab_type": "text"
      },
      "source": [
        "<a href=\"https://colab.research.google.com/github/NeuromatchAcademy/course-content/blob/bilibili_intros/tutorials/W1D1_ModelTypes/W1D1_Outro.ipynb\" target=\"_parent\"><img src=\"https://colab.research.google.com/assets/colab-badge.svg\" alt=\"Open In Colab\"/></a>"
      ]
    },
    {
      "cell_type": "markdown",
      "metadata": {
        "pycharm": {
          "name": "#%% md\n"
        },
        "id": "7IEzqKGQf_-F"
      },
      "source": [
        "# Outro\n"
      ]
    },
    {
      "cell_type": "markdown",
      "metadata": {
        "id": "5__Mkb5Tf_-H"
      },
      "source": [
        "**Our 2021 Sponsors, including Presenting Sponsor Facebook Reality Labs**\n",
        "\n",
        "<p align='center'><img src='https://github.com/NeuromatchAcademy/widgets/blob/master/sponsors.png?raw=True'/></p>"
      ]
    },
    {
      "cell_type": "markdown",
      "metadata": {
        "pycharm": {
          "name": "#%% md\n"
        },
        "id": "4BXyQlf2f_-I"
      },
      "source": [
        "## Video"
      ]
    },
    {
      "cell_type": "code",
      "metadata": {
        "execution": {
          "iopub.execute_input": "2021-07-04T03:58:06.554175Z",
          "iopub.status.busy": "2021-07-04T03:58:06.553612Z",
          "iopub.status.idle": "2021-07-04T03:58:06.661789Z",
          "shell.execute_reply": "2021-07-04T03:58:06.662475Z"
        },
        "pycharm": {
          "name": "#%%\n"
        },
        "cellView": "form",
        "id": "l4mses2wf_-J",
        "outputId": "ae2d6df6-ede0-4ba8-dc65-f40898681a5f",
        "colab": {
          "base_uri": "https://localhost:8080/",
          "height": 580,
          "referenced_widgets": [
            "055e3e5e4c704e9196fc99417d28661a",
            "006343bfb3be4635845b351f3f8c2c5b",
            "bd3e30593a9f4c59a42b0a5d4026f5fd",
            "9edb4ec68d0744c2bfea3bdf34f7e574",
            "58b9e0995e6846238f76e3956bca9675",
            "a7f27d6b274142c0a9dddf79544910c9"
          ]
        }
      },
      "source": [
        "# @markdown\n",
        "from ipywidgets import widgets\n",
        "\n",
        "out2 = widgets.Output()\n",
        "with out2:\n",
        "  from IPython.display import IFrame\n",
        "  class BiliVideo(IFrame):\n",
        "      def __init__(self, id, page=1, width=400, height=300, **kwargs):\n",
        "          self.id=id\n",
        "          src = \"https://player.bilibili.com/player.html?bvid={0}&page={1}\".format(id, page)\n",
        "          super(BiliVideo, self).__init__(src, width, height, **kwargs)\n",
        "\n",
        "  video = BiliVideo(id=f\"BV1bg411u7we\", width=854, height=480, fs=1)\n",
        "  print(\"Video available at https://www.bilibili.com/video/{0}\".format(video.id))\n",
        "  display(video)\n",
        "\n",
        "out1 = widgets.Output()\n",
        "with out1:\n",
        "  from IPython.display import YouTubeVideo\n",
        "  video = YouTubeVideo(id=f\"KUdKlJxtjQw\", width=854, height=480, fs=1, rel=0)\n",
        "  print(\"Video available at https://youtube.com/watch?v=\" + video.id)\n",
        "  display(video)\n",
        "\n",
        "out = widgets.Tab([out1, out2])\n",
        "out.set_title(0, 'Youtube')\n",
        "out.set_title(1, 'Bilibili')\n",
        "\n",
        "display(out)"
      ],
      "execution_count": 1,
      "outputs": [
        {
          "output_type": "display_data",
          "data": {
            "application/vnd.jupyter.widget-view+json": {
              "model_id": "055e3e5e4c704e9196fc99417d28661a",
              "version_minor": 0,
              "version_major": 2
            },
            "text/plain": [
              "Tab(children=(Output(), Output()), _titles={'0': 'Youtube', '1': 'Bilibili'})"
            ]
          },
          "metadata": {
            "tags": []
          }
        }
      ]
    },
    {
      "cell_type": "markdown",
      "metadata": {
        "id": "QXjDk7cEf_-J"
      },
      "source": [
        "## Reflections\n",
        "\n",
        "Don't forget to complete your reflections and content checks!"
      ]
    },
    {
      "cell_type": "markdown",
      "metadata": {
        "pycharm": {
          "name": "#%% md\n"
        },
        "id": "nnc3_-ebf_-K"
      },
      "source": [
        "## Slides"
      ]
    },
    {
      "cell_type": "code",
      "metadata": {
        "cellView": "form",
        "execution": {
          "iopub.execute_input": "2021-07-04T03:58:06.674693Z",
          "iopub.status.busy": "2021-07-04T03:58:06.673619Z",
          "iopub.status.idle": "2021-07-04T03:58:06.676473Z",
          "shell.execute_reply": "2021-07-04T03:58:06.676838Z"
        },
        "pycharm": {
          "name": "#%%\n"
        },
        "id": "JNseN08of_-K"
      },
      "source": [
        "# @markdown\n",
        "from IPython.display import IFrame\n",
        "IFrame(src=f\"https://mfr.ca-1.osf.io/render?url=https://osf.io/9hkg2/?direct%26mode=render%26action=download%26mode=render\", width=854, height=480)"
      ],
      "execution_count": null,
      "outputs": []
    }
  ]
}