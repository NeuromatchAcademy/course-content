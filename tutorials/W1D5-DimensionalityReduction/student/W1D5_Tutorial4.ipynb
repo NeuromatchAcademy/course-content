{
 "cells": [
  {
   "cell_type": "markdown",
   "metadata": {
    "colab_type": "text",
    "id": "view-in-github"
   },
   "source": [
    "<a href=\"https://colab.research.google.com/github/NeuromatchAcademy/course-content/blob/master/tutorials/W1D5-DimensionalityReduction/student/W1D5_Tutorial4.ipynb\" target=\"_parent\"><img src=\"https://colab.research.google.com/assets/colab-badge.svg\" alt=\"Open In Colab\"/></a>"
   ]
  },
  {
   "cell_type": "markdown",
   "metadata": {
    "colab_type": "text",
    "id": "a1pq-AcBBJ5L"
   },
   "source": [
    "# Neuromatch Academy: Week 1, Day 5, Tutorial 4\n",
    "# Dimensionality Reduction: Nonlinear dimensionality reduction\n"
   ]
  },
  {
   "cell_type": "markdown",
   "metadata": {
    "colab_type": "text",
    "id": "_coTqnWnBo7V"
   },
   "source": [
    "---\n",
    "\n",
    "In this notebook we'll explore how dimensionality reduction can be useful for visualizing data and looking for structure. To do this, we will compare PCA with t-SNE, a nonlinear dimensionality reduction method.\n",
    "\n",
    "Steps:\n",
    " 1. Visualize MNIST in 2D using PCA.\n",
    " 2. Visualize MNIST in 2D using t-SNE.\n",
    "---"
   ]
  },
  {
   "cell_type": "code",
   "execution_count": 1,
   "metadata": {
    "cellView": "form",
    "colab": {
     "base_uri": "https://localhost:8080/",
     "height": 518
    },
    "colab_type": "code",
    "id": "o3An8t_BXkpj",
    "outputId": "46cca83c-004e-45be-9dc3-2cfacb30fec1"
   },
   "outputs": [
    {
     "name": "stdout",
     "output_type": "stream",
     "text": [
      "Video available at https://youtube.com/watch?v=SC86fv9Vx1E\n"
     ]
    },
    {
     "data": {
      "image/jpeg": "[encoded data removed]",
      "text/html": [
       "\n",
       "        <iframe\n",
       "            width=\"854\"\n",
       "            height=\"480\"\n",
       "            src=\"https://www.youtube.com/embed/SC86fv9Vx1E?fs=1\"\n",
       "            frameborder=\"0\"\n",
       "            allowfullscreen\n",
       "        ></iframe>\n",
       "        "
      ],
      "text/plain": [
       "<IPython.lib.display.YouTubeVideo at 0x7fe500bc9910>"
      ]
     },
     "execution_count": 1,
     "metadata": {},
     "output_type": "execute_result"
    }
   ],
   "source": [
    "#@title Video: PCA Applications\n",
    "from IPython.display import YouTubeVideo\n",
    "video = YouTubeVideo(id=\"SC86fv9Vx1E\", width=854, height=480, fs=1)\n",
    "print(\"Video available at https://youtube.com/watch?v=\" + video.id)\n",
    "video"
   ]
  },
  {
   "cell_type": "markdown",
   "metadata": {
    "colab_type": "text",
    "id": "Lvd-FYmlXyiH"
   },
   "source": [
    "\n",
    "# Setup\n",
    "Run these cells to get the tutorial started."
   ]
  },
  {
   "cell_type": "code",
   "execution_count": 2,
   "metadata": {
    "colab": {},
    "colab_type": "code",
    "id": "oJ2AJb4sSaXy"
   },
   "outputs": [],
   "source": [
    "# library imports\n",
    "import time                        # import time \n",
    "import numpy as np                 # import numpy\n",
    "import scipy as sp                 # import scipy\n",
    "import math                        # import basic math functions\n",
    "import random                      # import basic random number generator functions\n",
    "\n",
    "import matplotlib.pyplot as plt    # import matplotlib\n",
    "from IPython import display       "
   ]
  },
  {
   "cell_type": "code",
   "execution_count": 3,
   "metadata": {
    "cellView": "form",
    "colab": {},
    "colab_type": "code",
    "id": "4GcQOmtlBb8V"
   },
   "outputs": [],
   "source": [
    "#@title Figure Settings\n",
    "%matplotlib inline\n",
    "fig_w, fig_h = (8, 8)\n",
    "plt.rcParams.update({'figure.figsize': (fig_w, fig_h)})\n",
    "plt.style.use('ggplot')\n",
    "%config InlineBackend.figure_format = 'retina'"
   ]
  },
  {
   "cell_type": "code",
   "execution_count": 4,
   "metadata": {
    "cellView": "form",
    "colab": {},
    "colab_type": "code",
    "id": "szJEzqvd-aCK"
   },
   "outputs": [],
   "source": [
    "#@title Helper Functions\n",
    "\n",
    "def visualize_components(component1,component2,labels):\n",
    "  \"\"\"\n",
    "  Plots a 2D representation of the data for visualization with categories\n",
    "  labelled as different colors.\n",
    "  \n",
    "  Args:\n",
    "     component1 (numpy array of floats) : Vector of component 1 scores\n",
    "     component2 (numpy array of floats) : Vector of component 2 scores\n",
    "     labels (numpy array of floats) : Vector corresponding to categories of samples\n",
    "     \n",
    "  Returns: \n",
    "     Nothing.\n",
    "    \n",
    "  \"\"\"\n",
    "  plt.figure()\n",
    "  cmap = plt.cm.get_cmap('tab10')\n",
    "  plt.scatter(x=component1,y=component2,c=labels,cmap=cmap)\n",
    "  plt.xlabel('Component 1')\n",
    "  plt.ylabel('Component 2')\n",
    "  plt.colorbar(ticks=range(10))\n",
    "  plt.clim(-0.5, 9.5)\n",
    "  "
   ]
  },
  {
   "cell_type": "markdown",
   "metadata": {
    "colab_type": "text",
    "id": "7jFNyCJ5ChXQ"
   },
   "source": [
    "# Visualize MNIST in 2D using PCA.\n",
    "\n",
    "In this exercise, we'll visualize the first few components of the MNIST dataset to look for evidence of structure in the data. But in this tutorial, we will also be interested in the label of each image (i.e., which numeral it is from 0 to 9). Start by running the following cell to reload the MNIST dataset. \n"
   ]
  },
  {
   "cell_type": "code",
   "execution_count": 5,
   "metadata": {
    "colab": {},
    "colab_type": "code",
    "id": "HAM5vUWJBpiJ"
   },
   "outputs": [],
   "source": [
    "from sklearn.datasets import fetch_openml\n",
    "mnist = fetch_openml(name = 'mnist_784')\n",
    "X = mnist.data\n",
    "labels = [int(k) for k in mnist.target]\n",
    "labels = np.array(labels)"
   ]
  },
  {
   "cell_type": "markdown",
   "metadata": {
    "colab_type": "text",
    "id": "lijxWuIDZpVM"
   },
   "source": [
    "To perform PCA, we now will use the method implemented in sklearn. Run the following cell to set the parameters of PCA - we will only look at the top 2 components because we will be visualizing the data in 2D."
   ]
  },
  {
   "cell_type": "code",
   "execution_count": 6,
   "metadata": {
    "colab": {
     "base_uri": "https://localhost:8080/",
     "height": 52
    },
    "colab_type": "code",
    "id": "cFlK1crCXe5p",
    "outputId": "69f85003-a79b-41a7-99f5-733b84dd202e"
   },
   "outputs": [
    {
     "data": {
      "text/plain": [
       "PCA(n_components=2)"
      ]
     },
     "execution_count": 6,
     "metadata": {},
     "output_type": "execute_result"
    }
   ],
   "source": [
    "from sklearn.decomposition import PCA\n",
    "pca_model = PCA(n_components=2) # Initializes PCA\n",
    "pca_model.fit(X) # Performs PCA "
   ]
  },
  {
   "cell_type": "markdown",
   "metadata": {
    "colab_type": "text",
    "id": "md_QTwKLmpKp"
   },
   "source": [
    "#### Exercise:\n",
    "Now fill in the code below to perform PCA and visualize the top two  components. For better visualization, take only the first 2000 samples of the data (this will also make t-SNE much faster in the following section of the tutorial so don't skip this step!)\n",
    "\n",
    "**Suggestions**\n",
    "* Truncate the data matrix at 2000 samples. You will also need to truncate the array of labels.\n",
    "* Perform PCA on the truncated data.\n",
    "* Use the function `visualize_components` to plot the labelled data.\n",
    "* Examine the results. What do you see? Are different samples corresponding to the same numeral clustered together? Is there much overlap? Do some pairs of numerals appear to be more distinguishable than others?"
   ]
  },
  {
   "cell_type": "code",
   "execution_count": 7,
   "metadata": {
    "colab": {
     "base_uri": "https://localhost:8080/",
     "height": 781
    },
    "colab_type": "code",
    "id": "pOBju7GsqiMJ",
    "outputId": "d1654edd-f13c-4a8d-b0c7-b7db2d5dda46"
   },
   "outputs": [
    {
     "name": "stdout",
     "output_type": "stream",
     "text": [
      "Help on function visualize_components in module __main__:\n",
      "\n",
      "visualize_components(component1, component2, labels)\n",
      "    Plots a 2D representation of the data for visualization with categories\n",
      "    labelled as different colors.\n",
      "    \n",
      "    Args:\n",
      "       component1 (numpy array of floats) : Vector of component 1 scores\n",
      "       component2 (numpy array of floats) : Vector of component 2 scores\n",
      "       labels (numpy array of floats) : Vector corresponding to categories of samples\n",
      "       \n",
      "    Returns: \n",
      "       Nothing.\n",
      "\n",
      "Help on method transform in module sklearn.decomposition._base:\n",
      "\n",
      "transform(X) method of sklearn.decomposition._pca.PCA instance\n",
      "    Apply dimensionality reduction to X.\n",
      "    \n",
      "    X is projected on the first principal components previously extracted\n",
      "    from a training set.\n",
      "    \n",
      "    Parameters\n",
      "    ----------\n",
      "    X : array-like, shape (n_samples, n_features)\n",
      "        New data, where n_samples is the number of samples\n",
      "        and n_features is the number of features.\n",
      "    \n",
      "    Returns\n",
      "    -------\n",
      "    X_new : array-like, shape (n_samples, n_components)\n",
      "    \n",
      "    Examples\n",
      "    --------\n",
      "    \n",
      "    >>> import numpy as np\n",
      "    >>> from sklearn.decomposition import IncrementalPCA\n",
      "    >>> X = np.array([[-1, -1], [-2, -1], [-3, -2], [1, 1], [2, 1], [3, 2]])\n",
      "    >>> ipca = IncrementalPCA(n_components=2, batch_size=3)\n",
      "    >>> ipca.fit(X)\n",
      "    IncrementalPCA(batch_size=3, n_components=2)\n",
      "    >>> ipca.transform(X) # doctest: +SKIP\n",
      "\n"
     ]
    }
   ],
   "source": [
    "help(visualize_components)\n",
    "help(pca_model.transform)"
   ]
  },
  {
   "cell_type": "code",
   "execution_count": 8,
   "metadata": {
    "colab": {},
    "colab_type": "code",
    "id": "JBOmyQA77afd"
   },
   "outputs": [],
   "source": [
    "###################################################################\n",
    "## Insert your code here to:\n",
    "##                Take only the first 2000 samples\n",
    "##                Perform PCA \n",
    "##                Plot the data and reconstruction\n",
    "################################################################### \n",
    "# X = ...\n",
    "# labels = ...\n",
    "# scores = pca_model.transform(X)\n",
    "# visualize_components(...)\n"
   ]
  },
  {
   "cell_type": "markdown",
   "metadata": {
    "colab": {
     "base_uri": "https://localhost:8080/",
     "height": 505
    },
    "colab_type": "text",
    "id": "7rEU3aVJGpSk",
    "outputId": "134d15d1-efe7-4a81-97bd-f364a90066c7"
   },
   "source": [
    "[*Click for solution*](https://github.com/NeuromatchAcademy/course-content/tree/master//tutorials/W1D5-DimensionalityReduction/solutions/W1D5_Tutorial4_Solution_7ac06f29.py)\n",
    "\n",
    "*Example output:*\n",
    "\n",
    "<img alt='Solution hint' align='left' width=507 height=498 src=https://raw.githubusercontent.com/NeuromatchAcademy/course-content/master/tutorials/W1D5-DimensionalityReduction/static/W1D5_Tutorial4_Solution_7ac06f29_0.png>\n",
    "\n"
   ]
  },
  {
   "cell_type": "markdown",
   "metadata": {
    "colab_type": "text",
    "id": "8lVO2rHv0kDi"
   },
   "source": [
    "# Visualize MNIST in 2D using t-SNE.\n"
   ]
  },
  {
   "cell_type": "code",
   "execution_count": 10,
   "metadata": {
    "cellView": "form",
    "colab": {
     "base_uri": "https://localhost:8080/",
     "height": 518
    },
    "colab_type": "code",
    "id": "aIi0fq2d0Z60",
    "outputId": "c3ed199d-0088-4705-9bb6-d80990e4eb1c"
   },
   "outputs": [
    {
     "name": "stdout",
     "output_type": "stream",
     "text": [
      "Video available at https://youtube.com/watch?v=ljqqIAhsN7w\n"
     ]
    },
    {
     "data": {
      "image/jpeg": "[encoded data removed]",
      "text/html": [
       "\n",
       "        <iframe\n",
       "            width=\"854\"\n",
       "            height=\"480\"\n",
       "            src=\"https://www.youtube.com/embed/ljqqIAhsN7w?fs=1\"\n",
       "            frameborder=\"0\"\n",
       "            allowfullscreen\n",
       "        ></iframe>\n",
       "        "
      ],
      "text/plain": [
       "<IPython.lib.display.YouTubeVideo at 0x7fe4cf4f5fd0>"
      ]
     },
     "execution_count": 10,
     "metadata": {},
     "output_type": "execute_result"
    }
   ],
   "source": [
    "#@title Video: NonlinearMethods\n",
    "from IPython.display import YouTubeVideo\n",
    "video = YouTubeVideo(id=\"ljqqIAhsN7w\", width=854, height=480, fs=1)\n",
    "print(\"Video available at https://youtube.com/watch?v=\" + video.id)\n",
    "video\n"
   ]
  },
  {
   "cell_type": "markdown",
   "metadata": {
    "colab_type": "text",
    "id": "dhA1ioJJlrtw"
   },
   "source": [
    "Next we will analyze the same data using t-SNE, a nonlinear dimensionality reduction method that is useful for visualizing high dimensional data in 2D or 3D. Run the cell below to get started. "
   ]
  },
  {
   "cell_type": "code",
   "execution_count": 11,
   "metadata": {
    "colab": {},
    "colab_type": "code",
    "id": "YS1c_mSLIdMu"
   },
   "outputs": [],
   "source": [
    "from sklearn.manifold import TSNE\n",
    "tsne_model = TSNE(n_components=2,perplexity=30,random_state=0) "
   ]
  },
  {
   "cell_type": "markdown",
   "metadata": {
    "colab_type": "text",
    "id": "fP8DnpIsrBSv"
   },
   "source": [
    "\n",
    "#### Exercise\n",
    "First, we'll run t-SNE on the data to explore whether we can see more structure. The cell above defined the parameters that we will use to find our embedding (i.e, the low-dimensional representation of the data) and stored them in `model`. To run t-SNE on our data, use the function `model.fit_transform`.\n",
    "\n",
    "\n",
    "**Suggestions**\n",
    "* Run t-SNE using the function `model.fit_transform`.\n",
    "* Plot the result data using `visualize_components`. \n",
    "* Do you see clusters corresponding to different numerals? Which clusters are closer together and which are further apart? Does this make intuitive sense to you? Do numerals that look similar have nearby clusters in the t-SNE embedding? (**Hint:** consider similar numerals like 3 and 8)."
   ]
  },
  {
   "cell_type": "code",
   "execution_count": 12,
   "metadata": {
    "colab": {
     "base_uri": "https://localhost:8080/",
     "height": 407
    },
    "colab_type": "code",
    "id": "uxHIrkTzzFX2",
    "outputId": "8e5d93bd-09d5-4905-861f-9e1fc9ca02b7"
   },
   "outputs": [
    {
     "name": "stdout",
     "output_type": "stream",
     "text": [
      "Help on method fit_transform in module sklearn.manifold._t_sne:\n",
      "\n",
      "fit_transform(X, y=None) method of sklearn.manifold._t_sne.TSNE instance\n",
      "    Fit X into an embedded space and return that transformed\n",
      "    output.\n",
      "    \n",
      "    Parameters\n",
      "    ----------\n",
      "    X : array, shape (n_samples, n_features) or (n_samples, n_samples)\n",
      "        If the metric is 'precomputed' X must be a square distance\n",
      "        matrix. Otherwise it contains a sample per row. If the method\n",
      "        is 'exact', X may be a sparse matrix of type 'csr', 'csc'\n",
      "        or 'coo'. If the method is 'barnes_hut' and the metric is\n",
      "        'precomputed', X may be a precomputed sparse graph.\n",
      "    \n",
      "    y : Ignored\n",
      "    \n",
      "    Returns\n",
      "    -------\n",
      "    X_new : array, shape (n_samples, n_components)\n",
      "        Embedding of the training data in low-dimensional space.\n",
      "\n"
     ]
    }
   ],
   "source": [
    "help(tsne_model.fit_transform)"
   ]
  },
  {
   "cell_type": "code",
   "execution_count": 13,
   "metadata": {
    "colab": {},
    "colab_type": "code",
    "id": "IWMlb2WozRIO"
   },
   "outputs": [],
   "source": [
    "###################################################################\n",
    "## Insert your code here to:\n",
    "##                Visualize the data\n",
    "#embed = \n",
    "#visualize_components(???,???,labels)\n",
    "################################################################### "
   ]
  },
  {
   "cell_type": "markdown",
   "metadata": {
    "colab": {
     "base_uri": "https://localhost:8080/",
     "height": 505
    },
    "colab_type": "text",
    "id": "R6k0UUz29DuB",
    "outputId": "4587a3fd-eee9-4eb1-8013-afbd74d0a72e"
   },
   "source": [
    "[*Click for solution*](https://github.com/NeuromatchAcademy/course-content/tree/master//tutorials/W1D5-DimensionalityReduction/solutions/W1D5_Tutorial4_Solution_1ec32d46.py)\n",
    "\n",
    "*Example output:*\n",
    "\n",
    "<img alt='Solution hint' align='left' width=492 height=498 src=https://raw.githubusercontent.com/NeuromatchAcademy/course-content/master/tutorials/W1D5-DimensionalityReduction/static/W1D5_Tutorial4_Solution_1ec32d46_0.png>\n",
    "\n"
   ]
  },
  {
   "cell_type": "markdown",
   "metadata": {
    "colab_type": "text",
    "id": "VnteTs930SjZ"
   },
   "source": [
    "\n",
    "#### Exercise\n",
    "Next we'll take a look at some of the parameters of t-SNE and how those affect our interpretation of the results. First we will look at the random seed (the parameter `random_state`). Unlike PCA, t-SNE is not deterministic so different random seeds can give different results. Next, we will look at perplexity, which is a free parameter of t-SNE that roughly determines how global vs. local information is weighted. \n",
    "\n",
    "**Suggestions**\n",
    "* Rerun t-SNE (don't forget to re-initialize using the function `TSNE` as above) with the same perplexity of 30, but now setting the initial seed to 2. \n",
    "* What changed compared to your previous results? Do you see any clusters that have a different structure than before? (**Hint:** are clusters for 2 and 8 close together or far apart? Did this change from your initial findings?)\n",
    "* Now try decreasing the perplexity to 5 and 2. \n",
    "* What changed in the embedding structure? \n",
    "\n",
    "To learn more about how the perplexity and other parameters affects t-SNE results: https://distill.pub/2016/misread-tsne/"
   ]
  },
  {
   "cell_type": "code",
   "execution_count": 15,
   "metadata": {
    "colab": {},
    "colab_type": "code",
    "id": "qICO5GZICCMl"
   },
   "outputs": [],
   "source": [
    "###################################################################\n",
    "## Insert your code here to:\n",
    "##                redefine the t-SNE \"model\" while setting random_state to 1\n",
    "##                perform t-SNE on the data and plot the results\n",
    "##                Repeat, for perplexity = 5, and 2 (set random_state to 0)\n",
    "#tsne_model =\n",
    "#embed = tsne_model.fit_transform(X)\n",
    "#visualize_components(embed[:,0],embed[:,1],labels)\n",
    "################################################################### "
   ]
  },
  {
   "cell_type": "markdown",
   "metadata": {
    "colab": {
     "base_uri": "https://localhost:8080/",
     "height": 541
    },
    "colab_type": "text",
    "id": "V0K84o_-rR0K",
    "outputId": "7edc0a7b-52df-4f9e-c645-9db9df0d0bd8"
   },
   "source": [
    "[*Click for solution*](https://github.com/NeuromatchAcademy/course-content/tree/master//tutorials/W1D5-DimensionalityReduction/solutions/W1D5_Tutorial4_Solution_e58a2929.py)\n",
    "\n",
    "*Example output:*\n",
    "\n",
    "<img alt='Solution hint' align='left' width=493 height=498 src=https://raw.githubusercontent.com/NeuromatchAcademy/course-content/master/tutorials/W1D5-DimensionalityReduction/static/W1D5_Tutorial4_Solution_e58a2929_0.png>\n",
    "\n"
   ]
  },
  {
   "cell_type": "markdown",
   "metadata": {
    "colab_type": "text",
    "id": "eFbgzYb4PI8t"
   },
   "source": [
    "Further reading\n",
    "\n",
    "To learn more about the subtleties of interpreting t-SNE results, check out these resources:\n",
    "* https://distill.pub/2016/misread-tsne/\n",
    "* https://scikit-learn.org/stable/auto_examples/manifold/plot_t_sne_perplexity.html\n",
    "* https://lvdmaaten.github.io/tsne/\n"
   ]
  }
 ],
 "metadata": {
  "colab": {
   "collapsed_sections": [],
   "include_colab_link": true,
   "name": "W1D5-Tutorial 4",
   "provenance": [],
   "toc_visible": true
  },
  "kernelspec": {
   "display_name": "Python 3",
   "name": "python3"
  },
  "language_info": {
   "codemirror_mode": {
    "name": "ipython",
    "version": 3
   },
   "file_extension": ".py",
   "mimetype": "text/x-python",
   "name": "python",
   "nbconvert_exporter": "python",
   "pygments_lexer": "ipython3",
   "version": "3.7.7"
  }
 },
 "nbformat": 4,
 "nbformat_minor": 0
}
