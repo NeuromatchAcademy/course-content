{
  "nbformat": 4,
  "nbformat_minor": 0,
  "metadata": {
    "colab": {
      "name": "Copy of W1D5-Tutorial 3",
      "provenance": [],
      "collapsed_sections": [],
      "toc_visible": true,
      "include_colab_link": true
    },
    "kernelspec": {
      "name": "python3",
      "display_name": "Python 3"
    }
  },
  "cells": [
    {
      "cell_type": "markdown",
      "metadata": {
        "id": "view-in-github",
        "colab_type": "text"
      },
      "source": [
        "<a href=\"https://colab.research.google.com/github/NeuromatchAcademy/course-content/blob/W1D5/tutorials/W1D5-DimensionalityReduction/W1D5-Tutorial3.ipynb\" target=\"_parent\"><img src=\"https://colab.research.google.com/assets/colab-badge.svg\" alt=\"Open In Colab\"/></a>"
      ]
    },
    {
      "cell_type": "markdown",
      "metadata": {
        "id": "a1pq-AcBBJ5L",
        "colab_type": "text"
      },
      "source": [
        "\n",
        "# Neuromatch Academy: Week 1, Day 5, Tutorial 3\n",
        "# Dimensionality Reduction and reconstruction"
      ]
    },
    {
      "cell_type": "markdown",
      "metadata": {
        "id": "_coTqnWnBo7V",
        "colab_type": "text"
      },
      "source": [
        "---\n",
        "\n",
        "In this notebook we'll learn to apply PCA for dimensionality reduction, using a classic dataset that is often used to benchmark machine learning algorithms: the MNIST dataset of handwritten digits. We'll also learn how to use PCA for reconstruction and denoising.\n",
        "\n",
        "Steps:\n",
        " 1. Perform PCA on MNIST dataset.\n",
        " 2. Calculate the variance explained.\n",
        " 3. Reconstruct data with different numbers of PCs.\n",
        " 4. Examine denoising using PCA.\n",
        "\n",
        "To learn more about MNIST: \n",
        "* https://en.wikipedia.org/wiki/MNIST_database\n",
        "\n",
        "---"
      ]
    },
    {
      "cell_type": "code",
      "metadata": {
        "id": "o3An8t_BXkpj",
        "colab_type": "code",
        "cellView": "form",
        "colab": {
          "base_uri": "https://localhost:8080/",
          "height": 518
        },
        "outputId": "bbe64162-3daf-407d-f0a6-9165d9fbc6ed"
      },
      "source": [
        "#@title Video: Logistic regression\n",
        "from IPython.display import YouTubeVideo\n",
        "video = YouTubeVideo(id=\"ew0-P7-6Nho\", width=854, height=480, fs=1)\n",
        "print(\"Video available at https://youtube.com/watch?v=\" + video.id)\n",
        "video\n"
      ],
      "execution_count": null,
      "outputs": [
        {
          "output_type": "stream",
          "text": [
            "Video available at https://youtube.com/watch?v=ew0-P7-6Nho\n"
          ],
          "name": "stdout"
        },
        {
          "output_type": "execute_result",
          "data": {
            "text/html": [
              "\n",
              "        <iframe\n",
              "            width=\"854\"\n",
              "            height=\"480\"\n",
              "            src=\"https://www.youtube.com/embed/ew0-P7-6Nho?fs=1\"\n",
              "            frameborder=\"0\"\n",
              "            allowfullscreen\n",
              "        ></iframe>\n",
              "        "
            ],
            "text/plain": [
              "<IPython.lib.display.YouTubeVideo at 0x7f735dda34e0>"
            ],
            "image/jpeg": "[encoded data removed]"
          },
          "metadata": {
            "tags": []
          },
          "execution_count": 43
        }
      ]
    },
    {
      "cell_type": "markdown",
      "metadata": {
        "id": "Lvd-FYmlXyiH",
        "colab_type": "text"
      },
      "source": [
        "# Setup\n",
        "Run these cells to get the tutorial started."
      ]
    },
    {
      "cell_type": "code",
      "metadata": {
        "id": "ExhYAoZHv-8_",
        "colab_type": "code",
        "colab": {}
      },
      "source": [
        "#import libraries\n",
        "import time                        # import time \n",
        "import numpy as np                 # import numpy\n",
        "import scipy as sp                 # import scipy\n",
        "import math                        # import basic math \n",
        "import random                      # import basic random number generator functions\n",
        "\n",
        "import matplotlib.pyplot as plt    # import matplotlib\n",
        "from IPython import display   "
      ],
      "execution_count": null,
      "outputs": []
    },
    {
      "cell_type": "code",
      "metadata": {
        "id": "4GcQOmtlBb8V",
        "colab_type": "code",
        "cellView": "form",
        "colab": {}
      },
      "source": [
        "# @title Figure Settings\n",
        "fig_w, fig_h = (10, 4)\n",
        "plt.rcParams.update({'figure.figsize': (fig_w, fig_h)})\n",
        "plt.style.use('ggplot')\n",
        "\n",
        "%matplotlib inline\n",
        "%config InlineBackend.figure_format = 'retina'"
      ],
      "execution_count": null,
      "outputs": []
    },
    {
      "cell_type": "code",
      "metadata": {
        "id": "LFts1a8oflAC",
        "colab_type": "code",
        "cellView": "form",
        "colab": {}
      },
      "source": [
        "# @title Helper Functions\n",
        "# New helper functions\n",
        "\n",
        "def plot_variance_explained(variance_explained):\n",
        "  \"\"\"\n",
        "  Plots eigenvalues.\n",
        "  \n",
        "  Args:\n",
        "     variance_explained (numpy array of floats) : Vector of variance explained for each PC\n",
        "     \n",
        "  Returns: \n",
        "    Nothing.\n",
        "    \n",
        "  \"\"\"\n",
        "  plt.figure()\n",
        "  plt.plot(np.arange(1,len(variance_explained)+1),variance_explained,'o-k')\n",
        "  plt.xlabel('Number of components')\n",
        "  plt.ylabel('Variance explained')\n",
        "\n",
        "def plot_MNIST_reconstruction(X,X_reconstructed):\n",
        "  \"\"\"\n",
        "  Plots 9 images in the MNIST dataset side-by-side with the reconstructed images.\n",
        "  \n",
        "  Args:\n",
        "     X (numpy array of floats):   Data matrix \n",
        "                                  each column corresponds to a different random variable \n",
        "     X_reconstructed (numpy array of floats):   Data matrix \n",
        "                                  each column corresponds to a different random variable \n",
        "    \n",
        "  Returns: \n",
        "    Nothing.\n",
        "    \n",
        "  \"\"\"\n",
        "  plt.figure()\n",
        "  ax = plt.subplot(1,2,1)\n",
        "  k=0\n",
        "  for k1 in range(3):\n",
        "    for k2 in range(3):\n",
        "      k = k+1\n",
        "      plt.imshow(np.reshape(X[k,:],(28,28)),extent=[(k1+1)*28,k1*28,(k2+1)*28,k2*28],vmin=0,vmax=255)\n",
        "  plt.xlim((3*28,0))\n",
        "  plt.ylim((3*28,0))\n",
        "  plt.tick_params(axis='both',which='both',bottom=False,top=False,labelbottom=False)\n",
        "  ax.set_xticks([])\n",
        "  ax.set_yticks([]) \n",
        "  plt.title('Data')\n",
        "  plt.clim([0,250])\n",
        "  ax = plt.subplot(1,2,2)\n",
        "  k=0\n",
        "  for k1 in range(3):\n",
        "    for k2 in range(3):\n",
        "      k = k+1\n",
        "      plt.imshow(np.real(np.reshape(X_reconstructed[k,:],(28,28))),extent=[(k1+1)*28,k1*28,(k2+1)*28,k2*28],vmin=0,vmax=255)\n",
        "  plt.xlim((3*28,0))\n",
        "  plt.ylim((3*28,0))\n",
        "  plt.tick_params(axis='both',which='both',bottom=False,top=False,labelbottom=False)\n",
        "  ax.set_xticks([])\n",
        "  ax.set_yticks([]) \n",
        "  plt.clim([0,250])\n",
        "  plt.title('Reconstructed')\n",
        "\n",
        "\n",
        "def plot_MNIST_sample(X):\n",
        "  \"\"\"\n",
        "  Plots 9 images in the MNIST dataset.\n",
        "  \n",
        "  Args:\n",
        "     X (numpy array of floats):   Data matrix \n",
        "                                  each column corresponds to a different random variable \n",
        "\n",
        "  Returns: \n",
        "    Nothing.\n",
        "    \n",
        "  \"\"\"\n",
        "  plt.figure()\n",
        "  fig, ax = plt.subplots()\n",
        "  k=0\n",
        "  for k1 in range(3):\n",
        "    for k2 in range(3):\n",
        "      k = k+1\n",
        "      plt.imshow(np.reshape(X[k,:],(28,28)),extent=[(k1+1)*28,k1*28,(k2+1)*28,k2*28],vmin=0,vmax=255)\n",
        "  plt.xlim((3*28,0))\n",
        "  plt.ylim((3*28,0))\n",
        "  plt.tick_params(axis='both',which='both',bottom=False,top=False,labelbottom=False)\n",
        "  plt.clim([0,250])\n",
        "  ax.set_xticks([])\n",
        "  ax.set_yticks([])\n",
        "\n",
        "def plot_MNIST_weights(weights):\n",
        "  \"\"\"\n",
        "  Visualize PCA basis vector weights for MNIST. Red = positive weights, blue = \n",
        "  negative weights, white = zero weight.\n",
        "  \n",
        "  Args:\n",
        "     weights (numpy array of floats) : PCA basis vector\n",
        "     \n",
        "  Returns: \n",
        "     Nothing.\n",
        "    \n",
        "  \"\"\"\n",
        "  plt.figure()\n",
        "  fig, ax = plt.subplots()\n",
        "  cmap = plt.cm.get_cmap('seismic')\n",
        "  plt.imshow(np.reshape(weights,(28,28)),cmap=cmap)\n",
        "  plt.tick_params(axis='both',which='both',bottom=False,top=False,labelbottom=False)\n",
        "  plt.clim(-.15,.15)\n",
        "  plt.colorbar(ticks=[-.15,-.1,-.05,0,.05,.1,.15])\n",
        "  ax.set_xticks([])\n",
        "  ax.set_yticks([])\n",
        "\n",
        "def add_noise(X,frac_noisy_pixels):\n",
        "  \"\"\"\n",
        "  Randomly corrupts a fraction of the pixels by setting them to random values.\n",
        "  \n",
        "  Args:\n",
        "     X (numpy array of floats) : Data matrix\n",
        "     frac_noisy_pixels (scalar) : Fraction of noisy pixels\n",
        "     \n",
        "  Returns: \n",
        "     (numpy array of floats) : Data matrix + noise\n",
        "    \n",
        "  \"\"\"\n",
        "  X_noisy = np.reshape(X,(X.shape[0]*X.shape[1]))\n",
        "  N_noise_ixs = int(X_noisy.shape[0] * frac_noisy_pixels)\n",
        "  noise_ixs = np.random.choice(X_noisy.shape[0],size= N_noise_ixs,replace=False)\n",
        "  X_noisy[noise_ixs] = np.random.uniform(0,255,noise_ixs.shape)\n",
        "  X_noisy = np.reshape(X_noisy,(X.shape[0],X.shape[1]))\n",
        "  return X_noisy\n",
        "\n",
        "\n",
        "\n",
        "  # Old helper functions from Tutorial 1-2\n",
        "\n",
        "def change_of_basis(X,W):\n",
        "  \"\"\"\n",
        "  Projects data onto a new basis.\n",
        "  \n",
        "  Args:\n",
        "    X (numpy array of floats) : Data matrix\n",
        "                                each column corresponding to a different random variable\n",
        "    W (numpy array of floats):  new orthonormal basis\n",
        "                                columns correspond to basis vectors\n",
        "  \n",
        "  Returns: \n",
        "    (numpy array of floats) : Data matrix expressed in new basis\n",
        "  \"\"\"\n",
        "  Y = np.matmul(X,W)\n",
        "  return Y\n",
        "\n",
        "def get_sample_cov_matrix(X):\n",
        "  \"\"\"\n",
        "    Returns the sample covariance matrix of data X\n",
        "    \n",
        "    Args:\n",
        "      X (numpy array of floats):   Data matrix \n",
        "                                  each column corresponds to a different random variable \n",
        "      \n",
        "    Returns: \n",
        "      (numpy array of floats) : Covariance matrix\n",
        "  \"\"\"\n",
        "  X = X - np.mean(X,0)\n",
        "  cov_matrix = 1./X.shape[0]*np.matmul(X.T,X)\n",
        "  return cov_matrix\n",
        "\n",
        "def sort_evals_descending(evals,evectors):\n",
        "  \"\"\"  \n",
        "  Sorts eigenvalues and eigenvectors in decreasing order. Also aligns first two\n",
        "  eigenvectors to be in first two quadrants (if 2D).\n",
        "\n",
        "  Args:\n",
        "    evals (numpy array of floats):   Vector of eigenvalues \n",
        "    evectors (numpy array of floats):   Corresponding matrix of eigenvectors \n",
        "                                each column corresponds to a different eigenvalue \n",
        "    \n",
        "  Returns: \n",
        "    (numpy array of floats) : Vector of eigenvalues after sorting\n",
        "    (numpy array of floats) : Matrix of eigenvectors after sorting\n",
        "  \"\"\"\n",
        "  index = np.flip(np.argsort(evals))\n",
        "  evals = evals[index]\n",
        "  evectors = evectors[:,index]\n",
        "  if evals.shape[0] == 2:\n",
        "    if np.arccos(np.matmul(evectors[:,0], 1./np.sqrt(2)*np.array([1,1]))) > np.pi/2.:\n",
        "      evectors[:,0] = -evectors[:,0]\n",
        "    if np.arccos(np.matmul(evectors[:,1], 1./np.sqrt(2)*np.array([-1,1]))) > np.pi/2.:\n",
        "      evectors[:,1] = -evectors[:,1]\n",
        "  return evals, evectors\n",
        "\n",
        "def pca(X):\n",
        "  \"\"\"\n",
        "  Performs PCA on multivariate data. Eigenvalues are sorted in decreasing order.\n",
        "  \n",
        "  Args:\n",
        "     X (numpy array of floats):   Data matrix \n",
        "                                  each column corresponds to a different random variable \n",
        "     \n",
        "  Returns: \n",
        "    (numpy array of floats) : Data projected onto the new basis\n",
        "    (numpy array of floats) : Vector of eigenvalues\n",
        "    (numpy array of floats) : Corresponding matrix of eigenvectors \n",
        "    \n",
        "  \"\"\"\n",
        "  X = X - np.mean(X,0)\n",
        "  cov_matrix = get_sample_cov_matrix(X)\n",
        "  evals, evectors = np.linalg.eig(cov_matrix)\n",
        "  evals, evectors = sort_evals_descending(evals,evectors)\n",
        "  score = change_of_basis(X,evectors)\n",
        "  return score, evectors, evals\n",
        "\n",
        "def plot_eigenvalues(evals):\n",
        "  \"\"\"\n",
        "  Plots eigenvalues.\n",
        "  \n",
        "  Args:\n",
        "     (numpy array of floats) : Vector of eigenvalues\n",
        "     \n",
        "  Returns: \n",
        "    Nothing.\n",
        "    \n",
        "  \"\"\"\n",
        "  plt.figure()\n",
        "  plt.plot(np.arange(1,len(evals)+1),evals,'o-k')\n",
        "  plt.xlabel('Component')\n",
        "  plt.ylabel('Eigenvalue')\n",
        "  plt.title('Scree plot')"
      ],
      "execution_count": null,
      "outputs": []
    },
    {
      "cell_type": "markdown",
      "metadata": {
        "id": "7jFNyCJ5ChXQ",
        "colab_type": "text"
      },
      "source": [
        "# Perform PCA on MNIST dataset.\n",
        "The MNIST dataset consists of a 70,000 images of individual handwritten digits. Each image is a 28x28 pixel grayscale image. For convenience, each 28x28 pixel image is often unravelled into a single 784 (=28*28) element vector, so that the whole dataset is represented as a 70,000 x 784 matrix. Each row represents a different image, and each column represents a different pixel.\n",
        " \n",
        "Enter the following cell to load the MNIST dataset and plot the first nine images."
      ]
    },
    {
      "cell_type": "code",
      "metadata": {
        "id": "f4TNMebrBDSQ",
        "colab_type": "code",
        "colab": {}
      },
      "source": [
        "from sklearn.datasets import fetch_openml\n",
        "mnist = fetch_openml(name = 'mnist_784')\n",
        "X = mnist.data\n",
        "plot_MNIST_sample(X)"
      ],
      "execution_count": null,
      "outputs": []
    },
    {
      "cell_type": "markdown",
      "metadata": {
        "id": "OxtBZtgXHIAT",
        "colab_type": "text"
      },
      "source": [
        "\n",
        "The MNIST dataset has an extrinsic dimensionality of 784, much higher than the 2-dimensional examples used in the previous tutorials! To make sense of this data, we'll use dimensionality reduction. But first, we need to determine the intrinsic dimensionality $K$ of the data. One way to do this is to look for an \"elbow\" in the scree plot, to determine which eigenvalues are signficant.\n",
        "\n",
        "#### Exercise\n",
        "In this exercise you will examine the scree plot in the MNIST dataset.\n",
        "\n",
        "**Suggestions**\n",
        "* Perform PCA on the dataset and examine the scree plot. \n",
        "* When do the eigenvalues appear (by eye) to reach zero? (Hint: use `plt.xlim` to zoom into a section of the plot).\n"
      ]
    },
    {
      "cell_type": "code",
      "metadata": {
        "id": "3kiAFD9KOG8F",
        "colab_type": "code",
        "colab": {}
      },
      "source": [
        "help(pca)\n",
        "help(plot_eigenvalues)"
      ],
      "execution_count": null,
      "outputs": []
    },
    {
      "cell_type": "code",
      "metadata": {
        "id": "7zgeszJSHVr9",
        "colab_type": "code",
        "colab": {}
      },
      "source": [
        "###################################################################\n",
        "## Insert your code here to:\n",
        "##                perform PCA \n",
        "##                plot the eigenvalues\n",
        "################################################################### \n",
        "\n",
        "# score, evectors, evals = ...YOUR CODE HERE to perform PCA\n",
        "# plot_eigenvalues(evals)\n",
        "# YOUR CODE HERE to limit the x-axis for zooming"
      ],
      "execution_count": null,
      "outputs": []
    },
    {
      "cell_type": "code",
      "metadata": {
        "id": "HAM5vUWJBpiJ",
        "colab_type": "code",
        "colab": {}
      },
      "source": [
        "# to_remove solution\n",
        "score, evectors, evals = pca(X)\n",
        "\n",
        "with plt.xkcd():\n",
        "  plot_eigenvalues(evals)\n",
        "  plt.xlim([0,100])"
      ],
      "execution_count": null,
      "outputs": []
    },
    {
      "cell_type": "markdown",
      "metadata": {
        "colab_type": "text",
        "id": "ccOz9ePZPGMz"
      },
      "source": [
        "# Calculate the variance explained.\n",
        "The scree plot suggests that most of the eigenvalues are near zero, with fewer than 100 having large values. Another common way to determine the intrinsic dimensionality is by considering the   variance explained. This can be examined with a cumulative plot of the fraction of the total variance explained by the top $K$ components, i.e.:\n",
        "\\begin{equation}\n",
        "\\text{var explained} = \\frac{\\sum_{i=1}^K \\lambda_i}{\\sum_{i=1}^N \\lambda_i}\n",
        "\\end{equation}\n",
        "The intrinsic dimensionality is often quantified by the $K$ necessary to explain a large proportion of the total variance of the data (often a defined threshold, e.g., 90%).\n"
      ]
    },
    {
      "cell_type": "markdown",
      "metadata": {
        "id": "1W30pzQPIwZ0",
        "colab_type": "text"
      },
      "source": [
        "#### Exercise\n",
        "In this exercise you will plot the explained variance.\n",
        "\n",
        "**Suggestions**\n",
        "* Fill in the function below to calculate the fraction variance explained as a function of the number of principal componenets. **Hint:** use `np.cumsum`.\n",
        "* Plot the variance explained using `plot_variance_explained`.\n",
        "* How many principal components are required to explain 90% of the variance?\n",
        "* How does the intrinsic dimensionality of this dataset compare to its extrinsic dimensionality?\n"
      ]
    },
    {
      "cell_type": "code",
      "metadata": {
        "id": "XnQt-y4_WwVp",
        "colab_type": "code",
        "colab": {}
      },
      "source": [
        "help(plot_variance_explained)"
      ],
      "execution_count": null,
      "outputs": []
    },
    {
      "cell_type": "code",
      "metadata": {
        "id": "FEVRB7fCVcOR",
        "colab_type": "code",
        "colab": {}
      },
      "source": [
        "def get_variance_explained(evals):\n",
        "  \"\"\"\n",
        "  Calculates variance explained from the eigenvalues.\n",
        "  \n",
        "  Args:\n",
        "     evals (numpy array of floats) : Vector of eigenvalues\n",
        "     \n",
        "  Returns: \n",
        "    (numpy array of floats) : Vector of variance explained\n",
        "    \n",
        "  \"\"\"\n",
        "  ###################################################################\n",
        "  ## Insert your code here to:\n",
        "  ##                cumulatively sum the eigenvalues\n",
        "  ##                normalize by the sum of eigenvalues\n",
        "\n",
        "  #uncomment once you've filled in the function\n",
        "  raise NotImplementedError(\"Student excercise: calculate explaine variance!\")\n",
        "  ################################################################### \n",
        "  return variance_explained\n",
        "\n",
        "###################################################################\n",
        "## Insert your code here to:\n",
        "##                calculate and plot the variance explained \n",
        "################################################################### \n",
        "# variance_explained = ...\n",
        "# plot_variance_explained(variance_explained)"
      ],
      "execution_count": null,
      "outputs": []
    },
    {
      "cell_type": "code",
      "metadata": {
        "id": "7HhFNTajH55u",
        "colab_type": "code",
        "colab": {}
      },
      "source": [
        "# to_remove solution\n",
        "\n",
        "def get_variance_explained(evals):\n",
        "  \"\"\"\n",
        "  Plots eigenvalues.\n",
        "  \n",
        "  Args:\n",
        "     (numpy array of floats) : Vector of eigenvalues\n",
        "     \n",
        "  Returns: \n",
        "    Nothing.\n",
        "    \n",
        "  \"\"\"\n",
        "  return np.cumsum(evals)/np.sum(evals)\n",
        "  \n",
        "variance_explained = get_variance_explained(evals)\n",
        "\n",
        "with plt.xkcd():\n",
        "  plot_variance_explained(variance_explained)"
      ],
      "execution_count": null,
      "outputs": []
    },
    {
      "cell_type": "markdown",
      "metadata": {
        "id": "8lVO2rHv0kDi",
        "colab_type": "text"
      },
      "source": [
        "# Reconstruct data with different numbers of PCs.\n"
      ]
    },
    {
      "cell_type": "code",
      "metadata": {
        "id": "aIi0fq2d0Z60",
        "colab_type": "code",
        "cellView": "form",
        "colab": {}
      },
      "source": [
        "#@title Video: Geometric view of data\n",
        "from IPython.display import YouTubeVideo\n",
        "video = YouTubeVideo(id=\"A_a7_hMhjfc\", width=854, height=480, fs=1)\n",
        "print(\"Video available at https://youtube.com/watch?v=\" + video.id)\n",
        "video\n"
      ],
      "execution_count": null,
      "outputs": []
    },
    {
      "cell_type": "markdown",
      "metadata": {
        "colab_type": "text",
        "id": "dhA1ioJJlrtw"
      },
      "source": [
        "Now we have seen that the top 100 or so principal components of the data can explain most of the variance. We can use this fact to perform *dimensionality reduction*, i.e., by storing the data using only 100 components rather than the samples of all 784 pixels. Remarkably, we will be able to reconstruct much of the structure of the data using only the top 100 components. To see this, recall that to perform PCA we projected the data $\\bf X$ onto the eigenvectors of the covariance matrix:\n",
        "\\begin{equation}\n",
        "\\bf S = X W\n",
        "\\end{equation}\n",
        "Since $\\bf W$ is an orthogonal matrix, ${\\bf W}^{-1} = {\\bf W}^T$. So by multiplying by ${\\bf W}^T$ on each side we can rewrite this equation as  \n",
        "\\begin{equation}\n",
        "{\\bf X = S W}^T.\n",
        "\\end{equation}\n",
        "This now gives us a way to reconstruct the data matrix from the scores and loadings. To reconstruct the data from a low-dimensional approximation, we just have to truncate these matrices.  Let's call ${\\bf S}_{1:K}$ and ${\\bf W}_{1:K}$ as keeping only the first $K$ columns of this matrix. Then our reconstruction is:\n",
        "\\begin{equation}\n",
        "{\\bf \\hat X = S}_{1:K} ({\\bf W}_{1:K})^T.\n",
        "\\end{equation}\n",
        "\n",
        "#### Exercise\n",
        "Fill in the function below to reconstruct the data using different numbers of principal components. \n",
        "\n",
        "**Suggestions**\n",
        "* Fill in the following function to reconstruct the data based on the weights and scores. Don't forget to add the mean!\n",
        "* Make sure your function works by reconstructing the data with all $K=784$ components. They two images should look identical."
      ]
    },
    {
      "cell_type": "code",
      "metadata": {
        "id": "mozpTVpMniYw",
        "colab_type": "code",
        "colab": {}
      },
      "source": [
        "help(plot_MNIST_reconstruction)"
      ],
      "execution_count": null,
      "outputs": []
    },
    {
      "cell_type": "code",
      "metadata": {
        "id": "YS1c_mSLIdMu",
        "colab_type": "code",
        "colab": {}
      },
      "source": [
        "def reconstruct_data(score,evectors,X_mean,K):\n",
        "  \"\"\"\n",
        "  Reconstruct the data based on the top K components.\n",
        "  \n",
        "  Args:\n",
        "     score (numpy array of floats) : Score matrix\n",
        "     evectors (numpy array of floats) : Matrix of eigenvectors\n",
        "     X_mean (numpy array of floats) : Vector corresponding to data mean\n",
        "     K (scalar) : Number of components to include\n",
        "     \n",
        "  Returns: \n",
        "     (numpy array of floats) : Matrix of reconstructed data \n",
        "    \n",
        "  \"\"\"\n",
        "  ###################################################################\n",
        "  ## Insert your code here to:\n",
        "  ##                Reconstruct the data from the score and eigenvectors\n",
        "  ##                Don't forget to add the mean!!\n",
        "\n",
        "  #X_reconstructed =  Your code here \n",
        "  #uncomment once you've filled in the function\n",
        "  raise NotImplementedError(\"Student excercise: finish reconstructing data function!\")\n",
        "  ################################################################### \n",
        "  return X_reconstructed\n",
        "\n",
        "K = 784\n",
        "\n",
        "## Uncomment below to to:\n",
        "##                Reconstruct the data based on all components\n",
        "##                Plot the data and reconstruction\n",
        "# X_mean = ...\n",
        "# X_reconstructed = ...\n",
        "# plot_MNIST_reconstruction(X ,X_reconstructed)\n"
      ],
      "execution_count": null,
      "outputs": []
    },
    {
      "cell_type": "code",
      "metadata": {
        "id": "P5q8yvs6TJAA",
        "colab_type": "code",
        "colab": {}
      },
      "source": [
        "# to_remove solution\n",
        "\n",
        "def reconstruct_data(score,evectors,X_mean,K):\n",
        "  \"\"\"\n",
        "  Reconstruct the data based on the top K components.\n",
        "  \n",
        "  Args:\n",
        "     score (numpy array of floats) : Score matrix\n",
        "     evectors (numpy array of floats) : Matrix of eigenvectors\n",
        "     X_mean (numpy array of floats) : Vector corresponding to data mean\n",
        "     K (scalar) : Number of components to include\n",
        "     \n",
        "  Returns: \n",
        "     (numpy array of floats) : Matrix of reconstructed data \n",
        "    \n",
        "  \"\"\"\n",
        "  X_reconstructed = np.matmul(score[:,:K],evectors[:,:K].T) + X_mean\n",
        "  return X_reconstructed\n",
        "\n",
        "K = 784\n",
        "\n",
        "with plt.xkcd():\n",
        "  X_mean = np.mean(X,0) \n",
        "  X_reconstructed = reconstruct_data(score,evectors,X_mean,K)\n",
        "  plot_MNIST_reconstruction(X ,X_reconstructed)\n"
      ],
      "execution_count": null,
      "outputs": []
    },
    {
      "cell_type": "markdown",
      "metadata": {
        "id": "aHxJHV4BrRHi",
        "colab_type": "text"
      },
      "source": [
        "#### Exercise:\n",
        "Now run the code below and experiment with the slider to reconstruct the data matrix using different numbers of principal components.\n",
        "\n",
        "**Questions:**\n",
        "* How many principal components are necessary to reconstruct the numbers (by eye)? How does this relate to the intrinsic dimensionality of the data?\n",
        "* Do you see any information in the data with only a single principal component?"
      ]
    },
    {
      "cell_type": "code",
      "metadata": {
        "id": "_ZGFzhXqlvmM",
        "colab_type": "code",
        "colab": {}
      },
      "source": [
        "###### MAKE SURE TO RUN THIS CELL VIA THE PLAY BUTTON TO ENABLE SLIDERS ########\n",
        "\n",
        "import ipywidgets as widgets\n",
        "\n",
        "def refresh(K = 100):\n",
        "  X_reconstructed = reconstruct_data(score,evectors,X_mean,K)\n",
        "  plot_MNIST_reconstruction(X ,X_reconstructed)\n",
        "  plt.title('Reconstructed, K={}'.format(K))\n",
        "\n",
        "_ = widgets.interact(refresh, \n",
        "  K = (1, 784, 10))"
      ],
      "execution_count": null,
      "outputs": []
    },
    {
      "cell_type": "markdown",
      "metadata": {
        "id": "bnmqJqd3nue7",
        "colab_type": "text"
      },
      "source": [
        "#### Exercise:\n",
        "Next, let's take a closer look at the first principal component by visualizing its corresponding weights. \n",
        "\n",
        "**Questions**\n",
        "* Enter `plot_MNIST_weights` to visualize the weights of the first basis vector.\n",
        "* What structure do you see? Which pixels have a strong positive weighting? Which have a strong negative weighting? What kinds of images would this basis vector differentiate?\n",
        "* Try visualizing the second and third basis vectors. Do you see any structure? What about the 100th basis vector? 500th? 700th?"
      ]
    },
    {
      "cell_type": "code",
      "metadata": {
        "id": "ZghlYuowoaAn",
        "colab_type": "code",
        "colab": {}
      },
      "source": [
        "help(plot_MNIST_weights)"
      ],
      "execution_count": null,
      "outputs": []
    },
    {
      "cell_type": "code",
      "metadata": {
        "id": "W7BkraA4IDR9",
        "colab_type": "code",
        "colab": {}
      },
      "source": [
        "###################################################################\n",
        "## Insert your code here to:\n",
        "##                Plot the weights of the first principal component\n",
        "\n",
        "#plot_MNIST_weights(Your code here)\n",
        "################################################################### "
      ],
      "execution_count": null,
      "outputs": []
    },
    {
      "cell_type": "code",
      "metadata": {
        "id": "OPYX_kK9nvBn",
        "colab_type": "code",
        "colab": {}
      },
      "source": [
        "# to_remove solution\n",
        "with plt.xkcd():\n",
        "  plot_MNIST_weights(evectors[:,0])"
      ],
      "execution_count": null,
      "outputs": []
    },
    {
      "cell_type": "markdown",
      "metadata": {
        "colab_type": "text",
        "id": "4o207yNk0c-I"
      },
      "source": [
        "# (Optional Exploration): Examine denoising using PCA.\n",
        "   \n",
        "Finally, we will test how PCA can be used to denoise data. We will add salt-and-pepper noise to the original data and see how that affects the eigenvalues. To do this, we'll use the function `add_noise`, starting with adding noise to 20% of the pixels.\n",
        "The we'll Perform PCA and plot the variance explained. How many principal components are required to explain 90% of the variance? How does this compare to the original data?\n",
        "\n"
      ]
    },
    {
      "cell_type": "code",
      "metadata": {
        "id": "wVWrn-mn5m4w",
        "colab_type": "code",
        "colab": {}
      },
      "source": [
        "###################################################################\n",
        "## Here we:\n",
        "##                Add noise to the data\n",
        "##                Plot noise-corrupted data\n",
        "##                Perform PCA on the noisy data\n",
        "##                Calculate and plot the variance explained\n",
        "################################################################### \n",
        "X_noisy = add_noise(X,.2)\n",
        "score_noisy, evectors_noisy, evals_noisy = pca(X_noisy)\n",
        "variance_explained_noisy = get_variance_explained(evals_noisy)\n",
        "\n",
        "with plt.xkcd():\n",
        "  plot_MNIST_sample(X_noisy)\n",
        "  plot_variance_explained(variance_explained_noisy)"
      ],
      "execution_count": null,
      "outputs": []
    },
    {
      "cell_type": "markdown",
      "metadata": {
        "id": "wWojBrz2xbjC",
        "colab_type": "text"
      },
      "source": [
        "\n",
        "To denoise the data, we can simply project it onto the basis found with the original dataset (`evectors`, not `evectors_noisy`). Then, by taking the top K components of this projection, we have a guess for where the sample should lie in the K-dimensional latent space. We can then reconstruct the data as normal, using the top 50 components. You should play around with the amount of noise and K to build intuition.\n"
      ]
    },
    {
      "cell_type": "code",
      "metadata": {
        "id": "KB5QiPn-3Pag",
        "colab_type": "code",
        "colab": {}
      },
      "source": [
        "###################################################################\n",
        "## Here we:\n",
        "##                Subtract the mean of the noise-corrupted data\n",
        "##                Project onto the original basis vectors evectors\n",
        "##                Reconstruct the data using the top 50 components\n",
        "##                Plot the result\n",
        "################################################################### \n",
        "\n",
        "X_noisy_mean = np.mean(X_noisy,0)\n",
        "projX_noisy = np.matmul(X_noisy-X_noisy_mean,evectors)\n",
        "X_reconstructed = reconstruct_data(projX_noisy,evectors,X_noisy_mean,50)\n",
        "\n",
        "with plt.xkcd():\n",
        "  plot_MNIST_reconstruction(X_noisy,X_reconstructed)"
      ],
      "execution_count": null,
      "outputs": []
    }
  ]
}