{
  "cells": [
    {
      "cell_type": "markdown",
      "metadata": {
        "id": "view-in-github",
        "colab_type": "text"
      },
      "source": [
        "<a href=\"https://colab.research.google.com/github/NeuromatchAcademy/course-content/blob/fix-projects/projects/behavior/behavior_videos.ipynb\" target=\"_parent\"><img src=\"https://colab.research.google.com/assets/colab-badge.svg\" alt=\"Open In Colab\"/></a>"
      ]
    },
    {
      "cell_type": "markdown",
      "metadata": {
        "pycharm": {
          "name": "#%% md\n"
        },
        "id": "Mjww6H-Odb7L"
      },
      "source": [
        "# Overview videos\n",
        "\n"
      ]
    },
    {
      "cell_type": "markdown",
      "metadata": {
        "id": "_3SLgpIudb7Q"
      },
      "source": [
        "##  Video: IBL Behavior\n"
      ]
    },
    {
      "cell_type": "code",
      "execution_count": 1,
      "metadata": {
        "pycharm": {
          "name": "#%%\n"
        },
        "tags": [
          "remove-input"
        ],
        "cellView": "form",
        "id": "sL3stZj8db7R",
        "outputId": "b11ca278-fd89-47a5-c298-b6e5cb2f7d7f",
        "colab": {
          "base_uri": "https://localhost:8080/",
          "height": 512,
          "referenced_widgets": [
            "ef64230e84c3429397668ca4216dd496",
            "3124a4f393694dddaf711ce1f0ec3317",
            "766d5357e8dc4b819ada5be98d8bca46",
            "9a1d05a8858d418c8258c9f92503131b",
            "ba41168912bd4e83b2aefaa1a8c5d0c0",
            "af809f7e20dd43d7b008c3594c97dfd6"
          ]
        }
      },
      "outputs": [
        {
          "output_type": "display_data",
          "data": {
            "application/vnd.jupyter.widget-view+json": {
              "model_id": "ef64230e84c3429397668ca4216dd496",
              "version_minor": 0,
              "version_major": 2
            },
            "text/plain": [
              "Tab(children=(Output(), Output()), _titles={'0': 'Youtube', '1': 'Bilibili'})"
            ]
          },
          "metadata": {}
        }
      ],
      "source": [
        "# @markdown\n",
        "from ipywidgets import widgets\n",
        "\n",
        "out2 = widgets.Output()\n",
        "with out2:\n",
        "  from IPython.display import IFrame\n",
        "  class BiliVideo(IFrame):\n",
        "      def __init__(self, id, page=1, width=400, height=300, **kwargs):\n",
        "          self.id=id\n",
        "          src = 'https://player.bilibili.com/player.html?bvid={0}&page={1}'.format(id, page)\n",
        "          super(BiliVideo, self).__init__(src, width, height, **kwargs)\n",
        "\n",
        "  video = BiliVideo(id=\"\", width=730, height=410, fs=1)\n",
        "  print('Video available at https://www.bilibili.com/video/{0}'.format(video.id))\n",
        "  display(video)\n",
        "\n",
        "out1 = widgets.Output()\n",
        "with out1:\n",
        "  from IPython.display import YouTubeVideo\n",
        "  video = YouTubeVideo(id=\"NofrFH8FRZU\", width=730, height=410, fs=1, rel=0)\n",
        "  print('Video available at https://youtube.com/watch?v=' + video.id)\n",
        "  display(video)\n",
        "\n",
        "out = widgets.Tab([out1, out2])\n",
        "out.set_title(0, 'Youtube')\n",
        "out.set_title(1, 'Bilibili')\n",
        "\n",
        "display(out)"
      ]
    },
    {
      "cell_type": "markdown",
      "metadata": {
        "id": "rp5QLJFVdb7S"
      },
      "source": [
        "##  Video: Caltech Mouse Social Behavior\n"
      ]
    },
    {
      "cell_type": "code",
      "execution_count": 2,
      "metadata": {
        "pycharm": {
          "name": "#%%\n"
        },
        "tags": [
          "remove-input"
        ],
        "cellView": "form",
        "id": "0N4LyWtcdb7T",
        "outputId": "4fb362d7-ae2d-4c09-f031-b000370e0051",
        "colab": {
          "base_uri": "https://localhost:8080/",
          "height": 512,
          "referenced_widgets": [
            "cee38fa99bcd47bcba654d17eebbf4b5",
            "16a1eef2b55f44728176b80bd035c81c",
            "63402ac095ad46e8acded6351e67bb9a",
            "910a928cc05a4db5932ec8de85c3dcb7",
            "48400cecd4744af9b2348bbb31f9e0a7",
            "4d3d88ffb35041a08e0aaf072e920a03"
          ]
        }
      },
      "outputs": [
        {
          "output_type": "display_data",
          "data": {
            "application/vnd.jupyter.widget-view+json": {
              "model_id": "cee38fa99bcd47bcba654d17eebbf4b5",
              "version_minor": 0,
              "version_major": 2
            },
            "text/plain": [
              "Tab(children=(Output(), Output()), _titles={'0': 'Youtube', '1': 'Bilibili'})"
            ]
          },
          "metadata": {}
        }
      ],
      "source": [
        "# @markdown\n",
        "from ipywidgets import widgets\n",
        "\n",
        "out2 = widgets.Output()\n",
        "with out2:\n",
        "  from IPython.display import IFrame\n",
        "  class BiliVideo(IFrame):\n",
        "      def __init__(self, id, page=1, width=400, height=300, **kwargs):\n",
        "          self.id=id\n",
        "          src = 'https://player.bilibili.com/player.html?bvid={0}&page={1}'.format(id, page)\n",
        "          super(BiliVideo, self).__init__(src, width, height, **kwargs)\n",
        "\n",
        "  video = BiliVideo(id=\"BV1bv411J7Y2\", width=730, height=410, fs=1)\n",
        "  print('Video available at https://www.bilibili.com/video/{0}'.format(video.id))\n",
        "  display(video)\n",
        "\n",
        "out1 = widgets.Output()\n",
        "with out1:\n",
        "  from IPython.display import YouTubeVideo\n",
        "  video = YouTubeVideo(id=\"tDmhmasjPeM\", width=730, height=410, fs=1, rel=0)\n",
        "  print('Video available at https://youtube.com/watch?v=' + video.id)\n",
        "  display(video)\n",
        "\n",
        "out = widgets.Tab([out1, out2])\n",
        "out.set_title(0, 'Youtube')\n",
        "out.set_title(1, 'Bilibili')\n",
        "\n",
        "display(out)"
      ]
    }
  ],
  "metadata": {
    "kernelspec": {
      "display_name": "Python 3",
      "language": "python",
      "name": "python3"
    },
    "language_info": {
      "codemirror_mode": {
        "name": "ipython",
        "version": 3
      },
      "file_extension": ".py",
      "mimetype": "text/x-python",
      "name": "python",
      "nbconvert_exporter": "python",
      "pygments_lexer": "ipython3",
      "version": "3.8.5"
    },
    "colab": {
      "name": "behavior_videos.ipynb",
      "provenance": [],
      "toc_visible": true,
      "include_colab_link": true
    },
    "widgets": {
      "application/vnd.jupyter.widget-state+json": {
        "ef64230e84c3429397668ca4216dd496": {
          "model_module": "@jupyter-widgets/controls",
          "model_name": "TabModel",
          "model_module_version": "1.5.0",
          "state": {
            "_view_name": "TabView",
            "_dom_classes": [],
            "_titles": {
              "0": "Youtube",
              "1": "Bilibili"
            },
            "_model_name": "TabModel",
            "_view_module": "@jupyter-widgets/controls",
            "selected_index": 0,
            "_model_module_version": "1.5.0",
            "_view_count": null,
            "_view_module_version": "1.5.0",
            "box_style": "",
            "layout": "IPY_MODEL_3124a4f393694dddaf711ce1f0ec3317",
            "_model_module": "@jupyter-widgets/controls",
            "children": [
              "IPY_MODEL_766d5357e8dc4b819ada5be98d8bca46",
              "IPY_MODEL_9a1d05a8858d418c8258c9f92503131b"
            ]
          }
        },
        "3124a4f393694dddaf711ce1f0ec3317": {
          "model_module": "@jupyter-widgets/base",
          "model_name": "LayoutModel",
          "model_module_version": "1.2.0",
          "state": {
            "_view_name": "LayoutView",
            "grid_template_rows": null,
            "right": null,
            "justify_content": null,
            "_view_module": "@jupyter-widgets/base",
            "overflow": null,
            "_model_module_version": "1.2.0",
            "_view_count": null,
            "flex_flow": null,
            "width": null,
            "min_width": null,
            "border": null,
            "align_items": null,
            "bottom": null,
            "_model_module": "@jupyter-widgets/base",
            "top": null,
            "grid_column": null,
            "overflow_y": null,
            "overflow_x": null,
            "grid_auto_flow": null,
            "grid_area": null,
            "grid_template_columns": null,
            "flex": null,
            "_model_name": "LayoutModel",
            "justify_items": null,
            "grid_row": null,
            "max_height": null,
            "align_content": null,
            "visibility": null,
            "align_self": null,
            "height": null,
            "min_height": null,
            "padding": null,
            "grid_auto_rows": null,
            "grid_gap": null,
            "max_width": null,
            "order": null,
            "_view_module_version": "1.2.0",
            "grid_template_areas": null,
            "object_position": null,
            "object_fit": null,
            "grid_auto_columns": null,
            "margin": null,
            "display": null,
            "left": null
          }
        },
        "766d5357e8dc4b819ada5be98d8bca46": {
          "model_module": "@jupyter-widgets/output",
          "model_name": "OutputModel",
          "model_module_version": "1.0.0",
          "state": {
            "_view_name": "OutputView",
            "msg_id": "",
            "_dom_classes": [],
            "_model_name": "OutputModel",
            "outputs": [
              {
                "output_type": "stream",
                "name": "stdout",
                "text": [
                  "Video available at https://youtube.com/watch?v=NofrFH8FRZU\n"
                ]
              },
              {
                "output_type": "display_data",
                "data": {
                  "text/html": "\n        <iframe\n            width=\"730\"\n            height=\"410\"\n            src=\"https://www.youtube.com/embed/NofrFH8FRZU?fs=1&rel=0\"\n            frameborder=\"0\"\n            allowfullscreen\n        ></iframe>\n        ",
                  "text/plain": "<IPython.lib.display.YouTubeVideo at 0x7f5fba308c50>",
                  "image/jpeg": "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\n"
                },
                "metadata": {}
              }
            ],
            "_view_module": "@jupyter-widgets/output",
            "_model_module_version": "1.0.0",
            "_view_count": null,
            "_view_module_version": "1.0.0",
            "layout": "IPY_MODEL_ba41168912bd4e83b2aefaa1a8c5d0c0",
            "_model_module": "@jupyter-widgets/output"
          }
        },
        "9a1d05a8858d418c8258c9f92503131b": {
          "model_module": "@jupyter-widgets/output",
          "model_name": "OutputModel",
          "model_module_version": "1.0.0",
          "state": {
            "_view_name": "OutputView",
            "msg_id": "",
            "_dom_classes": [],
            "_model_name": "OutputModel",
            "outputs": [
              {
                "output_type": "stream",
                "name": "stdout",
                "text": [
                  "Video available at https://www.bilibili.com/video/\n"
                ]
              },
              {
                "output_type": "display_data",
                "data": {
                  "text/html": "\n        <iframe\n            width=\"730\"\n            height=\"410\"\n            src=\"https://player.bilibili.com/player.html?bvid=&page=1?fs=1\"\n            frameborder=\"0\"\n            allowfullscreen\n        ></iframe>\n        ",
                  "text/plain": "<__main__.BiliVideo at 0x7f5fbb96ea50>"
                },
                "metadata": {}
              }
            ],
            "_view_module": "@jupyter-widgets/output",
            "_model_module_version": "1.0.0",
            "_view_count": null,
            "_view_module_version": "1.0.0",
            "layout": "IPY_MODEL_af809f7e20dd43d7b008c3594c97dfd6",
            "_model_module": "@jupyter-widgets/output"
          }
        },
        "ba41168912bd4e83b2aefaa1a8c5d0c0": {
          "model_module": "@jupyter-widgets/base",
          "model_name": "LayoutModel",
          "model_module_version": "1.2.0",
          "state": {
            "_view_name": "LayoutView",
            "grid_template_rows": null,
            "right": null,
            "justify_content": null,
            "_view_module": "@jupyter-widgets/base",
            "overflow": null,
            "_model_module_version": "1.2.0",
            "_view_count": null,
            "flex_flow": null,
            "width": null,
            "min_width": null,
            "border": null,
            "align_items": null,
            "bottom": null,
            "_model_module": "@jupyter-widgets/base",
            "top": null,
            "grid_column": null,
            "overflow_y": null,
            "overflow_x": null,
            "grid_auto_flow": null,
            "grid_area": null,
            "grid_template_columns": null,
            "flex": null,
            "_model_name": "LayoutModel",
            "justify_items": null,
            "grid_row": null,
            "max_height": null,
            "align_content": null,
            "visibility": null,
            "align_self": null,
            "height": null,
            "min_height": null,
            "padding": null,
            "grid_auto_rows": null,
            "grid_gap": null,
            "max_width": null,
            "order": null,
            "_view_module_version": "1.2.0",
            "grid_template_areas": null,
            "object_position": null,
            "object_fit": null,
            "grid_auto_columns": null,
            "margin": null,
            "display": null,
            "left": null
          }
        },
        "af809f7e20dd43d7b008c3594c97dfd6": {
          "model_module": "@jupyter-widgets/base",
          "model_name": "LayoutModel",
          "model_module_version": "1.2.0",
          "state": {
            "_view_name": "LayoutView",
            "grid_template_rows": null,
            "right": null,
            "justify_content": null,
            "_view_module": "@jupyter-widgets/base",
            "overflow": null,
            "_model_module_version": "1.2.0",
            "_view_count": null,
            "flex_flow": null,
            "width": null,
            "min_width": null,
            "border": null,
            "align_items": null,
            "bottom": null,
            "_model_module": "@jupyter-widgets/base",
            "top": null,
            "grid_column": null,
            "overflow_y": null,
            "overflow_x": null,
            "grid_auto_flow": null,
            "grid_area": null,
            "grid_template_columns": null,
            "flex": null,
            "_model_name": "LayoutModel",
            "justify_items": null,
            "grid_row": null,
            "max_height": null,
            "align_content": null,
            "visibility": null,
            "align_self": null,
            "height": null,
            "min_height": null,
            "padding": null,
            "grid_auto_rows": null,
            "grid_gap": null,
            "max_width": null,
            "order": null,
            "_view_module_version": "1.2.0",
            "grid_template_areas": null,
            "object_position": null,
            "object_fit": null,
            "grid_auto_columns": null,
            "margin": null,
            "display": null,
            "left": null
          }
        },
        "cee38fa99bcd47bcba654d17eebbf4b5": {
          "model_module": "@jupyter-widgets/controls",
          "model_name": "TabModel",
          "model_module_version": "1.5.0",
          "state": {
            "_view_name": "TabView",
            "_dom_classes": [],
            "_titles": {
              "0": "Youtube",
              "1": "Bilibili"
            },
            "_model_name": "TabModel",
            "_view_module": "@jupyter-widgets/controls",
            "selected_index": 0,
            "_model_module_version": "1.5.0",
            "_view_count": null,
            "_view_module_version": "1.5.0",
            "box_style": "",
            "layout": "IPY_MODEL_16a1eef2b55f44728176b80bd035c81c",
            "_model_module": "@jupyter-widgets/controls",
            "children": [
              "IPY_MODEL_63402ac095ad46e8acded6351e67bb9a",
              "IPY_MODEL_910a928cc05a4db5932ec8de85c3dcb7"
            ]
          }
        },
        "16a1eef2b55f44728176b80bd035c81c": {
          "model_module": "@jupyter-widgets/base",
          "model_name": "LayoutModel",
          "model_module_version": "1.2.0",
          "state": {
            "_view_name": "LayoutView",
            "grid_template_rows": null,
            "right": null,
            "justify_content": null,
            "_view_module": "@jupyter-widgets/base",
            "overflow": null,
            "_model_module_version": "1.2.0",
            "_view_count": null,
            "flex_flow": null,
            "width": null,
            "min_width": null,
            "border": null,
            "align_items": null,
            "bottom": null,
            "_model_module": "@jupyter-widgets/base",
            "top": null,
            "grid_column": null,
            "overflow_y": null,
            "overflow_x": null,
            "grid_auto_flow": null,
            "grid_area": null,
            "grid_template_columns": null,
            "flex": null,
            "_model_name": "LayoutModel",
            "justify_items": null,
            "grid_row": null,
            "max_height": null,
            "align_content": null,
            "visibility": null,
            "align_self": null,
            "height": null,
            "min_height": null,
            "padding": null,
            "grid_auto_rows": null,
            "grid_gap": null,
            "max_width": null,
            "order": null,
            "_view_module_version": "1.2.0",
            "grid_template_areas": null,
            "object_position": null,
            "object_fit": null,
            "grid_auto_columns": null,
            "margin": null,
            "display": null,
            "left": null
          }
        },
        "63402ac095ad46e8acded6351e67bb9a": {
          "model_module": "@jupyter-widgets/output",
          "model_name": "OutputModel",
          "model_module_version": "1.0.0",
          "state": {
            "_view_name": "OutputView",
            "msg_id": "",
            "_dom_classes": [],
            "_model_name": "OutputModel",
            "outputs": [
              {
                "output_type": "stream",
                "name": "stdout",
                "text": [
                  "Video available at https://youtube.com/watch?v=tDmhmasjPeM\n"
                ]
              },
              {
                "output_type": "display_data",
                "data": {
                  "text/html": "\n        <iframe\n            width=\"730\"\n            height=\"410\"\n            src=\"https://www.youtube.com/embed/tDmhmasjPeM?fs=1&rel=0\"\n            frameborder=\"0\"\n            allowfullscreen\n        ></iframe>\n        ",
                  "text/plain": "<IPython.lib.display.YouTubeVideo at 0x7f5fbcb7bcd0>",
                  "image/jpeg": "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\n"
                },
                "metadata": {}
              }
            ],
            "_view_module": "@jupyter-widgets/output",
            "_model_module_version": "1.0.0",
            "_view_count": null,
            "_view_module_version": "1.0.0",
            "layout": "IPY_MODEL_48400cecd4744af9b2348bbb31f9e0a7",
            "_model_module": "@jupyter-widgets/output"
          }
        },
        "910a928cc05a4db5932ec8de85c3dcb7": {
          "model_module": "@jupyter-widgets/output",
          "model_name": "OutputModel",
          "model_module_version": "1.0.0",
          "state": {
            "_view_name": "OutputView",
            "msg_id": "",
            "_dom_classes": [],
            "_model_name": "OutputModel",
            "outputs": [
              {
                "output_type": "stream",
                "name": "stdout",
                "text": [
                  "Video available at https://www.bilibili.com/video/BV1bv411J7Y2\n"
                ]
              },
              {
                "output_type": "display_data",
                "data": {
                  "text/html": "\n        <iframe\n            width=\"730\"\n            height=\"410\"\n            src=\"https://player.bilibili.com/player.html?bvid=BV1bv411J7Y2&page=1?fs=1\"\n            frameborder=\"0\"\n            allowfullscreen\n        ></iframe>\n        ",
                  "text/plain": "<__main__.BiliVideo at 0x7f5fba304d90>"
                },
                "metadata": {}
              }
            ],
            "_view_module": "@jupyter-widgets/output",
            "_model_module_version": "1.0.0",
            "_view_count": null,
            "_view_module_version": "1.0.0",
            "layout": "IPY_MODEL_4d3d88ffb35041a08e0aaf072e920a03",
            "_model_module": "@jupyter-widgets/output"
          }
        },
        "48400cecd4744af9b2348bbb31f9e0a7": {
          "model_module": "@jupyter-widgets/base",
          "model_name": "LayoutModel",
          "model_module_version": "1.2.0",
          "state": {
            "_view_name": "LayoutView",
            "grid_template_rows": null,
            "right": null,
            "justify_content": null,
            "_view_module": "@jupyter-widgets/base",
            "overflow": null,
            "_model_module_version": "1.2.0",
            "_view_count": null,
            "flex_flow": null,
            "width": null,
            "min_width": null,
            "border": null,
            "align_items": null,
            "bottom": null,
            "_model_module": "@jupyter-widgets/base",
            "top": null,
            "grid_column": null,
            "overflow_y": null,
            "overflow_x": null,
            "grid_auto_flow": null,
            "grid_area": null,
            "grid_template_columns": null,
            "flex": null,
            "_model_name": "LayoutModel",
            "justify_items": null,
            "grid_row": null,
            "max_height": null,
            "align_content": null,
            "visibility": null,
            "align_self": null,
            "height": null,
            "min_height": null,
            "padding": null,
            "grid_auto_rows": null,
            "grid_gap": null,
            "max_width": null,
            "order": null,
            "_view_module_version": "1.2.0",
            "grid_template_areas": null,
            "object_position": null,
            "object_fit": null,
            "grid_auto_columns": null,
            "margin": null,
            "display": null,
            "left": null
          }
        },
        "4d3d88ffb35041a08e0aaf072e920a03": {
          "model_module": "@jupyter-widgets/base",
          "model_name": "LayoutModel",
          "model_module_version": "1.2.0",
          "state": {
            "_view_name": "LayoutView",
            "grid_template_rows": null,
            "right": null,
            "justify_content": null,
            "_view_module": "@jupyter-widgets/base",
            "overflow": null,
            "_model_module_version": "1.2.0",
            "_view_count": null,
            "flex_flow": null,
            "width": null,
            "min_width": null,
            "border": null,
            "align_items": null,
            "bottom": null,
            "_model_module": "@jupyter-widgets/base",
            "top": null,
            "grid_column": null,
            "overflow_y": null,
            "overflow_x": null,
            "grid_auto_flow": null,
            "grid_area": null,
            "grid_template_columns": null,
            "flex": null,
            "_model_name": "LayoutModel",
            "justify_items": null,
            "grid_row": null,
            "max_height": null,
            "align_content": null,
            "visibility": null,
            "align_self": null,
            "height": null,
            "min_height": null,
            "padding": null,
            "grid_auto_rows": null,
            "grid_gap": null,
            "max_width": null,
            "order": null,
            "_view_module_version": "1.2.0",
            "grid_template_areas": null,
            "object_position": null,
            "object_fit": null,
            "grid_auto_columns": null,
            "margin": null,
            "display": null,
            "left": null
          }
        }
      }
    }
  },
  "nbformat": 4,
  "nbformat_minor": 0
}