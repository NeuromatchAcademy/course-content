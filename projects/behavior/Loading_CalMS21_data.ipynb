{
  "nbformat": 4,
  "nbformat_minor": 0,
  "metadata": {
    "colab": {
      "name": "Loading CalMS21 data",
      "provenance": [],
      "collapsed_sections": [
        "jsaWsU8dILfN",
        "YFcS9p3haBkK"
      ],
      "toc_visible": true
    },
    "kernelspec": {
      "name": "python3",
      "display_name": "Python 3"
    }
  },
  "cells": [
    {
      "cell_type": "markdown",
      "metadata": {
        "id": "f4w4yZOfV5le"
      },
      "source": [
        "<h1>\n",
        "Behavior classification starter kit 🐁🐀\n",
        "</h1>\n",
        "This code is adapted from a notebook created by Dipam Chakraborty at AIcrowd for the <a href=https://www.aicrowd.com/challenges/multi-agent-behavior-representation-modeling-measurement-and-applications>Multi-Agent Behavior Challenge</a>.\n"
      ]
    },
    {
      "cell_type": "markdown",
      "metadata": {
        "id": "jsaWsU8dILfN"
      },
      "source": [
        "# Import necessary modules and packages 📚\n"
      ]
    },
    {
      "cell_type": "code",
      "metadata": {
        "id": "G4CVVoCjIN95"
      },
      "source": [
        "import pandas as pd\n",
        "import numpy as np\n",
        "import os\n",
        "import json\n",
        "import urllib.request"
      ],
      "execution_count": null,
      "outputs": []
    },
    {
      "cell_type": "markdown",
      "metadata": {
        "id": "KwykJ9kzvTRZ"
      },
      "source": [
        "# Download the dataset 📲\n",
        "\n",
        "> Indented block\n",
        "\n",
        "\n",
        "\n",
        "The CalMS21 dataset is hosted by Caltech at https://data.caltech.edu/records/1991. For now, we'll focus on the Task 1 data, which can be downloaded as follows:"
      ]
    },
    {
      "cell_type": "code",
      "metadata": {
        "id": "eua-L3A_okrf"
      },
      "source": [
        "urllib.request.urlretrieve('https://data.caltech.edu/tindfiles/serve/a86f4297-a087-4f40-9ed4-765779105c2c/', 'task1.zip')\n",
        "urllib.request.urlretrieve('https://data.caltech.edu/tindfiles/serve/ca84a583-ea06-440a-995c-c184bcb0291c/', 'calms21_convert_to_npy.py')\n",
        "!unzip task1.zip"
      ],
      "execution_count": null,
      "outputs": []
    },
    {
      "cell_type": "markdown",
      "metadata": {
        "id": "7MLxouZUvTRa"
      },
      "source": [
        "The dataset files are stored as json files. For ease of handling, we'll first convert them to .npy files using the script we just downloaded, `calms21_convert_to_npy.py`. The output of this script is a pair of files, `calms21_task1_train.npy` and `calms21_task1_test.npy`.\n",
        "\n",
        "If you include the optional `parse_treba` flag, the script will create files `calms21_task1_train_features.npy` and `calms21_task1_test_features.npy`, which contain 32 features created using <a href=https://openaccess.thecvf.com/content/CVPR2021/html/Sun_Task_Programming_Learning_Data_Efficient_Behavior_Representations_CVPR_2021_paper.html>Task Programming</a>.\n",
        "\n"
      ]
    },
    {
      "cell_type": "code",
      "metadata": {
        "id": "IezJP7janpBy"
      },
      "source": [
        "!python calms21_convert_to_npy.py  --input_directory '.' --output_directory '.'\n",
        "!python calms21_convert_to_npy.py  --input_directory '.' --output_directory '.' --parse_treba"
      ],
      "execution_count": null,
      "outputs": []
    },
    {
      "cell_type": "markdown",
      "metadata": {
        "id": "CjooSFrVoIxz"
      },
      "source": [
        "#Load the data 💾\n",
        "The following loader function can be used to unpack the `.npy` files containing your train and test sets."
      ]
    },
    {
      "cell_type": "code",
      "metadata": {
        "id": "RopVoFl1vTRb"
      },
      "source": [
        "import numpy as np\n",
        "\n",
        "def load_task1_data(data_path):\n",
        "    \"\"\" \n",
        "    Load data for task 1:\n",
        "        The vocaubulary tells you how to map behavior names to class ids;\n",
        "        it is the same for all sequences in this dataset.\n",
        "    \"\"\"\n",
        "    data_dict = np.load(data_path, allow_pickle=True).item()\n",
        "    dataset = data_dict['annotator-id_0']\n",
        "    # Get any sequence key.\n",
        "    sequence_id = list(data_dict['annotator-id_0'].keys())[0]\n",
        "    vocabulary = data_dict['annotator-id_0'][sequence_id]['metadata']['vocab']\n",
        "    return dataset, vocabulary\n"
      ],
      "execution_count": null,
      "outputs": []
    },
    {
      "cell_type": "code",
      "metadata": {
        "id": "UB5RakCHomqC"
      },
      "source": [
        "training_data, vocab = load_task1_data('./calms21_task1_train.npy')\n",
        "test_data, _ = load_task1_data('./calms21_task1_test.npy')"
      ],
      "execution_count": null,
      "outputs": []
    },
    {
      "cell_type": "markdown",
      "metadata": {
        "id": "YFcS9p3haBkK"
      },
      "source": [
        "## Dataset Specifications\n",
        "\n",
        "`training_data` and `test_data` are both dictionaries with a key for each Sequence in the dataset, where a Sequence is a single resident-intruder assay. Each Sequence contains the following fields:\n",
        "\n",
        "<ul>\n",
        "<li><b>keypoints</b>: tracked locations of body parts on the two interacting mice. These are produced using a Stacked Hourglass network trained on 15,000 hand-labeled frames.\n",
        "<ul>\n",
        "<li>Dimensions: (# frames) x (mouse ID) x (x, y coordinate) x (body part).\n",
        "<li>Units: pixels; coordinates are relative to the entire image. Original image dimensions are 1024 x 570.\n",
        "</ul>\n",
        "<li><b>scores</b>: confidence estimates for the tracked keypoints.\n",
        "<ul>\n",
        "<li>Dimensions: (# frames) x (mouse ID) x (body part).\n",
        "<li>Units: unitless, range 0 (lowest confidence) to 1 (highest confidence).\n",
        "</ul>\n",
        "<li> <b>annotations</b>: behaviors id as an integer annotated at each frame by a domain expert. See below for the behavior id to behavior name mappings.\n",
        "<ul>\n",
        "<li>Dimensions: (# frames) .\n",
        "</ul>\n",
        "<li><b>metadata</b>: The recorded metadata is annotator_id which is represented by an int, and the vocab, containing a dictionary which maps behavior names to integer ids in annotations.\n",
        "</ul>\n",
        "\n",
        "The 'taskprog_features' file contains the additional field:\n",
        "\n",
        "<ul>\n",
        "<li><b>features</b>: pre-computed features from a model trained with task programming on the trajectory data of the CalMS21 unlabeled videos set.\n",
        "<ul>\n",
        "<li>Dimensions: (# frames) x (feature dim = 32).\n",
        "</li>\n",
        "</ul>\n",
        "</ul>\n",
        "\n",
        "<b>NOTE:</b> for all keypoints, mouse 0 is the resident (black) mouse and mouse 1 is the intruder (white) mouse. There are 7 tracked body parts, ordered (nose, left ear, right ear, neck, left hip, right hip, tail base)."
      ]
    },
    {
      "cell_type": "markdown",
      "metadata": {
        "id": "JUkb35tcf4bn"
      },
      "source": [
        "## What does the data look like? 🔍\n",
        "\n",
        "### Data overview\n",
        "\n",
        "As described above, our dataset consists of train and test sets, which are both dictionaries of Sequences, and an accompanying vocabulary telling us which behavior is which:"
      ]
    },
    {
      "cell_type": "code",
      "metadata": {
        "id": "CYIC5DW_oRPb"
      },
      "source": [
        "print(\"Sample dataset keys: \", list(training_data.keys())[:3])\n",
        "print(\"Vocabulary: \", vocab)\n",
        "print(\"Number of train Sequences: \", len(training_data))\n",
        "print(\"Number of test Sequences: \", len(test_data))"
      ],
      "execution_count": null,
      "outputs": []
    },
    {
      "cell_type": "markdown",
      "metadata": {
        "id": "luUly4Y1i4L-"
      },
      "source": [
        "### Sample overview\n",
        "Next let's take a look at one example Sequence:"
      ]
    },
    {
      "cell_type": "code",
      "metadata": {
        "id": "Hh9dj4wG3rV0"
      },
      "source": [
        "sequence_names = list(training_data.keys())\n",
        "sample_sequence_key = sequence_names[0]\n",
        "single_sequence = training_data[sample_sequence_key]\n",
        "print(\"Name of our sample sequence: \", sample_sequence_key)\n",
        "print(\"Sequence keys: \", single_sequence.keys())\n",
        "print(\"Sequence metadata: \", single_sequence['metadata'])\n",
        "print(f\"Number of Frames in Sequence \\\"{sample_sequence_key}\\\": \", len(single_sequence['annotations']))\n",
        "print(f\"Keypoints data shape of Sequence \\\"{sample_sequence_key}\\\": \", single_sequence['keypoints'].shape)\n"
      ],
      "execution_count": null,
      "outputs": []
    },
    {
      "cell_type": "markdown",
      "metadata": {
        "id": "_WGK1pjV81oc"
      },
      "source": [
        "# Helper functions for visualization 💁\n",
        "\n",
        "\n",
        "This cell contains some helper functions that we'll use to create an animation of the mouse movements. You can ignore the contents, but be sure to run it or the next section won't work."
      ]
    },
    {
      "cell_type": "code",
      "metadata": {
        "id": "kf7CXiH85odZ"
      },
      "source": [
        "import matplotlib.pyplot as plt\n",
        "from matplotlib import animation\n",
        "from matplotlib import colors\n",
        "from matplotlib import rc\n",
        " \n",
        "rc('animation', html='jshtml')\n",
        " \n",
        "# Note: Image processing may be slow if too many frames are animated.                \n",
        " \n",
        "#Plotting constants\n",
        "FRAME_WIDTH_TOP = 1024\n",
        "FRAME_HEIGHT_TOP = 570\n",
        " \n",
        "RESIDENT_COLOR = 'lawngreen'\n",
        "INTRUDER_COLOR = 'skyblue'\n",
        " \n",
        "PLOT_MOUSE_START_END = [(0, 1), (0, 2), (1, 3), (2, 3), (3, 4),\n",
        "                        (3, 5), (4, 6), (5, 6), (1, 2)]\n",
        " \n",
        "class_to_color = {'other': 'white', 'attack' : 'red', 'mount' : 'green',\n",
        "                  'investigation': 'orange'}\n",
        " \n",
        "class_to_number = {s: i for i, s in enumerate(vocab)}\n",
        " \n",
        "number_to_class = {i: s for i, s in enumerate(vocab)}\n",
        " \n",
        "def num_to_text(anno_list):\n",
        "  return np.vectorize(number_to_class.get)(anno_list)\n",
        " \n",
        "def set_figax():\n",
        "    fig = plt.figure(figsize=(6, 4))\n",
        " \n",
        "    img = np.zeros((FRAME_HEIGHT_TOP, FRAME_WIDTH_TOP, 3))\n",
        " \n",
        "    ax = fig.add_subplot(111)\n",
        "    ax.imshow(img)\n",
        " \n",
        "    ax.get_xaxis().set_visible(False)\n",
        "    ax.get_yaxis().set_visible(False)\n",
        " \n",
        "    return fig, ax\n",
        " \n",
        "def plot_mouse(ax, pose, color):\n",
        "    # Draw each keypoint\n",
        "    for j in range(7):\n",
        "        ax.plot(pose[j, 0], pose[j, 1], 'o', color=color, markersize=5)\n",
        " \n",
        "    # Draw a line for each point pair to form the shape of the mouse\n",
        " \n",
        "    for pair in PLOT_MOUSE_START_END:\n",
        "        line_to_plot = pose[pair, :]\n",
        "        ax.plot(line_to_plot[:, 0], line_to_plot[\n",
        "                :, 1], color=color, linewidth=1)\n",
        " \n",
        "def animate_pose_sequence(video_name, keypoint_sequence, start_frame = 0, stop_frame = 100, \n",
        "                          annotation_sequence = None):\n",
        "    # Returns the animation of the keypoint sequence between start frame\n",
        "    # and stop frame. Optionally can display annotations.\n",
        "    seq = keypoint_sequence.transpose((0,1,3,2))\n",
        " \n",
        "    image_list = []\n",
        "    \n",
        "    counter = 0\n",
        "    for j in range(start_frame, stop_frame):\n",
        "        if counter%20 == 0:\n",
        "          print(\"Processing frame \", j)\n",
        "        fig, ax = set_figax()\n",
        "        plot_mouse(ax, seq[j, 0, :, :], color=RESIDENT_COLOR)\n",
        "        plot_mouse(ax, seq[j, 1, :, :], color=INTRUDER_COLOR)\n",
        "        \n",
        "        if annotation_sequence is not None:\n",
        "          annot = annotation_sequence[j]\n",
        "          annot = number_to_class[annot]\n",
        "          plt.text(50, -20, annot, fontsize = 16, \n",
        "                   bbox=dict(facecolor=class_to_color[annot], alpha=0.5))\n",
        " \n",
        "        ax.set_title(\n",
        "            video_name + '\\n frame {:03d}.png'.format(j))\n",
        " \n",
        "        ax.axis('off')\n",
        "        fig.tight_layout(pad=0)\n",
        "        ax.margins(0)\n",
        " \n",
        "        fig.canvas.draw()\n",
        "        image_from_plot = np.frombuffer(fig.canvas.tostring_rgb(),\n",
        "                                        dtype=np.uint8)\n",
        "        image_from_plot = image_from_plot.reshape(\n",
        "            fig.canvas.get_width_height()[::-1] + (3,)) \n",
        " \n",
        "        image_list.append(image_from_plot)\n",
        " \n",
        "        plt.close()\n",
        "        counter = counter + 1\n",
        " \n",
        "    # Plot animation.\n",
        "    fig = plt.figure()\n",
        "    plt.axis('off')\n",
        "    im = plt.imshow(image_list[0])\n",
        " \n",
        "    def animate(k):\n",
        "        im.set_array(image_list[k])\n",
        "        return im,\n",
        "    ani = animation.FuncAnimation(fig, animate, frames=len(image_list), blit=True)\n",
        "    return ani\n",
        " \n",
        "def plot_behavior_raster(annotation_sequence, start_frame = 0, stop_frame = 100, title=\"Behavior Labels\"):\n",
        "  # Plot annotations as a behavior raster\n",
        " \n",
        "  # Map annotations to a number.\n",
        "  annotation_num = []\n",
        "  for item in annotation_sequence[start_frame:stop_frame]:\n",
        "    annotation_num.append(class_to_number[item])\n",
        " \n",
        "  all_classes = list(set(annotation_sequence[start_frame:stop_frame]))\n",
        " \n",
        "  cmap = colors.ListedColormap(['red', 'orange', 'green', 'white'])\n",
        "  bounds=[-0.5,0.5,1.5, 2.5, 3.5]\n",
        "  norm = colors.BoundaryNorm(bounds, cmap.N)\n",
        " \n",
        "  height = 200\n",
        "  arr_to_plot = np.repeat(np.array(annotation_num)[:,np.newaxis].transpose(),\n",
        "                                                  height, axis = 0)\n",
        "  \n",
        "  fig, ax = plt.subplots(figsize = (16, 3))\n",
        "  ax.imshow(arr_to_plot, interpolation = 'none',cmap=cmap, norm=norm)\n",
        " \n",
        "  ax.set_yticks([])\n",
        "  ax.set_xlabel('Frame Number')\n",
        "  plt.title(title)\n",
        " \n",
        "  import matplotlib.patches as mpatches\n",
        " \n",
        "  legend_patches = []\n",
        "  for item in all_classes:\n",
        "    legend_patches.append(mpatches.Patch(color=class_to_color[item], label=item))\n",
        " \n",
        "  plt.legend(handles=legend_patches,loc='center left', bbox_to_anchor=(1, 0.5))\n",
        " \n",
        "  plt.tight_layout()"
      ],
      "execution_count": null,
      "outputs": []
    },
    {
      "cell_type": "markdown",
      "metadata": {
        "id": "p7WPezuV86QA"
      },
      "source": [
        "# Visualize the animals' movements 🎥\n",
        "\n",
        "Let's make some gifs of our sample sequence to get a sense of what the raw data looks like! You can change the values of `start_frame` and `stop_frame` to look around."
      ]
    },
    {
      "cell_type": "code",
      "metadata": {
        "id": "KSUZW-9J53kI"
      },
      "source": [
        "#@title\n",
        "keypoint_sequence = single_sequence['keypoints']\n",
        "annotation_sequence = single_sequence['annotations']\n",
        "\n",
        "ani = animate_pose_sequence(sample_sequence_key,\n",
        "                            keypoint_sequence, \n",
        "                            start_frame = 5000,\n",
        "                            stop_frame = 5100,\n",
        "                            annotation_sequence = annotation_sequence)\n",
        "\n",
        "# Display the animaion on colab\n",
        "ani"
      ],
      "execution_count": null,
      "outputs": []
    },
    {
      "cell_type": "markdown",
      "metadata": {
        "id": "_jhj4BtOkjM5"
      },
      "source": [
        "### We can also look at a **behavior raster**, which shows what behavior was annotated on each frame of this video."
      ]
    },
    {
      "cell_type": "code",
      "metadata": {
        "id": "1u28cZOL8G29"
      },
      "source": [
        "annotation_sequence = single_sequence['annotations']\n",
        "text_sequence = num_to_text(annotation_sequence)\n",
        " \n",
        "plot_behavior_raster(\n",
        "    text_sequence,\n",
        "    start_frame=0,\n",
        "    stop_frame=len(annotation_sequence)\n",
        ")"
      ],
      "execution_count": null,
      "outputs": []
    },
    {
      "cell_type": "markdown",
      "metadata": {
        "id": "rOs2KLHe9Ip1"
      },
      "source": [
        "# Basic exploratory data analysis 🤓\n",
        "Each Sequence has different amounts of each behavior, depending on what the mice do during the assay. Here, we get the percentage of frames of each behavior in each sequence. We can use this to split the training set into train and validation sets in a stratified way."
      ]
    },
    {
      "cell_type": "code",
      "metadata": {
        "id": "JoqaPWYM9gdi"
      },
      "source": [
        "def get_percentage(sequence_key):\n",
        "  anno_seq = num_to_text(training_data[sequence_key]['annotations'])\n",
        "  counts = {k: np.mean(np.array(anno_seq) == k)*100.0 for k in vocab}\n",
        "  return counts\n",
        "\n",
        "anno_percentages = {k: get_percentage(k) for k in training_data}\n",
        "\n",
        "anno_perc_df = pd.DataFrame(anno_percentages).T\n",
        "print(\"Percentage of frames in every sequence for every class\")\n",
        "anno_perc_df.head()"
      ],
      "execution_count": null,
      "outputs": []
    },
    {
      "cell_type": "markdown",
      "metadata": {
        "id": "QcGC3YGTU_9X"
      },
      "source": [
        "## Percent of frames of each behavior in the full training set\n",
        "Having looked at behavior distributions in a couple example Sequences, let's now look at the average over the entire training set."
      ]
    },
    {
      "cell_type": "code",
      "metadata": {
        "id": "1HFOPsoF_LAy"
      },
      "source": [
        "all_annotations = []\n",
        "for sk in training_data:\n",
        "  anno = training_data[sk]['annotations']\n",
        "  all_annotations.extend(list(anno))\n",
        "all_annotations = num_to_text(all_annotations)\n",
        "classes, counts = np.unique(all_annotations, return_counts=True)\n",
        "pd.DataFrame({\"Behavior\": classes,\n",
        "              \"Percentage Frames\": counts/len(all_annotations)*100.0})"
      ],
      "execution_count": null,
      "outputs": []
    },
    {
      "cell_type": "markdown",
      "metadata": {
        "id": "DgxwPih4uUS4"
      },
      "source": [
        "# Split training data into train/validation sets\n",
        "Because we don't want to overfit to our test set, we'll create a new validation set to test on while we're experimenting with our model.\n",
        "\n",
        "We'll use the first cell to create some helper functions, and then implement the split in the following cell."
      ]
    },
    {
      "cell_type": "code",
      "metadata": {
        "id": "abMVVpWZud-_"
      },
      "source": [
        "from sklearn.model_selection import train_test_split\n",
        "import numpy as np\n",
        "import pandas as pd\n",
        "\n",
        "\n",
        "def num_to_text(number_to_class, anno_list):\n",
        "    \"\"\" \n",
        "    Convert list of class numbers to list of class names\n",
        "    \"\"\"\n",
        "    return np.vectorize(number_to_class.get)(anno_list)\n",
        "\n",
        "\n",
        "def split_validation(orig_pose_dictionary, vocabulary, seed=2021,\n",
        "               test_size=0.5, split_videos=False):\n",
        "    \"\"\" \n",
        "    Split data into train and validation sets:\n",
        "    * Full sequences are either put into train or validation to avoid data leakage\n",
        "    * By default, the \"attack\" behavior's presence is used to stratify the split\n",
        "    * Optionally, the sequences may be split into half and treated as separate sequences\n",
        "    \"\"\"\n",
        "\n",
        "    if test_size == 0.0:\n",
        "        return orig_pose_dictionary, None\n",
        "\n",
        "    number_to_class = {v: k for k, v in vocabulary.items()}\n",
        "    if split_videos:\n",
        "        pose_dictionary = {}\n",
        "        for key in orig_pose_dictionary:\n",
        "            key_pt1 = key + '_part1'\n",
        "            key_pt2 = key + '_part2'\n",
        "            anno_len = len(orig_pose_dictionary[key]['annotations'])\n",
        "            split_idx = anno_len//2\n",
        "            pose_dictionary[key_pt1] = {\n",
        "                'annotations': orig_pose_dictionary[key]['annotations'][:split_idx],\n",
        "                'keypoints': orig_pose_dictionary[key]['keypoints'][:split_idx]}\n",
        "            pose_dictionary[key_pt2] = {\n",
        "                'annotations': orig_pose_dictionary[key]['annotations'][split_idx:],\n",
        "                'keypoints': orig_pose_dictionary[key]['keypoints'][split_idx:]}\n",
        "    else:\n",
        "        pose_dictionary = orig_pose_dictionary\n",
        "\n",
        "    def get_percentage(sequence_key):\n",
        "        anno_seq = num_to_text(\n",
        "            number_to_class, pose_dictionary[sequence_key]['annotations'])\n",
        "        counts = {k: np.mean(np.array(anno_seq) == k) for k in vocabulary}\n",
        "        return counts\n",
        "\n",
        "    anno_percentages = {k: get_percentage(k) for k in pose_dictionary}\n",
        "\n",
        "    anno_perc_df = pd.DataFrame(anno_percentages).T\n",
        "\n",
        "    rng_state = np.random.RandomState(seed)\n",
        "    try:\n",
        "        idx_train, idx_val = train_test_split(anno_perc_df.index,\n",
        "                                              stratify=anno_perc_df['attack'] > 0,\n",
        "                                              test_size=test_size,\n",
        "                                              random_state=rng_state)\n",
        "    except:\n",
        "        idx_train, idx_val = train_test_split(anno_perc_df.index,\n",
        "                                              test_size=test_size,\n",
        "                                              random_state=rng_state)\n",
        "\n",
        "    train_data = {k: pose_dictionary[k] for k in idx_train}\n",
        "    val_data = {k: pose_dictionary[k] for k in idx_val}\n",
        "    return train_data, val_data"
      ],
      "execution_count": null,
      "outputs": []
    },
    {
      "cell_type": "code",
      "metadata": {
        "id": "RUNQAXsdu1Ni"
      },
      "source": [
        "train, val = split_validation(training_data, vocab, test_size=0.25)\n",
        "print(\"Number of Sequences in train set: \", len(train))\n",
        "print(\"Number of Sequences in validation set: \", len(val))"
      ],
      "execution_count": null,
      "outputs": []
    },
    {
      "cell_type": "markdown",
      "metadata": {
        "id": "o6LvO7SU_BFe"
      },
      "source": [
        "# Preprocessing script\n",
        "\n",
        "We might also want to normalize the data, based on the information that the frame size is 1024x570\n",
        "\n",
        "The original data is of shape (sequence length, mouse, x y coordinate, keypoint)\n",
        " = (length, 2, 2, 7)\n",
        "\n",
        "If `rotate==True`, this code also swaps the x y and the keypoint axis, to make rotation of the poses (eg to center on one of the mice) easier."
      ]
    },
    {
      "cell_type": "code",
      "metadata": {
        "id": "lHQfl7FU-9yr"
      },
      "source": [
        "def normalize_data(orig_pose_dictionary, rotate=False):\n",
        "  for key in orig_pose_dictionary:\n",
        "    X = orig_pose_dictionary[key]['keypoints']\n",
        "    if rotate:\n",
        "      X = X.transpose((0,1,3,2)) #last axis is x, y coordinates\n",
        "      X[..., 0] = X[..., 0]/1024\n",
        "      X[..., 1] = X[..., 1]/570\n",
        "    else:\n",
        "      X[:,:,0,:] = X[:,:,0,:]/1024\n",
        "      X[:,:,1,:] = X[:,:,1,:]/570\n",
        "    orig_pose_dictionary[key]['keypoints'] = X\n",
        "  return orig_pose_dictionary"
      ],
      "execution_count": null,
      "outputs": []
    }
  ]
}