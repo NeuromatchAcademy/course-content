{
  "cells": [
    {
      "cell_type": "markdown",
      "metadata": {
        "id": "view-in-github",
        "colab_type": "text"
      },
      "source": [
        "<a href=\"https://colab.research.google.com/github/NeuromatchAcademy/course-content/blob/add_bilibili/projects/fMRI/fMRI_videos.ipynb\" target=\"_parent\"><img src=\"https://colab.research.google.com/assets/colab-badge.svg\" alt=\"Open In Colab\"/></a>"
      ]
    },
    {
      "cell_type": "markdown",
      "metadata": {
        "execution": {},
        "pycharm": {
          "name": "#%% md\n"
        },
        "id": "OFESqzumUh1w"
      },
      "source": [
        "# Overview videos\n",
        "\n"
      ]
    },
    {
      "cell_type": "code",
      "execution_count": 1,
      "metadata": {
        "cellView": "form",
        "execution": {},
        "pycharm": {
          "name": "#%%\n"
        },
        "tags": [
          "remove-input"
        ],
        "id": "mvlAfUE1Uh1y",
        "outputId": "0d121d4d-32ff-46f9-debc-c0043bfc981c",
        "colab": {
          "base_uri": "https://localhost:8080/",
          "height": 583,
          "referenced_widgets": [
            "0b1e55c6b56a41f6b890cb6cc056abb9",
            "b420b695bf934378878f911d14f132b9",
            "27313680fdaa426f80ef3697ca00bee0",
            "3e23009e65484eba8638c4b57b447ffe",
            "893b5ef0d646440fbc63ff7a07a9f87f",
            "a5b9d7e19d334476ab746957a15e7397"
          ]
        }
      },
      "outputs": [
        {
          "output_type": "display_data",
          "data": {
            "text/plain": [
              "Tab(children=(Output(), Output()), _titles={'0': 'Youtube', '1': 'Bilibili'})"
            ],
            "application/vnd.jupyter.widget-view+json": {
              "version_major": 2,
              "version_minor": 0,
              "model_id": "0b1e55c6b56a41f6b890cb6cc056abb9"
            }
          },
          "metadata": {}
        }
      ],
      "source": [
        "# @title Video: Kay/Gallant dataset\n",
        "from ipywidgets import widgets\n",
        "from IPython.display import YouTubeVideo\n",
        "from IPython.display import IFrame\n",
        "from IPython.display import display\n",
        "\n",
        "\n",
        "class PlayVideo(IFrame):\n",
        "  def __init__(self, id, source, page=1, width=400, height=300, **kwargs):\n",
        "    self.id = id\n",
        "    if source == 'Bilibili':\n",
        "      src = f'https://player.bilibili.com/player.html?bvid={id}&page={page}'\n",
        "    elif source == 'Osf':\n",
        "      src = f'https://mfr.ca-1.osf.io/render?url=https://osf.io/download/{id}/?direct%26mode=render'\n",
        "    super(PlayVideo, self).__init__(src, width, height, **kwargs)\n",
        "\n",
        "\n",
        "def display_videos(video_ids, W=400, H=300, fs=1):\n",
        "  tab_contents = []\n",
        "  for i, video_id in enumerate(video_ids):\n",
        "    out = widgets.Output()\n",
        "    with out:\n",
        "      if video_ids[i][0] == 'Youtube':\n",
        "        video = YouTubeVideo(id=video_ids[i][1], width=W,\n",
        "                             height=H, fs=fs, rel=0)\n",
        "        print(f'Video available at https://youtube.com/watch?v={video.id}')\n",
        "      else:\n",
        "        video = PlayVideo(id=video_ids[i][1], source=video_ids[i][0], width=W,\n",
        "                          height=H, fs=fs, autoplay=False)\n",
        "        if video_ids[i][0] == 'Bilibili':\n",
        "          print(f'Video available at https://www.bilibili.com/video/{video.id}')\n",
        "        elif video_ids[i][0] == 'Osf':\n",
        "          print(f'Video available at https://osf.io/{video.id}')\n",
        "      display(video)\n",
        "    tab_contents.append(out)\n",
        "  return tab_contents\n",
        "\n",
        "\n",
        "video_ids = [('Youtube', 'LdJkLyw4yzg'), ('Bilibili', 'BV1p14y1R7zF')]\n",
        "tab_contents = display_videos(video_ids, W=854, H=480)\n",
        "tabs = widgets.Tab()\n",
        "tabs.children = tab_contents\n",
        "for i in range(len(tab_contents)):\n",
        "  tabs.set_title(i, video_ids[i][0])\n",
        "display(tabs)"
      ]
    },
    {
      "cell_type": "code",
      "execution_count": 2,
      "metadata": {
        "cellView": "form",
        "execution": {},
        "pycharm": {
          "name": "#%%\n"
        },
        "tags": [
          "remove-input"
        ],
        "id": "2kLrGmlcUh1z",
        "outputId": "69cd2a9c-f30b-4aa6-dcf2-842f0537cd8e",
        "colab": {
          "base_uri": "https://localhost:8080/",
          "height": 583,
          "referenced_widgets": [
            "48266812c68d46cfa3da3c8a43924350",
            "acc509ac0a0b4177a3d2609eb46e278a",
            "9b83f11dd1c84dab83abce26b002c4f8",
            "64b49bb24e4449458d89a262fc9ba6c0",
            "834a8513235a4b638a57b0dda378f6b8",
            "93602a49db74402f8543675f295c7f6b"
          ]
        }
      },
      "outputs": [
        {
          "output_type": "display_data",
          "data": {
            "text/plain": [
              "Tab(children=(Output(), Output()), _titles={'0': 'Youtube', '1': 'Bilibili'})"
            ],
            "application/vnd.jupyter.widget-view+json": {
              "version_major": 2,
              "version_minor": 0,
              "model_id": "48266812c68d46cfa3da3c8a43924350"
            }
          },
          "metadata": {}
        }
      ],
      "source": [
        "# @title Video: HCP dataset\n",
        "from ipywidgets import widgets\n",
        "from IPython.display import YouTubeVideo\n",
        "from IPython.display import IFrame\n",
        "from IPython.display import display\n",
        "\n",
        "\n",
        "class PlayVideo(IFrame):\n",
        "  def __init__(self, id, source, page=1, width=400, height=300, **kwargs):\n",
        "    self.id = id\n",
        "    if source == 'Bilibili':\n",
        "      src = f'https://player.bilibili.com/player.html?bvid={id}&page={page}'\n",
        "    elif source == 'Osf':\n",
        "      src = f'https://mfr.ca-1.osf.io/render?url=https://osf.io/download/{id}/?direct%26mode=render'\n",
        "    super(PlayVideo, self).__init__(src, width, height, **kwargs)\n",
        "\n",
        "\n",
        "def display_videos(video_ids, W=400, H=300, fs=1):\n",
        "  tab_contents = []\n",
        "  for i, video_id in enumerate(video_ids):\n",
        "    out = widgets.Output()\n",
        "    with out:\n",
        "      if video_ids[i][0] == 'Youtube':\n",
        "        video = YouTubeVideo(id=video_ids[i][1], width=W,\n",
        "                             height=H, fs=fs, rel=0)\n",
        "        print(f'Video available at https://youtube.com/watch?v={video.id}')\n",
        "      else:\n",
        "        video = PlayVideo(id=video_ids[i][1], source=video_ids[i][0], width=W,\n",
        "                          height=H, fs=fs, autoplay=False)\n",
        "        if video_ids[i][0] == 'Bilibili':\n",
        "          print(f'Video available at https://www.bilibili.com/video/{video.id}')\n",
        "        elif video_ids[i][0] == 'Osf':\n",
        "          print(f'Video available at https://osf.io/{video.id}')\n",
        "      display(video)\n",
        "    tab_contents.append(out)\n",
        "  return tab_contents\n",
        "\n",
        "\n",
        "video_ids = [('Youtube', 'iOCcY0QFMS4'), ('Bilibili', 'BV1fh4y1777U')]\n",
        "tab_contents = display_videos(video_ids, W=854, H=480)\n",
        "tabs = widgets.Tab()\n",
        "tabs.children = tab_contents\n",
        "for i in range(len(tab_contents)):\n",
        "  tabs.set_title(i, video_ids[i][0])\n",
        "display(tabs)"
      ]
    },
    {
      "cell_type": "code",
      "execution_count": 3,
      "metadata": {
        "cellView": "form",
        "execution": {},
        "pycharm": {
          "name": "#%%\n"
        },
        "tags": [
          "remove-input"
        ],
        "id": "sB8T3XJIUh10",
        "outputId": "b838cf3f-c1cb-49ae-d0c0-1e98755ddac8",
        "colab": {
          "base_uri": "https://localhost:8080/",
          "height": 583,
          "referenced_widgets": [
            "c753b20923144e61bf1c2d74bfc8715d",
            "c77c552a6fa24d6bbea395fcf5493c23",
            "8bc0e91ef5f8480b8d360fc46fc5792e",
            "f0b140ee4b8f4d869190d16bc0f79f64",
            "c709553d8b7d4742bb816a7670e20ce6",
            "0e78ff768a2f42e9b2fd16d600ba2ab7"
          ]
        }
      },
      "outputs": [
        {
          "output_type": "display_data",
          "data": {
            "text/plain": [
              "Tab(children=(Output(), Output()), _titles={'0': 'Youtube', '1': 'Bilibili'})"
            ],
            "application/vnd.jupyter.widget-view+json": {
              "version_major": 2,
              "version_minor": 0,
              "model_id": "c753b20923144e61bf1c2d74bfc8715d"
            }
          },
          "metadata": {}
        }
      ],
      "source": [
        "# @title Video: HCP dataset (2021 video)\n",
        "from ipywidgets import widgets\n",
        "from IPython.display import YouTubeVideo\n",
        "from IPython.display import IFrame\n",
        "from IPython.display import display\n",
        "\n",
        "\n",
        "class PlayVideo(IFrame):\n",
        "  def __init__(self, id, source, page=1, width=400, height=300, **kwargs):\n",
        "    self.id = id\n",
        "    if source == 'Bilibili':\n",
        "      src = f'https://player.bilibili.com/player.html?bvid={id}&page={page}'\n",
        "    elif source == 'Osf':\n",
        "      src = f'https://mfr.ca-1.osf.io/render?url=https://osf.io/download/{id}/?direct%26mode=render'\n",
        "    super(PlayVideo, self).__init__(src, width, height, **kwargs)\n",
        "\n",
        "\n",
        "def display_videos(video_ids, W=400, H=300, fs=1):\n",
        "  tab_contents = []\n",
        "  for i, video_id in enumerate(video_ids):\n",
        "    out = widgets.Output()\n",
        "    with out:\n",
        "      if video_ids[i][0] == 'Youtube':\n",
        "        video = YouTubeVideo(id=video_ids[i][1], width=W,\n",
        "                             height=H, fs=fs, rel=0)\n",
        "        print(f'Video available at https://youtube.com/watch?v={video.id}')\n",
        "      else:\n",
        "        video = PlayVideo(id=video_ids[i][1], source=video_ids[i][0], width=W,\n",
        "                          height=H, fs=fs, autoplay=False)\n",
        "        if video_ids[i][0] == 'Bilibili':\n",
        "          print(f'Video available at https://www.bilibili.com/video/{video.id}')\n",
        "        elif video_ids[i][0] == 'Osf':\n",
        "          print(f'Video available at https://osf.io/{video.id}')\n",
        "      display(video)\n",
        "    tab_contents.append(out)\n",
        "  return tab_contents\n",
        "\n",
        "\n",
        "video_ids = [('Youtube', 'i30qePz_OGY'), ('Bilibili', 'BV1gW4y1f7hy')]\n",
        "tab_contents = display_videos(video_ids, W=854, H=480)\n",
        "tabs = widgets.Tab()\n",
        "tabs.children = tab_contents\n",
        "for i in range(len(tab_contents)):\n",
        "  tabs.set_title(i, video_ids[i][0])\n",
        "display(tabs)"
      ]
    },
    {
      "cell_type": "code",
      "execution_count": 4,
      "metadata": {
        "cellView": "form",
        "execution": {},
        "pycharm": {
          "name": "#%%\n"
        },
        "tags": [
          "remove-input"
        ],
        "id": "YFf0R0SuUh11",
        "outputId": "b3ffa6b2-264e-468b-aa1b-64600fe61ae5",
        "colab": {
          "base_uri": "https://localhost:8080/",
          "height": 583,
          "referenced_widgets": [
            "f1488d68e7a34b648822fe0340609790",
            "f97c98dc62ab4ae193e9cb7f396ade37",
            "66a2c5a4d514422ea40d7f90fd16d959",
            "ebceeb3114a546339935386f45ac9cc3",
            "0414e10209c04456851bb6cb28380b58",
            "d4bcbb73e5a2473bb3b8aabe59a73c66"
          ]
        }
      },
      "outputs": [
        {
          "output_type": "display_data",
          "data": {
            "text/plain": [
              "Tab(children=(Output(), Output()), _titles={'0': 'Youtube', '1': 'Bilibili'})"
            ],
            "application/vnd.jupyter.widget-view+json": {
              "version_major": 2,
              "version_minor": 0,
              "model_id": "f1488d68e7a34b648822fe0340609790"
            }
          },
          "metadata": {}
        }
      ],
      "source": [
        "# @title Video: FSLcourse task fMRI\n",
        "from ipywidgets import widgets\n",
        "from IPython.display import YouTubeVideo\n",
        "from IPython.display import IFrame\n",
        "from IPython.display import display\n",
        "\n",
        "\n",
        "class PlayVideo(IFrame):\n",
        "  def __init__(self, id, source, page=1, width=400, height=300, **kwargs):\n",
        "    self.id = id\n",
        "    if source == 'Bilibili':\n",
        "      src = f'https://player.bilibili.com/player.html?bvid={id}&page={page}'\n",
        "    elif source == 'Osf':\n",
        "      src = f'https://mfr.ca-1.osf.io/render?url=https://osf.io/download/{id}/?direct%26mode=render'\n",
        "    super(PlayVideo, self).__init__(src, width, height, **kwargs)\n",
        "\n",
        "\n",
        "def display_videos(video_ids, W=400, H=300, fs=1):\n",
        "  tab_contents = []\n",
        "  for i, video_id in enumerate(video_ids):\n",
        "    out = widgets.Output()\n",
        "    with out:\n",
        "      if video_ids[i][0] == 'Youtube':\n",
        "        video = YouTubeVideo(id=video_ids[i][1], width=W,\n",
        "                             height=H, fs=fs, rel=0)\n",
        "        print(f'Video available at https://youtube.com/watch?v={video.id}')\n",
        "      else:\n",
        "        video = PlayVideo(id=video_ids[i][1], source=video_ids[i][0], width=W,\n",
        "                          height=H, fs=fs, autoplay=False)\n",
        "        if video_ids[i][0] == 'Bilibili':\n",
        "          print(f'Video available at https://www.bilibili.com/video/{video.id}')\n",
        "        elif video_ids[i][0] == 'Osf':\n",
        "          print(f'Video available at https://osf.io/{video.id}')\n",
        "      display(video)\n",
        "    tab_contents.append(out)\n",
        "  return tab_contents\n",
        "\n",
        "\n",
        "video_ids = [('Youtube', 'ZI-xFYubENw'), ('Bilibili', 'BV1Bf4y1L7JN')]\n",
        "tab_contents = display_videos(video_ids, W=854, H=480)\n",
        "tabs = widgets.Tab()\n",
        "tabs.children = tab_contents\n",
        "for i in range(len(tab_contents)):\n",
        "  tabs.set_title(i, video_ids[i][0])\n",
        "display(tabs)"
      ]
    },
    {
      "cell_type": "code",
      "execution_count": 5,
      "metadata": {
        "cellView": "form",
        "execution": {},
        "pycharm": {
          "name": "#%%\n"
        },
        "tags": [
          "remove-input"
        ],
        "id": "JWOaDLiVUh11",
        "outputId": "d22cfdc1-05b2-4de6-bac0-74de489b3df2",
        "colab": {
          "base_uri": "https://localhost:8080/",
          "height": 583,
          "referenced_widgets": [
            "f02809eb73424e4dbcd6c11275a1bd25",
            "7c97e59d45344dfba87034f95614199f",
            "3d0ad5b05fe84479b073db89ace8d318",
            "fdd4f0b846c34093b57673fb09cc5d30",
            "0b01bfdda33448b4b87cc6a1c25220d2",
            "c02259c504c34171b0c6acb20a7d1b55"
          ]
        }
      },
      "outputs": [
        {
          "output_type": "display_data",
          "data": {
            "text/plain": [
              "Tab(children=(Output(), Output()), _titles={'0': 'Youtube', '1': 'Bilibili'})"
            ],
            "application/vnd.jupyter.widget-view+json": {
              "version_major": 2,
              "version_minor": 0,
              "model_id": "f02809eb73424e4dbcd6c11275a1bd25"
            }
          },
          "metadata": {}
        }
      ],
      "source": [
        "# @title Video: HCP retinotopy\n",
        "from ipywidgets import widgets\n",
        "from IPython.display import YouTubeVideo\n",
        "from IPython.display import IFrame\n",
        "from IPython.display import display\n",
        "\n",
        "\n",
        "class PlayVideo(IFrame):\n",
        "  def __init__(self, id, source, page=1, width=400, height=300, **kwargs):\n",
        "    self.id = id\n",
        "    if source == 'Bilibili':\n",
        "      src = f'https://player.bilibili.com/player.html?bvid={id}&page={page}'\n",
        "    elif source == 'Osf':\n",
        "      src = f'https://mfr.ca-1.osf.io/render?url=https://osf.io/download/{id}/?direct%26mode=render'\n",
        "    super(PlayVideo, self).__init__(src, width, height, **kwargs)\n",
        "\n",
        "\n",
        "def display_videos(video_ids, W=400, H=300, fs=1):\n",
        "  tab_contents = []\n",
        "  for i, video_id in enumerate(video_ids):\n",
        "    out = widgets.Output()\n",
        "    with out:\n",
        "      if video_ids[i][0] == 'Youtube':\n",
        "        video = YouTubeVideo(id=video_ids[i][1], width=W,\n",
        "                             height=H, fs=fs, rel=0)\n",
        "        print(f'Video available at https://youtube.com/watch?v={video.id}')\n",
        "      else:\n",
        "        video = PlayVideo(id=video_ids[i][1], source=video_ids[i][0], width=W,\n",
        "                          height=H, fs=fs, autoplay=False)\n",
        "        if video_ids[i][0] == 'Bilibili':\n",
        "          print(f'Video available at https://www.bilibili.com/video/{video.id}')\n",
        "        elif video_ids[i][0] == 'Osf':\n",
        "          print(f'Video available at https://osf.io/{video.id}')\n",
        "      display(video)\n",
        "    tab_contents.append(out)\n",
        "  return tab_contents\n",
        "\n",
        "\n",
        "video_ids = [('Youtube', 'nssSiCmbjxw'), ('Bilibili', 'BV1nX4y1w71n')]\n",
        "tab_contents = display_videos(video_ids, W=854, H=480)\n",
        "tabs = widgets.Tab()\n",
        "tabs.children = tab_contents\n",
        "for i in range(len(tab_contents)):\n",
        "  tabs.set_title(i, video_ids[i][0])\n",
        "display(tabs)"
      ]
    },
    {
      "cell_type": "code",
      "execution_count": 6,
      "metadata": {
        "cellView": "form",
        "execution": {},
        "pycharm": {
          "name": "#%%\n"
        },
        "tags": [
          "remove-input"
        ],
        "id": "V_nxh1EMUh12",
        "outputId": "9eb942ac-5835-4abe-9f06-c47fa373669f",
        "colab": {
          "base_uri": "https://localhost:8080/",
          "height": 583,
          "referenced_widgets": [
            "e08f48f9795c4872826978462d39c7da",
            "ead9fe4c100a43fd88d12850b4031c5a",
            "0f8316956e5a48f0aab81aa26508aa81",
            "2197bdfbb0a146f1bb1278e2b0055261",
            "b794389e22cb40418bbb27aa333d2899",
            "8ebcd3de778e4834ac6fe144c125fb87"
          ]
        }
      },
      "outputs": [
        {
          "output_type": "display_data",
          "data": {
            "text/plain": [
              "Tab(children=(Output(), Output()), _titles={'0': 'Youtube', '1': 'Bilibili'})"
            ],
            "application/vnd.jupyter.widget-view+json": {
              "version_major": 2,
              "version_minor": 0,
              "model_id": "e08f48f9795c4872826978462d39c7da"
            }
          },
          "metadata": {}
        }
      ],
      "source": [
        "# @title Video: Algonauts dataset\n",
        "from ipywidgets import widgets\n",
        "from IPython.display import YouTubeVideo\n",
        "from IPython.display import IFrame\n",
        "from IPython.display import display\n",
        "\n",
        "\n",
        "class PlayVideo(IFrame):\n",
        "  def __init__(self, id, source, page=1, width=400, height=300, **kwargs):\n",
        "    self.id = id\n",
        "    if source == 'Bilibili':\n",
        "      src = f'https://player.bilibili.com/player.html?bvid={id}&page={page}'\n",
        "    elif source == 'Osf':\n",
        "      src = f'https://mfr.ca-1.osf.io/render?url=https://osf.io/download/{id}/?direct%26mode=render'\n",
        "    super(PlayVideo, self).__init__(src, width, height, **kwargs)\n",
        "\n",
        "\n",
        "def display_videos(video_ids, W=400, H=300, fs=1):\n",
        "  tab_contents = []\n",
        "  for i, video_id in enumerate(video_ids):\n",
        "    out = widgets.Output()\n",
        "    with out:\n",
        "      if video_ids[i][0] == 'Youtube':\n",
        "        video = YouTubeVideo(id=video_ids[i][1], width=W,\n",
        "                             height=H, fs=fs, rel=0)\n",
        "        print(f'Video available at https://youtube.com/watch?v={video.id}')\n",
        "      else:\n",
        "        video = PlayVideo(id=video_ids[i][1], source=video_ids[i][0], width=W,\n",
        "                          height=H, fs=fs, autoplay=False)\n",
        "        if video_ids[i][0] == 'Bilibili':\n",
        "          print(f'Video available at https://www.bilibili.com/video/{video.id}')\n",
        "        elif video_ids[i][0] == 'Osf':\n",
        "          print(f'Video available at https://osf.io/{video.id}')\n",
        "      display(video)\n",
        "    tab_contents.append(out)\n",
        "  return tab_contents\n",
        "\n",
        "\n",
        "video_ids = [('Youtube', 'TID48cMcneo'), ('Bilibili', 'BV1xy4y1K7bf')]\n",
        "tab_contents = display_videos(video_ids, W=854, H=480)\n",
        "tabs = widgets.Tab()\n",
        "tabs.children = tab_contents\n",
        "for i in range(len(tab_contents)):\n",
        "  tabs.set_title(i, video_ids[i][0])\n",
        "display(tabs)"
      ]
    },
    {
      "cell_type": "code",
      "execution_count": 7,
      "metadata": {
        "cellView": "form",
        "execution": {},
        "pycharm": {
          "name": "#%%\n"
        },
        "tags": [
          "remove-input"
        ],
        "id": "GZc8ah4XUh12",
        "outputId": "49402c03-1a1b-43f5-f19d-9d716e86dc7b",
        "colab": {
          "base_uri": "https://localhost:8080/",
          "height": 583,
          "referenced_widgets": [
            "a22ce3fec6e240a48cb6910e73af75aa",
            "399dc583732d49af82e13b109f021b5a",
            "bd31d659a16e42a8a65308f304b34cdf",
            "278eddf43fe4473c9efd784be9b6832e",
            "73891d25ea8c47c1ba84f5fb43792d7a",
            "5526111da895486987b0b578a7cd95ca"
          ]
        }
      },
      "outputs": [
        {
          "output_type": "display_data",
          "data": {
            "text/plain": [
              "Tab(children=(Output(), Output()), _titles={'0': 'Youtube', '1': 'Bilibili'})"
            ],
            "application/vnd.jupyter.widget-view+json": {
              "version_major": 2,
              "version_minor": 0,
              "model_id": "a22ce3fec6e240a48cb6910e73af75aa"
            }
          },
          "metadata": {}
        }
      ],
      "source": [
        "# @title Video: Bonner dataset\n",
        "from ipywidgets import widgets\n",
        "from IPython.display import YouTubeVideo\n",
        "from IPython.display import IFrame\n",
        "from IPython.display import display\n",
        "\n",
        "\n",
        "class PlayVideo(IFrame):\n",
        "  def __init__(self, id, source, page=1, width=400, height=300, **kwargs):\n",
        "    self.id = id\n",
        "    if source == 'Bilibili':\n",
        "      src = f'https://player.bilibili.com/player.html?bvid={id}&page={page}'\n",
        "    elif source == 'Osf':\n",
        "      src = f'https://mfr.ca-1.osf.io/render?url=https://osf.io/download/{id}/?direct%26mode=render'\n",
        "    super(PlayVideo, self).__init__(src, width, height, **kwargs)\n",
        "\n",
        "\n",
        "def display_videos(video_ids, W=400, H=300, fs=1):\n",
        "  tab_contents = []\n",
        "  for i, video_id in enumerate(video_ids):\n",
        "    out = widgets.Output()\n",
        "    with out:\n",
        "      if video_ids[i][0] == 'Youtube':\n",
        "        video = YouTubeVideo(id=video_ids[i][1], width=W,\n",
        "                             height=H, fs=fs, rel=0)\n",
        "        print(f'Video available at https://youtube.com/watch?v={video.id}')\n",
        "      else:\n",
        "        video = PlayVideo(id=video_ids[i][1], source=video_ids[i][0], width=W,\n",
        "                          height=H, fs=fs, autoplay=False)\n",
        "        if video_ids[i][0] == 'Bilibili':\n",
        "          print(f'Video available at https://www.bilibili.com/video/{video.id}')\n",
        "        elif video_ids[i][0] == 'Osf':\n",
        "          print(f'Video available at https://osf.io/{video.id}')\n",
        "      display(video)\n",
        "    tab_contents.append(out)\n",
        "  return tab_contents\n",
        "\n",
        "\n",
        "video_ids = [('Youtube', '7NggvUlobQQ'), ('Bilibili', 'BV1vV411W7EJ')]\n",
        "tab_contents = display_videos(video_ids, W=854, H=480)\n",
        "tabs = widgets.Tab()\n",
        "tabs.children = tab_contents\n",
        "for i in range(len(tab_contents)):\n",
        "  tabs.set_title(i, video_ids[i][0])\n",
        "display(tabs)"
      ]
    },
    {
      "cell_type": "code",
      "execution_count": 8,
      "metadata": {
        "cellView": "form",
        "execution": {},
        "pycharm": {
          "name": "#%%\n"
        },
        "tags": [
          "remove-input"
        ],
        "id": "DcQWTDSJUh12",
        "outputId": "cdfe2038-025d-4766-f48b-922f9e290cc9",
        "colab": {
          "base_uri": "https://localhost:8080/",
          "height": 583,
          "referenced_widgets": [
            "c642ee6186bd44f2b5476b0cf52df172",
            "4dd2211a241a44f5ba4cd4069741954f",
            "0303423c95c948f08e8227ec9d1866d4",
            "b51249324d4145d6bde13e30138dbda8",
            "ad9625f40cc34b38b65cb3655c064048",
            "83357a402fee443cb10e1457116e6574"
          ]
        }
      },
      "outputs": [
        {
          "output_type": "display_data",
          "data": {
            "text/plain": [
              "Tab(children=(Output(), Output()), _titles={'0': 'Youtube', '1': 'Bilibili'})"
            ],
            "application/vnd.jupyter.widget-view+json": {
              "version_major": 2,
              "version_minor": 0,
              "model_id": "c642ee6186bd44f2b5476b0cf52df172"
            }
          },
          "metadata": {}
        }
      ],
      "source": [
        "# @title Video: Cichy dataset\n",
        "from ipywidgets import widgets\n",
        "from IPython.display import YouTubeVideo\n",
        "from IPython.display import IFrame\n",
        "from IPython.display import display\n",
        "\n",
        "\n",
        "class PlayVideo(IFrame):\n",
        "  def __init__(self, id, source, page=1, width=400, height=300, **kwargs):\n",
        "    self.id = id\n",
        "    if source == 'Bilibili':\n",
        "      src = f'https://player.bilibili.com/player.html?bvid={id}&page={page}'\n",
        "    elif source == 'Osf':\n",
        "      src = f'https://mfr.ca-1.osf.io/render?url=https://osf.io/download/{id}/?direct%26mode=render'\n",
        "    super(PlayVideo, self).__init__(src, width, height, **kwargs)\n",
        "\n",
        "\n",
        "def display_videos(video_ids, W=400, H=300, fs=1):\n",
        "  tab_contents = []\n",
        "  for i, video_id in enumerate(video_ids):\n",
        "    out = widgets.Output()\n",
        "    with out:\n",
        "      if video_ids[i][0] == 'Youtube':\n",
        "        video = YouTubeVideo(id=video_ids[i][1], width=W,\n",
        "                             height=H, fs=fs, rel=0)\n",
        "        print(f'Video available at https://youtube.com/watch?v={video.id}')\n",
        "      else:\n",
        "        video = PlayVideo(id=video_ids[i][1], source=video_ids[i][0], width=W,\n",
        "                          height=H, fs=fs, autoplay=False)\n",
        "        if video_ids[i][0] == 'Bilibili':\n",
        "          print(f'Video available at https://www.bilibili.com/video/{video.id}')\n",
        "        elif video_ids[i][0] == 'Osf':\n",
        "          print(f'Video available at https://osf.io/{video.id}')\n",
        "      display(video)\n",
        "    tab_contents.append(out)\n",
        "  return tab_contents\n",
        "\n",
        "\n",
        "video_ids = [('Youtube', 'I3_nA_6mq1g'), ('Bilibili', 'BV1xy4y1K72n')]\n",
        "tab_contents = display_videos(video_ids, W=854, H=480)\n",
        "tabs = widgets.Tab()\n",
        "tabs.children = tab_contents\n",
        "for i in range(len(tab_contents)):\n",
        "  tabs.set_title(i, video_ids[i][0])\n",
        "display(tabs)"
      ]
    }
  ],
  "metadata": {
    "colab": {
      "name": "fMRI_videos",
      "provenance": [],
      "toc_visible": true,
      "include_colab_link": true
    },
    "kernel": {
      "display_name": "Python 3",
      "language": "python",
      "name": "python3"
    },
    "kernelspec": {
      "display_name": "Python 3",
      "language": "python",
      "name": "python3"
    },
    "language_info": {
      "codemirror_mode": {
        "name": "ipython",
        "version": 3
      },
      "file_extension": ".py",
      "mimetype": "text/x-python",
      "name": "python",
      "nbconvert_exporter": "python",
      "pygments_lexer": "ipython3",
      "version": "3.9.17"
    },
    "widgets": {
      "application/vnd.jupyter.widget-state+json": {
        "0b1e55c6b56a41f6b890cb6cc056abb9": {
          "model_module": "@jupyter-widgets/controls",
          "model_name": "TabModel",
          "model_module_version": "1.5.0",
          "state": {
            "_dom_classes": [],
            "_model_module": "@jupyter-widgets/controls",
            "_model_module_version": "1.5.0",
            "_model_name": "TabModel",
            "_titles": {
              "0": "Youtube",
              "1": "Bilibili"
            },
            "_view_count": null,
            "_view_module": "@jupyter-widgets/controls",
            "_view_module_version": "1.5.0",
            "_view_name": "TabView",
            "box_style": "",
            "children": [
              "IPY_MODEL_b420b695bf934378878f911d14f132b9",
              "IPY_MODEL_27313680fdaa426f80ef3697ca00bee0"
            ],
            "layout": "IPY_MODEL_3e23009e65484eba8638c4b57b447ffe",
            "selected_index": 0
          }
        },
        "b420b695bf934378878f911d14f132b9": {
          "model_module": "@jupyter-widgets/output",
          "model_name": "OutputModel",
          "model_module_version": "1.0.0",
          "state": {
            "_dom_classes": [],
            "_model_module": "@jupyter-widgets/output",
            "_model_module_version": "1.0.0",
            "_model_name": "OutputModel",
            "_view_count": null,
            "_view_module": "@jupyter-widgets/output",
            "_view_module_version": "1.0.0",
            "_view_name": "OutputView",
            "layout": "IPY_MODEL_893b5ef0d646440fbc63ff7a07a9f87f",
            "msg_id": "",
            "outputs": [
              {
                "output_type": "stream",
                "name": "stdout",
                "text": [
                  "Video available at https://youtube.com/watch?v=LdJkLyw4yzg\n"
                ]
              },
              {
                "output_type": "display_data",
                "data": {
                  "text/plain": "<IPython.lib.display.YouTubeVideo at 0x7f98b4383c70>",
                  "text/html": "\n        <iframe\n            width=\"854\"\n            height=\"480\"\n            src=\"https://www.youtube.com/embed/LdJkLyw4yzg?fs=1&rel=0\"\n            frameborder=\"0\"\n            allowfullscreen\n            \n        ></iframe>\n        ",
                  "image/jpeg": "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\n"
                },
                "metadata": {}
              }
            ]
          }
        },
        "27313680fdaa426f80ef3697ca00bee0": {
          "model_module": "@jupyter-widgets/output",
          "model_name": "OutputModel",
          "model_module_version": "1.0.0",
          "state": {
            "_dom_classes": [],
            "_model_module": "@jupyter-widgets/output",
            "_model_module_version": "1.0.0",
            "_model_name": "OutputModel",
            "_view_count": null,
            "_view_module": "@jupyter-widgets/output",
            "_view_module_version": "1.0.0",
            "_view_name": "OutputView",
            "layout": "IPY_MODEL_a5b9d7e19d334476ab746957a15e7397",
            "msg_id": "",
            "outputs": [
              {
                "output_type": "stream",
                "name": "stdout",
                "text": [
                  "Video available at https://www.bilibili.com/video/BV1p14y1R7zF\n"
                ]
              },
              {
                "output_type": "display_data",
                "data": {
                  "text/plain": "<__main__.PlayVideo at 0x7f98a4d53070>",
                  "text/html": "\n        <iframe\n            width=\"854\"\n            height=\"480\"\n            src=\"https://player.bilibili.com/player.html?bvid=BV1p14y1R7zF&page=1?fs=1&autoplay=False\"\n            frameborder=\"0\"\n            allowfullscreen\n            \n        ></iframe>\n        "
                },
                "metadata": {}
              }
            ]
          }
        },
        "3e23009e65484eba8638c4b57b447ffe": {
          "model_module": "@jupyter-widgets/base",
          "model_name": "LayoutModel",
          "model_module_version": "1.2.0",
          "state": {
            "_model_module": "@jupyter-widgets/base",
            "_model_module_version": "1.2.0",
            "_model_name": "LayoutModel",
            "_view_count": null,
            "_view_module": "@jupyter-widgets/base",
            "_view_module_version": "1.2.0",
            "_view_name": "LayoutView",
            "align_content": null,
            "align_items": null,
            "align_self": null,
            "border": null,
            "bottom": null,
            "display": null,
            "flex": null,
            "flex_flow": null,
            "grid_area": null,
            "grid_auto_columns": null,
            "grid_auto_flow": null,
            "grid_auto_rows": null,
            "grid_column": null,
            "grid_gap": null,
            "grid_row": null,
            "grid_template_areas": null,
            "grid_template_columns": null,
            "grid_template_rows": null,
            "height": null,
            "justify_content": null,
            "justify_items": null,
            "left": null,
            "margin": null,
            "max_height": null,
            "max_width": null,
            "min_height": null,
            "min_width": null,
            "object_fit": null,
            "object_position": null,
            "order": null,
            "overflow": null,
            "overflow_x": null,
            "overflow_y": null,
            "padding": null,
            "right": null,
            "top": null,
            "visibility": null,
            "width": null
          }
        },
        "893b5ef0d646440fbc63ff7a07a9f87f": {
          "model_module": "@jupyter-widgets/base",
          "model_name": "LayoutModel",
          "model_module_version": "1.2.0",
          "state": {
            "_model_module": "@jupyter-widgets/base",
            "_model_module_version": "1.2.0",
            "_model_name": "LayoutModel",
            "_view_count": null,
            "_view_module": "@jupyter-widgets/base",
            "_view_module_version": "1.2.0",
            "_view_name": "LayoutView",
            "align_content": null,
            "align_items": null,
            "align_self": null,
            "border": null,
            "bottom": null,
            "display": null,
            "flex": null,
            "flex_flow": null,
            "grid_area": null,
            "grid_auto_columns": null,
            "grid_auto_flow": null,
            "grid_auto_rows": null,
            "grid_column": null,
            "grid_gap": null,
            "grid_row": null,
            "grid_template_areas": null,
            "grid_template_columns": null,
            "grid_template_rows": null,
            "height": null,
            "justify_content": null,
            "justify_items": null,
            "left": null,
            "margin": null,
            "max_height": null,
            "max_width": null,
            "min_height": null,
            "min_width": null,
            "object_fit": null,
            "object_position": null,
            "order": null,
            "overflow": null,
            "overflow_x": null,
            "overflow_y": null,
            "padding": null,
            "right": null,
            "top": null,
            "visibility": null,
            "width": null
          }
        },
        "a5b9d7e19d334476ab746957a15e7397": {
          "model_module": "@jupyter-widgets/base",
          "model_name": "LayoutModel",
          "model_module_version": "1.2.0",
          "state": {
            "_model_module": "@jupyter-widgets/base",
            "_model_module_version": "1.2.0",
            "_model_name": "LayoutModel",
            "_view_count": null,
            "_view_module": "@jupyter-widgets/base",
            "_view_module_version": "1.2.0",
            "_view_name": "LayoutView",
            "align_content": null,
            "align_items": null,
            "align_self": null,
            "border": null,
            "bottom": null,
            "display": null,
            "flex": null,
            "flex_flow": null,
            "grid_area": null,
            "grid_auto_columns": null,
            "grid_auto_flow": null,
            "grid_auto_rows": null,
            "grid_column": null,
            "grid_gap": null,
            "grid_row": null,
            "grid_template_areas": null,
            "grid_template_columns": null,
            "grid_template_rows": null,
            "height": null,
            "justify_content": null,
            "justify_items": null,
            "left": null,
            "margin": null,
            "max_height": null,
            "max_width": null,
            "min_height": null,
            "min_width": null,
            "object_fit": null,
            "object_position": null,
            "order": null,
            "overflow": null,
            "overflow_x": null,
            "overflow_y": null,
            "padding": null,
            "right": null,
            "top": null,
            "visibility": null,
            "width": null
          }
        },
        "48266812c68d46cfa3da3c8a43924350": {
          "model_module": "@jupyter-widgets/controls",
          "model_name": "TabModel",
          "model_module_version": "1.5.0",
          "state": {
            "_dom_classes": [],
            "_model_module": "@jupyter-widgets/controls",
            "_model_module_version": "1.5.0",
            "_model_name": "TabModel",
            "_titles": {
              "0": "Youtube",
              "1": "Bilibili"
            },
            "_view_count": null,
            "_view_module": "@jupyter-widgets/controls",
            "_view_module_version": "1.5.0",
            "_view_name": "TabView",
            "box_style": "",
            "children": [
              "IPY_MODEL_acc509ac0a0b4177a3d2609eb46e278a",
              "IPY_MODEL_9b83f11dd1c84dab83abce26b002c4f8"
            ],
            "layout": "IPY_MODEL_64b49bb24e4449458d89a262fc9ba6c0",
            "selected_index": 0
          }
        },
        "acc509ac0a0b4177a3d2609eb46e278a": {
          "model_module": "@jupyter-widgets/output",
          "model_name": "OutputModel",
          "model_module_version": "1.0.0",
          "state": {
            "_dom_classes": [],
            "_model_module": "@jupyter-widgets/output",
            "_model_module_version": "1.0.0",
            "_model_name": "OutputModel",
            "_view_count": null,
            "_view_module": "@jupyter-widgets/output",
            "_view_module_version": "1.0.0",
            "_view_name": "OutputView",
            "layout": "IPY_MODEL_834a8513235a4b638a57b0dda378f6b8",
            "msg_id": "",
            "outputs": [
              {
                "output_type": "stream",
                "name": "stdout",
                "text": [
                  "Video available at https://youtube.com/watch?v=iOCcY0QFMS4\n"
                ]
              },
              {
                "output_type": "display_data",
                "data": {
                  "text/plain": "<IPython.lib.display.YouTubeVideo at 0x7f98a4c7c640>",
                  "text/html": "\n        <iframe\n            width=\"854\"\n            height=\"480\"\n            src=\"https://www.youtube.com/embed/iOCcY0QFMS4?fs=1&rel=0\"\n            frameborder=\"0\"\n            allowfullscreen\n            \n        ></iframe>\n        ",
                  "image/jpeg": "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\n"
                },
                "metadata": {}
              }
            ]
          }
        },
        "9b83f11dd1c84dab83abce26b002c4f8": {
          "model_module": "@jupyter-widgets/output",
          "model_name": "OutputModel",
          "model_module_version": "1.0.0",
          "state": {
            "_dom_classes": [],
            "_model_module": "@jupyter-widgets/output",
            "_model_module_version": "1.0.0",
            "_model_name": "OutputModel",
            "_view_count": null,
            "_view_module": "@jupyter-widgets/output",
            "_view_module_version": "1.0.0",
            "_view_name": "OutputView",
            "layout": "IPY_MODEL_93602a49db74402f8543675f295c7f6b",
            "msg_id": "",
            "outputs": [
              {
                "output_type": "stream",
                "name": "stdout",
                "text": [
                  "Video available at https://www.bilibili.com/video/BV1fh4y1777U\n"
                ]
              },
              {
                "output_type": "display_data",
                "data": {
                  "text/plain": "<__main__.PlayVideo at 0x7f98a4c7c580>",
                  "text/html": "\n        <iframe\n            width=\"854\"\n            height=\"480\"\n            src=\"https://player.bilibili.com/player.html?bvid=BV1fh4y1777U&page=1?fs=1&autoplay=False\"\n            frameborder=\"0\"\n            allowfullscreen\n            \n        ></iframe>\n        "
                },
                "metadata": {}
              }
            ]
          }
        },
        "64b49bb24e4449458d89a262fc9ba6c0": {
          "model_module": "@jupyter-widgets/base",
          "model_name": "LayoutModel",
          "model_module_version": "1.2.0",
          "state": {
            "_model_module": "@jupyter-widgets/base",
            "_model_module_version": "1.2.0",
            "_model_name": "LayoutModel",
            "_view_count": null,
            "_view_module": "@jupyter-widgets/base",
            "_view_module_version": "1.2.0",
            "_view_name": "LayoutView",
            "align_content": null,
            "align_items": null,
            "align_self": null,
            "border": null,
            "bottom": null,
            "display": null,
            "flex": null,
            "flex_flow": null,
            "grid_area": null,
            "grid_auto_columns": null,
            "grid_auto_flow": null,
            "grid_auto_rows": null,
            "grid_column": null,
            "grid_gap": null,
            "grid_row": null,
            "grid_template_areas": null,
            "grid_template_columns": null,
            "grid_template_rows": null,
            "height": null,
            "justify_content": null,
            "justify_items": null,
            "left": null,
            "margin": null,
            "max_height": null,
            "max_width": null,
            "min_height": null,
            "min_width": null,
            "object_fit": null,
            "object_position": null,
            "order": null,
            "overflow": null,
            "overflow_x": null,
            "overflow_y": null,
            "padding": null,
            "right": null,
            "top": null,
            "visibility": null,
            "width": null
          }
        },
        "834a8513235a4b638a57b0dda378f6b8": {
          "model_module": "@jupyter-widgets/base",
          "model_name": "LayoutModel",
          "model_module_version": "1.2.0",
          "state": {
            "_model_module": "@jupyter-widgets/base",
            "_model_module_version": "1.2.0",
            "_model_name": "LayoutModel",
            "_view_count": null,
            "_view_module": "@jupyter-widgets/base",
            "_view_module_version": "1.2.0",
            "_view_name": "LayoutView",
            "align_content": null,
            "align_items": null,
            "align_self": null,
            "border": null,
            "bottom": null,
            "display": null,
            "flex": null,
            "flex_flow": null,
            "grid_area": null,
            "grid_auto_columns": null,
            "grid_auto_flow": null,
            "grid_auto_rows": null,
            "grid_column": null,
            "grid_gap": null,
            "grid_row": null,
            "grid_template_areas": null,
            "grid_template_columns": null,
            "grid_template_rows": null,
            "height": null,
            "justify_content": null,
            "justify_items": null,
            "left": null,
            "margin": null,
            "max_height": null,
            "max_width": null,
            "min_height": null,
            "min_width": null,
            "object_fit": null,
            "object_position": null,
            "order": null,
            "overflow": null,
            "overflow_x": null,
            "overflow_y": null,
            "padding": null,
            "right": null,
            "top": null,
            "visibility": null,
            "width": null
          }
        },
        "93602a49db74402f8543675f295c7f6b": {
          "model_module": "@jupyter-widgets/base",
          "model_name": "LayoutModel",
          "model_module_version": "1.2.0",
          "state": {
            "_model_module": "@jupyter-widgets/base",
            "_model_module_version": "1.2.0",
            "_model_name": "LayoutModel",
            "_view_count": null,
            "_view_module": "@jupyter-widgets/base",
            "_view_module_version": "1.2.0",
            "_view_name": "LayoutView",
            "align_content": null,
            "align_items": null,
            "align_self": null,
            "border": null,
            "bottom": null,
            "display": null,
            "flex": null,
            "flex_flow": null,
            "grid_area": null,
            "grid_auto_columns": null,
            "grid_auto_flow": null,
            "grid_auto_rows": null,
            "grid_column": null,
            "grid_gap": null,
            "grid_row": null,
            "grid_template_areas": null,
            "grid_template_columns": null,
            "grid_template_rows": null,
            "height": null,
            "justify_content": null,
            "justify_items": null,
            "left": null,
            "margin": null,
            "max_height": null,
            "max_width": null,
            "min_height": null,
            "min_width": null,
            "object_fit": null,
            "object_position": null,
            "order": null,
            "overflow": null,
            "overflow_x": null,
            "overflow_y": null,
            "padding": null,
            "right": null,
            "top": null,
            "visibility": null,
            "width": null
          }
        },
        "c753b20923144e61bf1c2d74bfc8715d": {
          "model_module": "@jupyter-widgets/controls",
          "model_name": "TabModel",
          "model_module_version": "1.5.0",
          "state": {
            "_dom_classes": [],
            "_model_module": "@jupyter-widgets/controls",
            "_model_module_version": "1.5.0",
            "_model_name": "TabModel",
            "_titles": {
              "0": "Youtube",
              "1": "Bilibili"
            },
            "_view_count": null,
            "_view_module": "@jupyter-widgets/controls",
            "_view_module_version": "1.5.0",
            "_view_name": "TabView",
            "box_style": "",
            "children": [
              "IPY_MODEL_c77c552a6fa24d6bbea395fcf5493c23",
              "IPY_MODEL_8bc0e91ef5f8480b8d360fc46fc5792e"
            ],
            "layout": "IPY_MODEL_f0b140ee4b8f4d869190d16bc0f79f64",
            "selected_index": 0
          }
        },
        "c77c552a6fa24d6bbea395fcf5493c23": {
          "model_module": "@jupyter-widgets/output",
          "model_name": "OutputModel",
          "model_module_version": "1.0.0",
          "state": {
            "_dom_classes": [],
            "_model_module": "@jupyter-widgets/output",
            "_model_module_version": "1.0.0",
            "_model_name": "OutputModel",
            "_view_count": null,
            "_view_module": "@jupyter-widgets/output",
            "_view_module_version": "1.0.0",
            "_view_name": "OutputView",
            "layout": "IPY_MODEL_c709553d8b7d4742bb816a7670e20ce6",
            "msg_id": "",
            "outputs": [
              {
                "output_type": "stream",
                "name": "stdout",
                "text": [
                  "Video available at https://youtube.com/watch?v=i30qePz_OGY\n"
                ]
              },
              {
                "output_type": "display_data",
                "data": {
                  "text/plain": "<IPython.lib.display.YouTubeVideo at 0x7f98a41b7550>",
                  "text/html": "\n        <iframe\n            width=\"854\"\n            height=\"480\"\n            src=\"https://www.youtube.com/embed/i30qePz_OGY?fs=1&rel=0\"\n            frameborder=\"0\"\n            allowfullscreen\n            \n        ></iframe>\n        ",
                  "image/jpeg": "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\n"
                },
                "metadata": {}
              }
            ]
          }
        },
        "8bc0e91ef5f8480b8d360fc46fc5792e": {
          "model_module": "@jupyter-widgets/output",
          "model_name": "OutputModel",
          "model_module_version": "1.0.0",
          "state": {
            "_dom_classes": [],
            "_model_module": "@jupyter-widgets/output",
            "_model_module_version": "1.0.0",
            "_model_name": "OutputModel",
            "_view_count": null,
            "_view_module": "@jupyter-widgets/output",
            "_view_module_version": "1.0.0",
            "_view_name": "OutputView",
            "layout": "IPY_MODEL_0e78ff768a2f42e9b2fd16d600ba2ab7",
            "msg_id": "",
            "outputs": [
              {
                "output_type": "stream",
                "name": "stdout",
                "text": [
                  "Video available at https://www.bilibili.com/video/BV1gW4y1f7hy\n"
                ]
              },
              {
                "output_type": "display_data",
                "data": {
                  "text/plain": "<__main__.PlayVideo at 0x7f98a41b66b0>",
                  "text/html": "\n        <iframe\n            width=\"854\"\n            height=\"480\"\n            src=\"https://player.bilibili.com/player.html?bvid=BV1gW4y1f7hy&page=1?fs=1&autoplay=False\"\n            frameborder=\"0\"\n            allowfullscreen\n            \n        ></iframe>\n        "
                },
                "metadata": {}
              }
            ]
          }
        },
        "f0b140ee4b8f4d869190d16bc0f79f64": {
          "model_module": "@jupyter-widgets/base",
          "model_name": "LayoutModel",
          "model_module_version": "1.2.0",
          "state": {
            "_model_module": "@jupyter-widgets/base",
            "_model_module_version": "1.2.0",
            "_model_name": "LayoutModel",
            "_view_count": null,
            "_view_module": "@jupyter-widgets/base",
            "_view_module_version": "1.2.0",
            "_view_name": "LayoutView",
            "align_content": null,
            "align_items": null,
            "align_self": null,
            "border": null,
            "bottom": null,
            "display": null,
            "flex": null,
            "flex_flow": null,
            "grid_area": null,
            "grid_auto_columns": null,
            "grid_auto_flow": null,
            "grid_auto_rows": null,
            "grid_column": null,
            "grid_gap": null,
            "grid_row": null,
            "grid_template_areas": null,
            "grid_template_columns": null,
            "grid_template_rows": null,
            "height": null,
            "justify_content": null,
            "justify_items": null,
            "left": null,
            "margin": null,
            "max_height": null,
            "max_width": null,
            "min_height": null,
            "min_width": null,
            "object_fit": null,
            "object_position": null,
            "order": null,
            "overflow": null,
            "overflow_x": null,
            "overflow_y": null,
            "padding": null,
            "right": null,
            "top": null,
            "visibility": null,
            "width": null
          }
        },
        "c709553d8b7d4742bb816a7670e20ce6": {
          "model_module": "@jupyter-widgets/base",
          "model_name": "LayoutModel",
          "model_module_version": "1.2.0",
          "state": {
            "_model_module": "@jupyter-widgets/base",
            "_model_module_version": "1.2.0",
            "_model_name": "LayoutModel",
            "_view_count": null,
            "_view_module": "@jupyter-widgets/base",
            "_view_module_version": "1.2.0",
            "_view_name": "LayoutView",
            "align_content": null,
            "align_items": null,
            "align_self": null,
            "border": null,
            "bottom": null,
            "display": null,
            "flex": null,
            "flex_flow": null,
            "grid_area": null,
            "grid_auto_columns": null,
            "grid_auto_flow": null,
            "grid_auto_rows": null,
            "grid_column": null,
            "grid_gap": null,
            "grid_row": null,
            "grid_template_areas": null,
            "grid_template_columns": null,
            "grid_template_rows": null,
            "height": null,
            "justify_content": null,
            "justify_items": null,
            "left": null,
            "margin": null,
            "max_height": null,
            "max_width": null,
            "min_height": null,
            "min_width": null,
            "object_fit": null,
            "object_position": null,
            "order": null,
            "overflow": null,
            "overflow_x": null,
            "overflow_y": null,
            "padding": null,
            "right": null,
            "top": null,
            "visibility": null,
            "width": null
          }
        },
        "0e78ff768a2f42e9b2fd16d600ba2ab7": {
          "model_module": "@jupyter-widgets/base",
          "model_name": "LayoutModel",
          "model_module_version": "1.2.0",
          "state": {
            "_model_module": "@jupyter-widgets/base",
            "_model_module_version": "1.2.0",
            "_model_name": "LayoutModel",
            "_view_count": null,
            "_view_module": "@jupyter-widgets/base",
            "_view_module_version": "1.2.0",
            "_view_name": "LayoutView",
            "align_content": null,
            "align_items": null,
            "align_self": null,
            "border": null,
            "bottom": null,
            "display": null,
            "flex": null,
            "flex_flow": null,
            "grid_area": null,
            "grid_auto_columns": null,
            "grid_auto_flow": null,
            "grid_auto_rows": null,
            "grid_column": null,
            "grid_gap": null,
            "grid_row": null,
            "grid_template_areas": null,
            "grid_template_columns": null,
            "grid_template_rows": null,
            "height": null,
            "justify_content": null,
            "justify_items": null,
            "left": null,
            "margin": null,
            "max_height": null,
            "max_width": null,
            "min_height": null,
            "min_width": null,
            "object_fit": null,
            "object_position": null,
            "order": null,
            "overflow": null,
            "overflow_x": null,
            "overflow_y": null,
            "padding": null,
            "right": null,
            "top": null,
            "visibility": null,
            "width": null
          }
        },
        "f1488d68e7a34b648822fe0340609790": {
          "model_module": "@jupyter-widgets/controls",
          "model_name": "TabModel",
          "model_module_version": "1.5.0",
          "state": {
            "_dom_classes": [],
            "_model_module": "@jupyter-widgets/controls",
            "_model_module_version": "1.5.0",
            "_model_name": "TabModel",
            "_titles": {
              "0": "Youtube",
              "1": "Bilibili"
            },
            "_view_count": null,
            "_view_module": "@jupyter-widgets/controls",
            "_view_module_version": "1.5.0",
            "_view_name": "TabView",
            "box_style": "",
            "children": [
              "IPY_MODEL_f97c98dc62ab4ae193e9cb7f396ade37",
              "IPY_MODEL_66a2c5a4d514422ea40d7f90fd16d959"
            ],
            "layout": "IPY_MODEL_ebceeb3114a546339935386f45ac9cc3",
            "selected_index": 0
          }
        },
        "f97c98dc62ab4ae193e9cb7f396ade37": {
          "model_module": "@jupyter-widgets/output",
          "model_name": "OutputModel",
          "model_module_version": "1.0.0",
          "state": {
            "_dom_classes": [],
            "_model_module": "@jupyter-widgets/output",
            "_model_module_version": "1.0.0",
            "_model_name": "OutputModel",
            "_view_count": null,
            "_view_module": "@jupyter-widgets/output",
            "_view_module_version": "1.0.0",
            "_view_name": "OutputView",
            "layout": "IPY_MODEL_0414e10209c04456851bb6cb28380b58",
            "msg_id": "",
            "outputs": [
              {
                "output_type": "stream",
                "name": "stdout",
                "text": [
                  "Video available at https://youtube.com/watch?v=ZI-xFYubENw\n"
                ]
              },
              {
                "output_type": "display_data",
                "data": {
                  "text/plain": "<IPython.lib.display.YouTubeVideo at 0x7f98a4d53c70>",
                  "text/html": "\n        <iframe\n            width=\"854\"\n            height=\"480\"\n            src=\"https://www.youtube.com/embed/ZI-xFYubENw?fs=1&rel=0\"\n            frameborder=\"0\"\n            allowfullscreen\n            \n        ></iframe>\n        ",
                  "image/jpeg": "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\n"
                },
                "metadata": {}
              }
            ]
          }
        },
        "66a2c5a4d514422ea40d7f90fd16d959": {
          "model_module": "@jupyter-widgets/output",
          "model_name": "OutputModel",
          "model_module_version": "1.0.0",
          "state": {
            "_dom_classes": [],
            "_model_module": "@jupyter-widgets/output",
            "_model_module_version": "1.0.0",
            "_model_name": "OutputModel",
            "_view_count": null,
            "_view_module": "@jupyter-widgets/output",
            "_view_module_version": "1.0.0",
            "_view_name": "OutputView",
            "layout": "IPY_MODEL_d4bcbb73e5a2473bb3b8aabe59a73c66",
            "msg_id": "",
            "outputs": [
              {
                "output_type": "stream",
                "name": "stdout",
                "text": [
                  "Video available at https://www.bilibili.com/video/BV1Bf4y1L7JN"
                ]
              },
              {
                "output_type": "stream",
                "name": "stdout",
                "text": [
                  "\n"
                ]
              },
              {
                "output_type": "display_data",
                "data": {
                  "text/plain": "<__main__.PlayVideo at 0x7f98a4d53ee0>",
                  "text/html": "\n        <iframe\n            width=\"854\"\n            height=\"480\"\n            src=\"https://player.bilibili.com/player.html?bvid=BV1Bf4y1L7JN&page=1?fs=1&autoplay=False\"\n            frameborder=\"0\"\n            allowfullscreen\n            \n        ></iframe>\n        "
                },
                "metadata": {}
              }
            ]
          }
        },
        "ebceeb3114a546339935386f45ac9cc3": {
          "model_module": "@jupyter-widgets/base",
          "model_name": "LayoutModel",
          "model_module_version": "1.2.0",
          "state": {
            "_model_module": "@jupyter-widgets/base",
            "_model_module_version": "1.2.0",
            "_model_name": "LayoutModel",
            "_view_count": null,
            "_view_module": "@jupyter-widgets/base",
            "_view_module_version": "1.2.0",
            "_view_name": "LayoutView",
            "align_content": null,
            "align_items": null,
            "align_self": null,
            "border": null,
            "bottom": null,
            "display": null,
            "flex": null,
            "flex_flow": null,
            "grid_area": null,
            "grid_auto_columns": null,
            "grid_auto_flow": null,
            "grid_auto_rows": null,
            "grid_column": null,
            "grid_gap": null,
            "grid_row": null,
            "grid_template_areas": null,
            "grid_template_columns": null,
            "grid_template_rows": null,
            "height": null,
            "justify_content": null,
            "justify_items": null,
            "left": null,
            "margin": null,
            "max_height": null,
            "max_width": null,
            "min_height": null,
            "min_width": null,
            "object_fit": null,
            "object_position": null,
            "order": null,
            "overflow": null,
            "overflow_x": null,
            "overflow_y": null,
            "padding": null,
            "right": null,
            "top": null,
            "visibility": null,
            "width": null
          }
        },
        "0414e10209c04456851bb6cb28380b58": {
          "model_module": "@jupyter-widgets/base",
          "model_name": "LayoutModel",
          "model_module_version": "1.2.0",
          "state": {
            "_model_module": "@jupyter-widgets/base",
            "_model_module_version": "1.2.0",
            "_model_name": "LayoutModel",
            "_view_count": null,
            "_view_module": "@jupyter-widgets/base",
            "_view_module_version": "1.2.0",
            "_view_name": "LayoutView",
            "align_content": null,
            "align_items": null,
            "align_self": null,
            "border": null,
            "bottom": null,
            "display": null,
            "flex": null,
            "flex_flow": null,
            "grid_area": null,
            "grid_auto_columns": null,
            "grid_auto_flow": null,
            "grid_auto_rows": null,
            "grid_column": null,
            "grid_gap": null,
            "grid_row": null,
            "grid_template_areas": null,
            "grid_template_columns": null,
            "grid_template_rows": null,
            "height": null,
            "justify_content": null,
            "justify_items": null,
            "left": null,
            "margin": null,
            "max_height": null,
            "max_width": null,
            "min_height": null,
            "min_width": null,
            "object_fit": null,
            "object_position": null,
            "order": null,
            "overflow": null,
            "overflow_x": null,
            "overflow_y": null,
            "padding": null,
            "right": null,
            "top": null,
            "visibility": null,
            "width": null
          }
        },
        "d4bcbb73e5a2473bb3b8aabe59a73c66": {
          "model_module": "@jupyter-widgets/base",
          "model_name": "LayoutModel",
          "model_module_version": "1.2.0",
          "state": {
            "_model_module": "@jupyter-widgets/base",
            "_model_module_version": "1.2.0",
            "_model_name": "LayoutModel",
            "_view_count": null,
            "_view_module": "@jupyter-widgets/base",
            "_view_module_version": "1.2.0",
            "_view_name": "LayoutView",
            "align_content": null,
            "align_items": null,
            "align_self": null,
            "border": null,
            "bottom": null,
            "display": null,
            "flex": null,
            "flex_flow": null,
            "grid_area": null,
            "grid_auto_columns": null,
            "grid_auto_flow": null,
            "grid_auto_rows": null,
            "grid_column": null,
            "grid_gap": null,
            "grid_row": null,
            "grid_template_areas": null,
            "grid_template_columns": null,
            "grid_template_rows": null,
            "height": null,
            "justify_content": null,
            "justify_items": null,
            "left": null,
            "margin": null,
            "max_height": null,
            "max_width": null,
            "min_height": null,
            "min_width": null,
            "object_fit": null,
            "object_position": null,
            "order": null,
            "overflow": null,
            "overflow_x": null,
            "overflow_y": null,
            "padding": null,
            "right": null,
            "top": null,
            "visibility": null,
            "width": null
          }
        },
        "f02809eb73424e4dbcd6c11275a1bd25": {
          "model_module": "@jupyter-widgets/controls",
          "model_name": "TabModel",
          "model_module_version": "1.5.0",
          "state": {
            "_dom_classes": [],
            "_model_module": "@jupyter-widgets/controls",
            "_model_module_version": "1.5.0",
            "_model_name": "TabModel",
            "_titles": {
              "0": "Youtube",
              "1": "Bilibili"
            },
            "_view_count": null,
            "_view_module": "@jupyter-widgets/controls",
            "_view_module_version": "1.5.0",
            "_view_name": "TabView",
            "box_style": "",
            "children": [
              "IPY_MODEL_7c97e59d45344dfba87034f95614199f",
              "IPY_MODEL_3d0ad5b05fe84479b073db89ace8d318"
            ],
            "layout": "IPY_MODEL_fdd4f0b846c34093b57673fb09cc5d30",
            "selected_index": 0
          }
        },
        "7c97e59d45344dfba87034f95614199f": {
          "model_module": "@jupyter-widgets/output",
          "model_name": "OutputModel",
          "model_module_version": "1.0.0",
          "state": {
            "_dom_classes": [],
            "_model_module": "@jupyter-widgets/output",
            "_model_module_version": "1.0.0",
            "_model_name": "OutputModel",
            "_view_count": null,
            "_view_module": "@jupyter-widgets/output",
            "_view_module_version": "1.0.0",
            "_view_name": "OutputView",
            "layout": "IPY_MODEL_0b01bfdda33448b4b87cc6a1c25220d2",
            "msg_id": "",
            "outputs": [
              {
                "output_type": "stream",
                "name": "stdout",
                "text": [
                  "Video available at https://youtube.com/watch?v=nssSiCmbjxw\n"
                ]
              },
              {
                "output_type": "display_data",
                "data": {
                  "text/plain": "<IPython.lib.display.YouTubeVideo at 0x7f98a41b6380>",
                  "text/html": "\n        <iframe\n            width=\"854\"\n            height=\"480\"\n            src=\"https://www.youtube.com/embed/nssSiCmbjxw?fs=1&rel=0\"\n            frameborder=\"0\"\n            allowfullscreen\n            \n        ></iframe>\n        ",
                  "image/jpeg": "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\n"
                },
                "metadata": {}
              }
            ]
          }
        },
        "3d0ad5b05fe84479b073db89ace8d318": {
          "model_module": "@jupyter-widgets/output",
          "model_name": "OutputModel",
          "model_module_version": "1.0.0",
          "state": {
            "_dom_classes": [],
            "_model_module": "@jupyter-widgets/output",
            "_model_module_version": "1.0.0",
            "_model_name": "OutputModel",
            "_view_count": null,
            "_view_module": "@jupyter-widgets/output",
            "_view_module_version": "1.0.0",
            "_view_name": "OutputView",
            "layout": "IPY_MODEL_c02259c504c34171b0c6acb20a7d1b55",
            "msg_id": "",
            "outputs": [
              {
                "output_type": "stream",
                "name": "stdout",
                "text": [
                  "Video available at https://www.bilibili.com/video/BV1nX4y1w71n\n"
                ]
              },
              {
                "output_type": "display_data",
                "data": {
                  "text/plain": "<__main__.PlayVideo at 0x7f98a41b7af0>",
                  "text/html": "\n        <iframe\n            width=\"854\"\n            height=\"480\"\n            src=\"https://player.bilibili.com/player.html?bvid=BV1nX4y1w71n&page=1?fs=1&autoplay=False\"\n            frameborder=\"0\"\n            allowfullscreen\n            \n        ></iframe>\n        "
                },
                "metadata": {}
              }
            ]
          }
        },
        "fdd4f0b846c34093b57673fb09cc5d30": {
          "model_module": "@jupyter-widgets/base",
          "model_name": "LayoutModel",
          "model_module_version": "1.2.0",
          "state": {
            "_model_module": "@jupyter-widgets/base",
            "_model_module_version": "1.2.0",
            "_model_name": "LayoutModel",
            "_view_count": null,
            "_view_module": "@jupyter-widgets/base",
            "_view_module_version": "1.2.0",
            "_view_name": "LayoutView",
            "align_content": null,
            "align_items": null,
            "align_self": null,
            "border": null,
            "bottom": null,
            "display": null,
            "flex": null,
            "flex_flow": null,
            "grid_area": null,
            "grid_auto_columns": null,
            "grid_auto_flow": null,
            "grid_auto_rows": null,
            "grid_column": null,
            "grid_gap": null,
            "grid_row": null,
            "grid_template_areas": null,
            "grid_template_columns": null,
            "grid_template_rows": null,
            "height": null,
            "justify_content": null,
            "justify_items": null,
            "left": null,
            "margin": null,
            "max_height": null,
            "max_width": null,
            "min_height": null,
            "min_width": null,
            "object_fit": null,
            "object_position": null,
            "order": null,
            "overflow": null,
            "overflow_x": null,
            "overflow_y": null,
            "padding": null,
            "right": null,
            "top": null,
            "visibility": null,
            "width": null
          }
        },
        "0b01bfdda33448b4b87cc6a1c25220d2": {
          "model_module": "@jupyter-widgets/base",
          "model_name": "LayoutModel",
          "model_module_version": "1.2.0",
          "state": {
            "_model_module": "@jupyter-widgets/base",
            "_model_module_version": "1.2.0",
            "_model_name": "LayoutModel",
            "_view_count": null,
            "_view_module": "@jupyter-widgets/base",
            "_view_module_version": "1.2.0",
            "_view_name": "LayoutView",
            "align_content": null,
            "align_items": null,
            "align_self": null,
            "border": null,
            "bottom": null,
            "display": null,
            "flex": null,
            "flex_flow": null,
            "grid_area": null,
            "grid_auto_columns": null,
            "grid_auto_flow": null,
            "grid_auto_rows": null,
            "grid_column": null,
            "grid_gap": null,
            "grid_row": null,
            "grid_template_areas": null,
            "grid_template_columns": null,
            "grid_template_rows": null,
            "height": null,
            "justify_content": null,
            "justify_items": null,
            "left": null,
            "margin": null,
            "max_height": null,
            "max_width": null,
            "min_height": null,
            "min_width": null,
            "object_fit": null,
            "object_position": null,
            "order": null,
            "overflow": null,
            "overflow_x": null,
            "overflow_y": null,
            "padding": null,
            "right": null,
            "top": null,
            "visibility": null,
            "width": null
          }
        },
        "c02259c504c34171b0c6acb20a7d1b55": {
          "model_module": "@jupyter-widgets/base",
          "model_name": "LayoutModel",
          "model_module_version": "1.2.0",
          "state": {
            "_model_module": "@jupyter-widgets/base",
            "_model_module_version": "1.2.0",
            "_model_name": "LayoutModel",
            "_view_count": null,
            "_view_module": "@jupyter-widgets/base",
            "_view_module_version": "1.2.0",
            "_view_name": "LayoutView",
            "align_content": null,
            "align_items": null,
            "align_self": null,
            "border": null,
            "bottom": null,
            "display": null,
            "flex": null,
            "flex_flow": null,
            "grid_area": null,
            "grid_auto_columns": null,
            "grid_auto_flow": null,
            "grid_auto_rows": null,
            "grid_column": null,
            "grid_gap": null,
            "grid_row": null,
            "grid_template_areas": null,
            "grid_template_columns": null,
            "grid_template_rows": null,
            "height": null,
            "justify_content": null,
            "justify_items": null,
            "left": null,
            "margin": null,
            "max_height": null,
            "max_width": null,
            "min_height": null,
            "min_width": null,
            "object_fit": null,
            "object_position": null,
            "order": null,
            "overflow": null,
            "overflow_x": null,
            "overflow_y": null,
            "padding": null,
            "right": null,
            "top": null,
            "visibility": null,
            "width": null
          }
        },
        "e08f48f9795c4872826978462d39c7da": {
          "model_module": "@jupyter-widgets/controls",
          "model_name": "TabModel",
          "model_module_version": "1.5.0",
          "state": {
            "_dom_classes": [],
            "_model_module": "@jupyter-widgets/controls",
            "_model_module_version": "1.5.0",
            "_model_name": "TabModel",
            "_titles": {
              "0": "Youtube",
              "1": "Bilibili"
            },
            "_view_count": null,
            "_view_module": "@jupyter-widgets/controls",
            "_view_module_version": "1.5.0",
            "_view_name": "TabView",
            "box_style": "",
            "children": [
              "IPY_MODEL_ead9fe4c100a43fd88d12850b4031c5a",
              "IPY_MODEL_0f8316956e5a48f0aab81aa26508aa81"
            ],
            "layout": "IPY_MODEL_2197bdfbb0a146f1bb1278e2b0055261",
            "selected_index": 0
          }
        },
        "ead9fe4c100a43fd88d12850b4031c5a": {
          "model_module": "@jupyter-widgets/output",
          "model_name": "OutputModel",
          "model_module_version": "1.0.0",
          "state": {
            "_dom_classes": [],
            "_model_module": "@jupyter-widgets/output",
            "_model_module_version": "1.0.0",
            "_model_name": "OutputModel",
            "_view_count": null,
            "_view_module": "@jupyter-widgets/output",
            "_view_module_version": "1.0.0",
            "_view_name": "OutputView",
            "layout": "IPY_MODEL_b794389e22cb40418bbb27aa333d2899",
            "msg_id": "",
            "outputs": [
              {
                "output_type": "stream",
                "name": "stdout",
                "text": [
                  "Video available at https://youtube.com/watch?v=TID48cMcneo\n"
                ]
              },
              {
                "output_type": "display_data",
                "data": {
                  "text/plain": "<IPython.lib.display.YouTubeVideo at 0x7f98a4c7cb50>",
                  "text/html": "\n        <iframe\n            width=\"854\"\n            height=\"480\"\n            src=\"https://www.youtube.com/embed/TID48cMcneo?fs=1&rel=0\"\n            frameborder=\"0\"\n            allowfullscreen\n            \n        ></iframe>\n        ",
                  "image/jpeg": "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\n"
                },
                "metadata": {}
              }
            ]
          }
        },
        "0f8316956e5a48f0aab81aa26508aa81": {
          "model_module": "@jupyter-widgets/output",
          "model_name": "OutputModel",
          "model_module_version": "1.0.0",
          "state": {
            "_dom_classes": [],
            "_model_module": "@jupyter-widgets/output",
            "_model_module_version": "1.0.0",
            "_model_name": "OutputModel",
            "_view_count": null,
            "_view_module": "@jupyter-widgets/output",
            "_view_module_version": "1.0.0",
            "_view_name": "OutputView",
            "layout": "IPY_MODEL_8ebcd3de778e4834ac6fe144c125fb87",
            "msg_id": "",
            "outputs": [
              {
                "output_type": "stream",
                "name": "stdout",
                "text": [
                  "Video available at https://www.bilibili.com/video/BV1xy4y1K7bf\n"
                ]
              },
              {
                "output_type": "display_data",
                "data": {
                  "text/plain": "<__main__.PlayVideo at 0x7f98a4c7cd00>",
                  "text/html": "\n        <iframe\n            width=\"854\"\n            height=\"480\"\n            src=\"https://player.bilibili.com/player.html?bvid=BV1xy4y1K7bf&page=1?fs=1&autoplay=False\"\n            frameborder=\"0\"\n            allowfullscreen\n            \n        ></iframe>\n        "
                },
                "metadata": {}
              }
            ]
          }
        },
        "2197bdfbb0a146f1bb1278e2b0055261": {
          "model_module": "@jupyter-widgets/base",
          "model_name": "LayoutModel",
          "model_module_version": "1.2.0",
          "state": {
            "_model_module": "@jupyter-widgets/base",
            "_model_module_version": "1.2.0",
            "_model_name": "LayoutModel",
            "_view_count": null,
            "_view_module": "@jupyter-widgets/base",
            "_view_module_version": "1.2.0",
            "_view_name": "LayoutView",
            "align_content": null,
            "align_items": null,
            "align_self": null,
            "border": null,
            "bottom": null,
            "display": null,
            "flex": null,
            "flex_flow": null,
            "grid_area": null,
            "grid_auto_columns": null,
            "grid_auto_flow": null,
            "grid_auto_rows": null,
            "grid_column": null,
            "grid_gap": null,
            "grid_row": null,
            "grid_template_areas": null,
            "grid_template_columns": null,
            "grid_template_rows": null,
            "height": null,
            "justify_content": null,
            "justify_items": null,
            "left": null,
            "margin": null,
            "max_height": null,
            "max_width": null,
            "min_height": null,
            "min_width": null,
            "object_fit": null,
            "object_position": null,
            "order": null,
            "overflow": null,
            "overflow_x": null,
            "overflow_y": null,
            "padding": null,
            "right": null,
            "top": null,
            "visibility": null,
            "width": null
          }
        },
        "b794389e22cb40418bbb27aa333d2899": {
          "model_module": "@jupyter-widgets/base",
          "model_name": "LayoutModel",
          "model_module_version": "1.2.0",
          "state": {
            "_model_module": "@jupyter-widgets/base",
            "_model_module_version": "1.2.0",
            "_model_name": "LayoutModel",
            "_view_count": null,
            "_view_module": "@jupyter-widgets/base",
            "_view_module_version": "1.2.0",
            "_view_name": "LayoutView",
            "align_content": null,
            "align_items": null,
            "align_self": null,
            "border": null,
            "bottom": null,
            "display": null,
            "flex": null,
            "flex_flow": null,
            "grid_area": null,
            "grid_auto_columns": null,
            "grid_auto_flow": null,
            "grid_auto_rows": null,
            "grid_column": null,
            "grid_gap": null,
            "grid_row": null,
            "grid_template_areas": null,
            "grid_template_columns": null,
            "grid_template_rows": null,
            "height": null,
            "justify_content": null,
            "justify_items": null,
            "left": null,
            "margin": null,
            "max_height": null,
            "max_width": null,
            "min_height": null,
            "min_width": null,
            "object_fit": null,
            "object_position": null,
            "order": null,
            "overflow": null,
            "overflow_x": null,
            "overflow_y": null,
            "padding": null,
            "right": null,
            "top": null,
            "visibility": null,
            "width": null
          }
        },
        "8ebcd3de778e4834ac6fe144c125fb87": {
          "model_module": "@jupyter-widgets/base",
          "model_name": "LayoutModel",
          "model_module_version": "1.2.0",
          "state": {
            "_model_module": "@jupyter-widgets/base",
            "_model_module_version": "1.2.0",
            "_model_name": "LayoutModel",
            "_view_count": null,
            "_view_module": "@jupyter-widgets/base",
            "_view_module_version": "1.2.0",
            "_view_name": "LayoutView",
            "align_content": null,
            "align_items": null,
            "align_self": null,
            "border": null,
            "bottom": null,
            "display": null,
            "flex": null,
            "flex_flow": null,
            "grid_area": null,
            "grid_auto_columns": null,
            "grid_auto_flow": null,
            "grid_auto_rows": null,
            "grid_column": null,
            "grid_gap": null,
            "grid_row": null,
            "grid_template_areas": null,
            "grid_template_columns": null,
            "grid_template_rows": null,
            "height": null,
            "justify_content": null,
            "justify_items": null,
            "left": null,
            "margin": null,
            "max_height": null,
            "max_width": null,
            "min_height": null,
            "min_width": null,
            "object_fit": null,
            "object_position": null,
            "order": null,
            "overflow": null,
            "overflow_x": null,
            "overflow_y": null,
            "padding": null,
            "right": null,
            "top": null,
            "visibility": null,
            "width": null
          }
        },
        "a22ce3fec6e240a48cb6910e73af75aa": {
          "model_module": "@jupyter-widgets/controls",
          "model_name": "TabModel",
          "model_module_version": "1.5.0",
          "state": {
            "_dom_classes": [],
            "_model_module": "@jupyter-widgets/controls",
            "_model_module_version": "1.5.0",
            "_model_name": "TabModel",
            "_titles": {
              "0": "Youtube",
              "1": "Bilibili"
            },
            "_view_count": null,
            "_view_module": "@jupyter-widgets/controls",
            "_view_module_version": "1.5.0",
            "_view_name": "TabView",
            "box_style": "",
            "children": [
              "IPY_MODEL_399dc583732d49af82e13b109f021b5a",
              "IPY_MODEL_bd31d659a16e42a8a65308f304b34cdf"
            ],
            "layout": "IPY_MODEL_278eddf43fe4473c9efd784be9b6832e",
            "selected_index": 0
          }
        },
        "399dc583732d49af82e13b109f021b5a": {
          "model_module": "@jupyter-widgets/output",
          "model_name": "OutputModel",
          "model_module_version": "1.0.0",
          "state": {
            "_dom_classes": [],
            "_model_module": "@jupyter-widgets/output",
            "_model_module_version": "1.0.0",
            "_model_name": "OutputModel",
            "_view_count": null,
            "_view_module": "@jupyter-widgets/output",
            "_view_module_version": "1.0.0",
            "_view_name": "OutputView",
            "layout": "IPY_MODEL_73891d25ea8c47c1ba84f5fb43792d7a",
            "msg_id": "",
            "outputs": [
              {
                "output_type": "stream",
                "name": "stdout",
                "text": [
                  "Video available at https://youtube.com/watch?v=7NggvUlobQQ\n"
                ]
              },
              {
                "output_type": "display_data",
                "data": {
                  "text/plain": "<IPython.lib.display.YouTubeVideo at 0x7f98a41b4ee0>",
                  "text/html": "\n        <iframe\n            width=\"854\"\n            height=\"480\"\n            src=\"https://www.youtube.com/embed/7NggvUlobQQ?fs=1&rel=0\"\n            frameborder=\"0\"\n            allowfullscreen\n            \n        ></iframe>\n        ",
                  "image/jpeg": "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\n"
                },
                "metadata": {}
              }
            ]
          }
        },
        "bd31d659a16e42a8a65308f304b34cdf": {
          "model_module": "@jupyter-widgets/output",
          "model_name": "OutputModel",
          "model_module_version": "1.0.0",
          "state": {
            "_dom_classes": [],
            "_model_module": "@jupyter-widgets/output",
            "_model_module_version": "1.0.0",
            "_model_name": "OutputModel",
            "_view_count": null,
            "_view_module": "@jupyter-widgets/output",
            "_view_module_version": "1.0.0",
            "_view_name": "OutputView",
            "layout": "IPY_MODEL_5526111da895486987b0b578a7cd95ca",
            "msg_id": "",
            "outputs": [
              {
                "output_type": "stream",
                "name": "stdout",
                "text": [
                  "Video available at https://www.bilibili.com/video/BV1vV411W7EJ\n"
                ]
              },
              {
                "output_type": "display_data",
                "data": {
                  "text/plain": "<__main__.PlayVideo at 0x7f98a41b4f10>",
                  "text/html": "\n        <iframe\n            width=\"854\"\n            height=\"480\"\n            src=\"https://player.bilibili.com/player.html?bvid=BV1vV411W7EJ&page=1?fs=1&autoplay=False\"\n            frameborder=\"0\"\n            allowfullscreen\n            \n        ></iframe>\n        "
                },
                "metadata": {}
              }
            ]
          }
        },
        "278eddf43fe4473c9efd784be9b6832e": {
          "model_module": "@jupyter-widgets/base",
          "model_name": "LayoutModel",
          "model_module_version": "1.2.0",
          "state": {
            "_model_module": "@jupyter-widgets/base",
            "_model_module_version": "1.2.0",
            "_model_name": "LayoutModel",
            "_view_count": null,
            "_view_module": "@jupyter-widgets/base",
            "_view_module_version": "1.2.0",
            "_view_name": "LayoutView",
            "align_content": null,
            "align_items": null,
            "align_self": null,
            "border": null,
            "bottom": null,
            "display": null,
            "flex": null,
            "flex_flow": null,
            "grid_area": null,
            "grid_auto_columns": null,
            "grid_auto_flow": null,
            "grid_auto_rows": null,
            "grid_column": null,
            "grid_gap": null,
            "grid_row": null,
            "grid_template_areas": null,
            "grid_template_columns": null,
            "grid_template_rows": null,
            "height": null,
            "justify_content": null,
            "justify_items": null,
            "left": null,
            "margin": null,
            "max_height": null,
            "max_width": null,
            "min_height": null,
            "min_width": null,
            "object_fit": null,
            "object_position": null,
            "order": null,
            "overflow": null,
            "overflow_x": null,
            "overflow_y": null,
            "padding": null,
            "right": null,
            "top": null,
            "visibility": null,
            "width": null
          }
        },
        "73891d25ea8c47c1ba84f5fb43792d7a": {
          "model_module": "@jupyter-widgets/base",
          "model_name": "LayoutModel",
          "model_module_version": "1.2.0",
          "state": {
            "_model_module": "@jupyter-widgets/base",
            "_model_module_version": "1.2.0",
            "_model_name": "LayoutModel",
            "_view_count": null,
            "_view_module": "@jupyter-widgets/base",
            "_view_module_version": "1.2.0",
            "_view_name": "LayoutView",
            "align_content": null,
            "align_items": null,
            "align_self": null,
            "border": null,
            "bottom": null,
            "display": null,
            "flex": null,
            "flex_flow": null,
            "grid_area": null,
            "grid_auto_columns": null,
            "grid_auto_flow": null,
            "grid_auto_rows": null,
            "grid_column": null,
            "grid_gap": null,
            "grid_row": null,
            "grid_template_areas": null,
            "grid_template_columns": null,
            "grid_template_rows": null,
            "height": null,
            "justify_content": null,
            "justify_items": null,
            "left": null,
            "margin": null,
            "max_height": null,
            "max_width": null,
            "min_height": null,
            "min_width": null,
            "object_fit": null,
            "object_position": null,
            "order": null,
            "overflow": null,
            "overflow_x": null,
            "overflow_y": null,
            "padding": null,
            "right": null,
            "top": null,
            "visibility": null,
            "width": null
          }
        },
        "5526111da895486987b0b578a7cd95ca": {
          "model_module": "@jupyter-widgets/base",
          "model_name": "LayoutModel",
          "model_module_version": "1.2.0",
          "state": {
            "_model_module": "@jupyter-widgets/base",
            "_model_module_version": "1.2.0",
            "_model_name": "LayoutModel",
            "_view_count": null,
            "_view_module": "@jupyter-widgets/base",
            "_view_module_version": "1.2.0",
            "_view_name": "LayoutView",
            "align_content": null,
            "align_items": null,
            "align_self": null,
            "border": null,
            "bottom": null,
            "display": null,
            "flex": null,
            "flex_flow": null,
            "grid_area": null,
            "grid_auto_columns": null,
            "grid_auto_flow": null,
            "grid_auto_rows": null,
            "grid_column": null,
            "grid_gap": null,
            "grid_row": null,
            "grid_template_areas": null,
            "grid_template_columns": null,
            "grid_template_rows": null,
            "height": null,
            "justify_content": null,
            "justify_items": null,
            "left": null,
            "margin": null,
            "max_height": null,
            "max_width": null,
            "min_height": null,
            "min_width": null,
            "object_fit": null,
            "object_position": null,
            "order": null,
            "overflow": null,
            "overflow_x": null,
            "overflow_y": null,
            "padding": null,
            "right": null,
            "top": null,
            "visibility": null,
            "width": null
          }
        },
        "c642ee6186bd44f2b5476b0cf52df172": {
          "model_module": "@jupyter-widgets/controls",
          "model_name": "TabModel",
          "model_module_version": "1.5.0",
          "state": {
            "_dom_classes": [],
            "_model_module": "@jupyter-widgets/controls",
            "_model_module_version": "1.5.0",
            "_model_name": "TabModel",
            "_titles": {
              "0": "Youtube",
              "1": "Bilibili"
            },
            "_view_count": null,
            "_view_module": "@jupyter-widgets/controls",
            "_view_module_version": "1.5.0",
            "_view_name": "TabView",
            "box_style": "",
            "children": [
              "IPY_MODEL_4dd2211a241a44f5ba4cd4069741954f",
              "IPY_MODEL_0303423c95c948f08e8227ec9d1866d4"
            ],
            "layout": "IPY_MODEL_b51249324d4145d6bde13e30138dbda8",
            "selected_index": 0
          }
        },
        "4dd2211a241a44f5ba4cd4069741954f": {
          "model_module": "@jupyter-widgets/output",
          "model_name": "OutputModel",
          "model_module_version": "1.0.0",
          "state": {
            "_dom_classes": [],
            "_model_module": "@jupyter-widgets/output",
            "_model_module_version": "1.0.0",
            "_model_name": "OutputModel",
            "_view_count": null,
            "_view_module": "@jupyter-widgets/output",
            "_view_module_version": "1.0.0",
            "_view_name": "OutputView",
            "layout": "IPY_MODEL_ad9625f40cc34b38b65cb3655c064048",
            "msg_id": "",
            "outputs": [
              {
                "output_type": "stream",
                "name": "stdout",
                "text": [
                  "Video available at https://youtube.com/watch?v=I3_nA_6mq1g\n"
                ]
              },
              {
                "output_type": "display_data",
                "data": {
                  "text/plain": "<IPython.lib.display.YouTubeVideo at 0x7f98a4d53e80>",
                  "text/html": "\n        <iframe\n            width=\"854\"\n            height=\"480\"\n            src=\"https://www.youtube.com/embed/I3_nA_6mq1g?fs=1&rel=0\"\n            frameborder=\"0\"\n            allowfullscreen\n            \n        ></iframe>\n        ",
                  "image/jpeg": "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\n"
                },
                "metadata": {}
              }
            ]
          }
        },
        "0303423c95c948f08e8227ec9d1866d4": {
          "model_module": "@jupyter-widgets/output",
          "model_name": "OutputModel",
          "model_module_version": "1.0.0",
          "state": {
            "_dom_classes": [],
            "_model_module": "@jupyter-widgets/output",
            "_model_module_version": "1.0.0",
            "_model_name": "OutputModel",
            "_view_count": null,
            "_view_module": "@jupyter-widgets/output",
            "_view_module_version": "1.0.0",
            "_view_name": "OutputView",
            "layout": "IPY_MODEL_83357a402fee443cb10e1457116e6574",
            "msg_id": "",
            "outputs": [
              {
                "output_type": "stream",
                "name": "stdout",
                "text": [
                  "Video available at https://www.bilibili.com/video/BV1xy4y1K72n\n"
                ]
              },
              {
                "output_type": "display_data",
                "data": {
                  "text/plain": "<__main__.PlayVideo at 0x7f98a765dab0>",
                  "text/html": "\n        <iframe\n            width=\"854\"\n            height=\"480\"\n            src=\"https://player.bilibili.com/player.html?bvid=BV1xy4y1K72n&page=1?fs=1&autoplay=False\"\n            frameborder=\"0\"\n            allowfullscreen\n            \n        ></iframe>\n        "
                },
                "metadata": {}
              }
            ]
          }
        },
        "b51249324d4145d6bde13e30138dbda8": {
          "model_module": "@jupyter-widgets/base",
          "model_name": "LayoutModel",
          "model_module_version": "1.2.0",
          "state": {
            "_model_module": "@jupyter-widgets/base",
            "_model_module_version": "1.2.0",
            "_model_name": "LayoutModel",
            "_view_count": null,
            "_view_module": "@jupyter-widgets/base",
            "_view_module_version": "1.2.0",
            "_view_name": "LayoutView",
            "align_content": null,
            "align_items": null,
            "align_self": null,
            "border": null,
            "bottom": null,
            "display": null,
            "flex": null,
            "flex_flow": null,
            "grid_area": null,
            "grid_auto_columns": null,
            "grid_auto_flow": null,
            "grid_auto_rows": null,
            "grid_column": null,
            "grid_gap": null,
            "grid_row": null,
            "grid_template_areas": null,
            "grid_template_columns": null,
            "grid_template_rows": null,
            "height": null,
            "justify_content": null,
            "justify_items": null,
            "left": null,
            "margin": null,
            "max_height": null,
            "max_width": null,
            "min_height": null,
            "min_width": null,
            "object_fit": null,
            "object_position": null,
            "order": null,
            "overflow": null,
            "overflow_x": null,
            "overflow_y": null,
            "padding": null,
            "right": null,
            "top": null,
            "visibility": null,
            "width": null
          }
        },
        "ad9625f40cc34b38b65cb3655c064048": {
          "model_module": "@jupyter-widgets/base",
          "model_name": "LayoutModel",
          "model_module_version": "1.2.0",
          "state": {
            "_model_module": "@jupyter-widgets/base",
            "_model_module_version": "1.2.0",
            "_model_name": "LayoutModel",
            "_view_count": null,
            "_view_module": "@jupyter-widgets/base",
            "_view_module_version": "1.2.0",
            "_view_name": "LayoutView",
            "align_content": null,
            "align_items": null,
            "align_self": null,
            "border": null,
            "bottom": null,
            "display": null,
            "flex": null,
            "flex_flow": null,
            "grid_area": null,
            "grid_auto_columns": null,
            "grid_auto_flow": null,
            "grid_auto_rows": null,
            "grid_column": null,
            "grid_gap": null,
            "grid_row": null,
            "grid_template_areas": null,
            "grid_template_columns": null,
            "grid_template_rows": null,
            "height": null,
            "justify_content": null,
            "justify_items": null,
            "left": null,
            "margin": null,
            "max_height": null,
            "max_width": null,
            "min_height": null,
            "min_width": null,
            "object_fit": null,
            "object_position": null,
            "order": null,
            "overflow": null,
            "overflow_x": null,
            "overflow_y": null,
            "padding": null,
            "right": null,
            "top": null,
            "visibility": null,
            "width": null
          }
        },
        "83357a402fee443cb10e1457116e6574": {
          "model_module": "@jupyter-widgets/base",
          "model_name": "LayoutModel",
          "model_module_version": "1.2.0",
          "state": {
            "_model_module": "@jupyter-widgets/base",
            "_model_module_version": "1.2.0",
            "_model_name": "LayoutModel",
            "_view_count": null,
            "_view_module": "@jupyter-widgets/base",
            "_view_module_version": "1.2.0",
            "_view_name": "LayoutView",
            "align_content": null,
            "align_items": null,
            "align_self": null,
            "border": null,
            "bottom": null,
            "display": null,
            "flex": null,
            "flex_flow": null,
            "grid_area": null,
            "grid_auto_columns": null,
            "grid_auto_flow": null,
            "grid_auto_rows": null,
            "grid_column": null,
            "grid_gap": null,
            "grid_row": null,
            "grid_template_areas": null,
            "grid_template_columns": null,
            "grid_template_rows": null,
            "height": null,
            "justify_content": null,
            "justify_items": null,
            "left": null,
            "margin": null,
            "max_height": null,
            "max_width": null,
            "min_height": null,
            "min_width": null,
            "object_fit": null,
            "object_position": null,
            "order": null,
            "overflow": null,
            "overflow_x": null,
            "overflow_y": null,
            "padding": null,
            "right": null,
            "top": null,
            "visibility": null,
            "width": null
          }
        }
      }
    }
  },
  "nbformat": 4,
  "nbformat_minor": 0
}