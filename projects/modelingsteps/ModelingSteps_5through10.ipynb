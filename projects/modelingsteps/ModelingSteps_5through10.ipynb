{
 "cells": [
  {
   "cell_type": "markdown",
   "metadata": {
    "colab_type": "text",
    "execution": {},
    "id": "view-in-github"
   },
   "source": [
    "<a href=\"https://colab.research.google.com/github/NeuromatchAcademy/course-content/blob/main/projects/modelingsteps/ModelingSteps_5through10.ipynb\" target=\"_parent\"><img src=\"https://colab.research.google.com/assets/colab-badge.svg\" alt=\"Open In Colab\"/></a> &nbsp; <a href=\"https://kaggle.com/kernels/welcome?src=https://raw.githubusercontent.com/NeuromatchAcademy/course-content/main/projects/modelingsteps/ModelingSteps_5through10.ipynb\" target=\"_parent\"><img src=\"https://kaggle.com/static/images/open-in-kaggle.svg\" alt=\"Open in Kaggle\"/></a>"
   ]
  },
  {
   "cell_type": "markdown",
   "metadata": {
    "execution": {}
   },
   "source": [
    "# Modeling Steps 5 - 10\n",
    "\n",
    "**Project guidance**\n",
    "\n",
    "__Content creators:__ Marius 't Hart, Megan Peters, Paul Schrater,  Jean Laurens, Gunnar Blohm\n",
    "\n",
    "__Production editors:__ Ella Batty"
   ]
  },
  {
   "cell_type": "markdown",
   "metadata": {
    "execution": {}
   },
   "source": [
    "---\n",
    "# Objectives\n",
    "\n",
    "This notebook contains the remaining steps of the how-to-model guide.\n",
    "\n",
    "**Implementing the model**\n",
    "5. Toolkit selection\n",
    "6. Planning the model\n",
    "7. Implementing the model\n",
    "\n",
    "**Model testing**\n",
    "8. Completing the model\n",
    "9. Testing and evaluating the model\n",
    "\n",
    "**Publishing**\n",
    "10. Publishing models\n",
    "\n",
    "Please see Steps 1 - 4 [here](https://compneuro.neuromatch.io/projects/modelingsteps/ModelingSteps_1through4.html) first (or in the Modeling Steps section of the Project Booklet). We do not cover the two example projects in tabs here because you will want to dive into the code in the full project notebooks [here](https://compneuro.neuromatch.io/projects/modelingsteps/TrainIllustionModel.html) and [here](https://compneuro.neuromatch.io/projects/modelingsteps/TrainIllusionDataProject.html) (or in the Modeling Steps section of the Project Booklet)."
   ]
  },
  {
   "cell_type": "markdown",
   "metadata": {
    "execution": {}
   },
   "source": [
    "----\n",
    "# Step 5: Selecting the toolkit\n",
    "\n",
    "\n",
    "\n",
    "\n"
   ]
  },
  {
   "cell_type": "code",
   "execution_count": null,
   "metadata": {
    "cellView": "form",
    "execution": {}
   },
   "outputs": [
    {
     "data": {
      "application/vnd.jupyter.widget-view+json": {
       "model_id": "47211b52b5fc432ab02a559688390073",
       "version_major": 2,
       "version_minor": 0
      },
      "text/plain": [
       "Tab(children=(Output(), Output()), selected_index=0, titles=('Youtube', 'Bilibili'))"
      ]
     },
     "metadata": {},
     "output_type": "display_data"
    }
   ],
   "source": [
    "# @title Video 6: Selecting the toolkit\n",
    "from ipywidgets import widgets\n",
    "from IPython.display import YouTubeVideo\n",
    "from IPython.display import IFrame\n",
    "from IPython.display import display\n",
    "\n",
    "\n",
    "class PlayVideo(IFrame):\n",
    "  def __init__(self, id, source, page=1, width=400, height=300, **kwargs):\n",
    "    self.id = id\n",
    "    if source == 'Bilibili':\n",
    "      src = f'https://player.bilibili.com/player.html?bvid={id}&page={page}'\n",
    "    elif source == 'Osf':\n",
    "      src = f'https://mfr.ca-1.osf.io/render?url=https://osf.io/download/{id}/?direct%26mode=render'\n",
    "    super(PlayVideo, self).__init__(src, width, height, **kwargs)\n",
    "\n",
    "\n",
    "def display_videos(video_ids, W=400, H=300, fs=1):\n",
    "  tab_contents = []\n",
    "  for i, video_id in enumerate(video_ids):\n",
    "    out = widgets.Output()\n",
    "    with out:\n",
    "      if video_ids[i][0] == 'Youtube':\n",
    "        video = YouTubeVideo(id=video_ids[i][1], width=W,\n",
    "                             height=H, fs=fs, rel=0)\n",
    "        print(f'Video available at https://youtube.com/watch?v={video.id}')\n",
    "      else:\n",
    "        video = PlayVideo(id=video_ids[i][1], source=video_ids[i][0], width=W,\n",
    "                          height=H, fs=fs, autoplay=False)\n",
    "        if video_ids[i][0] == 'Bilibili':\n",
    "          print(f'Video available at https://www.bilibili.com/video/{video.id}')\n",
    "        elif video_ids[i][0] == 'Osf':\n",
    "          print(f'Video available at https://osf.io/{video.id}')\n",
    "      display(video)\n",
    "    tab_contents.append(out)\n",
    "  return tab_contents\n",
    "\n",
    "\n",
    "video_ids = [('Youtube', 'q5_c18Kxx0k'), ('Bilibili', 'BV1CB4y1T7Uv')]\n",
    "tab_contents = display_videos(video_ids, W=854, H=480)\n",
    "tabs = widgets.Tab()\n",
    "tabs.children = tab_contents\n",
    "for i in range(len(tab_contents)):\n",
    "  tabs.set_title(i, video_ids[i][0])\n",
    "display(tabs)"
   ]
  },
  {
   "cell_type": "markdown",
   "metadata": {
    "execution": {}
   },
   "source": [
    "Once you have completed Steps 1-4 to your satisfaction, you are now ready to model. You have a specific question, a goal in mind, and precise hypotheses expressed in mathematical language. All these components will empower you to chose an appropriate modeling approach.\n",
    "\n",
    "In selecting the right toolkit, i.e. the right mathematics, computer science, engineering, or physics, etc approaches, you should consider the following important rules:\n",
    "1. Determine the level of abstraction\n",
    "2. Select the toolkit that best represents the ingredients and hypotheses\n",
    "3. Toolkit should express all needed relationships, mechanisms and concepts\n",
    "4. Keep it as simple as possible!\n",
    "\n",
    "**Guiding questions**:\n",
    "* What is the most appropriate approach to answer your question?\n",
    "  * What level of abstraction is needed?\n",
    "  * Determine granularity / scale based on hypotheses & goals\n",
    "  * Stay as high-level as possible, but be as detailed as needed!!!\n",
    "* Select the toolkit\n",
    "  * Requires prior knowledge about flexibility / limitations of toolkit\n",
    "  * Often more than one option possible\n",
    "  * Some toolkits are more flexible, span a wider range of behaviour and/or are lumpable\n",
    "  * Also determines how the model will be solved, i.e. simulated\n",
    "    * Analytical? Numerical?\n",
    "    * e.g., spatial, temporal resolution?\n",
    "\n",
    "Viewing [modeling as a decision process](https://doi.org/10.1523/ENEURO.0352-19.2019) might help providing clarity regarding different model types, and how framing the problem and stating your goals influences the toolkit selection. Don't be afraid to pursue goals that no one else pursues; [diversity of models should be encouraged](https://nbdt.scholasticahq.com/article/16723-appreciating-the-variety-of-goals-in-computational-neuroscience) because it results in complementary model considerations.\n"
   ]
  },
  {
   "cell_type": "markdown",
   "metadata": {
    "execution": {}
   },
   "source": [
    "**Make sure to avoid the pitfalls!**\n",
    "\n",
    "<details>\n",
    "<summary> <font color='red'>Click here for a recap on pitfalls </font></summary>\n",
    "\n",
    "1. Choosing a toolkit for the toolkit's sake (e.g., DL because it's cool to do deep learning)\n",
    "  - this will prevent you to really answer your research question and/or speak to your hypotheses\n",
    "\n",
    "2. Being at the wrong level of abstraction (see W1D1 intro)\n",
    "  - too complex toolkits will have too many parameters you can't meaningfully constrain, and/or that add needless complexity\n",
    "  - too simple toolkits will lack means to implement the details you care about\n",
    "\n",
    "3. Not knowing any toolkits\n",
    "  - this highlights a lack of literature review and/or background work to learn about the tools used by the field"
   ]
  },
  {
   "cell_type": "markdown",
   "metadata": {
    "execution": {}
   },
   "source": [
    "----\n",
    "# Step 6: Planning / drafting the model\n",
    "\n",
    "\n",
    "\n",
    "\n",
    "\n",
    "\n"
   ]
  },
  {
   "cell_type": "code",
   "execution_count": null,
   "metadata": {
    "cellView": "form",
    "execution": {}
   },
   "outputs": [
    {
     "data": {
      "application/vnd.jupyter.widget-view+json": {
       "model_id": "5317ef2779c24185935425c85e4d9bd0",
       "version_major": 2,
       "version_minor": 0
      },
      "text/plain": [
       "Tab(children=(Output(), Output()), selected_index=0, titles=('Youtube', 'Bilibili'))"
      ]
     },
     "metadata": {},
     "output_type": "display_data"
    }
   ],
   "source": [
    "# @title Video 7: Drafting the modeling\n",
    "from ipywidgets import widgets\n",
    "from IPython.display import YouTubeVideo\n",
    "from IPython.display import IFrame\n",
    "from IPython.display import display\n",
    "\n",
    "\n",
    "class PlayVideo(IFrame):\n",
    "  def __init__(self, id, source, page=1, width=400, height=300, **kwargs):\n",
    "    self.id = id\n",
    "    if source == 'Bilibili':\n",
    "      src = f'https://player.bilibili.com/player.html?bvid={id}&page={page}'\n",
    "    elif source == 'Osf':\n",
    "      src = f'https://mfr.ca-1.osf.io/render?url=https://osf.io/download/{id}/?direct%26mode=render'\n",
    "    super(PlayVideo, self).__init__(src, width, height, **kwargs)\n",
    "\n",
    "\n",
    "def display_videos(video_ids, W=400, H=300, fs=1):\n",
    "  tab_contents = []\n",
    "  for i, video_id in enumerate(video_ids):\n",
    "    out = widgets.Output()\n",
    "    with out:\n",
    "      if video_ids[i][0] == 'Youtube':\n",
    "        video = YouTubeVideo(id=video_ids[i][1], width=W,\n",
    "                             height=H, fs=fs, rel=0)\n",
    "        print(f'Video available at https://youtube.com/watch?v={video.id}')\n",
    "      else:\n",
    "        video = PlayVideo(id=video_ids[i][1], source=video_ids[i][0], width=W,\n",
    "                          height=H, fs=fs, autoplay=False)\n",
    "        if video_ids[i][0] == 'Bilibili':\n",
    "          print(f'Video available at https://www.bilibili.com/video/{video.id}')\n",
    "        elif video_ids[i][0] == 'Osf':\n",
    "          print(f'Video available at https://osf.io/{video.id}')\n",
    "      display(video)\n",
    "    tab_contents.append(out)\n",
    "  return tab_contents\n",
    "\n",
    "\n",
    "video_ids = [('Youtube', 'KrbKjzURlQA'), ('Bilibili', 'BV1R44y1q7RH')]\n",
    "tab_contents = display_videos(video_ids, W=854, H=480)\n",
    "tabs = widgets.Tab()\n",
    "tabs.children = tab_contents\n",
    "for i in range(len(tab_contents)):\n",
    "  tabs.set_title(i, video_ids[i][0])\n",
    "display(tabs)"
   ]
  },
  {
   "cell_type": "markdown",
   "metadata": {
    "execution": {}
   },
   "source": [
    "Planning the model involves thinking about the general outline of the model, its components and how they might fit together. You want to draw a model diagram, make some sketches and formalize necessary equations. This step will thus outline a plan of implementation. Once you have that plan, this will hugely facilitate the actual implementation of the model in computer code.\n",
    "\n",
    "Your model will have:\n",
    "* **inputs**: the values the system has available - this can be broken down into _data_, and _parameters_\n",
    "* **outputs**: these are the predictions our model will make that you could portentially measure (e.g., in your idealized experiment)\n",
    "* **model functions**: A set of functions that perform the hypothesized computations.\n",
    "\n",
    "You will thus need to define a set of functions that take your data and some parameters as input, can run your model, and output a prediction for a hypothetical measurment.\n",
    "\n",
    "**Guiding principles**:\n",
    "* Keep it as simple as possible!\n",
    "* Don't get lost in details\n",
    "* Draft on paper: start with a flow diagram\n",
    "  * Draw out model components (boxes)\n",
    "  * What influences what? (arrows)\n",
    "* Then consider each model box separately\n",
    "  * Draft internal workings in terms of equations\n",
    "  * This might require a lot of work…\n",
    "  * Relate box inputs to box outputs!\n",
    "  * Keep in mind that the model should include a way to relate model variables to measurements\n",
    "  * Use the question, ingredients, and hypotheses to ensure you have all required components\n",
    "\n",
    "**Goal**: Put in place all the components of the hypothesized relationships and explanations."
   ]
  },
  {
   "cell_type": "markdown",
   "metadata": {
    "execution": {}
   },
   "source": [
    "**Make sure to avoid the pitfalls!**\n",
    "\n",
    "<details>\n",
    "<summary> <font color='red'>Click here for a recap on pitfalls </font></summary>\n",
    "\n",
    "1. I don't need to draft the model, I have it clearly in my mind\n",
    "  - you might think you do, but experience shows you're likely missing many important aspects\n",
    "\n",
    "2. I can just make a rough draft\n",
    "  - the more detailed the draft, the easier it will be to implement the model in computer code\n",
    "  - rough drafts tend to forget important details that you need to think about, e.g., signals needed (where do they come from?), parameters to specify (how to constrain them?), etc.\n",
    "\n",
    "4. Draft is too detailed or not detailed enough\n",
    "  - too detailed: you're writing our recursions, etc\n",
    "  - not detailed enough: you have no idea what's inside \"boxes\""
   ]
  },
  {
   "cell_type": "markdown",
   "metadata": {
    "execution": {}
   },
   "source": [
    "----\n",
    "# Step 7: Implementing the model\n",
    "\n",
    "\n"
   ]
  },
  {
   "cell_type": "code",
   "execution_count": null,
   "metadata": {
    "cellView": "form",
    "execution": {}
   },
   "outputs": [
    {
     "data": {
      "application/vnd.jupyter.widget-view+json": {
       "model_id": "e1250877b0f44a57ba06679d6b348ce3",
       "version_major": 2,
       "version_minor": 0
      },
      "text/plain": [
       "Tab(children=(Output(), Output()), selected_index=0, titles=('Youtube', 'Bilibili'))"
      ]
     },
     "metadata": {},
     "output_type": "display_data"
    }
   ],
   "source": [
    "# @title Video 8: Implementing the modeling\n",
    "from ipywidgets import widgets\n",
    "from IPython.display import YouTubeVideo\n",
    "from IPython.display import IFrame\n",
    "from IPython.display import display\n",
    "\n",
    "\n",
    "class PlayVideo(IFrame):\n",
    "  def __init__(self, id, source, page=1, width=400, height=300, **kwargs):\n",
    "    self.id = id\n",
    "    if source == 'Bilibili':\n",
    "      src = f'https://player.bilibili.com/player.html?bvid={id}&page={page}'\n",
    "    elif source == 'Osf':\n",
    "      src = f'https://mfr.ca-1.osf.io/render?url=https://osf.io/download/{id}/?direct%26mode=render'\n",
    "    super(PlayVideo, self).__init__(src, width, height, **kwargs)\n",
    "\n",
    "\n",
    "def display_videos(video_ids, W=400, H=300, fs=1):\n",
    "  tab_contents = []\n",
    "  for i, video_id in enumerate(video_ids):\n",
    "    out = widgets.Output()\n",
    "    with out:\n",
    "      if video_ids[i][0] == 'Youtube':\n",
    "        video = YouTubeVideo(id=video_ids[i][1], width=W,\n",
    "                             height=H, fs=fs, rel=0)\n",
    "        print(f'Video available at https://youtube.com/watch?v={video.id}')\n",
    "      else:\n",
    "        video = PlayVideo(id=video_ids[i][1], source=video_ids[i][0], width=W,\n",
    "                          height=H, fs=fs, autoplay=False)\n",
    "        if video_ids[i][0] == 'Bilibili':\n",
    "          print(f'Video available at https://www.bilibili.com/video/{video.id}')\n",
    "        elif video_ids[i][0] == 'Osf':\n",
    "          print(f'Video available at https://osf.io/{video.id}')\n",
    "      display(video)\n",
    "    tab_contents.append(out)\n",
    "  return tab_contents\n",
    "\n",
    "\n",
    "video_ids = [('Youtube', 'qxU5dJz5hG0'), ('Bilibili', 'BV1nX4y1w7uu')]\n",
    "tab_contents = display_videos(video_ids, W=854, H=480)\n",
    "tabs = widgets.Tab()\n",
    "tabs.children = tab_contents\n",
    "for i in range(len(tab_contents)):\n",
    "  tabs.set_title(i, video_ids[i][0])\n",
    "display(tabs)"
   ]
  },
  {
   "cell_type": "markdown",
   "metadata": {
    "execution": {}
   },
   "source": [
    "This is the step where you finally start writing code! Separately implement each box, icon, or flow relationship identified in Step 6. **Test** each of those model components separately! (This is called a *unit test*). Unit testing ensures that each model components works are expected/planned.\n",
    "\n",
    "**Guiding principles**:\n",
    "* Start with the easiest possible implementation\n",
    "  * Test functionality of model after each step before adding new model components (unit tests)\n",
    "  * Simple models can sometimes accomplish surprisingly much…\n",
    "* Add / remove different model elements\n",
    "  * Gain insight into working principles\n",
    "  * What's crucial, what isn't?\n",
    "  * Every component of the model must be crucial!\n",
    "* Make use of tools to evaluate model behavior\n",
    "  * e.g., graphical analysis, changing parameter sets, stability / equilibrium analyses, derive general solutions, asymptotes, periodic behaviour, etc.\n",
    "\n",
    "**Goal**: Understand how each model component works in isolation and what the resulting overall model behavior is."
   ]
  },
  {
   "cell_type": "markdown",
   "metadata": {
    "execution": {}
   },
   "source": [
    "**Make sure to avoid the pitfalls!**\n",
    "\n",
    "<details>\n",
    "<summary> <font color='red'>Click here for a recap on pitfalls </font></summary>\n",
    "\n",
    "1. Building the whole model at once without testing components\n",
    "  - you will make mistakes. Debug model components as you go!\n",
    "  - debugging a complex model is close to impossible. Is it not woring because individual components are not working? Or do components not \"play nice\" together?\n",
    "\n",
    "2. Not testing if individual components are important\n",
    "  - It's easy to add *useless* components to a model. They will be distracting for you and for readers\n",
    "\n",
    "3. Not testing model functionality step by step as you  build up the model\n",
    "  - You'd be surprised by what basic components often can alrealy achieve...\n",
    "    - e.g., our intuition is really bad when it comes to dynamical systems\n",
    "\n",
    "4. Not using standard model testing tools\n",
    "  - each field has developped specific mathematical tools to test model behaviors. You'll be expected to show such evaluations. Make use of them early on!"
   ]
  },
  {
   "cell_type": "markdown",
   "metadata": {
    "execution": {}
   },
   "source": [
    "----\n",
    "# Step 8: Completing the model"
   ]
  },
  {
   "cell_type": "code",
   "execution_count": null,
   "metadata": {
    "cellView": "form",
    "execution": {}
   },
   "outputs": [
    {
     "data": {
      "application/vnd.jupyter.widget-view+json": {
       "model_id": "b235307af10b40c08504aafc1d748641",
       "version_major": 2,
       "version_minor": 0
      },
      "text/plain": [
       "Tab(children=(Output(), Output()), selected_index=0, titles=('Youtube', 'Bilibili'))"
      ]
     },
     "metadata": {},
     "output_type": "display_data"
    }
   ],
   "source": [
    "# @title Video 9: Completing the modeling\n",
    "from ipywidgets import widgets\n",
    "from IPython.display import YouTubeVideo\n",
    "from IPython.display import IFrame\n",
    "from IPython.display import display\n",
    "\n",
    "\n",
    "class PlayVideo(IFrame):\n",
    "  def __init__(self, id, source, page=1, width=400, height=300, **kwargs):\n",
    "    self.id = id\n",
    "    if source == 'Bilibili':\n",
    "      src = f'https://player.bilibili.com/player.html?bvid={id}&page={page}'\n",
    "    elif source == 'Osf':\n",
    "      src = f'https://mfr.ca-1.osf.io/render?url=https://osf.io/download/{id}/?direct%26mode=render'\n",
    "    super(PlayVideo, self).__init__(src, width, height, **kwargs)\n",
    "\n",
    "\n",
    "def display_videos(video_ids, W=400, H=300, fs=1):\n",
    "  tab_contents = []\n",
    "  for i, video_id in enumerate(video_ids):\n",
    "    out = widgets.Output()\n",
    "    with out:\n",
    "      if video_ids[i][0] == 'Youtube':\n",
    "        video = YouTubeVideo(id=video_ids[i][1], width=W,\n",
    "                             height=H, fs=fs, rel=0)\n",
    "        print(f'Video available at https://youtube.com/watch?v={video.id}')\n",
    "      else:\n",
    "        video = PlayVideo(id=video_ids[i][1], source=video_ids[i][0], width=W,\n",
    "                          height=H, fs=fs, autoplay=False)\n",
    "        if video_ids[i][0] == 'Bilibili':\n",
    "          print(f'Video available at https://www.bilibili.com/video/{video.id}')\n",
    "        elif video_ids[i][0] == 'Osf':\n",
    "          print(f'Video available at https://osf.io/{video.id}')\n",
    "      display(video)\n",
    "    tab_contents.append(out)\n",
    "  return tab_contents\n",
    "\n",
    "\n",
    "video_ids = [('Youtube', 'ul4loI_JUW0'), ('Bilibili', 'BV1f44y1q7wm')]\n",
    "tab_contents = display_videos(video_ids, W=854, H=480)\n",
    "tabs = widgets.Tab()\n",
    "tabs.children = tab_contents\n",
    "for i in range(len(tab_contents)):\n",
    "  tabs.set_title(i, video_ids[i][0])\n",
    "display(tabs)"
   ]
  },
  {
   "cell_type": "markdown",
   "metadata": {
    "execution": {}
   },
   "source": [
    "Determing what you're done modeling is a hard question. Referring back to your original goals will be crucial. This is also where a precise question and specific hypotheses expressed in mathematical relationships come in handy.\n",
    "\n",
    "**Note**: you can always keep improving our model, but at some point you need to decide that it is finished. Once you have a model that displays the properties of a system you are interested in, it should be possible to say something about your hypothesis and question. Keeping the model simple makes it easier to understand the phenomenon and answer the research question.\n",
    "\n",
    "**Guiding principles**:\n",
    "* Determine a criterion\n",
    "* Refer to steps 1 (goals) and 4 (hypotheses)\n",
    "  * Does the model answer the original question sufficiently?\n",
    "  * Does the model satisfy your own evaluation criteria?\n",
    "  * Does it speak to the hypotheses?\n",
    "* Can the model produce the parametric relationships hypothesized in step 4?\n",
    "\n",
    "Make sure the model can speak to the hypothesis. Eliminate all the parameters that do not speak to the hypothesis.\n",
    "\n",
    "**Goal**: Determine if you can answer your original research question and related hypotheses to your satisfaction. If the original goal has not been met you need to go back to the drawing board!"
   ]
  },
  {
   "cell_type": "markdown",
   "metadata": {
    "execution": {}
   },
   "source": [
    "**Make sure to avoid the pitfalls!**\n",
    "\n",
    "<details>\n",
    "<summary> <font color='red'>Click here for a recap on pitfalls </font></summary>\n",
    "\n",
    "1. Forgetting to specify or use a criterion for model completion (in Step 1!)\n",
    "  - This is crucial for you not to get lost in an endless loop of model improvements\n",
    "\n",
    "2. Thinking the model can answer your question / hypotheses without checking\n",
    "  - always check if all questions and hypotheses can be answered / tested\n",
    "  - you will fail on your own benchmarks if you neglect this\n",
    "\n",
    "3. You think you should further improve the model\n",
    "  - This is only warranted if your model cannot answer your hypotheses / questions and/or meet your goals\n",
    "  - remember: you can always improve a model, but you want to focus on the question / hypotheses / goals at hand!"
   ]
  },
  {
   "cell_type": "markdown",
   "metadata": {
    "execution": {}
   },
   "source": [
    "----\n",
    "# Step 9: testing and evaluating the model"
   ]
  },
  {
   "cell_type": "code",
   "execution_count": null,
   "metadata": {
    "cellView": "form",
    "execution": {}
   },
   "outputs": [
    {
     "data": {
      "application/vnd.jupyter.widget-view+json": {
       "model_id": "f858f64197d24beb9b8553a6070f1953",
       "version_major": 2,
       "version_minor": 0
      },
      "text/plain": [
       "Tab(children=(Output(), Output()), selected_index=0, titles=('Youtube', 'Bilibili'))"
      ]
     },
     "metadata": {},
     "output_type": "display_data"
    }
   ],
   "source": [
    "# @title Video 10: Evaluating the modeling\n",
    "from ipywidgets import widgets\n",
    "from IPython.display import YouTubeVideo\n",
    "from IPython.display import IFrame\n",
    "from IPython.display import display\n",
    "\n",
    "\n",
    "class PlayVideo(IFrame):\n",
    "  def __init__(self, id, source, page=1, width=400, height=300, **kwargs):\n",
    "    self.id = id\n",
    "    if source == 'Bilibili':\n",
    "      src = f'https://player.bilibili.com/player.html?bvid={id}&page={page}'\n",
    "    elif source == 'Osf':\n",
    "      src = f'https://mfr.ca-1.osf.io/render?url=https://osf.io/download/{id}/?direct%26mode=render'\n",
    "    super(PlayVideo, self).__init__(src, width, height, **kwargs)\n",
    "\n",
    "\n",
    "def display_videos(video_ids, W=400, H=300, fs=1):\n",
    "  tab_contents = []\n",
    "  for i, video_id in enumerate(video_ids):\n",
    "    out = widgets.Output()\n",
    "    with out:\n",
    "      if video_ids[i][0] == 'Youtube':\n",
    "        video = YouTubeVideo(id=video_ids[i][1], width=W,\n",
    "                             height=H, fs=fs, rel=0)\n",
    "        print(f'Video available at https://youtube.com/watch?v={video.id}')\n",
    "      else:\n",
    "        video = PlayVideo(id=video_ids[i][1], source=video_ids[i][0], width=W,\n",
    "                          height=H, fs=fs, autoplay=False)\n",
    "        if video_ids[i][0] == 'Bilibili':\n",
    "          print(f'Video available at https://www.bilibili.com/video/{video.id}')\n",
    "        elif video_ids[i][0] == 'Osf':\n",
    "          print(f'Video available at https://osf.io/{video.id}')\n",
    "      display(video)\n",
    "    tab_contents.append(out)\n",
    "  return tab_contents\n",
    "\n",
    "\n",
    "video_ids = [('Youtube', 'X-R0hjID93M'), ('Bilibili', 'BV1Xv411J7Ls')]\n",
    "tab_contents = display_videos(video_ids, W=854, H=480)\n",
    "tabs = widgets.Tab()\n",
    "tabs.children = tab_contents\n",
    "for i in range(len(tab_contents)):\n",
    "  tabs.set_title(i, video_ids[i][0])\n",
    "display(tabs)"
   ]
  },
  {
   "cell_type": "markdown",
   "metadata": {
    "execution": {}
   },
   "source": [
    "Every models needs to be evaluated quantitatively. There are many ways to achieve that and not every model should be evaluated in the same way. Ultimately, model testing depends on what your goals are and what you want to get out of the model, e.g., qualitative vs quantitative fit to data.\n",
    "\n",
    "**Guiding principles**:\n",
    "* By definition a model is always wrong!\n",
    "  * Determine upfront what is \"right enough\" for you\n",
    "* Ensure the explicit interfacing with current or future data\n",
    "  * model answers the questions/hypotheses/goals with a sufficient amount of detail\n",
    "* Quantitative evaluation methods (see also W1D3)\n",
    "  * Statistics:  how well does the model fit data?\n",
    "  * Predictability: does the model make testable predictions?\n",
    "  * Breadth: how general is the model?\n",
    "* Comparison against other models (BIC, AIC, etc.)\n",
    "  * This is often not easy to do in a fair way… Be nice and respectful to other models.\n",
    "* Does the model explain previous data? (this is called the subsumption principle in physics!)\n",
    "* A good model should provide insight that could not have been gained or would have been hard to uncover without the model\n",
    "* Remember, a model is a working hypotheses; a good model should be falsifiable!\n",
    "\n",
    "**Goal**: You want to demonstrate that your model works well. You also want to make sure you can interpret the model's meaning and findings, i.e., what did the model allow you to learn that was not apparent from the data alone?"
   ]
  },
  {
   "cell_type": "markdown",
   "metadata": {
    "execution": {}
   },
   "source": [
    "**Make sure to avoid the pitfalls!**\n",
    "\n",
    "<details>\n",
    "<summary> <font color='red'>Click here for a recap on pitfalls </font></summary>\n",
    "\n",
    "1. Thinking your model is bad\n",
    "  - does it answer the question / hypotheses and meet your goals? Does it provide the leverl of explanation and insights you set out to gain? **Then it's probably good enough!**\n",
    "\n",
    "2. Not providing any quantitative evaluation\n",
    "  - Just do it, it's something that's expected\n",
    "\n",
    "3. Not thinking deeply about your model and what you can learn from it\n",
    "  - this is likely the most important pitfall. You want to learn as much as you can from a model, especially about aspects that you cannot gain from the data alone\n",
    "  - model interpretation can open new avenues for research and experimentation. That's part of why we want to model in the first place! **A model is a hypothesis!**"
   ]
  },
  {
   "cell_type": "markdown",
   "metadata": {
    "execution": {}
   },
   "source": [
    "----\n",
    "# Step 10: publishing the model"
   ]
  },
  {
   "cell_type": "code",
   "execution_count": null,
   "metadata": {
    "cellView": "form",
    "execution": {}
   },
   "outputs": [
    {
     "data": {
      "application/vnd.jupyter.widget-view+json": {
       "model_id": "b3c9ed3d82dc4339bc1d2aa18463e78b",
       "version_major": 2,
       "version_minor": 0
      },
      "text/plain": [
       "Tab(children=(Output(), Output()), selected_index=0, titles=('Youtube', 'Bilibili'))"
      ]
     },
     "metadata": {},
     "output_type": "display_data"
    }
   ],
   "source": [
    "# @title Video 11: Publishing the modeling\n",
    "from ipywidgets import widgets\n",
    "from IPython.display import YouTubeVideo\n",
    "from IPython.display import IFrame\n",
    "from IPython.display import display\n",
    "\n",
    "\n",
    "class PlayVideo(IFrame):\n",
    "  def __init__(self, id, source, page=1, width=400, height=300, **kwargs):\n",
    "    self.id = id\n",
    "    if source == 'Bilibili':\n",
    "      src = f'https://player.bilibili.com/player.html?bvid={id}&page={page}'\n",
    "    elif source == 'Osf':\n",
    "      src = f'https://mfr.ca-1.osf.io/render?url=https://osf.io/download/{id}/?direct%26mode=render'\n",
    "    super(PlayVideo, self).__init__(src, width, height, **kwargs)\n",
    "\n",
    "\n",
    "def display_videos(video_ids, W=400, H=300, fs=1):\n",
    "  tab_contents = []\n",
    "  for i, video_id in enumerate(video_ids):\n",
    "    out = widgets.Output()\n",
    "    with out:\n",
    "      if video_ids[i][0] == 'Youtube':\n",
    "        video = YouTubeVideo(id=video_ids[i][1], width=W,\n",
    "                             height=H, fs=fs, rel=0)\n",
    "        print(f'Video available at https://youtube.com/watch?v={video.id}')\n",
    "      else:\n",
    "        video = PlayVideo(id=video_ids[i][1], source=video_ids[i][0], width=W,\n",
    "                          height=H, fs=fs, autoplay=False)\n",
    "        if video_ids[i][0] == 'Bilibili':\n",
    "          print(f'Video available at https://www.bilibili.com/video/{video.id}')\n",
    "        elif video_ids[i][0] == 'Osf':\n",
    "          print(f'Video available at https://osf.io/{video.id}')\n",
    "      display(video)\n",
    "    tab_contents.append(out)\n",
    "  return tab_contents\n",
    "\n",
    "\n",
    "video_ids = [('Youtube', 'z7QIdREXmf8'), ('Bilibili', 'BV11b4y1r7Eu')]\n",
    "tab_contents = display_videos(video_ids, W=854, H=480)\n",
    "tabs = widgets.Tab()\n",
    "tabs.children = tab_contents\n",
    "for i in range(len(tab_contents)):\n",
    "  tabs.set_title(i, video_ids[i][0])\n",
    "display(tabs)"
   ]
  },
  {
   "cell_type": "markdown",
   "metadata": {
    "execution": {}
   },
   "source": [
    "**Guiding principles**:\n",
    "\n",
    "* Know your target audience!\n",
    "  * How much math details? How much explanation of math?\n",
    "  * What's the message?\n",
    "  * Should be experimentalists in most cases!!!\n",
    "    * Provide intuitive explanations, analogies, etc.\n",
    "    * Famous researcher: “a good modeller knows how to relate to experimentalists”\n",
    "* Clearly describe what the goals, hypotheses and performance criteria were\n",
    "  * Prevents from false expectation of what the model should be doing\n",
    "* A graphical representation is worth 1000 words (or more)\n",
    "* Show model simulations in parallel to data\n",
    "  * Much more convincing!\n",
    "* Publish enough implementation details\n",
    "  * A good model has to be reproducible!\n",
    "\n",
    "**Goal**: Make sure your model is well received **AND USED** by the community. In order for our model to impact the field, it needs to be accepted by our peers, and order for that to happen it matters how the model is published."
   ]
  },
  {
   "cell_type": "markdown",
   "metadata": {
    "execution": {}
   },
   "source": [
    "**Make sure to avoid the pitfalls!**\n",
    "\n",
    "<details>\n",
    "<summary> <font color='red'>Click here for a recap on pitfalls </font></summary>\n",
    "\n",
    "1. Not thinking of your target audience\n",
    "  - no one will understand you if you write for yourself because only you know what you know...\n",
    "\n",
    "2. Frgetting about Steps 1-4\n",
    "  - clearly spelling out steps 1-4 allows the reader to appreciate your goals and sets limits on model criticism\n",
    "    - no one can tell you your model didn't do something you never set out to do\n",
    "    - prevents unreasonable claims / rejection of paper\n",
    "\n",
    "3. Thinking you don't need figures to explain your model\n",
    "  - your model draft is a great starting point!\n",
    "  - make figures that provide intuition about model behavior (just like you would create figures to provide intuition about expeimental data)\n",
    "\n",
    "4. My code is too mesy to be published\n",
    "  - not an option (many journal now rightfully require it)\n",
    "  - code cleanly right from the start\n",
    "    - model drafting should help with that\n",
    "    - comment your code! Then comment more..."
   ]
  },
  {
   "cell_type": "markdown",
   "metadata": {
    "execution": {}
   },
   "source": [
    "### Writing the abstract of a modeling paper\n",
    "\n",
    "Abstracts are very stereotyped pieces of writing that contain highly condensed information. To write a summary (= abstract) of your modeling, you can use these questions as a guide:\n",
    "* **What is the phenomena**? Here summarize the part of the phenomena which your modeling addresses.\n",
    "* **What is the key scientific question?**: Clearly articulate the question which your modeling tries to answer.\n",
    "* **What was our hypothesis?** Explain the key relationships which we relied on to simulate the phenomena.\n",
    "* **How did your modeling work?** Give an overview of the model, it's main components, and how the modeling works. ''Here we ... ''\n",
    "* **What did you find? Did the modeling work?** Explain the key outcomes of your modeling evaluation.\n",
    "* **What can you conclude?** Conclude as much as you can _with reference to the hypothesis_, within the limits of the modeling.  \n",
    "* **What are the limitations and future directions?** What is left to be learned? Briefly argue the plausibility of the approach and/or what you think is essential that may have been left out.\n",
    "\n",
    "**Instructions**: write down your answer to each of those questions (1-2 sentences each, max!). When you're done, stick the sentences together... Now you have an abstract!\n",
    "\n",
    "### Guidance for paper writing\n",
    "There are good guidelines for structuring and writing an effective paper (e.g., [Mensh & Kording, 2017](https://doi.org/10.1371/journal.pcbi.1005619)), all of which apply to papers about models. There are some extra considerations when publishing a model. In general, you should explain each of the steps in the paper:\n",
    "\n",
    "**Introduction:** Steps 1 & 2 (maybe 3)\n",
    "\n",
    "**Methods:** Steps 3-7, 9\n",
    "\n",
    "**Results:** Steps 8 & 9, going back to 1, 2 & 4\n",
    "\n",
    "Here are some great materials to help you with paper writing:\n",
    "* [Ten Simple Rules for Better Figures](https://journals.plos.org/ploscompbiol/article?id=10.1371/journal.pcbi.1003833)\n",
    "* [How to Write Strong and Effective Figure Legends](https://wordvice.com/how-to-write-effective-figure-titles-and-legends/)\n",
    "* [How to Create a Consistent Writing Schedule: 10 Tips for Writers](https://www.masterclass.com/articles/how-to-create-a-consistent-writing-schedule)\n",
    "\n",
    "The audience for all of this should be experimentalists, as they are the ones who can test predictions made by your model and collect new data. In this way your models can impact future experiments, and future data can then be modeled (see modeling process schematic below). Remember your audience - it is _always_ hard to clearly convey the main points of your work to others, especially if your audience doesn't necessarily create computational models themselves.\n",
    "\n",
    "In addition, you should provide a visualization of the model, and upload the code implementing the model and the data it was trained and tested on to a repository (e.g., GitHub, OSF).\n",
    "\n",
    "### Suggestion\n",
    "\n",
    "For every modeling project, a very good exercise is to _**first**_ write a short, 100-word abstract of the project plan and expected impact. This forces focussing on the main points: describing the relevance, question, model, answer and what it all means very succinctly. This allows you to decide to do this project or not **before you commit time writing code for no good purpose**. Notice that this is really what we've walked you through carefully in this guide! 😀"
   ]
  },
  {
   "cell_type": "markdown",
   "metadata": {
    "execution": {}
   },
   "source": [
    "---\n",
    "# Reading\n",
    "\n",
    "Blohm G, Kording KP, Schrater PR (2020). _A How-to-Model Guide for Neuroscience_ eNeuro, 7(1). doi: [10.1523/ENEURO.0352-19.2019\n",
    "](https://doi.org/10.1523/ENEURO.0352-19.2019)\n",
    "\n",
    "Mensh B, Kording K (2017). _Ten simple rules for structuring papers._ PLOS Comput Biol 13(9): e1005619. doi: [10.1371/journal.pcbi.1005619](https://doi.org/10.1371/journal.pcbi.1005619)\n"
   ]
  }
 ],
 "metadata": {
  "colab": {
   "collapsed_sections": [],
   "include_colab_link": true,
   "name": "ModelingSteps_5through10",
   "provenance": [],
   "toc_visible": true
  },
  "kernel": {
   "display_name": "Python 3",
   "language": "python",
   "name": "python3"
  },
  "kernelspec": {
   "display_name": "Python 3",
   "name": "python3"
  },
  "language_info": {
   "codemirror_mode": {
    "name": "ipython",
    "version": 3
   },
   "file_extension": ".py",
   "mimetype": "text/x-python",
   "name": "python",
   "nbconvert_exporter": "python",
   "pygments_lexer": "ipython3",
   "version": "3.9.17"
  }
 },
 "nbformat": 4,
 "nbformat_minor": 0
}
