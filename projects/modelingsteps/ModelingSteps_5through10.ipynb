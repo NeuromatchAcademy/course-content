{
  "nbformat": 4,
  "nbformat_minor": 0,
  "metadata": {
    "colab": {
      "name": "ModelingSteps_5through10.ipynb",
      "provenance": [],
      "collapsed_sections": [],
      "toc_visible": true,
      "include_colab_link": true
    },
    "kernelspec": {
      "name": "python3",
      "display_name": "Python 3"
    },
    "language_info": {
      "name": "python"
    },
    "widgets": {
      "application/vnd.jupyter.widget-state+json": {
        "b141dca688c74961aba073e506590acd": {
          "model_module": "@jupyter-widgets/controls",
          "model_name": "TabModel",
          "state": {
            "_view_name": "TabView",
            "_dom_classes": [],
            "_titles": {
              "0": "Youtube",
              "1": "Bilibili"
            },
            "_model_name": "TabModel",
            "_view_module": "@jupyter-widgets/controls",
            "selected_index": 0,
            "_model_module_version": "1.5.0",
            "_view_count": null,
            "_view_module_version": "1.5.0",
            "box_style": "",
            "layout": "IPY_MODEL_d06ed75acc5941f1a949b857e217ba82",
            "_model_module": "@jupyter-widgets/controls",
            "children": [
              "IPY_MODEL_521b6f27a9314bd0b8203be3985c15d9",
              "IPY_MODEL_e43a5d0561184c82b120f8e70a20119a"
            ]
          }
        },
        "d06ed75acc5941f1a949b857e217ba82": {
          "model_module": "@jupyter-widgets/base",
          "model_name": "LayoutModel",
          "state": {
            "_view_name": "LayoutView",
            "grid_template_rows": null,
            "right": null,
            "justify_content": null,
            "_view_module": "@jupyter-widgets/base",
            "overflow": null,
            "_model_module_version": "1.2.0",
            "_view_count": null,
            "flex_flow": null,
            "width": null,
            "min_width": null,
            "border": null,
            "align_items": null,
            "bottom": null,
            "_model_module": "@jupyter-widgets/base",
            "top": null,
            "grid_column": null,
            "overflow_y": null,
            "overflow_x": null,
            "grid_auto_flow": null,
            "grid_area": null,
            "grid_template_columns": null,
            "flex": null,
            "_model_name": "LayoutModel",
            "justify_items": null,
            "grid_row": null,
            "max_height": null,
            "align_content": null,
            "visibility": null,
            "align_self": null,
            "height": null,
            "min_height": null,
            "padding": null,
            "grid_auto_rows": null,
            "grid_gap": null,
            "max_width": null,
            "order": null,
            "_view_module_version": "1.2.0",
            "grid_template_areas": null,
            "object_position": null,
            "object_fit": null,
            "grid_auto_columns": null,
            "margin": null,
            "display": null,
            "left": null
          }
        },
        "521b6f27a9314bd0b8203be3985c15d9": {
          "model_module": "@jupyter-widgets/output",
          "model_name": "OutputModel",
          "state": {
            "_view_name": "OutputView",
            "msg_id": "",
            "_dom_classes": [],
            "_model_name": "OutputModel",
            "outputs": [
              {
                "output_type": "stream",
                "metadata": {
                  "tags": []
                },
                "text": "Video available at https://youtube.com/watch?v=q5_c18Kxx0k\n",
                "stream": "stdout"
              },
              {
                "output_type": "display_data",
                "metadata": {
                  "tags": []
                },
                "text/html": "\n        <iframe\n            width=\"854\"\n            height=\"480\"\n            src=\"https://www.youtube.com/embed/q5_c18Kxx0k?fs=1&rel=0\"\n            frameborder=\"0\"\n            allowfullscreen\n        ></iframe>\n        ",
                "text/plain": "<IPython.lib.display.YouTubeVideo at 0x7ff70ba3c350>",
                "image/jpeg": "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\n"
              }
            ],
            "_view_module": "@jupyter-widgets/output",
            "_model_module_version": "1.0.0",
            "_view_count": null,
            "_view_module_version": "1.0.0",
            "layout": "IPY_MODEL_c9ace8264ba34c6588f68f8ac3b9903c",
            "_model_module": "@jupyter-widgets/output"
          }
        },
        "e43a5d0561184c82b120f8e70a20119a": {
          "model_module": "@jupyter-widgets/output",
          "model_name": "OutputModel",
          "state": {
            "_view_name": "OutputView",
            "msg_id": "",
            "_dom_classes": [],
            "_model_name": "OutputModel",
            "outputs": [
              {
                "output_type": "stream",
                "metadata": {
                  "tags": []
                },
                "text": "Video available at https://www.bilibili.com/video/\n",
                "stream": "stdout"
              },
              {
                "output_type": "display_data",
                "metadata": {
                  "tags": []
                },
                "text/html": "\n        <iframe\n            width=\"854\"\n            height=\"480\"\n            src=\"https://player.bilibili.com/player.html?bvid=&page=1?fs=1\"\n            frameborder=\"0\"\n            allowfullscreen\n        ></iframe>\n        ",
                "text/plain": "<__main__.BiliVideo at 0x7ff705aaed50>"
              }
            ],
            "_view_module": "@jupyter-widgets/output",
            "_model_module_version": "1.0.0",
            "_view_count": null,
            "_view_module_version": "1.0.0",
            "layout": "IPY_MODEL_266a1759e82d447ba19695b2e440e39f",
            "_model_module": "@jupyter-widgets/output"
          }
        },
        "c9ace8264ba34c6588f68f8ac3b9903c": {
          "model_module": "@jupyter-widgets/base",
          "model_name": "LayoutModel",
          "state": {
            "_view_name": "LayoutView",
            "grid_template_rows": null,
            "right": null,
            "justify_content": null,
            "_view_module": "@jupyter-widgets/base",
            "overflow": null,
            "_model_module_version": "1.2.0",
            "_view_count": null,
            "flex_flow": null,
            "width": null,
            "min_width": null,
            "border": null,
            "align_items": null,
            "bottom": null,
            "_model_module": "@jupyter-widgets/base",
            "top": null,
            "grid_column": null,
            "overflow_y": null,
            "overflow_x": null,
            "grid_auto_flow": null,
            "grid_area": null,
            "grid_template_columns": null,
            "flex": null,
            "_model_name": "LayoutModel",
            "justify_items": null,
            "grid_row": null,
            "max_height": null,
            "align_content": null,
            "visibility": null,
            "align_self": null,
            "height": null,
            "min_height": null,
            "padding": null,
            "grid_auto_rows": null,
            "grid_gap": null,
            "max_width": null,
            "order": null,
            "_view_module_version": "1.2.0",
            "grid_template_areas": null,
            "object_position": null,
            "object_fit": null,
            "grid_auto_columns": null,
            "margin": null,
            "display": null,
            "left": null
          }
        },
        "266a1759e82d447ba19695b2e440e39f": {
          "model_module": "@jupyter-widgets/base",
          "model_name": "LayoutModel",
          "state": {
            "_view_name": "LayoutView",
            "grid_template_rows": null,
            "right": null,
            "justify_content": null,
            "_view_module": "@jupyter-widgets/base",
            "overflow": null,
            "_model_module_version": "1.2.0",
            "_view_count": null,
            "flex_flow": null,
            "width": null,
            "min_width": null,
            "border": null,
            "align_items": null,
            "bottom": null,
            "_model_module": "@jupyter-widgets/base",
            "top": null,
            "grid_column": null,
            "overflow_y": null,
            "overflow_x": null,
            "grid_auto_flow": null,
            "grid_area": null,
            "grid_template_columns": null,
            "flex": null,
            "_model_name": "LayoutModel",
            "justify_items": null,
            "grid_row": null,
            "max_height": null,
            "align_content": null,
            "visibility": null,
            "align_self": null,
            "height": null,
            "min_height": null,
            "padding": null,
            "grid_auto_rows": null,
            "grid_gap": null,
            "max_width": null,
            "order": null,
            "_view_module_version": "1.2.0",
            "grid_template_areas": null,
            "object_position": null,
            "object_fit": null,
            "grid_auto_columns": null,
            "margin": null,
            "display": null,
            "left": null
          }
        },
        "b9b3b1bad952421d98fcfd30f69e1aef": {
          "model_module": "@jupyter-widgets/controls",
          "model_name": "TabModel",
          "state": {
            "_view_name": "TabView",
            "_dom_classes": [],
            "_titles": {
              "0": "Youtube",
              "1": "Bilibili"
            },
            "_model_name": "TabModel",
            "_view_module": "@jupyter-widgets/controls",
            "selected_index": 0,
            "_model_module_version": "1.5.0",
            "_view_count": null,
            "_view_module_version": "1.5.0",
            "box_style": "",
            "layout": "IPY_MODEL_03f255225e474e098aed00b0c5a4d5df",
            "_model_module": "@jupyter-widgets/controls",
            "children": [
              "IPY_MODEL_29cbdec353104b20a23c532d0762c945",
              "IPY_MODEL_b96214c223da42de971dafccd960945f"
            ]
          }
        },
        "03f255225e474e098aed00b0c5a4d5df": {
          "model_module": "@jupyter-widgets/base",
          "model_name": "LayoutModel",
          "state": {
            "_view_name": "LayoutView",
            "grid_template_rows": null,
            "right": null,
            "justify_content": null,
            "_view_module": "@jupyter-widgets/base",
            "overflow": null,
            "_model_module_version": "1.2.0",
            "_view_count": null,
            "flex_flow": null,
            "width": null,
            "min_width": null,
            "border": null,
            "align_items": null,
            "bottom": null,
            "_model_module": "@jupyter-widgets/base",
            "top": null,
            "grid_column": null,
            "overflow_y": null,
            "overflow_x": null,
            "grid_auto_flow": null,
            "grid_area": null,
            "grid_template_columns": null,
            "flex": null,
            "_model_name": "LayoutModel",
            "justify_items": null,
            "grid_row": null,
            "max_height": null,
            "align_content": null,
            "visibility": null,
            "align_self": null,
            "height": null,
            "min_height": null,
            "padding": null,
            "grid_auto_rows": null,
            "grid_gap": null,
            "max_width": null,
            "order": null,
            "_view_module_version": "1.2.0",
            "grid_template_areas": null,
            "object_position": null,
            "object_fit": null,
            "grid_auto_columns": null,
            "margin": null,
            "display": null,
            "left": null
          }
        },
        "29cbdec353104b20a23c532d0762c945": {
          "model_module": "@jupyter-widgets/output",
          "model_name": "OutputModel",
          "state": {
            "_view_name": "OutputView",
            "msg_id": "",
            "_dom_classes": [],
            "_model_name": "OutputModel",
            "outputs": [
              {
                "output_type": "stream",
                "metadata": {
                  "tags": []
                },
                "text": "Video available at https://youtube.com/watch?v=KrbKjzURlQA\n",
                "stream": "stdout"
              },
              {
                "output_type": "display_data",
                "metadata": {
                  "tags": []
                },
                "text/html": "\n        <iframe\n            width=\"854\"\n            height=\"480\"\n            src=\"https://www.youtube.com/embed/KrbKjzURlQA?fs=1&rel=0\"\n            frameborder=\"0\"\n            allowfullscreen\n        ></iframe>\n        ",
                "text/plain": "<IPython.lib.display.YouTubeVideo at 0x7ff705ab0090>",
                "image/jpeg": "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\n"
              }
            ],
            "_view_module": "@jupyter-widgets/output",
            "_model_module_version": "1.0.0",
            "_view_count": null,
            "_view_module_version": "1.0.0",
            "layout": "IPY_MODEL_c86ae98b619445f5b998da957809a657",
            "_model_module": "@jupyter-widgets/output"
          }
        },
        "b96214c223da42de971dafccd960945f": {
          "model_module": "@jupyter-widgets/output",
          "model_name": "OutputModel",
          "state": {
            "_view_name": "OutputView",
            "msg_id": "",
            "_dom_classes": [],
            "_model_name": "OutputModel",
            "outputs": [
              {
                "output_type": "stream",
                "metadata": {
                  "tags": []
                },
                "text": "Video available at https://www.bilibili.com/video/\n",
                "stream": "stdout"
              },
              {
                "output_type": "display_data",
                "metadata": {
                  "tags": []
                },
                "text/html": "\n        <iframe\n            width=\"854\"\n            height=\"480\"\n            src=\"https://player.bilibili.com/player.html?bvid=&page=1?fs=1\"\n            frameborder=\"0\"\n            allowfullscreen\n        ></iframe>\n        ",
                "text/plain": "<__main__.BiliVideo at 0x7ff705ab0c10>"
              }
            ],
            "_view_module": "@jupyter-widgets/output",
            "_model_module_version": "1.0.0",
            "_view_count": null,
            "_view_module_version": "1.0.0",
            "layout": "IPY_MODEL_b19c03a542d9474bbc07bf79385aa1d7",
            "_model_module": "@jupyter-widgets/output"
          }
        },
        "c86ae98b619445f5b998da957809a657": {
          "model_module": "@jupyter-widgets/base",
          "model_name": "LayoutModel",
          "state": {
            "_view_name": "LayoutView",
            "grid_template_rows": null,
            "right": null,
            "justify_content": null,
            "_view_module": "@jupyter-widgets/base",
            "overflow": null,
            "_model_module_version": "1.2.0",
            "_view_count": null,
            "flex_flow": null,
            "width": null,
            "min_width": null,
            "border": null,
            "align_items": null,
            "bottom": null,
            "_model_module": "@jupyter-widgets/base",
            "top": null,
            "grid_column": null,
            "overflow_y": null,
            "overflow_x": null,
            "grid_auto_flow": null,
            "grid_area": null,
            "grid_template_columns": null,
            "flex": null,
            "_model_name": "LayoutModel",
            "justify_items": null,
            "grid_row": null,
            "max_height": null,
            "align_content": null,
            "visibility": null,
            "align_self": null,
            "height": null,
            "min_height": null,
            "padding": null,
            "grid_auto_rows": null,
            "grid_gap": null,
            "max_width": null,
            "order": null,
            "_view_module_version": "1.2.0",
            "grid_template_areas": null,
            "object_position": null,
            "object_fit": null,
            "grid_auto_columns": null,
            "margin": null,
            "display": null,
            "left": null
          }
        },
        "b19c03a542d9474bbc07bf79385aa1d7": {
          "model_module": "@jupyter-widgets/base",
          "model_name": "LayoutModel",
          "state": {
            "_view_name": "LayoutView",
            "grid_template_rows": null,
            "right": null,
            "justify_content": null,
            "_view_module": "@jupyter-widgets/base",
            "overflow": null,
            "_model_module_version": "1.2.0",
            "_view_count": null,
            "flex_flow": null,
            "width": null,
            "min_width": null,
            "border": null,
            "align_items": null,
            "bottom": null,
            "_model_module": "@jupyter-widgets/base",
            "top": null,
            "grid_column": null,
            "overflow_y": null,
            "overflow_x": null,
            "grid_auto_flow": null,
            "grid_area": null,
            "grid_template_columns": null,
            "flex": null,
            "_model_name": "LayoutModel",
            "justify_items": null,
            "grid_row": null,
            "max_height": null,
            "align_content": null,
            "visibility": null,
            "align_self": null,
            "height": null,
            "min_height": null,
            "padding": null,
            "grid_auto_rows": null,
            "grid_gap": null,
            "max_width": null,
            "order": null,
            "_view_module_version": "1.2.0",
            "grid_template_areas": null,
            "object_position": null,
            "object_fit": null,
            "grid_auto_columns": null,
            "margin": null,
            "display": null,
            "left": null
          }
        },
        "63008ea41d87414fa39030de5be41383": {
          "model_module": "@jupyter-widgets/controls",
          "model_name": "TabModel",
          "state": {
            "_view_name": "TabView",
            "_dom_classes": [],
            "_titles": {
              "0": "Youtube",
              "1": "Bilibili"
            },
            "_model_name": "TabModel",
            "_view_module": "@jupyter-widgets/controls",
            "selected_index": 0,
            "_model_module_version": "1.5.0",
            "_view_count": null,
            "_view_module_version": "1.5.0",
            "box_style": "",
            "layout": "IPY_MODEL_975de12c81b246c8a2943e02f39f84c0",
            "_model_module": "@jupyter-widgets/controls",
            "children": [
              "IPY_MODEL_7360ad172bba4b3ea3a539f4760132da",
              "IPY_MODEL_e15d4eca0ff54b9c8596b50cc132d8ab"
            ]
          }
        },
        "975de12c81b246c8a2943e02f39f84c0": {
          "model_module": "@jupyter-widgets/base",
          "model_name": "LayoutModel",
          "state": {
            "_view_name": "LayoutView",
            "grid_template_rows": null,
            "right": null,
            "justify_content": null,
            "_view_module": "@jupyter-widgets/base",
            "overflow": null,
            "_model_module_version": "1.2.0",
            "_view_count": null,
            "flex_flow": null,
            "width": null,
            "min_width": null,
            "border": null,
            "align_items": null,
            "bottom": null,
            "_model_module": "@jupyter-widgets/base",
            "top": null,
            "grid_column": null,
            "overflow_y": null,
            "overflow_x": null,
            "grid_auto_flow": null,
            "grid_area": null,
            "grid_template_columns": null,
            "flex": null,
            "_model_name": "LayoutModel",
            "justify_items": null,
            "grid_row": null,
            "max_height": null,
            "align_content": null,
            "visibility": null,
            "align_self": null,
            "height": null,
            "min_height": null,
            "padding": null,
            "grid_auto_rows": null,
            "grid_gap": null,
            "max_width": null,
            "order": null,
            "_view_module_version": "1.2.0",
            "grid_template_areas": null,
            "object_position": null,
            "object_fit": null,
            "grid_auto_columns": null,
            "margin": null,
            "display": null,
            "left": null
          }
        },
        "7360ad172bba4b3ea3a539f4760132da": {
          "model_module": "@jupyter-widgets/output",
          "model_name": "OutputModel",
          "state": {
            "_view_name": "OutputView",
            "msg_id": "",
            "_dom_classes": [],
            "_model_name": "OutputModel",
            "outputs": [
              {
                "output_type": "stream",
                "metadata": {
                  "tags": []
                },
                "text": "Video available at https://youtube.com/watch?v=qxU5dJz5hG0\n",
                "stream": "stdout"
              },
              {
                "output_type": "display_data",
                "metadata": {
                  "tags": []
                },
                "text/html": "\n        <iframe\n            width=\"854\"\n            height=\"480\"\n            src=\"https://www.youtube.com/embed/qxU5dJz5hG0?fs=1&rel=0\"\n            frameborder=\"0\"\n            allowfullscreen\n        ></iframe>\n        ",
                "text/plain": "<IPython.lib.display.YouTubeVideo at 0x7ff7099a1b50>",
                "image/jpeg": "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\n"
              }
            ],
            "_view_module": "@jupyter-widgets/output",
            "_model_module_version": "1.0.0",
            "_view_count": null,
            "_view_module_version": "1.0.0",
            "layout": "IPY_MODEL_96075053abf94e7482811f87ed91f037",
            "_model_module": "@jupyter-widgets/output"
          }
        },
        "e15d4eca0ff54b9c8596b50cc132d8ab": {
          "model_module": "@jupyter-widgets/output",
          "model_name": "OutputModel",
          "state": {
            "_view_name": "OutputView",
            "msg_id": "",
            "_dom_classes": [],
            "_model_name": "OutputModel",
            "outputs": [
              {
                "output_type": "stream",
                "metadata": {
                  "tags": []
                },
                "text": "Video available at https://www.bilibili.com/video/\n",
                "stream": "stdout"
              },
              {
                "output_type": "display_data",
                "metadata": {
                  "tags": []
                },
                "text/html": "\n        <iframe\n            width=\"854\"\n            height=\"480\"\n            src=\"https://player.bilibili.com/player.html?bvid=&page=1?fs=1\"\n            frameborder=\"0\"\n            allowfullscreen\n        ></iframe>\n        ",
                "text/plain": "<__main__.BiliVideo at 0x7ff70c33ad90>"
              }
            ],
            "_view_module": "@jupyter-widgets/output",
            "_model_module_version": "1.0.0",
            "_view_count": null,
            "_view_module_version": "1.0.0",
            "layout": "IPY_MODEL_b59e1bf9a4954485a3a1ff370cbc0636",
            "_model_module": "@jupyter-widgets/output"
          }
        },
        "96075053abf94e7482811f87ed91f037": {
          "model_module": "@jupyter-widgets/base",
          "model_name": "LayoutModel",
          "state": {
            "_view_name": "LayoutView",
            "grid_template_rows": null,
            "right": null,
            "justify_content": null,
            "_view_module": "@jupyter-widgets/base",
            "overflow": null,
            "_model_module_version": "1.2.0",
            "_view_count": null,
            "flex_flow": null,
            "width": null,
            "min_width": null,
            "border": null,
            "align_items": null,
            "bottom": null,
            "_model_module": "@jupyter-widgets/base",
            "top": null,
            "grid_column": null,
            "overflow_y": null,
            "overflow_x": null,
            "grid_auto_flow": null,
            "grid_area": null,
            "grid_template_columns": null,
            "flex": null,
            "_model_name": "LayoutModel",
            "justify_items": null,
            "grid_row": null,
            "max_height": null,
            "align_content": null,
            "visibility": null,
            "align_self": null,
            "height": null,
            "min_height": null,
            "padding": null,
            "grid_auto_rows": null,
            "grid_gap": null,
            "max_width": null,
            "order": null,
            "_view_module_version": "1.2.0",
            "grid_template_areas": null,
            "object_position": null,
            "object_fit": null,
            "grid_auto_columns": null,
            "margin": null,
            "display": null,
            "left": null
          }
        },
        "b59e1bf9a4954485a3a1ff370cbc0636": {
          "model_module": "@jupyter-widgets/base",
          "model_name": "LayoutModel",
          "state": {
            "_view_name": "LayoutView",
            "grid_template_rows": null,
            "right": null,
            "justify_content": null,
            "_view_module": "@jupyter-widgets/base",
            "overflow": null,
            "_model_module_version": "1.2.0",
            "_view_count": null,
            "flex_flow": null,
            "width": null,
            "min_width": null,
            "border": null,
            "align_items": null,
            "bottom": null,
            "_model_module": "@jupyter-widgets/base",
            "top": null,
            "grid_column": null,
            "overflow_y": null,
            "overflow_x": null,
            "grid_auto_flow": null,
            "grid_area": null,
            "grid_template_columns": null,
            "flex": null,
            "_model_name": "LayoutModel",
            "justify_items": null,
            "grid_row": null,
            "max_height": null,
            "align_content": null,
            "visibility": null,
            "align_self": null,
            "height": null,
            "min_height": null,
            "padding": null,
            "grid_auto_rows": null,
            "grid_gap": null,
            "max_width": null,
            "order": null,
            "_view_module_version": "1.2.0",
            "grid_template_areas": null,
            "object_position": null,
            "object_fit": null,
            "grid_auto_columns": null,
            "margin": null,
            "display": null,
            "left": null
          }
        },
        "426632466d064ca2bf03eba3f3abc245": {
          "model_module": "@jupyter-widgets/controls",
          "model_name": "TabModel",
          "state": {
            "_view_name": "TabView",
            "_dom_classes": [],
            "_titles": {
              "0": "Youtube",
              "1": "Bilibili"
            },
            "_model_name": "TabModel",
            "_view_module": "@jupyter-widgets/controls",
            "selected_index": 0,
            "_model_module_version": "1.5.0",
            "_view_count": null,
            "_view_module_version": "1.5.0",
            "box_style": "",
            "layout": "IPY_MODEL_14999f82b52d45adaef5af836e2ac397",
            "_model_module": "@jupyter-widgets/controls",
            "children": [
              "IPY_MODEL_c2d64aa2cabd469d869d1edfb8c549bd",
              "IPY_MODEL_e1f94133619f4ce78a7a6eef5976a12b"
            ]
          }
        },
        "14999f82b52d45adaef5af836e2ac397": {
          "model_module": "@jupyter-widgets/base",
          "model_name": "LayoutModel",
          "state": {
            "_view_name": "LayoutView",
            "grid_template_rows": null,
            "right": null,
            "justify_content": null,
            "_view_module": "@jupyter-widgets/base",
            "overflow": null,
            "_model_module_version": "1.2.0",
            "_view_count": null,
            "flex_flow": null,
            "width": null,
            "min_width": null,
            "border": null,
            "align_items": null,
            "bottom": null,
            "_model_module": "@jupyter-widgets/base",
            "top": null,
            "grid_column": null,
            "overflow_y": null,
            "overflow_x": null,
            "grid_auto_flow": null,
            "grid_area": null,
            "grid_template_columns": null,
            "flex": null,
            "_model_name": "LayoutModel",
            "justify_items": null,
            "grid_row": null,
            "max_height": null,
            "align_content": null,
            "visibility": null,
            "align_self": null,
            "height": null,
            "min_height": null,
            "padding": null,
            "grid_auto_rows": null,
            "grid_gap": null,
            "max_width": null,
            "order": null,
            "_view_module_version": "1.2.0",
            "grid_template_areas": null,
            "object_position": null,
            "object_fit": null,
            "grid_auto_columns": null,
            "margin": null,
            "display": null,
            "left": null
          }
        },
        "c2d64aa2cabd469d869d1edfb8c549bd": {
          "model_module": "@jupyter-widgets/output",
          "model_name": "OutputModel",
          "state": {
            "_view_name": "OutputView",
            "msg_id": "",
            "_dom_classes": [],
            "_model_name": "OutputModel",
            "outputs": [
              {
                "output_type": "stream",
                "metadata": {
                  "tags": []
                },
                "text": "Video available at https://youtube.com/watch?v=ul4loI_JUW0\n",
                "stream": "stdout"
              },
              {
                "output_type": "display_data",
                "metadata": {
                  "tags": []
                },
                "text/html": "\n        <iframe\n            width=\"854\"\n            height=\"480\"\n            src=\"https://www.youtube.com/embed/ul4loI_JUW0?fs=1&rel=0\"\n            frameborder=\"0\"\n            allowfullscreen\n        ></iframe>\n        ",
                "text/plain": "<IPython.lib.display.YouTubeVideo at 0x7ff705a67710>",
                "image/jpeg": "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\n"
              }
            ],
            "_view_module": "@jupyter-widgets/output",
            "_model_module_version": "1.0.0",
            "_view_count": null,
            "_view_module_version": "1.0.0",
            "layout": "IPY_MODEL_d3a57bf3d2654fa29623f72412ff3e91",
            "_model_module": "@jupyter-widgets/output"
          }
        },
        "e1f94133619f4ce78a7a6eef5976a12b": {
          "model_module": "@jupyter-widgets/output",
          "model_name": "OutputModel",
          "state": {
            "_view_name": "OutputView",
            "msg_id": "",
            "_dom_classes": [],
            "_model_name": "OutputModel",
            "outputs": [
              {
                "output_type": "stream",
                "metadata": {
                  "tags": []
                },
                "text": "Video available at https://www.bilibili.com/video/\n",
                "stream": "stdout"
              },
              {
                "output_type": "display_data",
                "metadata": {
                  "tags": []
                },
                "text/html": "\n        <iframe\n            width=\"854\"\n            height=\"480\"\n            src=\"https://player.bilibili.com/player.html?bvid=&page=1?fs=1\"\n            frameborder=\"0\"\n            allowfullscreen\n        ></iframe>\n        ",
                "text/plain": "<__main__.BiliVideo at 0x7ff705a67310>"
              }
            ],
            "_view_module": "@jupyter-widgets/output",
            "_model_module_version": "1.0.0",
            "_view_count": null,
            "_view_module_version": "1.0.0",
            "layout": "IPY_MODEL_251d2a268fb3469988b8cfe9a6e3b642",
            "_model_module": "@jupyter-widgets/output"
          }
        },
        "d3a57bf3d2654fa29623f72412ff3e91": {
          "model_module": "@jupyter-widgets/base",
          "model_name": "LayoutModel",
          "state": {
            "_view_name": "LayoutView",
            "grid_template_rows": null,
            "right": null,
            "justify_content": null,
            "_view_module": "@jupyter-widgets/base",
            "overflow": null,
            "_model_module_version": "1.2.0",
            "_view_count": null,
            "flex_flow": null,
            "width": null,
            "min_width": null,
            "border": null,
            "align_items": null,
            "bottom": null,
            "_model_module": "@jupyter-widgets/base",
            "top": null,
            "grid_column": null,
            "overflow_y": null,
            "overflow_x": null,
            "grid_auto_flow": null,
            "grid_area": null,
            "grid_template_columns": null,
            "flex": null,
            "_model_name": "LayoutModel",
            "justify_items": null,
            "grid_row": null,
            "max_height": null,
            "align_content": null,
            "visibility": null,
            "align_self": null,
            "height": null,
            "min_height": null,
            "padding": null,
            "grid_auto_rows": null,
            "grid_gap": null,
            "max_width": null,
            "order": null,
            "_view_module_version": "1.2.0",
            "grid_template_areas": null,
            "object_position": null,
            "object_fit": null,
            "grid_auto_columns": null,
            "margin": null,
            "display": null,
            "left": null
          }
        },
        "251d2a268fb3469988b8cfe9a6e3b642": {
          "model_module": "@jupyter-widgets/base",
          "model_name": "LayoutModel",
          "state": {
            "_view_name": "LayoutView",
            "grid_template_rows": null,
            "right": null,
            "justify_content": null,
            "_view_module": "@jupyter-widgets/base",
            "overflow": null,
            "_model_module_version": "1.2.0",
            "_view_count": null,
            "flex_flow": null,
            "width": null,
            "min_width": null,
            "border": null,
            "align_items": null,
            "bottom": null,
            "_model_module": "@jupyter-widgets/base",
            "top": null,
            "grid_column": null,
            "overflow_y": null,
            "overflow_x": null,
            "grid_auto_flow": null,
            "grid_area": null,
            "grid_template_columns": null,
            "flex": null,
            "_model_name": "LayoutModel",
            "justify_items": null,
            "grid_row": null,
            "max_height": null,
            "align_content": null,
            "visibility": null,
            "align_self": null,
            "height": null,
            "min_height": null,
            "padding": null,
            "grid_auto_rows": null,
            "grid_gap": null,
            "max_width": null,
            "order": null,
            "_view_module_version": "1.2.0",
            "grid_template_areas": null,
            "object_position": null,
            "object_fit": null,
            "grid_auto_columns": null,
            "margin": null,
            "display": null,
            "left": null
          }
        },
        "9369dc7eaf1341c4ad4b9a82304b2493": {
          "model_module": "@jupyter-widgets/controls",
          "model_name": "TabModel",
          "state": {
            "_view_name": "TabView",
            "_dom_classes": [],
            "_titles": {
              "0": "Youtube",
              "1": "Bilibili"
            },
            "_model_name": "TabModel",
            "_view_module": "@jupyter-widgets/controls",
            "selected_index": 0,
            "_model_module_version": "1.5.0",
            "_view_count": null,
            "_view_module_version": "1.5.0",
            "box_style": "",
            "layout": "IPY_MODEL_8b245831aa3e40e6adc715ed4e3951c7",
            "_model_module": "@jupyter-widgets/controls",
            "children": [
              "IPY_MODEL_66d25e8ded1143e886d76bed9bf0b896",
              "IPY_MODEL_4cf757043ab449348b447dbd08ca64dc"
            ]
          }
        },
        "8b245831aa3e40e6adc715ed4e3951c7": {
          "model_module": "@jupyter-widgets/base",
          "model_name": "LayoutModel",
          "state": {
            "_view_name": "LayoutView",
            "grid_template_rows": null,
            "right": null,
            "justify_content": null,
            "_view_module": "@jupyter-widgets/base",
            "overflow": null,
            "_model_module_version": "1.2.0",
            "_view_count": null,
            "flex_flow": null,
            "width": null,
            "min_width": null,
            "border": null,
            "align_items": null,
            "bottom": null,
            "_model_module": "@jupyter-widgets/base",
            "top": null,
            "grid_column": null,
            "overflow_y": null,
            "overflow_x": null,
            "grid_auto_flow": null,
            "grid_area": null,
            "grid_template_columns": null,
            "flex": null,
            "_model_name": "LayoutModel",
            "justify_items": null,
            "grid_row": null,
            "max_height": null,
            "align_content": null,
            "visibility": null,
            "align_self": null,
            "height": null,
            "min_height": null,
            "padding": null,
            "grid_auto_rows": null,
            "grid_gap": null,
            "max_width": null,
            "order": null,
            "_view_module_version": "1.2.0",
            "grid_template_areas": null,
            "object_position": null,
            "object_fit": null,
            "grid_auto_columns": null,
            "margin": null,
            "display": null,
            "left": null
          }
        },
        "66d25e8ded1143e886d76bed9bf0b896": {
          "model_module": "@jupyter-widgets/output",
          "model_name": "OutputModel",
          "state": {
            "_view_name": "OutputView",
            "msg_id": "",
            "_dom_classes": [],
            "_model_name": "OutputModel",
            "outputs": [
              {
                "output_type": "stream",
                "metadata": {
                  "tags": []
                },
                "text": "Video available at https://youtube.com/watch?v=X-R0hjID93M\n",
                "stream": "stdout"
              },
              {
                "output_type": "display_data",
                "metadata": {
                  "tags": []
                },
                "text/html": "\n        <iframe\n            width=\"854\"\n            height=\"480\"\n            src=\"https://www.youtube.com/embed/X-R0hjID93M?fs=1&rel=0\"\n            frameborder=\"0\"\n            allowfullscreen\n        ></iframe>\n        ",
                "text/plain": "<IPython.lib.display.YouTubeVideo at 0x7ff70cd9fe90>",
                "image/jpeg": "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\n"
              }
            ],
            "_view_module": "@jupyter-widgets/output",
            "_model_module_version": "1.0.0",
            "_view_count": null,
            "_view_module_version": "1.0.0",
            "layout": "IPY_MODEL_829a4ac576f24843b95508c34bcef1a1",
            "_model_module": "@jupyter-widgets/output"
          }
        },
        "4cf757043ab449348b447dbd08ca64dc": {
          "model_module": "@jupyter-widgets/output",
          "model_name": "OutputModel",
          "state": {
            "_view_name": "OutputView",
            "msg_id": "",
            "_dom_classes": [],
            "_model_name": "OutputModel",
            "outputs": [
              {
                "output_type": "stream",
                "metadata": {
                  "tags": []
                },
                "text": "Video available at https://www.bilibili.com/video/\n",
                "stream": "stdout"
              },
              {
                "output_type": "display_data",
                "metadata": {
                  "tags": []
                },
                "text/html": "\n        <iframe\n            width=\"854\"\n            height=\"480\"\n            src=\"https://player.bilibili.com/player.html?bvid=&page=1?fs=1\"\n            frameborder=\"0\"\n            allowfullscreen\n        ></iframe>\n        ",
                "text/plain": "<__main__.BiliVideo at 0x7ff705f309d0>"
              }
            ],
            "_view_module": "@jupyter-widgets/output",
            "_model_module_version": "1.0.0",
            "_view_count": null,
            "_view_module_version": "1.0.0",
            "layout": "IPY_MODEL_365ba152457741d2934624f3abd78019",
            "_model_module": "@jupyter-widgets/output"
          }
        },
        "829a4ac576f24843b95508c34bcef1a1": {
          "model_module": "@jupyter-widgets/base",
          "model_name": "LayoutModel",
          "state": {
            "_view_name": "LayoutView",
            "grid_template_rows": null,
            "right": null,
            "justify_content": null,
            "_view_module": "@jupyter-widgets/base",
            "overflow": null,
            "_model_module_version": "1.2.0",
            "_view_count": null,
            "flex_flow": null,
            "width": null,
            "min_width": null,
            "border": null,
            "align_items": null,
            "bottom": null,
            "_model_module": "@jupyter-widgets/base",
            "top": null,
            "grid_column": null,
            "overflow_y": null,
            "overflow_x": null,
            "grid_auto_flow": null,
            "grid_area": null,
            "grid_template_columns": null,
            "flex": null,
            "_model_name": "LayoutModel",
            "justify_items": null,
            "grid_row": null,
            "max_height": null,
            "align_content": null,
            "visibility": null,
            "align_self": null,
            "height": null,
            "min_height": null,
            "padding": null,
            "grid_auto_rows": null,
            "grid_gap": null,
            "max_width": null,
            "order": null,
            "_view_module_version": "1.2.0",
            "grid_template_areas": null,
            "object_position": null,
            "object_fit": null,
            "grid_auto_columns": null,
            "margin": null,
            "display": null,
            "left": null
          }
        },
        "365ba152457741d2934624f3abd78019": {
          "model_module": "@jupyter-widgets/base",
          "model_name": "LayoutModel",
          "state": {
            "_view_name": "LayoutView",
            "grid_template_rows": null,
            "right": null,
            "justify_content": null,
            "_view_module": "@jupyter-widgets/base",
            "overflow": null,
            "_model_module_version": "1.2.0",
            "_view_count": null,
            "flex_flow": null,
            "width": null,
            "min_width": null,
            "border": null,
            "align_items": null,
            "bottom": null,
            "_model_module": "@jupyter-widgets/base",
            "top": null,
            "grid_column": null,
            "overflow_y": null,
            "overflow_x": null,
            "grid_auto_flow": null,
            "grid_area": null,
            "grid_template_columns": null,
            "flex": null,
            "_model_name": "LayoutModel",
            "justify_items": null,
            "grid_row": null,
            "max_height": null,
            "align_content": null,
            "visibility": null,
            "align_self": null,
            "height": null,
            "min_height": null,
            "padding": null,
            "grid_auto_rows": null,
            "grid_gap": null,
            "max_width": null,
            "order": null,
            "_view_module_version": "1.2.0",
            "grid_template_areas": null,
            "object_position": null,
            "object_fit": null,
            "grid_auto_columns": null,
            "margin": null,
            "display": null,
            "left": null
          }
        },
        "fadacbc1dd96429e99df6df7f3022d0a": {
          "model_module": "@jupyter-widgets/controls",
          "model_name": "TabModel",
          "state": {
            "_view_name": "TabView",
            "_dom_classes": [],
            "_titles": {
              "0": "Youtube",
              "1": "Bilibili"
            },
            "_model_name": "TabModel",
            "_view_module": "@jupyter-widgets/controls",
            "selected_index": 1,
            "_model_module_version": "1.5.0",
            "_view_count": null,
            "_view_module_version": "1.5.0",
            "box_style": "",
            "layout": "IPY_MODEL_733284fa080043cdae99e849a30c0150",
            "_model_module": "@jupyter-widgets/controls",
            "children": [
              "IPY_MODEL_599ec2eb9c3d4f499df64ddb0ccbe394",
              "IPY_MODEL_773ec6fd68ab4c25bd50e5a49939110b"
            ]
          }
        },
        "733284fa080043cdae99e849a30c0150": {
          "model_module": "@jupyter-widgets/base",
          "model_name": "LayoutModel",
          "state": {
            "_view_name": "LayoutView",
            "grid_template_rows": null,
            "right": null,
            "justify_content": null,
            "_view_module": "@jupyter-widgets/base",
            "overflow": null,
            "_model_module_version": "1.2.0",
            "_view_count": null,
            "flex_flow": null,
            "width": null,
            "min_width": null,
            "border": null,
            "align_items": null,
            "bottom": null,
            "_model_module": "@jupyter-widgets/base",
            "top": null,
            "grid_column": null,
            "overflow_y": null,
            "overflow_x": null,
            "grid_auto_flow": null,
            "grid_area": null,
            "grid_template_columns": null,
            "flex": null,
            "_model_name": "LayoutModel",
            "justify_items": null,
            "grid_row": null,
            "max_height": null,
            "align_content": null,
            "visibility": null,
            "align_self": null,
            "height": null,
            "min_height": null,
            "padding": null,
            "grid_auto_rows": null,
            "grid_gap": null,
            "max_width": null,
            "order": null,
            "_view_module_version": "1.2.0",
            "grid_template_areas": null,
            "object_position": null,
            "object_fit": null,
            "grid_auto_columns": null,
            "margin": null,
            "display": null,
            "left": null
          }
        },
        "599ec2eb9c3d4f499df64ddb0ccbe394": {
          "model_module": "@jupyter-widgets/output",
          "model_name": "OutputModel",
          "state": {
            "_view_name": "OutputView",
            "msg_id": "",
            "_dom_classes": [],
            "_model_name": "OutputModel",
            "outputs": [
              {
                "output_type": "stream",
                "metadata": {
                  "tags": []
                },
                "text": "Video available at https://youtube.com/watch?v=z7QIdREXmf8\n",
                "stream": "stdout"
              },
              {
                "output_type": "display_data",
                "metadata": {
                  "tags": []
                },
                "text/html": "\n        <iframe\n            width=\"854\"\n            height=\"480\"\n            src=\"https://www.youtube.com/embed/z7QIdREXmf8?fs=1&rel=0\"\n            frameborder=\"0\"\n            allowfullscreen\n        ></iframe>\n        ",
                "text/plain": "<IPython.lib.display.YouTubeVideo at 0x7ff705a4c8d0>",
                "image/jpeg": "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\n"
              }
            ],
            "_view_module": "@jupyter-widgets/output",
            "_model_module_version": "1.0.0",
            "_view_count": null,
            "_view_module_version": "1.0.0",
            "layout": "IPY_MODEL_91a8a04044e74a4bb73f92d704ff81a2",
            "_model_module": "@jupyter-widgets/output"
          }
        },
        "773ec6fd68ab4c25bd50e5a49939110b": {
          "model_module": "@jupyter-widgets/output",
          "model_name": "OutputModel",
          "state": {
            "_view_name": "OutputView",
            "msg_id": "",
            "_dom_classes": [],
            "_model_name": "OutputModel",
            "outputs": [
              {
                "output_type": "stream",
                "metadata": {
                  "tags": []
                },
                "text": "Video available at https://www.bilibili.com/video/\n",
                "stream": "stdout"
              },
              {
                "output_type": "display_data",
                "metadata": {
                  "tags": []
                },
                "text/html": "\n        <iframe\n            width=\"854\"\n            height=\"480\"\n            src=\"https://player.bilibili.com/player.html?bvid=&page=1?fs=1\"\n            frameborder=\"0\"\n            allowfullscreen\n        ></iframe>\n        ",
                "text/plain": "<__main__.BiliVideo at 0x7ff705aa5250>"
              }
            ],
            "_view_module": "@jupyter-widgets/output",
            "_model_module_version": "1.0.0",
            "_view_count": null,
            "_view_module_version": "1.0.0",
            "layout": "IPY_MODEL_88a68113a09943b5afd037fda26805ef",
            "_model_module": "@jupyter-widgets/output"
          }
        },
        "91a8a04044e74a4bb73f92d704ff81a2": {
          "model_module": "@jupyter-widgets/base",
          "model_name": "LayoutModel",
          "state": {
            "_view_name": "LayoutView",
            "grid_template_rows": null,
            "right": null,
            "justify_content": null,
            "_view_module": "@jupyter-widgets/base",
            "overflow": null,
            "_model_module_version": "1.2.0",
            "_view_count": null,
            "flex_flow": null,
            "width": null,
            "min_width": null,
            "border": null,
            "align_items": null,
            "bottom": null,
            "_model_module": "@jupyter-widgets/base",
            "top": null,
            "grid_column": null,
            "overflow_y": null,
            "overflow_x": null,
            "grid_auto_flow": null,
            "grid_area": null,
            "grid_template_columns": null,
            "flex": null,
            "_model_name": "LayoutModel",
            "justify_items": null,
            "grid_row": null,
            "max_height": null,
            "align_content": null,
            "visibility": null,
            "align_self": null,
            "height": null,
            "min_height": null,
            "padding": null,
            "grid_auto_rows": null,
            "grid_gap": null,
            "max_width": null,
            "order": null,
            "_view_module_version": "1.2.0",
            "grid_template_areas": null,
            "object_position": null,
            "object_fit": null,
            "grid_auto_columns": null,
            "margin": null,
            "display": null,
            "left": null
          }
        },
        "88a68113a09943b5afd037fda26805ef": {
          "model_module": "@jupyter-widgets/base",
          "model_name": "LayoutModel",
          "state": {
            "_view_name": "LayoutView",
            "grid_template_rows": null,
            "right": null,
            "justify_content": null,
            "_view_module": "@jupyter-widgets/base",
            "overflow": null,
            "_model_module_version": "1.2.0",
            "_view_count": null,
            "flex_flow": null,
            "width": null,
            "min_width": null,
            "border": null,
            "align_items": null,
            "bottom": null,
            "_model_module": "@jupyter-widgets/base",
            "top": null,
            "grid_column": null,
            "overflow_y": null,
            "overflow_x": null,
            "grid_auto_flow": null,
            "grid_area": null,
            "grid_template_columns": null,
            "flex": null,
            "_model_name": "LayoutModel",
            "justify_items": null,
            "grid_row": null,
            "max_height": null,
            "align_content": null,
            "visibility": null,
            "align_self": null,
            "height": null,
            "min_height": null,
            "padding": null,
            "grid_auto_rows": null,
            "grid_gap": null,
            "max_width": null,
            "order": null,
            "_view_module_version": "1.2.0",
            "grid_template_areas": null,
            "object_position": null,
            "object_fit": null,
            "grid_auto_columns": null,
            "margin": null,
            "display": null,
            "left": null
          }
        }
      }
    }
  },
  "cells": [
    {
      "cell_type": "markdown",
      "metadata": {
        "id": "view-in-github",
        "colab_type": "text"
      },
      "source": [
        "<a href=\"https://colab.research.google.com/github/NeuromatchAcademy/course-content/blob/W1D2_updates/projects/modelingsteps/ModelingSteps_5through10.ipynb\" target=\"_parent\"><img src=\"https://colab.research.google.com/assets/colab-badge.svg\" alt=\"Open In Colab\"/></a>"
      ]
    },
    {
      "cell_type": "markdown",
      "metadata": {
        "id": "9EuRHfJVaPz3"
      },
      "source": [
        "# Modeling Steps 5 - 10\n",
        "\n",
        "**Project guidance**\n",
        "\n",
        "__Content creators:__ Marius 't Hart, Megan Peters, Paul Schrater,  Jean Laurens, Gunnar Blohm"
      ]
    },
    {
      "cell_type": "markdown",
      "metadata": {
        "id": "9zVF7dVxWYnR"
      },
      "source": [
        "**Our 2021 Sponsors, including Presenting Sponsor Facebook Reality Labs**\n",
        "\n",
        "<p align='center'><img src='https://github.com/NeuromatchAcademy/widgets/blob/master/sponsors.png?raw=True'/></p>"
      ]
    },
    {
      "cell_type": "markdown",
      "metadata": {
        "id": "sD-xWDF8aRSv"
      },
      "source": [
        "# Objectives\n",
        "This notebook contains the remaining steps of the how-to-model guide. \n",
        "\n",
        "**Implementing the model**\n",
        "5. Toolkit selection\n",
        "6. Planning the model\n",
        "7. Implementing the model\n",
        "\n",
        "**Model testing**\n",
        "8. Completing the model\n",
        "9. Testing and evaluating the model\n",
        "\n",
        "**Publishing**\n",
        "10. Publishing models\n",
        "\n",
        "Please see Steps 1 - 4 here first. We do not cover the two example projects in tabs here because you will want to dive into the code in the full project notebooks here and here."
      ]
    },
    {
      "cell_type": "markdown",
      "metadata": {
        "id": "xOW8X1_1axwo"
      },
      "source": [
        "----\n",
        "# Step 5: Selecting the toolkit\n",
        "\n",
        "\n",
        "\n",
        "\n"
      ]
    },
    {
      "cell_type": "code",
      "metadata": {
        "id": "7n5fz1Kq0b-z",
        "colab": {
          "base_uri": "https://localhost:8080/",
          "height": 580,
          "referenced_widgets": [
            "b141dca688c74961aba073e506590acd",
            "d06ed75acc5941f1a949b857e217ba82",
            "521b6f27a9314bd0b8203be3985c15d9",
            "e43a5d0561184c82b120f8e70a20119a",
            "c9ace8264ba34c6588f68f8ac3b9903c",
            "266a1759e82d447ba19695b2e440e39f"
          ]
        },
        "cellView": "form",
        "outputId": "16318b2c-f0c6-4bb7-a978-e93e371b1742"
      },
      "source": [
        "# @title Video 1: Selecting the toolkit\n",
        "\n",
        "from ipywidgets import widgets\n",
        "\n",
        "out2 = widgets.Output()\n",
        "with out2:\n",
        "  from IPython.display import IFrame\n",
        "  class BiliVideo(IFrame):\n",
        "      def __init__(self, id, page=1, width=400, height=300, **kwargs):\n",
        "          self.id=id\n",
        "          src = 'https://player.bilibili.com/player.html?bvid={0}&page={1}'.format(id, page)\n",
        "          super(BiliVideo, self).__init__(src, width, height, **kwargs)\n",
        "\n",
        "  video = BiliVideo(id=\"\", width=854, height=480, fs=1)\n",
        "  print('Video available at https://www.bilibili.com/video/{0}'.format(video.id))\n",
        "  display(video)\n",
        "\n",
        "out1 = widgets.Output()\n",
        "with out1:\n",
        "  from IPython.display import YouTubeVideo\n",
        "  video = YouTubeVideo(id=\"q5_c18Kxx0k\", width=854, height=480, fs=1, rel=0)\n",
        "  print('Video available at https://youtube.com/watch?v=' + video.id)\n",
        "  display(video)\n",
        "\n",
        "out = widgets.Tab([out1, out2])\n",
        "out.set_title(0, 'Youtube')\n",
        "out.set_title(1, 'Bilibili')\n",
        "\n",
        "display(out)"
      ],
      "execution_count": 4,
      "outputs": [
        {
          "output_type": "display_data",
          "data": {
            "application/vnd.jupyter.widget-view+json": {
              "model_id": "b141dca688c74961aba073e506590acd",
              "version_minor": 0,
              "version_major": 2
            },
            "text/plain": [
              "Tab(children=(Output(), Output()), _titles={'0': 'Youtube', '1': 'Bilibili'})"
            ]
          },
          "metadata": {
            "tags": []
          }
        }
      ]
    },
    {
      "cell_type": "markdown",
      "metadata": {
        "id": "T3M-yGFURRXK"
      },
      "source": [
        "Once you have completed Steps 1-4 to your satisfaction, you are now ready to model. You have a specific question, a goal in mind, and precise hypotheses expressed in mathematical language. All these components will empower you to chose an appropriate modeling approach. \n",
        "\n",
        "In selecting the right toolkit, i.e. the right mathematics, computer science, engineering, or physics, etc approaches, you should consider the following important rules:\n",
        "1. Determine the level of abstraction\n",
        "2. Select the toolkit that best represents the ingredients and hypotheses\n",
        "3. Toolkit should express all needed relationships, mechanisms and concepts\n",
        "4. Keep it as simple as possible!\n",
        "\n",
        "**Guiding questions**:\n",
        "* What is the most appropriate approach to answer your question?\n",
        "  * What level of abstraction is needed?\n",
        "  * Determine granularity / scale based on hypotheses & goals\n",
        "  * Stay as high-level as possible, but be as detailed as needed!!!\n",
        "* Select the toolkit\n",
        "  * Requires prior knowledge about flexibility / limitations of toolkit\n",
        "  * Often more than one option possible\n",
        "  * Some toolkits are more flexible, span a wider range of behaviour and/or are lumpable\n",
        "  * Also determines how the model will be solved, i.e. simulated\n",
        "    * Analytical? Numerical?\n",
        "    * E.g. spatial, temporal resolution?\n",
        "\n",
        "Viewing [modeling as a decision process](https://doi.org/10.1523/ENEURO.0352-19.2019) might help providing clarity regarding different model types, and how framing the problem and stating your goals influences the toolkit selection. Don't be afraid to pursue goals that no one else pursues; [diversity of models should be encouraged](https://nbdt.scholasticahq.com/article/16723-appreciating-the-variety-of-goals-in-computational-neuroscience) because it results in complementary model considerations. \n"
      ]
    },
    {
      "cell_type": "markdown",
      "metadata": {
        "id": "yGbjwNMazVoE"
      },
      "source": [
        "**Make sure to avoid the pitfalls!**\n",
        "<details>\n",
        "<summary>Click here for a recap on pitfalls</summary>\n",
        "\n",
        "Choosing a toolkit for the toolkit's sake (e.g. DL because it's cool to do deep learning)\n",
        "<ul>\n",
        "  <li>this will prevent you to really answer your research question and/or speak to your hypotheses</li>\n",
        "  </ul>\n",
        "\n",
        "Being at the wrong level of abstraction (see W1D1 intro)\n",
        "<ul>\n",
        "  <li>too complex toolkits will have too many parameters you can't meaningfully constrain, and/or that add needless complexity</li>\n",
        "  <li>too simple toolkits will lack means to implement the details you care about</li>\n",
        "  </ul>\n",
        "  \n",
        "Not knowing any toolkits\n",
        "<ul>\n",
        "  <li>this highlights a lack of literature review and/or background work to learn about the tools used by the field</li>\n",
        "  </ul>"
      ]
    },
    {
      "cell_type": "markdown",
      "metadata": {
        "id": "74oAwAdkbheB"
      },
      "source": [
        "----\n",
        "# Step 6: Planning / drafting the model\n",
        "\n",
        "\n",
        "\n",
        "\n",
        "\n",
        "\n"
      ]
    },
    {
      "cell_type": "code",
      "metadata": {
        "id": "kh7Su2ja0ltD",
        "colab": {
          "base_uri": "https://localhost:8080/",
          "height": 580,
          "referenced_widgets": [
            "b9b3b1bad952421d98fcfd30f69e1aef",
            "03f255225e474e098aed00b0c5a4d5df",
            "29cbdec353104b20a23c532d0762c945",
            "b96214c223da42de971dafccd960945f",
            "c86ae98b619445f5b998da957809a657",
            "b19c03a542d9474bbc07bf79385aa1d7"
          ]
        },
        "cellView": "form",
        "outputId": "b69e1d8b-5706-4973-d6ea-ef8f7d6cd636"
      },
      "source": [
        "# @title Video 2: Drafting the modeling\n",
        "\n",
        "from ipywidgets import widgets\n",
        "\n",
        "out2 = widgets.Output()\n",
        "with out2:\n",
        "  from IPython.display import IFrame\n",
        "  class BiliVideo(IFrame):\n",
        "      def __init__(self, id, page=1, width=400, height=300, **kwargs):\n",
        "          self.id=id\n",
        "          src = 'https://player.bilibili.com/player.html?bvid={0}&page={1}'.format(id, page)\n",
        "          super(BiliVideo, self).__init__(src, width, height, **kwargs)\n",
        "\n",
        "  video = BiliVideo(id=\"\", width=854, height=480, fs=1)\n",
        "  print('Video available at https://www.bilibili.com/video/{0}'.format(video.id))\n",
        "  display(video)\n",
        "\n",
        "out1 = widgets.Output()\n",
        "with out1:\n",
        "  from IPython.display import YouTubeVideo\n",
        "  video = YouTubeVideo(id=\"KrbKjzURlQA\", width=854, height=480, fs=1, rel=0)\n",
        "  print('Video available at https://youtube.com/watch?v=' + video.id)\n",
        "  display(video)\n",
        "\n",
        "out = widgets.Tab([out1, out2])\n",
        "out.set_title(0, 'Youtube')\n",
        "out.set_title(1, 'Bilibili')\n",
        "\n",
        "display(out)"
      ],
      "execution_count": 5,
      "outputs": [
        {
          "output_type": "display_data",
          "data": {
            "application/vnd.jupyter.widget-view+json": {
              "model_id": "b9b3b1bad952421d98fcfd30f69e1aef",
              "version_minor": 0,
              "version_major": 2
            },
            "text/plain": [
              "Tab(children=(Output(), Output()), _titles={'0': 'Youtube', '1': 'Bilibili'})"
            ]
          },
          "metadata": {
            "tags": []
          }
        }
      ]
    },
    {
      "cell_type": "markdown",
      "metadata": {
        "id": "GeFDzbc7Rds_"
      },
      "source": [
        "Planning the model involves thinking about the general outline of the model, its components and how they might fit together. You want to draw a model diagram, make some sketches and formalize necessary equations. This step will thus outline a plan of implementation. Once you have that plan, this will hugely facilitate the actual implementation of the model in computer code. \n",
        "\n",
        "Your model will have:\n",
        "* **inputs**: the values the system has available - this can be broken down into _data_, and _parameters_ \n",
        "* **outputs**: these are the predictions our model will make that you could portentially measure (e.g. in your idealized experiment)\n",
        "* **model functions**: A set of functions that perform the hypothesized computations.\n",
        "\n",
        "You will thus need to define a set of functions that take your data and some parameters as input, can run your model, and output a prediction for a hypothetical measurment.\n",
        "\n",
        "**Guiding principles**:\n",
        "* Keep it as simple as possible!\n",
        "* Don't get lost in details\n",
        "* Draft on paper: start with a flow diagram\n",
        "  * Draw out model components (boxes)\n",
        "  * What influences what? (arrows)\n",
        "* Then consider each model box separately\n",
        "  * Draft internal workings in terms of equations\n",
        "  * This might require a lot of work…\n",
        "  * Relate box inputs to box outputs!\n",
        "  * Keep in mind that the model should include a way to relate model variables to measurements\n",
        "  * Use the question, ingredients, and hypotheses to ensure you have all required components\n",
        "\n",
        "**Goal**: Put in place all the components of the hypothesized relationships and explanations. \n"
      ]
    },
    {
      "cell_type": "markdown",
      "metadata": {
        "id": "1j4ExTJv2Cw2"
      },
      "source": [
        "**Make sure to avoid the pitfalls!**\n",
        "<details>\n",
        "<summary>Click here for a recap on pitfalls</summary>\n",
        "\n",
        "I don't need to draft the model, I have it clearly in my mind\n",
        "<ul>\n",
        "  <li>you might think you do, but experience shows you're likely missing many important aspects</li>\n",
        "  </ul>\n",
        "\n",
        "I can just make a rough draft\n",
        "<ul>\n",
        "  <li>the more detailed the draft, the easier it will be to implement the model in computer code</li>\n",
        "  <li>rough drafts tend to forget important details that you need to think about, e.g. signals needed (where do they come from?), parameters to specify (how to constrain them?), etc.</li>\n",
        "  </ul>\n",
        "\n",
        "Draft is too detailed or not detailed enough\n",
        "<ul>\n",
        "  <li>too detailed: you're writing our recursions, etc</li>\n",
        "  <li>not detailed enough: you have no idea what's inside \"boxes\"</li>\n",
        "  </ul>"
      ]
    },
    {
      "cell_type": "markdown",
      "metadata": {
        "id": "KCaxeFnfnmUe"
      },
      "source": [
        "----\n",
        "# Step 7: Implementing the model\n",
        "\n",
        "\n"
      ]
    },
    {
      "cell_type": "code",
      "metadata": {
        "id": "Cb6yLEXp0siL",
        "colab": {
          "base_uri": "https://localhost:8080/",
          "height": 580,
          "referenced_widgets": [
            "63008ea41d87414fa39030de5be41383",
            "975de12c81b246c8a2943e02f39f84c0",
            "7360ad172bba4b3ea3a539f4760132da",
            "e15d4eca0ff54b9c8596b50cc132d8ab",
            "96075053abf94e7482811f87ed91f037",
            "b59e1bf9a4954485a3a1ff370cbc0636"
          ]
        },
        "cellView": "form",
        "outputId": "e8df362e-780c-4f54-d6b5-d5aa2ee54356"
      },
      "source": [
        "# @title Video 3: Implementing the modeling\n",
        "\n",
        "from ipywidgets import widgets\n",
        "\n",
        "out2 = widgets.Output()\n",
        "with out2:\n",
        "  from IPython.display import IFrame\n",
        "  class BiliVideo(IFrame):\n",
        "      def __init__(self, id, page=1, width=400, height=300, **kwargs):\n",
        "          self.id=id\n",
        "          src = 'https://player.bilibili.com/player.html?bvid={0}&page={1}'.format(id, page)\n",
        "          super(BiliVideo, self).__init__(src, width, height, **kwargs)\n",
        "\n",
        "  video = BiliVideo(id=\"\", width=854, height=480, fs=1)\n",
        "  print('Video available at https://www.bilibili.com/video/{0}'.format(video.id))\n",
        "  display(video)\n",
        "\n",
        "out1 = widgets.Output()\n",
        "with out1:\n",
        "  from IPython.display import YouTubeVideo\n",
        "  video = YouTubeVideo(id=\"qxU5dJz5hG0\", width=854, height=480, fs=1, rel=0)\n",
        "  print('Video available at https://youtube.com/watch?v=' + video.id)\n",
        "  display(video)\n",
        "\n",
        "out = widgets.Tab([out1, out2])\n",
        "out.set_title(0, 'Youtube')\n",
        "out.set_title(1, 'Bilibili')\n",
        "\n",
        "display(out)"
      ],
      "execution_count": 6,
      "outputs": [
        {
          "output_type": "display_data",
          "data": {
            "application/vnd.jupyter.widget-view+json": {
              "model_id": "63008ea41d87414fa39030de5be41383",
              "version_minor": 0,
              "version_major": 2
            },
            "text/plain": [
              "Tab(children=(Output(), Output()), _titles={'0': 'Youtube', '1': 'Bilibili'})"
            ]
          },
          "metadata": {
            "tags": []
          }
        }
      ]
    },
    {
      "cell_type": "markdown",
      "metadata": {
        "id": "_baPETo2Qrbf"
      },
      "source": [
        "This is the step where you finally start writing code! Separately implement each box, icon, or flow relationship identified in Step 6. **Test** each of those model components separately! (This is called a *unit test*). Unit testing ensures that each model components works are expected/planned. \n",
        "\n",
        "**Guiding principles**:\n",
        "* Start with the easiest possible implementation\n",
        "  * Test functionality of model after each step before adding new model components (unit tests)\n",
        "  * Simple models can sometimes accomplish surprisingly much…\n",
        "* Add / remove different model elements\n",
        "  * Gain insight into working principles\n",
        "  * What’s crucial, what isn’t?\n",
        "  * Every component of the model must be crucial!\n",
        "* Make use of tools to evaluate model behavior\n",
        "  * E.g. graphical analysis, changing parameter sets, stability / equilibrium analyses, derive general solutions, asymptotes, periodic behaviour, etc.\n",
        "\n",
        "**Goal**: Understand how each model component works in isolation and what the resulting overall model behavior is."
      ]
    },
    {
      "cell_type": "markdown",
      "metadata": {
        "id": "vkqNoh5A2uN-"
      },
      "source": [
        "**Make sure to avoid the pitfalls!**\n",
        "<details>\n",
        "<summary>Click here for a recap on pitfalls</summary>\n",
        "\n",
        "\n",
        "Building the whole model at once without testing components\n",
        "<ul>\n",
        "  <li>you will make mistakes. Debug model components as you go!</li>\n",
        "  <li>debugging a complex model is close to impossible. Is it not woring because individual components are not working? Or do components not \"play nice\" together?</li>\n",
        "  </ul>\n",
        "\n",
        "Not testing if individual components are important\n",
        "<ul>\n",
        "  <li>It's easy to add *useless* components to a model. They will be distracting for you and for readers</li>\n",
        "  </ul>\n",
        "\n",
        "Not testing model functionality step by step as you  build up the model\n",
        "<ul>\n",
        "  <li>You'd be surprised by what basic components often can alrealy achieve... E.g. our intuition is really bad when it comes to dynamical systems</li>\n",
        "  </ul>\n",
        "\n",
        "Not using standard model testing tools\n",
        "<ul>\n",
        "  <li>each field has developped specific mathematical tools to test model behaviors. You'll be expected to show such evaluations. Make use of them early on!</li>\n",
        "  </ul>"
      ]
    },
    {
      "cell_type": "markdown",
      "metadata": {
        "id": "Y4FABsvdpUAA"
      },
      "source": [
        "----\n",
        "# Step 8: Completing the model\n",
        "\n",
        "\n"
      ]
    },
    {
      "cell_type": "code",
      "metadata": {
        "id": "bGj6FUxQ00nW",
        "colab": {
          "base_uri": "https://localhost:8080/",
          "height": 580,
          "referenced_widgets": [
            "426632466d064ca2bf03eba3f3abc245",
            "14999f82b52d45adaef5af836e2ac397",
            "c2d64aa2cabd469d869d1edfb8c549bd",
            "e1f94133619f4ce78a7a6eef5976a12b",
            "d3a57bf3d2654fa29623f72412ff3e91",
            "251d2a268fb3469988b8cfe9a6e3b642"
          ]
        },
        "cellView": "form",
        "outputId": "a78cf12b-e3a3-42db-fe00-a0b47d71cc6a"
      },
      "source": [
        "# @title Video 4: Completing the modeling\n",
        "\n",
        "from ipywidgets import widgets\n",
        "\n",
        "out2 = widgets.Output()\n",
        "with out2:\n",
        "  from IPython.display import IFrame\n",
        "  class BiliVideo(IFrame):\n",
        "      def __init__(self, id, page=1, width=400, height=300, **kwargs):\n",
        "          self.id=id\n",
        "          src = 'https://player.bilibili.com/player.html?bvid={0}&page={1}'.format(id, page)\n",
        "          super(BiliVideo, self).__init__(src, width, height, **kwargs)\n",
        "\n",
        "  video = BiliVideo(id=\"\", width=854, height=480, fs=1)\n",
        "  print('Video available at https://www.bilibili.com/video/{0}'.format(video.id))\n",
        "  display(video)\n",
        "\n",
        "out1 = widgets.Output()\n",
        "with out1:\n",
        "  from IPython.display import YouTubeVideo\n",
        "  video = YouTubeVideo(id=\"ul4loI_JUW0\", width=854, height=480, fs=1, rel=0)\n",
        "  print('Video available at https://youtube.com/watch?v=' + video.id)\n",
        "  display(video)\n",
        "\n",
        "out = widgets.Tab([out1, out2])\n",
        "out.set_title(0, 'Youtube')\n",
        "out.set_title(1, 'Bilibili')\n",
        "\n",
        "display(out)"
      ],
      "execution_count": 7,
      "outputs": [
        {
          "output_type": "display_data",
          "data": {
            "application/vnd.jupyter.widget-view+json": {
              "model_id": "426632466d064ca2bf03eba3f3abc245",
              "version_minor": 0,
              "version_major": 2
            },
            "text/plain": [
              "Tab(children=(Output(), Output()), _titles={'0': 'Youtube', '1': 'Bilibili'})"
            ]
          },
          "metadata": {
            "tags": []
          }
        }
      ]
    },
    {
      "cell_type": "markdown",
      "metadata": {
        "id": "Q5BbrmjvRsXT"
      },
      "source": [
        "Determing what you're done modeling is a hard question. Referring back to your original goals will be crucial. This is also where a precise question and specific hypotheses expressed in mathematical relationships come in handy. \n",
        "\n",
        "**Note**: you can always keep improving our model, but at some point you need to decide that it is finished. Once you have a model that displays the properties of a system you are interested in, it should be possible to say something about your hypothesis and question. Keeping the model simple makes it easier to understand the phenomenon and answer the research question. \n",
        "\n",
        "**Guiding principles**:\n",
        "* Determine a criterion\n",
        "* Refer to steps 1 (goals) and 4 (hypotheses)\n",
        "  * Does the model answer the original question sufficiently?\n",
        "  * Does the model satisfy your own evaluation criteria?\n",
        "  * Does it speak to the hypotheses?\n",
        "* Can the model produce the parametric relationships hypothesized in step 4?\n",
        "\n",
        "Make sure the model can speak to the hypothesis. Eliminate all the parameters that do not speak to the hypothesis.\n",
        "\n",
        "**Goal**: Determine if you can answer your original research question and related hypotheses to your satisfaction. If the original goal has not been met you need to go back to the drawing board!"
      ]
    },
    {
      "cell_type": "markdown",
      "metadata": {
        "id": "kWXaJ9hp3x7_"
      },
      "source": [
        "**Make sure to avoid the pitfalls!**\n",
        "<details>\n",
        "<summary>Click here for a recap on pitfalls</summary>\n",
        "\n",
        "Forgetting to specify or use a criterion for model completion (in Step 1!)\n",
        "<ul>\n",
        "  <li>This is crucial for you not to get lost in an endless loop of model improvements</li>\n",
        "  </ul>\n",
        "\n",
        "Thinking the model can answer your question / hypotheses without checking\n",
        "<ul>\n",
        "  <li>always check if all questions and hypotheses can be answered / tested</li>\n",
        "  <li>you will fail on your own benchmarks if you neglect this</li>\n",
        "  </ul>\n",
        "\n",
        "You think you should further improve the model\n",
        "<ul>\n",
        "  <li>This is only warranted if your model cannot answer your hypotheses / questions and/or meet your goals</li>\n",
        "  <li>remember: you can always improve a model, but you want to focus on the question / hypotheses / goals at hand!</li>\n",
        "  </ul>"
      ]
    },
    {
      "cell_type": "markdown",
      "metadata": {
        "id": "r2LGmCJ5rU0J"
      },
      "source": [
        "----\n",
        "# Step 9: testing and evaluating the model\n",
        "\n",
        "\n"
      ]
    },
    {
      "cell_type": "code",
      "metadata": {
        "id": "n31wXo5K06sx",
        "colab": {
          "base_uri": "https://localhost:8080/",
          "height": 580,
          "referenced_widgets": [
            "9369dc7eaf1341c4ad4b9a82304b2493",
            "8b245831aa3e40e6adc715ed4e3951c7",
            "66d25e8ded1143e886d76bed9bf0b896",
            "4cf757043ab449348b447dbd08ca64dc",
            "829a4ac576f24843b95508c34bcef1a1",
            "365ba152457741d2934624f3abd78019"
          ]
        },
        "outputId": "3733a1bd-8559-4491-8994-18a44b5ac4c5"
      },
      "source": [
        "# @title Video 5: Evaluating the modeling\n",
        "\n",
        "from ipywidgets import widgets\n",
        "\n",
        "out2 = widgets.Output()\n",
        "with out2:\n",
        "  from IPython.display import IFrame\n",
        "  class BiliVideo(IFrame):\n",
        "      def __init__(self, id, page=1, width=400, height=300, **kwargs):\n",
        "          self.id=id\n",
        "          src = 'https://player.bilibili.com/player.html?bvid={0}&page={1}'.format(id, page)\n",
        "          super(BiliVideo, self).__init__(src, width, height, **kwargs)\n",
        "\n",
        "  video = BiliVideo(id=\"\", width=854, height=480, fs=1)\n",
        "  print('Video available at https://www.bilibili.com/video/{0}'.format(video.id))\n",
        "  display(video)\n",
        "\n",
        "out1 = widgets.Output()\n",
        "with out1:\n",
        "  from IPython.display import YouTubeVideo\n",
        "  video = YouTubeVideo(id=\"X-R0hjID93M\", width=854, height=480, fs=1, rel=0)\n",
        "  print('Video available at https://youtube.com/watch?v=' + video.id)\n",
        "  display(video)\n",
        "\n",
        "out = widgets.Tab([out1, out2])\n",
        "out.set_title(0, 'Youtube')\n",
        "out.set_title(1, 'Bilibili')\n",
        "\n",
        "display(out)"
      ],
      "execution_count": 9,
      "outputs": [
        {
          "output_type": "display_data",
          "data": {
            "application/vnd.jupyter.widget-view+json": {
              "model_id": "9369dc7eaf1341c4ad4b9a82304b2493",
              "version_minor": 0,
              "version_major": 2
            },
            "text/plain": [
              "Tab(children=(Output(), Output()), _titles={'0': 'Youtube', '1': 'Bilibili'})"
            ]
          },
          "metadata": {
            "tags": []
          }
        }
      ]
    },
    {
      "cell_type": "markdown",
      "metadata": {
        "id": "loXnsrs5R45q"
      },
      "source": [
        "Every models needs to be evaluated quantitatively. There are many ways to achieve that and not every model should be evaluated in the same way. Ultimately, model testing depends on what your goals are and what you want to get out of the model, e.g. qualitative vs quantitative fit to data. \n",
        "\n",
        "**Guiding principles**:\n",
        "* By definition a model is always wrong!\n",
        "  * Determine upfront what is \"right enough\" for you\n",
        "* Ensure the explicit interfacing with current or future data\n",
        "  * model answers the questions/hypotheses/goals with a sufficient amount of detail\n",
        "* Quantitative evaluation methods (see also W1D3)\n",
        "  * Statistics:  how well does the model fit data?\n",
        "  * Predictability: does the model make testable predictions?\n",
        "  * Breadth: how general is the model?\n",
        "* Comparison against other models (BIC, AIC, etc.)\n",
        "  * This is often not easy to do in a fair way… Be nice and respectful to other models.\n",
        "* Does the model explain previous data? (this is called the subsumption principle in physics!)\n",
        "* A good model should provide insight that could not have been gained or would have been hard to uncover without the model\n",
        "* Remember, a model is a working hypotheses; a good model should be falsifiable!\n",
        "\n",
        "**Goal**: You want to demonstrate that your model works well. You also want to make sure you can interpret the model's meaning and findings. I.e. what did the model allow you to learn that was not apparent from the data alone?\n",
        "\n",
        "\n"
      ]
    },
    {
      "cell_type": "markdown",
      "metadata": {
        "id": "IoHLecAO4Zk6"
      },
      "source": [
        "**Make sure to avoid the pitfalls!**\n",
        "<details>\n",
        "<summary>Click here for a recap on pitfalls</summary>\n",
        "\n",
        "\n",
        "Thinking your model is bad\n",
        "<ul>\n",
        "  <li>does it answer the question / hypotheses and meet your goals? Does it provide the leverl of explanation and insights you set out to gain? <strong>Then it's probably good enough!</strong></li>\n",
        "  </ul>\n",
        "\n",
        "Not providing any quantitative evaluation\n",
        "<ul>\n",
        "  <li>Just do it, it's something that's expected</li>\n",
        "  </ul>\n",
        "\n",
        "Not thinking deeply about your model and what you can learn from it\n",
        "<ul>\n",
        "  <li>this is likely the most important pitfall. You want to learn as much as you can from a model, especially about aspects that you cannot gain from the data alone</li>\n",
        "  <li>model interpretation can open new avenues for research and experimentation. That's part of why we want to model in the first place! <strong>A model is a hypothesis!</strong></li>\n",
        "  </ul>"
      ]
    },
    {
      "cell_type": "markdown",
      "metadata": {
        "id": "68SM-up8syeJ"
      },
      "source": [
        "----\n",
        "# Step 10: publishing the model\n",
        "\n"
      ]
    },
    {
      "cell_type": "code",
      "metadata": {
        "id": "ONeJT3LC1Wss",
        "colab": {
          "base_uri": "https://localhost:8080/",
          "height": 580,
          "referenced_widgets": [
            "fadacbc1dd96429e99df6df7f3022d0a",
            "733284fa080043cdae99e849a30c0150",
            "599ec2eb9c3d4f499df64ddb0ccbe394",
            "773ec6fd68ab4c25bd50e5a49939110b",
            "91a8a04044e74a4bb73f92d704ff81a2",
            "88a68113a09943b5afd037fda26805ef"
          ]
        },
        "cellView": "form",
        "outputId": "25ed06dc-1e8d-4f4d-98ac-b923f6b6024f"
      },
      "source": [
        "# @title Video 6: Publishing the modeling\n",
        "\n",
        "from ipywidgets import widgets\n",
        "\n",
        "out2 = widgets.Output()\n",
        "with out2:\n",
        "  from IPython.display import IFrame\n",
        "  class BiliVideo(IFrame):\n",
        "      def __init__(self, id, page=1, width=400, height=300, **kwargs):\n",
        "          self.id=id\n",
        "          src = 'https://player.bilibili.com/player.html?bvid={0}&page={1}'.format(id, page)\n",
        "          super(BiliVideo, self).__init__(src, width, height, **kwargs)\n",
        "\n",
        "  video = BiliVideo(id=\"\", width=854, height=480, fs=1)\n",
        "  print('Video available at https://www.bilibili.com/video/{0}'.format(video.id))\n",
        "  display(video)\n",
        "\n",
        "out1 = widgets.Output()\n",
        "with out1:\n",
        "  from IPython.display import YouTubeVideo\n",
        "  video = YouTubeVideo(id=\"z7QIdREXmf8\", width=854, height=480, fs=1, rel=0)\n",
        "  print('Video available at https://youtube.com/watch?v=' + video.id)\n",
        "  display(video)\n",
        "\n",
        "out = widgets.Tab([out1, out2])\n",
        "out.set_title(0, 'Youtube')\n",
        "out.set_title(1, 'Bilibili')\n",
        "\n",
        "display(out)"
      ],
      "execution_count": 10,
      "outputs": [
        {
          "output_type": "display_data",
          "data": {
            "application/vnd.jupyter.widget-view+json": {
              "model_id": "fadacbc1dd96429e99df6df7f3022d0a",
              "version_minor": 0,
              "version_major": 2
            },
            "text/plain": [
              "Tab(children=(Output(), Output()), _titles={'0': 'Youtube', '1': 'Bilibili'})"
            ]
          },
          "metadata": {
            "tags": []
          }
        }
      ]
    },
    {
      "cell_type": "markdown",
      "metadata": {
        "id": "9ojBdwreSXiN"
      },
      "source": [
        "**Guiding principles**:\n",
        "* Know your target audience!\n",
        "  * How much math details? How much explanation of math?\n",
        "  * What’s the message?\n",
        "  * Should be experimentalists in most cases!!!\n",
        "    * Provide intuitive explanations, analogies, etc.\n",
        "    * Famous researcher: “a good modeller knows how to relate to experimentalists”\n",
        "* Clearly describe what the goals, hypotheses and performance criteria were\n",
        "  * Prevents from false expectation of what the model should be doing\n",
        "* A graphical representation is worth 1000 words (or more)\n",
        "* Show model simulations in parallel to data\n",
        "  * Much more convincing!\n",
        "* Publish enough implementation details\n",
        "  * A good model has to be reproducible! \n",
        "\n",
        "**Goal**: Make sure your model is well received **AND USED** by the community. In order for our model to impact the field, it needs to be accepted by our peers, and order for that to happen it matters how the model is published."
      ]
    },
    {
      "cell_type": "markdown",
      "metadata": {
        "id": "rdRrgMOE540B"
      },
      "source": [
        "**Make sure to avoid the pitfalls!**\n",
        "<details>\n",
        "<summary>Click here for a recap on pitfalls</summary>\n",
        "\n",
        "\n",
        "not thinking of your target audience\n",
        "<ul>\n",
        "  <li>no one will understand you if you write for yourself because only you know what you know...</li>\n",
        "  </ul>\n",
        "\n",
        "forgetting about Steps 1-4\n",
        "<ul>\n",
        "  <li>clearly spelling out steps 1-4 allows the reader to appreciate your goals and sets limits on model criticism\n",
        "    <ul>\n",
        "      <li>no one can tell you your model didn't do something you never set out to do</li>\n",
        "      <li>prevents unreasonable claims / rejection of paper</li>\n",
        "  </ul>\n",
        "</ul>\n",
        "\n",
        "thinking you don't need figures to explain your model\n",
        "<ul>\n",
        "  <li>your model draft is a great starting point!</li>\n",
        "  <li>make figures that provide intuition about model behavior (just like you would create figures to provide intuition about expeimental data)</li>\n",
        "  </ul>\n",
        "\n",
        "my code is too mesy to be published\n",
        "<ul>\n",
        "  <li>not an option (many journal now rightfully require it)</li>\n",
        "  <li>code cleanly right from the start</li>\n",
        "    <ul>\n",
        "      <li>model drafting should help with that</li>\n",
        "      <li>comment your code! Then comment more...</li>\n",
        "  </ul>\n",
        "</ul>"
      ]
    },
    {
      "cell_type": "markdown",
      "metadata": {
        "id": "Mu1w0Ze01SSS"
      },
      "source": [
        "### Writing the abstract of a modeling paper\n",
        "Abstracts are very stereotyped pieces of writing that contain highly condensed information. To write a summary (= abstract) of your modeling, you can use these questions as a guide: \n",
        "* **What is the phenomena**?  Here summarize the part of the phenomena which your modeling addresses.\n",
        "* **What is the key scientific question?**:  Clearly articulate the question which your modeling tries to answer.\n",
        "* **What was our hypothesis?**:  Explain the key relationships which we relied on to simulate the phenomena.\n",
        "* **How did your modeling work?** Give an overview of the model, it's main components, and how the modeling works.  ''Here we ... ''\n",
        "* **What did you find? Did the modeling work?** Explain the key outcomes of your modeling evaluation. \n",
        "* **What can you conclude?** Conclude as much as you can _with reference to the hypothesis_, within the limits of the modeling.  \n",
        "* **What are the limitations and future directions?** What is left to be learned? Briefly argue the plausibility of the approach and/or what you think is essential that may have been left out.\n",
        "\n",
        "\n",
        "**Instructions**: write down your answer to each of those questions (1-2 sentences each, max!). When you're done, stick the sentences together... Now you have an abstract!\n",
        "\n",
        "### Guidance for paper writing\n",
        "There are good guidelines for structuring and writing an effective paper (e.g., [Mensh & Kording, 2017](https://doi.org/10.1371/journal.pcbi.1005619)), all of which apply to papers about models. There are some extra considerations when publishing a model. In general, you should explain each of the steps in the paper:\n",
        "\n",
        "**Introduction:** Steps 1 & 2 (maybe 3)\n",
        "\n",
        "**Methods:** Steps 3-7, 9\n",
        "\n",
        "**Results:** Steps 8 & 9, going back to 1, 2 & 4\n",
        "\n",
        "Here are some great materials to help you with paper writing:\n",
        "* [Ten Simple Rules for Better Figures](https://journals.plos.org/ploscompbiol/article?id=10.1371/journal.pcbi.1003833)\n",
        "* [How to Write Strong and Effective Figure Legends](https://wordvice.com/how-to-write-effective-figure-titles-and-legends/)\n",
        "* [How to Create a Consistent Writing Schedule: 10 Tips for Writers](https://www.masterclass.com/articles/how-to-create-a-consistent-writing-schedule)\n",
        "\n",
        "The audience for all of this should be experimentalists, as they are the ones who can test predictions made by your model and collect new data. In this way your models can impact future experiments, and future data can then be modeled (see modeling process schematic below). Remember your audience - it is _always_ hard to clearly convey the main points of your work to others, especially if your audience doesn't necessarily create computational models themselves.\n",
        "\n",
        "In addition, you should provide a visualization of the model, and upload the code implementing the model and the data it was trained and tested on to a repository (e.g. GitHub and OSF).\n",
        "\n",
        "### Suggestion\n",
        "\n",
        "For every modeling project, a very good exercise is to _**first**_ write a short, 100-word abstract of the project plan and expected impact. This forces focussing on the main points: describing the relevance, question, model, answer and what it all means very succinctly. This allows you to decide to do this project or not **before you commit time writing code for no good purpose**. Notice that this is really what we've walked you through carefully in this guide! 😀\n"
      ]
    },
    {
      "cell_type": "markdown",
      "metadata": {
        "id": "kjpcyWGKysKn"
      },
      "source": [
        "---\n",
        "# Reading\n",
        "\n",
        "Blohm G, Kording KP, Schrater PR (2020). _A How-to-Model Guide for Neuroscience_ eNeuro, 7(1). https://doi.org/10.1523/ENEURO.0352-19.2019 \n",
        "\n",
        "Mensh B, Kording K (2017). _Ten simple rules for structuring papers._ PLOS Comput Biol 13(9): e1005619. https://doi.org/10.1371/journal.pcbi.1005619\n"
      ]
    }
  ]
}