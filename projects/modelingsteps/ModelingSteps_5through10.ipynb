{
  "cells": [
    {
      "cell_type": "markdown",
      "metadata": {
        "id": "view-in-github",
        "colab_type": "text"
      },
      "source": [
        "<a href=\"https://colab.research.google.com/github/NeuromatchAcademy/course-content/blob/projects_steps/projects/modelingsteps/ModelingSteps_5through10.ipynb\" target=\"_parent\"><img src=\"https://colab.research.google.com/assets/colab-badge.svg\" alt=\"Open In Colab\"/></a>"
      ]
    },
    {
      "cell_type": "markdown",
      "metadata": {
        "execution": {},
        "id": "rK1dEumfxfLJ"
      },
      "source": [
        "# Modeling Steps 5 - 10\n",
        "\n",
        "**Project guidance**\n",
        "\n",
        "__Content creators:__ Marius 't Hart, Megan Peters, Paul Schrater,  Jean Laurens, Gunnar Blohm\n",
        "\n",
        "__Production editors:__ Ella Batty"
      ]
    },
    {
      "cell_type": "markdown",
      "metadata": {
        "execution": {},
        "id": "R6PGVWmtxfLK"
      },
      "source": [
        "<p align='center'><img src='https://github.com/NeuromatchAcademy/widgets/blob/master/sponsors.png?raw=True'/></p>"
      ]
    },
    {
      "cell_type": "markdown",
      "metadata": {
        "execution": {},
        "id": "11RuCLH-xfLL"
      },
      "source": [
        "# Objectives\n",
        "\n",
        "This notebook contains the remaining steps of the how-to-model guide.\n",
        "\n",
        "**Implementing the model**\n",
        "5. Toolkit selection\n",
        "6. Planning the model\n",
        "7. Implementing the model\n",
        "\n",
        "**Model testing**\n",
        "8. Completing the model\n",
        "9. Testing and evaluating the model\n",
        "\n",
        "**Publishing**\n",
        "10. Publishing models\n",
        "\n",
        "Please see Steps 1 - 4 [here](https://compneuro.neuromatch.io/projects/modelingsteps/ModelingSteps_1through4.html) first (or in the Modeling Steps section of the Project Booklet). We do not cover the two example projects in tabs here because you will want to dive into the code in the full project notebooks [here](https://compneuro.neuromatch.io/projects/modelingsteps/TrainIllustionModel.html) and [here](https://compneuro.neuromatch.io/projects/modelingsteps/TrainIllusionDataProject.html) (or in the Modeling Steps section of the Project Booklet)."
      ]
    },
    {
      "cell_type": "markdown",
      "metadata": {
        "execution": {},
        "id": "VcUpXvjdxfLL"
      },
      "source": [
        "----\n",
        "# Step 5: Selecting the toolkit\n",
        "\n",
        "\n",
        "\n",
        "\n"
      ]
    },
    {
      "cell_type": "code",
      "execution_count": 1,
      "metadata": {
        "cellView": "form",
        "execution": {},
        "id": "0Y9bAs1uxfLL",
        "outputId": "5698ef27-51a5-420f-f529-4ecb7c531d00",
        "colab": {
          "referenced_widgets": [
            "d5c36c8c90344b3a9877a392d6e38273",
            "cbc58f3e8f024332a146a4f8c6993d8a",
            "2b930cbe4b13418397474e5e2318067c",
            "5d2b5d9ea05b41b3a5a4530a3f9e1f6e",
            "f037bfd7ba3345c183e8b8198187c2b3",
            "478e5bc54bf3410db1117e019dcf1730"
          ],
          "base_uri": "https://localhost:8080/",
          "height": 582
        }
      },
      "outputs": [
        {
          "output_type": "display_data",
          "data": {
            "text/plain": [
              "Tab(children=(Output(), Output()), _titles={'0': 'Youtube', '1': 'Bilibili'})"
            ],
            "application/vnd.jupyter.widget-view+json": {
              "version_major": 2,
              "version_minor": 0,
              "model_id": "d5c36c8c90344b3a9877a392d6e38273"
            }
          },
          "metadata": {}
        }
      ],
      "source": [
        "# @title Video 6: Selecting the toolkit\n",
        "from ipywidgets import widgets\n",
        "from IPython.display import YouTubeVideo\n",
        "from IPython.display import IFrame\n",
        "from IPython.display import display\n",
        "\n",
        "\n",
        "class PlayVideo(IFrame):\n",
        "  def __init__(self, id, source, page=1, width=400, height=300, **kwargs):\n",
        "    self.id = id\n",
        "    if source == 'Bilibili':\n",
        "      src = f'https://player.bilibili.com/player.html?bvid={id}&page={page}'\n",
        "    elif source == 'Osf':\n",
        "      src = f'https://mfr.ca-1.osf.io/render?url=https://osf.io/download/{id}/?direct%26mode=render'\n",
        "    super(PlayVideo, self).__init__(src, width, height, **kwargs)\n",
        "\n",
        "\n",
        "def display_videos(video_ids, W=400, H=300, fs=1):\n",
        "  tab_contents = []\n",
        "  for i, video_id in enumerate(video_ids):\n",
        "    out = widgets.Output()\n",
        "    with out:\n",
        "      if video_ids[i][0] == 'Youtube':\n",
        "        video = YouTubeVideo(id=video_ids[i][1], width=W,\n",
        "                             height=H, fs=fs, rel=0)\n",
        "        print(f'Video available at https://youtube.com/watch?v={video.id}')\n",
        "      else:\n",
        "        video = PlayVideo(id=video_ids[i][1], source=video_ids[i][0], width=W,\n",
        "                          height=H, fs=fs, autoplay=False)\n",
        "        if video_ids[i][0] == 'Bilibili':\n",
        "          print(f'Video available at https://www.bilibili.com/video/{video.id}')\n",
        "        elif video_ids[i][0] == 'Osf':\n",
        "          print(f'Video available at https://osf.io/{video.id}')\n",
        "      display(video)\n",
        "    tab_contents.append(out)\n",
        "  return tab_contents\n",
        "\n",
        "\n",
        "video_ids = [('Youtube', 'q5_c18Kxx0k'), ('Bilibili', 'BV1CB4y1T7Uv')]\n",
        "tab_contents = display_videos(video_ids, W=854, H=480)\n",
        "tabs = widgets.Tab()\n",
        "tabs.children = tab_contents\n",
        "for i in range(len(tab_contents)):\n",
        "  tabs.set_title(i, video_ids[i][0])\n",
        "display(tabs)"
      ]
    },
    {
      "cell_type": "markdown",
      "metadata": {
        "execution": {},
        "id": "BlITki3ExfLM"
      },
      "source": [
        "Once you have completed Steps 1-4 to your satisfaction, you are now ready to model. You have a specific question, a goal in mind, and precise hypotheses expressed in mathematical language. All these components will empower you to chose an appropriate modeling approach.\n",
        "\n",
        "In selecting the right toolkit, i.e. the right mathematics, computer science, engineering, or physics, etc approaches, you should consider the following important rules:\n",
        "1. Determine the level of abstraction\n",
        "2. Select the toolkit that best represents the ingredients and hypotheses\n",
        "3. Toolkit should express all needed relationships, mechanisms and concepts\n",
        "4. Keep it as simple as possible!\n",
        "\n",
        "**Guiding questions**:\n",
        "* What is the most appropriate approach to answer your question?\n",
        "  * What level of abstraction is needed?\n",
        "  * Determine granularity / scale based on hypotheses & goals\n",
        "  * Stay as high-level as possible, but be as detailed as needed!!!\n",
        "* Select the toolkit\n",
        "  * Requires prior knowledge about flexibility / limitations of toolkit\n",
        "  * Often more than one option possible\n",
        "  * Some toolkits are more flexible, span a wider range of behaviour and/or are lumpable\n",
        "  * Also determines how the model will be solved, i.e. simulated\n",
        "    * Analytical? Numerical?\n",
        "    * E.g. spatial, temporal resolution?\n",
        "\n",
        "Viewing [modeling as a decision process](https://doi.org/10.1523/ENEURO.0352-19.2019) might help providing clarity regarding different model types, and how framing the problem and stating your goals influences the toolkit selection. Don't be afraid to pursue goals that no one else pursues; [diversity of models should be encouraged](https://nbdt.scholasticahq.com/article/16723-appreciating-the-variety-of-goals-in-computational-neuroscience) because it results in complementary model considerations.\n"
      ]
    },
    {
      "cell_type": "markdown",
      "metadata": {
        "execution": {},
        "id": "QyXYFU2mxfLN"
      },
      "source": [
        "**Make sure to avoid the pitfalls!**\n",
        "<details>\n",
        "<summary>Click here for a recap on pitfalls</summary>\n",
        "\n",
        "Choosing a toolkit for the toolkit's sake (e.g. DL because it's cool to do deep learning)\n",
        "<ul>\n",
        "  <li>this will prevent you to really answer your research question and/or speak to your hypotheses</li>\n",
        "  </ul>\n",
        "\n",
        "Being at the wrong level of abstraction (see W1D1 intro)\n",
        "<ul>\n",
        "  <li>too complex toolkits will have too many parameters you can't meaningfully constrain, and/or that add needless complexity</li>\n",
        "  <li>too simple toolkits will lack means to implement the details you care about</li>\n",
        "  </ul>\n",
        "  \n",
        "Not knowing any toolkits\n",
        "<ul>\n",
        "  <li>this highlights a lack of literature review and/or background work to learn about the tools used by the field</li>\n",
        "  </ul>"
      ]
    },
    {
      "cell_type": "markdown",
      "metadata": {
        "execution": {},
        "id": "Egsd8erzxfLN"
      },
      "source": [
        "----\n",
        "# Step 6: Planning / drafting the model\n",
        "\n",
        "\n",
        "\n",
        "\n",
        "\n",
        "\n"
      ]
    },
    {
      "cell_type": "code",
      "execution_count": 2,
      "metadata": {
        "cellView": "form",
        "execution": {},
        "id": "PLUlv8NwxfLN",
        "outputId": "38ba5667-b2e2-4ad9-a9fc-8effb5a9dac6",
        "colab": {
          "referenced_widgets": [
            "24c400f34b7649f1824f7c634351f2f0",
            "adc8d0ad14044946ab7db4db5ad9e312",
            "4451f3250fcd48cabafbd91691a3084c",
            "7b65ced93aac4629bd9938d46a4329f4",
            "81412d43463547ddaa73cef6267e4128",
            "9cf30c6fb0d64fa39d74ba6c8730377c"
          ],
          "base_uri": "https://localhost:8080/",
          "height": 582
        }
      },
      "outputs": [
        {
          "output_type": "display_data",
          "data": {
            "text/plain": [
              "Tab(children=(Output(), Output()), _titles={'0': 'Youtube', '1': 'Bilibili'})"
            ],
            "application/vnd.jupyter.widget-view+json": {
              "version_major": 2,
              "version_minor": 0,
              "model_id": "24c400f34b7649f1824f7c634351f2f0"
            }
          },
          "metadata": {}
        }
      ],
      "source": [
        "# @title Video 7: Drafting the modeling\n",
        "from ipywidgets import widgets\n",
        "from IPython.display import YouTubeVideo\n",
        "from IPython.display import IFrame\n",
        "from IPython.display import display\n",
        "\n",
        "\n",
        "class PlayVideo(IFrame):\n",
        "  def __init__(self, id, source, page=1, width=400, height=300, **kwargs):\n",
        "    self.id = id\n",
        "    if source == 'Bilibili':\n",
        "      src = f'https://player.bilibili.com/player.html?bvid={id}&page={page}'\n",
        "    elif source == 'Osf':\n",
        "      src = f'https://mfr.ca-1.osf.io/render?url=https://osf.io/download/{id}/?direct%26mode=render'\n",
        "    super(PlayVideo, self).__init__(src, width, height, **kwargs)\n",
        "\n",
        "\n",
        "def display_videos(video_ids, W=400, H=300, fs=1):\n",
        "  tab_contents = []\n",
        "  for i, video_id in enumerate(video_ids):\n",
        "    out = widgets.Output()\n",
        "    with out:\n",
        "      if video_ids[i][0] == 'Youtube':\n",
        "        video = YouTubeVideo(id=video_ids[i][1], width=W,\n",
        "                             height=H, fs=fs, rel=0)\n",
        "        print(f'Video available at https://youtube.com/watch?v={video.id}')\n",
        "      else:\n",
        "        video = PlayVideo(id=video_ids[i][1], source=video_ids[i][0], width=W,\n",
        "                          height=H, fs=fs, autoplay=False)\n",
        "        if video_ids[i][0] == 'Bilibili':\n",
        "          print(f'Video available at https://www.bilibili.com/video/{video.id}')\n",
        "        elif video_ids[i][0] == 'Osf':\n",
        "          print(f'Video available at https://osf.io/{video.id}')\n",
        "      display(video)\n",
        "    tab_contents.append(out)\n",
        "  return tab_contents\n",
        "\n",
        "\n",
        "video_ids = [('Youtube', 'KrbKjzURlQA'), ('Bilibili', 'BV1R44y1q7RH')]\n",
        "tab_contents = display_videos(video_ids, W=854, H=480)\n",
        "tabs = widgets.Tab()\n",
        "tabs.children = tab_contents\n",
        "for i in range(len(tab_contents)):\n",
        "  tabs.set_title(i, video_ids[i][0])\n",
        "display(tabs)"
      ]
    },
    {
      "cell_type": "markdown",
      "metadata": {
        "execution": {},
        "id": "225uKXXpxfLN"
      },
      "source": [
        "Planning the model involves thinking about the general outline of the model, its components and how they might fit together. You want to draw a model diagram, make some sketches and formalize necessary equations. This step will thus outline a plan of implementation. Once you have that plan, this will hugely facilitate the actual implementation of the model in computer code.\n",
        "\n",
        "Your model will have:\n",
        "* **inputs**: the values the system has available - this can be broken down into _data_, and _parameters_\n",
        "* **outputs**: these are the predictions our model will make that you could portentially measure (e.g., in your idealized experiment)\n",
        "* **model functions**: A set of functions that perform the hypothesized computations.\n",
        "\n",
        "You will thus need to define a set of functions that take your data and some parameters as input, can run your model, and output a prediction for a hypothetical measurment.\n",
        "\n",
        "**Guiding principles**:\n",
        "* Keep it as simple as possible!\n",
        "* Don't get lost in details\n",
        "* Draft on paper: start with a flow diagram\n",
        "  * Draw out model components (boxes)\n",
        "  * What influences what? (arrows)\n",
        "* Then consider each model box separately\n",
        "  * Draft internal workings in terms of equations\n",
        "  * This might require a lot of work…\n",
        "  * Relate box inputs to box outputs!\n",
        "  * Keep in mind that the model should include a way to relate model variables to measurements\n",
        "  * Use the question, ingredients, and hypotheses to ensure you have all required components\n",
        "\n",
        "**Goal**: Put in place all the components of the hypothesized relationships and explanations."
      ]
    },
    {
      "cell_type": "markdown",
      "metadata": {
        "execution": {},
        "id": "t0GHvEZGxfLO"
      },
      "source": [
        "**Make sure to avoid the pitfalls!**\n",
        "<details>\n",
        "<summary>Click here for a recap on pitfalls</summary>\n",
        "\n",
        "I don't need to draft the model, I have it clearly in my mind\n",
        "<ul>\n",
        "  <li>you might think you do, but experience shows you're likely missing many important aspects</li>\n",
        "  </ul>\n",
        "\n",
        "I can just make a rough draft\n",
        "<ul>\n",
        "  <li>the more detailed the draft, the easier it will be to implement the model in computer code</li>\n",
        "  <li>rough drafts tend to forget important details that you need to think about, e.g. signals needed (where do they come from?), parameters to specify (how to constrain them?), etc.</li>\n",
        "  </ul>\n",
        "\n",
        "Draft is too detailed or not detailed enough\n",
        "<ul>\n",
        "  <li>too detailed: you're writing our recursions, etc</li>\n",
        "  <li>not detailed enough: you have no idea what's inside \"boxes\"</li>\n",
        "  </ul>"
      ]
    },
    {
      "cell_type": "markdown",
      "metadata": {
        "execution": {},
        "id": "eoQyfAzyxfLO"
      },
      "source": [
        "----\n",
        "# Step 7: Implementing the model\n",
        "\n",
        "\n"
      ]
    },
    {
      "cell_type": "code",
      "execution_count": 3,
      "metadata": {
        "cellView": "form",
        "execution": {},
        "id": "kA99qGI_xfLO",
        "outputId": "3f3e8719-4ceb-4223-8923-0e28eb24d356",
        "colab": {
          "referenced_widgets": [
            "2c0621a09c99427ebbea39a9d7c4825d",
            "773c7060cd444628b41464a4c8cf89c3",
            "a51fa67b9a96462f854c38a99f512cac",
            "89a9207285e34b928c99648fc26655c9",
            "6012af6487ed459882584c5901e6d5f6",
            "7462bcd1175d46ff9a5ad11996c77be4"
          ],
          "base_uri": "https://localhost:8080/",
          "height": 582
        }
      },
      "outputs": [
        {
          "output_type": "display_data",
          "data": {
            "text/plain": [
              "Tab(children=(Output(), Output()), _titles={'0': 'Youtube', '1': 'Bilibili'})"
            ],
            "application/vnd.jupyter.widget-view+json": {
              "version_major": 2,
              "version_minor": 0,
              "model_id": "2c0621a09c99427ebbea39a9d7c4825d"
            }
          },
          "metadata": {}
        }
      ],
      "source": [
        "# @title Video 8: Implementing the modeling\n",
        "from ipywidgets import widgets\n",
        "from IPython.display import YouTubeVideo\n",
        "from IPython.display import IFrame\n",
        "from IPython.display import display\n",
        "\n",
        "\n",
        "class PlayVideo(IFrame):\n",
        "  def __init__(self, id, source, page=1, width=400, height=300, **kwargs):\n",
        "    self.id = id\n",
        "    if source == 'Bilibili':\n",
        "      src = f'https://player.bilibili.com/player.html?bvid={id}&page={page}'\n",
        "    elif source == 'Osf':\n",
        "      src = f'https://mfr.ca-1.osf.io/render?url=https://osf.io/download/{id}/?direct%26mode=render'\n",
        "    super(PlayVideo, self).__init__(src, width, height, **kwargs)\n",
        "\n",
        "\n",
        "def display_videos(video_ids, W=400, H=300, fs=1):\n",
        "  tab_contents = []\n",
        "  for i, video_id in enumerate(video_ids):\n",
        "    out = widgets.Output()\n",
        "    with out:\n",
        "      if video_ids[i][0] == 'Youtube':\n",
        "        video = YouTubeVideo(id=video_ids[i][1], width=W,\n",
        "                             height=H, fs=fs, rel=0)\n",
        "        print(f'Video available at https://youtube.com/watch?v={video.id}')\n",
        "      else:\n",
        "        video = PlayVideo(id=video_ids[i][1], source=video_ids[i][0], width=W,\n",
        "                          height=H, fs=fs, autoplay=False)\n",
        "        if video_ids[i][0] == 'Bilibili':\n",
        "          print(f'Video available at https://www.bilibili.com/video/{video.id}')\n",
        "        elif video_ids[i][0] == 'Osf':\n",
        "          print(f'Video available at https://osf.io/{video.id}')\n",
        "      display(video)\n",
        "    tab_contents.append(out)\n",
        "  return tab_contents\n",
        "\n",
        "\n",
        "video_ids = [('Youtube', 'qxU5dJz5hG0'), ('Bilibili', 'BV1nX4y1w7uu')]\n",
        "tab_contents = display_videos(video_ids, W=854, H=480)\n",
        "tabs = widgets.Tab()\n",
        "tabs.children = tab_contents\n",
        "for i in range(len(tab_contents)):\n",
        "  tabs.set_title(i, video_ids[i][0])\n",
        "display(tabs)"
      ]
    },
    {
      "cell_type": "markdown",
      "metadata": {
        "execution": {},
        "id": "e4RlPySXxfLO"
      },
      "source": [
        "This is the step where you finally start writing code! Separately implement each box, icon, or flow relationship identified in Step 6. **Test** each of those model components separately! (This is called a *unit test*). Unit testing ensures that each model components works are expected/planned.\n",
        "\n",
        "**Guiding principles**:\n",
        "* Start with the easiest possible implementation\n",
        "  * Test functionality of model after each step before adding new model components (unit tests)\n",
        "  * Simple models can sometimes accomplish surprisingly much…\n",
        "* Add / remove different model elements\n",
        "  * Gain insight into working principles\n",
        "  * What's crucial, what isn't?\n",
        "  * Every component of the model must be crucial!\n",
        "* Make use of tools to evaluate model behavior\n",
        "  * E.g. graphical analysis, changing parameter sets, stability / equilibrium analyses, derive general solutions, asymptotes, periodic behaviour, etc.\n",
        "\n",
        "**Goal**: Understand how each model component works in isolation and what the resulting overall model behavior is."
      ]
    },
    {
      "cell_type": "markdown",
      "metadata": {
        "execution": {},
        "id": "20E7IDvexfLO"
      },
      "source": [
        "**Make sure to avoid the pitfalls!**\n",
        "<details>\n",
        "<summary>Click here for a recap on pitfalls</summary>\n",
        "\n",
        "\n",
        "Building the whole model at once without testing components\n",
        "<ul>\n",
        "  <li>you will make mistakes. Debug model components as you go!</li>\n",
        "  <li>debugging a complex model is close to impossible. Is it not woring because individual components are not working? Or do components not \"play nice\" together?</li>\n",
        "  </ul>\n",
        "\n",
        "Not testing if individual components are important\n",
        "<ul>\n",
        "  <li>It's easy to add *useless* components to a model. They will be distracting for you and for readers</li>\n",
        "  </ul>\n",
        "\n",
        "Not testing model functionality step by step as you  build up the model\n",
        "<ul>\n",
        "  <li>You'd be surprised by what basic components often can alrealy achieve... E.g. our intuition is really bad when it comes to dynamical systems</li>\n",
        "  </ul>\n",
        "\n",
        "Not using standard model testing tools\n",
        "<ul>\n",
        "  <li>each field has developped specific mathematical tools to test model behaviors. You'll be expected to show such evaluations. Make use of them early on!</li>\n",
        "  </ul>"
      ]
    },
    {
      "cell_type": "markdown",
      "metadata": {
        "execution": {},
        "id": "qJhlzfN1xfLO"
      },
      "source": [
        "----\n",
        "# Step 8: Completing the model\n",
        "\n",
        "\n"
      ]
    },
    {
      "cell_type": "code",
      "execution_count": 4,
      "metadata": {
        "cellView": "form",
        "execution": {},
        "id": "extFyvHkxfLO",
        "outputId": "8b7479ae-47b6-44c2-c02d-daf496d11ce0",
        "colab": {
          "referenced_widgets": [
            "409b90731e3842da92903cf1535b66c1",
            "6dfe7e41dcc24ddfb3e84cb325a4eb34",
            "9fc7170573b2415c84d8d1cf10989fdf",
            "d6ecd334043e4771a3840b1350fb93f4",
            "e59ea24042534cecbe41714b37b2085b",
            "7d8d67a939c349e1b6c5b4553eb031de"
          ],
          "base_uri": "https://localhost:8080/",
          "height": 582
        }
      },
      "outputs": [
        {
          "output_type": "display_data",
          "data": {
            "text/plain": [
              "Tab(children=(Output(), Output()), _titles={'0': 'Youtube', '1': 'Bilibili'})"
            ],
            "application/vnd.jupyter.widget-view+json": {
              "version_major": 2,
              "version_minor": 0,
              "model_id": "409b90731e3842da92903cf1535b66c1"
            }
          },
          "metadata": {}
        }
      ],
      "source": [
        "# @title Video 9: Completing the modeling\n",
        "from ipywidgets import widgets\n",
        "from IPython.display import YouTubeVideo\n",
        "from IPython.display import IFrame\n",
        "from IPython.display import display\n",
        "\n",
        "\n",
        "class PlayVideo(IFrame):\n",
        "  def __init__(self, id, source, page=1, width=400, height=300, **kwargs):\n",
        "    self.id = id\n",
        "    if source == 'Bilibili':\n",
        "      src = f'https://player.bilibili.com/player.html?bvid={id}&page={page}'\n",
        "    elif source == 'Osf':\n",
        "      src = f'https://mfr.ca-1.osf.io/render?url=https://osf.io/download/{id}/?direct%26mode=render'\n",
        "    super(PlayVideo, self).__init__(src, width, height, **kwargs)\n",
        "\n",
        "\n",
        "def display_videos(video_ids, W=400, H=300, fs=1):\n",
        "  tab_contents = []\n",
        "  for i, video_id in enumerate(video_ids):\n",
        "    out = widgets.Output()\n",
        "    with out:\n",
        "      if video_ids[i][0] == 'Youtube':\n",
        "        video = YouTubeVideo(id=video_ids[i][1], width=W,\n",
        "                             height=H, fs=fs, rel=0)\n",
        "        print(f'Video available at https://youtube.com/watch?v={video.id}')\n",
        "      else:\n",
        "        video = PlayVideo(id=video_ids[i][1], source=video_ids[i][0], width=W,\n",
        "                          height=H, fs=fs, autoplay=False)\n",
        "        if video_ids[i][0] == 'Bilibili':\n",
        "          print(f'Video available at https://www.bilibili.com/video/{video.id}')\n",
        "        elif video_ids[i][0] == 'Osf':\n",
        "          print(f'Video available at https://osf.io/{video.id}')\n",
        "      display(video)\n",
        "    tab_contents.append(out)\n",
        "  return tab_contents\n",
        "\n",
        "\n",
        "video_ids = [('Youtube', 'ul4loI_JUW0'), ('Bilibili', 'BV1f44y1q7wm')]\n",
        "tab_contents = display_videos(video_ids, W=854, H=480)\n",
        "tabs = widgets.Tab()\n",
        "tabs.children = tab_contents\n",
        "for i in range(len(tab_contents)):\n",
        "  tabs.set_title(i, video_ids[i][0])\n",
        "display(tabs)"
      ]
    },
    {
      "cell_type": "markdown",
      "metadata": {
        "execution": {},
        "id": "yzWUyxQgxfLP"
      },
      "source": [
        "Determing what you're done modeling is a hard question. Referring back to your original goals will be crucial. This is also where a precise question and specific hypotheses expressed in mathematical relationships come in handy.\n",
        "\n",
        "**Note**: you can always keep improving our model, but at some point you need to decide that it is finished. Once you have a model that displays the properties of a system you are interested in, it should be possible to say something about your hypothesis and question. Keeping the model simple makes it easier to understand the phenomenon and answer the research question.\n",
        "\n",
        "**Guiding principles**:\n",
        "* Determine a criterion\n",
        "* Refer to steps 1 (goals) and 4 (hypotheses)\n",
        "  * Does the model answer the original question sufficiently?\n",
        "  * Does the model satisfy your own evaluation criteria?\n",
        "  * Does it speak to the hypotheses?\n",
        "* Can the model produce the parametric relationships hypothesized in step 4?\n",
        "\n",
        "Make sure the model can speak to the hypothesis. Eliminate all the parameters that do not speak to the hypothesis.\n",
        "\n",
        "**Goal**: Determine if you can answer your original research question and related hypotheses to your satisfaction. If the original goal has not been met you need to go back to the drawing board!"
      ]
    },
    {
      "cell_type": "markdown",
      "metadata": {
        "execution": {},
        "id": "y8kDzWnpxfLP"
      },
      "source": [
        "**Make sure to avoid the pitfalls!**\n",
        "<details>\n",
        "<summary>Click here for a recap on pitfalls</summary>\n",
        "\n",
        "Forgetting to specify or use a criterion for model completion (in Step 1!)\n",
        "<ul>\n",
        "  <li>This is crucial for you not to get lost in an endless loop of model improvements</li>\n",
        "  </ul>\n",
        "\n",
        "Thinking the model can answer your question / hypotheses without checking\n",
        "<ul>\n",
        "  <li>always check if all questions and hypotheses can be answered / tested</li>\n",
        "  <li>you will fail on your own benchmarks if you neglect this</li>\n",
        "  </ul>\n",
        "\n",
        "You think you should further improve the model\n",
        "<ul>\n",
        "  <li>This is only warranted if your model cannot answer your hypotheses / questions and/or meet your goals</li>\n",
        "  <li>remember: you can always improve a model, but you want to focus on the question / hypotheses / goals at hand!</li>\n",
        "  </ul>"
      ]
    },
    {
      "cell_type": "markdown",
      "metadata": {
        "execution": {},
        "id": "IDEHB6JhxfLP"
      },
      "source": [
        "----\n",
        "# Step 9: testing and evaluating the model\n",
        "\n",
        "\n"
      ]
    },
    {
      "cell_type": "code",
      "execution_count": 5,
      "metadata": {
        "cellView": "form",
        "execution": {},
        "id": "3PcU_TPAxfLP",
        "outputId": "e17488ad-5400-49b8-e6e0-907e5a92e637",
        "colab": {
          "referenced_widgets": [
            "cf592deec8574b3faa318eaf18cfa0a1",
            "2a968822c65c4452b5e749d1195c3e88",
            "209fffe6dbeb46489a6f469492784593",
            "c32abf1189eb4a24baf96313d50ebda2",
            "d6c8297bfea446c5889fa9dd673e10aa",
            "f9727bf248f54df0898c61736cfbaa57"
          ],
          "base_uri": "https://localhost:8080/",
          "height": 582
        }
      },
      "outputs": [
        {
          "output_type": "display_data",
          "data": {
            "text/plain": [
              "Tab(children=(Output(), Output()), _titles={'0': 'Youtube', '1': 'Bilibili'})"
            ],
            "application/vnd.jupyter.widget-view+json": {
              "version_major": 2,
              "version_minor": 0,
              "model_id": "cf592deec8574b3faa318eaf18cfa0a1"
            }
          },
          "metadata": {}
        }
      ],
      "source": [
        "# @title Video 10: Evaluating the modeling\n",
        "from ipywidgets import widgets\n",
        "from IPython.display import YouTubeVideo\n",
        "from IPython.display import IFrame\n",
        "from IPython.display import display\n",
        "\n",
        "\n",
        "class PlayVideo(IFrame):\n",
        "  def __init__(self, id, source, page=1, width=400, height=300, **kwargs):\n",
        "    self.id = id\n",
        "    if source == 'Bilibili':\n",
        "      src = f'https://player.bilibili.com/player.html?bvid={id}&page={page}'\n",
        "    elif source == 'Osf':\n",
        "      src = f'https://mfr.ca-1.osf.io/render?url=https://osf.io/download/{id}/?direct%26mode=render'\n",
        "    super(PlayVideo, self).__init__(src, width, height, **kwargs)\n",
        "\n",
        "\n",
        "def display_videos(video_ids, W=400, H=300, fs=1):\n",
        "  tab_contents = []\n",
        "  for i, video_id in enumerate(video_ids):\n",
        "    out = widgets.Output()\n",
        "    with out:\n",
        "      if video_ids[i][0] == 'Youtube':\n",
        "        video = YouTubeVideo(id=video_ids[i][1], width=W,\n",
        "                             height=H, fs=fs, rel=0)\n",
        "        print(f'Video available at https://youtube.com/watch?v={video.id}')\n",
        "      else:\n",
        "        video = PlayVideo(id=video_ids[i][1], source=video_ids[i][0], width=W,\n",
        "                          height=H, fs=fs, autoplay=False)\n",
        "        if video_ids[i][0] == 'Bilibili':\n",
        "          print(f'Video available at https://www.bilibili.com/video/{video.id}')\n",
        "        elif video_ids[i][0] == 'Osf':\n",
        "          print(f'Video available at https://osf.io/{video.id}')\n",
        "      display(video)\n",
        "    tab_contents.append(out)\n",
        "  return tab_contents\n",
        "\n",
        "\n",
        "video_ids = [('Youtube', 'X-R0hjID93M'), ('Bilibili', 'BV1Xv411J7Ls')]\n",
        "tab_contents = display_videos(video_ids, W=854, H=480)\n",
        "tabs = widgets.Tab()\n",
        "tabs.children = tab_contents\n",
        "for i in range(len(tab_contents)):\n",
        "  tabs.set_title(i, video_ids[i][0])\n",
        "display(tabs)"
      ]
    },
    {
      "cell_type": "markdown",
      "metadata": {
        "execution": {},
        "id": "a6BeF2aVxfLP"
      },
      "source": [
        "Every models needs to be evaluated quantitatively. There are many ways to achieve that and not every model should be evaluated in the same way. Ultimately, model testing depends on what your goals are and what you want to get out of the model, e.g. qualitative vs quantitative fit to data.\n",
        "\n",
        "**Guiding principles**:\n",
        "* By definition a model is always wrong!\n",
        "  * Determine upfront what is \"right enough\" for you\n",
        "* Ensure the explicit interfacing with current or future data\n",
        "  * model answers the questions/hypotheses/goals with a sufficient amount of detail\n",
        "* Quantitative evaluation methods (see also W1D3)\n",
        "  * Statistics:  how well does the model fit data?\n",
        "  * Predictability: does the model make testable predictions?\n",
        "  * Breadth: how general is the model?\n",
        "* Comparison against other models (BIC, AIC, etc.)\n",
        "  * This is often not easy to do in a fair way… Be nice and respectful to other models.\n",
        "* Does the model explain previous data? (this is called the subsumption principle in physics!)\n",
        "* A good model should provide insight that could not have been gained or would have been hard to uncover without the model\n",
        "* Remember, a model is a working hypotheses; a good model should be falsifiable!\n",
        "\n",
        "**Goal**: You want to demonstrate that your model works well. You also want to make sure you can interpret the model's meaning and findings. I.e. what did the model allow you to learn that was not apparent from the data alone?\n",
        "\n",
        "\n"
      ]
    },
    {
      "cell_type": "markdown",
      "metadata": {
        "execution": {},
        "id": "Kq_lUxO6xfLP"
      },
      "source": [
        "**Make sure to avoid the pitfalls!**\n",
        "<details>\n",
        "<summary>Click here for a recap on pitfalls</summary>\n",
        "\n",
        "\n",
        "Thinking your model is bad\n",
        "<ul>\n",
        "  <li>does it answer the question / hypotheses and meet your goals? Does it provide the leverl of explanation and insights you set out to gain? <strong>Then it's probably good enough!</strong></li>\n",
        "  </ul>\n",
        "\n",
        "Not providing any quantitative evaluation\n",
        "<ul>\n",
        "  <li>Just do it, it's something that's expected</li>\n",
        "  </ul>\n",
        "\n",
        "Not thinking deeply about your model and what you can learn from it\n",
        "<ul>\n",
        "  <li>this is likely the most important pitfall. You want to learn as much as you can from a model, especially about aspects that you cannot gain from the data alone</li>\n",
        "  <li>model interpretation can open new avenues for research and experimentation. That's part of why we want to model in the first place! <strong>A model is a hypothesis!</strong></li>\n",
        "  </ul>"
      ]
    },
    {
      "cell_type": "markdown",
      "metadata": {
        "execution": {},
        "id": "iocHV8B4xfLP"
      },
      "source": [
        "----\n",
        "# Step 10: publishing the model\n",
        "\n"
      ]
    },
    {
      "cell_type": "code",
      "execution_count": 6,
      "metadata": {
        "cellView": "form",
        "execution": {},
        "id": "4qJOxhD6xfLQ",
        "outputId": "9fdff7fe-e627-4b22-b581-ab5b00e14a01",
        "colab": {
          "referenced_widgets": [
            "255500413655422d87de8c631d103141",
            "0251c201507d490cb71ff6e74c3eb55c",
            "be0012b17fc947e28ec8c7c5a7151939",
            "72b3878331f04d58b3f85b6a7d861189",
            "40d1b557c551460788d52579f8c4b4ba",
            "aa61af39798043a3b7ffd84c99d51327"
          ],
          "base_uri": "https://localhost:8080/",
          "height": 582
        }
      },
      "outputs": [
        {
          "output_type": "display_data",
          "data": {
            "text/plain": [
              "Tab(children=(Output(), Output()), _titles={'0': 'Youtube', '1': 'Bilibili'})"
            ],
            "application/vnd.jupyter.widget-view+json": {
              "version_major": 2,
              "version_minor": 0,
              "model_id": "255500413655422d87de8c631d103141"
            }
          },
          "metadata": {}
        }
      ],
      "source": [
        "# @title Video 11: Publishing the modeling\n",
        "from ipywidgets import widgets\n",
        "from IPython.display import YouTubeVideo\n",
        "from IPython.display import IFrame\n",
        "from IPython.display import display\n",
        "\n",
        "\n",
        "class PlayVideo(IFrame):\n",
        "  def __init__(self, id, source, page=1, width=400, height=300, **kwargs):\n",
        "    self.id = id\n",
        "    if source == 'Bilibili':\n",
        "      src = f'https://player.bilibili.com/player.html?bvid={id}&page={page}'\n",
        "    elif source == 'Osf':\n",
        "      src = f'https://mfr.ca-1.osf.io/render?url=https://osf.io/download/{id}/?direct%26mode=render'\n",
        "    super(PlayVideo, self).__init__(src, width, height, **kwargs)\n",
        "\n",
        "\n",
        "def display_videos(video_ids, W=400, H=300, fs=1):\n",
        "  tab_contents = []\n",
        "  for i, video_id in enumerate(video_ids):\n",
        "    out = widgets.Output()\n",
        "    with out:\n",
        "      if video_ids[i][0] == 'Youtube':\n",
        "        video = YouTubeVideo(id=video_ids[i][1], width=W,\n",
        "                             height=H, fs=fs, rel=0)\n",
        "        print(f'Video available at https://youtube.com/watch?v={video.id}')\n",
        "      else:\n",
        "        video = PlayVideo(id=video_ids[i][1], source=video_ids[i][0], width=W,\n",
        "                          height=H, fs=fs, autoplay=False)\n",
        "        if video_ids[i][0] == 'Bilibili':\n",
        "          print(f'Video available at https://www.bilibili.com/video/{video.id}')\n",
        "        elif video_ids[i][0] == 'Osf':\n",
        "          print(f'Video available at https://osf.io/{video.id}')\n",
        "      display(video)\n",
        "    tab_contents.append(out)\n",
        "  return tab_contents\n",
        "\n",
        "\n",
        "video_ids = [('Youtube', 'z7QIdREXmf8'), ('Bilibili', 'BV11b4y1r7Eu')]\n",
        "tab_contents = display_videos(video_ids, W=854, H=480)\n",
        "tabs = widgets.Tab()\n",
        "tabs.children = tab_contents\n",
        "for i in range(len(tab_contents)):\n",
        "  tabs.set_title(i, video_ids[i][0])\n",
        "display(tabs)"
      ]
    },
    {
      "cell_type": "markdown",
      "metadata": {
        "execution": {},
        "id": "60QrifkcxfLQ"
      },
      "source": [
        "**Guiding principles**:\n",
        "* Know your target audience!\n",
        "  * How much math details? How much explanation of math?\n",
        "  * What's the message?\n",
        "  * Should be experimentalists in most cases!!!\n",
        "    * Provide intuitive explanations, analogies, etc.\n",
        "    * Famous researcher: “a good modeller knows how to relate to experimentalists”\n",
        "* Clearly describe what the goals, hypotheses and performance criteria were\n",
        "  * Prevents from false expectation of what the model should be doing\n",
        "* A graphical representation is worth 1000 words (or more)\n",
        "* Show model simulations in parallel to data\n",
        "  * Much more convincing!\n",
        "* Publish enough implementation details\n",
        "  * A good model has to be reproducible!\n",
        "\n",
        "**Goal**: Make sure your model is well received **AND USED** by the community. In order for our model to impact the field, it needs to be accepted by our peers, and order for that to happen it matters how the model is published."
      ]
    },
    {
      "cell_type": "markdown",
      "metadata": {
        "execution": {},
        "id": "m00XTNqtxfLQ"
      },
      "source": [
        "**Make sure to avoid the pitfalls!**\n",
        "<details>\n",
        "<summary>Click here for a recap on pitfalls</summary>\n",
        "\n",
        "\n",
        "not thinking of your target audience\n",
        "<ul>\n",
        "  <li>no one will understand you if you write for yourself because only you know what you know...</li>\n",
        "  </ul>\n",
        "\n",
        "forgetting about Steps 1-4\n",
        "<ul>\n",
        "  <li>clearly spelling out steps 1-4 allows the reader to appreciate your goals and sets limits on model criticism\n",
        "    <ul>\n",
        "      <li>no one can tell you your model didn't do something you never set out to do</li>\n",
        "      <li>prevents unreasonable claims / rejection of paper</li>\n",
        "  </ul>\n",
        "</ul>\n",
        "\n",
        "thinking you don't need figures to explain your model\n",
        "<ul>\n",
        "  <li>your model draft is a great starting point!</li>\n",
        "  <li>make figures that provide intuition about model behavior (just like you would create figures to provide intuition about expeimental data)</li>\n",
        "  </ul>\n",
        "\n",
        "my code is too mesy to be published\n",
        "<ul>\n",
        "  <li>not an option (many journal now rightfully require it)</li>\n",
        "  <li>code cleanly right from the start</li>\n",
        "    <ul>\n",
        "      <li>model drafting should help with that</li>\n",
        "      <li>comment your code! Then comment more...</li>\n",
        "  </ul>\n",
        "</ul>"
      ]
    },
    {
      "cell_type": "markdown",
      "metadata": {
        "execution": {},
        "id": "D3f6Eug1xfLQ"
      },
      "source": [
        "### Writing the abstract of a modeling paper\n",
        "\n",
        "Abstracts are very stereotyped pieces of writing that contain highly condensed information. To write a summary (= abstract) of your modeling, you can use these questions as a guide:\n",
        "* **What is the phenomena**? Here summarize the part of the phenomena which your modeling addresses.\n",
        "* **What is the key scientific question?**: Clearly articulate the question which your modeling tries to answer.\n",
        "* **What was our hypothesis?**: Explain the key relationships which we relied on to simulate the phenomena.\n",
        "* **How did your modeling work?** Give an overview of the model, it's main components, and how the modeling works. ''Here we ... ''\n",
        "* **What did you find? Did the modeling work?** Explain the key outcomes of your modeling evaluation.\n",
        "* **What can you conclude?** Conclude as much as you can _with reference to the hypothesis_, within the limits of the modeling.  \n",
        "* **What are the limitations and future directions?** What is left to be learned? Briefly argue the plausibility of the approach and/or what you think is essential that may have been left out.\n",
        "\n",
        "**Instructions**: write down your answer to each of those questions (1-2 sentences each, max!). When you're done, stick the sentences together... Now you have an abstract!\n",
        "\n",
        "### Guidance for paper writing\n",
        "There are good guidelines for structuring and writing an effective paper (e.g., [Mensh & Kording, 2017](https://doi.org/10.1371/journal.pcbi.1005619)), all of which apply to papers about models. There are some extra considerations when publishing a model. In general, you should explain each of the steps in the paper:\n",
        "\n",
        "**Introduction:** Steps 1 & 2 (maybe 3)\n",
        "\n",
        "**Methods:** Steps 3-7, 9\n",
        "\n",
        "**Results:** Steps 8 & 9, going back to 1, 2 & 4\n",
        "\n",
        "Here are some great materials to help you with paper writing:\n",
        "* [Ten Simple Rules for Better Figures](https://journals.plos.org/ploscompbiol/article?id=10.1371/journal.pcbi.1003833)\n",
        "* [How to Write Strong and Effective Figure Legends](https://wordvice.com/how-to-write-effective-figure-titles-and-legends/)\n",
        "* [How to Create a Consistent Writing Schedule: 10 Tips for Writers](https://www.masterclass.com/articles/how-to-create-a-consistent-writing-schedule)\n",
        "\n",
        "The audience for all of this should be experimentalists, as they are the ones who can test predictions made by your model and collect new data. In this way your models can impact future experiments, and future data can then be modeled (see modeling process schematic below). Remember your audience - it is _always_ hard to clearly convey the main points of your work to others, especially if your audience doesn't necessarily create computational models themselves.\n",
        "\n",
        "In addition, you should provide a visualization of the model, and upload the code implementing the model and the data it was trained and tested on to a repository (e.g. GitHub and OSF).\n",
        "\n",
        "### Suggestion\n",
        "\n",
        "For every modeling project, a very good exercise is to _**first**_ write a short, 100-word abstract of the project plan and expected impact. This forces focussing on the main points: describing the relevance, question, model, answer and what it all means very succinctly. This allows you to decide to do this project or not **before you commit time writing code for no good purpose**. Notice that this is really what we've walked you through carefully in this guide! 😀"
      ]
    },
    {
      "cell_type": "markdown",
      "metadata": {
        "execution": {},
        "id": "oWf2Igd5xfLQ"
      },
      "source": [
        "---\n",
        "# Reading\n",
        "\n",
        "Blohm G, Kording KP, Schrater PR (2020). _A How-to-Model Guide for Neuroscience_ eNeuro, 7(1). doi: [10.1523/ENEURO.0352-19.2019\n",
        "](https://doi.org/10.1523/ENEURO.0352-19.2019)\n",
        "\n",
        "Mensh B, Kording K (2017). _Ten simple rules for structuring papers._ PLOS Comput Biol 13(9): e1005619. doi: [10.1371/journal.pcbi.1005619](https://doi.org/10.1371/journal.pcbi.1005619)\n"
      ]
    }
  ],
  "metadata": {
    "colab": {
      "name": "ModelingSteps_5through10",
      "provenance": [],
      "toc_visible": true,
      "include_colab_link": true
    },
    "kernel": {
      "display_name": "Python 3",
      "language": "python",
      "name": "python3"
    },
    "kernelspec": {
      "display_name": "Python 3",
      "name": "python3"
    },
    "language_info": {
      "codemirror_mode": {
        "name": "ipython",
        "version": 3
      },
      "file_extension": ".py",
      "mimetype": "text/x-python",
      "name": "python",
      "nbconvert_exporter": "python",
      "pygments_lexer": "ipython3",
      "version": "3.7.13"
    },
    "widgets": {
      "application/vnd.jupyter.widget-state+json": {
        "d5c36c8c90344b3a9877a392d6e38273": {
          "model_module": "@jupyter-widgets/controls",
          "model_name": "TabModel",
          "model_module_version": "1.5.0",
          "state": {
            "_dom_classes": [],
            "_model_module": "@jupyter-widgets/controls",
            "_model_module_version": "1.5.0",
            "_model_name": "TabModel",
            "_titles": {
              "0": "Youtube",
              "1": "Bilibili"
            },
            "_view_count": null,
            "_view_module": "@jupyter-widgets/controls",
            "_view_module_version": "1.5.0",
            "_view_name": "TabView",
            "box_style": "",
            "children": [
              "IPY_MODEL_cbc58f3e8f024332a146a4f8c6993d8a",
              "IPY_MODEL_2b930cbe4b13418397474e5e2318067c"
            ],
            "layout": "IPY_MODEL_5d2b5d9ea05b41b3a5a4530a3f9e1f6e",
            "selected_index": 0
          }
        },
        "cbc58f3e8f024332a146a4f8c6993d8a": {
          "model_module": "@jupyter-widgets/output",
          "model_name": "OutputModel",
          "model_module_version": "1.0.0",
          "state": {
            "_dom_classes": [],
            "_model_module": "@jupyter-widgets/output",
            "_model_module_version": "1.0.0",
            "_model_name": "OutputModel",
            "_view_count": null,
            "_view_module": "@jupyter-widgets/output",
            "_view_module_version": "1.0.0",
            "_view_name": "OutputView",
            "layout": "IPY_MODEL_f037bfd7ba3345c183e8b8198187c2b3",
            "msg_id": "",
            "outputs": [
              {
                "output_type": "stream",
                "name": "stdout",
                "text": [
                  "Video available at https://youtube.com/watch?v=q5_c18Kxx0k\n"
                ]
              },
              {
                "output_type": "display_data",
                "data": {
                  "text/plain": "<IPython.lib.display.YouTubeVideo at 0x7fefd2611d50>",
                  "text/html": "\n        <iframe\n            width=\"854\"\n            height=\"480\"\n            src=\"https://www.youtube.com/embed/q5_c18Kxx0k?fs=1&rel=0\"\n            frameborder=\"0\"\n            allowfullscreen\n            \n        ></iframe>\n        ",
                  "image/jpeg": "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\n"
                },
                "metadata": {}
              }
            ]
          }
        },
        "2b930cbe4b13418397474e5e2318067c": {
          "model_module": "@jupyter-widgets/output",
          "model_name": "OutputModel",
          "model_module_version": "1.0.0",
          "state": {
            "_dom_classes": [],
            "_model_module": "@jupyter-widgets/output",
            "_model_module_version": "1.0.0",
            "_model_name": "OutputModel",
            "_view_count": null,
            "_view_module": "@jupyter-widgets/output",
            "_view_module_version": "1.0.0",
            "_view_name": "OutputView",
            "layout": "IPY_MODEL_478e5bc54bf3410db1117e019dcf1730",
            "msg_id": "",
            "outputs": [
              {
                "output_type": "stream",
                "name": "stdout",
                "text": [
                  "Video available at https://www.bilibili.com/video/BV1CB4y1T7Uv\n"
                ]
              },
              {
                "output_type": "display_data",
                "data": {
                  "text/plain": "<__main__.PlayVideo at 0x7fefd0306bc0>",
                  "text/html": "\n        <iframe\n            width=\"854\"\n            height=\"480\"\n            src=\"https://player.bilibili.com/player.html?bvid=BV1CB4y1T7Uv&page=1?fs=1&autoplay=False\"\n            frameborder=\"0\"\n            allowfullscreen\n            \n        ></iframe>\n        "
                },
                "metadata": {}
              }
            ]
          }
        },
        "5d2b5d9ea05b41b3a5a4530a3f9e1f6e": {
          "model_module": "@jupyter-widgets/base",
          "model_name": "LayoutModel",
          "model_module_version": "1.2.0",
          "state": {
            "_model_module": "@jupyter-widgets/base",
            "_model_module_version": "1.2.0",
            "_model_name": "LayoutModel",
            "_view_count": null,
            "_view_module": "@jupyter-widgets/base",
            "_view_module_version": "1.2.0",
            "_view_name": "LayoutView",
            "align_content": null,
            "align_items": null,
            "align_self": null,
            "border": null,
            "bottom": null,
            "display": null,
            "flex": null,
            "flex_flow": null,
            "grid_area": null,
            "grid_auto_columns": null,
            "grid_auto_flow": null,
            "grid_auto_rows": null,
            "grid_column": null,
            "grid_gap": null,
            "grid_row": null,
            "grid_template_areas": null,
            "grid_template_columns": null,
            "grid_template_rows": null,
            "height": null,
            "justify_content": null,
            "justify_items": null,
            "left": null,
            "margin": null,
            "max_height": null,
            "max_width": null,
            "min_height": null,
            "min_width": null,
            "object_fit": null,
            "object_position": null,
            "order": null,
            "overflow": null,
            "overflow_x": null,
            "overflow_y": null,
            "padding": null,
            "right": null,
            "top": null,
            "visibility": null,
            "width": null
          }
        },
        "f037bfd7ba3345c183e8b8198187c2b3": {
          "model_module": "@jupyter-widgets/base",
          "model_name": "LayoutModel",
          "model_module_version": "1.2.0",
          "state": {
            "_model_module": "@jupyter-widgets/base",
            "_model_module_version": "1.2.0",
            "_model_name": "LayoutModel",
            "_view_count": null,
            "_view_module": "@jupyter-widgets/base",
            "_view_module_version": "1.2.0",
            "_view_name": "LayoutView",
            "align_content": null,
            "align_items": null,
            "align_self": null,
            "border": null,
            "bottom": null,
            "display": null,
            "flex": null,
            "flex_flow": null,
            "grid_area": null,
            "grid_auto_columns": null,
            "grid_auto_flow": null,
            "grid_auto_rows": null,
            "grid_column": null,
            "grid_gap": null,
            "grid_row": null,
            "grid_template_areas": null,
            "grid_template_columns": null,
            "grid_template_rows": null,
            "height": null,
            "justify_content": null,
            "justify_items": null,
            "left": null,
            "margin": null,
            "max_height": null,
            "max_width": null,
            "min_height": null,
            "min_width": null,
            "object_fit": null,
            "object_position": null,
            "order": null,
            "overflow": null,
            "overflow_x": null,
            "overflow_y": null,
            "padding": null,
            "right": null,
            "top": null,
            "visibility": null,
            "width": null
          }
        },
        "478e5bc54bf3410db1117e019dcf1730": {
          "model_module": "@jupyter-widgets/base",
          "model_name": "LayoutModel",
          "model_module_version": "1.2.0",
          "state": {
            "_model_module": "@jupyter-widgets/base",
            "_model_module_version": "1.2.0",
            "_model_name": "LayoutModel",
            "_view_count": null,
            "_view_module": "@jupyter-widgets/base",
            "_view_module_version": "1.2.0",
            "_view_name": "LayoutView",
            "align_content": null,
            "align_items": null,
            "align_self": null,
            "border": null,
            "bottom": null,
            "display": null,
            "flex": null,
            "flex_flow": null,
            "grid_area": null,
            "grid_auto_columns": null,
            "grid_auto_flow": null,
            "grid_auto_rows": null,
            "grid_column": null,
            "grid_gap": null,
            "grid_row": null,
            "grid_template_areas": null,
            "grid_template_columns": null,
            "grid_template_rows": null,
            "height": null,
            "justify_content": null,
            "justify_items": null,
            "left": null,
            "margin": null,
            "max_height": null,
            "max_width": null,
            "min_height": null,
            "min_width": null,
            "object_fit": null,
            "object_position": null,
            "order": null,
            "overflow": null,
            "overflow_x": null,
            "overflow_y": null,
            "padding": null,
            "right": null,
            "top": null,
            "visibility": null,
            "width": null
          }
        },
        "24c400f34b7649f1824f7c634351f2f0": {
          "model_module": "@jupyter-widgets/controls",
          "model_name": "TabModel",
          "model_module_version": "1.5.0",
          "state": {
            "_dom_classes": [],
            "_model_module": "@jupyter-widgets/controls",
            "_model_module_version": "1.5.0",
            "_model_name": "TabModel",
            "_titles": {
              "0": "Youtube",
              "1": "Bilibili"
            },
            "_view_count": null,
            "_view_module": "@jupyter-widgets/controls",
            "_view_module_version": "1.5.0",
            "_view_name": "TabView",
            "box_style": "",
            "children": [
              "IPY_MODEL_adc8d0ad14044946ab7db4db5ad9e312",
              "IPY_MODEL_4451f3250fcd48cabafbd91691a3084c"
            ],
            "layout": "IPY_MODEL_7b65ced93aac4629bd9938d46a4329f4",
            "selected_index": 0
          }
        },
        "adc8d0ad14044946ab7db4db5ad9e312": {
          "model_module": "@jupyter-widgets/output",
          "model_name": "OutputModel",
          "model_module_version": "1.0.0",
          "state": {
            "_dom_classes": [],
            "_model_module": "@jupyter-widgets/output",
            "_model_module_version": "1.0.0",
            "_model_name": "OutputModel",
            "_view_count": null,
            "_view_module": "@jupyter-widgets/output",
            "_view_module_version": "1.0.0",
            "_view_name": "OutputView",
            "layout": "IPY_MODEL_81412d43463547ddaa73cef6267e4128",
            "msg_id": "",
            "outputs": [
              {
                "output_type": "stream",
                "name": "stdout",
                "text": [
                  "Video available at https://youtube.com/watch?v=KrbKjzURlQA\n"
                ]
              },
              {
                "output_type": "display_data",
                "data": {
                  "text/plain": "<IPython.lib.display.YouTubeVideo at 0x7fefd263c5e0>",
                  "text/html": "\n        <iframe\n            width=\"854\"\n            height=\"480\"\n            src=\"https://www.youtube.com/embed/KrbKjzURlQA?fs=1&rel=0\"\n            frameborder=\"0\"\n            allowfullscreen\n            \n        ></iframe>\n        ",
                  "image/jpeg": "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\n"
                },
                "metadata": {}
              }
            ]
          }
        },
        "4451f3250fcd48cabafbd91691a3084c": {
          "model_module": "@jupyter-widgets/output",
          "model_name": "OutputModel",
          "model_module_version": "1.0.0",
          "state": {
            "_dom_classes": [],
            "_model_module": "@jupyter-widgets/output",
            "_model_module_version": "1.0.0",
            "_model_name": "OutputModel",
            "_view_count": null,
            "_view_module": "@jupyter-widgets/output",
            "_view_module_version": "1.0.0",
            "_view_name": "OutputView",
            "layout": "IPY_MODEL_9cf30c6fb0d64fa39d74ba6c8730377c",
            "msg_id": "",
            "outputs": [
              {
                "output_type": "stream",
                "name": "stdout",
                "text": [
                  "Video available at https://www.bilibili.com/video/BV1R44y1q7RH\n"
                ]
              },
              {
                "output_type": "display_data",
                "data": {
                  "text/plain": "<__main__.PlayVideo at 0x7fefd263c520>",
                  "text/html": "\n        <iframe\n            width=\"854\"\n            height=\"480\"\n            src=\"https://player.bilibili.com/player.html?bvid=BV1R44y1q7RH&page=1?fs=1&autoplay=False\"\n            frameborder=\"0\"\n            allowfullscreen\n            \n        ></iframe>\n        "
                },
                "metadata": {}
              }
            ]
          }
        },
        "7b65ced93aac4629bd9938d46a4329f4": {
          "model_module": "@jupyter-widgets/base",
          "model_name": "LayoutModel",
          "model_module_version": "1.2.0",
          "state": {
            "_model_module": "@jupyter-widgets/base",
            "_model_module_version": "1.2.0",
            "_model_name": "LayoutModel",
            "_view_count": null,
            "_view_module": "@jupyter-widgets/base",
            "_view_module_version": "1.2.0",
            "_view_name": "LayoutView",
            "align_content": null,
            "align_items": null,
            "align_self": null,
            "border": null,
            "bottom": null,
            "display": null,
            "flex": null,
            "flex_flow": null,
            "grid_area": null,
            "grid_auto_columns": null,
            "grid_auto_flow": null,
            "grid_auto_rows": null,
            "grid_column": null,
            "grid_gap": null,
            "grid_row": null,
            "grid_template_areas": null,
            "grid_template_columns": null,
            "grid_template_rows": null,
            "height": null,
            "justify_content": null,
            "justify_items": null,
            "left": null,
            "margin": null,
            "max_height": null,
            "max_width": null,
            "min_height": null,
            "min_width": null,
            "object_fit": null,
            "object_position": null,
            "order": null,
            "overflow": null,
            "overflow_x": null,
            "overflow_y": null,
            "padding": null,
            "right": null,
            "top": null,
            "visibility": null,
            "width": null
          }
        },
        "81412d43463547ddaa73cef6267e4128": {
          "model_module": "@jupyter-widgets/base",
          "model_name": "LayoutModel",
          "model_module_version": "1.2.0",
          "state": {
            "_model_module": "@jupyter-widgets/base",
            "_model_module_version": "1.2.0",
            "_model_name": "LayoutModel",
            "_view_count": null,
            "_view_module": "@jupyter-widgets/base",
            "_view_module_version": "1.2.0",
            "_view_name": "LayoutView",
            "align_content": null,
            "align_items": null,
            "align_self": null,
            "border": null,
            "bottom": null,
            "display": null,
            "flex": null,
            "flex_flow": null,
            "grid_area": null,
            "grid_auto_columns": null,
            "grid_auto_flow": null,
            "grid_auto_rows": null,
            "grid_column": null,
            "grid_gap": null,
            "grid_row": null,
            "grid_template_areas": null,
            "grid_template_columns": null,
            "grid_template_rows": null,
            "height": null,
            "justify_content": null,
            "justify_items": null,
            "left": null,
            "margin": null,
            "max_height": null,
            "max_width": null,
            "min_height": null,
            "min_width": null,
            "object_fit": null,
            "object_position": null,
            "order": null,
            "overflow": null,
            "overflow_x": null,
            "overflow_y": null,
            "padding": null,
            "right": null,
            "top": null,
            "visibility": null,
            "width": null
          }
        },
        "9cf30c6fb0d64fa39d74ba6c8730377c": {
          "model_module": "@jupyter-widgets/base",
          "model_name": "LayoutModel",
          "model_module_version": "1.2.0",
          "state": {
            "_model_module": "@jupyter-widgets/base",
            "_model_module_version": "1.2.0",
            "_model_name": "LayoutModel",
            "_view_count": null,
            "_view_module": "@jupyter-widgets/base",
            "_view_module_version": "1.2.0",
            "_view_name": "LayoutView",
            "align_content": null,
            "align_items": null,
            "align_self": null,
            "border": null,
            "bottom": null,
            "display": null,
            "flex": null,
            "flex_flow": null,
            "grid_area": null,
            "grid_auto_columns": null,
            "grid_auto_flow": null,
            "grid_auto_rows": null,
            "grid_column": null,
            "grid_gap": null,
            "grid_row": null,
            "grid_template_areas": null,
            "grid_template_columns": null,
            "grid_template_rows": null,
            "height": null,
            "justify_content": null,
            "justify_items": null,
            "left": null,
            "margin": null,
            "max_height": null,
            "max_width": null,
            "min_height": null,
            "min_width": null,
            "object_fit": null,
            "object_position": null,
            "order": null,
            "overflow": null,
            "overflow_x": null,
            "overflow_y": null,
            "padding": null,
            "right": null,
            "top": null,
            "visibility": null,
            "width": null
          }
        },
        "2c0621a09c99427ebbea39a9d7c4825d": {
          "model_module": "@jupyter-widgets/controls",
          "model_name": "TabModel",
          "model_module_version": "1.5.0",
          "state": {
            "_dom_classes": [],
            "_model_module": "@jupyter-widgets/controls",
            "_model_module_version": "1.5.0",
            "_model_name": "TabModel",
            "_titles": {
              "0": "Youtube",
              "1": "Bilibili"
            },
            "_view_count": null,
            "_view_module": "@jupyter-widgets/controls",
            "_view_module_version": "1.5.0",
            "_view_name": "TabView",
            "box_style": "",
            "children": [
              "IPY_MODEL_773c7060cd444628b41464a4c8cf89c3",
              "IPY_MODEL_a51fa67b9a96462f854c38a99f512cac"
            ],
            "layout": "IPY_MODEL_89a9207285e34b928c99648fc26655c9",
            "selected_index": 0
          }
        },
        "773c7060cd444628b41464a4c8cf89c3": {
          "model_module": "@jupyter-widgets/output",
          "model_name": "OutputModel",
          "model_module_version": "1.0.0",
          "state": {
            "_dom_classes": [],
            "_model_module": "@jupyter-widgets/output",
            "_model_module_version": "1.0.0",
            "_model_name": "OutputModel",
            "_view_count": null,
            "_view_module": "@jupyter-widgets/output",
            "_view_module_version": "1.0.0",
            "_view_name": "OutputView",
            "layout": "IPY_MODEL_6012af6487ed459882584c5901e6d5f6",
            "msg_id": "",
            "outputs": [
              {
                "output_type": "stream",
                "name": "stdout",
                "text": [
                  "Video available at https://youtube.com/watch?v=qxU5dJz5hG0\n"
                ]
              },
              {
                "output_type": "display_data",
                "data": {
                  "text/plain": "<IPython.lib.display.YouTubeVideo at 0x7fefd263ca60>",
                  "text/html": "\n        <iframe\n            width=\"854\"\n            height=\"480\"\n            src=\"https://www.youtube.com/embed/qxU5dJz5hG0?fs=1&rel=0\"\n            frameborder=\"0\"\n            allowfullscreen\n            \n        ></iframe>\n        ",
                  "image/jpeg": "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\n"
                },
                "metadata": {}
              }
            ]
          }
        },
        "a51fa67b9a96462f854c38a99f512cac": {
          "model_module": "@jupyter-widgets/output",
          "model_name": "OutputModel",
          "model_module_version": "1.0.0",
          "state": {
            "_dom_classes": [],
            "_model_module": "@jupyter-widgets/output",
            "_model_module_version": "1.0.0",
            "_model_name": "OutputModel",
            "_view_count": null,
            "_view_module": "@jupyter-widgets/output",
            "_view_module_version": "1.0.0",
            "_view_name": "OutputView",
            "layout": "IPY_MODEL_7462bcd1175d46ff9a5ad11996c77be4",
            "msg_id": "",
            "outputs": [
              {
                "output_type": "stream",
                "name": "stdout",
                "text": [
                  "Video available at https://www.bilibili.com/video/BV1nX4y1w7uu\n"
                ]
              },
              {
                "output_type": "display_data",
                "data": {
                  "text/plain": "<__main__.PlayVideo at 0x7fefd263c9a0>",
                  "text/html": "\n        <iframe\n            width=\"854\"\n            height=\"480\"\n            src=\"https://player.bilibili.com/player.html?bvid=BV1nX4y1w7uu&page=1?fs=1&autoplay=False\"\n            frameborder=\"0\"\n            allowfullscreen\n            \n        ></iframe>\n        "
                },
                "metadata": {}
              }
            ]
          }
        },
        "89a9207285e34b928c99648fc26655c9": {
          "model_module": "@jupyter-widgets/base",
          "model_name": "LayoutModel",
          "model_module_version": "1.2.0",
          "state": {
            "_model_module": "@jupyter-widgets/base",
            "_model_module_version": "1.2.0",
            "_model_name": "LayoutModel",
            "_view_count": null,
            "_view_module": "@jupyter-widgets/base",
            "_view_module_version": "1.2.0",
            "_view_name": "LayoutView",
            "align_content": null,
            "align_items": null,
            "align_self": null,
            "border": null,
            "bottom": null,
            "display": null,
            "flex": null,
            "flex_flow": null,
            "grid_area": null,
            "grid_auto_columns": null,
            "grid_auto_flow": null,
            "grid_auto_rows": null,
            "grid_column": null,
            "grid_gap": null,
            "grid_row": null,
            "grid_template_areas": null,
            "grid_template_columns": null,
            "grid_template_rows": null,
            "height": null,
            "justify_content": null,
            "justify_items": null,
            "left": null,
            "margin": null,
            "max_height": null,
            "max_width": null,
            "min_height": null,
            "min_width": null,
            "object_fit": null,
            "object_position": null,
            "order": null,
            "overflow": null,
            "overflow_x": null,
            "overflow_y": null,
            "padding": null,
            "right": null,
            "top": null,
            "visibility": null,
            "width": null
          }
        },
        "6012af6487ed459882584c5901e6d5f6": {
          "model_module": "@jupyter-widgets/base",
          "model_name": "LayoutModel",
          "model_module_version": "1.2.0",
          "state": {
            "_model_module": "@jupyter-widgets/base",
            "_model_module_version": "1.2.0",
            "_model_name": "LayoutModel",
            "_view_count": null,
            "_view_module": "@jupyter-widgets/base",
            "_view_module_version": "1.2.0",
            "_view_name": "LayoutView",
            "align_content": null,
            "align_items": null,
            "align_self": null,
            "border": null,
            "bottom": null,
            "display": null,
            "flex": null,
            "flex_flow": null,
            "grid_area": null,
            "grid_auto_columns": null,
            "grid_auto_flow": null,
            "grid_auto_rows": null,
            "grid_column": null,
            "grid_gap": null,
            "grid_row": null,
            "grid_template_areas": null,
            "grid_template_columns": null,
            "grid_template_rows": null,
            "height": null,
            "justify_content": null,
            "justify_items": null,
            "left": null,
            "margin": null,
            "max_height": null,
            "max_width": null,
            "min_height": null,
            "min_width": null,
            "object_fit": null,
            "object_position": null,
            "order": null,
            "overflow": null,
            "overflow_x": null,
            "overflow_y": null,
            "padding": null,
            "right": null,
            "top": null,
            "visibility": null,
            "width": null
          }
        },
        "7462bcd1175d46ff9a5ad11996c77be4": {
          "model_module": "@jupyter-widgets/base",
          "model_name": "LayoutModel",
          "model_module_version": "1.2.0",
          "state": {
            "_model_module": "@jupyter-widgets/base",
            "_model_module_version": "1.2.0",
            "_model_name": "LayoutModel",
            "_view_count": null,
            "_view_module": "@jupyter-widgets/base",
            "_view_module_version": "1.2.0",
            "_view_name": "LayoutView",
            "align_content": null,
            "align_items": null,
            "align_self": null,
            "border": null,
            "bottom": null,
            "display": null,
            "flex": null,
            "flex_flow": null,
            "grid_area": null,
            "grid_auto_columns": null,
            "grid_auto_flow": null,
            "grid_auto_rows": null,
            "grid_column": null,
            "grid_gap": null,
            "grid_row": null,
            "grid_template_areas": null,
            "grid_template_columns": null,
            "grid_template_rows": null,
            "height": null,
            "justify_content": null,
            "justify_items": null,
            "left": null,
            "margin": null,
            "max_height": null,
            "max_width": null,
            "min_height": null,
            "min_width": null,
            "object_fit": null,
            "object_position": null,
            "order": null,
            "overflow": null,
            "overflow_x": null,
            "overflow_y": null,
            "padding": null,
            "right": null,
            "top": null,
            "visibility": null,
            "width": null
          }
        },
        "409b90731e3842da92903cf1535b66c1": {
          "model_module": "@jupyter-widgets/controls",
          "model_name": "TabModel",
          "model_module_version": "1.5.0",
          "state": {
            "_dom_classes": [],
            "_model_module": "@jupyter-widgets/controls",
            "_model_module_version": "1.5.0",
            "_model_name": "TabModel",
            "_titles": {
              "0": "Youtube",
              "1": "Bilibili"
            },
            "_view_count": null,
            "_view_module": "@jupyter-widgets/controls",
            "_view_module_version": "1.5.0",
            "_view_name": "TabView",
            "box_style": "",
            "children": [
              "IPY_MODEL_6dfe7e41dcc24ddfb3e84cb325a4eb34",
              "IPY_MODEL_9fc7170573b2415c84d8d1cf10989fdf"
            ],
            "layout": "IPY_MODEL_d6ecd334043e4771a3840b1350fb93f4",
            "selected_index": 0
          }
        },
        "6dfe7e41dcc24ddfb3e84cb325a4eb34": {
          "model_module": "@jupyter-widgets/output",
          "model_name": "OutputModel",
          "model_module_version": "1.0.0",
          "state": {
            "_dom_classes": [],
            "_model_module": "@jupyter-widgets/output",
            "_model_module_version": "1.0.0",
            "_model_name": "OutputModel",
            "_view_count": null,
            "_view_module": "@jupyter-widgets/output",
            "_view_module_version": "1.0.0",
            "_view_name": "OutputView",
            "layout": "IPY_MODEL_e59ea24042534cecbe41714b37b2085b",
            "msg_id": "",
            "outputs": [
              {
                "output_type": "stream",
                "name": "stdout",
                "text": [
                  "Video available at https://youtube.com/watch?v=ul4loI_JUW0\n"
                ]
              },
              {
                "output_type": "display_data",
                "data": {
                  "text/plain": "<IPython.lib.display.YouTubeVideo at 0x7fefd3350160>",
                  "text/html": "\n        <iframe\n            width=\"854\"\n            height=\"480\"\n            src=\"https://www.youtube.com/embed/ul4loI_JUW0?fs=1&rel=0\"\n            frameborder=\"0\"\n            allowfullscreen\n            \n        ></iframe>\n        ",
                  "image/jpeg": "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\n"
                },
                "metadata": {}
              }
            ]
          }
        },
        "9fc7170573b2415c84d8d1cf10989fdf": {
          "model_module": "@jupyter-widgets/output",
          "model_name": "OutputModel",
          "model_module_version": "1.0.0",
          "state": {
            "_dom_classes": [],
            "_model_module": "@jupyter-widgets/output",
            "_model_module_version": "1.0.0",
            "_model_name": "OutputModel",
            "_view_count": null,
            "_view_module": "@jupyter-widgets/output",
            "_view_module_version": "1.0.0",
            "_view_name": "OutputView",
            "layout": "IPY_MODEL_7d8d67a939c349e1b6c5b4553eb031de",
            "msg_id": "",
            "outputs": [
              {
                "output_type": "stream",
                "name": "stdout",
                "text": [
                  "Video available at https://www.bilibili.com/video/BV1f44y1q7wm\n"
                ]
              },
              {
                "output_type": "display_data",
                "data": {
                  "text/plain": "<__main__.PlayVideo at 0x7fefd0123dc0>",
                  "text/html": "\n        <iframe\n            width=\"854\"\n            height=\"480\"\n            src=\"https://player.bilibili.com/player.html?bvid=BV1f44y1q7wm&page=1?fs=1&autoplay=False\"\n            frameborder=\"0\"\n            allowfullscreen\n            \n        ></iframe>\n        "
                },
                "metadata": {}
              }
            ]
          }
        },
        "d6ecd334043e4771a3840b1350fb93f4": {
          "model_module": "@jupyter-widgets/base",
          "model_name": "LayoutModel",
          "model_module_version": "1.2.0",
          "state": {
            "_model_module": "@jupyter-widgets/base",
            "_model_module_version": "1.2.0",
            "_model_name": "LayoutModel",
            "_view_count": null,
            "_view_module": "@jupyter-widgets/base",
            "_view_module_version": "1.2.0",
            "_view_name": "LayoutView",
            "align_content": null,
            "align_items": null,
            "align_self": null,
            "border": null,
            "bottom": null,
            "display": null,
            "flex": null,
            "flex_flow": null,
            "grid_area": null,
            "grid_auto_columns": null,
            "grid_auto_flow": null,
            "grid_auto_rows": null,
            "grid_column": null,
            "grid_gap": null,
            "grid_row": null,
            "grid_template_areas": null,
            "grid_template_columns": null,
            "grid_template_rows": null,
            "height": null,
            "justify_content": null,
            "justify_items": null,
            "left": null,
            "margin": null,
            "max_height": null,
            "max_width": null,
            "min_height": null,
            "min_width": null,
            "object_fit": null,
            "object_position": null,
            "order": null,
            "overflow": null,
            "overflow_x": null,
            "overflow_y": null,
            "padding": null,
            "right": null,
            "top": null,
            "visibility": null,
            "width": null
          }
        },
        "e59ea24042534cecbe41714b37b2085b": {
          "model_module": "@jupyter-widgets/base",
          "model_name": "LayoutModel",
          "model_module_version": "1.2.0",
          "state": {
            "_model_module": "@jupyter-widgets/base",
            "_model_module_version": "1.2.0",
            "_model_name": "LayoutModel",
            "_view_count": null,
            "_view_module": "@jupyter-widgets/base",
            "_view_module_version": "1.2.0",
            "_view_name": "LayoutView",
            "align_content": null,
            "align_items": null,
            "align_self": null,
            "border": null,
            "bottom": null,
            "display": null,
            "flex": null,
            "flex_flow": null,
            "grid_area": null,
            "grid_auto_columns": null,
            "grid_auto_flow": null,
            "grid_auto_rows": null,
            "grid_column": null,
            "grid_gap": null,
            "grid_row": null,
            "grid_template_areas": null,
            "grid_template_columns": null,
            "grid_template_rows": null,
            "height": null,
            "justify_content": null,
            "justify_items": null,
            "left": null,
            "margin": null,
            "max_height": null,
            "max_width": null,
            "min_height": null,
            "min_width": null,
            "object_fit": null,
            "object_position": null,
            "order": null,
            "overflow": null,
            "overflow_x": null,
            "overflow_y": null,
            "padding": null,
            "right": null,
            "top": null,
            "visibility": null,
            "width": null
          }
        },
        "7d8d67a939c349e1b6c5b4553eb031de": {
          "model_module": "@jupyter-widgets/base",
          "model_name": "LayoutModel",
          "model_module_version": "1.2.0",
          "state": {
            "_model_module": "@jupyter-widgets/base",
            "_model_module_version": "1.2.0",
            "_model_name": "LayoutModel",
            "_view_count": null,
            "_view_module": "@jupyter-widgets/base",
            "_view_module_version": "1.2.0",
            "_view_name": "LayoutView",
            "align_content": null,
            "align_items": null,
            "align_self": null,
            "border": null,
            "bottom": null,
            "display": null,
            "flex": null,
            "flex_flow": null,
            "grid_area": null,
            "grid_auto_columns": null,
            "grid_auto_flow": null,
            "grid_auto_rows": null,
            "grid_column": null,
            "grid_gap": null,
            "grid_row": null,
            "grid_template_areas": null,
            "grid_template_columns": null,
            "grid_template_rows": null,
            "height": null,
            "justify_content": null,
            "justify_items": null,
            "left": null,
            "margin": null,
            "max_height": null,
            "max_width": null,
            "min_height": null,
            "min_width": null,
            "object_fit": null,
            "object_position": null,
            "order": null,
            "overflow": null,
            "overflow_x": null,
            "overflow_y": null,
            "padding": null,
            "right": null,
            "top": null,
            "visibility": null,
            "width": null
          }
        },
        "cf592deec8574b3faa318eaf18cfa0a1": {
          "model_module": "@jupyter-widgets/controls",
          "model_name": "TabModel",
          "model_module_version": "1.5.0",
          "state": {
            "_dom_classes": [],
            "_model_module": "@jupyter-widgets/controls",
            "_model_module_version": "1.5.0",
            "_model_name": "TabModel",
            "_titles": {
              "0": "Youtube",
              "1": "Bilibili"
            },
            "_view_count": null,
            "_view_module": "@jupyter-widgets/controls",
            "_view_module_version": "1.5.0",
            "_view_name": "TabView",
            "box_style": "",
            "children": [
              "IPY_MODEL_2a968822c65c4452b5e749d1195c3e88",
              "IPY_MODEL_209fffe6dbeb46489a6f469492784593"
            ],
            "layout": "IPY_MODEL_c32abf1189eb4a24baf96313d50ebda2",
            "selected_index": 0
          }
        },
        "2a968822c65c4452b5e749d1195c3e88": {
          "model_module": "@jupyter-widgets/output",
          "model_name": "OutputModel",
          "model_module_version": "1.0.0",
          "state": {
            "_dom_classes": [],
            "_model_module": "@jupyter-widgets/output",
            "_model_module_version": "1.0.0",
            "_model_name": "OutputModel",
            "_view_count": null,
            "_view_module": "@jupyter-widgets/output",
            "_view_module_version": "1.0.0",
            "_view_name": "OutputView",
            "layout": "IPY_MODEL_d6c8297bfea446c5889fa9dd673e10aa",
            "msg_id": "",
            "outputs": [
              {
                "output_type": "stream",
                "name": "stdout",
                "text": [
                  "Video available at https://youtube.com/watch?v=X-R0hjID93M\n"
                ]
              },
              {
                "output_type": "display_data",
                "data": {
                  "text/plain": "<IPython.lib.display.YouTubeVideo at 0x7fefd0307940>",
                  "text/html": "\n        <iframe\n            width=\"854\"\n            height=\"480\"\n            src=\"https://www.youtube.com/embed/X-R0hjID93M?fs=1&rel=0\"\n            frameborder=\"0\"\n            allowfullscreen\n            \n        ></iframe>\n        ",
                  "image/jpeg": "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\n"
                },
                "metadata": {}
              }
            ]
          }
        },
        "209fffe6dbeb46489a6f469492784593": {
          "model_module": "@jupyter-widgets/output",
          "model_name": "OutputModel",
          "model_module_version": "1.0.0",
          "state": {
            "_dom_classes": [],
            "_model_module": "@jupyter-widgets/output",
            "_model_module_version": "1.0.0",
            "_model_name": "OutputModel",
            "_view_count": null,
            "_view_module": "@jupyter-widgets/output",
            "_view_module_version": "1.0.0",
            "_view_name": "OutputView",
            "layout": "IPY_MODEL_f9727bf248f54df0898c61736cfbaa57",
            "msg_id": "",
            "outputs": [
              {
                "output_type": "stream",
                "name": "stdout",
                "text": [
                  "Video available at https://www.bilibili.com/video/BV1Xv411J7Ls\n"
                ]
              },
              {
                "output_type": "display_data",
                "data": {
                  "text/plain": "<__main__.PlayVideo at 0x7fefd0307910>",
                  "text/html": "\n        <iframe\n            width=\"854\"\n            height=\"480\"\n            src=\"https://player.bilibili.com/player.html?bvid=BV1Xv411J7Ls&page=1?fs=1&autoplay=False\"\n            frameborder=\"0\"\n            allowfullscreen\n            \n        ></iframe>\n        "
                },
                "metadata": {}
              }
            ]
          }
        },
        "c32abf1189eb4a24baf96313d50ebda2": {
          "model_module": "@jupyter-widgets/base",
          "model_name": "LayoutModel",
          "model_module_version": "1.2.0",
          "state": {
            "_model_module": "@jupyter-widgets/base",
            "_model_module_version": "1.2.0",
            "_model_name": "LayoutModel",
            "_view_count": null,
            "_view_module": "@jupyter-widgets/base",
            "_view_module_version": "1.2.0",
            "_view_name": "LayoutView",
            "align_content": null,
            "align_items": null,
            "align_self": null,
            "border": null,
            "bottom": null,
            "display": null,
            "flex": null,
            "flex_flow": null,
            "grid_area": null,
            "grid_auto_columns": null,
            "grid_auto_flow": null,
            "grid_auto_rows": null,
            "grid_column": null,
            "grid_gap": null,
            "grid_row": null,
            "grid_template_areas": null,
            "grid_template_columns": null,
            "grid_template_rows": null,
            "height": null,
            "justify_content": null,
            "justify_items": null,
            "left": null,
            "margin": null,
            "max_height": null,
            "max_width": null,
            "min_height": null,
            "min_width": null,
            "object_fit": null,
            "object_position": null,
            "order": null,
            "overflow": null,
            "overflow_x": null,
            "overflow_y": null,
            "padding": null,
            "right": null,
            "top": null,
            "visibility": null,
            "width": null
          }
        },
        "d6c8297bfea446c5889fa9dd673e10aa": {
          "model_module": "@jupyter-widgets/base",
          "model_name": "LayoutModel",
          "model_module_version": "1.2.0",
          "state": {
            "_model_module": "@jupyter-widgets/base",
            "_model_module_version": "1.2.0",
            "_model_name": "LayoutModel",
            "_view_count": null,
            "_view_module": "@jupyter-widgets/base",
            "_view_module_version": "1.2.0",
            "_view_name": "LayoutView",
            "align_content": null,
            "align_items": null,
            "align_self": null,
            "border": null,
            "bottom": null,
            "display": null,
            "flex": null,
            "flex_flow": null,
            "grid_area": null,
            "grid_auto_columns": null,
            "grid_auto_flow": null,
            "grid_auto_rows": null,
            "grid_column": null,
            "grid_gap": null,
            "grid_row": null,
            "grid_template_areas": null,
            "grid_template_columns": null,
            "grid_template_rows": null,
            "height": null,
            "justify_content": null,
            "justify_items": null,
            "left": null,
            "margin": null,
            "max_height": null,
            "max_width": null,
            "min_height": null,
            "min_width": null,
            "object_fit": null,
            "object_position": null,
            "order": null,
            "overflow": null,
            "overflow_x": null,
            "overflow_y": null,
            "padding": null,
            "right": null,
            "top": null,
            "visibility": null,
            "width": null
          }
        },
        "f9727bf248f54df0898c61736cfbaa57": {
          "model_module": "@jupyter-widgets/base",
          "model_name": "LayoutModel",
          "model_module_version": "1.2.0",
          "state": {
            "_model_module": "@jupyter-widgets/base",
            "_model_module_version": "1.2.0",
            "_model_name": "LayoutModel",
            "_view_count": null,
            "_view_module": "@jupyter-widgets/base",
            "_view_module_version": "1.2.0",
            "_view_name": "LayoutView",
            "align_content": null,
            "align_items": null,
            "align_self": null,
            "border": null,
            "bottom": null,
            "display": null,
            "flex": null,
            "flex_flow": null,
            "grid_area": null,
            "grid_auto_columns": null,
            "grid_auto_flow": null,
            "grid_auto_rows": null,
            "grid_column": null,
            "grid_gap": null,
            "grid_row": null,
            "grid_template_areas": null,
            "grid_template_columns": null,
            "grid_template_rows": null,
            "height": null,
            "justify_content": null,
            "justify_items": null,
            "left": null,
            "margin": null,
            "max_height": null,
            "max_width": null,
            "min_height": null,
            "min_width": null,
            "object_fit": null,
            "object_position": null,
            "order": null,
            "overflow": null,
            "overflow_x": null,
            "overflow_y": null,
            "padding": null,
            "right": null,
            "top": null,
            "visibility": null,
            "width": null
          }
        },
        "255500413655422d87de8c631d103141": {
          "model_module": "@jupyter-widgets/controls",
          "model_name": "TabModel",
          "model_module_version": "1.5.0",
          "state": {
            "_dom_classes": [],
            "_model_module": "@jupyter-widgets/controls",
            "_model_module_version": "1.5.0",
            "_model_name": "TabModel",
            "_titles": {
              "0": "Youtube",
              "1": "Bilibili"
            },
            "_view_count": null,
            "_view_module": "@jupyter-widgets/controls",
            "_view_module_version": "1.5.0",
            "_view_name": "TabView",
            "box_style": "",
            "children": [
              "IPY_MODEL_0251c201507d490cb71ff6e74c3eb55c",
              "IPY_MODEL_be0012b17fc947e28ec8c7c5a7151939"
            ],
            "layout": "IPY_MODEL_72b3878331f04d58b3f85b6a7d861189",
            "selected_index": 0
          }
        },
        "0251c201507d490cb71ff6e74c3eb55c": {
          "model_module": "@jupyter-widgets/output",
          "model_name": "OutputModel",
          "model_module_version": "1.0.0",
          "state": {
            "_dom_classes": [],
            "_model_module": "@jupyter-widgets/output",
            "_model_module_version": "1.0.0",
            "_model_name": "OutputModel",
            "_view_count": null,
            "_view_module": "@jupyter-widgets/output",
            "_view_module_version": "1.0.0",
            "_view_name": "OutputView",
            "layout": "IPY_MODEL_40d1b557c551460788d52579f8c4b4ba",
            "msg_id": "",
            "outputs": [
              {
                "output_type": "stream",
                "name": "stdout",
                "text": [
                  "Video available at https://youtube.com/watch?v=z7QIdREXmf8\n"
                ]
              },
              {
                "output_type": "display_data",
                "data": {
                  "text/plain": "<IPython.lib.display.YouTubeVideo at 0x7fefd0120e20>",
                  "text/html": "\n        <iframe\n            width=\"854\"\n            height=\"480\"\n            src=\"https://www.youtube.com/embed/z7QIdREXmf8?fs=1&rel=0\"\n            frameborder=\"0\"\n            allowfullscreen\n            \n        ></iframe>\n        ",
                  "image/jpeg": "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\n"
                },
                "metadata": {}
              }
            ]
          }
        },
        "be0012b17fc947e28ec8c7c5a7151939": {
          "model_module": "@jupyter-widgets/output",
          "model_name": "OutputModel",
          "model_module_version": "1.0.0",
          "state": {
            "_dom_classes": [],
            "_model_module": "@jupyter-widgets/output",
            "_model_module_version": "1.0.0",
            "_model_name": "OutputModel",
            "_view_count": null,
            "_view_module": "@jupyter-widgets/output",
            "_view_module_version": "1.0.0",
            "_view_name": "OutputView",
            "layout": "IPY_MODEL_aa61af39798043a3b7ffd84c99d51327",
            "msg_id": "",
            "outputs": [
              {
                "output_type": "stream",
                "name": "stdout",
                "text": [
                  "Video available at https://www.bilibili.com/video/BV11b4y1r7Eu\n"
                ]
              },
              {
                "output_type": "display_data",
                "data": {
                  "text/plain": "<__main__.PlayVideo at 0x7fefd0121c60>",
                  "text/html": "\n        <iframe\n            width=\"854\"\n            height=\"480\"\n            src=\"https://player.bilibili.com/player.html?bvid=BV11b4y1r7Eu&page=1?fs=1&autoplay=False\"\n            frameborder=\"0\"\n            allowfullscreen\n            \n        ></iframe>\n        "
                },
                "metadata": {}
              }
            ]
          }
        },
        "72b3878331f04d58b3f85b6a7d861189": {
          "model_module": "@jupyter-widgets/base",
          "model_name": "LayoutModel",
          "model_module_version": "1.2.0",
          "state": {
            "_model_module": "@jupyter-widgets/base",
            "_model_module_version": "1.2.0",
            "_model_name": "LayoutModel",
            "_view_count": null,
            "_view_module": "@jupyter-widgets/base",
            "_view_module_version": "1.2.0",
            "_view_name": "LayoutView",
            "align_content": null,
            "align_items": null,
            "align_self": null,
            "border": null,
            "bottom": null,
            "display": null,
            "flex": null,
            "flex_flow": null,
            "grid_area": null,
            "grid_auto_columns": null,
            "grid_auto_flow": null,
            "grid_auto_rows": null,
            "grid_column": null,
            "grid_gap": null,
            "grid_row": null,
            "grid_template_areas": null,
            "grid_template_columns": null,
            "grid_template_rows": null,
            "height": null,
            "justify_content": null,
            "justify_items": null,
            "left": null,
            "margin": null,
            "max_height": null,
            "max_width": null,
            "min_height": null,
            "min_width": null,
            "object_fit": null,
            "object_position": null,
            "order": null,
            "overflow": null,
            "overflow_x": null,
            "overflow_y": null,
            "padding": null,
            "right": null,
            "top": null,
            "visibility": null,
            "width": null
          }
        },
        "40d1b557c551460788d52579f8c4b4ba": {
          "model_module": "@jupyter-widgets/base",
          "model_name": "LayoutModel",
          "model_module_version": "1.2.0",
          "state": {
            "_model_module": "@jupyter-widgets/base",
            "_model_module_version": "1.2.0",
            "_model_name": "LayoutModel",
            "_view_count": null,
            "_view_module": "@jupyter-widgets/base",
            "_view_module_version": "1.2.0",
            "_view_name": "LayoutView",
            "align_content": null,
            "align_items": null,
            "align_self": null,
            "border": null,
            "bottom": null,
            "display": null,
            "flex": null,
            "flex_flow": null,
            "grid_area": null,
            "grid_auto_columns": null,
            "grid_auto_flow": null,
            "grid_auto_rows": null,
            "grid_column": null,
            "grid_gap": null,
            "grid_row": null,
            "grid_template_areas": null,
            "grid_template_columns": null,
            "grid_template_rows": null,
            "height": null,
            "justify_content": null,
            "justify_items": null,
            "left": null,
            "margin": null,
            "max_height": null,
            "max_width": null,
            "min_height": null,
            "min_width": null,
            "object_fit": null,
            "object_position": null,
            "order": null,
            "overflow": null,
            "overflow_x": null,
            "overflow_y": null,
            "padding": null,
            "right": null,
            "top": null,
            "visibility": null,
            "width": null
          }
        },
        "aa61af39798043a3b7ffd84c99d51327": {
          "model_module": "@jupyter-widgets/base",
          "model_name": "LayoutModel",
          "model_module_version": "1.2.0",
          "state": {
            "_model_module": "@jupyter-widgets/base",
            "_model_module_version": "1.2.0",
            "_model_name": "LayoutModel",
            "_view_count": null,
            "_view_module": "@jupyter-widgets/base",
            "_view_module_version": "1.2.0",
            "_view_name": "LayoutView",
            "align_content": null,
            "align_items": null,
            "align_self": null,
            "border": null,
            "bottom": null,
            "display": null,
            "flex": null,
            "flex_flow": null,
            "grid_area": null,
            "grid_auto_columns": null,
            "grid_auto_flow": null,
            "grid_auto_rows": null,
            "grid_column": null,
            "grid_gap": null,
            "grid_row": null,
            "grid_template_areas": null,
            "grid_template_columns": null,
            "grid_template_rows": null,
            "height": null,
            "justify_content": null,
            "justify_items": null,
            "left": null,
            "margin": null,
            "max_height": null,
            "max_width": null,
            "min_height": null,
            "min_width": null,
            "object_fit": null,
            "object_position": null,
            "order": null,
            "overflow": null,
            "overflow_x": null,
            "overflow_y": null,
            "padding": null,
            "right": null,
            "top": null,
            "visibility": null,
            "width": null
          }
        }
      }
    }
  },
  "nbformat": 4,
  "nbformat_minor": 0
}