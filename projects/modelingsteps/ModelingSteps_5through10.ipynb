{
  "nbformat": 4,
  "nbformat_minor": 0,
  "metadata": {
    "colab": {
      "name": "ModelingSteps_5through10.ipynb",
      "provenance": [],
      "collapsed_sections": [],
      "toc_visible": true,
      "include_colab_link": true
    },
    "kernelspec": {
      "name": "python3",
      "display_name": "Python 3"
    },
    "language_info": {
      "name": "python"
    }
  },
  "cells": [
    {
      "cell_type": "markdown",
      "metadata": {
        "id": "view-in-github",
        "colab_type": "text"
      },
      "source": [
        "<a href=\"https://colab.research.google.com/github/NeuromatchAcademy/course-content/blob/master/projects/modelingsteps/ModelingSteps_5through10.ipynb\" target=\"_parent\"><img src=\"https://colab.research.google.com/assets/colab-badge.svg\" alt=\"Open In Colab\"/></a>"
      ]
    },
    {
      "cell_type": "markdown",
      "metadata": {
        "id": "9EuRHfJVaPz3"
      },
      "source": [
        "# Modeling Steps 5 - 10\n",
        "\n",
        "**Project guidance**\n",
        "\n",
        "__Content creators:__ Marius 't Hart, Megan Peters, Paul Schrater,  Jean Laurens, Gunnar Blohm"
      ]
    },
    {
      "cell_type": "markdown",
      "metadata": {
        "id": "9zVF7dVxWYnR"
      },
      "source": [
        "**Our 2021 Sponsors, including Presenting Sponsor Facebook Reality Labs**\n",
        "\n",
        "<p align='center'><img src='https://github.com/NeuromatchAcademy/widgets/blob/master/sponsors.png?raw=True'/></p>"
      ]
    },
    {
      "cell_type": "markdown",
      "metadata": {
        "id": "sD-xWDF8aRSv"
      },
      "source": [
        "# Objectives\n",
        "This notebook contains the remaining steps of the how-to-model guide. \n",
        "\n",
        "**Implementing the model**\n",
        "5. Toolkit selection\n",
        "6. Planning the model\n",
        "7. Implementing the model\n",
        "\n",
        "**Model testing**\n",
        "8. Completing the model\n",
        "9. Testing and evaluating the model\n",
        "\n",
        "**Publishing**\n",
        "10. Publishing models\n",
        "\n",
        "Please see Steps 1 - 4 [here](https://compneuro.neuromatch.io/projects/modelingsteps/ModelingSteps_1through4.html) first (or in the Modeling Steps section of the Project Booklet). We do not cover the two example projects in tabs here because you will want to dive into the code in the full project notebooks [here](https://compneuro.neuromatch.io/projects/modelingsteps/TrainIllustionModel.html) and [here](https://compneuro.neuromatch.io/projects/modelingsteps/TrainIllusionDataProject.html) (or in the Modeling Steps section of the Project Booklet)."
      ]
    },
    {
      "cell_type": "markdown",
      "metadata": {
        "id": "xOW8X1_1axwo"
      },
      "source": [
        "----\n",
        "# Step 5: Selecting the toolkit\n",
        "\n",
        "\n",
        "\n",
        "\n"
      ]
    },
    {
      "cell_type": "code",
      "metadata": {
        "id": "7n5fz1Kq0b-z",
        "cellView": "form"
      },
      "source": [
        "# @title Video 6: Selecting the toolkit\n",
        "\n",
        "from ipywidgets import widgets\n",
        "\n",
        "out2 = widgets.Output()\n",
        "with out2:\n",
        "  from IPython.display import IFrame\n",
        "  class BiliVideo(IFrame):\n",
        "      def __init__(self, id, page=1, width=400, height=300, **kwargs):\n",
        "          self.id=id\n",
        "          src = 'https://player.bilibili.com/player.html?bvid={0}&page={1}'.format(id, page)\n",
        "          super(BiliVideo, self).__init__(src, width, height, **kwargs)\n",
        "\n",
        "  video = BiliVideo(id=\"BV1CB4y1T7Uv\", width=854, height=480, fs=1)\n",
        "  print('Video available at https://www.bilibili.com/video/{0}'.format(video.id))\n",
        "  display(video)\n",
        "\n",
        "out1 = widgets.Output()\n",
        "with out1:\n",
        "  from IPython.display import YouTubeVideo\n",
        "  video = YouTubeVideo(id=\"q5_c18Kxx0k\", width=854, height=480, fs=1, rel=0)\n",
        "  print('Video available at https://youtube.com/watch?v=' + video.id)\n",
        "  display(video)\n",
        "\n",
        "out = widgets.Tab([out1, out2])\n",
        "out.set_title(0, 'Youtube')\n",
        "out.set_title(1, 'Bilibili')\n",
        "\n",
        "display(out)"
      ],
      "execution_count": null,
      "outputs": []
    },
    {
      "cell_type": "markdown",
      "metadata": {
        "id": "T3M-yGFURRXK"
      },
      "source": [
        "Once you have completed Steps 1-4 to your satisfaction, you are now ready to model. You have a specific question, a goal in mind, and precise hypotheses expressed in mathematical language. All these components will empower you to chose an appropriate modeling approach. \n",
        "\n",
        "In selecting the right toolkit, i.e. the right mathematics, computer science, engineering, or physics, etc approaches, you should consider the following important rules:\n",
        "1. Determine the level of abstraction\n",
        "2. Select the toolkit that best represents the ingredients and hypotheses\n",
        "3. Toolkit should express all needed relationships, mechanisms and concepts\n",
        "4. Keep it as simple as possible!\n",
        "\n",
        "**Guiding questions**:\n",
        "* What is the most appropriate approach to answer your question?\n",
        "  * What level of abstraction is needed?\n",
        "  * Determine granularity / scale based on hypotheses & goals\n",
        "  * Stay as high-level as possible, but be as detailed as needed!!!\n",
        "* Select the toolkit\n",
        "  * Requires prior knowledge about flexibility / limitations of toolkit\n",
        "  * Often more than one option possible\n",
        "  * Some toolkits are more flexible, span a wider range of behaviour and/or are lumpable\n",
        "  * Also determines how the model will be solved, i.e. simulated\n",
        "    * Analytical? Numerical?\n",
        "    * E.g. spatial, temporal resolution?\n",
        "\n",
        "Viewing [modeling as a decision process](https://doi.org/10.1523/ENEURO.0352-19.2019) might help providing clarity regarding different model types, and how framing the problem and stating your goals influences the toolkit selection. Don't be afraid to pursue goals that no one else pursues; [diversity of models should be encouraged](https://nbdt.scholasticahq.com/article/16723-appreciating-the-variety-of-goals-in-computational-neuroscience) because it results in complementary model considerations. \n"
      ]
    },
    {
      "cell_type": "markdown",
      "metadata": {
        "id": "yGbjwNMazVoE"
      },
      "source": [
        "**Make sure to avoid the pitfalls!**\n",
        "<details>\n",
        "<summary>Click here for a recap on pitfalls</summary>\n",
        "\n",
        "Choosing a toolkit for the toolkit's sake (e.g. DL because it's cool to do deep learning)\n",
        "<ul>\n",
        "  <li>this will prevent you to really answer your research question and/or speak to your hypotheses</li>\n",
        "  </ul>\n",
        "\n",
        "Being at the wrong level of abstraction (see W1D1 intro)\n",
        "<ul>\n",
        "  <li>too complex toolkits will have too many parameters you can't meaningfully constrain, and/or that add needless complexity</li>\n",
        "  <li>too simple toolkits will lack means to implement the details you care about</li>\n",
        "  </ul>\n",
        "  \n",
        "Not knowing any toolkits\n",
        "<ul>\n",
        "  <li>this highlights a lack of literature review and/or background work to learn about the tools used by the field</li>\n",
        "  </ul>"
      ]
    },
    {
      "cell_type": "markdown",
      "metadata": {
        "id": "74oAwAdkbheB"
      },
      "source": [
        "----\n",
        "# Step 6: Planning / drafting the model\n",
        "\n",
        "\n",
        "\n",
        "\n",
        "\n",
        "\n"
      ]
    },
    {
      "cell_type": "code",
      "metadata": {
        "id": "kh7Su2ja0ltD",
        "cellView": "form"
      },
      "source": [
        "# @title Video 7: Drafting the modeling\n",
        "\n",
        "from ipywidgets import widgets\n",
        "\n",
        "out2 = widgets.Output()\n",
        "with out2:\n",
        "  from IPython.display import IFrame\n",
        "  class BiliVideo(IFrame):\n",
        "      def __init__(self, id, page=1, width=400, height=300, **kwargs):\n",
        "          self.id=id\n",
        "          src = 'https://player.bilibili.com/player.html?bvid={0}&page={1}'.format(id, page)\n",
        "          super(BiliVideo, self).__init__(src, width, height, **kwargs)\n",
        "\n",
        "  video = BiliVideo(id=\"BV1R44y1q7RH\", width=854, height=480, fs=1)\n",
        "  print('Video available at https://www.bilibili.com/video/{0}'.format(video.id))\n",
        "  display(video)\n",
        "\n",
        "out1 = widgets.Output()\n",
        "with out1:\n",
        "  from IPython.display import YouTubeVideo\n",
        "  video = YouTubeVideo(id=\"KrbKjzURlQA\", width=854, height=480, fs=1, rel=0)\n",
        "  print('Video available at https://youtube.com/watch?v=' + video.id)\n",
        "  display(video)\n",
        "\n",
        "out = widgets.Tab([out1, out2])\n",
        "out.set_title(0, 'Youtube')\n",
        "out.set_title(1, 'Bilibili')\n",
        "\n",
        "display(out)"
      ],
      "execution_count": null,
      "outputs": []
    },
    {
      "cell_type": "markdown",
      "metadata": {
        "id": "GeFDzbc7Rds_"
      },
      "source": [
        "Planning the model involves thinking about the general outline of the model, its components and how they might fit together. You want to draw a model diagram, make some sketches and formalize necessary equations. This step will thus outline a plan of implementation. Once you have that plan, this will hugely facilitate the actual implementation of the model in computer code. \n",
        "\n",
        "Your model will have:\n",
        "* **inputs**: the values the system has available - this can be broken down into _data_, and _parameters_ \n",
        "* **outputs**: these are the predictions our model will make that you could portentially measure (e.g. in your idealized experiment)\n",
        "* **model functions**: A set of functions that perform the hypothesized computations.\n",
        "\n",
        "You will thus need to define a set of functions that take your data and some parameters as input, can run your model, and output a prediction for a hypothetical measurment.\n",
        "\n",
        "**Guiding principles**:\n",
        "* Keep it as simple as possible!\n",
        "* Don't get lost in details\n",
        "* Draft on paper: start with a flow diagram\n",
        "  * Draw out model components (boxes)\n",
        "  * What influences what? (arrows)\n",
        "* Then consider each model box separately\n",
        "  * Draft internal workings in terms of equations\n",
        "  * This might require a lot of work…\n",
        "  * Relate box inputs to box outputs!\n",
        "  * Keep in mind that the model should include a way to relate model variables to measurements\n",
        "  * Use the question, ingredients, and hypotheses to ensure you have all required components\n",
        "\n",
        "**Goal**: Put in place all the components of the hypothesized relationships and explanations. \n"
      ]
    },
    {
      "cell_type": "markdown",
      "metadata": {
        "id": "1j4ExTJv2Cw2"
      },
      "source": [
        "**Make sure to avoid the pitfalls!**\n",
        "<details>\n",
        "<summary>Click here for a recap on pitfalls</summary>\n",
        "\n",
        "I don't need to draft the model, I have it clearly in my mind\n",
        "<ul>\n",
        "  <li>you might think you do, but experience shows you're likely missing many important aspects</li>\n",
        "  </ul>\n",
        "\n",
        "I can just make a rough draft\n",
        "<ul>\n",
        "  <li>the more detailed the draft, the easier it will be to implement the model in computer code</li>\n",
        "  <li>rough drafts tend to forget important details that you need to think about, e.g. signals needed (where do they come from?), parameters to specify (how to constrain them?), etc.</li>\n",
        "  </ul>\n",
        "\n",
        "Draft is too detailed or not detailed enough\n",
        "<ul>\n",
        "  <li>too detailed: you're writing our recursions, etc</li>\n",
        "  <li>not detailed enough: you have no idea what's inside \"boxes\"</li>\n",
        "  </ul>"
      ]
    },
    {
      "cell_type": "markdown",
      "metadata": {
        "id": "KCaxeFnfnmUe"
      },
      "source": [
        "----\n",
        "# Step 7: Implementing the model\n",
        "\n",
        "\n"
      ]
    },
    {
      "cell_type": "code",
      "metadata": {
        "id": "Cb6yLEXp0siL",
        "cellView": "form"
      },
      "source": [
        "# @title Video 8: Implementing the modeling\n",
        "\n",
        "from ipywidgets import widgets\n",
        "\n",
        "out2 = widgets.Output()\n",
        "with out2:\n",
        "  from IPython.display import IFrame\n",
        "  class BiliVideo(IFrame):\n",
        "      def __init__(self, id, page=1, width=400, height=300, **kwargs):\n",
        "          self.id=id\n",
        "          src = 'https://player.bilibili.com/player.html?bvid={0}&page={1}'.format(id, page)\n",
        "          super(BiliVideo, self).__init__(src, width, height, **kwargs)\n",
        "\n",
        "  video = BiliVideo(id=\"BV1nX4y1w7uu\", width=854, height=480, fs=1)\n",
        "  print('Video available at https://www.bilibili.com/video/{0}'.format(video.id))\n",
        "  display(video)\n",
        "\n",
        "out1 = widgets.Output()\n",
        "with out1:\n",
        "  from IPython.display import YouTubeVideo\n",
        "  video = YouTubeVideo(id=\"qxU5dJz5hG0\", width=854, height=480, fs=1, rel=0)\n",
        "  print('Video available at https://youtube.com/watch?v=' + video.id)\n",
        "  display(video)\n",
        "\n",
        "out = widgets.Tab([out1, out2])\n",
        "out.set_title(0, 'Youtube')\n",
        "out.set_title(1, 'Bilibili')\n",
        "\n",
        "display(out)"
      ],
      "execution_count": null,
      "outputs": []
    },
    {
      "cell_type": "markdown",
      "metadata": {
        "id": "_baPETo2Qrbf"
      },
      "source": [
        "This is the step where you finally start writing code! Separately implement each box, icon, or flow relationship identified in Step 6. **Test** each of those model components separately! (This is called a *unit test*). Unit testing ensures that each model components works are expected/planned. \n",
        "\n",
        "**Guiding principles**:\n",
        "* Start with the easiest possible implementation\n",
        "  * Test functionality of model after each step before adding new model components (unit tests)\n",
        "  * Simple models can sometimes accomplish surprisingly much…\n",
        "* Add / remove different model elements\n",
        "  * Gain insight into working principles\n",
        "  * What’s crucial, what isn’t?\n",
        "  * Every component of the model must be crucial!\n",
        "* Make use of tools to evaluate model behavior\n",
        "  * E.g. graphical analysis, changing parameter sets, stability / equilibrium analyses, derive general solutions, asymptotes, periodic behaviour, etc.\n",
        "\n",
        "**Goal**: Understand how each model component works in isolation and what the resulting overall model behavior is."
      ]
    },
    {
      "cell_type": "markdown",
      "metadata": {
        "id": "vkqNoh5A2uN-"
      },
      "source": [
        "**Make sure to avoid the pitfalls!**\n",
        "<details>\n",
        "<summary>Click here for a recap on pitfalls</summary>\n",
        "\n",
        "\n",
        "Building the whole model at once without testing components\n",
        "<ul>\n",
        "  <li>you will make mistakes. Debug model components as you go!</li>\n",
        "  <li>debugging a complex model is close to impossible. Is it not woring because individual components are not working? Or do components not \"play nice\" together?</li>\n",
        "  </ul>\n",
        "\n",
        "Not testing if individual components are important\n",
        "<ul>\n",
        "  <li>It's easy to add *useless* components to a model. They will be distracting for you and for readers</li>\n",
        "  </ul>\n",
        "\n",
        "Not testing model functionality step by step as you  build up the model\n",
        "<ul>\n",
        "  <li>You'd be surprised by what basic components often can alrealy achieve... E.g. our intuition is really bad when it comes to dynamical systems</li>\n",
        "  </ul>\n",
        "\n",
        "Not using standard model testing tools\n",
        "<ul>\n",
        "  <li>each field has developped specific mathematical tools to test model behaviors. You'll be expected to show such evaluations. Make use of them early on!</li>\n",
        "  </ul>"
      ]
    },
    {
      "cell_type": "markdown",
      "metadata": {
        "id": "Y4FABsvdpUAA"
      },
      "source": [
        "----\n",
        "# Step 8: Completing the model\n",
        "\n",
        "\n"
      ]
    },
    {
      "cell_type": "code",
      "metadata": {
        "id": "bGj6FUxQ00nW",
        "cellView": "form"
      },
      "source": [
        "# @title Video 9: Completing the modeling\n",
        "\n",
        "from ipywidgets import widgets\n",
        "\n",
        "out2 = widgets.Output()\n",
        "with out2:\n",
        "  from IPython.display import IFrame\n",
        "  class BiliVideo(IFrame):\n",
        "      def __init__(self, id, page=1, width=400, height=300, **kwargs):\n",
        "          self.id=id\n",
        "          src = 'https://player.bilibili.com/player.html?bvid={0}&page={1}'.format(id, page)\n",
        "          super(BiliVideo, self).__init__(src, width, height, **kwargs)\n",
        "\n",
        "  video = BiliVideo(id=\"BV1f44y1q7wm\", width=854, height=480, fs=1)\n",
        "  print('Video available at https://www.bilibili.com/video/{0}'.format(video.id))\n",
        "  display(video)\n",
        "\n",
        "out1 = widgets.Output()\n",
        "with out1:\n",
        "  from IPython.display import YouTubeVideo\n",
        "  video = YouTubeVideo(id=\"ul4loI_JUW0\", width=854, height=480, fs=1, rel=0)\n",
        "  print('Video available at https://youtube.com/watch?v=' + video.id)\n",
        "  display(video)\n",
        "\n",
        "out = widgets.Tab([out1, out2])\n",
        "out.set_title(0, 'Youtube')\n",
        "out.set_title(1, 'Bilibili')\n",
        "\n",
        "display(out)"
      ],
      "execution_count": null,
      "outputs": []
    },
    {
      "cell_type": "markdown",
      "metadata": {
        "id": "Q5BbrmjvRsXT"
      },
      "source": [
        "Determing what you're done modeling is a hard question. Referring back to your original goals will be crucial. This is also where a precise question and specific hypotheses expressed in mathematical relationships come in handy. \n",
        "\n",
        "**Note**: you can always keep improving our model, but at some point you need to decide that it is finished. Once you have a model that displays the properties of a system you are interested in, it should be possible to say something about your hypothesis and question. Keeping the model simple makes it easier to understand the phenomenon and answer the research question. \n",
        "\n",
        "**Guiding principles**:\n",
        "* Determine a criterion\n",
        "* Refer to steps 1 (goals) and 4 (hypotheses)\n",
        "  * Does the model answer the original question sufficiently?\n",
        "  * Does the model satisfy your own evaluation criteria?\n",
        "  * Does it speak to the hypotheses?\n",
        "* Can the model produce the parametric relationships hypothesized in step 4?\n",
        "\n",
        "Make sure the model can speak to the hypothesis. Eliminate all the parameters that do not speak to the hypothesis.\n",
        "\n",
        "**Goal**: Determine if you can answer your original research question and related hypotheses to your satisfaction. If the original goal has not been met you need to go back to the drawing board!"
      ]
    },
    {
      "cell_type": "markdown",
      "metadata": {
        "id": "kWXaJ9hp3x7_"
      },
      "source": [
        "**Make sure to avoid the pitfalls!**\n",
        "<details>\n",
        "<summary>Click here for a recap on pitfalls</summary>\n",
        "\n",
        "Forgetting to specify or use a criterion for model completion (in Step 1!)\n",
        "<ul>\n",
        "  <li>This is crucial for you not to get lost in an endless loop of model improvements</li>\n",
        "  </ul>\n",
        "\n",
        "Thinking the model can answer your question / hypotheses without checking\n",
        "<ul>\n",
        "  <li>always check if all questions and hypotheses can be answered / tested</li>\n",
        "  <li>you will fail on your own benchmarks if you neglect this</li>\n",
        "  </ul>\n",
        "\n",
        "You think you should further improve the model\n",
        "<ul>\n",
        "  <li>This is only warranted if your model cannot answer your hypotheses / questions and/or meet your goals</li>\n",
        "  <li>remember: you can always improve a model, but you want to focus on the question / hypotheses / goals at hand!</li>\n",
        "  </ul>"
      ]
    },
    {
      "cell_type": "markdown",
      "metadata": {
        "id": "r2LGmCJ5rU0J"
      },
      "source": [
        "----\n",
        "# Step 9: testing and evaluating the model\n",
        "\n",
        "\n"
      ]
    },
    {
      "cell_type": "code",
      "metadata": {
        "id": "n31wXo5K06sx",
        "cellView": "form"
      },
      "source": [
        "# @title Video 10: Evaluating the modeling\n",
        "\n",
        "from ipywidgets import widgets\n",
        "\n",
        "out2 = widgets.Output()\n",
        "with out2:\n",
        "  from IPython.display import IFrame\n",
        "  class BiliVideo(IFrame):\n",
        "      def __init__(self, id, page=1, width=400, height=300, **kwargs):\n",
        "          self.id=id\n",
        "          src = 'https://player.bilibili.com/player.html?bvid={0}&page={1}'.format(id, page)\n",
        "          super(BiliVideo, self).__init__(src, width, height, **kwargs)\n",
        "\n",
        "  video = BiliVideo(id=\"BV1Xv411J7Ls\", width=854, height=480, fs=1)\n",
        "  print('Video available at https://www.bilibili.com/video/{0}'.format(video.id))\n",
        "  display(video)\n",
        "\n",
        "out1 = widgets.Output()\n",
        "with out1:\n",
        "  from IPython.display import YouTubeVideo\n",
        "  video = YouTubeVideo(id=\"X-R0hjID93M\", width=854, height=480, fs=1, rel=0)\n",
        "  print('Video available at https://youtube.com/watch?v=' + video.id)\n",
        "  display(video)\n",
        "\n",
        "out = widgets.Tab([out1, out2])\n",
        "out.set_title(0, 'Youtube')\n",
        "out.set_title(1, 'Bilibili')\n",
        "\n",
        "display(out)"
      ],
      "execution_count": null,
      "outputs": []
    },
    {
      "cell_type": "markdown",
      "metadata": {
        "id": "loXnsrs5R45q"
      },
      "source": [
        "Every models needs to be evaluated quantitatively. There are many ways to achieve that and not every model should be evaluated in the same way. Ultimately, model testing depends on what your goals are and what you want to get out of the model, e.g. qualitative vs quantitative fit to data. \n",
        "\n",
        "**Guiding principles**:\n",
        "* By definition a model is always wrong!\n",
        "  * Determine upfront what is \"right enough\" for you\n",
        "* Ensure the explicit interfacing with current or future data\n",
        "  * model answers the questions/hypotheses/goals with a sufficient amount of detail\n",
        "* Quantitative evaluation methods (see also W1D3)\n",
        "  * Statistics:  how well does the model fit data?\n",
        "  * Predictability: does the model make testable predictions?\n",
        "  * Breadth: how general is the model?\n",
        "* Comparison against other models (BIC, AIC, etc.)\n",
        "  * This is often not easy to do in a fair way… Be nice and respectful to other models.\n",
        "* Does the model explain previous data? (this is called the subsumption principle in physics!)\n",
        "* A good model should provide insight that could not have been gained or would have been hard to uncover without the model\n",
        "* Remember, a model is a working hypotheses; a good model should be falsifiable!\n",
        "\n",
        "**Goal**: You want to demonstrate that your model works well. You also want to make sure you can interpret the model's meaning and findings. I.e. what did the model allow you to learn that was not apparent from the data alone?\n",
        "\n",
        "\n"
      ]
    },
    {
      "cell_type": "markdown",
      "metadata": {
        "id": "IoHLecAO4Zk6"
      },
      "source": [
        "**Make sure to avoid the pitfalls!**\n",
        "<details>\n",
        "<summary>Click here for a recap on pitfalls</summary>\n",
        "\n",
        "\n",
        "Thinking your model is bad\n",
        "<ul>\n",
        "  <li>does it answer the question / hypotheses and meet your goals? Does it provide the leverl of explanation and insights you set out to gain? <strong>Then it's probably good enough!</strong></li>\n",
        "  </ul>\n",
        "\n",
        "Not providing any quantitative evaluation\n",
        "<ul>\n",
        "  <li>Just do it, it's something that's expected</li>\n",
        "  </ul>\n",
        "\n",
        "Not thinking deeply about your model and what you can learn from it\n",
        "<ul>\n",
        "  <li>this is likely the most important pitfall. You want to learn as much as you can from a model, especially about aspects that you cannot gain from the data alone</li>\n",
        "  <li>model interpretation can open new avenues for research and experimentation. That's part of why we want to model in the first place! <strong>A model is a hypothesis!</strong></li>\n",
        "  </ul>"
      ]
    },
    {
      "cell_type": "markdown",
      "metadata": {
        "id": "68SM-up8syeJ"
      },
      "source": [
        "----\n",
        "# Step 10: publishing the model\n",
        "\n"
      ]
    },
    {
      "cell_type": "code",
      "metadata": {
        "id": "ONeJT3LC1Wss",
        "cellView": "form"
      },
      "source": [
        "# @title Video 11: Publishing the modeling\n",
        "\n",
        "from ipywidgets import widgets\n",
        "\n",
        "out2 = widgets.Output()\n",
        "with out2:\n",
        "  from IPython.display import IFrame\n",
        "  class BiliVideo(IFrame):\n",
        "      def __init__(self, id, page=1, width=400, height=300, **kwargs):\n",
        "          self.id=id\n",
        "          src = 'https://player.bilibili.com/player.html?bvid={0}&page={1}'.format(id, page)\n",
        "          super(BiliVideo, self).__init__(src, width, height, **kwargs)\n",
        "\n",
        "  video = BiliVideo(id=\"BV11b4y1r7Eu\", width=854, height=480, fs=1)\n",
        "  print('Video available at https://www.bilibili.com/video/{0}'.format(video.id))\n",
        "  display(video)\n",
        "\n",
        "out1 = widgets.Output()\n",
        "with out1:\n",
        "  from IPython.display import YouTubeVideo\n",
        "  video = YouTubeVideo(id=\"z7QIdREXmf8\", width=854, height=480, fs=1, rel=0)\n",
        "  print('Video available at https://youtube.com/watch?v=' + video.id)\n",
        "  display(video)\n",
        "\n",
        "out = widgets.Tab([out1, out2])\n",
        "out.set_title(0, 'Youtube')\n",
        "out.set_title(1, 'Bilibili')\n",
        "\n",
        "display(out)"
      ],
      "execution_count": null,
      "outputs": []
    },
    {
      "cell_type": "markdown",
      "metadata": {
        "id": "9ojBdwreSXiN"
      },
      "source": [
        "**Guiding principles**:\n",
        "* Know your target audience!\n",
        "  * How much math details? How much explanation of math?\n",
        "  * What’s the message?\n",
        "  * Should be experimentalists in most cases!!!\n",
        "    * Provide intuitive explanations, analogies, etc.\n",
        "    * Famous researcher: “a good modeller knows how to relate to experimentalists”\n",
        "* Clearly describe what the goals, hypotheses and performance criteria were\n",
        "  * Prevents from false expectation of what the model should be doing\n",
        "* A graphical representation is worth 1000 words (or more)\n",
        "* Show model simulations in parallel to data\n",
        "  * Much more convincing!\n",
        "* Publish enough implementation details\n",
        "  * A good model has to be reproducible! \n",
        "\n",
        "**Goal**: Make sure your model is well received **AND USED** by the community. In order for our model to impact the field, it needs to be accepted by our peers, and order for that to happen it matters how the model is published."
      ]
    },
    {
      "cell_type": "markdown",
      "metadata": {
        "id": "rdRrgMOE540B"
      },
      "source": [
        "**Make sure to avoid the pitfalls!**\n",
        "<details>\n",
        "<summary>Click here for a recap on pitfalls</summary>\n",
        "\n",
        "\n",
        "not thinking of your target audience\n",
        "<ul>\n",
        "  <li>no one will understand you if you write for yourself because only you know what you know...</li>\n",
        "  </ul>\n",
        "\n",
        "forgetting about Steps 1-4\n",
        "<ul>\n",
        "  <li>clearly spelling out steps 1-4 allows the reader to appreciate your goals and sets limits on model criticism\n",
        "    <ul>\n",
        "      <li>no one can tell you your model didn't do something you never set out to do</li>\n",
        "      <li>prevents unreasonable claims / rejection of paper</li>\n",
        "  </ul>\n",
        "</ul>\n",
        "\n",
        "thinking you don't need figures to explain your model\n",
        "<ul>\n",
        "  <li>your model draft is a great starting point!</li>\n",
        "  <li>make figures that provide intuition about model behavior (just like you would create figures to provide intuition about expeimental data)</li>\n",
        "  </ul>\n",
        "\n",
        "my code is too mesy to be published\n",
        "<ul>\n",
        "  <li>not an option (many journal now rightfully require it)</li>\n",
        "  <li>code cleanly right from the start</li>\n",
        "    <ul>\n",
        "      <li>model drafting should help with that</li>\n",
        "      <li>comment your code! Then comment more...</li>\n",
        "  </ul>\n",
        "</ul>"
      ]
    },
    {
      "cell_type": "markdown",
      "metadata": {
        "id": "Mu1w0Ze01SSS"
      },
      "source": [
        "### Writing the abstract of a modeling paper\n",
        "Abstracts are very stereotyped pieces of writing that contain highly condensed information. To write a summary (= abstract) of your modeling, you can use these questions as a guide: \n",
        "* **What is the phenomena**?  Here summarize the part of the phenomena which your modeling addresses.\n",
        "* **What is the key scientific question?**:  Clearly articulate the question which your modeling tries to answer.\n",
        "* **What was our hypothesis?**:  Explain the key relationships which we relied on to simulate the phenomena.\n",
        "* **How did your modeling work?** Give an overview of the model, it's main components, and how the modeling works.  ''Here we ... ''\n",
        "* **What did you find? Did the modeling work?** Explain the key outcomes of your modeling evaluation. \n",
        "* **What can you conclude?** Conclude as much as you can _with reference to the hypothesis_, within the limits of the modeling.  \n",
        "* **What are the limitations and future directions?** What is left to be learned? Briefly argue the plausibility of the approach and/or what you think is essential that may have been left out.\n",
        "\n",
        "\n",
        "**Instructions**: write down your answer to each of those questions (1-2 sentences each, max!). When you're done, stick the sentences together... Now you have an abstract!\n",
        "\n",
        "### Guidance for paper writing\n",
        "There are good guidelines for structuring and writing an effective paper (e.g., [Mensh & Kording, 2017](https://doi.org/10.1371/journal.pcbi.1005619)), all of which apply to papers about models. There are some extra considerations when publishing a model. In general, you should explain each of the steps in the paper:\n",
        "\n",
        "**Introduction:** Steps 1 & 2 (maybe 3)\n",
        "\n",
        "**Methods:** Steps 3-7, 9\n",
        "\n",
        "**Results:** Steps 8 & 9, going back to 1, 2 & 4\n",
        "\n",
        "Here are some great materials to help you with paper writing:\n",
        "* [Ten Simple Rules for Better Figures](https://journals.plos.org/ploscompbiol/article?id=10.1371/journal.pcbi.1003833)\n",
        "* [How to Write Strong and Effective Figure Legends](https://wordvice.com/how-to-write-effective-figure-titles-and-legends/)\n",
        "* [How to Create a Consistent Writing Schedule: 10 Tips for Writers](https://www.masterclass.com/articles/how-to-create-a-consistent-writing-schedule)\n",
        "\n",
        "The audience for all of this should be experimentalists, as they are the ones who can test predictions made by your model and collect new data. In this way your models can impact future experiments, and future data can then be modeled (see modeling process schematic below). Remember your audience - it is _always_ hard to clearly convey the main points of your work to others, especially if your audience doesn't necessarily create computational models themselves.\n",
        "\n",
        "In addition, you should provide a visualization of the model, and upload the code implementing the model and the data it was trained and tested on to a repository (e.g. GitHub and OSF).\n",
        "\n",
        "### Suggestion\n",
        "\n",
        "For every modeling project, a very good exercise is to _**first**_ write a short, 100-word abstract of the project plan and expected impact. This forces focussing on the main points: describing the relevance, question, model, answer and what it all means very succinctly. This allows you to decide to do this project or not **before you commit time writing code for no good purpose**. Notice that this is really what we've walked you through carefully in this guide! 😀\n"
      ]
    },
    {
      "cell_type": "markdown",
      "metadata": {
        "id": "kjpcyWGKysKn"
      },
      "source": [
        "---\n",
        "# Reading\n",
        "\n",
        "Blohm G, Kording KP, Schrater PR (2020). _A How-to-Model Guide for Neuroscience_ eNeuro, 7(1). https://doi.org/10.1523/ENEURO.0352-19.2019 \n",
        "\n",
        "Mensh B, Kording K (2017). _Ten simple rules for structuring papers._ PLOS Comput Biol 13(9): e1005619. https://doi.org/10.1371/journal.pcbi.1005619\n"
      ]
    }
  ]
}
