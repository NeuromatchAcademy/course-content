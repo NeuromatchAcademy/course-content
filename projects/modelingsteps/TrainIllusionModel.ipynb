{
  "nbformat": 4,
  "nbformat_minor": 0,
  "metadata": {
    "colab": {
      "name": "TrainIllusionModel.ipynb",
      "provenance": [],
      "collapsed_sections": [],
      "toc_visible": true,
      "include_colab_link": true
    },
    "kernelspec": {
      "name": "python3",
      "display_name": "Python 3"
    },
    "language_info": {
      "name": "python"
    }
  },
  "cells": [
    {
      "cell_type": "markdown",
      "metadata": {
        "id": "view-in-github",
        "colab_type": "text"
      },
      "source": [
        "<a href=\"https://colab.research.google.com/github/NeuromatchAcademy/course-content/blob/master/projects/modelingsteps/TrainIllusionModel.ipynb\" target=\"_parent\"><img src=\"https://colab.research.google.com/assets/colab-badge.svg\" alt=\"Open In Colab\"/></a>"
      ]
    },
    {
      "cell_type": "markdown",
      "metadata": {
        "id": "YE-QeGkBnHaR"
      },
      "source": [
        "# Example Model Project: the Train Illusion\n",
        "Marius t'Hart, Megan Peters, Paul Schrater, Gunnar Blohm\n",
        "\n",
        "**Disclaimer**:  this is a \"toy\" model used to demonstrate the [10 step procedure of how-to-model](https://doi.org/10.1523/ENEURO.0352-19.2019). It is not meant to be state of the art research."
      ]
    },
    {
      "cell_type": "markdown",
      "metadata": {
        "id": "HWMBkDnCXN9T"
      },
      "source": [
        "**Our 2021 Sponsors, including Presenting Sponsor Facebook Reality Labs**\n",
        "\n",
        "<p align='center'><img src='https://github.com/NeuromatchAcademy/widgets/blob/master/sponsors.png?raw=True'/></p>"
      ]
    },
    {
      "cell_type": "markdown",
      "metadata": {
        "id": "N5PrCmofnqAj"
      },
      "source": [
        "----\n",
        "# Phenomenon\n",
        "*Part of Steps 1-2*\n",
        "\n",
        "The train illusion occurs when sitting on a train and viewing another train outside the window. Suddenly, the other train *seems* to move, i.e. you experience visual motion of the other train relative to your train. But which train is actually moving?\n",
        "\n",
        "Often people have the wrong percept. In particular, they think their own train might be moving when it's the other train that moves; or vice versa. The illusion is usually resolved once you gain vision of the surroundings that lets you disambiguate the relative motion; or if you experience strong vibrations indicating that it is indeed your own train that is in motion."
      ]
    },
    {
      "cell_type": "markdown",
      "metadata": {
        "id": "FeL434zunx33"
      },
      "source": [
        "----\n",
        "# Question\n",
        "\n",
        "*Part of Step 1*\n",
        "\n",
        "We asked the following (arbitrary) question for our demo project: \"How do noisy vestibular estimates of motion lead to illusory percepts of self motion?\""
      ]
    },
    {
      "cell_type": "markdown",
      "metadata": {
        "id": "BMxKV07FEuiF"
      },
      "source": [
        "----\n",
        "# Background\n",
        "*Part of Step 2*\n",
        "\n",
        "You have learned all about the vestibular system in the Intro video. This is also where you would do a literature search to learn more about what's known about self-motion perception and vestibular signals. You would also want to examine any attempts to model self-motion, perceptual decision making and vestibular processing. "
      ]
    },
    {
      "cell_type": "markdown",
      "metadata": {
        "id": "JsV4X-Zmn3zE"
      },
      "source": [
        "----\n",
        "# Ingredients\n",
        "\n",
        "*Part of step 3*\n",
        "\n",
        "We determined that we probably needed the following ingredients for our model:\n",
        "* Vestibular input: $v(t)$\n",
        "* Binary decision output: $d$ - time dependent?\n",
        "* Decision threshold: $\\theta$\n",
        "* A filter (maybe running average?): $f$\n",
        "* An integration mechanism to get from vestibular acceleration to sensed velocity: $\\int$"
      ]
    },
    {
      "cell_type": "markdown",
      "metadata": {
        "id": "45YKUAi8n0CQ"
      },
      "source": [
        "----\n",
        "# Hypotheses\n",
        "\n",
        "*Part of step 4*\n",
        "\n",
        "Our main hypothesis is that the strength of the illusion has a linear relationship to the amplitude of vestibular noise. \n",
        "\n",
        "Mathematically, this would write as $S = k \\cdot N$, where $S$ is the illusion strength and $N$ is the noise level, and $k$ is a free parameter. \n",
        ">we could simply use the frequency of occurance across repetitions as the \"strength of the illusion\"\n",
        "\n",
        "We would get the noise as the standard deviation of $v(t)$, i.e. $N=\\mathbf{E}[v(t)^2]$, where $\\mathbf{E}$ stands for the expected value.\n",
        "\n",
        "Do we need to take the average across time points?\n",
        "> doesn't really matter because we have the generative process, so we can just use the $\\sigma$ that we define"
      ]
    },
    {
      "cell_type": "markdown",
      "metadata": {
        "id": "gFz4Vbgm29zx"
      },
      "source": [
        "----\n",
        "# Selected toolkit\n",
        "\n",
        "*Part of step 5*\n",
        "\n",
        "We chose to use a [Drift-Diffusion Model (DDM)](https://www.ncbi.nlm.nih.gov/pmc/articles/PMC2474742/) because it is a well-established framework that allows us to model decision making in the case of 2 alternative choices (here: self-motion vs. other train motion).\n",
        "\n",
        "For our purposes simplest equation looks something like this:  \n",
        "\\begin{align}\n",
        "\\dot e = \\frac{de}{dt}= -c \\cdot e + v\n",
        "\\end{align},\n",
        " where $e$ is the accumulated evidence and $v$ is our vestibular input already containing the noise (so we don't need to add more noise?). $c$ is the leakage constant, i.e. $c=0$ means perfect integration; $c=1$ means no integration (perfect leakage)."
      ]
    },
    {
      "cell_type": "markdown",
      "metadata": {
        "id": "xjlXyGOOn78g"
      },
      "source": [
        "----\n",
        "# Model draft\n",
        "\n",
        "*Part of step 6*\n",
        "\n",
        "Brainstorming on the whiteboard, we came up with this...\n",
        "\n",
        "![picture](https://github.com/NeuromatchAcademy/course-content/blob/master/tutorials/static/modeling_step6.png?raw=1)"
      ]
    },
    {
      "cell_type": "markdown",
      "metadata": {
        "id": "xstVhBgHxxuu"
      },
      "source": [
        "----\n",
        "# Model implementation\n",
        "\n",
        "*Part of step 7*\n",
        "\n",
        "We need at least 3 functions:\n",
        "1. vestibular signal generator\n",
        "2. integrator (or drift-diffusion mechanism)\n",
        "3. decision mechanism (threshold comparison)\n",
        "\n",
        "**Note**: we did not add a filter (yet). We're not sure if we need one...\n",
        "\n",
        "So let's go step by step... first we need to get set up..."
      ]
    },
    {
      "cell_type": "code",
      "metadata": {
        "id": "UObhG2gSZYxa"
      },
      "source": [
        "import numpy as np\n",
        "import matplotlib.pyplot as plt\n",
        "from scipy.stats import norm\n",
        "!pip install pandas --quiet\n",
        "plt.style.use('dark_background')"
      ],
      "execution_count": null,
      "outputs": []
    },
    {
      "cell_type": "markdown",
      "metadata": {
        "id": "FrwlQ9rSbvPt"
      },
      "source": [
        "### 1. Vestibular signal generator"
      ]
    },
    {
      "cell_type": "code",
      "metadata": {
        "id": "ytyT2iQ8IAij"
      },
      "source": [
        "def vestibular_signal(sig, mov):\n",
        "  \"\"\"\n",
        "  Computes a vestibular signal that corresponds to the acceleration of the \n",
        "  train with different amplitudes of noise\n",
        "  Args:\n",
        "    sig: scalar SD of noise\n",
        "    mov: 0 means no self-motion; 1 means self-motion (or scaling or motion signal)\n",
        "  Returns: vector array of vestibular signal v\n",
        "  \"\"\"\n",
        "  # create white noise series for 10s with 1ms resolution\n",
        "  x = np.linspace(-7, 14, 1001)\n",
        "  z = 1/(1 + np.exp(-x))\n",
        "  noise = norm.rvs(size=1000)\n",
        "  v = sig*noise + mov*np.diff(z)/0.001\n",
        "\n",
        "  return v"
      ],
      "execution_count": null,
      "outputs": []
    },
    {
      "cell_type": "markdown",
      "metadata": {
        "id": "nAKH40IBLWGh"
      },
      "source": [
        "Let's see if that works... (*unit test*)"
      ]
    },
    {
      "cell_type": "code",
      "metadata": {
        "id": "kEwL1ElQLg7g"
      },
      "source": [
        "v = vestibular_signal(1,1)\n",
        "\n",
        "# plot signal\n",
        "t = np.linspace(0, 10, 1000)\n",
        "plt.plot(t,v)\n",
        "plt.xlabel(\"time (s)\")\n",
        "plt.ylabel(\"vestibular signal (a.u.)\")"
      ],
      "execution_count": null,
      "outputs": []
    },
    {
      "cell_type": "markdown",
      "metadata": {
        "id": "MRkEyoYhMW9Y"
      },
      "source": [
        "### 2. integrator (DDM mechanism)"
      ]
    },
    {
      "cell_type": "code",
      "metadata": {
        "id": "RMRCo4oDMdEP"
      },
      "source": [
        "def ddm(v, c):\n",
        "  \"\"\"\n",
        "  Leaky integration of vestibular signal\n",
        "  Args:\n",
        "    v: array of vestibular signal\n",
        "    c: leakage constant\n",
        "  Outputs: time series of integrated vestibular signal (with leakage)\n",
        "    = evidence e\n",
        "  \"\"\"\n",
        "  e = np.random.normal(0, 0.1)\n",
        "  E = []\n",
        "  for i in range(len(v)):\n",
        "    e += -c*e + v[i]*0.001\n",
        "    E.append(e)\n",
        "  return E\n",
        "    "
      ],
      "execution_count": null,
      "outputs": []
    },
    {
      "cell_type": "markdown",
      "metadata": {
        "id": "0BmQ7w1y8dpq"
      },
      "source": [
        "Let's test the DDM function... (*unit test*)"
      ]
    },
    {
      "cell_type": "code",
      "metadata": {
        "id": "CDffnOal8hxk"
      },
      "source": [
        "e = ddm(v,c=0.001)\n",
        "\n",
        "# plot result\n",
        "plt.plot(t,e)\n",
        "plt.xlabel(\"time (s)\")\n",
        "plt.ylabel(\"integrated evidence\")"
      ],
      "execution_count": null,
      "outputs": []
    },
    {
      "cell_type": "markdown",
      "metadata": {
        "id": "yyFuk1ncP822"
      },
      "source": [
        "### 3. thresholding (decision mechanism)"
      ]
    },
    {
      "cell_type": "code",
      "metadata": {
        "id": "mv5dHazaQE1V"
      },
      "source": [
        "def threshold(e, thr):\n",
        "  \"\"\"\n",
        "  Thresholding of motion evidence\n",
        "  Args:\n",
        "    motion evidence: e (array)\n",
        "    threshold: thr\n",
        "  Output: decision d if threshold was reached\n",
        "  \"\"\"\n",
        "  d = any(np.array(e) > thr)*1\n",
        "  return d\n"
      ],
      "execution_count": null,
      "outputs": []
    },
    {
      "cell_type": "markdown",
      "metadata": {
        "id": "yCOuBhHQMwBA"
      },
      "source": [
        "Now let's test this function... (*unit test*)"
      ]
    },
    {
      "cell_type": "code",
      "metadata": {
        "id": "ijvJVNx7M0yZ"
      },
      "source": [
        "d = threshold(e, .6)\n",
        "d"
      ],
      "execution_count": null,
      "outputs": []
    },
    {
      "cell_type": "markdown",
      "metadata": {
        "id": "kHMNBa_3QFdK"
      },
      "source": [
        "## Assembling the model"
      ]
    },
    {
      "cell_type": "code",
      "metadata": {
        "id": "_IG35pVoQJeh"
      },
      "source": [
        "def run_model(sig,c,thr,mov):\n",
        "  \"\"\"\n",
        "  runs the full model to simulate self-motion decision, e.g. for train illusion\n",
        "  Args:\n",
        "    sig: SD of vestibular noise\n",
        "    c: leakage constant\n",
        "    thr: decision threshold\n",
        "    mov: self-motion? ) no selfmotion; 1 self-motion\n",
        "  Output: decision d (0: no self-motion; 1: self-motion)\n",
        "  \"\"\"\n",
        "  v = vestibular_signal(sig, mov)\n",
        "  e = ddm(v,c)\n",
        "  d = threshold(e, thr)\n",
        "  return d"
      ],
      "execution_count": null,
      "outputs": []
    },
    {
      "cell_type": "markdown",
      "metadata": {
        "id": "6ssWNa6YQLbz"
      },
      "source": [
        "Let's run the model and see if it works..."
      ]
    },
    {
      "cell_type": "code",
      "metadata": {
        "id": "dJRXXUxLQRjo"
      },
      "source": [
        "d = run_model(200,0.001,0.8,1)\n",
        "d"
      ],
      "execution_count": null,
      "outputs": []
    },
    {
      "cell_type": "markdown",
      "metadata": {
        "id": "jOaEzdHNx1zi"
      },
      "source": [
        "----\n",
        "# Model completion\n",
        "\n",
        "*Part of step 8*\n",
        "\n",
        "So the model seems to work. Running different parameters gives us different results. Are we done?\n",
        "* **can we answer our question**: yes, in our model the illusion arises because integrating very noisy vestibular signals representing motion evidence sometimes accumulate to a decision threshold and sometimes do not reach that threshold.\n",
        "* **can we speak to our hypothesis**: yes, we can now simulate different trials with different noise levels (and leakage and thrshold parameters) and evaluate the hypothesized linear relationship between  vestibular noise and how often our perceptual system is fooled...\n",
        "* **does the model reach our goals**: yes, we wanted to generate a mechanistic model to be able to make some specific predictions that can then be tested experimentally later...\n",
        "\n"
      ]
    },
    {
      "cell_type": "markdown",
      "metadata": {
        "id": "IInlZshbx4sz"
      },
      "source": [
        "----\n",
        "# Model evaluation & testing\n",
        "\n",
        "*Part of step 9*\n",
        "\n",
        "Ok, so we still need to actually evaluate and test our model performance. Since this is a conceptual model and we don't have actual data (yet), we will evaluate how our model behaves as a function of the 3 parameters. If we had data with different conditions, we could try to fit the model to the data and evaluate the goodness of fit, etc... If other alterative models existed, we could evaluate our model against those alternatives too. \n",
        "\n",
        "So let's run out model in different parameter regimes and analyze the result to get some insight into the model performance"
      ]
    },
    {
      "cell_type": "code",
      "metadata": {
        "id": "2phPAQhV3ACu"
      },
      "source": [
        "import itertools # to automatically generat possible combinations of parameters\n",
        "\n",
        "# define parameter list\n",
        "params = {\n",
        "    'sig': np.linspace(1,21,5)**2,\n",
        "    'c': np.exp(np.linspace(-10,-1,5)),\n",
        "    'thr': np.linspace(0,2,5),\n",
        "    'mov': np.linspace(0,1,2),\n",
        "}\n",
        "\n",
        "# run combination of parameters\n",
        "keys = list(params)\n",
        "D = []\n",
        "for i in range(0,100):\n",
        "  for values in itertools.product(*map(params.get, keys)):\n",
        "      d = run_model(**dict(zip(keys, values)))\n",
        "      temp = list(values)\n",
        "      temp.append(d)\n",
        "      D.append(temp)"
      ],
      "execution_count": null,
      "outputs": []
    },
    {
      "cell_type": "markdown",
      "metadata": {
        "id": "Iv8KcjBgStD6"
      },
      "source": [
        "Now let's explicitly test our hypothsis for different parameter combinations..."
      ]
    },
    {
      "cell_type": "code",
      "metadata": {
        "id": "d8A8M_KKh2aw"
      },
      "source": [
        "# want data frames:\n",
        "import pandas as pd\n",
        "df = pd.DataFrame(D, columns = ['Sig','c','Thr','Mov','Decisions'])\n",
        "# multi panel layout:\n",
        "axs = plt.figure(figsize=(12,12), constrained_layout=True).subplots(5, 5)\n",
        "# plot for movement absent/present\n",
        "Mov_s = np.unique(df['Mov'])\n",
        "# plot for leakage parameter & threshold values:\n",
        "c_s   = np.unique(df['c'])\n",
        "Thr_s   = np.unique(df['Thr'])\n",
        "# plot for data for both movement condition for each leakage/threshold combination\n",
        "Sig_s   = np.unique(df['Sig'])\n",
        "for Thr_n in range(len(Thr_s)):\n",
        "  for c_n in range(len(c_s)):\n",
        "    subdf0 = df[(df.Mov == 0) & (df.c == c_s[c_n]) & (df.Thr == Thr_s[Thr_n])].groupby(['Sig'])['Decisions'].mean()\n",
        "    subdf1 = df[(df.Mov == 1) & (df.c == c_s[c_n]) & (df.Thr == Thr_s[Thr_n])].groupby(['Sig'])['Decisions'].mean()\n",
        "    im0 = axs[Thr_n, c_n].plot(Sig_s, subdf0, label=\"no motion\")\n",
        "    im1 = axs[Thr_n, c_n].plot(Sig_s, subdf1, label=\"motion\")\n",
        "    axs[Thr_n, c_n].set_title(\"Thr = {}; c = {:.4f}\".format(Thr_s[Thr_n], c_s[c_n]))\n",
        "    axs[Thr_n, c_n].set_ylim(0, 1.1)\n",
        "    axs[Thr_n, c_n].set_xlim(0, 450)\n",
        "axs[4,2].set_xlabel(\"Noise level $\\sigma$\")\n",
        "axs[2,0].set_ylabel(\"Proportion motion judgment\")\n",
        "axs[3,1].set_facecolor('grey') \n",
        "axs[4,4].legend();"
      ],
      "execution_count": null,
      "outputs": []
    },
    {
      "cell_type": "markdown",
      "metadata": {
        "id": "zGK1Bpey1f1G"
      },
      "source": [
        "There seems to be some parameter redundancy. I.e. we could chose different parameter combinations to make the model do something sensible...\n",
        "\n",
        "But it looks like $c=0.0004$ works well for $\\theta = 1.5$ and $\\sigma=50$ (highlighted plot). Lets run a few trials on that to analyze those results more specifically..."
      ]
    },
    {
      "cell_type": "code",
      "metadata": {
        "id": "SjNb4GudS1BY"
      },
      "source": [
        "# run \"best\" parameter combination\n",
        "sig = 50\n",
        "c = 0.0004\n",
        "thr = 1.5\n",
        "d0 = []\n",
        "d1 = []\n",
        "for i in range(0,1000):\n",
        "    d0.append(run_model(sig,c,thr,0))\n",
        "    d1.append(run_model(sig,c,thr,1))\n",
        "print('\\n Motion detected for no-motion =', sum(d0)/10, '%; and motion =', sum(d1)/10, '%')\n",
        "     "
      ],
      "execution_count": null,
      "outputs": []
    },
    {
      "cell_type": "markdown",
      "metadata": {
        "id": "qg9CdW3JG6Ac"
      },
      "source": [
        "This does indeed result in roughly 50% likelihood of experiencing the illusion both ways."
      ]
    },
    {
      "cell_type": "markdown",
      "metadata": {
        "id": "cp93KpqCHQ3_"
      },
      "source": [
        "Finally, let's explicitly evaluate our hypothesis..."
      ]
    },
    {
      "cell_type": "code",
      "metadata": {
        "id": "Fus0HieZHWEk"
      },
      "source": [
        "sig = np.linspace(1,201,20)\n",
        "c = 0.0004\n",
        "thr = 1.5\n",
        "D0 = []\n",
        "D1 = []\n",
        "for s in range(len(sig)):\n",
        "  d0 = []\n",
        "  d1 = []\n",
        "  for i in range(0,100):\n",
        "    d0.append(run_model(sig[s],c,thr,0))\n",
        "    d1.append(run_model(sig[s],c,thr,1))\n",
        "  D0.append(sum(d0)/100)\n",
        "  D1.append(sum(d1)/100)"
      ],
      "execution_count": null,
      "outputs": []
    },
    {
      "cell_type": "code",
      "metadata": {
        "id": "O21gsu6lI46G"
      },
      "source": [
        "plt.plot(sig,D0, label=\"no motion\")\n",
        "plt.plot(sig,D1, label =\"motion\")\n",
        "plt.xlabel(\"Noise level\")\n",
        "plt.ylabel(\"% motion decisions\")\n",
        "plt.legend();"
      ],
      "execution_count": null,
      "outputs": []
    },
    {
      "cell_type": "markdown",
      "metadata": {
        "id": "ScemA_loLFYv"
      },
      "source": [
        "Our **hypothesis** of linear increase of illusion strength with noise only holds true in a limited range of noise... It's monotonic but saturating of course..."
      ]
    },
    {
      "cell_type": "markdown",
      "metadata": {
        "id": "vwftcbgGhodq"
      },
      "source": [
        "**And regarding our original question**: it is really the noise that pushes the integrated signal over the threshold. The less leaky the integration and the lower the threshold, the more motion decisions we get..."
      ]
    },
    {
      "cell_type": "markdown",
      "metadata": {
        "id": "-75mf533tuW2"
      },
      "source": [
        "----\n",
        "# Summary\n",
        "*Part of Step 10*\n",
        "\n",
        "Let's write a simple abstract following the guidelines...\n",
        "\n",
        "**A. What is the phenomena**?  Here summarize the part of the phenomena which your modeling addresses.\n",
        "\n",
        "_The \"train illusion\" occurs when sitting in a stationary train and experiencing relative visual motion of an adjacent train outside the window; sometimes we feel like we're moving even if we're not (and vice versa). Previous literature has suggested that vestibular signals are used to disambiguate self-motion from motion of an adjacent object._\n",
        "\n",
        "**B. What is the key scientific question?**:  Clearly articulate the question which your modeling tries to answer.\n",
        "\n",
        "_How noisy vestibular estimates of motion lead to illusory percepts of self motion is currently unknown._\n",
        "\n",
        "**C. What was our hypothesis?**:  Explain the key relationships which we relied on to simulate the phenomena.\n",
        "\n",
        "_We hypothesized that noisy vestibular signals are integrated leading the brain to decide whether self-motion is occurring or not, and that larger noise is linearly associated with more frequent errors in self-motion judgment._\n",
        "\n",
        "**D. How did your modeling work?** Give an overview of the model, it's main components, and how the modeling works.  ''Here we ... ''\n",
        "\n",
        "_To investigate this hypothesis, we constructed a drift diffusion model and simulated self-motion decisions under varying noise conditions, when true self motion was occurring or not._\n",
        "\n",
        "**E. What did you find? Did the modeling work?** Explain the key outcomes of your modeling evaluation. \n",
        "\n",
        "_We observed that higher noise did indeed lead to more frequent errors in self-motion perception but this relationship was not linear._\n",
        "\n",
        "**F. What can you conclude?** Conclude as much as you can _with reference to the hypothesis_, within the limits of the modeling. \n",
        "\n",
        "_We conclude that accumulated noisy vestibular information can explain the occurrence of the train illusion, and the higher the noise (or the lower the signal-to-noise ratio), the more frequently such illusions will occur._\n",
        "\n",
        "**G. What are the limitations and future directions?** What is left to be learned? Briefly argue the plausibility of the approach and/or what you think is essential that may have been left out.\n",
        "\n",
        "_Future research should investigate whether trial-by-trial variations of noisy vestibular signals actually correlate with self-motion judgments._\n",
        "\n",
        ">If we put this all in one paragraph, we have our final complete abstract. But, first, do not include the letters in _your_ abstract, and second, we did paraphrase the answers a little so they fit together.\n",
        "\n",
        "## Abstract\n",
        "(A) The \"train illusion\" occurs when sitting in a stationary train and experiencing relative visual motion of an adjacent train outside the window; sometimes we feel like we're moving even if we're not (and vice versa). Previous literature has suggested that vestibular signals are used to disambiguate self-motion from motion of an adjacent object. (B) How noisy vestibular estimates of motion lead to illusory percepts of self motion is currently unknown. (C) We hypothesized that noisy vestibular signals are integrated leading the brain to decide whether self-motion is occurring or not, and that larger noise is linearly associated with more frequent errors in self-motion judgment. (D) To investigate this hypothesis, we constructed a drift diffusion model and simulated self-motion decisions under varying noise conditions, when true self motion was occurring or not. (E) We observed that higher noise did indeed lead to more frequent errors in self-motion perception but this relationship was not linear. (F) We conclude that accumulated noisy vestibular information can explain the occurrence of the train illusion, and the higher the noise (or the lower the signal-to-noise ratio), the more frequently such illusions will occur. (G) Future research should investigate whether trial-by-trial variations of noisy vestibular signals actually correlate with self-motion judgments."
      ]
    },
    {
      "cell_type": "markdown",
      "metadata": {
        "id": "pTAwctVuyBm9"
      },
      "source": [
        "----\n",
        "# Final thoughts\n",
        "\n",
        "Note that the model we built here was extremely simple and used artificial data on purpose. It allowed us to go through all the steps of building a model, and hopefully you noticed that it is not always a linear process, you will go back to different steps if you hit a roadblock somewhere.\n",
        "\n",
        "There are many issues that we did not address in this model. However, if you're interested in how to actually approach modeling a similar phenomenon in a probabilistic way, we encourage you to read the paper by [Dokka et. al., 2019](https://doi.org/10.1073/pnas.1820373116), where the authors model how judgments of heading direction are influenced by objects that are also moving."
      ]
    }
  ]
}
