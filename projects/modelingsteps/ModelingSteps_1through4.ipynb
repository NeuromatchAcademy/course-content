{
  "nbformat": 4,
  "nbformat_minor": 0,
  "metadata": {
    "colab": {
      "name": "ModelingSteps_1through4",
      "provenance": [],
      "collapsed_sections": [],
      "toc_visible": true,
      "include_colab_link": true
    },
    "kernel": {
      "display_name": "Python 3",
      "language": "python",
      "name": "python3"
    },
    "kernelspec": {
      "display_name": "Python 3",
      "name": "python3"
    },
    "language_info": {
      "codemirror_mode": {
        "name": "ipython",
        "version": 3
      },
      "file_extension": ".py",
      "mimetype": "text/x-python",
      "name": "python",
      "nbconvert_exporter": "python",
      "pygments_lexer": "ipython3",
      "version": "3.7.10"
    },
    "widgets": {
      "application/vnd.jupyter.widget-state+json": {
        "0ee8e96d6c294c7b8f702800df020e63": {
          "model_module": "@jupyter-widgets/controls",
          "model_name": "TabModel",
          "model_module_version": "1.5.0",
          "state": {
            "_view_name": "TabView",
            "_dom_classes": [],
            "_titles": {
              "0": "Youtube",
              "1": "Bilibili"
            },
            "_model_name": "TabModel",
            "_view_module": "@jupyter-widgets/controls",
            "selected_index": 0,
            "_model_module_version": "1.5.0",
            "_view_count": null,
            "_view_module_version": "1.5.0",
            "box_style": "",
            "layout": "IPY_MODEL_ec3c801e645a45eea0e855da560e83ec",
            "_model_module": "@jupyter-widgets/controls",
            "children": [
              "IPY_MODEL_609964b0a1694869b1fad01f7fd466d8",
              "IPY_MODEL_1a4eff431e0b4b1aac0965606dba5442"
            ]
          }
        },
        "ec3c801e645a45eea0e855da560e83ec": {
          "model_module": "@jupyter-widgets/base",
          "model_name": "LayoutModel",
          "model_module_version": "1.2.0",
          "state": {
            "_view_name": "LayoutView",
            "grid_template_rows": null,
            "right": null,
            "justify_content": null,
            "_view_module": "@jupyter-widgets/base",
            "overflow": null,
            "_model_module_version": "1.2.0",
            "_view_count": null,
            "flex_flow": null,
            "width": null,
            "min_width": null,
            "border": null,
            "align_items": null,
            "bottom": null,
            "_model_module": "@jupyter-widgets/base",
            "top": null,
            "grid_column": null,
            "overflow_y": null,
            "overflow_x": null,
            "grid_auto_flow": null,
            "grid_area": null,
            "grid_template_columns": null,
            "flex": null,
            "_model_name": "LayoutModel",
            "justify_items": null,
            "grid_row": null,
            "max_height": null,
            "align_content": null,
            "visibility": null,
            "align_self": null,
            "height": null,
            "min_height": null,
            "padding": null,
            "grid_auto_rows": null,
            "grid_gap": null,
            "max_width": null,
            "order": null,
            "_view_module_version": "1.2.0",
            "grid_template_areas": null,
            "object_position": null,
            "object_fit": null,
            "grid_auto_columns": null,
            "margin": null,
            "display": null,
            "left": null
          }
        },
        "609964b0a1694869b1fad01f7fd466d8": {
          "model_module": "@jupyter-widgets/output",
          "model_name": "OutputModel",
          "model_module_version": "1.0.0",
          "state": {
            "_view_name": "OutputView",
            "msg_id": "",
            "_dom_classes": [],
            "_model_name": "OutputModel",
            "outputs": [
              {
                "output_type": "stream",
                "name": "stdout",
                "text": [
                  "Video available at https://youtube.com/watch?v=GyGNs1fLIYQ\n"
                ]
              },
              {
                "output_type": "display_data",
                "data": {
                  "text/html": "\n        <iframe\n            width=\"854\"\n            height=\"480\"\n            src=\"https://www.youtube.com/embed/GyGNs1fLIYQ?fs=1&rel=0\"\n            frameborder=\"0\"\n            allowfullscreen\n        ></iframe>\n        ",
                  "text/plain": "<IPython.lib.display.YouTubeVideo at 0x7f3695a94ad0>",
                  "image/jpeg": "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\n"
                },
                "metadata": {}
              }
            ],
            "_view_module": "@jupyter-widgets/output",
            "_model_module_version": "1.0.0",
            "_view_count": null,
            "_view_module_version": "1.0.0",
            "layout": "IPY_MODEL_3ecf7a51e15845dda8fe5b31e99724d9",
            "_model_module": "@jupyter-widgets/output"
          }
        },
        "1a4eff431e0b4b1aac0965606dba5442": {
          "model_module": "@jupyter-widgets/output",
          "model_name": "OutputModel",
          "model_module_version": "1.0.0",
          "state": {
            "_view_name": "OutputView",
            "msg_id": "",
            "_dom_classes": [],
            "_model_name": "OutputModel",
            "outputs": [
              {
                "output_type": "stream",
                "name": "stdout",
                "text": [
                  "Video available at https://www.bilibili.com/video/BV1Mf4y1b7xS\n"
                ]
              },
              {
                "output_type": "display_data",
                "data": {
                  "text/html": "\n        <iframe\n            width=\"854\"\n            height=\"480\"\n            src=\"https://player.bilibili.com/player.html?bvid=BV1Mf4y1b7xS&page=1?fs=1\"\n            frameborder=\"0\"\n            allowfullscreen\n        ></iframe>\n        ",
                  "text/plain": "<__main__.BiliVideo at 0x7f3694345cd0>"
                },
                "metadata": {}
              }
            ],
            "_view_module": "@jupyter-widgets/output",
            "_model_module_version": "1.0.0",
            "_view_count": null,
            "_view_module_version": "1.0.0",
            "layout": "IPY_MODEL_1ea3284fad094a0ba39e2c4013f5b37f",
            "_model_module": "@jupyter-widgets/output"
          }
        },
        "3ecf7a51e15845dda8fe5b31e99724d9": {
          "model_module": "@jupyter-widgets/base",
          "model_name": "LayoutModel",
          "model_module_version": "1.2.0",
          "state": {
            "_view_name": "LayoutView",
            "grid_template_rows": null,
            "right": null,
            "justify_content": null,
            "_view_module": "@jupyter-widgets/base",
            "overflow": null,
            "_model_module_version": "1.2.0",
            "_view_count": null,
            "flex_flow": null,
            "width": null,
            "min_width": null,
            "border": null,
            "align_items": null,
            "bottom": null,
            "_model_module": "@jupyter-widgets/base",
            "top": null,
            "grid_column": null,
            "overflow_y": null,
            "overflow_x": null,
            "grid_auto_flow": null,
            "grid_area": null,
            "grid_template_columns": null,
            "flex": null,
            "_model_name": "LayoutModel",
            "justify_items": null,
            "grid_row": null,
            "max_height": null,
            "align_content": null,
            "visibility": null,
            "align_self": null,
            "height": null,
            "min_height": null,
            "padding": null,
            "grid_auto_rows": null,
            "grid_gap": null,
            "max_width": null,
            "order": null,
            "_view_module_version": "1.2.0",
            "grid_template_areas": null,
            "object_position": null,
            "object_fit": null,
            "grid_auto_columns": null,
            "margin": null,
            "display": null,
            "left": null
          }
        },
        "1ea3284fad094a0ba39e2c4013f5b37f": {
          "model_module": "@jupyter-widgets/base",
          "model_name": "LayoutModel",
          "model_module_version": "1.2.0",
          "state": {
            "_view_name": "LayoutView",
            "grid_template_rows": null,
            "right": null,
            "justify_content": null,
            "_view_module": "@jupyter-widgets/base",
            "overflow": null,
            "_model_module_version": "1.2.0",
            "_view_count": null,
            "flex_flow": null,
            "width": null,
            "min_width": null,
            "border": null,
            "align_items": null,
            "bottom": null,
            "_model_module": "@jupyter-widgets/base",
            "top": null,
            "grid_column": null,
            "overflow_y": null,
            "overflow_x": null,
            "grid_auto_flow": null,
            "grid_area": null,
            "grid_template_columns": null,
            "flex": null,
            "_model_name": "LayoutModel",
            "justify_items": null,
            "grid_row": null,
            "max_height": null,
            "align_content": null,
            "visibility": null,
            "align_self": null,
            "height": null,
            "min_height": null,
            "padding": null,
            "grid_auto_rows": null,
            "grid_gap": null,
            "max_width": null,
            "order": null,
            "_view_module_version": "1.2.0",
            "grid_template_areas": null,
            "object_position": null,
            "object_fit": null,
            "grid_auto_columns": null,
            "margin": null,
            "display": null,
            "left": null
          }
        },
        "589212edd05b4284ae3bda530acbcb83": {
          "model_module": "@jupyter-widgets/controls",
          "model_name": "TabModel",
          "model_module_version": "1.5.0",
          "state": {
            "_view_name": "TabView",
            "_dom_classes": [],
            "_titles": {
              "0": "Youtube",
              "1": "Bilibili"
            },
            "_model_name": "TabModel",
            "_view_module": "@jupyter-widgets/controls",
            "selected_index": 0,
            "_model_module_version": "1.5.0",
            "_view_count": null,
            "_view_module_version": "1.5.0",
            "box_style": "",
            "layout": "IPY_MODEL_5e532ccea38949b29f42052504b1f24a",
            "_model_module": "@jupyter-widgets/controls",
            "children": [
              "IPY_MODEL_699b90a7eebf4890965cbbc567243ced",
              "IPY_MODEL_6ef4f0b87a1e4eecbd1b926aa6177d09"
            ]
          }
        },
        "5e532ccea38949b29f42052504b1f24a": {
          "model_module": "@jupyter-widgets/base",
          "model_name": "LayoutModel",
          "model_module_version": "1.2.0",
          "state": {
            "_view_name": "LayoutView",
            "grid_template_rows": null,
            "right": null,
            "justify_content": null,
            "_view_module": "@jupyter-widgets/base",
            "overflow": null,
            "_model_module_version": "1.2.0",
            "_view_count": null,
            "flex_flow": null,
            "width": null,
            "min_width": null,
            "border": null,
            "align_items": null,
            "bottom": null,
            "_model_module": "@jupyter-widgets/base",
            "top": null,
            "grid_column": null,
            "overflow_y": null,
            "overflow_x": null,
            "grid_auto_flow": null,
            "grid_area": null,
            "grid_template_columns": null,
            "flex": null,
            "_model_name": "LayoutModel",
            "justify_items": null,
            "grid_row": null,
            "max_height": null,
            "align_content": null,
            "visibility": null,
            "align_self": null,
            "height": null,
            "min_height": null,
            "padding": null,
            "grid_auto_rows": null,
            "grid_gap": null,
            "max_width": null,
            "order": null,
            "_view_module_version": "1.2.0",
            "grid_template_areas": null,
            "object_position": null,
            "object_fit": null,
            "grid_auto_columns": null,
            "margin": null,
            "display": null,
            "left": null
          }
        },
        "699b90a7eebf4890965cbbc567243ced": {
          "model_module": "@jupyter-widgets/output",
          "model_name": "OutputModel",
          "model_module_version": "1.0.0",
          "state": {
            "_view_name": "OutputView",
            "msg_id": "",
            "_dom_classes": [],
            "_model_name": "OutputModel",
            "outputs": [
              {
                "output_type": "stream",
                "name": "stdout",
                "text": [
                  "Video available at https://youtube.com/watch?v=4Gl8X_y_uoA\n"
                ]
              },
              {
                "output_type": "display_data",
                "data": {
                  "text/html": "\n        <iframe\n            width=\"854\"\n            height=\"480\"\n            src=\"https://www.youtube.com/embed/4Gl8X_y_uoA?fs=1&rel=0\"\n            frameborder=\"0\"\n            allowfullscreen\n        ></iframe>\n        ",
                  "text/plain": "<IPython.lib.display.YouTubeVideo at 0x7f3694373cd0>",
                  "image/jpeg": "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\n"
                },
                "metadata": {}
              }
            ],
            "_view_module": "@jupyter-widgets/output",
            "_model_module_version": "1.0.0",
            "_view_count": null,
            "_view_module_version": "1.0.0",
            "layout": "IPY_MODEL_466dff7b07a7427e99e0fa287cc23f29",
            "_model_module": "@jupyter-widgets/output"
          }
        },
        "6ef4f0b87a1e4eecbd1b926aa6177d09": {
          "model_module": "@jupyter-widgets/output",
          "model_name": "OutputModel",
          "model_module_version": "1.0.0",
          "state": {
            "_view_name": "OutputView",
            "msg_id": "",
            "_dom_classes": [],
            "_model_name": "OutputModel",
            "outputs": [
              {
                "output_type": "stream",
                "name": "stdout",
                "text": [
                  "Video available at https://www.bilibili.com/video/BV1VK4y1M7dc\n"
                ]
              },
              {
                "output_type": "display_data",
                "data": {
                  "text/html": "\n        <iframe\n            width=\"854\"\n            height=\"480\"\n            src=\"https://player.bilibili.com/player.html?bvid=BV1VK4y1M7dc&page=1?fs=1\"\n            frameborder=\"0\"\n            allowfullscreen\n        ></iframe>\n        ",
                  "text/plain": "<__main__.BiliVideo at 0x7f3682665590>"
                },
                "metadata": {}
              }
            ],
            "_view_module": "@jupyter-widgets/output",
            "_model_module_version": "1.0.0",
            "_view_count": null,
            "_view_module_version": "1.0.0",
            "layout": "IPY_MODEL_b778f24225f44ebabb2cae99a4af8327",
            "_model_module": "@jupyter-widgets/output"
          }
        },
        "466dff7b07a7427e99e0fa287cc23f29": {
          "model_module": "@jupyter-widgets/base",
          "model_name": "LayoutModel",
          "model_module_version": "1.2.0",
          "state": {
            "_view_name": "LayoutView",
            "grid_template_rows": null,
            "right": null,
            "justify_content": null,
            "_view_module": "@jupyter-widgets/base",
            "overflow": null,
            "_model_module_version": "1.2.0",
            "_view_count": null,
            "flex_flow": null,
            "width": null,
            "min_width": null,
            "border": null,
            "align_items": null,
            "bottom": null,
            "_model_module": "@jupyter-widgets/base",
            "top": null,
            "grid_column": null,
            "overflow_y": null,
            "overflow_x": null,
            "grid_auto_flow": null,
            "grid_area": null,
            "grid_template_columns": null,
            "flex": null,
            "_model_name": "LayoutModel",
            "justify_items": null,
            "grid_row": null,
            "max_height": null,
            "align_content": null,
            "visibility": null,
            "align_self": null,
            "height": null,
            "min_height": null,
            "padding": null,
            "grid_auto_rows": null,
            "grid_gap": null,
            "max_width": null,
            "order": null,
            "_view_module_version": "1.2.0",
            "grid_template_areas": null,
            "object_position": null,
            "object_fit": null,
            "grid_auto_columns": null,
            "margin": null,
            "display": null,
            "left": null
          }
        },
        "b778f24225f44ebabb2cae99a4af8327": {
          "model_module": "@jupyter-widgets/base",
          "model_name": "LayoutModel",
          "model_module_version": "1.2.0",
          "state": {
            "_view_name": "LayoutView",
            "grid_template_rows": null,
            "right": null,
            "justify_content": null,
            "_view_module": "@jupyter-widgets/base",
            "overflow": null,
            "_model_module_version": "1.2.0",
            "_view_count": null,
            "flex_flow": null,
            "width": null,
            "min_width": null,
            "border": null,
            "align_items": null,
            "bottom": null,
            "_model_module": "@jupyter-widgets/base",
            "top": null,
            "grid_column": null,
            "overflow_y": null,
            "overflow_x": null,
            "grid_auto_flow": null,
            "grid_area": null,
            "grid_template_columns": null,
            "flex": null,
            "_model_name": "LayoutModel",
            "justify_items": null,
            "grid_row": null,
            "max_height": null,
            "align_content": null,
            "visibility": null,
            "align_self": null,
            "height": null,
            "min_height": null,
            "padding": null,
            "grid_auto_rows": null,
            "grid_gap": null,
            "max_width": null,
            "order": null,
            "_view_module_version": "1.2.0",
            "grid_template_areas": null,
            "object_position": null,
            "object_fit": null,
            "grid_auto_columns": null,
            "margin": null,
            "display": null,
            "left": null
          }
        },
        "74d8aec7efcc47518502898c3c03a06c": {
          "model_module": "@jupyter-widgets/controls",
          "model_name": "TabModel",
          "model_module_version": "1.5.0",
          "state": {
            "_view_name": "TabView",
            "_dom_classes": [],
            "_titles": {
              "0": "Computational Model",
              "1": "Data Analysis"
            },
            "_model_name": "TabModel",
            "_view_module": "@jupyter-widgets/controls",
            "selected_index": 0,
            "_model_module_version": "1.5.0",
            "_view_count": null,
            "_view_module_version": "1.5.0",
            "box_style": "",
            "layout": "IPY_MODEL_ba357a694ef44e0181e1419d9910d819",
            "_model_module": "@jupyter-widgets/controls",
            "children": [
              "IPY_MODEL_ea955012adf8472bb73d1af1e0acbccc",
              "IPY_MODEL_f5fd35da4cdb414baa3a6707ad2b69ed"
            ]
          }
        },
        "ba357a694ef44e0181e1419d9910d819": {
          "model_module": "@jupyter-widgets/base",
          "model_name": "LayoutModel",
          "model_module_version": "1.2.0",
          "state": {
            "_view_name": "LayoutView",
            "grid_template_rows": null,
            "right": null,
            "justify_content": null,
            "_view_module": "@jupyter-widgets/base",
            "overflow": null,
            "_model_module_version": "1.2.0",
            "_view_count": null,
            "flex_flow": null,
            "width": null,
            "min_width": null,
            "border": null,
            "align_items": null,
            "bottom": null,
            "_model_module": "@jupyter-widgets/base",
            "top": null,
            "grid_column": null,
            "overflow_y": null,
            "overflow_x": null,
            "grid_auto_flow": null,
            "grid_area": null,
            "grid_template_columns": null,
            "flex": null,
            "_model_name": "LayoutModel",
            "justify_items": null,
            "grid_row": null,
            "max_height": null,
            "align_content": null,
            "visibility": null,
            "align_self": null,
            "height": null,
            "min_height": null,
            "padding": null,
            "grid_auto_rows": null,
            "grid_gap": null,
            "max_width": null,
            "order": null,
            "_view_module_version": "1.2.0",
            "grid_template_areas": null,
            "object_position": null,
            "object_fit": null,
            "grid_auto_columns": null,
            "margin": null,
            "display": null,
            "left": null
          }
        },
        "ea955012adf8472bb73d1af1e0acbccc": {
          "model_module": "@jupyter-widgets/output",
          "model_name": "OutputModel",
          "model_module_version": "1.0.0",
          "state": {
            "_view_name": "OutputView",
            "msg_id": "",
            "_dom_classes": [],
            "_model_name": "OutputModel",
            "outputs": [
              {
                "output_type": "display_data",
                "data": {
                  "text/markdown": "\n\n## Step 1\n<br>\n<font size='3pt'>\nThe train illusion occurs when sitting on a train and viewing another train outside the window. Suddenly, the other train *seems* to move, i.e. you experience visual motion of the other train relative to your train. But which train is actually moving?\n\nOften people have the wrong percept. In particular, they think their own train might be moving when it's the other train that moves; or vice versa. The illusion is usually resolved once you gain vision of the surroundings that lets you disambiguate the relative motion; or if you experience strong vibrations indicating that it is indeed your own train that is in motion.\n\n\nWe asked the following (arbitrary) question for our demo project: \"How do noisy vestibular estimates of motion lead to illusory percepts of self motion?\"\n</font>\n",
                  "text/plain": "<IPython.core.display.Markdown object>"
                },
                "metadata": {}
              }
            ],
            "_view_module": "@jupyter-widgets/output",
            "_model_module_version": "1.0.0",
            "_view_count": null,
            "_view_module_version": "1.0.0",
            "layout": "IPY_MODEL_062dda70001f4590a1b5e34c3aa3030b",
            "_model_module": "@jupyter-widgets/output"
          }
        },
        "f5fd35da4cdb414baa3a6707ad2b69ed": {
          "model_module": "@jupyter-widgets/output",
          "model_name": "OutputModel",
          "model_module_version": "1.0.0",
          "state": {
            "_view_name": "OutputView",
            "msg_id": "",
            "_dom_classes": [],
            "_model_name": "OutputModel",
            "outputs": [
              {
                "output_type": "display_data",
                "data": {
                  "text/markdown": "\n## Step 1\n<br>\n\n<font size='3pt'>\nThe train illusion occurs when sitting on a train and viewing another train outside the window. Suddenly, the other train *seems* to move, i.e. you experience visual motion of the other train relative to your train. But which train is actually moving?\n\nOften people mix this up. In particular, they think their own train might be moving when it's the other train that moves; or vice versa. The illusion is usually resolved once you gain vision of the surroundings that lets you disambiguate the relative motion; or if you experience strong vibrations indicating that it is indeed your own train that is in motion.\n\n\nWe assume that we have build the train illusion model (see the other example project colab). That model predicts that accumulated sensory evidence from vestibular signals determines the decision of whether self-motion is experienced or not. We now have vestibular neuron data (simulated in our case, but let's pretend) and would like to see if that prediction holds true.\n\nThe data contains *N* neurons and *M* trials for each of 3 motion conditions: no self-motion, slowly accelerating self-motion and faster accelerating self-motion. In our data,\n*N* = 40 and *M* = 400.\n\n**So we can ask the following question**: \"Does accumulated vestibular neuron activity correlate with self-motion judgements?\"\n</font>\n",
                  "text/plain": "<IPython.core.display.Markdown object>"
                },
                "metadata": {}
              }
            ],
            "_view_module": "@jupyter-widgets/output",
            "_model_module_version": "1.0.0",
            "_view_count": null,
            "_view_module_version": "1.0.0",
            "layout": "IPY_MODEL_cffeb4e6629f46be94aa99f76e20d21a",
            "_model_module": "@jupyter-widgets/output"
          }
        },
        "062dda70001f4590a1b5e34c3aa3030b": {
          "model_module": "@jupyter-widgets/base",
          "model_name": "LayoutModel",
          "model_module_version": "1.2.0",
          "state": {
            "_view_name": "LayoutView",
            "grid_template_rows": null,
            "right": null,
            "justify_content": null,
            "_view_module": "@jupyter-widgets/base",
            "overflow": null,
            "_model_module_version": "1.2.0",
            "_view_count": null,
            "flex_flow": null,
            "width": null,
            "min_width": null,
            "border": null,
            "align_items": null,
            "bottom": null,
            "_model_module": "@jupyter-widgets/base",
            "top": null,
            "grid_column": null,
            "overflow_y": null,
            "overflow_x": null,
            "grid_auto_flow": null,
            "grid_area": null,
            "grid_template_columns": null,
            "flex": null,
            "_model_name": "LayoutModel",
            "justify_items": null,
            "grid_row": null,
            "max_height": null,
            "align_content": null,
            "visibility": null,
            "align_self": null,
            "height": null,
            "min_height": null,
            "padding": null,
            "grid_auto_rows": null,
            "grid_gap": null,
            "max_width": null,
            "order": null,
            "_view_module_version": "1.2.0",
            "grid_template_areas": null,
            "object_position": null,
            "object_fit": null,
            "grid_auto_columns": null,
            "margin": null,
            "display": null,
            "left": null
          }
        },
        "cffeb4e6629f46be94aa99f76e20d21a": {
          "model_module": "@jupyter-widgets/base",
          "model_name": "LayoutModel",
          "model_module_version": "1.2.0",
          "state": {
            "_view_name": "LayoutView",
            "grid_template_rows": null,
            "right": null,
            "justify_content": null,
            "_view_module": "@jupyter-widgets/base",
            "overflow": null,
            "_model_module_version": "1.2.0",
            "_view_count": null,
            "flex_flow": null,
            "width": null,
            "min_width": null,
            "border": null,
            "align_items": null,
            "bottom": null,
            "_model_module": "@jupyter-widgets/base",
            "top": null,
            "grid_column": null,
            "overflow_y": null,
            "overflow_x": null,
            "grid_auto_flow": null,
            "grid_area": null,
            "grid_template_columns": null,
            "flex": null,
            "_model_name": "LayoutModel",
            "justify_items": null,
            "grid_row": null,
            "max_height": null,
            "align_content": null,
            "visibility": null,
            "align_self": null,
            "height": null,
            "min_height": null,
            "padding": null,
            "grid_auto_rows": null,
            "grid_gap": null,
            "max_width": null,
            "order": null,
            "_view_module_version": "1.2.0",
            "grid_template_areas": null,
            "object_position": null,
            "object_fit": null,
            "grid_auto_columns": null,
            "margin": null,
            "display": null,
            "left": null
          }
        },
        "1b20032fd308475eb3e4687e7133697b": {
          "model_module": "@jupyter-widgets/controls",
          "model_name": "TabModel",
          "model_module_version": "1.5.0",
          "state": {
            "_view_name": "TabView",
            "_dom_classes": [],
            "_titles": {
              "0": "Youtube",
              "1": "Bilibili"
            },
            "_model_name": "TabModel",
            "_view_module": "@jupyter-widgets/controls",
            "selected_index": 0,
            "_model_module_version": "1.5.0",
            "_view_count": null,
            "_view_module_version": "1.5.0",
            "box_style": "",
            "layout": "IPY_MODEL_441089b3c59644a79876863481da0fed",
            "_model_module": "@jupyter-widgets/controls",
            "children": [
              "IPY_MODEL_ca5bf7a2db114d09bc76b5ed5bb390a5",
              "IPY_MODEL_b526e44aa1204ab5a73b4424aee29afe"
            ]
          }
        },
        "441089b3c59644a79876863481da0fed": {
          "model_module": "@jupyter-widgets/base",
          "model_name": "LayoutModel",
          "model_module_version": "1.2.0",
          "state": {
            "_view_name": "LayoutView",
            "grid_template_rows": null,
            "right": null,
            "justify_content": null,
            "_view_module": "@jupyter-widgets/base",
            "overflow": null,
            "_model_module_version": "1.2.0",
            "_view_count": null,
            "flex_flow": null,
            "width": null,
            "min_width": null,
            "border": null,
            "align_items": null,
            "bottom": null,
            "_model_module": "@jupyter-widgets/base",
            "top": null,
            "grid_column": null,
            "overflow_y": null,
            "overflow_x": null,
            "grid_auto_flow": null,
            "grid_area": null,
            "grid_template_columns": null,
            "flex": null,
            "_model_name": "LayoutModel",
            "justify_items": null,
            "grid_row": null,
            "max_height": null,
            "align_content": null,
            "visibility": null,
            "align_self": null,
            "height": null,
            "min_height": null,
            "padding": null,
            "grid_auto_rows": null,
            "grid_gap": null,
            "max_width": null,
            "order": null,
            "_view_module_version": "1.2.0",
            "grid_template_areas": null,
            "object_position": null,
            "object_fit": null,
            "grid_auto_columns": null,
            "margin": null,
            "display": null,
            "left": null
          }
        },
        "ca5bf7a2db114d09bc76b5ed5bb390a5": {
          "model_module": "@jupyter-widgets/output",
          "model_name": "OutputModel",
          "model_module_version": "1.0.0",
          "state": {
            "_view_name": "OutputView",
            "msg_id": "",
            "_dom_classes": [],
            "_model_name": "OutputModel",
            "outputs": [
              {
                "output_type": "stream",
                "name": "stdout",
                "text": [
                  "Video available at https://youtube.com/watch?v=d8zriLaMc14\n"
                ]
              },
              {
                "output_type": "display_data",
                "data": {
                  "text/html": "\n        <iframe\n            width=\"854\"\n            height=\"480\"\n            src=\"https://www.youtube.com/embed/d8zriLaMc14?fs=1&rel=0\"\n            frameborder=\"0\"\n            allowfullscreen\n        ></iframe>\n        ",
                  "text/plain": "<IPython.lib.display.YouTubeVideo at 0x7f3682614050>",
                  "image/jpeg": "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\n"
                },
                "metadata": {}
              }
            ],
            "_view_module": "@jupyter-widgets/output",
            "_model_module_version": "1.0.0",
            "_view_count": null,
            "_view_module_version": "1.0.0",
            "layout": "IPY_MODEL_7a4994fc18eb4394adc2bf122f48bc61",
            "_model_module": "@jupyter-widgets/output"
          }
        },
        "b526e44aa1204ab5a73b4424aee29afe": {
          "model_module": "@jupyter-widgets/output",
          "model_name": "OutputModel",
          "model_module_version": "1.0.0",
          "state": {
            "_view_name": "OutputView",
            "msg_id": "",
            "_dom_classes": [],
            "_model_name": "OutputModel",
            "outputs": [
              {
                "output_type": "stream",
                "name": "stdout",
                "text": [
                  "Video available at https://www.bilibili.com/video/BV1by4y1M7TZ\n"
                ]
              },
              {
                "output_type": "display_data",
                "data": {
                  "text/html": "\n        <iframe\n            width=\"854\"\n            height=\"480\"\n            src=\"https://player.bilibili.com/player.html?bvid=BV1by4y1M7TZ&page=1?fs=1\"\n            frameborder=\"0\"\n            allowfullscreen\n        ></iframe>\n        ",
                  "text/plain": "<__main__.BiliVideo at 0x7f3694373350>"
                },
                "metadata": {}
              }
            ],
            "_view_module": "@jupyter-widgets/output",
            "_model_module_version": "1.0.0",
            "_view_count": null,
            "_view_module_version": "1.0.0",
            "layout": "IPY_MODEL_ad4b8719656e4abe8684b7e9735d3999",
            "_model_module": "@jupyter-widgets/output"
          }
        },
        "7a4994fc18eb4394adc2bf122f48bc61": {
          "model_module": "@jupyter-widgets/base",
          "model_name": "LayoutModel",
          "model_module_version": "1.2.0",
          "state": {
            "_view_name": "LayoutView",
            "grid_template_rows": null,
            "right": null,
            "justify_content": null,
            "_view_module": "@jupyter-widgets/base",
            "overflow": null,
            "_model_module_version": "1.2.0",
            "_view_count": null,
            "flex_flow": null,
            "width": null,
            "min_width": null,
            "border": null,
            "align_items": null,
            "bottom": null,
            "_model_module": "@jupyter-widgets/base",
            "top": null,
            "grid_column": null,
            "overflow_y": null,
            "overflow_x": null,
            "grid_auto_flow": null,
            "grid_area": null,
            "grid_template_columns": null,
            "flex": null,
            "_model_name": "LayoutModel",
            "justify_items": null,
            "grid_row": null,
            "max_height": null,
            "align_content": null,
            "visibility": null,
            "align_self": null,
            "height": null,
            "min_height": null,
            "padding": null,
            "grid_auto_rows": null,
            "grid_gap": null,
            "max_width": null,
            "order": null,
            "_view_module_version": "1.2.0",
            "grid_template_areas": null,
            "object_position": null,
            "object_fit": null,
            "grid_auto_columns": null,
            "margin": null,
            "display": null,
            "left": null
          }
        },
        "ad4b8719656e4abe8684b7e9735d3999": {
          "model_module": "@jupyter-widgets/base",
          "model_name": "LayoutModel",
          "model_module_version": "1.2.0",
          "state": {
            "_view_name": "LayoutView",
            "grid_template_rows": null,
            "right": null,
            "justify_content": null,
            "_view_module": "@jupyter-widgets/base",
            "overflow": null,
            "_model_module_version": "1.2.0",
            "_view_count": null,
            "flex_flow": null,
            "width": null,
            "min_width": null,
            "border": null,
            "align_items": null,
            "bottom": null,
            "_model_module": "@jupyter-widgets/base",
            "top": null,
            "grid_column": null,
            "overflow_y": null,
            "overflow_x": null,
            "grid_auto_flow": null,
            "grid_area": null,
            "grid_template_columns": null,
            "flex": null,
            "_model_name": "LayoutModel",
            "justify_items": null,
            "grid_row": null,
            "max_height": null,
            "align_content": null,
            "visibility": null,
            "align_self": null,
            "height": null,
            "min_height": null,
            "padding": null,
            "grid_auto_rows": null,
            "grid_gap": null,
            "max_width": null,
            "order": null,
            "_view_module_version": "1.2.0",
            "grid_template_areas": null,
            "object_position": null,
            "object_fit": null,
            "grid_auto_columns": null,
            "margin": null,
            "display": null,
            "left": null
          }
        },
        "0d45d5873d294abfa12cce6c1217d5ea": {
          "model_module": "@jupyter-widgets/controls",
          "model_name": "TabModel",
          "model_module_version": "1.5.0",
          "state": {
            "_view_name": "TabView",
            "_dom_classes": [],
            "_titles": {
              "0": "Computational Model",
              "1": "Data Analysis"
            },
            "_model_name": "TabModel",
            "_view_module": "@jupyter-widgets/controls",
            "selected_index": 0,
            "_model_module_version": "1.5.0",
            "_view_count": null,
            "_view_module_version": "1.5.0",
            "box_style": "",
            "layout": "IPY_MODEL_de39d0df022e40ff8d2dfa87cb4afd85",
            "_model_module": "@jupyter-widgets/controls",
            "children": [
              "IPY_MODEL_3e7572fa53954dc5b6622a87e04b0842",
              "IPY_MODEL_57ebb29483d84a2a9e86c7b1b84c7251"
            ]
          }
        },
        "de39d0df022e40ff8d2dfa87cb4afd85": {
          "model_module": "@jupyter-widgets/base",
          "model_name": "LayoutModel",
          "model_module_version": "1.2.0",
          "state": {
            "_view_name": "LayoutView",
            "grid_template_rows": null,
            "right": null,
            "justify_content": null,
            "_view_module": "@jupyter-widgets/base",
            "overflow": null,
            "_model_module_version": "1.2.0",
            "_view_count": null,
            "flex_flow": null,
            "width": null,
            "min_width": null,
            "border": null,
            "align_items": null,
            "bottom": null,
            "_model_module": "@jupyter-widgets/base",
            "top": null,
            "grid_column": null,
            "overflow_y": null,
            "overflow_x": null,
            "grid_auto_flow": null,
            "grid_area": null,
            "grid_template_columns": null,
            "flex": null,
            "_model_name": "LayoutModel",
            "justify_items": null,
            "grid_row": null,
            "max_height": null,
            "align_content": null,
            "visibility": null,
            "align_self": null,
            "height": null,
            "min_height": null,
            "padding": null,
            "grid_auto_rows": null,
            "grid_gap": null,
            "max_width": null,
            "order": null,
            "_view_module_version": "1.2.0",
            "grid_template_areas": null,
            "object_position": null,
            "object_fit": null,
            "grid_auto_columns": null,
            "margin": null,
            "display": null,
            "left": null
          }
        },
        "3e7572fa53954dc5b6622a87e04b0842": {
          "model_module": "@jupyter-widgets/output",
          "model_name": "OutputModel",
          "model_module_version": "1.0.0",
          "state": {
            "_view_name": "OutputView",
            "msg_id": "",
            "_dom_classes": [],
            "_model_name": "OutputModel",
            "outputs": [
              {
                "output_type": "display_data",
                "data": {
                  "text/markdown": "\n\n## Step 2\n\n<br>\n<font size='3pt'>\n\nYou have learned all about the vestibular system in the Intro video. This is also where you would do a literature search to learn more about what's known about self-motion perception and vestibular signals. You would also want to examine any attempts to model self-motion, perceptual decision making and vestibular processing.</font>\n",
                  "text/plain": "<IPython.core.display.Markdown object>"
                },
                "metadata": {}
              }
            ],
            "_view_module": "@jupyter-widgets/output",
            "_model_module_version": "1.0.0",
            "_view_count": null,
            "_view_module_version": "1.0.0",
            "layout": "IPY_MODEL_5cf7de454b364bc393ca14ab2f481e44",
            "_model_module": "@jupyter-widgets/output"
          }
        },
        "57ebb29483d84a2a9e86c7b1b84c7251": {
          "model_module": "@jupyter-widgets/output",
          "model_name": "OutputModel",
          "model_module_version": "1.0.0",
          "state": {
            "_view_name": "OutputView",
            "msg_id": "",
            "_dom_classes": [],
            "_model_name": "OutputModel",
            "outputs": [
              {
                "output_type": "display_data",
                "data": {
                  "text/markdown": "\n## Step 2\n\n<br>\n<font size='3pt'>\nWhile it seems a well-known fact that vestibular signals are noisy, we should check if we can also find this in the literature.\n\nLet's also see what's in our data, there should be a 4d array called `spikes` that has spike counts (positive integers), a 2d array called `perception` with self-motion judgements (0=no motion or 1=motion). Let's see what this data looks like:\n\n</font><br>\n",
                  "text/plain": "<IPython.core.display.Markdown object>"
                },
                "metadata": {}
              },
              {
                "output_type": "stream",
                "name": "stdout",
                "text": [
                  "The shape of `spikes` is: (3, 400, 40, 301)\n",
                  "The shape of `perception` is: (3, 400)\n",
                  "The mean of `perception` is: [0.355  0.7575 0.975 ]\n"
                ]
              },
              {
                "output_type": "display_data",
                "data": {
                  "text/markdown": "\n<br>\n<font size='3pt'>\nIn the `spikes` array, we see our 3 acceleration conditions (first dimension), with 400 trials each (second dimensions) and simultaneous recordings from 40 neurons (third dimension), across 3 seconds in 10 ms bins (fourth dimension). The first two dimensions are also there in the `perception` array.\n\nPerfect perception would have looked like [0, 1, 1]. The average judgements are far from correct (lots of self-motion illusions) but they do make some sense: it's closer to 0 in the no-motion condition and closer to 1 in both of the real-motion conditions.\n\nThe idea of our project is that the vestibular signals are noisy so that they might be mis-interpreted by the brain. Let's see if we can reproduce the stimuli from the data:\n</font>\n<br>\n",
                  "text/plain": "<IPython.core.display.Markdown object>"
                },
                "metadata": {}
              },
              {
                "output_type": "display_data",
                "data": {
                  "image/png": "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\n",
                  "text/plain": "<Figure size 432x288 with 1 Axes>"
                },
                "metadata": {
                  "needs_background": "light"
                }
              },
              {
                "output_type": "display_data",
                "data": {
                  "text/markdown": "\n<br>\n<font size='3pt'>\nBlue is the no-motion condition, and produces flat average spike counts across the 3 s time interval. The orange and green line do show a bell-shaped curve that corresponds to the acceleration profile. But there also seems to be considerable noise: exactly what we need. Let's see what the spike trains for a single trial look like:\n</font>\n<br>\n",
                  "text/plain": "<IPython.core.display.Markdown object>"
                },
                "metadata": {}
              },
              {
                "output_type": "display_data",
                "data": {
                  "image/png": "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\n",
                  "text/plain": "<Figure size 432x288 with 1 Axes>"
                },
                "metadata": {
                  "needs_background": "light"
                }
              },
              {
                "output_type": "display_data",
                "data": {
                  "image/png": "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\n",
                  "text/plain": "<Figure size 432x288 with 1 Axes>"
                },
                "metadata": {
                  "needs_background": "light"
                }
              },
              {
                "output_type": "display_data",
                "data": {
                  "image/png": "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\n",
                  "text/plain": "<Figure size 432x288 with 1 Axes>"
                },
                "metadata": {
                  "needs_background": "light"
                }
              },
              {
                "output_type": "display_data",
                "data": {
                  "text/markdown": "\n<br>\n<font size='3pt'>\nYou can change the trial number in the bit of code above to compare what the rasterplots look like in different trials. You'll notice that they all look kind of the same: the 3 conditions are very hard (impossible?) to distinguish by eye-balling.\n\nNow that we have seen the data, let's see if we can extract self-motion judgements from the spike counts.\n</font>\n<br>\n",
                  "text/plain": "<IPython.core.display.Markdown object>"
                },
                "metadata": {}
              }
            ],
            "_view_module": "@jupyter-widgets/output",
            "_model_module_version": "1.0.0",
            "_view_count": null,
            "_view_module_version": "1.0.0",
            "layout": "IPY_MODEL_6545651d7e274928953e7af6edb0ec53",
            "_model_module": "@jupyter-widgets/output"
          }
        },
        "5cf7de454b364bc393ca14ab2f481e44": {
          "model_module": "@jupyter-widgets/base",
          "model_name": "LayoutModel",
          "model_module_version": "1.2.0",
          "state": {
            "_view_name": "LayoutView",
            "grid_template_rows": null,
            "right": null,
            "justify_content": null,
            "_view_module": "@jupyter-widgets/base",
            "overflow": null,
            "_model_module_version": "1.2.0",
            "_view_count": null,
            "flex_flow": null,
            "width": null,
            "min_width": null,
            "border": null,
            "align_items": null,
            "bottom": null,
            "_model_module": "@jupyter-widgets/base",
            "top": null,
            "grid_column": null,
            "overflow_y": null,
            "overflow_x": null,
            "grid_auto_flow": null,
            "grid_area": null,
            "grid_template_columns": null,
            "flex": null,
            "_model_name": "LayoutModel",
            "justify_items": null,
            "grid_row": null,
            "max_height": null,
            "align_content": null,
            "visibility": null,
            "align_self": null,
            "height": null,
            "min_height": null,
            "padding": null,
            "grid_auto_rows": null,
            "grid_gap": null,
            "max_width": null,
            "order": null,
            "_view_module_version": "1.2.0",
            "grid_template_areas": null,
            "object_position": null,
            "object_fit": null,
            "grid_auto_columns": null,
            "margin": null,
            "display": null,
            "left": null
          }
        },
        "6545651d7e274928953e7af6edb0ec53": {
          "model_module": "@jupyter-widgets/base",
          "model_name": "LayoutModel",
          "model_module_version": "1.2.0",
          "state": {
            "_view_name": "LayoutView",
            "grid_template_rows": null,
            "right": null,
            "justify_content": null,
            "_view_module": "@jupyter-widgets/base",
            "overflow": null,
            "_model_module_version": "1.2.0",
            "_view_count": null,
            "flex_flow": null,
            "width": null,
            "min_width": null,
            "border": null,
            "align_items": null,
            "bottom": null,
            "_model_module": "@jupyter-widgets/base",
            "top": null,
            "grid_column": null,
            "overflow_y": null,
            "overflow_x": null,
            "grid_auto_flow": null,
            "grid_area": null,
            "grid_template_columns": null,
            "flex": null,
            "_model_name": "LayoutModel",
            "justify_items": null,
            "grid_row": null,
            "max_height": null,
            "align_content": null,
            "visibility": null,
            "align_self": null,
            "height": null,
            "min_height": null,
            "padding": null,
            "grid_auto_rows": null,
            "grid_gap": null,
            "max_width": null,
            "order": null,
            "_view_module_version": "1.2.0",
            "grid_template_areas": null,
            "object_position": null,
            "object_fit": null,
            "grid_auto_columns": null,
            "margin": null,
            "display": null,
            "left": null
          }
        },
        "12026de6a2414b37b1343e7c3b4ab8b3": {
          "model_module": "@jupyter-widgets/controls",
          "model_name": "TabModel",
          "model_module_version": "1.5.0",
          "state": {
            "_view_name": "TabView",
            "_dom_classes": [],
            "_titles": {
              "0": "Youtube",
              "1": "Bilibili"
            },
            "_model_name": "TabModel",
            "_view_module": "@jupyter-widgets/controls",
            "selected_index": 0,
            "_model_module_version": "1.5.0",
            "_view_count": null,
            "_view_module_version": "1.5.0",
            "box_style": "",
            "layout": "IPY_MODEL_51f9e9d19b394b9faa862a45ddb6197f",
            "_model_module": "@jupyter-widgets/controls",
            "children": [
              "IPY_MODEL_b5047c3a49854169ba0630109dcfe780",
              "IPY_MODEL_79809fd9e1734813a73a1e7543d2737b"
            ]
          }
        },
        "51f9e9d19b394b9faa862a45ddb6197f": {
          "model_module": "@jupyter-widgets/base",
          "model_name": "LayoutModel",
          "model_module_version": "1.2.0",
          "state": {
            "_view_name": "LayoutView",
            "grid_template_rows": null,
            "right": null,
            "justify_content": null,
            "_view_module": "@jupyter-widgets/base",
            "overflow": null,
            "_model_module_version": "1.2.0",
            "_view_count": null,
            "flex_flow": null,
            "width": null,
            "min_width": null,
            "border": null,
            "align_items": null,
            "bottom": null,
            "_model_module": "@jupyter-widgets/base",
            "top": null,
            "grid_column": null,
            "overflow_y": null,
            "overflow_x": null,
            "grid_auto_flow": null,
            "grid_area": null,
            "grid_template_columns": null,
            "flex": null,
            "_model_name": "LayoutModel",
            "justify_items": null,
            "grid_row": null,
            "max_height": null,
            "align_content": null,
            "visibility": null,
            "align_self": null,
            "height": null,
            "min_height": null,
            "padding": null,
            "grid_auto_rows": null,
            "grid_gap": null,
            "max_width": null,
            "order": null,
            "_view_module_version": "1.2.0",
            "grid_template_areas": null,
            "object_position": null,
            "object_fit": null,
            "grid_auto_columns": null,
            "margin": null,
            "display": null,
            "left": null
          }
        },
        "b5047c3a49854169ba0630109dcfe780": {
          "model_module": "@jupyter-widgets/output",
          "model_name": "OutputModel",
          "model_module_version": "1.0.0",
          "state": {
            "_view_name": "OutputView",
            "msg_id": "",
            "_dom_classes": [],
            "_model_name": "OutputModel",
            "outputs": [
              {
                "output_type": "stream",
                "name": "stdout",
                "text": [
                  "Video available at https://youtube.com/watch?v=XpEj-p7JkFE\n"
                ]
              },
              {
                "output_type": "display_data",
                "data": {
                  "text/html": "\n        <iframe\n            width=\"854\"\n            height=\"480\"\n            src=\"https://www.youtube.com/embed/XpEj-p7JkFE?fs=1&rel=0\"\n            frameborder=\"0\"\n            allowfullscreen\n        ></iframe>\n        ",
                  "text/plain": "<IPython.lib.display.YouTubeVideo at 0x7f3677939cd0>",
                  "image/jpeg": "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\n"
                },
                "metadata": {}
              }
            ],
            "_view_module": "@jupyter-widgets/output",
            "_model_module_version": "1.0.0",
            "_view_count": null,
            "_view_module_version": "1.0.0",
            "layout": "IPY_MODEL_9553428304bc4d97b71784af635bde9b",
            "_model_module": "@jupyter-widgets/output"
          }
        },
        "79809fd9e1734813a73a1e7543d2737b": {
          "model_module": "@jupyter-widgets/output",
          "model_name": "OutputModel",
          "model_module_version": "1.0.0",
          "state": {
            "_view_name": "OutputView",
            "msg_id": "",
            "_dom_classes": [],
            "_model_name": "OutputModel",
            "outputs": [
              {
                "output_type": "stream",
                "name": "stdout",
                "text": [
                  "Video available at https://www.bilibili.com/video/BV1Mq4y1x77s\n"
                ]
              },
              {
                "output_type": "display_data",
                "data": {
                  "text/html": "\n        <iframe\n            width=\"854\"\n            height=\"480\"\n            src=\"https://player.bilibili.com/player.html?bvid=BV1Mq4y1x77s&page=1?fs=1\"\n            frameborder=\"0\"\n            allowfullscreen\n        ></iframe>\n        ",
                  "text/plain": "<__main__.BiliVideo at 0x7f3677939b10>"
                },
                "metadata": {}
              }
            ],
            "_view_module": "@jupyter-widgets/output",
            "_model_module_version": "1.0.0",
            "_view_count": null,
            "_view_module_version": "1.0.0",
            "layout": "IPY_MODEL_165bdad2af364140ab9d20374cdb6e44",
            "_model_module": "@jupyter-widgets/output"
          }
        },
        "9553428304bc4d97b71784af635bde9b": {
          "model_module": "@jupyter-widgets/base",
          "model_name": "LayoutModel",
          "model_module_version": "1.2.0",
          "state": {
            "_view_name": "LayoutView",
            "grid_template_rows": null,
            "right": null,
            "justify_content": null,
            "_view_module": "@jupyter-widgets/base",
            "overflow": null,
            "_model_module_version": "1.2.0",
            "_view_count": null,
            "flex_flow": null,
            "width": null,
            "min_width": null,
            "border": null,
            "align_items": null,
            "bottom": null,
            "_model_module": "@jupyter-widgets/base",
            "top": null,
            "grid_column": null,
            "overflow_y": null,
            "overflow_x": null,
            "grid_auto_flow": null,
            "grid_area": null,
            "grid_template_columns": null,
            "flex": null,
            "_model_name": "LayoutModel",
            "justify_items": null,
            "grid_row": null,
            "max_height": null,
            "align_content": null,
            "visibility": null,
            "align_self": null,
            "height": null,
            "min_height": null,
            "padding": null,
            "grid_auto_rows": null,
            "grid_gap": null,
            "max_width": null,
            "order": null,
            "_view_module_version": "1.2.0",
            "grid_template_areas": null,
            "object_position": null,
            "object_fit": null,
            "grid_auto_columns": null,
            "margin": null,
            "display": null,
            "left": null
          }
        },
        "165bdad2af364140ab9d20374cdb6e44": {
          "model_module": "@jupyter-widgets/base",
          "model_name": "LayoutModel",
          "model_module_version": "1.2.0",
          "state": {
            "_view_name": "LayoutView",
            "grid_template_rows": null,
            "right": null,
            "justify_content": null,
            "_view_module": "@jupyter-widgets/base",
            "overflow": null,
            "_model_module_version": "1.2.0",
            "_view_count": null,
            "flex_flow": null,
            "width": null,
            "min_width": null,
            "border": null,
            "align_items": null,
            "bottom": null,
            "_model_module": "@jupyter-widgets/base",
            "top": null,
            "grid_column": null,
            "overflow_y": null,
            "overflow_x": null,
            "grid_auto_flow": null,
            "grid_area": null,
            "grid_template_columns": null,
            "flex": null,
            "_model_name": "LayoutModel",
            "justify_items": null,
            "grid_row": null,
            "max_height": null,
            "align_content": null,
            "visibility": null,
            "align_self": null,
            "height": null,
            "min_height": null,
            "padding": null,
            "grid_auto_rows": null,
            "grid_gap": null,
            "max_width": null,
            "order": null,
            "_view_module_version": "1.2.0",
            "grid_template_areas": null,
            "object_position": null,
            "object_fit": null,
            "grid_auto_columns": null,
            "margin": null,
            "display": null,
            "left": null
          }
        },
        "f3f7522c4c7244769ef15d9637b69cab": {
          "model_module": "@jupyter-widgets/controls",
          "model_name": "TabModel",
          "model_module_version": "1.5.0",
          "state": {
            "_view_name": "TabView",
            "_dom_classes": [],
            "_titles": {
              "0": "Computational Model",
              "1": "Data Analysis"
            },
            "_model_name": "TabModel",
            "_view_module": "@jupyter-widgets/controls",
            "selected_index": 0,
            "_model_module_version": "1.5.0",
            "_view_count": null,
            "_view_module_version": "1.5.0",
            "box_style": "",
            "layout": "IPY_MODEL_cc88d9cea33a4878be2a1715e13082c6",
            "_model_module": "@jupyter-widgets/controls",
            "children": [
              "IPY_MODEL_b3d816851f82459c9936fe85e2785371",
              "IPY_MODEL_814e44faf35d45b090ed8af064066d52"
            ]
          }
        },
        "cc88d9cea33a4878be2a1715e13082c6": {
          "model_module": "@jupyter-widgets/base",
          "model_name": "LayoutModel",
          "model_module_version": "1.2.0",
          "state": {
            "_view_name": "LayoutView",
            "grid_template_rows": null,
            "right": null,
            "justify_content": null,
            "_view_module": "@jupyter-widgets/base",
            "overflow": null,
            "_model_module_version": "1.2.0",
            "_view_count": null,
            "flex_flow": null,
            "width": null,
            "min_width": null,
            "border": null,
            "align_items": null,
            "bottom": null,
            "_model_module": "@jupyter-widgets/base",
            "top": null,
            "grid_column": null,
            "overflow_y": null,
            "overflow_x": null,
            "grid_auto_flow": null,
            "grid_area": null,
            "grid_template_columns": null,
            "flex": null,
            "_model_name": "LayoutModel",
            "justify_items": null,
            "grid_row": null,
            "max_height": null,
            "align_content": null,
            "visibility": null,
            "align_self": null,
            "height": null,
            "min_height": null,
            "padding": null,
            "grid_auto_rows": null,
            "grid_gap": null,
            "max_width": null,
            "order": null,
            "_view_module_version": "1.2.0",
            "grid_template_areas": null,
            "object_position": null,
            "object_fit": null,
            "grid_auto_columns": null,
            "margin": null,
            "display": null,
            "left": null
          }
        },
        "b3d816851f82459c9936fe85e2785371": {
          "model_module": "@jupyter-widgets/output",
          "model_name": "OutputModel",
          "model_module_version": "1.0.0",
          "state": {
            "_view_name": "OutputView",
            "msg_id": "",
            "_dom_classes": [],
            "_model_name": "OutputModel",
            "outputs": [
              {
                "output_type": "display_data",
                "data": {
                  "text/markdown": "\n\n## Step 3\n<br>\n<font size='3pt'>\nWe determined that we probably needed the following ingredients for our model:\n\n* Vestibular input: *v(t)*\n\n* Binary decision output: *d* - time dependent?\n\n* Decision threshold: θ\n\n* A filter (maybe running average?): *f*\n\n* An integration mechanism to get from vestibular acceleration to sensed velocity: ∫\n\n</font>\n",
                  "text/plain": "<IPython.core.display.Markdown object>"
                },
                "metadata": {}
              }
            ],
            "_view_module": "@jupyter-widgets/output",
            "_model_module_version": "1.0.0",
            "_view_count": null,
            "_view_module_version": "1.0.0",
            "layout": "IPY_MODEL_cba8c362e21a4aa7bca5f3297e2defb9",
            "_model_module": "@jupyter-widgets/output"
          }
        },
        "814e44faf35d45b090ed8af064066d52": {
          "model_module": "@jupyter-widgets/output",
          "model_name": "OutputModel",
          "model_module_version": "1.0.0",
          "state": {
            "_view_name": "OutputView",
            "msg_id": "",
            "_dom_classes": [],
            "_model_name": "OutputModel",
            "outputs": [
              {
                "output_type": "display_data",
                "data": {
                  "text/markdown": "\n## Step 3\n<br>\n<font size='3pt'>\nIn order to address our question we need to design an appropriate computational data analysis pipeline. We did some brainstorming and think that we need to somehow extract the self-motion judgements from the spike counts of our neurons. Based on that, our algorithm needs to make a decision: was there self motion or not? This is a classical 2-choice classification problem. We will have to transform the raw spike data into the right input for the algorithm (spike pre-processing).\n\nSo we determined that we probably needed the following ingredients:\n\n* spike trains *S* of 3-second trials (10ms spike bins)\n* ground truth movement *m<sub>r</sub>* (real) and perceived movement *m<sub>p</sub>*\n* some form of classifier *C* giving us a classification *c*\n* spike pre-processing\n</font>\n",
                  "text/plain": "<IPython.core.display.Markdown object>"
                },
                "metadata": {}
              }
            ],
            "_view_module": "@jupyter-widgets/output",
            "_model_module_version": "1.0.0",
            "_view_count": null,
            "_view_module_version": "1.0.0",
            "layout": "IPY_MODEL_6e0c57ea076a47ed8e605689350e34fd",
            "_model_module": "@jupyter-widgets/output"
          }
        },
        "cba8c362e21a4aa7bca5f3297e2defb9": {
          "model_module": "@jupyter-widgets/base",
          "model_name": "LayoutModel",
          "model_module_version": "1.2.0",
          "state": {
            "_view_name": "LayoutView",
            "grid_template_rows": null,
            "right": null,
            "justify_content": null,
            "_view_module": "@jupyter-widgets/base",
            "overflow": null,
            "_model_module_version": "1.2.0",
            "_view_count": null,
            "flex_flow": null,
            "width": null,
            "min_width": null,
            "border": null,
            "align_items": null,
            "bottom": null,
            "_model_module": "@jupyter-widgets/base",
            "top": null,
            "grid_column": null,
            "overflow_y": null,
            "overflow_x": null,
            "grid_auto_flow": null,
            "grid_area": null,
            "grid_template_columns": null,
            "flex": null,
            "_model_name": "LayoutModel",
            "justify_items": null,
            "grid_row": null,
            "max_height": null,
            "align_content": null,
            "visibility": null,
            "align_self": null,
            "height": null,
            "min_height": null,
            "padding": null,
            "grid_auto_rows": null,
            "grid_gap": null,
            "max_width": null,
            "order": null,
            "_view_module_version": "1.2.0",
            "grid_template_areas": null,
            "object_position": null,
            "object_fit": null,
            "grid_auto_columns": null,
            "margin": null,
            "display": null,
            "left": null
          }
        },
        "6e0c57ea076a47ed8e605689350e34fd": {
          "model_module": "@jupyter-widgets/base",
          "model_name": "LayoutModel",
          "model_module_version": "1.2.0",
          "state": {
            "_view_name": "LayoutView",
            "grid_template_rows": null,
            "right": null,
            "justify_content": null,
            "_view_module": "@jupyter-widgets/base",
            "overflow": null,
            "_model_module_version": "1.2.0",
            "_view_count": null,
            "flex_flow": null,
            "width": null,
            "min_width": null,
            "border": null,
            "align_items": null,
            "bottom": null,
            "_model_module": "@jupyter-widgets/base",
            "top": null,
            "grid_column": null,
            "overflow_y": null,
            "overflow_x": null,
            "grid_auto_flow": null,
            "grid_area": null,
            "grid_template_columns": null,
            "flex": null,
            "_model_name": "LayoutModel",
            "justify_items": null,
            "grid_row": null,
            "max_height": null,
            "align_content": null,
            "visibility": null,
            "align_self": null,
            "height": null,
            "min_height": null,
            "padding": null,
            "grid_auto_rows": null,
            "grid_gap": null,
            "max_width": null,
            "order": null,
            "_view_module_version": "1.2.0",
            "grid_template_areas": null,
            "object_position": null,
            "object_fit": null,
            "grid_auto_columns": null,
            "margin": null,
            "display": null,
            "left": null
          }
        },
        "a628ca0628be46f391f85a2d0be1fd51": {
          "model_module": "@jupyter-widgets/controls",
          "model_name": "TabModel",
          "model_module_version": "1.5.0",
          "state": {
            "_view_name": "TabView",
            "_dom_classes": [],
            "_titles": {
              "0": "Youtube",
              "1": "Bilibili"
            },
            "_model_name": "TabModel",
            "_view_module": "@jupyter-widgets/controls",
            "selected_index": 0,
            "_model_module_version": "1.5.0",
            "_view_count": null,
            "_view_module_version": "1.5.0",
            "box_style": "",
            "layout": "IPY_MODEL_b934b1c8f5e2433091ff87c3c8828a42",
            "_model_module": "@jupyter-widgets/controls",
            "children": [
              "IPY_MODEL_5039cddd62974d67bebcbffd29989045",
              "IPY_MODEL_6b2724d6e921442b98940316472489f6"
            ]
          }
        },
        "b934b1c8f5e2433091ff87c3c8828a42": {
          "model_module": "@jupyter-widgets/base",
          "model_name": "LayoutModel",
          "model_module_version": "1.2.0",
          "state": {
            "_view_name": "LayoutView",
            "grid_template_rows": null,
            "right": null,
            "justify_content": null,
            "_view_module": "@jupyter-widgets/base",
            "overflow": null,
            "_model_module_version": "1.2.0",
            "_view_count": null,
            "flex_flow": null,
            "width": null,
            "min_width": null,
            "border": null,
            "align_items": null,
            "bottom": null,
            "_model_module": "@jupyter-widgets/base",
            "top": null,
            "grid_column": null,
            "overflow_y": null,
            "overflow_x": null,
            "grid_auto_flow": null,
            "grid_area": null,
            "grid_template_columns": null,
            "flex": null,
            "_model_name": "LayoutModel",
            "justify_items": null,
            "grid_row": null,
            "max_height": null,
            "align_content": null,
            "visibility": null,
            "align_self": null,
            "height": null,
            "min_height": null,
            "padding": null,
            "grid_auto_rows": null,
            "grid_gap": null,
            "max_width": null,
            "order": null,
            "_view_module_version": "1.2.0",
            "grid_template_areas": null,
            "object_position": null,
            "object_fit": null,
            "grid_auto_columns": null,
            "margin": null,
            "display": null,
            "left": null
          }
        },
        "5039cddd62974d67bebcbffd29989045": {
          "model_module": "@jupyter-widgets/output",
          "model_name": "OutputModel",
          "model_module_version": "1.0.0",
          "state": {
            "_view_name": "OutputView",
            "msg_id": "",
            "_dom_classes": [],
            "_model_name": "OutputModel",
            "outputs": [
              {
                "output_type": "stream",
                "name": "stdout",
                "text": [
                  "Video available at https://youtube.com/watch?v=nHXMSXLcd9A\n"
                ]
              },
              {
                "output_type": "display_data",
                "data": {
                  "text/html": "\n        <iframe\n            width=\"854\"\n            height=\"480\"\n            src=\"https://www.youtube.com/embed/nHXMSXLcd9A?fs=1&rel=0\"\n            frameborder=\"0\"\n            allowfullscreen\n        ></iframe>\n        ",
                  "text/plain": "<IPython.lib.display.YouTubeVideo at 0x7f367792ab10>",
                  "image/jpeg": "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\n"
                },
                "metadata": {}
              }
            ],
            "_view_module": "@jupyter-widgets/output",
            "_model_module_version": "1.0.0",
            "_view_count": null,
            "_view_module_version": "1.0.0",
            "layout": "IPY_MODEL_39379743761e4295908efe13bcb28fb2",
            "_model_module": "@jupyter-widgets/output"
          }
        },
        "6b2724d6e921442b98940316472489f6": {
          "model_module": "@jupyter-widgets/output",
          "model_name": "OutputModel",
          "model_module_version": "1.0.0",
          "state": {
            "_view_name": "OutputView",
            "msg_id": "",
            "_dom_classes": [],
            "_model_name": "OutputModel",
            "outputs": [
              {
                "output_type": "stream",
                "name": "stdout",
                "text": [
                  "Video available at https://www.bilibili.com/video/BV1fh411h7aX\n"
                ]
              },
              {
                "output_type": "display_data",
                "data": {
                  "text/html": "\n        <iframe\n            width=\"854\"\n            height=\"480\"\n            src=\"https://player.bilibili.com/player.html?bvid=BV1fh411h7aX&page=1?fs=1\"\n            frameborder=\"0\"\n            allowfullscreen\n        ></iframe>\n        ",
                  "text/plain": "<__main__.BiliVideo at 0x7f3677939e10>"
                },
                "metadata": {}
              }
            ],
            "_view_module": "@jupyter-widgets/output",
            "_model_module_version": "1.0.0",
            "_view_count": null,
            "_view_module_version": "1.0.0",
            "layout": "IPY_MODEL_26f7b0a877e547d9a809ef9ce6c24444",
            "_model_module": "@jupyter-widgets/output"
          }
        },
        "39379743761e4295908efe13bcb28fb2": {
          "model_module": "@jupyter-widgets/base",
          "model_name": "LayoutModel",
          "model_module_version": "1.2.0",
          "state": {
            "_view_name": "LayoutView",
            "grid_template_rows": null,
            "right": null,
            "justify_content": null,
            "_view_module": "@jupyter-widgets/base",
            "overflow": null,
            "_model_module_version": "1.2.0",
            "_view_count": null,
            "flex_flow": null,
            "width": null,
            "min_width": null,
            "border": null,
            "align_items": null,
            "bottom": null,
            "_model_module": "@jupyter-widgets/base",
            "top": null,
            "grid_column": null,
            "overflow_y": null,
            "overflow_x": null,
            "grid_auto_flow": null,
            "grid_area": null,
            "grid_template_columns": null,
            "flex": null,
            "_model_name": "LayoutModel",
            "justify_items": null,
            "grid_row": null,
            "max_height": null,
            "align_content": null,
            "visibility": null,
            "align_self": null,
            "height": null,
            "min_height": null,
            "padding": null,
            "grid_auto_rows": null,
            "grid_gap": null,
            "max_width": null,
            "order": null,
            "_view_module_version": "1.2.0",
            "grid_template_areas": null,
            "object_position": null,
            "object_fit": null,
            "grid_auto_columns": null,
            "margin": null,
            "display": null,
            "left": null
          }
        },
        "26f7b0a877e547d9a809ef9ce6c24444": {
          "model_module": "@jupyter-widgets/base",
          "model_name": "LayoutModel",
          "model_module_version": "1.2.0",
          "state": {
            "_view_name": "LayoutView",
            "grid_template_rows": null,
            "right": null,
            "justify_content": null,
            "_view_module": "@jupyter-widgets/base",
            "overflow": null,
            "_model_module_version": "1.2.0",
            "_view_count": null,
            "flex_flow": null,
            "width": null,
            "min_width": null,
            "border": null,
            "align_items": null,
            "bottom": null,
            "_model_module": "@jupyter-widgets/base",
            "top": null,
            "grid_column": null,
            "overflow_y": null,
            "overflow_x": null,
            "grid_auto_flow": null,
            "grid_area": null,
            "grid_template_columns": null,
            "flex": null,
            "_model_name": "LayoutModel",
            "justify_items": null,
            "grid_row": null,
            "max_height": null,
            "align_content": null,
            "visibility": null,
            "align_self": null,
            "height": null,
            "min_height": null,
            "padding": null,
            "grid_auto_rows": null,
            "grid_gap": null,
            "max_width": null,
            "order": null,
            "_view_module_version": "1.2.0",
            "grid_template_areas": null,
            "object_position": null,
            "object_fit": null,
            "grid_auto_columns": null,
            "margin": null,
            "display": null,
            "left": null
          }
        },
        "d352ea7323a2409eb841a20add09882a": {
          "model_module": "@jupyter-widgets/controls",
          "model_name": "TabModel",
          "model_module_version": "1.5.0",
          "state": {
            "_view_name": "TabView",
            "_dom_classes": [],
            "_titles": {
              "0": "Computational Model",
              "1": "Data Analysis"
            },
            "_model_name": "TabModel",
            "_view_module": "@jupyter-widgets/controls",
            "selected_index": 0,
            "_model_module_version": "1.5.0",
            "_view_count": null,
            "_view_module_version": "1.5.0",
            "box_style": "",
            "layout": "IPY_MODEL_39a696a3c39a4b3a9d48170703f70430",
            "_model_module": "@jupyter-widgets/controls",
            "children": [
              "IPY_MODEL_cbf73bc42269418bb445968e8714f03b",
              "IPY_MODEL_d5af0538b77c4d8ba470f9a3371bba06"
            ]
          }
        },
        "39a696a3c39a4b3a9d48170703f70430": {
          "model_module": "@jupyter-widgets/base",
          "model_name": "LayoutModel",
          "model_module_version": "1.2.0",
          "state": {
            "_view_name": "LayoutView",
            "grid_template_rows": null,
            "right": null,
            "justify_content": null,
            "_view_module": "@jupyter-widgets/base",
            "overflow": null,
            "_model_module_version": "1.2.0",
            "_view_count": null,
            "flex_flow": null,
            "width": null,
            "min_width": null,
            "border": null,
            "align_items": null,
            "bottom": null,
            "_model_module": "@jupyter-widgets/base",
            "top": null,
            "grid_column": null,
            "overflow_y": null,
            "overflow_x": null,
            "grid_auto_flow": null,
            "grid_area": null,
            "grid_template_columns": null,
            "flex": null,
            "_model_name": "LayoutModel",
            "justify_items": null,
            "grid_row": null,
            "max_height": null,
            "align_content": null,
            "visibility": null,
            "align_self": null,
            "height": null,
            "min_height": null,
            "padding": null,
            "grid_auto_rows": null,
            "grid_gap": null,
            "max_width": null,
            "order": null,
            "_view_module_version": "1.2.0",
            "grid_template_areas": null,
            "object_position": null,
            "object_fit": null,
            "grid_auto_columns": null,
            "margin": null,
            "display": null,
            "left": null
          }
        },
        "cbf73bc42269418bb445968e8714f03b": {
          "model_module": "@jupyter-widgets/output",
          "model_name": "OutputModel",
          "model_module_version": "1.0.0",
          "state": {
            "_view_name": "OutputView",
            "msg_id": "",
            "_dom_classes": [],
            "_model_name": "OutputModel",
            "outputs": [
              {
                "output_type": "display_data",
                "data": {
                  "text/markdown": "\n\n## Step 4\n<br>\n<font size='3pt'>\nOur main hypothesis is that the strength of the illusion has a linear relationship to the amplitude of vestibular noise.\n\nMathematically, this would write as\n\n<div align=\"center\">\n<em>S</em> = <em>k</em> ⋅ <em>N</em>\n</div>\n\nwhere *S* is the illusion strength and *N* is the noise level, and *k* is a free parameter.\n>we could simply use the frequency of occurance across repetitions as the \"strength of the illusion\"\n\nWe would get the noise as the standard deviation of *v(t)*, i.e.\n\n<div align=\"center\">\n<em>N</em> = <b>E</b>[<em>v(t)</em><sup>2</sup>],\n</div>\n\n where **E** stands for the expected value.\n\nDo we need to take the average across time points?\n> doesn't really matter because we have the generative process, so we can just use the σ that we define\n</font>\n",
                  "text/plain": "<IPython.core.display.Markdown object>"
                },
                "metadata": {}
              }
            ],
            "_view_module": "@jupyter-widgets/output",
            "_model_module_version": "1.0.0",
            "_view_count": null,
            "_view_module_version": "1.0.0",
            "layout": "IPY_MODEL_6f4184f16d354169ab07be6ee694c52c",
            "_model_module": "@jupyter-widgets/output"
          }
        },
        "d5af0538b77c4d8ba470f9a3371bba06": {
          "model_module": "@jupyter-widgets/output",
          "model_name": "OutputModel",
          "model_module_version": "1.0.0",
          "state": {
            "_view_name": "OutputView",
            "msg_id": "",
            "_dom_classes": [],
            "_model_name": "OutputModel",
            "outputs": [
              {
                "output_type": "display_data",
                "data": {
                  "text/markdown": "\n## Step 4\n<br>\n\n<font size='3pt'>\nWe think that noise in the signal drives whether or not people perceive self motion. Maybe the brain uses the strongest signal at peak acceleration to decide on self motion, but we actually think it is better to accumulate evidence over some period of time. We want to test this. The noise idea also means that when the signal-to-noise ratio is higher, the brain does better, and this would be in the faster acceleration condition. We want to test this too.\n\nWe came up with the following hypotheses focussing on specific details of our overall research question:\n\n* Hyp 1: Accumulated vestibular spike rates explain self-motion judgements better than average spike rates around peak acceleration.\n* Hyp 2: Classification performance should be better for faster vs slower self-motion.\n\n> There are many other hypotheses you could come up with, but for simplicity, let's go with those.\n\nMathematically, we can write our hypotheses as follows (using our above ingredients):\n* Hyp 1: **E**(c<sub>accum</sub>) > **E**(c<sub>win</sub>)\n* Hyp 2: **E**(c<sub>fast</sub>) > **E**(c<sub>slow</sub>)\n\nWhere **E** denotes taking the expected value (in this case the mean) of its argument: classification outcome in a given trial type.\n</font>\n",
                  "text/plain": "<IPython.core.display.Markdown object>"
                },
                "metadata": {}
              }
            ],
            "_view_module": "@jupyter-widgets/output",
            "_model_module_version": "1.0.0",
            "_view_count": null,
            "_view_module_version": "1.0.0",
            "layout": "IPY_MODEL_029626f13043413e98d3a7923423d123",
            "_model_module": "@jupyter-widgets/output"
          }
        },
        "6f4184f16d354169ab07be6ee694c52c": {
          "model_module": "@jupyter-widgets/base",
          "model_name": "LayoutModel",
          "model_module_version": "1.2.0",
          "state": {
            "_view_name": "LayoutView",
            "grid_template_rows": null,
            "right": null,
            "justify_content": null,
            "_view_module": "@jupyter-widgets/base",
            "overflow": null,
            "_model_module_version": "1.2.0",
            "_view_count": null,
            "flex_flow": null,
            "width": null,
            "min_width": null,
            "border": null,
            "align_items": null,
            "bottom": null,
            "_model_module": "@jupyter-widgets/base",
            "top": null,
            "grid_column": null,
            "overflow_y": null,
            "overflow_x": null,
            "grid_auto_flow": null,
            "grid_area": null,
            "grid_template_columns": null,
            "flex": null,
            "_model_name": "LayoutModel",
            "justify_items": null,
            "grid_row": null,
            "max_height": null,
            "align_content": null,
            "visibility": null,
            "align_self": null,
            "height": null,
            "min_height": null,
            "padding": null,
            "grid_auto_rows": null,
            "grid_gap": null,
            "max_width": null,
            "order": null,
            "_view_module_version": "1.2.0",
            "grid_template_areas": null,
            "object_position": null,
            "object_fit": null,
            "grid_auto_columns": null,
            "margin": null,
            "display": null,
            "left": null
          }
        },
        "029626f13043413e98d3a7923423d123": {
          "model_module": "@jupyter-widgets/base",
          "model_name": "LayoutModel",
          "model_module_version": "1.2.0",
          "state": {
            "_view_name": "LayoutView",
            "grid_template_rows": null,
            "right": null,
            "justify_content": null,
            "_view_module": "@jupyter-widgets/base",
            "overflow": null,
            "_model_module_version": "1.2.0",
            "_view_count": null,
            "flex_flow": null,
            "width": null,
            "min_width": null,
            "border": null,
            "align_items": null,
            "bottom": null,
            "_model_module": "@jupyter-widgets/base",
            "top": null,
            "grid_column": null,
            "overflow_y": null,
            "overflow_x": null,
            "grid_auto_flow": null,
            "grid_area": null,
            "grid_template_columns": null,
            "flex": null,
            "_model_name": "LayoutModel",
            "justify_items": null,
            "grid_row": null,
            "max_height": null,
            "align_content": null,
            "visibility": null,
            "align_self": null,
            "height": null,
            "min_height": null,
            "padding": null,
            "grid_auto_rows": null,
            "grid_gap": null,
            "max_width": null,
            "order": null,
            "_view_module_version": "1.2.0",
            "grid_template_areas": null,
            "object_position": null,
            "object_fit": null,
            "grid_auto_columns": null,
            "margin": null,
            "display": null,
            "left": null
          }
        }
      }
    }
  },
  "cells": [
    {
      "cell_type": "markdown",
      "metadata": {
        "id": "view-in-github",
        "colab_type": "text"
      },
      "source": [
        "<a href=\"https://colab.research.google.com/github/NeuromatchAcademy/course-content/blob/fix_badges/projects/modelingsteps/ModelingSteps_1through4.ipynb\" target=\"_parent\"><img src=\"https://colab.research.google.com/assets/colab-badge.svg\" alt=\"Open In Colab\"/></a>"
      ]
    },
    {
      "cell_type": "markdown",
      "metadata": {
        "id": "5CuNmjMPZsYo"
      },
      "source": [
        "# Modeling Steps 1 - 4\n",
        "\n",
        "**By Neuromatch Academy**\n",
        "\n",
        "\n",
        "__Content creators:__ Marius 't Hart, Megan Peters, Paul Schrater, Gunnar Blohm\n",
        "\n",
        "\n",
        "__Content reviewers:__ Eric DeWitt, Tara van Viegen, Marius Pachitariu\n",
        "\n",
        "__Production editors:__ Ella Batty "
      ]
    },
    {
      "cell_type": "markdown",
      "metadata": {
        "id": "fkjgOUncZsYq"
      },
      "source": [
        "**Our 2021 Sponsors, including Presenting Sponsor Facebook Reality Labs**\n",
        "\n",
        "<p align='center'><img src='https://github.com/NeuromatchAcademy/widgets/blob/master/sponsors.png?raw=True'/></p>"
      ]
    },
    {
      "cell_type": "markdown",
      "metadata": {
        "id": "lX4MgNDJf6pA"
      },
      "source": [
        "**Note that this is the same as W1D2 Tutorial 1 - we provide it here as well for ease of access.**"
      ]
    },
    {
      "cell_type": "markdown",
      "metadata": {
        "id": "H5KA3ZwbZsYr"
      },
      "source": [
        "---\n",
        "# Tutorial objectives\n",
        "Yesterday you gained some understanding of what models can buy us in neuroscience. But how do you build a model? Today, we will try to clarify the process of computational modeling, by thinking through the logic of modeling based on your project ideas.\n",
        "\n",
        "We assume that you have a general idea of a project in mind, i.e. a preliminary question, and/or phenomenon you would like to understand. You should have started developing a project idea yesterday with [this brainstorming demo](https://youtu.be/H6rSlZzlrgQ). Maybe you have a goal in mind. We will now work through the 4 first steps of modeling ([Blohm et al., 2019](https://doi.org/10.1523/ENEURO.0352-19.2019)): \n",
        "\n",
        "**Framing the question**\n",
        "\n",
        "1. finding a phenomenon and a question to ask about it\n",
        "2. understanding the state of the art\n",
        "3. determining the basic ingredients\n",
        "4. formulating specific, mathematically defined hypotheses\n",
        "\n",
        "The remaining steps 5-10 will be covered in a second notebook that you can consult throughout the modeling process when you work on your projects.\n",
        "\n",
        "**Importantly**, we will guide you through Steps 1-4 today. After you do more work on projects, you likely have to revite some or all of these steps *before* you move on the the remaining steps of modeling. \n",
        "\n",
        "**Note**: there will be no coding today. It's important that you think through the different steps of this how-to-model tutorial to maximize your chance of succeeding in your group projects. **Also**: \"Models\" here can be data analysis pipelines, not just computational models...\n",
        "\n",
        "**Think! Sections**: All activities you should perform are labeled with **Think!**. These are discussion based exercises and can be found in the Table of Content on the left side of the notebook. Make sure you complete all within a section before moving on!\n",
        "\n",
        "### Demos\n",
        "We will demo the modeling process to you based on the train illusion. The introductory video will explain the phenomenon to you. Then we will do roleplay to showcase some common pitfalls to you based on a computational modeling project around the train illusion. In addition to the computational model, we will also provide a data neuroscience project example to you so you can appreciate similarities and differences. \n",
        "\n",
        "Enjoy!\n"
      ]
    },
    {
      "cell_type": "code",
      "metadata": {
        "execution": {
          "iopub.execute_input": "2021-07-05T00:15:18.179839Z",
          "iopub.status.busy": "2021-07-05T00:15:18.176302Z",
          "iopub.status.idle": "2021-07-05T00:15:18.318041Z",
          "shell.execute_reply": "2021-07-05T00:15:18.314637Z"
        },
        "id": "RIsiV_EPZsYs",
        "cellView": "form",
        "outputId": "f6203af5-b368-4a26-bf80-05598944b77e",
        "colab": {
          "base_uri": "https://localhost:8080/",
          "height": 582,
          "referenced_widgets": [
            "0ee8e96d6c294c7b8f702800df020e63",
            "ec3c801e645a45eea0e855da560e83ec",
            "609964b0a1694869b1fad01f7fd466d8",
            "1a4eff431e0b4b1aac0965606dba5442",
            "3ecf7a51e15845dda8fe5b31e99724d9",
            "1ea3284fad094a0ba39e2c4013f5b37f"
          ]
        }
      },
      "source": [
        "# @title Video 1: Introduction to tutorial\n",
        "from ipywidgets import widgets\n",
        "\n",
        "out2 = widgets.Output()\n",
        "with out2:\n",
        "  from IPython.display import IFrame\n",
        "  class BiliVideo(IFrame):\n",
        "      def __init__(self, id, page=1, width=400, height=300, **kwargs):\n",
        "          self.id=id\n",
        "          src = 'https://player.bilibili.com/player.html?bvid={0}&page={1}'.format(id, page)\n",
        "          super(BiliVideo, self).__init__(src, width, height, **kwargs)\n",
        "\n",
        "  video = BiliVideo(id=\"BV1Mf4y1b7xS\", width=854, height=480, fs=1)\n",
        "  print('Video available at https://www.bilibili.com/video/{0}'.format(video.id))\n",
        "  display(video)\n",
        "\n",
        "out1 = widgets.Output()\n",
        "with out1:\n",
        "  from IPython.display import YouTubeVideo\n",
        "  video = YouTubeVideo(id=\"GyGNs1fLIYQ\", width=854, height=480, fs=1, rel=0)\n",
        "  print('Video available at https://youtube.com/watch?v=' + video.id)\n",
        "  display(video)\n",
        "\n",
        "out = widgets.Tab([out1, out2])\n",
        "out.set_title(0, 'Youtube')\n",
        "out.set_title(1, 'Bilibili')\n",
        "\n",
        "display(out)"
      ],
      "execution_count": 1,
      "outputs": [
        {
          "output_type": "display_data",
          "data": {
            "application/vnd.jupyter.widget-view+json": {
              "model_id": "0ee8e96d6c294c7b8f702800df020e63",
              "version_minor": 0,
              "version_major": 2
            },
            "text/plain": [
              "Tab(children=(Output(), Output()), _titles={'0': 'Youtube', '1': 'Bilibili'})"
            ]
          },
          "metadata": {}
        }
      ]
    },
    {
      "cell_type": "markdown",
      "metadata": {
        "id": "7JzgxNQyZsYt"
      },
      "source": [
        "# Setup"
      ]
    },
    {
      "cell_type": "code",
      "metadata": {
        "execution": {
          "iopub.execute_input": "2021-07-05T00:15:18.326757Z",
          "iopub.status.busy": "2021-07-05T00:15:18.326153Z",
          "iopub.status.idle": "2021-07-05T00:15:19.641881Z",
          "shell.execute_reply": "2021-07-05T00:15:19.640867Z"
        },
        "id": "CbujpL-5ZsYt"
      },
      "source": [
        "# Imports\n",
        "\n",
        "import numpy as np\n",
        "import matplotlib.pyplot as plt\n",
        "\n",
        "# for random distributions:\n",
        "from scipy.stats import norm, poisson\n",
        "\n",
        "# for logistic regression:\n",
        "from sklearn.linear_model import LogisticRegression\n",
        "from sklearn.model_selection import cross_val_score"
      ],
      "execution_count": 2,
      "outputs": []
    },
    {
      "cell_type": "code",
      "metadata": {
        "cellView": "form",
        "execution": {
          "iopub.execute_input": "2021-07-05T00:15:19.651904Z",
          "iopub.status.busy": "2021-07-05T00:15:19.651233Z",
          "iopub.status.idle": "2021-07-05T00:15:19.654859Z",
          "shell.execute_reply": "2021-07-05T00:15:19.655613Z"
        },
        "id": "ocS8XZM4ZsYt"
      },
      "source": [
        "# @title Plotting Functions\n",
        "\n",
        "def rasterplot(spikes,movement,trial):\n",
        "\n",
        "  [movements, trials, neurons, timepoints] = np.shape(spikes)\n",
        "\n",
        "  trial_spikes = spikes[movement,trial,:,:]\n",
        "\n",
        "  trial_events = [((trial_spikes[x,:] > 0).nonzero()[0]-150)/100 for x in range(neurons)]\n",
        "\n",
        "  plt.figure()\n",
        "  dt=1/100\n",
        "  plt.eventplot(trial_events, linewidths=1);\n",
        "  plt.title('movement: %d - trial: %d'%(movement, trial))\n",
        "  plt.ylabel('neuron')\n",
        "  plt.xlabel('time [s]')\n",
        "\n",
        "def plotCrossValAccuracies(accuracies):\n",
        "  f, ax = plt.subplots(figsize=(8, 3))\n",
        "  ax.boxplot(accuracies, vert=False, widths=.7)\n",
        "  ax.scatter(accuracies, np.ones(8))\n",
        "  ax.set(\n",
        "    xlabel=\"Accuracy\",\n",
        "    yticks=[],\n",
        "    title=f\"Average test accuracy: {accuracies.mean():.2%}\"\n",
        "  )\n",
        "  ax.spines[\"left\"].set_visible(False)"
      ],
      "execution_count": 3,
      "outputs": []
    },
    {
      "cell_type": "code",
      "metadata": {
        "cellView": "form",
        "execution": {
          "iopub.execute_input": "2021-07-05T00:15:19.674502Z",
          "iopub.status.busy": "2021-07-05T00:15:19.658232Z",
          "iopub.status.idle": "2021-07-05T00:15:24.064911Z",
          "shell.execute_reply": "2021-07-05T00:15:24.065822Z"
        },
        "id": "97Jmyk-AZsYu"
      },
      "source": [
        "#@title Generate Data\n",
        "\n",
        "def generateSpikeTrains():\n",
        "\n",
        "  gain        = 2\n",
        "  neurons     = 50\n",
        "  movements   = [0,1,2]\n",
        "  repetitions = 800\n",
        "\n",
        "  np.random.seed(37)\n",
        "\n",
        "  # set up the basic parameters:\n",
        "  dt = 1/100\n",
        "  start, stop = -1.5, 1.5\n",
        "  t = np.arange(start, stop+dt, dt)                                            # a time interval\n",
        "  Velocity_sigma = 0.5                                                         # std dev of the velocity profile\n",
        "  Velocity_Profile = norm.pdf(t,0,Velocity_sigma)/norm.pdf(0,0,Velocity_sigma) # The Gaussian velocity profile, normalized to a peak of 1\n",
        "\n",
        "  # set up the neuron properties:\n",
        "  Gains = np.random.rand(neurons) * gain          # random sensitivity between 0 and `gain`\n",
        "  FRs   = (np.random.rand(neurons) * 60 ) - 10    # random base firing rate between -10 and 50\n",
        "\n",
        "  # output matrix will have this shape:\n",
        "  target_shape = [len(movements), repetitions, neurons, len(Velocity_Profile)]\n",
        "\n",
        "  # build matrix for spikes, first, they depend on the velocity profile:\n",
        "  Spikes = np.repeat(Velocity_Profile.reshape([1,1,1,len(Velocity_Profile)]),len(movements)*repetitions*neurons,axis=2).reshape(target_shape)\n",
        "\n",
        "  # multiplied by gains:\n",
        "  S_gains = np.repeat(np.repeat(Gains.reshape([1,1,neurons]), len(movements)*repetitions, axis=1).reshape(target_shape[:3]), len(Velocity_Profile)).reshape(target_shape)\n",
        "  Spikes = Spikes * S_gains\n",
        "\n",
        "  # and multiplied by the movement:\n",
        "  S_moves = np.repeat( np.array(movements).reshape([len(movements),1,1,1]), repetitions*neurons*len(Velocity_Profile), axis=3 ).reshape(target_shape)\n",
        "  Spikes = Spikes * S_moves\n",
        "\n",
        "  # on top of a baseline firing rate:\n",
        "  S_FR = np.repeat(np.repeat(FRs.reshape([1,1,neurons]), len(movements)*repetitions, axis=1).reshape(target_shape[:3]), len(Velocity_Profile)).reshape(target_shape)\n",
        "  Spikes = Spikes + S_FR\n",
        "\n",
        "  # can not run the poisson random number generator on input lower than 0:\n",
        "  Spikes = np.where(Spikes < 0, 0, Spikes)\n",
        "\n",
        "  # so far, these were expected firing rates per second, correct for dt:\n",
        "  Spikes = poisson.rvs(Spikes * dt)\n",
        "\n",
        "  return(Spikes)\n",
        "\n",
        "\n",
        "def subsetPerception(spikes):\n",
        "\n",
        "  movements = [0,1,2]\n",
        "  split     = 400\n",
        "  subset    = 40\n",
        "  hwin      = 3\n",
        "\n",
        "  [num_movements, repetitions, neurons, timepoints] = np.shape(spikes)\n",
        "\n",
        "  decision = np.zeros([num_movements, repetitions])\n",
        "\n",
        "  # ground truth for logistic regression:\n",
        "  y_train = np.repeat([0,1,1],split)\n",
        "  y_test  = np.repeat([0,1,1],repetitions-split)\n",
        "\n",
        "  m_train = np.repeat(movements, split)\n",
        "  m_test  = np.repeat(movements, split)\n",
        "\n",
        "  # reproduce the time points:\n",
        "  dt = 1/100\n",
        "  start, stop = -1.5, 1.5\n",
        "  t = np.arange(start, stop+dt, dt)\n",
        "\n",
        "  w_idx = list( (abs(t) < (hwin*dt)).nonzero()[0] )\n",
        "  w_0 = min(w_idx)\n",
        "  w_1 = max(w_idx)+1  # python...\n",
        "\n",
        "  # get the total spike counts from stationary and movement trials:\n",
        "  spikes_stat = np.sum( spikes[0,:,:,:], axis=2)\n",
        "  spikes_move = np.sum( spikes[1:,:,:,:], axis=3)\n",
        "\n",
        "  train_spikes_stat = spikes_stat[:split,:]\n",
        "  train_spikes_move = spikes_move[:,:split,:].reshape([-1,neurons])\n",
        "\n",
        "  test_spikes_stat = spikes_stat[split:,:]\n",
        "  test_spikes_move = spikes_move[:,split:,:].reshape([-1,neurons])\n",
        "\n",
        "  # data to use to predict y:\n",
        "  x_train = np.concatenate((train_spikes_stat, train_spikes_move))\n",
        "  x_test  = np.concatenate(( test_spikes_stat,  test_spikes_move))\n",
        "\n",
        "  # this line creates a logistics regression model object, and immediately fits it:\n",
        "  population_model = LogisticRegression(solver='liblinear', random_state=0).fit(x_train, y_train)\n",
        "\n",
        "  # solver, one of: 'liblinear', 'newton-cg', 'lbfgs', 'sag', and 'saga'\n",
        "  # some of those require certain other options\n",
        "  #print(population_model.coef_)       # slope\n",
        "  #print(population_model.intercept_)  # intercept\n",
        "\n",
        "  ground_truth = np.array(population_model.predict(x_test))\n",
        "  ground_truth = ground_truth.reshape([3,-1])\n",
        "\n",
        "  output = {}\n",
        "  output['perception'] = ground_truth\n",
        "  output['spikes']     = spikes[:,split:,:subset,:]\n",
        "\n",
        "  return(output)\n",
        "\n",
        "\n",
        "def getData():\n",
        "\n",
        "  spikes = generateSpikeTrains()\n",
        "\n",
        "  dataset = subsetPerception(spikes=spikes)\n",
        "\n",
        "  return(dataset)\n",
        "\n",
        "dataset = getData()\n",
        "perception = dataset['perception']\n",
        "spikes = dataset['spikes']"
      ],
      "execution_count": 4,
      "outputs": []
    },
    {
      "cell_type": "markdown",
      "metadata": {
        "id": "G5DeDPt8ZsYw"
      },
      "source": [
        "----\n",
        "# Step 1: Finding a phenomenon and a question to ask about it\n"
      ]
    },
    {
      "cell_type": "code",
      "metadata": {
        "execution": {
          "iopub.execute_input": "2021-07-05T00:15:24.069938Z",
          "iopub.status.busy": "2021-07-05T00:15:24.069286Z",
          "iopub.status.idle": "2021-07-05T00:15:24.160610Z",
          "shell.execute_reply": "2021-07-05T00:15:24.161394Z"
        },
        "id": "fzI23GrgZsYx",
        "cellView": "form",
        "outputId": "08656dfb-b31d-4a0f-b4b8-7371e5216cba",
        "colab": {
          "base_uri": "https://localhost:8080/",
          "height": 582,
          "referenced_widgets": [
            "589212edd05b4284ae3bda530acbcb83",
            "5e532ccea38949b29f42052504b1f24a",
            "699b90a7eebf4890965cbbc567243ced",
            "6ef4f0b87a1e4eecbd1b926aa6177d09",
            "466dff7b07a7427e99e0fa287cc23f29",
            "b778f24225f44ebabb2cae99a4af8327"
          ]
        }
      },
      "source": [
        "# @title Video 2: Asking a question\n",
        "from ipywidgets import widgets\n",
        "\n",
        "out2 = widgets.Output()\n",
        "with out2:\n",
        "  from IPython.display import IFrame\n",
        "  class BiliVideo(IFrame):\n",
        "      def __init__(self, id, page=1, width=400, height=300, **kwargs):\n",
        "          self.id=id\n",
        "          src = 'https://player.bilibili.com/player.html?bvid={0}&page={1}'.format(id, page)\n",
        "          super(BiliVideo, self).__init__(src, width, height, **kwargs)\n",
        "\n",
        "  video = BiliVideo(id=\"BV1VK4y1M7dc\", width=854, height=480, fs=1)\n",
        "  print('Video available at https://www.bilibili.com/video/{0}'.format(video.id))\n",
        "  display(video)\n",
        "\n",
        "out1 = widgets.Output()\n",
        "with out1:\n",
        "  from IPython.display import YouTubeVideo\n",
        "  video = YouTubeVideo(id=\"4Gl8X_y_uoA\", width=854, height=480, fs=1, rel=0)\n",
        "  print('Video available at https://youtube.com/watch?v=' + video.id)\n",
        "  display(video)\n",
        "\n",
        "out = widgets.Tab([out1, out2])\n",
        "out.set_title(0, 'Youtube')\n",
        "out.set_title(1, 'Bilibili')\n",
        "\n",
        "display(out)"
      ],
      "execution_count": 5,
      "outputs": [
        {
          "output_type": "display_data",
          "data": {
            "application/vnd.jupyter.widget-view+json": {
              "model_id": "589212edd05b4284ae3bda530acbcb83",
              "version_minor": 0,
              "version_major": 2
            },
            "text/plain": [
              "Tab(children=(Output(), Output()), _titles={'0': 'Youtube', '1': 'Bilibili'})"
            ]
          },
          "metadata": {}
        }
      ]
    },
    {
      "cell_type": "code",
      "metadata": {
        "cellView": "form",
        "execution": {
          "iopub.execute_input": "2021-07-05T00:15:24.189092Z",
          "iopub.status.busy": "2021-07-05T00:15:24.186967Z",
          "iopub.status.idle": "2021-07-05T00:15:24.222208Z",
          "shell.execute_reply": "2021-07-05T00:15:24.219078Z"
        },
        "id": "pFLIMh61ZsYy",
        "outputId": "7dcd1f5c-3fe1-400b-b3da-535c453454da",
        "colab": {
          "base_uri": "https://localhost:8080/",
          "height": 302,
          "referenced_widgets": [
            "74d8aec7efcc47518502898c3c03a06c",
            "ba357a694ef44e0181e1419d9910d819",
            "ea955012adf8472bb73d1af1e0acbccc",
            "f5fd35da4cdb414baa3a6707ad2b69ed",
            "062dda70001f4590a1b5e34c3aa3030b",
            "cffeb4e6629f46be94aa99f76e20d21a"
          ]
        }
      },
      "source": [
        "# @title Example projects step 1\n",
        "from ipywidgets import widgets\n",
        "from IPython.display import Markdown\n",
        "\n",
        "markdown1 = '''\n",
        "\n",
        "## Step 1\n",
        "<br>\n",
        "<font size='3pt'>\n",
        "The train illusion occurs when sitting on a train and viewing another train outside the window. Suddenly, the other train *seems* to move, i.e. you experience visual motion of the other train relative to your train. But which train is actually moving?\n",
        "\n",
        "Often people have the wrong percept. In particular, they think their own train might be moving when it's the other train that moves; or vice versa. The illusion is usually resolved once you gain vision of the surroundings that lets you disambiguate the relative motion; or if you experience strong vibrations indicating that it is indeed your own train that is in motion.\n",
        "\n",
        "\n",
        "We asked the following (arbitrary) question for our demo project: \"How do noisy vestibular estimates of motion lead to illusory percepts of self motion?\"\n",
        "</font>\n",
        "'''\n",
        "\n",
        "markdown2 = '''\n",
        "## Step 1\n",
        "<br>\n",
        "\n",
        "<font size='3pt'>\n",
        "The train illusion occurs when sitting on a train and viewing another train outside the window. Suddenly, the other train *seems* to move, i.e. you experience visual motion of the other train relative to your train. But which train is actually moving?\n",
        "\n",
        "Often people mix this up. In particular, they think their own train might be moving when it's the other train that moves; or vice versa. The illusion is usually resolved once you gain vision of the surroundings that lets you disambiguate the relative motion; or if you experience strong vibrations indicating that it is indeed your own train that is in motion.\n",
        "\n",
        "\n",
        "We assume that we have build the train illusion model (see the other example project colab). That model predicts that accumulated sensory evidence from vestibular signals determines the decision of whether self-motion is experienced or not. We now have vestibular neuron data (simulated in our case, but let's pretend) and would like to see if that prediction holds true.\n",
        "\n",
        "The data contains *N* neurons and *M* trials for each of 3 motion conditions: no self-motion, slowly accelerating self-motion and faster accelerating self-motion. In our data,\n",
        "*N* = 40 and *M* = 400.\n",
        "\n",
        "**So we can ask the following question**: \"Does accumulated vestibular neuron activity correlate with self-motion judgements?\"\n",
        "</font>\n",
        "'''\n",
        "\n",
        "out2 = widgets.Output()\n",
        "with out2:\n",
        "  display(Markdown(markdown2))\n",
        "\n",
        "out1 = widgets.Output()\n",
        "with out1:\n",
        "  display(Markdown(markdown1))\n",
        "\n",
        "out = widgets.Tab([out1, out2])\n",
        "out.set_title(0, 'Computational Model')\n",
        "out.set_title(1, 'Data Analysis')\n",
        "\n",
        "display(out)"
      ],
      "execution_count": 6,
      "outputs": [
        {
          "output_type": "display_data",
          "data": {
            "application/vnd.jupyter.widget-view+json": {
              "model_id": "74d8aec7efcc47518502898c3c03a06c",
              "version_minor": 0,
              "version_major": 2
            },
            "text/plain": [
              "Tab(children=(Output(), Output()), _titles={'0': 'Computational Model', '1': 'Data Analysis'})"
            ]
          },
          "metadata": {}
        }
      ]
    },
    {
      "cell_type": "markdown",
      "metadata": {
        "id": "QVe5hyfWZsYy"
      },
      "source": [
        "## Think! 1: Asking your own question \n",
        "\n",
        "*Please discuss the following for about 25 min*\n",
        "\n",
        "You should already have a project idea from your brainstorming yesterday. **Write down the phenomenon, question and goal(s) if you have them.** \n",
        "\n",
        "As a reminder, here is what you should discuss and write down:\n",
        "\n",
        "* What exact aspect of data needs modeling?\n",
        "  * Answer this question clearly and precisely!\n",
        "Otherwise you will get lost (almost guaranteed)\n",
        "  * Write everything down!\n",
        "  * Also identify aspects of data that you do not want to address (yet)\n",
        "* Define an evaluation method!\n",
        "  * How will you know your modeling is good?\n",
        "  * E.g. comparison to specific data (quantitative method of comparison?)\n",
        "* For computational models: think of an experiment that could test your model\n",
        "  * You essentially want your model to interface with this experiment, i.e. you want to simulate this experiment\n",
        "\n",
        "You can find interesting questions by looking for phenomena that differ from your expectations. In *what* way does it differ? *How* could that be explained (starting to think about mechanistic questions and structural hypotheses)? *Why* could it be the way it is? What experiment could you design to investigate this phenomenon? What kind of data would you need?"
      ]
    },
    {
      "cell_type": "markdown",
      "metadata": {
        "id": "EtX-I1tXZsYy"
      },
      "source": [
        "**Make sure to avoid the pitfalls!**\n",
        "<details>\n",
        "<summary>Click here for a recap on pitfalls</summary>\n",
        "\n",
        "Question is too general\n",
        "<ul>\n",
        "  <li>Remember: science advances one small step at the time. Get the small step right…</li>\n",
        "  </ul>\n",
        "\n",
        "Precise aspect of phenomenon you want to model is unclear\n",
        "  <ul>\n",
        "  <li>You will fail to ask a meaningful question</li>\n",
        "  </ul>\n",
        "\n",
        "You have already chosen a toolkit\n",
        "  <ul>\n",
        "  <li>This will prevent you from thinking deeply about the best way to answer your scientific question</li>\n",
        "  </ul>\n",
        "\n",
        "You don’t have a clear goal\n",
        "  <ul>\n",
        "  <li>What do you want to get out of modeling?</li>\n",
        "  </ul>\n",
        "\n",
        "You don’t have a potential experiment in mind\n",
        "  <ul>\n",
        "  <li>This will help concretize your objectives and think through the logic behind your goal</li>\n",
        "  </ul>\n",
        "</details>"
      ]
    },
    {
      "cell_type": "markdown",
      "metadata": {
        "id": "NIaKRmZSZsYz"
      },
      "source": [
        "**Note**\n",
        "\n",
        "The hardest part is Step 1. Once that is properly set up, all other should be easier. **BUT**: often you think that Step 1 is done only to figure out in later steps (anywhere really) that you were not as clear on your question and goal than you thought. Revisiting Step 1 is frequent necessity. Don't feel bad about it. You can revisit Step 1 later; for now, let's move on to the nest step."
      ]
    },
    {
      "cell_type": "markdown",
      "metadata": {
        "id": "WaKw4SSUZsYz"
      },
      "source": [
        "----\n",
        "# Step 2: Understanding the state of the art & background\n"
      ]
    },
    {
      "cell_type": "markdown",
      "metadata": {
        "id": "pkm1feVLZsYz"
      },
      "source": [
        "Here you will do a literature review (**to be done AFTER this tutorial!**)."
      ]
    },
    {
      "cell_type": "code",
      "metadata": {
        "execution": {
          "iopub.execute_input": "2021-07-05T00:15:24.236432Z",
          "iopub.status.busy": "2021-07-05T00:15:24.234719Z",
          "iopub.status.idle": "2021-07-05T00:15:24.294363Z",
          "shell.execute_reply": "2021-07-05T00:15:24.291968Z"
        },
        "id": "bqg6ecImZsYz",
        "cellView": "form",
        "outputId": "ca460a92-7c19-4215-8b75-b7ded7fd2dd8",
        "colab": {
          "base_uri": "https://localhost:8080/",
          "height": 582,
          "referenced_widgets": [
            "1b20032fd308475eb3e4687e7133697b",
            "441089b3c59644a79876863481da0fed",
            "ca5bf7a2db114d09bc76b5ed5bb390a5",
            "b526e44aa1204ab5a73b4424aee29afe",
            "7a4994fc18eb4394adc2bf122f48bc61",
            "ad4b8719656e4abe8684b7e9735d3999"
          ]
        }
      },
      "source": [
        "# @title Video 3: Literature Review & Background Knowledge\n",
        "from ipywidgets import widgets\n",
        "\n",
        "out2 = widgets.Output()\n",
        "with out2:\n",
        "  from IPython.display import IFrame\n",
        "  class BiliVideo(IFrame):\n",
        "      def __init__(self, id, page=1, width=400, height=300, **kwargs):\n",
        "          self.id=id\n",
        "          src = 'https://player.bilibili.com/player.html?bvid={0}&page={1}'.format(id, page)\n",
        "          super(BiliVideo, self).__init__(src, width, height, **kwargs)\n",
        "\n",
        "  video = BiliVideo(id=\"BV1by4y1M7TZ\", width=854, height=480, fs=1)\n",
        "  print('Video available at https://www.bilibili.com/video/{0}'.format(video.id))\n",
        "  display(video)\n",
        "\n",
        "out1 = widgets.Output()\n",
        "with out1:\n",
        "  from IPython.display import YouTubeVideo\n",
        "  video = YouTubeVideo(id=\"d8zriLaMc14\", width=854, height=480, fs=1, rel=0)\n",
        "  print('Video available at https://youtube.com/watch?v=' + video.id)\n",
        "  display(video)\n",
        "\n",
        "out = widgets.Tab([out1, out2])\n",
        "out.set_title(0, 'Youtube')\n",
        "out.set_title(1, 'Bilibili')\n",
        "\n",
        "display(out)"
      ],
      "execution_count": 7,
      "outputs": [
        {
          "output_type": "display_data",
          "data": {
            "application/vnd.jupyter.widget-view+json": {
              "model_id": "1b20032fd308475eb3e4687e7133697b",
              "version_minor": 0,
              "version_major": 2
            },
            "text/plain": [
              "Tab(children=(Output(), Output()), _titles={'0': 'Youtube', '1': 'Bilibili'})"
            ]
          },
          "metadata": {}
        }
      ]
    },
    {
      "cell_type": "code",
      "metadata": {
        "cellView": "form",
        "execution": {
          "iopub.execute_input": "2021-07-05T00:15:24.311431Z",
          "iopub.status.busy": "2021-07-05T00:15:24.302756Z",
          "iopub.status.idle": "2021-07-05T00:15:25.494109Z",
          "shell.execute_reply": "2021-07-05T00:15:25.489934Z"
        },
        "id": "4hnjCvBVZsY0",
        "outputId": "b131d854-8093-4178-b065-1cff672877d7",
        "colab": {
          "base_uri": "https://localhost:8080/",
          "height": 216,
          "referenced_widgets": [
            "0d45d5873d294abfa12cce6c1217d5ea",
            "de39d0df022e40ff8d2dfa87cb4afd85",
            "3e7572fa53954dc5b6622a87e04b0842",
            "57ebb29483d84a2a9e86c7b1b84c7251",
            "5cf7de454b364bc393ca14ab2f481e44",
            "6545651d7e274928953e7af6edb0ec53"
          ]
        }
      },
      "source": [
        "# @title Example projects step 2\n",
        "from ipywidgets import widgets\n",
        "from IPython.display import Markdown\n",
        "\n",
        "markdown1 = '''\n",
        "\n",
        "## Step 2\n",
        "\n",
        "<br>\n",
        "<font size='3pt'>\n",
        "\n",
        "You have learned all about the vestibular system in the Intro video. This is also where you would do a literature search to learn more about what's known about self-motion perception and vestibular signals. You would also want to examine any attempts to model self-motion, perceptual decision making and vestibular processing.</font>\n",
        "'''\n",
        "\n",
        "markdown21 = '''\n",
        "## Step 2\n",
        "\n",
        "<br>\n",
        "<font size='3pt'>\n",
        "While it seems a well-known fact that vestibular signals are noisy, we should check if we can also find this in the literature.\n",
        "\n",
        "Let's also see what's in our data, there should be a 4d array called `spikes` that has spike counts (positive integers), a 2d array called `perception` with self-motion judgements (0=no motion or 1=motion). Let's see what this data looks like:\n",
        "\n",
        "</font><br>\n",
        "'''\n",
        "\n",
        "markdown22 = '''\n",
        "<br>\n",
        "<font size='3pt'>\n",
        "In the `spikes` array, we see our 3 acceleration conditions (first dimension), with 400 trials each (second dimensions) and simultaneous recordings from 40 neurons (third dimension), across 3 seconds in 10 ms bins (fourth dimension). The first two dimensions are also there in the `perception` array.\n",
        "\n",
        "Perfect perception would have looked like [0, 1, 1]. The average judgements are far from correct (lots of self-motion illusions) but they do make some sense: it's closer to 0 in the no-motion condition and closer to 1 in both of the real-motion conditions.\n",
        "\n",
        "The idea of our project is that the vestibular signals are noisy so that they might be mis-interpreted by the brain. Let's see if we can reproduce the stimuli from the data:\n",
        "</font>\n",
        "<br>\n",
        "'''\n",
        "\n",
        "markdown23 = '''\n",
        "<br>\n",
        "<font size='3pt'>\n",
        "Blue is the no-motion condition, and produces flat average spike counts across the 3 s time interval. The orange and green line do show a bell-shaped curve that corresponds to the acceleration profile. But there also seems to be considerable noise: exactly what we need. Let's see what the spike trains for a single trial look like:\n",
        "</font>\n",
        "<br>\n",
        "'''\n",
        "\n",
        "markdown24 = '''\n",
        "<br>\n",
        "<font size='3pt'>\n",
        "You can change the trial number in the bit of code above to compare what the rasterplots look like in different trials. You'll notice that they all look kind of the same: the 3 conditions are very hard (impossible?) to distinguish by eye-balling.\n",
        "\n",
        "Now that we have seen the data, let's see if we can extract self-motion judgements from the spike counts.\n",
        "</font>\n",
        "<br>\n",
        "'''\n",
        "\n",
        "display(Markdown(r\"\"))\n",
        "\n",
        "out2 = widgets.Output()\n",
        "with out2:\n",
        "  display(Markdown(markdown21))\n",
        "  print(f'The shape of `spikes` is: {np.shape(spikes)}')\n",
        "  print(f'The shape of `perception` is: {np.shape(perception)}')\n",
        "  print(f'The mean of `perception` is: {np.mean(perception, axis=1)}')\n",
        "  display(Markdown(markdown22))\n",
        "\n",
        "  for move_no in range(3):\n",
        "    plt.plot(np.arange(-1.5,1.5+(1/100),(1/100)),np.mean(np.mean(spikes[move_no,:,:,:], axis=0), axis=0), label=['no motion', '$1 m/s^2$', '$2 m/s^2$'][move_no])\n",
        "  plt.xlabel('time [s]');\n",
        "  plt.ylabel('averaged spike counts');\n",
        "  plt.legend()\n",
        "  plt.show()\n",
        "\n",
        "  display(Markdown(markdown23))\n",
        "\n",
        "  for move in range(3):\n",
        "    rasterplot(spikes = spikes, movement = move, trial = 0)\n",
        "  plt.show()\n",
        "\n",
        "  display(Markdown(markdown24))\n",
        "\n",
        "out1 = widgets.Output()\n",
        "with out1:\n",
        "  display(Markdown(markdown1))\n",
        "\n",
        "out = widgets.Tab([out1, out2])\n",
        "out.set_title(0, 'Computational Model')\n",
        "out.set_title(1, 'Data Analysis')\n",
        "\n",
        "display(out)"
      ],
      "execution_count": 8,
      "outputs": [
        {
          "output_type": "display_data",
          "data": {
            "text/markdown": "",
            "text/plain": [
              "<IPython.core.display.Markdown object>"
            ]
          },
          "metadata": {}
        },
        {
          "output_type": "display_data",
          "data": {
            "application/vnd.jupyter.widget-view+json": {
              "model_id": "0d45d5873d294abfa12cce6c1217d5ea",
              "version_minor": 0,
              "version_major": 2
            },
            "text/plain": [
              "Tab(children=(Output(), Output()), _titles={'0': 'Computational Model', '1': 'Data Analysis'})"
            ]
          },
          "metadata": {}
        }
      ]
    },
    {
      "cell_type": "markdown",
      "metadata": {
        "id": "lyIZfyPQZsY0"
      },
      "source": [
        "Here you will do a literature review (**to be done AFTER this tutorial!**). For the projects, do not spend too much time on this. A thorough literature review could take weeks or months depending on your prior knowledge of the field...\n",
        "\n",
        "The important thing for your project here is not to exhaustively survey the literature but rather to learn the process of modeling. 1-2 days of digging into the literature should be enough!\n",
        "\n",
        "**Here is what you should get out of it**:\n",
        "* Survey the literature\n",
        "  * What’s known?\n",
        "  * What has already been done?\n",
        "  * Previous models as a starting point?\n",
        "  * What hypotheses have been emitted in the field?\n",
        "  * Are there any alternative / complementary modeling approaches?\n",
        "* What skill sets are required?\n",
        "  * Do I need learn something before I can start?\n",
        "  * Ensure that no important aspect is missed\n",
        "* Potentially provides specific data sets / alternative modeling approaches for comparison\n"
      ]
    },
    {
      "cell_type": "markdown",
      "metadata": {
        "id": "50XYaZ8vZsY0"
      },
      "source": [
        "**Do this AFTER the tutorial**"
      ]
    },
    {
      "cell_type": "markdown",
      "metadata": {
        "id": "Gyph643GZsY0"
      },
      "source": [
        "----\n",
        "# Step 3: Determining the basic ingredients\n"
      ]
    },
    {
      "cell_type": "code",
      "metadata": {
        "execution": {
          "iopub.execute_input": "2021-07-05T00:15:25.587243Z",
          "iopub.status.busy": "2021-07-05T00:15:25.585009Z",
          "iopub.status.idle": "2021-07-05T00:15:25.651248Z",
          "shell.execute_reply": "2021-07-05T00:15:25.650728Z"
        },
        "id": "SVLSMW_VZsY0",
        "cellView": "form",
        "outputId": "5a1ed587-2bbd-4b77-eaba-dac55071fcfd",
        "colab": {
          "base_uri": "https://localhost:8080/",
          "height": 582,
          "referenced_widgets": [
            "12026de6a2414b37b1343e7c3b4ab8b3",
            "51f9e9d19b394b9faa862a45ddb6197f",
            "b5047c3a49854169ba0630109dcfe780",
            "79809fd9e1734813a73a1e7543d2737b",
            "9553428304bc4d97b71784af635bde9b",
            "165bdad2af364140ab9d20374cdb6e44"
          ]
        }
      },
      "source": [
        "# @title Video 4: Determining basic ingredients\n",
        "from ipywidgets import widgets\n",
        "\n",
        "out2 = widgets.Output()\n",
        "with out2:\n",
        "  from IPython.display import IFrame\n",
        "  class BiliVideo(IFrame):\n",
        "      def __init__(self, id, page=1, width=400, height=300, **kwargs):\n",
        "          self.id=id\n",
        "          src = 'https://player.bilibili.com/player.html?bvid={0}&page={1}'.format(id, page)\n",
        "          super(BiliVideo, self).__init__(src, width, height, **kwargs)\n",
        "\n",
        "  video = BiliVideo(id=\"BV1Mq4y1x77s\", width=854, height=480, fs=1)\n",
        "  print('Video available at https://www.bilibili.com/video/{0}'.format(video.id))\n",
        "  display(video)\n",
        "\n",
        "out1 = widgets.Output()\n",
        "with out1:\n",
        "  from IPython.display import YouTubeVideo\n",
        "  video = YouTubeVideo(id=\"XpEj-p7JkFE\", width=854, height=480, fs=1, rel=0)\n",
        "  print('Video available at https://youtube.com/watch?v=' + video.id)\n",
        "  display(video)\n",
        "\n",
        "out = widgets.Tab([out1, out2])\n",
        "out.set_title(0, 'Youtube')\n",
        "out.set_title(1, 'Bilibili')\n",
        "\n",
        "display(out)"
      ],
      "execution_count": 9,
      "outputs": [
        {
          "output_type": "display_data",
          "data": {
            "application/vnd.jupyter.widget-view+json": {
              "model_id": "12026de6a2414b37b1343e7c3b4ab8b3",
              "version_minor": 0,
              "version_major": 2
            },
            "text/plain": [
              "Tab(children=(Output(), Output()), _titles={'0': 'Youtube', '1': 'Bilibili'})"
            ]
          },
          "metadata": {}
        }
      ]
    },
    {
      "cell_type": "code",
      "metadata": {
        "cellView": "form",
        "execution": {
          "iopub.execute_input": "2021-07-05T00:15:25.667059Z",
          "iopub.status.busy": "2021-07-05T00:15:25.666418Z",
          "iopub.status.idle": "2021-07-05T00:15:25.699592Z",
          "shell.execute_reply": "2021-07-05T00:15:25.695501Z"
        },
        "id": "wI1uk9TeZsY0",
        "outputId": "75de9581-67b1-400d-c869-4d22ab3d9176",
        "colab": {
          "base_uri": "https://localhost:8080/",
          "height": 299,
          "referenced_widgets": [
            "f3f7522c4c7244769ef15d9637b69cab",
            "cc88d9cea33a4878be2a1715e13082c6",
            "b3d816851f82459c9936fe85e2785371",
            "814e44faf35d45b090ed8af064066d52",
            "cba8c362e21a4aa7bca5f3297e2defb9",
            "6e0c57ea076a47ed8e605689350e34fd"
          ]
        }
      },
      "source": [
        "# @title Example projects step 3\n",
        "from ipywidgets import widgets\n",
        "from IPython.display import Markdown, Math\n",
        "\n",
        "markdown1 = r'''\n",
        "\n",
        "## Step 3\n",
        "<br>\n",
        "<font size='3pt'>\n",
        "We determined that we probably needed the following ingredients for our model:\n",
        "\n",
        "* Vestibular input: *v(t)*\n",
        "\n",
        "* Binary decision output: *d* - time dependent?\n",
        "\n",
        "* Decision threshold: θ\n",
        "\n",
        "* A filter (maybe running average?): *f*\n",
        "\n",
        "* An integration mechanism to get from vestibular acceleration to sensed velocity: ∫\n",
        "\n",
        "</font>\n",
        "'''\n",
        "\n",
        "markdown2 = '''\n",
        "## Step 3\n",
        "<br>\n",
        "<font size='3pt'>\n",
        "In order to address our question we need to design an appropriate computational data analysis pipeline. We did some brainstorming and think that we need to somehow extract the self-motion judgements from the spike counts of our neurons. Based on that, our algorithm needs to make a decision: was there self motion or not? This is a classical 2-choice classification problem. We will have to transform the raw spike data into the right input for the algorithm (spike pre-processing).\n",
        "\n",
        "So we determined that we probably needed the following ingredients:\n",
        "\n",
        "* spike trains *S* of 3-second trials (10ms spike bins)\n",
        "* ground truth movement *m<sub>r</sub>* (real) and perceived movement *m<sub>p</sub>*\n",
        "* some form of classifier *C* giving us a classification *c*\n",
        "* spike pre-processing\n",
        "</font>\n",
        "'''\n",
        "\n",
        "# No idea why this is necessary but math doesn't render properly without it\n",
        "display(Markdown(r\"\"))\n",
        "\n",
        "\n",
        "out2 = widgets.Output()\n",
        "with out2:\n",
        "  display(Markdown(markdown2))\n",
        "\n",
        "\n",
        "out1 = widgets.Output()\n",
        "with out1:\n",
        "  display(Markdown(markdown1))\n",
        "\n",
        "out = widgets.Tab([out1, out2])\n",
        "out.set_title(0, 'Computational Model')\n",
        "out.set_title(1, 'Data Analysis')\n",
        "\n",
        "display(out)"
      ],
      "execution_count": 10,
      "outputs": [
        {
          "output_type": "display_data",
          "data": {
            "text/markdown": "",
            "text/plain": [
              "<IPython.core.display.Markdown object>"
            ]
          },
          "metadata": {}
        },
        {
          "output_type": "display_data",
          "data": {
            "application/vnd.jupyter.widget-view+json": {
              "model_id": "f3f7522c4c7244769ef15d9637b69cab",
              "version_minor": 0,
              "version_major": 2
            },
            "text/plain": [
              "Tab(children=(Output(), Output()), _titles={'0': 'Computational Model', '1': 'Data Analysis'})"
            ]
          },
          "metadata": {}
        }
      ]
    },
    {
      "cell_type": "markdown",
      "metadata": {
        "id": "WKA50uUBZsY1"
      },
      "source": [
        "## Think! 3: Determine your basic ingredients \n",
        "\n",
        "*Please discuss the following for about 25 min*\n",
        "\n",
        "This will allow you to think deeper about what your modeling project will need. It's a crucial step before you can formulate hypotheses because you first need to understand what your modeling approach will need. There are 2 aspects you want to think about:\n",
        "\n",
        "\n",
        "\n",
        "1.   What parameters / variables are needed?] \n",
        "      * Constants?\n",
        "      * Do they change over space, time, conditions…?\n",
        "      * What details can be omitted?\n",
        "      * Constraints, initial conditions?\n",
        "      * Model inputs / outputs?\n",
        "2.   Variables needed to describe the process to be modelled?\n",
        "      * Brainstorming!\n",
        "      * What can be observed / measured?  latent variables?    \n",
        "      * Where do these variables come from?\n",
        "      * Do any abstract concepts need to be instantiated as variables?\n",
        "        * E.g. value, utility, uncertainty, cost, salience, goals, strategy, plant, dynamics\n",
        "        * Instantiate them so that they relate to potential measurements!\n",
        "\n",
        "This is a step where your prior knowledge and intuition is tested. You want to end up with an inventory of *specific* concepts and/or interactions that need to be instantiated. "
      ]
    },
    {
      "cell_type": "markdown",
      "metadata": {
        "id": "HJNmV8RuZsY1"
      },
      "source": [
        "**Make sure to avoid the pitfalls!**\n",
        "<details>\n",
        "<summary>Click here for a recap on pitfalls</summary>\n",
        "\n",
        "I’m experienced, I don’t need to think about ingredients anymore\n",
        "  <ul>\n",
        "  <li>Or so you think…</li>\n",
        "  </ul>\n",
        "\n",
        "I can’t think of any ingredients\n",
        "  <ul>\n",
        "  <li>Think about the potential experiment. What are your stimuli? What parameters? What would you control? What do you measure?</li>\n",
        "  </ul>\n",
        "\n",
        "I have all inputs and outputs\n",
        "  <ul>\n",
        "  <li>Good! But what will link them? Thinking about that will start shaping your model and hypotheses</li>\n",
        "  </ul>\n",
        "\n",
        "I can’t think of any links (= mechanisms)\n",
        "  <ul>\n",
        "  <li>You will acquire a library of potential mechanisms as you keep modeling and learning</li>\n",
        "  <li>But the literature will often give you hints through hypotheses</li>\n",
        "  <li>If you still can't think of links, then maybe you're missing ingredients?</li>\n",
        "  </ul>\n",
        "</details>"
      ]
    },
    {
      "cell_type": "markdown",
      "metadata": {
        "id": "Igt6p7vUZsY1"
      },
      "source": [
        "----\n",
        "# Step 4: Formulating specific, mathematically defined hypotheses\n",
        "\n"
      ]
    },
    {
      "cell_type": "code",
      "metadata": {
        "execution": {
          "iopub.execute_input": "2021-07-05T00:15:25.712183Z",
          "iopub.status.busy": "2021-07-05T00:15:25.707428Z",
          "iopub.status.idle": "2021-07-05T00:15:25.784817Z",
          "shell.execute_reply": "2021-07-05T00:15:25.780346Z"
        },
        "id": "xAM6d4m_ZsY1",
        "cellView": "form",
        "outputId": "7ebf402c-bbfe-4d9c-c160-679ada0547d0",
        "colab": {
          "base_uri": "https://localhost:8080/",
          "height": 582,
          "referenced_widgets": [
            "a628ca0628be46f391f85a2d0be1fd51",
            "b934b1c8f5e2433091ff87c3c8828a42",
            "5039cddd62974d67bebcbffd29989045",
            "6b2724d6e921442b98940316472489f6",
            "39379743761e4295908efe13bcb28fb2",
            "26f7b0a877e547d9a809ef9ce6c24444"
          ]
        }
      },
      "source": [
        "# @title Video 5: Formulating a hypothesis\n",
        "from ipywidgets import widgets\n",
        "\n",
        "out2 = widgets.Output()\n",
        "with out2:\n",
        "  from IPython.display import IFrame\n",
        "  class BiliVideo(IFrame):\n",
        "      def __init__(self, id, page=1, width=400, height=300, **kwargs):\n",
        "          self.id=id\n",
        "          src = 'https://player.bilibili.com/player.html?bvid={0}&page={1}'.format(id, page)\n",
        "          super(BiliVideo, self).__init__(src, width, height, **kwargs)\n",
        "\n",
        "  video = BiliVideo(id=\"BV1fh411h7aX\", width=854, height=480, fs=1)\n",
        "  print('Video available at https://www.bilibili.com/video/{0}'.format(video.id))\n",
        "  display(video)\n",
        "\n",
        "out1 = widgets.Output()\n",
        "with out1:\n",
        "  from IPython.display import YouTubeVideo\n",
        "  video = YouTubeVideo(id=\"nHXMSXLcd9A\", width=854, height=480, fs=1, rel=0)\n",
        "  print('Video available at https://youtube.com/watch?v=' + video.id)\n",
        "  display(video)\n",
        "\n",
        "out = widgets.Tab([out1, out2])\n",
        "out.set_title(0, 'Youtube')\n",
        "out.set_title(1, 'Bilibili')\n",
        "\n",
        "display(out)"
      ],
      "execution_count": 11,
      "outputs": [
        {
          "output_type": "display_data",
          "data": {
            "application/vnd.jupyter.widget-view+json": {
              "model_id": "a628ca0628be46f391f85a2d0be1fd51",
              "version_minor": 0,
              "version_major": 2
            },
            "text/plain": [
              "Tab(children=(Output(), Output()), _titles={'0': 'Youtube', '1': 'Bilibili'})"
            ]
          },
          "metadata": {}
        }
      ]
    },
    {
      "cell_type": "code",
      "metadata": {
        "cellView": "form",
        "execution": {
          "iopub.execute_input": "2021-07-05T00:15:25.796254Z",
          "iopub.status.busy": "2021-07-05T00:15:25.793780Z",
          "iopub.status.idle": "2021-07-05T00:15:25.828059Z",
          "shell.execute_reply": "2021-07-05T00:15:25.824204Z"
        },
        "id": "WAHr3TpwZsY1",
        "outputId": "14beb2d3-d532-4222-c8b1-bf3387e1fd8e",
        "colab": {
          "base_uri": "https://localhost:8080/",
          "height": 442,
          "referenced_widgets": [
            "d352ea7323a2409eb841a20add09882a",
            "39a696a3c39a4b3a9d48170703f70430",
            "cbf73bc42269418bb445968e8714f03b",
            "d5af0538b77c4d8ba470f9a3371bba06",
            "6f4184f16d354169ab07be6ee694c52c",
            "029626f13043413e98d3a7923423d123"
          ]
        }
      },
      "source": [
        "# @title Example projects step 4\n",
        "from ipywidgets import widgets\n",
        "from IPython.display import Markdown\n",
        "\n",
        "# Not writing in latex because that didn't render in jupyterbook\n",
        "\n",
        "markdown1 = r'''\n",
        "\n",
        "## Step 4\n",
        "<br>\n",
        "<font size='3pt'>\n",
        "Our main hypothesis is that the strength of the illusion has a linear relationship to the amplitude of vestibular noise.\n",
        "\n",
        "Mathematically, this would write as\n",
        "\n",
        "<div align=\"center\">\n",
        "<em>S</em> = <em>k</em> ⋅ <em>N</em>\n",
        "</div>\n",
        "\n",
        "where *S* is the illusion strength and *N* is the noise level, and *k* is a free parameter.\n",
        ">we could simply use the frequency of occurance across repetitions as the \"strength of the illusion\"\n",
        "\n",
        "We would get the noise as the standard deviation of *v(t)*, i.e.\n",
        "\n",
        "<div align=\"center\">\n",
        "<em>N</em> = <b>E</b>[<em>v(t)</em><sup>2</sup>],\n",
        "</div>\n",
        "\n",
        " where **E** stands for the expected value.\n",
        "\n",
        "Do we need to take the average across time points?\n",
        "> doesn't really matter because we have the generative process, so we can just use the σ that we define\n",
        "</font>\n",
        "'''\n",
        "\n",
        "markdown2 = '''\n",
        "## Step 4\n",
        "<br>\n",
        "\n",
        "<font size='3pt'>\n",
        "We think that noise in the signal drives whether or not people perceive self motion. Maybe the brain uses the strongest signal at peak acceleration to decide on self motion, but we actually think it is better to accumulate evidence over some period of time. We want to test this. The noise idea also means that when the signal-to-noise ratio is higher, the brain does better, and this would be in the faster acceleration condition. We want to test this too.\n",
        "\n",
        "We came up with the following hypotheses focussing on specific details of our overall research question:\n",
        "\n",
        "* Hyp 1: Accumulated vestibular spike rates explain self-motion judgements better than average spike rates around peak acceleration.\n",
        "* Hyp 2: Classification performance should be better for faster vs slower self-motion.\n",
        "\n",
        "> There are many other hypotheses you could come up with, but for simplicity, let's go with those.\n",
        "\n",
        "Mathematically, we can write our hypotheses as follows (using our above ingredients):\n",
        "* Hyp 1: **E**(c<sub>accum</sub>) > **E**(c<sub>win</sub>)\n",
        "* Hyp 2: **E**(c<sub>fast</sub>) > **E**(c<sub>slow</sub>)\n",
        "\n",
        "Where **E** denotes taking the expected value (in this case the mean) of its argument: classification outcome in a given trial type.\n",
        "</font>\n",
        "'''\n",
        "\n",
        "# No idea why this is necessary but math doesn't render properly without it\n",
        "display(Markdown(r\"\"))\n",
        "\n",
        "out2 = widgets.Output()\n",
        "with out2:\n",
        "  display(Markdown(markdown2))\n",
        "\n",
        "out1 = widgets.Output()\n",
        "with out1:\n",
        "  display(Markdown(markdown1))\n",
        "\n",
        "out = widgets.Tab([out1, out2])\n",
        "out.set_title(0, 'Computational Model')\n",
        "out.set_title(1, 'Data Analysis')\n",
        "\n",
        "display(out)"
      ],
      "execution_count": 12,
      "outputs": [
        {
          "output_type": "display_data",
          "data": {
            "text/markdown": "",
            "text/plain": [
              "<IPython.core.display.Markdown object>"
            ]
          },
          "metadata": {}
        },
        {
          "output_type": "display_data",
          "data": {
            "application/vnd.jupyter.widget-view+json": {
              "model_id": "d352ea7323a2409eb841a20add09882a",
              "version_minor": 0,
              "version_major": 2
            },
            "text/plain": [
              "Tab(children=(Output(), Output()), _titles={'0': 'Computational Model', '1': 'Data Analysis'})"
            ]
          },
          "metadata": {}
        }
      ]
    },
    {
      "cell_type": "markdown",
      "metadata": {
        "id": "KNwRNUdjZsY2"
      },
      "source": [
        "## Think! 4: Formulating your hypothesis \n",
        "\n",
        "\n",
        "*Please discuss the following for about 25 min*\n",
        "\n",
        "Once you have your question and goal lines up, you have done a literature review (let's assume for now) and you have thought about ingredients needed for your model, you're now ready to start thinking about *specific* hypotheses.\n",
        "\n",
        "Formulating hypotheses really consists of two consecutive steps:\n",
        "\n",
        "\n",
        "\n",
        "1.   You think about the hypotheses in words by relating ingredients identified in Step 3\n",
        "      * What is the model mechanism expected to do? \n",
        "      * How are different parameters expected to influence model results?\n",
        "2.   You then express these hypotheses in mathematical language by giving the ingredients identified in Step 3 specific variable names. \n",
        "      * Be explicit, e.g. $y(t)=f(x(t),k)$ but $z(t)$ doesn’t influence $y$\n",
        "\n",
        "\n",
        "\n",
        "There are also \"structural hypotheses\" that make assumptions on what model components you hypothesize will be crucial to capture the phenomenon at hand. \n",
        "\n",
        "**Important**: Formulating the hypotheses is the last step before starting to model. This step determines the model approach and ingredients. It provides a more detailed description of the question / goal from Step 1. The more precise the hypotheses, the easier the model will be to justify. \n"
      ]
    },
    {
      "cell_type": "markdown",
      "metadata": {
        "id": "3LabBcsIZsY2"
      },
      "source": [
        "**Make sure to avoid the pitfalls!**\n",
        "<details>\n",
        "<summary>Click here for a recap on pitfalls</summary>\n",
        "\n",
        "I don’t need hypotheses, I will just play around with the model\n",
        "  <ul>\n",
        "  <li>Hypotheses help determine and specify goals. You can (and should) still play…</li>\n",
        "  </ul>\n",
        "\n",
        "My hypotheses don’t match my question (or vice versa)\n",
        "  <ul>\n",
        "  <li>This is a normal part of the process!</li>\n",
        "  <li>You need to loop back to Step 1 and revisit your question / phenomenon / goals</li>\n",
        "  </ul>\n",
        "\n",
        "I can’t write down a math hypothesis\n",
        "  <ul>\n",
        "  <li>Often that means you lack ingredients and/or clarity on the hypothesis</li>\n",
        "  <li>OR: you have a “structural” hypothesis, i.e. you expect a certain model component to be crucial in explaining the phenomenon / answering the question</li>\n",
        "  </ul>\n",
        "</details>"
      ]
    },
    {
      "cell_type": "markdown",
      "metadata": {
        "id": "nvl9FUpZZsY2"
      },
      "source": [
        "----\n",
        "# Summary\n",
        "\n",
        "In this tutorial, we worked through some steps of the process of modeling. \n",
        "\n",
        "- We defined a phenomenon and formulated a question (step 1)\n",
        "- We collected information the state-of-the-art about the topic (step 2)\n",
        "- We determined the basic ingredients (step 3), and used these to formulate a specific mathematically defined hypothesis (step 4)\n",
        "\n",
        "You are now in a position that you could start modeling without getting lost. But remember: you might have to work through steps 1-4 again after doing a literature review and/or if there were other pitfalls you identified along the way (which is totally normal)."
      ]
    },
    {
      "cell_type": "markdown",
      "metadata": {
        "id": "ZjMcKicVZsY2"
      },
      "source": [
        "----\n",
        "# Next steps\n",
        "In [a follow-up notebook](https://compneuro.neuromatch.io/projects/modelingsteps/ModelingSteps_5through10.html), we will continue with the steps 5-10 to guide you through the implementation and completion stages of the projects. You can also find this in the Modeling Steps section of the Project Booklet."
      ]
    },
    {
      "cell_type": "markdown",
      "metadata": {
        "id": "6pWqucsvZsY2"
      },
      "source": [
        "----\n",
        "# Reading\n",
        "Blohm G, Kording KP, Schrater PR (2020). _A How-to-Model Guide for Neuroscience_. eNeuro, 7(1) ENEURO.0352-19.2019. https://doi.org/10.1523/ENEURO.0352-19.2019 \n",
        "\n",
        "Kording KP, Blohm G, Schrater P, Kay K (2020). _Appreciating the variety of goals in computational neuroscience_. Neurons, Behavior, Data Analysis, and Theory 3(6). https://nbdt.scholasticahq.com/article/16723-appreciating-the-variety-of-goals-in-computational-neuroscience\n",
        "\n",
        "Schrater PR, Peters MK, Kording KP, Blohm G (2019). _Modeling in Neuroscience as a Decision Process_. OSF pre-print. https://osf.io/w56vt/"
      ]
    }
  ]
}