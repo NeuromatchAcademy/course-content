{
  "cells": [
    {
      "cell_type": "markdown",
      "metadata": {
        "id": "view-in-github",
        "colab_type": "text"
      },
      "source": [
        "<a href=\"https://colab.research.google.com/github/NeuromatchAcademy/course-content/blob/remove_sponsors/projects/modelingsteps/ModelingSteps_1through4.ipynb\" target=\"_parent\"><img src=\"https://colab.research.google.com/assets/colab-badge.svg\" alt=\"Open In Colab\"/></a>"
      ]
    },
    {
      "cell_type": "markdown",
      "metadata": {
        "execution": {},
        "id": "DrAxRLf5R37y"
      },
      "source": [
        "# Modeling Steps 1 - 4\n",
        "\n",
        "**By Neuromatch Academy**\n",
        "\n",
        "__Content creators:__ Marius 't Hart, Megan Peters, Paul Schrater, Gunnar Blohm\n",
        "\n",
        "__Content reviewers:__ Eric DeWitt, Tara van Viegen, Marius Pachitariu\n",
        "\n",
        "__Production editors:__ Ella Batty\n",
        "\n",
        "<br>\n",
        "\n",
        "**Note:** that this is the same as W1D2 Tutorial 1 - we provide it here as well for ease of access."
      ]
    },
    {
      "cell_type": "markdown",
      "metadata": {
        "execution": {},
        "id": "-c_Lfr-lR372"
      },
      "source": [
        "---\n",
        "# Tutorial objectives\n",
        "\n",
        "Yesterday you gained some understanding of what models can buy us in neuroscience. But how do you build a model? Today, we will try to clarify the process of computational modeling, by thinking through the logic of modeling based on your project ideas.\n",
        "\n",
        "We assume that you have a general idea of a project in mind, i.e., a preliminary question, and/or phenomenon you would like to understand. You should have started developing a project idea yesterday with [this brainstorming demo](https://youtu.be/H6rSlZzlrgQ). Maybe you have a goal in mind. We will now work through the 4 first steps of modeling ([Blohm et al., 2019](https://doi.org/10.1523/ENEURO.0352-19.2019)):\n",
        "\n",
        "**Framing the question**\n",
        "\n",
        "1. finding a phenomenon and a question to ask about it\n",
        "2. understanding the state of the art\n",
        "3. determining the basic ingredients\n",
        "4. formulating specific, mathematically defined hypotheses\n",
        "\n",
        "The remaining steps 5-10 will be covered in a second notebook that you can consult throughout the modeling process when you work on your projects.\n",
        "\n",
        "**Importantly**, we will guide you through Steps 1-4 today. After you do more work on projects, you likely have to revite some or all of these steps *before* you move on the the remaining steps of modeling.\n",
        "\n",
        "**Note**: there will be no coding today. It's important that you think through the different steps of this how-to-model tutorial to maximize your chance of succeeding in your group projects. **Also**: \"Models\" here can be data analysis pipelines, not just computational models...\n",
        "\n",
        "**Think! Sections**: All activities you should perform are labeled with **Think!**. These are discussion based exercises and can be found in the Table of Content on the left side of the notebook. Make sure you complete all within a section before moving on!\n",
        "\n",
        "### Demos\n",
        "We will demo the modeling process to you based on the train illusion. The introductory video will explain the phenomenon to you. Then we will do roleplay to showcase some common pitfalls to you based on a computational modeling project around the train illusion. In addition to the computational model, we will also provide a data neuroscience project example to you so you can appreciate similarities and differences.\n",
        "\n",
        "Enjoy!"
      ]
    },
    {
      "cell_type": "code",
      "execution_count": null,
      "metadata": {
        "cellView": "form",
        "execution": {},
        "id": "dRAzCyNaR375",
        "outputId": "d6b2704b-5e59-471d-f7ab-3909b18fd70d",
        "colab": {
          "referenced_widgets": [
            "240021b8cc2c4e2ba5656d33c144a486"
          ]
        }
      },
      "outputs": [
        {
          "data": {
            "application/vnd.jupyter.widget-view+json": {
              "model_id": "240021b8cc2c4e2ba5656d33c144a486",
              "version_major": 2,
              "version_minor": 0
            },
            "text/plain": [
              "Tab(children=(Output(), Output()), _titles={'0': 'Youtube', '1': 'Bilibili'})"
            ]
          },
          "metadata": {},
          "output_type": "display_data"
        }
      ],
      "source": [
        "# @title Video 1: Introduction to tutorial\n",
        "from ipywidgets import widgets\n",
        "from IPython.display import YouTubeVideo\n",
        "from IPython.display import IFrame\n",
        "from IPython.display import display\n",
        "\n",
        "\n",
        "class PlayVideo(IFrame):\n",
        "  def __init__(self, id, source, page=1, width=400, height=300, **kwargs):\n",
        "    self.id = id\n",
        "    if source == 'Bilibili':\n",
        "      src = f'https://player.bilibili.com/player.html?bvid={id}&page={page}'\n",
        "    elif source == 'Osf':\n",
        "      src = f'https://mfr.ca-1.osf.io/render?url=https://osf.io/download/{id}/?direct%26mode=render'\n",
        "    super(PlayVideo, self).__init__(src, width, height, **kwargs)\n",
        "\n",
        "\n",
        "def display_videos(video_ids, W=400, H=300, fs=1):\n",
        "  tab_contents = []\n",
        "  for i, video_id in enumerate(video_ids):\n",
        "    out = widgets.Output()\n",
        "    with out:\n",
        "      if video_ids[i][0] == 'Youtube':\n",
        "        video = YouTubeVideo(id=video_ids[i][1], width=W,\n",
        "                             height=H, fs=fs, rel=0)\n",
        "        print(f'Video available at https://youtube.com/watch?v={video.id}')\n",
        "      else:\n",
        "        video = PlayVideo(id=video_ids[i][1], source=video_ids[i][0], width=W,\n",
        "                          height=H, fs=fs, autoplay=False)\n",
        "        if video_ids[i][0] == 'Bilibili':\n",
        "          print(f'Video available at https://www.bilibili.com/video/{video.id}')\n",
        "        elif video_ids[i][0] == 'Osf':\n",
        "          print(f'Video available at https://osf.io/{video.id}')\n",
        "      display(video)\n",
        "    tab_contents.append(out)\n",
        "  return tab_contents\n",
        "\n",
        "\n",
        "video_ids = [('Youtube', 'GyGNs1fLIYQ'), ('Bilibili', 'BV1Mf4y1b7xS')]\n",
        "tab_contents = display_videos(video_ids, W=854, H=480)\n",
        "tabs = widgets.Tab()\n",
        "tabs.children = tab_contents\n",
        "for i in range(len(tab_contents)):\n",
        "  tabs.set_title(i, video_ids[i][0])\n",
        "display(tabs)"
      ]
    },
    {
      "cell_type": "markdown",
      "metadata": {
        "execution": {},
        "id": "QsT_whCkR378"
      },
      "source": [
        "# Setup"
      ]
    },
    {
      "cell_type": "code",
      "execution_count": null,
      "metadata": {
        "execution": {},
        "id": "h9mzAUavR37-"
      },
      "outputs": [],
      "source": [
        "# Imports\n",
        "import numpy as np\n",
        "import matplotlib.pyplot as plt\n",
        "\n",
        "# for random distributions:\n",
        "from scipy.stats import norm, poisson\n",
        "\n",
        "# for logistic regression:\n",
        "from sklearn.linear_model import LogisticRegression\n",
        "from sklearn.model_selection import cross_val_score"
      ]
    },
    {
      "cell_type": "code",
      "execution_count": null,
      "metadata": {
        "cellView": "form",
        "execution": {},
        "id": "FoxZfOopR37_"
      },
      "outputs": [],
      "source": [
        "# @title Plotting Functions\n",
        "\n",
        "def rasterplot(spikes,movement,trial):\n",
        "\n",
        "  [movements, trials, neurons, timepoints] = np.shape(spikes)\n",
        "\n",
        "  trial_spikes = spikes[movement,trial,:,:]\n",
        "\n",
        "  trial_events = [((trial_spikes[x,:] > 0).nonzero()[0]-150)/100 for x in range(neurons)]\n",
        "\n",
        "  plt.figure()\n",
        "  dt=1/100\n",
        "  plt.eventplot(trial_events, linewidths=1);\n",
        "  plt.title('movement: %d - trial: %d'%(movement, trial))\n",
        "  plt.ylabel('neuron')\n",
        "  plt.xlabel('time [s]')\n",
        "\n",
        "def plotCrossValAccuracies(accuracies):\n",
        "  f, ax = plt.subplots(figsize=(8, 3))\n",
        "  ax.boxplot(accuracies, vert=False, widths=.7)\n",
        "  ax.scatter(accuracies, np.ones(8))\n",
        "  ax.set(\n",
        "    xlabel=\"Accuracy\",\n",
        "    yticks=[],\n",
        "    title=f\"Average test accuracy: {accuracies.mean():.2%}\"\n",
        "  )\n",
        "  ax.spines[\"left\"].set_visible(False)"
      ]
    },
    {
      "cell_type": "code",
      "execution_count": null,
      "metadata": {
        "cellView": "form",
        "execution": {},
        "id": "kBFl5lznR37_"
      },
      "outputs": [],
      "source": [
        "#@title Generate Data\n",
        "\n",
        "def generateSpikeTrains():\n",
        "\n",
        "  gain        = 2\n",
        "  neurons     = 50\n",
        "  movements   = [0,1,2]\n",
        "  repetitions = 800\n",
        "\n",
        "  np.random.seed(37)\n",
        "\n",
        "  # set up the basic parameters:\n",
        "  dt = 1/100\n",
        "  start, stop = -1.5, 1.5\n",
        "  t = np.arange(start, stop+dt, dt)                                            # a time interval\n",
        "  Velocity_sigma = 0.5                                                         # std dev of the velocity profile\n",
        "  Velocity_Profile = norm.pdf(t,0,Velocity_sigma)/norm.pdf(0,0,Velocity_sigma) # The Gaussian velocity profile, normalized to a peak of 1\n",
        "\n",
        "  # set up the neuron properties:\n",
        "  Gains = np.random.rand(neurons) * gain          # random sensitivity between 0 and `gain`\n",
        "  FRs   = (np.random.rand(neurons) * 60 ) - 10    # random base firing rate between -10 and 50\n",
        "\n",
        "  # output matrix will have this shape:\n",
        "  target_shape = [len(movements), repetitions, neurons, len(Velocity_Profile)]\n",
        "\n",
        "  # build matrix for spikes, first, they depend on the velocity profile:\n",
        "  Spikes = np.repeat(Velocity_Profile.reshape([1,1,1,len(Velocity_Profile)]),len(movements)*repetitions*neurons,axis=2).reshape(target_shape)\n",
        "\n",
        "  # multiplied by gains:\n",
        "  S_gains = np.repeat(np.repeat(Gains.reshape([1,1,neurons]), len(movements)*repetitions, axis=1).reshape(target_shape[:3]), len(Velocity_Profile)).reshape(target_shape)\n",
        "  Spikes = Spikes * S_gains\n",
        "\n",
        "  # and multiplied by the movement:\n",
        "  S_moves = np.repeat( np.array(movements).reshape([len(movements),1,1,1]), repetitions*neurons*len(Velocity_Profile), axis=3 ).reshape(target_shape)\n",
        "  Spikes = Spikes * S_moves\n",
        "\n",
        "  # on top of a baseline firing rate:\n",
        "  S_FR = np.repeat(np.repeat(FRs.reshape([1,1,neurons]), len(movements)*repetitions, axis=1).reshape(target_shape[:3]), len(Velocity_Profile)).reshape(target_shape)\n",
        "  Spikes = Spikes + S_FR\n",
        "\n",
        "  # can not run the poisson random number generator on input lower than 0:\n",
        "  Spikes = np.where(Spikes < 0, 0, Spikes)\n",
        "\n",
        "  # so far, these were expected firing rates per second, correct for dt:\n",
        "  Spikes = poisson.rvs(Spikes * dt)\n",
        "\n",
        "  return(Spikes)\n",
        "\n",
        "\n",
        "def subsetPerception(spikes):\n",
        "\n",
        "  movements = [0,1,2]\n",
        "  split     = 400\n",
        "  subset    = 40\n",
        "  hwin      = 3\n",
        "\n",
        "  [num_movements, repetitions, neurons, timepoints] = np.shape(spikes)\n",
        "\n",
        "  decision = np.zeros([num_movements, repetitions])\n",
        "\n",
        "  # ground truth for logistic regression:\n",
        "  y_train = np.repeat([0,1,1],split)\n",
        "  y_test  = np.repeat([0,1,1],repetitions-split)\n",
        "\n",
        "  m_train = np.repeat(movements, split)\n",
        "  m_test  = np.repeat(movements, split)\n",
        "\n",
        "  # reproduce the time points:\n",
        "  dt = 1/100\n",
        "  start, stop = -1.5, 1.5\n",
        "  t = np.arange(start, stop+dt, dt)\n",
        "\n",
        "  w_idx = list( (abs(t) < (hwin*dt)).nonzero()[0] )\n",
        "  w_0 = min(w_idx)\n",
        "  w_1 = max(w_idx)+1  # python...\n",
        "\n",
        "  # get the total spike counts from stationary and movement trials:\n",
        "  spikes_stat = np.sum( spikes[0,:,:,:], axis=2)\n",
        "  spikes_move = np.sum( spikes[1:,:,:,:], axis=3)\n",
        "\n",
        "  train_spikes_stat = spikes_stat[:split,:]\n",
        "  train_spikes_move = spikes_move[:,:split,:].reshape([-1,neurons])\n",
        "\n",
        "  test_spikes_stat = spikes_stat[split:,:]\n",
        "  test_spikes_move = spikes_move[:,split:,:].reshape([-1,neurons])\n",
        "\n",
        "  # data to use to predict y:\n",
        "  x_train = np.concatenate((train_spikes_stat, train_spikes_move))\n",
        "  x_test  = np.concatenate(( test_spikes_stat,  test_spikes_move))\n",
        "\n",
        "  # this line creates a logistics regression model object, and immediately fits it:\n",
        "  population_model = LogisticRegression(solver='liblinear', random_state=0).fit(x_train, y_train)\n",
        "\n",
        "  # solver, one of: 'liblinear', 'newton-cg', 'lbfgs', 'sag', and 'saga'\n",
        "  # some of those require certain other options\n",
        "  #print(population_model.coef_)       # slope\n",
        "  #print(population_model.intercept_)  # intercept\n",
        "\n",
        "  ground_truth = np.array(population_model.predict(x_test))\n",
        "  ground_truth = ground_truth.reshape([3,-1])\n",
        "\n",
        "  output = {}\n",
        "  output['perception'] = ground_truth\n",
        "  output['spikes']     = spikes[:,split:,:subset,:]\n",
        "\n",
        "  return(output)\n",
        "\n",
        "\n",
        "def getData():\n",
        "\n",
        "  spikes = generateSpikeTrains()\n",
        "\n",
        "  dataset = subsetPerception(spikes=spikes)\n",
        "\n",
        "  return(dataset)\n",
        "\n",
        "dataset = getData()\n",
        "perception = dataset['perception']\n",
        "spikes = dataset['spikes']"
      ]
    },
    {
      "cell_type": "markdown",
      "metadata": {
        "execution": {},
        "id": "1sRkCJeLR38A"
      },
      "source": [
        "----\n",
        "# Step 1: Finding a phenomenon and a question to ask about it\n"
      ]
    },
    {
      "cell_type": "code",
      "execution_count": null,
      "metadata": {
        "cellView": "form",
        "execution": {},
        "id": "0E-UvHPcR38B",
        "outputId": "2f2cdb85-c66b-48bb-f9d0-fb4a94893502",
        "colab": {
          "referenced_widgets": [
            "13028de17fe842e68fd46025a8ce5a28"
          ]
        }
      },
      "outputs": [
        {
          "data": {
            "application/vnd.jupyter.widget-view+json": {
              "model_id": "13028de17fe842e68fd46025a8ce5a28",
              "version_major": 2,
              "version_minor": 0
            },
            "text/plain": [
              "Tab(children=(Output(), Output()), _titles={'0': 'Youtube', '1': 'Bilibili'})"
            ]
          },
          "metadata": {},
          "output_type": "display_data"
        }
      ],
      "source": [
        "# @title Video 2: Asking a question\n",
        "from ipywidgets import widgets\n",
        "from IPython.display import YouTubeVideo\n",
        "from IPython.display import IFrame\n",
        "from IPython.display import display\n",
        "\n",
        "\n",
        "class PlayVideo(IFrame):\n",
        "  def __init__(self, id, source, page=1, width=400, height=300, **kwargs):\n",
        "    self.id = id\n",
        "    if source == 'Bilibili':\n",
        "      src = f'https://player.bilibili.com/player.html?bvid={id}&page={page}'\n",
        "    elif source == 'Osf':\n",
        "      src = f'https://mfr.ca-1.osf.io/render?url=https://osf.io/download/{id}/?direct%26mode=render'\n",
        "    super(PlayVideo, self).__init__(src, width, height, **kwargs)\n",
        "\n",
        "\n",
        "def display_videos(video_ids, W=400, H=300, fs=1):\n",
        "  tab_contents = []\n",
        "  for i, video_id in enumerate(video_ids):\n",
        "    out = widgets.Output()\n",
        "    with out:\n",
        "      if video_ids[i][0] == 'Youtube':\n",
        "        video = YouTubeVideo(id=video_ids[i][1], width=W,\n",
        "                             height=H, fs=fs, rel=0)\n",
        "        print(f'Video available at https://youtube.com/watch?v={video.id}')\n",
        "      else:\n",
        "        video = PlayVideo(id=video_ids[i][1], source=video_ids[i][0], width=W,\n",
        "                          height=H, fs=fs, autoplay=False)\n",
        "        if video_ids[i][0] == 'Bilibili':\n",
        "          print(f'Video available at https://www.bilibili.com/video/{video.id}')\n",
        "        elif video_ids[i][0] == 'Osf':\n",
        "          print(f'Video available at https://osf.io/{video.id}')\n",
        "      display(video)\n",
        "    tab_contents.append(out)\n",
        "  return tab_contents\n",
        "\n",
        "\n",
        "video_ids = [('Youtube', '4Gl8X_y_uoA'), ('Bilibili', 'BV1VK4y1M7dc')]\n",
        "tab_contents = display_videos(video_ids, W=854, H=480)\n",
        "tabs = widgets.Tab()\n",
        "tabs.children = tab_contents\n",
        "for i in range(len(tab_contents)):\n",
        "  tabs.set_title(i, video_ids[i][0])\n",
        "display(tabs)"
      ]
    },
    {
      "cell_type": "code",
      "execution_count": null,
      "metadata": {
        "cellView": "form",
        "execution": {},
        "id": "GnR1KIbCR38B",
        "outputId": "763b0fc7-17a0-4ee0-98ca-a2dcd9d91f43",
        "colab": {
          "referenced_widgets": [
            "b9a2d70a70604986a46a89422c792bfc"
          ]
        }
      },
      "outputs": [
        {
          "data": {
            "application/vnd.jupyter.widget-view+json": {
              "model_id": "b9a2d70a70604986a46a89422c792bfc",
              "version_major": 2,
              "version_minor": 0
            },
            "text/plain": [
              "Tab(children=(Output(), Output()), _titles={'0': 'Computational Model', '1': 'Data Analysis'})"
            ]
          },
          "metadata": {},
          "output_type": "display_data"
        }
      ],
      "source": [
        "# @title Example projects step 1\n",
        "from ipywidgets import widgets\n",
        "from IPython.display import Markdown\n",
        "\n",
        "markdown1 = '''\n",
        "\n",
        "## Step 1\n",
        "<br>\n",
        "<font size='3pt'>\n",
        "The train illusion occurs when sitting on a train and viewing another train outside the window. Suddenly, the other train *seems* to move, i.e. you experience visual motion of the other train relative to your train. But which train is actually moving?\n",
        "\n",
        "Often people have the wrong percept. In particular, they think their own train might be moving when it's the other train that moves; or vice versa. The illusion is usually resolved once you gain vision of the surroundings that lets you disambiguate the relative motion; or if you experience strong vibrations indicating that it is indeed your own train that is in motion.\n",
        "\n",
        "\n",
        "We asked the following (arbitrary) question for our demo project: \"How do noisy vestibular estimates of motion lead to illusory percepts of self motion?\"\n",
        "</font>\n",
        "'''\n",
        "\n",
        "markdown2 = '''\n",
        "## Step 1\n",
        "<br>\n",
        "\n",
        "<font size='3pt'>\n",
        "The train illusion occurs when sitting on a train and viewing another train outside the window. Suddenly, the other train *seems* to move, i.e. you experience visual motion of the other train relative to your train. But which train is actually moving?\n",
        "\n",
        "Often people mix this up. In particular, they think their own train might be moving when it's the other train that moves; or vice versa. The illusion is usually resolved once you gain vision of the surroundings that lets you disambiguate the relative motion; or if you experience strong vibrations indicating that it is indeed your own train that is in motion.\n",
        "\n",
        "\n",
        "We assume that we have build the train illusion model (see the other example project colab). That model predicts that accumulated sensory evidence from vestibular signals determines the decision of whether self-motion is experienced or not. We now have vestibular neuron data (simulated in our case, but let's pretend) and would like to see if that prediction holds true.\n",
        "\n",
        "The data contains *N* neurons and *M* trials for each of 3 motion conditions: no self-motion, slowly accelerating self-motion and faster accelerating self-motion. In our data,\n",
        "*N* = 40 and *M* = 400.\n",
        "\n",
        "**So we can ask the following question**: \"Does accumulated vestibular neuron activity correlate with self-motion judgements?\"\n",
        "</font>\n",
        "'''\n",
        "\n",
        "out2 = widgets.Output()\n",
        "with out2:\n",
        "  display(Markdown(markdown2))\n",
        "\n",
        "out1 = widgets.Output()\n",
        "with out1:\n",
        "  display(Markdown(markdown1))\n",
        "\n",
        "out = widgets.Tab([out1, out2])\n",
        "out.set_title(0, 'Computational Model')\n",
        "out.set_title(1, 'Data Analysis')\n",
        "\n",
        "display(out)"
      ]
    },
    {
      "cell_type": "markdown",
      "metadata": {
        "execution": {},
        "id": "5trlUOprR38B"
      },
      "source": [
        "## Think! 1: Asking your own question\n",
        "\n",
        "*Please discuss the following for about 25 min*\n",
        "\n",
        "You should already have a project idea from your brainstorming yesterday. **Write down the phenomenon, question and goal(s) if you have them.**\n",
        "\n",
        "As a reminder, here is what you should discuss and write down:\n",
        "\n",
        "* What exact aspect of data needs modeling?\n",
        "  * Answer this question clearly and precisely!\n",
        "Otherwise you will get lost (almost guaranteed)\n",
        "  * Write everything down!\n",
        "  * Also identify aspects of data that you do not want to address (yet)\n",
        "* Define an evaluation method!\n",
        "  * How will you know your modeling is good?\n",
        "  * E.g. comparison to specific data (quantitative method of comparison?)\n",
        "* For computational models: think of an experiment that could test your model\n",
        "  * You essentially want your model to interface with this experiment, i.e. you want to simulate this experiment\n",
        "\n",
        "You can find interesting questions by looking for phenomena that differ from your expectations. In *what* way does it differ? *How* could that be explained (starting to think about mechanistic questions and structural hypotheses)? *Why* could it be the way it is? What experiment could you design to investigate this phenomenon? What kind of data would you need?"
      ]
    },
    {
      "cell_type": "markdown",
      "metadata": {
        "execution": {},
        "id": "OVD72LP8R38B"
      },
      "source": [
        "**Make sure to avoid the pitfalls!**\n",
        "\n",
        "<details>\n",
        "<summary> <font color='red'>Click here for a recap on pitfalls </font></summary>\n",
        "\n",
        "1. Question is too general\n",
        "  - Remember: science advances one small step at the time. Get the small step right...\n",
        "\n",
        "2. Precise aspect of phenomenon you want to model is unclear\n",
        "  - You will fail to ask a meaningful question\n",
        "\n",
        "3. You have already chosen a toolkit\n",
        "  - This will prevent you from thinking deeply about the best way to answer your scientific question\n",
        "\n",
        "4. You don't have a clear goal\n",
        "   - What do you want to get out of modeling?\n",
        "\n",
        "5. You don't have a potential experiment in mind\n",
        "  - This will help concretize your objectives and think through the logic behind your goal"
      ]
    },
    {
      "cell_type": "markdown",
      "metadata": {
        "execution": {},
        "id": "Y5FQnnNSR38C"
      },
      "source": [
        "**Note**:\n",
        "\n",
        "The hardest part is Step 1. Once that is properly set up, all other should be easier. **BUT**: often you think that Step 1 is done only to figure out in later steps (anywhere really) that you were not as clear on your question and goal than you thought. Revisiting Step 1 is frequent necessity. Don't feel bad about it. You can revisit Step 1 later; for now, let's move on to the nest step."
      ]
    },
    {
      "cell_type": "markdown",
      "metadata": {
        "execution": {},
        "id": "n9bzavLHR38C"
      },
      "source": [
        "----\n",
        "# Step 2: Understanding the state of the art & background\n"
      ]
    },
    {
      "cell_type": "markdown",
      "metadata": {
        "execution": {},
        "id": "yRkDoSj7R38C"
      },
      "source": [
        "Here you will do a literature review (**to be done AFTER this tutorial!**)."
      ]
    },
    {
      "cell_type": "code",
      "execution_count": null,
      "metadata": {
        "cellView": "form",
        "execution": {},
        "id": "2aS9QNajR38C",
        "outputId": "380d21b8-d63b-4eaf-efef-cb9243bcd05f",
        "colab": {
          "referenced_widgets": [
            "f8d9ac5610ba499e9f9882e8e754832c"
          ]
        }
      },
      "outputs": [
        {
          "data": {
            "application/vnd.jupyter.widget-view+json": {
              "model_id": "f8d9ac5610ba499e9f9882e8e754832c",
              "version_major": 2,
              "version_minor": 0
            },
            "text/plain": [
              "Tab(children=(Output(), Output()), _titles={'0': 'Youtube', '1': 'Bilibili'})"
            ]
          },
          "metadata": {},
          "output_type": "display_data"
        }
      ],
      "source": [
        "# @title Video 3: Literature Review & Background Knowledge\n",
        "from ipywidgets import widgets\n",
        "from IPython.display import YouTubeVideo\n",
        "from IPython.display import IFrame\n",
        "from IPython.display import display\n",
        "\n",
        "\n",
        "class PlayVideo(IFrame):\n",
        "  def __init__(self, id, source, page=1, width=400, height=300, **kwargs):\n",
        "    self.id = id\n",
        "    if source == 'Bilibili':\n",
        "      src = f'https://player.bilibili.com/player.html?bvid={id}&page={page}'\n",
        "    elif source == 'Osf':\n",
        "      src = f'https://mfr.ca-1.osf.io/render?url=https://osf.io/download/{id}/?direct%26mode=render'\n",
        "    super(PlayVideo, self).__init__(src, width, height, **kwargs)\n",
        "\n",
        "\n",
        "def display_videos(video_ids, W=400, H=300, fs=1):\n",
        "  tab_contents = []\n",
        "  for i, video_id in enumerate(video_ids):\n",
        "    out = widgets.Output()\n",
        "    with out:\n",
        "      if video_ids[i][0] == 'Youtube':\n",
        "        video = YouTubeVideo(id=video_ids[i][1], width=W,\n",
        "                             height=H, fs=fs, rel=0)\n",
        "        print(f'Video available at https://youtube.com/watch?v={video.id}')\n",
        "      else:\n",
        "        video = PlayVideo(id=video_ids[i][1], source=video_ids[i][0], width=W,\n",
        "                          height=H, fs=fs, autoplay=False)\n",
        "        if video_ids[i][0] == 'Bilibili':\n",
        "          print(f'Video available at https://www.bilibili.com/video/{video.id}')\n",
        "        elif video_ids[i][0] == 'Osf':\n",
        "          print(f'Video available at https://osf.io/{video.id}')\n",
        "      display(video)\n",
        "    tab_contents.append(out)\n",
        "  return tab_contents\n",
        "\n",
        "\n",
        "video_ids = [('Youtube', 'd8zriLaMc14'), ('Bilibili', 'BV1by4y1M7TZ')]\n",
        "tab_contents = display_videos(video_ids, W=854, H=480)\n",
        "tabs = widgets.Tab()\n",
        "tabs.children = tab_contents\n",
        "for i in range(len(tab_contents)):\n",
        "  tabs.set_title(i, video_ids[i][0])\n",
        "display(tabs)"
      ]
    },
    {
      "cell_type": "code",
      "execution_count": null,
      "metadata": {
        "cellView": "form",
        "execution": {},
        "id": "TmK8hc8qR38D",
        "outputId": "5d76c5fa-6754-4760-d743-681f2752ed3a",
        "colab": {
          "referenced_widgets": [
            "5f2a96126e6a412481271a2b55decb73"
          ]
        }
      },
      "outputs": [
        {
          "data": {
            "text/markdown": [],
            "text/plain": [
              "<IPython.core.display.Markdown object>"
            ]
          },
          "metadata": {},
          "output_type": "display_data"
        },
        {
          "data": {
            "application/vnd.jupyter.widget-view+json": {
              "model_id": "5f2a96126e6a412481271a2b55decb73",
              "version_major": 2,
              "version_minor": 0
            },
            "text/plain": [
              "Tab(children=(Output(), Output()), _titles={'0': 'Computational Model', '1': 'Data Analysis'})"
            ]
          },
          "metadata": {},
          "output_type": "display_data"
        }
      ],
      "source": [
        "# @title Example projects step 2\n",
        "from ipywidgets import widgets\n",
        "from IPython.display import Markdown\n",
        "\n",
        "markdown1 = '''\n",
        "\n",
        "## Step 2\n",
        "\n",
        "<br>\n",
        "<font size='3pt'>\n",
        "\n",
        "You have learned all about the vestibular system in the Intro video. This is also where you would do a literature search to learn more about what's known about self-motion perception and vestibular signals. You would also want to examine any attempts to model self-motion, perceptual decision making and vestibular processing.</font>\n",
        "'''\n",
        "\n",
        "markdown21 = '''\n",
        "## Step 2\n",
        "\n",
        "<br>\n",
        "<font size='3pt'>\n",
        "While it seems a well-known fact that vestibular signals are noisy, we should check if we can also find this in the literature.\n",
        "\n",
        "Let's also see what's in our data, there should be a 4d array called `spikes` that has spike counts (positive integers), a 2d array called `perception` with self-motion judgements (0=no motion or 1=motion). Let's see what this data looks like:\n",
        "\n",
        "</font><br>\n",
        "'''\n",
        "\n",
        "markdown22 = '''\n",
        "<br>\n",
        "<font size='3pt'>\n",
        "In the `spikes` array, we see our 3 acceleration conditions (first dimension), with 400 trials each (second dimensions) and simultaneous recordings from 40 neurons (third dimension), across 3 seconds in 10 ms bins (fourth dimension). The first two dimensions are also there in the `perception` array.\n",
        "\n",
        "Perfect perception would have looked like [0, 1, 1]. The average judgements are far from correct (lots of self-motion illusions) but they do make some sense: it's closer to 0 in the no-motion condition and closer to 1 in both of the real-motion conditions.\n",
        "\n",
        "The idea of our project is that the vestibular signals are noisy so that they might be mis-interpreted by the brain. Let's see if we can reproduce the stimuli from the data:\n",
        "</font>\n",
        "<br>\n",
        "'''\n",
        "\n",
        "markdown23 = '''\n",
        "<br>\n",
        "<font size='3pt'>\n",
        "Blue is the no-motion condition, and produces flat average spike counts across the 3 s time interval. The orange and green line do show a bell-shaped curve that corresponds to the acceleration profile. But there also seems to be considerable noise: exactly what we need. Let's see what the spike trains for a single trial look like:\n",
        "</font>\n",
        "<br>\n",
        "'''\n",
        "\n",
        "markdown24 = '''\n",
        "<br>\n",
        "<font size='3pt'>\n",
        "You can change the trial number in the bit of code above to compare what the rasterplots look like in different trials. You'll notice that they all look kind of the same: the 3 conditions are very hard (impossible?) to distinguish by eye-balling.\n",
        "\n",
        "Now that we have seen the data, let's see if we can extract self-motion judgements from the spike counts.\n",
        "</font>\n",
        "<br>\n",
        "'''\n",
        "\n",
        "display(Markdown(r\"\"))\n",
        "\n",
        "out2 = widgets.Output()\n",
        "with out2:\n",
        "  display(Markdown(markdown21))\n",
        "  print(f'The shape of `spikes` is: {np.shape(spikes)}')\n",
        "  print(f'The shape of `perception` is: {np.shape(perception)}')\n",
        "  print(f'The mean of `perception` is: {np.mean(perception, axis=1)}')\n",
        "  display(Markdown(markdown22))\n",
        "\n",
        "  for move_no in range(3):\n",
        "    plt.plot(np.arange(-1.5,1.5+(1/100),(1/100)),np.mean(np.mean(spikes[move_no,:,:,:], axis=0), axis=0), label=['no motion', '$1 m/s^2$', '$2 m/s^2$'][move_no])\n",
        "  plt.xlabel('time [s]');\n",
        "  plt.ylabel('averaged spike counts');\n",
        "  plt.legend()\n",
        "  plt.show()\n",
        "\n",
        "  display(Markdown(markdown23))\n",
        "\n",
        "  for move in range(3):\n",
        "    rasterplot(spikes = spikes, movement = move, trial = 0)\n",
        "  plt.show()\n",
        "\n",
        "  display(Markdown(markdown24))\n",
        "\n",
        "out1 = widgets.Output()\n",
        "with out1:\n",
        "  display(Markdown(markdown1))\n",
        "\n",
        "out = widgets.Tab([out1, out2])\n",
        "out.set_title(0, 'Computational Model')\n",
        "out.set_title(1, 'Data Analysis')\n",
        "\n",
        "display(out)"
      ]
    },
    {
      "cell_type": "markdown",
      "metadata": {
        "execution": {},
        "id": "j0XeiAayR38D"
      },
      "source": [
        "Here you will do a literature review (**to be done AFTER this tutorial!**). For the projects, do not spend too much time on this. A thorough literature review could take weeks or months depending on your prior knowledge of the field...\n",
        "\n",
        "The important thing for your project here is not to exhaustively survey the literature but rather to learn the process of modeling. 1-2 days of digging into the literature should be enough!\n",
        "\n",
        "**Here is what you should get out of it**:\n",
        "* Survey the literature\n",
        "  * What’s known?\n",
        "  * What has already been done?\n",
        "  * Previous models as a starting point?\n",
        "  * What hypotheses have been emitted in the field?\n",
        "  * Are there any alternative / complementary modeling approaches?\n",
        "* What skill sets are required?\n",
        "  * Do I need learn something before I can start?\n",
        "  * Ensure that no important aspect is missed\n",
        "* Potentially provides specific data sets / alternative modeling approaches for comparison"
      ]
    },
    {
      "cell_type": "markdown",
      "metadata": {
        "execution": {},
        "id": "LZOYsyOGR38D"
      },
      "source": [
        "**Do this AFTER the tutorial**"
      ]
    },
    {
      "cell_type": "markdown",
      "metadata": {
        "execution": {},
        "id": "Ot8zeeNXR38D"
      },
      "source": [
        "----\n",
        "# Step 3: Determining the basic ingredients\n"
      ]
    },
    {
      "cell_type": "code",
      "execution_count": 1,
      "metadata": {
        "cellView": "form",
        "execution": {},
        "id": "TE-iDiGGR38E",
        "outputId": "1cac9276-f4d0-4a1a-944a-7d7ed2156443",
        "colab": {
          "base_uri": "https://localhost:8080/",
          "height": 582,
          "referenced_widgets": [
            "9fb14004f71f4c118cdf1ce9feb6b976",
            "27ada328d5624dc5baec179de208f956",
            "2c006a038f3b4913bbdc51afeceb91ad",
            "be3d2178eff5468fb95dde12a3226939",
            "16882a5a0a374d1f9affa3b106a35cac",
            "5609811ac42443bf95c64c66fe7569c1"
          ]
        }
      },
      "outputs": [
        {
          "output_type": "display_data",
          "data": {
            "text/plain": [
              "Tab(children=(Output(), Output()), _titles={'0': 'Youtube', '1': 'Bilibili'})"
            ],
            "application/vnd.jupyter.widget-view+json": {
              "version_major": 2,
              "version_minor": 0,
              "model_id": "9fb14004f71f4c118cdf1ce9feb6b976"
            }
          },
          "metadata": {}
        }
      ],
      "source": [
        "# @title Video 4: Determining basic ingredients\n",
        "from ipywidgets import widgets\n",
        "from IPython.display import YouTubeVideo\n",
        "from IPython.display import IFrame\n",
        "from IPython.display import display\n",
        "\n",
        "\n",
        "class PlayVideo(IFrame):\n",
        "  def __init__(self, id, source, page=1, width=400, height=300, **kwargs):\n",
        "    self.id = id\n",
        "    if source == 'Bilibili':\n",
        "      src = f'https://player.bilibili.com/player.html?bvid={id}&page={page}'\n",
        "    elif source == 'Osf':\n",
        "      src = f'https://mfr.ca-1.osf.io/render?url=https://osf.io/download/{id}/?direct%26mode=render'\n",
        "    super(PlayVideo, self).__init__(src, width, height, **kwargs)\n",
        "\n",
        "\n",
        "def display_videos(video_ids, W=400, H=300, fs=1):\n",
        "  tab_contents = []\n",
        "  for i, video_id in enumerate(video_ids):\n",
        "    out = widgets.Output()\n",
        "    with out:\n",
        "      if video_ids[i][0] == 'Youtube':\n",
        "        video = YouTubeVideo(id=video_ids[i][1], width=W,\n",
        "                             height=H, fs=fs, rel=0)\n",
        "        print(f'Video available at https://youtube.com/watch?v={video.id}')\n",
        "      else:\n",
        "        video = PlayVideo(id=video_ids[i][1], source=video_ids[i][0], width=W,\n",
        "                          height=H, fs=fs, autoplay=False)\n",
        "        if video_ids[i][0] == 'Bilibili':\n",
        "          print(f'Video available at https://www.bilibili.com/video/{video.id}')\n",
        "        elif video_ids[i][0] == 'Osf':\n",
        "          print(f'Video available at https://osf.io/{video.id}')\n",
        "      display(video)\n",
        "    tab_contents.append(out)\n",
        "  return tab_contents\n",
        "\n",
        "\n",
        "video_ids = [('Youtube', 'XpEj-p7JkFE'), ('Bilibili', 'BV1Mq4y1x77s')]\n",
        "tab_contents = display_videos(video_ids, W=854, H=480)\n",
        "tabs = widgets.Tab()\n",
        "tabs.children = tab_contents\n",
        "for i in range(len(tab_contents)):\n",
        "  tabs.set_title(i, video_ids[i][0])\n",
        "display(tabs)"
      ]
    },
    {
      "cell_type": "code",
      "execution_count": null,
      "metadata": {
        "cellView": "form",
        "execution": {},
        "id": "e7qoPcXIR38E",
        "outputId": "127170e6-01ff-4cd8-a3d0-7d1026f7b6be",
        "colab": {
          "referenced_widgets": [
            "6c7200b716774c71a77bcc456384ff49"
          ]
        }
      },
      "outputs": [
        {
          "data": {
            "text/markdown": [],
            "text/plain": [
              "<IPython.core.display.Markdown object>"
            ]
          },
          "metadata": {},
          "output_type": "display_data"
        },
        {
          "data": {
            "application/vnd.jupyter.widget-view+json": {
              "model_id": "6c7200b716774c71a77bcc456384ff49",
              "version_major": 2,
              "version_minor": 0
            },
            "text/plain": [
              "Tab(children=(Output(), Output()), _titles={'0': 'Computational Model', '1': 'Data Analysis'})"
            ]
          },
          "metadata": {},
          "output_type": "display_data"
        }
      ],
      "source": [
        "# @title Example projects step 3\n",
        "from ipywidgets import widgets\n",
        "from IPython.display import Markdown, Math\n",
        "\n",
        "markdown1 = r'''\n",
        "\n",
        "## Step 3\n",
        "<br>\n",
        "<font size='3pt'>\n",
        "We determined that we probably needed the following ingredients for our model:\n",
        "\n",
        "* Vestibular input: *v(t)*\n",
        "\n",
        "* Binary decision output: *d* - time dependent?\n",
        "\n",
        "* Decision threshold: θ\n",
        "\n",
        "* A filter (maybe running average?): *f*\n",
        "\n",
        "* An integration mechanism to get from vestibular acceleration to sensed velocity: ∫\n",
        "\n",
        "</font>\n",
        "'''\n",
        "\n",
        "markdown2 = '''\n",
        "## Step 3\n",
        "<br>\n",
        "<font size='3pt'>\n",
        "In order to address our question we need to design an appropriate computational data analysis pipeline. We did some brainstorming and think that we need to somehow extract the self-motion judgements from the spike counts of our neurons. Based on that, our algorithm needs to make a decision: was there self motion or not? This is a classical 2-choice classification problem. We will have to transform the raw spike data into the right input for the algorithm (spike pre-processing).\n",
        "\n",
        "So we determined that we probably needed the following ingredients:\n",
        "\n",
        "* spike trains *S* of 3-second trials (10ms spike bins)\n",
        "* ground truth movement *m<sub>r</sub>* (real) and perceived movement *m<sub>p</sub>*\n",
        "* some form of classifier *C* giving us a classification *c*\n",
        "* spike pre-processing\n",
        "</font>\n",
        "'''\n",
        "\n",
        "# No idea why this is necessary but math doesn't render properly without it\n",
        "display(Markdown(r\"\"))\n",
        "\n",
        "\n",
        "out2 = widgets.Output()\n",
        "with out2:\n",
        "  display(Markdown(markdown2))\n",
        "\n",
        "\n",
        "out1 = widgets.Output()\n",
        "with out1:\n",
        "  display(Markdown(markdown1))\n",
        "\n",
        "out = widgets.Tab([out1, out2])\n",
        "out.set_title(0, 'Computational Model')\n",
        "out.set_title(1, 'Data Analysis')\n",
        "\n",
        "display(out)"
      ]
    },
    {
      "cell_type": "markdown",
      "metadata": {
        "execution": {},
        "id": "fKD_GywcR38E"
      },
      "source": [
        "## Think! 3: Determine your basic ingredients\n",
        "\n",
        "*Please discuss the following for about 25 min*\n",
        "\n",
        "This will allow you to think deeper about what your modeling project will need. It's a crucial step before you can formulate hypotheses because you first need to understand what your modeling approach will need. There are 2 aspects you want to think about:\n",
        "\n",
        "1. What parameters / variables are needed?]\n",
        "  * Constants?\n",
        "  * Do they change over space, time, conditions…?\n",
        "  * What details can be omitted?\n",
        "  * Constraints, initial conditions?\n",
        "  * Model inputs / outputs?\n",
        "2. Variables needed to describe the process to be modelled?\n",
        "  * Brainstorming!\n",
        "  * What can be observed / measured?  latent variables?    \n",
        "  * Where do these variables come from?\n",
        "  * Do any abstract concepts need to be instantiated as variables?\n",
        "    * E.g., value, utility, uncertainty, cost, salience, goals, strategy, plant, dynamics\n",
        "  * Instantiate them so that they relate to potential measurements!\n",
        "\n",
        "This is a step where your prior knowledge and intuition is tested. You want to end up with an inventory of *specific* concepts and/or interactions that need to be instantiated."
      ]
    },
    {
      "cell_type": "markdown",
      "metadata": {
        "execution": {},
        "id": "DK3y9nZtR38F"
      },
      "source": [
        "**Make sure to avoid the pitfalls!**\n",
        "\n",
        "<details>\n",
        "<summary> <font color='red'>Click here for a recap on pitfalls</font></summary>\n",
        "\n",
        "1. I'm experienced, I don't need to think about ingredients anymore\n",
        "  - Or so you think...\n",
        "\n",
        "2. I can't think of any ingredients\n",
        "  - Think about the potential experiment. What are your stimuli? What parameters? What would you control? What do you measure?\n",
        "\n",
        "3. I have all inputs and outputs\n",
        "  - Good! But what will link them? Thinking about that will start shaping your model and hypotheses\n",
        "\n",
        "4. I can't think of any links (= mechanisms)\n",
        "  - You will acquire a library of potential mechanisms as you keep modeling and learning\n",
        "  - But the literature will often give you hints through hypotheses\n",
        "  - If you still can't think of links, then maybe you're missing ingredients?"
      ]
    },
    {
      "cell_type": "markdown",
      "metadata": {
        "execution": {},
        "id": "W-oemYXlR38F"
      },
      "source": [
        "----\n",
        "# Step 4: Formulating specific, mathematically defined hypotheses\n",
        "\n"
      ]
    },
    {
      "cell_type": "code",
      "execution_count": null,
      "metadata": {
        "cellView": "form",
        "execution": {},
        "id": "1DtwzH8bR38F",
        "outputId": "ab266365-dcc3-4345-80a4-988802276be4",
        "colab": {
          "referenced_widgets": [
            "9231676d1f224e3792cf3cfa9232a42a"
          ]
        }
      },
      "outputs": [
        {
          "data": {
            "application/vnd.jupyter.widget-view+json": {
              "model_id": "9231676d1f224e3792cf3cfa9232a42a",
              "version_major": 2,
              "version_minor": 0
            },
            "text/plain": [
              "Tab(children=(Output(), Output()), _titles={'0': 'Youtube', '1': 'Bilibili'})"
            ]
          },
          "metadata": {},
          "output_type": "display_data"
        }
      ],
      "source": [
        "# @title Video 5: Formulating a hypothesis\n",
        "from ipywidgets import widgets\n",
        "from IPython.display import YouTubeVideo\n",
        "from IPython.display import IFrame\n",
        "from IPython.display import display\n",
        "\n",
        "\n",
        "class PlayVideo(IFrame):\n",
        "  def __init__(self, id, source, page=1, width=400, height=300, **kwargs):\n",
        "    self.id = id\n",
        "    if source == 'Bilibili':\n",
        "      src = f'https://player.bilibili.com/player.html?bvid={id}&page={page}'\n",
        "    elif source == 'Osf':\n",
        "      src = f'https://mfr.ca-1.osf.io/render?url=https://osf.io/download/{id}/?direct%26mode=render'\n",
        "    super(PlayVideo, self).__init__(src, width, height, **kwargs)\n",
        "\n",
        "\n",
        "def display_videos(video_ids, W=400, H=300, fs=1):\n",
        "  tab_contents = []\n",
        "  for i, video_id in enumerate(video_ids):\n",
        "    out = widgets.Output()\n",
        "    with out:\n",
        "      if video_ids[i][0] == 'Youtube':\n",
        "        video = YouTubeVideo(id=video_ids[i][1], width=W,\n",
        "                             height=H, fs=fs, rel=0)\n",
        "        print(f'Video available at https://youtube.com/watch?v={video.id}')\n",
        "      else:\n",
        "        video = PlayVideo(id=video_ids[i][1], source=video_ids[i][0], width=W,\n",
        "                          height=H, fs=fs, autoplay=False)\n",
        "        if video_ids[i][0] == 'Bilibili':\n",
        "          print(f'Video available at https://www.bilibili.com/video/{video.id}')\n",
        "        elif video_ids[i][0] == 'Osf':\n",
        "          print(f'Video available at https://osf.io/{video.id}')\n",
        "      display(video)\n",
        "    tab_contents.append(out)\n",
        "  return tab_contents\n",
        "\n",
        "\n",
        "video_ids = [('Youtube', 'nHXMSXLcd9A'), ('Bilibili', 'BV1fh411h7aX')]\n",
        "tab_contents = display_videos(video_ids, W=854, H=480)\n",
        "tabs = widgets.Tab()\n",
        "tabs.children = tab_contents\n",
        "for i in range(len(tab_contents)):\n",
        "  tabs.set_title(i, video_ids[i][0])\n",
        "display(tabs)"
      ]
    },
    {
      "cell_type": "code",
      "execution_count": null,
      "metadata": {
        "cellView": "form",
        "execution": {},
        "id": "B0LrUwsUR38F",
        "outputId": "bc6f0976-04f6-437d-f881-e6c27a8e522f",
        "colab": {
          "referenced_widgets": [
            "841eeab6cb5b4c0db976953b1c284653"
          ]
        }
      },
      "outputs": [
        {
          "data": {
            "text/markdown": [],
            "text/plain": [
              "<IPython.core.display.Markdown object>"
            ]
          },
          "metadata": {},
          "output_type": "display_data"
        },
        {
          "data": {
            "application/vnd.jupyter.widget-view+json": {
              "model_id": "841eeab6cb5b4c0db976953b1c284653",
              "version_major": 2,
              "version_minor": 0
            },
            "text/plain": [
              "Tab(children=(Output(), Output()), _titles={'0': 'Computational Model', '1': 'Data Analysis'})"
            ]
          },
          "metadata": {},
          "output_type": "display_data"
        }
      ],
      "source": [
        "# @title Example projects step 4\n",
        "from ipywidgets import widgets\n",
        "from IPython.display import Markdown\n",
        "\n",
        "# Not writing in latex because that didn't render in jupyterbook\n",
        "\n",
        "markdown1 = r'''\n",
        "\n",
        "## Step 4\n",
        "<br>\n",
        "<font size='3pt'>\n",
        "Our main hypothesis is that the strength of the illusion has a linear relationship to the amplitude of vestibular noise.\n",
        "\n",
        "Mathematically, this would write as\n",
        "\n",
        "<div align=\"center\">\n",
        "<em>S</em> = <em>k</em> ⋅ <em>N</em>\n",
        "</div>\n",
        "\n",
        "where *S* is the illusion strength and *N* is the noise level, and *k* is a free parameter.\n",
        ">we could simply use the frequency of occurance across repetitions as the \"strength of the illusion\"\n",
        "\n",
        "We would get the noise as the standard deviation of *v(t)*, i.e.\n",
        "\n",
        "<div align=\"center\">\n",
        "<em>N</em> = <b>E</b>[<em>v(t)</em><sup>2</sup>],\n",
        "</div>\n",
        "\n",
        " where **E** stands for the expected value.\n",
        "\n",
        "Do we need to take the average across time points?\n",
        "> doesn't really matter because we have the generative process, so we can just use the σ that we define\n",
        "</font>\n",
        "'''\n",
        "\n",
        "markdown2 = '''\n",
        "## Step 4\n",
        "<br>\n",
        "\n",
        "<font size='3pt'>\n",
        "We think that noise in the signal drives whether or not people perceive self motion. Maybe the brain uses the strongest signal at peak acceleration to decide on self motion, but we actually think it is better to accumulate evidence over some period of time. We want to test this. The noise idea also means that when the signal-to-noise ratio is higher, the brain does better, and this would be in the faster acceleration condition. We want to test this too.\n",
        "\n",
        "We came up with the following hypotheses focussing on specific details of our overall research question:\n",
        "\n",
        "* Hyp 1: Accumulated vestibular spike rates explain self-motion judgements better than average spike rates around peak acceleration.\n",
        "* Hyp 2: Classification performance should be better for faster vs slower self-motion.\n",
        "\n",
        "> There are many other hypotheses you could come up with, but for simplicity, let's go with those.\n",
        "\n",
        "Mathematically, we can write our hypotheses as follows (using our above ingredients):\n",
        "* Hyp 1: **E**(c<sub>accum</sub>) > **E**(c<sub>win</sub>)\n",
        "* Hyp 2: **E**(c<sub>fast</sub>) > **E**(c<sub>slow</sub>)\n",
        "\n",
        "Where **E** denotes taking the expected value (in this case the mean) of its argument: classification outcome in a given trial type.\n",
        "</font>\n",
        "'''\n",
        "\n",
        "# No idea why this is necessary but math doesn't render properly without it\n",
        "display(Markdown(r\"\"))\n",
        "\n",
        "out2 = widgets.Output()\n",
        "with out2:\n",
        "  display(Markdown(markdown2))\n",
        "\n",
        "out1 = widgets.Output()\n",
        "with out1:\n",
        "  display(Markdown(markdown1))\n",
        "\n",
        "out = widgets.Tab([out1, out2])\n",
        "out.set_title(0, 'Computational Model')\n",
        "out.set_title(1, 'Data Analysis')\n",
        "\n",
        "display(out)"
      ]
    },
    {
      "cell_type": "markdown",
      "metadata": {
        "execution": {},
        "id": "EG4qGcp9R38G"
      },
      "source": [
        "## Think! 4: Formulating your hypothesis\n",
        "\n",
        "*Please discuss the following for about 25 min*\n",
        "\n",
        "Once you have your question and goal lines up, you have done a literature review (let's assume for now) and you have thought about ingredients needed for your model, you're now ready to start thinking about *specific* hypotheses.\n",
        "\n",
        "Formulating hypotheses really consists of two consecutive steps:\n",
        "\n",
        "1. You think about the hypotheses in words by relating ingredients identified in Step 3\n",
        "  * What is the model mechanism expected to do?\n",
        "  * How are different parameters expected to influence model results?\n",
        "2. You then express these hypotheses in mathematical language by giving the ingredients identified in Step 3 specific variable names.\n",
        "  * Be explicit, e.g., $y(t)=f(x(t),k)$ but $z(t)$ doesn't influence $y$\n",
        "\n",
        "There are also \"structural hypotheses\" that make assumptions on what model components you hypothesize will be crucial to capture the phenomenon at hand.\n",
        "\n",
        "**Important**: Formulating the hypotheses is the last step before starting to model. This step determines the model approach and ingredients. It provides a more detailed description of the question / goal from Step 1. The more precise the hypotheses, the easier the model will be to justify."
      ]
    },
    {
      "cell_type": "markdown",
      "metadata": {
        "execution": {},
        "id": "QbbPNtbTR38G"
      },
      "source": [
        "**Make sure to avoid the pitfalls!**\n",
        "\n",
        "<details>\n",
        "<summary> <font color='red'>Click here for a recap on pitfalls</font></summary>\n",
        "\n",
        "1. I don't need hypotheses, I will just play around with the model\n",
        "  - Hypotheses help determine and specify goals. You can (and should) still play...\n",
        "\n",
        "2. My hypotheses don't match my question (or vice versa)\n",
        "  - This is a normal part of the process!\n",
        "  - You need to loop back to Step 1 and revisit your question / phenomenon / goals\n",
        "\n",
        "3. I can't write down a math hypothesis\n",
        "  - Often that means you lack ingredients and/or clarity on the hypothesis\n",
        "  - OR: you have a “structural” hypothesis, i.e., you expect a certain model component to be crucial in explaining the phenomenon / answering the question"
      ]
    },
    {
      "cell_type": "markdown",
      "metadata": {
        "execution": {},
        "id": "x2jjQnpUR38G"
      },
      "source": [
        "----\n",
        "# Summary\n",
        "\n",
        "In this tutorial, we worked through some steps of the process of modeling.\n",
        "\n",
        "- We defined a phenomenon and formulated a question (step 1)\n",
        "- We collected information the state-of-the-art about the topic (step 2)\n",
        "- We determined the basic ingredients (step 3), and used these to formulate a specific mathematically defined hypothesis (step 4)\n",
        "\n",
        "You are now in a position that you could start modeling without getting lost. But remember: you might have to work through steps 1-4 again after doing a literature review and/or if there were other pitfalls you identified along the way (which is totally normal)."
      ]
    },
    {
      "cell_type": "markdown",
      "metadata": {
        "execution": {},
        "id": "4aEnBVaTR38G"
      },
      "source": [
        "----\n",
        "# Next steps\n",
        "In [a follow-up notebook](https://compneuro.neuromatch.io/projects/modelingsteps/ModelingSteps_5through10.html), we will continue with the steps 5-10 to guide you through the implementation and completion stages of the projects. You can also find this in the Modeling Steps section of the Project Booklet."
      ]
    },
    {
      "cell_type": "markdown",
      "metadata": {
        "execution": {},
        "id": "HucTPV5TR38G"
      },
      "source": [
        "----\n",
        "# Reading\n",
        "\n",
        "Blohm G, Kording KP, Schrater PR (2020). _A How-to-Model Guide for Neuroscience_. eNeuro, 7(1) ENEURO.0352-19.2019. doi: [10.1523/ENEURO.0352-19.2019](https://doi.org/10.1523/ENEURO.0352-19.2019)\n",
        "\n",
        "Kording KP, Blohm G, Schrater P, Kay K (2020). _Appreciating the variety of goals in computational neuroscience_. Neurons, Behavior, Data Analysis, and Theory 3(6). url: [nbdt.scholasticahq.com/article/16723-appreciating-the-variety-of-goals-in-computational-neuroscience](https://nbdt.scholasticahq.com/article/16723-appreciating-the-variety-of-goals-in-computational-neuroscience)\n",
        "\n",
        "Schrater PR, Peters MK, Kording KP, Blohm G (2019). _Modeling in Neuroscience as a Decision Process_. OSF pre-print. url: [https://osf.io/w56vt/](osf.io/w56vt/)"
      ]
    }
  ],
  "metadata": {
    "colab": {
      "name": "ModelingSteps_1through4",
      "provenance": [],
      "toc_visible": true,
      "include_colab_link": true
    },
    "kernel": {
      "display_name": "Python 3",
      "language": "python",
      "name": "python3"
    },
    "kernelspec": {
      "display_name": "Python 3",
      "name": "python3"
    },
    "language_info": {
      "codemirror_mode": {
        "name": "ipython",
        "version": 3
      },
      "file_extension": ".py",
      "mimetype": "text/x-python",
      "name": "python",
      "nbconvert_exporter": "python",
      "pygments_lexer": "ipython3",
      "version": "3.7.13"
    },
    "widgets": {
      "application/vnd.jupyter.widget-state+json": {
        "9fb14004f71f4c118cdf1ce9feb6b976": {
          "model_module": "@jupyter-widgets/controls",
          "model_name": "TabModel",
          "model_module_version": "1.5.0",
          "state": {
            "_dom_classes": [],
            "_model_module": "@jupyter-widgets/controls",
            "_model_module_version": "1.5.0",
            "_model_name": "TabModel",
            "_titles": {
              "0": "Youtube",
              "1": "Bilibili"
            },
            "_view_count": null,
            "_view_module": "@jupyter-widgets/controls",
            "_view_module_version": "1.5.0",
            "_view_name": "TabView",
            "box_style": "",
            "children": [
              "IPY_MODEL_27ada328d5624dc5baec179de208f956",
              "IPY_MODEL_2c006a038f3b4913bbdc51afeceb91ad"
            ],
            "layout": "IPY_MODEL_be3d2178eff5468fb95dde12a3226939",
            "selected_index": 0
          }
        },
        "27ada328d5624dc5baec179de208f956": {
          "model_module": "@jupyter-widgets/output",
          "model_name": "OutputModel",
          "model_module_version": "1.0.0",
          "state": {
            "_dom_classes": [],
            "_model_module": "@jupyter-widgets/output",
            "_model_module_version": "1.0.0",
            "_model_name": "OutputModel",
            "_view_count": null,
            "_view_module": "@jupyter-widgets/output",
            "_view_module_version": "1.0.0",
            "_view_name": "OutputView",
            "layout": "IPY_MODEL_16882a5a0a374d1f9affa3b106a35cac",
            "msg_id": "",
            "outputs": [
              {
                "output_type": "stream",
                "name": "stdout",
                "text": [
                  "Video available at https://youtube.com/watch?v=XpEj-p7JkFE\n"
                ]
              },
              {
                "output_type": "display_data",
                "data": {
                  "text/plain": "<IPython.lib.display.YouTubeVideo at 0x7f7970f29720>",
                  "text/html": "\n        <iframe\n            width=\"854\"\n            height=\"480\"\n            src=\"https://www.youtube.com/embed/XpEj-p7JkFE?fs=1&rel=0\"\n            frameborder=\"0\"\n            allowfullscreen\n            \n        ></iframe>\n        ",
                  "image/jpeg": "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\n"
                },
                "metadata": {}
              }
            ]
          }
        },
        "2c006a038f3b4913bbdc51afeceb91ad": {
          "model_module": "@jupyter-widgets/output",
          "model_name": "OutputModel",
          "model_module_version": "1.0.0",
          "state": {
            "_dom_classes": [],
            "_model_module": "@jupyter-widgets/output",
            "_model_module_version": "1.0.0",
            "_model_name": "OutputModel",
            "_view_count": null,
            "_view_module": "@jupyter-widgets/output",
            "_view_module_version": "1.0.0",
            "_view_name": "OutputView",
            "layout": "IPY_MODEL_5609811ac42443bf95c64c66fe7569c1",
            "msg_id": "",
            "outputs": [
              {
                "output_type": "stream",
                "name": "stdout",
                "text": [
                  "Video available at https://www.bilibili.com/video/BV1Mq4y1x77s\n"
                ]
              },
              {
                "output_type": "display_data",
                "data": {
                  "text/plain": "<__main__.PlayVideo at 0x7f79704030d0>",
                  "text/html": "\n        <iframe\n            width=\"854\"\n            height=\"480\"\n            src=\"https://player.bilibili.com/player.html?bvid=BV1Mq4y1x77s&page=1?fs=1&autoplay=False\"\n            frameborder=\"0\"\n            allowfullscreen\n            \n        ></iframe>\n        "
                },
                "metadata": {}
              }
            ]
          }
        },
        "be3d2178eff5468fb95dde12a3226939": {
          "model_module": "@jupyter-widgets/base",
          "model_name": "LayoutModel",
          "model_module_version": "1.2.0",
          "state": {
            "_model_module": "@jupyter-widgets/base",
            "_model_module_version": "1.2.0",
            "_model_name": "LayoutModel",
            "_view_count": null,
            "_view_module": "@jupyter-widgets/base",
            "_view_module_version": "1.2.0",
            "_view_name": "LayoutView",
            "align_content": null,
            "align_items": null,
            "align_self": null,
            "border": null,
            "bottom": null,
            "display": null,
            "flex": null,
            "flex_flow": null,
            "grid_area": null,
            "grid_auto_columns": null,
            "grid_auto_flow": null,
            "grid_auto_rows": null,
            "grid_column": null,
            "grid_gap": null,
            "grid_row": null,
            "grid_template_areas": null,
            "grid_template_columns": null,
            "grid_template_rows": null,
            "height": null,
            "justify_content": null,
            "justify_items": null,
            "left": null,
            "margin": null,
            "max_height": null,
            "max_width": null,
            "min_height": null,
            "min_width": null,
            "object_fit": null,
            "object_position": null,
            "order": null,
            "overflow": null,
            "overflow_x": null,
            "overflow_y": null,
            "padding": null,
            "right": null,
            "top": null,
            "visibility": null,
            "width": null
          }
        },
        "16882a5a0a374d1f9affa3b106a35cac": {
          "model_module": "@jupyter-widgets/base",
          "model_name": "LayoutModel",
          "model_module_version": "1.2.0",
          "state": {
            "_model_module": "@jupyter-widgets/base",
            "_model_module_version": "1.2.0",
            "_model_name": "LayoutModel",
            "_view_count": null,
            "_view_module": "@jupyter-widgets/base",
            "_view_module_version": "1.2.0",
            "_view_name": "LayoutView",
            "align_content": null,
            "align_items": null,
            "align_self": null,
            "border": null,
            "bottom": null,
            "display": null,
            "flex": null,
            "flex_flow": null,
            "grid_area": null,
            "grid_auto_columns": null,
            "grid_auto_flow": null,
            "grid_auto_rows": null,
            "grid_column": null,
            "grid_gap": null,
            "grid_row": null,
            "grid_template_areas": null,
            "grid_template_columns": null,
            "grid_template_rows": null,
            "height": null,
            "justify_content": null,
            "justify_items": null,
            "left": null,
            "margin": null,
            "max_height": null,
            "max_width": null,
            "min_height": null,
            "min_width": null,
            "object_fit": null,
            "object_position": null,
            "order": null,
            "overflow": null,
            "overflow_x": null,
            "overflow_y": null,
            "padding": null,
            "right": null,
            "top": null,
            "visibility": null,
            "width": null
          }
        },
        "5609811ac42443bf95c64c66fe7569c1": {
          "model_module": "@jupyter-widgets/base",
          "model_name": "LayoutModel",
          "model_module_version": "1.2.0",
          "state": {
            "_model_module": "@jupyter-widgets/base",
            "_model_module_version": "1.2.0",
            "_model_name": "LayoutModel",
            "_view_count": null,
            "_view_module": "@jupyter-widgets/base",
            "_view_module_version": "1.2.0",
            "_view_name": "LayoutView",
            "align_content": null,
            "align_items": null,
            "align_self": null,
            "border": null,
            "bottom": null,
            "display": null,
            "flex": null,
            "flex_flow": null,
            "grid_area": null,
            "grid_auto_columns": null,
            "grid_auto_flow": null,
            "grid_auto_rows": null,
            "grid_column": null,
            "grid_gap": null,
            "grid_row": null,
            "grid_template_areas": null,
            "grid_template_columns": null,
            "grid_template_rows": null,
            "height": null,
            "justify_content": null,
            "justify_items": null,
            "left": null,
            "margin": null,
            "max_height": null,
            "max_width": null,
            "min_height": null,
            "min_width": null,
            "object_fit": null,
            "object_position": null,
            "order": null,
            "overflow": null,
            "overflow_x": null,
            "overflow_y": null,
            "padding": null,
            "right": null,
            "top": null,
            "visibility": null,
            "width": null
          }
        }
      }
    }
  },
  "nbformat": 4,
  "nbformat_minor": 0
}