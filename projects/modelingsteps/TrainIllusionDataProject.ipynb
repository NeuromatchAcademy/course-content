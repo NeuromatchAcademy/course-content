{
 "cells": [
  {
   "cell_type": "markdown",
   "metadata": {
    "colab_type": "text",
    "execution": {},
    "id": "view-in-github"
   },
   "source": [
    "<a href=\"https://colab.research.google.com/github/NeuromatchAcademy/course-content/blob/main/projects/modelingsteps/TrainIllusionDataProject.ipynb\" target=\"_parent\"><img src=\"https://colab.research.google.com/assets/colab-badge.svg\" alt=\"Open In Colab\"/></a> &nbsp; <a href=\"https://kaggle.com/kernels/welcome?src=https://raw.githubusercontent.com/NeuromatchAcademy/course-content/main/projects/modelingsteps/TrainIllusionDataProject.ipynb\" target=\"_parent\"><img src=\"https://kaggle.com/static/images/open-in-kaggle.svg\" alt=\"Open in Kaggle\"/></a>"
   ]
  },
  {
   "cell_type": "markdown",
   "metadata": {
    "execution": {}
   },
   "source": [
    "# Example Data Project: the Train Illusion\n",
    "\n",
    "Marius 't Hart, Megan Peters, Paul Schrater, Jean Laurens, Gunnar Blohm\n",
    "\n",
    "**Disclaimer**:  this is a \"toy\" data neuroscience project used to demonstrate the [10 step procedure of how-to-model](https://doi.org/10.1523/ENEURO.0352-19.2019). It is not meant to be state of the art research."
   ]
  },
  {
   "cell_type": "markdown",
   "metadata": {
    "execution": {}
   },
   "source": [
    "**Our 2021 Sponsors, including Presenting Sponsor Facebook Reality Labs**\n",
    "\n",
    "<p align='center'><img src='https://github.com/NeuromatchAcademy/widgets/blob/main/sponsors.png?raw=True'/></p>"
   ]
  },
  {
   "cell_type": "code",
   "execution_count": null,
   "metadata": {
    "cellView": "form",
    "execution": {}
   },
   "outputs": [],
   "source": [
    "# @title Setup\n",
    "\n",
    "# for matrices and plotting:\n",
    "import numpy as np\n",
    "import matplotlib.pyplot as plt\n",
    "\n",
    "# for random distributions:\n",
    "from scipy.stats import norm, poisson\n",
    "\n",
    "# for logistic regression:\n",
    "from sklearn.linear_model import LogisticRegression\n",
    "from sklearn.model_selection import cross_val_score\n",
    "!pip install tqdm --quiet"
   ]
  },
  {
   "cell_type": "code",
   "execution_count": null,
   "metadata": {
    "cellView": "form",
    "execution": {}
   },
   "outputs": [],
   "source": [
    "# @title Generate Data\n",
    "\n",
    "def generateSpikeTrains():\n",
    "\n",
    "  gain        = 2\n",
    "  neurons     = 50\n",
    "  movements   = [0,1,2]\n",
    "  repetitions = 800\n",
    "\n",
    "  np.random.seed(37)\n",
    "\n",
    "  # set up the basic parameters:\n",
    "  dt = 1/100\n",
    "  start, stop = -1.5, 1.5\n",
    "  t = np.arange(start, stop+dt, dt)                                            # a time interval\n",
    "  Velocity_sigma = 0.5                                                         # std dev of the velocity profile\n",
    "  Velocity_Profile = norm.pdf(t,0,Velocity_sigma)/norm.pdf(0,0,Velocity_sigma) # The Gaussian velocity profile, normalized to a peak of 1\n",
    "\n",
    "  # set up the neuron properties:\n",
    "  Gains = np.random.rand(neurons) * gain          # random sensitivity between 0 and `gain`\n",
    "  FRs   = (np.random.rand(neurons) * 60 ) - 10    # random base firing rate between -10 and 50\n",
    "\n",
    "  # output matrix will have this shape:\n",
    "  target_shape = [len(movements), repetitions, neurons, len(Velocity_Profile)]\n",
    "\n",
    "  # build matrix for spikes, first, they depend on the velocity profile:\n",
    "  Spikes = np.repeat(Velocity_Profile.reshape([1,1,1,len(Velocity_Profile)]),len(movements)*repetitions*neurons,axis=2).reshape(target_shape)\n",
    "\n",
    "  # multiplied by gains:\n",
    "  S_gains = np.repeat(np.repeat(Gains.reshape([1,1,neurons]), len(movements)*repetitions, axis=1).reshape(target_shape[:3]), len(Velocity_Profile)).reshape(target_shape)\n",
    "  Spikes = Spikes * S_gains\n",
    "\n",
    "  # and multiplied by the movement:\n",
    "  S_moves = np.repeat( np.array(movements).reshape([len(movements),1,1,1]), repetitions*neurons*len(Velocity_Profile), axis=3 ).reshape(target_shape)\n",
    "  Spikes = Spikes * S_moves\n",
    "\n",
    "  # on top of a baseline firing rate:\n",
    "  S_FR = np.repeat(np.repeat(FRs.reshape([1,1,neurons]), len(movements)*repetitions, axis=1).reshape(target_shape[:3]), len(Velocity_Profile)).reshape(target_shape)\n",
    "  Spikes = Spikes + S_FR\n",
    "\n",
    "  # can not run the poisson random number generator on input lower than 0:\n",
    "  Spikes = np.where(Spikes < 0, 0, Spikes)\n",
    "\n",
    "  # so far, these were expected firing rates per second, correct for dt:\n",
    "  Spikes = poisson.rvs(Spikes * dt)\n",
    "\n",
    "  return(Spikes)\n",
    "\n",
    "\n",
    "def subsetPerception(spikes):\n",
    "\n",
    "  movements = [0,1,2]\n",
    "  split     = 400\n",
    "  subset    = 40\n",
    "  hwin      = 3\n",
    "\n",
    "  [num_movements, repetitions, neurons, timepoints] = np.shape(spikes)\n",
    "\n",
    "  decision = np.zeros([num_movements, repetitions])\n",
    "\n",
    "  # ground truth for logistic regression:\n",
    "  y_train = np.repeat([0,1,1],split)\n",
    "  y_test  = np.repeat([0,1,1],repetitions-split)\n",
    "\n",
    "  m_train = np.repeat(movements, split)\n",
    "  m_test  = np.repeat(movements, split)\n",
    "\n",
    "  # reproduce the time points:\n",
    "  dt = 1/100\n",
    "  start, stop = -1.5, 1.5\n",
    "  t = np.arange(start, stop+dt, dt)\n",
    "\n",
    "  w_idx = list( (abs(t) < (hwin*dt)).nonzero()[0] )\n",
    "  w_0 = min(w_idx)\n",
    "  w_1 = max(w_idx)+1  # python...\n",
    "\n",
    "  # get the total spike counts from stationary and movement trials:\n",
    "  spikes_stat = np.sum( spikes[0,:,:,:], axis=2)\n",
    "  spikes_move = np.sum( spikes[1:,:,:,:], axis=3)\n",
    "\n",
    "  train_spikes_stat = spikes_stat[:split,:]\n",
    "  train_spikes_move = spikes_move[:,:split,:].reshape([-1,neurons])\n",
    "\n",
    "  test_spikes_stat = spikes_stat[split:,:]\n",
    "  test_spikes_move = spikes_move[:,split:,:].reshape([-1,neurons])\n",
    "\n",
    "  # data to use to predict y:\n",
    "  x_train = np.concatenate((train_spikes_stat, train_spikes_move))\n",
    "  x_test  = np.concatenate(( test_spikes_stat,  test_spikes_move))\n",
    "\n",
    "  # this line creates a logistics regression model object, and immediately fits it:\n",
    "  population_model = LogisticRegression(solver='liblinear', random_state=0).fit(x_train, y_train)\n",
    "\n",
    "  # solver, one of: 'liblinear', 'newton-cg', 'lbfgs', 'sag', and 'saga'\n",
    "  # some of those require certain other options\n",
    "  #print(population_model.coef_)       # slope\n",
    "  #print(population_model.intercept_)  # intercept\n",
    "\n",
    "  ground_truth = np.array(population_model.predict(x_test))\n",
    "  ground_truth = ground_truth.reshape([3,-1])\n",
    "\n",
    "  output = {}\n",
    "  output['perception'] = ground_truth\n",
    "  output['spikes']     = spikes[:,split:,:subset,:]\n",
    "\n",
    "  return(output)\n",
    "\n",
    "\n",
    "def getData():\n",
    "\n",
    "  spikes = generateSpikeTrains()\n",
    "\n",
    "  dataset = subsetPerception(spikes=spikes)\n",
    "\n",
    "  return(dataset)\n",
    "\n",
    "dataset = getData()\n",
    "perception = dataset['perception']\n",
    "spikes = dataset['spikes']"
   ]
  },
  {
   "cell_type": "code",
   "execution_count": null,
   "metadata": {
    "cellView": "form",
    "execution": {}
   },
   "outputs": [],
   "source": [
    "# @title Plot Functions\n",
    "\n",
    "def rasterplot(spikes,movement,trial):\n",
    "\n",
    "  [movements, trials, neurons, timepoints] = np.shape(spikes)\n",
    "\n",
    "  trial_spikes = spikes[movement,trial,:,:]\n",
    "\n",
    "  trial_events = [((trial_spikes[x,:] > 0).nonzero()[0]-150)/100 for x in range(neurons)]\n",
    "\n",
    "  plt.figure()\n",
    "  dt=1/100\n",
    "  plt.eventplot(trial_events, linewidths=1);\n",
    "  plt.title('movement: %d - trial: %d'%(movement, trial))\n",
    "  plt.ylabel('neuron')\n",
    "  plt.xlabel('time [s]')\n",
    "\n",
    "def plotCrossValAccuracies(accuracies):\n",
    "  f, ax = plt.subplots(figsize=(8, 3))\n",
    "  ax.boxplot(accuracies, vert=False, widths=.7)\n",
    "  ax.scatter(accuracies, np.ones(8))\n",
    "  ax.set(\n",
    "    xlabel=\"Accuracy\",\n",
    "    yticks=[],\n",
    "    title=f\"Average test accuracy: {accuracies.mean():.2%}\"\n",
    "  )\n",
    "  ax.spines[\"left\"].set_visible(False)"
   ]
  },
  {
   "cell_type": "markdown",
   "metadata": {
    "execution": {}
   },
   "source": [
    "----\n",
    "# Phenomenon\n",
    "*Part of Steps 1-2*\n",
    "\n",
    "The train illusion occurs when sitting on a train and viewing another train outside the window. Suddenly, the other train *seems* to move, i.e. you experience visual motion of the other train relative to your train. But which train is actually moving?\n",
    "\n",
    "Often people mix this up. In particular, they think their own train might be moving when it's the other train that moves; or vice versa. The illusion is usually resolved once you gain vision of the surroundings that lets you disambiguate the relative motion; or if you experience strong vibrations indicating that it is indeed your own train that is in motion."
   ]
  },
  {
   "cell_type": "markdown",
   "metadata": {
    "execution": {}
   },
   "source": [
    "----\n",
    "# Question\n",
    "\n",
    "*Part of Step 1*\n",
    "\n",
    "We assume that we have build the train illusion model (see the other example project colab). That model predicts that accumulated sensory evidence from vestibular signals determines the decision of whether self-motion is experienced or not. We now have vestibular neuron data (simulated in our case, but let's pretend) and would like to see if that prediction holds true.\n",
    "\n",
    "The data contains $N$ neurons and $M$ trials for each of 3 motion conditions: no self-motion, slowly accelerating self-motion and faster accelerating self-motion. \n",
    "\n",
    "\\begin{align}\n",
    "N &= 40\\\\\n",
    "M &= 400\\\\\n",
    "\\end{align}\n",
    "\n",
    "**So we can ask the following question**: \"Does accumulated vestibular neuron activity correlate with self-motion judgements?\""
   ]
  },
  {
   "cell_type": "markdown",
   "metadata": {
    "execution": {}
   },
   "source": [
    "# Background\n",
    "\n",
    "_Part of step 2_"
   ]
  },
  {
   "cell_type": "markdown",
   "metadata": {
    "execution": {}
   },
   "source": [
    "While it seems a well-known fact that vestibular signals are noisy, we should check if we can also find this in the literature."
   ]
  },
  {
   "cell_type": "markdown",
   "metadata": {
    "execution": {}
   },
   "source": [
    "Let's also see what's in our data, there should be a 4d array called `spikes` that has spike counts (positive integers), a 2d array called `perception` with self-motion judgements (0=no motion or 1=motion). Let's see what this data looks like:"
   ]
  },
  {
   "cell_type": "code",
   "execution_count": null,
   "metadata": {
    "execution": {}
   },
   "outputs": [
    {
     "name": "stdout",
     "output_type": "stream",
     "text": [
      "(3, 400, 40, 301)\n",
      "(3, 400)\n",
      "[0.355  0.7575 0.975 ]\n"
     ]
    }
   ],
   "source": [
    "print(np.shape(spikes))\n",
    "print(np.shape(perception))\n",
    "print(np.mean(perception, axis=1))"
   ]
  },
  {
   "cell_type": "markdown",
   "metadata": {
    "execution": {}
   },
   "source": [
    "In the `spikes` array, we see our 3 acceleration conditions (first dimension), with 400 trials each (second dimensions) and simultaneous recordings from 40 neurons (third dimension), across 3 seconds in 10 ms bins (fourth dimension). The first two dimensions are also there in the `perception` array.\n",
    "\n",
    "Perfect perception would have looked like [0, 1, 1]. The average judgements are far from correct (lots of self-motion illusions) but they do make some sense: it's closer to 0 in the no-motion condition and closer to 1 in both of the real-motion conditions.\n",
    "\n",
    "The idea of our project is that the vestibular signals are noisy so that they might be mis-interpreted by the brain. Let's see if we can reproduce the stimuli from the data:"
   ]
  },
  {
   "cell_type": "code",
   "execution_count": null,
   "metadata": {
    "execution": {}
   },
   "outputs": [
    {
     "data": {
      "text/plain": [
       "<matplotlib.legend.Legend at 0x7f190dc5e910>"
      ]
     },
     "execution_count": 5,
     "metadata": {},
     "output_type": "execute_result"
    },
    {
     "data": {
      "image/png": "[encoded data removed]",
      "text/plain": [
       "<Figure size 432x288 with 1 Axes>"
      ]
     },
     "metadata": {
      "needs_background": "light"
     },
     "output_type": "display_data"
    }
   ],
   "source": [
    "for move_no in range(3):\n",
    "  plt.plot(np.arange(-1.5,1.5+(1/100),(1/100)),np.mean(np.mean(spikes[move_no,:,:,:], axis=0), axis=0), label=['no motion', '$1 m/s^2$', '$2 m/s^2$'][move_no])\n",
    "plt.xlabel('time [s]');\n",
    "plt.ylabel('averaged spike counts');\n",
    "plt.legend()"
   ]
  },
  {
   "cell_type": "markdown",
   "metadata": {
    "execution": {}
   },
   "source": [
    "Blue is the no-motion condition, and produces flat average spike counts across the 3 s time interval. The orange and green line do show a bell-shaped curve that corresponds to the acceleration profile. But there also seems to be considerable noise: exactly what we need. Let's see what the spike trains for a single trial look like:"
   ]
  },
  {
   "cell_type": "code",
   "execution_count": null,
   "metadata": {
    "execution": {}
   },
   "outputs": [
    {
     "data": {
      "image/png": "[encoded data removed]",
      "text/plain": [
       "<Figure size 432x288 with 1 Axes>"
      ]
     },
     "metadata": {
      "needs_background": "light"
     },
     "output_type": "display_data"
    },
    {
     "data": {
      "image/png": "[encoded data removed]",
      "text/plain": [
       "<Figure size 432x288 with 1 Axes>"
      ]
     },
     "metadata": {
      "needs_background": "light"
     },
     "output_type": "display_data"
    },
    {
     "data": {
      "image/png": "[encoded data removed]",
      "text/plain": [
       "<Figure size 432x288 with 1 Axes>"
      ]
     },
     "metadata": {
      "needs_background": "light"
     },
     "output_type": "display_data"
    }
   ],
   "source": [
    "for move in range(3):\n",
    "  rasterplot(spikes = spikes, movement = move, trial = 0)"
   ]
  },
  {
   "cell_type": "markdown",
   "metadata": {
    "execution": {}
   },
   "source": [
    "You can change the trial number in the bit of code above to compare what the rasterplots look like in different trials. You'll notice that they all look kind of the same: the 3 conditions are very hard (impossible?) to distinguish by eye-balling.\n",
    "\n",
    "Now that we have seen the data, let's see if we can extract self-motion judgements from the spike counts."
   ]
  },
  {
   "cell_type": "markdown",
   "metadata": {
    "execution": {}
   },
   "source": [
    "----\n",
    "# Ingredients\n",
    "\n",
    "*Part of step 3*\n",
    "\n",
    "In order to address our question we need to design an appropriate computational data analysis pipeline. We did some brainstorming and think that we need to somehow extract the self-motion judgements from the spike counts of our neurons. Based on that, our algorithm needs to make a decision: was there self motion or not? This is a classical 2-choice classification problem. We will have to transform the raw spike data into the right input for the algorithm (spike pre-processing).\n",
    "\n",
    "So we determined that we probably needed the following ingredients:\n",
    "\n",
    "* spike trains $S$ of 3-second trials (10ms spike bins)\n",
    "* ground truth movement $m_r$ (real) and perceived movement $m_p$\n",
    "* some form of classifier $C$ giving us a classification $c$\n",
    "* spike pre-processing"
   ]
  },
  {
   "cell_type": "markdown",
   "metadata": {
    "execution": {}
   },
   "source": [
    "----\n",
    "# Hypotheses\n",
    "\n",
    "*Part of step 4*\n",
    "\n",
    "We think that noise in the signal drives whether or not people perceive self motion. Maybe the brain uses the strongest signal at peak acceleration to decide on self motion, but we actually think it is better to accumulate evidence over some period of time. We want to test this. The noise idea also means that when the signal-to-noise ratio is higher, the brain does better, and this would be in the faster acceleration condition. We want to test this too.\n",
    "\n",
    "We came up with the following hypotheses focussing on specific details of our overall research question:\n",
    "\n",
    "* Hyp 1: Accumulated vestibular spike rates explain self-motion judgements better than average spike rates around peak acceleration.\n",
    "* Hyp 2: Classification performance should be better for faster vs slower self-motion.\n",
    "\n",
    "> There are many other hypotheses you could come up with, but for simplicity, let's go with those.\n",
    "\n",
    "Mathematically, we can write our hypotheses as follows (using our above ingredients):\n",
    "* Hyp 1: $\\mathbf{E}(c_{accum})>\\mathbf{E}(c_{win})$\n",
    "* Hyp 2: $\\mathbf{E}(c_{fast})>\\mathbf{E}(c_{slow})$\n",
    "\n",
    "Where $\\mathbf{E}$ denotes taking the expected value (in this case the mean) of its argument: classification outcome in a given trial type."
   ]
  },
  {
   "cell_type": "markdown",
   "metadata": {
    "execution": {}
   },
   "source": [
    "----\n",
    "# Selected toolkit\n",
    "\n",
    "*Part of step 5*\n",
    "\n",
    "We want to build some form of classification pipeline. There are many options here, but a simple decoder would be a good start. Since we will learn all about Generalized Linear Models soon, we decided to use that! From W1D4: Generalized Linear Models there were two models that looked relevant:\n",
    "\n",
    "* Linear-Nonlinear-Poisson GLM: predict spike counts from stimulus\n",
    "* Logistic Regression: predict stimulus from spike counts\n",
    "\n",
    "Here we want to predict self-motion from spike counts, so we pick Logistic Regression."
   ]
  },
  {
   "cell_type": "markdown",
   "metadata": {
    "execution": {}
   },
   "source": [
    "----\n",
    "# Model draft\n",
    "\n",
    "*Part of step 6*\n",
    "\n",
    "Brainstorming on the whiteboard, we came up with this set of steps:\n",
    "\n",
    "1. convert spike count data into design matrix: trials x neurons (with accumulated or windowed data)\n",
    "2. get the classes each trial belongs to: stimulus (stationary / moving) or self-motion judgements (moving or not?) as a vector array\n",
    "3. split data into train and test sets (200 trials each for the 3 conditions?) with an equal number of each class\n",
    "4. fit logistic regression model on training set, and get predictions for test set\n",
    "\n",
    "![picture](https://github.com/NeuromatchAcademy/course-content/blob/main/tutorials/static/data_analysis_step6.jpeg?raw=1)\n",
    "\n"
   ]
  },
  {
   "cell_type": "markdown",
   "metadata": {
    "execution": {}
   },
   "source": [
    "----\n",
    "# Model implementation\n",
    "\n",
    "*Part of step 7*\n",
    "\n"
   ]
  },
  {
   "cell_type": "markdown",
   "metadata": {
    "execution": {}
   },
   "source": [
    "Below is a function that gets us the design matrix of observations X features (in this case: trials X neurons). It sums all spike counts, either across the whole time interval, or a window, specified in seconds before and after the peak acceleration at time=0 (it is the half-width of the window: `halfwin`)."
   ]
  },
  {
   "cell_type": "code",
   "execution_count": null,
   "metadata": {
    "execution": {}
   },
   "outputs": [
    {
     "name": "stdout",
     "output_type": "stream",
     "text": [
      "(800, 40)\n",
      "[76.33475 77.53275 78.61975]\n",
      "76.33475\n",
      "77.53275\n"
     ]
    }
   ],
   "source": [
    "m_r = np.repeat([0,1,1], 400)\n",
    "m_p = perception.reshape([-1])\n",
    "a_r = np.repeat([0,1,2], 400) # for grouping in cross validation? maybe not\n",
    "\n",
    "def getDesignMatrix(spikes, motions, classes, halfwin=None):\n",
    "  \"\"\"\n",
    "    Get the design matrix and vector of classes for a logistic regression.\n",
    "\n",
    "    Args:\n",
    "        spikes (numpy.ndarray): a 4d matrix with spike counts for 1) three motion\n",
    "        conditions, 2) 400 trials, 3) 40 neurons, 4) 301 time bins\n",
    "        motions (list): motion conditions to include, any subset of [0,1,2]\n",
    "        classes (list): list of length 3 * 400 with classes to use for the\n",
    "        logistic regression\n",
    "        halfwin (None or float): None to use the whole 3 s time interval, or a\n",
    "        value between 0 and 1.5 seconds as the extent of the window from 0 (when\n",
    "        acceleration peaks) in both directions.\n",
    "\n",
    "    Returns:\n",
    "        (list of numpy.ndarray): first element of the list is the design matrix\n",
    "        of shape [trials] X [neurons], second elements is a 1d matrix to use as\n",
    "        a vector of classes to predict from the design matrix\n",
    "\n",
    "    This function can be used to get the right design matrix and set of class\n",
    "    labels for a variety of logistic regressions we might want to do.\n",
    "  \"\"\"\n",
    "\n",
    "  # select motion conditions:\n",
    "  spikes = spikes[motions,:,:,:]\n",
    "  y = (np.array(classes).reshape([3,-1])[motions,:]).reshape([-1])\n",
    "\n",
    "  [movstims, trials, neurons, timepoints] = np.shape(spikes)\n",
    "\n",
    "  # first we get the window (if any):\n",
    "  if halfwin is None:\n",
    "    return( [ np.sum(spikes, axis=3).reshape([movstims*trials,neurons]), y ] )\n",
    "  else:\n",
    "    dt = 1/100\n",
    "    t = np.arange(-1.5,1.5+dt,dt)\n",
    "    win_idx = (abs(t) < halfwin).nonzero()[0]\n",
    "    w_0, w_1 = min(win_idx), max(win_idx)+1\n",
    "    return( [ np.sum(spikes[:,:,:,w_0:w_1], axis=3).reshape([movstims*trials,neurons]), y ] )\n",
    "\n",
    "\n",
    "# test the function:\n",
    "[desmat, y] = getDesignMatrix(spikes, motions=[0,1], classes=m_r)\n",
    "# let's check the shape:\n",
    "print(np.shape(desmat))\n",
    "# and let's check if the mean sum of spikes checks out:\n",
    "print(np.mean(np.sum(spikes,axis=3),axis=(1,2)))\n",
    "for mov in range(2):\n",
    "  print(np.mean(desmat[(mov*400):((mov+1)*400),:]))"
   ]
  },
  {
   "cell_type": "markdown",
   "metadata": {
    "execution": {}
   },
   "source": [
    "First, the design matrix: `desmat` has the right shape: 800 trials (for two conditions), by 40 neurons.\n",
    "\n",
    "We also get the same average spike counts from our function (76.3 and 77.5) as when calculating it 'by hand' ([76.33475 77.53275 78.61975]).\n",
    "\n",
    "This means our function `getDesignMatrix()` works correctly (unit test)."
   ]
  },
  {
   "cell_type": "markdown",
   "metadata": {
    "execution": {}
   },
   "source": [
    "It also gets us the classes for each trial. We can use both judgements, $m_p$, and stimuli, $m_r$, as one vector, and `getDesignMatrix()` returns the correct subset (depending on which motion conditions are used) as the second variable."
   ]
  },
  {
   "cell_type": "markdown",
   "metadata": {
    "execution": {}
   },
   "source": [
    "We wanted to split the data into a training and test set, but we can have scikit-learn do this for us with the `cross_val_score()` function, as we saw in the GLM day:"
   ]
  },
  {
   "cell_type": "code",
   "execution_count": null,
   "metadata": {
    "execution": {}
   },
   "outputs": [
    {
     "data": {
      "image/png": "[encoded data removed]",
      "text/plain": [
       "<Figure size 576x216 with 1 Axes>"
      ]
     },
     "metadata": {
      "needs_background": "light"
     },
     "output_type": "display_data"
    }
   ],
   "source": [
    "accuracies = cross_val_score(LogisticRegression(solver='liblinear'), X=desmat, y=y, cv=8)\n",
    "plotCrossValAccuracies(accuracies) # this plotting function is copied from W1D4: Generalized Linear Models"
   ]
  },
  {
   "cell_type": "markdown",
   "metadata": {
    "execution": {}
   },
   "source": [
    "We asked for 8 cross validations, which show up as the blue dots in the graph (two have the same accuracy). Prediction accuracy ranges from 56% to 72%, with the average at 65%, and the orange line is the median. Given the noisy data, that is not too bad actually.\n",
    "\n",
    "But maybe it's better to split it according to the conditions where there is motion but of different magnitude. It should work better to classify higher acceleration motion from no motion as compared to classifying the lower acceleration motion.\n",
    "\n",
    "Maybe it also works better to ignore some of the noise at the beginning and end of each trial by focussing on the spikes around the maximum acceleration, using our window option. The average spike count plot above, seems to best discriminate between the three motion conditions around peak acceleration (at 0 s).\n",
    "\n",
    "We also want to test if it's possible to predict the self-motion judgements rather than the actual motion.\n",
    "\n",
    "So we write a function that brings it all together:"
   ]
  },
  {
   "cell_type": "code",
   "execution_count": null,
   "metadata": {
    "execution": {}
   },
   "outputs": [
    {
     "data": {
      "image/png": "[encoded data removed]",
      "text/plain": [
       "<Figure size 576x216 with 1 Axes>"
      ]
     },
     "metadata": {
      "needs_background": "light"
     },
     "output_type": "display_data"
    }
   ],
   "source": [
    "m_r = np.repeat([0,1,1], 400)\n",
    "m_p = perception.reshape([-1])\n",
    "\n",
    "def classifyMotionFromSpikes(spikes, classes, halfwin=None, motions=[0,1,2], cv=8):\n",
    "  \"\"\"\n",
    "    Runs one logistic regression using the specified parameters.\n",
    "\n",
    "    Args:\n",
    "        spikes (numpy.ndarray): a 4d matrix with spike counts for 1) three motion\n",
    "        conditions, 2) 400 trials, 3) 40 neurons, 4) 301 time bins\n",
    "        classes (list): list of length 3 * 400 with classes to use for the\n",
    "        logistic regression\n",
    "        halfwin: None to use the whole 3 s time interval, or a value between 0\n",
    "        and 0.750 seconds as the extent of the window from 0 (when acceleration\n",
    "        peaks)\n",
    "        motions (list): motion conditions to include, any subset of [0,1,2]\n",
    "        cv (int): number of cross validations to do in logistic regression\n",
    "\n",
    "    Returns:\n",
    "        (numpy.ndarray): 1d array of shape (cv,) with prediction accuracies for\n",
    "        each cross validation\n",
    "\n",
    "    This function uses our getDesignMatrix() function according to specification\n",
    "    and then uses cross-validated logistic regression and returns the accuracy\n",
    "    for each run of the model.\n",
    "  \"\"\"\n",
    "\n",
    "  # get the right design matrix:\n",
    "  X, y = getDesignMatrix(spikes, motions, classes=classes, halfwin=halfwin)\n",
    "\n",
    "  # right now, we are not using regularization:\n",
    "  return( cross_val_score(LogisticRegression(solver='liblinear'), X=X, y=y, cv=cv) )\n",
    "\n",
    "accuracies = classifyMotionFromSpikes(spikes, m_r, motions=[0,1])\n",
    "plotCrossValAccuracies(accuracies)"
   ]
  },
  {
   "cell_type": "markdown",
   "metadata": {
    "execution": {}
   },
   "source": [
    "This is the exact same figure as before, so our function `classifyMotionFromSpikes()` also works as intended."
   ]
  },
  {
   "cell_type": "markdown",
   "metadata": {
    "execution": {}
   },
   "source": [
    "----\n",
    "# Model completion\n",
    "\n",
    "*Part of step 8*\n",
    "\n",
    "**Can we answer our question?** Question: \"Does accumulated vestibular neuron activity correlate with self-motion judgements?\" Yes, we can get an answer to the question by applying our analysis to predict self-motion judgements.\n",
    "\n",
    "**Can we speak to our hypothesis?** We had two hypotheses: 1) prediction is better with total accumulated spike counts than from a window around peak acceleration, and 2) prediction is better with higher acceleration as the signal-to-noise ratio increases.\n",
    "\n",
    "**Does the model reach our goals?** We want to understand if motion judgement and not true motion correlates better with vestibular neural activity.\n",
    "\n",
    "Note: We have somewhat refined our goal here by explicitly contrasting true motion with motion judgements."
   ]
  },
  {
   "cell_type": "markdown",
   "metadata": {
    "execution": {}
   },
   "source": [
    "----\n",
    "# Model evaluation & testing\n",
    "\n",
    "*Part of step 9*\n",
    "\n",
    "We can now evaluate the performance of our analysis pipeline.\n",
    "\n",
    "To do so, we will run the logistic regression quite a few times: on all data or split by the velocities, and then we use the data to predict the presence of real motion, or the judgements of self-motion. We repeat this for total accumulated spikes and for a window around the peak acceleration. And then we'll plot the average classification performance in those 12 cases."
   ]
  },
  {
   "cell_type": "code",
   "execution_count": null,
   "metadata": {
    "execution": {}
   },
   "outputs": [],
   "source": [
    "def runAnalysis(spikes):\n",
    "  \"\"\"\n",
    "    Runs one logistic regression using the specified parameters.\n",
    "\n",
    "    Args:\n",
    "        spikes (numpy.ndarray): a 4d matrix with spike counts for 1) three motion\n",
    "        conditions, 2) 400 trials, 3) 40 neurons, 4) 301 time bins\n",
    "\n",
    "    Returns:\n",
    "        (numpy.ndarray): array of shape (2, 2, 3, 12), where the first dimension\n",
    "        denotes full interval or 100 ms window, the second dimension denotes\n",
    "        real motion or self-motion judgements, the third dimension denotes slow,\n",
    "        fast or all data, and for each there 12 prediction accuracies for each\n",
    "        of the 12 cross validations\n",
    "\n",
    "    This function uses our classifyMotionFromSpikes()) function according to\n",
    "    specification for all the different ways we want to classify the data and\n",
    "    gives us the classification performance.\n",
    "  \"\"\"\n",
    "\n",
    "  # variables we use for testing our analysis pipeline:\n",
    "  m_r = np.repeat([0,1,1], 400)\n",
    "  m_p = perception.reshape([-1])\n",
    "  halfwins    = [None, 0.050]\n",
    "  motions     = [[0,1],[0,2],[0,1,2]]\n",
    "  class_sets  = [m_r, m_p]\n",
    "  cv = 12\n",
    "\n",
    "  # empty array to collect classification performance:\n",
    "  accuracies = np.zeros([len(halfwins),len(class_sets),len(motions),cv])\n",
    "\n",
    "  for halfwin_no in range(len(halfwins)):\n",
    "\n",
    "    halfwin = halfwins[halfwin_no]\n",
    "    lty = ['-','--'][halfwin_no]\n",
    "    leg_hw = ['accumulated', '100 ms window'][halfwin_no]\n",
    "\n",
    "    for classes_no in range(len(class_sets)):\n",
    "\n",
    "      classes = class_sets[classes_no]\n",
    "      leg_class = ['real', 'judgements'][classes_no]\n",
    "      color = ['orange','purple'][classes_no]\n",
    "\n",
    "      for motions_no in range(len(motions)):\n",
    "\n",
    "        motion = motions[motions_no]\n",
    "        cond_acc = classifyMotionFromSpikes(spikes  = spikes,\n",
    "                                            classes = classes,\n",
    "                                            halfwin = halfwin,\n",
    "                                            motions = motion,\n",
    "                                            cv=12)\n",
    "        accuracies[halfwin_no,classes_no,motions_no,:] = cond_acc\n",
    "\n",
    "      m_acc = np.mean(accuracies[halfwin_no,classes_no,:,:], axis=1)\n",
    "\n",
    "  return(accuracies)\n",
    "\n",
    "# here we run the above function and store the output:\n",
    "accuracies = runAnalysis(spikes)"
   ]
  },
  {
   "cell_type": "markdown",
   "metadata": {
    "execution": {}
   },
   "source": [
    "We will need to plot this output, and to simplify the code, we do that in a separate function, which we write here:"
   ]
  },
  {
   "cell_type": "code",
   "execution_count": null,
   "metadata": {
    "execution": {}
   },
   "outputs": [
    {
     "data": {
      "image/png": "[encoded data removed]",
      "text/plain": [
       "<Figure size 432x288 with 1 Axes>"
      ]
     },
     "metadata": {
      "needs_background": "light"
     },
     "output_type": "display_data"
    }
   ],
   "source": [
    "def plotAccuracies(accuracies):\n",
    "  \"\"\"\n",
    "    Plot the accuracies from our main fitting function.\n",
    "\n",
    "    Args:\n",
    "        accuarcies (numpy.ndarray): a 4d matrix with performance accuracy for\n",
    "        1) full interval or 100 ms window, 2) real motion or self-motion\n",
    "        judgements, 3) slow, fast or all conditions, and 4) the 12 cross\n",
    "        validations\n",
    "\n",
    "    Returns:\n",
    "\n",
    "    This function plots the output of our data analysis pipeline and does not\n",
    "    return anything.\n",
    "  \"\"\"\n",
    "  ax = plt.figure(figsize=(6,4))\n",
    "  plt.title('classification accuracy')\n",
    "  plt.xlim([0.5,3.5])\n",
    "  plt.ylim([0.4,1.0])\n",
    "  plt.ylabel('proportion correct')\n",
    "  plt.xlabel('velocity condition vs. stationary')\n",
    "\n",
    "  for halfwin_no in range(2):\n",
    "\n",
    "    lty = ['-','--'][halfwin_no]\n",
    "    leg_hw = ['accumulated', '100 ms window'][halfwin_no]\n",
    "\n",
    "    for classes_no in range(2):\n",
    "\n",
    "      leg_class = ['real', 'judgements'][classes_no]\n",
    "      color = ['orange','purple'][classes_no]\n",
    "\n",
    "      m_acc = np.mean(accuracies[halfwin_no,classes_no,:,:], axis=1)\n",
    "      plt.plot([1,2,3], m_acc, lty, color=color, label=leg_class+' '+leg_hw)\n",
    "\n",
    "  plt.xticks(ticks=[1,2,3], labels=['slow ($1 m/s^2$)','fast ($2 m/s^2$)','both'])\n",
    "  plt.legend(loc='lower right')\n",
    "  plt.show()\n",
    "\n",
    "plotAccuracies(accuracies)"
   ]
  },
  {
   "cell_type": "markdown",
   "metadata": {
    "execution": {}
   },
   "source": [
    "Well, that's interesting! The logistic regression doesn't do a perfect job, but there is information in these results.\n",
    "\n",
    "1. The dashed lines reflect predictions based on a small window of data, and they do worse than the full data set: this could mean that the brain also integrates signals across longer time frames for perception.\n",
    "\n",
    "2. In the predictions based on accumulated spike counts, the slow movements are harder to separate from no movements than the faster movements. This is clearer when predicting real motion than when predicting self-motion judgements.\n",
    "\n",
    "Those were our two hypotheses, but we notice something else:\n",
    "\n",
    "3. Self-motion judgments display higher decoding accuracy than the actual motion.\n",
    "\n",
    "Actually, if self-motion judgements and our logistic regression use input from the same noisy sensors, it kind of makes sense that they would both give similar output. This is in line the notion that self-motion judgements can be wrong because the underlying sensory signals are noisy. Of course, this only works if we record activity from neuronal populations that contribute to self-motion judgements. On the other hand, we would also see this result if the sensory signal was not noisy and we recorded from one of several populations that contribute to self-motion judgements in a noisy way. So we need to do more research here.\n",
    "\n",
    "Either way, we learned something today!"
   ]
  },
  {
   "cell_type": "markdown",
   "metadata": {
    "execution": {}
   },
   "source": [
    "----\n",
    "# Summary\n",
    "*Part of Step 10*\n",
    "\n",
    "Let's write a simple abstract following the guidelines.\n",
    "\n",
    "**A. What is the phenomena?** Here summarize the part of the phenomena which your model addresses.\n",
    "\n",
    "_When sitting in a stationary train and seeing the train next to them move, people may experience the \"train illusion\": they feel like they are moving when they are not, or vice versa. Vestibular information can disambiguate self motion from motion of the adjacent train._\n",
    "\n",
    "**B. What is the key scientific question?** Clearly articulate the question which your model tries to answer.\n",
    "\n",
    "_However, it is unknown if accumulated, noisy vestibular neuron activity correlates with self-motion judgement._\n",
    "\n",
    "**C. What was our hypothesis?** Explain the key relationships which we relied on to simulate the phenomena.\n",
    "\n",
    "_Based on previous modeling efforts, we hypothesized that cumulative spike counts (not instantaneous) recorded from vestibular neurons can better discriminate experienced self motion judgements as opposed to true self motion._\n",
    "\n",
    "**D. How did your model work?** Give an overview of the model, it's main components, and how the model works. \"Here we ...\"\n",
    "\n",
    "_Here we use logistic regression to classify both true self motion and experienced self motion judgements from vestibular neuron activity. This was done both with the vestibular signal accumulated across the full trial and with a 100 ms window ('instantaneous') around peak acceleration, and with 2 different speeds compared to a no-motion condition._\n",
    "\n",
    "**E. What did we find?** Did the model work? Explain the key outcomes of your model evaluation.\n",
    "\n",
    "_Decoding performance for accumulated vestibular signals was higher than for instantaneous signals. Further, experienced self motion judgements could be classified better than true self motion._\n",
    "\n",
    "**F. What can we conclude?** Conclude as much as you can with reference to the hypothesis, within the limits of the model.\n",
    "\n",
    "_We conclude that accumulated, noisy vestibular signals during slowly-accelerating self motion may drive the train illusion._\n",
    "\n",
    "**G. What are the limitations and future directions?** What is left to be learned? Briefly argue the plausibility of the approach and/or what you think is essential that may have been left out.\n",
    "\n",
    "_Future research should examine how visual signals may combine with vestibular signals in real-world scenarios to causally link these sensory signals to self-motion experience and illusions._\n",
    "\n",
    "\n",
    "If we put this all in one paragraph, we have our final complete abstract. But, first, do not include the letters in _your_ abstract, and second, we did paraphrase the answers a little so they fit together.\n",
    "\n",
    "# Abstract\n",
    "\n",
    "\n",
    "(A) When sitting in a stationary train and seeing the train next to them move, people may experience the \"train illusion\": they feel like they are moving when they are not, or vice versa. Vestibular information can disambiguate self motion from motion of the adjacent train. (B) However, it is unknown if accumulated, noisy vestibular neuron activity correlates with self-motion judgement. (C) Based on previous modeling efforts, we hypothesized that cumulative spike counts (not instantaneous) recorded from vestibular neurons can better discriminate experienced self motion judgements as opposed to true self motion. (D) Here we use logistic regression to classify both true self motion and experienced self motion judgements from vestibular neuron activity. This was done both with the vestibular signal accumulated across the full trial and with a 100 ms window ('instantaneous') around peak acceleration, and with 2 different speeds compared to a no-motion condition. (E) Decoding performance for accumulated vestibular signals was higher than for instantaneous signals. Further, experienced self motion judgements could be classified better than true self motion. (F) We conclude that accumulated, noisy vestibular signals during slowly-accelerating self motion may drive the train illusion. (G) Future research should model possible mechanisms by which visual signals may combine with vestibular signals to causally link these sensory signals to self-motion experience and illusions.\n",
    "\n",
    "\n"
   ]
  },
  {
   "cell_type": "markdown",
   "metadata": {
    "execution": {}
   },
   "source": [
    "----\n",
    "# Final thoughts\n",
    "\n",
    "Note that the analysis pipeline we built here was extremely simple and we used artificial data on purpose. It allowed us to go through all the steps of building a data neuroscience project, and hopefully you noticed that it is not always a linear process, you will go back to different steps if you hit a roadblock somewhere.\n",
    "\n",
    "There are many issues that we did not address, e.g.:\n",
    "* we could have tried different decoders\n",
    "* or find the optimal window\n",
    "* what if we had more data...\n",
    "* how do different neurons contribute to the decision? And why?\n",
    "  * this is something that you want to explore as a neuroscientist\n",
    "* we could have run a GLM on the neurons*time array and then analyze the weightings to see if all acceleration steps are weighted equally (perfect integration)... or not?\n",
    "* what is the role of visual motion in this phenomenon?\n",
    "\n",
    "However, this project is not meant to be complete, and yours doesn't have to be either. The goal of the projects is to go through _the process_ of a modeling or data science project and put into practice one or more of the toolkits you learn at NMA with your group.\n",
    "\n"
   ]
  }
 ],
 "metadata": {
  "colab": {
   "collapsed_sections": [],
   "include_colab_link": true,
   "name": "TrainIllusionDataProject",
   "provenance": [],
   "toc_visible": true
  },
  "kernel": {
   "display_name": "Python 3",
   "language": "python",
   "name": "python3"
  },
  "kernelspec": {
   "display_name": "Python 3",
   "name": "python3"
  },
  "language_info": {
   "codemirror_mode": {
    "name": "ipython",
    "version": 3
   },
   "file_extension": ".py",
   "mimetype": "text/x-python",
   "name": "python",
   "nbconvert_exporter": "python",
   "pygments_lexer": "ipython3",
   "version": "3.7.13"
  }
 },
 "nbformat": 4,
 "nbformat_minor": 0
}
