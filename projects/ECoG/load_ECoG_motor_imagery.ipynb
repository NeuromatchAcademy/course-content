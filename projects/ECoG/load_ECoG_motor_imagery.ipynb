{
  "nbformat": 4,
  "nbformat_minor": 0,
  "metadata": {
    "colab": {
      "name": "load_ECoG_motor_imagery",
      "provenance": [],
      "collapsed_sections": [],
      "toc_visible": true
    },
    "kernelspec": {
      "name": "python3",
      "display_name": "Python 3"
    }
  },
  "cells": [
    {
      "cell_type": "markdown",
      "metadata": {
        "id": "bEqdz1ZUMaj1"
      },
      "source": [
        "## Loading of Miller ECoG data of motor imagery\n",
        "\n",
        "includes some visualizations"
      ]
    },
    {
      "cell_type": "code",
      "metadata": {
        "id": "TLWjKq8bLDqm",
        "cellView": "form"
      },
      "source": [
        "#@title Data retrieval\n",
        "import os, requests\n",
        "\n",
        "fname = 'motor_imagery.npz'\n",
        "url = \"https://osf.io/ksqv8/download\"\n",
        "\n",
        "if not os.path.isfile(fname):\n",
        "  try:\n",
        "    r = requests.get(url)\n",
        "  except requests.ConnectionError:\n",
        "    print(\"!!! Failed to download data !!!\")\n",
        "  else:\n",
        "    if r.status_code != requests.codes.ok:\n",
        "      print(\"!!! Failed to download data !!!\")\n",
        "    else:\n",
        "      with open(fname, \"wb\") as fid:\n",
        "        fid.write(r.content)\n"
      ],
      "execution_count": 1,
      "outputs": []
    },
    {
      "cell_type": "code",
      "metadata": {
        "id": "raBVOEWgUK_B",
        "cellView": "form"
      },
      "source": [
        "#@title Install packages, import matplotlib and set defaults\n",
        "# install packages to visualize brains and electrode locations\n",
        "!pip install nilearn --quiet\n",
        "!pip install nimare --quiet\n",
        "\n",
        "from matplotlib import rcParams \n",
        "from matplotlib import pyplot as plt\n",
        "rcParams['figure.figsize'] = [20, 4]\n",
        "rcParams['font.size'] =15\n",
        "rcParams['axes.spines.top'] = False\n",
        "rcParams['axes.spines.right'] = False\n",
        "rcParams['figure.autolayout'] = True"
      ],
      "execution_count": null,
      "outputs": []
    },
    {
      "cell_type": "code",
      "metadata": {
        "id": "sffzC_hyLgWZ",
        "colab": {
          "base_uri": "https://localhost:8080/"
        },
        "outputId": "f0cd1431-4d1c-417e-c850-83217875374f"
      },
      "source": [
        "#@title Data loading\n",
        "import numpy as np\n",
        "\n",
        "alldat = np.load(fname, allow_pickle=True)['dat']\n",
        "\n",
        "# select just one of the recordings here. 11 is nice because it has some neurons in vis ctx. \n",
        "dat1 = alldat[0][0]\n",
        "dat2 = alldat[0][1]\n",
        "\n",
        "print(dat1.keys())\n",
        "print(dat2.keys())"
      ],
      "execution_count": 3,
      "outputs": [
        {
          "output_type": "stream",
          "text": [
            "dict_keys(['t_off', 'stim_id', 't_on', 'srate', 'V', 'scale_uv', 'locs'])\n",
            "dict_keys(['t_off', 'stim_id', 't_on', 'srate', 'V', 'scale_uv', 'locs'])\n"
          ],
          "name": "stdout"
        }
      ]
    },
    {
      "cell_type": "markdown",
      "metadata": {
        "id": "5K7UT7dyj_6R"
      },
      "source": [
        "# Dataset info #\n",
        "\n",
        "This is one of multiple ECoG datasets from Miller 2019, recorded in a clinical settings with a variety of tasks. Raw data and dataset paper are here:\n",
        "\n",
        "https://exhibits.stanford.edu/data/catalog/zk881ps0522\n",
        "https://www.nature.com/articles/s41562-019-0678-3\n",
        "\n",
        "This particular dataset was originally described in this paper: \n",
        "\n",
        "*Miller, Kai J., Gerwin Schalk, Eberhard E. Fetz, Marcel Den Nijs, Jeffrey G. Ojemann, and Rajesh PN Rao. \"Cortical activity during motor execution, motor imagery, and imagery-based online feedback.\" Proceedings of the National Academy of Sciences (2010): 200913697.*\n",
        "\n",
        "`dat1` and `dat2` are data from the two blocks performed in each subject. The first one was the actual movements, the second one was motor imagery. For the movement task, from the original dataset instructions:\n",
        "\n",
        "*Patients performed simple, repetitive, motor tasks of hand (synchronous flexion and extension of all fingers, i.e., clenching and releasing a fist at a self-paced rate of ~1-2 Hz) or tongue (opening of mouth with protrusion and retraction of the tongue, i.e., sticking the tongue in and out, also at ~1-2 Hz). These movements were performed in an interval-based manner, alternating between movement and rest, and the side of move- ment was always contralateral to the side of cortical grid placement.*\n",
        "\n",
        "For the imagery task, from the original dataset instructions:\n",
        "\n",
        "*Following the overt movement experiment, each subject performed an imagery task, imagining making identical movement rather than executing the movement. The imagery was kinesthetic rather than visual (“imagine yourself performing the actions like you just did”; i.e., “don’t imagine what it looked like, but imagine making the motions”).*\n",
        "\n",
        "Sample rate is always 1000Hz, and the ECoG data has been notch-filtered at 60, 120, 180, 240 and 250Hz, followed by z-scoring across time and conversion to float16 to minimize size. Please convert back to float32 after loading the data in the notebook, to avoid unexpected behavior. \n",
        "\n",
        "Both experiments: \n",
        "* `dat['V']`: continuous voltage data (time by channels)\n",
        "* `dat['srate']`: acquisition rate (1000 Hz). All stimulus times are in units of this.  \n",
        "* `dat['t_on']`: time of stimulus onset in data samples\n",
        "* `dat['t_off']`: time of stimulus offset, always 400 samples after `t_on`\n",
        "* `dat['stim_id`]: identity of stimulus (11 = tongue, 12 = hand), real or imaginary stimulus\n",
        "* `dat['scale_uv']`: scale factor to multiply the data values to get to microvolts (uV). \n",
        "* `dat['locs`]`: 3D electrode positions on the brain surface\n",
        "\n"
      ]
    },
    {
      "cell_type": "code",
      "metadata": {
        "id": "KCmiPekjk1Fp"
      },
      "source": [
        "from nilearn import plotting  \n",
        "from nimare import utils\n",
        "\n",
        "plt.figure(figsize=(8,8))\n",
        "locs = dat1['locs']\n",
        "view = plotting.view_markers(utils.tal2mni(locs), marker_labels  = ['%d'%k for k in np.arange(locs.shape[0])], marker_color = 'purple', marker_size=5)\n",
        "view"
      ],
      "execution_count": null,
      "outputs": []
    },
    {
      "cell_type": "code",
      "metadata": {
        "id": "TSf8XWng6RyX"
      },
      "source": [
        "# quick way to get broadband power in time-varying windows\n",
        "from scipy import signal\n",
        "\n",
        "# pick subject 0 and experiment 0 (real movements)\n",
        "dat1 = alldat[0][0]\n",
        "\n",
        "# V is the voltage data\n",
        "V = dat1['V'].astype('float32')\n",
        "\n",
        "# high-pass filter above 50 Hz\n",
        "b, a = signal.butter(3, [50], btype = 'high', fs=1000)\n",
        "V = signal.filtfilt(b,a,V,0)\n",
        "\n",
        "# compute smooth envelope of this signal = approx power\n",
        "V = np.abs(V)**2\n",
        "b, a = signal.butter(3, [10], btype = 'low', fs=1000)\n",
        "V = signal.filtfilt(b,a,V,0)\n",
        "\n",
        "# normalize each channel so its mean power is 1\n",
        "V = V/V.mean(0)"
      ],
      "execution_count": null,
      "outputs": []
    },
    {
      "cell_type": "code",
      "metadata": {
        "id": "_y72uLCt_KKG"
      },
      "source": [
        "# average the broadband power across all tongue and hand trials\n",
        "\n",
        "nt, nchan = V.shape\n",
        "nstim = len(dat1['t_on'])\n",
        "\n",
        "trange = np.arange(0, 2000)\n",
        "ts = dat1['t_on'][:,np.newaxis] + trange\n",
        "V_epochs = np.reshape(V[ts, :], (nstim, 2000, nchan))\n",
        "\n",
        "V_tongue = (V_epochs[dat1['stim_id']==11]).mean(0)\n",
        "V_hand   = (V_epochs[dat1['stim_id']==12]).mean(0)"
      ],
      "execution_count": null,
      "outputs": []
    },
    {
      "cell_type": "code",
      "metadata": {
        "id": "mmOarX5w16CR"
      },
      "source": [
        "# let's find the electrodes that distinguish tongue from hand movements\n",
        "# note the behaviors happen some time after the visual cue \n",
        "from matplotlib import pyplot as plt\n",
        "\n",
        "plt.figure(figsize=(20,10))\n",
        "for j in range(46):\n",
        "  ax = plt.subplot(5,10,j+1)\n",
        "  plt.plot(trange, V_tongue[:,j])\n",
        "  plt.plot(trange, V_hand[:,j])\n",
        "  plt.title('ch%d'%j)\n",
        "  plt.xticks([0, 1000, 2000])\n",
        "  plt.ylim([0, 4])\n",
        "  "
      ],
      "execution_count": null,
      "outputs": []
    },
    {
      "cell_type": "code",
      "metadata": {
        "id": "eGSL0nujEJEt"
      },
      "source": [
        "# let's look at all the trials for electrode 20 that has a good response to hand movements\n",
        "# we will sort trials by stimulus id\n",
        "plt.subplot(1,3,1)\n",
        "isort = np.argsort(dat1['stim_id'])\n",
        "plt.imshow(V_epochs[isort,:,20].astype('float32'), aspect='auto', vmax=7, vmin = 0, cmap = 'magma')\n",
        "plt.colorbar()"
      ],
      "execution_count": null,
      "outputs": []
    },
    {
      "cell_type": "code",
      "metadata": {
        "id": "h9Ck9YmcEiNG"
      },
      "source": [
        "# Electrode 42 seems to respond to tongue movements\n",
        "isort = np.argsort(dat1['stim_id'])\n",
        "plt.subplot(1,3,1)\n",
        "plt.imshow(V_epochs[isort,:,42].astype('float32'), aspect='auto', vmax=7, vmin = 0, cmap = 'magma')\n",
        "plt.colorbar()"
      ],
      "execution_count": null,
      "outputs": []
    },
    {
      "cell_type": "code",
      "metadata": {
        "id": "Gda8DfWlCilR"
      },
      "source": [
        ""
      ],
      "execution_count": null,
      "outputs": []
    }
  ]
}