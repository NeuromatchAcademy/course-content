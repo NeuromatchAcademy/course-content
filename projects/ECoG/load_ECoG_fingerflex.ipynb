{
  "nbformat": 4,
  "nbformat_minor": 0,
  "metadata": {
    "colab": {
      "name": "load_ECoG_fingerflex.ipynb",
      "provenance": [],
      "collapsed_sections": [],
      "toc_visible": true
    },
    "kernelspec": {
      "name": "python3",
      "display_name": "Python 3"
    }
  },
  "cells": [
    {
      "cell_type": "markdown",
      "metadata": {
        "id": "bEqdz1ZUMaj1"
      },
      "source": [
        "## Loading of Miller ECoG data of the finger flexing task\n",
        "\n",
        "includes some visualizations"
      ]
    },
    {
      "cell_type": "code",
      "metadata": {
        "id": "TLWjKq8bLDqm",
        "cellView": "form"
      },
      "source": [
        "#@title Data retrieval\n",
        "import os, requests\n",
        "\n",
        "fname = 'fingerflex.npz'\n",
        "url = \"https://osf.io/5m47z/download\"\n",
        "\n",
        "if not os.path.isfile(fname):\n",
        "  try:\n",
        "    r = requests.get(url)\n",
        "  except requests.ConnectionError:\n",
        "    print(\"!!! Failed to download data !!!\")\n",
        "  else:\n",
        "    if r.status_code != requests.codes.ok:\n",
        "      print(\"!!! Failed to download data !!!\")\n",
        "    else:\n",
        "      with open(fname, \"wb\") as fid:\n",
        "        fid.write(r.content)\n"
      ],
      "execution_count": 1,
      "outputs": []
    },
    {
      "cell_type": "code",
      "metadata": {
        "id": "raBVOEWgUK_B",
        "cellView": "form"
      },
      "source": [
        "#@title Install packages, import matplotlib and set defaults\n",
        "# install packages to visualize brains and electrode locations\n",
        "!pip install nilearn --quiet\n",
        "!pip install nimare --quiet\n",
        "\n",
        "from matplotlib import rcParams \n",
        "from matplotlib import pyplot as plt\n",
        "rcParams['figure.figsize'] = [20, 4]\n",
        "rcParams['font.size'] =15\n",
        "rcParams['axes.spines.top'] = False\n",
        "rcParams['axes.spines.right'] = False\n",
        "rcParams['figure.autolayout'] = True"
      ],
      "execution_count": null,
      "outputs": []
    },
    {
      "cell_type": "code",
      "metadata": {
        "id": "sffzC_hyLgWZ",
        "colab": {
          "base_uri": "https://localhost:8080/"
        },
        "outputId": "324d1252-d448-43a2-be1b-2c68f7c80e8b"
      },
      "source": [
        "#@title Data loading\n",
        "import numpy as np\n",
        "\n",
        "alldat = np.load(fname, allow_pickle=True)['dat']\n",
        "\n",
        "# Select just one of the recordings here. This is subject 1, block 1.\n",
        "dat = alldat[0]\n",
        "\n",
        "print(dat.keys())\n"
      ],
      "execution_count": 3,
      "outputs": [
        {
          "output_type": "stream",
          "text": [
            "dict_keys(['V', 'dg', 't_on', 't_off', 'stim_id', 'stimtext', 'srate', 'locs'])\n"
          ],
          "name": "stdout"
        }
      ]
    },
    {
      "cell_type": "markdown",
      "metadata": {
        "id": "5K7UT7dyj_6R"
      },
      "source": [
        "# Dataset info #\n",
        "\n",
        "This is one of multiple ECoG datasets from Miller 2019, recorded in clinical settings with a variety of tasks. Raw data here:\n",
        "\n",
        "https://exhibits.stanford.edu/data/catalog/zk881ps0522\n",
        "\n",
        "\n",
        "This particular dataset has been used in the following publications:\n",
        "\n",
        "*Miller, Kai J., et al. \"Decoupling the cortical power spectrum reveals real-time representation of individual finger movements in humans.\" Journal of Neuroscience 29.10 (2009): 3132-3137.*\n",
        "\n",
        "*Miller, Kai J., et al. \"Human motor cortical activity is selectively phase-entrained on underlying rhythms.\" (2012): e1002655.*\n",
        "\n",
        "`alldat` contain 3 sessions from 3 subjects, and was used in this paper: \n",
        "\n",
        "https://pubmed.ncbi.nlm.nih.gov/17873429/\n",
        "\n",
        "From the dataset readme: \n",
        "\n",
        "*finger movement task, subjects were cued with a word displayed on a bedside monitor indicating which finger to move during 2- second movement trials. The subject performed self-paced movements in response to each of these cues, and they typically moved each finger 2–5 times during each trial, but some trials included many more movements.\n",
        "\"stim\" (time x 1):\n",
        "0 – Inter-stimulus interval\n",
        "1 – thumb\n",
        "2 – index finger\n",
        "3 – middle finger \n",
        "4 – ring finger\n",
        "5 – little finger*\n",
        "\n",
        "The motion of the fingers was captured with a dataglove, which was sampled at the same rate (1000Hz) as the voltage data. From the dataset readme: \n",
        "\n",
        "*finger flexions, measured from the hand contralateral to grid placement. Note that they are in the raw form input. They are in 40ms blocks, and have non-zero offset. The 5 columns correspond to the digits thumb-index-middle-ring-little in order. Finger positions were recorded using a 5 degree-of-freedom dataglove sensor (5 dt, Irvine, CA).*\n",
        "\n",
        "Sample rate is always 1000Hz, and the ECoG data has been notch-filtered at 60, 120, 180, 240 and 250Hz, followed by z-scoring across the entire recording and conversion to float16 to minimize size (please convert back to float32 for analysis). \n",
        "\n",
        "Variables are: \n",
        "* `dat['V']`: continuous voltage data (time by channels)\n",
        "* `dat['locs`]: three-dimensional coordinates of the electrodes (n_channels by 3)\n",
        "* `dat['dg']`: digit flexions (time x number of fingers). This was preprocessed from the original data to remove a moving baseline. \n",
        "* `dat['srate']`: sampling rate (always 1000)\n",
        "* `dat['t_on']`: time of cue onset \n",
        "* `dat['t_off']`: time of cue offset (usually 2000ms after `t_on`) \n",
        "* `dat['stim_id']`: cue identity (which finger to flex)\n",
        "* `dat['stimtext']`: cue text on the screen \n"
      ]
    },
    {
      "cell_type": "code",
      "metadata": {
        "id": "vxp-Wt9tjVYx"
      },
      "source": [
        "from nilearn import plotting  \n",
        "from nimare import utils\n",
        "\n",
        "plt.figure(figsize=(8,8))\n",
        "locs = dat['locs']\n",
        "view = plotting.view_markers(utils.tal2mni(locs), marker_labels  = ['%d'%k for k in np.arange(locs.shape[0])], marker_color = 'purple', marker_size=5)\n",
        "view"
      ],
      "execution_count": null,
      "outputs": []
    },
    {
      "cell_type": "code",
      "metadata": {
        "id": "HuzAchr1teVq"
      },
      "source": [
        "# finger data from the dataglove\n",
        "dg = dat['dg']\n",
        "nfingers = dg.shape[1]\n",
        "\n",
        "for j in range(dg.shape[-1]):\n",
        "  plt.plot(dg[:100000, j])\n",
        "\n",
        "plt.xlabel('time sample (1000Hz)')\n",
        "plt.ylabel('finger flexion')\n",
        "plt.xlim([0, 100000])\n",
        "plt.legend(dat['stimtext'])"
      ],
      "execution_count": null,
      "outputs": []
    },
    {
      "cell_type": "code",
      "metadata": {
        "id": "3kc1VhIVteYW"
      },
      "source": [
        "# voltage data in the same time period\n",
        "V = dat['V'].astype('float32')\n",
        "plt.imshow(V[:100000, :].T, aspect = 'auto', vmax = 4, vmin = -4, cmap = 'bwr')\n",
        "\n",
        "plt.xlabel('time sample (1000Hz)')\n",
        "plt.ylabel('finger flexion')\n"
      ],
      "execution_count": null,
      "outputs": []
    },
    {
      "cell_type": "code",
      "metadata": {
        "id": "_y72uLCt_KKG"
      },
      "source": [
        "# compute correlations between high frequency band and each digit\n",
        "from scipy import signal\n",
        "\n",
        "V = dat['V'].astype('float32')\n",
        "b, a = signal.butter(3, [50], btype = 'high', fs=1000)\n",
        "V = signal.filtfilt(b,a,V,0)\n",
        "V = np.abs(V)**2\n",
        "b, a = signal.butter(3, [3], btype = 'low', fs=1000)\n",
        "V = signal.filtfilt(b,a,V,0)\n",
        "\n",
        "nt, nchan = V.shape\n",
        "\n",
        "cc = np.zeros((nchan,nfingers))\n",
        "for j in range(nchan):\n",
        "  for k in range(nfingers):\n",
        "    cc[j, k] = np.corrcoef(V[:,j], dg[:,k])[0,1]\n",
        "  "
      ],
      "execution_count": null,
      "outputs": []
    },
    {
      "cell_type": "code",
      "metadata": {
        "id": "DB8TYEu3s-IO"
      },
      "source": [
        "plt.subplot(1,2,1)\n",
        "plt.imshow(cc.T, aspect='auto')\n",
        "plt.colorbar()\n",
        "\n",
        "plt.xlabel('channels')\n",
        "plt.ylabel('fingers')"
      ],
      "execution_count": null,
      "outputs": []
    },
    {
      "cell_type": "code",
      "metadata": {
        "id": "AXgBQlY4ukXN"
      },
      "source": [
        "# looks like electrode 20 is well correlated with finger 0 (the thumb). Let's check out the timecourses. \n",
        "# interestingly, we see that many thumb flexions are indeed correlated with this electrode, but there are other events too\n",
        "\n",
        "from scipy.stats import zscore\n",
        "plt.plot(zscore(V[:400000,20]))\n",
        "plt.plot(-2-zscore(dg[:400000,0]))"
      ],
      "execution_count": null,
      "outputs": []
    },
    {
      "cell_type": "code",
      "metadata": {
        "id": "3QEuj9x-ZlAM"
      },
      "source": [
        "# needs more plots! \n",
        "# looks like only spectral information above 50Hz is useful, but I might be missing something. \n"
      ],
      "execution_count": null,
      "outputs": []
    }
  ]
}