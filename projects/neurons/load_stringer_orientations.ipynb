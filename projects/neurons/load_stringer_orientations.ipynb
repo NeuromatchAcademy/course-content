{
  "nbformat": 4,
  "nbformat_minor": 0,
  "metadata": {
    "colab": {
      "name": "Copy of load_stringer_orientations.ipynb",
      "provenance": [],
      "collapsed_sections": [],
      "toc_visible": true
    },
    "kernelspec": {
      "name": "python3",
      "display_name": "Python 3"
    }
  },
  "cells": [
    {
      "cell_type": "markdown",
      "metadata": {
        "id": "sF-3b83NLZgs"
      },
      "source": [
        "## Loading of Stringer orientations data\n",
        "\n",
        "includes some visualizations"
      ]
    },
    {
      "cell_type": "code",
      "metadata": {
        "id": "nK13W0vlK1UY",
        "cellView": "form"
      },
      "source": [
        "#@title Data retrieval\n",
        "import os, requests\n",
        "\n",
        "fname = \"stringer_orientations.npy\"\n",
        "url = \"https://osf.io/ny4ut/download\"\n",
        "\n",
        "if not os.path.isfile(fname):\n",
        "  try:\n",
        "    r = requests.get(url)\n",
        "  except requests.ConnectionError:\n",
        "    print(\"!!! Failed to download data !!!\")\n",
        "  else:\n",
        "    if r.status_code != requests.codes.ok:\n",
        "      print(\"!!! Failed to download data !!!\")\n",
        "    else:\n",
        "      with open(fname, \"wb\") as fid:\n",
        "        fid.write(r.content)"
      ],
      "execution_count": 1,
      "outputs": []
    },
    {
      "cell_type": "code",
      "metadata": {
        "id": "-V_b5aCxgQoF",
        "cellView": "form"
      },
      "source": [
        "#@title Import matplotlib and set defaults\n",
        "from matplotlib import rcParams \n",
        "from matplotlib import pyplot as plt\n",
        "rcParams['figure.figsize'] = [20, 4]\n",
        "rcParams['font.size'] =15\n",
        "rcParams['axes.spines.top'] = False\n",
        "rcParams['axes.spines.right'] = False\n",
        "rcParams['figure.autolayout'] = True"
      ],
      "execution_count": 2,
      "outputs": []
    },
    {
      "cell_type": "code",
      "metadata": {
        "id": "icdNnKc4K-Wc",
        "colab": {
          "base_uri": "https://localhost:8080/"
        },
        "outputId": "b32fcb33-d86b-47fc-95a0-f17406f10f34"
      },
      "source": [
        "#@title Data loading\n",
        "import numpy as np\n",
        "dat = np.load('stringer_orientations.npy', allow_pickle=True).item()\n",
        "print(dat.keys())"
      ],
      "execution_count": 3,
      "outputs": [
        {
          "output_type": "stream",
          "text": [
            "dict_keys(['sresp', 'istim', 'stat', 'u_spont', 'v_spont', 'mean_spont', 'std_spont', 'stimtimes', 'frametimes', 'camtimes', 'run', 'info', 'xyz'])\n"
          ],
          "name": "stdout"
        }
      ]
    },
    {
      "cell_type": "markdown",
      "metadata": {
        "id": "oLRJHCasLAIj"
      },
      "source": [
        "dat has fields:\n",
        "* `dat['sresp']`: neurons by stimuli, a.k.a. the neural response data (23589 by 4598)\n",
        "* `dat['xyz']`: three-dimensional position of each neuron in the brain. \n",
        "* `dat['run']`: 1 by stimuli, a.k.a. the running speed of the animal in a.u.\n",
        "* `dat['istim']`: 1 by stimuli, goes from 0 to 2*np.pi, the orientations shown on each trial\n",
        "* `dat['u_spont']`: neurons by 128, the weights for the top 128 principal components of spontaneous activity. Unit norm.\n",
        "* `dat['v_spont']`: 128 by 910, the timecourses for the top 128 PCs of spont activity.\n",
        "* `dat['u_spont'] @ dat['v_spont']`: a reconstruction of the spontaneous activity for 910 timepoints interspersed throughout the recording.\n",
        "* `dat['stat']`: 1 by neurons, some statistics for each neuron, see Suite2p for full documentation.\n"
      ]
    },
    {
      "cell_type": "code",
      "metadata": {
        "id": "3tNyYb1CZazF",
        "colab": {
          "base_uri": "https://localhost:8080/"
        },
        "outputId": "3468d91e-8380-43b0-86bc-ea2a2f03eee4"
      },
      "source": [
        "print(dat['sresp'].shape)\n",
        "print(len(dat['stat']))"
      ],
      "execution_count": 4,
      "outputs": [
        {
          "output_type": "stream",
          "text": [
            "(23589, 4598)\n",
            "23589\n"
          ],
          "name": "stdout"
        }
      ]
    },
    {
      "cell_type": "code",
      "metadata": {
        "id": "NxOMaqfrTsHI"
      },
      "source": [
        "# @title plot the 3D positions of all neurons\n",
        "from mpl_toolkits.mplot3d import Axes3D\n",
        "from matplotlib import cm\n",
        "\n",
        "x, y, z = dat['xyz']\n",
        "\n",
        "zunq, iunq = np.unique(z, return_inverse=True)\n",
        "xc = np.linspace(0.0, 1.0, len(zunq))\n",
        "cmap = cm.get_cmap('jet')(xc)\n",
        "\n",
        "fig = plt.figure(figsize=(6,6))\n",
        "ax = fig.add_subplot(111, projection='3d')\n",
        "ax.scatter(x[::-1],y[::-1],z[::-1], 'o', s = 4, c = cmap[iunq])\n",
        "ax.set(xlabel='horizontal(um)', ylabel = 'vertical(um)', zlabel='depth (um)');"
      ],
      "execution_count": null,
      "outputs": []
    },
    {
      "cell_type": "code",
      "metadata": {
        "id": "bZJawuuvZncT"
      },
      "source": [
        "#@title Basic data properties using plot, hist and scatter\n",
        "ax = plt.subplot(1,5,1)\n",
        "plt.hist(dat['istim'])\n",
        "ax.set(xlabel='orientations', ylabel = '# trials')\n",
        "\n",
        "ax = plt.subplot(1,5,2)\n",
        "plt.scatter(dat['istim'], dat['sresp'][1000], s= 1)\n",
        "ax.set(xlabel = 'orientation', ylabel = 'neural response')\n",
        "\n",
        "ax = plt.subplot(1,5,3)\n",
        "plt.plot(dat['run'][:1000])\n",
        "ax.set(xlabel = 'timepoints', ylabel = 'running')\n",
        "\n",
        "ax = plt.subplot(1,5,4)\n",
        "plt.scatter(dat['run'], dat['sresp'][20998], s= 1)\n",
        "ax.set(xlabel = 'running', ylabel = 'neural response')\n",
        "\n",
        "plt.show()"
      ],
      "execution_count": null,
      "outputs": []
    },
    {
      "cell_type": "code",
      "metadata": {
        "id": "4KPZwCitarxB"
      },
      "source": [
        "#@title take PCA after preparing data by z-score\n",
        "from scipy.stats import zscore\n",
        "from sklearn.decomposition import PCA \n",
        "Z = zscore(dat['sresp'], axis=1)\n",
        "X = PCA(n_components = 200).fit_transform(Z.T)"
      ],
      "execution_count": 7,
      "outputs": []
    },
    {
      "cell_type": "code",
      "metadata": {
        "id": "NLZyl0_ma2s1"
      },
      "source": [
        "#@title plot PCs as function of stimulus orientation\n",
        "for j in range(5):\n",
        "  ax = plt.subplot(1,5,j+1)\n",
        "  plt.scatter(dat['istim'], X[:,j], s = 1)\n",
        "  ax.set(xlabel='orientation', ylabel = 'PC%d'%j)\n",
        "plt.show()"
      ],
      "execution_count": null,
      "outputs": []
    },
    {
      "cell_type": "code",
      "metadata": {
        "id": "31Co0KDll_uw"
      },
      "source": [
        "#@title run a manifold embedding algorithm (UMAP) in two or three dimensions. \n",
        "!pip install umap-learn --quiet\n",
        "from umap import UMAP\n",
        "ncomp = 3 # try 2, then try 3\n",
        "xinit = 3 * zscore(X[:,:ncomp], axis=0)\n",
        "embed = UMAP(n_components=ncomp, init =  xinit, n_neighbors = 25, \n",
        "             metric = 'correlation', transform_seed = 42).fit_transform(X)"
      ],
      "execution_count": null,
      "outputs": []
    },
    {
      "cell_type": "code",
      "metadata": {
        "id": "Rqii5iqxUzj1"
      },
      "source": [
        "plt.figure(figsize=(8,8))\n",
        "for i in range(ncomp):\n",
        "  for j in range(ncomp):\n",
        "    plt.subplot(ncomp,ncomp, j + ncomp*i + 1)\n",
        "    if i==j:\n",
        "      plt.scatter(dat['istim'], embed[:,i], s  = 1)\n",
        "    else:\n",
        "      plt.scatter(embed[:,j], embed[:,i], s  = 1, c= dat['istim'], cmap = 'hsv')\n"
      ],
      "execution_count": null,
      "outputs": []
    },
    {
      "cell_type": "code",
      "metadata": {
        "id": "7HaveX-tEUS9"
      },
      "source": [
        "plt.figure(figsize=(8,4))\n",
        "plt.subplot(1,2, 1)\n",
        "plt.scatter(embed[:,0], embed[:,2], s  = 4, c= dat['istim'], cmap = 'hsv')\n",
        "plt.title('colored by stimulus orientation');\n",
        "\n",
        "plt.subplot(1,2, 2)\n",
        "plt.scatter(embed[:,0], embed[:,2], s  = 4, c= dat['run'], vmin = 0, vmax = 10)\n",
        "plt.title('colored by running speed');"
      ],
      "execution_count": null,
      "outputs": []
    }
  ]
}