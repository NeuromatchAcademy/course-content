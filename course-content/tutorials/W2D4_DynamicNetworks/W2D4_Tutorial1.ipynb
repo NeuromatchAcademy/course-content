{
  "nbformat": 4,
  "nbformat_minor": 0,
  "metadata": {
    "colab": {
      "name": "W2D4_Tutorial1",
      "provenance": [],
      "collapsed_sections": [],
      "toc_visible": true,
      "include_colab_link": true
    },
    "kernel": {
      "display_name": "Python 3",
      "language": "python",
      "name": "python3"
    },
    "kernelspec": {
      "display_name": "Python 3",
      "name": "python3"
    },
    "language_info": {
      "codemirror_mode": {
        "name": "ipython",
        "version": 3
      },
      "file_extension": ".py",
      "mimetype": "text/x-python",
      "name": "python",
      "nbconvert_exporter": "python",
      "pygments_lexer": "ipython3",
      "version": "3.7.10"
    },
    "widgets": {
      "application/vnd.jupyter.widget-state+json": {
        "80394e3dc2c04801ba9ff7a100d9438a": {
          "model_module": "@jupyter-widgets/controls",
          "model_name": "TabModel",
          "state": {
            "_view_name": "TabView",
            "_dom_classes": [],
            "_titles": {
              "0": "Youtube",
              "1": "Bilibili"
            },
            "_model_name": "TabModel",
            "_view_module": "@jupyter-widgets/controls",
            "selected_index": 0,
            "_model_module_version": "1.5.0",
            "_view_count": null,
            "_view_module_version": "1.5.0",
            "box_style": "",
            "layout": "IPY_MODEL_cfb8e9ff9bce43e88387033326fd459c",
            "_model_module": "@jupyter-widgets/controls",
            "children": [
              "IPY_MODEL_ba207f38173a4b6e8d7709369a941036",
              "IPY_MODEL_3b927bff5ed44bc48f55ca6db58f8a11"
            ]
          }
        },
        "cfb8e9ff9bce43e88387033326fd459c": {
          "model_module": "@jupyter-widgets/base",
          "model_name": "LayoutModel",
          "state": {
            "_view_name": "LayoutView",
            "grid_template_rows": null,
            "right": null,
            "justify_content": null,
            "_view_module": "@jupyter-widgets/base",
            "overflow": null,
            "_model_module_version": "1.2.0",
            "_view_count": null,
            "flex_flow": null,
            "width": null,
            "min_width": null,
            "border": null,
            "align_items": null,
            "bottom": null,
            "_model_module": "@jupyter-widgets/base",
            "top": null,
            "grid_column": null,
            "overflow_y": null,
            "overflow_x": null,
            "grid_auto_flow": null,
            "grid_area": null,
            "grid_template_columns": null,
            "flex": null,
            "_model_name": "LayoutModel",
            "justify_items": null,
            "grid_row": null,
            "max_height": null,
            "align_content": null,
            "visibility": null,
            "align_self": null,
            "height": null,
            "min_height": null,
            "padding": null,
            "grid_auto_rows": null,
            "grid_gap": null,
            "max_width": null,
            "order": null,
            "_view_module_version": "1.2.0",
            "grid_template_areas": null,
            "object_position": null,
            "object_fit": null,
            "grid_auto_columns": null,
            "margin": null,
            "display": null,
            "left": null
          }
        },
        "ba207f38173a4b6e8d7709369a941036": {
          "model_module": "@jupyter-widgets/output",
          "model_name": "OutputModel",
          "state": {
            "_view_name": "OutputView",
            "msg_id": "",
            "_dom_classes": [],
            "_model_name": "OutputModel",
            "outputs": [
              {
                "output_type": "stream",
                "metadata": {
                  "tags": []
                },
                "text": "Video available at https://youtube.com/watch?v=p848349hPyw\n",
                "stream": "stdout"
              },
              {
                "output_type": "display_data",
                "metadata": {
                  "tags": []
                },
                "text/html": "\n        <iframe\n            width=\"854\"\n            height=\"480\"\n            src=\"https://www.youtube.com/embed/p848349hPyw?fs=1&rel=0\"\n            frameborder=\"0\"\n            allowfullscreen\n        ></iframe>\n        ",
                "text/plain": "<IPython.lib.display.YouTubeVideo at 0x7faec67a8650>",
                "image/jpeg": "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\n"
              }
            ],
            "_view_module": "@jupyter-widgets/output",
            "_model_module_version": "1.0.0",
            "_view_count": null,
            "_view_module_version": "1.0.0",
            "layout": "IPY_MODEL_6bf9865867714fb79a9fd26876db945f",
            "_model_module": "@jupyter-widgets/output"
          }
        },
        "3b927bff5ed44bc48f55ca6db58f8a11": {
          "model_module": "@jupyter-widgets/output",
          "model_name": "OutputModel",
          "state": {
            "_view_name": "OutputView",
            "msg_id": "",
            "_dom_classes": [],
            "_model_name": "OutputModel",
            "outputs": [
              {
                "output_type": "stream",
                "metadata": {
                  "tags": []
                },
                "text": "Video available at https://www.bilibili.com/video/\n",
                "stream": "stdout"
              },
              {
                "output_type": "display_data",
                "metadata": {
                  "tags": []
                },
                "text/html": "\n        <iframe\n            width=\"854\"\n            height=\"480\"\n            src=\"https://player.bilibili.com/player.html?bvid=&page=1?fs=1\"\n            frameborder=\"0\"\n            allowfullscreen\n        ></iframe>\n        ",
                "text/plain": "<__main__.BiliVideo at 0x7faec3075b90>"
              }
            ],
            "_view_module": "@jupyter-widgets/output",
            "_model_module_version": "1.0.0",
            "_view_count": null,
            "_view_module_version": "1.0.0",
            "layout": "IPY_MODEL_8226a8450d8e40bcafd5c1ecfb3b4dd6",
            "_model_module": "@jupyter-widgets/output"
          }
        },
        "6bf9865867714fb79a9fd26876db945f": {
          "model_module": "@jupyter-widgets/base",
          "model_name": "LayoutModel",
          "state": {
            "_view_name": "LayoutView",
            "grid_template_rows": null,
            "right": null,
            "justify_content": null,
            "_view_module": "@jupyter-widgets/base",
            "overflow": null,
            "_model_module_version": "1.2.0",
            "_view_count": null,
            "flex_flow": null,
            "width": null,
            "min_width": null,
            "border": null,
            "align_items": null,
            "bottom": null,
            "_model_module": "@jupyter-widgets/base",
            "top": null,
            "grid_column": null,
            "overflow_y": null,
            "overflow_x": null,
            "grid_auto_flow": null,
            "grid_area": null,
            "grid_template_columns": null,
            "flex": null,
            "_model_name": "LayoutModel",
            "justify_items": null,
            "grid_row": null,
            "max_height": null,
            "align_content": null,
            "visibility": null,
            "align_self": null,
            "height": null,
            "min_height": null,
            "padding": null,
            "grid_auto_rows": null,
            "grid_gap": null,
            "max_width": null,
            "order": null,
            "_view_module_version": "1.2.0",
            "grid_template_areas": null,
            "object_position": null,
            "object_fit": null,
            "grid_auto_columns": null,
            "margin": null,
            "display": null,
            "left": null
          }
        },
        "8226a8450d8e40bcafd5c1ecfb3b4dd6": {
          "model_module": "@jupyter-widgets/base",
          "model_name": "LayoutModel",
          "state": {
            "_view_name": "LayoutView",
            "grid_template_rows": null,
            "right": null,
            "justify_content": null,
            "_view_module": "@jupyter-widgets/base",
            "overflow": null,
            "_model_module_version": "1.2.0",
            "_view_count": null,
            "flex_flow": null,
            "width": null,
            "min_width": null,
            "border": null,
            "align_items": null,
            "bottom": null,
            "_model_module": "@jupyter-widgets/base",
            "top": null,
            "grid_column": null,
            "overflow_y": null,
            "overflow_x": null,
            "grid_auto_flow": null,
            "grid_area": null,
            "grid_template_columns": null,
            "flex": null,
            "_model_name": "LayoutModel",
            "justify_items": null,
            "grid_row": null,
            "max_height": null,
            "align_content": null,
            "visibility": null,
            "align_self": null,
            "height": null,
            "min_height": null,
            "padding": null,
            "grid_auto_rows": null,
            "grid_gap": null,
            "max_width": null,
            "order": null,
            "_view_module_version": "1.2.0",
            "grid_template_areas": null,
            "object_position": null,
            "object_fit": null,
            "grid_auto_columns": null,
            "margin": null,
            "display": null,
            "left": null
          }
        }
      }
    }
  },
  "cells": [
    {
      "cell_type": "markdown",
      "metadata": {
        "id": "view-in-github",
        "colab_type": "text"
      },
      "source": [
        "<a href=\"https://colab.research.google.com/github/NeuromatchAcademy/course-content/blob/W2D4_updates/course-content/tutorials/W2D4_DynamicNetworks/W2D4_Tutorial1.ipynb\" target=\"_parent\"><img src=\"https://colab.research.google.com/assets/colab-badge.svg\" alt=\"Open In Colab\"/></a>"
      ]
    },
    {
      "cell_type": "markdown",
      "metadata": {
        "id": "gGq6_Zi__b_h"
      },
      "source": [
        "# Tutorial 1: Neural Rate Models\n",
        "**Week 2, Day 4: Dynamic Networks**\n",
        "\n",
        "**By Neuromatch Academy**\n",
        "\n",
        "__Content creators:__ Qinglong Gu, Songtin Li, Arvind Kumar, John Murray, Julijana Gjorgjieva \n",
        "\n",
        "__Content reviewers:__  Maryam Vaziri-Pashkam, Ella Batty, Lorenzo Fontolan, Richard Gao, Spiros Chavlis, Michael Waskom, Siddharth Suresh"
      ]
    },
    {
      "cell_type": "markdown",
      "metadata": {
        "id": "nbs6ZMDN_b_k"
      },
      "source": [
        "**Our 2021 Sponsors, including Presenting Sponsor Facebook Reality Labs**\n",
        "\n",
        "<p align='center'><img src='https://github.com/NeuromatchAcademy/widgets/blob/master/sponsors.png?raw=True'/></p>"
      ]
    },
    {
      "cell_type": "markdown",
      "metadata": {
        "id": "y8Zn3oqd_b_k"
      },
      "source": [
        "---\n",
        "# Tutorial Objectives\n",
        "\n",
        "The brain is a complex system, not because it is composed of a large number of diverse types of neurons, but mainly because of how neurons are connected to each other. The brain is indeed a network of highly specialized neuronal networks. \n",
        "\n",
        "The activity of a neural network constantly evolves in time. For this reason, neurons can be modeled as dynamical systems. The dynamical system approach is only one of the many modeling approaches that computational neuroscientists have developed (other points of view include information processing,  statistical models, etc.). \n",
        "\n",
        "How the dynamics of neuronal networks affect the representation and processing of information in the brain is an open question. However, signatures of altered brain dynamics present in many brain diseases (e.g., in epilepsy or Parkinson's disease) tell us that it is crucial to study network activity dynamics if we want to understand the brain.\n",
        "\n",
        "In this tutorial, we will simulate and study one of the simplest models of biological neuronal networks. Instead of modeling and simulating individual excitatory neurons (e.g., LIF models that you implemented yesterday), we will treat them as a single homogeneous population and approximate their dynamics using a single one-dimensional equation describing the evolution of their average spiking rate in time.\n",
        "\n",
        "In this tutorial, we will learn how to build a firing rate model of a single population of excitatory neurons. \n",
        "\n",
        "**Steps:**\n",
        "- Write the equation for the firing rate dynamics of a 1D excitatory population.\n",
        "- Visualize the response of the population as a function of parameters such as threshold level and gain, using the frequency-current (F-I) curve.\n",
        "- Numerically simulate the dynamics of the excitatory population and find the fixed points of the system. \n",
        "- Investigate the stability of the fixed points by linearizing the dynamics around them.\n",
        " \n"
      ]
    },
    {
      "cell_type": "markdown",
      "metadata": {
        "id": "uA9RHFlo_b_l"
      },
      "source": [
        "---\n",
        "# Setup"
      ]
    },
    {
      "cell_type": "code",
      "metadata": {
        "cellView": "both",
        "execution": {
          "iopub.execute_input": "2021-06-25T15:15:10.187317Z",
          "iopub.status.busy": "2021-06-25T15:15:10.186700Z",
          "iopub.status.idle": "2021-06-25T15:15:10.568400Z",
          "shell.execute_reply": "2021-06-25T15:15:10.568921Z"
        },
        "id": "vD9V1dhq_b_m"
      },
      "source": [
        "# Imports\n",
        "\n",
        "import matplotlib.pyplot as plt\n",
        "import numpy as np\n",
        "import scipy.optimize as opt       # root-finding algorithm"
      ],
      "execution_count": 1,
      "outputs": []
    },
    {
      "cell_type": "code",
      "metadata": {
        "cellView": "form",
        "execution": {
          "iopub.execute_input": "2021-06-25T15:15:10.572334Z",
          "iopub.status.busy": "2021-06-25T15:15:10.571136Z",
          "iopub.status.idle": "2021-06-25T15:15:10.656719Z",
          "shell.execute_reply": "2021-06-25T15:15:10.656122Z"
        },
        "id": "nnPo0f_R_b_m"
      },
      "source": [
        "# @title Figure Settings\n",
        "import ipywidgets as widgets       # interactive display\n",
        "%config InlineBackend.figure_format = 'retina'\n",
        "plt.style.use(\"https://raw.githubusercontent.com/NeuromatchAcademy/course-content/master/nma.mplstyle\")"
      ],
      "execution_count": 2,
      "outputs": []
    },
    {
      "cell_type": "code",
      "metadata": {
        "execution": {
          "iopub.execute_input": "2021-06-25T15:15:10.664479Z",
          "iopub.status.busy": "2021-06-25T15:15:10.663940Z",
          "iopub.status.idle": "2021-06-25T15:15:10.667416Z",
          "shell.execute_reply": "2021-06-25T15:15:10.666963Z"
        },
        "id": "KT03p88O_b_n",
        "cellView": "form"
      },
      "source": [
        "# @title Plotting Functions\n",
        "\n",
        "\n",
        "def plot_fI(x, f):\n",
        "  plt.figure(figsize=(6, 4))  # plot the figure\n",
        "  plt.plot(x, f, 'k')\n",
        "  plt.xlabel('x (a.u.)', fontsize=14)\n",
        "  plt.ylabel('F(x)', fontsize=14)\n",
        "  plt.show()\n",
        "\n",
        "\n",
        "def plot_dr_r(r, drdt, x_fps=None):\n",
        "  plt.figure()\n",
        "  plt.plot(r, drdt, 'k')\n",
        "  plt.plot(r, 0. * r, 'k--')\n",
        "  if x_fps is not None:\n",
        "    plt.plot(x_fps, np.zeros_like(x_fps), \"ko\", ms=12)\n",
        "  plt.xlabel(r'$r$')\n",
        "  plt.ylabel(r'$\\frac{dr}{dt}$', fontsize=20)\n",
        "  plt.ylim(-0.1, 0.1)\n",
        "\n",
        "\n",
        "def plot_dFdt(x, dFdt):\n",
        "  plt.figure()\n",
        "  plt.plot(x, dFdt, 'r')\n",
        "  plt.xlabel('x (a.u.)', fontsize=14)\n",
        "  plt.ylabel('dF(x)', fontsize=14)\n",
        "  plt.show()"
      ],
      "execution_count": 3,
      "outputs": []
    },
    {
      "cell_type": "markdown",
      "metadata": {
        "id": "ff94jHZv_b_o"
      },
      "source": [
        "---\n",
        "# Section 1: Neuronal network dynamics"
      ]
    },
    {
      "cell_type": "code",
      "metadata": {
        "cellView": "form",
        "execution": {
          "iopub.execute_input": "2021-06-25T15:15:10.678567Z",
          "iopub.status.busy": "2021-06-25T15:15:10.677994Z",
          "iopub.status.idle": "2021-06-25T15:15:10.756215Z",
          "shell.execute_reply": "2021-06-25T15:15:10.755683Z"
        },
        "id": "OLOr6gaJ_b_p",
        "outputId": "5625f6af-1431-4ddb-e3b1-8ecd8e469dd4",
        "colab": {
          "base_uri": "https://localhost:8080/",
          "height": 580,
          "referenced_widgets": [
            "80394e3dc2c04801ba9ff7a100d9438a",
            "cfb8e9ff9bce43e88387033326fd459c",
            "ba207f38173a4b6e8d7709369a941036",
            "3b927bff5ed44bc48f55ca6db58f8a11",
            "6bf9865867714fb79a9fd26876db945f",
            "8226a8450d8e40bcafd5c1ecfb3b4dd6"
          ]
        }
      },
      "source": [
        "# @title Video 1: Dynamic networks\n",
        "from ipywidgets import widgets\n",
        "\n",
        "out2 = widgets.Output()\n",
        "with out2:\n",
        "  from IPython.display import IFrame\n",
        "  class BiliVideo(IFrame):\n",
        "      def __init__(self, id, page=1, width=400, height=300, **kwargs):\n",
        "          self.id=id\n",
        "          src = 'https://player.bilibili.com/player.html?bvid={0}&page={1}'.format(id, page)\n",
        "          super(BiliVideo, self).__init__(src, width, height, **kwargs)\n",
        "\n",
        "  video = BiliVideo(id=\"\", width=854, height=480, fs=1)\n",
        "  print('Video available at https://www.bilibili.com/video/{0}'.format(video.id))\n",
        "  display(video)\n",
        "\n",
        "out1 = widgets.Output()\n",
        "with out1:\n",
        "  from IPython.display import YouTubeVideo\n",
        "  video = YouTubeVideo(id=\"p848349hPyw\", width=854, height=480, fs=1, rel=0)\n",
        "  print('Video available at https://youtube.com/watch?v=' + video.id)\n",
        "  display(video)\n",
        "\n",
        "out = widgets.Tab([out1, out2])\n",
        "out.set_title(0, 'Youtube')\n",
        "out.set_title(1, 'Bilibili')\n",
        "\n",
        "display(out)"
      ],
      "execution_count": 4,
      "outputs": [
        {
          "output_type": "display_data",
          "data": {
            "application/vnd.jupyter.widget-view+json": {
              "model_id": "80394e3dc2c04801ba9ff7a100d9438a",
              "version_minor": 0,
              "version_major": 2
            },
            "text/plain": [
              "Tab(children=(Output(), Output()), _titles={'0': 'Youtube', '1': 'Bilibili'})"
            ]
          },
          "metadata": {
            "tags": []
          }
        }
      ]
    },
    {
      "cell_type": "markdown",
      "metadata": {
        "id": "YM41VYS8_b_q"
      },
      "source": [
        "## Section 1.1: Dynamics of a single excitatory population\n",
        "\n",
        "Individual neurons respond by spiking. When we average the spikes of neurons in a population, we can define the average firing activity of the population. In this model, we are interested in how the population-averaged firing varies as a function of time and network parameters. Mathematically, we can describe the firing rate dynamic as:\n",
        "\n",
        "\\begin{align}\n",
        "\\tau \\frac{dr}{dt} &= -r + F(w\\cdot r + I_{\\text{ext}})  \\quad\\qquad (1)\n",
        "\\end{align}\n",
        "\n",
        "$r(t)$ represents the average firing rate of the excitatory population at time $t$, $\\tau$ controls the timescale of the evolution of the average firing rate, $w$ denotes the strength (synaptic weight) of the recurrent input to the population, $I_{\\text{ext}}$ represents the external input, and the transfer function $F(\\cdot)$ (which can be related to f-I curve of individual neurons described in the next sections) represents the population activation function in response to all received inputs.\n",
        "\n",
        "To start building the model, please execute the cell below to initialize the simulation parameters."
      ]
    },
    {
      "cell_type": "code",
      "metadata": {
        "cellView": "form",
        "execution": {
          "iopub.execute_input": "2021-06-25T15:15:10.769768Z",
          "iopub.status.busy": "2021-06-25T15:15:10.768940Z",
          "iopub.status.idle": "2021-06-25T15:15:10.770659Z",
          "shell.execute_reply": "2021-06-25T15:15:10.770309Z"
        },
        "id": "vanMYu4E_b_r"
      },
      "source": [
        "# @markdown *Execute this cell to set default parameters for a single excitatory population model*\n",
        "\n",
        "\n",
        "def default_pars_single(**kwargs):\n",
        "  pars = {}\n",
        "\n",
        "  # Excitatory parameters\n",
        "  pars['tau'] = 1.     # Timescale of the E population [ms]\n",
        "  pars['a'] = 1.2      # Gain of the E population\n",
        "  pars['theta'] = 2.8  # Threshold of the E population\n",
        "\n",
        "  # Connection strength\n",
        "  pars['w'] = 0.  # E to E, we first set it to 0\n",
        "\n",
        "  # External input\n",
        "  pars['I_ext'] = 0.\n",
        "\n",
        "  # simulation parameters\n",
        "  pars['T'] = 20.       # Total duration of simulation [ms]\n",
        "  pars['dt'] = .1       # Simulation time step [ms]\n",
        "  pars['r_init'] = 0.2  # Initial value of E\n",
        "\n",
        "  # External parameters if any\n",
        "  pars.update(kwargs)\n",
        "\n",
        "  # Vector of discretized time points [ms]\n",
        "  pars['range_t'] = np.arange(0, pars['T'], pars['dt'])\n",
        "\n",
        "  return pars"
      ],
      "execution_count": null,
      "outputs": []
    },
    {
      "cell_type": "markdown",
      "metadata": {
        "id": "1u3oYcHi_b_r"
      },
      "source": [
        "You can now use:\n",
        "- `pars = default_pars_single()` to get all the parameters, and then you can execute `print(pars)` to check these parameters. \n",
        "- `pars = default_pars_single(T=T_sim, dt=time_step)` to set new simulation time and time step\n",
        "- To update an existing parameter dictionary, use `pars['New_para'] = value`\n",
        "\n",
        "Because `pars` is a dictionary, it can be passed to a function that requires individual parameters as arguments using `my_func(**pars)` syntax."
      ]
    },
    {
      "cell_type": "markdown",
      "metadata": {
        "id": "cSMnMOgn_b_s"
      },
      "source": [
        "## Section 1.2: F-I curves\n",
        "In electrophysiology, a neuron is often characterized by its spike rate output in response to input currents. This is often called the **F-I** curve, denoting the output spike frequency (**F**) in response to different injected currents (**I**). We estimated this for an LIF neuron in yesterday's tutorial.\n",
        "\n",
        "The transfer function $F(\\cdot)$ in Equation $1$ represents the gain of the population as a function of the total input. The gain is often modeled as a sigmoidal function, i.e., more input drive leads to a nonlinear increase in the population firing rate. The output firing rate will eventually saturate for high input values. \n",
        "\n",
        "A sigmoidal $F(\\cdot)$ is parameterized by its gain $a$ and threshold $\\theta$.\n",
        "\n",
        "$$ F(x;a,\\theta) = \\frac{1}{1+\\text{e}^{-a(x-\\theta)}} - \\frac{1}{1+\\text{e}^{a\\theta}}  \\quad(2)$$\n",
        "\n",
        "The argument $x$ represents the input to the population. Note that the second term is chosen so that $F(0;a,\\theta)=0$.\n",
        "\n",
        "Many other transfer functions (generally monotonic) can be also used. Examples are the rectified linear function $ReLU(x)$ or the hyperbolic tangent $tanh(x)$."
      ]
    },
    {
      "cell_type": "markdown",
      "metadata": {
        "id": "ydGZ5qrD_b_s"
      },
      "source": [
        "### Coding Exercise 1.2: Implement F-I curve \n",
        "\n",
        "Let's first investigate the activation functions before simulating the dynamics of the entire population. \n",
        "\n",
        "In this exercise, you will implement a sigmoidal **F-I** curve or transfer function $F(x)$, with gain $a$ and threshold level $\\theta$ as parameters."
      ]
    },
    {
      "cell_type": "code",
      "metadata": {
        "execution": {
          "iopub.execute_input": "2021-06-25T15:15:10.775579Z",
          "iopub.status.busy": "2021-06-25T15:15:10.774568Z",
          "iopub.status.idle": "2021-06-25T15:15:10.776252Z",
          "shell.execute_reply": "2021-06-25T15:15:10.776744Z"
        },
        "id": "hAK5Q5VA_b_t"
      },
      "source": [
        "def F(x, a, theta):\n",
        "  \"\"\"\n",
        "  Population activation function.\n",
        "\n",
        "  Args:\n",
        "    x (float): the population input\n",
        "    a (float): the gain of the function\n",
        "    theta (float): the threshold of the function\n",
        "\n",
        "  Returns:\n",
        "    float: the population activation response F(x) for input x\n",
        "  \"\"\"\n",
        "  #################################################\n",
        "  ## TODO for students: compute f = F(x) ##\n",
        "  # Fill out function and remove\n",
        "  raise NotImplementedError(\"Student excercise: implement the f-I function\")\n",
        "  #################################################\n",
        "\n",
        "  # Define the sigmoidal transfer function f = F(x)\n",
        "  f = ...\n",
        "\n",
        "  return f\n",
        "\n",
        "\n",
        "pars = default_pars_single()  # get default parameters\n",
        "x = np.arange(0, 10, .1)      # set the range of input\n",
        "\n",
        "# Uncomment below to test your function\n",
        "# f = F(x, pars['a'], pars['theta'])\n",
        "# plot_fI(x, f)"
      ],
      "execution_count": null,
      "outputs": []
    },
    {
      "cell_type": "code",
      "metadata": {
        "cellView": "both",
        "execution": {
          "iopub.execute_input": "2021-06-25T15:15:10.796201Z",
          "iopub.status.busy": "2021-06-25T15:15:10.781946Z",
          "iopub.status.idle": "2021-06-25T15:15:10.964125Z",
          "shell.execute_reply": "2021-06-25T15:15:10.964532Z"
        },
        "id": "guJK6kov_b_t"
      },
      "source": [
        "# to_remove solution\n",
        "def F(x, a, theta):\n",
        "  \"\"\"\n",
        "  Population activation function.\n",
        "\n",
        "  Args:\n",
        "    x (float): the population input\n",
        "    a (float): the gain of the function\n",
        "    theta (float): the threshold of the function\n",
        "\n",
        "  Returns:\n",
        "    float: the population activation response F(x) for input x\n",
        "  \"\"\"\n",
        "\n",
        "  # Define the sigmoidal transfer function f = F(x)\n",
        "  f = (1 + np.exp(-a * (x - theta)))**-1 - (1 + np.exp(a * theta))**-1\n",
        "\n",
        "  return f\n",
        "\n",
        "\n",
        "pars = default_pars_single()  # get default parameters\n",
        "x = np.arange(0, 10, .1)      # set the range of input\n",
        "\n",
        "# Uncomment below to test your function\n",
        "f = F(x, pars['a'], pars['theta'])\n",
        "\n",
        "with plt.xkcd():\n",
        "  plot_fI(x, f)"
      ],
      "execution_count": null,
      "outputs": []
    },
    {
      "cell_type": "markdown",
      "metadata": {
        "id": "_79_oBT4_b_u"
      },
      "source": [
        "### Interactive Demo 1.2 : Parameter exploration of F-I curve\n",
        "Here's an interactive demo that shows how the F-I curve changes for different values of the gain and threshold parameters. How do the gain and threshold parameters affect the F-I curve?"
      ]
    },
    {
      "cell_type": "code",
      "metadata": {
        "cellView": "form",
        "execution": {
          "iopub.execute_input": "2021-06-25T15:15:10.968493Z",
          "iopub.status.busy": "2021-06-25T15:15:10.967286Z",
          "iopub.status.idle": "2021-06-25T15:15:11.200736Z",
          "shell.execute_reply": "2021-06-25T15:15:11.200240Z"
        },
        "id": "t0ugKFo6_b_u"
      },
      "source": [
        "# @title\n",
        "\n",
        "# @markdown Make sure you execute this cell to enable the widget!\n",
        "\n",
        "\n",
        "def interactive_plot_FI(a, theta):\n",
        "  \"\"\"\n",
        "  Population activation function.\n",
        "\n",
        "  Expecxts:\n",
        "    a     : the gain of the function\n",
        "    theta : the threshold of the function\n",
        "\n",
        "  Returns:\n",
        "    plot the F-I curve with give parameters\n",
        "  \"\"\"\n",
        "\n",
        "  # set the range of input\n",
        "  x = np.arange(0, 10, .1)\n",
        "  plt.figure()\n",
        "  plt.plot(x, F(x, a, theta), 'k')\n",
        "  plt.xlabel('x (a.u.)', fontsize=14)\n",
        "  plt.ylabel('F(x)', fontsize=14)\n",
        "  plt.show()\n",
        "\n",
        "\n",
        "_ = widgets.interact(interactive_plot_FI, a=(0.3, 3, 0.3), theta=(2, 4, 0.2))"
      ],
      "execution_count": null,
      "outputs": []
    },
    {
      "cell_type": "code",
      "metadata": {
        "execution": {
          "iopub.execute_input": "2021-06-25T15:15:11.208332Z",
          "iopub.status.busy": "2021-06-25T15:15:11.207816Z",
          "iopub.status.idle": "2021-06-25T15:15:11.211407Z",
          "shell.execute_reply": "2021-06-25T15:15:11.210989Z"
        },
        "id": "uJsXEs2q_b_u"
      },
      "source": [
        "# to_remove explanation\n",
        "\n",
        "\"\"\"\n",
        "Discussion:\n",
        "\n",
        "For the function we have chosen to model the F-I curve (eq 2),\n",
        "- a determines the slope (gain) of the rising phase of the F-I curve\n",
        "- theta determines the input at which the function F(x) reaches its mid-value (0.5).\n",
        "That is, theta shifts the F-I curve along the horizontal axis.\n",
        "\n",
        "For our neurons we are using in this tutorial:\n",
        "- a controls the gain of the neuron population\n",
        "- theta controls the threshold at which the neuron population starts to respond\n",
        "\"\"\";"
      ],
      "execution_count": null,
      "outputs": []
    },
    {
      "cell_type": "markdown",
      "metadata": {
        "id": "ORkGnrnA_b_v"
      },
      "source": [
        "## Section 1.3: Simulation scheme of E dynamics\n",
        "\n",
        "Because $F(\\cdot)$ is a nonlinear function, the exact solution of Equation $1$ can not be determined via analytical methods. Therefore, numerical methods must be used to find the solution. In practice, the derivative on the left-hand side of Equation $1$ can be approximated using the Euler method on a time-grid of stepsize $\\Delta t$:\n",
        "\n",
        "\\begin{align}\n",
        "&\\frac{dr}{dt} \\approx \\frac{r[k+1]-r[k]}{\\Delta t} \n",
        "\\end{align}\n",
        "where $r[k] = r(k\\Delta t)$. \n",
        "\n",
        "Thus,\n",
        "\n",
        "$$\\Delta r[k] = \\frac{\\Delta t}{\\tau}[-r[k] + F(w\\cdot r[k] + I_{\\text{ext}}[k];a,\\theta)]$$\n",
        "\n",
        "\n",
        "Hence, Equation (1) is updated at each time step by:\n",
        "\n",
        "$$r[k+1] = r[k] + \\Delta r[k]$$\n"
      ]
    },
    {
      "cell_type": "code",
      "metadata": {
        "execution": {
          "iopub.execute_input": "2021-06-25T15:15:11.219766Z",
          "iopub.status.busy": "2021-06-25T15:15:11.218784Z",
          "iopub.status.idle": "2021-06-25T15:15:11.222450Z",
          "shell.execute_reply": "2021-06-25T15:15:11.222795Z"
        },
        "id": "8GhwDV9X_b_v",
        "cellView": "form"
      },
      "source": [
        "# @markdown *Execute this cell to enable the single population rate model simulator: `simulate_single`*\n",
        "\n",
        "\n",
        "def simulate_single(pars):\n",
        "  \"\"\"\n",
        "  Simulate an excitatory population of neurons\n",
        "\n",
        "  Args:\n",
        "    pars   : Parameter dictionary\n",
        "\n",
        "  Returns:\n",
        "    rE     : Activity of excitatory population (array)\n",
        "\n",
        "  Example:\n",
        "    pars = default_pars_single()\n",
        "    r = simulate_single(pars)\n",
        "  \"\"\"\n",
        "\n",
        "  # Set parameters\n",
        "  tau, a, theta = pars['tau'], pars['a'], pars['theta']\n",
        "  w = pars['w']\n",
        "  I_ext = pars['I_ext']\n",
        "  r_init = pars['r_init']\n",
        "  dt, range_t = pars['dt'], pars['range_t']\n",
        "  Lt = range_t.size\n",
        "\n",
        "  # Initialize activity\n",
        "  r = np.zeros(Lt)\n",
        "  r[0] = r_init\n",
        "  I_ext = I_ext * np.ones(Lt)\n",
        "\n",
        "  # Update the E activity\n",
        "  for k in range(Lt - 1):\n",
        "      dr = dt / tau * (-r[k] + F(w * r[k] + I_ext[k], a, theta))\n",
        "      r[k+1] = r[k] + dr\n",
        "\n",
        "  return r\n",
        "\n",
        "help(simulate_single)"
      ],
      "execution_count": null,
      "outputs": []
    },
    {
      "cell_type": "markdown",
      "metadata": {
        "id": "WezZ0hsP_b_w"
      },
      "source": [
        "### Interactive Demo 1.3: Parameter Exploration of single population dynamics\n",
        "\n",
        "Note that $w=0$, as in the default setting, means no recurrent input to the neuron population in Equation (1). Hence, the dynamics are entirely determined by the external input $I_{\\text{ext}}$. Explore these dynamics in this interactive demo.\n",
        "\n",
        "How does $r_{\\text{sim}}(t)$ change with different $I_{\\text{ext}}$ values? How does it change with different $\\tau$ values? Investigate the relationship between $F(I_{\\text{ext}}; a, \\theta)$ and the steady value of $r(t)$. \n",
        "\n",
        "Note that, $r_{\\rm ana}(t)$ denotes the analytical solution - you will learn how this is computed in the next section."
      ]
    },
    {
      "cell_type": "code",
      "metadata": {
        "cellView": "form",
        "execution": {
          "iopub.execute_input": "2021-06-25T15:15:11.256333Z",
          "iopub.status.busy": "2021-06-25T15:15:11.255617Z",
          "iopub.status.idle": "2021-06-25T15:15:11.719557Z",
          "shell.execute_reply": "2021-06-25T15:15:11.720049Z"
        },
        "id": "pbqlSJWh_b_w"
      },
      "source": [
        "# @title\n",
        "\n",
        "# @markdown Make sure you execute this cell to enable the widget!\n",
        "\n",
        "# get default parameters\n",
        "pars = default_pars_single(T=20.)\n",
        "\n",
        "\n",
        "def Myplot_E_diffI_difftau(I_ext, tau):\n",
        "  # set external input and time constant\n",
        "  pars['I_ext'] = I_ext\n",
        "  pars['tau'] = tau\n",
        "\n",
        "  # simulation\n",
        "  r = simulate_single(pars)\n",
        "\n",
        "  # Analytical Solution\n",
        "  r_ana = (pars['r_init']\n",
        "           + (F(I_ext, pars['a'], pars['theta'])\n",
        "           - pars['r_init']) * (1. - np.exp(-pars['range_t'] / pars['tau'])))\n",
        "\n",
        "  # plot\n",
        "  plt.figure()\n",
        "  plt.plot(pars['range_t'], r, 'b', label=r'$r_{\\mathrm{sim}}$(t)', alpha=0.5,\n",
        "           zorder=1)\n",
        "  plt.plot(pars['range_t'], r_ana, 'b--', lw=5, dashes=(2, 2),\n",
        "           label=r'$r_{\\mathrm{ana}}$(t)', zorder=2)\n",
        "  plt.plot(pars['range_t'],\n",
        "           F(I_ext, pars['a'], pars['theta']) * np.ones(pars['range_t'].size),\n",
        "           'k--', label=r'$F(I_{\\mathrm{ext}})$')\n",
        "  plt.xlabel('t (ms)', fontsize=16.)\n",
        "  plt.ylabel('Activity r(t)', fontsize=16.)\n",
        "  plt.legend(loc='best', fontsize=14.)\n",
        "  plt.show()\n",
        "\n",
        "\n",
        "_ = widgets.interact(Myplot_E_diffI_difftau, I_ext=(0.0, 10., 1.),\n",
        "                     tau=(1., 5., 0.2))"
      ],
      "execution_count": null,
      "outputs": []
    },
    {
      "cell_type": "code",
      "metadata": {
        "execution": {
          "iopub.execute_input": "2021-06-25T15:15:11.727079Z",
          "iopub.status.busy": "2021-06-25T15:15:11.725878Z",
          "iopub.status.idle": "2021-06-25T15:15:11.727708Z",
          "shell.execute_reply": "2021-06-25T15:15:11.728189Z"
        },
        "id": "gmi182Wl_b_x"
      },
      "source": [
        "# to_remove explanation\n",
        "\n",
        "\"\"\"\n",
        "Discussion:\n",
        "\n",
        "Given the choice of F-I curve (eq 2) and dynamics of the neuron population (eq. 1)\n",
        "the neurons have two fixed points or steady-state responses irrespective of the input.\n",
        "- Weak inputs to the neurons eventually result in the activity converging to zero\n",
        "- Strong inputs to the neurons eventually result in the activity converging to max value\n",
        "\n",
        "The time constant tau, does not affect the steady-state response but it determines\n",
        "the time the neurons take to reach to their fixed point.\n",
        "\"\"\";"
      ],
      "execution_count": null,
      "outputs": []
    },
    {
      "cell_type": "markdown",
      "metadata": {
        "id": "V5G39UmW_b_x"
      },
      "source": [
        "## Think! 1.3\n",
        "Above, we have numerically solved a system driven by a positive input. Yet, $r_E(t)$ either decays to zero or reaches a fixed non-zero value.\n",
        "- Why doesn't the solution of the system \"explode\" in a finite time? In other words, what guarantees that $r_E$(t) stays finite? \n",
        "- Which parameter would you change in order to increase the maximum value of the response? "
      ]
    },
    {
      "cell_type": "code",
      "metadata": {
        "execution": {
          "iopub.execute_input": "2021-06-25T15:15:11.732649Z",
          "iopub.status.busy": "2021-06-25T15:15:11.731465Z",
          "iopub.status.idle": "2021-06-25T15:15:11.733349Z",
          "shell.execute_reply": "2021-06-25T15:15:11.733831Z"
        },
        "id": "PGjTmC8M_b_x"
      },
      "source": [
        "# to_remove explanation\n",
        "\n",
        "\"\"\"\n",
        "Discussion:\n",
        "\n",
        "1) As the F-I curve is bounded between zero and one, the system doesn't explode.\n",
        "The f-curve guarantees this property\n",
        "\n",
        "2) One way to increase the maximum response is to change the f-I curve. For\n",
        "example, the ReLU is an unbounded function, and thus will increase the overall maximal\n",
        "response of the network.\n",
        "\"\"\";"
      ],
      "execution_count": null,
      "outputs": []
    },
    {
      "cell_type": "markdown",
      "metadata": {
        "id": "es9VwS-a_b_x"
      },
      "source": [
        "---\n",
        "# Section 2: Fixed points of the single population system\n"
      ]
    },
    {
      "cell_type": "code",
      "metadata": {
        "cellView": "form",
        "execution": {
          "iopub.execute_input": "2021-06-25T15:15:11.746888Z",
          "iopub.status.busy": "2021-06-25T15:15:11.745402Z",
          "iopub.status.idle": "2021-06-25T15:15:11.828368Z",
          "shell.execute_reply": "2021-06-25T15:15:11.827871Z"
        },
        "id": "cjWIftvL_b_x"
      },
      "source": [
        "# @title Video 2: Fixed point\n",
        "from ipywidgets import widgets\n",
        "\n",
        "out2 = widgets.Output()\n",
        "with out2:\n",
        "  from IPython.display import IFrame\n",
        "  class BiliVideo(IFrame):\n",
        "      def __init__(self, id, page=1, width=400, height=300, **kwargs):\n",
        "          self.id=id\n",
        "          src = 'https://player.bilibili.com/player.html?bvid={0}&page={1}'.format(id, page)\n",
        "          super(BiliVideo, self).__init__(src, width, height, **kwargs)\n",
        "\n",
        "  video = BiliVideo(id=\"\", width=854, height=480, fs=1)\n",
        "  print('Video available at https://www.bilibili.com/video/{0}'.format(video.id))\n",
        "  display(video)\n",
        "\n",
        "out1 = widgets.Output()\n",
        "with out1:\n",
        "  from IPython.display import YouTubeVideo\n",
        "  video = YouTubeVideo(id=\"Ox3ELd1UFyo\", width=854, height=480, fs=1, rel=0)\n",
        "  print('Video available at https://youtube.com/watch?v=' + video.id)\n",
        "  display(video)\n",
        "\n",
        "out = widgets.Tab([out1, out2])\n",
        "out.set_title(0, 'Youtube')\n",
        "out.set_title(1, 'Bilibili')\n",
        "\n",
        "display(out)"
      ],
      "execution_count": null,
      "outputs": []
    },
    {
      "cell_type": "markdown",
      "metadata": {
        "id": "Z6AjvIhe_b_y"
      },
      "source": [
        "As you varied the two parameters in the last Interactive Demo, you noticed that, while at first the system output quickly changes, with time, it reaches its maximum/minimum value and does not change anymore. The value eventually reached by the system is called the **steady state** of the system, or the **fixed point**. Essentially, in the steady states the derivative with respect to time of the activity ($r$) is zero, i.e. $\\displaystyle \\frac{dr}{dt}=0$. \n",
        "\n",
        "We can find that the steady state of the Equation. (1) by setting $\\displaystyle{\\frac{dr}{dt}=0}$ and solve for $r$:\n",
        "\n",
        "$$-r_{\\text{steady}} + F(w\\cdot r_{\\text{steady}} + I_{\\text{ext}};a,\\theta) = 0, \\qquad (3)$$\n",
        "\n",
        "When it exists, the solution of Equation. (3) defines a **fixed point** of the dynamical system in Equation (1). Note that if $F(x)$ is nonlinear, it is not always possible to find an analytical solution, but the solution can be found via numerical simulations, as we will do later.\n",
        "\n",
        "From the Interactive Demo, one could also notice that the value of $\\tau$ influences how quickly the activity will converge to the steady state from its initial value. \n",
        "\n",
        "In the specific case of $w=0$, we can also analytically compute  the solution of Equation (1) (i.e., the thick blue dashed line) and deduce the role of $\\tau$ in determining the convergence to the fixed point: \n",
        "\n",
        "$$\\displaystyle{r(t) = \\big{[}F(I_{\\text{ext}};a,\\theta) -r(t=0)\\big{]} (1-\\text{e}^{-\\frac{t}{\\tau}})} + r(t=0)$$ \\\\\n",
        "\n",
        "We can now numerically calculate the fixed point with a root finding algorithm."
      ]
    },
    {
      "cell_type": "markdown",
      "metadata": {
        "id": "E5iW_flJ_b_y"
      },
      "source": [
        "## Coding Exercise 2.1: Visualization of the fixed points\n",
        "\n",
        "When it is not possible to find the solution for Equation (3) analytically, a graphical approach can be taken. To that end, it is useful to plot $\\displaystyle{\\frac{dr}{dt}}$ as a function of $r$. The values of $r$ for which the plotted function crosses zero on the y axis correspond to fixed points. \n",
        "\n",
        "Here, let us, for example, set $w=5.0$ and $I^{\\text{ext}}=0.5$. From Equation (1), you can obtain\n",
        "\n",
        "$$\\frac{dr}{dt} = [-r + F(w\\cdot r + I^{\\text{ext}})]\\,/\\,\\tau $$\n",
        "\n",
        "Then, plot the $dr/dt$ as a function of $r$, and check for the presence of fixed points. "
      ]
    },
    {
      "cell_type": "code",
      "metadata": {
        "execution": {
          "iopub.execute_input": "2021-06-25T15:15:11.842123Z",
          "iopub.status.busy": "2021-06-25T15:15:11.841508Z",
          "iopub.status.idle": "2021-06-25T15:15:11.843138Z",
          "shell.execute_reply": "2021-06-25T15:15:11.842657Z"
        },
        "id": "ox22vrvR_b_z"
      },
      "source": [
        "def compute_drdt(r, I_ext, w, a, theta, tau, **other_pars):\n",
        "  \"\"\"Given parameters, compute dr/dt as a function of r.\n",
        "\n",
        "  Args:\n",
        "    r (1D array) : Average firing rate of the excitatory population\n",
        "    I_ext, w, a, theta, tau (numbers): Simulation parameters to use\n",
        "    other_pars : Other simulation parameters are unused by this function\n",
        "\n",
        "  Returns\n",
        "    drdt function for each value of r\n",
        "  \"\"\"\n",
        "  #########################################################################\n",
        "  # TODO compute drdt and disable the error\n",
        "  raise NotImplementedError(\"Finish the compute_drdt function\")\n",
        "  #########################################################################\n",
        "\n",
        "  # Calculate drdt\n",
        "  drdt = ...\n",
        "\n",
        "  return drdt\n",
        "\n",
        "\n",
        "# Define a vector of r values and the simulation parameters\n",
        "r = np.linspace(0, 1, 1000)\n",
        "pars = default_pars_single(I_ext=0.5, w=5)\n",
        "\n",
        "# Uncomment to test your function\n",
        "# drdt = compute_drdt(r, **pars)\n",
        "# plot_dr_r(r, drdt)"
      ],
      "execution_count": null,
      "outputs": []
    },
    {
      "cell_type": "code",
      "metadata": {
        "execution": {
          "iopub.execute_input": "2021-06-25T15:15:11.862228Z",
          "iopub.status.busy": "2021-06-25T15:15:11.847873Z",
          "iopub.status.idle": "2021-06-25T15:15:12.129912Z",
          "shell.execute_reply": "2021-06-25T15:15:12.129421Z"
        },
        "id": "ZiW9Hi0D_b_z"
      },
      "source": [
        "# to_remove solution\n",
        "def compute_drdt(r, I_ext, w, a, theta, tau, **other_pars):\n",
        "  \"\"\"Given parameters, compute dr/dt as a function of r.\n",
        "\n",
        "  Args:\n",
        "    r (1D array) : Average firing rate of the excitatory population\n",
        "    I_ext, w, a, theta, tau (numbers): Simulation parameters to use\n",
        "    other_pars : Other simulation parameters are unused by this function\n",
        "\n",
        "  Returns\n",
        "    drdt function for each value of r\n",
        "  \"\"\"\n",
        "  # Calculate drdt\n",
        "  drdt = (-r + F(w * r + I_ext, a, theta)) / tau\n",
        "\n",
        "  return drdt\n",
        "\n",
        "\n",
        "# Define a vector of r values and the simulation parameters\n",
        "r = np.linspace(0, 1, 1000)\n",
        "pars = default_pars_single(I_ext=0.5, w=5)\n",
        "\n",
        "drdt = compute_drdt(r, **pars)\n",
        "with plt.xkcd():\n",
        "  plot_dr_r(r, drdt)"
      ],
      "execution_count": null,
      "outputs": []
    },
    {
      "cell_type": "markdown",
      "metadata": {
        "id": "Nuuux08A_b_z"
      },
      "source": [
        "## Coding Excercise 2.2: Fixed point calculation\n",
        "\n",
        "We will now find the fixed points numerically. To do so, we need to specif initial values ($r_{\\text{guess}}$) for the root-finding algorithm to start from. From the line $\\displaystyle{\\frac{dr}{dt}}$ plotted above in Exercise 2, initial values can be chosen as a set of values close to where the line crosses zero on the y axis (real fixed point).\n",
        "\n",
        "The next cell defines three helper functions that we will use:\n",
        "\n",
        "- `my_fp_single(r_guess, **pars)` uses a root-finding algorithm to locate a fixed point near a given initial value\n",
        "- `check_fp_single(x_fp, **pars)`, verifies that the values of $r_{\\rm fp}$ for which $\\displaystyle{\\frac{dr}{dt}} = 0$ are the true fixed points\n",
        "- `my_fp_finder(r_guess_vector, **pars)` accepts an array of initial values and finds the same number of fixed points, using the above two functions"
      ]
    },
    {
      "cell_type": "code",
      "metadata": {
        "cellView": "form",
        "execution": {
          "iopub.execute_input": "2021-06-25T15:15:12.139245Z",
          "iopub.status.busy": "2021-06-25T15:15:12.138129Z",
          "iopub.status.idle": "2021-06-25T15:15:12.141171Z",
          "shell.execute_reply": "2021-06-25T15:15:12.140698Z"
        },
        "id": "Q8aQaCLI_b_0"
      },
      "source": [
        "# @markdown *Execute this cell to enable the fixed point functions*\n",
        "\n",
        "def my_fp_single(r_guess, a, theta, w, I_ext, **other_pars):\n",
        "  \"\"\"\n",
        "  Calculate the fixed point through drE/dt=0\n",
        "\n",
        "  Args:\n",
        "    r_guess  : Initial value used for scipy.optimize function\n",
        "    a, theta, w, I_ext : simulation parameters\n",
        "\n",
        "  Returns:\n",
        "    x_fp    : value of fixed point\n",
        "  \"\"\"\n",
        "  # define the right hand of E dynamics\n",
        "  def my_WCr(x):\n",
        "    r = x\n",
        "    drdt = (-r + F(w * r + I_ext, a, theta))\n",
        "    y = np.array(drdt)\n",
        "\n",
        "    return y\n",
        "\n",
        "  x0 = np.array(r_guess)\n",
        "  x_fp = opt.root(my_WCr, x0).x.item()\n",
        "\n",
        "  return x_fp\n",
        "\n",
        "\n",
        "def check_fp_single(x_fp, a, theta, w, I_ext, mytol=1e-4, **other_pars):\n",
        "  \"\"\"\n",
        "   Verify |dr/dt| < mytol\n",
        "\n",
        "  Args:\n",
        "    fp      : value of fixed point\n",
        "    a, theta, w, I_ext: simulation parameters\n",
        "    mytol   : tolerance, default as 10^{-4}\n",
        "\n",
        "  Returns :\n",
        "    Whether it is a correct fixed point: True/False\n",
        "  \"\"\"\n",
        "  # calculate Equation(3)\n",
        "  y = x_fp - F(w * x_fp + I_ext, a, theta)\n",
        "\n",
        "  # Here we set tolerance as 10^{-4}\n",
        "  return np.abs(y) < mytol\n",
        "\n",
        "\n",
        "def my_fp_finder(pars, r_guess_vector, mytol=1e-4):\n",
        "  \"\"\"\n",
        "  Calculate the fixed point(s) through drE/dt=0\n",
        "\n",
        "  Args:\n",
        "    pars    : Parameter dictionary\n",
        "    r_guess_vector  : Initial values used for scipy.optimize function\n",
        "    mytol   : tolerance for checking fixed point, default as 10^{-4}\n",
        "\n",
        "  Returns:\n",
        "    x_fps   : values of fixed points\n",
        "\n",
        "  \"\"\"\n",
        "  x_fps = []\n",
        "  correct_fps = []\n",
        "  for r_guess in r_guess_vector:\n",
        "    x_fp = my_fp_single(r_guess, **pars)\n",
        "    if check_fp_single(x_fp, **pars, mytol=mytol):\n",
        "      x_fps.append(x_fp)\n",
        "\n",
        "  return x_fps\n",
        "\n",
        "help(my_fp_finder)"
      ],
      "execution_count": null,
      "outputs": []
    },
    {
      "cell_type": "code",
      "metadata": {
        "execution": {
          "iopub.execute_input": "2021-06-25T15:15:12.146364Z",
          "iopub.status.busy": "2021-06-25T15:15:12.145337Z",
          "iopub.status.idle": "2021-06-25T15:15:12.147218Z",
          "shell.execute_reply": "2021-06-25T15:15:12.147587Z"
        },
        "id": "82xxbO-K_b_0"
      },
      "source": [
        "r = np.linspace(0, 1, 1000)\n",
        "pars = default_pars_single(I_ext=0.5, w=5)\n",
        "drdt = compute_drdt(r, **pars)\n",
        "\n",
        "#############################################################################\n",
        "# TODO for students:\n",
        "# Define initial values close to the intersections of drdt and y=0\n",
        "# (How many initial values? Hint: How many times do the two lines intersect?)\n",
        "# Calculate the fixed point with these initial values and plot them\n",
        "#############################################################################\n",
        "r_guess_vector = [...]\n",
        "\n",
        "# Uncomment to test your values\n",
        "# x_fps = my_fp_finder(pars, r_guess_vector)\n",
        "# plot_dr_r(r, drdt, x_fps)"
      ],
      "execution_count": null,
      "outputs": []
    },
    {
      "cell_type": "code",
      "metadata": {
        "execution": {
          "iopub.execute_input": "2021-06-25T15:15:12.153603Z",
          "iopub.status.busy": "2021-06-25T15:15:12.151712Z",
          "iopub.status.idle": "2021-06-25T15:15:12.419974Z",
          "shell.execute_reply": "2021-06-25T15:15:12.420695Z"
        },
        "id": "kI4itDlV_b_1"
      },
      "source": [
        "# to_remove solution\n",
        "r = np.linspace(0, 1, 1000)\n",
        "pars = default_pars_single(I_ext=0.5, w=5)\n",
        "drdt = compute_drdt(r, **pars)\n",
        "\n",
        "r_guess_vector = [0, .4, .9]\n",
        "\n",
        "x_fps = my_fp_finder(pars, r_guess_vector)\n",
        "with plt.xkcd():\n",
        "  plot_dr_r(r, drdt, x_fps)"
      ],
      "execution_count": null,
      "outputs": []
    },
    {
      "cell_type": "markdown",
      "metadata": {
        "id": "VaLhiYHt_b_1"
      },
      "source": [
        "## Interactive Demo 2: fixed points as a function of recurrent and external inputs.\n",
        "\n",
        "You can now explore how the previous plot changes when the recurrent coupling $w$ and the external input $I_{\\text{ext}}$ take different values. How does the number of fixed points change?"
      ]
    },
    {
      "cell_type": "code",
      "metadata": {
        "cellView": "form",
        "execution": {
          "iopub.execute_input": "2021-06-25T15:15:12.448868Z",
          "iopub.status.busy": "2021-06-25T15:15:12.448346Z",
          "iopub.status.idle": "2021-06-25T15:15:12.682598Z",
          "shell.execute_reply": "2021-06-25T15:15:12.682104Z"
        },
        "id": "3lV2sqTF_b_1"
      },
      "source": [
        "# @title\n",
        "\n",
        "# @markdown Make sure you execute this cell to enable the widget!\n",
        "\n",
        "\n",
        "def plot_intersection_single(w, I_ext):\n",
        "  # set your parameters\n",
        "  pars = default_pars_single(w=w, I_ext=I_ext)\n",
        "\n",
        "  # find fixed points\n",
        "  r_init_vector = [0, .4, .9]\n",
        "  x_fps = my_fp_finder(pars, r_init_vector)\n",
        "\n",
        "  # plot\n",
        "  r = np.linspace(0, 1., 1000)\n",
        "  drdt = (-r + F(w * r + I_ext, pars['a'], pars['theta'])) / pars['tau']\n",
        "\n",
        "  plot_dr_r(r, drdt, x_fps)\n",
        "\n",
        "_ = widgets.interact(plot_intersection_single, w=(1, 7, 0.2),\n",
        "                     I_ext=(0, 3, 0.1))"
      ],
      "execution_count": null,
      "outputs": []
    },
    {
      "cell_type": "code",
      "metadata": {
        "execution": {
          "iopub.execute_input": "2021-06-25T15:15:12.691041Z",
          "iopub.status.busy": "2021-06-25T15:15:12.690482Z",
          "iopub.status.idle": "2021-06-25T15:15:12.693971Z",
          "shell.execute_reply": "2021-06-25T15:15:12.693313Z"
        },
        "id": "cXcdZhYU_b_1"
      },
      "source": [
        "# to_remove explanation\n",
        "\n",
        "\"\"\"\n",
        "Discussion:\n",
        "\n",
        "The fixed points of the single excitatory neuron population are determined by both\n",
        "recurrent connections w and external input I_ext. In a previous interactive demo\n",
        "we saw how the system showed two different steady-states when w = 0. But when w\n",
        "doe not equal 0, for some range of w the system shows three fixed points (the middle\n",
        "one being unstable) and the steady state depends on the initial conditions (i.e.\n",
        "r at time zero.).\n",
        "\n",
        "More on this will be explained in the next section.\n",
        "\"\"\";"
      ],
      "execution_count": null,
      "outputs": []
    },
    {
      "cell_type": "markdown",
      "metadata": {
        "id": "ku_muuPw_b_2"
      },
      "source": [
        "---\n",
        "# Summary\n",
        "\n",
        "In this tutorial, we have investigated the dynamics of a rate-based single population of neurons.\n",
        "\n",
        "We learned about:\n",
        "- The effect of the input parameters and the time constant of the network on the dynamics of the population.\n",
        "- How to find the fixed point(s) of the system.\n",
        "\n",
        "Next, we have two Bonus, but important concepts in dynamical system analysis and simulation. If you have time left, watch the next video and proceed to solve the exercises. You will learn:\n",
        "\n",
        "- How to determine the stability of a fixed point by linearizing the system.\n",
        "- How to add realistic inputs to our model."
      ]
    },
    {
      "cell_type": "markdown",
      "metadata": {
        "id": "T2w0Mrr0_b_2"
      },
      "source": [
        "---\n",
        "# Bonus 1: Stability of a fixed point"
      ]
    },
    {
      "cell_type": "code",
      "metadata": {
        "cellView": "form",
        "execution": {
          "iopub.execute_input": "2021-06-25T15:15:12.705492Z",
          "iopub.status.busy": "2021-06-25T15:15:12.704981Z",
          "iopub.status.idle": "2021-06-25T15:15:12.801011Z",
          "shell.execute_reply": "2021-06-25T15:15:12.800002Z"
        },
        "id": "s-8u_HaD_b_2"
      },
      "source": [
        "# @title Video 3: Stability of fixed points\n",
        "from ipywidgets import widgets\n",
        "\n",
        "out2 = widgets.Output()\n",
        "with out2:\n",
        "  from IPython.display import IFrame\n",
        "  class BiliVideo(IFrame):\n",
        "      def __init__(self, id, page=1, width=400, height=300, **kwargs):\n",
        "          self.id=id\n",
        "          src = 'https://player.bilibili.com/player.html?bvid={0}&page={1}'.format(id, page)\n",
        "          super(BiliVideo, self).__init__(src, width, height, **kwargs)\n",
        "\n",
        "  video = BiliVideo(id=\"\", width=854, height=480, fs=1)\n",
        "  print('Video available at https://www.bilibili.com/video/{0}'.format(video.id))\n",
        "  display(video)\n",
        "\n",
        "out1 = widgets.Output()\n",
        "with out1:\n",
        "  from IPython.display import YouTubeVideo\n",
        "  video = YouTubeVideo(id=\"KKMlWWU83Jg\", width=854, height=480, fs=1, rel=0)\n",
        "  print('Video available at https://youtube.com/watch?v=' + video.id)\n",
        "  display(video)\n",
        "\n",
        "out = widgets.Tab([out1, out2])\n",
        "out.set_title(0, 'Youtube')\n",
        "out.set_title(1, 'Bilibili')\n",
        "\n",
        "display(out)"
      ],
      "execution_count": null,
      "outputs": []
    },
    {
      "cell_type": "markdown",
      "metadata": {
        "id": "1w2PUyof_b_2"
      },
      "source": [
        "#### Initial values and trajectories\n",
        "\n",
        "Here, let us first set $w=5.0$ and $I_{\\text{ext}}=0.5$, and investigate the dynamics of $r(t)$ starting with different initial values $r(0) \\equiv r_{\\text{init}}$. We will plot the trajectories of $r(t)$ with $r_{\\text{init}} = 0.0, 0.1, 0.2,..., 0.9$."
      ]
    },
    {
      "cell_type": "code",
      "metadata": {
        "cellView": "form",
        "execution": {
          "iopub.execute_input": "2021-06-25T15:15:12.896431Z",
          "iopub.status.busy": "2021-06-25T15:15:12.867952Z",
          "iopub.status.idle": "2021-06-25T15:15:13.326712Z",
          "shell.execute_reply": "2021-06-25T15:15:13.327184Z"
        },
        "id": "9l6Z1OnN_b_3"
      },
      "source": [
        "# @markdown Execute this cell to see the trajectories!\n",
        "\n",
        "pars = default_pars_single()\n",
        "pars['w'] = 5.0\n",
        "pars['I_ext'] = 0.5\n",
        "\n",
        "plt.figure(figsize=(8, 5))\n",
        "for ie in range(10):\n",
        "  pars['r_init'] = 0.1 * ie  # set the initial value\n",
        "  r = simulate_single(pars)  # run the simulation\n",
        "\n",
        "  # plot the activity with given initial\n",
        "  plt.plot(pars['range_t'], r, 'b', alpha=0.1 + 0.1 * ie,\n",
        "           label=r'r$_{\\mathrm{init}}$=%.1f' % (0.1 * ie))\n",
        "\n",
        "plt.xlabel('t (ms)')\n",
        "plt.title('Two steady states?')\n",
        "plt.ylabel(r'$r$(t)')\n",
        "plt.legend(loc=[1.01, -0.06], fontsize=14)\n",
        "plt.show()"
      ],
      "execution_count": null,
      "outputs": []
    },
    {
      "cell_type": "markdown",
      "metadata": {
        "id": "LTVmywu0_b_3"
      },
      "source": [
        "## Bonus Interactive Demo 1: dynamics as a function of the initial value\n",
        "\n",
        "Let's now set $r_{\\rm init}$ to a value of your choice in this demo. How does the solution change? What do you observe?"
      ]
    },
    {
      "cell_type": "code",
      "metadata": {
        "cellView": "form",
        "execution": {
          "iopub.execute_input": "2021-06-25T15:15:13.352572Z",
          "iopub.status.busy": "2021-06-25T15:15:13.351453Z",
          "iopub.status.idle": "2021-06-25T15:15:13.539943Z",
          "shell.execute_reply": "2021-06-25T15:15:13.540507Z"
        },
        "id": "cvmq609X_b_3"
      },
      "source": [
        "# @title\n",
        "\n",
        "# @markdown Make sure you execute this cell to enable the widget!\n",
        "\n",
        "pars = default_pars_single(w=5.0, I_ext=0.5)\n",
        "\n",
        "def plot_single_diffEinit(r_init):\n",
        "  pars['r_init'] = r_init\n",
        "  r = simulate_single(pars)\n",
        "\n",
        "  plt.figure()\n",
        "  plt.plot(pars['range_t'], r, 'b', zorder=1)\n",
        "  plt.plot(0, r[0], 'bo', alpha=0.7, zorder=2)\n",
        "  plt.xlabel('t (ms)', fontsize=16)\n",
        "  plt.ylabel(r'$r(t)$', fontsize=16)\n",
        "  plt.ylim(0, 1.0)\n",
        "  plt.show()\n",
        "\n",
        "\n",
        "_ = widgets.interact(plot_single_diffEinit, r_init=(0, 1, 0.02))"
      ],
      "execution_count": null,
      "outputs": []
    },
    {
      "cell_type": "code",
      "metadata": {
        "execution": {
          "iopub.execute_input": "2021-06-25T15:15:13.545657Z",
          "iopub.status.busy": "2021-06-25T15:15:13.545105Z",
          "iopub.status.idle": "2021-06-25T15:15:13.547456Z",
          "shell.execute_reply": "2021-06-25T15:15:13.546975Z"
        },
        "id": "TyulmoX9_b_3"
      },
      "source": [
        "# to_remove explanation\n",
        "\"\"\"\n",
        "Discussion:\n",
        "\n",
        "To better appreciate what is happening here, you should go back to the previous\n",
        "interactive demo. Set the w = 5 and I_ext = 0.5.\n",
        "\n",
        "You will find that there are three fixed points of the system for these values of\n",
        "w and I_ext. Now, choose the initial value in this demo and see in which direction\n",
        "the system output moves. When r_init is in the vicinity of the leftmost fixed points\n",
        "it moves towards the left most fixed point. When r_init is in the vicinity of the\n",
        "rightmost fixed points it moves towards the rightmost fixed point.\n",
        "\"\"\";"
      ],
      "execution_count": null,
      "outputs": []
    },
    {
      "cell_type": "markdown",
      "metadata": {
        "id": "7OFFpQUl_b_4"
      },
      "source": [
        "### Stability analysis via linearization of the dynamics\n",
        "\n",
        "Just like Equation $1$ in the case ($w=0$) discussed above, a generic linear system \n",
        "$$\\frac{dx}{dt} = \\lambda (x - b),$$ \n",
        "has a fixed point for $x=b$. The analytical solution of such a system can be found to be:\n",
        "$$x(t) = b + \\big{(} x(0) - b \\big{)} \\text{e}^{\\lambda t}.$$ \n",
        "Now consider a small perturbation of the activity around the fixed point: $x(0) = b+ \\epsilon$, where $|\\epsilon| \\ll 1$. Will the perturbation $\\epsilon(t)$ grow with time or will it decay to the fixed point? The evolution of the perturbation with time can be written, using the analytical solution for $x(t)$, as:\n",
        " $$\\epsilon (t) = x(t) - b = \\epsilon \\text{e}^{\\lambda t}$$\n",
        "\n",
        "- if $\\lambda < 0$, $\\epsilon(t)$ decays to zero, $x(t)$ will still converge to $b$ and the fixed point is \"**stable**\".\n",
        "\n",
        "- if $\\lambda > 0$, $\\epsilon(t)$ grows with time, $x(t)$ will leave the fixed point $b$ exponentially, and the fixed point is, therefore, \"**unstable**\" ."
      ]
    },
    {
      "cell_type": "markdown",
      "metadata": {
        "id": "sE9Zlpo9_b_4"
      },
      "source": [
        "### Compute the stability of Equation $1$\n",
        "\n",
        "Similar to what we did in the linear system above, in order to determine the stability of a fixed point $r^{*}$ of the excitatory population dynamics, we perturb Equation (1) around $r^{*}$ by $\\epsilon$, i.e. $r = r^{*} + \\epsilon$. We can plug in Equation (1) and obtain the equation determining the time evolution of the perturbation $\\epsilon(t)$:\n",
        "\n",
        "\\begin{align}\n",
        "\\tau \\frac{d\\epsilon}{dt} \\approx -\\epsilon + w F'(w\\cdot r^{*} + I_{\\text{ext}};a,\\theta) \\epsilon \n",
        "\\end{align}\n",
        "\n",
        "where $F'(\\cdot)$ is the derivative of the transfer function $F(\\cdot)$. We can rewrite the above equation as:\n",
        "\n",
        "\\begin{align}\n",
        "\\frac{d\\epsilon}{dt} \\approx \\frac{\\epsilon}{\\tau }[-1 + w F'(w\\cdot r^* + I_{\\text{ext}};a,\\theta)] \n",
        "\\end{align}\n",
        "\n",
        "That is, as in the linear system above, the value of\n",
        "\n",
        "$$\\lambda = [-1+ wF'(w\\cdot r^* + I_{\\text{ext}};a,\\theta)]/\\tau \\qquad (4)$$\n",
        "\n",
        "determines whether the perturbation will grow or decay to zero, i.e., $\\lambda$ defines the stability of the fixed point. This value is called the **eigenvalue** of the dynamical system."
      ]
    },
    {
      "cell_type": "markdown",
      "metadata": {
        "id": "Pl-LGM9l_b_5"
      },
      "source": [
        "## Coding Exercise 1.1: Compute $dF$\n",
        "\n",
        "The derivative of the sigmoid transfer function is:\n",
        "\\begin{align} \n",
        "\\frac{dF}{dx} & = \\frac{d}{dx} (1+\\exp\\{-a(x-\\theta)\\})^{-1}  \\\\\n",
        "& = a\\exp\\{-a(x-\\theta)\\} (1+\\exp\\{-a(x-\\theta)\\})^{-2}. \\qquad (5)\n",
        "\\end{align}\n",
        "\n",
        "Let's now find the expression for the derivative $\\displaystyle{\\frac{dF}{dx}}$ in the following cell and plot it."
      ]
    },
    {
      "cell_type": "code",
      "metadata": {
        "execution": {
          "iopub.execute_input": "2021-06-25T15:15:13.553341Z",
          "iopub.status.busy": "2021-06-25T15:15:13.552566Z",
          "iopub.status.idle": "2021-06-25T15:15:13.554151Z",
          "shell.execute_reply": "2021-06-25T15:15:13.554766Z"
        },
        "id": "yvxUHDLB_b_5"
      },
      "source": [
        "def dF(x, a, theta):\n",
        "  \"\"\"\n",
        "  Population activation function.\n",
        "\n",
        "  Args:\n",
        "    x     : the population input\n",
        "    a     : the gain of the function\n",
        "    theta : the threshold of the function\n",
        "\n",
        "  Returns:\n",
        "    dFdx  : the population activation response F(x) for input x\n",
        "  \"\"\"\n",
        "\n",
        "  ###########################################################################\n",
        "  # TODO for students: compute dFdx ##\n",
        "  raise NotImplementedError(\"Student excercise: compute the deravitive of F\")\n",
        "  ###########################################################################\n",
        "\n",
        "  # Calculate the population activation\n",
        "  dFdx = ...\n",
        "\n",
        "  return dFdx\n",
        "\n",
        "\n",
        "pars = default_pars_single()  # get default parameters\n",
        "x = np.arange(0, 10, .1)      # set the range of input\n",
        "\n",
        "# Uncomment below to test your function\n",
        "# df = dF(x, pars['a'], pars['theta'])\n",
        "# plot_dFdt(x, df)"
      ],
      "execution_count": null,
      "outputs": []
    },
    {
      "cell_type": "code",
      "metadata": {
        "execution": {
          "iopub.execute_input": "2021-06-25T15:15:13.572848Z",
          "iopub.status.busy": "2021-06-25T15:15:13.560863Z",
          "iopub.status.idle": "2021-06-25T15:15:13.785322Z",
          "shell.execute_reply": "2021-06-25T15:15:13.784294Z"
        },
        "id": "4zNKyZbN_b_5"
      },
      "source": [
        "# to_remove solution\n",
        "def dF(x, a, theta):\n",
        "  \"\"\"\n",
        "  Population activation function.\n",
        "\n",
        "  Args:\n",
        "    x     : the population input\n",
        "    a     : the gain of the function\n",
        "    theta : the threshold of the function\n",
        "\n",
        "  Returns:\n",
        "    dFdx  : the population activation response F(x) for input x\n",
        "  \"\"\"\n",
        "\n",
        "  # Calculate the population activation\n",
        "  dFdx = a * np.exp(-a * (x - theta)) * (1 + np.exp(-a * (x - theta)))**-2\n",
        "\n",
        "  return dFdx\n",
        "\n",
        "\n",
        "pars = default_pars_single()  # get default parameters\n",
        "x = np.arange(0, 10, .1)      # set the range of input\n",
        "\n",
        "df = dF(x, pars['a'], pars['theta'])\n",
        "\n",
        "with plt.xkcd():\n",
        "  plot_dFdt(x, df)"
      ],
      "execution_count": null,
      "outputs": []
    },
    {
      "cell_type": "markdown",
      "metadata": {
        "id": "y3mBAEoz_b_5"
      },
      "source": [
        "## Coding Exercise 1.2: Compute eigenvalues\n",
        "\n",
        "As discussed above, for the case with $w=5.0$ and $I_{\\text{ext}}=0.5$, the system displays **three** fixed points. However, when we simulated the dynamics and varied the initial conditions $r_{\\rm init}$, we could only obtain **two** steady states. In this exercise, we will now check the stability of each of the three fixed points by calculating the corresponding eigenvalues with the function `eig_single`. Check the sign of each eigenvalue (i.e., stability of each fixed point). How many of the fixed points are stable?\n",
        "\n",
        "Note that the expression of the eigenvalue at fixed point $r^*$\n",
        "$$\\lambda = [-1+ wF'(w\\cdot r^* + I_{\\text{ext}};a,\\theta)]/\\tau$$"
      ]
    },
    {
      "cell_type": "code",
      "metadata": {
        "execution": {
          "iopub.execute_input": "2021-06-25T15:15:13.791210Z",
          "iopub.status.busy": "2021-06-25T15:15:13.790710Z",
          "iopub.status.idle": "2021-06-25T15:15:13.794190Z",
          "shell.execute_reply": "2021-06-25T15:15:13.793716Z"
        },
        "id": "AmAlZRG5_b_6"
      },
      "source": [
        "def eig_single(fp, tau, a, theta, w, I_ext, **other_pars):\n",
        "  \"\"\"\n",
        "  Args:\n",
        "    fp   : fixed point r_fp\n",
        "    tau, a, theta, w, I_ext : Simulation parameters\n",
        "\n",
        "  Returns:\n",
        "    eig : eigevalue of the linearized system\n",
        "  \"\"\"\n",
        "  #####################################################################\n",
        "  ## TODO for students: compute eigenvalue and disable the error\n",
        "  raise NotImplementedError(\"Student excercise: compute the eigenvalue\")\n",
        "  ######################################################################\n",
        "  # Compute the eigenvalue\n",
        "  eig = ...\n",
        "\n",
        "  return eig\n",
        "\n",
        "\n",
        "# Find the eigenvalues for all fixed points of Exercise 2\n",
        "pars = default_pars_single(w=5, I_ext=.5)\n",
        "r_guess_vector = [0, .4, .9]\n",
        "x_fp = my_fp_finder(pars, r_guess_vector)\n",
        "\n",
        "# Uncomment below lines after completing the eig_single function.\n",
        "\n",
        "# for fp in x_fp:\n",
        "#   eig_fp = eig_single(fp, **pars)\n",
        "#   print(f'Fixed point1 at {fp:.3f} with Eigenvalue={eig_fp:.3f}')"
      ],
      "execution_count": null,
      "outputs": []
    },
    {
      "cell_type": "markdown",
      "metadata": {
        "id": "S5cahJs3_b_6"
      },
      "source": [
        "**SAMPLE OUTPUT**\n",
        "\n",
        "```\n",
        "Fixed point1 at 0.042 with Eigenvalue=-0.583\n",
        "Fixed point2 at 0.447 with Eigenvalue=0.498\n",
        "Fixed point3 at 0.900 with Eigenvalue=-0.626\n",
        "```"
      ]
    },
    {
      "cell_type": "code",
      "metadata": {
        "execution": {
          "iopub.execute_input": "2021-06-25T15:15:13.800648Z",
          "iopub.status.busy": "2021-06-25T15:15:13.799737Z",
          "iopub.status.idle": "2021-06-25T15:15:13.803763Z",
          "shell.execute_reply": "2021-06-25T15:15:13.804221Z"
        },
        "id": "048jCUl9_b_6"
      },
      "source": [
        "# to_remove solution\n",
        "def eig_single(fp, tau, a, theta, w, I_ext, **other_pars):\n",
        "  \"\"\"\n",
        "  Args:\n",
        "    fp   : fixed point r_fp\n",
        "    tau, a, theta, w, I_ext : Simulation parameters\n",
        "\n",
        "  Returns:\n",
        "    eig : eigevalue of the linearized system\n",
        "  \"\"\"\n",
        "  # Compute the eigenvalue\n",
        "  eig = (-1. + w * dF(w * fp + I_ext, a, theta)) / tau\n",
        "\n",
        "  return eig\n",
        "\n",
        "\n",
        "# Find the eigenvalues for all fixed points of Exercise 2\n",
        "pars = default_pars_single(w=5, I_ext=.5)\n",
        "r_guess_vector = [0, .4, .9]\n",
        "x_fp = my_fp_finder(pars, r_guess_vector)\n",
        "\n",
        "for fp in x_fp:\n",
        "  eig_fp = eig_single(fp, **pars)\n",
        "  print(f'Fixed point1 at {fp:.3f} with Eigenvalue={eig_fp:.3f}')"
      ],
      "execution_count": null,
      "outputs": []
    },
    {
      "cell_type": "markdown",
      "metadata": {
        "id": "wSwy6pVa_b_7"
      },
      "source": [
        "## Think 1! \n",
        "Throughout the tutorial, we have assumed $w> 0 $, i.e., we considered a single population of **excitatory** neurons. What do you think will be the behavior of a population of inhibitory neurons, i.e., where $w> 0$ is replaced by $w< 0$? "
      ]
    },
    {
      "cell_type": "code",
      "metadata": {
        "execution": {
          "iopub.execute_input": "2021-06-25T15:15:13.808027Z",
          "iopub.status.busy": "2021-06-25T15:15:13.807492Z",
          "iopub.status.idle": "2021-06-25T15:15:13.811454Z",
          "shell.execute_reply": "2021-06-25T15:15:13.811008Z"
        },
        "id": "cwyNoGDG_b_7"
      },
      "source": [
        "# to_remove explanation\n",
        "\n",
        "\"\"\"\n",
        "Discussion:\n",
        "\n",
        "You can check this by going back the second last interactive demo and set the\n",
        "weight to w<0. You will notice that the system has only one fixed point and that\n",
        "is at zero value. For this particular dynamics, the system will eventually converge\n",
        "to zero. But try it out.\n",
        "\"\"\";"
      ],
      "execution_count": null,
      "outputs": []
    },
    {
      "cell_type": "markdown",
      "metadata": {
        "id": "3M56wZr1_b_7"
      },
      "source": [
        "---\n",
        "# Bonus 2: Noisy input drives the transition between two stable states\n",
        "\n"
      ]
    },
    {
      "cell_type": "markdown",
      "metadata": {
        "id": "5m8NzLQR_b_7"
      },
      "source": [
        "## Ornstein-Uhlenbeck (OU) process\n",
        "\n",
        "As discussed in several previous tutorials, the OU process is usually used to generate a noisy input into the neuron. The OU input $\\eta(t)$ follows: \n",
        "\n",
        "$$\\tau_\\eta \\frac{d}{dt}\\eta(t) = -\\eta (t) + \\sigma_\\eta\\sqrt{2\\tau_\\eta}\\xi(t)$$\n",
        "\n",
        "Execute the following function `my_OU(pars, sig, myseed=False)` to generate an OU process."
      ]
    },
    {
      "cell_type": "code",
      "metadata": {
        "cellView": "form",
        "execution": {
          "iopub.execute_input": "2021-06-25T15:15:13.821655Z",
          "iopub.status.busy": "2021-06-25T15:15:13.820501Z",
          "iopub.status.idle": "2021-06-25T15:15:14.013270Z",
          "shell.execute_reply": "2021-06-25T15:15:14.012756Z"
        },
        "id": "a4OgrCTs_b_8"
      },
      "source": [
        "# @title OU process `my_OU(pars, sig, myseed=False)`\n",
        "\n",
        "# @markdown Make sure you execute this cell to visualize the noise!\n",
        "\n",
        "\n",
        "def my_OU(pars, sig, myseed=False):\n",
        "  \"\"\"\n",
        "  A functions that generates Ornstein-Uhlenback process\n",
        "\n",
        "  Args:\n",
        "    pars       : parameter dictionary\n",
        "    sig        : noise amplitute\n",
        "    myseed     : random seed. int or boolean\n",
        "\n",
        "  Returns:\n",
        "    I          : Ornstein-Uhlenbeck input current\n",
        "  \"\"\"\n",
        "\n",
        "  # Retrieve simulation parameters\n",
        "  dt, range_t = pars['dt'], pars['range_t']\n",
        "  Lt = range_t.size\n",
        "  tau_ou = pars['tau_ou']  # [ms]\n",
        "\n",
        "  # set random seed\n",
        "  if myseed:\n",
        "      np.random.seed(seed=myseed)\n",
        "  else:\n",
        "      np.random.seed()\n",
        "\n",
        "  # Initialize\n",
        "  noise = np.random.randn(Lt)\n",
        "  I_ou = np.zeros(Lt)\n",
        "  I_ou[0] = noise[0] * sig\n",
        "\n",
        "  # generate OU\n",
        "  for it in range(Lt - 1):\n",
        "    I_ou[it + 1] = (I_ou[it]\n",
        "                    + dt / tau_ou * (0. - I_ou[it])\n",
        "                    + np.sqrt(2 * dt / tau_ou) * sig * noise[it + 1])\n",
        "\n",
        "  return I_ou\n",
        "\n",
        "\n",
        "pars = default_pars_single(T=100)\n",
        "pars['tau_ou'] = 1.  # [ms]\n",
        "sig_ou = 0.1\n",
        "I_ou = my_OU(pars, sig=sig_ou, myseed=2020)\n",
        "plt.figure(figsize=(10, 4))\n",
        "plt.plot(pars['range_t'], I_ou, 'r')\n",
        "plt.xlabel('t (ms)')\n",
        "plt.ylabel(r'$I_{\\mathrm{OU}}$')\n",
        "plt.show()"
      ],
      "execution_count": null,
      "outputs": []
    },
    {
      "cell_type": "markdown",
      "metadata": {
        "id": "y5fKe6aA_b_8"
      },
      "source": [
        "## Example: Up-Down transition\n",
        "\n",
        "In the presence of two or more fixed points, noisy inputs can drive a transition between the fixed points! Here, we stimulate an E population for 1,000 ms applying OU inputs."
      ]
    },
    {
      "cell_type": "code",
      "metadata": {
        "cellView": "form",
        "execution": {
          "iopub.execute_input": "2021-06-25T15:15:14.019077Z",
          "iopub.status.busy": "2021-06-25T15:15:14.018084Z",
          "iopub.status.idle": "2021-06-25T15:15:14.266392Z",
          "shell.execute_reply": "2021-06-25T15:15:14.265575Z"
        },
        "id": "vKbW8_XM_b_8"
      },
      "source": [
        "# @title Simulation of an E population with OU inputs\n",
        "\n",
        "# @markdown Make sure you execute this cell to spot the Up-Down states!\n",
        "\n",
        "pars = default_pars_single(T=1000)\n",
        "pars['w'] = 5.0\n",
        "sig_ou = 0.7\n",
        "pars['tau_ou'] = 1.  # [ms]\n",
        "pars['I_ext'] = 0.56 + my_OU(pars, sig=sig_ou, myseed=2020)\n",
        "\n",
        "r = simulate_single(pars)\n",
        "\n",
        "plt.figure(figsize=(10, 4))\n",
        "plt.plot(pars['range_t'], r, 'b', alpha=0.8)\n",
        "plt.xlabel('t (ms)')\n",
        "plt.ylabel(r'$r(t)$')\n",
        "plt.show()"
      ],
      "execution_count": null,
      "outputs": []
    },
    {
      "cell_type": "code",
      "metadata": {
        "id": "kgglMUijB8H8"
      },
      "source": [
        ""
      ],
      "execution_count": null,
      "outputs": []
    }
  ]
}